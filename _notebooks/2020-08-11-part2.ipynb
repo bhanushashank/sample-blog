{
 "cells": [
  {
   "cell_type": "markdown",
   "id": "98380cd3",
   "metadata": {
    "papermill": {
     "duration": 0.040045,
     "end_time": "2022-10-30T00:52:18.588995",
     "exception": false,
     "start_time": "2022-10-30T00:52:18.548950",
     "status": "completed"
    },
    "tags": []
   },
   "source": [
    "# Distinguish Your Own Digits (DYOD)"
   ]
  },
  {
   "cell_type": "markdown",
   "id": "ef31240d",
   "metadata": {
    "papermill": {
     "duration": 0.028328,
     "end_time": "2022-10-30T00:52:18.651772",
     "exception": false,
     "start_time": "2022-10-30T00:52:18.623444",
     "status": "completed"
    },
    "tags": []
   },
   "source": [
    "You are going to write a classifier that distinguishes between the number 3 and number 8."
   ]
  },
  {
   "cell_type": "code",
   "execution_count": 1,
   "id": "b15c8646",
   "metadata": {
    "execution": {
     "iopub.execute_input": "2022-10-30T00:52:18.721905Z",
     "iopub.status.busy": "2022-10-30T00:52:18.721057Z",
     "iopub.status.idle": "2022-10-30T00:52:18.737440Z",
     "shell.execute_reply": "2022-10-30T00:52:18.736856Z"
    },
    "papermill": {
     "duration": 0.058067,
     "end_time": "2022-10-30T00:52:18.737610",
     "exception": false,
     "start_time": "2022-10-30T00:52:18.679543",
     "status": "completed"
    },
    "tags": []
   },
   "outputs": [],
   "source": [
    "%load_ext autoreload\n",
    "%autoreload 2"
   ]
  },
  {
   "cell_type": "code",
   "execution_count": 2,
   "id": "22ef38dc",
   "metadata": {
    "execution": {
     "iopub.execute_input": "2022-10-30T00:52:18.802687Z",
     "iopub.status.busy": "2022-10-30T00:52:18.801994Z",
     "iopub.status.idle": "2022-10-30T00:52:19.477438Z",
     "shell.execute_reply": "2022-10-30T00:52:19.476865Z"
    },
    "papermill": {
     "duration": 0.711229,
     "end_time": "2022-10-30T00:52:19.477602",
     "exception": false,
     "start_time": "2022-10-30T00:52:18.766373",
     "status": "completed"
    },
    "tags": []
   },
   "outputs": [],
   "source": [
    "%matplotlib inline\n",
    "import numpy as np\n",
    "import matplotlib.pyplot as plt\n",
    "import pandas as pd"
   ]
  },
  {
   "cell_type": "markdown",
   "id": "ba036198",
   "metadata": {
    "papermill": {
     "duration": 0.028095,
     "end_time": "2022-10-30T00:52:19.532936",
     "exception": false,
     "start_time": "2022-10-30T00:52:19.504841",
     "status": "completed"
    },
    "tags": []
   },
   "source": [
    "From the command line run `pip install mnist`. This is a library that will help you bring down the mnist dataset. If you run this from a notebook, you need to put  `!pip install mnist` in a cell by itself."
   ]
  },
  {
   "cell_type": "code",
   "execution_count": 3,
   "id": "bb6ad8a1",
   "metadata": {
    "execution": {
     "iopub.execute_input": "2022-10-30T00:52:19.595568Z",
     "iopub.status.busy": "2022-10-30T00:52:19.594881Z",
     "iopub.status.idle": "2022-10-30T00:52:21.537821Z",
     "shell.execute_reply": "2022-10-30T00:52:21.537181Z"
    },
    "papermill": {
     "duration": 1.977215,
     "end_time": "2022-10-30T00:52:21.537962",
     "exception": false,
     "start_time": "2022-10-30T00:52:19.560747",
     "status": "completed"
    },
    "tags": []
   },
   "outputs": [
    {
     "name": "stdout",
     "output_type": "stream",
     "text": [
      "Collecting mnist\r\n"
     ]
    },
    {
     "name": "stdout",
     "output_type": "stream",
     "text": [
      "  Downloading mnist-0.2.2-py2.py3-none-any.whl (3.5 kB)\r\n",
      "Requirement already satisfied: numpy in /opt/hostedtoolcache/Python/3.6.15/x64/lib/python3.6/site-packages (from mnist) (1.19.5)\r\n"
     ]
    },
    {
     "name": "stdout",
     "output_type": "stream",
     "text": [
      "Installing collected packages: mnist\r\n"
     ]
    },
    {
     "name": "stdout",
     "output_type": "stream",
     "text": [
      "Successfully installed mnist-0.2.2\r\n"
     ]
    }
   ],
   "source": [
    "!pip install mnist"
   ]
  },
  {
   "cell_type": "markdown",
   "id": "69df9c9a",
   "metadata": {
    "papermill": {
     "duration": 0.029628,
     "end_time": "2022-10-30T00:52:21.597983",
     "exception": false,
     "start_time": "2022-10-30T00:52:21.568355",
     "status": "completed"
    },
    "tags": []
   },
   "source": [
    "## Preparing the Data"
   ]
  },
  {
   "cell_type": "code",
   "execution_count": 4,
   "id": "7f69d806",
   "metadata": {
    "execution": {
     "iopub.execute_input": "2022-10-30T00:52:21.675884Z",
     "iopub.status.busy": "2022-10-30T00:52:21.665968Z",
     "iopub.status.idle": "2022-10-30T00:52:21.682574Z",
     "shell.execute_reply": "2022-10-30T00:52:21.683211Z"
    },
    "papermill": {
     "duration": 0.056202,
     "end_time": "2022-10-30T00:52:21.683368",
     "exception": false,
     "start_time": "2022-10-30T00:52:21.627166",
     "status": "completed"
    },
    "tags": []
   },
   "outputs": [],
   "source": [
    "import mnist"
   ]
  },
  {
   "cell_type": "code",
   "execution_count": 5,
   "id": "a411e44f",
   "metadata": {
    "execution": {
     "iopub.execute_input": "2022-10-30T00:52:21.748202Z",
     "iopub.status.busy": "2022-10-30T00:52:21.747522Z",
     "iopub.status.idle": "2022-10-30T00:52:22.322975Z",
     "shell.execute_reply": "2022-10-30T00:52:22.322072Z"
    },
    "papermill": {
     "duration": 0.609406,
     "end_time": "2022-10-30T00:52:22.323131",
     "exception": false,
     "start_time": "2022-10-30T00:52:21.713725",
     "status": "completed"
    },
    "tags": []
   },
   "outputs": [],
   "source": [
    "train_images = mnist.train_images()\n",
    "train_labels = mnist.train_labels()"
   ]
  },
  {
   "cell_type": "code",
   "execution_count": 6,
   "id": "dceab3a5",
   "metadata": {
    "execution": {
     "iopub.execute_input": "2022-10-30T00:52:22.388993Z",
     "iopub.status.busy": "2022-10-30T00:52:22.388216Z",
     "iopub.status.idle": "2022-10-30T00:52:22.407802Z",
     "shell.execute_reply": "2022-10-30T00:52:22.407243Z"
    },
    "papermill": {
     "duration": 0.053348,
     "end_time": "2022-10-30T00:52:22.407936",
     "exception": false,
     "start_time": "2022-10-30T00:52:22.354588",
     "status": "completed"
    },
    "tags": []
   },
   "outputs": [
    {
     "data": {
      "text/plain": [
       "((60000, 28, 28), (60000,))"
      ]
     },
     "execution_count": 6,
     "metadata": {},
     "output_type": "execute_result"
    }
   ],
   "source": [
    "train_images.shape, train_labels.shape"
   ]
  },
  {
   "cell_type": "code",
   "execution_count": 7,
   "id": "f50dc2bb",
   "metadata": {
    "execution": {
     "iopub.execute_input": "2022-10-30T00:52:22.480179Z",
     "iopub.status.busy": "2022-10-30T00:52:22.479488Z",
     "iopub.status.idle": "2022-10-30T00:52:22.605255Z",
     "shell.execute_reply": "2022-10-30T00:52:22.604109Z"
    },
    "papermill": {
     "duration": 0.165235,
     "end_time": "2022-10-30T00:52:22.605530",
     "exception": false,
     "start_time": "2022-10-30T00:52:22.440295",
     "status": "completed"
    },
    "tags": []
   },
   "outputs": [],
   "source": [
    "test_images = mnist.test_images()\n",
    "test_labels = mnist.test_labels()"
   ]
  },
  {
   "cell_type": "code",
   "execution_count": 8,
   "id": "fc38cf1b",
   "metadata": {
    "execution": {
     "iopub.execute_input": "2022-10-30T00:52:22.674710Z",
     "iopub.status.busy": "2022-10-30T00:52:22.674014Z",
     "iopub.status.idle": "2022-10-30T00:52:22.691814Z",
     "shell.execute_reply": "2022-10-30T00:52:22.691260Z"
    },
    "papermill": {
     "duration": 0.053071,
     "end_time": "2022-10-30T00:52:22.691946",
     "exception": false,
     "start_time": "2022-10-30T00:52:22.638875",
     "status": "completed"
    },
    "tags": []
   },
   "outputs": [
    {
     "data": {
      "text/plain": [
       "((10000, 28, 28), (10000,))"
      ]
     },
     "execution_count": 8,
     "metadata": {},
     "output_type": "execute_result"
    }
   ],
   "source": [
    "test_images.shape, test_labels.shape"
   ]
  },
  {
   "cell_type": "code",
   "execution_count": 9,
   "id": "f9ed8fe0",
   "metadata": {
    "execution": {
     "iopub.execute_input": "2022-10-30T00:52:22.763586Z",
     "iopub.status.busy": "2022-10-30T00:52:22.762886Z",
     "iopub.status.idle": "2022-10-30T00:52:22.936988Z",
     "shell.execute_reply": "2022-10-30T00:52:22.937955Z"
    },
    "papermill": {
     "duration": 0.21094,
     "end_time": "2022-10-30T00:52:22.938204",
     "exception": false,
     "start_time": "2022-10-30T00:52:22.727264",
     "status": "completed"
    },
    "tags": []
   },
   "outputs": [
    {
     "name": "stdout",
     "output_type": "stream",
     "text": [
      "2\n"
     ]
    },
    {
     "data": {
      "text/plain": [
       "<matplotlib.image.AxesImage at 0x7fdc0e7d4cc0>"
      ]
     },
     "execution_count": 9,
     "metadata": {},
     "output_type": "execute_result"
    },
    {
     "data": {
      "image/png": "[encoded data removed]",
      "text/plain": [
       "<Figure size 432x288 with 1 Axes>"
      ]
     },
     "metadata": {
      "needs_background": "light"
     },
     "output_type": "display_data"
    }
   ],
   "source": [
    "image_index = 7776 # You may select anything up to 60,000\n",
    "print(train_labels[image_index]) \n",
    "plt.imshow(train_images[image_index], cmap='Greys')"
   ]
  },
  {
   "cell_type": "markdown",
   "id": "a8d2388d",
   "metadata": {
    "papermill": {
     "duration": 0.030315,
     "end_time": "2022-10-30T00:52:23.001691",
     "exception": false,
     "start_time": "2022-10-30T00:52:22.971376",
     "status": "completed"
    },
    "tags": []
   },
   "source": [
    "## Filter data to get 3 and 8 out"
   ]
  },
  {
   "cell_type": "code",
   "execution_count": 10,
   "id": "776f7fc7",
   "metadata": {
    "execution": {
     "iopub.execute_input": "2022-10-30T00:52:23.067346Z",
     "iopub.status.busy": "2022-10-30T00:52:23.066523Z",
     "iopub.status.idle": "2022-10-30T00:52:23.090418Z",
     "shell.execute_reply": "2022-10-30T00:52:23.089248Z"
    },
    "papermill": {
     "duration": 0.058762,
     "end_time": "2022-10-30T00:52:23.090566",
     "exception": false,
     "start_time": "2022-10-30T00:52:23.031804",
     "status": "completed"
    },
    "tags": []
   },
   "outputs": [],
   "source": [
    "train_filter = np.where((train_labels == 3 ) | (train_labels == 8))\n",
    "test_filter = np.where((test_labels == 3) | (test_labels == 8))\n",
    "X_train, y_train = train_images[train_filter], train_labels[train_filter]\n",
    "X_test, y_test = test_images[test_filter], test_labels[test_filter]"
   ]
  },
  {
   "cell_type": "markdown",
   "id": "948f0b7e",
   "metadata": {
    "papermill": {
     "duration": 0.031426,
     "end_time": "2022-10-30T00:52:23.153251",
     "exception": false,
     "start_time": "2022-10-30T00:52:23.121825",
     "status": "completed"
    },
    "tags": []
   },
   "source": [
    "We normalize the pizel values in the 0 to 1 range"
   ]
  },
  {
   "cell_type": "code",
   "execution_count": 11,
   "id": "ee4c2166",
   "metadata": {
    "execution": {
     "iopub.execute_input": "2022-10-30T00:52:23.219166Z",
     "iopub.status.busy": "2022-10-30T00:52:23.218454Z",
     "iopub.status.idle": "2022-10-30T00:52:23.275771Z",
     "shell.execute_reply": "2022-10-30T00:52:23.274761Z"
    },
    "papermill": {
     "duration": 0.091968,
     "end_time": "2022-10-30T00:52:23.275984",
     "exception": false,
     "start_time": "2022-10-30T00:52:23.184016",
     "status": "completed"
    },
    "tags": []
   },
   "outputs": [],
   "source": [
    "X_train = X_train/255.\n",
    "X_test = X_test/255."
   ]
  },
  {
   "cell_type": "markdown",
   "id": "ddcf4fab",
   "metadata": {
    "papermill": {
     "duration": 0.030769,
     "end_time": "2022-10-30T00:52:23.342429",
     "exception": false,
     "start_time": "2022-10-30T00:52:23.311660",
     "status": "completed"
    },
    "tags": []
   },
   "source": [
    "And setup the labels as 1 (when the digit is 3) and 0 (when the digit is 8)"
   ]
  },
  {
   "cell_type": "code",
   "execution_count": 12,
   "id": "7dc908f2",
   "metadata": {
    "execution": {
     "iopub.execute_input": "2022-10-30T00:52:23.418015Z",
     "iopub.status.busy": "2022-10-30T00:52:23.417238Z",
     "iopub.status.idle": "2022-10-30T00:52:23.435151Z",
     "shell.execute_reply": "2022-10-30T00:52:23.434586Z"
    },
    "papermill": {
     "duration": 0.055601,
     "end_time": "2022-10-30T00:52:23.435287",
     "exception": false,
     "start_time": "2022-10-30T00:52:23.379686",
     "status": "completed"
    },
    "tags": []
   },
   "outputs": [],
   "source": [
    "y_train = 1*(y_train==3)\n",
    "y_test = 1*(y_test==3)"
   ]
  },
  {
   "cell_type": "code",
   "execution_count": 13,
   "id": "01e4e969",
   "metadata": {
    "execution": {
     "iopub.execute_input": "2022-10-30T00:52:23.501759Z",
     "iopub.status.busy": "2022-10-30T00:52:23.501023Z",
     "iopub.status.idle": "2022-10-30T00:52:23.518148Z",
     "shell.execute_reply": "2022-10-30T00:52:23.518789Z"
    },
    "papermill": {
     "duration": 0.053269,
     "end_time": "2022-10-30T00:52:23.518942",
     "exception": false,
     "start_time": "2022-10-30T00:52:23.465673",
     "status": "completed"
    },
    "tags": []
   },
   "outputs": [
    {
     "data": {
      "text/plain": [
       "((11982, 28, 28), (1984, 28, 28))"
      ]
     },
     "execution_count": 13,
     "metadata": {},
     "output_type": "execute_result"
    }
   ],
   "source": [
    "X_train.shape, X_test.shape"
   ]
  },
  {
   "cell_type": "markdown",
   "id": "5ccf3f85",
   "metadata": {
    "papermill": {
     "duration": 0.030184,
     "end_time": "2022-10-30T00:52:23.579273",
     "exception": false,
     "start_time": "2022-10-30T00:52:23.549089",
     "status": "completed"
    },
    "tags": []
   },
   "source": [
    "We reshape the data to flatten the image pixels into a set of features or co-variates:"
   ]
  },
  {
   "cell_type": "code",
   "execution_count": 14,
   "id": "5286a4a3",
   "metadata": {
    "execution": {
     "iopub.execute_input": "2022-10-30T00:52:23.645690Z",
     "iopub.status.busy": "2022-10-30T00:52:23.644945Z",
     "iopub.status.idle": "2022-10-30T00:52:23.662196Z",
     "shell.execute_reply": "2022-10-30T00:52:23.661602Z"
    },
    "papermill": {
     "duration": 0.053033,
     "end_time": "2022-10-30T00:52:23.662505",
     "exception": false,
     "start_time": "2022-10-30T00:52:23.609472",
     "status": "completed"
    },
    "tags": []
   },
   "outputs": [
    {
     "data": {
      "text/plain": [
       "((11982, 784), (1984, 784))"
      ]
     },
     "execution_count": 14,
     "metadata": {},
     "output_type": "execute_result"
    }
   ],
   "source": [
    "X_train = X_train.reshape(X_train.shape[0], -1)\n",
    "X_test = X_test.reshape(X_test.shape[0], -1)\n",
    "X_train.shape, X_test.shape"
   ]
  },
  {
   "cell_type": "code",
   "execution_count": 15,
   "id": "73c5f88a",
   "metadata": {
    "execution": {
     "iopub.execute_input": "2022-10-30T00:52:23.727509Z",
     "iopub.status.busy": "2022-10-30T00:52:23.726776Z",
     "iopub.status.idle": "2022-10-30T00:52:23.752262Z",
     "shell.execute_reply": "2022-10-30T00:52:23.751458Z"
    },
    "papermill": {
     "duration": 0.059677,
     "end_time": "2022-10-30T00:52:23.752439",
     "exception": false,
     "start_time": "2022-10-30T00:52:23.692762",
     "status": "completed"
    },
    "tags": []
   },
   "outputs": [],
   "source": [
    "#Impoting functions from 'Kudzu'\n",
    "from kudzu.model import Model\n",
    "from kudzu.train import Learner\n",
    "from kudzu.optim import GD\n",
    "from kudzu.data import Data, Sampler,Dataloader\n",
    "\n",
    "from kudzu.callbacks import AccCallback\n",
    "from kudzu.callbacks import ClfCallback\n",
    "\n",
    "from kudzu.loss import MSE\n",
    "\n",
    "from kudzu.layer import Sigmoid,Relu\n",
    "from kudzu.layer import Affine"
   ]
  },
  {
   "cell_type": "markdown",
   "id": "bc01172a",
   "metadata": {
    "papermill": {
     "duration": 0.030259,
     "end_time": "2022-10-30T00:52:23.814346",
     "exception": false,
     "start_time": "2022-10-30T00:52:23.784087",
     "status": "completed"
    },
    "tags": []
   },
   "source": [
    "### Let us create a `Config` class, to store important parameters. \n",
    "This class essentially plays the role of a dictionary."
   ]
  },
  {
   "cell_type": "code",
   "execution_count": 16,
   "id": "978281aa",
   "metadata": {
    "execution": {
     "iopub.execute_input": "2022-10-30T00:52:23.880061Z",
     "iopub.status.busy": "2022-10-30T00:52:23.879365Z",
     "iopub.status.idle": "2022-10-30T00:52:23.898083Z",
     "shell.execute_reply": "2022-10-30T00:52:23.897499Z"
    },
    "papermill": {
     "duration": 0.053861,
     "end_time": "2022-10-30T00:52:23.898214",
     "exception": false,
     "start_time": "2022-10-30T00:52:23.844353",
     "status": "completed"
    },
    "tags": []
   },
   "outputs": [],
   "source": [
    "class Config:\n",
    "    pass\n",
    "config = Config()\n",
    "config.lr = 0.001\n",
    "config.num_epochs = 250\n",
    "config.bs = 50"
   ]
  },
  {
   "cell_type": "markdown",
   "id": "1385fa59",
   "metadata": {
    "papermill": {
     "duration": 0.030388,
     "end_time": "2022-10-30T00:52:23.959225",
     "exception": false,
     "start_time": "2022-10-30T00:52:23.928837",
     "status": "completed"
    },
    "tags": []
   },
   "source": [
    "### Running Models with the Training data\n",
    "Details about the network layers:\n",
    "- A first affine layer has 784 inputs and does 100 affine transforms. These are followed by a Relu\n",
    "- A second affine layer has 100 inputs from the 100 activations of the past layer, and does 100 affine transforms. These are followed by a Relu\n",
    "- A third affine layer has 100 activations and does 2 affine transformations to create an embedding for visualization. There is no non-linearity here.\n",
    "- A final \"logistic regression\" which has an affine transform from 2 inputs to 1 output, which is squeezed through a sigmoid.\n"
   ]
  },
  {
   "cell_type": "code",
   "execution_count": 17,
   "id": "2b9c66db",
   "metadata": {
    "execution": {
     "iopub.execute_input": "2022-10-30T00:52:24.026318Z",
     "iopub.status.busy": "2022-10-30T00:52:24.025638Z",
     "iopub.status.idle": "2022-10-30T00:52:24.039036Z",
     "shell.execute_reply": "2022-10-30T00:52:24.039559Z"
    },
    "papermill": {
     "duration": 0.050285,
     "end_time": "2022-10-30T00:52:24.039707",
     "exception": false,
     "start_time": "2022-10-30T00:52:23.989422",
     "status": "completed"
    },
    "tags": []
   },
   "outputs": [],
   "source": [
    "data = Data(X_train, y_train.reshape(-1,1))\n",
    "sampler = Sampler(data, config.bs, shuffle=True)\n",
    "\n",
    "dl = Dataloader(data, sampler)\n",
    "\n",
    "opt = GD(config.lr)\n",
    "loss = MSE()"
   ]
  },
  {
   "cell_type": "code",
   "execution_count": 18,
   "id": "b275e4c2",
   "metadata": {
    "execution": {
     "iopub.execute_input": "2022-10-30T00:52:24.106667Z",
     "iopub.status.busy": "2022-10-30T00:52:24.105791Z",
     "iopub.status.idle": "2022-10-30T00:52:24.119842Z",
     "shell.execute_reply": "2022-10-30T00:52:24.119155Z"
    },
    "papermill": {
     "duration": 0.04993,
     "end_time": "2022-10-30T00:52:24.120282",
     "exception": false,
     "start_time": "2022-10-30T00:52:24.070352",
     "status": "completed"
    },
    "tags": []
   },
   "outputs": [],
   "source": [
    "training_data_x = X_train\n",
    "testing_data_x = X_test\n",
    "training_data_y = y_train.reshape(-1,1)\n",
    "testing_data_y = y_test.reshape(-1,1)"
   ]
  },
  {
   "cell_type": "code",
   "execution_count": 19,
   "id": "76951160",
   "metadata": {
    "execution": {
     "iopub.execute_input": "2022-10-30T00:52:24.199471Z",
     "iopub.status.busy": "2022-10-30T00:52:24.198604Z",
     "iopub.status.idle": "2022-10-30T00:52:24.219766Z",
     "shell.execute_reply": "2022-10-30T00:52:24.220291Z"
    },
    "papermill": {
     "duration": 0.065061,
     "end_time": "2022-10-30T00:52:24.220447",
     "exception": false,
     "start_time": "2022-10-30T00:52:24.155386",
     "status": "completed"
    },
    "tags": []
   },
   "outputs": [
    {
     "name": "stdout",
     "output_type": "stream",
     "text": [
      "xavier\n",
      "xavier\n",
      "xavier\n",
      "xavier\n",
      "xavier\n"
     ]
    }
   ],
   "source": [
    "layers = [Affine(\"first\", 784, 100), Relu(\"first\"), Affine(\"second\", 100, 100), Relu(\"second\"), Affine(\"third\", 100, 2), Affine(\"last\", 2, 1), Sigmoid(\"last\")]\n",
    "model_nn = Model(layers)\n",
    "model_lr = Model([Affine(\"logits\", 784, 1), Sigmoid(\"sigmoid\")])"
   ]
  },
  {
   "cell_type": "code",
   "execution_count": 20,
   "id": "6eede77a",
   "metadata": {
    "execution": {
     "iopub.execute_input": "2022-10-30T00:52:24.297968Z",
     "iopub.status.busy": "2022-10-30T00:52:24.297267Z",
     "iopub.status.idle": "2022-10-30T00:52:24.311999Z",
     "shell.execute_reply": "2022-10-30T00:52:24.311426Z"
    },
    "papermill": {
     "duration": 0.0589,
     "end_time": "2022-10-30T00:52:24.312128",
     "exception": false,
     "start_time": "2022-10-30T00:52:24.253228",
     "status": "completed"
    },
    "tags": []
   },
   "outputs": [],
   "source": [
    "nn_learner = Learner(loss, model_nn, opt, config.num_epochs)\n",
    "acc_nn = ClfCallback(nn_learner, config.bs, training_data_x , testing_data_x, training_data_y, testing_data_y)\n",
    "nn_learner.set_callbacks([acc_nn])"
   ]
  },
  {
   "cell_type": "code",
   "execution_count": 21,
   "id": "877b6cc7",
   "metadata": {
    "execution": {
     "iopub.execute_input": "2022-10-30T00:52:24.377878Z",
     "iopub.status.busy": "2022-10-30T00:52:24.377149Z",
     "iopub.status.idle": "2022-10-30T00:52:24.391201Z",
     "shell.execute_reply": "2022-10-30T00:52:24.391708Z"
    },
    "papermill": {
     "duration": 0.049092,
     "end_time": "2022-10-30T00:52:24.391845",
     "exception": false,
     "start_time": "2022-10-30T00:52:24.342753",
     "status": "completed"
    },
    "tags": []
   },
   "outputs": [],
   "source": [
    "lr_learner = Learner(loss, model_lr, opt, config.num_epochs)\n",
    "acc_lr = ClfCallback(lr_learner, config.bs, training_data_x , testing_data_x, training_data_y, testing_data_y)\n",
    "lr_learner.set_callbacks([acc_lr])"
   ]
  },
  {
   "cell_type": "code",
   "execution_count": 22,
   "id": "d9b133c3",
   "metadata": {
    "execution": {
     "iopub.execute_input": "2022-10-30T00:52:24.460362Z",
     "iopub.status.busy": "2022-10-30T00:52:24.459682Z",
     "iopub.status.idle": "2022-10-30T00:53:52.297329Z",
     "shell.execute_reply": "2022-10-30T00:53:52.298326Z"
    },
    "papermill": {
     "duration": 87.875599,
     "end_time": "2022-10-30T00:53:52.298492",
     "exception": false,
     "start_time": "2022-10-30T00:52:24.422893",
     "status": "completed"
    },
    "tags": []
   },
   "outputs": [
    {
     "name": "stdout",
     "output_type": "stream",
     "text": [
      "Epoch 0, Loss 0.2606\n",
      "Training Accuracy: 0.4897, Testing Accuracy: 0.4904\n",
      "\n"
     ]
    },
    {
     "name": "stdout",
     "output_type": "stream",
     "text": [
      "Epoch 10, Loss 0.1575\n",
      "Training Accuracy: 0.8973, Testing Accuracy: 0.9057\n",
      "\n"
     ]
    },
    {
     "name": "stdout",
     "output_type": "stream",
     "text": [
      "Epoch 20, Loss 0.0778\n",
      "Training Accuracy: 0.9276, Testing Accuracy: 0.9335\n",
      "\n"
     ]
    },
    {
     "name": "stdout",
     "output_type": "stream",
     "text": [
      "Epoch 30, Loss 0.0549\n",
      "Training Accuracy: 0.9428, Testing Accuracy: 0.9496\n",
      "\n"
     ]
    },
    {
     "name": "stdout",
     "output_type": "stream",
     "text": [
      "Epoch 40, Loss 0.0451\n",
      "Training Accuracy: 0.9504, Testing Accuracy: 0.9551\n",
      "\n"
     ]
    },
    {
     "name": "stdout",
     "output_type": "stream",
     "text": [
      "Epoch 50, Loss 0.0397\n",
      "Training Accuracy: 0.9569, Testing Accuracy: 0.9587\n",
      "\n"
     ]
    },
    {
     "name": "stdout",
     "output_type": "stream",
     "text": [
      "Epoch 60, Loss 0.0363\n",
      "Training Accuracy: 0.9602, Testing Accuracy: 0.9612\n",
      "\n"
     ]
    },
    {
     "name": "stdout",
     "output_type": "stream",
     "text": [
      "Epoch 70, Loss 0.0338\n",
      "Training Accuracy: 0.9622, Testing Accuracy: 0.9642\n",
      "\n"
     ]
    },
    {
     "name": "stdout",
     "output_type": "stream",
     "text": [
      "Epoch 80, Loss 0.0319\n",
      "Training Accuracy: 0.9636, Testing Accuracy: 0.9652\n",
      "\n"
     ]
    },
    {
     "name": "stdout",
     "output_type": "stream",
     "text": [
      "Epoch 90, Loss 0.0304\n",
      "Training Accuracy: 0.9648, Testing Accuracy: 0.9662\n",
      "\n"
     ]
    },
    {
     "name": "stdout",
     "output_type": "stream",
     "text": [
      "Epoch 100, Loss 0.0292\n",
      "Training Accuracy: 0.9662, Testing Accuracy: 0.9657\n",
      "\n"
     ]
    },
    {
     "name": "stdout",
     "output_type": "stream",
     "text": [
      "Epoch 110, Loss 0.0281\n",
      "Training Accuracy: 0.9675, Testing Accuracy: 0.9652\n",
      "\n"
     ]
    },
    {
     "name": "stdout",
     "output_type": "stream",
     "text": [
      "Epoch 120, Loss 0.0272\n",
      "Training Accuracy: 0.9681, Testing Accuracy: 0.9667\n",
      "\n"
     ]
    },
    {
     "name": "stdout",
     "output_type": "stream",
     "text": [
      "Epoch 130, Loss 0.0263\n",
      "Training Accuracy: 0.9693, Testing Accuracy: 0.9677\n",
      "\n"
     ]
    },
    {
     "name": "stdout",
     "output_type": "stream",
     "text": [
      "Epoch 140, Loss 0.0256\n",
      "Training Accuracy: 0.9698, Testing Accuracy: 0.9677\n",
      "\n"
     ]
    },
    {
     "name": "stdout",
     "output_type": "stream",
     "text": [
      "Epoch 150, Loss 0.0249\n",
      "Training Accuracy: 0.9705, Testing Accuracy: 0.9688\n",
      "\n"
     ]
    },
    {
     "name": "stdout",
     "output_type": "stream",
     "text": [
      "Epoch 160, Loss 0.0243\n",
      "Training Accuracy: 0.9712, Testing Accuracy: 0.9693\n",
      "\n"
     ]
    },
    {
     "name": "stdout",
     "output_type": "stream",
     "text": [
      "Epoch 170, Loss 0.0237\n",
      "Training Accuracy: 0.9725, Testing Accuracy: 0.9693\n",
      "\n"
     ]
    },
    {
     "name": "stdout",
     "output_type": "stream",
     "text": [
      "Epoch 180, Loss 0.0231\n",
      "Training Accuracy: 0.9734, Testing Accuracy: 0.9698\n",
      "\n"
     ]
    },
    {
     "name": "stdout",
     "output_type": "stream",
     "text": [
      "Epoch 190, Loss 0.0226\n",
      "Training Accuracy: 0.9743, Testing Accuracy: 0.9703\n",
      "\n"
     ]
    },
    {
     "name": "stdout",
     "output_type": "stream",
     "text": [
      "Epoch 200, Loss 0.0221\n",
      "Training Accuracy: 0.9748, Testing Accuracy: 0.9693\n",
      "\n"
     ]
    },
    {
     "name": "stdout",
     "output_type": "stream",
     "text": [
      "Epoch 210, Loss 0.0216\n",
      "Training Accuracy: 0.9750, Testing Accuracy: 0.9693\n",
      "\n"
     ]
    },
    {
     "name": "stdout",
     "output_type": "stream",
     "text": [
      "Epoch 220, Loss 0.0212\n",
      "Training Accuracy: 0.9752, Testing Accuracy: 0.9698\n",
      "\n"
     ]
    },
    {
     "name": "stdout",
     "output_type": "stream",
     "text": [
      "Epoch 230, Loss 0.0208\n",
      "Training Accuracy: 0.9760, Testing Accuracy: 0.9698\n",
      "\n"
     ]
    },
    {
     "name": "stdout",
     "output_type": "stream",
     "text": [
      "Epoch 240, Loss 0.0204\n",
      "Training Accuracy: 0.9766, Testing Accuracy: 0.9703\n",
      "\n"
     ]
    },
    {
     "data": {
      "text/plain": [
       "0.03194243063480531"
      ]
     },
     "execution_count": 22,
     "metadata": {},
     "output_type": "execute_result"
    }
   ],
   "source": [
    "nn_learner.train_loop(dl)"
   ]
  },
  {
   "cell_type": "code",
   "execution_count": 23,
   "id": "e0163366",
   "metadata": {
    "execution": {
     "iopub.execute_input": "2022-10-30T00:53:52.387981Z",
     "iopub.status.busy": "2022-10-30T00:53:52.387303Z",
     "iopub.status.idle": "2022-10-30T00:54:07.937010Z",
     "shell.execute_reply": "2022-10-30T00:54:07.938018Z"
    },
    "papermill": {
     "duration": 15.598596,
     "end_time": "2022-10-30T00:54:07.938185",
     "exception": false,
     "start_time": "2022-10-30T00:53:52.339589",
     "status": "completed"
    },
    "tags": []
   },
   "outputs": [
    {
     "name": "stdout",
     "output_type": "stream",
     "text": [
      "Epoch 0, Loss 0.2475\n",
      "Training Accuracy: 0.6502, Testing Accuracy: 0.6865\n",
      "\n"
     ]
    },
    {
     "name": "stdout",
     "output_type": "stream",
     "text": [
      "Epoch 10, Loss 0.1051\n",
      "Training Accuracy: 0.9077, Testing Accuracy: 0.9173\n",
      "\n"
     ]
    },
    {
     "name": "stdout",
     "output_type": "stream",
     "text": [
      "Epoch 20, Loss 0.0799\n",
      "Training Accuracy: 0.9276, Testing Accuracy: 0.9395\n",
      "\n"
     ]
    },
    {
     "name": "stdout",
     "output_type": "stream",
     "text": [
      "Epoch 30, Loss 0.0685\n",
      "Training Accuracy: 0.9354, Testing Accuracy: 0.9496\n",
      "\n"
     ]
    },
    {
     "name": "stdout",
     "output_type": "stream",
     "text": [
      "Epoch 40, Loss 0.0617\n",
      "Training Accuracy: 0.9415, Testing Accuracy: 0.9546\n",
      "\n"
     ]
    },
    {
     "name": "stdout",
     "output_type": "stream",
     "text": [
      "Epoch 50, Loss 0.0572\n",
      "Training Accuracy: 0.9445, Testing Accuracy: 0.9556\n",
      "\n"
     ]
    },
    {
     "name": "stdout",
     "output_type": "stream",
     "text": [
      "Epoch 60, Loss 0.0538\n",
      "Training Accuracy: 0.9480, Testing Accuracy: 0.9587\n",
      "\n"
     ]
    },
    {
     "name": "stdout",
     "output_type": "stream",
     "text": [
      "Epoch 70, Loss 0.0512\n",
      "Training Accuracy: 0.9497, Testing Accuracy: 0.9592\n",
      "\n"
     ]
    },
    {
     "name": "stdout",
     "output_type": "stream",
     "text": [
      "Epoch 80, Loss 0.0492\n",
      "Training Accuracy: 0.9511, Testing Accuracy: 0.9597\n",
      "\n"
     ]
    },
    {
     "name": "stdout",
     "output_type": "stream",
     "text": [
      "Epoch 90, Loss 0.0475\n",
      "Training Accuracy: 0.9531, Testing Accuracy: 0.9587\n",
      "\n"
     ]
    },
    {
     "name": "stdout",
     "output_type": "stream",
     "text": [
      "Epoch 100, Loss 0.0461\n",
      "Training Accuracy: 0.9540, Testing Accuracy: 0.9607\n",
      "\n"
     ]
    },
    {
     "name": "stdout",
     "output_type": "stream",
     "text": [
      "Epoch 110, Loss 0.0448\n",
      "Training Accuracy: 0.9545, Testing Accuracy: 0.9617\n",
      "\n"
     ]
    },
    {
     "name": "stdout",
     "output_type": "stream",
     "text": [
      "Epoch 120, Loss 0.0438\n",
      "Training Accuracy: 0.9552, Testing Accuracy: 0.9627\n",
      "\n"
     ]
    },
    {
     "name": "stdout",
     "output_type": "stream",
     "text": [
      "Epoch 130, Loss 0.0428\n",
      "Training Accuracy: 0.9561, Testing Accuracy: 0.9642\n",
      "\n"
     ]
    },
    {
     "name": "stdout",
     "output_type": "stream",
     "text": [
      "Epoch 140, Loss 0.042\n",
      "Training Accuracy: 0.9569, Testing Accuracy: 0.9647\n",
      "\n"
     ]
    },
    {
     "name": "stdout",
     "output_type": "stream",
     "text": [
      "Epoch 150, Loss 0.0413\n",
      "Training Accuracy: 0.9571, Testing Accuracy: 0.9647\n",
      "\n"
     ]
    },
    {
     "name": "stdout",
     "output_type": "stream",
     "text": [
      "Epoch 160, Loss 0.0406\n",
      "Training Accuracy: 0.9579, Testing Accuracy: 0.9652\n",
      "\n"
     ]
    },
    {
     "name": "stdout",
     "output_type": "stream",
     "text": [
      "Epoch 170, Loss 0.04\n",
      "Training Accuracy: 0.9586, Testing Accuracy: 0.9652\n",
      "\n"
     ]
    },
    {
     "name": "stdout",
     "output_type": "stream",
     "text": [
      "Epoch 180, Loss 0.0394\n",
      "Training Accuracy: 0.9592, Testing Accuracy: 0.9662\n",
      "\n"
     ]
    },
    {
     "name": "stdout",
     "output_type": "stream",
     "text": [
      "Epoch 190, Loss 0.0389\n",
      "Training Accuracy: 0.9595, Testing Accuracy: 0.9662\n",
      "\n"
     ]
    },
    {
     "name": "stdout",
     "output_type": "stream",
     "text": [
      "Epoch 200, Loss 0.0384\n",
      "Training Accuracy: 0.9596, Testing Accuracy: 0.9662\n",
      "\n"
     ]
    },
    {
     "name": "stdout",
     "output_type": "stream",
     "text": [
      "Epoch 210, Loss 0.038\n",
      "Training Accuracy: 0.9601, Testing Accuracy: 0.9672\n",
      "\n"
     ]
    },
    {
     "name": "stdout",
     "output_type": "stream",
     "text": [
      "Epoch 220, Loss 0.0376\n",
      "Training Accuracy: 0.9604, Testing Accuracy: 0.9672\n",
      "\n"
     ]
    },
    {
     "name": "stdout",
     "output_type": "stream",
     "text": [
      "Epoch 230, Loss 0.0372\n",
      "Training Accuracy: 0.9604, Testing Accuracy: 0.9672\n",
      "\n"
     ]
    },
    {
     "name": "stdout",
     "output_type": "stream",
     "text": [
      "Epoch 240, Loss 0.0368\n",
      "Training Accuracy: 0.9606, Testing Accuracy: 0.9672\n",
      "\n"
     ]
    },
    {
     "data": {
      "text/plain": [
       "0.03356479456690814"
      ]
     },
     "execution_count": 23,
     "metadata": {},
     "output_type": "execute_result"
    }
   ],
   "source": [
    "lr_learner.train_loop(dl)"
   ]
  },
  {
   "cell_type": "code",
   "execution_count": 24,
   "id": "ca410940",
   "metadata": {
    "execution": {
     "iopub.execute_input": "2022-10-30T00:54:08.041480Z",
     "iopub.status.busy": "2022-10-30T00:54:08.040772Z",
     "iopub.status.idle": "2022-10-30T00:54:08.300995Z",
     "shell.execute_reply": "2022-10-30T00:54:08.301507Z"
    },
    "papermill": {
     "duration": 0.316945,
     "end_time": "2022-10-30T00:54:08.301674",
     "exception": false,
     "start_time": "2022-10-30T00:54:07.984729",
     "status": "completed"
    },
    "tags": []
   },
   "outputs": [
    {
     "data": {
      "text/plain": [
       "<matplotlib.legend.Legend at 0x7fdc0e341390>"
      ]
     },
     "execution_count": 24,
     "metadata": {},
     "output_type": "execute_result"
    },
    {
     "data": {
      "image/png": "[encoded data removed]",
      "text/plain": [
       "<Figure size 1080x720 with 1 Axes>"
      ]
     },
     "metadata": {
      "needs_background": "light"
     },
     "output_type": "display_data"
    }
   ],
   "source": [
    "#comparing the results of NN and LR\n",
    "plt.figure(figsize=(15,10))\n",
    "\n",
    "# Neural Network plots\n",
    "plt.plot(acc_nn.accuracies, 'r-', label = \"Training Accuracies - NN\")\n",
    "plt.plot(acc_nn.test_accuracies, 'g-', label = \"Testing Accuracies - NN\")\n",
    "\n",
    "# Logistic Regression plots\n",
    "plt.plot(acc_lr.accuracies, 'k-', label = \"Training Accuracies - LR\")\n",
    "plt.plot(acc_lr.test_accuracies, 'b-', label = \"Testing Accuracies - LR\")\n",
    "plt.legend()"
   ]
  },
  {
   "cell_type": "markdown",
   "id": "80dfb35c",
   "metadata": {
    "papermill": {
     "duration": 0.046559,
     "end_time": "2022-10-30T00:54:08.395137",
     "exception": false,
     "start_time": "2022-10-30T00:54:08.348578",
     "status": "completed"
    },
    "tags": []
   },
   "source": [
    "#### Plotting the outputs of this layer of the NN.\n"
   ]
  },
  {
   "cell_type": "code",
   "execution_count": 25,
   "id": "45eb2ff5",
   "metadata": {
    "execution": {
     "iopub.execute_input": "2022-10-30T00:54:08.496507Z",
     "iopub.status.busy": "2022-10-30T00:54:08.494759Z",
     "iopub.status.idle": "2022-10-30T00:54:08.521518Z",
     "shell.execute_reply": "2022-10-30T00:54:08.522145Z"
    },
    "papermill": {
     "duration": 0.080244,
     "end_time": "2022-10-30T00:54:08.522311",
     "exception": false,
     "start_time": "2022-10-30T00:54:08.442067",
     "status": "completed"
    },
    "tags": []
   },
   "outputs": [],
   "source": [
    "new_model = Model(layers[:-2])\n",
    "testing_plot = new_model(testing_data_x)"
   ]
  },
  {
   "cell_type": "code",
   "execution_count": 26,
   "id": "4c0a5485",
   "metadata": {
    "execution": {
     "iopub.execute_input": "2022-10-30T00:54:08.625234Z",
     "iopub.status.busy": "2022-10-30T00:54:08.624476Z",
     "iopub.status.idle": "2022-10-30T00:54:08.864630Z",
     "shell.execute_reply": "2022-10-30T00:54:08.865661Z"
    },
    "papermill": {
     "duration": 0.294803,
     "end_time": "2022-10-30T00:54:08.865835",
     "exception": false,
     "start_time": "2022-10-30T00:54:08.571032",
     "status": "completed"
    },
    "tags": []
   },
   "outputs": [
    {
     "data": {
      "text/plain": [
       "Text(0.5, 1.0, 'Outputs')"
      ]
     },
     "execution_count": 26,
     "metadata": {},
     "output_type": "execute_result"
    },
    {
     "data": {
      "image/png": "[encoded data removed]",
      "text/plain": [
       "<Figure size 576x504 with 1 Axes>"
      ]
     },
     "metadata": {
      "needs_background": "light"
     },
     "output_type": "display_data"
    }
   ],
   "source": [
    "# Plotting the scatter plot of points and color coding by class\n",
    "plt.figure(figsize=(8,7))\n",
    "plt.scatter(testing_plot[:,0], testing_plot[:,1], alpha = 0.1, c = y_test.ravel());\n",
    "plt.title('Outputs')"
   ]
  },
  {
   "cell_type": "markdown",
   "id": "a74fcf8f",
   "metadata": {
    "papermill": {
     "duration": 0.061092,
     "end_time": "2022-10-30T00:54:08.978589",
     "exception": false,
     "start_time": "2022-10-30T00:54:08.917497",
     "status": "completed"
    },
    "tags": []
   },
   "source": [
    "Probability contours"
   ]
  },
  {
   "cell_type": "code",
   "execution_count": 27,
   "id": "d0afc8e3",
   "metadata": {
    "execution": {
     "iopub.execute_input": "2022-10-30T00:54:09.126961Z",
     "iopub.status.busy": "2022-10-30T00:54:09.126278Z",
     "iopub.status.idle": "2022-10-30T00:54:09.146381Z",
     "shell.execute_reply": "2022-10-30T00:54:09.145779Z"
    },
    "papermill": {
     "duration": 0.075057,
     "end_time": "2022-10-30T00:54:09.146521",
     "exception": false,
     "start_time": "2022-10-30T00:54:09.071464",
     "status": "completed"
    },
    "tags": []
   },
   "outputs": [],
   "source": [
    "model_prob = Model(layers[-2:]) "
   ]
  },
  {
   "cell_type": "code",
   "execution_count": 28,
   "id": "9b96e238",
   "metadata": {
    "execution": {
     "iopub.execute_input": "2022-10-30T00:54:09.252250Z",
     "iopub.status.busy": "2022-10-30T00:54:09.251599Z",
     "iopub.status.idle": "2022-10-30T00:54:09.269010Z",
     "shell.execute_reply": "2022-10-30T00:54:09.269475Z"
    },
    "papermill": {
     "duration": 0.072878,
     "end_time": "2022-10-30T00:54:09.269653",
     "exception": false,
     "start_time": "2022-10-30T00:54:09.196775",
     "status": "completed"
    },
    "tags": []
   },
   "outputs": [],
   "source": [
    "#creating the x and y ranges according to the above generated plot.\n",
    "x_range = np.linspace(-4, 1, 100) \n",
    "y_range = np.linspace(-6, 6, 100) \n",
    "x_grid, y_grid = np.meshgrid(x_range, y_range) # x_grid and y_grig are of size 100 X 100\n",
    "\n",
    "# converting x_grid and y_grid to continuous arrays\n",
    "x_gridflat = np.ravel(x_grid)\n",
    "y_gridflat = np.ravel(y_grid)\n",
    "\n",
    "# The last layer of the current model takes two columns as input. Hence transpose of np.vstack() is required.\n",
    "X = np.vstack((x_gridflat, y_gridflat)).T\n",
    "\n",
    "prob_contour = model_prob(X).reshape(100,100) "
   ]
  },
  {
   "cell_type": "code",
   "execution_count": 29,
   "id": "da72499a",
   "metadata": {
    "execution": {
     "iopub.execute_input": "2022-10-30T00:54:09.374796Z",
     "iopub.status.busy": "2022-10-30T00:54:09.374146Z",
     "iopub.status.idle": "2022-10-30T00:54:09.685205Z",
     "shell.execute_reply": "2022-10-30T00:54:09.684505Z"
    },
    "papermill": {
     "duration": 0.365885,
     "end_time": "2022-10-30T00:54:09.685342",
     "exception": false,
     "start_time": "2022-10-30T00:54:09.319457",
     "status": "completed"
    },
    "tags": []
   },
   "outputs": [
    {
     "data": {
      "image/png": "[encoded data removed]",
      "text/plain": [
       "<Figure size 720x648 with 1 Axes>"
      ]
     },
     "metadata": {
      "needs_background": "light"
     },
     "output_type": "display_data"
    }
   ],
   "source": [
    "plt.figure(figsize=(10,9))\n",
    "plt.scatter(testing_plot[:,0], testing_plot[:,1], alpha = 0.1, c = y_test.ravel())\n",
    "contours = plt.contour(x_grid,y_grid,prob_contour)\n",
    "plt.title('Probability Contours')\n",
    "plt.clabel(contours, inline = True );"
   ]
  },
  {
   "cell_type": "code",
   "execution_count": null,
   "id": "e81b4ac7",
   "metadata": {
    "papermill": {
     "duration": 0.053373,
     "end_time": "2022-10-30T00:54:09.793290",
     "exception": false,
     "start_time": "2022-10-30T00:54:09.739917",
     "status": "completed"
    },
    "tags": []
   },
   "outputs": [],
   "source": []
  }
 ],
 "metadata": {
  "kernelspec": {
   "display_name": "Python 3",
   "language": "python",
   "name": "python3"
  },
  "language_info": {
   "codemirror_mode": {
    "name": "ipython",
    "version": 3
   },
   "file_extension": ".py",
   "mimetype": "text/x-python",
   "name": "python",
   "nbconvert_exporter": "python",
   "pygments_lexer": "ipython3",
   "version": "3.6.15"
  },
  "papermill": {
   "default_parameters": {},
   "duration": 113.015462,
   "end_time": "2022-10-30T00:54:10.266620",
   "environment_variables": {},
   "exception": null,
   "input_path": "2020-08-11-part2.ipynb",
   "output_path": "2020-08-11-part2.ipynb",
   "parameters": {},
   "start_time": "2022-10-30T00:52:17.251158",
   "version": "2.3.3"
  }
 },
 "nbformat": 4,
 "nbformat_minor": 5
}