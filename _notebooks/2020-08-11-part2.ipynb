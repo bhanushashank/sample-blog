{
 "cells": [
  {
   "cell_type": "markdown",
   "id": "98380cd3",
   "metadata": {
    "papermill": {
     "duration": 0.033071,
     "end_time": "2021-10-23T20:07:06.556129",
     "exception": false,
     "start_time": "2021-10-23T20:07:06.523058",
     "status": "completed"
    },
    "tags": []
   },
   "source": [
    "# Distinguish Your Own Digits (DYOD)"
   ]
  },
  {
   "cell_type": "markdown",
   "id": "ef31240d",
   "metadata": {
    "papermill": {
     "duration": 0.028996,
     "end_time": "2021-10-23T20:07:06.610344",
     "exception": false,
     "start_time": "2021-10-23T20:07:06.581348",
     "status": "completed"
    },
    "tags": []
   },
   "source": [
    "You are going to write a classifier that distinguishes between the number 3 and number 8."
   ]
  },
  {
   "cell_type": "code",
   "execution_count": 1,
   "id": "b15c8646",
   "metadata": {
    "execution": {
     "iopub.execute_input": "2021-10-23T20:07:06.680847Z",
     "iopub.status.busy": "2021-10-23T20:07:06.679354Z",
     "iopub.status.idle": "2021-10-23T20:07:06.689017Z",
     "shell.execute_reply": "2021-10-23T20:07:06.689511Z"
    },
    "papermill": {
     "duration": 0.048928,
     "end_time": "2021-10-23T20:07:06.689701",
     "exception": false,
     "start_time": "2021-10-23T20:07:06.640773",
     "status": "completed"
    },
    "tags": []
   },
   "outputs": [],
   "source": [
    "%load_ext autoreload\n",
    "%autoreload 2"
   ]
  },
  {
   "cell_type": "code",
   "execution_count": 2,
   "id": "22ef38dc",
   "metadata": {
    "execution": {
     "iopub.execute_input": "2021-10-23T20:07:06.750505Z",
     "iopub.status.busy": "2021-10-23T20:07:06.749958Z",
     "iopub.status.idle": "2021-10-23T20:07:07.357580Z",
     "shell.execute_reply": "2021-10-23T20:07:07.356884Z"
    },
    "papermill": {
     "duration": 0.641515,
     "end_time": "2021-10-23T20:07:07.357735",
     "exception": false,
     "start_time": "2021-10-23T20:07:06.716220",
     "status": "completed"
    },
    "tags": []
   },
   "outputs": [],
   "source": [
    "%matplotlib inline\n",
    "import numpy as np\n",
    "import matplotlib.pyplot as plt\n",
    "import pandas as pd"
   ]
  },
  {
   "cell_type": "markdown",
   "id": "ba036198",
   "metadata": {
    "papermill": {
     "duration": 0.028483,
     "end_time": "2021-10-23T20:07:07.414188",
     "exception": false,
     "start_time": "2021-10-23T20:07:07.385705",
     "status": "completed"
    },
    "tags": []
   },
   "source": [
    "From the command line run `pip install mnist`. This is a library that will help you bring down the mnist dataset. If you run this from a notebook, you need to put  `!pip install mnist` in a cell by itself."
   ]
  },
  {
   "cell_type": "code",
   "execution_count": 3,
   "id": "bb6ad8a1",
   "metadata": {
    "execution": {
     "iopub.execute_input": "2021-10-23T20:07:07.477160Z",
     "iopub.status.busy": "2021-10-23T20:07:07.476457Z",
     "iopub.status.idle": "2021-10-23T20:07:09.253878Z",
     "shell.execute_reply": "2021-10-23T20:07:09.254405Z"
    },
    "papermill": {
     "duration": 1.810481,
     "end_time": "2021-10-23T20:07:09.254590",
     "exception": false,
     "start_time": "2021-10-23T20:07:07.444109",
     "status": "completed"
    },
    "tags": []
   },
   "outputs": [
    {
     "name": "stdout",
     "output_type": "stream",
     "text": [
      "Collecting mnist\r\n"
     ]
    },
    {
     "name": "stdout",
     "output_type": "stream",
     "text": [
      "  Downloading mnist-0.2.2-py2.py3-none-any.whl (3.5 kB)\r\n",
      "Requirement already satisfied: numpy in /opt/hostedtoolcache/Python/3.6.15/x64/lib/python3.6/site-packages (from mnist) (1.19.5)\r\n"
     ]
    },
    {
     "name": "stdout",
     "output_type": "stream",
     "text": [
      "Installing collected packages: mnist\r\n"
     ]
    },
    {
     "name": "stdout",
     "output_type": "stream",
     "text": [
      "Successfully installed mnist-0.2.2\r\n"
     ]
    },
    {
     "name": "stdout",
     "output_type": "stream",
     "text": [
      "\u001b[33mWARNING: You are using pip version 21.3; however, version 21.3.1 is available.\r\n",
      "You should consider upgrading via the '/opt/hostedtoolcache/Python/3.6.15/x64/bin/python -m pip install --upgrade pip' command.\u001b[0m\r\n"
     ]
    }
   ],
   "source": [
    "!pip install mnist"
   ]
  },
  {
   "cell_type": "markdown",
   "id": "69df9c9a",
   "metadata": {
    "papermill": {
     "duration": 0.029945,
     "end_time": "2021-10-23T20:07:09.314030",
     "exception": false,
     "start_time": "2021-10-23T20:07:09.284085",
     "status": "completed"
    },
    "tags": []
   },
   "source": [
    "## Preparing the Data"
   ]
  },
  {
   "cell_type": "code",
   "execution_count": 4,
   "id": "7f69d806",
   "metadata": {
    "execution": {
     "iopub.execute_input": "2021-10-23T20:07:09.380975Z",
     "iopub.status.busy": "2021-10-23T20:07:09.380339Z",
     "iopub.status.idle": "2021-10-23T20:07:09.395805Z",
     "shell.execute_reply": "2021-10-23T20:07:09.396442Z"
    },
    "papermill": {
     "duration": 0.051067,
     "end_time": "2021-10-23T20:07:09.396581",
     "exception": false,
     "start_time": "2021-10-23T20:07:09.345514",
     "status": "completed"
    },
    "tags": []
   },
   "outputs": [],
   "source": [
    "import mnist"
   ]
  },
  {
   "cell_type": "code",
   "execution_count": 5,
   "id": "a411e44f",
   "metadata": {
    "execution": {
     "iopub.execute_input": "2021-10-23T20:07:09.462674Z",
     "iopub.status.busy": "2021-10-23T20:07:09.461994Z",
     "iopub.status.idle": "2021-10-23T20:07:09.939289Z",
     "shell.execute_reply": "2021-10-23T20:07:09.938528Z"
    },
    "papermill": {
     "duration": 0.512711,
     "end_time": "2021-10-23T20:07:09.939471",
     "exception": false,
     "start_time": "2021-10-23T20:07:09.426760",
     "status": "completed"
    },
    "tags": []
   },
   "outputs": [],
   "source": [
    "train_images = mnist.train_images()\n",
    "train_labels = mnist.train_labels()"
   ]
  },
  {
   "cell_type": "code",
   "execution_count": 6,
   "id": "dceab3a5",
   "metadata": {
    "execution": {
     "iopub.execute_input": "2021-10-23T20:07:10.003232Z",
     "iopub.status.busy": "2021-10-23T20:07:10.002557Z",
     "iopub.status.idle": "2021-10-23T20:07:10.018655Z",
     "shell.execute_reply": "2021-10-23T20:07:10.019292Z"
    },
    "papermill": {
     "duration": 0.049181,
     "end_time": "2021-10-23T20:07:10.019448",
     "exception": false,
     "start_time": "2021-10-23T20:07:09.970267",
     "status": "completed"
    },
    "tags": []
   },
   "outputs": [
    {
     "data": {
      "text/plain": [
       "((60000, 28, 28), (60000,))"
      ]
     },
     "execution_count": 6,
     "metadata": {},
     "output_type": "execute_result"
    }
   ],
   "source": [
    "train_images.shape, train_labels.shape"
   ]
  },
  {
   "cell_type": "code",
   "execution_count": 7,
   "id": "f50dc2bb",
   "metadata": {
    "execution": {
     "iopub.execute_input": "2021-10-23T20:07:10.082890Z",
     "iopub.status.busy": "2021-10-23T20:07:10.082286Z",
     "iopub.status.idle": "2021-10-23T20:07:10.262472Z",
     "shell.execute_reply": "2021-10-23T20:07:10.261860Z"
    },
    "papermill": {
     "duration": 0.21345,
     "end_time": "2021-10-23T20:07:10.262604",
     "exception": false,
     "start_time": "2021-10-23T20:07:10.049154",
     "status": "completed"
    },
    "tags": []
   },
   "outputs": [],
   "source": [
    "test_images = mnist.test_images()\n",
    "test_labels = mnist.test_labels()"
   ]
  },
  {
   "cell_type": "code",
   "execution_count": 8,
   "id": "fc38cf1b",
   "metadata": {
    "execution": {
     "iopub.execute_input": "2021-10-23T20:07:10.326723Z",
     "iopub.status.busy": "2021-10-23T20:07:10.326153Z",
     "iopub.status.idle": "2021-10-23T20:07:10.339965Z",
     "shell.execute_reply": "2021-10-23T20:07:10.339489Z"
    },
    "papermill": {
     "duration": 0.048681,
     "end_time": "2021-10-23T20:07:10.340095",
     "exception": false,
     "start_time": "2021-10-23T20:07:10.291414",
     "status": "completed"
    },
    "tags": []
   },
   "outputs": [
    {
     "data": {
      "text/plain": [
       "((10000, 28, 28), (10000,))"
      ]
     },
     "execution_count": 8,
     "metadata": {},
     "output_type": "execute_result"
    }
   ],
   "source": [
    "test_images.shape, test_labels.shape"
   ]
  },
  {
   "cell_type": "code",
   "execution_count": 9,
   "id": "f9ed8fe0",
   "metadata": {
    "execution": {
     "iopub.execute_input": "2021-10-23T20:07:10.406284Z",
     "iopub.status.busy": "2021-10-23T20:07:10.405627Z",
     "iopub.status.idle": "2021-10-23T20:07:10.595077Z",
     "shell.execute_reply": "2021-10-23T20:07:10.594437Z"
    },
    "papermill": {
     "duration": 0.223772,
     "end_time": "2021-10-23T20:07:10.595460",
     "exception": false,
     "start_time": "2021-10-23T20:07:10.371688",
     "status": "completed"
    },
    "tags": []
   },
   "outputs": [
    {
     "name": "stdout",
     "output_type": "stream",
     "text": [
      "2\n"
     ]
    },
    {
     "data": {
      "text/plain": [
       "<matplotlib.image.AxesImage at 0x7efc356d2898>"
      ]
     },
     "execution_count": 9,
     "metadata": {},
     "output_type": "execute_result"
    },
    {
     "data": {
      "image/png": "[encoded data removed]",
      "text/plain": [
       "<Figure size 432x288 with 1 Axes>"
      ]
     },
     "metadata": {
      "needs_background": "light"
     },
     "output_type": "display_data"
    }
   ],
   "source": [
    "image_index = 7776 # You may select anything up to 60,000\n",
    "print(train_labels[image_index]) \n",
    "plt.imshow(train_images[image_index], cmap='Greys')"
   ]
  },
  {
   "cell_type": "markdown",
   "id": "a8d2388d",
   "metadata": {
    "papermill": {
     "duration": 0.031103,
     "end_time": "2021-10-23T20:07:10.660554",
     "exception": false,
     "start_time": "2021-10-23T20:07:10.629451",
     "status": "completed"
    },
    "tags": []
   },
   "source": [
    "## Filter data to get 3 and 8 out"
   ]
  },
  {
   "cell_type": "code",
   "execution_count": 10,
   "id": "776f7fc7",
   "metadata": {
    "execution": {
     "iopub.execute_input": "2021-10-23T20:07:10.735716Z",
     "iopub.status.busy": "2021-10-23T20:07:10.726963Z",
     "iopub.status.idle": "2021-10-23T20:07:10.741604Z",
     "shell.execute_reply": "2021-10-23T20:07:10.742319Z"
    },
    "papermill": {
     "duration": 0.050435,
     "end_time": "2021-10-23T20:07:10.742570",
     "exception": false,
     "start_time": "2021-10-23T20:07:10.692135",
     "status": "completed"
    },
    "tags": []
   },
   "outputs": [],
   "source": [
    "train_filter = np.where((train_labels == 3 ) | (train_labels == 8))\n",
    "test_filter = np.where((test_labels == 3) | (test_labels == 8))\n",
    "X_train, y_train = train_images[train_filter], train_labels[train_filter]\n",
    "X_test, y_test = test_images[test_filter], test_labels[test_filter]"
   ]
  },
  {
   "cell_type": "markdown",
   "id": "948f0b7e",
   "metadata": {
    "papermill": {
     "duration": 0.032041,
     "end_time": "2021-10-23T20:07:10.810040",
     "exception": false,
     "start_time": "2021-10-23T20:07:10.777999",
     "status": "completed"
    },
    "tags": []
   },
   "source": [
    "We normalize the pizel values in the 0 to 1 range"
   ]
  },
  {
   "cell_type": "code",
   "execution_count": 11,
   "id": "ee4c2166",
   "metadata": {
    "execution": {
     "iopub.execute_input": "2021-10-23T20:07:10.872240Z",
     "iopub.status.busy": "2021-10-23T20:07:10.871532Z",
     "iopub.status.idle": "2021-10-23T20:07:10.938478Z",
     "shell.execute_reply": "2021-10-23T20:07:10.937704Z"
    },
    "papermill": {
     "duration": 0.099136,
     "end_time": "2021-10-23T20:07:10.938662",
     "exception": false,
     "start_time": "2021-10-23T20:07:10.839526",
     "status": "completed"
    },
    "tags": []
   },
   "outputs": [],
   "source": [
    "X_train = X_train/255.\n",
    "X_test = X_test/255."
   ]
  },
  {
   "cell_type": "markdown",
   "id": "ddcf4fab",
   "metadata": {
    "papermill": {
     "duration": 0.029453,
     "end_time": "2021-10-23T20:07:10.997542",
     "exception": false,
     "start_time": "2021-10-23T20:07:10.968089",
     "status": "completed"
    },
    "tags": []
   },
   "source": [
    "And setup the labels as 1 (when the digit is 3) and 0 (when the digit is 8)"
   ]
  },
  {
   "cell_type": "code",
   "execution_count": 12,
   "id": "7dc908f2",
   "metadata": {
    "execution": {
     "iopub.execute_input": "2021-10-23T20:07:11.067663Z",
     "iopub.status.busy": "2021-10-23T20:07:11.066767Z",
     "iopub.status.idle": "2021-10-23T20:07:11.079221Z",
     "shell.execute_reply": "2021-10-23T20:07:11.079811Z"
    },
    "papermill": {
     "duration": 0.051131,
     "end_time": "2021-10-23T20:07:11.079941",
     "exception": false,
     "start_time": "2021-10-23T20:07:11.028810",
     "status": "completed"
    },
    "tags": []
   },
   "outputs": [],
   "source": [
    "y_train = 1*(y_train==3)\n",
    "y_test = 1*(y_test==3)"
   ]
  },
  {
   "cell_type": "code",
   "execution_count": 13,
   "id": "01e4e969",
   "metadata": {
    "execution": {
     "iopub.execute_input": "2021-10-23T20:07:11.145573Z",
     "iopub.status.busy": "2021-10-23T20:07:11.144966Z",
     "iopub.status.idle": "2021-10-23T20:07:11.159631Z",
     "shell.execute_reply": "2021-10-23T20:07:11.160214Z"
    },
    "papermill": {
     "duration": 0.049235,
     "end_time": "2021-10-23T20:07:11.160343",
     "exception": false,
     "start_time": "2021-10-23T20:07:11.111108",
     "status": "completed"
    },
    "tags": []
   },
   "outputs": [
    {
     "data": {
      "text/plain": [
       "((11982, 28, 28), (1984, 28, 28))"
      ]
     },
     "execution_count": 13,
     "metadata": {},
     "output_type": "execute_result"
    }
   ],
   "source": [
    "X_train.shape, X_test.shape"
   ]
  },
  {
   "cell_type": "markdown",
   "id": "5ccf3f85",
   "metadata": {
    "papermill": {
     "duration": 0.032412,
     "end_time": "2021-10-23T20:07:11.226258",
     "exception": false,
     "start_time": "2021-10-23T20:07:11.193846",
     "status": "completed"
    },
    "tags": []
   },
   "source": [
    "We reshape the data to flatten the image pixels into a set of features or co-variates:"
   ]
  },
  {
   "cell_type": "code",
   "execution_count": 14,
   "id": "5286a4a3",
   "metadata": {
    "execution": {
     "iopub.execute_input": "2021-10-23T20:07:11.293965Z",
     "iopub.status.busy": "2021-10-23T20:07:11.293394Z",
     "iopub.status.idle": "2021-10-23T20:07:11.307478Z",
     "shell.execute_reply": "2021-10-23T20:07:11.308578Z"
    },
    "papermill": {
     "duration": 0.051323,
     "end_time": "2021-10-23T20:07:11.308734",
     "exception": false,
     "start_time": "2021-10-23T20:07:11.257411",
     "status": "completed"
    },
    "tags": []
   },
   "outputs": [
    {
     "data": {
      "text/plain": [
       "((11982, 784), (1984, 784))"
      ]
     },
     "execution_count": 14,
     "metadata": {},
     "output_type": "execute_result"
    }
   ],
   "source": [
    "X_train = X_train.reshape(X_train.shape[0], -1)\n",
    "X_test = X_test.reshape(X_test.shape[0], -1)\n",
    "X_train.shape, X_test.shape"
   ]
  },
  {
   "cell_type": "code",
   "execution_count": 15,
   "id": "73c5f88a",
   "metadata": {
    "execution": {
     "iopub.execute_input": "2021-10-23T20:07:11.377019Z",
     "iopub.status.busy": "2021-10-23T20:07:11.376417Z",
     "iopub.status.idle": "2021-10-23T20:07:11.399615Z",
     "shell.execute_reply": "2021-10-23T20:07:11.400151Z"
    },
    "papermill": {
     "duration": 0.060888,
     "end_time": "2021-10-23T20:07:11.400298",
     "exception": false,
     "start_time": "2021-10-23T20:07:11.339410",
     "status": "completed"
    },
    "tags": []
   },
   "outputs": [],
   "source": [
    "#Impoting functions from 'Kudzu'\n",
    "from kudzu.model import Model\n",
    "from kudzu.train import Learner\n",
    "from kudzu.optim import GD\n",
    "from kudzu.data import Data, Sampler,Dataloader\n",
    "\n",
    "from kudzu.callbacks import AccCallback\n",
    "from kudzu.callbacks import ClfCallback\n",
    "\n",
    "from kudzu.loss import MSE\n",
    "\n",
    "from kudzu.layer import Sigmoid,Relu\n",
    "from kudzu.layer import Affine"
   ]
  },
  {
   "cell_type": "markdown",
   "id": "bc01172a",
   "metadata": {
    "papermill": {
     "duration": 0.034029,
     "end_time": "2021-10-23T20:07:11.469106",
     "exception": false,
     "start_time": "2021-10-23T20:07:11.435077",
     "status": "completed"
    },
    "tags": []
   },
   "source": [
    "### Let us create a `Config` class, to store important parameters. \n",
    "This class essentially plays the role of a dictionary."
   ]
  },
  {
   "cell_type": "code",
   "execution_count": 16,
   "id": "978281aa",
   "metadata": {
    "execution": {
     "iopub.execute_input": "2021-10-23T20:07:11.545147Z",
     "iopub.status.busy": "2021-10-23T20:07:11.544510Z",
     "iopub.status.idle": "2021-10-23T20:07:11.556731Z",
     "shell.execute_reply": "2021-10-23T20:07:11.557441Z"
    },
    "papermill": {
     "duration": 0.054272,
     "end_time": "2021-10-23T20:07:11.557609",
     "exception": false,
     "start_time": "2021-10-23T20:07:11.503337",
     "status": "completed"
    },
    "tags": []
   },
   "outputs": [],
   "source": [
    "class Config:\n",
    "    pass\n",
    "config = Config()\n",
    "config.lr = 0.001\n",
    "config.num_epochs = 250\n",
    "config.bs = 50"
   ]
  },
  {
   "cell_type": "markdown",
   "id": "1385fa59",
   "metadata": {
    "papermill": {
     "duration": 0.032683,
     "end_time": "2021-10-23T20:07:11.623049",
     "exception": false,
     "start_time": "2021-10-23T20:07:11.590366",
     "status": "completed"
    },
    "tags": []
   },
   "source": [
    "### Running Models with the Training data\n",
    "Details about the network layers:\n",
    "- A first affine layer has 784 inputs and does 100 affine transforms. These are followed by a Relu\n",
    "- A second affine layer has 100 inputs from the 100 activations of the past layer, and does 100 affine transforms. These are followed by a Relu\n",
    "- A third affine layer has 100 activations and does 2 affine transformations to create an embedding for visualization. There is no non-linearity here.\n",
    "- A final \"logistic regression\" which has an affine transform from 2 inputs to 1 output, which is squeezed through a sigmoid.\n"
   ]
  },
  {
   "cell_type": "code",
   "execution_count": 17,
   "id": "2b9c66db",
   "metadata": {
    "execution": {
     "iopub.execute_input": "2021-10-23T20:07:11.696659Z",
     "iopub.status.busy": "2021-10-23T20:07:11.696021Z",
     "iopub.status.idle": "2021-10-23T20:07:11.708295Z",
     "shell.execute_reply": "2021-10-23T20:07:11.708914Z"
    },
    "papermill": {
     "duration": 0.052509,
     "end_time": "2021-10-23T20:07:11.709066",
     "exception": false,
     "start_time": "2021-10-23T20:07:11.656557",
     "status": "completed"
    },
    "tags": []
   },
   "outputs": [],
   "source": [
    "data = Data(X_train, y_train.reshape(-1,1))\n",
    "sampler = Sampler(data, config.bs, shuffle=True)\n",
    "\n",
    "dl = Dataloader(data, sampler)\n",
    "\n",
    "opt = GD(config.lr)\n",
    "loss = MSE()"
   ]
  },
  {
   "cell_type": "code",
   "execution_count": 18,
   "id": "b275e4c2",
   "metadata": {
    "execution": {
     "iopub.execute_input": "2021-10-23T20:07:11.779457Z",
     "iopub.status.busy": "2021-10-23T20:07:11.778736Z",
     "iopub.status.idle": "2021-10-23T20:07:11.791228Z",
     "shell.execute_reply": "2021-10-23T20:07:11.791800Z"
    },
    "papermill": {
     "duration": 0.049034,
     "end_time": "2021-10-23T20:07:11.791923",
     "exception": false,
     "start_time": "2021-10-23T20:07:11.742889",
     "status": "completed"
    },
    "tags": []
   },
   "outputs": [],
   "source": [
    "training_data_x = X_train\n",
    "testing_data_x = X_test\n",
    "training_data_y = y_train.reshape(-1,1)\n",
    "testing_data_y = y_test.reshape(-1,1)"
   ]
  },
  {
   "cell_type": "code",
   "execution_count": 19,
   "id": "76951160",
   "metadata": {
    "execution": {
     "iopub.execute_input": "2021-10-23T20:07:11.863664Z",
     "iopub.status.busy": "2021-10-23T20:07:11.862981Z",
     "iopub.status.idle": "2021-10-23T20:07:11.879786Z",
     "shell.execute_reply": "2021-10-23T20:07:11.880368Z"
    },
    "papermill": {
     "duration": 0.054273,
     "end_time": "2021-10-23T20:07:11.880507",
     "exception": false,
     "start_time": "2021-10-23T20:07:11.826234",
     "status": "completed"
    },
    "tags": []
   },
   "outputs": [
    {
     "name": "stdout",
     "output_type": "stream",
     "text": [
      "xavier\n",
      "xavier\n",
      "xavier\n",
      "xavier\n",
      "xavier\n"
     ]
    }
   ],
   "source": [
    "layers = [Affine(\"first\", 784, 100), Relu(\"first\"), Affine(\"second\", 100, 100), Relu(\"second\"), Affine(\"third\", 100, 2), Affine(\"last\", 2, 1), Sigmoid(\"last\")]\n",
    "model_nn = Model(layers)\n",
    "model_lr = Model([Affine(\"logits\", 784, 1), Sigmoid(\"sigmoid\")])"
   ]
  },
  {
   "cell_type": "code",
   "execution_count": 20,
   "id": "6eede77a",
   "metadata": {
    "execution": {
     "iopub.execute_input": "2021-10-23T20:07:11.945173Z",
     "iopub.status.busy": "2021-10-23T20:07:11.944471Z",
     "iopub.status.idle": "2021-10-23T20:07:11.956607Z",
     "shell.execute_reply": "2021-10-23T20:07:11.957103Z"
    },
    "papermill": {
     "duration": 0.045581,
     "end_time": "2021-10-23T20:07:11.957239",
     "exception": false,
     "start_time": "2021-10-23T20:07:11.911658",
     "status": "completed"
    },
    "tags": []
   },
   "outputs": [],
   "source": [
    "nn_learner = Learner(loss, model_nn, opt, config.num_epochs)\n",
    "acc_nn = ClfCallback(nn_learner, config.bs, training_data_x , testing_data_x, training_data_y, testing_data_y)\n",
    "nn_learner.set_callbacks([acc_nn])"
   ]
  },
  {
   "cell_type": "code",
   "execution_count": 21,
   "id": "877b6cc7",
   "metadata": {
    "execution": {
     "iopub.execute_input": "2021-10-23T20:07:12.018892Z",
     "iopub.status.busy": "2021-10-23T20:07:12.018328Z",
     "iopub.status.idle": "2021-10-23T20:07:12.029368Z",
     "shell.execute_reply": "2021-10-23T20:07:12.029911Z"
    },
    "papermill": {
     "duration": 0.043563,
     "end_time": "2021-10-23T20:07:12.030027",
     "exception": false,
     "start_time": "2021-10-23T20:07:11.986464",
     "status": "completed"
    },
    "tags": []
   },
   "outputs": [],
   "source": [
    "lr_learner = Learner(loss, model_lr, opt, config.num_epochs)\n",
    "acc_lr = ClfCallback(lr_learner, config.bs, training_data_x , testing_data_x, training_data_y, testing_data_y)\n",
    "lr_learner.set_callbacks([acc_lr])"
   ]
  },
  {
   "cell_type": "code",
   "execution_count": 22,
   "id": "d9b133c3",
   "metadata": {
    "execution": {
     "iopub.execute_input": "2021-10-23T20:07:12.092434Z",
     "iopub.status.busy": "2021-10-23T20:07:12.091864Z",
     "iopub.status.idle": "2021-10-23T20:09:32.345270Z",
     "shell.execute_reply": "2021-10-23T20:09:32.346235Z"
    },
    "papermill": {
     "duration": 140.28601,
     "end_time": "2021-10-23T20:09:32.346383",
     "exception": false,
     "start_time": "2021-10-23T20:07:12.060373",
     "status": "completed"
    },
    "tags": []
   },
   "outputs": [
    {
     "name": "stdout",
     "output_type": "stream",
     "text": [
      "Epoch 0, Loss 0.2445\n",
      "Training Accuracy: 0.6698, Testing Accuracy: 0.6603\n",
      "\n"
     ]
    },
    {
     "name": "stdout",
     "output_type": "stream",
     "text": [
      "Epoch 10, Loss 0.1728\n",
      "Training Accuracy: 0.8863, Testing Accuracy: 0.8997\n",
      "\n"
     ]
    },
    {
     "name": "stdout",
     "output_type": "stream",
     "text": [
      "Epoch 20, Loss 0.0864\n",
      "Training Accuracy: 0.9167, Testing Accuracy: 0.9304\n",
      "\n"
     ]
    },
    {
     "name": "stdout",
     "output_type": "stream",
     "text": [
      "Epoch 30, Loss 0.0592\n",
      "Training Accuracy: 0.9367, Testing Accuracy: 0.9476\n",
      "\n"
     ]
    },
    {
     "name": "stdout",
     "output_type": "stream",
     "text": [
      "Epoch 40, Loss 0.0478\n",
      "Training Accuracy: 0.9449, Testing Accuracy: 0.9551\n",
      "\n"
     ]
    },
    {
     "name": "stdout",
     "output_type": "stream",
     "text": [
      "Epoch 50, Loss 0.0417\n",
      "Training Accuracy: 0.9517, Testing Accuracy: 0.9582\n",
      "\n"
     ]
    },
    {
     "name": "stdout",
     "output_type": "stream",
     "text": [
      "Epoch 60, Loss 0.0379\n",
      "Training Accuracy: 0.9554, Testing Accuracy: 0.9627\n",
      "\n"
     ]
    },
    {
     "name": "stdout",
     "output_type": "stream",
     "text": [
      "Epoch 70, Loss 0.0352\n",
      "Training Accuracy: 0.9587, Testing Accuracy: 0.9642\n",
      "\n"
     ]
    },
    {
     "name": "stdout",
     "output_type": "stream",
     "text": [
      "Epoch 80, Loss 0.0331\n",
      "Training Accuracy: 0.9609, Testing Accuracy: 0.9647\n",
      "\n"
     ]
    },
    {
     "name": "stdout",
     "output_type": "stream",
     "text": [
      "Epoch 90, Loss 0.0315\n",
      "Training Accuracy: 0.9623, Testing Accuracy: 0.9662\n",
      "\n"
     ]
    },
    {
     "name": "stdout",
     "output_type": "stream",
     "text": [
      "Epoch 100, Loss 0.0302\n",
      "Training Accuracy: 0.9634, Testing Accuracy: 0.9662\n",
      "\n"
     ]
    },
    {
     "name": "stdout",
     "output_type": "stream",
     "text": [
      "Epoch 110, Loss 0.029\n",
      "Training Accuracy: 0.9648, Testing Accuracy: 0.9672\n",
      "\n"
     ]
    },
    {
     "name": "stdout",
     "output_type": "stream",
     "text": [
      "Epoch 120, Loss 0.0281\n",
      "Training Accuracy: 0.9657, Testing Accuracy: 0.9688\n",
      "\n"
     ]
    },
    {
     "name": "stdout",
     "output_type": "stream",
     "text": [
      "Epoch 130, Loss 0.0272\n",
      "Training Accuracy: 0.9668, Testing Accuracy: 0.9688\n",
      "\n"
     ]
    },
    {
     "name": "stdout",
     "output_type": "stream",
     "text": [
      "Epoch 140, Loss 0.0264\n",
      "Training Accuracy: 0.9677, Testing Accuracy: 0.9693\n",
      "\n"
     ]
    },
    {
     "name": "stdout",
     "output_type": "stream",
     "text": [
      "Epoch 150, Loss 0.0257\n",
      "Training Accuracy: 0.9686, Testing Accuracy: 0.9693\n",
      "\n"
     ]
    },
    {
     "name": "stdout",
     "output_type": "stream",
     "text": [
      "Epoch 160, Loss 0.0251\n",
      "Training Accuracy: 0.9695, Testing Accuracy: 0.9682\n",
      "\n"
     ]
    },
    {
     "name": "stdout",
     "output_type": "stream",
     "text": [
      "Epoch 170, Loss 0.0245\n",
      "Training Accuracy: 0.9696, Testing Accuracy: 0.9688\n",
      "\n"
     ]
    },
    {
     "name": "stdout",
     "output_type": "stream",
     "text": [
      "Epoch 180, Loss 0.024\n",
      "Training Accuracy: 0.9701, Testing Accuracy: 0.9688\n",
      "\n"
     ]
    },
    {
     "name": "stdout",
     "output_type": "stream",
     "text": [
      "Epoch 190, Loss 0.0235\n",
      "Training Accuracy: 0.9712, Testing Accuracy: 0.9698\n",
      "\n"
     ]
    },
    {
     "name": "stdout",
     "output_type": "stream",
     "text": [
      "Epoch 200, Loss 0.023\n",
      "Training Accuracy: 0.9719, Testing Accuracy: 0.9698\n",
      "\n"
     ]
    },
    {
     "name": "stdout",
     "output_type": "stream",
     "text": [
      "Epoch 210, Loss 0.0226\n",
      "Training Accuracy: 0.9725, Testing Accuracy: 0.9698\n",
      "\n"
     ]
    },
    {
     "name": "stdout",
     "output_type": "stream",
     "text": [
      "Epoch 220, Loss 0.0222\n",
      "Training Accuracy: 0.9731, Testing Accuracy: 0.9698\n",
      "\n"
     ]
    },
    {
     "name": "stdout",
     "output_type": "stream",
     "text": [
      "Epoch 230, Loss 0.0218\n",
      "Training Accuracy: 0.9740, Testing Accuracy: 0.9703\n",
      "\n"
     ]
    },
    {
     "name": "stdout",
     "output_type": "stream",
     "text": [
      "Epoch 240, Loss 0.0215\n",
      "Training Accuracy: 0.9744, Testing Accuracy: 0.9708\n",
      "\n"
     ]
    },
    {
     "data": {
      "text/plain": [
       "0.03352502164727794"
      ]
     },
     "execution_count": 22,
     "metadata": {},
     "output_type": "execute_result"
    }
   ],
   "source": [
    "nn_learner.train_loop(dl)"
   ]
  },
  {
   "cell_type": "code",
   "execution_count": 23,
   "id": "e0163366",
   "metadata": {
    "execution": {
     "iopub.execute_input": "2021-10-23T20:09:32.437032Z",
     "iopub.status.busy": "2021-10-23T20:09:32.436123Z",
     "iopub.status.idle": "2021-10-23T20:09:52.075690Z",
     "shell.execute_reply": "2021-10-23T20:09:52.076451Z"
    },
    "papermill": {
     "duration": 19.688534,
     "end_time": "2021-10-23T20:09:52.076604",
     "exception": false,
     "start_time": "2021-10-23T20:09:32.388070",
     "status": "completed"
    },
    "tags": []
   },
   "outputs": [
    {
     "name": "stdout",
     "output_type": "stream",
     "text": [
      "Epoch 0, Loss 0.224\n",
      "Training Accuracy: 0.7421, Testing Accuracy: 0.7198\n",
      "\n"
     ]
    },
    {
     "name": "stdout",
     "output_type": "stream",
     "text": [
      "Epoch 10, Loss 0.1005\n",
      "Training Accuracy: 0.9121, Testing Accuracy: 0.9194\n",
      "\n"
     ]
    },
    {
     "name": "stdout",
     "output_type": "stream",
     "text": [
      "Epoch 20, Loss 0.078\n",
      "Training Accuracy: 0.9299, Testing Accuracy: 0.9385\n",
      "\n"
     ]
    },
    {
     "name": "stdout",
     "output_type": "stream",
     "text": [
      "Epoch 30, Loss 0.0675\n",
      "Training Accuracy: 0.9372, Testing Accuracy: 0.9461\n",
      "\n"
     ]
    },
    {
     "name": "stdout",
     "output_type": "stream",
     "text": [
      "Epoch 40, Loss 0.0611\n",
      "Training Accuracy: 0.9427, Testing Accuracy: 0.9526\n",
      "\n"
     ]
    },
    {
     "name": "stdout",
     "output_type": "stream",
     "text": [
      "Epoch 50, Loss 0.0568\n",
      "Training Accuracy: 0.9461, Testing Accuracy: 0.9556\n",
      "\n"
     ]
    },
    {
     "name": "stdout",
     "output_type": "stream",
     "text": [
      "Epoch 60, Loss 0.0535\n",
      "Training Accuracy: 0.9485, Testing Accuracy: 0.9592\n",
      "\n"
     ]
    },
    {
     "name": "stdout",
     "output_type": "stream",
     "text": [
      "Epoch 70, Loss 0.051\n",
      "Training Accuracy: 0.9503, Testing Accuracy: 0.9612\n",
      "\n"
     ]
    },
    {
     "name": "stdout",
     "output_type": "stream",
     "text": [
      "Epoch 80, Loss 0.049\n",
      "Training Accuracy: 0.9527, Testing Accuracy: 0.9632\n",
      "\n"
     ]
    },
    {
     "name": "stdout",
     "output_type": "stream",
     "text": [
      "Epoch 90, Loss 0.0474\n",
      "Training Accuracy: 0.9548, Testing Accuracy: 0.9642\n",
      "\n"
     ]
    },
    {
     "name": "stdout",
     "output_type": "stream",
     "text": [
      "Epoch 100, Loss 0.046\n",
      "Training Accuracy: 0.9555, Testing Accuracy: 0.9647\n",
      "\n"
     ]
    },
    {
     "name": "stdout",
     "output_type": "stream",
     "text": [
      "Epoch 110, Loss 0.0448\n",
      "Training Accuracy: 0.9557, Testing Accuracy: 0.9652\n",
      "\n"
     ]
    },
    {
     "name": "stdout",
     "output_type": "stream",
     "text": [
      "Epoch 120, Loss 0.0437\n",
      "Training Accuracy: 0.9565, Testing Accuracy: 0.9647\n",
      "\n"
     ]
    },
    {
     "name": "stdout",
     "output_type": "stream",
     "text": [
      "Epoch 130, Loss 0.0428\n",
      "Training Accuracy: 0.9575, Testing Accuracy: 0.9657\n",
      "\n"
     ]
    },
    {
     "name": "stdout",
     "output_type": "stream",
     "text": [
      "Epoch 140, Loss 0.042\n",
      "Training Accuracy: 0.9581, Testing Accuracy: 0.9667\n",
      "\n"
     ]
    },
    {
     "name": "stdout",
     "output_type": "stream",
     "text": [
      "Epoch 150, Loss 0.0412\n",
      "Training Accuracy: 0.9585, Testing Accuracy: 0.9667\n",
      "\n"
     ]
    },
    {
     "name": "stdout",
     "output_type": "stream",
     "text": [
      "Epoch 160, Loss 0.0405\n",
      "Training Accuracy: 0.9591, Testing Accuracy: 0.9667\n",
      "\n"
     ]
    },
    {
     "name": "stdout",
     "output_type": "stream",
     "text": [
      "Epoch 170, Loss 0.0399\n",
      "Training Accuracy: 0.9595, Testing Accuracy: 0.9672\n",
      "\n"
     ]
    },
    {
     "name": "stdout",
     "output_type": "stream",
     "text": [
      "Epoch 180, Loss 0.0394\n",
      "Training Accuracy: 0.9599, Testing Accuracy: 0.9677\n",
      "\n"
     ]
    },
    {
     "name": "stdout",
     "output_type": "stream",
     "text": [
      "Epoch 190, Loss 0.0389\n",
      "Training Accuracy: 0.9601, Testing Accuracy: 0.9682\n",
      "\n"
     ]
    },
    {
     "name": "stdout",
     "output_type": "stream",
     "text": [
      "Epoch 200, Loss 0.0384\n",
      "Training Accuracy: 0.9603, Testing Accuracy: 0.9677\n",
      "\n"
     ]
    },
    {
     "name": "stdout",
     "output_type": "stream",
     "text": [
      "Epoch 210, Loss 0.038\n",
      "Training Accuracy: 0.9608, Testing Accuracy: 0.9677\n",
      "\n"
     ]
    },
    {
     "name": "stdout",
     "output_type": "stream",
     "text": [
      "Epoch 220, Loss 0.0375\n",
      "Training Accuracy: 0.9609, Testing Accuracy: 0.9672\n",
      "\n"
     ]
    },
    {
     "name": "stdout",
     "output_type": "stream",
     "text": [
      "Epoch 230, Loss 0.0372\n",
      "Training Accuracy: 0.9614, Testing Accuracy: 0.9672\n",
      "\n"
     ]
    },
    {
     "name": "stdout",
     "output_type": "stream",
     "text": [
      "Epoch 240, Loss 0.0368\n",
      "Training Accuracy: 0.9619, Testing Accuracy: 0.9672\n",
      "\n"
     ]
    },
    {
     "data": {
      "text/plain": [
       "0.03930322828842717"
      ]
     },
     "execution_count": 23,
     "metadata": {},
     "output_type": "execute_result"
    }
   ],
   "source": [
    "lr_learner.train_loop(dl)"
   ]
  },
  {
   "cell_type": "code",
   "execution_count": 24,
   "id": "ca410940",
   "metadata": {
    "execution": {
     "iopub.execute_input": "2021-10-23T20:09:52.180780Z",
     "iopub.status.busy": "2021-10-23T20:09:52.180150Z",
     "iopub.status.idle": "2021-10-23T20:09:52.458414Z",
     "shell.execute_reply": "2021-10-23T20:09:52.457765Z"
    },
    "papermill": {
     "duration": 0.334546,
     "end_time": "2021-10-23T20:09:52.458565",
     "exception": false,
     "start_time": "2021-10-23T20:09:52.124019",
     "status": "completed"
    },
    "tags": []
   },
   "outputs": [
    {
     "data": {
      "text/plain": [
       "<matplotlib.legend.Legend at 0x7efc27f25f98>"
      ]
     },
     "execution_count": 24,
     "metadata": {},
     "output_type": "execute_result"
    },
    {
     "data": {
      "image/png": "[encoded data removed]",
      "text/plain": [
       "<Figure size 1080x720 with 1 Axes>"
      ]
     },
     "metadata": {
      "needs_background": "light"
     },
     "output_type": "display_data"
    }
   ],
   "source": [
    "#comparing the results of NN and LR\n",
    "plt.figure(figsize=(15,10))\n",
    "\n",
    "# Neural Network plots\n",
    "plt.plot(acc_nn.accuracies, 'r-', label = \"Training Accuracies - NN\")\n",
    "plt.plot(acc_nn.test_accuracies, 'g-', label = \"Testing Accuracies - NN\")\n",
    "\n",
    "# Logistic Regression plots\n",
    "plt.plot(acc_lr.accuracies, 'k-', label = \"Training Accuracies - LR\")\n",
    "plt.plot(acc_lr.test_accuracies, 'b-', label = \"Testing Accuracies - LR\")\n",
    "plt.legend()"
   ]
  },
  {
   "cell_type": "markdown",
   "id": "80dfb35c",
   "metadata": {
    "papermill": {
     "duration": 0.04723,
     "end_time": "2021-10-23T20:09:52.551229",
     "exception": false,
     "start_time": "2021-10-23T20:09:52.503999",
     "status": "completed"
    },
    "tags": []
   },
   "source": [
    "#### Plotting the outputs of this layer of the NN.\n"
   ]
  },
  {
   "cell_type": "code",
   "execution_count": 25,
   "id": "45eb2ff5",
   "metadata": {
    "execution": {
     "iopub.execute_input": "2021-10-23T20:09:52.650685Z",
     "iopub.status.busy": "2021-10-23T20:09:52.650050Z",
     "iopub.status.idle": "2021-10-23T20:09:52.677942Z",
     "shell.execute_reply": "2021-10-23T20:09:52.678472Z"
    },
    "papermill": {
     "duration": 0.0832,
     "end_time": "2021-10-23T20:09:52.678634",
     "exception": false,
     "start_time": "2021-10-23T20:09:52.595434",
     "status": "completed"
    },
    "tags": []
   },
   "outputs": [],
   "source": [
    "new_model = Model(layers[:-2])\n",
    "testing_plot = new_model(testing_data_x)"
   ]
  },
  {
   "cell_type": "code",
   "execution_count": 26,
   "id": "4c0a5485",
   "metadata": {
    "execution": {
     "iopub.execute_input": "2021-10-23T20:09:52.794591Z",
     "iopub.status.busy": "2021-10-23T20:09:52.794010Z",
     "iopub.status.idle": "2021-10-23T20:09:53.035594Z",
     "shell.execute_reply": "2021-10-23T20:09:53.035043Z"
    },
    "papermill": {
     "duration": 0.299981,
     "end_time": "2021-10-23T20:09:53.035721",
     "exception": false,
     "start_time": "2021-10-23T20:09:52.735740",
     "status": "completed"
    },
    "tags": []
   },
   "outputs": [
    {
     "data": {
      "text/plain": [
       "Text(0.5, 1.0, 'Outputs')"
      ]
     },
     "execution_count": 26,
     "metadata": {},
     "output_type": "execute_result"
    },
    {
     "data": {
      "image/png": "[encoded data removed]",
      "text/plain": [
       "<Figure size 576x504 with 1 Axes>"
      ]
     },
     "metadata": {
      "needs_background": "light"
     },
     "output_type": "display_data"
    }
   ],
   "source": [
    "# Plotting the scatter plot of points and color coding by class\n",
    "plt.figure(figsize=(8,7))\n",
    "plt.scatter(testing_plot[:,0], testing_plot[:,1], alpha = 0.1, c = y_test.ravel());\n",
    "plt.title('Outputs')"
   ]
  },
  {
   "cell_type": "markdown",
   "id": "a74fcf8f",
   "metadata": {
    "papermill": {
     "duration": 0.047784,
     "end_time": "2021-10-23T20:09:53.134661",
     "exception": false,
     "start_time": "2021-10-23T20:09:53.086877",
     "status": "completed"
    },
    "tags": []
   },
   "source": [
    "Probability contours"
   ]
  },
  {
   "cell_type": "code",
   "execution_count": 27,
   "id": "d0afc8e3",
   "metadata": {
    "execution": {
     "iopub.execute_input": "2021-10-23T20:09:53.280610Z",
     "iopub.status.busy": "2021-10-23T20:09:53.280015Z",
     "iopub.status.idle": "2021-10-23T20:09:53.291497Z",
     "shell.execute_reply": "2021-10-23T20:09:53.291969Z"
    },
    "papermill": {
     "duration": 0.098474,
     "end_time": "2021-10-23T20:09:53.292119",
     "exception": false,
     "start_time": "2021-10-23T20:09:53.193645",
     "status": "completed"
    },
    "tags": []
   },
   "outputs": [],
   "source": [
    "model_prob = Model(layers[-2:]) "
   ]
  },
  {
   "cell_type": "code",
   "execution_count": 28,
   "id": "9b96e238",
   "metadata": {
    "execution": {
     "iopub.execute_input": "2021-10-23T20:09:53.398636Z",
     "iopub.status.busy": "2021-10-23T20:09:53.397979Z",
     "iopub.status.idle": "2021-10-23T20:09:53.412982Z",
     "shell.execute_reply": "2021-10-23T20:09:53.413467Z"
    },
    "papermill": {
     "duration": 0.068464,
     "end_time": "2021-10-23T20:09:53.413636",
     "exception": false,
     "start_time": "2021-10-23T20:09:53.345172",
     "status": "completed"
    },
    "tags": []
   },
   "outputs": [],
   "source": [
    "#creating the x and y ranges according to the above generated plot.\n",
    "x_range = np.linspace(-4, 1, 100) \n",
    "y_range = np.linspace(-6, 6, 100) \n",
    "x_grid, y_grid = np.meshgrid(x_range, y_range) # x_grid and y_grig are of size 100 X 100\n",
    "\n",
    "# converting x_grid and y_grid to continuous arrays\n",
    "x_gridflat = np.ravel(x_grid)\n",
    "y_gridflat = np.ravel(y_grid)\n",
    "\n",
    "# The last layer of the current model takes two columns as input. Hence transpose of np.vstack() is required.\n",
    "X = np.vstack((x_gridflat, y_gridflat)).T\n",
    "\n",
    "prob_contour = model_prob(X).reshape(100,100) "
   ]
  },
  {
   "cell_type": "code",
   "execution_count": 29,
   "id": "da72499a",
   "metadata": {
    "execution": {
     "iopub.execute_input": "2021-10-23T20:09:53.523651Z",
     "iopub.status.busy": "2021-10-23T20:09:53.523087Z",
     "iopub.status.idle": "2021-10-23T20:09:53.839296Z",
     "shell.execute_reply": "2021-10-23T20:09:53.838696Z"
    },
    "papermill": {
     "duration": 0.368113,
     "end_time": "2021-10-23T20:09:53.839427",
     "exception": false,
     "start_time": "2021-10-23T20:09:53.471314",
     "status": "completed"
    },
    "tags": []
   },
   "outputs": [
    {
     "data": {
      "image/png": "[encoded data removed]",
      "text/plain": [
       "<Figure size 720x648 with 1 Axes>"
      ]
     },
     "metadata": {
      "needs_background": "light"
     },
     "output_type": "display_data"
    }
   ],
   "source": [
    "plt.figure(figsize=(10,9))\n",
    "plt.scatter(testing_plot[:,0], testing_plot[:,1], alpha = 0.1, c = y_test.ravel())\n",
    "contours = plt.contour(x_grid,y_grid,prob_contour)\n",
    "plt.title('Probability Contours')\n",
    "plt.clabel(contours, inline = True );"
   ]
  },
  {
   "cell_type": "code",
   "execution_count": null,
   "id": "e81b4ac7",
   "metadata": {
    "papermill": {
     "duration": 0.055457,
     "end_time": "2021-10-23T20:09:53.952988",
     "exception": false,
     "start_time": "2021-10-23T20:09:53.897531",
     "status": "completed"
    },
    "tags": []
   },
   "outputs": [],
   "source": []
  }
 ],
 "metadata": {
  "kernelspec": {
   "display_name": "Python 3",
   "language": "python",
   "name": "python3"
  },
  "language_info": {
   "codemirror_mode": {
    "name": "ipython",
    "version": 3
   },
   "file_extension": ".py",
   "mimetype": "text/x-python",
   "name": "python",
   "nbconvert_exporter": "python",
   "pygments_lexer": "ipython3",
   "version": "3.6.15"
  },
  "papermill": {
   "default_parameters": {},
   "duration": 169.004571,
   "end_time": "2021-10-23T20:09:54.316698",
   "environment_variables": {},
   "exception": null,
   "input_path": "2020-08-11-part2.ipynb",
   "output_path": "2020-08-11-part2.ipynb",
   "parameters": {},
   "start_time": "2021-10-23T20:07:05.312127",
   "version": "2.3.3"
  }
 },
 "nbformat": 4,
 "nbformat_minor": 5
}