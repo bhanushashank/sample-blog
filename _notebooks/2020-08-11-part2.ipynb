{
 "cells": [
  {
   "cell_type": "markdown",
   "id": "98380cd3",
   "metadata": {
    "papermill": {
     "duration": 0.029438,
     "end_time": "2022-09-09T00:45:35.209417",
     "exception": false,
     "start_time": "2022-09-09T00:45:35.179979",
     "status": "completed"
    },
    "tags": []
   },
   "source": [
    "# Distinguish Your Own Digits (DYOD)"
   ]
  },
  {
   "cell_type": "markdown",
   "id": "ef31240d",
   "metadata": {
    "papermill": {
     "duration": 0.024056,
     "end_time": "2022-09-09T00:45:35.258279",
     "exception": false,
     "start_time": "2022-09-09T00:45:35.234223",
     "status": "completed"
    },
    "tags": []
   },
   "source": [
    "You are going to write a classifier that distinguishes between the number 3 and number 8."
   ]
  },
  {
   "cell_type": "code",
   "execution_count": 1,
   "id": "b15c8646",
   "metadata": {
    "execution": {
     "iopub.execute_input": "2022-09-09T00:45:35.316049Z",
     "iopub.status.busy": "2022-09-09T00:45:35.313759Z",
     "iopub.status.idle": "2022-09-09T00:45:35.326274Z",
     "shell.execute_reply": "2022-09-09T00:45:35.325798Z"
    },
    "papermill": {
     "duration": 0.044114,
     "end_time": "2022-09-09T00:45:35.326383",
     "exception": false,
     "start_time": "2022-09-09T00:45:35.282269",
     "status": "completed"
    },
    "tags": []
   },
   "outputs": [],
   "source": [
    "%load_ext autoreload\n",
    "%autoreload 2"
   ]
  },
  {
   "cell_type": "code",
   "execution_count": 2,
   "id": "22ef38dc",
   "metadata": {
    "execution": {
     "iopub.execute_input": "2022-09-09T00:45:35.378242Z",
     "iopub.status.busy": "2022-09-09T00:45:35.377679Z",
     "iopub.status.idle": "2022-09-09T00:45:35.891672Z",
     "shell.execute_reply": "2022-09-09T00:45:35.891186Z"
    },
    "papermill": {
     "duration": 0.541255,
     "end_time": "2022-09-09T00:45:35.891795",
     "exception": false,
     "start_time": "2022-09-09T00:45:35.350540",
     "status": "completed"
    },
    "tags": []
   },
   "outputs": [],
   "source": [
    "%matplotlib inline\n",
    "import numpy as np\n",
    "import matplotlib.pyplot as plt\n",
    "import pandas as pd"
   ]
  },
  {
   "cell_type": "markdown",
   "id": "ba036198",
   "metadata": {
    "papermill": {
     "duration": 0.024243,
     "end_time": "2022-09-09T00:45:35.940433",
     "exception": false,
     "start_time": "2022-09-09T00:45:35.916190",
     "status": "completed"
    },
    "tags": []
   },
   "source": [
    "From the command line run `pip install mnist`. This is a library that will help you bring down the mnist dataset. If you run this from a notebook, you need to put  `!pip install mnist` in a cell by itself."
   ]
  },
  {
   "cell_type": "code",
   "execution_count": 3,
   "id": "bb6ad8a1",
   "metadata": {
    "execution": {
     "iopub.execute_input": "2022-09-09T00:45:35.994167Z",
     "iopub.status.busy": "2022-09-09T00:45:35.993577Z",
     "iopub.status.idle": "2022-09-09T00:45:38.540996Z",
     "shell.execute_reply": "2022-09-09T00:45:38.540240Z"
    },
    "papermill": {
     "duration": 2.576365,
     "end_time": "2022-09-09T00:45:38.541117",
     "exception": false,
     "start_time": "2022-09-09T00:45:35.964752",
     "status": "completed"
    },
    "tags": []
   },
   "outputs": [
    {
     "name": "stdout",
     "output_type": "stream",
     "text": [
      "Collecting mnist\r\n"
     ]
    },
    {
     "name": "stdout",
     "output_type": "stream",
     "text": [
      "  Downloading mnist-0.2.2-py2.py3-none-any.whl (3.5 kB)\r\n",
      "Requirement already satisfied: numpy in /opt/hostedtoolcache/Python/3.6.15/x64/lib/python3.6/site-packages (from mnist) (1.19.5)\r\n"
     ]
    },
    {
     "name": "stdout",
     "output_type": "stream",
     "text": [
      "Installing collected packages: mnist\r\n"
     ]
    },
    {
     "name": "stdout",
     "output_type": "stream",
     "text": [
      "Successfully installed mnist-0.2.2\r\n"
     ]
    }
   ],
   "source": [
    "!pip install mnist"
   ]
  },
  {
   "cell_type": "markdown",
   "id": "69df9c9a",
   "metadata": {
    "papermill": {
     "duration": 0.025603,
     "end_time": "2022-09-09T00:45:38.592278",
     "exception": false,
     "start_time": "2022-09-09T00:45:38.566675",
     "status": "completed"
    },
    "tags": []
   },
   "source": [
    "## Preparing the Data"
   ]
  },
  {
   "cell_type": "code",
   "execution_count": 4,
   "id": "7f69d806",
   "metadata": {
    "execution": {
     "iopub.execute_input": "2022-09-09T00:45:38.646949Z",
     "iopub.status.busy": "2022-09-09T00:45:38.646389Z",
     "iopub.status.idle": "2022-09-09T00:45:38.660094Z",
     "shell.execute_reply": "2022-09-09T00:45:38.660518Z"
    },
    "papermill": {
     "duration": 0.043078,
     "end_time": "2022-09-09T00:45:38.660636",
     "exception": false,
     "start_time": "2022-09-09T00:45:38.617558",
     "status": "completed"
    },
    "tags": []
   },
   "outputs": [],
   "source": [
    "import mnist"
   ]
  },
  {
   "cell_type": "code",
   "execution_count": 5,
   "id": "a411e44f",
   "metadata": {
    "execution": {
     "iopub.execute_input": "2022-09-09T00:45:38.715495Z",
     "iopub.status.busy": "2022-09-09T00:45:38.714932Z",
     "iopub.status.idle": "2022-09-09T00:45:39.392938Z",
     "shell.execute_reply": "2022-09-09T00:45:39.392422Z"
    },
    "papermill": {
     "duration": 0.707085,
     "end_time": "2022-09-09T00:45:39.393052",
     "exception": false,
     "start_time": "2022-09-09T00:45:38.685967",
     "status": "completed"
    },
    "tags": []
   },
   "outputs": [],
   "source": [
    "train_images = mnist.train_images()\n",
    "train_labels = mnist.train_labels()"
   ]
  },
  {
   "cell_type": "code",
   "execution_count": 6,
   "id": "dceab3a5",
   "metadata": {
    "execution": {
     "iopub.execute_input": "2022-09-09T00:45:39.450188Z",
     "iopub.status.busy": "2022-09-09T00:45:39.448598Z",
     "iopub.status.idle": "2022-09-09T00:45:39.462406Z",
     "shell.execute_reply": "2022-09-09T00:45:39.461956Z"
    },
    "papermill": {
     "duration": 0.043858,
     "end_time": "2022-09-09T00:45:39.462506",
     "exception": false,
     "start_time": "2022-09-09T00:45:39.418648",
     "status": "completed"
    },
    "tags": []
   },
   "outputs": [
    {
     "data": {
      "text/plain": [
       "((60000, 28, 28), (60000,))"
      ]
     },
     "execution_count": 6,
     "metadata": {},
     "output_type": "execute_result"
    }
   ],
   "source": [
    "train_images.shape, train_labels.shape"
   ]
  },
  {
   "cell_type": "code",
   "execution_count": 7,
   "id": "f50dc2bb",
   "metadata": {
    "execution": {
     "iopub.execute_input": "2022-09-09T00:45:39.516957Z",
     "iopub.status.busy": "2022-09-09T00:45:39.516400Z",
     "iopub.status.idle": "2022-09-09T00:45:39.744068Z",
     "shell.execute_reply": "2022-09-09T00:45:39.743561Z"
    },
    "papermill": {
     "duration": 0.256332,
     "end_time": "2022-09-09T00:45:39.744180",
     "exception": false,
     "start_time": "2022-09-09T00:45:39.487848",
     "status": "completed"
    },
    "tags": []
   },
   "outputs": [],
   "source": [
    "test_images = mnist.test_images()\n",
    "test_labels = mnist.test_labels()"
   ]
  },
  {
   "cell_type": "code",
   "execution_count": 8,
   "id": "fc38cf1b",
   "metadata": {
    "execution": {
     "iopub.execute_input": "2022-09-09T00:45:39.798698Z",
     "iopub.status.busy": "2022-09-09T00:45:39.798151Z",
     "iopub.status.idle": "2022-09-09T00:45:39.811224Z",
     "shell.execute_reply": "2022-09-09T00:45:39.810774Z"
    },
    "papermill": {
     "duration": 0.041452,
     "end_time": "2022-09-09T00:45:39.811322",
     "exception": false,
     "start_time": "2022-09-09T00:45:39.769870",
     "status": "completed"
    },
    "tags": []
   },
   "outputs": [
    {
     "data": {
      "text/plain": [
       "((10000, 28, 28), (10000,))"
      ]
     },
     "execution_count": 8,
     "metadata": {},
     "output_type": "execute_result"
    }
   ],
   "source": [
    "test_images.shape, test_labels.shape"
   ]
  },
  {
   "cell_type": "code",
   "execution_count": 9,
   "id": "f9ed8fe0",
   "metadata": {
    "execution": {
     "iopub.execute_input": "2022-09-09T00:45:39.866013Z",
     "iopub.status.busy": "2022-09-09T00:45:39.865457Z",
     "iopub.status.idle": "2022-09-09T00:45:39.995696Z",
     "shell.execute_reply": "2022-09-09T00:45:39.996124Z"
    },
    "papermill": {
     "duration": 0.159229,
     "end_time": "2022-09-09T00:45:39.996239",
     "exception": false,
     "start_time": "2022-09-09T00:45:39.837010",
     "status": "completed"
    },
    "tags": []
   },
   "outputs": [
    {
     "name": "stdout",
     "output_type": "stream",
     "text": [
      "2\n"
     ]
    },
    {
     "data": {
      "text/plain": [
       "<matplotlib.image.AxesImage at 0x7f0a4239bcc0>"
      ]
     },
     "execution_count": 9,
     "metadata": {},
     "output_type": "execute_result"
    },
    {
     "data": {
      "image/png": "[encoded data removed]",
      "text/plain": [
       "<Figure size 432x288 with 1 Axes>"
      ]
     },
     "metadata": {
      "needs_background": "light"
     },
     "output_type": "display_data"
    }
   ],
   "source": [
    "image_index = 7776 # You may select anything up to 60,000\n",
    "print(train_labels[image_index]) \n",
    "plt.imshow(train_images[image_index], cmap='Greys')"
   ]
  },
  {
   "cell_type": "markdown",
   "id": "a8d2388d",
   "metadata": {
    "papermill": {
     "duration": 0.026926,
     "end_time": "2022-09-09T00:45:40.050127",
     "exception": false,
     "start_time": "2022-09-09T00:45:40.023201",
     "status": "completed"
    },
    "tags": []
   },
   "source": [
    "## Filter data to get 3 and 8 out"
   ]
  },
  {
   "cell_type": "code",
   "execution_count": 10,
   "id": "776f7fc7",
   "metadata": {
    "execution": {
     "iopub.execute_input": "2022-09-09T00:45:40.107523Z",
     "iopub.status.busy": "2022-09-09T00:45:40.106951Z",
     "iopub.status.idle": "2022-09-09T00:45:40.123399Z",
     "shell.execute_reply": "2022-09-09T00:45:40.122870Z"
    },
    "papermill": {
     "duration": 0.046569,
     "end_time": "2022-09-09T00:45:40.123498",
     "exception": false,
     "start_time": "2022-09-09T00:45:40.076929",
     "status": "completed"
    },
    "tags": []
   },
   "outputs": [],
   "source": [
    "train_filter = np.where((train_labels == 3 ) | (train_labels == 8))\n",
    "test_filter = np.where((test_labels == 3) | (test_labels == 8))\n",
    "X_train, y_train = train_images[train_filter], train_labels[train_filter]\n",
    "X_test, y_test = test_images[test_filter], test_labels[test_filter]"
   ]
  },
  {
   "cell_type": "markdown",
   "id": "948f0b7e",
   "metadata": {
    "papermill": {
     "duration": 0.026884,
     "end_time": "2022-09-09T00:45:40.177247",
     "exception": false,
     "start_time": "2022-09-09T00:45:40.150363",
     "status": "completed"
    },
    "tags": []
   },
   "source": [
    "We normalize the pizel values in the 0 to 1 range"
   ]
  },
  {
   "cell_type": "code",
   "execution_count": 11,
   "id": "ee4c2166",
   "metadata": {
    "execution": {
     "iopub.execute_input": "2022-09-09T00:45:40.234717Z",
     "iopub.status.busy": "2022-09-09T00:45:40.234163Z",
     "iopub.status.idle": "2022-09-09T00:45:40.276068Z",
     "shell.execute_reply": "2022-09-09T00:45:40.275601Z"
    },
    "papermill": {
     "duration": 0.071814,
     "end_time": "2022-09-09T00:45:40.276175",
     "exception": false,
     "start_time": "2022-09-09T00:45:40.204361",
     "status": "completed"
    },
    "tags": []
   },
   "outputs": [],
   "source": [
    "X_train = X_train/255.\n",
    "X_test = X_test/255."
   ]
  },
  {
   "cell_type": "markdown",
   "id": "ddcf4fab",
   "metadata": {
    "papermill": {
     "duration": 0.02709,
     "end_time": "2022-09-09T00:45:40.330528",
     "exception": false,
     "start_time": "2022-09-09T00:45:40.303438",
     "status": "completed"
    },
    "tags": []
   },
   "source": [
    "And setup the labels as 1 (when the digit is 3) and 0 (when the digit is 8)"
   ]
  },
  {
   "cell_type": "code",
   "execution_count": 12,
   "id": "7dc908f2",
   "metadata": {
    "execution": {
     "iopub.execute_input": "2022-09-09T00:45:40.388253Z",
     "iopub.status.busy": "2022-09-09T00:45:40.387695Z",
     "iopub.status.idle": "2022-09-09T00:45:40.398926Z",
     "shell.execute_reply": "2022-09-09T00:45:40.399338Z"
    },
    "papermill": {
     "duration": 0.04195,
     "end_time": "2022-09-09T00:45:40.399460",
     "exception": false,
     "start_time": "2022-09-09T00:45:40.357510",
     "status": "completed"
    },
    "tags": []
   },
   "outputs": [],
   "source": [
    "y_train = 1*(y_train==3)\n",
    "y_test = 1*(y_test==3)"
   ]
  },
  {
   "cell_type": "code",
   "execution_count": 13,
   "id": "01e4e969",
   "metadata": {
    "execution": {
     "iopub.execute_input": "2022-09-09T00:45:40.456384Z",
     "iopub.status.busy": "2022-09-09T00:45:40.455781Z",
     "iopub.status.idle": "2022-09-09T00:45:40.468821Z",
     "shell.execute_reply": "2022-09-09T00:45:40.468286Z"
    },
    "papermill": {
     "duration": 0.042479,
     "end_time": "2022-09-09T00:45:40.468922",
     "exception": false,
     "start_time": "2022-09-09T00:45:40.426443",
     "status": "completed"
    },
    "tags": []
   },
   "outputs": [
    {
     "data": {
      "text/plain": [
       "((11982, 28, 28), (1984, 28, 28))"
      ]
     },
     "execution_count": 13,
     "metadata": {},
     "output_type": "execute_result"
    }
   ],
   "source": [
    "X_train.shape, X_test.shape"
   ]
  },
  {
   "cell_type": "markdown",
   "id": "5ccf3f85",
   "metadata": {
    "papermill": {
     "duration": 0.027026,
     "end_time": "2022-09-09T00:45:40.522888",
     "exception": false,
     "start_time": "2022-09-09T00:45:40.495862",
     "status": "completed"
    },
    "tags": []
   },
   "source": [
    "We reshape the data to flatten the image pixels into a set of features or co-variates:"
   ]
  },
  {
   "cell_type": "code",
   "execution_count": 14,
   "id": "5286a4a3",
   "metadata": {
    "execution": {
     "iopub.execute_input": "2022-09-09T00:45:40.581997Z",
     "iopub.status.busy": "2022-09-09T00:45:40.581431Z",
     "iopub.status.idle": "2022-09-09T00:45:40.594697Z",
     "shell.execute_reply": "2022-09-09T00:45:40.594248Z"
    },
    "papermill": {
     "duration": 0.044102,
     "end_time": "2022-09-09T00:45:40.594795",
     "exception": false,
     "start_time": "2022-09-09T00:45:40.550693",
     "status": "completed"
    },
    "tags": []
   },
   "outputs": [
    {
     "data": {
      "text/plain": [
       "((11982, 784), (1984, 784))"
      ]
     },
     "execution_count": 14,
     "metadata": {},
     "output_type": "execute_result"
    }
   ],
   "source": [
    "X_train = X_train.reshape(X_train.shape[0], -1)\n",
    "X_test = X_test.reshape(X_test.shape[0], -1)\n",
    "X_train.shape, X_test.shape"
   ]
  },
  {
   "cell_type": "code",
   "execution_count": 15,
   "id": "73c5f88a",
   "metadata": {
    "execution": {
     "iopub.execute_input": "2022-09-09T00:45:40.653303Z",
     "iopub.status.busy": "2022-09-09T00:45:40.652708Z",
     "iopub.status.idle": "2022-09-09T00:45:40.670467Z",
     "shell.execute_reply": "2022-09-09T00:45:40.670882Z"
    },
    "papermill": {
     "duration": 0.048912,
     "end_time": "2022-09-09T00:45:40.670994",
     "exception": false,
     "start_time": "2022-09-09T00:45:40.622082",
     "status": "completed"
    },
    "tags": []
   },
   "outputs": [],
   "source": [
    "#Impoting functions from 'Kudzu'\n",
    "from kudzu.model import Model\n",
    "from kudzu.train import Learner\n",
    "from kudzu.optim import GD\n",
    "from kudzu.data import Data, Sampler,Dataloader\n",
    "\n",
    "from kudzu.callbacks import AccCallback\n",
    "from kudzu.callbacks import ClfCallback\n",
    "\n",
    "from kudzu.loss import MSE\n",
    "\n",
    "from kudzu.layer import Sigmoid,Relu\n",
    "from kudzu.layer import Affine"
   ]
  },
  {
   "cell_type": "markdown",
   "id": "bc01172a",
   "metadata": {
    "papermill": {
     "duration": 0.027218,
     "end_time": "2022-09-09T00:45:40.725617",
     "exception": false,
     "start_time": "2022-09-09T00:45:40.698399",
     "status": "completed"
    },
    "tags": []
   },
   "source": [
    "### Let us create a `Config` class, to store important parameters. \n",
    "This class essentially plays the role of a dictionary."
   ]
  },
  {
   "cell_type": "code",
   "execution_count": 16,
   "id": "978281aa",
   "metadata": {
    "execution": {
     "iopub.execute_input": "2022-09-09T00:45:40.784054Z",
     "iopub.status.busy": "2022-09-09T00:45:40.783497Z",
     "iopub.status.idle": "2022-09-09T00:45:40.794892Z",
     "shell.execute_reply": "2022-09-09T00:45:40.795311Z"
    },
    "papermill": {
     "duration": 0.042533,
     "end_time": "2022-09-09T00:45:40.795429",
     "exception": false,
     "start_time": "2022-09-09T00:45:40.752896",
     "status": "completed"
    },
    "tags": []
   },
   "outputs": [],
   "source": [
    "class Config:\n",
    "    pass\n",
    "config = Config()\n",
    "config.lr = 0.001\n",
    "config.num_epochs = 250\n",
    "config.bs = 50"
   ]
  },
  {
   "cell_type": "markdown",
   "id": "1385fa59",
   "metadata": {
    "papermill": {
     "duration": 0.02719,
     "end_time": "2022-09-09T00:45:40.849981",
     "exception": false,
     "start_time": "2022-09-09T00:45:40.822791",
     "status": "completed"
    },
    "tags": []
   },
   "source": [
    "### Running Models with the Training data\n",
    "Details about the network layers:\n",
    "- A first affine layer has 784 inputs and does 100 affine transforms. These are followed by a Relu\n",
    "- A second affine layer has 100 inputs from the 100 activations of the past layer, and does 100 affine transforms. These are followed by a Relu\n",
    "- A third affine layer has 100 activations and does 2 affine transformations to create an embedding for visualization. There is no non-linearity here.\n",
    "- A final \"logistic regression\" which has an affine transform from 2 inputs to 1 output, which is squeezed through a sigmoid.\n"
   ]
  },
  {
   "cell_type": "code",
   "execution_count": 17,
   "id": "2b9c66db",
   "metadata": {
    "execution": {
     "iopub.execute_input": "2022-09-09T00:45:40.908252Z",
     "iopub.status.busy": "2022-09-09T00:45:40.907703Z",
     "iopub.status.idle": "2022-09-09T00:45:40.919801Z",
     "shell.execute_reply": "2022-09-09T00:45:40.919341Z"
    },
    "papermill": {
     "duration": 0.042591,
     "end_time": "2022-09-09T00:45:40.919899",
     "exception": false,
     "start_time": "2022-09-09T00:45:40.877308",
     "status": "completed"
    },
    "tags": []
   },
   "outputs": [],
   "source": [
    "data = Data(X_train, y_train.reshape(-1,1))\n",
    "sampler = Sampler(data, config.bs, shuffle=True)\n",
    "\n",
    "dl = Dataloader(data, sampler)\n",
    "\n",
    "opt = GD(config.lr)\n",
    "loss = MSE()"
   ]
  },
  {
   "cell_type": "code",
   "execution_count": 18,
   "id": "b275e4c2",
   "metadata": {
    "execution": {
     "iopub.execute_input": "2022-09-09T00:45:40.977690Z",
     "iopub.status.busy": "2022-09-09T00:45:40.977103Z",
     "iopub.status.idle": "2022-09-09T00:45:40.988598Z",
     "shell.execute_reply": "2022-09-09T00:45:40.989021Z"
    },
    "papermill": {
     "duration": 0.041896,
     "end_time": "2022-09-09T00:45:40.989128",
     "exception": false,
     "start_time": "2022-09-09T00:45:40.947232",
     "status": "completed"
    },
    "tags": []
   },
   "outputs": [],
   "source": [
    "training_data_x = X_train\n",
    "testing_data_x = X_test\n",
    "training_data_y = y_train.reshape(-1,1)\n",
    "testing_data_y = y_test.reshape(-1,1)"
   ]
  },
  {
   "cell_type": "code",
   "execution_count": 19,
   "id": "76951160",
   "metadata": {
    "execution": {
     "iopub.execute_input": "2022-09-09T00:45:41.047159Z",
     "iopub.status.busy": "2022-09-09T00:45:41.046609Z",
     "iopub.status.idle": "2022-09-09T00:45:41.061930Z",
     "shell.execute_reply": "2022-09-09T00:45:41.061391Z"
    },
    "papermill": {
     "duration": 0.045721,
     "end_time": "2022-09-09T00:45:41.062025",
     "exception": false,
     "start_time": "2022-09-09T00:45:41.016304",
     "status": "completed"
    },
    "tags": []
   },
   "outputs": [
    {
     "name": "stdout",
     "output_type": "stream",
     "text": [
      "xavier\n",
      "xavier\n",
      "xavier\n",
      "xavier\n",
      "xavier\n"
     ]
    }
   ],
   "source": [
    "layers = [Affine(\"first\", 784, 100), Relu(\"first\"), Affine(\"second\", 100, 100), Relu(\"second\"), Affine(\"third\", 100, 2), Affine(\"last\", 2, 1), Sigmoid(\"last\")]\n",
    "model_nn = Model(layers)\n",
    "model_lr = Model([Affine(\"logits\", 784, 1), Sigmoid(\"sigmoid\")])"
   ]
  },
  {
   "cell_type": "code",
   "execution_count": 20,
   "id": "6eede77a",
   "metadata": {
    "execution": {
     "iopub.execute_input": "2022-09-09T00:45:41.120573Z",
     "iopub.status.busy": "2022-09-09T00:45:41.120011Z",
     "iopub.status.idle": "2022-09-09T00:45:41.132340Z",
     "shell.execute_reply": "2022-09-09T00:45:41.131661Z"
    },
    "papermill": {
     "duration": 0.042778,
     "end_time": "2022-09-09T00:45:41.132440",
     "exception": false,
     "start_time": "2022-09-09T00:45:41.089662",
     "status": "completed"
    },
    "tags": []
   },
   "outputs": [],
   "source": [
    "nn_learner = Learner(loss, model_nn, opt, config.num_epochs)\n",
    "acc_nn = ClfCallback(nn_learner, config.bs, training_data_x , testing_data_x, training_data_y, testing_data_y)\n",
    "nn_learner.set_callbacks([acc_nn])"
   ]
  },
  {
   "cell_type": "code",
   "execution_count": 21,
   "id": "877b6cc7",
   "metadata": {
    "execution": {
     "iopub.execute_input": "2022-09-09T00:45:41.191464Z",
     "iopub.status.busy": "2022-09-09T00:45:41.190905Z",
     "iopub.status.idle": "2022-09-09T00:45:41.201823Z",
     "shell.execute_reply": "2022-09-09T00:45:41.202238Z"
    },
    "papermill": {
     "duration": 0.042255,
     "end_time": "2022-09-09T00:45:41.202344",
     "exception": false,
     "start_time": "2022-09-09T00:45:41.160089",
     "status": "completed"
    },
    "tags": []
   },
   "outputs": [],
   "source": [
    "lr_learner = Learner(loss, model_lr, opt, config.num_epochs)\n",
    "acc_lr = ClfCallback(lr_learner, config.bs, training_data_x , testing_data_x, training_data_y, testing_data_y)\n",
    "lr_learner.set_callbacks([acc_lr])"
   ]
  },
  {
   "cell_type": "code",
   "execution_count": 22,
   "id": "d9b133c3",
   "metadata": {
    "execution": {
     "iopub.execute_input": "2022-09-09T00:45:41.260578Z",
     "iopub.status.busy": "2022-09-09T00:45:41.260015Z",
     "iopub.status.idle": "2022-09-09T00:48:37.990719Z",
     "shell.execute_reply": "2022-09-09T00:48:37.991162Z"
    },
    "papermill": {
     "duration": 176.761254,
     "end_time": "2022-09-09T00:48:37.991286",
     "exception": false,
     "start_time": "2022-09-09T00:45:41.230032",
     "status": "completed"
    },
    "tags": []
   },
   "outputs": [
    {
     "name": "stdout",
     "output_type": "stream",
     "text": [
      "Epoch 0, Loss 0.2115\n",
      "Training Accuracy: 0.7861, Testing Accuracy: 0.8019\n",
      "\n"
     ]
    },
    {
     "name": "stdout",
     "output_type": "stream",
     "text": [
      "Epoch 10, Loss 0.0603\n",
      "Training Accuracy: 0.9382, Testing Accuracy: 0.9521\n",
      "\n"
     ]
    },
    {
     "name": "stdout",
     "output_type": "stream",
     "text": [
      "Epoch 20, Loss 0.0423\n",
      "Training Accuracy: 0.9541, Testing Accuracy: 0.9652\n",
      "\n"
     ]
    },
    {
     "name": "stdout",
     "output_type": "stream",
     "text": [
      "Epoch 30, Loss 0.0354\n",
      "Training Accuracy: 0.9619, Testing Accuracy: 0.9708\n",
      "\n"
     ]
    },
    {
     "name": "stdout",
     "output_type": "stream",
     "text": [
      "Epoch 40, Loss 0.0315\n",
      "Training Accuracy: 0.9648, Testing Accuracy: 0.9738\n",
      "\n"
     ]
    },
    {
     "name": "stdout",
     "output_type": "stream",
     "text": [
      "Epoch 50, Loss 0.0289\n",
      "Training Accuracy: 0.9670, Testing Accuracy: 0.9738\n",
      "\n"
     ]
    },
    {
     "name": "stdout",
     "output_type": "stream",
     "text": [
      "Epoch 60, Loss 0.027\n",
      "Training Accuracy: 0.9687, Testing Accuracy: 0.9763\n",
      "\n"
     ]
    },
    {
     "name": "stdout",
     "output_type": "stream",
     "text": [
      "Epoch 70, Loss 0.0255\n",
      "Training Accuracy: 0.9699, Testing Accuracy: 0.9758\n",
      "\n"
     ]
    },
    {
     "name": "stdout",
     "output_type": "stream",
     "text": [
      "Epoch 80, Loss 0.0243\n",
      "Training Accuracy: 0.9717, Testing Accuracy: 0.9763\n",
      "\n"
     ]
    },
    {
     "name": "stdout",
     "output_type": "stream",
     "text": [
      "Epoch 90, Loss 0.0233\n",
      "Training Accuracy: 0.9730, Testing Accuracy: 0.9763\n",
      "\n"
     ]
    },
    {
     "name": "stdout",
     "output_type": "stream",
     "text": [
      "Epoch 100, Loss 0.0224\n",
      "Training Accuracy: 0.9745, Testing Accuracy: 0.9758\n",
      "\n"
     ]
    },
    {
     "name": "stdout",
     "output_type": "stream",
     "text": [
      "Epoch 110, Loss 0.0216\n",
      "Training Accuracy: 0.9757, Testing Accuracy: 0.9768\n",
      "\n"
     ]
    },
    {
     "name": "stdout",
     "output_type": "stream",
     "text": [
      "Epoch 120, Loss 0.0209\n",
      "Training Accuracy: 0.9763, Testing Accuracy: 0.9768\n",
      "\n"
     ]
    },
    {
     "name": "stdout",
     "output_type": "stream",
     "text": [
      "Epoch 130, Loss 0.0203\n",
      "Training Accuracy: 0.9773, Testing Accuracy: 0.9768\n",
      "\n"
     ]
    },
    {
     "name": "stdout",
     "output_type": "stream",
     "text": [
      "Epoch 140, Loss 0.0197\n",
      "Training Accuracy: 0.9776, Testing Accuracy: 0.9768\n",
      "\n"
     ]
    },
    {
     "name": "stdout",
     "output_type": "stream",
     "text": [
      "Epoch 150, Loss 0.0191\n",
      "Training Accuracy: 0.9789, Testing Accuracy: 0.9773\n",
      "\n"
     ]
    },
    {
     "name": "stdout",
     "output_type": "stream",
     "text": [
      "Epoch 160, Loss 0.0186\n",
      "Training Accuracy: 0.9792, Testing Accuracy: 0.9773\n",
      "\n"
     ]
    },
    {
     "name": "stdout",
     "output_type": "stream",
     "text": [
      "Epoch 170, Loss 0.0181\n",
      "Training Accuracy: 0.9801, Testing Accuracy: 0.9778\n",
      "\n"
     ]
    },
    {
     "name": "stdout",
     "output_type": "stream",
     "text": [
      "Epoch 180, Loss 0.0177\n",
      "Training Accuracy: 0.9806, Testing Accuracy: 0.9773\n",
      "\n"
     ]
    },
    {
     "name": "stdout",
     "output_type": "stream",
     "text": [
      "Epoch 190, Loss 0.0172\n",
      "Training Accuracy: 0.9811, Testing Accuracy: 0.9778\n",
      "\n"
     ]
    },
    {
     "name": "stdout",
     "output_type": "stream",
     "text": [
      "Epoch 200, Loss 0.0168\n",
      "Training Accuracy: 0.9816, Testing Accuracy: 0.9778\n",
      "\n"
     ]
    },
    {
     "name": "stdout",
     "output_type": "stream",
     "text": [
      "Epoch 210, Loss 0.0164\n",
      "Training Accuracy: 0.9818, Testing Accuracy: 0.9778\n",
      "\n"
     ]
    },
    {
     "name": "stdout",
     "output_type": "stream",
     "text": [
      "Epoch 220, Loss 0.016\n",
      "Training Accuracy: 0.9824, Testing Accuracy: 0.9783\n",
      "\n"
     ]
    },
    {
     "name": "stdout",
     "output_type": "stream",
     "text": [
      "Epoch 230, Loss 0.0156\n",
      "Training Accuracy: 0.9828, Testing Accuracy: 0.9783\n",
      "\n"
     ]
    },
    {
     "name": "stdout",
     "output_type": "stream",
     "text": [
      "Epoch 240, Loss 0.0153\n",
      "Training Accuracy: 0.9834, Testing Accuracy: 0.9788\n",
      "\n"
     ]
    },
    {
     "data": {
      "text/plain": [
       "0.002902472229956899"
      ]
     },
     "execution_count": 22,
     "metadata": {},
     "output_type": "execute_result"
    }
   ],
   "source": [
    "nn_learner.train_loop(dl)"
   ]
  },
  {
   "cell_type": "code",
   "execution_count": 23,
   "id": "e0163366",
   "metadata": {
    "execution": {
     "iopub.execute_input": "2022-09-09T00:48:38.067591Z",
     "iopub.status.busy": "2022-09-09T00:48:38.065175Z",
     "iopub.status.idle": "2022-09-09T00:48:50.232446Z",
     "shell.execute_reply": "2022-09-09T00:48:50.233253Z"
    },
    "papermill": {
     "duration": 12.207424,
     "end_time": "2022-09-09T00:48:50.233386",
     "exception": false,
     "start_time": "2022-09-09T00:48:38.025962",
     "status": "completed"
    },
    "tags": []
   },
   "outputs": [
    {
     "name": "stdout",
     "output_type": "stream",
     "text": [
      "Epoch 0, Loss 0.2126\n",
      "Training Accuracy: 0.7857, Testing Accuracy: 0.7898\n",
      "\n"
     ]
    },
    {
     "name": "stdout",
     "output_type": "stream",
     "text": [
      "Epoch 10, Loss 0.0957\n",
      "Training Accuracy: 0.9208, Testing Accuracy: 0.9405\n",
      "\n"
     ]
    },
    {
     "name": "stdout",
     "output_type": "stream",
     "text": [
      "Epoch 20, Loss 0.0753\n",
      "Training Accuracy: 0.9337, Testing Accuracy: 0.9496\n",
      "\n"
     ]
    },
    {
     "name": "stdout",
     "output_type": "stream",
     "text": [
      "Epoch 30, Loss 0.0658\n",
      "Training Accuracy: 0.9397, Testing Accuracy: 0.9541\n",
      "\n"
     ]
    },
    {
     "name": "stdout",
     "output_type": "stream",
     "text": [
      "Epoch 40, Loss 0.06\n",
      "Training Accuracy: 0.9438, Testing Accuracy: 0.9561\n",
      "\n"
     ]
    },
    {
     "name": "stdout",
     "output_type": "stream",
     "text": [
      "Epoch 50, Loss 0.0559\n",
      "Training Accuracy: 0.9460, Testing Accuracy: 0.9567\n",
      "\n"
     ]
    },
    {
     "name": "stdout",
     "output_type": "stream",
     "text": [
      "Epoch 60, Loss 0.0529\n",
      "Training Accuracy: 0.9489, Testing Accuracy: 0.9577\n",
      "\n"
     ]
    },
    {
     "name": "stdout",
     "output_type": "stream",
     "text": [
      "Epoch 70, Loss 0.0506\n",
      "Training Accuracy: 0.9510, Testing Accuracy: 0.9597\n",
      "\n"
     ]
    },
    {
     "name": "stdout",
     "output_type": "stream",
     "text": [
      "Epoch 80, Loss 0.0487\n",
      "Training Accuracy: 0.9519, Testing Accuracy: 0.9607\n",
      "\n"
     ]
    },
    {
     "name": "stdout",
     "output_type": "stream",
     "text": [
      "Epoch 90, Loss 0.0471\n",
      "Training Accuracy: 0.9530, Testing Accuracy: 0.9627\n",
      "\n"
     ]
    },
    {
     "name": "stdout",
     "output_type": "stream",
     "text": [
      "Epoch 100, Loss 0.0458\n",
      "Training Accuracy: 0.9539, Testing Accuracy: 0.9632\n",
      "\n"
     ]
    },
    {
     "name": "stdout",
     "output_type": "stream",
     "text": [
      "Epoch 110, Loss 0.0446\n",
      "Training Accuracy: 0.9543, Testing Accuracy: 0.9642\n",
      "\n"
     ]
    },
    {
     "name": "stdout",
     "output_type": "stream",
     "text": [
      "Epoch 120, Loss 0.0436\n",
      "Training Accuracy: 0.9549, Testing Accuracy: 0.9657\n",
      "\n"
     ]
    },
    {
     "name": "stdout",
     "output_type": "stream",
     "text": [
      "Epoch 130, Loss 0.0427\n",
      "Training Accuracy: 0.9556, Testing Accuracy: 0.9662\n",
      "\n"
     ]
    },
    {
     "name": "stdout",
     "output_type": "stream",
     "text": [
      "Epoch 140, Loss 0.0419\n",
      "Training Accuracy: 0.9564, Testing Accuracy: 0.9667\n",
      "\n"
     ]
    },
    {
     "name": "stdout",
     "output_type": "stream",
     "text": [
      "Epoch 150, Loss 0.0412\n",
      "Training Accuracy: 0.9570, Testing Accuracy: 0.9667\n",
      "\n"
     ]
    },
    {
     "name": "stdout",
     "output_type": "stream",
     "text": [
      "Epoch 160, Loss 0.0406\n",
      "Training Accuracy: 0.9577, Testing Accuracy: 0.9667\n",
      "\n"
     ]
    },
    {
     "name": "stdout",
     "output_type": "stream",
     "text": [
      "Epoch 170, Loss 0.04\n",
      "Training Accuracy: 0.9581, Testing Accuracy: 0.9667\n",
      "\n"
     ]
    },
    {
     "name": "stdout",
     "output_type": "stream",
     "text": [
      "Epoch 180, Loss 0.0394\n",
      "Training Accuracy: 0.9587, Testing Accuracy: 0.9672\n",
      "\n"
     ]
    },
    {
     "name": "stdout",
     "output_type": "stream",
     "text": [
      "Epoch 190, Loss 0.0389\n",
      "Training Accuracy: 0.9593, Testing Accuracy: 0.9682\n",
      "\n"
     ]
    },
    {
     "name": "stdout",
     "output_type": "stream",
     "text": [
      "Epoch 200, Loss 0.0385\n",
      "Training Accuracy: 0.9599, Testing Accuracy: 0.9688\n",
      "\n"
     ]
    },
    {
     "name": "stdout",
     "output_type": "stream",
     "text": [
      "Epoch 210, Loss 0.0381\n",
      "Training Accuracy: 0.9599, Testing Accuracy: 0.9693\n",
      "\n"
     ]
    },
    {
     "name": "stdout",
     "output_type": "stream",
     "text": [
      "Epoch 220, Loss 0.0377\n",
      "Training Accuracy: 0.9604, Testing Accuracy: 0.9693\n",
      "\n"
     ]
    },
    {
     "name": "stdout",
     "output_type": "stream",
     "text": [
      "Epoch 230, Loss 0.0373\n",
      "Training Accuracy: 0.9605, Testing Accuracy: 0.9693\n",
      "\n"
     ]
    },
    {
     "name": "stdout",
     "output_type": "stream",
     "text": [
      "Epoch 240, Loss 0.0369\n",
      "Training Accuracy: 0.9607, Testing Accuracy: 0.9688\n",
      "\n"
     ]
    },
    {
     "data": {
      "text/plain": [
       "0.04682684911218886"
      ]
     },
     "execution_count": 23,
     "metadata": {},
     "output_type": "execute_result"
    }
   ],
   "source": [
    "lr_learner.train_loop(dl)"
   ]
  },
  {
   "cell_type": "code",
   "execution_count": 24,
   "id": "ca410940",
   "metadata": {
    "execution": {
     "iopub.execute_input": "2022-09-09T00:48:50.326748Z",
     "iopub.status.busy": "2022-09-09T00:48:50.326166Z",
     "iopub.status.idle": "2022-09-09T00:48:50.558347Z",
     "shell.execute_reply": "2022-09-09T00:48:50.558806Z"
    },
    "papermill": {
     "duration": 0.28287,
     "end_time": "2022-09-09T00:48:50.558949",
     "exception": false,
     "start_time": "2022-09-09T00:48:50.276079",
     "status": "completed"
    },
    "tags": []
   },
   "outputs": [
    {
     "data": {
      "text/plain": [
       "<matplotlib.legend.Legend at 0x7f0a41f0a358>"
      ]
     },
     "execution_count": 24,
     "metadata": {},
     "output_type": "execute_result"
    },
    {
     "data": {
      "image/png": "[encoded data removed]",
      "text/plain": [
       "<Figure size 1080x720 with 1 Axes>"
      ]
     },
     "metadata": {
      "needs_background": "light"
     },
     "output_type": "display_data"
    }
   ],
   "source": [
    "#comparing the results of NN and LR\n",
    "plt.figure(figsize=(15,10))\n",
    "\n",
    "# Neural Network plots\n",
    "plt.plot(acc_nn.accuracies, 'r-', label = \"Training Accuracies - NN\")\n",
    "plt.plot(acc_nn.test_accuracies, 'g-', label = \"Testing Accuracies - NN\")\n",
    "\n",
    "# Logistic Regression plots\n",
    "plt.plot(acc_lr.accuracies, 'k-', label = \"Training Accuracies - LR\")\n",
    "plt.plot(acc_lr.test_accuracies, 'b-', label = \"Testing Accuracies - LR\")\n",
    "plt.legend()"
   ]
  },
  {
   "cell_type": "markdown",
   "id": "80dfb35c",
   "metadata": {
    "papermill": {
     "duration": 0.043294,
     "end_time": "2022-09-09T00:48:50.645865",
     "exception": false,
     "start_time": "2022-09-09T00:48:50.602571",
     "status": "completed"
    },
    "tags": []
   },
   "source": [
    "#### Plotting the outputs of this layer of the NN.\n"
   ]
  },
  {
   "cell_type": "code",
   "execution_count": 25,
   "id": "45eb2ff5",
   "metadata": {
    "execution": {
     "iopub.execute_input": "2022-09-09T00:48:50.737418Z",
     "iopub.status.busy": "2022-09-09T00:48:50.736031Z",
     "iopub.status.idle": "2022-09-09T00:48:50.771327Z",
     "shell.execute_reply": "2022-09-09T00:48:50.770889Z"
    },
    "papermill": {
     "duration": 0.082763,
     "end_time": "2022-09-09T00:48:50.771435",
     "exception": false,
     "start_time": "2022-09-09T00:48:50.688672",
     "status": "completed"
    },
    "tags": []
   },
   "outputs": [],
   "source": [
    "new_model = Model(layers[:-2])\n",
    "testing_plot = new_model(testing_data_x)"
   ]
  },
  {
   "cell_type": "code",
   "execution_count": 26,
   "id": "4c0a5485",
   "metadata": {
    "execution": {
     "iopub.execute_input": "2022-09-09T00:48:50.863830Z",
     "iopub.status.busy": "2022-09-09T00:48:50.863238Z",
     "iopub.status.idle": "2022-09-09T00:48:51.051861Z",
     "shell.execute_reply": "2022-09-09T00:48:51.052310Z"
    },
    "papermill": {
     "duration": 0.237583,
     "end_time": "2022-09-09T00:48:51.052436",
     "exception": false,
     "start_time": "2022-09-09T00:48:50.814853",
     "status": "completed"
    },
    "tags": []
   },
   "outputs": [
    {
     "data": {
      "text/plain": [
       "Text(0.5, 1.0, 'Outputs')"
      ]
     },
     "execution_count": 26,
     "metadata": {},
     "output_type": "execute_result"
    },
    {
     "data": {
      "image/png": "[encoded data removed]",
      "text/plain": [
       "<Figure size 576x504 with 1 Axes>"
      ]
     },
     "metadata": {
      "needs_background": "light"
     },
     "output_type": "display_data"
    }
   ],
   "source": [
    "# Plotting the scatter plot of points and color coding by class\n",
    "plt.figure(figsize=(8,7))\n",
    "plt.scatter(testing_plot[:,0], testing_plot[:,1], alpha = 0.1, c = y_test.ravel());\n",
    "plt.title('Outputs')"
   ]
  },
  {
   "cell_type": "markdown",
   "id": "a74fcf8f",
   "metadata": {
    "papermill": {
     "duration": 0.045176,
     "end_time": "2022-09-09T00:48:51.163990",
     "exception": false,
     "start_time": "2022-09-09T00:48:51.118814",
     "status": "completed"
    },
    "tags": []
   },
   "source": [
    "Probability contours"
   ]
  },
  {
   "cell_type": "code",
   "execution_count": 27,
   "id": "d0afc8e3",
   "metadata": {
    "execution": {
     "iopub.execute_input": "2022-09-09T00:48:51.262170Z",
     "iopub.status.busy": "2022-09-09T00:48:51.257357Z",
     "iopub.status.idle": "2022-09-09T00:48:51.269024Z",
     "shell.execute_reply": "2022-09-09T00:48:51.268487Z"
    },
    "papermill": {
     "duration": 0.060039,
     "end_time": "2022-09-09T00:48:51.269128",
     "exception": false,
     "start_time": "2022-09-09T00:48:51.209089",
     "status": "completed"
    },
    "tags": []
   },
   "outputs": [],
   "source": [
    "model_prob = Model(layers[-2:]) "
   ]
  },
  {
   "cell_type": "code",
   "execution_count": 28,
   "id": "9b96e238",
   "metadata": {
    "execution": {
     "iopub.execute_input": "2022-09-09T00:48:51.363557Z",
     "iopub.status.busy": "2022-09-09T00:48:51.362996Z",
     "iopub.status.idle": "2022-09-09T00:48:51.376542Z",
     "shell.execute_reply": "2022-09-09T00:48:51.376936Z"
    },
    "papermill": {
     "duration": 0.062839,
     "end_time": "2022-09-09T00:48:51.377070",
     "exception": false,
     "start_time": "2022-09-09T00:48:51.314231",
     "status": "completed"
    },
    "tags": []
   },
   "outputs": [],
   "source": [
    "#creating the x and y ranges according to the above generated plot.\n",
    "x_range = np.linspace(-4, 1, 100) \n",
    "y_range = np.linspace(-6, 6, 100) \n",
    "x_grid, y_grid = np.meshgrid(x_range, y_range) # x_grid and y_grig are of size 100 X 100\n",
    "\n",
    "# converting x_grid and y_grid to continuous arrays\n",
    "x_gridflat = np.ravel(x_grid)\n",
    "y_gridflat = np.ravel(y_grid)\n",
    "\n",
    "# The last layer of the current model takes two columns as input. Hence transpose of np.vstack() is required.\n",
    "X = np.vstack((x_gridflat, y_gridflat)).T\n",
    "\n",
    "prob_contour = model_prob(X).reshape(100,100) "
   ]
  },
  {
   "cell_type": "code",
   "execution_count": 29,
   "id": "da72499a",
   "metadata": {
    "execution": {
     "iopub.execute_input": "2022-09-09T00:48:51.470683Z",
     "iopub.status.busy": "2022-09-09T00:48:51.469728Z",
     "iopub.status.idle": "2022-09-09T00:48:51.715946Z",
     "shell.execute_reply": "2022-09-09T00:48:51.716366Z"
    },
    "papermill": {
     "duration": 0.294622,
     "end_time": "2022-09-09T00:48:51.716498",
     "exception": false,
     "start_time": "2022-09-09T00:48:51.421876",
     "status": "completed"
    },
    "tags": []
   },
   "outputs": [
    {
     "data": {
      "image/png": "[encoded data removed]",
      "text/plain": [
       "<Figure size 720x648 with 1 Axes>"
      ]
     },
     "metadata": {
      "needs_background": "light"
     },
     "output_type": "display_data"
    }
   ],
   "source": [
    "plt.figure(figsize=(10,9))\n",
    "plt.scatter(testing_plot[:,0], testing_plot[:,1], alpha = 0.1, c = y_test.ravel())\n",
    "contours = plt.contour(x_grid,y_grid,prob_contour)\n",
    "plt.title('Probability Contours')\n",
    "plt.clabel(contours, inline = True );"
   ]
  },
  {
   "cell_type": "code",
   "execution_count": null,
   "id": "e81b4ac7",
   "metadata": {
    "papermill": {
     "duration": 0.047798,
     "end_time": "2022-09-09T00:48:51.812508",
     "exception": false,
     "start_time": "2022-09-09T00:48:51.764710",
     "status": "completed"
    },
    "tags": []
   },
   "outputs": [],
   "source": []
  }
 ],
 "metadata": {
  "kernelspec": {
   "display_name": "Python 3",
   "language": "python",
   "name": "python3"
  },
  "language_info": {
   "codemirror_mode": {
    "name": "ipython",
    "version": 3
   },
   "file_extension": ".py",
   "mimetype": "text/x-python",
   "name": "python",
   "nbconvert_exporter": "python",
   "pygments_lexer": "ipython3",
   "version": "3.6.15"
  },
  "papermill": {
   "default_parameters": {},
   "duration": 197.925891,
   "end_time": "2022-09-09T00:48:52.179201",
   "environment_variables": {},
   "exception": null,
   "input_path": "2020-08-11-part2.ipynb",
   "output_path": "2020-08-11-part2.ipynb",
   "parameters": {},
   "start_time": "2022-09-09T00:45:34.253310",
   "version": "2.3.3"
  }
 },
 "nbformat": 4,
 "nbformat_minor": 5
}