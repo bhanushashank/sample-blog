{
 "cells": [
  {
   "cell_type": "markdown",
   "id": "98380cd3",
   "metadata": {
    "papermill": {
     "duration": 0.028948,
     "end_time": "2022-10-11T10:12:40.135874",
     "exception": false,
     "start_time": "2022-10-11T10:12:40.106926",
     "status": "completed"
    },
    "tags": []
   },
   "source": [
    "# Distinguish Your Own Digits (DYOD)"
   ]
  },
  {
   "cell_type": "markdown",
   "id": "ef31240d",
   "metadata": {
    "papermill": {
     "duration": 0.023983,
     "end_time": "2022-10-11T10:12:40.184608",
     "exception": false,
     "start_time": "2022-10-11T10:12:40.160625",
     "status": "completed"
    },
    "tags": []
   },
   "source": [
    "You are going to write a classifier that distinguishes between the number 3 and number 8."
   ]
  },
  {
   "cell_type": "code",
   "execution_count": 1,
   "id": "b15c8646",
   "metadata": {
    "execution": {
     "iopub.execute_input": "2022-10-11T10:12:40.242695Z",
     "iopub.status.busy": "2022-10-11T10:12:40.242129Z",
     "iopub.status.idle": "2022-10-11T10:12:40.252551Z",
     "shell.execute_reply": "2022-10-11T10:12:40.252015Z"
    },
    "papermill": {
     "duration": 0.044128,
     "end_time": "2022-10-11T10:12:40.252660",
     "exception": false,
     "start_time": "2022-10-11T10:12:40.208532",
     "status": "completed"
    },
    "tags": []
   },
   "outputs": [],
   "source": [
    "%load_ext autoreload\n",
    "%autoreload 2"
   ]
  },
  {
   "cell_type": "code",
   "execution_count": 2,
   "id": "22ef38dc",
   "metadata": {
    "execution": {
     "iopub.execute_input": "2022-10-11T10:12:40.304645Z",
     "iopub.status.busy": "2022-10-11T10:12:40.304098Z",
     "iopub.status.idle": "2022-10-11T10:12:40.801801Z",
     "shell.execute_reply": "2022-10-11T10:12:40.801318Z"
    },
    "papermill": {
     "duration": 0.52515,
     "end_time": "2022-10-11T10:12:40.801914",
     "exception": false,
     "start_time": "2022-10-11T10:12:40.276764",
     "status": "completed"
    },
    "tags": []
   },
   "outputs": [],
   "source": [
    "%matplotlib inline\n",
    "import numpy as np\n",
    "import matplotlib.pyplot as plt\n",
    "import pandas as pd"
   ]
  },
  {
   "cell_type": "markdown",
   "id": "ba036198",
   "metadata": {
    "papermill": {
     "duration": 0.023993,
     "end_time": "2022-10-11T10:12:40.850002",
     "exception": false,
     "start_time": "2022-10-11T10:12:40.826009",
     "status": "completed"
    },
    "tags": []
   },
   "source": [
    "From the command line run `pip install mnist`. This is a library that will help you bring down the mnist dataset. If you run this from a notebook, you need to put  `!pip install mnist` in a cell by itself."
   ]
  },
  {
   "cell_type": "code",
   "execution_count": 3,
   "id": "bb6ad8a1",
   "metadata": {
    "execution": {
     "iopub.execute_input": "2022-10-11T10:12:40.901566Z",
     "iopub.status.busy": "2022-10-11T10:12:40.901004Z",
     "iopub.status.idle": "2022-10-11T10:12:42.443861Z",
     "shell.execute_reply": "2022-10-11T10:12:42.442641Z"
    },
    "papermill": {
     "duration": 1.569907,
     "end_time": "2022-10-11T10:12:42.443973",
     "exception": false,
     "start_time": "2022-10-11T10:12:40.874066",
     "status": "completed"
    },
    "tags": []
   },
   "outputs": [
    {
     "name": "stdout",
     "output_type": "stream",
     "text": [
      "Collecting mnist\r\n"
     ]
    },
    {
     "name": "stdout",
     "output_type": "stream",
     "text": [
      "  Downloading mnist-0.2.2-py2.py3-none-any.whl (3.5 kB)\r\n",
      "Requirement already satisfied: numpy in /opt/hostedtoolcache/Python/3.6.15/x64/lib/python3.6/site-packages (from mnist) (1.19.5)\r\n"
     ]
    },
    {
     "name": "stdout",
     "output_type": "stream",
     "text": [
      "Installing collected packages: mnist\r\n"
     ]
    },
    {
     "name": "stdout",
     "output_type": "stream",
     "text": [
      "Successfully installed mnist-0.2.2\r\n"
     ]
    }
   ],
   "source": [
    "!pip install mnist"
   ]
  },
  {
   "cell_type": "markdown",
   "id": "69df9c9a",
   "metadata": {
    "papermill": {
     "duration": 0.025198,
     "end_time": "2022-10-11T10:12:42.494874",
     "exception": false,
     "start_time": "2022-10-11T10:12:42.469676",
     "status": "completed"
    },
    "tags": []
   },
   "source": [
    "## Preparing the Data"
   ]
  },
  {
   "cell_type": "code",
   "execution_count": 4,
   "id": "7f69d806",
   "metadata": {
    "execution": {
     "iopub.execute_input": "2022-10-11T10:12:42.551821Z",
     "iopub.status.busy": "2022-10-11T10:12:42.547950Z",
     "iopub.status.idle": "2022-10-11T10:12:42.561926Z",
     "shell.execute_reply": "2022-10-11T10:12:42.561473Z"
    },
    "papermill": {
     "duration": 0.042113,
     "end_time": "2022-10-11T10:12:42.562020",
     "exception": false,
     "start_time": "2022-10-11T10:12:42.519907",
     "status": "completed"
    },
    "tags": []
   },
   "outputs": [],
   "source": [
    "import mnist"
   ]
  },
  {
   "cell_type": "code",
   "execution_count": 5,
   "id": "a411e44f",
   "metadata": {
    "execution": {
     "iopub.execute_input": "2022-10-11T10:12:42.615180Z",
     "iopub.status.busy": "2022-10-11T10:12:42.614607Z",
     "iopub.status.idle": "2022-10-11T10:12:43.163141Z",
     "shell.execute_reply": "2022-10-11T10:12:43.162623Z"
    },
    "papermill": {
     "duration": 0.576146,
     "end_time": "2022-10-11T10:12:43.163249",
     "exception": false,
     "start_time": "2022-10-11T10:12:42.587103",
     "status": "completed"
    },
    "tags": []
   },
   "outputs": [],
   "source": [
    "train_images = mnist.train_images()\n",
    "train_labels = mnist.train_labels()"
   ]
  },
  {
   "cell_type": "code",
   "execution_count": 6,
   "id": "dceab3a5",
   "metadata": {
    "execution": {
     "iopub.execute_input": "2022-10-11T10:12:43.219410Z",
     "iopub.status.busy": "2022-10-11T10:12:43.218100Z",
     "iopub.status.idle": "2022-10-11T10:12:43.231067Z",
     "shell.execute_reply": "2022-10-11T10:12:43.231580Z"
    },
    "papermill": {
     "duration": 0.043127,
     "end_time": "2022-10-11T10:12:43.231689",
     "exception": false,
     "start_time": "2022-10-11T10:12:43.188562",
     "status": "completed"
    },
    "tags": []
   },
   "outputs": [
    {
     "data": {
      "text/plain": [
       "((60000, 28, 28), (60000,))"
      ]
     },
     "execution_count": 6,
     "metadata": {},
     "output_type": "execute_result"
    }
   ],
   "source": [
    "train_images.shape, train_labels.shape"
   ]
  },
  {
   "cell_type": "code",
   "execution_count": 7,
   "id": "f50dc2bb",
   "metadata": {
    "execution": {
     "iopub.execute_input": "2022-10-11T10:12:43.285542Z",
     "iopub.status.busy": "2022-10-11T10:12:43.285003Z",
     "iopub.status.idle": "2022-10-11T10:12:43.447476Z",
     "shell.execute_reply": "2022-10-11T10:12:43.446969Z"
    },
    "papermill": {
     "duration": 0.190693,
     "end_time": "2022-10-11T10:12:43.447583",
     "exception": false,
     "start_time": "2022-10-11T10:12:43.256890",
     "status": "completed"
    },
    "tags": []
   },
   "outputs": [],
   "source": [
    "test_images = mnist.test_images()\n",
    "test_labels = mnist.test_labels()"
   ]
  },
  {
   "cell_type": "code",
   "execution_count": 8,
   "id": "fc38cf1b",
   "metadata": {
    "execution": {
     "iopub.execute_input": "2022-10-11T10:12:43.502169Z",
     "iopub.status.busy": "2022-10-11T10:12:43.501626Z",
     "iopub.status.idle": "2022-10-11T10:12:43.514223Z",
     "shell.execute_reply": "2022-10-11T10:12:43.513700Z"
    },
    "papermill": {
     "duration": 0.040739,
     "end_time": "2022-10-11T10:12:43.514318",
     "exception": false,
     "start_time": "2022-10-11T10:12:43.473579",
     "status": "completed"
    },
    "tags": []
   },
   "outputs": [
    {
     "data": {
      "text/plain": [
       "((10000, 28, 28), (10000,))"
      ]
     },
     "execution_count": 8,
     "metadata": {},
     "output_type": "execute_result"
    }
   ],
   "source": [
    "test_images.shape, test_labels.shape"
   ]
  },
  {
   "cell_type": "code",
   "execution_count": 9,
   "id": "f9ed8fe0",
   "metadata": {
    "execution": {
     "iopub.execute_input": "2022-10-11T10:12:43.568901Z",
     "iopub.status.busy": "2022-10-11T10:12:43.568352Z",
     "iopub.status.idle": "2022-10-11T10:12:43.698506Z",
     "shell.execute_reply": "2022-10-11T10:12:43.698957Z"
    },
    "papermill": {
     "duration": 0.159114,
     "end_time": "2022-10-11T10:12:43.699079",
     "exception": false,
     "start_time": "2022-10-11T10:12:43.539965",
     "status": "completed"
    },
    "tags": []
   },
   "outputs": [
    {
     "name": "stdout",
     "output_type": "stream",
     "text": [
      "2\n"
     ]
    },
    {
     "data": {
      "text/plain": [
       "<matplotlib.image.AxesImage at 0x7f23d94fcd68>"
      ]
     },
     "execution_count": 9,
     "metadata": {},
     "output_type": "execute_result"
    },
    {
     "data": {
      "image/png": "[encoded data removed]",
      "text/plain": [
       "<Figure size 432x288 with 1 Axes>"
      ]
     },
     "metadata": {
      "needs_background": "light"
     },
     "output_type": "display_data"
    }
   ],
   "source": [
    "image_index = 7776 # You may select anything up to 60,000\n",
    "print(train_labels[image_index]) \n",
    "plt.imshow(train_images[image_index], cmap='Greys')"
   ]
  },
  {
   "cell_type": "markdown",
   "id": "a8d2388d",
   "metadata": {
    "papermill": {
     "duration": 0.026729,
     "end_time": "2022-10-11T10:12:43.752827",
     "exception": false,
     "start_time": "2022-10-11T10:12:43.726098",
     "status": "completed"
    },
    "tags": []
   },
   "source": [
    "## Filter data to get 3 and 8 out"
   ]
  },
  {
   "cell_type": "code",
   "execution_count": 10,
   "id": "776f7fc7",
   "metadata": {
    "execution": {
     "iopub.execute_input": "2022-10-11T10:12:43.809994Z",
     "iopub.status.busy": "2022-10-11T10:12:43.809443Z",
     "iopub.status.idle": "2022-10-11T10:12:43.824964Z",
     "shell.execute_reply": "2022-10-11T10:12:43.825405Z"
    },
    "papermill": {
     "duration": 0.045917,
     "end_time": "2022-10-11T10:12:43.825515",
     "exception": false,
     "start_time": "2022-10-11T10:12:43.779598",
     "status": "completed"
    },
    "tags": []
   },
   "outputs": [],
   "source": [
    "train_filter = np.where((train_labels == 3 ) | (train_labels == 8))\n",
    "test_filter = np.where((test_labels == 3) | (test_labels == 8))\n",
    "X_train, y_train = train_images[train_filter], train_labels[train_filter]\n",
    "X_test, y_test = test_images[test_filter], test_labels[test_filter]"
   ]
  },
  {
   "cell_type": "markdown",
   "id": "948f0b7e",
   "metadata": {
    "papermill": {
     "duration": 0.026633,
     "end_time": "2022-10-11T10:12:43.878944",
     "exception": false,
     "start_time": "2022-10-11T10:12:43.852311",
     "status": "completed"
    },
    "tags": []
   },
   "source": [
    "We normalize the pizel values in the 0 to 1 range"
   ]
  },
  {
   "cell_type": "code",
   "execution_count": 11,
   "id": "ee4c2166",
   "metadata": {
    "execution": {
     "iopub.execute_input": "2022-10-11T10:12:43.935275Z",
     "iopub.status.busy": "2022-10-11T10:12:43.934697Z",
     "iopub.status.idle": "2022-10-11T10:12:43.974921Z",
     "shell.execute_reply": "2022-10-11T10:12:43.974443Z"
    },
    "papermill": {
     "duration": 0.069577,
     "end_time": "2022-10-11T10:12:43.975027",
     "exception": false,
     "start_time": "2022-10-11T10:12:43.905450",
     "status": "completed"
    },
    "tags": []
   },
   "outputs": [],
   "source": [
    "X_train = X_train/255.\n",
    "X_test = X_test/255."
   ]
  },
  {
   "cell_type": "markdown",
   "id": "ddcf4fab",
   "metadata": {
    "papermill": {
     "duration": 0.026749,
     "end_time": "2022-10-11T10:12:44.028765",
     "exception": false,
     "start_time": "2022-10-11T10:12:44.002016",
     "status": "completed"
    },
    "tags": []
   },
   "source": [
    "And setup the labels as 1 (when the digit is 3) and 0 (when the digit is 8)"
   ]
  },
  {
   "cell_type": "code",
   "execution_count": 12,
   "id": "7dc908f2",
   "metadata": {
    "execution": {
     "iopub.execute_input": "2022-10-11T10:12:44.085337Z",
     "iopub.status.busy": "2022-10-11T10:12:44.084800Z",
     "iopub.status.idle": "2022-10-11T10:12:44.096647Z",
     "shell.execute_reply": "2022-10-11T10:12:44.096203Z"
    },
    "papermill": {
     "duration": 0.041314,
     "end_time": "2022-10-11T10:12:44.096740",
     "exception": false,
     "start_time": "2022-10-11T10:12:44.055426",
     "status": "completed"
    },
    "tags": []
   },
   "outputs": [],
   "source": [
    "y_train = 1*(y_train==3)\n",
    "y_test = 1*(y_test==3)"
   ]
  },
  {
   "cell_type": "code",
   "execution_count": 13,
   "id": "01e4e969",
   "metadata": {
    "execution": {
     "iopub.execute_input": "2022-10-11T10:12:44.153336Z",
     "iopub.status.busy": "2022-10-11T10:12:44.152791Z",
     "iopub.status.idle": "2022-10-11T10:12:44.164768Z",
     "shell.execute_reply": "2022-10-11T10:12:44.165222Z"
    },
    "papermill": {
     "duration": 0.041823,
     "end_time": "2022-10-11T10:12:44.165328",
     "exception": false,
     "start_time": "2022-10-11T10:12:44.123505",
     "status": "completed"
    },
    "tags": []
   },
   "outputs": [
    {
     "data": {
      "text/plain": [
       "((11982, 28, 28), (1984, 28, 28))"
      ]
     },
     "execution_count": 13,
     "metadata": {},
     "output_type": "execute_result"
    }
   ],
   "source": [
    "X_train.shape, X_test.shape"
   ]
  },
  {
   "cell_type": "markdown",
   "id": "5ccf3f85",
   "metadata": {
    "papermill": {
     "duration": 0.026945,
     "end_time": "2022-10-11T10:12:44.219023",
     "exception": false,
     "start_time": "2022-10-11T10:12:44.192078",
     "status": "completed"
    },
    "tags": []
   },
   "source": [
    "We reshape the data to flatten the image pixels into a set of features or co-variates:"
   ]
  },
  {
   "cell_type": "code",
   "execution_count": 14,
   "id": "5286a4a3",
   "metadata": {
    "execution": {
     "iopub.execute_input": "2022-10-11T10:12:44.276697Z",
     "iopub.status.busy": "2022-10-11T10:12:44.276149Z",
     "iopub.status.idle": "2022-10-11T10:12:44.288582Z",
     "shell.execute_reply": "2022-10-11T10:12:44.289030Z"
    },
    "papermill": {
     "duration": 0.04318,
     "end_time": "2022-10-11T10:12:44.289133",
     "exception": false,
     "start_time": "2022-10-11T10:12:44.245953",
     "status": "completed"
    },
    "tags": []
   },
   "outputs": [
    {
     "data": {
      "text/plain": [
       "((11982, 784), (1984, 784))"
      ]
     },
     "execution_count": 14,
     "metadata": {},
     "output_type": "execute_result"
    }
   ],
   "source": [
    "X_train = X_train.reshape(X_train.shape[0], -1)\n",
    "X_test = X_test.reshape(X_test.shape[0], -1)\n",
    "X_train.shape, X_test.shape"
   ]
  },
  {
   "cell_type": "code",
   "execution_count": 15,
   "id": "73c5f88a",
   "metadata": {
    "execution": {
     "iopub.execute_input": "2022-10-11T10:12:44.347035Z",
     "iopub.status.busy": "2022-10-11T10:12:44.346449Z",
     "iopub.status.idle": "2022-10-11T10:12:44.363710Z",
     "shell.execute_reply": "2022-10-11T10:12:44.363278Z"
    },
    "papermill": {
     "duration": 0.047607,
     "end_time": "2022-10-11T10:12:44.363800",
     "exception": false,
     "start_time": "2022-10-11T10:12:44.316193",
     "status": "completed"
    },
    "tags": []
   },
   "outputs": [],
   "source": [
    "#Impoting functions from 'Kudzu'\n",
    "from kudzu.model import Model\n",
    "from kudzu.train import Learner\n",
    "from kudzu.optim import GD\n",
    "from kudzu.data import Data, Sampler,Dataloader\n",
    "\n",
    "from kudzu.callbacks import AccCallback\n",
    "from kudzu.callbacks import ClfCallback\n",
    "\n",
    "from kudzu.loss import MSE\n",
    "\n",
    "from kudzu.layer import Sigmoid,Relu\n",
    "from kudzu.layer import Affine"
   ]
  },
  {
   "cell_type": "markdown",
   "id": "bc01172a",
   "metadata": {
    "papermill": {
     "duration": 0.027013,
     "end_time": "2022-10-11T10:12:44.418022",
     "exception": false,
     "start_time": "2022-10-11T10:12:44.391009",
     "status": "completed"
    },
    "tags": []
   },
   "source": [
    "### Let us create a `Config` class, to store important parameters. \n",
    "This class essentially plays the role of a dictionary."
   ]
  },
  {
   "cell_type": "code",
   "execution_count": 16,
   "id": "978281aa",
   "metadata": {
    "execution": {
     "iopub.execute_input": "2022-10-11T10:12:44.474775Z",
     "iopub.status.busy": "2022-10-11T10:12:44.474232Z",
     "iopub.status.idle": "2022-10-11T10:12:44.486238Z",
     "shell.execute_reply": "2022-10-11T10:12:44.485804Z"
    },
    "papermill": {
     "duration": 0.041247,
     "end_time": "2022-10-11T10:12:44.486328",
     "exception": false,
     "start_time": "2022-10-11T10:12:44.445081",
     "status": "completed"
    },
    "tags": []
   },
   "outputs": [],
   "source": [
    "class Config:\n",
    "    pass\n",
    "config = Config()\n",
    "config.lr = 0.001\n",
    "config.num_epochs = 250\n",
    "config.bs = 50"
   ]
  },
  {
   "cell_type": "markdown",
   "id": "1385fa59",
   "metadata": {
    "papermill": {
     "duration": 0.026965,
     "end_time": "2022-10-11T10:12:44.540420",
     "exception": false,
     "start_time": "2022-10-11T10:12:44.513455",
     "status": "completed"
    },
    "tags": []
   },
   "source": [
    "### Running Models with the Training data\n",
    "Details about the network layers:\n",
    "- A first affine layer has 784 inputs and does 100 affine transforms. These are followed by a Relu\n",
    "- A second affine layer has 100 inputs from the 100 activations of the past layer, and does 100 affine transforms. These are followed by a Relu\n",
    "- A third affine layer has 100 activations and does 2 affine transformations to create an embedding for visualization. There is no non-linearity here.\n",
    "- A final \"logistic regression\" which has an affine transform from 2 inputs to 1 output, which is squeezed through a sigmoid.\n"
   ]
  },
  {
   "cell_type": "code",
   "execution_count": 17,
   "id": "2b9c66db",
   "metadata": {
    "execution": {
     "iopub.execute_input": "2022-10-11T10:12:44.598311Z",
     "iopub.status.busy": "2022-10-11T10:12:44.597770Z",
     "iopub.status.idle": "2022-10-11T10:12:44.609015Z",
     "shell.execute_reply": "2022-10-11T10:12:44.608567Z"
    },
    "papermill": {
     "duration": 0.041536,
     "end_time": "2022-10-11T10:12:44.609105",
     "exception": false,
     "start_time": "2022-10-11T10:12:44.567569",
     "status": "completed"
    },
    "tags": []
   },
   "outputs": [],
   "source": [
    "data = Data(X_train, y_train.reshape(-1,1))\n",
    "sampler = Sampler(data, config.bs, shuffle=True)\n",
    "\n",
    "dl = Dataloader(data, sampler)\n",
    "\n",
    "opt = GD(config.lr)\n",
    "loss = MSE()"
   ]
  },
  {
   "cell_type": "code",
   "execution_count": 18,
   "id": "b275e4c2",
   "metadata": {
    "execution": {
     "iopub.execute_input": "2022-10-11T10:12:44.666609Z",
     "iopub.status.busy": "2022-10-11T10:12:44.666075Z",
     "iopub.status.idle": "2022-10-11T10:12:44.676893Z",
     "shell.execute_reply": "2022-10-11T10:12:44.676451Z"
    },
    "papermill": {
     "duration": 0.040672,
     "end_time": "2022-10-11T10:12:44.676983",
     "exception": false,
     "start_time": "2022-10-11T10:12:44.636311",
     "status": "completed"
    },
    "tags": []
   },
   "outputs": [],
   "source": [
    "training_data_x = X_train\n",
    "testing_data_x = X_test\n",
    "training_data_y = y_train.reshape(-1,1)\n",
    "testing_data_y = y_test.reshape(-1,1)"
   ]
  },
  {
   "cell_type": "code",
   "execution_count": 19,
   "id": "76951160",
   "metadata": {
    "execution": {
     "iopub.execute_input": "2022-10-11T10:12:44.734939Z",
     "iopub.status.busy": "2022-10-11T10:12:44.734364Z",
     "iopub.status.idle": "2022-10-11T10:12:44.749222Z",
     "shell.execute_reply": "2022-10-11T10:12:44.748775Z"
    },
    "papermill": {
     "duration": 0.04525,
     "end_time": "2022-10-11T10:12:44.749312",
     "exception": false,
     "start_time": "2022-10-11T10:12:44.704062",
     "status": "completed"
    },
    "tags": []
   },
   "outputs": [
    {
     "name": "stdout",
     "output_type": "stream",
     "text": [
      "xavier\n",
      "xavier\n",
      "xavier\n",
      "xavier\n",
      "xavier\n"
     ]
    }
   ],
   "source": [
    "layers = [Affine(\"first\", 784, 100), Relu(\"first\"), Affine(\"second\", 100, 100), Relu(\"second\"), Affine(\"third\", 100, 2), Affine(\"last\", 2, 1), Sigmoid(\"last\")]\n",
    "model_nn = Model(layers)\n",
    "model_lr = Model([Affine(\"logits\", 784, 1), Sigmoid(\"sigmoid\")])"
   ]
  },
  {
   "cell_type": "code",
   "execution_count": 20,
   "id": "6eede77a",
   "metadata": {
    "execution": {
     "iopub.execute_input": "2022-10-11T10:12:44.807651Z",
     "iopub.status.busy": "2022-10-11T10:12:44.807097Z",
     "iopub.status.idle": "2022-10-11T10:12:44.818079Z",
     "shell.execute_reply": "2022-10-11T10:12:44.817640Z"
    },
    "papermill": {
     "duration": 0.041249,
     "end_time": "2022-10-11T10:12:44.818170",
     "exception": false,
     "start_time": "2022-10-11T10:12:44.776921",
     "status": "completed"
    },
    "tags": []
   },
   "outputs": [],
   "source": [
    "nn_learner = Learner(loss, model_nn, opt, config.num_epochs)\n",
    "acc_nn = ClfCallback(nn_learner, config.bs, training_data_x , testing_data_x, training_data_y, testing_data_y)\n",
    "nn_learner.set_callbacks([acc_nn])"
   ]
  },
  {
   "cell_type": "code",
   "execution_count": 21,
   "id": "877b6cc7",
   "metadata": {
    "execution": {
     "iopub.execute_input": "2022-10-11T10:12:44.876588Z",
     "iopub.status.busy": "2022-10-11T10:12:44.876029Z",
     "iopub.status.idle": "2022-10-11T10:12:44.886750Z",
     "shell.execute_reply": "2022-10-11T10:12:44.886320Z"
    },
    "papermill": {
     "duration": 0.04116,
     "end_time": "2022-10-11T10:12:44.886846",
     "exception": false,
     "start_time": "2022-10-11T10:12:44.845686",
     "status": "completed"
    },
    "tags": []
   },
   "outputs": [],
   "source": [
    "lr_learner = Learner(loss, model_lr, opt, config.num_epochs)\n",
    "acc_lr = ClfCallback(lr_learner, config.bs, training_data_x , testing_data_x, training_data_y, testing_data_y)\n",
    "lr_learner.set_callbacks([acc_lr])"
   ]
  },
  {
   "cell_type": "code",
   "execution_count": 22,
   "id": "d9b133c3",
   "metadata": {
    "execution": {
     "iopub.execute_input": "2022-10-11T10:12:44.944641Z",
     "iopub.status.busy": "2022-10-11T10:12:44.944094Z",
     "iopub.status.idle": "2022-10-11T10:15:39.400873Z",
     "shell.execute_reply": "2022-10-11T10:15:39.401319Z"
    },
    "papermill": {
     "duration": 174.486923,
     "end_time": "2022-10-11T10:15:39.401440",
     "exception": false,
     "start_time": "2022-10-11T10:12:44.914517",
     "status": "completed"
    },
    "tags": []
   },
   "outputs": [
    {
     "name": "stdout",
     "output_type": "stream",
     "text": [
      "Epoch 0, Loss 0.213\n",
      "Training Accuracy: 0.8462, Testing Accuracy: 0.8553\n",
      "\n"
     ]
    },
    {
     "name": "stdout",
     "output_type": "stream",
     "text": [
      "Epoch 10, Loss 0.0536\n",
      "Training Accuracy: 0.9451, Testing Accuracy: 0.9546\n",
      "\n"
     ]
    },
    {
     "name": "stdout",
     "output_type": "stream",
     "text": [
      "Epoch 20, Loss 0.0391\n",
      "Training Accuracy: 0.9563, Testing Accuracy: 0.9652\n",
      "\n"
     ]
    },
    {
     "name": "stdout",
     "output_type": "stream",
     "text": [
      "Epoch 30, Loss 0.0332\n",
      "Training Accuracy: 0.9623, Testing Accuracy: 0.9708\n",
      "\n"
     ]
    },
    {
     "name": "stdout",
     "output_type": "stream",
     "text": [
      "Epoch 40, Loss 0.0296\n",
      "Training Accuracy: 0.9663, Testing Accuracy: 0.9713\n",
      "\n"
     ]
    },
    {
     "name": "stdout",
     "output_type": "stream",
     "text": [
      "Epoch 50, Loss 0.0271\n",
      "Training Accuracy: 0.9696, Testing Accuracy: 0.9713\n",
      "\n"
     ]
    },
    {
     "name": "stdout",
     "output_type": "stream",
     "text": [
      "Epoch 60, Loss 0.0253\n",
      "Training Accuracy: 0.9722, Testing Accuracy: 0.9718\n",
      "\n"
     ]
    },
    {
     "name": "stdout",
     "output_type": "stream",
     "text": [
      "Epoch 70, Loss 0.0238\n",
      "Training Accuracy: 0.9742, Testing Accuracy: 0.9728\n",
      "\n"
     ]
    },
    {
     "name": "stdout",
     "output_type": "stream",
     "text": [
      "Epoch 80, Loss 0.0226\n",
      "Training Accuracy: 0.9752, Testing Accuracy: 0.9728\n",
      "\n"
     ]
    },
    {
     "name": "stdout",
     "output_type": "stream",
     "text": [
      "Epoch 90, Loss 0.0216\n",
      "Training Accuracy: 0.9762, Testing Accuracy: 0.9728\n",
      "\n"
     ]
    },
    {
     "name": "stdout",
     "output_type": "stream",
     "text": [
      "Epoch 100, Loss 0.0207\n",
      "Training Accuracy: 0.9775, Testing Accuracy: 0.9738\n",
      "\n"
     ]
    },
    {
     "name": "stdout",
     "output_type": "stream",
     "text": [
      "Epoch 110, Loss 0.0199\n",
      "Training Accuracy: 0.9787, Testing Accuracy: 0.9748\n",
      "\n"
     ]
    },
    {
     "name": "stdout",
     "output_type": "stream",
     "text": [
      "Epoch 120, Loss 0.0192\n",
      "Training Accuracy: 0.9797, Testing Accuracy: 0.9768\n",
      "\n"
     ]
    },
    {
     "name": "stdout",
     "output_type": "stream",
     "text": [
      "Epoch 130, Loss 0.0186\n",
      "Training Accuracy: 0.9801, Testing Accuracy: 0.9758\n",
      "\n"
     ]
    },
    {
     "name": "stdout",
     "output_type": "stream",
     "text": [
      "Epoch 140, Loss 0.018\n",
      "Training Accuracy: 0.9802, Testing Accuracy: 0.9763\n",
      "\n"
     ]
    },
    {
     "name": "stdout",
     "output_type": "stream",
     "text": [
      "Epoch 150, Loss 0.0174\n",
      "Training Accuracy: 0.9810, Testing Accuracy: 0.9773\n",
      "\n"
     ]
    },
    {
     "name": "stdout",
     "output_type": "stream",
     "text": [
      "Epoch 160, Loss 0.0169\n",
      "Training Accuracy: 0.9823, Testing Accuracy: 0.9773\n",
      "\n"
     ]
    },
    {
     "name": "stdout",
     "output_type": "stream",
     "text": [
      "Epoch 170, Loss 0.0164\n",
      "Training Accuracy: 0.9829, Testing Accuracy: 0.9778\n",
      "\n"
     ]
    },
    {
     "name": "stdout",
     "output_type": "stream",
     "text": [
      "Epoch 180, Loss 0.016\n",
      "Training Accuracy: 0.9831, Testing Accuracy: 0.9778\n",
      "\n"
     ]
    },
    {
     "name": "stdout",
     "output_type": "stream",
     "text": [
      "Epoch 190, Loss 0.0156\n",
      "Training Accuracy: 0.9838, Testing Accuracy: 0.9778\n",
      "\n"
     ]
    },
    {
     "name": "stdout",
     "output_type": "stream",
     "text": [
      "Epoch 200, Loss 0.0152\n",
      "Training Accuracy: 0.9841, Testing Accuracy: 0.9778\n",
      "\n"
     ]
    },
    {
     "name": "stdout",
     "output_type": "stream",
     "text": [
      "Epoch 210, Loss 0.0148\n",
      "Training Accuracy: 0.9846, Testing Accuracy: 0.9778\n",
      "\n"
     ]
    },
    {
     "name": "stdout",
     "output_type": "stream",
     "text": [
      "Epoch 220, Loss 0.0144\n",
      "Training Accuracy: 0.9848, Testing Accuracy: 0.9783\n",
      "\n"
     ]
    },
    {
     "name": "stdout",
     "output_type": "stream",
     "text": [
      "Epoch 230, Loss 0.014\n",
      "Training Accuracy: 0.9856, Testing Accuracy: 0.9778\n",
      "\n"
     ]
    },
    {
     "name": "stdout",
     "output_type": "stream",
     "text": [
      "Epoch 240, Loss 0.0137\n",
      "Training Accuracy: 0.9858, Testing Accuracy: 0.9783\n",
      "\n"
     ]
    },
    {
     "data": {
      "text/plain": [
       "0.008997764245667096"
      ]
     },
     "execution_count": 22,
     "metadata": {},
     "output_type": "execute_result"
    }
   ],
   "source": [
    "nn_learner.train_loop(dl)"
   ]
  },
  {
   "cell_type": "code",
   "execution_count": 23,
   "id": "e0163366",
   "metadata": {
    "execution": {
     "iopub.execute_input": "2022-10-11T10:15:39.475922Z",
     "iopub.status.busy": "2022-10-11T10:15:39.474516Z",
     "iopub.status.idle": "2022-10-11T10:15:51.387938Z",
     "shell.execute_reply": "2022-10-11T10:15:51.388406Z"
    },
    "papermill": {
     "duration": 11.952212,
     "end_time": "2022-10-11T10:15:51.388531",
     "exception": false,
     "start_time": "2022-10-11T10:15:39.436319",
     "status": "completed"
    },
    "tags": []
   },
   "outputs": [
    {
     "name": "stdout",
     "output_type": "stream",
     "text": [
      "Epoch 0, Loss 0.2212\n",
      "Training Accuracy: 0.7546, Testing Accuracy: 0.7863\n",
      "\n"
     ]
    },
    {
     "name": "stdout",
     "output_type": "stream",
     "text": [
      "Epoch 10, Loss 0.0969\n",
      "Training Accuracy: 0.9233, Testing Accuracy: 0.9294\n",
      "\n"
     ]
    },
    {
     "name": "stdout",
     "output_type": "stream",
     "text": [
      "Epoch 20, Loss 0.0759\n",
      "Training Accuracy: 0.9328, Testing Accuracy: 0.9441\n",
      "\n"
     ]
    },
    {
     "name": "stdout",
     "output_type": "stream",
     "text": [
      "Epoch 30, Loss 0.0659\n",
      "Training Accuracy: 0.9398, Testing Accuracy: 0.9496\n",
      "\n"
     ]
    },
    {
     "name": "stdout",
     "output_type": "stream",
     "text": [
      "Epoch 40, Loss 0.0599\n",
      "Training Accuracy: 0.9439, Testing Accuracy: 0.9521\n",
      "\n"
     ]
    },
    {
     "name": "stdout",
     "output_type": "stream",
     "text": [
      "Epoch 50, Loss 0.0557\n",
      "Training Accuracy: 0.9467, Testing Accuracy: 0.9561\n",
      "\n"
     ]
    },
    {
     "name": "stdout",
     "output_type": "stream",
     "text": [
      "Epoch 60, Loss 0.0527\n",
      "Training Accuracy: 0.9492, Testing Accuracy: 0.9582\n",
      "\n"
     ]
    },
    {
     "name": "stdout",
     "output_type": "stream",
     "text": [
      "Epoch 70, Loss 0.0503\n",
      "Training Accuracy: 0.9504, Testing Accuracy: 0.9587\n",
      "\n"
     ]
    },
    {
     "name": "stdout",
     "output_type": "stream",
     "text": [
      "Epoch 80, Loss 0.0484\n",
      "Training Accuracy: 0.9518, Testing Accuracy: 0.9592\n",
      "\n"
     ]
    },
    {
     "name": "stdout",
     "output_type": "stream",
     "text": [
      "Epoch 90, Loss 0.0468\n",
      "Training Accuracy: 0.9531, Testing Accuracy: 0.9622\n",
      "\n"
     ]
    },
    {
     "name": "stdout",
     "output_type": "stream",
     "text": [
      "Epoch 100, Loss 0.0454\n",
      "Training Accuracy: 0.9538, Testing Accuracy: 0.9642\n",
      "\n"
     ]
    },
    {
     "name": "stdout",
     "output_type": "stream",
     "text": [
      "Epoch 110, Loss 0.0443\n",
      "Training Accuracy: 0.9547, Testing Accuracy: 0.9652\n",
      "\n"
     ]
    },
    {
     "name": "stdout",
     "output_type": "stream",
     "text": [
      "Epoch 120, Loss 0.0433\n",
      "Training Accuracy: 0.9557, Testing Accuracy: 0.9652\n",
      "\n"
     ]
    },
    {
     "name": "stdout",
     "output_type": "stream",
     "text": [
      "Epoch 130, Loss 0.0424\n",
      "Training Accuracy: 0.9561, Testing Accuracy: 0.9652\n",
      "\n"
     ]
    },
    {
     "name": "stdout",
     "output_type": "stream",
     "text": [
      "Epoch 140, Loss 0.0416\n",
      "Training Accuracy: 0.9564, Testing Accuracy: 0.9672\n",
      "\n"
     ]
    },
    {
     "name": "stdout",
     "output_type": "stream",
     "text": [
      "Epoch 150, Loss 0.0409\n",
      "Training Accuracy: 0.9569, Testing Accuracy: 0.9672\n",
      "\n"
     ]
    },
    {
     "name": "stdout",
     "output_type": "stream",
     "text": [
      "Epoch 160, Loss 0.0403\n",
      "Training Accuracy: 0.9575, Testing Accuracy: 0.9672\n",
      "\n"
     ]
    },
    {
     "name": "stdout",
     "output_type": "stream",
     "text": [
      "Epoch 170, Loss 0.0397\n",
      "Training Accuracy: 0.9579, Testing Accuracy: 0.9677\n",
      "\n"
     ]
    },
    {
     "name": "stdout",
     "output_type": "stream",
     "text": [
      "Epoch 180, Loss 0.0391\n",
      "Training Accuracy: 0.9583, Testing Accuracy: 0.9677\n",
      "\n"
     ]
    },
    {
     "name": "stdout",
     "output_type": "stream",
     "text": [
      "Epoch 190, Loss 0.0386\n",
      "Training Accuracy: 0.9588, Testing Accuracy: 0.9667\n",
      "\n"
     ]
    },
    {
     "name": "stdout",
     "output_type": "stream",
     "text": [
      "Epoch 200, Loss 0.0382\n",
      "Training Accuracy: 0.9594, Testing Accuracy: 0.9662\n",
      "\n"
     ]
    },
    {
     "name": "stdout",
     "output_type": "stream",
     "text": [
      "Epoch 210, Loss 0.0378\n",
      "Training Accuracy: 0.9596, Testing Accuracy: 0.9667\n",
      "\n"
     ]
    },
    {
     "name": "stdout",
     "output_type": "stream",
     "text": [
      "Epoch 220, Loss 0.0374\n",
      "Training Accuracy: 0.9596, Testing Accuracy: 0.9667\n",
      "\n"
     ]
    },
    {
     "name": "stdout",
     "output_type": "stream",
     "text": [
      "Epoch 230, Loss 0.037\n",
      "Training Accuracy: 0.9598, Testing Accuracy: 0.9662\n",
      "\n"
     ]
    },
    {
     "name": "stdout",
     "output_type": "stream",
     "text": [
      "Epoch 240, Loss 0.0367\n",
      "Training Accuracy: 0.9603, Testing Accuracy: 0.9662\n",
      "\n"
     ]
    },
    {
     "data": {
      "text/plain": [
       "0.055454312889314315"
      ]
     },
     "execution_count": 23,
     "metadata": {},
     "output_type": "execute_result"
    }
   ],
   "source": [
    "lr_learner.train_loop(dl)"
   ]
  },
  {
   "cell_type": "code",
   "execution_count": 24,
   "id": "ca410940",
   "metadata": {
    "execution": {
     "iopub.execute_input": "2022-10-11T10:15:51.492047Z",
     "iopub.status.busy": "2022-10-11T10:15:51.491481Z",
     "iopub.status.idle": "2022-10-11T10:15:51.709480Z",
     "shell.execute_reply": "2022-10-11T10:15:51.708994Z"
    },
    "papermill": {
     "duration": 0.266882,
     "end_time": "2022-10-11T10:15:51.709581",
     "exception": false,
     "start_time": "2022-10-11T10:15:51.442699",
     "status": "completed"
    },
    "tags": []
   },
   "outputs": [
    {
     "data": {
      "text/plain": [
       "<matplotlib.legend.Legend at 0x7f23d906a3c8>"
      ]
     },
     "execution_count": 24,
     "metadata": {},
     "output_type": "execute_result"
    },
    {
     "data": {
      "image/png": "[encoded data removed]",
      "text/plain": [
       "<Figure size 1080x720 with 1 Axes>"
      ]
     },
     "metadata": {
      "needs_background": "light"
     },
     "output_type": "display_data"
    }
   ],
   "source": [
    "#comparing the results of NN and LR\n",
    "plt.figure(figsize=(15,10))\n",
    "\n",
    "# Neural Network plots\n",
    "plt.plot(acc_nn.accuracies, 'r-', label = \"Training Accuracies - NN\")\n",
    "plt.plot(acc_nn.test_accuracies, 'g-', label = \"Testing Accuracies - NN\")\n",
    "\n",
    "# Logistic Regression plots\n",
    "plt.plot(acc_lr.accuracies, 'k-', label = \"Training Accuracies - LR\")\n",
    "plt.plot(acc_lr.test_accuracies, 'b-', label = \"Testing Accuracies - LR\")\n",
    "plt.legend()"
   ]
  },
  {
   "cell_type": "markdown",
   "id": "80dfb35c",
   "metadata": {
    "papermill": {
     "duration": 0.042417,
     "end_time": "2022-10-11T10:15:51.794840",
     "exception": false,
     "start_time": "2022-10-11T10:15:51.752423",
     "status": "completed"
    },
    "tags": []
   },
   "source": [
    "#### Plotting the outputs of this layer of the NN.\n"
   ]
  },
  {
   "cell_type": "code",
   "execution_count": 25,
   "id": "45eb2ff5",
   "metadata": {
    "execution": {
     "iopub.execute_input": "2022-10-11T10:15:51.883396Z",
     "iopub.status.busy": "2022-10-11T10:15:51.882815Z",
     "iopub.status.idle": "2022-10-11T10:15:51.917897Z",
     "shell.execute_reply": "2022-10-11T10:15:51.918393Z"
    },
    "papermill": {
     "duration": 0.081191,
     "end_time": "2022-10-11T10:15:51.918510",
     "exception": false,
     "start_time": "2022-10-11T10:15:51.837319",
     "status": "completed"
    },
    "tags": []
   },
   "outputs": [],
   "source": [
    "new_model = Model(layers[:-2])\n",
    "testing_plot = new_model(testing_data_x)"
   ]
  },
  {
   "cell_type": "code",
   "execution_count": 26,
   "id": "4c0a5485",
   "metadata": {
    "execution": {
     "iopub.execute_input": "2022-10-11T10:15:52.008429Z",
     "iopub.status.busy": "2022-10-11T10:15:52.007890Z",
     "iopub.status.idle": "2022-10-11T10:15:52.198214Z",
     "shell.execute_reply": "2022-10-11T10:15:52.197266Z"
    },
    "papermill": {
     "duration": 0.236731,
     "end_time": "2022-10-11T10:15:52.198331",
     "exception": false,
     "start_time": "2022-10-11T10:15:51.961600",
     "status": "completed"
    },
    "tags": []
   },
   "outputs": [
    {
     "data": {
      "text/plain": [
       "Text(0.5, 1.0, 'Outputs')"
      ]
     },
     "execution_count": 26,
     "metadata": {},
     "output_type": "execute_result"
    },
    {
     "data": {
      "image/png": "[encoded data removed]",
      "text/plain": [
       "<Figure size 576x504 with 1 Axes>"
      ]
     },
     "metadata": {
      "needs_background": "light"
     },
     "output_type": "display_data"
    }
   ],
   "source": [
    "# Plotting the scatter plot of points and color coding by class\n",
    "plt.figure(figsize=(8,7))\n",
    "plt.scatter(testing_plot[:,0], testing_plot[:,1], alpha = 0.1, c = y_test.ravel());\n",
    "plt.title('Outputs')"
   ]
  },
  {
   "cell_type": "markdown",
   "id": "a74fcf8f",
   "metadata": {
    "papermill": {
     "duration": 0.045029,
     "end_time": "2022-10-11T10:15:52.309057",
     "exception": false,
     "start_time": "2022-10-11T10:15:52.264028",
     "status": "completed"
    },
    "tags": []
   },
   "source": [
    "Probability contours"
   ]
  },
  {
   "cell_type": "code",
   "execution_count": 27,
   "id": "d0afc8e3",
   "metadata": {
    "execution": {
     "iopub.execute_input": "2022-10-11T10:15:52.404135Z",
     "iopub.status.busy": "2022-10-11T10:15:52.403569Z",
     "iopub.status.idle": "2022-10-11T10:15:52.413071Z",
     "shell.execute_reply": "2022-10-11T10:15:52.413483Z"
    },
    "papermill": {
     "duration": 0.059874,
     "end_time": "2022-10-11T10:15:52.413602",
     "exception": false,
     "start_time": "2022-10-11T10:15:52.353728",
     "status": "completed"
    },
    "tags": []
   },
   "outputs": [],
   "source": [
    "model_prob = Model(layers[-2:]) "
   ]
  },
  {
   "cell_type": "code",
   "execution_count": 28,
   "id": "9b96e238",
   "metadata": {
    "execution": {
     "iopub.execute_input": "2022-10-11T10:15:52.506864Z",
     "iopub.status.busy": "2022-10-11T10:15:52.506320Z",
     "iopub.status.idle": "2022-10-11T10:15:52.519654Z",
     "shell.execute_reply": "2022-10-11T10:15:52.520086Z"
    },
    "papermill": {
     "duration": 0.061742,
     "end_time": "2022-10-11T10:15:52.520199",
     "exception": false,
     "start_time": "2022-10-11T10:15:52.458457",
     "status": "completed"
    },
    "tags": []
   },
   "outputs": [],
   "source": [
    "#creating the x and y ranges according to the above generated plot.\n",
    "x_range = np.linspace(-4, 1, 100) \n",
    "y_range = np.linspace(-6, 6, 100) \n",
    "x_grid, y_grid = np.meshgrid(x_range, y_range) # x_grid and y_grig are of size 100 X 100\n",
    "\n",
    "# converting x_grid and y_grid to continuous arrays\n",
    "x_gridflat = np.ravel(x_grid)\n",
    "y_gridflat = np.ravel(y_grid)\n",
    "\n",
    "# The last layer of the current model takes two columns as input. Hence transpose of np.vstack() is required.\n",
    "X = np.vstack((x_gridflat, y_gridflat)).T\n",
    "\n",
    "prob_contour = model_prob(X).reshape(100,100) "
   ]
  },
  {
   "cell_type": "code",
   "execution_count": 29,
   "id": "da72499a",
   "metadata": {
    "execution": {
     "iopub.execute_input": "2022-10-11T10:15:52.615718Z",
     "iopub.status.busy": "2022-10-11T10:15:52.615160Z",
     "iopub.status.idle": "2022-10-11T10:15:52.845422Z",
     "shell.execute_reply": "2022-10-11T10:15:52.845837Z"
    },
    "papermill": {
     "duration": 0.280144,
     "end_time": "2022-10-11T10:15:52.845965",
     "exception": false,
     "start_time": "2022-10-11T10:15:52.565821",
     "status": "completed"
    },
    "tags": []
   },
   "outputs": [
    {
     "data": {
      "image/png": "[encoded data removed]",
      "text/plain": [
       "<Figure size 720x648 with 1 Axes>"
      ]
     },
     "metadata": {
      "needs_background": "light"
     },
     "output_type": "display_data"
    }
   ],
   "source": [
    "plt.figure(figsize=(10,9))\n",
    "plt.scatter(testing_plot[:,0], testing_plot[:,1], alpha = 0.1, c = y_test.ravel())\n",
    "contours = plt.contour(x_grid,y_grid,prob_contour)\n",
    "plt.title('Probability Contours')\n",
    "plt.clabel(contours, inline = True );"
   ]
  },
  {
   "cell_type": "code",
   "execution_count": null,
   "id": "e81b4ac7",
   "metadata": {
    "papermill": {
     "duration": 0.048004,
     "end_time": "2022-10-11T10:15:52.941845",
     "exception": false,
     "start_time": "2022-10-11T10:15:52.893841",
     "status": "completed"
    },
    "tags": []
   },
   "outputs": [],
   "source": []
  }
 ],
 "metadata": {
  "kernelspec": {
   "display_name": "Python 3",
   "language": "python",
   "name": "python3"
  },
  "language_info": {
   "codemirror_mode": {
    "name": "ipython",
    "version": 3
   },
   "file_extension": ".py",
   "mimetype": "text/x-python",
   "name": "python",
   "nbconvert_exporter": "python",
   "pygments_lexer": "ipython3",
   "version": "3.6.15"
  },
  "papermill": {
   "default_parameters": {},
   "duration": 194.111459,
   "end_time": "2022-10-11T10:15:53.306665",
   "environment_variables": {},
   "exception": null,
   "input_path": "2020-08-11-part2.ipynb",
   "output_path": "2020-08-11-part2.ipynb",
   "parameters": {},
   "start_time": "2022-10-11T10:12:39.195206",
   "version": "2.3.3"
  }
 },
 "nbformat": 4,
 "nbformat_minor": 5
}