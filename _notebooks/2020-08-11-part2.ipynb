{
 "cells": [
  {
   "cell_type": "markdown",
   "id": "98380cd3",
   "metadata": {
    "papermill": {
     "duration": 0.03717,
     "end_time": "2022-11-13T10:10:43.954371",
     "exception": false,
     "start_time": "2022-11-13T10:10:43.917201",
     "status": "completed"
    },
    "tags": []
   },
   "source": [
    "# Distinguish Your Own Digits (DYOD)"
   ]
  },
  {
   "cell_type": "markdown",
   "id": "ef31240d",
   "metadata": {
    "papermill": {
     "duration": 0.029228,
     "end_time": "2022-11-13T10:10:44.011971",
     "exception": false,
     "start_time": "2022-11-13T10:10:43.982743",
     "status": "completed"
    },
    "tags": []
   },
   "source": [
    "You are going to write a classifier that distinguishes between the number 3 and number 8."
   ]
  },
  {
   "cell_type": "code",
   "execution_count": 1,
   "id": "b15c8646",
   "metadata": {
    "execution": {
     "iopub.execute_input": "2022-11-13T10:10:44.089146Z",
     "iopub.status.busy": "2022-11-13T10:10:44.088417Z",
     "iopub.status.idle": "2022-11-13T10:10:44.101434Z",
     "shell.execute_reply": "2022-11-13T10:10:44.100728Z"
    },
    "papermill": {
     "duration": 0.058284,
     "end_time": "2022-11-13T10:10:44.101616",
     "exception": false,
     "start_time": "2022-11-13T10:10:44.043332",
     "status": "completed"
    },
    "tags": []
   },
   "outputs": [],
   "source": [
    "%load_ext autoreload\n",
    "%autoreload 2"
   ]
  },
  {
   "cell_type": "code",
   "execution_count": 2,
   "id": "22ef38dc",
   "metadata": {
    "execution": {
     "iopub.execute_input": "2022-11-13T10:10:44.164290Z",
     "iopub.status.busy": "2022-11-13T10:10:44.163599Z",
     "iopub.status.idle": "2022-11-13T10:10:44.801244Z",
     "shell.execute_reply": "2022-11-13T10:10:44.801847Z"
    },
    "papermill": {
     "duration": 0.67119,
     "end_time": "2022-11-13T10:10:44.802002",
     "exception": false,
     "start_time": "2022-11-13T10:10:44.130812",
     "status": "completed"
    },
    "tags": []
   },
   "outputs": [],
   "source": [
    "%matplotlib inline\n",
    "import numpy as np\n",
    "import matplotlib.pyplot as plt\n",
    "import pandas as pd"
   ]
  },
  {
   "cell_type": "markdown",
   "id": "ba036198",
   "metadata": {
    "papermill": {
     "duration": 0.027672,
     "end_time": "2022-11-13T10:10:44.857842",
     "exception": false,
     "start_time": "2022-11-13T10:10:44.830170",
     "status": "completed"
    },
    "tags": []
   },
   "source": [
    "From the command line run `pip install mnist`. This is a library that will help you bring down the mnist dataset. If you run this from a notebook, you need to put  `!pip install mnist` in a cell by itself."
   ]
  },
  {
   "cell_type": "code",
   "execution_count": 3,
   "id": "bb6ad8a1",
   "metadata": {
    "execution": {
     "iopub.execute_input": "2022-11-13T10:10:44.921262Z",
     "iopub.status.busy": "2022-11-13T10:10:44.920594Z",
     "iopub.status.idle": "2022-11-13T10:10:46.817609Z",
     "shell.execute_reply": "2022-11-13T10:10:46.816966Z"
    },
    "papermill": {
     "duration": 1.929604,
     "end_time": "2022-11-13T10:10:46.817750",
     "exception": false,
     "start_time": "2022-11-13T10:10:44.888146",
     "status": "completed"
    },
    "tags": []
   },
   "outputs": [
    {
     "name": "stdout",
     "output_type": "stream",
     "text": [
      "Collecting mnist\r\n",
      "  Downloading mnist-0.2.2-py2.py3-none-any.whl (3.5 kB)\r\n"
     ]
    },
    {
     "name": "stdout",
     "output_type": "stream",
     "text": [
      "Requirement already satisfied: numpy in /opt/hostedtoolcache/Python/3.6.15/x64/lib/python3.6/site-packages (from mnist) (1.19.5)\r\n"
     ]
    },
    {
     "name": "stdout",
     "output_type": "stream",
     "text": [
      "Installing collected packages: mnist\r\n"
     ]
    },
    {
     "name": "stdout",
     "output_type": "stream",
     "text": [
      "Successfully installed mnist-0.2.2\r\n"
     ]
    }
   ],
   "source": [
    "!pip install mnist"
   ]
  },
  {
   "cell_type": "markdown",
   "id": "69df9c9a",
   "metadata": {
    "papermill": {
     "duration": 0.032497,
     "end_time": "2022-11-13T10:10:46.883279",
     "exception": false,
     "start_time": "2022-11-13T10:10:46.850782",
     "status": "completed"
    },
    "tags": []
   },
   "source": [
    "## Preparing the Data"
   ]
  },
  {
   "cell_type": "code",
   "execution_count": 4,
   "id": "7f69d806",
   "metadata": {
    "execution": {
     "iopub.execute_input": "2022-11-13T10:10:46.955469Z",
     "iopub.status.busy": "2022-11-13T10:10:46.954725Z",
     "iopub.status.idle": "2022-11-13T10:10:46.972117Z",
     "shell.execute_reply": "2022-11-13T10:10:46.971452Z"
    },
    "papermill": {
     "duration": 0.058025,
     "end_time": "2022-11-13T10:10:46.972321",
     "exception": false,
     "start_time": "2022-11-13T10:10:46.914296",
     "status": "completed"
    },
    "tags": []
   },
   "outputs": [],
   "source": [
    "import mnist"
   ]
  },
  {
   "cell_type": "code",
   "execution_count": 5,
   "id": "a411e44f",
   "metadata": {
    "execution": {
     "iopub.execute_input": "2022-11-13T10:10:47.041979Z",
     "iopub.status.busy": "2022-11-13T10:10:47.041273Z",
     "iopub.status.idle": "2022-11-13T10:10:47.538760Z",
     "shell.execute_reply": "2022-11-13T10:10:47.538084Z"
    },
    "papermill": {
     "duration": 0.531973,
     "end_time": "2022-11-13T10:10:47.538942",
     "exception": false,
     "start_time": "2022-11-13T10:10:47.006969",
     "status": "completed"
    },
    "tags": []
   },
   "outputs": [],
   "source": [
    "train_images = mnist.train_images()\n",
    "train_labels = mnist.train_labels()"
   ]
  },
  {
   "cell_type": "code",
   "execution_count": 6,
   "id": "dceab3a5",
   "metadata": {
    "execution": {
     "iopub.execute_input": "2022-11-13T10:10:47.610397Z",
     "iopub.status.busy": "2022-11-13T10:10:47.609704Z",
     "iopub.status.idle": "2022-11-13T10:10:47.631036Z",
     "shell.execute_reply": "2022-11-13T10:10:47.630472Z"
    },
    "papermill": {
     "duration": 0.057695,
     "end_time": "2022-11-13T10:10:47.631175",
     "exception": false,
     "start_time": "2022-11-13T10:10:47.573480",
     "status": "completed"
    },
    "tags": []
   },
   "outputs": [
    {
     "data": {
      "text/plain": [
       "((60000, 28, 28), (60000,))"
      ]
     },
     "execution_count": 6,
     "metadata": {},
     "output_type": "execute_result"
    }
   ],
   "source": [
    "train_images.shape, train_labels.shape"
   ]
  },
  {
   "cell_type": "code",
   "execution_count": 7,
   "id": "f50dc2bb",
   "metadata": {
    "execution": {
     "iopub.execute_input": "2022-11-13T10:10:47.703817Z",
     "iopub.status.busy": "2022-11-13T10:10:47.702941Z",
     "iopub.status.idle": "2022-11-13T10:10:47.811435Z",
     "shell.execute_reply": "2022-11-13T10:10:47.810908Z"
    },
    "papermill": {
     "duration": 0.148309,
     "end_time": "2022-11-13T10:10:47.811614",
     "exception": false,
     "start_time": "2022-11-13T10:10:47.663305",
     "status": "completed"
    },
    "tags": []
   },
   "outputs": [],
   "source": [
    "test_images = mnist.test_images()\n",
    "test_labels = mnist.test_labels()"
   ]
  },
  {
   "cell_type": "code",
   "execution_count": 8,
   "id": "fc38cf1b",
   "metadata": {
    "execution": {
     "iopub.execute_input": "2022-11-13T10:10:47.880658Z",
     "iopub.status.busy": "2022-11-13T10:10:47.879934Z",
     "iopub.status.idle": "2022-11-13T10:10:47.894583Z",
     "shell.execute_reply": "2022-11-13T10:10:47.895189Z"
    },
    "papermill": {
     "duration": 0.049977,
     "end_time": "2022-11-13T10:10:47.895309",
     "exception": false,
     "start_time": "2022-11-13T10:10:47.845332",
     "status": "completed"
    },
    "tags": []
   },
   "outputs": [
    {
     "data": {
      "text/plain": [
       "((10000, 28, 28), (10000,))"
      ]
     },
     "execution_count": 8,
     "metadata": {},
     "output_type": "execute_result"
    }
   ],
   "source": [
    "test_images.shape, test_labels.shape"
   ]
  },
  {
   "cell_type": "code",
   "execution_count": 9,
   "id": "f9ed8fe0",
   "metadata": {
    "execution": {
     "iopub.execute_input": "2022-11-13T10:10:47.961914Z",
     "iopub.status.busy": "2022-11-13T10:10:47.961269Z",
     "iopub.status.idle": "2022-11-13T10:10:48.152903Z",
     "shell.execute_reply": "2022-11-13T10:10:48.153387Z"
    },
    "papermill": {
     "duration": 0.230499,
     "end_time": "2022-11-13T10:10:48.153534",
     "exception": false,
     "start_time": "2022-11-13T10:10:47.923035",
     "status": "completed"
    },
    "tags": []
   },
   "outputs": [
    {
     "name": "stdout",
     "output_type": "stream",
     "text": [
      "2\n"
     ]
    },
    {
     "data": {
      "text/plain": [
       "<matplotlib.image.AxesImage at 0x7f81f2955240>"
      ]
     },
     "execution_count": 9,
     "metadata": {},
     "output_type": "execute_result"
    },
    {
     "data": {
      "image/png": "[encoded data removed]",
      "text/plain": [
       "<Figure size 432x288 with 1 Axes>"
      ]
     },
     "metadata": {
      "needs_background": "light"
     },
     "output_type": "display_data"
    }
   ],
   "source": [
    "image_index = 7776 # You may select anything up to 60,000\n",
    "print(train_labels[image_index]) \n",
    "plt.imshow(train_images[image_index], cmap='Greys')"
   ]
  },
  {
   "cell_type": "markdown",
   "id": "a8d2388d",
   "metadata": {
    "papermill": {
     "duration": 0.029224,
     "end_time": "2022-11-13T10:10:48.215583",
     "exception": false,
     "start_time": "2022-11-13T10:10:48.186359",
     "status": "completed"
    },
    "tags": []
   },
   "source": [
    "## Filter data to get 3 and 8 out"
   ]
  },
  {
   "cell_type": "code",
   "execution_count": 10,
   "id": "776f7fc7",
   "metadata": {
    "execution": {
     "iopub.execute_input": "2022-11-13T10:10:48.277076Z",
     "iopub.status.busy": "2022-11-13T10:10:48.275836Z",
     "iopub.status.idle": "2022-11-13T10:10:48.298856Z",
     "shell.execute_reply": "2022-11-13T10:10:48.299366Z"
    },
    "papermill": {
     "duration": 0.056328,
     "end_time": "2022-11-13T10:10:48.299545",
     "exception": false,
     "start_time": "2022-11-13T10:10:48.243217",
     "status": "completed"
    },
    "tags": []
   },
   "outputs": [],
   "source": [
    "train_filter = np.where((train_labels == 3 ) | (train_labels == 8))\n",
    "test_filter = np.where((test_labels == 3) | (test_labels == 8))\n",
    "X_train, y_train = train_images[train_filter], train_labels[train_filter]\n",
    "X_test, y_test = test_images[test_filter], test_labels[test_filter]"
   ]
  },
  {
   "cell_type": "markdown",
   "id": "948f0b7e",
   "metadata": {
    "papermill": {
     "duration": 0.029897,
     "end_time": "2022-11-13T10:10:48.361849",
     "exception": false,
     "start_time": "2022-11-13T10:10:48.331952",
     "status": "completed"
    },
    "tags": []
   },
   "source": [
    "We normalize the pizel values in the 0 to 1 range"
   ]
  },
  {
   "cell_type": "code",
   "execution_count": 11,
   "id": "ee4c2166",
   "metadata": {
    "execution": {
     "iopub.execute_input": "2022-11-13T10:10:48.429088Z",
     "iopub.status.busy": "2022-11-13T10:10:48.428181Z",
     "iopub.status.idle": "2022-11-13T10:10:48.490291Z",
     "shell.execute_reply": "2022-11-13T10:10:48.489544Z"
    },
    "papermill": {
     "duration": 0.095407,
     "end_time": "2022-11-13T10:10:48.490496",
     "exception": false,
     "start_time": "2022-11-13T10:10:48.395089",
     "status": "completed"
    },
    "tags": []
   },
   "outputs": [],
   "source": [
    "X_train = X_train/255.\n",
    "X_test = X_test/255."
   ]
  },
  {
   "cell_type": "markdown",
   "id": "ddcf4fab",
   "metadata": {
    "papermill": {
     "duration": 0.028479,
     "end_time": "2022-11-13T10:10:48.553177",
     "exception": false,
     "start_time": "2022-11-13T10:10:48.524698",
     "status": "completed"
    },
    "tags": []
   },
   "source": [
    "And setup the labels as 1 (when the digit is 3) and 0 (when the digit is 8)"
   ]
  },
  {
   "cell_type": "code",
   "execution_count": 12,
   "id": "7dc908f2",
   "metadata": {
    "execution": {
     "iopub.execute_input": "2022-11-13T10:10:48.617711Z",
     "iopub.status.busy": "2022-11-13T10:10:48.617063Z",
     "iopub.status.idle": "2022-11-13T10:10:48.629057Z",
     "shell.execute_reply": "2022-11-13T10:10:48.628146Z"
    },
    "papermill": {
     "duration": 0.047095,
     "end_time": "2022-11-13T10:10:48.629189",
     "exception": false,
     "start_time": "2022-11-13T10:10:48.582094",
     "status": "completed"
    },
    "tags": []
   },
   "outputs": [],
   "source": [
    "y_train = 1*(y_train==3)\n",
    "y_test = 1*(y_test==3)"
   ]
  },
  {
   "cell_type": "code",
   "execution_count": 13,
   "id": "01e4e969",
   "metadata": {
    "execution": {
     "iopub.execute_input": "2022-11-13T10:10:48.708235Z",
     "iopub.status.busy": "2022-11-13T10:10:48.707569Z",
     "iopub.status.idle": "2022-11-13T10:10:48.726554Z",
     "shell.execute_reply": "2022-11-13T10:10:48.725850Z"
    },
    "papermill": {
     "duration": 0.063404,
     "end_time": "2022-11-13T10:10:48.726752",
     "exception": false,
     "start_time": "2022-11-13T10:10:48.663348",
     "status": "completed"
    },
    "tags": []
   },
   "outputs": [
    {
     "data": {
      "text/plain": [
       "((11982, 28, 28), (1984, 28, 28))"
      ]
     },
     "execution_count": 13,
     "metadata": {},
     "output_type": "execute_result"
    }
   ],
   "source": [
    "X_train.shape, X_test.shape"
   ]
  },
  {
   "cell_type": "markdown",
   "id": "5ccf3f85",
   "metadata": {
    "papermill": {
     "duration": 0.032395,
     "end_time": "2022-11-13T10:10:48.793148",
     "exception": false,
     "start_time": "2022-11-13T10:10:48.760753",
     "status": "completed"
    },
    "tags": []
   },
   "source": [
    "We reshape the data to flatten the image pixels into a set of features or co-variates:"
   ]
  },
  {
   "cell_type": "code",
   "execution_count": 14,
   "id": "5286a4a3",
   "metadata": {
    "execution": {
     "iopub.execute_input": "2022-11-13T10:10:48.879290Z",
     "iopub.status.busy": "2022-11-13T10:10:48.878331Z",
     "iopub.status.idle": "2022-11-13T10:10:48.895401Z",
     "shell.execute_reply": "2022-11-13T10:10:48.895920Z"
    },
    "papermill": {
     "duration": 0.06072,
     "end_time": "2022-11-13T10:10:48.896053",
     "exception": false,
     "start_time": "2022-11-13T10:10:48.835333",
     "status": "completed"
    },
    "tags": []
   },
   "outputs": [
    {
     "data": {
      "text/plain": [
       "((11982, 784), (1984, 784))"
      ]
     },
     "execution_count": 14,
     "metadata": {},
     "output_type": "execute_result"
    }
   ],
   "source": [
    "X_train = X_train.reshape(X_train.shape[0], -1)\n",
    "X_test = X_test.reshape(X_test.shape[0], -1)\n",
    "X_train.shape, X_test.shape"
   ]
  },
  {
   "cell_type": "code",
   "execution_count": 15,
   "id": "73c5f88a",
   "metadata": {
    "execution": {
     "iopub.execute_input": "2022-11-13T10:10:48.975848Z",
     "iopub.status.busy": "2022-11-13T10:10:48.975107Z",
     "iopub.status.idle": "2022-11-13T10:10:48.994050Z",
     "shell.execute_reply": "2022-11-13T10:10:48.993534Z"
    },
    "papermill": {
     "duration": 0.062931,
     "end_time": "2022-11-13T10:10:48.994153",
     "exception": false,
     "start_time": "2022-11-13T10:10:48.931222",
     "status": "completed"
    },
    "tags": []
   },
   "outputs": [],
   "source": [
    "#Impoting functions from 'Kudzu'\n",
    "from kudzu.model import Model\n",
    "from kudzu.train import Learner\n",
    "from kudzu.optim import GD\n",
    "from kudzu.data import Data, Sampler,Dataloader\n",
    "\n",
    "from kudzu.callbacks import AccCallback\n",
    "from kudzu.callbacks import ClfCallback\n",
    "\n",
    "from kudzu.loss import MSE\n",
    "\n",
    "from kudzu.layer import Sigmoid,Relu\n",
    "from kudzu.layer import Affine"
   ]
  },
  {
   "cell_type": "markdown",
   "id": "bc01172a",
   "metadata": {
    "papermill": {
     "duration": 0.029269,
     "end_time": "2022-11-13T10:10:49.053363",
     "exception": false,
     "start_time": "2022-11-13T10:10:49.024094",
     "status": "completed"
    },
    "tags": []
   },
   "source": [
    "### Let us create a `Config` class, to store important parameters. \n",
    "This class essentially plays the role of a dictionary."
   ]
  },
  {
   "cell_type": "code",
   "execution_count": 16,
   "id": "978281aa",
   "metadata": {
    "execution": {
     "iopub.execute_input": "2022-11-13T10:10:49.122100Z",
     "iopub.status.busy": "2022-11-13T10:10:49.121421Z",
     "iopub.status.idle": "2022-11-13T10:10:49.135355Z",
     "shell.execute_reply": "2022-11-13T10:10:49.136154Z"
    },
    "papermill": {
     "duration": 0.049714,
     "end_time": "2022-11-13T10:10:49.136432",
     "exception": false,
     "start_time": "2022-11-13T10:10:49.086718",
     "status": "completed"
    },
    "tags": []
   },
   "outputs": [],
   "source": [
    "class Config:\n",
    "    pass\n",
    "config = Config()\n",
    "config.lr = 0.001\n",
    "config.num_epochs = 250\n",
    "config.bs = 50"
   ]
  },
  {
   "cell_type": "markdown",
   "id": "1385fa59",
   "metadata": {
    "papermill": {
     "duration": 0.03033,
     "end_time": "2022-11-13T10:10:49.197333",
     "exception": false,
     "start_time": "2022-11-13T10:10:49.167003",
     "status": "completed"
    },
    "tags": []
   },
   "source": [
    "### Running Models with the Training data\n",
    "Details about the network layers:\n",
    "- A first affine layer has 784 inputs and does 100 affine transforms. These are followed by a Relu\n",
    "- A second affine layer has 100 inputs from the 100 activations of the past layer, and does 100 affine transforms. These are followed by a Relu\n",
    "- A third affine layer has 100 activations and does 2 affine transformations to create an embedding for visualization. There is no non-linearity here.\n",
    "- A final \"logistic regression\" which has an affine transform from 2 inputs to 1 output, which is squeezed through a sigmoid.\n"
   ]
  },
  {
   "cell_type": "code",
   "execution_count": 17,
   "id": "2b9c66db",
   "metadata": {
    "execution": {
     "iopub.execute_input": "2022-11-13T10:10:49.268723Z",
     "iopub.status.busy": "2022-11-13T10:10:49.268032Z",
     "iopub.status.idle": "2022-11-13T10:10:49.281918Z",
     "shell.execute_reply": "2022-11-13T10:10:49.281424Z"
    },
    "papermill": {
     "duration": 0.054175,
     "end_time": "2022-11-13T10:10:49.282024",
     "exception": false,
     "start_time": "2022-11-13T10:10:49.227849",
     "status": "completed"
    },
    "tags": []
   },
   "outputs": [],
   "source": [
    "data = Data(X_train, y_train.reshape(-1,1))\n",
    "sampler = Sampler(data, config.bs, shuffle=True)\n",
    "\n",
    "dl = Dataloader(data, sampler)\n",
    "\n",
    "opt = GD(config.lr)\n",
    "loss = MSE()"
   ]
  },
  {
   "cell_type": "code",
   "execution_count": 18,
   "id": "b275e4c2",
   "metadata": {
    "execution": {
     "iopub.execute_input": "2022-11-13T10:10:49.348590Z",
     "iopub.status.busy": "2022-11-13T10:10:49.347859Z",
     "iopub.status.idle": "2022-11-13T10:10:49.363010Z",
     "shell.execute_reply": "2022-11-13T10:10:49.362407Z"
    },
    "papermill": {
     "duration": 0.051177,
     "end_time": "2022-11-13T10:10:49.363133",
     "exception": false,
     "start_time": "2022-11-13T10:10:49.311956",
     "status": "completed"
    },
    "tags": []
   },
   "outputs": [],
   "source": [
    "training_data_x = X_train\n",
    "testing_data_x = X_test\n",
    "training_data_y = y_train.reshape(-1,1)\n",
    "testing_data_y = y_test.reshape(-1,1)"
   ]
  },
  {
   "cell_type": "code",
   "execution_count": 19,
   "id": "76951160",
   "metadata": {
    "execution": {
     "iopub.execute_input": "2022-11-13T10:10:49.438808Z",
     "iopub.status.busy": "2022-11-13T10:10:49.438123Z",
     "iopub.status.idle": "2022-11-13T10:10:49.454342Z",
     "shell.execute_reply": "2022-11-13T10:10:49.454900Z"
    },
    "papermill": {
     "duration": 0.057381,
     "end_time": "2022-11-13T10:10:49.455020",
     "exception": false,
     "start_time": "2022-11-13T10:10:49.397639",
     "status": "completed"
    },
    "tags": []
   },
   "outputs": [
    {
     "name": "stdout",
     "output_type": "stream",
     "text": [
      "xavier\n",
      "xavier\n",
      "xavier\n",
      "xavier\n",
      "xavier\n"
     ]
    }
   ],
   "source": [
    "layers = [Affine(\"first\", 784, 100), Relu(\"first\"), Affine(\"second\", 100, 100), Relu(\"second\"), Affine(\"third\", 100, 2), Affine(\"last\", 2, 1), Sigmoid(\"last\")]\n",
    "model_nn = Model(layers)\n",
    "model_lr = Model([Affine(\"logits\", 784, 1), Sigmoid(\"sigmoid\")])"
   ]
  },
  {
   "cell_type": "code",
   "execution_count": 20,
   "id": "6eede77a",
   "metadata": {
    "execution": {
     "iopub.execute_input": "2022-11-13T10:10:49.522364Z",
     "iopub.status.busy": "2022-11-13T10:10:49.521601Z",
     "iopub.status.idle": "2022-11-13T10:10:49.534062Z",
     "shell.execute_reply": "2022-11-13T10:10:49.534655Z"
    },
    "papermill": {
     "duration": 0.04847,
     "end_time": "2022-11-13T10:10:49.534820",
     "exception": false,
     "start_time": "2022-11-13T10:10:49.486350",
     "status": "completed"
    },
    "tags": []
   },
   "outputs": [],
   "source": [
    "nn_learner = Learner(loss, model_nn, opt, config.num_epochs)\n",
    "acc_nn = ClfCallback(nn_learner, config.bs, training_data_x , testing_data_x, training_data_y, testing_data_y)\n",
    "nn_learner.set_callbacks([acc_nn])"
   ]
  },
  {
   "cell_type": "code",
   "execution_count": 21,
   "id": "877b6cc7",
   "metadata": {
    "execution": {
     "iopub.execute_input": "2022-11-13T10:10:49.608525Z",
     "iopub.status.busy": "2022-11-13T10:10:49.607756Z",
     "iopub.status.idle": "2022-11-13T10:10:49.621184Z",
     "shell.execute_reply": "2022-11-13T10:10:49.620169Z"
    },
    "papermill": {
     "duration": 0.050466,
     "end_time": "2022-11-13T10:10:49.621457",
     "exception": false,
     "start_time": "2022-11-13T10:10:49.570991",
     "status": "completed"
    },
    "tags": []
   },
   "outputs": [],
   "source": [
    "lr_learner = Learner(loss, model_lr, opt, config.num_epochs)\n",
    "acc_lr = ClfCallback(lr_learner, config.bs, training_data_x , testing_data_x, training_data_y, testing_data_y)\n",
    "lr_learner.set_callbacks([acc_lr])"
   ]
  },
  {
   "cell_type": "code",
   "execution_count": 22,
   "id": "d9b133c3",
   "metadata": {
    "execution": {
     "iopub.execute_input": "2022-11-13T10:10:49.685641Z",
     "iopub.status.busy": "2022-11-13T10:10:49.684773Z",
     "iopub.status.idle": "2022-11-13T10:13:14.019269Z",
     "shell.execute_reply": "2022-11-13T10:13:14.020424Z"
    },
    "papermill": {
     "duration": 144.367317,
     "end_time": "2022-11-13T10:13:14.020625",
     "exception": false,
     "start_time": "2022-11-13T10:10:49.653308",
     "status": "completed"
    },
    "tags": []
   },
   "outputs": [
    {
     "name": "stdout",
     "output_type": "stream",
     "text": [
      "Epoch 0, Loss 0.2269\n",
      "Training Accuracy: 0.7690, Testing Accuracy: 0.7611\n",
      "\n"
     ]
    },
    {
     "name": "stdout",
     "output_type": "stream",
     "text": [
      "Epoch 10, Loss 0.0715\n",
      "Training Accuracy: 0.9293, Testing Accuracy: 0.9441\n",
      "\n"
     ]
    },
    {
     "name": "stdout",
     "output_type": "stream",
     "text": [
      "Epoch 20, Loss 0.0465\n",
      "Training Accuracy: 0.9523, Testing Accuracy: 0.9622\n",
      "\n"
     ]
    },
    {
     "name": "stdout",
     "output_type": "stream",
     "text": [
      "Epoch 30, Loss 0.0377\n",
      "Training Accuracy: 0.9606, Testing Accuracy: 0.9693\n",
      "\n"
     ]
    },
    {
     "name": "stdout",
     "output_type": "stream",
     "text": [
      "Epoch 40, Loss 0.0333\n",
      "Training Accuracy: 0.9639, Testing Accuracy: 0.9703\n",
      "\n"
     ]
    },
    {
     "name": "stdout",
     "output_type": "stream",
     "text": [
      "Epoch 50, Loss 0.0307\n",
      "Training Accuracy: 0.9659, Testing Accuracy: 0.9693\n",
      "\n"
     ]
    },
    {
     "name": "stdout",
     "output_type": "stream",
     "text": [
      "Epoch 60, Loss 0.0288\n",
      "Training Accuracy: 0.9674, Testing Accuracy: 0.9708\n",
      "\n"
     ]
    },
    {
     "name": "stdout",
     "output_type": "stream",
     "text": [
      "Epoch 70, Loss 0.0274\n",
      "Training Accuracy: 0.9684, Testing Accuracy: 0.9703\n",
      "\n"
     ]
    },
    {
     "name": "stdout",
     "output_type": "stream",
     "text": [
      "Epoch 80, Loss 0.0262\n",
      "Training Accuracy: 0.9700, Testing Accuracy: 0.9693\n",
      "\n"
     ]
    },
    {
     "name": "stdout",
     "output_type": "stream",
     "text": [
      "Epoch 90, Loss 0.0252\n",
      "Training Accuracy: 0.9710, Testing Accuracy: 0.9703\n",
      "\n"
     ]
    },
    {
     "name": "stdout",
     "output_type": "stream",
     "text": [
      "Epoch 100, Loss 0.0244\n",
      "Training Accuracy: 0.9718, Testing Accuracy: 0.9708\n",
      "\n"
     ]
    },
    {
     "name": "stdout",
     "output_type": "stream",
     "text": [
      "Epoch 110, Loss 0.0236\n",
      "Training Accuracy: 0.9729, Testing Accuracy: 0.9708\n",
      "\n"
     ]
    },
    {
     "name": "stdout",
     "output_type": "stream",
     "text": [
      "Epoch 120, Loss 0.0229\n",
      "Training Accuracy: 0.9740, Testing Accuracy: 0.9703\n",
      "\n"
     ]
    },
    {
     "name": "stdout",
     "output_type": "stream",
     "text": [
      "Epoch 130, Loss 0.0223\n",
      "Training Accuracy: 0.9748, Testing Accuracy: 0.9703\n",
      "\n"
     ]
    },
    {
     "name": "stdout",
     "output_type": "stream",
     "text": [
      "Epoch 140, Loss 0.0217\n",
      "Training Accuracy: 0.9755, Testing Accuracy: 0.9708\n",
      "\n"
     ]
    },
    {
     "name": "stdout",
     "output_type": "stream",
     "text": [
      "Epoch 150, Loss 0.0212\n",
      "Training Accuracy: 0.9760, Testing Accuracy: 0.9713\n",
      "\n"
     ]
    },
    {
     "name": "stdout",
     "output_type": "stream",
     "text": [
      "Epoch 160, Loss 0.0207\n",
      "Training Accuracy: 0.9761, Testing Accuracy: 0.9718\n",
      "\n"
     ]
    },
    {
     "name": "stdout",
     "output_type": "stream",
     "text": [
      "Epoch 170, Loss 0.0202\n",
      "Training Accuracy: 0.9770, Testing Accuracy: 0.9723\n",
      "\n"
     ]
    },
    {
     "name": "stdout",
     "output_type": "stream",
     "text": [
      "Epoch 180, Loss 0.0197\n",
      "Training Accuracy: 0.9779, Testing Accuracy: 0.9733\n",
      "\n"
     ]
    },
    {
     "name": "stdout",
     "output_type": "stream",
     "text": [
      "Epoch 190, Loss 0.0193\n",
      "Training Accuracy: 0.9783, Testing Accuracy: 0.9733\n",
      "\n"
     ]
    },
    {
     "name": "stdout",
     "output_type": "stream",
     "text": [
      "Epoch 200, Loss 0.0188\n",
      "Training Accuracy: 0.9790, Testing Accuracy: 0.9733\n",
      "\n"
     ]
    },
    {
     "name": "stdout",
     "output_type": "stream",
     "text": [
      "Epoch 210, Loss 0.0184\n",
      "Training Accuracy: 0.9793, Testing Accuracy: 0.9738\n",
      "\n"
     ]
    },
    {
     "name": "stdout",
     "output_type": "stream",
     "text": [
      "Epoch 220, Loss 0.0181\n",
      "Training Accuracy: 0.9796, Testing Accuracy: 0.9738\n",
      "\n"
     ]
    },
    {
     "name": "stdout",
     "output_type": "stream",
     "text": [
      "Epoch 230, Loss 0.0177\n",
      "Training Accuracy: 0.9804, Testing Accuracy: 0.9748\n",
      "\n"
     ]
    },
    {
     "name": "stdout",
     "output_type": "stream",
     "text": [
      "Epoch 240, Loss 0.0173\n",
      "Training Accuracy: 0.9811, Testing Accuracy: 0.9758\n",
      "\n"
     ]
    },
    {
     "data": {
      "text/plain": [
       "0.004644363881349953"
      ]
     },
     "execution_count": 22,
     "metadata": {},
     "output_type": "execute_result"
    }
   ],
   "source": [
    "nn_learner.train_loop(dl)"
   ]
  },
  {
   "cell_type": "code",
   "execution_count": 23,
   "id": "e0163366",
   "metadata": {
    "execution": {
     "iopub.execute_input": "2022-11-13T10:13:14.109829Z",
     "iopub.status.busy": "2022-11-13T10:13:14.109241Z",
     "iopub.status.idle": "2022-11-13T10:13:35.062951Z",
     "shell.execute_reply": "2022-11-13T10:13:35.064074Z"
    },
    "papermill": {
     "duration": 21.005118,
     "end_time": "2022-11-13T10:13:35.064313",
     "exception": false,
     "start_time": "2022-11-13T10:13:14.059195",
     "status": "completed"
    },
    "tags": []
   },
   "outputs": [
    {
     "name": "stdout",
     "output_type": "stream",
     "text": [
      "Epoch 0, Loss 0.212\n",
      "Training Accuracy: 0.7646, Testing Accuracy: 0.8049\n",
      "\n"
     ]
    },
    {
     "name": "stdout",
     "output_type": "stream",
     "text": [
      "Epoch 10, Loss 0.1008\n",
      "Training Accuracy: 0.9108, Testing Accuracy: 0.9249\n",
      "\n"
     ]
    },
    {
     "name": "stdout",
     "output_type": "stream",
     "text": [
      "Epoch 20, Loss 0.0783\n",
      "Training Accuracy: 0.9271, Testing Accuracy: 0.9415\n",
      "\n"
     ]
    },
    {
     "name": "stdout",
     "output_type": "stream",
     "text": [
      "Epoch 30, Loss 0.0677\n",
      "Training Accuracy: 0.9346, Testing Accuracy: 0.9496\n",
      "\n"
     ]
    },
    {
     "name": "stdout",
     "output_type": "stream",
     "text": [
      "Epoch 40, Loss 0.0613\n",
      "Training Accuracy: 0.9407, Testing Accuracy: 0.9561\n",
      "\n"
     ]
    },
    {
     "name": "stdout",
     "output_type": "stream",
     "text": [
      "Epoch 50, Loss 0.0569\n",
      "Training Accuracy: 0.9447, Testing Accuracy: 0.9592\n",
      "\n"
     ]
    },
    {
     "name": "stdout",
     "output_type": "stream",
     "text": [
      "Epoch 60, Loss 0.0537\n",
      "Training Accuracy: 0.9466, Testing Accuracy: 0.9617\n",
      "\n"
     ]
    },
    {
     "name": "stdout",
     "output_type": "stream",
     "text": [
      "Epoch 70, Loss 0.0512\n",
      "Training Accuracy: 0.9486, Testing Accuracy: 0.9632\n",
      "\n"
     ]
    },
    {
     "name": "stdout",
     "output_type": "stream",
     "text": [
      "Epoch 80, Loss 0.0492\n",
      "Training Accuracy: 0.9506, Testing Accuracy: 0.9632\n",
      "\n"
     ]
    },
    {
     "name": "stdout",
     "output_type": "stream",
     "text": [
      "Epoch 90, Loss 0.0475\n",
      "Training Accuracy: 0.9515, Testing Accuracy: 0.9637\n",
      "\n"
     ]
    },
    {
     "name": "stdout",
     "output_type": "stream",
     "text": [
      "Epoch 100, Loss 0.0461\n",
      "Training Accuracy: 0.9525, Testing Accuracy: 0.9642\n",
      "\n"
     ]
    },
    {
     "name": "stdout",
     "output_type": "stream",
     "text": [
      "Epoch 110, Loss 0.0449\n",
      "Training Accuracy: 0.9534, Testing Accuracy: 0.9652\n",
      "\n"
     ]
    },
    {
     "name": "stdout",
     "output_type": "stream",
     "text": [
      "Epoch 120, Loss 0.0439\n",
      "Training Accuracy: 0.9548, Testing Accuracy: 0.9652\n",
      "\n"
     ]
    },
    {
     "name": "stdout",
     "output_type": "stream",
     "text": [
      "Epoch 130, Loss 0.0429\n",
      "Training Accuracy: 0.9548, Testing Accuracy: 0.9647\n",
      "\n"
     ]
    },
    {
     "name": "stdout",
     "output_type": "stream",
     "text": [
      "Epoch 140, Loss 0.0421\n",
      "Training Accuracy: 0.9554, Testing Accuracy: 0.9652\n",
      "\n"
     ]
    },
    {
     "name": "stdout",
     "output_type": "stream",
     "text": [
      "Epoch 150, Loss 0.0414\n",
      "Training Accuracy: 0.9559, Testing Accuracy: 0.9652\n",
      "\n"
     ]
    },
    {
     "name": "stdout",
     "output_type": "stream",
     "text": [
      "Epoch 160, Loss 0.0407\n",
      "Training Accuracy: 0.9568, Testing Accuracy: 0.9647\n",
      "\n"
     ]
    },
    {
     "name": "stdout",
     "output_type": "stream",
     "text": [
      "Epoch 170, Loss 0.0401\n",
      "Training Accuracy: 0.9571, Testing Accuracy: 0.9652\n",
      "\n"
     ]
    },
    {
     "name": "stdout",
     "output_type": "stream",
     "text": [
      "Epoch 180, Loss 0.0395\n",
      "Training Accuracy: 0.9572, Testing Accuracy: 0.9657\n",
      "\n"
     ]
    },
    {
     "name": "stdout",
     "output_type": "stream",
     "text": [
      "Epoch 190, Loss 0.039\n",
      "Training Accuracy: 0.9576, Testing Accuracy: 0.9667\n",
      "\n"
     ]
    },
    {
     "name": "stdout",
     "output_type": "stream",
     "text": [
      "Epoch 200, Loss 0.0386\n",
      "Training Accuracy: 0.9582, Testing Accuracy: 0.9672\n",
      "\n"
     ]
    },
    {
     "name": "stdout",
     "output_type": "stream",
     "text": [
      "Epoch 210, Loss 0.0381\n",
      "Training Accuracy: 0.9588, Testing Accuracy: 0.9672\n",
      "\n"
     ]
    },
    {
     "name": "stdout",
     "output_type": "stream",
     "text": [
      "Epoch 220, Loss 0.0377\n",
      "Training Accuracy: 0.9593, Testing Accuracy: 0.9677\n",
      "\n"
     ]
    },
    {
     "name": "stdout",
     "output_type": "stream",
     "text": [
      "Epoch 230, Loss 0.0373\n",
      "Training Accuracy: 0.9593, Testing Accuracy: 0.9677\n",
      "\n"
     ]
    },
    {
     "name": "stdout",
     "output_type": "stream",
     "text": [
      "Epoch 240, Loss 0.037\n",
      "Training Accuracy: 0.9598, Testing Accuracy: 0.9677\n",
      "\n"
     ]
    },
    {
     "data": {
      "text/plain": [
       "0.046280410163875296"
      ]
     },
     "execution_count": 23,
     "metadata": {},
     "output_type": "execute_result"
    }
   ],
   "source": [
    "lr_learner.train_loop(dl)"
   ]
  },
  {
   "cell_type": "code",
   "execution_count": 24,
   "id": "ca410940",
   "metadata": {
    "execution": {
     "iopub.execute_input": "2022-11-13T10:13:35.179728Z",
     "iopub.status.busy": "2022-11-13T10:13:35.179063Z",
     "iopub.status.idle": "2022-11-13T10:13:35.481078Z",
     "shell.execute_reply": "2022-11-13T10:13:35.480452Z"
    },
    "papermill": {
     "duration": 0.360935,
     "end_time": "2022-11-13T10:13:35.481272",
     "exception": false,
     "start_time": "2022-11-13T10:13:35.120337",
     "status": "completed"
    },
    "tags": []
   },
   "outputs": [
    {
     "data": {
      "text/plain": [
       "<matplotlib.legend.Legend at 0x7f81f24c2438>"
      ]
     },
     "execution_count": 24,
     "metadata": {},
     "output_type": "execute_result"
    },
    {
     "data": {
      "image/png": "[encoded data removed]",
      "text/plain": [
       "<Figure size 1080x720 with 1 Axes>"
      ]
     },
     "metadata": {
      "needs_background": "light"
     },
     "output_type": "display_data"
    }
   ],
   "source": [
    "#comparing the results of NN and LR\n",
    "plt.figure(figsize=(15,10))\n",
    "\n",
    "# Neural Network plots\n",
    "plt.plot(acc_nn.accuracies, 'r-', label = \"Training Accuracies - NN\")\n",
    "plt.plot(acc_nn.test_accuracies, 'g-', label = \"Testing Accuracies - NN\")\n",
    "\n",
    "# Logistic Regression plots\n",
    "plt.plot(acc_lr.accuracies, 'k-', label = \"Training Accuracies - LR\")\n",
    "plt.plot(acc_lr.test_accuracies, 'b-', label = \"Testing Accuracies - LR\")\n",
    "plt.legend()"
   ]
  },
  {
   "cell_type": "markdown",
   "id": "80dfb35c",
   "metadata": {
    "papermill": {
     "duration": 0.061845,
     "end_time": "2022-11-13T10:13:35.595115",
     "exception": false,
     "start_time": "2022-11-13T10:13:35.533270",
     "status": "completed"
    },
    "tags": []
   },
   "source": [
    "#### Plotting the outputs of this layer of the NN.\n"
   ]
  },
  {
   "cell_type": "code",
   "execution_count": 25,
   "id": "45eb2ff5",
   "metadata": {
    "execution": {
     "iopub.execute_input": "2022-11-13T10:13:35.705258Z",
     "iopub.status.busy": "2022-11-13T10:13:35.704541Z",
     "iopub.status.idle": "2022-11-13T10:13:35.732394Z",
     "shell.execute_reply": "2022-11-13T10:13:35.731691Z"
    },
    "papermill": {
     "duration": 0.084034,
     "end_time": "2022-11-13T10:13:35.732528",
     "exception": false,
     "start_time": "2022-11-13T10:13:35.648494",
     "status": "completed"
    },
    "tags": []
   },
   "outputs": [],
   "source": [
    "new_model = Model(layers[:-2])\n",
    "testing_plot = new_model(testing_data_x)"
   ]
  },
  {
   "cell_type": "code",
   "execution_count": 26,
   "id": "4c0a5485",
   "metadata": {
    "execution": {
     "iopub.execute_input": "2022-11-13T10:13:35.854213Z",
     "iopub.status.busy": "2022-11-13T10:13:35.853376Z",
     "iopub.status.idle": "2022-11-13T10:13:36.095870Z",
     "shell.execute_reply": "2022-11-13T10:13:36.096458Z"
    },
    "papermill": {
     "duration": 0.309543,
     "end_time": "2022-11-13T10:13:36.096769",
     "exception": false,
     "start_time": "2022-11-13T10:13:35.787226",
     "status": "completed"
    },
    "tags": []
   },
   "outputs": [
    {
     "data": {
      "text/plain": [
       "Text(0.5, 1.0, 'Outputs')"
      ]
     },
     "execution_count": 26,
     "metadata": {},
     "output_type": "execute_result"
    },
    {
     "data": {
      "image/png": "[encoded data removed]",
      "text/plain": [
       "<Figure size 576x504 with 1 Axes>"
      ]
     },
     "metadata": {
      "needs_background": "light"
     },
     "output_type": "display_data"
    }
   ],
   "source": [
    "# Plotting the scatter plot of points and color coding by class\n",
    "plt.figure(figsize=(8,7))\n",
    "plt.scatter(testing_plot[:,0], testing_plot[:,1], alpha = 0.1, c = y_test.ravel());\n",
    "plt.title('Outputs')"
   ]
  },
  {
   "cell_type": "markdown",
   "id": "a74fcf8f",
   "metadata": {
    "papermill": {
     "duration": 0.079028,
     "end_time": "2022-11-13T10:13:36.233287",
     "exception": false,
     "start_time": "2022-11-13T10:13:36.154259",
     "status": "completed"
    },
    "tags": []
   },
   "source": [
    "Probability contours"
   ]
  },
  {
   "cell_type": "code",
   "execution_count": 27,
   "id": "d0afc8e3",
   "metadata": {
    "execution": {
     "iopub.execute_input": "2022-11-13T10:13:36.343703Z",
     "iopub.status.busy": "2022-11-13T10:13:36.342659Z",
     "iopub.status.idle": "2022-11-13T10:13:36.355792Z",
     "shell.execute_reply": "2022-11-13T10:13:36.356305Z"
    },
    "papermill": {
     "duration": 0.073765,
     "end_time": "2022-11-13T10:13:36.356463",
     "exception": false,
     "start_time": "2022-11-13T10:13:36.282698",
     "status": "completed"
    },
    "tags": []
   },
   "outputs": [],
   "source": [
    "model_prob = Model(layers[-2:]) "
   ]
  },
  {
   "cell_type": "code",
   "execution_count": 28,
   "id": "9b96e238",
   "metadata": {
    "execution": {
     "iopub.execute_input": "2022-11-13T10:13:36.468526Z",
     "iopub.status.busy": "2022-11-13T10:13:36.467831Z",
     "iopub.status.idle": "2022-11-13T10:13:36.482007Z",
     "shell.execute_reply": "2022-11-13T10:13:36.482554Z"
    },
    "papermill": {
     "duration": 0.075365,
     "end_time": "2022-11-13T10:13:36.482691",
     "exception": false,
     "start_time": "2022-11-13T10:13:36.407326",
     "status": "completed"
    },
    "tags": []
   },
   "outputs": [],
   "source": [
    "#creating the x and y ranges according to the above generated plot.\n",
    "x_range = np.linspace(-4, 1, 100) \n",
    "y_range = np.linspace(-6, 6, 100) \n",
    "x_grid, y_grid = np.meshgrid(x_range, y_range) # x_grid and y_grig are of size 100 X 100\n",
    "\n",
    "# converting x_grid and y_grid to continuous arrays\n",
    "x_gridflat = np.ravel(x_grid)\n",
    "y_gridflat = np.ravel(y_grid)\n",
    "\n",
    "# The last layer of the current model takes two columns as input. Hence transpose of np.vstack() is required.\n",
    "X = np.vstack((x_gridflat, y_gridflat)).T\n",
    "\n",
    "prob_contour = model_prob(X).reshape(100,100) "
   ]
  },
  {
   "cell_type": "code",
   "execution_count": 29,
   "id": "da72499a",
   "metadata": {
    "execution": {
     "iopub.execute_input": "2022-11-13T10:13:36.602913Z",
     "iopub.status.busy": "2022-11-13T10:13:36.602161Z",
     "iopub.status.idle": "2022-11-13T10:13:36.911723Z",
     "shell.execute_reply": "2022-11-13T10:13:36.912251Z"
    },
    "papermill": {
     "duration": 0.371774,
     "end_time": "2022-11-13T10:13:36.912500",
     "exception": false,
     "start_time": "2022-11-13T10:13:36.540726",
     "status": "completed"
    },
    "tags": []
   },
   "outputs": [
    {
     "data": {
      "image/png": "[encoded data removed]",
      "text/plain": [
       "<Figure size 720x648 with 1 Axes>"
      ]
     },
     "metadata": {
      "needs_background": "light"
     },
     "output_type": "display_data"
    }
   ],
   "source": [
    "plt.figure(figsize=(10,9))\n",
    "plt.scatter(testing_plot[:,0], testing_plot[:,1], alpha = 0.1, c = y_test.ravel())\n",
    "contours = plt.contour(x_grid,y_grid,prob_contour)\n",
    "plt.title('Probability Contours')\n",
    "plt.clabel(contours, inline = True );"
   ]
  },
  {
   "cell_type": "code",
   "execution_count": null,
   "id": "e81b4ac7",
   "metadata": {
    "papermill": {
     "duration": 0.059614,
     "end_time": "2022-11-13T10:13:37.032995",
     "exception": false,
     "start_time": "2022-11-13T10:13:36.973381",
     "status": "completed"
    },
    "tags": []
   },
   "outputs": [],
   "source": []
  }
 ],
 "metadata": {
  "kernelspec": {
   "display_name": "Python 3",
   "language": "python",
   "name": "python3"
  },
  "language_info": {
   "codemirror_mode": {
    "name": "ipython",
    "version": 3
   },
   "file_extension": ".py",
   "mimetype": "text/x-python",
   "name": "python",
   "nbconvert_exporter": "python",
   "pygments_lexer": "ipython3",
   "version": "3.6.15"
  },
  "papermill": {
   "default_parameters": {},
   "duration": 174.925363,
   "end_time": "2022-11-13T10:13:37.515361",
   "environment_variables": {},
   "exception": null,
   "input_path": "2020-08-11-part2.ipynb",
   "output_path": "2020-08-11-part2.ipynb",
   "parameters": {},
   "start_time": "2022-11-13T10:10:42.589998",
   "version": "2.3.3"
  }
 },
 "nbformat": 4,
 "nbformat_minor": 5
}