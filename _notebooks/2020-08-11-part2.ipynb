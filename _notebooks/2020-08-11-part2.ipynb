{
 "cells": [
  {
   "cell_type": "markdown",
   "id": "98380cd3",
   "metadata": {
    "papermill": {
     "duration": 0.033206,
     "end_time": "2022-11-05T10:11:32.375481",
     "exception": false,
     "start_time": "2022-11-05T10:11:32.342275",
     "status": "completed"
    },
    "tags": []
   },
   "source": [
    "# Distinguish Your Own Digits (DYOD)"
   ]
  },
  {
   "cell_type": "markdown",
   "id": "ef31240d",
   "metadata": {
    "papermill": {
     "duration": 0.025897,
     "end_time": "2022-11-05T10:11:32.427795",
     "exception": false,
     "start_time": "2022-11-05T10:11:32.401898",
     "status": "completed"
    },
    "tags": []
   },
   "source": [
    "You are going to write a classifier that distinguishes between the number 3 and number 8."
   ]
  },
  {
   "cell_type": "code",
   "execution_count": 1,
   "id": "b15c8646",
   "metadata": {
    "execution": {
     "iopub.execute_input": "2022-11-05T10:11:32.493217Z",
     "iopub.status.busy": "2022-11-05T10:11:32.492531Z",
     "iopub.status.idle": "2022-11-05T10:11:32.510142Z",
     "shell.execute_reply": "2022-11-05T10:11:32.509516Z"
    },
    "papermill": {
     "duration": 0.05764,
     "end_time": "2022-11-05T10:11:32.510290",
     "exception": false,
     "start_time": "2022-11-05T10:11:32.452650",
     "status": "completed"
    },
    "tags": []
   },
   "outputs": [],
   "source": [
    "%load_ext autoreload\n",
    "%autoreload 2"
   ]
  },
  {
   "cell_type": "code",
   "execution_count": 2,
   "id": "22ef38dc",
   "metadata": {
    "execution": {
     "iopub.execute_input": "2022-11-05T10:11:32.570058Z",
     "iopub.status.busy": "2022-11-05T10:11:32.569473Z",
     "iopub.status.idle": "2022-11-05T10:11:33.231404Z",
     "shell.execute_reply": "2022-11-05T10:11:33.230738Z"
    },
    "papermill": {
     "duration": 0.694472,
     "end_time": "2022-11-05T10:11:33.231541",
     "exception": false,
     "start_time": "2022-11-05T10:11:32.537069",
     "status": "completed"
    },
    "tags": []
   },
   "outputs": [],
   "source": [
    "%matplotlib inline\n",
    "import numpy as np\n",
    "import matplotlib.pyplot as plt\n",
    "import pandas as pd"
   ]
  },
  {
   "cell_type": "markdown",
   "id": "ba036198",
   "metadata": {
    "papermill": {
     "duration": 0.026992,
     "end_time": "2022-11-05T10:11:33.285776",
     "exception": false,
     "start_time": "2022-11-05T10:11:33.258784",
     "status": "completed"
    },
    "tags": []
   },
   "source": [
    "From the command line run `pip install mnist`. This is a library that will help you bring down the mnist dataset. If you run this from a notebook, you need to put  `!pip install mnist` in a cell by itself."
   ]
  },
  {
   "cell_type": "code",
   "execution_count": 3,
   "id": "bb6ad8a1",
   "metadata": {
    "execution": {
     "iopub.execute_input": "2022-11-05T10:11:33.344716Z",
     "iopub.status.busy": "2022-11-05T10:11:33.343998Z",
     "iopub.status.idle": "2022-11-05T10:11:35.292478Z",
     "shell.execute_reply": "2022-11-05T10:11:35.291531Z"
    },
    "papermill": {
     "duration": 1.981553,
     "end_time": "2022-11-05T10:11:35.292614",
     "exception": false,
     "start_time": "2022-11-05T10:11:33.311061",
     "status": "completed"
    },
    "tags": []
   },
   "outputs": [
    {
     "name": "stdout",
     "output_type": "stream",
     "text": [
      "Collecting mnist\r\n"
     ]
    },
    {
     "name": "stdout",
     "output_type": "stream",
     "text": [
      "  Downloading mnist-0.2.2-py2.py3-none-any.whl (3.5 kB)\r\n",
      "Requirement already satisfied: numpy in /opt/hostedtoolcache/Python/3.6.15/x64/lib/python3.6/site-packages (from mnist) (1.19.5)\r\n"
     ]
    },
    {
     "name": "stdout",
     "output_type": "stream",
     "text": [
      "Installing collected packages: mnist\r\n"
     ]
    },
    {
     "name": "stdout",
     "output_type": "stream",
     "text": [
      "Successfully installed mnist-0.2.2\r\n"
     ]
    }
   ],
   "source": [
    "!pip install mnist"
   ]
  },
  {
   "cell_type": "markdown",
   "id": "69df9c9a",
   "metadata": {
    "papermill": {
     "duration": 0.030291,
     "end_time": "2022-11-05T10:11:35.354423",
     "exception": false,
     "start_time": "2022-11-05T10:11:35.324132",
     "status": "completed"
    },
    "tags": []
   },
   "source": [
    "## Preparing the Data"
   ]
  },
  {
   "cell_type": "code",
   "execution_count": 4,
   "id": "7f69d806",
   "metadata": {
    "execution": {
     "iopub.execute_input": "2022-11-05T10:11:35.434309Z",
     "iopub.status.busy": "2022-11-05T10:11:35.426929Z",
     "iopub.status.idle": "2022-11-05T10:11:35.443357Z",
     "shell.execute_reply": "2022-11-05T10:11:35.442784Z"
    },
    "papermill": {
     "duration": 0.059756,
     "end_time": "2022-11-05T10:11:35.443490",
     "exception": false,
     "start_time": "2022-11-05T10:11:35.383734",
     "status": "completed"
    },
    "tags": []
   },
   "outputs": [],
   "source": [
    "import mnist"
   ]
  },
  {
   "cell_type": "code",
   "execution_count": 5,
   "id": "a411e44f",
   "metadata": {
    "execution": {
     "iopub.execute_input": "2022-11-05T10:11:35.507637Z",
     "iopub.status.busy": "2022-11-05T10:11:35.506887Z",
     "iopub.status.idle": "2022-11-05T10:11:36.102348Z",
     "shell.execute_reply": "2022-11-05T10:11:36.101589Z"
    },
    "papermill": {
     "duration": 0.629103,
     "end_time": "2022-11-05T10:11:36.102486",
     "exception": false,
     "start_time": "2022-11-05T10:11:35.473383",
     "status": "completed"
    },
    "tags": []
   },
   "outputs": [],
   "source": [
    "train_images = mnist.train_images()\n",
    "train_labels = mnist.train_labels()"
   ]
  },
  {
   "cell_type": "code",
   "execution_count": 6,
   "id": "dceab3a5",
   "metadata": {
    "execution": {
     "iopub.execute_input": "2022-11-05T10:11:36.164299Z",
     "iopub.status.busy": "2022-11-05T10:11:36.163627Z",
     "iopub.status.idle": "2022-11-05T10:11:36.179910Z",
     "shell.execute_reply": "2022-11-05T10:11:36.180463Z"
    },
    "papermill": {
     "duration": 0.051157,
     "end_time": "2022-11-05T10:11:36.180615",
     "exception": false,
     "start_time": "2022-11-05T10:11:36.129458",
     "status": "completed"
    },
    "tags": []
   },
   "outputs": [
    {
     "data": {
      "text/plain": [
       "((60000, 28, 28), (60000,))"
      ]
     },
     "execution_count": 6,
     "metadata": {},
     "output_type": "execute_result"
    }
   ],
   "source": [
    "train_images.shape, train_labels.shape"
   ]
  },
  {
   "cell_type": "code",
   "execution_count": 7,
   "id": "f50dc2bb",
   "metadata": {
    "execution": {
     "iopub.execute_input": "2022-11-05T10:11:36.240684Z",
     "iopub.status.busy": "2022-11-05T10:11:36.240031Z",
     "iopub.status.idle": "2022-11-05T10:11:36.378921Z",
     "shell.execute_reply": "2022-11-05T10:11:36.378318Z"
    },
    "papermill": {
     "duration": 0.170679,
     "end_time": "2022-11-05T10:11:36.379068",
     "exception": false,
     "start_time": "2022-11-05T10:11:36.208389",
     "status": "completed"
    },
    "tags": []
   },
   "outputs": [],
   "source": [
    "test_images = mnist.test_images()\n",
    "test_labels = mnist.test_labels()"
   ]
  },
  {
   "cell_type": "code",
   "execution_count": 8,
   "id": "fc38cf1b",
   "metadata": {
    "execution": {
     "iopub.execute_input": "2022-11-05T10:11:36.441842Z",
     "iopub.status.busy": "2022-11-05T10:11:36.441115Z",
     "iopub.status.idle": "2022-11-05T10:11:36.458673Z",
     "shell.execute_reply": "2022-11-05T10:11:36.458154Z"
    },
    "papermill": {
     "duration": 0.050199,
     "end_time": "2022-11-05T10:11:36.458794",
     "exception": false,
     "start_time": "2022-11-05T10:11:36.408595",
     "status": "completed"
    },
    "tags": []
   },
   "outputs": [
    {
     "data": {
      "text/plain": [
       "((10000, 28, 28), (10000,))"
      ]
     },
     "execution_count": 8,
     "metadata": {},
     "output_type": "execute_result"
    }
   ],
   "source": [
    "test_images.shape, test_labels.shape"
   ]
  },
  {
   "cell_type": "code",
   "execution_count": 9,
   "id": "f9ed8fe0",
   "metadata": {
    "execution": {
     "iopub.execute_input": "2022-11-05T10:11:36.534685Z",
     "iopub.status.busy": "2022-11-05T10:11:36.533914Z",
     "iopub.status.idle": "2022-11-05T10:11:36.683502Z",
     "shell.execute_reply": "2022-11-05T10:11:36.682932Z"
    },
    "papermill": {
     "duration": 0.196029,
     "end_time": "2022-11-05T10:11:36.683641",
     "exception": false,
     "start_time": "2022-11-05T10:11:36.487612",
     "status": "completed"
    },
    "tags": []
   },
   "outputs": [
    {
     "name": "stdout",
     "output_type": "stream",
     "text": [
      "2\n"
     ]
    },
    {
     "data": {
      "text/plain": [
       "<matplotlib.image.AxesImage at 0x7ff8af364da0>"
      ]
     },
     "execution_count": 9,
     "metadata": {},
     "output_type": "execute_result"
    },
    {
     "data": {
      "image/png": "[encoded data removed]",
      "text/plain": [
       "<Figure size 432x288 with 1 Axes>"
      ]
     },
     "metadata": {
      "needs_background": "light"
     },
     "output_type": "display_data"
    }
   ],
   "source": [
    "image_index = 7776 # You may select anything up to 60,000\n",
    "print(train_labels[image_index]) \n",
    "plt.imshow(train_images[image_index], cmap='Greys')"
   ]
  },
  {
   "cell_type": "markdown",
   "id": "a8d2388d",
   "metadata": {
    "papermill": {
     "duration": 0.032719,
     "end_time": "2022-11-05T10:11:36.747885",
     "exception": false,
     "start_time": "2022-11-05T10:11:36.715166",
     "status": "completed"
    },
    "tags": []
   },
   "source": [
    "## Filter data to get 3 and 8 out"
   ]
  },
  {
   "cell_type": "code",
   "execution_count": 10,
   "id": "776f7fc7",
   "metadata": {
    "execution": {
     "iopub.execute_input": "2022-11-05T10:11:36.826356Z",
     "iopub.status.busy": "2022-11-05T10:11:36.822139Z",
     "iopub.status.idle": "2022-11-05T10:11:36.839903Z",
     "shell.execute_reply": "2022-11-05T10:11:36.840394Z"
    },
    "papermill": {
     "duration": 0.062844,
     "end_time": "2022-11-05T10:11:36.840547",
     "exception": false,
     "start_time": "2022-11-05T10:11:36.777703",
     "status": "completed"
    },
    "tags": []
   },
   "outputs": [],
   "source": [
    "train_filter = np.where((train_labels == 3 ) | (train_labels == 8))\n",
    "test_filter = np.where((test_labels == 3) | (test_labels == 8))\n",
    "X_train, y_train = train_images[train_filter], train_labels[train_filter]\n",
    "X_test, y_test = test_images[test_filter], test_labels[test_filter]"
   ]
  },
  {
   "cell_type": "markdown",
   "id": "948f0b7e",
   "metadata": {
    "papermill": {
     "duration": 0.031166,
     "end_time": "2022-11-05T10:11:36.903517",
     "exception": false,
     "start_time": "2022-11-05T10:11:36.872351",
     "status": "completed"
    },
    "tags": []
   },
   "source": [
    "We normalize the pizel values in the 0 to 1 range"
   ]
  },
  {
   "cell_type": "code",
   "execution_count": 11,
   "id": "ee4c2166",
   "metadata": {
    "execution": {
     "iopub.execute_input": "2022-11-05T10:11:36.974356Z",
     "iopub.status.busy": "2022-11-05T10:11:36.969711Z",
     "iopub.status.idle": "2022-11-05T10:11:37.026198Z",
     "shell.execute_reply": "2022-11-05T10:11:37.025566Z"
    },
    "papermill": {
     "duration": 0.091621,
     "end_time": "2022-11-05T10:11:37.026330",
     "exception": false,
     "start_time": "2022-11-05T10:11:36.934709",
     "status": "completed"
    },
    "tags": []
   },
   "outputs": [],
   "source": [
    "X_train = X_train/255.\n",
    "X_test = X_test/255."
   ]
  },
  {
   "cell_type": "markdown",
   "id": "ddcf4fab",
   "metadata": {
    "papermill": {
     "duration": 0.028812,
     "end_time": "2022-11-05T10:11:37.083399",
     "exception": false,
     "start_time": "2022-11-05T10:11:37.054587",
     "status": "completed"
    },
    "tags": []
   },
   "source": [
    "And setup the labels as 1 (when the digit is 3) and 0 (when the digit is 8)"
   ]
  },
  {
   "cell_type": "code",
   "execution_count": 12,
   "id": "7dc908f2",
   "metadata": {
    "execution": {
     "iopub.execute_input": "2022-11-05T10:11:37.147047Z",
     "iopub.status.busy": "2022-11-05T10:11:37.146292Z",
     "iopub.status.idle": "2022-11-05T10:11:37.160231Z",
     "shell.execute_reply": "2022-11-05T10:11:37.159516Z"
    },
    "papermill": {
     "duration": 0.047349,
     "end_time": "2022-11-05T10:11:37.160362",
     "exception": false,
     "start_time": "2022-11-05T10:11:37.113013",
     "status": "completed"
    },
    "tags": []
   },
   "outputs": [],
   "source": [
    "y_train = 1*(y_train==3)\n",
    "y_test = 1*(y_test==3)"
   ]
  },
  {
   "cell_type": "code",
   "execution_count": 13,
   "id": "01e4e969",
   "metadata": {
    "execution": {
     "iopub.execute_input": "2022-11-05T10:11:37.227630Z",
     "iopub.status.busy": "2022-11-05T10:11:37.226802Z",
     "iopub.status.idle": "2022-11-05T10:11:37.240047Z",
     "shell.execute_reply": "2022-11-05T10:11:37.239481Z"
    },
    "papermill": {
     "duration": 0.049245,
     "end_time": "2022-11-05T10:11:37.240177",
     "exception": false,
     "start_time": "2022-11-05T10:11:37.190932",
     "status": "completed"
    },
    "tags": []
   },
   "outputs": [
    {
     "data": {
      "text/plain": [
       "((11982, 28, 28), (1984, 28, 28))"
      ]
     },
     "execution_count": 13,
     "metadata": {},
     "output_type": "execute_result"
    }
   ],
   "source": [
    "X_train.shape, X_test.shape"
   ]
  },
  {
   "cell_type": "markdown",
   "id": "5ccf3f85",
   "metadata": {
    "papermill": {
     "duration": 0.028583,
     "end_time": "2022-11-05T10:11:37.297583",
     "exception": false,
     "start_time": "2022-11-05T10:11:37.269000",
     "status": "completed"
    },
    "tags": []
   },
   "source": [
    "We reshape the data to flatten the image pixels into a set of features or co-variates:"
   ]
  },
  {
   "cell_type": "code",
   "execution_count": 14,
   "id": "5286a4a3",
   "metadata": {
    "execution": {
     "iopub.execute_input": "2022-11-05T10:11:37.361544Z",
     "iopub.status.busy": "2022-11-05T10:11:37.360820Z",
     "iopub.status.idle": "2022-11-05T10:11:37.376894Z",
     "shell.execute_reply": "2022-11-05T10:11:37.376214Z"
    },
    "papermill": {
     "duration": 0.05029,
     "end_time": "2022-11-05T10:11:37.377024",
     "exception": false,
     "start_time": "2022-11-05T10:11:37.326734",
     "status": "completed"
    },
    "tags": []
   },
   "outputs": [
    {
     "data": {
      "text/plain": [
       "((11982, 784), (1984, 784))"
      ]
     },
     "execution_count": 14,
     "metadata": {},
     "output_type": "execute_result"
    }
   ],
   "source": [
    "X_train = X_train.reshape(X_train.shape[0], -1)\n",
    "X_test = X_test.reshape(X_test.shape[0], -1)\n",
    "X_train.shape, X_test.shape"
   ]
  },
  {
   "cell_type": "code",
   "execution_count": 15,
   "id": "73c5f88a",
   "metadata": {
    "execution": {
     "iopub.execute_input": "2022-11-05T10:11:37.443390Z",
     "iopub.status.busy": "2022-11-05T10:11:37.442748Z",
     "iopub.status.idle": "2022-11-05T10:11:37.464355Z",
     "shell.execute_reply": "2022-11-05T10:11:37.463723Z"
    },
    "papermill": {
     "duration": 0.057158,
     "end_time": "2022-11-05T10:11:37.464491",
     "exception": false,
     "start_time": "2022-11-05T10:11:37.407333",
     "status": "completed"
    },
    "tags": []
   },
   "outputs": [],
   "source": [
    "#Impoting functions from 'Kudzu'\n",
    "from kudzu.model import Model\n",
    "from kudzu.train import Learner\n",
    "from kudzu.optim import GD\n",
    "from kudzu.data import Data, Sampler,Dataloader\n",
    "\n",
    "from kudzu.callbacks import AccCallback\n",
    "from kudzu.callbacks import ClfCallback\n",
    "\n",
    "from kudzu.loss import MSE\n",
    "\n",
    "from kudzu.layer import Sigmoid,Relu\n",
    "from kudzu.layer import Affine"
   ]
  },
  {
   "cell_type": "markdown",
   "id": "bc01172a",
   "metadata": {
    "papermill": {
     "duration": 0.030896,
     "end_time": "2022-11-05T10:11:37.529540",
     "exception": false,
     "start_time": "2022-11-05T10:11:37.498644",
     "status": "completed"
    },
    "tags": []
   },
   "source": [
    "### Let us create a `Config` class, to store important parameters. \n",
    "This class essentially plays the role of a dictionary."
   ]
  },
  {
   "cell_type": "code",
   "execution_count": 16,
   "id": "978281aa",
   "metadata": {
    "execution": {
     "iopub.execute_input": "2022-11-05T10:11:37.598507Z",
     "iopub.status.busy": "2022-11-05T10:11:37.597722Z",
     "iopub.status.idle": "2022-11-05T10:11:37.613892Z",
     "shell.execute_reply": "2022-11-05T10:11:37.613214Z"
    },
    "papermill": {
     "duration": 0.055776,
     "end_time": "2022-11-05T10:11:37.614022",
     "exception": false,
     "start_time": "2022-11-05T10:11:37.558246",
     "status": "completed"
    },
    "tags": []
   },
   "outputs": [],
   "source": [
    "class Config:\n",
    "    pass\n",
    "config = Config()\n",
    "config.lr = 0.001\n",
    "config.num_epochs = 250\n",
    "config.bs = 50"
   ]
  },
  {
   "cell_type": "markdown",
   "id": "1385fa59",
   "metadata": {
    "papermill": {
     "duration": 0.030777,
     "end_time": "2022-11-05T10:11:37.675475",
     "exception": false,
     "start_time": "2022-11-05T10:11:37.644698",
     "status": "completed"
    },
    "tags": []
   },
   "source": [
    "### Running Models with the Training data\n",
    "Details about the network layers:\n",
    "- A first affine layer has 784 inputs and does 100 affine transforms. These are followed by a Relu\n",
    "- A second affine layer has 100 inputs from the 100 activations of the past layer, and does 100 affine transforms. These are followed by a Relu\n",
    "- A third affine layer has 100 activations and does 2 affine transformations to create an embedding for visualization. There is no non-linearity here.\n",
    "- A final \"logistic regression\" which has an affine transform from 2 inputs to 1 output, which is squeezed through a sigmoid.\n"
   ]
  },
  {
   "cell_type": "code",
   "execution_count": 17,
   "id": "2b9c66db",
   "metadata": {
    "execution": {
     "iopub.execute_input": "2022-11-05T10:11:37.745524Z",
     "iopub.status.busy": "2022-11-05T10:11:37.744821Z",
     "iopub.status.idle": "2022-11-05T10:11:37.759618Z",
     "shell.execute_reply": "2022-11-05T10:11:37.758991Z"
    },
    "papermill": {
     "duration": 0.051594,
     "end_time": "2022-11-05T10:11:37.759738",
     "exception": false,
     "start_time": "2022-11-05T10:11:37.708144",
     "status": "completed"
    },
    "tags": []
   },
   "outputs": [],
   "source": [
    "data = Data(X_train, y_train.reshape(-1,1))\n",
    "sampler = Sampler(data, config.bs, shuffle=True)\n",
    "\n",
    "dl = Dataloader(data, sampler)\n",
    "\n",
    "opt = GD(config.lr)\n",
    "loss = MSE()"
   ]
  },
  {
   "cell_type": "code",
   "execution_count": 18,
   "id": "b275e4c2",
   "metadata": {
    "execution": {
     "iopub.execute_input": "2022-11-05T10:11:37.835179Z",
     "iopub.status.busy": "2022-11-05T10:11:37.834301Z",
     "iopub.status.idle": "2022-11-05T10:11:37.849931Z",
     "shell.execute_reply": "2022-11-05T10:11:37.849361Z"
    },
    "papermill": {
     "duration": 0.057822,
     "end_time": "2022-11-05T10:11:37.850068",
     "exception": false,
     "start_time": "2022-11-05T10:11:37.792246",
     "status": "completed"
    },
    "tags": []
   },
   "outputs": [],
   "source": [
    "training_data_x = X_train\n",
    "testing_data_x = X_test\n",
    "training_data_y = y_train.reshape(-1,1)\n",
    "testing_data_y = y_test.reshape(-1,1)"
   ]
  },
  {
   "cell_type": "code",
   "execution_count": 19,
   "id": "76951160",
   "metadata": {
    "execution": {
     "iopub.execute_input": "2022-11-05T10:11:37.920239Z",
     "iopub.status.busy": "2022-11-05T10:11:37.919594Z",
     "iopub.status.idle": "2022-11-05T10:11:37.937538Z",
     "shell.execute_reply": "2022-11-05T10:11:37.938192Z"
    },
    "papermill": {
     "duration": 0.057192,
     "end_time": "2022-11-05T10:11:37.938359",
     "exception": false,
     "start_time": "2022-11-05T10:11:37.881167",
     "status": "completed"
    },
    "tags": []
   },
   "outputs": [
    {
     "name": "stdout",
     "output_type": "stream",
     "text": [
      "xavier\n",
      "xavier\n",
      "xavier\n",
      "xavier\n",
      "xavier\n"
     ]
    }
   ],
   "source": [
    "layers = [Affine(\"first\", 784, 100), Relu(\"first\"), Affine(\"second\", 100, 100), Relu(\"second\"), Affine(\"third\", 100, 2), Affine(\"last\", 2, 1), Sigmoid(\"last\")]\n",
    "model_nn = Model(layers)\n",
    "model_lr = Model([Affine(\"logits\", 784, 1), Sigmoid(\"sigmoid\")])"
   ]
  },
  {
   "cell_type": "code",
   "execution_count": 20,
   "id": "6eede77a",
   "metadata": {
    "execution": {
     "iopub.execute_input": "2022-11-05T10:11:38.005766Z",
     "iopub.status.busy": "2022-11-05T10:11:38.004855Z",
     "iopub.status.idle": "2022-11-05T10:11:38.022130Z",
     "shell.execute_reply": "2022-11-05T10:11:38.022721Z"
    },
    "papermill": {
     "duration": 0.053799,
     "end_time": "2022-11-05T10:11:38.022901",
     "exception": false,
     "start_time": "2022-11-05T10:11:37.969102",
     "status": "completed"
    },
    "tags": []
   },
   "outputs": [],
   "source": [
    "nn_learner = Learner(loss, model_nn, opt, config.num_epochs)\n",
    "acc_nn = ClfCallback(nn_learner, config.bs, training_data_x , testing_data_x, training_data_y, testing_data_y)\n",
    "nn_learner.set_callbacks([acc_nn])"
   ]
  },
  {
   "cell_type": "code",
   "execution_count": 21,
   "id": "877b6cc7",
   "metadata": {
    "execution": {
     "iopub.execute_input": "2022-11-05T10:11:38.109668Z",
     "iopub.status.busy": "2022-11-05T10:11:38.108968Z",
     "iopub.status.idle": "2022-11-05T10:11:38.123681Z",
     "shell.execute_reply": "2022-11-05T10:11:38.124200Z"
    },
    "papermill": {
     "duration": 0.062116,
     "end_time": "2022-11-05T10:11:38.124342",
     "exception": false,
     "start_time": "2022-11-05T10:11:38.062226",
     "status": "completed"
    },
    "tags": []
   },
   "outputs": [],
   "source": [
    "lr_learner = Learner(loss, model_lr, opt, config.num_epochs)\n",
    "acc_lr = ClfCallback(lr_learner, config.bs, training_data_x , testing_data_x, training_data_y, testing_data_y)\n",
    "lr_learner.set_callbacks([acc_lr])"
   ]
  },
  {
   "cell_type": "code",
   "execution_count": 22,
   "id": "d9b133c3",
   "metadata": {
    "execution": {
     "iopub.execute_input": "2022-11-05T10:11:38.194189Z",
     "iopub.status.busy": "2022-11-05T10:11:38.191658Z",
     "iopub.status.idle": "2022-11-05T10:13:06.176674Z",
     "shell.execute_reply": "2022-11-05T10:13:06.177691Z"
    },
    "papermill": {
     "duration": 88.022654,
     "end_time": "2022-11-05T10:13:06.177857",
     "exception": false,
     "start_time": "2022-11-05T10:11:38.155203",
     "status": "completed"
    },
    "tags": []
   },
   "outputs": [
    {
     "name": "stdout",
     "output_type": "stream",
     "text": [
      "Epoch 0, Loss 0.2209\n",
      "Training Accuracy: 0.7628, Testing Accuracy: 0.7686\n",
      "\n"
     ]
    },
    {
     "name": "stdout",
     "output_type": "stream",
     "text": [
      "Epoch 10, Loss 0.0879\n",
      "Training Accuracy: 0.9199, Testing Accuracy: 0.9284\n",
      "\n"
     ]
    },
    {
     "name": "stdout",
     "output_type": "stream",
     "text": [
      "Epoch 20, Loss 0.0547\n",
      "Training Accuracy: 0.9441, Testing Accuracy: 0.9516\n",
      "\n"
     ]
    },
    {
     "name": "stdout",
     "output_type": "stream",
     "text": [
      "Epoch 30, Loss 0.0429\n",
      "Training Accuracy: 0.9542, Testing Accuracy: 0.9592\n",
      "\n"
     ]
    },
    {
     "name": "stdout",
     "output_type": "stream",
     "text": [
      "Epoch 40, Loss 0.0372\n",
      "Training Accuracy: 0.9609, Testing Accuracy: 0.9667\n",
      "\n"
     ]
    },
    {
     "name": "stdout",
     "output_type": "stream",
     "text": [
      "Epoch 50, Loss 0.0336\n",
      "Training Accuracy: 0.9626, Testing Accuracy: 0.9677\n",
      "\n"
     ]
    },
    {
     "name": "stdout",
     "output_type": "stream",
     "text": [
      "Epoch 60, Loss 0.0312\n",
      "Training Accuracy: 0.9644, Testing Accuracy: 0.9698\n",
      "\n"
     ]
    },
    {
     "name": "stdout",
     "output_type": "stream",
     "text": [
      "Epoch 70, Loss 0.0294\n",
      "Training Accuracy: 0.9662, Testing Accuracy: 0.9698\n",
      "\n"
     ]
    },
    {
     "name": "stdout",
     "output_type": "stream",
     "text": [
      "Epoch 80, Loss 0.028\n",
      "Training Accuracy: 0.9680, Testing Accuracy: 0.9708\n",
      "\n"
     ]
    },
    {
     "name": "stdout",
     "output_type": "stream",
     "text": [
      "Epoch 90, Loss 0.0268\n",
      "Training Accuracy: 0.9691, Testing Accuracy: 0.9723\n",
      "\n"
     ]
    },
    {
     "name": "stdout",
     "output_type": "stream",
     "text": [
      "Epoch 100, Loss 0.0258\n",
      "Training Accuracy: 0.9705, Testing Accuracy: 0.9718\n",
      "\n"
     ]
    },
    {
     "name": "stdout",
     "output_type": "stream",
     "text": [
      "Epoch 110, Loss 0.025\n",
      "Training Accuracy: 0.9713, Testing Accuracy: 0.9728\n",
      "\n"
     ]
    },
    {
     "name": "stdout",
     "output_type": "stream",
     "text": [
      "Epoch 120, Loss 0.0242\n",
      "Training Accuracy: 0.9723, Testing Accuracy: 0.9738\n",
      "\n"
     ]
    },
    {
     "name": "stdout",
     "output_type": "stream",
     "text": [
      "Epoch 130, Loss 0.0235\n",
      "Training Accuracy: 0.9730, Testing Accuracy: 0.9743\n",
      "\n"
     ]
    },
    {
     "name": "stdout",
     "output_type": "stream",
     "text": [
      "Epoch 140, Loss 0.0229\n",
      "Training Accuracy: 0.9740, Testing Accuracy: 0.9738\n",
      "\n"
     ]
    },
    {
     "name": "stdout",
     "output_type": "stream",
     "text": [
      "Epoch 150, Loss 0.0223\n",
      "Training Accuracy: 0.9744, Testing Accuracy: 0.9738\n",
      "\n"
     ]
    },
    {
     "name": "stdout",
     "output_type": "stream",
     "text": [
      "Epoch 160, Loss 0.0217\n",
      "Training Accuracy: 0.9750, Testing Accuracy: 0.9743\n",
      "\n"
     ]
    },
    {
     "name": "stdout",
     "output_type": "stream",
     "text": [
      "Epoch 170, Loss 0.0212\n",
      "Training Accuracy: 0.9757, Testing Accuracy: 0.9743\n",
      "\n"
     ]
    },
    {
     "name": "stdout",
     "output_type": "stream",
     "text": [
      "Epoch 180, Loss 0.0206\n",
      "Training Accuracy: 0.9762, Testing Accuracy: 0.9743\n",
      "\n"
     ]
    },
    {
     "name": "stdout",
     "output_type": "stream",
     "text": [
      "Epoch 190, Loss 0.0202\n",
      "Training Accuracy: 0.9771, Testing Accuracy: 0.9748\n",
      "\n"
     ]
    },
    {
     "name": "stdout",
     "output_type": "stream",
     "text": [
      "Epoch 200, Loss 0.0197\n",
      "Training Accuracy: 0.9776, Testing Accuracy: 0.9758\n",
      "\n"
     ]
    },
    {
     "name": "stdout",
     "output_type": "stream",
     "text": [
      "Epoch 210, Loss 0.0192\n",
      "Training Accuracy: 0.9786, Testing Accuracy: 0.9758\n",
      "\n"
     ]
    },
    {
     "name": "stdout",
     "output_type": "stream",
     "text": [
      "Epoch 220, Loss 0.0188\n",
      "Training Accuracy: 0.9790, Testing Accuracy: 0.9758\n",
      "\n"
     ]
    },
    {
     "name": "stdout",
     "output_type": "stream",
     "text": [
      "Epoch 230, Loss 0.0184\n",
      "Training Accuracy: 0.9799, Testing Accuracy: 0.9763\n",
      "\n"
     ]
    },
    {
     "name": "stdout",
     "output_type": "stream",
     "text": [
      "Epoch 240, Loss 0.018\n",
      "Training Accuracy: 0.9804, Testing Accuracy: 0.9758\n",
      "\n"
     ]
    },
    {
     "data": {
      "text/plain": [
       "0.05349645546180843"
      ]
     },
     "execution_count": 22,
     "metadata": {},
     "output_type": "execute_result"
    }
   ],
   "source": [
    "nn_learner.train_loop(dl)"
   ]
  },
  {
   "cell_type": "code",
   "execution_count": 23,
   "id": "e0163366",
   "metadata": {
    "execution": {
     "iopub.execute_input": "2022-11-05T10:13:06.267222Z",
     "iopub.status.busy": "2022-11-05T10:13:06.266506Z",
     "iopub.status.idle": "2022-11-05T10:13:21.912440Z",
     "shell.execute_reply": "2022-11-05T10:13:21.913451Z"
    },
    "papermill": {
     "duration": 15.695981,
     "end_time": "2022-11-05T10:13:21.913620",
     "exception": false,
     "start_time": "2022-11-05T10:13:06.217639",
     "status": "completed"
    },
    "tags": []
   },
   "outputs": [
    {
     "name": "stdout",
     "output_type": "stream",
     "text": [
      "Epoch 0, Loss 0.1963\n",
      "Training Accuracy: 0.8124, Testing Accuracy: 0.8160\n",
      "\n"
     ]
    },
    {
     "name": "stdout",
     "output_type": "stream",
     "text": [
      "Epoch 10, Loss 0.1\n",
      "Training Accuracy: 0.9077, Testing Accuracy: 0.9143\n",
      "\n"
     ]
    },
    {
     "name": "stdout",
     "output_type": "stream",
     "text": [
      "Epoch 20, Loss 0.0783\n",
      "Training Accuracy: 0.9273, Testing Accuracy: 0.9360\n",
      "\n"
     ]
    },
    {
     "name": "stdout",
     "output_type": "stream",
     "text": [
      "Epoch 30, Loss 0.0677\n",
      "Training Accuracy: 0.9360, Testing Accuracy: 0.9451\n",
      "\n"
     ]
    },
    {
     "name": "stdout",
     "output_type": "stream",
     "text": [
      "Epoch 40, Loss 0.0613\n",
      "Training Accuracy: 0.9421, Testing Accuracy: 0.9476\n",
      "\n"
     ]
    },
    {
     "name": "stdout",
     "output_type": "stream",
     "text": [
      "Epoch 50, Loss 0.0569\n",
      "Training Accuracy: 0.9443, Testing Accuracy: 0.9521\n",
      "\n"
     ]
    },
    {
     "name": "stdout",
     "output_type": "stream",
     "text": [
      "Epoch 60, Loss 0.0536\n",
      "Training Accuracy: 0.9470, Testing Accuracy: 0.9561\n",
      "\n"
     ]
    },
    {
     "name": "stdout",
     "output_type": "stream",
     "text": [
      "Epoch 70, Loss 0.0511\n",
      "Training Accuracy: 0.9488, Testing Accuracy: 0.9572\n",
      "\n"
     ]
    },
    {
     "name": "stdout",
     "output_type": "stream",
     "text": [
      "Epoch 80, Loss 0.0491\n",
      "Training Accuracy: 0.9505, Testing Accuracy: 0.9582\n",
      "\n"
     ]
    },
    {
     "name": "stdout",
     "output_type": "stream",
     "text": [
      "Epoch 90, Loss 0.0475\n",
      "Training Accuracy: 0.9514, Testing Accuracy: 0.9587\n",
      "\n"
     ]
    },
    {
     "name": "stdout",
     "output_type": "stream",
     "text": [
      "Epoch 100, Loss 0.0461\n",
      "Training Accuracy: 0.9528, Testing Accuracy: 0.9592\n",
      "\n"
     ]
    },
    {
     "name": "stdout",
     "output_type": "stream",
     "text": [
      "Epoch 110, Loss 0.0449\n",
      "Training Accuracy: 0.9539, Testing Accuracy: 0.9617\n",
      "\n"
     ]
    },
    {
     "name": "stdout",
     "output_type": "stream",
     "text": [
      "Epoch 120, Loss 0.0438\n",
      "Training Accuracy: 0.9551, Testing Accuracy: 0.9632\n",
      "\n"
     ]
    },
    {
     "name": "stdout",
     "output_type": "stream",
     "text": [
      "Epoch 130, Loss 0.0429\n",
      "Training Accuracy: 0.9554, Testing Accuracy: 0.9637\n",
      "\n"
     ]
    },
    {
     "name": "stdout",
     "output_type": "stream",
     "text": [
      "Epoch 140, Loss 0.0421\n",
      "Training Accuracy: 0.9569, Testing Accuracy: 0.9647\n",
      "\n"
     ]
    },
    {
     "name": "stdout",
     "output_type": "stream",
     "text": [
      "Epoch 150, Loss 0.0414\n",
      "Training Accuracy: 0.9569, Testing Accuracy: 0.9647\n",
      "\n"
     ]
    },
    {
     "name": "stdout",
     "output_type": "stream",
     "text": [
      "Epoch 160, Loss 0.0407\n",
      "Training Accuracy: 0.9572, Testing Accuracy: 0.9652\n",
      "\n"
     ]
    },
    {
     "name": "stdout",
     "output_type": "stream",
     "text": [
      "Epoch 170, Loss 0.0401\n",
      "Training Accuracy: 0.9577, Testing Accuracy: 0.9652\n",
      "\n"
     ]
    },
    {
     "name": "stdout",
     "output_type": "stream",
     "text": [
      "Epoch 180, Loss 0.0396\n",
      "Training Accuracy: 0.9582, Testing Accuracy: 0.9667\n",
      "\n"
     ]
    },
    {
     "name": "stdout",
     "output_type": "stream",
     "text": [
      "Epoch 190, Loss 0.039\n",
      "Training Accuracy: 0.9585, Testing Accuracy: 0.9667\n",
      "\n"
     ]
    },
    {
     "name": "stdout",
     "output_type": "stream",
     "text": [
      "Epoch 200, Loss 0.0386\n",
      "Training Accuracy: 0.9591, Testing Accuracy: 0.9667\n",
      "\n"
     ]
    },
    {
     "name": "stdout",
     "output_type": "stream",
     "text": [
      "Epoch 210, Loss 0.0381\n",
      "Training Accuracy: 0.9595, Testing Accuracy: 0.9667\n",
      "\n"
     ]
    },
    {
     "name": "stdout",
     "output_type": "stream",
     "text": [
      "Epoch 220, Loss 0.0377\n",
      "Training Accuracy: 0.9600, Testing Accuracy: 0.9662\n",
      "\n"
     ]
    },
    {
     "name": "stdout",
     "output_type": "stream",
     "text": [
      "Epoch 230, Loss 0.0374\n",
      "Training Accuracy: 0.9602, Testing Accuracy: 0.9662\n",
      "\n"
     ]
    },
    {
     "name": "stdout",
     "output_type": "stream",
     "text": [
      "Epoch 240, Loss 0.037\n",
      "Training Accuracy: 0.9606, Testing Accuracy: 0.9662\n",
      "\n"
     ]
    },
    {
     "data": {
      "text/plain": [
       "0.026808919116748032"
      ]
     },
     "execution_count": 23,
     "metadata": {},
     "output_type": "execute_result"
    }
   ],
   "source": [
    "lr_learner.train_loop(dl)"
   ]
  },
  {
   "cell_type": "code",
   "execution_count": 24,
   "id": "ca410940",
   "metadata": {
    "execution": {
     "iopub.execute_input": "2022-11-05T10:13:22.015150Z",
     "iopub.status.busy": "2022-11-05T10:13:22.014430Z",
     "iopub.status.idle": "2022-11-05T10:13:22.277846Z",
     "shell.execute_reply": "2022-11-05T10:13:22.277255Z"
    },
    "papermill": {
     "duration": 0.318142,
     "end_time": "2022-11-05T10:13:22.277981",
     "exception": false,
     "start_time": "2022-11-05T10:13:21.959839",
     "status": "completed"
    },
    "tags": []
   },
   "outputs": [
    {
     "data": {
      "text/plain": [
       "<matplotlib.legend.Legend at 0x7ff8aeed1400>"
      ]
     },
     "execution_count": 24,
     "metadata": {},
     "output_type": "execute_result"
    },
    {
     "data": {
      "image/png": "[encoded data removed]",
      "text/plain": [
       "<Figure size 1080x720 with 1 Axes>"
      ]
     },
     "metadata": {
      "needs_background": "light"
     },
     "output_type": "display_data"
    }
   ],
   "source": [
    "#comparing the results of NN and LR\n",
    "plt.figure(figsize=(15,10))\n",
    "\n",
    "# Neural Network plots\n",
    "plt.plot(acc_nn.accuracies, 'r-', label = \"Training Accuracies - NN\")\n",
    "plt.plot(acc_nn.test_accuracies, 'g-', label = \"Testing Accuracies - NN\")\n",
    "\n",
    "# Logistic Regression plots\n",
    "plt.plot(acc_lr.accuracies, 'k-', label = \"Training Accuracies - LR\")\n",
    "plt.plot(acc_lr.test_accuracies, 'b-', label = \"Testing Accuracies - LR\")\n",
    "plt.legend()"
   ]
  },
  {
   "cell_type": "markdown",
   "id": "80dfb35c",
   "metadata": {
    "papermill": {
     "duration": 0.047405,
     "end_time": "2022-11-05T10:13:22.373020",
     "exception": false,
     "start_time": "2022-11-05T10:13:22.325615",
     "status": "completed"
    },
    "tags": []
   },
   "source": [
    "#### Plotting the outputs of this layer of the NN.\n"
   ]
  },
  {
   "cell_type": "code",
   "execution_count": 25,
   "id": "45eb2ff5",
   "metadata": {
    "execution": {
     "iopub.execute_input": "2022-11-05T10:13:22.475070Z",
     "iopub.status.busy": "2022-11-05T10:13:22.473927Z",
     "iopub.status.idle": "2022-11-05T10:13:22.495845Z",
     "shell.execute_reply": "2022-11-05T10:13:22.496786Z"
    },
    "papermill": {
     "duration": 0.077202,
     "end_time": "2022-11-05T10:13:22.496943",
     "exception": false,
     "start_time": "2022-11-05T10:13:22.419741",
     "status": "completed"
    },
    "tags": []
   },
   "outputs": [],
   "source": [
    "new_model = Model(layers[:-2])\n",
    "testing_plot = new_model(testing_data_x)"
   ]
  },
  {
   "cell_type": "code",
   "execution_count": 26,
   "id": "4c0a5485",
   "metadata": {
    "execution": {
     "iopub.execute_input": "2022-11-05T10:13:22.611212Z",
     "iopub.status.busy": "2022-11-05T10:13:22.610565Z",
     "iopub.status.idle": "2022-11-05T10:13:22.816497Z",
     "shell.execute_reply": "2022-11-05T10:13:22.815914Z"
    },
    "papermill": {
     "duration": 0.265626,
     "end_time": "2022-11-05T10:13:22.816630",
     "exception": false,
     "start_time": "2022-11-05T10:13:22.551004",
     "status": "completed"
    },
    "tags": []
   },
   "outputs": [
    {
     "data": {
      "text/plain": [
       "Text(0.5, 1.0, 'Outputs')"
      ]
     },
     "execution_count": 26,
     "metadata": {},
     "output_type": "execute_result"
    },
    {
     "data": {
      "image/png": "[encoded data removed]",
      "text/plain": [
       "<Figure size 576x504 with 1 Axes>"
      ]
     },
     "metadata": {
      "needs_background": "light"
     },
     "output_type": "display_data"
    }
   ],
   "source": [
    "# Plotting the scatter plot of points and color coding by class\n",
    "plt.figure(figsize=(8,7))\n",
    "plt.scatter(testing_plot[:,0], testing_plot[:,1], alpha = 0.1, c = y_test.ravel());\n",
    "plt.title('Outputs')"
   ]
  },
  {
   "cell_type": "markdown",
   "id": "a74fcf8f",
   "metadata": {
    "papermill": {
     "duration": 0.051713,
     "end_time": "2022-11-05T10:13:22.920157",
     "exception": false,
     "start_time": "2022-11-05T10:13:22.868444",
     "status": "completed"
    },
    "tags": []
   },
   "source": [
    "Probability contours"
   ]
  },
  {
   "cell_type": "code",
   "execution_count": 27,
   "id": "d0afc8e3",
   "metadata": {
    "execution": {
     "iopub.execute_input": "2022-11-05T10:13:23.059542Z",
     "iopub.status.busy": "2022-11-05T10:13:23.058721Z",
     "iopub.status.idle": "2022-11-05T10:13:23.077292Z",
     "shell.execute_reply": "2022-11-05T10:13:23.076572Z"
    },
    "papermill": {
     "duration": 0.077898,
     "end_time": "2022-11-05T10:13:23.077451",
     "exception": false,
     "start_time": "2022-11-05T10:13:22.999553",
     "status": "completed"
    },
    "tags": []
   },
   "outputs": [],
   "source": [
    "model_prob = Model(layers[-2:]) "
   ]
  },
  {
   "cell_type": "code",
   "execution_count": 28,
   "id": "9b96e238",
   "metadata": {
    "execution": {
     "iopub.execute_input": "2022-11-05T10:13:23.197716Z",
     "iopub.status.busy": "2022-11-05T10:13:23.196977Z",
     "iopub.status.idle": "2022-11-05T10:13:23.212156Z",
     "shell.execute_reply": "2022-11-05T10:13:23.212653Z"
    },
    "papermill": {
     "duration": 0.077288,
     "end_time": "2022-11-05T10:13:23.212797",
     "exception": false,
     "start_time": "2022-11-05T10:13:23.135509",
     "status": "completed"
    },
    "tags": []
   },
   "outputs": [],
   "source": [
    "#creating the x and y ranges according to the above generated plot.\n",
    "x_range = np.linspace(-4, 1, 100) \n",
    "y_range = np.linspace(-6, 6, 100) \n",
    "x_grid, y_grid = np.meshgrid(x_range, y_range) # x_grid and y_grig are of size 100 X 100\n",
    "\n",
    "# converting x_grid and y_grid to continuous arrays\n",
    "x_gridflat = np.ravel(x_grid)\n",
    "y_gridflat = np.ravel(y_grid)\n",
    "\n",
    "# The last layer of the current model takes two columns as input. Hence transpose of np.vstack() is required.\n",
    "X = np.vstack((x_gridflat, y_gridflat)).T\n",
    "\n",
    "prob_contour = model_prob(X).reshape(100,100) "
   ]
  },
  {
   "cell_type": "code",
   "execution_count": 29,
   "id": "da72499a",
   "metadata": {
    "execution": {
     "iopub.execute_input": "2022-11-05T10:13:23.338175Z",
     "iopub.status.busy": "2022-11-05T10:13:23.337413Z",
     "iopub.status.idle": "2022-11-05T10:13:23.636335Z",
     "shell.execute_reply": "2022-11-05T10:13:23.636876Z"
    },
    "papermill": {
     "duration": 0.36446,
     "end_time": "2022-11-05T10:13:23.637034",
     "exception": false,
     "start_time": "2022-11-05T10:13:23.272574",
     "status": "completed"
    },
    "tags": []
   },
   "outputs": [
    {
     "data": {
      "image/png": "[encoded data removed]",
      "text/plain": [
       "<Figure size 720x648 with 1 Axes>"
      ]
     },
     "metadata": {
      "needs_background": "light"
     },
     "output_type": "display_data"
    }
   ],
   "source": [
    "plt.figure(figsize=(10,9))\n",
    "plt.scatter(testing_plot[:,0], testing_plot[:,1], alpha = 0.1, c = y_test.ravel())\n",
    "contours = plt.contour(x_grid,y_grid,prob_contour)\n",
    "plt.title('Probability Contours')\n",
    "plt.clabel(contours, inline = True );"
   ]
  },
  {
   "cell_type": "code",
   "execution_count": null,
   "id": "e81b4ac7",
   "metadata": {
    "papermill": {
     "duration": 0.058443,
     "end_time": "2022-11-05T10:13:23.750356",
     "exception": false,
     "start_time": "2022-11-05T10:13:23.691913",
     "status": "completed"
    },
    "tags": []
   },
   "outputs": [],
   "source": []
  }
 ],
 "metadata": {
  "kernelspec": {
   "display_name": "Python 3",
   "language": "python",
   "name": "python3"
  },
  "language_info": {
   "codemirror_mode": {
    "name": "ipython",
    "version": 3
   },
   "file_extension": ".py",
   "mimetype": "text/x-python",
   "name": "python",
   "nbconvert_exporter": "python",
   "pygments_lexer": "ipython3",
   "version": "3.6.15"
  },
  "papermill": {
   "default_parameters": {},
   "duration": 113.219177,
   "end_time": "2022-11-05T10:13:24.239105",
   "environment_variables": {},
   "exception": null,
   "input_path": "2020-08-11-part2.ipynb",
   "output_path": "2020-08-11-part2.ipynb",
   "parameters": {},
   "start_time": "2022-11-05T10:11:31.019928",
   "version": "2.3.3"
  }
 },
 "nbformat": 4,
 "nbformat_minor": 5
}