{
 "cells": [
  {
   "cell_type": "markdown",
   "id": "98380cd3",
   "metadata": {
    "papermill": {
     "duration": 0.027964,
     "end_time": "2021-10-05T00:23:14.190883",
     "exception": false,
     "start_time": "2021-10-05T00:23:14.162919",
     "status": "completed"
    },
    "tags": []
   },
   "source": [
    "# Distinguish Your Own Digits (DYOD)"
   ]
  },
  {
   "cell_type": "markdown",
   "id": "ef31240d",
   "metadata": {
    "papermill": {
     "duration": 0.023685,
     "end_time": "2021-10-05T00:23:14.239075",
     "exception": false,
     "start_time": "2021-10-05T00:23:14.215390",
     "status": "completed"
    },
    "tags": []
   },
   "source": [
    "You are going to write a classifier that distinguishes between the number 3 and number 8."
   ]
  },
  {
   "cell_type": "code",
   "execution_count": 1,
   "id": "b15c8646",
   "metadata": {
    "execution": {
     "iopub.execute_input": "2021-10-05T00:23:14.297945Z",
     "iopub.status.busy": "2021-10-05T00:23:14.297317Z",
     "iopub.status.idle": "2021-10-05T00:23:14.307165Z",
     "shell.execute_reply": "2021-10-05T00:23:14.306738Z"
    },
    "papermill": {
     "duration": 0.044473,
     "end_time": "2021-10-05T00:23:14.307300",
     "exception": false,
     "start_time": "2021-10-05T00:23:14.262827",
     "status": "completed"
    },
    "tags": []
   },
   "outputs": [],
   "source": [
    "%load_ext autoreload\n",
    "%autoreload 2"
   ]
  },
  {
   "cell_type": "code",
   "execution_count": 2,
   "id": "22ef38dc",
   "metadata": {
    "execution": {
     "iopub.execute_input": "2021-10-05T00:23:14.360975Z",
     "iopub.status.busy": "2021-10-05T00:23:14.360445Z",
     "iopub.status.idle": "2021-10-05T00:23:14.867120Z",
     "shell.execute_reply": "2021-10-05T00:23:14.866584Z"
    },
    "papermill": {
     "duration": 0.536034,
     "end_time": "2021-10-05T00:23:14.867266",
     "exception": false,
     "start_time": "2021-10-05T00:23:14.331232",
     "status": "completed"
    },
    "tags": []
   },
   "outputs": [],
   "source": [
    "%matplotlib inline\n",
    "import numpy as np\n",
    "import matplotlib.pyplot as plt\n",
    "import pandas as pd"
   ]
  },
  {
   "cell_type": "markdown",
   "id": "ba036198",
   "metadata": {
    "papermill": {
     "duration": 0.023922,
     "end_time": "2021-10-05T00:23:14.915410",
     "exception": false,
     "start_time": "2021-10-05T00:23:14.891488",
     "status": "completed"
    },
    "tags": []
   },
   "source": [
    "From the command line run `pip install mnist`. This is a library that will help you bring down the mnist dataset. If you run this from a notebook, you need to put  `!pip install mnist` in a cell by itself."
   ]
  },
  {
   "cell_type": "code",
   "execution_count": 3,
   "id": "bb6ad8a1",
   "metadata": {
    "execution": {
     "iopub.execute_input": "2021-10-05T00:23:14.967490Z",
     "iopub.status.busy": "2021-10-05T00:23:14.966963Z",
     "iopub.status.idle": "2021-10-05T00:23:17.385303Z",
     "shell.execute_reply": "2021-10-05T00:23:17.385724Z"
    },
    "papermill": {
     "duration": 2.446505,
     "end_time": "2021-10-05T00:23:17.385876",
     "exception": false,
     "start_time": "2021-10-05T00:23:14.939371",
     "status": "completed"
    },
    "tags": []
   },
   "outputs": [
    {
     "name": "stdout",
     "output_type": "stream",
     "text": [
      "Collecting mnist\r\n",
      "  Downloading mnist-0.2.2-py2.py3-none-any.whl (3.5 kB)\r\n",
      "Requirement already satisfied: numpy in /opt/hostedtoolcache/Python/3.6.15/x64/lib/python3.6/site-packages (from mnist) (1.19.5)\r\n"
     ]
    },
    {
     "name": "stdout",
     "output_type": "stream",
     "text": [
      "Installing collected packages: mnist\r\n"
     ]
    },
    {
     "name": "stdout",
     "output_type": "stream",
     "text": [
      "Successfully installed mnist-0.2.2\r\n"
     ]
    }
   ],
   "source": [
    "!pip install mnist"
   ]
  },
  {
   "cell_type": "markdown",
   "id": "69df9c9a",
   "metadata": {
    "papermill": {
     "duration": 0.024718,
     "end_time": "2021-10-05T00:23:17.435751",
     "exception": false,
     "start_time": "2021-10-05T00:23:17.411033",
     "status": "completed"
    },
    "tags": []
   },
   "source": [
    "## Preparing the Data"
   ]
  },
  {
   "cell_type": "code",
   "execution_count": 4,
   "id": "7f69d806",
   "metadata": {
    "execution": {
     "iopub.execute_input": "2021-10-05T00:23:17.502538Z",
     "iopub.status.busy": "2021-10-05T00:23:17.494763Z",
     "iopub.status.idle": "2021-10-05T00:23:17.506573Z",
     "shell.execute_reply": "2021-10-05T00:23:17.506150Z"
    },
    "papermill": {
     "duration": 0.046364,
     "end_time": "2021-10-05T00:23:17.506689",
     "exception": false,
     "start_time": "2021-10-05T00:23:17.460325",
     "status": "completed"
    },
    "tags": []
   },
   "outputs": [],
   "source": [
    "import mnist"
   ]
  },
  {
   "cell_type": "code",
   "execution_count": 5,
   "id": "a411e44f",
   "metadata": {
    "execution": {
     "iopub.execute_input": "2021-10-05T00:23:17.559164Z",
     "iopub.status.busy": "2021-10-05T00:23:17.558659Z",
     "iopub.status.idle": "2021-10-05T00:23:18.042222Z",
     "shell.execute_reply": "2021-10-05T00:23:18.041656Z"
    },
    "papermill": {
     "duration": 0.511056,
     "end_time": "2021-10-05T00:23:18.042376",
     "exception": false,
     "start_time": "2021-10-05T00:23:17.531320",
     "status": "completed"
    },
    "tags": []
   },
   "outputs": [],
   "source": [
    "train_images = mnist.train_images()\n",
    "train_labels = mnist.train_labels()"
   ]
  },
  {
   "cell_type": "code",
   "execution_count": 6,
   "id": "dceab3a5",
   "metadata": {
    "execution": {
     "iopub.execute_input": "2021-10-05T00:23:18.112746Z",
     "iopub.status.busy": "2021-10-05T00:23:18.108086Z",
     "iopub.status.idle": "2021-10-05T00:23:18.115707Z",
     "shell.execute_reply": "2021-10-05T00:23:18.115286Z"
    },
    "papermill": {
     "duration": 0.047651,
     "end_time": "2021-10-05T00:23:18.115827",
     "exception": false,
     "start_time": "2021-10-05T00:23:18.068176",
     "status": "completed"
    },
    "tags": []
   },
   "outputs": [
    {
     "data": {
      "text/plain": [
       "((60000, 28, 28), (60000,))"
      ]
     },
     "execution_count": 6,
     "metadata": {},
     "output_type": "execute_result"
    }
   ],
   "source": [
    "train_images.shape, train_labels.shape"
   ]
  },
  {
   "cell_type": "code",
   "execution_count": 7,
   "id": "f50dc2bb",
   "metadata": {
    "execution": {
     "iopub.execute_input": "2021-10-05T00:23:18.169555Z",
     "iopub.status.busy": "2021-10-05T00:23:18.169039Z",
     "iopub.status.idle": "2021-10-05T00:23:18.353179Z",
     "shell.execute_reply": "2021-10-05T00:23:18.352681Z"
    },
    "papermill": {
     "duration": 0.21257,
     "end_time": "2021-10-05T00:23:18.353305",
     "exception": false,
     "start_time": "2021-10-05T00:23:18.140735",
     "status": "completed"
    },
    "tags": []
   },
   "outputs": [],
   "source": [
    "test_images = mnist.test_images()\n",
    "test_labels = mnist.test_labels()"
   ]
  },
  {
   "cell_type": "code",
   "execution_count": 8,
   "id": "fc38cf1b",
   "metadata": {
    "execution": {
     "iopub.execute_input": "2021-10-05T00:23:18.421416Z",
     "iopub.status.busy": "2021-10-05T00:23:18.420876Z",
     "iopub.status.idle": "2021-10-05T00:23:18.425887Z",
     "shell.execute_reply": "2021-10-05T00:23:18.426335Z"
    },
    "papermill": {
     "duration": 0.048039,
     "end_time": "2021-10-05T00:23:18.426479",
     "exception": false,
     "start_time": "2021-10-05T00:23:18.378440",
     "status": "completed"
    },
    "tags": []
   },
   "outputs": [
    {
     "data": {
      "text/plain": [
       "((10000, 28, 28), (10000,))"
      ]
     },
     "execution_count": 8,
     "metadata": {},
     "output_type": "execute_result"
    }
   ],
   "source": [
    "test_images.shape, test_labels.shape"
   ]
  },
  {
   "cell_type": "code",
   "execution_count": 9,
   "id": "f9ed8fe0",
   "metadata": {
    "execution": {
     "iopub.execute_input": "2021-10-05T00:23:18.486834Z",
     "iopub.status.busy": "2021-10-05T00:23:18.480203Z",
     "iopub.status.idle": "2021-10-05T00:23:18.621346Z",
     "shell.execute_reply": "2021-10-05T00:23:18.620646Z"
    },
    "papermill": {
     "duration": 0.169702,
     "end_time": "2021-10-05T00:23:18.621471",
     "exception": false,
     "start_time": "2021-10-05T00:23:18.451769",
     "status": "completed"
    },
    "tags": []
   },
   "outputs": [
    {
     "name": "stdout",
     "output_type": "stream",
     "text": [
      "2\n"
     ]
    },
    {
     "data": {
      "text/plain": [
       "<matplotlib.image.AxesImage at 0x7f1648992828>"
      ]
     },
     "execution_count": 9,
     "metadata": {},
     "output_type": "execute_result"
    },
    {
     "data": {
      "image/png": "[encoded data removed]",
      "text/plain": [
       "<Figure size 432x288 with 1 Axes>"
      ]
     },
     "metadata": {
      "needs_background": "light"
     },
     "output_type": "display_data"
    }
   ],
   "source": [
    "image_index = 7776 # You may select anything up to 60,000\n",
    "print(train_labels[image_index]) \n",
    "plt.imshow(train_images[image_index], cmap='Greys')"
   ]
  },
  {
   "cell_type": "markdown",
   "id": "a8d2388d",
   "metadata": {
    "papermill": {
     "duration": 0.026231,
     "end_time": "2021-10-05T00:23:18.674225",
     "exception": false,
     "start_time": "2021-10-05T00:23:18.647994",
     "status": "completed"
    },
    "tags": []
   },
   "source": [
    "## Filter data to get 3 and 8 out"
   ]
  },
  {
   "cell_type": "code",
   "execution_count": 10,
   "id": "776f7fc7",
   "metadata": {
    "execution": {
     "iopub.execute_input": "2021-10-05T00:23:18.731424Z",
     "iopub.status.busy": "2021-10-05T00:23:18.730903Z",
     "iopub.status.idle": "2021-10-05T00:23:18.747432Z",
     "shell.execute_reply": "2021-10-05T00:23:18.747020Z"
    },
    "papermill": {
     "duration": 0.047248,
     "end_time": "2021-10-05T00:23:18.747548",
     "exception": false,
     "start_time": "2021-10-05T00:23:18.700300",
     "status": "completed"
    },
    "tags": []
   },
   "outputs": [],
   "source": [
    "train_filter = np.where((train_labels == 3 ) | (train_labels == 8))\n",
    "test_filter = np.where((test_labels == 3) | (test_labels == 8))\n",
    "X_train, y_train = train_images[train_filter], train_labels[train_filter]\n",
    "X_test, y_test = test_images[test_filter], test_labels[test_filter]"
   ]
  },
  {
   "cell_type": "markdown",
   "id": "948f0b7e",
   "metadata": {
    "papermill": {
     "duration": 0.02597,
     "end_time": "2021-10-05T00:23:18.799681",
     "exception": false,
     "start_time": "2021-10-05T00:23:18.773711",
     "status": "completed"
    },
    "tags": []
   },
   "source": [
    "We normalize the pizel values in the 0 to 1 range"
   ]
  },
  {
   "cell_type": "code",
   "execution_count": 11,
   "id": "ee4c2166",
   "metadata": {
    "execution": {
     "iopub.execute_input": "2021-10-05T00:23:18.859752Z",
     "iopub.status.busy": "2021-10-05T00:23:18.859220Z",
     "iopub.status.idle": "2021-10-05T00:23:18.903860Z",
     "shell.execute_reply": "2021-10-05T00:23:18.903319Z"
    },
    "papermill": {
     "duration": 0.078342,
     "end_time": "2021-10-05T00:23:18.904005",
     "exception": false,
     "start_time": "2021-10-05T00:23:18.825663",
     "status": "completed"
    },
    "tags": []
   },
   "outputs": [],
   "source": [
    "X_train = X_train/255.\n",
    "X_test = X_test/255."
   ]
  },
  {
   "cell_type": "markdown",
   "id": "ddcf4fab",
   "metadata": {
    "papermill": {
     "duration": 0.026151,
     "end_time": "2021-10-05T00:23:18.956703",
     "exception": false,
     "start_time": "2021-10-05T00:23:18.930552",
     "status": "completed"
    },
    "tags": []
   },
   "source": [
    "And setup the labels as 1 (when the digit is 3) and 0 (when the digit is 8)"
   ]
  },
  {
   "cell_type": "code",
   "execution_count": 12,
   "id": "7dc908f2",
   "metadata": {
    "execution": {
     "iopub.execute_input": "2021-10-05T00:23:19.012603Z",
     "iopub.status.busy": "2021-10-05T00:23:19.012081Z",
     "iopub.status.idle": "2021-10-05T00:23:19.024347Z",
     "shell.execute_reply": "2021-10-05T00:23:19.023933Z"
    },
    "papermill": {
     "duration": 0.041724,
     "end_time": "2021-10-05T00:23:19.024465",
     "exception": false,
     "start_time": "2021-10-05T00:23:18.982741",
     "status": "completed"
    },
    "tags": []
   },
   "outputs": [],
   "source": [
    "y_train = 1*(y_train==3)\n",
    "y_test = 1*(y_test==3)"
   ]
  },
  {
   "cell_type": "code",
   "execution_count": 13,
   "id": "01e4e969",
   "metadata": {
    "execution": {
     "iopub.execute_input": "2021-10-05T00:23:19.080352Z",
     "iopub.status.busy": "2021-10-05T00:23:19.079838Z",
     "iopub.status.idle": "2021-10-05T00:23:19.093358Z",
     "shell.execute_reply": "2021-10-05T00:23:19.092949Z"
    },
    "papermill": {
     "duration": 0.042796,
     "end_time": "2021-10-05T00:23:19.093473",
     "exception": false,
     "start_time": "2021-10-05T00:23:19.050677",
     "status": "completed"
    },
    "tags": []
   },
   "outputs": [
    {
     "data": {
      "text/plain": [
       "((11982, 28, 28), (1984, 28, 28))"
      ]
     },
     "execution_count": 13,
     "metadata": {},
     "output_type": "execute_result"
    }
   ],
   "source": [
    "X_train.shape, X_test.shape"
   ]
  },
  {
   "cell_type": "markdown",
   "id": "5ccf3f85",
   "metadata": {
    "papermill": {
     "duration": 0.026088,
     "end_time": "2021-10-05T00:23:19.145729",
     "exception": false,
     "start_time": "2021-10-05T00:23:19.119641",
     "status": "completed"
    },
    "tags": []
   },
   "source": [
    "We reshape the data to flatten the image pixels into a set of features or co-variates:"
   ]
  },
  {
   "cell_type": "code",
   "execution_count": 14,
   "id": "5286a4a3",
   "metadata": {
    "execution": {
     "iopub.execute_input": "2021-10-05T00:23:19.210875Z",
     "iopub.status.busy": "2021-10-05T00:23:19.206725Z",
     "iopub.status.idle": "2021-10-05T00:23:19.217385Z",
     "shell.execute_reply": "2021-10-05T00:23:19.216886Z"
    },
    "papermill": {
     "duration": 0.045441,
     "end_time": "2021-10-05T00:23:19.217494",
     "exception": false,
     "start_time": "2021-10-05T00:23:19.172053",
     "status": "completed"
    },
    "tags": []
   },
   "outputs": [
    {
     "data": {
      "text/plain": [
       "((11982, 784), (1984, 784))"
      ]
     },
     "execution_count": 14,
     "metadata": {},
     "output_type": "execute_result"
    }
   ],
   "source": [
    "X_train = X_train.reshape(X_train.shape[0], -1)\n",
    "X_test = X_test.reshape(X_test.shape[0], -1)\n",
    "X_train.shape, X_test.shape"
   ]
  },
  {
   "cell_type": "code",
   "execution_count": 15,
   "id": "73c5f88a",
   "metadata": {
    "execution": {
     "iopub.execute_input": "2021-10-05T00:23:19.286809Z",
     "iopub.status.busy": "2021-10-05T00:23:19.273945Z",
     "iopub.status.idle": "2021-10-05T00:23:19.297651Z",
     "shell.execute_reply": "2021-10-05T00:23:19.297244Z"
    },
    "papermill": {
     "duration": 0.053754,
     "end_time": "2021-10-05T00:23:19.297764",
     "exception": false,
     "start_time": "2021-10-05T00:23:19.244010",
     "status": "completed"
    },
    "tags": []
   },
   "outputs": [],
   "source": [
    "#Impoting functions from 'Kudzu'\n",
    "from kudzu.model import Model\n",
    "from kudzu.train import Learner\n",
    "from kudzu.optim import GD\n",
    "from kudzu.data import Data, Sampler,Dataloader\n",
    "\n",
    "from kudzu.callbacks import AccCallback\n",
    "from kudzu.callbacks import ClfCallback\n",
    "\n",
    "from kudzu.loss import MSE\n",
    "\n",
    "from kudzu.layer import Sigmoid,Relu\n",
    "from kudzu.layer import Affine"
   ]
  },
  {
   "cell_type": "markdown",
   "id": "bc01172a",
   "metadata": {
    "papermill": {
     "duration": 0.026351,
     "end_time": "2021-10-05T00:23:19.350624",
     "exception": false,
     "start_time": "2021-10-05T00:23:19.324273",
     "status": "completed"
    },
    "tags": []
   },
   "source": [
    "### Let us create a `Config` class, to store important parameters. \n",
    "This class essentially plays the role of a dictionary."
   ]
  },
  {
   "cell_type": "code",
   "execution_count": 16,
   "id": "978281aa",
   "metadata": {
    "execution": {
     "iopub.execute_input": "2021-10-05T00:23:19.411731Z",
     "iopub.status.busy": "2021-10-05T00:23:19.410883Z",
     "iopub.status.idle": "2021-10-05T00:23:19.421072Z",
     "shell.execute_reply": "2021-10-05T00:23:19.420662Z"
    },
    "papermill": {
     "duration": 0.043899,
     "end_time": "2021-10-05T00:23:19.421189",
     "exception": false,
     "start_time": "2021-10-05T00:23:19.377290",
     "status": "completed"
    },
    "tags": []
   },
   "outputs": [],
   "source": [
    "class Config:\n",
    "    pass\n",
    "config = Config()\n",
    "config.lr = 0.001\n",
    "config.num_epochs = 250\n",
    "config.bs = 50"
   ]
  },
  {
   "cell_type": "markdown",
   "id": "1385fa59",
   "metadata": {
    "papermill": {
     "duration": 0.026562,
     "end_time": "2021-10-05T00:23:19.474550",
     "exception": false,
     "start_time": "2021-10-05T00:23:19.447988",
     "status": "completed"
    },
    "tags": []
   },
   "source": [
    "### Running Models with the Training data\n",
    "Details about the network layers:\n",
    "- A first affine layer has 784 inputs and does 100 affine transforms. These are followed by a Relu\n",
    "- A second affine layer has 100 inputs from the 100 activations of the past layer, and does 100 affine transforms. These are followed by a Relu\n",
    "- A third affine layer has 100 activations and does 2 affine transformations to create an embedding for visualization. There is no non-linearity here.\n",
    "- A final \"logistic regression\" which has an affine transform from 2 inputs to 1 output, which is squeezed through a sigmoid.\n"
   ]
  },
  {
   "cell_type": "code",
   "execution_count": 17,
   "id": "2b9c66db",
   "metadata": {
    "execution": {
     "iopub.execute_input": "2021-10-05T00:23:19.532194Z",
     "iopub.status.busy": "2021-10-05T00:23:19.531666Z",
     "iopub.status.idle": "2021-10-05T00:23:19.544401Z",
     "shell.execute_reply": "2021-10-05T00:23:19.543986Z"
    },
    "papermill": {
     "duration": 0.043236,
     "end_time": "2021-10-05T00:23:19.544519",
     "exception": false,
     "start_time": "2021-10-05T00:23:19.501283",
     "status": "completed"
    },
    "tags": []
   },
   "outputs": [],
   "source": [
    "data = Data(X_train, y_train.reshape(-1,1))\n",
    "sampler = Sampler(data, config.bs, shuffle=True)\n",
    "\n",
    "dl = Dataloader(data, sampler)\n",
    "\n",
    "opt = GD(config.lr)\n",
    "loss = MSE()"
   ]
  },
  {
   "cell_type": "code",
   "execution_count": 18,
   "id": "b275e4c2",
   "metadata": {
    "execution": {
     "iopub.execute_input": "2021-10-05T00:23:19.601638Z",
     "iopub.status.busy": "2021-10-05T00:23:19.601118Z",
     "iopub.status.idle": "2021-10-05T00:23:19.613114Z",
     "shell.execute_reply": "2021-10-05T00:23:19.612665Z"
    },
    "papermill": {
     "duration": 0.041825,
     "end_time": "2021-10-05T00:23:19.613229",
     "exception": false,
     "start_time": "2021-10-05T00:23:19.571404",
     "status": "completed"
    },
    "tags": []
   },
   "outputs": [],
   "source": [
    "training_data_x = X_train\n",
    "testing_data_x = X_test\n",
    "training_data_y = y_train.reshape(-1,1)\n",
    "testing_data_y = y_test.reshape(-1,1)"
   ]
  },
  {
   "cell_type": "code",
   "execution_count": 19,
   "id": "76951160",
   "metadata": {
    "execution": {
     "iopub.execute_input": "2021-10-05T00:23:19.671089Z",
     "iopub.status.busy": "2021-10-05T00:23:19.670566Z",
     "iopub.status.idle": "2021-10-05T00:23:19.686776Z",
     "shell.execute_reply": "2021-10-05T00:23:19.687225Z"
    },
    "papermill": {
     "duration": 0.047593,
     "end_time": "2021-10-05T00:23:19.687439",
     "exception": false,
     "start_time": "2021-10-05T00:23:19.639846",
     "status": "completed"
    },
    "tags": []
   },
   "outputs": [
    {
     "name": "stdout",
     "output_type": "stream",
     "text": [
      "xavier\n",
      "xavier\n",
      "xavier\n",
      "xavier\n",
      "xavier\n"
     ]
    }
   ],
   "source": [
    "layers = [Affine(\"first\", 784, 100), Relu(\"first\"), Affine(\"second\", 100, 100), Relu(\"second\"), Affine(\"third\", 100, 2), Affine(\"last\", 2, 1), Sigmoid(\"last\")]\n",
    "model_nn = Model(layers)\n",
    "model_lr = Model([Affine(\"logits\", 784, 1), Sigmoid(\"sigmoid\")])"
   ]
  },
  {
   "cell_type": "code",
   "execution_count": 20,
   "id": "6eede77a",
   "metadata": {
    "execution": {
     "iopub.execute_input": "2021-10-05T00:23:19.749728Z",
     "iopub.status.busy": "2021-10-05T00:23:19.749213Z",
     "iopub.status.idle": "2021-10-05T00:23:19.761428Z",
     "shell.execute_reply": "2021-10-05T00:23:19.761012Z"
    },
    "papermill": {
     "duration": 0.045086,
     "end_time": "2021-10-05T00:23:19.761546",
     "exception": false,
     "start_time": "2021-10-05T00:23:19.716460",
     "status": "completed"
    },
    "tags": []
   },
   "outputs": [],
   "source": [
    "nn_learner = Learner(loss, model_nn, opt, config.num_epochs)\n",
    "acc_nn = ClfCallback(nn_learner, config.bs, training_data_x , testing_data_x, training_data_y, testing_data_y)\n",
    "nn_learner.set_callbacks([acc_nn])"
   ]
  },
  {
   "cell_type": "code",
   "execution_count": 21,
   "id": "877b6cc7",
   "metadata": {
    "execution": {
     "iopub.execute_input": "2021-10-05T00:23:19.823179Z",
     "iopub.status.busy": "2021-10-05T00:23:19.822662Z",
     "iopub.status.idle": "2021-10-05T00:23:19.832962Z",
     "shell.execute_reply": "2021-10-05T00:23:19.833459Z"
    },
    "papermill": {
     "duration": 0.043939,
     "end_time": "2021-10-05T00:23:19.833605",
     "exception": false,
     "start_time": "2021-10-05T00:23:19.789666",
     "status": "completed"
    },
    "tags": []
   },
   "outputs": [],
   "source": [
    "lr_learner = Learner(loss, model_lr, opt, config.num_epochs)\n",
    "acc_lr = ClfCallback(lr_learner, config.bs, training_data_x , testing_data_x, training_data_y, testing_data_y)\n",
    "lr_learner.set_callbacks([acc_lr])"
   ]
  },
  {
   "cell_type": "code",
   "execution_count": 22,
   "id": "d9b133c3",
   "metadata": {
    "execution": {
     "iopub.execute_input": "2021-10-05T00:23:19.893718Z",
     "iopub.status.busy": "2021-10-05T00:23:19.893205Z",
     "iopub.status.idle": "2021-10-05T00:24:34.420387Z",
     "shell.execute_reply": "2021-10-05T00:24:34.421113Z"
    },
    "papermill": {
     "duration": 74.558513,
     "end_time": "2021-10-05T00:24:34.421267",
     "exception": false,
     "start_time": "2021-10-05T00:23:19.862754",
     "status": "completed"
    },
    "tags": []
   },
   "outputs": [
    {
     "name": "stdout",
     "output_type": "stream",
     "text": [
      "Epoch 0, Loss 0.2349\n",
      "Training Accuracy: 0.7273, Testing Accuracy: 0.7581\n",
      "\n"
     ]
    },
    {
     "name": "stdout",
     "output_type": "stream",
     "text": [
      "Epoch 10, Loss 0.0728\n",
      "Training Accuracy: 0.9278, Testing Accuracy: 0.9410\n",
      "\n"
     ]
    },
    {
     "name": "stdout",
     "output_type": "stream",
     "text": [
      "Epoch 20, Loss 0.049\n",
      "Training Accuracy: 0.9478, Testing Accuracy: 0.9597\n",
      "\n"
     ]
    },
    {
     "name": "stdout",
     "output_type": "stream",
     "text": [
      "Epoch 30, Loss 0.0402\n",
      "Training Accuracy: 0.9549, Testing Accuracy: 0.9647\n",
      "\n"
     ]
    },
    {
     "name": "stdout",
     "output_type": "stream",
     "text": [
      "Epoch 40, Loss 0.0355\n",
      "Training Accuracy: 0.9588, Testing Accuracy: 0.9677\n",
      "\n"
     ]
    },
    {
     "name": "stdout",
     "output_type": "stream",
     "text": [
      "Epoch 50, Loss 0.0324\n",
      "Training Accuracy: 0.9616, Testing Accuracy: 0.9688\n",
      "\n"
     ]
    },
    {
     "name": "stdout",
     "output_type": "stream",
     "text": [
      "Epoch 60, Loss 0.0302\n",
      "Training Accuracy: 0.9645, Testing Accuracy: 0.9713\n",
      "\n"
     ]
    },
    {
     "name": "stdout",
     "output_type": "stream",
     "text": [
      "Epoch 70, Loss 0.0285\n",
      "Training Accuracy: 0.9664, Testing Accuracy: 0.9728\n",
      "\n"
     ]
    },
    {
     "name": "stdout",
     "output_type": "stream",
     "text": [
      "Epoch 80, Loss 0.0272\n",
      "Training Accuracy: 0.9679, Testing Accuracy: 0.9718\n",
      "\n"
     ]
    },
    {
     "name": "stdout",
     "output_type": "stream",
     "text": [
      "Epoch 90, Loss 0.026\n",
      "Training Accuracy: 0.9686, Testing Accuracy: 0.9723\n",
      "\n"
     ]
    },
    {
     "name": "stdout",
     "output_type": "stream",
     "text": [
      "Epoch 100, Loss 0.025\n",
      "Training Accuracy: 0.9700, Testing Accuracy: 0.9713\n",
      "\n"
     ]
    },
    {
     "name": "stdout",
     "output_type": "stream",
     "text": [
      "Epoch 110, Loss 0.0241\n",
      "Training Accuracy: 0.9715, Testing Accuracy: 0.9708\n",
      "\n"
     ]
    },
    {
     "name": "stdout",
     "output_type": "stream",
     "text": [
      "Epoch 120, Loss 0.0234\n",
      "Training Accuracy: 0.9726, Testing Accuracy: 0.9708\n",
      "\n"
     ]
    },
    {
     "name": "stdout",
     "output_type": "stream",
     "text": [
      "Epoch 130, Loss 0.0226\n",
      "Training Accuracy: 0.9741, Testing Accuracy: 0.9713\n",
      "\n"
     ]
    },
    {
     "name": "stdout",
     "output_type": "stream",
     "text": [
      "Epoch 140, Loss 0.022\n",
      "Training Accuracy: 0.9752, Testing Accuracy: 0.9713\n",
      "\n"
     ]
    },
    {
     "name": "stdout",
     "output_type": "stream",
     "text": [
      "Epoch 150, Loss 0.0214\n",
      "Training Accuracy: 0.9760, Testing Accuracy: 0.9713\n",
      "\n"
     ]
    },
    {
     "name": "stdout",
     "output_type": "stream",
     "text": [
      "Epoch 160, Loss 0.0208\n",
      "Training Accuracy: 0.9772, Testing Accuracy: 0.9713\n",
      "\n"
     ]
    },
    {
     "name": "stdout",
     "output_type": "stream",
     "text": [
      "Epoch 170, Loss 0.0203\n",
      "Training Accuracy: 0.9780, Testing Accuracy: 0.9723\n",
      "\n"
     ]
    },
    {
     "name": "stdout",
     "output_type": "stream",
     "text": [
      "Epoch 180, Loss 0.0199\n",
      "Training Accuracy: 0.9784, Testing Accuracy: 0.9723\n",
      "\n"
     ]
    },
    {
     "name": "stdout",
     "output_type": "stream",
     "text": [
      "Epoch 190, Loss 0.0194\n",
      "Training Accuracy: 0.9786, Testing Accuracy: 0.9728\n",
      "\n"
     ]
    },
    {
     "name": "stdout",
     "output_type": "stream",
     "text": [
      "Epoch 200, Loss 0.019\n",
      "Training Accuracy: 0.9792, Testing Accuracy: 0.9728\n",
      "\n"
     ]
    },
    {
     "name": "stdout",
     "output_type": "stream",
     "text": [
      "Epoch 210, Loss 0.0185\n",
      "Training Accuracy: 0.9798, Testing Accuracy: 0.9743\n",
      "\n"
     ]
    },
    {
     "name": "stdout",
     "output_type": "stream",
     "text": [
      "Epoch 220, Loss 0.0181\n",
      "Training Accuracy: 0.9801, Testing Accuracy: 0.9743\n",
      "\n"
     ]
    },
    {
     "name": "stdout",
     "output_type": "stream",
     "text": [
      "Epoch 230, Loss 0.0178\n",
      "Training Accuracy: 0.9812, Testing Accuracy: 0.9748\n",
      "\n"
     ]
    },
    {
     "name": "stdout",
     "output_type": "stream",
     "text": [
      "Epoch 240, Loss 0.0174\n",
      "Training Accuracy: 0.9819, Testing Accuracy: 0.9748\n",
      "\n"
     ]
    },
    {
     "data": {
      "text/plain": [
       "0.04666256236536936"
      ]
     },
     "execution_count": 22,
     "metadata": {},
     "output_type": "execute_result"
    }
   ],
   "source": [
    "nn_learner.train_loop(dl)"
   ]
  },
  {
   "cell_type": "code",
   "execution_count": 23,
   "id": "e0163366",
   "metadata": {
    "execution": {
     "iopub.execute_input": "2021-10-05T00:24:34.503462Z",
     "iopub.status.busy": "2021-10-05T00:24:34.502937Z",
     "iopub.status.idle": "2021-10-05T00:24:47.705455Z",
     "shell.execute_reply": "2021-10-05T00:24:47.706234Z"
    },
    "papermill": {
     "duration": 13.250434,
     "end_time": "2021-10-05T00:24:47.706384",
     "exception": false,
     "start_time": "2021-10-05T00:24:34.455950",
     "status": "completed"
    },
    "tags": []
   },
   "outputs": [
    {
     "name": "stdout",
     "output_type": "stream",
     "text": [
      "Epoch 0, Loss 0.2493\n",
      "Training Accuracy: 0.6135, Testing Accuracy: 0.5983\n",
      "\n"
     ]
    },
    {
     "name": "stdout",
     "output_type": "stream",
     "text": [
      "Epoch 10, Loss 0.1092\n",
      "Training Accuracy: 0.8945, Testing Accuracy: 0.9042\n",
      "\n"
     ]
    },
    {
     "name": "stdout",
     "output_type": "stream",
     "text": [
      "Epoch 20, Loss 0.0819\n",
      "Training Accuracy: 0.9223, Testing Accuracy: 0.9355\n",
      "\n"
     ]
    },
    {
     "name": "stdout",
     "output_type": "stream",
     "text": [
      "Epoch 30, Loss 0.0697\n",
      "Training Accuracy: 0.9336, Testing Accuracy: 0.9441\n",
      "\n"
     ]
    },
    {
     "name": "stdout",
     "output_type": "stream",
     "text": [
      "Epoch 40, Loss 0.0624\n",
      "Training Accuracy: 0.9394, Testing Accuracy: 0.9511\n",
      "\n"
     ]
    },
    {
     "name": "stdout",
     "output_type": "stream",
     "text": [
      "Epoch 50, Loss 0.0576\n",
      "Training Accuracy: 0.9444, Testing Accuracy: 0.9531\n",
      "\n"
     ]
    },
    {
     "name": "stdout",
     "output_type": "stream",
     "text": [
      "Epoch 60, Loss 0.0541\n",
      "Training Accuracy: 0.9468, Testing Accuracy: 0.9551\n",
      "\n"
     ]
    },
    {
     "name": "stdout",
     "output_type": "stream",
     "text": [
      "Epoch 70, Loss 0.0515\n",
      "Training Accuracy: 0.9488, Testing Accuracy: 0.9582\n",
      "\n"
     ]
    },
    {
     "name": "stdout",
     "output_type": "stream",
     "text": [
      "Epoch 80, Loss 0.0493\n",
      "Training Accuracy: 0.9509, Testing Accuracy: 0.9592\n",
      "\n"
     ]
    },
    {
     "name": "stdout",
     "output_type": "stream",
     "text": [
      "Epoch 90, Loss 0.0476\n",
      "Training Accuracy: 0.9523, Testing Accuracy: 0.9607\n",
      "\n"
     ]
    },
    {
     "name": "stdout",
     "output_type": "stream",
     "text": [
      "Epoch 100, Loss 0.0462\n",
      "Training Accuracy: 0.9531, Testing Accuracy: 0.9612\n",
      "\n"
     ]
    },
    {
     "name": "stdout",
     "output_type": "stream",
     "text": [
      "Epoch 110, Loss 0.0449\n",
      "Training Accuracy: 0.9542, Testing Accuracy: 0.9612\n",
      "\n"
     ]
    },
    {
     "name": "stdout",
     "output_type": "stream",
     "text": [
      "Epoch 120, Loss 0.0438\n",
      "Training Accuracy: 0.9546, Testing Accuracy: 0.9627\n",
      "\n"
     ]
    },
    {
     "name": "stdout",
     "output_type": "stream",
     "text": [
      "Epoch 130, Loss 0.0429\n",
      "Training Accuracy: 0.9550, Testing Accuracy: 0.9637\n",
      "\n"
     ]
    },
    {
     "name": "stdout",
     "output_type": "stream",
     "text": [
      "Epoch 140, Loss 0.0421\n",
      "Training Accuracy: 0.9555, Testing Accuracy: 0.9647\n",
      "\n"
     ]
    },
    {
     "name": "stdout",
     "output_type": "stream",
     "text": [
      "Epoch 150, Loss 0.0413\n",
      "Training Accuracy: 0.9564, Testing Accuracy: 0.9647\n",
      "\n"
     ]
    },
    {
     "name": "stdout",
     "output_type": "stream",
     "text": [
      "Epoch 160, Loss 0.0406\n",
      "Training Accuracy: 0.9570, Testing Accuracy: 0.9647\n",
      "\n"
     ]
    },
    {
     "name": "stdout",
     "output_type": "stream",
     "text": [
      "Epoch 170, Loss 0.04\n",
      "Training Accuracy: 0.9575, Testing Accuracy: 0.9652\n",
      "\n"
     ]
    },
    {
     "name": "stdout",
     "output_type": "stream",
     "text": [
      "Epoch 180, Loss 0.0395\n",
      "Training Accuracy: 0.9583, Testing Accuracy: 0.9662\n",
      "\n"
     ]
    },
    {
     "name": "stdout",
     "output_type": "stream",
     "text": [
      "Epoch 190, Loss 0.0389\n",
      "Training Accuracy: 0.9584, Testing Accuracy: 0.9657\n",
      "\n"
     ]
    },
    {
     "name": "stdout",
     "output_type": "stream",
     "text": [
      "Epoch 200, Loss 0.0385\n",
      "Training Accuracy: 0.9592, Testing Accuracy: 0.9657\n",
      "\n"
     ]
    },
    {
     "name": "stdout",
     "output_type": "stream",
     "text": [
      "Epoch 210, Loss 0.038\n",
      "Training Accuracy: 0.9599, Testing Accuracy: 0.9657\n",
      "\n"
     ]
    },
    {
     "name": "stdout",
     "output_type": "stream",
     "text": [
      "Epoch 220, Loss 0.0376\n",
      "Training Accuracy: 0.9604, Testing Accuracy: 0.9667\n",
      "\n"
     ]
    },
    {
     "name": "stdout",
     "output_type": "stream",
     "text": [
      "Epoch 230, Loss 0.0372\n",
      "Training Accuracy: 0.9607, Testing Accuracy: 0.9672\n",
      "\n"
     ]
    },
    {
     "name": "stdout",
     "output_type": "stream",
     "text": [
      "Epoch 240, Loss 0.0369\n",
      "Training Accuracy: 0.9609, Testing Accuracy: 0.9672\n",
      "\n"
     ]
    },
    {
     "data": {
      "text/plain": [
       "0.05682194467587322"
      ]
     },
     "execution_count": 23,
     "metadata": {},
     "output_type": "execute_result"
    }
   ],
   "source": [
    "lr_learner.train_loop(dl)"
   ]
  },
  {
   "cell_type": "code",
   "execution_count": 24,
   "id": "ca410940",
   "metadata": {
    "execution": {
     "iopub.execute_input": "2021-10-05T00:24:47.795827Z",
     "iopub.status.busy": "2021-10-05T00:24:47.795307Z",
     "iopub.status.idle": "2021-10-05T00:24:48.037788Z",
     "shell.execute_reply": "2021-10-05T00:24:48.038477Z"
    },
    "papermill": {
     "duration": 0.291019,
     "end_time": "2021-10-05T00:24:48.038624",
     "exception": false,
     "start_time": "2021-10-05T00:24:47.747605",
     "status": "completed"
    },
    "tags": []
   },
   "outputs": [
    {
     "data": {
      "text/plain": [
       "<matplotlib.legend.Legend at 0x7f16484f7898>"
      ]
     },
     "execution_count": 24,
     "metadata": {},
     "output_type": "execute_result"
    },
    {
     "data": {
      "image/png": "[encoded data removed]",
      "text/plain": [
       "<Figure size 1080x720 with 1 Axes>"
      ]
     },
     "metadata": {
      "needs_background": "light"
     },
     "output_type": "display_data"
    }
   ],
   "source": [
    "#comparing the results of NN and LR\n",
    "plt.figure(figsize=(15,10))\n",
    "\n",
    "# Neural Network plots\n",
    "plt.plot(acc_nn.accuracies, 'r-', label = \"Training Accuracies - NN\")\n",
    "plt.plot(acc_nn.test_accuracies, 'g-', label = \"Testing Accuracies - NN\")\n",
    "\n",
    "# Logistic Regression plots\n",
    "plt.plot(acc_lr.accuracies, 'k-', label = \"Training Accuracies - LR\")\n",
    "plt.plot(acc_lr.test_accuracies, 'b-', label = \"Testing Accuracies - LR\")\n",
    "plt.legend()"
   ]
  },
  {
   "cell_type": "markdown",
   "id": "80dfb35c",
   "metadata": {
    "papermill": {
     "duration": 0.042383,
     "end_time": "2021-10-05T00:24:48.123497",
     "exception": false,
     "start_time": "2021-10-05T00:24:48.081114",
     "status": "completed"
    },
    "tags": []
   },
   "source": [
    "#### Plotting the outputs of this layer of the NN.\n"
   ]
  },
  {
   "cell_type": "code",
   "execution_count": 25,
   "id": "45eb2ff5",
   "metadata": {
    "execution": {
     "iopub.execute_input": "2021-10-05T00:24:48.214047Z",
     "iopub.status.busy": "2021-10-05T00:24:48.211928Z",
     "iopub.status.idle": "2021-10-05T00:24:48.231877Z",
     "shell.execute_reply": "2021-10-05T00:24:48.232299Z"
    },
    "papermill": {
     "duration": 0.067146,
     "end_time": "2021-10-05T00:24:48.232451",
     "exception": false,
     "start_time": "2021-10-05T00:24:48.165305",
     "status": "completed"
    },
    "tags": []
   },
   "outputs": [],
   "source": [
    "new_model = Model(layers[:-2])\n",
    "testing_plot = new_model(testing_data_x)"
   ]
  },
  {
   "cell_type": "code",
   "execution_count": 26,
   "id": "4c0a5485",
   "metadata": {
    "execution": {
     "iopub.execute_input": "2021-10-05T00:24:48.331334Z",
     "iopub.status.busy": "2021-10-05T00:24:48.330816Z",
     "iopub.status.idle": "2021-10-05T00:24:48.513422Z",
     "shell.execute_reply": "2021-10-05T00:24:48.513853Z"
    },
    "papermill": {
     "duration": 0.237614,
     "end_time": "2021-10-05T00:24:48.513998",
     "exception": false,
     "start_time": "2021-10-05T00:24:48.276384",
     "status": "completed"
    },
    "tags": []
   },
   "outputs": [
    {
     "data": {
      "text/plain": [
       "Text(0.5, 1.0, 'Outputs')"
      ]
     },
     "execution_count": 26,
     "metadata": {},
     "output_type": "execute_result"
    },
    {
     "data": {
      "image/png": "[encoded data removed]",
      "text/plain": [
       "<Figure size 576x504 with 1 Axes>"
      ]
     },
     "metadata": {
      "needs_background": "light"
     },
     "output_type": "display_data"
    }
   ],
   "source": [
    "# Plotting the scatter plot of points and color coding by class\n",
    "plt.figure(figsize=(8,7))\n",
    "plt.scatter(testing_plot[:,0], testing_plot[:,1], alpha = 0.1, c = y_test.ravel());\n",
    "plt.title('Outputs')"
   ]
  },
  {
   "cell_type": "markdown",
   "id": "a74fcf8f",
   "metadata": {
    "papermill": {
     "duration": 0.043716,
     "end_time": "2021-10-05T00:24:48.602036",
     "exception": false,
     "start_time": "2021-10-05T00:24:48.558320",
     "status": "completed"
    },
    "tags": []
   },
   "source": [
    "Probability contours"
   ]
  },
  {
   "cell_type": "code",
   "execution_count": 27,
   "id": "d0afc8e3",
   "metadata": {
    "execution": {
     "iopub.execute_input": "2021-10-05T00:24:48.695422Z",
     "iopub.status.busy": "2021-10-05T00:24:48.694803Z",
     "iopub.status.idle": "2021-10-05T00:24:48.704906Z",
     "shell.execute_reply": "2021-10-05T00:24:48.704478Z"
    },
    "papermill": {
     "duration": 0.059062,
     "end_time": "2021-10-05T00:24:48.705028",
     "exception": false,
     "start_time": "2021-10-05T00:24:48.645966",
     "status": "completed"
    },
    "tags": []
   },
   "outputs": [],
   "source": [
    "model_prob = Model(layers[-2:]) "
   ]
  },
  {
   "cell_type": "code",
   "execution_count": 28,
   "id": "9b96e238",
   "metadata": {
    "execution": {
     "iopub.execute_input": "2021-10-05T00:24:48.803338Z",
     "iopub.status.busy": "2021-10-05T00:24:48.801384Z",
     "iopub.status.idle": "2021-10-05T00:24:48.814479Z",
     "shell.execute_reply": "2021-10-05T00:24:48.814872Z"
    },
    "papermill": {
     "duration": 0.065598,
     "end_time": "2021-10-05T00:24:48.815011",
     "exception": false,
     "start_time": "2021-10-05T00:24:48.749413",
     "status": "completed"
    },
    "tags": []
   },
   "outputs": [],
   "source": [
    "#creating the x and y ranges according to the above generated plot.\n",
    "x_range = np.linspace(-4, 1, 100) \n",
    "y_range = np.linspace(-6, 6, 100) \n",
    "x_grid, y_grid = np.meshgrid(x_range, y_range) # x_grid and y_grig are of size 100 X 100\n",
    "\n",
    "# converting x_grid and y_grid to continuous arrays\n",
    "x_gridflat = np.ravel(x_grid)\n",
    "y_gridflat = np.ravel(y_grid)\n",
    "\n",
    "# The last layer of the current model takes two columns as input. Hence transpose of np.vstack() is required.\n",
    "X = np.vstack((x_gridflat, y_gridflat)).T\n",
    "\n",
    "prob_contour = model_prob(X).reshape(100,100) "
   ]
  },
  {
   "cell_type": "code",
   "execution_count": 29,
   "id": "da72499a",
   "metadata": {
    "execution": {
     "iopub.execute_input": "2021-10-05T00:24:48.912849Z",
     "iopub.status.busy": "2021-10-05T00:24:48.912326Z",
     "iopub.status.idle": "2021-10-05T00:24:49.149596Z",
     "shell.execute_reply": "2021-10-05T00:24:49.149139Z"
    },
    "papermill": {
     "duration": 0.286257,
     "end_time": "2021-10-05T00:24:49.149718",
     "exception": false,
     "start_time": "2021-10-05T00:24:48.863461",
     "status": "completed"
    },
    "tags": []
   },
   "outputs": [
    {
     "data": {
      "image/png": "[encoded data removed]",
      "text/plain": [
       "<Figure size 720x648 with 1 Axes>"
      ]
     },
     "metadata": {
      "needs_background": "light"
     },
     "output_type": "display_data"
    }
   ],
   "source": [
    "plt.figure(figsize=(10,9))\n",
    "plt.scatter(testing_plot[:,0], testing_plot[:,1], alpha = 0.1, c = y_test.ravel())\n",
    "contours = plt.contour(x_grid,y_grid,prob_contour)\n",
    "plt.title('Probability Contours')\n",
    "plt.clabel(contours, inline = True );"
   ]
  },
  {
   "cell_type": "code",
   "execution_count": null,
   "id": "e81b4ac7",
   "metadata": {
    "papermill": {
     "duration": 0.04656,
     "end_time": "2021-10-05T00:24:49.269666",
     "exception": false,
     "start_time": "2021-10-05T00:24:49.223106",
     "status": "completed"
    },
    "tags": []
   },
   "outputs": [],
   "source": []
  }
 ],
 "metadata": {
  "kernelspec": {
   "display_name": "Python 3",
   "language": "python",
   "name": "python3"
  },
  "language_info": {
   "codemirror_mode": {
    "name": "ipython",
    "version": 3
   },
   "file_extension": ".py",
   "mimetype": "text/x-python",
   "name": "python",
   "nbconvert_exporter": "python",
   "pygments_lexer": "ipython3",
   "version": "3.6.15"
  },
  "papermill": {
   "default_parameters": {},
   "duration": 96.594392,
   "end_time": "2021-10-05T00:24:49.724295",
   "environment_variables": {},
   "exception": null,
   "input_path": "2020-08-11-part2.ipynb",
   "output_path": "2020-08-11-part2.ipynb",
   "parameters": {},
   "start_time": "2021-10-05T00:23:13.129903",
   "version": "2.3.3"
  }
 },
 "nbformat": 4,
 "nbformat_minor": 5
}