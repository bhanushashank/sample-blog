{
 "cells": [
  {
   "cell_type": "markdown",
   "id": "98380cd3",
   "metadata": {
    "papermill": {
     "duration": 0.035414,
     "end_time": "2022-09-06T00:46:44.196709",
     "exception": false,
     "start_time": "2022-09-06T00:46:44.161295",
     "status": "completed"
    },
    "tags": []
   },
   "source": [
    "# Distinguish Your Own Digits (DYOD)"
   ]
  },
  {
   "cell_type": "markdown",
   "id": "ef31240d",
   "metadata": {
    "papermill": {
     "duration": 0.028696,
     "end_time": "2022-09-06T00:46:44.254226",
     "exception": false,
     "start_time": "2022-09-06T00:46:44.225530",
     "status": "completed"
    },
    "tags": []
   },
   "source": [
    "You are going to write a classifier that distinguishes between the number 3 and number 8."
   ]
  },
  {
   "cell_type": "code",
   "execution_count": 1,
   "id": "b15c8646",
   "metadata": {
    "execution": {
     "iopub.execute_input": "2022-09-06T00:46:44.326135Z",
     "iopub.status.busy": "2022-09-06T00:46:44.325259Z",
     "iopub.status.idle": "2022-09-06T00:46:44.337341Z",
     "shell.execute_reply": "2022-09-06T00:46:44.336747Z"
    },
    "papermill": {
     "duration": 0.054026,
     "end_time": "2022-09-06T00:46:44.337488",
     "exception": false,
     "start_time": "2022-09-06T00:46:44.283462",
     "status": "completed"
    },
    "tags": []
   },
   "outputs": [],
   "source": [
    "%load_ext autoreload\n",
    "%autoreload 2"
   ]
  },
  {
   "cell_type": "code",
   "execution_count": 2,
   "id": "22ef38dc",
   "metadata": {
    "execution": {
     "iopub.execute_input": "2022-09-06T00:46:44.400361Z",
     "iopub.status.busy": "2022-09-06T00:46:44.399638Z",
     "iopub.status.idle": "2022-09-06T00:46:45.020997Z",
     "shell.execute_reply": "2022-09-06T00:46:45.021788Z"
    },
    "papermill": {
     "duration": 0.656271,
     "end_time": "2022-09-06T00:46:45.022019",
     "exception": false,
     "start_time": "2022-09-06T00:46:44.365748",
     "status": "completed"
    },
    "tags": []
   },
   "outputs": [],
   "source": [
    "%matplotlib inline\n",
    "import numpy as np\n",
    "import matplotlib.pyplot as plt\n",
    "import pandas as pd"
   ]
  },
  {
   "cell_type": "markdown",
   "id": "ba036198",
   "metadata": {
    "papermill": {
     "duration": 0.029029,
     "end_time": "2022-09-06T00:46:45.081968",
     "exception": false,
     "start_time": "2022-09-06T00:46:45.052939",
     "status": "completed"
    },
    "tags": []
   },
   "source": [
    "From the command line run `pip install mnist`. This is a library that will help you bring down the mnist dataset. If you run this from a notebook, you need to put  `!pip install mnist` in a cell by itself."
   ]
  },
  {
   "cell_type": "code",
   "execution_count": 3,
   "id": "bb6ad8a1",
   "metadata": {
    "execution": {
     "iopub.execute_input": "2022-09-06T00:46:45.142517Z",
     "iopub.status.busy": "2022-09-06T00:46:45.141777Z",
     "iopub.status.idle": "2022-09-06T00:46:46.956499Z",
     "shell.execute_reply": "2022-09-06T00:46:46.955737Z"
    },
    "papermill": {
     "duration": 1.84709,
     "end_time": "2022-09-06T00:46:46.956665",
     "exception": false,
     "start_time": "2022-09-06T00:46:45.109575",
     "status": "completed"
    },
    "tags": []
   },
   "outputs": [
    {
     "name": "stdout",
     "output_type": "stream",
     "text": [
      "Collecting mnist\r\n"
     ]
    },
    {
     "name": "stdout",
     "output_type": "stream",
     "text": [
      "  Downloading mnist-0.2.2-py2.py3-none-any.whl (3.5 kB)\r\n",
      "Requirement already satisfied: numpy in /opt/hostedtoolcache/Python/3.6.15/x64/lib/python3.6/site-packages (from mnist) (1.19.5)\r\n"
     ]
    },
    {
     "name": "stdout",
     "output_type": "stream",
     "text": [
      "Installing collected packages: mnist\r\n"
     ]
    },
    {
     "name": "stdout",
     "output_type": "stream",
     "text": [
      "Successfully installed mnist-0.2.2\r\n"
     ]
    }
   ],
   "source": [
    "!pip install mnist"
   ]
  },
  {
   "cell_type": "markdown",
   "id": "69df9c9a",
   "metadata": {
    "papermill": {
     "duration": 0.028734,
     "end_time": "2022-09-06T00:46:47.014333",
     "exception": false,
     "start_time": "2022-09-06T00:46:46.985599",
     "status": "completed"
    },
    "tags": []
   },
   "source": [
    "## Preparing the Data"
   ]
  },
  {
   "cell_type": "code",
   "execution_count": 4,
   "id": "7f69d806",
   "metadata": {
    "execution": {
     "iopub.execute_input": "2022-09-06T00:46:47.076193Z",
     "iopub.status.busy": "2022-09-06T00:46:47.075499Z",
     "iopub.status.idle": "2022-09-06T00:46:47.094040Z",
     "shell.execute_reply": "2022-09-06T00:46:47.093400Z"
    },
    "papermill": {
     "duration": 0.051554,
     "end_time": "2022-09-06T00:46:47.094185",
     "exception": false,
     "start_time": "2022-09-06T00:46:47.042631",
     "status": "completed"
    },
    "tags": []
   },
   "outputs": [],
   "source": [
    "import mnist"
   ]
  },
  {
   "cell_type": "code",
   "execution_count": 5,
   "id": "a411e44f",
   "metadata": {
    "execution": {
     "iopub.execute_input": "2022-09-06T00:46:47.157318Z",
     "iopub.status.busy": "2022-09-06T00:46:47.156668Z",
     "iopub.status.idle": "2022-09-06T00:46:47.889393Z",
     "shell.execute_reply": "2022-09-06T00:46:47.888699Z"
    },
    "papermill": {
     "duration": 0.765985,
     "end_time": "2022-09-06T00:46:47.889560",
     "exception": false,
     "start_time": "2022-09-06T00:46:47.123575",
     "status": "completed"
    },
    "tags": []
   },
   "outputs": [],
   "source": [
    "train_images = mnist.train_images()\n",
    "train_labels = mnist.train_labels()"
   ]
  },
  {
   "cell_type": "code",
   "execution_count": 6,
   "id": "dceab3a5",
   "metadata": {
    "execution": {
     "iopub.execute_input": "2022-09-06T00:46:47.950348Z",
     "iopub.status.busy": "2022-09-06T00:46:47.949497Z",
     "iopub.status.idle": "2022-09-06T00:46:47.970606Z",
     "shell.execute_reply": "2022-09-06T00:46:47.969742Z"
    },
    "papermill": {
     "duration": 0.05302,
     "end_time": "2022-09-06T00:46:47.970734",
     "exception": false,
     "start_time": "2022-09-06T00:46:47.917714",
     "status": "completed"
    },
    "tags": []
   },
   "outputs": [
    {
     "data": {
      "text/plain": [
       "((60000, 28, 28), (60000,))"
      ]
     },
     "execution_count": 6,
     "metadata": {},
     "output_type": "execute_result"
    }
   ],
   "source": [
    "train_images.shape, train_labels.shape"
   ]
  },
  {
   "cell_type": "code",
   "execution_count": 7,
   "id": "f50dc2bb",
   "metadata": {
    "execution": {
     "iopub.execute_input": "2022-09-06T00:46:48.038509Z",
     "iopub.status.busy": "2022-09-06T00:46:48.037669Z",
     "iopub.status.idle": "2022-09-06T00:46:48.236576Z",
     "shell.execute_reply": "2022-09-06T00:46:48.235905Z"
    },
    "papermill": {
     "duration": 0.23334,
     "end_time": "2022-09-06T00:46:48.236719",
     "exception": false,
     "start_time": "2022-09-06T00:46:48.003379",
     "status": "completed"
    },
    "tags": []
   },
   "outputs": [],
   "source": [
    "test_images = mnist.test_images()\n",
    "test_labels = mnist.test_labels()"
   ]
  },
  {
   "cell_type": "code",
   "execution_count": 8,
   "id": "fc38cf1b",
   "metadata": {
    "execution": {
     "iopub.execute_input": "2022-09-06T00:46:48.304062Z",
     "iopub.status.busy": "2022-09-06T00:46:48.303362Z",
     "iopub.status.idle": "2022-09-06T00:46:48.319332Z",
     "shell.execute_reply": "2022-09-06T00:46:48.319974Z"
    },
    "papermill": {
     "duration": 0.052825,
     "end_time": "2022-09-06T00:46:48.320126",
     "exception": false,
     "start_time": "2022-09-06T00:46:48.267301",
     "status": "completed"
    },
    "tags": []
   },
   "outputs": [
    {
     "data": {
      "text/plain": [
       "((10000, 28, 28), (10000,))"
      ]
     },
     "execution_count": 8,
     "metadata": {},
     "output_type": "execute_result"
    }
   ],
   "source": [
    "test_images.shape, test_labels.shape"
   ]
  },
  {
   "cell_type": "code",
   "execution_count": 9,
   "id": "f9ed8fe0",
   "metadata": {
    "execution": {
     "iopub.execute_input": "2022-09-06T00:46:48.385486Z",
     "iopub.status.busy": "2022-09-06T00:46:48.384763Z",
     "iopub.status.idle": "2022-09-06T00:46:48.547270Z",
     "shell.execute_reply": "2022-09-06T00:46:48.546693Z"
    },
    "papermill": {
     "duration": 0.196629,
     "end_time": "2022-09-06T00:46:48.547399",
     "exception": false,
     "start_time": "2022-09-06T00:46:48.350770",
     "status": "completed"
    },
    "tags": []
   },
   "outputs": [
    {
     "name": "stdout",
     "output_type": "stream",
     "text": [
      "2\n"
     ]
    },
    {
     "data": {
      "text/plain": [
       "<matplotlib.image.AxesImage at 0x7fb24c5aec50>"
      ]
     },
     "execution_count": 9,
     "metadata": {},
     "output_type": "execute_result"
    },
    {
     "data": {
      "image/png": "[encoded data removed]",
      "text/plain": [
       "<Figure size 432x288 with 1 Axes>"
      ]
     },
     "metadata": {
      "needs_background": "light"
     },
     "output_type": "display_data"
    }
   ],
   "source": [
    "image_index = 7776 # You may select anything up to 60,000\n",
    "print(train_labels[image_index]) \n",
    "plt.imshow(train_images[image_index], cmap='Greys')"
   ]
  },
  {
   "cell_type": "markdown",
   "id": "a8d2388d",
   "metadata": {
    "papermill": {
     "duration": 0.03053,
     "end_time": "2022-09-06T00:46:48.608402",
     "exception": false,
     "start_time": "2022-09-06T00:46:48.577872",
     "status": "completed"
    },
    "tags": []
   },
   "source": [
    "## Filter data to get 3 and 8 out"
   ]
  },
  {
   "cell_type": "code",
   "execution_count": 10,
   "id": "776f7fc7",
   "metadata": {
    "execution": {
     "iopub.execute_input": "2022-09-06T00:46:48.677454Z",
     "iopub.status.busy": "2022-09-06T00:46:48.673950Z",
     "iopub.status.idle": "2022-09-06T00:46:48.696874Z",
     "shell.execute_reply": "2022-09-06T00:46:48.696269Z"
    },
    "papermill": {
     "duration": 0.058553,
     "end_time": "2022-09-06T00:46:48.697005",
     "exception": false,
     "start_time": "2022-09-06T00:46:48.638452",
     "status": "completed"
    },
    "tags": []
   },
   "outputs": [],
   "source": [
    "train_filter = np.where((train_labels == 3 ) | (train_labels == 8))\n",
    "test_filter = np.where((test_labels == 3) | (test_labels == 8))\n",
    "X_train, y_train = train_images[train_filter], train_labels[train_filter]\n",
    "X_test, y_test = test_images[test_filter], test_labels[test_filter]"
   ]
  },
  {
   "cell_type": "markdown",
   "id": "948f0b7e",
   "metadata": {
    "papermill": {
     "duration": 0.030066,
     "end_time": "2022-09-06T00:46:48.757215",
     "exception": false,
     "start_time": "2022-09-06T00:46:48.727149",
     "status": "completed"
    },
    "tags": []
   },
   "source": [
    "We normalize the pizel values in the 0 to 1 range"
   ]
  },
  {
   "cell_type": "code",
   "execution_count": 11,
   "id": "ee4c2166",
   "metadata": {
    "execution": {
     "iopub.execute_input": "2022-09-06T00:46:48.821950Z",
     "iopub.status.busy": "2022-09-06T00:46:48.821293Z",
     "iopub.status.idle": "2022-09-06T00:46:48.882937Z",
     "shell.execute_reply": "2022-09-06T00:46:48.882235Z"
    },
    "papermill": {
     "duration": 0.095725,
     "end_time": "2022-09-06T00:46:48.883092",
     "exception": false,
     "start_time": "2022-09-06T00:46:48.787367",
     "status": "completed"
    },
    "tags": []
   },
   "outputs": [],
   "source": [
    "X_train = X_train/255.\n",
    "X_test = X_test/255."
   ]
  },
  {
   "cell_type": "markdown",
   "id": "ddcf4fab",
   "metadata": {
    "papermill": {
     "duration": 0.029882,
     "end_time": "2022-09-06T00:46:48.943986",
     "exception": false,
     "start_time": "2022-09-06T00:46:48.914104",
     "status": "completed"
    },
    "tags": []
   },
   "source": [
    "And setup the labels as 1 (when the digit is 3) and 0 (when the digit is 8)"
   ]
  },
  {
   "cell_type": "code",
   "execution_count": 12,
   "id": "7dc908f2",
   "metadata": {
    "execution": {
     "iopub.execute_input": "2022-09-06T00:46:49.010155Z",
     "iopub.status.busy": "2022-09-06T00:46:49.009448Z",
     "iopub.status.idle": "2022-09-06T00:46:49.023536Z",
     "shell.execute_reply": "2022-09-06T00:46:49.022967Z"
    },
    "papermill": {
     "duration": 0.049877,
     "end_time": "2022-09-06T00:46:49.023663",
     "exception": false,
     "start_time": "2022-09-06T00:46:48.973786",
     "status": "completed"
    },
    "tags": []
   },
   "outputs": [],
   "source": [
    "y_train = 1*(y_train==3)\n",
    "y_test = 1*(y_test==3)"
   ]
  },
  {
   "cell_type": "code",
   "execution_count": 13,
   "id": "01e4e969",
   "metadata": {
    "execution": {
     "iopub.execute_input": "2022-09-06T00:46:49.088719Z",
     "iopub.status.busy": "2022-09-06T00:46:49.087975Z",
     "iopub.status.idle": "2022-09-06T00:46:49.103738Z",
     "shell.execute_reply": "2022-09-06T00:46:49.103177Z"
    },
    "papermill": {
     "duration": 0.050178,
     "end_time": "2022-09-06T00:46:49.103866",
     "exception": false,
     "start_time": "2022-09-06T00:46:49.053688",
     "status": "completed"
    },
    "tags": []
   },
   "outputs": [
    {
     "data": {
      "text/plain": [
       "((11982, 28, 28), (1984, 28, 28))"
      ]
     },
     "execution_count": 13,
     "metadata": {},
     "output_type": "execute_result"
    }
   ],
   "source": [
    "X_train.shape, X_test.shape"
   ]
  },
  {
   "cell_type": "markdown",
   "id": "5ccf3f85",
   "metadata": {
    "papermill": {
     "duration": 0.03029,
     "end_time": "2022-09-06T00:46:49.164236",
     "exception": false,
     "start_time": "2022-09-06T00:46:49.133946",
     "status": "completed"
    },
    "tags": []
   },
   "source": [
    "We reshape the data to flatten the image pixels into a set of features or co-variates:"
   ]
  },
  {
   "cell_type": "code",
   "execution_count": 14,
   "id": "5286a4a3",
   "metadata": {
    "execution": {
     "iopub.execute_input": "2022-09-06T00:46:49.230582Z",
     "iopub.status.busy": "2022-09-06T00:46:49.229887Z",
     "iopub.status.idle": "2022-09-06T00:46:49.246188Z",
     "shell.execute_reply": "2022-09-06T00:46:49.246750Z"
    },
    "papermill": {
     "duration": 0.051797,
     "end_time": "2022-09-06T00:46:49.246902",
     "exception": false,
     "start_time": "2022-09-06T00:46:49.195105",
     "status": "completed"
    },
    "tags": []
   },
   "outputs": [
    {
     "data": {
      "text/plain": [
       "((11982, 784), (1984, 784))"
      ]
     },
     "execution_count": 14,
     "metadata": {},
     "output_type": "execute_result"
    }
   ],
   "source": [
    "X_train = X_train.reshape(X_train.shape[0], -1)\n",
    "X_test = X_test.reshape(X_test.shape[0], -1)\n",
    "X_train.shape, X_test.shape"
   ]
  },
  {
   "cell_type": "code",
   "execution_count": 15,
   "id": "73c5f88a",
   "metadata": {
    "execution": {
     "iopub.execute_input": "2022-09-06T00:46:49.313885Z",
     "iopub.status.busy": "2022-09-06T00:46:49.313183Z",
     "iopub.status.idle": "2022-09-06T00:46:49.334976Z",
     "shell.execute_reply": "2022-09-06T00:46:49.334406Z"
    },
    "papermill": {
     "duration": 0.057432,
     "end_time": "2022-09-06T00:46:49.335104",
     "exception": false,
     "start_time": "2022-09-06T00:46:49.277672",
     "status": "completed"
    },
    "tags": []
   },
   "outputs": [],
   "source": [
    "#Impoting functions from 'Kudzu'\n",
    "from kudzu.model import Model\n",
    "from kudzu.train import Learner\n",
    "from kudzu.optim import GD\n",
    "from kudzu.data import Data, Sampler,Dataloader\n",
    "\n",
    "from kudzu.callbacks import AccCallback\n",
    "from kudzu.callbacks import ClfCallback\n",
    "\n",
    "from kudzu.loss import MSE\n",
    "\n",
    "from kudzu.layer import Sigmoid,Relu\n",
    "from kudzu.layer import Affine"
   ]
  },
  {
   "cell_type": "markdown",
   "id": "bc01172a",
   "metadata": {
    "papermill": {
     "duration": 0.030443,
     "end_time": "2022-09-06T00:46:49.395463",
     "exception": false,
     "start_time": "2022-09-06T00:46:49.365020",
     "status": "completed"
    },
    "tags": []
   },
   "source": [
    "### Let us create a `Config` class, to store important parameters. \n",
    "This class essentially plays the role of a dictionary."
   ]
  },
  {
   "cell_type": "code",
   "execution_count": 16,
   "id": "978281aa",
   "metadata": {
    "execution": {
     "iopub.execute_input": "2022-09-06T00:46:49.462285Z",
     "iopub.status.busy": "2022-09-06T00:46:49.461582Z",
     "iopub.status.idle": "2022-09-06T00:46:49.475766Z",
     "shell.execute_reply": "2022-09-06T00:46:49.476358Z"
    },
    "papermill": {
     "duration": 0.050407,
     "end_time": "2022-09-06T00:46:49.476515",
     "exception": false,
     "start_time": "2022-09-06T00:46:49.426108",
     "status": "completed"
    },
    "tags": []
   },
   "outputs": [],
   "source": [
    "class Config:\n",
    "    pass\n",
    "config = Config()\n",
    "config.lr = 0.001\n",
    "config.num_epochs = 250\n",
    "config.bs = 50"
   ]
  },
  {
   "cell_type": "markdown",
   "id": "1385fa59",
   "metadata": {
    "papermill": {
     "duration": 0.030641,
     "end_time": "2022-09-06T00:46:49.538023",
     "exception": false,
     "start_time": "2022-09-06T00:46:49.507382",
     "status": "completed"
    },
    "tags": []
   },
   "source": [
    "### Running Models with the Training data\n",
    "Details about the network layers:\n",
    "- A first affine layer has 784 inputs and does 100 affine transforms. These are followed by a Relu\n",
    "- A second affine layer has 100 inputs from the 100 activations of the past layer, and does 100 affine transforms. These are followed by a Relu\n",
    "- A third affine layer has 100 activations and does 2 affine transformations to create an embedding for visualization. There is no non-linearity here.\n",
    "- A final \"logistic regression\" which has an affine transform from 2 inputs to 1 output, which is squeezed through a sigmoid.\n"
   ]
  },
  {
   "cell_type": "code",
   "execution_count": 17,
   "id": "2b9c66db",
   "metadata": {
    "execution": {
     "iopub.execute_input": "2022-09-06T00:46:49.607694Z",
     "iopub.status.busy": "2022-09-06T00:46:49.606964Z",
     "iopub.status.idle": "2022-09-06T00:46:49.621136Z",
     "shell.execute_reply": "2022-09-06T00:46:49.620545Z"
    },
    "papermill": {
     "duration": 0.052546,
     "end_time": "2022-09-06T00:46:49.621271",
     "exception": false,
     "start_time": "2022-09-06T00:46:49.568725",
     "status": "completed"
    },
    "tags": []
   },
   "outputs": [],
   "source": [
    "data = Data(X_train, y_train.reshape(-1,1))\n",
    "sampler = Sampler(data, config.bs, shuffle=True)\n",
    "\n",
    "dl = Dataloader(data, sampler)\n",
    "\n",
    "opt = GD(config.lr)\n",
    "loss = MSE()"
   ]
  },
  {
   "cell_type": "code",
   "execution_count": 18,
   "id": "b275e4c2",
   "metadata": {
    "execution": {
     "iopub.execute_input": "2022-09-06T00:46:49.688116Z",
     "iopub.status.busy": "2022-09-06T00:46:49.687373Z",
     "iopub.status.idle": "2022-09-06T00:46:49.701728Z",
     "shell.execute_reply": "2022-09-06T00:46:49.701156Z"
    },
    "papermill": {
     "duration": 0.04956,
     "end_time": "2022-09-06T00:46:49.701859",
     "exception": false,
     "start_time": "2022-09-06T00:46:49.652299",
     "status": "completed"
    },
    "tags": []
   },
   "outputs": [],
   "source": [
    "training_data_x = X_train\n",
    "testing_data_x = X_test\n",
    "training_data_y = y_train.reshape(-1,1)\n",
    "testing_data_y = y_test.reshape(-1,1)"
   ]
  },
  {
   "cell_type": "code",
   "execution_count": 19,
   "id": "76951160",
   "metadata": {
    "execution": {
     "iopub.execute_input": "2022-09-06T00:46:49.770529Z",
     "iopub.status.busy": "2022-09-06T00:46:49.769801Z",
     "iopub.status.idle": "2022-09-06T00:46:49.790765Z",
     "shell.execute_reply": "2022-09-06T00:46:49.790201Z"
    },
    "papermill": {
     "duration": 0.055656,
     "end_time": "2022-09-06T00:46:49.791010",
     "exception": false,
     "start_time": "2022-09-06T00:46:49.735354",
     "status": "completed"
    },
    "tags": []
   },
   "outputs": [
    {
     "name": "stdout",
     "output_type": "stream",
     "text": [
      "xavier\n",
      "xavier\n",
      "xavier\n",
      "xavier\n",
      "xavier\n"
     ]
    }
   ],
   "source": [
    "layers = [Affine(\"first\", 784, 100), Relu(\"first\"), Affine(\"second\", 100, 100), Relu(\"second\"), Affine(\"third\", 100, 2), Affine(\"last\", 2, 1), Sigmoid(\"last\")]\n",
    "model_nn = Model(layers)\n",
    "model_lr = Model([Affine(\"logits\", 784, 1), Sigmoid(\"sigmoid\")])"
   ]
  },
  {
   "cell_type": "code",
   "execution_count": 20,
   "id": "6eede77a",
   "metadata": {
    "execution": {
     "iopub.execute_input": "2022-09-06T00:46:49.862496Z",
     "iopub.status.busy": "2022-09-06T00:46:49.861137Z",
     "iopub.status.idle": "2022-09-06T00:46:49.876051Z",
     "shell.execute_reply": "2022-09-06T00:46:49.875245Z"
    },
    "papermill": {
     "duration": 0.05153,
     "end_time": "2022-09-06T00:46:49.876200",
     "exception": false,
     "start_time": "2022-09-06T00:46:49.824670",
     "status": "completed"
    },
    "tags": []
   },
   "outputs": [],
   "source": [
    "nn_learner = Learner(loss, model_nn, opt, config.num_epochs)\n",
    "acc_nn = ClfCallback(nn_learner, config.bs, training_data_x , testing_data_x, training_data_y, testing_data_y)\n",
    "nn_learner.set_callbacks([acc_nn])"
   ]
  },
  {
   "cell_type": "code",
   "execution_count": 21,
   "id": "877b6cc7",
   "metadata": {
    "execution": {
     "iopub.execute_input": "2022-09-06T00:46:49.945256Z",
     "iopub.status.busy": "2022-09-06T00:46:49.944539Z",
     "iopub.status.idle": "2022-09-06T00:46:49.959884Z",
     "shell.execute_reply": "2022-09-06T00:46:49.959355Z"
    },
    "papermill": {
     "duration": 0.051489,
     "end_time": "2022-09-06T00:46:49.960031",
     "exception": false,
     "start_time": "2022-09-06T00:46:49.908542",
     "status": "completed"
    },
    "tags": []
   },
   "outputs": [],
   "source": [
    "lr_learner = Learner(loss, model_lr, opt, config.num_epochs)\n",
    "acc_lr = ClfCallback(lr_learner, config.bs, training_data_x , testing_data_x, training_data_y, testing_data_y)\n",
    "lr_learner.set_callbacks([acc_lr])"
   ]
  },
  {
   "cell_type": "code",
   "execution_count": 22,
   "id": "d9b133c3",
   "metadata": {
    "execution": {
     "iopub.execute_input": "2022-09-06T00:46:50.028738Z",
     "iopub.status.busy": "2022-09-06T00:46:50.027996Z",
     "iopub.status.idle": "2022-09-06T00:48:19.633217Z",
     "shell.execute_reply": "2022-09-06T00:48:19.634220Z"
    },
    "papermill": {
     "duration": 89.642502,
     "end_time": "2022-09-06T00:48:19.634394",
     "exception": false,
     "start_time": "2022-09-06T00:46:49.991892",
     "status": "completed"
    },
    "tags": []
   },
   "outputs": [
    {
     "name": "stdout",
     "output_type": "stream",
     "text": [
      "Epoch 0, Loss 0.2421\n",
      "Training Accuracy: 0.6381, Testing Accuracy: 0.6371\n",
      "\n"
     ]
    },
    {
     "name": "stdout",
     "output_type": "stream",
     "text": [
      "Epoch 10, Loss 0.1293\n",
      "Training Accuracy: 0.8946, Testing Accuracy: 0.9017\n",
      "\n"
     ]
    },
    {
     "name": "stdout",
     "output_type": "stream",
     "text": [
      "Epoch 20, Loss 0.0714\n",
      "Training Accuracy: 0.9271, Testing Accuracy: 0.9405\n",
      "\n"
     ]
    },
    {
     "name": "stdout",
     "output_type": "stream",
     "text": [
      "Epoch 30, Loss 0.052\n",
      "Training Accuracy: 0.9432, Testing Accuracy: 0.9536\n",
      "\n"
     ]
    },
    {
     "name": "stdout",
     "output_type": "stream",
     "text": [
      "Epoch 40, Loss 0.0429\n",
      "Training Accuracy: 0.9528, Testing Accuracy: 0.9587\n",
      "\n"
     ]
    },
    {
     "name": "stdout",
     "output_type": "stream",
     "text": [
      "Epoch 50, Loss 0.0378\n",
      "Training Accuracy: 0.9582, Testing Accuracy: 0.9642\n",
      "\n"
     ]
    },
    {
     "name": "stdout",
     "output_type": "stream",
     "text": [
      "Epoch 60, Loss 0.0345\n",
      "Training Accuracy: 0.9624, Testing Accuracy: 0.9672\n",
      "\n"
     ]
    },
    {
     "name": "stdout",
     "output_type": "stream",
     "text": [
      "Epoch 70, Loss 0.0321\n",
      "Training Accuracy: 0.9643, Testing Accuracy: 0.9677\n",
      "\n"
     ]
    },
    {
     "name": "stdout",
     "output_type": "stream",
     "text": [
      "Epoch 80, Loss 0.0303\n",
      "Training Accuracy: 0.9655, Testing Accuracy: 0.9693\n",
      "\n"
     ]
    },
    {
     "name": "stdout",
     "output_type": "stream",
     "text": [
      "Epoch 90, Loss 0.0289\n",
      "Training Accuracy: 0.9668, Testing Accuracy: 0.9688\n",
      "\n"
     ]
    },
    {
     "name": "stdout",
     "output_type": "stream",
     "text": [
      "Epoch 100, Loss 0.0277\n",
      "Training Accuracy: 0.9685, Testing Accuracy: 0.9693\n",
      "\n"
     ]
    },
    {
     "name": "stdout",
     "output_type": "stream",
     "text": [
      "Epoch 110, Loss 0.0267\n",
      "Training Accuracy: 0.9700, Testing Accuracy: 0.9698\n",
      "\n"
     ]
    },
    {
     "name": "stdout",
     "output_type": "stream",
     "text": [
      "Epoch 120, Loss 0.0258\n",
      "Training Accuracy: 0.9710, Testing Accuracy: 0.9718\n",
      "\n"
     ]
    },
    {
     "name": "stdout",
     "output_type": "stream",
     "text": [
      "Epoch 130, Loss 0.025\n",
      "Training Accuracy: 0.9720, Testing Accuracy: 0.9723\n",
      "\n"
     ]
    },
    {
     "name": "stdout",
     "output_type": "stream",
     "text": [
      "Epoch 140, Loss 0.0243\n",
      "Training Accuracy: 0.9726, Testing Accuracy: 0.9723\n",
      "\n"
     ]
    },
    {
     "name": "stdout",
     "output_type": "stream",
     "text": [
      "Epoch 150, Loss 0.0236\n",
      "Training Accuracy: 0.9737, Testing Accuracy: 0.9723\n",
      "\n"
     ]
    },
    {
     "name": "stdout",
     "output_type": "stream",
     "text": [
      "Epoch 160, Loss 0.0231\n",
      "Training Accuracy: 0.9740, Testing Accuracy: 0.9723\n",
      "\n"
     ]
    },
    {
     "name": "stdout",
     "output_type": "stream",
     "text": [
      "Epoch 170, Loss 0.0225\n",
      "Training Accuracy: 0.9747, Testing Accuracy: 0.9718\n",
      "\n"
     ]
    },
    {
     "name": "stdout",
     "output_type": "stream",
     "text": [
      "Epoch 180, Loss 0.022\n",
      "Training Accuracy: 0.9750, Testing Accuracy: 0.9723\n",
      "\n"
     ]
    },
    {
     "name": "stdout",
     "output_type": "stream",
     "text": [
      "Epoch 190, Loss 0.0215\n",
      "Training Accuracy: 0.9754, Testing Accuracy: 0.9723\n",
      "\n"
     ]
    },
    {
     "name": "stdout",
     "output_type": "stream",
     "text": [
      "Epoch 200, Loss 0.0211\n",
      "Training Accuracy: 0.9758, Testing Accuracy: 0.9728\n",
      "\n"
     ]
    },
    {
     "name": "stdout",
     "output_type": "stream",
     "text": [
      "Epoch 210, Loss 0.0207\n",
      "Training Accuracy: 0.9760, Testing Accuracy: 0.9728\n",
      "\n"
     ]
    },
    {
     "name": "stdout",
     "output_type": "stream",
     "text": [
      "Epoch 220, Loss 0.0203\n",
      "Training Accuracy: 0.9764, Testing Accuracy: 0.9728\n",
      "\n"
     ]
    },
    {
     "name": "stdout",
     "output_type": "stream",
     "text": [
      "Epoch 230, Loss 0.0199\n",
      "Training Accuracy: 0.9773, Testing Accuracy: 0.9738\n",
      "\n"
     ]
    },
    {
     "name": "stdout",
     "output_type": "stream",
     "text": [
      "Epoch 240, Loss 0.0195\n",
      "Training Accuracy: 0.9776, Testing Accuracy: 0.9738\n",
      "\n"
     ]
    },
    {
     "data": {
      "text/plain": [
       "0.0037576519954966533"
      ]
     },
     "execution_count": 22,
     "metadata": {},
     "output_type": "execute_result"
    }
   ],
   "source": [
    "nn_learner.train_loop(dl)"
   ]
  },
  {
   "cell_type": "code",
   "execution_count": 23,
   "id": "e0163366",
   "metadata": {
    "execution": {
     "iopub.execute_input": "2022-09-06T00:48:19.745827Z",
     "iopub.status.busy": "2022-09-06T00:48:19.745068Z",
     "iopub.status.idle": "2022-09-06T00:48:35.604631Z",
     "shell.execute_reply": "2022-09-06T00:48:35.605549Z"
    },
    "papermill": {
     "duration": 15.930952,
     "end_time": "2022-09-06T00:48:35.605726",
     "exception": false,
     "start_time": "2022-09-06T00:48:19.674774",
     "status": "completed"
    },
    "tags": []
   },
   "outputs": [
    {
     "name": "stdout",
     "output_type": "stream",
     "text": [
      "Epoch 0, Loss 0.2551\n",
      "Training Accuracy: 0.6297, Testing Accuracy: 0.6673\n",
      "\n"
     ]
    },
    {
     "name": "stdout",
     "output_type": "stream",
     "text": [
      "Epoch 10, Loss 0.1053\n",
      "Training Accuracy: 0.9049, Testing Accuracy: 0.9173\n",
      "\n"
     ]
    },
    {
     "name": "stdout",
     "output_type": "stream",
     "text": [
      "Epoch 20, Loss 0.0811\n",
      "Training Accuracy: 0.9229, Testing Accuracy: 0.9320\n",
      "\n"
     ]
    },
    {
     "name": "stdout",
     "output_type": "stream",
     "text": [
      "Epoch 30, Loss 0.0699\n",
      "Training Accuracy: 0.9326, Testing Accuracy: 0.9385\n",
      "\n"
     ]
    },
    {
     "name": "stdout",
     "output_type": "stream",
     "text": [
      "Epoch 40, Loss 0.063\n",
      "Training Accuracy: 0.9390, Testing Accuracy: 0.9446\n",
      "\n"
     ]
    },
    {
     "name": "stdout",
     "output_type": "stream",
     "text": [
      "Epoch 50, Loss 0.0583\n",
      "Training Accuracy: 0.9437, Testing Accuracy: 0.9516\n",
      "\n"
     ]
    },
    {
     "name": "stdout",
     "output_type": "stream",
     "text": [
      "Epoch 60, Loss 0.0549\n",
      "Training Accuracy: 0.9458, Testing Accuracy: 0.9561\n",
      "\n"
     ]
    },
    {
     "name": "stdout",
     "output_type": "stream",
     "text": [
      "Epoch 70, Loss 0.0522\n",
      "Training Accuracy: 0.9480, Testing Accuracy: 0.9567\n",
      "\n"
     ]
    },
    {
     "name": "stdout",
     "output_type": "stream",
     "text": [
      "Epoch 80, Loss 0.0501\n",
      "Training Accuracy: 0.9489, Testing Accuracy: 0.9582\n",
      "\n"
     ]
    },
    {
     "name": "stdout",
     "output_type": "stream",
     "text": [
      "Epoch 90, Loss 0.0484\n",
      "Training Accuracy: 0.9499, Testing Accuracy: 0.9617\n",
      "\n"
     ]
    },
    {
     "name": "stdout",
     "output_type": "stream",
     "text": [
      "Epoch 100, Loss 0.0469\n",
      "Training Accuracy: 0.9510, Testing Accuracy: 0.9612\n",
      "\n"
     ]
    },
    {
     "name": "stdout",
     "output_type": "stream",
     "text": [
      "Epoch 110, Loss 0.0456\n",
      "Training Accuracy: 0.9521, Testing Accuracy: 0.9627\n",
      "\n"
     ]
    },
    {
     "name": "stdout",
     "output_type": "stream",
     "text": [
      "Epoch 120, Loss 0.0445\n",
      "Training Accuracy: 0.9531, Testing Accuracy: 0.9642\n",
      "\n"
     ]
    },
    {
     "name": "stdout",
     "output_type": "stream",
     "text": [
      "Epoch 130, Loss 0.0436\n",
      "Training Accuracy: 0.9539, Testing Accuracy: 0.9647\n",
      "\n"
     ]
    },
    {
     "name": "stdout",
     "output_type": "stream",
     "text": [
      "Epoch 140, Loss 0.0427\n",
      "Training Accuracy: 0.9548, Testing Accuracy: 0.9652\n",
      "\n"
     ]
    },
    {
     "name": "stdout",
     "output_type": "stream",
     "text": [
      "Epoch 150, Loss 0.0419\n",
      "Training Accuracy: 0.9557, Testing Accuracy: 0.9652\n",
      "\n"
     ]
    },
    {
     "name": "stdout",
     "output_type": "stream",
     "text": [
      "Epoch 160, Loss 0.0412\n",
      "Training Accuracy: 0.9562, Testing Accuracy: 0.9647\n",
      "\n"
     ]
    },
    {
     "name": "stdout",
     "output_type": "stream",
     "text": [
      "Epoch 170, Loss 0.0406\n",
      "Training Accuracy: 0.9568, Testing Accuracy: 0.9647\n",
      "\n"
     ]
    },
    {
     "name": "stdout",
     "output_type": "stream",
     "text": [
      "Epoch 180, Loss 0.04\n",
      "Training Accuracy: 0.9573, Testing Accuracy: 0.9647\n",
      "\n"
     ]
    },
    {
     "name": "stdout",
     "output_type": "stream",
     "text": [
      "Epoch 190, Loss 0.0395\n",
      "Training Accuracy: 0.9579, Testing Accuracy: 0.9652\n",
      "\n"
     ]
    },
    {
     "name": "stdout",
     "output_type": "stream",
     "text": [
      "Epoch 200, Loss 0.039\n",
      "Training Accuracy: 0.9583, Testing Accuracy: 0.9652\n",
      "\n"
     ]
    },
    {
     "name": "stdout",
     "output_type": "stream",
     "text": [
      "Epoch 210, Loss 0.0386\n",
      "Training Accuracy: 0.9586, Testing Accuracy: 0.9657\n",
      "\n"
     ]
    },
    {
     "name": "stdout",
     "output_type": "stream",
     "text": [
      "Epoch 220, Loss 0.0381\n",
      "Training Accuracy: 0.9587, Testing Accuracy: 0.9662\n",
      "\n"
     ]
    },
    {
     "name": "stdout",
     "output_type": "stream",
     "text": [
      "Epoch 230, Loss 0.0377\n",
      "Training Accuracy: 0.9594, Testing Accuracy: 0.9667\n",
      "\n"
     ]
    },
    {
     "name": "stdout",
     "output_type": "stream",
     "text": [
      "Epoch 240, Loss 0.0374\n",
      "Training Accuracy: 0.9597, Testing Accuracy: 0.9667\n",
      "\n"
     ]
    },
    {
     "data": {
      "text/plain": [
       "0.035521836193552175"
      ]
     },
     "execution_count": 23,
     "metadata": {},
     "output_type": "execute_result"
    }
   ],
   "source": [
    "lr_learner.train_loop(dl)"
   ]
  },
  {
   "cell_type": "code",
   "execution_count": 24,
   "id": "ca410940",
   "metadata": {
    "execution": {
     "iopub.execute_input": "2022-09-06T00:48:35.708351Z",
     "iopub.status.busy": "2022-09-06T00:48:35.707587Z",
     "iopub.status.idle": "2022-09-06T00:48:35.976389Z",
     "shell.execute_reply": "2022-09-06T00:48:35.975768Z"
    },
    "papermill": {
     "duration": 0.323495,
     "end_time": "2022-09-06T00:48:35.976531",
     "exception": false,
     "start_time": "2022-09-06T00:48:35.653036",
     "status": "completed"
    },
    "tags": []
   },
   "outputs": [
    {
     "data": {
      "text/plain": [
       "<matplotlib.legend.Legend at 0x7fb24c11b438>"
      ]
     },
     "execution_count": 24,
     "metadata": {},
     "output_type": "execute_result"
    },
    {
     "data": {
      "image/png": "[encoded data removed]",
      "text/plain": [
       "<Figure size 1080x720 with 1 Axes>"
      ]
     },
     "metadata": {
      "needs_background": "light"
     },
     "output_type": "display_data"
    }
   ],
   "source": [
    "#comparing the results of NN and LR\n",
    "plt.figure(figsize=(15,10))\n",
    "\n",
    "# Neural Network plots\n",
    "plt.plot(acc_nn.accuracies, 'r-', label = \"Training Accuracies - NN\")\n",
    "plt.plot(acc_nn.test_accuracies, 'g-', label = \"Testing Accuracies - NN\")\n",
    "\n",
    "# Logistic Regression plots\n",
    "plt.plot(acc_lr.accuracies, 'k-', label = \"Training Accuracies - LR\")\n",
    "plt.plot(acc_lr.test_accuracies, 'b-', label = \"Testing Accuracies - LR\")\n",
    "plt.legend()"
   ]
  },
  {
   "cell_type": "markdown",
   "id": "80dfb35c",
   "metadata": {
    "papermill": {
     "duration": 0.048123,
     "end_time": "2022-09-06T00:48:36.072830",
     "exception": false,
     "start_time": "2022-09-06T00:48:36.024707",
     "status": "completed"
    },
    "tags": []
   },
   "source": [
    "#### Plotting the outputs of this layer of the NN.\n"
   ]
  },
  {
   "cell_type": "code",
   "execution_count": 25,
   "id": "45eb2ff5",
   "metadata": {
    "execution": {
     "iopub.execute_input": "2022-09-06T00:48:36.175224Z",
     "iopub.status.busy": "2022-09-06T00:48:36.174229Z",
     "iopub.status.idle": "2022-09-06T00:48:36.199773Z",
     "shell.execute_reply": "2022-09-06T00:48:36.200520Z"
    },
    "papermill": {
     "duration": 0.080157,
     "end_time": "2022-09-06T00:48:36.200709",
     "exception": false,
     "start_time": "2022-09-06T00:48:36.120552",
     "status": "completed"
    },
    "tags": []
   },
   "outputs": [],
   "source": [
    "new_model = Model(layers[:-2])\n",
    "testing_plot = new_model(testing_data_x)"
   ]
  },
  {
   "cell_type": "code",
   "execution_count": 26,
   "id": "4c0a5485",
   "metadata": {
    "execution": {
     "iopub.execute_input": "2022-09-06T00:48:36.304624Z",
     "iopub.status.busy": "2022-09-06T00:48:36.303887Z",
     "iopub.status.idle": "2022-09-06T00:48:36.550720Z",
     "shell.execute_reply": "2022-09-06T00:48:36.550159Z"
    },
    "papermill": {
     "duration": 0.301632,
     "end_time": "2022-09-06T00:48:36.550861",
     "exception": false,
     "start_time": "2022-09-06T00:48:36.249229",
     "status": "completed"
    },
    "tags": []
   },
   "outputs": [
    {
     "data": {
      "text/plain": [
       "Text(0.5, 1.0, 'Outputs')"
      ]
     },
     "execution_count": 26,
     "metadata": {},
     "output_type": "execute_result"
    },
    {
     "data": {
      "image/png": "[encoded data removed]",
      "text/plain": [
       "<Figure size 576x504 with 1 Axes>"
      ]
     },
     "metadata": {
      "needs_background": "light"
     },
     "output_type": "display_data"
    }
   ],
   "source": [
    "# Plotting the scatter plot of points and color coding by class\n",
    "plt.figure(figsize=(8,7))\n",
    "plt.scatter(testing_plot[:,0], testing_plot[:,1], alpha = 0.1, c = y_test.ravel());\n",
    "plt.title('Outputs')"
   ]
  },
  {
   "cell_type": "markdown",
   "id": "a74fcf8f",
   "metadata": {
    "papermill": {
     "duration": 0.054312,
     "end_time": "2022-09-06T00:48:36.666864",
     "exception": false,
     "start_time": "2022-09-06T00:48:36.612552",
     "status": "completed"
    },
    "tags": []
   },
   "source": [
    "Probability contours"
   ]
  },
  {
   "cell_type": "code",
   "execution_count": 27,
   "id": "d0afc8e3",
   "metadata": {
    "execution": {
     "iopub.execute_input": "2022-09-06T00:48:36.819489Z",
     "iopub.status.busy": "2022-09-06T00:48:36.817867Z",
     "iopub.status.idle": "2022-09-06T00:48:36.829198Z",
     "shell.execute_reply": "2022-09-06T00:48:36.829727Z"
    },
    "papermill": {
     "duration": 0.07559,
     "end_time": "2022-09-06T00:48:36.829878",
     "exception": false,
     "start_time": "2022-09-06T00:48:36.754288",
     "status": "completed"
    },
    "tags": []
   },
   "outputs": [],
   "source": [
    "model_prob = Model(layers[-2:]) "
   ]
  },
  {
   "cell_type": "code",
   "execution_count": 28,
   "id": "9b96e238",
   "metadata": {
    "execution": {
     "iopub.execute_input": "2022-09-06T00:48:36.945985Z",
     "iopub.status.busy": "2022-09-06T00:48:36.945045Z",
     "iopub.status.idle": "2022-09-06T00:48:36.962730Z",
     "shell.execute_reply": "2022-09-06T00:48:36.961660Z"
    },
    "papermill": {
     "duration": 0.075874,
     "end_time": "2022-09-06T00:48:36.962867",
     "exception": false,
     "start_time": "2022-09-06T00:48:36.886993",
     "status": "completed"
    },
    "tags": []
   },
   "outputs": [],
   "source": [
    "#creating the x and y ranges according to the above generated plot.\n",
    "x_range = np.linspace(-4, 1, 100) \n",
    "y_range = np.linspace(-6, 6, 100) \n",
    "x_grid, y_grid = np.meshgrid(x_range, y_range) # x_grid and y_grig are of size 100 X 100\n",
    "\n",
    "# converting x_grid and y_grid to continuous arrays\n",
    "x_gridflat = np.ravel(x_grid)\n",
    "y_gridflat = np.ravel(y_grid)\n",
    "\n",
    "# The last layer of the current model takes two columns as input. Hence transpose of np.vstack() is required.\n",
    "X = np.vstack((x_gridflat, y_gridflat)).T\n",
    "\n",
    "prob_contour = model_prob(X).reshape(100,100) "
   ]
  },
  {
   "cell_type": "code",
   "execution_count": 29,
   "id": "da72499a",
   "metadata": {
    "execution": {
     "iopub.execute_input": "2022-09-06T00:48:37.088468Z",
     "iopub.status.busy": "2022-09-06T00:48:37.087610Z",
     "iopub.status.idle": "2022-09-06T00:48:37.368035Z",
     "shell.execute_reply": "2022-09-06T00:48:37.367448Z"
    },
    "papermill": {
     "duration": 0.345714,
     "end_time": "2022-09-06T00:48:37.368173",
     "exception": false,
     "start_time": "2022-09-06T00:48:37.022459",
     "status": "completed"
    },
    "tags": []
   },
   "outputs": [
    {
     "data": {
      "image/png": "[encoded data removed]",
      "text/plain": [
       "<Figure size 720x648 with 1 Axes>"
      ]
     },
     "metadata": {
      "needs_background": "light"
     },
     "output_type": "display_data"
    }
   ],
   "source": [
    "plt.figure(figsize=(10,9))\n",
    "plt.scatter(testing_plot[:,0], testing_plot[:,1], alpha = 0.1, c = y_test.ravel())\n",
    "contours = plt.contour(x_grid,y_grid,prob_contour)\n",
    "plt.title('Probability Contours')\n",
    "plt.clabel(contours, inline = True );"
   ]
  },
  {
   "cell_type": "code",
   "execution_count": null,
   "id": "e81b4ac7",
   "metadata": {
    "papermill": {
     "duration": 0.054077,
     "end_time": "2022-09-06T00:48:37.476937",
     "exception": false,
     "start_time": "2022-09-06T00:48:37.422860",
     "status": "completed"
    },
    "tags": []
   },
   "outputs": [],
   "source": []
  }
 ],
 "metadata": {
  "kernelspec": {
   "display_name": "Python 3",
   "language": "python",
   "name": "python3"
  },
  "language_info": {
   "codemirror_mode": {
    "name": "ipython",
    "version": 3
   },
   "file_extension": ".py",
   "mimetype": "text/x-python",
   "name": "python",
   "nbconvert_exporter": "python",
   "pygments_lexer": "ipython3",
   "version": "3.6.15"
  },
  "papermill": {
   "default_parameters": {},
   "duration": 115.183635,
   "end_time": "2022-09-06T00:48:38.052035",
   "environment_variables": {},
   "exception": null,
   "input_path": "2020-08-11-part2.ipynb",
   "output_path": "2020-08-11-part2.ipynb",
   "parameters": {},
   "start_time": "2022-09-06T00:46:42.868400",
   "version": "2.3.3"
  }
 },
 "nbformat": 4,
 "nbformat_minor": 5
}