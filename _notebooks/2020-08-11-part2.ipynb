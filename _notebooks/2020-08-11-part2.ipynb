{
 "cells": [
  {
   "cell_type": "markdown",
   "id": "98380cd3",
   "metadata": {
    "papermill": {
     "duration": 0.02915,
     "end_time": "2022-04-21T10:10:07.108367",
     "exception": false,
     "start_time": "2022-04-21T10:10:07.079217",
     "status": "completed"
    },
    "tags": []
   },
   "source": [
    "# Distinguish Your Own Digits (DYOD)"
   ]
  },
  {
   "cell_type": "markdown",
   "id": "ef31240d",
   "metadata": {
    "papermill": {
     "duration": 0.025302,
     "end_time": "2022-04-21T10:10:07.158123",
     "exception": false,
     "start_time": "2022-04-21T10:10:07.132821",
     "status": "completed"
    },
    "tags": []
   },
   "source": [
    "You are going to write a classifier that distinguishes between the number 3 and number 8."
   ]
  },
  {
   "cell_type": "code",
   "execution_count": 1,
   "id": "b15c8646",
   "metadata": {
    "execution": {
     "iopub.execute_input": "2022-04-21T10:10:07.215637Z",
     "iopub.status.busy": "2022-04-21T10:10:07.215113Z",
     "iopub.status.idle": "2022-04-21T10:10:07.225757Z",
     "shell.execute_reply": "2022-04-21T10:10:07.226196Z"
    },
    "papermill": {
     "duration": 0.044522,
     "end_time": "2022-04-21T10:10:07.226337",
     "exception": false,
     "start_time": "2022-04-21T10:10:07.181815",
     "status": "completed"
    },
    "tags": []
   },
   "outputs": [],
   "source": [
    "%load_ext autoreload\n",
    "%autoreload 2"
   ]
  },
  {
   "cell_type": "code",
   "execution_count": 2,
   "id": "22ef38dc",
   "metadata": {
    "execution": {
     "iopub.execute_input": "2022-04-21T10:10:07.285034Z",
     "iopub.status.busy": "2022-04-21T10:10:07.284526Z",
     "iopub.status.idle": "2022-04-21T10:10:07.802550Z",
     "shell.execute_reply": "2022-04-21T10:10:07.802008Z"
    },
    "papermill": {
     "duration": 0.552637,
     "end_time": "2022-04-21T10:10:07.802696",
     "exception": false,
     "start_time": "2022-04-21T10:10:07.250059",
     "status": "completed"
    },
    "tags": []
   },
   "outputs": [],
   "source": [
    "%matplotlib inline\n",
    "import numpy as np\n",
    "import matplotlib.pyplot as plt\n",
    "import pandas as pd"
   ]
  },
  {
   "cell_type": "markdown",
   "id": "ba036198",
   "metadata": {
    "papermill": {
     "duration": 0.024247,
     "end_time": "2022-04-21T10:10:07.859966",
     "exception": false,
     "start_time": "2022-04-21T10:10:07.835719",
     "status": "completed"
    },
    "tags": []
   },
   "source": [
    "From the command line run `pip install mnist`. This is a library that will help you bring down the mnist dataset. If you run this from a notebook, you need to put  `!pip install mnist` in a cell by itself."
   ]
  },
  {
   "cell_type": "code",
   "execution_count": 3,
   "id": "bb6ad8a1",
   "metadata": {
    "execution": {
     "iopub.execute_input": "2022-04-21T10:10:07.911724Z",
     "iopub.status.busy": "2022-04-21T10:10:07.911211Z",
     "iopub.status.idle": "2022-04-21T10:10:09.643434Z",
     "shell.execute_reply": "2022-04-21T10:10:09.642924Z"
    },
    "papermill": {
     "duration": 1.759487,
     "end_time": "2022-04-21T10:10:09.643561",
     "exception": false,
     "start_time": "2022-04-21T10:10:07.884074",
     "status": "completed"
    },
    "tags": []
   },
   "outputs": [
    {
     "name": "stdout",
     "output_type": "stream",
     "text": [
      "Collecting mnist\r\n"
     ]
    },
    {
     "name": "stdout",
     "output_type": "stream",
     "text": [
      "  Downloading mnist-0.2.2-py2.py3-none-any.whl (3.5 kB)\r\n"
     ]
    },
    {
     "name": "stdout",
     "output_type": "stream",
     "text": [
      "Requirement already satisfied: numpy in /opt/hostedtoolcache/Python/3.6.15/x64/lib/python3.6/site-packages (from mnist) (1.19.5)\r\n"
     ]
    },
    {
     "name": "stdout",
     "output_type": "stream",
     "text": [
      "Installing collected packages: mnist\r\n",
      "Successfully installed mnist-0.2.2\r\n"
     ]
    }
   ],
   "source": [
    "!pip install mnist"
   ]
  },
  {
   "cell_type": "markdown",
   "id": "69df9c9a",
   "metadata": {
    "papermill": {
     "duration": 0.024972,
     "end_time": "2022-04-21T10:10:09.693916",
     "exception": false,
     "start_time": "2022-04-21T10:10:09.668944",
     "status": "completed"
    },
    "tags": []
   },
   "source": [
    "## Preparing the Data"
   ]
  },
  {
   "cell_type": "code",
   "execution_count": 4,
   "id": "7f69d806",
   "metadata": {
    "execution": {
     "iopub.execute_input": "2022-04-21T10:10:09.749111Z",
     "iopub.status.busy": "2022-04-21T10:10:09.748595Z",
     "iopub.status.idle": "2022-04-21T10:10:09.775970Z",
     "shell.execute_reply": "2022-04-21T10:10:09.776446Z"
    },
    "papermill": {
     "duration": 0.057835,
     "end_time": "2022-04-21T10:10:09.776578",
     "exception": false,
     "start_time": "2022-04-21T10:10:09.718743",
     "status": "completed"
    },
    "tags": []
   },
   "outputs": [],
   "source": [
    "import mnist"
   ]
  },
  {
   "cell_type": "code",
   "execution_count": 5,
   "id": "a411e44f",
   "metadata": {
    "execution": {
     "iopub.execute_input": "2022-04-21T10:10:09.834685Z",
     "iopub.status.busy": "2022-04-21T10:10:09.834186Z",
     "iopub.status.idle": "2022-04-21T10:10:10.482372Z",
     "shell.execute_reply": "2022-04-21T10:10:10.481739Z"
    },
    "papermill": {
     "duration": 0.680247,
     "end_time": "2022-04-21T10:10:10.482504",
     "exception": false,
     "start_time": "2022-04-21T10:10:09.802257",
     "status": "completed"
    },
    "tags": []
   },
   "outputs": [],
   "source": [
    "train_images = mnist.train_images()\n",
    "train_labels = mnist.train_labels()"
   ]
  },
  {
   "cell_type": "code",
   "execution_count": 6,
   "id": "dceab3a5",
   "metadata": {
    "execution": {
     "iopub.execute_input": "2022-04-21T10:10:10.544759Z",
     "iopub.status.busy": "2022-04-21T10:10:10.543141Z",
     "iopub.status.idle": "2022-04-21T10:10:10.554483Z",
     "shell.execute_reply": "2022-04-21T10:10:10.554867Z"
    },
    "papermill": {
     "duration": 0.046979,
     "end_time": "2022-04-21T10:10:10.554985",
     "exception": false,
     "start_time": "2022-04-21T10:10:10.508006",
     "status": "completed"
    },
    "tags": []
   },
   "outputs": [
    {
     "data": {
      "text/plain": [
       "((60000, 28, 28), (60000,))"
      ]
     },
     "execution_count": 6,
     "metadata": {},
     "output_type": "execute_result"
    }
   ],
   "source": [
    "train_images.shape, train_labels.shape"
   ]
  },
  {
   "cell_type": "code",
   "execution_count": 7,
   "id": "f50dc2bb",
   "metadata": {
    "execution": {
     "iopub.execute_input": "2022-04-21T10:10:10.612958Z",
     "iopub.status.busy": "2022-04-21T10:10:10.612460Z",
     "iopub.status.idle": "2022-04-21T10:10:10.840529Z",
     "shell.execute_reply": "2022-04-21T10:10:10.839983Z"
    },
    "papermill": {
     "duration": 0.260613,
     "end_time": "2022-04-21T10:10:10.840673",
     "exception": false,
     "start_time": "2022-04-21T10:10:10.580060",
     "status": "completed"
    },
    "tags": []
   },
   "outputs": [],
   "source": [
    "test_images = mnist.test_images()\n",
    "test_labels = mnist.test_labels()"
   ]
  },
  {
   "cell_type": "code",
   "execution_count": 8,
   "id": "fc38cf1b",
   "metadata": {
    "execution": {
     "iopub.execute_input": "2022-04-21T10:10:10.910447Z",
     "iopub.status.busy": "2022-04-21T10:10:10.908856Z",
     "iopub.status.idle": "2022-04-21T10:10:10.913315Z",
     "shell.execute_reply": "2022-04-21T10:10:10.912890Z"
    },
    "papermill": {
     "duration": 0.046072,
     "end_time": "2022-04-21T10:10:10.913418",
     "exception": false,
     "start_time": "2022-04-21T10:10:10.867346",
     "status": "completed"
    },
    "tags": []
   },
   "outputs": [
    {
     "data": {
      "text/plain": [
       "((10000, 28, 28), (10000,))"
      ]
     },
     "execution_count": 8,
     "metadata": {},
     "output_type": "execute_result"
    }
   ],
   "source": [
    "test_images.shape, test_labels.shape"
   ]
  },
  {
   "cell_type": "code",
   "execution_count": 9,
   "id": "f9ed8fe0",
   "metadata": {
    "execution": {
     "iopub.execute_input": "2022-04-21T10:10:10.968930Z",
     "iopub.status.busy": "2022-04-21T10:10:10.968432Z",
     "iopub.status.idle": "2022-04-21T10:10:11.102411Z",
     "shell.execute_reply": "2022-04-21T10:10:11.102829Z"
    },
    "papermill": {
     "duration": 0.16418,
     "end_time": "2022-04-21T10:10:11.102969",
     "exception": false,
     "start_time": "2022-04-21T10:10:10.938789",
     "status": "completed"
    },
    "tags": []
   },
   "outputs": [
    {
     "name": "stdout",
     "output_type": "stream",
     "text": [
      "2\n"
     ]
    },
    {
     "data": {
      "text/plain": [
       "<matplotlib.image.AxesImage at 0x7f272f73b400>"
      ]
     },
     "execution_count": 9,
     "metadata": {},
     "output_type": "execute_result"
    },
    {
     "data": {
      "image/png": "[encoded data removed]",
      "text/plain": [
       "<Figure size 432x288 with 1 Axes>"
      ]
     },
     "metadata": {
      "needs_background": "light"
     },
     "output_type": "display_data"
    }
   ],
   "source": [
    "image_index = 7776 # You may select anything up to 60,000\n",
    "print(train_labels[image_index]) \n",
    "plt.imshow(train_images[image_index], cmap='Greys')"
   ]
  },
  {
   "cell_type": "markdown",
   "id": "a8d2388d",
   "metadata": {
    "papermill": {
     "duration": 0.026794,
     "end_time": "2022-04-21T10:10:11.156539",
     "exception": false,
     "start_time": "2022-04-21T10:10:11.129745",
     "status": "completed"
    },
    "tags": []
   },
   "source": [
    "## Filter data to get 3 and 8 out"
   ]
  },
  {
   "cell_type": "code",
   "execution_count": 10,
   "id": "776f7fc7",
   "metadata": {
    "execution": {
     "iopub.execute_input": "2022-04-21T10:10:11.219594Z",
     "iopub.status.busy": "2022-04-21T10:10:11.219073Z",
     "iopub.status.idle": "2022-04-21T10:10:11.234977Z",
     "shell.execute_reply": "2022-04-21T10:10:11.234503Z"
    },
    "papermill": {
     "duration": 0.052102,
     "end_time": "2022-04-21T10:10:11.235090",
     "exception": false,
     "start_time": "2022-04-21T10:10:11.182988",
     "status": "completed"
    },
    "tags": []
   },
   "outputs": [],
   "source": [
    "train_filter = np.where((train_labels == 3 ) | (train_labels == 8))\n",
    "test_filter = np.where((test_labels == 3) | (test_labels == 8))\n",
    "X_train, y_train = train_images[train_filter], train_labels[train_filter]\n",
    "X_test, y_test = test_images[test_filter], test_labels[test_filter]"
   ]
  },
  {
   "cell_type": "markdown",
   "id": "948f0b7e",
   "metadata": {
    "papermill": {
     "duration": 0.026337,
     "end_time": "2022-04-21T10:10:11.288515",
     "exception": false,
     "start_time": "2022-04-21T10:10:11.262178",
     "status": "completed"
    },
    "tags": []
   },
   "source": [
    "We normalize the pizel values in the 0 to 1 range"
   ]
  },
  {
   "cell_type": "code",
   "execution_count": 11,
   "id": "ee4c2166",
   "metadata": {
    "execution": {
     "iopub.execute_input": "2022-04-21T10:10:11.344617Z",
     "iopub.status.busy": "2022-04-21T10:10:11.344101Z",
     "iopub.status.idle": "2022-04-21T10:10:11.391930Z",
     "shell.execute_reply": "2022-04-21T10:10:11.391360Z"
    },
    "papermill": {
     "duration": 0.077208,
     "end_time": "2022-04-21T10:10:11.392086",
     "exception": false,
     "start_time": "2022-04-21T10:10:11.314878",
     "status": "completed"
    },
    "tags": []
   },
   "outputs": [],
   "source": [
    "X_train = X_train/255.\n",
    "X_test = X_test/255."
   ]
  },
  {
   "cell_type": "markdown",
   "id": "ddcf4fab",
   "metadata": {
    "papermill": {
     "duration": 0.027028,
     "end_time": "2022-04-21T10:10:11.446310",
     "exception": false,
     "start_time": "2022-04-21T10:10:11.419282",
     "status": "completed"
    },
    "tags": []
   },
   "source": [
    "And setup the labels as 1 (when the digit is 3) and 0 (when the digit is 8)"
   ]
  },
  {
   "cell_type": "code",
   "execution_count": 12,
   "id": "7dc908f2",
   "metadata": {
    "execution": {
     "iopub.execute_input": "2022-04-21T10:10:11.503762Z",
     "iopub.status.busy": "2022-04-21T10:10:11.503254Z",
     "iopub.status.idle": "2022-04-21T10:10:11.515275Z",
     "shell.execute_reply": "2022-04-21T10:10:11.514843Z"
    },
    "papermill": {
     "duration": 0.042591,
     "end_time": "2022-04-21T10:10:11.515381",
     "exception": false,
     "start_time": "2022-04-21T10:10:11.472790",
     "status": "completed"
    },
    "tags": []
   },
   "outputs": [],
   "source": [
    "y_train = 1*(y_train==3)\n",
    "y_test = 1*(y_test==3)"
   ]
  },
  {
   "cell_type": "code",
   "execution_count": 13,
   "id": "01e4e969",
   "metadata": {
    "execution": {
     "iopub.execute_input": "2022-04-21T10:10:11.582776Z",
     "iopub.status.busy": "2022-04-21T10:10:11.576409Z",
     "iopub.status.idle": "2022-04-21T10:10:11.585626Z",
     "shell.execute_reply": "2022-04-21T10:10:11.585200Z"
    },
    "papermill": {
     "duration": 0.043883,
     "end_time": "2022-04-21T10:10:11.585727",
     "exception": false,
     "start_time": "2022-04-21T10:10:11.541844",
     "status": "completed"
    },
    "tags": []
   },
   "outputs": [
    {
     "data": {
      "text/plain": [
       "((11982, 28, 28), (1984, 28, 28))"
      ]
     },
     "execution_count": 13,
     "metadata": {},
     "output_type": "execute_result"
    }
   ],
   "source": [
    "X_train.shape, X_test.shape"
   ]
  },
  {
   "cell_type": "markdown",
   "id": "5ccf3f85",
   "metadata": {
    "papermill": {
     "duration": 0.026611,
     "end_time": "2022-04-21T10:10:11.638883",
     "exception": false,
     "start_time": "2022-04-21T10:10:11.612272",
     "status": "completed"
    },
    "tags": []
   },
   "source": [
    "We reshape the data to flatten the image pixels into a set of features or co-variates:"
   ]
  },
  {
   "cell_type": "code",
   "execution_count": 14,
   "id": "5286a4a3",
   "metadata": {
    "execution": {
     "iopub.execute_input": "2022-04-21T10:10:11.698851Z",
     "iopub.status.busy": "2022-04-21T10:10:11.698343Z",
     "iopub.status.idle": "2022-04-21T10:10:11.708811Z",
     "shell.execute_reply": "2022-04-21T10:10:11.708412Z"
    },
    "papermill": {
     "duration": 0.043258,
     "end_time": "2022-04-21T10:10:11.708912",
     "exception": false,
     "start_time": "2022-04-21T10:10:11.665654",
     "status": "completed"
    },
    "tags": []
   },
   "outputs": [
    {
     "data": {
      "text/plain": [
       "((11982, 784), (1984, 784))"
      ]
     },
     "execution_count": 14,
     "metadata": {},
     "output_type": "execute_result"
    }
   ],
   "source": [
    "X_train = X_train.reshape(X_train.shape[0], -1)\n",
    "X_test = X_test.reshape(X_test.shape[0], -1)\n",
    "X_train.shape, X_test.shape"
   ]
  },
  {
   "cell_type": "code",
   "execution_count": 15,
   "id": "73c5f88a",
   "metadata": {
    "execution": {
     "iopub.execute_input": "2022-04-21T10:10:11.776644Z",
     "iopub.status.busy": "2022-04-21T10:10:11.772498Z",
     "iopub.status.idle": "2022-04-21T10:10:11.786467Z",
     "shell.execute_reply": "2022-04-21T10:10:11.786066Z"
    },
    "papermill": {
     "duration": 0.050644,
     "end_time": "2022-04-21T10:10:11.786568",
     "exception": false,
     "start_time": "2022-04-21T10:10:11.735924",
     "status": "completed"
    },
    "tags": []
   },
   "outputs": [],
   "source": [
    "#Impoting functions from 'Kudzu'\n",
    "from kudzu.model import Model\n",
    "from kudzu.train import Learner\n",
    "from kudzu.optim import GD\n",
    "from kudzu.data import Data, Sampler,Dataloader\n",
    "\n",
    "from kudzu.callbacks import AccCallback\n",
    "from kudzu.callbacks import ClfCallback\n",
    "\n",
    "from kudzu.loss import MSE\n",
    "\n",
    "from kudzu.layer import Sigmoid,Relu\n",
    "from kudzu.layer import Affine"
   ]
  },
  {
   "cell_type": "markdown",
   "id": "bc01172a",
   "metadata": {
    "papermill": {
     "duration": 0.026919,
     "end_time": "2022-04-21T10:10:11.840463",
     "exception": false,
     "start_time": "2022-04-21T10:10:11.813544",
     "status": "completed"
    },
    "tags": []
   },
   "source": [
    "### Let us create a `Config` class, to store important parameters. \n",
    "This class essentially plays the role of a dictionary."
   ]
  },
  {
   "cell_type": "code",
   "execution_count": 16,
   "id": "978281aa",
   "metadata": {
    "execution": {
     "iopub.execute_input": "2022-04-21T10:10:11.901174Z",
     "iopub.status.busy": "2022-04-21T10:10:11.900597Z",
     "iopub.status.idle": "2022-04-21T10:10:11.910404Z",
     "shell.execute_reply": "2022-04-21T10:10:11.910813Z"
    },
    "papermill": {
     "duration": 0.043557,
     "end_time": "2022-04-21T10:10:11.910923",
     "exception": false,
     "start_time": "2022-04-21T10:10:11.867366",
     "status": "completed"
    },
    "tags": []
   },
   "outputs": [],
   "source": [
    "class Config:\n",
    "    pass\n",
    "config = Config()\n",
    "config.lr = 0.001\n",
    "config.num_epochs = 250\n",
    "config.bs = 50"
   ]
  },
  {
   "cell_type": "markdown",
   "id": "1385fa59",
   "metadata": {
    "papermill": {
     "duration": 0.026972,
     "end_time": "2022-04-21T10:10:11.964829",
     "exception": false,
     "start_time": "2022-04-21T10:10:11.937857",
     "status": "completed"
    },
    "tags": []
   },
   "source": [
    "### Running Models with the Training data\n",
    "Details about the network layers:\n",
    "- A first affine layer has 784 inputs and does 100 affine transforms. These are followed by a Relu\n",
    "- A second affine layer has 100 inputs from the 100 activations of the past layer, and does 100 affine transforms. These are followed by a Relu\n",
    "- A third affine layer has 100 activations and does 2 affine transformations to create an embedding for visualization. There is no non-linearity here.\n",
    "- A final \"logistic regression\" which has an affine transform from 2 inputs to 1 output, which is squeezed through a sigmoid.\n"
   ]
  },
  {
   "cell_type": "code",
   "execution_count": 17,
   "id": "2b9c66db",
   "metadata": {
    "execution": {
     "iopub.execute_input": "2022-04-21T10:10:12.024913Z",
     "iopub.status.busy": "2022-04-21T10:10:12.023435Z",
     "iopub.status.idle": "2022-04-21T10:10:12.034205Z",
     "shell.execute_reply": "2022-04-21T10:10:12.033783Z"
    },
    "papermill": {
     "duration": 0.042362,
     "end_time": "2022-04-21T10:10:12.034300",
     "exception": false,
     "start_time": "2022-04-21T10:10:11.991938",
     "status": "completed"
    },
    "tags": []
   },
   "outputs": [],
   "source": [
    "data = Data(X_train, y_train.reshape(-1,1))\n",
    "sampler = Sampler(data, config.bs, shuffle=True)\n",
    "\n",
    "dl = Dataloader(data, sampler)\n",
    "\n",
    "opt = GD(config.lr)\n",
    "loss = MSE()"
   ]
  },
  {
   "cell_type": "code",
   "execution_count": 18,
   "id": "b275e4c2",
   "metadata": {
    "execution": {
     "iopub.execute_input": "2022-04-21T10:10:12.093552Z",
     "iopub.status.busy": "2022-04-21T10:10:12.093043Z",
     "iopub.status.idle": "2022-04-21T10:10:12.102812Z",
     "shell.execute_reply": "2022-04-21T10:10:12.103284Z"
    },
    "papermill": {
     "duration": 0.041946,
     "end_time": "2022-04-21T10:10:12.103391",
     "exception": false,
     "start_time": "2022-04-21T10:10:12.061445",
     "status": "completed"
    },
    "tags": []
   },
   "outputs": [],
   "source": [
    "training_data_x = X_train\n",
    "testing_data_x = X_test\n",
    "training_data_y = y_train.reshape(-1,1)\n",
    "testing_data_y = y_test.reshape(-1,1)"
   ]
  },
  {
   "cell_type": "code",
   "execution_count": 19,
   "id": "76951160",
   "metadata": {
    "execution": {
     "iopub.execute_input": "2022-04-21T10:10:12.167390Z",
     "iopub.status.busy": "2022-04-21T10:10:12.166890Z",
     "iopub.status.idle": "2022-04-21T10:10:12.177795Z",
     "shell.execute_reply": "2022-04-21T10:10:12.177372Z"
    },
    "papermill": {
     "duration": 0.047669,
     "end_time": "2022-04-21T10:10:12.177890",
     "exception": false,
     "start_time": "2022-04-21T10:10:12.130221",
     "status": "completed"
    },
    "tags": []
   },
   "outputs": [
    {
     "name": "stdout",
     "output_type": "stream",
     "text": [
      "xavier\n",
      "xavier\n",
      "xavier\n",
      "xavier\n",
      "xavier\n"
     ]
    }
   ],
   "source": [
    "layers = [Affine(\"first\", 784, 100), Relu(\"first\"), Affine(\"second\", 100, 100), Relu(\"second\"), Affine(\"third\", 100, 2), Affine(\"last\", 2, 1), Sigmoid(\"last\")]\n",
    "model_nn = Model(layers)\n",
    "model_lr = Model([Affine(\"logits\", 784, 1), Sigmoid(\"sigmoid\")])"
   ]
  },
  {
   "cell_type": "code",
   "execution_count": 20,
   "id": "6eede77a",
   "metadata": {
    "execution": {
     "iopub.execute_input": "2022-04-21T10:10:12.236716Z",
     "iopub.status.busy": "2022-04-21T10:10:12.236212Z",
     "iopub.status.idle": "2022-04-21T10:10:12.246260Z",
     "shell.execute_reply": "2022-04-21T10:10:12.245863Z"
    },
    "papermill": {
     "duration": 0.041095,
     "end_time": "2022-04-21T10:10:12.246359",
     "exception": false,
     "start_time": "2022-04-21T10:10:12.205264",
     "status": "completed"
    },
    "tags": []
   },
   "outputs": [],
   "source": [
    "nn_learner = Learner(loss, model_nn, opt, config.num_epochs)\n",
    "acc_nn = ClfCallback(nn_learner, config.bs, training_data_x , testing_data_x, training_data_y, testing_data_y)\n",
    "nn_learner.set_callbacks([acc_nn])"
   ]
  },
  {
   "cell_type": "code",
   "execution_count": 21,
   "id": "877b6cc7",
   "metadata": {
    "execution": {
     "iopub.execute_input": "2022-04-21T10:10:12.308227Z",
     "iopub.status.busy": "2022-04-21T10:10:12.307676Z",
     "iopub.status.idle": "2022-04-21T10:10:12.318238Z",
     "shell.execute_reply": "2022-04-21T10:10:12.317831Z"
    },
    "papermill": {
     "duration": 0.044663,
     "end_time": "2022-04-21T10:10:12.318342",
     "exception": false,
     "start_time": "2022-04-21T10:10:12.273679",
     "status": "completed"
    },
    "tags": []
   },
   "outputs": [],
   "source": [
    "lr_learner = Learner(loss, model_lr, opt, config.num_epochs)\n",
    "acc_lr = ClfCallback(lr_learner, config.bs, training_data_x , testing_data_x, training_data_y, testing_data_y)\n",
    "lr_learner.set_callbacks([acc_lr])"
   ]
  },
  {
   "cell_type": "code",
   "execution_count": 22,
   "id": "d9b133c3",
   "metadata": {
    "execution": {
     "iopub.execute_input": "2022-04-21T10:10:12.380202Z",
     "iopub.status.busy": "2022-04-21T10:10:12.379665Z",
     "iopub.status.idle": "2022-04-21T10:11:26.671421Z",
     "shell.execute_reply": "2022-04-21T10:11:26.672207Z"
    },
    "papermill": {
     "duration": 74.326683,
     "end_time": "2022-04-21T10:11:26.672371",
     "exception": false,
     "start_time": "2022-04-21T10:10:12.345688",
     "status": "completed"
    },
    "tags": []
   },
   "outputs": [
    {
     "name": "stdout",
     "output_type": "stream",
     "text": [
      "Epoch 0, Loss 0.2318\n",
      "Training Accuracy: 0.7476, Testing Accuracy: 0.7747\n",
      "\n"
     ]
    },
    {
     "name": "stdout",
     "output_type": "stream",
     "text": [
      "Epoch 10, Loss 0.0698\n",
      "Training Accuracy: 0.9301, Testing Accuracy: 0.9405\n",
      "\n"
     ]
    },
    {
     "name": "stdout",
     "output_type": "stream",
     "text": [
      "Epoch 20, Loss 0.0477\n",
      "Training Accuracy: 0.9502, Testing Accuracy: 0.9551\n",
      "\n"
     ]
    },
    {
     "name": "stdout",
     "output_type": "stream",
     "text": [
      "Epoch 30, Loss 0.0393\n",
      "Training Accuracy: 0.9574, Testing Accuracy: 0.9612\n",
      "\n"
     ]
    },
    {
     "name": "stdout",
     "output_type": "stream",
     "text": [
      "Epoch 40, Loss 0.0346\n",
      "Training Accuracy: 0.9621, Testing Accuracy: 0.9662\n",
      "\n"
     ]
    },
    {
     "name": "stdout",
     "output_type": "stream",
     "text": [
      "Epoch 50, Loss 0.0316\n",
      "Training Accuracy: 0.9649, Testing Accuracy: 0.9698\n",
      "\n"
     ]
    },
    {
     "name": "stdout",
     "output_type": "stream",
     "text": [
      "Epoch 60, Loss 0.0295\n",
      "Training Accuracy: 0.9667, Testing Accuracy: 0.9713\n",
      "\n"
     ]
    },
    {
     "name": "stdout",
     "output_type": "stream",
     "text": [
      "Epoch 70, Loss 0.0278\n",
      "Training Accuracy: 0.9683, Testing Accuracy: 0.9718\n",
      "\n"
     ]
    },
    {
     "name": "stdout",
     "output_type": "stream",
     "text": [
      "Epoch 80, Loss 0.0265\n",
      "Training Accuracy: 0.9702, Testing Accuracy: 0.9723\n",
      "\n"
     ]
    },
    {
     "name": "stdout",
     "output_type": "stream",
     "text": [
      "Epoch 90, Loss 0.0254\n",
      "Training Accuracy: 0.9712, Testing Accuracy: 0.9723\n",
      "\n"
     ]
    },
    {
     "name": "stdout",
     "output_type": "stream",
     "text": [
      "Epoch 100, Loss 0.0244\n",
      "Training Accuracy: 0.9721, Testing Accuracy: 0.9723\n",
      "\n"
     ]
    },
    {
     "name": "stdout",
     "output_type": "stream",
     "text": [
      "Epoch 110, Loss 0.0236\n",
      "Training Accuracy: 0.9729, Testing Accuracy: 0.9718\n",
      "\n"
     ]
    },
    {
     "name": "stdout",
     "output_type": "stream",
     "text": [
      "Epoch 120, Loss 0.0228\n",
      "Training Accuracy: 0.9742, Testing Accuracy: 0.9733\n",
      "\n"
     ]
    },
    {
     "name": "stdout",
     "output_type": "stream",
     "text": [
      "Epoch 130, Loss 0.0221\n",
      "Training Accuracy: 0.9745, Testing Accuracy: 0.9733\n",
      "\n"
     ]
    },
    {
     "name": "stdout",
     "output_type": "stream",
     "text": [
      "Epoch 140, Loss 0.0215\n",
      "Training Accuracy: 0.9755, Testing Accuracy: 0.9728\n",
      "\n"
     ]
    },
    {
     "name": "stdout",
     "output_type": "stream",
     "text": [
      "Epoch 150, Loss 0.0209\n",
      "Training Accuracy: 0.9765, Testing Accuracy: 0.9733\n",
      "\n"
     ]
    },
    {
     "name": "stdout",
     "output_type": "stream",
     "text": [
      "Epoch 160, Loss 0.0203\n",
      "Training Accuracy: 0.9775, Testing Accuracy: 0.9728\n",
      "\n"
     ]
    },
    {
     "name": "stdout",
     "output_type": "stream",
     "text": [
      "Epoch 170, Loss 0.0198\n",
      "Training Accuracy: 0.9781, Testing Accuracy: 0.9733\n",
      "\n"
     ]
    },
    {
     "name": "stdout",
     "output_type": "stream",
     "text": [
      "Epoch 180, Loss 0.0193\n",
      "Training Accuracy: 0.9787, Testing Accuracy: 0.9733\n",
      "\n"
     ]
    },
    {
     "name": "stdout",
     "output_type": "stream",
     "text": [
      "Epoch 190, Loss 0.0189\n",
      "Training Accuracy: 0.9792, Testing Accuracy: 0.9733\n",
      "\n"
     ]
    },
    {
     "name": "stdout",
     "output_type": "stream",
     "text": [
      "Epoch 200, Loss 0.0184\n",
      "Training Accuracy: 0.9794, Testing Accuracy: 0.9738\n",
      "\n"
     ]
    },
    {
     "name": "stdout",
     "output_type": "stream",
     "text": [
      "Epoch 210, Loss 0.018\n",
      "Training Accuracy: 0.9800, Testing Accuracy: 0.9743\n",
      "\n"
     ]
    },
    {
     "name": "stdout",
     "output_type": "stream",
     "text": [
      "Epoch 220, Loss 0.0176\n",
      "Training Accuracy: 0.9808, Testing Accuracy: 0.9753\n",
      "\n"
     ]
    },
    {
     "name": "stdout",
     "output_type": "stream",
     "text": [
      "Epoch 230, Loss 0.0172\n",
      "Training Accuracy: 0.9813, Testing Accuracy: 0.9758\n",
      "\n"
     ]
    },
    {
     "name": "stdout",
     "output_type": "stream",
     "text": [
      "Epoch 240, Loss 0.0168\n",
      "Training Accuracy: 0.9816, Testing Accuracy: 0.9763\n",
      "\n"
     ]
    },
    {
     "data": {
      "text/plain": [
       "0.01248438015166809"
      ]
     },
     "execution_count": 22,
     "metadata": {},
     "output_type": "execute_result"
    }
   ],
   "source": [
    "nn_learner.train_loop(dl)"
   ]
  },
  {
   "cell_type": "code",
   "execution_count": 23,
   "id": "e0163366",
   "metadata": {
    "execution": {
     "iopub.execute_input": "2022-04-21T10:11:26.749437Z",
     "iopub.status.busy": "2022-04-21T10:11:26.748915Z",
     "iopub.status.idle": "2022-04-21T10:11:40.288790Z",
     "shell.execute_reply": "2022-04-21T10:11:40.289230Z"
    },
    "papermill": {
     "duration": 13.581878,
     "end_time": "2022-04-21T10:11:40.289372",
     "exception": false,
     "start_time": "2022-04-21T10:11:26.707494",
     "status": "completed"
    },
    "tags": []
   },
   "outputs": [
    {
     "name": "stdout",
     "output_type": "stream",
     "text": [
      "Epoch 0, Loss 0.246\n",
      "Training Accuracy: 0.6743, Testing Accuracy: 0.6588\n",
      "\n"
     ]
    },
    {
     "name": "stdout",
     "output_type": "stream",
     "text": [
      "Epoch 10, Loss 0.1065\n",
      "Training Accuracy: 0.9011, Testing Accuracy: 0.9078\n",
      "\n"
     ]
    },
    {
     "name": "stdout",
     "output_type": "stream",
     "text": [
      "Epoch 20, Loss 0.0816\n",
      "Training Accuracy: 0.9218, Testing Accuracy: 0.9345\n",
      "\n"
     ]
    },
    {
     "name": "stdout",
     "output_type": "stream",
     "text": [
      "Epoch 30, Loss 0.0699\n",
      "Training Accuracy: 0.9340, Testing Accuracy: 0.9466\n",
      "\n"
     ]
    },
    {
     "name": "stdout",
     "output_type": "stream",
     "text": [
      "Epoch 40, Loss 0.0628\n",
      "Training Accuracy: 0.9389, Testing Accuracy: 0.9546\n",
      "\n"
     ]
    },
    {
     "name": "stdout",
     "output_type": "stream",
     "text": [
      "Epoch 50, Loss 0.0581\n",
      "Training Accuracy: 0.9425, Testing Accuracy: 0.9567\n",
      "\n"
     ]
    },
    {
     "name": "stdout",
     "output_type": "stream",
     "text": [
      "Epoch 60, Loss 0.0546\n",
      "Training Accuracy: 0.9458, Testing Accuracy: 0.9577\n",
      "\n"
     ]
    },
    {
     "name": "stdout",
     "output_type": "stream",
     "text": [
      "Epoch 70, Loss 0.0519\n",
      "Training Accuracy: 0.9479, Testing Accuracy: 0.9597\n",
      "\n"
     ]
    },
    {
     "name": "stdout",
     "output_type": "stream",
     "text": [
      "Epoch 80, Loss 0.0497\n",
      "Training Accuracy: 0.9500, Testing Accuracy: 0.9602\n",
      "\n"
     ]
    },
    {
     "name": "stdout",
     "output_type": "stream",
     "text": [
      "Epoch 90, Loss 0.048\n",
      "Training Accuracy: 0.9515, Testing Accuracy: 0.9602\n",
      "\n"
     ]
    },
    {
     "name": "stdout",
     "output_type": "stream",
     "text": [
      "Epoch 100, Loss 0.0465\n",
      "Training Accuracy: 0.9524, Testing Accuracy: 0.9602\n",
      "\n"
     ]
    },
    {
     "name": "stdout",
     "output_type": "stream",
     "text": [
      "Epoch 110, Loss 0.0452\n",
      "Training Accuracy: 0.9534, Testing Accuracy: 0.9617\n",
      "\n"
     ]
    },
    {
     "name": "stdout",
     "output_type": "stream",
     "text": [
      "Epoch 120, Loss 0.0441\n",
      "Training Accuracy: 0.9543, Testing Accuracy: 0.9632\n",
      "\n"
     ]
    },
    {
     "name": "stdout",
     "output_type": "stream",
     "text": [
      "Epoch 130, Loss 0.0432\n",
      "Training Accuracy: 0.9548, Testing Accuracy: 0.9637\n",
      "\n"
     ]
    },
    {
     "name": "stdout",
     "output_type": "stream",
     "text": [
      "Epoch 140, Loss 0.0423\n",
      "Training Accuracy: 0.9557, Testing Accuracy: 0.9637\n",
      "\n"
     ]
    },
    {
     "name": "stdout",
     "output_type": "stream",
     "text": [
      "Epoch 150, Loss 0.0415\n",
      "Training Accuracy: 0.9567, Testing Accuracy: 0.9637\n",
      "\n"
     ]
    },
    {
     "name": "stdout",
     "output_type": "stream",
     "text": [
      "Epoch 160, Loss 0.0408\n",
      "Training Accuracy: 0.9579, Testing Accuracy: 0.9632\n",
      "\n"
     ]
    },
    {
     "name": "stdout",
     "output_type": "stream",
     "text": [
      "Epoch 170, Loss 0.0402\n",
      "Training Accuracy: 0.9587, Testing Accuracy: 0.9637\n",
      "\n"
     ]
    },
    {
     "name": "stdout",
     "output_type": "stream",
     "text": [
      "Epoch 180, Loss 0.0396\n",
      "Training Accuracy: 0.9592, Testing Accuracy: 0.9637\n",
      "\n"
     ]
    },
    {
     "name": "stdout",
     "output_type": "stream",
     "text": [
      "Epoch 190, Loss 0.0391\n",
      "Training Accuracy: 0.9596, Testing Accuracy: 0.9652\n",
      "\n"
     ]
    },
    {
     "name": "stdout",
     "output_type": "stream",
     "text": [
      "Epoch 200, Loss 0.0386\n",
      "Training Accuracy: 0.9598, Testing Accuracy: 0.9652\n",
      "\n"
     ]
    },
    {
     "name": "stdout",
     "output_type": "stream",
     "text": [
      "Epoch 210, Loss 0.0382\n",
      "Training Accuracy: 0.9603, Testing Accuracy: 0.9647\n",
      "\n"
     ]
    },
    {
     "name": "stdout",
     "output_type": "stream",
     "text": [
      "Epoch 220, Loss 0.0378\n",
      "Training Accuracy: 0.9607, Testing Accuracy: 0.9642\n",
      "\n"
     ]
    },
    {
     "name": "stdout",
     "output_type": "stream",
     "text": [
      "Epoch 230, Loss 0.0374\n",
      "Training Accuracy: 0.9609, Testing Accuracy: 0.9642\n",
      "\n"
     ]
    },
    {
     "name": "stdout",
     "output_type": "stream",
     "text": [
      "Epoch 240, Loss 0.037\n",
      "Training Accuracy: 0.9612, Testing Accuracy: 0.9642\n",
      "\n"
     ]
    },
    {
     "data": {
      "text/plain": [
       "0.022800278234747156"
      ]
     },
     "execution_count": 23,
     "metadata": {},
     "output_type": "execute_result"
    }
   ],
   "source": [
    "lr_learner.train_loop(dl)"
   ]
  },
  {
   "cell_type": "code",
   "execution_count": 24,
   "id": "ca410940",
   "metadata": {
    "execution": {
     "iopub.execute_input": "2022-04-21T10:11:40.381187Z",
     "iopub.status.busy": "2022-04-21T10:11:40.380661Z",
     "iopub.status.idle": "2022-04-21T10:11:40.608965Z",
     "shell.execute_reply": "2022-04-21T10:11:40.608230Z"
    },
    "papermill": {
     "duration": 0.278176,
     "end_time": "2022-04-21T10:11:40.609096",
     "exception": false,
     "start_time": "2022-04-21T10:11:40.330920",
     "status": "completed"
    },
    "tags": []
   },
   "outputs": [
    {
     "data": {
      "text/plain": [
       "<matplotlib.legend.Legend at 0x7f272f31d8d0>"
      ]
     },
     "execution_count": 24,
     "metadata": {},
     "output_type": "execute_result"
    },
    {
     "data": {
      "image/png": "[encoded data removed]",
      "text/plain": [
       "<Figure size 1080x720 with 1 Axes>"
      ]
     },
     "metadata": {
      "needs_background": "light"
     },
     "output_type": "display_data"
    }
   ],
   "source": [
    "#comparing the results of NN and LR\n",
    "plt.figure(figsize=(15,10))\n",
    "\n",
    "# Neural Network plots\n",
    "plt.plot(acc_nn.accuracies, 'r-', label = \"Training Accuracies - NN\")\n",
    "plt.plot(acc_nn.test_accuracies, 'g-', label = \"Testing Accuracies - NN\")\n",
    "\n",
    "# Logistic Regression plots\n",
    "plt.plot(acc_lr.accuracies, 'k-', label = \"Training Accuracies - LR\")\n",
    "plt.plot(acc_lr.test_accuracies, 'b-', label = \"Testing Accuracies - LR\")\n",
    "plt.legend()"
   ]
  },
  {
   "cell_type": "markdown",
   "id": "80dfb35c",
   "metadata": {
    "papermill": {
     "duration": 0.042307,
     "end_time": "2022-04-21T10:11:40.693975",
     "exception": false,
     "start_time": "2022-04-21T10:11:40.651668",
     "status": "completed"
    },
    "tags": []
   },
   "source": [
    "#### Plotting the outputs of this layer of the NN.\n"
   ]
  },
  {
   "cell_type": "code",
   "execution_count": 25,
   "id": "45eb2ff5",
   "metadata": {
    "execution": {
     "iopub.execute_input": "2022-04-21T10:11:40.782219Z",
     "iopub.status.busy": "2022-04-21T10:11:40.781696Z",
     "iopub.status.idle": "2022-04-21T10:11:40.801127Z",
     "shell.execute_reply": "2022-04-21T10:11:40.801546Z"
    },
    "papermill": {
     "duration": 0.06554,
     "end_time": "2022-04-21T10:11:40.801673",
     "exception": false,
     "start_time": "2022-04-21T10:11:40.736133",
     "status": "completed"
    },
    "tags": []
   },
   "outputs": [],
   "source": [
    "new_model = Model(layers[:-2])\n",
    "testing_plot = new_model(testing_data_x)"
   ]
  },
  {
   "cell_type": "code",
   "execution_count": 26,
   "id": "4c0a5485",
   "metadata": {
    "execution": {
     "iopub.execute_input": "2022-04-21T10:11:40.891681Z",
     "iopub.status.busy": "2022-04-21T10:11:40.891177Z",
     "iopub.status.idle": "2022-04-21T10:11:41.086340Z",
     "shell.execute_reply": "2022-04-21T10:11:41.086858Z"
    },
    "papermill": {
     "duration": 0.241318,
     "end_time": "2022-04-21T10:11:41.086992",
     "exception": false,
     "start_time": "2022-04-21T10:11:40.845674",
     "status": "completed"
    },
    "tags": []
   },
   "outputs": [
    {
     "data": {
      "text/plain": [
       "Text(0.5, 1.0, 'Outputs')"
      ]
     },
     "execution_count": 26,
     "metadata": {},
     "output_type": "execute_result"
    },
    {
     "data": {
      "image/png": "[encoded data removed]",
      "text/plain": [
       "<Figure size 576x504 with 1 Axes>"
      ]
     },
     "metadata": {
      "needs_background": "light"
     },
     "output_type": "display_data"
    }
   ],
   "source": [
    "# Plotting the scatter plot of points and color coding by class\n",
    "plt.figure(figsize=(8,7))\n",
    "plt.scatter(testing_plot[:,0], testing_plot[:,1], alpha = 0.1, c = y_test.ravel());\n",
    "plt.title('Outputs')"
   ]
  },
  {
   "cell_type": "markdown",
   "id": "a74fcf8f",
   "metadata": {
    "papermill": {
     "duration": 0.044151,
     "end_time": "2022-04-21T10:11:41.175559",
     "exception": false,
     "start_time": "2022-04-21T10:11:41.131408",
     "status": "completed"
    },
    "tags": []
   },
   "source": [
    "Probability contours"
   ]
  },
  {
   "cell_type": "code",
   "execution_count": 27,
   "id": "d0afc8e3",
   "metadata": {
    "execution": {
     "iopub.execute_input": "2022-04-21T10:11:41.274333Z",
     "iopub.status.busy": "2022-04-21T10:11:41.273740Z",
     "iopub.status.idle": "2022-04-21T10:11:41.283175Z",
     "shell.execute_reply": "2022-04-21T10:11:41.283583Z"
    },
    "papermill": {
     "duration": 0.063839,
     "end_time": "2022-04-21T10:11:41.283707",
     "exception": false,
     "start_time": "2022-04-21T10:11:41.219868",
     "status": "completed"
    },
    "tags": []
   },
   "outputs": [],
   "source": [
    "model_prob = Model(layers[-2:]) "
   ]
  },
  {
   "cell_type": "code",
   "execution_count": 28,
   "id": "9b96e238",
   "metadata": {
    "execution": {
     "iopub.execute_input": "2022-04-21T10:11:41.417792Z",
     "iopub.status.busy": "2022-04-21T10:11:41.409342Z",
     "iopub.status.idle": "2022-04-21T10:11:41.421444Z",
     "shell.execute_reply": "2022-04-21T10:11:41.420944Z"
    },
    "papermill": {
     "duration": 0.064837,
     "end_time": "2022-04-21T10:11:41.421551",
     "exception": false,
     "start_time": "2022-04-21T10:11:41.356714",
     "status": "completed"
    },
    "tags": []
   },
   "outputs": [],
   "source": [
    "#creating the x and y ranges according to the above generated plot.\n",
    "x_range = np.linspace(-4, 1, 100) \n",
    "y_range = np.linspace(-6, 6, 100) \n",
    "x_grid, y_grid = np.meshgrid(x_range, y_range) # x_grid and y_grig are of size 100 X 100\n",
    "\n",
    "# converting x_grid and y_grid to continuous arrays\n",
    "x_gridflat = np.ravel(x_grid)\n",
    "y_gridflat = np.ravel(y_grid)\n",
    "\n",
    "# The last layer of the current model takes two columns as input. Hence transpose of np.vstack() is required.\n",
    "X = np.vstack((x_gridflat, y_gridflat)).T\n",
    "\n",
    "prob_contour = model_prob(X).reshape(100,100) "
   ]
  },
  {
   "cell_type": "code",
   "execution_count": 29,
   "id": "da72499a",
   "metadata": {
    "execution": {
     "iopub.execute_input": "2022-04-21T10:11:41.513792Z",
     "iopub.status.busy": "2022-04-21T10:11:41.513291Z",
     "iopub.status.idle": "2022-04-21T10:11:41.758546Z",
     "shell.execute_reply": "2022-04-21T10:11:41.758046Z"
    },
    "papermill": {
     "duration": 0.292795,
     "end_time": "2022-04-21T10:11:41.758667",
     "exception": false,
     "start_time": "2022-04-21T10:11:41.465872",
     "status": "completed"
    },
    "tags": []
   },
   "outputs": [
    {
     "data": {
      "image/png": "[encoded data removed]",
      "text/plain": [
       "<Figure size 720x648 with 1 Axes>"
      ]
     },
     "metadata": {
      "needs_background": "light"
     },
     "output_type": "display_data"
    }
   ],
   "source": [
    "plt.figure(figsize=(10,9))\n",
    "plt.scatter(testing_plot[:,0], testing_plot[:,1], alpha = 0.1, c = y_test.ravel())\n",
    "contours = plt.contour(x_grid,y_grid,prob_contour)\n",
    "plt.title('Probability Contours')\n",
    "plt.clabel(contours, inline = True );"
   ]
  },
  {
   "cell_type": "code",
   "execution_count": null,
   "id": "e81b4ac7",
   "metadata": {
    "papermill": {
     "duration": 0.046883,
     "end_time": "2022-04-21T10:11:41.853337",
     "exception": false,
     "start_time": "2022-04-21T10:11:41.806454",
     "status": "completed"
    },
    "tags": []
   },
   "outputs": [],
   "source": []
  }
 ],
 "metadata": {
  "kernelspec": {
   "display_name": "Python 3",
   "language": "python",
   "name": "python3"
  },
  "language_info": {
   "codemirror_mode": {
    "name": "ipython",
    "version": 3
   },
   "file_extension": ".py",
   "mimetype": "text/x-python",
   "name": "python",
   "nbconvert_exporter": "python",
   "pygments_lexer": "ipython3",
   "version": "3.6.15"
  },
  "papermill": {
   "default_parameters": {},
   "duration": 96.156939,
   "end_time": "2022-04-21T10:11:42.317973",
   "environment_variables": {},
   "exception": null,
   "input_path": "2020-08-11-part2.ipynb",
   "output_path": "2020-08-11-part2.ipynb",
   "parameters": {},
   "start_time": "2022-04-21T10:10:06.161034",
   "version": "2.3.3"
  }
 },
 "nbformat": 4,
 "nbformat_minor": 5
}