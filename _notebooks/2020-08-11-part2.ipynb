{
 "cells": [
  {
   "cell_type": "markdown",
   "id": "98380cd3",
   "metadata": {
    "papermill": {
     "duration": 0.035931,
     "end_time": "2022-03-20T10:09:25.225821",
     "exception": false,
     "start_time": "2022-03-20T10:09:25.189890",
     "status": "completed"
    },
    "tags": []
   },
   "source": [
    "# Distinguish Your Own Digits (DYOD)"
   ]
  },
  {
   "cell_type": "markdown",
   "id": "ef31240d",
   "metadata": {
    "papermill": {
     "duration": 0.033584,
     "end_time": "2022-03-20T10:09:25.289110",
     "exception": false,
     "start_time": "2022-03-20T10:09:25.255526",
     "status": "completed"
    },
    "tags": []
   },
   "source": [
    "You are going to write a classifier that distinguishes between the number 3 and number 8."
   ]
  },
  {
   "cell_type": "code",
   "execution_count": 1,
   "id": "b15c8646",
   "metadata": {
    "execution": {
     "iopub.execute_input": "2022-03-20T10:09:25.359998Z",
     "iopub.status.busy": "2022-03-20T10:09:25.359169Z",
     "iopub.status.idle": "2022-03-20T10:09:25.371729Z",
     "shell.execute_reply": "2022-03-20T10:09:25.370999Z"
    },
    "papermill": {
     "duration": 0.054091,
     "end_time": "2022-03-20T10:09:25.372311",
     "exception": false,
     "start_time": "2022-03-20T10:09:25.318220",
     "status": "completed"
    },
    "tags": []
   },
   "outputs": [],
   "source": [
    "%load_ext autoreload\n",
    "%autoreload 2"
   ]
  },
  {
   "cell_type": "code",
   "execution_count": 2,
   "id": "22ef38dc",
   "metadata": {
    "execution": {
     "iopub.execute_input": "2022-03-20T10:09:25.435478Z",
     "iopub.status.busy": "2022-03-20T10:09:25.434777Z",
     "iopub.status.idle": "2022-03-20T10:09:26.118730Z",
     "shell.execute_reply": "2022-03-20T10:09:26.118121Z"
    },
    "papermill": {
     "duration": 0.717292,
     "end_time": "2022-03-20T10:09:26.118902",
     "exception": false,
     "start_time": "2022-03-20T10:09:25.401610",
     "status": "completed"
    },
    "tags": []
   },
   "outputs": [],
   "source": [
    "%matplotlib inline\n",
    "import numpy as np\n",
    "import matplotlib.pyplot as plt\n",
    "import pandas as pd"
   ]
  },
  {
   "cell_type": "markdown",
   "id": "ba036198",
   "metadata": {
    "papermill": {
     "duration": 0.0288,
     "end_time": "2022-03-20T10:09:26.176710",
     "exception": false,
     "start_time": "2022-03-20T10:09:26.147910",
     "status": "completed"
    },
    "tags": []
   },
   "source": [
    "From the command line run `pip install mnist`. This is a library that will help you bring down the mnist dataset. If you run this from a notebook, you need to put  `!pip install mnist` in a cell by itself."
   ]
  },
  {
   "cell_type": "code",
   "execution_count": 3,
   "id": "bb6ad8a1",
   "metadata": {
    "execution": {
     "iopub.execute_input": "2022-03-20T10:09:26.243309Z",
     "iopub.status.busy": "2022-03-20T10:09:26.242646Z",
     "iopub.status.idle": "2022-03-20T10:09:28.140951Z",
     "shell.execute_reply": "2022-03-20T10:09:28.141408Z"
    },
    "papermill": {
     "duration": 1.933723,
     "end_time": "2022-03-20T10:09:28.141560",
     "exception": false,
     "start_time": "2022-03-20T10:09:26.207837",
     "status": "completed"
    },
    "tags": []
   },
   "outputs": [
    {
     "name": "stdout",
     "output_type": "stream",
     "text": [
      "Collecting mnist\r\n"
     ]
    },
    {
     "name": "stdout",
     "output_type": "stream",
     "text": [
      "  Downloading mnist-0.2.2-py2.py3-none-any.whl (3.5 kB)\r\n",
      "Requirement already satisfied: numpy in /opt/hostedtoolcache/Python/3.6.15/x64/lib/python3.6/site-packages (from mnist) (1.19.5)\r\n"
     ]
    },
    {
     "name": "stdout",
     "output_type": "stream",
     "text": [
      "Installing collected packages: mnist\r\n"
     ]
    },
    {
     "name": "stdout",
     "output_type": "stream",
     "text": [
      "Successfully installed mnist-0.2.2\r\n"
     ]
    }
   ],
   "source": [
    "!pip install mnist"
   ]
  },
  {
   "cell_type": "markdown",
   "id": "69df9c9a",
   "metadata": {
    "papermill": {
     "duration": 0.03272,
     "end_time": "2022-03-20T10:09:28.208940",
     "exception": false,
     "start_time": "2022-03-20T10:09:28.176220",
     "status": "completed"
    },
    "tags": []
   },
   "source": [
    "## Preparing the Data"
   ]
  },
  {
   "cell_type": "code",
   "execution_count": 4,
   "id": "7f69d806",
   "metadata": {
    "execution": {
     "iopub.execute_input": "2022-03-20T10:09:28.284220Z",
     "iopub.status.busy": "2022-03-20T10:09:28.282078Z",
     "iopub.status.idle": "2022-03-20T10:09:28.297709Z",
     "shell.execute_reply": "2022-03-20T10:09:28.298346Z"
    },
    "papermill": {
     "duration": 0.053129,
     "end_time": "2022-03-20T10:09:28.298503",
     "exception": false,
     "start_time": "2022-03-20T10:09:28.245374",
     "status": "completed"
    },
    "tags": []
   },
   "outputs": [],
   "source": [
    "import mnist"
   ]
  },
  {
   "cell_type": "code",
   "execution_count": 5,
   "id": "a411e44f",
   "metadata": {
    "execution": {
     "iopub.execute_input": "2022-03-20T10:09:28.364019Z",
     "iopub.status.busy": "2022-03-20T10:09:28.363458Z",
     "iopub.status.idle": "2022-03-20T10:09:28.887341Z",
     "shell.execute_reply": "2022-03-20T10:09:28.886677Z"
    },
    "papermill": {
     "duration": 0.558398,
     "end_time": "2022-03-20T10:09:28.887501",
     "exception": false,
     "start_time": "2022-03-20T10:09:28.329103",
     "status": "completed"
    },
    "tags": []
   },
   "outputs": [],
   "source": [
    "train_images = mnist.train_images()\n",
    "train_labels = mnist.train_labels()"
   ]
  },
  {
   "cell_type": "code",
   "execution_count": 6,
   "id": "dceab3a5",
   "metadata": {
    "execution": {
     "iopub.execute_input": "2022-03-20T10:09:28.955963Z",
     "iopub.status.busy": "2022-03-20T10:09:28.955240Z",
     "iopub.status.idle": "2022-03-20T10:09:28.972289Z",
     "shell.execute_reply": "2022-03-20T10:09:28.972870Z"
    },
    "papermill": {
     "duration": 0.054627,
     "end_time": "2022-03-20T10:09:28.973050",
     "exception": false,
     "start_time": "2022-03-20T10:09:28.918423",
     "status": "completed"
    },
    "tags": []
   },
   "outputs": [
    {
     "data": {
      "text/plain": [
       "((60000, 28, 28), (60000,))"
      ]
     },
     "execution_count": 6,
     "metadata": {},
     "output_type": "execute_result"
    }
   ],
   "source": [
    "train_images.shape, train_labels.shape"
   ]
  },
  {
   "cell_type": "code",
   "execution_count": 7,
   "id": "f50dc2bb",
   "metadata": {
    "execution": {
     "iopub.execute_input": "2022-03-20T10:09:29.038803Z",
     "iopub.status.busy": "2022-03-20T10:09:29.038080Z",
     "iopub.status.idle": "2022-03-20T10:09:29.169842Z",
     "shell.execute_reply": "2022-03-20T10:09:29.169080Z"
    },
    "papermill": {
     "duration": 0.165935,
     "end_time": "2022-03-20T10:09:29.169992",
     "exception": false,
     "start_time": "2022-03-20T10:09:29.004057",
     "status": "completed"
    },
    "tags": []
   },
   "outputs": [],
   "source": [
    "test_images = mnist.test_images()\n",
    "test_labels = mnist.test_labels()"
   ]
  },
  {
   "cell_type": "code",
   "execution_count": 8,
   "id": "fc38cf1b",
   "metadata": {
    "execution": {
     "iopub.execute_input": "2022-03-20T10:09:29.239138Z",
     "iopub.status.busy": "2022-03-20T10:09:29.238476Z",
     "iopub.status.idle": "2022-03-20T10:09:29.254363Z",
     "shell.execute_reply": "2022-03-20T10:09:29.253832Z"
    },
    "papermill": {
     "duration": 0.051547,
     "end_time": "2022-03-20T10:09:29.254496",
     "exception": false,
     "start_time": "2022-03-20T10:09:29.202949",
     "status": "completed"
    },
    "tags": []
   },
   "outputs": [
    {
     "data": {
      "text/plain": [
       "((10000, 28, 28), (10000,))"
      ]
     },
     "execution_count": 8,
     "metadata": {},
     "output_type": "execute_result"
    }
   ],
   "source": [
    "test_images.shape, test_labels.shape"
   ]
  },
  {
   "cell_type": "code",
   "execution_count": 9,
   "id": "f9ed8fe0",
   "metadata": {
    "execution": {
     "iopub.execute_input": "2022-03-20T10:09:29.315588Z",
     "iopub.status.busy": "2022-03-20T10:09:29.314960Z",
     "iopub.status.idle": "2022-03-20T10:09:29.505054Z",
     "shell.execute_reply": "2022-03-20T10:09:29.504547Z"
    },
    "papermill": {
     "duration": 0.221097,
     "end_time": "2022-03-20T10:09:29.505180",
     "exception": false,
     "start_time": "2022-03-20T10:09:29.284083",
     "status": "completed"
    },
    "tags": []
   },
   "outputs": [
    {
     "name": "stdout",
     "output_type": "stream",
     "text": [
      "2\n"
     ]
    },
    {
     "data": {
      "text/plain": [
       "<matplotlib.image.AxesImage at 0x7f3135be75c0>"
      ]
     },
     "execution_count": 9,
     "metadata": {},
     "output_type": "execute_result"
    },
    {
     "data": {
      "image/png": "[encoded data removed]",
      "text/plain": [
       "<Figure size 432x288 with 1 Axes>"
      ]
     },
     "metadata": {
      "needs_background": "light"
     },
     "output_type": "display_data"
    }
   ],
   "source": [
    "image_index = 7776 # You may select anything up to 60,000\n",
    "print(train_labels[image_index]) \n",
    "plt.imshow(train_images[image_index], cmap='Greys')"
   ]
  },
  {
   "cell_type": "markdown",
   "id": "a8d2388d",
   "metadata": {
    "papermill": {
     "duration": 0.030378,
     "end_time": "2022-03-20T10:09:29.566096",
     "exception": false,
     "start_time": "2022-03-20T10:09:29.535718",
     "status": "completed"
    },
    "tags": []
   },
   "source": [
    "## Filter data to get 3 and 8 out"
   ]
  },
  {
   "cell_type": "code",
   "execution_count": 10,
   "id": "776f7fc7",
   "metadata": {
    "execution": {
     "iopub.execute_input": "2022-03-20T10:09:29.634855Z",
     "iopub.status.busy": "2022-03-20T10:09:29.634263Z",
     "iopub.status.idle": "2022-03-20T10:09:29.655655Z",
     "shell.execute_reply": "2022-03-20T10:09:29.655133Z"
    },
    "papermill": {
     "duration": 0.056874,
     "end_time": "2022-03-20T10:09:29.655780",
     "exception": false,
     "start_time": "2022-03-20T10:09:29.598906",
     "status": "completed"
    },
    "tags": []
   },
   "outputs": [],
   "source": [
    "train_filter = np.where((train_labels == 3 ) | (train_labels == 8))\n",
    "test_filter = np.where((test_labels == 3) | (test_labels == 8))\n",
    "X_train, y_train = train_images[train_filter], train_labels[train_filter]\n",
    "X_test, y_test = test_images[test_filter], test_labels[test_filter]"
   ]
  },
  {
   "cell_type": "markdown",
   "id": "948f0b7e",
   "metadata": {
    "papermill": {
     "duration": 0.031443,
     "end_time": "2022-03-20T10:09:29.718196",
     "exception": false,
     "start_time": "2022-03-20T10:09:29.686753",
     "status": "completed"
    },
    "tags": []
   },
   "source": [
    "We normalize the pizel values in the 0 to 1 range"
   ]
  },
  {
   "cell_type": "code",
   "execution_count": 11,
   "id": "ee4c2166",
   "metadata": {
    "execution": {
     "iopub.execute_input": "2022-03-20T10:09:29.785709Z",
     "iopub.status.busy": "2022-03-20T10:09:29.784898Z",
     "iopub.status.idle": "2022-03-20T10:09:29.847717Z",
     "shell.execute_reply": "2022-03-20T10:09:29.847070Z"
    },
    "papermill": {
     "duration": 0.09789,
     "end_time": "2022-03-20T10:09:29.847862",
     "exception": false,
     "start_time": "2022-03-20T10:09:29.749972",
     "status": "completed"
    },
    "tags": []
   },
   "outputs": [],
   "source": [
    "X_train = X_train/255.\n",
    "X_test = X_test/255."
   ]
  },
  {
   "cell_type": "markdown",
   "id": "ddcf4fab",
   "metadata": {
    "papermill": {
     "duration": 0.03261,
     "end_time": "2022-03-20T10:09:29.916124",
     "exception": false,
     "start_time": "2022-03-20T10:09:29.883514",
     "status": "completed"
    },
    "tags": []
   },
   "source": [
    "And setup the labels as 1 (when the digit is 3) and 0 (when the digit is 8)"
   ]
  },
  {
   "cell_type": "code",
   "execution_count": 12,
   "id": "7dc908f2",
   "metadata": {
    "execution": {
     "iopub.execute_input": "2022-03-20T10:09:29.993452Z",
     "iopub.status.busy": "2022-03-20T10:09:29.992797Z",
     "iopub.status.idle": "2022-03-20T10:09:30.004388Z",
     "shell.execute_reply": "2022-03-20T10:09:30.003837Z"
    },
    "papermill": {
     "duration": 0.055351,
     "end_time": "2022-03-20T10:09:30.004529",
     "exception": false,
     "start_time": "2022-03-20T10:09:29.949178",
     "status": "completed"
    },
    "tags": []
   },
   "outputs": [],
   "source": [
    "y_train = 1*(y_train==3)\n",
    "y_test = 1*(y_test==3)"
   ]
  },
  {
   "cell_type": "code",
   "execution_count": 13,
   "id": "01e4e969",
   "metadata": {
    "execution": {
     "iopub.execute_input": "2022-03-20T10:09:30.078528Z",
     "iopub.status.busy": "2022-03-20T10:09:30.077757Z",
     "iopub.status.idle": "2022-03-20T10:09:30.095349Z",
     "shell.execute_reply": "2022-03-20T10:09:30.094751Z"
    },
    "papermill": {
     "duration": 0.057003,
     "end_time": "2022-03-20T10:09:30.095505",
     "exception": false,
     "start_time": "2022-03-20T10:09:30.038502",
     "status": "completed"
    },
    "tags": []
   },
   "outputs": [
    {
     "data": {
      "text/plain": [
       "((11982, 28, 28), (1984, 28, 28))"
      ]
     },
     "execution_count": 13,
     "metadata": {},
     "output_type": "execute_result"
    }
   ],
   "source": [
    "X_train.shape, X_test.shape"
   ]
  },
  {
   "cell_type": "markdown",
   "id": "5ccf3f85",
   "metadata": {
    "papermill": {
     "duration": 0.034798,
     "end_time": "2022-03-20T10:09:30.165591",
     "exception": false,
     "start_time": "2022-03-20T10:09:30.130793",
     "status": "completed"
    },
    "tags": []
   },
   "source": [
    "We reshape the data to flatten the image pixels into a set of features or co-variates:"
   ]
  },
  {
   "cell_type": "code",
   "execution_count": 14,
   "id": "5286a4a3",
   "metadata": {
    "execution": {
     "iopub.execute_input": "2022-03-20T10:09:30.239373Z",
     "iopub.status.busy": "2022-03-20T10:09:30.238647Z",
     "iopub.status.idle": "2022-03-20T10:09:30.252940Z",
     "shell.execute_reply": "2022-03-20T10:09:30.253724Z"
    },
    "papermill": {
     "duration": 0.055057,
     "end_time": "2022-03-20T10:09:30.253932",
     "exception": false,
     "start_time": "2022-03-20T10:09:30.198875",
     "status": "completed"
    },
    "tags": []
   },
   "outputs": [
    {
     "data": {
      "text/plain": [
       "((11982, 784), (1984, 784))"
      ]
     },
     "execution_count": 14,
     "metadata": {},
     "output_type": "execute_result"
    }
   ],
   "source": [
    "X_train = X_train.reshape(X_train.shape[0], -1)\n",
    "X_test = X_test.reshape(X_test.shape[0], -1)\n",
    "X_train.shape, X_test.shape"
   ]
  },
  {
   "cell_type": "code",
   "execution_count": 15,
   "id": "73c5f88a",
   "metadata": {
    "execution": {
     "iopub.execute_input": "2022-03-20T10:09:30.327084Z",
     "iopub.status.busy": "2022-03-20T10:09:30.326491Z",
     "iopub.status.idle": "2022-03-20T10:09:30.346022Z",
     "shell.execute_reply": "2022-03-20T10:09:30.346594Z"
    },
    "papermill": {
     "duration": 0.060298,
     "end_time": "2022-03-20T10:09:30.346749",
     "exception": false,
     "start_time": "2022-03-20T10:09:30.286451",
     "status": "completed"
    },
    "tags": []
   },
   "outputs": [],
   "source": [
    "#Impoting functions from 'Kudzu'\n",
    "from kudzu.model import Model\n",
    "from kudzu.train import Learner\n",
    "from kudzu.optim import GD\n",
    "from kudzu.data import Data, Sampler,Dataloader\n",
    "\n",
    "from kudzu.callbacks import AccCallback\n",
    "from kudzu.callbacks import ClfCallback\n",
    "\n",
    "from kudzu.loss import MSE\n",
    "\n",
    "from kudzu.layer import Sigmoid,Relu\n",
    "from kudzu.layer import Affine"
   ]
  },
  {
   "cell_type": "markdown",
   "id": "bc01172a",
   "metadata": {
    "papermill": {
     "duration": 0.033139,
     "end_time": "2022-03-20T10:09:30.411925",
     "exception": false,
     "start_time": "2022-03-20T10:09:30.378786",
     "status": "completed"
    },
    "tags": []
   },
   "source": [
    "### Let us create a `Config` class, to store important parameters. \n",
    "This class essentially plays the role of a dictionary."
   ]
  },
  {
   "cell_type": "code",
   "execution_count": 16,
   "id": "978281aa",
   "metadata": {
    "execution": {
     "iopub.execute_input": "2022-03-20T10:09:30.484090Z",
     "iopub.status.busy": "2022-03-20T10:09:30.483164Z",
     "iopub.status.idle": "2022-03-20T10:09:30.497376Z",
     "shell.execute_reply": "2022-03-20T10:09:30.496805Z"
    },
    "papermill": {
     "duration": 0.052465,
     "end_time": "2022-03-20T10:09:30.497497",
     "exception": false,
     "start_time": "2022-03-20T10:09:30.445032",
     "status": "completed"
    },
    "tags": []
   },
   "outputs": [],
   "source": [
    "class Config:\n",
    "    pass\n",
    "config = Config()\n",
    "config.lr = 0.001\n",
    "config.num_epochs = 250\n",
    "config.bs = 50"
   ]
  },
  {
   "cell_type": "markdown",
   "id": "1385fa59",
   "metadata": {
    "papermill": {
     "duration": 0.035701,
     "end_time": "2022-03-20T10:09:30.565574",
     "exception": false,
     "start_time": "2022-03-20T10:09:30.529873",
     "status": "completed"
    },
    "tags": []
   },
   "source": [
    "### Running Models with the Training data\n",
    "Details about the network layers:\n",
    "- A first affine layer has 784 inputs and does 100 affine transforms. These are followed by a Relu\n",
    "- A second affine layer has 100 inputs from the 100 activations of the past layer, and does 100 affine transforms. These are followed by a Relu\n",
    "- A third affine layer has 100 activations and does 2 affine transformations to create an embedding for visualization. There is no non-linearity here.\n",
    "- A final \"logistic regression\" which has an affine transform from 2 inputs to 1 output, which is squeezed through a sigmoid.\n"
   ]
  },
  {
   "cell_type": "code",
   "execution_count": 17,
   "id": "2b9c66db",
   "metadata": {
    "execution": {
     "iopub.execute_input": "2022-03-20T10:09:30.640591Z",
     "iopub.status.busy": "2022-03-20T10:09:30.639832Z",
     "iopub.status.idle": "2022-03-20T10:09:30.654820Z",
     "shell.execute_reply": "2022-03-20T10:09:30.655397Z"
    },
    "papermill": {
     "duration": 0.055953,
     "end_time": "2022-03-20T10:09:30.655546",
     "exception": false,
     "start_time": "2022-03-20T10:09:30.599593",
     "status": "completed"
    },
    "tags": []
   },
   "outputs": [],
   "source": [
    "data = Data(X_train, y_train.reshape(-1,1))\n",
    "sampler = Sampler(data, config.bs, shuffle=True)\n",
    "\n",
    "dl = Dataloader(data, sampler)\n",
    "\n",
    "opt = GD(config.lr)\n",
    "loss = MSE()"
   ]
  },
  {
   "cell_type": "code",
   "execution_count": 18,
   "id": "b275e4c2",
   "metadata": {
    "execution": {
     "iopub.execute_input": "2022-03-20T10:09:30.725230Z",
     "iopub.status.busy": "2022-03-20T10:09:30.724527Z",
     "iopub.status.idle": "2022-03-20T10:09:30.738637Z",
     "shell.execute_reply": "2022-03-20T10:09:30.738130Z"
    },
    "papermill": {
     "duration": 0.049807,
     "end_time": "2022-03-20T10:09:30.738798",
     "exception": false,
     "start_time": "2022-03-20T10:09:30.688991",
     "status": "completed"
    },
    "tags": []
   },
   "outputs": [],
   "source": [
    "training_data_x = X_train\n",
    "testing_data_x = X_test\n",
    "training_data_y = y_train.reshape(-1,1)\n",
    "testing_data_y = y_test.reshape(-1,1)"
   ]
  },
  {
   "cell_type": "code",
   "execution_count": 19,
   "id": "76951160",
   "metadata": {
    "execution": {
     "iopub.execute_input": "2022-03-20T10:09:30.809770Z",
     "iopub.status.busy": "2022-03-20T10:09:30.808937Z",
     "iopub.status.idle": "2022-03-20T10:09:30.828067Z",
     "shell.execute_reply": "2022-03-20T10:09:30.827491Z"
    },
    "papermill": {
     "duration": 0.056177,
     "end_time": "2022-03-20T10:09:30.828195",
     "exception": false,
     "start_time": "2022-03-20T10:09:30.772018",
     "status": "completed"
    },
    "tags": []
   },
   "outputs": [
    {
     "name": "stdout",
     "output_type": "stream",
     "text": [
      "xavier\n",
      "xavier\n",
      "xavier\n",
      "xavier\n",
      "xavier\n"
     ]
    }
   ],
   "source": [
    "layers = [Affine(\"first\", 784, 100), Relu(\"first\"), Affine(\"second\", 100, 100), Relu(\"second\"), Affine(\"third\", 100, 2), Affine(\"last\", 2, 1), Sigmoid(\"last\")]\n",
    "model_nn = Model(layers)\n",
    "model_lr = Model([Affine(\"logits\", 784, 1), Sigmoid(\"sigmoid\")])"
   ]
  },
  {
   "cell_type": "code",
   "execution_count": 20,
   "id": "6eede77a",
   "metadata": {
    "execution": {
     "iopub.execute_input": "2022-03-20T10:09:30.905490Z",
     "iopub.status.busy": "2022-03-20T10:09:30.904884Z",
     "iopub.status.idle": "2022-03-20T10:09:30.917916Z",
     "shell.execute_reply": "2022-03-20T10:09:30.917253Z"
    },
    "papermill": {
     "duration": 0.054128,
     "end_time": "2022-03-20T10:09:30.918046",
     "exception": false,
     "start_time": "2022-03-20T10:09:30.863918",
     "status": "completed"
    },
    "tags": []
   },
   "outputs": [],
   "source": [
    "nn_learner = Learner(loss, model_nn, opt, config.num_epochs)\n",
    "acc_nn = ClfCallback(nn_learner, config.bs, training_data_x , testing_data_x, training_data_y, testing_data_y)\n",
    "nn_learner.set_callbacks([acc_nn])"
   ]
  },
  {
   "cell_type": "code",
   "execution_count": 21,
   "id": "877b6cc7",
   "metadata": {
    "execution": {
     "iopub.execute_input": "2022-03-20T10:09:30.989919Z",
     "iopub.status.busy": "2022-03-20T10:09:30.989052Z",
     "iopub.status.idle": "2022-03-20T10:09:31.002001Z",
     "shell.execute_reply": "2022-03-20T10:09:31.002441Z"
    },
    "papermill": {
     "duration": 0.053995,
     "end_time": "2022-03-20T10:09:31.002630",
     "exception": false,
     "start_time": "2022-03-20T10:09:30.948635",
     "status": "completed"
    },
    "tags": []
   },
   "outputs": [],
   "source": [
    "lr_learner = Learner(loss, model_lr, opt, config.num_epochs)\n",
    "acc_lr = ClfCallback(lr_learner, config.bs, training_data_x , testing_data_x, training_data_y, testing_data_y)\n",
    "lr_learner.set_callbacks([acc_lr])"
   ]
  },
  {
   "cell_type": "code",
   "execution_count": 22,
   "id": "d9b133c3",
   "metadata": {
    "execution": {
     "iopub.execute_input": "2022-03-20T10:09:31.077485Z",
     "iopub.status.busy": "2022-03-20T10:09:31.076863Z",
     "iopub.status.idle": "2022-03-20T10:11:54.580436Z",
     "shell.execute_reply": "2022-03-20T10:11:54.580924Z"
    },
    "papermill": {
     "duration": 143.542846,
     "end_time": "2022-03-20T10:11:54.581106",
     "exception": false,
     "start_time": "2022-03-20T10:09:31.038260",
     "status": "completed"
    },
    "tags": []
   },
   "outputs": [
    {
     "name": "stdout",
     "output_type": "stream",
     "text": [
      "Epoch 0, Loss 0.213\n",
      "Training Accuracy: 0.7846, Testing Accuracy: 0.7959\n",
      "\n"
     ]
    },
    {
     "name": "stdout",
     "output_type": "stream",
     "text": [
      "Epoch 10, Loss 0.0746\n",
      "Training Accuracy: 0.9324, Testing Accuracy: 0.9461\n",
      "\n"
     ]
    },
    {
     "name": "stdout",
     "output_type": "stream",
     "text": [
      "Epoch 20, Loss 0.0486\n",
      "Training Accuracy: 0.9495, Testing Accuracy: 0.9617\n",
      "\n"
     ]
    },
    {
     "name": "stdout",
     "output_type": "stream",
     "text": [
      "Epoch 30, Loss 0.0397\n",
      "Training Accuracy: 0.9561, Testing Accuracy: 0.9667\n",
      "\n"
     ]
    },
    {
     "name": "stdout",
     "output_type": "stream",
     "text": [
      "Epoch 40, Loss 0.0351\n",
      "Training Accuracy: 0.9599, Testing Accuracy: 0.9682\n",
      "\n"
     ]
    },
    {
     "name": "stdout",
     "output_type": "stream",
     "text": [
      "Epoch 50, Loss 0.0323\n",
      "Training Accuracy: 0.9626, Testing Accuracy: 0.9698\n",
      "\n"
     ]
    },
    {
     "name": "stdout",
     "output_type": "stream",
     "text": [
      "Epoch 60, Loss 0.0303\n",
      "Training Accuracy: 0.9647, Testing Accuracy: 0.9698\n",
      "\n"
     ]
    },
    {
     "name": "stdout",
     "output_type": "stream",
     "text": [
      "Epoch 70, Loss 0.0288\n",
      "Training Accuracy: 0.9664, Testing Accuracy: 0.9713\n",
      "\n"
     ]
    },
    {
     "name": "stdout",
     "output_type": "stream",
     "text": [
      "Epoch 80, Loss 0.0276\n",
      "Training Accuracy: 0.9675, Testing Accuracy: 0.9718\n",
      "\n"
     ]
    },
    {
     "name": "stdout",
     "output_type": "stream",
     "text": [
      "Epoch 90, Loss 0.0266\n",
      "Training Accuracy: 0.9690, Testing Accuracy: 0.9708\n",
      "\n"
     ]
    },
    {
     "name": "stdout",
     "output_type": "stream",
     "text": [
      "Epoch 100, Loss 0.0257\n",
      "Training Accuracy: 0.9701, Testing Accuracy: 0.9723\n",
      "\n"
     ]
    },
    {
     "name": "stdout",
     "output_type": "stream",
     "text": [
      "Epoch 110, Loss 0.0249\n",
      "Training Accuracy: 0.9710, Testing Accuracy: 0.9718\n",
      "\n"
     ]
    },
    {
     "name": "stdout",
     "output_type": "stream",
     "text": [
      "Epoch 120, Loss 0.0242\n",
      "Training Accuracy: 0.9722, Testing Accuracy: 0.9723\n",
      "\n"
     ]
    },
    {
     "name": "stdout",
     "output_type": "stream",
     "text": [
      "Epoch 130, Loss 0.0236\n",
      "Training Accuracy: 0.9727, Testing Accuracy: 0.9718\n",
      "\n"
     ]
    },
    {
     "name": "stdout",
     "output_type": "stream",
     "text": [
      "Epoch 140, Loss 0.023\n",
      "Training Accuracy: 0.9730, Testing Accuracy: 0.9708\n",
      "\n"
     ]
    },
    {
     "name": "stdout",
     "output_type": "stream",
     "text": [
      "Epoch 150, Loss 0.0224\n",
      "Training Accuracy: 0.9740, Testing Accuracy: 0.9718\n",
      "\n"
     ]
    },
    {
     "name": "stdout",
     "output_type": "stream",
     "text": [
      "Epoch 160, Loss 0.0219\n",
      "Training Accuracy: 0.9746, Testing Accuracy: 0.9718\n",
      "\n"
     ]
    },
    {
     "name": "stdout",
     "output_type": "stream",
     "text": [
      "Epoch 170, Loss 0.0214\n",
      "Training Accuracy: 0.9757, Testing Accuracy: 0.9713\n",
      "\n"
     ]
    },
    {
     "name": "stdout",
     "output_type": "stream",
     "text": [
      "Epoch 180, Loss 0.021\n",
      "Training Accuracy: 0.9764, Testing Accuracy: 0.9718\n",
      "\n"
     ]
    },
    {
     "name": "stdout",
     "output_type": "stream",
     "text": [
      "Epoch 190, Loss 0.0206\n",
      "Training Accuracy: 0.9771, Testing Accuracy: 0.9718\n",
      "\n"
     ]
    },
    {
     "name": "stdout",
     "output_type": "stream",
     "text": [
      "Epoch 200, Loss 0.0201\n",
      "Training Accuracy: 0.9778, Testing Accuracy: 0.9718\n",
      "\n"
     ]
    },
    {
     "name": "stdout",
     "output_type": "stream",
     "text": [
      "Epoch 210, Loss 0.0197\n",
      "Training Accuracy: 0.9781, Testing Accuracy: 0.9733\n",
      "\n"
     ]
    },
    {
     "name": "stdout",
     "output_type": "stream",
     "text": [
      "Epoch 220, Loss 0.0194\n",
      "Training Accuracy: 0.9789, Testing Accuracy: 0.9733\n",
      "\n"
     ]
    },
    {
     "name": "stdout",
     "output_type": "stream",
     "text": [
      "Epoch 230, Loss 0.019\n",
      "Training Accuracy: 0.9793, Testing Accuracy: 0.9738\n",
      "\n"
     ]
    },
    {
     "name": "stdout",
     "output_type": "stream",
     "text": [
      "Epoch 240, Loss 0.0186\n",
      "Training Accuracy: 0.9798, Testing Accuracy: 0.9743\n",
      "\n"
     ]
    },
    {
     "data": {
      "text/plain": [
       "0.027656193650382375"
      ]
     },
     "execution_count": 22,
     "metadata": {},
     "output_type": "execute_result"
    }
   ],
   "source": [
    "nn_learner.train_loop(dl)"
   ]
  },
  {
   "cell_type": "code",
   "execution_count": 23,
   "id": "e0163366",
   "metadata": {
    "execution": {
     "iopub.execute_input": "2022-03-20T10:11:54.680680Z",
     "iopub.status.busy": "2022-03-20T10:11:54.680073Z",
     "iopub.status.idle": "2022-03-20T10:12:15.494701Z",
     "shell.execute_reply": "2022-03-20T10:12:15.495706Z"
    },
    "papermill": {
     "duration": 20.870113,
     "end_time": "2022-03-20T10:12:15.495919",
     "exception": false,
     "start_time": "2022-03-20T10:11:54.625806",
     "status": "completed"
    },
    "tags": []
   },
   "outputs": [
    {
     "name": "stdout",
     "output_type": "stream",
     "text": [
      "Epoch 0, Loss 0.2343\n",
      "Training Accuracy: 0.6850, Testing Accuracy: 0.6799\n",
      "\n"
     ]
    },
    {
     "name": "stdout",
     "output_type": "stream",
     "text": [
      "Epoch 10, Loss 0.1099\n",
      "Training Accuracy: 0.8852, Testing Accuracy: 0.8942\n",
      "\n"
     ]
    },
    {
     "name": "stdout",
     "output_type": "stream",
     "text": [
      "Epoch 20, Loss 0.0833\n",
      "Training Accuracy: 0.9165, Testing Accuracy: 0.9244\n",
      "\n"
     ]
    },
    {
     "name": "stdout",
     "output_type": "stream",
     "text": [
      "Epoch 30, Loss 0.0709\n",
      "Training Accuracy: 0.9314, Testing Accuracy: 0.9395\n",
      "\n"
     ]
    },
    {
     "name": "stdout",
     "output_type": "stream",
     "text": [
      "Epoch 40, Loss 0.0635\n",
      "Training Accuracy: 0.9381, Testing Accuracy: 0.9476\n",
      "\n"
     ]
    },
    {
     "name": "stdout",
     "output_type": "stream",
     "text": [
      "Epoch 50, Loss 0.0586\n",
      "Training Accuracy: 0.9420, Testing Accuracy: 0.9536\n",
      "\n"
     ]
    },
    {
     "name": "stdout",
     "output_type": "stream",
     "text": [
      "Epoch 60, Loss 0.055\n",
      "Training Accuracy: 0.9453, Testing Accuracy: 0.9546\n",
      "\n"
     ]
    },
    {
     "name": "stdout",
     "output_type": "stream",
     "text": [
      "Epoch 70, Loss 0.0522\n",
      "Training Accuracy: 0.9477, Testing Accuracy: 0.9597\n",
      "\n"
     ]
    },
    {
     "name": "stdout",
     "output_type": "stream",
     "text": [
      "Epoch 80, Loss 0.05\n",
      "Training Accuracy: 0.9491, Testing Accuracy: 0.9602\n",
      "\n"
     ]
    },
    {
     "name": "stdout",
     "output_type": "stream",
     "text": [
      "Epoch 90, Loss 0.0482\n",
      "Training Accuracy: 0.9508, Testing Accuracy: 0.9617\n",
      "\n"
     ]
    },
    {
     "name": "stdout",
     "output_type": "stream",
     "text": [
      "Epoch 100, Loss 0.0467\n",
      "Training Accuracy: 0.9518, Testing Accuracy: 0.9627\n",
      "\n"
     ]
    },
    {
     "name": "stdout",
     "output_type": "stream",
     "text": [
      "Epoch 110, Loss 0.0454\n",
      "Training Accuracy: 0.9532, Testing Accuracy: 0.9637\n",
      "\n"
     ]
    },
    {
     "name": "stdout",
     "output_type": "stream",
     "text": [
      "Epoch 120, Loss 0.0443\n",
      "Training Accuracy: 0.9543, Testing Accuracy: 0.9632\n",
      "\n"
     ]
    },
    {
     "name": "stdout",
     "output_type": "stream",
     "text": [
      "Epoch 130, Loss 0.0433\n",
      "Training Accuracy: 0.9552, Testing Accuracy: 0.9637\n",
      "\n"
     ]
    },
    {
     "name": "stdout",
     "output_type": "stream",
     "text": [
      "Epoch 140, Loss 0.0425\n",
      "Training Accuracy: 0.9561, Testing Accuracy: 0.9647\n",
      "\n"
     ]
    },
    {
     "name": "stdout",
     "output_type": "stream",
     "text": [
      "Epoch 150, Loss 0.0417\n",
      "Training Accuracy: 0.9567, Testing Accuracy: 0.9647\n",
      "\n"
     ]
    },
    {
     "name": "stdout",
     "output_type": "stream",
     "text": [
      "Epoch 160, Loss 0.041\n",
      "Training Accuracy: 0.9572, Testing Accuracy: 0.9642\n",
      "\n"
     ]
    },
    {
     "name": "stdout",
     "output_type": "stream",
     "text": [
      "Epoch 170, Loss 0.0404\n",
      "Training Accuracy: 0.9580, Testing Accuracy: 0.9647\n",
      "\n"
     ]
    },
    {
     "name": "stdout",
     "output_type": "stream",
     "text": [
      "Epoch 180, Loss 0.0398\n",
      "Training Accuracy: 0.9588, Testing Accuracy: 0.9647\n",
      "\n"
     ]
    },
    {
     "name": "stdout",
     "output_type": "stream",
     "text": [
      "Epoch 190, Loss 0.0393\n",
      "Training Accuracy: 0.9589, Testing Accuracy: 0.9647\n",
      "\n"
     ]
    },
    {
     "name": "stdout",
     "output_type": "stream",
     "text": [
      "Epoch 200, Loss 0.0388\n",
      "Training Accuracy: 0.9593, Testing Accuracy: 0.9652\n",
      "\n"
     ]
    },
    {
     "name": "stdout",
     "output_type": "stream",
     "text": [
      "Epoch 210, Loss 0.0383\n",
      "Training Accuracy: 0.9597, Testing Accuracy: 0.9662\n",
      "\n"
     ]
    },
    {
     "name": "stdout",
     "output_type": "stream",
     "text": [
      "Epoch 220, Loss 0.0379\n",
      "Training Accuracy: 0.9598, Testing Accuracy: 0.9667\n",
      "\n"
     ]
    },
    {
     "name": "stdout",
     "output_type": "stream",
     "text": [
      "Epoch 230, Loss 0.0375\n",
      "Training Accuracy: 0.9603, Testing Accuracy: 0.9672\n",
      "\n"
     ]
    },
    {
     "name": "stdout",
     "output_type": "stream",
     "text": [
      "Epoch 240, Loss 0.0371\n",
      "Training Accuracy: 0.9606, Testing Accuracy: 0.9667\n",
      "\n"
     ]
    },
    {
     "data": {
      "text/plain": [
       "0.03057404383556834"
      ]
     },
     "execution_count": 23,
     "metadata": {},
     "output_type": "execute_result"
    }
   ],
   "source": [
    "lr_learner.train_loop(dl)"
   ]
  },
  {
   "cell_type": "code",
   "execution_count": 24,
   "id": "ca410940",
   "metadata": {
    "execution": {
     "iopub.execute_input": "2022-03-20T10:12:15.606129Z",
     "iopub.status.busy": "2022-03-20T10:12:15.605438Z",
     "iopub.status.idle": "2022-03-20T10:12:15.906756Z",
     "shell.execute_reply": "2022-03-20T10:12:15.907363Z"
    },
    "papermill": {
     "duration": 0.361587,
     "end_time": "2022-03-20T10:12:15.907522",
     "exception": false,
     "start_time": "2022-03-20T10:12:15.545935",
     "status": "completed"
    },
    "tags": []
   },
   "outputs": [
    {
     "data": {
      "text/plain": [
       "<matplotlib.legend.Legend at 0x7f31357c2cf8>"
      ]
     },
     "execution_count": 24,
     "metadata": {},
     "output_type": "execute_result"
    },
    {
     "data": {
      "image/png": "[encoded data removed]",
      "text/plain": [
       "<Figure size 1080x720 with 1 Axes>"
      ]
     },
     "metadata": {
      "needs_background": "light"
     },
     "output_type": "display_data"
    }
   ],
   "source": [
    "#comparing the results of NN and LR\n",
    "plt.figure(figsize=(15,10))\n",
    "\n",
    "# Neural Network plots\n",
    "plt.plot(acc_nn.accuracies, 'r-', label = \"Training Accuracies - NN\")\n",
    "plt.plot(acc_nn.test_accuracies, 'g-', label = \"Testing Accuracies - NN\")\n",
    "\n",
    "# Logistic Regression plots\n",
    "plt.plot(acc_lr.accuracies, 'k-', label = \"Training Accuracies - LR\")\n",
    "plt.plot(acc_lr.test_accuracies, 'b-', label = \"Testing Accuracies - LR\")\n",
    "plt.legend()"
   ]
  },
  {
   "cell_type": "markdown",
   "id": "80dfb35c",
   "metadata": {
    "papermill": {
     "duration": 0.048926,
     "end_time": "2022-03-20T10:12:16.003236",
     "exception": false,
     "start_time": "2022-03-20T10:12:15.954310",
     "status": "completed"
    },
    "tags": []
   },
   "source": [
    "#### Plotting the outputs of this layer of the NN.\n"
   ]
  },
  {
   "cell_type": "code",
   "execution_count": 25,
   "id": "45eb2ff5",
   "metadata": {
    "execution": {
     "iopub.execute_input": "2022-03-20T10:12:16.105152Z",
     "iopub.status.busy": "2022-03-20T10:12:16.104518Z",
     "iopub.status.idle": "2022-03-20T10:12:16.132056Z",
     "shell.execute_reply": "2022-03-20T10:12:16.132561Z"
    },
    "papermill": {
     "duration": 0.079825,
     "end_time": "2022-03-20T10:12:16.132708",
     "exception": false,
     "start_time": "2022-03-20T10:12:16.052883",
     "status": "completed"
    },
    "tags": []
   },
   "outputs": [],
   "source": [
    "new_model = Model(layers[:-2])\n",
    "testing_plot = new_model(testing_data_x)"
   ]
  },
  {
   "cell_type": "code",
   "execution_count": 26,
   "id": "4c0a5485",
   "metadata": {
    "execution": {
     "iopub.execute_input": "2022-03-20T10:12:16.251105Z",
     "iopub.status.busy": "2022-03-20T10:12:16.250392Z",
     "iopub.status.idle": "2022-03-20T10:12:16.501983Z",
     "shell.execute_reply": "2022-03-20T10:12:16.502398Z"
    },
    "papermill": {
     "duration": 0.31323,
     "end_time": "2022-03-20T10:12:16.502555",
     "exception": false,
     "start_time": "2022-03-20T10:12:16.189325",
     "status": "completed"
    },
    "tags": []
   },
   "outputs": [
    {
     "data": {
      "text/plain": [
       "Text(0.5, 1.0, 'Outputs')"
      ]
     },
     "execution_count": 26,
     "metadata": {},
     "output_type": "execute_result"
    },
    {
     "data": {
      "image/png": "[encoded data removed]",
      "text/plain": [
       "<Figure size 576x504 with 1 Axes>"
      ]
     },
     "metadata": {
      "needs_background": "light"
     },
     "output_type": "display_data"
    }
   ],
   "source": [
    "# Plotting the scatter plot of points and color coding by class\n",
    "plt.figure(figsize=(8,7))\n",
    "plt.scatter(testing_plot[:,0], testing_plot[:,1], alpha = 0.1, c = y_test.ravel());\n",
    "plt.title('Outputs')"
   ]
  },
  {
   "cell_type": "markdown",
   "id": "a74fcf8f",
   "metadata": {
    "papermill": {
     "duration": 0.046508,
     "end_time": "2022-03-20T10:12:16.600247",
     "exception": false,
     "start_time": "2022-03-20T10:12:16.553739",
     "status": "completed"
    },
    "tags": []
   },
   "source": [
    "Probability contours"
   ]
  },
  {
   "cell_type": "code",
   "execution_count": 27,
   "id": "d0afc8e3",
   "metadata": {
    "execution": {
     "iopub.execute_input": "2022-03-20T10:12:16.722425Z",
     "iopub.status.busy": "2022-03-20T10:12:16.721827Z",
     "iopub.status.idle": "2022-03-20T10:12:16.734681Z",
     "shell.execute_reply": "2022-03-20T10:12:16.734261Z"
    },
    "papermill": {
     "duration": 0.064947,
     "end_time": "2022-03-20T10:12:16.734794",
     "exception": false,
     "start_time": "2022-03-20T10:12:16.669847",
     "status": "completed"
    },
    "tags": []
   },
   "outputs": [],
   "source": [
    "model_prob = Model(layers[-2:]) "
   ]
  },
  {
   "cell_type": "code",
   "execution_count": 28,
   "id": "9b96e238",
   "metadata": {
    "execution": {
     "iopub.execute_input": "2022-03-20T10:12:16.849284Z",
     "iopub.status.busy": "2022-03-20T10:12:16.848517Z",
     "iopub.status.idle": "2022-03-20T10:12:16.864332Z",
     "shell.execute_reply": "2022-03-20T10:12:16.864784Z"
    },
    "papermill": {
     "duration": 0.080926,
     "end_time": "2022-03-20T10:12:16.864930",
     "exception": false,
     "start_time": "2022-03-20T10:12:16.784004",
     "status": "completed"
    },
    "tags": []
   },
   "outputs": [],
   "source": [
    "#creating the x and y ranges according to the above generated plot.\n",
    "x_range = np.linspace(-4, 1, 100) \n",
    "y_range = np.linspace(-6, 6, 100) \n",
    "x_grid, y_grid = np.meshgrid(x_range, y_range) # x_grid and y_grig are of size 100 X 100\n",
    "\n",
    "# converting x_grid and y_grid to continuous arrays\n",
    "x_gridflat = np.ravel(x_grid)\n",
    "y_gridflat = np.ravel(y_grid)\n",
    "\n",
    "# The last layer of the current model takes two columns as input. Hence transpose of np.vstack() is required.\n",
    "X = np.vstack((x_gridflat, y_gridflat)).T\n",
    "\n",
    "prob_contour = model_prob(X).reshape(100,100) "
   ]
  },
  {
   "cell_type": "code",
   "execution_count": 29,
   "id": "da72499a",
   "metadata": {
    "execution": {
     "iopub.execute_input": "2022-03-20T10:12:16.973028Z",
     "iopub.status.busy": "2022-03-20T10:12:16.972446Z",
     "iopub.status.idle": "2022-03-20T10:12:17.315226Z",
     "shell.execute_reply": "2022-03-20T10:12:17.314620Z"
    },
    "papermill": {
     "duration": 0.399388,
     "end_time": "2022-03-20T10:12:17.315407",
     "exception": false,
     "start_time": "2022-03-20T10:12:16.916019",
     "status": "completed"
    },
    "tags": []
   },
   "outputs": [
    {
     "data": {
      "image/png": "[encoded data removed]",
      "text/plain": [
       "<Figure size 720x648 with 1 Axes>"
      ]
     },
     "metadata": {
      "needs_background": "light"
     },
     "output_type": "display_data"
    }
   ],
   "source": [
    "plt.figure(figsize=(10,9))\n",
    "plt.scatter(testing_plot[:,0], testing_plot[:,1], alpha = 0.1, c = y_test.ravel())\n",
    "contours = plt.contour(x_grid,y_grid,prob_contour)\n",
    "plt.title('Probability Contours')\n",
    "plt.clabel(contours, inline = True );"
   ]
  },
  {
   "cell_type": "code",
   "execution_count": null,
   "id": "e81b4ac7",
   "metadata": {
    "papermill": {
     "duration": 0.058424,
     "end_time": "2022-03-20T10:12:17.434478",
     "exception": false,
     "start_time": "2022-03-20T10:12:17.376054",
     "status": "completed"
    },
    "tags": []
   },
   "outputs": [],
   "source": []
  }
 ],
 "metadata": {
  "kernelspec": {
   "display_name": "Python 3",
   "language": "python",
   "name": "python3"
  },
  "language_info": {
   "codemirror_mode": {
    "name": "ipython",
    "version": 3
   },
   "file_extension": ".py",
   "mimetype": "text/x-python",
   "name": "python",
   "nbconvert_exporter": "python",
   "pygments_lexer": "ipython3",
   "version": "3.6.15"
  },
  "papermill": {
   "default_parameters": {},
   "duration": 174.030071,
   "end_time": "2022-03-20T10:12:17.922703",
   "environment_variables": {},
   "exception": null,
   "input_path": "2020-08-11-part2.ipynb",
   "output_path": "2020-08-11-part2.ipynb",
   "parameters": {},
   "start_time": "2022-03-20T10:09:23.892632",
   "version": "2.3.3"
  }
 },
 "nbformat": 4,
 "nbformat_minor": 5
}