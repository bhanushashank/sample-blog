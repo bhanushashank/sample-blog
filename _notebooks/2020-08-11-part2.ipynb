{
 "cells": [
  {
   "cell_type": "markdown",
   "id": "98380cd3",
   "metadata": {
    "papermill": {
     "duration": 0.028863,
     "end_time": "2022-10-31T20:12:16.135271",
     "exception": false,
     "start_time": "2022-10-31T20:12:16.106408",
     "status": "completed"
    },
    "tags": []
   },
   "source": [
    "# Distinguish Your Own Digits (DYOD)"
   ]
  },
  {
   "cell_type": "markdown",
   "id": "ef31240d",
   "metadata": {
    "papermill": {
     "duration": 0.024021,
     "end_time": "2022-10-31T20:12:16.184002",
     "exception": false,
     "start_time": "2022-10-31T20:12:16.159981",
     "status": "completed"
    },
    "tags": []
   },
   "source": [
    "You are going to write a classifier that distinguishes between the number 3 and number 8."
   ]
  },
  {
   "cell_type": "code",
   "execution_count": 1,
   "id": "b15c8646",
   "metadata": {
    "execution": {
     "iopub.execute_input": "2022-10-31T20:12:16.242127Z",
     "iopub.status.busy": "2022-10-31T20:12:16.241561Z",
     "iopub.status.idle": "2022-10-31T20:12:16.252501Z",
     "shell.execute_reply": "2022-10-31T20:12:16.252035Z"
    },
    "papermill": {
     "duration": 0.044579,
     "end_time": "2022-10-31T20:12:16.252620",
     "exception": false,
     "start_time": "2022-10-31T20:12:16.208041",
     "status": "completed"
    },
    "tags": []
   },
   "outputs": [],
   "source": [
    "%load_ext autoreload\n",
    "%autoreload 2"
   ]
  },
  {
   "cell_type": "code",
   "execution_count": 2,
   "id": "22ef38dc",
   "metadata": {
    "execution": {
     "iopub.execute_input": "2022-10-31T20:12:16.304751Z",
     "iopub.status.busy": "2022-10-31T20:12:16.304192Z",
     "iopub.status.idle": "2022-10-31T20:12:16.811288Z",
     "shell.execute_reply": "2022-10-31T20:12:16.810801Z"
    },
    "papermill": {
     "duration": 0.534622,
     "end_time": "2022-10-31T20:12:16.811406",
     "exception": false,
     "start_time": "2022-10-31T20:12:16.276784",
     "status": "completed"
    },
    "tags": []
   },
   "outputs": [],
   "source": [
    "%matplotlib inline\n",
    "import numpy as np\n",
    "import matplotlib.pyplot as plt\n",
    "import pandas as pd"
   ]
  },
  {
   "cell_type": "markdown",
   "id": "ba036198",
   "metadata": {
    "papermill": {
     "duration": 0.02416,
     "end_time": "2022-10-31T20:12:16.859983",
     "exception": false,
     "start_time": "2022-10-31T20:12:16.835823",
     "status": "completed"
    },
    "tags": []
   },
   "source": [
    "From the command line run `pip install mnist`. This is a library that will help you bring down the mnist dataset. If you run this from a notebook, you need to put  `!pip install mnist` in a cell by itself."
   ]
  },
  {
   "cell_type": "code",
   "execution_count": 3,
   "id": "bb6ad8a1",
   "metadata": {
    "execution": {
     "iopub.execute_input": "2022-10-31T20:12:16.912221Z",
     "iopub.status.busy": "2022-10-31T20:12:16.911632Z",
     "iopub.status.idle": "2022-10-31T20:12:19.414325Z",
     "shell.execute_reply": "2022-10-31T20:12:19.413853Z"
    },
    "papermill": {
     "duration": 2.530227,
     "end_time": "2022-10-31T20:12:19.414439",
     "exception": false,
     "start_time": "2022-10-31T20:12:16.884212",
     "status": "completed"
    },
    "tags": []
   },
   "outputs": [
    {
     "name": "stdout",
     "output_type": "stream",
     "text": [
      "Collecting mnist\r\n"
     ]
    },
    {
     "name": "stdout",
     "output_type": "stream",
     "text": [
      "  Downloading mnist-0.2.2-py2.py3-none-any.whl (3.5 kB)\r\n",
      "Requirement already satisfied: numpy in /opt/hostedtoolcache/Python/3.6.15/x64/lib/python3.6/site-packages (from mnist) (1.19.5)\r\n"
     ]
    },
    {
     "name": "stdout",
     "output_type": "stream",
     "text": [
      "Installing collected packages: mnist\r\n"
     ]
    },
    {
     "name": "stdout",
     "output_type": "stream",
     "text": [
      "Successfully installed mnist-0.2.2\r\n"
     ]
    }
   ],
   "source": [
    "!pip install mnist"
   ]
  },
  {
   "cell_type": "markdown",
   "id": "69df9c9a",
   "metadata": {
    "papermill": {
     "duration": 0.025595,
     "end_time": "2022-10-31T20:12:19.465567",
     "exception": false,
     "start_time": "2022-10-31T20:12:19.439972",
     "status": "completed"
    },
    "tags": []
   },
   "source": [
    "## Preparing the Data"
   ]
  },
  {
   "cell_type": "code",
   "execution_count": 4,
   "id": "7f69d806",
   "metadata": {
    "execution": {
     "iopub.execute_input": "2022-10-31T20:12:19.519989Z",
     "iopub.status.busy": "2022-10-31T20:12:19.519412Z",
     "iopub.status.idle": "2022-10-31T20:12:19.533279Z",
     "shell.execute_reply": "2022-10-31T20:12:19.533711Z"
    },
    "papermill": {
     "duration": 0.043122,
     "end_time": "2022-10-31T20:12:19.533835",
     "exception": false,
     "start_time": "2022-10-31T20:12:19.490713",
     "status": "completed"
    },
    "tags": []
   },
   "outputs": [],
   "source": [
    "import mnist"
   ]
  },
  {
   "cell_type": "code",
   "execution_count": 5,
   "id": "a411e44f",
   "metadata": {
    "execution": {
     "iopub.execute_input": "2022-10-31T20:12:19.587563Z",
     "iopub.status.busy": "2022-10-31T20:12:19.586995Z",
     "iopub.status.idle": "2022-10-31T20:12:20.212301Z",
     "shell.execute_reply": "2022-10-31T20:12:20.211765Z"
    },
    "papermill": {
     "duration": 0.653379,
     "end_time": "2022-10-31T20:12:20.212416",
     "exception": false,
     "start_time": "2022-10-31T20:12:19.559037",
     "status": "completed"
    },
    "tags": []
   },
   "outputs": [],
   "source": [
    "train_images = mnist.train_images()\n",
    "train_labels = mnist.train_labels()"
   ]
  },
  {
   "cell_type": "code",
   "execution_count": 6,
   "id": "dceab3a5",
   "metadata": {
    "execution": {
     "iopub.execute_input": "2022-10-31T20:12:20.266989Z",
     "iopub.status.busy": "2022-10-31T20:12:20.266424Z",
     "iopub.status.idle": "2022-10-31T20:12:20.280214Z",
     "shell.execute_reply": "2022-10-31T20:12:20.280673Z"
    },
    "papermill": {
     "duration": 0.04279,
     "end_time": "2022-10-31T20:12:20.280795",
     "exception": false,
     "start_time": "2022-10-31T20:12:20.238005",
     "status": "completed"
    },
    "tags": []
   },
   "outputs": [
    {
     "data": {
      "text/plain": [
       "((60000, 28, 28), (60000,))"
      ]
     },
     "execution_count": 6,
     "metadata": {},
     "output_type": "execute_result"
    }
   ],
   "source": [
    "train_images.shape, train_labels.shape"
   ]
  },
  {
   "cell_type": "code",
   "execution_count": 7,
   "id": "f50dc2bb",
   "metadata": {
    "execution": {
     "iopub.execute_input": "2022-10-31T20:12:20.335340Z",
     "iopub.status.busy": "2022-10-31T20:12:20.334790Z",
     "iopub.status.idle": "2022-10-31T20:12:20.560845Z",
     "shell.execute_reply": "2022-10-31T20:12:20.560244Z"
    },
    "papermill": {
     "duration": 0.254654,
     "end_time": "2022-10-31T20:12:20.560957",
     "exception": false,
     "start_time": "2022-10-31T20:12:20.306303",
     "status": "completed"
    },
    "tags": []
   },
   "outputs": [],
   "source": [
    "test_images = mnist.test_images()\n",
    "test_labels = mnist.test_labels()"
   ]
  },
  {
   "cell_type": "code",
   "execution_count": 8,
   "id": "fc38cf1b",
   "metadata": {
    "execution": {
     "iopub.execute_input": "2022-10-31T20:12:20.615925Z",
     "iopub.status.busy": "2022-10-31T20:12:20.615343Z",
     "iopub.status.idle": "2022-10-31T20:12:20.628289Z",
     "shell.execute_reply": "2022-10-31T20:12:20.627831Z"
    },
    "papermill": {
     "duration": 0.041582,
     "end_time": "2022-10-31T20:12:20.628388",
     "exception": false,
     "start_time": "2022-10-31T20:12:20.586806",
     "status": "completed"
    },
    "tags": []
   },
   "outputs": [
    {
     "data": {
      "text/plain": [
       "((10000, 28, 28), (10000,))"
      ]
     },
     "execution_count": 8,
     "metadata": {},
     "output_type": "execute_result"
    }
   ],
   "source": [
    "test_images.shape, test_labels.shape"
   ]
  },
  {
   "cell_type": "code",
   "execution_count": 9,
   "id": "f9ed8fe0",
   "metadata": {
    "execution": {
     "iopub.execute_input": "2022-10-31T20:12:20.683514Z",
     "iopub.status.busy": "2022-10-31T20:12:20.682950Z",
     "iopub.status.idle": "2022-10-31T20:12:20.813106Z",
     "shell.execute_reply": "2022-10-31T20:12:20.813544Z"
    },
    "papermill": {
     "duration": 0.159504,
     "end_time": "2022-10-31T20:12:20.813672",
     "exception": false,
     "start_time": "2022-10-31T20:12:20.654168",
     "status": "completed"
    },
    "tags": []
   },
   "outputs": [
    {
     "name": "stdout",
     "output_type": "stream",
     "text": [
      "2\n"
     ]
    },
    {
     "data": {
      "text/plain": [
       "<matplotlib.image.AxesImage at 0x7f21adbe3cc0>"
      ]
     },
     "execution_count": 9,
     "metadata": {},
     "output_type": "execute_result"
    },
    {
     "data": {
      "image/png": "[encoded data removed]",
      "text/plain": [
       "<Figure size 432x288 with 1 Axes>"
      ]
     },
     "metadata": {
      "needs_background": "light"
     },
     "output_type": "display_data"
    }
   ],
   "source": [
    "image_index = 7776 # You may select anything up to 60,000\n",
    "print(train_labels[image_index]) \n",
    "plt.imshow(train_images[image_index], cmap='Greys')"
   ]
  },
  {
   "cell_type": "markdown",
   "id": "a8d2388d",
   "metadata": {
    "papermill": {
     "duration": 0.02699,
     "end_time": "2022-10-31T20:12:20.868023",
     "exception": false,
     "start_time": "2022-10-31T20:12:20.841033",
     "status": "completed"
    },
    "tags": []
   },
   "source": [
    "## Filter data to get 3 and 8 out"
   ]
  },
  {
   "cell_type": "code",
   "execution_count": 10,
   "id": "776f7fc7",
   "metadata": {
    "execution": {
     "iopub.execute_input": "2022-10-31T20:12:20.926033Z",
     "iopub.status.busy": "2022-10-31T20:12:20.925466Z",
     "iopub.status.idle": "2022-10-31T20:12:20.942057Z",
     "shell.execute_reply": "2022-10-31T20:12:20.941586Z"
    },
    "papermill": {
     "duration": 0.047188,
     "end_time": "2022-10-31T20:12:20.942164",
     "exception": false,
     "start_time": "2022-10-31T20:12:20.894976",
     "status": "completed"
    },
    "tags": []
   },
   "outputs": [],
   "source": [
    "train_filter = np.where((train_labels == 3 ) | (train_labels == 8))\n",
    "test_filter = np.where((test_labels == 3) | (test_labels == 8))\n",
    "X_train, y_train = train_images[train_filter], train_labels[train_filter]\n",
    "X_test, y_test = test_images[test_filter], test_labels[test_filter]"
   ]
  },
  {
   "cell_type": "markdown",
   "id": "948f0b7e",
   "metadata": {
    "papermill": {
     "duration": 0.027405,
     "end_time": "2022-10-31T20:12:20.996425",
     "exception": false,
     "start_time": "2022-10-31T20:12:20.969020",
     "status": "completed"
    },
    "tags": []
   },
   "source": [
    "We normalize the pizel values in the 0 to 1 range"
   ]
  },
  {
   "cell_type": "code",
   "execution_count": 11,
   "id": "ee4c2166",
   "metadata": {
    "execution": {
     "iopub.execute_input": "2022-10-31T20:12:21.053707Z",
     "iopub.status.busy": "2022-10-31T20:12:21.053129Z",
     "iopub.status.idle": "2022-10-31T20:12:21.094361Z",
     "shell.execute_reply": "2022-10-31T20:12:21.093764Z"
    },
    "papermill": {
     "duration": 0.071289,
     "end_time": "2022-10-31T20:12:21.094475",
     "exception": false,
     "start_time": "2022-10-31T20:12:21.023186",
     "status": "completed"
    },
    "tags": []
   },
   "outputs": [],
   "source": [
    "X_train = X_train/255.\n",
    "X_test = X_test/255."
   ]
  },
  {
   "cell_type": "markdown",
   "id": "ddcf4fab",
   "metadata": {
    "papermill": {
     "duration": 0.026798,
     "end_time": "2022-10-31T20:12:21.148556",
     "exception": false,
     "start_time": "2022-10-31T20:12:21.121758",
     "status": "completed"
    },
    "tags": []
   },
   "source": [
    "And setup the labels as 1 (when the digit is 3) and 0 (when the digit is 8)"
   ]
  },
  {
   "cell_type": "code",
   "execution_count": 12,
   "id": "7dc908f2",
   "metadata": {
    "execution": {
     "iopub.execute_input": "2022-10-31T20:12:21.206215Z",
     "iopub.status.busy": "2022-10-31T20:12:21.205646Z",
     "iopub.status.idle": "2022-10-31T20:12:21.217001Z",
     "shell.execute_reply": "2022-10-31T20:12:21.216457Z"
    },
    "papermill": {
     "duration": 0.041632,
     "end_time": "2022-10-31T20:12:21.217102",
     "exception": false,
     "start_time": "2022-10-31T20:12:21.175470",
     "status": "completed"
    },
    "tags": []
   },
   "outputs": [],
   "source": [
    "y_train = 1*(y_train==3)\n",
    "y_test = 1*(y_test==3)"
   ]
  },
  {
   "cell_type": "code",
   "execution_count": 13,
   "id": "01e4e969",
   "metadata": {
    "execution": {
     "iopub.execute_input": "2022-10-31T20:12:21.274383Z",
     "iopub.status.busy": "2022-10-31T20:12:21.273821Z",
     "iopub.status.idle": "2022-10-31T20:12:21.286929Z",
     "shell.execute_reply": "2022-10-31T20:12:21.286387Z"
    },
    "papermill": {
     "duration": 0.042895,
     "end_time": "2022-10-31T20:12:21.287031",
     "exception": false,
     "start_time": "2022-10-31T20:12:21.244136",
     "status": "completed"
    },
    "tags": []
   },
   "outputs": [
    {
     "data": {
      "text/plain": [
       "((11982, 28, 28), (1984, 28, 28))"
      ]
     },
     "execution_count": 13,
     "metadata": {},
     "output_type": "execute_result"
    }
   ],
   "source": [
    "X_train.shape, X_test.shape"
   ]
  },
  {
   "cell_type": "markdown",
   "id": "5ccf3f85",
   "metadata": {
    "papermill": {
     "duration": 0.027241,
     "end_time": "2022-10-31T20:12:21.341310",
     "exception": false,
     "start_time": "2022-10-31T20:12:21.314069",
     "status": "completed"
    },
    "tags": []
   },
   "source": [
    "We reshape the data to flatten the image pixels into a set of features or co-variates:"
   ]
  },
  {
   "cell_type": "code",
   "execution_count": 14,
   "id": "5286a4a3",
   "metadata": {
    "execution": {
     "iopub.execute_input": "2022-10-31T20:12:21.399861Z",
     "iopub.status.busy": "2022-10-31T20:12:21.399284Z",
     "iopub.status.idle": "2022-10-31T20:12:21.412737Z",
     "shell.execute_reply": "2022-10-31T20:12:21.412271Z"
    },
    "papermill": {
     "duration": 0.044367,
     "end_time": "2022-10-31T20:12:21.412839",
     "exception": false,
     "start_time": "2022-10-31T20:12:21.368472",
     "status": "completed"
    },
    "tags": []
   },
   "outputs": [
    {
     "data": {
      "text/plain": [
       "((11982, 784), (1984, 784))"
      ]
     },
     "execution_count": 14,
     "metadata": {},
     "output_type": "execute_result"
    }
   ],
   "source": [
    "X_train = X_train.reshape(X_train.shape[0], -1)\n",
    "X_test = X_test.reshape(X_test.shape[0], -1)\n",
    "X_train.shape, X_test.shape"
   ]
  },
  {
   "cell_type": "code",
   "execution_count": 15,
   "id": "73c5f88a",
   "metadata": {
    "execution": {
     "iopub.execute_input": "2022-10-31T20:12:21.472249Z",
     "iopub.status.busy": "2022-10-31T20:12:21.471675Z",
     "iopub.status.idle": "2022-10-31T20:12:21.489369Z",
     "shell.execute_reply": "2022-10-31T20:12:21.489790Z"
    },
    "papermill": {
     "duration": 0.049597,
     "end_time": "2022-10-31T20:12:21.489904",
     "exception": false,
     "start_time": "2022-10-31T20:12:21.440307",
     "status": "completed"
    },
    "tags": []
   },
   "outputs": [],
   "source": [
    "#Impoting functions from 'Kudzu'\n",
    "from kudzu.model import Model\n",
    "from kudzu.train import Learner\n",
    "from kudzu.optim import GD\n",
    "from kudzu.data import Data, Sampler,Dataloader\n",
    "\n",
    "from kudzu.callbacks import AccCallback\n",
    "from kudzu.callbacks import ClfCallback\n",
    "\n",
    "from kudzu.loss import MSE\n",
    "\n",
    "from kudzu.layer import Sigmoid,Relu\n",
    "from kudzu.layer import Affine"
   ]
  },
  {
   "cell_type": "markdown",
   "id": "bc01172a",
   "metadata": {
    "papermill": {
     "duration": 0.027396,
     "end_time": "2022-10-31T20:12:21.544631",
     "exception": false,
     "start_time": "2022-10-31T20:12:21.517235",
     "status": "completed"
    },
    "tags": []
   },
   "source": [
    "### Let us create a `Config` class, to store important parameters. \n",
    "This class essentially plays the role of a dictionary."
   ]
  },
  {
   "cell_type": "code",
   "execution_count": 16,
   "id": "978281aa",
   "metadata": {
    "execution": {
     "iopub.execute_input": "2022-10-31T20:12:21.602897Z",
     "iopub.status.busy": "2022-10-31T20:12:21.602323Z",
     "iopub.status.idle": "2022-10-31T20:12:21.614245Z",
     "shell.execute_reply": "2022-10-31T20:12:21.613796Z"
    },
    "papermill": {
     "duration": 0.042551,
     "end_time": "2022-10-31T20:12:21.614348",
     "exception": false,
     "start_time": "2022-10-31T20:12:21.571797",
     "status": "completed"
    },
    "tags": []
   },
   "outputs": [],
   "source": [
    "class Config:\n",
    "    pass\n",
    "config = Config()\n",
    "config.lr = 0.001\n",
    "config.num_epochs = 250\n",
    "config.bs = 50"
   ]
  },
  {
   "cell_type": "markdown",
   "id": "1385fa59",
   "metadata": {
    "papermill": {
     "duration": 0.02743,
     "end_time": "2022-10-31T20:12:21.669194",
     "exception": false,
     "start_time": "2022-10-31T20:12:21.641764",
     "status": "completed"
    },
    "tags": []
   },
   "source": [
    "### Running Models with the Training data\n",
    "Details about the network layers:\n",
    "- A first affine layer has 784 inputs and does 100 affine transforms. These are followed by a Relu\n",
    "- A second affine layer has 100 inputs from the 100 activations of the past layer, and does 100 affine transforms. These are followed by a Relu\n",
    "- A third affine layer has 100 activations and does 2 affine transformations to create an embedding for visualization. There is no non-linearity here.\n",
    "- A final \"logistic regression\" which has an affine transform from 2 inputs to 1 output, which is squeezed through a sigmoid.\n"
   ]
  },
  {
   "cell_type": "code",
   "execution_count": 17,
   "id": "2b9c66db",
   "metadata": {
    "execution": {
     "iopub.execute_input": "2022-10-31T20:12:21.728077Z",
     "iopub.status.busy": "2022-10-31T20:12:21.727494Z",
     "iopub.status.idle": "2022-10-31T20:12:21.739668Z",
     "shell.execute_reply": "2022-10-31T20:12:21.739221Z"
    },
    "papermill": {
     "duration": 0.043219,
     "end_time": "2022-10-31T20:12:21.739773",
     "exception": false,
     "start_time": "2022-10-31T20:12:21.696554",
     "status": "completed"
    },
    "tags": []
   },
   "outputs": [],
   "source": [
    "data = Data(X_train, y_train.reshape(-1,1))\n",
    "sampler = Sampler(data, config.bs, shuffle=True)\n",
    "\n",
    "dl = Dataloader(data, sampler)\n",
    "\n",
    "opt = GD(config.lr)\n",
    "loss = MSE()"
   ]
  },
  {
   "cell_type": "code",
   "execution_count": 18,
   "id": "b275e4c2",
   "metadata": {
    "execution": {
     "iopub.execute_input": "2022-10-31T20:12:21.800808Z",
     "iopub.status.busy": "2022-10-31T20:12:21.797477Z",
     "iopub.status.idle": "2022-10-31T20:12:21.809422Z",
     "shell.execute_reply": "2022-10-31T20:12:21.808893Z"
    },
    "papermill": {
     "duration": 0.042407,
     "end_time": "2022-10-31T20:12:21.809524",
     "exception": false,
     "start_time": "2022-10-31T20:12:21.767117",
     "status": "completed"
    },
    "tags": []
   },
   "outputs": [],
   "source": [
    "training_data_x = X_train\n",
    "testing_data_x = X_test\n",
    "training_data_y = y_train.reshape(-1,1)\n",
    "testing_data_y = y_test.reshape(-1,1)"
   ]
  },
  {
   "cell_type": "code",
   "execution_count": 19,
   "id": "76951160",
   "metadata": {
    "execution": {
     "iopub.execute_input": "2022-10-31T20:12:21.868039Z",
     "iopub.status.busy": "2022-10-31T20:12:21.867445Z",
     "iopub.status.idle": "2022-10-31T20:12:21.883629Z",
     "shell.execute_reply": "2022-10-31T20:12:21.883088Z"
    },
    "papermill": {
     "duration": 0.047053,
     "end_time": "2022-10-31T20:12:21.883732",
     "exception": false,
     "start_time": "2022-10-31T20:12:21.836679",
     "status": "completed"
    },
    "tags": []
   },
   "outputs": [
    {
     "name": "stdout",
     "output_type": "stream",
     "text": [
      "xavier\n",
      "xavier\n",
      "xavier\n",
      "xavier\n",
      "xavier\n"
     ]
    }
   ],
   "source": [
    "layers = [Affine(\"first\", 784, 100), Relu(\"first\"), Affine(\"second\", 100, 100), Relu(\"second\"), Affine(\"third\", 100, 2), Affine(\"last\", 2, 1), Sigmoid(\"last\")]\n",
    "model_nn = Model(layers)\n",
    "model_lr = Model([Affine(\"logits\", 784, 1), Sigmoid(\"sigmoid\")])"
   ]
  },
  {
   "cell_type": "code",
   "execution_count": 20,
   "id": "6eede77a",
   "metadata": {
    "execution": {
     "iopub.execute_input": "2022-10-31T20:12:21.943268Z",
     "iopub.status.busy": "2022-10-31T20:12:21.942704Z",
     "iopub.status.idle": "2022-10-31T20:12:21.955683Z",
     "shell.execute_reply": "2022-10-31T20:12:21.955216Z"
    },
    "papermill": {
     "duration": 0.044326,
     "end_time": "2022-10-31T20:12:21.955785",
     "exception": false,
     "start_time": "2022-10-31T20:12:21.911459",
     "status": "completed"
    },
    "tags": []
   },
   "outputs": [],
   "source": [
    "nn_learner = Learner(loss, model_nn, opt, config.num_epochs)\n",
    "acc_nn = ClfCallback(nn_learner, config.bs, training_data_x , testing_data_x, training_data_y, testing_data_y)\n",
    "nn_learner.set_callbacks([acc_nn])"
   ]
  },
  {
   "cell_type": "code",
   "execution_count": 21,
   "id": "877b6cc7",
   "metadata": {
    "execution": {
     "iopub.execute_input": "2022-10-31T20:12:22.015123Z",
     "iopub.status.busy": "2022-10-31T20:12:22.014562Z",
     "iopub.status.idle": "2022-10-31T20:12:22.026513Z",
     "shell.execute_reply": "2022-10-31T20:12:22.026056Z"
    },
    "papermill": {
     "duration": 0.043114,
     "end_time": "2022-10-31T20:12:22.026617",
     "exception": false,
     "start_time": "2022-10-31T20:12:21.983503",
     "status": "completed"
    },
    "tags": []
   },
   "outputs": [],
   "source": [
    "lr_learner = Learner(loss, model_lr, opt, config.num_epochs)\n",
    "acc_lr = ClfCallback(lr_learner, config.bs, training_data_x , testing_data_x, training_data_y, testing_data_y)\n",
    "lr_learner.set_callbacks([acc_lr])"
   ]
  },
  {
   "cell_type": "code",
   "execution_count": 22,
   "id": "d9b133c3",
   "metadata": {
    "execution": {
     "iopub.execute_input": "2022-10-31T20:12:22.085548Z",
     "iopub.status.busy": "2022-10-31T20:12:22.084997Z",
     "iopub.status.idle": "2022-10-31T20:15:16.701128Z",
     "shell.execute_reply": "2022-10-31T20:15:16.701582Z"
    },
    "papermill": {
     "duration": 174.647222,
     "end_time": "2022-10-31T20:15:16.701706",
     "exception": false,
     "start_time": "2022-10-31T20:12:22.054484",
     "status": "completed"
    },
    "tags": []
   },
   "outputs": [
    {
     "name": "stdout",
     "output_type": "stream",
     "text": [
      "Epoch 0, Loss 0.2345\n",
      "Training Accuracy: 0.7465, Testing Accuracy: 0.7651\n",
      "\n"
     ]
    },
    {
     "name": "stdout",
     "output_type": "stream",
     "text": [
      "Epoch 10, Loss 0.0652\n",
      "Training Accuracy: 0.9358, Testing Accuracy: 0.9461\n",
      "\n"
     ]
    },
    {
     "name": "stdout",
     "output_type": "stream",
     "text": [
      "Epoch 20, Loss 0.0444\n",
      "Training Accuracy: 0.9528, Testing Accuracy: 0.9587\n",
      "\n"
     ]
    },
    {
     "name": "stdout",
     "output_type": "stream",
     "text": [
      "Epoch 30, Loss 0.0365\n",
      "Training Accuracy: 0.9608, Testing Accuracy: 0.9657\n",
      "\n"
     ]
    },
    {
     "name": "stdout",
     "output_type": "stream",
     "text": [
      "Epoch 40, Loss 0.0323\n",
      "Training Accuracy: 0.9647, Testing Accuracy: 0.9672\n",
      "\n"
     ]
    },
    {
     "name": "stdout",
     "output_type": "stream",
     "text": [
      "Epoch 50, Loss 0.0295\n",
      "Training Accuracy: 0.9675, Testing Accuracy: 0.9682\n",
      "\n"
     ]
    },
    {
     "name": "stdout",
     "output_type": "stream",
     "text": [
      "Epoch 60, Loss 0.0276\n",
      "Training Accuracy: 0.9698, Testing Accuracy: 0.9703\n",
      "\n"
     ]
    },
    {
     "name": "stdout",
     "output_type": "stream",
     "text": [
      "Epoch 70, Loss 0.0261\n",
      "Training Accuracy: 0.9711, Testing Accuracy: 0.9718\n",
      "\n"
     ]
    },
    {
     "name": "stdout",
     "output_type": "stream",
     "text": [
      "Epoch 80, Loss 0.0248\n",
      "Training Accuracy: 0.9726, Testing Accuracy: 0.9713\n",
      "\n"
     ]
    },
    {
     "name": "stdout",
     "output_type": "stream",
     "text": [
      "Epoch 90, Loss 0.0238\n",
      "Training Accuracy: 0.9733, Testing Accuracy: 0.9708\n",
      "\n"
     ]
    },
    {
     "name": "stdout",
     "output_type": "stream",
     "text": [
      "Epoch 100, Loss 0.023\n",
      "Training Accuracy: 0.9745, Testing Accuracy: 0.9708\n",
      "\n"
     ]
    },
    {
     "name": "stdout",
     "output_type": "stream",
     "text": [
      "Epoch 110, Loss 0.0222\n",
      "Training Accuracy: 0.9752, Testing Accuracy: 0.9718\n",
      "\n"
     ]
    },
    {
     "name": "stdout",
     "output_type": "stream",
     "text": [
      "Epoch 120, Loss 0.0215\n",
      "Training Accuracy: 0.9764, Testing Accuracy: 0.9728\n",
      "\n"
     ]
    },
    {
     "name": "stdout",
     "output_type": "stream",
     "text": [
      "Epoch 130, Loss 0.0209\n",
      "Training Accuracy: 0.9770, Testing Accuracy: 0.9743\n",
      "\n"
     ]
    },
    {
     "name": "stdout",
     "output_type": "stream",
     "text": [
      "Epoch 140, Loss 0.0203\n",
      "Training Accuracy: 0.9779, Testing Accuracy: 0.9753\n",
      "\n"
     ]
    },
    {
     "name": "stdout",
     "output_type": "stream",
     "text": [
      "Epoch 150, Loss 0.0198\n",
      "Training Accuracy: 0.9786, Testing Accuracy: 0.9758\n",
      "\n"
     ]
    },
    {
     "name": "stdout",
     "output_type": "stream",
     "text": [
      "Epoch 160, Loss 0.0193\n",
      "Training Accuracy: 0.9791, Testing Accuracy: 0.9758\n",
      "\n"
     ]
    },
    {
     "name": "stdout",
     "output_type": "stream",
     "text": [
      "Epoch 170, Loss 0.0188\n",
      "Training Accuracy: 0.9796, Testing Accuracy: 0.9758\n",
      "\n"
     ]
    },
    {
     "name": "stdout",
     "output_type": "stream",
     "text": [
      "Epoch 180, Loss 0.0184\n",
      "Training Accuracy: 0.9801, Testing Accuracy: 0.9763\n",
      "\n"
     ]
    },
    {
     "name": "stdout",
     "output_type": "stream",
     "text": [
      "Epoch 190, Loss 0.0179\n",
      "Training Accuracy: 0.9801, Testing Accuracy: 0.9763\n",
      "\n"
     ]
    },
    {
     "name": "stdout",
     "output_type": "stream",
     "text": [
      "Epoch 200, Loss 0.0175\n",
      "Training Accuracy: 0.9809, Testing Accuracy: 0.9768\n",
      "\n"
     ]
    },
    {
     "name": "stdout",
     "output_type": "stream",
     "text": [
      "Epoch 210, Loss 0.0171\n",
      "Training Accuracy: 0.9813, Testing Accuracy: 0.9773\n",
      "\n"
     ]
    },
    {
     "name": "stdout",
     "output_type": "stream",
     "text": [
      "Epoch 220, Loss 0.0168\n",
      "Training Accuracy: 0.9816, Testing Accuracy: 0.9773\n",
      "\n"
     ]
    },
    {
     "name": "stdout",
     "output_type": "stream",
     "text": [
      "Epoch 230, Loss 0.0164\n",
      "Training Accuracy: 0.9823, Testing Accuracy: 0.9773\n",
      "\n"
     ]
    },
    {
     "name": "stdout",
     "output_type": "stream",
     "text": [
      "Epoch 240, Loss 0.016\n",
      "Training Accuracy: 0.9825, Testing Accuracy: 0.9773\n",
      "\n"
     ]
    },
    {
     "data": {
      "text/plain": [
       "0.04005703738667757"
      ]
     },
     "execution_count": 22,
     "metadata": {},
     "output_type": "execute_result"
    }
   ],
   "source": [
    "nn_learner.train_loop(dl)"
   ]
  },
  {
   "cell_type": "code",
   "execution_count": 23,
   "id": "e0163366",
   "metadata": {
    "execution": {
     "iopub.execute_input": "2022-10-31T20:15:16.776844Z",
     "iopub.status.busy": "2022-10-31T20:15:16.775426Z",
     "iopub.status.idle": "2022-10-31T20:15:28.975134Z",
     "shell.execute_reply": "2022-10-31T20:15:28.975941Z"
    },
    "papermill": {
     "duration": 12.239768,
     "end_time": "2022-10-31T20:15:28.976076",
     "exception": false,
     "start_time": "2022-10-31T20:15:16.736308",
     "status": "completed"
    },
    "tags": []
   },
   "outputs": [
    {
     "name": "stdout",
     "output_type": "stream",
     "text": [
      "Epoch 0, Loss 0.2086\n",
      "Training Accuracy: 0.7959, Testing Accuracy: 0.7888\n",
      "\n"
     ]
    },
    {
     "name": "stdout",
     "output_type": "stream",
     "text": [
      "Epoch 10, Loss 0.0977\n",
      "Training Accuracy: 0.9167, Testing Accuracy: 0.9183\n",
      "\n"
     ]
    },
    {
     "name": "stdout",
     "output_type": "stream",
     "text": [
      "Epoch 20, Loss 0.0765\n",
      "Training Accuracy: 0.9329, Testing Accuracy: 0.9365\n",
      "\n"
     ]
    },
    {
     "name": "stdout",
     "output_type": "stream",
     "text": [
      "Epoch 30, Loss 0.0664\n",
      "Training Accuracy: 0.9404, Testing Accuracy: 0.9461\n",
      "\n"
     ]
    },
    {
     "name": "stdout",
     "output_type": "stream",
     "text": [
      "Epoch 40, Loss 0.0603\n",
      "Training Accuracy: 0.9453, Testing Accuracy: 0.9511\n",
      "\n"
     ]
    },
    {
     "name": "stdout",
     "output_type": "stream",
     "text": [
      "Epoch 50, Loss 0.0561\n",
      "Training Accuracy: 0.9481, Testing Accuracy: 0.9551\n",
      "\n"
     ]
    },
    {
     "name": "stdout",
     "output_type": "stream",
     "text": [
      "Epoch 60, Loss 0.0529\n",
      "Training Accuracy: 0.9491, Testing Accuracy: 0.9551\n",
      "\n"
     ]
    },
    {
     "name": "stdout",
     "output_type": "stream",
     "text": [
      "Epoch 70, Loss 0.0505\n",
      "Training Accuracy: 0.9510, Testing Accuracy: 0.9587\n",
      "\n"
     ]
    },
    {
     "name": "stdout",
     "output_type": "stream",
     "text": [
      "Epoch 80, Loss 0.0486\n",
      "Training Accuracy: 0.9518, Testing Accuracy: 0.9612\n",
      "\n"
     ]
    },
    {
     "name": "stdout",
     "output_type": "stream",
     "text": [
      "Epoch 90, Loss 0.0469\n",
      "Training Accuracy: 0.9532, Testing Accuracy: 0.9642\n",
      "\n"
     ]
    },
    {
     "name": "stdout",
     "output_type": "stream",
     "text": [
      "Epoch 100, Loss 0.0456\n",
      "Training Accuracy: 0.9544, Testing Accuracy: 0.9652\n",
      "\n"
     ]
    },
    {
     "name": "stdout",
     "output_type": "stream",
     "text": [
      "Epoch 110, Loss 0.0444\n",
      "Training Accuracy: 0.9558, Testing Accuracy: 0.9652\n",
      "\n"
     ]
    },
    {
     "name": "stdout",
     "output_type": "stream",
     "text": [
      "Epoch 120, Loss 0.0434\n",
      "Training Accuracy: 0.9561, Testing Accuracy: 0.9662\n",
      "\n"
     ]
    },
    {
     "name": "stdout",
     "output_type": "stream",
     "text": [
      "Epoch 130, Loss 0.0425\n",
      "Training Accuracy: 0.9564, Testing Accuracy: 0.9662\n",
      "\n"
     ]
    },
    {
     "name": "stdout",
     "output_type": "stream",
     "text": [
      "Epoch 140, Loss 0.0417\n",
      "Training Accuracy: 0.9569, Testing Accuracy: 0.9662\n",
      "\n"
     ]
    },
    {
     "name": "stdout",
     "output_type": "stream",
     "text": [
      "Epoch 150, Loss 0.041\n",
      "Training Accuracy: 0.9574, Testing Accuracy: 0.9662\n",
      "\n"
     ]
    },
    {
     "name": "stdout",
     "output_type": "stream",
     "text": [
      "Epoch 160, Loss 0.0403\n",
      "Training Accuracy: 0.9575, Testing Accuracy: 0.9662\n",
      "\n"
     ]
    },
    {
     "name": "stdout",
     "output_type": "stream",
     "text": [
      "Epoch 170, Loss 0.0397\n",
      "Training Accuracy: 0.9587, Testing Accuracy: 0.9667\n",
      "\n"
     ]
    },
    {
     "name": "stdout",
     "output_type": "stream",
     "text": [
      "Epoch 180, Loss 0.0392\n",
      "Training Accuracy: 0.9588, Testing Accuracy: 0.9667\n",
      "\n"
     ]
    },
    {
     "name": "stdout",
     "output_type": "stream",
     "text": [
      "Epoch 190, Loss 0.0387\n",
      "Training Accuracy: 0.9590, Testing Accuracy: 0.9672\n",
      "\n"
     ]
    },
    {
     "name": "stdout",
     "output_type": "stream",
     "text": [
      "Epoch 200, Loss 0.0382\n",
      "Training Accuracy: 0.9594, Testing Accuracy: 0.9672\n",
      "\n"
     ]
    },
    {
     "name": "stdout",
     "output_type": "stream",
     "text": [
      "Epoch 210, Loss 0.0378\n",
      "Training Accuracy: 0.9597, Testing Accuracy: 0.9672\n",
      "\n"
     ]
    },
    {
     "name": "stdout",
     "output_type": "stream",
     "text": [
      "Epoch 220, Loss 0.0374\n",
      "Training Accuracy: 0.9599, Testing Accuracy: 0.9677\n",
      "\n"
     ]
    },
    {
     "name": "stdout",
     "output_type": "stream",
     "text": [
      "Epoch 230, Loss 0.037\n",
      "Training Accuracy: 0.9603, Testing Accuracy: 0.9677\n",
      "\n"
     ]
    },
    {
     "name": "stdout",
     "output_type": "stream",
     "text": [
      "Epoch 240, Loss 0.0366\n",
      "Training Accuracy: 0.9604, Testing Accuracy: 0.9677\n",
      "\n"
     ]
    },
    {
     "data": {
      "text/plain": [
       "0.0343581990868968"
      ]
     },
     "execution_count": 23,
     "metadata": {},
     "output_type": "execute_result"
    }
   ],
   "source": [
    "lr_learner.train_loop(dl)"
   ]
  },
  {
   "cell_type": "code",
   "execution_count": 24,
   "id": "ca410940",
   "metadata": {
    "execution": {
     "iopub.execute_input": "2022-10-31T20:15:29.073374Z",
     "iopub.status.busy": "2022-10-31T20:15:29.072803Z",
     "iopub.status.idle": "2022-10-31T20:15:29.288796Z",
     "shell.execute_reply": "2022-10-31T20:15:29.288323Z"
    },
    "papermill": {
     "duration": 0.271073,
     "end_time": "2022-10-31T20:15:29.288905",
     "exception": false,
     "start_time": "2022-10-31T20:15:29.017832",
     "status": "completed"
    },
    "tags": []
   },
   "outputs": [
    {
     "data": {
      "text/plain": [
       "<matplotlib.legend.Legend at 0x7f21ad7523c8>"
      ]
     },
     "execution_count": 24,
     "metadata": {},
     "output_type": "execute_result"
    },
    {
     "data": {
      "image/png": "[encoded data removed]",
      "text/plain": [
       "<Figure size 1080x720 with 1 Axes>"
      ]
     },
     "metadata": {
      "needs_background": "light"
     },
     "output_type": "display_data"
    }
   ],
   "source": [
    "#comparing the results of NN and LR\n",
    "plt.figure(figsize=(15,10))\n",
    "\n",
    "# Neural Network plots\n",
    "plt.plot(acc_nn.accuracies, 'r-', label = \"Training Accuracies - NN\")\n",
    "plt.plot(acc_nn.test_accuracies, 'g-', label = \"Testing Accuracies - NN\")\n",
    "\n",
    "# Logistic Regression plots\n",
    "plt.plot(acc_lr.accuracies, 'k-', label = \"Training Accuracies - LR\")\n",
    "plt.plot(acc_lr.test_accuracies, 'b-', label = \"Testing Accuracies - LR\")\n",
    "plt.legend()"
   ]
  },
  {
   "cell_type": "markdown",
   "id": "80dfb35c",
   "metadata": {
    "papermill": {
     "duration": 0.042675,
     "end_time": "2022-10-31T20:15:29.374466",
     "exception": false,
     "start_time": "2022-10-31T20:15:29.331791",
     "status": "completed"
    },
    "tags": []
   },
   "source": [
    "#### Plotting the outputs of this layer of the NN.\n"
   ]
  },
  {
   "cell_type": "code",
   "execution_count": 25,
   "id": "45eb2ff5",
   "metadata": {
    "execution": {
     "iopub.execute_input": "2022-10-31T20:15:29.463550Z",
     "iopub.status.busy": "2022-10-31T20:15:29.462988Z",
     "iopub.status.idle": "2022-10-31T20:15:29.498455Z",
     "shell.execute_reply": "2022-10-31T20:15:29.499275Z"
    },
    "papermill": {
     "duration": 0.082302,
     "end_time": "2022-10-31T20:15:29.499419",
     "exception": false,
     "start_time": "2022-10-31T20:15:29.417117",
     "status": "completed"
    },
    "tags": []
   },
   "outputs": [],
   "source": [
    "new_model = Model(layers[:-2])\n",
    "testing_plot = new_model(testing_data_x)"
   ]
  },
  {
   "cell_type": "code",
   "execution_count": 26,
   "id": "4c0a5485",
   "metadata": {
    "execution": {
     "iopub.execute_input": "2022-10-31T20:15:29.597063Z",
     "iopub.status.busy": "2022-10-31T20:15:29.596512Z",
     "iopub.status.idle": "2022-10-31T20:15:29.780574Z",
     "shell.execute_reply": "2022-10-31T20:15:29.780993Z"
    },
    "papermill": {
     "duration": 0.236929,
     "end_time": "2022-10-31T20:15:29.781125",
     "exception": false,
     "start_time": "2022-10-31T20:15:29.544196",
     "status": "completed"
    },
    "tags": []
   },
   "outputs": [
    {
     "data": {
      "text/plain": [
       "Text(0.5, 1.0, 'Outputs')"
      ]
     },
     "execution_count": 26,
     "metadata": {},
     "output_type": "execute_result"
    },
    {
     "data": {
      "image/png": "[encoded data removed]",
      "text/plain": [
       "<Figure size 576x504 with 1 Axes>"
      ]
     },
     "metadata": {
      "needs_background": "light"
     },
     "output_type": "display_data"
    }
   ],
   "source": [
    "# Plotting the scatter plot of points and color coding by class\n",
    "plt.figure(figsize=(8,7))\n",
    "plt.scatter(testing_plot[:,0], testing_plot[:,1], alpha = 0.1, c = y_test.ravel());\n",
    "plt.title('Outputs')"
   ]
  },
  {
   "cell_type": "markdown",
   "id": "a74fcf8f",
   "metadata": {
    "papermill": {
     "duration": 0.045071,
     "end_time": "2022-10-31T20:15:29.892764",
     "exception": false,
     "start_time": "2022-10-31T20:15:29.847693",
     "status": "completed"
    },
    "tags": []
   },
   "source": [
    "Probability contours"
   ]
  },
  {
   "cell_type": "code",
   "execution_count": 27,
   "id": "d0afc8e3",
   "metadata": {
    "execution": {
     "iopub.execute_input": "2022-10-31T20:15:29.989007Z",
     "iopub.status.busy": "2022-10-31T20:15:29.988445Z",
     "iopub.status.idle": "2022-10-31T20:15:29.997836Z",
     "shell.execute_reply": "2022-10-31T20:15:29.997370Z"
    },
    "papermill": {
     "duration": 0.060153,
     "end_time": "2022-10-31T20:15:29.997943",
     "exception": false,
     "start_time": "2022-10-31T20:15:29.937790",
     "status": "completed"
    },
    "tags": []
   },
   "outputs": [],
   "source": [
    "model_prob = Model(layers[-2:]) "
   ]
  },
  {
   "cell_type": "code",
   "execution_count": 28,
   "id": "9b96e238",
   "metadata": {
    "execution": {
     "iopub.execute_input": "2022-10-31T20:15:30.092539Z",
     "iopub.status.busy": "2022-10-31T20:15:30.091970Z",
     "iopub.status.idle": "2022-10-31T20:15:30.106599Z",
     "shell.execute_reply": "2022-10-31T20:15:30.107021Z"
    },
    "papermill": {
     "duration": 0.064135,
     "end_time": "2022-10-31T20:15:30.107148",
     "exception": false,
     "start_time": "2022-10-31T20:15:30.043013",
     "status": "completed"
    },
    "tags": []
   },
   "outputs": [],
   "source": [
    "#creating the x and y ranges according to the above generated plot.\n",
    "x_range = np.linspace(-4, 1, 100) \n",
    "y_range = np.linspace(-6, 6, 100) \n",
    "x_grid, y_grid = np.meshgrid(x_range, y_range) # x_grid and y_grig are of size 100 X 100\n",
    "\n",
    "# converting x_grid and y_grid to continuous arrays\n",
    "x_gridflat = np.ravel(x_grid)\n",
    "y_gridflat = np.ravel(y_grid)\n",
    "\n",
    "# The last layer of the current model takes two columns as input. Hence transpose of np.vstack() is required.\n",
    "X = np.vstack((x_gridflat, y_gridflat)).T\n",
    "\n",
    "prob_contour = model_prob(X).reshape(100,100) "
   ]
  },
  {
   "cell_type": "code",
   "execution_count": 29,
   "id": "da72499a",
   "metadata": {
    "execution": {
     "iopub.execute_input": "2022-10-31T20:15:30.203959Z",
     "iopub.status.busy": "2022-10-31T20:15:30.202538Z",
     "iopub.status.idle": "2022-10-31T20:15:30.439103Z",
     "shell.execute_reply": "2022-10-31T20:15:30.438219Z"
    },
    "papermill": {
     "duration": 0.286906,
     "end_time": "2022-10-31T20:15:30.439225",
     "exception": false,
     "start_time": "2022-10-31T20:15:30.152319",
     "status": "completed"
    },
    "tags": []
   },
   "outputs": [
    {
     "data": {
      "image/png": "[encoded data removed]",
      "text/plain": [
       "<Figure size 720x648 with 1 Axes>"
      ]
     },
     "metadata": {
      "needs_background": "light"
     },
     "output_type": "display_data"
    }
   ],
   "source": [
    "plt.figure(figsize=(10,9))\n",
    "plt.scatter(testing_plot[:,0], testing_plot[:,1], alpha = 0.1, c = y_test.ravel())\n",
    "contours = plt.contour(x_grid,y_grid,prob_contour)\n",
    "plt.title('Probability Contours')\n",
    "plt.clabel(contours, inline = True );"
   ]
  },
  {
   "cell_type": "code",
   "execution_count": null,
   "id": "e81b4ac7",
   "metadata": {
    "papermill": {
     "duration": 0.047295,
     "end_time": "2022-10-31T20:15:30.534253",
     "exception": false,
     "start_time": "2022-10-31T20:15:30.486958",
     "status": "completed"
    },
    "tags": []
   },
   "outputs": [],
   "source": []
  }
 ],
 "metadata": {
  "kernelspec": {
   "display_name": "Python 3",
   "language": "python",
   "name": "python3"
  },
  "language_info": {
   "codemirror_mode": {
    "name": "ipython",
    "version": 3
   },
   "file_extension": ".py",
   "mimetype": "text/x-python",
   "name": "python",
   "nbconvert_exporter": "python",
   "pygments_lexer": "ipython3",
   "version": "3.6.15"
  },
  "papermill": {
   "default_parameters": {},
   "duration": 195.714436,
   "end_time": "2022-10-31T20:15:30.899324",
   "environment_variables": {},
   "exception": null,
   "input_path": "2020-08-11-part2.ipynb",
   "output_path": "2020-08-11-part2.ipynb",
   "parameters": {},
   "start_time": "2022-10-31T20:12:15.184888",
   "version": "2.3.3"
  }
 },
 "nbformat": 4,
 "nbformat_minor": 5
}