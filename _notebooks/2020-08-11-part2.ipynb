{
 "cells": [
  {
   "cell_type": "markdown",
   "id": "98380cd3",
   "metadata": {
    "papermill": {
     "duration": 0.028033,
     "end_time": "2022-03-03T00:31:52.696515",
     "exception": false,
     "start_time": "2022-03-03T00:31:52.668482",
     "status": "completed"
    },
    "tags": []
   },
   "source": [
    "# Distinguish Your Own Digits (DYOD)"
   ]
  },
  {
   "cell_type": "markdown",
   "id": "ef31240d",
   "metadata": {
    "papermill": {
     "duration": 0.025331,
     "end_time": "2022-03-03T00:31:52.746376",
     "exception": false,
     "start_time": "2022-03-03T00:31:52.721045",
     "status": "completed"
    },
    "tags": []
   },
   "source": [
    "You are going to write a classifier that distinguishes between the number 3 and number 8."
   ]
  },
  {
   "cell_type": "code",
   "execution_count": 1,
   "id": "b15c8646",
   "metadata": {
    "execution": {
     "iopub.execute_input": "2022-03-03T00:31:52.804954Z",
     "iopub.status.busy": "2022-03-03T00:31:52.804427Z",
     "iopub.status.idle": "2022-03-03T00:31:52.814537Z",
     "shell.execute_reply": "2022-03-03T00:31:52.814949Z"
    },
    "papermill": {
     "duration": 0.044892,
     "end_time": "2022-03-03T00:31:52.815102",
     "exception": false,
     "start_time": "2022-03-03T00:31:52.770210",
     "status": "completed"
    },
    "tags": []
   },
   "outputs": [],
   "source": [
    "%load_ext autoreload\n",
    "%autoreload 2"
   ]
  },
  {
   "cell_type": "code",
   "execution_count": 2,
   "id": "22ef38dc",
   "metadata": {
    "execution": {
     "iopub.execute_input": "2022-03-03T00:31:52.868056Z",
     "iopub.status.busy": "2022-03-03T00:31:52.867509Z",
     "iopub.status.idle": "2022-03-03T00:31:53.447136Z",
     "shell.execute_reply": "2022-03-03T00:31:53.447653Z"
    },
    "papermill": {
     "duration": 0.608844,
     "end_time": "2022-03-03T00:31:53.447836",
     "exception": false,
     "start_time": "2022-03-03T00:31:52.838992",
     "status": "completed"
    },
    "tags": []
   },
   "outputs": [],
   "source": [
    "%matplotlib inline\n",
    "import numpy as np\n",
    "import matplotlib.pyplot as plt\n",
    "import pandas as pd"
   ]
  },
  {
   "cell_type": "markdown",
   "id": "ba036198",
   "metadata": {
    "papermill": {
     "duration": 0.023812,
     "end_time": "2022-03-03T00:31:53.496737",
     "exception": false,
     "start_time": "2022-03-03T00:31:53.472925",
     "status": "completed"
    },
    "tags": []
   },
   "source": [
    "From the command line run `pip install mnist`. This is a library that will help you bring down the mnist dataset. If you run this from a notebook, you need to put  `!pip install mnist` in a cell by itself."
   ]
  },
  {
   "cell_type": "code",
   "execution_count": 3,
   "id": "bb6ad8a1",
   "metadata": {
    "execution": {
     "iopub.execute_input": "2022-03-03T00:31:53.549089Z",
     "iopub.status.busy": "2022-03-03T00:31:53.548579Z",
     "iopub.status.idle": "2022-03-03T00:31:55.182040Z",
     "shell.execute_reply": "2022-03-03T00:31:55.181560Z"
    },
    "papermill": {
     "duration": 1.661593,
     "end_time": "2022-03-03T00:31:55.182170",
     "exception": false,
     "start_time": "2022-03-03T00:31:53.520577",
     "status": "completed"
    },
    "tags": []
   },
   "outputs": [
    {
     "name": "stdout",
     "output_type": "stream",
     "text": [
      "Collecting mnist\r\n"
     ]
    },
    {
     "name": "stdout",
     "output_type": "stream",
     "text": [
      "  Downloading mnist-0.2.2-py2.py3-none-any.whl (3.5 kB)\r\n",
      "Requirement already satisfied: numpy in /opt/hostedtoolcache/Python/3.6.15/x64/lib/python3.6/site-packages (from mnist) (1.19.5)\r\n"
     ]
    },
    {
     "name": "stdout",
     "output_type": "stream",
     "text": [
      "Installing collected packages: mnist\r\n",
      "Successfully installed mnist-0.2.2\r\n"
     ]
    }
   ],
   "source": [
    "!pip install mnist"
   ]
  },
  {
   "cell_type": "markdown",
   "id": "69df9c9a",
   "metadata": {
    "papermill": {
     "duration": 0.025109,
     "end_time": "2022-03-03T00:31:55.232393",
     "exception": false,
     "start_time": "2022-03-03T00:31:55.207284",
     "status": "completed"
    },
    "tags": []
   },
   "source": [
    "## Preparing the Data"
   ]
  },
  {
   "cell_type": "code",
   "execution_count": 4,
   "id": "7f69d806",
   "metadata": {
    "execution": {
     "iopub.execute_input": "2022-03-03T00:31:55.288293Z",
     "iopub.status.busy": "2022-03-03T00:31:55.287775Z",
     "iopub.status.idle": "2022-03-03T00:31:55.300731Z",
     "shell.execute_reply": "2022-03-03T00:31:55.301111Z"
    },
    "papermill": {
     "duration": 0.04417,
     "end_time": "2022-03-03T00:31:55.301240",
     "exception": false,
     "start_time": "2022-03-03T00:31:55.257070",
     "status": "completed"
    },
    "tags": []
   },
   "outputs": [],
   "source": [
    "import mnist"
   ]
  },
  {
   "cell_type": "code",
   "execution_count": 5,
   "id": "a411e44f",
   "metadata": {
    "execution": {
     "iopub.execute_input": "2022-03-03T00:31:55.353679Z",
     "iopub.status.busy": "2022-03-03T00:31:55.353179Z",
     "iopub.status.idle": "2022-03-03T00:31:55.969463Z",
     "shell.execute_reply": "2022-03-03T00:31:55.968409Z"
    },
    "papermill": {
     "duration": 0.643747,
     "end_time": "2022-03-03T00:31:55.969598",
     "exception": false,
     "start_time": "2022-03-03T00:31:55.325851",
     "status": "completed"
    },
    "tags": []
   },
   "outputs": [],
   "source": [
    "train_images = mnist.train_images()\n",
    "train_labels = mnist.train_labels()"
   ]
  },
  {
   "cell_type": "code",
   "execution_count": 6,
   "id": "dceab3a5",
   "metadata": {
    "execution": {
     "iopub.execute_input": "2022-03-03T00:31:56.023980Z",
     "iopub.status.busy": "2022-03-03T00:31:56.022465Z",
     "iopub.status.idle": "2022-03-03T00:31:56.036392Z",
     "shell.execute_reply": "2022-03-03T00:31:56.036798Z"
    },
    "papermill": {
     "duration": 0.042205,
     "end_time": "2022-03-03T00:31:56.036925",
     "exception": false,
     "start_time": "2022-03-03T00:31:55.994720",
     "status": "completed"
    },
    "tags": []
   },
   "outputs": [
    {
     "data": {
      "text/plain": [
       "((60000, 28, 28), (60000,))"
      ]
     },
     "execution_count": 6,
     "metadata": {},
     "output_type": "execute_result"
    }
   ],
   "source": [
    "train_images.shape, train_labels.shape"
   ]
  },
  {
   "cell_type": "code",
   "execution_count": 7,
   "id": "f50dc2bb",
   "metadata": {
    "execution": {
     "iopub.execute_input": "2022-03-03T00:31:56.089952Z",
     "iopub.status.busy": "2022-03-03T00:31:56.089452Z",
     "iopub.status.idle": "2022-03-03T00:31:56.250166Z",
     "shell.execute_reply": "2022-03-03T00:31:56.249606Z"
    },
    "papermill": {
     "duration": 0.188495,
     "end_time": "2022-03-03T00:31:56.250303",
     "exception": false,
     "start_time": "2022-03-03T00:31:56.061808",
     "status": "completed"
    },
    "tags": []
   },
   "outputs": [],
   "source": [
    "test_images = mnist.test_images()\n",
    "test_labels = mnist.test_labels()"
   ]
  },
  {
   "cell_type": "code",
   "execution_count": 8,
   "id": "fc38cf1b",
   "metadata": {
    "execution": {
     "iopub.execute_input": "2022-03-03T00:31:56.306953Z",
     "iopub.status.busy": "2022-03-03T00:31:56.306449Z",
     "iopub.status.idle": "2022-03-03T00:31:56.318635Z",
     "shell.execute_reply": "2022-03-03T00:31:56.318227Z"
    },
    "papermill": {
     "duration": 0.041972,
     "end_time": "2022-03-03T00:31:56.318746",
     "exception": false,
     "start_time": "2022-03-03T00:31:56.276774",
     "status": "completed"
    },
    "tags": []
   },
   "outputs": [
    {
     "data": {
      "text/plain": [
       "((10000, 28, 28), (10000,))"
      ]
     },
     "execution_count": 8,
     "metadata": {},
     "output_type": "execute_result"
    }
   ],
   "source": [
    "test_images.shape, test_labels.shape"
   ]
  },
  {
   "cell_type": "code",
   "execution_count": 9,
   "id": "f9ed8fe0",
   "metadata": {
    "execution": {
     "iopub.execute_input": "2022-03-03T00:31:56.372727Z",
     "iopub.status.busy": "2022-03-03T00:31:56.372218Z",
     "iopub.status.idle": "2022-03-03T00:31:56.507894Z",
     "shell.execute_reply": "2022-03-03T00:31:56.508379Z"
    },
    "papermill": {
     "duration": 0.164622,
     "end_time": "2022-03-03T00:31:56.508534",
     "exception": false,
     "start_time": "2022-03-03T00:31:56.343912",
     "status": "completed"
    },
    "tags": []
   },
   "outputs": [
    {
     "name": "stdout",
     "output_type": "stream",
     "text": [
      "2\n"
     ]
    },
    {
     "data": {
      "text/plain": [
       "<matplotlib.image.AxesImage at 0x7f3bae1695c0>"
      ]
     },
     "execution_count": 9,
     "metadata": {},
     "output_type": "execute_result"
    },
    {
     "data": {
      "image/png": "[encoded data removed]",
      "text/plain": [
       "<Figure size 432x288 with 1 Axes>"
      ]
     },
     "metadata": {
      "needs_background": "light"
     },
     "output_type": "display_data"
    }
   ],
   "source": [
    "image_index = 7776 # You may select anything up to 60,000\n",
    "print(train_labels[image_index]) \n",
    "plt.imshow(train_images[image_index], cmap='Greys')"
   ]
  },
  {
   "cell_type": "markdown",
   "id": "a8d2388d",
   "metadata": {
    "papermill": {
     "duration": 0.026402,
     "end_time": "2022-03-03T00:31:56.561934",
     "exception": false,
     "start_time": "2022-03-03T00:31:56.535532",
     "status": "completed"
    },
    "tags": []
   },
   "source": [
    "## Filter data to get 3 and 8 out"
   ]
  },
  {
   "cell_type": "code",
   "execution_count": 10,
   "id": "776f7fc7",
   "metadata": {
    "execution": {
     "iopub.execute_input": "2022-03-03T00:31:56.636418Z",
     "iopub.status.busy": "2022-03-03T00:31:56.632407Z",
     "iopub.status.idle": "2022-03-03T00:31:56.640535Z",
     "shell.execute_reply": "2022-03-03T00:31:56.640921Z"
    },
    "papermill": {
     "duration": 0.052876,
     "end_time": "2022-03-03T00:31:56.641060",
     "exception": false,
     "start_time": "2022-03-03T00:31:56.588184",
     "status": "completed"
    },
    "tags": []
   },
   "outputs": [],
   "source": [
    "train_filter = np.where((train_labels == 3 ) | (train_labels == 8))\n",
    "test_filter = np.where((test_labels == 3) | (test_labels == 8))\n",
    "X_train, y_train = train_images[train_filter], train_labels[train_filter]\n",
    "X_test, y_test = test_images[test_filter], test_labels[test_filter]"
   ]
  },
  {
   "cell_type": "markdown",
   "id": "948f0b7e",
   "metadata": {
    "papermill": {
     "duration": 0.026443,
     "end_time": "2022-03-03T00:31:56.694568",
     "exception": false,
     "start_time": "2022-03-03T00:31:56.668125",
     "status": "completed"
    },
    "tags": []
   },
   "source": [
    "We normalize the pizel values in the 0 to 1 range"
   ]
  },
  {
   "cell_type": "code",
   "execution_count": 11,
   "id": "ee4c2166",
   "metadata": {
    "execution": {
     "iopub.execute_input": "2022-03-03T00:31:56.764324Z",
     "iopub.status.busy": "2022-03-03T00:31:56.760478Z",
     "iopub.status.idle": "2022-03-03T00:31:56.802644Z",
     "shell.execute_reply": "2022-03-03T00:31:56.802122Z"
    },
    "papermill": {
     "duration": 0.082074,
     "end_time": "2022-03-03T00:31:56.802811",
     "exception": false,
     "start_time": "2022-03-03T00:31:56.720737",
     "status": "completed"
    },
    "tags": []
   },
   "outputs": [],
   "source": [
    "X_train = X_train/255.\n",
    "X_test = X_test/255."
   ]
  },
  {
   "cell_type": "markdown",
   "id": "ddcf4fab",
   "metadata": {
    "papermill": {
     "duration": 0.026926,
     "end_time": "2022-03-03T00:31:56.856962",
     "exception": false,
     "start_time": "2022-03-03T00:31:56.830036",
     "status": "completed"
    },
    "tags": []
   },
   "source": [
    "And setup the labels as 1 (when the digit is 3) and 0 (when the digit is 8)"
   ]
  },
  {
   "cell_type": "code",
   "execution_count": 12,
   "id": "7dc908f2",
   "metadata": {
    "execution": {
     "iopub.execute_input": "2022-03-03T00:31:56.924815Z",
     "iopub.status.busy": "2022-03-03T00:31:56.919705Z",
     "iopub.status.idle": "2022-03-03T00:31:56.928330Z",
     "shell.execute_reply": "2022-03-03T00:31:56.928737Z"
    },
    "papermill": {
     "duration": 0.045414,
     "end_time": "2022-03-03T00:31:56.928876",
     "exception": false,
     "start_time": "2022-03-03T00:31:56.883462",
     "status": "completed"
    },
    "tags": []
   },
   "outputs": [],
   "source": [
    "y_train = 1*(y_train==3)\n",
    "y_test = 1*(y_test==3)"
   ]
  },
  {
   "cell_type": "code",
   "execution_count": 13,
   "id": "01e4e969",
   "metadata": {
    "execution": {
     "iopub.execute_input": "2022-03-03T00:31:57.001388Z",
     "iopub.status.busy": "2022-03-03T00:31:57.000872Z",
     "iopub.status.idle": "2022-03-03T00:31:57.005803Z",
     "shell.execute_reply": "2022-03-03T00:31:57.006186Z"
    },
    "papermill": {
     "duration": 0.050844,
     "end_time": "2022-03-03T00:31:57.006322",
     "exception": false,
     "start_time": "2022-03-03T00:31:56.955478",
     "status": "completed"
    },
    "tags": []
   },
   "outputs": [
    {
     "data": {
      "text/plain": [
       "((11982, 28, 28), (1984, 28, 28))"
      ]
     },
     "execution_count": 13,
     "metadata": {},
     "output_type": "execute_result"
    }
   ],
   "source": [
    "X_train.shape, X_test.shape"
   ]
  },
  {
   "cell_type": "markdown",
   "id": "5ccf3f85",
   "metadata": {
    "papermill": {
     "duration": 0.026585,
     "end_time": "2022-03-03T00:31:57.059799",
     "exception": false,
     "start_time": "2022-03-03T00:31:57.033214",
     "status": "completed"
    },
    "tags": []
   },
   "source": [
    "We reshape the data to flatten the image pixels into a set of features or co-variates:"
   ]
  },
  {
   "cell_type": "code",
   "execution_count": 14,
   "id": "5286a4a3",
   "metadata": {
    "execution": {
     "iopub.execute_input": "2022-03-03T00:31:57.118846Z",
     "iopub.status.busy": "2022-03-03T00:31:57.118327Z",
     "iopub.status.idle": "2022-03-03T00:31:57.131229Z",
     "shell.execute_reply": "2022-03-03T00:31:57.130814Z"
    },
    "papermill": {
     "duration": 0.044933,
     "end_time": "2022-03-03T00:31:57.131348",
     "exception": false,
     "start_time": "2022-03-03T00:31:57.086415",
     "status": "completed"
    },
    "tags": []
   },
   "outputs": [
    {
     "data": {
      "text/plain": [
       "((11982, 784), (1984, 784))"
      ]
     },
     "execution_count": 14,
     "metadata": {},
     "output_type": "execute_result"
    }
   ],
   "source": [
    "X_train = X_train.reshape(X_train.shape[0], -1)\n",
    "X_test = X_test.reshape(X_test.shape[0], -1)\n",
    "X_train.shape, X_test.shape"
   ]
  },
  {
   "cell_type": "code",
   "execution_count": 15,
   "id": "73c5f88a",
   "metadata": {
    "execution": {
     "iopub.execute_input": "2022-03-03T00:31:57.189168Z",
     "iopub.status.busy": "2022-03-03T00:31:57.188656Z",
     "iopub.status.idle": "2022-03-03T00:31:57.206669Z",
     "shell.execute_reply": "2022-03-03T00:31:57.206188Z"
    },
    "papermill": {
     "duration": 0.048561,
     "end_time": "2022-03-03T00:31:57.206780",
     "exception": false,
     "start_time": "2022-03-03T00:31:57.158219",
     "status": "completed"
    },
    "tags": []
   },
   "outputs": [],
   "source": [
    "#Impoting functions from 'Kudzu'\n",
    "from kudzu.model import Model\n",
    "from kudzu.train import Learner\n",
    "from kudzu.optim import GD\n",
    "from kudzu.data import Data, Sampler,Dataloader\n",
    "\n",
    "from kudzu.callbacks import AccCallback\n",
    "from kudzu.callbacks import ClfCallback\n",
    "\n",
    "from kudzu.loss import MSE\n",
    "\n",
    "from kudzu.layer import Sigmoid,Relu\n",
    "from kudzu.layer import Affine"
   ]
  },
  {
   "cell_type": "markdown",
   "id": "bc01172a",
   "metadata": {
    "papermill": {
     "duration": 0.026757,
     "end_time": "2022-03-03T00:31:57.260611",
     "exception": false,
     "start_time": "2022-03-03T00:31:57.233854",
     "status": "completed"
    },
    "tags": []
   },
   "source": [
    "### Let us create a `Config` class, to store important parameters. \n",
    "This class essentially plays the role of a dictionary."
   ]
  },
  {
   "cell_type": "code",
   "execution_count": 16,
   "id": "978281aa",
   "metadata": {
    "execution": {
     "iopub.execute_input": "2022-03-03T00:31:57.331154Z",
     "iopub.status.busy": "2022-03-03T00:31:57.328493Z",
     "iopub.status.idle": "2022-03-03T00:31:57.333484Z",
     "shell.execute_reply": "2022-03-03T00:31:57.333076Z"
    },
    "papermill": {
     "duration": 0.046293,
     "end_time": "2022-03-03T00:31:57.333595",
     "exception": false,
     "start_time": "2022-03-03T00:31:57.287302",
     "status": "completed"
    },
    "tags": []
   },
   "outputs": [],
   "source": [
    "class Config:\n",
    "    pass\n",
    "config = Config()\n",
    "config.lr = 0.001\n",
    "config.num_epochs = 250\n",
    "config.bs = 50"
   ]
  },
  {
   "cell_type": "markdown",
   "id": "1385fa59",
   "metadata": {
    "papermill": {
     "duration": 0.026884,
     "end_time": "2022-03-03T00:31:57.387320",
     "exception": false,
     "start_time": "2022-03-03T00:31:57.360436",
     "status": "completed"
    },
    "tags": []
   },
   "source": [
    "### Running Models with the Training data\n",
    "Details about the network layers:\n",
    "- A first affine layer has 784 inputs and does 100 affine transforms. These are followed by a Relu\n",
    "- A second affine layer has 100 inputs from the 100 activations of the past layer, and does 100 affine transforms. These are followed by a Relu\n",
    "- A third affine layer has 100 activations and does 2 affine transformations to create an embedding for visualization. There is no non-linearity here.\n",
    "- A final \"logistic regression\" which has an affine transform from 2 inputs to 1 output, which is squeezed through a sigmoid.\n"
   ]
  },
  {
   "cell_type": "code",
   "execution_count": 17,
   "id": "2b9c66db",
   "metadata": {
    "execution": {
     "iopub.execute_input": "2022-03-03T00:31:57.459004Z",
     "iopub.status.busy": "2022-03-03T00:31:57.451193Z",
     "iopub.status.idle": "2022-03-03T00:31:57.461789Z",
     "shell.execute_reply": "2022-03-03T00:31:57.461335Z"
    },
    "papermill": {
     "duration": 0.047739,
     "end_time": "2022-03-03T00:31:57.461894",
     "exception": false,
     "start_time": "2022-03-03T00:31:57.414155",
     "status": "completed"
    },
    "tags": []
   },
   "outputs": [],
   "source": [
    "data = Data(X_train, y_train.reshape(-1,1))\n",
    "sampler = Sampler(data, config.bs, shuffle=True)\n",
    "\n",
    "dl = Dataloader(data, sampler)\n",
    "\n",
    "opt = GD(config.lr)\n",
    "loss = MSE()"
   ]
  },
  {
   "cell_type": "code",
   "execution_count": 18,
   "id": "b275e4c2",
   "metadata": {
    "execution": {
     "iopub.execute_input": "2022-03-03T00:31:57.532680Z",
     "iopub.status.busy": "2022-03-03T00:31:57.532157Z",
     "iopub.status.idle": "2022-03-03T00:31:57.534658Z",
     "shell.execute_reply": "2022-03-03T00:31:57.534005Z"
    },
    "papermill": {
     "duration": 0.045724,
     "end_time": "2022-03-03T00:31:57.534772",
     "exception": false,
     "start_time": "2022-03-03T00:31:57.489048",
     "status": "completed"
    },
    "tags": []
   },
   "outputs": [],
   "source": [
    "training_data_x = X_train\n",
    "testing_data_x = X_test\n",
    "training_data_y = y_train.reshape(-1,1)\n",
    "testing_data_y = y_test.reshape(-1,1)"
   ]
  },
  {
   "cell_type": "code",
   "execution_count": 19,
   "id": "76951160",
   "metadata": {
    "execution": {
     "iopub.execute_input": "2022-03-03T00:31:57.592554Z",
     "iopub.status.busy": "2022-03-03T00:31:57.592040Z",
     "iopub.status.idle": "2022-03-03T00:31:57.608816Z",
     "shell.execute_reply": "2022-03-03T00:31:57.608394Z"
    },
    "papermill": {
     "duration": 0.047187,
     "end_time": "2022-03-03T00:31:57.608929",
     "exception": false,
     "start_time": "2022-03-03T00:31:57.561742",
     "status": "completed"
    },
    "tags": []
   },
   "outputs": [
    {
     "name": "stdout",
     "output_type": "stream",
     "text": [
      "xavier\n",
      "xavier\n",
      "xavier\n",
      "xavier\n",
      "xavier\n"
     ]
    }
   ],
   "source": [
    "layers = [Affine(\"first\", 784, 100), Relu(\"first\"), Affine(\"second\", 100, 100), Relu(\"second\"), Affine(\"third\", 100, 2), Affine(\"last\", 2, 1), Sigmoid(\"last\")]\n",
    "model_nn = Model(layers)\n",
    "model_lr = Model([Affine(\"logits\", 784, 1), Sigmoid(\"sigmoid\")])"
   ]
  },
  {
   "cell_type": "code",
   "execution_count": 20,
   "id": "6eede77a",
   "metadata": {
    "execution": {
     "iopub.execute_input": "2022-03-03T00:31:57.667517Z",
     "iopub.status.busy": "2022-03-03T00:31:57.667013Z",
     "iopub.status.idle": "2022-03-03T00:31:57.679300Z",
     "shell.execute_reply": "2022-03-03T00:31:57.679703Z"
    },
    "papermill": {
     "duration": 0.043456,
     "end_time": "2022-03-03T00:31:57.679828",
     "exception": false,
     "start_time": "2022-03-03T00:31:57.636372",
     "status": "completed"
    },
    "tags": []
   },
   "outputs": [],
   "source": [
    "nn_learner = Learner(loss, model_nn, opt, config.num_epochs)\n",
    "acc_nn = ClfCallback(nn_learner, config.bs, training_data_x , testing_data_x, training_data_y, testing_data_y)\n",
    "nn_learner.set_callbacks([acc_nn])"
   ]
  },
  {
   "cell_type": "code",
   "execution_count": 21,
   "id": "877b6cc7",
   "metadata": {
    "execution": {
     "iopub.execute_input": "2022-03-03T00:31:57.738681Z",
     "iopub.status.busy": "2022-03-03T00:31:57.738180Z",
     "iopub.status.idle": "2022-03-03T00:31:57.750388Z",
     "shell.execute_reply": "2022-03-03T00:31:57.749955Z"
    },
    "papermill": {
     "duration": 0.043599,
     "end_time": "2022-03-03T00:31:57.750493",
     "exception": false,
     "start_time": "2022-03-03T00:31:57.706894",
     "status": "completed"
    },
    "tags": []
   },
   "outputs": [],
   "source": [
    "lr_learner = Learner(loss, model_lr, opt, config.num_epochs)\n",
    "acc_lr = ClfCallback(lr_learner, config.bs, training_data_x , testing_data_x, training_data_y, testing_data_y)\n",
    "lr_learner.set_callbacks([acc_lr])"
   ]
  },
  {
   "cell_type": "code",
   "execution_count": 22,
   "id": "d9b133c3",
   "metadata": {
    "execution": {
     "iopub.execute_input": "2022-03-03T00:31:57.812860Z",
     "iopub.status.busy": "2022-03-03T00:31:57.812350Z",
     "iopub.status.idle": "2022-03-03T00:33:14.664956Z",
     "shell.execute_reply": "2022-03-03T00:33:14.665703Z"
    },
    "papermill": {
     "duration": 76.887768,
     "end_time": "2022-03-03T00:33:14.665860",
     "exception": false,
     "start_time": "2022-03-03T00:31:57.778092",
     "status": "completed"
    },
    "tags": []
   },
   "outputs": [
    {
     "name": "stdout",
     "output_type": "stream",
     "text": [
      "Epoch 0, Loss 0.2156\n",
      "Training Accuracy: 0.8018, Testing Accuracy: 0.8347\n",
      "\n"
     ]
    },
    {
     "name": "stdout",
     "output_type": "stream",
     "text": [
      "Epoch 10, Loss 0.0691\n",
      "Training Accuracy: 0.9280, Testing Accuracy: 0.9425\n",
      "\n"
     ]
    },
    {
     "name": "stdout",
     "output_type": "stream",
     "text": [
      "Epoch 20, Loss 0.0475\n",
      "Training Accuracy: 0.9489, Testing Accuracy: 0.9602\n",
      "\n"
     ]
    },
    {
     "name": "stdout",
     "output_type": "stream",
     "text": [
      "Epoch 30, Loss 0.0393\n",
      "Training Accuracy: 0.9565, Testing Accuracy: 0.9672\n",
      "\n"
     ]
    },
    {
     "name": "stdout",
     "output_type": "stream",
     "text": [
      "Epoch 40, Loss 0.0348\n",
      "Training Accuracy: 0.9606, Testing Accuracy: 0.9688\n",
      "\n"
     ]
    },
    {
     "name": "stdout",
     "output_type": "stream",
     "text": [
      "Epoch 50, Loss 0.0319\n",
      "Training Accuracy: 0.9636, Testing Accuracy: 0.9693\n",
      "\n"
     ]
    },
    {
     "name": "stdout",
     "output_type": "stream",
     "text": [
      "Epoch 60, Loss 0.0298\n",
      "Training Accuracy: 0.9662, Testing Accuracy: 0.9693\n",
      "\n"
     ]
    },
    {
     "name": "stdout",
     "output_type": "stream",
     "text": [
      "Epoch 70, Loss 0.0282\n",
      "Training Accuracy: 0.9675, Testing Accuracy: 0.9713\n",
      "\n"
     ]
    },
    {
     "name": "stdout",
     "output_type": "stream",
     "text": [
      "Epoch 80, Loss 0.0269\n",
      "Training Accuracy: 0.9696, Testing Accuracy: 0.9713\n",
      "\n"
     ]
    },
    {
     "name": "stdout",
     "output_type": "stream",
     "text": [
      "Epoch 90, Loss 0.0257\n",
      "Training Accuracy: 0.9710, Testing Accuracy: 0.9708\n",
      "\n"
     ]
    },
    {
     "name": "stdout",
     "output_type": "stream",
     "text": [
      "Epoch 100, Loss 0.0248\n",
      "Training Accuracy: 0.9720, Testing Accuracy: 0.9733\n",
      "\n"
     ]
    },
    {
     "name": "stdout",
     "output_type": "stream",
     "text": [
      "Epoch 110, Loss 0.0239\n",
      "Training Accuracy: 0.9729, Testing Accuracy: 0.9743\n",
      "\n"
     ]
    },
    {
     "name": "stdout",
     "output_type": "stream",
     "text": [
      "Epoch 120, Loss 0.0232\n",
      "Training Accuracy: 0.9737, Testing Accuracy: 0.9748\n",
      "\n"
     ]
    },
    {
     "name": "stdout",
     "output_type": "stream",
     "text": [
      "Epoch 130, Loss 0.0224\n",
      "Training Accuracy: 0.9743, Testing Accuracy: 0.9748\n",
      "\n"
     ]
    },
    {
     "name": "stdout",
     "output_type": "stream",
     "text": [
      "Epoch 140, Loss 0.0218\n",
      "Training Accuracy: 0.9754, Testing Accuracy: 0.9748\n",
      "\n"
     ]
    },
    {
     "name": "stdout",
     "output_type": "stream",
     "text": [
      "Epoch 150, Loss 0.0212\n",
      "Training Accuracy: 0.9760, Testing Accuracy: 0.9753\n",
      "\n"
     ]
    },
    {
     "name": "stdout",
     "output_type": "stream",
     "text": [
      "Epoch 160, Loss 0.0206\n",
      "Training Accuracy: 0.9765, Testing Accuracy: 0.9753\n",
      "\n"
     ]
    },
    {
     "name": "stdout",
     "output_type": "stream",
     "text": [
      "Epoch 170, Loss 0.0201\n",
      "Training Accuracy: 0.9774, Testing Accuracy: 0.9753\n",
      "\n"
     ]
    },
    {
     "name": "stdout",
     "output_type": "stream",
     "text": [
      "Epoch 180, Loss 0.0196\n",
      "Training Accuracy: 0.9778, Testing Accuracy: 0.9758\n",
      "\n"
     ]
    },
    {
     "name": "stdout",
     "output_type": "stream",
     "text": [
      "Epoch 190, Loss 0.0191\n",
      "Training Accuracy: 0.9785, Testing Accuracy: 0.9758\n",
      "\n"
     ]
    },
    {
     "name": "stdout",
     "output_type": "stream",
     "text": [
      "Epoch 200, Loss 0.0186\n",
      "Training Accuracy: 0.9790, Testing Accuracy: 0.9758\n",
      "\n"
     ]
    },
    {
     "name": "stdout",
     "output_type": "stream",
     "text": [
      "Epoch 210, Loss 0.0181\n",
      "Training Accuracy: 0.9796, Testing Accuracy: 0.9763\n",
      "\n"
     ]
    },
    {
     "name": "stdout",
     "output_type": "stream",
     "text": [
      "Epoch 220, Loss 0.0177\n",
      "Training Accuracy: 0.9804, Testing Accuracy: 0.9763\n",
      "\n"
     ]
    },
    {
     "name": "stdout",
     "output_type": "stream",
     "text": [
      "Epoch 230, Loss 0.0172\n",
      "Training Accuracy: 0.9808, Testing Accuracy: 0.9763\n",
      "\n"
     ]
    },
    {
     "name": "stdout",
     "output_type": "stream",
     "text": [
      "Epoch 240, Loss 0.0168\n",
      "Training Accuracy: 0.9815, Testing Accuracy: 0.9763\n",
      "\n"
     ]
    },
    {
     "data": {
      "text/plain": [
       "0.005612407023878134"
      ]
     },
     "execution_count": 22,
     "metadata": {},
     "output_type": "execute_result"
    }
   ],
   "source": [
    "nn_learner.train_loop(dl)"
   ]
  },
  {
   "cell_type": "code",
   "execution_count": 23,
   "id": "e0163366",
   "metadata": {
    "execution": {
     "iopub.execute_input": "2022-03-03T00:33:14.746798Z",
     "iopub.status.busy": "2022-03-03T00:33:14.746293Z",
     "iopub.status.idle": "2022-03-03T00:33:28.749311Z",
     "shell.execute_reply": "2022-03-03T00:33:28.750033Z"
    },
    "papermill": {
     "duration": 14.049351,
     "end_time": "2022-03-03T00:33:28.750187",
     "exception": false,
     "start_time": "2022-03-03T00:33:14.700836",
     "status": "completed"
    },
    "tags": []
   },
   "outputs": [
    {
     "name": "stdout",
     "output_type": "stream",
     "text": [
      "Epoch 0, Loss 0.2194\n",
      "Training Accuracy: 0.7106, Testing Accuracy: 0.7228\n",
      "\n"
     ]
    },
    {
     "name": "stdout",
     "output_type": "stream",
     "text": [
      "Epoch 10, Loss 0.1016\n",
      "Training Accuracy: 0.9091, Testing Accuracy: 0.9249\n",
      "\n"
     ]
    },
    {
     "name": "stdout",
     "output_type": "stream",
     "text": [
      "Epoch 20, Loss 0.078\n",
      "Training Accuracy: 0.9300, Testing Accuracy: 0.9410\n",
      "\n"
     ]
    },
    {
     "name": "stdout",
     "output_type": "stream",
     "text": [
      "Epoch 30, Loss 0.0672\n",
      "Training Accuracy: 0.9387, Testing Accuracy: 0.9486\n",
      "\n"
     ]
    },
    {
     "name": "stdout",
     "output_type": "stream",
     "text": [
      "Epoch 40, Loss 0.0609\n",
      "Training Accuracy: 0.9427, Testing Accuracy: 0.9531\n",
      "\n"
     ]
    },
    {
     "name": "stdout",
     "output_type": "stream",
     "text": [
      "Epoch 50, Loss 0.0565\n",
      "Training Accuracy: 0.9459, Testing Accuracy: 0.9551\n",
      "\n"
     ]
    },
    {
     "name": "stdout",
     "output_type": "stream",
     "text": [
      "Epoch 60, Loss 0.0533\n",
      "Training Accuracy: 0.9488, Testing Accuracy: 0.9567\n",
      "\n"
     ]
    },
    {
     "name": "stdout",
     "output_type": "stream",
     "text": [
      "Epoch 70, Loss 0.0509\n",
      "Training Accuracy: 0.9504, Testing Accuracy: 0.9577\n",
      "\n"
     ]
    },
    {
     "name": "stdout",
     "output_type": "stream",
     "text": [
      "Epoch 80, Loss 0.0489\n",
      "Training Accuracy: 0.9518, Testing Accuracy: 0.9622\n",
      "\n"
     ]
    },
    {
     "name": "stdout",
     "output_type": "stream",
     "text": [
      "Epoch 90, Loss 0.0473\n",
      "Training Accuracy: 0.9531, Testing Accuracy: 0.9637\n",
      "\n"
     ]
    },
    {
     "name": "stdout",
     "output_type": "stream",
     "text": [
      "Epoch 100, Loss 0.0459\n",
      "Training Accuracy: 0.9539, Testing Accuracy: 0.9647\n",
      "\n"
     ]
    },
    {
     "name": "stdout",
     "output_type": "stream",
     "text": [
      "Epoch 110, Loss 0.0447\n",
      "Training Accuracy: 0.9544, Testing Accuracy: 0.9652\n",
      "\n"
     ]
    },
    {
     "name": "stdout",
     "output_type": "stream",
     "text": [
      "Epoch 120, Loss 0.0436\n",
      "Training Accuracy: 0.9550, Testing Accuracy: 0.9662\n",
      "\n"
     ]
    },
    {
     "name": "stdout",
     "output_type": "stream",
     "text": [
      "Epoch 130, Loss 0.0427\n",
      "Training Accuracy: 0.9562, Testing Accuracy: 0.9662\n",
      "\n"
     ]
    },
    {
     "name": "stdout",
     "output_type": "stream",
     "text": [
      "Epoch 140, Loss 0.0419\n",
      "Training Accuracy: 0.9573, Testing Accuracy: 0.9662\n",
      "\n"
     ]
    },
    {
     "name": "stdout",
     "output_type": "stream",
     "text": [
      "Epoch 150, Loss 0.0412\n",
      "Training Accuracy: 0.9578, Testing Accuracy: 0.9662\n",
      "\n"
     ]
    },
    {
     "name": "stdout",
     "output_type": "stream",
     "text": [
      "Epoch 160, Loss 0.0405\n",
      "Training Accuracy: 0.9583, Testing Accuracy: 0.9667\n",
      "\n"
     ]
    },
    {
     "name": "stdout",
     "output_type": "stream",
     "text": [
      "Epoch 170, Loss 0.0399\n",
      "Training Accuracy: 0.9587, Testing Accuracy: 0.9667\n",
      "\n"
     ]
    },
    {
     "name": "stdout",
     "output_type": "stream",
     "text": [
      "Epoch 180, Loss 0.0394\n",
      "Training Accuracy: 0.9593, Testing Accuracy: 0.9667\n",
      "\n"
     ]
    },
    {
     "name": "stdout",
     "output_type": "stream",
     "text": [
      "Epoch 190, Loss 0.0389\n",
      "Training Accuracy: 0.9598, Testing Accuracy: 0.9672\n",
      "\n"
     ]
    },
    {
     "name": "stdout",
     "output_type": "stream",
     "text": [
      "Epoch 200, Loss 0.0384\n",
      "Training Accuracy: 0.9600, Testing Accuracy: 0.9677\n",
      "\n"
     ]
    },
    {
     "name": "stdout",
     "output_type": "stream",
     "text": [
      "Epoch 210, Loss 0.0379\n",
      "Training Accuracy: 0.9602, Testing Accuracy: 0.9677\n",
      "\n"
     ]
    },
    {
     "name": "stdout",
     "output_type": "stream",
     "text": [
      "Epoch 220, Loss 0.0375\n",
      "Training Accuracy: 0.9604, Testing Accuracy: 0.9682\n",
      "\n"
     ]
    },
    {
     "name": "stdout",
     "output_type": "stream",
     "text": [
      "Epoch 230, Loss 0.0372\n",
      "Training Accuracy: 0.9606, Testing Accuracy: 0.9682\n",
      "\n"
     ]
    },
    {
     "name": "stdout",
     "output_type": "stream",
     "text": [
      "Epoch 240, Loss 0.0368\n",
      "Training Accuracy: 0.9613, Testing Accuracy: 0.9682\n",
      "\n"
     ]
    },
    {
     "data": {
      "text/plain": [
       "0.005105200738360819"
      ]
     },
     "execution_count": 23,
     "metadata": {},
     "output_type": "execute_result"
    }
   ],
   "source": [
    "lr_learner.train_loop(dl)"
   ]
  },
  {
   "cell_type": "code",
   "execution_count": 24,
   "id": "ca410940",
   "metadata": {
    "execution": {
     "iopub.execute_input": "2022-03-03T00:33:28.842518Z",
     "iopub.status.busy": "2022-03-03T00:33:28.841270Z",
     "iopub.status.idle": "2022-03-03T00:33:29.066762Z",
     "shell.execute_reply": "2022-03-03T00:33:29.066283Z"
    },
    "papermill": {
     "duration": 0.275284,
     "end_time": "2022-03-03T00:33:29.066915",
     "exception": false,
     "start_time": "2022-03-03T00:33:28.791631",
     "status": "completed"
    },
    "tags": []
   },
   "outputs": [
    {
     "data": {
      "text/plain": [
       "<matplotlib.legend.Legend at 0x7f3badd45d68>"
      ]
     },
     "execution_count": 24,
     "metadata": {},
     "output_type": "execute_result"
    },
    {
     "data": {
      "image/png": "[encoded data removed]",
      "text/plain": [
       "<Figure size 1080x720 with 1 Axes>"
      ]
     },
     "metadata": {
      "needs_background": "light"
     },
     "output_type": "display_data"
    }
   ],
   "source": [
    "#comparing the results of NN and LR\n",
    "plt.figure(figsize=(15,10))\n",
    "\n",
    "# Neural Network plots\n",
    "plt.plot(acc_nn.accuracies, 'r-', label = \"Training Accuracies - NN\")\n",
    "plt.plot(acc_nn.test_accuracies, 'g-', label = \"Testing Accuracies - NN\")\n",
    "\n",
    "# Logistic Regression plots\n",
    "plt.plot(acc_lr.accuracies, 'k-', label = \"Training Accuracies - LR\")\n",
    "plt.plot(acc_lr.test_accuracies, 'b-', label = \"Testing Accuracies - LR\")\n",
    "plt.legend()"
   ]
  },
  {
   "cell_type": "markdown",
   "id": "80dfb35c",
   "metadata": {
    "papermill": {
     "duration": 0.042439,
     "end_time": "2022-03-03T00:33:29.154384",
     "exception": false,
     "start_time": "2022-03-03T00:33:29.111945",
     "status": "completed"
    },
    "tags": []
   },
   "source": [
    "#### Plotting the outputs of this layer of the NN.\n"
   ]
  },
  {
   "cell_type": "code",
   "execution_count": 25,
   "id": "45eb2ff5",
   "metadata": {
    "execution": {
     "iopub.execute_input": "2022-03-03T00:33:29.253485Z",
     "iopub.status.busy": "2022-03-03T00:33:29.252527Z",
     "iopub.status.idle": "2022-03-03T00:33:29.276636Z",
     "shell.execute_reply": "2022-03-03T00:33:29.277056Z"
    },
    "papermill": {
     "duration": 0.080547,
     "end_time": "2022-03-03T00:33:29.277199",
     "exception": false,
     "start_time": "2022-03-03T00:33:29.196652",
     "status": "completed"
    },
    "tags": []
   },
   "outputs": [],
   "source": [
    "new_model = Model(layers[:-2])\n",
    "testing_plot = new_model(testing_data_x)"
   ]
  },
  {
   "cell_type": "code",
   "execution_count": 26,
   "id": "4c0a5485",
   "metadata": {
    "execution": {
     "iopub.execute_input": "2022-03-03T00:33:29.368310Z",
     "iopub.status.busy": "2022-03-03T00:33:29.367768Z",
     "iopub.status.idle": "2022-03-03T00:33:29.570596Z",
     "shell.execute_reply": "2022-03-03T00:33:29.570155Z"
    },
    "papermill": {
     "duration": 0.250677,
     "end_time": "2022-03-03T00:33:29.570727",
     "exception": false,
     "start_time": "2022-03-03T00:33:29.320050",
     "status": "completed"
    },
    "tags": []
   },
   "outputs": [
    {
     "data": {
      "text/plain": [
       "Text(0.5, 1.0, 'Outputs')"
      ]
     },
     "execution_count": 26,
     "metadata": {},
     "output_type": "execute_result"
    },
    {
     "data": {
      "image/png": "[encoded data removed]",
      "text/plain": [
       "<Figure size 576x504 with 1 Axes>"
      ]
     },
     "metadata": {
      "needs_background": "light"
     },
     "output_type": "display_data"
    }
   ],
   "source": [
    "# Plotting the scatter plot of points and color coding by class\n",
    "plt.figure(figsize=(8,7))\n",
    "plt.scatter(testing_plot[:,0], testing_plot[:,1], alpha = 0.1, c = y_test.ravel());\n",
    "plt.title('Outputs')"
   ]
  },
  {
   "cell_type": "markdown",
   "id": "a74fcf8f",
   "metadata": {
    "papermill": {
     "duration": 0.044505,
     "end_time": "2022-03-03T00:33:29.660350",
     "exception": false,
     "start_time": "2022-03-03T00:33:29.615845",
     "status": "completed"
    },
    "tags": []
   },
   "source": [
    "Probability contours"
   ]
  },
  {
   "cell_type": "code",
   "execution_count": 27,
   "id": "d0afc8e3",
   "metadata": {
    "execution": {
     "iopub.execute_input": "2022-03-03T00:33:29.766833Z",
     "iopub.status.busy": "2022-03-03T00:33:29.761066Z",
     "iopub.status.idle": "2022-03-03T00:33:29.771354Z",
     "shell.execute_reply": "2022-03-03T00:33:29.770883Z"
    },
    "papermill": {
     "duration": 0.066339,
     "end_time": "2022-03-03T00:33:29.771477",
     "exception": false,
     "start_time": "2022-03-03T00:33:29.705138",
     "status": "completed"
    },
    "tags": []
   },
   "outputs": [],
   "source": [
    "model_prob = Model(layers[-2:]) "
   ]
  },
  {
   "cell_type": "code",
   "execution_count": 28,
   "id": "9b96e238",
   "metadata": {
    "execution": {
     "iopub.execute_input": "2022-03-03T00:33:29.881601Z",
     "iopub.status.busy": "2022-03-03T00:33:29.879997Z",
     "iopub.status.idle": "2022-03-03T00:33:29.886472Z",
     "shell.execute_reply": "2022-03-03T00:33:29.885954Z"
    },
    "papermill": {
     "duration": 0.070204,
     "end_time": "2022-03-03T00:33:29.886592",
     "exception": false,
     "start_time": "2022-03-03T00:33:29.816388",
     "status": "completed"
    },
    "tags": []
   },
   "outputs": [],
   "source": [
    "#creating the x and y ranges according to the above generated plot.\n",
    "x_range = np.linspace(-4, 1, 100) \n",
    "y_range = np.linspace(-6, 6, 100) \n",
    "x_grid, y_grid = np.meshgrid(x_range, y_range) # x_grid and y_grig are of size 100 X 100\n",
    "\n",
    "# converting x_grid and y_grid to continuous arrays\n",
    "x_gridflat = np.ravel(x_grid)\n",
    "y_gridflat = np.ravel(y_grid)\n",
    "\n",
    "# The last layer of the current model takes two columns as input. Hence transpose of np.vstack() is required.\n",
    "X = np.vstack((x_gridflat, y_gridflat)).T\n",
    "\n",
    "prob_contour = model_prob(X).reshape(100,100) "
   ]
  },
  {
   "cell_type": "code",
   "execution_count": 29,
   "id": "da72499a",
   "metadata": {
    "execution": {
     "iopub.execute_input": "2022-03-03T00:33:30.040847Z",
     "iopub.status.busy": "2022-03-03T00:33:30.020577Z",
     "iopub.status.idle": "2022-03-03T00:33:30.258537Z",
     "shell.execute_reply": "2022-03-03T00:33:30.258100Z"
    },
    "papermill": {
     "duration": 0.326932,
     "end_time": "2022-03-03T00:33:30.258665",
     "exception": false,
     "start_time": "2022-03-03T00:33:29.931733",
     "status": "completed"
    },
    "tags": []
   },
   "outputs": [
    {
     "data": {
      "image/png": "[encoded data removed]",
      "text/plain": [
       "<Figure size 720x648 with 1 Axes>"
      ]
     },
     "metadata": {
      "needs_background": "light"
     },
     "output_type": "display_data"
    }
   ],
   "source": [
    "plt.figure(figsize=(10,9))\n",
    "plt.scatter(testing_plot[:,0], testing_plot[:,1], alpha = 0.1, c = y_test.ravel())\n",
    "contours = plt.contour(x_grid,y_grid,prob_contour)\n",
    "plt.title('Probability Contours')\n",
    "plt.clabel(contours, inline = True );"
   ]
  },
  {
   "cell_type": "code",
   "execution_count": null,
   "id": "e81b4ac7",
   "metadata": {
    "papermill": {
     "duration": 0.047013,
     "end_time": "2022-03-03T00:33:30.353512",
     "exception": false,
     "start_time": "2022-03-03T00:33:30.306499",
     "status": "completed"
    },
    "tags": []
   },
   "outputs": [],
   "source": []
  }
 ],
 "metadata": {
  "kernelspec": {
   "display_name": "Python 3",
   "language": "python",
   "name": "python3"
  },
  "language_info": {
   "codemirror_mode": {
    "name": "ipython",
    "version": 3
   },
   "file_extension": ".py",
   "mimetype": "text/x-python",
   "name": "python",
   "nbconvert_exporter": "python",
   "pygments_lexer": "ipython3",
   "version": "3.6.15"
  },
  "papermill": {
   "default_parameters": {},
   "duration": 99.073485,
   "end_time": "2022-03-03T00:33:30.819818",
   "environment_variables": {},
   "exception": null,
   "input_path": "2020-08-11-part2.ipynb",
   "output_path": "2020-08-11-part2.ipynb",
   "parameters": {},
   "start_time": "2022-03-03T00:31:51.746333",
   "version": "2.3.3"
  }
 },
 "nbformat": 4,
 "nbformat_minor": 5
}