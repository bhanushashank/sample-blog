{
 "cells": [
  {
   "cell_type": "markdown",
   "id": "98380cd3",
   "metadata": {
    "papermill": {
     "duration": 0.038363,
     "end_time": "2022-10-12T20:14:13.689007",
     "exception": false,
     "start_time": "2022-10-12T20:14:13.650644",
     "status": "completed"
    },
    "tags": []
   },
   "source": [
    "# Distinguish Your Own Digits (DYOD)"
   ]
  },
  {
   "cell_type": "markdown",
   "id": "ef31240d",
   "metadata": {
    "papermill": {
     "duration": 0.031728,
     "end_time": "2022-10-12T20:14:13.754971",
     "exception": false,
     "start_time": "2022-10-12T20:14:13.723243",
     "status": "completed"
    },
    "tags": []
   },
   "source": [
    "You are going to write a classifier that distinguishes between the number 3 and number 8."
   ]
  },
  {
   "cell_type": "code",
   "execution_count": 1,
   "id": "b15c8646",
   "metadata": {
    "execution": {
     "iopub.execute_input": "2022-10-12T20:14:13.838832Z",
     "iopub.status.busy": "2022-10-12T20:14:13.838005Z",
     "iopub.status.idle": "2022-10-12T20:14:13.852050Z",
     "shell.execute_reply": "2022-10-12T20:14:13.851351Z"
    },
    "papermill": {
     "duration": 0.062178,
     "end_time": "2022-10-12T20:14:13.852226",
     "exception": false,
     "start_time": "2022-10-12T20:14:13.790048",
     "status": "completed"
    },
    "tags": []
   },
   "outputs": [],
   "source": [
    "%load_ext autoreload\n",
    "%autoreload 2"
   ]
  },
  {
   "cell_type": "code",
   "execution_count": 2,
   "id": "22ef38dc",
   "metadata": {
    "execution": {
     "iopub.execute_input": "2022-10-12T20:14:13.925368Z",
     "iopub.status.busy": "2022-10-12T20:14:13.924576Z",
     "iopub.status.idle": "2022-10-12T20:14:14.660121Z",
     "shell.execute_reply": "2022-10-12T20:14:14.658513Z"
    },
    "papermill": {
     "duration": 0.775988,
     "end_time": "2022-10-12T20:14:14.660276",
     "exception": false,
     "start_time": "2022-10-12T20:14:13.884288",
     "status": "completed"
    },
    "tags": []
   },
   "outputs": [],
   "source": [
    "%matplotlib inline\n",
    "import numpy as np\n",
    "import matplotlib.pyplot as plt\n",
    "import pandas as pd"
   ]
  },
  {
   "cell_type": "markdown",
   "id": "ba036198",
   "metadata": {
    "papermill": {
     "duration": 0.033553,
     "end_time": "2022-10-12T20:14:14.725997",
     "exception": false,
     "start_time": "2022-10-12T20:14:14.692444",
     "status": "completed"
    },
    "tags": []
   },
   "source": [
    "From the command line run `pip install mnist`. This is a library that will help you bring down the mnist dataset. If you run this from a notebook, you need to put  `!pip install mnist` in a cell by itself."
   ]
  },
  {
   "cell_type": "code",
   "execution_count": 3,
   "id": "bb6ad8a1",
   "metadata": {
    "execution": {
     "iopub.execute_input": "2022-10-12T20:14:14.796928Z",
     "iopub.status.busy": "2022-10-12T20:14:14.796013Z",
     "iopub.status.idle": "2022-10-12T20:14:17.768299Z",
     "shell.execute_reply": "2022-10-12T20:14:17.768926Z"
    },
    "papermill": {
     "duration": 3.010671,
     "end_time": "2022-10-12T20:14:17.769113",
     "exception": false,
     "start_time": "2022-10-12T20:14:14.758442",
     "status": "completed"
    },
    "tags": []
   },
   "outputs": [
    {
     "name": "stdout",
     "output_type": "stream",
     "text": [
      "Collecting mnist\r\n",
      "  Downloading mnist-0.2.2-py2.py3-none-any.whl (3.5 kB)\r\n",
      "Requirement already satisfied: numpy in /opt/hostedtoolcache/Python/3.6.15/x64/lib/python3.6/site-packages (from mnist) (1.19.5)\r\n"
     ]
    },
    {
     "name": "stdout",
     "output_type": "stream",
     "text": [
      "Installing collected packages: mnist\r\n"
     ]
    },
    {
     "name": "stdout",
     "output_type": "stream",
     "text": [
      "Successfully installed mnist-0.2.2\r\n"
     ]
    }
   ],
   "source": [
    "!pip install mnist"
   ]
  },
  {
   "cell_type": "markdown",
   "id": "69df9c9a",
   "metadata": {
    "papermill": {
     "duration": 0.033339,
     "end_time": "2022-10-12T20:14:17.836978",
     "exception": false,
     "start_time": "2022-10-12T20:14:17.803639",
     "status": "completed"
    },
    "tags": []
   },
   "source": [
    "## Preparing the Data"
   ]
  },
  {
   "cell_type": "code",
   "execution_count": 4,
   "id": "7f69d806",
   "metadata": {
    "execution": {
     "iopub.execute_input": "2022-10-12T20:14:17.912397Z",
     "iopub.status.busy": "2022-10-12T20:14:17.909444Z",
     "iopub.status.idle": "2022-10-12T20:14:17.926953Z",
     "shell.execute_reply": "2022-10-12T20:14:17.927612Z"
    },
    "papermill": {
     "duration": 0.056771,
     "end_time": "2022-10-12T20:14:17.927805",
     "exception": false,
     "start_time": "2022-10-12T20:14:17.871034",
     "status": "completed"
    },
    "tags": []
   },
   "outputs": [],
   "source": [
    "import mnist"
   ]
  },
  {
   "cell_type": "code",
   "execution_count": 5,
   "id": "a411e44f",
   "metadata": {
    "execution": {
     "iopub.execute_input": "2022-10-12T20:14:18.008926Z",
     "iopub.status.busy": "2022-10-12T20:14:18.008022Z",
     "iopub.status.idle": "2022-10-12T20:14:18.617905Z",
     "shell.execute_reply": "2022-10-12T20:14:18.616561Z"
    },
    "papermill": {
     "duration": 0.656978,
     "end_time": "2022-10-12T20:14:18.618063",
     "exception": false,
     "start_time": "2022-10-12T20:14:17.961085",
     "status": "completed"
    },
    "tags": []
   },
   "outputs": [],
   "source": [
    "train_images = mnist.train_images()\n",
    "train_labels = mnist.train_labels()"
   ]
  },
  {
   "cell_type": "code",
   "execution_count": 6,
   "id": "dceab3a5",
   "metadata": {
    "execution": {
     "iopub.execute_input": "2022-10-12T20:14:18.692438Z",
     "iopub.status.busy": "2022-10-12T20:14:18.689910Z",
     "iopub.status.idle": "2022-10-12T20:14:18.709110Z",
     "shell.execute_reply": "2022-10-12T20:14:18.708147Z"
    },
    "papermill": {
     "duration": 0.056539,
     "end_time": "2022-10-12T20:14:18.709262",
     "exception": false,
     "start_time": "2022-10-12T20:14:18.652723",
     "status": "completed"
    },
    "tags": []
   },
   "outputs": [
    {
     "data": {
      "text/plain": [
       "((60000, 28, 28), (60000,))"
      ]
     },
     "execution_count": 6,
     "metadata": {},
     "output_type": "execute_result"
    }
   ],
   "source": [
    "train_images.shape, train_labels.shape"
   ]
  },
  {
   "cell_type": "code",
   "execution_count": 7,
   "id": "f50dc2bb",
   "metadata": {
    "execution": {
     "iopub.execute_input": "2022-10-12T20:14:18.784468Z",
     "iopub.status.busy": "2022-10-12T20:14:18.783651Z",
     "iopub.status.idle": "2022-10-12T20:14:18.977762Z",
     "shell.execute_reply": "2022-10-12T20:14:18.977054Z"
    },
    "papermill": {
     "duration": 0.235629,
     "end_time": "2022-10-12T20:14:18.977921",
     "exception": false,
     "start_time": "2022-10-12T20:14:18.742292",
     "status": "completed"
    },
    "tags": []
   },
   "outputs": [],
   "source": [
    "test_images = mnist.test_images()\n",
    "test_labels = mnist.test_labels()"
   ]
  },
  {
   "cell_type": "code",
   "execution_count": 8,
   "id": "fc38cf1b",
   "metadata": {
    "execution": {
     "iopub.execute_input": "2022-10-12T20:14:19.054351Z",
     "iopub.status.busy": "2022-10-12T20:14:19.053574Z",
     "iopub.status.idle": "2022-10-12T20:14:19.070420Z",
     "shell.execute_reply": "2022-10-12T20:14:19.069645Z"
    },
    "papermill": {
     "duration": 0.058574,
     "end_time": "2022-10-12T20:14:19.070570",
     "exception": false,
     "start_time": "2022-10-12T20:14:19.011996",
     "status": "completed"
    },
    "tags": []
   },
   "outputs": [
    {
     "data": {
      "text/plain": [
       "((10000, 28, 28), (10000,))"
      ]
     },
     "execution_count": 8,
     "metadata": {},
     "output_type": "execute_result"
    }
   ],
   "source": [
    "test_images.shape, test_labels.shape"
   ]
  },
  {
   "cell_type": "code",
   "execution_count": 9,
   "id": "f9ed8fe0",
   "metadata": {
    "execution": {
     "iopub.execute_input": "2022-10-12T20:14:19.152003Z",
     "iopub.status.busy": "2022-10-12T20:14:19.151231Z",
     "iopub.status.idle": "2022-10-12T20:14:19.354050Z",
     "shell.execute_reply": "2022-10-12T20:14:19.353297Z"
    },
    "papermill": {
     "duration": 0.243661,
     "end_time": "2022-10-12T20:14:19.354207",
     "exception": false,
     "start_time": "2022-10-12T20:14:19.110546",
     "status": "completed"
    },
    "tags": []
   },
   "outputs": [
    {
     "name": "stdout",
     "output_type": "stream",
     "text": [
      "2\n"
     ]
    },
    {
     "data": {
      "text/plain": [
       "<matplotlib.image.AxesImage at 0x7f8e9931dd30>"
      ]
     },
     "execution_count": 9,
     "metadata": {},
     "output_type": "execute_result"
    },
    {
     "data": {
      "image/png": "[encoded data removed]",
      "text/plain": [
       "<Figure size 432x288 with 1 Axes>"
      ]
     },
     "metadata": {
      "needs_background": "light"
     },
     "output_type": "display_data"
    }
   ],
   "source": [
    "image_index = 7776 # You may select anything up to 60,000\n",
    "print(train_labels[image_index]) \n",
    "plt.imshow(train_images[image_index], cmap='Greys')"
   ]
  },
  {
   "cell_type": "markdown",
   "id": "a8d2388d",
   "metadata": {
    "papermill": {
     "duration": 0.035919,
     "end_time": "2022-10-12T20:14:19.426962",
     "exception": false,
     "start_time": "2022-10-12T20:14:19.391043",
     "status": "completed"
    },
    "tags": []
   },
   "source": [
    "## Filter data to get 3 and 8 out"
   ]
  },
  {
   "cell_type": "code",
   "execution_count": 10,
   "id": "776f7fc7",
   "metadata": {
    "execution": {
     "iopub.execute_input": "2022-10-12T20:14:19.509001Z",
     "iopub.status.busy": "2022-10-12T20:14:19.505480Z",
     "iopub.status.idle": "2022-10-12T20:14:19.530166Z",
     "shell.execute_reply": "2022-10-12T20:14:19.529476Z"
    },
    "papermill": {
     "duration": 0.066001,
     "end_time": "2022-10-12T20:14:19.530327",
     "exception": false,
     "start_time": "2022-10-12T20:14:19.464326",
     "status": "completed"
    },
    "tags": []
   },
   "outputs": [],
   "source": [
    "train_filter = np.where((train_labels == 3 ) | (train_labels == 8))\n",
    "test_filter = np.where((test_labels == 3) | (test_labels == 8))\n",
    "X_train, y_train = train_images[train_filter], train_labels[train_filter]\n",
    "X_test, y_test = test_images[test_filter], test_labels[test_filter]"
   ]
  },
  {
   "cell_type": "markdown",
   "id": "948f0b7e",
   "metadata": {
    "papermill": {
     "duration": 0.035805,
     "end_time": "2022-10-12T20:14:19.608016",
     "exception": false,
     "start_time": "2022-10-12T20:14:19.572211",
     "status": "completed"
    },
    "tags": []
   },
   "source": [
    "We normalize the pizel values in the 0 to 1 range"
   ]
  },
  {
   "cell_type": "code",
   "execution_count": 11,
   "id": "ee4c2166",
   "metadata": {
    "execution": {
     "iopub.execute_input": "2022-10-12T20:14:19.688697Z",
     "iopub.status.busy": "2022-10-12T20:14:19.687882Z",
     "iopub.status.idle": "2022-10-12T20:14:19.754351Z",
     "shell.execute_reply": "2022-10-12T20:14:19.753674Z"
    },
    "papermill": {
     "duration": 0.108918,
     "end_time": "2022-10-12T20:14:19.754505",
     "exception": false,
     "start_time": "2022-10-12T20:14:19.645587",
     "status": "completed"
    },
    "tags": []
   },
   "outputs": [],
   "source": [
    "X_train = X_train/255.\n",
    "X_test = X_test/255."
   ]
  },
  {
   "cell_type": "markdown",
   "id": "ddcf4fab",
   "metadata": {
    "papermill": {
     "duration": 0.037072,
     "end_time": "2022-10-12T20:14:19.826674",
     "exception": false,
     "start_time": "2022-10-12T20:14:19.789602",
     "status": "completed"
    },
    "tags": []
   },
   "source": [
    "And setup the labels as 1 (when the digit is 3) and 0 (when the digit is 8)"
   ]
  },
  {
   "cell_type": "code",
   "execution_count": 12,
   "id": "7dc908f2",
   "metadata": {
    "execution": {
     "iopub.execute_input": "2022-10-12T20:14:19.903744Z",
     "iopub.status.busy": "2022-10-12T20:14:19.902945Z",
     "iopub.status.idle": "2022-10-12T20:14:19.919102Z",
     "shell.execute_reply": "2022-10-12T20:14:19.919806Z"
    },
    "papermill": {
     "duration": 0.056913,
     "end_time": "2022-10-12T20:14:19.919982",
     "exception": false,
     "start_time": "2022-10-12T20:14:19.863069",
     "status": "completed"
    },
    "tags": []
   },
   "outputs": [],
   "source": [
    "y_train = 1*(y_train==3)\n",
    "y_test = 1*(y_test==3)"
   ]
  },
  {
   "cell_type": "code",
   "execution_count": 13,
   "id": "01e4e969",
   "metadata": {
    "execution": {
     "iopub.execute_input": "2022-10-12T20:14:20.013760Z",
     "iopub.status.busy": "2022-10-12T20:14:20.007500Z",
     "iopub.status.idle": "2022-10-12T20:14:20.018481Z",
     "shell.execute_reply": "2022-10-12T20:14:20.017865Z"
    },
    "papermill": {
     "duration": 0.060422,
     "end_time": "2022-10-12T20:14:20.018634",
     "exception": false,
     "start_time": "2022-10-12T20:14:19.958212",
     "status": "completed"
    },
    "tags": []
   },
   "outputs": [
    {
     "data": {
      "text/plain": [
       "((11982, 28, 28), (1984, 28, 28))"
      ]
     },
     "execution_count": 13,
     "metadata": {},
     "output_type": "execute_result"
    }
   ],
   "source": [
    "X_train.shape, X_test.shape"
   ]
  },
  {
   "cell_type": "markdown",
   "id": "5ccf3f85",
   "metadata": {
    "papermill": {
     "duration": 0.036431,
     "end_time": "2022-10-12T20:14:20.093071",
     "exception": false,
     "start_time": "2022-10-12T20:14:20.056640",
     "status": "completed"
    },
    "tags": []
   },
   "source": [
    "We reshape the data to flatten the image pixels into a set of features or co-variates:"
   ]
  },
  {
   "cell_type": "code",
   "execution_count": 14,
   "id": "5286a4a3",
   "metadata": {
    "execution": {
     "iopub.execute_input": "2022-10-12T20:14:20.172923Z",
     "iopub.status.busy": "2022-10-12T20:14:20.172045Z",
     "iopub.status.idle": "2022-10-12T20:14:20.188755Z",
     "shell.execute_reply": "2022-10-12T20:14:20.189550Z"
    },
    "papermill": {
     "duration": 0.059558,
     "end_time": "2022-10-12T20:14:20.189729",
     "exception": false,
     "start_time": "2022-10-12T20:14:20.130171",
     "status": "completed"
    },
    "tags": []
   },
   "outputs": [
    {
     "data": {
      "text/plain": [
       "((11982, 784), (1984, 784))"
      ]
     },
     "execution_count": 14,
     "metadata": {},
     "output_type": "execute_result"
    }
   ],
   "source": [
    "X_train = X_train.reshape(X_train.shape[0], -1)\n",
    "X_test = X_test.reshape(X_test.shape[0], -1)\n",
    "X_train.shape, X_test.shape"
   ]
  },
  {
   "cell_type": "code",
   "execution_count": 15,
   "id": "73c5f88a",
   "metadata": {
    "execution": {
     "iopub.execute_input": "2022-10-12T20:14:20.271513Z",
     "iopub.status.busy": "2022-10-12T20:14:20.270662Z",
     "iopub.status.idle": "2022-10-12T20:14:20.294258Z",
     "shell.execute_reply": "2022-10-12T20:14:20.293609Z"
    },
    "papermill": {
     "duration": 0.06749,
     "end_time": "2022-10-12T20:14:20.294413",
     "exception": false,
     "start_time": "2022-10-12T20:14:20.226923",
     "status": "completed"
    },
    "tags": []
   },
   "outputs": [],
   "source": [
    "#Impoting functions from 'Kudzu'\n",
    "from kudzu.model import Model\n",
    "from kudzu.train import Learner\n",
    "from kudzu.optim import GD\n",
    "from kudzu.data import Data, Sampler,Dataloader\n",
    "\n",
    "from kudzu.callbacks import AccCallback\n",
    "from kudzu.callbacks import ClfCallback\n",
    "\n",
    "from kudzu.loss import MSE\n",
    "\n",
    "from kudzu.layer import Sigmoid,Relu\n",
    "from kudzu.layer import Affine"
   ]
  },
  {
   "cell_type": "markdown",
   "id": "bc01172a",
   "metadata": {
    "papermill": {
     "duration": 0.036125,
     "end_time": "2022-10-12T20:14:20.366717",
     "exception": false,
     "start_time": "2022-10-12T20:14:20.330592",
     "status": "completed"
    },
    "tags": []
   },
   "source": [
    "### Let us create a `Config` class, to store important parameters. \n",
    "This class essentially plays the role of a dictionary."
   ]
  },
  {
   "cell_type": "code",
   "execution_count": 16,
   "id": "978281aa",
   "metadata": {
    "execution": {
     "iopub.execute_input": "2022-10-12T20:14:20.446175Z",
     "iopub.status.busy": "2022-10-12T20:14:20.445401Z",
     "iopub.status.idle": "2022-10-12T20:14:20.462506Z",
     "shell.execute_reply": "2022-10-12T20:14:20.461851Z"
    },
    "papermill": {
     "duration": 0.059028,
     "end_time": "2022-10-12T20:14:20.462665",
     "exception": false,
     "start_time": "2022-10-12T20:14:20.403637",
     "status": "completed"
    },
    "tags": []
   },
   "outputs": [],
   "source": [
    "class Config:\n",
    "    pass\n",
    "config = Config()\n",
    "config.lr = 0.001\n",
    "config.num_epochs = 250\n",
    "config.bs = 50"
   ]
  },
  {
   "cell_type": "markdown",
   "id": "1385fa59",
   "metadata": {
    "papermill": {
     "duration": 0.037849,
     "end_time": "2022-10-12T20:14:20.538313",
     "exception": false,
     "start_time": "2022-10-12T20:14:20.500464",
     "status": "completed"
    },
    "tags": []
   },
   "source": [
    "### Running Models with the Training data\n",
    "Details about the network layers:\n",
    "- A first affine layer has 784 inputs and does 100 affine transforms. These are followed by a Relu\n",
    "- A second affine layer has 100 inputs from the 100 activations of the past layer, and does 100 affine transforms. These are followed by a Relu\n",
    "- A third affine layer has 100 activations and does 2 affine transformations to create an embedding for visualization. There is no non-linearity here.\n",
    "- A final \"logistic regression\" which has an affine transform from 2 inputs to 1 output, which is squeezed through a sigmoid.\n"
   ]
  },
  {
   "cell_type": "code",
   "execution_count": 17,
   "id": "2b9c66db",
   "metadata": {
    "execution": {
     "iopub.execute_input": "2022-10-12T20:14:20.619018Z",
     "iopub.status.busy": "2022-10-12T20:14:20.618098Z",
     "iopub.status.idle": "2022-10-12T20:14:20.634102Z",
     "shell.execute_reply": "2022-10-12T20:14:20.634728Z"
    },
    "papermill": {
     "duration": 0.059267,
     "end_time": "2022-10-12T20:14:20.634911",
     "exception": false,
     "start_time": "2022-10-12T20:14:20.575644",
     "status": "completed"
    },
    "tags": []
   },
   "outputs": [],
   "source": [
    "data = Data(X_train, y_train.reshape(-1,1))\n",
    "sampler = Sampler(data, config.bs, shuffle=True)\n",
    "\n",
    "dl = Dataloader(data, sampler)\n",
    "\n",
    "opt = GD(config.lr)\n",
    "loss = MSE()"
   ]
  },
  {
   "cell_type": "code",
   "execution_count": 18,
   "id": "b275e4c2",
   "metadata": {
    "execution": {
     "iopub.execute_input": "2022-10-12T20:14:20.717426Z",
     "iopub.status.busy": "2022-10-12T20:14:20.716637Z",
     "iopub.status.idle": "2022-10-12T20:14:20.730437Z",
     "shell.execute_reply": "2022-10-12T20:14:20.731073Z"
    },
    "papermill": {
     "duration": 0.059433,
     "end_time": "2022-10-12T20:14:20.731318",
     "exception": false,
     "start_time": "2022-10-12T20:14:20.671885",
     "status": "completed"
    },
    "tags": []
   },
   "outputs": [],
   "source": [
    "training_data_x = X_train\n",
    "testing_data_x = X_test\n",
    "training_data_y = y_train.reshape(-1,1)\n",
    "testing_data_y = y_test.reshape(-1,1)"
   ]
  },
  {
   "cell_type": "code",
   "execution_count": 19,
   "id": "76951160",
   "metadata": {
    "execution": {
     "iopub.execute_input": "2022-10-12T20:14:20.815990Z",
     "iopub.status.busy": "2022-10-12T20:14:20.815006Z",
     "iopub.status.idle": "2022-10-12T20:14:20.837432Z",
     "shell.execute_reply": "2022-10-12T20:14:20.836779Z"
    },
    "papermill": {
     "duration": 0.066108,
     "end_time": "2022-10-12T20:14:20.837582",
     "exception": false,
     "start_time": "2022-10-12T20:14:20.771474",
     "status": "completed"
    },
    "tags": []
   },
   "outputs": [
    {
     "name": "stdout",
     "output_type": "stream",
     "text": [
      "xavier\n",
      "xavier\n",
      "xavier\n",
      "xavier\n",
      "xavier\n"
     ]
    }
   ],
   "source": [
    "layers = [Affine(\"first\", 784, 100), Relu(\"first\"), Affine(\"second\", 100, 100), Relu(\"second\"), Affine(\"third\", 100, 2), Affine(\"last\", 2, 1), Sigmoid(\"last\")]\n",
    "model_nn = Model(layers)\n",
    "model_lr = Model([Affine(\"logits\", 784, 1), Sigmoid(\"sigmoid\")])"
   ]
  },
  {
   "cell_type": "code",
   "execution_count": 20,
   "id": "6eede77a",
   "metadata": {
    "execution": {
     "iopub.execute_input": "2022-10-12T20:14:20.920696Z",
     "iopub.status.busy": "2022-10-12T20:14:20.919858Z",
     "iopub.status.idle": "2022-10-12T20:14:20.935783Z",
     "shell.execute_reply": "2022-10-12T20:14:20.935053Z"
    },
    "papermill": {
     "duration": 0.060551,
     "end_time": "2022-10-12T20:14:20.935933",
     "exception": false,
     "start_time": "2022-10-12T20:14:20.875382",
     "status": "completed"
    },
    "tags": []
   },
   "outputs": [],
   "source": [
    "nn_learner = Learner(loss, model_nn, opt, config.num_epochs)\n",
    "acc_nn = ClfCallback(nn_learner, config.bs, training_data_x , testing_data_x, training_data_y, testing_data_y)\n",
    "nn_learner.set_callbacks([acc_nn])"
   ]
  },
  {
   "cell_type": "code",
   "execution_count": 21,
   "id": "877b6cc7",
   "metadata": {
    "execution": {
     "iopub.execute_input": "2022-10-12T20:14:21.019058Z",
     "iopub.status.busy": "2022-10-12T20:14:21.018273Z",
     "iopub.status.idle": "2022-10-12T20:14:21.032605Z",
     "shell.execute_reply": "2022-10-12T20:14:21.031922Z"
    },
    "papermill": {
     "duration": 0.05929,
     "end_time": "2022-10-12T20:14:21.032783",
     "exception": false,
     "start_time": "2022-10-12T20:14:20.973493",
     "status": "completed"
    },
    "tags": []
   },
   "outputs": [],
   "source": [
    "lr_learner = Learner(loss, model_lr, opt, config.num_epochs)\n",
    "acc_lr = ClfCallback(lr_learner, config.bs, training_data_x , testing_data_x, training_data_y, testing_data_y)\n",
    "lr_learner.set_callbacks([acc_lr])"
   ]
  },
  {
   "cell_type": "code",
   "execution_count": 22,
   "id": "d9b133c3",
   "metadata": {
    "execution": {
     "iopub.execute_input": "2022-10-12T20:14:21.114954Z",
     "iopub.status.busy": "2022-10-12T20:14:21.114187Z",
     "iopub.status.idle": "2022-10-12T20:16:49.278544Z",
     "shell.execute_reply": "2022-10-12T20:16:49.279345Z"
    },
    "papermill": {
     "duration": 148.208304,
     "end_time": "2022-10-12T20:16:49.279538",
     "exception": false,
     "start_time": "2022-10-12T20:14:21.071234",
     "status": "completed"
    },
    "tags": []
   },
   "outputs": [
    {
     "name": "stdout",
     "output_type": "stream",
     "text": [
      "Epoch 0, Loss 0.2159\n",
      "Training Accuracy: 0.7939, Testing Accuracy: 0.8105\n",
      "\n"
     ]
    },
    {
     "name": "stdout",
     "output_type": "stream",
     "text": [
      "Epoch 10, Loss 0.0632\n",
      "Training Accuracy: 0.9384, Testing Accuracy: 0.9430\n",
      "\n"
     ]
    },
    {
     "name": "stdout",
     "output_type": "stream",
     "text": [
      "Epoch 20, Loss 0.0437\n",
      "Training Accuracy: 0.9514, Testing Accuracy: 0.9567\n",
      "\n"
     ]
    },
    {
     "name": "stdout",
     "output_type": "stream",
     "text": [
      "Epoch 30, Loss 0.0364\n",
      "Training Accuracy: 0.9594, Testing Accuracy: 0.9617\n",
      "\n"
     ]
    },
    {
     "name": "stdout",
     "output_type": "stream",
     "text": [
      "Epoch 40, Loss 0.0324\n",
      "Training Accuracy: 0.9638, Testing Accuracy: 0.9652\n",
      "\n"
     ]
    },
    {
     "name": "stdout",
     "output_type": "stream",
     "text": [
      "Epoch 50, Loss 0.0299\n",
      "Training Accuracy: 0.9669, Testing Accuracy: 0.9677\n",
      "\n"
     ]
    },
    {
     "name": "stdout",
     "output_type": "stream",
     "text": [
      "Epoch 60, Loss 0.028\n",
      "Training Accuracy: 0.9684, Testing Accuracy: 0.9688\n",
      "\n"
     ]
    },
    {
     "name": "stdout",
     "output_type": "stream",
     "text": [
      "Epoch 70, Loss 0.0265\n",
      "Training Accuracy: 0.9697, Testing Accuracy: 0.9688\n",
      "\n"
     ]
    },
    {
     "name": "stdout",
     "output_type": "stream",
     "text": [
      "Epoch 80, Loss 0.0253\n",
      "Training Accuracy: 0.9709, Testing Accuracy: 0.9698\n",
      "\n"
     ]
    },
    {
     "name": "stdout",
     "output_type": "stream",
     "text": [
      "Epoch 90, Loss 0.0243\n",
      "Training Accuracy: 0.9720, Testing Accuracy: 0.9698\n",
      "\n"
     ]
    },
    {
     "name": "stdout",
     "output_type": "stream",
     "text": [
      "Epoch 100, Loss 0.0234\n",
      "Training Accuracy: 0.9733, Testing Accuracy: 0.9708\n",
      "\n"
     ]
    },
    {
     "name": "stdout",
     "output_type": "stream",
     "text": [
      "Epoch 110, Loss 0.0226\n",
      "Training Accuracy: 0.9744, Testing Accuracy: 0.9708\n",
      "\n"
     ]
    },
    {
     "name": "stdout",
     "output_type": "stream",
     "text": [
      "Epoch 120, Loss 0.0219\n",
      "Training Accuracy: 0.9751, Testing Accuracy: 0.9718\n",
      "\n"
     ]
    },
    {
     "name": "stdout",
     "output_type": "stream",
     "text": [
      "Epoch 130, Loss 0.0213\n",
      "Training Accuracy: 0.9755, Testing Accuracy: 0.9723\n",
      "\n"
     ]
    },
    {
     "name": "stdout",
     "output_type": "stream",
     "text": [
      "Epoch 140, Loss 0.0207\n",
      "Training Accuracy: 0.9766, Testing Accuracy: 0.9728\n",
      "\n"
     ]
    },
    {
     "name": "stdout",
     "output_type": "stream",
     "text": [
      "Epoch 150, Loss 0.0201\n",
      "Training Accuracy: 0.9775, Testing Accuracy: 0.9733\n",
      "\n"
     ]
    },
    {
     "name": "stdout",
     "output_type": "stream",
     "text": [
      "Epoch 160, Loss 0.0196\n",
      "Training Accuracy: 0.9781, Testing Accuracy: 0.9738\n",
      "\n"
     ]
    },
    {
     "name": "stdout",
     "output_type": "stream",
     "text": [
      "Epoch 170, Loss 0.0191\n",
      "Training Accuracy: 0.9784, Testing Accuracy: 0.9738\n",
      "\n"
     ]
    },
    {
     "name": "stdout",
     "output_type": "stream",
     "text": [
      "Epoch 180, Loss 0.0187\n",
      "Training Accuracy: 0.9794, Testing Accuracy: 0.9743\n",
      "\n"
     ]
    },
    {
     "name": "stdout",
     "output_type": "stream",
     "text": [
      "Epoch 190, Loss 0.0182\n",
      "Training Accuracy: 0.9797, Testing Accuracy: 0.9748\n",
      "\n"
     ]
    },
    {
     "name": "stdout",
     "output_type": "stream",
     "text": [
      "Epoch 200, Loss 0.0178\n",
      "Training Accuracy: 0.9806, Testing Accuracy: 0.9748\n",
      "\n"
     ]
    },
    {
     "name": "stdout",
     "output_type": "stream",
     "text": [
      "Epoch 210, Loss 0.0174\n",
      "Training Accuracy: 0.9810, Testing Accuracy: 0.9748\n",
      "\n"
     ]
    },
    {
     "name": "stdout",
     "output_type": "stream",
     "text": [
      "Epoch 220, Loss 0.017\n",
      "Training Accuracy: 0.9815, Testing Accuracy: 0.9753\n",
      "\n"
     ]
    },
    {
     "name": "stdout",
     "output_type": "stream",
     "text": [
      "Epoch 230, Loss 0.0166\n",
      "Training Accuracy: 0.9820, Testing Accuracy: 0.9753\n",
      "\n"
     ]
    },
    {
     "name": "stdout",
     "output_type": "stream",
     "text": [
      "Epoch 240, Loss 0.0163\n",
      "Training Accuracy: 0.9823, Testing Accuracy: 0.9763\n",
      "\n"
     ]
    },
    {
     "data": {
      "text/plain": [
       "0.0032835376644963217"
      ]
     },
     "execution_count": 22,
     "metadata": {},
     "output_type": "execute_result"
    }
   ],
   "source": [
    "nn_learner.train_loop(dl)"
   ]
  },
  {
   "cell_type": "code",
   "execution_count": 23,
   "id": "e0163366",
   "metadata": {
    "execution": {
     "iopub.execute_input": "2022-10-12T20:16:49.382413Z",
     "iopub.status.busy": "2022-10-12T20:16:49.381603Z",
     "iopub.status.idle": "2022-10-12T20:17:10.966995Z",
     "shell.execute_reply": "2022-10-12T20:17:10.968844Z"
    },
    "papermill": {
     "duration": 21.639296,
     "end_time": "2022-10-12T20:17:10.969028",
     "exception": false,
     "start_time": "2022-10-12T20:16:49.329732",
     "status": "completed"
    },
    "tags": []
   },
   "outputs": [
    {
     "name": "stdout",
     "output_type": "stream",
     "text": [
      "Epoch 0, Loss 0.2656\n",
      "Training Accuracy: 0.5880, Testing Accuracy: 0.5691\n",
      "\n"
     ]
    },
    {
     "name": "stdout",
     "output_type": "stream",
     "text": [
      "Epoch 10, Loss 0.1045\n",
      "Training Accuracy: 0.9095, Testing Accuracy: 0.9234\n",
      "\n"
     ]
    },
    {
     "name": "stdout",
     "output_type": "stream",
     "text": [
      "Epoch 20, Loss 0.08\n",
      "Training Accuracy: 0.9270, Testing Accuracy: 0.9395\n",
      "\n"
     ]
    },
    {
     "name": "stdout",
     "output_type": "stream",
     "text": [
      "Epoch 30, Loss 0.0689\n",
      "Training Accuracy: 0.9357, Testing Accuracy: 0.9461\n",
      "\n"
     ]
    },
    {
     "name": "stdout",
     "output_type": "stream",
     "text": [
      "Epoch 40, Loss 0.0622\n",
      "Training Accuracy: 0.9402, Testing Accuracy: 0.9521\n",
      "\n"
     ]
    },
    {
     "name": "stdout",
     "output_type": "stream",
     "text": [
      "Epoch 50, Loss 0.0576\n",
      "Training Accuracy: 0.9429, Testing Accuracy: 0.9551\n",
      "\n"
     ]
    },
    {
     "name": "stdout",
     "output_type": "stream",
     "text": [
      "Epoch 60, Loss 0.0543\n",
      "Training Accuracy: 0.9454, Testing Accuracy: 0.9582\n",
      "\n"
     ]
    },
    {
     "name": "stdout",
     "output_type": "stream",
     "text": [
      "Epoch 70, Loss 0.0517\n",
      "Training Accuracy: 0.9477, Testing Accuracy: 0.9597\n",
      "\n"
     ]
    },
    {
     "name": "stdout",
     "output_type": "stream",
     "text": [
      "Epoch 80, Loss 0.0496\n",
      "Training Accuracy: 0.9493, Testing Accuracy: 0.9602\n",
      "\n"
     ]
    },
    {
     "name": "stdout",
     "output_type": "stream",
     "text": [
      "Epoch 90, Loss 0.0478\n",
      "Training Accuracy: 0.9507, Testing Accuracy: 0.9612\n",
      "\n"
     ]
    },
    {
     "name": "stdout",
     "output_type": "stream",
     "text": [
      "Epoch 100, Loss 0.0464\n",
      "Training Accuracy: 0.9521, Testing Accuracy: 0.9617\n",
      "\n"
     ]
    },
    {
     "name": "stdout",
     "output_type": "stream",
     "text": [
      "Epoch 110, Loss 0.0452\n",
      "Training Accuracy: 0.9528, Testing Accuracy: 0.9622\n",
      "\n"
     ]
    },
    {
     "name": "stdout",
     "output_type": "stream",
     "text": [
      "Epoch 120, Loss 0.0441\n",
      "Training Accuracy: 0.9537, Testing Accuracy: 0.9627\n",
      "\n"
     ]
    },
    {
     "name": "stdout",
     "output_type": "stream",
     "text": [
      "Epoch 130, Loss 0.0431\n",
      "Training Accuracy: 0.9543, Testing Accuracy: 0.9627\n",
      "\n"
     ]
    },
    {
     "name": "stdout",
     "output_type": "stream",
     "text": [
      "Epoch 140, Loss 0.0423\n",
      "Training Accuracy: 0.9551, Testing Accuracy: 0.9642\n",
      "\n"
     ]
    },
    {
     "name": "stdout",
     "output_type": "stream",
     "text": [
      "Epoch 150, Loss 0.0415\n",
      "Training Accuracy: 0.9558, Testing Accuracy: 0.9652\n",
      "\n"
     ]
    },
    {
     "name": "stdout",
     "output_type": "stream",
     "text": [
      "Epoch 160, Loss 0.0408\n",
      "Training Accuracy: 0.9559, Testing Accuracy: 0.9652\n",
      "\n"
     ]
    },
    {
     "name": "stdout",
     "output_type": "stream",
     "text": [
      "Epoch 170, Loss 0.0402\n",
      "Training Accuracy: 0.9569, Testing Accuracy: 0.9652\n",
      "\n"
     ]
    },
    {
     "name": "stdout",
     "output_type": "stream",
     "text": [
      "Epoch 180, Loss 0.0396\n",
      "Training Accuracy: 0.9575, Testing Accuracy: 0.9662\n",
      "\n"
     ]
    },
    {
     "name": "stdout",
     "output_type": "stream",
     "text": [
      "Epoch 190, Loss 0.0391\n",
      "Training Accuracy: 0.9580, Testing Accuracy: 0.9672\n",
      "\n"
     ]
    },
    {
     "name": "stdout",
     "output_type": "stream",
     "text": [
      "Epoch 200, Loss 0.0386\n",
      "Training Accuracy: 0.9587, Testing Accuracy: 0.9677\n",
      "\n"
     ]
    },
    {
     "name": "stdout",
     "output_type": "stream",
     "text": [
      "Epoch 210, Loss 0.0382\n",
      "Training Accuracy: 0.9592, Testing Accuracy: 0.9677\n",
      "\n"
     ]
    },
    {
     "name": "stdout",
     "output_type": "stream",
     "text": [
      "Epoch 220, Loss 0.0377\n",
      "Training Accuracy: 0.9597, Testing Accuracy: 0.9677\n",
      "\n"
     ]
    },
    {
     "name": "stdout",
     "output_type": "stream",
     "text": [
      "Epoch 230, Loss 0.0374\n",
      "Training Accuracy: 0.9599, Testing Accuracy: 0.9677\n",
      "\n"
     ]
    },
    {
     "name": "stdout",
     "output_type": "stream",
     "text": [
      "Epoch 240, Loss 0.037\n",
      "Training Accuracy: 0.9604, Testing Accuracy: 0.9682\n",
      "\n"
     ]
    },
    {
     "data": {
      "text/plain": [
       "0.034141738186531295"
      ]
     },
     "execution_count": 23,
     "metadata": {},
     "output_type": "execute_result"
    }
   ],
   "source": [
    "lr_learner.train_loop(dl)"
   ]
  },
  {
   "cell_type": "code",
   "execution_count": 24,
   "id": "ca410940",
   "metadata": {
    "execution": {
     "iopub.execute_input": "2022-10-12T20:17:11.106260Z",
     "iopub.status.busy": "2022-10-12T20:17:11.105420Z",
     "iopub.status.idle": "2022-10-12T20:17:11.463271Z",
     "shell.execute_reply": "2022-10-12T20:17:11.463882Z"
    },
    "papermill": {
     "duration": 0.425539,
     "end_time": "2022-10-12T20:17:11.464057",
     "exception": false,
     "start_time": "2022-10-12T20:17:11.038518",
     "status": "completed"
    },
    "tags": []
   },
   "outputs": [
    {
     "data": {
      "text/plain": [
       "<matplotlib.legend.Legend at 0x7f8e98e8d518>"
      ]
     },
     "execution_count": 24,
     "metadata": {},
     "output_type": "execute_result"
    },
    {
     "data": {
      "image/png": "[encoded data removed]",
      "text/plain": [
       "<Figure size 1080x720 with 1 Axes>"
      ]
     },
     "metadata": {
      "needs_background": "light"
     },
     "output_type": "display_data"
    }
   ],
   "source": [
    "#comparing the results of NN and LR\n",
    "plt.figure(figsize=(15,10))\n",
    "\n",
    "# Neural Network plots\n",
    "plt.plot(acc_nn.accuracies, 'r-', label = \"Training Accuracies - NN\")\n",
    "plt.plot(acc_nn.test_accuracies, 'g-', label = \"Testing Accuracies - NN\")\n",
    "\n",
    "# Logistic Regression plots\n",
    "plt.plot(acc_lr.accuracies, 'k-', label = \"Training Accuracies - LR\")\n",
    "plt.plot(acc_lr.test_accuracies, 'b-', label = \"Testing Accuracies - LR\")\n",
    "plt.legend()"
   ]
  },
  {
   "cell_type": "markdown",
   "id": "80dfb35c",
   "metadata": {
    "papermill": {
     "duration": 0.057231,
     "end_time": "2022-10-12T20:17:11.583309",
     "exception": false,
     "start_time": "2022-10-12T20:17:11.526078",
     "status": "completed"
    },
    "tags": []
   },
   "source": [
    "#### Plotting the outputs of this layer of the NN.\n"
   ]
  },
  {
   "cell_type": "code",
   "execution_count": 25,
   "id": "45eb2ff5",
   "metadata": {
    "execution": {
     "iopub.execute_input": "2022-10-12T20:17:11.708220Z",
     "iopub.status.busy": "2022-10-12T20:17:11.707399Z",
     "iopub.status.idle": "2022-10-12T20:17:11.738031Z",
     "shell.execute_reply": "2022-10-12T20:17:11.738949Z"
    },
    "papermill": {
     "duration": 0.099964,
     "end_time": "2022-10-12T20:17:11.739132",
     "exception": false,
     "start_time": "2022-10-12T20:17:11.639168",
     "status": "completed"
    },
    "tags": []
   },
   "outputs": [],
   "source": [
    "new_model = Model(layers[:-2])\n",
    "testing_plot = new_model(testing_data_x)"
   ]
  },
  {
   "cell_type": "code",
   "execution_count": 26,
   "id": "4c0a5485",
   "metadata": {
    "execution": {
     "iopub.execute_input": "2022-10-12T20:17:11.869436Z",
     "iopub.status.busy": "2022-10-12T20:17:11.868633Z",
     "iopub.status.idle": "2022-10-12T20:17:12.170913Z",
     "shell.execute_reply": "2022-10-12T20:17:12.171778Z"
    },
    "papermill": {
     "duration": 0.366043,
     "end_time": "2022-10-12T20:17:12.171963",
     "exception": false,
     "start_time": "2022-10-12T20:17:11.805920",
     "status": "completed"
    },
    "tags": []
   },
   "outputs": [
    {
     "data": {
      "text/plain": [
       "Text(0.5, 1.0, 'Outputs')"
      ]
     },
     "execution_count": 26,
     "metadata": {},
     "output_type": "execute_result"
    },
    {
     "data": {
      "image/png": "[encoded data removed]",
      "text/plain": [
       "<Figure size 576x504 with 1 Axes>"
      ]
     },
     "metadata": {
      "needs_background": "light"
     },
     "output_type": "display_data"
    }
   ],
   "source": [
    "# Plotting the scatter plot of points and color coding by class\n",
    "plt.figure(figsize=(8,7))\n",
    "plt.scatter(testing_plot[:,0], testing_plot[:,1], alpha = 0.1, c = y_test.ravel());\n",
    "plt.title('Outputs')"
   ]
  },
  {
   "cell_type": "markdown",
   "id": "a74fcf8f",
   "metadata": {
    "papermill": {
     "duration": 0.060589,
     "end_time": "2022-10-12T20:17:12.293785",
     "exception": false,
     "start_time": "2022-10-12T20:17:12.233196",
     "status": "completed"
    },
    "tags": []
   },
   "source": [
    "Probability contours"
   ]
  },
  {
   "cell_type": "code",
   "execution_count": 27,
   "id": "d0afc8e3",
   "metadata": {
    "execution": {
     "iopub.execute_input": "2022-10-12T20:17:12.424424Z",
     "iopub.status.busy": "2022-10-12T20:17:12.423577Z",
     "iopub.status.idle": "2022-10-12T20:17:12.438989Z",
     "shell.execute_reply": "2022-10-12T20:17:12.438310Z"
    },
    "papermill": {
     "duration": 0.083415,
     "end_time": "2022-10-12T20:17:12.439138",
     "exception": false,
     "start_time": "2022-10-12T20:17:12.355723",
     "status": "completed"
    },
    "tags": []
   },
   "outputs": [],
   "source": [
    "model_prob = Model(layers[-2:]) "
   ]
  },
  {
   "cell_type": "code",
   "execution_count": 28,
   "id": "9b96e238",
   "metadata": {
    "execution": {
     "iopub.execute_input": "2022-10-12T20:17:12.609950Z",
     "iopub.status.busy": "2022-10-12T20:17:12.609111Z",
     "iopub.status.idle": "2022-10-12T20:17:12.627610Z",
     "shell.execute_reply": "2022-10-12T20:17:12.628345Z"
    },
    "papermill": {
     "duration": 0.090681,
     "end_time": "2022-10-12T20:17:12.628538",
     "exception": false,
     "start_time": "2022-10-12T20:17:12.537857",
     "status": "completed"
    },
    "tags": []
   },
   "outputs": [],
   "source": [
    "#creating the x and y ranges according to the above generated plot.\n",
    "x_range = np.linspace(-4, 1, 100) \n",
    "y_range = np.linspace(-6, 6, 100) \n",
    "x_grid, y_grid = np.meshgrid(x_range, y_range) # x_grid and y_grig are of size 100 X 100\n",
    "\n",
    "# converting x_grid and y_grid to continuous arrays\n",
    "x_gridflat = np.ravel(x_grid)\n",
    "y_gridflat = np.ravel(y_grid)\n",
    "\n",
    "# The last layer of the current model takes two columns as input. Hence transpose of np.vstack() is required.\n",
    "X = np.vstack((x_gridflat, y_gridflat)).T\n",
    "\n",
    "prob_contour = model_prob(X).reshape(100,100) "
   ]
  },
  {
   "cell_type": "code",
   "execution_count": 29,
   "id": "da72499a",
   "metadata": {
    "execution": {
     "iopub.execute_input": "2022-10-12T20:17:12.763547Z",
     "iopub.status.busy": "2022-10-12T20:17:12.762435Z",
     "iopub.status.idle": "2022-10-12T20:17:13.133894Z",
     "shell.execute_reply": "2022-10-12T20:17:13.132750Z"
    },
    "papermill": {
     "duration": 0.439982,
     "end_time": "2022-10-12T20:17:13.134053",
     "exception": false,
     "start_time": "2022-10-12T20:17:12.694071",
     "status": "completed"
    },
    "tags": []
   },
   "outputs": [
    {
     "data": {
      "image/png": "[encoded data removed]",
      "text/plain": [
       "<Figure size 720x648 with 1 Axes>"
      ]
     },
     "metadata": {
      "needs_background": "light"
     },
     "output_type": "display_data"
    }
   ],
   "source": [
    "plt.figure(figsize=(10,9))\n",
    "plt.scatter(testing_plot[:,0], testing_plot[:,1], alpha = 0.1, c = y_test.ravel())\n",
    "contours = plt.contour(x_grid,y_grid,prob_contour)\n",
    "plt.title('Probability Contours')\n",
    "plt.clabel(contours, inline = True );"
   ]
  },
  {
   "cell_type": "code",
   "execution_count": null,
   "id": "e81b4ac7",
   "metadata": {
    "papermill": {
     "duration": 0.065408,
     "end_time": "2022-10-12T20:17:13.267444",
     "exception": false,
     "start_time": "2022-10-12T20:17:13.202036",
     "status": "completed"
    },
    "tags": []
   },
   "outputs": [],
   "source": []
  }
 ],
 "metadata": {
  "kernelspec": {
   "display_name": "Python 3",
   "language": "python",
   "name": "python3"
  },
  "language_info": {
   "codemirror_mode": {
    "name": "ipython",
    "version": 3
   },
   "file_extension": ".py",
   "mimetype": "text/x-python",
   "name": "python",
   "nbconvert_exporter": "python",
   "pygments_lexer": "ipython3",
   "version": "3.6.15"
  },
  "papermill": {
   "default_parameters": {},
   "duration": 181.460726,
   "end_time": "2022-10-12T20:17:13.852471",
   "environment_variables": {},
   "exception": null,
   "input_path": "2020-08-11-part2.ipynb",
   "output_path": "2020-08-11-part2.ipynb",
   "parameters": {},
   "start_time": "2022-10-12T20:14:12.391745",
   "version": "2.3.3"
  }
 },
 "nbformat": 4,
 "nbformat_minor": 5
}