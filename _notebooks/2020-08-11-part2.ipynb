{
 "cells": [
  {
   "cell_type": "markdown",
   "id": "98380cd3",
   "metadata": {
    "papermill": {
     "duration": 0.02894,
     "end_time": "2021-09-29T00:20:10.909384",
     "exception": false,
     "start_time": "2021-09-29T00:20:10.880444",
     "status": "completed"
    },
    "tags": []
   },
   "source": [
    "# Distinguish Your Own Digits (DYOD)"
   ]
  },
  {
   "cell_type": "markdown",
   "id": "ef31240d",
   "metadata": {
    "papermill": {
     "duration": 0.02388,
     "end_time": "2021-09-29T00:20:10.957938",
     "exception": false,
     "start_time": "2021-09-29T00:20:10.934058",
     "status": "completed"
    },
    "tags": []
   },
   "source": [
    "You are going to write a classifier that distinguishes between the number 3 and number 8."
   ]
  },
  {
   "cell_type": "code",
   "execution_count": 1,
   "id": "b15c8646",
   "metadata": {
    "execution": {
     "iopub.execute_input": "2021-09-29T00:20:11.017620Z",
     "iopub.status.busy": "2021-09-29T00:20:11.017081Z",
     "iopub.status.idle": "2021-09-29T00:20:11.026973Z",
     "shell.execute_reply": "2021-09-29T00:20:11.026518Z"
    },
    "papermill": {
     "duration": 0.045249,
     "end_time": "2021-09-29T00:20:11.027100",
     "exception": false,
     "start_time": "2021-09-29T00:20:10.981851",
     "status": "completed"
    },
    "tags": []
   },
   "outputs": [],
   "source": [
    "%load_ext autoreload\n",
    "%autoreload 2"
   ]
  },
  {
   "cell_type": "code",
   "execution_count": 2,
   "id": "22ef38dc",
   "metadata": {
    "execution": {
     "iopub.execute_input": "2021-09-29T00:20:11.085197Z",
     "iopub.status.busy": "2021-09-29T00:20:11.084676Z",
     "iopub.status.idle": "2021-09-29T00:20:11.589344Z",
     "shell.execute_reply": "2021-09-29T00:20:11.588811Z"
    },
    "papermill": {
     "duration": 0.538215,
     "end_time": "2021-09-29T00:20:11.589493",
     "exception": false,
     "start_time": "2021-09-29T00:20:11.051278",
     "status": "completed"
    },
    "tags": []
   },
   "outputs": [],
   "source": [
    "%matplotlib inline\n",
    "import numpy as np\n",
    "import matplotlib.pyplot as plt\n",
    "import pandas as pd"
   ]
  },
  {
   "cell_type": "markdown",
   "id": "ba036198",
   "metadata": {
    "papermill": {
     "duration": 0.024313,
     "end_time": "2021-09-29T00:20:11.638530",
     "exception": false,
     "start_time": "2021-09-29T00:20:11.614217",
     "status": "completed"
    },
    "tags": []
   },
   "source": [
    "From the command line run `pip install mnist`. This is a library that will help you bring down the mnist dataset. If you run this from a notebook, you need to put  `!pip install mnist` in a cell by itself."
   ]
  },
  {
   "cell_type": "code",
   "execution_count": 3,
   "id": "bb6ad8a1",
   "metadata": {
    "execution": {
     "iopub.execute_input": "2021-09-29T00:20:11.699549Z",
     "iopub.status.busy": "2021-09-29T00:20:11.698995Z",
     "iopub.status.idle": "2021-09-29T00:20:13.350222Z",
     "shell.execute_reply": "2021-09-29T00:20:13.349688Z"
    },
    "papermill": {
     "duration": 1.687342,
     "end_time": "2021-09-29T00:20:13.350366",
     "exception": false,
     "start_time": "2021-09-29T00:20:11.663024",
     "status": "completed"
    },
    "tags": []
   },
   "outputs": [
    {
     "name": "stdout",
     "output_type": "stream",
     "text": [
      "Collecting mnist\r\n"
     ]
    },
    {
     "name": "stdout",
     "output_type": "stream",
     "text": [
      "  Downloading mnist-0.2.2-py2.py3-none-any.whl (3.5 kB)\r\n",
      "Requirement already satisfied: numpy in /opt/hostedtoolcache/Python/3.6.15/x64/lib/python3.6/site-packages (from mnist) (1.19.5)\r\n"
     ]
    },
    {
     "name": "stdout",
     "output_type": "stream",
     "text": [
      "Installing collected packages: mnist\r\n"
     ]
    },
    {
     "name": "stdout",
     "output_type": "stream",
     "text": [
      "Successfully installed mnist-0.2.2\r\n"
     ]
    }
   ],
   "source": [
    "!pip install mnist"
   ]
  },
  {
   "cell_type": "markdown",
   "id": "69df9c9a",
   "metadata": {
    "papermill": {
     "duration": 0.025382,
     "end_time": "2021-09-29T00:20:13.401632",
     "exception": false,
     "start_time": "2021-09-29T00:20:13.376250",
     "status": "completed"
    },
    "tags": []
   },
   "source": [
    "## Preparing the Data"
   ]
  },
  {
   "cell_type": "code",
   "execution_count": 4,
   "id": "7f69d806",
   "metadata": {
    "execution": {
     "iopub.execute_input": "2021-09-29T00:20:13.472027Z",
     "iopub.status.busy": "2021-09-29T00:20:13.469194Z",
     "iopub.status.idle": "2021-09-29T00:20:13.474328Z",
     "shell.execute_reply": "2021-09-29T00:20:13.473907Z"
    },
    "papermill": {
     "duration": 0.047522,
     "end_time": "2021-09-29T00:20:13.474447",
     "exception": false,
     "start_time": "2021-09-29T00:20:13.426925",
     "status": "completed"
    },
    "tags": []
   },
   "outputs": [],
   "source": [
    "import mnist"
   ]
  },
  {
   "cell_type": "code",
   "execution_count": 5,
   "id": "a411e44f",
   "metadata": {
    "execution": {
     "iopub.execute_input": "2021-09-29T00:20:13.529386Z",
     "iopub.status.busy": "2021-09-29T00:20:13.528867Z",
     "iopub.status.idle": "2021-09-29T00:20:14.172521Z",
     "shell.execute_reply": "2021-09-29T00:20:14.171932Z"
    },
    "papermill": {
     "duration": 0.672815,
     "end_time": "2021-09-29T00:20:14.172677",
     "exception": false,
     "start_time": "2021-09-29T00:20:13.499862",
     "status": "completed"
    },
    "tags": []
   },
   "outputs": [],
   "source": [
    "train_images = mnist.train_images()\n",
    "train_labels = mnist.train_labels()"
   ]
  },
  {
   "cell_type": "code",
   "execution_count": 6,
   "id": "dceab3a5",
   "metadata": {
    "execution": {
     "iopub.execute_input": "2021-09-29T00:20:14.228479Z",
     "iopub.status.busy": "2021-09-29T00:20:14.227888Z",
     "iopub.status.idle": "2021-09-29T00:20:14.241270Z",
     "shell.execute_reply": "2021-09-29T00:20:14.241749Z"
    },
    "papermill": {
     "duration": 0.042939,
     "end_time": "2021-09-29T00:20:14.241877",
     "exception": false,
     "start_time": "2021-09-29T00:20:14.198938",
     "status": "completed"
    },
    "tags": []
   },
   "outputs": [
    {
     "data": {
      "text/plain": [
       "((60000, 28, 28), (60000,))"
      ]
     },
     "execution_count": 6,
     "metadata": {},
     "output_type": "execute_result"
    }
   ],
   "source": [
    "train_images.shape, train_labels.shape"
   ]
  },
  {
   "cell_type": "code",
   "execution_count": 7,
   "id": "f50dc2bb",
   "metadata": {
    "execution": {
     "iopub.execute_input": "2021-09-29T00:20:14.299583Z",
     "iopub.status.busy": "2021-09-29T00:20:14.299063Z",
     "iopub.status.idle": "2021-09-29T00:20:14.557832Z",
     "shell.execute_reply": "2021-09-29T00:20:14.558317Z"
    },
    "papermill": {
     "duration": 0.29126,
     "end_time": "2021-09-29T00:20:14.558486",
     "exception": false,
     "start_time": "2021-09-29T00:20:14.267226",
     "status": "completed"
    },
    "tags": []
   },
   "outputs": [],
   "source": [
    "test_images = mnist.test_images()\n",
    "test_labels = mnist.test_labels()"
   ]
  },
  {
   "cell_type": "code",
   "execution_count": 8,
   "id": "fc38cf1b",
   "metadata": {
    "execution": {
     "iopub.execute_input": "2021-09-29T00:20:14.613308Z",
     "iopub.status.busy": "2021-09-29T00:20:14.612764Z",
     "iopub.status.idle": "2021-09-29T00:20:14.625963Z",
     "shell.execute_reply": "2021-09-29T00:20:14.626446Z"
    },
    "papermill": {
     "duration": 0.041743,
     "end_time": "2021-09-29T00:20:14.626577",
     "exception": false,
     "start_time": "2021-09-29T00:20:14.584834",
     "status": "completed"
    },
    "tags": []
   },
   "outputs": [
    {
     "data": {
      "text/plain": [
       "((10000, 28, 28), (10000,))"
      ]
     },
     "execution_count": 8,
     "metadata": {},
     "output_type": "execute_result"
    }
   ],
   "source": [
    "test_images.shape, test_labels.shape"
   ]
  },
  {
   "cell_type": "code",
   "execution_count": 9,
   "id": "f9ed8fe0",
   "metadata": {
    "execution": {
     "iopub.execute_input": "2021-09-29T00:20:14.682474Z",
     "iopub.status.busy": "2021-09-29T00:20:14.681946Z",
     "iopub.status.idle": "2021-09-29T00:20:14.817349Z",
     "shell.execute_reply": "2021-09-29T00:20:14.817770Z"
    },
    "papermill": {
     "duration": 0.16571,
     "end_time": "2021-09-29T00:20:14.817906",
     "exception": false,
     "start_time": "2021-09-29T00:20:14.652196",
     "status": "completed"
    },
    "tags": []
   },
   "outputs": [
    {
     "name": "stdout",
     "output_type": "stream",
     "text": [
      "2\n"
     ]
    },
    {
     "data": {
      "text/plain": [
       "<matplotlib.image.AxesImage at 0x7fcc167ea860>"
      ]
     },
     "execution_count": 9,
     "metadata": {},
     "output_type": "execute_result"
    },
    {
     "data": {
      "image/png": "[encoded data removed]",
      "text/plain": [
       "<Figure size 432x288 with 1 Axes>"
      ]
     },
     "metadata": {
      "needs_background": "light"
     },
     "output_type": "display_data"
    }
   ],
   "source": [
    "image_index = 7776 # You may select anything up to 60,000\n",
    "print(train_labels[image_index]) \n",
    "plt.imshow(train_images[image_index], cmap='Greys')"
   ]
  },
  {
   "cell_type": "markdown",
   "id": "a8d2388d",
   "metadata": {
    "papermill": {
     "duration": 0.02653,
     "end_time": "2021-09-29T00:20:14.871330",
     "exception": false,
     "start_time": "2021-09-29T00:20:14.844800",
     "status": "completed"
    },
    "tags": []
   },
   "source": [
    "## Filter data to get 3 and 8 out"
   ]
  },
  {
   "cell_type": "code",
   "execution_count": 10,
   "id": "776f7fc7",
   "metadata": {
    "execution": {
     "iopub.execute_input": "2021-09-29T00:20:14.928579Z",
     "iopub.status.busy": "2021-09-29T00:20:14.928003Z",
     "iopub.status.idle": "2021-09-29T00:20:14.942534Z",
     "shell.execute_reply": "2021-09-29T00:20:14.942977Z"
    },
    "papermill": {
     "duration": 0.045027,
     "end_time": "2021-09-29T00:20:14.943103",
     "exception": false,
     "start_time": "2021-09-29T00:20:14.898076",
     "status": "completed"
    },
    "tags": []
   },
   "outputs": [],
   "source": [
    "train_filter = np.where((train_labels == 3 ) | (train_labels == 8))\n",
    "test_filter = np.where((test_labels == 3) | (test_labels == 8))\n",
    "X_train, y_train = train_images[train_filter], train_labels[train_filter]\n",
    "X_test, y_test = test_images[test_filter], test_labels[test_filter]"
   ]
  },
  {
   "cell_type": "markdown",
   "id": "948f0b7e",
   "metadata": {
    "papermill": {
     "duration": 0.026397,
     "end_time": "2021-09-29T00:20:14.996048",
     "exception": false,
     "start_time": "2021-09-29T00:20:14.969651",
     "status": "completed"
    },
    "tags": []
   },
   "source": [
    "We normalize the pizel values in the 0 to 1 range"
   ]
  },
  {
   "cell_type": "code",
   "execution_count": 11,
   "id": "ee4c2166",
   "metadata": {
    "execution": {
     "iopub.execute_input": "2021-09-29T00:20:15.052203Z",
     "iopub.status.busy": "2021-09-29T00:20:15.051650Z",
     "iopub.status.idle": "2021-09-29T00:20:15.098173Z",
     "shell.execute_reply": "2021-09-29T00:20:15.097670Z"
    },
    "papermill": {
     "duration": 0.075833,
     "end_time": "2021-09-29T00:20:15.098311",
     "exception": false,
     "start_time": "2021-09-29T00:20:15.022478",
     "status": "completed"
    },
    "tags": []
   },
   "outputs": [],
   "source": [
    "X_train = X_train/255.\n",
    "X_test = X_test/255."
   ]
  },
  {
   "cell_type": "markdown",
   "id": "ddcf4fab",
   "metadata": {
    "papermill": {
     "duration": 0.027,
     "end_time": "2021-09-29T00:20:15.153118",
     "exception": false,
     "start_time": "2021-09-29T00:20:15.126118",
     "status": "completed"
    },
    "tags": []
   },
   "source": [
    "And setup the labels as 1 (when the digit is 3) and 0 (when the digit is 8)"
   ]
  },
  {
   "cell_type": "code",
   "execution_count": 12,
   "id": "7dc908f2",
   "metadata": {
    "execution": {
     "iopub.execute_input": "2021-09-29T00:20:15.209675Z",
     "iopub.status.busy": "2021-09-29T00:20:15.209158Z",
     "iopub.status.idle": "2021-09-29T00:20:15.221254Z",
     "shell.execute_reply": "2021-09-29T00:20:15.220813Z"
    },
    "papermill": {
     "duration": 0.041651,
     "end_time": "2021-09-29T00:20:15.221362",
     "exception": false,
     "start_time": "2021-09-29T00:20:15.179711",
     "status": "completed"
    },
    "tags": []
   },
   "outputs": [],
   "source": [
    "y_train = 1*(y_train==3)\n",
    "y_test = 1*(y_test==3)"
   ]
  },
  {
   "cell_type": "code",
   "execution_count": 13,
   "id": "01e4e969",
   "metadata": {
    "execution": {
     "iopub.execute_input": "2021-09-29T00:20:15.280418Z",
     "iopub.status.busy": "2021-09-29T00:20:15.279866Z",
     "iopub.status.idle": "2021-09-29T00:20:15.292150Z",
     "shell.execute_reply": "2021-09-29T00:20:15.292543Z"
    },
    "papermill": {
     "duration": 0.042615,
     "end_time": "2021-09-29T00:20:15.292670",
     "exception": false,
     "start_time": "2021-09-29T00:20:15.250055",
     "status": "completed"
    },
    "tags": []
   },
   "outputs": [
    {
     "data": {
      "text/plain": [
       "((11982, 28, 28), (1984, 28, 28))"
      ]
     },
     "execution_count": 13,
     "metadata": {},
     "output_type": "execute_result"
    }
   ],
   "source": [
    "X_train.shape, X_test.shape"
   ]
  },
  {
   "cell_type": "markdown",
   "id": "5ccf3f85",
   "metadata": {
    "papermill": {
     "duration": 0.026724,
     "end_time": "2021-09-29T00:20:15.346156",
     "exception": false,
     "start_time": "2021-09-29T00:20:15.319432",
     "status": "completed"
    },
    "tags": []
   },
   "source": [
    "We reshape the data to flatten the image pixels into a set of features or co-variates:"
   ]
  },
  {
   "cell_type": "code",
   "execution_count": 14,
   "id": "5286a4a3",
   "metadata": {
    "execution": {
     "iopub.execute_input": "2021-09-29T00:20:15.408087Z",
     "iopub.status.busy": "2021-09-29T00:20:15.407550Z",
     "iopub.status.idle": "2021-09-29T00:20:15.417716Z",
     "shell.execute_reply": "2021-09-29T00:20:15.418107Z"
    },
    "papermill": {
     "duration": 0.045149,
     "end_time": "2021-09-29T00:20:15.418237",
     "exception": false,
     "start_time": "2021-09-29T00:20:15.373088",
     "status": "completed"
    },
    "tags": []
   },
   "outputs": [
    {
     "data": {
      "text/plain": [
       "((11982, 784), (1984, 784))"
      ]
     },
     "execution_count": 14,
     "metadata": {},
     "output_type": "execute_result"
    }
   ],
   "source": [
    "X_train = X_train.reshape(X_train.shape[0], -1)\n",
    "X_test = X_test.reshape(X_test.shape[0], -1)\n",
    "X_train.shape, X_test.shape"
   ]
  },
  {
   "cell_type": "code",
   "execution_count": 15,
   "id": "73c5f88a",
   "metadata": {
    "execution": {
     "iopub.execute_input": "2021-09-29T00:20:15.477182Z",
     "iopub.status.busy": "2021-09-29T00:20:15.476659Z",
     "iopub.status.idle": "2021-09-29T00:20:15.494073Z",
     "shell.execute_reply": "2021-09-29T00:20:15.493661Z"
    },
    "papermill": {
     "duration": 0.048884,
     "end_time": "2021-09-29T00:20:15.494181",
     "exception": false,
     "start_time": "2021-09-29T00:20:15.445297",
     "status": "completed"
    },
    "tags": []
   },
   "outputs": [],
   "source": [
    "#Impoting functions from 'Kudzu'\n",
    "from kudzu.model import Model\n",
    "from kudzu.train import Learner\n",
    "from kudzu.optim import GD\n",
    "from kudzu.data import Data, Sampler,Dataloader\n",
    "\n",
    "from kudzu.callbacks import AccCallback\n",
    "from kudzu.callbacks import ClfCallback\n",
    "\n",
    "from kudzu.loss import MSE\n",
    "\n",
    "from kudzu.layer import Sigmoid,Relu\n",
    "from kudzu.layer import Affine"
   ]
  },
  {
   "cell_type": "markdown",
   "id": "bc01172a",
   "metadata": {
    "papermill": {
     "duration": 0.028991,
     "end_time": "2021-09-29T00:20:15.550365",
     "exception": false,
     "start_time": "2021-09-29T00:20:15.521374",
     "status": "completed"
    },
    "tags": []
   },
   "source": [
    "### Let us create a `Config` class, to store important parameters. \n",
    "This class essentially plays the role of a dictionary."
   ]
  },
  {
   "cell_type": "code",
   "execution_count": 16,
   "id": "978281aa",
   "metadata": {
    "execution": {
     "iopub.execute_input": "2021-09-29T00:20:15.608488Z",
     "iopub.status.busy": "2021-09-29T00:20:15.607914Z",
     "iopub.status.idle": "2021-09-29T00:20:15.619368Z",
     "shell.execute_reply": "2021-09-29T00:20:15.619807Z"
    },
    "papermill": {
     "duration": 0.04259,
     "end_time": "2021-09-29T00:20:15.619934",
     "exception": false,
     "start_time": "2021-09-29T00:20:15.577344",
     "status": "completed"
    },
    "tags": []
   },
   "outputs": [],
   "source": [
    "class Config:\n",
    "    pass\n",
    "config = Config()\n",
    "config.lr = 0.001\n",
    "config.num_epochs = 250\n",
    "config.bs = 50"
   ]
  },
  {
   "cell_type": "markdown",
   "id": "1385fa59",
   "metadata": {
    "papermill": {
     "duration": 0.027189,
     "end_time": "2021-09-29T00:20:15.674492",
     "exception": false,
     "start_time": "2021-09-29T00:20:15.647303",
     "status": "completed"
    },
    "tags": []
   },
   "source": [
    "### Running Models with the Training data\n",
    "Details about the network layers:\n",
    "- A first affine layer has 784 inputs and does 100 affine transforms. These are followed by a Relu\n",
    "- A second affine layer has 100 inputs from the 100 activations of the past layer, and does 100 affine transforms. These are followed by a Relu\n",
    "- A third affine layer has 100 activations and does 2 affine transformations to create an embedding for visualization. There is no non-linearity here.\n",
    "- A final \"logistic regression\" which has an affine transform from 2 inputs to 1 output, which is squeezed through a sigmoid.\n"
   ]
  },
  {
   "cell_type": "code",
   "execution_count": 17,
   "id": "2b9c66db",
   "metadata": {
    "execution": {
     "iopub.execute_input": "2021-09-29T00:20:15.736130Z",
     "iopub.status.busy": "2021-09-29T00:20:15.735505Z",
     "iopub.status.idle": "2021-09-29T00:20:15.745656Z",
     "shell.execute_reply": "2021-09-29T00:20:15.745228Z"
    },
    "papermill": {
     "duration": 0.044032,
     "end_time": "2021-09-29T00:20:15.745772",
     "exception": false,
     "start_time": "2021-09-29T00:20:15.701740",
     "status": "completed"
    },
    "tags": []
   },
   "outputs": [],
   "source": [
    "data = Data(X_train, y_train.reshape(-1,1))\n",
    "sampler = Sampler(data, config.bs, shuffle=True)\n",
    "\n",
    "dl = Dataloader(data, sampler)\n",
    "\n",
    "opt = GD(config.lr)\n",
    "loss = MSE()"
   ]
  },
  {
   "cell_type": "code",
   "execution_count": 18,
   "id": "b275e4c2",
   "metadata": {
    "execution": {
     "iopub.execute_input": "2021-09-29T00:20:15.804641Z",
     "iopub.status.busy": "2021-09-29T00:20:15.803740Z",
     "iopub.status.idle": "2021-09-29T00:20:15.817062Z",
     "shell.execute_reply": "2021-09-29T00:20:15.816585Z"
    },
    "papermill": {
     "duration": 0.043923,
     "end_time": "2021-09-29T00:20:15.817177",
     "exception": false,
     "start_time": "2021-09-29T00:20:15.773254",
     "status": "completed"
    },
    "tags": []
   },
   "outputs": [],
   "source": [
    "training_data_x = X_train\n",
    "testing_data_x = X_test\n",
    "training_data_y = y_train.reshape(-1,1)\n",
    "testing_data_y = y_test.reshape(-1,1)"
   ]
  },
  {
   "cell_type": "code",
   "execution_count": 19,
   "id": "76951160",
   "metadata": {
    "execution": {
     "iopub.execute_input": "2021-09-29T00:20:15.879956Z",
     "iopub.status.busy": "2021-09-29T00:20:15.879424Z",
     "iopub.status.idle": "2021-09-29T00:20:15.892856Z",
     "shell.execute_reply": "2021-09-29T00:20:15.892411Z"
    },
    "papermill": {
     "duration": 0.048507,
     "end_time": "2021-09-29T00:20:15.892970",
     "exception": false,
     "start_time": "2021-09-29T00:20:15.844463",
     "status": "completed"
    },
    "tags": []
   },
   "outputs": [
    {
     "name": "stdout",
     "output_type": "stream",
     "text": [
      "xavier\n",
      "xavier\n",
      "xavier\n",
      "xavier\n",
      "xavier\n"
     ]
    }
   ],
   "source": [
    "layers = [Affine(\"first\", 784, 100), Relu(\"first\"), Affine(\"second\", 100, 100), Relu(\"second\"), Affine(\"third\", 100, 2), Affine(\"last\", 2, 1), Sigmoid(\"last\")]\n",
    "model_nn = Model(layers)\n",
    "model_lr = Model([Affine(\"logits\", 784, 1), Sigmoid(\"sigmoid\")])"
   ]
  },
  {
   "cell_type": "code",
   "execution_count": 20,
   "id": "6eede77a",
   "metadata": {
    "execution": {
     "iopub.execute_input": "2021-09-29T00:20:15.952615Z",
     "iopub.status.busy": "2021-09-29T00:20:15.952041Z",
     "iopub.status.idle": "2021-09-29T00:20:15.964873Z",
     "shell.execute_reply": "2021-09-29T00:20:15.964447Z"
    },
    "papermill": {
     "duration": 0.04412,
     "end_time": "2021-09-29T00:20:15.964992",
     "exception": false,
     "start_time": "2021-09-29T00:20:15.920872",
     "status": "completed"
    },
    "tags": []
   },
   "outputs": [],
   "source": [
    "nn_learner = Learner(loss, model_nn, opt, config.num_epochs)\n",
    "acc_nn = ClfCallback(nn_learner, config.bs, training_data_x , testing_data_x, training_data_y, testing_data_y)\n",
    "nn_learner.set_callbacks([acc_nn])"
   ]
  },
  {
   "cell_type": "code",
   "execution_count": 21,
   "id": "877b6cc7",
   "metadata": {
    "execution": {
     "iopub.execute_input": "2021-09-29T00:20:16.024200Z",
     "iopub.status.busy": "2021-09-29T00:20:16.023641Z",
     "iopub.status.idle": "2021-09-29T00:20:16.036042Z",
     "shell.execute_reply": "2021-09-29T00:20:16.035615Z"
    },
    "papermill": {
     "duration": 0.043539,
     "end_time": "2021-09-29T00:20:16.036189",
     "exception": false,
     "start_time": "2021-09-29T00:20:15.992650",
     "status": "completed"
    },
    "tags": []
   },
   "outputs": [],
   "source": [
    "lr_learner = Learner(loss, model_lr, opt, config.num_epochs)\n",
    "acc_lr = ClfCallback(lr_learner, config.bs, training_data_x , testing_data_x, training_data_y, testing_data_y)\n",
    "lr_learner.set_callbacks([acc_lr])"
   ]
  },
  {
   "cell_type": "code",
   "execution_count": 22,
   "id": "d9b133c3",
   "metadata": {
    "execution": {
     "iopub.execute_input": "2021-09-29T00:20:16.095495Z",
     "iopub.status.busy": "2021-09-29T00:20:16.094962Z",
     "iopub.status.idle": "2021-09-29T00:21:30.815671Z",
     "shell.execute_reply": "2021-09-29T00:21:30.816450Z"
    },
    "papermill": {
     "duration": 74.752328,
     "end_time": "2021-09-29T00:21:30.816604",
     "exception": false,
     "start_time": "2021-09-29T00:20:16.064276",
     "status": "completed"
    },
    "tags": []
   },
   "outputs": [
    {
     "name": "stdout",
     "output_type": "stream",
     "text": [
      "Epoch 0, Loss 0.2417\n",
      "Training Accuracy: 0.6810, Testing Accuracy: 0.6951\n",
      "\n"
     ]
    },
    {
     "name": "stdout",
     "output_type": "stream",
     "text": [
      "Epoch 10, Loss 0.0887\n",
      "Training Accuracy: 0.9140, Testing Accuracy: 0.9239\n",
      "\n"
     ]
    },
    {
     "name": "stdout",
     "output_type": "stream",
     "text": [
      "Epoch 20, Loss 0.0558\n",
      "Training Accuracy: 0.9387, Testing Accuracy: 0.9496\n",
      "\n"
     ]
    },
    {
     "name": "stdout",
     "output_type": "stream",
     "text": [
      "Epoch 30, Loss 0.0439\n",
      "Training Accuracy: 0.9507, Testing Accuracy: 0.9572\n",
      "\n"
     ]
    },
    {
     "name": "stdout",
     "output_type": "stream",
     "text": [
      "Epoch 40, Loss 0.0378\n",
      "Training Accuracy: 0.9564, Testing Accuracy: 0.9647\n",
      "\n"
     ]
    },
    {
     "name": "stdout",
     "output_type": "stream",
     "text": [
      "Epoch 50, Loss 0.0341\n",
      "Training Accuracy: 0.9604, Testing Accuracy: 0.9672\n",
      "\n"
     ]
    },
    {
     "name": "stdout",
     "output_type": "stream",
     "text": [
      "Epoch 60, Loss 0.0314\n",
      "Training Accuracy: 0.9637, Testing Accuracy: 0.9693\n",
      "\n"
     ]
    },
    {
     "name": "stdout",
     "output_type": "stream",
     "text": [
      "Epoch 70, Loss 0.0295\n",
      "Training Accuracy: 0.9658, Testing Accuracy: 0.9713\n",
      "\n"
     ]
    },
    {
     "name": "stdout",
     "output_type": "stream",
     "text": [
      "Epoch 80, Loss 0.0279\n",
      "Training Accuracy: 0.9680, Testing Accuracy: 0.9708\n",
      "\n"
     ]
    },
    {
     "name": "stdout",
     "output_type": "stream",
     "text": [
      "Epoch 90, Loss 0.0265\n",
      "Training Accuracy: 0.9698, Testing Accuracy: 0.9713\n",
      "\n"
     ]
    },
    {
     "name": "stdout",
     "output_type": "stream",
     "text": [
      "Epoch 100, Loss 0.0254\n",
      "Training Accuracy: 0.9709, Testing Accuracy: 0.9708\n",
      "\n"
     ]
    },
    {
     "name": "stdout",
     "output_type": "stream",
     "text": [
      "Epoch 110, Loss 0.0244\n",
      "Training Accuracy: 0.9719, Testing Accuracy: 0.9708\n",
      "\n"
     ]
    },
    {
     "name": "stdout",
     "output_type": "stream",
     "text": [
      "Epoch 120, Loss 0.0236\n",
      "Training Accuracy: 0.9733, Testing Accuracy: 0.9723\n",
      "\n"
     ]
    },
    {
     "name": "stdout",
     "output_type": "stream",
     "text": [
      "Epoch 130, Loss 0.0228\n",
      "Training Accuracy: 0.9740, Testing Accuracy: 0.9723\n",
      "\n"
     ]
    },
    {
     "name": "stdout",
     "output_type": "stream",
     "text": [
      "Epoch 140, Loss 0.0221\n",
      "Training Accuracy: 0.9745, Testing Accuracy: 0.9743\n",
      "\n"
     ]
    },
    {
     "name": "stdout",
     "output_type": "stream",
     "text": [
      "Epoch 150, Loss 0.0215\n",
      "Training Accuracy: 0.9752, Testing Accuracy: 0.9738\n",
      "\n"
     ]
    },
    {
     "name": "stdout",
     "output_type": "stream",
     "text": [
      "Epoch 160, Loss 0.0209\n",
      "Training Accuracy: 0.9760, Testing Accuracy: 0.9738\n",
      "\n"
     ]
    },
    {
     "name": "stdout",
     "output_type": "stream",
     "text": [
      "Epoch 170, Loss 0.0203\n",
      "Training Accuracy: 0.9766, Testing Accuracy: 0.9753\n",
      "\n"
     ]
    },
    {
     "name": "stdout",
     "output_type": "stream",
     "text": [
      "Epoch 180, Loss 0.0198\n",
      "Training Accuracy: 0.9780, Testing Accuracy: 0.9748\n",
      "\n"
     ]
    },
    {
     "name": "stdout",
     "output_type": "stream",
     "text": [
      "Epoch 190, Loss 0.0193\n",
      "Training Accuracy: 0.9786, Testing Accuracy: 0.9753\n",
      "\n"
     ]
    },
    {
     "name": "stdout",
     "output_type": "stream",
     "text": [
      "Epoch 200, Loss 0.0189\n",
      "Training Accuracy: 0.9788, Testing Accuracy: 0.9743\n",
      "\n"
     ]
    },
    {
     "name": "stdout",
     "output_type": "stream",
     "text": [
      "Epoch 210, Loss 0.0185\n",
      "Training Accuracy: 0.9794, Testing Accuracy: 0.9753\n",
      "\n"
     ]
    },
    {
     "name": "stdout",
     "output_type": "stream",
     "text": [
      "Epoch 220, Loss 0.018\n",
      "Training Accuracy: 0.9797, Testing Accuracy: 0.9758\n",
      "\n"
     ]
    },
    {
     "name": "stdout",
     "output_type": "stream",
     "text": [
      "Epoch 230, Loss 0.0176\n",
      "Training Accuracy: 0.9802, Testing Accuracy: 0.9763\n",
      "\n"
     ]
    },
    {
     "name": "stdout",
     "output_type": "stream",
     "text": [
      "Epoch 240, Loss 0.0173\n",
      "Training Accuracy: 0.9810, Testing Accuracy: 0.9763\n",
      "\n"
     ]
    },
    {
     "data": {
      "text/plain": [
       "0.050462573369317344"
      ]
     },
     "execution_count": 22,
     "metadata": {},
     "output_type": "execute_result"
    }
   ],
   "source": [
    "nn_learner.train_loop(dl)"
   ]
  },
  {
   "cell_type": "code",
   "execution_count": 23,
   "id": "e0163366",
   "metadata": {
    "execution": {
     "iopub.execute_input": "2021-09-29T00:21:30.893696Z",
     "iopub.status.busy": "2021-09-29T00:21:30.893174Z",
     "iopub.status.idle": "2021-09-29T00:21:43.989725Z",
     "shell.execute_reply": "2021-09-29T00:21:43.990500Z"
    },
    "papermill": {
     "duration": 13.139332,
     "end_time": "2021-09-29T00:21:43.990647",
     "exception": false,
     "start_time": "2021-09-29T00:21:30.851315",
     "status": "completed"
    },
    "tags": []
   },
   "outputs": [
    {
     "name": "stdout",
     "output_type": "stream",
     "text": [
      "Epoch 0, Loss 0.2465\n",
      "Training Accuracy: 0.6541, Testing Accuracy: 0.6467\n",
      "\n"
     ]
    },
    {
     "name": "stdout",
     "output_type": "stream",
     "text": [
      "Epoch 10, Loss 0.1057\n",
      "Training Accuracy: 0.9063, Testing Accuracy: 0.9093\n",
      "\n"
     ]
    },
    {
     "name": "stdout",
     "output_type": "stream",
     "text": [
      "Epoch 20, Loss 0.0804\n",
      "Training Accuracy: 0.9283, Testing Accuracy: 0.9345\n",
      "\n"
     ]
    },
    {
     "name": "stdout",
     "output_type": "stream",
     "text": [
      "Epoch 30, Loss 0.0689\n",
      "Training Accuracy: 0.9367, Testing Accuracy: 0.9491\n",
      "\n"
     ]
    },
    {
     "name": "stdout",
     "output_type": "stream",
     "text": [
      "Epoch 40, Loss 0.062\n",
      "Training Accuracy: 0.9432, Testing Accuracy: 0.9556\n",
      "\n"
     ]
    },
    {
     "name": "stdout",
     "output_type": "stream",
     "text": [
      "Epoch 50, Loss 0.0574\n",
      "Training Accuracy: 0.9464, Testing Accuracy: 0.9551\n",
      "\n"
     ]
    },
    {
     "name": "stdout",
     "output_type": "stream",
     "text": [
      "Epoch 60, Loss 0.054\n",
      "Training Accuracy: 0.9477, Testing Accuracy: 0.9592\n",
      "\n"
     ]
    },
    {
     "name": "stdout",
     "output_type": "stream",
     "text": [
      "Epoch 70, Loss 0.0514\n",
      "Training Accuracy: 0.9496, Testing Accuracy: 0.9617\n",
      "\n"
     ]
    },
    {
     "name": "stdout",
     "output_type": "stream",
     "text": [
      "Epoch 80, Loss 0.0493\n",
      "Training Accuracy: 0.9509, Testing Accuracy: 0.9622\n",
      "\n"
     ]
    },
    {
     "name": "stdout",
     "output_type": "stream",
     "text": [
      "Epoch 90, Loss 0.0475\n",
      "Training Accuracy: 0.9524, Testing Accuracy: 0.9632\n",
      "\n"
     ]
    },
    {
     "name": "stdout",
     "output_type": "stream",
     "text": [
      "Epoch 100, Loss 0.0461\n",
      "Training Accuracy: 0.9538, Testing Accuracy: 0.9642\n",
      "\n"
     ]
    },
    {
     "name": "stdout",
     "output_type": "stream",
     "text": [
      "Epoch 110, Loss 0.0449\n",
      "Training Accuracy: 0.9547, Testing Accuracy: 0.9652\n",
      "\n"
     ]
    },
    {
     "name": "stdout",
     "output_type": "stream",
     "text": [
      "Epoch 120, Loss 0.0438\n",
      "Training Accuracy: 0.9552, Testing Accuracy: 0.9652\n",
      "\n"
     ]
    },
    {
     "name": "stdout",
     "output_type": "stream",
     "text": [
      "Epoch 130, Loss 0.0428\n",
      "Training Accuracy: 0.9559, Testing Accuracy: 0.9652\n",
      "\n"
     ]
    },
    {
     "name": "stdout",
     "output_type": "stream",
     "text": [
      "Epoch 140, Loss 0.042\n",
      "Training Accuracy: 0.9563, Testing Accuracy: 0.9657\n",
      "\n"
     ]
    },
    {
     "name": "stdout",
     "output_type": "stream",
     "text": [
      "Epoch 150, Loss 0.0412\n",
      "Training Accuracy: 0.9566, Testing Accuracy: 0.9657\n",
      "\n"
     ]
    },
    {
     "name": "stdout",
     "output_type": "stream",
     "text": [
      "Epoch 160, Loss 0.0405\n",
      "Training Accuracy: 0.9571, Testing Accuracy: 0.9652\n",
      "\n"
     ]
    },
    {
     "name": "stdout",
     "output_type": "stream",
     "text": [
      "Epoch 170, Loss 0.0399\n",
      "Training Accuracy: 0.9580, Testing Accuracy: 0.9652\n",
      "\n"
     ]
    },
    {
     "name": "stdout",
     "output_type": "stream",
     "text": [
      "Epoch 180, Loss 0.0394\n",
      "Training Accuracy: 0.9587, Testing Accuracy: 0.9652\n",
      "\n"
     ]
    },
    {
     "name": "stdout",
     "output_type": "stream",
     "text": [
      "Epoch 190, Loss 0.0388\n",
      "Training Accuracy: 0.9590, Testing Accuracy: 0.9647\n",
      "\n"
     ]
    },
    {
     "name": "stdout",
     "output_type": "stream",
     "text": [
      "Epoch 200, Loss 0.0384\n",
      "Training Accuracy: 0.9594, Testing Accuracy: 0.9652\n",
      "\n"
     ]
    },
    {
     "name": "stdout",
     "output_type": "stream",
     "text": [
      "Epoch 210, Loss 0.0379\n",
      "Training Accuracy: 0.9598, Testing Accuracy: 0.9652\n",
      "\n"
     ]
    },
    {
     "name": "stdout",
     "output_type": "stream",
     "text": [
      "Epoch 220, Loss 0.0375\n",
      "Training Accuracy: 0.9600, Testing Accuracy: 0.9652\n",
      "\n"
     ]
    },
    {
     "name": "stdout",
     "output_type": "stream",
     "text": [
      "Epoch 230, Loss 0.0371\n",
      "Training Accuracy: 0.9602, Testing Accuracy: 0.9657\n",
      "\n"
     ]
    },
    {
     "name": "stdout",
     "output_type": "stream",
     "text": [
      "Epoch 240, Loss 0.0367\n",
      "Training Accuracy: 0.9606, Testing Accuracy: 0.9657\n",
      "\n"
     ]
    },
    {
     "data": {
      "text/plain": [
       "0.062510709086454"
      ]
     },
     "execution_count": 23,
     "metadata": {},
     "output_type": "execute_result"
    }
   ],
   "source": [
    "lr_learner.train_loop(dl)"
   ]
  },
  {
   "cell_type": "code",
   "execution_count": 24,
   "id": "ca410940",
   "metadata": {
    "execution": {
     "iopub.execute_input": "2021-09-29T00:21:44.089323Z",
     "iopub.status.busy": "2021-09-29T00:21:44.088793Z",
     "iopub.status.idle": "2021-09-29T00:21:44.313584Z",
     "shell.execute_reply": "2021-09-29T00:21:44.312897Z"
    },
    "papermill": {
     "duration": 0.281452,
     "end_time": "2021-09-29T00:21:44.313712",
     "exception": false,
     "start_time": "2021-09-29T00:21:44.032260",
     "status": "completed"
    },
    "tags": []
   },
   "outputs": [
    {
     "data": {
      "text/plain": [
       "<matplotlib.legend.Legend at 0x7fcc08fc18d0>"
      ]
     },
     "execution_count": 24,
     "metadata": {},
     "output_type": "execute_result"
    },
    {
     "data": {
      "image/png": "[encoded data removed]",
      "text/plain": [
       "<Figure size 1080x720 with 1 Axes>"
      ]
     },
     "metadata": {
      "needs_background": "light"
     },
     "output_type": "display_data"
    }
   ],
   "source": [
    "#comparing the results of NN and LR\n",
    "plt.figure(figsize=(15,10))\n",
    "\n",
    "# Neural Network plots\n",
    "plt.plot(acc_nn.accuracies, 'r-', label = \"Training Accuracies - NN\")\n",
    "plt.plot(acc_nn.test_accuracies, 'g-', label = \"Testing Accuracies - NN\")\n",
    "\n",
    "# Logistic Regression plots\n",
    "plt.plot(acc_lr.accuracies, 'k-', label = \"Training Accuracies - LR\")\n",
    "plt.plot(acc_lr.test_accuracies, 'b-', label = \"Testing Accuracies - LR\")\n",
    "plt.legend()"
   ]
  },
  {
   "cell_type": "markdown",
   "id": "80dfb35c",
   "metadata": {
    "papermill": {
     "duration": 0.042393,
     "end_time": "2021-09-29T00:21:44.399266",
     "exception": false,
     "start_time": "2021-09-29T00:21:44.356873",
     "status": "completed"
    },
    "tags": []
   },
   "source": [
    "#### Plotting the outputs of this layer of the NN.\n"
   ]
  },
  {
   "cell_type": "code",
   "execution_count": 25,
   "id": "45eb2ff5",
   "metadata": {
    "execution": {
     "iopub.execute_input": "2021-09-29T00:21:44.500608Z",
     "iopub.status.busy": "2021-09-29T00:21:44.497987Z",
     "iopub.status.idle": "2021-09-29T00:21:44.520672Z",
     "shell.execute_reply": "2021-09-29T00:21:44.521089Z"
    },
    "papermill": {
     "duration": 0.079634,
     "end_time": "2021-09-29T00:21:44.521226",
     "exception": false,
     "start_time": "2021-09-29T00:21:44.441592",
     "status": "completed"
    },
    "tags": []
   },
   "outputs": [],
   "source": [
    "new_model = Model(layers[:-2])\n",
    "testing_plot = new_model(testing_data_x)"
   ]
  },
  {
   "cell_type": "code",
   "execution_count": 26,
   "id": "4c0a5485",
   "metadata": {
    "execution": {
     "iopub.execute_input": "2021-09-29T00:21:44.619264Z",
     "iopub.status.busy": "2021-09-29T00:21:44.616710Z",
     "iopub.status.idle": "2021-09-29T00:21:44.805758Z",
     "shell.execute_reply": "2021-09-29T00:21:44.805324Z"
    },
    "papermill": {
     "duration": 0.237485,
     "end_time": "2021-09-29T00:21:44.805879",
     "exception": false,
     "start_time": "2021-09-29T00:21:44.568394",
     "status": "completed"
    },
    "tags": []
   },
   "outputs": [
    {
     "data": {
      "text/plain": [
       "Text(0.5, 1.0, 'Outputs')"
      ]
     },
     "execution_count": 26,
     "metadata": {},
     "output_type": "execute_result"
    },
    {
     "data": {
      "image/png": "[encoded data removed]",
      "text/plain": [
       "<Figure size 576x504 with 1 Axes>"
      ]
     },
     "metadata": {
      "needs_background": "light"
     },
     "output_type": "display_data"
    }
   ],
   "source": [
    "# Plotting the scatter plot of points and color coding by class\n",
    "plt.figure(figsize=(8,7))\n",
    "plt.scatter(testing_plot[:,0], testing_plot[:,1], alpha = 0.1, c = y_test.ravel());\n",
    "plt.title('Outputs')"
   ]
  },
  {
   "cell_type": "markdown",
   "id": "a74fcf8f",
   "metadata": {
    "papermill": {
     "duration": 0.044229,
     "end_time": "2021-09-29T00:21:44.899209",
     "exception": false,
     "start_time": "2021-09-29T00:21:44.854980",
     "status": "completed"
    },
    "tags": []
   },
   "source": [
    "Probability contours"
   ]
  },
  {
   "cell_type": "code",
   "execution_count": 27,
   "id": "d0afc8e3",
   "metadata": {
    "execution": {
     "iopub.execute_input": "2021-09-29T00:21:44.998025Z",
     "iopub.status.busy": "2021-09-29T00:21:44.994179Z",
     "iopub.status.idle": "2021-09-29T00:21:45.006411Z",
     "shell.execute_reply": "2021-09-29T00:21:45.005737Z"
    },
    "papermill": {
     "duration": 0.062852,
     "end_time": "2021-09-29T00:21:45.006525",
     "exception": false,
     "start_time": "2021-09-29T00:21:44.943673",
     "status": "completed"
    },
    "tags": []
   },
   "outputs": [],
   "source": [
    "model_prob = Model(layers[-2:]) "
   ]
  },
  {
   "cell_type": "code",
   "execution_count": 28,
   "id": "9b96e238",
   "metadata": {
    "execution": {
     "iopub.execute_input": "2021-09-29T00:21:45.127195Z",
     "iopub.status.busy": "2021-09-29T00:21:45.126635Z",
     "iopub.status.idle": "2021-09-29T00:21:45.141221Z",
     "shell.execute_reply": "2021-09-29T00:21:45.141606Z"
    },
    "papermill": {
     "duration": 0.091033,
     "end_time": "2021-09-29T00:21:45.141735",
     "exception": false,
     "start_time": "2021-09-29T00:21:45.050702",
     "status": "completed"
    },
    "tags": []
   },
   "outputs": [],
   "source": [
    "#creating the x and y ranges according to the above generated plot.\n",
    "x_range = np.linspace(-4, 1, 100) \n",
    "y_range = np.linspace(-6, 6, 100) \n",
    "x_grid, y_grid = np.meshgrid(x_range, y_range) # x_grid and y_grig are of size 100 X 100\n",
    "\n",
    "# converting x_grid and y_grid to continuous arrays\n",
    "x_gridflat = np.ravel(x_grid)\n",
    "y_gridflat = np.ravel(y_grid)\n",
    "\n",
    "# The last layer of the current model takes two columns as input. Hence transpose of np.vstack() is required.\n",
    "X = np.vstack((x_gridflat, y_gridflat)).T\n",
    "\n",
    "prob_contour = model_prob(X).reshape(100,100) "
   ]
  },
  {
   "cell_type": "code",
   "execution_count": 29,
   "id": "da72499a",
   "metadata": {
    "execution": {
     "iopub.execute_input": "2021-09-29T00:21:45.240640Z",
     "iopub.status.busy": "2021-09-29T00:21:45.240094Z",
     "iopub.status.idle": "2021-09-29T00:21:45.483419Z",
     "shell.execute_reply": "2021-09-29T00:21:45.483893Z"
    },
    "papermill": {
     "duration": 0.29732,
     "end_time": "2021-09-29T00:21:45.484045",
     "exception": false,
     "start_time": "2021-09-29T00:21:45.186725",
     "status": "completed"
    },
    "tags": []
   },
   "outputs": [
    {
     "data": {
      "image/png": "[encoded data removed]",
      "text/plain": [
       "<Figure size 720x648 with 1 Axes>"
      ]
     },
     "metadata": {
      "needs_background": "light"
     },
     "output_type": "display_data"
    }
   ],
   "source": [
    "plt.figure(figsize=(10,9))\n",
    "plt.scatter(testing_plot[:,0], testing_plot[:,1], alpha = 0.1, c = y_test.ravel())\n",
    "contours = plt.contour(x_grid,y_grid,prob_contour)\n",
    "plt.title('Probability Contours')\n",
    "plt.clabel(contours, inline = True );"
   ]
  },
  {
   "cell_type": "code",
   "execution_count": null,
   "id": "e81b4ac7",
   "metadata": {
    "papermill": {
     "duration": 0.046551,
     "end_time": "2021-09-29T00:21:45.578179",
     "exception": false,
     "start_time": "2021-09-29T00:21:45.531628",
     "status": "completed"
    },
    "tags": []
   },
   "outputs": [],
   "source": []
  }
 ],
 "metadata": {
  "kernelspec": {
   "display_name": "Python 3",
   "language": "python",
   "name": "python3"
  },
  "language_info": {
   "codemirror_mode": {
    "name": "ipython",
    "version": 3
   },
   "file_extension": ".py",
   "mimetype": "text/x-python",
   "name": "python",
   "nbconvert_exporter": "python",
   "pygments_lexer": "ipython3",
   "version": "3.6.15"
  },
  "papermill": {
   "default_parameters": {},
   "duration": 96.085918,
   "end_time": "2021-09-29T00:21:45.932144",
   "environment_variables": {},
   "exception": null,
   "input_path": "2020-08-11-part2.ipynb",
   "output_path": "2020-08-11-part2.ipynb",
   "parameters": {},
   "start_time": "2021-09-29T00:20:09.846226",
   "version": "2.3.3"
  }
 },
 "nbformat": 4,
 "nbformat_minor": 5
}