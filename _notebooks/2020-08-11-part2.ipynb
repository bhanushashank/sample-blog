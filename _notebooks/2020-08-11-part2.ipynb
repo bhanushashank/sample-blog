{
 "cells": [
  {
   "cell_type": "markdown",
   "id": "98380cd3",
   "metadata": {
    "papermill": {
     "duration": 0.038867,
     "end_time": "2022-07-05T20:11:05.130880",
     "exception": false,
     "start_time": "2022-07-05T20:11:05.092013",
     "status": "completed"
    },
    "tags": []
   },
   "source": [
    "# Distinguish Your Own Digits (DYOD)"
   ]
  },
  {
   "cell_type": "markdown",
   "id": "ef31240d",
   "metadata": {
    "papermill": {
     "duration": 0.025951,
     "end_time": "2022-07-05T20:11:05.183479",
     "exception": false,
     "start_time": "2022-07-05T20:11:05.157528",
     "status": "completed"
    },
    "tags": []
   },
   "source": [
    "You are going to write a classifier that distinguishes between the number 3 and number 8."
   ]
  },
  {
   "cell_type": "code",
   "execution_count": 1,
   "id": "b15c8646",
   "metadata": {
    "execution": {
     "iopub.execute_input": "2022-07-05T20:11:05.249703Z",
     "iopub.status.busy": "2022-07-05T20:11:05.244649Z",
     "iopub.status.idle": "2022-07-05T20:11:05.262879Z",
     "shell.execute_reply": "2022-07-05T20:11:05.262322Z"
    },
    "papermill": {
     "duration": 0.053458,
     "end_time": "2022-07-05T20:11:05.263019",
     "exception": false,
     "start_time": "2022-07-05T20:11:05.209561",
     "status": "completed"
    },
    "tags": []
   },
   "outputs": [],
   "source": [
    "%load_ext autoreload\n",
    "%autoreload 2"
   ]
  },
  {
   "cell_type": "code",
   "execution_count": 2,
   "id": "22ef38dc",
   "metadata": {
    "execution": {
     "iopub.execute_input": "2022-07-05T20:11:05.319275Z",
     "iopub.status.busy": "2022-07-05T20:11:05.318538Z",
     "iopub.status.idle": "2022-07-05T20:11:05.929829Z",
     "shell.execute_reply": "2022-07-05T20:11:05.928213Z"
    },
    "papermill": {
     "duration": 0.642317,
     "end_time": "2022-07-05T20:11:05.929984",
     "exception": false,
     "start_time": "2022-07-05T20:11:05.287667",
     "status": "completed"
    },
    "tags": []
   },
   "outputs": [],
   "source": [
    "%matplotlib inline\n",
    "import numpy as np\n",
    "import matplotlib.pyplot as plt\n",
    "import pandas as pd"
   ]
  },
  {
   "cell_type": "markdown",
   "id": "ba036198",
   "metadata": {
    "papermill": {
     "duration": 0.0265,
     "end_time": "2022-07-05T20:11:05.984044",
     "exception": false,
     "start_time": "2022-07-05T20:11:05.957544",
     "status": "completed"
    },
    "tags": []
   },
   "source": [
    "From the command line run `pip install mnist`. This is a library that will help you bring down the mnist dataset. If you run this from a notebook, you need to put  `!pip install mnist` in a cell by itself."
   ]
  },
  {
   "cell_type": "code",
   "execution_count": 3,
   "id": "bb6ad8a1",
   "metadata": {
    "execution": {
     "iopub.execute_input": "2022-07-05T20:11:06.047711Z",
     "iopub.status.busy": "2022-07-05T20:11:06.047033Z",
     "iopub.status.idle": "2022-07-05T20:11:07.978561Z",
     "shell.execute_reply": "2022-07-05T20:11:07.976246Z"
    },
    "papermill": {
     "duration": 1.968422,
     "end_time": "2022-07-05T20:11:07.978794",
     "exception": false,
     "start_time": "2022-07-05T20:11:06.010372",
     "status": "completed"
    },
    "tags": []
   },
   "outputs": [
    {
     "name": "stdout",
     "output_type": "stream",
     "text": [
      "Collecting mnist\r\n"
     ]
    },
    {
     "name": "stdout",
     "output_type": "stream",
     "text": [
      "  Downloading mnist-0.2.2-py2.py3-none-any.whl (3.5 kB)\r\n",
      "Requirement already satisfied: numpy in /opt/hostedtoolcache/Python/3.6.15/x64/lib/python3.6/site-packages (from mnist) (1.19.5)\r\n"
     ]
    },
    {
     "name": "stdout",
     "output_type": "stream",
     "text": [
      "Installing collected packages: mnist\r\n"
     ]
    },
    {
     "name": "stdout",
     "output_type": "stream",
     "text": [
      "Successfully installed mnist-0.2.2\r\n"
     ]
    }
   ],
   "source": [
    "!pip install mnist"
   ]
  },
  {
   "cell_type": "markdown",
   "id": "69df9c9a",
   "metadata": {
    "papermill": {
     "duration": 0.028923,
     "end_time": "2022-07-05T20:11:08.037962",
     "exception": false,
     "start_time": "2022-07-05T20:11:08.009039",
     "status": "completed"
    },
    "tags": []
   },
   "source": [
    "## Preparing the Data"
   ]
  },
  {
   "cell_type": "code",
   "execution_count": 4,
   "id": "7f69d806",
   "metadata": {
    "execution": {
     "iopub.execute_input": "2022-07-05T20:11:08.113451Z",
     "iopub.status.busy": "2022-07-05T20:11:08.112746Z",
     "iopub.status.idle": "2022-07-05T20:11:08.136857Z",
     "shell.execute_reply": "2022-07-05T20:11:08.136238Z"
    },
    "papermill": {
     "duration": 0.065331,
     "end_time": "2022-07-05T20:11:08.136990",
     "exception": false,
     "start_time": "2022-07-05T20:11:08.071659",
     "status": "completed"
    },
    "tags": []
   },
   "outputs": [],
   "source": [
    "import mnist"
   ]
  },
  {
   "cell_type": "code",
   "execution_count": 5,
   "id": "a411e44f",
   "metadata": {
    "execution": {
     "iopub.execute_input": "2022-07-05T20:11:08.197487Z",
     "iopub.status.busy": "2022-07-05T20:11:08.196763Z",
     "iopub.status.idle": "2022-07-05T20:11:08.817240Z",
     "shell.execute_reply": "2022-07-05T20:11:08.816531Z"
    },
    "papermill": {
     "duration": 0.652402,
     "end_time": "2022-07-05T20:11:08.817379",
     "exception": false,
     "start_time": "2022-07-05T20:11:08.164977",
     "status": "completed"
    },
    "tags": []
   },
   "outputs": [],
   "source": [
    "train_images = mnist.train_images()\n",
    "train_labels = mnist.train_labels()"
   ]
  },
  {
   "cell_type": "code",
   "execution_count": 6,
   "id": "dceab3a5",
   "metadata": {
    "execution": {
     "iopub.execute_input": "2022-07-05T20:11:08.882259Z",
     "iopub.status.busy": "2022-07-05T20:11:08.881574Z",
     "iopub.status.idle": "2022-07-05T20:11:08.899526Z",
     "shell.execute_reply": "2022-07-05T20:11:08.898955Z"
    },
    "papermill": {
     "duration": 0.05276,
     "end_time": "2022-07-05T20:11:08.899668",
     "exception": false,
     "start_time": "2022-07-05T20:11:08.846908",
     "status": "completed"
    },
    "tags": []
   },
   "outputs": [
    {
     "data": {
      "text/plain": [
       "((60000, 28, 28), (60000,))"
      ]
     },
     "execution_count": 6,
     "metadata": {},
     "output_type": "execute_result"
    }
   ],
   "source": [
    "train_images.shape, train_labels.shape"
   ]
  },
  {
   "cell_type": "code",
   "execution_count": 7,
   "id": "f50dc2bb",
   "metadata": {
    "execution": {
     "iopub.execute_input": "2022-07-05T20:11:08.963209Z",
     "iopub.status.busy": "2022-07-05T20:11:08.962430Z",
     "iopub.status.idle": "2022-07-05T20:11:09.128168Z",
     "shell.execute_reply": "2022-07-05T20:11:09.128795Z"
    },
    "papermill": {
     "duration": 0.201554,
     "end_time": "2022-07-05T20:11:09.128987",
     "exception": false,
     "start_time": "2022-07-05T20:11:08.927433",
     "status": "completed"
    },
    "tags": []
   },
   "outputs": [],
   "source": [
    "test_images = mnist.test_images()\n",
    "test_labels = mnist.test_labels()"
   ]
  },
  {
   "cell_type": "code",
   "execution_count": 8,
   "id": "fc38cf1b",
   "metadata": {
    "execution": {
     "iopub.execute_input": "2022-07-05T20:11:09.192747Z",
     "iopub.status.busy": "2022-07-05T20:11:09.192021Z",
     "iopub.status.idle": "2022-07-05T20:11:09.207271Z",
     "shell.execute_reply": "2022-07-05T20:11:09.206709Z"
    },
    "papermill": {
     "duration": 0.04943,
     "end_time": "2022-07-05T20:11:09.207399",
     "exception": false,
     "start_time": "2022-07-05T20:11:09.157969",
     "status": "completed"
    },
    "tags": []
   },
   "outputs": [
    {
     "data": {
      "text/plain": [
       "((10000, 28, 28), (10000,))"
      ]
     },
     "execution_count": 8,
     "metadata": {},
     "output_type": "execute_result"
    }
   ],
   "source": [
    "test_images.shape, test_labels.shape"
   ]
  },
  {
   "cell_type": "code",
   "execution_count": 9,
   "id": "f9ed8fe0",
   "metadata": {
    "execution": {
     "iopub.execute_input": "2022-07-05T20:11:09.270810Z",
     "iopub.status.busy": "2022-07-05T20:11:09.270131Z",
     "iopub.status.idle": "2022-07-05T20:11:09.428901Z",
     "shell.execute_reply": "2022-07-05T20:11:09.427984Z"
    },
    "papermill": {
     "duration": 0.1916,
     "end_time": "2022-07-05T20:11:09.429045",
     "exception": false,
     "start_time": "2022-07-05T20:11:09.237445",
     "status": "completed"
    },
    "tags": []
   },
   "outputs": [
    {
     "name": "stdout",
     "output_type": "stream",
     "text": [
      "2\n"
     ]
    },
    {
     "data": {
      "text/plain": [
       "<matplotlib.image.AxesImage at 0x7fd33fb584e0>"
      ]
     },
     "execution_count": 9,
     "metadata": {},
     "output_type": "execute_result"
    },
    {
     "data": {
      "image/png": "[encoded data removed]",
      "text/plain": [
       "<Figure size 432x288 with 1 Axes>"
      ]
     },
     "metadata": {
      "needs_background": "light"
     },
     "output_type": "display_data"
    }
   ],
   "source": [
    "image_index = 7776 # You may select anything up to 60,000\n",
    "print(train_labels[image_index]) \n",
    "plt.imshow(train_images[image_index], cmap='Greys')"
   ]
  },
  {
   "cell_type": "markdown",
   "id": "a8d2388d",
   "metadata": {
    "papermill": {
     "duration": 0.029198,
     "end_time": "2022-07-05T20:11:09.486484",
     "exception": false,
     "start_time": "2022-07-05T20:11:09.457286",
     "status": "completed"
    },
    "tags": []
   },
   "source": [
    "## Filter data to get 3 and 8 out"
   ]
  },
  {
   "cell_type": "code",
   "execution_count": 10,
   "id": "776f7fc7",
   "metadata": {
    "execution": {
     "iopub.execute_input": "2022-07-05T20:11:09.554161Z",
     "iopub.status.busy": "2022-07-05T20:11:09.551632Z",
     "iopub.status.idle": "2022-07-05T20:11:09.573878Z",
     "shell.execute_reply": "2022-07-05T20:11:09.574375Z"
    },
    "papermill": {
     "duration": 0.058555,
     "end_time": "2022-07-05T20:11:09.574527",
     "exception": false,
     "start_time": "2022-07-05T20:11:09.515972",
     "status": "completed"
    },
    "tags": []
   },
   "outputs": [],
   "source": [
    "train_filter = np.where((train_labels == 3 ) | (train_labels == 8))\n",
    "test_filter = np.where((test_labels == 3) | (test_labels == 8))\n",
    "X_train, y_train = train_images[train_filter], train_labels[train_filter]\n",
    "X_test, y_test = test_images[test_filter], test_labels[test_filter]"
   ]
  },
  {
   "cell_type": "markdown",
   "id": "948f0b7e",
   "metadata": {
    "papermill": {
     "duration": 0.029108,
     "end_time": "2022-07-05T20:11:09.632403",
     "exception": false,
     "start_time": "2022-07-05T20:11:09.603295",
     "status": "completed"
    },
    "tags": []
   },
   "source": [
    "We normalize the pizel values in the 0 to 1 range"
   ]
  },
  {
   "cell_type": "code",
   "execution_count": 11,
   "id": "ee4c2166",
   "metadata": {
    "execution": {
     "iopub.execute_input": "2022-07-05T20:11:09.701555Z",
     "iopub.status.busy": "2022-07-05T20:11:09.694106Z",
     "iopub.status.idle": "2022-07-05T20:11:09.750310Z",
     "shell.execute_reply": "2022-07-05T20:11:09.749766Z"
    },
    "papermill": {
     "duration": 0.088685,
     "end_time": "2022-07-05T20:11:09.750444",
     "exception": false,
     "start_time": "2022-07-05T20:11:09.661759",
     "status": "completed"
    },
    "tags": []
   },
   "outputs": [],
   "source": [
    "X_train = X_train/255.\n",
    "X_test = X_test/255."
   ]
  },
  {
   "cell_type": "markdown",
   "id": "ddcf4fab",
   "metadata": {
    "papermill": {
     "duration": 0.02846,
     "end_time": "2022-07-05T20:11:09.807470",
     "exception": false,
     "start_time": "2022-07-05T20:11:09.779010",
     "status": "completed"
    },
    "tags": []
   },
   "source": [
    "And setup the labels as 1 (when the digit is 3) and 0 (when the digit is 8)"
   ]
  },
  {
   "cell_type": "code",
   "execution_count": 12,
   "id": "7dc908f2",
   "metadata": {
    "execution": {
     "iopub.execute_input": "2022-07-05T20:11:09.871278Z",
     "iopub.status.busy": "2022-07-05T20:11:09.870592Z",
     "iopub.status.idle": "2022-07-05T20:11:09.884687Z",
     "shell.execute_reply": "2022-07-05T20:11:09.884089Z"
    },
    "papermill": {
     "duration": 0.049916,
     "end_time": "2022-07-05T20:11:09.884824",
     "exception": false,
     "start_time": "2022-07-05T20:11:09.834908",
     "status": "completed"
    },
    "tags": []
   },
   "outputs": [],
   "source": [
    "y_train = 1*(y_train==3)\n",
    "y_test = 1*(y_test==3)"
   ]
  },
  {
   "cell_type": "code",
   "execution_count": 13,
   "id": "01e4e969",
   "metadata": {
    "execution": {
     "iopub.execute_input": "2022-07-05T20:11:09.947149Z",
     "iopub.status.busy": "2022-07-05T20:11:09.946469Z",
     "iopub.status.idle": "2022-07-05T20:11:09.963581Z",
     "shell.execute_reply": "2022-07-05T20:11:09.962913Z"
    },
    "papermill": {
     "duration": 0.049683,
     "end_time": "2022-07-05T20:11:09.963712",
     "exception": false,
     "start_time": "2022-07-05T20:11:09.914029",
     "status": "completed"
    },
    "tags": []
   },
   "outputs": [
    {
     "data": {
      "text/plain": [
       "((11982, 28, 28), (1984, 28, 28))"
      ]
     },
     "execution_count": 13,
     "metadata": {},
     "output_type": "execute_result"
    }
   ],
   "source": [
    "X_train.shape, X_test.shape"
   ]
  },
  {
   "cell_type": "markdown",
   "id": "5ccf3f85",
   "metadata": {
    "papermill": {
     "duration": 0.02989,
     "end_time": "2022-07-05T20:11:10.023385",
     "exception": false,
     "start_time": "2022-07-05T20:11:09.993495",
     "status": "completed"
    },
    "tags": []
   },
   "source": [
    "We reshape the data to flatten the image pixels into a set of features or co-variates:"
   ]
  },
  {
   "cell_type": "code",
   "execution_count": 14,
   "id": "5286a4a3",
   "metadata": {
    "execution": {
     "iopub.execute_input": "2022-07-05T20:11:10.089489Z",
     "iopub.status.busy": "2022-07-05T20:11:10.088781Z",
     "iopub.status.idle": "2022-07-05T20:11:10.104900Z",
     "shell.execute_reply": "2022-07-05T20:11:10.105734Z"
    },
    "papermill": {
     "duration": 0.051683,
     "end_time": "2022-07-05T20:11:10.105902",
     "exception": false,
     "start_time": "2022-07-05T20:11:10.054219",
     "status": "completed"
    },
    "tags": []
   },
   "outputs": [
    {
     "data": {
      "text/plain": [
       "((11982, 784), (1984, 784))"
      ]
     },
     "execution_count": 14,
     "metadata": {},
     "output_type": "execute_result"
    }
   ],
   "source": [
    "X_train = X_train.reshape(X_train.shape[0], -1)\n",
    "X_test = X_test.reshape(X_test.shape[0], -1)\n",
    "X_train.shape, X_test.shape"
   ]
  },
  {
   "cell_type": "code",
   "execution_count": 15,
   "id": "73c5f88a",
   "metadata": {
    "execution": {
     "iopub.execute_input": "2022-07-05T20:11:10.175540Z",
     "iopub.status.busy": "2022-07-05T20:11:10.174860Z",
     "iopub.status.idle": "2022-07-05T20:11:10.200807Z",
     "shell.execute_reply": "2022-07-05T20:11:10.199960Z"
    },
    "papermill": {
     "duration": 0.061126,
     "end_time": "2022-07-05T20:11:10.200984",
     "exception": false,
     "start_time": "2022-07-05T20:11:10.139858",
     "status": "completed"
    },
    "tags": []
   },
   "outputs": [],
   "source": [
    "#Impoting functions from 'Kudzu'\n",
    "from kudzu.model import Model\n",
    "from kudzu.train import Learner\n",
    "from kudzu.optim import GD\n",
    "from kudzu.data import Data, Sampler,Dataloader\n",
    "\n",
    "from kudzu.callbacks import AccCallback\n",
    "from kudzu.callbacks import ClfCallback\n",
    "\n",
    "from kudzu.loss import MSE\n",
    "\n",
    "from kudzu.layer import Sigmoid,Relu\n",
    "from kudzu.layer import Affine"
   ]
  },
  {
   "cell_type": "markdown",
   "id": "bc01172a",
   "metadata": {
    "papermill": {
     "duration": 0.029427,
     "end_time": "2022-07-05T20:11:10.261578",
     "exception": false,
     "start_time": "2022-07-05T20:11:10.232151",
     "status": "completed"
    },
    "tags": []
   },
   "source": [
    "### Let us create a `Config` class, to store important parameters. \n",
    "This class essentially plays the role of a dictionary."
   ]
  },
  {
   "cell_type": "code",
   "execution_count": 16,
   "id": "978281aa",
   "metadata": {
    "execution": {
     "iopub.execute_input": "2022-07-05T20:11:10.324130Z",
     "iopub.status.busy": "2022-07-05T20:11:10.323457Z",
     "iopub.status.idle": "2022-07-05T20:11:10.341259Z",
     "shell.execute_reply": "2022-07-05T20:11:10.340527Z"
    },
    "papermill": {
     "duration": 0.052273,
     "end_time": "2022-07-05T20:11:10.341409",
     "exception": false,
     "start_time": "2022-07-05T20:11:10.289136",
     "status": "completed"
    },
    "tags": []
   },
   "outputs": [],
   "source": [
    "class Config:\n",
    "    pass\n",
    "config = Config()\n",
    "config.lr = 0.001\n",
    "config.num_epochs = 250\n",
    "config.bs = 50"
   ]
  },
  {
   "cell_type": "markdown",
   "id": "1385fa59",
   "metadata": {
    "papermill": {
     "duration": 0.02846,
     "end_time": "2022-07-05T20:11:10.398503",
     "exception": false,
     "start_time": "2022-07-05T20:11:10.370043",
     "status": "completed"
    },
    "tags": []
   },
   "source": [
    "### Running Models with the Training data\n",
    "Details about the network layers:\n",
    "- A first affine layer has 784 inputs and does 100 affine transforms. These are followed by a Relu\n",
    "- A second affine layer has 100 inputs from the 100 activations of the past layer, and does 100 affine transforms. These are followed by a Relu\n",
    "- A third affine layer has 100 activations and does 2 affine transformations to create an embedding for visualization. There is no non-linearity here.\n",
    "- A final \"logistic regression\" which has an affine transform from 2 inputs to 1 output, which is squeezed through a sigmoid.\n"
   ]
  },
  {
   "cell_type": "code",
   "execution_count": 17,
   "id": "2b9c66db",
   "metadata": {
    "execution": {
     "iopub.execute_input": "2022-07-05T20:11:10.461804Z",
     "iopub.status.busy": "2022-07-05T20:11:10.461078Z",
     "iopub.status.idle": "2022-07-05T20:11:10.475479Z",
     "shell.execute_reply": "2022-07-05T20:11:10.474812Z"
    },
    "papermill": {
     "duration": 0.048727,
     "end_time": "2022-07-05T20:11:10.475606",
     "exception": false,
     "start_time": "2022-07-05T20:11:10.426879",
     "status": "completed"
    },
    "tags": []
   },
   "outputs": [],
   "source": [
    "data = Data(X_train, y_train.reshape(-1,1))\n",
    "sampler = Sampler(data, config.bs, shuffle=True)\n",
    "\n",
    "dl = Dataloader(data, sampler)\n",
    "\n",
    "opt = GD(config.lr)\n",
    "loss = MSE()"
   ]
  },
  {
   "cell_type": "code",
   "execution_count": 18,
   "id": "b275e4c2",
   "metadata": {
    "execution": {
     "iopub.execute_input": "2022-07-05T20:11:10.540623Z",
     "iopub.status.busy": "2022-07-05T20:11:10.539911Z",
     "iopub.status.idle": "2022-07-05T20:11:10.555429Z",
     "shell.execute_reply": "2022-07-05T20:11:10.554871Z"
    },
    "papermill": {
     "duration": 0.049896,
     "end_time": "2022-07-05T20:11:10.555554",
     "exception": false,
     "start_time": "2022-07-05T20:11:10.505658",
     "status": "completed"
    },
    "tags": []
   },
   "outputs": [],
   "source": [
    "training_data_x = X_train\n",
    "testing_data_x = X_test\n",
    "training_data_y = y_train.reshape(-1,1)\n",
    "testing_data_y = y_test.reshape(-1,1)"
   ]
  },
  {
   "cell_type": "code",
   "execution_count": 19,
   "id": "76951160",
   "metadata": {
    "execution": {
     "iopub.execute_input": "2022-07-05T20:11:10.619005Z",
     "iopub.status.busy": "2022-07-05T20:11:10.618321Z",
     "iopub.status.idle": "2022-07-05T20:11:10.637797Z",
     "shell.execute_reply": "2022-07-05T20:11:10.637127Z"
    },
    "papermill": {
     "duration": 0.053501,
     "end_time": "2022-07-05T20:11:10.637927",
     "exception": false,
     "start_time": "2022-07-05T20:11:10.584426",
     "status": "completed"
    },
    "tags": []
   },
   "outputs": [
    {
     "name": "stdout",
     "output_type": "stream",
     "text": [
      "xavier\n",
      "xavier\n",
      "xavier\n",
      "xavier\n",
      "xavier\n"
     ]
    }
   ],
   "source": [
    "layers = [Affine(\"first\", 784, 100), Relu(\"first\"), Affine(\"second\", 100, 100), Relu(\"second\"), Affine(\"third\", 100, 2), Affine(\"last\", 2, 1), Sigmoid(\"last\")]\n",
    "model_nn = Model(layers)\n",
    "model_lr = Model([Affine(\"logits\", 784, 1), Sigmoid(\"sigmoid\")])"
   ]
  },
  {
   "cell_type": "code",
   "execution_count": 20,
   "id": "6eede77a",
   "metadata": {
    "execution": {
     "iopub.execute_input": "2022-07-05T20:11:10.700623Z",
     "iopub.status.busy": "2022-07-05T20:11:10.699915Z",
     "iopub.status.idle": "2022-07-05T20:11:10.715329Z",
     "shell.execute_reply": "2022-07-05T20:11:10.714340Z"
    },
    "papermill": {
     "duration": 0.048525,
     "end_time": "2022-07-05T20:11:10.715472",
     "exception": false,
     "start_time": "2022-07-05T20:11:10.666947",
     "status": "completed"
    },
    "tags": []
   },
   "outputs": [],
   "source": [
    "nn_learner = Learner(loss, model_nn, opt, config.num_epochs)\n",
    "acc_nn = ClfCallback(nn_learner, config.bs, training_data_x , testing_data_x, training_data_y, testing_data_y)\n",
    "nn_learner.set_callbacks([acc_nn])"
   ]
  },
  {
   "cell_type": "code",
   "execution_count": 21,
   "id": "877b6cc7",
   "metadata": {
    "execution": {
     "iopub.execute_input": "2022-07-05T20:11:10.782445Z",
     "iopub.status.busy": "2022-07-05T20:11:10.781656Z",
     "iopub.status.idle": "2022-07-05T20:11:10.795961Z",
     "shell.execute_reply": "2022-07-05T20:11:10.795425Z"
    },
    "papermill": {
     "duration": 0.049754,
     "end_time": "2022-07-05T20:11:10.796078",
     "exception": false,
     "start_time": "2022-07-05T20:11:10.746324",
     "status": "completed"
    },
    "tags": []
   },
   "outputs": [],
   "source": [
    "lr_learner = Learner(loss, model_lr, opt, config.num_epochs)\n",
    "acc_lr = ClfCallback(lr_learner, config.bs, training_data_x , testing_data_x, training_data_y, testing_data_y)\n",
    "lr_learner.set_callbacks([acc_lr])"
   ]
  },
  {
   "cell_type": "code",
   "execution_count": 22,
   "id": "d9b133c3",
   "metadata": {
    "execution": {
     "iopub.execute_input": "2022-07-05T20:11:10.861475Z",
     "iopub.status.busy": "2022-07-05T20:11:10.860788Z",
     "iopub.status.idle": "2022-07-05T20:12:38.380956Z",
     "shell.execute_reply": "2022-07-05T20:12:38.381880Z"
    },
    "papermill": {
     "duration": 87.555583,
     "end_time": "2022-07-05T20:12:38.382034",
     "exception": false,
     "start_time": "2022-07-05T20:11:10.826451",
     "status": "completed"
    },
    "tags": []
   },
   "outputs": [
    {
     "name": "stdout",
     "output_type": "stream",
     "text": [
      "Epoch 0, Loss 0.2592\n",
      "Training Accuracy: 0.3655, Testing Accuracy: 0.3901\n",
      "\n"
     ]
    },
    {
     "name": "stdout",
     "output_type": "stream",
     "text": [
      "Epoch 10, Loss 0.206\n",
      "Training Accuracy: 0.8741, Testing Accuracy: 0.8881\n",
      "\n"
     ]
    },
    {
     "name": "stdout",
     "output_type": "stream",
     "text": [
      "Epoch 20, Loss 0.1117\n",
      "Training Accuracy: 0.8998, Testing Accuracy: 0.9047\n",
      "\n"
     ]
    },
    {
     "name": "stdout",
     "output_type": "stream",
     "text": [
      "Epoch 30, Loss 0.0687\n",
      "Training Accuracy: 0.9281, Testing Accuracy: 0.9340\n",
      "\n"
     ]
    },
    {
     "name": "stdout",
     "output_type": "stream",
     "text": [
      "Epoch 40, Loss 0.0519\n",
      "Training Accuracy: 0.9426, Testing Accuracy: 0.9506\n",
      "\n"
     ]
    },
    {
     "name": "stdout",
     "output_type": "stream",
     "text": [
      "Epoch 50, Loss 0.0433\n",
      "Training Accuracy: 0.9516, Testing Accuracy: 0.9602\n",
      "\n"
     ]
    },
    {
     "name": "stdout",
     "output_type": "stream",
     "text": [
      "Epoch 60, Loss 0.0383\n",
      "Training Accuracy: 0.9565, Testing Accuracy: 0.9637\n",
      "\n"
     ]
    },
    {
     "name": "stdout",
     "output_type": "stream",
     "text": [
      "Epoch 70, Loss 0.035\n",
      "Training Accuracy: 0.9591, Testing Accuracy: 0.9677\n",
      "\n"
     ]
    },
    {
     "name": "stdout",
     "output_type": "stream",
     "text": [
      "Epoch 80, Loss 0.0326\n",
      "Training Accuracy: 0.9613, Testing Accuracy: 0.9703\n",
      "\n"
     ]
    },
    {
     "name": "stdout",
     "output_type": "stream",
     "text": [
      "Epoch 90, Loss 0.0308\n",
      "Training Accuracy: 0.9637, Testing Accuracy: 0.9713\n",
      "\n"
     ]
    },
    {
     "name": "stdout",
     "output_type": "stream",
     "text": [
      "Epoch 100, Loss 0.0293\n",
      "Training Accuracy: 0.9655, Testing Accuracy: 0.9728\n",
      "\n"
     ]
    },
    {
     "name": "stdout",
     "output_type": "stream",
     "text": [
      "Epoch 110, Loss 0.0281\n",
      "Training Accuracy: 0.9674, Testing Accuracy: 0.9728\n",
      "\n"
     ]
    },
    {
     "name": "stdout",
     "output_type": "stream",
     "text": [
      "Epoch 120, Loss 0.027\n",
      "Training Accuracy: 0.9685, Testing Accuracy: 0.9728\n",
      "\n"
     ]
    },
    {
     "name": "stdout",
     "output_type": "stream",
     "text": [
      "Epoch 130, Loss 0.0261\n",
      "Training Accuracy: 0.9698, Testing Accuracy: 0.9738\n",
      "\n"
     ]
    },
    {
     "name": "stdout",
     "output_type": "stream",
     "text": [
      "Epoch 140, Loss 0.0253\n",
      "Training Accuracy: 0.9705, Testing Accuracy: 0.9738\n",
      "\n"
     ]
    },
    {
     "name": "stdout",
     "output_type": "stream",
     "text": [
      "Epoch 150, Loss 0.0246\n",
      "Training Accuracy: 0.9722, Testing Accuracy: 0.9738\n",
      "\n"
     ]
    },
    {
     "name": "stdout",
     "output_type": "stream",
     "text": [
      "Epoch 160, Loss 0.0239\n",
      "Training Accuracy: 0.9729, Testing Accuracy: 0.9733\n",
      "\n"
     ]
    },
    {
     "name": "stdout",
     "output_type": "stream",
     "text": [
      "Epoch 170, Loss 0.0233\n",
      "Training Accuracy: 0.9731, Testing Accuracy: 0.9733\n",
      "\n"
     ]
    },
    {
     "name": "stdout",
     "output_type": "stream",
     "text": [
      "Epoch 180, Loss 0.0227\n",
      "Training Accuracy: 0.9735, Testing Accuracy: 0.9728\n",
      "\n"
     ]
    },
    {
     "name": "stdout",
     "output_type": "stream",
     "text": [
      "Epoch 190, Loss 0.0222\n",
      "Training Accuracy: 0.9743, Testing Accuracy: 0.9723\n",
      "\n"
     ]
    },
    {
     "name": "stdout",
     "output_type": "stream",
     "text": [
      "Epoch 200, Loss 0.0217\n",
      "Training Accuracy: 0.9750, Testing Accuracy: 0.9728\n",
      "\n"
     ]
    },
    {
     "name": "stdout",
     "output_type": "stream",
     "text": [
      "Epoch 210, Loss 0.0212\n",
      "Training Accuracy: 0.9756, Testing Accuracy: 0.9738\n",
      "\n"
     ]
    },
    {
     "name": "stdout",
     "output_type": "stream",
     "text": [
      "Epoch 220, Loss 0.0207\n",
      "Training Accuracy: 0.9765, Testing Accuracy: 0.9748\n",
      "\n"
     ]
    },
    {
     "name": "stdout",
     "output_type": "stream",
     "text": [
      "Epoch 230, Loss 0.0203\n",
      "Training Accuracy: 0.9769, Testing Accuracy: 0.9748\n",
      "\n"
     ]
    },
    {
     "name": "stdout",
     "output_type": "stream",
     "text": [
      "Epoch 240, Loss 0.0199\n",
      "Training Accuracy: 0.9774, Testing Accuracy: 0.9743\n",
      "\n"
     ]
    },
    {
     "data": {
      "text/plain": [
       "0.0018016193249312117"
      ]
     },
     "execution_count": 22,
     "metadata": {},
     "output_type": "execute_result"
    }
   ],
   "source": [
    "nn_learner.train_loop(dl)"
   ]
  },
  {
   "cell_type": "code",
   "execution_count": 23,
   "id": "e0163366",
   "metadata": {
    "execution": {
     "iopub.execute_input": "2022-07-05T20:12:38.470405Z",
     "iopub.status.busy": "2022-07-05T20:12:38.469716Z",
     "iopub.status.idle": "2022-07-05T20:12:53.650363Z",
     "shell.execute_reply": "2022-07-05T20:12:53.651351Z"
    },
    "papermill": {
     "duration": 15.231238,
     "end_time": "2022-07-05T20:12:53.651528",
     "exception": false,
     "start_time": "2022-07-05T20:12:38.420290",
     "status": "completed"
    },
    "tags": []
   },
   "outputs": [
    {
     "name": "stdout",
     "output_type": "stream",
     "text": [
      "Epoch 0, Loss 0.2295\n",
      "Training Accuracy: 0.7138, Testing Accuracy: 0.7167\n",
      "\n"
     ]
    },
    {
     "name": "stdout",
     "output_type": "stream",
     "text": [
      "Epoch 10, Loss 0.1024\n",
      "Training Accuracy: 0.9081, Testing Accuracy: 0.9163\n",
      "\n"
     ]
    },
    {
     "name": "stdout",
     "output_type": "stream",
     "text": [
      "Epoch 20, Loss 0.0795\n",
      "Training Accuracy: 0.9271, Testing Accuracy: 0.9370\n",
      "\n"
     ]
    },
    {
     "name": "stdout",
     "output_type": "stream",
     "text": [
      "Epoch 30, Loss 0.0687\n",
      "Training Accuracy: 0.9352, Testing Accuracy: 0.9425\n",
      "\n"
     ]
    },
    {
     "name": "stdout",
     "output_type": "stream",
     "text": [
      "Epoch 40, Loss 0.0622\n",
      "Training Accuracy: 0.9389, Testing Accuracy: 0.9496\n",
      "\n"
     ]
    },
    {
     "name": "stdout",
     "output_type": "stream",
     "text": [
      "Epoch 50, Loss 0.0578\n",
      "Training Accuracy: 0.9434, Testing Accuracy: 0.9516\n",
      "\n"
     ]
    },
    {
     "name": "stdout",
     "output_type": "stream",
     "text": [
      "Epoch 60, Loss 0.0545\n",
      "Training Accuracy: 0.9460, Testing Accuracy: 0.9551\n",
      "\n"
     ]
    },
    {
     "name": "stdout",
     "output_type": "stream",
     "text": [
      "Epoch 70, Loss 0.0519\n",
      "Training Accuracy: 0.9482, Testing Accuracy: 0.9572\n",
      "\n"
     ]
    },
    {
     "name": "stdout",
     "output_type": "stream",
     "text": [
      "Epoch 80, Loss 0.0498\n",
      "Training Accuracy: 0.9497, Testing Accuracy: 0.9587\n",
      "\n"
     ]
    },
    {
     "name": "stdout",
     "output_type": "stream",
     "text": [
      "Epoch 90, Loss 0.0481\n",
      "Training Accuracy: 0.9508, Testing Accuracy: 0.9607\n",
      "\n"
     ]
    },
    {
     "name": "stdout",
     "output_type": "stream",
     "text": [
      "Epoch 100, Loss 0.0467\n",
      "Training Accuracy: 0.9518, Testing Accuracy: 0.9617\n",
      "\n"
     ]
    },
    {
     "name": "stdout",
     "output_type": "stream",
     "text": [
      "Epoch 110, Loss 0.0455\n",
      "Training Accuracy: 0.9533, Testing Accuracy: 0.9627\n",
      "\n"
     ]
    },
    {
     "name": "stdout",
     "output_type": "stream",
     "text": [
      "Epoch 120, Loss 0.0444\n",
      "Training Accuracy: 0.9543, Testing Accuracy: 0.9627\n",
      "\n"
     ]
    },
    {
     "name": "stdout",
     "output_type": "stream",
     "text": [
      "Epoch 130, Loss 0.0434\n",
      "Training Accuracy: 0.9550, Testing Accuracy: 0.9627\n",
      "\n"
     ]
    },
    {
     "name": "stdout",
     "output_type": "stream",
     "text": [
      "Epoch 140, Loss 0.0426\n",
      "Training Accuracy: 0.9564, Testing Accuracy: 0.9637\n",
      "\n"
     ]
    },
    {
     "name": "stdout",
     "output_type": "stream",
     "text": [
      "Epoch 150, Loss 0.0418\n",
      "Training Accuracy: 0.9569, Testing Accuracy: 0.9637\n",
      "\n"
     ]
    },
    {
     "name": "stdout",
     "output_type": "stream",
     "text": [
      "Epoch 160, Loss 0.0411\n",
      "Training Accuracy: 0.9574, Testing Accuracy: 0.9642\n",
      "\n"
     ]
    },
    {
     "name": "stdout",
     "output_type": "stream",
     "text": [
      "Epoch 170, Loss 0.0405\n",
      "Training Accuracy: 0.9574, Testing Accuracy: 0.9642\n",
      "\n"
     ]
    },
    {
     "name": "stdout",
     "output_type": "stream",
     "text": [
      "Epoch 180, Loss 0.0399\n",
      "Training Accuracy: 0.9579, Testing Accuracy: 0.9647\n",
      "\n"
     ]
    },
    {
     "name": "stdout",
     "output_type": "stream",
     "text": [
      "Epoch 190, Loss 0.0394\n",
      "Training Accuracy: 0.9583, Testing Accuracy: 0.9647\n",
      "\n"
     ]
    },
    {
     "name": "stdout",
     "output_type": "stream",
     "text": [
      "Epoch 200, Loss 0.0389\n",
      "Training Accuracy: 0.9585, Testing Accuracy: 0.9652\n",
      "\n"
     ]
    },
    {
     "name": "stdout",
     "output_type": "stream",
     "text": [
      "Epoch 210, Loss 0.0385\n",
      "Training Accuracy: 0.9589, Testing Accuracy: 0.9652\n",
      "\n"
     ]
    },
    {
     "name": "stdout",
     "output_type": "stream",
     "text": [
      "Epoch 220, Loss 0.038\n",
      "Training Accuracy: 0.9592, Testing Accuracy: 0.9657\n",
      "\n"
     ]
    },
    {
     "name": "stdout",
     "output_type": "stream",
     "text": [
      "Epoch 230, Loss 0.0376\n",
      "Training Accuracy: 0.9594, Testing Accuracy: 0.9662\n",
      "\n"
     ]
    },
    {
     "name": "stdout",
     "output_type": "stream",
     "text": [
      "Epoch 240, Loss 0.0373\n",
      "Training Accuracy: 0.9594, Testing Accuracy: 0.9657\n",
      "\n"
     ]
    },
    {
     "data": {
      "text/plain": [
       "0.05587162971758594"
      ]
     },
     "execution_count": 23,
     "metadata": {},
     "output_type": "execute_result"
    }
   ],
   "source": [
    "lr_learner.train_loop(dl)"
   ]
  },
  {
   "cell_type": "code",
   "execution_count": 24,
   "id": "ca410940",
   "metadata": {
    "execution": {
     "iopub.execute_input": "2022-07-05T20:12:53.750954Z",
     "iopub.status.busy": "2022-07-05T20:12:53.750256Z",
     "iopub.status.idle": "2022-07-05T20:12:54.010663Z",
     "shell.execute_reply": "2022-07-05T20:12:54.010103Z"
    },
    "papermill": {
     "duration": 0.314096,
     "end_time": "2022-07-05T20:12:54.010797",
     "exception": false,
     "start_time": "2022-07-05T20:12:53.696701",
     "status": "completed"
    },
    "tags": []
   },
   "outputs": [
    {
     "data": {
      "text/plain": [
       "<matplotlib.legend.Legend at 0x7fd33f6b9b00>"
      ]
     },
     "execution_count": 24,
     "metadata": {},
     "output_type": "execute_result"
    },
    {
     "data": {
      "image/png": "[encoded data removed]",
      "text/plain": [
       "<Figure size 1080x720 with 1 Axes>"
      ]
     },
     "metadata": {
      "needs_background": "light"
     },
     "output_type": "display_data"
    }
   ],
   "source": [
    "#comparing the results of NN and LR\n",
    "plt.figure(figsize=(15,10))\n",
    "\n",
    "# Neural Network plots\n",
    "plt.plot(acc_nn.accuracies, 'r-', label = \"Training Accuracies - NN\")\n",
    "plt.plot(acc_nn.test_accuracies, 'g-', label = \"Testing Accuracies - NN\")\n",
    "\n",
    "# Logistic Regression plots\n",
    "plt.plot(acc_lr.accuracies, 'k-', label = \"Training Accuracies - LR\")\n",
    "plt.plot(acc_lr.test_accuracies, 'b-', label = \"Testing Accuracies - LR\")\n",
    "plt.legend()"
   ]
  },
  {
   "cell_type": "markdown",
   "id": "80dfb35c",
   "metadata": {
    "papermill": {
     "duration": 0.045955,
     "end_time": "2022-07-05T20:12:54.104076",
     "exception": false,
     "start_time": "2022-07-05T20:12:54.058121",
     "status": "completed"
    },
    "tags": []
   },
   "source": [
    "#### Plotting the outputs of this layer of the NN.\n"
   ]
  },
  {
   "cell_type": "code",
   "execution_count": 25,
   "id": "45eb2ff5",
   "metadata": {
    "execution": {
     "iopub.execute_input": "2022-07-05T20:12:54.198635Z",
     "iopub.status.busy": "2022-07-05T20:12:54.197936Z",
     "iopub.status.idle": "2022-07-05T20:12:54.221887Z",
     "shell.execute_reply": "2022-07-05T20:12:54.222394Z"
    },
    "papermill": {
     "duration": 0.07576,
     "end_time": "2022-07-05T20:12:54.222541",
     "exception": false,
     "start_time": "2022-07-05T20:12:54.146781",
     "status": "completed"
    },
    "tags": []
   },
   "outputs": [],
   "source": [
    "new_model = Model(layers[:-2])\n",
    "testing_plot = new_model(testing_data_x)"
   ]
  },
  {
   "cell_type": "code",
   "execution_count": 26,
   "id": "4c0a5485",
   "metadata": {
    "execution": {
     "iopub.execute_input": "2022-07-05T20:12:54.318834Z",
     "iopub.status.busy": "2022-07-05T20:12:54.318212Z",
     "iopub.status.idle": "2022-07-05T20:12:54.568164Z",
     "shell.execute_reply": "2022-07-05T20:12:54.568670Z"
    },
    "papermill": {
     "duration": 0.301215,
     "end_time": "2022-07-05T20:12:54.568827",
     "exception": false,
     "start_time": "2022-07-05T20:12:54.267612",
     "status": "completed"
    },
    "tags": []
   },
   "outputs": [
    {
     "data": {
      "text/plain": [
       "Text(0.5, 1.0, 'Outputs')"
      ]
     },
     "execution_count": 26,
     "metadata": {},
     "output_type": "execute_result"
    },
    {
     "data": {
      "image/png": "[encoded data removed]",
      "text/plain": [
       "<Figure size 576x504 with 1 Axes>"
      ]
     },
     "metadata": {
      "needs_background": "light"
     },
     "output_type": "display_data"
    }
   ],
   "source": [
    "# Plotting the scatter plot of points and color coding by class\n",
    "plt.figure(figsize=(8,7))\n",
    "plt.scatter(testing_plot[:,0], testing_plot[:,1], alpha = 0.1, c = y_test.ravel());\n",
    "plt.title('Outputs')"
   ]
  },
  {
   "cell_type": "markdown",
   "id": "a74fcf8f",
   "metadata": {
    "papermill": {
     "duration": 0.053658,
     "end_time": "2022-07-05T20:12:54.673933",
     "exception": false,
     "start_time": "2022-07-05T20:12:54.620275",
     "status": "completed"
    },
    "tags": []
   },
   "source": [
    "Probability contours"
   ]
  },
  {
   "cell_type": "code",
   "execution_count": 27,
   "id": "d0afc8e3",
   "metadata": {
    "execution": {
     "iopub.execute_input": "2022-07-05T20:12:54.826194Z",
     "iopub.status.busy": "2022-07-05T20:12:54.825460Z",
     "iopub.status.idle": "2022-07-05T20:12:54.834763Z",
     "shell.execute_reply": "2022-07-05T20:12:54.835286Z"
    },
    "papermill": {
     "duration": 0.077219,
     "end_time": "2022-07-05T20:12:54.835436",
     "exception": false,
     "start_time": "2022-07-05T20:12:54.758217",
     "status": "completed"
    },
    "tags": []
   },
   "outputs": [],
   "source": [
    "model_prob = Model(layers[-2:]) "
   ]
  },
  {
   "cell_type": "code",
   "execution_count": 28,
   "id": "9b96e238",
   "metadata": {
    "execution": {
     "iopub.execute_input": "2022-07-05T20:12:54.950409Z",
     "iopub.status.busy": "2022-07-05T20:12:54.949695Z",
     "iopub.status.idle": "2022-07-05T20:12:54.965552Z",
     "shell.execute_reply": "2022-07-05T20:12:54.966075Z"
    },
    "papermill": {
     "duration": 0.077431,
     "end_time": "2022-07-05T20:12:54.966238",
     "exception": false,
     "start_time": "2022-07-05T20:12:54.888807",
     "status": "completed"
    },
    "tags": []
   },
   "outputs": [],
   "source": [
    "#creating the x and y ranges according to the above generated plot.\n",
    "x_range = np.linspace(-4, 1, 100) \n",
    "y_range = np.linspace(-6, 6, 100) \n",
    "x_grid, y_grid = np.meshgrid(x_range, y_range) # x_grid and y_grig are of size 100 X 100\n",
    "\n",
    "# converting x_grid and y_grid to continuous arrays\n",
    "x_gridflat = np.ravel(x_grid)\n",
    "y_gridflat = np.ravel(y_grid)\n",
    "\n",
    "# The last layer of the current model takes two columns as input. Hence transpose of np.vstack() is required.\n",
    "X = np.vstack((x_gridflat, y_gridflat)).T\n",
    "\n",
    "prob_contour = model_prob(X).reshape(100,100) "
   ]
  },
  {
   "cell_type": "code",
   "execution_count": 29,
   "id": "da72499a",
   "metadata": {
    "execution": {
     "iopub.execute_input": "2022-07-05T20:12:55.078331Z",
     "iopub.status.busy": "2022-07-05T20:12:55.077598Z",
     "iopub.status.idle": "2022-07-05T20:12:55.359617Z",
     "shell.execute_reply": "2022-07-05T20:12:55.360120Z"
    },
    "papermill": {
     "duration": 0.342436,
     "end_time": "2022-07-05T20:12:55.360280",
     "exception": false,
     "start_time": "2022-07-05T20:12:55.017844",
     "status": "completed"
    },
    "tags": []
   },
   "outputs": [
    {
     "data": {
      "image/png": "[encoded data removed]",
      "text/plain": [
       "<Figure size 720x648 with 1 Axes>"
      ]
     },
     "metadata": {
      "needs_background": "light"
     },
     "output_type": "display_data"
    }
   ],
   "source": [
    "plt.figure(figsize=(10,9))\n",
    "plt.scatter(testing_plot[:,0], testing_plot[:,1], alpha = 0.1, c = y_test.ravel())\n",
    "contours = plt.contour(x_grid,y_grid,prob_contour)\n",
    "plt.title('Probability Contours')\n",
    "plt.clabel(contours, inline = True );"
   ]
  },
  {
   "cell_type": "code",
   "execution_count": null,
   "id": "e81b4ac7",
   "metadata": {
    "papermill": {
     "duration": 0.049054,
     "end_time": "2022-07-05T20:12:55.463921",
     "exception": false,
     "start_time": "2022-07-05T20:12:55.414867",
     "status": "completed"
    },
    "tags": []
   },
   "outputs": [],
   "source": []
  }
 ],
 "metadata": {
  "kernelspec": {
   "display_name": "Python 3",
   "language": "python",
   "name": "python3"
  },
  "language_info": {
   "codemirror_mode": {
    "name": "ipython",
    "version": 3
   },
   "file_extension": ".py",
   "mimetype": "text/x-python",
   "name": "python",
   "nbconvert_exporter": "python",
   "pygments_lexer": "ipython3",
   "version": "3.6.15"
  },
  "papermill": {
   "default_parameters": {},
   "duration": 112.175654,
   "end_time": "2022-07-05T20:12:55.934784",
   "environment_variables": {},
   "exception": null,
   "input_path": "2020-08-11-part2.ipynb",
   "output_path": "2020-08-11-part2.ipynb",
   "parameters": {},
   "start_time": "2022-07-05T20:11:03.759130",
   "version": "2.3.3"
  }
 },
 "nbformat": 4,
 "nbformat_minor": 5
}