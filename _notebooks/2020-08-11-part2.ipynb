{
 "cells": [
  {
   "cell_type": "markdown",
   "id": "98380cd3",
   "metadata": {
    "papermill": {
     "duration": 0.02708,
     "end_time": "2021-08-28T10:05:38.539452",
     "exception": false,
     "start_time": "2021-08-28T10:05:38.512372",
     "status": "completed"
    },
    "tags": []
   },
   "source": [
    "# Distinguish Your Own Digits (DYOD)"
   ]
  },
  {
   "cell_type": "markdown",
   "id": "ef31240d",
   "metadata": {
    "papermill": {
     "duration": 0.019175,
     "end_time": "2021-08-28T10:05:38.578323",
     "exception": false,
     "start_time": "2021-08-28T10:05:38.559148",
     "status": "completed"
    },
    "tags": []
   },
   "source": [
    "You are going to write a classifier that distinguishes between the number 3 and number 8."
   ]
  },
  {
   "cell_type": "code",
   "execution_count": 1,
   "id": "b15c8646",
   "metadata": {
    "execution": {
     "iopub.execute_input": "2021-08-28T10:05:38.626256Z",
     "iopub.status.busy": "2021-08-28T10:05:38.625080Z",
     "iopub.status.idle": "2021-08-28T10:05:38.634579Z",
     "shell.execute_reply": "2021-08-28T10:05:38.634241Z"
    },
    "papermill": {
     "duration": 0.036257,
     "end_time": "2021-08-28T10:05:38.634674",
     "exception": false,
     "start_time": "2021-08-28T10:05:38.598417",
     "status": "completed"
    },
    "tags": []
   },
   "outputs": [],
   "source": [
    "%load_ext autoreload\n",
    "%autoreload 2"
   ]
  },
  {
   "cell_type": "code",
   "execution_count": 2,
   "id": "22ef38dc",
   "metadata": {
    "execution": {
     "iopub.execute_input": "2021-08-28T10:05:38.676523Z",
     "iopub.status.busy": "2021-08-28T10:05:38.676107Z",
     "iopub.status.idle": "2021-08-28T10:05:39.114618Z",
     "shell.execute_reply": "2021-08-28T10:05:39.113587Z"
    },
    "papermill": {
     "duration": 0.460938,
     "end_time": "2021-08-28T10:05:39.114734",
     "exception": false,
     "start_time": "2021-08-28T10:05:38.653796",
     "status": "completed"
    },
    "tags": []
   },
   "outputs": [],
   "source": [
    "%matplotlib inline\n",
    "import numpy as np\n",
    "import matplotlib.pyplot as plt\n",
    "import pandas as pd"
   ]
  },
  {
   "cell_type": "markdown",
   "id": "ba036198",
   "metadata": {
    "papermill": {
     "duration": 0.020343,
     "end_time": "2021-08-28T10:05:39.154842",
     "exception": false,
     "start_time": "2021-08-28T10:05:39.134499",
     "status": "completed"
    },
    "tags": []
   },
   "source": [
    "From the command line run `pip install mnist`. This is a library that will help you bring down the mnist dataset. If you run this from a notebook, you need to put  `!pip install mnist` in a cell by itself."
   ]
  },
  {
   "cell_type": "code",
   "execution_count": 3,
   "id": "bb6ad8a1",
   "metadata": {
    "execution": {
     "iopub.execute_input": "2021-08-28T10:05:39.197087Z",
     "iopub.status.busy": "2021-08-28T10:05:39.196671Z",
     "iopub.status.idle": "2021-08-28T10:05:40.595965Z",
     "shell.execute_reply": "2021-08-28T10:05:40.595465Z"
    },
    "papermill": {
     "duration": 1.4218,
     "end_time": "2021-08-28T10:05:40.596078",
     "exception": false,
     "start_time": "2021-08-28T10:05:39.174278",
     "status": "completed"
    },
    "tags": []
   },
   "outputs": [
    {
     "name": "stdout",
     "output_type": "stream",
     "text": [
      "Collecting mnist\r\n"
     ]
    },
    {
     "name": "stdout",
     "output_type": "stream",
     "text": [
      "  Downloading mnist-0.2.2-py2.py3-none-any.whl (3.5 kB)\r\n",
      "Requirement already satisfied: numpy in /opt/hostedtoolcache/Python/3.6.14/x64/lib/python3.6/site-packages (from mnist) (1.19.5)\r\n"
     ]
    },
    {
     "name": "stdout",
     "output_type": "stream",
     "text": [
      "Installing collected packages: mnist\r\n",
      "Successfully installed mnist-0.2.2\r\n"
     ]
    }
   ],
   "source": [
    "!pip install mnist"
   ]
  },
  {
   "cell_type": "markdown",
   "id": "69df9c9a",
   "metadata": {
    "papermill": {
     "duration": 0.049792,
     "end_time": "2021-08-28T10:05:40.672906",
     "exception": false,
     "start_time": "2021-08-28T10:05:40.623114",
     "status": "completed"
    },
    "tags": []
   },
   "source": [
    "## Preparing the Data"
   ]
  },
  {
   "cell_type": "code",
   "execution_count": 4,
   "id": "7f69d806",
   "metadata": {
    "execution": {
     "iopub.execute_input": "2021-08-28T10:05:40.764730Z",
     "iopub.status.busy": "2021-08-28T10:05:40.764299Z",
     "iopub.status.idle": "2021-08-28T10:05:40.777873Z",
     "shell.execute_reply": "2021-08-28T10:05:40.778211Z"
    },
    "papermill": {
     "duration": 0.044945,
     "end_time": "2021-08-28T10:05:40.778319",
     "exception": false,
     "start_time": "2021-08-28T10:05:40.733374",
     "status": "completed"
    },
    "tags": []
   },
   "outputs": [],
   "source": [
    "import mnist"
   ]
  },
  {
   "cell_type": "code",
   "execution_count": 5,
   "id": "a411e44f",
   "metadata": {
    "execution": {
     "iopub.execute_input": "2021-08-28T10:05:40.823271Z",
     "iopub.status.busy": "2021-08-28T10:05:40.822831Z",
     "iopub.status.idle": "2021-08-28T10:05:41.333166Z",
     "shell.execute_reply": "2021-08-28T10:05:41.332625Z"
    },
    "papermill": {
     "duration": 0.533771,
     "end_time": "2021-08-28T10:05:41.333267",
     "exception": false,
     "start_time": "2021-08-28T10:05:40.799496",
     "status": "completed"
    },
    "tags": []
   },
   "outputs": [],
   "source": [
    "train_images = mnist.train_images()\n",
    "train_labels = mnist.train_labels()"
   ]
  },
  {
   "cell_type": "code",
   "execution_count": 6,
   "id": "dceab3a5",
   "metadata": {
    "execution": {
     "iopub.execute_input": "2021-08-28T10:05:41.377327Z",
     "iopub.status.busy": "2021-08-28T10:05:41.376913Z",
     "iopub.status.idle": "2021-08-28T10:05:41.392168Z",
     "shell.execute_reply": "2021-08-28T10:05:41.391838Z"
    },
    "papermill": {
     "duration": 0.038738,
     "end_time": "2021-08-28T10:05:41.392252",
     "exception": false,
     "start_time": "2021-08-28T10:05:41.353514",
     "status": "completed"
    },
    "tags": []
   },
   "outputs": [
    {
     "data": {
      "text/plain": [
       "((60000, 28, 28), (60000,))"
      ]
     },
     "execution_count": 6,
     "metadata": {},
     "output_type": "execute_result"
    }
   ],
   "source": [
    "train_images.shape, train_labels.shape"
   ]
  },
  {
   "cell_type": "code",
   "execution_count": 7,
   "id": "f50dc2bb",
   "metadata": {
    "execution": {
     "iopub.execute_input": "2021-08-28T10:05:41.435820Z",
     "iopub.status.busy": "2021-08-28T10:05:41.435348Z",
     "iopub.status.idle": "2021-08-28T10:05:41.591731Z",
     "shell.execute_reply": "2021-08-28T10:05:41.590781Z"
    },
    "papermill": {
     "duration": 0.179599,
     "end_time": "2021-08-28T10:05:41.591951",
     "exception": false,
     "start_time": "2021-08-28T10:05:41.412352",
     "status": "completed"
    },
    "tags": []
   },
   "outputs": [],
   "source": [
    "test_images = mnist.test_images()\n",
    "test_labels = mnist.test_labels()"
   ]
  },
  {
   "cell_type": "code",
   "execution_count": 8,
   "id": "fc38cf1b",
   "metadata": {
    "execution": {
     "iopub.execute_input": "2021-08-28T10:05:41.641738Z",
     "iopub.status.busy": "2021-08-28T10:05:41.641201Z",
     "iopub.status.idle": "2021-08-28T10:05:41.652381Z",
     "shell.execute_reply": "2021-08-28T10:05:41.652031Z"
    },
    "papermill": {
     "duration": 0.036209,
     "end_time": "2021-08-28T10:05:41.652462",
     "exception": false,
     "start_time": "2021-08-28T10:05:41.616253",
     "status": "completed"
    },
    "tags": []
   },
   "outputs": [
    {
     "data": {
      "text/plain": [
       "((10000, 28, 28), (10000,))"
      ]
     },
     "execution_count": 8,
     "metadata": {},
     "output_type": "execute_result"
    }
   ],
   "source": [
    "test_images.shape, test_labels.shape"
   ]
  },
  {
   "cell_type": "code",
   "execution_count": 9,
   "id": "f9ed8fe0",
   "metadata": {
    "execution": {
     "iopub.execute_input": "2021-08-28T10:05:41.698392Z",
     "iopub.status.busy": "2021-08-28T10:05:41.697809Z",
     "iopub.status.idle": "2021-08-28T10:05:41.815775Z",
     "shell.execute_reply": "2021-08-28T10:05:41.816540Z"
    },
    "papermill": {
     "duration": 0.142987,
     "end_time": "2021-08-28T10:05:41.816751",
     "exception": false,
     "start_time": "2021-08-28T10:05:41.673764",
     "status": "completed"
    },
    "tags": []
   },
   "outputs": [
    {
     "name": "stdout",
     "output_type": "stream",
     "text": [
      "2\n"
     ]
    },
    {
     "data": {
      "text/plain": [
       "<matplotlib.image.AxesImage at 0x7fcee451d940>"
      ]
     },
     "execution_count": 9,
     "metadata": {},
     "output_type": "execute_result"
    },
    {
     "data": {
      "image/png": "[encoded data removed]",
      "text/plain": [
       "<Figure size 432x288 with 1 Axes>"
      ]
     },
     "metadata": {
      "needs_background": "light"
     },
     "output_type": "display_data"
    }
   ],
   "source": [
    "image_index = 7776 # You may select anything up to 60,000\n",
    "print(train_labels[image_index]) \n",
    "plt.imshow(train_images[image_index], cmap='Greys')"
   ]
  },
  {
   "cell_type": "markdown",
   "id": "a8d2388d",
   "metadata": {
    "papermill": {
     "duration": 0.021344,
     "end_time": "2021-08-28T10:05:41.860397",
     "exception": false,
     "start_time": "2021-08-28T10:05:41.839053",
     "status": "completed"
    },
    "tags": []
   },
   "source": [
    "## Filter data to get 3 and 8 out"
   ]
  },
  {
   "cell_type": "code",
   "execution_count": 10,
   "id": "776f7fc7",
   "metadata": {
    "execution": {
     "iopub.execute_input": "2021-08-28T10:05:41.908476Z",
     "iopub.status.busy": "2021-08-28T10:05:41.908060Z",
     "iopub.status.idle": "2021-08-28T10:05:41.923172Z",
     "shell.execute_reply": "2021-08-28T10:05:41.922281Z"
    },
    "papermill": {
     "duration": 0.041225,
     "end_time": "2021-08-28T10:05:41.923364",
     "exception": false,
     "start_time": "2021-08-28T10:05:41.882139",
     "status": "completed"
    },
    "tags": []
   },
   "outputs": [],
   "source": [
    "train_filter = np.where((train_labels == 3 ) | (train_labels == 8))\n",
    "test_filter = np.where((test_labels == 3) | (test_labels == 8))\n",
    "X_train, y_train = train_images[train_filter], train_labels[train_filter]\n",
    "X_test, y_test = test_images[test_filter], test_labels[test_filter]"
   ]
  },
  {
   "cell_type": "markdown",
   "id": "948f0b7e",
   "metadata": {
    "papermill": {
     "duration": 0.021777,
     "end_time": "2021-08-28T10:05:41.970294",
     "exception": false,
     "start_time": "2021-08-28T10:05:41.948517",
     "status": "completed"
    },
    "tags": []
   },
   "source": [
    "We normalize the pizel values in the 0 to 1 range"
   ]
  },
  {
   "cell_type": "code",
   "execution_count": 11,
   "id": "ee4c2166",
   "metadata": {
    "execution": {
     "iopub.execute_input": "2021-08-28T10:05:42.017340Z",
     "iopub.status.busy": "2021-08-28T10:05:42.016729Z",
     "iopub.status.idle": "2021-08-28T10:05:42.065507Z",
     "shell.execute_reply": "2021-08-28T10:05:42.064595Z"
    },
    "papermill": {
     "duration": 0.073833,
     "end_time": "2021-08-28T10:05:42.065716",
     "exception": false,
     "start_time": "2021-08-28T10:05:41.991883",
     "status": "completed"
    },
    "tags": []
   },
   "outputs": [],
   "source": [
    "X_train = X_train/255.\n",
    "X_test = X_test/255."
   ]
  },
  {
   "cell_type": "markdown",
   "id": "ddcf4fab",
   "metadata": {
    "papermill": {
     "duration": 0.021638,
     "end_time": "2021-08-28T10:05:42.112948",
     "exception": false,
     "start_time": "2021-08-28T10:05:42.091310",
     "status": "completed"
    },
    "tags": []
   },
   "source": [
    "And setup the labels as 1 (when the digit is 3) and 0 (when the digit is 8)"
   ]
  },
  {
   "cell_type": "code",
   "execution_count": 12,
   "id": "7dc908f2",
   "metadata": {
    "execution": {
     "iopub.execute_input": "2021-08-28T10:05:42.160059Z",
     "iopub.status.busy": "2021-08-28T10:05:42.159630Z",
     "iopub.status.idle": "2021-08-28T10:05:42.170058Z",
     "shell.execute_reply": "2021-08-28T10:05:42.169698Z"
    },
    "papermill": {
     "duration": 0.035088,
     "end_time": "2021-08-28T10:05:42.170145",
     "exception": false,
     "start_time": "2021-08-28T10:05:42.135057",
     "status": "completed"
    },
    "tags": []
   },
   "outputs": [],
   "source": [
    "y_train = 1*(y_train==3)\n",
    "y_test = 1*(y_test==3)"
   ]
  },
  {
   "cell_type": "code",
   "execution_count": 13,
   "id": "01e4e969",
   "metadata": {
    "execution": {
     "iopub.execute_input": "2021-08-28T10:05:42.217497Z",
     "iopub.status.busy": "2021-08-28T10:05:42.217080Z",
     "iopub.status.idle": "2021-08-28T10:05:42.231170Z",
     "shell.execute_reply": "2021-08-28T10:05:42.230818Z"
    },
    "papermill": {
     "duration": 0.038697,
     "end_time": "2021-08-28T10:05:42.231258",
     "exception": false,
     "start_time": "2021-08-28T10:05:42.192561",
     "status": "completed"
    },
    "tags": []
   },
   "outputs": [
    {
     "data": {
      "text/plain": [
       "((11982, 28, 28), (1984, 28, 28))"
      ]
     },
     "execution_count": 13,
     "metadata": {},
     "output_type": "execute_result"
    }
   ],
   "source": [
    "X_train.shape, X_test.shape"
   ]
  },
  {
   "cell_type": "markdown",
   "id": "5ccf3f85",
   "metadata": {
    "papermill": {
     "duration": 0.021724,
     "end_time": "2021-08-28T10:05:42.274255",
     "exception": false,
     "start_time": "2021-08-28T10:05:42.252531",
     "status": "completed"
    },
    "tags": []
   },
   "source": [
    "We reshape the data to flatten the image pixels into a set of features or co-variates:"
   ]
  },
  {
   "cell_type": "code",
   "execution_count": 14,
   "id": "5286a4a3",
   "metadata": {
    "execution": {
     "iopub.execute_input": "2021-08-28T10:05:42.320509Z",
     "iopub.status.busy": "2021-08-28T10:05:42.320083Z",
     "iopub.status.idle": "2021-08-28T10:05:42.332977Z",
     "shell.execute_reply": "2021-08-28T10:05:42.332630Z"
    },
    "papermill": {
     "duration": 0.037287,
     "end_time": "2021-08-28T10:05:42.333056",
     "exception": false,
     "start_time": "2021-08-28T10:05:42.295769",
     "status": "completed"
    },
    "tags": []
   },
   "outputs": [
    {
     "data": {
      "text/plain": [
       "((11982, 784), (1984, 784))"
      ]
     },
     "execution_count": 14,
     "metadata": {},
     "output_type": "execute_result"
    }
   ],
   "source": [
    "X_train = X_train.reshape(X_train.shape[0], -1)\n",
    "X_test = X_test.reshape(X_test.shape[0], -1)\n",
    "X_train.shape, X_test.shape"
   ]
  },
  {
   "cell_type": "code",
   "execution_count": 15,
   "id": "73c5f88a",
   "metadata": {
    "execution": {
     "iopub.execute_input": "2021-08-28T10:05:42.386390Z",
     "iopub.status.busy": "2021-08-28T10:05:42.385908Z",
     "iopub.status.idle": "2021-08-28T10:05:42.401184Z",
     "shell.execute_reply": "2021-08-28T10:05:42.400780Z"
    },
    "papermill": {
     "duration": 0.046634,
     "end_time": "2021-08-28T10:05:42.401276",
     "exception": false,
     "start_time": "2021-08-28T10:05:42.354642",
     "status": "completed"
    },
    "tags": []
   },
   "outputs": [],
   "source": [
    "#Impoting functions from 'Kudzu'\n",
    "from kudzu.model import Model\n",
    "from kudzu.train import Learner\n",
    "from kudzu.optim import GD\n",
    "from kudzu.data import Data, Sampler,Dataloader\n",
    "\n",
    "from kudzu.callbacks import AccCallback\n",
    "from kudzu.callbacks import ClfCallback\n",
    "\n",
    "from kudzu.loss import MSE\n",
    "\n",
    "from kudzu.layer import Sigmoid,Relu\n",
    "from kudzu.layer import Affine"
   ]
  },
  {
   "cell_type": "markdown",
   "id": "bc01172a",
   "metadata": {
    "papermill": {
     "duration": 0.021797,
     "end_time": "2021-08-28T10:05:42.444908",
     "exception": false,
     "start_time": "2021-08-28T10:05:42.423111",
     "status": "completed"
    },
    "tags": []
   },
   "source": [
    "### Let us create a `Config` class, to store important parameters. \n",
    "This class essentially plays the role of a dictionary."
   ]
  },
  {
   "cell_type": "code",
   "execution_count": 16,
   "id": "978281aa",
   "metadata": {
    "execution": {
     "iopub.execute_input": "2021-08-28T10:05:42.492664Z",
     "iopub.status.busy": "2021-08-28T10:05:42.492248Z",
     "iopub.status.idle": "2021-08-28T10:05:42.503891Z",
     "shell.execute_reply": "2021-08-28T10:05:42.503546Z"
    },
    "papermill": {
     "duration": 0.037235,
     "end_time": "2021-08-28T10:05:42.503970",
     "exception": false,
     "start_time": "2021-08-28T10:05:42.466735",
     "status": "completed"
    },
    "tags": []
   },
   "outputs": [],
   "source": [
    "class Config:\n",
    "    pass\n",
    "config = Config()\n",
    "config.lr = 0.001\n",
    "config.num_epochs = 250\n",
    "config.bs = 50"
   ]
  },
  {
   "cell_type": "markdown",
   "id": "1385fa59",
   "metadata": {
    "papermill": {
     "duration": 0.021836,
     "end_time": "2021-08-28T10:05:42.552627",
     "exception": false,
     "start_time": "2021-08-28T10:05:42.530791",
     "status": "completed"
    },
    "tags": []
   },
   "source": [
    "### Running Models with the Training data\n",
    "Details about the network layers:\n",
    "- A first affine layer has 784 inputs and does 100 affine transforms. These are followed by a Relu\n",
    "- A second affine layer has 100 inputs from the 100 activations of the past layer, and does 100 affine transforms. These are followed by a Relu\n",
    "- A third affine layer has 100 activations and does 2 affine transformations to create an embedding for visualization. There is no non-linearity here.\n",
    "- A final \"logistic regression\" which has an affine transform from 2 inputs to 1 output, which is squeezed through a sigmoid.\n"
   ]
  },
  {
   "cell_type": "code",
   "execution_count": 17,
   "id": "2b9c66db",
   "metadata": {
    "execution": {
     "iopub.execute_input": "2021-08-28T10:05:42.600046Z",
     "iopub.status.busy": "2021-08-28T10:05:42.599631Z",
     "iopub.status.idle": "2021-08-28T10:05:42.611394Z",
     "shell.execute_reply": "2021-08-28T10:05:42.610803Z"
    },
    "papermill": {
     "duration": 0.036993,
     "end_time": "2021-08-28T10:05:42.611505",
     "exception": false,
     "start_time": "2021-08-28T10:05:42.574512",
     "status": "completed"
    },
    "tags": []
   },
   "outputs": [],
   "source": [
    "data = Data(X_train, y_train.reshape(-1,1))\n",
    "sampler = Sampler(data, config.bs, shuffle=True)\n",
    "\n",
    "dl = Dataloader(data, sampler)\n",
    "\n",
    "opt = GD(config.lr)\n",
    "loss = MSE()"
   ]
  },
  {
   "cell_type": "code",
   "execution_count": 18,
   "id": "b275e4c2",
   "metadata": {
    "execution": {
     "iopub.execute_input": "2021-08-28T10:05:42.659147Z",
     "iopub.status.busy": "2021-08-28T10:05:42.658714Z",
     "iopub.status.idle": "2021-08-28T10:05:42.668058Z",
     "shell.execute_reply": "2021-08-28T10:05:42.667728Z"
    },
    "papermill": {
     "duration": 0.034608,
     "end_time": "2021-08-28T10:05:42.668139",
     "exception": false,
     "start_time": "2021-08-28T10:05:42.633531",
     "status": "completed"
    },
    "tags": []
   },
   "outputs": [],
   "source": [
    "training_data_x = X_train\n",
    "testing_data_x = X_test\n",
    "training_data_y = y_train.reshape(-1,1)\n",
    "testing_data_y = y_test.reshape(-1,1)"
   ]
  },
  {
   "cell_type": "code",
   "execution_count": 19,
   "id": "76951160",
   "metadata": {
    "execution": {
     "iopub.execute_input": "2021-08-28T10:05:42.718035Z",
     "iopub.status.busy": "2021-08-28T10:05:42.717620Z",
     "iopub.status.idle": "2021-08-28T10:05:42.728979Z",
     "shell.execute_reply": "2021-08-28T10:05:42.728633Z"
    },
    "papermill": {
     "duration": 0.039023,
     "end_time": "2021-08-28T10:05:42.729057",
     "exception": false,
     "start_time": "2021-08-28T10:05:42.690034",
     "status": "completed"
    },
    "tags": []
   },
   "outputs": [
    {
     "name": "stdout",
     "output_type": "stream",
     "text": [
      "xavier\n",
      "xavier\n",
      "xavier\n",
      "xavier\n",
      "xavier\n"
     ]
    }
   ],
   "source": [
    "layers = [Affine(\"first\", 784, 100), Relu(\"first\"), Affine(\"second\", 100, 100), Relu(\"second\"), Affine(\"third\", 100, 2), Affine(\"last\", 2, 1), Sigmoid(\"last\")]\n",
    "model_nn = Model(layers)\n",
    "model_lr = Model([Affine(\"logits\", 784, 1), Sigmoid(\"sigmoid\")])"
   ]
  },
  {
   "cell_type": "code",
   "execution_count": 20,
   "id": "6eede77a",
   "metadata": {
    "execution": {
     "iopub.execute_input": "2021-08-28T10:05:42.777677Z",
     "iopub.status.busy": "2021-08-28T10:05:42.777269Z",
     "iopub.status.idle": "2021-08-28T10:05:42.788265Z",
     "shell.execute_reply": "2021-08-28T10:05:42.787918Z"
    },
    "papermill": {
     "duration": 0.037056,
     "end_time": "2021-08-28T10:05:42.788343",
     "exception": false,
     "start_time": "2021-08-28T10:05:42.751287",
     "status": "completed"
    },
    "tags": []
   },
   "outputs": [],
   "source": [
    "nn_learner = Learner(loss, model_nn, opt, config.num_epochs)\n",
    "acc_nn = ClfCallback(nn_learner, config.bs, training_data_x , testing_data_x, training_data_y, testing_data_y)\n",
    "nn_learner.set_callbacks([acc_nn])"
   ]
  },
  {
   "cell_type": "code",
   "execution_count": 21,
   "id": "877b6cc7",
   "metadata": {
    "execution": {
     "iopub.execute_input": "2021-08-28T10:05:42.836083Z",
     "iopub.status.busy": "2021-08-28T10:05:42.835389Z",
     "iopub.status.idle": "2021-08-28T10:05:42.847691Z",
     "shell.execute_reply": "2021-08-28T10:05:42.847359Z"
    },
    "papermill": {
     "duration": 0.037637,
     "end_time": "2021-08-28T10:05:42.847771",
     "exception": false,
     "start_time": "2021-08-28T10:05:42.810134",
     "status": "completed"
    },
    "tags": []
   },
   "outputs": [],
   "source": [
    "lr_learner = Learner(loss, model_lr, opt, config.num_epochs)\n",
    "acc_lr = ClfCallback(lr_learner, config.bs, training_data_x , testing_data_x, training_data_y, testing_data_y)\n",
    "lr_learner.set_callbacks([acc_lr])"
   ]
  },
  {
   "cell_type": "code",
   "execution_count": 22,
   "id": "d9b133c3",
   "metadata": {
    "execution": {
     "iopub.execute_input": "2021-08-28T10:05:42.895164Z",
     "iopub.status.busy": "2021-08-28T10:05:42.894567Z",
     "iopub.status.idle": "2021-08-28T10:06:53.394235Z",
     "shell.execute_reply": "2021-08-28T10:06:53.394801Z"
    },
    "papermill": {
     "duration": 70.525026,
     "end_time": "2021-08-28T10:06:53.394953",
     "exception": false,
     "start_time": "2021-08-28T10:05:42.869927",
     "status": "completed"
    },
    "tags": []
   },
   "outputs": [
    {
     "name": "stdout",
     "output_type": "stream",
     "text": [
      "Epoch 0, Loss 0.2564\n",
      "Training Accuracy: 0.6583, Testing Accuracy: 0.6351\n",
      "\n"
     ]
    },
    {
     "name": "stdout",
     "output_type": "stream",
     "text": [
      "Epoch 10, Loss 0.071\n",
      "Training Accuracy: 0.9333, Testing Accuracy: 0.9461\n",
      "\n"
     ]
    },
    {
     "name": "stdout",
     "output_type": "stream",
     "text": [
      "Epoch 20, Loss 0.0467\n",
      "Training Accuracy: 0.9502, Testing Accuracy: 0.9657\n",
      "\n"
     ]
    },
    {
     "name": "stdout",
     "output_type": "stream",
     "text": [
      "Epoch 30, Loss 0.0382\n",
      "Training Accuracy: 0.9579, Testing Accuracy: 0.9693\n",
      "\n"
     ]
    },
    {
     "name": "stdout",
     "output_type": "stream",
     "text": [
      "Epoch 40, Loss 0.0338\n",
      "Training Accuracy: 0.9624, Testing Accuracy: 0.9713\n",
      "\n"
     ]
    },
    {
     "name": "stdout",
     "output_type": "stream",
     "text": [
      "Epoch 50, Loss 0.031\n",
      "Training Accuracy: 0.9649, Testing Accuracy: 0.9733\n",
      "\n"
     ]
    },
    {
     "name": "stdout",
     "output_type": "stream",
     "text": [
      "Epoch 60, Loss 0.029\n",
      "Training Accuracy: 0.9672, Testing Accuracy: 0.9733\n",
      "\n"
     ]
    },
    {
     "name": "stdout",
     "output_type": "stream",
     "text": [
      "Epoch 70, Loss 0.0275\n",
      "Training Accuracy: 0.9688, Testing Accuracy: 0.9743\n",
      "\n"
     ]
    },
    {
     "name": "stdout",
     "output_type": "stream",
     "text": [
      "Epoch 80, Loss 0.0262\n",
      "Training Accuracy: 0.9706, Testing Accuracy: 0.9738\n",
      "\n"
     ]
    },
    {
     "name": "stdout",
     "output_type": "stream",
     "text": [
      "Epoch 90, Loss 0.0252\n",
      "Training Accuracy: 0.9716, Testing Accuracy: 0.9728\n",
      "\n"
     ]
    },
    {
     "name": "stdout",
     "output_type": "stream",
     "text": [
      "Epoch 100, Loss 0.0243\n",
      "Training Accuracy: 0.9727, Testing Accuracy: 0.9738\n",
      "\n"
     ]
    },
    {
     "name": "stdout",
     "output_type": "stream",
     "text": [
      "Epoch 110, Loss 0.0235\n",
      "Training Accuracy: 0.9735, Testing Accuracy: 0.9738\n",
      "\n"
     ]
    },
    {
     "name": "stdout",
     "output_type": "stream",
     "text": [
      "Epoch 120, Loss 0.0229\n",
      "Training Accuracy: 0.9744, Testing Accuracy: 0.9748\n",
      "\n"
     ]
    },
    {
     "name": "stdout",
     "output_type": "stream",
     "text": [
      "Epoch 130, Loss 0.0222\n",
      "Training Accuracy: 0.9745, Testing Accuracy: 0.9758\n",
      "\n"
     ]
    },
    {
     "name": "stdout",
     "output_type": "stream",
     "text": [
      "Epoch 140, Loss 0.0216\n",
      "Training Accuracy: 0.9755, Testing Accuracy: 0.9763\n",
      "\n"
     ]
    },
    {
     "name": "stdout",
     "output_type": "stream",
     "text": [
      "Epoch 150, Loss 0.0211\n",
      "Training Accuracy: 0.9765, Testing Accuracy: 0.9763\n",
      "\n"
     ]
    },
    {
     "name": "stdout",
     "output_type": "stream",
     "text": [
      "Epoch 160, Loss 0.0206\n",
      "Training Accuracy: 0.9770, Testing Accuracy: 0.9768\n",
      "\n"
     ]
    },
    {
     "name": "stdout",
     "output_type": "stream",
     "text": [
      "Epoch 170, Loss 0.0201\n",
      "Training Accuracy: 0.9771, Testing Accuracy: 0.9768\n",
      "\n"
     ]
    },
    {
     "name": "stdout",
     "output_type": "stream",
     "text": [
      "Epoch 180, Loss 0.0197\n",
      "Training Accuracy: 0.9783, Testing Accuracy: 0.9768\n",
      "\n"
     ]
    },
    {
     "name": "stdout",
     "output_type": "stream",
     "text": [
      "Epoch 190, Loss 0.0193\n",
      "Training Accuracy: 0.9790, Testing Accuracy: 0.9763\n",
      "\n"
     ]
    },
    {
     "name": "stdout",
     "output_type": "stream",
     "text": [
      "Epoch 200, Loss 0.0189\n",
      "Training Accuracy: 0.9791, Testing Accuracy: 0.9768\n",
      "\n"
     ]
    },
    {
     "name": "stdout",
     "output_type": "stream",
     "text": [
      "Epoch 210, Loss 0.0185\n",
      "Training Accuracy: 0.9799, Testing Accuracy: 0.9768\n",
      "\n"
     ]
    },
    {
     "name": "stdout",
     "output_type": "stream",
     "text": [
      "Epoch 220, Loss 0.0181\n",
      "Training Accuracy: 0.9805, Testing Accuracy: 0.9778\n",
      "\n"
     ]
    },
    {
     "name": "stdout",
     "output_type": "stream",
     "text": [
      "Epoch 230, Loss 0.0177\n",
      "Training Accuracy: 0.9807, Testing Accuracy: 0.9778\n",
      "\n"
     ]
    },
    {
     "name": "stdout",
     "output_type": "stream",
     "text": [
      "Epoch 240, Loss 0.0174\n",
      "Training Accuracy: 0.9813, Testing Accuracy: 0.9773\n",
      "\n"
     ]
    },
    {
     "data": {
      "text/plain": [
       "0.0044668280708910655"
      ]
     },
     "execution_count": 22,
     "metadata": {},
     "output_type": "execute_result"
    }
   ],
   "source": [
    "nn_learner.train_loop(dl)"
   ]
  },
  {
   "cell_type": "code",
   "execution_count": 23,
   "id": "e0163366",
   "metadata": {
    "execution": {
     "iopub.execute_input": "2021-08-28T10:06:53.455562Z",
     "iopub.status.busy": "2021-08-28T10:06:53.454945Z",
     "iopub.status.idle": "2021-08-28T10:07:05.688413Z",
     "shell.execute_reply": "2021-08-28T10:07:05.689141Z"
    },
    "papermill": {
     "duration": 12.264897,
     "end_time": "2021-08-28T10:07:05.689266",
     "exception": false,
     "start_time": "2021-08-28T10:06:53.424369",
     "status": "completed"
    },
    "tags": []
   },
   "outputs": [
    {
     "name": "stdout",
     "output_type": "stream",
     "text": [
      "Epoch 0, Loss 0.2435\n",
      "Training Accuracy: 0.6945, Testing Accuracy: 0.6971\n",
      "\n"
     ]
    },
    {
     "name": "stdout",
     "output_type": "stream",
     "text": [
      "Epoch 10, Loss 0.1031\n",
      "Training Accuracy: 0.9145, Testing Accuracy: 0.9214\n",
      "\n"
     ]
    },
    {
     "name": "stdout",
     "output_type": "stream",
     "text": [
      "Epoch 20, Loss 0.079\n",
      "Training Accuracy: 0.9295, Testing Accuracy: 0.9355\n",
      "\n"
     ]
    },
    {
     "name": "stdout",
     "output_type": "stream",
     "text": [
      "Epoch 30, Loss 0.068\n",
      "Training Accuracy: 0.9392, Testing Accuracy: 0.9471\n",
      "\n"
     ]
    },
    {
     "name": "stdout",
     "output_type": "stream",
     "text": [
      "Epoch 40, Loss 0.0613\n",
      "Training Accuracy: 0.9432, Testing Accuracy: 0.9481\n",
      "\n"
     ]
    },
    {
     "name": "stdout",
     "output_type": "stream",
     "text": [
      "Epoch 50, Loss 0.0568\n",
      "Training Accuracy: 0.9448, Testing Accuracy: 0.9531\n",
      "\n"
     ]
    },
    {
     "name": "stdout",
     "output_type": "stream",
     "text": [
      "Epoch 60, Loss 0.0535\n",
      "Training Accuracy: 0.9470, Testing Accuracy: 0.9551\n",
      "\n"
     ]
    },
    {
     "name": "stdout",
     "output_type": "stream",
     "text": [
      "Epoch 70, Loss 0.051\n",
      "Training Accuracy: 0.9492, Testing Accuracy: 0.9582\n",
      "\n"
     ]
    },
    {
     "name": "stdout",
     "output_type": "stream",
     "text": [
      "Epoch 80, Loss 0.0489\n",
      "Training Accuracy: 0.9507, Testing Accuracy: 0.9627\n",
      "\n"
     ]
    },
    {
     "name": "stdout",
     "output_type": "stream",
     "text": [
      "Epoch 90, Loss 0.0473\n",
      "Training Accuracy: 0.9521, Testing Accuracy: 0.9627\n",
      "\n"
     ]
    },
    {
     "name": "stdout",
     "output_type": "stream",
     "text": [
      "Epoch 100, Loss 0.0458\n",
      "Training Accuracy: 0.9532, Testing Accuracy: 0.9647\n",
      "\n"
     ]
    },
    {
     "name": "stdout",
     "output_type": "stream",
     "text": [
      "Epoch 110, Loss 0.0446\n",
      "Training Accuracy: 0.9546, Testing Accuracy: 0.9642\n",
      "\n"
     ]
    },
    {
     "name": "stdout",
     "output_type": "stream",
     "text": [
      "Epoch 120, Loss 0.0436\n",
      "Training Accuracy: 0.9556, Testing Accuracy: 0.9647\n",
      "\n"
     ]
    },
    {
     "name": "stdout",
     "output_type": "stream",
     "text": [
      "Epoch 130, Loss 0.0427\n",
      "Training Accuracy: 0.9564, Testing Accuracy: 0.9657\n",
      "\n"
     ]
    },
    {
     "name": "stdout",
     "output_type": "stream",
     "text": [
      "Epoch 140, Loss 0.0418\n",
      "Training Accuracy: 0.9576, Testing Accuracy: 0.9662\n",
      "\n"
     ]
    },
    {
     "name": "stdout",
     "output_type": "stream",
     "text": [
      "Epoch 150, Loss 0.0411\n",
      "Training Accuracy: 0.9581, Testing Accuracy: 0.9662\n",
      "\n"
     ]
    },
    {
     "name": "stdout",
     "output_type": "stream",
     "text": [
      "Epoch 160, Loss 0.0404\n",
      "Training Accuracy: 0.9584, Testing Accuracy: 0.9672\n",
      "\n"
     ]
    },
    {
     "name": "stdout",
     "output_type": "stream",
     "text": [
      "Epoch 170, Loss 0.0398\n",
      "Training Accuracy: 0.9589, Testing Accuracy: 0.9672\n",
      "\n"
     ]
    },
    {
     "name": "stdout",
     "output_type": "stream",
     "text": [
      "Epoch 180, Loss 0.0393\n",
      "Training Accuracy: 0.9594, Testing Accuracy: 0.9667\n",
      "\n"
     ]
    },
    {
     "name": "stdout",
     "output_type": "stream",
     "text": [
      "Epoch 190, Loss 0.0388\n",
      "Training Accuracy: 0.9599, Testing Accuracy: 0.9672\n",
      "\n"
     ]
    },
    {
     "name": "stdout",
     "output_type": "stream",
     "text": [
      "Epoch 200, Loss 0.0383\n",
      "Training Accuracy: 0.9604, Testing Accuracy: 0.9682\n",
      "\n"
     ]
    },
    {
     "name": "stdout",
     "output_type": "stream",
     "text": [
      "Epoch 210, Loss 0.0378\n",
      "Training Accuracy: 0.9609, Testing Accuracy: 0.9682\n",
      "\n"
     ]
    },
    {
     "name": "stdout",
     "output_type": "stream",
     "text": [
      "Epoch 220, Loss 0.0374\n",
      "Training Accuracy: 0.9610, Testing Accuracy: 0.9677\n",
      "\n"
     ]
    },
    {
     "name": "stdout",
     "output_type": "stream",
     "text": [
      "Epoch 230, Loss 0.0371\n",
      "Training Accuracy: 0.9609, Testing Accuracy: 0.9682\n",
      "\n"
     ]
    },
    {
     "name": "stdout",
     "output_type": "stream",
     "text": [
      "Epoch 240, Loss 0.0367\n",
      "Training Accuracy: 0.9614, Testing Accuracy: 0.9682\n",
      "\n"
     ]
    },
    {
     "data": {
      "text/plain": [
       "0.041577654882540185"
      ]
     },
     "execution_count": 23,
     "metadata": {},
     "output_type": "execute_result"
    }
   ],
   "source": [
    "lr_learner.train_loop(dl)"
   ]
  },
  {
   "cell_type": "code",
   "execution_count": 24,
   "id": "ca410940",
   "metadata": {
    "execution": {
     "iopub.execute_input": "2021-08-28T10:07:05.776135Z",
     "iopub.status.busy": "2021-08-28T10:07:05.775719Z",
     "iopub.status.idle": "2021-08-28T10:07:05.992134Z",
     "shell.execute_reply": "2021-08-28T10:07:05.990883Z"
    },
    "papermill": {
     "duration": 0.264928,
     "end_time": "2021-08-28T10:07:05.992342",
     "exception": false,
     "start_time": "2021-08-28T10:07:05.727414",
     "status": "completed"
    },
    "tags": []
   },
   "outputs": [
    {
     "data": {
      "text/plain": [
       "<matplotlib.legend.Legend at 0x7fced6cf69e8>"
      ]
     },
     "execution_count": 24,
     "metadata": {},
     "output_type": "execute_result"
    },
    {
     "data": {
      "image/png": "[encoded data removed]",
      "text/plain": [
       "<Figure size 1080x720 with 1 Axes>"
      ]
     },
     "metadata": {
      "needs_background": "light"
     },
     "output_type": "display_data"
    }
   ],
   "source": [
    "#comparing the results of NN and LR\n",
    "plt.figure(figsize=(15,10))\n",
    "\n",
    "# Neural Network plots\n",
    "plt.plot(acc_nn.accuracies, 'r-', label = \"Training Accuracies - NN\")\n",
    "plt.plot(acc_nn.test_accuracies, 'g-', label = \"Testing Accuracies - NN\")\n",
    "\n",
    "# Logistic Regression plots\n",
    "plt.plot(acc_lr.accuracies, 'k-', label = \"Training Accuracies - LR\")\n",
    "plt.plot(acc_lr.test_accuracies, 'b-', label = \"Testing Accuracies - LR\")\n",
    "plt.legend()"
   ]
  },
  {
   "cell_type": "markdown",
   "id": "80dfb35c",
   "metadata": {
    "papermill": {
     "duration": 0.039285,
     "end_time": "2021-08-28T10:07:06.075952",
     "exception": false,
     "start_time": "2021-08-28T10:07:06.036667",
     "status": "completed"
    },
    "tags": []
   },
   "source": [
    "#### Plotting the outputs of this layer of the NN.\n"
   ]
  },
  {
   "cell_type": "code",
   "execution_count": 25,
   "id": "45eb2ff5",
   "metadata": {
    "execution": {
     "iopub.execute_input": "2021-08-28T10:07:06.160545Z",
     "iopub.status.busy": "2021-08-28T10:07:06.159243Z",
     "iopub.status.idle": "2021-08-28T10:07:06.178340Z",
     "shell.execute_reply": "2021-08-28T10:07:06.178781Z"
    },
    "papermill": {
     "duration": 0.061586,
     "end_time": "2021-08-28T10:07:06.178910",
     "exception": false,
     "start_time": "2021-08-28T10:07:06.117324",
     "status": "completed"
    },
    "tags": []
   },
   "outputs": [],
   "source": [
    "new_model = Model(layers[:-2])\n",
    "testing_plot = new_model(testing_data_x)"
   ]
  },
  {
   "cell_type": "code",
   "execution_count": 26,
   "id": "4c0a5485",
   "metadata": {
    "execution": {
     "iopub.execute_input": "2021-08-28T10:07:06.276535Z",
     "iopub.status.busy": "2021-08-28T10:07:06.276085Z",
     "iopub.status.idle": "2021-08-28T10:07:06.465123Z",
     "shell.execute_reply": "2021-08-28T10:07:06.465520Z"
    },
    "papermill": {
     "duration": 0.238242,
     "end_time": "2021-08-28T10:07:06.465637",
     "exception": false,
     "start_time": "2021-08-28T10:07:06.227395",
     "status": "completed"
    },
    "tags": []
   },
   "outputs": [
    {
     "data": {
      "text/plain": [
       "Text(0.5, 1.0, 'Outputs')"
      ]
     },
     "execution_count": 26,
     "metadata": {},
     "output_type": "execute_result"
    },
    {
     "data": {
      "image/png": "[encoded data removed]",
      "text/plain": [
       "<Figure size 576x504 with 1 Axes>"
      ]
     },
     "metadata": {
      "needs_background": "light"
     },
     "output_type": "display_data"
    }
   ],
   "source": [
    "# Plotting the scatter plot of points and color coding by class\n",
    "plt.figure(figsize=(8,7))\n",
    "plt.scatter(testing_plot[:,0], testing_plot[:,1], alpha = 0.1, c = y_test.ravel());\n",
    "plt.title('Outputs')"
   ]
  },
  {
   "cell_type": "markdown",
   "id": "a74fcf8f",
   "metadata": {
    "papermill": {
     "duration": 0.038084,
     "end_time": "2021-08-28T10:07:06.543309",
     "exception": false,
     "start_time": "2021-08-28T10:07:06.505225",
     "status": "completed"
    },
    "tags": []
   },
   "source": [
    "Probability contours"
   ]
  },
  {
   "cell_type": "code",
   "execution_count": 27,
   "id": "d0afc8e3",
   "metadata": {
    "execution": {
     "iopub.execute_input": "2021-08-28T10:07:06.626830Z",
     "iopub.status.busy": "2021-08-28T10:07:06.625805Z",
     "iopub.status.idle": "2021-08-28T10:07:06.636719Z",
     "shell.execute_reply": "2021-08-28T10:07:06.636227Z"
    },
    "papermill": {
     "duration": 0.05287,
     "end_time": "2021-08-28T10:07:06.636830",
     "exception": false,
     "start_time": "2021-08-28T10:07:06.583960",
     "status": "completed"
    },
    "tags": []
   },
   "outputs": [],
   "source": [
    "model_prob = Model(layers[-2:]) "
   ]
  },
  {
   "cell_type": "code",
   "execution_count": 28,
   "id": "9b96e238",
   "metadata": {
    "execution": {
     "iopub.execute_input": "2021-08-28T10:07:06.720429Z",
     "iopub.status.busy": "2021-08-28T10:07:06.719897Z",
     "iopub.status.idle": "2021-08-28T10:07:06.732876Z",
     "shell.execute_reply": "2021-08-28T10:07:06.733214Z"
    },
    "papermill": {
     "duration": 0.05597,
     "end_time": "2021-08-28T10:07:06.733320",
     "exception": false,
     "start_time": "2021-08-28T10:07:06.677350",
     "status": "completed"
    },
    "tags": []
   },
   "outputs": [],
   "source": [
    "#creating the x and y ranges according to the above generated plot.\n",
    "x_range = np.linspace(-4, 1, 100) \n",
    "y_range = np.linspace(-6, 6, 100) \n",
    "x_grid, y_grid = np.meshgrid(x_range, y_range) # x_grid and y_grig are of size 100 X 100\n",
    "\n",
    "# converting x_grid and y_grid to continuous arrays\n",
    "x_gridflat = np.ravel(x_grid)\n",
    "y_gridflat = np.ravel(y_grid)\n",
    "\n",
    "# The last layer of the current model takes two columns as input. Hence transpose of np.vstack() is required.\n",
    "X = np.vstack((x_gridflat, y_gridflat)).T\n",
    "\n",
    "prob_contour = model_prob(X).reshape(100,100) "
   ]
  },
  {
   "cell_type": "code",
   "execution_count": 29,
   "id": "da72499a",
   "metadata": {
    "execution": {
     "iopub.execute_input": "2021-08-28T10:07:06.828316Z",
     "iopub.status.busy": "2021-08-28T10:07:06.827770Z",
     "iopub.status.idle": "2021-08-28T10:07:07.077411Z",
     "shell.execute_reply": "2021-08-28T10:07:07.076543Z"
    },
    "papermill": {
     "duration": 0.29808,
     "end_time": "2021-08-28T10:07:07.077602",
     "exception": false,
     "start_time": "2021-08-28T10:07:06.779522",
     "status": "completed"
    },
    "tags": []
   },
   "outputs": [
    {
     "data": {
      "image/png": "[encoded data removed]",
      "text/plain": [
       "<Figure size 720x648 with 1 Axes>"
      ]
     },
     "metadata": {
      "needs_background": "light"
     },
     "output_type": "display_data"
    }
   ],
   "source": [
    "plt.figure(figsize=(10,9))\n",
    "plt.scatter(testing_plot[:,0], testing_plot[:,1], alpha = 0.1, c = y_test.ravel())\n",
    "contours = plt.contour(x_grid,y_grid,prob_contour)\n",
    "plt.title('Probability Contours')\n",
    "plt.clabel(contours, inline = True );"
   ]
  },
  {
   "cell_type": "code",
   "execution_count": null,
   "id": "e81b4ac7",
   "metadata": {
    "papermill": {
     "duration": 0.041775,
     "end_time": "2021-08-28T10:07:07.164975",
     "exception": false,
     "start_time": "2021-08-28T10:07:07.123200",
     "status": "completed"
    },
    "tags": []
   },
   "outputs": [],
   "source": []
  }
 ],
 "metadata": {
  "kernelspec": {
   "display_name": "Python 3",
   "language": "python",
   "name": "python3"
  },
  "language_info": {
   "codemirror_mode": {
    "name": "ipython",
    "version": 3
   },
   "file_extension": ".py",
   "mimetype": "text/x-python",
   "name": "python",
   "nbconvert_exporter": "python",
   "pygments_lexer": "ipython3",
   "version": "3.6.14"
  },
  "papermill": {
   "default_parameters": {},
   "duration": 89.891224,
   "end_time": "2021-08-28T10:07:07.540362",
   "environment_variables": {},
   "exception": null,
   "input_path": "2020-08-11-part2.ipynb",
   "output_path": "2020-08-11-part2.ipynb",
   "parameters": {},
   "start_time": "2021-08-28T10:05:37.649138",
   "version": "2.3.3"
  }
 },
 "nbformat": 4,
 "nbformat_minor": 5
}