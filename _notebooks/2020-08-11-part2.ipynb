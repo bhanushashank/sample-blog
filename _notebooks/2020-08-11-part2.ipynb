{
 "cells": [
  {
   "cell_type": "markdown",
   "id": "98380cd3",
   "metadata": {
    "papermill": {
     "duration": 0.030557,
     "end_time": "2021-09-19T00:21:06.343071",
     "exception": false,
     "start_time": "2021-09-19T00:21:06.312514",
     "status": "completed"
    },
    "tags": []
   },
   "source": [
    "# Distinguish Your Own Digits (DYOD)"
   ]
  },
  {
   "cell_type": "markdown",
   "id": "ef31240d",
   "metadata": {
    "papermill": {
     "duration": 0.024094,
     "end_time": "2021-09-19T00:21:06.394502",
     "exception": false,
     "start_time": "2021-09-19T00:21:06.370408",
     "status": "completed"
    },
    "tags": []
   },
   "source": [
    "You are going to write a classifier that distinguishes between the number 3 and number 8."
   ]
  },
  {
   "cell_type": "code",
   "execution_count": 1,
   "id": "b15c8646",
   "metadata": {
    "execution": {
     "iopub.execute_input": "2021-09-19T00:21:06.458762Z",
     "iopub.status.busy": "2021-09-19T00:21:06.458198Z",
     "iopub.status.idle": "2021-09-19T00:21:06.469704Z",
     "shell.execute_reply": "2021-09-19T00:21:06.468788Z"
    },
    "papermill": {
     "duration": 0.048986,
     "end_time": "2021-09-19T00:21:06.469839",
     "exception": false,
     "start_time": "2021-09-19T00:21:06.420853",
     "status": "completed"
    },
    "tags": []
   },
   "outputs": [],
   "source": [
    "%load_ext autoreload\n",
    "%autoreload 2"
   ]
  },
  {
   "cell_type": "code",
   "execution_count": 2,
   "id": "22ef38dc",
   "metadata": {
    "execution": {
     "iopub.execute_input": "2021-09-19T00:21:06.528298Z",
     "iopub.status.busy": "2021-09-19T00:21:06.527741Z",
     "iopub.status.idle": "2021-09-19T00:21:07.031851Z",
     "shell.execute_reply": "2021-09-19T00:21:07.031250Z"
    },
    "papermill": {
     "duration": 0.534749,
     "end_time": "2021-09-19T00:21:07.032012",
     "exception": false,
     "start_time": "2021-09-19T00:21:06.497263",
     "status": "completed"
    },
    "tags": []
   },
   "outputs": [],
   "source": [
    "%matplotlib inline\n",
    "import numpy as np\n",
    "import matplotlib.pyplot as plt\n",
    "import pandas as pd"
   ]
  },
  {
   "cell_type": "markdown",
   "id": "ba036198",
   "metadata": {
    "papermill": {
     "duration": 0.027892,
     "end_time": "2021-09-19T00:21:07.087131",
     "exception": false,
     "start_time": "2021-09-19T00:21:07.059239",
     "status": "completed"
    },
    "tags": []
   },
   "source": [
    "From the command line run `pip install mnist`. This is a library that will help you bring down the mnist dataset. If you run this from a notebook, you need to put  `!pip install mnist` in a cell by itself."
   ]
  },
  {
   "cell_type": "code",
   "execution_count": 3,
   "id": "bb6ad8a1",
   "metadata": {
    "execution": {
     "iopub.execute_input": "2021-09-19T00:21:07.141007Z",
     "iopub.status.busy": "2021-09-19T00:21:07.140477Z",
     "iopub.status.idle": "2021-09-19T00:21:08.854688Z",
     "shell.execute_reply": "2021-09-19T00:21:08.854204Z"
    },
    "papermill": {
     "duration": 1.74363,
     "end_time": "2021-09-19T00:21:08.854809",
     "exception": false,
     "start_time": "2021-09-19T00:21:07.111179",
     "status": "completed"
    },
    "tags": []
   },
   "outputs": [
    {
     "name": "stdout",
     "output_type": "stream",
     "text": [
      "Collecting mnist\r\n"
     ]
    },
    {
     "name": "stdout",
     "output_type": "stream",
     "text": [
      "  Downloading mnist-0.2.2-py2.py3-none-any.whl (3.5 kB)\r\n",
      "Requirement already satisfied: numpy in /opt/hostedtoolcache/Python/3.6.15/x64/lib/python3.6/site-packages (from mnist) (1.19.5)\r\n"
     ]
    },
    {
     "name": "stdout",
     "output_type": "stream",
     "text": [
      "Installing collected packages: mnist\r\n",
      "Successfully installed mnist-0.2.2\r\n"
     ]
    }
   ],
   "source": [
    "!pip install mnist"
   ]
  },
  {
   "cell_type": "markdown",
   "id": "69df9c9a",
   "metadata": {
    "papermill": {
     "duration": 0.027421,
     "end_time": "2021-09-19T00:21:08.909285",
     "exception": false,
     "start_time": "2021-09-19T00:21:08.881864",
     "status": "completed"
    },
    "tags": []
   },
   "source": [
    "## Preparing the Data"
   ]
  },
  {
   "cell_type": "code",
   "execution_count": 4,
   "id": "7f69d806",
   "metadata": {
    "execution": {
     "iopub.execute_input": "2021-09-19T00:21:08.965930Z",
     "iopub.status.busy": "2021-09-19T00:21:08.965173Z",
     "iopub.status.idle": "2021-09-19T00:21:08.978329Z",
     "shell.execute_reply": "2021-09-19T00:21:08.978856Z"
    },
    "papermill": {
     "duration": 0.043887,
     "end_time": "2021-09-19T00:21:08.979060",
     "exception": false,
     "start_time": "2021-09-19T00:21:08.935173",
     "status": "completed"
    },
    "tags": []
   },
   "outputs": [],
   "source": [
    "import mnist"
   ]
  },
  {
   "cell_type": "code",
   "execution_count": 5,
   "id": "a411e44f",
   "metadata": {
    "execution": {
     "iopub.execute_input": "2021-09-19T00:21:09.040162Z",
     "iopub.status.busy": "2021-09-19T00:21:09.039512Z",
     "iopub.status.idle": "2021-09-19T00:21:09.559732Z",
     "shell.execute_reply": "2021-09-19T00:21:09.559200Z"
    },
    "papermill": {
     "duration": 0.552902,
     "end_time": "2021-09-19T00:21:09.559898",
     "exception": false,
     "start_time": "2021-09-19T00:21:09.006996",
     "status": "completed"
    },
    "tags": []
   },
   "outputs": [],
   "source": [
    "train_images = mnist.train_images()\n",
    "train_labels = mnist.train_labels()"
   ]
  },
  {
   "cell_type": "code",
   "execution_count": 6,
   "id": "dceab3a5",
   "metadata": {
    "execution": {
     "iopub.execute_input": "2021-09-19T00:21:09.620714Z",
     "iopub.status.busy": "2021-09-19T00:21:09.619012Z",
     "iopub.status.idle": "2021-09-19T00:21:09.633546Z",
     "shell.execute_reply": "2021-09-19T00:21:09.633103Z"
    },
    "papermill": {
     "duration": 0.04406,
     "end_time": "2021-09-19T00:21:09.633651",
     "exception": false,
     "start_time": "2021-09-19T00:21:09.589591",
     "status": "completed"
    },
    "tags": []
   },
   "outputs": [
    {
     "data": {
      "text/plain": [
       "((60000, 28, 28), (60000,))"
      ]
     },
     "execution_count": 6,
     "metadata": {},
     "output_type": "execute_result"
    }
   ],
   "source": [
    "train_images.shape, train_labels.shape"
   ]
  },
  {
   "cell_type": "code",
   "execution_count": 7,
   "id": "f50dc2bb",
   "metadata": {
    "execution": {
     "iopub.execute_input": "2021-09-19T00:21:09.692262Z",
     "iopub.status.busy": "2021-09-19T00:21:09.691500Z",
     "iopub.status.idle": "2021-09-19T00:21:09.872320Z",
     "shell.execute_reply": "2021-09-19T00:21:09.872827Z"
    },
    "papermill": {
     "duration": 0.21303,
     "end_time": "2021-09-19T00:21:09.873005",
     "exception": false,
     "start_time": "2021-09-19T00:21:09.659975",
     "status": "completed"
    },
    "tags": []
   },
   "outputs": [],
   "source": [
    "test_images = mnist.test_images()\n",
    "test_labels = mnist.test_labels()"
   ]
  },
  {
   "cell_type": "code",
   "execution_count": 8,
   "id": "fc38cf1b",
   "metadata": {
    "execution": {
     "iopub.execute_input": "2021-09-19T00:21:09.933755Z",
     "iopub.status.busy": "2021-09-19T00:21:09.932886Z",
     "iopub.status.idle": "2021-09-19T00:21:09.949938Z",
     "shell.execute_reply": "2021-09-19T00:21:09.950789Z"
    },
    "papermill": {
     "duration": 0.047711,
     "end_time": "2021-09-19T00:21:09.950934",
     "exception": false,
     "start_time": "2021-09-19T00:21:09.903223",
     "status": "completed"
    },
    "tags": []
   },
   "outputs": [
    {
     "data": {
      "text/plain": [
       "((10000, 28, 28), (10000,))"
      ]
     },
     "execution_count": 8,
     "metadata": {},
     "output_type": "execute_result"
    }
   ],
   "source": [
    "test_images.shape, test_labels.shape"
   ]
  },
  {
   "cell_type": "code",
   "execution_count": 9,
   "id": "f9ed8fe0",
   "metadata": {
    "execution": {
     "iopub.execute_input": "2021-09-19T00:21:10.011669Z",
     "iopub.status.busy": "2021-09-19T00:21:10.010940Z",
     "iopub.status.idle": "2021-09-19T00:21:10.193913Z",
     "shell.execute_reply": "2021-09-19T00:21:10.193461Z"
    },
    "papermill": {
     "duration": 0.213594,
     "end_time": "2021-09-19T00:21:10.194031",
     "exception": false,
     "start_time": "2021-09-19T00:21:09.980437",
     "status": "completed"
    },
    "tags": []
   },
   "outputs": [
    {
     "name": "stdout",
     "output_type": "stream",
     "text": [
      "2\n"
     ]
    },
    {
     "data": {
      "text/plain": [
       "<matplotlib.image.AxesImage at 0x7f5fc6596828>"
      ]
     },
     "execution_count": 9,
     "metadata": {},
     "output_type": "execute_result"
    },
    {
     "data": {
      "image/png": "[encoded data removed]",
      "text/plain": [
       "<Figure size 432x288 with 1 Axes>"
      ]
     },
     "metadata": {
      "needs_background": "light"
     },
     "output_type": "display_data"
    }
   ],
   "source": [
    "image_index = 7776 # You may select anything up to 60,000\n",
    "print(train_labels[image_index]) \n",
    "plt.imshow(train_images[image_index], cmap='Greys')"
   ]
  },
  {
   "cell_type": "markdown",
   "id": "a8d2388d",
   "metadata": {
    "papermill": {
     "duration": 0.027899,
     "end_time": "2021-09-19T00:21:10.248806",
     "exception": false,
     "start_time": "2021-09-19T00:21:10.220907",
     "status": "completed"
    },
    "tags": []
   },
   "source": [
    "## Filter data to get 3 and 8 out"
   ]
  },
  {
   "cell_type": "code",
   "execution_count": 10,
   "id": "776f7fc7",
   "metadata": {
    "execution": {
     "iopub.execute_input": "2021-09-19T00:21:10.310307Z",
     "iopub.status.busy": "2021-09-19T00:21:10.309752Z",
     "iopub.status.idle": "2021-09-19T00:21:10.328667Z",
     "shell.execute_reply": "2021-09-19T00:21:10.329130Z"
    },
    "papermill": {
     "duration": 0.051392,
     "end_time": "2021-09-19T00:21:10.329257",
     "exception": false,
     "start_time": "2021-09-19T00:21:10.277865",
     "status": "completed"
    },
    "tags": []
   },
   "outputs": [],
   "source": [
    "train_filter = np.where((train_labels == 3 ) | (train_labels == 8))\n",
    "test_filter = np.where((test_labels == 3) | (test_labels == 8))\n",
    "X_train, y_train = train_images[train_filter], train_labels[train_filter]\n",
    "X_test, y_test = test_images[test_filter], test_labels[test_filter]"
   ]
  },
  {
   "cell_type": "markdown",
   "id": "948f0b7e",
   "metadata": {
    "papermill": {
     "duration": 0.030197,
     "end_time": "2021-09-19T00:21:10.392493",
     "exception": false,
     "start_time": "2021-09-19T00:21:10.362296",
     "status": "completed"
    },
    "tags": []
   },
   "source": [
    "We normalize the pizel values in the 0 to 1 range"
   ]
  },
  {
   "cell_type": "code",
   "execution_count": 11,
   "id": "ee4c2166",
   "metadata": {
    "execution": {
     "iopub.execute_input": "2021-09-19T00:21:10.452227Z",
     "iopub.status.busy": "2021-09-19T00:21:10.451678Z",
     "iopub.status.idle": "2021-09-19T00:21:10.516073Z",
     "shell.execute_reply": "2021-09-19T00:21:10.515561Z"
    },
    "papermill": {
     "duration": 0.096294,
     "end_time": "2021-09-19T00:21:10.516203",
     "exception": false,
     "start_time": "2021-09-19T00:21:10.419909",
     "status": "completed"
    },
    "tags": []
   },
   "outputs": [],
   "source": [
    "X_train = X_train/255.\n",
    "X_test = X_test/255."
   ]
  },
  {
   "cell_type": "markdown",
   "id": "ddcf4fab",
   "metadata": {
    "papermill": {
     "duration": 0.033009,
     "end_time": "2021-09-19T00:21:10.581151",
     "exception": false,
     "start_time": "2021-09-19T00:21:10.548142",
     "status": "completed"
    },
    "tags": []
   },
   "source": [
    "And setup the labels as 1 (when the digit is 3) and 0 (when the digit is 8)"
   ]
  },
  {
   "cell_type": "code",
   "execution_count": 12,
   "id": "7dc908f2",
   "metadata": {
    "execution": {
     "iopub.execute_input": "2021-09-19T00:21:10.652641Z",
     "iopub.status.busy": "2021-09-19T00:21:10.652116Z",
     "iopub.status.idle": "2021-09-19T00:21:10.658932Z",
     "shell.execute_reply": "2021-09-19T00:21:10.658440Z"
    },
    "papermill": {
     "duration": 0.049817,
     "end_time": "2021-09-19T00:21:10.659037",
     "exception": false,
     "start_time": "2021-09-19T00:21:10.609220",
     "status": "completed"
    },
    "tags": []
   },
   "outputs": [],
   "source": [
    "y_train = 1*(y_train==3)\n",
    "y_test = 1*(y_test==3)"
   ]
  },
  {
   "cell_type": "code",
   "execution_count": 13,
   "id": "01e4e969",
   "metadata": {
    "execution": {
     "iopub.execute_input": "2021-09-19T00:21:10.721207Z",
     "iopub.status.busy": "2021-09-19T00:21:10.717108Z",
     "iopub.status.idle": "2021-09-19T00:21:10.731634Z",
     "shell.execute_reply": "2021-09-19T00:21:10.732113Z"
    },
    "papermill": {
     "duration": 0.046122,
     "end_time": "2021-09-19T00:21:10.732256",
     "exception": false,
     "start_time": "2021-09-19T00:21:10.686134",
     "status": "completed"
    },
    "tags": []
   },
   "outputs": [
    {
     "data": {
      "text/plain": [
       "((11982, 28, 28), (1984, 28, 28))"
      ]
     },
     "execution_count": 13,
     "metadata": {},
     "output_type": "execute_result"
    }
   ],
   "source": [
    "X_train.shape, X_test.shape"
   ]
  },
  {
   "cell_type": "markdown",
   "id": "5ccf3f85",
   "metadata": {
    "papermill": {
     "duration": 0.030537,
     "end_time": "2021-09-19T00:21:10.790374",
     "exception": false,
     "start_time": "2021-09-19T00:21:10.759837",
     "status": "completed"
    },
    "tags": []
   },
   "source": [
    "We reshape the data to flatten the image pixels into a set of features or co-variates:"
   ]
  },
  {
   "cell_type": "code",
   "execution_count": 14,
   "id": "5286a4a3",
   "metadata": {
    "execution": {
     "iopub.execute_input": "2021-09-19T00:21:10.851985Z",
     "iopub.status.busy": "2021-09-19T00:21:10.851244Z",
     "iopub.status.idle": "2021-09-19T00:21:10.864153Z",
     "shell.execute_reply": "2021-09-19T00:21:10.863707Z"
    },
    "papermill": {
     "duration": 0.044795,
     "end_time": "2021-09-19T00:21:10.864257",
     "exception": false,
     "start_time": "2021-09-19T00:21:10.819462",
     "status": "completed"
    },
    "tags": []
   },
   "outputs": [
    {
     "data": {
      "text/plain": [
       "((11982, 784), (1984, 784))"
      ]
     },
     "execution_count": 14,
     "metadata": {},
     "output_type": "execute_result"
    }
   ],
   "source": [
    "X_train = X_train.reshape(X_train.shape[0], -1)\n",
    "X_test = X_test.reshape(X_test.shape[0], -1)\n",
    "X_train.shape, X_test.shape"
   ]
  },
  {
   "cell_type": "code",
   "execution_count": 15,
   "id": "73c5f88a",
   "metadata": {
    "execution": {
     "iopub.execute_input": "2021-09-19T00:21:10.925413Z",
     "iopub.status.busy": "2021-09-19T00:21:10.924877Z",
     "iopub.status.idle": "2021-09-19T00:21:10.945169Z",
     "shell.execute_reply": "2021-09-19T00:21:10.944724Z"
    },
    "papermill": {
     "duration": 0.052108,
     "end_time": "2021-09-19T00:21:10.945272",
     "exception": false,
     "start_time": "2021-09-19T00:21:10.893164",
     "status": "completed"
    },
    "tags": []
   },
   "outputs": [],
   "source": [
    "#Impoting functions from 'Kudzu'\n",
    "from kudzu.model import Model\n",
    "from kudzu.train import Learner\n",
    "from kudzu.optim import GD\n",
    "from kudzu.data import Data, Sampler,Dataloader\n",
    "\n",
    "from kudzu.callbacks import AccCallback\n",
    "from kudzu.callbacks import ClfCallback\n",
    "\n",
    "from kudzu.loss import MSE\n",
    "\n",
    "from kudzu.layer import Sigmoid,Relu\n",
    "from kudzu.layer import Affine"
   ]
  },
  {
   "cell_type": "markdown",
   "id": "bc01172a",
   "metadata": {
    "papermill": {
     "duration": 0.028555,
     "end_time": "2021-09-19T00:21:11.002216",
     "exception": false,
     "start_time": "2021-09-19T00:21:10.973661",
     "status": "completed"
    },
    "tags": []
   },
   "source": [
    "### Let us create a `Config` class, to store important parameters. \n",
    "This class essentially plays the role of a dictionary."
   ]
  },
  {
   "cell_type": "code",
   "execution_count": 16,
   "id": "978281aa",
   "metadata": {
    "execution": {
     "iopub.execute_input": "2021-09-19T00:21:11.068168Z",
     "iopub.status.busy": "2021-09-19T00:21:11.067473Z",
     "iopub.status.idle": "2021-09-19T00:21:11.080633Z",
     "shell.execute_reply": "2021-09-19T00:21:11.079973Z"
    },
    "papermill": {
     "duration": 0.050806,
     "end_time": "2021-09-19T00:21:11.080807",
     "exception": false,
     "start_time": "2021-09-19T00:21:11.030001",
     "status": "completed"
    },
    "tags": []
   },
   "outputs": [],
   "source": [
    "class Config:\n",
    "    pass\n",
    "config = Config()\n",
    "config.lr = 0.001\n",
    "config.num_epochs = 250\n",
    "config.bs = 50"
   ]
  },
  {
   "cell_type": "markdown",
   "id": "1385fa59",
   "metadata": {
    "papermill": {
     "duration": 0.032104,
     "end_time": "2021-09-19T00:21:11.145405",
     "exception": false,
     "start_time": "2021-09-19T00:21:11.113301",
     "status": "completed"
    },
    "tags": []
   },
   "source": [
    "### Running Models with the Training data\n",
    "Details about the network layers:\n",
    "- A first affine layer has 784 inputs and does 100 affine transforms. These are followed by a Relu\n",
    "- A second affine layer has 100 inputs from the 100 activations of the past layer, and does 100 affine transforms. These are followed by a Relu\n",
    "- A third affine layer has 100 activations and does 2 affine transformations to create an embedding for visualization. There is no non-linearity here.\n",
    "- A final \"logistic regression\" which has an affine transform from 2 inputs to 1 output, which is squeezed through a sigmoid.\n"
   ]
  },
  {
   "cell_type": "code",
   "execution_count": 17,
   "id": "2b9c66db",
   "metadata": {
    "execution": {
     "iopub.execute_input": "2021-09-19T00:21:11.208063Z",
     "iopub.status.busy": "2021-09-19T00:21:11.207524Z",
     "iopub.status.idle": "2021-09-19T00:21:11.220371Z",
     "shell.execute_reply": "2021-09-19T00:21:11.219831Z"
    },
    "papermill": {
     "duration": 0.047678,
     "end_time": "2021-09-19T00:21:11.220505",
     "exception": false,
     "start_time": "2021-09-19T00:21:11.172827",
     "status": "completed"
    },
    "tags": []
   },
   "outputs": [],
   "source": [
    "data = Data(X_train, y_train.reshape(-1,1))\n",
    "sampler = Sampler(data, config.bs, shuffle=True)\n",
    "\n",
    "dl = Dataloader(data, sampler)\n",
    "\n",
    "opt = GD(config.lr)\n",
    "loss = MSE()"
   ]
  },
  {
   "cell_type": "code",
   "execution_count": 18,
   "id": "b275e4c2",
   "metadata": {
    "execution": {
     "iopub.execute_input": "2021-09-19T00:21:11.281270Z",
     "iopub.status.busy": "2021-09-19T00:21:11.280559Z",
     "iopub.status.idle": "2021-09-19T00:21:11.294692Z",
     "shell.execute_reply": "2021-09-19T00:21:11.295301Z"
    },
    "papermill": {
     "duration": 0.047497,
     "end_time": "2021-09-19T00:21:11.295466",
     "exception": false,
     "start_time": "2021-09-19T00:21:11.247969",
     "status": "completed"
    },
    "tags": []
   },
   "outputs": [],
   "source": [
    "training_data_x = X_train\n",
    "testing_data_x = X_test\n",
    "training_data_y = y_train.reshape(-1,1)\n",
    "testing_data_y = y_test.reshape(-1,1)"
   ]
  },
  {
   "cell_type": "code",
   "execution_count": 19,
   "id": "76951160",
   "metadata": {
    "execution": {
     "iopub.execute_input": "2021-09-19T00:21:11.357588Z",
     "iopub.status.busy": "2021-09-19T00:21:11.357042Z",
     "iopub.status.idle": "2021-09-19T00:21:11.370997Z",
     "shell.execute_reply": "2021-09-19T00:21:11.371472Z"
    },
    "papermill": {
     "duration": 0.049527,
     "end_time": "2021-09-19T00:21:11.371585",
     "exception": false,
     "start_time": "2021-09-19T00:21:11.322058",
     "status": "completed"
    },
    "tags": []
   },
   "outputs": [
    {
     "name": "stdout",
     "output_type": "stream",
     "text": [
      "xavier\n",
      "xavier\n",
      "xavier\n",
      "xavier\n",
      "xavier\n"
     ]
    }
   ],
   "source": [
    "layers = [Affine(\"first\", 784, 100), Relu(\"first\"), Affine(\"second\", 100, 100), Relu(\"second\"), Affine(\"third\", 100, 2), Affine(\"last\", 2, 1), Sigmoid(\"last\")]\n",
    "model_nn = Model(layers)\n",
    "model_lr = Model([Affine(\"logits\", 784, 1), Sigmoid(\"sigmoid\")])"
   ]
  },
  {
   "cell_type": "code",
   "execution_count": 20,
   "id": "6eede77a",
   "metadata": {
    "execution": {
     "iopub.execute_input": "2021-09-19T00:21:11.437031Z",
     "iopub.status.busy": "2021-09-19T00:21:11.436314Z",
     "iopub.status.idle": "2021-09-19T00:21:11.447151Z",
     "shell.execute_reply": "2021-09-19T00:21:11.446456Z"
    },
    "papermill": {
     "duration": 0.043673,
     "end_time": "2021-09-19T00:21:11.447254",
     "exception": false,
     "start_time": "2021-09-19T00:21:11.403581",
     "status": "completed"
    },
    "tags": []
   },
   "outputs": [],
   "source": [
    "nn_learner = Learner(loss, model_nn, opt, config.num_epochs)\n",
    "acc_nn = ClfCallback(nn_learner, config.bs, training_data_x , testing_data_x, training_data_y, testing_data_y)\n",
    "nn_learner.set_callbacks([acc_nn])"
   ]
  },
  {
   "cell_type": "code",
   "execution_count": 21,
   "id": "877b6cc7",
   "metadata": {
    "execution": {
     "iopub.execute_input": "2021-09-19T00:21:11.510200Z",
     "iopub.status.busy": "2021-09-19T00:21:11.509678Z",
     "iopub.status.idle": "2021-09-19T00:21:11.520363Z",
     "shell.execute_reply": "2021-09-19T00:21:11.520851Z"
    },
    "papermill": {
     "duration": 0.044759,
     "end_time": "2021-09-19T00:21:11.520967",
     "exception": false,
     "start_time": "2021-09-19T00:21:11.476208",
     "status": "completed"
    },
    "tags": []
   },
   "outputs": [],
   "source": [
    "lr_learner = Learner(loss, model_lr, opt, config.num_epochs)\n",
    "acc_lr = ClfCallback(lr_learner, config.bs, training_data_x , testing_data_x, training_data_y, testing_data_y)\n",
    "lr_learner.set_callbacks([acc_lr])"
   ]
  },
  {
   "cell_type": "code",
   "execution_count": 22,
   "id": "d9b133c3",
   "metadata": {
    "execution": {
     "iopub.execute_input": "2021-09-19T00:21:11.585974Z",
     "iopub.status.busy": "2021-09-19T00:21:11.585407Z",
     "iopub.status.idle": "2021-09-19T00:23:21.979321Z",
     "shell.execute_reply": "2021-09-19T00:23:21.980110Z"
    },
    "papermill": {
     "duration": 130.429148,
     "end_time": "2021-09-19T00:23:21.980250",
     "exception": false,
     "start_time": "2021-09-19T00:21:11.551102",
     "status": "completed"
    },
    "tags": []
   },
   "outputs": [
    {
     "name": "stdout",
     "output_type": "stream",
     "text": [
      "Epoch 0, Loss 0.2143\n",
      "Training Accuracy: 0.8281, Testing Accuracy: 0.8342\n",
      "\n"
     ]
    },
    {
     "name": "stdout",
     "output_type": "stream",
     "text": [
      "Epoch 10, Loss 0.0603\n",
      "Training Accuracy: 0.9384, Testing Accuracy: 0.9511\n",
      "\n"
     ]
    },
    {
     "name": "stdout",
     "output_type": "stream",
     "text": [
      "Epoch 20, Loss 0.0435\n",
      "Training Accuracy: 0.9523, Testing Accuracy: 0.9627\n",
      "\n"
     ]
    },
    {
     "name": "stdout",
     "output_type": "stream",
     "text": [
      "Epoch 30, Loss 0.0367\n",
      "Training Accuracy: 0.9586, Testing Accuracy: 0.9667\n",
      "\n"
     ]
    },
    {
     "name": "stdout",
     "output_type": "stream",
     "text": [
      "Epoch 40, Loss 0.0328\n",
      "Training Accuracy: 0.9623, Testing Accuracy: 0.9703\n",
      "\n"
     ]
    },
    {
     "name": "stdout",
     "output_type": "stream",
     "text": [
      "Epoch 50, Loss 0.0303\n",
      "Training Accuracy: 0.9659, Testing Accuracy: 0.9698\n",
      "\n"
     ]
    },
    {
     "name": "stdout",
     "output_type": "stream",
     "text": [
      "Epoch 60, Loss 0.0284\n",
      "Training Accuracy: 0.9683, Testing Accuracy: 0.9703\n",
      "\n"
     ]
    },
    {
     "name": "stdout",
     "output_type": "stream",
     "text": [
      "Epoch 70, Loss 0.0269\n",
      "Training Accuracy: 0.9701, Testing Accuracy: 0.9703\n",
      "\n"
     ]
    },
    {
     "name": "stdout",
     "output_type": "stream",
     "text": [
      "Epoch 80, Loss 0.0257\n",
      "Training Accuracy: 0.9714, Testing Accuracy: 0.9718\n",
      "\n"
     ]
    },
    {
     "name": "stdout",
     "output_type": "stream",
     "text": [
      "Epoch 90, Loss 0.0247\n",
      "Training Accuracy: 0.9724, Testing Accuracy: 0.9728\n",
      "\n"
     ]
    },
    {
     "name": "stdout",
     "output_type": "stream",
     "text": [
      "Epoch 100, Loss 0.0238\n",
      "Training Accuracy: 0.9733, Testing Accuracy: 0.9738\n",
      "\n"
     ]
    },
    {
     "name": "stdout",
     "output_type": "stream",
     "text": [
      "Epoch 110, Loss 0.023\n",
      "Training Accuracy: 0.9736, Testing Accuracy: 0.9743\n",
      "\n"
     ]
    },
    {
     "name": "stdout",
     "output_type": "stream",
     "text": [
      "Epoch 120, Loss 0.0222\n",
      "Training Accuracy: 0.9745, Testing Accuracy: 0.9738\n",
      "\n"
     ]
    },
    {
     "name": "stdout",
     "output_type": "stream",
     "text": [
      "Epoch 130, Loss 0.0216\n",
      "Training Accuracy: 0.9755, Testing Accuracy: 0.9738\n",
      "\n"
     ]
    },
    {
     "name": "stdout",
     "output_type": "stream",
     "text": [
      "Epoch 140, Loss 0.021\n",
      "Training Accuracy: 0.9761, Testing Accuracy: 0.9743\n",
      "\n"
     ]
    },
    {
     "name": "stdout",
     "output_type": "stream",
     "text": [
      "Epoch 150, Loss 0.0204\n",
      "Training Accuracy: 0.9769, Testing Accuracy: 0.9743\n",
      "\n"
     ]
    },
    {
     "name": "stdout",
     "output_type": "stream",
     "text": [
      "Epoch 160, Loss 0.0198\n",
      "Training Accuracy: 0.9775, Testing Accuracy: 0.9743\n",
      "\n"
     ]
    },
    {
     "name": "stdout",
     "output_type": "stream",
     "text": [
      "Epoch 170, Loss 0.0193\n",
      "Training Accuracy: 0.9780, Testing Accuracy: 0.9743\n",
      "\n"
     ]
    },
    {
     "name": "stdout",
     "output_type": "stream",
     "text": [
      "Epoch 180, Loss 0.0188\n",
      "Training Accuracy: 0.9786, Testing Accuracy: 0.9748\n",
      "\n"
     ]
    },
    {
     "name": "stdout",
     "output_type": "stream",
     "text": [
      "Epoch 190, Loss 0.0182\n",
      "Training Accuracy: 0.9796, Testing Accuracy: 0.9748\n",
      "\n"
     ]
    },
    {
     "name": "stdout",
     "output_type": "stream",
     "text": [
      "Epoch 200, Loss 0.0178\n",
      "Training Accuracy: 0.9804, Testing Accuracy: 0.9743\n",
      "\n"
     ]
    },
    {
     "name": "stdout",
     "output_type": "stream",
     "text": [
      "Epoch 210, Loss 0.0173\n",
      "Training Accuracy: 0.9808, Testing Accuracy: 0.9748\n",
      "\n"
     ]
    },
    {
     "name": "stdout",
     "output_type": "stream",
     "text": [
      "Epoch 220, Loss 0.0169\n",
      "Training Accuracy: 0.9816, Testing Accuracy: 0.9748\n",
      "\n"
     ]
    },
    {
     "name": "stdout",
     "output_type": "stream",
     "text": [
      "Epoch 230, Loss 0.0165\n",
      "Training Accuracy: 0.9819, Testing Accuracy: 0.9743\n",
      "\n"
     ]
    },
    {
     "name": "stdout",
     "output_type": "stream",
     "text": [
      "Epoch 240, Loss 0.0161\n",
      "Training Accuracy: 0.9827, Testing Accuracy: 0.9748\n",
      "\n"
     ]
    },
    {
     "data": {
      "text/plain": [
       "0.005946652056766153"
      ]
     },
     "execution_count": 22,
     "metadata": {},
     "output_type": "execute_result"
    }
   ],
   "source": [
    "nn_learner.train_loop(dl)"
   ]
  },
  {
   "cell_type": "code",
   "execution_count": 23,
   "id": "e0163366",
   "metadata": {
    "execution": {
     "iopub.execute_input": "2021-09-19T00:23:22.064157Z",
     "iopub.status.busy": "2021-09-19T00:23:22.063565Z",
     "iopub.status.idle": "2021-09-19T00:23:40.385238Z",
     "shell.execute_reply": "2021-09-19T00:23:40.385919Z"
    },
    "papermill": {
     "duration": 18.366405,
     "end_time": "2021-09-19T00:23:40.386058",
     "exception": false,
     "start_time": "2021-09-19T00:23:22.019653",
     "status": "completed"
    },
    "tags": []
   },
   "outputs": [
    {
     "name": "stdout",
     "output_type": "stream",
     "text": [
      "Epoch 0, Loss 0.2276\n",
      "Training Accuracy: 0.7490, Testing Accuracy: 0.7606\n",
      "\n"
     ]
    },
    {
     "name": "stdout",
     "output_type": "stream",
     "text": [
      "Epoch 10, Loss 0.1015\n",
      "Training Accuracy: 0.9111, Testing Accuracy: 0.9168\n",
      "\n"
     ]
    },
    {
     "name": "stdout",
     "output_type": "stream",
     "text": [
      "Epoch 20, Loss 0.0791\n",
      "Training Accuracy: 0.9274, Testing Accuracy: 0.9355\n",
      "\n"
     ]
    },
    {
     "name": "stdout",
     "output_type": "stream",
     "text": [
      "Epoch 30, Loss 0.0684\n",
      "Training Accuracy: 0.9367, Testing Accuracy: 0.9451\n",
      "\n"
     ]
    },
    {
     "name": "stdout",
     "output_type": "stream",
     "text": [
      "Epoch 40, Loss 0.0619\n",
      "Training Accuracy: 0.9418, Testing Accuracy: 0.9511\n",
      "\n"
     ]
    },
    {
     "name": "stdout",
     "output_type": "stream",
     "text": [
      "Epoch 50, Loss 0.0573\n",
      "Training Accuracy: 0.9452, Testing Accuracy: 0.9536\n",
      "\n"
     ]
    },
    {
     "name": "stdout",
     "output_type": "stream",
     "text": [
      "Epoch 60, Loss 0.054\n",
      "Training Accuracy: 0.9483, Testing Accuracy: 0.9556\n",
      "\n"
     ]
    },
    {
     "name": "stdout",
     "output_type": "stream",
     "text": [
      "Epoch 70, Loss 0.0514\n",
      "Training Accuracy: 0.9498, Testing Accuracy: 0.9582\n",
      "\n"
     ]
    },
    {
     "name": "stdout",
     "output_type": "stream",
     "text": [
      "Epoch 80, Loss 0.0493\n",
      "Training Accuracy: 0.9513, Testing Accuracy: 0.9592\n",
      "\n"
     ]
    },
    {
     "name": "stdout",
     "output_type": "stream",
     "text": [
      "Epoch 90, Loss 0.0476\n",
      "Training Accuracy: 0.9524, Testing Accuracy: 0.9622\n",
      "\n"
     ]
    },
    {
     "name": "stdout",
     "output_type": "stream",
     "text": [
      "Epoch 100, Loss 0.0462\n",
      "Training Accuracy: 0.9528, Testing Accuracy: 0.9612\n",
      "\n"
     ]
    },
    {
     "name": "stdout",
     "output_type": "stream",
     "text": [
      "Epoch 110, Loss 0.0449\n",
      "Training Accuracy: 0.9538, Testing Accuracy: 0.9622\n",
      "\n"
     ]
    },
    {
     "name": "stdout",
     "output_type": "stream",
     "text": [
      "Epoch 120, Loss 0.0438\n",
      "Training Accuracy: 0.9547, Testing Accuracy: 0.9632\n",
      "\n"
     ]
    },
    {
     "name": "stdout",
     "output_type": "stream",
     "text": [
      "Epoch 130, Loss 0.0429\n",
      "Training Accuracy: 0.9550, Testing Accuracy: 0.9632\n",
      "\n"
     ]
    },
    {
     "name": "stdout",
     "output_type": "stream",
     "text": [
      "Epoch 140, Loss 0.042\n",
      "Training Accuracy: 0.9555, Testing Accuracy: 0.9647\n",
      "\n"
     ]
    },
    {
     "name": "stdout",
     "output_type": "stream",
     "text": [
      "Epoch 150, Loss 0.0413\n",
      "Training Accuracy: 0.9559, Testing Accuracy: 0.9647\n",
      "\n"
     ]
    },
    {
     "name": "stdout",
     "output_type": "stream",
     "text": [
      "Epoch 160, Loss 0.0406\n",
      "Training Accuracy: 0.9565, Testing Accuracy: 0.9657\n",
      "\n"
     ]
    },
    {
     "name": "stdout",
     "output_type": "stream",
     "text": [
      "Epoch 170, Loss 0.04\n",
      "Training Accuracy: 0.9571, Testing Accuracy: 0.9657\n",
      "\n"
     ]
    },
    {
     "name": "stdout",
     "output_type": "stream",
     "text": [
      "Epoch 180, Loss 0.0394\n",
      "Training Accuracy: 0.9577, Testing Accuracy: 0.9667\n",
      "\n"
     ]
    },
    {
     "name": "stdout",
     "output_type": "stream",
     "text": [
      "Epoch 190, Loss 0.0389\n",
      "Training Accuracy: 0.9581, Testing Accuracy: 0.9672\n",
      "\n"
     ]
    },
    {
     "name": "stdout",
     "output_type": "stream",
     "text": [
      "Epoch 200, Loss 0.0384\n",
      "Training Accuracy: 0.9585, Testing Accuracy: 0.9672\n",
      "\n"
     ]
    },
    {
     "name": "stdout",
     "output_type": "stream",
     "text": [
      "Epoch 210, Loss 0.038\n",
      "Training Accuracy: 0.9590, Testing Accuracy: 0.9672\n",
      "\n"
     ]
    },
    {
     "name": "stdout",
     "output_type": "stream",
     "text": [
      "Epoch 220, Loss 0.0375\n",
      "Training Accuracy: 0.9593, Testing Accuracy: 0.9677\n",
      "\n"
     ]
    },
    {
     "name": "stdout",
     "output_type": "stream",
     "text": [
      "Epoch 230, Loss 0.0372\n",
      "Training Accuracy: 0.9597, Testing Accuracy: 0.9677\n",
      "\n"
     ]
    },
    {
     "name": "stdout",
     "output_type": "stream",
     "text": [
      "Epoch 240, Loss 0.0368\n",
      "Training Accuracy: 0.9602, Testing Accuracy: 0.9682\n",
      "\n"
     ]
    },
    {
     "data": {
      "text/plain": [
       "0.037386764263554376"
      ]
     },
     "execution_count": 23,
     "metadata": {},
     "output_type": "execute_result"
    }
   ],
   "source": [
    "lr_learner.train_loop(dl)"
   ]
  },
  {
   "cell_type": "code",
   "execution_count": 24,
   "id": "ca410940",
   "metadata": {
    "execution": {
     "iopub.execute_input": "2021-09-19T00:23:40.477564Z",
     "iopub.status.busy": "2021-09-19T00:23:40.476824Z",
     "iopub.status.idle": "2021-09-19T00:23:40.732184Z",
     "shell.execute_reply": "2021-09-19T00:23:40.731427Z"
    },
    "papermill": {
     "duration": 0.304075,
     "end_time": "2021-09-19T00:23:40.732309",
     "exception": false,
     "start_time": "2021-09-19T00:23:40.428234",
     "status": "completed"
    },
    "tags": []
   },
   "outputs": [
    {
     "data": {
      "text/plain": [
       "<matplotlib.legend.Legend at 0x7f5fc6118978>"
      ]
     },
     "execution_count": 24,
     "metadata": {},
     "output_type": "execute_result"
    },
    {
     "data": {
      "image/png": "[encoded data removed]",
      "text/plain": [
       "<Figure size 1080x720 with 1 Axes>"
      ]
     },
     "metadata": {
      "needs_background": "light"
     },
     "output_type": "display_data"
    }
   ],
   "source": [
    "#comparing the results of NN and LR\n",
    "plt.figure(figsize=(15,10))\n",
    "\n",
    "# Neural Network plots\n",
    "plt.plot(acc_nn.accuracies, 'r-', label = \"Training Accuracies - NN\")\n",
    "plt.plot(acc_nn.test_accuracies, 'g-', label = \"Testing Accuracies - NN\")\n",
    "\n",
    "# Logistic Regression plots\n",
    "plt.plot(acc_lr.accuracies, 'k-', label = \"Training Accuracies - LR\")\n",
    "plt.plot(acc_lr.test_accuracies, 'b-', label = \"Testing Accuracies - LR\")\n",
    "plt.legend()"
   ]
  },
  {
   "cell_type": "markdown",
   "id": "80dfb35c",
   "metadata": {
    "papermill": {
     "duration": 0.043337,
     "end_time": "2021-09-19T00:23:40.821556",
     "exception": false,
     "start_time": "2021-09-19T00:23:40.778219",
     "status": "completed"
    },
    "tags": []
   },
   "source": [
    "#### Plotting the outputs of this layer of the NN.\n"
   ]
  },
  {
   "cell_type": "code",
   "execution_count": 25,
   "id": "45eb2ff5",
   "metadata": {
    "execution": {
     "iopub.execute_input": "2021-09-19T00:23:40.913921Z",
     "iopub.status.busy": "2021-09-19T00:23:40.913407Z",
     "iopub.status.idle": "2021-09-19T00:23:40.938451Z",
     "shell.execute_reply": "2021-09-19T00:23:40.938976Z"
    },
    "papermill": {
     "duration": 0.072836,
     "end_time": "2021-09-19T00:23:40.939105",
     "exception": false,
     "start_time": "2021-09-19T00:23:40.866269",
     "status": "completed"
    },
    "tags": []
   },
   "outputs": [],
   "source": [
    "new_model = Model(layers[:-2])\n",
    "testing_plot = new_model(testing_data_x)"
   ]
  },
  {
   "cell_type": "code",
   "execution_count": 26,
   "id": "4c0a5485",
   "metadata": {
    "execution": {
     "iopub.execute_input": "2021-09-19T00:23:41.047500Z",
     "iopub.status.busy": "2021-09-19T00:23:41.045977Z",
     "iopub.status.idle": "2021-09-19T00:23:41.244775Z",
     "shell.execute_reply": "2021-09-19T00:23:41.245311Z"
    },
    "papermill": {
     "duration": 0.252094,
     "end_time": "2021-09-19T00:23:41.245474",
     "exception": false,
     "start_time": "2021-09-19T00:23:40.993380",
     "status": "completed"
    },
    "tags": []
   },
   "outputs": [
    {
     "data": {
      "text/plain": [
       "Text(0.5, 1.0, 'Outputs')"
      ]
     },
     "execution_count": 26,
     "metadata": {},
     "output_type": "execute_result"
    },
    {
     "data": {
      "image/png": "[encoded data removed]",
      "text/plain": [
       "<Figure size 576x504 with 1 Axes>"
      ]
     },
     "metadata": {
      "needs_background": "light"
     },
     "output_type": "display_data"
    }
   ],
   "source": [
    "# Plotting the scatter plot of points and color coding by class\n",
    "plt.figure(figsize=(8,7))\n",
    "plt.scatter(testing_plot[:,0], testing_plot[:,1], alpha = 0.1, c = y_test.ravel());\n",
    "plt.title('Outputs')"
   ]
  },
  {
   "cell_type": "markdown",
   "id": "a74fcf8f",
   "metadata": {
    "papermill": {
     "duration": 0.043451,
     "end_time": "2021-09-19T00:23:41.334551",
     "exception": false,
     "start_time": "2021-09-19T00:23:41.291100",
     "status": "completed"
    },
    "tags": []
   },
   "source": [
    "Probability contours"
   ]
  },
  {
   "cell_type": "code",
   "execution_count": 27,
   "id": "d0afc8e3",
   "metadata": {
    "execution": {
     "iopub.execute_input": "2021-09-19T00:23:41.430309Z",
     "iopub.status.busy": "2021-09-19T00:23:41.428867Z",
     "iopub.status.idle": "2021-09-19T00:23:41.440221Z",
     "shell.execute_reply": "2021-09-19T00:23:41.440722Z"
    },
    "papermill": {
     "duration": 0.062032,
     "end_time": "2021-09-19T00:23:41.440841",
     "exception": false,
     "start_time": "2021-09-19T00:23:41.378809",
     "status": "completed"
    },
    "tags": []
   },
   "outputs": [],
   "source": [
    "model_prob = Model(layers[-2:]) "
   ]
  },
  {
   "cell_type": "code",
   "execution_count": 28,
   "id": "9b96e238",
   "metadata": {
    "execution": {
     "iopub.execute_input": "2021-09-19T00:23:41.538674Z",
     "iopub.status.busy": "2021-09-19T00:23:41.536879Z",
     "iopub.status.idle": "2021-09-19T00:23:41.551144Z",
     "shell.execute_reply": "2021-09-19T00:23:41.551611Z"
    },
    "papermill": {
     "duration": 0.066699,
     "end_time": "2021-09-19T00:23:41.551730",
     "exception": false,
     "start_time": "2021-09-19T00:23:41.485031",
     "status": "completed"
    },
    "tags": []
   },
   "outputs": [],
   "source": [
    "#creating the x and y ranges according to the above generated plot.\n",
    "x_range = np.linspace(-4, 1, 100) \n",
    "y_range = np.linspace(-6, 6, 100) \n",
    "x_grid, y_grid = np.meshgrid(x_range, y_range) # x_grid and y_grig are of size 100 X 100\n",
    "\n",
    "# converting x_grid and y_grid to continuous arrays\n",
    "x_gridflat = np.ravel(x_grid)\n",
    "y_gridflat = np.ravel(y_grid)\n",
    "\n",
    "# The last layer of the current model takes two columns as input. Hence transpose of np.vstack() is required.\n",
    "X = np.vstack((x_gridflat, y_gridflat)).T\n",
    "\n",
    "prob_contour = model_prob(X).reshape(100,100) "
   ]
  },
  {
   "cell_type": "code",
   "execution_count": 29,
   "id": "da72499a",
   "metadata": {
    "execution": {
     "iopub.execute_input": "2021-09-19T00:23:41.669432Z",
     "iopub.status.busy": "2021-09-19T00:23:41.668919Z",
     "iopub.status.idle": "2021-09-19T00:23:41.932648Z",
     "shell.execute_reply": "2021-09-19T00:23:41.932184Z"
    },
    "papermill": {
     "duration": 0.313517,
     "end_time": "2021-09-19T00:23:41.932766",
     "exception": false,
     "start_time": "2021-09-19T00:23:41.619249",
     "status": "completed"
    },
    "tags": []
   },
   "outputs": [
    {
     "data": {
      "image/png": "[encoded data removed]",
      "text/plain": [
       "<Figure size 720x648 with 1 Axes>"
      ]
     },
     "metadata": {
      "needs_background": "light"
     },
     "output_type": "display_data"
    }
   ],
   "source": [
    "plt.figure(figsize=(10,9))\n",
    "plt.scatter(testing_plot[:,0], testing_plot[:,1], alpha = 0.1, c = y_test.ravel())\n",
    "contours = plt.contour(x_grid,y_grid,prob_contour)\n",
    "plt.title('Probability Contours')\n",
    "plt.clabel(contours, inline = True );"
   ]
  },
  {
   "cell_type": "code",
   "execution_count": null,
   "id": "e81b4ac7",
   "metadata": {
    "papermill": {
     "duration": 0.049237,
     "end_time": "2021-09-19T00:23:42.029477",
     "exception": false,
     "start_time": "2021-09-19T00:23:41.980240",
     "status": "completed"
    },
    "tags": []
   },
   "outputs": [],
   "source": []
  }
 ],
 "metadata": {
  "kernelspec": {
   "display_name": "Python 3",
   "language": "python",
   "name": "python3"
  },
  "language_info": {
   "codemirror_mode": {
    "name": "ipython",
    "version": 3
   },
   "file_extension": ".py",
   "mimetype": "text/x-python",
   "name": "python",
   "nbconvert_exporter": "python",
   "pygments_lexer": "ipython3",
   "version": "3.6.15"
  },
  "papermill": {
   "default_parameters": {},
   "duration": 157.120101,
   "end_time": "2021-09-19T00:23:42.388441",
   "environment_variables": {},
   "exception": null,
   "input_path": "2020-08-11-part2.ipynb",
   "output_path": "2020-08-11-part2.ipynb",
   "parameters": {},
   "start_time": "2021-09-19T00:21:05.268340",
   "version": "2.3.3"
  }
 },
 "nbformat": 4,
 "nbformat_minor": 5
}