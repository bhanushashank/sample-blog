{
 "cells": [
  {
   "cell_type": "markdown",
   "id": "98380cd3",
   "metadata": {
    "papermill": {
     "duration": 0.029438,
     "end_time": "2021-11-19T00:22:23.031889",
     "exception": false,
     "start_time": "2021-11-19T00:22:23.002451",
     "status": "completed"
    },
    "tags": []
   },
   "source": [
    "# Distinguish Your Own Digits (DYOD)"
   ]
  },
  {
   "cell_type": "markdown",
   "id": "ef31240d",
   "metadata": {
    "papermill": {
     "duration": 0.025832,
     "end_time": "2021-11-19T00:22:23.082840",
     "exception": false,
     "start_time": "2021-11-19T00:22:23.057008",
     "status": "completed"
    },
    "tags": []
   },
   "source": [
    "You are going to write a classifier that distinguishes between the number 3 and number 8."
   ]
  },
  {
   "cell_type": "code",
   "execution_count": 1,
   "id": "b15c8646",
   "metadata": {
    "execution": {
     "iopub.execute_input": "2021-11-19T00:22:23.142553Z",
     "iopub.status.busy": "2021-11-19T00:22:23.141952Z",
     "iopub.status.idle": "2021-11-19T00:22:23.153173Z",
     "shell.execute_reply": "2021-11-19T00:22:23.152680Z"
    },
    "papermill": {
     "duration": 0.046291,
     "end_time": "2021-11-19T00:22:23.153326",
     "exception": false,
     "start_time": "2021-11-19T00:22:23.107035",
     "status": "completed"
    },
    "tags": []
   },
   "outputs": [],
   "source": [
    "%load_ext autoreload\n",
    "%autoreload 2"
   ]
  },
  {
   "cell_type": "code",
   "execution_count": 2,
   "id": "22ef38dc",
   "metadata": {
    "execution": {
     "iopub.execute_input": "2021-11-19T00:22:23.218913Z",
     "iopub.status.busy": "2021-11-19T00:22:23.214622Z",
     "iopub.status.idle": "2021-11-19T00:22:23.856660Z",
     "shell.execute_reply": "2021-11-19T00:22:23.856133Z"
    },
    "papermill": {
     "duration": 0.679029,
     "end_time": "2021-11-19T00:22:23.856801",
     "exception": false,
     "start_time": "2021-11-19T00:22:23.177772",
     "status": "completed"
    },
    "tags": []
   },
   "outputs": [],
   "source": [
    "%matplotlib inline\n",
    "import numpy as np\n",
    "import matplotlib.pyplot as plt\n",
    "import pandas as pd"
   ]
  },
  {
   "cell_type": "markdown",
   "id": "ba036198",
   "metadata": {
    "papermill": {
     "duration": 0.024249,
     "end_time": "2021-11-19T00:22:23.905326",
     "exception": false,
     "start_time": "2021-11-19T00:22:23.881077",
     "status": "completed"
    },
    "tags": []
   },
   "source": [
    "From the command line run `pip install mnist`. This is a library that will help you bring down the mnist dataset. If you run this from a notebook, you need to put  `!pip install mnist` in a cell by itself."
   ]
  },
  {
   "cell_type": "code",
   "execution_count": 3,
   "id": "bb6ad8a1",
   "metadata": {
    "execution": {
     "iopub.execute_input": "2021-11-19T00:22:23.959656Z",
     "iopub.status.busy": "2021-11-19T00:22:23.959086Z",
     "iopub.status.idle": "2021-11-19T00:22:26.593342Z",
     "shell.execute_reply": "2021-11-19T00:22:26.592786Z"
    },
    "papermill": {
     "duration": 2.663592,
     "end_time": "2021-11-19T00:22:26.593478",
     "exception": false,
     "start_time": "2021-11-19T00:22:23.929886",
     "status": "completed"
    },
    "tags": []
   },
   "outputs": [
    {
     "name": "stdout",
     "output_type": "stream",
     "text": [
      "Collecting mnist\r\n"
     ]
    },
    {
     "name": "stdout",
     "output_type": "stream",
     "text": [
      "  Downloading mnist-0.2.2-py2.py3-none-any.whl (3.5 kB)\r\n",
      "Requirement already satisfied: numpy in /opt/hostedtoolcache/Python/3.6.15/x64/lib/python3.6/site-packages (from mnist) (1.19.5)\r\n"
     ]
    },
    {
     "name": "stdout",
     "output_type": "stream",
     "text": [
      "Installing collected packages: mnist\r\n",
      "Successfully installed mnist-0.2.2\r\n"
     ]
    }
   ],
   "source": [
    "!pip install mnist"
   ]
  },
  {
   "cell_type": "markdown",
   "id": "69df9c9a",
   "metadata": {
    "papermill": {
     "duration": 0.025362,
     "end_time": "2021-11-19T00:22:26.644478",
     "exception": false,
     "start_time": "2021-11-19T00:22:26.619116",
     "status": "completed"
    },
    "tags": []
   },
   "source": [
    "## Preparing the Data"
   ]
  },
  {
   "cell_type": "code",
   "execution_count": 4,
   "id": "7f69d806",
   "metadata": {
    "execution": {
     "iopub.execute_input": "2021-11-19T00:22:26.711102Z",
     "iopub.status.busy": "2021-11-19T00:22:26.698155Z",
     "iopub.status.idle": "2021-11-19T00:22:26.715782Z",
     "shell.execute_reply": "2021-11-19T00:22:26.716200Z"
    },
    "papermill": {
     "duration": 0.047118,
     "end_time": "2021-11-19T00:22:26.716345",
     "exception": false,
     "start_time": "2021-11-19T00:22:26.669227",
     "status": "completed"
    },
    "tags": []
   },
   "outputs": [],
   "source": [
    "import mnist"
   ]
  },
  {
   "cell_type": "code",
   "execution_count": 5,
   "id": "a411e44f",
   "metadata": {
    "execution": {
     "iopub.execute_input": "2021-11-19T00:22:26.770863Z",
     "iopub.status.busy": "2021-11-19T00:22:26.770301Z",
     "iopub.status.idle": "2021-11-19T00:22:27.481195Z",
     "shell.execute_reply": "2021-11-19T00:22:27.480627Z"
    },
    "papermill": {
     "duration": 0.739804,
     "end_time": "2021-11-19T00:22:27.481332",
     "exception": false,
     "start_time": "2021-11-19T00:22:26.741528",
     "status": "completed"
    },
    "tags": []
   },
   "outputs": [],
   "source": [
    "train_images = mnist.train_images()\n",
    "train_labels = mnist.train_labels()"
   ]
  },
  {
   "cell_type": "code",
   "execution_count": 6,
   "id": "dceab3a5",
   "metadata": {
    "execution": {
     "iopub.execute_input": "2021-11-19T00:22:27.547262Z",
     "iopub.status.busy": "2021-11-19T00:22:27.546714Z",
     "iopub.status.idle": "2021-11-19T00:22:27.556650Z",
     "shell.execute_reply": "2021-11-19T00:22:27.556231Z"
    },
    "papermill": {
     "duration": 0.04972,
     "end_time": "2021-11-19T00:22:27.556771",
     "exception": false,
     "start_time": "2021-11-19T00:22:27.507051",
     "status": "completed"
    },
    "tags": []
   },
   "outputs": [
    {
     "data": {
      "text/plain": [
       "((60000, 28, 28), (60000,))"
      ]
     },
     "execution_count": 6,
     "metadata": {},
     "output_type": "execute_result"
    }
   ],
   "source": [
    "train_images.shape, train_labels.shape"
   ]
  },
  {
   "cell_type": "code",
   "execution_count": 7,
   "id": "f50dc2bb",
   "metadata": {
    "execution": {
     "iopub.execute_input": "2021-11-19T00:22:27.613806Z",
     "iopub.status.busy": "2021-11-19T00:22:27.613268Z",
     "iopub.status.idle": "2021-11-19T00:22:27.863277Z",
     "shell.execute_reply": "2021-11-19T00:22:27.862745Z"
    },
    "papermill": {
     "duration": 0.281435,
     "end_time": "2021-11-19T00:22:27.863422",
     "exception": false,
     "start_time": "2021-11-19T00:22:27.581987",
     "status": "completed"
    },
    "tags": []
   },
   "outputs": [],
   "source": [
    "test_images = mnist.test_images()\n",
    "test_labels = mnist.test_labels()"
   ]
  },
  {
   "cell_type": "code",
   "execution_count": 8,
   "id": "fc38cf1b",
   "metadata": {
    "execution": {
     "iopub.execute_input": "2021-11-19T00:22:27.918777Z",
     "iopub.status.busy": "2021-11-19T00:22:27.918241Z",
     "iopub.status.idle": "2021-11-19T00:22:27.932472Z",
     "shell.execute_reply": "2021-11-19T00:22:27.932960Z"
    },
    "papermill": {
     "duration": 0.043107,
     "end_time": "2021-11-19T00:22:27.933098",
     "exception": false,
     "start_time": "2021-11-19T00:22:27.889991",
     "status": "completed"
    },
    "tags": []
   },
   "outputs": [
    {
     "data": {
      "text/plain": [
       "((10000, 28, 28), (10000,))"
      ]
     },
     "execution_count": 8,
     "metadata": {},
     "output_type": "execute_result"
    }
   ],
   "source": [
    "test_images.shape, test_labels.shape"
   ]
  },
  {
   "cell_type": "code",
   "execution_count": 9,
   "id": "f9ed8fe0",
   "metadata": {
    "execution": {
     "iopub.execute_input": "2021-11-19T00:22:27.987192Z",
     "iopub.status.busy": "2021-11-19T00:22:27.986656Z",
     "iopub.status.idle": "2021-11-19T00:22:28.130507Z",
     "shell.execute_reply": "2021-11-19T00:22:28.130936Z"
    },
    "papermill": {
     "duration": 0.172809,
     "end_time": "2021-11-19T00:22:28.131093",
     "exception": false,
     "start_time": "2021-11-19T00:22:27.958284",
     "status": "completed"
    },
    "tags": []
   },
   "outputs": [
    {
     "name": "stdout",
     "output_type": "stream",
     "text": [
      "2\n"
     ]
    },
    {
     "data": {
      "text/plain": [
       "<matplotlib.image.AxesImage at 0x7ff516644048>"
      ]
     },
     "execution_count": 9,
     "metadata": {},
     "output_type": "execute_result"
    },
    {
     "data": {
      "image/png": "[encoded data removed]",
      "text/plain": [
       "<Figure size 432x288 with 1 Axes>"
      ]
     },
     "metadata": {
      "needs_background": "light"
     },
     "output_type": "display_data"
    }
   ],
   "source": [
    "image_index = 7776 # You may select anything up to 60,000\n",
    "print(train_labels[image_index]) \n",
    "plt.imshow(train_images[image_index], cmap='Greys')"
   ]
  },
  {
   "cell_type": "markdown",
   "id": "a8d2388d",
   "metadata": {
    "papermill": {
     "duration": 0.026532,
     "end_time": "2021-11-19T00:22:28.184489",
     "exception": false,
     "start_time": "2021-11-19T00:22:28.157957",
     "status": "completed"
    },
    "tags": []
   },
   "source": [
    "## Filter data to get 3 and 8 out"
   ]
  },
  {
   "cell_type": "code",
   "execution_count": 10,
   "id": "776f7fc7",
   "metadata": {
    "execution": {
     "iopub.execute_input": "2021-11-19T00:22:28.243641Z",
     "iopub.status.busy": "2021-11-19T00:22:28.242867Z",
     "iopub.status.idle": "2021-11-19T00:22:28.262463Z",
     "shell.execute_reply": "2021-11-19T00:22:28.262938Z"
    },
    "papermill": {
     "duration": 0.052095,
     "end_time": "2021-11-19T00:22:28.263109",
     "exception": false,
     "start_time": "2021-11-19T00:22:28.211014",
     "status": "completed"
    },
    "tags": []
   },
   "outputs": [],
   "source": [
    "train_filter = np.where((train_labels == 3 ) | (train_labels == 8))\n",
    "test_filter = np.where((test_labels == 3) | (test_labels == 8))\n",
    "X_train, y_train = train_images[train_filter], train_labels[train_filter]\n",
    "X_test, y_test = test_images[test_filter], test_labels[test_filter]"
   ]
  },
  {
   "cell_type": "markdown",
   "id": "948f0b7e",
   "metadata": {
    "papermill": {
     "duration": 0.026512,
     "end_time": "2021-11-19T00:22:28.317343",
     "exception": false,
     "start_time": "2021-11-19T00:22:28.290831",
     "status": "completed"
    },
    "tags": []
   },
   "source": [
    "We normalize the pizel values in the 0 to 1 range"
   ]
  },
  {
   "cell_type": "code",
   "execution_count": 11,
   "id": "ee4c2166",
   "metadata": {
    "execution": {
     "iopub.execute_input": "2021-11-19T00:22:28.387151Z",
     "iopub.status.busy": "2021-11-19T00:22:28.378861Z",
     "iopub.status.idle": "2021-11-19T00:22:28.425685Z",
     "shell.execute_reply": "2021-11-19T00:22:28.426239Z"
    },
    "papermill": {
     "duration": 0.082483,
     "end_time": "2021-11-19T00:22:28.426422",
     "exception": false,
     "start_time": "2021-11-19T00:22:28.343939",
     "status": "completed"
    },
    "tags": []
   },
   "outputs": [],
   "source": [
    "X_train = X_train/255.\n",
    "X_test = X_test/255."
   ]
  },
  {
   "cell_type": "markdown",
   "id": "ddcf4fab",
   "metadata": {
    "papermill": {
     "duration": 0.026523,
     "end_time": "2021-11-19T00:22:28.480647",
     "exception": false,
     "start_time": "2021-11-19T00:22:28.454124",
     "status": "completed"
    },
    "tags": []
   },
   "source": [
    "And setup the labels as 1 (when the digit is 3) and 0 (when the digit is 8)"
   ]
  },
  {
   "cell_type": "code",
   "execution_count": 12,
   "id": "7dc908f2",
   "metadata": {
    "execution": {
     "iopub.execute_input": "2021-11-19T00:22:28.544146Z",
     "iopub.status.busy": "2021-11-19T00:22:28.543559Z",
     "iopub.status.idle": "2021-11-19T00:22:28.554208Z",
     "shell.execute_reply": "2021-11-19T00:22:28.553721Z"
    },
    "papermill": {
     "duration": 0.047157,
     "end_time": "2021-11-19T00:22:28.554343",
     "exception": false,
     "start_time": "2021-11-19T00:22:28.507186",
     "status": "completed"
    },
    "tags": []
   },
   "outputs": [],
   "source": [
    "y_train = 1*(y_train==3)\n",
    "y_test = 1*(y_test==3)"
   ]
  },
  {
   "cell_type": "code",
   "execution_count": 13,
   "id": "01e4e969",
   "metadata": {
    "execution": {
     "iopub.execute_input": "2021-11-19T00:22:28.615476Z",
     "iopub.status.busy": "2021-11-19T00:22:28.614883Z",
     "iopub.status.idle": "2021-11-19T00:22:28.628137Z",
     "shell.execute_reply": "2021-11-19T00:22:28.627694Z"
    },
    "papermill": {
     "duration": 0.047054,
     "end_time": "2021-11-19T00:22:28.628270",
     "exception": false,
     "start_time": "2021-11-19T00:22:28.581216",
     "status": "completed"
    },
    "tags": []
   },
   "outputs": [
    {
     "data": {
      "text/plain": [
       "((11982, 28, 28), (1984, 28, 28))"
      ]
     },
     "execution_count": 13,
     "metadata": {},
     "output_type": "execute_result"
    }
   ],
   "source": [
    "X_train.shape, X_test.shape"
   ]
  },
  {
   "cell_type": "markdown",
   "id": "5ccf3f85",
   "metadata": {
    "papermill": {
     "duration": 0.026787,
     "end_time": "2021-11-19T00:22:28.682155",
     "exception": false,
     "start_time": "2021-11-19T00:22:28.655368",
     "status": "completed"
    },
    "tags": []
   },
   "source": [
    "We reshape the data to flatten the image pixels into a set of features or co-variates:"
   ]
  },
  {
   "cell_type": "code",
   "execution_count": 14,
   "id": "5286a4a3",
   "metadata": {
    "execution": {
     "iopub.execute_input": "2021-11-19T00:22:28.743429Z",
     "iopub.status.busy": "2021-11-19T00:22:28.742846Z",
     "iopub.status.idle": "2021-11-19T00:22:28.755238Z",
     "shell.execute_reply": "2021-11-19T00:22:28.755634Z"
    },
    "papermill": {
     "duration": 0.046664,
     "end_time": "2021-11-19T00:22:28.755788",
     "exception": false,
     "start_time": "2021-11-19T00:22:28.709124",
     "status": "completed"
    },
    "tags": []
   },
   "outputs": [
    {
     "data": {
      "text/plain": [
       "((11982, 784), (1984, 784))"
      ]
     },
     "execution_count": 14,
     "metadata": {},
     "output_type": "execute_result"
    }
   ],
   "source": [
    "X_train = X_train.reshape(X_train.shape[0], -1)\n",
    "X_test = X_test.reshape(X_test.shape[0], -1)\n",
    "X_train.shape, X_test.shape"
   ]
  },
  {
   "cell_type": "code",
   "execution_count": 15,
   "id": "73c5f88a",
   "metadata": {
    "execution": {
     "iopub.execute_input": "2021-11-19T00:22:28.815823Z",
     "iopub.status.busy": "2021-11-19T00:22:28.815253Z",
     "iopub.status.idle": "2021-11-19T00:22:28.834027Z",
     "shell.execute_reply": "2021-11-19T00:22:28.834484Z"
    },
    "papermill": {
     "duration": 0.051657,
     "end_time": "2021-11-19T00:22:28.834634",
     "exception": false,
     "start_time": "2021-11-19T00:22:28.782977",
     "status": "completed"
    },
    "tags": []
   },
   "outputs": [],
   "source": [
    "#Impoting functions from 'Kudzu'\n",
    "from kudzu.model import Model\n",
    "from kudzu.train import Learner\n",
    "from kudzu.optim import GD\n",
    "from kudzu.data import Data, Sampler,Dataloader\n",
    "\n",
    "from kudzu.callbacks import AccCallback\n",
    "from kudzu.callbacks import ClfCallback\n",
    "\n",
    "from kudzu.loss import MSE\n",
    "\n",
    "from kudzu.layer import Sigmoid,Relu\n",
    "from kudzu.layer import Affine"
   ]
  },
  {
   "cell_type": "markdown",
   "id": "bc01172a",
   "metadata": {
    "papermill": {
     "duration": 0.02724,
     "end_time": "2021-11-19T00:22:28.889336",
     "exception": false,
     "start_time": "2021-11-19T00:22:28.862096",
     "status": "completed"
    },
    "tags": []
   },
   "source": [
    "### Let us create a `Config` class, to store important parameters. \n",
    "This class essentially plays the role of a dictionary."
   ]
  },
  {
   "cell_type": "code",
   "execution_count": 16,
   "id": "978281aa",
   "metadata": {
    "execution": {
     "iopub.execute_input": "2021-11-19T00:22:28.947810Z",
     "iopub.status.busy": "2021-11-19T00:22:28.947264Z",
     "iopub.status.idle": "2021-11-19T00:22:28.960549Z",
     "shell.execute_reply": "2021-11-19T00:22:28.960059Z"
    },
    "papermill": {
     "duration": 0.044249,
     "end_time": "2021-11-19T00:22:28.960678",
     "exception": false,
     "start_time": "2021-11-19T00:22:28.916429",
     "status": "completed"
    },
    "tags": []
   },
   "outputs": [],
   "source": [
    "class Config:\n",
    "    pass\n",
    "config = Config()\n",
    "config.lr = 0.001\n",
    "config.num_epochs = 250\n",
    "config.bs = 50"
   ]
  },
  {
   "cell_type": "markdown",
   "id": "1385fa59",
   "metadata": {
    "papermill": {
     "duration": 0.027121,
     "end_time": "2021-11-19T00:22:29.015270",
     "exception": false,
     "start_time": "2021-11-19T00:22:28.988149",
     "status": "completed"
    },
    "tags": []
   },
   "source": [
    "### Running Models with the Training data\n",
    "Details about the network layers:\n",
    "- A first affine layer has 784 inputs and does 100 affine transforms. These are followed by a Relu\n",
    "- A second affine layer has 100 inputs from the 100 activations of the past layer, and does 100 affine transforms. These are followed by a Relu\n",
    "- A third affine layer has 100 activations and does 2 affine transformations to create an embedding for visualization. There is no non-linearity here.\n",
    "- A final \"logistic regression\" which has an affine transform from 2 inputs to 1 output, which is squeezed through a sigmoid.\n"
   ]
  },
  {
   "cell_type": "code",
   "execution_count": 17,
   "id": "2b9c66db",
   "metadata": {
    "execution": {
     "iopub.execute_input": "2021-11-19T00:22:29.074575Z",
     "iopub.status.busy": "2021-11-19T00:22:29.074011Z",
     "iopub.status.idle": "2021-11-19T00:22:29.087007Z",
     "shell.execute_reply": "2021-11-19T00:22:29.086524Z"
    },
    "papermill": {
     "duration": 0.044616,
     "end_time": "2021-11-19T00:22:29.087133",
     "exception": false,
     "start_time": "2021-11-19T00:22:29.042517",
     "status": "completed"
    },
    "tags": []
   },
   "outputs": [],
   "source": [
    "data = Data(X_train, y_train.reshape(-1,1))\n",
    "sampler = Sampler(data, config.bs, shuffle=True)\n",
    "\n",
    "dl = Dataloader(data, sampler)\n",
    "\n",
    "opt = GD(config.lr)\n",
    "loss = MSE()"
   ]
  },
  {
   "cell_type": "code",
   "execution_count": 18,
   "id": "b275e4c2",
   "metadata": {
    "execution": {
     "iopub.execute_input": "2021-11-19T00:22:29.146362Z",
     "iopub.status.busy": "2021-11-19T00:22:29.145779Z",
     "iopub.status.idle": "2021-11-19T00:22:29.158492Z",
     "shell.execute_reply": "2021-11-19T00:22:29.158033Z"
    },
    "papermill": {
     "duration": 0.044095,
     "end_time": "2021-11-19T00:22:29.158621",
     "exception": false,
     "start_time": "2021-11-19T00:22:29.114526",
     "status": "completed"
    },
    "tags": []
   },
   "outputs": [],
   "source": [
    "training_data_x = X_train\n",
    "testing_data_x = X_test\n",
    "training_data_y = y_train.reshape(-1,1)\n",
    "testing_data_y = y_test.reshape(-1,1)"
   ]
  },
  {
   "cell_type": "code",
   "execution_count": 19,
   "id": "76951160",
   "metadata": {
    "execution": {
     "iopub.execute_input": "2021-11-19T00:22:29.221603Z",
     "iopub.status.busy": "2021-11-19T00:22:29.221029Z",
     "iopub.status.idle": "2021-11-19T00:22:29.235649Z",
     "shell.execute_reply": "2021-11-19T00:22:29.235215Z"
    },
    "papermill": {
     "duration": 0.050014,
     "end_time": "2021-11-19T00:22:29.235778",
     "exception": false,
     "start_time": "2021-11-19T00:22:29.185764",
     "status": "completed"
    },
    "tags": []
   },
   "outputs": [
    {
     "name": "stdout",
     "output_type": "stream",
     "text": [
      "xavier\n",
      "xavier\n",
      "xavier\n",
      "xavier\n",
      "xavier\n"
     ]
    }
   ],
   "source": [
    "layers = [Affine(\"first\", 784, 100), Relu(\"first\"), Affine(\"second\", 100, 100), Relu(\"second\"), Affine(\"third\", 100, 2), Affine(\"last\", 2, 1), Sigmoid(\"last\")]\n",
    "model_nn = Model(layers)\n",
    "model_lr = Model([Affine(\"logits\", 784, 1), Sigmoid(\"sigmoid\")])"
   ]
  },
  {
   "cell_type": "code",
   "execution_count": 20,
   "id": "6eede77a",
   "metadata": {
    "execution": {
     "iopub.execute_input": "2021-11-19T00:22:29.301797Z",
     "iopub.status.busy": "2021-11-19T00:22:29.301216Z",
     "iopub.status.idle": "2021-11-19T00:22:29.311443Z",
     "shell.execute_reply": "2021-11-19T00:22:29.310974Z"
    },
    "papermill": {
     "duration": 0.047036,
     "end_time": "2021-11-19T00:22:29.311577",
     "exception": false,
     "start_time": "2021-11-19T00:22:29.264541",
     "status": "completed"
    },
    "tags": []
   },
   "outputs": [],
   "source": [
    "nn_learner = Learner(loss, model_nn, opt, config.num_epochs)\n",
    "acc_nn = ClfCallback(nn_learner, config.bs, training_data_x , testing_data_x, training_data_y, testing_data_y)\n",
    "nn_learner.set_callbacks([acc_nn])"
   ]
  },
  {
   "cell_type": "code",
   "execution_count": 21,
   "id": "877b6cc7",
   "metadata": {
    "execution": {
     "iopub.execute_input": "2021-11-19T00:22:29.380055Z",
     "iopub.status.busy": "2021-11-19T00:22:29.379474Z",
     "iopub.status.idle": "2021-11-19T00:22:29.387583Z",
     "shell.execute_reply": "2021-11-19T00:22:29.387131Z"
    },
    "papermill": {
     "duration": 0.048565,
     "end_time": "2021-11-19T00:22:29.387716",
     "exception": false,
     "start_time": "2021-11-19T00:22:29.339151",
     "status": "completed"
    },
    "tags": []
   },
   "outputs": [],
   "source": [
    "lr_learner = Learner(loss, model_lr, opt, config.num_epochs)\n",
    "acc_lr = ClfCallback(lr_learner, config.bs, training_data_x , testing_data_x, training_data_y, testing_data_y)\n",
    "lr_learner.set_callbacks([acc_lr])"
   ]
  },
  {
   "cell_type": "code",
   "execution_count": 22,
   "id": "d9b133c3",
   "metadata": {
    "execution": {
     "iopub.execute_input": "2021-11-19T00:22:29.446987Z",
     "iopub.status.busy": "2021-11-19T00:22:29.446441Z",
     "iopub.status.idle": "2021-11-19T00:23:55.256584Z",
     "shell.execute_reply": "2021-11-19T00:23:55.257382Z"
    },
    "papermill": {
     "duration": 85.842192,
     "end_time": "2021-11-19T00:23:55.257540",
     "exception": false,
     "start_time": "2021-11-19T00:22:29.415348",
     "status": "completed"
    },
    "tags": []
   },
   "outputs": [
    {
     "name": "stdout",
     "output_type": "stream",
     "text": [
      "Epoch 0, Loss 0.2415\n",
      "Training Accuracy: 0.7012, Testing Accuracy: 0.7273\n",
      "\n"
     ]
    },
    {
     "name": "stdout",
     "output_type": "stream",
     "text": [
      "Epoch 10, Loss 0.1276\n",
      "Training Accuracy: 0.8981, Testing Accuracy: 0.9113\n",
      "\n"
     ]
    },
    {
     "name": "stdout",
     "output_type": "stream",
     "text": [
      "Epoch 20, Loss 0.0701\n",
      "Training Accuracy: 0.9291, Testing Accuracy: 0.9435\n",
      "\n"
     ]
    },
    {
     "name": "stdout",
     "output_type": "stream",
     "text": [
      "Epoch 30, Loss 0.0514\n",
      "Training Accuracy: 0.9461, Testing Accuracy: 0.9572\n",
      "\n"
     ]
    },
    {
     "name": "stdout",
     "output_type": "stream",
     "text": [
      "Epoch 40, Loss 0.0428\n",
      "Training Accuracy: 0.9533, Testing Accuracy: 0.9622\n",
      "\n"
     ]
    },
    {
     "name": "stdout",
     "output_type": "stream",
     "text": [
      "Epoch 50, Loss 0.0379\n",
      "Training Accuracy: 0.9569, Testing Accuracy: 0.9672\n",
      "\n"
     ]
    },
    {
     "name": "stdout",
     "output_type": "stream",
     "text": [
      "Epoch 60, Loss 0.0347\n",
      "Training Accuracy: 0.9594, Testing Accuracy: 0.9688\n",
      "\n"
     ]
    },
    {
     "name": "stdout",
     "output_type": "stream",
     "text": [
      "Epoch 70, Loss 0.0325\n",
      "Training Accuracy: 0.9623, Testing Accuracy: 0.9703\n",
      "\n"
     ]
    },
    {
     "name": "stdout",
     "output_type": "stream",
     "text": [
      "Epoch 80, Loss 0.0308\n",
      "Training Accuracy: 0.9644, Testing Accuracy: 0.9708\n",
      "\n"
     ]
    },
    {
     "name": "stdout",
     "output_type": "stream",
     "text": [
      "Epoch 90, Loss 0.0294\n",
      "Training Accuracy: 0.9662, Testing Accuracy: 0.9708\n",
      "\n"
     ]
    },
    {
     "name": "stdout",
     "output_type": "stream",
     "text": [
      "Epoch 100, Loss 0.0283\n",
      "Training Accuracy: 0.9675, Testing Accuracy: 0.9718\n",
      "\n"
     ]
    },
    {
     "name": "stdout",
     "output_type": "stream",
     "text": [
      "Epoch 110, Loss 0.0273\n",
      "Training Accuracy: 0.9688, Testing Accuracy: 0.9718\n",
      "\n"
     ]
    },
    {
     "name": "stdout",
     "output_type": "stream",
     "text": [
      "Epoch 120, Loss 0.0265\n",
      "Training Accuracy: 0.9697, Testing Accuracy: 0.9703\n",
      "\n"
     ]
    },
    {
     "name": "stdout",
     "output_type": "stream",
     "text": [
      "Epoch 130, Loss 0.0257\n",
      "Training Accuracy: 0.9706, Testing Accuracy: 0.9708\n",
      "\n"
     ]
    },
    {
     "name": "stdout",
     "output_type": "stream",
     "text": [
      "Epoch 140, Loss 0.025\n",
      "Training Accuracy: 0.9710, Testing Accuracy: 0.9703\n",
      "\n"
     ]
    },
    {
     "name": "stdout",
     "output_type": "stream",
     "text": [
      "Epoch 150, Loss 0.0244\n",
      "Training Accuracy: 0.9722, Testing Accuracy: 0.9708\n",
      "\n"
     ]
    },
    {
     "name": "stdout",
     "output_type": "stream",
     "text": [
      "Epoch 160, Loss 0.0239\n",
      "Training Accuracy: 0.9725, Testing Accuracy: 0.9703\n",
      "\n"
     ]
    },
    {
     "name": "stdout",
     "output_type": "stream",
     "text": [
      "Epoch 170, Loss 0.0234\n",
      "Training Accuracy: 0.9733, Testing Accuracy: 0.9708\n",
      "\n"
     ]
    },
    {
     "name": "stdout",
     "output_type": "stream",
     "text": [
      "Epoch 180, Loss 0.0229\n",
      "Training Accuracy: 0.9741, Testing Accuracy: 0.9703\n",
      "\n"
     ]
    },
    {
     "name": "stdout",
     "output_type": "stream",
     "text": [
      "Epoch 190, Loss 0.0224\n",
      "Training Accuracy: 0.9745, Testing Accuracy: 0.9698\n",
      "\n"
     ]
    },
    {
     "name": "stdout",
     "output_type": "stream",
     "text": [
      "Epoch 200, Loss 0.022\n",
      "Training Accuracy: 0.9752, Testing Accuracy: 0.9703\n",
      "\n"
     ]
    },
    {
     "name": "stdout",
     "output_type": "stream",
     "text": [
      "Epoch 210, Loss 0.0216\n",
      "Training Accuracy: 0.9756, Testing Accuracy: 0.9703\n",
      "\n"
     ]
    },
    {
     "name": "stdout",
     "output_type": "stream",
     "text": [
      "Epoch 220, Loss 0.0212\n",
      "Training Accuracy: 0.9760, Testing Accuracy: 0.9708\n",
      "\n"
     ]
    },
    {
     "name": "stdout",
     "output_type": "stream",
     "text": [
      "Epoch 230, Loss 0.0208\n",
      "Training Accuracy: 0.9765, Testing Accuracy: 0.9718\n",
      "\n"
     ]
    },
    {
     "name": "stdout",
     "output_type": "stream",
     "text": [
      "Epoch 240, Loss 0.0205\n",
      "Training Accuracy: 0.9767, Testing Accuracy: 0.9718\n",
      "\n"
     ]
    },
    {
     "data": {
      "text/plain": [
       "0.0034724950297054715"
      ]
     },
     "execution_count": 22,
     "metadata": {},
     "output_type": "execute_result"
    }
   ],
   "source": [
    "nn_learner.train_loop(dl)"
   ]
  },
  {
   "cell_type": "code",
   "execution_count": 23,
   "id": "e0163366",
   "metadata": {
    "execution": {
     "iopub.execute_input": "2021-11-19T00:23:55.341409Z",
     "iopub.status.busy": "2021-11-19T00:23:55.340860Z",
     "iopub.status.idle": "2021-11-19T00:24:10.350486Z",
     "shell.execute_reply": "2021-11-19T00:24:10.351218Z"
    },
    "papermill": {
     "duration": 15.058051,
     "end_time": "2021-11-19T00:24:10.351375",
     "exception": false,
     "start_time": "2021-11-19T00:23:55.293324",
     "status": "completed"
    },
    "tags": []
   },
   "outputs": [
    {
     "name": "stdout",
     "output_type": "stream",
     "text": [
      "Epoch 0, Loss 0.2172\n",
      "Training Accuracy: 0.7707, Testing Accuracy: 0.7646\n",
      "\n"
     ]
    },
    {
     "name": "stdout",
     "output_type": "stream",
     "text": [
      "Epoch 10, Loss 0.1012\n",
      "Training Accuracy: 0.9151, Testing Accuracy: 0.9259\n",
      "\n"
     ]
    },
    {
     "name": "stdout",
     "output_type": "stream",
     "text": [
      "Epoch 20, Loss 0.0786\n",
      "Training Accuracy: 0.9296, Testing Accuracy: 0.9415\n",
      "\n"
     ]
    },
    {
     "name": "stdout",
     "output_type": "stream",
     "text": [
      "Epoch 30, Loss 0.0679\n",
      "Training Accuracy: 0.9380, Testing Accuracy: 0.9476\n",
      "\n"
     ]
    },
    {
     "name": "stdout",
     "output_type": "stream",
     "text": [
      "Epoch 40, Loss 0.0614\n",
      "Training Accuracy: 0.9428, Testing Accuracy: 0.9511\n",
      "\n"
     ]
    },
    {
     "name": "stdout",
     "output_type": "stream",
     "text": [
      "Epoch 50, Loss 0.057\n",
      "Training Accuracy: 0.9469, Testing Accuracy: 0.9551\n",
      "\n"
     ]
    },
    {
     "name": "stdout",
     "output_type": "stream",
     "text": [
      "Epoch 60, Loss 0.0537\n",
      "Training Accuracy: 0.9498, Testing Accuracy: 0.9551\n",
      "\n"
     ]
    },
    {
     "name": "stdout",
     "output_type": "stream",
     "text": [
      "Epoch 70, Loss 0.0511\n",
      "Training Accuracy: 0.9508, Testing Accuracy: 0.9592\n",
      "\n"
     ]
    },
    {
     "name": "stdout",
     "output_type": "stream",
     "text": [
      "Epoch 80, Loss 0.049\n",
      "Training Accuracy: 0.9522, Testing Accuracy: 0.9607\n",
      "\n"
     ]
    },
    {
     "name": "stdout",
     "output_type": "stream",
     "text": [
      "Epoch 90, Loss 0.0473\n",
      "Training Accuracy: 0.9539, Testing Accuracy: 0.9612\n",
      "\n"
     ]
    },
    {
     "name": "stdout",
     "output_type": "stream",
     "text": [
      "Epoch 100, Loss 0.0459\n",
      "Training Accuracy: 0.9547, Testing Accuracy: 0.9627\n",
      "\n"
     ]
    },
    {
     "name": "stdout",
     "output_type": "stream",
     "text": [
      "Epoch 110, Loss 0.0447\n",
      "Training Accuracy: 0.9552, Testing Accuracy: 0.9642\n",
      "\n"
     ]
    },
    {
     "name": "stdout",
     "output_type": "stream",
     "text": [
      "Epoch 120, Loss 0.0436\n",
      "Training Accuracy: 0.9561, Testing Accuracy: 0.9647\n",
      "\n"
     ]
    },
    {
     "name": "stdout",
     "output_type": "stream",
     "text": [
      "Epoch 130, Loss 0.0427\n",
      "Training Accuracy: 0.9569, Testing Accuracy: 0.9657\n",
      "\n"
     ]
    },
    {
     "name": "stdout",
     "output_type": "stream",
     "text": [
      "Epoch 140, Loss 0.0419\n",
      "Training Accuracy: 0.9576, Testing Accuracy: 0.9662\n",
      "\n"
     ]
    },
    {
     "name": "stdout",
     "output_type": "stream",
     "text": [
      "Epoch 150, Loss 0.0411\n",
      "Training Accuracy: 0.9581, Testing Accuracy: 0.9657\n",
      "\n"
     ]
    },
    {
     "name": "stdout",
     "output_type": "stream",
     "text": [
      "Epoch 160, Loss 0.0404\n",
      "Training Accuracy: 0.9586, Testing Accuracy: 0.9657\n",
      "\n"
     ]
    },
    {
     "name": "stdout",
     "output_type": "stream",
     "text": [
      "Epoch 170, Loss 0.0398\n",
      "Training Accuracy: 0.9587, Testing Accuracy: 0.9657\n",
      "\n"
     ]
    },
    {
     "name": "stdout",
     "output_type": "stream",
     "text": [
      "Epoch 180, Loss 0.0393\n",
      "Training Accuracy: 0.9591, Testing Accuracy: 0.9667\n",
      "\n"
     ]
    },
    {
     "name": "stdout",
     "output_type": "stream",
     "text": [
      "Epoch 190, Loss 0.0388\n",
      "Training Accuracy: 0.9595, Testing Accuracy: 0.9677\n",
      "\n"
     ]
    },
    {
     "name": "stdout",
     "output_type": "stream",
     "text": [
      "Epoch 200, Loss 0.0383\n",
      "Training Accuracy: 0.9601, Testing Accuracy: 0.9677\n",
      "\n"
     ]
    },
    {
     "name": "stdout",
     "output_type": "stream",
     "text": [
      "Epoch 210, Loss 0.0378\n",
      "Training Accuracy: 0.9605, Testing Accuracy: 0.9682\n",
      "\n"
     ]
    },
    {
     "name": "stdout",
     "output_type": "stream",
     "text": [
      "Epoch 220, Loss 0.0374\n",
      "Training Accuracy: 0.9608, Testing Accuracy: 0.9682\n",
      "\n"
     ]
    },
    {
     "name": "stdout",
     "output_type": "stream",
     "text": [
      "Epoch 230, Loss 0.0371\n",
      "Training Accuracy: 0.9614, Testing Accuracy: 0.9688\n",
      "\n"
     ]
    },
    {
     "name": "stdout",
     "output_type": "stream",
     "text": [
      "Epoch 240, Loss 0.0367\n",
      "Training Accuracy: 0.9616, Testing Accuracy: 0.9682\n",
      "\n"
     ]
    },
    {
     "data": {
      "text/plain": [
       "0.07480899904656377"
      ]
     },
     "execution_count": 23,
     "metadata": {},
     "output_type": "execute_result"
    }
   ],
   "source": [
    "lr_learner.train_loop(dl)"
   ]
  },
  {
   "cell_type": "code",
   "execution_count": 24,
   "id": "ca410940",
   "metadata": {
    "execution": {
     "iopub.execute_input": "2021-11-19T00:24:10.443942Z",
     "iopub.status.busy": "2021-11-19T00:24:10.443385Z",
     "iopub.status.idle": "2021-11-19T00:24:10.672637Z",
     "shell.execute_reply": "2021-11-19T00:24:10.673037Z"
    },
    "papermill": {
     "duration": 0.280426,
     "end_time": "2021-11-19T00:24:10.673186",
     "exception": false,
     "start_time": "2021-11-19T00:24:10.392760",
     "status": "completed"
    },
    "tags": []
   },
   "outputs": [
    {
     "data": {
      "text/plain": [
       "<matplotlib.legend.Legend at 0x7ff5161a5780>"
      ]
     },
     "execution_count": 24,
     "metadata": {},
     "output_type": "execute_result"
    },
    {
     "data": {
      "image/png": "[encoded data removed]",
      "text/plain": [
       "<Figure size 1080x720 with 1 Axes>"
      ]
     },
     "metadata": {
      "needs_background": "light"
     },
     "output_type": "display_data"
    }
   ],
   "source": [
    "#comparing the results of NN and LR\n",
    "plt.figure(figsize=(15,10))\n",
    "\n",
    "# Neural Network plots\n",
    "plt.plot(acc_nn.accuracies, 'r-', label = \"Training Accuracies - NN\")\n",
    "plt.plot(acc_nn.test_accuracies, 'g-', label = \"Testing Accuracies - NN\")\n",
    "\n",
    "# Logistic Regression plots\n",
    "plt.plot(acc_lr.accuracies, 'k-', label = \"Training Accuracies - LR\")\n",
    "plt.plot(acc_lr.test_accuracies, 'b-', label = \"Testing Accuracies - LR\")\n",
    "plt.legend()"
   ]
  },
  {
   "cell_type": "markdown",
   "id": "80dfb35c",
   "metadata": {
    "papermill": {
     "duration": 0.042378,
     "end_time": "2021-11-19T00:24:10.758200",
     "exception": false,
     "start_time": "2021-11-19T00:24:10.715822",
     "status": "completed"
    },
    "tags": []
   },
   "source": [
    "#### Plotting the outputs of this layer of the NN.\n"
   ]
  },
  {
   "cell_type": "code",
   "execution_count": 25,
   "id": "45eb2ff5",
   "metadata": {
    "execution": {
     "iopub.execute_input": "2021-11-19T00:24:10.853634Z",
     "iopub.status.busy": "2021-11-19T00:24:10.853081Z",
     "iopub.status.idle": "2021-11-19T00:24:10.872726Z",
     "shell.execute_reply": "2021-11-19T00:24:10.872225Z"
    },
    "papermill": {
     "duration": 0.072351,
     "end_time": "2021-11-19T00:24:10.872852",
     "exception": false,
     "start_time": "2021-11-19T00:24:10.800501",
     "status": "completed"
    },
    "tags": []
   },
   "outputs": [],
   "source": [
    "new_model = Model(layers[:-2])\n",
    "testing_plot = new_model(testing_data_x)"
   ]
  },
  {
   "cell_type": "code",
   "execution_count": 26,
   "id": "4c0a5485",
   "metadata": {
    "execution": {
     "iopub.execute_input": "2021-11-19T00:24:10.971164Z",
     "iopub.status.busy": "2021-11-19T00:24:10.970612Z",
     "iopub.status.idle": "2021-11-19T00:24:11.161186Z",
     "shell.execute_reply": "2021-11-19T00:24:11.160409Z"
    },
    "papermill": {
     "duration": 0.244757,
     "end_time": "2021-11-19T00:24:11.161320",
     "exception": false,
     "start_time": "2021-11-19T00:24:10.916563",
     "status": "completed"
    },
    "tags": []
   },
   "outputs": [
    {
     "data": {
      "text/plain": [
       "Text(0.5, 1.0, 'Outputs')"
      ]
     },
     "execution_count": 26,
     "metadata": {},
     "output_type": "execute_result"
    },
    {
     "data": {
      "image/png": "[encoded data removed]",
      "text/plain": [
       "<Figure size 576x504 with 1 Axes>"
      ]
     },
     "metadata": {
      "needs_background": "light"
     },
     "output_type": "display_data"
    }
   ],
   "source": [
    "# Plotting the scatter plot of points and color coding by class\n",
    "plt.figure(figsize=(8,7))\n",
    "plt.scatter(testing_plot[:,0], testing_plot[:,1], alpha = 0.1, c = y_test.ravel());\n",
    "plt.title('Outputs')"
   ]
  },
  {
   "cell_type": "markdown",
   "id": "a74fcf8f",
   "metadata": {
    "papermill": {
     "duration": 0.044382,
     "end_time": "2021-11-19T00:24:11.250017",
     "exception": false,
     "start_time": "2021-11-19T00:24:11.205635",
     "status": "completed"
    },
    "tags": []
   },
   "source": [
    "Probability contours"
   ]
  },
  {
   "cell_type": "code",
   "execution_count": 27,
   "id": "d0afc8e3",
   "metadata": {
    "execution": {
     "iopub.execute_input": "2021-11-19T00:24:11.351783Z",
     "iopub.status.busy": "2021-11-19T00:24:11.350263Z",
     "iopub.status.idle": "2021-11-19T00:24:11.358223Z",
     "shell.execute_reply": "2021-11-19T00:24:11.358619Z"
    },
    "papermill": {
     "duration": 0.064366,
     "end_time": "2021-11-19T00:24:11.358766",
     "exception": false,
     "start_time": "2021-11-19T00:24:11.294400",
     "status": "completed"
    },
    "tags": []
   },
   "outputs": [],
   "source": [
    "model_prob = Model(layers[-2:]) "
   ]
  },
  {
   "cell_type": "code",
   "execution_count": 28,
   "id": "9b96e238",
   "metadata": {
    "execution": {
     "iopub.execute_input": "2021-11-19T00:24:11.470037Z",
     "iopub.status.busy": "2021-11-19T00:24:11.469439Z",
     "iopub.status.idle": "2021-11-19T00:24:11.473685Z",
     "shell.execute_reply": "2021-11-19T00:24:11.473171Z"
    },
    "papermill": {
     "duration": 0.070443,
     "end_time": "2021-11-19T00:24:11.473807",
     "exception": false,
     "start_time": "2021-11-19T00:24:11.403364",
     "status": "completed"
    },
    "tags": []
   },
   "outputs": [],
   "source": [
    "#creating the x and y ranges according to the above generated plot.\n",
    "x_range = np.linspace(-4, 1, 100) \n",
    "y_range = np.linspace(-6, 6, 100) \n",
    "x_grid, y_grid = np.meshgrid(x_range, y_range) # x_grid and y_grig are of size 100 X 100\n",
    "\n",
    "# converting x_grid and y_grid to continuous arrays\n",
    "x_gridflat = np.ravel(x_grid)\n",
    "y_gridflat = np.ravel(y_grid)\n",
    "\n",
    "# The last layer of the current model takes two columns as input. Hence transpose of np.vstack() is required.\n",
    "X = np.vstack((x_gridflat, y_gridflat)).T\n",
    "\n",
    "prob_contour = model_prob(X).reshape(100,100) "
   ]
  },
  {
   "cell_type": "code",
   "execution_count": 29,
   "id": "da72499a",
   "metadata": {
    "execution": {
     "iopub.execute_input": "2021-11-19T00:24:11.606808Z",
     "iopub.status.busy": "2021-11-19T00:24:11.604365Z",
     "iopub.status.idle": "2021-11-19T00:24:11.855715Z",
     "shell.execute_reply": "2021-11-19T00:24:11.856134Z"
    },
    "papermill": {
     "duration": 0.30477,
     "end_time": "2021-11-19T00:24:11.856280",
     "exception": false,
     "start_time": "2021-11-19T00:24:11.551510",
     "status": "completed"
    },
    "tags": []
   },
   "outputs": [
    {
     "data": {
      "image/png": "[encoded data removed]",
      "text/plain": [
       "<Figure size 720x648 with 1 Axes>"
      ]
     },
     "metadata": {
      "needs_background": "light"
     },
     "output_type": "display_data"
    }
   ],
   "source": [
    "plt.figure(figsize=(10,9))\n",
    "plt.scatter(testing_plot[:,0], testing_plot[:,1], alpha = 0.1, c = y_test.ravel())\n",
    "contours = plt.contour(x_grid,y_grid,prob_contour)\n",
    "plt.title('Probability Contours')\n",
    "plt.clabel(contours, inline = True );"
   ]
  },
  {
   "cell_type": "code",
   "execution_count": null,
   "id": "e81b4ac7",
   "metadata": {
    "papermill": {
     "duration": 0.04704,
     "end_time": "2021-11-19T00:24:11.950433",
     "exception": false,
     "start_time": "2021-11-19T00:24:11.903393",
     "status": "completed"
    },
    "tags": []
   },
   "outputs": [],
   "source": []
  }
 ],
 "metadata": {
  "kernelspec": {
   "display_name": "Python 3",
   "language": "python",
   "name": "python3"
  },
  "language_info": {
   "codemirror_mode": {
    "name": "ipython",
    "version": 3
   },
   "file_extension": ".py",
   "mimetype": "text/x-python",
   "name": "python",
   "nbconvert_exporter": "python",
   "pygments_lexer": "ipython3",
   "version": "3.6.15"
  },
  "papermill": {
   "default_parameters": {},
   "duration": 110.458958,
   "end_time": "2021-11-19T00:24:12.406904",
   "environment_variables": {},
   "exception": null,
   "input_path": "2020-08-11-part2.ipynb",
   "output_path": "2020-08-11-part2.ipynb",
   "parameters": {},
   "start_time": "2021-11-19T00:22:21.947946",
   "version": "2.3.3"
  }
 },
 "nbformat": 4,
 "nbformat_minor": 5
}