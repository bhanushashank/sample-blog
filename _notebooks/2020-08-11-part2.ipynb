{
 "cells": [
  {
   "cell_type": "markdown",
   "id": "98380cd3",
   "metadata": {
    "papermill": {
     "duration": 0.027932,
     "end_time": "2021-11-20T20:07:36.234806",
     "exception": false,
     "start_time": "2021-11-20T20:07:36.206874",
     "status": "completed"
    },
    "tags": []
   },
   "source": [
    "# Distinguish Your Own Digits (DYOD)"
   ]
  },
  {
   "cell_type": "markdown",
   "id": "ef31240d",
   "metadata": {
    "papermill": {
     "duration": 0.025208,
     "end_time": "2021-11-20T20:07:36.284526",
     "exception": false,
     "start_time": "2021-11-20T20:07:36.259318",
     "status": "completed"
    },
    "tags": []
   },
   "source": [
    "You are going to write a classifier that distinguishes between the number 3 and number 8."
   ]
  },
  {
   "cell_type": "code",
   "execution_count": 1,
   "id": "b15c8646",
   "metadata": {
    "execution": {
     "iopub.execute_input": "2021-11-20T20:07:36.343367Z",
     "iopub.status.busy": "2021-11-20T20:07:36.342841Z",
     "iopub.status.idle": "2021-11-20T20:07:36.353287Z",
     "shell.execute_reply": "2021-11-20T20:07:36.352860Z"
    },
    "papermill": {
     "duration": 0.045071,
     "end_time": "2021-11-20T20:07:36.353440",
     "exception": false,
     "start_time": "2021-11-20T20:07:36.308369",
     "status": "completed"
    },
    "tags": []
   },
   "outputs": [],
   "source": [
    "%load_ext autoreload\n",
    "%autoreload 2"
   ]
  },
  {
   "cell_type": "code",
   "execution_count": 2,
   "id": "22ef38dc",
   "metadata": {
    "execution": {
     "iopub.execute_input": "2021-11-20T20:07:36.406661Z",
     "iopub.status.busy": "2021-11-20T20:07:36.406142Z",
     "iopub.status.idle": "2021-11-20T20:07:36.995260Z",
     "shell.execute_reply": "2021-11-20T20:07:36.994698Z"
    },
    "papermill": {
     "duration": 0.618231,
     "end_time": "2021-11-20T20:07:36.995405",
     "exception": false,
     "start_time": "2021-11-20T20:07:36.377174",
     "status": "completed"
    },
    "tags": []
   },
   "outputs": [],
   "source": [
    "%matplotlib inline\n",
    "import numpy as np\n",
    "import matplotlib.pyplot as plt\n",
    "import pandas as pd"
   ]
  },
  {
   "cell_type": "markdown",
   "id": "ba036198",
   "metadata": {
    "papermill": {
     "duration": 0.023906,
     "end_time": "2021-11-20T20:07:37.043560",
     "exception": false,
     "start_time": "2021-11-20T20:07:37.019654",
     "status": "completed"
    },
    "tags": []
   },
   "source": [
    "From the command line run `pip install mnist`. This is a library that will help you bring down the mnist dataset. If you run this from a notebook, you need to put  `!pip install mnist` in a cell by itself."
   ]
  },
  {
   "cell_type": "code",
   "execution_count": 3,
   "id": "bb6ad8a1",
   "metadata": {
    "execution": {
     "iopub.execute_input": "2021-11-20T20:07:37.095934Z",
     "iopub.status.busy": "2021-11-20T20:07:37.095404Z",
     "iopub.status.idle": "2021-11-20T20:07:38.818567Z",
     "shell.execute_reply": "2021-11-20T20:07:38.819068Z"
    },
    "papermill": {
     "duration": 1.75177,
     "end_time": "2021-11-20T20:07:38.819241",
     "exception": false,
     "start_time": "2021-11-20T20:07:37.067471",
     "status": "completed"
    },
    "tags": []
   },
   "outputs": [
    {
     "name": "stdout",
     "output_type": "stream",
     "text": [
      "Collecting mnist\r\n"
     ]
    },
    {
     "name": "stdout",
     "output_type": "stream",
     "text": [
      "  Downloading mnist-0.2.2-py2.py3-none-any.whl (3.5 kB)\r\n"
     ]
    },
    {
     "name": "stdout",
     "output_type": "stream",
     "text": [
      "Requirement already satisfied: numpy in /opt/hostedtoolcache/Python/3.6.15/x64/lib/python3.6/site-packages (from mnist) (1.19.5)\r\n"
     ]
    },
    {
     "name": "stdout",
     "output_type": "stream",
     "text": [
      "Installing collected packages: mnist\r\n"
     ]
    },
    {
     "name": "stdout",
     "output_type": "stream",
     "text": [
      "Successfully installed mnist-0.2.2\r\n"
     ]
    }
   ],
   "source": [
    "!pip install mnist"
   ]
  },
  {
   "cell_type": "markdown",
   "id": "69df9c9a",
   "metadata": {
    "papermill": {
     "duration": 0.025249,
     "end_time": "2021-11-20T20:07:38.870322",
     "exception": false,
     "start_time": "2021-11-20T20:07:38.845073",
     "status": "completed"
    },
    "tags": []
   },
   "source": [
    "## Preparing the Data"
   ]
  },
  {
   "cell_type": "code",
   "execution_count": 4,
   "id": "7f69d806",
   "metadata": {
    "execution": {
     "iopub.execute_input": "2021-11-20T20:07:38.925179Z",
     "iopub.status.busy": "2021-11-20T20:07:38.924655Z",
     "iopub.status.idle": "2021-11-20T20:07:38.938189Z",
     "shell.execute_reply": "2021-11-20T20:07:38.938666Z"
    },
    "papermill": {
     "duration": 0.043564,
     "end_time": "2021-11-20T20:07:38.938798",
     "exception": false,
     "start_time": "2021-11-20T20:07:38.895234",
     "status": "completed"
    },
    "tags": []
   },
   "outputs": [],
   "source": [
    "import mnist"
   ]
  },
  {
   "cell_type": "code",
   "execution_count": 5,
   "id": "a411e44f",
   "metadata": {
    "execution": {
     "iopub.execute_input": "2021-11-20T20:07:38.993665Z",
     "iopub.status.busy": "2021-11-20T20:07:38.993112Z",
     "iopub.status.idle": "2021-11-20T20:07:39.677626Z",
     "shell.execute_reply": "2021-11-20T20:07:39.677051Z"
    },
    "papermill": {
     "duration": 0.713701,
     "end_time": "2021-11-20T20:07:39.677777",
     "exception": false,
     "start_time": "2021-11-20T20:07:38.964076",
     "status": "completed"
    },
    "tags": []
   },
   "outputs": [],
   "source": [
    "train_images = mnist.train_images()\n",
    "train_labels = mnist.train_labels()"
   ]
  },
  {
   "cell_type": "code",
   "execution_count": 6,
   "id": "dceab3a5",
   "metadata": {
    "execution": {
     "iopub.execute_input": "2021-11-20T20:07:39.736599Z",
     "iopub.status.busy": "2021-11-20T20:07:39.736065Z",
     "iopub.status.idle": "2021-11-20T20:07:39.748599Z",
     "shell.execute_reply": "2021-11-20T20:07:39.748164Z"
    },
    "papermill": {
     "duration": 0.044418,
     "end_time": "2021-11-20T20:07:39.748710",
     "exception": false,
     "start_time": "2021-11-20T20:07:39.704292",
     "status": "completed"
    },
    "tags": []
   },
   "outputs": [
    {
     "data": {
      "text/plain": [
       "((60000, 28, 28), (60000,))"
      ]
     },
     "execution_count": 6,
     "metadata": {},
     "output_type": "execute_result"
    }
   ],
   "source": [
    "train_images.shape, train_labels.shape"
   ]
  },
  {
   "cell_type": "code",
   "execution_count": 7,
   "id": "f50dc2bb",
   "metadata": {
    "execution": {
     "iopub.execute_input": "2021-11-20T20:07:39.802376Z",
     "iopub.status.busy": "2021-11-20T20:07:39.801874Z",
     "iopub.status.idle": "2021-11-20T20:07:40.039495Z",
     "shell.execute_reply": "2021-11-20T20:07:40.038945Z"
    },
    "papermill": {
     "duration": 0.265585,
     "end_time": "2021-11-20T20:07:40.039651",
     "exception": false,
     "start_time": "2021-11-20T20:07:39.774066",
     "status": "completed"
    },
    "tags": []
   },
   "outputs": [],
   "source": [
    "test_images = mnist.test_images()\n",
    "test_labels = mnist.test_labels()"
   ]
  },
  {
   "cell_type": "code",
   "execution_count": 8,
   "id": "fc38cf1b",
   "metadata": {
    "execution": {
     "iopub.execute_input": "2021-11-20T20:07:40.094462Z",
     "iopub.status.busy": "2021-11-20T20:07:40.093945Z",
     "iopub.status.idle": "2021-11-20T20:07:40.107432Z",
     "shell.execute_reply": "2021-11-20T20:07:40.107919Z"
    },
    "papermill": {
     "duration": 0.042449,
     "end_time": "2021-11-20T20:07:40.108047",
     "exception": false,
     "start_time": "2021-11-20T20:07:40.065598",
     "status": "completed"
    },
    "tags": []
   },
   "outputs": [
    {
     "data": {
      "text/plain": [
       "((10000, 28, 28), (10000,))"
      ]
     },
     "execution_count": 8,
     "metadata": {},
     "output_type": "execute_result"
    }
   ],
   "source": [
    "test_images.shape, test_labels.shape"
   ]
  },
  {
   "cell_type": "code",
   "execution_count": 9,
   "id": "f9ed8fe0",
   "metadata": {
    "execution": {
     "iopub.execute_input": "2021-11-20T20:07:40.162334Z",
     "iopub.status.busy": "2021-11-20T20:07:40.161828Z",
     "iopub.status.idle": "2021-11-20T20:07:40.300745Z",
     "shell.execute_reply": "2021-11-20T20:07:40.299880Z"
    },
    "papermill": {
     "duration": 0.167381,
     "end_time": "2021-11-20T20:07:40.300891",
     "exception": false,
     "start_time": "2021-11-20T20:07:40.133510",
     "status": "completed"
    },
    "tags": []
   },
   "outputs": [
    {
     "name": "stdout",
     "output_type": "stream",
     "text": [
      "2\n"
     ]
    },
    {
     "data": {
      "text/plain": [
       "<matplotlib.image.AxesImage at 0x7f315f1b9048>"
      ]
     },
     "execution_count": 9,
     "metadata": {},
     "output_type": "execute_result"
    },
    {
     "data": {
      "image/png": "[encoded data removed]",
      "text/plain": [
       "<Figure size 432x288 with 1 Axes>"
      ]
     },
     "metadata": {
      "needs_background": "light"
     },
     "output_type": "display_data"
    }
   ],
   "source": [
    "image_index = 7776 # You may select anything up to 60,000\n",
    "print(train_labels[image_index]) \n",
    "plt.imshow(train_images[image_index], cmap='Greys')"
   ]
  },
  {
   "cell_type": "markdown",
   "id": "a8d2388d",
   "metadata": {
    "papermill": {
     "duration": 0.026642,
     "end_time": "2021-11-20T20:07:40.355168",
     "exception": false,
     "start_time": "2021-11-20T20:07:40.328526",
     "status": "completed"
    },
    "tags": []
   },
   "source": [
    "## Filter data to get 3 and 8 out"
   ]
  },
  {
   "cell_type": "code",
   "execution_count": 10,
   "id": "776f7fc7",
   "metadata": {
    "execution": {
     "iopub.execute_input": "2021-11-20T20:07:40.414425Z",
     "iopub.status.busy": "2021-11-20T20:07:40.411884Z",
     "iopub.status.idle": "2021-11-20T20:07:40.431943Z",
     "shell.execute_reply": "2021-11-20T20:07:40.431485Z"
    },
    "papermill": {
     "duration": 0.050265,
     "end_time": "2021-11-20T20:07:40.432054",
     "exception": false,
     "start_time": "2021-11-20T20:07:40.381789",
     "status": "completed"
    },
    "tags": []
   },
   "outputs": [],
   "source": [
    "train_filter = np.where((train_labels == 3 ) | (train_labels == 8))\n",
    "test_filter = np.where((test_labels == 3) | (test_labels == 8))\n",
    "X_train, y_train = train_images[train_filter], train_labels[train_filter]\n",
    "X_test, y_test = test_images[test_filter], test_labels[test_filter]"
   ]
  },
  {
   "cell_type": "markdown",
   "id": "948f0b7e",
   "metadata": {
    "papermill": {
     "duration": 0.026544,
     "end_time": "2021-11-20T20:07:40.485316",
     "exception": false,
     "start_time": "2021-11-20T20:07:40.458772",
     "status": "completed"
    },
    "tags": []
   },
   "source": [
    "We normalize the pizel values in the 0 to 1 range"
   ]
  },
  {
   "cell_type": "code",
   "execution_count": 11,
   "id": "ee4c2166",
   "metadata": {
    "execution": {
     "iopub.execute_input": "2021-11-20T20:07:40.554506Z",
     "iopub.status.busy": "2021-11-20T20:07:40.546207Z",
     "iopub.status.idle": "2021-11-20T20:07:40.594497Z",
     "shell.execute_reply": "2021-11-20T20:07:40.593987Z"
    },
    "papermill": {
     "duration": 0.082864,
     "end_time": "2021-11-20T20:07:40.594641",
     "exception": false,
     "start_time": "2021-11-20T20:07:40.511777",
     "status": "completed"
    },
    "tags": []
   },
   "outputs": [],
   "source": [
    "X_train = X_train/255.\n",
    "X_test = X_test/255."
   ]
  },
  {
   "cell_type": "markdown",
   "id": "ddcf4fab",
   "metadata": {
    "papermill": {
     "duration": 0.026693,
     "end_time": "2021-11-20T20:07:40.648773",
     "exception": false,
     "start_time": "2021-11-20T20:07:40.622080",
     "status": "completed"
    },
    "tags": []
   },
   "source": [
    "And setup the labels as 1 (when the digit is 3) and 0 (when the digit is 8)"
   ]
  },
  {
   "cell_type": "code",
   "execution_count": 12,
   "id": "7dc908f2",
   "metadata": {
    "execution": {
     "iopub.execute_input": "2021-11-20T20:07:40.718754Z",
     "iopub.status.busy": "2021-11-20T20:07:40.718225Z",
     "iopub.status.idle": "2021-11-20T20:07:40.724347Z",
     "shell.execute_reply": "2021-11-20T20:07:40.723933Z"
    },
    "papermill": {
     "duration": 0.049098,
     "end_time": "2021-11-20T20:07:40.724460",
     "exception": false,
     "start_time": "2021-11-20T20:07:40.675362",
     "status": "completed"
    },
    "tags": []
   },
   "outputs": [],
   "source": [
    "y_train = 1*(y_train==3)\n",
    "y_test = 1*(y_test==3)"
   ]
  },
  {
   "cell_type": "code",
   "execution_count": 13,
   "id": "01e4e969",
   "metadata": {
    "execution": {
     "iopub.execute_input": "2021-11-20T20:07:40.781585Z",
     "iopub.status.busy": "2021-11-20T20:07:40.781043Z",
     "iopub.status.idle": "2021-11-20T20:07:40.794227Z",
     "shell.execute_reply": "2021-11-20T20:07:40.794635Z"
    },
    "papermill": {
     "duration": 0.043649,
     "end_time": "2021-11-20T20:07:40.794760",
     "exception": false,
     "start_time": "2021-11-20T20:07:40.751111",
     "status": "completed"
    },
    "tags": []
   },
   "outputs": [
    {
     "data": {
      "text/plain": [
       "((11982, 28, 28), (1984, 28, 28))"
      ]
     },
     "execution_count": 13,
     "metadata": {},
     "output_type": "execute_result"
    }
   ],
   "source": [
    "X_train.shape, X_test.shape"
   ]
  },
  {
   "cell_type": "markdown",
   "id": "5ccf3f85",
   "metadata": {
    "papermill": {
     "duration": 0.02676,
     "end_time": "2021-11-20T20:07:40.848206",
     "exception": false,
     "start_time": "2021-11-20T20:07:40.821446",
     "status": "completed"
    },
    "tags": []
   },
   "source": [
    "We reshape the data to flatten the image pixels into a set of features or co-variates:"
   ]
  },
  {
   "cell_type": "code",
   "execution_count": 14,
   "id": "5286a4a3",
   "metadata": {
    "execution": {
     "iopub.execute_input": "2021-11-20T20:07:40.914816Z",
     "iopub.status.busy": "2021-11-20T20:07:40.914279Z",
     "iopub.status.idle": "2021-11-20T20:07:40.922784Z",
     "shell.execute_reply": "2021-11-20T20:07:40.922375Z"
    },
    "papermill": {
     "duration": 0.047789,
     "end_time": "2021-11-20T20:07:40.922895",
     "exception": false,
     "start_time": "2021-11-20T20:07:40.875106",
     "status": "completed"
    },
    "tags": []
   },
   "outputs": [
    {
     "data": {
      "text/plain": [
       "((11982, 784), (1984, 784))"
      ]
     },
     "execution_count": 14,
     "metadata": {},
     "output_type": "execute_result"
    }
   ],
   "source": [
    "X_train = X_train.reshape(X_train.shape[0], -1)\n",
    "X_test = X_test.reshape(X_test.shape[0], -1)\n",
    "X_train.shape, X_test.shape"
   ]
  },
  {
   "cell_type": "code",
   "execution_count": 15,
   "id": "73c5f88a",
   "metadata": {
    "execution": {
     "iopub.execute_input": "2021-11-20T20:07:40.990267Z",
     "iopub.status.busy": "2021-11-20T20:07:40.988562Z",
     "iopub.status.idle": "2021-11-20T20:07:41.002609Z",
     "shell.execute_reply": "2021-11-20T20:07:41.002178Z"
    },
    "papermill": {
     "duration": 0.052814,
     "end_time": "2021-11-20T20:07:41.002715",
     "exception": false,
     "start_time": "2021-11-20T20:07:40.949901",
     "status": "completed"
    },
    "tags": []
   },
   "outputs": [],
   "source": [
    "#Impoting functions from 'Kudzu'\n",
    "from kudzu.model import Model\n",
    "from kudzu.train import Learner\n",
    "from kudzu.optim import GD\n",
    "from kudzu.data import Data, Sampler,Dataloader\n",
    "\n",
    "from kudzu.callbacks import AccCallback\n",
    "from kudzu.callbacks import ClfCallback\n",
    "\n",
    "from kudzu.loss import MSE\n",
    "\n",
    "from kudzu.layer import Sigmoid,Relu\n",
    "from kudzu.layer import Affine"
   ]
  },
  {
   "cell_type": "markdown",
   "id": "bc01172a",
   "metadata": {
    "papermill": {
     "duration": 0.027112,
     "end_time": "2021-11-20T20:07:41.056953",
     "exception": false,
     "start_time": "2021-11-20T20:07:41.029841",
     "status": "completed"
    },
    "tags": []
   },
   "source": [
    "### Let us create a `Config` class, to store important parameters. \n",
    "This class essentially plays the role of a dictionary."
   ]
  },
  {
   "cell_type": "code",
   "execution_count": 16,
   "id": "978281aa",
   "metadata": {
    "execution": {
     "iopub.execute_input": "2021-11-20T20:07:41.114614Z",
     "iopub.status.busy": "2021-11-20T20:07:41.114102Z",
     "iopub.status.idle": "2021-11-20T20:07:41.126280Z",
     "shell.execute_reply": "2021-11-20T20:07:41.125852Z"
    },
    "papermill": {
     "duration": 0.042421,
     "end_time": "2021-11-20T20:07:41.126386",
     "exception": false,
     "start_time": "2021-11-20T20:07:41.083965",
     "status": "completed"
    },
    "tags": []
   },
   "outputs": [],
   "source": [
    "class Config:\n",
    "    pass\n",
    "config = Config()\n",
    "config.lr = 0.001\n",
    "config.num_epochs = 250\n",
    "config.bs = 50"
   ]
  },
  {
   "cell_type": "markdown",
   "id": "1385fa59",
   "metadata": {
    "papermill": {
     "duration": 0.027016,
     "end_time": "2021-11-20T20:07:41.180753",
     "exception": false,
     "start_time": "2021-11-20T20:07:41.153737",
     "status": "completed"
    },
    "tags": []
   },
   "source": [
    "### Running Models with the Training data\n",
    "Details about the network layers:\n",
    "- A first affine layer has 784 inputs and does 100 affine transforms. These are followed by a Relu\n",
    "- A second affine layer has 100 inputs from the 100 activations of the past layer, and does 100 affine transforms. These are followed by a Relu\n",
    "- A third affine layer has 100 activations and does 2 affine transformations to create an embedding for visualization. There is no non-linearity here.\n",
    "- A final \"logistic regression\" which has an affine transform from 2 inputs to 1 output, which is squeezed through a sigmoid.\n"
   ]
  },
  {
   "cell_type": "code",
   "execution_count": 17,
   "id": "2b9c66db",
   "metadata": {
    "execution": {
     "iopub.execute_input": "2021-11-20T20:07:41.240494Z",
     "iopub.status.busy": "2021-11-20T20:07:41.239951Z",
     "iopub.status.idle": "2021-11-20T20:07:41.252034Z",
     "shell.execute_reply": "2021-11-20T20:07:41.251604Z"
    },
    "papermill": {
     "duration": 0.04431,
     "end_time": "2021-11-20T20:07:41.252146",
     "exception": false,
     "start_time": "2021-11-20T20:07:41.207836",
     "status": "completed"
    },
    "tags": []
   },
   "outputs": [],
   "source": [
    "data = Data(X_train, y_train.reshape(-1,1))\n",
    "sampler = Sampler(data, config.bs, shuffle=True)\n",
    "\n",
    "dl = Dataloader(data, sampler)\n",
    "\n",
    "opt = GD(config.lr)\n",
    "loss = MSE()"
   ]
  },
  {
   "cell_type": "code",
   "execution_count": 18,
   "id": "b275e4c2",
   "metadata": {
    "execution": {
     "iopub.execute_input": "2021-11-20T20:07:41.310241Z",
     "iopub.status.busy": "2021-11-20T20:07:41.309722Z",
     "iopub.status.idle": "2021-11-20T20:07:41.321149Z",
     "shell.execute_reply": "2021-11-20T20:07:41.321611Z"
    },
    "papermill": {
     "duration": 0.042413,
     "end_time": "2021-11-20T20:07:41.321737",
     "exception": false,
     "start_time": "2021-11-20T20:07:41.279324",
     "status": "completed"
    },
    "tags": []
   },
   "outputs": [],
   "source": [
    "training_data_x = X_train\n",
    "testing_data_x = X_test\n",
    "training_data_y = y_train.reshape(-1,1)\n",
    "testing_data_y = y_test.reshape(-1,1)"
   ]
  },
  {
   "cell_type": "code",
   "execution_count": 19,
   "id": "76951160",
   "metadata": {
    "execution": {
     "iopub.execute_input": "2021-11-20T20:07:41.380425Z",
     "iopub.status.busy": "2021-11-20T20:07:41.379909Z",
     "iopub.status.idle": "2021-11-20T20:07:41.395246Z",
     "shell.execute_reply": "2021-11-20T20:07:41.395676Z"
    },
    "papermill": {
     "duration": 0.046796,
     "end_time": "2021-11-20T20:07:41.395793",
     "exception": false,
     "start_time": "2021-11-20T20:07:41.348997",
     "status": "completed"
    },
    "tags": []
   },
   "outputs": [
    {
     "name": "stdout",
     "output_type": "stream",
     "text": [
      "xavier\n",
      "xavier\n",
      "xavier\n",
      "xavier\n",
      "xavier\n"
     ]
    }
   ],
   "source": [
    "layers = [Affine(\"first\", 784, 100), Relu(\"first\"), Affine(\"second\", 100, 100), Relu(\"second\"), Affine(\"third\", 100, 2), Affine(\"last\", 2, 1), Sigmoid(\"last\")]\n",
    "model_nn = Model(layers)\n",
    "model_lr = Model([Affine(\"logits\", 784, 1), Sigmoid(\"sigmoid\")])"
   ]
  },
  {
   "cell_type": "code",
   "execution_count": 20,
   "id": "6eede77a",
   "metadata": {
    "execution": {
     "iopub.execute_input": "2021-11-20T20:07:41.464179Z",
     "iopub.status.busy": "2021-11-20T20:07:41.459609Z",
     "iopub.status.idle": "2021-11-20T20:07:41.469203Z",
     "shell.execute_reply": "2021-11-20T20:07:41.469639Z"
    },
    "papermill": {
     "duration": 0.046559,
     "end_time": "2021-11-20T20:07:41.469770",
     "exception": false,
     "start_time": "2021-11-20T20:07:41.423211",
     "status": "completed"
    },
    "tags": []
   },
   "outputs": [],
   "source": [
    "nn_learner = Learner(loss, model_nn, opt, config.num_epochs)\n",
    "acc_nn = ClfCallback(nn_learner, config.bs, training_data_x , testing_data_x, training_data_y, testing_data_y)\n",
    "nn_learner.set_callbacks([acc_nn])"
   ]
  },
  {
   "cell_type": "code",
   "execution_count": 21,
   "id": "877b6cc7",
   "metadata": {
    "execution": {
     "iopub.execute_input": "2021-11-20T20:07:41.535970Z",
     "iopub.status.busy": "2021-11-20T20:07:41.528354Z",
     "iopub.status.idle": "2021-11-20T20:07:41.543994Z",
     "shell.execute_reply": "2021-11-20T20:07:41.543584Z"
    },
    "papermill": {
     "duration": 0.046769,
     "end_time": "2021-11-20T20:07:41.544103",
     "exception": false,
     "start_time": "2021-11-20T20:07:41.497334",
     "status": "completed"
    },
    "tags": []
   },
   "outputs": [],
   "source": [
    "lr_learner = Learner(loss, model_lr, opt, config.num_epochs)\n",
    "acc_lr = ClfCallback(lr_learner, config.bs, training_data_x , testing_data_x, training_data_y, testing_data_y)\n",
    "lr_learner.set_callbacks([acc_lr])"
   ]
  },
  {
   "cell_type": "code",
   "execution_count": 22,
   "id": "d9b133c3",
   "metadata": {
    "execution": {
     "iopub.execute_input": "2021-11-20T20:07:41.606576Z",
     "iopub.status.busy": "2021-11-20T20:07:41.606069Z",
     "iopub.status.idle": "2021-11-20T20:08:57.404095Z",
     "shell.execute_reply": "2021-11-20T20:08:57.404873Z"
    },
    "papermill": {
     "duration": 75.833328,
     "end_time": "2021-11-20T20:08:57.405028",
     "exception": false,
     "start_time": "2021-11-20T20:07:41.571700",
     "status": "completed"
    },
    "tags": []
   },
   "outputs": [
    {
     "name": "stdout",
     "output_type": "stream",
     "text": [
      "Epoch 0, Loss 0.2346\n",
      "Training Accuracy: 0.7185, Testing Accuracy: 0.7505\n",
      "\n"
     ]
    },
    {
     "name": "stdout",
     "output_type": "stream",
     "text": [
      "Epoch 10, Loss 0.0779\n",
      "Training Accuracy: 0.9252, Testing Accuracy: 0.9395\n",
      "\n"
     ]
    },
    {
     "name": "stdout",
     "output_type": "stream",
     "text": [
      "Epoch 20, Loss 0.0488\n",
      "Training Accuracy: 0.9488, Testing Accuracy: 0.9622\n",
      "\n"
     ]
    },
    {
     "name": "stdout",
     "output_type": "stream",
     "text": [
      "Epoch 30, Loss 0.0389\n",
      "Training Accuracy: 0.9565, Testing Accuracy: 0.9688\n",
      "\n"
     ]
    },
    {
     "name": "stdout",
     "output_type": "stream",
     "text": [
      "Epoch 40, Loss 0.034\n",
      "Training Accuracy: 0.9625, Testing Accuracy: 0.9703\n",
      "\n"
     ]
    },
    {
     "name": "stdout",
     "output_type": "stream",
     "text": [
      "Epoch 50, Loss 0.0309\n",
      "Training Accuracy: 0.9653, Testing Accuracy: 0.9723\n",
      "\n"
     ]
    },
    {
     "name": "stdout",
     "output_type": "stream",
     "text": [
      "Epoch 60, Loss 0.0288\n",
      "Training Accuracy: 0.9680, Testing Accuracy: 0.9733\n",
      "\n"
     ]
    },
    {
     "name": "stdout",
     "output_type": "stream",
     "text": [
      "Epoch 70, Loss 0.0271\n",
      "Training Accuracy: 0.9692, Testing Accuracy: 0.9733\n",
      "\n"
     ]
    },
    {
     "name": "stdout",
     "output_type": "stream",
     "text": [
      "Epoch 80, Loss 0.0257\n",
      "Training Accuracy: 0.9710, Testing Accuracy: 0.9748\n",
      "\n"
     ]
    },
    {
     "name": "stdout",
     "output_type": "stream",
     "text": [
      "Epoch 90, Loss 0.0246\n",
      "Training Accuracy: 0.9723, Testing Accuracy: 0.9753\n",
      "\n"
     ]
    },
    {
     "name": "stdout",
     "output_type": "stream",
     "text": [
      "Epoch 100, Loss 0.0236\n",
      "Training Accuracy: 0.9737, Testing Accuracy: 0.9758\n",
      "\n"
     ]
    },
    {
     "name": "stdout",
     "output_type": "stream",
     "text": [
      "Epoch 110, Loss 0.0227\n",
      "Training Accuracy: 0.9747, Testing Accuracy: 0.9763\n",
      "\n"
     ]
    },
    {
     "name": "stdout",
     "output_type": "stream",
     "text": [
      "Epoch 120, Loss 0.022\n",
      "Training Accuracy: 0.9760, Testing Accuracy: 0.9768\n",
      "\n"
     ]
    },
    {
     "name": "stdout",
     "output_type": "stream",
     "text": [
      "Epoch 130, Loss 0.0213\n",
      "Training Accuracy: 0.9768, Testing Accuracy: 0.9768\n",
      "\n"
     ]
    },
    {
     "name": "stdout",
     "output_type": "stream",
     "text": [
      "Epoch 140, Loss 0.0206\n",
      "Training Accuracy: 0.9775, Testing Accuracy: 0.9778\n",
      "\n"
     ]
    },
    {
     "name": "stdout",
     "output_type": "stream",
     "text": [
      "Epoch 150, Loss 0.02\n",
      "Training Accuracy: 0.9779, Testing Accuracy: 0.9768\n",
      "\n"
     ]
    },
    {
     "name": "stdout",
     "output_type": "stream",
     "text": [
      "Epoch 160, Loss 0.0195\n",
      "Training Accuracy: 0.9783, Testing Accuracy: 0.9773\n",
      "\n"
     ]
    },
    {
     "name": "stdout",
     "output_type": "stream",
     "text": [
      "Epoch 170, Loss 0.019\n",
      "Training Accuracy: 0.9787, Testing Accuracy: 0.9773\n",
      "\n"
     ]
    },
    {
     "name": "stdout",
     "output_type": "stream",
     "text": [
      "Epoch 180, Loss 0.0185\n",
      "Training Accuracy: 0.9797, Testing Accuracy: 0.9783\n",
      "\n"
     ]
    },
    {
     "name": "stdout",
     "output_type": "stream",
     "text": [
      "Epoch 190, Loss 0.018\n",
      "Training Accuracy: 0.9802, Testing Accuracy: 0.9783\n",
      "\n"
     ]
    },
    {
     "name": "stdout",
     "output_type": "stream",
     "text": [
      "Epoch 200, Loss 0.0176\n",
      "Training Accuracy: 0.9806, Testing Accuracy: 0.9788\n",
      "\n"
     ]
    },
    {
     "name": "stdout",
     "output_type": "stream",
     "text": [
      "Epoch 210, Loss 0.0172\n",
      "Training Accuracy: 0.9813, Testing Accuracy: 0.9793\n",
      "\n"
     ]
    },
    {
     "name": "stdout",
     "output_type": "stream",
     "text": [
      "Epoch 220, Loss 0.0168\n",
      "Training Accuracy: 0.9818, Testing Accuracy: 0.9793\n",
      "\n"
     ]
    },
    {
     "name": "stdout",
     "output_type": "stream",
     "text": [
      "Epoch 230, Loss 0.0164\n",
      "Training Accuracy: 0.9824, Testing Accuracy: 0.9798\n",
      "\n"
     ]
    },
    {
     "name": "stdout",
     "output_type": "stream",
     "text": [
      "Epoch 240, Loss 0.016\n",
      "Training Accuracy: 0.9831, Testing Accuracy: 0.9803\n",
      "\n"
     ]
    },
    {
     "data": {
      "text/plain": [
       "0.0011280420732368843"
      ]
     },
     "execution_count": 22,
     "metadata": {},
     "output_type": "execute_result"
    }
   ],
   "source": [
    "nn_learner.train_loop(dl)"
   ]
  },
  {
   "cell_type": "code",
   "execution_count": 23,
   "id": "e0163366",
   "metadata": {
    "execution": {
     "iopub.execute_input": "2021-11-20T20:08:57.483183Z",
     "iopub.status.busy": "2021-11-20T20:08:57.482662Z",
     "iopub.status.idle": "2021-11-20T20:09:11.571511Z",
     "shell.execute_reply": "2021-11-20T20:09:11.572251Z"
    },
    "papermill": {
     "duration": 14.132116,
     "end_time": "2021-11-20T20:09:11.572414",
     "exception": false,
     "start_time": "2021-11-20T20:08:57.440298",
     "status": "completed"
    },
    "tags": []
   },
   "outputs": [
    {
     "name": "stdout",
     "output_type": "stream",
     "text": [
      "Epoch 0, Loss 0.2425\n",
      "Training Accuracy: 0.6918, Testing Accuracy: 0.7208\n",
      "\n"
     ]
    },
    {
     "name": "stdout",
     "output_type": "stream",
     "text": [
      "Epoch 10, Loss 0.1021\n",
      "Training Accuracy: 0.9116, Testing Accuracy: 0.9219\n",
      "\n"
     ]
    },
    {
     "name": "stdout",
     "output_type": "stream",
     "text": [
      "Epoch 20, Loss 0.0786\n",
      "Training Accuracy: 0.9282, Testing Accuracy: 0.9415\n",
      "\n"
     ]
    },
    {
     "name": "stdout",
     "output_type": "stream",
     "text": [
      "Epoch 30, Loss 0.0678\n",
      "Training Accuracy: 0.9364, Testing Accuracy: 0.9491\n",
      "\n"
     ]
    },
    {
     "name": "stdout",
     "output_type": "stream",
     "text": [
      "Epoch 40, Loss 0.0613\n",
      "Training Accuracy: 0.9407, Testing Accuracy: 0.9516\n",
      "\n"
     ]
    },
    {
     "name": "stdout",
     "output_type": "stream",
     "text": [
      "Epoch 50, Loss 0.0568\n",
      "Training Accuracy: 0.9449, Testing Accuracy: 0.9551\n",
      "\n"
     ]
    },
    {
     "name": "stdout",
     "output_type": "stream",
     "text": [
      "Epoch 60, Loss 0.0535\n",
      "Training Accuracy: 0.9473, Testing Accuracy: 0.9582\n",
      "\n"
     ]
    },
    {
     "name": "stdout",
     "output_type": "stream",
     "text": [
      "Epoch 70, Loss 0.051\n",
      "Training Accuracy: 0.9494, Testing Accuracy: 0.9597\n",
      "\n"
     ]
    },
    {
     "name": "stdout",
     "output_type": "stream",
     "text": [
      "Epoch 80, Loss 0.049\n",
      "Training Accuracy: 0.9513, Testing Accuracy: 0.9597\n",
      "\n"
     ]
    },
    {
     "name": "stdout",
     "output_type": "stream",
     "text": [
      "Epoch 90, Loss 0.0473\n",
      "Training Accuracy: 0.9525, Testing Accuracy: 0.9612\n",
      "\n"
     ]
    },
    {
     "name": "stdout",
     "output_type": "stream",
     "text": [
      "Epoch 100, Loss 0.0459\n",
      "Training Accuracy: 0.9537, Testing Accuracy: 0.9612\n",
      "\n"
     ]
    },
    {
     "name": "stdout",
     "output_type": "stream",
     "text": [
      "Epoch 110, Loss 0.0447\n",
      "Training Accuracy: 0.9547, Testing Accuracy: 0.9612\n",
      "\n"
     ]
    },
    {
     "name": "stdout",
     "output_type": "stream",
     "text": [
      "Epoch 120, Loss 0.0436\n",
      "Training Accuracy: 0.9554, Testing Accuracy: 0.9622\n",
      "\n"
     ]
    },
    {
     "name": "stdout",
     "output_type": "stream",
     "text": [
      "Epoch 130, Loss 0.0427\n",
      "Training Accuracy: 0.9561, Testing Accuracy: 0.9627\n",
      "\n"
     ]
    },
    {
     "name": "stdout",
     "output_type": "stream",
     "text": [
      "Epoch 140, Loss 0.0419\n",
      "Training Accuracy: 0.9571, Testing Accuracy: 0.9637\n",
      "\n"
     ]
    },
    {
     "name": "stdout",
     "output_type": "stream",
     "text": [
      "Epoch 150, Loss 0.0411\n",
      "Training Accuracy: 0.9579, Testing Accuracy: 0.9642\n",
      "\n"
     ]
    },
    {
     "name": "stdout",
     "output_type": "stream",
     "text": [
      "Epoch 160, Loss 0.0405\n",
      "Training Accuracy: 0.9583, Testing Accuracy: 0.9652\n",
      "\n"
     ]
    },
    {
     "name": "stdout",
     "output_type": "stream",
     "text": [
      "Epoch 170, Loss 0.0399\n",
      "Training Accuracy: 0.9588, Testing Accuracy: 0.9657\n",
      "\n"
     ]
    },
    {
     "name": "stdout",
     "output_type": "stream",
     "text": [
      "Epoch 180, Loss 0.0393\n",
      "Training Accuracy: 0.9593, Testing Accuracy: 0.9657\n",
      "\n"
     ]
    },
    {
     "name": "stdout",
     "output_type": "stream",
     "text": [
      "Epoch 190, Loss 0.0388\n",
      "Training Accuracy: 0.9594, Testing Accuracy: 0.9662\n",
      "\n"
     ]
    },
    {
     "name": "stdout",
     "output_type": "stream",
     "text": [
      "Epoch 200, Loss 0.0383\n",
      "Training Accuracy: 0.9601, Testing Accuracy: 0.9662\n",
      "\n"
     ]
    },
    {
     "name": "stdout",
     "output_type": "stream",
     "text": [
      "Epoch 210, Loss 0.0379\n",
      "Training Accuracy: 0.9607, Testing Accuracy: 0.9662\n",
      "\n"
     ]
    },
    {
     "name": "stdout",
     "output_type": "stream",
     "text": [
      "Epoch 220, Loss 0.0375\n",
      "Training Accuracy: 0.9611, Testing Accuracy: 0.9662\n",
      "\n"
     ]
    },
    {
     "name": "stdout",
     "output_type": "stream",
     "text": [
      "Epoch 230, Loss 0.0371\n",
      "Training Accuracy: 0.9613, Testing Accuracy: 0.9667\n",
      "\n"
     ]
    },
    {
     "name": "stdout",
     "output_type": "stream",
     "text": [
      "Epoch 240, Loss 0.0367\n",
      "Training Accuracy: 0.9614, Testing Accuracy: 0.9672\n",
      "\n"
     ]
    },
    {
     "data": {
      "text/plain": [
       "0.06329203901452432"
      ]
     },
     "execution_count": 23,
     "metadata": {},
     "output_type": "execute_result"
    }
   ],
   "source": [
    "lr_learner.train_loop(dl)"
   ]
  },
  {
   "cell_type": "code",
   "execution_count": 24,
   "id": "ca410940",
   "metadata": {
    "execution": {
     "iopub.execute_input": "2021-11-20T20:09:11.666772Z",
     "iopub.status.busy": "2021-11-20T20:09:11.666244Z",
     "iopub.status.idle": "2021-11-20T20:09:11.892474Z",
     "shell.execute_reply": "2021-11-20T20:09:11.892024Z"
    },
    "papermill": {
     "duration": 0.27793,
     "end_time": "2021-11-20T20:09:11.892597",
     "exception": false,
     "start_time": "2021-11-20T20:09:11.614667",
     "status": "completed"
    },
    "tags": []
   },
   "outputs": [
    {
     "data": {
      "text/plain": [
       "<matplotlib.legend.Legend at 0x7f315ed1c780>"
      ]
     },
     "execution_count": 24,
     "metadata": {},
     "output_type": "execute_result"
    },
    {
     "data": {
      "image/png": "[encoded data removed]",
      "text/plain": [
       "<Figure size 1080x720 with 1 Axes>"
      ]
     },
     "metadata": {
      "needs_background": "light"
     },
     "output_type": "display_data"
    }
   ],
   "source": [
    "#comparing the results of NN and LR\n",
    "plt.figure(figsize=(15,10))\n",
    "\n",
    "# Neural Network plots\n",
    "plt.plot(acc_nn.accuracies, 'r-', label = \"Training Accuracies - NN\")\n",
    "plt.plot(acc_nn.test_accuracies, 'g-', label = \"Testing Accuracies - NN\")\n",
    "\n",
    "# Logistic Regression plots\n",
    "plt.plot(acc_lr.accuracies, 'k-', label = \"Training Accuracies - LR\")\n",
    "plt.plot(acc_lr.test_accuracies, 'b-', label = \"Testing Accuracies - LR\")\n",
    "plt.legend()"
   ]
  },
  {
   "cell_type": "markdown",
   "id": "80dfb35c",
   "metadata": {
    "papermill": {
     "duration": 0.042158,
     "end_time": "2021-11-20T20:09:11.977448",
     "exception": false,
     "start_time": "2021-11-20T20:09:11.935290",
     "status": "completed"
    },
    "tags": []
   },
   "source": [
    "#### Plotting the outputs of this layer of the NN.\n"
   ]
  },
  {
   "cell_type": "code",
   "execution_count": 25,
   "id": "45eb2ff5",
   "metadata": {
    "execution": {
     "iopub.execute_input": "2021-11-20T20:09:12.070268Z",
     "iopub.status.busy": "2021-11-20T20:09:12.069698Z",
     "iopub.status.idle": "2021-11-20T20:09:12.088483Z",
     "shell.execute_reply": "2021-11-20T20:09:12.089132Z"
    },
    "papermill": {
     "duration": 0.06948,
     "end_time": "2021-11-20T20:09:12.089269",
     "exception": false,
     "start_time": "2021-11-20T20:09:12.019789",
     "status": "completed"
    },
    "tags": []
   },
   "outputs": [],
   "source": [
    "new_model = Model(layers[:-2])\n",
    "testing_plot = new_model(testing_data_x)"
   ]
  },
  {
   "cell_type": "code",
   "execution_count": 26,
   "id": "4c0a5485",
   "metadata": {
    "execution": {
     "iopub.execute_input": "2021-11-20T20:09:12.184175Z",
     "iopub.status.busy": "2021-11-20T20:09:12.183620Z",
     "iopub.status.idle": "2021-11-20T20:09:12.376733Z",
     "shell.execute_reply": "2021-11-20T20:09:12.376018Z"
    },
    "papermill": {
     "duration": 0.244183,
     "end_time": "2021-11-20T20:09:12.376896",
     "exception": false,
     "start_time": "2021-11-20T20:09:12.132713",
     "status": "completed"
    },
    "tags": []
   },
   "outputs": [
    {
     "data": {
      "text/plain": [
       "Text(0.5, 1.0, 'Outputs')"
      ]
     },
     "execution_count": 26,
     "metadata": {},
     "output_type": "execute_result"
    },
    {
     "data": {
      "image/png": "[encoded data removed]",
      "text/plain": [
       "<Figure size 576x504 with 1 Axes>"
      ]
     },
     "metadata": {
      "needs_background": "light"
     },
     "output_type": "display_data"
    }
   ],
   "source": [
    "# Plotting the scatter plot of points and color coding by class\n",
    "plt.figure(figsize=(8,7))\n",
    "plt.scatter(testing_plot[:,0], testing_plot[:,1], alpha = 0.1, c = y_test.ravel());\n",
    "plt.title('Outputs')"
   ]
  },
  {
   "cell_type": "markdown",
   "id": "a74fcf8f",
   "metadata": {
    "papermill": {
     "duration": 0.044074,
     "end_time": "2021-11-20T20:09:12.465693",
     "exception": false,
     "start_time": "2021-11-20T20:09:12.421619",
     "status": "completed"
    },
    "tags": []
   },
   "source": [
    "Probability contours"
   ]
  },
  {
   "cell_type": "code",
   "execution_count": 27,
   "id": "d0afc8e3",
   "metadata": {
    "execution": {
     "iopub.execute_input": "2021-11-20T20:09:12.558646Z",
     "iopub.status.busy": "2021-11-20T20:09:12.558132Z",
     "iopub.status.idle": "2021-11-20T20:09:12.569955Z",
     "shell.execute_reply": "2021-11-20T20:09:12.570345Z"
    },
    "papermill": {
     "duration": 0.060481,
     "end_time": "2021-11-20T20:09:12.570484",
     "exception": false,
     "start_time": "2021-11-20T20:09:12.510003",
     "status": "completed"
    },
    "tags": []
   },
   "outputs": [],
   "source": [
    "model_prob = Model(layers[-2:]) "
   ]
  },
  {
   "cell_type": "code",
   "execution_count": 28,
   "id": "9b96e238",
   "metadata": {
    "execution": {
     "iopub.execute_input": "2021-11-20T20:09:12.700136Z",
     "iopub.status.busy": "2021-11-20T20:09:12.699615Z",
     "iopub.status.idle": "2021-11-20T20:09:12.711947Z",
     "shell.execute_reply": "2021-11-20T20:09:12.712331Z"
    },
    "papermill": {
     "duration": 0.067315,
     "end_time": "2021-11-20T20:09:12.712464",
     "exception": false,
     "start_time": "2021-11-20T20:09:12.645149",
     "status": "completed"
    },
    "tags": []
   },
   "outputs": [],
   "source": [
    "#creating the x and y ranges according to the above generated plot.\n",
    "x_range = np.linspace(-4, 1, 100) \n",
    "y_range = np.linspace(-6, 6, 100) \n",
    "x_grid, y_grid = np.meshgrid(x_range, y_range) # x_grid and y_grig are of size 100 X 100\n",
    "\n",
    "# converting x_grid and y_grid to continuous arrays\n",
    "x_gridflat = np.ravel(x_grid)\n",
    "y_gridflat = np.ravel(y_grid)\n",
    "\n",
    "# The last layer of the current model takes two columns as input. Hence transpose of np.vstack() is required.\n",
    "X = np.vstack((x_gridflat, y_gridflat)).T\n",
    "\n",
    "prob_contour = model_prob(X).reshape(100,100) "
   ]
  },
  {
   "cell_type": "code",
   "execution_count": 29,
   "id": "da72499a",
   "metadata": {
    "execution": {
     "iopub.execute_input": "2021-11-20T20:09:12.810892Z",
     "iopub.status.busy": "2021-11-20T20:09:12.810372Z",
     "iopub.status.idle": "2021-11-20T20:09:13.051921Z",
     "shell.execute_reply": "2021-11-20T20:09:13.052318Z"
    },
    "papermill": {
     "duration": 0.295564,
     "end_time": "2021-11-20T20:09:13.052466",
     "exception": false,
     "start_time": "2021-11-20T20:09:12.756902",
     "status": "completed"
    },
    "tags": []
   },
   "outputs": [
    {
     "data": {
      "image/png": "[encoded data removed]",
      "text/plain": [
       "<Figure size 720x648 with 1 Axes>"
      ]
     },
     "metadata": {
      "needs_background": "light"
     },
     "output_type": "display_data"
    }
   ],
   "source": [
    "plt.figure(figsize=(10,9))\n",
    "plt.scatter(testing_plot[:,0], testing_plot[:,1], alpha = 0.1, c = y_test.ravel())\n",
    "contours = plt.contour(x_grid,y_grid,prob_contour)\n",
    "plt.title('Probability Contours')\n",
    "plt.clabel(contours, inline = True );"
   ]
  },
  {
   "cell_type": "code",
   "execution_count": null,
   "id": "e81b4ac7",
   "metadata": {
    "papermill": {
     "duration": 0.047402,
     "end_time": "2021-11-20T20:09:13.147640",
     "exception": false,
     "start_time": "2021-11-20T20:09:13.100238",
     "status": "completed"
    },
    "tags": []
   },
   "outputs": [],
   "source": []
  }
 ],
 "metadata": {
  "kernelspec": {
   "display_name": "Python 3",
   "language": "python",
   "name": "python3"
  },
  "language_info": {
   "codemirror_mode": {
    "name": "ipython",
    "version": 3
   },
   "file_extension": ".py",
   "mimetype": "text/x-python",
   "name": "python",
   "nbconvert_exporter": "python",
   "pygments_lexer": "ipython3",
   "version": "3.6.15"
  },
  "papermill": {
   "default_parameters": {},
   "duration": 98.57023,
   "end_time": "2021-11-20T20:09:13.604445",
   "environment_variables": {},
   "exception": null,
   "input_path": "2020-08-11-part2.ipynb",
   "output_path": "2020-08-11-part2.ipynb",
   "parameters": {},
   "start_time": "2021-11-20T20:07:35.034215",
   "version": "2.3.3"
  }
 },
 "nbformat": 4,
 "nbformat_minor": 5
}