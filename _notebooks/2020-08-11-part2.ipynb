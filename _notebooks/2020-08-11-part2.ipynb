{
 "cells": [
  {
   "cell_type": "markdown",
   "id": "98380cd3",
   "metadata": {
    "papermill": {
     "duration": 0.0284,
     "end_time": "2021-11-19T20:08:42.327452",
     "exception": false,
     "start_time": "2021-11-19T20:08:42.299052",
     "status": "completed"
    },
    "tags": []
   },
   "source": [
    "# Distinguish Your Own Digits (DYOD)"
   ]
  },
  {
   "cell_type": "markdown",
   "id": "ef31240d",
   "metadata": {
    "papermill": {
     "duration": 0.02491,
     "end_time": "2021-11-19T20:08:42.376549",
     "exception": false,
     "start_time": "2021-11-19T20:08:42.351639",
     "status": "completed"
    },
    "tags": []
   },
   "source": [
    "You are going to write a classifier that distinguishes between the number 3 and number 8."
   ]
  },
  {
   "cell_type": "code",
   "execution_count": 1,
   "id": "b15c8646",
   "metadata": {
    "execution": {
     "iopub.execute_input": "2021-11-19T20:08:42.433704Z",
     "iopub.status.busy": "2021-11-19T20:08:42.433185Z",
     "iopub.status.idle": "2021-11-19T20:08:42.443212Z",
     "shell.execute_reply": "2021-11-19T20:08:42.443622Z"
    },
    "papermill": {
     "duration": 0.043654,
     "end_time": "2021-11-19T20:08:42.443758",
     "exception": false,
     "start_time": "2021-11-19T20:08:42.400104",
     "status": "completed"
    },
    "tags": []
   },
   "outputs": [],
   "source": [
    "%load_ext autoreload\n",
    "%autoreload 2"
   ]
  },
  {
   "cell_type": "code",
   "execution_count": 2,
   "id": "22ef38dc",
   "metadata": {
    "execution": {
     "iopub.execute_input": "2021-11-19T20:08:42.494497Z",
     "iopub.status.busy": "2021-11-19T20:08:42.493981Z",
     "iopub.status.idle": "2021-11-19T20:08:43.075317Z",
     "shell.execute_reply": "2021-11-19T20:08:43.075808Z"
    },
    "papermill": {
     "duration": 0.608596,
     "end_time": "2021-11-19T20:08:43.076000",
     "exception": false,
     "start_time": "2021-11-19T20:08:42.467404",
     "status": "completed"
    },
    "tags": []
   },
   "outputs": [],
   "source": [
    "%matplotlib inline\n",
    "import numpy as np\n",
    "import matplotlib.pyplot as plt\n",
    "import pandas as pd"
   ]
  },
  {
   "cell_type": "markdown",
   "id": "ba036198",
   "metadata": {
    "papermill": {
     "duration": 0.023707,
     "end_time": "2021-11-19T20:08:43.123795",
     "exception": false,
     "start_time": "2021-11-19T20:08:43.100088",
     "status": "completed"
    },
    "tags": []
   },
   "source": [
    "From the command line run `pip install mnist`. This is a library that will help you bring down the mnist dataset. If you run this from a notebook, you need to put  `!pip install mnist` in a cell by itself."
   ]
  },
  {
   "cell_type": "code",
   "execution_count": 3,
   "id": "bb6ad8a1",
   "metadata": {
    "execution": {
     "iopub.execute_input": "2021-11-19T20:08:43.175885Z",
     "iopub.status.busy": "2021-11-19T20:08:43.175348Z",
     "iopub.status.idle": "2021-11-19T20:08:45.643304Z",
     "shell.execute_reply": "2021-11-19T20:08:45.642394Z"
    },
    "papermill": {
     "duration": 2.495912,
     "end_time": "2021-11-19T20:08:45.643460",
     "exception": false,
     "start_time": "2021-11-19T20:08:43.147548",
     "status": "completed"
    },
    "tags": []
   },
   "outputs": [
    {
     "name": "stdout",
     "output_type": "stream",
     "text": [
      "Collecting mnist\r\n"
     ]
    },
    {
     "name": "stdout",
     "output_type": "stream",
     "text": [
      "  Downloading mnist-0.2.2-py2.py3-none-any.whl (3.5 kB)\r\n",
      "Requirement already satisfied: numpy in /opt/hostedtoolcache/Python/3.6.15/x64/lib/python3.6/site-packages (from mnist) (1.19.5)\r\n"
     ]
    },
    {
     "name": "stdout",
     "output_type": "stream",
     "text": [
      "Installing collected packages: mnist\r\n"
     ]
    },
    {
     "name": "stdout",
     "output_type": "stream",
     "text": [
      "Successfully installed mnist-0.2.2\r\n"
     ]
    }
   ],
   "source": [
    "!pip install mnist"
   ]
  },
  {
   "cell_type": "markdown",
   "id": "69df9c9a",
   "metadata": {
    "papermill": {
     "duration": 0.024981,
     "end_time": "2021-11-19T20:08:45.694307",
     "exception": false,
     "start_time": "2021-11-19T20:08:45.669326",
     "status": "completed"
    },
    "tags": []
   },
   "source": [
    "## Preparing the Data"
   ]
  },
  {
   "cell_type": "code",
   "execution_count": 4,
   "id": "7f69d806",
   "metadata": {
    "execution": {
     "iopub.execute_input": "2021-11-19T20:08:45.748832Z",
     "iopub.status.busy": "2021-11-19T20:08:45.746933Z",
     "iopub.status.idle": "2021-11-19T20:08:45.761153Z",
     "shell.execute_reply": "2021-11-19T20:08:45.760742Z"
    },
    "papermill": {
     "duration": 0.042297,
     "end_time": "2021-11-19T20:08:45.761262",
     "exception": false,
     "start_time": "2021-11-19T20:08:45.718965",
     "status": "completed"
    },
    "tags": []
   },
   "outputs": [],
   "source": [
    "import mnist"
   ]
  },
  {
   "cell_type": "code",
   "execution_count": 5,
   "id": "a411e44f",
   "metadata": {
    "execution": {
     "iopub.execute_input": "2021-11-19T20:08:45.814872Z",
     "iopub.status.busy": "2021-11-19T20:08:45.814368Z",
     "iopub.status.idle": "2021-11-19T20:08:47.375938Z",
     "shell.execute_reply": "2021-11-19T20:08:47.376508Z"
    },
    "papermill": {
     "duration": 1.590568,
     "end_time": "2021-11-19T20:08:47.376669",
     "exception": false,
     "start_time": "2021-11-19T20:08:45.786101",
     "status": "completed"
    },
    "tags": []
   },
   "outputs": [],
   "source": [
    "train_images = mnist.train_images()\n",
    "train_labels = mnist.train_labels()"
   ]
  },
  {
   "cell_type": "code",
   "execution_count": 6,
   "id": "dceab3a5",
   "metadata": {
    "execution": {
     "iopub.execute_input": "2021-11-19T20:08:47.431051Z",
     "iopub.status.busy": "2021-11-19T20:08:47.430535Z",
     "iopub.status.idle": "2021-11-19T20:08:47.444298Z",
     "shell.execute_reply": "2021-11-19T20:08:47.443862Z"
    },
    "papermill": {
     "duration": 0.042268,
     "end_time": "2021-11-19T20:08:47.444404",
     "exception": false,
     "start_time": "2021-11-19T20:08:47.402136",
     "status": "completed"
    },
    "tags": []
   },
   "outputs": [
    {
     "data": {
      "text/plain": [
       "((60000, 28, 28), (60000,))"
      ]
     },
     "execution_count": 6,
     "metadata": {},
     "output_type": "execute_result"
    }
   ],
   "source": [
    "train_images.shape, train_labels.shape"
   ]
  },
  {
   "cell_type": "code",
   "execution_count": 7,
   "id": "f50dc2bb",
   "metadata": {
    "execution": {
     "iopub.execute_input": "2021-11-19T20:08:47.497168Z",
     "iopub.status.busy": "2021-11-19T20:08:47.496661Z",
     "iopub.status.idle": "2021-11-19T20:08:47.829793Z",
     "shell.execute_reply": "2021-11-19T20:08:47.829257Z"
    },
    "papermill": {
     "duration": 0.360605,
     "end_time": "2021-11-19T20:08:47.829939",
     "exception": false,
     "start_time": "2021-11-19T20:08:47.469334",
     "status": "completed"
    },
    "tags": []
   },
   "outputs": [],
   "source": [
    "test_images = mnist.test_images()\n",
    "test_labels = mnist.test_labels()"
   ]
  },
  {
   "cell_type": "code",
   "execution_count": 8,
   "id": "fc38cf1b",
   "metadata": {
    "execution": {
     "iopub.execute_input": "2021-11-19T20:08:47.884977Z",
     "iopub.status.busy": "2021-11-19T20:08:47.884466Z",
     "iopub.status.idle": "2021-11-19T20:08:47.897078Z",
     "shell.execute_reply": "2021-11-19T20:08:47.897563Z"
    },
    "papermill": {
     "duration": 0.041603,
     "end_time": "2021-11-19T20:08:47.897680",
     "exception": false,
     "start_time": "2021-11-19T20:08:47.856077",
     "status": "completed"
    },
    "tags": []
   },
   "outputs": [
    {
     "data": {
      "text/plain": [
       "((10000, 28, 28), (10000,))"
      ]
     },
     "execution_count": 8,
     "metadata": {},
     "output_type": "execute_result"
    }
   ],
   "source": [
    "test_images.shape, test_labels.shape"
   ]
  },
  {
   "cell_type": "code",
   "execution_count": 9,
   "id": "f9ed8fe0",
   "metadata": {
    "execution": {
     "iopub.execute_input": "2021-11-19T20:08:47.970555Z",
     "iopub.status.busy": "2021-11-19T20:08:47.959336Z",
     "iopub.status.idle": "2021-11-19T20:08:48.094086Z",
     "shell.execute_reply": "2021-11-19T20:08:48.093608Z"
    },
    "papermill": {
     "duration": 0.171307,
     "end_time": "2021-11-19T20:08:48.094211",
     "exception": false,
     "start_time": "2021-11-19T20:08:47.922904",
     "status": "completed"
    },
    "tags": []
   },
   "outputs": [
    {
     "name": "stdout",
     "output_type": "stream",
     "text": [
      "2\n"
     ]
    },
    {
     "data": {
      "text/plain": [
       "<matplotlib.image.AxesImage at 0x7f35a06ce160>"
      ]
     },
     "execution_count": 9,
     "metadata": {},
     "output_type": "execute_result"
    },
    {
     "data": {
      "image/png": "[encoded data removed]",
      "text/plain": [
       "<Figure size 432x288 with 1 Axes>"
      ]
     },
     "metadata": {
      "needs_background": "light"
     },
     "output_type": "display_data"
    }
   ],
   "source": [
    "image_index = 7776 # You may select anything up to 60,000\n",
    "print(train_labels[image_index]) \n",
    "plt.imshow(train_images[image_index], cmap='Greys')"
   ]
  },
  {
   "cell_type": "markdown",
   "id": "a8d2388d",
   "metadata": {
    "papermill": {
     "duration": 0.026578,
     "end_time": "2021-11-19T20:08:48.147763",
     "exception": false,
     "start_time": "2021-11-19T20:08:48.121185",
     "status": "completed"
    },
    "tags": []
   },
   "source": [
    "## Filter data to get 3 and 8 out"
   ]
  },
  {
   "cell_type": "code",
   "execution_count": 10,
   "id": "776f7fc7",
   "metadata": {
    "execution": {
     "iopub.execute_input": "2021-11-19T20:08:48.205905Z",
     "iopub.status.busy": "2021-11-19T20:08:48.205374Z",
     "iopub.status.idle": "2021-11-19T20:08:48.223079Z",
     "shell.execute_reply": "2021-11-19T20:08:48.223547Z"
    },
    "papermill": {
     "duration": 0.049693,
     "end_time": "2021-11-19T20:08:48.223678",
     "exception": false,
     "start_time": "2021-11-19T20:08:48.173985",
     "status": "completed"
    },
    "tags": []
   },
   "outputs": [],
   "source": [
    "train_filter = np.where((train_labels == 3 ) | (train_labels == 8))\n",
    "test_filter = np.where((test_labels == 3) | (test_labels == 8))\n",
    "X_train, y_train = train_images[train_filter], train_labels[train_filter]\n",
    "X_test, y_test = test_images[test_filter], test_labels[test_filter]"
   ]
  },
  {
   "cell_type": "markdown",
   "id": "948f0b7e",
   "metadata": {
    "papermill": {
     "duration": 0.02603,
     "end_time": "2021-11-19T20:08:48.276877",
     "exception": false,
     "start_time": "2021-11-19T20:08:48.250847",
     "status": "completed"
    },
    "tags": []
   },
   "source": [
    "We normalize the pizel values in the 0 to 1 range"
   ]
  },
  {
   "cell_type": "code",
   "execution_count": 11,
   "id": "ee4c2166",
   "metadata": {
    "execution": {
     "iopub.execute_input": "2021-11-19T20:08:48.332852Z",
     "iopub.status.busy": "2021-11-19T20:08:48.332345Z",
     "iopub.status.idle": "2021-11-19T20:08:48.380079Z",
     "shell.execute_reply": "2021-11-19T20:08:48.379544Z"
    },
    "papermill": {
     "duration": 0.077082,
     "end_time": "2021-11-19T20:08:48.380228",
     "exception": false,
     "start_time": "2021-11-19T20:08:48.303146",
     "status": "completed"
    },
    "tags": []
   },
   "outputs": [],
   "source": [
    "X_train = X_train/255.\n",
    "X_test = X_test/255."
   ]
  },
  {
   "cell_type": "markdown",
   "id": "ddcf4fab",
   "metadata": {
    "papermill": {
     "duration": 0.02625,
     "end_time": "2021-11-19T20:08:48.433544",
     "exception": false,
     "start_time": "2021-11-19T20:08:48.407294",
     "status": "completed"
    },
    "tags": []
   },
   "source": [
    "And setup the labels as 1 (when the digit is 3) and 0 (when the digit is 8)"
   ]
  },
  {
   "cell_type": "code",
   "execution_count": 12,
   "id": "7dc908f2",
   "metadata": {
    "execution": {
     "iopub.execute_input": "2021-11-19T20:08:48.501111Z",
     "iopub.status.busy": "2021-11-19T20:08:48.500596Z",
     "iopub.status.idle": "2021-11-19T20:08:48.507760Z",
     "shell.execute_reply": "2021-11-19T20:08:48.507331Z"
    },
    "papermill": {
     "duration": 0.048105,
     "end_time": "2021-11-19T20:08:48.507886",
     "exception": false,
     "start_time": "2021-11-19T20:08:48.459781",
     "status": "completed"
    },
    "tags": []
   },
   "outputs": [],
   "source": [
    "y_train = 1*(y_train==3)\n",
    "y_test = 1*(y_test==3)"
   ]
  },
  {
   "cell_type": "code",
   "execution_count": 13,
   "id": "01e4e969",
   "metadata": {
    "execution": {
     "iopub.execute_input": "2021-11-19T20:08:48.568957Z",
     "iopub.status.busy": "2021-11-19T20:08:48.565073Z",
     "iopub.status.idle": "2021-11-19T20:08:48.576167Z",
     "shell.execute_reply": "2021-11-19T20:08:48.576555Z"
    },
    "papermill": {
     "duration": 0.042513,
     "end_time": "2021-11-19T20:08:48.576673",
     "exception": false,
     "start_time": "2021-11-19T20:08:48.534160",
     "status": "completed"
    },
    "tags": []
   },
   "outputs": [
    {
     "data": {
      "text/plain": [
       "((11982, 28, 28), (1984, 28, 28))"
      ]
     },
     "execution_count": 13,
     "metadata": {},
     "output_type": "execute_result"
    }
   ],
   "source": [
    "X_train.shape, X_test.shape"
   ]
  },
  {
   "cell_type": "markdown",
   "id": "5ccf3f85",
   "metadata": {
    "papermill": {
     "duration": 0.026753,
     "end_time": "2021-11-19T20:08:48.629930",
     "exception": false,
     "start_time": "2021-11-19T20:08:48.603177",
     "status": "completed"
    },
    "tags": []
   },
   "source": [
    "We reshape the data to flatten the image pixels into a set of features or co-variates:"
   ]
  },
  {
   "cell_type": "code",
   "execution_count": 14,
   "id": "5286a4a3",
   "metadata": {
    "execution": {
     "iopub.execute_input": "2021-11-19T20:08:48.687434Z",
     "iopub.status.busy": "2021-11-19T20:08:48.686924Z",
     "iopub.status.idle": "2021-11-19T20:08:48.699422Z",
     "shell.execute_reply": "2021-11-19T20:08:48.699021Z"
    },
    "papermill": {
     "duration": 0.043092,
     "end_time": "2021-11-19T20:08:48.699526",
     "exception": false,
     "start_time": "2021-11-19T20:08:48.656434",
     "status": "completed"
    },
    "tags": []
   },
   "outputs": [
    {
     "data": {
      "text/plain": [
       "((11982, 784), (1984, 784))"
      ]
     },
     "execution_count": 14,
     "metadata": {},
     "output_type": "execute_result"
    }
   ],
   "source": [
    "X_train = X_train.reshape(X_train.shape[0], -1)\n",
    "X_test = X_test.reshape(X_test.shape[0], -1)\n",
    "X_train.shape, X_test.shape"
   ]
  },
  {
   "cell_type": "code",
   "execution_count": 15,
   "id": "73c5f88a",
   "metadata": {
    "execution": {
     "iopub.execute_input": "2021-11-19T20:08:48.756729Z",
     "iopub.status.busy": "2021-11-19T20:08:48.756213Z",
     "iopub.status.idle": "2021-11-19T20:08:48.774073Z",
     "shell.execute_reply": "2021-11-19T20:08:48.774453Z"
    },
    "papermill": {
     "duration": 0.04847,
     "end_time": "2021-11-19T20:08:48.774567",
     "exception": false,
     "start_time": "2021-11-19T20:08:48.726097",
     "status": "completed"
    },
    "tags": []
   },
   "outputs": [],
   "source": [
    "#Impoting functions from 'Kudzu'\n",
    "from kudzu.model import Model\n",
    "from kudzu.train import Learner\n",
    "from kudzu.optim import GD\n",
    "from kudzu.data import Data, Sampler,Dataloader\n",
    "\n",
    "from kudzu.callbacks import AccCallback\n",
    "from kudzu.callbacks import ClfCallback\n",
    "\n",
    "from kudzu.loss import MSE\n",
    "\n",
    "from kudzu.layer import Sigmoid,Relu\n",
    "from kudzu.layer import Affine"
   ]
  },
  {
   "cell_type": "markdown",
   "id": "bc01172a",
   "metadata": {
    "papermill": {
     "duration": 0.026699,
     "end_time": "2021-11-19T20:08:48.828093",
     "exception": false,
     "start_time": "2021-11-19T20:08:48.801394",
     "status": "completed"
    },
    "tags": []
   },
   "source": [
    "### Let us create a `Config` class, to store important parameters. \n",
    "This class essentially plays the role of a dictionary."
   ]
  },
  {
   "cell_type": "code",
   "execution_count": 16,
   "id": "978281aa",
   "metadata": {
    "execution": {
     "iopub.execute_input": "2021-11-19T20:08:48.889032Z",
     "iopub.status.busy": "2021-11-19T20:08:48.888527Z",
     "iopub.status.idle": "2021-11-19T20:08:48.897327Z",
     "shell.execute_reply": "2021-11-19T20:08:48.896927Z"
    },
    "papermill": {
     "duration": 0.042599,
     "end_time": "2021-11-19T20:08:48.897428",
     "exception": false,
     "start_time": "2021-11-19T20:08:48.854829",
     "status": "completed"
    },
    "tags": []
   },
   "outputs": [],
   "source": [
    "class Config:\n",
    "    pass\n",
    "config = Config()\n",
    "config.lr = 0.001\n",
    "config.num_epochs = 250\n",
    "config.bs = 50"
   ]
  },
  {
   "cell_type": "markdown",
   "id": "1385fa59",
   "metadata": {
    "papermill": {
     "duration": 0.02685,
     "end_time": "2021-11-19T20:08:48.951109",
     "exception": false,
     "start_time": "2021-11-19T20:08:48.924259",
     "status": "completed"
    },
    "tags": []
   },
   "source": [
    "### Running Models with the Training data\n",
    "Details about the network layers:\n",
    "- A first affine layer has 784 inputs and does 100 affine transforms. These are followed by a Relu\n",
    "- A second affine layer has 100 inputs from the 100 activations of the past layer, and does 100 affine transforms. These are followed by a Relu\n",
    "- A third affine layer has 100 activations and does 2 affine transformations to create an embedding for visualization. There is no non-linearity here.\n",
    "- A final \"logistic regression\" which has an affine transform from 2 inputs to 1 output, which is squeezed through a sigmoid.\n"
   ]
  },
  {
   "cell_type": "code",
   "execution_count": 17,
   "id": "2b9c66db",
   "metadata": {
    "execution": {
     "iopub.execute_input": "2021-11-19T20:08:49.012591Z",
     "iopub.status.busy": "2021-11-19T20:08:49.012084Z",
     "iopub.status.idle": "2021-11-19T20:08:49.022398Z",
     "shell.execute_reply": "2021-11-19T20:08:49.021998Z"
    },
    "papermill": {
     "duration": 0.040693,
     "end_time": "2021-11-19T20:08:49.022498",
     "exception": false,
     "start_time": "2021-11-19T20:08:48.981805",
     "status": "completed"
    },
    "tags": []
   },
   "outputs": [],
   "source": [
    "data = Data(X_train, y_train.reshape(-1,1))\n",
    "sampler = Sampler(data, config.bs, shuffle=True)\n",
    "\n",
    "dl = Dataloader(data, sampler)\n",
    "\n",
    "opt = GD(config.lr)\n",
    "loss = MSE()"
   ]
  },
  {
   "cell_type": "code",
   "execution_count": 18,
   "id": "b275e4c2",
   "metadata": {
    "execution": {
     "iopub.execute_input": "2021-11-19T20:08:49.083124Z",
     "iopub.status.busy": "2021-11-19T20:08:49.082618Z",
     "iopub.status.idle": "2021-11-19T20:08:49.091662Z",
     "shell.execute_reply": "2021-11-19T20:08:49.091235Z"
    },
    "papermill": {
     "duration": 0.042493,
     "end_time": "2021-11-19T20:08:49.091760",
     "exception": false,
     "start_time": "2021-11-19T20:08:49.049267",
     "status": "completed"
    },
    "tags": []
   },
   "outputs": [],
   "source": [
    "training_data_x = X_train\n",
    "testing_data_x = X_test\n",
    "training_data_y = y_train.reshape(-1,1)\n",
    "testing_data_y = y_test.reshape(-1,1)"
   ]
  },
  {
   "cell_type": "code",
   "execution_count": 19,
   "id": "76951160",
   "metadata": {
    "execution": {
     "iopub.execute_input": "2021-11-19T20:08:49.148711Z",
     "iopub.status.busy": "2021-11-19T20:08:49.148194Z",
     "iopub.status.idle": "2021-11-19T20:08:49.163491Z",
     "shell.execute_reply": "2021-11-19T20:08:49.163068Z"
    },
    "papermill": {
     "duration": 0.045156,
     "end_time": "2021-11-19T20:08:49.163589",
     "exception": false,
     "start_time": "2021-11-19T20:08:49.118433",
     "status": "completed"
    },
    "tags": []
   },
   "outputs": [
    {
     "name": "stdout",
     "output_type": "stream",
     "text": [
      "xavier\n",
      "xavier\n",
      "xavier\n",
      "xavier\n",
      "xavier\n"
     ]
    }
   ],
   "source": [
    "layers = [Affine(\"first\", 784, 100), Relu(\"first\"), Affine(\"second\", 100, 100), Relu(\"second\"), Affine(\"third\", 100, 2), Affine(\"last\", 2, 1), Sigmoid(\"last\")]\n",
    "model_nn = Model(layers)\n",
    "model_lr = Model([Affine(\"logits\", 784, 1), Sigmoid(\"sigmoid\")])"
   ]
  },
  {
   "cell_type": "code",
   "execution_count": 20,
   "id": "6eede77a",
   "metadata": {
    "execution": {
     "iopub.execute_input": "2021-11-19T20:08:49.221388Z",
     "iopub.status.busy": "2021-11-19T20:08:49.220886Z",
     "iopub.status.idle": "2021-11-19T20:08:49.231913Z",
     "shell.execute_reply": "2021-11-19T20:08:49.231494Z"
    },
    "papermill": {
     "duration": 0.041289,
     "end_time": "2021-11-19T20:08:49.232018",
     "exception": false,
     "start_time": "2021-11-19T20:08:49.190729",
     "status": "completed"
    },
    "tags": []
   },
   "outputs": [],
   "source": [
    "nn_learner = Learner(loss, model_nn, opt, config.num_epochs)\n",
    "acc_nn = ClfCallback(nn_learner, config.bs, training_data_x , testing_data_x, training_data_y, testing_data_y)\n",
    "nn_learner.set_callbacks([acc_nn])"
   ]
  },
  {
   "cell_type": "code",
   "execution_count": 21,
   "id": "877b6cc7",
   "metadata": {
    "execution": {
     "iopub.execute_input": "2021-11-19T20:08:49.289334Z",
     "iopub.status.busy": "2021-11-19T20:08:49.288834Z",
     "iopub.status.idle": "2021-11-19T20:08:49.300422Z",
     "shell.execute_reply": "2021-11-19T20:08:49.300012Z"
    },
    "papermill": {
     "duration": 0.041423,
     "end_time": "2021-11-19T20:08:49.300525",
     "exception": false,
     "start_time": "2021-11-19T20:08:49.259102",
     "status": "completed"
    },
    "tags": []
   },
   "outputs": [],
   "source": [
    "lr_learner = Learner(loss, model_lr, opt, config.num_epochs)\n",
    "acc_lr = ClfCallback(lr_learner, config.bs, training_data_x , testing_data_x, training_data_y, testing_data_y)\n",
    "lr_learner.set_callbacks([acc_lr])"
   ]
  },
  {
   "cell_type": "code",
   "execution_count": 22,
   "id": "d9b133c3",
   "metadata": {
    "execution": {
     "iopub.execute_input": "2021-11-19T20:08:49.367420Z",
     "iopub.status.busy": "2021-11-19T20:08:49.366900Z",
     "iopub.status.idle": "2021-11-19T20:10:05.322492Z",
     "shell.execute_reply": "2021-11-19T20:10:05.323267Z"
    },
    "papermill": {
     "duration": 75.995753,
     "end_time": "2021-11-19T20:10:05.323429",
     "exception": false,
     "start_time": "2021-11-19T20:08:49.327676",
     "status": "completed"
    },
    "tags": []
   },
   "outputs": [
    {
     "name": "stdout",
     "output_type": "stream",
     "text": [
      "Epoch 0, Loss 0.2469\n",
      "Training Accuracy: 0.6576, Testing Accuracy: 0.6230\n",
      "\n"
     ]
    },
    {
     "name": "stdout",
     "output_type": "stream",
     "text": [
      "Epoch 10, Loss 0.2045\n",
      "Training Accuracy: 0.8881, Testing Accuracy: 0.8962\n",
      "\n"
     ]
    },
    {
     "name": "stdout",
     "output_type": "stream",
     "text": [
      "Epoch 20, Loss 0.1032\n",
      "Training Accuracy: 0.9154, Testing Accuracy: 0.9249\n",
      "\n"
     ]
    },
    {
     "name": "stdout",
     "output_type": "stream",
     "text": [
      "Epoch 30, Loss 0.0619\n",
      "Training Accuracy: 0.9362, Testing Accuracy: 0.9486\n",
      "\n"
     ]
    },
    {
     "name": "stdout",
     "output_type": "stream",
     "text": [
      "Epoch 40, Loss 0.0473\n",
      "Training Accuracy: 0.9487, Testing Accuracy: 0.9577\n",
      "\n"
     ]
    },
    {
     "name": "stdout",
     "output_type": "stream",
     "text": [
      "Epoch 50, Loss 0.04\n",
      "Training Accuracy: 0.9559, Testing Accuracy: 0.9617\n",
      "\n"
     ]
    },
    {
     "name": "stdout",
     "output_type": "stream",
     "text": [
      "Epoch 60, Loss 0.0359\n",
      "Training Accuracy: 0.9603, Testing Accuracy: 0.9632\n",
      "\n"
     ]
    },
    {
     "name": "stdout",
     "output_type": "stream",
     "text": [
      "Epoch 70, Loss 0.0331\n",
      "Training Accuracy: 0.9629, Testing Accuracy: 0.9642\n",
      "\n"
     ]
    },
    {
     "name": "stdout",
     "output_type": "stream",
     "text": [
      "Epoch 80, Loss 0.0312\n",
      "Training Accuracy: 0.9641, Testing Accuracy: 0.9662\n",
      "\n"
     ]
    },
    {
     "name": "stdout",
     "output_type": "stream",
     "text": [
      "Epoch 90, Loss 0.0296\n",
      "Training Accuracy: 0.9654, Testing Accuracy: 0.9672\n",
      "\n"
     ]
    },
    {
     "name": "stdout",
     "output_type": "stream",
     "text": [
      "Epoch 100, Loss 0.0284\n",
      "Training Accuracy: 0.9665, Testing Accuracy: 0.9672\n",
      "\n"
     ]
    },
    {
     "name": "stdout",
     "output_type": "stream",
     "text": [
      "Epoch 110, Loss 0.0274\n",
      "Training Accuracy: 0.9679, Testing Accuracy: 0.9682\n",
      "\n"
     ]
    },
    {
     "name": "stdout",
     "output_type": "stream",
     "text": [
      "Epoch 120, Loss 0.0265\n",
      "Training Accuracy: 0.9695, Testing Accuracy: 0.9688\n",
      "\n"
     ]
    },
    {
     "name": "stdout",
     "output_type": "stream",
     "text": [
      "Epoch 130, Loss 0.0257\n",
      "Training Accuracy: 0.9700, Testing Accuracy: 0.9677\n",
      "\n"
     ]
    },
    {
     "name": "stdout",
     "output_type": "stream",
     "text": [
      "Epoch 140, Loss 0.025\n",
      "Training Accuracy: 0.9708, Testing Accuracy: 0.9708\n",
      "\n"
     ]
    },
    {
     "name": "stdout",
     "output_type": "stream",
     "text": [
      "Epoch 150, Loss 0.0243\n",
      "Training Accuracy: 0.9716, Testing Accuracy: 0.9713\n",
      "\n"
     ]
    },
    {
     "name": "stdout",
     "output_type": "stream",
     "text": [
      "Epoch 160, Loss 0.0238\n",
      "Training Accuracy: 0.9725, Testing Accuracy: 0.9718\n",
      "\n"
     ]
    },
    {
     "name": "stdout",
     "output_type": "stream",
     "text": [
      "Epoch 170, Loss 0.0232\n",
      "Training Accuracy: 0.9730, Testing Accuracy: 0.9723\n",
      "\n"
     ]
    },
    {
     "name": "stdout",
     "output_type": "stream",
     "text": [
      "Epoch 180, Loss 0.0227\n",
      "Training Accuracy: 0.9735, Testing Accuracy: 0.9723\n",
      "\n"
     ]
    },
    {
     "name": "stdout",
     "output_type": "stream",
     "text": [
      "Epoch 190, Loss 0.0222\n",
      "Training Accuracy: 0.9741, Testing Accuracy: 0.9723\n",
      "\n"
     ]
    },
    {
     "name": "stdout",
     "output_type": "stream",
     "text": [
      "Epoch 200, Loss 0.0218\n",
      "Training Accuracy: 0.9747, Testing Accuracy: 0.9723\n",
      "\n"
     ]
    },
    {
     "name": "stdout",
     "output_type": "stream",
     "text": [
      "Epoch 210, Loss 0.0213\n",
      "Training Accuracy: 0.9755, Testing Accuracy: 0.9728\n",
      "\n"
     ]
    },
    {
     "name": "stdout",
     "output_type": "stream",
     "text": [
      "Epoch 220, Loss 0.0209\n",
      "Training Accuracy: 0.9762, Testing Accuracy: 0.9733\n",
      "\n"
     ]
    },
    {
     "name": "stdout",
     "output_type": "stream",
     "text": [
      "Epoch 230, Loss 0.0205\n",
      "Training Accuracy: 0.9767, Testing Accuracy: 0.9733\n",
      "\n"
     ]
    },
    {
     "name": "stdout",
     "output_type": "stream",
     "text": [
      "Epoch 240, Loss 0.0202\n",
      "Training Accuracy: 0.9774, Testing Accuracy: 0.9733\n",
      "\n"
     ]
    },
    {
     "data": {
      "text/plain": [
       "0.006190355404203648"
      ]
     },
     "execution_count": 22,
     "metadata": {},
     "output_type": "execute_result"
    }
   ],
   "source": [
    "nn_learner.train_loop(dl)"
   ]
  },
  {
   "cell_type": "code",
   "execution_count": 23,
   "id": "e0163366",
   "metadata": {
    "execution": {
     "iopub.execute_input": "2021-11-19T20:10:05.401508Z",
     "iopub.status.busy": "2021-11-19T20:10:05.400992Z",
     "iopub.status.idle": "2021-11-19T20:10:19.089014Z",
     "shell.execute_reply": "2021-11-19T20:10:19.089773Z"
    },
    "papermill": {
     "duration": 13.731384,
     "end_time": "2021-11-19T20:10:19.089931",
     "exception": false,
     "start_time": "2021-11-19T20:10:05.358547",
     "status": "completed"
    },
    "tags": []
   },
   "outputs": [
    {
     "name": "stdout",
     "output_type": "stream",
     "text": [
      "Epoch 0, Loss 0.252\n",
      "Training Accuracy: 0.6359, Testing Accuracy: 0.6099\n",
      "\n"
     ]
    },
    {
     "name": "stdout",
     "output_type": "stream",
     "text": [
      "Epoch 10, Loss 0.1068\n",
      "Training Accuracy: 0.8998, Testing Accuracy: 0.9062\n",
      "\n"
     ]
    },
    {
     "name": "stdout",
     "output_type": "stream",
     "text": [
      "Epoch 20, Loss 0.0814\n",
      "Training Accuracy: 0.9249, Testing Accuracy: 0.9309\n",
      "\n"
     ]
    },
    {
     "name": "stdout",
     "output_type": "stream",
     "text": [
      "Epoch 30, Loss 0.0696\n",
      "Training Accuracy: 0.9357, Testing Accuracy: 0.9446\n",
      "\n"
     ]
    },
    {
     "name": "stdout",
     "output_type": "stream",
     "text": [
      "Epoch 40, Loss 0.0625\n",
      "Training Accuracy: 0.9409, Testing Accuracy: 0.9486\n",
      "\n"
     ]
    },
    {
     "name": "stdout",
     "output_type": "stream",
     "text": [
      "Epoch 50, Loss 0.0578\n",
      "Training Accuracy: 0.9442, Testing Accuracy: 0.9526\n",
      "\n"
     ]
    },
    {
     "name": "stdout",
     "output_type": "stream",
     "text": [
      "Epoch 60, Loss 0.0543\n",
      "Training Accuracy: 0.9461, Testing Accuracy: 0.9546\n",
      "\n"
     ]
    },
    {
     "name": "stdout",
     "output_type": "stream",
     "text": [
      "Epoch 70, Loss 0.0516\n",
      "Training Accuracy: 0.9473, Testing Accuracy: 0.9577\n",
      "\n"
     ]
    },
    {
     "name": "stdout",
     "output_type": "stream",
     "text": [
      "Epoch 80, Loss 0.0495\n",
      "Training Accuracy: 0.9490, Testing Accuracy: 0.9607\n",
      "\n"
     ]
    },
    {
     "name": "stdout",
     "output_type": "stream",
     "text": [
      "Epoch 90, Loss 0.0478\n",
      "Training Accuracy: 0.9500, Testing Accuracy: 0.9607\n",
      "\n"
     ]
    },
    {
     "name": "stdout",
     "output_type": "stream",
     "text": [
      "Epoch 100, Loss 0.0463\n",
      "Training Accuracy: 0.9516, Testing Accuracy: 0.9617\n",
      "\n"
     ]
    },
    {
     "name": "stdout",
     "output_type": "stream",
     "text": [
      "Epoch 110, Loss 0.045\n",
      "Training Accuracy: 0.9526, Testing Accuracy: 0.9627\n",
      "\n"
     ]
    },
    {
     "name": "stdout",
     "output_type": "stream",
     "text": [
      "Epoch 120, Loss 0.044\n",
      "Training Accuracy: 0.9533, Testing Accuracy: 0.9632\n",
      "\n"
     ]
    },
    {
     "name": "stdout",
     "output_type": "stream",
     "text": [
      "Epoch 130, Loss 0.043\n",
      "Training Accuracy: 0.9540, Testing Accuracy: 0.9627\n",
      "\n"
     ]
    },
    {
     "name": "stdout",
     "output_type": "stream",
     "text": [
      "Epoch 140, Loss 0.0422\n",
      "Training Accuracy: 0.9548, Testing Accuracy: 0.9627\n",
      "\n"
     ]
    },
    {
     "name": "stdout",
     "output_type": "stream",
     "text": [
      "Epoch 150, Loss 0.0414\n",
      "Training Accuracy: 0.9553, Testing Accuracy: 0.9642\n",
      "\n"
     ]
    },
    {
     "name": "stdout",
     "output_type": "stream",
     "text": [
      "Epoch 160, Loss 0.0407\n",
      "Training Accuracy: 0.9560, Testing Accuracy: 0.9647\n",
      "\n"
     ]
    },
    {
     "name": "stdout",
     "output_type": "stream",
     "text": [
      "Epoch 170, Loss 0.0401\n",
      "Training Accuracy: 0.9569, Testing Accuracy: 0.9652\n",
      "\n"
     ]
    },
    {
     "name": "stdout",
     "output_type": "stream",
     "text": [
      "Epoch 180, Loss 0.0395\n",
      "Training Accuracy: 0.9574, Testing Accuracy: 0.9662\n",
      "\n"
     ]
    },
    {
     "name": "stdout",
     "output_type": "stream",
     "text": [
      "Epoch 190, Loss 0.039\n",
      "Training Accuracy: 0.9579, Testing Accuracy: 0.9667\n",
      "\n"
     ]
    },
    {
     "name": "stdout",
     "output_type": "stream",
     "text": [
      "Epoch 200, Loss 0.0385\n",
      "Training Accuracy: 0.9589, Testing Accuracy: 0.9677\n",
      "\n"
     ]
    },
    {
     "name": "stdout",
     "output_type": "stream",
     "text": [
      "Epoch 210, Loss 0.0381\n",
      "Training Accuracy: 0.9594, Testing Accuracy: 0.9682\n",
      "\n"
     ]
    },
    {
     "name": "stdout",
     "output_type": "stream",
     "text": [
      "Epoch 220, Loss 0.0377\n",
      "Training Accuracy: 0.9595, Testing Accuracy: 0.9672\n",
      "\n"
     ]
    },
    {
     "name": "stdout",
     "output_type": "stream",
     "text": [
      "Epoch 230, Loss 0.0373\n",
      "Training Accuracy: 0.9596, Testing Accuracy: 0.9677\n",
      "\n"
     ]
    },
    {
     "name": "stdout",
     "output_type": "stream",
     "text": [
      "Epoch 240, Loss 0.0369\n",
      "Training Accuracy: 0.9602, Testing Accuracy: 0.9667\n",
      "\n"
     ]
    },
    {
     "data": {
      "text/plain": [
       "0.05141980748772404"
      ]
     },
     "execution_count": 23,
     "metadata": {},
     "output_type": "execute_result"
    }
   ],
   "source": [
    "lr_learner.train_loop(dl)"
   ]
  },
  {
   "cell_type": "code",
   "execution_count": 24,
   "id": "ca410940",
   "metadata": {
    "execution": {
     "iopub.execute_input": "2021-11-19T20:10:19.185129Z",
     "iopub.status.busy": "2021-11-19T20:10:19.184607Z",
     "iopub.status.idle": "2021-11-19T20:10:19.414837Z",
     "shell.execute_reply": "2021-11-19T20:10:19.414375Z"
    },
    "papermill": {
     "duration": 0.283036,
     "end_time": "2021-11-19T20:10:19.414958",
     "exception": false,
     "start_time": "2021-11-19T20:10:19.131922",
     "status": "completed"
    },
    "tags": []
   },
   "outputs": [
    {
     "data": {
      "text/plain": [
       "<matplotlib.legend.Legend at 0x7f35a02307b8>"
      ]
     },
     "execution_count": 24,
     "metadata": {},
     "output_type": "execute_result"
    },
    {
     "data": {
      "image/png": "[encoded data removed]",
      "text/plain": [
       "<Figure size 1080x720 with 1 Axes>"
      ]
     },
     "metadata": {
      "needs_background": "light"
     },
     "output_type": "display_data"
    }
   ],
   "source": [
    "#comparing the results of NN and LR\n",
    "plt.figure(figsize=(15,10))\n",
    "\n",
    "# Neural Network plots\n",
    "plt.plot(acc_nn.accuracies, 'r-', label = \"Training Accuracies - NN\")\n",
    "plt.plot(acc_nn.test_accuracies, 'g-', label = \"Testing Accuracies - NN\")\n",
    "\n",
    "# Logistic Regression plots\n",
    "plt.plot(acc_lr.accuracies, 'k-', label = \"Training Accuracies - LR\")\n",
    "plt.plot(acc_lr.test_accuracies, 'b-', label = \"Testing Accuracies - LR\")\n",
    "plt.legend()"
   ]
  },
  {
   "cell_type": "markdown",
   "id": "80dfb35c",
   "metadata": {
    "papermill": {
     "duration": 0.045471,
     "end_time": "2021-11-19T20:10:19.503008",
     "exception": false,
     "start_time": "2021-11-19T20:10:19.457537",
     "status": "completed"
    },
    "tags": []
   },
   "source": [
    "#### Plotting the outputs of this layer of the NN.\n"
   ]
  },
  {
   "cell_type": "code",
   "execution_count": 25,
   "id": "45eb2ff5",
   "metadata": {
    "execution": {
     "iopub.execute_input": "2021-11-19T20:10:19.596237Z",
     "iopub.status.busy": "2021-11-19T20:10:19.595677Z",
     "iopub.status.idle": "2021-11-19T20:10:19.613722Z",
     "shell.execute_reply": "2021-11-19T20:10:19.614200Z"
    },
    "papermill": {
     "duration": 0.067057,
     "end_time": "2021-11-19T20:10:19.614323",
     "exception": false,
     "start_time": "2021-11-19T20:10:19.547266",
     "status": "completed"
    },
    "tags": []
   },
   "outputs": [],
   "source": [
    "new_model = Model(layers[:-2])\n",
    "testing_plot = new_model(testing_data_x)"
   ]
  },
  {
   "cell_type": "code",
   "execution_count": 26,
   "id": "4c0a5485",
   "metadata": {
    "execution": {
     "iopub.execute_input": "2021-11-19T20:10:19.709321Z",
     "iopub.status.busy": "2021-11-19T20:10:19.708811Z",
     "iopub.status.idle": "2021-11-19T20:10:19.893937Z",
     "shell.execute_reply": "2021-11-19T20:10:19.894355Z"
    },
    "papermill": {
     "duration": 0.237627,
     "end_time": "2021-11-19T20:10:19.894491",
     "exception": false,
     "start_time": "2021-11-19T20:10:19.656864",
     "status": "completed"
    },
    "tags": []
   },
   "outputs": [
    {
     "data": {
      "text/plain": [
       "Text(0.5, 1.0, 'Outputs')"
      ]
     },
     "execution_count": 26,
     "metadata": {},
     "output_type": "execute_result"
    },
    {
     "data": {
      "image/png": "[encoded data removed]",
      "text/plain": [
       "<Figure size 576x504 with 1 Axes>"
      ]
     },
     "metadata": {
      "needs_background": "light"
     },
     "output_type": "display_data"
    }
   ],
   "source": [
    "# Plotting the scatter plot of points and color coding by class\n",
    "plt.figure(figsize=(8,7))\n",
    "plt.scatter(testing_plot[:,0], testing_plot[:,1], alpha = 0.1, c = y_test.ravel());\n",
    "plt.title('Outputs')"
   ]
  },
  {
   "cell_type": "markdown",
   "id": "a74fcf8f",
   "metadata": {
    "papermill": {
     "duration": 0.043812,
     "end_time": "2021-11-19T20:10:19.982542",
     "exception": false,
     "start_time": "2021-11-19T20:10:19.938730",
     "status": "completed"
    },
    "tags": []
   },
   "source": [
    "Probability contours"
   ]
  },
  {
   "cell_type": "code",
   "execution_count": 27,
   "id": "d0afc8e3",
   "metadata": {
    "execution": {
     "iopub.execute_input": "2021-11-19T20:10:20.075175Z",
     "iopub.status.busy": "2021-11-19T20:10:20.074636Z",
     "iopub.status.idle": "2021-11-19T20:10:20.086489Z",
     "shell.execute_reply": "2021-11-19T20:10:20.086896Z"
    },
    "papermill": {
     "duration": 0.060549,
     "end_time": "2021-11-19T20:10:20.087022",
     "exception": false,
     "start_time": "2021-11-19T20:10:20.026473",
     "status": "completed"
    },
    "tags": []
   },
   "outputs": [],
   "source": [
    "model_prob = Model(layers[-2:]) "
   ]
  },
  {
   "cell_type": "code",
   "execution_count": 28,
   "id": "9b96e238",
   "metadata": {
    "execution": {
     "iopub.execute_input": "2021-11-19T20:10:20.213198Z",
     "iopub.status.busy": "2021-11-19T20:10:20.212657Z",
     "iopub.status.idle": "2021-11-19T20:10:20.224386Z",
     "shell.execute_reply": "2021-11-19T20:10:20.225142Z"
    },
    "papermill": {
     "duration": 0.064372,
     "end_time": "2021-11-19T20:10:20.225271",
     "exception": false,
     "start_time": "2021-11-19T20:10:20.160899",
     "status": "completed"
    },
    "tags": []
   },
   "outputs": [],
   "source": [
    "#creating the x and y ranges according to the above generated plot.\n",
    "x_range = np.linspace(-4, 1, 100) \n",
    "y_range = np.linspace(-6, 6, 100) \n",
    "x_grid, y_grid = np.meshgrid(x_range, y_range) # x_grid and y_grig are of size 100 X 100\n",
    "\n",
    "# converting x_grid and y_grid to continuous arrays\n",
    "x_gridflat = np.ravel(x_grid)\n",
    "y_gridflat = np.ravel(y_grid)\n",
    "\n",
    "# The last layer of the current model takes two columns as input. Hence transpose of np.vstack() is required.\n",
    "X = np.vstack((x_gridflat, y_gridflat)).T\n",
    "\n",
    "prob_contour = model_prob(X).reshape(100,100) "
   ]
  },
  {
   "cell_type": "code",
   "execution_count": 29,
   "id": "da72499a",
   "metadata": {
    "execution": {
     "iopub.execute_input": "2021-11-19T20:10:20.326337Z",
     "iopub.status.busy": "2021-11-19T20:10:20.325837Z",
     "iopub.status.idle": "2021-11-19T20:10:20.556818Z",
     "shell.execute_reply": "2021-11-19T20:10:20.556388Z"
    },
    "papermill": {
     "duration": 0.286947,
     "end_time": "2021-11-19T20:10:20.556944",
     "exception": false,
     "start_time": "2021-11-19T20:10:20.269997",
     "status": "completed"
    },
    "tags": []
   },
   "outputs": [
    {
     "data": {
      "image/png": "[encoded data removed]",
      "text/plain": [
       "<Figure size 720x648 with 1 Axes>"
      ]
     },
     "metadata": {
      "needs_background": "light"
     },
     "output_type": "display_data"
    }
   ],
   "source": [
    "plt.figure(figsize=(10,9))\n",
    "plt.scatter(testing_plot[:,0], testing_plot[:,1], alpha = 0.1, c = y_test.ravel())\n",
    "contours = plt.contour(x_grid,y_grid,prob_contour)\n",
    "plt.title('Probability Contours')\n",
    "plt.clabel(contours, inline = True );"
   ]
  },
  {
   "cell_type": "code",
   "execution_count": null,
   "id": "e81b4ac7",
   "metadata": {
    "papermill": {
     "duration": 0.04676,
     "end_time": "2021-11-19T20:10:20.651036",
     "exception": false,
     "start_time": "2021-11-19T20:10:20.604276",
     "status": "completed"
    },
    "tags": []
   },
   "outputs": [],
   "source": []
  }
 ],
 "metadata": {
  "kernelspec": {
   "display_name": "Python 3",
   "language": "python",
   "name": "python3"
  },
  "language_info": {
   "codemirror_mode": {
    "name": "ipython",
    "version": 3
   },
   "file_extension": ".py",
   "mimetype": "text/x-python",
   "name": "python",
   "nbconvert_exporter": "python",
   "pygments_lexer": "ipython3",
   "version": "3.6.15"
  },
  "papermill": {
   "default_parameters": {},
   "duration": 99.773086,
   "end_time": "2021-11-19T20:10:21.106742",
   "environment_variables": {},
   "exception": null,
   "input_path": "2020-08-11-part2.ipynb",
   "output_path": "2020-08-11-part2.ipynb",
   "parameters": {},
   "start_time": "2021-11-19T20:08:41.333656",
   "version": "2.3.3"
  }
 },
 "nbformat": 4,
 "nbformat_minor": 5
}