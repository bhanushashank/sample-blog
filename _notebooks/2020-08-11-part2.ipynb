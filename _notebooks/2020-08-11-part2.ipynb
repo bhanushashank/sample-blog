{
 "cells": [
  {
   "cell_type": "markdown",
   "id": "98380cd3",
   "metadata": {
    "papermill": {
     "duration": 0.028675,
     "end_time": "2022-05-01T20:11:43.789275",
     "exception": false,
     "start_time": "2022-05-01T20:11:43.760600",
     "status": "completed"
    },
    "tags": []
   },
   "source": [
    "# Distinguish Your Own Digits (DYOD)"
   ]
  },
  {
   "cell_type": "markdown",
   "id": "ef31240d",
   "metadata": {
    "papermill": {
     "duration": 0.026155,
     "end_time": "2022-05-01T20:11:43.840804",
     "exception": false,
     "start_time": "2022-05-01T20:11:43.814649",
     "status": "completed"
    },
    "tags": []
   },
   "source": [
    "You are going to write a classifier that distinguishes between the number 3 and number 8."
   ]
  },
  {
   "cell_type": "code",
   "execution_count": 1,
   "id": "b15c8646",
   "metadata": {
    "execution": {
     "iopub.execute_input": "2022-05-01T20:11:43.899572Z",
     "iopub.status.busy": "2022-05-01T20:11:43.897362Z",
     "iopub.status.idle": "2022-05-01T20:11:43.909005Z",
     "shell.execute_reply": "2022-05-01T20:11:43.909385Z"
    },
    "papermill": {
     "duration": 0.04407,
     "end_time": "2022-05-01T20:11:43.909528",
     "exception": false,
     "start_time": "2022-05-01T20:11:43.865458",
     "status": "completed"
    },
    "tags": []
   },
   "outputs": [],
   "source": [
    "%load_ext autoreload\n",
    "%autoreload 2"
   ]
  },
  {
   "cell_type": "code",
   "execution_count": 2,
   "id": "22ef38dc",
   "metadata": {
    "execution": {
     "iopub.execute_input": "2022-05-01T20:11:43.962523Z",
     "iopub.status.busy": "2022-05-01T20:11:43.962024Z",
     "iopub.status.idle": "2022-05-01T20:11:44.465355Z",
     "shell.execute_reply": "2022-05-01T20:11:44.464911Z"
    },
    "papermill": {
     "duration": 0.531212,
     "end_time": "2022-05-01T20:11:44.465465",
     "exception": false,
     "start_time": "2022-05-01T20:11:43.934253",
     "status": "completed"
    },
    "tags": []
   },
   "outputs": [],
   "source": [
    "%matplotlib inline\n",
    "import numpy as np\n",
    "import matplotlib.pyplot as plt\n",
    "import pandas as pd"
   ]
  },
  {
   "cell_type": "markdown",
   "id": "ba036198",
   "metadata": {
    "papermill": {
     "duration": 0.02469,
     "end_time": "2022-05-01T20:11:44.514840",
     "exception": false,
     "start_time": "2022-05-01T20:11:44.490150",
     "status": "completed"
    },
    "tags": []
   },
   "source": [
    "From the command line run `pip install mnist`. This is a library that will help you bring down the mnist dataset. If you run this from a notebook, you need to put  `!pip install mnist` in a cell by itself."
   ]
  },
  {
   "cell_type": "code",
   "execution_count": 3,
   "id": "bb6ad8a1",
   "metadata": {
    "execution": {
     "iopub.execute_input": "2022-05-01T20:11:44.568098Z",
     "iopub.status.busy": "2022-05-01T20:11:44.567616Z",
     "iopub.status.idle": "2022-05-01T20:11:46.263798Z",
     "shell.execute_reply": "2022-05-01T20:11:46.262915Z"
    },
    "papermill": {
     "duration": 1.724356,
     "end_time": "2022-05-01T20:11:46.263923",
     "exception": false,
     "start_time": "2022-05-01T20:11:44.539567",
     "status": "completed"
    },
    "tags": []
   },
   "outputs": [
    {
     "name": "stdout",
     "output_type": "stream",
     "text": [
      "Collecting mnist\r\n"
     ]
    },
    {
     "name": "stdout",
     "output_type": "stream",
     "text": [
      "  Downloading mnist-0.2.2-py2.py3-none-any.whl (3.5 kB)\r\n"
     ]
    },
    {
     "name": "stdout",
     "output_type": "stream",
     "text": [
      "Requirement already satisfied: numpy in /opt/hostedtoolcache/Python/3.6.15/x64/lib/python3.6/site-packages (from mnist) (1.19.5)\r\n"
     ]
    },
    {
     "name": "stdout",
     "output_type": "stream",
     "text": [
      "Installing collected packages: mnist\r\n"
     ]
    },
    {
     "name": "stdout",
     "output_type": "stream",
     "text": [
      "Successfully installed mnist-0.2.2\r\n"
     ]
    }
   ],
   "source": [
    "!pip install mnist"
   ]
  },
  {
   "cell_type": "markdown",
   "id": "69df9c9a",
   "metadata": {
    "papermill": {
     "duration": 0.026053,
     "end_time": "2022-05-01T20:11:46.316260",
     "exception": false,
     "start_time": "2022-05-01T20:11:46.290207",
     "status": "completed"
    },
    "tags": []
   },
   "source": [
    "## Preparing the Data"
   ]
  },
  {
   "cell_type": "code",
   "execution_count": 4,
   "id": "7f69d806",
   "metadata": {
    "execution": {
     "iopub.execute_input": "2022-05-01T20:11:46.371425Z",
     "iopub.status.busy": "2022-05-01T20:11:46.370933Z",
     "iopub.status.idle": "2022-05-01T20:11:46.384273Z",
     "shell.execute_reply": "2022-05-01T20:11:46.383884Z"
    },
    "papermill": {
     "duration": 0.042157,
     "end_time": "2022-05-01T20:11:46.384379",
     "exception": false,
     "start_time": "2022-05-01T20:11:46.342222",
     "status": "completed"
    },
    "tags": []
   },
   "outputs": [],
   "source": [
    "import mnist"
   ]
  },
  {
   "cell_type": "code",
   "execution_count": 5,
   "id": "a411e44f",
   "metadata": {
    "execution": {
     "iopub.execute_input": "2022-05-01T20:11:46.439525Z",
     "iopub.status.busy": "2022-05-01T20:11:46.439028Z",
     "iopub.status.idle": "2022-05-01T20:11:47.145267Z",
     "shell.execute_reply": "2022-05-01T20:11:47.144820Z"
    },
    "papermill": {
     "duration": 0.734935,
     "end_time": "2022-05-01T20:11:47.145380",
     "exception": false,
     "start_time": "2022-05-01T20:11:46.410445",
     "status": "completed"
    },
    "tags": []
   },
   "outputs": [],
   "source": [
    "train_images = mnist.train_images()\n",
    "train_labels = mnist.train_labels()"
   ]
  },
  {
   "cell_type": "code",
   "execution_count": 6,
   "id": "dceab3a5",
   "metadata": {
    "execution": {
     "iopub.execute_input": "2022-05-01T20:11:47.201079Z",
     "iopub.status.busy": "2022-05-01T20:11:47.200585Z",
     "iopub.status.idle": "2022-05-01T20:11:47.213821Z",
     "shell.execute_reply": "2022-05-01T20:11:47.214280Z"
    },
    "papermill": {
     "duration": 0.042637,
     "end_time": "2022-05-01T20:11:47.214399",
     "exception": false,
     "start_time": "2022-05-01T20:11:47.171762",
     "status": "completed"
    },
    "tags": []
   },
   "outputs": [
    {
     "data": {
      "text/plain": [
       "((60000, 28, 28), (60000,))"
      ]
     },
     "execution_count": 6,
     "metadata": {},
     "output_type": "execute_result"
    }
   ],
   "source": [
    "train_images.shape, train_labels.shape"
   ]
  },
  {
   "cell_type": "code",
   "execution_count": 7,
   "id": "f50dc2bb",
   "metadata": {
    "execution": {
     "iopub.execute_input": "2022-05-01T20:11:47.270444Z",
     "iopub.status.busy": "2022-05-01T20:11:47.269943Z",
     "iopub.status.idle": "2022-05-01T20:11:47.508260Z",
     "shell.execute_reply": "2022-05-01T20:11:47.507816Z"
    },
    "papermill": {
     "duration": 0.267769,
     "end_time": "2022-05-01T20:11:47.508372",
     "exception": false,
     "start_time": "2022-05-01T20:11:47.240603",
     "status": "completed"
    },
    "tags": []
   },
   "outputs": [],
   "source": [
    "test_images = mnist.test_images()\n",
    "test_labels = mnist.test_labels()"
   ]
  },
  {
   "cell_type": "code",
   "execution_count": 8,
   "id": "fc38cf1b",
   "metadata": {
    "execution": {
     "iopub.execute_input": "2022-05-01T20:11:47.564644Z",
     "iopub.status.busy": "2022-05-01T20:11:47.564156Z",
     "iopub.status.idle": "2022-05-01T20:11:47.576454Z",
     "shell.execute_reply": "2022-05-01T20:11:47.576056Z"
    },
    "papermill": {
     "duration": 0.041551,
     "end_time": "2022-05-01T20:11:47.576556",
     "exception": false,
     "start_time": "2022-05-01T20:11:47.535005",
     "status": "completed"
    },
    "tags": []
   },
   "outputs": [
    {
     "data": {
      "text/plain": [
       "((10000, 28, 28), (10000,))"
      ]
     },
     "execution_count": 8,
     "metadata": {},
     "output_type": "execute_result"
    }
   ],
   "source": [
    "test_images.shape, test_labels.shape"
   ]
  },
  {
   "cell_type": "code",
   "execution_count": 9,
   "id": "f9ed8fe0",
   "metadata": {
    "execution": {
     "iopub.execute_input": "2022-05-01T20:11:47.633310Z",
     "iopub.status.busy": "2022-05-01T20:11:47.632808Z",
     "iopub.status.idle": "2022-05-01T20:11:47.769575Z",
     "shell.execute_reply": "2022-05-01T20:11:47.769123Z"
    },
    "papermill": {
     "duration": 0.166407,
     "end_time": "2022-05-01T20:11:47.769687",
     "exception": false,
     "start_time": "2022-05-01T20:11:47.603280",
     "status": "completed"
    },
    "tags": []
   },
   "outputs": [
    {
     "name": "stdout",
     "output_type": "stream",
     "text": [
      "2\n"
     ]
    },
    {
     "data": {
      "text/plain": [
       "<matplotlib.image.AxesImage at 0x7f31bd651358>"
      ]
     },
     "execution_count": 9,
     "metadata": {},
     "output_type": "execute_result"
    },
    {
     "data": {
      "image/png": "[encoded data removed]",
      "text/plain": [
       "<Figure size 432x288 with 1 Axes>"
      ]
     },
     "metadata": {
      "needs_background": "light"
     },
     "output_type": "display_data"
    }
   ],
   "source": [
    "image_index = 7776 # You may select anything up to 60,000\n",
    "print(train_labels[image_index]) \n",
    "plt.imshow(train_images[image_index], cmap='Greys')"
   ]
  },
  {
   "cell_type": "markdown",
   "id": "a8d2388d",
   "metadata": {
    "papermill": {
     "duration": 0.027936,
     "end_time": "2022-05-01T20:11:47.825746",
     "exception": false,
     "start_time": "2022-05-01T20:11:47.797810",
     "status": "completed"
    },
    "tags": []
   },
   "source": [
    "## Filter data to get 3 and 8 out"
   ]
  },
  {
   "cell_type": "code",
   "execution_count": 10,
   "id": "776f7fc7",
   "metadata": {
    "execution": {
     "iopub.execute_input": "2022-05-01T20:11:47.885424Z",
     "iopub.status.busy": "2022-05-01T20:11:47.884919Z",
     "iopub.status.idle": "2022-05-01T20:11:47.901342Z",
     "shell.execute_reply": "2022-05-01T20:11:47.900930Z"
    },
    "papermill": {
     "duration": 0.047806,
     "end_time": "2022-05-01T20:11:47.901448",
     "exception": false,
     "start_time": "2022-05-01T20:11:47.853642",
     "status": "completed"
    },
    "tags": []
   },
   "outputs": [],
   "source": [
    "train_filter = np.where((train_labels == 3 ) | (train_labels == 8))\n",
    "test_filter = np.where((test_labels == 3) | (test_labels == 8))\n",
    "X_train, y_train = train_images[train_filter], train_labels[train_filter]\n",
    "X_test, y_test = test_images[test_filter], test_labels[test_filter]"
   ]
  },
  {
   "cell_type": "markdown",
   "id": "948f0b7e",
   "metadata": {
    "papermill": {
     "duration": 0.027645,
     "end_time": "2022-05-01T20:11:47.956966",
     "exception": false,
     "start_time": "2022-05-01T20:11:47.929321",
     "status": "completed"
    },
    "tags": []
   },
   "source": [
    "We normalize the pizel values in the 0 to 1 range"
   ]
  },
  {
   "cell_type": "code",
   "execution_count": 11,
   "id": "ee4c2166",
   "metadata": {
    "execution": {
     "iopub.execute_input": "2022-05-01T20:11:48.015441Z",
     "iopub.status.busy": "2022-05-01T20:11:48.014947Z",
     "iopub.status.idle": "2022-05-01T20:11:48.054577Z",
     "shell.execute_reply": "2022-05-01T20:11:48.054167Z"
    },
    "papermill": {
     "duration": 0.070189,
     "end_time": "2022-05-01T20:11:48.054688",
     "exception": false,
     "start_time": "2022-05-01T20:11:47.984499",
     "status": "completed"
    },
    "tags": []
   },
   "outputs": [],
   "source": [
    "X_train = X_train/255.\n",
    "X_test = X_test/255."
   ]
  },
  {
   "cell_type": "markdown",
   "id": "ddcf4fab",
   "metadata": {
    "papermill": {
     "duration": 0.027745,
     "end_time": "2022-05-01T20:11:48.110303",
     "exception": false,
     "start_time": "2022-05-01T20:11:48.082558",
     "status": "completed"
    },
    "tags": []
   },
   "source": [
    "And setup the labels as 1 (when the digit is 3) and 0 (when the digit is 8)"
   ]
  },
  {
   "cell_type": "code",
   "execution_count": 12,
   "id": "7dc908f2",
   "metadata": {
    "execution": {
     "iopub.execute_input": "2022-05-01T20:11:48.169487Z",
     "iopub.status.busy": "2022-05-01T20:11:48.168980Z",
     "iopub.status.idle": "2022-05-01T20:11:48.180484Z",
     "shell.execute_reply": "2022-05-01T20:11:48.180086Z"
    },
    "papermill": {
     "duration": 0.042018,
     "end_time": "2022-05-01T20:11:48.180583",
     "exception": false,
     "start_time": "2022-05-01T20:11:48.138565",
     "status": "completed"
    },
    "tags": []
   },
   "outputs": [],
   "source": [
    "y_train = 1*(y_train==3)\n",
    "y_test = 1*(y_test==3)"
   ]
  },
  {
   "cell_type": "code",
   "execution_count": 13,
   "id": "01e4e969",
   "metadata": {
    "execution": {
     "iopub.execute_input": "2022-05-01T20:11:48.238807Z",
     "iopub.status.busy": "2022-05-01T20:11:48.238325Z",
     "iopub.status.idle": "2022-05-01T20:11:48.250587Z",
     "shell.execute_reply": "2022-05-01T20:11:48.250968Z"
    },
    "papermill": {
     "duration": 0.042912,
     "end_time": "2022-05-01T20:11:48.251082",
     "exception": false,
     "start_time": "2022-05-01T20:11:48.208170",
     "status": "completed"
    },
    "tags": []
   },
   "outputs": [
    {
     "data": {
      "text/plain": [
       "((11982, 28, 28), (1984, 28, 28))"
      ]
     },
     "execution_count": 13,
     "metadata": {},
     "output_type": "execute_result"
    }
   ],
   "source": [
    "X_train.shape, X_test.shape"
   ]
  },
  {
   "cell_type": "markdown",
   "id": "5ccf3f85",
   "metadata": {
    "papermill": {
     "duration": 0.027905,
     "end_time": "2022-05-01T20:11:48.306935",
     "exception": false,
     "start_time": "2022-05-01T20:11:48.279030",
     "status": "completed"
    },
    "tags": []
   },
   "source": [
    "We reshape the data to flatten the image pixels into a set of features or co-variates:"
   ]
  },
  {
   "cell_type": "code",
   "execution_count": 14,
   "id": "5286a4a3",
   "metadata": {
    "execution": {
     "iopub.execute_input": "2022-05-01T20:11:48.366352Z",
     "iopub.status.busy": "2022-05-01T20:11:48.365843Z",
     "iopub.status.idle": "2022-05-01T20:11:48.378797Z",
     "shell.execute_reply": "2022-05-01T20:11:48.378397Z"
    },
    "papermill": {
     "duration": 0.043885,
     "end_time": "2022-05-01T20:11:48.378896",
     "exception": false,
     "start_time": "2022-05-01T20:11:48.335011",
     "status": "completed"
    },
    "tags": []
   },
   "outputs": [
    {
     "data": {
      "text/plain": [
       "((11982, 784), (1984, 784))"
      ]
     },
     "execution_count": 14,
     "metadata": {},
     "output_type": "execute_result"
    }
   ],
   "source": [
    "X_train = X_train.reshape(X_train.shape[0], -1)\n",
    "X_test = X_test.reshape(X_test.shape[0], -1)\n",
    "X_train.shape, X_test.shape"
   ]
  },
  {
   "cell_type": "code",
   "execution_count": 15,
   "id": "73c5f88a",
   "metadata": {
    "execution": {
     "iopub.execute_input": "2022-05-01T20:11:48.438909Z",
     "iopub.status.busy": "2022-05-01T20:11:48.438405Z",
     "iopub.status.idle": "2022-05-01T20:11:48.455483Z",
     "shell.execute_reply": "2022-05-01T20:11:48.455848Z"
    },
    "papermill": {
     "duration": 0.048826,
     "end_time": "2022-05-01T20:11:48.455960",
     "exception": false,
     "start_time": "2022-05-01T20:11:48.407134",
     "status": "completed"
    },
    "tags": []
   },
   "outputs": [],
   "source": [
    "#Impoting functions from 'Kudzu'\n",
    "from kudzu.model import Model\n",
    "from kudzu.train import Learner\n",
    "from kudzu.optim import GD\n",
    "from kudzu.data import Data, Sampler,Dataloader\n",
    "\n",
    "from kudzu.callbacks import AccCallback\n",
    "from kudzu.callbacks import ClfCallback\n",
    "\n",
    "from kudzu.loss import MSE\n",
    "\n",
    "from kudzu.layer import Sigmoid,Relu\n",
    "from kudzu.layer import Affine"
   ]
  },
  {
   "cell_type": "markdown",
   "id": "bc01172a",
   "metadata": {
    "papermill": {
     "duration": 0.027939,
     "end_time": "2022-05-01T20:11:48.512291",
     "exception": false,
     "start_time": "2022-05-01T20:11:48.484352",
     "status": "completed"
    },
    "tags": []
   },
   "source": [
    "### Let us create a `Config` class, to store important parameters. \n",
    "This class essentially plays the role of a dictionary."
   ]
  },
  {
   "cell_type": "code",
   "execution_count": 16,
   "id": "978281aa",
   "metadata": {
    "execution": {
     "iopub.execute_input": "2022-05-01T20:11:48.572071Z",
     "iopub.status.busy": "2022-05-01T20:11:48.571562Z",
     "iopub.status.idle": "2022-05-01T20:11:48.582482Z",
     "shell.execute_reply": "2022-05-01T20:11:48.582956Z"
    },
    "papermill": {
     "duration": 0.042727,
     "end_time": "2022-05-01T20:11:48.583070",
     "exception": false,
     "start_time": "2022-05-01T20:11:48.540343",
     "status": "completed"
    },
    "tags": []
   },
   "outputs": [],
   "source": [
    "class Config:\n",
    "    pass\n",
    "config = Config()\n",
    "config.lr = 0.001\n",
    "config.num_epochs = 250\n",
    "config.bs = 50"
   ]
  },
  {
   "cell_type": "markdown",
   "id": "1385fa59",
   "metadata": {
    "papermill": {
     "duration": 0.028372,
     "end_time": "2022-05-01T20:11:48.639708",
     "exception": false,
     "start_time": "2022-05-01T20:11:48.611336",
     "status": "completed"
    },
    "tags": []
   },
   "source": [
    "### Running Models with the Training data\n",
    "Details about the network layers:\n",
    "- A first affine layer has 784 inputs and does 100 affine transforms. These are followed by a Relu\n",
    "- A second affine layer has 100 inputs from the 100 activations of the past layer, and does 100 affine transforms. These are followed by a Relu\n",
    "- A third affine layer has 100 activations and does 2 affine transformations to create an embedding for visualization. There is no non-linearity here.\n",
    "- A final \"logistic regression\" which has an affine transform from 2 inputs to 1 output, which is squeezed through a sigmoid.\n"
   ]
  },
  {
   "cell_type": "code",
   "execution_count": 17,
   "id": "2b9c66db",
   "metadata": {
    "execution": {
     "iopub.execute_input": "2022-05-01T20:11:48.699892Z",
     "iopub.status.busy": "2022-05-01T20:11:48.699385Z",
     "iopub.status.idle": "2022-05-01T20:11:48.711191Z",
     "shell.execute_reply": "2022-05-01T20:11:48.710800Z"
    },
    "papermill": {
     "duration": 0.043261,
     "end_time": "2022-05-01T20:11:48.711293",
     "exception": false,
     "start_time": "2022-05-01T20:11:48.668032",
     "status": "completed"
    },
    "tags": []
   },
   "outputs": [],
   "source": [
    "data = Data(X_train, y_train.reshape(-1,1))\n",
    "sampler = Sampler(data, config.bs, shuffle=True)\n",
    "\n",
    "dl = Dataloader(data, sampler)\n",
    "\n",
    "opt = GD(config.lr)\n",
    "loss = MSE()"
   ]
  },
  {
   "cell_type": "code",
   "execution_count": 18,
   "id": "b275e4c2",
   "metadata": {
    "execution": {
     "iopub.execute_input": "2022-05-01T20:11:48.773332Z",
     "iopub.status.busy": "2022-05-01T20:11:48.772053Z",
     "iopub.status.idle": "2022-05-01T20:11:48.782674Z",
     "shell.execute_reply": "2022-05-01T20:11:48.783046Z"
    },
    "papermill": {
     "duration": 0.043588,
     "end_time": "2022-05-01T20:11:48.783166",
     "exception": false,
     "start_time": "2022-05-01T20:11:48.739578",
     "status": "completed"
    },
    "tags": []
   },
   "outputs": [],
   "source": [
    "training_data_x = X_train\n",
    "testing_data_x = X_test\n",
    "training_data_y = y_train.reshape(-1,1)\n",
    "testing_data_y = y_test.reshape(-1,1)"
   ]
  },
  {
   "cell_type": "code",
   "execution_count": 19,
   "id": "76951160",
   "metadata": {
    "execution": {
     "iopub.execute_input": "2022-05-01T20:11:48.843553Z",
     "iopub.status.busy": "2022-05-01T20:11:48.843044Z",
     "iopub.status.idle": "2022-05-01T20:11:48.858122Z",
     "shell.execute_reply": "2022-05-01T20:11:48.858562Z"
    },
    "papermill": {
     "duration": 0.04727,
     "end_time": "2022-05-01T20:11:48.858680",
     "exception": false,
     "start_time": "2022-05-01T20:11:48.811410",
     "status": "completed"
    },
    "tags": []
   },
   "outputs": [
    {
     "name": "stdout",
     "output_type": "stream",
     "text": [
      "xavier\n",
      "xavier\n",
      "xavier\n",
      "xavier\n",
      "xavier\n"
     ]
    }
   ],
   "source": [
    "layers = [Affine(\"first\", 784, 100), Relu(\"first\"), Affine(\"second\", 100, 100), Relu(\"second\"), Affine(\"third\", 100, 2), Affine(\"last\", 2, 1), Sigmoid(\"last\")]\n",
    "model_nn = Model(layers)\n",
    "model_lr = Model([Affine(\"logits\", 784, 1), Sigmoid(\"sigmoid\")])"
   ]
  },
  {
   "cell_type": "code",
   "execution_count": 20,
   "id": "6eede77a",
   "metadata": {
    "execution": {
     "iopub.execute_input": "2022-05-01T20:11:48.919145Z",
     "iopub.status.busy": "2022-05-01T20:11:48.918661Z",
     "iopub.status.idle": "2022-05-01T20:11:48.930359Z",
     "shell.execute_reply": "2022-05-01T20:11:48.929952Z"
    },
    "papermill": {
     "duration": 0.043204,
     "end_time": "2022-05-01T20:11:48.930460",
     "exception": false,
     "start_time": "2022-05-01T20:11:48.887256",
     "status": "completed"
    },
    "tags": []
   },
   "outputs": [],
   "source": [
    "nn_learner = Learner(loss, model_nn, opt, config.num_epochs)\n",
    "acc_nn = ClfCallback(nn_learner, config.bs, training_data_x , testing_data_x, training_data_y, testing_data_y)\n",
    "nn_learner.set_callbacks([acc_nn])"
   ]
  },
  {
   "cell_type": "code",
   "execution_count": 21,
   "id": "877b6cc7",
   "metadata": {
    "execution": {
     "iopub.execute_input": "2022-05-01T20:11:48.990664Z",
     "iopub.status.busy": "2022-05-01T20:11:48.990155Z",
     "iopub.status.idle": "2022-05-01T20:11:49.001351Z",
     "shell.execute_reply": "2022-05-01T20:11:49.001718Z"
    },
    "papermill": {
     "duration": 0.043104,
     "end_time": "2022-05-01T20:11:49.001866",
     "exception": false,
     "start_time": "2022-05-01T20:11:48.958762",
     "status": "completed"
    },
    "tags": []
   },
   "outputs": [],
   "source": [
    "lr_learner = Learner(loss, model_lr, opt, config.num_epochs)\n",
    "acc_lr = ClfCallback(lr_learner, config.bs, training_data_x , testing_data_x, training_data_y, testing_data_y)\n",
    "lr_learner.set_callbacks([acc_lr])"
   ]
  },
  {
   "cell_type": "code",
   "execution_count": 22,
   "id": "d9b133c3",
   "metadata": {
    "execution": {
     "iopub.execute_input": "2022-05-01T20:11:49.062129Z",
     "iopub.status.busy": "2022-05-01T20:11:49.061590Z",
     "iopub.status.idle": "2022-05-01T20:14:47.566024Z",
     "shell.execute_reply": "2022-05-01T20:14:47.566498Z"
    },
    "papermill": {
     "duration": 178.536321,
     "end_time": "2022-05-01T20:14:47.566629",
     "exception": false,
     "start_time": "2022-05-01T20:11:49.030308",
     "status": "completed"
    },
    "tags": []
   },
   "outputs": [
    {
     "name": "stdout",
     "output_type": "stream",
     "text": [
      "Epoch 0, Loss 0.2178\n",
      "Training Accuracy: 0.7476, Testing Accuracy: 0.7445\n",
      "\n"
     ]
    },
    {
     "name": "stdout",
     "output_type": "stream",
     "text": [
      "Epoch 10, Loss 0.0621\n",
      "Training Accuracy: 0.9364, Testing Accuracy: 0.9461\n",
      "\n"
     ]
    },
    {
     "name": "stdout",
     "output_type": "stream",
     "text": [
      "Epoch 20, Loss 0.0433\n",
      "Training Accuracy: 0.9528, Testing Accuracy: 0.9607\n",
      "\n"
     ]
    },
    {
     "name": "stdout",
     "output_type": "stream",
     "text": [
      "Epoch 30, Loss 0.0362\n",
      "Training Accuracy: 0.9587, Testing Accuracy: 0.9637\n",
      "\n"
     ]
    },
    {
     "name": "stdout",
     "output_type": "stream",
     "text": [
      "Epoch 40, Loss 0.0323\n",
      "Training Accuracy: 0.9629, Testing Accuracy: 0.9657\n",
      "\n"
     ]
    },
    {
     "name": "stdout",
     "output_type": "stream",
     "text": [
      "Epoch 50, Loss 0.0297\n",
      "Training Accuracy: 0.9657, Testing Accuracy: 0.9688\n",
      "\n"
     ]
    },
    {
     "name": "stdout",
     "output_type": "stream",
     "text": [
      "Epoch 60, Loss 0.0277\n",
      "Training Accuracy: 0.9675, Testing Accuracy: 0.9708\n",
      "\n"
     ]
    },
    {
     "name": "stdout",
     "output_type": "stream",
     "text": [
      "Epoch 70, Loss 0.0262\n",
      "Training Accuracy: 0.9693, Testing Accuracy: 0.9708\n",
      "\n"
     ]
    },
    {
     "name": "stdout",
     "output_type": "stream",
     "text": [
      "Epoch 80, Loss 0.0249\n",
      "Training Accuracy: 0.9716, Testing Accuracy: 0.9708\n",
      "\n"
     ]
    },
    {
     "name": "stdout",
     "output_type": "stream",
     "text": [
      "Epoch 90, Loss 0.0238\n",
      "Training Accuracy: 0.9731, Testing Accuracy: 0.9718\n",
      "\n"
     ]
    },
    {
     "name": "stdout",
     "output_type": "stream",
     "text": [
      "Epoch 100, Loss 0.0228\n",
      "Training Accuracy: 0.9741, Testing Accuracy: 0.9723\n",
      "\n"
     ]
    },
    {
     "name": "stdout",
     "output_type": "stream",
     "text": [
      "Epoch 110, Loss 0.022\n",
      "Training Accuracy: 0.9756, Testing Accuracy: 0.9738\n",
      "\n"
     ]
    },
    {
     "name": "stdout",
     "output_type": "stream",
     "text": [
      "Epoch 120, Loss 0.0212\n",
      "Training Accuracy: 0.9765, Testing Accuracy: 0.9738\n",
      "\n"
     ]
    },
    {
     "name": "stdout",
     "output_type": "stream",
     "text": [
      "Epoch 130, Loss 0.0205\n",
      "Training Accuracy: 0.9775, Testing Accuracy: 0.9728\n",
      "\n"
     ]
    },
    {
     "name": "stdout",
     "output_type": "stream",
     "text": [
      "Epoch 140, Loss 0.0198\n",
      "Training Accuracy: 0.9784, Testing Accuracy: 0.9738\n",
      "\n"
     ]
    },
    {
     "name": "stdout",
     "output_type": "stream",
     "text": [
      "Epoch 150, Loss 0.0192\n",
      "Training Accuracy: 0.9790, Testing Accuracy: 0.9748\n",
      "\n"
     ]
    },
    {
     "name": "stdout",
     "output_type": "stream",
     "text": [
      "Epoch 160, Loss 0.0186\n",
      "Training Accuracy: 0.9796, Testing Accuracy: 0.9743\n",
      "\n"
     ]
    },
    {
     "name": "stdout",
     "output_type": "stream",
     "text": [
      "Epoch 170, Loss 0.0181\n",
      "Training Accuracy: 0.9806, Testing Accuracy: 0.9743\n",
      "\n"
     ]
    },
    {
     "name": "stdout",
     "output_type": "stream",
     "text": [
      "Epoch 180, Loss 0.0176\n",
      "Training Accuracy: 0.9813, Testing Accuracy: 0.9748\n",
      "\n"
     ]
    },
    {
     "name": "stdout",
     "output_type": "stream",
     "text": [
      "Epoch 190, Loss 0.0171\n",
      "Training Accuracy: 0.9816, Testing Accuracy: 0.9748\n",
      "\n"
     ]
    },
    {
     "name": "stdout",
     "output_type": "stream",
     "text": [
      "Epoch 200, Loss 0.0167\n",
      "Training Accuracy: 0.9822, Testing Accuracy: 0.9753\n",
      "\n"
     ]
    },
    {
     "name": "stdout",
     "output_type": "stream",
     "text": [
      "Epoch 210, Loss 0.0162\n",
      "Training Accuracy: 0.9826, Testing Accuracy: 0.9753\n",
      "\n"
     ]
    },
    {
     "name": "stdout",
     "output_type": "stream",
     "text": [
      "Epoch 220, Loss 0.0158\n",
      "Training Accuracy: 0.9832, Testing Accuracy: 0.9758\n",
      "\n"
     ]
    },
    {
     "name": "stdout",
     "output_type": "stream",
     "text": [
      "Epoch 230, Loss 0.0154\n",
      "Training Accuracy: 0.9836, Testing Accuracy: 0.9758\n",
      "\n"
     ]
    },
    {
     "name": "stdout",
     "output_type": "stream",
     "text": [
      "Epoch 240, Loss 0.015\n",
      "Training Accuracy: 0.9841, Testing Accuracy: 0.9763\n",
      "\n"
     ]
    },
    {
     "data": {
      "text/plain": [
       "0.0023319842029853087"
      ]
     },
     "execution_count": 22,
     "metadata": {},
     "output_type": "execute_result"
    }
   ],
   "source": [
    "nn_learner.train_loop(dl)"
   ]
  },
  {
   "cell_type": "code",
   "execution_count": 23,
   "id": "e0163366",
   "metadata": {
    "execution": {
     "iopub.execute_input": "2022-05-01T20:14:47.643176Z",
     "iopub.status.busy": "2022-05-01T20:14:47.642098Z",
     "iopub.status.idle": "2022-05-01T20:15:00.179909Z",
     "shell.execute_reply": "2022-05-01T20:15:00.180605Z"
    },
    "papermill": {
     "duration": 12.578225,
     "end_time": "2022-05-01T20:15:00.180739",
     "exception": false,
     "start_time": "2022-05-01T20:14:47.602514",
     "status": "completed"
    },
    "tags": []
   },
   "outputs": [
    {
     "name": "stdout",
     "output_type": "stream",
     "text": [
      "Epoch 0, Loss 0.2375\n",
      "Training Accuracy: 0.6922, Testing Accuracy: 0.6946\n",
      "\n"
     ]
    },
    {
     "name": "stdout",
     "output_type": "stream",
     "text": [
      "Epoch 10, Loss 0.1039\n",
      "Training Accuracy: 0.9084, Testing Accuracy: 0.9224\n",
      "\n"
     ]
    },
    {
     "name": "stdout",
     "output_type": "stream",
     "text": [
      "Epoch 20, Loss 0.0793\n",
      "Training Accuracy: 0.9278, Testing Accuracy: 0.9446\n",
      "\n"
     ]
    },
    {
     "name": "stdout",
     "output_type": "stream",
     "text": [
      "Epoch 30, Loss 0.0681\n",
      "Training Accuracy: 0.9366, Testing Accuracy: 0.9526\n",
      "\n"
     ]
    },
    {
     "name": "stdout",
     "output_type": "stream",
     "text": [
      "Epoch 40, Loss 0.0614\n",
      "Training Accuracy: 0.9418, Testing Accuracy: 0.9556\n",
      "\n"
     ]
    },
    {
     "name": "stdout",
     "output_type": "stream",
     "text": [
      "Epoch 50, Loss 0.057\n",
      "Training Accuracy: 0.9442, Testing Accuracy: 0.9577\n",
      "\n"
     ]
    },
    {
     "name": "stdout",
     "output_type": "stream",
     "text": [
      "Epoch 60, Loss 0.0537\n",
      "Training Accuracy: 0.9464, Testing Accuracy: 0.9597\n",
      "\n"
     ]
    },
    {
     "name": "stdout",
     "output_type": "stream",
     "text": [
      "Epoch 70, Loss 0.0512\n",
      "Training Accuracy: 0.9490, Testing Accuracy: 0.9592\n",
      "\n"
     ]
    },
    {
     "name": "stdout",
     "output_type": "stream",
     "text": [
      "Epoch 80, Loss 0.0492\n",
      "Training Accuracy: 0.9509, Testing Accuracy: 0.9612\n",
      "\n"
     ]
    },
    {
     "name": "stdout",
     "output_type": "stream",
     "text": [
      "Epoch 90, Loss 0.0475\n",
      "Training Accuracy: 0.9525, Testing Accuracy: 0.9612\n",
      "\n"
     ]
    },
    {
     "name": "stdout",
     "output_type": "stream",
     "text": [
      "Epoch 100, Loss 0.0461\n",
      "Training Accuracy: 0.9533, Testing Accuracy: 0.9617\n",
      "\n"
     ]
    },
    {
     "name": "stdout",
     "output_type": "stream",
     "text": [
      "Epoch 110, Loss 0.045\n",
      "Training Accuracy: 0.9538, Testing Accuracy: 0.9627\n",
      "\n"
     ]
    },
    {
     "name": "stdout",
     "output_type": "stream",
     "text": [
      "Epoch 120, Loss 0.0439\n",
      "Training Accuracy: 0.9546, Testing Accuracy: 0.9637\n",
      "\n"
     ]
    },
    {
     "name": "stdout",
     "output_type": "stream",
     "text": [
      "Epoch 130, Loss 0.043\n",
      "Training Accuracy: 0.9552, Testing Accuracy: 0.9647\n",
      "\n"
     ]
    },
    {
     "name": "stdout",
     "output_type": "stream",
     "text": [
      "Epoch 140, Loss 0.0422\n",
      "Training Accuracy: 0.9556, Testing Accuracy: 0.9657\n",
      "\n"
     ]
    },
    {
     "name": "stdout",
     "output_type": "stream",
     "text": [
      "Epoch 150, Loss 0.0415\n",
      "Training Accuracy: 0.9564, Testing Accuracy: 0.9662\n",
      "\n"
     ]
    },
    {
     "name": "stdout",
     "output_type": "stream",
     "text": [
      "Epoch 160, Loss 0.0408\n",
      "Training Accuracy: 0.9569, Testing Accuracy: 0.9662\n",
      "\n"
     ]
    },
    {
     "name": "stdout",
     "output_type": "stream",
     "text": [
      "Epoch 170, Loss 0.0402\n",
      "Training Accuracy: 0.9574, Testing Accuracy: 0.9662\n",
      "\n"
     ]
    },
    {
     "name": "stdout",
     "output_type": "stream",
     "text": [
      "Epoch 180, Loss 0.0397\n",
      "Training Accuracy: 0.9580, Testing Accuracy: 0.9667\n",
      "\n"
     ]
    },
    {
     "name": "stdout",
     "output_type": "stream",
     "text": [
      "Epoch 190, Loss 0.0392\n",
      "Training Accuracy: 0.9584, Testing Accuracy: 0.9672\n",
      "\n"
     ]
    },
    {
     "name": "stdout",
     "output_type": "stream",
     "text": [
      "Epoch 200, Loss 0.0387\n",
      "Training Accuracy: 0.9586, Testing Accuracy: 0.9667\n",
      "\n"
     ]
    },
    {
     "name": "stdout",
     "output_type": "stream",
     "text": [
      "Epoch 210, Loss 0.0382\n",
      "Training Accuracy: 0.9588, Testing Accuracy: 0.9677\n",
      "\n"
     ]
    },
    {
     "name": "stdout",
     "output_type": "stream",
     "text": [
      "Epoch 220, Loss 0.0378\n",
      "Training Accuracy: 0.9589, Testing Accuracy: 0.9677\n",
      "\n"
     ]
    },
    {
     "name": "stdout",
     "output_type": "stream",
     "text": [
      "Epoch 230, Loss 0.0375\n",
      "Training Accuracy: 0.9590, Testing Accuracy: 0.9682\n",
      "\n"
     ]
    },
    {
     "name": "stdout",
     "output_type": "stream",
     "text": [
      "Epoch 240, Loss 0.0371\n",
      "Training Accuracy: 0.9591, Testing Accuracy: 0.9682\n",
      "\n"
     ]
    },
    {
     "data": {
      "text/plain": [
       "0.023217992424391886"
      ]
     },
     "execution_count": 23,
     "metadata": {},
     "output_type": "execute_result"
    }
   ],
   "source": [
    "lr_learner.train_loop(dl)"
   ]
  },
  {
   "cell_type": "code",
   "execution_count": 24,
   "id": "ca410940",
   "metadata": {
    "execution": {
     "iopub.execute_input": "2022-05-01T20:15:00.275208Z",
     "iopub.status.busy": "2022-05-01T20:15:00.274683Z",
     "iopub.status.idle": "2022-05-01T20:15:00.502891Z",
     "shell.execute_reply": "2022-05-01T20:15:00.502459Z"
    },
    "papermill": {
     "duration": 0.27876,
     "end_time": "2022-05-01T20:15:00.503005",
     "exception": false,
     "start_time": "2022-05-01T20:15:00.224245",
     "status": "completed"
    },
    "tags": []
   },
   "outputs": [
    {
     "data": {
      "text/plain": [
       "<matplotlib.legend.Legend at 0x7f31bd22fb38>"
      ]
     },
     "execution_count": 24,
     "metadata": {},
     "output_type": "execute_result"
    },
    {
     "data": {
      "image/png": "[encoded data removed]",
      "text/plain": [
       "<Figure size 1080x720 with 1 Axes>"
      ]
     },
     "metadata": {
      "needs_background": "light"
     },
     "output_type": "display_data"
    }
   ],
   "source": [
    "#comparing the results of NN and LR\n",
    "plt.figure(figsize=(15,10))\n",
    "\n",
    "# Neural Network plots\n",
    "plt.plot(acc_nn.accuracies, 'r-', label = \"Training Accuracies - NN\")\n",
    "plt.plot(acc_nn.test_accuracies, 'g-', label = \"Testing Accuracies - NN\")\n",
    "\n",
    "# Logistic Regression plots\n",
    "plt.plot(acc_lr.accuracies, 'k-', label = \"Training Accuracies - LR\")\n",
    "plt.plot(acc_lr.test_accuracies, 'b-', label = \"Testing Accuracies - LR\")\n",
    "plt.legend()"
   ]
  },
  {
   "cell_type": "markdown",
   "id": "80dfb35c",
   "metadata": {
    "papermill": {
     "duration": 0.04407,
     "end_time": "2022-05-01T20:15:00.591544",
     "exception": false,
     "start_time": "2022-05-01T20:15:00.547474",
     "status": "completed"
    },
    "tags": []
   },
   "source": [
    "#### Plotting the outputs of this layer of the NN.\n"
   ]
  },
  {
   "cell_type": "code",
   "execution_count": 25,
   "id": "45eb2ff5",
   "metadata": {
    "execution": {
     "iopub.execute_input": "2022-05-01T20:15:00.683257Z",
     "iopub.status.busy": "2022-05-01T20:15:00.682745Z",
     "iopub.status.idle": "2022-05-01T20:15:00.719898Z",
     "shell.execute_reply": "2022-05-01T20:15:00.720625Z"
    },
    "papermill": {
     "duration": 0.085116,
     "end_time": "2022-05-01T20:15:00.720759",
     "exception": false,
     "start_time": "2022-05-01T20:15:00.635643",
     "status": "completed"
    },
    "tags": []
   },
   "outputs": [],
   "source": [
    "new_model = Model(layers[:-2])\n",
    "testing_plot = new_model(testing_data_x)"
   ]
  },
  {
   "cell_type": "code",
   "execution_count": 26,
   "id": "4c0a5485",
   "metadata": {
    "execution": {
     "iopub.execute_input": "2022-05-01T20:15:00.817488Z",
     "iopub.status.busy": "2022-05-01T20:15:00.816989Z",
     "iopub.status.idle": "2022-05-01T20:15:01.008081Z",
     "shell.execute_reply": "2022-05-01T20:15:01.008487Z"
    },
    "papermill": {
     "duration": 0.242486,
     "end_time": "2022-05-01T20:15:01.008612",
     "exception": false,
     "start_time": "2022-05-01T20:15:00.766126",
     "status": "completed"
    },
    "tags": []
   },
   "outputs": [
    {
     "data": {
      "text/plain": [
       "Text(0.5, 1.0, 'Outputs')"
      ]
     },
     "execution_count": 26,
     "metadata": {},
     "output_type": "execute_result"
    },
    {
     "data": {
      "image/png": "[encoded data removed]",
      "text/plain": [
       "<Figure size 576x504 with 1 Axes>"
      ]
     },
     "metadata": {
      "needs_background": "light"
     },
     "output_type": "display_data"
    }
   ],
   "source": [
    "# Plotting the scatter plot of points and color coding by class\n",
    "plt.figure(figsize=(8,7))\n",
    "plt.scatter(testing_plot[:,0], testing_plot[:,1], alpha = 0.1, c = y_test.ravel());\n",
    "plt.title('Outputs')"
   ]
  },
  {
   "cell_type": "markdown",
   "id": "a74fcf8f",
   "metadata": {
    "papermill": {
     "duration": 0.067624,
     "end_time": "2022-05-01T20:15:01.122830",
     "exception": false,
     "start_time": "2022-05-01T20:15:01.055206",
     "status": "completed"
    },
    "tags": []
   },
   "source": [
    "Probability contours"
   ]
  },
  {
   "cell_type": "code",
   "execution_count": 27,
   "id": "d0afc8e3",
   "metadata": {
    "execution": {
     "iopub.execute_input": "2022-05-01T20:15:01.219748Z",
     "iopub.status.busy": "2022-05-01T20:15:01.219251Z",
     "iopub.status.idle": "2022-05-01T20:15:01.230438Z",
     "shell.execute_reply": "2022-05-01T20:15:01.230028Z"
    },
    "papermill": {
     "duration": 0.06094,
     "end_time": "2022-05-01T20:15:01.230538",
     "exception": false,
     "start_time": "2022-05-01T20:15:01.169598",
     "status": "completed"
    },
    "tags": []
   },
   "outputs": [],
   "source": [
    "model_prob = Model(layers[-2:]) "
   ]
  },
  {
   "cell_type": "code",
   "execution_count": 28,
   "id": "9b96e238",
   "metadata": {
    "execution": {
     "iopub.execute_input": "2022-05-01T20:15:01.328110Z",
     "iopub.status.busy": "2022-05-01T20:15:01.327606Z",
     "iopub.status.idle": "2022-05-01T20:15:01.339821Z",
     "shell.execute_reply": "2022-05-01T20:15:01.340220Z"
    },
    "papermill": {
     "duration": 0.063059,
     "end_time": "2022-05-01T20:15:01.340344",
     "exception": false,
     "start_time": "2022-05-01T20:15:01.277285",
     "status": "completed"
    },
    "tags": []
   },
   "outputs": [],
   "source": [
    "#creating the x and y ranges according to the above generated plot.\n",
    "x_range = np.linspace(-4, 1, 100) \n",
    "y_range = np.linspace(-6, 6, 100) \n",
    "x_grid, y_grid = np.meshgrid(x_range, y_range) # x_grid and y_grig are of size 100 X 100\n",
    "\n",
    "# converting x_grid and y_grid to continuous arrays\n",
    "x_gridflat = np.ravel(x_grid)\n",
    "y_gridflat = np.ravel(y_grid)\n",
    "\n",
    "# The last layer of the current model takes two columns as input. Hence transpose of np.vstack() is required.\n",
    "X = np.vstack((x_gridflat, y_gridflat)).T\n",
    "\n",
    "prob_contour = model_prob(X).reshape(100,100) "
   ]
  },
  {
   "cell_type": "code",
   "execution_count": 29,
   "id": "da72499a",
   "metadata": {
    "execution": {
     "iopub.execute_input": "2022-05-01T20:15:01.437788Z",
     "iopub.status.busy": "2022-05-01T20:15:01.437270Z",
     "iopub.status.idle": "2022-05-01T20:15:01.696095Z",
     "shell.execute_reply": "2022-05-01T20:15:01.695645Z"
    },
    "papermill": {
     "duration": 0.308814,
     "end_time": "2022-05-01T20:15:01.696203",
     "exception": false,
     "start_time": "2022-05-01T20:15:01.387389",
     "status": "completed"
    },
    "tags": []
   },
   "outputs": [
    {
     "data": {
      "image/png": "[encoded data removed]",
      "text/plain": [
       "<Figure size 720x648 with 1 Axes>"
      ]
     },
     "metadata": {
      "needs_background": "light"
     },
     "output_type": "display_data"
    }
   ],
   "source": [
    "plt.figure(figsize=(10,9))\n",
    "plt.scatter(testing_plot[:,0], testing_plot[:,1], alpha = 0.1, c = y_test.ravel())\n",
    "contours = plt.contour(x_grid,y_grid,prob_contour)\n",
    "plt.title('Probability Contours')\n",
    "plt.clabel(contours, inline = True );"
   ]
  },
  {
   "cell_type": "code",
   "execution_count": null,
   "id": "e81b4ac7",
   "metadata": {
    "papermill": {
     "duration": 0.049736,
     "end_time": "2022-05-01T20:15:01.796212",
     "exception": false,
     "start_time": "2022-05-01T20:15:01.746476",
     "status": "completed"
    },
    "tags": []
   },
   "outputs": [],
   "source": []
  }
 ],
 "metadata": {
  "kernelspec": {
   "display_name": "Python 3",
   "language": "python",
   "name": "python3"
  },
  "language_info": {
   "codemirror_mode": {
    "name": "ipython",
    "version": 3
   },
   "file_extension": ".py",
   "mimetype": "text/x-python",
   "name": "python",
   "nbconvert_exporter": "python",
   "pygments_lexer": "ipython3",
   "version": "3.6.15"
  },
  "papermill": {
   "default_parameters": {},
   "duration": 199.313238,
   "end_time": "2022-05-01T20:15:02.163467",
   "environment_variables": {},
   "exception": null,
   "input_path": "2020-08-11-part2.ipynb",
   "output_path": "2020-08-11-part2.ipynb",
   "parameters": {},
   "start_time": "2022-05-01T20:11:42.850229",
   "version": "2.3.3"
  }
 },
 "nbformat": 4,
 "nbformat_minor": 5
}