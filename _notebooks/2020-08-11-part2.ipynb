{
 "cells": [
  {
   "cell_type": "markdown",
   "id": "98380cd3",
   "metadata": {
    "papermill": {
     "duration": 0.031046,
     "end_time": "2022-09-24T00:49:08.014411",
     "exception": false,
     "start_time": "2022-09-24T00:49:07.983365",
     "status": "completed"
    },
    "tags": []
   },
   "source": [
    "# Distinguish Your Own Digits (DYOD)"
   ]
  },
  {
   "cell_type": "markdown",
   "id": "ef31240d",
   "metadata": {
    "papermill": {
     "duration": 0.023734,
     "end_time": "2022-09-24T00:49:08.062565",
     "exception": false,
     "start_time": "2022-09-24T00:49:08.038831",
     "status": "completed"
    },
    "tags": []
   },
   "source": [
    "You are going to write a classifier that distinguishes between the number 3 and number 8."
   ]
  },
  {
   "cell_type": "code",
   "execution_count": 1,
   "id": "b15c8646",
   "metadata": {
    "execution": {
     "iopub.execute_input": "2022-09-24T00:49:08.120811Z",
     "iopub.status.busy": "2022-09-24T00:49:08.120210Z",
     "iopub.status.idle": "2022-09-24T00:49:08.130143Z",
     "shell.execute_reply": "2022-09-24T00:49:08.130704Z"
    },
    "papermill": {
     "duration": 0.044608,
     "end_time": "2022-09-24T00:49:08.130854",
     "exception": false,
     "start_time": "2022-09-24T00:49:08.086246",
     "status": "completed"
    },
    "tags": []
   },
   "outputs": [],
   "source": [
    "%load_ext autoreload\n",
    "%autoreload 2"
   ]
  },
  {
   "cell_type": "code",
   "execution_count": 2,
   "id": "22ef38dc",
   "metadata": {
    "execution": {
     "iopub.execute_input": "2022-09-24T00:49:08.182671Z",
     "iopub.status.busy": "2022-09-24T00:49:08.182089Z",
     "iopub.status.idle": "2022-09-24T00:49:08.718723Z",
     "shell.execute_reply": "2022-09-24T00:49:08.718135Z"
    },
    "papermill": {
     "duration": 0.56422,
     "end_time": "2022-09-24T00:49:08.718867",
     "exception": false,
     "start_time": "2022-09-24T00:49:08.154647",
     "status": "completed"
    },
    "tags": []
   },
   "outputs": [],
   "source": [
    "%matplotlib inline\n",
    "import numpy as np\n",
    "import matplotlib.pyplot as plt\n",
    "import pandas as pd"
   ]
  },
  {
   "cell_type": "markdown",
   "id": "ba036198",
   "metadata": {
    "papermill": {
     "duration": 0.023704,
     "end_time": "2022-09-24T00:49:08.767114",
     "exception": false,
     "start_time": "2022-09-24T00:49:08.743410",
     "status": "completed"
    },
    "tags": []
   },
   "source": [
    "From the command line run `pip install mnist`. This is a library that will help you bring down the mnist dataset. If you run this from a notebook, you need to put  `!pip install mnist` in a cell by itself."
   ]
  },
  {
   "cell_type": "code",
   "execution_count": 3,
   "id": "bb6ad8a1",
   "metadata": {
    "execution": {
     "iopub.execute_input": "2022-09-24T00:49:08.819007Z",
     "iopub.status.busy": "2022-09-24T00:49:08.818421Z",
     "iopub.status.idle": "2022-09-24T00:49:10.413214Z",
     "shell.execute_reply": "2022-09-24T00:49:10.412606Z"
    },
    "papermill": {
     "duration": 1.622354,
     "end_time": "2022-09-24T00:49:10.413359",
     "exception": false,
     "start_time": "2022-09-24T00:49:08.791005",
     "status": "completed"
    },
    "tags": []
   },
   "outputs": [
    {
     "name": "stdout",
     "output_type": "stream",
     "text": [
      "Collecting mnist\r\n"
     ]
    },
    {
     "name": "stdout",
     "output_type": "stream",
     "text": [
      "  Downloading mnist-0.2.2-py2.py3-none-any.whl (3.5 kB)\r\n",
      "Requirement already satisfied: numpy in /opt/hostedtoolcache/Python/3.6.15/x64/lib/python3.6/site-packages (from mnist) (1.19.5)\r\n"
     ]
    },
    {
     "name": "stdout",
     "output_type": "stream",
     "text": [
      "Installing collected packages: mnist\r\n",
      "Successfully installed mnist-0.2.2\r\n"
     ]
    }
   ],
   "source": [
    "!pip install mnist"
   ]
  },
  {
   "cell_type": "markdown",
   "id": "69df9c9a",
   "metadata": {
    "papermill": {
     "duration": 0.024629,
     "end_time": "2022-09-24T00:49:10.463172",
     "exception": false,
     "start_time": "2022-09-24T00:49:10.438543",
     "status": "completed"
    },
    "tags": []
   },
   "source": [
    "## Preparing the Data"
   ]
  },
  {
   "cell_type": "code",
   "execution_count": 4,
   "id": "7f69d806",
   "metadata": {
    "execution": {
     "iopub.execute_input": "2022-09-24T00:49:10.516404Z",
     "iopub.status.busy": "2022-09-24T00:49:10.515827Z",
     "iopub.status.idle": "2022-09-24T00:49:10.530657Z",
     "shell.execute_reply": "2022-09-24T00:49:10.530168Z"
    },
    "papermill": {
     "duration": 0.043137,
     "end_time": "2022-09-24T00:49:10.530770",
     "exception": false,
     "start_time": "2022-09-24T00:49:10.487633",
     "status": "completed"
    },
    "tags": []
   },
   "outputs": [],
   "source": [
    "import mnist"
   ]
  },
  {
   "cell_type": "code",
   "execution_count": 5,
   "id": "a411e44f",
   "metadata": {
    "execution": {
     "iopub.execute_input": "2022-09-24T00:49:10.584252Z",
     "iopub.status.busy": "2022-09-24T00:49:10.583666Z",
     "iopub.status.idle": "2022-09-24T00:49:11.195611Z",
     "shell.execute_reply": "2022-09-24T00:49:11.194278Z"
    },
    "papermill": {
     "duration": 0.640327,
     "end_time": "2022-09-24T00:49:11.195758",
     "exception": false,
     "start_time": "2022-09-24T00:49:10.555431",
     "status": "completed"
    },
    "tags": []
   },
   "outputs": [],
   "source": [
    "train_images = mnist.train_images()\n",
    "train_labels = mnist.train_labels()"
   ]
  },
  {
   "cell_type": "code",
   "execution_count": 6,
   "id": "dceab3a5",
   "metadata": {
    "execution": {
     "iopub.execute_input": "2022-09-24T00:49:11.254228Z",
     "iopub.status.busy": "2022-09-24T00:49:11.249477Z",
     "iopub.status.idle": "2022-09-24T00:49:11.264104Z",
     "shell.execute_reply": "2022-09-24T00:49:11.263620Z"
    },
    "papermill": {
     "duration": 0.04325,
     "end_time": "2022-09-24T00:49:11.264219",
     "exception": false,
     "start_time": "2022-09-24T00:49:11.220969",
     "status": "completed"
    },
    "tags": []
   },
   "outputs": [
    {
     "data": {
      "text/plain": [
       "((60000, 28, 28), (60000,))"
      ]
     },
     "execution_count": 6,
     "metadata": {},
     "output_type": "execute_result"
    }
   ],
   "source": [
    "train_images.shape, train_labels.shape"
   ]
  },
  {
   "cell_type": "code",
   "execution_count": 7,
   "id": "f50dc2bb",
   "metadata": {
    "execution": {
     "iopub.execute_input": "2022-09-24T00:49:11.318216Z",
     "iopub.status.busy": "2022-09-24T00:49:11.317579Z",
     "iopub.status.idle": "2022-09-24T00:49:11.515138Z",
     "shell.execute_reply": "2022-09-24T00:49:11.514602Z"
    },
    "papermill": {
     "duration": 0.226115,
     "end_time": "2022-09-24T00:49:11.515260",
     "exception": false,
     "start_time": "2022-09-24T00:49:11.289145",
     "status": "completed"
    },
    "tags": []
   },
   "outputs": [],
   "source": [
    "test_images = mnist.test_images()\n",
    "test_labels = mnist.test_labels()"
   ]
  },
  {
   "cell_type": "code",
   "execution_count": 8,
   "id": "fc38cf1b",
   "metadata": {
    "execution": {
     "iopub.execute_input": "2022-09-24T00:49:11.569842Z",
     "iopub.status.busy": "2022-09-24T00:49:11.569225Z",
     "iopub.status.idle": "2022-09-24T00:49:11.583941Z",
     "shell.execute_reply": "2022-09-24T00:49:11.583452Z"
    },
    "papermill": {
     "duration": 0.043525,
     "end_time": "2022-09-24T00:49:11.584054",
     "exception": false,
     "start_time": "2022-09-24T00:49:11.540529",
     "status": "completed"
    },
    "tags": []
   },
   "outputs": [
    {
     "data": {
      "text/plain": [
       "((10000, 28, 28), (10000,))"
      ]
     },
     "execution_count": 8,
     "metadata": {},
     "output_type": "execute_result"
    }
   ],
   "source": [
    "test_images.shape, test_labels.shape"
   ]
  },
  {
   "cell_type": "code",
   "execution_count": 9,
   "id": "f9ed8fe0",
   "metadata": {
    "execution": {
     "iopub.execute_input": "2022-09-24T00:49:11.638843Z",
     "iopub.status.busy": "2022-09-24T00:49:11.638269Z",
     "iopub.status.idle": "2022-09-24T00:49:11.781362Z",
     "shell.execute_reply": "2022-09-24T00:49:11.781819Z"
    },
    "papermill": {
     "duration": 0.172785,
     "end_time": "2022-09-24T00:49:11.781956",
     "exception": false,
     "start_time": "2022-09-24T00:49:11.609171",
     "status": "completed"
    },
    "tags": []
   },
   "outputs": [
    {
     "name": "stdout",
     "output_type": "stream",
     "text": [
      "2\n"
     ]
    },
    {
     "data": {
      "text/plain": [
       "<matplotlib.image.AxesImage at 0x7f94aca52c50>"
      ]
     },
     "execution_count": 9,
     "metadata": {},
     "output_type": "execute_result"
    },
    {
     "data": {
      "image/png": "[encoded data removed]",
      "text/plain": [
       "<Figure size 432x288 with 1 Axes>"
      ]
     },
     "metadata": {
      "needs_background": "light"
     },
     "output_type": "display_data"
    }
   ],
   "source": [
    "image_index = 7776 # You may select anything up to 60,000\n",
    "print(train_labels[image_index]) \n",
    "plt.imshow(train_images[image_index], cmap='Greys')"
   ]
  },
  {
   "cell_type": "markdown",
   "id": "a8d2388d",
   "metadata": {
    "papermill": {
     "duration": 0.026282,
     "end_time": "2022-09-24T00:49:11.834574",
     "exception": false,
     "start_time": "2022-09-24T00:49:11.808292",
     "status": "completed"
    },
    "tags": []
   },
   "source": [
    "## Filter data to get 3 and 8 out"
   ]
  },
  {
   "cell_type": "code",
   "execution_count": 10,
   "id": "776f7fc7",
   "metadata": {
    "execution": {
     "iopub.execute_input": "2022-09-24T00:49:11.893985Z",
     "iopub.status.busy": "2022-09-24T00:49:11.893375Z",
     "iopub.status.idle": "2022-09-24T00:49:11.907839Z",
     "shell.execute_reply": "2022-09-24T00:49:11.907358Z"
    },
    "papermill": {
     "duration": 0.047007,
     "end_time": "2022-09-24T00:49:11.907956",
     "exception": false,
     "start_time": "2022-09-24T00:49:11.860949",
     "status": "completed"
    },
    "tags": []
   },
   "outputs": [],
   "source": [
    "train_filter = np.where((train_labels == 3 ) | (train_labels == 8))\n",
    "test_filter = np.where((test_labels == 3) | (test_labels == 8))\n",
    "X_train, y_train = train_images[train_filter], train_labels[train_filter]\n",
    "X_test, y_test = test_images[test_filter], test_labels[test_filter]"
   ]
  },
  {
   "cell_type": "markdown",
   "id": "948f0b7e",
   "metadata": {
    "papermill": {
     "duration": 0.026213,
     "end_time": "2022-09-24T00:49:11.960829",
     "exception": false,
     "start_time": "2022-09-24T00:49:11.934616",
     "status": "completed"
    },
    "tags": []
   },
   "source": [
    "We normalize the pizel values in the 0 to 1 range"
   ]
  },
  {
   "cell_type": "code",
   "execution_count": 11,
   "id": "ee4c2166",
   "metadata": {
    "execution": {
     "iopub.execute_input": "2022-09-24T00:49:12.017476Z",
     "iopub.status.busy": "2022-09-24T00:49:12.016857Z",
     "iopub.status.idle": "2022-09-24T00:49:12.062176Z",
     "shell.execute_reply": "2022-09-24T00:49:12.061617Z"
    },
    "papermill": {
     "duration": 0.07518,
     "end_time": "2022-09-24T00:49:12.062308",
     "exception": false,
     "start_time": "2022-09-24T00:49:11.987128",
     "status": "completed"
    },
    "tags": []
   },
   "outputs": [],
   "source": [
    "X_train = X_train/255.\n",
    "X_test = X_test/255."
   ]
  },
  {
   "cell_type": "markdown",
   "id": "ddcf4fab",
   "metadata": {
    "papermill": {
     "duration": 0.026196,
     "end_time": "2022-09-24T00:49:12.115296",
     "exception": false,
     "start_time": "2022-09-24T00:49:12.089100",
     "status": "completed"
    },
    "tags": []
   },
   "source": [
    "And setup the labels as 1 (when the digit is 3) and 0 (when the digit is 8)"
   ]
  },
  {
   "cell_type": "code",
   "execution_count": 12,
   "id": "7dc908f2",
   "metadata": {
    "execution": {
     "iopub.execute_input": "2022-09-24T00:49:12.171578Z",
     "iopub.status.busy": "2022-09-24T00:49:12.171011Z",
     "iopub.status.idle": "2022-09-24T00:49:12.184073Z",
     "shell.execute_reply": "2022-09-24T00:49:12.183605Z"
    },
    "papermill": {
     "duration": 0.04269,
     "end_time": "2022-09-24T00:49:12.184180",
     "exception": false,
     "start_time": "2022-09-24T00:49:12.141490",
     "status": "completed"
    },
    "tags": []
   },
   "outputs": [],
   "source": [
    "y_train = 1*(y_train==3)\n",
    "y_test = 1*(y_test==3)"
   ]
  },
  {
   "cell_type": "code",
   "execution_count": 13,
   "id": "01e4e969",
   "metadata": {
    "execution": {
     "iopub.execute_input": "2022-09-24T00:49:12.239662Z",
     "iopub.status.busy": "2022-09-24T00:49:12.239101Z",
     "iopub.status.idle": "2022-09-24T00:49:12.252188Z",
     "shell.execute_reply": "2022-09-24T00:49:12.251720Z"
    },
    "papermill": {
     "duration": 0.041903,
     "end_time": "2022-09-24T00:49:12.252291",
     "exception": false,
     "start_time": "2022-09-24T00:49:12.210388",
     "status": "completed"
    },
    "tags": []
   },
   "outputs": [
    {
     "data": {
      "text/plain": [
       "((11982, 28, 28), (1984, 28, 28))"
      ]
     },
     "execution_count": 13,
     "metadata": {},
     "output_type": "execute_result"
    }
   ],
   "source": [
    "X_train.shape, X_test.shape"
   ]
  },
  {
   "cell_type": "markdown",
   "id": "5ccf3f85",
   "metadata": {
    "papermill": {
     "duration": 0.02624,
     "end_time": "2022-09-24T00:49:12.304836",
     "exception": false,
     "start_time": "2022-09-24T00:49:12.278596",
     "status": "completed"
    },
    "tags": []
   },
   "source": [
    "We reshape the data to flatten the image pixels into a set of features or co-variates:"
   ]
  },
  {
   "cell_type": "code",
   "execution_count": 14,
   "id": "5286a4a3",
   "metadata": {
    "execution": {
     "iopub.execute_input": "2022-09-24T00:49:12.362170Z",
     "iopub.status.busy": "2022-09-24T00:49:12.361591Z",
     "iopub.status.idle": "2022-09-24T00:49:12.375308Z",
     "shell.execute_reply": "2022-09-24T00:49:12.374839Z"
    },
    "papermill": {
     "duration": 0.043735,
     "end_time": "2022-09-24T00:49:12.375415",
     "exception": false,
     "start_time": "2022-09-24T00:49:12.331680",
     "status": "completed"
    },
    "tags": []
   },
   "outputs": [
    {
     "data": {
      "text/plain": [
       "((11982, 784), (1984, 784))"
      ]
     },
     "execution_count": 14,
     "metadata": {},
     "output_type": "execute_result"
    }
   ],
   "source": [
    "X_train = X_train.reshape(X_train.shape[0], -1)\n",
    "X_test = X_test.reshape(X_test.shape[0], -1)\n",
    "X_train.shape, X_test.shape"
   ]
  },
  {
   "cell_type": "code",
   "execution_count": 15,
   "id": "73c5f88a",
   "metadata": {
    "execution": {
     "iopub.execute_input": "2022-09-24T00:49:12.438790Z",
     "iopub.status.busy": "2022-09-24T00:49:12.438121Z",
     "iopub.status.idle": "2022-09-24T00:49:12.451871Z",
     "shell.execute_reply": "2022-09-24T00:49:12.452345Z"
    },
    "papermill": {
     "duration": 0.050311,
     "end_time": "2022-09-24T00:49:12.452495",
     "exception": false,
     "start_time": "2022-09-24T00:49:12.402184",
     "status": "completed"
    },
    "tags": []
   },
   "outputs": [],
   "source": [
    "#Impoting functions from 'Kudzu'\n",
    "from kudzu.model import Model\n",
    "from kudzu.train import Learner\n",
    "from kudzu.optim import GD\n",
    "from kudzu.data import Data, Sampler,Dataloader\n",
    "\n",
    "from kudzu.callbacks import AccCallback\n",
    "from kudzu.callbacks import ClfCallback\n",
    "\n",
    "from kudzu.loss import MSE\n",
    "\n",
    "from kudzu.layer import Sigmoid,Relu\n",
    "from kudzu.layer import Affine"
   ]
  },
  {
   "cell_type": "markdown",
   "id": "bc01172a",
   "metadata": {
    "papermill": {
     "duration": 0.027148,
     "end_time": "2022-09-24T00:49:12.506568",
     "exception": false,
     "start_time": "2022-09-24T00:49:12.479420",
     "status": "completed"
    },
    "tags": []
   },
   "source": [
    "### Let us create a `Config` class, to store important parameters. \n",
    "This class essentially plays the role of a dictionary."
   ]
  },
  {
   "cell_type": "code",
   "execution_count": 16,
   "id": "978281aa",
   "metadata": {
    "execution": {
     "iopub.execute_input": "2022-09-24T00:49:12.564803Z",
     "iopub.status.busy": "2022-09-24T00:49:12.564194Z",
     "iopub.status.idle": "2022-09-24T00:49:12.577415Z",
     "shell.execute_reply": "2022-09-24T00:49:12.576898Z"
    },
    "papermill": {
     "duration": 0.044281,
     "end_time": "2022-09-24T00:49:12.577530",
     "exception": false,
     "start_time": "2022-09-24T00:49:12.533249",
     "status": "completed"
    },
    "tags": []
   },
   "outputs": [],
   "source": [
    "class Config:\n",
    "    pass\n",
    "config = Config()\n",
    "config.lr = 0.001\n",
    "config.num_epochs = 250\n",
    "config.bs = 50"
   ]
  },
  {
   "cell_type": "markdown",
   "id": "1385fa59",
   "metadata": {
    "papermill": {
     "duration": 0.02655,
     "end_time": "2022-09-24T00:49:12.630812",
     "exception": false,
     "start_time": "2022-09-24T00:49:12.604262",
     "status": "completed"
    },
    "tags": []
   },
   "source": [
    "### Running Models with the Training data\n",
    "Details about the network layers:\n",
    "- A first affine layer has 784 inputs and does 100 affine transforms. These are followed by a Relu\n",
    "- A second affine layer has 100 inputs from the 100 activations of the past layer, and does 100 affine transforms. These are followed by a Relu\n",
    "- A third affine layer has 100 activations and does 2 affine transformations to create an embedding for visualization. There is no non-linearity here.\n",
    "- A final \"logistic regression\" which has an affine transform from 2 inputs to 1 output, which is squeezed through a sigmoid.\n"
   ]
  },
  {
   "cell_type": "code",
   "execution_count": 17,
   "id": "2b9c66db",
   "metadata": {
    "execution": {
     "iopub.execute_input": "2022-09-24T00:49:12.690442Z",
     "iopub.status.busy": "2022-09-24T00:49:12.689866Z",
     "iopub.status.idle": "2022-09-24T00:49:12.701508Z",
     "shell.execute_reply": "2022-09-24T00:49:12.700974Z"
    },
    "papermill": {
     "duration": 0.04399,
     "end_time": "2022-09-24T00:49:12.701623",
     "exception": false,
     "start_time": "2022-09-24T00:49:12.657633",
     "status": "completed"
    },
    "tags": []
   },
   "outputs": [],
   "source": [
    "data = Data(X_train, y_train.reshape(-1,1))\n",
    "sampler = Sampler(data, config.bs, shuffle=True)\n",
    "\n",
    "dl = Dataloader(data, sampler)\n",
    "\n",
    "opt = GD(config.lr)\n",
    "loss = MSE()"
   ]
  },
  {
   "cell_type": "code",
   "execution_count": 18,
   "id": "b275e4c2",
   "metadata": {
    "execution": {
     "iopub.execute_input": "2022-09-24T00:49:12.759621Z",
     "iopub.status.busy": "2022-09-24T00:49:12.759047Z",
     "iopub.status.idle": "2022-09-24T00:49:12.771002Z",
     "shell.execute_reply": "2022-09-24T00:49:12.770530Z"
    },
    "papermill": {
     "duration": 0.042702,
     "end_time": "2022-09-24T00:49:12.771111",
     "exception": false,
     "start_time": "2022-09-24T00:49:12.728409",
     "status": "completed"
    },
    "tags": []
   },
   "outputs": [],
   "source": [
    "training_data_x = X_train\n",
    "testing_data_x = X_test\n",
    "training_data_y = y_train.reshape(-1,1)\n",
    "testing_data_y = y_test.reshape(-1,1)"
   ]
  },
  {
   "cell_type": "code",
   "execution_count": 19,
   "id": "76951160",
   "metadata": {
    "execution": {
     "iopub.execute_input": "2022-09-24T00:49:12.828944Z",
     "iopub.status.busy": "2022-09-24T00:49:12.828359Z",
     "iopub.status.idle": "2022-09-24T00:49:12.844592Z",
     "shell.execute_reply": "2022-09-24T00:49:12.845088Z"
    },
    "papermill": {
     "duration": 0.047597,
     "end_time": "2022-09-24T00:49:12.845220",
     "exception": false,
     "start_time": "2022-09-24T00:49:12.797623",
     "status": "completed"
    },
    "tags": []
   },
   "outputs": [
    {
     "name": "stdout",
     "output_type": "stream",
     "text": [
      "xavier\n",
      "xavier\n",
      "xavier\n",
      "xavier\n",
      "xavier\n"
     ]
    }
   ],
   "source": [
    "layers = [Affine(\"first\", 784, 100), Relu(\"first\"), Affine(\"second\", 100, 100), Relu(\"second\"), Affine(\"third\", 100, 2), Affine(\"last\", 2, 1), Sigmoid(\"last\")]\n",
    "model_nn = Model(layers)\n",
    "model_lr = Model([Affine(\"logits\", 784, 1), Sigmoid(\"sigmoid\")])"
   ]
  },
  {
   "cell_type": "code",
   "execution_count": 20,
   "id": "6eede77a",
   "metadata": {
    "execution": {
     "iopub.execute_input": "2022-09-24T00:49:12.903188Z",
     "iopub.status.busy": "2022-09-24T00:49:12.902613Z",
     "iopub.status.idle": "2022-09-24T00:49:12.915712Z",
     "shell.execute_reply": "2022-09-24T00:49:12.915149Z"
    },
    "papermill": {
     "duration": 0.043517,
     "end_time": "2022-09-24T00:49:12.915822",
     "exception": false,
     "start_time": "2022-09-24T00:49:12.872305",
     "status": "completed"
    },
    "tags": []
   },
   "outputs": [],
   "source": [
    "nn_learner = Learner(loss, model_nn, opt, config.num_epochs)\n",
    "acc_nn = ClfCallback(nn_learner, config.bs, training_data_x , testing_data_x, training_data_y, testing_data_y)\n",
    "nn_learner.set_callbacks([acc_nn])"
   ]
  },
  {
   "cell_type": "code",
   "execution_count": 21,
   "id": "877b6cc7",
   "metadata": {
    "execution": {
     "iopub.execute_input": "2022-09-24T00:49:12.973430Z",
     "iopub.status.busy": "2022-09-24T00:49:12.972826Z",
     "iopub.status.idle": "2022-09-24T00:49:12.984949Z",
     "shell.execute_reply": "2022-09-24T00:49:12.984477Z"
    },
    "papermill": {
     "duration": 0.042379,
     "end_time": "2022-09-24T00:49:12.985077",
     "exception": false,
     "start_time": "2022-09-24T00:49:12.942698",
     "status": "completed"
    },
    "tags": []
   },
   "outputs": [],
   "source": [
    "lr_learner = Learner(loss, model_lr, opt, config.num_epochs)\n",
    "acc_lr = ClfCallback(lr_learner, config.bs, training_data_x , testing_data_x, training_data_y, testing_data_y)\n",
    "lr_learner.set_callbacks([acc_lr])"
   ]
  },
  {
   "cell_type": "code",
   "execution_count": 22,
   "id": "d9b133c3",
   "metadata": {
    "execution": {
     "iopub.execute_input": "2022-09-24T00:49:13.042578Z",
     "iopub.status.busy": "2022-09-24T00:49:13.042008Z",
     "iopub.status.idle": "2022-09-24T00:50:32.472067Z",
     "shell.execute_reply": "2022-09-24T00:50:32.472634Z"
    },
    "papermill": {
     "duration": 79.460767,
     "end_time": "2022-09-24T00:50:32.472774",
     "exception": false,
     "start_time": "2022-09-24T00:49:13.012007",
     "status": "completed"
    },
    "tags": []
   },
   "outputs": [
    {
     "name": "stdout",
     "output_type": "stream",
     "text": [
      "Epoch 0, Loss 0.2486\n",
      "Training Accuracy: 0.5891, Testing Accuracy: 0.5948\n",
      "\n"
     ]
    },
    {
     "name": "stdout",
     "output_type": "stream",
     "text": [
      "Epoch 10, Loss 0.1101\n",
      "Training Accuracy: 0.8925, Testing Accuracy: 0.9042\n",
      "\n"
     ]
    },
    {
     "name": "stdout",
     "output_type": "stream",
     "text": [
      "Epoch 20, Loss 0.0641\n",
      "Training Accuracy: 0.9319, Testing Accuracy: 0.9461\n",
      "\n"
     ]
    },
    {
     "name": "stdout",
     "output_type": "stream",
     "text": [
      "Epoch 30, Loss 0.0483\n",
      "Training Accuracy: 0.9473, Testing Accuracy: 0.9597\n",
      "\n"
     ]
    },
    {
     "name": "stdout",
     "output_type": "stream",
     "text": [
      "Epoch 40, Loss 0.0408\n",
      "Training Accuracy: 0.9545, Testing Accuracy: 0.9637\n",
      "\n"
     ]
    },
    {
     "name": "stdout",
     "output_type": "stream",
     "text": [
      "Epoch 50, Loss 0.0364\n",
      "Training Accuracy: 0.9583, Testing Accuracy: 0.9652\n",
      "\n"
     ]
    },
    {
     "name": "stdout",
     "output_type": "stream",
     "text": [
      "Epoch 60, Loss 0.0335\n",
      "Training Accuracy: 0.9616, Testing Accuracy: 0.9672\n",
      "\n"
     ]
    },
    {
     "name": "stdout",
     "output_type": "stream",
     "text": [
      "Epoch 70, Loss 0.0313\n",
      "Training Accuracy: 0.9642, Testing Accuracy: 0.9688\n",
      "\n"
     ]
    },
    {
     "name": "stdout",
     "output_type": "stream",
     "text": [
      "Epoch 80, Loss 0.0297\n",
      "Training Accuracy: 0.9661, Testing Accuracy: 0.9688\n",
      "\n"
     ]
    },
    {
     "name": "stdout",
     "output_type": "stream",
     "text": [
      "Epoch 90, Loss 0.0283\n",
      "Training Accuracy: 0.9672, Testing Accuracy: 0.9703\n",
      "\n"
     ]
    },
    {
     "name": "stdout",
     "output_type": "stream",
     "text": [
      "Epoch 100, Loss 0.0272\n",
      "Training Accuracy: 0.9691, Testing Accuracy: 0.9713\n",
      "\n"
     ]
    },
    {
     "name": "stdout",
     "output_type": "stream",
     "text": [
      "Epoch 110, Loss 0.0262\n",
      "Training Accuracy: 0.9702, Testing Accuracy: 0.9728\n",
      "\n"
     ]
    },
    {
     "name": "stdout",
     "output_type": "stream",
     "text": [
      "Epoch 120, Loss 0.0254\n",
      "Training Accuracy: 0.9716, Testing Accuracy: 0.9733\n",
      "\n"
     ]
    },
    {
     "name": "stdout",
     "output_type": "stream",
     "text": [
      "Epoch 130, Loss 0.0246\n",
      "Training Accuracy: 0.9719, Testing Accuracy: 0.9733\n",
      "\n"
     ]
    },
    {
     "name": "stdout",
     "output_type": "stream",
     "text": [
      "Epoch 140, Loss 0.0239\n",
      "Training Accuracy: 0.9730, Testing Accuracy: 0.9718\n",
      "\n"
     ]
    },
    {
     "name": "stdout",
     "output_type": "stream",
     "text": [
      "Epoch 150, Loss 0.0233\n",
      "Training Accuracy: 0.9735, Testing Accuracy: 0.9718\n",
      "\n"
     ]
    },
    {
     "name": "stdout",
     "output_type": "stream",
     "text": [
      "Epoch 160, Loss 0.0227\n",
      "Training Accuracy: 0.9745, Testing Accuracy: 0.9718\n",
      "\n"
     ]
    },
    {
     "name": "stdout",
     "output_type": "stream",
     "text": [
      "Epoch 170, Loss 0.0221\n",
      "Training Accuracy: 0.9751, Testing Accuracy: 0.9728\n",
      "\n"
     ]
    },
    {
     "name": "stdout",
     "output_type": "stream",
     "text": [
      "Epoch 180, Loss 0.0216\n",
      "Training Accuracy: 0.9755, Testing Accuracy: 0.9723\n",
      "\n"
     ]
    },
    {
     "name": "stdout",
     "output_type": "stream",
     "text": [
      "Epoch 190, Loss 0.0211\n",
      "Training Accuracy: 0.9760, Testing Accuracy: 0.9723\n",
      "\n"
     ]
    },
    {
     "name": "stdout",
     "output_type": "stream",
     "text": [
      "Epoch 200, Loss 0.0207\n",
      "Training Accuracy: 0.9764, Testing Accuracy: 0.9723\n",
      "\n"
     ]
    },
    {
     "name": "stdout",
     "output_type": "stream",
     "text": [
      "Epoch 210, Loss 0.0202\n",
      "Training Accuracy: 0.9772, Testing Accuracy: 0.9723\n",
      "\n"
     ]
    },
    {
     "name": "stdout",
     "output_type": "stream",
     "text": [
      "Epoch 220, Loss 0.0198\n",
      "Training Accuracy: 0.9776, Testing Accuracy: 0.9728\n",
      "\n"
     ]
    },
    {
     "name": "stdout",
     "output_type": "stream",
     "text": [
      "Epoch 230, Loss 0.0194\n",
      "Training Accuracy: 0.9778, Testing Accuracy: 0.9743\n",
      "\n"
     ]
    },
    {
     "name": "stdout",
     "output_type": "stream",
     "text": [
      "Epoch 240, Loss 0.019\n",
      "Training Accuracy: 0.9785, Testing Accuracy: 0.9738\n",
      "\n"
     ]
    },
    {
     "data": {
      "text/plain": [
       "0.02641318725368582"
      ]
     },
     "execution_count": 22,
     "metadata": {},
     "output_type": "execute_result"
    }
   ],
   "source": [
    "nn_learner.train_loop(dl)"
   ]
  },
  {
   "cell_type": "code",
   "execution_count": 23,
   "id": "e0163366",
   "metadata": {
    "execution": {
     "iopub.execute_input": "2022-09-24T00:50:32.550724Z",
     "iopub.status.busy": "2022-09-24T00:50:32.550132Z",
     "iopub.status.idle": "2022-09-24T00:50:46.822494Z",
     "shell.execute_reply": "2022-09-24T00:50:46.823340Z"
    },
    "papermill": {
     "duration": 14.31574,
     "end_time": "2022-09-24T00:50:46.823491",
     "exception": false,
     "start_time": "2022-09-24T00:50:32.507751",
     "status": "completed"
    },
    "tags": []
   },
   "outputs": [
    {
     "name": "stdout",
     "output_type": "stream",
     "text": [
      "Epoch 0, Loss 0.2389\n",
      "Training Accuracy: 0.7082, Testing Accuracy: 0.7132\n",
      "\n"
     ]
    },
    {
     "name": "stdout",
     "output_type": "stream",
     "text": [
      "Epoch 10, Loss 0.0987\n",
      "Training Accuracy: 0.9167, Testing Accuracy: 0.9244\n",
      "\n"
     ]
    },
    {
     "name": "stdout",
     "output_type": "stream",
     "text": [
      "Epoch 20, Loss 0.0772\n",
      "Training Accuracy: 0.9290, Testing Accuracy: 0.9375\n",
      "\n"
     ]
    },
    {
     "name": "stdout",
     "output_type": "stream",
     "text": [
      "Epoch 30, Loss 0.0671\n",
      "Training Accuracy: 0.9355, Testing Accuracy: 0.9456\n",
      "\n"
     ]
    },
    {
     "name": "stdout",
     "output_type": "stream",
     "text": [
      "Epoch 40, Loss 0.0609\n",
      "Training Accuracy: 0.9408, Testing Accuracy: 0.9506\n",
      "\n"
     ]
    },
    {
     "name": "stdout",
     "output_type": "stream",
     "text": [
      "Epoch 50, Loss 0.0566\n",
      "Training Accuracy: 0.9453, Testing Accuracy: 0.9536\n",
      "\n"
     ]
    },
    {
     "name": "stdout",
     "output_type": "stream",
     "text": [
      "Epoch 60, Loss 0.0534\n",
      "Training Accuracy: 0.9474, Testing Accuracy: 0.9556\n",
      "\n"
     ]
    },
    {
     "name": "stdout",
     "output_type": "stream",
     "text": [
      "Epoch 70, Loss 0.051\n",
      "Training Accuracy: 0.9488, Testing Accuracy: 0.9572\n",
      "\n"
     ]
    },
    {
     "name": "stdout",
     "output_type": "stream",
     "text": [
      "Epoch 80, Loss 0.049\n",
      "Training Accuracy: 0.9507, Testing Accuracy: 0.9587\n",
      "\n"
     ]
    },
    {
     "name": "stdout",
     "output_type": "stream",
     "text": [
      "Epoch 90, Loss 0.0473\n",
      "Training Accuracy: 0.9523, Testing Accuracy: 0.9597\n",
      "\n"
     ]
    },
    {
     "name": "stdout",
     "output_type": "stream",
     "text": [
      "Epoch 100, Loss 0.0459\n",
      "Training Accuracy: 0.9533, Testing Accuracy: 0.9622\n",
      "\n"
     ]
    },
    {
     "name": "stdout",
     "output_type": "stream",
     "text": [
      "Epoch 110, Loss 0.0447\n",
      "Training Accuracy: 0.9543, Testing Accuracy: 0.9627\n",
      "\n"
     ]
    },
    {
     "name": "stdout",
     "output_type": "stream",
     "text": [
      "Epoch 120, Loss 0.0437\n",
      "Training Accuracy: 0.9557, Testing Accuracy: 0.9617\n",
      "\n"
     ]
    },
    {
     "name": "stdout",
     "output_type": "stream",
     "text": [
      "Epoch 130, Loss 0.0428\n",
      "Training Accuracy: 0.9568, Testing Accuracy: 0.9627\n",
      "\n"
     ]
    },
    {
     "name": "stdout",
     "output_type": "stream",
     "text": [
      "Epoch 140, Loss 0.0419\n",
      "Training Accuracy: 0.9574, Testing Accuracy: 0.9642\n",
      "\n"
     ]
    },
    {
     "name": "stdout",
     "output_type": "stream",
     "text": [
      "Epoch 150, Loss 0.0412\n",
      "Training Accuracy: 0.9579, Testing Accuracy: 0.9642\n",
      "\n"
     ]
    },
    {
     "name": "stdout",
     "output_type": "stream",
     "text": [
      "Epoch 160, Loss 0.0405\n",
      "Training Accuracy: 0.9581, Testing Accuracy: 0.9652\n",
      "\n"
     ]
    },
    {
     "name": "stdout",
     "output_type": "stream",
     "text": [
      "Epoch 170, Loss 0.0399\n",
      "Training Accuracy: 0.9585, Testing Accuracy: 0.9657\n",
      "\n"
     ]
    },
    {
     "name": "stdout",
     "output_type": "stream",
     "text": [
      "Epoch 180, Loss 0.0394\n",
      "Training Accuracy: 0.9589, Testing Accuracy: 0.9662\n",
      "\n"
     ]
    },
    {
     "name": "stdout",
     "output_type": "stream",
     "text": [
      "Epoch 190, Loss 0.0389\n",
      "Training Accuracy: 0.9592, Testing Accuracy: 0.9657\n",
      "\n"
     ]
    },
    {
     "name": "stdout",
     "output_type": "stream",
     "text": [
      "Epoch 200, Loss 0.0384\n",
      "Training Accuracy: 0.9594, Testing Accuracy: 0.9657\n",
      "\n"
     ]
    },
    {
     "name": "stdout",
     "output_type": "stream",
     "text": [
      "Epoch 210, Loss 0.0379\n",
      "Training Accuracy: 0.9596, Testing Accuracy: 0.9662\n",
      "\n"
     ]
    },
    {
     "name": "stdout",
     "output_type": "stream",
     "text": [
      "Epoch 220, Loss 0.0375\n",
      "Training Accuracy: 0.9598, Testing Accuracy: 0.9662\n",
      "\n"
     ]
    },
    {
     "name": "stdout",
     "output_type": "stream",
     "text": [
      "Epoch 230, Loss 0.0371\n",
      "Training Accuracy: 0.9604, Testing Accuracy: 0.9662\n",
      "\n"
     ]
    },
    {
     "name": "stdout",
     "output_type": "stream",
     "text": [
      "Epoch 240, Loss 0.0368\n",
      "Training Accuracy: 0.9606, Testing Accuracy: 0.9652\n",
      "\n"
     ]
    },
    {
     "data": {
      "text/plain": [
       "0.061358598823871846"
      ]
     },
     "execution_count": 23,
     "metadata": {},
     "output_type": "execute_result"
    }
   ],
   "source": [
    "lr_learner.train_loop(dl)"
   ]
  },
  {
   "cell_type": "code",
   "execution_count": 24,
   "id": "ca410940",
   "metadata": {
    "execution": {
     "iopub.execute_input": "2022-09-24T00:50:46.915047Z",
     "iopub.status.busy": "2022-09-24T00:50:46.914431Z",
     "iopub.status.idle": "2022-09-24T00:50:47.148437Z",
     "shell.execute_reply": "2022-09-24T00:50:47.147945Z"
    },
    "papermill": {
     "duration": 0.283836,
     "end_time": "2022-09-24T00:50:47.148554",
     "exception": false,
     "start_time": "2022-09-24T00:50:46.864718",
     "status": "completed"
    },
    "tags": []
   },
   "outputs": [
    {
     "data": {
      "text/plain": [
       "<matplotlib.legend.Legend at 0x7f949fe153c8>"
      ]
     },
     "execution_count": 24,
     "metadata": {},
     "output_type": "execute_result"
    },
    {
     "data": {
      "image/png": "[encoded data removed]",
      "text/plain": [
       "<Figure size 1080x720 with 1 Axes>"
      ]
     },
     "metadata": {
      "needs_background": "light"
     },
     "output_type": "display_data"
    }
   ],
   "source": [
    "#comparing the results of NN and LR\n",
    "plt.figure(figsize=(15,10))\n",
    "\n",
    "# Neural Network plots\n",
    "plt.plot(acc_nn.accuracies, 'r-', label = \"Training Accuracies - NN\")\n",
    "plt.plot(acc_nn.test_accuracies, 'g-', label = \"Testing Accuracies - NN\")\n",
    "\n",
    "# Logistic Regression plots\n",
    "plt.plot(acc_lr.accuracies, 'k-', label = \"Training Accuracies - LR\")\n",
    "plt.plot(acc_lr.test_accuracies, 'b-', label = \"Testing Accuracies - LR\")\n",
    "plt.legend()"
   ]
  },
  {
   "cell_type": "markdown",
   "id": "80dfb35c",
   "metadata": {
    "papermill": {
     "duration": 0.041706,
     "end_time": "2022-09-24T00:50:47.232175",
     "exception": false,
     "start_time": "2022-09-24T00:50:47.190469",
     "status": "completed"
    },
    "tags": []
   },
   "source": [
    "#### Plotting the outputs of this layer of the NN.\n"
   ]
  },
  {
   "cell_type": "code",
   "execution_count": 25,
   "id": "45eb2ff5",
   "metadata": {
    "execution": {
     "iopub.execute_input": "2022-09-24T00:50:47.319842Z",
     "iopub.status.busy": "2022-09-24T00:50:47.319252Z",
     "iopub.status.idle": "2022-09-24T00:50:47.339904Z",
     "shell.execute_reply": "2022-09-24T00:50:47.339409Z"
    },
    "papermill": {
     "duration": 0.066232,
     "end_time": "2022-09-24T00:50:47.340021",
     "exception": false,
     "start_time": "2022-09-24T00:50:47.273789",
     "status": "completed"
    },
    "tags": []
   },
   "outputs": [],
   "source": [
    "new_model = Model(layers[:-2])\n",
    "testing_plot = new_model(testing_data_x)"
   ]
  },
  {
   "cell_type": "code",
   "execution_count": 26,
   "id": "4c0a5485",
   "metadata": {
    "execution": {
     "iopub.execute_input": "2022-09-24T00:50:47.438326Z",
     "iopub.status.busy": "2022-09-24T00:50:47.437728Z",
     "iopub.status.idle": "2022-09-24T00:50:47.644472Z",
     "shell.execute_reply": "2022-09-24T00:50:47.643976Z"
    },
    "papermill": {
     "duration": 0.258008,
     "end_time": "2022-09-24T00:50:47.644589",
     "exception": false,
     "start_time": "2022-09-24T00:50:47.386581",
     "status": "completed"
    },
    "tags": []
   },
   "outputs": [
    {
     "data": {
      "text/plain": [
       "Text(0.5, 1.0, 'Outputs')"
      ]
     },
     "execution_count": 26,
     "metadata": {},
     "output_type": "execute_result"
    },
    {
     "data": {
      "image/png": "[encoded data removed]",
      "text/plain": [
       "<Figure size 576x504 with 1 Axes>"
      ]
     },
     "metadata": {
      "needs_background": "light"
     },
     "output_type": "display_data"
    }
   ],
   "source": [
    "# Plotting the scatter plot of points and color coding by class\n",
    "plt.figure(figsize=(8,7))\n",
    "plt.scatter(testing_plot[:,0], testing_plot[:,1], alpha = 0.1, c = y_test.ravel());\n",
    "plt.title('Outputs')"
   ]
  },
  {
   "cell_type": "markdown",
   "id": "a74fcf8f",
   "metadata": {
    "papermill": {
     "duration": 0.043589,
     "end_time": "2022-09-24T00:50:47.732048",
     "exception": false,
     "start_time": "2022-09-24T00:50:47.688459",
     "status": "completed"
    },
    "tags": []
   },
   "source": [
    "Probability contours"
   ]
  },
  {
   "cell_type": "code",
   "execution_count": 27,
   "id": "d0afc8e3",
   "metadata": {
    "execution": {
     "iopub.execute_input": "2022-09-24T00:50:47.824440Z",
     "iopub.status.busy": "2022-09-24T00:50:47.822759Z",
     "iopub.status.idle": "2022-09-24T00:50:47.835420Z",
     "shell.execute_reply": "2022-09-24T00:50:47.835874Z"
    },
    "papermill": {
     "duration": 0.060242,
     "end_time": "2022-09-24T00:50:47.836008",
     "exception": false,
     "start_time": "2022-09-24T00:50:47.775766",
     "status": "completed"
    },
    "tags": []
   },
   "outputs": [],
   "source": [
    "model_prob = Model(layers[-2:]) "
   ]
  },
  {
   "cell_type": "code",
   "execution_count": 28,
   "id": "9b96e238",
   "metadata": {
    "execution": {
     "iopub.execute_input": "2022-09-24T00:50:47.931229Z",
     "iopub.status.busy": "2022-09-24T00:50:47.928524Z",
     "iopub.status.idle": "2022-09-24T00:50:47.945209Z",
     "shell.execute_reply": "2022-09-24T00:50:47.944738Z"
    },
    "papermill": {
     "duration": 0.065745,
     "end_time": "2022-09-24T00:50:47.945331",
     "exception": false,
     "start_time": "2022-09-24T00:50:47.879586",
     "status": "completed"
    },
    "tags": []
   },
   "outputs": [],
   "source": [
    "#creating the x and y ranges according to the above generated plot.\n",
    "x_range = np.linspace(-4, 1, 100) \n",
    "y_range = np.linspace(-6, 6, 100) \n",
    "x_grid, y_grid = np.meshgrid(x_range, y_range) # x_grid and y_grig are of size 100 X 100\n",
    "\n",
    "# converting x_grid and y_grid to continuous arrays\n",
    "x_gridflat = np.ravel(x_grid)\n",
    "y_gridflat = np.ravel(y_grid)\n",
    "\n",
    "# The last layer of the current model takes two columns as input. Hence transpose of np.vstack() is required.\n",
    "X = np.vstack((x_gridflat, y_gridflat)).T\n",
    "\n",
    "prob_contour = model_prob(X).reshape(100,100) "
   ]
  },
  {
   "cell_type": "code",
   "execution_count": 29,
   "id": "da72499a",
   "metadata": {
    "execution": {
     "iopub.execute_input": "2022-09-24T00:50:48.077711Z",
     "iopub.status.busy": "2022-09-24T00:50:48.076463Z",
     "iopub.status.idle": "2022-09-24T00:50:48.323840Z",
     "shell.execute_reply": "2022-09-24T00:50:48.324353Z"
    },
    "papermill": {
     "duration": 0.297285,
     "end_time": "2022-09-24T00:50:48.324506",
     "exception": false,
     "start_time": "2022-09-24T00:50:48.027221",
     "status": "completed"
    },
    "tags": []
   },
   "outputs": [
    {
     "data": {
      "image/png": "[encoded data removed]",
      "text/plain": [
       "<Figure size 720x648 with 1 Axes>"
      ]
     },
     "metadata": {
      "needs_background": "light"
     },
     "output_type": "display_data"
    }
   ],
   "source": [
    "plt.figure(figsize=(10,9))\n",
    "plt.scatter(testing_plot[:,0], testing_plot[:,1], alpha = 0.1, c = y_test.ravel())\n",
    "contours = plt.contour(x_grid,y_grid,prob_contour)\n",
    "plt.title('Probability Contours')\n",
    "plt.clabel(contours, inline = True );"
   ]
  },
  {
   "cell_type": "code",
   "execution_count": null,
   "id": "e81b4ac7",
   "metadata": {
    "papermill": {
     "duration": 0.046684,
     "end_time": "2022-09-24T00:50:48.418195",
     "exception": false,
     "start_time": "2022-09-24T00:50:48.371511",
     "status": "completed"
    },
    "tags": []
   },
   "outputs": [],
   "source": []
  }
 ],
 "metadata": {
  "kernelspec": {
   "display_name": "Python 3",
   "language": "python",
   "name": "python3"
  },
  "language_info": {
   "codemirror_mode": {
    "name": "ipython",
    "version": 3
   },
   "file_extension": ".py",
   "mimetype": "text/x-python",
   "name": "python",
   "nbconvert_exporter": "python",
   "pygments_lexer": "ipython3",
   "version": "3.6.15"
  },
  "papermill": {
   "default_parameters": {},
   "duration": 101.840052,
   "end_time": "2022-09-24T00:50:48.883158",
   "environment_variables": {},
   "exception": null,
   "input_path": "2020-08-11-part2.ipynb",
   "output_path": "2020-08-11-part2.ipynb",
   "parameters": {},
   "start_time": "2022-09-24T00:49:07.043106",
   "version": "2.3.3"
  }
 },
 "nbformat": 4,
 "nbformat_minor": 5
}