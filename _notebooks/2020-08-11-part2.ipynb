{
 "cells": [
  {
   "cell_type": "markdown",
   "id": "98380cd3",
   "metadata": {
    "papermill": {
     "duration": 0.036038,
     "end_time": "2021-10-17T20:07:50.703493",
     "exception": false,
     "start_time": "2021-10-17T20:07:50.667455",
     "status": "completed"
    },
    "tags": []
   },
   "source": [
    "# Distinguish Your Own Digits (DYOD)"
   ]
  },
  {
   "cell_type": "markdown",
   "id": "ef31240d",
   "metadata": {
    "papermill": {
     "duration": 0.032177,
     "end_time": "2021-10-17T20:07:50.769174",
     "exception": false,
     "start_time": "2021-10-17T20:07:50.736997",
     "status": "completed"
    },
    "tags": []
   },
   "source": [
    "You are going to write a classifier that distinguishes between the number 3 and number 8."
   ]
  },
  {
   "cell_type": "code",
   "execution_count": 1,
   "id": "b15c8646",
   "metadata": {
    "execution": {
     "iopub.execute_input": "2021-10-17T20:07:50.848636Z",
     "iopub.status.busy": "2021-10-17T20:07:50.847910Z",
     "iopub.status.idle": "2021-10-17T20:07:50.859462Z",
     "shell.execute_reply": "2021-10-17T20:07:50.860067Z"
    },
    "papermill": {
     "duration": 0.059435,
     "end_time": "2021-10-17T20:07:50.860266",
     "exception": false,
     "start_time": "2021-10-17T20:07:50.800831",
     "status": "completed"
    },
    "tags": []
   },
   "outputs": [],
   "source": [
    "%load_ext autoreload\n",
    "%autoreload 2"
   ]
  },
  {
   "cell_type": "code",
   "execution_count": 2,
   "id": "22ef38dc",
   "metadata": {
    "execution": {
     "iopub.execute_input": "2021-10-17T20:07:50.929868Z",
     "iopub.status.busy": "2021-10-17T20:07:50.929123Z",
     "iopub.status.idle": "2021-10-17T20:07:51.600305Z",
     "shell.execute_reply": "2021-10-17T20:07:51.599706Z"
    },
    "papermill": {
     "duration": 0.708437,
     "end_time": "2021-10-17T20:07:51.600460",
     "exception": false,
     "start_time": "2021-10-17T20:07:50.892023",
     "status": "completed"
    },
    "tags": []
   },
   "outputs": [],
   "source": [
    "%matplotlib inline\n",
    "import numpy as np\n",
    "import matplotlib.pyplot as plt\n",
    "import pandas as pd"
   ]
  },
  {
   "cell_type": "markdown",
   "id": "ba036198",
   "metadata": {
    "papermill": {
     "duration": 0.032793,
     "end_time": "2021-10-17T20:07:51.665474",
     "exception": false,
     "start_time": "2021-10-17T20:07:51.632681",
     "status": "completed"
    },
    "tags": []
   },
   "source": [
    "From the command line run `pip install mnist`. This is a library that will help you bring down the mnist dataset. If you run this from a notebook, you need to put  `!pip install mnist` in a cell by itself."
   ]
  },
  {
   "cell_type": "code",
   "execution_count": 3,
   "id": "bb6ad8a1",
   "metadata": {
    "execution": {
     "iopub.execute_input": "2021-10-17T20:07:51.738331Z",
     "iopub.status.busy": "2021-10-17T20:07:51.737614Z",
     "iopub.status.idle": "2021-10-17T20:07:54.022288Z",
     "shell.execute_reply": "2021-10-17T20:07:54.021624Z"
    },
    "papermill": {
     "duration": 2.324704,
     "end_time": "2021-10-17T20:07:54.022477",
     "exception": false,
     "start_time": "2021-10-17T20:07:51.697773",
     "status": "completed"
    },
    "tags": []
   },
   "outputs": [
    {
     "name": "stdout",
     "output_type": "stream",
     "text": [
      "Collecting mnist\r\n"
     ]
    },
    {
     "name": "stdout",
     "output_type": "stream",
     "text": [
      "  Downloading mnist-0.2.2-py2.py3-none-any.whl (3.5 kB)\r\n",
      "Requirement already satisfied: numpy in /opt/hostedtoolcache/Python/3.6.15/x64/lib/python3.6/site-packages (from mnist) (1.19.5)\r\n"
     ]
    },
    {
     "name": "stdout",
     "output_type": "stream",
     "text": [
      "Installing collected packages: mnist\r\n"
     ]
    },
    {
     "name": "stdout",
     "output_type": "stream",
     "text": [
      "Successfully installed mnist-0.2.2\r\n"
     ]
    },
    {
     "name": "stdout",
     "output_type": "stream",
     "text": [
      "\u001b[33mWARNING: You are using pip version 21.2.4; however, version 21.3 is available.\r\n",
      "You should consider upgrading via the '/opt/hostedtoolcache/Python/3.6.15/x64/bin/python -m pip install --upgrade pip' command.\u001b[0m\r\n"
     ]
    }
   ],
   "source": [
    "!pip install mnist"
   ]
  },
  {
   "cell_type": "markdown",
   "id": "69df9c9a",
   "metadata": {
    "papermill": {
     "duration": 0.035211,
     "end_time": "2021-10-17T20:07:54.095691",
     "exception": false,
     "start_time": "2021-10-17T20:07:54.060480",
     "status": "completed"
    },
    "tags": []
   },
   "source": [
    "## Preparing the Data"
   ]
  },
  {
   "cell_type": "code",
   "execution_count": 4,
   "id": "7f69d806",
   "metadata": {
    "execution": {
     "iopub.execute_input": "2021-10-17T20:07:54.171362Z",
     "iopub.status.busy": "2021-10-17T20:07:54.170563Z",
     "iopub.status.idle": "2021-10-17T20:07:54.187070Z",
     "shell.execute_reply": "2021-10-17T20:07:54.187627Z"
    },
    "papermill": {
     "duration": 0.056948,
     "end_time": "2021-10-17T20:07:54.187805",
     "exception": false,
     "start_time": "2021-10-17T20:07:54.130857",
     "status": "completed"
    },
    "tags": []
   },
   "outputs": [],
   "source": [
    "import mnist"
   ]
  },
  {
   "cell_type": "code",
   "execution_count": 5,
   "id": "a411e44f",
   "metadata": {
    "execution": {
     "iopub.execute_input": "2021-10-17T20:07:54.264774Z",
     "iopub.status.busy": "2021-10-17T20:07:54.263985Z",
     "iopub.status.idle": "2021-10-17T20:07:54.866805Z",
     "shell.execute_reply": "2021-10-17T20:07:54.866008Z"
    },
    "papermill": {
     "duration": 0.642983,
     "end_time": "2021-10-17T20:07:54.866959",
     "exception": false,
     "start_time": "2021-10-17T20:07:54.223976",
     "status": "completed"
    },
    "tags": []
   },
   "outputs": [],
   "source": [
    "train_images = mnist.train_images()\n",
    "train_labels = mnist.train_labels()"
   ]
  },
  {
   "cell_type": "code",
   "execution_count": 6,
   "id": "dceab3a5",
   "metadata": {
    "execution": {
     "iopub.execute_input": "2021-10-17T20:07:54.959781Z",
     "iopub.status.busy": "2021-10-17T20:07:54.950817Z",
     "iopub.status.idle": "2021-10-17T20:07:54.963005Z",
     "shell.execute_reply": "2021-10-17T20:07:54.963591Z"
    },
    "papermill": {
     "duration": 0.061398,
     "end_time": "2021-10-17T20:07:54.963755",
     "exception": false,
     "start_time": "2021-10-17T20:07:54.902357",
     "status": "completed"
    },
    "tags": []
   },
   "outputs": [
    {
     "data": {
      "text/plain": [
       "((60000, 28, 28), (60000,))"
      ]
     },
     "execution_count": 6,
     "metadata": {},
     "output_type": "execute_result"
    }
   ],
   "source": [
    "train_images.shape, train_labels.shape"
   ]
  },
  {
   "cell_type": "code",
   "execution_count": 7,
   "id": "f50dc2bb",
   "metadata": {
    "execution": {
     "iopub.execute_input": "2021-10-17T20:07:55.040731Z",
     "iopub.status.busy": "2021-10-17T20:07:55.039891Z",
     "iopub.status.idle": "2021-10-17T20:07:55.196522Z",
     "shell.execute_reply": "2021-10-17T20:07:55.195894Z"
    },
    "papermill": {
     "duration": 0.199287,
     "end_time": "2021-10-17T20:07:55.196680",
     "exception": false,
     "start_time": "2021-10-17T20:07:54.997393",
     "status": "completed"
    },
    "tags": []
   },
   "outputs": [],
   "source": [
    "test_images = mnist.test_images()\n",
    "test_labels = mnist.test_labels()"
   ]
  },
  {
   "cell_type": "code",
   "execution_count": 8,
   "id": "fc38cf1b",
   "metadata": {
    "execution": {
     "iopub.execute_input": "2021-10-17T20:07:55.269945Z",
     "iopub.status.busy": "2021-10-17T20:07:55.269184Z",
     "iopub.status.idle": "2021-10-17T20:07:55.285254Z",
     "shell.execute_reply": "2021-10-17T20:07:55.284731Z"
    },
    "papermill": {
     "duration": 0.054315,
     "end_time": "2021-10-17T20:07:55.285391",
     "exception": false,
     "start_time": "2021-10-17T20:07:55.231076",
     "status": "completed"
    },
    "tags": []
   },
   "outputs": [
    {
     "data": {
      "text/plain": [
       "((10000, 28, 28), (10000,))"
      ]
     },
     "execution_count": 8,
     "metadata": {},
     "output_type": "execute_result"
    }
   ],
   "source": [
    "test_images.shape, test_labels.shape"
   ]
  },
  {
   "cell_type": "code",
   "execution_count": 9,
   "id": "f9ed8fe0",
   "metadata": {
    "execution": {
     "iopub.execute_input": "2021-10-17T20:07:55.364137Z",
     "iopub.status.busy": "2021-10-17T20:07:55.363355Z",
     "iopub.status.idle": "2021-10-17T20:07:55.564467Z",
     "shell.execute_reply": "2021-10-17T20:07:55.563823Z"
    },
    "papermill": {
     "duration": 0.24342,
     "end_time": "2021-10-17T20:07:55.564625",
     "exception": false,
     "start_time": "2021-10-17T20:07:55.321205",
     "status": "completed"
    },
    "tags": []
   },
   "outputs": [
    {
     "name": "stdout",
     "output_type": "stream",
     "text": [
      "2\n"
     ]
    },
    {
     "data": {
      "text/plain": [
       "<matplotlib.image.AxesImage at 0x7fe0e3ff6940>"
      ]
     },
     "execution_count": 9,
     "metadata": {},
     "output_type": "execute_result"
    },
    {
     "data": {
      "image/png": "[encoded data removed]",
      "text/plain": [
       "<Figure size 432x288 with 1 Axes>"
      ]
     },
     "metadata": {
      "needs_background": "light"
     },
     "output_type": "display_data"
    }
   ],
   "source": [
    "image_index = 7776 # You may select anything up to 60,000\n",
    "print(train_labels[image_index]) \n",
    "plt.imshow(train_images[image_index], cmap='Greys')"
   ]
  },
  {
   "cell_type": "markdown",
   "id": "a8d2388d",
   "metadata": {
    "papermill": {
     "duration": 0.037315,
     "end_time": "2021-10-17T20:07:55.639748",
     "exception": false,
     "start_time": "2021-10-17T20:07:55.602433",
     "status": "completed"
    },
    "tags": []
   },
   "source": [
    "## Filter data to get 3 and 8 out"
   ]
  },
  {
   "cell_type": "code",
   "execution_count": 10,
   "id": "776f7fc7",
   "metadata": {
    "execution": {
     "iopub.execute_input": "2021-10-17T20:07:55.722581Z",
     "iopub.status.busy": "2021-10-17T20:07:55.718648Z",
     "iopub.status.idle": "2021-10-17T20:07:55.738682Z",
     "shell.execute_reply": "2021-10-17T20:07:55.739248Z"
    },
    "papermill": {
     "duration": 0.062343,
     "end_time": "2021-10-17T20:07:55.739429",
     "exception": false,
     "start_time": "2021-10-17T20:07:55.677086",
     "status": "completed"
    },
    "tags": []
   },
   "outputs": [],
   "source": [
    "train_filter = np.where((train_labels == 3 ) | (train_labels == 8))\n",
    "test_filter = np.where((test_labels == 3) | (test_labels == 8))\n",
    "X_train, y_train = train_images[train_filter], train_labels[train_filter]\n",
    "X_test, y_test = test_images[test_filter], test_labels[test_filter]"
   ]
  },
  {
   "cell_type": "markdown",
   "id": "948f0b7e",
   "metadata": {
    "papermill": {
     "duration": 0.037856,
     "end_time": "2021-10-17T20:07:55.814753",
     "exception": false,
     "start_time": "2021-10-17T20:07:55.776897",
     "status": "completed"
    },
    "tags": []
   },
   "source": [
    "We normalize the pizel values in the 0 to 1 range"
   ]
  },
  {
   "cell_type": "code",
   "execution_count": 11,
   "id": "ee4c2166",
   "metadata": {
    "execution": {
     "iopub.execute_input": "2021-10-17T20:07:55.898136Z",
     "iopub.status.busy": "2021-10-17T20:07:55.897386Z",
     "iopub.status.idle": "2021-10-17T20:07:55.960807Z",
     "shell.execute_reply": "2021-10-17T20:07:55.960183Z"
    },
    "papermill": {
     "duration": 0.108108,
     "end_time": "2021-10-17T20:07:55.960964",
     "exception": false,
     "start_time": "2021-10-17T20:07:55.852856",
     "status": "completed"
    },
    "tags": []
   },
   "outputs": [],
   "source": [
    "X_train = X_train/255.\n",
    "X_test = X_test/255."
   ]
  },
  {
   "cell_type": "markdown",
   "id": "ddcf4fab",
   "metadata": {
    "papermill": {
     "duration": 0.036742,
     "end_time": "2021-10-17T20:07:56.033497",
     "exception": false,
     "start_time": "2021-10-17T20:07:55.996755",
     "status": "completed"
    },
    "tags": []
   },
   "source": [
    "And setup the labels as 1 (when the digit is 3) and 0 (when the digit is 8)"
   ]
  },
  {
   "cell_type": "code",
   "execution_count": 12,
   "id": "7dc908f2",
   "metadata": {
    "execution": {
     "iopub.execute_input": "2021-10-17T20:07:56.111634Z",
     "iopub.status.busy": "2021-10-17T20:07:56.110942Z",
     "iopub.status.idle": "2021-10-17T20:07:56.125266Z",
     "shell.execute_reply": "2021-10-17T20:07:56.124540Z"
    },
    "papermill": {
     "duration": 0.054712,
     "end_time": "2021-10-17T20:07:56.125559",
     "exception": false,
     "start_time": "2021-10-17T20:07:56.070847",
     "status": "completed"
    },
    "tags": []
   },
   "outputs": [],
   "source": [
    "y_train = 1*(y_train==3)\n",
    "y_test = 1*(y_test==3)"
   ]
  },
  {
   "cell_type": "code",
   "execution_count": 13,
   "id": "01e4e969",
   "metadata": {
    "execution": {
     "iopub.execute_input": "2021-10-17T20:07:56.211295Z",
     "iopub.status.busy": "2021-10-17T20:07:56.210610Z",
     "iopub.status.idle": "2021-10-17T20:07:56.226519Z",
     "shell.execute_reply": "2021-10-17T20:07:56.225778Z"
    },
    "papermill": {
     "duration": 0.056054,
     "end_time": "2021-10-17T20:07:56.226672",
     "exception": false,
     "start_time": "2021-10-17T20:07:56.170618",
     "status": "completed"
    },
    "tags": []
   },
   "outputs": [
    {
     "data": {
      "text/plain": [
       "((11982, 28, 28), (1984, 28, 28))"
      ]
     },
     "execution_count": 13,
     "metadata": {},
     "output_type": "execute_result"
    }
   ],
   "source": [
    "X_train.shape, X_test.shape"
   ]
  },
  {
   "cell_type": "markdown",
   "id": "5ccf3f85",
   "metadata": {
    "papermill": {
     "duration": 0.036864,
     "end_time": "2021-10-17T20:07:56.301904",
     "exception": false,
     "start_time": "2021-10-17T20:07:56.265040",
     "status": "completed"
    },
    "tags": []
   },
   "source": [
    "We reshape the data to flatten the image pixels into a set of features or co-variates:"
   ]
  },
  {
   "cell_type": "code",
   "execution_count": 14,
   "id": "5286a4a3",
   "metadata": {
    "execution": {
     "iopub.execute_input": "2021-10-17T20:07:56.385254Z",
     "iopub.status.busy": "2021-10-17T20:07:56.384551Z",
     "iopub.status.idle": "2021-10-17T20:07:56.403291Z",
     "shell.execute_reply": "2021-10-17T20:07:56.402681Z"
    },
    "papermill": {
     "duration": 0.06376,
     "end_time": "2021-10-17T20:07:56.403442",
     "exception": false,
     "start_time": "2021-10-17T20:07:56.339682",
     "status": "completed"
    },
    "tags": []
   },
   "outputs": [
    {
     "data": {
      "text/plain": [
       "((11982, 784), (1984, 784))"
      ]
     },
     "execution_count": 14,
     "metadata": {},
     "output_type": "execute_result"
    }
   ],
   "source": [
    "X_train = X_train.reshape(X_train.shape[0], -1)\n",
    "X_test = X_test.reshape(X_test.shape[0], -1)\n",
    "X_train.shape, X_test.shape"
   ]
  },
  {
   "cell_type": "code",
   "execution_count": 15,
   "id": "73c5f88a",
   "metadata": {
    "execution": {
     "iopub.execute_input": "2021-10-17T20:07:56.487895Z",
     "iopub.status.busy": "2021-10-17T20:07:56.483086Z",
     "iopub.status.idle": "2021-10-17T20:07:56.521335Z",
     "shell.execute_reply": "2021-10-17T20:07:56.520751Z"
    },
    "papermill": {
     "duration": 0.08096,
     "end_time": "2021-10-17T20:07:56.521487",
     "exception": false,
     "start_time": "2021-10-17T20:07:56.440527",
     "status": "completed"
    },
    "tags": []
   },
   "outputs": [],
   "source": [
    "#Impoting functions from 'Kudzu'\n",
    "from kudzu.model import Model\n",
    "from kudzu.train import Learner\n",
    "from kudzu.optim import GD\n",
    "from kudzu.data import Data, Sampler,Dataloader\n",
    "\n",
    "from kudzu.callbacks import AccCallback\n",
    "from kudzu.callbacks import ClfCallback\n",
    "\n",
    "from kudzu.loss import MSE\n",
    "\n",
    "from kudzu.layer import Sigmoid,Relu\n",
    "from kudzu.layer import Affine"
   ]
  },
  {
   "cell_type": "markdown",
   "id": "bc01172a",
   "metadata": {
    "papermill": {
     "duration": 0.036819,
     "end_time": "2021-10-17T20:07:56.597561",
     "exception": false,
     "start_time": "2021-10-17T20:07:56.560742",
     "status": "completed"
    },
    "tags": []
   },
   "source": [
    "### Let us create a `Config` class, to store important parameters. \n",
    "This class essentially plays the role of a dictionary."
   ]
  },
  {
   "cell_type": "code",
   "execution_count": 16,
   "id": "978281aa",
   "metadata": {
    "execution": {
     "iopub.execute_input": "2021-10-17T20:07:56.676424Z",
     "iopub.status.busy": "2021-10-17T20:07:56.675721Z",
     "iopub.status.idle": "2021-10-17T20:07:56.690021Z",
     "shell.execute_reply": "2021-10-17T20:07:56.689393Z"
    },
    "papermill": {
     "duration": 0.055612,
     "end_time": "2021-10-17T20:07:56.690172",
     "exception": false,
     "start_time": "2021-10-17T20:07:56.634560",
     "status": "completed"
    },
    "tags": []
   },
   "outputs": [],
   "source": [
    "class Config:\n",
    "    pass\n",
    "config = Config()\n",
    "config.lr = 0.001\n",
    "config.num_epochs = 250\n",
    "config.bs = 50"
   ]
  },
  {
   "cell_type": "markdown",
   "id": "1385fa59",
   "metadata": {
    "papermill": {
     "duration": 0.037069,
     "end_time": "2021-10-17T20:07:56.763864",
     "exception": false,
     "start_time": "2021-10-17T20:07:56.726795",
     "status": "completed"
    },
    "tags": []
   },
   "source": [
    "### Running Models with the Training data\n",
    "Details about the network layers:\n",
    "- A first affine layer has 784 inputs and does 100 affine transforms. These are followed by a Relu\n",
    "- A second affine layer has 100 inputs from the 100 activations of the past layer, and does 100 affine transforms. These are followed by a Relu\n",
    "- A third affine layer has 100 activations and does 2 affine transformations to create an embedding for visualization. There is no non-linearity here.\n",
    "- A final \"logistic regression\" which has an affine transform from 2 inputs to 1 output, which is squeezed through a sigmoid.\n"
   ]
  },
  {
   "cell_type": "code",
   "execution_count": 17,
   "id": "2b9c66db",
   "metadata": {
    "execution": {
     "iopub.execute_input": "2021-10-17T20:07:56.843836Z",
     "iopub.status.busy": "2021-10-17T20:07:56.843144Z",
     "iopub.status.idle": "2021-10-17T20:07:56.858241Z",
     "shell.execute_reply": "2021-10-17T20:07:56.858907Z"
    },
    "papermill": {
     "duration": 0.057186,
     "end_time": "2021-10-17T20:07:56.859094",
     "exception": false,
     "start_time": "2021-10-17T20:07:56.801908",
     "status": "completed"
    },
    "tags": []
   },
   "outputs": [],
   "source": [
    "data = Data(X_train, y_train.reshape(-1,1))\n",
    "sampler = Sampler(data, config.bs, shuffle=True)\n",
    "\n",
    "dl = Dataloader(data, sampler)\n",
    "\n",
    "opt = GD(config.lr)\n",
    "loss = MSE()"
   ]
  },
  {
   "cell_type": "code",
   "execution_count": 18,
   "id": "b275e4c2",
   "metadata": {
    "execution": {
     "iopub.execute_input": "2021-10-17T20:07:56.937450Z",
     "iopub.status.busy": "2021-10-17T20:07:56.936756Z",
     "iopub.status.idle": "2021-10-17T20:07:56.950982Z",
     "shell.execute_reply": "2021-10-17T20:07:56.950363Z"
    },
    "papermill": {
     "duration": 0.054772,
     "end_time": "2021-10-17T20:07:56.951135",
     "exception": false,
     "start_time": "2021-10-17T20:07:56.896363",
     "status": "completed"
    },
    "tags": []
   },
   "outputs": [],
   "source": [
    "training_data_x = X_train\n",
    "testing_data_x = X_test\n",
    "training_data_y = y_train.reshape(-1,1)\n",
    "testing_data_y = y_test.reshape(-1,1)"
   ]
  },
  {
   "cell_type": "code",
   "execution_count": 19,
   "id": "76951160",
   "metadata": {
    "execution": {
     "iopub.execute_input": "2021-10-17T20:07:57.031729Z",
     "iopub.status.busy": "2021-10-17T20:07:57.031050Z",
     "iopub.status.idle": "2021-10-17T20:07:57.048208Z",
     "shell.execute_reply": "2021-10-17T20:07:57.048823Z"
    },
    "papermill": {
     "duration": 0.061672,
     "end_time": "2021-10-17T20:07:57.048999",
     "exception": false,
     "start_time": "2021-10-17T20:07:56.987327",
     "status": "completed"
    },
    "tags": []
   },
   "outputs": [
    {
     "name": "stdout",
     "output_type": "stream",
     "text": [
      "xavier\n",
      "xavier\n",
      "xavier\n",
      "xavier\n",
      "xavier\n"
     ]
    }
   ],
   "source": [
    "layers = [Affine(\"first\", 784, 100), Relu(\"first\"), Affine(\"second\", 100, 100), Relu(\"second\"), Affine(\"third\", 100, 2), Affine(\"last\", 2, 1), Sigmoid(\"last\")]\n",
    "model_nn = Model(layers)\n",
    "model_lr = Model([Affine(\"logits\", 784, 1), Sigmoid(\"sigmoid\")])"
   ]
  },
  {
   "cell_type": "code",
   "execution_count": 20,
   "id": "6eede77a",
   "metadata": {
    "execution": {
     "iopub.execute_input": "2021-10-17T20:07:57.128650Z",
     "iopub.status.busy": "2021-10-17T20:07:57.127842Z",
     "iopub.status.idle": "2021-10-17T20:07:57.150429Z",
     "shell.execute_reply": "2021-10-17T20:07:57.148281Z"
    },
    "papermill": {
     "duration": 0.064832,
     "end_time": "2021-10-17T20:07:57.150593",
     "exception": false,
     "start_time": "2021-10-17T20:07:57.085761",
     "status": "completed"
    },
    "tags": []
   },
   "outputs": [],
   "source": [
    "nn_learner = Learner(loss, model_nn, opt, config.num_epochs)\n",
    "acc_nn = ClfCallback(nn_learner, config.bs, training_data_x , testing_data_x, training_data_y, testing_data_y)\n",
    "nn_learner.set_callbacks([acc_nn])"
   ]
  },
  {
   "cell_type": "code",
   "execution_count": 21,
   "id": "877b6cc7",
   "metadata": {
    "execution": {
     "iopub.execute_input": "2021-10-17T20:07:57.233201Z",
     "iopub.status.busy": "2021-10-17T20:07:57.232517Z",
     "iopub.status.idle": "2021-10-17T20:07:57.249420Z",
     "shell.execute_reply": "2021-10-17T20:07:57.248733Z"
    },
    "papermill": {
     "duration": 0.062417,
     "end_time": "2021-10-17T20:07:57.249576",
     "exception": false,
     "start_time": "2021-10-17T20:07:57.187159",
     "status": "completed"
    },
    "tags": []
   },
   "outputs": [],
   "source": [
    "lr_learner = Learner(loss, model_lr, opt, config.num_epochs)\n",
    "acc_lr = ClfCallback(lr_learner, config.bs, training_data_x , testing_data_x, training_data_y, testing_data_y)\n",
    "lr_learner.set_callbacks([acc_lr])"
   ]
  },
  {
   "cell_type": "code",
   "execution_count": 22,
   "id": "d9b133c3",
   "metadata": {
    "execution": {
     "iopub.execute_input": "2021-10-17T20:07:57.327689Z",
     "iopub.status.busy": "2021-10-17T20:07:57.327007Z",
     "iopub.status.idle": "2021-10-17T20:10:21.173324Z",
     "shell.execute_reply": "2021-10-17T20:10:21.174405Z"
    },
    "papermill": {
     "duration": 143.88828,
     "end_time": "2021-10-17T20:10:21.174596",
     "exception": false,
     "start_time": "2021-10-17T20:07:57.286316",
     "status": "completed"
    },
    "tags": []
   },
   "outputs": [
    {
     "name": "stdout",
     "output_type": "stream",
     "text": [
      "Epoch 0, Loss 0.2489\n",
      "Training Accuracy: 0.6037, Testing Accuracy: 0.6064\n",
      "\n"
     ]
    },
    {
     "name": "stdout",
     "output_type": "stream",
     "text": [
      "Epoch 10, Loss 0.1072\n",
      "Training Accuracy: 0.9046, Testing Accuracy: 0.9173\n",
      "\n"
     ]
    },
    {
     "name": "stdout",
     "output_type": "stream",
     "text": [
      "Epoch 20, Loss 0.0622\n",
      "Training Accuracy: 0.9345, Testing Accuracy: 0.9511\n",
      "\n"
     ]
    },
    {
     "name": "stdout",
     "output_type": "stream",
     "text": [
      "Epoch 30, Loss 0.0472\n",
      "Training Accuracy: 0.9483, Testing Accuracy: 0.9637\n",
      "\n"
     ]
    },
    {
     "name": "stdout",
     "output_type": "stream",
     "text": [
      "Epoch 40, Loss 0.0403\n",
      "Training Accuracy: 0.9541, Testing Accuracy: 0.9688\n",
      "\n"
     ]
    },
    {
     "name": "stdout",
     "output_type": "stream",
     "text": [
      "Epoch 50, Loss 0.0362\n",
      "Training Accuracy: 0.9589, Testing Accuracy: 0.9688\n",
      "\n"
     ]
    },
    {
     "name": "stdout",
     "output_type": "stream",
     "text": [
      "Epoch 60, Loss 0.0335\n",
      "Training Accuracy: 0.9609, Testing Accuracy: 0.9682\n",
      "\n"
     ]
    },
    {
     "name": "stdout",
     "output_type": "stream",
     "text": [
      "Epoch 70, Loss 0.0315\n",
      "Training Accuracy: 0.9636, Testing Accuracy: 0.9698\n",
      "\n"
     ]
    },
    {
     "name": "stdout",
     "output_type": "stream",
     "text": [
      "Epoch 80, Loss 0.03\n",
      "Training Accuracy: 0.9651, Testing Accuracy: 0.9693\n",
      "\n"
     ]
    },
    {
     "name": "stdout",
     "output_type": "stream",
     "text": [
      "Epoch 90, Loss 0.0287\n",
      "Training Accuracy: 0.9664, Testing Accuracy: 0.9708\n",
      "\n"
     ]
    },
    {
     "name": "stdout",
     "output_type": "stream",
     "text": [
      "Epoch 100, Loss 0.0277\n",
      "Training Accuracy: 0.9682, Testing Accuracy: 0.9718\n",
      "\n"
     ]
    },
    {
     "name": "stdout",
     "output_type": "stream",
     "text": [
      "Epoch 110, Loss 0.0268\n",
      "Training Accuracy: 0.9690, Testing Accuracy: 0.9718\n",
      "\n"
     ]
    },
    {
     "name": "stdout",
     "output_type": "stream",
     "text": [
      "Epoch 120, Loss 0.026\n",
      "Training Accuracy: 0.9696, Testing Accuracy: 0.9728\n",
      "\n"
     ]
    },
    {
     "name": "stdout",
     "output_type": "stream",
     "text": [
      "Epoch 130, Loss 0.0252\n",
      "Training Accuracy: 0.9705, Testing Accuracy: 0.9733\n",
      "\n"
     ]
    },
    {
     "name": "stdout",
     "output_type": "stream",
     "text": [
      "Epoch 140, Loss 0.0246\n",
      "Training Accuracy: 0.9720, Testing Accuracy: 0.9738\n",
      "\n"
     ]
    },
    {
     "name": "stdout",
     "output_type": "stream",
     "text": [
      "Epoch 150, Loss 0.0239\n",
      "Training Accuracy: 0.9724, Testing Accuracy: 0.9738\n",
      "\n"
     ]
    },
    {
     "name": "stdout",
     "output_type": "stream",
     "text": [
      "Epoch 160, Loss 0.0234\n",
      "Training Accuracy: 0.9730, Testing Accuracy: 0.9738\n",
      "\n"
     ]
    },
    {
     "name": "stdout",
     "output_type": "stream",
     "text": [
      "Epoch 170, Loss 0.0229\n",
      "Training Accuracy: 0.9734, Testing Accuracy: 0.9738\n",
      "\n"
     ]
    },
    {
     "name": "stdout",
     "output_type": "stream",
     "text": [
      "Epoch 180, Loss 0.0224\n",
      "Training Accuracy: 0.9743, Testing Accuracy: 0.9738\n",
      "\n"
     ]
    },
    {
     "name": "stdout",
     "output_type": "stream",
     "text": [
      "Epoch 190, Loss 0.0219\n",
      "Training Accuracy: 0.9749, Testing Accuracy: 0.9728\n",
      "\n"
     ]
    },
    {
     "name": "stdout",
     "output_type": "stream",
     "text": [
      "Epoch 200, Loss 0.0214\n",
      "Training Accuracy: 0.9753, Testing Accuracy: 0.9738\n",
      "\n"
     ]
    },
    {
     "name": "stdout",
     "output_type": "stream",
     "text": [
      "Epoch 210, Loss 0.021\n",
      "Training Accuracy: 0.9760, Testing Accuracy: 0.9738\n",
      "\n"
     ]
    },
    {
     "name": "stdout",
     "output_type": "stream",
     "text": [
      "Epoch 220, Loss 0.0206\n",
      "Training Accuracy: 0.9765, Testing Accuracy: 0.9738\n",
      "\n"
     ]
    },
    {
     "name": "stdout",
     "output_type": "stream",
     "text": [
      "Epoch 230, Loss 0.0202\n",
      "Training Accuracy: 0.9766, Testing Accuracy: 0.9728\n",
      "\n"
     ]
    },
    {
     "name": "stdout",
     "output_type": "stream",
     "text": [
      "Epoch 240, Loss 0.0198\n",
      "Training Accuracy: 0.9770, Testing Accuracy: 0.9728\n",
      "\n"
     ]
    },
    {
     "data": {
      "text/plain": [
       "0.019494354409566927"
      ]
     },
     "execution_count": 22,
     "metadata": {},
     "output_type": "execute_result"
    }
   ],
   "source": [
    "nn_learner.train_loop(dl)"
   ]
  },
  {
   "cell_type": "code",
   "execution_count": 23,
   "id": "e0163366",
   "metadata": {
    "execution": {
     "iopub.execute_input": "2021-10-17T20:10:21.319189Z",
     "iopub.status.busy": "2021-10-17T20:10:21.318497Z",
     "iopub.status.idle": "2021-10-17T20:10:42.232203Z",
     "shell.execute_reply": "2021-10-17T20:10:42.233334Z"
    },
    "papermill": {
     "duration": 21.010269,
     "end_time": "2021-10-17T20:10:42.233512",
     "exception": false,
     "start_time": "2021-10-17T20:10:21.223243",
     "status": "completed"
    },
    "tags": []
   },
   "outputs": [
    {
     "name": "stdout",
     "output_type": "stream",
     "text": [
      "Epoch 0, Loss 0.2428\n",
      "Training Accuracy: 0.6873, Testing Accuracy: 0.6885\n",
      "\n"
     ]
    },
    {
     "name": "stdout",
     "output_type": "stream",
     "text": [
      "Epoch 10, Loss 0.1045\n",
      "Training Accuracy: 0.9081, Testing Accuracy: 0.9204\n",
      "\n"
     ]
    },
    {
     "name": "stdout",
     "output_type": "stream",
     "text": [
      "Epoch 20, Loss 0.0801\n",
      "Training Accuracy: 0.9281, Testing Accuracy: 0.9370\n",
      "\n"
     ]
    },
    {
     "name": "stdout",
     "output_type": "stream",
     "text": [
      "Epoch 30, Loss 0.0688\n",
      "Training Accuracy: 0.9368, Testing Accuracy: 0.9471\n",
      "\n"
     ]
    },
    {
     "name": "stdout",
     "output_type": "stream",
     "text": [
      "Epoch 40, Loss 0.0621\n",
      "Training Accuracy: 0.9414, Testing Accuracy: 0.9526\n",
      "\n"
     ]
    },
    {
     "name": "stdout",
     "output_type": "stream",
     "text": [
      "Epoch 50, Loss 0.0575\n",
      "Training Accuracy: 0.9453, Testing Accuracy: 0.9541\n",
      "\n"
     ]
    },
    {
     "name": "stdout",
     "output_type": "stream",
     "text": [
      "Epoch 60, Loss 0.0541\n",
      "Training Accuracy: 0.9471, Testing Accuracy: 0.9572\n",
      "\n"
     ]
    },
    {
     "name": "stdout",
     "output_type": "stream",
     "text": [
      "Epoch 70, Loss 0.0514\n",
      "Training Accuracy: 0.9491, Testing Accuracy: 0.9597\n",
      "\n"
     ]
    },
    {
     "name": "stdout",
     "output_type": "stream",
     "text": [
      "Epoch 80, Loss 0.0494\n",
      "Training Accuracy: 0.9503, Testing Accuracy: 0.9602\n",
      "\n"
     ]
    },
    {
     "name": "stdout",
     "output_type": "stream",
     "text": [
      "Epoch 90, Loss 0.0476\n",
      "Training Accuracy: 0.9515, Testing Accuracy: 0.9622\n",
      "\n"
     ]
    },
    {
     "name": "stdout",
     "output_type": "stream",
     "text": [
      "Epoch 100, Loss 0.0462\n",
      "Training Accuracy: 0.9524, Testing Accuracy: 0.9637\n",
      "\n"
     ]
    },
    {
     "name": "stdout",
     "output_type": "stream",
     "text": [
      "Epoch 110, Loss 0.0449\n",
      "Training Accuracy: 0.9536, Testing Accuracy: 0.9637\n",
      "\n"
     ]
    },
    {
     "name": "stdout",
     "output_type": "stream",
     "text": [
      "Epoch 120, Loss 0.0439\n",
      "Training Accuracy: 0.9542, Testing Accuracy: 0.9642\n",
      "\n"
     ]
    },
    {
     "name": "stdout",
     "output_type": "stream",
     "text": [
      "Epoch 130, Loss 0.0429\n",
      "Training Accuracy: 0.9552, Testing Accuracy: 0.9647\n",
      "\n"
     ]
    },
    {
     "name": "stdout",
     "output_type": "stream",
     "text": [
      "Epoch 140, Loss 0.0421\n",
      "Training Accuracy: 0.9557, Testing Accuracy: 0.9652\n",
      "\n"
     ]
    },
    {
     "name": "stdout",
     "output_type": "stream",
     "text": [
      "Epoch 150, Loss 0.0413\n",
      "Training Accuracy: 0.9564, Testing Accuracy: 0.9657\n",
      "\n"
     ]
    },
    {
     "name": "stdout",
     "output_type": "stream",
     "text": [
      "Epoch 160, Loss 0.0406\n",
      "Training Accuracy: 0.9569, Testing Accuracy: 0.9662\n",
      "\n"
     ]
    },
    {
     "name": "stdout",
     "output_type": "stream",
     "text": [
      "Epoch 170, Loss 0.04\n",
      "Training Accuracy: 0.9573, Testing Accuracy: 0.9667\n",
      "\n"
     ]
    },
    {
     "name": "stdout",
     "output_type": "stream",
     "text": [
      "Epoch 180, Loss 0.0394\n",
      "Training Accuracy: 0.9579, Testing Accuracy: 0.9662\n",
      "\n"
     ]
    },
    {
     "name": "stdout",
     "output_type": "stream",
     "text": [
      "Epoch 190, Loss 0.0389\n",
      "Training Accuracy: 0.9584, Testing Accuracy: 0.9667\n",
      "\n"
     ]
    },
    {
     "name": "stdout",
     "output_type": "stream",
     "text": [
      "Epoch 200, Loss 0.0384\n",
      "Training Accuracy: 0.9589, Testing Accuracy: 0.9662\n",
      "\n"
     ]
    },
    {
     "name": "stdout",
     "output_type": "stream",
     "text": [
      "Epoch 210, Loss 0.038\n",
      "Training Accuracy: 0.9592, Testing Accuracy: 0.9662\n",
      "\n"
     ]
    },
    {
     "name": "stdout",
     "output_type": "stream",
     "text": [
      "Epoch 220, Loss 0.0376\n",
      "Training Accuracy: 0.9594, Testing Accuracy: 0.9662\n",
      "\n"
     ]
    },
    {
     "name": "stdout",
     "output_type": "stream",
     "text": [
      "Epoch 230, Loss 0.0372\n",
      "Training Accuracy: 0.9598, Testing Accuracy: 0.9662\n",
      "\n"
     ]
    },
    {
     "name": "stdout",
     "output_type": "stream",
     "text": [
      "Epoch 240, Loss 0.0368\n",
      "Training Accuracy: 0.9601, Testing Accuracy: 0.9672\n",
      "\n"
     ]
    },
    {
     "data": {
      "text/plain": [
       "0.022366132192916992"
      ]
     },
     "execution_count": 23,
     "metadata": {},
     "output_type": "execute_result"
    }
   ],
   "source": [
    "lr_learner.train_loop(dl)"
   ]
  },
  {
   "cell_type": "code",
   "execution_count": 24,
   "id": "ca410940",
   "metadata": {
    "execution": {
     "iopub.execute_input": "2021-10-17T20:10:42.354098Z",
     "iopub.status.busy": "2021-10-17T20:10:42.353326Z",
     "iopub.status.idle": "2021-10-17T20:10:42.693594Z",
     "shell.execute_reply": "2021-10-17T20:10:42.694291Z"
    },
    "papermill": {
     "duration": 0.403206,
     "end_time": "2021-10-17T20:10:42.694482",
     "exception": false,
     "start_time": "2021-10-17T20:10:42.291276",
     "status": "completed"
    },
    "tags": []
   },
   "outputs": [
    {
     "data": {
      "text/plain": [
       "<matplotlib.legend.Legend at 0x7fe0d67cde80>"
      ]
     },
     "execution_count": 24,
     "metadata": {},
     "output_type": "execute_result"
    },
    {
     "data": {
      "image/png": "[encoded data removed]",
      "text/plain": [
       "<Figure size 1080x720 with 1 Axes>"
      ]
     },
     "metadata": {
      "needs_background": "light"
     },
     "output_type": "display_data"
    }
   ],
   "source": [
    "#comparing the results of NN and LR\n",
    "plt.figure(figsize=(15,10))\n",
    "\n",
    "# Neural Network plots\n",
    "plt.plot(acc_nn.accuracies, 'r-', label = \"Training Accuracies - NN\")\n",
    "plt.plot(acc_nn.test_accuracies, 'g-', label = \"Testing Accuracies - NN\")\n",
    "\n",
    "# Logistic Regression plots\n",
    "plt.plot(acc_lr.accuracies, 'k-', label = \"Training Accuracies - LR\")\n",
    "plt.plot(acc_lr.test_accuracies, 'b-', label = \"Testing Accuracies - LR\")\n",
    "plt.legend()"
   ]
  },
  {
   "cell_type": "markdown",
   "id": "80dfb35c",
   "metadata": {
    "papermill": {
     "duration": 0.056913,
     "end_time": "2021-10-17T20:10:42.807820",
     "exception": false,
     "start_time": "2021-10-17T20:10:42.750907",
     "status": "completed"
    },
    "tags": []
   },
   "source": [
    "#### Plotting the outputs of this layer of the NN.\n"
   ]
  },
  {
   "cell_type": "code",
   "execution_count": 25,
   "id": "45eb2ff5",
   "metadata": {
    "execution": {
     "iopub.execute_input": "2021-10-17T20:10:42.926317Z",
     "iopub.status.busy": "2021-10-17T20:10:42.925562Z",
     "iopub.status.idle": "2021-10-17T20:10:42.955253Z",
     "shell.execute_reply": "2021-10-17T20:10:42.955842Z"
    },
    "papermill": {
     "duration": 0.091302,
     "end_time": "2021-10-17T20:10:42.956026",
     "exception": false,
     "start_time": "2021-10-17T20:10:42.864724",
     "status": "completed"
    },
    "tags": []
   },
   "outputs": [],
   "source": [
    "new_model = Model(layers[:-2])\n",
    "testing_plot = new_model(testing_data_x)"
   ]
  },
  {
   "cell_type": "code",
   "execution_count": 26,
   "id": "4c0a5485",
   "metadata": {
    "execution": {
     "iopub.execute_input": "2021-10-17T20:10:43.103205Z",
     "iopub.status.busy": "2021-10-17T20:10:43.102502Z",
     "iopub.status.idle": "2021-10-17T20:10:43.391847Z",
     "shell.execute_reply": "2021-10-17T20:10:43.392401Z"
    },
    "papermill": {
     "duration": 0.365595,
     "end_time": "2021-10-17T20:10:43.392577",
     "exception": false,
     "start_time": "2021-10-17T20:10:43.026982",
     "status": "completed"
    },
    "tags": []
   },
   "outputs": [
    {
     "data": {
      "text/plain": [
       "Text(0.5, 1.0, 'Outputs')"
      ]
     },
     "execution_count": 26,
     "metadata": {},
     "output_type": "execute_result"
    },
    {
     "data": {
      "image/png": "[encoded data removed]",
      "text/plain": [
       "<Figure size 576x504 with 1 Axes>"
      ]
     },
     "metadata": {
      "needs_background": "light"
     },
     "output_type": "display_data"
    }
   ],
   "source": [
    "# Plotting the scatter plot of points and color coding by class\n",
    "plt.figure(figsize=(8,7))\n",
    "plt.scatter(testing_plot[:,0], testing_plot[:,1], alpha = 0.1, c = y_test.ravel());\n",
    "plt.title('Outputs')"
   ]
  },
  {
   "cell_type": "markdown",
   "id": "a74fcf8f",
   "metadata": {
    "papermill": {
     "duration": 0.064895,
     "end_time": "2021-10-17T20:10:43.519961",
     "exception": false,
     "start_time": "2021-10-17T20:10:43.455066",
     "status": "completed"
    },
    "tags": []
   },
   "source": [
    "Probability contours"
   ]
  },
  {
   "cell_type": "code",
   "execution_count": 27,
   "id": "d0afc8e3",
   "metadata": {
    "execution": {
     "iopub.execute_input": "2021-10-17T20:10:43.681958Z",
     "iopub.status.busy": "2021-10-17T20:10:43.681238Z",
     "iopub.status.idle": "2021-10-17T20:10:43.694572Z",
     "shell.execute_reply": "2021-10-17T20:10:43.695109Z"
    },
    "papermill": {
     "duration": 0.115302,
     "end_time": "2021-10-17T20:10:43.695289",
     "exception": false,
     "start_time": "2021-10-17T20:10:43.579987",
     "status": "completed"
    },
    "tags": []
   },
   "outputs": [],
   "source": [
    "model_prob = Model(layers[-2:]) "
   ]
  },
  {
   "cell_type": "code",
   "execution_count": 28,
   "id": "9b96e238",
   "metadata": {
    "execution": {
     "iopub.execute_input": "2021-10-17T20:10:43.821439Z",
     "iopub.status.busy": "2021-10-17T20:10:43.820742Z",
     "iopub.status.idle": "2021-10-17T20:10:43.836522Z",
     "shell.execute_reply": "2021-10-17T20:10:43.837088Z"
    },
    "papermill": {
     "duration": 0.081913,
     "end_time": "2021-10-17T20:10:43.837271",
     "exception": false,
     "start_time": "2021-10-17T20:10:43.755358",
     "status": "completed"
    },
    "tags": []
   },
   "outputs": [],
   "source": [
    "#creating the x and y ranges according to the above generated plot.\n",
    "x_range = np.linspace(-4, 1, 100) \n",
    "y_range = np.linspace(-6, 6, 100) \n",
    "x_grid, y_grid = np.meshgrid(x_range, y_range) # x_grid and y_grig are of size 100 X 100\n",
    "\n",
    "# converting x_grid and y_grid to continuous arrays\n",
    "x_gridflat = np.ravel(x_grid)\n",
    "y_gridflat = np.ravel(y_grid)\n",
    "\n",
    "# The last layer of the current model takes two columns as input. Hence transpose of np.vstack() is required.\n",
    "X = np.vstack((x_gridflat, y_gridflat)).T\n",
    "\n",
    "prob_contour = model_prob(X).reshape(100,100) "
   ]
  },
  {
   "cell_type": "code",
   "execution_count": 29,
   "id": "da72499a",
   "metadata": {
    "execution": {
     "iopub.execute_input": "2021-10-17T20:10:43.974726Z",
     "iopub.status.busy": "2021-10-17T20:10:43.966848Z",
     "iopub.status.idle": "2021-10-17T20:10:44.301316Z",
     "shell.execute_reply": "2021-10-17T20:10:44.301919Z"
    },
    "papermill": {
     "duration": 0.399625,
     "end_time": "2021-10-17T20:10:44.302107",
     "exception": false,
     "start_time": "2021-10-17T20:10:43.902482",
     "status": "completed"
    },
    "tags": []
   },
   "outputs": [
    {
     "data": {
      "image/png": "[encoded data removed]",
      "text/plain": [
       "<Figure size 720x648 with 1 Axes>"
      ]
     },
     "metadata": {
      "needs_background": "light"
     },
     "output_type": "display_data"
    }
   ],
   "source": [
    "plt.figure(figsize=(10,9))\n",
    "plt.scatter(testing_plot[:,0], testing_plot[:,1], alpha = 0.1, c = y_test.ravel())\n",
    "contours = plt.contour(x_grid,y_grid,prob_contour)\n",
    "plt.title('Probability Contours')\n",
    "plt.clabel(contours, inline = True );"
   ]
  },
  {
   "cell_type": "code",
   "execution_count": null,
   "id": "e81b4ac7",
   "metadata": {
    "papermill": {
     "duration": 0.061823,
     "end_time": "2021-10-17T20:10:44.426765",
     "exception": false,
     "start_time": "2021-10-17T20:10:44.364942",
     "status": "completed"
    },
    "tags": []
   },
   "outputs": [],
   "source": []
  }
 ],
 "metadata": {
  "kernelspec": {
   "display_name": "Python 3",
   "language": "python",
   "name": "python3"
  },
  "language_info": {
   "codemirror_mode": {
    "name": "ipython",
    "version": 3
   },
   "file_extension": ".py",
   "mimetype": "text/x-python",
   "name": "python",
   "nbconvert_exporter": "python",
   "pygments_lexer": "ipython3",
   "version": "3.6.15"
  },
  "papermill": {
   "default_parameters": {},
   "duration": 175.428446,
   "end_time": "2021-10-17T20:10:44.899646",
   "environment_variables": {},
   "exception": null,
   "input_path": "2020-08-11-part2.ipynb",
   "output_path": "2020-08-11-part2.ipynb",
   "parameters": {},
   "start_time": "2021-10-17T20:07:49.471200",
   "version": "2.3.3"
  }
 },
 "nbformat": 4,
 "nbformat_minor": 5
}