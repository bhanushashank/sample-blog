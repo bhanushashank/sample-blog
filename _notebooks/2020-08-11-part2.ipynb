{
 "cells": [
  {
   "cell_type": "markdown",
   "id": "98380cd3",
   "metadata": {
    "papermill": {
     "duration": 0.028737,
     "end_time": "2021-10-03T20:06:52.293398",
     "exception": false,
     "start_time": "2021-10-03T20:06:52.264661",
     "status": "completed"
    },
    "tags": []
   },
   "source": [
    "# Distinguish Your Own Digits (DYOD)"
   ]
  },
  {
   "cell_type": "markdown",
   "id": "ef31240d",
   "metadata": {
    "papermill": {
     "duration": 0.024877,
     "end_time": "2021-10-03T20:06:52.344225",
     "exception": false,
     "start_time": "2021-10-03T20:06:52.319348",
     "status": "completed"
    },
    "tags": []
   },
   "source": [
    "You are going to write a classifier that distinguishes between the number 3 and number 8."
   ]
  },
  {
   "cell_type": "code",
   "execution_count": 1,
   "id": "b15c8646",
   "metadata": {
    "execution": {
     "iopub.execute_input": "2021-10-03T20:06:52.408419Z",
     "iopub.status.busy": "2021-10-03T20:06:52.407695Z",
     "iopub.status.idle": "2021-10-03T20:06:52.419314Z",
     "shell.execute_reply": "2021-10-03T20:06:52.418787Z"
    },
    "papermill": {
     "duration": 0.049895,
     "end_time": "2021-10-03T20:06:52.419456",
     "exception": false,
     "start_time": "2021-10-03T20:06:52.369561",
     "status": "completed"
    },
    "tags": []
   },
   "outputs": [],
   "source": [
    "%load_ext autoreload\n",
    "%autoreload 2"
   ]
  },
  {
   "cell_type": "code",
   "execution_count": 2,
   "id": "22ef38dc",
   "metadata": {
    "execution": {
     "iopub.execute_input": "2021-10-03T20:06:52.474575Z",
     "iopub.status.busy": "2021-10-03T20:06:52.474025Z",
     "iopub.status.idle": "2021-10-03T20:06:53.028979Z",
     "shell.execute_reply": "2021-10-03T20:06:53.029433Z"
    },
    "papermill": {
     "duration": 0.584226,
     "end_time": "2021-10-03T20:06:53.029591",
     "exception": false,
     "start_time": "2021-10-03T20:06:52.445365",
     "status": "completed"
    },
    "tags": []
   },
   "outputs": [],
   "source": [
    "%matplotlib inline\n",
    "import numpy as np\n",
    "import matplotlib.pyplot as plt\n",
    "import pandas as pd"
   ]
  },
  {
   "cell_type": "markdown",
   "id": "ba036198",
   "metadata": {
    "papermill": {
     "duration": 0.030911,
     "end_time": "2021-10-03T20:06:53.086319",
     "exception": false,
     "start_time": "2021-10-03T20:06:53.055408",
     "status": "completed"
    },
    "tags": []
   },
   "source": [
    "From the command line run `pip install mnist`. This is a library that will help you bring down the mnist dataset. If you run this from a notebook, you need to put  `!pip install mnist` in a cell by itself."
   ]
  },
  {
   "cell_type": "code",
   "execution_count": 3,
   "id": "bb6ad8a1",
   "metadata": {
    "execution": {
     "iopub.execute_input": "2021-10-03T20:06:53.143170Z",
     "iopub.status.busy": "2021-10-03T20:06:53.141897Z",
     "iopub.status.idle": "2021-10-03T20:06:54.901115Z",
     "shell.execute_reply": "2021-10-03T20:06:54.900227Z"
    },
    "papermill": {
     "duration": 1.790717,
     "end_time": "2021-10-03T20:06:54.901342",
     "exception": false,
     "start_time": "2021-10-03T20:06:53.110625",
     "status": "completed"
    },
    "tags": []
   },
   "outputs": [
    {
     "name": "stdout",
     "output_type": "stream",
     "text": [
      "Collecting mnist\r\n"
     ]
    },
    {
     "name": "stdout",
     "output_type": "stream",
     "text": [
      "  Downloading mnist-0.2.2-py2.py3-none-any.whl (3.5 kB)\r\n",
      "Requirement already satisfied: numpy in /opt/hostedtoolcache/Python/3.6.15/x64/lib/python3.6/site-packages (from mnist) (1.19.5)\r\n"
     ]
    },
    {
     "name": "stdout",
     "output_type": "stream",
     "text": [
      "Installing collected packages: mnist\r\n",
      "Successfully installed mnist-0.2.2\r\n"
     ]
    }
   ],
   "source": [
    "!pip install mnist"
   ]
  },
  {
   "cell_type": "markdown",
   "id": "69df9c9a",
   "metadata": {
    "papermill": {
     "duration": 0.023891,
     "end_time": "2021-10-03T20:06:54.949700",
     "exception": false,
     "start_time": "2021-10-03T20:06:54.925809",
     "status": "completed"
    },
    "tags": []
   },
   "source": [
    "## Preparing the Data"
   ]
  },
  {
   "cell_type": "code",
   "execution_count": 4,
   "id": "7f69d806",
   "metadata": {
    "execution": {
     "iopub.execute_input": "2021-10-03T20:06:55.008008Z",
     "iopub.status.busy": "2021-10-03T20:06:55.004435Z",
     "iopub.status.idle": "2021-10-03T20:06:55.020563Z",
     "shell.execute_reply": "2021-10-03T20:06:55.020090Z"
    },
    "papermill": {
     "duration": 0.045396,
     "end_time": "2021-10-03T20:06:55.020676",
     "exception": false,
     "start_time": "2021-10-03T20:06:54.975280",
     "status": "completed"
    },
    "tags": []
   },
   "outputs": [],
   "source": [
    "import mnist"
   ]
  },
  {
   "cell_type": "code",
   "execution_count": 5,
   "id": "a411e44f",
   "metadata": {
    "execution": {
     "iopub.execute_input": "2021-10-03T20:06:55.076318Z",
     "iopub.status.busy": "2021-10-03T20:06:55.075834Z",
     "iopub.status.idle": "2021-10-03T20:06:55.703282Z",
     "shell.execute_reply": "2021-10-03T20:06:55.701596Z"
    },
    "papermill": {
     "duration": 0.656402,
     "end_time": "2021-10-03T20:06:55.703423",
     "exception": false,
     "start_time": "2021-10-03T20:06:55.047021",
     "status": "completed"
    },
    "tags": []
   },
   "outputs": [],
   "source": [
    "train_images = mnist.train_images()\n",
    "train_labels = mnist.train_labels()"
   ]
  },
  {
   "cell_type": "code",
   "execution_count": 6,
   "id": "dceab3a5",
   "metadata": {
    "execution": {
     "iopub.execute_input": "2021-10-03T20:06:55.763954Z",
     "iopub.status.busy": "2021-10-03T20:06:55.759751Z",
     "iopub.status.idle": "2021-10-03T20:06:55.772959Z",
     "shell.execute_reply": "2021-10-03T20:06:55.772516Z"
    },
    "papermill": {
     "duration": 0.043823,
     "end_time": "2021-10-03T20:06:55.773073",
     "exception": false,
     "start_time": "2021-10-03T20:06:55.729250",
     "status": "completed"
    },
    "tags": []
   },
   "outputs": [
    {
     "data": {
      "text/plain": [
       "((60000, 28, 28), (60000,))"
      ]
     },
     "execution_count": 6,
     "metadata": {},
     "output_type": "execute_result"
    }
   ],
   "source": [
    "train_images.shape, train_labels.shape"
   ]
  },
  {
   "cell_type": "code",
   "execution_count": 7,
   "id": "f50dc2bb",
   "metadata": {
    "execution": {
     "iopub.execute_input": "2021-10-03T20:06:55.833620Z",
     "iopub.status.busy": "2021-10-03T20:06:55.833122Z",
     "iopub.status.idle": "2021-10-03T20:06:56.053965Z",
     "shell.execute_reply": "2021-10-03T20:06:56.054792Z"
    },
    "papermill": {
     "duration": 0.255745,
     "end_time": "2021-10-03T20:06:56.055109",
     "exception": false,
     "start_time": "2021-10-03T20:06:55.799364",
     "status": "completed"
    },
    "tags": []
   },
   "outputs": [],
   "source": [
    "test_images = mnist.test_images()\n",
    "test_labels = mnist.test_labels()"
   ]
  },
  {
   "cell_type": "code",
   "execution_count": 8,
   "id": "fc38cf1b",
   "metadata": {
    "execution": {
     "iopub.execute_input": "2021-10-03T20:06:56.119723Z",
     "iopub.status.busy": "2021-10-03T20:06:56.116207Z",
     "iopub.status.idle": "2021-10-03T20:06:56.131456Z",
     "shell.execute_reply": "2021-10-03T20:06:56.130964Z"
    },
    "papermill": {
     "duration": 0.047082,
     "end_time": "2021-10-03T20:06:56.131588",
     "exception": false,
     "start_time": "2021-10-03T20:06:56.084506",
     "status": "completed"
    },
    "tags": []
   },
   "outputs": [
    {
     "data": {
      "text/plain": [
       "((10000, 28, 28), (10000,))"
      ]
     },
     "execution_count": 8,
     "metadata": {},
     "output_type": "execute_result"
    }
   ],
   "source": [
    "test_images.shape, test_labels.shape"
   ]
  },
  {
   "cell_type": "code",
   "execution_count": 9,
   "id": "f9ed8fe0",
   "metadata": {
    "execution": {
     "iopub.execute_input": "2021-10-03T20:06:56.191881Z",
     "iopub.status.busy": "2021-10-03T20:06:56.191290Z",
     "iopub.status.idle": "2021-10-03T20:06:56.344980Z",
     "shell.execute_reply": "2021-10-03T20:06:56.344487Z"
    },
    "papermill": {
     "duration": 0.18595,
     "end_time": "2021-10-03T20:06:56.345095",
     "exception": false,
     "start_time": "2021-10-03T20:06:56.159145",
     "status": "completed"
    },
    "tags": []
   },
   "outputs": [
    {
     "name": "stdout",
     "output_type": "stream",
     "text": [
      "2\n"
     ]
    },
    {
     "data": {
      "text/plain": [
       "<matplotlib.image.AxesImage at 0x7f38270c97b8>"
      ]
     },
     "execution_count": 9,
     "metadata": {},
     "output_type": "execute_result"
    },
    {
     "data": {
      "image/png": "[encoded data removed]",
      "text/plain": [
       "<Figure size 432x288 with 1 Axes>"
      ]
     },
     "metadata": {
      "needs_background": "light"
     },
     "output_type": "display_data"
    }
   ],
   "source": [
    "image_index = 7776 # You may select anything up to 60,000\n",
    "print(train_labels[image_index]) \n",
    "plt.imshow(train_images[image_index], cmap='Greys')"
   ]
  },
  {
   "cell_type": "markdown",
   "id": "a8d2388d",
   "metadata": {
    "papermill": {
     "duration": 0.026904,
     "end_time": "2021-10-03T20:06:56.398658",
     "exception": false,
     "start_time": "2021-10-03T20:06:56.371754",
     "status": "completed"
    },
    "tags": []
   },
   "source": [
    "## Filter data to get 3 and 8 out"
   ]
  },
  {
   "cell_type": "code",
   "execution_count": 10,
   "id": "776f7fc7",
   "metadata": {
    "execution": {
     "iopub.execute_input": "2021-10-03T20:06:56.457462Z",
     "iopub.status.busy": "2021-10-03T20:06:56.456967Z",
     "iopub.status.idle": "2021-10-03T20:06:56.476607Z",
     "shell.execute_reply": "2021-10-03T20:06:56.477176Z"
    },
    "papermill": {
     "duration": 0.05149,
     "end_time": "2021-10-03T20:06:56.477332",
     "exception": false,
     "start_time": "2021-10-03T20:06:56.425842",
     "status": "completed"
    },
    "tags": []
   },
   "outputs": [],
   "source": [
    "train_filter = np.where((train_labels == 3 ) | (train_labels == 8))\n",
    "test_filter = np.where((test_labels == 3) | (test_labels == 8))\n",
    "X_train, y_train = train_images[train_filter], train_labels[train_filter]\n",
    "X_test, y_test = test_images[test_filter], test_labels[test_filter]"
   ]
  },
  {
   "cell_type": "markdown",
   "id": "948f0b7e",
   "metadata": {
    "papermill": {
     "duration": 0.024768,
     "end_time": "2021-10-03T20:06:56.529700",
     "exception": false,
     "start_time": "2021-10-03T20:06:56.504932",
     "status": "completed"
    },
    "tags": []
   },
   "source": [
    "We normalize the pizel values in the 0 to 1 range"
   ]
  },
  {
   "cell_type": "code",
   "execution_count": 11,
   "id": "ee4c2166",
   "metadata": {
    "execution": {
     "iopub.execute_input": "2021-10-03T20:06:56.584563Z",
     "iopub.status.busy": "2021-10-03T20:06:56.584077Z",
     "iopub.status.idle": "2021-10-03T20:06:56.636814Z",
     "shell.execute_reply": "2021-10-03T20:06:56.635881Z"
    },
    "papermill": {
     "duration": 0.082652,
     "end_time": "2021-10-03T20:06:56.636952",
     "exception": false,
     "start_time": "2021-10-03T20:06:56.554300",
     "status": "completed"
    },
    "tags": []
   },
   "outputs": [],
   "source": [
    "X_train = X_train/255.\n",
    "X_test = X_test/255."
   ]
  },
  {
   "cell_type": "markdown",
   "id": "ddcf4fab",
   "metadata": {
    "papermill": {
     "duration": 0.025407,
     "end_time": "2021-10-03T20:06:56.688956",
     "exception": false,
     "start_time": "2021-10-03T20:06:56.663549",
     "status": "completed"
    },
    "tags": []
   },
   "source": [
    "And setup the labels as 1 (when the digit is 3) and 0 (when the digit is 8)"
   ]
  },
  {
   "cell_type": "code",
   "execution_count": 12,
   "id": "7dc908f2",
   "metadata": {
    "execution": {
     "iopub.execute_input": "2021-10-03T20:06:56.750860Z",
     "iopub.status.busy": "2021-10-03T20:06:56.750337Z",
     "iopub.status.idle": "2021-10-03T20:06:56.762475Z",
     "shell.execute_reply": "2021-10-03T20:06:56.762978Z"
    },
    "papermill": {
     "duration": 0.04516,
     "end_time": "2021-10-03T20:06:56.763122",
     "exception": false,
     "start_time": "2021-10-03T20:06:56.717962",
     "status": "completed"
    },
    "tags": []
   },
   "outputs": [],
   "source": [
    "y_train = 1*(y_train==3)\n",
    "y_test = 1*(y_test==3)"
   ]
  },
  {
   "cell_type": "code",
   "execution_count": 13,
   "id": "01e4e969",
   "metadata": {
    "execution": {
     "iopub.execute_input": "2021-10-03T20:06:56.820031Z",
     "iopub.status.busy": "2021-10-03T20:06:56.819486Z",
     "iopub.status.idle": "2021-10-03T20:06:56.832778Z",
     "shell.execute_reply": "2021-10-03T20:06:56.832346Z"
    },
    "papermill": {
     "duration": 0.043981,
     "end_time": "2021-10-03T20:06:56.832876",
     "exception": false,
     "start_time": "2021-10-03T20:06:56.788895",
     "status": "completed"
    },
    "tags": []
   },
   "outputs": [
    {
     "data": {
      "text/plain": [
       "((11982, 28, 28), (1984, 28, 28))"
      ]
     },
     "execution_count": 13,
     "metadata": {},
     "output_type": "execute_result"
    }
   ],
   "source": [
    "X_train.shape, X_test.shape"
   ]
  },
  {
   "cell_type": "markdown",
   "id": "5ccf3f85",
   "metadata": {
    "papermill": {
     "duration": 0.027322,
     "end_time": "2021-10-03T20:06:56.884132",
     "exception": false,
     "start_time": "2021-10-03T20:06:56.856810",
     "status": "completed"
    },
    "tags": []
   },
   "source": [
    "We reshape the data to flatten the image pixels into a set of features or co-variates:"
   ]
  },
  {
   "cell_type": "code",
   "execution_count": 14,
   "id": "5286a4a3",
   "metadata": {
    "execution": {
     "iopub.execute_input": "2021-10-03T20:06:56.941403Z",
     "iopub.status.busy": "2021-10-03T20:06:56.940328Z",
     "iopub.status.idle": "2021-10-03T20:06:56.957027Z",
     "shell.execute_reply": "2021-10-03T20:06:56.956591Z"
    },
    "papermill": {
     "duration": 0.046236,
     "end_time": "2021-10-03T20:06:56.957136",
     "exception": false,
     "start_time": "2021-10-03T20:06:56.910900",
     "status": "completed"
    },
    "tags": []
   },
   "outputs": [
    {
     "data": {
      "text/plain": [
       "((11982, 784), (1984, 784))"
      ]
     },
     "execution_count": 14,
     "metadata": {},
     "output_type": "execute_result"
    }
   ],
   "source": [
    "X_train = X_train.reshape(X_train.shape[0], -1)\n",
    "X_test = X_test.reshape(X_test.shape[0], -1)\n",
    "X_train.shape, X_test.shape"
   ]
  },
  {
   "cell_type": "code",
   "execution_count": 15,
   "id": "73c5f88a",
   "metadata": {
    "execution": {
     "iopub.execute_input": "2021-10-03T20:06:57.017704Z",
     "iopub.status.busy": "2021-10-03T20:06:57.017151Z",
     "iopub.status.idle": "2021-10-03T20:06:57.038768Z",
     "shell.execute_reply": "2021-10-03T20:06:57.039310Z"
    },
    "papermill": {
     "duration": 0.055026,
     "end_time": "2021-10-03T20:06:57.039460",
     "exception": false,
     "start_time": "2021-10-03T20:06:56.984434",
     "status": "completed"
    },
    "tags": []
   },
   "outputs": [],
   "source": [
    "#Impoting functions from 'Kudzu'\n",
    "from kudzu.model import Model\n",
    "from kudzu.train import Learner\n",
    "from kudzu.optim import GD\n",
    "from kudzu.data import Data, Sampler,Dataloader\n",
    "\n",
    "from kudzu.callbacks import AccCallback\n",
    "from kudzu.callbacks import ClfCallback\n",
    "\n",
    "from kudzu.loss import MSE\n",
    "\n",
    "from kudzu.layer import Sigmoid,Relu\n",
    "from kudzu.layer import Affine"
   ]
  },
  {
   "cell_type": "markdown",
   "id": "bc01172a",
   "metadata": {
    "papermill": {
     "duration": 0.02588,
     "end_time": "2021-10-03T20:06:57.093722",
     "exception": false,
     "start_time": "2021-10-03T20:06:57.067842",
     "status": "completed"
    },
    "tags": []
   },
   "source": [
    "### Let us create a `Config` class, to store important parameters. \n",
    "This class essentially plays the role of a dictionary."
   ]
  },
  {
   "cell_type": "code",
   "execution_count": 16,
   "id": "978281aa",
   "metadata": {
    "execution": {
     "iopub.execute_input": "2021-10-03T20:06:57.154390Z",
     "iopub.status.busy": "2021-10-03T20:06:57.153902Z",
     "iopub.status.idle": "2021-10-03T20:06:57.163414Z",
     "shell.execute_reply": "2021-10-03T20:06:57.163916Z"
    },
    "papermill": {
     "duration": 0.044445,
     "end_time": "2021-10-03T20:06:57.164057",
     "exception": false,
     "start_time": "2021-10-03T20:06:57.119612",
     "status": "completed"
    },
    "tags": []
   },
   "outputs": [],
   "source": [
    "class Config:\n",
    "    pass\n",
    "config = Config()\n",
    "config.lr = 0.001\n",
    "config.num_epochs = 250\n",
    "config.bs = 50"
   ]
  },
  {
   "cell_type": "markdown",
   "id": "1385fa59",
   "metadata": {
    "papermill": {
     "duration": 0.027298,
     "end_time": "2021-10-03T20:06:57.217664",
     "exception": false,
     "start_time": "2021-10-03T20:06:57.190366",
     "status": "completed"
    },
    "tags": []
   },
   "source": [
    "### Running Models with the Training data\n",
    "Details about the network layers:\n",
    "- A first affine layer has 784 inputs and does 100 affine transforms. These are followed by a Relu\n",
    "- A second affine layer has 100 inputs from the 100 activations of the past layer, and does 100 affine transforms. These are followed by a Relu\n",
    "- A third affine layer has 100 activations and does 2 affine transformations to create an embedding for visualization. There is no non-linearity here.\n",
    "- A final \"logistic regression\" which has an affine transform from 2 inputs to 1 output, which is squeezed through a sigmoid.\n"
   ]
  },
  {
   "cell_type": "code",
   "execution_count": 17,
   "id": "2b9c66db",
   "metadata": {
    "execution": {
     "iopub.execute_input": "2021-10-03T20:06:57.277198Z",
     "iopub.status.busy": "2021-10-03T20:06:57.276634Z",
     "iopub.status.idle": "2021-10-03T20:06:57.289138Z",
     "shell.execute_reply": "2021-10-03T20:06:57.289508Z"
    },
    "papermill": {
     "duration": 0.043974,
     "end_time": "2021-10-03T20:06:57.289630",
     "exception": false,
     "start_time": "2021-10-03T20:06:57.245656",
     "status": "completed"
    },
    "tags": []
   },
   "outputs": [],
   "source": [
    "data = Data(X_train, y_train.reshape(-1,1))\n",
    "sampler = Sampler(data, config.bs, shuffle=True)\n",
    "\n",
    "dl = Dataloader(data, sampler)\n",
    "\n",
    "opt = GD(config.lr)\n",
    "loss = MSE()"
   ]
  },
  {
   "cell_type": "code",
   "execution_count": 18,
   "id": "b275e4c2",
   "metadata": {
    "execution": {
     "iopub.execute_input": "2021-10-03T20:06:57.348068Z",
     "iopub.status.busy": "2021-10-03T20:06:57.347510Z",
     "iopub.status.idle": "2021-10-03T20:06:57.359864Z",
     "shell.execute_reply": "2021-10-03T20:06:57.359418Z"
    },
    "papermill": {
     "duration": 0.043079,
     "end_time": "2021-10-03T20:06:57.359981",
     "exception": false,
     "start_time": "2021-10-03T20:06:57.316902",
     "status": "completed"
    },
    "tags": []
   },
   "outputs": [],
   "source": [
    "training_data_x = X_train\n",
    "testing_data_x = X_test\n",
    "training_data_y = y_train.reshape(-1,1)\n",
    "testing_data_y = y_test.reshape(-1,1)"
   ]
  },
  {
   "cell_type": "code",
   "execution_count": 19,
   "id": "76951160",
   "metadata": {
    "execution": {
     "iopub.execute_input": "2021-10-03T20:06:57.420934Z",
     "iopub.status.busy": "2021-10-03T20:06:57.420384Z",
     "iopub.status.idle": "2021-10-03T20:06:57.439595Z",
     "shell.execute_reply": "2021-10-03T20:06:57.440198Z"
    },
    "papermill": {
     "duration": 0.051999,
     "end_time": "2021-10-03T20:06:57.440317",
     "exception": false,
     "start_time": "2021-10-03T20:06:57.388318",
     "status": "completed"
    },
    "tags": []
   },
   "outputs": [
    {
     "name": "stdout",
     "output_type": "stream",
     "text": [
      "xavier\n",
      "xavier\n",
      "xavier\n",
      "xavier\n",
      "xavier\n"
     ]
    }
   ],
   "source": [
    "layers = [Affine(\"first\", 784, 100), Relu(\"first\"), Affine(\"second\", 100, 100), Relu(\"second\"), Affine(\"third\", 100, 2), Affine(\"last\", 2, 1), Sigmoid(\"last\")]\n",
    "model_nn = Model(layers)\n",
    "model_lr = Model([Affine(\"logits\", 784, 1), Sigmoid(\"sigmoid\")])"
   ]
  },
  {
   "cell_type": "code",
   "execution_count": 20,
   "id": "6eede77a",
   "metadata": {
    "execution": {
     "iopub.execute_input": "2021-10-03T20:06:57.497584Z",
     "iopub.status.busy": "2021-10-03T20:06:57.497043Z",
     "iopub.status.idle": "2021-10-03T20:06:57.510822Z",
     "shell.execute_reply": "2021-10-03T20:06:57.510380Z"
    },
    "papermill": {
     "duration": 0.045188,
     "end_time": "2021-10-03T20:06:57.510965",
     "exception": false,
     "start_time": "2021-10-03T20:06:57.465777",
     "status": "completed"
    },
    "tags": []
   },
   "outputs": [],
   "source": [
    "nn_learner = Learner(loss, model_nn, opt, config.num_epochs)\n",
    "acc_nn = ClfCallback(nn_learner, config.bs, training_data_x , testing_data_x, training_data_y, testing_data_y)\n",
    "nn_learner.set_callbacks([acc_nn])"
   ]
  },
  {
   "cell_type": "code",
   "execution_count": 21,
   "id": "877b6cc7",
   "metadata": {
    "execution": {
     "iopub.execute_input": "2021-10-03T20:06:57.585225Z",
     "iopub.status.busy": "2021-10-03T20:06:57.584633Z",
     "iopub.status.idle": "2021-10-03T20:06:57.598557Z",
     "shell.execute_reply": "2021-10-03T20:06:57.598042Z"
    },
    "papermill": {
     "duration": 0.052784,
     "end_time": "2021-10-03T20:06:57.598682",
     "exception": false,
     "start_time": "2021-10-03T20:06:57.545898",
     "status": "completed"
    },
    "tags": []
   },
   "outputs": [],
   "source": [
    "lr_learner = Learner(loss, model_lr, opt, config.num_epochs)\n",
    "acc_lr = ClfCallback(lr_learner, config.bs, training_data_x , testing_data_x, training_data_y, testing_data_y)\n",
    "lr_learner.set_callbacks([acc_lr])"
   ]
  },
  {
   "cell_type": "code",
   "execution_count": 22,
   "id": "d9b133c3",
   "metadata": {
    "execution": {
     "iopub.execute_input": "2021-10-03T20:06:57.663610Z",
     "iopub.status.busy": "2021-10-03T20:06:57.663046Z",
     "iopub.status.idle": "2021-10-03T20:08:21.950025Z",
     "shell.execute_reply": "2021-10-03T20:08:21.950905Z"
    },
    "papermill": {
     "duration": 84.322332,
     "end_time": "2021-10-03T20:08:21.951085",
     "exception": false,
     "start_time": "2021-10-03T20:06:57.628753",
     "status": "completed"
    },
    "tags": []
   },
   "outputs": [
    {
     "name": "stdout",
     "output_type": "stream",
     "text": [
      "Epoch 0, Loss 0.2696\n",
      "Training Accuracy: 0.3546, Testing Accuracy: 0.3740\n",
      "\n"
     ]
    },
    {
     "name": "stdout",
     "output_type": "stream",
     "text": [
      "Epoch 10, Loss 0.1853\n",
      "Training Accuracy: 0.8824, Testing Accuracy: 0.8962\n",
      "\n"
     ]
    },
    {
     "name": "stdout",
     "output_type": "stream",
     "text": [
      "Epoch 20, Loss 0.094\n",
      "Training Accuracy: 0.9156, Testing Accuracy: 0.9259\n",
      "\n"
     ]
    },
    {
     "name": "stdout",
     "output_type": "stream",
     "text": [
      "Epoch 30, Loss 0.0603\n",
      "Training Accuracy: 0.9375, Testing Accuracy: 0.9451\n",
      "\n"
     ]
    },
    {
     "name": "stdout",
     "output_type": "stream",
     "text": [
      "Epoch 40, Loss 0.0472\n",
      "Training Accuracy: 0.9492, Testing Accuracy: 0.9572\n",
      "\n"
     ]
    },
    {
     "name": "stdout",
     "output_type": "stream",
     "text": [
      "Epoch 50, Loss 0.0405\n",
      "Training Accuracy: 0.9547, Testing Accuracy: 0.9617\n",
      "\n"
     ]
    },
    {
     "name": "stdout",
     "output_type": "stream",
     "text": [
      "Epoch 60, Loss 0.0365\n",
      "Training Accuracy: 0.9587, Testing Accuracy: 0.9637\n",
      "\n"
     ]
    },
    {
     "name": "stdout",
     "output_type": "stream",
     "text": [
      "Epoch 70, Loss 0.0338\n",
      "Training Accuracy: 0.9610, Testing Accuracy: 0.9657\n",
      "\n"
     ]
    },
    {
     "name": "stdout",
     "output_type": "stream",
     "text": [
      "Epoch 80, Loss 0.0318\n",
      "Training Accuracy: 0.9634, Testing Accuracy: 0.9672\n",
      "\n"
     ]
    },
    {
     "name": "stdout",
     "output_type": "stream",
     "text": [
      "Epoch 90, Loss 0.0301\n",
      "Training Accuracy: 0.9650, Testing Accuracy: 0.9693\n",
      "\n"
     ]
    },
    {
     "name": "stdout",
     "output_type": "stream",
     "text": [
      "Epoch 100, Loss 0.0288\n",
      "Training Accuracy: 0.9665, Testing Accuracy: 0.9693\n",
      "\n"
     ]
    },
    {
     "name": "stdout",
     "output_type": "stream",
     "text": [
      "Epoch 110, Loss 0.0277\n",
      "Training Accuracy: 0.9677, Testing Accuracy: 0.9698\n",
      "\n"
     ]
    },
    {
     "name": "stdout",
     "output_type": "stream",
     "text": [
      "Epoch 120, Loss 0.0267\n",
      "Training Accuracy: 0.9688, Testing Accuracy: 0.9703\n",
      "\n"
     ]
    },
    {
     "name": "stdout",
     "output_type": "stream",
     "text": [
      "Epoch 130, Loss 0.0258\n",
      "Training Accuracy: 0.9695, Testing Accuracy: 0.9698\n",
      "\n"
     ]
    },
    {
     "name": "stdout",
     "output_type": "stream",
     "text": [
      "Epoch 140, Loss 0.0251\n",
      "Training Accuracy: 0.9706, Testing Accuracy: 0.9698\n",
      "\n"
     ]
    },
    {
     "name": "stdout",
     "output_type": "stream",
     "text": [
      "Epoch 150, Loss 0.0244\n",
      "Training Accuracy: 0.9717, Testing Accuracy: 0.9708\n",
      "\n"
     ]
    },
    {
     "name": "stdout",
     "output_type": "stream",
     "text": [
      "Epoch 160, Loss 0.0237\n",
      "Training Accuracy: 0.9720, Testing Accuracy: 0.9708\n",
      "\n"
     ]
    },
    {
     "name": "stdout",
     "output_type": "stream",
     "text": [
      "Epoch 170, Loss 0.0231\n",
      "Training Accuracy: 0.9725, Testing Accuracy: 0.9708\n",
      "\n"
     ]
    },
    {
     "name": "stdout",
     "output_type": "stream",
     "text": [
      "Epoch 180, Loss 0.0226\n",
      "Training Accuracy: 0.9736, Testing Accuracy: 0.9718\n",
      "\n"
     ]
    },
    {
     "name": "stdout",
     "output_type": "stream",
     "text": [
      "Epoch 190, Loss 0.0221\n",
      "Training Accuracy: 0.9743, Testing Accuracy: 0.9718\n",
      "\n"
     ]
    },
    {
     "name": "stdout",
     "output_type": "stream",
     "text": [
      "Epoch 200, Loss 0.0216\n",
      "Training Accuracy: 0.9749, Testing Accuracy: 0.9718\n",
      "\n"
     ]
    },
    {
     "name": "stdout",
     "output_type": "stream",
     "text": [
      "Epoch 210, Loss 0.0211\n",
      "Training Accuracy: 0.9755, Testing Accuracy: 0.9713\n",
      "\n"
     ]
    },
    {
     "name": "stdout",
     "output_type": "stream",
     "text": [
      "Epoch 220, Loss 0.0207\n",
      "Training Accuracy: 0.9762, Testing Accuracy: 0.9718\n",
      "\n"
     ]
    },
    {
     "name": "stdout",
     "output_type": "stream",
     "text": [
      "Epoch 230, Loss 0.0203\n",
      "Training Accuracy: 0.9765, Testing Accuracy: 0.9718\n",
      "\n"
     ]
    },
    {
     "name": "stdout",
     "output_type": "stream",
     "text": [
      "Epoch 240, Loss 0.0199\n",
      "Training Accuracy: 0.9772, Testing Accuracy: 0.9718\n",
      "\n"
     ]
    },
    {
     "data": {
      "text/plain": [
       "0.025197809791526325"
      ]
     },
     "execution_count": 22,
     "metadata": {},
     "output_type": "execute_result"
    }
   ],
   "source": [
    "nn_learner.train_loop(dl)"
   ]
  },
  {
   "cell_type": "code",
   "execution_count": 23,
   "id": "e0163366",
   "metadata": {
    "execution": {
     "iopub.execute_input": "2021-10-03T20:08:22.032635Z",
     "iopub.status.busy": "2021-10-03T20:08:22.032076Z",
     "iopub.status.idle": "2021-10-03T20:08:36.656407Z",
     "shell.execute_reply": "2021-10-03T20:08:36.657199Z"
    },
    "papermill": {
     "duration": 14.668553,
     "end_time": "2021-10-03T20:08:36.657361",
     "exception": false,
     "start_time": "2021-10-03T20:08:21.988808",
     "status": "completed"
    },
    "tags": []
   },
   "outputs": [
    {
     "name": "stdout",
     "output_type": "stream",
     "text": [
      "Epoch 0, Loss 0.2375\n",
      "Training Accuracy: 0.7182, Testing Accuracy: 0.7349\n",
      "\n"
     ]
    },
    {
     "name": "stdout",
     "output_type": "stream",
     "text": [
      "Epoch 10, Loss 0.1026\n",
      "Training Accuracy: 0.9082, Testing Accuracy: 0.9259\n",
      "\n"
     ]
    },
    {
     "name": "stdout",
     "output_type": "stream",
     "text": [
      "Epoch 20, Loss 0.0795\n",
      "Training Accuracy: 0.9253, Testing Accuracy: 0.9395\n",
      "\n"
     ]
    },
    {
     "name": "stdout",
     "output_type": "stream",
     "text": [
      "Epoch 30, Loss 0.0687\n",
      "Training Accuracy: 0.9342, Testing Accuracy: 0.9476\n",
      "\n"
     ]
    },
    {
     "name": "stdout",
     "output_type": "stream",
     "text": [
      "Epoch 40, Loss 0.0622\n",
      "Training Accuracy: 0.9387, Testing Accuracy: 0.9511\n",
      "\n"
     ]
    },
    {
     "name": "stdout",
     "output_type": "stream",
     "text": [
      "Epoch 50, Loss 0.0577\n",
      "Training Accuracy: 0.9426, Testing Accuracy: 0.9567\n",
      "\n"
     ]
    },
    {
     "name": "stdout",
     "output_type": "stream",
     "text": [
      "Epoch 60, Loss 0.0544\n",
      "Training Accuracy: 0.9454, Testing Accuracy: 0.9577\n",
      "\n"
     ]
    },
    {
     "name": "stdout",
     "output_type": "stream",
     "text": [
      "Epoch 70, Loss 0.0518\n",
      "Training Accuracy: 0.9476, Testing Accuracy: 0.9592\n",
      "\n"
     ]
    },
    {
     "name": "stdout",
     "output_type": "stream",
     "text": [
      "Epoch 80, Loss 0.0498\n",
      "Training Accuracy: 0.9493, Testing Accuracy: 0.9607\n",
      "\n"
     ]
    },
    {
     "name": "stdout",
     "output_type": "stream",
     "text": [
      "Epoch 90, Loss 0.048\n",
      "Training Accuracy: 0.9508, Testing Accuracy: 0.9637\n",
      "\n"
     ]
    },
    {
     "name": "stdout",
     "output_type": "stream",
     "text": [
      "Epoch 100, Loss 0.0466\n",
      "Training Accuracy: 0.9516, Testing Accuracy: 0.9622\n",
      "\n"
     ]
    },
    {
     "name": "stdout",
     "output_type": "stream",
     "text": [
      "Epoch 110, Loss 0.0453\n",
      "Training Accuracy: 0.9533, Testing Accuracy: 0.9632\n",
      "\n"
     ]
    },
    {
     "name": "stdout",
     "output_type": "stream",
     "text": [
      "Epoch 120, Loss 0.0443\n",
      "Training Accuracy: 0.9540, Testing Accuracy: 0.9637\n",
      "\n"
     ]
    },
    {
     "name": "stdout",
     "output_type": "stream",
     "text": [
      "Epoch 130, Loss 0.0433\n",
      "Training Accuracy: 0.9544, Testing Accuracy: 0.9637\n",
      "\n"
     ]
    },
    {
     "name": "stdout",
     "output_type": "stream",
     "text": [
      "Epoch 140, Loss 0.0425\n",
      "Training Accuracy: 0.9553, Testing Accuracy: 0.9647\n",
      "\n"
     ]
    },
    {
     "name": "stdout",
     "output_type": "stream",
     "text": [
      "Epoch 150, Loss 0.0417\n",
      "Training Accuracy: 0.9559, Testing Accuracy: 0.9647\n",
      "\n"
     ]
    },
    {
     "name": "stdout",
     "output_type": "stream",
     "text": [
      "Epoch 160, Loss 0.041\n",
      "Training Accuracy: 0.9565, Testing Accuracy: 0.9647\n",
      "\n"
     ]
    },
    {
     "name": "stdout",
     "output_type": "stream",
     "text": [
      "Epoch 170, Loss 0.0404\n",
      "Training Accuracy: 0.9570, Testing Accuracy: 0.9652\n",
      "\n"
     ]
    },
    {
     "name": "stdout",
     "output_type": "stream",
     "text": [
      "Epoch 180, Loss 0.0398\n",
      "Training Accuracy: 0.9579, Testing Accuracy: 0.9657\n",
      "\n"
     ]
    },
    {
     "name": "stdout",
     "output_type": "stream",
     "text": [
      "Epoch 190, Loss 0.0393\n",
      "Training Accuracy: 0.9582, Testing Accuracy: 0.9662\n",
      "\n"
     ]
    },
    {
     "name": "stdout",
     "output_type": "stream",
     "text": [
      "Epoch 200, Loss 0.0388\n",
      "Training Accuracy: 0.9584, Testing Accuracy: 0.9662\n",
      "\n"
     ]
    },
    {
     "name": "stdout",
     "output_type": "stream",
     "text": [
      "Epoch 210, Loss 0.0383\n",
      "Training Accuracy: 0.9585, Testing Accuracy: 0.9667\n",
      "\n"
     ]
    },
    {
     "name": "stdout",
     "output_type": "stream",
     "text": [
      "Epoch 220, Loss 0.0379\n",
      "Training Accuracy: 0.9592, Testing Accuracy: 0.9662\n",
      "\n"
     ]
    },
    {
     "name": "stdout",
     "output_type": "stream",
     "text": [
      "Epoch 230, Loss 0.0375\n",
      "Training Accuracy: 0.9599, Testing Accuracy: 0.9662\n",
      "\n"
     ]
    },
    {
     "name": "stdout",
     "output_type": "stream",
     "text": [
      "Epoch 240, Loss 0.0371\n",
      "Training Accuracy: 0.9599, Testing Accuracy: 0.9667\n",
      "\n"
     ]
    },
    {
     "data": {
      "text/plain": [
       "0.02583417717564791"
      ]
     },
     "execution_count": 23,
     "metadata": {},
     "output_type": "execute_result"
    }
   ],
   "source": [
    "lr_learner.train_loop(dl)"
   ]
  },
  {
   "cell_type": "code",
   "execution_count": 24,
   "id": "ca410940",
   "metadata": {
    "execution": {
     "iopub.execute_input": "2021-10-03T20:08:36.756270Z",
     "iopub.status.busy": "2021-10-03T20:08:36.755720Z",
     "iopub.status.idle": "2021-10-03T20:08:36.997639Z",
     "shell.execute_reply": "2021-10-03T20:08:36.997065Z"
    },
    "papermill": {
     "duration": 0.295012,
     "end_time": "2021-10-03T20:08:36.997786",
     "exception": false,
     "start_time": "2021-10-03T20:08:36.702774",
     "status": "completed"
    },
    "tags": []
   },
   "outputs": [
    {
     "data": {
      "text/plain": [
       "<matplotlib.legend.Legend at 0x7f3826c2f860>"
      ]
     },
     "execution_count": 24,
     "metadata": {},
     "output_type": "execute_result"
    },
    {
     "data": {
      "image/png": "[encoded data removed]",
      "text/plain": [
       "<Figure size 1080x720 with 1 Axes>"
      ]
     },
     "metadata": {
      "needs_background": "light"
     },
     "output_type": "display_data"
    }
   ],
   "source": [
    "#comparing the results of NN and LR\n",
    "plt.figure(figsize=(15,10))\n",
    "\n",
    "# Neural Network plots\n",
    "plt.plot(acc_nn.accuracies, 'r-', label = \"Training Accuracies - NN\")\n",
    "plt.plot(acc_nn.test_accuracies, 'g-', label = \"Testing Accuracies - NN\")\n",
    "\n",
    "# Logistic Regression plots\n",
    "plt.plot(acc_lr.accuracies, 'k-', label = \"Training Accuracies - LR\")\n",
    "plt.plot(acc_lr.test_accuracies, 'b-', label = \"Testing Accuracies - LR\")\n",
    "plt.legend()"
   ]
  },
  {
   "cell_type": "markdown",
   "id": "80dfb35c",
   "metadata": {
    "papermill": {
     "duration": 0.040919,
     "end_time": "2021-10-03T20:08:37.084500",
     "exception": false,
     "start_time": "2021-10-03T20:08:37.043581",
     "status": "completed"
    },
    "tags": []
   },
   "source": [
    "#### Plotting the outputs of this layer of the NN.\n"
   ]
  },
  {
   "cell_type": "code",
   "execution_count": 25,
   "id": "45eb2ff5",
   "metadata": {
    "execution": {
     "iopub.execute_input": "2021-10-03T20:08:37.179560Z",
     "iopub.status.busy": "2021-10-03T20:08:37.172256Z",
     "iopub.status.idle": "2021-10-03T20:08:37.192704Z",
     "shell.execute_reply": "2021-10-03T20:08:37.193194Z"
    },
    "papermill": {
     "duration": 0.065788,
     "end_time": "2021-10-03T20:08:37.193322",
     "exception": false,
     "start_time": "2021-10-03T20:08:37.127534",
     "status": "completed"
    },
    "tags": []
   },
   "outputs": [],
   "source": [
    "new_model = Model(layers[:-2])\n",
    "testing_plot = new_model(testing_data_x)"
   ]
  },
  {
   "cell_type": "code",
   "execution_count": 26,
   "id": "4c0a5485",
   "metadata": {
    "execution": {
     "iopub.execute_input": "2021-10-03T20:08:37.300592Z",
     "iopub.status.busy": "2021-10-03T20:08:37.299940Z",
     "iopub.status.idle": "2021-10-03T20:08:37.510980Z",
     "shell.execute_reply": "2021-10-03T20:08:37.509679Z"
    },
    "papermill": {
     "duration": 0.267974,
     "end_time": "2021-10-03T20:08:37.511193",
     "exception": false,
     "start_time": "2021-10-03T20:08:37.243219",
     "status": "completed"
    },
    "tags": []
   },
   "outputs": [
    {
     "data": {
      "text/plain": [
       "Text(0.5, 1.0, 'Outputs')"
      ]
     },
     "execution_count": 26,
     "metadata": {},
     "output_type": "execute_result"
    },
    {
     "data": {
      "image/png": "[encoded data removed]",
      "text/plain": [
       "<Figure size 576x504 with 1 Axes>"
      ]
     },
     "metadata": {
      "needs_background": "light"
     },
     "output_type": "display_data"
    }
   ],
   "source": [
    "# Plotting the scatter plot of points and color coding by class\n",
    "plt.figure(figsize=(8,7))\n",
    "plt.scatter(testing_plot[:,0], testing_plot[:,1], alpha = 0.1, c = y_test.ravel());\n",
    "plt.title('Outputs')"
   ]
  },
  {
   "cell_type": "markdown",
   "id": "a74fcf8f",
   "metadata": {
    "papermill": {
     "duration": 0.044863,
     "end_time": "2021-10-03T20:08:37.603220",
     "exception": false,
     "start_time": "2021-10-03T20:08:37.558357",
     "status": "completed"
    },
    "tags": []
   },
   "source": [
    "Probability contours"
   ]
  },
  {
   "cell_type": "code",
   "execution_count": 27,
   "id": "d0afc8e3",
   "metadata": {
    "execution": {
     "iopub.execute_input": "2021-10-03T20:08:37.698512Z",
     "iopub.status.busy": "2021-10-03T20:08:37.697267Z",
     "iopub.status.idle": "2021-10-03T20:08:37.708485Z",
     "shell.execute_reply": "2021-10-03T20:08:37.708900Z"
    },
    "papermill": {
     "duration": 0.06125,
     "end_time": "2021-10-03T20:08:37.709037",
     "exception": false,
     "start_time": "2021-10-03T20:08:37.647787",
     "status": "completed"
    },
    "tags": []
   },
   "outputs": [],
   "source": [
    "model_prob = Model(layers[-2:]) "
   ]
  },
  {
   "cell_type": "code",
   "execution_count": 28,
   "id": "9b96e238",
   "metadata": {
    "execution": {
     "iopub.execute_input": "2021-10-03T20:08:37.806240Z",
     "iopub.status.busy": "2021-10-03T20:08:37.805630Z",
     "iopub.status.idle": "2021-10-03T20:08:37.820564Z",
     "shell.execute_reply": "2021-10-03T20:08:37.820939Z"
    },
    "papermill": {
     "duration": 0.068454,
     "end_time": "2021-10-03T20:08:37.821070",
     "exception": false,
     "start_time": "2021-10-03T20:08:37.752616",
     "status": "completed"
    },
    "tags": []
   },
   "outputs": [],
   "source": [
    "#creating the x and y ranges according to the above generated plot.\n",
    "x_range = np.linspace(-4, 1, 100) \n",
    "y_range = np.linspace(-6, 6, 100) \n",
    "x_grid, y_grid = np.meshgrid(x_range, y_range) # x_grid and y_grig are of size 100 X 100\n",
    "\n",
    "# converting x_grid and y_grid to continuous arrays\n",
    "x_gridflat = np.ravel(x_grid)\n",
    "y_gridflat = np.ravel(y_grid)\n",
    "\n",
    "# The last layer of the current model takes two columns as input. Hence transpose of np.vstack() is required.\n",
    "X = np.vstack((x_gridflat, y_gridflat)).T\n",
    "\n",
    "prob_contour = model_prob(X).reshape(100,100) "
   ]
  },
  {
   "cell_type": "code",
   "execution_count": 29,
   "id": "da72499a",
   "metadata": {
    "execution": {
     "iopub.execute_input": "2021-10-03T20:08:37.954158Z",
     "iopub.status.busy": "2021-10-03T20:08:37.953608Z",
     "iopub.status.idle": "2021-10-03T20:08:38.213732Z",
     "shell.execute_reply": "2021-10-03T20:08:38.213287Z"
    },
    "papermill": {
     "duration": 0.341284,
     "end_time": "2021-10-03T20:08:38.213837",
     "exception": false,
     "start_time": "2021-10-03T20:08:37.872553",
     "status": "completed"
    },
    "tags": []
   },
   "outputs": [
    {
     "data": {
      "image/png": "[encoded data removed]",
      "text/plain": [
       "<Figure size 720x648 with 1 Axes>"
      ]
     },
     "metadata": {
      "needs_background": "light"
     },
     "output_type": "display_data"
    }
   ],
   "source": [
    "plt.figure(figsize=(10,9))\n",
    "plt.scatter(testing_plot[:,0], testing_plot[:,1], alpha = 0.1, c = y_test.ravel())\n",
    "contours = plt.contour(x_grid,y_grid,prob_contour)\n",
    "plt.title('Probability Contours')\n",
    "plt.clabel(contours, inline = True );"
   ]
  },
  {
   "cell_type": "code",
   "execution_count": null,
   "id": "e81b4ac7",
   "metadata": {
    "papermill": {
     "duration": 0.048208,
     "end_time": "2021-10-03T20:08:38.307714",
     "exception": false,
     "start_time": "2021-10-03T20:08:38.259506",
     "status": "completed"
    },
    "tags": []
   },
   "outputs": [],
   "source": []
  }
 ],
 "metadata": {
  "kernelspec": {
   "display_name": "Python 3",
   "language": "python",
   "name": "python3"
  },
  "language_info": {
   "codemirror_mode": {
    "name": "ipython",
    "version": 3
   },
   "file_extension": ".py",
   "mimetype": "text/x-python",
   "name": "python",
   "nbconvert_exporter": "python",
   "pygments_lexer": "ipython3",
   "version": "3.6.15"
  },
  "papermill": {
   "default_parameters": {},
   "duration": 107.585177,
   "end_time": "2021-10-03T20:08:38.663240",
   "environment_variables": {},
   "exception": null,
   "input_path": "2020-08-11-part2.ipynb",
   "output_path": "2020-08-11-part2.ipynb",
   "parameters": {},
   "start_time": "2021-10-03T20:06:51.078063",
   "version": "2.3.3"
  }
 },
 "nbformat": 4,
 "nbformat_minor": 5
}