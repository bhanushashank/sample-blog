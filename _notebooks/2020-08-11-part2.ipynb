{
 "cells": [
  {
   "cell_type": "markdown",
   "id": "98380cd3",
   "metadata": {
    "papermill": {
     "duration": 0.030024,
     "end_time": "2022-07-08T20:09:55.550991",
     "exception": false,
     "start_time": "2022-07-08T20:09:55.520967",
     "status": "completed"
    },
    "tags": []
   },
   "source": [
    "# Distinguish Your Own Digits (DYOD)"
   ]
  },
  {
   "cell_type": "markdown",
   "id": "ef31240d",
   "metadata": {
    "papermill": {
     "duration": 0.025672,
     "end_time": "2022-07-08T20:09:55.603740",
     "exception": false,
     "start_time": "2022-07-08T20:09:55.578068",
     "status": "completed"
    },
    "tags": []
   },
   "source": [
    "You are going to write a classifier that distinguishes between the number 3 and number 8."
   ]
  },
  {
   "cell_type": "code",
   "execution_count": 1,
   "id": "b15c8646",
   "metadata": {
    "execution": {
     "iopub.execute_input": "2022-07-08T20:09:55.667046Z",
     "iopub.status.busy": "2022-07-08T20:09:55.666421Z",
     "iopub.status.idle": "2022-07-08T20:09:55.677477Z",
     "shell.execute_reply": "2022-07-08T20:09:55.676985Z"
    },
    "papermill": {
     "duration": 0.046713,
     "end_time": "2022-07-08T20:09:55.677602",
     "exception": false,
     "start_time": "2022-07-08T20:09:55.630889",
     "status": "completed"
    },
    "tags": []
   },
   "outputs": [],
   "source": [
    "%load_ext autoreload\n",
    "%autoreload 2"
   ]
  },
  {
   "cell_type": "code",
   "execution_count": 2,
   "id": "22ef38dc",
   "metadata": {
    "execution": {
     "iopub.execute_input": "2022-07-08T20:09:55.730738Z",
     "iopub.status.busy": "2022-07-08T20:09:55.730158Z",
     "iopub.status.idle": "2022-07-08T20:09:56.248867Z",
     "shell.execute_reply": "2022-07-08T20:09:56.249347Z"
    },
    "papermill": {
     "duration": 0.547232,
     "end_time": "2022-07-08T20:09:56.249488",
     "exception": false,
     "start_time": "2022-07-08T20:09:55.702256",
     "status": "completed"
    },
    "tags": []
   },
   "outputs": [],
   "source": [
    "%matplotlib inline\n",
    "import numpy as np\n",
    "import matplotlib.pyplot as plt\n",
    "import pandas as pd"
   ]
  },
  {
   "cell_type": "markdown",
   "id": "ba036198",
   "metadata": {
    "papermill": {
     "duration": 0.026845,
     "end_time": "2022-07-08T20:09:56.304101",
     "exception": false,
     "start_time": "2022-07-08T20:09:56.277256",
     "status": "completed"
    },
    "tags": []
   },
   "source": [
    "From the command line run `pip install mnist`. This is a library that will help you bring down the mnist dataset. If you run this from a notebook, you need to put  `!pip install mnist` in a cell by itself."
   ]
  },
  {
   "cell_type": "code",
   "execution_count": 3,
   "id": "bb6ad8a1",
   "metadata": {
    "execution": {
     "iopub.execute_input": "2022-07-08T20:09:56.364893Z",
     "iopub.status.busy": "2022-07-08T20:09:56.363015Z",
     "iopub.status.idle": "2022-07-08T20:09:58.098330Z",
     "shell.execute_reply": "2022-07-08T20:09:58.099136Z"
    },
    "papermill": {
     "duration": 1.766295,
     "end_time": "2022-07-08T20:09:58.099283",
     "exception": false,
     "start_time": "2022-07-08T20:09:56.332988",
     "status": "completed"
    },
    "tags": []
   },
   "outputs": [
    {
     "name": "stdout",
     "output_type": "stream",
     "text": [
      "Collecting mnist\r\n"
     ]
    },
    {
     "name": "stdout",
     "output_type": "stream",
     "text": [
      "  Downloading mnist-0.2.2-py2.py3-none-any.whl (3.5 kB)\r\n",
      "Requirement already satisfied: numpy in /opt/hostedtoolcache/Python/3.6.15/x64/lib/python3.6/site-packages (from mnist) (1.19.5)\r\n"
     ]
    },
    {
     "name": "stdout",
     "output_type": "stream",
     "text": [
      "Installing collected packages: mnist\r\n",
      "Successfully installed mnist-0.2.2\r\n"
     ]
    }
   ],
   "source": [
    "!pip install mnist"
   ]
  },
  {
   "cell_type": "markdown",
   "id": "69df9c9a",
   "metadata": {
    "papermill": {
     "duration": 0.024969,
     "end_time": "2022-07-08T20:09:58.149651",
     "exception": false,
     "start_time": "2022-07-08T20:09:58.124682",
     "status": "completed"
    },
    "tags": []
   },
   "source": [
    "## Preparing the Data"
   ]
  },
  {
   "cell_type": "code",
   "execution_count": 4,
   "id": "7f69d806",
   "metadata": {
    "execution": {
     "iopub.execute_input": "2022-07-08T20:09:58.205641Z",
     "iopub.status.busy": "2022-07-08T20:09:58.203867Z",
     "iopub.status.idle": "2022-07-08T20:09:58.218153Z",
     "shell.execute_reply": "2022-07-08T20:09:58.217682Z"
    },
    "papermill": {
     "duration": 0.04382,
     "end_time": "2022-07-08T20:09:58.218261",
     "exception": false,
     "start_time": "2022-07-08T20:09:58.174441",
     "status": "completed"
    },
    "tags": []
   },
   "outputs": [],
   "source": [
    "import mnist"
   ]
  },
  {
   "cell_type": "code",
   "execution_count": 5,
   "id": "a411e44f",
   "metadata": {
    "execution": {
     "iopub.execute_input": "2022-07-08T20:09:58.273184Z",
     "iopub.status.busy": "2022-07-08T20:09:58.271388Z",
     "iopub.status.idle": "2022-07-08T20:09:58.889030Z",
     "shell.execute_reply": "2022-07-08T20:09:58.888518Z"
    },
    "papermill": {
     "duration": 0.645934,
     "end_time": "2022-07-08T20:09:58.889148",
     "exception": false,
     "start_time": "2022-07-08T20:09:58.243214",
     "status": "completed"
    },
    "tags": []
   },
   "outputs": [],
   "source": [
    "train_images = mnist.train_images()\n",
    "train_labels = mnist.train_labels()"
   ]
  },
  {
   "cell_type": "code",
   "execution_count": 6,
   "id": "dceab3a5",
   "metadata": {
    "execution": {
     "iopub.execute_input": "2022-07-08T20:09:58.943566Z",
     "iopub.status.busy": "2022-07-08T20:09:58.943005Z",
     "iopub.status.idle": "2022-07-08T20:09:58.957498Z",
     "shell.execute_reply": "2022-07-08T20:09:58.956960Z"
    },
    "papermill": {
     "duration": 0.043232,
     "end_time": "2022-07-08T20:09:58.957602",
     "exception": false,
     "start_time": "2022-07-08T20:09:58.914370",
     "status": "completed"
    },
    "tags": []
   },
   "outputs": [
    {
     "data": {
      "text/plain": [
       "((60000, 28, 28), (60000,))"
      ]
     },
     "execution_count": 6,
     "metadata": {},
     "output_type": "execute_result"
    }
   ],
   "source": [
    "train_images.shape, train_labels.shape"
   ]
  },
  {
   "cell_type": "code",
   "execution_count": 7,
   "id": "f50dc2bb",
   "metadata": {
    "execution": {
     "iopub.execute_input": "2022-07-08T20:09:59.011552Z",
     "iopub.status.busy": "2022-07-08T20:09:59.011007Z",
     "iopub.status.idle": "2022-07-08T20:09:59.192880Z",
     "shell.execute_reply": "2022-07-08T20:09:59.191768Z"
    },
    "papermill": {
     "duration": 0.210158,
     "end_time": "2022-07-08T20:09:59.192999",
     "exception": false,
     "start_time": "2022-07-08T20:09:58.982841",
     "status": "completed"
    },
    "tags": []
   },
   "outputs": [],
   "source": [
    "test_images = mnist.test_images()\n",
    "test_labels = mnist.test_labels()"
   ]
  },
  {
   "cell_type": "code",
   "execution_count": 8,
   "id": "fc38cf1b",
   "metadata": {
    "execution": {
     "iopub.execute_input": "2022-07-08T20:09:59.249297Z",
     "iopub.status.busy": "2022-07-08T20:09:59.247666Z",
     "iopub.status.idle": "2022-07-08T20:09:59.260750Z",
     "shell.execute_reply": "2022-07-08T20:09:59.260267Z"
    },
    "papermill": {
     "duration": 0.042326,
     "end_time": "2022-07-08T20:09:59.260859",
     "exception": false,
     "start_time": "2022-07-08T20:09:59.218533",
     "status": "completed"
    },
    "tags": []
   },
   "outputs": [
    {
     "data": {
      "text/plain": [
       "((10000, 28, 28), (10000,))"
      ]
     },
     "execution_count": 8,
     "metadata": {},
     "output_type": "execute_result"
    }
   ],
   "source": [
    "test_images.shape, test_labels.shape"
   ]
  },
  {
   "cell_type": "code",
   "execution_count": 9,
   "id": "f9ed8fe0",
   "metadata": {
    "execution": {
     "iopub.execute_input": "2022-07-08T20:09:59.315749Z",
     "iopub.status.busy": "2022-07-08T20:09:59.315179Z",
     "iopub.status.idle": "2022-07-08T20:09:59.450307Z",
     "shell.execute_reply": "2022-07-08T20:09:59.450741Z"
    },
    "papermill": {
     "duration": 0.164527,
     "end_time": "2022-07-08T20:09:59.450867",
     "exception": false,
     "start_time": "2022-07-08T20:09:59.286340",
     "status": "completed"
    },
    "tags": []
   },
   "outputs": [
    {
     "name": "stdout",
     "output_type": "stream",
     "text": [
      "2\n"
     ]
    },
    {
     "data": {
      "text/plain": [
       "<matplotlib.image.AxesImage at 0x7fe30af5d518>"
      ]
     },
     "execution_count": 9,
     "metadata": {},
     "output_type": "execute_result"
    },
    {
     "data": {
      "image/png": "[encoded data removed]",
      "text/plain": [
       "<Figure size 432x288 with 1 Axes>"
      ]
     },
     "metadata": {
      "needs_background": "light"
     },
     "output_type": "display_data"
    }
   ],
   "source": [
    "image_index = 7776 # You may select anything up to 60,000\n",
    "print(train_labels[image_index]) \n",
    "plt.imshow(train_images[image_index], cmap='Greys')"
   ]
  },
  {
   "cell_type": "markdown",
   "id": "a8d2388d",
   "metadata": {
    "papermill": {
     "duration": 0.026918,
     "end_time": "2022-07-08T20:09:59.504465",
     "exception": false,
     "start_time": "2022-07-08T20:09:59.477547",
     "status": "completed"
    },
    "tags": []
   },
   "source": [
    "## Filter data to get 3 and 8 out"
   ]
  },
  {
   "cell_type": "code",
   "execution_count": 10,
   "id": "776f7fc7",
   "metadata": {
    "execution": {
     "iopub.execute_input": "2022-07-08T20:09:59.561968Z",
     "iopub.status.busy": "2022-07-08T20:09:59.561393Z",
     "iopub.status.idle": "2022-07-08T20:09:59.579592Z",
     "shell.execute_reply": "2022-07-08T20:09:59.579118Z"
    },
    "papermill": {
     "duration": 0.048625,
     "end_time": "2022-07-08T20:09:59.579705",
     "exception": false,
     "start_time": "2022-07-08T20:09:59.531080",
     "status": "completed"
    },
    "tags": []
   },
   "outputs": [],
   "source": [
    "train_filter = np.where((train_labels == 3 ) | (train_labels == 8))\n",
    "test_filter = np.where((test_labels == 3) | (test_labels == 8))\n",
    "X_train, y_train = train_images[train_filter], train_labels[train_filter]\n",
    "X_test, y_test = test_images[test_filter], test_labels[test_filter]"
   ]
  },
  {
   "cell_type": "markdown",
   "id": "948f0b7e",
   "metadata": {
    "papermill": {
     "duration": 0.026478,
     "end_time": "2022-07-08T20:09:59.633032",
     "exception": false,
     "start_time": "2022-07-08T20:09:59.606554",
     "status": "completed"
    },
    "tags": []
   },
   "source": [
    "We normalize the pizel values in the 0 to 1 range"
   ]
  },
  {
   "cell_type": "code",
   "execution_count": 11,
   "id": "ee4c2166",
   "metadata": {
    "execution": {
     "iopub.execute_input": "2022-07-08T20:09:59.689470Z",
     "iopub.status.busy": "2022-07-08T20:09:59.688902Z",
     "iopub.status.idle": "2022-07-08T20:09:59.730304Z",
     "shell.execute_reply": "2022-07-08T20:09:59.730735Z"
    },
    "papermill": {
     "duration": 0.071401,
     "end_time": "2022-07-08T20:09:59.730872",
     "exception": false,
     "start_time": "2022-07-08T20:09:59.659471",
     "status": "completed"
    },
    "tags": []
   },
   "outputs": [],
   "source": [
    "X_train = X_train/255.\n",
    "X_test = X_test/255."
   ]
  },
  {
   "cell_type": "markdown",
   "id": "ddcf4fab",
   "metadata": {
    "papermill": {
     "duration": 0.026522,
     "end_time": "2022-07-08T20:09:59.784101",
     "exception": false,
     "start_time": "2022-07-08T20:09:59.757579",
     "status": "completed"
    },
    "tags": []
   },
   "source": [
    "And setup the labels as 1 (when the digit is 3) and 0 (when the digit is 8)"
   ]
  },
  {
   "cell_type": "code",
   "execution_count": 12,
   "id": "7dc908f2",
   "metadata": {
    "execution": {
     "iopub.execute_input": "2022-07-08T20:09:59.841358Z",
     "iopub.status.busy": "2022-07-08T20:09:59.840613Z",
     "iopub.status.idle": "2022-07-08T20:09:59.854477Z",
     "shell.execute_reply": "2022-07-08T20:09:59.853711Z"
    },
    "papermill": {
     "duration": 0.043976,
     "end_time": "2022-07-08T20:09:59.854596",
     "exception": false,
     "start_time": "2022-07-08T20:09:59.810620",
     "status": "completed"
    },
    "tags": []
   },
   "outputs": [],
   "source": [
    "y_train = 1*(y_train==3)\n",
    "y_test = 1*(y_test==3)"
   ]
  },
  {
   "cell_type": "code",
   "execution_count": 13,
   "id": "01e4e969",
   "metadata": {
    "execution": {
     "iopub.execute_input": "2022-07-08T20:09:59.912376Z",
     "iopub.status.busy": "2022-07-08T20:09:59.911785Z",
     "iopub.status.idle": "2022-07-08T20:09:59.924367Z",
     "shell.execute_reply": "2022-07-08T20:09:59.924831Z"
    },
    "papermill": {
     "duration": 0.042929,
     "end_time": "2022-07-08T20:09:59.924961",
     "exception": false,
     "start_time": "2022-07-08T20:09:59.882032",
     "status": "completed"
    },
    "tags": []
   },
   "outputs": [
    {
     "data": {
      "text/plain": [
       "((11982, 28, 28), (1984, 28, 28))"
      ]
     },
     "execution_count": 13,
     "metadata": {},
     "output_type": "execute_result"
    }
   ],
   "source": [
    "X_train.shape, X_test.shape"
   ]
  },
  {
   "cell_type": "markdown",
   "id": "5ccf3f85",
   "metadata": {
    "papermill": {
     "duration": 0.026796,
     "end_time": "2022-07-08T20:09:59.978625",
     "exception": false,
     "start_time": "2022-07-08T20:09:59.951829",
     "status": "completed"
    },
    "tags": []
   },
   "source": [
    "We reshape the data to flatten the image pixels into a set of features or co-variates:"
   ]
  },
  {
   "cell_type": "code",
   "execution_count": 14,
   "id": "5286a4a3",
   "metadata": {
    "execution": {
     "iopub.execute_input": "2022-07-08T20:10:00.036598Z",
     "iopub.status.busy": "2022-07-08T20:10:00.036001Z",
     "iopub.status.idle": "2022-07-08T20:10:00.049721Z",
     "shell.execute_reply": "2022-07-08T20:10:00.049165Z"
    },
    "papermill": {
     "duration": 0.044172,
     "end_time": "2022-07-08T20:10:00.049829",
     "exception": false,
     "start_time": "2022-07-08T20:10:00.005657",
     "status": "completed"
    },
    "tags": []
   },
   "outputs": [
    {
     "data": {
      "text/plain": [
       "((11982, 784), (1984, 784))"
      ]
     },
     "execution_count": 14,
     "metadata": {},
     "output_type": "execute_result"
    }
   ],
   "source": [
    "X_train = X_train.reshape(X_train.shape[0], -1)\n",
    "X_test = X_test.reshape(X_test.shape[0], -1)\n",
    "X_train.shape, X_test.shape"
   ]
  },
  {
   "cell_type": "code",
   "execution_count": 15,
   "id": "73c5f88a",
   "metadata": {
    "execution": {
     "iopub.execute_input": "2022-07-08T20:10:00.109030Z",
     "iopub.status.busy": "2022-07-08T20:10:00.108464Z",
     "iopub.status.idle": "2022-07-08T20:10:00.127883Z",
     "shell.execute_reply": "2022-07-08T20:10:00.127425Z"
    },
    "papermill": {
     "duration": 0.050927,
     "end_time": "2022-07-08T20:10:00.127996",
     "exception": false,
     "start_time": "2022-07-08T20:10:00.077069",
     "status": "completed"
    },
    "tags": []
   },
   "outputs": [],
   "source": [
    "#Impoting functions from 'Kudzu'\n",
    "from kudzu.model import Model\n",
    "from kudzu.train import Learner\n",
    "from kudzu.optim import GD\n",
    "from kudzu.data import Data, Sampler,Dataloader\n",
    "\n",
    "from kudzu.callbacks import AccCallback\n",
    "from kudzu.callbacks import ClfCallback\n",
    "\n",
    "from kudzu.loss import MSE\n",
    "\n",
    "from kudzu.layer import Sigmoid,Relu\n",
    "from kudzu.layer import Affine"
   ]
  },
  {
   "cell_type": "markdown",
   "id": "bc01172a",
   "metadata": {
    "papermill": {
     "duration": 0.027061,
     "end_time": "2022-07-08T20:10:00.182353",
     "exception": false,
     "start_time": "2022-07-08T20:10:00.155292",
     "status": "completed"
    },
    "tags": []
   },
   "source": [
    "### Let us create a `Config` class, to store important parameters. \n",
    "This class essentially plays the role of a dictionary."
   ]
  },
  {
   "cell_type": "code",
   "execution_count": 16,
   "id": "978281aa",
   "metadata": {
    "execution": {
     "iopub.execute_input": "2022-07-08T20:10:00.240522Z",
     "iopub.status.busy": "2022-07-08T20:10:00.239905Z",
     "iopub.status.idle": "2022-07-08T20:10:00.252844Z",
     "shell.execute_reply": "2022-07-08T20:10:00.252387Z"
    },
    "papermill": {
     "duration": 0.043631,
     "end_time": "2022-07-08T20:10:00.252956",
     "exception": false,
     "start_time": "2022-07-08T20:10:00.209325",
     "status": "completed"
    },
    "tags": []
   },
   "outputs": [],
   "source": [
    "class Config:\n",
    "    pass\n",
    "config = Config()\n",
    "config.lr = 0.001\n",
    "config.num_epochs = 250\n",
    "config.bs = 50"
   ]
  },
  {
   "cell_type": "markdown",
   "id": "1385fa59",
   "metadata": {
    "papermill": {
     "duration": 0.027205,
     "end_time": "2022-07-08T20:10:00.307771",
     "exception": false,
     "start_time": "2022-07-08T20:10:00.280566",
     "status": "completed"
    },
    "tags": []
   },
   "source": [
    "### Running Models with the Training data\n",
    "Details about the network layers:\n",
    "- A first affine layer has 784 inputs and does 100 affine transforms. These are followed by a Relu\n",
    "- A second affine layer has 100 inputs from the 100 activations of the past layer, and does 100 affine transforms. These are followed by a Relu\n",
    "- A third affine layer has 100 activations and does 2 affine transformations to create an embedding for visualization. There is no non-linearity here.\n",
    "- A final \"logistic regression\" which has an affine transform from 2 inputs to 1 output, which is squeezed through a sigmoid.\n"
   ]
  },
  {
   "cell_type": "code",
   "execution_count": 17,
   "id": "2b9c66db",
   "metadata": {
    "execution": {
     "iopub.execute_input": "2022-07-08T20:10:00.366069Z",
     "iopub.status.busy": "2022-07-08T20:10:00.365492Z",
     "iopub.status.idle": "2022-07-08T20:10:00.377471Z",
     "shell.execute_reply": "2022-07-08T20:10:00.377906Z"
    },
    "papermill": {
     "duration": 0.043197,
     "end_time": "2022-07-08T20:10:00.378036",
     "exception": false,
     "start_time": "2022-07-08T20:10:00.334839",
     "status": "completed"
    },
    "tags": []
   },
   "outputs": [],
   "source": [
    "data = Data(X_train, y_train.reshape(-1,1))\n",
    "sampler = Sampler(data, config.bs, shuffle=True)\n",
    "\n",
    "dl = Dataloader(data, sampler)\n",
    "\n",
    "opt = GD(config.lr)\n",
    "loss = MSE()"
   ]
  },
  {
   "cell_type": "code",
   "execution_count": 18,
   "id": "b275e4c2",
   "metadata": {
    "execution": {
     "iopub.execute_input": "2022-07-08T20:10:00.436546Z",
     "iopub.status.busy": "2022-07-08T20:10:00.435946Z",
     "iopub.status.idle": "2022-07-08T20:10:00.447672Z",
     "shell.execute_reply": "2022-07-08T20:10:00.448127Z"
    },
    "papermill": {
     "duration": 0.042945,
     "end_time": "2022-07-08T20:10:00.448275",
     "exception": false,
     "start_time": "2022-07-08T20:10:00.405330",
     "status": "completed"
    },
    "tags": []
   },
   "outputs": [],
   "source": [
    "training_data_x = X_train\n",
    "testing_data_x = X_test\n",
    "training_data_y = y_train.reshape(-1,1)\n",
    "testing_data_y = y_test.reshape(-1,1)"
   ]
  },
  {
   "cell_type": "code",
   "execution_count": 19,
   "id": "76951160",
   "metadata": {
    "execution": {
     "iopub.execute_input": "2022-07-08T20:10:00.506641Z",
     "iopub.status.busy": "2022-07-08T20:10:00.506076Z",
     "iopub.status.idle": "2022-07-08T20:10:00.522326Z",
     "shell.execute_reply": "2022-07-08T20:10:00.522759Z"
    },
    "papermill": {
     "duration": 0.047579,
     "end_time": "2022-07-08T20:10:00.522884",
     "exception": false,
     "start_time": "2022-07-08T20:10:00.475305",
     "status": "completed"
    },
    "tags": []
   },
   "outputs": [
    {
     "name": "stdout",
     "output_type": "stream",
     "text": [
      "xavier\n",
      "xavier\n",
      "xavier\n",
      "xavier\n",
      "xavier\n"
     ]
    }
   ],
   "source": [
    "layers = [Affine(\"first\", 784, 100), Relu(\"first\"), Affine(\"second\", 100, 100), Relu(\"second\"), Affine(\"third\", 100, 2), Affine(\"last\", 2, 1), Sigmoid(\"last\")]\n",
    "model_nn = Model(layers)\n",
    "model_lr = Model([Affine(\"logits\", 784, 1), Sigmoid(\"sigmoid\")])"
   ]
  },
  {
   "cell_type": "code",
   "execution_count": 20,
   "id": "6eede77a",
   "metadata": {
    "execution": {
     "iopub.execute_input": "2022-07-08T20:10:00.581945Z",
     "iopub.status.busy": "2022-07-08T20:10:00.581381Z",
     "iopub.status.idle": "2022-07-08T20:10:00.594180Z",
     "shell.execute_reply": "2022-07-08T20:10:00.593714Z"
    },
    "papermill": {
     "duration": 0.043692,
     "end_time": "2022-07-08T20:10:00.594286",
     "exception": false,
     "start_time": "2022-07-08T20:10:00.550594",
     "status": "completed"
    },
    "tags": []
   },
   "outputs": [],
   "source": [
    "nn_learner = Learner(loss, model_nn, opt, config.num_epochs)\n",
    "acc_nn = ClfCallback(nn_learner, config.bs, training_data_x , testing_data_x, training_data_y, testing_data_y)\n",
    "nn_learner.set_callbacks([acc_nn])"
   ]
  },
  {
   "cell_type": "code",
   "execution_count": 21,
   "id": "877b6cc7",
   "metadata": {
    "execution": {
     "iopub.execute_input": "2022-07-08T20:10:00.653239Z",
     "iopub.status.busy": "2022-07-08T20:10:00.652667Z",
     "iopub.status.idle": "2022-07-08T20:10:00.664430Z",
     "shell.execute_reply": "2022-07-08T20:10:00.664879Z"
    },
    "papermill": {
     "duration": 0.04318,
     "end_time": "2022-07-08T20:10:00.665004",
     "exception": false,
     "start_time": "2022-07-08T20:10:00.621824",
     "status": "completed"
    },
    "tags": []
   },
   "outputs": [],
   "source": [
    "lr_learner = Learner(loss, model_lr, opt, config.num_epochs)\n",
    "acc_lr = ClfCallback(lr_learner, config.bs, training_data_x , testing_data_x, training_data_y, testing_data_y)\n",
    "lr_learner.set_callbacks([acc_lr])"
   ]
  },
  {
   "cell_type": "code",
   "execution_count": 22,
   "id": "d9b133c3",
   "metadata": {
    "execution": {
     "iopub.execute_input": "2022-07-08T20:10:00.723609Z",
     "iopub.status.busy": "2022-07-08T20:10:00.723039Z",
     "iopub.status.idle": "2022-07-08T20:12:59.437294Z",
     "shell.execute_reply": "2022-07-08T20:12:59.437744Z"
    },
    "papermill": {
     "duration": 178.745272,
     "end_time": "2022-07-08T20:12:59.437870",
     "exception": false,
     "start_time": "2022-07-08T20:10:00.692598",
     "status": "completed"
    },
    "tags": []
   },
   "outputs": [
    {
     "name": "stdout",
     "output_type": "stream",
     "text": [
      "Epoch 0, Loss 0.2581\n",
      "Training Accuracy: 0.5068, Testing Accuracy: 0.5101\n",
      "\n"
     ]
    },
    {
     "name": "stdout",
     "output_type": "stream",
     "text": [
      "Epoch 10, Loss 0.1229\n",
      "Training Accuracy: 0.9044, Testing Accuracy: 0.9138\n",
      "\n"
     ]
    },
    {
     "name": "stdout",
     "output_type": "stream",
     "text": [
      "Epoch 20, Loss 0.0658\n",
      "Training Accuracy: 0.9347, Testing Accuracy: 0.9466\n",
      "\n"
     ]
    },
    {
     "name": "stdout",
     "output_type": "stream",
     "text": [
      "Epoch 30, Loss 0.0487\n",
      "Training Accuracy: 0.9474, Testing Accuracy: 0.9572\n",
      "\n"
     ]
    },
    {
     "name": "stdout",
     "output_type": "stream",
     "text": [
      "Epoch 40, Loss 0.041\n",
      "Training Accuracy: 0.9544, Testing Accuracy: 0.9617\n",
      "\n"
     ]
    },
    {
     "name": "stdout",
     "output_type": "stream",
     "text": [
      "Epoch 50, Loss 0.0367\n",
      "Training Accuracy: 0.9574, Testing Accuracy: 0.9632\n",
      "\n"
     ]
    },
    {
     "name": "stdout",
     "output_type": "stream",
     "text": [
      "Epoch 60, Loss 0.0339\n",
      "Training Accuracy: 0.9600, Testing Accuracy: 0.9642\n",
      "\n"
     ]
    },
    {
     "name": "stdout",
     "output_type": "stream",
     "text": [
      "Epoch 70, Loss 0.0319\n",
      "Training Accuracy: 0.9615, Testing Accuracy: 0.9652\n",
      "\n"
     ]
    },
    {
     "name": "stdout",
     "output_type": "stream",
     "text": [
      "Epoch 80, Loss 0.0303\n",
      "Training Accuracy: 0.9635, Testing Accuracy: 0.9677\n",
      "\n"
     ]
    },
    {
     "name": "stdout",
     "output_type": "stream",
     "text": [
      "Epoch 90, Loss 0.029\n",
      "Training Accuracy: 0.9651, Testing Accuracy: 0.9682\n",
      "\n"
     ]
    },
    {
     "name": "stdout",
     "output_type": "stream",
     "text": [
      "Epoch 100, Loss 0.028\n",
      "Training Accuracy: 0.9669, Testing Accuracy: 0.9682\n",
      "\n"
     ]
    },
    {
     "name": "stdout",
     "output_type": "stream",
     "text": [
      "Epoch 110, Loss 0.0271\n",
      "Training Accuracy: 0.9685, Testing Accuracy: 0.9667\n",
      "\n"
     ]
    },
    {
     "name": "stdout",
     "output_type": "stream",
     "text": [
      "Epoch 120, Loss 0.0263\n",
      "Training Accuracy: 0.9692, Testing Accuracy: 0.9672\n",
      "\n"
     ]
    },
    {
     "name": "stdout",
     "output_type": "stream",
     "text": [
      "Epoch 130, Loss 0.0256\n",
      "Training Accuracy: 0.9700, Testing Accuracy: 0.9672\n",
      "\n"
     ]
    },
    {
     "name": "stdout",
     "output_type": "stream",
     "text": [
      "Epoch 140, Loss 0.025\n",
      "Training Accuracy: 0.9705, Testing Accuracy: 0.9667\n",
      "\n"
     ]
    },
    {
     "name": "stdout",
     "output_type": "stream",
     "text": [
      "Epoch 150, Loss 0.0245\n",
      "Training Accuracy: 0.9707, Testing Accuracy: 0.9662\n",
      "\n"
     ]
    },
    {
     "name": "stdout",
     "output_type": "stream",
     "text": [
      "Epoch 160, Loss 0.024\n",
      "Training Accuracy: 0.9712, Testing Accuracy: 0.9662\n",
      "\n"
     ]
    },
    {
     "name": "stdout",
     "output_type": "stream",
     "text": [
      "Epoch 170, Loss 0.0235\n",
      "Training Accuracy: 0.9720, Testing Accuracy: 0.9672\n",
      "\n"
     ]
    },
    {
     "name": "stdout",
     "output_type": "stream",
     "text": [
      "Epoch 180, Loss 0.0231\n",
      "Training Accuracy: 0.9725, Testing Accuracy: 0.9672\n",
      "\n"
     ]
    },
    {
     "name": "stdout",
     "output_type": "stream",
     "text": [
      "Epoch 190, Loss 0.0227\n",
      "Training Accuracy: 0.9730, Testing Accuracy: 0.9672\n",
      "\n"
     ]
    },
    {
     "name": "stdout",
     "output_type": "stream",
     "text": [
      "Epoch 200, Loss 0.0223\n",
      "Training Accuracy: 0.9737, Testing Accuracy: 0.9677\n",
      "\n"
     ]
    },
    {
     "name": "stdout",
     "output_type": "stream",
     "text": [
      "Epoch 210, Loss 0.0219\n",
      "Training Accuracy: 0.9741, Testing Accuracy: 0.9693\n",
      "\n"
     ]
    },
    {
     "name": "stdout",
     "output_type": "stream",
     "text": [
      "Epoch 220, Loss 0.0216\n",
      "Training Accuracy: 0.9746, Testing Accuracy: 0.9688\n",
      "\n"
     ]
    },
    {
     "name": "stdout",
     "output_type": "stream",
     "text": [
      "Epoch 230, Loss 0.0213\n",
      "Training Accuracy: 0.9749, Testing Accuracy: 0.9703\n",
      "\n"
     ]
    },
    {
     "name": "stdout",
     "output_type": "stream",
     "text": [
      "Epoch 240, Loss 0.021\n",
      "Training Accuracy: 0.9753, Testing Accuracy: 0.9703\n",
      "\n"
     ]
    },
    {
     "data": {
      "text/plain": [
       "0.014111160654265688"
      ]
     },
     "execution_count": 22,
     "metadata": {},
     "output_type": "execute_result"
    }
   ],
   "source": [
    "nn_learner.train_loop(dl)"
   ]
  },
  {
   "cell_type": "code",
   "execution_count": 23,
   "id": "e0163366",
   "metadata": {
    "execution": {
     "iopub.execute_input": "2022-07-08T20:12:59.512760Z",
     "iopub.status.busy": "2022-07-08T20:12:59.511307Z",
     "iopub.status.idle": "2022-07-08T20:13:11.885847Z",
     "shell.execute_reply": "2022-07-08T20:13:11.886651Z"
    },
    "papermill": {
     "duration": 12.414475,
     "end_time": "2022-07-08T20:13:11.886786",
     "exception": false,
     "start_time": "2022-07-08T20:12:59.472311",
     "status": "completed"
    },
    "tags": []
   },
   "outputs": [
    {
     "name": "stdout",
     "output_type": "stream",
     "text": [
      "Epoch 0, Loss 0.2348\n",
      "Training Accuracy: 0.7338, Testing Accuracy: 0.7515\n",
      "\n"
     ]
    },
    {
     "name": "stdout",
     "output_type": "stream",
     "text": [
      "Epoch 10, Loss 0.1023\n",
      "Training Accuracy: 0.9104, Testing Accuracy: 0.9163\n",
      "\n"
     ]
    },
    {
     "name": "stdout",
     "output_type": "stream",
     "text": [
      "Epoch 20, Loss 0.0789\n",
      "Training Accuracy: 0.9292, Testing Accuracy: 0.9400\n",
      "\n"
     ]
    },
    {
     "name": "stdout",
     "output_type": "stream",
     "text": [
      "Epoch 30, Loss 0.0679\n",
      "Training Accuracy: 0.9364, Testing Accuracy: 0.9461\n",
      "\n"
     ]
    },
    {
     "name": "stdout",
     "output_type": "stream",
     "text": [
      "Epoch 40, Loss 0.0612\n",
      "Training Accuracy: 0.9435, Testing Accuracy: 0.9521\n",
      "\n"
     ]
    },
    {
     "name": "stdout",
     "output_type": "stream",
     "text": [
      "Epoch 50, Loss 0.0567\n",
      "Training Accuracy: 0.9469, Testing Accuracy: 0.9561\n",
      "\n"
     ]
    },
    {
     "name": "stdout",
     "output_type": "stream",
     "text": [
      "Epoch 60, Loss 0.0533\n",
      "Training Accuracy: 0.9491, Testing Accuracy: 0.9572\n",
      "\n"
     ]
    },
    {
     "name": "stdout",
     "output_type": "stream",
     "text": [
      "Epoch 70, Loss 0.0508\n",
      "Training Accuracy: 0.9510, Testing Accuracy: 0.9592\n",
      "\n"
     ]
    },
    {
     "name": "stdout",
     "output_type": "stream",
     "text": [
      "Epoch 80, Loss 0.0487\n",
      "Training Accuracy: 0.9522, Testing Accuracy: 0.9607\n",
      "\n"
     ]
    },
    {
     "name": "stdout",
     "output_type": "stream",
     "text": [
      "Epoch 90, Loss 0.0471\n",
      "Training Accuracy: 0.9536, Testing Accuracy: 0.9622\n",
      "\n"
     ]
    },
    {
     "name": "stdout",
     "output_type": "stream",
     "text": [
      "Epoch 100, Loss 0.0456\n",
      "Training Accuracy: 0.9550, Testing Accuracy: 0.9617\n",
      "\n"
     ]
    },
    {
     "name": "stdout",
     "output_type": "stream",
     "text": [
      "Epoch 110, Loss 0.0444\n",
      "Training Accuracy: 0.9562, Testing Accuracy: 0.9612\n",
      "\n"
     ]
    },
    {
     "name": "stdout",
     "output_type": "stream",
     "text": [
      "Epoch 120, Loss 0.0434\n",
      "Training Accuracy: 0.9567, Testing Accuracy: 0.9627\n",
      "\n"
     ]
    },
    {
     "name": "stdout",
     "output_type": "stream",
     "text": [
      "Epoch 130, Loss 0.0425\n",
      "Training Accuracy: 0.9569, Testing Accuracy: 0.9637\n",
      "\n"
     ]
    },
    {
     "name": "stdout",
     "output_type": "stream",
     "text": [
      "Epoch 140, Loss 0.0416\n",
      "Training Accuracy: 0.9570, Testing Accuracy: 0.9647\n",
      "\n"
     ]
    },
    {
     "name": "stdout",
     "output_type": "stream",
     "text": [
      "Epoch 150, Loss 0.0409\n",
      "Training Accuracy: 0.9573, Testing Accuracy: 0.9647\n",
      "\n"
     ]
    },
    {
     "name": "stdout",
     "output_type": "stream",
     "text": [
      "Epoch 160, Loss 0.0402\n",
      "Training Accuracy: 0.9574, Testing Accuracy: 0.9652\n",
      "\n"
     ]
    },
    {
     "name": "stdout",
     "output_type": "stream",
     "text": [
      "Epoch 170, Loss 0.0396\n",
      "Training Accuracy: 0.9575, Testing Accuracy: 0.9652\n",
      "\n"
     ]
    },
    {
     "name": "stdout",
     "output_type": "stream",
     "text": [
      "Epoch 180, Loss 0.0391\n",
      "Training Accuracy: 0.9577, Testing Accuracy: 0.9652\n",
      "\n"
     ]
    },
    {
     "name": "stdout",
     "output_type": "stream",
     "text": [
      "Epoch 190, Loss 0.0386\n",
      "Training Accuracy: 0.9577, Testing Accuracy: 0.9652\n",
      "\n"
     ]
    },
    {
     "name": "stdout",
     "output_type": "stream",
     "text": [
      "Epoch 200, Loss 0.0381\n",
      "Training Accuracy: 0.9586, Testing Accuracy: 0.9657\n",
      "\n"
     ]
    },
    {
     "name": "stdout",
     "output_type": "stream",
     "text": [
      "Epoch 210, Loss 0.0377\n",
      "Training Accuracy: 0.9590, Testing Accuracy: 0.9652\n",
      "\n"
     ]
    },
    {
     "name": "stdout",
     "output_type": "stream",
     "text": [
      "Epoch 220, Loss 0.0373\n",
      "Training Accuracy: 0.9594, Testing Accuracy: 0.9657\n",
      "\n"
     ]
    },
    {
     "name": "stdout",
     "output_type": "stream",
     "text": [
      "Epoch 230, Loss 0.0369\n",
      "Training Accuracy: 0.9600, Testing Accuracy: 0.9657\n",
      "\n"
     ]
    },
    {
     "name": "stdout",
     "output_type": "stream",
     "text": [
      "Epoch 240, Loss 0.0366\n",
      "Training Accuracy: 0.9603, Testing Accuracy: 0.9662\n",
      "\n"
     ]
    },
    {
     "data": {
      "text/plain": [
       "0.04856194498600684"
      ]
     },
     "execution_count": 23,
     "metadata": {},
     "output_type": "execute_result"
    }
   ],
   "source": [
    "lr_learner.train_loop(dl)"
   ]
  },
  {
   "cell_type": "code",
   "execution_count": 24,
   "id": "ca410940",
   "metadata": {
    "execution": {
     "iopub.execute_input": "2022-07-08T20:13:11.977894Z",
     "iopub.status.busy": "2022-07-08T20:13:11.977301Z",
     "iopub.status.idle": "2022-07-08T20:13:12.198268Z",
     "shell.execute_reply": "2022-07-08T20:13:12.198706Z"
    },
    "papermill": {
     "duration": 0.270813,
     "end_time": "2022-07-08T20:13:12.198834",
     "exception": false,
     "start_time": "2022-07-08T20:13:11.928021",
     "status": "completed"
    },
    "tags": []
   },
   "outputs": [
    {
     "data": {
      "text/plain": [
       "<matplotlib.legend.Legend at 0x7fe30aac0b00>"
      ]
     },
     "execution_count": 24,
     "metadata": {},
     "output_type": "execute_result"
    },
    {
     "data": {
      "image/png": "[encoded data removed]",
      "text/plain": [
       "<Figure size 1080x720 with 1 Axes>"
      ]
     },
     "metadata": {
      "needs_background": "light"
     },
     "output_type": "display_data"
    }
   ],
   "source": [
    "#comparing the results of NN and LR\n",
    "plt.figure(figsize=(15,10))\n",
    "\n",
    "# Neural Network plots\n",
    "plt.plot(acc_nn.accuracies, 'r-', label = \"Training Accuracies - NN\")\n",
    "plt.plot(acc_nn.test_accuracies, 'g-', label = \"Testing Accuracies - NN\")\n",
    "\n",
    "# Logistic Regression plots\n",
    "plt.plot(acc_lr.accuracies, 'k-', label = \"Training Accuracies - LR\")\n",
    "plt.plot(acc_lr.test_accuracies, 'b-', label = \"Testing Accuracies - LR\")\n",
    "plt.legend()"
   ]
  },
  {
   "cell_type": "markdown",
   "id": "80dfb35c",
   "metadata": {
    "papermill": {
     "duration": 0.041974,
     "end_time": "2022-07-08T20:13:12.283046",
     "exception": false,
     "start_time": "2022-07-08T20:13:12.241072",
     "status": "completed"
    },
    "tags": []
   },
   "source": [
    "#### Plotting the outputs of this layer of the NN.\n"
   ]
  },
  {
   "cell_type": "code",
   "execution_count": 25,
   "id": "45eb2ff5",
   "metadata": {
    "execution": {
     "iopub.execute_input": "2022-07-08T20:13:12.374409Z",
     "iopub.status.busy": "2022-07-08T20:13:12.371730Z",
     "iopub.status.idle": "2022-07-08T20:13:12.408010Z",
     "shell.execute_reply": "2022-07-08T20:13:12.408834Z"
    },
    "papermill": {
     "duration": 0.083938,
     "end_time": "2022-07-08T20:13:12.408983",
     "exception": false,
     "start_time": "2022-07-08T20:13:12.325045",
     "status": "completed"
    },
    "tags": []
   },
   "outputs": [],
   "source": [
    "new_model = Model(layers[:-2])\n",
    "testing_plot = new_model(testing_data_x)"
   ]
  },
  {
   "cell_type": "code",
   "execution_count": 26,
   "id": "4c0a5485",
   "metadata": {
    "execution": {
     "iopub.execute_input": "2022-07-08T20:13:12.501500Z",
     "iopub.status.busy": "2022-07-08T20:13:12.500935Z",
     "iopub.status.idle": "2022-07-08T20:13:12.706694Z",
     "shell.execute_reply": "2022-07-08T20:13:12.706225Z"
    },
    "papermill": {
     "duration": 0.255009,
     "end_time": "2022-07-08T20:13:12.706804",
     "exception": false,
     "start_time": "2022-07-08T20:13:12.451795",
     "status": "completed"
    },
    "tags": []
   },
   "outputs": [
    {
     "data": {
      "text/plain": [
       "Text(0.5, 1.0, 'Outputs')"
      ]
     },
     "execution_count": 26,
     "metadata": {},
     "output_type": "execute_result"
    },
    {
     "data": {
      "image/png": "[encoded data removed]",
      "text/plain": [
       "<Figure size 576x504 with 1 Axes>"
      ]
     },
     "metadata": {
      "needs_background": "light"
     },
     "output_type": "display_data"
    }
   ],
   "source": [
    "# Plotting the scatter plot of points and color coding by class\n",
    "plt.figure(figsize=(8,7))\n",
    "plt.scatter(testing_plot[:,0], testing_plot[:,1], alpha = 0.1, c = y_test.ravel());\n",
    "plt.title('Outputs')"
   ]
  },
  {
   "cell_type": "markdown",
   "id": "a74fcf8f",
   "metadata": {
    "papermill": {
     "duration": 0.044389,
     "end_time": "2022-07-08T20:13:12.795864",
     "exception": false,
     "start_time": "2022-07-08T20:13:12.751475",
     "status": "completed"
    },
    "tags": []
   },
   "source": [
    "Probability contours"
   ]
  },
  {
   "cell_type": "code",
   "execution_count": 27,
   "id": "d0afc8e3",
   "metadata": {
    "execution": {
     "iopub.execute_input": "2022-07-08T20:13:12.917226Z",
     "iopub.status.busy": "2022-07-08T20:13:12.911563Z",
     "iopub.status.idle": "2022-07-08T20:13:12.923026Z",
     "shell.execute_reply": "2022-07-08T20:13:12.923443Z"
    },
    "papermill": {
     "duration": 0.083067,
     "end_time": "2022-07-08T20:13:12.923574",
     "exception": false,
     "start_time": "2022-07-08T20:13:12.840507",
     "status": "completed"
    },
    "tags": []
   },
   "outputs": [],
   "source": [
    "model_prob = Model(layers[-2:]) "
   ]
  },
  {
   "cell_type": "code",
   "execution_count": 28,
   "id": "9b96e238",
   "metadata": {
    "execution": {
     "iopub.execute_input": "2022-07-08T20:13:13.024108Z",
     "iopub.status.busy": "2022-07-08T20:13:13.023537Z",
     "iopub.status.idle": "2022-07-08T20:13:13.036277Z",
     "shell.execute_reply": "2022-07-08T20:13:13.036720Z"
    },
    "papermill": {
     "duration": 0.065136,
     "end_time": "2022-07-08T20:13:13.036856",
     "exception": false,
     "start_time": "2022-07-08T20:13:12.971720",
     "status": "completed"
    },
    "tags": []
   },
   "outputs": [],
   "source": [
    "#creating the x and y ranges according to the above generated plot.\n",
    "x_range = np.linspace(-4, 1, 100) \n",
    "y_range = np.linspace(-6, 6, 100) \n",
    "x_grid, y_grid = np.meshgrid(x_range, y_range) # x_grid and y_grig are of size 100 X 100\n",
    "\n",
    "# converting x_grid and y_grid to continuous arrays\n",
    "x_gridflat = np.ravel(x_grid)\n",
    "y_gridflat = np.ravel(y_grid)\n",
    "\n",
    "# The last layer of the current model takes two columns as input. Hence transpose of np.vstack() is required.\n",
    "X = np.vstack((x_gridflat, y_gridflat)).T\n",
    "\n",
    "prob_contour = model_prob(X).reshape(100,100) "
   ]
  },
  {
   "cell_type": "code",
   "execution_count": 29,
   "id": "da72499a",
   "metadata": {
    "execution": {
     "iopub.execute_input": "2022-07-08T20:13:13.130850Z",
     "iopub.status.busy": "2022-07-08T20:13:13.130273Z",
     "iopub.status.idle": "2022-07-08T20:13:13.374487Z",
     "shell.execute_reply": "2022-07-08T20:13:13.375032Z"
    },
    "papermill": {
     "duration": 0.293405,
     "end_time": "2022-07-08T20:13:13.375162",
     "exception": false,
     "start_time": "2022-07-08T20:13:13.081757",
     "status": "completed"
    },
    "tags": []
   },
   "outputs": [
    {
     "data": {
      "image/png": "[encoded data removed]",
      "text/plain": [
       "<Figure size 720x648 with 1 Axes>"
      ]
     },
     "metadata": {
      "needs_background": "light"
     },
     "output_type": "display_data"
    }
   ],
   "source": [
    "plt.figure(figsize=(10,9))\n",
    "plt.scatter(testing_plot[:,0], testing_plot[:,1], alpha = 0.1, c = y_test.ravel())\n",
    "contours = plt.contour(x_grid,y_grid,prob_contour)\n",
    "plt.title('Probability Contours')\n",
    "plt.clabel(contours, inline = True );"
   ]
  },
  {
   "cell_type": "code",
   "execution_count": null,
   "id": "e81b4ac7",
   "metadata": {
    "papermill": {
     "duration": 0.047108,
     "end_time": "2022-07-08T20:13:13.469747",
     "exception": false,
     "start_time": "2022-07-08T20:13:13.422639",
     "status": "completed"
    },
    "tags": []
   },
   "outputs": [],
   "source": []
  }
 ],
 "metadata": {
  "kernelspec": {
   "display_name": "Python 3",
   "language": "python",
   "name": "python3"
  },
  "language_info": {
   "codemirror_mode": {
    "name": "ipython",
    "version": 3
   },
   "file_extension": ".py",
   "mimetype": "text/x-python",
   "name": "python",
   "nbconvert_exporter": "python",
   "pygments_lexer": "ipython3",
   "version": "3.6.15"
  },
  "papermill": {
   "default_parameters": {},
   "duration": 199.250787,
   "end_time": "2022-07-08T20:13:13.834526",
   "environment_variables": {},
   "exception": null,
   "input_path": "2020-08-11-part2.ipynb",
   "output_path": "2020-08-11-part2.ipynb",
   "parameters": {},
   "start_time": "2022-07-08T20:09:54.583739",
   "version": "2.3.3"
  }
 },
 "nbformat": 4,
 "nbformat_minor": 5
}