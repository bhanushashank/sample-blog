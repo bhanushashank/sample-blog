{
 "cells": [
  {
   "cell_type": "markdown",
   "id": "98380cd3",
   "metadata": {
    "papermill": {
     "duration": 0.029499,
     "end_time": "2022-11-24T10:10:39.201436",
     "exception": false,
     "start_time": "2022-11-24T10:10:39.171937",
     "status": "completed"
    },
    "tags": []
   },
   "source": [
    "# Distinguish Your Own Digits (DYOD)"
   ]
  },
  {
   "cell_type": "markdown",
   "id": "ef31240d",
   "metadata": {
    "papermill": {
     "duration": 0.02402,
     "end_time": "2022-11-24T10:10:39.249963",
     "exception": false,
     "start_time": "2022-11-24T10:10:39.225943",
     "status": "completed"
    },
    "tags": []
   },
   "source": [
    "You are going to write a classifier that distinguishes between the number 3 and number 8."
   ]
  },
  {
   "cell_type": "code",
   "execution_count": 1,
   "id": "b15c8646",
   "metadata": {
    "execution": {
     "iopub.execute_input": "2022-11-24T10:10:39.309077Z",
     "iopub.status.busy": "2022-11-24T10:10:39.308475Z",
     "iopub.status.idle": "2022-11-24T10:10:39.319307Z",
     "shell.execute_reply": "2022-11-24T10:10:39.318808Z"
    },
    "papermill": {
     "duration": 0.045651,
     "end_time": "2022-11-24T10:10:39.319443",
     "exception": false,
     "start_time": "2022-11-24T10:10:39.273792",
     "status": "completed"
    },
    "tags": []
   },
   "outputs": [],
   "source": [
    "%load_ext autoreload\n",
    "%autoreload 2"
   ]
  },
  {
   "cell_type": "code",
   "execution_count": 2,
   "id": "22ef38dc",
   "metadata": {
    "execution": {
     "iopub.execute_input": "2022-11-24T10:10:39.371750Z",
     "iopub.status.busy": "2022-11-24T10:10:39.371102Z",
     "iopub.status.idle": "2022-11-24T10:10:39.904427Z",
     "shell.execute_reply": "2022-11-24T10:10:39.903860Z"
    },
    "papermill": {
     "duration": 0.561126,
     "end_time": "2022-11-24T10:10:39.904569",
     "exception": false,
     "start_time": "2022-11-24T10:10:39.343443",
     "status": "completed"
    },
    "tags": []
   },
   "outputs": [],
   "source": [
    "%matplotlib inline\n",
    "import numpy as np\n",
    "import matplotlib.pyplot as plt\n",
    "import pandas as pd"
   ]
  },
  {
   "cell_type": "markdown",
   "id": "ba036198",
   "metadata": {
    "papermill": {
     "duration": 0.023892,
     "end_time": "2022-11-24T10:10:39.952574",
     "exception": false,
     "start_time": "2022-11-24T10:10:39.928682",
     "status": "completed"
    },
    "tags": []
   },
   "source": [
    "From the command line run `pip install mnist`. This is a library that will help you bring down the mnist dataset. If you run this from a notebook, you need to put  `!pip install mnist` in a cell by itself."
   ]
  },
  {
   "cell_type": "code",
   "execution_count": 3,
   "id": "bb6ad8a1",
   "metadata": {
    "execution": {
     "iopub.execute_input": "2022-11-24T10:10:40.004740Z",
     "iopub.status.busy": "2022-11-24T10:10:40.004151Z",
     "iopub.status.idle": "2022-11-24T10:10:42.423061Z",
     "shell.execute_reply": "2022-11-24T10:10:42.423630Z"
    },
    "papermill": {
     "duration": 2.447327,
     "end_time": "2022-11-24T10:10:42.423802",
     "exception": false,
     "start_time": "2022-11-24T10:10:39.976475",
     "status": "completed"
    },
    "tags": []
   },
   "outputs": [
    {
     "name": "stdout",
     "output_type": "stream",
     "text": [
      "Collecting mnist\r\n",
      "  Downloading mnist-0.2.2-py2.py3-none-any.whl (3.5 kB)\r\n",
      "Requirement already satisfied: numpy in /opt/hostedtoolcache/Python/3.6.15/x64/lib/python3.6/site-packages (from mnist) (1.19.5)\r\n"
     ]
    },
    {
     "name": "stdout",
     "output_type": "stream",
     "text": [
      "Installing collected packages: mnist\r\n"
     ]
    },
    {
     "name": "stdout",
     "output_type": "stream",
     "text": [
      "Successfully installed mnist-0.2.2\r\n"
     ]
    }
   ],
   "source": [
    "!pip install mnist"
   ]
  },
  {
   "cell_type": "markdown",
   "id": "69df9c9a",
   "metadata": {
    "papermill": {
     "duration": 0.024673,
     "end_time": "2022-11-24T10:10:42.473918",
     "exception": false,
     "start_time": "2022-11-24T10:10:42.449245",
     "status": "completed"
    },
    "tags": []
   },
   "source": [
    "## Preparing the Data"
   ]
  },
  {
   "cell_type": "code",
   "execution_count": 4,
   "id": "7f69d806",
   "metadata": {
    "execution": {
     "iopub.execute_input": "2022-11-24T10:10:42.527387Z",
     "iopub.status.busy": "2022-11-24T10:10:42.526776Z",
     "iopub.status.idle": "2022-11-24T10:10:42.541331Z",
     "shell.execute_reply": "2022-11-24T10:10:42.540749Z"
    },
    "papermill": {
     "duration": 0.042965,
     "end_time": "2022-11-24T10:10:42.541439",
     "exception": false,
     "start_time": "2022-11-24T10:10:42.498474",
     "status": "completed"
    },
    "tags": []
   },
   "outputs": [],
   "source": [
    "import mnist"
   ]
  },
  {
   "cell_type": "code",
   "execution_count": 5,
   "id": "a411e44f",
   "metadata": {
    "execution": {
     "iopub.execute_input": "2022-11-24T10:10:42.597464Z",
     "iopub.status.busy": "2022-11-24T10:10:42.596878Z",
     "iopub.status.idle": "2022-11-24T10:10:43.097203Z",
     "shell.execute_reply": "2022-11-24T10:10:43.096609Z"
    },
    "papermill": {
     "duration": 0.531193,
     "end_time": "2022-11-24T10:10:43.097336",
     "exception": false,
     "start_time": "2022-11-24T10:10:42.566143",
     "status": "completed"
    },
    "tags": []
   },
   "outputs": [],
   "source": [
    "train_images = mnist.train_images()\n",
    "train_labels = mnist.train_labels()"
   ]
  },
  {
   "cell_type": "code",
   "execution_count": 6,
   "id": "dceab3a5",
   "metadata": {
    "execution": {
     "iopub.execute_input": "2022-11-24T10:10:43.157060Z",
     "iopub.status.busy": "2022-11-24T10:10:43.153441Z",
     "iopub.status.idle": "2022-11-24T10:10:43.168284Z",
     "shell.execute_reply": "2022-11-24T10:10:43.167802Z"
    },
    "papermill": {
     "duration": 0.045697,
     "end_time": "2022-11-24T10:10:43.168400",
     "exception": false,
     "start_time": "2022-11-24T10:10:43.122703",
     "status": "completed"
    },
    "tags": []
   },
   "outputs": [
    {
     "data": {
      "text/plain": [
       "((60000, 28, 28), (60000,))"
      ]
     },
     "execution_count": 6,
     "metadata": {},
     "output_type": "execute_result"
    }
   ],
   "source": [
    "train_images.shape, train_labels.shape"
   ]
  },
  {
   "cell_type": "code",
   "execution_count": 7,
   "id": "f50dc2bb",
   "metadata": {
    "execution": {
     "iopub.execute_input": "2022-11-24T10:10:43.220950Z",
     "iopub.status.busy": "2022-11-24T10:10:43.220388Z",
     "iopub.status.idle": "2022-11-24T10:10:43.322670Z",
     "shell.execute_reply": "2022-11-24T10:10:43.322100Z"
    },
    "papermill": {
     "duration": 0.129482,
     "end_time": "2022-11-24T10:10:43.322813",
     "exception": false,
     "start_time": "2022-11-24T10:10:43.193331",
     "status": "completed"
    },
    "tags": []
   },
   "outputs": [],
   "source": [
    "test_images = mnist.test_images()\n",
    "test_labels = mnist.test_labels()"
   ]
  },
  {
   "cell_type": "code",
   "execution_count": 8,
   "id": "fc38cf1b",
   "metadata": {
    "execution": {
     "iopub.execute_input": "2022-11-24T10:10:43.377869Z",
     "iopub.status.busy": "2022-11-24T10:10:43.377292Z",
     "iopub.status.idle": "2022-11-24T10:10:43.390966Z",
     "shell.execute_reply": "2022-11-24T10:10:43.391412Z"
    },
    "papermill": {
     "duration": 0.043339,
     "end_time": "2022-11-24T10:10:43.391548",
     "exception": false,
     "start_time": "2022-11-24T10:10:43.348209",
     "status": "completed"
    },
    "tags": []
   },
   "outputs": [
    {
     "data": {
      "text/plain": [
       "((10000, 28, 28), (10000,))"
      ]
     },
     "execution_count": 8,
     "metadata": {},
     "output_type": "execute_result"
    }
   ],
   "source": [
    "test_images.shape, test_labels.shape"
   ]
  },
  {
   "cell_type": "code",
   "execution_count": 9,
   "id": "f9ed8fe0",
   "metadata": {
    "execution": {
     "iopub.execute_input": "2022-11-24T10:10:43.445186Z",
     "iopub.status.busy": "2022-11-24T10:10:43.444620Z",
     "iopub.status.idle": "2022-11-24T10:10:43.579690Z",
     "shell.execute_reply": "2022-11-24T10:10:43.580143Z"
    },
    "papermill": {
     "duration": 0.163632,
     "end_time": "2022-11-24T10:10:43.580280",
     "exception": false,
     "start_time": "2022-11-24T10:10:43.416648",
     "status": "completed"
    },
    "tags": []
   },
   "outputs": [
    {
     "name": "stdout",
     "output_type": "stream",
     "text": [
      "2\n"
     ]
    },
    {
     "data": {
      "text/plain": [
       "<matplotlib.image.AxesImage at 0x7f2fc6185dd8>"
      ]
     },
     "execution_count": 9,
     "metadata": {},
     "output_type": "execute_result"
    },
    {
     "data": {
      "image/png": "[encoded data removed]",
      "text/plain": [
       "<Figure size 432x288 with 1 Axes>"
      ]
     },
     "metadata": {
      "needs_background": "light"
     },
     "output_type": "display_data"
    }
   ],
   "source": [
    "image_index = 7776 # You may select anything up to 60,000\n",
    "print(train_labels[image_index]) \n",
    "plt.imshow(train_images[image_index], cmap='Greys')"
   ]
  },
  {
   "cell_type": "markdown",
   "id": "a8d2388d",
   "metadata": {
    "papermill": {
     "duration": 0.026364,
     "end_time": "2022-11-24T10:10:43.633064",
     "exception": false,
     "start_time": "2022-11-24T10:10:43.606700",
     "status": "completed"
    },
    "tags": []
   },
   "source": [
    "## Filter data to get 3 and 8 out"
   ]
  },
  {
   "cell_type": "code",
   "execution_count": 10,
   "id": "776f7fc7",
   "metadata": {
    "execution": {
     "iopub.execute_input": "2022-11-24T10:10:43.689623Z",
     "iopub.status.busy": "2022-11-24T10:10:43.689029Z",
     "iopub.status.idle": "2022-11-24T10:10:43.704127Z",
     "shell.execute_reply": "2022-11-24T10:10:43.704608Z"
    },
    "papermill": {
     "duration": 0.045564,
     "end_time": "2022-11-24T10:10:43.704739",
     "exception": false,
     "start_time": "2022-11-24T10:10:43.659175",
     "status": "completed"
    },
    "tags": []
   },
   "outputs": [],
   "source": [
    "train_filter = np.where((train_labels == 3 ) | (train_labels == 8))\n",
    "test_filter = np.where((test_labels == 3) | (test_labels == 8))\n",
    "X_train, y_train = train_images[train_filter], train_labels[train_filter]\n",
    "X_test, y_test = test_images[test_filter], test_labels[test_filter]"
   ]
  },
  {
   "cell_type": "markdown",
   "id": "948f0b7e",
   "metadata": {
    "papermill": {
     "duration": 0.026066,
     "end_time": "2022-11-24T10:10:43.756980",
     "exception": false,
     "start_time": "2022-11-24T10:10:43.730914",
     "status": "completed"
    },
    "tags": []
   },
   "source": [
    "We normalize the pizel values in the 0 to 1 range"
   ]
  },
  {
   "cell_type": "code",
   "execution_count": 11,
   "id": "ee4c2166",
   "metadata": {
    "execution": {
     "iopub.execute_input": "2022-11-24T10:10:43.812833Z",
     "iopub.status.busy": "2022-11-24T10:10:43.812171Z",
     "iopub.status.idle": "2022-11-24T10:10:43.859398Z",
     "shell.execute_reply": "2022-11-24T10:10:43.858785Z"
    },
    "papermill": {
     "duration": 0.076625,
     "end_time": "2022-11-24T10:10:43.859540",
     "exception": false,
     "start_time": "2022-11-24T10:10:43.782915",
     "status": "completed"
    },
    "tags": []
   },
   "outputs": [],
   "source": [
    "X_train = X_train/255.\n",
    "X_test = X_test/255."
   ]
  },
  {
   "cell_type": "markdown",
   "id": "ddcf4fab",
   "metadata": {
    "papermill": {
     "duration": 0.026274,
     "end_time": "2022-11-24T10:10:43.912834",
     "exception": false,
     "start_time": "2022-11-24T10:10:43.886560",
     "status": "completed"
    },
    "tags": []
   },
   "source": [
    "And setup the labels as 1 (when the digit is 3) and 0 (when the digit is 8)"
   ]
  },
  {
   "cell_type": "code",
   "execution_count": 12,
   "id": "7dc908f2",
   "metadata": {
    "execution": {
     "iopub.execute_input": "2022-11-24T10:10:43.969564Z",
     "iopub.status.busy": "2022-11-24T10:10:43.968973Z",
     "iopub.status.idle": "2022-11-24T10:10:43.981915Z",
     "shell.execute_reply": "2022-11-24T10:10:43.981432Z"
    },
    "papermill": {
     "duration": 0.042796,
     "end_time": "2022-11-24T10:10:43.982030",
     "exception": false,
     "start_time": "2022-11-24T10:10:43.939234",
     "status": "completed"
    },
    "tags": []
   },
   "outputs": [],
   "source": [
    "y_train = 1*(y_train==3)\n",
    "y_test = 1*(y_test==3)"
   ]
  },
  {
   "cell_type": "code",
   "execution_count": 13,
   "id": "01e4e969",
   "metadata": {
    "execution": {
     "iopub.execute_input": "2022-11-24T10:10:44.037403Z",
     "iopub.status.busy": "2022-11-24T10:10:44.036809Z",
     "iopub.status.idle": "2022-11-24T10:10:44.051587Z",
     "shell.execute_reply": "2022-11-24T10:10:44.052040Z"
    },
    "papermill": {
     "duration": 0.043916,
     "end_time": "2022-11-24T10:10:44.052168",
     "exception": false,
     "start_time": "2022-11-24T10:10:44.008252",
     "status": "completed"
    },
    "tags": []
   },
   "outputs": [
    {
     "data": {
      "text/plain": [
       "((11982, 28, 28), (1984, 28, 28))"
      ]
     },
     "execution_count": 13,
     "metadata": {},
     "output_type": "execute_result"
    }
   ],
   "source": [
    "X_train.shape, X_test.shape"
   ]
  },
  {
   "cell_type": "markdown",
   "id": "5ccf3f85",
   "metadata": {
    "papermill": {
     "duration": 0.026365,
     "end_time": "2022-11-24T10:10:44.104859",
     "exception": false,
     "start_time": "2022-11-24T10:10:44.078494",
     "status": "completed"
    },
    "tags": []
   },
   "source": [
    "We reshape the data to flatten the image pixels into a set of features or co-variates:"
   ]
  },
  {
   "cell_type": "code",
   "execution_count": 14,
   "id": "5286a4a3",
   "metadata": {
    "execution": {
     "iopub.execute_input": "2022-11-24T10:10:44.161706Z",
     "iopub.status.busy": "2022-11-24T10:10:44.161122Z",
     "iopub.status.idle": "2022-11-24T10:10:44.175326Z",
     "shell.execute_reply": "2022-11-24T10:10:44.175785Z"
    },
    "papermill": {
     "duration": 0.044646,
     "end_time": "2022-11-24T10:10:44.175913",
     "exception": false,
     "start_time": "2022-11-24T10:10:44.131267",
     "status": "completed"
    },
    "tags": []
   },
   "outputs": [
    {
     "data": {
      "text/plain": [
       "((11982, 784), (1984, 784))"
      ]
     },
     "execution_count": 14,
     "metadata": {},
     "output_type": "execute_result"
    }
   ],
   "source": [
    "X_train = X_train.reshape(X_train.shape[0], -1)\n",
    "X_test = X_test.reshape(X_test.shape[0], -1)\n",
    "X_train.shape, X_test.shape"
   ]
  },
  {
   "cell_type": "code",
   "execution_count": 15,
   "id": "73c5f88a",
   "metadata": {
    "execution": {
     "iopub.execute_input": "2022-11-24T10:10:44.233778Z",
     "iopub.status.busy": "2022-11-24T10:10:44.233202Z",
     "iopub.status.idle": "2022-11-24T10:10:44.251730Z",
     "shell.execute_reply": "2022-11-24T10:10:44.251191Z"
    },
    "papermill": {
     "duration": 0.049352,
     "end_time": "2022-11-24T10:10:44.251844",
     "exception": false,
     "start_time": "2022-11-24T10:10:44.202492",
     "status": "completed"
    },
    "tags": []
   },
   "outputs": [],
   "source": [
    "#Impoting functions from 'Kudzu'\n",
    "from kudzu.model import Model\n",
    "from kudzu.train import Learner\n",
    "from kudzu.optim import GD\n",
    "from kudzu.data import Data, Sampler,Dataloader\n",
    "\n",
    "from kudzu.callbacks import AccCallback\n",
    "from kudzu.callbacks import ClfCallback\n",
    "\n",
    "from kudzu.loss import MSE\n",
    "\n",
    "from kudzu.layer import Sigmoid,Relu\n",
    "from kudzu.layer import Affine"
   ]
  },
  {
   "cell_type": "markdown",
   "id": "bc01172a",
   "metadata": {
    "papermill": {
     "duration": 0.026515,
     "end_time": "2022-11-24T10:10:44.305257",
     "exception": false,
     "start_time": "2022-11-24T10:10:44.278742",
     "status": "completed"
    },
    "tags": []
   },
   "source": [
    "### Let us create a `Config` class, to store important parameters. \n",
    "This class essentially plays the role of a dictionary."
   ]
  },
  {
   "cell_type": "code",
   "execution_count": 16,
   "id": "978281aa",
   "metadata": {
    "execution": {
     "iopub.execute_input": "2022-11-24T10:10:44.362255Z",
     "iopub.status.busy": "2022-11-24T10:10:44.361669Z",
     "iopub.status.idle": "2022-11-24T10:10:44.374089Z",
     "shell.execute_reply": "2022-11-24T10:10:44.373614Z"
    },
    "papermill": {
     "duration": 0.042489,
     "end_time": "2022-11-24T10:10:44.374199",
     "exception": false,
     "start_time": "2022-11-24T10:10:44.331710",
     "status": "completed"
    },
    "tags": []
   },
   "outputs": [],
   "source": [
    "class Config:\n",
    "    pass\n",
    "config = Config()\n",
    "config.lr = 0.001\n",
    "config.num_epochs = 250\n",
    "config.bs = 50"
   ]
  },
  {
   "cell_type": "markdown",
   "id": "1385fa59",
   "metadata": {
    "papermill": {
     "duration": 0.026535,
     "end_time": "2022-11-24T10:10:44.427425",
     "exception": false,
     "start_time": "2022-11-24T10:10:44.400890",
     "status": "completed"
    },
    "tags": []
   },
   "source": [
    "### Running Models with the Training data\n",
    "Details about the network layers:\n",
    "- A first affine layer has 784 inputs and does 100 affine transforms. These are followed by a Relu\n",
    "- A second affine layer has 100 inputs from the 100 activations of the past layer, and does 100 affine transforms. These are followed by a Relu\n",
    "- A third affine layer has 100 activations and does 2 affine transformations to create an embedding for visualization. There is no non-linearity here.\n",
    "- A final \"logistic regression\" which has an affine transform from 2 inputs to 1 output, which is squeezed through a sigmoid.\n"
   ]
  },
  {
   "cell_type": "code",
   "execution_count": 17,
   "id": "2b9c66db",
   "metadata": {
    "execution": {
     "iopub.execute_input": "2022-11-24T10:10:44.484560Z",
     "iopub.status.busy": "2022-11-24T10:10:44.483971Z",
     "iopub.status.idle": "2022-11-24T10:10:44.495813Z",
     "shell.execute_reply": "2022-11-24T10:10:44.496364Z"
    },
    "papermill": {
     "duration": 0.042518,
     "end_time": "2022-11-24T10:10:44.496485",
     "exception": false,
     "start_time": "2022-11-24T10:10:44.453967",
     "status": "completed"
    },
    "tags": []
   },
   "outputs": [],
   "source": [
    "data = Data(X_train, y_train.reshape(-1,1))\n",
    "sampler = Sampler(data, config.bs, shuffle=True)\n",
    "\n",
    "dl = Dataloader(data, sampler)\n",
    "\n",
    "opt = GD(config.lr)\n",
    "loss = MSE()"
   ]
  },
  {
   "cell_type": "code",
   "execution_count": 18,
   "id": "b275e4c2",
   "metadata": {
    "execution": {
     "iopub.execute_input": "2022-11-24T10:10:44.556634Z",
     "iopub.status.busy": "2022-11-24T10:10:44.556066Z",
     "iopub.status.idle": "2022-11-24T10:10:44.565815Z",
     "shell.execute_reply": "2022-11-24T10:10:44.565347Z"
    },
    "papermill": {
     "duration": 0.042866,
     "end_time": "2022-11-24T10:10:44.565919",
     "exception": false,
     "start_time": "2022-11-24T10:10:44.523053",
     "status": "completed"
    },
    "tags": []
   },
   "outputs": [],
   "source": [
    "training_data_x = X_train\n",
    "testing_data_x = X_test\n",
    "training_data_y = y_train.reshape(-1,1)\n",
    "testing_data_y = y_test.reshape(-1,1)"
   ]
  },
  {
   "cell_type": "code",
   "execution_count": 19,
   "id": "76951160",
   "metadata": {
    "execution": {
     "iopub.execute_input": "2022-11-24T10:10:44.623326Z",
     "iopub.status.busy": "2022-11-24T10:10:44.622716Z",
     "iopub.status.idle": "2022-11-24T10:10:44.638820Z",
     "shell.execute_reply": "2022-11-24T10:10:44.638350Z"
    },
    "papermill": {
     "duration": 0.046548,
     "end_time": "2022-11-24T10:10:44.638926",
     "exception": false,
     "start_time": "2022-11-24T10:10:44.592378",
     "status": "completed"
    },
    "tags": []
   },
   "outputs": [
    {
     "name": "stdout",
     "output_type": "stream",
     "text": [
      "xavier\n",
      "xavier\n",
      "xavier\n",
      "xavier\n",
      "xavier\n"
     ]
    }
   ],
   "source": [
    "layers = [Affine(\"first\", 784, 100), Relu(\"first\"), Affine(\"second\", 100, 100), Relu(\"second\"), Affine(\"third\", 100, 2), Affine(\"last\", 2, 1), Sigmoid(\"last\")]\n",
    "model_nn = Model(layers)\n",
    "model_lr = Model([Affine(\"logits\", 784, 1), Sigmoid(\"sigmoid\")])"
   ]
  },
  {
   "cell_type": "code",
   "execution_count": 20,
   "id": "6eede77a",
   "metadata": {
    "execution": {
     "iopub.execute_input": "2022-11-24T10:10:44.696530Z",
     "iopub.status.busy": "2022-11-24T10:10:44.695964Z",
     "iopub.status.idle": "2022-11-24T10:10:44.707487Z",
     "shell.execute_reply": "2022-11-24T10:10:44.707938Z"
    },
    "papermill": {
     "duration": 0.042173,
     "end_time": "2022-11-24T10:10:44.708056",
     "exception": false,
     "start_time": "2022-11-24T10:10:44.665883",
     "status": "completed"
    },
    "tags": []
   },
   "outputs": [],
   "source": [
    "nn_learner = Learner(loss, model_nn, opt, config.num_epochs)\n",
    "acc_nn = ClfCallback(nn_learner, config.bs, training_data_x , testing_data_x, training_data_y, testing_data_y)\n",
    "nn_learner.set_callbacks([acc_nn])"
   ]
  },
  {
   "cell_type": "code",
   "execution_count": 21,
   "id": "877b6cc7",
   "metadata": {
    "execution": {
     "iopub.execute_input": "2022-11-24T10:10:44.767882Z",
     "iopub.status.busy": "2022-11-24T10:10:44.767292Z",
     "iopub.status.idle": "2022-11-24T10:10:44.777726Z",
     "shell.execute_reply": "2022-11-24T10:10:44.777256Z"
    },
    "papermill": {
     "duration": 0.043016,
     "end_time": "2022-11-24T10:10:44.777832",
     "exception": false,
     "start_time": "2022-11-24T10:10:44.734816",
     "status": "completed"
    },
    "tags": []
   },
   "outputs": [],
   "source": [
    "lr_learner = Learner(loss, model_lr, opt, config.num_epochs)\n",
    "acc_lr = ClfCallback(lr_learner, config.bs, training_data_x , testing_data_x, training_data_y, testing_data_y)\n",
    "lr_learner.set_callbacks([acc_lr])"
   ]
  },
  {
   "cell_type": "code",
   "execution_count": 22,
   "id": "d9b133c3",
   "metadata": {
    "execution": {
     "iopub.execute_input": "2022-11-24T10:10:44.835158Z",
     "iopub.status.busy": "2022-11-24T10:10:44.834591Z",
     "iopub.status.idle": "2022-11-24T10:11:58.075108Z",
     "shell.execute_reply": "2022-11-24T10:11:58.075703Z"
    },
    "papermill": {
     "duration": 73.270972,
     "end_time": "2022-11-24T10:11:58.075845",
     "exception": false,
     "start_time": "2022-11-24T10:10:44.804873",
     "status": "completed"
    },
    "tags": []
   },
   "outputs": [
    {
     "name": "stdout",
     "output_type": "stream",
     "text": [
      "Epoch 0, Loss 0.2582\n",
      "Training Accuracy: 0.4951, Testing Accuracy: 0.4768\n",
      "\n"
     ]
    },
    {
     "name": "stdout",
     "output_type": "stream",
     "text": [
      "Epoch 10, Loss 0.1384\n",
      "Training Accuracy: 0.8922, Testing Accuracy: 0.9032\n",
      "\n"
     ]
    },
    {
     "name": "stdout",
     "output_type": "stream",
     "text": [
      "Epoch 20, Loss 0.072\n",
      "Training Accuracy: 0.9296, Testing Accuracy: 0.9410\n",
      "\n"
     ]
    },
    {
     "name": "stdout",
     "output_type": "stream",
     "text": [
      "Epoch 30, Loss 0.0516\n",
      "Training Accuracy: 0.9437, Testing Accuracy: 0.9561\n",
      "\n"
     ]
    },
    {
     "name": "stdout",
     "output_type": "stream",
     "text": [
      "Epoch 40, Loss 0.0425\n",
      "Training Accuracy: 0.9521, Testing Accuracy: 0.9627\n",
      "\n"
     ]
    },
    {
     "name": "stdout",
     "output_type": "stream",
     "text": [
      "Epoch 50, Loss 0.0373\n",
      "Training Accuracy: 0.9575, Testing Accuracy: 0.9672\n",
      "\n"
     ]
    },
    {
     "name": "stdout",
     "output_type": "stream",
     "text": [
      "Epoch 60, Loss 0.034\n",
      "Training Accuracy: 0.9614, Testing Accuracy: 0.9677\n",
      "\n"
     ]
    },
    {
     "name": "stdout",
     "output_type": "stream",
     "text": [
      "Epoch 70, Loss 0.0316\n",
      "Training Accuracy: 0.9636, Testing Accuracy: 0.9677\n",
      "\n"
     ]
    },
    {
     "name": "stdout",
     "output_type": "stream",
     "text": [
      "Epoch 80, Loss 0.0298\n",
      "Training Accuracy: 0.9654, Testing Accuracy: 0.9677\n",
      "\n"
     ]
    },
    {
     "name": "stdout",
     "output_type": "stream",
     "text": [
      "Epoch 90, Loss 0.0283\n",
      "Training Accuracy: 0.9675, Testing Accuracy: 0.9688\n",
      "\n"
     ]
    },
    {
     "name": "stdout",
     "output_type": "stream",
     "text": [
      "Epoch 100, Loss 0.0271\n",
      "Training Accuracy: 0.9687, Testing Accuracy: 0.9693\n",
      "\n"
     ]
    },
    {
     "name": "stdout",
     "output_type": "stream",
     "text": [
      "Epoch 110, Loss 0.0261\n",
      "Training Accuracy: 0.9695, Testing Accuracy: 0.9708\n",
      "\n"
     ]
    },
    {
     "name": "stdout",
     "output_type": "stream",
     "text": [
      "Epoch 120, Loss 0.0251\n",
      "Training Accuracy: 0.9709, Testing Accuracy: 0.9718\n",
      "\n"
     ]
    },
    {
     "name": "stdout",
     "output_type": "stream",
     "text": [
      "Epoch 130, Loss 0.0243\n",
      "Training Accuracy: 0.9717, Testing Accuracy: 0.9718\n",
      "\n"
     ]
    },
    {
     "name": "stdout",
     "output_type": "stream",
     "text": [
      "Epoch 140, Loss 0.0236\n",
      "Training Accuracy: 0.9724, Testing Accuracy: 0.9718\n",
      "\n"
     ]
    },
    {
     "name": "stdout",
     "output_type": "stream",
     "text": [
      "Epoch 150, Loss 0.023\n",
      "Training Accuracy: 0.9727, Testing Accuracy: 0.9728\n",
      "\n"
     ]
    },
    {
     "name": "stdout",
     "output_type": "stream",
     "text": [
      "Epoch 160, Loss 0.0223\n",
      "Training Accuracy: 0.9739, Testing Accuracy: 0.9733\n",
      "\n"
     ]
    },
    {
     "name": "stdout",
     "output_type": "stream",
     "text": [
      "Epoch 170, Loss 0.0218\n",
      "Training Accuracy: 0.9744, Testing Accuracy: 0.9738\n",
      "\n"
     ]
    },
    {
     "name": "stdout",
     "output_type": "stream",
     "text": [
      "Epoch 180, Loss 0.0212\n",
      "Training Accuracy: 0.9754, Testing Accuracy: 0.9738\n",
      "\n"
     ]
    },
    {
     "name": "stdout",
     "output_type": "stream",
     "text": [
      "Epoch 190, Loss 0.0208\n",
      "Training Accuracy: 0.9760, Testing Accuracy: 0.9733\n",
      "\n"
     ]
    },
    {
     "name": "stdout",
     "output_type": "stream",
     "text": [
      "Epoch 200, Loss 0.0203\n",
      "Training Accuracy: 0.9767, Testing Accuracy: 0.9733\n",
      "\n"
     ]
    },
    {
     "name": "stdout",
     "output_type": "stream",
     "text": [
      "Epoch 210, Loss 0.0199\n",
      "Training Accuracy: 0.9770, Testing Accuracy: 0.9728\n",
      "\n"
     ]
    },
    {
     "name": "stdout",
     "output_type": "stream",
     "text": [
      "Epoch 220, Loss 0.0194\n",
      "Training Accuracy: 0.9778, Testing Accuracy: 0.9733\n",
      "\n"
     ]
    },
    {
     "name": "stdout",
     "output_type": "stream",
     "text": [
      "Epoch 230, Loss 0.019\n",
      "Training Accuracy: 0.9785, Testing Accuracy: 0.9733\n",
      "\n"
     ]
    },
    {
     "name": "stdout",
     "output_type": "stream",
     "text": [
      "Epoch 240, Loss 0.0187\n",
      "Training Accuracy: 0.9791, Testing Accuracy: 0.9733\n",
      "\n"
     ]
    },
    {
     "data": {
      "text/plain": [
       "0.003329985705616498"
      ]
     },
     "execution_count": 22,
     "metadata": {},
     "output_type": "execute_result"
    }
   ],
   "source": [
    "nn_learner.train_loop(dl)"
   ]
  },
  {
   "cell_type": "code",
   "execution_count": 23,
   "id": "e0163366",
   "metadata": {
    "execution": {
     "iopub.execute_input": "2022-11-24T10:11:58.152810Z",
     "iopub.status.busy": "2022-11-24T10:11:58.152228Z",
     "iopub.status.idle": "2022-11-24T10:12:11.228035Z",
     "shell.execute_reply": "2022-11-24T10:12:11.228730Z"
    },
    "papermill": {
     "duration": 13.118996,
     "end_time": "2022-11-24T10:12:11.228882",
     "exception": false,
     "start_time": "2022-11-24T10:11:58.109886",
     "status": "completed"
    },
    "tags": []
   },
   "outputs": [
    {
     "name": "stdout",
     "output_type": "stream",
     "text": [
      "Epoch 0, Loss 0.2649\n",
      "Training Accuracy: 0.5807, Testing Accuracy: 0.5670\n",
      "\n"
     ]
    },
    {
     "name": "stdout",
     "output_type": "stream",
     "text": [
      "Epoch 10, Loss 0.1047\n",
      "Training Accuracy: 0.9102, Testing Accuracy: 0.9234\n",
      "\n"
     ]
    },
    {
     "name": "stdout",
     "output_type": "stream",
     "text": [
      "Epoch 20, Loss 0.08\n",
      "Training Accuracy: 0.9280, Testing Accuracy: 0.9395\n",
      "\n"
     ]
    },
    {
     "name": "stdout",
     "output_type": "stream",
     "text": [
      "Epoch 30, Loss 0.0688\n",
      "Training Accuracy: 0.9370, Testing Accuracy: 0.9471\n",
      "\n"
     ]
    },
    {
     "name": "stdout",
     "output_type": "stream",
     "text": [
      "Epoch 40, Loss 0.0621\n",
      "Training Accuracy: 0.9427, Testing Accuracy: 0.9536\n",
      "\n"
     ]
    },
    {
     "name": "stdout",
     "output_type": "stream",
     "text": [
      "Epoch 50, Loss 0.0576\n",
      "Training Accuracy: 0.9457, Testing Accuracy: 0.9551\n",
      "\n"
     ]
    },
    {
     "name": "stdout",
     "output_type": "stream",
     "text": [
      "Epoch 60, Loss 0.0542\n",
      "Training Accuracy: 0.9477, Testing Accuracy: 0.9572\n",
      "\n"
     ]
    },
    {
     "name": "stdout",
     "output_type": "stream",
     "text": [
      "Epoch 70, Loss 0.0516\n",
      "Training Accuracy: 0.9500, Testing Accuracy: 0.9582\n",
      "\n"
     ]
    },
    {
     "name": "stdout",
     "output_type": "stream",
     "text": [
      "Epoch 80, Loss 0.0496\n",
      "Training Accuracy: 0.9516, Testing Accuracy: 0.9577\n",
      "\n"
     ]
    },
    {
     "name": "stdout",
     "output_type": "stream",
     "text": [
      "Epoch 90, Loss 0.0479\n",
      "Training Accuracy: 0.9526, Testing Accuracy: 0.9587\n",
      "\n"
     ]
    },
    {
     "name": "stdout",
     "output_type": "stream",
     "text": [
      "Epoch 100, Loss 0.0464\n",
      "Training Accuracy: 0.9536, Testing Accuracy: 0.9602\n",
      "\n"
     ]
    },
    {
     "name": "stdout",
     "output_type": "stream",
     "text": [
      "Epoch 110, Loss 0.0452\n",
      "Training Accuracy: 0.9547, Testing Accuracy: 0.9617\n",
      "\n"
     ]
    },
    {
     "name": "stdout",
     "output_type": "stream",
     "text": [
      "Epoch 120, Loss 0.0441\n",
      "Training Accuracy: 0.9556, Testing Accuracy: 0.9622\n",
      "\n"
     ]
    },
    {
     "name": "stdout",
     "output_type": "stream",
     "text": [
      "Epoch 130, Loss 0.0432\n",
      "Training Accuracy: 0.9565, Testing Accuracy: 0.9637\n",
      "\n"
     ]
    },
    {
     "name": "stdout",
     "output_type": "stream",
     "text": [
      "Epoch 140, Loss 0.0423\n",
      "Training Accuracy: 0.9571, Testing Accuracy: 0.9637\n",
      "\n"
     ]
    },
    {
     "name": "stdout",
     "output_type": "stream",
     "text": [
      "Epoch 150, Loss 0.0416\n",
      "Training Accuracy: 0.9578, Testing Accuracy: 0.9647\n",
      "\n"
     ]
    },
    {
     "name": "stdout",
     "output_type": "stream",
     "text": [
      "Epoch 160, Loss 0.0409\n",
      "Training Accuracy: 0.9581, Testing Accuracy: 0.9657\n",
      "\n"
     ]
    },
    {
     "name": "stdout",
     "output_type": "stream",
     "text": [
      "Epoch 170, Loss 0.0403\n",
      "Training Accuracy: 0.9587, Testing Accuracy: 0.9657\n",
      "\n"
     ]
    },
    {
     "name": "stdout",
     "output_type": "stream",
     "text": [
      "Epoch 180, Loss 0.0397\n",
      "Training Accuracy: 0.9590, Testing Accuracy: 0.9662\n",
      "\n"
     ]
    },
    {
     "name": "stdout",
     "output_type": "stream",
     "text": [
      "Epoch 190, Loss 0.0392\n",
      "Training Accuracy: 0.9594, Testing Accuracy: 0.9662\n",
      "\n"
     ]
    },
    {
     "name": "stdout",
     "output_type": "stream",
     "text": [
      "Epoch 200, Loss 0.0387\n",
      "Training Accuracy: 0.9598, Testing Accuracy: 0.9662\n",
      "\n"
     ]
    },
    {
     "name": "stdout",
     "output_type": "stream",
     "text": [
      "Epoch 210, Loss 0.0382\n",
      "Training Accuracy: 0.9601, Testing Accuracy: 0.9667\n",
      "\n"
     ]
    },
    {
     "name": "stdout",
     "output_type": "stream",
     "text": [
      "Epoch 220, Loss 0.0378\n",
      "Training Accuracy: 0.9603, Testing Accuracy: 0.9667\n",
      "\n"
     ]
    },
    {
     "name": "stdout",
     "output_type": "stream",
     "text": [
      "Epoch 230, Loss 0.0374\n",
      "Training Accuracy: 0.9605, Testing Accuracy: 0.9667\n",
      "\n"
     ]
    },
    {
     "name": "stdout",
     "output_type": "stream",
     "text": [
      "Epoch 240, Loss 0.0371\n",
      "Training Accuracy: 0.9607, Testing Accuracy: 0.9667\n",
      "\n"
     ]
    },
    {
     "data": {
      "text/plain": [
       "0.04872717851439818"
      ]
     },
     "execution_count": 23,
     "metadata": {},
     "output_type": "execute_result"
    }
   ],
   "source": [
    "lr_learner.train_loop(dl)"
   ]
  },
  {
   "cell_type": "code",
   "execution_count": 24,
   "id": "ca410940",
   "metadata": {
    "execution": {
     "iopub.execute_input": "2022-11-24T10:12:11.320972Z",
     "iopub.status.busy": "2022-11-24T10:12:11.320356Z",
     "iopub.status.idle": "2022-11-24T10:12:11.538055Z",
     "shell.execute_reply": "2022-11-24T10:12:11.538488Z"
    },
    "papermill": {
     "duration": 0.268979,
     "end_time": "2022-11-24T10:12:11.538636",
     "exception": false,
     "start_time": "2022-11-24T10:12:11.269657",
     "status": "completed"
    },
    "tags": []
   },
   "outputs": [
    {
     "data": {
      "text/plain": [
       "<matplotlib.legend.Legend at 0x7f2fb8968550>"
      ]
     },
     "execution_count": 24,
     "metadata": {},
     "output_type": "execute_result"
    },
    {
     "data": {
      "image/png": "[encoded data removed]",
      "text/plain": [
       "<Figure size 1080x720 with 1 Axes>"
      ]
     },
     "metadata": {
      "needs_background": "light"
     },
     "output_type": "display_data"
    }
   ],
   "source": [
    "#comparing the results of NN and LR\n",
    "plt.figure(figsize=(15,10))\n",
    "\n",
    "# Neural Network plots\n",
    "plt.plot(acc_nn.accuracies, 'r-', label = \"Training Accuracies - NN\")\n",
    "plt.plot(acc_nn.test_accuracies, 'g-', label = \"Testing Accuracies - NN\")\n",
    "\n",
    "# Logistic Regression plots\n",
    "plt.plot(acc_lr.accuracies, 'k-', label = \"Training Accuracies - LR\")\n",
    "plt.plot(acc_lr.test_accuracies, 'b-', label = \"Testing Accuracies - LR\")\n",
    "plt.legend()"
   ]
  },
  {
   "cell_type": "markdown",
   "id": "80dfb35c",
   "metadata": {
    "papermill": {
     "duration": 0.041679,
     "end_time": "2022-11-24T10:12:11.622823",
     "exception": false,
     "start_time": "2022-11-24T10:12:11.581144",
     "status": "completed"
    },
    "tags": []
   },
   "source": [
    "#### Plotting the outputs of this layer of the NN.\n"
   ]
  },
  {
   "cell_type": "code",
   "execution_count": 25,
   "id": "45eb2ff5",
   "metadata": {
    "execution": {
     "iopub.execute_input": "2022-11-24T10:12:11.710460Z",
     "iopub.status.busy": "2022-11-24T10:12:11.709871Z",
     "iopub.status.idle": "2022-11-24T10:12:11.730118Z",
     "shell.execute_reply": "2022-11-24T10:12:11.729626Z"
    },
    "papermill": {
     "duration": 0.065822,
     "end_time": "2022-11-24T10:12:11.730233",
     "exception": false,
     "start_time": "2022-11-24T10:12:11.664411",
     "status": "completed"
    },
    "tags": []
   },
   "outputs": [],
   "source": [
    "new_model = Model(layers[:-2])\n",
    "testing_plot = new_model(testing_data_x)"
   ]
  },
  {
   "cell_type": "code",
   "execution_count": 26,
   "id": "4c0a5485",
   "metadata": {
    "execution": {
     "iopub.execute_input": "2022-11-24T10:12:11.820374Z",
     "iopub.status.busy": "2022-11-24T10:12:11.819758Z",
     "iopub.status.idle": "2022-11-24T10:12:12.022283Z",
     "shell.execute_reply": "2022-11-24T10:12:12.021682Z"
    },
    "papermill": {
     "duration": 0.248979,
     "end_time": "2022-11-24T10:12:12.022404",
     "exception": false,
     "start_time": "2022-11-24T10:12:11.773425",
     "status": "completed"
    },
    "tags": []
   },
   "outputs": [
    {
     "data": {
      "text/plain": [
       "Text(0.5, 1.0, 'Outputs')"
      ]
     },
     "execution_count": 26,
     "metadata": {},
     "output_type": "execute_result"
    },
    {
     "data": {
      "image/png": "[encoded data removed]",
      "text/plain": [
       "<Figure size 576x504 with 1 Axes>"
      ]
     },
     "metadata": {
      "needs_background": "light"
     },
     "output_type": "display_data"
    }
   ],
   "source": [
    "# Plotting the scatter plot of points and color coding by class\n",
    "plt.figure(figsize=(8,7))\n",
    "plt.scatter(testing_plot[:,0], testing_plot[:,1], alpha = 0.1, c = y_test.ravel());\n",
    "plt.title('Outputs')"
   ]
  },
  {
   "cell_type": "markdown",
   "id": "a74fcf8f",
   "metadata": {
    "papermill": {
     "duration": 0.044189,
     "end_time": "2022-11-24T10:12:12.110641",
     "exception": false,
     "start_time": "2022-11-24T10:12:12.066452",
     "status": "completed"
    },
    "tags": []
   },
   "source": [
    "Probability contours"
   ]
  },
  {
   "cell_type": "code",
   "execution_count": 27,
   "id": "d0afc8e3",
   "metadata": {
    "execution": {
     "iopub.execute_input": "2022-11-24T10:12:12.208226Z",
     "iopub.status.busy": "2022-11-24T10:12:12.206016Z",
     "iopub.status.idle": "2022-11-24T10:12:12.216772Z",
     "shell.execute_reply": "2022-11-24T10:12:12.216295Z"
    },
    "papermill": {
     "duration": 0.062343,
     "end_time": "2022-11-24T10:12:12.216882",
     "exception": false,
     "start_time": "2022-11-24T10:12:12.154539",
     "status": "completed"
    },
    "tags": []
   },
   "outputs": [],
   "source": [
    "model_prob = Model(layers[-2:]) "
   ]
  },
  {
   "cell_type": "code",
   "execution_count": 28,
   "id": "9b96e238",
   "metadata": {
    "execution": {
     "iopub.execute_input": "2022-11-24T10:12:12.309526Z",
     "iopub.status.busy": "2022-11-24T10:12:12.308936Z",
     "iopub.status.idle": "2022-11-24T10:12:12.324039Z",
     "shell.execute_reply": "2022-11-24T10:12:12.324461Z"
    },
    "papermill": {
     "duration": 0.064031,
     "end_time": "2022-11-24T10:12:12.324591",
     "exception": false,
     "start_time": "2022-11-24T10:12:12.260560",
     "status": "completed"
    },
    "tags": []
   },
   "outputs": [],
   "source": [
    "#creating the x and y ranges according to the above generated plot.\n",
    "x_range = np.linspace(-4, 1, 100) \n",
    "y_range = np.linspace(-6, 6, 100) \n",
    "x_grid, y_grid = np.meshgrid(x_range, y_range) # x_grid and y_grig are of size 100 X 100\n",
    "\n",
    "# converting x_grid and y_grid to continuous arrays\n",
    "x_gridflat = np.ravel(x_grid)\n",
    "y_gridflat = np.ravel(y_grid)\n",
    "\n",
    "# The last layer of the current model takes two columns as input. Hence transpose of np.vstack() is required.\n",
    "X = np.vstack((x_gridflat, y_gridflat)).T\n",
    "\n",
    "prob_contour = model_prob(X).reshape(100,100) "
   ]
  },
  {
   "cell_type": "code",
   "execution_count": 29,
   "id": "da72499a",
   "metadata": {
    "execution": {
     "iopub.execute_input": "2022-11-24T10:12:12.447350Z",
     "iopub.status.busy": "2022-11-24T10:12:12.446648Z",
     "iopub.status.idle": "2022-11-24T10:12:12.688684Z",
     "shell.execute_reply": "2022-11-24T10:12:12.688193Z"
    },
    "papermill": {
     "duration": 0.293426,
     "end_time": "2022-11-24T10:12:12.688804",
     "exception": false,
     "start_time": "2022-11-24T10:12:12.395378",
     "status": "completed"
    },
    "tags": []
   },
   "outputs": [
    {
     "data": {
      "image/png": "[encoded data removed]",
      "text/plain": [
       "<Figure size 720x648 with 1 Axes>"
      ]
     },
     "metadata": {
      "needs_background": "light"
     },
     "output_type": "display_data"
    }
   ],
   "source": [
    "plt.figure(figsize=(10,9))\n",
    "plt.scatter(testing_plot[:,0], testing_plot[:,1], alpha = 0.1, c = y_test.ravel())\n",
    "contours = plt.contour(x_grid,y_grid,prob_contour)\n",
    "plt.title('Probability Contours')\n",
    "plt.clabel(contours, inline = True );"
   ]
  },
  {
   "cell_type": "code",
   "execution_count": null,
   "id": "e81b4ac7",
   "metadata": {
    "papermill": {
     "duration": 0.046852,
     "end_time": "2022-11-24T10:12:12.783369",
     "exception": false,
     "start_time": "2022-11-24T10:12:12.736517",
     "status": "completed"
    },
    "tags": []
   },
   "outputs": [],
   "source": []
  }
 ],
 "metadata": {
  "kernelspec": {
   "display_name": "Python 3",
   "language": "python",
   "name": "python3"
  },
  "language_info": {
   "codemirror_mode": {
    "name": "ipython",
    "version": 3
   },
   "file_extension": ".py",
   "mimetype": "text/x-python",
   "name": "python",
   "nbconvert_exporter": "python",
   "pygments_lexer": "ipython3",
   "version": "3.6.15"
  },
  "papermill": {
   "default_parameters": {},
   "duration": 95.024647,
   "end_time": "2022-11-24T10:12:13.249026",
   "environment_variables": {},
   "exception": null,
   "input_path": "2020-08-11-part2.ipynb",
   "output_path": "2020-08-11-part2.ipynb",
   "parameters": {},
   "start_time": "2022-11-24T10:10:38.224379",
   "version": "2.3.3"
  }
 },
 "nbformat": 4,
 "nbformat_minor": 5
}