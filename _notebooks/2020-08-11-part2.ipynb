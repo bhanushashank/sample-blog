{
 "cells": [
  {
   "cell_type": "markdown",
   "id": "98380cd3",
   "metadata": {
    "papermill": {
     "duration": 0.03848,
     "end_time": "2022-03-28T20:10:07.497522",
     "exception": false,
     "start_time": "2022-03-28T20:10:07.459042",
     "status": "completed"
    },
    "tags": []
   },
   "source": [
    "# Distinguish Your Own Digits (DYOD)"
   ]
  },
  {
   "cell_type": "markdown",
   "id": "ef31240d",
   "metadata": {
    "papermill": {
     "duration": 0.031144,
     "end_time": "2022-03-28T20:10:07.560750",
     "exception": false,
     "start_time": "2022-03-28T20:10:07.529606",
     "status": "completed"
    },
    "tags": []
   },
   "source": [
    "You are going to write a classifier that distinguishes between the number 3 and number 8."
   ]
  },
  {
   "cell_type": "code",
   "execution_count": 1,
   "id": "b15c8646",
   "metadata": {
    "execution": {
     "iopub.execute_input": "2022-03-28T20:10:07.630441Z",
     "iopub.status.busy": "2022-03-28T20:10:07.629819Z",
     "iopub.status.idle": "2022-03-28T20:10:07.643283Z",
     "shell.execute_reply": "2022-03-28T20:10:07.642718Z"
    },
    "papermill": {
     "duration": 0.05524,
     "end_time": "2022-03-28T20:10:07.643517",
     "exception": false,
     "start_time": "2022-03-28T20:10:07.588277",
     "status": "completed"
    },
    "tags": []
   },
   "outputs": [],
   "source": [
    "%load_ext autoreload\n",
    "%autoreload 2"
   ]
  },
  {
   "cell_type": "code",
   "execution_count": 2,
   "id": "22ef38dc",
   "metadata": {
    "execution": {
     "iopub.execute_input": "2022-03-28T20:10:07.707837Z",
     "iopub.status.busy": "2022-03-28T20:10:07.707087Z",
     "iopub.status.idle": "2022-03-28T20:10:08.436657Z",
     "shell.execute_reply": "2022-03-28T20:10:08.437173Z"
    },
    "papermill": {
     "duration": 0.76566,
     "end_time": "2022-03-28T20:10:08.437333",
     "exception": false,
     "start_time": "2022-03-28T20:10:07.671673",
     "status": "completed"
    },
    "tags": []
   },
   "outputs": [],
   "source": [
    "%matplotlib inline\n",
    "import numpy as np\n",
    "import matplotlib.pyplot as plt\n",
    "import pandas as pd"
   ]
  },
  {
   "cell_type": "markdown",
   "id": "ba036198",
   "metadata": {
    "papermill": {
     "duration": 0.029108,
     "end_time": "2022-03-28T20:10:08.501268",
     "exception": false,
     "start_time": "2022-03-28T20:10:08.472160",
     "status": "completed"
    },
    "tags": []
   },
   "source": [
    "From the command line run `pip install mnist`. This is a library that will help you bring down the mnist dataset. If you run this from a notebook, you need to put  `!pip install mnist` in a cell by itself."
   ]
  },
  {
   "cell_type": "code",
   "execution_count": 3,
   "id": "bb6ad8a1",
   "metadata": {
    "execution": {
     "iopub.execute_input": "2022-03-28T20:10:08.570682Z",
     "iopub.status.busy": "2022-03-28T20:10:08.570076Z",
     "iopub.status.idle": "2022-03-28T20:10:10.712684Z",
     "shell.execute_reply": "2022-03-28T20:10:10.712168Z"
    },
    "papermill": {
     "duration": 2.1813,
     "end_time": "2022-03-28T20:10:10.712818",
     "exception": false,
     "start_time": "2022-03-28T20:10:08.531518",
     "status": "completed"
    },
    "tags": []
   },
   "outputs": [
    {
     "name": "stdout",
     "output_type": "stream",
     "text": [
      "Collecting mnist\r\n"
     ]
    },
    {
     "name": "stdout",
     "output_type": "stream",
     "text": [
      "  Downloading mnist-0.2.2-py2.py3-none-any.whl (3.5 kB)\r\n",
      "Requirement already satisfied: numpy in /opt/hostedtoolcache/Python/3.6.15/x64/lib/python3.6/site-packages (from mnist) (1.19.5)\r\n"
     ]
    },
    {
     "name": "stdout",
     "output_type": "stream",
     "text": [
      "Installing collected packages: mnist\r\n"
     ]
    },
    {
     "name": "stdout",
     "output_type": "stream",
     "text": [
      "Successfully installed mnist-0.2.2\r\n"
     ]
    }
   ],
   "source": [
    "!pip install mnist"
   ]
  },
  {
   "cell_type": "markdown",
   "id": "69df9c9a",
   "metadata": {
    "papermill": {
     "duration": 0.036619,
     "end_time": "2022-03-28T20:10:10.793054",
     "exception": false,
     "start_time": "2022-03-28T20:10:10.756435",
     "status": "completed"
    },
    "tags": []
   },
   "source": [
    "## Preparing the Data"
   ]
  },
  {
   "cell_type": "code",
   "execution_count": 4,
   "id": "7f69d806",
   "metadata": {
    "execution": {
     "iopub.execute_input": "2022-03-28T20:10:10.867362Z",
     "iopub.status.busy": "2022-03-28T20:10:10.866678Z",
     "iopub.status.idle": "2022-03-28T20:10:10.884582Z",
     "shell.execute_reply": "2022-03-28T20:10:10.884024Z"
    },
    "papermill": {
     "duration": 0.058082,
     "end_time": "2022-03-28T20:10:10.884709",
     "exception": false,
     "start_time": "2022-03-28T20:10:10.826627",
     "status": "completed"
    },
    "tags": []
   },
   "outputs": [],
   "source": [
    "import mnist"
   ]
  },
  {
   "cell_type": "code",
   "execution_count": 5,
   "id": "a411e44f",
   "metadata": {
    "execution": {
     "iopub.execute_input": "2022-03-28T20:10:10.964101Z",
     "iopub.status.busy": "2022-03-28T20:10:10.963136Z",
     "iopub.status.idle": "2022-03-28T20:10:27.306938Z",
     "shell.execute_reply": "2022-03-28T20:10:27.307456Z"
    },
    "papermill": {
     "duration": 16.38669,
     "end_time": "2022-03-28T20:10:27.307628",
     "exception": false,
     "start_time": "2022-03-28T20:10:10.920938",
     "status": "completed"
    },
    "tags": []
   },
   "outputs": [],
   "source": [
    "train_images = mnist.train_images()\n",
    "train_labels = mnist.train_labels()"
   ]
  },
  {
   "cell_type": "code",
   "execution_count": 6,
   "id": "dceab3a5",
   "metadata": {
    "execution": {
     "iopub.execute_input": "2022-03-28T20:10:27.381091Z",
     "iopub.status.busy": "2022-03-28T20:10:27.380373Z",
     "iopub.status.idle": "2022-03-28T20:10:27.397616Z",
     "shell.execute_reply": "2022-03-28T20:10:27.398288Z"
    },
    "papermill": {
     "duration": 0.05674,
     "end_time": "2022-03-28T20:10:27.398443",
     "exception": false,
     "start_time": "2022-03-28T20:10:27.341703",
     "status": "completed"
    },
    "tags": []
   },
   "outputs": [
    {
     "data": {
      "text/plain": [
       "((60000, 28, 28), (60000,))"
      ]
     },
     "execution_count": 6,
     "metadata": {},
     "output_type": "execute_result"
    }
   ],
   "source": [
    "train_images.shape, train_labels.shape"
   ]
  },
  {
   "cell_type": "code",
   "execution_count": 7,
   "id": "f50dc2bb",
   "metadata": {
    "execution": {
     "iopub.execute_input": "2022-03-28T20:10:27.471152Z",
     "iopub.status.busy": "2022-03-28T20:10:27.470449Z",
     "iopub.status.idle": "2022-03-28T20:10:30.778715Z",
     "shell.execute_reply": "2022-03-28T20:10:30.779185Z"
    },
    "papermill": {
     "duration": 3.345613,
     "end_time": "2022-03-28T20:10:30.779364",
     "exception": false,
     "start_time": "2022-03-28T20:10:27.433751",
     "status": "completed"
    },
    "tags": []
   },
   "outputs": [],
   "source": [
    "test_images = mnist.test_images()\n",
    "test_labels = mnist.test_labels()"
   ]
  },
  {
   "cell_type": "code",
   "execution_count": 8,
   "id": "fc38cf1b",
   "metadata": {
    "execution": {
     "iopub.execute_input": "2022-03-28T20:10:30.850339Z",
     "iopub.status.busy": "2022-03-28T20:10:30.849618Z",
     "iopub.status.idle": "2022-03-28T20:10:30.865955Z",
     "shell.execute_reply": "2022-03-28T20:10:30.865410Z"
    },
    "papermill": {
     "duration": 0.053252,
     "end_time": "2022-03-28T20:10:30.866097",
     "exception": false,
     "start_time": "2022-03-28T20:10:30.812845",
     "status": "completed"
    },
    "tags": []
   },
   "outputs": [
    {
     "data": {
      "text/plain": [
       "((10000, 28, 28), (10000,))"
      ]
     },
     "execution_count": 8,
     "metadata": {},
     "output_type": "execute_result"
    }
   ],
   "source": [
    "test_images.shape, test_labels.shape"
   ]
  },
  {
   "cell_type": "code",
   "execution_count": 9,
   "id": "f9ed8fe0",
   "metadata": {
    "execution": {
     "iopub.execute_input": "2022-03-28T20:10:30.946106Z",
     "iopub.status.busy": "2022-03-28T20:10:30.945378Z",
     "iopub.status.idle": "2022-03-28T20:10:31.151061Z",
     "shell.execute_reply": "2022-03-28T20:10:31.150427Z"
    },
    "papermill": {
     "duration": 0.248414,
     "end_time": "2022-03-28T20:10:31.151198",
     "exception": false,
     "start_time": "2022-03-28T20:10:30.902784",
     "status": "completed"
    },
    "tags": []
   },
   "outputs": [
    {
     "name": "stdout",
     "output_type": "stream",
     "text": [
      "2\n"
     ]
    },
    {
     "data": {
      "text/plain": [
       "<matplotlib.image.AxesImage at 0x7f41971ce5f8>"
      ]
     },
     "execution_count": 9,
     "metadata": {},
     "output_type": "execute_result"
    },
    {
     "data": {
      "image/png": "[encoded data removed]",
      "text/plain": [
       "<Figure size 432x288 with 1 Axes>"
      ]
     },
     "metadata": {
      "needs_background": "light"
     },
     "output_type": "display_data"
    }
   ],
   "source": [
    "image_index = 7776 # You may select anything up to 60,000\n",
    "print(train_labels[image_index]) \n",
    "plt.imshow(train_images[image_index], cmap='Greys')"
   ]
  },
  {
   "cell_type": "markdown",
   "id": "a8d2388d",
   "metadata": {
    "papermill": {
     "duration": 0.039247,
     "end_time": "2022-03-28T20:10:31.225839",
     "exception": false,
     "start_time": "2022-03-28T20:10:31.186592",
     "status": "completed"
    },
    "tags": []
   },
   "source": [
    "## Filter data to get 3 and 8 out"
   ]
  },
  {
   "cell_type": "code",
   "execution_count": 10,
   "id": "776f7fc7",
   "metadata": {
    "execution": {
     "iopub.execute_input": "2022-03-28T20:10:31.305365Z",
     "iopub.status.busy": "2022-03-28T20:10:31.299981Z",
     "iopub.status.idle": "2022-03-28T20:10:31.330002Z",
     "shell.execute_reply": "2022-03-28T20:10:31.329263Z"
    },
    "papermill": {
     "duration": 0.069433,
     "end_time": "2022-03-28T20:10:31.330150",
     "exception": false,
     "start_time": "2022-03-28T20:10:31.260717",
     "status": "completed"
    },
    "tags": []
   },
   "outputs": [],
   "source": [
    "train_filter = np.where((train_labels == 3 ) | (train_labels == 8))\n",
    "test_filter = np.where((test_labels == 3) | (test_labels == 8))\n",
    "X_train, y_train = train_images[train_filter], train_labels[train_filter]\n",
    "X_test, y_test = test_images[test_filter], test_labels[test_filter]"
   ]
  },
  {
   "cell_type": "markdown",
   "id": "948f0b7e",
   "metadata": {
    "papermill": {
     "duration": 0.033318,
     "end_time": "2022-03-28T20:10:31.397699",
     "exception": false,
     "start_time": "2022-03-28T20:10:31.364381",
     "status": "completed"
    },
    "tags": []
   },
   "source": [
    "We normalize the pizel values in the 0 to 1 range"
   ]
  },
  {
   "cell_type": "code",
   "execution_count": 11,
   "id": "ee4c2166",
   "metadata": {
    "execution": {
     "iopub.execute_input": "2022-03-28T20:10:31.475669Z",
     "iopub.status.busy": "2022-03-28T20:10:31.470260Z",
     "iopub.status.idle": "2022-03-28T20:10:31.531524Z",
     "shell.execute_reply": "2022-03-28T20:10:31.532193Z"
    },
    "papermill": {
     "duration": 0.100261,
     "end_time": "2022-03-28T20:10:31.532372",
     "exception": false,
     "start_time": "2022-03-28T20:10:31.432111",
     "status": "completed"
    },
    "tags": []
   },
   "outputs": [],
   "source": [
    "X_train = X_train/255.\n",
    "X_test = X_test/255."
   ]
  },
  {
   "cell_type": "markdown",
   "id": "ddcf4fab",
   "metadata": {
    "papermill": {
     "duration": 0.033549,
     "end_time": "2022-03-28T20:10:31.601249",
     "exception": false,
     "start_time": "2022-03-28T20:10:31.567700",
     "status": "completed"
    },
    "tags": []
   },
   "source": [
    "And setup the labels as 1 (when the digit is 3) and 0 (when the digit is 8)"
   ]
  },
  {
   "cell_type": "code",
   "execution_count": 12,
   "id": "7dc908f2",
   "metadata": {
    "execution": {
     "iopub.execute_input": "2022-03-28T20:10:31.679650Z",
     "iopub.status.busy": "2022-03-28T20:10:31.675247Z",
     "iopub.status.idle": "2022-03-28T20:10:31.690072Z",
     "shell.execute_reply": "2022-03-28T20:10:31.690650Z"
    },
    "papermill": {
     "duration": 0.054615,
     "end_time": "2022-03-28T20:10:31.690805",
     "exception": false,
     "start_time": "2022-03-28T20:10:31.636190",
     "status": "completed"
    },
    "tags": []
   },
   "outputs": [],
   "source": [
    "y_train = 1*(y_train==3)\n",
    "y_test = 1*(y_test==3)"
   ]
  },
  {
   "cell_type": "code",
   "execution_count": 13,
   "id": "01e4e969",
   "metadata": {
    "execution": {
     "iopub.execute_input": "2022-03-28T20:10:31.767010Z",
     "iopub.status.busy": "2022-03-28T20:10:31.762327Z",
     "iopub.status.idle": "2022-03-28T20:10:31.778920Z",
     "shell.execute_reply": "2022-03-28T20:10:31.778421Z"
    },
    "papermill": {
     "duration": 0.053647,
     "end_time": "2022-03-28T20:10:31.779059",
     "exception": false,
     "start_time": "2022-03-28T20:10:31.725412",
     "status": "completed"
    },
    "tags": []
   },
   "outputs": [
    {
     "data": {
      "text/plain": [
       "((11982, 28, 28), (1984, 28, 28))"
      ]
     },
     "execution_count": 13,
     "metadata": {},
     "output_type": "execute_result"
    }
   ],
   "source": [
    "X_train.shape, X_test.shape"
   ]
  },
  {
   "cell_type": "markdown",
   "id": "5ccf3f85",
   "metadata": {
    "papermill": {
     "duration": 0.033914,
     "end_time": "2022-03-28T20:10:31.849685",
     "exception": false,
     "start_time": "2022-03-28T20:10:31.815771",
     "status": "completed"
    },
    "tags": []
   },
   "source": [
    "We reshape the data to flatten the image pixels into a set of features or co-variates:"
   ]
  },
  {
   "cell_type": "code",
   "execution_count": 14,
   "id": "5286a4a3",
   "metadata": {
    "execution": {
     "iopub.execute_input": "2022-03-28T20:10:31.926909Z",
     "iopub.status.busy": "2022-03-28T20:10:31.926205Z",
     "iopub.status.idle": "2022-03-28T20:10:31.942732Z",
     "shell.execute_reply": "2022-03-28T20:10:31.942142Z"
    },
    "papermill": {
     "duration": 0.056924,
     "end_time": "2022-03-28T20:10:31.942879",
     "exception": false,
     "start_time": "2022-03-28T20:10:31.885955",
     "status": "completed"
    },
    "tags": []
   },
   "outputs": [
    {
     "data": {
      "text/plain": [
       "((11982, 784), (1984, 784))"
      ]
     },
     "execution_count": 14,
     "metadata": {},
     "output_type": "execute_result"
    }
   ],
   "source": [
    "X_train = X_train.reshape(X_train.shape[0], -1)\n",
    "X_test = X_test.reshape(X_test.shape[0], -1)\n",
    "X_train.shape, X_test.shape"
   ]
  },
  {
   "cell_type": "code",
   "execution_count": 15,
   "id": "73c5f88a",
   "metadata": {
    "execution": {
     "iopub.execute_input": "2022-03-28T20:10:32.023716Z",
     "iopub.status.busy": "2022-03-28T20:10:32.022956Z",
     "iopub.status.idle": "2022-03-28T20:10:32.045364Z",
     "shell.execute_reply": "2022-03-28T20:10:32.045909Z"
    },
    "papermill": {
     "duration": 0.067625,
     "end_time": "2022-03-28T20:10:32.046080",
     "exception": false,
     "start_time": "2022-03-28T20:10:31.978455",
     "status": "completed"
    },
    "tags": []
   },
   "outputs": [],
   "source": [
    "#Impoting functions from 'Kudzu'\n",
    "from kudzu.model import Model\n",
    "from kudzu.train import Learner\n",
    "from kudzu.optim import GD\n",
    "from kudzu.data import Data, Sampler,Dataloader\n",
    "\n",
    "from kudzu.callbacks import AccCallback\n",
    "from kudzu.callbacks import ClfCallback\n",
    "\n",
    "from kudzu.loss import MSE\n",
    "\n",
    "from kudzu.layer import Sigmoid,Relu\n",
    "from kudzu.layer import Affine"
   ]
  },
  {
   "cell_type": "markdown",
   "id": "bc01172a",
   "metadata": {
    "papermill": {
     "duration": 0.036167,
     "end_time": "2022-03-28T20:10:32.124605",
     "exception": false,
     "start_time": "2022-03-28T20:10:32.088438",
     "status": "completed"
    },
    "tags": []
   },
   "source": [
    "### Let us create a `Config` class, to store important parameters. \n",
    "This class essentially plays the role of a dictionary."
   ]
  },
  {
   "cell_type": "code",
   "execution_count": 16,
   "id": "978281aa",
   "metadata": {
    "execution": {
     "iopub.execute_input": "2022-03-28T20:10:32.206805Z",
     "iopub.status.busy": "2022-03-28T20:10:32.206097Z",
     "iopub.status.idle": "2022-03-28T20:10:32.222086Z",
     "shell.execute_reply": "2022-03-28T20:10:32.221478Z"
    },
    "papermill": {
     "duration": 0.057423,
     "end_time": "2022-03-28T20:10:32.222271",
     "exception": false,
     "start_time": "2022-03-28T20:10:32.164848",
     "status": "completed"
    },
    "tags": []
   },
   "outputs": [],
   "source": [
    "class Config:\n",
    "    pass\n",
    "config = Config()\n",
    "config.lr = 0.001\n",
    "config.num_epochs = 250\n",
    "config.bs = 50"
   ]
  },
  {
   "cell_type": "markdown",
   "id": "1385fa59",
   "metadata": {
    "papermill": {
     "duration": 0.03508,
     "end_time": "2022-03-28T20:10:32.293033",
     "exception": false,
     "start_time": "2022-03-28T20:10:32.257953",
     "status": "completed"
    },
    "tags": []
   },
   "source": [
    "### Running Models with the Training data\n",
    "Details about the network layers:\n",
    "- A first affine layer has 784 inputs and does 100 affine transforms. These are followed by a Relu\n",
    "- A second affine layer has 100 inputs from the 100 activations of the past layer, and does 100 affine transforms. These are followed by a Relu\n",
    "- A third affine layer has 100 activations and does 2 affine transformations to create an embedding for visualization. There is no non-linearity here.\n",
    "- A final \"logistic regression\" which has an affine transform from 2 inputs to 1 output, which is squeezed through a sigmoid.\n"
   ]
  },
  {
   "cell_type": "code",
   "execution_count": 17,
   "id": "2b9c66db",
   "metadata": {
    "execution": {
     "iopub.execute_input": "2022-03-28T20:10:32.380543Z",
     "iopub.status.busy": "2022-03-28T20:10:32.378620Z",
     "iopub.status.idle": "2022-03-28T20:10:32.394998Z",
     "shell.execute_reply": "2022-03-28T20:10:32.395605Z"
    },
    "papermill": {
     "duration": 0.065723,
     "end_time": "2022-03-28T20:10:32.395754",
     "exception": false,
     "start_time": "2022-03-28T20:10:32.330031",
     "status": "completed"
    },
    "tags": []
   },
   "outputs": [],
   "source": [
    "data = Data(X_train, y_train.reshape(-1,1))\n",
    "sampler = Sampler(data, config.bs, shuffle=True)\n",
    "\n",
    "dl = Dataloader(data, sampler)\n",
    "\n",
    "opt = GD(config.lr)\n",
    "loss = MSE()"
   ]
  },
  {
   "cell_type": "code",
   "execution_count": 18,
   "id": "b275e4c2",
   "metadata": {
    "execution": {
     "iopub.execute_input": "2022-03-28T20:10:32.487353Z",
     "iopub.status.busy": "2022-03-28T20:10:32.484672Z",
     "iopub.status.idle": "2022-03-28T20:10:32.497666Z",
     "shell.execute_reply": "2022-03-28T20:10:32.498257Z"
    },
    "papermill": {
     "duration": 0.059147,
     "end_time": "2022-03-28T20:10:32.498438",
     "exception": false,
     "start_time": "2022-03-28T20:10:32.439291",
     "status": "completed"
    },
    "tags": []
   },
   "outputs": [],
   "source": [
    "training_data_x = X_train\n",
    "testing_data_x = X_test\n",
    "training_data_y = y_train.reshape(-1,1)\n",
    "testing_data_y = y_test.reshape(-1,1)"
   ]
  },
  {
   "cell_type": "code",
   "execution_count": 19,
   "id": "76951160",
   "metadata": {
    "execution": {
     "iopub.execute_input": "2022-03-28T20:10:32.578438Z",
     "iopub.status.busy": "2022-03-28T20:10:32.577696Z",
     "iopub.status.idle": "2022-03-28T20:10:32.596755Z",
     "shell.execute_reply": "2022-03-28T20:10:32.596145Z"
    },
    "papermill": {
     "duration": 0.061117,
     "end_time": "2022-03-28T20:10:32.596887",
     "exception": false,
     "start_time": "2022-03-28T20:10:32.535770",
     "status": "completed"
    },
    "tags": []
   },
   "outputs": [
    {
     "name": "stdout",
     "output_type": "stream",
     "text": [
      "xavier\n",
      "xavier\n",
      "xavier\n",
      "xavier\n",
      "xavier\n"
     ]
    }
   ],
   "source": [
    "layers = [Affine(\"first\", 784, 100), Relu(\"first\"), Affine(\"second\", 100, 100), Relu(\"second\"), Affine(\"third\", 100, 2), Affine(\"last\", 2, 1), Sigmoid(\"last\")]\n",
    "model_nn = Model(layers)\n",
    "model_lr = Model([Affine(\"logits\", 784, 1), Sigmoid(\"sigmoid\")])"
   ]
  },
  {
   "cell_type": "code",
   "execution_count": 20,
   "id": "6eede77a",
   "metadata": {
    "execution": {
     "iopub.execute_input": "2022-03-28T20:10:32.677488Z",
     "iopub.status.busy": "2022-03-28T20:10:32.676778Z",
     "iopub.status.idle": "2022-03-28T20:10:32.692023Z",
     "shell.execute_reply": "2022-03-28T20:10:32.691465Z"
    },
    "papermill": {
     "duration": 0.058515,
     "end_time": "2022-03-28T20:10:32.692166",
     "exception": false,
     "start_time": "2022-03-28T20:10:32.633651",
     "status": "completed"
    },
    "tags": []
   },
   "outputs": [],
   "source": [
    "nn_learner = Learner(loss, model_nn, opt, config.num_epochs)\n",
    "acc_nn = ClfCallback(nn_learner, config.bs, training_data_x , testing_data_x, training_data_y, testing_data_y)\n",
    "nn_learner.set_callbacks([acc_nn])"
   ]
  },
  {
   "cell_type": "code",
   "execution_count": 21,
   "id": "877b6cc7",
   "metadata": {
    "execution": {
     "iopub.execute_input": "2022-03-28T20:10:32.769248Z",
     "iopub.status.busy": "2022-03-28T20:10:32.768551Z",
     "iopub.status.idle": "2022-03-28T20:10:32.782883Z",
     "shell.execute_reply": "2022-03-28T20:10:32.782308Z"
    },
    "papermill": {
     "duration": 0.053897,
     "end_time": "2022-03-28T20:10:32.783016",
     "exception": false,
     "start_time": "2022-03-28T20:10:32.729119",
     "status": "completed"
    },
    "tags": []
   },
   "outputs": [],
   "source": [
    "lr_learner = Learner(loss, model_lr, opt, config.num_epochs)\n",
    "acc_lr = ClfCallback(lr_learner, config.bs, training_data_x , testing_data_x, training_data_y, testing_data_y)\n",
    "lr_learner.set_callbacks([acc_lr])"
   ]
  },
  {
   "cell_type": "code",
   "execution_count": 22,
   "id": "d9b133c3",
   "metadata": {
    "execution": {
     "iopub.execute_input": "2022-03-28T20:10:32.860947Z",
     "iopub.status.busy": "2022-03-28T20:10:32.860282Z",
     "iopub.status.idle": "2022-03-28T20:12:59.635237Z",
     "shell.execute_reply": "2022-03-28T20:12:59.636081Z"
    },
    "papermill": {
     "duration": 146.817232,
     "end_time": "2022-03-28T20:12:59.636248",
     "exception": false,
     "start_time": "2022-03-28T20:10:32.819016",
     "status": "completed"
    },
    "tags": []
   },
   "outputs": [
    {
     "name": "stdout",
     "output_type": "stream",
     "text": [
      "Epoch 0, Loss 0.2486\n",
      "Training Accuracy: 0.5941, Testing Accuracy: 0.6169\n",
      "\n"
     ]
    },
    {
     "name": "stdout",
     "output_type": "stream",
     "text": [
      "Epoch 10, Loss 0.2422\n",
      "Training Accuracy: 0.8043, Testing Accuracy: 0.8281\n",
      "\n"
     ]
    },
    {
     "name": "stdout",
     "output_type": "stream",
     "text": [
      "Epoch 20, Loss 0.2141\n",
      "Training Accuracy: 0.8748, Testing Accuracy: 0.8957\n",
      "\n"
     ]
    },
    {
     "name": "stdout",
     "output_type": "stream",
     "text": [
      "Epoch 30, Loss 0.1225\n",
      "Training Accuracy: 0.9034, Testing Accuracy: 0.9108\n",
      "\n"
     ]
    },
    {
     "name": "stdout",
     "output_type": "stream",
     "text": [
      "Epoch 40, Loss 0.0707\n",
      "Training Accuracy: 0.9276, Testing Accuracy: 0.9370\n",
      "\n"
     ]
    },
    {
     "name": "stdout",
     "output_type": "stream",
     "text": [
      "Epoch 50, Loss 0.0526\n",
      "Training Accuracy: 0.9427, Testing Accuracy: 0.9511\n",
      "\n"
     ]
    },
    {
     "name": "stdout",
     "output_type": "stream",
     "text": [
      "Epoch 60, Loss 0.0441\n",
      "Training Accuracy: 0.9506, Testing Accuracy: 0.9572\n",
      "\n"
     ]
    },
    {
     "name": "stdout",
     "output_type": "stream",
     "text": [
      "Epoch 70, Loss 0.0393\n",
      "Training Accuracy: 0.9545, Testing Accuracy: 0.9617\n",
      "\n"
     ]
    },
    {
     "name": "stdout",
     "output_type": "stream",
     "text": [
      "Epoch 80, Loss 0.0362\n",
      "Training Accuracy: 0.9570, Testing Accuracy: 0.9642\n",
      "\n"
     ]
    },
    {
     "name": "stdout",
     "output_type": "stream",
     "text": [
      "Epoch 90, Loss 0.0339\n",
      "Training Accuracy: 0.9598, Testing Accuracy: 0.9657\n",
      "\n"
     ]
    },
    {
     "name": "stdout",
     "output_type": "stream",
     "text": [
      "Epoch 100, Loss 0.0322\n",
      "Training Accuracy: 0.9619, Testing Accuracy: 0.9662\n",
      "\n"
     ]
    },
    {
     "name": "stdout",
     "output_type": "stream",
     "text": [
      "Epoch 110, Loss 0.0307\n",
      "Training Accuracy: 0.9641, Testing Accuracy: 0.9677\n",
      "\n"
     ]
    },
    {
     "name": "stdout",
     "output_type": "stream",
     "text": [
      "Epoch 120, Loss 0.0295\n",
      "Training Accuracy: 0.9651, Testing Accuracy: 0.9682\n",
      "\n"
     ]
    },
    {
     "name": "stdout",
     "output_type": "stream",
     "text": [
      "Epoch 130, Loss 0.0285\n",
      "Training Accuracy: 0.9673, Testing Accuracy: 0.9688\n",
      "\n"
     ]
    },
    {
     "name": "stdout",
     "output_type": "stream",
     "text": [
      "Epoch 140, Loss 0.0276\n",
      "Training Accuracy: 0.9680, Testing Accuracy: 0.9682\n",
      "\n"
     ]
    },
    {
     "name": "stdout",
     "output_type": "stream",
     "text": [
      "Epoch 150, Loss 0.0267\n",
      "Training Accuracy: 0.9687, Testing Accuracy: 0.9688\n",
      "\n"
     ]
    },
    {
     "name": "stdout",
     "output_type": "stream",
     "text": [
      "Epoch 160, Loss 0.026\n",
      "Training Accuracy: 0.9695, Testing Accuracy: 0.9693\n",
      "\n"
     ]
    },
    {
     "name": "stdout",
     "output_type": "stream",
     "text": [
      "Epoch 170, Loss 0.0253\n",
      "Training Accuracy: 0.9706, Testing Accuracy: 0.9693\n",
      "\n"
     ]
    },
    {
     "name": "stdout",
     "output_type": "stream",
     "text": [
      "Epoch 180, Loss 0.0247\n",
      "Training Accuracy: 0.9713, Testing Accuracy: 0.9693\n",
      "\n"
     ]
    },
    {
     "name": "stdout",
     "output_type": "stream",
     "text": [
      "Epoch 190, Loss 0.0241\n",
      "Training Accuracy: 0.9723, Testing Accuracy: 0.9703\n",
      "\n"
     ]
    },
    {
     "name": "stdout",
     "output_type": "stream",
     "text": [
      "Epoch 200, Loss 0.0236\n",
      "Training Accuracy: 0.9730, Testing Accuracy: 0.9708\n",
      "\n"
     ]
    },
    {
     "name": "stdout",
     "output_type": "stream",
     "text": [
      "Epoch 210, Loss 0.023\n",
      "Training Accuracy: 0.9735, Testing Accuracy: 0.9718\n",
      "\n"
     ]
    },
    {
     "name": "stdout",
     "output_type": "stream",
     "text": [
      "Epoch 220, Loss 0.0225\n",
      "Training Accuracy: 0.9742, Testing Accuracy: 0.9723\n",
      "\n"
     ]
    },
    {
     "name": "stdout",
     "output_type": "stream",
     "text": [
      "Epoch 230, Loss 0.0221\n",
      "Training Accuracy: 0.9744, Testing Accuracy: 0.9728\n",
      "\n"
     ]
    },
    {
     "name": "stdout",
     "output_type": "stream",
     "text": [
      "Epoch 240, Loss 0.0216\n",
      "Training Accuracy: 0.9749, Testing Accuracy: 0.9738\n",
      "\n"
     ]
    },
    {
     "data": {
      "text/plain": [
       "0.013146478442871845"
      ]
     },
     "execution_count": 22,
     "metadata": {},
     "output_type": "execute_result"
    }
   ],
   "source": [
    "nn_learner.train_loop(dl)"
   ]
  },
  {
   "cell_type": "code",
   "execution_count": 23,
   "id": "e0163366",
   "metadata": {
    "execution": {
     "iopub.execute_input": "2022-03-28T20:12:59.740393Z",
     "iopub.status.busy": "2022-03-28T20:12:59.739679Z",
     "iopub.status.idle": "2022-03-28T20:13:20.851060Z",
     "shell.execute_reply": "2022-03-28T20:13:20.852012Z"
    },
    "papermill": {
     "duration": 21.169571,
     "end_time": "2022-03-28T20:13:20.852222",
     "exception": false,
     "start_time": "2022-03-28T20:12:59.682651",
     "status": "completed"
    },
    "tags": []
   },
   "outputs": [
    {
     "name": "stdout",
     "output_type": "stream",
     "text": [
      "Epoch 0, Loss 0.2368\n",
      "Training Accuracy: 0.7097, Testing Accuracy: 0.7293\n",
      "\n"
     ]
    },
    {
     "name": "stdout",
     "output_type": "stream",
     "text": [
      "Epoch 10, Loss 0.1037\n",
      "Training Accuracy: 0.9005, Testing Accuracy: 0.9103\n",
      "\n"
     ]
    },
    {
     "name": "stdout",
     "output_type": "stream",
     "text": [
      "Epoch 20, Loss 0.0803\n",
      "Training Accuracy: 0.9205, Testing Accuracy: 0.9330\n",
      "\n"
     ]
    },
    {
     "name": "stdout",
     "output_type": "stream",
     "text": [
      "Epoch 30, Loss 0.0691\n",
      "Training Accuracy: 0.9312, Testing Accuracy: 0.9446\n",
      "\n"
     ]
    },
    {
     "name": "stdout",
     "output_type": "stream",
     "text": [
      "Epoch 40, Loss 0.0623\n",
      "Training Accuracy: 0.9382, Testing Accuracy: 0.9501\n",
      "\n"
     ]
    },
    {
     "name": "stdout",
     "output_type": "stream",
     "text": [
      "Epoch 50, Loss 0.0576\n",
      "Training Accuracy: 0.9429, Testing Accuracy: 0.9551\n",
      "\n"
     ]
    },
    {
     "name": "stdout",
     "output_type": "stream",
     "text": [
      "Epoch 60, Loss 0.0542\n",
      "Training Accuracy: 0.9456, Testing Accuracy: 0.9567\n",
      "\n"
     ]
    },
    {
     "name": "stdout",
     "output_type": "stream",
     "text": [
      "Epoch 70, Loss 0.0516\n",
      "Training Accuracy: 0.9483, Testing Accuracy: 0.9582\n",
      "\n"
     ]
    },
    {
     "name": "stdout",
     "output_type": "stream",
     "text": [
      "Epoch 80, Loss 0.0494\n",
      "Training Accuracy: 0.9498, Testing Accuracy: 0.9587\n",
      "\n"
     ]
    },
    {
     "name": "stdout",
     "output_type": "stream",
     "text": [
      "Epoch 90, Loss 0.0477\n",
      "Training Accuracy: 0.9513, Testing Accuracy: 0.9622\n",
      "\n"
     ]
    },
    {
     "name": "stdout",
     "output_type": "stream",
     "text": [
      "Epoch 100, Loss 0.0462\n",
      "Training Accuracy: 0.9523, Testing Accuracy: 0.9637\n",
      "\n"
     ]
    },
    {
     "name": "stdout",
     "output_type": "stream",
     "text": [
      "Epoch 110, Loss 0.045\n",
      "Training Accuracy: 0.9533, Testing Accuracy: 0.9672\n",
      "\n"
     ]
    },
    {
     "name": "stdout",
     "output_type": "stream",
     "text": [
      "Epoch 120, Loss 0.0439\n",
      "Training Accuracy: 0.9544, Testing Accuracy: 0.9677\n",
      "\n"
     ]
    },
    {
     "name": "stdout",
     "output_type": "stream",
     "text": [
      "Epoch 130, Loss 0.043\n",
      "Training Accuracy: 0.9553, Testing Accuracy: 0.9672\n",
      "\n"
     ]
    },
    {
     "name": "stdout",
     "output_type": "stream",
     "text": [
      "Epoch 140, Loss 0.0421\n",
      "Training Accuracy: 0.9560, Testing Accuracy: 0.9682\n",
      "\n"
     ]
    },
    {
     "name": "stdout",
     "output_type": "stream",
     "text": [
      "Epoch 150, Loss 0.0414\n",
      "Training Accuracy: 0.9571, Testing Accuracy: 0.9677\n",
      "\n"
     ]
    },
    {
     "name": "stdout",
     "output_type": "stream",
     "text": [
      "Epoch 160, Loss 0.0407\n",
      "Training Accuracy: 0.9577, Testing Accuracy: 0.9672\n",
      "\n"
     ]
    },
    {
     "name": "stdout",
     "output_type": "stream",
     "text": [
      "Epoch 170, Loss 0.0401\n",
      "Training Accuracy: 0.9582, Testing Accuracy: 0.9677\n",
      "\n"
     ]
    },
    {
     "name": "stdout",
     "output_type": "stream",
     "text": [
      "Epoch 180, Loss 0.0395\n",
      "Training Accuracy: 0.9590, Testing Accuracy: 0.9672\n",
      "\n"
     ]
    },
    {
     "name": "stdout",
     "output_type": "stream",
     "text": [
      "Epoch 190, Loss 0.039\n",
      "Training Accuracy: 0.9596, Testing Accuracy: 0.9667\n",
      "\n"
     ]
    },
    {
     "name": "stdout",
     "output_type": "stream",
     "text": [
      "Epoch 200, Loss 0.0385\n",
      "Training Accuracy: 0.9600, Testing Accuracy: 0.9667\n",
      "\n"
     ]
    },
    {
     "name": "stdout",
     "output_type": "stream",
     "text": [
      "Epoch 210, Loss 0.038\n",
      "Training Accuracy: 0.9603, Testing Accuracy: 0.9672\n",
      "\n"
     ]
    },
    {
     "name": "stdout",
     "output_type": "stream",
     "text": [
      "Epoch 220, Loss 0.0376\n",
      "Training Accuracy: 0.9604, Testing Accuracy: 0.9667\n",
      "\n"
     ]
    },
    {
     "name": "stdout",
     "output_type": "stream",
     "text": [
      "Epoch 230, Loss 0.0372\n",
      "Training Accuracy: 0.9604, Testing Accuracy: 0.9667\n",
      "\n"
     ]
    },
    {
     "name": "stdout",
     "output_type": "stream",
     "text": [
      "Epoch 240, Loss 0.0369\n",
      "Training Accuracy: 0.9609, Testing Accuracy: 0.9662\n",
      "\n"
     ]
    },
    {
     "data": {
      "text/plain": [
       "0.03054218935872107"
      ]
     },
     "execution_count": 23,
     "metadata": {},
     "output_type": "execute_result"
    }
   ],
   "source": [
    "lr_learner.train_loop(dl)"
   ]
  },
  {
   "cell_type": "code",
   "execution_count": 24,
   "id": "ca410940",
   "metadata": {
    "execution": {
     "iopub.execute_input": "2022-03-28T20:13:20.970390Z",
     "iopub.status.busy": "2022-03-28T20:13:20.969700Z",
     "iopub.status.idle": "2022-03-28T20:13:21.315917Z",
     "shell.execute_reply": "2022-03-28T20:13:21.316403Z"
    },
    "papermill": {
     "duration": 0.407423,
     "end_time": "2022-03-28T20:13:21.316568",
     "exception": false,
     "start_time": "2022-03-28T20:13:20.909145",
     "status": "completed"
    },
    "tags": []
   },
   "outputs": [
    {
     "data": {
      "text/plain": [
       "<matplotlib.legend.Legend at 0x7f418a5fecf8>"
      ]
     },
     "execution_count": 24,
     "metadata": {},
     "output_type": "execute_result"
    },
    {
     "data": {
      "image/png": "[encoded data removed]",
      "text/plain": [
       "<Figure size 1080x720 with 1 Axes>"
      ]
     },
     "metadata": {
      "needs_background": "light"
     },
     "output_type": "display_data"
    }
   ],
   "source": [
    "#comparing the results of NN and LR\n",
    "plt.figure(figsize=(15,10))\n",
    "\n",
    "# Neural Network plots\n",
    "plt.plot(acc_nn.accuracies, 'r-', label = \"Training Accuracies - NN\")\n",
    "plt.plot(acc_nn.test_accuracies, 'g-', label = \"Testing Accuracies - NN\")\n",
    "\n",
    "# Logistic Regression plots\n",
    "plt.plot(acc_lr.accuracies, 'k-', label = \"Training Accuracies - LR\")\n",
    "plt.plot(acc_lr.test_accuracies, 'b-', label = \"Testing Accuracies - LR\")\n",
    "plt.legend()"
   ]
  },
  {
   "cell_type": "markdown",
   "id": "80dfb35c",
   "metadata": {
    "papermill": {
     "duration": 0.056482,
     "end_time": "2022-03-28T20:13:21.429531",
     "exception": false,
     "start_time": "2022-03-28T20:13:21.373049",
     "status": "completed"
    },
    "tags": []
   },
   "source": [
    "#### Plotting the outputs of this layer of the NN.\n"
   ]
  },
  {
   "cell_type": "code",
   "execution_count": 25,
   "id": "45eb2ff5",
   "metadata": {
    "execution": {
     "iopub.execute_input": "2022-03-28T20:13:21.549244Z",
     "iopub.status.busy": "2022-03-28T20:13:21.543719Z",
     "iopub.status.idle": "2022-03-28T20:13:21.574558Z",
     "shell.execute_reply": "2022-03-28T20:13:21.575527Z"
    },
    "papermill": {
     "duration": 0.091537,
     "end_time": "2022-03-28T20:13:21.575711",
     "exception": false,
     "start_time": "2022-03-28T20:13:21.484174",
     "status": "completed"
    },
    "tags": []
   },
   "outputs": [],
   "source": [
    "new_model = Model(layers[:-2])\n",
    "testing_plot = new_model(testing_data_x)"
   ]
  },
  {
   "cell_type": "code",
   "execution_count": 26,
   "id": "4c0a5485",
   "metadata": {
    "execution": {
     "iopub.execute_input": "2022-03-28T20:13:21.694457Z",
     "iopub.status.busy": "2022-03-28T20:13:21.693786Z",
     "iopub.status.idle": "2022-03-28T20:13:21.966656Z",
     "shell.execute_reply": "2022-03-28T20:13:21.966155Z"
    },
    "papermill": {
     "duration": 0.335023,
     "end_time": "2022-03-28T20:13:21.966789",
     "exception": false,
     "start_time": "2022-03-28T20:13:21.631766",
     "status": "completed"
    },
    "tags": []
   },
   "outputs": [
    {
     "data": {
      "text/plain": [
       "Text(0.5, 1.0, 'Outputs')"
      ]
     },
     "execution_count": 26,
     "metadata": {},
     "output_type": "execute_result"
    },
    {
     "data": {
      "image/png": "[encoded data removed]",
      "text/plain": [
       "<Figure size 576x504 with 1 Axes>"
      ]
     },
     "metadata": {
      "needs_background": "light"
     },
     "output_type": "display_data"
    }
   ],
   "source": [
    "# Plotting the scatter plot of points and color coding by class\n",
    "plt.figure(figsize=(8,7))\n",
    "plt.scatter(testing_plot[:,0], testing_plot[:,1], alpha = 0.1, c = y_test.ravel());\n",
    "plt.title('Outputs')"
   ]
  },
  {
   "cell_type": "markdown",
   "id": "a74fcf8f",
   "metadata": {
    "papermill": {
     "duration": 0.055463,
     "end_time": "2022-03-28T20:13:22.079315",
     "exception": false,
     "start_time": "2022-03-28T20:13:22.023852",
     "status": "completed"
    },
    "tags": []
   },
   "source": [
    "Probability contours"
   ]
  },
  {
   "cell_type": "code",
   "execution_count": 27,
   "id": "d0afc8e3",
   "metadata": {
    "execution": {
     "iopub.execute_input": "2022-03-28T20:13:22.229657Z",
     "iopub.status.busy": "2022-03-28T20:13:22.228638Z",
     "iopub.status.idle": "2022-03-28T20:13:22.240085Z",
     "shell.execute_reply": "2022-03-28T20:13:22.239549Z"
    },
    "papermill": {
     "duration": 0.077298,
     "end_time": "2022-03-28T20:13:22.240214",
     "exception": false,
     "start_time": "2022-03-28T20:13:22.162916",
     "status": "completed"
    },
    "tags": []
   },
   "outputs": [],
   "source": [
    "model_prob = Model(layers[-2:]) "
   ]
  },
  {
   "cell_type": "code",
   "execution_count": 28,
   "id": "9b96e238",
   "metadata": {
    "execution": {
     "iopub.execute_input": "2022-03-28T20:13:22.365240Z",
     "iopub.status.busy": "2022-03-28T20:13:22.364202Z",
     "iopub.status.idle": "2022-03-28T20:13:22.380778Z",
     "shell.execute_reply": "2022-03-28T20:13:22.380149Z"
    },
    "papermill": {
     "duration": 0.084643,
     "end_time": "2022-03-28T20:13:22.381054",
     "exception": false,
     "start_time": "2022-03-28T20:13:22.296411",
     "status": "completed"
    },
    "tags": []
   },
   "outputs": [],
   "source": [
    "#creating the x and y ranges according to the above generated plot.\n",
    "x_range = np.linspace(-4, 1, 100) \n",
    "y_range = np.linspace(-6, 6, 100) \n",
    "x_grid, y_grid = np.meshgrid(x_range, y_range) # x_grid and y_grig are of size 100 X 100\n",
    "\n",
    "# converting x_grid and y_grid to continuous arrays\n",
    "x_gridflat = np.ravel(x_grid)\n",
    "y_gridflat = np.ravel(y_grid)\n",
    "\n",
    "# The last layer of the current model takes two columns as input. Hence transpose of np.vstack() is required.\n",
    "X = np.vstack((x_gridflat, y_gridflat)).T\n",
    "\n",
    "prob_contour = model_prob(X).reshape(100,100) "
   ]
  },
  {
   "cell_type": "code",
   "execution_count": 29,
   "id": "da72499a",
   "metadata": {
    "execution": {
     "iopub.execute_input": "2022-03-28T20:13:22.502660Z",
     "iopub.status.busy": "2022-03-28T20:13:22.501630Z",
     "iopub.status.idle": "2022-03-28T20:13:22.849338Z",
     "shell.execute_reply": "2022-03-28T20:13:22.849962Z"
    },
    "papermill": {
     "duration": 0.411492,
     "end_time": "2022-03-28T20:13:22.850141",
     "exception": false,
     "start_time": "2022-03-28T20:13:22.438649",
     "status": "completed"
    },
    "tags": []
   },
   "outputs": [
    {
     "data": {
      "image/png": "[encoded data removed]",
      "text/plain": [
       "<Figure size 720x648 with 1 Axes>"
      ]
     },
     "metadata": {
      "needs_background": "light"
     },
     "output_type": "display_data"
    }
   ],
   "source": [
    "plt.figure(figsize=(10,9))\n",
    "plt.scatter(testing_plot[:,0], testing_plot[:,1], alpha = 0.1, c = y_test.ravel())\n",
    "contours = plt.contour(x_grid,y_grid,prob_contour)\n",
    "plt.title('Probability Contours')\n",
    "plt.clabel(contours, inline = True );"
   ]
  },
  {
   "cell_type": "code",
   "execution_count": null,
   "id": "e81b4ac7",
   "metadata": {
    "papermill": {
     "duration": 0.06117,
     "end_time": "2022-03-28T20:13:22.969978",
     "exception": false,
     "start_time": "2022-03-28T20:13:22.908808",
     "status": "completed"
    },
    "tags": []
   },
   "outputs": [],
   "source": []
  }
 ],
 "metadata": {
  "kernelspec": {
   "display_name": "Python 3",
   "language": "python",
   "name": "python3"
  },
  "language_info": {
   "codemirror_mode": {
    "name": "ipython",
    "version": 3
   },
   "file_extension": ".py",
   "mimetype": "text/x-python",
   "name": "python",
   "nbconvert_exporter": "python",
   "pygments_lexer": "ipython3",
   "version": "3.6.15"
  },
  "papermill": {
   "default_parameters": {},
   "duration": 197.305611,
   "end_time": "2022-03-28T20:13:23.450938",
   "environment_variables": {},
   "exception": null,
   "input_path": "2020-08-11-part2.ipynb",
   "output_path": "2020-08-11-part2.ipynb",
   "parameters": {},
   "start_time": "2022-03-28T20:10:06.145327",
   "version": "2.3.3"
  }
 },
 "nbformat": 4,
 "nbformat_minor": 5
}