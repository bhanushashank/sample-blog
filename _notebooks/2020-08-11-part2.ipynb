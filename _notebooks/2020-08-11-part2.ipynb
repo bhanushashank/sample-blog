{
 "cells": [
  {
   "cell_type": "markdown",
   "id": "98380cd3",
   "metadata": {
    "papermill": {
     "duration": 0.028121,
     "end_time": "2021-10-18T00:21:19.701563",
     "exception": false,
     "start_time": "2021-10-18T00:21:19.673442",
     "status": "completed"
    },
    "tags": []
   },
   "source": [
    "# Distinguish Your Own Digits (DYOD)"
   ]
  },
  {
   "cell_type": "markdown",
   "id": "ef31240d",
   "metadata": {
    "papermill": {
     "duration": 0.023852,
     "end_time": "2021-10-18T00:21:19.750189",
     "exception": false,
     "start_time": "2021-10-18T00:21:19.726337",
     "status": "completed"
    },
    "tags": []
   },
   "source": [
    "You are going to write a classifier that distinguishes between the number 3 and number 8."
   ]
  },
  {
   "cell_type": "code",
   "execution_count": 1,
   "id": "b15c8646",
   "metadata": {
    "execution": {
     "iopub.execute_input": "2021-10-18T00:21:19.810056Z",
     "iopub.status.busy": "2021-10-18T00:21:19.809521Z",
     "iopub.status.idle": "2021-10-18T00:21:19.819774Z",
     "shell.execute_reply": "2021-10-18T00:21:19.819350Z"
    },
    "papermill": {
     "duration": 0.045922,
     "end_time": "2021-10-18T00:21:19.819899",
     "exception": false,
     "start_time": "2021-10-18T00:21:19.773977",
     "status": "completed"
    },
    "tags": []
   },
   "outputs": [],
   "source": [
    "%load_ext autoreload\n",
    "%autoreload 2"
   ]
  },
  {
   "cell_type": "code",
   "execution_count": 2,
   "id": "22ef38dc",
   "metadata": {
    "execution": {
     "iopub.execute_input": "2021-10-18T00:21:19.889352Z",
     "iopub.status.busy": "2021-10-18T00:21:19.881008Z",
     "iopub.status.idle": "2021-10-18T00:21:20.379052Z",
     "shell.execute_reply": "2021-10-18T00:21:20.378522Z"
    },
    "papermill": {
     "duration": 0.535303,
     "end_time": "2021-10-18T00:21:20.379200",
     "exception": false,
     "start_time": "2021-10-18T00:21:19.843897",
     "status": "completed"
    },
    "tags": []
   },
   "outputs": [],
   "source": [
    "%matplotlib inline\n",
    "import numpy as np\n",
    "import matplotlib.pyplot as plt\n",
    "import pandas as pd"
   ]
  },
  {
   "cell_type": "markdown",
   "id": "ba036198",
   "metadata": {
    "papermill": {
     "duration": 0.024019,
     "end_time": "2021-10-18T00:21:20.428262",
     "exception": false,
     "start_time": "2021-10-18T00:21:20.404243",
     "status": "completed"
    },
    "tags": []
   },
   "source": [
    "From the command line run `pip install mnist`. This is a library that will help you bring down the mnist dataset. If you run this from a notebook, you need to put  `!pip install mnist` in a cell by itself."
   ]
  },
  {
   "cell_type": "code",
   "execution_count": 3,
   "id": "bb6ad8a1",
   "metadata": {
    "execution": {
     "iopub.execute_input": "2021-10-18T00:21:20.483382Z",
     "iopub.status.busy": "2021-10-18T00:21:20.482864Z",
     "iopub.status.idle": "2021-10-18T00:21:22.158611Z",
     "shell.execute_reply": "2021-10-18T00:21:22.158069Z"
    },
    "papermill": {
     "duration": 1.706493,
     "end_time": "2021-10-18T00:21:22.158762",
     "exception": false,
     "start_time": "2021-10-18T00:21:20.452269",
     "status": "completed"
    },
    "tags": []
   },
   "outputs": [
    {
     "name": "stdout",
     "output_type": "stream",
     "text": [
      "Collecting mnist\r\n"
     ]
    },
    {
     "name": "stdout",
     "output_type": "stream",
     "text": [
      "  Downloading mnist-0.2.2-py2.py3-none-any.whl (3.5 kB)\r\n",
      "Requirement already satisfied: numpy in /opt/hostedtoolcache/Python/3.6.15/x64/lib/python3.6/site-packages (from mnist) (1.19.5)\r\n"
     ]
    },
    {
     "name": "stdout",
     "output_type": "stream",
     "text": [
      "Installing collected packages: mnist\r\n",
      "Successfully installed mnist-0.2.2\r\n"
     ]
    },
    {
     "name": "stdout",
     "output_type": "stream",
     "text": [
      "\u001b[33mWARNING: You are using pip version 21.2.4; however, version 21.3 is available.\r\n",
      "You should consider upgrading via the '/opt/hostedtoolcache/Python/3.6.15/x64/bin/python -m pip install --upgrade pip' command.\u001b[0m\r\n"
     ]
    }
   ],
   "source": [
    "!pip install mnist"
   ]
  },
  {
   "cell_type": "markdown",
   "id": "69df9c9a",
   "metadata": {
    "papermill": {
     "duration": 0.025149,
     "end_time": "2021-10-18T00:21:22.209503",
     "exception": false,
     "start_time": "2021-10-18T00:21:22.184354",
     "status": "completed"
    },
    "tags": []
   },
   "source": [
    "## Preparing the Data"
   ]
  },
  {
   "cell_type": "code",
   "execution_count": 4,
   "id": "7f69d806",
   "metadata": {
    "execution": {
     "iopub.execute_input": "2021-10-18T00:21:22.263403Z",
     "iopub.status.busy": "2021-10-18T00:21:22.262884Z",
     "iopub.status.idle": "2021-10-18T00:21:22.276541Z",
     "shell.execute_reply": "2021-10-18T00:21:22.276973Z"
    },
    "papermill": {
     "duration": 0.042412,
     "end_time": "2021-10-18T00:21:22.277098",
     "exception": false,
     "start_time": "2021-10-18T00:21:22.234686",
     "status": "completed"
    },
    "tags": []
   },
   "outputs": [],
   "source": [
    "import mnist"
   ]
  },
  {
   "cell_type": "code",
   "execution_count": 5,
   "id": "a411e44f",
   "metadata": {
    "execution": {
     "iopub.execute_input": "2021-10-18T00:21:22.335495Z",
     "iopub.status.busy": "2021-10-18T00:21:22.334988Z",
     "iopub.status.idle": "2021-10-18T00:21:22.970710Z",
     "shell.execute_reply": "2021-10-18T00:21:22.969524Z"
    },
    "papermill": {
     "duration": 0.668841,
     "end_time": "2021-10-18T00:21:22.970868",
     "exception": false,
     "start_time": "2021-10-18T00:21:22.302027",
     "status": "completed"
    },
    "tags": []
   },
   "outputs": [],
   "source": [
    "train_images = mnist.train_images()\n",
    "train_labels = mnist.train_labels()"
   ]
  },
  {
   "cell_type": "code",
   "execution_count": 6,
   "id": "dceab3a5",
   "metadata": {
    "execution": {
     "iopub.execute_input": "2021-10-18T00:21:23.025241Z",
     "iopub.status.busy": "2021-10-18T00:21:23.024652Z",
     "iopub.status.idle": "2021-10-18T00:21:23.038234Z",
     "shell.execute_reply": "2021-10-18T00:21:23.037805Z"
    },
    "papermill": {
     "duration": 0.041814,
     "end_time": "2021-10-18T00:21:23.038344",
     "exception": false,
     "start_time": "2021-10-18T00:21:22.996530",
     "status": "completed"
    },
    "tags": []
   },
   "outputs": [
    {
     "data": {
      "text/plain": [
       "((60000, 28, 28), (60000,))"
      ]
     },
     "execution_count": 6,
     "metadata": {},
     "output_type": "execute_result"
    }
   ],
   "source": [
    "train_images.shape, train_labels.shape"
   ]
  },
  {
   "cell_type": "code",
   "execution_count": 7,
   "id": "f50dc2bb",
   "metadata": {
    "execution": {
     "iopub.execute_input": "2021-10-18T00:21:23.093060Z",
     "iopub.status.busy": "2021-10-18T00:21:23.092566Z",
     "iopub.status.idle": "2021-10-18T00:21:23.307568Z",
     "shell.execute_reply": "2021-10-18T00:21:23.306999Z"
    },
    "papermill": {
     "duration": 0.244187,
     "end_time": "2021-10-18T00:21:23.307710",
     "exception": false,
     "start_time": "2021-10-18T00:21:23.063523",
     "status": "completed"
    },
    "tags": []
   },
   "outputs": [],
   "source": [
    "test_images = mnist.test_images()\n",
    "test_labels = mnist.test_labels()"
   ]
  },
  {
   "cell_type": "code",
   "execution_count": 8,
   "id": "fc38cf1b",
   "metadata": {
    "execution": {
     "iopub.execute_input": "2021-10-18T00:21:23.366570Z",
     "iopub.status.busy": "2021-10-18T00:21:23.366047Z",
     "iopub.status.idle": "2021-10-18T00:21:23.379558Z",
     "shell.execute_reply": "2021-10-18T00:21:23.380055Z"
    },
    "papermill": {
     "duration": 0.046526,
     "end_time": "2021-10-18T00:21:23.380195",
     "exception": false,
     "start_time": "2021-10-18T00:21:23.333669",
     "status": "completed"
    },
    "tags": []
   },
   "outputs": [
    {
     "data": {
      "text/plain": [
       "((10000, 28, 28), (10000,))"
      ]
     },
     "execution_count": 8,
     "metadata": {},
     "output_type": "execute_result"
    }
   ],
   "source": [
    "test_images.shape, test_labels.shape"
   ]
  },
  {
   "cell_type": "code",
   "execution_count": 9,
   "id": "f9ed8fe0",
   "metadata": {
    "execution": {
     "iopub.execute_input": "2021-10-18T00:21:23.462879Z",
     "iopub.status.busy": "2021-10-18T00:21:23.462368Z",
     "iopub.status.idle": "2021-10-18T00:21:23.576680Z",
     "shell.execute_reply": "2021-10-18T00:21:23.577128Z"
    },
    "papermill": {
     "duration": 0.171445,
     "end_time": "2021-10-18T00:21:23.577294",
     "exception": false,
     "start_time": "2021-10-18T00:21:23.405849",
     "status": "completed"
    },
    "tags": []
   },
   "outputs": [
    {
     "name": "stdout",
     "output_type": "stream",
     "text": [
      "2\n"
     ]
    },
    {
     "data": {
      "text/plain": [
       "<matplotlib.image.AxesImage at 0x7f5e4c461ac8>"
      ]
     },
     "execution_count": 9,
     "metadata": {},
     "output_type": "execute_result"
    },
    {
     "data": {
      "image/png": "[encoded data removed]",
      "text/plain": [
       "<Figure size 432x288 with 1 Axes>"
      ]
     },
     "metadata": {
      "needs_background": "light"
     },
     "output_type": "display_data"
    }
   ],
   "source": [
    "image_index = 7776 # You may select anything up to 60,000\n",
    "print(train_labels[image_index]) \n",
    "plt.imshow(train_images[image_index], cmap='Greys')"
   ]
  },
  {
   "cell_type": "markdown",
   "id": "a8d2388d",
   "metadata": {
    "papermill": {
     "duration": 0.0263,
     "end_time": "2021-10-18T00:21:23.630947",
     "exception": false,
     "start_time": "2021-10-18T00:21:23.604647",
     "status": "completed"
    },
    "tags": []
   },
   "source": [
    "## Filter data to get 3 and 8 out"
   ]
  },
  {
   "cell_type": "code",
   "execution_count": 10,
   "id": "776f7fc7",
   "metadata": {
    "execution": {
     "iopub.execute_input": "2021-10-18T00:21:23.704674Z",
     "iopub.status.busy": "2021-10-18T00:21:23.696790Z",
     "iopub.status.idle": "2021-10-18T00:21:23.710105Z",
     "shell.execute_reply": "2021-10-18T00:21:23.709425Z"
    },
    "papermill": {
     "duration": 0.052915,
     "end_time": "2021-10-18T00:21:23.710227",
     "exception": false,
     "start_time": "2021-10-18T00:21:23.657312",
     "status": "completed"
    },
    "tags": []
   },
   "outputs": [],
   "source": [
    "train_filter = np.where((train_labels == 3 ) | (train_labels == 8))\n",
    "test_filter = np.where((test_labels == 3) | (test_labels == 8))\n",
    "X_train, y_train = train_images[train_filter], train_labels[train_filter]\n",
    "X_test, y_test = test_images[test_filter], test_labels[test_filter]"
   ]
  },
  {
   "cell_type": "markdown",
   "id": "948f0b7e",
   "metadata": {
    "papermill": {
     "duration": 0.026482,
     "end_time": "2021-10-18T00:21:23.763558",
     "exception": false,
     "start_time": "2021-10-18T00:21:23.737076",
     "status": "completed"
    },
    "tags": []
   },
   "source": [
    "We normalize the pizel values in the 0 to 1 range"
   ]
  },
  {
   "cell_type": "code",
   "execution_count": 11,
   "id": "ee4c2166",
   "metadata": {
    "execution": {
     "iopub.execute_input": "2021-10-18T00:21:23.820593Z",
     "iopub.status.busy": "2021-10-18T00:21:23.820068Z",
     "iopub.status.idle": "2021-10-18T00:21:23.866748Z",
     "shell.execute_reply": "2021-10-18T00:21:23.866273Z"
    },
    "papermill": {
     "duration": 0.076823,
     "end_time": "2021-10-18T00:21:23.866876",
     "exception": false,
     "start_time": "2021-10-18T00:21:23.790053",
     "status": "completed"
    },
    "tags": []
   },
   "outputs": [],
   "source": [
    "X_train = X_train/255.\n",
    "X_test = X_test/255."
   ]
  },
  {
   "cell_type": "markdown",
   "id": "ddcf4fab",
   "metadata": {
    "papermill": {
     "duration": 0.026743,
     "end_time": "2021-10-18T00:21:23.920527",
     "exception": false,
     "start_time": "2021-10-18T00:21:23.893784",
     "status": "completed"
    },
    "tags": []
   },
   "source": [
    "And setup the labels as 1 (when the digit is 3) and 0 (when the digit is 8)"
   ]
  },
  {
   "cell_type": "code",
   "execution_count": 12,
   "id": "7dc908f2",
   "metadata": {
    "execution": {
     "iopub.execute_input": "2021-10-18T00:21:23.980675Z",
     "iopub.status.busy": "2021-10-18T00:21:23.980157Z",
     "iopub.status.idle": "2021-10-18T00:21:23.989796Z",
     "shell.execute_reply": "2021-10-18T00:21:23.989366Z"
    },
    "papermill": {
     "duration": 0.043007,
     "end_time": "2021-10-18T00:21:23.989907",
     "exception": false,
     "start_time": "2021-10-18T00:21:23.946900",
     "status": "completed"
    },
    "tags": []
   },
   "outputs": [],
   "source": [
    "y_train = 1*(y_train==3)\n",
    "y_test = 1*(y_test==3)"
   ]
  },
  {
   "cell_type": "code",
   "execution_count": 13,
   "id": "01e4e969",
   "metadata": {
    "execution": {
     "iopub.execute_input": "2021-10-18T00:21:24.049079Z",
     "iopub.status.busy": "2021-10-18T00:21:24.048582Z",
     "iopub.status.idle": "2021-10-18T00:21:24.059133Z",
     "shell.execute_reply": "2021-10-18T00:21:24.058705Z"
    },
    "papermill": {
     "duration": 0.043044,
     "end_time": "2021-10-18T00:21:24.059242",
     "exception": false,
     "start_time": "2021-10-18T00:21:24.016198",
     "status": "completed"
    },
    "tags": []
   },
   "outputs": [
    {
     "data": {
      "text/plain": [
       "((11982, 28, 28), (1984, 28, 28))"
      ]
     },
     "execution_count": 13,
     "metadata": {},
     "output_type": "execute_result"
    }
   ],
   "source": [
    "X_train.shape, X_test.shape"
   ]
  },
  {
   "cell_type": "markdown",
   "id": "5ccf3f85",
   "metadata": {
    "papermill": {
     "duration": 0.026717,
     "end_time": "2021-10-18T00:21:24.112639",
     "exception": false,
     "start_time": "2021-10-18T00:21:24.085922",
     "status": "completed"
    },
    "tags": []
   },
   "source": [
    "We reshape the data to flatten the image pixels into a set of features or co-variates:"
   ]
  },
  {
   "cell_type": "code",
   "execution_count": 14,
   "id": "5286a4a3",
   "metadata": {
    "execution": {
     "iopub.execute_input": "2021-10-18T00:21:24.171583Z",
     "iopub.status.busy": "2021-10-18T00:21:24.171071Z",
     "iopub.status.idle": "2021-10-18T00:21:24.183518Z",
     "shell.execute_reply": "2021-10-18T00:21:24.183109Z"
    },
    "papermill": {
     "duration": 0.044187,
     "end_time": "2021-10-18T00:21:24.183640",
     "exception": false,
     "start_time": "2021-10-18T00:21:24.139453",
     "status": "completed"
    },
    "tags": []
   },
   "outputs": [
    {
     "data": {
      "text/plain": [
       "((11982, 784), (1984, 784))"
      ]
     },
     "execution_count": 14,
     "metadata": {},
     "output_type": "execute_result"
    }
   ],
   "source": [
    "X_train = X_train.reshape(X_train.shape[0], -1)\n",
    "X_test = X_test.reshape(X_test.shape[0], -1)\n",
    "X_train.shape, X_test.shape"
   ]
  },
  {
   "cell_type": "code",
   "execution_count": 15,
   "id": "73c5f88a",
   "metadata": {
    "execution": {
     "iopub.execute_input": "2021-10-18T00:21:24.242790Z",
     "iopub.status.busy": "2021-10-18T00:21:24.242274Z",
     "iopub.status.idle": "2021-10-18T00:21:24.259639Z",
     "shell.execute_reply": "2021-10-18T00:21:24.259232Z"
    },
    "papermill": {
     "duration": 0.048961,
     "end_time": "2021-10-18T00:21:24.259754",
     "exception": false,
     "start_time": "2021-10-18T00:21:24.210793",
     "status": "completed"
    },
    "tags": []
   },
   "outputs": [],
   "source": [
    "#Impoting functions from 'Kudzu'\n",
    "from kudzu.model import Model\n",
    "from kudzu.train import Learner\n",
    "from kudzu.optim import GD\n",
    "from kudzu.data import Data, Sampler,Dataloader\n",
    "\n",
    "from kudzu.callbacks import AccCallback\n",
    "from kudzu.callbacks import ClfCallback\n",
    "\n",
    "from kudzu.loss import MSE\n",
    "\n",
    "from kudzu.layer import Sigmoid,Relu\n",
    "from kudzu.layer import Affine"
   ]
  },
  {
   "cell_type": "markdown",
   "id": "bc01172a",
   "metadata": {
    "papermill": {
     "duration": 0.026852,
     "end_time": "2021-10-18T00:21:24.313597",
     "exception": false,
     "start_time": "2021-10-18T00:21:24.286745",
     "status": "completed"
    },
    "tags": []
   },
   "source": [
    "### Let us create a `Config` class, to store important parameters. \n",
    "This class essentially plays the role of a dictionary."
   ]
  },
  {
   "cell_type": "code",
   "execution_count": 16,
   "id": "978281aa",
   "metadata": {
    "execution": {
     "iopub.execute_input": "2021-10-18T00:21:24.378642Z",
     "iopub.status.busy": "2021-10-18T00:21:24.378131Z",
     "iopub.status.idle": "2021-10-18T00:21:24.385124Z",
     "shell.execute_reply": "2021-10-18T00:21:24.385504Z"
    },
    "papermill": {
     "duration": 0.045178,
     "end_time": "2021-10-18T00:21:24.385628",
     "exception": false,
     "start_time": "2021-10-18T00:21:24.340450",
     "status": "completed"
    },
    "tags": []
   },
   "outputs": [],
   "source": [
    "class Config:\n",
    "    pass\n",
    "config = Config()\n",
    "config.lr = 0.001\n",
    "config.num_epochs = 250\n",
    "config.bs = 50"
   ]
  },
  {
   "cell_type": "markdown",
   "id": "1385fa59",
   "metadata": {
    "papermill": {
     "duration": 0.026909,
     "end_time": "2021-10-18T00:21:24.439440",
     "exception": false,
     "start_time": "2021-10-18T00:21:24.412531",
     "status": "completed"
    },
    "tags": []
   },
   "source": [
    "### Running Models with the Training data\n",
    "Details about the network layers:\n",
    "- A first affine layer has 784 inputs and does 100 affine transforms. These are followed by a Relu\n",
    "- A second affine layer has 100 inputs from the 100 activations of the past layer, and does 100 affine transforms. These are followed by a Relu\n",
    "- A third affine layer has 100 activations and does 2 affine transformations to create an embedding for visualization. There is no non-linearity here.\n",
    "- A final \"logistic regression\" which has an affine transform from 2 inputs to 1 output, which is squeezed through a sigmoid.\n"
   ]
  },
  {
   "cell_type": "code",
   "execution_count": 17,
   "id": "2b9c66db",
   "metadata": {
    "execution": {
     "iopub.execute_input": "2021-10-18T00:21:24.510372Z",
     "iopub.status.busy": "2021-10-18T00:21:24.509823Z",
     "iopub.status.idle": "2021-10-18T00:21:24.512408Z",
     "shell.execute_reply": "2021-10-18T00:21:24.512815Z"
    },
    "papermill": {
     "duration": 0.046514,
     "end_time": "2021-10-18T00:21:24.512954",
     "exception": false,
     "start_time": "2021-10-18T00:21:24.466440",
     "status": "completed"
    },
    "tags": []
   },
   "outputs": [],
   "source": [
    "data = Data(X_train, y_train.reshape(-1,1))\n",
    "sampler = Sampler(data, config.bs, shuffle=True)\n",
    "\n",
    "dl = Dataloader(data, sampler)\n",
    "\n",
    "opt = GD(config.lr)\n",
    "loss = MSE()"
   ]
  },
  {
   "cell_type": "code",
   "execution_count": 18,
   "id": "b275e4c2",
   "metadata": {
    "execution": {
     "iopub.execute_input": "2021-10-18T00:21:24.580641Z",
     "iopub.status.busy": "2021-10-18T00:21:24.570646Z",
     "iopub.status.idle": "2021-10-18T00:21:24.585061Z",
     "shell.execute_reply": "2021-10-18T00:21:24.585444Z"
    },
    "papermill": {
     "duration": 0.045323,
     "end_time": "2021-10-18T00:21:24.585586",
     "exception": false,
     "start_time": "2021-10-18T00:21:24.540263",
     "status": "completed"
    },
    "tags": []
   },
   "outputs": [],
   "source": [
    "training_data_x = X_train\n",
    "testing_data_x = X_test\n",
    "training_data_y = y_train.reshape(-1,1)\n",
    "testing_data_y = y_test.reshape(-1,1)"
   ]
  },
  {
   "cell_type": "code",
   "execution_count": 19,
   "id": "76951160",
   "metadata": {
    "execution": {
     "iopub.execute_input": "2021-10-18T00:21:24.654301Z",
     "iopub.status.busy": "2021-10-18T00:21:24.648642Z",
     "iopub.status.idle": "2021-10-18T00:21:24.662209Z",
     "shell.execute_reply": "2021-10-18T00:21:24.661776Z"
    },
    "papermill": {
     "duration": 0.049631,
     "end_time": "2021-10-18T00:21:24.662324",
     "exception": false,
     "start_time": "2021-10-18T00:21:24.612693",
     "status": "completed"
    },
    "tags": []
   },
   "outputs": [
    {
     "name": "stdout",
     "output_type": "stream",
     "text": [
      "xavier\n",
      "xavier\n",
      "xavier\n",
      "xavier\n",
      "xavier\n"
     ]
    }
   ],
   "source": [
    "layers = [Affine(\"first\", 784, 100), Relu(\"first\"), Affine(\"second\", 100, 100), Relu(\"second\"), Affine(\"third\", 100, 2), Affine(\"last\", 2, 1), Sigmoid(\"last\")]\n",
    "model_nn = Model(layers)\n",
    "model_lr = Model([Affine(\"logits\", 784, 1), Sigmoid(\"sigmoid\")])"
   ]
  },
  {
   "cell_type": "code",
   "execution_count": 20,
   "id": "6eede77a",
   "metadata": {
    "execution": {
     "iopub.execute_input": "2021-10-18T00:21:24.732666Z",
     "iopub.status.busy": "2021-10-18T00:21:24.731018Z",
     "iopub.status.idle": "2021-10-18T00:21:24.739743Z",
     "shell.execute_reply": "2021-10-18T00:21:24.739335Z"
    },
    "papermill": {
     "duration": 0.045798,
     "end_time": "2021-10-18T00:21:24.739860",
     "exception": false,
     "start_time": "2021-10-18T00:21:24.694062",
     "status": "completed"
    },
    "tags": []
   },
   "outputs": [],
   "source": [
    "nn_learner = Learner(loss, model_nn, opt, config.num_epochs)\n",
    "acc_nn = ClfCallback(nn_learner, config.bs, training_data_x , testing_data_x, training_data_y, testing_data_y)\n",
    "nn_learner.set_callbacks([acc_nn])"
   ]
  },
  {
   "cell_type": "code",
   "execution_count": 21,
   "id": "877b6cc7",
   "metadata": {
    "execution": {
     "iopub.execute_input": "2021-10-18T00:21:24.798524Z",
     "iopub.status.busy": "2021-10-18T00:21:24.798019Z",
     "iopub.status.idle": "2021-10-18T00:21:24.809734Z",
     "shell.execute_reply": "2021-10-18T00:21:24.810162Z"
    },
    "papermill": {
     "duration": 0.04286,
     "end_time": "2021-10-18T00:21:24.810288",
     "exception": false,
     "start_time": "2021-10-18T00:21:24.767428",
     "status": "completed"
    },
    "tags": []
   },
   "outputs": [],
   "source": [
    "lr_learner = Learner(loss, model_lr, opt, config.num_epochs)\n",
    "acc_lr = ClfCallback(lr_learner, config.bs, training_data_x , testing_data_x, training_data_y, testing_data_y)\n",
    "lr_learner.set_callbacks([acc_lr])"
   ]
  },
  {
   "cell_type": "code",
   "execution_count": 22,
   "id": "d9b133c3",
   "metadata": {
    "execution": {
     "iopub.execute_input": "2021-10-18T00:21:24.873046Z",
     "iopub.status.busy": "2021-10-18T00:21:24.872549Z",
     "iopub.status.idle": "2021-10-18T00:22:41.765700Z",
     "shell.execute_reply": "2021-10-18T00:22:41.766456Z"
    },
    "papermill": {
     "duration": 76.929017,
     "end_time": "2021-10-18T00:22:41.766613",
     "exception": false,
     "start_time": "2021-10-18T00:21:24.837596",
     "status": "completed"
    },
    "tags": []
   },
   "outputs": [
    {
     "name": "stdout",
     "output_type": "stream",
     "text": [
      "Epoch 0, Loss 0.2502\n",
      "Training Accuracy: 0.5979, Testing Accuracy: 0.5852\n",
      "\n"
     ]
    },
    {
     "name": "stdout",
     "output_type": "stream",
     "text": [
      "Epoch 10, Loss 0.1171\n",
      "Training Accuracy: 0.8977, Testing Accuracy: 0.9133\n",
      "\n"
     ]
    },
    {
     "name": "stdout",
     "output_type": "stream",
     "text": [
      "Epoch 20, Loss 0.0651\n",
      "Training Accuracy: 0.9345, Testing Accuracy: 0.9476\n",
      "\n"
     ]
    },
    {
     "name": "stdout",
     "output_type": "stream",
     "text": [
      "Epoch 30, Loss 0.048\n",
      "Training Accuracy: 0.9497, Testing Accuracy: 0.9572\n",
      "\n"
     ]
    },
    {
     "name": "stdout",
     "output_type": "stream",
     "text": [
      "Epoch 40, Loss 0.0399\n",
      "Training Accuracy: 0.9572, Testing Accuracy: 0.9647\n",
      "\n"
     ]
    },
    {
     "name": "stdout",
     "output_type": "stream",
     "text": [
      "Epoch 50, Loss 0.0352\n",
      "Training Accuracy: 0.9599, Testing Accuracy: 0.9667\n",
      "\n"
     ]
    },
    {
     "name": "stdout",
     "output_type": "stream",
     "text": [
      "Epoch 60, Loss 0.0321\n",
      "Training Accuracy: 0.9639, Testing Accuracy: 0.9688\n",
      "\n"
     ]
    },
    {
     "name": "stdout",
     "output_type": "stream",
     "text": [
      "Epoch 70, Loss 0.0299\n",
      "Training Accuracy: 0.9663, Testing Accuracy: 0.9708\n",
      "\n"
     ]
    },
    {
     "name": "stdout",
     "output_type": "stream",
     "text": [
      "Epoch 80, Loss 0.0282\n",
      "Training Accuracy: 0.9676, Testing Accuracy: 0.9713\n",
      "\n"
     ]
    },
    {
     "name": "stdout",
     "output_type": "stream",
     "text": [
      "Epoch 90, Loss 0.0269\n",
      "Training Accuracy: 0.9690, Testing Accuracy: 0.9723\n",
      "\n"
     ]
    },
    {
     "name": "stdout",
     "output_type": "stream",
     "text": [
      "Epoch 100, Loss 0.0257\n",
      "Training Accuracy: 0.9700, Testing Accuracy: 0.9743\n",
      "\n"
     ]
    },
    {
     "name": "stdout",
     "output_type": "stream",
     "text": [
      "Epoch 110, Loss 0.0247\n",
      "Training Accuracy: 0.9710, Testing Accuracy: 0.9743\n",
      "\n"
     ]
    },
    {
     "name": "stdout",
     "output_type": "stream",
     "text": [
      "Epoch 120, Loss 0.0238\n",
      "Training Accuracy: 0.9715, Testing Accuracy: 0.9753\n",
      "\n"
     ]
    },
    {
     "name": "stdout",
     "output_type": "stream",
     "text": [
      "Epoch 130, Loss 0.023\n",
      "Training Accuracy: 0.9722, Testing Accuracy: 0.9758\n",
      "\n"
     ]
    },
    {
     "name": "stdout",
     "output_type": "stream",
     "text": [
      "Epoch 140, Loss 0.0223\n",
      "Training Accuracy: 0.9736, Testing Accuracy: 0.9758\n",
      "\n"
     ]
    },
    {
     "name": "stdout",
     "output_type": "stream",
     "text": [
      "Epoch 150, Loss 0.0216\n",
      "Training Accuracy: 0.9749, Testing Accuracy: 0.9758\n",
      "\n"
     ]
    },
    {
     "name": "stdout",
     "output_type": "stream",
     "text": [
      "Epoch 160, Loss 0.021\n",
      "Training Accuracy: 0.9760, Testing Accuracy: 0.9768\n",
      "\n"
     ]
    },
    {
     "name": "stdout",
     "output_type": "stream",
     "text": [
      "Epoch 170, Loss 0.0205\n",
      "Training Accuracy: 0.9765, Testing Accuracy: 0.9768\n",
      "\n"
     ]
    },
    {
     "name": "stdout",
     "output_type": "stream",
     "text": [
      "Epoch 180, Loss 0.02\n",
      "Training Accuracy: 0.9774, Testing Accuracy: 0.9763\n",
      "\n"
     ]
    },
    {
     "name": "stdout",
     "output_type": "stream",
     "text": [
      "Epoch 190, Loss 0.0194\n",
      "Training Accuracy: 0.9778, Testing Accuracy: 0.9773\n",
      "\n"
     ]
    },
    {
     "name": "stdout",
     "output_type": "stream",
     "text": [
      "Epoch 200, Loss 0.019\n",
      "Training Accuracy: 0.9790, Testing Accuracy: 0.9783\n",
      "\n"
     ]
    },
    {
     "name": "stdout",
     "output_type": "stream",
     "text": [
      "Epoch 210, Loss 0.0185\n",
      "Training Accuracy: 0.9795, Testing Accuracy: 0.9773\n",
      "\n"
     ]
    },
    {
     "name": "stdout",
     "output_type": "stream",
     "text": [
      "Epoch 220, Loss 0.0181\n",
      "Training Accuracy: 0.9799, Testing Accuracy: 0.9773\n",
      "\n"
     ]
    },
    {
     "name": "stdout",
     "output_type": "stream",
     "text": [
      "Epoch 230, Loss 0.0177\n",
      "Training Accuracy: 0.9801, Testing Accuracy: 0.9773\n",
      "\n"
     ]
    },
    {
     "name": "stdout",
     "output_type": "stream",
     "text": [
      "Epoch 240, Loss 0.0173\n",
      "Training Accuracy: 0.9810, Testing Accuracy: 0.9773\n",
      "\n"
     ]
    },
    {
     "data": {
      "text/plain": [
       "0.03181858123088595"
      ]
     },
     "execution_count": 22,
     "metadata": {},
     "output_type": "execute_result"
    }
   ],
   "source": [
    "nn_learner.train_loop(dl)"
   ]
  },
  {
   "cell_type": "code",
   "execution_count": 23,
   "id": "e0163366",
   "metadata": {
    "execution": {
     "iopub.execute_input": "2021-10-18T00:22:41.848031Z",
     "iopub.status.busy": "2021-10-18T00:22:41.847488Z",
     "iopub.status.idle": "2021-10-18T00:22:55.857504Z",
     "shell.execute_reply": "2021-10-18T00:22:55.857995Z"
    },
    "papermill": {
     "duration": 14.056484,
     "end_time": "2021-10-18T00:22:55.858140",
     "exception": false,
     "start_time": "2021-10-18T00:22:41.801656",
     "status": "completed"
    },
    "tags": []
   },
   "outputs": [
    {
     "name": "stdout",
     "output_type": "stream",
     "text": [
      "Epoch 0, Loss 0.2676\n",
      "Training Accuracy: 0.5692, Testing Accuracy: 0.5570\n",
      "\n"
     ]
    },
    {
     "name": "stdout",
     "output_type": "stream",
     "text": [
      "Epoch 10, Loss 0.1056\n",
      "Training Accuracy: 0.9011, Testing Accuracy: 0.9173\n",
      "\n"
     ]
    },
    {
     "name": "stdout",
     "output_type": "stream",
     "text": [
      "Epoch 20, Loss 0.0807\n",
      "Training Accuracy: 0.9236, Testing Accuracy: 0.9365\n",
      "\n"
     ]
    },
    {
     "name": "stdout",
     "output_type": "stream",
     "text": [
      "Epoch 30, Loss 0.0694\n",
      "Training Accuracy: 0.9342, Testing Accuracy: 0.9461\n",
      "\n"
     ]
    },
    {
     "name": "stdout",
     "output_type": "stream",
     "text": [
      "Epoch 40, Loss 0.0625\n",
      "Training Accuracy: 0.9397, Testing Accuracy: 0.9511\n",
      "\n"
     ]
    },
    {
     "name": "stdout",
     "output_type": "stream",
     "text": [
      "Epoch 50, Loss 0.0579\n",
      "Training Accuracy: 0.9440, Testing Accuracy: 0.9556\n",
      "\n"
     ]
    },
    {
     "name": "stdout",
     "output_type": "stream",
     "text": [
      "Epoch 60, Loss 0.0544\n",
      "Training Accuracy: 0.9461, Testing Accuracy: 0.9572\n",
      "\n"
     ]
    },
    {
     "name": "stdout",
     "output_type": "stream",
     "text": [
      "Epoch 70, Loss 0.0517\n",
      "Training Accuracy: 0.9482, Testing Accuracy: 0.9577\n",
      "\n"
     ]
    },
    {
     "name": "stdout",
     "output_type": "stream",
     "text": [
      "Epoch 80, Loss 0.0496\n",
      "Training Accuracy: 0.9502, Testing Accuracy: 0.9577\n",
      "\n"
     ]
    },
    {
     "name": "stdout",
     "output_type": "stream",
     "text": [
      "Epoch 90, Loss 0.0478\n",
      "Training Accuracy: 0.9516, Testing Accuracy: 0.9582\n",
      "\n"
     ]
    },
    {
     "name": "stdout",
     "output_type": "stream",
     "text": [
      "Epoch 100, Loss 0.0463\n",
      "Training Accuracy: 0.9525, Testing Accuracy: 0.9592\n",
      "\n"
     ]
    },
    {
     "name": "stdout",
     "output_type": "stream",
     "text": [
      "Epoch 110, Loss 0.045\n",
      "Training Accuracy: 0.9543, Testing Accuracy: 0.9607\n",
      "\n"
     ]
    },
    {
     "name": "stdout",
     "output_type": "stream",
     "text": [
      "Epoch 120, Loss 0.0439\n",
      "Training Accuracy: 0.9552, Testing Accuracy: 0.9622\n",
      "\n"
     ]
    },
    {
     "name": "stdout",
     "output_type": "stream",
     "text": [
      "Epoch 130, Loss 0.043\n",
      "Training Accuracy: 0.9564, Testing Accuracy: 0.9627\n",
      "\n"
     ]
    },
    {
     "name": "stdout",
     "output_type": "stream",
     "text": [
      "Epoch 140, Loss 0.0421\n",
      "Training Accuracy: 0.9571, Testing Accuracy: 0.9627\n",
      "\n"
     ]
    },
    {
     "name": "stdout",
     "output_type": "stream",
     "text": [
      "Epoch 150, Loss 0.0413\n",
      "Training Accuracy: 0.9574, Testing Accuracy: 0.9642\n",
      "\n"
     ]
    },
    {
     "name": "stdout",
     "output_type": "stream",
     "text": [
      "Epoch 160, Loss 0.0407\n",
      "Training Accuracy: 0.9579, Testing Accuracy: 0.9647\n",
      "\n"
     ]
    },
    {
     "name": "stdout",
     "output_type": "stream",
     "text": [
      "Epoch 170, Loss 0.04\n",
      "Training Accuracy: 0.9584, Testing Accuracy: 0.9652\n",
      "\n"
     ]
    },
    {
     "name": "stdout",
     "output_type": "stream",
     "text": [
      "Epoch 180, Loss 0.0395\n",
      "Training Accuracy: 0.9589, Testing Accuracy: 0.9652\n",
      "\n"
     ]
    },
    {
     "name": "stdout",
     "output_type": "stream",
     "text": [
      "Epoch 190, Loss 0.0389\n",
      "Training Accuracy: 0.9597, Testing Accuracy: 0.9662\n",
      "\n"
     ]
    },
    {
     "name": "stdout",
     "output_type": "stream",
     "text": [
      "Epoch 200, Loss 0.0384\n",
      "Training Accuracy: 0.9601, Testing Accuracy: 0.9667\n",
      "\n"
     ]
    },
    {
     "name": "stdout",
     "output_type": "stream",
     "text": [
      "Epoch 210, Loss 0.038\n",
      "Training Accuracy: 0.9607, Testing Accuracy: 0.9667\n",
      "\n"
     ]
    },
    {
     "name": "stdout",
     "output_type": "stream",
     "text": [
      "Epoch 220, Loss 0.0376\n",
      "Training Accuracy: 0.9606, Testing Accuracy: 0.9677\n",
      "\n"
     ]
    },
    {
     "name": "stdout",
     "output_type": "stream",
     "text": [
      "Epoch 230, Loss 0.0372\n",
      "Training Accuracy: 0.9610, Testing Accuracy: 0.9682\n",
      "\n"
     ]
    },
    {
     "name": "stdout",
     "output_type": "stream",
     "text": [
      "Epoch 240, Loss 0.0368\n",
      "Training Accuracy: 0.9610, Testing Accuracy: 0.9682\n",
      "\n"
     ]
    },
    {
     "data": {
      "text/plain": [
       "0.01695866181084213"
      ]
     },
     "execution_count": 23,
     "metadata": {},
     "output_type": "execute_result"
    }
   ],
   "source": [
    "lr_learner.train_loop(dl)"
   ]
  },
  {
   "cell_type": "code",
   "execution_count": 24,
   "id": "ca410940",
   "metadata": {
    "execution": {
     "iopub.execute_input": "2021-10-18T00:22:55.953346Z",
     "iopub.status.busy": "2021-10-18T00:22:55.952817Z",
     "iopub.status.idle": "2021-10-18T00:22:56.171788Z",
     "shell.execute_reply": "2021-10-18T00:22:56.171300Z"
    },
    "papermill": {
     "duration": 0.27244,
     "end_time": "2021-10-18T00:22:56.171921",
     "exception": false,
     "start_time": "2021-10-18T00:22:55.899481",
     "status": "completed"
    },
    "tags": []
   },
   "outputs": [
    {
     "data": {
      "text/plain": [
       "<matplotlib.legend.Legend at 0x7f5e4bfc3ef0>"
      ]
     },
     "execution_count": 24,
     "metadata": {},
     "output_type": "execute_result"
    },
    {
     "data": {
      "image/png": "[encoded data removed]",
      "text/plain": [
       "<Figure size 1080x720 with 1 Axes>"
      ]
     },
     "metadata": {
      "needs_background": "light"
     },
     "output_type": "display_data"
    }
   ],
   "source": [
    "#comparing the results of NN and LR\n",
    "plt.figure(figsize=(15,10))\n",
    "\n",
    "# Neural Network plots\n",
    "plt.plot(acc_nn.accuracies, 'r-', label = \"Training Accuracies - NN\")\n",
    "plt.plot(acc_nn.test_accuracies, 'g-', label = \"Testing Accuracies - NN\")\n",
    "\n",
    "# Logistic Regression plots\n",
    "plt.plot(acc_lr.accuracies, 'k-', label = \"Training Accuracies - LR\")\n",
    "plt.plot(acc_lr.test_accuracies, 'b-', label = \"Testing Accuracies - LR\")\n",
    "plt.legend()"
   ]
  },
  {
   "cell_type": "markdown",
   "id": "80dfb35c",
   "metadata": {
    "papermill": {
     "duration": 0.04218,
     "end_time": "2021-10-18T00:22:56.256510",
     "exception": false,
     "start_time": "2021-10-18T00:22:56.214330",
     "status": "completed"
    },
    "tags": []
   },
   "source": [
    "#### Plotting the outputs of this layer of the NN.\n"
   ]
  },
  {
   "cell_type": "code",
   "execution_count": 25,
   "id": "45eb2ff5",
   "metadata": {
    "execution": {
     "iopub.execute_input": "2021-10-18T00:22:56.345287Z",
     "iopub.status.busy": "2021-10-18T00:22:56.344769Z",
     "iopub.status.idle": "2021-10-18T00:22:56.364251Z",
     "shell.execute_reply": "2021-10-18T00:22:56.364673Z"
    },
    "papermill": {
     "duration": 0.066266,
     "end_time": "2021-10-18T00:22:56.364820",
     "exception": false,
     "start_time": "2021-10-18T00:22:56.298554",
     "status": "completed"
    },
    "tags": []
   },
   "outputs": [],
   "source": [
    "new_model = Model(layers[:-2])\n",
    "testing_plot = new_model(testing_data_x)"
   ]
  },
  {
   "cell_type": "code",
   "execution_count": 26,
   "id": "4c0a5485",
   "metadata": {
    "execution": {
     "iopub.execute_input": "2021-10-18T00:22:56.465373Z",
     "iopub.status.busy": "2021-10-18T00:22:56.464848Z",
     "iopub.status.idle": "2021-10-18T00:22:56.671666Z",
     "shell.execute_reply": "2021-10-18T00:22:56.671233Z"
    },
    "papermill": {
     "duration": 0.255566,
     "end_time": "2021-10-18T00:22:56.671795",
     "exception": false,
     "start_time": "2021-10-18T00:22:56.416229",
     "status": "completed"
    },
    "tags": []
   },
   "outputs": [
    {
     "data": {
      "text/plain": [
       "Text(0.5, 1.0, 'Outputs')"
      ]
     },
     "execution_count": 26,
     "metadata": {},
     "output_type": "execute_result"
    },
    {
     "data": {
      "image/png": "[encoded data removed]",
      "text/plain": [
       "<Figure size 576x504 with 1 Axes>"
      ]
     },
     "metadata": {
      "needs_background": "light"
     },
     "output_type": "display_data"
    }
   ],
   "source": [
    "# Plotting the scatter plot of points and color coding by class\n",
    "plt.figure(figsize=(8,7))\n",
    "plt.scatter(testing_plot[:,0], testing_plot[:,1], alpha = 0.1, c = y_test.ravel());\n",
    "plt.title('Outputs')"
   ]
  },
  {
   "cell_type": "markdown",
   "id": "a74fcf8f",
   "metadata": {
    "papermill": {
     "duration": 0.044408,
     "end_time": "2021-10-18T00:22:56.760845",
     "exception": false,
     "start_time": "2021-10-18T00:22:56.716437",
     "status": "completed"
    },
    "tags": []
   },
   "source": [
    "Probability contours"
   ]
  },
  {
   "cell_type": "code",
   "execution_count": 27,
   "id": "d0afc8e3",
   "metadata": {
    "execution": {
     "iopub.execute_input": "2021-10-18T00:22:56.861188Z",
     "iopub.status.busy": "2021-10-18T00:22:56.860645Z",
     "iopub.status.idle": "2021-10-18T00:22:56.865877Z",
     "shell.execute_reply": "2021-10-18T00:22:56.865457Z"
    },
    "papermill": {
     "duration": 0.060548,
     "end_time": "2021-10-18T00:22:56.866000",
     "exception": false,
     "start_time": "2021-10-18T00:22:56.805452",
     "status": "completed"
    },
    "tags": []
   },
   "outputs": [],
   "source": [
    "model_prob = Model(layers[-2:]) "
   ]
  },
  {
   "cell_type": "code",
   "execution_count": 28,
   "id": "9b96e238",
   "metadata": {
    "execution": {
     "iopub.execute_input": "2021-10-18T00:22:56.991201Z",
     "iopub.status.busy": "2021-10-18T00:22:56.990682Z",
     "iopub.status.idle": "2021-10-18T00:22:57.004805Z",
     "shell.execute_reply": "2021-10-18T00:22:57.005182Z"
    },
    "papermill": {
     "duration": 0.094692,
     "end_time": "2021-10-18T00:22:57.005311",
     "exception": false,
     "start_time": "2021-10-18T00:22:56.910619",
     "status": "completed"
    },
    "tags": []
   },
   "outputs": [],
   "source": [
    "#creating the x and y ranges according to the above generated plot.\n",
    "x_range = np.linspace(-4, 1, 100) \n",
    "y_range = np.linspace(-6, 6, 100) \n",
    "x_grid, y_grid = np.meshgrid(x_range, y_range) # x_grid and y_grig are of size 100 X 100\n",
    "\n",
    "# converting x_grid and y_grid to continuous arrays\n",
    "x_gridflat = np.ravel(x_grid)\n",
    "y_gridflat = np.ravel(y_grid)\n",
    "\n",
    "# The last layer of the current model takes two columns as input. Hence transpose of np.vstack() is required.\n",
    "X = np.vstack((x_gridflat, y_gridflat)).T\n",
    "\n",
    "prob_contour = model_prob(X).reshape(100,100) "
   ]
  },
  {
   "cell_type": "code",
   "execution_count": 29,
   "id": "da72499a",
   "metadata": {
    "execution": {
     "iopub.execute_input": "2021-10-18T00:22:57.111421Z",
     "iopub.status.busy": "2021-10-18T00:22:57.110862Z",
     "iopub.status.idle": "2021-10-18T00:22:57.353541Z",
     "shell.execute_reply": "2021-10-18T00:22:57.353960Z"
    },
    "papermill": {
     "duration": 0.296431,
     "end_time": "2021-10-18T00:22:57.354102",
     "exception": false,
     "start_time": "2021-10-18T00:22:57.057671",
     "status": "completed"
    },
    "tags": []
   },
   "outputs": [
    {
     "data": {
      "image/png": "[encoded data removed]",
      "text/plain": [
       "<Figure size 720x648 with 1 Axes>"
      ]
     },
     "metadata": {
      "needs_background": "light"
     },
     "output_type": "display_data"
    }
   ],
   "source": [
    "plt.figure(figsize=(10,9))\n",
    "plt.scatter(testing_plot[:,0], testing_plot[:,1], alpha = 0.1, c = y_test.ravel())\n",
    "contours = plt.contour(x_grid,y_grid,prob_contour)\n",
    "plt.title('Probability Contours')\n",
    "plt.clabel(contours, inline = True );"
   ]
  },
  {
   "cell_type": "code",
   "execution_count": null,
   "id": "e81b4ac7",
   "metadata": {
    "papermill": {
     "duration": 0.047039,
     "end_time": "2021-10-18T00:22:57.449055",
     "exception": false,
     "start_time": "2021-10-18T00:22:57.402016",
     "status": "completed"
    },
    "tags": []
   },
   "outputs": [],
   "source": []
  }
 ],
 "metadata": {
  "kernelspec": {
   "display_name": "Python 3",
   "language": "python",
   "name": "python3"
  },
  "language_info": {
   "codemirror_mode": {
    "name": "ipython",
    "version": 3
   },
   "file_extension": ".py",
   "mimetype": "text/x-python",
   "name": "python",
   "nbconvert_exporter": "python",
   "pygments_lexer": "ipython3",
   "version": "3.6.15"
  },
  "papermill": {
   "default_parameters": {},
   "duration": 99.261491,
   "end_time": "2021-10-18T00:22:57.905407",
   "environment_variables": {},
   "exception": null,
   "input_path": "2020-08-11-part2.ipynb",
   "output_path": "2020-08-11-part2.ipynb",
   "parameters": {},
   "start_time": "2021-10-18T00:21:18.643916",
   "version": "2.3.3"
  }
 },
 "nbformat": 4,
 "nbformat_minor": 5
}