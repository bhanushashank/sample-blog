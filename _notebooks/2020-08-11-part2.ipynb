{
 "cells": [
  {
   "cell_type": "markdown",
   "id": "98380cd3",
   "metadata": {
    "papermill": {
     "duration": 0.031061,
     "end_time": "2022-03-17T10:09:49.380692",
     "exception": false,
     "start_time": "2022-03-17T10:09:49.349631",
     "status": "completed"
    },
    "tags": []
   },
   "source": [
    "# Distinguish Your Own Digits (DYOD)"
   ]
  },
  {
   "cell_type": "markdown",
   "id": "ef31240d",
   "metadata": {
    "papermill": {
     "duration": 0.028674,
     "end_time": "2022-03-17T10:09:49.437338",
     "exception": false,
     "start_time": "2022-03-17T10:09:49.408664",
     "status": "completed"
    },
    "tags": []
   },
   "source": [
    "You are going to write a classifier that distinguishes between the number 3 and number 8."
   ]
  },
  {
   "cell_type": "code",
   "execution_count": 1,
   "id": "b15c8646",
   "metadata": {
    "execution": {
     "iopub.execute_input": "2022-03-17T10:09:49.501603Z",
     "iopub.status.busy": "2022-03-17T10:09:49.500996Z",
     "iopub.status.idle": "2022-03-17T10:09:49.512527Z",
     "shell.execute_reply": "2022-03-17T10:09:49.512097Z"
    },
    "papermill": {
     "duration": 0.049807,
     "end_time": "2022-03-17T10:09:49.512658",
     "exception": false,
     "start_time": "2022-03-17T10:09:49.462851",
     "status": "completed"
    },
    "tags": []
   },
   "outputs": [],
   "source": [
    "%load_ext autoreload\n",
    "%autoreload 2"
   ]
  },
  {
   "cell_type": "code",
   "execution_count": 2,
   "id": "22ef38dc",
   "metadata": {
    "execution": {
     "iopub.execute_input": "2022-03-17T10:09:49.573643Z",
     "iopub.status.busy": "2022-03-17T10:09:49.572784Z",
     "iopub.status.idle": "2022-03-17T10:09:50.233110Z",
     "shell.execute_reply": "2022-03-17T10:09:50.232514Z"
    },
    "papermill": {
     "duration": 0.693098,
     "end_time": "2022-03-17T10:09:50.233255",
     "exception": false,
     "start_time": "2022-03-17T10:09:49.540157",
     "status": "completed"
    },
    "tags": []
   },
   "outputs": [],
   "source": [
    "%matplotlib inline\n",
    "import numpy as np\n",
    "import matplotlib.pyplot as plt\n",
    "import pandas as pd"
   ]
  },
  {
   "cell_type": "markdown",
   "id": "ba036198",
   "metadata": {
    "papermill": {
     "duration": 0.02994,
     "end_time": "2022-03-17T10:09:50.293460",
     "exception": false,
     "start_time": "2022-03-17T10:09:50.263520",
     "status": "completed"
    },
    "tags": []
   },
   "source": [
    "From the command line run `pip install mnist`. This is a library that will help you bring down the mnist dataset. If you run this from a notebook, you need to put  `!pip install mnist` in a cell by itself."
   ]
  },
  {
   "cell_type": "code",
   "execution_count": 3,
   "id": "bb6ad8a1",
   "metadata": {
    "execution": {
     "iopub.execute_input": "2022-03-17T10:09:50.358559Z",
     "iopub.status.busy": "2022-03-17T10:09:50.357959Z",
     "iopub.status.idle": "2022-03-17T10:09:52.216239Z",
     "shell.execute_reply": "2022-03-17T10:09:52.215329Z"
    },
    "papermill": {
     "duration": 1.89366,
     "end_time": "2022-03-17T10:09:52.216456",
     "exception": false,
     "start_time": "2022-03-17T10:09:50.322796",
     "status": "completed"
    },
    "tags": []
   },
   "outputs": [
    {
     "name": "stdout",
     "output_type": "stream",
     "text": [
      "Collecting mnist\r\n"
     ]
    },
    {
     "name": "stdout",
     "output_type": "stream",
     "text": [
      "  Downloading mnist-0.2.2-py2.py3-none-any.whl (3.5 kB)\r\n",
      "Requirement already satisfied: numpy in /opt/hostedtoolcache/Python/3.6.15/x64/lib/python3.6/site-packages (from mnist) (1.19.5)\r\n"
     ]
    },
    {
     "name": "stdout",
     "output_type": "stream",
     "text": [
      "Installing collected packages: mnist\r\n"
     ]
    },
    {
     "name": "stdout",
     "output_type": "stream",
     "text": [
      "Successfully installed mnist-0.2.2\r\n"
     ]
    }
   ],
   "source": [
    "!pip install mnist"
   ]
  },
  {
   "cell_type": "markdown",
   "id": "69df9c9a",
   "metadata": {
    "papermill": {
     "duration": 0.029267,
     "end_time": "2022-03-17T10:09:52.276876",
     "exception": false,
     "start_time": "2022-03-17T10:09:52.247609",
     "status": "completed"
    },
    "tags": []
   },
   "source": [
    "## Preparing the Data"
   ]
  },
  {
   "cell_type": "code",
   "execution_count": 4,
   "id": "7f69d806",
   "metadata": {
    "execution": {
     "iopub.execute_input": "2022-03-17T10:09:52.337687Z",
     "iopub.status.busy": "2022-03-17T10:09:52.337079Z",
     "iopub.status.idle": "2022-03-17T10:09:52.351687Z",
     "shell.execute_reply": "2022-03-17T10:09:52.352197Z"
    },
    "papermill": {
     "duration": 0.047621,
     "end_time": "2022-03-17T10:09:52.352341",
     "exception": false,
     "start_time": "2022-03-17T10:09:52.304720",
     "status": "completed"
    },
    "tags": []
   },
   "outputs": [],
   "source": [
    "import mnist"
   ]
  },
  {
   "cell_type": "code",
   "execution_count": 5,
   "id": "a411e44f",
   "metadata": {
    "execution": {
     "iopub.execute_input": "2022-03-17T10:09:52.421814Z",
     "iopub.status.busy": "2022-03-17T10:09:52.421197Z",
     "iopub.status.idle": "2022-03-17T10:09:52.988147Z",
     "shell.execute_reply": "2022-03-17T10:09:52.987567Z"
    },
    "papermill": {
     "duration": 0.602269,
     "end_time": "2022-03-17T10:09:52.988272",
     "exception": false,
     "start_time": "2022-03-17T10:09:52.386003",
     "status": "completed"
    },
    "tags": []
   },
   "outputs": [],
   "source": [
    "train_images = mnist.train_images()\n",
    "train_labels = mnist.train_labels()"
   ]
  },
  {
   "cell_type": "code",
   "execution_count": 6,
   "id": "dceab3a5",
   "metadata": {
    "execution": {
     "iopub.execute_input": "2022-03-17T10:09:53.050731Z",
     "iopub.status.busy": "2022-03-17T10:09:53.050210Z",
     "iopub.status.idle": "2022-03-17T10:09:53.068614Z",
     "shell.execute_reply": "2022-03-17T10:09:53.069150Z"
    },
    "papermill": {
     "duration": 0.052401,
     "end_time": "2022-03-17T10:09:53.069299",
     "exception": false,
     "start_time": "2022-03-17T10:09:53.016898",
     "status": "completed"
    },
    "tags": []
   },
   "outputs": [
    {
     "data": {
      "text/plain": [
       "((60000, 28, 28), (60000,))"
      ]
     },
     "execution_count": 6,
     "metadata": {},
     "output_type": "execute_result"
    }
   ],
   "source": [
    "train_images.shape, train_labels.shape"
   ]
  },
  {
   "cell_type": "code",
   "execution_count": 7,
   "id": "f50dc2bb",
   "metadata": {
    "execution": {
     "iopub.execute_input": "2022-03-17T10:09:53.135525Z",
     "iopub.status.busy": "2022-03-17T10:09:53.134936Z",
     "iopub.status.idle": "2022-03-17T10:09:53.278762Z",
     "shell.execute_reply": "2022-03-17T10:09:53.277818Z"
    },
    "papermill": {
     "duration": 0.177915,
     "end_time": "2022-03-17T10:09:53.278969",
     "exception": false,
     "start_time": "2022-03-17T10:09:53.101054",
     "status": "completed"
    },
    "tags": []
   },
   "outputs": [],
   "source": [
    "test_images = mnist.test_images()\n",
    "test_labels = mnist.test_labels()"
   ]
  },
  {
   "cell_type": "code",
   "execution_count": 8,
   "id": "fc38cf1b",
   "metadata": {
    "execution": {
     "iopub.execute_input": "2022-03-17T10:09:53.341199Z",
     "iopub.status.busy": "2022-03-17T10:09:53.340549Z",
     "iopub.status.idle": "2022-03-17T10:09:53.354715Z",
     "shell.execute_reply": "2022-03-17T10:09:53.355160Z"
    },
    "papermill": {
     "duration": 0.047339,
     "end_time": "2022-03-17T10:09:53.355296",
     "exception": false,
     "start_time": "2022-03-17T10:09:53.307957",
     "status": "completed"
    },
    "tags": []
   },
   "outputs": [
    {
     "data": {
      "text/plain": [
       "((10000, 28, 28), (10000,))"
      ]
     },
     "execution_count": 8,
     "metadata": {},
     "output_type": "execute_result"
    }
   ],
   "source": [
    "test_images.shape, test_labels.shape"
   ]
  },
  {
   "cell_type": "code",
   "execution_count": 9,
   "id": "f9ed8fe0",
   "metadata": {
    "execution": {
     "iopub.execute_input": "2022-03-17T10:09:53.421710Z",
     "iopub.status.busy": "2022-03-17T10:09:53.421115Z",
     "iopub.status.idle": "2022-03-17T10:09:53.574165Z",
     "shell.execute_reply": "2022-03-17T10:09:53.573637Z"
    },
    "papermill": {
     "duration": 0.190907,
     "end_time": "2022-03-17T10:09:53.574303",
     "exception": false,
     "start_time": "2022-03-17T10:09:53.383396",
     "status": "completed"
    },
    "tags": []
   },
   "outputs": [
    {
     "name": "stdout",
     "output_type": "stream",
     "text": [
      "2\n"
     ]
    },
    {
     "data": {
      "text/plain": [
       "<matplotlib.image.AxesImage at 0x7f34dd281630>"
      ]
     },
     "execution_count": 9,
     "metadata": {},
     "output_type": "execute_result"
    },
    {
     "data": {
      "image/png": "[encoded data removed]",
      "text/plain": [
       "<Figure size 432x288 with 1 Axes>"
      ]
     },
     "metadata": {
      "needs_background": "light"
     },
     "output_type": "display_data"
    }
   ],
   "source": [
    "image_index = 7776 # You may select anything up to 60,000\n",
    "print(train_labels[image_index]) \n",
    "plt.imshow(train_images[image_index], cmap='Greys')"
   ]
  },
  {
   "cell_type": "markdown",
   "id": "a8d2388d",
   "metadata": {
    "papermill": {
     "duration": 0.028525,
     "end_time": "2022-03-17T10:09:53.631948",
     "exception": false,
     "start_time": "2022-03-17T10:09:53.603423",
     "status": "completed"
    },
    "tags": []
   },
   "source": [
    "## Filter data to get 3 and 8 out"
   ]
  },
  {
   "cell_type": "code",
   "execution_count": 10,
   "id": "776f7fc7",
   "metadata": {
    "execution": {
     "iopub.execute_input": "2022-03-17T10:09:53.697514Z",
     "iopub.status.busy": "2022-03-17T10:09:53.696850Z",
     "iopub.status.idle": "2022-03-17T10:09:53.717907Z",
     "shell.execute_reply": "2022-03-17T10:09:53.718604Z"
    },
    "papermill": {
     "duration": 0.058222,
     "end_time": "2022-03-17T10:09:53.718824",
     "exception": false,
     "start_time": "2022-03-17T10:09:53.660602",
     "status": "completed"
    },
    "tags": []
   },
   "outputs": [],
   "source": [
    "train_filter = np.where((train_labels == 3 ) | (train_labels == 8))\n",
    "test_filter = np.where((test_labels == 3) | (test_labels == 8))\n",
    "X_train, y_train = train_images[train_filter], train_labels[train_filter]\n",
    "X_test, y_test = test_images[test_filter], test_labels[test_filter]"
   ]
  },
  {
   "cell_type": "markdown",
   "id": "948f0b7e",
   "metadata": {
    "papermill": {
     "duration": 0.029905,
     "end_time": "2022-03-17T10:09:53.780680",
     "exception": false,
     "start_time": "2022-03-17T10:09:53.750775",
     "status": "completed"
    },
    "tags": []
   },
   "source": [
    "We normalize the pizel values in the 0 to 1 range"
   ]
  },
  {
   "cell_type": "code",
   "execution_count": 11,
   "id": "ee4c2166",
   "metadata": {
    "execution": {
     "iopub.execute_input": "2022-03-17T10:09:53.844076Z",
     "iopub.status.busy": "2022-03-17T10:09:53.843545Z",
     "iopub.status.idle": "2022-03-17T10:09:53.902002Z",
     "shell.execute_reply": "2022-03-17T10:09:53.901272Z"
    },
    "papermill": {
     "duration": 0.092389,
     "end_time": "2022-03-17T10:09:53.902182",
     "exception": false,
     "start_time": "2022-03-17T10:09:53.809793",
     "status": "completed"
    },
    "tags": []
   },
   "outputs": [],
   "source": [
    "X_train = X_train/255.\n",
    "X_test = X_test/255."
   ]
  },
  {
   "cell_type": "markdown",
   "id": "ddcf4fab",
   "metadata": {
    "papermill": {
     "duration": 0.028207,
     "end_time": "2022-03-17T10:09:53.962088",
     "exception": false,
     "start_time": "2022-03-17T10:09:53.933881",
     "status": "completed"
    },
    "tags": []
   },
   "source": [
    "And setup the labels as 1 (when the digit is 3) and 0 (when the digit is 8)"
   ]
  },
  {
   "cell_type": "code",
   "execution_count": 12,
   "id": "7dc908f2",
   "metadata": {
    "execution": {
     "iopub.execute_input": "2022-03-17T10:09:54.023171Z",
     "iopub.status.busy": "2022-03-17T10:09:54.022566Z",
     "iopub.status.idle": "2022-03-17T10:09:54.038081Z",
     "shell.execute_reply": "2022-03-17T10:09:54.037572Z"
    },
    "papermill": {
     "duration": 0.047917,
     "end_time": "2022-03-17T10:09:54.038200",
     "exception": false,
     "start_time": "2022-03-17T10:09:53.990283",
     "status": "completed"
    },
    "tags": []
   },
   "outputs": [],
   "source": [
    "y_train = 1*(y_train==3)\n",
    "y_test = 1*(y_test==3)"
   ]
  },
  {
   "cell_type": "code",
   "execution_count": 13,
   "id": "01e4e969",
   "metadata": {
    "execution": {
     "iopub.execute_input": "2022-03-17T10:09:54.098650Z",
     "iopub.status.busy": "2022-03-17T10:09:54.098032Z",
     "iopub.status.idle": "2022-03-17T10:09:54.113942Z",
     "shell.execute_reply": "2022-03-17T10:09:54.113171Z"
    },
    "papermill": {
     "duration": 0.04826,
     "end_time": "2022-03-17T10:09:54.114071",
     "exception": false,
     "start_time": "2022-03-17T10:09:54.065811",
     "status": "completed"
    },
    "tags": []
   },
   "outputs": [
    {
     "data": {
      "text/plain": [
       "((11982, 28, 28), (1984, 28, 28))"
      ]
     },
     "execution_count": 13,
     "metadata": {},
     "output_type": "execute_result"
    }
   ],
   "source": [
    "X_train.shape, X_test.shape"
   ]
  },
  {
   "cell_type": "markdown",
   "id": "5ccf3f85",
   "metadata": {
    "papermill": {
     "duration": 0.0275,
     "end_time": "2022-03-17T10:09:54.170531",
     "exception": false,
     "start_time": "2022-03-17T10:09:54.143031",
     "status": "completed"
    },
    "tags": []
   },
   "source": [
    "We reshape the data to flatten the image pixels into a set of features or co-variates:"
   ]
  },
  {
   "cell_type": "code",
   "execution_count": 14,
   "id": "5286a4a3",
   "metadata": {
    "execution": {
     "iopub.execute_input": "2022-03-17T10:09:54.236084Z",
     "iopub.status.busy": "2022-03-17T10:09:54.235486Z",
     "iopub.status.idle": "2022-03-17T10:09:54.250454Z",
     "shell.execute_reply": "2022-03-17T10:09:54.250905Z"
    },
    "papermill": {
     "duration": 0.050989,
     "end_time": "2022-03-17T10:09:54.251058",
     "exception": false,
     "start_time": "2022-03-17T10:09:54.200069",
     "status": "completed"
    },
    "tags": []
   },
   "outputs": [
    {
     "data": {
      "text/plain": [
       "((11982, 784), (1984, 784))"
      ]
     },
     "execution_count": 14,
     "metadata": {},
     "output_type": "execute_result"
    }
   ],
   "source": [
    "X_train = X_train.reshape(X_train.shape[0], -1)\n",
    "X_test = X_test.reshape(X_test.shape[0], -1)\n",
    "X_train.shape, X_test.shape"
   ]
  },
  {
   "cell_type": "code",
   "execution_count": 15,
   "id": "73c5f88a",
   "metadata": {
    "execution": {
     "iopub.execute_input": "2022-03-17T10:09:54.316775Z",
     "iopub.status.busy": "2022-03-17T10:09:54.316166Z",
     "iopub.status.idle": "2022-03-17T10:09:54.341736Z",
     "shell.execute_reply": "2022-03-17T10:09:54.341058Z"
    },
    "papermill": {
     "duration": 0.060339,
     "end_time": "2022-03-17T10:09:54.341905",
     "exception": false,
     "start_time": "2022-03-17T10:09:54.281566",
     "status": "completed"
    },
    "tags": []
   },
   "outputs": [],
   "source": [
    "#Impoting functions from 'Kudzu'\n",
    "from kudzu.model import Model\n",
    "from kudzu.train import Learner\n",
    "from kudzu.optim import GD\n",
    "from kudzu.data import Data, Sampler,Dataloader\n",
    "\n",
    "from kudzu.callbacks import AccCallback\n",
    "from kudzu.callbacks import ClfCallback\n",
    "\n",
    "from kudzu.loss import MSE\n",
    "\n",
    "from kudzu.layer import Sigmoid,Relu\n",
    "from kudzu.layer import Affine"
   ]
  },
  {
   "cell_type": "markdown",
   "id": "bc01172a",
   "metadata": {
    "papermill": {
     "duration": 0.030576,
     "end_time": "2022-03-17T10:09:54.404285",
     "exception": false,
     "start_time": "2022-03-17T10:09:54.373709",
     "status": "completed"
    },
    "tags": []
   },
   "source": [
    "### Let us create a `Config` class, to store important parameters. \n",
    "This class essentially plays the role of a dictionary."
   ]
  },
  {
   "cell_type": "code",
   "execution_count": 16,
   "id": "978281aa",
   "metadata": {
    "execution": {
     "iopub.execute_input": "2022-03-17T10:09:54.470795Z",
     "iopub.status.busy": "2022-03-17T10:09:54.470184Z",
     "iopub.status.idle": "2022-03-17T10:09:54.484137Z",
     "shell.execute_reply": "2022-03-17T10:09:54.483649Z"
    },
    "papermill": {
     "duration": 0.049167,
     "end_time": "2022-03-17T10:09:54.484285",
     "exception": false,
     "start_time": "2022-03-17T10:09:54.435118",
     "status": "completed"
    },
    "tags": []
   },
   "outputs": [],
   "source": [
    "class Config:\n",
    "    pass\n",
    "config = Config()\n",
    "config.lr = 0.001\n",
    "config.num_epochs = 250\n",
    "config.bs = 50"
   ]
  },
  {
   "cell_type": "markdown",
   "id": "1385fa59",
   "metadata": {
    "papermill": {
     "duration": 0.03043,
     "end_time": "2022-03-17T10:09:54.545226",
     "exception": false,
     "start_time": "2022-03-17T10:09:54.514796",
     "status": "completed"
    },
    "tags": []
   },
   "source": [
    "### Running Models with the Training data\n",
    "Details about the network layers:\n",
    "- A first affine layer has 784 inputs and does 100 affine transforms. These are followed by a Relu\n",
    "- A second affine layer has 100 inputs from the 100 activations of the past layer, and does 100 affine transforms. These are followed by a Relu\n",
    "- A third affine layer has 100 activations and does 2 affine transformations to create an embedding for visualization. There is no non-linearity here.\n",
    "- A final \"logistic regression\" which has an affine transform from 2 inputs to 1 output, which is squeezed through a sigmoid.\n"
   ]
  },
  {
   "cell_type": "code",
   "execution_count": 17,
   "id": "2b9c66db",
   "metadata": {
    "execution": {
     "iopub.execute_input": "2022-03-17T10:09:54.610610Z",
     "iopub.status.busy": "2022-03-17T10:09:54.610006Z",
     "iopub.status.idle": "2022-03-17T10:09:54.624257Z",
     "shell.execute_reply": "2022-03-17T10:09:54.623749Z"
    },
    "papermill": {
     "duration": 0.048732,
     "end_time": "2022-03-17T10:09:54.624380",
     "exception": false,
     "start_time": "2022-03-17T10:09:54.575648",
     "status": "completed"
    },
    "tags": []
   },
   "outputs": [],
   "source": [
    "data = Data(X_train, y_train.reshape(-1,1))\n",
    "sampler = Sampler(data, config.bs, shuffle=True)\n",
    "\n",
    "dl = Dataloader(data, sampler)\n",
    "\n",
    "opt = GD(config.lr)\n",
    "loss = MSE()"
   ]
  },
  {
   "cell_type": "code",
   "execution_count": 18,
   "id": "b275e4c2",
   "metadata": {
    "execution": {
     "iopub.execute_input": "2022-03-17T10:09:54.689299Z",
     "iopub.status.busy": "2022-03-17T10:09:54.688659Z",
     "iopub.status.idle": "2022-03-17T10:09:54.701873Z",
     "shell.execute_reply": "2022-03-17T10:09:54.701426Z"
    },
    "papermill": {
     "duration": 0.047385,
     "end_time": "2022-03-17T10:09:54.701989",
     "exception": false,
     "start_time": "2022-03-17T10:09:54.654604",
     "status": "completed"
    },
    "tags": []
   },
   "outputs": [],
   "source": [
    "training_data_x = X_train\n",
    "testing_data_x = X_test\n",
    "training_data_y = y_train.reshape(-1,1)\n",
    "testing_data_y = y_test.reshape(-1,1)"
   ]
  },
  {
   "cell_type": "code",
   "execution_count": 19,
   "id": "76951160",
   "metadata": {
    "execution": {
     "iopub.execute_input": "2022-03-17T10:09:54.766473Z",
     "iopub.status.busy": "2022-03-17T10:09:54.765849Z",
     "iopub.status.idle": "2022-03-17T10:09:54.784396Z",
     "shell.execute_reply": "2022-03-17T10:09:54.783894Z"
    },
    "papermill": {
     "duration": 0.052429,
     "end_time": "2022-03-17T10:09:54.784517",
     "exception": false,
     "start_time": "2022-03-17T10:09:54.732088",
     "status": "completed"
    },
    "tags": []
   },
   "outputs": [
    {
     "name": "stdout",
     "output_type": "stream",
     "text": [
      "xavier\n",
      "xavier\n",
      "xavier\n",
      "xavier\n",
      "xavier\n"
     ]
    }
   ],
   "source": [
    "layers = [Affine(\"first\", 784, 100), Relu(\"first\"), Affine(\"second\", 100, 100), Relu(\"second\"), Affine(\"third\", 100, 2), Affine(\"last\", 2, 1), Sigmoid(\"last\")]\n",
    "model_nn = Model(layers)\n",
    "model_lr = Model([Affine(\"logits\", 784, 1), Sigmoid(\"sigmoid\")])"
   ]
  },
  {
   "cell_type": "code",
   "execution_count": 20,
   "id": "6eede77a",
   "metadata": {
    "execution": {
     "iopub.execute_input": "2022-03-17T10:09:54.850614Z",
     "iopub.status.busy": "2022-03-17T10:09:54.850015Z",
     "iopub.status.idle": "2022-03-17T10:09:54.864768Z",
     "shell.execute_reply": "2022-03-17T10:09:54.864257Z"
    },
    "papermill": {
     "duration": 0.049702,
     "end_time": "2022-03-17T10:09:54.864887",
     "exception": false,
     "start_time": "2022-03-17T10:09:54.815185",
     "status": "completed"
    },
    "tags": []
   },
   "outputs": [],
   "source": [
    "nn_learner = Learner(loss, model_nn, opt, config.num_epochs)\n",
    "acc_nn = ClfCallback(nn_learner, config.bs, training_data_x , testing_data_x, training_data_y, testing_data_y)\n",
    "nn_learner.set_callbacks([acc_nn])"
   ]
  },
  {
   "cell_type": "code",
   "execution_count": 21,
   "id": "877b6cc7",
   "metadata": {
    "execution": {
     "iopub.execute_input": "2022-03-17T10:09:54.930329Z",
     "iopub.status.busy": "2022-03-17T10:09:54.929738Z",
     "iopub.status.idle": "2022-03-17T10:09:54.943609Z",
     "shell.execute_reply": "2022-03-17T10:09:54.943122Z"
    },
    "papermill": {
     "duration": 0.048492,
     "end_time": "2022-03-17T10:09:54.943735",
     "exception": false,
     "start_time": "2022-03-17T10:09:54.895243",
     "status": "completed"
    },
    "tags": []
   },
   "outputs": [],
   "source": [
    "lr_learner = Learner(loss, model_lr, opt, config.num_epochs)\n",
    "acc_lr = ClfCallback(lr_learner, config.bs, training_data_x , testing_data_x, training_data_y, testing_data_y)\n",
    "lr_learner.set_callbacks([acc_lr])"
   ]
  },
  {
   "cell_type": "code",
   "execution_count": 22,
   "id": "d9b133c3",
   "metadata": {
    "execution": {
     "iopub.execute_input": "2022-03-17T10:09:55.011618Z",
     "iopub.status.busy": "2022-03-17T10:09:55.010535Z",
     "iopub.status.idle": "2022-03-17T10:11:21.438120Z",
     "shell.execute_reply": "2022-03-17T10:11:21.438709Z"
    },
    "papermill": {
     "duration": 86.464904,
     "end_time": "2022-03-17T10:11:21.438866",
     "exception": false,
     "start_time": "2022-03-17T10:09:54.973962",
     "status": "completed"
    },
    "tags": []
   },
   "outputs": [
    {
     "name": "stdout",
     "output_type": "stream",
     "text": [
      "Epoch 0, Loss 0.2484\n",
      "Training Accuracy: 0.5822, Testing Accuracy: 0.5761\n",
      "\n"
     ]
    },
    {
     "name": "stdout",
     "output_type": "stream",
     "text": [
      "Epoch 10, Loss 0.1288\n",
      "Training Accuracy: 0.9071, Testing Accuracy: 0.9239\n",
      "\n"
     ]
    },
    {
     "name": "stdout",
     "output_type": "stream",
     "text": [
      "Epoch 20, Loss 0.0661\n",
      "Training Accuracy: 0.9341, Testing Accuracy: 0.9456\n",
      "\n"
     ]
    },
    {
     "name": "stdout",
     "output_type": "stream",
     "text": [
      "Epoch 30, Loss 0.0484\n",
      "Training Accuracy: 0.9491, Testing Accuracy: 0.9567\n",
      "\n"
     ]
    },
    {
     "name": "stdout",
     "output_type": "stream",
     "text": [
      "Epoch 40, Loss 0.0407\n",
      "Training Accuracy: 0.9563, Testing Accuracy: 0.9617\n",
      "\n"
     ]
    },
    {
     "name": "stdout",
     "output_type": "stream",
     "text": [
      "Epoch 50, Loss 0.0363\n",
      "Training Accuracy: 0.9594, Testing Accuracy: 0.9657\n",
      "\n"
     ]
    },
    {
     "name": "stdout",
     "output_type": "stream",
     "text": [
      "Epoch 60, Loss 0.0334\n",
      "Training Accuracy: 0.9618, Testing Accuracy: 0.9688\n",
      "\n"
     ]
    },
    {
     "name": "stdout",
     "output_type": "stream",
     "text": [
      "Epoch 70, Loss 0.0313\n",
      "Training Accuracy: 0.9631, Testing Accuracy: 0.9693\n",
      "\n"
     ]
    },
    {
     "name": "stdout",
     "output_type": "stream",
     "text": [
      "Epoch 80, Loss 0.0297\n",
      "Training Accuracy: 0.9659, Testing Accuracy: 0.9693\n",
      "\n"
     ]
    },
    {
     "name": "stdout",
     "output_type": "stream",
     "text": [
      "Epoch 90, Loss 0.0284\n",
      "Training Accuracy: 0.9670, Testing Accuracy: 0.9682\n",
      "\n"
     ]
    },
    {
     "name": "stdout",
     "output_type": "stream",
     "text": [
      "Epoch 100, Loss 0.0272\n",
      "Training Accuracy: 0.9680, Testing Accuracy: 0.9688\n",
      "\n"
     ]
    },
    {
     "name": "stdout",
     "output_type": "stream",
     "text": [
      "Epoch 110, Loss 0.0263\n",
      "Training Accuracy: 0.9692, Testing Accuracy: 0.9688\n",
      "\n"
     ]
    },
    {
     "name": "stdout",
     "output_type": "stream",
     "text": [
      "Epoch 120, Loss 0.0254\n",
      "Training Accuracy: 0.9703, Testing Accuracy: 0.9693\n",
      "\n"
     ]
    },
    {
     "name": "stdout",
     "output_type": "stream",
     "text": [
      "Epoch 130, Loss 0.0247\n",
      "Training Accuracy: 0.9714, Testing Accuracy: 0.9693\n",
      "\n"
     ]
    },
    {
     "name": "stdout",
     "output_type": "stream",
     "text": [
      "Epoch 140, Loss 0.024\n",
      "Training Accuracy: 0.9723, Testing Accuracy: 0.9718\n",
      "\n"
     ]
    },
    {
     "name": "stdout",
     "output_type": "stream",
     "text": [
      "Epoch 150, Loss 0.0234\n",
      "Training Accuracy: 0.9733, Testing Accuracy: 0.9718\n",
      "\n"
     ]
    },
    {
     "name": "stdout",
     "output_type": "stream",
     "text": [
      "Epoch 160, Loss 0.0228\n",
      "Training Accuracy: 0.9740, Testing Accuracy: 0.9733\n",
      "\n"
     ]
    },
    {
     "name": "stdout",
     "output_type": "stream",
     "text": [
      "Epoch 170, Loss 0.0223\n",
      "Training Accuracy: 0.9745, Testing Accuracy: 0.9738\n",
      "\n"
     ]
    },
    {
     "name": "stdout",
     "output_type": "stream",
     "text": [
      "Epoch 180, Loss 0.0218\n",
      "Training Accuracy: 0.9750, Testing Accuracy: 0.9738\n",
      "\n"
     ]
    },
    {
     "name": "stdout",
     "output_type": "stream",
     "text": [
      "Epoch 190, Loss 0.0213\n",
      "Training Accuracy: 0.9755, Testing Accuracy: 0.9738\n",
      "\n"
     ]
    },
    {
     "name": "stdout",
     "output_type": "stream",
     "text": [
      "Epoch 200, Loss 0.0209\n",
      "Training Accuracy: 0.9765, Testing Accuracy: 0.9743\n",
      "\n"
     ]
    },
    {
     "name": "stdout",
     "output_type": "stream",
     "text": [
      "Epoch 210, Loss 0.0205\n",
      "Training Accuracy: 0.9768, Testing Accuracy: 0.9738\n",
      "\n"
     ]
    },
    {
     "name": "stdout",
     "output_type": "stream",
     "text": [
      "Epoch 220, Loss 0.0201\n",
      "Training Accuracy: 0.9773, Testing Accuracy: 0.9738\n",
      "\n"
     ]
    },
    {
     "name": "stdout",
     "output_type": "stream",
     "text": [
      "Epoch 230, Loss 0.0197\n",
      "Training Accuracy: 0.9773, Testing Accuracy: 0.9743\n",
      "\n"
     ]
    },
    {
     "name": "stdout",
     "output_type": "stream",
     "text": [
      "Epoch 240, Loss 0.0193\n",
      "Training Accuracy: 0.9780, Testing Accuracy: 0.9753\n",
      "\n"
     ]
    },
    {
     "data": {
      "text/plain": [
       "0.01741920019932257"
      ]
     },
     "execution_count": 22,
     "metadata": {},
     "output_type": "execute_result"
    }
   ],
   "source": [
    "nn_learner.train_loop(dl)"
   ]
  },
  {
   "cell_type": "code",
   "execution_count": 23,
   "id": "e0163366",
   "metadata": {
    "execution": {
     "iopub.execute_input": "2022-03-17T10:11:21.526600Z",
     "iopub.status.busy": "2022-03-17T10:11:21.526005Z",
     "iopub.status.idle": "2022-03-17T10:11:36.770326Z",
     "shell.execute_reply": "2022-03-17T10:11:36.771226Z"
    },
    "papermill": {
     "duration": 15.293557,
     "end_time": "2022-03-17T10:11:36.771408",
     "exception": false,
     "start_time": "2022-03-17T10:11:21.477851",
     "status": "completed"
    },
    "tags": []
   },
   "outputs": [
    {
     "name": "stdout",
     "output_type": "stream",
     "text": [
      "Epoch 0, Loss 0.2462\n",
      "Training Accuracy: 0.7037, Testing Accuracy: 0.6941\n",
      "\n"
     ]
    },
    {
     "name": "stdout",
     "output_type": "stream",
     "text": [
      "Epoch 10, Loss 0.1012\n",
      "Training Accuracy: 0.9165, Testing Accuracy: 0.9254\n",
      "\n"
     ]
    },
    {
     "name": "stdout",
     "output_type": "stream",
     "text": [
      "Epoch 20, Loss 0.0779\n",
      "Training Accuracy: 0.9313, Testing Accuracy: 0.9435\n",
      "\n"
     ]
    },
    {
     "name": "stdout",
     "output_type": "stream",
     "text": [
      "Epoch 30, Loss 0.0672\n",
      "Training Accuracy: 0.9387, Testing Accuracy: 0.9491\n",
      "\n"
     ]
    },
    {
     "name": "stdout",
     "output_type": "stream",
     "text": [
      "Epoch 40, Loss 0.0608\n",
      "Training Accuracy: 0.9422, Testing Accuracy: 0.9521\n",
      "\n"
     ]
    },
    {
     "name": "stdout",
     "output_type": "stream",
     "text": [
      "Epoch 50, Loss 0.0564\n",
      "Training Accuracy: 0.9453, Testing Accuracy: 0.9541\n",
      "\n"
     ]
    },
    {
     "name": "stdout",
     "output_type": "stream",
     "text": [
      "Epoch 60, Loss 0.0532\n",
      "Training Accuracy: 0.9478, Testing Accuracy: 0.9577\n",
      "\n"
     ]
    },
    {
     "name": "stdout",
     "output_type": "stream",
     "text": [
      "Epoch 70, Loss 0.0507\n",
      "Training Accuracy: 0.9498, Testing Accuracy: 0.9592\n",
      "\n"
     ]
    },
    {
     "name": "stdout",
     "output_type": "stream",
     "text": [
      "Epoch 80, Loss 0.0487\n",
      "Training Accuracy: 0.9518, Testing Accuracy: 0.9592\n",
      "\n"
     ]
    },
    {
     "name": "stdout",
     "output_type": "stream",
     "text": [
      "Epoch 90, Loss 0.047\n",
      "Training Accuracy: 0.9535, Testing Accuracy: 0.9602\n",
      "\n"
     ]
    },
    {
     "name": "stdout",
     "output_type": "stream",
     "text": [
      "Epoch 100, Loss 0.0456\n",
      "Training Accuracy: 0.9541, Testing Accuracy: 0.9602\n",
      "\n"
     ]
    },
    {
     "name": "stdout",
     "output_type": "stream",
     "text": [
      "Epoch 110, Loss 0.0444\n",
      "Training Accuracy: 0.9549, Testing Accuracy: 0.9607\n",
      "\n"
     ]
    },
    {
     "name": "stdout",
     "output_type": "stream",
     "text": [
      "Epoch 120, Loss 0.0434\n",
      "Training Accuracy: 0.9558, Testing Accuracy: 0.9612\n",
      "\n"
     ]
    },
    {
     "name": "stdout",
     "output_type": "stream",
     "text": [
      "Epoch 130, Loss 0.0425\n",
      "Training Accuracy: 0.9570, Testing Accuracy: 0.9637\n",
      "\n"
     ]
    },
    {
     "name": "stdout",
     "output_type": "stream",
     "text": [
      "Epoch 140, Loss 0.0417\n",
      "Training Accuracy: 0.9573, Testing Accuracy: 0.9652\n",
      "\n"
     ]
    },
    {
     "name": "stdout",
     "output_type": "stream",
     "text": [
      "Epoch 150, Loss 0.0409\n",
      "Training Accuracy: 0.9578, Testing Accuracy: 0.9657\n",
      "\n"
     ]
    },
    {
     "name": "stdout",
     "output_type": "stream",
     "text": [
      "Epoch 160, Loss 0.0403\n",
      "Training Accuracy: 0.9583, Testing Accuracy: 0.9657\n",
      "\n"
     ]
    },
    {
     "name": "stdout",
     "output_type": "stream",
     "text": [
      "Epoch 170, Loss 0.0397\n",
      "Training Accuracy: 0.9592, Testing Accuracy: 0.9657\n",
      "\n"
     ]
    },
    {
     "name": "stdout",
     "output_type": "stream",
     "text": [
      "Epoch 180, Loss 0.0391\n",
      "Training Accuracy: 0.9594, Testing Accuracy: 0.9657\n",
      "\n"
     ]
    },
    {
     "name": "stdout",
     "output_type": "stream",
     "text": [
      "Epoch 190, Loss 0.0386\n",
      "Training Accuracy: 0.9601, Testing Accuracy: 0.9667\n",
      "\n"
     ]
    },
    {
     "name": "stdout",
     "output_type": "stream",
     "text": [
      "Epoch 200, Loss 0.0382\n",
      "Training Accuracy: 0.9603, Testing Accuracy: 0.9672\n",
      "\n"
     ]
    },
    {
     "name": "stdout",
     "output_type": "stream",
     "text": [
      "Epoch 210, Loss 0.0377\n",
      "Training Accuracy: 0.9608, Testing Accuracy: 0.9672\n",
      "\n"
     ]
    },
    {
     "name": "stdout",
     "output_type": "stream",
     "text": [
      "Epoch 220, Loss 0.0373\n",
      "Training Accuracy: 0.9609, Testing Accuracy: 0.9677\n",
      "\n"
     ]
    },
    {
     "name": "stdout",
     "output_type": "stream",
     "text": [
      "Epoch 230, Loss 0.0369\n",
      "Training Accuracy: 0.9614, Testing Accuracy: 0.9682\n",
      "\n"
     ]
    },
    {
     "name": "stdout",
     "output_type": "stream",
     "text": [
      "Epoch 240, Loss 0.0366\n",
      "Training Accuracy: 0.9618, Testing Accuracy: 0.9677\n",
      "\n"
     ]
    },
    {
     "data": {
      "text/plain": [
       "0.011848140038569318"
      ]
     },
     "execution_count": 23,
     "metadata": {},
     "output_type": "execute_result"
    }
   ],
   "source": [
    "lr_learner.train_loop(dl)"
   ]
  },
  {
   "cell_type": "code",
   "execution_count": 24,
   "id": "ca410940",
   "metadata": {
    "execution": {
     "iopub.execute_input": "2022-03-17T10:11:36.870752Z",
     "iopub.status.busy": "2022-03-17T10:11:36.870180Z",
     "iopub.status.idle": "2022-03-17T10:11:37.128867Z",
     "shell.execute_reply": "2022-03-17T10:11:37.127763Z"
    },
    "papermill": {
     "duration": 0.311896,
     "end_time": "2022-03-17T10:11:37.129034",
     "exception": false,
     "start_time": "2022-03-17T10:11:36.817138",
     "status": "completed"
    },
    "tags": []
   },
   "outputs": [
    {
     "data": {
      "text/plain": [
       "<matplotlib.legend.Legend at 0x7f34dce5cd30>"
      ]
     },
     "execution_count": 24,
     "metadata": {},
     "output_type": "execute_result"
    },
    {
     "data": {
      "image/png": "[encoded data removed]",
      "text/plain": [
       "<Figure size 1080x720 with 1 Axes>"
      ]
     },
     "metadata": {
      "needs_background": "light"
     },
     "output_type": "display_data"
    }
   ],
   "source": [
    "#comparing the results of NN and LR\n",
    "plt.figure(figsize=(15,10))\n",
    "\n",
    "# Neural Network plots\n",
    "plt.plot(acc_nn.accuracies, 'r-', label = \"Training Accuracies - NN\")\n",
    "plt.plot(acc_nn.test_accuracies, 'g-', label = \"Testing Accuracies - NN\")\n",
    "\n",
    "# Logistic Regression plots\n",
    "plt.plot(acc_lr.accuracies, 'k-', label = \"Training Accuracies - LR\")\n",
    "plt.plot(acc_lr.test_accuracies, 'b-', label = \"Testing Accuracies - LR\")\n",
    "plt.legend()"
   ]
  },
  {
   "cell_type": "markdown",
   "id": "80dfb35c",
   "metadata": {
    "papermill": {
     "duration": 0.046188,
     "end_time": "2022-03-17T10:11:37.221713",
     "exception": false,
     "start_time": "2022-03-17T10:11:37.175525",
     "status": "completed"
    },
    "tags": []
   },
   "source": [
    "#### Plotting the outputs of this layer of the NN.\n"
   ]
  },
  {
   "cell_type": "code",
   "execution_count": 25,
   "id": "45eb2ff5",
   "metadata": {
    "execution": {
     "iopub.execute_input": "2022-03-17T10:11:37.316808Z",
     "iopub.status.busy": "2022-03-17T10:11:37.315729Z",
     "iopub.status.idle": "2022-03-17T10:11:37.336396Z",
     "shell.execute_reply": "2022-03-17T10:11:37.336857Z"
    },
    "papermill": {
     "duration": 0.070825,
     "end_time": "2022-03-17T10:11:37.337029",
     "exception": false,
     "start_time": "2022-03-17T10:11:37.266204",
     "status": "completed"
    },
    "tags": []
   },
   "outputs": [],
   "source": [
    "new_model = Model(layers[:-2])\n",
    "testing_plot = new_model(testing_data_x)"
   ]
  },
  {
   "cell_type": "code",
   "execution_count": 26,
   "id": "4c0a5485",
   "metadata": {
    "execution": {
     "iopub.execute_input": "2022-03-17T10:11:37.443124Z",
     "iopub.status.busy": "2022-03-17T10:11:37.442538Z",
     "iopub.status.idle": "2022-03-17T10:11:37.695626Z",
     "shell.execute_reply": "2022-03-17T10:11:37.696084Z"
    },
    "papermill": {
     "duration": 0.310396,
     "end_time": "2022-03-17T10:11:37.696240",
     "exception": false,
     "start_time": "2022-03-17T10:11:37.385844",
     "status": "completed"
    },
    "tags": []
   },
   "outputs": [
    {
     "data": {
      "text/plain": [
       "Text(0.5, 1.0, 'Outputs')"
      ]
     },
     "execution_count": 26,
     "metadata": {},
     "output_type": "execute_result"
    },
    {
     "data": {
      "image/png": "[encoded data removed]",
      "text/plain": [
       "<Figure size 576x504 with 1 Axes>"
      ]
     },
     "metadata": {
      "needs_background": "light"
     },
     "output_type": "display_data"
    }
   ],
   "source": [
    "# Plotting the scatter plot of points and color coding by class\n",
    "plt.figure(figsize=(8,7))\n",
    "plt.scatter(testing_plot[:,0], testing_plot[:,1], alpha = 0.1, c = y_test.ravel());\n",
    "plt.title('Outputs')"
   ]
  },
  {
   "cell_type": "markdown",
   "id": "a74fcf8f",
   "metadata": {
    "papermill": {
     "duration": 0.05092,
     "end_time": "2022-03-17T10:11:37.798741",
     "exception": false,
     "start_time": "2022-03-17T10:11:37.747821",
     "status": "completed"
    },
    "tags": []
   },
   "source": [
    "Probability contours"
   ]
  },
  {
   "cell_type": "code",
   "execution_count": 27,
   "id": "d0afc8e3",
   "metadata": {
    "execution": {
     "iopub.execute_input": "2022-03-17T10:11:37.937273Z",
     "iopub.status.busy": "2022-03-17T10:11:37.936645Z",
     "iopub.status.idle": "2022-03-17T10:11:37.951856Z",
     "shell.execute_reply": "2022-03-17T10:11:37.952274Z"
    },
    "papermill": {
     "duration": 0.102129,
     "end_time": "2022-03-17T10:11:37.952396",
     "exception": false,
     "start_time": "2022-03-17T10:11:37.850267",
     "status": "completed"
    },
    "tags": []
   },
   "outputs": [],
   "source": [
    "model_prob = Model(layers[-2:]) "
   ]
  },
  {
   "cell_type": "code",
   "execution_count": 28,
   "id": "9b96e238",
   "metadata": {
    "execution": {
     "iopub.execute_input": "2022-03-17T10:11:38.060285Z",
     "iopub.status.busy": "2022-03-17T10:11:38.059622Z",
     "iopub.status.idle": "2022-03-17T10:11:38.074797Z",
     "shell.execute_reply": "2022-03-17T10:11:38.075263Z"
    },
    "papermill": {
     "duration": 0.072467,
     "end_time": "2022-03-17T10:11:38.075407",
     "exception": false,
     "start_time": "2022-03-17T10:11:38.002940",
     "status": "completed"
    },
    "tags": []
   },
   "outputs": [],
   "source": [
    "#creating the x and y ranges according to the above generated plot.\n",
    "x_range = np.linspace(-4, 1, 100) \n",
    "y_range = np.linspace(-6, 6, 100) \n",
    "x_grid, y_grid = np.meshgrid(x_range, y_range) # x_grid and y_grig are of size 100 X 100\n",
    "\n",
    "# converting x_grid and y_grid to continuous arrays\n",
    "x_gridflat = np.ravel(x_grid)\n",
    "y_gridflat = np.ravel(y_grid)\n",
    "\n",
    "# The last layer of the current model takes two columns as input. Hence transpose of np.vstack() is required.\n",
    "X = np.vstack((x_gridflat, y_gridflat)).T\n",
    "\n",
    "prob_contour = model_prob(X).reshape(100,100) "
   ]
  },
  {
   "cell_type": "code",
   "execution_count": 29,
   "id": "da72499a",
   "metadata": {
    "execution": {
     "iopub.execute_input": "2022-03-17T10:11:38.191950Z",
     "iopub.status.busy": "2022-03-17T10:11:38.191336Z",
     "iopub.status.idle": "2022-03-17T10:11:38.488756Z",
     "shell.execute_reply": "2022-03-17T10:11:38.489380Z"
    },
    "papermill": {
     "duration": 0.359095,
     "end_time": "2022-03-17T10:11:38.489596",
     "exception": false,
     "start_time": "2022-03-17T10:11:38.130501",
     "status": "completed"
    },
    "tags": []
   },
   "outputs": [
    {
     "data": {
      "image/png": "[encoded data removed]",
      "text/plain": [
       "<Figure size 720x648 with 1 Axes>"
      ]
     },
     "metadata": {
      "needs_background": "light"
     },
     "output_type": "display_data"
    }
   ],
   "source": [
    "plt.figure(figsize=(10,9))\n",
    "plt.scatter(testing_plot[:,0], testing_plot[:,1], alpha = 0.1, c = y_test.ravel())\n",
    "contours = plt.contour(x_grid,y_grid,prob_contour)\n",
    "plt.title('Probability Contours')\n",
    "plt.clabel(contours, inline = True );"
   ]
  },
  {
   "cell_type": "code",
   "execution_count": null,
   "id": "e81b4ac7",
   "metadata": {
    "papermill": {
     "duration": 0.056551,
     "end_time": "2022-03-17T10:11:38.611670",
     "exception": false,
     "start_time": "2022-03-17T10:11:38.555119",
     "status": "completed"
    },
    "tags": []
   },
   "outputs": [],
   "source": []
  }
 ],
 "metadata": {
  "kernelspec": {
   "display_name": "Python 3",
   "language": "python",
   "name": "python3"
  },
  "language_info": {
   "codemirror_mode": {
    "name": "ipython",
    "version": 3
   },
   "file_extension": ".py",
   "mimetype": "text/x-python",
   "name": "python",
   "nbconvert_exporter": "python",
   "pygments_lexer": "ipython3",
   "version": "3.6.15"
  },
  "papermill": {
   "default_parameters": {},
   "duration": 111.020965,
   "end_time": "2022-03-17T10:11:39.086708",
   "environment_variables": {},
   "exception": null,
   "input_path": "2020-08-11-part2.ipynb",
   "output_path": "2020-08-11-part2.ipynb",
   "parameters": {},
   "start_time": "2022-03-17T10:09:48.065743",
   "version": "2.3.3"
  }
 },
 "nbformat": 4,
 "nbformat_minor": 5
}