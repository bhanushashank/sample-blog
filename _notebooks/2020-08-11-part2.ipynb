{
 "cells": [
  {
   "cell_type": "markdown",
   "id": "98380cd3",
   "metadata": {
    "papermill": {
     "duration": 0.040527,
     "end_time": "2022-10-21T10:14:48.648740",
     "exception": false,
     "start_time": "2022-10-21T10:14:48.608213",
     "status": "completed"
    },
    "tags": []
   },
   "source": [
    "# Distinguish Your Own Digits (DYOD)"
   ]
  },
  {
   "cell_type": "markdown",
   "id": "ef31240d",
   "metadata": {
    "papermill": {
     "duration": 0.030063,
     "end_time": "2022-10-21T10:14:48.710210",
     "exception": false,
     "start_time": "2022-10-21T10:14:48.680147",
     "status": "completed"
    },
    "tags": []
   },
   "source": [
    "You are going to write a classifier that distinguishes between the number 3 and number 8."
   ]
  },
  {
   "cell_type": "code",
   "execution_count": 1,
   "id": "b15c8646",
   "metadata": {
    "execution": {
     "iopub.execute_input": "2022-10-21T10:14:48.791376Z",
     "iopub.status.busy": "2022-10-21T10:14:48.790605Z",
     "iopub.status.idle": "2022-10-21T10:14:48.802716Z",
     "shell.execute_reply": "2022-10-21T10:14:48.802068Z"
    },
    "papermill": {
     "duration": 0.061205,
     "end_time": "2022-10-21T10:14:48.802879",
     "exception": false,
     "start_time": "2022-10-21T10:14:48.741674",
     "status": "completed"
    },
    "tags": []
   },
   "outputs": [],
   "source": [
    "%load_ext autoreload\n",
    "%autoreload 2"
   ]
  },
  {
   "cell_type": "code",
   "execution_count": 2,
   "id": "22ef38dc",
   "metadata": {
    "execution": {
     "iopub.execute_input": "2022-10-21T10:14:48.876861Z",
     "iopub.status.busy": "2022-10-21T10:14:48.876095Z",
     "iopub.status.idle": "2022-10-21T10:14:49.523423Z",
     "shell.execute_reply": "2022-10-21T10:14:49.524005Z"
    },
    "papermill": {
     "duration": 0.689518,
     "end_time": "2022-10-21T10:14:49.524183",
     "exception": false,
     "start_time": "2022-10-21T10:14:48.834665",
     "status": "completed"
    },
    "tags": []
   },
   "outputs": [],
   "source": [
    "%matplotlib inline\n",
    "import numpy as np\n",
    "import matplotlib.pyplot as plt\n",
    "import pandas as pd"
   ]
  },
  {
   "cell_type": "markdown",
   "id": "ba036198",
   "metadata": {
    "papermill": {
     "duration": 0.034533,
     "end_time": "2022-10-21T10:14:49.589705",
     "exception": false,
     "start_time": "2022-10-21T10:14:49.555172",
     "status": "completed"
    },
    "tags": []
   },
   "source": [
    "From the command line run `pip install mnist`. This is a library that will help you bring down the mnist dataset. If you run this from a notebook, you need to put  `!pip install mnist` in a cell by itself."
   ]
  },
  {
   "cell_type": "code",
   "execution_count": 3,
   "id": "bb6ad8a1",
   "metadata": {
    "execution": {
     "iopub.execute_input": "2022-10-21T10:14:49.663160Z",
     "iopub.status.busy": "2022-10-21T10:14:49.662344Z",
     "iopub.status.idle": "2022-10-21T10:14:51.675863Z",
     "shell.execute_reply": "2022-10-21T10:14:51.675201Z"
    },
    "papermill": {
     "duration": 2.054534,
     "end_time": "2022-10-21T10:14:51.676017",
     "exception": false,
     "start_time": "2022-10-21T10:14:49.621483",
     "status": "completed"
    },
    "tags": []
   },
   "outputs": [
    {
     "name": "stdout",
     "output_type": "stream",
     "text": [
      "Collecting mnist\r\n"
     ]
    },
    {
     "name": "stdout",
     "output_type": "stream",
     "text": [
      "  Downloading mnist-0.2.2-py2.py3-none-any.whl (3.5 kB)\r\n",
      "Requirement already satisfied: numpy in /opt/hostedtoolcache/Python/3.6.15/x64/lib/python3.6/site-packages (from mnist) (1.19.5)\r\n"
     ]
    },
    {
     "name": "stdout",
     "output_type": "stream",
     "text": [
      "Installing collected packages: mnist\r\n"
     ]
    },
    {
     "name": "stdout",
     "output_type": "stream",
     "text": [
      "Successfully installed mnist-0.2.2\r\n"
     ]
    }
   ],
   "source": [
    "!pip install mnist"
   ]
  },
  {
   "cell_type": "markdown",
   "id": "69df9c9a",
   "metadata": {
    "papermill": {
     "duration": 0.033974,
     "end_time": "2022-10-21T10:14:51.750385",
     "exception": false,
     "start_time": "2022-10-21T10:14:51.716411",
     "status": "completed"
    },
    "tags": []
   },
   "source": [
    "## Preparing the Data"
   ]
  },
  {
   "cell_type": "code",
   "execution_count": 4,
   "id": "7f69d806",
   "metadata": {
    "execution": {
     "iopub.execute_input": "2022-10-21T10:14:51.830191Z",
     "iopub.status.busy": "2022-10-21T10:14:51.826403Z",
     "iopub.status.idle": "2022-10-21T10:14:51.840751Z",
     "shell.execute_reply": "2022-10-21T10:14:51.840128Z"
    },
    "papermill": {
     "duration": 0.056705,
     "end_time": "2022-10-21T10:14:51.840895",
     "exception": false,
     "start_time": "2022-10-21T10:14:51.784190",
     "status": "completed"
    },
    "tags": []
   },
   "outputs": [],
   "source": [
    "import mnist"
   ]
  },
  {
   "cell_type": "code",
   "execution_count": 5,
   "id": "a411e44f",
   "metadata": {
    "execution": {
     "iopub.execute_input": "2022-10-21T10:14:51.919696Z",
     "iopub.status.busy": "2022-10-21T10:14:51.918916Z",
     "iopub.status.idle": "2022-10-21T10:14:52.490297Z",
     "shell.execute_reply": "2022-10-21T10:14:52.490887Z"
    },
    "papermill": {
     "duration": 0.617587,
     "end_time": "2022-10-21T10:14:52.491067",
     "exception": false,
     "start_time": "2022-10-21T10:14:51.873480",
     "status": "completed"
    },
    "tags": []
   },
   "outputs": [],
   "source": [
    "train_images = mnist.train_images()\n",
    "train_labels = mnist.train_labels()"
   ]
  },
  {
   "cell_type": "code",
   "execution_count": 6,
   "id": "dceab3a5",
   "metadata": {
    "execution": {
     "iopub.execute_input": "2022-10-21T10:14:52.564380Z",
     "iopub.status.busy": "2022-10-21T10:14:52.563604Z",
     "iopub.status.idle": "2022-10-21T10:14:52.582868Z",
     "shell.execute_reply": "2022-10-21T10:14:52.583791Z"
    },
    "papermill": {
     "duration": 0.05942,
     "end_time": "2022-10-21T10:14:52.583960",
     "exception": false,
     "start_time": "2022-10-21T10:14:52.524540",
     "status": "completed"
    },
    "tags": []
   },
   "outputs": [
    {
     "data": {
      "text/plain": [
       "((60000, 28, 28), (60000,))"
      ]
     },
     "execution_count": 6,
     "metadata": {},
     "output_type": "execute_result"
    }
   ],
   "source": [
    "train_images.shape, train_labels.shape"
   ]
  },
  {
   "cell_type": "code",
   "execution_count": 7,
   "id": "f50dc2bb",
   "metadata": {
    "execution": {
     "iopub.execute_input": "2022-10-21T10:14:52.670218Z",
     "iopub.status.busy": "2022-10-21T10:14:52.665374Z",
     "iopub.status.idle": "2022-10-21T10:14:52.783992Z",
     "shell.execute_reply": "2022-10-21T10:14:52.783350Z"
    },
    "papermill": {
     "duration": 0.163948,
     "end_time": "2022-10-21T10:14:52.784147",
     "exception": false,
     "start_time": "2022-10-21T10:14:52.620199",
     "status": "completed"
    },
    "tags": []
   },
   "outputs": [],
   "source": [
    "test_images = mnist.test_images()\n",
    "test_labels = mnist.test_labels()"
   ]
  },
  {
   "cell_type": "code",
   "execution_count": 8,
   "id": "fc38cf1b",
   "metadata": {
    "execution": {
     "iopub.execute_input": "2022-10-21T10:14:52.859739Z",
     "iopub.status.busy": "2022-10-21T10:14:52.858943Z",
     "iopub.status.idle": "2022-10-21T10:14:52.874799Z",
     "shell.execute_reply": "2022-10-21T10:14:52.874174Z"
    },
    "papermill": {
     "duration": 0.058048,
     "end_time": "2022-10-21T10:14:52.874941",
     "exception": false,
     "start_time": "2022-10-21T10:14:52.816893",
     "status": "completed"
    },
    "tags": []
   },
   "outputs": [
    {
     "data": {
      "text/plain": [
       "((10000, 28, 28), (10000,))"
      ]
     },
     "execution_count": 8,
     "metadata": {},
     "output_type": "execute_result"
    }
   ],
   "source": [
    "test_images.shape, test_labels.shape"
   ]
  },
  {
   "cell_type": "code",
   "execution_count": 9,
   "id": "f9ed8fe0",
   "metadata": {
    "execution": {
     "iopub.execute_input": "2022-10-21T10:14:52.951140Z",
     "iopub.status.busy": "2022-10-21T10:14:52.950387Z",
     "iopub.status.idle": "2022-10-21T10:14:53.140891Z",
     "shell.execute_reply": "2022-10-21T10:14:53.140270Z"
    },
    "papermill": {
     "duration": 0.230834,
     "end_time": "2022-10-21T10:14:53.141042",
     "exception": false,
     "start_time": "2022-10-21T10:14:52.910208",
     "status": "completed"
    },
    "tags": []
   },
   "outputs": [
    {
     "name": "stdout",
     "output_type": "stream",
     "text": [
      "2\n"
     ]
    },
    {
     "data": {
      "text/plain": [
       "<matplotlib.image.AxesImage at 0x7f55e862cc50>"
      ]
     },
     "execution_count": 9,
     "metadata": {},
     "output_type": "execute_result"
    },
    {
     "data": {
      "image/png": "[encoded data removed]",
      "text/plain": [
       "<Figure size 432x288 with 1 Axes>"
      ]
     },
     "metadata": {
      "needs_background": "light"
     },
     "output_type": "display_data"
    }
   ],
   "source": [
    "image_index = 7776 # You may select anything up to 60,000\n",
    "print(train_labels[image_index]) \n",
    "plt.imshow(train_images[image_index], cmap='Greys')"
   ]
  },
  {
   "cell_type": "markdown",
   "id": "a8d2388d",
   "metadata": {
    "papermill": {
     "duration": 0.035612,
     "end_time": "2022-10-21T10:14:53.211812",
     "exception": false,
     "start_time": "2022-10-21T10:14:53.176200",
     "status": "completed"
    },
    "tags": []
   },
   "source": [
    "## Filter data to get 3 and 8 out"
   ]
  },
  {
   "cell_type": "code",
   "execution_count": 10,
   "id": "776f7fc7",
   "metadata": {
    "execution": {
     "iopub.execute_input": "2022-10-21T10:14:53.292435Z",
     "iopub.status.busy": "2022-10-21T10:14:53.291652Z",
     "iopub.status.idle": "2022-10-21T10:14:53.313585Z",
     "shell.execute_reply": "2022-10-21T10:14:53.312889Z"
    },
    "papermill": {
     "duration": 0.067052,
     "end_time": "2022-10-21T10:14:53.313739",
     "exception": false,
     "start_time": "2022-10-21T10:14:53.246687",
     "status": "completed"
    },
    "tags": []
   },
   "outputs": [],
   "source": [
    "train_filter = np.where((train_labels == 3 ) | (train_labels == 8))\n",
    "test_filter = np.where((test_labels == 3) | (test_labels == 8))\n",
    "X_train, y_train = train_images[train_filter], train_labels[train_filter]\n",
    "X_test, y_test = test_images[test_filter], test_labels[test_filter]"
   ]
  },
  {
   "cell_type": "markdown",
   "id": "948f0b7e",
   "metadata": {
    "papermill": {
     "duration": 0.043115,
     "end_time": "2022-10-21T10:14:53.394335",
     "exception": false,
     "start_time": "2022-10-21T10:14:53.351220",
     "status": "completed"
    },
    "tags": []
   },
   "source": [
    "We normalize the pizel values in the 0 to 1 range"
   ]
  },
  {
   "cell_type": "code",
   "execution_count": 11,
   "id": "ee4c2166",
   "metadata": {
    "execution": {
     "iopub.execute_input": "2022-10-21T10:14:53.475474Z",
     "iopub.status.busy": "2022-10-21T10:14:53.474592Z",
     "iopub.status.idle": "2022-10-21T10:14:53.538915Z",
     "shell.execute_reply": "2022-10-21T10:14:53.538283Z"
    },
    "papermill": {
     "duration": 0.108055,
     "end_time": "2022-10-21T10:14:53.539071",
     "exception": false,
     "start_time": "2022-10-21T10:14:53.431016",
     "status": "completed"
    },
    "tags": []
   },
   "outputs": [],
   "source": [
    "X_train = X_train/255.\n",
    "X_test = X_test/255."
   ]
  },
  {
   "cell_type": "markdown",
   "id": "ddcf4fab",
   "metadata": {
    "papermill": {
     "duration": 0.034152,
     "end_time": "2022-10-21T10:14:53.608465",
     "exception": false,
     "start_time": "2022-10-21T10:14:53.574313",
     "status": "completed"
    },
    "tags": []
   },
   "source": [
    "And setup the labels as 1 (when the digit is 3) and 0 (when the digit is 8)"
   ]
  },
  {
   "cell_type": "code",
   "execution_count": 12,
   "id": "7dc908f2",
   "metadata": {
    "execution": {
     "iopub.execute_input": "2022-10-21T10:14:53.688859Z",
     "iopub.status.busy": "2022-10-21T10:14:53.688112Z",
     "iopub.status.idle": "2022-10-21T10:14:53.701006Z",
     "shell.execute_reply": "2022-10-21T10:14:53.700394Z"
    },
    "papermill": {
     "duration": 0.055799,
     "end_time": "2022-10-21T10:14:53.701141",
     "exception": false,
     "start_time": "2022-10-21T10:14:53.645342",
     "status": "completed"
    },
    "tags": []
   },
   "outputs": [],
   "source": [
    "y_train = 1*(y_train==3)\n",
    "y_test = 1*(y_test==3)"
   ]
  },
  {
   "cell_type": "code",
   "execution_count": 13,
   "id": "01e4e969",
   "metadata": {
    "execution": {
     "iopub.execute_input": "2022-10-21T10:14:53.786852Z",
     "iopub.status.busy": "2022-10-21T10:14:53.781836Z",
     "iopub.status.idle": "2022-10-21T10:14:53.794086Z",
     "shell.execute_reply": "2022-10-21T10:14:53.794639Z"
    },
    "papermill": {
     "duration": 0.058749,
     "end_time": "2022-10-21T10:14:53.794791",
     "exception": false,
     "start_time": "2022-10-21T10:14:53.736042",
     "status": "completed"
    },
    "tags": []
   },
   "outputs": [
    {
     "data": {
      "text/plain": [
       "((11982, 28, 28), (1984, 28, 28))"
      ]
     },
     "execution_count": 13,
     "metadata": {},
     "output_type": "execute_result"
    }
   ],
   "source": [
    "X_train.shape, X_test.shape"
   ]
  },
  {
   "cell_type": "markdown",
   "id": "5ccf3f85",
   "metadata": {
    "papermill": {
     "duration": 0.034863,
     "end_time": "2022-10-21T10:14:53.863605",
     "exception": false,
     "start_time": "2022-10-21T10:14:53.828742",
     "status": "completed"
    },
    "tags": []
   },
   "source": [
    "We reshape the data to flatten the image pixels into a set of features or co-variates:"
   ]
  },
  {
   "cell_type": "code",
   "execution_count": 14,
   "id": "5286a4a3",
   "metadata": {
    "execution": {
     "iopub.execute_input": "2022-10-21T10:14:53.955111Z",
     "iopub.status.busy": "2022-10-21T10:14:53.951988Z",
     "iopub.status.idle": "2022-10-21T10:14:53.962368Z",
     "shell.execute_reply": "2022-10-21T10:14:53.961443Z"
    },
    "papermill": {
     "duration": 0.063445,
     "end_time": "2022-10-21T10:14:53.962580",
     "exception": false,
     "start_time": "2022-10-21T10:14:53.899135",
     "status": "completed"
    },
    "tags": []
   },
   "outputs": [
    {
     "data": {
      "text/plain": [
       "((11982, 784), (1984, 784))"
      ]
     },
     "execution_count": 14,
     "metadata": {},
     "output_type": "execute_result"
    }
   ],
   "source": [
    "X_train = X_train.reshape(X_train.shape[0], -1)\n",
    "X_test = X_test.reshape(X_test.shape[0], -1)\n",
    "X_train.shape, X_test.shape"
   ]
  },
  {
   "cell_type": "code",
   "execution_count": 15,
   "id": "73c5f88a",
   "metadata": {
    "execution": {
     "iopub.execute_input": "2022-10-21T10:14:54.060802Z",
     "iopub.status.busy": "2022-10-21T10:14:54.059945Z",
     "iopub.status.idle": "2022-10-21T10:14:54.074603Z",
     "shell.execute_reply": "2022-10-21T10:14:54.075257Z"
    },
    "papermill": {
     "duration": 0.070939,
     "end_time": "2022-10-21T10:14:54.075434",
     "exception": false,
     "start_time": "2022-10-21T10:14:54.004495",
     "status": "completed"
    },
    "tags": []
   },
   "outputs": [],
   "source": [
    "#Impoting functions from 'Kudzu'\n",
    "from kudzu.model import Model\n",
    "from kudzu.train import Learner\n",
    "from kudzu.optim import GD\n",
    "from kudzu.data import Data, Sampler,Dataloader\n",
    "\n",
    "from kudzu.callbacks import AccCallback\n",
    "from kudzu.callbacks import ClfCallback\n",
    "\n",
    "from kudzu.loss import MSE\n",
    "\n",
    "from kudzu.layer import Sigmoid,Relu\n",
    "from kudzu.layer import Affine"
   ]
  },
  {
   "cell_type": "markdown",
   "id": "bc01172a",
   "metadata": {
    "papermill": {
     "duration": 0.034691,
     "end_time": "2022-10-21T10:14:54.148047",
     "exception": false,
     "start_time": "2022-10-21T10:14:54.113356",
     "status": "completed"
    },
    "tags": []
   },
   "source": [
    "### Let us create a `Config` class, to store important parameters. \n",
    "This class essentially plays the role of a dictionary."
   ]
  },
  {
   "cell_type": "code",
   "execution_count": 16,
   "id": "978281aa",
   "metadata": {
    "execution": {
     "iopub.execute_input": "2022-10-21T10:14:54.235567Z",
     "iopub.status.busy": "2022-10-21T10:14:54.227155Z",
     "iopub.status.idle": "2022-10-21T10:14:54.242593Z",
     "shell.execute_reply": "2022-10-21T10:14:54.241977Z"
    },
    "papermill": {
     "duration": 0.059579,
     "end_time": "2022-10-21T10:14:54.242730",
     "exception": false,
     "start_time": "2022-10-21T10:14:54.183151",
     "status": "completed"
    },
    "tags": []
   },
   "outputs": [],
   "source": [
    "class Config:\n",
    "    pass\n",
    "config = Config()\n",
    "config.lr = 0.001\n",
    "config.num_epochs = 250\n",
    "config.bs = 50"
   ]
  },
  {
   "cell_type": "markdown",
   "id": "1385fa59",
   "metadata": {
    "papermill": {
     "duration": 0.035705,
     "end_time": "2022-10-21T10:14:54.313366",
     "exception": false,
     "start_time": "2022-10-21T10:14:54.277661",
     "status": "completed"
    },
    "tags": []
   },
   "source": [
    "### Running Models with the Training data\n",
    "Details about the network layers:\n",
    "- A first affine layer has 784 inputs and does 100 affine transforms. These are followed by a Relu\n",
    "- A second affine layer has 100 inputs from the 100 activations of the past layer, and does 100 affine transforms. These are followed by a Relu\n",
    "- A third affine layer has 100 activations and does 2 affine transformations to create an embedding for visualization. There is no non-linearity here.\n",
    "- A final \"logistic regression\" which has an affine transform from 2 inputs to 1 output, which is squeezed through a sigmoid.\n"
   ]
  },
  {
   "cell_type": "code",
   "execution_count": 17,
   "id": "2b9c66db",
   "metadata": {
    "execution": {
     "iopub.execute_input": "2022-10-21T10:14:54.398407Z",
     "iopub.status.busy": "2022-10-21T10:14:54.397599Z",
     "iopub.status.idle": "2022-10-21T10:14:54.411869Z",
     "shell.execute_reply": "2022-10-21T10:14:54.412593Z"
    },
    "papermill": {
     "duration": 0.055236,
     "end_time": "2022-10-21T10:14:54.412764",
     "exception": false,
     "start_time": "2022-10-21T10:14:54.357528",
     "status": "completed"
    },
    "tags": []
   },
   "outputs": [],
   "source": [
    "data = Data(X_train, y_train.reshape(-1,1))\n",
    "sampler = Sampler(data, config.bs, shuffle=True)\n",
    "\n",
    "dl = Dataloader(data, sampler)\n",
    "\n",
    "opt = GD(config.lr)\n",
    "loss = MSE()"
   ]
  },
  {
   "cell_type": "code",
   "execution_count": 18,
   "id": "b275e4c2",
   "metadata": {
    "execution": {
     "iopub.execute_input": "2022-10-21T10:14:54.492406Z",
     "iopub.status.busy": "2022-10-21T10:14:54.491413Z",
     "iopub.status.idle": "2022-10-21T10:14:54.504846Z",
     "shell.execute_reply": "2022-10-21T10:14:54.503977Z"
    },
    "papermill": {
     "duration": 0.056551,
     "end_time": "2022-10-21T10:14:54.504988",
     "exception": false,
     "start_time": "2022-10-21T10:14:54.448437",
     "status": "completed"
    },
    "tags": []
   },
   "outputs": [],
   "source": [
    "training_data_x = X_train\n",
    "testing_data_x = X_test\n",
    "training_data_y = y_train.reshape(-1,1)\n",
    "testing_data_y = y_test.reshape(-1,1)"
   ]
  },
  {
   "cell_type": "code",
   "execution_count": 19,
   "id": "76951160",
   "metadata": {
    "execution": {
     "iopub.execute_input": "2022-10-21T10:14:54.587034Z",
     "iopub.status.busy": "2022-10-21T10:14:54.586293Z",
     "iopub.status.idle": "2022-10-21T10:14:54.604340Z",
     "shell.execute_reply": "2022-10-21T10:14:54.603736Z"
    },
    "papermill": {
     "duration": 0.064522,
     "end_time": "2022-10-21T10:14:54.604478",
     "exception": false,
     "start_time": "2022-10-21T10:14:54.539956",
     "status": "completed"
    },
    "tags": []
   },
   "outputs": [
    {
     "name": "stdout",
     "output_type": "stream",
     "text": [
      "xavier\n",
      "xavier\n",
      "xavier\n",
      "xavier\n",
      "xavier\n"
     ]
    }
   ],
   "source": [
    "layers = [Affine(\"first\", 784, 100), Relu(\"first\"), Affine(\"second\", 100, 100), Relu(\"second\"), Affine(\"third\", 100, 2), Affine(\"last\", 2, 1), Sigmoid(\"last\")]\n",
    "model_nn = Model(layers)\n",
    "model_lr = Model([Affine(\"logits\", 784, 1), Sigmoid(\"sigmoid\")])"
   ]
  },
  {
   "cell_type": "code",
   "execution_count": 20,
   "id": "6eede77a",
   "metadata": {
    "execution": {
     "iopub.execute_input": "2022-10-21T10:14:54.687127Z",
     "iopub.status.busy": "2022-10-21T10:14:54.686294Z",
     "iopub.status.idle": "2022-10-21T10:14:54.698118Z",
     "shell.execute_reply": "2022-10-21T10:14:54.697498Z"
    },
    "papermill": {
     "duration": 0.058157,
     "end_time": "2022-10-21T10:14:54.698253",
     "exception": false,
     "start_time": "2022-10-21T10:14:54.640096",
     "status": "completed"
    },
    "tags": []
   },
   "outputs": [],
   "source": [
    "nn_learner = Learner(loss, model_nn, opt, config.num_epochs)\n",
    "acc_nn = ClfCallback(nn_learner, config.bs, training_data_x , testing_data_x, training_data_y, testing_data_y)\n",
    "nn_learner.set_callbacks([acc_nn])"
   ]
  },
  {
   "cell_type": "code",
   "execution_count": 21,
   "id": "877b6cc7",
   "metadata": {
    "execution": {
     "iopub.execute_input": "2022-10-21T10:14:54.779923Z",
     "iopub.status.busy": "2022-10-21T10:14:54.778224Z",
     "iopub.status.idle": "2022-10-21T10:14:54.792577Z",
     "shell.execute_reply": "2022-10-21T10:14:54.793151Z"
    },
    "papermill": {
     "duration": 0.05955,
     "end_time": "2022-10-21T10:14:54.793349",
     "exception": false,
     "start_time": "2022-10-21T10:14:54.733799",
     "status": "completed"
    },
    "tags": []
   },
   "outputs": [],
   "source": [
    "lr_learner = Learner(loss, model_lr, opt, config.num_epochs)\n",
    "acc_lr = ClfCallback(lr_learner, config.bs, training_data_x , testing_data_x, training_data_y, testing_data_y)\n",
    "lr_learner.set_callbacks([acc_lr])"
   ]
  },
  {
   "cell_type": "code",
   "execution_count": 22,
   "id": "d9b133c3",
   "metadata": {
    "execution": {
     "iopub.execute_input": "2022-10-21T10:14:54.870483Z",
     "iopub.status.busy": "2022-10-21T10:14:54.869751Z",
     "iopub.status.idle": "2022-10-21T10:17:07.996596Z",
     "shell.execute_reply": "2022-10-21T10:17:07.997607Z"
    },
    "papermill": {
     "duration": 133.168411,
     "end_time": "2022-10-21T10:17:07.997776",
     "exception": false,
     "start_time": "2022-10-21T10:14:54.829365",
     "status": "completed"
    },
    "tags": []
   },
   "outputs": [
    {
     "name": "stdout",
     "output_type": "stream",
     "text": [
      "Epoch 0, Loss 0.2515\n",
      "Training Accuracy: 0.7135, Testing Accuracy: 0.7334\n",
      "\n"
     ]
    },
    {
     "name": "stdout",
     "output_type": "stream",
     "text": [
      "Epoch 10, Loss 0.0605\n",
      "Training Accuracy: 0.9382, Testing Accuracy: 0.9491\n",
      "\n"
     ]
    },
    {
     "name": "stdout",
     "output_type": "stream",
     "text": [
      "Epoch 20, Loss 0.0426\n",
      "Training Accuracy: 0.9531, Testing Accuracy: 0.9642\n",
      "\n"
     ]
    },
    {
     "name": "stdout",
     "output_type": "stream",
     "text": [
      "Epoch 30, Loss 0.0358\n",
      "Training Accuracy: 0.9594, Testing Accuracy: 0.9662\n",
      "\n"
     ]
    },
    {
     "name": "stdout",
     "output_type": "stream",
     "text": [
      "Epoch 40, Loss 0.032\n",
      "Training Accuracy: 0.9639, Testing Accuracy: 0.9672\n",
      "\n"
     ]
    },
    {
     "name": "stdout",
     "output_type": "stream",
     "text": [
      "Epoch 50, Loss 0.0296\n",
      "Training Accuracy: 0.9667, Testing Accuracy: 0.9677\n",
      "\n"
     ]
    },
    {
     "name": "stdout",
     "output_type": "stream",
     "text": [
      "Epoch 60, Loss 0.0278\n",
      "Training Accuracy: 0.9684, Testing Accuracy: 0.9693\n",
      "\n"
     ]
    },
    {
     "name": "stdout",
     "output_type": "stream",
     "text": [
      "Epoch 70, Loss 0.0264\n",
      "Training Accuracy: 0.9693, Testing Accuracy: 0.9693\n",
      "\n"
     ]
    },
    {
     "name": "stdout",
     "output_type": "stream",
     "text": [
      "Epoch 80, Loss 0.0253\n",
      "Training Accuracy: 0.9706, Testing Accuracy: 0.9698\n",
      "\n"
     ]
    },
    {
     "name": "stdout",
     "output_type": "stream",
     "text": [
      "Epoch 90, Loss 0.0243\n",
      "Training Accuracy: 0.9723, Testing Accuracy: 0.9698\n",
      "\n"
     ]
    },
    {
     "name": "stdout",
     "output_type": "stream",
     "text": [
      "Epoch 100, Loss 0.0235\n",
      "Training Accuracy: 0.9727, Testing Accuracy: 0.9703\n",
      "\n"
     ]
    },
    {
     "name": "stdout",
     "output_type": "stream",
     "text": [
      "Epoch 110, Loss 0.0227\n",
      "Training Accuracy: 0.9740, Testing Accuracy: 0.9713\n",
      "\n"
     ]
    },
    {
     "name": "stdout",
     "output_type": "stream",
     "text": [
      "Epoch 120, Loss 0.022\n",
      "Training Accuracy: 0.9745, Testing Accuracy: 0.9723\n",
      "\n"
     ]
    },
    {
     "name": "stdout",
     "output_type": "stream",
     "text": [
      "Epoch 130, Loss 0.0214\n",
      "Training Accuracy: 0.9757, Testing Accuracy: 0.9733\n",
      "\n"
     ]
    },
    {
     "name": "stdout",
     "output_type": "stream",
     "text": [
      "Epoch 140, Loss 0.0208\n",
      "Training Accuracy: 0.9765, Testing Accuracy: 0.9738\n",
      "\n"
     ]
    },
    {
     "name": "stdout",
     "output_type": "stream",
     "text": [
      "Epoch 150, Loss 0.0203\n",
      "Training Accuracy: 0.9770, Testing Accuracy: 0.9748\n",
      "\n"
     ]
    },
    {
     "name": "stdout",
     "output_type": "stream",
     "text": [
      "Epoch 160, Loss 0.0198\n",
      "Training Accuracy: 0.9777, Testing Accuracy: 0.9753\n",
      "\n"
     ]
    },
    {
     "name": "stdout",
     "output_type": "stream",
     "text": [
      "Epoch 170, Loss 0.0193\n",
      "Training Accuracy: 0.9780, Testing Accuracy: 0.9753\n",
      "\n"
     ]
    },
    {
     "name": "stdout",
     "output_type": "stream",
     "text": [
      "Epoch 180, Loss 0.0188\n",
      "Training Accuracy: 0.9786, Testing Accuracy: 0.9753\n",
      "\n"
     ]
    },
    {
     "name": "stdout",
     "output_type": "stream",
     "text": [
      "Epoch 190, Loss 0.0184\n",
      "Training Accuracy: 0.9793, Testing Accuracy: 0.9763\n",
      "\n"
     ]
    },
    {
     "name": "stdout",
     "output_type": "stream",
     "text": [
      "Epoch 200, Loss 0.0179\n",
      "Training Accuracy: 0.9803, Testing Accuracy: 0.9768\n",
      "\n"
     ]
    },
    {
     "name": "stdout",
     "output_type": "stream",
     "text": [
      "Epoch 210, Loss 0.0175\n",
      "Training Accuracy: 0.9807, Testing Accuracy: 0.9773\n",
      "\n"
     ]
    },
    {
     "name": "stdout",
     "output_type": "stream",
     "text": [
      "Epoch 220, Loss 0.0171\n",
      "Training Accuracy: 0.9814, Testing Accuracy: 0.9773\n",
      "\n"
     ]
    },
    {
     "name": "stdout",
     "output_type": "stream",
     "text": [
      "Epoch 230, Loss 0.0167\n",
      "Training Accuracy: 0.9825, Testing Accuracy: 0.9773\n",
      "\n"
     ]
    },
    {
     "name": "stdout",
     "output_type": "stream",
     "text": [
      "Epoch 240, Loss 0.0163\n",
      "Training Accuracy: 0.9829, Testing Accuracy: 0.9773\n",
      "\n"
     ]
    },
    {
     "data": {
      "text/plain": [
       "0.016612991533892486"
      ]
     },
     "execution_count": 22,
     "metadata": {},
     "output_type": "execute_result"
    }
   ],
   "source": [
    "nn_learner.train_loop(dl)"
   ]
  },
  {
   "cell_type": "code",
   "execution_count": 23,
   "id": "e0163366",
   "metadata": {
    "execution": {
     "iopub.execute_input": "2022-10-21T10:17:08.111143Z",
     "iopub.status.busy": "2022-10-21T10:17:08.100615Z",
     "iopub.status.idle": "2022-10-21T10:17:27.118995Z",
     "shell.execute_reply": "2022-10-21T10:17:27.119998Z"
    },
    "papermill": {
     "duration": 19.077885,
     "end_time": "2022-10-21T10:17:27.120168",
     "exception": false,
     "start_time": "2022-10-21T10:17:08.042283",
     "status": "completed"
    },
    "tags": []
   },
   "outputs": [
    {
     "name": "stdout",
     "output_type": "stream",
     "text": [
      "Epoch 0, Loss 0.2572\n",
      "Training Accuracy: 0.5976, Testing Accuracy: 0.6205\n",
      "\n"
     ]
    },
    {
     "name": "stdout",
     "output_type": "stream",
     "text": [
      "Epoch 10, Loss 0.1055\n",
      "Training Accuracy: 0.9054, Testing Accuracy: 0.9098\n",
      "\n"
     ]
    },
    {
     "name": "stdout",
     "output_type": "stream",
     "text": [
      "Epoch 20, Loss 0.0799\n",
      "Training Accuracy: 0.9252, Testing Accuracy: 0.9355\n",
      "\n"
     ]
    },
    {
     "name": "stdout",
     "output_type": "stream",
     "text": [
      "Epoch 30, Loss 0.0684\n",
      "Training Accuracy: 0.9350, Testing Accuracy: 0.9456\n",
      "\n"
     ]
    },
    {
     "name": "stdout",
     "output_type": "stream",
     "text": [
      "Epoch 40, Loss 0.0615\n",
      "Training Accuracy: 0.9406, Testing Accuracy: 0.9511\n",
      "\n"
     ]
    },
    {
     "name": "stdout",
     "output_type": "stream",
     "text": [
      "Epoch 50, Loss 0.0569\n",
      "Training Accuracy: 0.9449, Testing Accuracy: 0.9561\n",
      "\n"
     ]
    },
    {
     "name": "stdout",
     "output_type": "stream",
     "text": [
      "Epoch 60, Loss 0.0536\n",
      "Training Accuracy: 0.9479, Testing Accuracy: 0.9587\n",
      "\n"
     ]
    },
    {
     "name": "stdout",
     "output_type": "stream",
     "text": [
      "Epoch 70, Loss 0.051\n",
      "Training Accuracy: 0.9501, Testing Accuracy: 0.9602\n",
      "\n"
     ]
    },
    {
     "name": "stdout",
     "output_type": "stream",
     "text": [
      "Epoch 80, Loss 0.049\n",
      "Training Accuracy: 0.9512, Testing Accuracy: 0.9612\n",
      "\n"
     ]
    },
    {
     "name": "stdout",
     "output_type": "stream",
     "text": [
      "Epoch 90, Loss 0.0473\n",
      "Training Accuracy: 0.9521, Testing Accuracy: 0.9622\n",
      "\n"
     ]
    },
    {
     "name": "stdout",
     "output_type": "stream",
     "text": [
      "Epoch 100, Loss 0.0459\n",
      "Training Accuracy: 0.9536, Testing Accuracy: 0.9642\n",
      "\n"
     ]
    },
    {
     "name": "stdout",
     "output_type": "stream",
     "text": [
      "Epoch 110, Loss 0.0447\n",
      "Training Accuracy: 0.9549, Testing Accuracy: 0.9652\n",
      "\n"
     ]
    },
    {
     "name": "stdout",
     "output_type": "stream",
     "text": [
      "Epoch 120, Loss 0.0436\n",
      "Training Accuracy: 0.9552, Testing Accuracy: 0.9647\n",
      "\n"
     ]
    },
    {
     "name": "stdout",
     "output_type": "stream",
     "text": [
      "Epoch 130, Loss 0.0427\n",
      "Training Accuracy: 0.9558, Testing Accuracy: 0.9652\n",
      "\n"
     ]
    },
    {
     "name": "stdout",
     "output_type": "stream",
     "text": [
      "Epoch 140, Loss 0.0419\n",
      "Training Accuracy: 0.9565, Testing Accuracy: 0.9662\n",
      "\n"
     ]
    },
    {
     "name": "stdout",
     "output_type": "stream",
     "text": [
      "Epoch 150, Loss 0.0411\n",
      "Training Accuracy: 0.9571, Testing Accuracy: 0.9667\n",
      "\n"
     ]
    },
    {
     "name": "stdout",
     "output_type": "stream",
     "text": [
      "Epoch 160, Loss 0.0405\n",
      "Training Accuracy: 0.9575, Testing Accuracy: 0.9662\n",
      "\n"
     ]
    },
    {
     "name": "stdout",
     "output_type": "stream",
     "text": [
      "Epoch 170, Loss 0.0399\n",
      "Training Accuracy: 0.9577, Testing Accuracy: 0.9657\n",
      "\n"
     ]
    },
    {
     "name": "stdout",
     "output_type": "stream",
     "text": [
      "Epoch 180, Loss 0.0393\n",
      "Training Accuracy: 0.9582, Testing Accuracy: 0.9657\n",
      "\n"
     ]
    },
    {
     "name": "stdout",
     "output_type": "stream",
     "text": [
      "Epoch 190, Loss 0.0388\n",
      "Training Accuracy: 0.9588, Testing Accuracy: 0.9657\n",
      "\n"
     ]
    },
    {
     "name": "stdout",
     "output_type": "stream",
     "text": [
      "Epoch 200, Loss 0.0383\n",
      "Training Accuracy: 0.9593, Testing Accuracy: 0.9667\n",
      "\n"
     ]
    },
    {
     "name": "stdout",
     "output_type": "stream",
     "text": [
      "Epoch 210, Loss 0.0379\n",
      "Training Accuracy: 0.9595, Testing Accuracy: 0.9667\n",
      "\n"
     ]
    },
    {
     "name": "stdout",
     "output_type": "stream",
     "text": [
      "Epoch 220, Loss 0.0375\n",
      "Training Accuracy: 0.9600, Testing Accuracy: 0.9667\n",
      "\n"
     ]
    },
    {
     "name": "stdout",
     "output_type": "stream",
     "text": [
      "Epoch 230, Loss 0.0371\n",
      "Training Accuracy: 0.9601, Testing Accuracy: 0.9672\n",
      "\n"
     ]
    },
    {
     "name": "stdout",
     "output_type": "stream",
     "text": [
      "Epoch 240, Loss 0.0368\n",
      "Training Accuracy: 0.9604, Testing Accuracy: 0.9672\n",
      "\n"
     ]
    },
    {
     "data": {
      "text/plain": [
       "0.045567102348354635"
      ]
     },
     "execution_count": 23,
     "metadata": {},
     "output_type": "execute_result"
    }
   ],
   "source": [
    "lr_learner.train_loop(dl)"
   ]
  },
  {
   "cell_type": "code",
   "execution_count": 24,
   "id": "ca410940",
   "metadata": {
    "execution": {
     "iopub.execute_input": "2022-10-21T10:17:27.242832Z",
     "iopub.status.busy": "2022-10-21T10:17:27.241950Z",
     "iopub.status.idle": "2022-10-21T10:17:27.566210Z",
     "shell.execute_reply": "2022-10-21T10:17:27.567017Z"
    },
    "papermill": {
     "duration": 0.387935,
     "end_time": "2022-10-21T10:17:27.567198",
     "exception": false,
     "start_time": "2022-10-21T10:17:27.179263",
     "status": "completed"
    },
    "tags": []
   },
   "outputs": [
    {
     "data": {
      "text/plain": [
       "<matplotlib.legend.Legend at 0x7f55e8199438>"
      ]
     },
     "execution_count": 24,
     "metadata": {},
     "output_type": "execute_result"
    },
    {
     "data": {
      "image/png": "[encoded data removed]",
      "text/plain": [
       "<Figure size 1080x720 with 1 Axes>"
      ]
     },
     "metadata": {
      "needs_background": "light"
     },
     "output_type": "display_data"
    }
   ],
   "source": [
    "#comparing the results of NN and LR\n",
    "plt.figure(figsize=(15,10))\n",
    "\n",
    "# Neural Network plots\n",
    "plt.plot(acc_nn.accuracies, 'r-', label = \"Training Accuracies - NN\")\n",
    "plt.plot(acc_nn.test_accuracies, 'g-', label = \"Testing Accuracies - NN\")\n",
    "\n",
    "# Logistic Regression plots\n",
    "plt.plot(acc_lr.accuracies, 'k-', label = \"Training Accuracies - LR\")\n",
    "plt.plot(acc_lr.test_accuracies, 'b-', label = \"Testing Accuracies - LR\")\n",
    "plt.legend()"
   ]
  },
  {
   "cell_type": "markdown",
   "id": "80dfb35c",
   "metadata": {
    "papermill": {
     "duration": 0.062857,
     "end_time": "2022-10-21T10:17:27.687629",
     "exception": false,
     "start_time": "2022-10-21T10:17:27.624772",
     "status": "completed"
    },
    "tags": []
   },
   "source": [
    "#### Plotting the outputs of this layer of the NN.\n"
   ]
  },
  {
   "cell_type": "code",
   "execution_count": 25,
   "id": "45eb2ff5",
   "metadata": {
    "execution": {
     "iopub.execute_input": "2022-10-21T10:17:27.810403Z",
     "iopub.status.busy": "2022-10-21T10:17:27.809645Z",
     "iopub.status.idle": "2022-10-21T10:17:27.836034Z",
     "shell.execute_reply": "2022-10-21T10:17:27.836775Z"
    },
    "papermill": {
     "duration": 0.088722,
     "end_time": "2022-10-21T10:17:27.836950",
     "exception": false,
     "start_time": "2022-10-21T10:17:27.748228",
     "status": "completed"
    },
    "tags": []
   },
   "outputs": [],
   "source": [
    "new_model = Model(layers[:-2])\n",
    "testing_plot = new_model(testing_data_x)"
   ]
  },
  {
   "cell_type": "code",
   "execution_count": 26,
   "id": "4c0a5485",
   "metadata": {
    "execution": {
     "iopub.execute_input": "2022-10-21T10:17:27.967425Z",
     "iopub.status.busy": "2022-10-21T10:17:27.966649Z",
     "iopub.status.idle": "2022-10-21T10:17:28.242987Z",
     "shell.execute_reply": "2022-10-21T10:17:28.243623Z"
    },
    "papermill": {
     "duration": 0.348752,
     "end_time": "2022-10-21T10:17:28.243800",
     "exception": false,
     "start_time": "2022-10-21T10:17:27.895048",
     "status": "completed"
    },
    "tags": []
   },
   "outputs": [
    {
     "data": {
      "text/plain": [
       "Text(0.5, 1.0, 'Outputs')"
      ]
     },
     "execution_count": 26,
     "metadata": {},
     "output_type": "execute_result"
    },
    {
     "data": {
      "image/png": "[encoded data removed]",
      "text/plain": [
       "<Figure size 576x504 with 1 Axes>"
      ]
     },
     "metadata": {
      "needs_background": "light"
     },
     "output_type": "display_data"
    }
   ],
   "source": [
    "# Plotting the scatter plot of points and color coding by class\n",
    "plt.figure(figsize=(8,7))\n",
    "plt.scatter(testing_plot[:,0], testing_plot[:,1], alpha = 0.1, c = y_test.ravel());\n",
    "plt.title('Outputs')"
   ]
  },
  {
   "cell_type": "markdown",
   "id": "a74fcf8f",
   "metadata": {
    "papermill": {
     "duration": 0.091609,
     "end_time": "2022-10-21T10:17:28.393647",
     "exception": false,
     "start_time": "2022-10-21T10:17:28.302038",
     "status": "completed"
    },
    "tags": []
   },
   "source": [
    "Probability contours"
   ]
  },
  {
   "cell_type": "code",
   "execution_count": 27,
   "id": "d0afc8e3",
   "metadata": {
    "execution": {
     "iopub.execute_input": "2022-10-21T10:17:28.529538Z",
     "iopub.status.busy": "2022-10-21T10:17:28.527786Z",
     "iopub.status.idle": "2022-10-21T10:17:28.543183Z",
     "shell.execute_reply": "2022-10-21T10:17:28.542535Z"
    },
    "papermill": {
     "duration": 0.0813,
     "end_time": "2022-10-21T10:17:28.543334",
     "exception": false,
     "start_time": "2022-10-21T10:17:28.462034",
     "status": "completed"
    },
    "tags": []
   },
   "outputs": [],
   "source": [
    "model_prob = Model(layers[-2:]) "
   ]
  },
  {
   "cell_type": "code",
   "execution_count": 28,
   "id": "9b96e238",
   "metadata": {
    "execution": {
     "iopub.execute_input": "2022-10-21T10:17:28.668765Z",
     "iopub.status.busy": "2022-10-21T10:17:28.667993Z",
     "iopub.status.idle": "2022-10-21T10:17:28.684043Z",
     "shell.execute_reply": "2022-10-21T10:17:28.684866Z"
    },
    "papermill": {
     "duration": 0.084527,
     "end_time": "2022-10-21T10:17:28.685058",
     "exception": false,
     "start_time": "2022-10-21T10:17:28.600531",
     "status": "completed"
    },
    "tags": []
   },
   "outputs": [],
   "source": [
    "#creating the x and y ranges according to the above generated plot.\n",
    "x_range = np.linspace(-4, 1, 100) \n",
    "y_range = np.linspace(-6, 6, 100) \n",
    "x_grid, y_grid = np.meshgrid(x_range, y_range) # x_grid and y_grig are of size 100 X 100\n",
    "\n",
    "# converting x_grid and y_grid to continuous arrays\n",
    "x_gridflat = np.ravel(x_grid)\n",
    "y_gridflat = np.ravel(y_grid)\n",
    "\n",
    "# The last layer of the current model takes two columns as input. Hence transpose of np.vstack() is required.\n",
    "X = np.vstack((x_gridflat, y_gridflat)).T\n",
    "\n",
    "prob_contour = model_prob(X).reshape(100,100) "
   ]
  },
  {
   "cell_type": "code",
   "execution_count": 29,
   "id": "da72499a",
   "metadata": {
    "execution": {
     "iopub.execute_input": "2022-10-21T10:17:28.823860Z",
     "iopub.status.busy": "2022-10-21T10:17:28.822443Z",
     "iopub.status.idle": "2022-10-21T10:17:29.129029Z",
     "shell.execute_reply": "2022-10-21T10:17:29.129645Z"
    },
    "papermill": {
     "duration": 0.384049,
     "end_time": "2022-10-21T10:17:29.129814",
     "exception": false,
     "start_time": "2022-10-21T10:17:28.745765",
     "status": "completed"
    },
    "tags": []
   },
   "outputs": [
    {
     "data": {
      "image/png": "[encoded data removed]",
      "text/plain": [
       "<Figure size 720x648 with 1 Axes>"
      ]
     },
     "metadata": {
      "needs_background": "light"
     },
     "output_type": "display_data"
    }
   ],
   "source": [
    "plt.figure(figsize=(10,9))\n",
    "plt.scatter(testing_plot[:,0], testing_plot[:,1], alpha = 0.1, c = y_test.ravel())\n",
    "contours = plt.contour(x_grid,y_grid,prob_contour)\n",
    "plt.title('Probability Contours')\n",
    "plt.clabel(contours, inline = True );"
   ]
  },
  {
   "cell_type": "code",
   "execution_count": null,
   "id": "e81b4ac7",
   "metadata": {
    "papermill": {
     "duration": 0.061635,
     "end_time": "2022-10-21T10:17:29.251613",
     "exception": false,
     "start_time": "2022-10-21T10:17:29.189978",
     "status": "completed"
    },
    "tags": []
   },
   "outputs": [],
   "source": []
  }
 ],
 "metadata": {
  "kernelspec": {
   "display_name": "Python 3",
   "language": "python",
   "name": "python3"
  },
  "language_info": {
   "codemirror_mode": {
    "name": "ipython",
    "version": 3
   },
   "file_extension": ".py",
   "mimetype": "text/x-python",
   "name": "python",
   "nbconvert_exporter": "python",
   "pygments_lexer": "ipython3",
   "version": "3.6.15"
  },
  "papermill": {
   "default_parameters": {},
   "duration": 162.47585,
   "end_time": "2022-10-21T10:17:29.732044",
   "environment_variables": {},
   "exception": null,
   "input_path": "2020-08-11-part2.ipynb",
   "output_path": "2020-08-11-part2.ipynb",
   "parameters": {},
   "start_time": "2022-10-21T10:14:47.256194",
   "version": "2.3.3"
  }
 },
 "nbformat": 4,
 "nbformat_minor": 5
}