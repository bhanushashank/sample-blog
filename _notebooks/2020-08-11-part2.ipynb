{
 "cells": [
  {
   "cell_type": "markdown",
   "id": "98380cd3",
   "metadata": {
    "papermill": {
     "duration": 0.031854,
     "end_time": "2022-07-06T10:15:56.830304",
     "exception": false,
     "start_time": "2022-07-06T10:15:56.798450",
     "status": "completed"
    },
    "tags": []
   },
   "source": [
    "# Distinguish Your Own Digits (DYOD)"
   ]
  },
  {
   "cell_type": "markdown",
   "id": "ef31240d",
   "metadata": {
    "papermill": {
     "duration": 0.026433,
     "end_time": "2022-07-06T10:15:56.885393",
     "exception": false,
     "start_time": "2022-07-06T10:15:56.858960",
     "status": "completed"
    },
    "tags": []
   },
   "source": [
    "You are going to write a classifier that distinguishes between the number 3 and number 8."
   ]
  },
  {
   "cell_type": "code",
   "execution_count": 1,
   "id": "b15c8646",
   "metadata": {
    "execution": {
     "iopub.execute_input": "2022-07-06T10:15:56.948357Z",
     "iopub.status.busy": "2022-07-06T10:15:56.947674Z",
     "iopub.status.idle": "2022-07-06T10:15:56.960152Z",
     "shell.execute_reply": "2022-07-06T10:15:56.959577Z"
    },
    "papermill": {
     "duration": 0.048442,
     "end_time": "2022-07-06T10:15:56.960297",
     "exception": false,
     "start_time": "2022-07-06T10:15:56.911855",
     "status": "completed"
    },
    "tags": []
   },
   "outputs": [],
   "source": [
    "%load_ext autoreload\n",
    "%autoreload 2"
   ]
  },
  {
   "cell_type": "code",
   "execution_count": 2,
   "id": "22ef38dc",
   "metadata": {
    "execution": {
     "iopub.execute_input": "2022-07-06T10:15:57.016085Z",
     "iopub.status.busy": "2022-07-06T10:15:57.015416Z",
     "iopub.status.idle": "2022-07-06T10:15:57.609528Z",
     "shell.execute_reply": "2022-07-06T10:15:57.608695Z"
    },
    "papermill": {
     "duration": 0.624547,
     "end_time": "2022-07-06T10:15:57.609705",
     "exception": false,
     "start_time": "2022-07-06T10:15:56.985158",
     "status": "completed"
    },
    "tags": []
   },
   "outputs": [],
   "source": [
    "%matplotlib inline\n",
    "import numpy as np\n",
    "import matplotlib.pyplot as plt\n",
    "import pandas as pd"
   ]
  },
  {
   "cell_type": "markdown",
   "id": "ba036198",
   "metadata": {
    "papermill": {
     "duration": 0.029919,
     "end_time": "2022-07-06T10:15:57.669666",
     "exception": false,
     "start_time": "2022-07-06T10:15:57.639747",
     "status": "completed"
    },
    "tags": []
   },
   "source": [
    "From the command line run `pip install mnist`. This is a library that will help you bring down the mnist dataset. If you run this from a notebook, you need to put  `!pip install mnist` in a cell by itself."
   ]
  },
  {
   "cell_type": "code",
   "execution_count": 3,
   "id": "bb6ad8a1",
   "metadata": {
    "execution": {
     "iopub.execute_input": "2022-07-06T10:15:57.739607Z",
     "iopub.status.busy": "2022-07-06T10:15:57.738885Z",
     "iopub.status.idle": "2022-07-06T10:15:59.621923Z",
     "shell.execute_reply": "2022-07-06T10:15:59.621282Z"
    },
    "papermill": {
     "duration": 1.921727,
     "end_time": "2022-07-06T10:15:59.622065",
     "exception": false,
     "start_time": "2022-07-06T10:15:57.700338",
     "status": "completed"
    },
    "tags": []
   },
   "outputs": [
    {
     "name": "stdout",
     "output_type": "stream",
     "text": [
      "Collecting mnist\r\n"
     ]
    },
    {
     "name": "stdout",
     "output_type": "stream",
     "text": [
      "  Downloading mnist-0.2.2-py2.py3-none-any.whl (3.5 kB)\r\n",
      "Requirement already satisfied: numpy in /opt/hostedtoolcache/Python/3.6.15/x64/lib/python3.6/site-packages (from mnist) (1.19.5)\r\n"
     ]
    },
    {
     "name": "stdout",
     "output_type": "stream",
     "text": [
      "Installing collected packages: mnist\r\n"
     ]
    },
    {
     "name": "stdout",
     "output_type": "stream",
     "text": [
      "Successfully installed mnist-0.2.2\r\n"
     ]
    }
   ],
   "source": [
    "!pip install mnist"
   ]
  },
  {
   "cell_type": "markdown",
   "id": "69df9c9a",
   "metadata": {
    "papermill": {
     "duration": 0.035081,
     "end_time": "2022-07-06T10:15:59.690169",
     "exception": false,
     "start_time": "2022-07-06T10:15:59.655088",
     "status": "completed"
    },
    "tags": []
   },
   "source": [
    "## Preparing the Data"
   ]
  },
  {
   "cell_type": "code",
   "execution_count": 4,
   "id": "7f69d806",
   "metadata": {
    "execution": {
     "iopub.execute_input": "2022-07-06T10:15:59.784805Z",
     "iopub.status.busy": "2022-07-06T10:15:59.783512Z",
     "iopub.status.idle": "2022-07-06T10:15:59.801109Z",
     "shell.execute_reply": "2022-07-06T10:15:59.801695Z"
    },
    "papermill": {
     "duration": 0.076494,
     "end_time": "2022-07-06T10:15:59.801874",
     "exception": false,
     "start_time": "2022-07-06T10:15:59.725380",
     "status": "completed"
    },
    "tags": []
   },
   "outputs": [],
   "source": [
    "import mnist"
   ]
  },
  {
   "cell_type": "code",
   "execution_count": 5,
   "id": "a411e44f",
   "metadata": {
    "execution": {
     "iopub.execute_input": "2022-07-06T10:15:59.891928Z",
     "iopub.status.busy": "2022-07-06T10:15:59.891052Z",
     "iopub.status.idle": "2022-07-06T10:16:00.470914Z",
     "shell.execute_reply": "2022-07-06T10:16:00.470170Z"
    },
    "papermill": {
     "duration": 0.62075,
     "end_time": "2022-07-06T10:16:00.471065",
     "exception": false,
     "start_time": "2022-07-06T10:15:59.850315",
     "status": "completed"
    },
    "tags": []
   },
   "outputs": [],
   "source": [
    "train_images = mnist.train_images()\n",
    "train_labels = mnist.train_labels()"
   ]
  },
  {
   "cell_type": "code",
   "execution_count": 6,
   "id": "dceab3a5",
   "metadata": {
    "execution": {
     "iopub.execute_input": "2022-07-06T10:16:00.551379Z",
     "iopub.status.busy": "2022-07-06T10:16:00.550189Z",
     "iopub.status.idle": "2022-07-06T10:16:00.567607Z",
     "shell.execute_reply": "2022-07-06T10:16:00.568277Z"
    },
    "papermill": {
     "duration": 0.058479,
     "end_time": "2022-07-06T10:16:00.568429",
     "exception": false,
     "start_time": "2022-07-06T10:16:00.509950",
     "status": "completed"
    },
    "tags": []
   },
   "outputs": [
    {
     "data": {
      "text/plain": [
       "((60000, 28, 28), (60000,))"
      ]
     },
     "execution_count": 6,
     "metadata": {},
     "output_type": "execute_result"
    }
   ],
   "source": [
    "train_images.shape, train_labels.shape"
   ]
  },
  {
   "cell_type": "code",
   "execution_count": 7,
   "id": "f50dc2bb",
   "metadata": {
    "execution": {
     "iopub.execute_input": "2022-07-06T10:16:00.648715Z",
     "iopub.status.busy": "2022-07-06T10:16:00.647934Z",
     "iopub.status.idle": "2022-07-06T10:16:00.773215Z",
     "shell.execute_reply": "2022-07-06T10:16:00.772427Z"
    },
    "papermill": {
     "duration": 0.166117,
     "end_time": "2022-07-06T10:16:00.773365",
     "exception": false,
     "start_time": "2022-07-06T10:16:00.607248",
     "status": "completed"
    },
    "tags": []
   },
   "outputs": [],
   "source": [
    "test_images = mnist.test_images()\n",
    "test_labels = mnist.test_labels()"
   ]
  },
  {
   "cell_type": "code",
   "execution_count": 8,
   "id": "fc38cf1b",
   "metadata": {
    "execution": {
     "iopub.execute_input": "2022-07-06T10:16:00.851778Z",
     "iopub.status.busy": "2022-07-06T10:16:00.850930Z",
     "iopub.status.idle": "2022-07-06T10:16:00.867902Z",
     "shell.execute_reply": "2022-07-06T10:16:00.867238Z"
    },
    "papermill": {
     "duration": 0.059674,
     "end_time": "2022-07-06T10:16:00.868049",
     "exception": false,
     "start_time": "2022-07-06T10:16:00.808375",
     "status": "completed"
    },
    "tags": []
   },
   "outputs": [
    {
     "data": {
      "text/plain": [
       "((10000, 28, 28), (10000,))"
      ]
     },
     "execution_count": 8,
     "metadata": {},
     "output_type": "execute_result"
    }
   ],
   "source": [
    "test_images.shape, test_labels.shape"
   ]
  },
  {
   "cell_type": "code",
   "execution_count": 9,
   "id": "f9ed8fe0",
   "metadata": {
    "execution": {
     "iopub.execute_input": "2022-07-06T10:16:00.939179Z",
     "iopub.status.busy": "2022-07-06T10:16:00.938516Z",
     "iopub.status.idle": "2022-07-06T10:16:01.134355Z",
     "shell.execute_reply": "2022-07-06T10:16:01.133212Z"
    },
    "papermill": {
     "duration": 0.232301,
     "end_time": "2022-07-06T10:16:01.134502",
     "exception": false,
     "start_time": "2022-07-06T10:16:00.902201",
     "status": "completed"
    },
    "tags": []
   },
   "outputs": [
    {
     "name": "stdout",
     "output_type": "stream",
     "text": [
      "2\n"
     ]
    },
    {
     "data": {
      "text/plain": [
       "<matplotlib.image.AxesImage at 0x7f763ca9d4e0>"
      ]
     },
     "execution_count": 9,
     "metadata": {},
     "output_type": "execute_result"
    },
    {
     "data": {
      "image/png": "[encoded data removed]",
      "text/plain": [
       "<Figure size 432x288 with 1 Axes>"
      ]
     },
     "metadata": {
      "needs_background": "light"
     },
     "output_type": "display_data"
    }
   ],
   "source": [
    "image_index = 7776 # You may select anything up to 60,000\n",
    "print(train_labels[image_index]) \n",
    "plt.imshow(train_images[image_index], cmap='Greys')"
   ]
  },
  {
   "cell_type": "markdown",
   "id": "a8d2388d",
   "metadata": {
    "papermill": {
     "duration": 0.034415,
     "end_time": "2022-07-06T10:16:01.204401",
     "exception": false,
     "start_time": "2022-07-06T10:16:01.169986",
     "status": "completed"
    },
    "tags": []
   },
   "source": [
    "## Filter data to get 3 and 8 out"
   ]
  },
  {
   "cell_type": "code",
   "execution_count": 10,
   "id": "776f7fc7",
   "metadata": {
    "execution": {
     "iopub.execute_input": "2022-07-06T10:16:01.278961Z",
     "iopub.status.busy": "2022-07-06T10:16:01.277490Z",
     "iopub.status.idle": "2022-07-06T10:16:01.300786Z",
     "shell.execute_reply": "2022-07-06T10:16:01.300134Z"
    },
    "papermill": {
     "duration": 0.063302,
     "end_time": "2022-07-06T10:16:01.300942",
     "exception": false,
     "start_time": "2022-07-06T10:16:01.237640",
     "status": "completed"
    },
    "tags": []
   },
   "outputs": [],
   "source": [
    "train_filter = np.where((train_labels == 3 ) | (train_labels == 8))\n",
    "test_filter = np.where((test_labels == 3) | (test_labels == 8))\n",
    "X_train, y_train = train_images[train_filter], train_labels[train_filter]\n",
    "X_test, y_test = test_images[test_filter], test_labels[test_filter]"
   ]
  },
  {
   "cell_type": "markdown",
   "id": "948f0b7e",
   "metadata": {
    "papermill": {
     "duration": 0.039021,
     "end_time": "2022-07-06T10:16:01.373793",
     "exception": false,
     "start_time": "2022-07-06T10:16:01.334772",
     "status": "completed"
    },
    "tags": []
   },
   "source": [
    "We normalize the pizel values in the 0 to 1 range"
   ]
  },
  {
   "cell_type": "code",
   "execution_count": 11,
   "id": "ee4c2166",
   "metadata": {
    "execution": {
     "iopub.execute_input": "2022-07-06T10:16:01.445412Z",
     "iopub.status.busy": "2022-07-06T10:16:01.444745Z",
     "iopub.status.idle": "2022-07-06T10:16:01.505789Z",
     "shell.execute_reply": "2022-07-06T10:16:01.506412Z"
    },
    "papermill": {
     "duration": 0.101359,
     "end_time": "2022-07-06T10:16:01.506597",
     "exception": false,
     "start_time": "2022-07-06T10:16:01.405238",
     "status": "completed"
    },
    "tags": []
   },
   "outputs": [],
   "source": [
    "X_train = X_train/255.\n",
    "X_test = X_test/255."
   ]
  },
  {
   "cell_type": "markdown",
   "id": "ddcf4fab",
   "metadata": {
    "papermill": {
     "duration": 0.032382,
     "end_time": "2022-07-06T10:16:01.572570",
     "exception": false,
     "start_time": "2022-07-06T10:16:01.540188",
     "status": "completed"
    },
    "tags": []
   },
   "source": [
    "And setup the labels as 1 (when the digit is 3) and 0 (when the digit is 8)"
   ]
  },
  {
   "cell_type": "code",
   "execution_count": 12,
   "id": "7dc908f2",
   "metadata": {
    "execution": {
     "iopub.execute_input": "2022-07-06T10:16:01.650975Z",
     "iopub.status.busy": "2022-07-06T10:16:01.650064Z",
     "iopub.status.idle": "2022-07-06T10:16:01.665054Z",
     "shell.execute_reply": "2022-07-06T10:16:01.664432Z"
    },
    "papermill": {
     "duration": 0.055596,
     "end_time": "2022-07-06T10:16:01.666335",
     "exception": false,
     "start_time": "2022-07-06T10:16:01.610739",
     "status": "completed"
    },
    "tags": []
   },
   "outputs": [],
   "source": [
    "y_train = 1*(y_train==3)\n",
    "y_test = 1*(y_test==3)"
   ]
  },
  {
   "cell_type": "code",
   "execution_count": 13,
   "id": "01e4e969",
   "metadata": {
    "execution": {
     "iopub.execute_input": "2022-07-06T10:16:01.742159Z",
     "iopub.status.busy": "2022-07-06T10:16:01.741398Z",
     "iopub.status.idle": "2022-07-06T10:16:01.758386Z",
     "shell.execute_reply": "2022-07-06T10:16:01.758906Z"
    },
    "papermill": {
     "duration": 0.055775,
     "end_time": "2022-07-06T10:16:01.759070",
     "exception": false,
     "start_time": "2022-07-06T10:16:01.703295",
     "status": "completed"
    },
    "tags": []
   },
   "outputs": [
    {
     "data": {
      "text/plain": [
       "((11982, 28, 28), (1984, 28, 28))"
      ]
     },
     "execution_count": 13,
     "metadata": {},
     "output_type": "execute_result"
    }
   ],
   "source": [
    "X_train.shape, X_test.shape"
   ]
  },
  {
   "cell_type": "markdown",
   "id": "5ccf3f85",
   "metadata": {
    "papermill": {
     "duration": 0.032047,
     "end_time": "2022-07-06T10:16:01.824929",
     "exception": false,
     "start_time": "2022-07-06T10:16:01.792882",
     "status": "completed"
    },
    "tags": []
   },
   "source": [
    "We reshape the data to flatten the image pixels into a set of features or co-variates:"
   ]
  },
  {
   "cell_type": "code",
   "execution_count": 14,
   "id": "5286a4a3",
   "metadata": {
    "execution": {
     "iopub.execute_input": "2022-07-06T10:16:01.900504Z",
     "iopub.status.busy": "2022-07-06T10:16:01.899651Z",
     "iopub.status.idle": "2022-07-06T10:16:01.916376Z",
     "shell.execute_reply": "2022-07-06T10:16:01.917048Z"
    },
    "papermill": {
     "duration": 0.058478,
     "end_time": "2022-07-06T10:16:01.917256",
     "exception": false,
     "start_time": "2022-07-06T10:16:01.858778",
     "status": "completed"
    },
    "tags": []
   },
   "outputs": [
    {
     "data": {
      "text/plain": [
       "((11982, 784), (1984, 784))"
      ]
     },
     "execution_count": 14,
     "metadata": {},
     "output_type": "execute_result"
    }
   ],
   "source": [
    "X_train = X_train.reshape(X_train.shape[0], -1)\n",
    "X_test = X_test.reshape(X_test.shape[0], -1)\n",
    "X_train.shape, X_test.shape"
   ]
  },
  {
   "cell_type": "code",
   "execution_count": 15,
   "id": "73c5f88a",
   "metadata": {
    "execution": {
     "iopub.execute_input": "2022-07-06T10:16:01.992882Z",
     "iopub.status.busy": "2022-07-06T10:16:01.990862Z",
     "iopub.status.idle": "2022-07-06T10:16:02.012397Z",
     "shell.execute_reply": "2022-07-06T10:16:02.011724Z"
    },
    "papermill": {
     "duration": 0.059662,
     "end_time": "2022-07-06T10:16:02.012523",
     "exception": false,
     "start_time": "2022-07-06T10:16:01.952861",
     "status": "completed"
    },
    "tags": []
   },
   "outputs": [],
   "source": [
    "#Impoting functions from 'Kudzu'\n",
    "from kudzu.model import Model\n",
    "from kudzu.train import Learner\n",
    "from kudzu.optim import GD\n",
    "from kudzu.data import Data, Sampler,Dataloader\n",
    "\n",
    "from kudzu.callbacks import AccCallback\n",
    "from kudzu.callbacks import ClfCallback\n",
    "\n",
    "from kudzu.loss import MSE\n",
    "\n",
    "from kudzu.layer import Sigmoid,Relu\n",
    "from kudzu.layer import Affine"
   ]
  },
  {
   "cell_type": "markdown",
   "id": "bc01172a",
   "metadata": {
    "papermill": {
     "duration": 0.033396,
     "end_time": "2022-07-06T10:16:02.079574",
     "exception": false,
     "start_time": "2022-07-06T10:16:02.046178",
     "status": "completed"
    },
    "tags": []
   },
   "source": [
    "### Let us create a `Config` class, to store important parameters. \n",
    "This class essentially plays the role of a dictionary."
   ]
  },
  {
   "cell_type": "code",
   "execution_count": 16,
   "id": "978281aa",
   "metadata": {
    "execution": {
     "iopub.execute_input": "2022-07-06T10:16:02.157508Z",
     "iopub.status.busy": "2022-07-06T10:16:02.156652Z",
     "iopub.status.idle": "2022-07-06T10:16:02.176317Z",
     "shell.execute_reply": "2022-07-06T10:16:02.175262Z"
    },
    "papermill": {
     "duration": 0.063701,
     "end_time": "2022-07-06T10:16:02.176795",
     "exception": false,
     "start_time": "2022-07-06T10:16:02.113094",
     "status": "completed"
    },
    "tags": []
   },
   "outputs": [],
   "source": [
    "class Config:\n",
    "    pass\n",
    "config = Config()\n",
    "config.lr = 0.001\n",
    "config.num_epochs = 250\n",
    "config.bs = 50"
   ]
  },
  {
   "cell_type": "markdown",
   "id": "1385fa59",
   "metadata": {
    "papermill": {
     "duration": 0.033632,
     "end_time": "2022-07-06T10:16:02.247325",
     "exception": false,
     "start_time": "2022-07-06T10:16:02.213693",
     "status": "completed"
    },
    "tags": []
   },
   "source": [
    "### Running Models with the Training data\n",
    "Details about the network layers:\n",
    "- A first affine layer has 784 inputs and does 100 affine transforms. These are followed by a Relu\n",
    "- A second affine layer has 100 inputs from the 100 activations of the past layer, and does 100 affine transforms. These are followed by a Relu\n",
    "- A third affine layer has 100 activations and does 2 affine transformations to create an embedding for visualization. There is no non-linearity here.\n",
    "- A final \"logistic regression\" which has an affine transform from 2 inputs to 1 output, which is squeezed through a sigmoid.\n"
   ]
  },
  {
   "cell_type": "code",
   "execution_count": 17,
   "id": "2b9c66db",
   "metadata": {
    "execution": {
     "iopub.execute_input": "2022-07-06T10:16:02.321740Z",
     "iopub.status.busy": "2022-07-06T10:16:02.320907Z",
     "iopub.status.idle": "2022-07-06T10:16:02.335305Z",
     "shell.execute_reply": "2022-07-06T10:16:02.336079Z"
    },
    "papermill": {
     "duration": 0.054136,
     "end_time": "2022-07-06T10:16:02.336260",
     "exception": false,
     "start_time": "2022-07-06T10:16:02.282124",
     "status": "completed"
    },
    "tags": []
   },
   "outputs": [],
   "source": [
    "data = Data(X_train, y_train.reshape(-1,1))\n",
    "sampler = Sampler(data, config.bs, shuffle=True)\n",
    "\n",
    "dl = Dataloader(data, sampler)\n",
    "\n",
    "opt = GD(config.lr)\n",
    "loss = MSE()"
   ]
  },
  {
   "cell_type": "code",
   "execution_count": 18,
   "id": "b275e4c2",
   "metadata": {
    "execution": {
     "iopub.execute_input": "2022-07-06T10:16:02.408251Z",
     "iopub.status.busy": "2022-07-06T10:16:02.407474Z",
     "iopub.status.idle": "2022-07-06T10:16:02.421060Z",
     "shell.execute_reply": "2022-07-06T10:16:02.421651Z"
    },
    "papermill": {
     "duration": 0.053486,
     "end_time": "2022-07-06T10:16:02.421821",
     "exception": false,
     "start_time": "2022-07-06T10:16:02.368335",
     "status": "completed"
    },
    "tags": []
   },
   "outputs": [],
   "source": [
    "training_data_x = X_train\n",
    "testing_data_x = X_test\n",
    "training_data_y = y_train.reshape(-1,1)\n",
    "testing_data_y = y_test.reshape(-1,1)"
   ]
  },
  {
   "cell_type": "code",
   "execution_count": 19,
   "id": "76951160",
   "metadata": {
    "execution": {
     "iopub.execute_input": "2022-07-06T10:16:02.493543Z",
     "iopub.status.busy": "2022-07-06T10:16:02.492850Z",
     "iopub.status.idle": "2022-07-06T10:16:02.511376Z",
     "shell.execute_reply": "2022-07-06T10:16:02.510846Z"
    },
    "papermill": {
     "duration": 0.055217,
     "end_time": "2022-07-06T10:16:02.511498",
     "exception": false,
     "start_time": "2022-07-06T10:16:02.456281",
     "status": "completed"
    },
    "tags": []
   },
   "outputs": [
    {
     "name": "stdout",
     "output_type": "stream",
     "text": [
      "xavier\n",
      "xavier\n",
      "xavier\n",
      "xavier\n",
      "xavier\n"
     ]
    }
   ],
   "source": [
    "layers = [Affine(\"first\", 784, 100), Relu(\"first\"), Affine(\"second\", 100, 100), Relu(\"second\"), Affine(\"third\", 100, 2), Affine(\"last\", 2, 1), Sigmoid(\"last\")]\n",
    "model_nn = Model(layers)\n",
    "model_lr = Model([Affine(\"logits\", 784, 1), Sigmoid(\"sigmoid\")])"
   ]
  },
  {
   "cell_type": "code",
   "execution_count": 20,
   "id": "6eede77a",
   "metadata": {
    "execution": {
     "iopub.execute_input": "2022-07-06T10:16:02.589842Z",
     "iopub.status.busy": "2022-07-06T10:16:02.588961Z",
     "iopub.status.idle": "2022-07-06T10:16:02.602527Z",
     "shell.execute_reply": "2022-07-06T10:16:02.601857Z"
    },
    "papermill": {
     "duration": 0.058239,
     "end_time": "2022-07-06T10:16:02.602692",
     "exception": false,
     "start_time": "2022-07-06T10:16:02.544453",
     "status": "completed"
    },
    "tags": []
   },
   "outputs": [],
   "source": [
    "nn_learner = Learner(loss, model_nn, opt, config.num_epochs)\n",
    "acc_nn = ClfCallback(nn_learner, config.bs, training_data_x , testing_data_x, training_data_y, testing_data_y)\n",
    "nn_learner.set_callbacks([acc_nn])"
   ]
  },
  {
   "cell_type": "code",
   "execution_count": 21,
   "id": "877b6cc7",
   "metadata": {
    "execution": {
     "iopub.execute_input": "2022-07-06T10:16:02.677710Z",
     "iopub.status.busy": "2022-07-06T10:16:02.677020Z",
     "iopub.status.idle": "2022-07-06T10:16:02.695118Z",
     "shell.execute_reply": "2022-07-06T10:16:02.694471Z"
    },
    "papermill": {
     "duration": 0.056847,
     "end_time": "2022-07-06T10:16:02.695246",
     "exception": false,
     "start_time": "2022-07-06T10:16:02.638399",
     "status": "completed"
    },
    "tags": []
   },
   "outputs": [],
   "source": [
    "lr_learner = Learner(loss, model_lr, opt, config.num_epochs)\n",
    "acc_lr = ClfCallback(lr_learner, config.bs, training_data_x , testing_data_x, training_data_y, testing_data_y)\n",
    "lr_learner.set_callbacks([acc_lr])"
   ]
  },
  {
   "cell_type": "code",
   "execution_count": 22,
   "id": "d9b133c3",
   "metadata": {
    "execution": {
     "iopub.execute_input": "2022-07-06T10:16:02.763722Z",
     "iopub.status.busy": "2022-07-06T10:16:02.763041Z",
     "iopub.status.idle": "2022-07-06T10:18:23.006556Z",
     "shell.execute_reply": "2022-07-06T10:18:23.007435Z"
    },
    "papermill": {
     "duration": 140.279178,
     "end_time": "2022-07-06T10:18:23.007586",
     "exception": false,
     "start_time": "2022-07-06T10:16:02.728408",
     "status": "completed"
    },
    "tags": []
   },
   "outputs": [
    {
     "name": "stdout",
     "output_type": "stream",
     "text": [
      "Epoch 0, Loss 0.2427\n",
      "Training Accuracy: 0.6694, Testing Accuracy: 0.6840\n",
      "\n"
     ]
    },
    {
     "name": "stdout",
     "output_type": "stream",
     "text": [
      "Epoch 10, Loss 0.1056\n",
      "Training Accuracy: 0.9185, Testing Accuracy: 0.9360\n",
      "\n"
     ]
    },
    {
     "name": "stdout",
     "output_type": "stream",
     "text": [
      "Epoch 20, Loss 0.0594\n",
      "Training Accuracy: 0.9402, Testing Accuracy: 0.9536\n",
      "\n"
     ]
    },
    {
     "name": "stdout",
     "output_type": "stream",
     "text": [
      "Epoch 30, Loss 0.0456\n",
      "Training Accuracy: 0.9496, Testing Accuracy: 0.9577\n",
      "\n"
     ]
    },
    {
     "name": "stdout",
     "output_type": "stream",
     "text": [
      "Epoch 40, Loss 0.0391\n",
      "Training Accuracy: 0.9559, Testing Accuracy: 0.9632\n",
      "\n"
     ]
    },
    {
     "name": "stdout",
     "output_type": "stream",
     "text": [
      "Epoch 50, Loss 0.0353\n",
      "Training Accuracy: 0.9604, Testing Accuracy: 0.9657\n",
      "\n"
     ]
    },
    {
     "name": "stdout",
     "output_type": "stream",
     "text": [
      "Epoch 60, Loss 0.0327\n",
      "Training Accuracy: 0.9625, Testing Accuracy: 0.9677\n",
      "\n"
     ]
    },
    {
     "name": "stdout",
     "output_type": "stream",
     "text": [
      "Epoch 70, Loss 0.0307\n",
      "Training Accuracy: 0.9647, Testing Accuracy: 0.9698\n",
      "\n"
     ]
    },
    {
     "name": "stdout",
     "output_type": "stream",
     "text": [
      "Epoch 80, Loss 0.0292\n",
      "Training Accuracy: 0.9665, Testing Accuracy: 0.9698\n",
      "\n"
     ]
    },
    {
     "name": "stdout",
     "output_type": "stream",
     "text": [
      "Epoch 90, Loss 0.028\n",
      "Training Accuracy: 0.9680, Testing Accuracy: 0.9703\n",
      "\n"
     ]
    },
    {
     "name": "stdout",
     "output_type": "stream",
     "text": [
      "Epoch 100, Loss 0.027\n",
      "Training Accuracy: 0.9690, Testing Accuracy: 0.9723\n",
      "\n"
     ]
    },
    {
     "name": "stdout",
     "output_type": "stream",
     "text": [
      "Epoch 110, Loss 0.0261\n",
      "Training Accuracy: 0.9705, Testing Accuracy: 0.9723\n",
      "\n"
     ]
    },
    {
     "name": "stdout",
     "output_type": "stream",
     "text": [
      "Epoch 120, Loss 0.0253\n",
      "Training Accuracy: 0.9712, Testing Accuracy: 0.9728\n",
      "\n"
     ]
    },
    {
     "name": "stdout",
     "output_type": "stream",
     "text": [
      "Epoch 130, Loss 0.0247\n",
      "Training Accuracy: 0.9720, Testing Accuracy: 0.9723\n",
      "\n"
     ]
    },
    {
     "name": "stdout",
     "output_type": "stream",
     "text": [
      "Epoch 140, Loss 0.0241\n",
      "Training Accuracy: 0.9723, Testing Accuracy: 0.9723\n",
      "\n"
     ]
    },
    {
     "name": "stdout",
     "output_type": "stream",
     "text": [
      "Epoch 150, Loss 0.0235\n",
      "Training Accuracy: 0.9731, Testing Accuracy: 0.9733\n",
      "\n"
     ]
    },
    {
     "name": "stdout",
     "output_type": "stream",
     "text": [
      "Epoch 160, Loss 0.023\n",
      "Training Accuracy: 0.9737, Testing Accuracy: 0.9733\n",
      "\n"
     ]
    },
    {
     "name": "stdout",
     "output_type": "stream",
     "text": [
      "Epoch 170, Loss 0.0225\n",
      "Training Accuracy: 0.9745, Testing Accuracy: 0.9728\n",
      "\n"
     ]
    },
    {
     "name": "stdout",
     "output_type": "stream",
     "text": [
      "Epoch 180, Loss 0.0221\n",
      "Training Accuracy: 0.9747, Testing Accuracy: 0.9733\n",
      "\n"
     ]
    },
    {
     "name": "stdout",
     "output_type": "stream",
     "text": [
      "Epoch 190, Loss 0.0216\n",
      "Training Accuracy: 0.9755, Testing Accuracy: 0.9728\n",
      "\n"
     ]
    },
    {
     "name": "stdout",
     "output_type": "stream",
     "text": [
      "Epoch 200, Loss 0.0212\n",
      "Training Accuracy: 0.9754, Testing Accuracy: 0.9733\n",
      "\n"
     ]
    },
    {
     "name": "stdout",
     "output_type": "stream",
     "text": [
      "Epoch 210, Loss 0.0208\n",
      "Training Accuracy: 0.9755, Testing Accuracy: 0.9733\n",
      "\n"
     ]
    },
    {
     "name": "stdout",
     "output_type": "stream",
     "text": [
      "Epoch 220, Loss 0.0205\n",
      "Training Accuracy: 0.9763, Testing Accuracy: 0.9733\n",
      "\n"
     ]
    },
    {
     "name": "stdout",
     "output_type": "stream",
     "text": [
      "Epoch 230, Loss 0.0201\n",
      "Training Accuracy: 0.9770, Testing Accuracy: 0.9738\n",
      "\n"
     ]
    },
    {
     "name": "stdout",
     "output_type": "stream",
     "text": [
      "Epoch 240, Loss 0.0198\n",
      "Training Accuracy: 0.9775, Testing Accuracy: 0.9738\n",
      "\n"
     ]
    },
    {
     "data": {
      "text/plain": [
       "0.006633342704521885"
      ]
     },
     "execution_count": 22,
     "metadata": {},
     "output_type": "execute_result"
    }
   ],
   "source": [
    "nn_learner.train_loop(dl)"
   ]
  },
  {
   "cell_type": "code",
   "execution_count": 23,
   "id": "e0163366",
   "metadata": {
    "execution": {
     "iopub.execute_input": "2022-07-06T10:18:23.109840Z",
     "iopub.status.busy": "2022-07-06T10:18:23.108991Z",
     "iopub.status.idle": "2022-07-06T10:18:42.970147Z",
     "shell.execute_reply": "2022-07-06T10:18:42.971101Z"
    },
    "papermill": {
     "duration": 19.921103,
     "end_time": "2022-07-06T10:18:42.971265",
     "exception": false,
     "start_time": "2022-07-06T10:18:23.050162",
     "status": "completed"
    },
    "tags": []
   },
   "outputs": [
    {
     "name": "stdout",
     "output_type": "stream",
     "text": [
      "Epoch 0, Loss 0.2474\n",
      "Training Accuracy: 0.6628, Testing Accuracy: 0.6598\n",
      "\n"
     ]
    },
    {
     "name": "stdout",
     "output_type": "stream",
     "text": [
      "Epoch 10, Loss 0.1024\n",
      "Training Accuracy: 0.9178, Testing Accuracy: 0.9325\n",
      "\n"
     ]
    },
    {
     "name": "stdout",
     "output_type": "stream",
     "text": [
      "Epoch 20, Loss 0.0783\n",
      "Training Accuracy: 0.9322, Testing Accuracy: 0.9461\n",
      "\n"
     ]
    },
    {
     "name": "stdout",
     "output_type": "stream",
     "text": [
      "Epoch 30, Loss 0.0674\n",
      "Training Accuracy: 0.9387, Testing Accuracy: 0.9536\n",
      "\n"
     ]
    },
    {
     "name": "stdout",
     "output_type": "stream",
     "text": [
      "Epoch 40, Loss 0.0609\n",
      "Training Accuracy: 0.9437, Testing Accuracy: 0.9556\n",
      "\n"
     ]
    },
    {
     "name": "stdout",
     "output_type": "stream",
     "text": [
      "Epoch 50, Loss 0.0565\n",
      "Training Accuracy: 0.9468, Testing Accuracy: 0.9567\n",
      "\n"
     ]
    },
    {
     "name": "stdout",
     "output_type": "stream",
     "text": [
      "Epoch 60, Loss 0.0533\n",
      "Training Accuracy: 0.9499, Testing Accuracy: 0.9582\n",
      "\n"
     ]
    },
    {
     "name": "stdout",
     "output_type": "stream",
     "text": [
      "Epoch 70, Loss 0.0508\n",
      "Training Accuracy: 0.9511, Testing Accuracy: 0.9587\n",
      "\n"
     ]
    },
    {
     "name": "stdout",
     "output_type": "stream",
     "text": [
      "Epoch 80, Loss 0.0488\n",
      "Training Accuracy: 0.9519, Testing Accuracy: 0.9612\n",
      "\n"
     ]
    },
    {
     "name": "stdout",
     "output_type": "stream",
     "text": [
      "Epoch 90, Loss 0.0471\n",
      "Training Accuracy: 0.9533, Testing Accuracy: 0.9627\n",
      "\n"
     ]
    },
    {
     "name": "stdout",
     "output_type": "stream",
     "text": [
      "Epoch 100, Loss 0.0457\n",
      "Training Accuracy: 0.9545, Testing Accuracy: 0.9642\n",
      "\n"
     ]
    },
    {
     "name": "stdout",
     "output_type": "stream",
     "text": [
      "Epoch 110, Loss 0.0446\n",
      "Training Accuracy: 0.9559, Testing Accuracy: 0.9652\n",
      "\n"
     ]
    },
    {
     "name": "stdout",
     "output_type": "stream",
     "text": [
      "Epoch 120, Loss 0.0435\n",
      "Training Accuracy: 0.9572, Testing Accuracy: 0.9657\n",
      "\n"
     ]
    },
    {
     "name": "stdout",
     "output_type": "stream",
     "text": [
      "Epoch 130, Loss 0.0426\n",
      "Training Accuracy: 0.9576, Testing Accuracy: 0.9667\n",
      "\n"
     ]
    },
    {
     "name": "stdout",
     "output_type": "stream",
     "text": [
      "Epoch 140, Loss 0.0418\n",
      "Training Accuracy: 0.9579, Testing Accuracy: 0.9662\n",
      "\n"
     ]
    },
    {
     "name": "stdout",
     "output_type": "stream",
     "text": [
      "Epoch 150, Loss 0.0411\n",
      "Training Accuracy: 0.9582, Testing Accuracy: 0.9662\n",
      "\n"
     ]
    },
    {
     "name": "stdout",
     "output_type": "stream",
     "text": [
      "Epoch 160, Loss 0.0404\n",
      "Training Accuracy: 0.9587, Testing Accuracy: 0.9662\n",
      "\n"
     ]
    },
    {
     "name": "stdout",
     "output_type": "stream",
     "text": [
      "Epoch 170, Loss 0.0398\n",
      "Training Accuracy: 0.9595, Testing Accuracy: 0.9662\n",
      "\n"
     ]
    },
    {
     "name": "stdout",
     "output_type": "stream",
     "text": [
      "Epoch 180, Loss 0.0393\n",
      "Training Accuracy: 0.9595, Testing Accuracy: 0.9662\n",
      "\n"
     ]
    },
    {
     "name": "stdout",
     "output_type": "stream",
     "text": [
      "Epoch 190, Loss 0.0388\n",
      "Training Accuracy: 0.9603, Testing Accuracy: 0.9672\n",
      "\n"
     ]
    },
    {
     "name": "stdout",
     "output_type": "stream",
     "text": [
      "Epoch 200, Loss 0.0383\n",
      "Training Accuracy: 0.9608, Testing Accuracy: 0.9682\n",
      "\n"
     ]
    },
    {
     "name": "stdout",
     "output_type": "stream",
     "text": [
      "Epoch 210, Loss 0.0379\n",
      "Training Accuracy: 0.9610, Testing Accuracy: 0.9677\n",
      "\n"
     ]
    },
    {
     "name": "stdout",
     "output_type": "stream",
     "text": [
      "Epoch 220, Loss 0.0374\n",
      "Training Accuracy: 0.9612, Testing Accuracy: 0.9677\n",
      "\n"
     ]
    },
    {
     "name": "stdout",
     "output_type": "stream",
     "text": [
      "Epoch 230, Loss 0.0371\n",
      "Training Accuracy: 0.9614, Testing Accuracy: 0.9677\n",
      "\n"
     ]
    },
    {
     "name": "stdout",
     "output_type": "stream",
     "text": [
      "Epoch 240, Loss 0.0367\n",
      "Training Accuracy: 0.9615, Testing Accuracy: 0.9677\n",
      "\n"
     ]
    },
    {
     "data": {
      "text/plain": [
       "0.020066783023268288"
      ]
     },
     "execution_count": 23,
     "metadata": {},
     "output_type": "execute_result"
    }
   ],
   "source": [
    "lr_learner.train_loop(dl)"
   ]
  },
  {
   "cell_type": "code",
   "execution_count": 24,
   "id": "ca410940",
   "metadata": {
    "execution": {
     "iopub.execute_input": "2022-07-06T10:18:43.084666Z",
     "iopub.status.busy": "2022-07-06T10:18:43.083825Z",
     "iopub.status.idle": "2022-07-06T10:18:43.398994Z",
     "shell.execute_reply": "2022-07-06T10:18:43.398455Z"
    },
    "papermill": {
     "duration": 0.372625,
     "end_time": "2022-07-06T10:18:43.399117",
     "exception": false,
     "start_time": "2022-07-06T10:18:43.026492",
     "status": "completed"
    },
    "tags": []
   },
   "outputs": [
    {
     "data": {
      "text/plain": [
       "<matplotlib.legend.Legend at 0x7f763c5fbcc0>"
      ]
     },
     "execution_count": 24,
     "metadata": {},
     "output_type": "execute_result"
    },
    {
     "data": {
      "image/png": "[encoded data removed]",
      "text/plain": [
       "<Figure size 1080x720 with 1 Axes>"
      ]
     },
     "metadata": {
      "needs_background": "light"
     },
     "output_type": "display_data"
    }
   ],
   "source": [
    "#comparing the results of NN and LR\n",
    "plt.figure(figsize=(15,10))\n",
    "\n",
    "# Neural Network plots\n",
    "plt.plot(acc_nn.accuracies, 'r-', label = \"Training Accuracies - NN\")\n",
    "plt.plot(acc_nn.test_accuracies, 'g-', label = \"Testing Accuracies - NN\")\n",
    "\n",
    "# Logistic Regression plots\n",
    "plt.plot(acc_lr.accuracies, 'k-', label = \"Training Accuracies - LR\")\n",
    "plt.plot(acc_lr.test_accuracies, 'b-', label = \"Testing Accuracies - LR\")\n",
    "plt.legend()"
   ]
  },
  {
   "cell_type": "markdown",
   "id": "80dfb35c",
   "metadata": {
    "papermill": {
     "duration": 0.049957,
     "end_time": "2022-07-06T10:18:43.503546",
     "exception": false,
     "start_time": "2022-07-06T10:18:43.453589",
     "status": "completed"
    },
    "tags": []
   },
   "source": [
    "#### Plotting the outputs of this layer of the NN.\n"
   ]
  },
  {
   "cell_type": "code",
   "execution_count": 25,
   "id": "45eb2ff5",
   "metadata": {
    "execution": {
     "iopub.execute_input": "2022-07-06T10:18:43.607032Z",
     "iopub.status.busy": "2022-07-06T10:18:43.605921Z",
     "iopub.status.idle": "2022-07-06T10:18:43.633351Z",
     "shell.execute_reply": "2022-07-06T10:18:43.634329Z"
    },
    "papermill": {
     "duration": 0.082925,
     "end_time": "2022-07-06T10:18:43.634503",
     "exception": false,
     "start_time": "2022-07-06T10:18:43.551578",
     "status": "completed"
    },
    "tags": []
   },
   "outputs": [],
   "source": [
    "new_model = Model(layers[:-2])\n",
    "testing_plot = new_model(testing_data_x)"
   ]
  },
  {
   "cell_type": "code",
   "execution_count": 26,
   "id": "4c0a5485",
   "metadata": {
    "execution": {
     "iopub.execute_input": "2022-07-06T10:18:43.743274Z",
     "iopub.status.busy": "2022-07-06T10:18:43.742618Z",
     "iopub.status.idle": "2022-07-06T10:18:44.011473Z",
     "shell.execute_reply": "2022-07-06T10:18:44.010801Z"
    },
    "papermill": {
     "duration": 0.326425,
     "end_time": "2022-07-06T10:18:44.011605",
     "exception": false,
     "start_time": "2022-07-06T10:18:43.685180",
     "status": "completed"
    },
    "tags": []
   },
   "outputs": [
    {
     "data": {
      "text/plain": [
       "Text(0.5, 1.0, 'Outputs')"
      ]
     },
     "execution_count": 26,
     "metadata": {},
     "output_type": "execute_result"
    },
    {
     "data": {
      "image/png": "[encoded data removed]",
      "text/plain": [
       "<Figure size 576x504 with 1 Axes>"
      ]
     },
     "metadata": {
      "needs_background": "light"
     },
     "output_type": "display_data"
    }
   ],
   "source": [
    "# Plotting the scatter plot of points and color coding by class\n",
    "plt.figure(figsize=(8,7))\n",
    "plt.scatter(testing_plot[:,0], testing_plot[:,1], alpha = 0.1, c = y_test.ravel());\n",
    "plt.title('Outputs')"
   ]
  },
  {
   "cell_type": "markdown",
   "id": "a74fcf8f",
   "metadata": {
    "papermill": {
     "duration": 0.077881,
     "end_time": "2022-07-06T10:18:44.144614",
     "exception": false,
     "start_time": "2022-07-06T10:18:44.066733",
     "status": "completed"
    },
    "tags": []
   },
   "source": [
    "Probability contours"
   ]
  },
  {
   "cell_type": "code",
   "execution_count": 27,
   "id": "d0afc8e3",
   "metadata": {
    "execution": {
     "iopub.execute_input": "2022-07-06T10:18:44.253276Z",
     "iopub.status.busy": "2022-07-06T10:18:44.252625Z",
     "iopub.status.idle": "2022-07-06T10:18:44.264892Z",
     "shell.execute_reply": "2022-07-06T10:18:44.265454Z"
    },
    "papermill": {
     "duration": 0.067567,
     "end_time": "2022-07-06T10:18:44.265588",
     "exception": false,
     "start_time": "2022-07-06T10:18:44.198021",
     "status": "completed"
    },
    "tags": []
   },
   "outputs": [],
   "source": [
    "model_prob = Model(layers[-2:]) "
   ]
  },
  {
   "cell_type": "code",
   "execution_count": 28,
   "id": "9b96e238",
   "metadata": {
    "execution": {
     "iopub.execute_input": "2022-07-06T10:18:44.370047Z",
     "iopub.status.busy": "2022-07-06T10:18:44.369344Z",
     "iopub.status.idle": "2022-07-06T10:18:44.383593Z",
     "shell.execute_reply": "2022-07-06T10:18:44.384100Z"
    },
    "papermill": {
     "duration": 0.069137,
     "end_time": "2022-07-06T10:18:44.384259",
     "exception": false,
     "start_time": "2022-07-06T10:18:44.315122",
     "status": "completed"
    },
    "tags": []
   },
   "outputs": [],
   "source": [
    "#creating the x and y ranges according to the above generated plot.\n",
    "x_range = np.linspace(-4, 1, 100) \n",
    "y_range = np.linspace(-6, 6, 100) \n",
    "x_grid, y_grid = np.meshgrid(x_range, y_range) # x_grid and y_grig are of size 100 X 100\n",
    "\n",
    "# converting x_grid and y_grid to continuous arrays\n",
    "x_gridflat = np.ravel(x_grid)\n",
    "y_gridflat = np.ravel(y_grid)\n",
    "\n",
    "# The last layer of the current model takes two columns as input. Hence transpose of np.vstack() is required.\n",
    "X = np.vstack((x_gridflat, y_gridflat)).T\n",
    "\n",
    "prob_contour = model_prob(X).reshape(100,100) "
   ]
  },
  {
   "cell_type": "code",
   "execution_count": 29,
   "id": "da72499a",
   "metadata": {
    "execution": {
     "iopub.execute_input": "2022-07-06T10:18:44.498481Z",
     "iopub.status.busy": "2022-07-06T10:18:44.497830Z",
     "iopub.status.idle": "2022-07-06T10:18:44.826191Z",
     "shell.execute_reply": "2022-07-06T10:18:44.825594Z"
    },
    "papermill": {
     "duration": 0.390541,
     "end_time": "2022-07-06T10:18:44.826345",
     "exception": false,
     "start_time": "2022-07-06T10:18:44.435804",
     "status": "completed"
    },
    "tags": []
   },
   "outputs": [
    {
     "data": {
      "image/png": "[encoded data removed]",
      "text/plain": [
       "<Figure size 720x648 with 1 Axes>"
      ]
     },
     "metadata": {
      "needs_background": "light"
     },
     "output_type": "display_data"
    }
   ],
   "source": [
    "plt.figure(figsize=(10,9))\n",
    "plt.scatter(testing_plot[:,0], testing_plot[:,1], alpha = 0.1, c = y_test.ravel())\n",
    "contours = plt.contour(x_grid,y_grid,prob_contour)\n",
    "plt.title('Probability Contours')\n",
    "plt.clabel(contours, inline = True );"
   ]
  },
  {
   "cell_type": "code",
   "execution_count": null,
   "id": "e81b4ac7",
   "metadata": {
    "papermill": {
     "duration": 0.05469,
     "end_time": "2022-07-06T10:18:44.935302",
     "exception": false,
     "start_time": "2022-07-06T10:18:44.880612",
     "status": "completed"
    },
    "tags": []
   },
   "outputs": [],
   "source": []
  }
 ],
 "metadata": {
  "kernelspec": {
   "display_name": "Python 3",
   "language": "python",
   "name": "python3"
  },
  "language_info": {
   "codemirror_mode": {
    "name": "ipython",
    "version": 3
   },
   "file_extension": ".py",
   "mimetype": "text/x-python",
   "name": "python",
   "nbconvert_exporter": "python",
   "pygments_lexer": "ipython3",
   "version": "3.6.15"
  },
  "papermill": {
   "default_parameters": {},
   "duration": 169.799693,
   "end_time": "2022-07-06T10:18:45.311307",
   "environment_variables": {},
   "exception": null,
   "input_path": "2020-08-11-part2.ipynb",
   "output_path": "2020-08-11-part2.ipynb",
   "parameters": {},
   "start_time": "2022-07-06T10:15:55.511614",
   "version": "2.3.3"
  }
 },
 "nbformat": 4,
 "nbformat_minor": 5
}