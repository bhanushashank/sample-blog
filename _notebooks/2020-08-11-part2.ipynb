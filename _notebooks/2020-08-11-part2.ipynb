{
 "cells": [
  {
   "cell_type": "markdown",
   "id": "98380cd3",
   "metadata": {
    "papermill": {
     "duration": 0.032841,
     "end_time": "2021-11-27T10:07:21.155777",
     "exception": false,
     "start_time": "2021-11-27T10:07:21.122936",
     "status": "completed"
    },
    "tags": []
   },
   "source": [
    "# Distinguish Your Own Digits (DYOD)"
   ]
  },
  {
   "cell_type": "markdown",
   "id": "ef31240d",
   "metadata": {
    "papermill": {
     "duration": 0.027251,
     "end_time": "2021-11-27T10:07:21.211487",
     "exception": false,
     "start_time": "2021-11-27T10:07:21.184236",
     "status": "completed"
    },
    "tags": []
   },
   "source": [
    "You are going to write a classifier that distinguishes between the number 3 and number 8."
   ]
  },
  {
   "cell_type": "code",
   "execution_count": 1,
   "id": "b15c8646",
   "metadata": {
    "execution": {
     "iopub.execute_input": "2021-11-27T10:07:21.278693Z",
     "iopub.status.busy": "2021-11-27T10:07:21.278080Z",
     "iopub.status.idle": "2021-11-27T10:07:21.289249Z",
     "shell.execute_reply": "2021-11-27T10:07:21.289748Z"
    },
    "papermill": {
     "duration": 0.051446,
     "end_time": "2021-11-27T10:07:21.289923",
     "exception": false,
     "start_time": "2021-11-27T10:07:21.238477",
     "status": "completed"
    },
    "tags": []
   },
   "outputs": [],
   "source": [
    "%load_ext autoreload\n",
    "%autoreload 2"
   ]
  },
  {
   "cell_type": "code",
   "execution_count": 2,
   "id": "22ef38dc",
   "metadata": {
    "execution": {
     "iopub.execute_input": "2021-11-27T10:07:21.348990Z",
     "iopub.status.busy": "2021-11-27T10:07:21.348339Z",
     "iopub.status.idle": "2021-11-27T10:07:22.050147Z",
     "shell.execute_reply": "2021-11-27T10:07:22.049603Z"
    },
    "papermill": {
     "duration": 0.733271,
     "end_time": "2021-11-27T10:07:22.050291",
     "exception": false,
     "start_time": "2021-11-27T10:07:21.317020",
     "status": "completed"
    },
    "tags": []
   },
   "outputs": [],
   "source": [
    "%matplotlib inline\n",
    "import numpy as np\n",
    "import matplotlib.pyplot as plt\n",
    "import pandas as pd"
   ]
  },
  {
   "cell_type": "markdown",
   "id": "ba036198",
   "metadata": {
    "papermill": {
     "duration": 0.028376,
     "end_time": "2021-11-27T10:07:22.107257",
     "exception": false,
     "start_time": "2021-11-27T10:07:22.078881",
     "status": "completed"
    },
    "tags": []
   },
   "source": [
    "From the command line run `pip install mnist`. This is a library that will help you bring down the mnist dataset. If you run this from a notebook, you need to put  `!pip install mnist` in a cell by itself."
   ]
  },
  {
   "cell_type": "code",
   "execution_count": 3,
   "id": "bb6ad8a1",
   "metadata": {
    "execution": {
     "iopub.execute_input": "2021-11-27T10:07:22.168977Z",
     "iopub.status.busy": "2021-11-27T10:07:22.168351Z",
     "iopub.status.idle": "2021-11-27T10:07:24.129053Z",
     "shell.execute_reply": "2021-11-27T10:07:24.129550Z"
    },
    "papermill": {
     "duration": 1.995116,
     "end_time": "2021-11-27T10:07:24.129724",
     "exception": false,
     "start_time": "2021-11-27T10:07:22.134608",
     "status": "completed"
    },
    "tags": []
   },
   "outputs": [
    {
     "name": "stdout",
     "output_type": "stream",
     "text": [
      "Collecting mnist\r\n",
      "  Downloading mnist-0.2.2-py2.py3-none-any.whl (3.5 kB)\r\n"
     ]
    },
    {
     "name": "stdout",
     "output_type": "stream",
     "text": [
      "Requirement already satisfied: numpy in /opt/hostedtoolcache/Python/3.6.15/x64/lib/python3.6/site-packages (from mnist) (1.19.5)\r\n"
     ]
    },
    {
     "name": "stdout",
     "output_type": "stream",
     "text": [
      "Installing collected packages: mnist\r\n"
     ]
    },
    {
     "name": "stdout",
     "output_type": "stream",
     "text": [
      "Successfully installed mnist-0.2.2\r\n"
     ]
    }
   ],
   "source": [
    "!pip install mnist"
   ]
  },
  {
   "cell_type": "markdown",
   "id": "69df9c9a",
   "metadata": {
    "papermill": {
     "duration": 0.028814,
     "end_time": "2021-11-27T10:07:24.187093",
     "exception": false,
     "start_time": "2021-11-27T10:07:24.158279",
     "status": "completed"
    },
    "tags": []
   },
   "source": [
    "## Preparing the Data"
   ]
  },
  {
   "cell_type": "code",
   "execution_count": 4,
   "id": "7f69d806",
   "metadata": {
    "execution": {
     "iopub.execute_input": "2021-11-27T10:07:24.250812Z",
     "iopub.status.busy": "2021-11-27T10:07:24.250208Z",
     "iopub.status.idle": "2021-11-27T10:07:24.265542Z",
     "shell.execute_reply": "2021-11-27T10:07:24.265006Z"
    },
    "papermill": {
     "duration": 0.049838,
     "end_time": "2021-11-27T10:07:24.265682",
     "exception": false,
     "start_time": "2021-11-27T10:07:24.215844",
     "status": "completed"
    },
    "tags": []
   },
   "outputs": [],
   "source": [
    "import mnist"
   ]
  },
  {
   "cell_type": "code",
   "execution_count": 5,
   "id": "a411e44f",
   "metadata": {
    "execution": {
     "iopub.execute_input": "2021-11-27T10:07:24.327160Z",
     "iopub.status.busy": "2021-11-27T10:07:24.326568Z",
     "iopub.status.idle": "2021-11-27T10:07:24.886721Z",
     "shell.execute_reply": "2021-11-27T10:07:24.886170Z"
    },
    "papermill": {
     "duration": 0.59249,
     "end_time": "2021-11-27T10:07:24.886871",
     "exception": false,
     "start_time": "2021-11-27T10:07:24.294381",
     "status": "completed"
    },
    "tags": []
   },
   "outputs": [],
   "source": [
    "train_images = mnist.train_images()\n",
    "train_labels = mnist.train_labels()"
   ]
  },
  {
   "cell_type": "code",
   "execution_count": 6,
   "id": "dceab3a5",
   "metadata": {
    "execution": {
     "iopub.execute_input": "2021-11-27T10:07:24.948500Z",
     "iopub.status.busy": "2021-11-27T10:07:24.947901Z",
     "iopub.status.idle": "2021-11-27T10:07:24.964629Z",
     "shell.execute_reply": "2021-11-27T10:07:24.964122Z"
    },
    "papermill": {
     "duration": 0.049351,
     "end_time": "2021-11-27T10:07:24.964789",
     "exception": false,
     "start_time": "2021-11-27T10:07:24.915438",
     "status": "completed"
    },
    "tags": []
   },
   "outputs": [
    {
     "data": {
      "text/plain": [
       "((60000, 28, 28), (60000,))"
      ]
     },
     "execution_count": 6,
     "metadata": {},
     "output_type": "execute_result"
    }
   ],
   "source": [
    "train_images.shape, train_labels.shape"
   ]
  },
  {
   "cell_type": "code",
   "execution_count": 7,
   "id": "f50dc2bb",
   "metadata": {
    "execution": {
     "iopub.execute_input": "2021-11-27T10:07:25.027189Z",
     "iopub.status.busy": "2021-11-27T10:07:25.026597Z",
     "iopub.status.idle": "2021-11-27T10:07:25.159797Z",
     "shell.execute_reply": "2021-11-27T10:07:25.159170Z"
    },
    "papermill": {
     "duration": 0.166454,
     "end_time": "2021-11-27T10:07:25.159967",
     "exception": false,
     "start_time": "2021-11-27T10:07:24.993513",
     "status": "completed"
    },
    "tags": []
   },
   "outputs": [],
   "source": [
    "test_images = mnist.test_images()\n",
    "test_labels = mnist.test_labels()"
   ]
  },
  {
   "cell_type": "code",
   "execution_count": 8,
   "id": "fc38cf1b",
   "metadata": {
    "execution": {
     "iopub.execute_input": "2021-11-27T10:07:25.222998Z",
     "iopub.status.busy": "2021-11-27T10:07:25.222400Z",
     "iopub.status.idle": "2021-11-27T10:07:25.238676Z",
     "shell.execute_reply": "2021-11-27T10:07:25.238185Z"
    },
    "papermill": {
     "duration": 0.049414,
     "end_time": "2021-11-27T10:07:25.238814",
     "exception": false,
     "start_time": "2021-11-27T10:07:25.189400",
     "status": "completed"
    },
    "tags": []
   },
   "outputs": [
    {
     "data": {
      "text/plain": [
       "((10000, 28, 28), (10000,))"
      ]
     },
     "execution_count": 8,
     "metadata": {},
     "output_type": "execute_result"
    }
   ],
   "source": [
    "test_images.shape, test_labels.shape"
   ]
  },
  {
   "cell_type": "code",
   "execution_count": 9,
   "id": "f9ed8fe0",
   "metadata": {
    "execution": {
     "iopub.execute_input": "2021-11-27T10:07:25.301413Z",
     "iopub.status.busy": "2021-11-27T10:07:25.300797Z",
     "iopub.status.idle": "2021-11-27T10:07:25.465793Z",
     "shell.execute_reply": "2021-11-27T10:07:25.466278Z"
    },
    "papermill": {
     "duration": 0.198624,
     "end_time": "2021-11-27T10:07:25.466438",
     "exception": false,
     "start_time": "2021-11-27T10:07:25.267814",
     "status": "completed"
    },
    "tags": []
   },
   "outputs": [
    {
     "name": "stdout",
     "output_type": "stream",
     "text": [
      "2\n"
     ]
    },
    {
     "data": {
      "text/plain": [
       "<matplotlib.image.AxesImage at 0x7f2b90ce3518>"
      ]
     },
     "execution_count": 9,
     "metadata": {},
     "output_type": "execute_result"
    },
    {
     "data": {
      "image/png": "[encoded data removed]",
      "text/plain": [
       "<Figure size 432x288 with 1 Axes>"
      ]
     },
     "metadata": {
      "needs_background": "light"
     },
     "output_type": "display_data"
    }
   ],
   "source": [
    "image_index = 7776 # You may select anything up to 60,000\n",
    "print(train_labels[image_index]) \n",
    "plt.imshow(train_images[image_index], cmap='Greys')"
   ]
  },
  {
   "cell_type": "markdown",
   "id": "a8d2388d",
   "metadata": {
    "papermill": {
     "duration": 0.030505,
     "end_time": "2021-11-27T10:07:25.527477",
     "exception": false,
     "start_time": "2021-11-27T10:07:25.496972",
     "status": "completed"
    },
    "tags": []
   },
   "source": [
    "## Filter data to get 3 and 8 out"
   ]
  },
  {
   "cell_type": "code",
   "execution_count": 10,
   "id": "776f7fc7",
   "metadata": {
    "execution": {
     "iopub.execute_input": "2021-11-27T10:07:25.593540Z",
     "iopub.status.busy": "2021-11-27T10:07:25.592923Z",
     "iopub.status.idle": "2021-11-27T10:07:25.611649Z",
     "shell.execute_reply": "2021-11-27T10:07:25.611123Z"
    },
    "papermill": {
     "duration": 0.053883,
     "end_time": "2021-11-27T10:07:25.611801",
     "exception": false,
     "start_time": "2021-11-27T10:07:25.557918",
     "status": "completed"
    },
    "tags": []
   },
   "outputs": [],
   "source": [
    "train_filter = np.where((train_labels == 3 ) | (train_labels == 8))\n",
    "test_filter = np.where((test_labels == 3) | (test_labels == 8))\n",
    "X_train, y_train = train_images[train_filter], train_labels[train_filter]\n",
    "X_test, y_test = test_images[test_filter], test_labels[test_filter]"
   ]
  },
  {
   "cell_type": "markdown",
   "id": "948f0b7e",
   "metadata": {
    "papermill": {
     "duration": 0.031322,
     "end_time": "2021-11-27T10:07:25.674859",
     "exception": false,
     "start_time": "2021-11-27T10:07:25.643537",
     "status": "completed"
    },
    "tags": []
   },
   "source": [
    "We normalize the pizel values in the 0 to 1 range"
   ]
  },
  {
   "cell_type": "code",
   "execution_count": 11,
   "id": "ee4c2166",
   "metadata": {
    "execution": {
     "iopub.execute_input": "2021-11-27T10:07:25.746739Z",
     "iopub.status.busy": "2021-11-27T10:07:25.746143Z",
     "iopub.status.idle": "2021-11-27T10:07:25.801191Z",
     "shell.execute_reply": "2021-11-27T10:07:25.801806Z"
    },
    "papermill": {
     "duration": 0.096469,
     "end_time": "2021-11-27T10:07:25.801989",
     "exception": false,
     "start_time": "2021-11-27T10:07:25.705520",
     "status": "completed"
    },
    "tags": []
   },
   "outputs": [],
   "source": [
    "X_train = X_train/255.\n",
    "X_test = X_test/255."
   ]
  },
  {
   "cell_type": "markdown",
   "id": "ddcf4fab",
   "metadata": {
    "papermill": {
     "duration": 0.030424,
     "end_time": "2021-11-27T10:07:25.863493",
     "exception": false,
     "start_time": "2021-11-27T10:07:25.833069",
     "status": "completed"
    },
    "tags": []
   },
   "source": [
    "And setup the labels as 1 (when the digit is 3) and 0 (when the digit is 8)"
   ]
  },
  {
   "cell_type": "code",
   "execution_count": 12,
   "id": "7dc908f2",
   "metadata": {
    "execution": {
     "iopub.execute_input": "2021-11-27T10:07:25.928893Z",
     "iopub.status.busy": "2021-11-27T10:07:25.928255Z",
     "iopub.status.idle": "2021-11-27T10:07:25.943497Z",
     "shell.execute_reply": "2021-11-27T10:07:25.942990Z"
    },
    "papermill": {
     "duration": 0.049686,
     "end_time": "2021-11-27T10:07:25.943636",
     "exception": false,
     "start_time": "2021-11-27T10:07:25.893950",
     "status": "completed"
    },
    "tags": []
   },
   "outputs": [],
   "source": [
    "y_train = 1*(y_train==3)\n",
    "y_test = 1*(y_test==3)"
   ]
  },
  {
   "cell_type": "code",
   "execution_count": 13,
   "id": "01e4e969",
   "metadata": {
    "execution": {
     "iopub.execute_input": "2021-11-27T10:07:26.007963Z",
     "iopub.status.busy": "2021-11-27T10:07:26.007366Z",
     "iopub.status.idle": "2021-11-27T10:07:26.023086Z",
     "shell.execute_reply": "2021-11-27T10:07:26.022599Z"
    },
    "papermill": {
     "duration": 0.049102,
     "end_time": "2021-11-27T10:07:26.023225",
     "exception": false,
     "start_time": "2021-11-27T10:07:25.974123",
     "status": "completed"
    },
    "tags": []
   },
   "outputs": [
    {
     "data": {
      "text/plain": [
       "((11982, 28, 28), (1984, 28, 28))"
      ]
     },
     "execution_count": 13,
     "metadata": {},
     "output_type": "execute_result"
    }
   ],
   "source": [
    "X_train.shape, X_test.shape"
   ]
  },
  {
   "cell_type": "markdown",
   "id": "5ccf3f85",
   "metadata": {
    "papermill": {
     "duration": 0.030509,
     "end_time": "2021-11-27T10:07:26.084454",
     "exception": false,
     "start_time": "2021-11-27T10:07:26.053945",
     "status": "completed"
    },
    "tags": []
   },
   "source": [
    "We reshape the data to flatten the image pixels into a set of features or co-variates:"
   ]
  },
  {
   "cell_type": "code",
   "execution_count": 14,
   "id": "5286a4a3",
   "metadata": {
    "execution": {
     "iopub.execute_input": "2021-11-27T10:07:26.150015Z",
     "iopub.status.busy": "2021-11-27T10:07:26.149413Z",
     "iopub.status.idle": "2021-11-27T10:07:26.165329Z",
     "shell.execute_reply": "2021-11-27T10:07:26.165834Z"
    },
    "papermill": {
     "duration": 0.050908,
     "end_time": "2021-11-27T10:07:26.165991",
     "exception": false,
     "start_time": "2021-11-27T10:07:26.115083",
     "status": "completed"
    },
    "tags": []
   },
   "outputs": [
    {
     "data": {
      "text/plain": [
       "((11982, 784), (1984, 784))"
      ]
     },
     "execution_count": 14,
     "metadata": {},
     "output_type": "execute_result"
    }
   ],
   "source": [
    "X_train = X_train.reshape(X_train.shape[0], -1)\n",
    "X_test = X_test.reshape(X_test.shape[0], -1)\n",
    "X_train.shape, X_test.shape"
   ]
  },
  {
   "cell_type": "code",
   "execution_count": 15,
   "id": "73c5f88a",
   "metadata": {
    "execution": {
     "iopub.execute_input": "2021-11-27T10:07:26.232968Z",
     "iopub.status.busy": "2021-11-27T10:07:26.232334Z",
     "iopub.status.idle": "2021-11-27T10:07:26.254528Z",
     "shell.execute_reply": "2021-11-27T10:07:26.255007Z"
    },
    "papermill": {
     "duration": 0.058335,
     "end_time": "2021-11-27T10:07:26.255178",
     "exception": false,
     "start_time": "2021-11-27T10:07:26.196843",
     "status": "completed"
    },
    "tags": []
   },
   "outputs": [],
   "source": [
    "#Impoting functions from 'Kudzu'\n",
    "from kudzu.model import Model\n",
    "from kudzu.train import Learner\n",
    "from kudzu.optim import GD\n",
    "from kudzu.data import Data, Sampler,Dataloader\n",
    "\n",
    "from kudzu.callbacks import AccCallback\n",
    "from kudzu.callbacks import ClfCallback\n",
    "\n",
    "from kudzu.loss import MSE\n",
    "\n",
    "from kudzu.layer import Sigmoid,Relu\n",
    "from kudzu.layer import Affine"
   ]
  },
  {
   "cell_type": "markdown",
   "id": "bc01172a",
   "metadata": {
    "papermill": {
     "duration": 0.031004,
     "end_time": "2021-11-27T10:07:26.317197",
     "exception": false,
     "start_time": "2021-11-27T10:07:26.286193",
     "status": "completed"
    },
    "tags": []
   },
   "source": [
    "### Let us create a `Config` class, to store important parameters. \n",
    "This class essentially plays the role of a dictionary."
   ]
  },
  {
   "cell_type": "code",
   "execution_count": 16,
   "id": "978281aa",
   "metadata": {
    "execution": {
     "iopub.execute_input": "2021-11-27T10:07:26.383532Z",
     "iopub.status.busy": "2021-11-27T10:07:26.382926Z",
     "iopub.status.idle": "2021-11-27T10:07:26.396359Z",
     "shell.execute_reply": "2021-11-27T10:07:26.396867Z"
    },
    "papermill": {
     "duration": 0.049064,
     "end_time": "2021-11-27T10:07:26.397031",
     "exception": false,
     "start_time": "2021-11-27T10:07:26.347967",
     "status": "completed"
    },
    "tags": []
   },
   "outputs": [],
   "source": [
    "class Config:\n",
    "    pass\n",
    "config = Config()\n",
    "config.lr = 0.001\n",
    "config.num_epochs = 250\n",
    "config.bs = 50"
   ]
  },
  {
   "cell_type": "markdown",
   "id": "1385fa59",
   "metadata": {
    "papermill": {
     "duration": 0.030823,
     "end_time": "2021-11-27T10:07:26.458784",
     "exception": false,
     "start_time": "2021-11-27T10:07:26.427961",
     "status": "completed"
    },
    "tags": []
   },
   "source": [
    "### Running Models with the Training data\n",
    "Details about the network layers:\n",
    "- A first affine layer has 784 inputs and does 100 affine transforms. These are followed by a Relu\n",
    "- A second affine layer has 100 inputs from the 100 activations of the past layer, and does 100 affine transforms. These are followed by a Relu\n",
    "- A third affine layer has 100 activations and does 2 affine transformations to create an embedding for visualization. There is no non-linearity here.\n",
    "- A final \"logistic regression\" which has an affine transform from 2 inputs to 1 output, which is squeezed through a sigmoid.\n"
   ]
  },
  {
   "cell_type": "code",
   "execution_count": 17,
   "id": "2b9c66db",
   "metadata": {
    "execution": {
     "iopub.execute_input": "2021-11-27T10:07:26.525264Z",
     "iopub.status.busy": "2021-11-27T10:07:26.524616Z",
     "iopub.status.idle": "2021-11-27T10:07:26.539427Z",
     "shell.execute_reply": "2021-11-27T10:07:26.538917Z"
    },
    "papermill": {
     "duration": 0.049715,
     "end_time": "2021-11-27T10:07:26.539576",
     "exception": false,
     "start_time": "2021-11-27T10:07:26.489861",
     "status": "completed"
    },
    "tags": []
   },
   "outputs": [],
   "source": [
    "data = Data(X_train, y_train.reshape(-1,1))\n",
    "sampler = Sampler(data, config.bs, shuffle=True)\n",
    "\n",
    "dl = Dataloader(data, sampler)\n",
    "\n",
    "opt = GD(config.lr)\n",
    "loss = MSE()"
   ]
  },
  {
   "cell_type": "code",
   "execution_count": 18,
   "id": "b275e4c2",
   "metadata": {
    "execution": {
     "iopub.execute_input": "2021-11-27T10:07:26.605767Z",
     "iopub.status.busy": "2021-11-27T10:07:26.605148Z",
     "iopub.status.idle": "2021-11-27T10:07:26.619137Z",
     "shell.execute_reply": "2021-11-27T10:07:26.618645Z"
    },
    "papermill": {
     "duration": 0.048705,
     "end_time": "2021-11-27T10:07:26.619276",
     "exception": false,
     "start_time": "2021-11-27T10:07:26.570571",
     "status": "completed"
    },
    "tags": []
   },
   "outputs": [],
   "source": [
    "training_data_x = X_train\n",
    "testing_data_x = X_test\n",
    "training_data_y = y_train.reshape(-1,1)\n",
    "testing_data_y = y_test.reshape(-1,1)"
   ]
  },
  {
   "cell_type": "code",
   "execution_count": 19,
   "id": "76951160",
   "metadata": {
    "execution": {
     "iopub.execute_input": "2021-11-27T10:07:26.687068Z",
     "iopub.status.busy": "2021-11-27T10:07:26.686454Z",
     "iopub.status.idle": "2021-11-27T10:07:26.705220Z",
     "shell.execute_reply": "2021-11-27T10:07:26.704718Z"
    },
    "papermill": {
     "duration": 0.055299,
     "end_time": "2021-11-27T10:07:26.705364",
     "exception": false,
     "start_time": "2021-11-27T10:07:26.650065",
     "status": "completed"
    },
    "tags": []
   },
   "outputs": [
    {
     "name": "stdout",
     "output_type": "stream",
     "text": [
      "xavier\n",
      "xavier\n",
      "xavier\n",
      "xavier\n",
      "xavier\n"
     ]
    }
   ],
   "source": [
    "layers = [Affine(\"first\", 784, 100), Relu(\"first\"), Affine(\"second\", 100, 100), Relu(\"second\"), Affine(\"third\", 100, 2), Affine(\"last\", 2, 1), Sigmoid(\"last\")]\n",
    "model_nn = Model(layers)\n",
    "model_lr = Model([Affine(\"logits\", 784, 1), Sigmoid(\"sigmoid\")])"
   ]
  },
  {
   "cell_type": "code",
   "execution_count": 20,
   "id": "6eede77a",
   "metadata": {
    "execution": {
     "iopub.execute_input": "2021-11-27T10:07:26.772203Z",
     "iopub.status.busy": "2021-11-27T10:07:26.771574Z",
     "iopub.status.idle": "2021-11-27T10:07:26.784979Z",
     "shell.execute_reply": "2021-11-27T10:07:26.785499Z"
    },
    "papermill": {
     "duration": 0.048961,
     "end_time": "2021-11-27T10:07:26.785661",
     "exception": false,
     "start_time": "2021-11-27T10:07:26.736700",
     "status": "completed"
    },
    "tags": []
   },
   "outputs": [],
   "source": [
    "nn_learner = Learner(loss, model_nn, opt, config.num_epochs)\n",
    "acc_nn = ClfCallback(nn_learner, config.bs, training_data_x , testing_data_x, training_data_y, testing_data_y)\n",
    "nn_learner.set_callbacks([acc_nn])"
   ]
  },
  {
   "cell_type": "code",
   "execution_count": 21,
   "id": "877b6cc7",
   "metadata": {
    "execution": {
     "iopub.execute_input": "2021-11-27T10:07:26.852311Z",
     "iopub.status.busy": "2021-11-27T10:07:26.851713Z",
     "iopub.status.idle": "2021-11-27T10:07:26.866739Z",
     "shell.execute_reply": "2021-11-27T10:07:26.866205Z"
    },
    "papermill": {
     "duration": 0.050035,
     "end_time": "2021-11-27T10:07:26.866875",
     "exception": false,
     "start_time": "2021-11-27T10:07:26.816840",
     "status": "completed"
    },
    "tags": []
   },
   "outputs": [],
   "source": [
    "lr_learner = Learner(loss, model_lr, opt, config.num_epochs)\n",
    "acc_lr = ClfCallback(lr_learner, config.bs, training_data_x , testing_data_x, training_data_y, testing_data_y)\n",
    "lr_learner.set_callbacks([acc_lr])"
   ]
  },
  {
   "cell_type": "code",
   "execution_count": 22,
   "id": "d9b133c3",
   "metadata": {
    "execution": {
     "iopub.execute_input": "2021-11-27T10:07:26.933271Z",
     "iopub.status.busy": "2021-11-27T10:07:26.932627Z",
     "iopub.status.idle": "2021-11-27T10:08:56.573130Z",
     "shell.execute_reply": "2021-11-27T10:08:56.573999Z"
    },
    "papermill": {
     "duration": 89.676078,
     "end_time": "2021-11-27T10:08:56.574175",
     "exception": false,
     "start_time": "2021-11-27T10:07:26.898097",
     "status": "completed"
    },
    "tags": []
   },
   "outputs": [
    {
     "name": "stdout",
     "output_type": "stream",
     "text": [
      "Epoch 0, Loss 0.2432\n",
      "Training Accuracy: 0.6585, Testing Accuracy: 0.6532\n",
      "\n"
     ]
    },
    {
     "name": "stdout",
     "output_type": "stream",
     "text": [
      "Epoch 10, Loss 0.1074\n",
      "Training Accuracy: 0.8982, Testing Accuracy: 0.9078\n",
      "\n"
     ]
    },
    {
     "name": "stdout",
     "output_type": "stream",
     "text": [
      "Epoch 20, Loss 0.0636\n",
      "Training Accuracy: 0.9357, Testing Accuracy: 0.9466\n",
      "\n"
     ]
    },
    {
     "name": "stdout",
     "output_type": "stream",
     "text": [
      "Epoch 30, Loss 0.0472\n",
      "Training Accuracy: 0.9502, Testing Accuracy: 0.9577\n",
      "\n"
     ]
    },
    {
     "name": "stdout",
     "output_type": "stream",
     "text": [
      "Epoch 40, Loss 0.0395\n",
      "Training Accuracy: 0.9576, Testing Accuracy: 0.9622\n",
      "\n"
     ]
    },
    {
     "name": "stdout",
     "output_type": "stream",
     "text": [
      "Epoch 50, Loss 0.0352\n",
      "Training Accuracy: 0.9611, Testing Accuracy: 0.9672\n",
      "\n"
     ]
    },
    {
     "name": "stdout",
     "output_type": "stream",
     "text": [
      "Epoch 60, Loss 0.0325\n",
      "Training Accuracy: 0.9632, Testing Accuracy: 0.9677\n",
      "\n"
     ]
    },
    {
     "name": "stdout",
     "output_type": "stream",
     "text": [
      "Epoch 70, Loss 0.0305\n",
      "Training Accuracy: 0.9643, Testing Accuracy: 0.9672\n",
      "\n"
     ]
    },
    {
     "name": "stdout",
     "output_type": "stream",
     "text": [
      "Epoch 80, Loss 0.029\n",
      "Training Accuracy: 0.9670, Testing Accuracy: 0.9698\n",
      "\n"
     ]
    },
    {
     "name": "stdout",
     "output_type": "stream",
     "text": [
      "Epoch 90, Loss 0.0278\n",
      "Training Accuracy: 0.9684, Testing Accuracy: 0.9703\n",
      "\n"
     ]
    },
    {
     "name": "stdout",
     "output_type": "stream",
     "text": [
      "Epoch 100, Loss 0.0268\n",
      "Training Accuracy: 0.9692, Testing Accuracy: 0.9698\n",
      "\n"
     ]
    },
    {
     "name": "stdout",
     "output_type": "stream",
     "text": [
      "Epoch 110, Loss 0.0259\n",
      "Training Accuracy: 0.9700, Testing Accuracy: 0.9698\n",
      "\n"
     ]
    },
    {
     "name": "stdout",
     "output_type": "stream",
     "text": [
      "Epoch 120, Loss 0.0252\n",
      "Training Accuracy: 0.9715, Testing Accuracy: 0.9703\n",
      "\n"
     ]
    },
    {
     "name": "stdout",
     "output_type": "stream",
     "text": [
      "Epoch 130, Loss 0.0245\n",
      "Training Accuracy: 0.9720, Testing Accuracy: 0.9693\n",
      "\n"
     ]
    },
    {
     "name": "stdout",
     "output_type": "stream",
     "text": [
      "Epoch 140, Loss 0.0239\n",
      "Training Accuracy: 0.9726, Testing Accuracy: 0.9688\n",
      "\n"
     ]
    },
    {
     "name": "stdout",
     "output_type": "stream",
     "text": [
      "Epoch 150, Loss 0.0233\n",
      "Training Accuracy: 0.9733, Testing Accuracy: 0.9693\n",
      "\n"
     ]
    },
    {
     "name": "stdout",
     "output_type": "stream",
     "text": [
      "Epoch 160, Loss 0.0228\n",
      "Training Accuracy: 0.9741, Testing Accuracy: 0.9713\n",
      "\n"
     ]
    },
    {
     "name": "stdout",
     "output_type": "stream",
     "text": [
      "Epoch 170, Loss 0.0223\n",
      "Training Accuracy: 0.9742, Testing Accuracy: 0.9718\n",
      "\n"
     ]
    },
    {
     "name": "stdout",
     "output_type": "stream",
     "text": [
      "Epoch 180, Loss 0.0219\n",
      "Training Accuracy: 0.9750, Testing Accuracy: 0.9713\n",
      "\n"
     ]
    },
    {
     "name": "stdout",
     "output_type": "stream",
     "text": [
      "Epoch 190, Loss 0.0214\n",
      "Training Accuracy: 0.9756, Testing Accuracy: 0.9703\n",
      "\n"
     ]
    },
    {
     "name": "stdout",
     "output_type": "stream",
     "text": [
      "Epoch 200, Loss 0.021\n",
      "Training Accuracy: 0.9760, Testing Accuracy: 0.9708\n",
      "\n"
     ]
    },
    {
     "name": "stdout",
     "output_type": "stream",
     "text": [
      "Epoch 210, Loss 0.0206\n",
      "Training Accuracy: 0.9764, Testing Accuracy: 0.9713\n",
      "\n"
     ]
    },
    {
     "name": "stdout",
     "output_type": "stream",
     "text": [
      "Epoch 220, Loss 0.0203\n",
      "Training Accuracy: 0.9767, Testing Accuracy: 0.9713\n",
      "\n"
     ]
    },
    {
     "name": "stdout",
     "output_type": "stream",
     "text": [
      "Epoch 230, Loss 0.0199\n",
      "Training Accuracy: 0.9775, Testing Accuracy: 0.9713\n",
      "\n"
     ]
    },
    {
     "name": "stdout",
     "output_type": "stream",
     "text": [
      "Epoch 240, Loss 0.0196\n",
      "Training Accuracy: 0.9779, Testing Accuracy: 0.9713\n",
      "\n"
     ]
    },
    {
     "data": {
      "text/plain": [
       "0.001603291652002598"
      ]
     },
     "execution_count": 22,
     "metadata": {},
     "output_type": "execute_result"
    }
   ],
   "source": [
    "nn_learner.train_loop(dl)"
   ]
  },
  {
   "cell_type": "code",
   "execution_count": 23,
   "id": "e0163366",
   "metadata": {
    "execution": {
     "iopub.execute_input": "2021-11-27T10:08:56.666315Z",
     "iopub.status.busy": "2021-11-27T10:08:56.665708Z",
     "iopub.status.idle": "2021-11-27T10:09:12.465448Z",
     "shell.execute_reply": "2021-11-27T10:09:12.466283Z"
    },
    "papermill": {
     "duration": 15.852782,
     "end_time": "2021-11-27T10:09:12.466451",
     "exception": false,
     "start_time": "2021-11-27T10:08:56.613669",
     "status": "completed"
    },
    "tags": []
   },
   "outputs": [
    {
     "name": "stdout",
     "output_type": "stream",
     "text": [
      "Epoch 0, Loss 0.2411\n",
      "Training Accuracy: 0.7031, Testing Accuracy: 0.7061\n",
      "\n"
     ]
    },
    {
     "name": "stdout",
     "output_type": "stream",
     "text": [
      "Epoch 10, Loss 0.1017\n",
      "Training Accuracy: 0.9096, Testing Accuracy: 0.9214\n",
      "\n"
     ]
    },
    {
     "name": "stdout",
     "output_type": "stream",
     "text": [
      "Epoch 20, Loss 0.0785\n",
      "Training Accuracy: 0.9264, Testing Accuracy: 0.9400\n",
      "\n"
     ]
    },
    {
     "name": "stdout",
     "output_type": "stream",
     "text": [
      "Epoch 30, Loss 0.0679\n",
      "Training Accuracy: 0.9357, Testing Accuracy: 0.9481\n",
      "\n"
     ]
    },
    {
     "name": "stdout",
     "output_type": "stream",
     "text": [
      "Epoch 40, Loss 0.0616\n",
      "Training Accuracy: 0.9405, Testing Accuracy: 0.9506\n",
      "\n"
     ]
    },
    {
     "name": "stdout",
     "output_type": "stream",
     "text": [
      "Epoch 50, Loss 0.0572\n",
      "Training Accuracy: 0.9436, Testing Accuracy: 0.9551\n",
      "\n"
     ]
    },
    {
     "name": "stdout",
     "output_type": "stream",
     "text": [
      "Epoch 60, Loss 0.0539\n",
      "Training Accuracy: 0.9463, Testing Accuracy: 0.9567\n",
      "\n"
     ]
    },
    {
     "name": "stdout",
     "output_type": "stream",
     "text": [
      "Epoch 70, Loss 0.0514\n",
      "Training Accuracy: 0.9484, Testing Accuracy: 0.9572\n",
      "\n"
     ]
    },
    {
     "name": "stdout",
     "output_type": "stream",
     "text": [
      "Epoch 80, Loss 0.0494\n",
      "Training Accuracy: 0.9498, Testing Accuracy: 0.9582\n",
      "\n"
     ]
    },
    {
     "name": "stdout",
     "output_type": "stream",
     "text": [
      "Epoch 90, Loss 0.0477\n",
      "Training Accuracy: 0.9512, Testing Accuracy: 0.9602\n",
      "\n"
     ]
    },
    {
     "name": "stdout",
     "output_type": "stream",
     "text": [
      "Epoch 100, Loss 0.0463\n",
      "Training Accuracy: 0.9523, Testing Accuracy: 0.9617\n",
      "\n"
     ]
    },
    {
     "name": "stdout",
     "output_type": "stream",
     "text": [
      "Epoch 110, Loss 0.045\n",
      "Training Accuracy: 0.9532, Testing Accuracy: 0.9627\n",
      "\n"
     ]
    },
    {
     "name": "stdout",
     "output_type": "stream",
     "text": [
      "Epoch 120, Loss 0.044\n",
      "Training Accuracy: 0.9544, Testing Accuracy: 0.9632\n",
      "\n"
     ]
    },
    {
     "name": "stdout",
     "output_type": "stream",
     "text": [
      "Epoch 130, Loss 0.043\n",
      "Training Accuracy: 0.9553, Testing Accuracy: 0.9642\n",
      "\n"
     ]
    },
    {
     "name": "stdout",
     "output_type": "stream",
     "text": [
      "Epoch 140, Loss 0.0422\n",
      "Training Accuracy: 0.9559, Testing Accuracy: 0.9647\n",
      "\n"
     ]
    },
    {
     "name": "stdout",
     "output_type": "stream",
     "text": [
      "Epoch 150, Loss 0.0414\n",
      "Training Accuracy: 0.9567, Testing Accuracy: 0.9647\n",
      "\n"
     ]
    },
    {
     "name": "stdout",
     "output_type": "stream",
     "text": [
      "Epoch 160, Loss 0.0408\n",
      "Training Accuracy: 0.9574, Testing Accuracy: 0.9657\n",
      "\n"
     ]
    },
    {
     "name": "stdout",
     "output_type": "stream",
     "text": [
      "Epoch 170, Loss 0.0401\n",
      "Training Accuracy: 0.9582, Testing Accuracy: 0.9662\n",
      "\n"
     ]
    },
    {
     "name": "stdout",
     "output_type": "stream",
     "text": [
      "Epoch 180, Loss 0.0396\n",
      "Training Accuracy: 0.9583, Testing Accuracy: 0.9667\n",
      "\n"
     ]
    },
    {
     "name": "stdout",
     "output_type": "stream",
     "text": [
      "Epoch 190, Loss 0.039\n",
      "Training Accuracy: 0.9586, Testing Accuracy: 0.9677\n",
      "\n"
     ]
    },
    {
     "name": "stdout",
     "output_type": "stream",
     "text": [
      "Epoch 200, Loss 0.0386\n",
      "Training Accuracy: 0.9588, Testing Accuracy: 0.9677\n",
      "\n"
     ]
    },
    {
     "name": "stdout",
     "output_type": "stream",
     "text": [
      "Epoch 210, Loss 0.0381\n",
      "Training Accuracy: 0.9592, Testing Accuracy: 0.9672\n",
      "\n"
     ]
    },
    {
     "name": "stdout",
     "output_type": "stream",
     "text": [
      "Epoch 220, Loss 0.0377\n",
      "Training Accuracy: 0.9597, Testing Accuracy: 0.9672\n",
      "\n"
     ]
    },
    {
     "name": "stdout",
     "output_type": "stream",
     "text": [
      "Epoch 230, Loss 0.0373\n",
      "Training Accuracy: 0.9601, Testing Accuracy: 0.9672\n",
      "\n"
     ]
    },
    {
     "name": "stdout",
     "output_type": "stream",
     "text": [
      "Epoch 240, Loss 0.0369\n",
      "Training Accuracy: 0.9604, Testing Accuracy: 0.9672\n",
      "\n"
     ]
    },
    {
     "data": {
      "text/plain": [
       "0.051288930463434385"
      ]
     },
     "execution_count": 23,
     "metadata": {},
     "output_type": "execute_result"
    }
   ],
   "source": [
    "lr_learner.train_loop(dl)"
   ]
  },
  {
   "cell_type": "code",
   "execution_count": 24,
   "id": "ca410940",
   "metadata": {
    "execution": {
     "iopub.execute_input": "2021-11-27T10:09:12.574264Z",
     "iopub.status.busy": "2021-11-27T10:09:12.573654Z",
     "iopub.status.idle": "2021-11-27T10:09:12.835551Z",
     "shell.execute_reply": "2021-11-27T10:09:12.835027Z"
    },
    "papermill": {
     "duration": 0.321929,
     "end_time": "2021-11-27T10:09:12.835685",
     "exception": false,
     "start_time": "2021-11-27T10:09:12.513756",
     "status": "completed"
    },
    "tags": []
   },
   "outputs": [
    {
     "data": {
      "text/plain": [
       "<matplotlib.legend.Legend at 0x7f2b83532be0>"
      ]
     },
     "execution_count": 24,
     "metadata": {},
     "output_type": "execute_result"
    },
    {
     "data": {
      "image/png": "[encoded data removed]",
      "text/plain": [
       "<Figure size 1080x720 with 1 Axes>"
      ]
     },
     "metadata": {
      "needs_background": "light"
     },
     "output_type": "display_data"
    }
   ],
   "source": [
    "#comparing the results of NN and LR\n",
    "plt.figure(figsize=(15,10))\n",
    "\n",
    "# Neural Network plots\n",
    "plt.plot(acc_nn.accuracies, 'r-', label = \"Training Accuracies - NN\")\n",
    "plt.plot(acc_nn.test_accuracies, 'g-', label = \"Testing Accuracies - NN\")\n",
    "\n",
    "# Logistic Regression plots\n",
    "plt.plot(acc_lr.accuracies, 'k-', label = \"Training Accuracies - LR\")\n",
    "plt.plot(acc_lr.test_accuracies, 'b-', label = \"Testing Accuracies - LR\")\n",
    "plt.legend()"
   ]
  },
  {
   "cell_type": "markdown",
   "id": "80dfb35c",
   "metadata": {
    "papermill": {
     "duration": 0.049451,
     "end_time": "2021-11-27T10:09:12.934864",
     "exception": false,
     "start_time": "2021-11-27T10:09:12.885413",
     "status": "completed"
    },
    "tags": []
   },
   "source": [
    "#### Plotting the outputs of this layer of the NN.\n"
   ]
  },
  {
   "cell_type": "code",
   "execution_count": 25,
   "id": "45eb2ff5",
   "metadata": {
    "execution": {
     "iopub.execute_input": "2021-11-27T10:09:13.038358Z",
     "iopub.status.busy": "2021-11-27T10:09:13.037776Z",
     "iopub.status.idle": "2021-11-27T10:09:13.058607Z",
     "shell.execute_reply": "2021-11-27T10:09:13.059480Z"
    },
    "papermill": {
     "duration": 0.075942,
     "end_time": "2021-11-27T10:09:13.059659",
     "exception": false,
     "start_time": "2021-11-27T10:09:12.983717",
     "status": "completed"
    },
    "tags": []
   },
   "outputs": [],
   "source": [
    "new_model = Model(layers[:-2])\n",
    "testing_plot = new_model(testing_data_x)"
   ]
  },
  {
   "cell_type": "code",
   "execution_count": 26,
   "id": "4c0a5485",
   "metadata": {
    "execution": {
     "iopub.execute_input": "2021-11-27T10:09:13.161213Z",
     "iopub.status.busy": "2021-11-27T10:09:13.160568Z",
     "iopub.status.idle": "2021-11-27T10:09:13.400612Z",
     "shell.execute_reply": "2021-11-27T10:09:13.401134Z"
    },
    "papermill": {
     "duration": 0.293056,
     "end_time": "2021-11-27T10:09:13.401296",
     "exception": false,
     "start_time": "2021-11-27T10:09:13.108240",
     "status": "completed"
    },
    "tags": []
   },
   "outputs": [
    {
     "data": {
      "text/plain": [
       "Text(0.5, 1.0, 'Outputs')"
      ]
     },
     "execution_count": 26,
     "metadata": {},
     "output_type": "execute_result"
    },
    {
     "data": {
      "image/png": "[encoded data removed]",
      "text/plain": [
       "<Figure size 576x504 with 1 Axes>"
      ]
     },
     "metadata": {
      "needs_background": "light"
     },
     "output_type": "display_data"
    }
   ],
   "source": [
    "# Plotting the scatter plot of points and color coding by class\n",
    "plt.figure(figsize=(8,7))\n",
    "plt.scatter(testing_plot[:,0], testing_plot[:,1], alpha = 0.1, c = y_test.ravel());\n",
    "plt.title('Outputs')"
   ]
  },
  {
   "cell_type": "markdown",
   "id": "a74fcf8f",
   "metadata": {
    "papermill": {
     "duration": 0.050805,
     "end_time": "2021-11-27T10:09:13.502821",
     "exception": false,
     "start_time": "2021-11-27T10:09:13.452016",
     "status": "completed"
    },
    "tags": []
   },
   "source": [
    "Probability contours"
   ]
  },
  {
   "cell_type": "code",
   "execution_count": 27,
   "id": "d0afc8e3",
   "metadata": {
    "execution": {
     "iopub.execute_input": "2021-11-27T10:09:13.613383Z",
     "iopub.status.busy": "2021-11-27T10:09:13.612773Z",
     "iopub.status.idle": "2021-11-27T10:09:13.622643Z",
     "shell.execute_reply": "2021-11-27T10:09:13.623090Z"
    },
    "papermill": {
     "duration": 0.069951,
     "end_time": "2021-11-27T10:09:13.623250",
     "exception": false,
     "start_time": "2021-11-27T10:09:13.553299",
     "status": "completed"
    },
    "tags": []
   },
   "outputs": [],
   "source": [
    "model_prob = Model(layers[-2:]) "
   ]
  },
  {
   "cell_type": "code",
   "execution_count": 28,
   "id": "9b96e238",
   "metadata": {
    "execution": {
     "iopub.execute_input": "2021-11-27T10:09:13.762256Z",
     "iopub.status.busy": "2021-11-27T10:09:13.761637Z",
     "iopub.status.idle": "2021-11-27T10:09:13.776493Z",
     "shell.execute_reply": "2021-11-27T10:09:13.776972Z"
    },
    "papermill": {
     "duration": 0.073966,
     "end_time": "2021-11-27T10:09:13.777133",
     "exception": false,
     "start_time": "2021-11-27T10:09:13.703167",
     "status": "completed"
    },
    "tags": []
   },
   "outputs": [],
   "source": [
    "#creating the x and y ranges according to the above generated plot.\n",
    "x_range = np.linspace(-4, 1, 100) \n",
    "y_range = np.linspace(-6, 6, 100) \n",
    "x_grid, y_grid = np.meshgrid(x_range, y_range) # x_grid and y_grig are of size 100 X 100\n",
    "\n",
    "# converting x_grid and y_grid to continuous arrays\n",
    "x_gridflat = np.ravel(x_grid)\n",
    "y_gridflat = np.ravel(y_grid)\n",
    "\n",
    "# The last layer of the current model takes two columns as input. Hence transpose of np.vstack() is required.\n",
    "X = np.vstack((x_gridflat, y_gridflat)).T\n",
    "\n",
    "prob_contour = model_prob(X).reshape(100,100) "
   ]
  },
  {
   "cell_type": "code",
   "execution_count": 29,
   "id": "da72499a",
   "metadata": {
    "execution": {
     "iopub.execute_input": "2021-11-27T10:09:13.885181Z",
     "iopub.status.busy": "2021-11-27T10:09:13.884540Z",
     "iopub.status.idle": "2021-11-27T10:09:14.180796Z",
     "shell.execute_reply": "2021-11-27T10:09:14.179816Z"
    },
    "papermill": {
     "duration": 0.353238,
     "end_time": "2021-11-27T10:09:14.180953",
     "exception": false,
     "start_time": "2021-11-27T10:09:13.827715",
     "status": "completed"
    },
    "tags": []
   },
   "outputs": [
    {
     "data": {
      "image/png": "[encoded data removed]",
      "text/plain": [
       "<Figure size 720x648 with 1 Axes>"
      ]
     },
     "metadata": {
      "needs_background": "light"
     },
     "output_type": "display_data"
    }
   ],
   "source": [
    "plt.figure(figsize=(10,9))\n",
    "plt.scatter(testing_plot[:,0], testing_plot[:,1], alpha = 0.1, c = y_test.ravel())\n",
    "contours = plt.contour(x_grid,y_grid,prob_contour)\n",
    "plt.title('Probability Contours')\n",
    "plt.clabel(contours, inline = True );"
   ]
  },
  {
   "cell_type": "code",
   "execution_count": null,
   "id": "e81b4ac7",
   "metadata": {
    "papermill": {
     "duration": 0.053968,
     "end_time": "2021-11-27T10:09:14.288979",
     "exception": false,
     "start_time": "2021-11-27T10:09:14.235011",
     "status": "completed"
    },
    "tags": []
   },
   "outputs": [],
   "source": []
  }
 ],
 "metadata": {
  "kernelspec": {
   "display_name": "Python 3",
   "language": "python",
   "name": "python3"
  },
  "language_info": {
   "codemirror_mode": {
    "name": "ipython",
    "version": 3
   },
   "file_extension": ".py",
   "mimetype": "text/x-python",
   "name": "python",
   "nbconvert_exporter": "python",
   "pygments_lexer": "ipython3",
   "version": "3.6.15"
  },
  "papermill": {
   "default_parameters": {},
   "duration": 114.917942,
   "end_time": "2021-11-27T10:09:14.751702",
   "environment_variables": {},
   "exception": null,
   "input_path": "2020-08-11-part2.ipynb",
   "output_path": "2020-08-11-part2.ipynb",
   "parameters": {},
   "start_time": "2021-11-27T10:07:19.833760",
   "version": "2.3.3"
  }
 },
 "nbformat": 4,
 "nbformat_minor": 5
}