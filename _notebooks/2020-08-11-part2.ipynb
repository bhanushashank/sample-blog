{
 "cells": [
  {
   "cell_type": "markdown",
   "id": "98380cd3",
   "metadata": {
    "papermill": {
     "duration": 0.032614,
     "end_time": "2022-03-20T00:31:11.763356",
     "exception": false,
     "start_time": "2022-03-20T00:31:11.730742",
     "status": "completed"
    },
    "tags": []
   },
   "source": [
    "# Distinguish Your Own Digits (DYOD)"
   ]
  },
  {
   "cell_type": "markdown",
   "id": "ef31240d",
   "metadata": {
    "papermill": {
     "duration": 0.031098,
     "end_time": "2022-03-20T00:31:11.823393",
     "exception": false,
     "start_time": "2022-03-20T00:31:11.792295",
     "status": "completed"
    },
    "tags": []
   },
   "source": [
    "You are going to write a classifier that distinguishes between the number 3 and number 8."
   ]
  },
  {
   "cell_type": "code",
   "execution_count": 1,
   "id": "b15c8646",
   "metadata": {
    "execution": {
     "iopub.execute_input": "2022-03-20T00:31:11.891725Z",
     "iopub.status.busy": "2022-03-20T00:31:11.891094Z",
     "iopub.status.idle": "2022-03-20T00:31:11.902802Z",
     "shell.execute_reply": "2022-03-20T00:31:11.902287Z"
    },
    "papermill": {
     "duration": 0.052846,
     "end_time": "2022-03-20T00:31:11.902939",
     "exception": false,
     "start_time": "2022-03-20T00:31:11.850093",
     "status": "completed"
    },
    "tags": []
   },
   "outputs": [],
   "source": [
    "%load_ext autoreload\n",
    "%autoreload 2"
   ]
  },
  {
   "cell_type": "code",
   "execution_count": 2,
   "id": "22ef38dc",
   "metadata": {
    "execution": {
     "iopub.execute_input": "2022-03-20T00:31:11.967004Z",
     "iopub.status.busy": "2022-03-20T00:31:11.966304Z",
     "iopub.status.idle": "2022-03-20T00:31:12.637795Z",
     "shell.execute_reply": "2022-03-20T00:31:12.637219Z"
    },
    "papermill": {
     "duration": 0.704618,
     "end_time": "2022-03-20T00:31:12.637940",
     "exception": false,
     "start_time": "2022-03-20T00:31:11.933322",
     "status": "completed"
    },
    "tags": []
   },
   "outputs": [],
   "source": [
    "%matplotlib inline\n",
    "import numpy as np\n",
    "import matplotlib.pyplot as plt\n",
    "import pandas as pd"
   ]
  },
  {
   "cell_type": "markdown",
   "id": "ba036198",
   "metadata": {
    "papermill": {
     "duration": 0.02707,
     "end_time": "2022-03-20T00:31:12.692332",
     "exception": false,
     "start_time": "2022-03-20T00:31:12.665262",
     "status": "completed"
    },
    "tags": []
   },
   "source": [
    "From the command line run `pip install mnist`. This is a library that will help you bring down the mnist dataset. If you run this from a notebook, you need to put  `!pip install mnist` in a cell by itself."
   ]
  },
  {
   "cell_type": "code",
   "execution_count": 3,
   "id": "bb6ad8a1",
   "metadata": {
    "execution": {
     "iopub.execute_input": "2022-03-20T00:31:12.751357Z",
     "iopub.status.busy": "2022-03-20T00:31:12.750721Z",
     "iopub.status.idle": "2022-03-20T00:31:14.661577Z",
     "shell.execute_reply": "2022-03-20T00:31:14.660044Z"
    },
    "papermill": {
     "duration": 1.943035,
     "end_time": "2022-03-20T00:31:14.661753",
     "exception": false,
     "start_time": "2022-03-20T00:31:12.718718",
     "status": "completed"
    },
    "tags": []
   },
   "outputs": [
    {
     "name": "stdout",
     "output_type": "stream",
     "text": [
      "Collecting mnist\r\n"
     ]
    },
    {
     "name": "stdout",
     "output_type": "stream",
     "text": [
      "  Downloading mnist-0.2.2-py2.py3-none-any.whl (3.5 kB)\r\n",
      "Requirement already satisfied: numpy in /opt/hostedtoolcache/Python/3.6.15/x64/lib/python3.6/site-packages (from mnist) (1.19.5)\r\n"
     ]
    },
    {
     "name": "stdout",
     "output_type": "stream",
     "text": [
      "Installing collected packages: mnist\r\n"
     ]
    },
    {
     "name": "stdout",
     "output_type": "stream",
     "text": [
      "Successfully installed mnist-0.2.2\r\n"
     ]
    }
   ],
   "source": [
    "!pip install mnist"
   ]
  },
  {
   "cell_type": "markdown",
   "id": "69df9c9a",
   "metadata": {
    "papermill": {
     "duration": 0.030784,
     "end_time": "2022-03-20T00:31:14.721507",
     "exception": false,
     "start_time": "2022-03-20T00:31:14.690723",
     "status": "completed"
    },
    "tags": []
   },
   "source": [
    "## Preparing the Data"
   ]
  },
  {
   "cell_type": "code",
   "execution_count": 4,
   "id": "7f69d806",
   "metadata": {
    "execution": {
     "iopub.execute_input": "2022-03-20T00:31:14.784241Z",
     "iopub.status.busy": "2022-03-20T00:31:14.783498Z",
     "iopub.status.idle": "2022-03-20T00:31:14.800050Z",
     "shell.execute_reply": "2022-03-20T00:31:14.799549Z"
    },
    "papermill": {
     "duration": 0.050495,
     "end_time": "2022-03-20T00:31:14.800193",
     "exception": false,
     "start_time": "2022-03-20T00:31:14.749698",
     "status": "completed"
    },
    "tags": []
   },
   "outputs": [],
   "source": [
    "import mnist"
   ]
  },
  {
   "cell_type": "code",
   "execution_count": 5,
   "id": "a411e44f",
   "metadata": {
    "execution": {
     "iopub.execute_input": "2022-03-20T00:31:14.865433Z",
     "iopub.status.busy": "2022-03-20T00:31:14.864287Z",
     "iopub.status.idle": "2022-03-20T00:31:15.469273Z",
     "shell.execute_reply": "2022-03-20T00:31:15.469776Z"
    },
    "papermill": {
     "duration": 0.640649,
     "end_time": "2022-03-20T00:31:15.469944",
     "exception": false,
     "start_time": "2022-03-20T00:31:14.829295",
     "status": "completed"
    },
    "tags": []
   },
   "outputs": [],
   "source": [
    "train_images = mnist.train_images()\n",
    "train_labels = mnist.train_labels()"
   ]
  },
  {
   "cell_type": "code",
   "execution_count": 6,
   "id": "dceab3a5",
   "metadata": {
    "execution": {
     "iopub.execute_input": "2022-03-20T00:31:15.536760Z",
     "iopub.status.busy": "2022-03-20T00:31:15.535223Z",
     "iopub.status.idle": "2022-03-20T00:31:15.551557Z",
     "shell.execute_reply": "2022-03-20T00:31:15.551108Z"
    },
    "papermill": {
     "duration": 0.052409,
     "end_time": "2022-03-20T00:31:15.551677",
     "exception": false,
     "start_time": "2022-03-20T00:31:15.499268",
     "status": "completed"
    },
    "tags": []
   },
   "outputs": [
    {
     "data": {
      "text/plain": [
       "((60000, 28, 28), (60000,))"
      ]
     },
     "execution_count": 6,
     "metadata": {},
     "output_type": "execute_result"
    }
   ],
   "source": [
    "train_images.shape, train_labels.shape"
   ]
  },
  {
   "cell_type": "code",
   "execution_count": 7,
   "id": "f50dc2bb",
   "metadata": {
    "execution": {
     "iopub.execute_input": "2022-03-20T00:31:15.616845Z",
     "iopub.status.busy": "2022-03-20T00:31:15.614437Z",
     "iopub.status.idle": "2022-03-20T00:31:15.805879Z",
     "shell.execute_reply": "2022-03-20T00:31:15.805012Z"
    },
    "papermill": {
     "duration": 0.225017,
     "end_time": "2022-03-20T00:31:15.806049",
     "exception": false,
     "start_time": "2022-03-20T00:31:15.581032",
     "status": "completed"
    },
    "tags": []
   },
   "outputs": [],
   "source": [
    "test_images = mnist.test_images()\n",
    "test_labels = mnist.test_labels()"
   ]
  },
  {
   "cell_type": "code",
   "execution_count": 8,
   "id": "fc38cf1b",
   "metadata": {
    "execution": {
     "iopub.execute_input": "2022-03-20T00:31:15.870445Z",
     "iopub.status.busy": "2022-03-20T00:31:15.869859Z",
     "iopub.status.idle": "2022-03-20T00:31:15.884991Z",
     "shell.execute_reply": "2022-03-20T00:31:15.886642Z"
    },
    "papermill": {
     "duration": 0.052088,
     "end_time": "2022-03-20T00:31:15.887517",
     "exception": false,
     "start_time": "2022-03-20T00:31:15.835429",
     "status": "completed"
    },
    "tags": []
   },
   "outputs": [
    {
     "data": {
      "text/plain": [
       "((10000, 28, 28), (10000,))"
      ]
     },
     "execution_count": 8,
     "metadata": {},
     "output_type": "execute_result"
    }
   ],
   "source": [
    "test_images.shape, test_labels.shape"
   ]
  },
  {
   "cell_type": "code",
   "execution_count": 9,
   "id": "f9ed8fe0",
   "metadata": {
    "execution": {
     "iopub.execute_input": "2022-03-20T00:31:15.958784Z",
     "iopub.status.busy": "2022-03-20T00:31:15.957774Z",
     "iopub.status.idle": "2022-03-20T00:31:16.117311Z",
     "shell.execute_reply": "2022-03-20T00:31:16.116779Z"
    },
    "papermill": {
     "duration": 0.198326,
     "end_time": "2022-03-20T00:31:16.117440",
     "exception": false,
     "start_time": "2022-03-20T00:31:15.919114",
     "status": "completed"
    },
    "tags": []
   },
   "outputs": [
    {
     "name": "stdout",
     "output_type": "stream",
     "text": [
      "2\n"
     ]
    },
    {
     "data": {
      "text/plain": [
       "<matplotlib.image.AxesImage at 0x7fa0cb0cb5c0>"
      ]
     },
     "execution_count": 9,
     "metadata": {},
     "output_type": "execute_result"
    },
    {
     "data": {
      "image/png": "[encoded data removed]",
      "text/plain": [
       "<Figure size 432x288 with 1 Axes>"
      ]
     },
     "metadata": {
      "needs_background": "light"
     },
     "output_type": "display_data"
    }
   ],
   "source": [
    "image_index = 7776 # You may select anything up to 60,000\n",
    "print(train_labels[image_index]) \n",
    "plt.imshow(train_images[image_index], cmap='Greys')"
   ]
  },
  {
   "cell_type": "markdown",
   "id": "a8d2388d",
   "metadata": {
    "papermill": {
     "duration": 0.030352,
     "end_time": "2022-03-20T00:31:16.177348",
     "exception": false,
     "start_time": "2022-03-20T00:31:16.146996",
     "status": "completed"
    },
    "tags": []
   },
   "source": [
    "## Filter data to get 3 and 8 out"
   ]
  },
  {
   "cell_type": "code",
   "execution_count": 10,
   "id": "776f7fc7",
   "metadata": {
    "execution": {
     "iopub.execute_input": "2022-03-20T00:31:16.244185Z",
     "iopub.status.busy": "2022-03-20T00:31:16.243507Z",
     "iopub.status.idle": "2022-03-20T00:31:16.265913Z",
     "shell.execute_reply": "2022-03-20T00:31:16.265349Z"
    },
    "papermill": {
     "duration": 0.058296,
     "end_time": "2022-03-20T00:31:16.266052",
     "exception": false,
     "start_time": "2022-03-20T00:31:16.207756",
     "status": "completed"
    },
    "tags": []
   },
   "outputs": [],
   "source": [
    "train_filter = np.where((train_labels == 3 ) | (train_labels == 8))\n",
    "test_filter = np.where((test_labels == 3) | (test_labels == 8))\n",
    "X_train, y_train = train_images[train_filter], train_labels[train_filter]\n",
    "X_test, y_test = test_images[test_filter], test_labels[test_filter]"
   ]
  },
  {
   "cell_type": "markdown",
   "id": "948f0b7e",
   "metadata": {
    "papermill": {
     "duration": 0.031081,
     "end_time": "2022-03-20T00:31:16.329282",
     "exception": false,
     "start_time": "2022-03-20T00:31:16.298201",
     "status": "completed"
    },
    "tags": []
   },
   "source": [
    "We normalize the pizel values in the 0 to 1 range"
   ]
  },
  {
   "cell_type": "code",
   "execution_count": 11,
   "id": "ee4c2166",
   "metadata": {
    "execution": {
     "iopub.execute_input": "2022-03-20T00:31:16.397457Z",
     "iopub.status.busy": "2022-03-20T00:31:16.396835Z",
     "iopub.status.idle": "2022-03-20T00:31:16.451217Z",
     "shell.execute_reply": "2022-03-20T00:31:16.452092Z"
    },
    "papermill": {
     "duration": 0.091821,
     "end_time": "2022-03-20T00:31:16.452353",
     "exception": false,
     "start_time": "2022-03-20T00:31:16.360532",
     "status": "completed"
    },
    "tags": []
   },
   "outputs": [],
   "source": [
    "X_train = X_train/255.\n",
    "X_test = X_test/255."
   ]
  },
  {
   "cell_type": "markdown",
   "id": "ddcf4fab",
   "metadata": {
    "papermill": {
     "duration": 0.03049,
     "end_time": "2022-03-20T00:31:16.519263",
     "exception": false,
     "start_time": "2022-03-20T00:31:16.488773",
     "status": "completed"
    },
    "tags": []
   },
   "source": [
    "And setup the labels as 1 (when the digit is 3) and 0 (when the digit is 8)"
   ]
  },
  {
   "cell_type": "code",
   "execution_count": 12,
   "id": "7dc908f2",
   "metadata": {
    "execution": {
     "iopub.execute_input": "2022-03-20T00:31:16.582791Z",
     "iopub.status.busy": "2022-03-20T00:31:16.582198Z",
     "iopub.status.idle": "2022-03-20T00:31:16.595945Z",
     "shell.execute_reply": "2022-03-20T00:31:16.595427Z"
    },
    "papermill": {
     "duration": 0.046867,
     "end_time": "2022-03-20T00:31:16.596079",
     "exception": false,
     "start_time": "2022-03-20T00:31:16.549212",
     "status": "completed"
    },
    "tags": []
   },
   "outputs": [],
   "source": [
    "y_train = 1*(y_train==3)\n",
    "y_test = 1*(y_test==3)"
   ]
  },
  {
   "cell_type": "code",
   "execution_count": 13,
   "id": "01e4e969",
   "metadata": {
    "execution": {
     "iopub.execute_input": "2022-03-20T00:31:16.658445Z",
     "iopub.status.busy": "2022-03-20T00:31:16.657898Z",
     "iopub.status.idle": "2022-03-20T00:31:16.672933Z",
     "shell.execute_reply": "2022-03-20T00:31:16.672430Z"
    },
    "papermill": {
     "duration": 0.047782,
     "end_time": "2022-03-20T00:31:16.673059",
     "exception": false,
     "start_time": "2022-03-20T00:31:16.625277",
     "status": "completed"
    },
    "tags": []
   },
   "outputs": [
    {
     "data": {
      "text/plain": [
       "((11982, 28, 28), (1984, 28, 28))"
      ]
     },
     "execution_count": 13,
     "metadata": {},
     "output_type": "execute_result"
    }
   ],
   "source": [
    "X_train.shape, X_test.shape"
   ]
  },
  {
   "cell_type": "markdown",
   "id": "5ccf3f85",
   "metadata": {
    "papermill": {
     "duration": 0.03024,
     "end_time": "2022-03-20T00:31:16.732619",
     "exception": false,
     "start_time": "2022-03-20T00:31:16.702379",
     "status": "completed"
    },
    "tags": []
   },
   "source": [
    "We reshape the data to flatten the image pixels into a set of features or co-variates:"
   ]
  },
  {
   "cell_type": "code",
   "execution_count": 14,
   "id": "5286a4a3",
   "metadata": {
    "execution": {
     "iopub.execute_input": "2022-03-20T00:31:16.796435Z",
     "iopub.status.busy": "2022-03-20T00:31:16.795793Z",
     "iopub.status.idle": "2022-03-20T00:31:16.811436Z",
     "shell.execute_reply": "2022-03-20T00:31:16.811951Z"
    },
    "papermill": {
     "duration": 0.049694,
     "end_time": "2022-03-20T00:31:16.812109",
     "exception": false,
     "start_time": "2022-03-20T00:31:16.762415",
     "status": "completed"
    },
    "tags": []
   },
   "outputs": [
    {
     "data": {
      "text/plain": [
       "((11982, 784), (1984, 784))"
      ]
     },
     "execution_count": 14,
     "metadata": {},
     "output_type": "execute_result"
    }
   ],
   "source": [
    "X_train = X_train.reshape(X_train.shape[0], -1)\n",
    "X_test = X_test.reshape(X_test.shape[0], -1)\n",
    "X_train.shape, X_test.shape"
   ]
  },
  {
   "cell_type": "code",
   "execution_count": 15,
   "id": "73c5f88a",
   "metadata": {
    "execution": {
     "iopub.execute_input": "2022-03-20T00:31:16.881708Z",
     "iopub.status.busy": "2022-03-20T00:31:16.881086Z",
     "iopub.status.idle": "2022-03-20T00:31:16.903914Z",
     "shell.execute_reply": "2022-03-20T00:31:16.903196Z"
    },
    "papermill": {
     "duration": 0.060936,
     "end_time": "2022-03-20T00:31:16.904111",
     "exception": false,
     "start_time": "2022-03-20T00:31:16.843175",
     "status": "completed"
    },
    "tags": []
   },
   "outputs": [],
   "source": [
    "#Impoting functions from 'Kudzu'\n",
    "from kudzu.model import Model\n",
    "from kudzu.train import Learner\n",
    "from kudzu.optim import GD\n",
    "from kudzu.data import Data, Sampler,Dataloader\n",
    "\n",
    "from kudzu.callbacks import AccCallback\n",
    "from kudzu.callbacks import ClfCallback\n",
    "\n",
    "from kudzu.loss import MSE\n",
    "\n",
    "from kudzu.layer import Sigmoid,Relu\n",
    "from kudzu.layer import Affine"
   ]
  },
  {
   "cell_type": "markdown",
   "id": "bc01172a",
   "metadata": {
    "papermill": {
     "duration": 0.030969,
     "end_time": "2022-03-20T00:31:16.966889",
     "exception": false,
     "start_time": "2022-03-20T00:31:16.935920",
     "status": "completed"
    },
    "tags": []
   },
   "source": [
    "### Let us create a `Config` class, to store important parameters. \n",
    "This class essentially plays the role of a dictionary."
   ]
  },
  {
   "cell_type": "code",
   "execution_count": 16,
   "id": "978281aa",
   "metadata": {
    "execution": {
     "iopub.execute_input": "2022-03-20T00:31:17.040512Z",
     "iopub.status.busy": "2022-03-20T00:31:17.039846Z",
     "iopub.status.idle": "2022-03-20T00:31:17.054816Z",
     "shell.execute_reply": "2022-03-20T00:31:17.054324Z"
    },
    "papermill": {
     "duration": 0.057216,
     "end_time": "2022-03-20T00:31:17.054944",
     "exception": false,
     "start_time": "2022-03-20T00:31:16.997728",
     "status": "completed"
    },
    "tags": []
   },
   "outputs": [],
   "source": [
    "class Config:\n",
    "    pass\n",
    "config = Config()\n",
    "config.lr = 0.001\n",
    "config.num_epochs = 250\n",
    "config.bs = 50"
   ]
  },
  {
   "cell_type": "markdown",
   "id": "1385fa59",
   "metadata": {
    "papermill": {
     "duration": 0.033132,
     "end_time": "2022-03-20T00:31:17.120056",
     "exception": false,
     "start_time": "2022-03-20T00:31:17.086924",
     "status": "completed"
    },
    "tags": []
   },
   "source": [
    "### Running Models with the Training data\n",
    "Details about the network layers:\n",
    "- A first affine layer has 784 inputs and does 100 affine transforms. These are followed by a Relu\n",
    "- A second affine layer has 100 inputs from the 100 activations of the past layer, and does 100 affine transforms. These are followed by a Relu\n",
    "- A third affine layer has 100 activations and does 2 affine transformations to create an embedding for visualization. There is no non-linearity here.\n",
    "- A final \"logistic regression\" which has an affine transform from 2 inputs to 1 output, which is squeezed through a sigmoid.\n"
   ]
  },
  {
   "cell_type": "code",
   "execution_count": 17,
   "id": "2b9c66db",
   "metadata": {
    "execution": {
     "iopub.execute_input": "2022-03-20T00:31:17.187328Z",
     "iopub.status.busy": "2022-03-20T00:31:17.186719Z",
     "iopub.status.idle": "2022-03-20T00:31:17.206002Z",
     "shell.execute_reply": "2022-03-20T00:31:17.205309Z"
    },
    "papermill": {
     "duration": 0.054358,
     "end_time": "2022-03-20T00:31:17.206176",
     "exception": false,
     "start_time": "2022-03-20T00:31:17.151818",
     "status": "completed"
    },
    "tags": []
   },
   "outputs": [],
   "source": [
    "data = Data(X_train, y_train.reshape(-1,1))\n",
    "sampler = Sampler(data, config.bs, shuffle=True)\n",
    "\n",
    "dl = Dataloader(data, sampler)\n",
    "\n",
    "opt = GD(config.lr)\n",
    "loss = MSE()"
   ]
  },
  {
   "cell_type": "code",
   "execution_count": 18,
   "id": "b275e4c2",
   "metadata": {
    "execution": {
     "iopub.execute_input": "2022-03-20T00:31:17.275797Z",
     "iopub.status.busy": "2022-03-20T00:31:17.275175Z",
     "iopub.status.idle": "2022-03-20T00:31:17.292983Z",
     "shell.execute_reply": "2022-03-20T00:31:17.292058Z"
    },
    "papermill": {
     "duration": 0.052932,
     "end_time": "2022-03-20T00:31:17.293135",
     "exception": false,
     "start_time": "2022-03-20T00:31:17.240203",
     "status": "completed"
    },
    "tags": []
   },
   "outputs": [],
   "source": [
    "training_data_x = X_train\n",
    "testing_data_x = X_test\n",
    "training_data_y = y_train.reshape(-1,1)\n",
    "testing_data_y = y_test.reshape(-1,1)"
   ]
  },
  {
   "cell_type": "code",
   "execution_count": 19,
   "id": "76951160",
   "metadata": {
    "execution": {
     "iopub.execute_input": "2022-03-20T00:31:17.366195Z",
     "iopub.status.busy": "2022-03-20T00:31:17.365581Z",
     "iopub.status.idle": "2022-03-20T00:31:17.386724Z",
     "shell.execute_reply": "2022-03-20T00:31:17.386071Z"
    },
    "papermill": {
     "duration": 0.060793,
     "end_time": "2022-03-20T00:31:17.386859",
     "exception": false,
     "start_time": "2022-03-20T00:31:17.326066",
     "status": "completed"
    },
    "tags": []
   },
   "outputs": [
    {
     "name": "stdout",
     "output_type": "stream",
     "text": [
      "xavier\n",
      "xavier\n",
      "xavier\n",
      "xavier\n",
      "xavier\n"
     ]
    }
   ],
   "source": [
    "layers = [Affine(\"first\", 784, 100), Relu(\"first\"), Affine(\"second\", 100, 100), Relu(\"second\"), Affine(\"third\", 100, 2), Affine(\"last\", 2, 1), Sigmoid(\"last\")]\n",
    "model_nn = Model(layers)\n",
    "model_lr = Model([Affine(\"logits\", 784, 1), Sigmoid(\"sigmoid\")])"
   ]
  },
  {
   "cell_type": "code",
   "execution_count": 20,
   "id": "6eede77a",
   "metadata": {
    "execution": {
     "iopub.execute_input": "2022-03-20T00:31:17.462919Z",
     "iopub.status.busy": "2022-03-20T00:31:17.462330Z",
     "iopub.status.idle": "2022-03-20T00:31:17.475765Z",
     "shell.execute_reply": "2022-03-20T00:31:17.475286Z"
    },
    "papermill": {
     "duration": 0.050818,
     "end_time": "2022-03-20T00:31:17.475916",
     "exception": false,
     "start_time": "2022-03-20T00:31:17.425098",
     "status": "completed"
    },
    "tags": []
   },
   "outputs": [],
   "source": [
    "nn_learner = Learner(loss, model_nn, opt, config.num_epochs)\n",
    "acc_nn = ClfCallback(nn_learner, config.bs, training_data_x , testing_data_x, training_data_y, testing_data_y)\n",
    "nn_learner.set_callbacks([acc_nn])"
   ]
  },
  {
   "cell_type": "code",
   "execution_count": 21,
   "id": "877b6cc7",
   "metadata": {
    "execution": {
     "iopub.execute_input": "2022-03-20T00:31:17.543551Z",
     "iopub.status.busy": "2022-03-20T00:31:17.542948Z",
     "iopub.status.idle": "2022-03-20T00:31:17.556866Z",
     "shell.execute_reply": "2022-03-20T00:31:17.556362Z"
    },
    "papermill": {
     "duration": 0.050567,
     "end_time": "2022-03-20T00:31:17.556997",
     "exception": false,
     "start_time": "2022-03-20T00:31:17.506430",
     "status": "completed"
    },
    "tags": []
   },
   "outputs": [],
   "source": [
    "lr_learner = Learner(loss, model_lr, opt, config.num_epochs)\n",
    "acc_lr = ClfCallback(lr_learner, config.bs, training_data_x , testing_data_x, training_data_y, testing_data_y)\n",
    "lr_learner.set_callbacks([acc_lr])"
   ]
  },
  {
   "cell_type": "code",
   "execution_count": 22,
   "id": "d9b133c3",
   "metadata": {
    "execution": {
     "iopub.execute_input": "2022-03-20T00:31:17.628210Z",
     "iopub.status.busy": "2022-03-20T00:31:17.625296Z",
     "iopub.status.idle": "2022-03-20T00:32:43.802161Z",
     "shell.execute_reply": "2022-03-20T00:32:43.803018Z"
    },
    "papermill": {
     "duration": 86.214536,
     "end_time": "2022-03-20T00:32:43.803185",
     "exception": false,
     "start_time": "2022-03-20T00:31:17.588649",
     "status": "completed"
    },
    "tags": []
   },
   "outputs": [
    {
     "name": "stdout",
     "output_type": "stream",
     "text": [
      "Epoch 0, Loss 0.246\n",
      "Training Accuracy: 0.5270, Testing Accuracy: 0.5212\n",
      "\n"
     ]
    },
    {
     "name": "stdout",
     "output_type": "stream",
     "text": [
      "Epoch 10, Loss 0.1674\n",
      "Training Accuracy: 0.8717, Testing Accuracy: 0.8715\n",
      "\n"
     ]
    },
    {
     "name": "stdout",
     "output_type": "stream",
     "text": [
      "Epoch 20, Loss 0.0849\n",
      "Training Accuracy: 0.9202, Testing Accuracy: 0.9315\n",
      "\n"
     ]
    },
    {
     "name": "stdout",
     "output_type": "stream",
     "text": [
      "Epoch 30, Loss 0.0575\n",
      "Training Accuracy: 0.9392, Testing Accuracy: 0.9481\n",
      "\n"
     ]
    },
    {
     "name": "stdout",
     "output_type": "stream",
     "text": [
      "Epoch 40, Loss 0.0463\n",
      "Training Accuracy: 0.9486, Testing Accuracy: 0.9531\n",
      "\n"
     ]
    },
    {
     "name": "stdout",
     "output_type": "stream",
     "text": [
      "Epoch 50, Loss 0.0404\n",
      "Training Accuracy: 0.9518, Testing Accuracy: 0.9561\n",
      "\n"
     ]
    },
    {
     "name": "stdout",
     "output_type": "stream",
     "text": [
      "Epoch 60, Loss 0.0367\n",
      "Training Accuracy: 0.9566, Testing Accuracy: 0.9592\n",
      "\n"
     ]
    },
    {
     "name": "stdout",
     "output_type": "stream",
     "text": [
      "Epoch 70, Loss 0.0341\n",
      "Training Accuracy: 0.9604, Testing Accuracy: 0.9622\n",
      "\n"
     ]
    },
    {
     "name": "stdout",
     "output_type": "stream",
     "text": [
      "Epoch 80, Loss 0.0322\n",
      "Training Accuracy: 0.9629, Testing Accuracy: 0.9637\n",
      "\n"
     ]
    },
    {
     "name": "stdout",
     "output_type": "stream",
     "text": [
      "Epoch 90, Loss 0.0306\n",
      "Training Accuracy: 0.9645, Testing Accuracy: 0.9637\n",
      "\n"
     ]
    },
    {
     "name": "stdout",
     "output_type": "stream",
     "text": [
      "Epoch 100, Loss 0.0294\n",
      "Training Accuracy: 0.9661, Testing Accuracy: 0.9652\n",
      "\n"
     ]
    },
    {
     "name": "stdout",
     "output_type": "stream",
     "text": [
      "Epoch 110, Loss 0.0283\n",
      "Training Accuracy: 0.9672, Testing Accuracy: 0.9682\n",
      "\n"
     ]
    },
    {
     "name": "stdout",
     "output_type": "stream",
     "text": [
      "Epoch 120, Loss 0.0274\n",
      "Training Accuracy: 0.9679, Testing Accuracy: 0.9688\n",
      "\n"
     ]
    },
    {
     "name": "stdout",
     "output_type": "stream",
     "text": [
      "Epoch 130, Loss 0.0266\n",
      "Training Accuracy: 0.9687, Testing Accuracy: 0.9688\n",
      "\n"
     ]
    },
    {
     "name": "stdout",
     "output_type": "stream",
     "text": [
      "Epoch 140, Loss 0.0259\n",
      "Training Accuracy: 0.9698, Testing Accuracy: 0.9688\n",
      "\n"
     ]
    },
    {
     "name": "stdout",
     "output_type": "stream",
     "text": [
      "Epoch 150, Loss 0.0252\n",
      "Training Accuracy: 0.9705, Testing Accuracy: 0.9688\n",
      "\n"
     ]
    },
    {
     "name": "stdout",
     "output_type": "stream",
     "text": [
      "Epoch 160, Loss 0.0246\n",
      "Training Accuracy: 0.9711, Testing Accuracy: 0.9682\n",
      "\n"
     ]
    },
    {
     "name": "stdout",
     "output_type": "stream",
     "text": [
      "Epoch 170, Loss 0.0241\n",
      "Training Accuracy: 0.9723, Testing Accuracy: 0.9688\n",
      "\n"
     ]
    },
    {
     "name": "stdout",
     "output_type": "stream",
     "text": [
      "Epoch 180, Loss 0.0236\n",
      "Training Accuracy: 0.9729, Testing Accuracy: 0.9688\n",
      "\n"
     ]
    },
    {
     "name": "stdout",
     "output_type": "stream",
     "text": [
      "Epoch 190, Loss 0.0231\n",
      "Training Accuracy: 0.9736, Testing Accuracy: 0.9688\n",
      "\n"
     ]
    },
    {
     "name": "stdout",
     "output_type": "stream",
     "text": [
      "Epoch 200, Loss 0.0227\n",
      "Training Accuracy: 0.9740, Testing Accuracy: 0.9688\n",
      "\n"
     ]
    },
    {
     "name": "stdout",
     "output_type": "stream",
     "text": [
      "Epoch 210, Loss 0.0223\n",
      "Training Accuracy: 0.9745, Testing Accuracy: 0.9682\n",
      "\n"
     ]
    },
    {
     "name": "stdout",
     "output_type": "stream",
     "text": [
      "Epoch 220, Loss 0.0219\n",
      "Training Accuracy: 0.9751, Testing Accuracy: 0.9688\n",
      "\n"
     ]
    },
    {
     "name": "stdout",
     "output_type": "stream",
     "text": [
      "Epoch 230, Loss 0.0215\n",
      "Training Accuracy: 0.9760, Testing Accuracy: 0.9698\n",
      "\n"
     ]
    },
    {
     "name": "stdout",
     "output_type": "stream",
     "text": [
      "Epoch 240, Loss 0.0212\n",
      "Training Accuracy: 0.9763, Testing Accuracy: 0.9713\n",
      "\n"
     ]
    },
    {
     "data": {
      "text/plain": [
       "0.03262251431590728"
      ]
     },
     "execution_count": 22,
     "metadata": {},
     "output_type": "execute_result"
    }
   ],
   "source": [
    "nn_learner.train_loop(dl)"
   ]
  },
  {
   "cell_type": "code",
   "execution_count": 23,
   "id": "e0163366",
   "metadata": {
    "execution": {
     "iopub.execute_input": "2022-03-20T00:32:43.896298Z",
     "iopub.status.busy": "2022-03-20T00:32:43.895653Z",
     "iopub.status.idle": "2022-03-20T00:32:59.212052Z",
     "shell.execute_reply": "2022-03-20T00:32:59.212890Z"
    },
    "papermill": {
     "duration": 15.369623,
     "end_time": "2022-03-20T00:32:59.213054",
     "exception": false,
     "start_time": "2022-03-20T00:32:43.843431",
     "status": "completed"
    },
    "tags": []
   },
   "outputs": [
    {
     "name": "stdout",
     "output_type": "stream",
     "text": [
      "Epoch 0, Loss 0.2437\n",
      "Training Accuracy: 0.6797, Testing Accuracy: 0.7001\n",
      "\n"
     ]
    },
    {
     "name": "stdout",
     "output_type": "stream",
     "text": [
      "Epoch 10, Loss 0.0973\n",
      "Training Accuracy: 0.9249, Testing Accuracy: 0.9365\n",
      "\n"
     ]
    },
    {
     "name": "stdout",
     "output_type": "stream",
     "text": [
      "Epoch 20, Loss 0.0757\n",
      "Training Accuracy: 0.9344, Testing Accuracy: 0.9415\n",
      "\n"
     ]
    },
    {
     "name": "stdout",
     "output_type": "stream",
     "text": [
      "Epoch 30, Loss 0.0659\n",
      "Training Accuracy: 0.9396, Testing Accuracy: 0.9466\n",
      "\n"
     ]
    },
    {
     "name": "stdout",
     "output_type": "stream",
     "text": [
      "Epoch 40, Loss 0.06\n",
      "Training Accuracy: 0.9435, Testing Accuracy: 0.9531\n",
      "\n"
     ]
    },
    {
     "name": "stdout",
     "output_type": "stream",
     "text": [
      "Epoch 50, Loss 0.0558\n",
      "Training Accuracy: 0.9472, Testing Accuracy: 0.9567\n",
      "\n"
     ]
    },
    {
     "name": "stdout",
     "output_type": "stream",
     "text": [
      "Epoch 60, Loss 0.0528\n",
      "Training Accuracy: 0.9491, Testing Accuracy: 0.9587\n",
      "\n"
     ]
    },
    {
     "name": "stdout",
     "output_type": "stream",
     "text": [
      "Epoch 70, Loss 0.0504\n",
      "Training Accuracy: 0.9508, Testing Accuracy: 0.9612\n",
      "\n"
     ]
    },
    {
     "name": "stdout",
     "output_type": "stream",
     "text": [
      "Epoch 80, Loss 0.0485\n",
      "Training Accuracy: 0.9525, Testing Accuracy: 0.9617\n",
      "\n"
     ]
    },
    {
     "name": "stdout",
     "output_type": "stream",
     "text": [
      "Epoch 90, Loss 0.0469\n",
      "Training Accuracy: 0.9535, Testing Accuracy: 0.9622\n",
      "\n"
     ]
    },
    {
     "name": "stdout",
     "output_type": "stream",
     "text": [
      "Epoch 100, Loss 0.0455\n",
      "Training Accuracy: 0.9544, Testing Accuracy: 0.9632\n",
      "\n"
     ]
    },
    {
     "name": "stdout",
     "output_type": "stream",
     "text": [
      "Epoch 110, Loss 0.0444\n",
      "Training Accuracy: 0.9548, Testing Accuracy: 0.9632\n",
      "\n"
     ]
    },
    {
     "name": "stdout",
     "output_type": "stream",
     "text": [
      "Epoch 120, Loss 0.0434\n",
      "Training Accuracy: 0.9559, Testing Accuracy: 0.9637\n",
      "\n"
     ]
    },
    {
     "name": "stdout",
     "output_type": "stream",
     "text": [
      "Epoch 130, Loss 0.0425\n",
      "Training Accuracy: 0.9565, Testing Accuracy: 0.9652\n",
      "\n"
     ]
    },
    {
     "name": "stdout",
     "output_type": "stream",
     "text": [
      "Epoch 140, Loss 0.0417\n",
      "Training Accuracy: 0.9569, Testing Accuracy: 0.9652\n",
      "\n"
     ]
    },
    {
     "name": "stdout",
     "output_type": "stream",
     "text": [
      "Epoch 150, Loss 0.0409\n",
      "Training Accuracy: 0.9574, Testing Accuracy: 0.9662\n",
      "\n"
     ]
    },
    {
     "name": "stdout",
     "output_type": "stream",
     "text": [
      "Epoch 160, Loss 0.0403\n",
      "Training Accuracy: 0.9578, Testing Accuracy: 0.9667\n",
      "\n"
     ]
    },
    {
     "name": "stdout",
     "output_type": "stream",
     "text": [
      "Epoch 170, Loss 0.0397\n",
      "Training Accuracy: 0.9584, Testing Accuracy: 0.9667\n",
      "\n"
     ]
    },
    {
     "name": "stdout",
     "output_type": "stream",
     "text": [
      "Epoch 180, Loss 0.0392\n",
      "Training Accuracy: 0.9588, Testing Accuracy: 0.9667\n",
      "\n"
     ]
    },
    {
     "name": "stdout",
     "output_type": "stream",
     "text": [
      "Epoch 190, Loss 0.0387\n",
      "Training Accuracy: 0.9592, Testing Accuracy: 0.9677\n",
      "\n"
     ]
    },
    {
     "name": "stdout",
     "output_type": "stream",
     "text": [
      "Epoch 200, Loss 0.0382\n",
      "Training Accuracy: 0.9594, Testing Accuracy: 0.9682\n",
      "\n"
     ]
    },
    {
     "name": "stdout",
     "output_type": "stream",
     "text": [
      "Epoch 210, Loss 0.0378\n",
      "Training Accuracy: 0.9598, Testing Accuracy: 0.9677\n",
      "\n"
     ]
    },
    {
     "name": "stdout",
     "output_type": "stream",
     "text": [
      "Epoch 220, Loss 0.0374\n",
      "Training Accuracy: 0.9599, Testing Accuracy: 0.9677\n",
      "\n"
     ]
    },
    {
     "name": "stdout",
     "output_type": "stream",
     "text": [
      "Epoch 230, Loss 0.037\n",
      "Training Accuracy: 0.9607, Testing Accuracy: 0.9672\n",
      "\n"
     ]
    },
    {
     "name": "stdout",
     "output_type": "stream",
     "text": [
      "Epoch 240, Loss 0.0366\n",
      "Training Accuracy: 0.9608, Testing Accuracy: 0.9682\n",
      "\n"
     ]
    },
    {
     "data": {
      "text/plain": [
       "0.0142145806922876"
      ]
     },
     "execution_count": 23,
     "metadata": {},
     "output_type": "execute_result"
    }
   ],
   "source": [
    "lr_learner.train_loop(dl)"
   ]
  },
  {
   "cell_type": "code",
   "execution_count": 24,
   "id": "ca410940",
   "metadata": {
    "execution": {
     "iopub.execute_input": "2022-03-20T00:32:59.317509Z",
     "iopub.status.busy": "2022-03-20T00:32:59.316884Z",
     "iopub.status.idle": "2022-03-20T00:32:59.571721Z",
     "shell.execute_reply": "2022-03-20T00:32:59.571177Z"
    },
    "papermill": {
     "duration": 0.312741,
     "end_time": "2022-03-20T00:32:59.571847",
     "exception": false,
     "start_time": "2022-03-20T00:32:59.259106",
     "status": "completed"
    },
    "tags": []
   },
   "outputs": [
    {
     "data": {
      "text/plain": [
       "<matplotlib.legend.Legend at 0x7fa0caca7c50>"
      ]
     },
     "execution_count": 24,
     "metadata": {},
     "output_type": "execute_result"
    },
    {
     "data": {
      "image/png": "[encoded data removed]",
      "text/plain": [
       "<Figure size 1080x720 with 1 Axes>"
      ]
     },
     "metadata": {
      "needs_background": "light"
     },
     "output_type": "display_data"
    }
   ],
   "source": [
    "#comparing the results of NN and LR\n",
    "plt.figure(figsize=(15,10))\n",
    "\n",
    "# Neural Network plots\n",
    "plt.plot(acc_nn.accuracies, 'r-', label = \"Training Accuracies - NN\")\n",
    "plt.plot(acc_nn.test_accuracies, 'g-', label = \"Testing Accuracies - NN\")\n",
    "\n",
    "# Logistic Regression plots\n",
    "plt.plot(acc_lr.accuracies, 'k-', label = \"Training Accuracies - LR\")\n",
    "plt.plot(acc_lr.test_accuracies, 'b-', label = \"Testing Accuracies - LR\")\n",
    "plt.legend()"
   ]
  },
  {
   "cell_type": "markdown",
   "id": "80dfb35c",
   "metadata": {
    "papermill": {
     "duration": 0.047892,
     "end_time": "2022-03-20T00:32:59.669207",
     "exception": false,
     "start_time": "2022-03-20T00:32:59.621315",
     "status": "completed"
    },
    "tags": []
   },
   "source": [
    "#### Plotting the outputs of this layer of the NN.\n"
   ]
  },
  {
   "cell_type": "code",
   "execution_count": 25,
   "id": "45eb2ff5",
   "metadata": {
    "execution": {
     "iopub.execute_input": "2022-03-20T00:32:59.770652Z",
     "iopub.status.busy": "2022-03-20T00:32:59.770034Z",
     "iopub.status.idle": "2022-03-20T00:32:59.793469Z",
     "shell.execute_reply": "2022-03-20T00:32:59.794309Z"
    },
    "papermill": {
     "duration": 0.076512,
     "end_time": "2022-03-20T00:32:59.794478",
     "exception": false,
     "start_time": "2022-03-20T00:32:59.717966",
     "status": "completed"
    },
    "tags": []
   },
   "outputs": [],
   "source": [
    "new_model = Model(layers[:-2])\n",
    "testing_plot = new_model(testing_data_x)"
   ]
  },
  {
   "cell_type": "code",
   "execution_count": 26,
   "id": "4c0a5485",
   "metadata": {
    "execution": {
     "iopub.execute_input": "2022-03-20T00:32:59.900132Z",
     "iopub.status.busy": "2022-03-20T00:32:59.899502Z",
     "iopub.status.idle": "2022-03-20T00:33:00.122464Z",
     "shell.execute_reply": "2022-03-20T00:33:00.122955Z"
    },
    "papermill": {
     "duration": 0.277606,
     "end_time": "2022-03-20T00:33:00.123110",
     "exception": false,
     "start_time": "2022-03-20T00:32:59.845504",
     "status": "completed"
    },
    "tags": []
   },
   "outputs": [
    {
     "data": {
      "text/plain": [
       "Text(0.5, 1.0, 'Outputs')"
      ]
     },
     "execution_count": 26,
     "metadata": {},
     "output_type": "execute_result"
    },
    {
     "data": {
      "image/png": "[encoded data removed]",
      "text/plain": [
       "<Figure size 576x504 with 1 Axes>"
      ]
     },
     "metadata": {
      "needs_background": "light"
     },
     "output_type": "display_data"
    }
   ],
   "source": [
    "# Plotting the scatter plot of points and color coding by class\n",
    "plt.figure(figsize=(8,7))\n",
    "plt.scatter(testing_plot[:,0], testing_plot[:,1], alpha = 0.1, c = y_test.ravel());\n",
    "plt.title('Outputs')"
   ]
  },
  {
   "cell_type": "markdown",
   "id": "a74fcf8f",
   "metadata": {
    "papermill": {
     "duration": 0.050124,
     "end_time": "2022-03-20T00:33:00.223714",
     "exception": false,
     "start_time": "2022-03-20T00:33:00.173590",
     "status": "completed"
    },
    "tags": []
   },
   "source": [
    "Probability contours"
   ]
  },
  {
   "cell_type": "code",
   "execution_count": 27,
   "id": "d0afc8e3",
   "metadata": {
    "execution": {
     "iopub.execute_input": "2022-03-20T00:33:00.360564Z",
     "iopub.status.busy": "2022-03-20T00:33:00.359943Z",
     "iopub.status.idle": "2022-03-20T00:33:00.373892Z",
     "shell.execute_reply": "2022-03-20T00:33:00.374343Z"
    },
    "papermill": {
     "duration": 0.10029,
     "end_time": "2022-03-20T00:33:00.374493",
     "exception": false,
     "start_time": "2022-03-20T00:33:00.274203",
     "status": "completed"
    },
    "tags": []
   },
   "outputs": [],
   "source": [
    "model_prob = Model(layers[-2:]) "
   ]
  },
  {
   "cell_type": "code",
   "execution_count": 28,
   "id": "9b96e238",
   "metadata": {
    "execution": {
     "iopub.execute_input": "2022-03-20T00:33:00.479680Z",
     "iopub.status.busy": "2022-03-20T00:33:00.479077Z",
     "iopub.status.idle": "2022-03-20T00:33:00.493718Z",
     "shell.execute_reply": "2022-03-20T00:33:00.494172Z"
    },
    "papermill": {
     "duration": 0.06956,
     "end_time": "2022-03-20T00:33:00.494327",
     "exception": false,
     "start_time": "2022-03-20T00:33:00.424767",
     "status": "completed"
    },
    "tags": []
   },
   "outputs": [],
   "source": [
    "#creating the x and y ranges according to the above generated plot.\n",
    "x_range = np.linspace(-4, 1, 100) \n",
    "y_range = np.linspace(-6, 6, 100) \n",
    "x_grid, y_grid = np.meshgrid(x_range, y_range) # x_grid and y_grig are of size 100 X 100\n",
    "\n",
    "# converting x_grid and y_grid to continuous arrays\n",
    "x_gridflat = np.ravel(x_grid)\n",
    "y_gridflat = np.ravel(y_grid)\n",
    "\n",
    "# The last layer of the current model takes two columns as input. Hence transpose of np.vstack() is required.\n",
    "X = np.vstack((x_gridflat, y_gridflat)).T\n",
    "\n",
    "prob_contour = model_prob(X).reshape(100,100) "
   ]
  },
  {
   "cell_type": "code",
   "execution_count": 29,
   "id": "da72499a",
   "metadata": {
    "execution": {
     "iopub.execute_input": "2022-03-20T00:33:00.609510Z",
     "iopub.status.busy": "2022-03-20T00:33:00.608901Z",
     "iopub.status.idle": "2022-03-20T00:33:00.887455Z",
     "shell.execute_reply": "2022-03-20T00:33:00.888049Z"
    },
    "papermill": {
     "duration": 0.342923,
     "end_time": "2022-03-20T00:33:00.888226",
     "exception": false,
     "start_time": "2022-03-20T00:33:00.545303",
     "status": "completed"
    },
    "tags": []
   },
   "outputs": [
    {
     "data": {
      "image/png": "[encoded data removed]",
      "text/plain": [
       "<Figure size 720x648 with 1 Axes>"
      ]
     },
     "metadata": {
      "needs_background": "light"
     },
     "output_type": "display_data"
    }
   ],
   "source": [
    "plt.figure(figsize=(10,9))\n",
    "plt.scatter(testing_plot[:,0], testing_plot[:,1], alpha = 0.1, c = y_test.ravel())\n",
    "contours = plt.contour(x_grid,y_grid,prob_contour)\n",
    "plt.title('Probability Contours')\n",
    "plt.clabel(contours, inline = True );"
   ]
  },
  {
   "cell_type": "code",
   "execution_count": null,
   "id": "e81b4ac7",
   "metadata": {
    "papermill": {
     "duration": 0.053978,
     "end_time": "2022-03-20T00:33:01.000191",
     "exception": false,
     "start_time": "2022-03-20T00:33:00.946213",
     "status": "completed"
    },
    "tags": []
   },
   "outputs": [],
   "source": []
  }
 ],
 "metadata": {
  "kernelspec": {
   "display_name": "Python 3",
   "language": "python",
   "name": "python3"
  },
  "language_info": {
   "codemirror_mode": {
    "name": "ipython",
    "version": 3
   },
   "file_extension": ".py",
   "mimetype": "text/x-python",
   "name": "python",
   "nbconvert_exporter": "python",
   "pygments_lexer": "ipython3",
   "version": "3.6.15"
  },
  "papermill": {
   "default_parameters": {},
   "duration": 111.034611,
   "end_time": "2022-03-20T00:33:01.477511",
   "environment_variables": {},
   "exception": null,
   "input_path": "2020-08-11-part2.ipynb",
   "output_path": "2020-08-11-part2.ipynb",
   "parameters": {},
   "start_time": "2022-03-20T00:31:10.442900",
   "version": "2.3.3"
  }
 },
 "nbformat": 4,
 "nbformat_minor": 5
}