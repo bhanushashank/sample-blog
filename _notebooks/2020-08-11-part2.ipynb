{
 "cells": [
  {
   "cell_type": "markdown",
   "id": "98380cd3",
   "metadata": {
    "papermill": {
     "duration": 0.034246,
     "end_time": "2021-12-26T10:08:17.227043",
     "exception": false,
     "start_time": "2021-12-26T10:08:17.192797",
     "status": "completed"
    },
    "tags": []
   },
   "source": [
    "# Distinguish Your Own Digits (DYOD)"
   ]
  },
  {
   "cell_type": "markdown",
   "id": "ef31240d",
   "metadata": {
    "papermill": {
     "duration": 0.026616,
     "end_time": "2021-12-26T10:08:17.281409",
     "exception": false,
     "start_time": "2021-12-26T10:08:17.254793",
     "status": "completed"
    },
    "tags": []
   },
   "source": [
    "You are going to write a classifier that distinguishes between the number 3 and number 8."
   ]
  },
  {
   "cell_type": "code",
   "execution_count": 1,
   "id": "b15c8646",
   "metadata": {
    "execution": {
     "iopub.execute_input": "2021-12-26T10:08:17.341520Z",
     "iopub.status.busy": "2021-12-26T10:08:17.340260Z",
     "iopub.status.idle": "2021-12-26T10:08:17.352295Z",
     "shell.execute_reply": "2021-12-26T10:08:17.352813Z"
    },
    "papermill": {
     "duration": 0.047785,
     "end_time": "2021-12-26T10:08:17.352978",
     "exception": false,
     "start_time": "2021-12-26T10:08:17.305193",
     "status": "completed"
    },
    "tags": []
   },
   "outputs": [],
   "source": [
    "%load_ext autoreload\n",
    "%autoreload 2"
   ]
  },
  {
   "cell_type": "code",
   "execution_count": 2,
   "id": "22ef38dc",
   "metadata": {
    "execution": {
     "iopub.execute_input": "2021-12-26T10:08:17.405319Z",
     "iopub.status.busy": "2021-12-26T10:08:17.404759Z",
     "iopub.status.idle": "2021-12-26T10:08:17.998033Z",
     "shell.execute_reply": "2021-12-26T10:08:17.997567Z"
    },
    "papermill": {
     "duration": 0.621061,
     "end_time": "2021-12-26T10:08:17.998162",
     "exception": false,
     "start_time": "2021-12-26T10:08:17.377101",
     "status": "completed"
    },
    "tags": []
   },
   "outputs": [],
   "source": [
    "%matplotlib inline\n",
    "import numpy as np\n",
    "import matplotlib.pyplot as plt\n",
    "import pandas as pd"
   ]
  },
  {
   "cell_type": "markdown",
   "id": "ba036198",
   "metadata": {
    "papermill": {
     "duration": 0.024046,
     "end_time": "2021-12-26T10:08:18.046503",
     "exception": false,
     "start_time": "2021-12-26T10:08:18.022457",
     "status": "completed"
    },
    "tags": []
   },
   "source": [
    "From the command line run `pip install mnist`. This is a library that will help you bring down the mnist dataset. If you run this from a notebook, you need to put  `!pip install mnist` in a cell by itself."
   ]
  },
  {
   "cell_type": "code",
   "execution_count": 3,
   "id": "bb6ad8a1",
   "metadata": {
    "execution": {
     "iopub.execute_input": "2021-12-26T10:08:18.099353Z",
     "iopub.status.busy": "2021-12-26T10:08:18.098817Z",
     "iopub.status.idle": "2021-12-26T10:08:19.842988Z",
     "shell.execute_reply": "2021-12-26T10:08:19.842154Z"
    },
    "papermill": {
     "duration": 1.772571,
     "end_time": "2021-12-26T10:08:19.843121",
     "exception": false,
     "start_time": "2021-12-26T10:08:18.070550",
     "status": "completed"
    },
    "tags": []
   },
   "outputs": [
    {
     "name": "stdout",
     "output_type": "stream",
     "text": [
      "Collecting mnist\r\n"
     ]
    },
    {
     "name": "stdout",
     "output_type": "stream",
     "text": [
      "  Downloading mnist-0.2.2-py2.py3-none-any.whl (3.5 kB)\r\n"
     ]
    },
    {
     "name": "stdout",
     "output_type": "stream",
     "text": [
      "Requirement already satisfied: numpy in /opt/hostedtoolcache/Python/3.6.15/x64/lib/python3.6/site-packages (from mnist) (1.19.5)\r\n"
     ]
    },
    {
     "name": "stdout",
     "output_type": "stream",
     "text": [
      "Installing collected packages: mnist\r\n",
      "Successfully installed mnist-0.2.2\r\n"
     ]
    }
   ],
   "source": [
    "!pip install mnist"
   ]
  },
  {
   "cell_type": "markdown",
   "id": "69df9c9a",
   "metadata": {
    "papermill": {
     "duration": 0.025052,
     "end_time": "2021-12-26T10:08:19.893773",
     "exception": false,
     "start_time": "2021-12-26T10:08:19.868721",
     "status": "completed"
    },
    "tags": []
   },
   "source": [
    "## Preparing the Data"
   ]
  },
  {
   "cell_type": "code",
   "execution_count": 4,
   "id": "7f69d806",
   "metadata": {
    "execution": {
     "iopub.execute_input": "2021-12-26T10:08:19.954702Z",
     "iopub.status.busy": "2021-12-26T10:08:19.953453Z",
     "iopub.status.idle": "2021-12-26T10:08:19.964162Z",
     "shell.execute_reply": "2021-12-26T10:08:19.963744Z"
    },
    "papermill": {
     "duration": 0.045512,
     "end_time": "2021-12-26T10:08:19.964284",
     "exception": false,
     "start_time": "2021-12-26T10:08:19.918772",
     "status": "completed"
    },
    "tags": []
   },
   "outputs": [],
   "source": [
    "import mnist"
   ]
  },
  {
   "cell_type": "code",
   "execution_count": 5,
   "id": "a411e44f",
   "metadata": {
    "execution": {
     "iopub.execute_input": "2021-12-26T10:08:20.018160Z",
     "iopub.status.busy": "2021-12-26T10:08:20.017638Z",
     "iopub.status.idle": "2021-12-26T10:08:20.721578Z",
     "shell.execute_reply": "2021-12-26T10:08:20.721121Z"
    },
    "papermill": {
     "duration": 0.732185,
     "end_time": "2021-12-26T10:08:20.721704",
     "exception": false,
     "start_time": "2021-12-26T10:08:19.989519",
     "status": "completed"
    },
    "tags": []
   },
   "outputs": [],
   "source": [
    "train_images = mnist.train_images()\n",
    "train_labels = mnist.train_labels()"
   ]
  },
  {
   "cell_type": "code",
   "execution_count": 6,
   "id": "dceab3a5",
   "metadata": {
    "execution": {
     "iopub.execute_input": "2021-12-26T10:08:20.775824Z",
     "iopub.status.busy": "2021-12-26T10:08:20.775219Z",
     "iopub.status.idle": "2021-12-26T10:08:20.789336Z",
     "shell.execute_reply": "2021-12-26T10:08:20.788914Z"
    },
    "papermill": {
     "duration": 0.042602,
     "end_time": "2021-12-26T10:08:20.789454",
     "exception": false,
     "start_time": "2021-12-26T10:08:20.746852",
     "status": "completed"
    },
    "tags": []
   },
   "outputs": [
    {
     "data": {
      "text/plain": [
       "((60000, 28, 28), (60000,))"
      ]
     },
     "execution_count": 6,
     "metadata": {},
     "output_type": "execute_result"
    }
   ],
   "source": [
    "train_images.shape, train_labels.shape"
   ]
  },
  {
   "cell_type": "code",
   "execution_count": 7,
   "id": "f50dc2bb",
   "metadata": {
    "execution": {
     "iopub.execute_input": "2021-12-26T10:08:20.844217Z",
     "iopub.status.busy": "2021-12-26T10:08:20.843195Z",
     "iopub.status.idle": "2021-12-26T10:08:21.159426Z",
     "shell.execute_reply": "2021-12-26T10:08:21.158905Z"
    },
    "papermill": {
     "duration": 0.344852,
     "end_time": "2021-12-26T10:08:21.159568",
     "exception": false,
     "start_time": "2021-12-26T10:08:20.814716",
     "status": "completed"
    },
    "tags": []
   },
   "outputs": [],
   "source": [
    "test_images = mnist.test_images()\n",
    "test_labels = mnist.test_labels()"
   ]
  },
  {
   "cell_type": "code",
   "execution_count": 8,
   "id": "fc38cf1b",
   "metadata": {
    "execution": {
     "iopub.execute_input": "2021-12-26T10:08:21.217484Z",
     "iopub.status.busy": "2021-12-26T10:08:21.216862Z",
     "iopub.status.idle": "2021-12-26T10:08:21.228776Z",
     "shell.execute_reply": "2021-12-26T10:08:21.228300Z"
    },
    "papermill": {
     "duration": 0.043707,
     "end_time": "2021-12-26T10:08:21.228903",
     "exception": false,
     "start_time": "2021-12-26T10:08:21.185196",
     "status": "completed"
    },
    "tags": []
   },
   "outputs": [
    {
     "data": {
      "text/plain": [
       "((10000, 28, 28), (10000,))"
      ]
     },
     "execution_count": 8,
     "metadata": {},
     "output_type": "execute_result"
    }
   ],
   "source": [
    "test_images.shape, test_labels.shape"
   ]
  },
  {
   "cell_type": "code",
   "execution_count": 9,
   "id": "f9ed8fe0",
   "metadata": {
    "execution": {
     "iopub.execute_input": "2021-12-26T10:08:21.284813Z",
     "iopub.status.busy": "2021-12-26T10:08:21.284260Z",
     "iopub.status.idle": "2021-12-26T10:08:21.424491Z",
     "shell.execute_reply": "2021-12-26T10:08:21.424918Z"
    },
    "papermill": {
     "duration": 0.170597,
     "end_time": "2021-12-26T10:08:21.425070",
     "exception": false,
     "start_time": "2021-12-26T10:08:21.254473",
     "status": "completed"
    },
    "tags": []
   },
   "outputs": [
    {
     "name": "stdout",
     "output_type": "stream",
     "text": [
      "2\n"
     ]
    },
    {
     "data": {
      "text/plain": [
       "<matplotlib.image.AxesImage at 0x7f57ec5cbcc0>"
      ]
     },
     "execution_count": 9,
     "metadata": {},
     "output_type": "execute_result"
    },
    {
     "data": {
      "image/png": "[encoded data removed]",
      "text/plain": [
       "<Figure size 432x288 with 1 Axes>"
      ]
     },
     "metadata": {
      "needs_background": "light"
     },
     "output_type": "display_data"
    }
   ],
   "source": [
    "image_index = 7776 # You may select anything up to 60,000\n",
    "print(train_labels[image_index]) \n",
    "plt.imshow(train_images[image_index], cmap='Greys')"
   ]
  },
  {
   "cell_type": "markdown",
   "id": "a8d2388d",
   "metadata": {
    "papermill": {
     "duration": 0.026667,
     "end_time": "2021-12-26T10:08:21.478864",
     "exception": false,
     "start_time": "2021-12-26T10:08:21.452197",
     "status": "completed"
    },
    "tags": []
   },
   "source": [
    "## Filter data to get 3 and 8 out"
   ]
  },
  {
   "cell_type": "code",
   "execution_count": 10,
   "id": "776f7fc7",
   "metadata": {
    "execution": {
     "iopub.execute_input": "2021-12-26T10:08:21.537402Z",
     "iopub.status.busy": "2021-12-26T10:08:21.536786Z",
     "iopub.status.idle": "2021-12-26T10:08:21.554909Z",
     "shell.execute_reply": "2021-12-26T10:08:21.554445Z"
    },
    "papermill": {
     "duration": 0.049312,
     "end_time": "2021-12-26T10:08:21.555038",
     "exception": false,
     "start_time": "2021-12-26T10:08:21.505726",
     "status": "completed"
    },
    "tags": []
   },
   "outputs": [],
   "source": [
    "train_filter = np.where((train_labels == 3 ) | (train_labels == 8))\n",
    "test_filter = np.where((test_labels == 3) | (test_labels == 8))\n",
    "X_train, y_train = train_images[train_filter], train_labels[train_filter]\n",
    "X_test, y_test = test_images[test_filter], test_labels[test_filter]"
   ]
  },
  {
   "cell_type": "markdown",
   "id": "948f0b7e",
   "metadata": {
    "papermill": {
     "duration": 0.027592,
     "end_time": "2021-12-26T10:08:21.610086",
     "exception": false,
     "start_time": "2021-12-26T10:08:21.582494",
     "status": "completed"
    },
    "tags": []
   },
   "source": [
    "We normalize the pizel values in the 0 to 1 range"
   ]
  },
  {
   "cell_type": "code",
   "execution_count": 11,
   "id": "ee4c2166",
   "metadata": {
    "execution": {
     "iopub.execute_input": "2021-12-26T10:08:21.670096Z",
     "iopub.status.busy": "2021-12-26T10:08:21.669553Z",
     "iopub.status.idle": "2021-12-26T10:08:21.718335Z",
     "shell.execute_reply": "2021-12-26T10:08:21.718753Z"
    },
    "papermill": {
     "duration": 0.081652,
     "end_time": "2021-12-26T10:08:21.718906",
     "exception": false,
     "start_time": "2021-12-26T10:08:21.637254",
     "status": "completed"
    },
    "tags": []
   },
   "outputs": [],
   "source": [
    "X_train = X_train/255.\n",
    "X_test = X_test/255."
   ]
  },
  {
   "cell_type": "markdown",
   "id": "ddcf4fab",
   "metadata": {
    "papermill": {
     "duration": 0.02663,
     "end_time": "2021-12-26T10:08:21.772954",
     "exception": false,
     "start_time": "2021-12-26T10:08:21.746324",
     "status": "completed"
    },
    "tags": []
   },
   "source": [
    "And setup the labels as 1 (when the digit is 3) and 0 (when the digit is 8)"
   ]
  },
  {
   "cell_type": "code",
   "execution_count": 12,
   "id": "7dc908f2",
   "metadata": {
    "execution": {
     "iopub.execute_input": "2021-12-26T10:08:21.830623Z",
     "iopub.status.busy": "2021-12-26T10:08:21.830085Z",
     "iopub.status.idle": "2021-12-26T10:08:21.842037Z",
     "shell.execute_reply": "2021-12-26T10:08:21.841595Z"
    },
    "papermill": {
     "duration": 0.042523,
     "end_time": "2021-12-26T10:08:21.842167",
     "exception": false,
     "start_time": "2021-12-26T10:08:21.799644",
     "status": "completed"
    },
    "tags": []
   },
   "outputs": [],
   "source": [
    "y_train = 1*(y_train==3)\n",
    "y_test = 1*(y_test==3)"
   ]
  },
  {
   "cell_type": "code",
   "execution_count": 13,
   "id": "01e4e969",
   "metadata": {
    "execution": {
     "iopub.execute_input": "2021-12-26T10:08:21.901785Z",
     "iopub.status.busy": "2021-12-26T10:08:21.901269Z",
     "iopub.status.idle": "2021-12-26T10:08:21.913313Z",
     "shell.execute_reply": "2021-12-26T10:08:21.912806Z"
    },
    "papermill": {
     "duration": 0.044368,
     "end_time": "2021-12-26T10:08:21.913442",
     "exception": false,
     "start_time": "2021-12-26T10:08:21.869074",
     "status": "completed"
    },
    "tags": []
   },
   "outputs": [
    {
     "data": {
      "text/plain": [
       "((11982, 28, 28), (1984, 28, 28))"
      ]
     },
     "execution_count": 13,
     "metadata": {},
     "output_type": "execute_result"
    }
   ],
   "source": [
    "X_train.shape, X_test.shape"
   ]
  },
  {
   "cell_type": "markdown",
   "id": "5ccf3f85",
   "metadata": {
    "papermill": {
     "duration": 0.026825,
     "end_time": "2021-12-26T10:08:21.968049",
     "exception": false,
     "start_time": "2021-12-26T10:08:21.941224",
     "status": "completed"
    },
    "tags": []
   },
   "source": [
    "We reshape the data to flatten the image pixels into a set of features or co-variates:"
   ]
  },
  {
   "cell_type": "code",
   "execution_count": 14,
   "id": "5286a4a3",
   "metadata": {
    "execution": {
     "iopub.execute_input": "2021-12-26T10:08:22.025928Z",
     "iopub.status.busy": "2021-12-26T10:08:22.025397Z",
     "iopub.status.idle": "2021-12-26T10:08:22.039770Z",
     "shell.execute_reply": "2021-12-26T10:08:22.039349Z"
    },
    "papermill": {
     "duration": 0.044922,
     "end_time": "2021-12-26T10:08:22.039887",
     "exception": false,
     "start_time": "2021-12-26T10:08:21.994965",
     "status": "completed"
    },
    "tags": []
   },
   "outputs": [
    {
     "data": {
      "text/plain": [
       "((11982, 784), (1984, 784))"
      ]
     },
     "execution_count": 14,
     "metadata": {},
     "output_type": "execute_result"
    }
   ],
   "source": [
    "X_train = X_train.reshape(X_train.shape[0], -1)\n",
    "X_test = X_test.reshape(X_test.shape[0], -1)\n",
    "X_train.shape, X_test.shape"
   ]
  },
  {
   "cell_type": "code",
   "execution_count": 15,
   "id": "73c5f88a",
   "metadata": {
    "execution": {
     "iopub.execute_input": "2021-12-26T10:08:22.098923Z",
     "iopub.status.busy": "2021-12-26T10:08:22.098388Z",
     "iopub.status.idle": "2021-12-26T10:08:22.119568Z",
     "shell.execute_reply": "2021-12-26T10:08:22.119078Z"
    },
    "papermill": {
     "duration": 0.052498,
     "end_time": "2021-12-26T10:08:22.119709",
     "exception": false,
     "start_time": "2021-12-26T10:08:22.067211",
     "status": "completed"
    },
    "tags": []
   },
   "outputs": [],
   "source": [
    "#Impoting functions from 'Kudzu'\n",
    "from kudzu.model import Model\n",
    "from kudzu.train import Learner\n",
    "from kudzu.optim import GD\n",
    "from kudzu.data import Data, Sampler,Dataloader\n",
    "\n",
    "from kudzu.callbacks import AccCallback\n",
    "from kudzu.callbacks import ClfCallback\n",
    "\n",
    "from kudzu.loss import MSE\n",
    "\n",
    "from kudzu.layer import Sigmoid,Relu\n",
    "from kudzu.layer import Affine"
   ]
  },
  {
   "cell_type": "markdown",
   "id": "bc01172a",
   "metadata": {
    "papermill": {
     "duration": 0.027134,
     "end_time": "2021-12-26T10:08:22.175238",
     "exception": false,
     "start_time": "2021-12-26T10:08:22.148104",
     "status": "completed"
    },
    "tags": []
   },
   "source": [
    "### Let us create a `Config` class, to store important parameters. \n",
    "This class essentially plays the role of a dictionary."
   ]
  },
  {
   "cell_type": "code",
   "execution_count": 16,
   "id": "978281aa",
   "metadata": {
    "execution": {
     "iopub.execute_input": "2021-12-26T10:08:22.237830Z",
     "iopub.status.busy": "2021-12-26T10:08:22.237263Z",
     "iopub.status.idle": "2021-12-26T10:08:22.246981Z",
     "shell.execute_reply": "2021-12-26T10:08:22.246538Z"
    },
    "papermill": {
     "duration": 0.044839,
     "end_time": "2021-12-26T10:08:22.247105",
     "exception": false,
     "start_time": "2021-12-26T10:08:22.202266",
     "status": "completed"
    },
    "tags": []
   },
   "outputs": [],
   "source": [
    "class Config:\n",
    "    pass\n",
    "config = Config()\n",
    "config.lr = 0.001\n",
    "config.num_epochs = 250\n",
    "config.bs = 50"
   ]
  },
  {
   "cell_type": "markdown",
   "id": "1385fa59",
   "metadata": {
    "papermill": {
     "duration": 0.02708,
     "end_time": "2021-12-26T10:08:22.301611",
     "exception": false,
     "start_time": "2021-12-26T10:08:22.274531",
     "status": "completed"
    },
    "tags": []
   },
   "source": [
    "### Running Models with the Training data\n",
    "Details about the network layers:\n",
    "- A first affine layer has 784 inputs and does 100 affine transforms. These are followed by a Relu\n",
    "- A second affine layer has 100 inputs from the 100 activations of the past layer, and does 100 affine transforms. These are followed by a Relu\n",
    "- A third affine layer has 100 activations and does 2 affine transformations to create an embedding for visualization. There is no non-linearity here.\n",
    "- A final \"logistic regression\" which has an affine transform from 2 inputs to 1 output, which is squeezed through a sigmoid.\n"
   ]
  },
  {
   "cell_type": "code",
   "execution_count": 17,
   "id": "2b9c66db",
   "metadata": {
    "execution": {
     "iopub.execute_input": "2021-12-26T10:08:22.360104Z",
     "iopub.status.busy": "2021-12-26T10:08:22.359574Z",
     "iopub.status.idle": "2021-12-26T10:08:22.371792Z",
     "shell.execute_reply": "2021-12-26T10:08:22.371371Z"
    },
    "papermill": {
     "duration": 0.043125,
     "end_time": "2021-12-26T10:08:22.371912",
     "exception": false,
     "start_time": "2021-12-26T10:08:22.328787",
     "status": "completed"
    },
    "tags": []
   },
   "outputs": [],
   "source": [
    "data = Data(X_train, y_train.reshape(-1,1))\n",
    "sampler = Sampler(data, config.bs, shuffle=True)\n",
    "\n",
    "dl = Dataloader(data, sampler)\n",
    "\n",
    "opt = GD(config.lr)\n",
    "loss = MSE()"
   ]
  },
  {
   "cell_type": "code",
   "execution_count": 18,
   "id": "b275e4c2",
   "metadata": {
    "execution": {
     "iopub.execute_input": "2021-12-26T10:08:22.430840Z",
     "iopub.status.busy": "2021-12-26T10:08:22.430310Z",
     "iopub.status.idle": "2021-12-26T10:08:22.441993Z",
     "shell.execute_reply": "2021-12-26T10:08:22.441562Z"
    },
    "papermill": {
     "duration": 0.042927,
     "end_time": "2021-12-26T10:08:22.442116",
     "exception": false,
     "start_time": "2021-12-26T10:08:22.399189",
     "status": "completed"
    },
    "tags": []
   },
   "outputs": [],
   "source": [
    "training_data_x = X_train\n",
    "testing_data_x = X_test\n",
    "training_data_y = y_train.reshape(-1,1)\n",
    "testing_data_y = y_test.reshape(-1,1)"
   ]
  },
  {
   "cell_type": "code",
   "execution_count": 19,
   "id": "76951160",
   "metadata": {
    "execution": {
     "iopub.execute_input": "2021-12-26T10:08:22.501073Z",
     "iopub.status.busy": "2021-12-26T10:08:22.500496Z",
     "iopub.status.idle": "2021-12-26T10:08:22.536955Z",
     "shell.execute_reply": "2021-12-26T10:08:22.536509Z"
    },
    "papermill": {
     "duration": 0.067806,
     "end_time": "2021-12-26T10:08:22.537079",
     "exception": false,
     "start_time": "2021-12-26T10:08:22.469273",
     "status": "completed"
    },
    "tags": []
   },
   "outputs": [
    {
     "name": "stdout",
     "output_type": "stream",
     "text": [
      "xavier\n",
      "xavier\n",
      "xavier\n",
      "xavier\n",
      "xavier\n"
     ]
    }
   ],
   "source": [
    "layers = [Affine(\"first\", 784, 100), Relu(\"first\"), Affine(\"second\", 100, 100), Relu(\"second\"), Affine(\"third\", 100, 2), Affine(\"last\", 2, 1), Sigmoid(\"last\")]\n",
    "model_nn = Model(layers)\n",
    "model_lr = Model([Affine(\"logits\", 784, 1), Sigmoid(\"sigmoid\")])"
   ]
  },
  {
   "cell_type": "code",
   "execution_count": 20,
   "id": "6eede77a",
   "metadata": {
    "execution": {
     "iopub.execute_input": "2021-12-26T10:08:22.596555Z",
     "iopub.status.busy": "2021-12-26T10:08:22.596007Z",
     "iopub.status.idle": "2021-12-26T10:08:22.608097Z",
     "shell.execute_reply": "2021-12-26T10:08:22.607627Z"
    },
    "papermill": {
     "duration": 0.043546,
     "end_time": "2021-12-26T10:08:22.608222",
     "exception": false,
     "start_time": "2021-12-26T10:08:22.564676",
     "status": "completed"
    },
    "tags": []
   },
   "outputs": [],
   "source": [
    "nn_learner = Learner(loss, model_nn, opt, config.num_epochs)\n",
    "acc_nn = ClfCallback(nn_learner, config.bs, training_data_x , testing_data_x, training_data_y, testing_data_y)\n",
    "nn_learner.set_callbacks([acc_nn])"
   ]
  },
  {
   "cell_type": "code",
   "execution_count": 21,
   "id": "877b6cc7",
   "metadata": {
    "execution": {
     "iopub.execute_input": "2021-12-26T10:08:22.669884Z",
     "iopub.status.busy": "2021-12-26T10:08:22.669324Z",
     "iopub.status.idle": "2021-12-26T10:08:22.680207Z",
     "shell.execute_reply": "2021-12-26T10:08:22.679768Z"
    },
    "papermill": {
     "duration": 0.044607,
     "end_time": "2021-12-26T10:08:22.680336",
     "exception": false,
     "start_time": "2021-12-26T10:08:22.635729",
     "status": "completed"
    },
    "tags": []
   },
   "outputs": [],
   "source": [
    "lr_learner = Learner(loss, model_lr, opt, config.num_epochs)\n",
    "acc_lr = ClfCallback(lr_learner, config.bs, training_data_x , testing_data_x, training_data_y, testing_data_y)\n",
    "lr_learner.set_callbacks([acc_lr])"
   ]
  },
  {
   "cell_type": "code",
   "execution_count": 22,
   "id": "d9b133c3",
   "metadata": {
    "execution": {
     "iopub.execute_input": "2021-12-26T10:08:22.739795Z",
     "iopub.status.busy": "2021-12-26T10:08:22.739236Z",
     "iopub.status.idle": "2021-12-26T10:09:45.872753Z",
     "shell.execute_reply": "2021-12-26T10:09:45.873542Z"
    },
    "papermill": {
     "duration": 83.165641,
     "end_time": "2021-12-26T10:09:45.873696",
     "exception": false,
     "start_time": "2021-12-26T10:08:22.708055",
     "status": "completed"
    },
    "tags": []
   },
   "outputs": [
    {
     "name": "stdout",
     "output_type": "stream",
     "text": [
      "Epoch 0, Loss 0.2514\n",
      "Training Accuracy: 0.4866, Testing Accuracy: 0.4879\n",
      "\n"
     ]
    },
    {
     "name": "stdout",
     "output_type": "stream",
     "text": [
      "Epoch 10, Loss 0.2384\n",
      "Training Accuracy: 0.7535, Testing Accuracy: 0.7742\n",
      "\n"
     ]
    },
    {
     "name": "stdout",
     "output_type": "stream",
     "text": [
      "Epoch 20, Loss 0.19\n",
      "Training Accuracy: 0.8660, Testing Accuracy: 0.8821\n",
      "\n"
     ]
    },
    {
     "name": "stdout",
     "output_type": "stream",
     "text": [
      "Epoch 30, Loss 0.0993\n",
      "Training Accuracy: 0.9071, Testing Accuracy: 0.9153\n",
      "\n"
     ]
    },
    {
     "name": "stdout",
     "output_type": "stream",
     "text": [
      "Epoch 40, Loss 0.0638\n",
      "Training Accuracy: 0.9314, Testing Accuracy: 0.9410\n",
      "\n"
     ]
    },
    {
     "name": "stdout",
     "output_type": "stream",
     "text": [
      "Epoch 50, Loss 0.0496\n",
      "Training Accuracy: 0.9429, Testing Accuracy: 0.9511\n",
      "\n"
     ]
    },
    {
     "name": "stdout",
     "output_type": "stream",
     "text": [
      "Epoch 60, Loss 0.0422\n",
      "Training Accuracy: 0.9515, Testing Accuracy: 0.9602\n",
      "\n"
     ]
    },
    {
     "name": "stdout",
     "output_type": "stream",
     "text": [
      "Epoch 70, Loss 0.0378\n",
      "Training Accuracy: 0.9559, Testing Accuracy: 0.9627\n",
      "\n"
     ]
    },
    {
     "name": "stdout",
     "output_type": "stream",
     "text": [
      "Epoch 80, Loss 0.0348\n",
      "Training Accuracy: 0.9583, Testing Accuracy: 0.9662\n",
      "\n"
     ]
    },
    {
     "name": "stdout",
     "output_type": "stream",
     "text": [
      "Epoch 90, Loss 0.0326\n",
      "Training Accuracy: 0.9614, Testing Accuracy: 0.9688\n",
      "\n"
     ]
    },
    {
     "name": "stdout",
     "output_type": "stream",
     "text": [
      "Epoch 100, Loss 0.031\n",
      "Training Accuracy: 0.9635, Testing Accuracy: 0.9688\n",
      "\n"
     ]
    },
    {
     "name": "stdout",
     "output_type": "stream",
     "text": [
      "Epoch 110, Loss 0.0297\n",
      "Training Accuracy: 0.9650, Testing Accuracy: 0.9698\n",
      "\n"
     ]
    },
    {
     "name": "stdout",
     "output_type": "stream",
     "text": [
      "Epoch 120, Loss 0.0286\n",
      "Training Accuracy: 0.9663, Testing Accuracy: 0.9703\n",
      "\n"
     ]
    },
    {
     "name": "stdout",
     "output_type": "stream",
     "text": [
      "Epoch 130, Loss 0.0277\n",
      "Training Accuracy: 0.9671, Testing Accuracy: 0.9693\n",
      "\n"
     ]
    },
    {
     "name": "stdout",
     "output_type": "stream",
     "text": [
      "Epoch 140, Loss 0.0269\n",
      "Training Accuracy: 0.9685, Testing Accuracy: 0.9698\n",
      "\n"
     ]
    },
    {
     "name": "stdout",
     "output_type": "stream",
     "text": [
      "Epoch 150, Loss 0.0262\n",
      "Training Accuracy: 0.9688, Testing Accuracy: 0.9698\n",
      "\n"
     ]
    },
    {
     "name": "stdout",
     "output_type": "stream",
     "text": [
      "Epoch 160, Loss 0.0256\n",
      "Training Accuracy: 0.9694, Testing Accuracy: 0.9688\n",
      "\n"
     ]
    },
    {
     "name": "stdout",
     "output_type": "stream",
     "text": [
      "Epoch 170, Loss 0.025\n",
      "Training Accuracy: 0.9700, Testing Accuracy: 0.9688\n",
      "\n"
     ]
    },
    {
     "name": "stdout",
     "output_type": "stream",
     "text": [
      "Epoch 180, Loss 0.0245\n",
      "Training Accuracy: 0.9704, Testing Accuracy: 0.9693\n",
      "\n"
     ]
    },
    {
     "name": "stdout",
     "output_type": "stream",
     "text": [
      "Epoch 190, Loss 0.024\n",
      "Training Accuracy: 0.9710, Testing Accuracy: 0.9703\n",
      "\n"
     ]
    },
    {
     "name": "stdout",
     "output_type": "stream",
     "text": [
      "Epoch 200, Loss 0.0235\n",
      "Training Accuracy: 0.9714, Testing Accuracy: 0.9703\n",
      "\n"
     ]
    },
    {
     "name": "stdout",
     "output_type": "stream",
     "text": [
      "Epoch 210, Loss 0.0231\n",
      "Training Accuracy: 0.9720, Testing Accuracy: 0.9703\n",
      "\n"
     ]
    },
    {
     "name": "stdout",
     "output_type": "stream",
     "text": [
      "Epoch 220, Loss 0.0227\n",
      "Training Accuracy: 0.9730, Testing Accuracy: 0.9703\n",
      "\n"
     ]
    },
    {
     "name": "stdout",
     "output_type": "stream",
     "text": [
      "Epoch 230, Loss 0.0223\n",
      "Training Accuracy: 0.9734, Testing Accuracy: 0.9698\n",
      "\n"
     ]
    },
    {
     "name": "stdout",
     "output_type": "stream",
     "text": [
      "Epoch 240, Loss 0.0219\n",
      "Training Accuracy: 0.9743, Testing Accuracy: 0.9713\n",
      "\n"
     ]
    },
    {
     "data": {
      "text/plain": [
       "0.00939039334813952"
      ]
     },
     "execution_count": 22,
     "metadata": {},
     "output_type": "execute_result"
    }
   ],
   "source": [
    "nn_learner.train_loop(dl)"
   ]
  },
  {
   "cell_type": "code",
   "execution_count": 23,
   "id": "e0163366",
   "metadata": {
    "execution": {
     "iopub.execute_input": "2021-12-26T10:09:45.950572Z",
     "iopub.status.busy": "2021-12-26T10:09:45.950028Z",
     "iopub.status.idle": "2021-12-26T10:10:00.472521Z",
     "shell.execute_reply": "2021-12-26T10:10:00.472077Z"
    },
    "papermill": {
     "duration": 14.564229,
     "end_time": "2021-12-26T10:10:00.472648",
     "exception": false,
     "start_time": "2021-12-26T10:09:45.908419",
     "status": "completed"
    },
    "tags": []
   },
   "outputs": [
    {
     "name": "stdout",
     "output_type": "stream",
     "text": [
      "Epoch 0, Loss 0.191\n",
      "Training Accuracy: 0.8054, Testing Accuracy: 0.8090\n",
      "\n"
     ]
    },
    {
     "name": "stdout",
     "output_type": "stream",
     "text": [
      "Epoch 10, Loss 0.0989\n",
      "Training Accuracy: 0.9109, Testing Accuracy: 0.9153\n",
      "\n"
     ]
    },
    {
     "name": "stdout",
     "output_type": "stream",
     "text": [
      "Epoch 20, Loss 0.0775\n",
      "Training Accuracy: 0.9292, Testing Accuracy: 0.9410\n",
      "\n"
     ]
    },
    {
     "name": "stdout",
     "output_type": "stream",
     "text": [
      "Epoch 30, Loss 0.0672\n",
      "Training Accuracy: 0.9365, Testing Accuracy: 0.9471\n",
      "\n"
     ]
    },
    {
     "name": "stdout",
     "output_type": "stream",
     "text": [
      "Epoch 40, Loss 0.0608\n",
      "Training Accuracy: 0.9424, Testing Accuracy: 0.9516\n",
      "\n"
     ]
    },
    {
     "name": "stdout",
     "output_type": "stream",
     "text": [
      "Epoch 50, Loss 0.0565\n",
      "Training Accuracy: 0.9455, Testing Accuracy: 0.9536\n",
      "\n"
     ]
    },
    {
     "name": "stdout",
     "output_type": "stream",
     "text": [
      "Epoch 60, Loss 0.0533\n",
      "Training Accuracy: 0.9471, Testing Accuracy: 0.9577\n",
      "\n"
     ]
    },
    {
     "name": "stdout",
     "output_type": "stream",
     "text": [
      "Epoch 70, Loss 0.0508\n",
      "Training Accuracy: 0.9496, Testing Accuracy: 0.9592\n",
      "\n"
     ]
    },
    {
     "name": "stdout",
     "output_type": "stream",
     "text": [
      "Epoch 80, Loss 0.0488\n",
      "Training Accuracy: 0.9511, Testing Accuracy: 0.9597\n",
      "\n"
     ]
    },
    {
     "name": "stdout",
     "output_type": "stream",
     "text": [
      "Epoch 90, Loss 0.0472\n",
      "Training Accuracy: 0.9519, Testing Accuracy: 0.9602\n",
      "\n"
     ]
    },
    {
     "name": "stdout",
     "output_type": "stream",
     "text": [
      "Epoch 100, Loss 0.0458\n",
      "Training Accuracy: 0.9526, Testing Accuracy: 0.9617\n",
      "\n"
     ]
    },
    {
     "name": "stdout",
     "output_type": "stream",
     "text": [
      "Epoch 110, Loss 0.0446\n",
      "Training Accuracy: 0.9541, Testing Accuracy: 0.9627\n",
      "\n"
     ]
    },
    {
     "name": "stdout",
     "output_type": "stream",
     "text": [
      "Epoch 120, Loss 0.0436\n",
      "Training Accuracy: 0.9553, Testing Accuracy: 0.9632\n",
      "\n"
     ]
    },
    {
     "name": "stdout",
     "output_type": "stream",
     "text": [
      "Epoch 130, Loss 0.0426\n",
      "Training Accuracy: 0.9564, Testing Accuracy: 0.9642\n",
      "\n"
     ]
    },
    {
     "name": "stdout",
     "output_type": "stream",
     "text": [
      "Epoch 140, Loss 0.0418\n",
      "Training Accuracy: 0.9573, Testing Accuracy: 0.9642\n",
      "\n"
     ]
    },
    {
     "name": "stdout",
     "output_type": "stream",
     "text": [
      "Epoch 150, Loss 0.0411\n",
      "Training Accuracy: 0.9574, Testing Accuracy: 0.9657\n",
      "\n"
     ]
    },
    {
     "name": "stdout",
     "output_type": "stream",
     "text": [
      "Epoch 160, Loss 0.0404\n",
      "Training Accuracy: 0.9583, Testing Accuracy: 0.9657\n",
      "\n"
     ]
    },
    {
     "name": "stdout",
     "output_type": "stream",
     "text": [
      "Epoch 170, Loss 0.0398\n",
      "Training Accuracy: 0.9585, Testing Accuracy: 0.9667\n",
      "\n"
     ]
    },
    {
     "name": "stdout",
     "output_type": "stream",
     "text": [
      "Epoch 180, Loss 0.0393\n",
      "Training Accuracy: 0.9591, Testing Accuracy: 0.9662\n",
      "\n"
     ]
    },
    {
     "name": "stdout",
     "output_type": "stream",
     "text": [
      "Epoch 190, Loss 0.0388\n",
      "Training Accuracy: 0.9591, Testing Accuracy: 0.9657\n",
      "\n"
     ]
    },
    {
     "name": "stdout",
     "output_type": "stream",
     "text": [
      "Epoch 200, Loss 0.0383\n",
      "Training Accuracy: 0.9591, Testing Accuracy: 0.9657\n",
      "\n"
     ]
    },
    {
     "name": "stdout",
     "output_type": "stream",
     "text": [
      "Epoch 210, Loss 0.0379\n",
      "Training Accuracy: 0.9592, Testing Accuracy: 0.9662\n",
      "\n"
     ]
    },
    {
     "name": "stdout",
     "output_type": "stream",
     "text": [
      "Epoch 220, Loss 0.0374\n",
      "Training Accuracy: 0.9596, Testing Accuracy: 0.9662\n",
      "\n"
     ]
    },
    {
     "name": "stdout",
     "output_type": "stream",
     "text": [
      "Epoch 230, Loss 0.0371\n",
      "Training Accuracy: 0.9601, Testing Accuracy: 0.9667\n",
      "\n"
     ]
    },
    {
     "name": "stdout",
     "output_type": "stream",
     "text": [
      "Epoch 240, Loss 0.0367\n",
      "Training Accuracy: 0.9604, Testing Accuracy: 0.9667\n",
      "\n"
     ]
    },
    {
     "data": {
      "text/plain": [
       "0.033358403984063936"
      ]
     },
     "execution_count": 23,
     "metadata": {},
     "output_type": "execute_result"
    }
   ],
   "source": [
    "lr_learner.train_loop(dl)"
   ]
  },
  {
   "cell_type": "code",
   "execution_count": 24,
   "id": "ca410940",
   "metadata": {
    "execution": {
     "iopub.execute_input": "2021-12-26T10:10:00.570041Z",
     "iopub.status.busy": "2021-12-26T10:10:00.569248Z",
     "iopub.status.idle": "2021-12-26T10:10:00.783384Z",
     "shell.execute_reply": "2021-12-26T10:10:00.782927Z"
    },
    "papermill": {
     "duration": 0.2696,
     "end_time": "2021-12-26T10:10:00.783504",
     "exception": false,
     "start_time": "2021-12-26T10:10:00.513904",
     "status": "completed"
    },
    "tags": []
   },
   "outputs": [
    {
     "data": {
      "text/plain": [
       "<matplotlib.legend.Legend at 0x7f57e91fdc50>"
      ]
     },
     "execution_count": 24,
     "metadata": {},
     "output_type": "execute_result"
    },
    {
     "data": {
      "image/png": "[encoded data removed]",
      "text/plain": [
       "<Figure size 1080x720 with 1 Axes>"
      ]
     },
     "metadata": {
      "needs_background": "light"
     },
     "output_type": "display_data"
    }
   ],
   "source": [
    "#comparing the results of NN and LR\n",
    "plt.figure(figsize=(15,10))\n",
    "\n",
    "# Neural Network plots\n",
    "plt.plot(acc_nn.accuracies, 'r-', label = \"Training Accuracies - NN\")\n",
    "plt.plot(acc_nn.test_accuracies, 'g-', label = \"Testing Accuracies - NN\")\n",
    "\n",
    "# Logistic Regression plots\n",
    "plt.plot(acc_lr.accuracies, 'k-', label = \"Training Accuracies - LR\")\n",
    "plt.plot(acc_lr.test_accuracies, 'b-', label = \"Testing Accuracies - LR\")\n",
    "plt.legend()"
   ]
  },
  {
   "cell_type": "markdown",
   "id": "80dfb35c",
   "metadata": {
    "papermill": {
     "duration": 0.0421,
     "end_time": "2021-12-26T10:10:00.867966",
     "exception": false,
     "start_time": "2021-12-26T10:10:00.825866",
     "status": "completed"
    },
    "tags": []
   },
   "source": [
    "#### Plotting the outputs of this layer of the NN.\n"
   ]
  },
  {
   "cell_type": "code",
   "execution_count": 25,
   "id": "45eb2ff5",
   "metadata": {
    "execution": {
     "iopub.execute_input": "2021-12-26T10:10:00.955780Z",
     "iopub.status.busy": "2021-12-26T10:10:00.955250Z",
     "iopub.status.idle": "2021-12-26T10:10:00.975517Z",
     "shell.execute_reply": "2021-12-26T10:10:00.975954Z"
    },
    "papermill": {
     "duration": 0.06626,
     "end_time": "2021-12-26T10:10:00.976097",
     "exception": false,
     "start_time": "2021-12-26T10:10:00.909837",
     "status": "completed"
    },
    "tags": []
   },
   "outputs": [],
   "source": [
    "new_model = Model(layers[:-2])\n",
    "testing_plot = new_model(testing_data_x)"
   ]
  },
  {
   "cell_type": "code",
   "execution_count": 26,
   "id": "4c0a5485",
   "metadata": {
    "execution": {
     "iopub.execute_input": "2021-12-26T10:10:01.064837Z",
     "iopub.status.busy": "2021-12-26T10:10:01.064273Z",
     "iopub.status.idle": "2021-12-26T10:10:01.299499Z",
     "shell.execute_reply": "2021-12-26T10:10:01.299054Z"
    },
    "papermill": {
     "duration": 0.281281,
     "end_time": "2021-12-26T10:10:01.299623",
     "exception": false,
     "start_time": "2021-12-26T10:10:01.018342",
     "status": "completed"
    },
    "tags": []
   },
   "outputs": [
    {
     "data": {
      "text/plain": [
       "Text(0.5, 1.0, 'Outputs')"
      ]
     },
     "execution_count": 26,
     "metadata": {},
     "output_type": "execute_result"
    },
    {
     "data": {
      "image/png": "[encoded data removed]",
      "text/plain": [
       "<Figure size 576x504 with 1 Axes>"
      ]
     },
     "metadata": {
      "needs_background": "light"
     },
     "output_type": "display_data"
    }
   ],
   "source": [
    "# Plotting the scatter plot of points and color coding by class\n",
    "plt.figure(figsize=(8,7))\n",
    "plt.scatter(testing_plot[:,0], testing_plot[:,1], alpha = 0.1, c = y_test.ravel());\n",
    "plt.title('Outputs')"
   ]
  },
  {
   "cell_type": "markdown",
   "id": "a74fcf8f",
   "metadata": {
    "papermill": {
     "duration": 0.04557,
     "end_time": "2021-12-26T10:10:01.391145",
     "exception": false,
     "start_time": "2021-12-26T10:10:01.345575",
     "status": "completed"
    },
    "tags": []
   },
   "source": [
    "Probability contours"
   ]
  },
  {
   "cell_type": "code",
   "execution_count": 27,
   "id": "d0afc8e3",
   "metadata": {
    "execution": {
     "iopub.execute_input": "2021-12-26T10:10:01.494166Z",
     "iopub.status.busy": "2021-12-26T10:10:01.488338Z",
     "iopub.status.idle": "2021-12-26T10:10:01.501553Z",
     "shell.execute_reply": "2021-12-26T10:10:01.501963Z"
    },
    "papermill": {
     "duration": 0.0653,
     "end_time": "2021-12-26T10:10:01.502099",
     "exception": false,
     "start_time": "2021-12-26T10:10:01.436799",
     "status": "completed"
    },
    "tags": []
   },
   "outputs": [],
   "source": [
    "model_prob = Model(layers[-2:]) "
   ]
  },
  {
   "cell_type": "code",
   "execution_count": 28,
   "id": "9b96e238",
   "metadata": {
    "execution": {
     "iopub.execute_input": "2021-12-26T10:10:01.631188Z",
     "iopub.status.busy": "2021-12-26T10:10:01.625347Z",
     "iopub.status.idle": "2021-12-26T10:10:01.639324Z",
     "shell.execute_reply": "2021-12-26T10:10:01.640120Z"
    },
    "papermill": {
     "duration": 0.064613,
     "end_time": "2021-12-26T10:10:01.640269",
     "exception": false,
     "start_time": "2021-12-26T10:10:01.575656",
     "status": "completed"
    },
    "tags": []
   },
   "outputs": [],
   "source": [
    "#creating the x and y ranges according to the above generated plot.\n",
    "x_range = np.linspace(-4, 1, 100) \n",
    "y_range = np.linspace(-6, 6, 100) \n",
    "x_grid, y_grid = np.meshgrid(x_range, y_range) # x_grid and y_grig are of size 100 X 100\n",
    "\n",
    "# converting x_grid and y_grid to continuous arrays\n",
    "x_gridflat = np.ravel(x_grid)\n",
    "y_gridflat = np.ravel(y_grid)\n",
    "\n",
    "# The last layer of the current model takes two columns as input. Hence transpose of np.vstack() is required.\n",
    "X = np.vstack((x_gridflat, y_gridflat)).T\n",
    "\n",
    "prob_contour = model_prob(X).reshape(100,100) "
   ]
  },
  {
   "cell_type": "code",
   "execution_count": 29,
   "id": "da72499a",
   "metadata": {
    "execution": {
     "iopub.execute_input": "2021-12-26T10:10:01.741554Z",
     "iopub.status.busy": "2021-12-26T10:10:01.741024Z",
     "iopub.status.idle": "2021-12-26T10:10:01.983865Z",
     "shell.execute_reply": "2021-12-26T10:10:01.983423Z"
    },
    "papermill": {
     "duration": 0.297849,
     "end_time": "2021-12-26T10:10:01.984269",
     "exception": false,
     "start_time": "2021-12-26T10:10:01.686420",
     "status": "completed"
    },
    "tags": []
   },
   "outputs": [
    {
     "data": {
      "image/png": "[encoded data removed]",
      "text/plain": [
       "<Figure size 720x648 with 1 Axes>"
      ]
     },
     "metadata": {
      "needs_background": "light"
     },
     "output_type": "display_data"
    }
   ],
   "source": [
    "plt.figure(figsize=(10,9))\n",
    "plt.scatter(testing_plot[:,0], testing_plot[:,1], alpha = 0.1, c = y_test.ravel())\n",
    "contours = plt.contour(x_grid,y_grid,prob_contour)\n",
    "plt.title('Probability Contours')\n",
    "plt.clabel(contours, inline = True );"
   ]
  },
  {
   "cell_type": "code",
   "execution_count": null,
   "id": "e81b4ac7",
   "metadata": {
    "papermill": {
     "duration": 0.047802,
     "end_time": "2021-12-26T10:10:02.083328",
     "exception": false,
     "start_time": "2021-12-26T10:10:02.035526",
     "status": "completed"
    },
    "tags": []
   },
   "outputs": [],
   "source": []
  }
 ],
 "metadata": {
  "kernelspec": {
   "display_name": "Python 3",
   "language": "python",
   "name": "python3"
  },
  "language_info": {
   "codemirror_mode": {
    "name": "ipython",
    "version": 3
   },
   "file_extension": ".py",
   "mimetype": "text/x-python",
   "name": "python",
   "nbconvert_exporter": "python",
   "pygments_lexer": "ipython3",
   "version": "3.6.15"
  },
  "papermill": {
   "default_parameters": {},
   "duration": 106.295019,
   "end_time": "2021-12-26T10:10:02.539804",
   "environment_variables": {},
   "exception": null,
   "input_path": "2020-08-11-part2.ipynb",
   "output_path": "2020-08-11-part2.ipynb",
   "parameters": {},
   "start_time": "2021-12-26T10:08:16.244785",
   "version": "2.3.3"
  }
 },
 "nbformat": 4,
 "nbformat_minor": 5
}