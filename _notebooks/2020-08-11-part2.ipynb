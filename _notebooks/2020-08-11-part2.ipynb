{
 "cells": [
  {
   "cell_type": "markdown",
   "id": "98380cd3",
   "metadata": {
    "papermill": {
     "duration": 0.0301,
     "end_time": "2021-10-17T10:06:35.026628",
     "exception": false,
     "start_time": "2021-10-17T10:06:34.996528",
     "status": "completed"
    },
    "tags": []
   },
   "source": [
    "# Distinguish Your Own Digits (DYOD)"
   ]
  },
  {
   "cell_type": "markdown",
   "id": "ef31240d",
   "metadata": {
    "papermill": {
     "duration": 0.024623,
     "end_time": "2021-10-17T10:06:35.076689",
     "exception": false,
     "start_time": "2021-10-17T10:06:35.052066",
     "status": "completed"
    },
    "tags": []
   },
   "source": [
    "You are going to write a classifier that distinguishes between the number 3 and number 8."
   ]
  },
  {
   "cell_type": "code",
   "execution_count": 1,
   "id": "b15c8646",
   "metadata": {
    "execution": {
     "iopub.execute_input": "2021-10-17T10:06:35.139839Z",
     "iopub.status.busy": "2021-10-17T10:06:35.139183Z",
     "iopub.status.idle": "2021-10-17T10:06:35.149423Z",
     "shell.execute_reply": "2021-10-17T10:06:35.148928Z"
    },
    "papermill": {
     "duration": 0.047665,
     "end_time": "2021-10-17T10:06:35.149571",
     "exception": false,
     "start_time": "2021-10-17T10:06:35.101906",
     "status": "completed"
    },
    "tags": []
   },
   "outputs": [],
   "source": [
    "%load_ext autoreload\n",
    "%autoreload 2"
   ]
  },
  {
   "cell_type": "code",
   "execution_count": 2,
   "id": "22ef38dc",
   "metadata": {
    "execution": {
     "iopub.execute_input": "2021-10-17T10:06:35.208150Z",
     "iopub.status.busy": "2021-10-17T10:06:35.207552Z",
     "iopub.status.idle": "2021-10-17T10:06:35.681781Z",
     "shell.execute_reply": "2021-10-17T10:06:35.681275Z"
    },
    "papermill": {
     "duration": 0.507494,
     "end_time": "2021-10-17T10:06:35.681962",
     "exception": false,
     "start_time": "2021-10-17T10:06:35.174468",
     "status": "completed"
    },
    "tags": []
   },
   "outputs": [],
   "source": [
    "%matplotlib inline\n",
    "import numpy as np\n",
    "import matplotlib.pyplot as plt\n",
    "import pandas as pd"
   ]
  },
  {
   "cell_type": "markdown",
   "id": "ba036198",
   "metadata": {
    "papermill": {
     "duration": 0.025499,
     "end_time": "2021-10-17T10:06:35.732660",
     "exception": false,
     "start_time": "2021-10-17T10:06:35.707161",
     "status": "completed"
    },
    "tags": []
   },
   "source": [
    "From the command line run `pip install mnist`. This is a library that will help you bring down the mnist dataset. If you run this from a notebook, you need to put  `!pip install mnist` in a cell by itself."
   ]
  },
  {
   "cell_type": "code",
   "execution_count": 3,
   "id": "bb6ad8a1",
   "metadata": {
    "execution": {
     "iopub.execute_input": "2021-10-17T10:06:35.789901Z",
     "iopub.status.busy": "2021-10-17T10:06:35.789351Z",
     "iopub.status.idle": "2021-10-17T10:06:38.094038Z",
     "shell.execute_reply": "2021-10-17T10:06:38.093609Z"
    },
    "papermill": {
     "duration": 2.336932,
     "end_time": "2021-10-17T10:06:38.094164",
     "exception": false,
     "start_time": "2021-10-17T10:06:35.757232",
     "status": "completed"
    },
    "tags": []
   },
   "outputs": [
    {
     "name": "stdout",
     "output_type": "stream",
     "text": [
      "Collecting mnist\r\n",
      "  Downloading mnist-0.2.2-py2.py3-none-any.whl (3.5 kB)\r\n",
      "Requirement already satisfied: numpy in /opt/hostedtoolcache/Python/3.6.15/x64/lib/python3.6/site-packages (from mnist) (1.19.5)\r\n"
     ]
    },
    {
     "name": "stdout",
     "output_type": "stream",
     "text": [
      "Installing collected packages: mnist\r\n"
     ]
    },
    {
     "name": "stdout",
     "output_type": "stream",
     "text": [
      "Successfully installed mnist-0.2.2\r\n"
     ]
    },
    {
     "name": "stdout",
     "output_type": "stream",
     "text": [
      "\u001b[33mWARNING: You are using pip version 21.2.4; however, version 21.3 is available.\r\n",
      "You should consider upgrading via the '/opt/hostedtoolcache/Python/3.6.15/x64/bin/python -m pip install --upgrade pip' command.\u001b[0m\r\n"
     ]
    }
   ],
   "source": [
    "!pip install mnist"
   ]
  },
  {
   "cell_type": "markdown",
   "id": "69df9c9a",
   "metadata": {
    "papermill": {
     "duration": 0.021769,
     "end_time": "2021-10-17T10:06:38.138142",
     "exception": false,
     "start_time": "2021-10-17T10:06:38.116373",
     "status": "completed"
    },
    "tags": []
   },
   "source": [
    "## Preparing the Data"
   ]
  },
  {
   "cell_type": "code",
   "execution_count": 4,
   "id": "7f69d806",
   "metadata": {
    "execution": {
     "iopub.execute_input": "2021-10-17T10:06:38.195288Z",
     "iopub.status.busy": "2021-10-17T10:06:38.190916Z",
     "iopub.status.idle": "2021-10-17T10:06:38.201380Z",
     "shell.execute_reply": "2021-10-17T10:06:38.200987Z"
    },
    "papermill": {
     "duration": 0.041672,
     "end_time": "2021-10-17T10:06:38.201488",
     "exception": false,
     "start_time": "2021-10-17T10:06:38.159816",
     "status": "completed"
    },
    "tags": []
   },
   "outputs": [],
   "source": [
    "import mnist"
   ]
  },
  {
   "cell_type": "code",
   "execution_count": 5,
   "id": "a411e44f",
   "metadata": {
    "execution": {
     "iopub.execute_input": "2021-10-17T10:06:38.259775Z",
     "iopub.status.busy": "2021-10-17T10:06:38.259277Z",
     "iopub.status.idle": "2021-10-17T10:06:38.749186Z",
     "shell.execute_reply": "2021-10-17T10:06:38.748653Z"
    },
    "papermill": {
     "duration": 0.52573,
     "end_time": "2021-10-17T10:06:38.749333",
     "exception": false,
     "start_time": "2021-10-17T10:06:38.223603",
     "status": "completed"
    },
    "tags": []
   },
   "outputs": [],
   "source": [
    "train_images = mnist.train_images()\n",
    "train_labels = mnist.train_labels()"
   ]
  },
  {
   "cell_type": "code",
   "execution_count": 6,
   "id": "dceab3a5",
   "metadata": {
    "execution": {
     "iopub.execute_input": "2021-10-17T10:06:38.798688Z",
     "iopub.status.busy": "2021-10-17T10:06:38.798230Z",
     "iopub.status.idle": "2021-10-17T10:06:38.812439Z",
     "shell.execute_reply": "2021-10-17T10:06:38.812825Z"
    },
    "papermill": {
     "duration": 0.040168,
     "end_time": "2021-10-17T10:06:38.812948",
     "exception": false,
     "start_time": "2021-10-17T10:06:38.772780",
     "status": "completed"
    },
    "tags": []
   },
   "outputs": [
    {
     "data": {
      "text/plain": [
       "((60000, 28, 28), (60000,))"
      ]
     },
     "execution_count": 6,
     "metadata": {},
     "output_type": "execute_result"
    }
   ],
   "source": [
    "train_images.shape, train_labels.shape"
   ]
  },
  {
   "cell_type": "code",
   "execution_count": 7,
   "id": "f50dc2bb",
   "metadata": {
    "execution": {
     "iopub.execute_input": "2021-10-17T10:06:38.864595Z",
     "iopub.status.busy": "2021-10-17T10:06:38.864141Z",
     "iopub.status.idle": "2021-10-17T10:06:38.963359Z",
     "shell.execute_reply": "2021-10-17T10:06:38.962815Z"
    },
    "papermill": {
     "duration": 0.128475,
     "end_time": "2021-10-17T10:06:38.963513",
     "exception": false,
     "start_time": "2021-10-17T10:06:38.835038",
     "status": "completed"
    },
    "tags": []
   },
   "outputs": [],
   "source": [
    "test_images = mnist.test_images()\n",
    "test_labels = mnist.test_labels()"
   ]
  },
  {
   "cell_type": "code",
   "execution_count": 8,
   "id": "fc38cf1b",
   "metadata": {
    "execution": {
     "iopub.execute_input": "2021-10-17T10:06:39.013143Z",
     "iopub.status.busy": "2021-10-17T10:06:39.012674Z",
     "iopub.status.idle": "2021-10-17T10:06:39.026042Z",
     "shell.execute_reply": "2021-10-17T10:06:39.025666Z"
    },
    "papermill": {
     "duration": 0.039025,
     "end_time": "2021-10-17T10:06:39.026151",
     "exception": false,
     "start_time": "2021-10-17T10:06:38.987126",
     "status": "completed"
    },
    "tags": []
   },
   "outputs": [
    {
     "data": {
      "text/plain": [
       "((10000, 28, 28), (10000,))"
      ]
     },
     "execution_count": 8,
     "metadata": {},
     "output_type": "execute_result"
    }
   ],
   "source": [
    "test_images.shape, test_labels.shape"
   ]
  },
  {
   "cell_type": "code",
   "execution_count": 9,
   "id": "f9ed8fe0",
   "metadata": {
    "execution": {
     "iopub.execute_input": "2021-10-17T10:06:39.081556Z",
     "iopub.status.busy": "2021-10-17T10:06:39.081072Z",
     "iopub.status.idle": "2021-10-17T10:06:39.204388Z",
     "shell.execute_reply": "2021-10-17T10:06:39.204752Z"
    },
    "papermill": {
     "duration": 0.156441,
     "end_time": "2021-10-17T10:06:39.204890",
     "exception": false,
     "start_time": "2021-10-17T10:06:39.048449",
     "status": "completed"
    },
    "tags": []
   },
   "outputs": [
    {
     "name": "stdout",
     "output_type": "stream",
     "text": [
      "2\n"
     ]
    },
    {
     "data": {
      "text/plain": [
       "<matplotlib.image.AxesImage at 0x7feb52bcd9b0>"
      ]
     },
     "execution_count": 9,
     "metadata": {},
     "output_type": "execute_result"
    },
    {
     "data": {
      "image/png": "[encoded data removed]",
      "text/plain": [
       "<Figure size 432x288 with 1 Axes>"
      ]
     },
     "metadata": {
      "needs_background": "light"
     },
     "output_type": "display_data"
    }
   ],
   "source": [
    "image_index = 7776 # You may select anything up to 60,000\n",
    "print(train_labels[image_index]) \n",
    "plt.imshow(train_images[image_index], cmap='Greys')"
   ]
  },
  {
   "cell_type": "markdown",
   "id": "a8d2388d",
   "metadata": {
    "papermill": {
     "duration": 0.023962,
     "end_time": "2021-10-17T10:06:39.252371",
     "exception": false,
     "start_time": "2021-10-17T10:06:39.228409",
     "status": "completed"
    },
    "tags": []
   },
   "source": [
    "## Filter data to get 3 and 8 out"
   ]
  },
  {
   "cell_type": "code",
   "execution_count": 10,
   "id": "776f7fc7",
   "metadata": {
    "execution": {
     "iopub.execute_input": "2021-10-17T10:06:39.303151Z",
     "iopub.status.busy": "2021-10-17T10:06:39.302681Z",
     "iopub.status.idle": "2021-10-17T10:06:39.320274Z",
     "shell.execute_reply": "2021-10-17T10:06:39.319880Z"
    },
    "papermill": {
     "duration": 0.044795,
     "end_time": "2021-10-17T10:06:39.320390",
     "exception": false,
     "start_time": "2021-10-17T10:06:39.275595",
     "status": "completed"
    },
    "tags": []
   },
   "outputs": [],
   "source": [
    "train_filter = np.where((train_labels == 3 ) | (train_labels == 8))\n",
    "test_filter = np.where((test_labels == 3) | (test_labels == 8))\n",
    "X_train, y_train = train_images[train_filter], train_labels[train_filter]\n",
    "X_test, y_test = test_images[test_filter], test_labels[test_filter]"
   ]
  },
  {
   "cell_type": "markdown",
   "id": "948f0b7e",
   "metadata": {
    "papermill": {
     "duration": 0.023194,
     "end_time": "2021-10-17T10:06:39.366937",
     "exception": false,
     "start_time": "2021-10-17T10:06:39.343743",
     "status": "completed"
    },
    "tags": []
   },
   "source": [
    "We normalize the pizel values in the 0 to 1 range"
   ]
  },
  {
   "cell_type": "code",
   "execution_count": 11,
   "id": "ee4c2166",
   "metadata": {
    "execution": {
     "iopub.execute_input": "2021-10-17T10:06:39.421071Z",
     "iopub.status.busy": "2021-10-17T10:06:39.420581Z",
     "iopub.status.idle": "2021-10-17T10:06:39.465712Z",
     "shell.execute_reply": "2021-10-17T10:06:39.465210Z"
    },
    "papermill": {
     "duration": 0.075816,
     "end_time": "2021-10-17T10:06:39.465852",
     "exception": false,
     "start_time": "2021-10-17T10:06:39.390036",
     "status": "completed"
    },
    "tags": []
   },
   "outputs": [],
   "source": [
    "X_train = X_train/255.\n",
    "X_test = X_test/255."
   ]
  },
  {
   "cell_type": "markdown",
   "id": "ddcf4fab",
   "metadata": {
    "papermill": {
     "duration": 0.023268,
     "end_time": "2021-10-17T10:06:39.513432",
     "exception": false,
     "start_time": "2021-10-17T10:06:39.490164",
     "status": "completed"
    },
    "tags": []
   },
   "source": [
    "And setup the labels as 1 (when the digit is 3) and 0 (when the digit is 8)"
   ]
  },
  {
   "cell_type": "code",
   "execution_count": 12,
   "id": "7dc908f2",
   "metadata": {
    "execution": {
     "iopub.execute_input": "2021-10-17T10:06:39.563071Z",
     "iopub.status.busy": "2021-10-17T10:06:39.562620Z",
     "iopub.status.idle": "2021-10-17T10:06:39.575448Z",
     "shell.execute_reply": "2021-10-17T10:06:39.575056Z"
    },
    "papermill": {
     "duration": 0.039012,
     "end_time": "2021-10-17T10:06:39.575552",
     "exception": false,
     "start_time": "2021-10-17T10:06:39.536540",
     "status": "completed"
    },
    "tags": []
   },
   "outputs": [],
   "source": [
    "y_train = 1*(y_train==3)\n",
    "y_test = 1*(y_test==3)"
   ]
  },
  {
   "cell_type": "code",
   "execution_count": 13,
   "id": "01e4e969",
   "metadata": {
    "execution": {
     "iopub.execute_input": "2021-10-17T10:06:39.625231Z",
     "iopub.status.busy": "2021-10-17T10:06:39.624770Z",
     "iopub.status.idle": "2021-10-17T10:06:39.637637Z",
     "shell.execute_reply": "2021-10-17T10:06:39.637976Z"
    },
    "papermill": {
     "duration": 0.039424,
     "end_time": "2021-10-17T10:06:39.638100",
     "exception": false,
     "start_time": "2021-10-17T10:06:39.598676",
     "status": "completed"
    },
    "tags": []
   },
   "outputs": [
    {
     "data": {
      "text/plain": [
       "((11982, 28, 28), (1984, 28, 28))"
      ]
     },
     "execution_count": 13,
     "metadata": {},
     "output_type": "execute_result"
    }
   ],
   "source": [
    "X_train.shape, X_test.shape"
   ]
  },
  {
   "cell_type": "markdown",
   "id": "5ccf3f85",
   "metadata": {
    "papermill": {
     "duration": 0.023388,
     "end_time": "2021-10-17T10:06:39.684841",
     "exception": false,
     "start_time": "2021-10-17T10:06:39.661453",
     "status": "completed"
    },
    "tags": []
   },
   "source": [
    "We reshape the data to flatten the image pixels into a set of features or co-variates:"
   ]
  },
  {
   "cell_type": "code",
   "execution_count": 14,
   "id": "5286a4a3",
   "metadata": {
    "execution": {
     "iopub.execute_input": "2021-10-17T10:06:39.736491Z",
     "iopub.status.busy": "2021-10-17T10:06:39.736006Z",
     "iopub.status.idle": "2021-10-17T10:06:39.749446Z",
     "shell.execute_reply": "2021-10-17T10:06:39.749078Z"
    },
    "papermill": {
     "duration": 0.041205,
     "end_time": "2021-10-17T10:06:39.749556",
     "exception": false,
     "start_time": "2021-10-17T10:06:39.708351",
     "status": "completed"
    },
    "tags": []
   },
   "outputs": [
    {
     "data": {
      "text/plain": [
       "((11982, 784), (1984, 784))"
      ]
     },
     "execution_count": 14,
     "metadata": {},
     "output_type": "execute_result"
    }
   ],
   "source": [
    "X_train = X_train.reshape(X_train.shape[0], -1)\n",
    "X_test = X_test.reshape(X_test.shape[0], -1)\n",
    "X_train.shape, X_test.shape"
   ]
  },
  {
   "cell_type": "code",
   "execution_count": 15,
   "id": "73c5f88a",
   "metadata": {
    "execution": {
     "iopub.execute_input": "2021-10-17T10:06:39.816473Z",
     "iopub.status.busy": "2021-10-17T10:06:39.815254Z",
     "iopub.status.idle": "2021-10-17T10:06:39.823706Z",
     "shell.execute_reply": "2021-10-17T10:06:39.824115Z"
    },
    "papermill": {
     "duration": 0.050931,
     "end_time": "2021-10-17T10:06:39.824249",
     "exception": false,
     "start_time": "2021-10-17T10:06:39.773318",
     "status": "completed"
    },
    "tags": []
   },
   "outputs": [],
   "source": [
    "#Impoting functions from 'Kudzu'\n",
    "from kudzu.model import Model\n",
    "from kudzu.train import Learner\n",
    "from kudzu.optim import GD\n",
    "from kudzu.data import Data, Sampler,Dataloader\n",
    "\n",
    "from kudzu.callbacks import AccCallback\n",
    "from kudzu.callbacks import ClfCallback\n",
    "\n",
    "from kudzu.loss import MSE\n",
    "\n",
    "from kudzu.layer import Sigmoid,Relu\n",
    "from kudzu.layer import Affine"
   ]
  },
  {
   "cell_type": "markdown",
   "id": "bc01172a",
   "metadata": {
    "papermill": {
     "duration": 0.023596,
     "end_time": "2021-10-17T10:06:39.871589",
     "exception": false,
     "start_time": "2021-10-17T10:06:39.847993",
     "status": "completed"
    },
    "tags": []
   },
   "source": [
    "### Let us create a `Config` class, to store important parameters. \n",
    "This class essentially plays the role of a dictionary."
   ]
  },
  {
   "cell_type": "code",
   "execution_count": 16,
   "id": "978281aa",
   "metadata": {
    "execution": {
     "iopub.execute_input": "2021-10-17T10:06:39.933377Z",
     "iopub.status.busy": "2021-10-17T10:06:39.922209Z",
     "iopub.status.idle": "2021-10-17T10:06:39.937681Z",
     "shell.execute_reply": "2021-10-17T10:06:39.937293Z"
    },
    "papermill": {
     "duration": 0.042767,
     "end_time": "2021-10-17T10:06:39.937786",
     "exception": false,
     "start_time": "2021-10-17T10:06:39.895019",
     "status": "completed"
    },
    "tags": []
   },
   "outputs": [],
   "source": [
    "class Config:\n",
    "    pass\n",
    "config = Config()\n",
    "config.lr = 0.001\n",
    "config.num_epochs = 250\n",
    "config.bs = 50"
   ]
  },
  {
   "cell_type": "markdown",
   "id": "1385fa59",
   "metadata": {
    "papermill": {
     "duration": 0.023666,
     "end_time": "2021-10-17T10:06:39.985288",
     "exception": false,
     "start_time": "2021-10-17T10:06:39.961622",
     "status": "completed"
    },
    "tags": []
   },
   "source": [
    "### Running Models with the Training data\n",
    "Details about the network layers:\n",
    "- A first affine layer has 784 inputs and does 100 affine transforms. These are followed by a Relu\n",
    "- A second affine layer has 100 inputs from the 100 activations of the past layer, and does 100 affine transforms. These are followed by a Relu\n",
    "- A third affine layer has 100 activations and does 2 affine transformations to create an embedding for visualization. There is no non-linearity here.\n",
    "- A final \"logistic regression\" which has an affine transform from 2 inputs to 1 output, which is squeezed through a sigmoid.\n"
   ]
  },
  {
   "cell_type": "code",
   "execution_count": 17,
   "id": "2b9c66db",
   "metadata": {
    "execution": {
     "iopub.execute_input": "2021-10-17T10:06:40.036418Z",
     "iopub.status.busy": "2021-10-17T10:06:40.035934Z",
     "iopub.status.idle": "2021-10-17T10:06:40.048196Z",
     "shell.execute_reply": "2021-10-17T10:06:40.047816Z"
    },
    "papermill": {
     "duration": 0.039423,
     "end_time": "2021-10-17T10:06:40.048303",
     "exception": false,
     "start_time": "2021-10-17T10:06:40.008880",
     "status": "completed"
    },
    "tags": []
   },
   "outputs": [],
   "source": [
    "data = Data(X_train, y_train.reshape(-1,1))\n",
    "sampler = Sampler(data, config.bs, shuffle=True)\n",
    "\n",
    "dl = Dataloader(data, sampler)\n",
    "\n",
    "opt = GD(config.lr)\n",
    "loss = MSE()"
   ]
  },
  {
   "cell_type": "code",
   "execution_count": 18,
   "id": "b275e4c2",
   "metadata": {
    "execution": {
     "iopub.execute_input": "2021-10-17T10:06:40.102649Z",
     "iopub.status.busy": "2021-10-17T10:06:40.102180Z",
     "iopub.status.idle": "2021-10-17T10:06:40.111571Z",
     "shell.execute_reply": "2021-10-17T10:06:40.111202Z"
    },
    "papermill": {
     "duration": 0.039547,
     "end_time": "2021-10-17T10:06:40.111677",
     "exception": false,
     "start_time": "2021-10-17T10:06:40.072130",
     "status": "completed"
    },
    "tags": []
   },
   "outputs": [],
   "source": [
    "training_data_x = X_train\n",
    "testing_data_x = X_test\n",
    "training_data_y = y_train.reshape(-1,1)\n",
    "testing_data_y = y_test.reshape(-1,1)"
   ]
  },
  {
   "cell_type": "code",
   "execution_count": 19,
   "id": "76951160",
   "metadata": {
    "execution": {
     "iopub.execute_input": "2021-10-17T10:06:40.163167Z",
     "iopub.status.busy": "2021-10-17T10:06:40.162705Z",
     "iopub.status.idle": "2021-10-17T10:06:40.177138Z",
     "shell.execute_reply": "2021-10-17T10:06:40.176755Z"
    },
    "papermill": {
     "duration": 0.042022,
     "end_time": "2021-10-17T10:06:40.177235",
     "exception": false,
     "start_time": "2021-10-17T10:06:40.135213",
     "status": "completed"
    },
    "tags": []
   },
   "outputs": [
    {
     "name": "stdout",
     "output_type": "stream",
     "text": [
      "xavier\n",
      "xavier\n",
      "xavier\n",
      "xavier\n",
      "xavier\n"
     ]
    }
   ],
   "source": [
    "layers = [Affine(\"first\", 784, 100), Relu(\"first\"), Affine(\"second\", 100, 100), Relu(\"second\"), Affine(\"third\", 100, 2), Affine(\"last\", 2, 1), Sigmoid(\"last\")]\n",
    "model_nn = Model(layers)\n",
    "model_lr = Model([Affine(\"logits\", 784, 1), Sigmoid(\"sigmoid\")])"
   ]
  },
  {
   "cell_type": "code",
   "execution_count": 20,
   "id": "6eede77a",
   "metadata": {
    "execution": {
     "iopub.execute_input": "2021-10-17T10:06:40.231962Z",
     "iopub.status.busy": "2021-10-17T10:06:40.231477Z",
     "iopub.status.idle": "2021-10-17T10:06:40.241326Z",
     "shell.execute_reply": "2021-10-17T10:06:40.240960Z"
    },
    "papermill": {
     "duration": 0.040228,
     "end_time": "2021-10-17T10:06:40.241432",
     "exception": false,
     "start_time": "2021-10-17T10:06:40.201204",
     "status": "completed"
    },
    "tags": []
   },
   "outputs": [],
   "source": [
    "nn_learner = Learner(loss, model_nn, opt, config.num_epochs)\n",
    "acc_nn = ClfCallback(nn_learner, config.bs, training_data_x , testing_data_x, training_data_y, testing_data_y)\n",
    "nn_learner.set_callbacks([acc_nn])"
   ]
  },
  {
   "cell_type": "code",
   "execution_count": 21,
   "id": "877b6cc7",
   "metadata": {
    "execution": {
     "iopub.execute_input": "2021-10-17T10:06:40.295959Z",
     "iopub.status.busy": "2021-10-17T10:06:40.295435Z",
     "iopub.status.idle": "2021-10-17T10:06:40.305107Z",
     "shell.execute_reply": "2021-10-17T10:06:40.305449Z"
    },
    "papermill": {
     "duration": 0.039563,
     "end_time": "2021-10-17T10:06:40.305576",
     "exception": false,
     "start_time": "2021-10-17T10:06:40.266013",
     "status": "completed"
    },
    "tags": []
   },
   "outputs": [],
   "source": [
    "lr_learner = Learner(loss, model_lr, opt, config.num_epochs)\n",
    "acc_lr = ClfCallback(lr_learner, config.bs, training_data_x , testing_data_x, training_data_y, testing_data_y)\n",
    "lr_learner.set_callbacks([acc_lr])"
   ]
  },
  {
   "cell_type": "code",
   "execution_count": 22,
   "id": "d9b133c3",
   "metadata": {
    "execution": {
     "iopub.execute_input": "2021-10-17T10:06:40.357271Z",
     "iopub.status.busy": "2021-10-17T10:06:40.356815Z",
     "iopub.status.idle": "2021-10-17T10:08:00.066439Z",
     "shell.execute_reply": "2021-10-17T10:08:00.067136Z"
    },
    "papermill": {
     "duration": 79.737624,
     "end_time": "2021-10-17T10:08:00.067279",
     "exception": false,
     "start_time": "2021-10-17T10:06:40.329655",
     "status": "completed"
    },
    "tags": []
   },
   "outputs": [
    {
     "name": "stdout",
     "output_type": "stream",
     "text": [
      "Epoch 0, Loss 0.2636\n",
      "Training Accuracy: 0.5112, Testing Accuracy: 0.4950\n",
      "\n"
     ]
    },
    {
     "name": "stdout",
     "output_type": "stream",
     "text": [
      "Epoch 10, Loss 0.104\n",
      "Training Accuracy: 0.9108, Testing Accuracy: 0.9309\n",
      "\n"
     ]
    },
    {
     "name": "stdout",
     "output_type": "stream",
     "text": [
      "Epoch 20, Loss 0.0614\n",
      "Training Accuracy: 0.9383, Testing Accuracy: 0.9516\n",
      "\n"
     ]
    },
    {
     "name": "stdout",
     "output_type": "stream",
     "text": [
      "Epoch 30, Loss 0.0474\n",
      "Training Accuracy: 0.9479, Testing Accuracy: 0.9637\n",
      "\n"
     ]
    },
    {
     "name": "stdout",
     "output_type": "stream",
     "text": [
      "Epoch 40, Loss 0.0406\n",
      "Training Accuracy: 0.9533, Testing Accuracy: 0.9667\n",
      "\n"
     ]
    },
    {
     "name": "stdout",
     "output_type": "stream",
     "text": [
      "Epoch 50, Loss 0.0365\n",
      "Training Accuracy: 0.9576, Testing Accuracy: 0.9693\n",
      "\n"
     ]
    },
    {
     "name": "stdout",
     "output_type": "stream",
     "text": [
      "Epoch 60, Loss 0.0337\n",
      "Training Accuracy: 0.9610, Testing Accuracy: 0.9682\n",
      "\n"
     ]
    },
    {
     "name": "stdout",
     "output_type": "stream",
     "text": [
      "Epoch 70, Loss 0.0317\n",
      "Training Accuracy: 0.9637, Testing Accuracy: 0.9682\n",
      "\n"
     ]
    },
    {
     "name": "stdout",
     "output_type": "stream",
     "text": [
      "Epoch 80, Loss 0.0301\n",
      "Training Accuracy: 0.9654, Testing Accuracy: 0.9672\n",
      "\n"
     ]
    },
    {
     "name": "stdout",
     "output_type": "stream",
     "text": [
      "Epoch 90, Loss 0.0288\n",
      "Training Accuracy: 0.9675, Testing Accuracy: 0.9667\n",
      "\n"
     ]
    },
    {
     "name": "stdout",
     "output_type": "stream",
     "text": [
      "Epoch 100, Loss 0.0277\n",
      "Training Accuracy: 0.9685, Testing Accuracy: 0.9667\n",
      "\n"
     ]
    },
    {
     "name": "stdout",
     "output_type": "stream",
     "text": [
      "Epoch 110, Loss 0.0268\n",
      "Training Accuracy: 0.9694, Testing Accuracy: 0.9672\n",
      "\n"
     ]
    },
    {
     "name": "stdout",
     "output_type": "stream",
     "text": [
      "Epoch 120, Loss 0.0259\n",
      "Training Accuracy: 0.9703, Testing Accuracy: 0.9672\n",
      "\n"
     ]
    },
    {
     "name": "stdout",
     "output_type": "stream",
     "text": [
      "Epoch 130, Loss 0.0252\n",
      "Training Accuracy: 0.9710, Testing Accuracy: 0.9682\n",
      "\n"
     ]
    },
    {
     "name": "stdout",
     "output_type": "stream",
     "text": [
      "Epoch 140, Loss 0.0245\n",
      "Training Accuracy: 0.9722, Testing Accuracy: 0.9688\n",
      "\n"
     ]
    },
    {
     "name": "stdout",
     "output_type": "stream",
     "text": [
      "Epoch 150, Loss 0.0239\n",
      "Training Accuracy: 0.9728, Testing Accuracy: 0.9698\n",
      "\n"
     ]
    },
    {
     "name": "stdout",
     "output_type": "stream",
     "text": [
      "Epoch 160, Loss 0.0233\n",
      "Training Accuracy: 0.9734, Testing Accuracy: 0.9708\n",
      "\n"
     ]
    },
    {
     "name": "stdout",
     "output_type": "stream",
     "text": [
      "Epoch 170, Loss 0.0228\n",
      "Training Accuracy: 0.9737, Testing Accuracy: 0.9703\n",
      "\n"
     ]
    },
    {
     "name": "stdout",
     "output_type": "stream",
     "text": [
      "Epoch 180, Loss 0.0223\n",
      "Training Accuracy: 0.9742, Testing Accuracy: 0.9708\n",
      "\n"
     ]
    },
    {
     "name": "stdout",
     "output_type": "stream",
     "text": [
      "Epoch 190, Loss 0.0218\n",
      "Training Accuracy: 0.9750, Testing Accuracy: 0.9703\n",
      "\n"
     ]
    },
    {
     "name": "stdout",
     "output_type": "stream",
     "text": [
      "Epoch 200, Loss 0.0214\n",
      "Training Accuracy: 0.9753, Testing Accuracy: 0.9703\n",
      "\n"
     ]
    },
    {
     "name": "stdout",
     "output_type": "stream",
     "text": [
      "Epoch 210, Loss 0.021\n",
      "Training Accuracy: 0.9760, Testing Accuracy: 0.9708\n",
      "\n"
     ]
    },
    {
     "name": "stdout",
     "output_type": "stream",
     "text": [
      "Epoch 220, Loss 0.0206\n",
      "Training Accuracy: 0.9764, Testing Accuracy: 0.9713\n",
      "\n"
     ]
    },
    {
     "name": "stdout",
     "output_type": "stream",
     "text": [
      "Epoch 230, Loss 0.0202\n",
      "Training Accuracy: 0.9766, Testing Accuracy: 0.9713\n",
      "\n"
     ]
    },
    {
     "name": "stdout",
     "output_type": "stream",
     "text": [
      "Epoch 240, Loss 0.0198\n",
      "Training Accuracy: 0.9768, Testing Accuracy: 0.9713\n",
      "\n"
     ]
    },
    {
     "data": {
      "text/plain": [
       "0.007372053549895992"
      ]
     },
     "execution_count": 22,
     "metadata": {},
     "output_type": "execute_result"
    }
   ],
   "source": [
    "nn_learner.train_loop(dl)"
   ]
  },
  {
   "cell_type": "code",
   "execution_count": 23,
   "id": "e0163366",
   "metadata": {
    "execution": {
     "iopub.execute_input": "2021-10-17T10:08:00.139505Z",
     "iopub.status.busy": "2021-10-17T10:08:00.139006Z",
     "iopub.status.idle": "2021-10-17T10:08:14.513633Z",
     "shell.execute_reply": "2021-10-17T10:08:14.514304Z"
    },
    "papermill": {
     "duration": 14.416776,
     "end_time": "2021-10-17T10:08:14.514451",
     "exception": false,
     "start_time": "2021-10-17T10:08:00.097675",
     "status": "completed"
    },
    "tags": []
   },
   "outputs": [
    {
     "name": "stdout",
     "output_type": "stream",
     "text": [
      "Epoch 0, Loss 0.2468\n",
      "Training Accuracy: 0.6636, Testing Accuracy: 0.7061\n",
      "\n"
     ]
    },
    {
     "name": "stdout",
     "output_type": "stream",
     "text": [
      "Epoch 10, Loss 0.101\n",
      "Training Accuracy: 0.9155, Testing Accuracy: 0.9269\n",
      "\n"
     ]
    },
    {
     "name": "stdout",
     "output_type": "stream",
     "text": [
      "Epoch 20, Loss 0.0784\n",
      "Training Accuracy: 0.9277, Testing Accuracy: 0.9425\n",
      "\n"
     ]
    },
    {
     "name": "stdout",
     "output_type": "stream",
     "text": [
      "Epoch 30, Loss 0.068\n",
      "Training Accuracy: 0.9360, Testing Accuracy: 0.9486\n",
      "\n"
     ]
    },
    {
     "name": "stdout",
     "output_type": "stream",
     "text": [
      "Epoch 40, Loss 0.0616\n",
      "Training Accuracy: 0.9402, Testing Accuracy: 0.9531\n",
      "\n"
     ]
    },
    {
     "name": "stdout",
     "output_type": "stream",
     "text": [
      "Epoch 50, Loss 0.0573\n",
      "Training Accuracy: 0.9434, Testing Accuracy: 0.9531\n",
      "\n"
     ]
    },
    {
     "name": "stdout",
     "output_type": "stream",
     "text": [
      "Epoch 60, Loss 0.0541\n",
      "Training Accuracy: 0.9468, Testing Accuracy: 0.9546\n",
      "\n"
     ]
    },
    {
     "name": "stdout",
     "output_type": "stream",
     "text": [
      "Epoch 70, Loss 0.0516\n",
      "Training Accuracy: 0.9491, Testing Accuracy: 0.9567\n",
      "\n"
     ]
    },
    {
     "name": "stdout",
     "output_type": "stream",
     "text": [
      "Epoch 80, Loss 0.0495\n",
      "Training Accuracy: 0.9505, Testing Accuracy: 0.9572\n",
      "\n"
     ]
    },
    {
     "name": "stdout",
     "output_type": "stream",
     "text": [
      "Epoch 90, Loss 0.0479\n",
      "Training Accuracy: 0.9519, Testing Accuracy: 0.9592\n",
      "\n"
     ]
    },
    {
     "name": "stdout",
     "output_type": "stream",
     "text": [
      "Epoch 100, Loss 0.0464\n",
      "Training Accuracy: 0.9529, Testing Accuracy: 0.9607\n",
      "\n"
     ]
    },
    {
     "name": "stdout",
     "output_type": "stream",
     "text": [
      "Epoch 110, Loss 0.0452\n",
      "Training Accuracy: 0.9536, Testing Accuracy: 0.9612\n",
      "\n"
     ]
    },
    {
     "name": "stdout",
     "output_type": "stream",
     "text": [
      "Epoch 120, Loss 0.0442\n",
      "Training Accuracy: 0.9543, Testing Accuracy: 0.9627\n",
      "\n"
     ]
    },
    {
     "name": "stdout",
     "output_type": "stream",
     "text": [
      "Epoch 130, Loss 0.0432\n",
      "Training Accuracy: 0.9546, Testing Accuracy: 0.9622\n",
      "\n"
     ]
    },
    {
     "name": "stdout",
     "output_type": "stream",
     "text": [
      "Epoch 140, Loss 0.0424\n",
      "Training Accuracy: 0.9556, Testing Accuracy: 0.9627\n",
      "\n"
     ]
    },
    {
     "name": "stdout",
     "output_type": "stream",
     "text": [
      "Epoch 150, Loss 0.0416\n",
      "Training Accuracy: 0.9564, Testing Accuracy: 0.9632\n",
      "\n"
     ]
    },
    {
     "name": "stdout",
     "output_type": "stream",
     "text": [
      "Epoch 160, Loss 0.0409\n",
      "Training Accuracy: 0.9569, Testing Accuracy: 0.9632\n",
      "\n"
     ]
    },
    {
     "name": "stdout",
     "output_type": "stream",
     "text": [
      "Epoch 170, Loss 0.0403\n",
      "Training Accuracy: 0.9572, Testing Accuracy: 0.9637\n",
      "\n"
     ]
    },
    {
     "name": "stdout",
     "output_type": "stream",
     "text": [
      "Epoch 180, Loss 0.0398\n",
      "Training Accuracy: 0.9582, Testing Accuracy: 0.9637\n",
      "\n"
     ]
    },
    {
     "name": "stdout",
     "output_type": "stream",
     "text": [
      "Epoch 190, Loss 0.0392\n",
      "Training Accuracy: 0.9584, Testing Accuracy: 0.9647\n",
      "\n"
     ]
    },
    {
     "name": "stdout",
     "output_type": "stream",
     "text": [
      "Epoch 200, Loss 0.0387\n",
      "Training Accuracy: 0.9589, Testing Accuracy: 0.9652\n",
      "\n"
     ]
    },
    {
     "name": "stdout",
     "output_type": "stream",
     "text": [
      "Epoch 210, Loss 0.0383\n",
      "Training Accuracy: 0.9589, Testing Accuracy: 0.9652\n",
      "\n"
     ]
    },
    {
     "name": "stdout",
     "output_type": "stream",
     "text": [
      "Epoch 220, Loss 0.0379\n",
      "Training Accuracy: 0.9594, Testing Accuracy: 0.9662\n",
      "\n"
     ]
    },
    {
     "name": "stdout",
     "output_type": "stream",
     "text": [
      "Epoch 230, Loss 0.0375\n",
      "Training Accuracy: 0.9594, Testing Accuracy: 0.9662\n",
      "\n"
     ]
    },
    {
     "name": "stdout",
     "output_type": "stream",
     "text": [
      "Epoch 240, Loss 0.0371\n",
      "Training Accuracy: 0.9599, Testing Accuracy: 0.9672\n",
      "\n"
     ]
    },
    {
     "data": {
      "text/plain": [
       "0.029965449620206887"
      ]
     },
     "execution_count": 23,
     "metadata": {},
     "output_type": "execute_result"
    }
   ],
   "source": [
    "lr_learner.train_loop(dl)"
   ]
  },
  {
   "cell_type": "code",
   "execution_count": 24,
   "id": "ca410940",
   "metadata": {
    "execution": {
     "iopub.execute_input": "2021-10-17T10:08:14.597047Z",
     "iopub.status.busy": "2021-10-17T10:08:14.596565Z",
     "iopub.status.idle": "2021-10-17T10:08:14.796996Z",
     "shell.execute_reply": "2021-10-17T10:08:14.796499Z"
    },
    "papermill": {
     "duration": 0.246452,
     "end_time": "2021-10-17T10:08:14.797135",
     "exception": false,
     "start_time": "2021-10-17T10:08:14.550683",
     "status": "completed"
    },
    "tags": []
   },
   "outputs": [
    {
     "data": {
      "text/plain": [
       "<matplotlib.legend.Legend at 0x7feb5272eeb8>"
      ]
     },
     "execution_count": 24,
     "metadata": {},
     "output_type": "execute_result"
    },
    {
     "data": {
      "image/png": "[encoded data removed]",
      "text/plain": [
       "<Figure size 1080x720 with 1 Axes>"
      ]
     },
     "metadata": {
      "needs_background": "light"
     },
     "output_type": "display_data"
    }
   ],
   "source": [
    "#comparing the results of NN and LR\n",
    "plt.figure(figsize=(15,10))\n",
    "\n",
    "# Neural Network plots\n",
    "plt.plot(acc_nn.accuracies, 'r-', label = \"Training Accuracies - NN\")\n",
    "plt.plot(acc_nn.test_accuracies, 'g-', label = \"Testing Accuracies - NN\")\n",
    "\n",
    "# Logistic Regression plots\n",
    "plt.plot(acc_lr.accuracies, 'k-', label = \"Training Accuracies - LR\")\n",
    "plt.plot(acc_lr.test_accuracies, 'b-', label = \"Testing Accuracies - LR\")\n",
    "plt.legend()"
   ]
  },
  {
   "cell_type": "markdown",
   "id": "80dfb35c",
   "metadata": {
    "papermill": {
     "duration": 0.03749,
     "end_time": "2021-10-17T10:08:14.872996",
     "exception": false,
     "start_time": "2021-10-17T10:08:14.835506",
     "status": "completed"
    },
    "tags": []
   },
   "source": [
    "#### Plotting the outputs of this layer of the NN.\n"
   ]
  },
  {
   "cell_type": "code",
   "execution_count": 25,
   "id": "45eb2ff5",
   "metadata": {
    "execution": {
     "iopub.execute_input": "2021-10-17T10:08:14.951105Z",
     "iopub.status.busy": "2021-10-17T10:08:14.950605Z",
     "iopub.status.idle": "2021-10-17T10:08:14.971601Z",
     "shell.execute_reply": "2021-10-17T10:08:14.972046Z"
    },
    "papermill": {
     "duration": 0.062289,
     "end_time": "2021-10-17T10:08:14.972195",
     "exception": false,
     "start_time": "2021-10-17T10:08:14.909906",
     "status": "completed"
    },
    "tags": []
   },
   "outputs": [],
   "source": [
    "new_model = Model(layers[:-2])\n",
    "testing_plot = new_model(testing_data_x)"
   ]
  },
  {
   "cell_type": "code",
   "execution_count": 26,
   "id": "4c0a5485",
   "metadata": {
    "execution": {
     "iopub.execute_input": "2021-10-17T10:08:15.060967Z",
     "iopub.status.busy": "2021-10-17T10:08:15.060472Z",
     "iopub.status.idle": "2021-10-17T10:08:15.243306Z",
     "shell.execute_reply": "2021-10-17T10:08:15.243657Z"
    },
    "papermill": {
     "duration": 0.233546,
     "end_time": "2021-10-17T10:08:15.243814",
     "exception": false,
     "start_time": "2021-10-17T10:08:15.010268",
     "status": "completed"
    },
    "tags": []
   },
   "outputs": [
    {
     "data": {
      "text/plain": [
       "Text(0.5, 1.0, 'Outputs')"
      ]
     },
     "execution_count": 26,
     "metadata": {},
     "output_type": "execute_result"
    },
    {
     "data": {
      "image/png": "[encoded data removed]",
      "text/plain": [
       "<Figure size 576x504 with 1 Axes>"
      ]
     },
     "metadata": {
      "needs_background": "light"
     },
     "output_type": "display_data"
    }
   ],
   "source": [
    "# Plotting the scatter plot of points and color coding by class\n",
    "plt.figure(figsize=(8,7))\n",
    "plt.scatter(testing_plot[:,0], testing_plot[:,1], alpha = 0.1, c = y_test.ravel());\n",
    "plt.title('Outputs')"
   ]
  },
  {
   "cell_type": "markdown",
   "id": "a74fcf8f",
   "metadata": {
    "papermill": {
     "duration": 0.040034,
     "end_time": "2021-10-17T10:08:15.323604",
     "exception": false,
     "start_time": "2021-10-17T10:08:15.283570",
     "status": "completed"
    },
    "tags": []
   },
   "source": [
    "Probability contours"
   ]
  },
  {
   "cell_type": "code",
   "execution_count": 27,
   "id": "d0afc8e3",
   "metadata": {
    "execution": {
     "iopub.execute_input": "2021-10-17T10:08:15.407217Z",
     "iopub.status.busy": "2021-10-17T10:08:15.406753Z",
     "iopub.status.idle": "2021-10-17T10:08:15.418948Z",
     "shell.execute_reply": "2021-10-17T10:08:15.418570Z"
    },
    "papermill": {
     "duration": 0.055723,
     "end_time": "2021-10-17T10:08:15.419060",
     "exception": false,
     "start_time": "2021-10-17T10:08:15.363337",
     "status": "completed"
    },
    "tags": []
   },
   "outputs": [],
   "source": [
    "model_prob = Model(layers[-2:]) "
   ]
  },
  {
   "cell_type": "code",
   "execution_count": 28,
   "id": "9b96e238",
   "metadata": {
    "execution": {
     "iopub.execute_input": "2021-10-17T10:08:15.532110Z",
     "iopub.status.busy": "2021-10-17T10:08:15.531583Z",
     "iopub.status.idle": "2021-10-17T10:08:15.545165Z",
     "shell.execute_reply": "2021-10-17T10:08:15.545508Z"
    },
    "papermill": {
     "duration": 0.086988,
     "end_time": "2021-10-17T10:08:15.545634",
     "exception": false,
     "start_time": "2021-10-17T10:08:15.458646",
     "status": "completed"
    },
    "tags": []
   },
   "outputs": [],
   "source": [
    "#creating the x and y ranges according to the above generated plot.\n",
    "x_range = np.linspace(-4, 1, 100) \n",
    "y_range = np.linspace(-6, 6, 100) \n",
    "x_grid, y_grid = np.meshgrid(x_range, y_range) # x_grid and y_grig are of size 100 X 100\n",
    "\n",
    "# converting x_grid and y_grid to continuous arrays\n",
    "x_gridflat = np.ravel(x_grid)\n",
    "y_gridflat = np.ravel(y_grid)\n",
    "\n",
    "# The last layer of the current model takes two columns as input. Hence transpose of np.vstack() is required.\n",
    "X = np.vstack((x_gridflat, y_gridflat)).T\n",
    "\n",
    "prob_contour = model_prob(X).reshape(100,100) "
   ]
  },
  {
   "cell_type": "code",
   "execution_count": 29,
   "id": "da72499a",
   "metadata": {
    "execution": {
     "iopub.execute_input": "2021-10-17T10:08:15.673776Z",
     "iopub.status.busy": "2021-10-17T10:08:15.671849Z",
     "iopub.status.idle": "2021-10-17T10:08:15.893065Z",
     "shell.execute_reply": "2021-10-17T10:08:15.892581Z"
    },
    "papermill": {
     "duration": 0.300479,
     "end_time": "2021-10-17T10:08:15.893183",
     "exception": false,
     "start_time": "2021-10-17T10:08:15.592704",
     "status": "completed"
    },
    "tags": []
   },
   "outputs": [
    {
     "data": {
      "image/png": "[encoded data removed]",
      "text/plain": [
       "<Figure size 720x648 with 1 Axes>"
      ]
     },
     "metadata": {
      "needs_background": "light"
     },
     "output_type": "display_data"
    }
   ],
   "source": [
    "plt.figure(figsize=(10,9))\n",
    "plt.scatter(testing_plot[:,0], testing_plot[:,1], alpha = 0.1, c = y_test.ravel())\n",
    "contours = plt.contour(x_grid,y_grid,prob_contour)\n",
    "plt.title('Probability Contours')\n",
    "plt.clabel(contours, inline = True );"
   ]
  },
  {
   "cell_type": "code",
   "execution_count": null,
   "id": "e81b4ac7",
   "metadata": {
    "papermill": {
     "duration": 0.042032,
     "end_time": "2021-10-17T10:08:15.977817",
     "exception": false,
     "start_time": "2021-10-17T10:08:15.935785",
     "status": "completed"
    },
    "tags": []
   },
   "outputs": [],
   "source": []
  }
 ],
 "metadata": {
  "kernelspec": {
   "display_name": "Python 3",
   "language": "python",
   "name": "python3"
  },
  "language_info": {
   "codemirror_mode": {
    "name": "ipython",
    "version": 3
   },
   "file_extension": ".py",
   "mimetype": "text/x-python",
   "name": "python",
   "nbconvert_exporter": "python",
   "pygments_lexer": "ipython3",
   "version": "3.6.15"
  },
  "papermill": {
   "default_parameters": {},
   "duration": 102.47466,
   "end_time": "2021-10-17T10:08:16.428006",
   "environment_variables": {},
   "exception": null,
   "input_path": "2020-08-11-part2.ipynb",
   "output_path": "2020-08-11-part2.ipynb",
   "parameters": {},
   "start_time": "2021-10-17T10:06:33.953346",
   "version": "2.3.3"
  }
 },
 "nbformat": 4,
 "nbformat_minor": 5
}