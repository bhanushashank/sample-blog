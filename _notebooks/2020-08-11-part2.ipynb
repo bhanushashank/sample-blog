{
 "cells": [
  {
   "cell_type": "markdown",
   "id": "98380cd3",
   "metadata": {
    "papermill": {
     "duration": 0.031987,
     "end_time": "2022-05-11T20:10:58.917213",
     "exception": false,
     "start_time": "2022-05-11T20:10:58.885226",
     "status": "completed"
    },
    "tags": []
   },
   "source": [
    "# Distinguish Your Own Digits (DYOD)"
   ]
  },
  {
   "cell_type": "markdown",
   "id": "ef31240d",
   "metadata": {
    "papermill": {
     "duration": 0.027537,
     "end_time": "2022-05-11T20:10:58.972087",
     "exception": false,
     "start_time": "2022-05-11T20:10:58.944550",
     "status": "completed"
    },
    "tags": []
   },
   "source": [
    "You are going to write a classifier that distinguishes between the number 3 and number 8."
   ]
  },
  {
   "cell_type": "code",
   "execution_count": 1,
   "id": "b15c8646",
   "metadata": {
    "execution": {
     "iopub.execute_input": "2022-05-11T20:10:59.035994Z",
     "iopub.status.busy": "2022-05-11T20:10:59.035325Z",
     "iopub.status.idle": "2022-05-11T20:10:59.049283Z",
     "shell.execute_reply": "2022-05-11T20:10:59.048436Z"
    },
    "papermill": {
     "duration": 0.051412,
     "end_time": "2022-05-11T20:10:59.049585",
     "exception": false,
     "start_time": "2022-05-11T20:10:58.998173",
     "status": "completed"
    },
    "tags": []
   },
   "outputs": [],
   "source": [
    "%load_ext autoreload\n",
    "%autoreload 2"
   ]
  },
  {
   "cell_type": "code",
   "execution_count": 2,
   "id": "22ef38dc",
   "metadata": {
    "execution": {
     "iopub.execute_input": "2022-05-11T20:10:59.108580Z",
     "iopub.status.busy": "2022-05-11T20:10:59.107976Z",
     "iopub.status.idle": "2022-05-11T20:10:59.712655Z",
     "shell.execute_reply": "2022-05-11T20:10:59.713476Z"
    },
    "papermill": {
     "duration": 0.636859,
     "end_time": "2022-05-11T20:10:59.713729",
     "exception": false,
     "start_time": "2022-05-11T20:10:59.076870",
     "status": "completed"
    },
    "tags": []
   },
   "outputs": [],
   "source": [
    "%matplotlib inline\n",
    "import numpy as np\n",
    "import matplotlib.pyplot as plt\n",
    "import pandas as pd"
   ]
  },
  {
   "cell_type": "markdown",
   "id": "ba036198",
   "metadata": {
    "papermill": {
     "duration": 0.027742,
     "end_time": "2022-05-11T20:10:59.769456",
     "exception": false,
     "start_time": "2022-05-11T20:10:59.741714",
     "status": "completed"
    },
    "tags": []
   },
   "source": [
    "From the command line run `pip install mnist`. This is a library that will help you bring down the mnist dataset. If you run this from a notebook, you need to put  `!pip install mnist` in a cell by itself."
   ]
  },
  {
   "cell_type": "code",
   "execution_count": 3,
   "id": "bb6ad8a1",
   "metadata": {
    "execution": {
     "iopub.execute_input": "2022-05-11T20:10:59.826695Z",
     "iopub.status.busy": "2022-05-11T20:10:59.826126Z",
     "iopub.status.idle": "2022-05-11T20:11:01.668544Z",
     "shell.execute_reply": "2022-05-11T20:11:01.667949Z"
    },
    "papermill": {
     "duration": 1.873765,
     "end_time": "2022-05-11T20:11:01.668686",
     "exception": false,
     "start_time": "2022-05-11T20:10:59.794921",
     "status": "completed"
    },
    "tags": []
   },
   "outputs": [
    {
     "name": "stdout",
     "output_type": "stream",
     "text": [
      "Collecting mnist\r\n"
     ]
    },
    {
     "name": "stdout",
     "output_type": "stream",
     "text": [
      "  Downloading mnist-0.2.2-py2.py3-none-any.whl (3.5 kB)\r\n",
      "Requirement already satisfied: numpy in /opt/hostedtoolcache/Python/3.6.15/x64/lib/python3.6/site-packages (from mnist) (1.19.5)\r\n"
     ]
    },
    {
     "name": "stdout",
     "output_type": "stream",
     "text": [
      "Installing collected packages: mnist\r\n"
     ]
    },
    {
     "name": "stdout",
     "output_type": "stream",
     "text": [
      "Successfully installed mnist-0.2.2\r\n"
     ]
    }
   ],
   "source": [
    "!pip install mnist"
   ]
  },
  {
   "cell_type": "markdown",
   "id": "69df9c9a",
   "metadata": {
    "papermill": {
     "duration": 0.028887,
     "end_time": "2022-05-11T20:11:01.727852",
     "exception": false,
     "start_time": "2022-05-11T20:11:01.698965",
     "status": "completed"
    },
    "tags": []
   },
   "source": [
    "## Preparing the Data"
   ]
  },
  {
   "cell_type": "code",
   "execution_count": 4,
   "id": "7f69d806",
   "metadata": {
    "execution": {
     "iopub.execute_input": "2022-05-11T20:11:01.790595Z",
     "iopub.status.busy": "2022-05-11T20:11:01.789993Z",
     "iopub.status.idle": "2022-05-11T20:11:01.806867Z",
     "shell.execute_reply": "2022-05-11T20:11:01.806118Z"
    },
    "papermill": {
     "duration": 0.051216,
     "end_time": "2022-05-11T20:11:01.807022",
     "exception": false,
     "start_time": "2022-05-11T20:11:01.755806",
     "status": "completed"
    },
    "tags": []
   },
   "outputs": [],
   "source": [
    "import mnist"
   ]
  },
  {
   "cell_type": "code",
   "execution_count": 5,
   "id": "a411e44f",
   "metadata": {
    "execution": {
     "iopub.execute_input": "2022-05-11T20:11:01.867272Z",
     "iopub.status.busy": "2022-05-11T20:11:01.866681Z",
     "iopub.status.idle": "2022-05-11T20:11:02.451826Z",
     "shell.execute_reply": "2022-05-11T20:11:02.452610Z"
    },
    "papermill": {
     "duration": 0.616841,
     "end_time": "2022-05-11T20:11:02.452763",
     "exception": false,
     "start_time": "2022-05-11T20:11:01.835922",
     "status": "completed"
    },
    "tags": []
   },
   "outputs": [],
   "source": [
    "train_images = mnist.train_images()\n",
    "train_labels = mnist.train_labels()"
   ]
  },
  {
   "cell_type": "code",
   "execution_count": 6,
   "id": "dceab3a5",
   "metadata": {
    "execution": {
     "iopub.execute_input": "2022-05-11T20:11:02.513892Z",
     "iopub.status.busy": "2022-05-11T20:11:02.513334Z",
     "iopub.status.idle": "2022-05-11T20:11:02.529492Z",
     "shell.execute_reply": "2022-05-11T20:11:02.529003Z"
    },
    "papermill": {
     "duration": 0.04887,
     "end_time": "2022-05-11T20:11:02.529621",
     "exception": false,
     "start_time": "2022-05-11T20:11:02.480751",
     "status": "completed"
    },
    "tags": []
   },
   "outputs": [
    {
     "data": {
      "text/plain": [
       "((60000, 28, 28), (60000,))"
      ]
     },
     "execution_count": 6,
     "metadata": {},
     "output_type": "execute_result"
    }
   ],
   "source": [
    "train_images.shape, train_labels.shape"
   ]
  },
  {
   "cell_type": "code",
   "execution_count": 7,
   "id": "f50dc2bb",
   "metadata": {
    "execution": {
     "iopub.execute_input": "2022-05-11T20:11:02.589537Z",
     "iopub.status.busy": "2022-05-11T20:11:02.588926Z",
     "iopub.status.idle": "2022-05-11T20:11:02.716738Z",
     "shell.execute_reply": "2022-05-11T20:11:02.716194Z"
    },
    "papermill": {
     "duration": 0.160287,
     "end_time": "2022-05-11T20:11:02.716879",
     "exception": false,
     "start_time": "2022-05-11T20:11:02.556592",
     "status": "completed"
    },
    "tags": []
   },
   "outputs": [],
   "source": [
    "test_images = mnist.test_images()\n",
    "test_labels = mnist.test_labels()"
   ]
  },
  {
   "cell_type": "code",
   "execution_count": 8,
   "id": "fc38cf1b",
   "metadata": {
    "execution": {
     "iopub.execute_input": "2022-05-11T20:11:02.777402Z",
     "iopub.status.busy": "2022-05-11T20:11:02.776800Z",
     "iopub.status.idle": "2022-05-11T20:11:02.792781Z",
     "shell.execute_reply": "2022-05-11T20:11:02.792265Z"
    },
    "papermill": {
     "duration": 0.047483,
     "end_time": "2022-05-11T20:11:02.792910",
     "exception": false,
     "start_time": "2022-05-11T20:11:02.745427",
     "status": "completed"
    },
    "tags": []
   },
   "outputs": [
    {
     "data": {
      "text/plain": [
       "((10000, 28, 28), (10000,))"
      ]
     },
     "execution_count": 8,
     "metadata": {},
     "output_type": "execute_result"
    }
   ],
   "source": [
    "test_images.shape, test_labels.shape"
   ]
  },
  {
   "cell_type": "code",
   "execution_count": 9,
   "id": "f9ed8fe0",
   "metadata": {
    "execution": {
     "iopub.execute_input": "2022-05-11T20:11:02.851525Z",
     "iopub.status.busy": "2022-05-11T20:11:02.850951Z",
     "iopub.status.idle": "2022-05-11T20:11:03.008668Z",
     "shell.execute_reply": "2022-05-11T20:11:03.008173Z"
    },
    "papermill": {
     "duration": 0.187881,
     "end_time": "2022-05-11T20:11:03.008801",
     "exception": false,
     "start_time": "2022-05-11T20:11:02.820920",
     "status": "completed"
    },
    "tags": []
   },
   "outputs": [
    {
     "name": "stdout",
     "output_type": "stream",
     "text": [
      "2\n"
     ]
    },
    {
     "data": {
      "text/plain": [
       "<matplotlib.image.AxesImage at 0x7f6cf51f74e0>"
      ]
     },
     "execution_count": 9,
     "metadata": {},
     "output_type": "execute_result"
    },
    {
     "data": {
      "image/png": "[encoded data removed]",
      "text/plain": [
       "<Figure size 432x288 with 1 Axes>"
      ]
     },
     "metadata": {
      "needs_background": "light"
     },
     "output_type": "display_data"
    }
   ],
   "source": [
    "image_index = 7776 # You may select anything up to 60,000\n",
    "print(train_labels[image_index]) \n",
    "plt.imshow(train_images[image_index], cmap='Greys')"
   ]
  },
  {
   "cell_type": "markdown",
   "id": "a8d2388d",
   "metadata": {
    "papermill": {
     "duration": 0.030557,
     "end_time": "2022-05-11T20:11:03.069779",
     "exception": false,
     "start_time": "2022-05-11T20:11:03.039222",
     "status": "completed"
    },
    "tags": []
   },
   "source": [
    "## Filter data to get 3 and 8 out"
   ]
  },
  {
   "cell_type": "code",
   "execution_count": 10,
   "id": "776f7fc7",
   "metadata": {
    "execution": {
     "iopub.execute_input": "2022-05-11T20:11:03.136267Z",
     "iopub.status.busy": "2022-05-11T20:11:03.135624Z",
     "iopub.status.idle": "2022-05-11T20:11:03.153147Z",
     "shell.execute_reply": "2022-05-11T20:11:03.152629Z"
    },
    "papermill": {
     "duration": 0.053057,
     "end_time": "2022-05-11T20:11:03.153277",
     "exception": false,
     "start_time": "2022-05-11T20:11:03.100220",
     "status": "completed"
    },
    "tags": []
   },
   "outputs": [],
   "source": [
    "train_filter = np.where((train_labels == 3 ) | (train_labels == 8))\n",
    "test_filter = np.where((test_labels == 3) | (test_labels == 8))\n",
    "X_train, y_train = train_images[train_filter], train_labels[train_filter]\n",
    "X_test, y_test = test_images[test_filter], test_labels[test_filter]"
   ]
  },
  {
   "cell_type": "markdown",
   "id": "948f0b7e",
   "metadata": {
    "papermill": {
     "duration": 0.030102,
     "end_time": "2022-05-11T20:11:03.214000",
     "exception": false,
     "start_time": "2022-05-11T20:11:03.183898",
     "status": "completed"
    },
    "tags": []
   },
   "source": [
    "We normalize the pizel values in the 0 to 1 range"
   ]
  },
  {
   "cell_type": "code",
   "execution_count": 11,
   "id": "ee4c2166",
   "metadata": {
    "execution": {
     "iopub.execute_input": "2022-05-11T20:11:03.277245Z",
     "iopub.status.busy": "2022-05-11T20:11:03.276646Z",
     "iopub.status.idle": "2022-05-11T20:11:03.331089Z",
     "shell.execute_reply": "2022-05-11T20:11:03.330544Z"
    },
    "papermill": {
     "duration": 0.087224,
     "end_time": "2022-05-11T20:11:03.331231",
     "exception": false,
     "start_time": "2022-05-11T20:11:03.244007",
     "status": "completed"
    },
    "tags": []
   },
   "outputs": [],
   "source": [
    "X_train = X_train/255.\n",
    "X_test = X_test/255."
   ]
  },
  {
   "cell_type": "markdown",
   "id": "ddcf4fab",
   "metadata": {
    "papermill": {
     "duration": 0.028601,
     "end_time": "2022-05-11T20:11:03.388909",
     "exception": false,
     "start_time": "2022-05-11T20:11:03.360308",
     "status": "completed"
    },
    "tags": []
   },
   "source": [
    "And setup the labels as 1 (when the digit is 3) and 0 (when the digit is 8)"
   ]
  },
  {
   "cell_type": "code",
   "execution_count": 12,
   "id": "7dc908f2",
   "metadata": {
    "execution": {
     "iopub.execute_input": "2022-05-11T20:11:03.451139Z",
     "iopub.status.busy": "2022-05-11T20:11:03.450530Z",
     "iopub.status.idle": "2022-05-11T20:11:03.464289Z",
     "shell.execute_reply": "2022-05-11T20:11:03.463758Z"
    },
    "papermill": {
     "duration": 0.046959,
     "end_time": "2022-05-11T20:11:03.464416",
     "exception": false,
     "start_time": "2022-05-11T20:11:03.417457",
     "status": "completed"
    },
    "tags": []
   },
   "outputs": [],
   "source": [
    "y_train = 1*(y_train==3)\n",
    "y_test = 1*(y_test==3)"
   ]
  },
  {
   "cell_type": "code",
   "execution_count": 13,
   "id": "01e4e969",
   "metadata": {
    "execution": {
     "iopub.execute_input": "2022-05-11T20:11:03.533492Z",
     "iopub.status.busy": "2022-05-11T20:11:03.532884Z",
     "iopub.status.idle": "2022-05-11T20:11:03.547309Z",
     "shell.execute_reply": "2022-05-11T20:11:03.548236Z"
    },
    "papermill": {
     "duration": 0.051332,
     "end_time": "2022-05-11T20:11:03.548471",
     "exception": false,
     "start_time": "2022-05-11T20:11:03.497139",
     "status": "completed"
    },
    "tags": []
   },
   "outputs": [
    {
     "data": {
      "text/plain": [
       "((11982, 28, 28), (1984, 28, 28))"
      ]
     },
     "execution_count": 13,
     "metadata": {},
     "output_type": "execute_result"
    }
   ],
   "source": [
    "X_train.shape, X_test.shape"
   ]
  },
  {
   "cell_type": "markdown",
   "id": "5ccf3f85",
   "metadata": {
    "papermill": {
     "duration": 0.030327,
     "end_time": "2022-05-11T20:11:03.608784",
     "exception": false,
     "start_time": "2022-05-11T20:11:03.578457",
     "status": "completed"
    },
    "tags": []
   },
   "source": [
    "We reshape the data to flatten the image pixels into a set of features or co-variates:"
   ]
  },
  {
   "cell_type": "code",
   "execution_count": 14,
   "id": "5286a4a3",
   "metadata": {
    "execution": {
     "iopub.execute_input": "2022-05-11T20:11:03.674034Z",
     "iopub.status.busy": "2022-05-11T20:11:03.673421Z",
     "iopub.status.idle": "2022-05-11T20:11:03.688722Z",
     "shell.execute_reply": "2022-05-11T20:11:03.689205Z"
    },
    "papermill": {
     "duration": 0.050102,
     "end_time": "2022-05-11T20:11:03.689360",
     "exception": false,
     "start_time": "2022-05-11T20:11:03.639258",
     "status": "completed"
    },
    "tags": []
   },
   "outputs": [
    {
     "data": {
      "text/plain": [
       "((11982, 784), (1984, 784))"
      ]
     },
     "execution_count": 14,
     "metadata": {},
     "output_type": "execute_result"
    }
   ],
   "source": [
    "X_train = X_train.reshape(X_train.shape[0], -1)\n",
    "X_test = X_test.reshape(X_test.shape[0], -1)\n",
    "X_train.shape, X_test.shape"
   ]
  },
  {
   "cell_type": "code",
   "execution_count": 15,
   "id": "73c5f88a",
   "metadata": {
    "execution": {
     "iopub.execute_input": "2022-05-11T20:11:03.756452Z",
     "iopub.status.busy": "2022-05-11T20:11:03.755277Z",
     "iopub.status.idle": "2022-05-11T20:11:03.778774Z",
     "shell.execute_reply": "2022-05-11T20:11:03.777587Z"
    },
    "papermill": {
     "duration": 0.058832,
     "end_time": "2022-05-11T20:11:03.778910",
     "exception": false,
     "start_time": "2022-05-11T20:11:03.720078",
     "status": "completed"
    },
    "tags": []
   },
   "outputs": [],
   "source": [
    "#Impoting functions from 'Kudzu'\n",
    "from kudzu.model import Model\n",
    "from kudzu.train import Learner\n",
    "from kudzu.optim import GD\n",
    "from kudzu.data import Data, Sampler,Dataloader\n",
    "\n",
    "from kudzu.callbacks import AccCallback\n",
    "from kudzu.callbacks import ClfCallback\n",
    "\n",
    "from kudzu.loss import MSE\n",
    "\n",
    "from kudzu.layer import Sigmoid,Relu\n",
    "from kudzu.layer import Affine"
   ]
  },
  {
   "cell_type": "markdown",
   "id": "bc01172a",
   "metadata": {
    "papermill": {
     "duration": 0.030719,
     "end_time": "2022-05-11T20:11:03.840669",
     "exception": false,
     "start_time": "2022-05-11T20:11:03.809950",
     "status": "completed"
    },
    "tags": []
   },
   "source": [
    "### Let us create a `Config` class, to store important parameters. \n",
    "This class essentially plays the role of a dictionary."
   ]
  },
  {
   "cell_type": "code",
   "execution_count": 16,
   "id": "978281aa",
   "metadata": {
    "execution": {
     "iopub.execute_input": "2022-05-11T20:11:03.907178Z",
     "iopub.status.busy": "2022-05-11T20:11:03.905867Z",
     "iopub.status.idle": "2022-05-11T20:11:03.920475Z",
     "shell.execute_reply": "2022-05-11T20:11:03.920950Z"
    },
    "papermill": {
     "duration": 0.049781,
     "end_time": "2022-05-11T20:11:03.921115",
     "exception": false,
     "start_time": "2022-05-11T20:11:03.871334",
     "status": "completed"
    },
    "tags": []
   },
   "outputs": [],
   "source": [
    "class Config:\n",
    "    pass\n",
    "config = Config()\n",
    "config.lr = 0.001\n",
    "config.num_epochs = 250\n",
    "config.bs = 50"
   ]
  },
  {
   "cell_type": "markdown",
   "id": "1385fa59",
   "metadata": {
    "papermill": {
     "duration": 0.031087,
     "end_time": "2022-05-11T20:11:03.983167",
     "exception": false,
     "start_time": "2022-05-11T20:11:03.952080",
     "status": "completed"
    },
    "tags": []
   },
   "source": [
    "### Running Models with the Training data\n",
    "Details about the network layers:\n",
    "- A first affine layer has 784 inputs and does 100 affine transforms. These are followed by a Relu\n",
    "- A second affine layer has 100 inputs from the 100 activations of the past layer, and does 100 affine transforms. These are followed by a Relu\n",
    "- A third affine layer has 100 activations and does 2 affine transformations to create an embedding for visualization. There is no non-linearity here.\n",
    "- A final \"logistic regression\" which has an affine transform from 2 inputs to 1 output, which is squeezed through a sigmoid.\n"
   ]
  },
  {
   "cell_type": "code",
   "execution_count": 17,
   "id": "2b9c66db",
   "metadata": {
    "execution": {
     "iopub.execute_input": "2022-05-11T20:11:04.050017Z",
     "iopub.status.busy": "2022-05-11T20:11:04.049428Z",
     "iopub.status.idle": "2022-05-11T20:11:04.064161Z",
     "shell.execute_reply": "2022-05-11T20:11:04.063559Z"
    },
    "papermill": {
     "duration": 0.050133,
     "end_time": "2022-05-11T20:11:04.064303",
     "exception": false,
     "start_time": "2022-05-11T20:11:04.014170",
     "status": "completed"
    },
    "tags": []
   },
   "outputs": [],
   "source": [
    "data = Data(X_train, y_train.reshape(-1,1))\n",
    "sampler = Sampler(data, config.bs, shuffle=True)\n",
    "\n",
    "dl = Dataloader(data, sampler)\n",
    "\n",
    "opt = GD(config.lr)\n",
    "loss = MSE()"
   ]
  },
  {
   "cell_type": "code",
   "execution_count": 18,
   "id": "b275e4c2",
   "metadata": {
    "execution": {
     "iopub.execute_input": "2022-05-11T20:11:04.137005Z",
     "iopub.status.busy": "2022-05-11T20:11:04.136342Z",
     "iopub.status.idle": "2022-05-11T20:11:04.152064Z",
     "shell.execute_reply": "2022-05-11T20:11:04.151504Z"
    },
    "papermill": {
     "duration": 0.055031,
     "end_time": "2022-05-11T20:11:04.152198",
     "exception": false,
     "start_time": "2022-05-11T20:11:04.097167",
     "status": "completed"
    },
    "tags": []
   },
   "outputs": [],
   "source": [
    "training_data_x = X_train\n",
    "testing_data_x = X_test\n",
    "training_data_y = y_train.reshape(-1,1)\n",
    "testing_data_y = y_test.reshape(-1,1)"
   ]
  },
  {
   "cell_type": "code",
   "execution_count": 19,
   "id": "76951160",
   "metadata": {
    "execution": {
     "iopub.execute_input": "2022-05-11T20:11:04.222879Z",
     "iopub.status.busy": "2022-05-11T20:11:04.221977Z",
     "iopub.status.idle": "2022-05-11T20:11:04.240023Z",
     "shell.execute_reply": "2022-05-11T20:11:04.239503Z"
    },
    "papermill": {
     "duration": 0.056254,
     "end_time": "2022-05-11T20:11:04.240162",
     "exception": false,
     "start_time": "2022-05-11T20:11:04.183908",
     "status": "completed"
    },
    "tags": []
   },
   "outputs": [
    {
     "name": "stdout",
     "output_type": "stream",
     "text": [
      "xavier\n",
      "xavier\n",
      "xavier\n",
      "xavier\n",
      "xavier\n"
     ]
    }
   ],
   "source": [
    "layers = [Affine(\"first\", 784, 100), Relu(\"first\"), Affine(\"second\", 100, 100), Relu(\"second\"), Affine(\"third\", 100, 2), Affine(\"last\", 2, 1), Sigmoid(\"last\")]\n",
    "model_nn = Model(layers)\n",
    "model_lr = Model([Affine(\"logits\", 784, 1), Sigmoid(\"sigmoid\")])"
   ]
  },
  {
   "cell_type": "code",
   "execution_count": 20,
   "id": "6eede77a",
   "metadata": {
    "execution": {
     "iopub.execute_input": "2022-05-11T20:11:04.309399Z",
     "iopub.status.busy": "2022-05-11T20:11:04.308788Z",
     "iopub.status.idle": "2022-05-11T20:11:04.322394Z",
     "shell.execute_reply": "2022-05-11T20:11:04.322903Z"
    },
    "papermill": {
     "duration": 0.051135,
     "end_time": "2022-05-11T20:11:04.323051",
     "exception": false,
     "start_time": "2022-05-11T20:11:04.271916",
     "status": "completed"
    },
    "tags": []
   },
   "outputs": [],
   "source": [
    "nn_learner = Learner(loss, model_nn, opt, config.num_epochs)\n",
    "acc_nn = ClfCallback(nn_learner, config.bs, training_data_x , testing_data_x, training_data_y, testing_data_y)\n",
    "nn_learner.set_callbacks([acc_nn])"
   ]
  },
  {
   "cell_type": "code",
   "execution_count": 21,
   "id": "877b6cc7",
   "metadata": {
    "execution": {
     "iopub.execute_input": "2022-05-11T20:11:04.390092Z",
     "iopub.status.busy": "2022-05-11T20:11:04.389488Z",
     "iopub.status.idle": "2022-05-11T20:11:04.403744Z",
     "shell.execute_reply": "2022-05-11T20:11:04.403222Z"
    },
    "papermill": {
     "duration": 0.049269,
     "end_time": "2022-05-11T20:11:04.403880",
     "exception": false,
     "start_time": "2022-05-11T20:11:04.354611",
     "status": "completed"
    },
    "tags": []
   },
   "outputs": [],
   "source": [
    "lr_learner = Learner(loss, model_lr, opt, config.num_epochs)\n",
    "acc_lr = ClfCallback(lr_learner, config.bs, training_data_x , testing_data_x, training_data_y, testing_data_y)\n",
    "lr_learner.set_callbacks([acc_lr])"
   ]
  },
  {
   "cell_type": "code",
   "execution_count": 22,
   "id": "d9b133c3",
   "metadata": {
    "execution": {
     "iopub.execute_input": "2022-05-11T20:11:04.475137Z",
     "iopub.status.busy": "2022-05-11T20:11:04.474516Z",
     "iopub.status.idle": "2022-05-11T20:12:32.583391Z",
     "shell.execute_reply": "2022-05-11T20:12:32.584327Z"
    },
    "papermill": {
     "duration": 88.149334,
     "end_time": "2022-05-11T20:12:32.584496",
     "exception": false,
     "start_time": "2022-05-11T20:11:04.435162",
     "status": "completed"
    },
    "tags": []
   },
   "outputs": [
    {
     "name": "stdout",
     "output_type": "stream",
     "text": [
      "Epoch 0, Loss 0.2508\n",
      "Training Accuracy: 0.5635, Testing Accuracy: 0.5711\n",
      "\n"
     ]
    },
    {
     "name": "stdout",
     "output_type": "stream",
     "text": [
      "Epoch 10, Loss 0.1544\n",
      "Training Accuracy: 0.8871, Testing Accuracy: 0.9017\n",
      "\n"
     ]
    },
    {
     "name": "stdout",
     "output_type": "stream",
     "text": [
      "Epoch 20, Loss 0.0794\n",
      "Training Accuracy: 0.9198, Testing Accuracy: 0.9315\n",
      "\n"
     ]
    },
    {
     "name": "stdout",
     "output_type": "stream",
     "text": [
      "Epoch 30, Loss 0.0556\n",
      "Training Accuracy: 0.9382, Testing Accuracy: 0.9531\n",
      "\n"
     ]
    },
    {
     "name": "stdout",
     "output_type": "stream",
     "text": [
      "Epoch 40, Loss 0.0452\n",
      "Training Accuracy: 0.9493, Testing Accuracy: 0.9587\n",
      "\n"
     ]
    },
    {
     "name": "stdout",
     "output_type": "stream",
     "text": [
      "Epoch 50, Loss 0.0396\n",
      "Training Accuracy: 0.9549, Testing Accuracy: 0.9667\n",
      "\n"
     ]
    },
    {
     "name": "stdout",
     "output_type": "stream",
     "text": [
      "Epoch 60, Loss 0.036\n",
      "Training Accuracy: 0.9589, Testing Accuracy: 0.9677\n",
      "\n"
     ]
    },
    {
     "name": "stdout",
     "output_type": "stream",
     "text": [
      "Epoch 70, Loss 0.0335\n",
      "Training Accuracy: 0.9611, Testing Accuracy: 0.9672\n",
      "\n"
     ]
    },
    {
     "name": "stdout",
     "output_type": "stream",
     "text": [
      "Epoch 80, Loss 0.0317\n",
      "Training Accuracy: 0.9635, Testing Accuracy: 0.9682\n",
      "\n"
     ]
    },
    {
     "name": "stdout",
     "output_type": "stream",
     "text": [
      "Epoch 90, Loss 0.0301\n",
      "Training Accuracy: 0.9657, Testing Accuracy: 0.9682\n",
      "\n"
     ]
    },
    {
     "name": "stdout",
     "output_type": "stream",
     "text": [
      "Epoch 100, Loss 0.0289\n",
      "Training Accuracy: 0.9674, Testing Accuracy: 0.9688\n",
      "\n"
     ]
    },
    {
     "name": "stdout",
     "output_type": "stream",
     "text": [
      "Epoch 110, Loss 0.0278\n",
      "Training Accuracy: 0.9686, Testing Accuracy: 0.9703\n",
      "\n"
     ]
    },
    {
     "name": "stdout",
     "output_type": "stream",
     "text": [
      "Epoch 120, Loss 0.0269\n",
      "Training Accuracy: 0.9694, Testing Accuracy: 0.9713\n",
      "\n"
     ]
    },
    {
     "name": "stdout",
     "output_type": "stream",
     "text": [
      "Epoch 130, Loss 0.0261\n",
      "Training Accuracy: 0.9697, Testing Accuracy: 0.9723\n",
      "\n"
     ]
    },
    {
     "name": "stdout",
     "output_type": "stream",
     "text": [
      "Epoch 140, Loss 0.0254\n",
      "Training Accuracy: 0.9706, Testing Accuracy: 0.9723\n",
      "\n"
     ]
    },
    {
     "name": "stdout",
     "output_type": "stream",
     "text": [
      "Epoch 150, Loss 0.0248\n",
      "Training Accuracy: 0.9719, Testing Accuracy: 0.9723\n",
      "\n"
     ]
    },
    {
     "name": "stdout",
     "output_type": "stream",
     "text": [
      "Epoch 160, Loss 0.0242\n",
      "Training Accuracy: 0.9723, Testing Accuracy: 0.9728\n",
      "\n"
     ]
    },
    {
     "name": "stdout",
     "output_type": "stream",
     "text": [
      "Epoch 170, Loss 0.0237\n",
      "Training Accuracy: 0.9730, Testing Accuracy: 0.9723\n",
      "\n"
     ]
    },
    {
     "name": "stdout",
     "output_type": "stream",
     "text": [
      "Epoch 180, Loss 0.0232\n",
      "Training Accuracy: 0.9730, Testing Accuracy: 0.9723\n",
      "\n"
     ]
    },
    {
     "name": "stdout",
     "output_type": "stream",
     "text": [
      "Epoch 190, Loss 0.0227\n",
      "Training Accuracy: 0.9739, Testing Accuracy: 0.9728\n",
      "\n"
     ]
    },
    {
     "name": "stdout",
     "output_type": "stream",
     "text": [
      "Epoch 200, Loss 0.0222\n",
      "Training Accuracy: 0.9744, Testing Accuracy: 0.9723\n",
      "\n"
     ]
    },
    {
     "name": "stdout",
     "output_type": "stream",
     "text": [
      "Epoch 210, Loss 0.0218\n",
      "Training Accuracy: 0.9748, Testing Accuracy: 0.9728\n",
      "\n"
     ]
    },
    {
     "name": "stdout",
     "output_type": "stream",
     "text": [
      "Epoch 220, Loss 0.0214\n",
      "Training Accuracy: 0.9750, Testing Accuracy: 0.9728\n",
      "\n"
     ]
    },
    {
     "name": "stdout",
     "output_type": "stream",
     "text": [
      "Epoch 230, Loss 0.021\n",
      "Training Accuracy: 0.9757, Testing Accuracy: 0.9728\n",
      "\n"
     ]
    },
    {
     "name": "stdout",
     "output_type": "stream",
     "text": [
      "Epoch 240, Loss 0.0207\n",
      "Training Accuracy: 0.9760, Testing Accuracy: 0.9728\n",
      "\n"
     ]
    },
    {
     "data": {
      "text/plain": [
       "0.004665521343985511"
      ]
     },
     "execution_count": 22,
     "metadata": {},
     "output_type": "execute_result"
    }
   ],
   "source": [
    "nn_learner.train_loop(dl)"
   ]
  },
  {
   "cell_type": "code",
   "execution_count": 23,
   "id": "e0163366",
   "metadata": {
    "execution": {
     "iopub.execute_input": "2022-05-11T20:12:32.673175Z",
     "iopub.status.busy": "2022-05-11T20:12:32.672556Z",
     "iopub.status.idle": "2022-05-11T20:12:48.722761Z",
     "shell.execute_reply": "2022-05-11T20:12:48.723648Z"
    },
    "papermill": {
     "duration": 16.09946,
     "end_time": "2022-05-11T20:12:48.723817",
     "exception": false,
     "start_time": "2022-05-11T20:12:32.624357",
     "status": "completed"
    },
    "tags": []
   },
   "outputs": [
    {
     "name": "stdout",
     "output_type": "stream",
     "text": [
      "Epoch 0, Loss 0.2015\n",
      "Training Accuracy: 0.8217, Testing Accuracy: 0.8311\n",
      "\n"
     ]
    },
    {
     "name": "stdout",
     "output_type": "stream",
     "text": [
      "Epoch 10, Loss 0.0977\n",
      "Training Accuracy: 0.9186, Testing Accuracy: 0.9279\n",
      "\n"
     ]
    },
    {
     "name": "stdout",
     "output_type": "stream",
     "text": [
      "Epoch 20, Loss 0.0763\n",
      "Training Accuracy: 0.9330, Testing Accuracy: 0.9441\n",
      "\n"
     ]
    },
    {
     "name": "stdout",
     "output_type": "stream",
     "text": [
      "Epoch 30, Loss 0.0661\n",
      "Training Accuracy: 0.9409, Testing Accuracy: 0.9511\n",
      "\n"
     ]
    },
    {
     "name": "stdout",
     "output_type": "stream",
     "text": [
      "Epoch 40, Loss 0.0599\n",
      "Training Accuracy: 0.9454, Testing Accuracy: 0.9526\n",
      "\n"
     ]
    },
    {
     "name": "stdout",
     "output_type": "stream",
     "text": [
      "Epoch 50, Loss 0.0557\n",
      "Training Accuracy: 0.9470, Testing Accuracy: 0.9546\n",
      "\n"
     ]
    },
    {
     "name": "stdout",
     "output_type": "stream",
     "text": [
      "Epoch 60, Loss 0.0525\n",
      "Training Accuracy: 0.9494, Testing Accuracy: 0.9577\n",
      "\n"
     ]
    },
    {
     "name": "stdout",
     "output_type": "stream",
     "text": [
      "Epoch 70, Loss 0.0501\n",
      "Training Accuracy: 0.9515, Testing Accuracy: 0.9602\n",
      "\n"
     ]
    },
    {
     "name": "stdout",
     "output_type": "stream",
     "text": [
      "Epoch 80, Loss 0.0482\n",
      "Training Accuracy: 0.9527, Testing Accuracy: 0.9612\n",
      "\n"
     ]
    },
    {
     "name": "stdout",
     "output_type": "stream",
     "text": [
      "Epoch 90, Loss 0.0466\n",
      "Training Accuracy: 0.9541, Testing Accuracy: 0.9627\n",
      "\n"
     ]
    },
    {
     "name": "stdout",
     "output_type": "stream",
     "text": [
      "Epoch 100, Loss 0.0452\n",
      "Training Accuracy: 0.9550, Testing Accuracy: 0.9642\n",
      "\n"
     ]
    },
    {
     "name": "stdout",
     "output_type": "stream",
     "text": [
      "Epoch 110, Loss 0.0441\n",
      "Training Accuracy: 0.9558, Testing Accuracy: 0.9647\n",
      "\n"
     ]
    },
    {
     "name": "stdout",
     "output_type": "stream",
     "text": [
      "Epoch 120, Loss 0.0431\n",
      "Training Accuracy: 0.9567, Testing Accuracy: 0.9657\n",
      "\n"
     ]
    },
    {
     "name": "stdout",
     "output_type": "stream",
     "text": [
      "Epoch 130, Loss 0.0422\n",
      "Training Accuracy: 0.9571, Testing Accuracy: 0.9657\n",
      "\n"
     ]
    },
    {
     "name": "stdout",
     "output_type": "stream",
     "text": [
      "Epoch 140, Loss 0.0414\n",
      "Training Accuracy: 0.9579, Testing Accuracy: 0.9652\n",
      "\n"
     ]
    },
    {
     "name": "stdout",
     "output_type": "stream",
     "text": [
      "Epoch 150, Loss 0.0407\n",
      "Training Accuracy: 0.9584, Testing Accuracy: 0.9657\n",
      "\n"
     ]
    },
    {
     "name": "stdout",
     "output_type": "stream",
     "text": [
      "Epoch 160, Loss 0.04\n",
      "Training Accuracy: 0.9589, Testing Accuracy: 0.9657\n",
      "\n"
     ]
    },
    {
     "name": "stdout",
     "output_type": "stream",
     "text": [
      "Epoch 170, Loss 0.0395\n",
      "Training Accuracy: 0.9593, Testing Accuracy: 0.9657\n",
      "\n"
     ]
    },
    {
     "name": "stdout",
     "output_type": "stream",
     "text": [
      "Epoch 180, Loss 0.0389\n",
      "Training Accuracy: 0.9594, Testing Accuracy: 0.9662\n",
      "\n"
     ]
    },
    {
     "name": "stdout",
     "output_type": "stream",
     "text": [
      "Epoch 190, Loss 0.0384\n",
      "Training Accuracy: 0.9600, Testing Accuracy: 0.9657\n",
      "\n"
     ]
    },
    {
     "name": "stdout",
     "output_type": "stream",
     "text": [
      "Epoch 200, Loss 0.038\n",
      "Training Accuracy: 0.9604, Testing Accuracy: 0.9662\n",
      "\n"
     ]
    },
    {
     "name": "stdout",
     "output_type": "stream",
     "text": [
      "Epoch 210, Loss 0.0375\n",
      "Training Accuracy: 0.9606, Testing Accuracy: 0.9662\n",
      "\n"
     ]
    },
    {
     "name": "stdout",
     "output_type": "stream",
     "text": [
      "Epoch 220, Loss 0.0372\n",
      "Training Accuracy: 0.9606, Testing Accuracy: 0.9672\n",
      "\n"
     ]
    },
    {
     "name": "stdout",
     "output_type": "stream",
     "text": [
      "Epoch 230, Loss 0.0368\n",
      "Training Accuracy: 0.9609, Testing Accuracy: 0.9677\n",
      "\n"
     ]
    },
    {
     "name": "stdout",
     "output_type": "stream",
     "text": [
      "Epoch 240, Loss 0.0364\n",
      "Training Accuracy: 0.9614, Testing Accuracy: 0.9677\n",
      "\n"
     ]
    },
    {
     "data": {
      "text/plain": [
       "0.017441130422696963"
      ]
     },
     "execution_count": 23,
     "metadata": {},
     "output_type": "execute_result"
    }
   ],
   "source": [
    "lr_learner.train_loop(dl)"
   ]
  },
  {
   "cell_type": "code",
   "execution_count": 24,
   "id": "ca410940",
   "metadata": {
    "execution": {
     "iopub.execute_input": "2022-05-11T20:12:48.825006Z",
     "iopub.status.busy": "2022-05-11T20:12:48.824400Z",
     "iopub.status.idle": "2022-05-11T20:12:49.070507Z",
     "shell.execute_reply": "2022-05-11T20:12:49.071005Z"
    },
    "papermill": {
     "duration": 0.301686,
     "end_time": "2022-05-11T20:12:49.071168",
     "exception": false,
     "start_time": "2022-05-11T20:12:48.769482",
     "status": "completed"
    },
    "tags": []
   },
   "outputs": [
    {
     "data": {
      "text/plain": [
       "<matplotlib.legend.Legend at 0x7f6ce7a4bc88>"
      ]
     },
     "execution_count": 24,
     "metadata": {},
     "output_type": "execute_result"
    },
    {
     "data": {
      "image/png": "[encoded data removed]",
      "text/plain": [
       "<Figure size 1080x720 with 1 Axes>"
      ]
     },
     "metadata": {
      "needs_background": "light"
     },
     "output_type": "display_data"
    }
   ],
   "source": [
    "#comparing the results of NN and LR\n",
    "plt.figure(figsize=(15,10))\n",
    "\n",
    "# Neural Network plots\n",
    "plt.plot(acc_nn.accuracies, 'r-', label = \"Training Accuracies - NN\")\n",
    "plt.plot(acc_nn.test_accuracies, 'g-', label = \"Testing Accuracies - NN\")\n",
    "\n",
    "# Logistic Regression plots\n",
    "plt.plot(acc_lr.accuracies, 'k-', label = \"Training Accuracies - LR\")\n",
    "plt.plot(acc_lr.test_accuracies, 'b-', label = \"Testing Accuracies - LR\")\n",
    "plt.legend()"
   ]
  },
  {
   "cell_type": "markdown",
   "id": "80dfb35c",
   "metadata": {
    "papermill": {
     "duration": 0.047686,
     "end_time": "2022-05-11T20:12:49.167409",
     "exception": false,
     "start_time": "2022-05-11T20:12:49.119723",
     "status": "completed"
    },
    "tags": []
   },
   "source": [
    "#### Plotting the outputs of this layer of the NN.\n"
   ]
  },
  {
   "cell_type": "code",
   "execution_count": 25,
   "id": "45eb2ff5",
   "metadata": {
    "execution": {
     "iopub.execute_input": "2022-05-11T20:12:49.268771Z",
     "iopub.status.busy": "2022-05-11T20:12:49.268209Z",
     "iopub.status.idle": "2022-05-11T20:12:49.286230Z",
     "shell.execute_reply": "2022-05-11T20:12:49.285699Z"
    },
    "papermill": {
     "duration": 0.072405,
     "end_time": "2022-05-11T20:12:49.286356",
     "exception": false,
     "start_time": "2022-05-11T20:12:49.213951",
     "status": "completed"
    },
    "tags": []
   },
   "outputs": [],
   "source": [
    "new_model = Model(layers[:-2])\n",
    "testing_plot = new_model(testing_data_x)"
   ]
  },
  {
   "cell_type": "code",
   "execution_count": 26,
   "id": "4c0a5485",
   "metadata": {
    "execution": {
     "iopub.execute_input": "2022-05-11T20:12:49.386964Z",
     "iopub.status.busy": "2022-05-11T20:12:49.385725Z",
     "iopub.status.idle": "2022-05-11T20:12:49.622750Z",
     "shell.execute_reply": "2022-05-11T20:12:49.622220Z"
    },
    "papermill": {
     "duration": 0.289432,
     "end_time": "2022-05-11T20:12:49.622884",
     "exception": false,
     "start_time": "2022-05-11T20:12:49.333452",
     "status": "completed"
    },
    "tags": []
   },
   "outputs": [
    {
     "data": {
      "text/plain": [
       "Text(0.5, 1.0, 'Outputs')"
      ]
     },
     "execution_count": 26,
     "metadata": {},
     "output_type": "execute_result"
    },
    {
     "data": {
      "image/png": "[encoded data removed]",
      "text/plain": [
       "<Figure size 576x504 with 1 Axes>"
      ]
     },
     "metadata": {
      "needs_background": "light"
     },
     "output_type": "display_data"
    }
   ],
   "source": [
    "# Plotting the scatter plot of points and color coding by class\n",
    "plt.figure(figsize=(8,7))\n",
    "plt.scatter(testing_plot[:,0], testing_plot[:,1], alpha = 0.1, c = y_test.ravel());\n",
    "plt.title('Outputs')"
   ]
  },
  {
   "cell_type": "markdown",
   "id": "a74fcf8f",
   "metadata": {
    "papermill": {
     "duration": 0.047831,
     "end_time": "2022-05-11T20:12:49.720903",
     "exception": false,
     "start_time": "2022-05-11T20:12:49.673072",
     "status": "completed"
    },
    "tags": []
   },
   "source": [
    "Probability contours"
   ]
  },
  {
   "cell_type": "code",
   "execution_count": 27,
   "id": "d0afc8e3",
   "metadata": {
    "execution": {
     "iopub.execute_input": "2022-05-11T20:12:49.857890Z",
     "iopub.status.busy": "2022-05-11T20:12:49.857268Z",
     "iopub.status.idle": "2022-05-11T20:12:49.871225Z",
     "shell.execute_reply": "2022-05-11T20:12:49.870700Z"
    },
    "papermill": {
     "duration": 0.10121,
     "end_time": "2022-05-11T20:12:49.871354",
     "exception": false,
     "start_time": "2022-05-11T20:12:49.770144",
     "status": "completed"
    },
    "tags": []
   },
   "outputs": [],
   "source": [
    "model_prob = Model(layers[-2:]) "
   ]
  },
  {
   "cell_type": "code",
   "execution_count": 28,
   "id": "9b96e238",
   "metadata": {
    "execution": {
     "iopub.execute_input": "2022-05-11T20:12:49.977924Z",
     "iopub.status.busy": "2022-05-11T20:12:49.976796Z",
     "iopub.status.idle": "2022-05-11T20:12:49.992274Z",
     "shell.execute_reply": "2022-05-11T20:12:49.992922Z"
    },
    "papermill": {
     "duration": 0.07211,
     "end_time": "2022-05-11T20:12:49.993084",
     "exception": false,
     "start_time": "2022-05-11T20:12:49.920974",
     "status": "completed"
    },
    "tags": []
   },
   "outputs": [],
   "source": [
    "#creating the x and y ranges according to the above generated plot.\n",
    "x_range = np.linspace(-4, 1, 100) \n",
    "y_range = np.linspace(-6, 6, 100) \n",
    "x_grid, y_grid = np.meshgrid(x_range, y_range) # x_grid and y_grig are of size 100 X 100\n",
    "\n",
    "# converting x_grid and y_grid to continuous arrays\n",
    "x_gridflat = np.ravel(x_grid)\n",
    "y_gridflat = np.ravel(y_grid)\n",
    "\n",
    "# The last layer of the current model takes two columns as input. Hence transpose of np.vstack() is required.\n",
    "X = np.vstack((x_gridflat, y_gridflat)).T\n",
    "\n",
    "prob_contour = model_prob(X).reshape(100,100) "
   ]
  },
  {
   "cell_type": "code",
   "execution_count": 29,
   "id": "da72499a",
   "metadata": {
    "execution": {
     "iopub.execute_input": "2022-05-11T20:12:50.109046Z",
     "iopub.status.busy": "2022-05-11T20:12:50.108427Z",
     "iopub.status.idle": "2022-05-11T20:12:50.382095Z",
     "shell.execute_reply": "2022-05-11T20:12:50.382556Z"
    },
    "papermill": {
     "duration": 0.339991,
     "end_time": "2022-05-11T20:12:50.382717",
     "exception": false,
     "start_time": "2022-05-11T20:12:50.042726",
     "status": "completed"
    },
    "tags": []
   },
   "outputs": [
    {
     "data": {
      "image/png": "[encoded data removed]",
      "text/plain": [
       "<Figure size 720x648 with 1 Axes>"
      ]
     },
     "metadata": {
      "needs_background": "light"
     },
     "output_type": "display_data"
    }
   ],
   "source": [
    "plt.figure(figsize=(10,9))\n",
    "plt.scatter(testing_plot[:,0], testing_plot[:,1], alpha = 0.1, c = y_test.ravel())\n",
    "contours = plt.contour(x_grid,y_grid,prob_contour)\n",
    "plt.title('Probability Contours')\n",
    "plt.clabel(contours, inline = True );"
   ]
  },
  {
   "cell_type": "code",
   "execution_count": null,
   "id": "e81b4ac7",
   "metadata": {
    "papermill": {
     "duration": 0.051006,
     "end_time": "2022-05-11T20:12:50.486137",
     "exception": false,
     "start_time": "2022-05-11T20:12:50.435131",
     "status": "completed"
    },
    "tags": []
   },
   "outputs": [],
   "source": []
  }
 ],
 "metadata": {
  "kernelspec": {
   "display_name": "Python 3",
   "language": "python",
   "name": "python3"
  },
  "language_info": {
   "codemirror_mode": {
    "name": "ipython",
    "version": 3
   },
   "file_extension": ".py",
   "mimetype": "text/x-python",
   "name": "python",
   "nbconvert_exporter": "python",
   "pygments_lexer": "ipython3",
   "version": "3.6.15"
  },
  "papermill": {
   "default_parameters": {},
   "duration": 113.344642,
   "end_time": "2022-05-11T20:12:50.959616",
   "environment_variables": {},
   "exception": null,
   "input_path": "2020-08-11-part2.ipynb",
   "output_path": "2020-08-11-part2.ipynb",
   "parameters": {},
   "start_time": "2022-05-11T20:10:57.614974",
   "version": "2.3.3"
  }
 },
 "nbformat": 4,
 "nbformat_minor": 5
}