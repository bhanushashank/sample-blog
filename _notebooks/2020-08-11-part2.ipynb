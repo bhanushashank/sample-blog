{
 "cells": [
  {
   "cell_type": "markdown",
   "id": "98380cd3",
   "metadata": {
    "papermill": {
     "duration": 0.030037,
     "end_time": "2022-08-30T20:10:46.740298",
     "exception": false,
     "start_time": "2022-08-30T20:10:46.710261",
     "status": "completed"
    },
    "tags": []
   },
   "source": [
    "# Distinguish Your Own Digits (DYOD)"
   ]
  },
  {
   "cell_type": "markdown",
   "id": "ef31240d",
   "metadata": {
    "papermill": {
     "duration": 0.024129,
     "end_time": "2022-08-30T20:10:46.789902",
     "exception": false,
     "start_time": "2022-08-30T20:10:46.765773",
     "status": "completed"
    },
    "tags": []
   },
   "source": [
    "You are going to write a classifier that distinguishes between the number 3 and number 8."
   ]
  },
  {
   "cell_type": "code",
   "execution_count": 1,
   "id": "b15c8646",
   "metadata": {
    "execution": {
     "iopub.execute_input": "2022-08-30T20:10:46.849094Z",
     "iopub.status.busy": "2022-08-30T20:10:46.848398Z",
     "iopub.status.idle": "2022-08-30T20:10:46.859664Z",
     "shell.execute_reply": "2022-08-30T20:10:46.859146Z"
    },
    "papermill": {
     "duration": 0.045651,
     "end_time": "2022-08-30T20:10:46.859795",
     "exception": false,
     "start_time": "2022-08-30T20:10:46.814144",
     "status": "completed"
    },
    "tags": []
   },
   "outputs": [],
   "source": [
    "%load_ext autoreload\n",
    "%autoreload 2"
   ]
  },
  {
   "cell_type": "code",
   "execution_count": 2,
   "id": "22ef38dc",
   "metadata": {
    "execution": {
     "iopub.execute_input": "2022-08-30T20:10:46.913656Z",
     "iopub.status.busy": "2022-08-30T20:10:46.913046Z",
     "iopub.status.idle": "2022-08-30T20:10:47.481651Z",
     "shell.execute_reply": "2022-08-30T20:10:47.481012Z"
    },
    "papermill": {
     "duration": 0.597615,
     "end_time": "2022-08-30T20:10:47.481772",
     "exception": false,
     "start_time": "2022-08-30T20:10:46.884157",
     "status": "completed"
    },
    "tags": []
   },
   "outputs": [],
   "source": [
    "%matplotlib inline\n",
    "import numpy as np\n",
    "import matplotlib.pyplot as plt\n",
    "import pandas as pd"
   ]
  },
  {
   "cell_type": "markdown",
   "id": "ba036198",
   "metadata": {
    "papermill": {
     "duration": 0.02848,
     "end_time": "2022-08-30T20:10:47.536248",
     "exception": false,
     "start_time": "2022-08-30T20:10:47.507768",
     "status": "completed"
    },
    "tags": []
   },
   "source": [
    "From the command line run `pip install mnist`. This is a library that will help you bring down the mnist dataset. If you run this from a notebook, you need to put  `!pip install mnist` in a cell by itself."
   ]
  },
  {
   "cell_type": "code",
   "execution_count": 3,
   "id": "bb6ad8a1",
   "metadata": {
    "execution": {
     "iopub.execute_input": "2022-08-30T20:10:47.589472Z",
     "iopub.status.busy": "2022-08-30T20:10:47.588884Z",
     "iopub.status.idle": "2022-08-30T20:10:49.261310Z",
     "shell.execute_reply": "2022-08-30T20:10:49.261773Z"
    },
    "papermill": {
     "duration": 1.701339,
     "end_time": "2022-08-30T20:10:49.261926",
     "exception": false,
     "start_time": "2022-08-30T20:10:47.560587",
     "status": "completed"
    },
    "tags": []
   },
   "outputs": [
    {
     "name": "stdout",
     "output_type": "stream",
     "text": [
      "Collecting mnist\r\n"
     ]
    },
    {
     "name": "stdout",
     "output_type": "stream",
     "text": [
      "  Downloading mnist-0.2.2-py2.py3-none-any.whl (3.5 kB)\r\n",
      "Requirement already satisfied: numpy in /opt/hostedtoolcache/Python/3.6.15/x64/lib/python3.6/site-packages (from mnist) (1.19.5)\r\n"
     ]
    },
    {
     "name": "stdout",
     "output_type": "stream",
     "text": [
      "Installing collected packages: mnist\r\n",
      "Successfully installed mnist-0.2.2\r\n"
     ]
    }
   ],
   "source": [
    "!pip install mnist"
   ]
  },
  {
   "cell_type": "markdown",
   "id": "69df9c9a",
   "metadata": {
    "papermill": {
     "duration": 0.025419,
     "end_time": "2022-08-30T20:10:49.315893",
     "exception": false,
     "start_time": "2022-08-30T20:10:49.290474",
     "status": "completed"
    },
    "tags": []
   },
   "source": [
    "## Preparing the Data"
   ]
  },
  {
   "cell_type": "code",
   "execution_count": 4,
   "id": "7f69d806",
   "metadata": {
    "execution": {
     "iopub.execute_input": "2022-08-30T20:10:49.374075Z",
     "iopub.status.busy": "2022-08-30T20:10:49.373501Z",
     "iopub.status.idle": "2022-08-30T20:10:49.390337Z",
     "shell.execute_reply": "2022-08-30T20:10:49.389835Z"
    },
    "papermill": {
     "duration": 0.04541,
     "end_time": "2022-08-30T20:10:49.390457",
     "exception": false,
     "start_time": "2022-08-30T20:10:49.345047",
     "status": "completed"
    },
    "tags": []
   },
   "outputs": [],
   "source": [
    "import mnist"
   ]
  },
  {
   "cell_type": "code",
   "execution_count": 5,
   "id": "a411e44f",
   "metadata": {
    "execution": {
     "iopub.execute_input": "2022-08-30T20:10:49.448690Z",
     "iopub.status.busy": "2022-08-30T20:10:49.448093Z",
     "iopub.status.idle": "2022-08-30T20:10:49.925291Z",
     "shell.execute_reply": "2022-08-30T20:10:49.925753Z"
    },
    "papermill": {
     "duration": 0.510239,
     "end_time": "2022-08-30T20:10:49.925898",
     "exception": false,
     "start_time": "2022-08-30T20:10:49.415659",
     "status": "completed"
    },
    "tags": []
   },
   "outputs": [],
   "source": [
    "train_images = mnist.train_images()\n",
    "train_labels = mnist.train_labels()"
   ]
  },
  {
   "cell_type": "code",
   "execution_count": 6,
   "id": "dceab3a5",
   "metadata": {
    "execution": {
     "iopub.execute_input": "2022-08-30T20:10:49.986191Z",
     "iopub.status.busy": "2022-08-30T20:10:49.985565Z",
     "iopub.status.idle": "2022-08-30T20:10:49.995775Z",
     "shell.execute_reply": "2022-08-30T20:10:49.996193Z"
    },
    "papermill": {
     "duration": 0.045557,
     "end_time": "2022-08-30T20:10:49.996331",
     "exception": false,
     "start_time": "2022-08-30T20:10:49.950774",
     "status": "completed"
    },
    "tags": []
   },
   "outputs": [
    {
     "data": {
      "text/plain": [
       "((60000, 28, 28), (60000,))"
      ]
     },
     "execution_count": 6,
     "metadata": {},
     "output_type": "execute_result"
    }
   ],
   "source": [
    "train_images.shape, train_labels.shape"
   ]
  },
  {
   "cell_type": "code",
   "execution_count": 7,
   "id": "f50dc2bb",
   "metadata": {
    "execution": {
     "iopub.execute_input": "2022-08-30T20:10:50.055962Z",
     "iopub.status.busy": "2022-08-30T20:10:50.051801Z",
     "iopub.status.idle": "2022-08-30T20:10:50.230106Z",
     "shell.execute_reply": "2022-08-30T20:10:50.228714Z"
    },
    "papermill": {
     "duration": 0.208795,
     "end_time": "2022-08-30T20:10:50.230252",
     "exception": false,
     "start_time": "2022-08-30T20:10:50.021457",
     "status": "completed"
    },
    "tags": []
   },
   "outputs": [],
   "source": [
    "test_images = mnist.test_images()\n",
    "test_labels = mnist.test_labels()"
   ]
  },
  {
   "cell_type": "code",
   "execution_count": 8,
   "id": "fc38cf1b",
   "metadata": {
    "execution": {
     "iopub.execute_input": "2022-08-30T20:10:50.285517Z",
     "iopub.status.busy": "2022-08-30T20:10:50.284899Z",
     "iopub.status.idle": "2022-08-30T20:10:50.298220Z",
     "shell.execute_reply": "2022-08-30T20:10:50.298771Z"
    },
    "papermill": {
     "duration": 0.043428,
     "end_time": "2022-08-30T20:10:50.298913",
     "exception": false,
     "start_time": "2022-08-30T20:10:50.255485",
     "status": "completed"
    },
    "tags": []
   },
   "outputs": [
    {
     "data": {
      "text/plain": [
       "((10000, 28, 28), (10000,))"
      ]
     },
     "execution_count": 8,
     "metadata": {},
     "output_type": "execute_result"
    }
   ],
   "source": [
    "test_images.shape, test_labels.shape"
   ]
  },
  {
   "cell_type": "code",
   "execution_count": 9,
   "id": "f9ed8fe0",
   "metadata": {
    "execution": {
     "iopub.execute_input": "2022-08-30T20:10:50.363082Z",
     "iopub.status.busy": "2022-08-30T20:10:50.362478Z",
     "iopub.status.idle": "2022-08-30T20:10:50.518504Z",
     "shell.execute_reply": "2022-08-30T20:10:50.517995Z"
    },
    "papermill": {
     "duration": 0.190283,
     "end_time": "2022-08-30T20:10:50.518622",
     "exception": false,
     "start_time": "2022-08-30T20:10:50.328339",
     "status": "completed"
    },
    "tags": []
   },
   "outputs": [
    {
     "name": "stdout",
     "output_type": "stream",
     "text": [
      "2\n"
     ]
    },
    {
     "data": {
      "text/plain": [
       "<matplotlib.image.AxesImage at 0x7f1c0ca31978>"
      ]
     },
     "execution_count": 9,
     "metadata": {},
     "output_type": "execute_result"
    },
    {
     "data": {
      "image/png": "[encoded data removed]",
      "text/plain": [
       "<Figure size 432x288 with 1 Axes>"
      ]
     },
     "metadata": {
      "needs_background": "light"
     },
     "output_type": "display_data"
    }
   ],
   "source": [
    "image_index = 7776 # You may select anything up to 60,000\n",
    "print(train_labels[image_index]) \n",
    "plt.imshow(train_images[image_index], cmap='Greys')"
   ]
  },
  {
   "cell_type": "markdown",
   "id": "a8d2388d",
   "metadata": {
    "papermill": {
     "duration": 0.026475,
     "end_time": "2022-08-30T20:10:50.572602",
     "exception": false,
     "start_time": "2022-08-30T20:10:50.546127",
     "status": "completed"
    },
    "tags": []
   },
   "source": [
    "## Filter data to get 3 and 8 out"
   ]
  },
  {
   "cell_type": "code",
   "execution_count": 10,
   "id": "776f7fc7",
   "metadata": {
    "execution": {
     "iopub.execute_input": "2022-08-30T20:10:50.638703Z",
     "iopub.status.busy": "2022-08-30T20:10:50.637124Z",
     "iopub.status.idle": "2022-08-30T20:10:50.651420Z",
     "shell.execute_reply": "2022-08-30T20:10:50.650953Z"
    },
    "papermill": {
     "duration": 0.052378,
     "end_time": "2022-08-30T20:10:50.651538",
     "exception": false,
     "start_time": "2022-08-30T20:10:50.599160",
     "status": "completed"
    },
    "tags": []
   },
   "outputs": [],
   "source": [
    "train_filter = np.where((train_labels == 3 ) | (train_labels == 8))\n",
    "test_filter = np.where((test_labels == 3) | (test_labels == 8))\n",
    "X_train, y_train = train_images[train_filter], train_labels[train_filter]\n",
    "X_test, y_test = test_images[test_filter], test_labels[test_filter]"
   ]
  },
  {
   "cell_type": "markdown",
   "id": "948f0b7e",
   "metadata": {
    "papermill": {
     "duration": 0.027039,
     "end_time": "2022-08-30T20:10:50.705330",
     "exception": false,
     "start_time": "2022-08-30T20:10:50.678291",
     "status": "completed"
    },
    "tags": []
   },
   "source": [
    "We normalize the pizel values in the 0 to 1 range"
   ]
  },
  {
   "cell_type": "code",
   "execution_count": 11,
   "id": "ee4c2166",
   "metadata": {
    "execution": {
     "iopub.execute_input": "2022-08-30T20:10:50.766215Z",
     "iopub.status.busy": "2022-08-30T20:10:50.765394Z",
     "iopub.status.idle": "2022-08-30T20:10:50.810844Z",
     "shell.execute_reply": "2022-08-30T20:10:50.810346Z"
    },
    "papermill": {
     "duration": 0.079035,
     "end_time": "2022-08-30T20:10:50.810970",
     "exception": false,
     "start_time": "2022-08-30T20:10:50.731935",
     "status": "completed"
    },
    "tags": []
   },
   "outputs": [],
   "source": [
    "X_train = X_train/255.\n",
    "X_test = X_test/255."
   ]
  },
  {
   "cell_type": "markdown",
   "id": "ddcf4fab",
   "metadata": {
    "papermill": {
     "duration": 0.026449,
     "end_time": "2022-08-30T20:10:50.864412",
     "exception": false,
     "start_time": "2022-08-30T20:10:50.837963",
     "status": "completed"
    },
    "tags": []
   },
   "source": [
    "And setup the labels as 1 (when the digit is 3) and 0 (when the digit is 8)"
   ]
  },
  {
   "cell_type": "code",
   "execution_count": 12,
   "id": "7dc908f2",
   "metadata": {
    "execution": {
     "iopub.execute_input": "2022-08-30T20:10:50.930366Z",
     "iopub.status.busy": "2022-08-30T20:10:50.929742Z",
     "iopub.status.idle": "2022-08-30T20:10:50.939374Z",
     "shell.execute_reply": "2022-08-30T20:10:50.939846Z"
    },
    "papermill": {
     "duration": 0.049081,
     "end_time": "2022-08-30T20:10:50.939983",
     "exception": false,
     "start_time": "2022-08-30T20:10:50.890902",
     "status": "completed"
    },
    "tags": []
   },
   "outputs": [],
   "source": [
    "y_train = 1*(y_train==3)\n",
    "y_test = 1*(y_test==3)"
   ]
  },
  {
   "cell_type": "code",
   "execution_count": 13,
   "id": "01e4e969",
   "metadata": {
    "execution": {
     "iopub.execute_input": "2022-08-30T20:10:50.997835Z",
     "iopub.status.busy": "2022-08-30T20:10:50.997232Z",
     "iopub.status.idle": "2022-08-30T20:10:51.019266Z",
     "shell.execute_reply": "2022-08-30T20:10:51.018770Z"
    },
    "papermill": {
     "duration": 0.052646,
     "end_time": "2022-08-30T20:10:51.019384",
     "exception": false,
     "start_time": "2022-08-30T20:10:50.966738",
     "status": "completed"
    },
    "tags": []
   },
   "outputs": [
    {
     "data": {
      "text/plain": [
       "((11982, 28, 28), (1984, 28, 28))"
      ]
     },
     "execution_count": 13,
     "metadata": {},
     "output_type": "execute_result"
    }
   ],
   "source": [
    "X_train.shape, X_test.shape"
   ]
  },
  {
   "cell_type": "markdown",
   "id": "5ccf3f85",
   "metadata": {
    "papermill": {
     "duration": 0.026788,
     "end_time": "2022-08-30T20:10:51.077267",
     "exception": false,
     "start_time": "2022-08-30T20:10:51.050479",
     "status": "completed"
    },
    "tags": []
   },
   "source": [
    "We reshape the data to flatten the image pixels into a set of features or co-variates:"
   ]
  },
  {
   "cell_type": "code",
   "execution_count": 14,
   "id": "5286a4a3",
   "metadata": {
    "execution": {
     "iopub.execute_input": "2022-08-30T20:10:51.139838Z",
     "iopub.status.busy": "2022-08-30T20:10:51.139209Z",
     "iopub.status.idle": "2022-08-30T20:10:51.153634Z",
     "shell.execute_reply": "2022-08-30T20:10:51.154084Z"
    },
    "papermill": {
     "duration": 0.049981,
     "end_time": "2022-08-30T20:10:51.154220",
     "exception": false,
     "start_time": "2022-08-30T20:10:51.104239",
     "status": "completed"
    },
    "tags": []
   },
   "outputs": [
    {
     "data": {
      "text/plain": [
       "((11982, 784), (1984, 784))"
      ]
     },
     "execution_count": 14,
     "metadata": {},
     "output_type": "execute_result"
    }
   ],
   "source": [
    "X_train = X_train.reshape(X_train.shape[0], -1)\n",
    "X_test = X_test.reshape(X_test.shape[0], -1)\n",
    "X_train.shape, X_test.shape"
   ]
  },
  {
   "cell_type": "code",
   "execution_count": 15,
   "id": "73c5f88a",
   "metadata": {
    "execution": {
     "iopub.execute_input": "2022-08-30T20:10:51.213414Z",
     "iopub.status.busy": "2022-08-30T20:10:51.212767Z",
     "iopub.status.idle": "2022-08-30T20:10:51.233703Z",
     "shell.execute_reply": "2022-08-30T20:10:51.233186Z"
    },
    "papermill": {
     "duration": 0.052388,
     "end_time": "2022-08-30T20:10:51.233832",
     "exception": false,
     "start_time": "2022-08-30T20:10:51.181444",
     "status": "completed"
    },
    "tags": []
   },
   "outputs": [],
   "source": [
    "#Impoting functions from 'Kudzu'\n",
    "from kudzu.model import Model\n",
    "from kudzu.train import Learner\n",
    "from kudzu.optim import GD\n",
    "from kudzu.data import Data, Sampler,Dataloader\n",
    "\n",
    "from kudzu.callbacks import AccCallback\n",
    "from kudzu.callbacks import ClfCallback\n",
    "\n",
    "from kudzu.loss import MSE\n",
    "\n",
    "from kudzu.layer import Sigmoid,Relu\n",
    "from kudzu.layer import Affine"
   ]
  },
  {
   "cell_type": "markdown",
   "id": "bc01172a",
   "metadata": {
    "papermill": {
     "duration": 0.026959,
     "end_time": "2022-08-30T20:10:51.288486",
     "exception": false,
     "start_time": "2022-08-30T20:10:51.261527",
     "status": "completed"
    },
    "tags": []
   },
   "source": [
    "### Let us create a `Config` class, to store important parameters. \n",
    "This class essentially plays the role of a dictionary."
   ]
  },
  {
   "cell_type": "code",
   "execution_count": 16,
   "id": "978281aa",
   "metadata": {
    "execution": {
     "iopub.execute_input": "2022-08-30T20:10:51.351959Z",
     "iopub.status.busy": "2022-08-30T20:10:51.351326Z",
     "iopub.status.idle": "2022-08-30T20:10:51.367171Z",
     "shell.execute_reply": "2022-08-30T20:10:51.367644Z"
    },
    "papermill": {
     "duration": 0.052242,
     "end_time": "2022-08-30T20:10:51.367784",
     "exception": false,
     "start_time": "2022-08-30T20:10:51.315542",
     "status": "completed"
    },
    "tags": []
   },
   "outputs": [],
   "source": [
    "class Config:\n",
    "    pass\n",
    "config = Config()\n",
    "config.lr = 0.001\n",
    "config.num_epochs = 250\n",
    "config.bs = 50"
   ]
  },
  {
   "cell_type": "markdown",
   "id": "1385fa59",
   "metadata": {
    "papermill": {
     "duration": 0.026989,
     "end_time": "2022-08-30T20:10:51.422070",
     "exception": false,
     "start_time": "2022-08-30T20:10:51.395081",
     "status": "completed"
    },
    "tags": []
   },
   "source": [
    "### Running Models with the Training data\n",
    "Details about the network layers:\n",
    "- A first affine layer has 784 inputs and does 100 affine transforms. These are followed by a Relu\n",
    "- A second affine layer has 100 inputs from the 100 activations of the past layer, and does 100 affine transforms. These are followed by a Relu\n",
    "- A third affine layer has 100 activations and does 2 affine transformations to create an embedding for visualization. There is no non-linearity here.\n",
    "- A final \"logistic regression\" which has an affine transform from 2 inputs to 1 output, which is squeezed through a sigmoid.\n"
   ]
  },
  {
   "cell_type": "code",
   "execution_count": 17,
   "id": "2b9c66db",
   "metadata": {
    "execution": {
     "iopub.execute_input": "2022-08-30T20:10:51.480894Z",
     "iopub.status.busy": "2022-08-30T20:10:51.480284Z",
     "iopub.status.idle": "2022-08-30T20:10:51.493106Z",
     "shell.execute_reply": "2022-08-30T20:10:51.492601Z"
    },
    "papermill": {
     "duration": 0.044026,
     "end_time": "2022-08-30T20:10:51.493221",
     "exception": false,
     "start_time": "2022-08-30T20:10:51.449195",
     "status": "completed"
    },
    "tags": []
   },
   "outputs": [],
   "source": [
    "data = Data(X_train, y_train.reshape(-1,1))\n",
    "sampler = Sampler(data, config.bs, shuffle=True)\n",
    "\n",
    "dl = Dataloader(data, sampler)\n",
    "\n",
    "opt = GD(config.lr)\n",
    "loss = MSE()"
   ]
  },
  {
   "cell_type": "code",
   "execution_count": 18,
   "id": "b275e4c2",
   "metadata": {
    "execution": {
     "iopub.execute_input": "2022-08-30T20:10:51.552048Z",
     "iopub.status.busy": "2022-08-30T20:10:51.551474Z",
     "iopub.status.idle": "2022-08-30T20:10:51.564567Z",
     "shell.execute_reply": "2022-08-30T20:10:51.564078Z"
    },
    "papermill": {
     "duration": 0.044018,
     "end_time": "2022-08-30T20:10:51.564681",
     "exception": false,
     "start_time": "2022-08-30T20:10:51.520663",
     "status": "completed"
    },
    "tags": []
   },
   "outputs": [],
   "source": [
    "training_data_x = X_train\n",
    "testing_data_x = X_test\n",
    "training_data_y = y_train.reshape(-1,1)\n",
    "testing_data_y = y_test.reshape(-1,1)"
   ]
  },
  {
   "cell_type": "code",
   "execution_count": 19,
   "id": "76951160",
   "metadata": {
    "execution": {
     "iopub.execute_input": "2022-08-30T20:10:51.630191Z",
     "iopub.status.busy": "2022-08-30T20:10:51.629544Z",
     "iopub.status.idle": "2022-08-30T20:10:51.639620Z",
     "shell.execute_reply": "2022-08-30T20:10:51.640109Z"
    },
    "papermill": {
     "duration": 0.048363,
     "end_time": "2022-08-30T20:10:51.640243",
     "exception": false,
     "start_time": "2022-08-30T20:10:51.591880",
     "status": "completed"
    },
    "tags": []
   },
   "outputs": [
    {
     "name": "stdout",
     "output_type": "stream",
     "text": [
      "xavier\n",
      "xavier\n",
      "xavier\n",
      "xavier\n",
      "xavier\n"
     ]
    }
   ],
   "source": [
    "layers = [Affine(\"first\", 784, 100), Relu(\"first\"), Affine(\"second\", 100, 100), Relu(\"second\"), Affine(\"third\", 100, 2), Affine(\"last\", 2, 1), Sigmoid(\"last\")]\n",
    "model_nn = Model(layers)\n",
    "model_lr = Model([Affine(\"logits\", 784, 1), Sigmoid(\"sigmoid\")])"
   ]
  },
  {
   "cell_type": "code",
   "execution_count": 20,
   "id": "6eede77a",
   "metadata": {
    "execution": {
     "iopub.execute_input": "2022-08-30T20:10:51.700607Z",
     "iopub.status.busy": "2022-08-30T20:10:51.699991Z",
     "iopub.status.idle": "2022-08-30T20:10:51.714152Z",
     "shell.execute_reply": "2022-08-30T20:10:51.713661Z"
    },
    "papermill": {
     "duration": 0.046409,
     "end_time": "2022-08-30T20:10:51.714273",
     "exception": false,
     "start_time": "2022-08-30T20:10:51.667864",
     "status": "completed"
    },
    "tags": []
   },
   "outputs": [],
   "source": [
    "nn_learner = Learner(loss, model_nn, opt, config.num_epochs)\n",
    "acc_nn = ClfCallback(nn_learner, config.bs, training_data_x , testing_data_x, training_data_y, testing_data_y)\n",
    "nn_learner.set_callbacks([acc_nn])"
   ]
  },
  {
   "cell_type": "code",
   "execution_count": 21,
   "id": "877b6cc7",
   "metadata": {
    "execution": {
     "iopub.execute_input": "2022-08-30T20:10:51.774499Z",
     "iopub.status.busy": "2022-08-30T20:10:51.773901Z",
     "iopub.status.idle": "2022-08-30T20:10:51.786988Z",
     "shell.execute_reply": "2022-08-30T20:10:51.786485Z"
    },
    "papermill": {
     "duration": 0.045184,
     "end_time": "2022-08-30T20:10:51.787110",
     "exception": false,
     "start_time": "2022-08-30T20:10:51.741926",
     "status": "completed"
    },
    "tags": []
   },
   "outputs": [],
   "source": [
    "lr_learner = Learner(loss, model_lr, opt, config.num_epochs)\n",
    "acc_lr = ClfCallback(lr_learner, config.bs, training_data_x , testing_data_x, training_data_y, testing_data_y)\n",
    "lr_learner.set_callbacks([acc_lr])"
   ]
  },
  {
   "cell_type": "code",
   "execution_count": 22,
   "id": "d9b133c3",
   "metadata": {
    "execution": {
     "iopub.execute_input": "2022-08-30T20:10:51.846108Z",
     "iopub.status.busy": "2022-08-30T20:10:51.845536Z",
     "iopub.status.idle": "2022-08-30T20:12:15.143803Z",
     "shell.execute_reply": "2022-08-30T20:12:15.144716Z"
    },
    "papermill": {
     "duration": 83.330264,
     "end_time": "2022-08-30T20:12:15.144892",
     "exception": false,
     "start_time": "2022-08-30T20:10:51.814628",
     "status": "completed"
    },
    "tags": []
   },
   "outputs": [
    {
     "name": "stdout",
     "output_type": "stream",
     "text": [
      "Epoch 0, Loss 0.254\n",
      "Training Accuracy: 0.4599, Testing Accuracy: 0.4718\n",
      "\n"
     ]
    },
    {
     "name": "stdout",
     "output_type": "stream",
     "text": [
      "Epoch 10, Loss 0.2084\n",
      "Training Accuracy: 0.8779, Testing Accuracy: 0.8785\n",
      "\n"
     ]
    },
    {
     "name": "stdout",
     "output_type": "stream",
     "text": [
      "Epoch 20, Loss 0.1062\n",
      "Training Accuracy: 0.9160, Testing Accuracy: 0.9194\n",
      "\n"
     ]
    },
    {
     "name": "stdout",
     "output_type": "stream",
     "text": [
      "Epoch 30, Loss 0.0626\n",
      "Training Accuracy: 0.9391, Testing Accuracy: 0.9481\n",
      "\n"
     ]
    },
    {
     "name": "stdout",
     "output_type": "stream",
     "text": [
      "Epoch 40, Loss 0.0471\n",
      "Training Accuracy: 0.9496, Testing Accuracy: 0.9577\n",
      "\n"
     ]
    },
    {
     "name": "stdout",
     "output_type": "stream",
     "text": [
      "Epoch 50, Loss 0.0399\n",
      "Training Accuracy: 0.9548, Testing Accuracy: 0.9657\n",
      "\n"
     ]
    },
    {
     "name": "stdout",
     "output_type": "stream",
     "text": [
      "Epoch 60, Loss 0.0357\n",
      "Training Accuracy: 0.9592, Testing Accuracy: 0.9682\n",
      "\n"
     ]
    },
    {
     "name": "stdout",
     "output_type": "stream",
     "text": [
      "Epoch 70, Loss 0.0331\n",
      "Training Accuracy: 0.9620, Testing Accuracy: 0.9688\n",
      "\n"
     ]
    },
    {
     "name": "stdout",
     "output_type": "stream",
     "text": [
      "Epoch 80, Loss 0.0311\n",
      "Training Accuracy: 0.9639, Testing Accuracy: 0.9693\n",
      "\n"
     ]
    },
    {
     "name": "stdout",
     "output_type": "stream",
     "text": [
      "Epoch 90, Loss 0.0296\n",
      "Training Accuracy: 0.9654, Testing Accuracy: 0.9688\n",
      "\n"
     ]
    },
    {
     "name": "stdout",
     "output_type": "stream",
     "text": [
      "Epoch 100, Loss 0.0284\n",
      "Training Accuracy: 0.9667, Testing Accuracy: 0.9688\n",
      "\n"
     ]
    },
    {
     "name": "stdout",
     "output_type": "stream",
     "text": [
      "Epoch 110, Loss 0.0274\n",
      "Training Accuracy: 0.9677, Testing Accuracy: 0.9698\n",
      "\n"
     ]
    },
    {
     "name": "stdout",
     "output_type": "stream",
     "text": [
      "Epoch 120, Loss 0.0265\n",
      "Training Accuracy: 0.9689, Testing Accuracy: 0.9693\n",
      "\n"
     ]
    },
    {
     "name": "stdout",
     "output_type": "stream",
     "text": [
      "Epoch 130, Loss 0.0257\n",
      "Training Accuracy: 0.9696, Testing Accuracy: 0.9698\n",
      "\n"
     ]
    },
    {
     "name": "stdout",
     "output_type": "stream",
     "text": [
      "Epoch 140, Loss 0.025\n",
      "Training Accuracy: 0.9705, Testing Accuracy: 0.9688\n",
      "\n"
     ]
    },
    {
     "name": "stdout",
     "output_type": "stream",
     "text": [
      "Epoch 150, Loss 0.0244\n",
      "Training Accuracy: 0.9710, Testing Accuracy: 0.9693\n",
      "\n"
     ]
    },
    {
     "name": "stdout",
     "output_type": "stream",
     "text": [
      "Epoch 160, Loss 0.0238\n",
      "Training Accuracy: 0.9715, Testing Accuracy: 0.9703\n",
      "\n"
     ]
    },
    {
     "name": "stdout",
     "output_type": "stream",
     "text": [
      "Epoch 170, Loss 0.0232\n",
      "Training Accuracy: 0.9721, Testing Accuracy: 0.9713\n",
      "\n"
     ]
    },
    {
     "name": "stdout",
     "output_type": "stream",
     "text": [
      "Epoch 180, Loss 0.0227\n",
      "Training Accuracy: 0.9730, Testing Accuracy: 0.9703\n",
      "\n"
     ]
    },
    {
     "name": "stdout",
     "output_type": "stream",
     "text": [
      "Epoch 190, Loss 0.0223\n",
      "Training Accuracy: 0.9734, Testing Accuracy: 0.9713\n",
      "\n"
     ]
    },
    {
     "name": "stdout",
     "output_type": "stream",
     "text": [
      "Epoch 200, Loss 0.0218\n",
      "Training Accuracy: 0.9740, Testing Accuracy: 0.9713\n",
      "\n"
     ]
    },
    {
     "name": "stdout",
     "output_type": "stream",
     "text": [
      "Epoch 210, Loss 0.0214\n",
      "Training Accuracy: 0.9742, Testing Accuracy: 0.9723\n",
      "\n"
     ]
    },
    {
     "name": "stdout",
     "output_type": "stream",
     "text": [
      "Epoch 220, Loss 0.021\n",
      "Training Accuracy: 0.9746, Testing Accuracy: 0.9723\n",
      "\n"
     ]
    },
    {
     "name": "stdout",
     "output_type": "stream",
     "text": [
      "Epoch 230, Loss 0.0206\n",
      "Training Accuracy: 0.9753, Testing Accuracy: 0.9733\n",
      "\n"
     ]
    },
    {
     "name": "stdout",
     "output_type": "stream",
     "text": [
      "Epoch 240, Loss 0.0202\n",
      "Training Accuracy: 0.9759, Testing Accuracy: 0.9728\n",
      "\n"
     ]
    },
    {
     "data": {
      "text/plain": [
       "0.016403671451007993"
      ]
     },
     "execution_count": 22,
     "metadata": {},
     "output_type": "execute_result"
    }
   ],
   "source": [
    "nn_learner.train_loop(dl)"
   ]
  },
  {
   "cell_type": "code",
   "execution_count": 23,
   "id": "e0163366",
   "metadata": {
    "execution": {
     "iopub.execute_input": "2022-08-30T20:12:15.226520Z",
     "iopub.status.busy": "2022-08-30T20:12:15.225914Z",
     "iopub.status.idle": "2022-08-30T20:12:29.970214Z",
     "shell.execute_reply": "2022-08-30T20:12:29.971107Z"
    },
    "papermill": {
     "duration": 14.791082,
     "end_time": "2022-08-30T20:12:29.971257",
     "exception": false,
     "start_time": "2022-08-30T20:12:15.180175",
     "status": "completed"
    },
    "tags": []
   },
   "outputs": [
    {
     "name": "stdout",
     "output_type": "stream",
     "text": [
      "Epoch 0, Loss 0.2563\n",
      "Training Accuracy: 0.6432, Testing Accuracy: 0.6618\n",
      "\n"
     ]
    },
    {
     "name": "stdout",
     "output_type": "stream",
     "text": [
      "Epoch 10, Loss 0.1008\n",
      "Training Accuracy: 0.9168, Testing Accuracy: 0.9400\n",
      "\n"
     ]
    },
    {
     "name": "stdout",
     "output_type": "stream",
     "text": [
      "Epoch 20, Loss 0.0782\n",
      "Training Accuracy: 0.9298, Testing Accuracy: 0.9486\n",
      "\n"
     ]
    },
    {
     "name": "stdout",
     "output_type": "stream",
     "text": [
      "Epoch 30, Loss 0.0678\n",
      "Training Accuracy: 0.9375, Testing Accuracy: 0.9551\n",
      "\n"
     ]
    },
    {
     "name": "stdout",
     "output_type": "stream",
     "text": [
      "Epoch 40, Loss 0.0615\n",
      "Training Accuracy: 0.9411, Testing Accuracy: 0.9546\n",
      "\n"
     ]
    },
    {
     "name": "stdout",
     "output_type": "stream",
     "text": [
      "Epoch 50, Loss 0.0572\n",
      "Training Accuracy: 0.9434, Testing Accuracy: 0.9556\n",
      "\n"
     ]
    },
    {
     "name": "stdout",
     "output_type": "stream",
     "text": [
      "Epoch 60, Loss 0.0539\n",
      "Training Accuracy: 0.9458, Testing Accuracy: 0.9567\n",
      "\n"
     ]
    },
    {
     "name": "stdout",
     "output_type": "stream",
     "text": [
      "Epoch 70, Loss 0.0514\n",
      "Training Accuracy: 0.9474, Testing Accuracy: 0.9582\n",
      "\n"
     ]
    },
    {
     "name": "stdout",
     "output_type": "stream",
     "text": [
      "Epoch 80, Loss 0.0494\n",
      "Training Accuracy: 0.9493, Testing Accuracy: 0.9582\n",
      "\n"
     ]
    },
    {
     "name": "stdout",
     "output_type": "stream",
     "text": [
      "Epoch 90, Loss 0.0477\n",
      "Training Accuracy: 0.9504, Testing Accuracy: 0.9587\n",
      "\n"
     ]
    },
    {
     "name": "stdout",
     "output_type": "stream",
     "text": [
      "Epoch 100, Loss 0.0463\n",
      "Training Accuracy: 0.9513, Testing Accuracy: 0.9602\n",
      "\n"
     ]
    },
    {
     "name": "stdout",
     "output_type": "stream",
     "text": [
      "Epoch 110, Loss 0.045\n",
      "Training Accuracy: 0.9537, Testing Accuracy: 0.9627\n",
      "\n"
     ]
    },
    {
     "name": "stdout",
     "output_type": "stream",
     "text": [
      "Epoch 120, Loss 0.044\n",
      "Training Accuracy: 0.9546, Testing Accuracy: 0.9642\n",
      "\n"
     ]
    },
    {
     "name": "stdout",
     "output_type": "stream",
     "text": [
      "Epoch 130, Loss 0.043\n",
      "Training Accuracy: 0.9548, Testing Accuracy: 0.9662\n",
      "\n"
     ]
    },
    {
     "name": "stdout",
     "output_type": "stream",
     "text": [
      "Epoch 140, Loss 0.0422\n",
      "Training Accuracy: 0.9555, Testing Accuracy: 0.9662\n",
      "\n"
     ]
    },
    {
     "name": "stdout",
     "output_type": "stream",
     "text": [
      "Epoch 150, Loss 0.0414\n",
      "Training Accuracy: 0.9560, Testing Accuracy: 0.9667\n",
      "\n"
     ]
    },
    {
     "name": "stdout",
     "output_type": "stream",
     "text": [
      "Epoch 160, Loss 0.0408\n",
      "Training Accuracy: 0.9567, Testing Accuracy: 0.9667\n",
      "\n"
     ]
    },
    {
     "name": "stdout",
     "output_type": "stream",
     "text": [
      "Epoch 170, Loss 0.0401\n",
      "Training Accuracy: 0.9575, Testing Accuracy: 0.9667\n",
      "\n"
     ]
    },
    {
     "name": "stdout",
     "output_type": "stream",
     "text": [
      "Epoch 180, Loss 0.0396\n",
      "Training Accuracy: 0.9585, Testing Accuracy: 0.9667\n",
      "\n"
     ]
    },
    {
     "name": "stdout",
     "output_type": "stream",
     "text": [
      "Epoch 190, Loss 0.039\n",
      "Training Accuracy: 0.9589, Testing Accuracy: 0.9672\n",
      "\n"
     ]
    },
    {
     "name": "stdout",
     "output_type": "stream",
     "text": [
      "Epoch 200, Loss 0.0386\n",
      "Training Accuracy: 0.9595, Testing Accuracy: 0.9677\n",
      "\n"
     ]
    },
    {
     "name": "stdout",
     "output_type": "stream",
     "text": [
      "Epoch 210, Loss 0.0381\n",
      "Training Accuracy: 0.9602, Testing Accuracy: 0.9677\n",
      "\n"
     ]
    },
    {
     "name": "stdout",
     "output_type": "stream",
     "text": [
      "Epoch 220, Loss 0.0377\n",
      "Training Accuracy: 0.9610, Testing Accuracy: 0.9677\n",
      "\n"
     ]
    },
    {
     "name": "stdout",
     "output_type": "stream",
     "text": [
      "Epoch 230, Loss 0.0373\n",
      "Training Accuracy: 0.9614, Testing Accuracy: 0.9677\n",
      "\n"
     ]
    },
    {
     "name": "stdout",
     "output_type": "stream",
     "text": [
      "Epoch 240, Loss 0.0369\n",
      "Training Accuracy: 0.9615, Testing Accuracy: 0.9677\n",
      "\n"
     ]
    },
    {
     "data": {
      "text/plain": [
       "0.022691641176416463"
      ]
     },
     "execution_count": 23,
     "metadata": {},
     "output_type": "execute_result"
    }
   ],
   "source": [
    "lr_learner.train_loop(dl)"
   ]
  },
  {
   "cell_type": "code",
   "execution_count": 24,
   "id": "ca410940",
   "metadata": {
    "execution": {
     "iopub.execute_input": "2022-08-30T20:12:30.068812Z",
     "iopub.status.busy": "2022-08-30T20:12:30.068176Z",
     "iopub.status.idle": "2022-08-30T20:12:30.293928Z",
     "shell.execute_reply": "2022-08-30T20:12:30.293415Z"
    },
    "papermill": {
     "duration": 0.281129,
     "end_time": "2022-08-30T20:12:30.294048",
     "exception": false,
     "start_time": "2022-08-30T20:12:30.012919",
     "status": "completed"
    },
    "tags": []
   },
   "outputs": [
    {
     "data": {
      "text/plain": [
       "<matplotlib.legend.Legend at 0x7f1bffde5fd0>"
      ]
     },
     "execution_count": 24,
     "metadata": {},
     "output_type": "execute_result"
    },
    {
     "data": {
      "image/png": "[encoded data removed]",
      "text/plain": [
       "<Figure size 1080x720 with 1 Axes>"
      ]
     },
     "metadata": {
      "needs_background": "light"
     },
     "output_type": "display_data"
    }
   ],
   "source": [
    "#comparing the results of NN and LR\n",
    "plt.figure(figsize=(15,10))\n",
    "\n",
    "# Neural Network plots\n",
    "plt.plot(acc_nn.accuracies, 'r-', label = \"Training Accuracies - NN\")\n",
    "plt.plot(acc_nn.test_accuracies, 'g-', label = \"Testing Accuracies - NN\")\n",
    "\n",
    "# Logistic Regression plots\n",
    "plt.plot(acc_lr.accuracies, 'k-', label = \"Training Accuracies - LR\")\n",
    "plt.plot(acc_lr.test_accuracies, 'b-', label = \"Testing Accuracies - LR\")\n",
    "plt.legend()"
   ]
  },
  {
   "cell_type": "markdown",
   "id": "80dfb35c",
   "metadata": {
    "papermill": {
     "duration": 0.042154,
     "end_time": "2022-08-30T20:12:30.378676",
     "exception": false,
     "start_time": "2022-08-30T20:12:30.336522",
     "status": "completed"
    },
    "tags": []
   },
   "source": [
    "#### Plotting the outputs of this layer of the NN.\n"
   ]
  },
  {
   "cell_type": "code",
   "execution_count": 25,
   "id": "45eb2ff5",
   "metadata": {
    "execution": {
     "iopub.execute_input": "2022-08-30T20:12:30.472734Z",
     "iopub.status.busy": "2022-08-30T20:12:30.467955Z",
     "iopub.status.idle": "2022-08-30T20:12:30.493013Z",
     "shell.execute_reply": "2022-08-30T20:12:30.492056Z"
    },
    "papermill": {
     "duration": 0.072229,
     "end_time": "2022-08-30T20:12:30.493157",
     "exception": false,
     "start_time": "2022-08-30T20:12:30.420928",
     "status": "completed"
    },
    "tags": []
   },
   "outputs": [],
   "source": [
    "new_model = Model(layers[:-2])\n",
    "testing_plot = new_model(testing_data_x)"
   ]
  },
  {
   "cell_type": "code",
   "execution_count": 26,
   "id": "4c0a5485",
   "metadata": {
    "execution": {
     "iopub.execute_input": "2022-08-30T20:12:30.595239Z",
     "iopub.status.busy": "2022-08-30T20:12:30.592982Z",
     "iopub.status.idle": "2022-08-30T20:12:30.794494Z",
     "shell.execute_reply": "2022-08-30T20:12:30.794023Z"
    },
    "papermill": {
     "duration": 0.249308,
     "end_time": "2022-08-30T20:12:30.794615",
     "exception": false,
     "start_time": "2022-08-30T20:12:30.545307",
     "status": "completed"
    },
    "tags": []
   },
   "outputs": [
    {
     "data": {
      "text/plain": [
       "Text(0.5, 1.0, 'Outputs')"
      ]
     },
     "execution_count": 26,
     "metadata": {},
     "output_type": "execute_result"
    },
    {
     "data": {
      "image/png": "[encoded data removed]",
      "text/plain": [
       "<Figure size 576x504 with 1 Axes>"
      ]
     },
     "metadata": {
      "needs_background": "light"
     },
     "output_type": "display_data"
    }
   ],
   "source": [
    "# Plotting the scatter plot of points and color coding by class\n",
    "plt.figure(figsize=(8,7))\n",
    "plt.scatter(testing_plot[:,0], testing_plot[:,1], alpha = 0.1, c = y_test.ravel());\n",
    "plt.title('Outputs')"
   ]
  },
  {
   "cell_type": "markdown",
   "id": "a74fcf8f",
   "metadata": {
    "papermill": {
     "duration": 0.04473,
     "end_time": "2022-08-30T20:12:30.884725",
     "exception": false,
     "start_time": "2022-08-30T20:12:30.839995",
     "status": "completed"
    },
    "tags": []
   },
   "source": [
    "Probability contours"
   ]
  },
  {
   "cell_type": "code",
   "execution_count": 27,
   "id": "d0afc8e3",
   "metadata": {
    "execution": {
     "iopub.execute_input": "2022-08-30T20:12:30.980370Z",
     "iopub.status.busy": "2022-08-30T20:12:30.978193Z",
     "iopub.status.idle": "2022-08-30T20:12:30.991096Z",
     "shell.execute_reply": "2022-08-30T20:12:30.990611Z"
    },
    "papermill": {
     "duration": 0.06211,
     "end_time": "2022-08-30T20:12:30.991211",
     "exception": false,
     "start_time": "2022-08-30T20:12:30.929101",
     "status": "completed"
    },
    "tags": []
   },
   "outputs": [],
   "source": [
    "model_prob = Model(layers[-2:]) "
   ]
  },
  {
   "cell_type": "code",
   "execution_count": 28,
   "id": "9b96e238",
   "metadata": {
    "execution": {
     "iopub.execute_input": "2022-08-30T20:12:31.118322Z",
     "iopub.status.busy": "2022-08-30T20:12:31.117723Z",
     "iopub.status.idle": "2022-08-30T20:12:31.132341Z",
     "shell.execute_reply": "2022-08-30T20:12:31.132770Z"
    },
    "papermill": {
     "duration": 0.096748,
     "end_time": "2022-08-30T20:12:31.132938",
     "exception": false,
     "start_time": "2022-08-30T20:12:31.036190",
     "status": "completed"
    },
    "tags": []
   },
   "outputs": [],
   "source": [
    "#creating the x and y ranges according to the above generated plot.\n",
    "x_range = np.linspace(-4, 1, 100) \n",
    "y_range = np.linspace(-6, 6, 100) \n",
    "x_grid, y_grid = np.meshgrid(x_range, y_range) # x_grid and y_grig are of size 100 X 100\n",
    "\n",
    "# converting x_grid and y_grid to continuous arrays\n",
    "x_gridflat = np.ravel(x_grid)\n",
    "y_gridflat = np.ravel(y_grid)\n",
    "\n",
    "# The last layer of the current model takes two columns as input. Hence transpose of np.vstack() is required.\n",
    "X = np.vstack((x_gridflat, y_gridflat)).T\n",
    "\n",
    "prob_contour = model_prob(X).reshape(100,100) "
   ]
  },
  {
   "cell_type": "code",
   "execution_count": 29,
   "id": "da72499a",
   "metadata": {
    "execution": {
     "iopub.execute_input": "2022-08-30T20:12:31.226613Z",
     "iopub.status.busy": "2022-08-30T20:12:31.226011Z",
     "iopub.status.idle": "2022-08-30T20:12:31.486322Z",
     "shell.execute_reply": "2022-08-30T20:12:31.485851Z"
    },
    "papermill": {
     "duration": 0.308967,
     "end_time": "2022-08-30T20:12:31.486441",
     "exception": false,
     "start_time": "2022-08-30T20:12:31.177474",
     "status": "completed"
    },
    "tags": []
   },
   "outputs": [
    {
     "data": {
      "image/png": "[encoded data removed]",
      "text/plain": [
       "<Figure size 720x648 with 1 Axes>"
      ]
     },
     "metadata": {
      "needs_background": "light"
     },
     "output_type": "display_data"
    }
   ],
   "source": [
    "plt.figure(figsize=(10,9))\n",
    "plt.scatter(testing_plot[:,0], testing_plot[:,1], alpha = 0.1, c = y_test.ravel())\n",
    "contours = plt.contour(x_grid,y_grid,prob_contour)\n",
    "plt.title('Probability Contours')\n",
    "plt.clabel(contours, inline = True );"
   ]
  },
  {
   "cell_type": "code",
   "execution_count": null,
   "id": "e81b4ac7",
   "metadata": {
    "papermill": {
     "duration": 0.047186,
     "end_time": "2022-08-30T20:12:31.581429",
     "exception": false,
     "start_time": "2022-08-30T20:12:31.534243",
     "status": "completed"
    },
    "tags": []
   },
   "outputs": [],
   "source": []
  }
 ],
 "metadata": {
  "kernelspec": {
   "display_name": "Python 3",
   "language": "python",
   "name": "python3"
  },
  "language_info": {
   "codemirror_mode": {
    "name": "ipython",
    "version": 3
   },
   "file_extension": ".py",
   "mimetype": "text/x-python",
   "name": "python",
   "nbconvert_exporter": "python",
   "pygments_lexer": "ipython3",
   "version": "3.6.15"
  },
  "papermill": {
   "default_parameters": {},
   "duration": 106.591139,
   "end_time": "2022-08-30T20:12:32.048006",
   "environment_variables": {},
   "exception": null,
   "input_path": "2020-08-11-part2.ipynb",
   "output_path": "2020-08-11-part2.ipynb",
   "parameters": {},
   "start_time": "2022-08-30T20:10:45.456867",
   "version": "2.3.3"
  }
 },
 "nbformat": 4,
 "nbformat_minor": 5
}