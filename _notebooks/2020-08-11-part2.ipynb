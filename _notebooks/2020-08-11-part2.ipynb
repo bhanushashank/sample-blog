{
 "cells": [
  {
   "cell_type": "markdown",
   "id": "98380cd3",
   "metadata": {
    "papermill": {
     "duration": 0.038355,
     "end_time": "2022-04-15T00:32:32.313110",
     "exception": false,
     "start_time": "2022-04-15T00:32:32.274755",
     "status": "completed"
    },
    "tags": []
   },
   "source": [
    "# Distinguish Your Own Digits (DYOD)"
   ]
  },
  {
   "cell_type": "markdown",
   "id": "ef31240d",
   "metadata": {
    "papermill": {
     "duration": 0.031476,
     "end_time": "2022-04-15T00:32:32.377571",
     "exception": false,
     "start_time": "2022-04-15T00:32:32.346095",
     "status": "completed"
    },
    "tags": []
   },
   "source": [
    "You are going to write a classifier that distinguishes between the number 3 and number 8."
   ]
  },
  {
   "cell_type": "code",
   "execution_count": 1,
   "id": "b15c8646",
   "metadata": {
    "execution": {
     "iopub.execute_input": "2022-04-15T00:32:32.440180Z",
     "iopub.status.busy": "2022-04-15T00:32:32.439643Z",
     "iopub.status.idle": "2022-04-15T00:32:32.449391Z",
     "shell.execute_reply": "2022-04-15T00:32:32.448920Z"
    },
    "papermill": {
     "duration": 0.045728,
     "end_time": "2022-04-15T00:32:32.449510",
     "exception": false,
     "start_time": "2022-04-15T00:32:32.403782",
     "status": "completed"
    },
    "tags": []
   },
   "outputs": [],
   "source": [
    "%load_ext autoreload\n",
    "%autoreload 2"
   ]
  },
  {
   "cell_type": "code",
   "execution_count": 2,
   "id": "22ef38dc",
   "metadata": {
    "execution": {
     "iopub.execute_input": "2022-04-15T00:32:32.510257Z",
     "iopub.status.busy": "2022-04-15T00:32:32.509739Z",
     "iopub.status.idle": "2022-04-15T00:32:33.034132Z",
     "shell.execute_reply": "2022-04-15T00:32:33.033630Z"
    },
    "papermill": {
     "duration": 0.560683,
     "end_time": "2022-04-15T00:32:33.034252",
     "exception": false,
     "start_time": "2022-04-15T00:32:32.473569",
     "status": "completed"
    },
    "tags": []
   },
   "outputs": [],
   "source": [
    "%matplotlib inline\n",
    "import numpy as np\n",
    "import matplotlib.pyplot as plt\n",
    "import pandas as pd"
   ]
  },
  {
   "cell_type": "markdown",
   "id": "ba036198",
   "metadata": {
    "papermill": {
     "duration": 0.023874,
     "end_time": "2022-04-15T00:32:33.081965",
     "exception": false,
     "start_time": "2022-04-15T00:32:33.058091",
     "status": "completed"
    },
    "tags": []
   },
   "source": [
    "From the command line run `pip install mnist`. This is a library that will help you bring down the mnist dataset. If you run this from a notebook, you need to put  `!pip install mnist` in a cell by itself."
   ]
  },
  {
   "cell_type": "code",
   "execution_count": 3,
   "id": "bb6ad8a1",
   "metadata": {
    "execution": {
     "iopub.execute_input": "2022-04-15T00:32:33.135620Z",
     "iopub.status.busy": "2022-04-15T00:32:33.135107Z",
     "iopub.status.idle": "2022-04-15T00:32:35.771347Z",
     "shell.execute_reply": "2022-04-15T00:32:35.770775Z"
    },
    "papermill": {
     "duration": 2.665939,
     "end_time": "2022-04-15T00:32:35.771482",
     "exception": false,
     "start_time": "2022-04-15T00:32:33.105543",
     "status": "completed"
    },
    "tags": []
   },
   "outputs": [
    {
     "name": "stdout",
     "output_type": "stream",
     "text": [
      "Collecting mnist\r\n"
     ]
    },
    {
     "name": "stdout",
     "output_type": "stream",
     "text": [
      "  Downloading mnist-0.2.2-py2.py3-none-any.whl (3.5 kB)\r\n"
     ]
    },
    {
     "name": "stdout",
     "output_type": "stream",
     "text": [
      "Requirement already satisfied: numpy in /opt/hostedtoolcache/Python/3.6.15/x64/lib/python3.6/site-packages (from mnist) (1.19.5)\r\n"
     ]
    },
    {
     "name": "stdout",
     "output_type": "stream",
     "text": [
      "Installing collected packages: mnist\r\n"
     ]
    },
    {
     "name": "stdout",
     "output_type": "stream",
     "text": [
      "Successfully installed mnist-0.2.2\r\n"
     ]
    }
   ],
   "source": [
    "!pip install mnist"
   ]
  },
  {
   "cell_type": "markdown",
   "id": "69df9c9a",
   "metadata": {
    "papermill": {
     "duration": 0.025041,
     "end_time": "2022-04-15T00:32:35.822270",
     "exception": false,
     "start_time": "2022-04-15T00:32:35.797229",
     "status": "completed"
    },
    "tags": []
   },
   "source": [
    "## Preparing the Data"
   ]
  },
  {
   "cell_type": "code",
   "execution_count": 4,
   "id": "7f69d806",
   "metadata": {
    "execution": {
     "iopub.execute_input": "2022-04-15T00:32:35.905206Z",
     "iopub.status.busy": "2022-04-15T00:32:35.893432Z",
     "iopub.status.idle": "2022-04-15T00:32:35.909298Z",
     "shell.execute_reply": "2022-04-15T00:32:35.908842Z"
    },
    "papermill": {
     "duration": 0.06226,
     "end_time": "2022-04-15T00:32:35.909410",
     "exception": false,
     "start_time": "2022-04-15T00:32:35.847150",
     "status": "completed"
    },
    "tags": []
   },
   "outputs": [],
   "source": [
    "import mnist"
   ]
  },
  {
   "cell_type": "code",
   "execution_count": 5,
   "id": "a411e44f",
   "metadata": {
    "execution": {
     "iopub.execute_input": "2022-04-15T00:32:35.966130Z",
     "iopub.status.busy": "2022-04-15T00:32:35.965514Z",
     "iopub.status.idle": "2022-04-15T00:32:36.589349Z",
     "shell.execute_reply": "2022-04-15T00:32:36.588828Z"
    },
    "papermill": {
     "duration": 0.655034,
     "end_time": "2022-04-15T00:32:36.589470",
     "exception": false,
     "start_time": "2022-04-15T00:32:35.934436",
     "status": "completed"
    },
    "tags": []
   },
   "outputs": [],
   "source": [
    "train_images = mnist.train_images()\n",
    "train_labels = mnist.train_labels()"
   ]
  },
  {
   "cell_type": "code",
   "execution_count": 6,
   "id": "dceab3a5",
   "metadata": {
    "execution": {
     "iopub.execute_input": "2022-04-15T00:32:36.643717Z",
     "iopub.status.busy": "2022-04-15T00:32:36.643190Z",
     "iopub.status.idle": "2022-04-15T00:32:36.659226Z",
     "shell.execute_reply": "2022-04-15T00:32:36.658159Z"
    },
    "papermill": {
     "duration": 0.044718,
     "end_time": "2022-04-15T00:32:36.659344",
     "exception": false,
     "start_time": "2022-04-15T00:32:36.614626",
     "status": "completed"
    },
    "tags": []
   },
   "outputs": [
    {
     "data": {
      "text/plain": [
       "((60000, 28, 28), (60000,))"
      ]
     },
     "execution_count": 6,
     "metadata": {},
     "output_type": "execute_result"
    }
   ],
   "source": [
    "train_images.shape, train_labels.shape"
   ]
  },
  {
   "cell_type": "code",
   "execution_count": 7,
   "id": "f50dc2bb",
   "metadata": {
    "execution": {
     "iopub.execute_input": "2022-04-15T00:32:36.720418Z",
     "iopub.status.busy": "2022-04-15T00:32:36.719905Z",
     "iopub.status.idle": "2022-04-15T00:32:36.957738Z",
     "shell.execute_reply": "2022-04-15T00:32:36.957211Z"
    },
    "papermill": {
     "duration": 0.269146,
     "end_time": "2022-04-15T00:32:36.957878",
     "exception": false,
     "start_time": "2022-04-15T00:32:36.688732",
     "status": "completed"
    },
    "tags": []
   },
   "outputs": [],
   "source": [
    "test_images = mnist.test_images()\n",
    "test_labels = mnist.test_labels()"
   ]
  },
  {
   "cell_type": "code",
   "execution_count": 8,
   "id": "fc38cf1b",
   "metadata": {
    "execution": {
     "iopub.execute_input": "2022-04-15T00:32:37.019783Z",
     "iopub.status.busy": "2022-04-15T00:32:37.018746Z",
     "iopub.status.idle": "2022-04-15T00:32:37.033919Z",
     "shell.execute_reply": "2022-04-15T00:32:37.033463Z"
    },
    "papermill": {
     "duration": 0.047153,
     "end_time": "2022-04-15T00:32:37.034036",
     "exception": false,
     "start_time": "2022-04-15T00:32:36.986883",
     "status": "completed"
    },
    "tags": []
   },
   "outputs": [
    {
     "data": {
      "text/plain": [
       "((10000, 28, 28), (10000,))"
      ]
     },
     "execution_count": 8,
     "metadata": {},
     "output_type": "execute_result"
    }
   ],
   "source": [
    "test_images.shape, test_labels.shape"
   ]
  },
  {
   "cell_type": "code",
   "execution_count": 9,
   "id": "f9ed8fe0",
   "metadata": {
    "execution": {
     "iopub.execute_input": "2022-04-15T00:32:37.091761Z",
     "iopub.status.busy": "2022-04-15T00:32:37.091247Z",
     "iopub.status.idle": "2022-04-15T00:32:37.227576Z",
     "shell.execute_reply": "2022-04-15T00:32:37.228048Z"
    },
    "papermill": {
     "duration": 0.168238,
     "end_time": "2022-04-15T00:32:37.228183",
     "exception": false,
     "start_time": "2022-04-15T00:32:37.059945",
     "status": "completed"
    },
    "tags": []
   },
   "outputs": [
    {
     "name": "stdout",
     "output_type": "stream",
     "text": [
      "2\n"
     ]
    },
    {
     "data": {
      "text/plain": [
       "<matplotlib.image.AxesImage at 0x7fd2a9fe9358>"
      ]
     },
     "execution_count": 9,
     "metadata": {},
     "output_type": "execute_result"
    },
    {
     "data": {
      "image/png": "[encoded data removed]",
      "text/plain": [
       "<Figure size 432x288 with 1 Axes>"
      ]
     },
     "metadata": {
      "needs_background": "light"
     },
     "output_type": "display_data"
    }
   ],
   "source": [
    "image_index = 7776 # You may select anything up to 60,000\n",
    "print(train_labels[image_index]) \n",
    "plt.imshow(train_images[image_index], cmap='Greys')"
   ]
  },
  {
   "cell_type": "markdown",
   "id": "a8d2388d",
   "metadata": {
    "papermill": {
     "duration": 0.02795,
     "end_time": "2022-04-15T00:32:37.283378",
     "exception": false,
     "start_time": "2022-04-15T00:32:37.255428",
     "status": "completed"
    },
    "tags": []
   },
   "source": [
    "## Filter data to get 3 and 8 out"
   ]
  },
  {
   "cell_type": "code",
   "execution_count": 10,
   "id": "776f7fc7",
   "metadata": {
    "execution": {
     "iopub.execute_input": "2022-04-15T00:32:37.344726Z",
     "iopub.status.busy": "2022-04-15T00:32:37.344175Z",
     "iopub.status.idle": "2022-04-15T00:32:37.362372Z",
     "shell.execute_reply": "2022-04-15T00:32:37.361949Z"
    },
    "papermill": {
     "duration": 0.049523,
     "end_time": "2022-04-15T00:32:37.362484",
     "exception": false,
     "start_time": "2022-04-15T00:32:37.312961",
     "status": "completed"
    },
    "tags": []
   },
   "outputs": [],
   "source": [
    "train_filter = np.where((train_labels == 3 ) | (train_labels == 8))\n",
    "test_filter = np.where((test_labels == 3) | (test_labels == 8))\n",
    "X_train, y_train = train_images[train_filter], train_labels[train_filter]\n",
    "X_test, y_test = test_images[test_filter], test_labels[test_filter]"
   ]
  },
  {
   "cell_type": "markdown",
   "id": "948f0b7e",
   "metadata": {
    "papermill": {
     "duration": 0.028483,
     "end_time": "2022-04-15T00:32:37.419809",
     "exception": false,
     "start_time": "2022-04-15T00:32:37.391326",
     "status": "completed"
    },
    "tags": []
   },
   "source": [
    "We normalize the pizel values in the 0 to 1 range"
   ]
  },
  {
   "cell_type": "code",
   "execution_count": 11,
   "id": "ee4c2166",
   "metadata": {
    "execution": {
     "iopub.execute_input": "2022-04-15T00:32:37.489775Z",
     "iopub.status.busy": "2022-04-15T00:32:37.489258Z",
     "iopub.status.idle": "2022-04-15T00:32:37.536925Z",
     "shell.execute_reply": "2022-04-15T00:32:37.536322Z"
    },
    "papermill": {
     "duration": 0.090233,
     "end_time": "2022-04-15T00:32:37.537067",
     "exception": false,
     "start_time": "2022-04-15T00:32:37.446834",
     "status": "completed"
    },
    "tags": []
   },
   "outputs": [],
   "source": [
    "X_train = X_train/255.\n",
    "X_test = X_test/255."
   ]
  },
  {
   "cell_type": "markdown",
   "id": "ddcf4fab",
   "metadata": {
    "papermill": {
     "duration": 0.032604,
     "end_time": "2022-04-15T00:32:37.602512",
     "exception": false,
     "start_time": "2022-04-15T00:32:37.569908",
     "status": "completed"
    },
    "tags": []
   },
   "source": [
    "And setup the labels as 1 (when the digit is 3) and 0 (when the digit is 8)"
   ]
  },
  {
   "cell_type": "code",
   "execution_count": 12,
   "id": "7dc908f2",
   "metadata": {
    "execution": {
     "iopub.execute_input": "2022-04-15T00:32:37.677295Z",
     "iopub.status.busy": "2022-04-15T00:32:37.676756Z",
     "iopub.status.idle": "2022-04-15T00:32:37.689272Z",
     "shell.execute_reply": "2022-04-15T00:32:37.688846Z"
    },
    "papermill": {
     "duration": 0.048817,
     "end_time": "2022-04-15T00:32:37.689384",
     "exception": false,
     "start_time": "2022-04-15T00:32:37.640567",
     "status": "completed"
    },
    "tags": []
   },
   "outputs": [],
   "source": [
    "y_train = 1*(y_train==3)\n",
    "y_test = 1*(y_test==3)"
   ]
  },
  {
   "cell_type": "code",
   "execution_count": 13,
   "id": "01e4e969",
   "metadata": {
    "execution": {
     "iopub.execute_input": "2022-04-15T00:32:37.748809Z",
     "iopub.status.busy": "2022-04-15T00:32:37.748241Z",
     "iopub.status.idle": "2022-04-15T00:32:37.761994Z",
     "shell.execute_reply": "2022-04-15T00:32:37.762434Z"
    },
    "papermill": {
     "duration": 0.044945,
     "end_time": "2022-04-15T00:32:37.762562",
     "exception": false,
     "start_time": "2022-04-15T00:32:37.717617",
     "status": "completed"
    },
    "tags": []
   },
   "outputs": [
    {
     "data": {
      "text/plain": [
       "((11982, 28, 28), (1984, 28, 28))"
      ]
     },
     "execution_count": 13,
     "metadata": {},
     "output_type": "execute_result"
    }
   ],
   "source": [
    "X_train.shape, X_test.shape"
   ]
  },
  {
   "cell_type": "markdown",
   "id": "5ccf3f85",
   "metadata": {
    "papermill": {
     "duration": 0.028707,
     "end_time": "2022-04-15T00:32:37.818289",
     "exception": false,
     "start_time": "2022-04-15T00:32:37.789582",
     "status": "completed"
    },
    "tags": []
   },
   "source": [
    "We reshape the data to flatten the image pixels into a set of features or co-variates:"
   ]
  },
  {
   "cell_type": "code",
   "execution_count": 14,
   "id": "5286a4a3",
   "metadata": {
    "execution": {
     "iopub.execute_input": "2022-04-15T00:32:37.886529Z",
     "iopub.status.busy": "2022-04-15T00:32:37.882951Z",
     "iopub.status.idle": "2022-04-15T00:32:37.894127Z",
     "shell.execute_reply": "2022-04-15T00:32:37.893711Z"
    },
    "papermill": {
     "duration": 0.048139,
     "end_time": "2022-04-15T00:32:37.894241",
     "exception": false,
     "start_time": "2022-04-15T00:32:37.846102",
     "status": "completed"
    },
    "tags": []
   },
   "outputs": [
    {
     "data": {
      "text/plain": [
       "((11982, 784), (1984, 784))"
      ]
     },
     "execution_count": 14,
     "metadata": {},
     "output_type": "execute_result"
    }
   ],
   "source": [
    "X_train = X_train.reshape(X_train.shape[0], -1)\n",
    "X_test = X_test.reshape(X_test.shape[0], -1)\n",
    "X_train.shape, X_test.shape"
   ]
  },
  {
   "cell_type": "code",
   "execution_count": 15,
   "id": "73c5f88a",
   "metadata": {
    "execution": {
     "iopub.execute_input": "2022-04-15T00:32:37.964908Z",
     "iopub.status.busy": "2022-04-15T00:32:37.964270Z",
     "iopub.status.idle": "2022-04-15T00:32:37.984043Z",
     "shell.execute_reply": "2022-04-15T00:32:37.983609Z"
    },
    "papermill": {
     "duration": 0.054322,
     "end_time": "2022-04-15T00:32:37.984158",
     "exception": false,
     "start_time": "2022-04-15T00:32:37.929836",
     "status": "completed"
    },
    "tags": []
   },
   "outputs": [],
   "source": [
    "#Impoting functions from 'Kudzu'\n",
    "from kudzu.model import Model\n",
    "from kudzu.train import Learner\n",
    "from kudzu.optim import GD\n",
    "from kudzu.data import Data, Sampler,Dataloader\n",
    "\n",
    "from kudzu.callbacks import AccCallback\n",
    "from kudzu.callbacks import ClfCallback\n",
    "\n",
    "from kudzu.loss import MSE\n",
    "\n",
    "from kudzu.layer import Sigmoid,Relu\n",
    "from kudzu.layer import Affine"
   ]
  },
  {
   "cell_type": "markdown",
   "id": "bc01172a",
   "metadata": {
    "papermill": {
     "duration": 0.026934,
     "end_time": "2022-04-15T00:32:38.038342",
     "exception": false,
     "start_time": "2022-04-15T00:32:38.011408",
     "status": "completed"
    },
    "tags": []
   },
   "source": [
    "### Let us create a `Config` class, to store important parameters. \n",
    "This class essentially plays the role of a dictionary."
   ]
  },
  {
   "cell_type": "code",
   "execution_count": 16,
   "id": "978281aa",
   "metadata": {
    "execution": {
     "iopub.execute_input": "2022-04-15T00:32:38.096575Z",
     "iopub.status.busy": "2022-04-15T00:32:38.096049Z",
     "iopub.status.idle": "2022-04-15T00:32:38.108264Z",
     "shell.execute_reply": "2022-04-15T00:32:38.108758Z"
    },
    "papermill": {
     "duration": 0.043497,
     "end_time": "2022-04-15T00:32:38.108900",
     "exception": false,
     "start_time": "2022-04-15T00:32:38.065403",
     "status": "completed"
    },
    "tags": []
   },
   "outputs": [],
   "source": [
    "class Config:\n",
    "    pass\n",
    "config = Config()\n",
    "config.lr = 0.001\n",
    "config.num_epochs = 250\n",
    "config.bs = 50"
   ]
  },
  {
   "cell_type": "markdown",
   "id": "1385fa59",
   "metadata": {
    "papermill": {
     "duration": 0.027503,
     "end_time": "2022-04-15T00:32:38.164996",
     "exception": false,
     "start_time": "2022-04-15T00:32:38.137493",
     "status": "completed"
    },
    "tags": []
   },
   "source": [
    "### Running Models with the Training data\n",
    "Details about the network layers:\n",
    "- A first affine layer has 784 inputs and does 100 affine transforms. These are followed by a Relu\n",
    "- A second affine layer has 100 inputs from the 100 activations of the past layer, and does 100 affine transforms. These are followed by a Relu\n",
    "- A third affine layer has 100 activations and does 2 affine transformations to create an embedding for visualization. There is no non-linearity here.\n",
    "- A final \"logistic regression\" which has an affine transform from 2 inputs to 1 output, which is squeezed through a sigmoid.\n"
   ]
  },
  {
   "cell_type": "code",
   "execution_count": 17,
   "id": "2b9c66db",
   "metadata": {
    "execution": {
     "iopub.execute_input": "2022-04-15T00:32:38.228340Z",
     "iopub.status.busy": "2022-04-15T00:32:38.227808Z",
     "iopub.status.idle": "2022-04-15T00:32:38.239345Z",
     "shell.execute_reply": "2022-04-15T00:32:38.238931Z"
    },
    "papermill": {
     "duration": 0.046133,
     "end_time": "2022-04-15T00:32:38.239454",
     "exception": false,
     "start_time": "2022-04-15T00:32:38.193321",
     "status": "completed"
    },
    "tags": []
   },
   "outputs": [],
   "source": [
    "data = Data(X_train, y_train.reshape(-1,1))\n",
    "sampler = Sampler(data, config.bs, shuffle=True)\n",
    "\n",
    "dl = Dataloader(data, sampler)\n",
    "\n",
    "opt = GD(config.lr)\n",
    "loss = MSE()"
   ]
  },
  {
   "cell_type": "code",
   "execution_count": 18,
   "id": "b275e4c2",
   "metadata": {
    "execution": {
     "iopub.execute_input": "2022-04-15T00:32:38.299540Z",
     "iopub.status.busy": "2022-04-15T00:32:38.299028Z",
     "iopub.status.idle": "2022-04-15T00:32:38.312167Z",
     "shell.execute_reply": "2022-04-15T00:32:38.312737Z"
    },
    "papermill": {
     "duration": 0.045756,
     "end_time": "2022-04-15T00:32:38.312949",
     "exception": false,
     "start_time": "2022-04-15T00:32:38.267193",
     "status": "completed"
    },
    "tags": []
   },
   "outputs": [],
   "source": [
    "training_data_x = X_train\n",
    "testing_data_x = X_test\n",
    "training_data_y = y_train.reshape(-1,1)\n",
    "testing_data_y = y_test.reshape(-1,1)"
   ]
  },
  {
   "cell_type": "code",
   "execution_count": 19,
   "id": "76951160",
   "metadata": {
    "execution": {
     "iopub.execute_input": "2022-04-15T00:32:38.376479Z",
     "iopub.status.busy": "2022-04-15T00:32:38.375918Z",
     "iopub.status.idle": "2022-04-15T00:32:38.393466Z",
     "shell.execute_reply": "2022-04-15T00:32:38.393033Z"
    },
    "papermill": {
     "duration": 0.051211,
     "end_time": "2022-04-15T00:32:38.393582",
     "exception": false,
     "start_time": "2022-04-15T00:32:38.342371",
     "status": "completed"
    },
    "tags": []
   },
   "outputs": [
    {
     "name": "stdout",
     "output_type": "stream",
     "text": [
      "xavier\n",
      "xavier\n",
      "xavier\n",
      "xavier\n",
      "xavier\n"
     ]
    }
   ],
   "source": [
    "layers = [Affine(\"first\", 784, 100), Relu(\"first\"), Affine(\"second\", 100, 100), Relu(\"second\"), Affine(\"third\", 100, 2), Affine(\"last\", 2, 1), Sigmoid(\"last\")]\n",
    "model_nn = Model(layers)\n",
    "model_lr = Model([Affine(\"logits\", 784, 1), Sigmoid(\"sigmoid\")])"
   ]
  },
  {
   "cell_type": "code",
   "execution_count": 20,
   "id": "6eede77a",
   "metadata": {
    "execution": {
     "iopub.execute_input": "2022-04-15T00:32:38.456969Z",
     "iopub.status.busy": "2022-04-15T00:32:38.456414Z",
     "iopub.status.idle": "2022-04-15T00:32:38.467996Z",
     "shell.execute_reply": "2022-04-15T00:32:38.468430Z"
    },
    "papermill": {
     "duration": 0.045093,
     "end_time": "2022-04-15T00:32:38.468557",
     "exception": false,
     "start_time": "2022-04-15T00:32:38.423464",
     "status": "completed"
    },
    "tags": []
   },
   "outputs": [],
   "source": [
    "nn_learner = Learner(loss, model_nn, opt, config.num_epochs)\n",
    "acc_nn = ClfCallback(nn_learner, config.bs, training_data_x , testing_data_x, training_data_y, testing_data_y)\n",
    "nn_learner.set_callbacks([acc_nn])"
   ]
  },
  {
   "cell_type": "code",
   "execution_count": 21,
   "id": "877b6cc7",
   "metadata": {
    "execution": {
     "iopub.execute_input": "2022-04-15T00:32:38.528125Z",
     "iopub.status.busy": "2022-04-15T00:32:38.527598Z",
     "iopub.status.idle": "2022-04-15T00:32:38.538653Z",
     "shell.execute_reply": "2022-04-15T00:32:38.538234Z"
    },
    "papermill": {
     "duration": 0.043097,
     "end_time": "2022-04-15T00:32:38.538763",
     "exception": false,
     "start_time": "2022-04-15T00:32:38.495666",
     "status": "completed"
    },
    "tags": []
   },
   "outputs": [],
   "source": [
    "lr_learner = Learner(loss, model_lr, opt, config.num_epochs)\n",
    "acc_lr = ClfCallback(lr_learner, config.bs, training_data_x , testing_data_x, training_data_y, testing_data_y)\n",
    "lr_learner.set_callbacks([acc_lr])"
   ]
  },
  {
   "cell_type": "code",
   "execution_count": 22,
   "id": "d9b133c3",
   "metadata": {
    "execution": {
     "iopub.execute_input": "2022-04-15T00:32:38.597052Z",
     "iopub.status.busy": "2022-04-15T00:32:38.596501Z",
     "iopub.status.idle": "2022-04-15T00:33:52.494989Z",
     "shell.execute_reply": "2022-04-15T00:33:52.495797Z"
    },
    "papermill": {
     "duration": 73.929781,
     "end_time": "2022-04-15T00:33:52.495947",
     "exception": false,
     "start_time": "2022-04-15T00:32:38.566166",
     "status": "completed"
    },
    "tags": []
   },
   "outputs": [
    {
     "name": "stdout",
     "output_type": "stream",
     "text": [
      "Epoch 0, Loss 0.2401\n",
      "Training Accuracy: 0.7035, Testing Accuracy: 0.7198\n",
      "\n"
     ]
    },
    {
     "name": "stdout",
     "output_type": "stream",
     "text": [
      "Epoch 10, Loss 0.0708\n",
      "Training Accuracy: 0.9345, Testing Accuracy: 0.9435\n",
      "\n"
     ]
    },
    {
     "name": "stdout",
     "output_type": "stream",
     "text": [
      "Epoch 20, Loss 0.0471\n",
      "Training Accuracy: 0.9510, Testing Accuracy: 0.9556\n",
      "\n"
     ]
    },
    {
     "name": "stdout",
     "output_type": "stream",
     "text": [
      "Epoch 30, Loss 0.0388\n",
      "Training Accuracy: 0.9562, Testing Accuracy: 0.9657\n",
      "\n"
     ]
    },
    {
     "name": "stdout",
     "output_type": "stream",
     "text": [
      "Epoch 40, Loss 0.0344\n",
      "Training Accuracy: 0.9600, Testing Accuracy: 0.9693\n",
      "\n"
     ]
    },
    {
     "name": "stdout",
     "output_type": "stream",
     "text": [
      "Epoch 50, Loss 0.0316\n",
      "Training Accuracy: 0.9621, Testing Accuracy: 0.9703\n",
      "\n"
     ]
    },
    {
     "name": "stdout",
     "output_type": "stream",
     "text": [
      "Epoch 60, Loss 0.0295\n",
      "Training Accuracy: 0.9644, Testing Accuracy: 0.9733\n",
      "\n"
     ]
    },
    {
     "name": "stdout",
     "output_type": "stream",
     "text": [
      "Epoch 70, Loss 0.0279\n",
      "Training Accuracy: 0.9666, Testing Accuracy: 0.9743\n",
      "\n"
     ]
    },
    {
     "name": "stdout",
     "output_type": "stream",
     "text": [
      "Epoch 80, Loss 0.0265\n",
      "Training Accuracy: 0.9678, Testing Accuracy: 0.9753\n",
      "\n"
     ]
    },
    {
     "name": "stdout",
     "output_type": "stream",
     "text": [
      "Epoch 90, Loss 0.0254\n",
      "Training Accuracy: 0.9698, Testing Accuracy: 0.9753\n",
      "\n"
     ]
    },
    {
     "name": "stdout",
     "output_type": "stream",
     "text": [
      "Epoch 100, Loss 0.0244\n",
      "Training Accuracy: 0.9710, Testing Accuracy: 0.9753\n",
      "\n"
     ]
    },
    {
     "name": "stdout",
     "output_type": "stream",
     "text": [
      "Epoch 110, Loss 0.0235\n",
      "Training Accuracy: 0.9721, Testing Accuracy: 0.9753\n",
      "\n"
     ]
    },
    {
     "name": "stdout",
     "output_type": "stream",
     "text": [
      "Epoch 120, Loss 0.0227\n",
      "Training Accuracy: 0.9734, Testing Accuracy: 0.9753\n",
      "\n"
     ]
    },
    {
     "name": "stdout",
     "output_type": "stream",
     "text": [
      "Epoch 130, Loss 0.022\n",
      "Training Accuracy: 0.9748, Testing Accuracy: 0.9758\n",
      "\n"
     ]
    },
    {
     "name": "stdout",
     "output_type": "stream",
     "text": [
      "Epoch 140, Loss 0.0214\n",
      "Training Accuracy: 0.9752, Testing Accuracy: 0.9768\n",
      "\n"
     ]
    },
    {
     "name": "stdout",
     "output_type": "stream",
     "text": [
      "Epoch 150, Loss 0.0208\n",
      "Training Accuracy: 0.9757, Testing Accuracy: 0.9768\n",
      "\n"
     ]
    },
    {
     "name": "stdout",
     "output_type": "stream",
     "text": [
      "Epoch 160, Loss 0.0203\n",
      "Training Accuracy: 0.9765, Testing Accuracy: 0.9763\n",
      "\n"
     ]
    },
    {
     "name": "stdout",
     "output_type": "stream",
     "text": [
      "Epoch 170, Loss 0.0197\n",
      "Training Accuracy: 0.9776, Testing Accuracy: 0.9763\n",
      "\n"
     ]
    },
    {
     "name": "stdout",
     "output_type": "stream",
     "text": [
      "Epoch 180, Loss 0.0192\n",
      "Training Accuracy: 0.9780, Testing Accuracy: 0.9768\n",
      "\n"
     ]
    },
    {
     "name": "stdout",
     "output_type": "stream",
     "text": [
      "Epoch 190, Loss 0.0188\n",
      "Training Accuracy: 0.9786, Testing Accuracy: 0.9763\n",
      "\n"
     ]
    },
    {
     "name": "stdout",
     "output_type": "stream",
     "text": [
      "Epoch 200, Loss 0.0183\n",
      "Training Accuracy: 0.9790, Testing Accuracy: 0.9763\n",
      "\n"
     ]
    },
    {
     "name": "stdout",
     "output_type": "stream",
     "text": [
      "Epoch 210, Loss 0.0179\n",
      "Training Accuracy: 0.9799, Testing Accuracy: 0.9768\n",
      "\n"
     ]
    },
    {
     "name": "stdout",
     "output_type": "stream",
     "text": [
      "Epoch 220, Loss 0.0175\n",
      "Training Accuracy: 0.9797, Testing Accuracy: 0.9773\n",
      "\n"
     ]
    },
    {
     "name": "stdout",
     "output_type": "stream",
     "text": [
      "Epoch 230, Loss 0.0171\n",
      "Training Accuracy: 0.9803, Testing Accuracy: 0.9773\n",
      "\n"
     ]
    },
    {
     "name": "stdout",
     "output_type": "stream",
     "text": [
      "Epoch 240, Loss 0.0167\n",
      "Training Accuracy: 0.9808, Testing Accuracy: 0.9773\n",
      "\n"
     ]
    },
    {
     "data": {
      "text/plain": [
       "0.0022749073343228342"
      ]
     },
     "execution_count": 22,
     "metadata": {},
     "output_type": "execute_result"
    }
   ],
   "source": [
    "nn_learner.train_loop(dl)"
   ]
  },
  {
   "cell_type": "code",
   "execution_count": 23,
   "id": "e0163366",
   "metadata": {
    "execution": {
     "iopub.execute_input": "2022-04-15T00:33:52.574380Z",
     "iopub.status.busy": "2022-04-15T00:33:52.573856Z",
     "iopub.status.idle": "2022-04-15T00:34:05.815477Z",
     "shell.execute_reply": "2022-04-15T00:34:05.816212Z"
    },
    "papermill": {
     "duration": 13.285505,
     "end_time": "2022-04-15T00:34:05.816361",
     "exception": false,
     "start_time": "2022-04-15T00:33:52.530856",
     "status": "completed"
    },
    "tags": []
   },
   "outputs": [
    {
     "name": "stdout",
     "output_type": "stream",
     "text": [
      "Epoch 0, Loss 0.2535\n",
      "Training Accuracy: 0.6209, Testing Accuracy: 0.6482\n",
      "\n"
     ]
    },
    {
     "name": "stdout",
     "output_type": "stream",
     "text": [
      "Epoch 10, Loss 0.1041\n",
      "Training Accuracy: 0.9095, Testing Accuracy: 0.9189\n",
      "\n"
     ]
    },
    {
     "name": "stdout",
     "output_type": "stream",
     "text": [
      "Epoch 20, Loss 0.0786\n",
      "Training Accuracy: 0.9305, Testing Accuracy: 0.9380\n",
      "\n"
     ]
    },
    {
     "name": "stdout",
     "output_type": "stream",
     "text": [
      "Epoch 30, Loss 0.0673\n",
      "Training Accuracy: 0.9385, Testing Accuracy: 0.9461\n",
      "\n"
     ]
    },
    {
     "name": "stdout",
     "output_type": "stream",
     "text": [
      "Epoch 40, Loss 0.0605\n",
      "Training Accuracy: 0.9443, Testing Accuracy: 0.9521\n",
      "\n"
     ]
    },
    {
     "name": "stdout",
     "output_type": "stream",
     "text": [
      "Epoch 50, Loss 0.056\n",
      "Training Accuracy: 0.9476, Testing Accuracy: 0.9582\n",
      "\n"
     ]
    },
    {
     "name": "stdout",
     "output_type": "stream",
     "text": [
      "Epoch 60, Loss 0.0528\n",
      "Training Accuracy: 0.9501, Testing Accuracy: 0.9602\n",
      "\n"
     ]
    },
    {
     "name": "stdout",
     "output_type": "stream",
     "text": [
      "Epoch 70, Loss 0.0503\n",
      "Training Accuracy: 0.9519, Testing Accuracy: 0.9617\n",
      "\n"
     ]
    },
    {
     "name": "stdout",
     "output_type": "stream",
     "text": [
      "Epoch 80, Loss 0.0483\n",
      "Training Accuracy: 0.9533, Testing Accuracy: 0.9622\n",
      "\n"
     ]
    },
    {
     "name": "stdout",
     "output_type": "stream",
     "text": [
      "Epoch 90, Loss 0.0466\n",
      "Training Accuracy: 0.9542, Testing Accuracy: 0.9637\n",
      "\n"
     ]
    },
    {
     "name": "stdout",
     "output_type": "stream",
     "text": [
      "Epoch 100, Loss 0.0452\n",
      "Training Accuracy: 0.9553, Testing Accuracy: 0.9642\n",
      "\n"
     ]
    },
    {
     "name": "stdout",
     "output_type": "stream",
     "text": [
      "Epoch 110, Loss 0.0441\n",
      "Training Accuracy: 0.9561, Testing Accuracy: 0.9657\n",
      "\n"
     ]
    },
    {
     "name": "stdout",
     "output_type": "stream",
     "text": [
      "Epoch 120, Loss 0.043\n",
      "Training Accuracy: 0.9572, Testing Accuracy: 0.9657\n",
      "\n"
     ]
    },
    {
     "name": "stdout",
     "output_type": "stream",
     "text": [
      "Epoch 130, Loss 0.0421\n",
      "Training Accuracy: 0.9578, Testing Accuracy: 0.9657\n",
      "\n"
     ]
    },
    {
     "name": "stdout",
     "output_type": "stream",
     "text": [
      "Epoch 140, Loss 0.0413\n",
      "Training Accuracy: 0.9582, Testing Accuracy: 0.9667\n",
      "\n"
     ]
    },
    {
     "name": "stdout",
     "output_type": "stream",
     "text": [
      "Epoch 150, Loss 0.0406\n",
      "Training Accuracy: 0.9587, Testing Accuracy: 0.9672\n",
      "\n"
     ]
    },
    {
     "name": "stdout",
     "output_type": "stream",
     "text": [
      "Epoch 160, Loss 0.04\n",
      "Training Accuracy: 0.9594, Testing Accuracy: 0.9672\n",
      "\n"
     ]
    },
    {
     "name": "stdout",
     "output_type": "stream",
     "text": [
      "Epoch 170, Loss 0.0394\n",
      "Training Accuracy: 0.9596, Testing Accuracy: 0.9667\n",
      "\n"
     ]
    },
    {
     "name": "stdout",
     "output_type": "stream",
     "text": [
      "Epoch 180, Loss 0.0389\n",
      "Training Accuracy: 0.9599, Testing Accuracy: 0.9667\n",
      "\n"
     ]
    },
    {
     "name": "stdout",
     "output_type": "stream",
     "text": [
      "Epoch 190, Loss 0.0384\n",
      "Training Accuracy: 0.9602, Testing Accuracy: 0.9662\n",
      "\n"
     ]
    },
    {
     "name": "stdout",
     "output_type": "stream",
     "text": [
      "Epoch 200, Loss 0.0379\n",
      "Training Accuracy: 0.9606, Testing Accuracy: 0.9662\n",
      "\n"
     ]
    },
    {
     "name": "stdout",
     "output_type": "stream",
     "text": [
      "Epoch 210, Loss 0.0375\n",
      "Training Accuracy: 0.9612, Testing Accuracy: 0.9657\n",
      "\n"
     ]
    },
    {
     "name": "stdout",
     "output_type": "stream",
     "text": [
      "Epoch 220, Loss 0.0371\n",
      "Training Accuracy: 0.9615, Testing Accuracy: 0.9667\n",
      "\n"
     ]
    },
    {
     "name": "stdout",
     "output_type": "stream",
     "text": [
      "Epoch 230, Loss 0.0367\n",
      "Training Accuracy: 0.9615, Testing Accuracy: 0.9667\n",
      "\n"
     ]
    },
    {
     "name": "stdout",
     "output_type": "stream",
     "text": [
      "Epoch 240, Loss 0.0364\n",
      "Training Accuracy: 0.9618, Testing Accuracy: 0.9667\n",
      "\n"
     ]
    },
    {
     "data": {
      "text/plain": [
       "0.01749364306489542"
      ]
     },
     "execution_count": 23,
     "metadata": {},
     "output_type": "execute_result"
    }
   ],
   "source": [
    "lr_learner.train_loop(dl)"
   ]
  },
  {
   "cell_type": "code",
   "execution_count": 24,
   "id": "ca410940",
   "metadata": {
    "execution": {
     "iopub.execute_input": "2022-04-15T00:34:05.914070Z",
     "iopub.status.busy": "2022-04-15T00:34:05.913527Z",
     "iopub.status.idle": "2022-04-15T00:34:06.135665Z",
     "shell.execute_reply": "2022-04-15T00:34:06.135138Z"
    },
    "papermill": {
     "duration": 0.277871,
     "end_time": "2022-04-15T00:34:06.135803",
     "exception": false,
     "start_time": "2022-04-15T00:34:05.857932",
     "status": "completed"
    },
    "tags": []
   },
   "outputs": [
    {
     "data": {
      "text/plain": [
       "<matplotlib.legend.Legend at 0x7fd2a9bc9ac8>"
      ]
     },
     "execution_count": 24,
     "metadata": {},
     "output_type": "execute_result"
    },
    {
     "data": {
      "image/png": "[encoded data removed]",
      "text/plain": [
       "<Figure size 1080x720 with 1 Axes>"
      ]
     },
     "metadata": {
      "needs_background": "light"
     },
     "output_type": "display_data"
    }
   ],
   "source": [
    "#comparing the results of NN and LR\n",
    "plt.figure(figsize=(15,10))\n",
    "\n",
    "# Neural Network plots\n",
    "plt.plot(acc_nn.accuracies, 'r-', label = \"Training Accuracies - NN\")\n",
    "plt.plot(acc_nn.test_accuracies, 'g-', label = \"Testing Accuracies - NN\")\n",
    "\n",
    "# Logistic Regression plots\n",
    "plt.plot(acc_lr.accuracies, 'k-', label = \"Training Accuracies - LR\")\n",
    "plt.plot(acc_lr.test_accuracies, 'b-', label = \"Testing Accuracies - LR\")\n",
    "plt.legend()"
   ]
  },
  {
   "cell_type": "markdown",
   "id": "80dfb35c",
   "metadata": {
    "papermill": {
     "duration": 0.043725,
     "end_time": "2022-04-15T00:34:06.224519",
     "exception": false,
     "start_time": "2022-04-15T00:34:06.180794",
     "status": "completed"
    },
    "tags": []
   },
   "source": [
    "#### Plotting the outputs of this layer of the NN.\n"
   ]
  },
  {
   "cell_type": "code",
   "execution_count": 25,
   "id": "45eb2ff5",
   "metadata": {
    "execution": {
     "iopub.execute_input": "2022-04-15T00:34:06.321886Z",
     "iopub.status.busy": "2022-04-15T00:34:06.321348Z",
     "iopub.status.idle": "2022-04-15T00:34:06.340832Z",
     "shell.execute_reply": "2022-04-15T00:34:06.341265Z"
    },
    "papermill": {
     "duration": 0.073549,
     "end_time": "2022-04-15T00:34:06.341415",
     "exception": false,
     "start_time": "2022-04-15T00:34:06.267866",
     "status": "completed"
    },
    "tags": []
   },
   "outputs": [],
   "source": [
    "new_model = Model(layers[:-2])\n",
    "testing_plot = new_model(testing_data_x)"
   ]
  },
  {
   "cell_type": "code",
   "execution_count": 26,
   "id": "4c0a5485",
   "metadata": {
    "execution": {
     "iopub.execute_input": "2022-04-15T00:34:06.438421Z",
     "iopub.status.busy": "2022-04-15T00:34:06.437400Z",
     "iopub.status.idle": "2022-04-15T00:34:06.619241Z",
     "shell.execute_reply": "2022-04-15T00:34:06.618796Z"
    },
    "papermill": {
     "duration": 0.229634,
     "end_time": "2022-04-15T00:34:06.619364",
     "exception": false,
     "start_time": "2022-04-15T00:34:06.389730",
     "status": "completed"
    },
    "tags": []
   },
   "outputs": [
    {
     "data": {
      "text/plain": [
       "Text(0.5, 1.0, 'Outputs')"
      ]
     },
     "execution_count": 26,
     "metadata": {},
     "output_type": "execute_result"
    },
    {
     "data": {
      "image/png": "[encoded data removed]",
      "text/plain": [
       "<Figure size 576x504 with 1 Axes>"
      ]
     },
     "metadata": {
      "needs_background": "light"
     },
     "output_type": "display_data"
    }
   ],
   "source": [
    "# Plotting the scatter plot of points and color coding by class\n",
    "plt.figure(figsize=(8,7))\n",
    "plt.scatter(testing_plot[:,0], testing_plot[:,1], alpha = 0.1, c = y_test.ravel());\n",
    "plt.title('Outputs')"
   ]
  },
  {
   "cell_type": "markdown",
   "id": "a74fcf8f",
   "metadata": {
    "papermill": {
     "duration": 0.044941,
     "end_time": "2022-04-15T00:34:06.708735",
     "exception": false,
     "start_time": "2022-04-15T00:34:06.663794",
     "status": "completed"
    },
    "tags": []
   },
   "source": [
    "Probability contours"
   ]
  },
  {
   "cell_type": "code",
   "execution_count": 27,
   "id": "d0afc8e3",
   "metadata": {
    "execution": {
     "iopub.execute_input": "2022-04-15T00:34:06.803429Z",
     "iopub.status.busy": "2022-04-15T00:34:06.802785Z",
     "iopub.status.idle": "2022-04-15T00:34:06.813049Z",
     "shell.execute_reply": "2022-04-15T00:34:06.813442Z"
    },
    "papermill": {
     "duration": 0.060249,
     "end_time": "2022-04-15T00:34:06.813573",
     "exception": false,
     "start_time": "2022-04-15T00:34:06.753324",
     "status": "completed"
    },
    "tags": []
   },
   "outputs": [],
   "source": [
    "model_prob = Model(layers[-2:]) "
   ]
  },
  {
   "cell_type": "code",
   "execution_count": 28,
   "id": "9b96e238",
   "metadata": {
    "execution": {
     "iopub.execute_input": "2022-04-15T00:34:06.936528Z",
     "iopub.status.busy": "2022-04-15T00:34:06.936012Z",
     "iopub.status.idle": "2022-04-15T00:34:06.949339Z",
     "shell.execute_reply": "2022-04-15T00:34:06.949733Z"
    },
    "papermill": {
     "duration": 0.063957,
     "end_time": "2022-04-15T00:34:06.949866",
     "exception": false,
     "start_time": "2022-04-15T00:34:06.885909",
     "status": "completed"
    },
    "tags": []
   },
   "outputs": [],
   "source": [
    "#creating the x and y ranges according to the above generated plot.\n",
    "x_range = np.linspace(-4, 1, 100) \n",
    "y_range = np.linspace(-6, 6, 100) \n",
    "x_grid, y_grid = np.meshgrid(x_range, y_range) # x_grid and y_grig are of size 100 X 100\n",
    "\n",
    "# converting x_grid and y_grid to continuous arrays\n",
    "x_gridflat = np.ravel(x_grid)\n",
    "y_gridflat = np.ravel(y_grid)\n",
    "\n",
    "# The last layer of the current model takes two columns as input. Hence transpose of np.vstack() is required.\n",
    "X = np.vstack((x_gridflat, y_gridflat)).T\n",
    "\n",
    "prob_contour = model_prob(X).reshape(100,100) "
   ]
  },
  {
   "cell_type": "code",
   "execution_count": 29,
   "id": "da72499a",
   "metadata": {
    "execution": {
     "iopub.execute_input": "2022-04-15T00:34:07.051163Z",
     "iopub.status.busy": "2022-04-15T00:34:07.050621Z",
     "iopub.status.idle": "2022-04-15T00:34:07.275655Z",
     "shell.execute_reply": "2022-04-15T00:34:07.275216Z"
    },
    "papermill": {
     "duration": 0.280961,
     "end_time": "2022-04-15T00:34:07.275776",
     "exception": false,
     "start_time": "2022-04-15T00:34:06.994815",
     "status": "completed"
    },
    "tags": []
   },
   "outputs": [
    {
     "data": {
      "image/png": "[encoded data removed]",
      "text/plain": [
       "<Figure size 720x648 with 1 Axes>"
      ]
     },
     "metadata": {
      "needs_background": "light"
     },
     "output_type": "display_data"
    }
   ],
   "source": [
    "plt.figure(figsize=(10,9))\n",
    "plt.scatter(testing_plot[:,0], testing_plot[:,1], alpha = 0.1, c = y_test.ravel())\n",
    "contours = plt.contour(x_grid,y_grid,prob_contour)\n",
    "plt.title('Probability Contours')\n",
    "plt.clabel(contours, inline = True );"
   ]
  },
  {
   "cell_type": "code",
   "execution_count": null,
   "id": "e81b4ac7",
   "metadata": {
    "papermill": {
     "duration": 0.046783,
     "end_time": "2022-04-15T00:34:07.369813",
     "exception": false,
     "start_time": "2022-04-15T00:34:07.323030",
     "status": "completed"
    },
    "tags": []
   },
   "outputs": [],
   "source": []
  }
 ],
 "metadata": {
  "kernelspec": {
   "display_name": "Python 3",
   "language": "python",
   "name": "python3"
  },
  "language_info": {
   "codemirror_mode": {
    "name": "ipython",
    "version": 3
   },
   "file_extension": ".py",
   "mimetype": "text/x-python",
   "name": "python",
   "nbconvert_exporter": "python",
   "pygments_lexer": "ipython3",
   "version": "3.6.15"
  },
  "papermill": {
   "default_parameters": {},
   "duration": 96.494879,
   "end_time": "2022-04-15T00:34:07.835169",
   "environment_variables": {},
   "exception": null,
   "input_path": "2020-08-11-part2.ipynb",
   "output_path": "2020-08-11-part2.ipynb",
   "parameters": {},
   "start_time": "2022-04-15T00:32:31.340290",
   "version": "2.3.3"
  }
 },
 "nbformat": 4,
 "nbformat_minor": 5
}