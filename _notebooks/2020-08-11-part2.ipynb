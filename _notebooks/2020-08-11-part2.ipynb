{
 "cells": [
  {
   "cell_type": "markdown",
   "id": "98380cd3",
   "metadata": {
    "papermill": {
     "duration": 0.030326,
     "end_time": "2022-07-20T00:37:44.119100",
     "exception": false,
     "start_time": "2022-07-20T00:37:44.088774",
     "status": "completed"
    },
    "tags": []
   },
   "source": [
    "# Distinguish Your Own Digits (DYOD)"
   ]
  },
  {
   "cell_type": "markdown",
   "id": "ef31240d",
   "metadata": {
    "papermill": {
     "duration": 0.024078,
     "end_time": "2022-07-20T00:37:44.168079",
     "exception": false,
     "start_time": "2022-07-20T00:37:44.144001",
     "status": "completed"
    },
    "tags": []
   },
   "source": [
    "You are going to write a classifier that distinguishes between the number 3 and number 8."
   ]
  },
  {
   "cell_type": "code",
   "execution_count": 1,
   "id": "b15c8646",
   "metadata": {
    "execution": {
     "iopub.execute_input": "2022-07-20T00:37:44.228698Z",
     "iopub.status.busy": "2022-07-20T00:37:44.228007Z",
     "iopub.status.idle": "2022-07-20T00:37:44.241093Z",
     "shell.execute_reply": "2022-07-20T00:37:44.240576Z"
    },
    "papermill": {
     "duration": 0.048898,
     "end_time": "2022-07-20T00:37:44.241248",
     "exception": false,
     "start_time": "2022-07-20T00:37:44.192350",
     "status": "completed"
    },
    "tags": []
   },
   "outputs": [],
   "source": [
    "%load_ext autoreload\n",
    "%autoreload 2"
   ]
  },
  {
   "cell_type": "code",
   "execution_count": 2,
   "id": "22ef38dc",
   "metadata": {
    "execution": {
     "iopub.execute_input": "2022-07-20T00:37:44.295552Z",
     "iopub.status.busy": "2022-07-20T00:37:44.294924Z",
     "iopub.status.idle": "2022-07-20T00:37:44.907010Z",
     "shell.execute_reply": "2022-07-20T00:37:44.906369Z"
    },
    "papermill": {
     "duration": 0.640785,
     "end_time": "2022-07-20T00:37:44.907177",
     "exception": false,
     "start_time": "2022-07-20T00:37:44.266392",
     "status": "completed"
    },
    "tags": []
   },
   "outputs": [],
   "source": [
    "%matplotlib inline\n",
    "import numpy as np\n",
    "import matplotlib.pyplot as plt\n",
    "import pandas as pd"
   ]
  },
  {
   "cell_type": "markdown",
   "id": "ba036198",
   "metadata": {
    "papermill": {
     "duration": 0.024473,
     "end_time": "2022-07-20T00:37:44.956176",
     "exception": false,
     "start_time": "2022-07-20T00:37:44.931703",
     "status": "completed"
    },
    "tags": []
   },
   "source": [
    "From the command line run `pip install mnist`. This is a library that will help you bring down the mnist dataset. If you run this from a notebook, you need to put  `!pip install mnist` in a cell by itself."
   ]
  },
  {
   "cell_type": "code",
   "execution_count": 3,
   "id": "bb6ad8a1",
   "metadata": {
    "execution": {
     "iopub.execute_input": "2022-07-20T00:37:45.010420Z",
     "iopub.status.busy": "2022-07-20T00:37:45.009779Z",
     "iopub.status.idle": "2022-07-20T00:37:46.771160Z",
     "shell.execute_reply": "2022-07-20T00:37:46.771700Z"
    },
    "papermill": {
     "duration": 1.791813,
     "end_time": "2022-07-20T00:37:46.771883",
     "exception": false,
     "start_time": "2022-07-20T00:37:44.980070",
     "status": "completed"
    },
    "tags": []
   },
   "outputs": [
    {
     "name": "stdout",
     "output_type": "stream",
     "text": [
      "Collecting mnist\r\n"
     ]
    },
    {
     "name": "stdout",
     "output_type": "stream",
     "text": [
      "  Downloading mnist-0.2.2-py2.py3-none-any.whl (3.5 kB)\r\n",
      "Requirement already satisfied: numpy in /opt/hostedtoolcache/Python/3.6.15/x64/lib/python3.6/site-packages (from mnist) (1.19.5)\r\n"
     ]
    },
    {
     "name": "stdout",
     "output_type": "stream",
     "text": [
      "Installing collected packages: mnist\r\n"
     ]
    },
    {
     "name": "stdout",
     "output_type": "stream",
     "text": [
      "Successfully installed mnist-0.2.2\r\n"
     ]
    }
   ],
   "source": [
    "!pip install mnist"
   ]
  },
  {
   "cell_type": "markdown",
   "id": "69df9c9a",
   "metadata": {
    "papermill": {
     "duration": 0.025172,
     "end_time": "2022-07-20T00:37:46.822775",
     "exception": false,
     "start_time": "2022-07-20T00:37:46.797603",
     "status": "completed"
    },
    "tags": []
   },
   "source": [
    "## Preparing the Data"
   ]
  },
  {
   "cell_type": "code",
   "execution_count": 4,
   "id": "7f69d806",
   "metadata": {
    "execution": {
     "iopub.execute_input": "2022-07-20T00:37:46.882577Z",
     "iopub.status.busy": "2022-07-20T00:37:46.877751Z",
     "iopub.status.idle": "2022-07-20T00:37:46.895155Z",
     "shell.execute_reply": "2022-07-20T00:37:46.894662Z"
    },
    "papermill": {
     "duration": 0.047427,
     "end_time": "2022-07-20T00:37:46.895294",
     "exception": false,
     "start_time": "2022-07-20T00:37:46.847867",
     "status": "completed"
    },
    "tags": []
   },
   "outputs": [],
   "source": [
    "import mnist"
   ]
  },
  {
   "cell_type": "code",
   "execution_count": 5,
   "id": "a411e44f",
   "metadata": {
    "execution": {
     "iopub.execute_input": "2022-07-20T00:37:46.950359Z",
     "iopub.status.busy": "2022-07-20T00:37:46.949715Z",
     "iopub.status.idle": "2022-07-20T00:37:47.480340Z",
     "shell.execute_reply": "2022-07-20T00:37:47.479746Z"
    },
    "papermill": {
     "duration": 0.559953,
     "end_time": "2022-07-20T00:37:47.480493",
     "exception": false,
     "start_time": "2022-07-20T00:37:46.920540",
     "status": "completed"
    },
    "tags": []
   },
   "outputs": [],
   "source": [
    "train_images = mnist.train_images()\n",
    "train_labels = mnist.train_labels()"
   ]
  },
  {
   "cell_type": "code",
   "execution_count": 6,
   "id": "dceab3a5",
   "metadata": {
    "execution": {
     "iopub.execute_input": "2022-07-20T00:37:47.536618Z",
     "iopub.status.busy": "2022-07-20T00:37:47.535995Z",
     "iopub.status.idle": "2022-07-20T00:37:47.553197Z",
     "shell.execute_reply": "2022-07-20T00:37:47.553821Z"
    },
    "papermill": {
     "duration": 0.046883,
     "end_time": "2022-07-20T00:37:47.553980",
     "exception": false,
     "start_time": "2022-07-20T00:37:47.507097",
     "status": "completed"
    },
    "tags": []
   },
   "outputs": [
    {
     "data": {
      "text/plain": [
       "((60000, 28, 28), (60000,))"
      ]
     },
     "execution_count": 6,
     "metadata": {},
     "output_type": "execute_result"
    }
   ],
   "source": [
    "train_images.shape, train_labels.shape"
   ]
  },
  {
   "cell_type": "code",
   "execution_count": 7,
   "id": "f50dc2bb",
   "metadata": {
    "execution": {
     "iopub.execute_input": "2022-07-20T00:37:47.610033Z",
     "iopub.status.busy": "2022-07-20T00:37:47.609352Z",
     "iopub.status.idle": "2022-07-20T00:37:47.760123Z",
     "shell.execute_reply": "2022-07-20T00:37:47.758703Z"
    },
    "papermill": {
     "duration": 0.18067,
     "end_time": "2022-07-20T00:37:47.760274",
     "exception": false,
     "start_time": "2022-07-20T00:37:47.579604",
     "status": "completed"
    },
    "tags": []
   },
   "outputs": [],
   "source": [
    "test_images = mnist.test_images()\n",
    "test_labels = mnist.test_labels()"
   ]
  },
  {
   "cell_type": "code",
   "execution_count": 8,
   "id": "fc38cf1b",
   "metadata": {
    "execution": {
     "iopub.execute_input": "2022-07-20T00:37:47.823514Z",
     "iopub.status.busy": "2022-07-20T00:37:47.815829Z",
     "iopub.status.idle": "2022-07-20T00:37:47.832403Z",
     "shell.execute_reply": "2022-07-20T00:37:47.831897Z"
    },
    "papermill": {
     "duration": 0.046536,
     "end_time": "2022-07-20T00:37:47.832531",
     "exception": false,
     "start_time": "2022-07-20T00:37:47.785995",
     "status": "completed"
    },
    "tags": []
   },
   "outputs": [
    {
     "data": {
      "text/plain": [
       "((10000, 28, 28), (10000,))"
      ]
     },
     "execution_count": 8,
     "metadata": {},
     "output_type": "execute_result"
    }
   ],
   "source": [
    "test_images.shape, test_labels.shape"
   ]
  },
  {
   "cell_type": "code",
   "execution_count": 9,
   "id": "f9ed8fe0",
   "metadata": {
    "execution": {
     "iopub.execute_input": "2022-07-20T00:37:47.889127Z",
     "iopub.status.busy": "2022-07-20T00:37:47.888480Z",
     "iopub.status.idle": "2022-07-20T00:37:48.040144Z",
     "shell.execute_reply": "2022-07-20T00:37:48.039622Z"
    },
    "papermill": {
     "duration": 0.182066,
     "end_time": "2022-07-20T00:37:48.040283",
     "exception": false,
     "start_time": "2022-07-20T00:37:47.858217",
     "status": "completed"
    },
    "tags": []
   },
   "outputs": [
    {
     "name": "stdout",
     "output_type": "stream",
     "text": [
      "2\n"
     ]
    },
    {
     "data": {
      "text/plain": [
       "<matplotlib.image.AxesImage at 0x7fb32b053438>"
      ]
     },
     "execution_count": 9,
     "metadata": {},
     "output_type": "execute_result"
    },
    {
     "data": {
      "image/png": "[encoded data removed]",
      "text/plain": [
       "<Figure size 432x288 with 1 Axes>"
      ]
     },
     "metadata": {
      "needs_background": "light"
     },
     "output_type": "display_data"
    }
   ],
   "source": [
    "image_index = 7776 # You may select anything up to 60,000\n",
    "print(train_labels[image_index]) \n",
    "plt.imshow(train_images[image_index], cmap='Greys')"
   ]
  },
  {
   "cell_type": "markdown",
   "id": "a8d2388d",
   "metadata": {
    "papermill": {
     "duration": 0.028906,
     "end_time": "2022-07-20T00:37:48.096575",
     "exception": false,
     "start_time": "2022-07-20T00:37:48.067669",
     "status": "completed"
    },
    "tags": []
   },
   "source": [
    "## Filter data to get 3 and 8 out"
   ]
  },
  {
   "cell_type": "code",
   "execution_count": 10,
   "id": "776f7fc7",
   "metadata": {
    "execution": {
     "iopub.execute_input": "2022-07-20T00:37:48.160456Z",
     "iopub.status.busy": "2022-07-20T00:37:48.154569Z",
     "iopub.status.idle": "2022-07-20T00:37:48.177702Z",
     "shell.execute_reply": "2022-07-20T00:37:48.177118Z"
    },
    "papermill": {
     "duration": 0.054665,
     "end_time": "2022-07-20T00:37:48.177841",
     "exception": false,
     "start_time": "2022-07-20T00:37:48.123176",
     "status": "completed"
    },
    "tags": []
   },
   "outputs": [],
   "source": [
    "train_filter = np.where((train_labels == 3 ) | (train_labels == 8))\n",
    "test_filter = np.where((test_labels == 3) | (test_labels == 8))\n",
    "X_train, y_train = train_images[train_filter], train_labels[train_filter]\n",
    "X_test, y_test = test_images[test_filter], test_labels[test_filter]"
   ]
  },
  {
   "cell_type": "markdown",
   "id": "948f0b7e",
   "metadata": {
    "papermill": {
     "duration": 0.027139,
     "end_time": "2022-07-20T00:37:48.232040",
     "exception": false,
     "start_time": "2022-07-20T00:37:48.204901",
     "status": "completed"
    },
    "tags": []
   },
   "source": [
    "We normalize the pizel values in the 0 to 1 range"
   ]
  },
  {
   "cell_type": "code",
   "execution_count": 11,
   "id": "ee4c2166",
   "metadata": {
    "execution": {
     "iopub.execute_input": "2022-07-20T00:37:48.294610Z",
     "iopub.status.busy": "2022-07-20T00:37:48.290393Z",
     "iopub.status.idle": "2022-07-20T00:37:48.342051Z",
     "shell.execute_reply": "2022-07-20T00:37:48.341446Z"
    },
    "papermill": {
     "duration": 0.082905,
     "end_time": "2022-07-20T00:37:48.342190",
     "exception": false,
     "start_time": "2022-07-20T00:37:48.259285",
     "status": "completed"
    },
    "tags": []
   },
   "outputs": [],
   "source": [
    "X_train = X_train/255.\n",
    "X_test = X_test/255."
   ]
  },
  {
   "cell_type": "markdown",
   "id": "ddcf4fab",
   "metadata": {
    "papermill": {
     "duration": 0.027296,
     "end_time": "2022-07-20T00:37:48.396495",
     "exception": false,
     "start_time": "2022-07-20T00:37:48.369199",
     "status": "completed"
    },
    "tags": []
   },
   "source": [
    "And setup the labels as 1 (when the digit is 3) and 0 (when the digit is 8)"
   ]
  },
  {
   "cell_type": "code",
   "execution_count": 12,
   "id": "7dc908f2",
   "metadata": {
    "execution": {
     "iopub.execute_input": "2022-07-20T00:37:48.455103Z",
     "iopub.status.busy": "2022-07-20T00:37:48.454438Z",
     "iopub.status.idle": "2022-07-20T00:37:48.469107Z",
     "shell.execute_reply": "2022-07-20T00:37:48.468592Z"
    },
    "papermill": {
     "duration": 0.046052,
     "end_time": "2022-07-20T00:37:48.469237",
     "exception": false,
     "start_time": "2022-07-20T00:37:48.423185",
     "status": "completed"
    },
    "tags": []
   },
   "outputs": [],
   "source": [
    "y_train = 1*(y_train==3)\n",
    "y_test = 1*(y_test==3)"
   ]
  },
  {
   "cell_type": "code",
   "execution_count": 13,
   "id": "01e4e969",
   "metadata": {
    "execution": {
     "iopub.execute_input": "2022-07-20T00:37:48.527621Z",
     "iopub.status.busy": "2022-07-20T00:37:48.526967Z",
     "iopub.status.idle": "2022-07-20T00:37:48.543149Z",
     "shell.execute_reply": "2022-07-20T00:37:48.543921Z"
    },
    "papermill": {
     "duration": 0.047978,
     "end_time": "2022-07-20T00:37:48.544067",
     "exception": false,
     "start_time": "2022-07-20T00:37:48.496089",
     "status": "completed"
    },
    "tags": []
   },
   "outputs": [
    {
     "data": {
      "text/plain": [
       "((11982, 28, 28), (1984, 28, 28))"
      ]
     },
     "execution_count": 13,
     "metadata": {},
     "output_type": "execute_result"
    }
   ],
   "source": [
    "X_train.shape, X_test.shape"
   ]
  },
  {
   "cell_type": "markdown",
   "id": "5ccf3f85",
   "metadata": {
    "papermill": {
     "duration": 0.026641,
     "end_time": "2022-07-20T00:37:48.597286",
     "exception": false,
     "start_time": "2022-07-20T00:37:48.570645",
     "status": "completed"
    },
    "tags": []
   },
   "source": [
    "We reshape the data to flatten the image pixels into a set of features or co-variates:"
   ]
  },
  {
   "cell_type": "code",
   "execution_count": 14,
   "id": "5286a4a3",
   "metadata": {
    "execution": {
     "iopub.execute_input": "2022-07-20T00:37:48.656611Z",
     "iopub.status.busy": "2022-07-20T00:37:48.656005Z",
     "iopub.status.idle": "2022-07-20T00:37:48.671270Z",
     "shell.execute_reply": "2022-07-20T00:37:48.671840Z"
    },
    "papermill": {
     "duration": 0.047815,
     "end_time": "2022-07-20T00:37:48.671988",
     "exception": false,
     "start_time": "2022-07-20T00:37:48.624173",
     "status": "completed"
    },
    "tags": []
   },
   "outputs": [
    {
     "data": {
      "text/plain": [
       "((11982, 784), (1984, 784))"
      ]
     },
     "execution_count": 14,
     "metadata": {},
     "output_type": "execute_result"
    }
   ],
   "source": [
    "X_train = X_train.reshape(X_train.shape[0], -1)\n",
    "X_test = X_test.reshape(X_test.shape[0], -1)\n",
    "X_train.shape, X_test.shape"
   ]
  },
  {
   "cell_type": "code",
   "execution_count": 15,
   "id": "73c5f88a",
   "metadata": {
    "execution": {
     "iopub.execute_input": "2022-07-20T00:37:48.731453Z",
     "iopub.status.busy": "2022-07-20T00:37:48.730843Z",
     "iopub.status.idle": "2022-07-20T00:37:48.751933Z",
     "shell.execute_reply": "2022-07-20T00:37:48.751449Z"
    },
    "papermill": {
     "duration": 0.052953,
     "end_time": "2022-07-20T00:37:48.752061",
     "exception": false,
     "start_time": "2022-07-20T00:37:48.699108",
     "status": "completed"
    },
    "tags": []
   },
   "outputs": [],
   "source": [
    "#Impoting functions from 'Kudzu'\n",
    "from kudzu.model import Model\n",
    "from kudzu.train import Learner\n",
    "from kudzu.optim import GD\n",
    "from kudzu.data import Data, Sampler,Dataloader\n",
    "\n",
    "from kudzu.callbacks import AccCallback\n",
    "from kudzu.callbacks import ClfCallback\n",
    "\n",
    "from kudzu.loss import MSE\n",
    "\n",
    "from kudzu.layer import Sigmoid,Relu\n",
    "from kudzu.layer import Affine"
   ]
  },
  {
   "cell_type": "markdown",
   "id": "bc01172a",
   "metadata": {
    "papermill": {
     "duration": 0.027097,
     "end_time": "2022-07-20T00:37:48.806341",
     "exception": false,
     "start_time": "2022-07-20T00:37:48.779244",
     "status": "completed"
    },
    "tags": []
   },
   "source": [
    "### Let us create a `Config` class, to store important parameters. \n",
    "This class essentially plays the role of a dictionary."
   ]
  },
  {
   "cell_type": "code",
   "execution_count": 16,
   "id": "978281aa",
   "metadata": {
    "execution": {
     "iopub.execute_input": "2022-07-20T00:37:48.865354Z",
     "iopub.status.busy": "2022-07-20T00:37:48.864729Z",
     "iopub.status.idle": "2022-07-20T00:37:48.878322Z",
     "shell.execute_reply": "2022-07-20T00:37:48.878793Z"
    },
    "papermill": {
     "duration": 0.045703,
     "end_time": "2022-07-20T00:37:48.878933",
     "exception": false,
     "start_time": "2022-07-20T00:37:48.833230",
     "status": "completed"
    },
    "tags": []
   },
   "outputs": [],
   "source": [
    "class Config:\n",
    "    pass\n",
    "config = Config()\n",
    "config.lr = 0.001\n",
    "config.num_epochs = 250\n",
    "config.bs = 50"
   ]
  },
  {
   "cell_type": "markdown",
   "id": "1385fa59",
   "metadata": {
    "papermill": {
     "duration": 0.026783,
     "end_time": "2022-07-20T00:37:48.932969",
     "exception": false,
     "start_time": "2022-07-20T00:37:48.906186",
     "status": "completed"
    },
    "tags": []
   },
   "source": [
    "### Running Models with the Training data\n",
    "Details about the network layers:\n",
    "- A first affine layer has 784 inputs and does 100 affine transforms. These are followed by a Relu\n",
    "- A second affine layer has 100 inputs from the 100 activations of the past layer, and does 100 affine transforms. These are followed by a Relu\n",
    "- A third affine layer has 100 activations and does 2 affine transformations to create an embedding for visualization. There is no non-linearity here.\n",
    "- A final \"logistic regression\" which has an affine transform from 2 inputs to 1 output, which is squeezed through a sigmoid.\n"
   ]
  },
  {
   "cell_type": "code",
   "execution_count": 17,
   "id": "2b9c66db",
   "metadata": {
    "execution": {
     "iopub.execute_input": "2022-07-20T00:37:48.991304Z",
     "iopub.status.busy": "2022-07-20T00:37:48.990687Z",
     "iopub.status.idle": "2022-07-20T00:37:49.006310Z",
     "shell.execute_reply": "2022-07-20T00:37:49.005814Z"
    },
    "papermill": {
     "duration": 0.046597,
     "end_time": "2022-07-20T00:37:49.006433",
     "exception": false,
     "start_time": "2022-07-20T00:37:48.959836",
     "status": "completed"
    },
    "tags": []
   },
   "outputs": [],
   "source": [
    "data = Data(X_train, y_train.reshape(-1,1))\n",
    "sampler = Sampler(data, config.bs, shuffle=True)\n",
    "\n",
    "dl = Dataloader(data, sampler)\n",
    "\n",
    "opt = GD(config.lr)\n",
    "loss = MSE()"
   ]
  },
  {
   "cell_type": "code",
   "execution_count": 18,
   "id": "b275e4c2",
   "metadata": {
    "execution": {
     "iopub.execute_input": "2022-07-20T00:37:49.065330Z",
     "iopub.status.busy": "2022-07-20T00:37:49.064712Z",
     "iopub.status.idle": "2022-07-20T00:37:49.079541Z",
     "shell.execute_reply": "2022-07-20T00:37:49.079042Z"
    },
    "papermill": {
     "duration": 0.045997,
     "end_time": "2022-07-20T00:37:49.079666",
     "exception": false,
     "start_time": "2022-07-20T00:37:49.033669",
     "status": "completed"
    },
    "tags": []
   },
   "outputs": [],
   "source": [
    "training_data_x = X_train\n",
    "testing_data_x = X_test\n",
    "training_data_y = y_train.reshape(-1,1)\n",
    "testing_data_y = y_test.reshape(-1,1)"
   ]
  },
  {
   "cell_type": "code",
   "execution_count": 19,
   "id": "76951160",
   "metadata": {
    "execution": {
     "iopub.execute_input": "2022-07-20T00:37:49.139531Z",
     "iopub.status.busy": "2022-07-20T00:37:49.138904Z",
     "iopub.status.idle": "2022-07-20T00:37:49.156823Z",
     "shell.execute_reply": "2022-07-20T00:37:49.157427Z"
    },
    "papermill": {
     "duration": 0.05075,
     "end_time": "2022-07-20T00:37:49.157575",
     "exception": false,
     "start_time": "2022-07-20T00:37:49.106825",
     "status": "completed"
    },
    "tags": []
   },
   "outputs": [
    {
     "name": "stdout",
     "output_type": "stream",
     "text": [
      "xavier\n",
      "xavier\n",
      "xavier\n",
      "xavier\n",
      "xavier\n"
     ]
    }
   ],
   "source": [
    "layers = [Affine(\"first\", 784, 100), Relu(\"first\"), Affine(\"second\", 100, 100), Relu(\"second\"), Affine(\"third\", 100, 2), Affine(\"last\", 2, 1), Sigmoid(\"last\")]\n",
    "model_nn = Model(layers)\n",
    "model_lr = Model([Affine(\"logits\", 784, 1), Sigmoid(\"sigmoid\")])"
   ]
  },
  {
   "cell_type": "code",
   "execution_count": 20,
   "id": "6eede77a",
   "metadata": {
    "execution": {
     "iopub.execute_input": "2022-07-20T00:37:49.216704Z",
     "iopub.status.busy": "2022-07-20T00:37:49.216095Z",
     "iopub.status.idle": "2022-07-20T00:37:49.230389Z",
     "shell.execute_reply": "2022-07-20T00:37:49.230968Z"
    },
    "papermill": {
     "duration": 0.046117,
     "end_time": "2022-07-20T00:37:49.231109",
     "exception": false,
     "start_time": "2022-07-20T00:37:49.184992",
     "status": "completed"
    },
    "tags": []
   },
   "outputs": [],
   "source": [
    "nn_learner = Learner(loss, model_nn, opt, config.num_epochs)\n",
    "acc_nn = ClfCallback(nn_learner, config.bs, training_data_x , testing_data_x, training_data_y, testing_data_y)\n",
    "nn_learner.set_callbacks([acc_nn])"
   ]
  },
  {
   "cell_type": "code",
   "execution_count": 21,
   "id": "877b6cc7",
   "metadata": {
    "execution": {
     "iopub.execute_input": "2022-07-20T00:37:49.291365Z",
     "iopub.status.busy": "2022-07-20T00:37:49.290743Z",
     "iopub.status.idle": "2022-07-20T00:37:49.304989Z",
     "shell.execute_reply": "2022-07-20T00:37:49.305501Z"
    },
    "papermill": {
     "duration": 0.047268,
     "end_time": "2022-07-20T00:37:49.305661",
     "exception": false,
     "start_time": "2022-07-20T00:37:49.258393",
     "status": "completed"
    },
    "tags": []
   },
   "outputs": [],
   "source": [
    "lr_learner = Learner(loss, model_lr, opt, config.num_epochs)\n",
    "acc_lr = ClfCallback(lr_learner, config.bs, training_data_x , testing_data_x, training_data_y, testing_data_y)\n",
    "lr_learner.set_callbacks([acc_lr])"
   ]
  },
  {
   "cell_type": "code",
   "execution_count": 22,
   "id": "d9b133c3",
   "metadata": {
    "execution": {
     "iopub.execute_input": "2022-07-20T00:37:49.366024Z",
     "iopub.status.busy": "2022-07-20T00:37:49.365371Z",
     "iopub.status.idle": "2022-07-20T00:39:16.463925Z",
     "shell.execute_reply": "2022-07-20T00:39:16.464854Z"
    },
    "papermill": {
     "duration": 87.131528,
     "end_time": "2022-07-20T00:39:16.465015",
     "exception": false,
     "start_time": "2022-07-20T00:37:49.333487",
     "status": "completed"
    },
    "tags": []
   },
   "outputs": [
    {
     "name": "stdout",
     "output_type": "stream",
     "text": [
      "Epoch 0, Loss 0.2231\n",
      "Training Accuracy: 0.7878, Testing Accuracy: 0.7974\n",
      "\n"
     ]
    },
    {
     "name": "stdout",
     "output_type": "stream",
     "text": [
      "Epoch 10, Loss 0.0578\n",
      "Training Accuracy: 0.9410, Testing Accuracy: 0.9511\n",
      "\n"
     ]
    },
    {
     "name": "stdout",
     "output_type": "stream",
     "text": [
      "Epoch 20, Loss 0.0411\n",
      "Training Accuracy: 0.9568, Testing Accuracy: 0.9567\n",
      "\n"
     ]
    },
    {
     "name": "stdout",
     "output_type": "stream",
     "text": [
      "Epoch 30, Loss 0.0345\n",
      "Training Accuracy: 0.9624, Testing Accuracy: 0.9622\n",
      "\n"
     ]
    },
    {
     "name": "stdout",
     "output_type": "stream",
     "text": [
      "Epoch 40, Loss 0.0309\n",
      "Training Accuracy: 0.9656, Testing Accuracy: 0.9657\n",
      "\n"
     ]
    },
    {
     "name": "stdout",
     "output_type": "stream",
     "text": [
      "Epoch 50, Loss 0.0284\n",
      "Training Accuracy: 0.9681, Testing Accuracy: 0.9667\n",
      "\n"
     ]
    },
    {
     "name": "stdout",
     "output_type": "stream",
     "text": [
      "Epoch 60, Loss 0.0266\n",
      "Training Accuracy: 0.9693, Testing Accuracy: 0.9682\n",
      "\n"
     ]
    },
    {
     "name": "stdout",
     "output_type": "stream",
     "text": [
      "Epoch 70, Loss 0.0253\n",
      "Training Accuracy: 0.9715, Testing Accuracy: 0.9703\n",
      "\n"
     ]
    },
    {
     "name": "stdout",
     "output_type": "stream",
     "text": [
      "Epoch 80, Loss 0.0241\n",
      "Training Accuracy: 0.9728, Testing Accuracy: 0.9713\n",
      "\n"
     ]
    },
    {
     "name": "stdout",
     "output_type": "stream",
     "text": [
      "Epoch 90, Loss 0.0232\n",
      "Training Accuracy: 0.9745, Testing Accuracy: 0.9718\n",
      "\n"
     ]
    },
    {
     "name": "stdout",
     "output_type": "stream",
     "text": [
      "Epoch 100, Loss 0.0224\n",
      "Training Accuracy: 0.9760, Testing Accuracy: 0.9718\n",
      "\n"
     ]
    },
    {
     "name": "stdout",
     "output_type": "stream",
     "text": [
      "Epoch 110, Loss 0.0216\n",
      "Training Accuracy: 0.9769, Testing Accuracy: 0.9723\n",
      "\n"
     ]
    },
    {
     "name": "stdout",
     "output_type": "stream",
     "text": [
      "Epoch 120, Loss 0.021\n",
      "Training Accuracy: 0.9776, Testing Accuracy: 0.9723\n",
      "\n"
     ]
    },
    {
     "name": "stdout",
     "output_type": "stream",
     "text": [
      "Epoch 130, Loss 0.0204\n",
      "Training Accuracy: 0.9777, Testing Accuracy: 0.9723\n",
      "\n"
     ]
    },
    {
     "name": "stdout",
     "output_type": "stream",
     "text": [
      "Epoch 140, Loss 0.0198\n",
      "Training Accuracy: 0.9782, Testing Accuracy: 0.9728\n",
      "\n"
     ]
    },
    {
     "name": "stdout",
     "output_type": "stream",
     "text": [
      "Epoch 150, Loss 0.0193\n",
      "Training Accuracy: 0.9789, Testing Accuracy: 0.9738\n",
      "\n"
     ]
    },
    {
     "name": "stdout",
     "output_type": "stream",
     "text": [
      "Epoch 160, Loss 0.0188\n",
      "Training Accuracy: 0.9794, Testing Accuracy: 0.9738\n",
      "\n"
     ]
    },
    {
     "name": "stdout",
     "output_type": "stream",
     "text": [
      "Epoch 170, Loss 0.0183\n",
      "Training Accuracy: 0.9797, Testing Accuracy: 0.9743\n",
      "\n"
     ]
    },
    {
     "name": "stdout",
     "output_type": "stream",
     "text": [
      "Epoch 180, Loss 0.0179\n",
      "Training Accuracy: 0.9801, Testing Accuracy: 0.9743\n",
      "\n"
     ]
    },
    {
     "name": "stdout",
     "output_type": "stream",
     "text": [
      "Epoch 190, Loss 0.0175\n",
      "Training Accuracy: 0.9806, Testing Accuracy: 0.9743\n",
      "\n"
     ]
    },
    {
     "name": "stdout",
     "output_type": "stream",
     "text": [
      "Epoch 200, Loss 0.017\n",
      "Training Accuracy: 0.9812, Testing Accuracy: 0.9743\n",
      "\n"
     ]
    },
    {
     "name": "stdout",
     "output_type": "stream",
     "text": [
      "Epoch 210, Loss 0.0167\n",
      "Training Accuracy: 0.9816, Testing Accuracy: 0.9748\n",
      "\n"
     ]
    },
    {
     "name": "stdout",
     "output_type": "stream",
     "text": [
      "Epoch 220, Loss 0.0163\n",
      "Training Accuracy: 0.9822, Testing Accuracy: 0.9748\n",
      "\n"
     ]
    },
    {
     "name": "stdout",
     "output_type": "stream",
     "text": [
      "Epoch 230, Loss 0.0159\n",
      "Training Accuracy: 0.9828, Testing Accuracy: 0.9763\n",
      "\n"
     ]
    },
    {
     "name": "stdout",
     "output_type": "stream",
     "text": [
      "Epoch 240, Loss 0.0156\n",
      "Training Accuracy: 0.9835, Testing Accuracy: 0.9773\n",
      "\n"
     ]
    },
    {
     "data": {
      "text/plain": [
       "0.0008237243158649333"
      ]
     },
     "execution_count": 22,
     "metadata": {},
     "output_type": "execute_result"
    }
   ],
   "source": [
    "nn_learner.train_loop(dl)"
   ]
  },
  {
   "cell_type": "code",
   "execution_count": 23,
   "id": "e0163366",
   "metadata": {
    "execution": {
     "iopub.execute_input": "2022-07-20T00:39:16.559194Z",
     "iopub.status.busy": "2022-07-20T00:39:16.558562Z",
     "iopub.status.idle": "2022-07-20T00:39:31.594135Z",
     "shell.execute_reply": "2022-07-20T00:39:31.594782Z"
    },
    "papermill": {
     "duration": 15.090316,
     "end_time": "2022-07-20T00:39:31.594936",
     "exception": false,
     "start_time": "2022-07-20T00:39:16.504620",
     "status": "completed"
    },
    "tags": []
   },
   "outputs": [
    {
     "name": "stdout",
     "output_type": "stream",
     "text": [
      "Epoch 0, Loss 0.2302\n",
      "Training Accuracy: 0.7248, Testing Accuracy: 0.7278\n",
      "\n"
     ]
    },
    {
     "name": "stdout",
     "output_type": "stream",
     "text": [
      "Epoch 10, Loss 0.1021\n",
      "Training Accuracy: 0.9147, Testing Accuracy: 0.9234\n",
      "\n"
     ]
    },
    {
     "name": "stdout",
     "output_type": "stream",
     "text": [
      "Epoch 20, Loss 0.0791\n",
      "Training Accuracy: 0.9297, Testing Accuracy: 0.9395\n",
      "\n"
     ]
    },
    {
     "name": "stdout",
     "output_type": "stream",
     "text": [
      "Epoch 30, Loss 0.0684\n",
      "Training Accuracy: 0.9364, Testing Accuracy: 0.9471\n",
      "\n"
     ]
    },
    {
     "name": "stdout",
     "output_type": "stream",
     "text": [
      "Epoch 40, Loss 0.0619\n",
      "Training Accuracy: 0.9411, Testing Accuracy: 0.9536\n",
      "\n"
     ]
    },
    {
     "name": "stdout",
     "output_type": "stream",
     "text": [
      "Epoch 50, Loss 0.0574\n",
      "Training Accuracy: 0.9454, Testing Accuracy: 0.9577\n",
      "\n"
     ]
    },
    {
     "name": "stdout",
     "output_type": "stream",
     "text": [
      "Epoch 60, Loss 0.0541\n",
      "Training Accuracy: 0.9473, Testing Accuracy: 0.9577\n",
      "\n"
     ]
    },
    {
     "name": "stdout",
     "output_type": "stream",
     "text": [
      "Epoch 70, Loss 0.0516\n",
      "Training Accuracy: 0.9488, Testing Accuracy: 0.9597\n",
      "\n"
     ]
    },
    {
     "name": "stdout",
     "output_type": "stream",
     "text": [
      "Epoch 80, Loss 0.0495\n",
      "Training Accuracy: 0.9499, Testing Accuracy: 0.9607\n",
      "\n"
     ]
    },
    {
     "name": "stdout",
     "output_type": "stream",
     "text": [
      "Epoch 90, Loss 0.0478\n",
      "Training Accuracy: 0.9508, Testing Accuracy: 0.9602\n",
      "\n"
     ]
    },
    {
     "name": "stdout",
     "output_type": "stream",
     "text": [
      "Epoch 100, Loss 0.0464\n",
      "Training Accuracy: 0.9524, Testing Accuracy: 0.9617\n",
      "\n"
     ]
    },
    {
     "name": "stdout",
     "output_type": "stream",
     "text": [
      "Epoch 110, Loss 0.0451\n",
      "Training Accuracy: 0.9537, Testing Accuracy: 0.9622\n",
      "\n"
     ]
    },
    {
     "name": "stdout",
     "output_type": "stream",
     "text": [
      "Epoch 120, Loss 0.0441\n",
      "Training Accuracy: 0.9542, Testing Accuracy: 0.9627\n",
      "\n"
     ]
    },
    {
     "name": "stdout",
     "output_type": "stream",
     "text": [
      "Epoch 130, Loss 0.0431\n",
      "Training Accuracy: 0.9550, Testing Accuracy: 0.9632\n",
      "\n"
     ]
    },
    {
     "name": "stdout",
     "output_type": "stream",
     "text": [
      "Epoch 140, Loss 0.0423\n",
      "Training Accuracy: 0.9554, Testing Accuracy: 0.9637\n",
      "\n"
     ]
    },
    {
     "name": "stdout",
     "output_type": "stream",
     "text": [
      "Epoch 150, Loss 0.0415\n",
      "Training Accuracy: 0.9557, Testing Accuracy: 0.9642\n",
      "\n"
     ]
    },
    {
     "name": "stdout",
     "output_type": "stream",
     "text": [
      "Epoch 160, Loss 0.0408\n",
      "Training Accuracy: 0.9564, Testing Accuracy: 0.9642\n",
      "\n"
     ]
    },
    {
     "name": "stdout",
     "output_type": "stream",
     "text": [
      "Epoch 170, Loss 0.0402\n",
      "Training Accuracy: 0.9568, Testing Accuracy: 0.9647\n",
      "\n"
     ]
    },
    {
     "name": "stdout",
     "output_type": "stream",
     "text": [
      "Epoch 180, Loss 0.0396\n",
      "Training Accuracy: 0.9574, Testing Accuracy: 0.9657\n",
      "\n"
     ]
    },
    {
     "name": "stdout",
     "output_type": "stream",
     "text": [
      "Epoch 190, Loss 0.0391\n",
      "Training Accuracy: 0.9579, Testing Accuracy: 0.9662\n",
      "\n"
     ]
    },
    {
     "name": "stdout",
     "output_type": "stream",
     "text": [
      "Epoch 200, Loss 0.0386\n",
      "Training Accuracy: 0.9587, Testing Accuracy: 0.9672\n",
      "\n"
     ]
    },
    {
     "name": "stdout",
     "output_type": "stream",
     "text": [
      "Epoch 210, Loss 0.0382\n",
      "Training Accuracy: 0.9592, Testing Accuracy: 0.9672\n",
      "\n"
     ]
    },
    {
     "name": "stdout",
     "output_type": "stream",
     "text": [
      "Epoch 220, Loss 0.0378\n",
      "Training Accuracy: 0.9596, Testing Accuracy: 0.9672\n",
      "\n"
     ]
    },
    {
     "name": "stdout",
     "output_type": "stream",
     "text": [
      "Epoch 230, Loss 0.0374\n",
      "Training Accuracy: 0.9600, Testing Accuracy: 0.9672\n",
      "\n"
     ]
    },
    {
     "name": "stdout",
     "output_type": "stream",
     "text": [
      "Epoch 240, Loss 0.037\n",
      "Training Accuracy: 0.9603, Testing Accuracy: 0.9672\n",
      "\n"
     ]
    },
    {
     "data": {
      "text/plain": [
       "0.02530902661972612"
      ]
     },
     "execution_count": 23,
     "metadata": {},
     "output_type": "execute_result"
    }
   ],
   "source": [
    "lr_learner.train_loop(dl)"
   ]
  },
  {
   "cell_type": "code",
   "execution_count": 24,
   "id": "ca410940",
   "metadata": {
    "execution": {
     "iopub.execute_input": "2022-07-20T00:39:31.695008Z",
     "iopub.status.busy": "2022-07-20T00:39:31.694321Z",
     "iopub.status.idle": "2022-07-20T00:39:31.932837Z",
     "shell.execute_reply": "2022-07-20T00:39:31.933282Z"
    },
    "papermill": {
     "duration": 0.28851,
     "end_time": "2022-07-20T00:39:31.933482",
     "exception": false,
     "start_time": "2022-07-20T00:39:31.644972",
     "status": "completed"
    },
    "tags": []
   },
   "outputs": [
    {
     "data": {
      "text/plain": [
       "<matplotlib.legend.Legend at 0x7fb32abafbe0>"
      ]
     },
     "execution_count": 24,
     "metadata": {},
     "output_type": "execute_result"
    },
    {
     "data": {
      "image/png": "[encoded data removed]",
      "text/plain": [
       "<Figure size 1080x720 with 1 Axes>"
      ]
     },
     "metadata": {
      "needs_background": "light"
     },
     "output_type": "display_data"
    }
   ],
   "source": [
    "#comparing the results of NN and LR\n",
    "plt.figure(figsize=(15,10))\n",
    "\n",
    "# Neural Network plots\n",
    "plt.plot(acc_nn.accuracies, 'r-', label = \"Training Accuracies - NN\")\n",
    "plt.plot(acc_nn.test_accuracies, 'g-', label = \"Testing Accuracies - NN\")\n",
    "\n",
    "# Logistic Regression plots\n",
    "plt.plot(acc_lr.accuracies, 'k-', label = \"Training Accuracies - LR\")\n",
    "plt.plot(acc_lr.test_accuracies, 'b-', label = \"Testing Accuracies - LR\")\n",
    "plt.legend()"
   ]
  },
  {
   "cell_type": "markdown",
   "id": "80dfb35c",
   "metadata": {
    "papermill": {
     "duration": 0.042219,
     "end_time": "2022-07-20T00:39:32.018340",
     "exception": false,
     "start_time": "2022-07-20T00:39:31.976121",
     "status": "completed"
    },
    "tags": []
   },
   "source": [
    "#### Plotting the outputs of this layer of the NN.\n"
   ]
  },
  {
   "cell_type": "code",
   "execution_count": 25,
   "id": "45eb2ff5",
   "metadata": {
    "execution": {
     "iopub.execute_input": "2022-07-20T00:39:32.108214Z",
     "iopub.status.busy": "2022-07-20T00:39:32.107552Z",
     "iopub.status.idle": "2022-07-20T00:39:32.130618Z",
     "shell.execute_reply": "2022-07-20T00:39:32.131127Z"
    },
    "papermill": {
     "duration": 0.070726,
     "end_time": "2022-07-20T00:39:32.131288",
     "exception": false,
     "start_time": "2022-07-20T00:39:32.060562",
     "status": "completed"
    },
    "tags": []
   },
   "outputs": [],
   "source": [
    "new_model = Model(layers[:-2])\n",
    "testing_plot = new_model(testing_data_x)"
   ]
  },
  {
   "cell_type": "code",
   "execution_count": 26,
   "id": "4c0a5485",
   "metadata": {
    "execution": {
     "iopub.execute_input": "2022-07-20T00:39:32.226968Z",
     "iopub.status.busy": "2022-07-20T00:39:32.226311Z",
     "iopub.status.idle": "2022-07-20T00:39:32.441755Z",
     "shell.execute_reply": "2022-07-20T00:39:32.442259Z"
    },
    "papermill": {
     "duration": 0.266914,
     "end_time": "2022-07-20T00:39:32.442415",
     "exception": false,
     "start_time": "2022-07-20T00:39:32.175501",
     "status": "completed"
    },
    "tags": []
   },
   "outputs": [
    {
     "data": {
      "text/plain": [
       "Text(0.5, 1.0, 'Outputs')"
      ]
     },
     "execution_count": 26,
     "metadata": {},
     "output_type": "execute_result"
    },
    {
     "data": {
      "image/png": "[encoded data removed]",
      "text/plain": [
       "<Figure size 576x504 with 1 Axes>"
      ]
     },
     "metadata": {
      "needs_background": "light"
     },
     "output_type": "display_data"
    }
   ],
   "source": [
    "# Plotting the scatter plot of points and color coding by class\n",
    "plt.figure(figsize=(8,7))\n",
    "plt.scatter(testing_plot[:,0], testing_plot[:,1], alpha = 0.1, c = y_test.ravel());\n",
    "plt.title('Outputs')"
   ]
  },
  {
   "cell_type": "markdown",
   "id": "a74fcf8f",
   "metadata": {
    "papermill": {
     "duration": 0.045144,
     "end_time": "2022-07-20T00:39:32.533363",
     "exception": false,
     "start_time": "2022-07-20T00:39:32.488219",
     "status": "completed"
    },
    "tags": []
   },
   "source": [
    "Probability contours"
   ]
  },
  {
   "cell_type": "code",
   "execution_count": 27,
   "id": "d0afc8e3",
   "metadata": {
    "execution": {
     "iopub.execute_input": "2022-07-20T00:39:32.667444Z",
     "iopub.status.busy": "2022-07-20T00:39:32.666773Z",
     "iopub.status.idle": "2022-07-20T00:39:32.681666Z",
     "shell.execute_reply": "2022-07-20T00:39:32.682483Z"
    },
    "papermill": {
     "duration": 0.066139,
     "end_time": "2022-07-20T00:39:32.682644",
     "exception": false,
     "start_time": "2022-07-20T00:39:32.616505",
     "status": "completed"
    },
    "tags": []
   },
   "outputs": [],
   "source": [
    "model_prob = Model(layers[-2:]) "
   ]
  },
  {
   "cell_type": "code",
   "execution_count": 28,
   "id": "9b96e238",
   "metadata": {
    "execution": {
     "iopub.execute_input": "2022-07-20T00:39:32.783080Z",
     "iopub.status.busy": "2022-07-20T00:39:32.782272Z",
     "iopub.status.idle": "2022-07-20T00:39:32.798723Z",
     "shell.execute_reply": "2022-07-20T00:39:32.798237Z"
    },
    "papermill": {
     "duration": 0.070839,
     "end_time": "2022-07-20T00:39:32.798857",
     "exception": false,
     "start_time": "2022-07-20T00:39:32.728018",
     "status": "completed"
    },
    "tags": []
   },
   "outputs": [],
   "source": [
    "#creating the x and y ranges according to the above generated plot.\n",
    "x_range = np.linspace(-4, 1, 100) \n",
    "y_range = np.linspace(-6, 6, 100) \n",
    "x_grid, y_grid = np.meshgrid(x_range, y_range) # x_grid and y_grig are of size 100 X 100\n",
    "\n",
    "# converting x_grid and y_grid to continuous arrays\n",
    "x_gridflat = np.ravel(x_grid)\n",
    "y_gridflat = np.ravel(y_grid)\n",
    "\n",
    "# The last layer of the current model takes two columns as input. Hence transpose of np.vstack() is required.\n",
    "X = np.vstack((x_gridflat, y_gridflat)).T\n",
    "\n",
    "prob_contour = model_prob(X).reshape(100,100) "
   ]
  },
  {
   "cell_type": "code",
   "execution_count": 29,
   "id": "da72499a",
   "metadata": {
    "execution": {
     "iopub.execute_input": "2022-07-20T00:39:32.910949Z",
     "iopub.status.busy": "2022-07-20T00:39:32.910284Z",
     "iopub.status.idle": "2022-07-20T00:39:33.157785Z",
     "shell.execute_reply": "2022-07-20T00:39:33.158616Z"
    },
    "papermill": {
     "duration": 0.309286,
     "end_time": "2022-07-20T00:39:33.158777",
     "exception": false,
     "start_time": "2022-07-20T00:39:32.849491",
     "status": "completed"
    },
    "tags": []
   },
   "outputs": [
    {
     "data": {
      "image/png": "[encoded data removed]",
      "text/plain": [
       "<Figure size 720x648 with 1 Axes>"
      ]
     },
     "metadata": {
      "needs_background": "light"
     },
     "output_type": "display_data"
    }
   ],
   "source": [
    "plt.figure(figsize=(10,9))\n",
    "plt.scatter(testing_plot[:,0], testing_plot[:,1], alpha = 0.1, c = y_test.ravel())\n",
    "contours = plt.contour(x_grid,y_grid,prob_contour)\n",
    "plt.title('Probability Contours')\n",
    "plt.clabel(contours, inline = True );"
   ]
  },
  {
   "cell_type": "code",
   "execution_count": null,
   "id": "e81b4ac7",
   "metadata": {
    "papermill": {
     "duration": 0.047855,
     "end_time": "2022-07-20T00:39:33.255718",
     "exception": false,
     "start_time": "2022-07-20T00:39:33.207863",
     "status": "completed"
    },
    "tags": []
   },
   "outputs": [],
   "source": []
  }
 ],
 "metadata": {
  "kernelspec": {
   "display_name": "Python 3",
   "language": "python",
   "name": "python3"
  },
  "language_info": {
   "codemirror_mode": {
    "name": "ipython",
    "version": 3
   },
   "file_extension": ".py",
   "mimetype": "text/x-python",
   "name": "python",
   "nbconvert_exporter": "python",
   "pygments_lexer": "ipython3",
   "version": "3.6.15"
  },
  "papermill": {
   "default_parameters": {},
   "duration": 110.880657,
   "end_time": "2022-07-20T00:39:33.824942",
   "environment_variables": {},
   "exception": null,
   "input_path": "2020-08-11-part2.ipynb",
   "output_path": "2020-08-11-part2.ipynb",
   "parameters": {},
   "start_time": "2022-07-20T00:37:42.944285",
   "version": "2.3.3"
  }
 },
 "nbformat": 4,
 "nbformat_minor": 5
}