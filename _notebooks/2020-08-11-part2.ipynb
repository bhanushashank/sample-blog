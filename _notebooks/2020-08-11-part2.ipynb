{
 "cells": [
  {
   "cell_type": "markdown",
   "id": "98380cd3",
   "metadata": {
    "papermill": {
     "duration": 0.036838,
     "end_time": "2021-11-24T10:08:29.238203",
     "exception": false,
     "start_time": "2021-11-24T10:08:29.201365",
     "status": "completed"
    },
    "tags": []
   },
   "source": [
    "# Distinguish Your Own Digits (DYOD)"
   ]
  },
  {
   "cell_type": "markdown",
   "id": "ef31240d",
   "metadata": {
    "papermill": {
     "duration": 0.032779,
     "end_time": "2021-11-24T10:08:29.303075",
     "exception": false,
     "start_time": "2021-11-24T10:08:29.270296",
     "status": "completed"
    },
    "tags": []
   },
   "source": [
    "You are going to write a classifier that distinguishes between the number 3 and number 8."
   ]
  },
  {
   "cell_type": "code",
   "execution_count": 1,
   "id": "b15c8646",
   "metadata": {
    "execution": {
     "iopub.execute_input": "2021-11-24T10:08:29.375704Z",
     "iopub.status.busy": "2021-11-24T10:08:29.371618Z",
     "iopub.status.idle": "2021-11-24T10:08:29.388492Z",
     "shell.execute_reply": "2021-11-24T10:08:29.387912Z"
    },
    "papermill": {
     "duration": 0.055105,
     "end_time": "2021-11-24T10:08:29.388755",
     "exception": false,
     "start_time": "2021-11-24T10:08:29.333650",
     "status": "completed"
    },
    "tags": []
   },
   "outputs": [],
   "source": [
    "%load_ext autoreload\n",
    "%autoreload 2"
   ]
  },
  {
   "cell_type": "code",
   "execution_count": 2,
   "id": "22ef38dc",
   "metadata": {
    "execution": {
     "iopub.execute_input": "2021-11-24T10:08:29.454983Z",
     "iopub.status.busy": "2021-11-24T10:08:29.454309Z",
     "iopub.status.idle": "2021-11-24T10:08:30.164403Z",
     "shell.execute_reply": "2021-11-24T10:08:30.163688Z"
    },
    "papermill": {
     "duration": 0.744226,
     "end_time": "2021-11-24T10:08:30.164536",
     "exception": false,
     "start_time": "2021-11-24T10:08:29.420310",
     "status": "completed"
    },
    "tags": []
   },
   "outputs": [],
   "source": [
    "%matplotlib inline\n",
    "import numpy as np\n",
    "import matplotlib.pyplot as plt\n",
    "import pandas as pd"
   ]
  },
  {
   "cell_type": "markdown",
   "id": "ba036198",
   "metadata": {
    "papermill": {
     "duration": 0.030283,
     "end_time": "2021-11-24T10:08:30.227319",
     "exception": false,
     "start_time": "2021-11-24T10:08:30.197036",
     "status": "completed"
    },
    "tags": []
   },
   "source": [
    "From the command line run `pip install mnist`. This is a library that will help you bring down the mnist dataset. If you run this from a notebook, you need to put  `!pip install mnist` in a cell by itself."
   ]
  },
  {
   "cell_type": "code",
   "execution_count": 3,
   "id": "bb6ad8a1",
   "metadata": {
    "execution": {
     "iopub.execute_input": "2021-11-24T10:08:30.297626Z",
     "iopub.status.busy": "2021-11-24T10:08:30.296981Z",
     "iopub.status.idle": "2021-11-24T10:08:33.251849Z",
     "shell.execute_reply": "2021-11-24T10:08:33.251268Z"
    },
    "papermill": {
     "duration": 2.995418,
     "end_time": "2021-11-24T10:08:33.252000",
     "exception": false,
     "start_time": "2021-11-24T10:08:30.256582",
     "status": "completed"
    },
    "tags": []
   },
   "outputs": [
    {
     "name": "stdout",
     "output_type": "stream",
     "text": [
      "Collecting mnist\r\n"
     ]
    },
    {
     "name": "stdout",
     "output_type": "stream",
     "text": [
      "  Downloading mnist-0.2.2-py2.py3-none-any.whl (3.5 kB)\r\n",
      "Requirement already satisfied: numpy in /opt/hostedtoolcache/Python/3.6.15/x64/lib/python3.6/site-packages (from mnist) (1.19.5)\r\n"
     ]
    },
    {
     "name": "stdout",
     "output_type": "stream",
     "text": [
      "Installing collected packages: mnist\r\n"
     ]
    },
    {
     "name": "stdout",
     "output_type": "stream",
     "text": [
      "Successfully installed mnist-0.2.2\r\n"
     ]
    }
   ],
   "source": [
    "!pip install mnist"
   ]
  },
  {
   "cell_type": "markdown",
   "id": "69df9c9a",
   "metadata": {
    "papermill": {
     "duration": 0.03284,
     "end_time": "2021-11-24T10:08:33.318090",
     "exception": false,
     "start_time": "2021-11-24T10:08:33.285250",
     "status": "completed"
    },
    "tags": []
   },
   "source": [
    "## Preparing the Data"
   ]
  },
  {
   "cell_type": "code",
   "execution_count": 4,
   "id": "7f69d806",
   "metadata": {
    "execution": {
     "iopub.execute_input": "2021-11-24T10:08:33.389458Z",
     "iopub.status.busy": "2021-11-24T10:08:33.388735Z",
     "iopub.status.idle": "2021-11-24T10:08:33.406023Z",
     "shell.execute_reply": "2021-11-24T10:08:33.405326Z"
    },
    "papermill": {
     "duration": 0.055044,
     "end_time": "2021-11-24T10:08:33.406251",
     "exception": false,
     "start_time": "2021-11-24T10:08:33.351207",
     "status": "completed"
    },
    "tags": []
   },
   "outputs": [],
   "source": [
    "import mnist"
   ]
  },
  {
   "cell_type": "code",
   "execution_count": 5,
   "id": "a411e44f",
   "metadata": {
    "execution": {
     "iopub.execute_input": "2021-11-24T10:08:33.478873Z",
     "iopub.status.busy": "2021-11-24T10:08:33.478028Z",
     "iopub.status.idle": "2021-11-24T10:08:34.287404Z",
     "shell.execute_reply": "2021-11-24T10:08:34.286688Z"
    },
    "papermill": {
     "duration": 0.847786,
     "end_time": "2021-11-24T10:08:34.287556",
     "exception": false,
     "start_time": "2021-11-24T10:08:33.439770",
     "status": "completed"
    },
    "tags": []
   },
   "outputs": [],
   "source": [
    "train_images = mnist.train_images()\n",
    "train_labels = mnist.train_labels()"
   ]
  },
  {
   "cell_type": "code",
   "execution_count": 6,
   "id": "dceab3a5",
   "metadata": {
    "execution": {
     "iopub.execute_input": "2021-11-24T10:08:34.354716Z",
     "iopub.status.busy": "2021-11-24T10:08:34.354061Z",
     "iopub.status.idle": "2021-11-24T10:08:34.370212Z",
     "shell.execute_reply": "2021-11-24T10:08:34.371019Z"
    },
    "papermill": {
     "duration": 0.051347,
     "end_time": "2021-11-24T10:08:34.371175",
     "exception": false,
     "start_time": "2021-11-24T10:08:34.319828",
     "status": "completed"
    },
    "tags": []
   },
   "outputs": [
    {
     "data": {
      "text/plain": [
       "((60000, 28, 28), (60000,))"
      ]
     },
     "execution_count": 6,
     "metadata": {},
     "output_type": "execute_result"
    }
   ],
   "source": [
    "train_images.shape, train_labels.shape"
   ]
  },
  {
   "cell_type": "code",
   "execution_count": 7,
   "id": "f50dc2bb",
   "metadata": {
    "execution": {
     "iopub.execute_input": "2021-11-24T10:08:34.437961Z",
     "iopub.status.busy": "2021-11-24T10:08:34.437339Z",
     "iopub.status.idle": "2021-11-24T10:08:34.676014Z",
     "shell.execute_reply": "2021-11-24T10:08:34.676537Z"
    },
    "papermill": {
     "duration": 0.274375,
     "end_time": "2021-11-24T10:08:34.676730",
     "exception": false,
     "start_time": "2021-11-24T10:08:34.402355",
     "status": "completed"
    },
    "tags": []
   },
   "outputs": [],
   "source": [
    "test_images = mnist.test_images()\n",
    "test_labels = mnist.test_labels()"
   ]
  },
  {
   "cell_type": "code",
   "execution_count": 8,
   "id": "fc38cf1b",
   "metadata": {
    "execution": {
     "iopub.execute_input": "2021-11-24T10:08:34.746495Z",
     "iopub.status.busy": "2021-11-24T10:08:34.745871Z",
     "iopub.status.idle": "2021-11-24T10:08:34.764430Z",
     "shell.execute_reply": "2021-11-24T10:08:34.763934Z"
    },
    "papermill": {
     "duration": 0.056233,
     "end_time": "2021-11-24T10:08:34.764563",
     "exception": false,
     "start_time": "2021-11-24T10:08:34.708330",
     "status": "completed"
    },
    "tags": []
   },
   "outputs": [
    {
     "data": {
      "text/plain": [
       "((10000, 28, 28), (10000,))"
      ]
     },
     "execution_count": 8,
     "metadata": {},
     "output_type": "execute_result"
    }
   ],
   "source": [
    "test_images.shape, test_labels.shape"
   ]
  },
  {
   "cell_type": "code",
   "execution_count": 9,
   "id": "f9ed8fe0",
   "metadata": {
    "execution": {
     "iopub.execute_input": "2021-11-24T10:08:34.833766Z",
     "iopub.status.busy": "2021-11-24T10:08:34.833066Z",
     "iopub.status.idle": "2021-11-24T10:08:35.028939Z",
     "shell.execute_reply": "2021-11-24T10:08:35.028210Z"
    },
    "papermill": {
     "duration": 0.233321,
     "end_time": "2021-11-24T10:08:35.029153",
     "exception": false,
     "start_time": "2021-11-24T10:08:34.795832",
     "status": "completed"
    },
    "tags": []
   },
   "outputs": [
    {
     "name": "stdout",
     "output_type": "stream",
     "text": [
      "2\n"
     ]
    },
    {
     "data": {
      "text/plain": [
       "<matplotlib.image.AxesImage at 0x7fa82cdad160>"
      ]
     },
     "execution_count": 9,
     "metadata": {},
     "output_type": "execute_result"
    },
    {
     "data": {
      "image/png": "[encoded data removed]",
      "text/plain": [
       "<Figure size 432x288 with 1 Axes>"
      ]
     },
     "metadata": {
      "needs_background": "light"
     },
     "output_type": "display_data"
    }
   ],
   "source": [
    "image_index = 7776 # You may select anything up to 60,000\n",
    "print(train_labels[image_index]) \n",
    "plt.imshow(train_images[image_index], cmap='Greys')"
   ]
  },
  {
   "cell_type": "markdown",
   "id": "a8d2388d",
   "metadata": {
    "papermill": {
     "duration": 0.032536,
     "end_time": "2021-11-24T10:08:35.095482",
     "exception": false,
     "start_time": "2021-11-24T10:08:35.062946",
     "status": "completed"
    },
    "tags": []
   },
   "source": [
    "## Filter data to get 3 and 8 out"
   ]
  },
  {
   "cell_type": "code",
   "execution_count": 10,
   "id": "776f7fc7",
   "metadata": {
    "execution": {
     "iopub.execute_input": "2021-11-24T10:08:35.171042Z",
     "iopub.status.busy": "2021-11-24T10:08:35.170362Z",
     "iopub.status.idle": "2021-11-24T10:08:35.186189Z",
     "shell.execute_reply": "2021-11-24T10:08:35.186701Z"
    },
    "papermill": {
     "duration": 0.056024,
     "end_time": "2021-11-24T10:08:35.186846",
     "exception": false,
     "start_time": "2021-11-24T10:08:35.130822",
     "status": "completed"
    },
    "tags": []
   },
   "outputs": [],
   "source": [
    "train_filter = np.where((train_labels == 3 ) | (train_labels == 8))\n",
    "test_filter = np.where((test_labels == 3) | (test_labels == 8))\n",
    "X_train, y_train = train_images[train_filter], train_labels[train_filter]\n",
    "X_test, y_test = test_images[test_filter], test_labels[test_filter]"
   ]
  },
  {
   "cell_type": "markdown",
   "id": "948f0b7e",
   "metadata": {
    "papermill": {
     "duration": 0.03173,
     "end_time": "2021-11-24T10:08:35.252675",
     "exception": false,
     "start_time": "2021-11-24T10:08:35.220945",
     "status": "completed"
    },
    "tags": []
   },
   "source": [
    "We normalize the pizel values in the 0 to 1 range"
   ]
  },
  {
   "cell_type": "code",
   "execution_count": 11,
   "id": "ee4c2166",
   "metadata": {
    "execution": {
     "iopub.execute_input": "2021-11-24T10:08:35.325125Z",
     "iopub.status.busy": "2021-11-24T10:08:35.324454Z",
     "iopub.status.idle": "2021-11-24T10:08:35.389706Z",
     "shell.execute_reply": "2021-11-24T10:08:35.389037Z"
    },
    "papermill": {
     "duration": 0.1048,
     "end_time": "2021-11-24T10:08:35.389996",
     "exception": false,
     "start_time": "2021-11-24T10:08:35.285196",
     "status": "completed"
    },
    "tags": []
   },
   "outputs": [],
   "source": [
    "X_train = X_train/255.\n",
    "X_test = X_test/255."
   ]
  },
  {
   "cell_type": "markdown",
   "id": "ddcf4fab",
   "metadata": {
    "papermill": {
     "duration": 0.033454,
     "end_time": "2021-11-24T10:08:35.457303",
     "exception": false,
     "start_time": "2021-11-24T10:08:35.423849",
     "status": "completed"
    },
    "tags": []
   },
   "source": [
    "And setup the labels as 1 (when the digit is 3) and 0 (when the digit is 8)"
   ]
  },
  {
   "cell_type": "code",
   "execution_count": 12,
   "id": "7dc908f2",
   "metadata": {
    "execution": {
     "iopub.execute_input": "2021-11-24T10:08:35.533788Z",
     "iopub.status.busy": "2021-11-24T10:08:35.533056Z",
     "iopub.status.idle": "2021-11-24T10:08:35.547272Z",
     "shell.execute_reply": "2021-11-24T10:08:35.548028Z"
    },
    "papermill": {
     "duration": 0.055533,
     "end_time": "2021-11-24T10:08:35.548191",
     "exception": false,
     "start_time": "2021-11-24T10:08:35.492658",
     "status": "completed"
    },
    "tags": []
   },
   "outputs": [],
   "source": [
    "y_train = 1*(y_train==3)\n",
    "y_test = 1*(y_test==3)"
   ]
  },
  {
   "cell_type": "code",
   "execution_count": 13,
   "id": "01e4e969",
   "metadata": {
    "execution": {
     "iopub.execute_input": "2021-11-24T10:08:35.628708Z",
     "iopub.status.busy": "2021-11-24T10:08:35.627814Z",
     "iopub.status.idle": "2021-11-24T10:08:35.645539Z",
     "shell.execute_reply": "2021-11-24T10:08:35.644940Z"
    },
    "papermill": {
     "duration": 0.055144,
     "end_time": "2021-11-24T10:08:35.645664",
     "exception": false,
     "start_time": "2021-11-24T10:08:35.590520",
     "status": "completed"
    },
    "tags": []
   },
   "outputs": [
    {
     "data": {
      "text/plain": [
       "((11982, 28, 28), (1984, 28, 28))"
      ]
     },
     "execution_count": 13,
     "metadata": {},
     "output_type": "execute_result"
    }
   ],
   "source": [
    "X_train.shape, X_test.shape"
   ]
  },
  {
   "cell_type": "markdown",
   "id": "5ccf3f85",
   "metadata": {
    "papermill": {
     "duration": 0.033948,
     "end_time": "2021-11-24T10:08:35.715406",
     "exception": false,
     "start_time": "2021-11-24T10:08:35.681458",
     "status": "completed"
    },
    "tags": []
   },
   "source": [
    "We reshape the data to flatten the image pixels into a set of features or co-variates:"
   ]
  },
  {
   "cell_type": "code",
   "execution_count": 14,
   "id": "5286a4a3",
   "metadata": {
    "execution": {
     "iopub.execute_input": "2021-11-24T10:08:35.789586Z",
     "iopub.status.busy": "2021-11-24T10:08:35.788960Z",
     "iopub.status.idle": "2021-11-24T10:08:35.803546Z",
     "shell.execute_reply": "2021-11-24T10:08:35.804126Z"
    },
    "papermill": {
     "duration": 0.056443,
     "end_time": "2021-11-24T10:08:35.804309",
     "exception": false,
     "start_time": "2021-11-24T10:08:35.747866",
     "status": "completed"
    },
    "tags": []
   },
   "outputs": [
    {
     "data": {
      "text/plain": [
       "((11982, 784), (1984, 784))"
      ]
     },
     "execution_count": 14,
     "metadata": {},
     "output_type": "execute_result"
    }
   ],
   "source": [
    "X_train = X_train.reshape(X_train.shape[0], -1)\n",
    "X_test = X_test.reshape(X_test.shape[0], -1)\n",
    "X_train.shape, X_test.shape"
   ]
  },
  {
   "cell_type": "code",
   "execution_count": 15,
   "id": "73c5f88a",
   "metadata": {
    "execution": {
     "iopub.execute_input": "2021-11-24T10:08:35.882159Z",
     "iopub.status.busy": "2021-11-24T10:08:35.881494Z",
     "iopub.status.idle": "2021-11-24T10:08:35.902442Z",
     "shell.execute_reply": "2021-11-24T10:08:35.903115Z"
    },
    "papermill": {
     "duration": 0.060624,
     "end_time": "2021-11-24T10:08:35.903249",
     "exception": false,
     "start_time": "2021-11-24T10:08:35.842625",
     "status": "completed"
    },
    "tags": []
   },
   "outputs": [],
   "source": [
    "#Impoting functions from 'Kudzu'\n",
    "from kudzu.model import Model\n",
    "from kudzu.train import Learner\n",
    "from kudzu.optim import GD\n",
    "from kudzu.data import Data, Sampler,Dataloader\n",
    "\n",
    "from kudzu.callbacks import AccCallback\n",
    "from kudzu.callbacks import ClfCallback\n",
    "\n",
    "from kudzu.loss import MSE\n",
    "\n",
    "from kudzu.layer import Sigmoid,Relu\n",
    "from kudzu.layer import Affine"
   ]
  },
  {
   "cell_type": "markdown",
   "id": "bc01172a",
   "metadata": {
    "papermill": {
     "duration": 0.034291,
     "end_time": "2021-11-24T10:08:35.971969",
     "exception": false,
     "start_time": "2021-11-24T10:08:35.937678",
     "status": "completed"
    },
    "tags": []
   },
   "source": [
    "### Let us create a `Config` class, to store important parameters. \n",
    "This class essentially plays the role of a dictionary."
   ]
  },
  {
   "cell_type": "code",
   "execution_count": 16,
   "id": "978281aa",
   "metadata": {
    "execution": {
     "iopub.execute_input": "2021-11-24T10:08:36.047309Z",
     "iopub.status.busy": "2021-11-24T10:08:36.046520Z",
     "iopub.status.idle": "2021-11-24T10:08:36.059514Z",
     "shell.execute_reply": "2021-11-24T10:08:36.060264Z"
    },
    "papermill": {
     "duration": 0.052701,
     "end_time": "2021-11-24T10:08:36.060473",
     "exception": false,
     "start_time": "2021-11-24T10:08:36.007772",
     "status": "completed"
    },
    "tags": []
   },
   "outputs": [],
   "source": [
    "class Config:\n",
    "    pass\n",
    "config = Config()\n",
    "config.lr = 0.001\n",
    "config.num_epochs = 250\n",
    "config.bs = 50"
   ]
  },
  {
   "cell_type": "markdown",
   "id": "1385fa59",
   "metadata": {
    "papermill": {
     "duration": 0.035289,
     "end_time": "2021-11-24T10:08:36.130479",
     "exception": false,
     "start_time": "2021-11-24T10:08:36.095190",
     "status": "completed"
    },
    "tags": []
   },
   "source": [
    "### Running Models with the Training data\n",
    "Details about the network layers:\n",
    "- A first affine layer has 784 inputs and does 100 affine transforms. These are followed by a Relu\n",
    "- A second affine layer has 100 inputs from the 100 activations of the past layer, and does 100 affine transforms. These are followed by a Relu\n",
    "- A third affine layer has 100 activations and does 2 affine transformations to create an embedding for visualization. There is no non-linearity here.\n",
    "- A final \"logistic regression\" which has an affine transform from 2 inputs to 1 output, which is squeezed through a sigmoid.\n"
   ]
  },
  {
   "cell_type": "code",
   "execution_count": 17,
   "id": "2b9c66db",
   "metadata": {
    "execution": {
     "iopub.execute_input": "2021-11-24T10:08:36.206384Z",
     "iopub.status.busy": "2021-11-24T10:08:36.205686Z",
     "iopub.status.idle": "2021-11-24T10:08:36.219894Z",
     "shell.execute_reply": "2021-11-24T10:08:36.219288Z"
    },
    "papermill": {
     "duration": 0.055733,
     "end_time": "2021-11-24T10:08:36.220033",
     "exception": false,
     "start_time": "2021-11-24T10:08:36.164300",
     "status": "completed"
    },
    "tags": []
   },
   "outputs": [],
   "source": [
    "data = Data(X_train, y_train.reshape(-1,1))\n",
    "sampler = Sampler(data, config.bs, shuffle=True)\n",
    "\n",
    "dl = Dataloader(data, sampler)\n",
    "\n",
    "opt = GD(config.lr)\n",
    "loss = MSE()"
   ]
  },
  {
   "cell_type": "code",
   "execution_count": 18,
   "id": "b275e4c2",
   "metadata": {
    "execution": {
     "iopub.execute_input": "2021-11-24T10:08:36.295762Z",
     "iopub.status.busy": "2021-11-24T10:08:36.295150Z",
     "iopub.status.idle": "2021-11-24T10:08:36.308374Z",
     "shell.execute_reply": "2021-11-24T10:08:36.307784Z"
    },
    "papermill": {
     "duration": 0.053333,
     "end_time": "2021-11-24T10:08:36.308508",
     "exception": false,
     "start_time": "2021-11-24T10:08:36.255175",
     "status": "completed"
    },
    "tags": []
   },
   "outputs": [],
   "source": [
    "training_data_x = X_train\n",
    "testing_data_x = X_test\n",
    "training_data_y = y_train.reshape(-1,1)\n",
    "testing_data_y = y_test.reshape(-1,1)"
   ]
  },
  {
   "cell_type": "code",
   "execution_count": 19,
   "id": "76951160",
   "metadata": {
    "execution": {
     "iopub.execute_input": "2021-11-24T10:08:36.381290Z",
     "iopub.status.busy": "2021-11-24T10:08:36.380604Z",
     "iopub.status.idle": "2021-11-24T10:08:36.398510Z",
     "shell.execute_reply": "2021-11-24T10:08:36.399068Z"
    },
    "papermill": {
     "duration": 0.05727,
     "end_time": "2021-11-24T10:08:36.399206",
     "exception": false,
     "start_time": "2021-11-24T10:08:36.341936",
     "status": "completed"
    },
    "tags": []
   },
   "outputs": [
    {
     "name": "stdout",
     "output_type": "stream",
     "text": [
      "xavier\n",
      "xavier\n",
      "xavier\n",
      "xavier\n",
      "xavier\n"
     ]
    }
   ],
   "source": [
    "layers = [Affine(\"first\", 784, 100), Relu(\"first\"), Affine(\"second\", 100, 100), Relu(\"second\"), Affine(\"third\", 100, 2), Affine(\"last\", 2, 1), Sigmoid(\"last\")]\n",
    "model_nn = Model(layers)\n",
    "model_lr = Model([Affine(\"logits\", 784, 1), Sigmoid(\"sigmoid\")])"
   ]
  },
  {
   "cell_type": "code",
   "execution_count": 20,
   "id": "6eede77a",
   "metadata": {
    "execution": {
     "iopub.execute_input": "2021-11-24T10:08:36.468207Z",
     "iopub.status.busy": "2021-11-24T10:08:36.467547Z",
     "iopub.status.idle": "2021-11-24T10:08:36.482917Z",
     "shell.execute_reply": "2021-11-24T10:08:36.483397Z"
    },
    "papermill": {
     "duration": 0.05065,
     "end_time": "2021-11-24T10:08:36.483540",
     "exception": false,
     "start_time": "2021-11-24T10:08:36.432890",
     "status": "completed"
    },
    "tags": []
   },
   "outputs": [],
   "source": [
    "nn_learner = Learner(loss, model_nn, opt, config.num_epochs)\n",
    "acc_nn = ClfCallback(nn_learner, config.bs, training_data_x , testing_data_x, training_data_y, testing_data_y)\n",
    "nn_learner.set_callbacks([acc_nn])"
   ]
  },
  {
   "cell_type": "code",
   "execution_count": 21,
   "id": "877b6cc7",
   "metadata": {
    "execution": {
     "iopub.execute_input": "2021-11-24T10:08:36.560284Z",
     "iopub.status.busy": "2021-11-24T10:08:36.559690Z",
     "iopub.status.idle": "2021-11-24T10:08:36.573274Z",
     "shell.execute_reply": "2021-11-24T10:08:36.574182Z"
    },
    "papermill": {
     "duration": 0.05354,
     "end_time": "2021-11-24T10:08:36.574357",
     "exception": false,
     "start_time": "2021-11-24T10:08:36.520817",
     "status": "completed"
    },
    "tags": []
   },
   "outputs": [],
   "source": [
    "lr_learner = Learner(loss, model_lr, opt, config.num_epochs)\n",
    "acc_lr = ClfCallback(lr_learner, config.bs, training_data_x , testing_data_x, training_data_y, testing_data_y)\n",
    "lr_learner.set_callbacks([acc_lr])"
   ]
  },
  {
   "cell_type": "code",
   "execution_count": 22,
   "id": "d9b133c3",
   "metadata": {
    "execution": {
     "iopub.execute_input": "2021-11-24T10:08:36.650255Z",
     "iopub.status.busy": "2021-11-24T10:08:36.649523Z",
     "iopub.status.idle": "2021-11-24T10:11:03.469951Z",
     "shell.execute_reply": "2021-11-24T10:11:03.470885Z"
    },
    "papermill": {
     "duration": 146.86121,
     "end_time": "2021-11-24T10:11:03.471048",
     "exception": false,
     "start_time": "2021-11-24T10:08:36.609838",
     "status": "completed"
    },
    "tags": []
   },
   "outputs": [
    {
     "name": "stdout",
     "output_type": "stream",
     "text": [
      "Epoch 0, Loss 0.2279\n",
      "Training Accuracy: 0.7973, Testing Accuracy: 0.8059\n",
      "\n"
     ]
    },
    {
     "name": "stdout",
     "output_type": "stream",
     "text": [
      "Epoch 10, Loss 0.0591\n",
      "Training Accuracy: 0.9412, Testing Accuracy: 0.9471\n",
      "\n"
     ]
    },
    {
     "name": "stdout",
     "output_type": "stream",
     "text": [
      "Epoch 20, Loss 0.0428\n",
      "Training Accuracy: 0.9534, Testing Accuracy: 0.9572\n",
      "\n"
     ]
    },
    {
     "name": "stdout",
     "output_type": "stream",
     "text": [
      "Epoch 30, Loss 0.0363\n",
      "Training Accuracy: 0.9594, Testing Accuracy: 0.9627\n",
      "\n"
     ]
    },
    {
     "name": "stdout",
     "output_type": "stream",
     "text": [
      "Epoch 40, Loss 0.0327\n",
      "Training Accuracy: 0.9627, Testing Accuracy: 0.9637\n",
      "\n"
     ]
    },
    {
     "name": "stdout",
     "output_type": "stream",
     "text": [
      "Epoch 50, Loss 0.0303\n",
      "Training Accuracy: 0.9651, Testing Accuracy: 0.9662\n",
      "\n"
     ]
    },
    {
     "name": "stdout",
     "output_type": "stream",
     "text": [
      "Epoch 60, Loss 0.0285\n",
      "Training Accuracy: 0.9674, Testing Accuracy: 0.9662\n",
      "\n"
     ]
    },
    {
     "name": "stdout",
     "output_type": "stream",
     "text": [
      "Epoch 70, Loss 0.027\n",
      "Training Accuracy: 0.9685, Testing Accuracy: 0.9677\n",
      "\n"
     ]
    },
    {
     "name": "stdout",
     "output_type": "stream",
     "text": [
      "Epoch 80, Loss 0.0258\n",
      "Training Accuracy: 0.9700, Testing Accuracy: 0.9698\n",
      "\n"
     ]
    },
    {
     "name": "stdout",
     "output_type": "stream",
     "text": [
      "Epoch 90, Loss 0.0248\n",
      "Training Accuracy: 0.9715, Testing Accuracy: 0.9698\n",
      "\n"
     ]
    },
    {
     "name": "stdout",
     "output_type": "stream",
     "text": [
      "Epoch 100, Loss 0.0239\n",
      "Training Accuracy: 0.9725, Testing Accuracy: 0.9698\n",
      "\n"
     ]
    },
    {
     "name": "stdout",
     "output_type": "stream",
     "text": [
      "Epoch 110, Loss 0.0231\n",
      "Training Accuracy: 0.9732, Testing Accuracy: 0.9708\n",
      "\n"
     ]
    },
    {
     "name": "stdout",
     "output_type": "stream",
     "text": [
      "Epoch 120, Loss 0.0224\n",
      "Training Accuracy: 0.9741, Testing Accuracy: 0.9718\n",
      "\n"
     ]
    },
    {
     "name": "stdout",
     "output_type": "stream",
     "text": [
      "Epoch 130, Loss 0.0217\n",
      "Training Accuracy: 0.9754, Testing Accuracy: 0.9718\n",
      "\n"
     ]
    },
    {
     "name": "stdout",
     "output_type": "stream",
     "text": [
      "Epoch 140, Loss 0.0211\n",
      "Training Accuracy: 0.9762, Testing Accuracy: 0.9718\n",
      "\n"
     ]
    },
    {
     "name": "stdout",
     "output_type": "stream",
     "text": [
      "Epoch 150, Loss 0.0206\n",
      "Training Accuracy: 0.9768, Testing Accuracy: 0.9718\n",
      "\n"
     ]
    },
    {
     "name": "stdout",
     "output_type": "stream",
     "text": [
      "Epoch 160, Loss 0.0201\n",
      "Training Accuracy: 0.9775, Testing Accuracy: 0.9733\n",
      "\n"
     ]
    },
    {
     "name": "stdout",
     "output_type": "stream",
     "text": [
      "Epoch 170, Loss 0.0196\n",
      "Training Accuracy: 0.9781, Testing Accuracy: 0.9733\n",
      "\n"
     ]
    },
    {
     "name": "stdout",
     "output_type": "stream",
     "text": [
      "Epoch 180, Loss 0.0191\n",
      "Training Accuracy: 0.9786, Testing Accuracy: 0.9748\n",
      "\n"
     ]
    },
    {
     "name": "stdout",
     "output_type": "stream",
     "text": [
      "Epoch 190, Loss 0.0187\n",
      "Training Accuracy: 0.9795, Testing Accuracy: 0.9748\n",
      "\n"
     ]
    },
    {
     "name": "stdout",
     "output_type": "stream",
     "text": [
      "Epoch 200, Loss 0.0183\n",
      "Training Accuracy: 0.9801, Testing Accuracy: 0.9758\n",
      "\n"
     ]
    },
    {
     "name": "stdout",
     "output_type": "stream",
     "text": [
      "Epoch 210, Loss 0.0179\n",
      "Training Accuracy: 0.9802, Testing Accuracy: 0.9758\n",
      "\n"
     ]
    },
    {
     "name": "stdout",
     "output_type": "stream",
     "text": [
      "Epoch 220, Loss 0.0175\n",
      "Training Accuracy: 0.9808, Testing Accuracy: 0.9763\n",
      "\n"
     ]
    },
    {
     "name": "stdout",
     "output_type": "stream",
     "text": [
      "Epoch 230, Loss 0.0172\n",
      "Training Accuracy: 0.9814, Testing Accuracy: 0.9763\n",
      "\n"
     ]
    },
    {
     "name": "stdout",
     "output_type": "stream",
     "text": [
      "Epoch 240, Loss 0.0168\n",
      "Training Accuracy: 0.9817, Testing Accuracy: 0.9768\n",
      "\n"
     ]
    },
    {
     "data": {
      "text/plain": [
       "0.012694542350528255"
      ]
     },
     "execution_count": 22,
     "metadata": {},
     "output_type": "execute_result"
    }
   ],
   "source": [
    "nn_learner.train_loop(dl)"
   ]
  },
  {
   "cell_type": "code",
   "execution_count": 23,
   "id": "e0163366",
   "metadata": {
    "execution": {
     "iopub.execute_input": "2021-11-24T10:11:03.572504Z",
     "iopub.status.busy": "2021-11-24T10:11:03.571889Z",
     "iopub.status.idle": "2021-11-24T10:11:24.630721Z",
     "shell.execute_reply": "2021-11-24T10:11:24.631629Z"
    },
    "papermill": {
     "duration": 21.115025,
     "end_time": "2021-11-24T10:11:24.631802",
     "exception": false,
     "start_time": "2021-11-24T10:11:03.516777",
     "status": "completed"
    },
    "tags": []
   },
   "outputs": [
    {
     "name": "stdout",
     "output_type": "stream",
     "text": [
      "Epoch 0, Loss 0.2622\n",
      "Training Accuracy: 0.5858, Testing Accuracy: 0.6003\n",
      "\n"
     ]
    },
    {
     "name": "stdout",
     "output_type": "stream",
     "text": [
      "Epoch 10, Loss 0.1073\n",
      "Training Accuracy: 0.9019, Testing Accuracy: 0.9083\n",
      "\n"
     ]
    },
    {
     "name": "stdout",
     "output_type": "stream",
     "text": [
      "Epoch 20, Loss 0.0814\n",
      "Training Accuracy: 0.9239, Testing Accuracy: 0.9320\n",
      "\n"
     ]
    },
    {
     "name": "stdout",
     "output_type": "stream",
     "text": [
      "Epoch 30, Loss 0.0697\n",
      "Training Accuracy: 0.9322, Testing Accuracy: 0.9425\n",
      "\n"
     ]
    },
    {
     "name": "stdout",
     "output_type": "stream",
     "text": [
      "Epoch 40, Loss 0.0628\n",
      "Training Accuracy: 0.9383, Testing Accuracy: 0.9486\n",
      "\n"
     ]
    },
    {
     "name": "stdout",
     "output_type": "stream",
     "text": [
      "Epoch 50, Loss 0.058\n",
      "Training Accuracy: 0.9428, Testing Accuracy: 0.9521\n",
      "\n"
     ]
    },
    {
     "name": "stdout",
     "output_type": "stream",
     "text": [
      "Epoch 60, Loss 0.0546\n",
      "Training Accuracy: 0.9456, Testing Accuracy: 0.9546\n",
      "\n"
     ]
    },
    {
     "name": "stdout",
     "output_type": "stream",
     "text": [
      "Epoch 70, Loss 0.0519\n",
      "Training Accuracy: 0.9468, Testing Accuracy: 0.9572\n",
      "\n"
     ]
    },
    {
     "name": "stdout",
     "output_type": "stream",
     "text": [
      "Epoch 80, Loss 0.0498\n",
      "Training Accuracy: 0.9488, Testing Accuracy: 0.9582\n",
      "\n"
     ]
    },
    {
     "name": "stdout",
     "output_type": "stream",
     "text": [
      "Epoch 90, Loss 0.048\n",
      "Training Accuracy: 0.9499, Testing Accuracy: 0.9587\n",
      "\n"
     ]
    },
    {
     "name": "stdout",
     "output_type": "stream",
     "text": [
      "Epoch 100, Loss 0.0466\n",
      "Training Accuracy: 0.9518, Testing Accuracy: 0.9617\n",
      "\n"
     ]
    },
    {
     "name": "stdout",
     "output_type": "stream",
     "text": [
      "Epoch 110, Loss 0.0453\n",
      "Training Accuracy: 0.9534, Testing Accuracy: 0.9637\n",
      "\n"
     ]
    },
    {
     "name": "stdout",
     "output_type": "stream",
     "text": [
      "Epoch 120, Loss 0.0442\n",
      "Training Accuracy: 0.9541, Testing Accuracy: 0.9647\n",
      "\n"
     ]
    },
    {
     "name": "stdout",
     "output_type": "stream",
     "text": [
      "Epoch 130, Loss 0.0432\n",
      "Training Accuracy: 0.9543, Testing Accuracy: 0.9657\n",
      "\n"
     ]
    },
    {
     "name": "stdout",
     "output_type": "stream",
     "text": [
      "Epoch 140, Loss 0.0424\n",
      "Training Accuracy: 0.9550, Testing Accuracy: 0.9657\n",
      "\n"
     ]
    },
    {
     "name": "stdout",
     "output_type": "stream",
     "text": [
      "Epoch 150, Loss 0.0416\n",
      "Training Accuracy: 0.9563, Testing Accuracy: 0.9652\n",
      "\n"
     ]
    },
    {
     "name": "stdout",
     "output_type": "stream",
     "text": [
      "Epoch 160, Loss 0.0409\n",
      "Training Accuracy: 0.9570, Testing Accuracy: 0.9652\n",
      "\n"
     ]
    },
    {
     "name": "stdout",
     "output_type": "stream",
     "text": [
      "Epoch 170, Loss 0.0403\n",
      "Training Accuracy: 0.9578, Testing Accuracy: 0.9652\n",
      "\n"
     ]
    },
    {
     "name": "stdout",
     "output_type": "stream",
     "text": [
      "Epoch 180, Loss 0.0397\n",
      "Training Accuracy: 0.9581, Testing Accuracy: 0.9652\n",
      "\n"
     ]
    },
    {
     "name": "stdout",
     "output_type": "stream",
     "text": [
      "Epoch 190, Loss 0.0392\n",
      "Training Accuracy: 0.9584, Testing Accuracy: 0.9647\n",
      "\n"
     ]
    },
    {
     "name": "stdout",
     "output_type": "stream",
     "text": [
      "Epoch 200, Loss 0.0387\n",
      "Training Accuracy: 0.9590, Testing Accuracy: 0.9642\n",
      "\n"
     ]
    },
    {
     "name": "stdout",
     "output_type": "stream",
     "text": [
      "Epoch 210, Loss 0.0382\n",
      "Training Accuracy: 0.9594, Testing Accuracy: 0.9642\n",
      "\n"
     ]
    },
    {
     "name": "stdout",
     "output_type": "stream",
     "text": [
      "Epoch 220, Loss 0.0378\n",
      "Training Accuracy: 0.9597, Testing Accuracy: 0.9647\n",
      "\n"
     ]
    },
    {
     "name": "stdout",
     "output_type": "stream",
     "text": [
      "Epoch 230, Loss 0.0374\n",
      "Training Accuracy: 0.9599, Testing Accuracy: 0.9652\n",
      "\n"
     ]
    },
    {
     "name": "stdout",
     "output_type": "stream",
     "text": [
      "Epoch 240, Loss 0.037\n",
      "Training Accuracy: 0.9600, Testing Accuracy: 0.9657\n",
      "\n"
     ]
    },
    {
     "data": {
      "text/plain": [
       "0.05494729503082797"
      ]
     },
     "execution_count": 23,
     "metadata": {},
     "output_type": "execute_result"
    }
   ],
   "source": [
    "lr_learner.train_loop(dl)"
   ]
  },
  {
   "cell_type": "code",
   "execution_count": 24,
   "id": "ca410940",
   "metadata": {
    "execution": {
     "iopub.execute_input": "2021-11-24T10:11:24.745424Z",
     "iopub.status.busy": "2021-11-24T10:11:24.744721Z",
     "iopub.status.idle": "2021-11-24T10:11:25.074909Z",
     "shell.execute_reply": "2021-11-24T10:11:25.074253Z"
    },
    "papermill": {
     "duration": 0.388304,
     "end_time": "2021-11-24T10:11:25.075052",
     "exception": false,
     "start_time": "2021-11-24T10:11:24.686748",
     "status": "completed"
    },
    "tags": []
   },
   "outputs": [
    {
     "data": {
      "text/plain": [
       "<matplotlib.legend.Legend at 0x7fa81f582940>"
      ]
     },
     "execution_count": 24,
     "metadata": {},
     "output_type": "execute_result"
    },
    {
     "data": {
      "image/png": "[encoded data removed]",
      "text/plain": [
       "<Figure size 1080x720 with 1 Axes>"
      ]
     },
     "metadata": {
      "needs_background": "light"
     },
     "output_type": "display_data"
    }
   ],
   "source": [
    "#comparing the results of NN and LR\n",
    "plt.figure(figsize=(15,10))\n",
    "\n",
    "# Neural Network plots\n",
    "plt.plot(acc_nn.accuracies, 'r-', label = \"Training Accuracies - NN\")\n",
    "plt.plot(acc_nn.test_accuracies, 'g-', label = \"Testing Accuracies - NN\")\n",
    "\n",
    "# Logistic Regression plots\n",
    "plt.plot(acc_lr.accuracies, 'k-', label = \"Training Accuracies - LR\")\n",
    "plt.plot(acc_lr.test_accuracies, 'b-', label = \"Testing Accuracies - LR\")\n",
    "plt.legend()"
   ]
  },
  {
   "cell_type": "markdown",
   "id": "80dfb35c",
   "metadata": {
    "papermill": {
     "duration": 0.052597,
     "end_time": "2021-11-24T10:11:25.180140",
     "exception": false,
     "start_time": "2021-11-24T10:11:25.127543",
     "status": "completed"
    },
    "tags": []
   },
   "source": [
    "#### Plotting the outputs of this layer of the NN.\n"
   ]
  },
  {
   "cell_type": "code",
   "execution_count": 25,
   "id": "45eb2ff5",
   "metadata": {
    "execution": {
     "iopub.execute_input": "2021-11-24T10:11:25.291700Z",
     "iopub.status.busy": "2021-11-24T10:11:25.291018Z",
     "iopub.status.idle": "2021-11-24T10:11:25.319205Z",
     "shell.execute_reply": "2021-11-24T10:11:25.318559Z"
    },
    "papermill": {
     "duration": 0.0857,
     "end_time": "2021-11-24T10:11:25.319363",
     "exception": false,
     "start_time": "2021-11-24T10:11:25.233663",
     "status": "completed"
    },
    "tags": []
   },
   "outputs": [],
   "source": [
    "new_model = Model(layers[:-2])\n",
    "testing_plot = new_model(testing_data_x)"
   ]
  },
  {
   "cell_type": "code",
   "execution_count": 26,
   "id": "4c0a5485",
   "metadata": {
    "execution": {
     "iopub.execute_input": "2021-11-24T10:11:25.439602Z",
     "iopub.status.busy": "2021-11-24T10:11:25.438760Z",
     "iopub.status.idle": "2021-11-24T10:11:25.741045Z",
     "shell.execute_reply": "2021-11-24T10:11:25.740492Z"
    },
    "papermill": {
     "duration": 0.365506,
     "end_time": "2021-11-24T10:11:25.741183",
     "exception": false,
     "start_time": "2021-11-24T10:11:25.375677",
     "status": "completed"
    },
    "tags": []
   },
   "outputs": [
    {
     "data": {
      "text/plain": [
       "Text(0.5, 1.0, 'Outputs')"
      ]
     },
     "execution_count": 26,
     "metadata": {},
     "output_type": "execute_result"
    },
    {
     "data": {
      "image/png": "[encoded data removed]",
      "text/plain": [
       "<Figure size 576x504 with 1 Axes>"
      ]
     },
     "metadata": {
      "needs_background": "light"
     },
     "output_type": "display_data"
    }
   ],
   "source": [
    "# Plotting the scatter plot of points and color coding by class\n",
    "plt.figure(figsize=(8,7))\n",
    "plt.scatter(testing_plot[:,0], testing_plot[:,1], alpha = 0.1, c = y_test.ravel());\n",
    "plt.title('Outputs')"
   ]
  },
  {
   "cell_type": "markdown",
   "id": "a74fcf8f",
   "metadata": {
    "papermill": {
     "duration": 0.058748,
     "end_time": "2021-11-24T10:11:25.858185",
     "exception": false,
     "start_time": "2021-11-24T10:11:25.799437",
     "status": "completed"
    },
    "tags": []
   },
   "source": [
    "Probability contours"
   ]
  },
  {
   "cell_type": "code",
   "execution_count": 27,
   "id": "d0afc8e3",
   "metadata": {
    "execution": {
     "iopub.execute_input": "2021-11-24T10:11:26.004064Z",
     "iopub.status.busy": "2021-11-24T10:11:26.003316Z",
     "iopub.status.idle": "2021-11-24T10:11:26.018254Z",
     "shell.execute_reply": "2021-11-24T10:11:26.018916Z"
    },
    "papermill": {
     "duration": 0.077496,
     "end_time": "2021-11-24T10:11:26.019066",
     "exception": false,
     "start_time": "2021-11-24T10:11:25.941570",
     "status": "completed"
    },
    "tags": []
   },
   "outputs": [],
   "source": [
    "model_prob = Model(layers[-2:]) "
   ]
  },
  {
   "cell_type": "code",
   "execution_count": 28,
   "id": "9b96e238",
   "metadata": {
    "execution": {
     "iopub.execute_input": "2021-11-24T10:11:26.137436Z",
     "iopub.status.busy": "2021-11-24T10:11:26.136750Z",
     "iopub.status.idle": "2021-11-24T10:11:26.151607Z",
     "shell.execute_reply": "2021-11-24T10:11:26.152196Z"
    },
    "papermill": {
     "duration": 0.077661,
     "end_time": "2021-11-24T10:11:26.152367",
     "exception": false,
     "start_time": "2021-11-24T10:11:26.074706",
     "status": "completed"
    },
    "tags": []
   },
   "outputs": [],
   "source": [
    "#creating the x and y ranges according to the above generated plot.\n",
    "x_range = np.linspace(-4, 1, 100) \n",
    "y_range = np.linspace(-6, 6, 100) \n",
    "x_grid, y_grid = np.meshgrid(x_range, y_range) # x_grid and y_grig are of size 100 X 100\n",
    "\n",
    "# converting x_grid and y_grid to continuous arrays\n",
    "x_gridflat = np.ravel(x_grid)\n",
    "y_gridflat = np.ravel(y_grid)\n",
    "\n",
    "# The last layer of the current model takes two columns as input. Hence transpose of np.vstack() is required.\n",
    "X = np.vstack((x_gridflat, y_gridflat)).T\n",
    "\n",
    "prob_contour = model_prob(X).reshape(100,100) "
   ]
  },
  {
   "cell_type": "code",
   "execution_count": 29,
   "id": "da72499a",
   "metadata": {
    "execution": {
     "iopub.execute_input": "2021-11-24T10:11:26.277992Z",
     "iopub.status.busy": "2021-11-24T10:11:26.277187Z",
     "iopub.status.idle": "2021-11-24T10:11:26.606862Z",
     "shell.execute_reply": "2021-11-24T10:11:26.605629Z"
    },
    "papermill": {
     "duration": 0.391367,
     "end_time": "2021-11-24T10:11:26.607010",
     "exception": false,
     "start_time": "2021-11-24T10:11:26.215643",
     "status": "completed"
    },
    "tags": []
   },
   "outputs": [
    {
     "data": {
      "image/png": "[encoded data removed]",
      "text/plain": [
       "<Figure size 720x648 with 1 Axes>"
      ]
     },
     "metadata": {
      "needs_background": "light"
     },
     "output_type": "display_data"
    }
   ],
   "source": [
    "plt.figure(figsize=(10,9))\n",
    "plt.scatter(testing_plot[:,0], testing_plot[:,1], alpha = 0.1, c = y_test.ravel())\n",
    "contours = plt.contour(x_grid,y_grid,prob_contour)\n",
    "plt.title('Probability Contours')\n",
    "plt.clabel(contours, inline = True );"
   ]
  },
  {
   "cell_type": "code",
   "execution_count": null,
   "id": "e81b4ac7",
   "metadata": {
    "papermill": {
     "duration": 0.062798,
     "end_time": "2021-11-24T10:11:26.732162",
     "exception": false,
     "start_time": "2021-11-24T10:11:26.669364",
     "status": "completed"
    },
    "tags": []
   },
   "outputs": [],
   "source": []
  }
 ],
 "metadata": {
  "kernelspec": {
   "display_name": "Python 3",
   "language": "python",
   "name": "python3"
  },
  "language_info": {
   "codemirror_mode": {
    "name": "ipython",
    "version": 3
   },
   "file_extension": ".py",
   "mimetype": "text/x-python",
   "name": "python",
   "nbconvert_exporter": "python",
   "pygments_lexer": "ipython3",
   "version": "3.6.15"
  },
  "papermill": {
   "default_parameters": {},
   "duration": 179.336768,
   "end_time": "2021-11-24T10:11:27.202938",
   "environment_variables": {},
   "exception": null,
   "input_path": "2020-08-11-part2.ipynb",
   "output_path": "2020-08-11-part2.ipynb",
   "parameters": {},
   "start_time": "2021-11-24T10:08:27.866170",
   "version": "2.3.3"
  }
 },
 "nbformat": 4,
 "nbformat_minor": 5
}