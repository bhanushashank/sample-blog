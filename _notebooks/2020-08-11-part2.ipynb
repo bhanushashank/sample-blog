{
 "cells": [
  {
   "cell_type": "markdown",
   "id": "98380cd3",
   "metadata": {
    "papermill": {
     "duration": 0.032107,
     "end_time": "2021-09-12T20:06:27.267135",
     "exception": false,
     "start_time": "2021-09-12T20:06:27.235028",
     "status": "completed"
    },
    "tags": []
   },
   "source": [
    "# Distinguish Your Own Digits (DYOD)"
   ]
  },
  {
   "cell_type": "markdown",
   "id": "ef31240d",
   "metadata": {
    "papermill": {
     "duration": 0.027052,
     "end_time": "2021-09-12T20:06:27.321821",
     "exception": false,
     "start_time": "2021-09-12T20:06:27.294769",
     "status": "completed"
    },
    "tags": []
   },
   "source": [
    "You are going to write a classifier that distinguishes between the number 3 and number 8."
   ]
  },
  {
   "cell_type": "code",
   "execution_count": 1,
   "id": "b15c8646",
   "metadata": {
    "execution": {
     "iopub.execute_input": "2021-09-12T20:06:27.387985Z",
     "iopub.status.busy": "2021-09-12T20:06:27.387375Z",
     "iopub.status.idle": "2021-09-12T20:06:27.398660Z",
     "shell.execute_reply": "2021-09-12T20:06:27.398170Z"
    },
    "papermill": {
     "duration": 0.05019,
     "end_time": "2021-09-12T20:06:27.398801",
     "exception": false,
     "start_time": "2021-09-12T20:06:27.348611",
     "status": "completed"
    },
    "tags": []
   },
   "outputs": [],
   "source": [
    "%load_ext autoreload\n",
    "%autoreload 2"
   ]
  },
  {
   "cell_type": "code",
   "execution_count": 2,
   "id": "22ef38dc",
   "metadata": {
    "execution": {
     "iopub.execute_input": "2021-09-12T20:06:27.457600Z",
     "iopub.status.busy": "2021-09-12T20:06:27.456994Z",
     "iopub.status.idle": "2021-09-12T20:06:28.045296Z",
     "shell.execute_reply": "2021-09-12T20:06:28.044770Z"
    },
    "papermill": {
     "duration": 0.619516,
     "end_time": "2021-09-12T20:06:28.045435",
     "exception": false,
     "start_time": "2021-09-12T20:06:27.425919",
     "status": "completed"
    },
    "tags": []
   },
   "outputs": [],
   "source": [
    "%matplotlib inline\n",
    "import numpy as np\n",
    "import matplotlib.pyplot as plt\n",
    "import pandas as pd"
   ]
  },
  {
   "cell_type": "markdown",
   "id": "ba036198",
   "metadata": {
    "papermill": {
     "duration": 0.027939,
     "end_time": "2021-09-12T20:06:28.100949",
     "exception": false,
     "start_time": "2021-09-12T20:06:28.073010",
     "status": "completed"
    },
    "tags": []
   },
   "source": [
    "From the command line run `pip install mnist`. This is a library that will help you bring down the mnist dataset. If you run this from a notebook, you need to put  `!pip install mnist` in a cell by itself."
   ]
  },
  {
   "cell_type": "code",
   "execution_count": 3,
   "id": "bb6ad8a1",
   "metadata": {
    "execution": {
     "iopub.execute_input": "2021-09-12T20:06:28.161776Z",
     "iopub.status.busy": "2021-09-12T20:06:28.160316Z",
     "iopub.status.idle": "2021-09-12T20:06:30.021815Z",
     "shell.execute_reply": "2021-09-12T20:06:30.022412Z"
    },
    "papermill": {
     "duration": 1.894876,
     "end_time": "2021-09-12T20:06:30.022589",
     "exception": false,
     "start_time": "2021-09-12T20:06:28.127713",
     "status": "completed"
    },
    "tags": []
   },
   "outputs": [
    {
     "name": "stdout",
     "output_type": "stream",
     "text": [
      "Collecting mnist\r\n"
     ]
    },
    {
     "name": "stdout",
     "output_type": "stream",
     "text": [
      "  Downloading mnist-0.2.2-py2.py3-none-any.whl (3.5 kB)\r\n",
      "Requirement already satisfied: numpy in /opt/hostedtoolcache/Python/3.6.14/x64/lib/python3.6/site-packages (from mnist) (1.19.5)\r\n"
     ]
    },
    {
     "name": "stdout",
     "output_type": "stream",
     "text": [
      "Installing collected packages: mnist\r\n",
      "Successfully installed mnist-0.2.2\r\n"
     ]
    }
   ],
   "source": [
    "!pip install mnist"
   ]
  },
  {
   "cell_type": "markdown",
   "id": "69df9c9a",
   "metadata": {
    "papermill": {
     "duration": 0.028092,
     "end_time": "2021-09-12T20:06:30.079150",
     "exception": false,
     "start_time": "2021-09-12T20:06:30.051058",
     "status": "completed"
    },
    "tags": []
   },
   "source": [
    "## Preparing the Data"
   ]
  },
  {
   "cell_type": "code",
   "execution_count": 4,
   "id": "7f69d806",
   "metadata": {
    "execution": {
     "iopub.execute_input": "2021-09-12T20:06:30.147236Z",
     "iopub.status.busy": "2021-09-12T20:06:30.141862Z",
     "iopub.status.idle": "2021-09-12T20:06:30.157381Z",
     "shell.execute_reply": "2021-09-12T20:06:30.156900Z"
    },
    "papermill": {
     "duration": 0.050374,
     "end_time": "2021-09-12T20:06:30.157512",
     "exception": false,
     "start_time": "2021-09-12T20:06:30.107138",
     "status": "completed"
    },
    "tags": []
   },
   "outputs": [],
   "source": [
    "import mnist"
   ]
  },
  {
   "cell_type": "code",
   "execution_count": 5,
   "id": "a411e44f",
   "metadata": {
    "execution": {
     "iopub.execute_input": "2021-09-12T20:06:30.218477Z",
     "iopub.status.busy": "2021-09-12T20:06:30.217876Z",
     "iopub.status.idle": "2021-09-12T20:06:30.869319Z",
     "shell.execute_reply": "2021-09-12T20:06:30.868176Z"
    },
    "papermill": {
     "duration": 0.68369,
     "end_time": "2021-09-12T20:06:30.869462",
     "exception": false,
     "start_time": "2021-09-12T20:06:30.185772",
     "status": "completed"
    },
    "tags": []
   },
   "outputs": [],
   "source": [
    "train_images = mnist.train_images()\n",
    "train_labels = mnist.train_labels()"
   ]
  },
  {
   "cell_type": "code",
   "execution_count": 6,
   "id": "dceab3a5",
   "metadata": {
    "execution": {
     "iopub.execute_input": "2021-09-12T20:06:30.932009Z",
     "iopub.status.busy": "2021-09-12T20:06:30.929375Z",
     "iopub.status.idle": "2021-09-12T20:06:30.945430Z",
     "shell.execute_reply": "2021-09-12T20:06:30.944869Z"
    },
    "papermill": {
     "duration": 0.047924,
     "end_time": "2021-09-12T20:06:30.945577",
     "exception": false,
     "start_time": "2021-09-12T20:06:30.897653",
     "status": "completed"
    },
    "tags": []
   },
   "outputs": [
    {
     "data": {
      "text/plain": [
       "((60000, 28, 28), (60000,))"
      ]
     },
     "execution_count": 6,
     "metadata": {},
     "output_type": "execute_result"
    }
   ],
   "source": [
    "train_images.shape, train_labels.shape"
   ]
  },
  {
   "cell_type": "code",
   "execution_count": 7,
   "id": "f50dc2bb",
   "metadata": {
    "execution": {
     "iopub.execute_input": "2021-09-12T20:06:31.006878Z",
     "iopub.status.busy": "2021-09-12T20:06:31.006291Z",
     "iopub.status.idle": "2021-09-12T20:06:31.140629Z",
     "shell.execute_reply": "2021-09-12T20:06:31.139993Z"
    },
    "papermill": {
     "duration": 0.166179,
     "end_time": "2021-09-12T20:06:31.140780",
     "exception": false,
     "start_time": "2021-09-12T20:06:30.974601",
     "status": "completed"
    },
    "tags": []
   },
   "outputs": [],
   "source": [
    "test_images = mnist.test_images()\n",
    "test_labels = mnist.test_labels()"
   ]
  },
  {
   "cell_type": "code",
   "execution_count": 8,
   "id": "fc38cf1b",
   "metadata": {
    "execution": {
     "iopub.execute_input": "2021-09-12T20:06:31.202964Z",
     "iopub.status.busy": "2021-09-12T20:06:31.202351Z",
     "iopub.status.idle": "2021-09-12T20:06:31.215610Z",
     "shell.execute_reply": "2021-09-12T20:06:31.216092Z"
    },
    "papermill": {
     "duration": 0.046698,
     "end_time": "2021-09-12T20:06:31.216233",
     "exception": false,
     "start_time": "2021-09-12T20:06:31.169535",
     "status": "completed"
    },
    "tags": []
   },
   "outputs": [
    {
     "data": {
      "text/plain": [
       "((10000, 28, 28), (10000,))"
      ]
     },
     "execution_count": 8,
     "metadata": {},
     "output_type": "execute_result"
    }
   ],
   "source": [
    "test_images.shape, test_labels.shape"
   ]
  },
  {
   "cell_type": "code",
   "execution_count": 9,
   "id": "f9ed8fe0",
   "metadata": {
    "execution": {
     "iopub.execute_input": "2021-09-12T20:06:31.277637Z",
     "iopub.status.busy": "2021-09-12T20:06:31.277055Z",
     "iopub.status.idle": "2021-09-12T20:06:31.433676Z",
     "shell.execute_reply": "2021-09-12T20:06:31.433148Z"
    },
    "papermill": {
     "duration": 0.189172,
     "end_time": "2021-09-12T20:06:31.433808",
     "exception": false,
     "start_time": "2021-09-12T20:06:31.244636",
     "status": "completed"
    },
    "tags": []
   },
   "outputs": [
    {
     "name": "stdout",
     "output_type": "stream",
     "text": [
      "2\n"
     ]
    },
    {
     "data": {
      "text/plain": [
       "<matplotlib.image.AxesImage at 0x7f3a2fa7feb8>"
      ]
     },
     "execution_count": 9,
     "metadata": {},
     "output_type": "execute_result"
    },
    {
     "data": {
      "image/png": "[encoded data removed]",
      "text/plain": [
       "<Figure size 432x288 with 1 Axes>"
      ]
     },
     "metadata": {
      "needs_background": "light"
     },
     "output_type": "display_data"
    }
   ],
   "source": [
    "image_index = 7776 # You may select anything up to 60,000\n",
    "print(train_labels[image_index]) \n",
    "plt.imshow(train_images[image_index], cmap='Greys')"
   ]
  },
  {
   "cell_type": "markdown",
   "id": "a8d2388d",
   "metadata": {
    "papermill": {
     "duration": 0.029581,
     "end_time": "2021-09-12T20:06:31.493197",
     "exception": false,
     "start_time": "2021-09-12T20:06:31.463616",
     "status": "completed"
    },
    "tags": []
   },
   "source": [
    "## Filter data to get 3 and 8 out"
   ]
  },
  {
   "cell_type": "code",
   "execution_count": 10,
   "id": "776f7fc7",
   "metadata": {
    "execution": {
     "iopub.execute_input": "2021-09-12T20:06:31.559831Z",
     "iopub.status.busy": "2021-09-12T20:06:31.558246Z",
     "iopub.status.idle": "2021-09-12T20:06:31.579109Z",
     "shell.execute_reply": "2021-09-12T20:06:31.578582Z"
    },
    "papermill": {
     "duration": 0.056231,
     "end_time": "2021-09-12T20:06:31.579245",
     "exception": false,
     "start_time": "2021-09-12T20:06:31.523014",
     "status": "completed"
    },
    "tags": []
   },
   "outputs": [],
   "source": [
    "train_filter = np.where((train_labels == 3 ) | (train_labels == 8))\n",
    "test_filter = np.where((test_labels == 3) | (test_labels == 8))\n",
    "X_train, y_train = train_images[train_filter], train_labels[train_filter]\n",
    "X_test, y_test = test_images[test_filter], test_labels[test_filter]"
   ]
  },
  {
   "cell_type": "markdown",
   "id": "948f0b7e",
   "metadata": {
    "papermill": {
     "duration": 0.029789,
     "end_time": "2021-09-12T20:06:31.638926",
     "exception": false,
     "start_time": "2021-09-12T20:06:31.609137",
     "status": "completed"
    },
    "tags": []
   },
   "source": [
    "We normalize the pizel values in the 0 to 1 range"
   ]
  },
  {
   "cell_type": "code",
   "execution_count": 11,
   "id": "ee4c2166",
   "metadata": {
    "execution": {
     "iopub.execute_input": "2021-09-12T20:06:31.703850Z",
     "iopub.status.busy": "2021-09-12T20:06:31.703235Z",
     "iopub.status.idle": "2021-09-12T20:06:31.753952Z",
     "shell.execute_reply": "2021-09-12T20:06:31.753448Z"
    },
    "papermill": {
     "duration": 0.085443,
     "end_time": "2021-09-12T20:06:31.754089",
     "exception": false,
     "start_time": "2021-09-12T20:06:31.668646",
     "status": "completed"
    },
    "tags": []
   },
   "outputs": [],
   "source": [
    "X_train = X_train/255.\n",
    "X_test = X_test/255."
   ]
  },
  {
   "cell_type": "markdown",
   "id": "ddcf4fab",
   "metadata": {
    "papermill": {
     "duration": 0.029632,
     "end_time": "2021-09-12T20:06:31.813655",
     "exception": false,
     "start_time": "2021-09-12T20:06:31.784023",
     "status": "completed"
    },
    "tags": []
   },
   "source": [
    "And setup the labels as 1 (when the digit is 3) and 0 (when the digit is 8)"
   ]
  },
  {
   "cell_type": "code",
   "execution_count": 12,
   "id": "7dc908f2",
   "metadata": {
    "execution": {
     "iopub.execute_input": "2021-09-12T20:06:31.877049Z",
     "iopub.status.busy": "2021-09-12T20:06:31.876448Z",
     "iopub.status.idle": "2021-09-12T20:06:31.889655Z",
     "shell.execute_reply": "2021-09-12T20:06:31.890165Z"
    },
    "papermill": {
     "duration": 0.046946,
     "end_time": "2021-09-12T20:06:31.890310",
     "exception": false,
     "start_time": "2021-09-12T20:06:31.843364",
     "status": "completed"
    },
    "tags": []
   },
   "outputs": [],
   "source": [
    "y_train = 1*(y_train==3)\n",
    "y_test = 1*(y_test==3)"
   ]
  },
  {
   "cell_type": "code",
   "execution_count": 13,
   "id": "01e4e969",
   "metadata": {
    "execution": {
     "iopub.execute_input": "2021-09-12T20:06:31.954149Z",
     "iopub.status.busy": "2021-09-12T20:06:31.953554Z",
     "iopub.status.idle": "2021-09-12T20:06:31.967502Z",
     "shell.execute_reply": "2021-09-12T20:06:31.967947Z"
    },
    "papermill": {
     "duration": 0.047971,
     "end_time": "2021-09-12T20:06:31.968093",
     "exception": false,
     "start_time": "2021-09-12T20:06:31.920122",
     "status": "completed"
    },
    "tags": []
   },
   "outputs": [
    {
     "data": {
      "text/plain": [
       "((11982, 28, 28), (1984, 28, 28))"
      ]
     },
     "execution_count": 13,
     "metadata": {},
     "output_type": "execute_result"
    }
   ],
   "source": [
    "X_train.shape, X_test.shape"
   ]
  },
  {
   "cell_type": "markdown",
   "id": "5ccf3f85",
   "metadata": {
    "papermill": {
     "duration": 0.029744,
     "end_time": "2021-09-12T20:06:32.027527",
     "exception": false,
     "start_time": "2021-09-12T20:06:31.997783",
     "status": "completed"
    },
    "tags": []
   },
   "source": [
    "We reshape the data to flatten the image pixels into a set of features or co-variates:"
   ]
  },
  {
   "cell_type": "code",
   "execution_count": 14,
   "id": "5286a4a3",
   "metadata": {
    "execution": {
     "iopub.execute_input": "2021-09-12T20:06:32.091422Z",
     "iopub.status.busy": "2021-09-12T20:06:32.090777Z",
     "iopub.status.idle": "2021-09-12T20:06:32.105467Z",
     "shell.execute_reply": "2021-09-12T20:06:32.104918Z"
    },
    "papermill": {
     "duration": 0.048179,
     "end_time": "2021-09-12T20:06:32.105601",
     "exception": false,
     "start_time": "2021-09-12T20:06:32.057422",
     "status": "completed"
    },
    "tags": []
   },
   "outputs": [
    {
     "data": {
      "text/plain": [
       "((11982, 784), (1984, 784))"
      ]
     },
     "execution_count": 14,
     "metadata": {},
     "output_type": "execute_result"
    }
   ],
   "source": [
    "X_train = X_train.reshape(X_train.shape[0], -1)\n",
    "X_test = X_test.reshape(X_test.shape[0], -1)\n",
    "X_train.shape, X_test.shape"
   ]
  },
  {
   "cell_type": "code",
   "execution_count": 15,
   "id": "73c5f88a",
   "metadata": {
    "execution": {
     "iopub.execute_input": "2021-09-12T20:06:32.170619Z",
     "iopub.status.busy": "2021-09-12T20:06:32.170021Z",
     "iopub.status.idle": "2021-09-12T20:06:32.189924Z",
     "shell.execute_reply": "2021-09-12T20:06:32.189417Z"
    },
    "papermill": {
     "duration": 0.054392,
     "end_time": "2021-09-12T20:06:32.190047",
     "exception": false,
     "start_time": "2021-09-12T20:06:32.135655",
     "status": "completed"
    },
    "tags": []
   },
   "outputs": [],
   "source": [
    "#Impoting functions from 'Kudzu'\n",
    "from kudzu.model import Model\n",
    "from kudzu.train import Learner\n",
    "from kudzu.optim import GD\n",
    "from kudzu.data import Data, Sampler,Dataloader\n",
    "\n",
    "from kudzu.callbacks import AccCallback\n",
    "from kudzu.callbacks import ClfCallback\n",
    "\n",
    "from kudzu.loss import MSE\n",
    "\n",
    "from kudzu.layer import Sigmoid,Relu\n",
    "from kudzu.layer import Affine"
   ]
  },
  {
   "cell_type": "markdown",
   "id": "bc01172a",
   "metadata": {
    "papermill": {
     "duration": 0.029962,
     "end_time": "2021-09-12T20:06:32.250246",
     "exception": false,
     "start_time": "2021-09-12T20:06:32.220284",
     "status": "completed"
    },
    "tags": []
   },
   "source": [
    "### Let us create a `Config` class, to store important parameters. \n",
    "This class essentially plays the role of a dictionary."
   ]
  },
  {
   "cell_type": "code",
   "execution_count": 16,
   "id": "978281aa",
   "metadata": {
    "execution": {
     "iopub.execute_input": "2021-09-12T20:06:32.315098Z",
     "iopub.status.busy": "2021-09-12T20:06:32.314472Z",
     "iopub.status.idle": "2021-09-12T20:06:32.327159Z",
     "shell.execute_reply": "2021-09-12T20:06:32.326649Z"
    },
    "papermill": {
     "duration": 0.046791,
     "end_time": "2021-09-12T20:06:32.327288",
     "exception": false,
     "start_time": "2021-09-12T20:06:32.280497",
     "status": "completed"
    },
    "tags": []
   },
   "outputs": [],
   "source": [
    "class Config:\n",
    "    pass\n",
    "config = Config()\n",
    "config.lr = 0.001\n",
    "config.num_epochs = 250\n",
    "config.bs = 50"
   ]
  },
  {
   "cell_type": "markdown",
   "id": "1385fa59",
   "metadata": {
    "papermill": {
     "duration": 0.030134,
     "end_time": "2021-09-12T20:06:32.387574",
     "exception": false,
     "start_time": "2021-09-12T20:06:32.357440",
     "status": "completed"
    },
    "tags": []
   },
   "source": [
    "### Running Models with the Training data\n",
    "Details about the network layers:\n",
    "- A first affine layer has 784 inputs and does 100 affine transforms. These are followed by a Relu\n",
    "- A second affine layer has 100 inputs from the 100 activations of the past layer, and does 100 affine transforms. These are followed by a Relu\n",
    "- A third affine layer has 100 activations and does 2 affine transformations to create an embedding for visualization. There is no non-linearity here.\n",
    "- A final \"logistic regression\" which has an affine transform from 2 inputs to 1 output, which is squeezed through a sigmoid.\n"
   ]
  },
  {
   "cell_type": "code",
   "execution_count": 17,
   "id": "2b9c66db",
   "metadata": {
    "execution": {
     "iopub.execute_input": "2021-09-12T20:06:32.453015Z",
     "iopub.status.busy": "2021-09-12T20:06:32.452414Z",
     "iopub.status.idle": "2021-09-12T20:06:32.465617Z",
     "shell.execute_reply": "2021-09-12T20:06:32.465143Z"
    },
    "papermill": {
     "duration": 0.047835,
     "end_time": "2021-09-12T20:06:32.465744",
     "exception": false,
     "start_time": "2021-09-12T20:06:32.417909",
     "status": "completed"
    },
    "tags": []
   },
   "outputs": [],
   "source": [
    "data = Data(X_train, y_train.reshape(-1,1))\n",
    "sampler = Sampler(data, config.bs, shuffle=True)\n",
    "\n",
    "dl = Dataloader(data, sampler)\n",
    "\n",
    "opt = GD(config.lr)\n",
    "loss = MSE()"
   ]
  },
  {
   "cell_type": "code",
   "execution_count": 18,
   "id": "b275e4c2",
   "metadata": {
    "execution": {
     "iopub.execute_input": "2021-09-12T20:06:32.530778Z",
     "iopub.status.busy": "2021-09-12T20:06:32.530172Z",
     "iopub.status.idle": "2021-09-12T20:06:32.543519Z",
     "shell.execute_reply": "2021-09-12T20:06:32.543034Z"
    },
    "papermill": {
     "duration": 0.047599,
     "end_time": "2021-09-12T20:06:32.543647",
     "exception": false,
     "start_time": "2021-09-12T20:06:32.496048",
     "status": "completed"
    },
    "tags": []
   },
   "outputs": [],
   "source": [
    "training_data_x = X_train\n",
    "testing_data_x = X_test\n",
    "training_data_y = y_train.reshape(-1,1)\n",
    "testing_data_y = y_test.reshape(-1,1)"
   ]
  },
  {
   "cell_type": "code",
   "execution_count": 19,
   "id": "76951160",
   "metadata": {
    "execution": {
     "iopub.execute_input": "2021-09-12T20:06:32.608934Z",
     "iopub.status.busy": "2021-09-12T20:06:32.607877Z",
     "iopub.status.idle": "2021-09-12T20:06:32.627225Z",
     "shell.execute_reply": "2021-09-12T20:06:32.626681Z"
    },
    "papermill": {
     "duration": 0.053635,
     "end_time": "2021-09-12T20:06:32.627361",
     "exception": false,
     "start_time": "2021-09-12T20:06:32.573726",
     "status": "completed"
    },
    "tags": []
   },
   "outputs": [
    {
     "name": "stdout",
     "output_type": "stream",
     "text": [
      "xavier\n",
      "xavier\n",
      "xavier\n",
      "xavier\n",
      "xavier\n"
     ]
    }
   ],
   "source": [
    "layers = [Affine(\"first\", 784, 100), Relu(\"first\"), Affine(\"second\", 100, 100), Relu(\"second\"), Affine(\"third\", 100, 2), Affine(\"last\", 2, 1), Sigmoid(\"last\")]\n",
    "model_nn = Model(layers)\n",
    "model_lr = Model([Affine(\"logits\", 784, 1), Sigmoid(\"sigmoid\")])"
   ]
  },
  {
   "cell_type": "code",
   "execution_count": 20,
   "id": "6eede77a",
   "metadata": {
    "execution": {
     "iopub.execute_input": "2021-09-12T20:06:32.693815Z",
     "iopub.status.busy": "2021-09-12T20:06:32.693217Z",
     "iopub.status.idle": "2021-09-12T20:06:32.706522Z",
     "shell.execute_reply": "2021-09-12T20:06:32.707062Z"
    },
    "papermill": {
     "duration": 0.048955,
     "end_time": "2021-09-12T20:06:32.707211",
     "exception": false,
     "start_time": "2021-09-12T20:06:32.658256",
     "status": "completed"
    },
    "tags": []
   },
   "outputs": [],
   "source": [
    "nn_learner = Learner(loss, model_nn, opt, config.num_epochs)\n",
    "acc_nn = ClfCallback(nn_learner, config.bs, training_data_x , testing_data_x, training_data_y, testing_data_y)\n",
    "nn_learner.set_callbacks([acc_nn])"
   ]
  },
  {
   "cell_type": "code",
   "execution_count": 21,
   "id": "877b6cc7",
   "metadata": {
    "execution": {
     "iopub.execute_input": "2021-09-12T20:06:32.773744Z",
     "iopub.status.busy": "2021-09-12T20:06:32.773135Z",
     "iopub.status.idle": "2021-09-12T20:06:32.786466Z",
     "shell.execute_reply": "2021-09-12T20:06:32.786983Z"
    },
    "papermill": {
     "duration": 0.049248,
     "end_time": "2021-09-12T20:06:32.787137",
     "exception": false,
     "start_time": "2021-09-12T20:06:32.737889",
     "status": "completed"
    },
    "tags": []
   },
   "outputs": [],
   "source": [
    "lr_learner = Learner(loss, model_lr, opt, config.num_epochs)\n",
    "acc_lr = ClfCallback(lr_learner, config.bs, training_data_x , testing_data_x, training_data_y, testing_data_y)\n",
    "lr_learner.set_callbacks([acc_lr])"
   ]
  },
  {
   "cell_type": "code",
   "execution_count": 22,
   "id": "d9b133c3",
   "metadata": {
    "execution": {
     "iopub.execute_input": "2021-09-12T20:06:32.852600Z",
     "iopub.status.busy": "2021-09-12T20:06:32.852004Z",
     "iopub.status.idle": "2021-09-12T20:08:00.876169Z",
     "shell.execute_reply": "2021-09-12T20:08:00.877034Z"
    },
    "papermill": {
     "duration": 88.059364,
     "end_time": "2021-09-12T20:08:00.877200",
     "exception": false,
     "start_time": "2021-09-12T20:06:32.817836",
     "status": "completed"
    },
    "tags": []
   },
   "outputs": [
    {
     "name": "stdout",
     "output_type": "stream",
     "text": [
      "Epoch 0, Loss 0.2424\n",
      "Training Accuracy: 0.6632, Testing Accuracy: 0.6678\n",
      "\n"
     ]
    },
    {
     "name": "stdout",
     "output_type": "stream",
     "text": [
      "Epoch 10, Loss 0.1022\n",
      "Training Accuracy: 0.9175, Testing Accuracy: 0.9269\n",
      "\n"
     ]
    },
    {
     "name": "stdout",
     "output_type": "stream",
     "text": [
      "Epoch 20, Loss 0.0589\n",
      "Training Accuracy: 0.9433, Testing Accuracy: 0.9546\n",
      "\n"
     ]
    },
    {
     "name": "stdout",
     "output_type": "stream",
     "text": [
      "Epoch 30, Loss 0.0451\n",
      "Training Accuracy: 0.9522, Testing Accuracy: 0.9597\n",
      "\n"
     ]
    },
    {
     "name": "stdout",
     "output_type": "stream",
     "text": [
      "Epoch 40, Loss 0.0386\n",
      "Training Accuracy: 0.9593, Testing Accuracy: 0.9647\n",
      "\n"
     ]
    },
    {
     "name": "stdout",
     "output_type": "stream",
     "text": [
      "Epoch 50, Loss 0.0348\n",
      "Training Accuracy: 0.9627, Testing Accuracy: 0.9657\n",
      "\n"
     ]
    },
    {
     "name": "stdout",
     "output_type": "stream",
     "text": [
      "Epoch 60, Loss 0.0323\n",
      "Training Accuracy: 0.9650, Testing Accuracy: 0.9682\n",
      "\n"
     ]
    },
    {
     "name": "stdout",
     "output_type": "stream",
     "text": [
      "Epoch 70, Loss 0.0304\n",
      "Training Accuracy: 0.9665, Testing Accuracy: 0.9693\n",
      "\n"
     ]
    },
    {
     "name": "stdout",
     "output_type": "stream",
     "text": [
      "Epoch 80, Loss 0.0289\n",
      "Training Accuracy: 0.9680, Testing Accuracy: 0.9693\n",
      "\n"
     ]
    },
    {
     "name": "stdout",
     "output_type": "stream",
     "text": [
      "Epoch 90, Loss 0.0277\n",
      "Training Accuracy: 0.9692, Testing Accuracy: 0.9708\n",
      "\n"
     ]
    },
    {
     "name": "stdout",
     "output_type": "stream",
     "text": [
      "Epoch 100, Loss 0.0267\n",
      "Training Accuracy: 0.9701, Testing Accuracy: 0.9713\n",
      "\n"
     ]
    },
    {
     "name": "stdout",
     "output_type": "stream",
     "text": [
      "Epoch 110, Loss 0.0258\n",
      "Training Accuracy: 0.9713, Testing Accuracy: 0.9713\n",
      "\n"
     ]
    },
    {
     "name": "stdout",
     "output_type": "stream",
     "text": [
      "Epoch 120, Loss 0.0251\n",
      "Training Accuracy: 0.9717, Testing Accuracy: 0.9713\n",
      "\n"
     ]
    },
    {
     "name": "stdout",
     "output_type": "stream",
     "text": [
      "Epoch 130, Loss 0.0244\n",
      "Training Accuracy: 0.9725, Testing Accuracy: 0.9733\n",
      "\n"
     ]
    },
    {
     "name": "stdout",
     "output_type": "stream",
     "text": [
      "Epoch 140, Loss 0.0237\n",
      "Training Accuracy: 0.9728, Testing Accuracy: 0.9733\n",
      "\n"
     ]
    },
    {
     "name": "stdout",
     "output_type": "stream",
     "text": [
      "Epoch 150, Loss 0.0231\n",
      "Training Accuracy: 0.9730, Testing Accuracy: 0.9738\n",
      "\n"
     ]
    },
    {
     "name": "stdout",
     "output_type": "stream",
     "text": [
      "Epoch 160, Loss 0.0225\n",
      "Training Accuracy: 0.9735, Testing Accuracy: 0.9743\n",
      "\n"
     ]
    },
    {
     "name": "stdout",
     "output_type": "stream",
     "text": [
      "Epoch 170, Loss 0.022\n",
      "Training Accuracy: 0.9744, Testing Accuracy: 0.9743\n",
      "\n"
     ]
    },
    {
     "name": "stdout",
     "output_type": "stream",
     "text": [
      "Epoch 180, Loss 0.0215\n",
      "Training Accuracy: 0.9747, Testing Accuracy: 0.9748\n",
      "\n"
     ]
    },
    {
     "name": "stdout",
     "output_type": "stream",
     "text": [
      "Epoch 190, Loss 0.021\n",
      "Training Accuracy: 0.9753, Testing Accuracy: 0.9743\n",
      "\n"
     ]
    },
    {
     "name": "stdout",
     "output_type": "stream",
     "text": [
      "Epoch 200, Loss 0.0206\n",
      "Training Accuracy: 0.9760, Testing Accuracy: 0.9748\n",
      "\n"
     ]
    },
    {
     "name": "stdout",
     "output_type": "stream",
     "text": [
      "Epoch 210, Loss 0.0202\n",
      "Training Accuracy: 0.9762, Testing Accuracy: 0.9738\n",
      "\n"
     ]
    },
    {
     "name": "stdout",
     "output_type": "stream",
     "text": [
      "Epoch 220, Loss 0.0197\n",
      "Training Accuracy: 0.9768, Testing Accuracy: 0.9743\n",
      "\n"
     ]
    },
    {
     "name": "stdout",
     "output_type": "stream",
     "text": [
      "Epoch 230, Loss 0.0193\n",
      "Training Accuracy: 0.9776, Testing Accuracy: 0.9743\n",
      "\n"
     ]
    },
    {
     "name": "stdout",
     "output_type": "stream",
     "text": [
      "Epoch 240, Loss 0.0189\n",
      "Training Accuracy: 0.9783, Testing Accuracy: 0.9748\n",
      "\n"
     ]
    },
    {
     "data": {
      "text/plain": [
       "0.007713390297294214"
      ]
     },
     "execution_count": 22,
     "metadata": {},
     "output_type": "execute_result"
    }
   ],
   "source": [
    "nn_learner.train_loop(dl)"
   ]
  },
  {
   "cell_type": "code",
   "execution_count": 23,
   "id": "e0163366",
   "metadata": {
    "execution": {
     "iopub.execute_input": "2021-09-12T20:08:00.964448Z",
     "iopub.status.busy": "2021-09-12T20:08:00.963845Z",
     "iopub.status.idle": "2021-09-12T20:08:17.811576Z",
     "shell.execute_reply": "2021-09-12T20:08:17.812390Z"
    },
    "papermill": {
     "duration": 16.896448,
     "end_time": "2021-09-12T20:08:17.812551",
     "exception": false,
     "start_time": "2021-09-12T20:08:00.916103",
     "status": "completed"
    },
    "tags": []
   },
   "outputs": [
    {
     "name": "stdout",
     "output_type": "stream",
     "text": [
      "Epoch 0, Loss 0.2177\n",
      "Training Accuracy: 0.7535, Testing Accuracy: 0.7747\n",
      "\n"
     ]
    },
    {
     "name": "stdout",
     "output_type": "stream",
     "text": [
      "Epoch 10, Loss 0.0965\n",
      "Training Accuracy: 0.9205, Testing Accuracy: 0.9315\n",
      "\n"
     ]
    },
    {
     "name": "stdout",
     "output_type": "stream",
     "text": [
      "Epoch 20, Loss 0.0756\n",
      "Training Accuracy: 0.9319, Testing Accuracy: 0.9435\n",
      "\n"
     ]
    },
    {
     "name": "stdout",
     "output_type": "stream",
     "text": [
      "Epoch 30, Loss 0.0658\n",
      "Training Accuracy: 0.9377, Testing Accuracy: 0.9536\n",
      "\n"
     ]
    },
    {
     "name": "stdout",
     "output_type": "stream",
     "text": [
      "Epoch 40, Loss 0.0598\n",
      "Training Accuracy: 0.9417, Testing Accuracy: 0.9567\n",
      "\n"
     ]
    },
    {
     "name": "stdout",
     "output_type": "stream",
     "text": [
      "Epoch 50, Loss 0.0557\n",
      "Training Accuracy: 0.9458, Testing Accuracy: 0.9587\n",
      "\n"
     ]
    },
    {
     "name": "stdout",
     "output_type": "stream",
     "text": [
      "Epoch 60, Loss 0.0526\n",
      "Training Accuracy: 0.9493, Testing Accuracy: 0.9592\n",
      "\n"
     ]
    },
    {
     "name": "stdout",
     "output_type": "stream",
     "text": [
      "Epoch 70, Loss 0.0502\n",
      "Training Accuracy: 0.9505, Testing Accuracy: 0.9582\n",
      "\n"
     ]
    },
    {
     "name": "stdout",
     "output_type": "stream",
     "text": [
      "Epoch 80, Loss 0.0483\n",
      "Training Accuracy: 0.9521, Testing Accuracy: 0.9592\n",
      "\n"
     ]
    },
    {
     "name": "stdout",
     "output_type": "stream",
     "text": [
      "Epoch 90, Loss 0.0467\n",
      "Training Accuracy: 0.9538, Testing Accuracy: 0.9602\n",
      "\n"
     ]
    },
    {
     "name": "stdout",
     "output_type": "stream",
     "text": [
      "Epoch 100, Loss 0.0453\n",
      "Training Accuracy: 0.9550, Testing Accuracy: 0.9607\n",
      "\n"
     ]
    },
    {
     "name": "stdout",
     "output_type": "stream",
     "text": [
      "Epoch 110, Loss 0.0442\n",
      "Training Accuracy: 0.9557, Testing Accuracy: 0.9622\n",
      "\n"
     ]
    },
    {
     "name": "stdout",
     "output_type": "stream",
     "text": [
      "Epoch 120, Loss 0.0431\n",
      "Training Accuracy: 0.9563, Testing Accuracy: 0.9647\n",
      "\n"
     ]
    },
    {
     "name": "stdout",
     "output_type": "stream",
     "text": [
      "Epoch 130, Loss 0.0422\n",
      "Training Accuracy: 0.9568, Testing Accuracy: 0.9652\n",
      "\n"
     ]
    },
    {
     "name": "stdout",
     "output_type": "stream",
     "text": [
      "Epoch 140, Loss 0.0414\n",
      "Training Accuracy: 0.9574, Testing Accuracy: 0.9672\n",
      "\n"
     ]
    },
    {
     "name": "stdout",
     "output_type": "stream",
     "text": [
      "Epoch 150, Loss 0.0407\n",
      "Training Accuracy: 0.9579, Testing Accuracy: 0.9672\n",
      "\n"
     ]
    },
    {
     "name": "stdout",
     "output_type": "stream",
     "text": [
      "Epoch 160, Loss 0.0401\n",
      "Training Accuracy: 0.9584, Testing Accuracy: 0.9672\n",
      "\n"
     ]
    },
    {
     "name": "stdout",
     "output_type": "stream",
     "text": [
      "Epoch 170, Loss 0.0395\n",
      "Training Accuracy: 0.9589, Testing Accuracy: 0.9677\n",
      "\n"
     ]
    },
    {
     "name": "stdout",
     "output_type": "stream",
     "text": [
      "Epoch 180, Loss 0.039\n",
      "Training Accuracy: 0.9595, Testing Accuracy: 0.9672\n",
      "\n"
     ]
    },
    {
     "name": "stdout",
     "output_type": "stream",
     "text": [
      "Epoch 190, Loss 0.0385\n",
      "Training Accuracy: 0.9600, Testing Accuracy: 0.9672\n",
      "\n"
     ]
    },
    {
     "name": "stdout",
     "output_type": "stream",
     "text": [
      "Epoch 200, Loss 0.038\n",
      "Training Accuracy: 0.9603, Testing Accuracy: 0.9677\n",
      "\n"
     ]
    },
    {
     "name": "stdout",
     "output_type": "stream",
     "text": [
      "Epoch 210, Loss 0.0376\n",
      "Training Accuracy: 0.9603, Testing Accuracy: 0.9677\n",
      "\n"
     ]
    },
    {
     "name": "stdout",
     "output_type": "stream",
     "text": [
      "Epoch 220, Loss 0.0372\n",
      "Training Accuracy: 0.9606, Testing Accuracy: 0.9677\n",
      "\n"
     ]
    },
    {
     "name": "stdout",
     "output_type": "stream",
     "text": [
      "Epoch 230, Loss 0.0368\n",
      "Training Accuracy: 0.9610, Testing Accuracy: 0.9677\n",
      "\n"
     ]
    },
    {
     "name": "stdout",
     "output_type": "stream",
     "text": [
      "Epoch 240, Loss 0.0364\n",
      "Training Accuracy: 0.9614, Testing Accuracy: 0.9677\n",
      "\n"
     ]
    },
    {
     "data": {
      "text/plain": [
       "0.06331056263648203"
      ]
     },
     "execution_count": 23,
     "metadata": {},
     "output_type": "execute_result"
    }
   ],
   "source": [
    "lr_learner.train_loop(dl)"
   ]
  },
  {
   "cell_type": "code",
   "execution_count": 24,
   "id": "ca410940",
   "metadata": {
    "execution": {
     "iopub.execute_input": "2021-09-12T20:08:17.916332Z",
     "iopub.status.busy": "2021-09-12T20:08:17.915720Z",
     "iopub.status.idle": "2021-09-12T20:08:18.179476Z",
     "shell.execute_reply": "2021-09-12T20:08:18.178946Z"
    },
    "papermill": {
     "duration": 0.320683,
     "end_time": "2021-09-12T20:08:18.179604",
     "exception": false,
     "start_time": "2021-09-12T20:08:17.858921",
     "status": "completed"
    },
    "tags": []
   },
   "outputs": [
    {
     "data": {
      "text/plain": [
       "<matplotlib.legend.Legend at 0x7f3a2f65ef60>"
      ]
     },
     "execution_count": 24,
     "metadata": {},
     "output_type": "execute_result"
    },
    {
     "data": {
      "image/png": "[encoded data removed]",
      "text/plain": [
       "<Figure size 1080x720 with 1 Axes>"
      ]
     },
     "metadata": {
      "needs_background": "light"
     },
     "output_type": "display_data"
    }
   ],
   "source": [
    "#comparing the results of NN and LR\n",
    "plt.figure(figsize=(15,10))\n",
    "\n",
    "# Neural Network plots\n",
    "plt.plot(acc_nn.accuracies, 'r-', label = \"Training Accuracies - NN\")\n",
    "plt.plot(acc_nn.test_accuracies, 'g-', label = \"Testing Accuracies - NN\")\n",
    "\n",
    "# Logistic Regression plots\n",
    "plt.plot(acc_lr.accuracies, 'k-', label = \"Training Accuracies - LR\")\n",
    "plt.plot(acc_lr.test_accuracies, 'b-', label = \"Testing Accuracies - LR\")\n",
    "plt.legend()"
   ]
  },
  {
   "cell_type": "markdown",
   "id": "80dfb35c",
   "metadata": {
    "papermill": {
     "duration": 0.047845,
     "end_time": "2021-09-12T20:08:18.277384",
     "exception": false,
     "start_time": "2021-09-12T20:08:18.229539",
     "status": "completed"
    },
    "tags": []
   },
   "source": [
    "#### Plotting the outputs of this layer of the NN.\n"
   ]
  },
  {
   "cell_type": "code",
   "execution_count": 25,
   "id": "45eb2ff5",
   "metadata": {
    "execution": {
     "iopub.execute_input": "2021-09-12T20:08:18.379099Z",
     "iopub.status.busy": "2021-09-12T20:08:18.377451Z",
     "iopub.status.idle": "2021-09-12T20:08:18.399724Z",
     "shell.execute_reply": "2021-09-12T20:08:18.400218Z"
    },
    "papermill": {
     "duration": 0.075167,
     "end_time": "2021-09-12T20:08:18.400371",
     "exception": false,
     "start_time": "2021-09-12T20:08:18.325204",
     "status": "completed"
    },
    "tags": []
   },
   "outputs": [],
   "source": [
    "new_model = Model(layers[:-2])\n",
    "testing_plot = new_model(testing_data_x)"
   ]
  },
  {
   "cell_type": "code",
   "execution_count": 26,
   "id": "4c0a5485",
   "metadata": {
    "execution": {
     "iopub.execute_input": "2021-09-12T20:08:18.508635Z",
     "iopub.status.busy": "2021-09-12T20:08:18.508039Z",
     "iopub.status.idle": "2021-09-12T20:08:18.755151Z",
     "shell.execute_reply": "2021-09-12T20:08:18.755639Z"
    },
    "papermill": {
     "duration": 0.299582,
     "end_time": "2021-09-12T20:08:18.755791",
     "exception": false,
     "start_time": "2021-09-12T20:08:18.456209",
     "status": "completed"
    },
    "tags": []
   },
   "outputs": [
    {
     "data": {
      "text/plain": [
       "Text(0.5, 1.0, 'Outputs')"
      ]
     },
     "execution_count": 26,
     "metadata": {},
     "output_type": "execute_result"
    },
    {
     "data": {
      "image/png": "[encoded data removed]",
      "text/plain": [
       "<Figure size 576x504 with 1 Axes>"
      ]
     },
     "metadata": {
      "needs_background": "light"
     },
     "output_type": "display_data"
    }
   ],
   "source": [
    "# Plotting the scatter plot of points and color coding by class\n",
    "plt.figure(figsize=(8,7))\n",
    "plt.scatter(testing_plot[:,0], testing_plot[:,1], alpha = 0.1, c = y_test.ravel());\n",
    "plt.title('Outputs')"
   ]
  },
  {
   "cell_type": "markdown",
   "id": "a74fcf8f",
   "metadata": {
    "papermill": {
     "duration": 0.050593,
     "end_time": "2021-09-12T20:08:18.857337",
     "exception": false,
     "start_time": "2021-09-12T20:08:18.806744",
     "status": "completed"
    },
    "tags": []
   },
   "source": [
    "Probability contours"
   ]
  },
  {
   "cell_type": "code",
   "execution_count": 27,
   "id": "d0afc8e3",
   "metadata": {
    "execution": {
     "iopub.execute_input": "2021-09-12T20:08:18.962855Z",
     "iopub.status.busy": "2021-09-12T20:08:18.962258Z",
     "iopub.status.idle": "2021-09-12T20:08:18.975795Z",
     "shell.execute_reply": "2021-09-12T20:08:18.975312Z"
    },
    "papermill": {
     "duration": 0.06772,
     "end_time": "2021-09-12T20:08:18.975924",
     "exception": false,
     "start_time": "2021-09-12T20:08:18.908204",
     "status": "completed"
    },
    "tags": []
   },
   "outputs": [],
   "source": [
    "model_prob = Model(layers[-2:]) "
   ]
  },
  {
   "cell_type": "code",
   "execution_count": 28,
   "id": "9b96e238",
   "metadata": {
    "execution": {
     "iopub.execute_input": "2021-09-12T20:08:19.083222Z",
     "iopub.status.busy": "2021-09-12T20:08:19.082592Z",
     "iopub.status.idle": "2021-09-12T20:08:19.098283Z",
     "shell.execute_reply": "2021-09-12T20:08:19.098732Z"
    },
    "papermill": {
     "duration": 0.072077,
     "end_time": "2021-09-12T20:08:19.098905",
     "exception": false,
     "start_time": "2021-09-12T20:08:19.026828",
     "status": "completed"
    },
    "tags": []
   },
   "outputs": [],
   "source": [
    "#creating the x and y ranges according to the above generated plot.\n",
    "x_range = np.linspace(-4, 1, 100) \n",
    "y_range = np.linspace(-6, 6, 100) \n",
    "x_grid, y_grid = np.meshgrid(x_range, y_range) # x_grid and y_grig are of size 100 X 100\n",
    "\n",
    "# converting x_grid and y_grid to continuous arrays\n",
    "x_gridflat = np.ravel(x_grid)\n",
    "y_gridflat = np.ravel(y_grid)\n",
    "\n",
    "# The last layer of the current model takes two columns as input. Hence transpose of np.vstack() is required.\n",
    "X = np.vstack((x_gridflat, y_gridflat)).T\n",
    "\n",
    "prob_contour = model_prob(X).reshape(100,100) "
   ]
  },
  {
   "cell_type": "code",
   "execution_count": 29,
   "id": "da72499a",
   "metadata": {
    "execution": {
     "iopub.execute_input": "2021-09-12T20:08:19.216918Z",
     "iopub.status.busy": "2021-09-12T20:08:19.216316Z",
     "iopub.status.idle": "2021-09-12T20:08:19.496643Z",
     "shell.execute_reply": "2021-09-12T20:08:19.496126Z"
    },
    "papermill": {
     "duration": 0.340748,
     "end_time": "2021-09-12T20:08:19.496772",
     "exception": false,
     "start_time": "2021-09-12T20:08:19.156024",
     "status": "completed"
    },
    "tags": []
   },
   "outputs": [
    {
     "data": {
      "image/png": "[encoded data removed]",
      "text/plain": [
       "<Figure size 720x648 with 1 Axes>"
      ]
     },
     "metadata": {
      "needs_background": "light"
     },
     "output_type": "display_data"
    }
   ],
   "source": [
    "plt.figure(figsize=(10,9))\n",
    "plt.scatter(testing_plot[:,0], testing_plot[:,1], alpha = 0.1, c = y_test.ravel())\n",
    "contours = plt.contour(x_grid,y_grid,prob_contour)\n",
    "plt.title('Probability Contours')\n",
    "plt.clabel(contours, inline = True );"
   ]
  },
  {
   "cell_type": "code",
   "execution_count": null,
   "id": "e81b4ac7",
   "metadata": {
    "papermill": {
     "duration": 0.086129,
     "end_time": "2021-09-12T20:08:19.636791",
     "exception": false,
     "start_time": "2021-09-12T20:08:19.550662",
     "status": "completed"
    },
    "tags": []
   },
   "outputs": [],
   "source": []
  }
 ],
 "metadata": {
  "kernelspec": {
   "display_name": "Python 3",
   "language": "python",
   "name": "python3"
  },
  "language_info": {
   "codemirror_mode": {
    "name": "ipython",
    "version": 3
   },
   "file_extension": ".py",
   "mimetype": "text/x-python",
   "name": "python",
   "nbconvert_exporter": "python",
   "pygments_lexer": "ipython3",
   "version": "3.6.14"
  },
  "papermill": {
   "default_parameters": {},
   "duration": 114.165041,
   "end_time": "2021-09-12T20:08:20.099809",
   "environment_variables": {},
   "exception": null,
   "input_path": "2020-08-11-part2.ipynb",
   "output_path": "2020-08-11-part2.ipynb",
   "parameters": {},
   "start_time": "2021-09-12T20:06:25.934768",
   "version": "2.3.3"
  }
 },
 "nbformat": 4,
 "nbformat_minor": 5
}