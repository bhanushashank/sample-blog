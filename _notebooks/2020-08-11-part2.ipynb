{
 "cells": [
  {
   "cell_type": "markdown",
   "id": "98380cd3",
   "metadata": {
    "papermill": {
     "duration": 0.032103,
     "end_time": "2022-09-13T20:12:42.104838",
     "exception": false,
     "start_time": "2022-09-13T20:12:42.072735",
     "status": "completed"
    },
    "tags": []
   },
   "source": [
    "# Distinguish Your Own Digits (DYOD)"
   ]
  },
  {
   "cell_type": "markdown",
   "id": "ef31240d",
   "metadata": {
    "papermill": {
     "duration": 0.025064,
     "end_time": "2022-09-13T20:12:42.157400",
     "exception": false,
     "start_time": "2022-09-13T20:12:42.132336",
     "status": "completed"
    },
    "tags": []
   },
   "source": [
    "You are going to write a classifier that distinguishes between the number 3 and number 8."
   ]
  },
  {
   "cell_type": "code",
   "execution_count": 1,
   "id": "b15c8646",
   "metadata": {
    "execution": {
     "iopub.execute_input": "2022-09-13T20:12:42.215547Z",
     "iopub.status.busy": "2022-09-13T20:12:42.214963Z",
     "iopub.status.idle": "2022-09-13T20:12:42.227279Z",
     "shell.execute_reply": "2022-09-13T20:12:42.226329Z"
    },
    "papermill": {
     "duration": 0.045572,
     "end_time": "2022-09-13T20:12:42.227637",
     "exception": false,
     "start_time": "2022-09-13T20:12:42.182065",
     "status": "completed"
    },
    "tags": []
   },
   "outputs": [],
   "source": [
    "%load_ext autoreload\n",
    "%autoreload 2"
   ]
  },
  {
   "cell_type": "code",
   "execution_count": 2,
   "id": "22ef38dc",
   "metadata": {
    "execution": {
     "iopub.execute_input": "2022-09-13T20:12:42.301537Z",
     "iopub.status.busy": "2022-09-13T20:12:42.293275Z",
     "iopub.status.idle": "2022-09-13T20:12:42.871189Z",
     "shell.execute_reply": "2022-09-13T20:12:42.870680Z"
    },
    "papermill": {
     "duration": 0.616429,
     "end_time": "2022-09-13T20:12:42.871306",
     "exception": false,
     "start_time": "2022-09-13T20:12:42.254877",
     "status": "completed"
    },
    "tags": []
   },
   "outputs": [],
   "source": [
    "%matplotlib inline\n",
    "import numpy as np\n",
    "import matplotlib.pyplot as plt\n",
    "import pandas as pd"
   ]
  },
  {
   "cell_type": "markdown",
   "id": "ba036198",
   "metadata": {
    "papermill": {
     "duration": 0.025833,
     "end_time": "2022-09-13T20:12:42.924560",
     "exception": false,
     "start_time": "2022-09-13T20:12:42.898727",
     "status": "completed"
    },
    "tags": []
   },
   "source": [
    "From the command line run `pip install mnist`. This is a library that will help you bring down the mnist dataset. If you run this from a notebook, you need to put  `!pip install mnist` in a cell by itself."
   ]
  },
  {
   "cell_type": "code",
   "execution_count": 3,
   "id": "bb6ad8a1",
   "metadata": {
    "execution": {
     "iopub.execute_input": "2022-09-13T20:12:42.980772Z",
     "iopub.status.busy": "2022-09-13T20:12:42.980202Z",
     "iopub.status.idle": "2022-09-13T20:12:45.682552Z",
     "shell.execute_reply": "2022-09-13T20:12:45.683123Z"
    },
    "papermill": {
     "duration": 2.734132,
     "end_time": "2022-09-13T20:12:45.683281",
     "exception": false,
     "start_time": "2022-09-13T20:12:42.949149",
     "status": "completed"
    },
    "tags": []
   },
   "outputs": [
    {
     "name": "stdout",
     "output_type": "stream",
     "text": [
      "Collecting mnist\r\n"
     ]
    },
    {
     "name": "stdout",
     "output_type": "stream",
     "text": [
      "  Downloading mnist-0.2.2-py2.py3-none-any.whl (3.5 kB)\r\n",
      "Requirement already satisfied: numpy in /opt/hostedtoolcache/Python/3.6.15/x64/lib/python3.6/site-packages (from mnist) (1.19.5)\r\n"
     ]
    },
    {
     "name": "stdout",
     "output_type": "stream",
     "text": [
      "Installing collected packages: mnist\r\n"
     ]
    },
    {
     "name": "stdout",
     "output_type": "stream",
     "text": [
      "Successfully installed mnist-0.2.2\r\n"
     ]
    }
   ],
   "source": [
    "!pip install mnist"
   ]
  },
  {
   "cell_type": "markdown",
   "id": "69df9c9a",
   "metadata": {
    "papermill": {
     "duration": 0.031457,
     "end_time": "2022-09-13T20:12:45.745309",
     "exception": false,
     "start_time": "2022-09-13T20:12:45.713852",
     "status": "completed"
    },
    "tags": []
   },
   "source": [
    "## Preparing the Data"
   ]
  },
  {
   "cell_type": "code",
   "execution_count": 4,
   "id": "7f69d806",
   "metadata": {
    "execution": {
     "iopub.execute_input": "2022-09-13T20:12:45.808609Z",
     "iopub.status.busy": "2022-09-13T20:12:45.807603Z",
     "iopub.status.idle": "2022-09-13T20:12:45.822698Z",
     "shell.execute_reply": "2022-09-13T20:12:45.823150Z"
    },
    "papermill": {
     "duration": 0.049022,
     "end_time": "2022-09-13T20:12:45.823270",
     "exception": false,
     "start_time": "2022-09-13T20:12:45.774248",
     "status": "completed"
    },
    "tags": []
   },
   "outputs": [],
   "source": [
    "import mnist"
   ]
  },
  {
   "cell_type": "code",
   "execution_count": 5,
   "id": "a411e44f",
   "metadata": {
    "execution": {
     "iopub.execute_input": "2022-09-13T20:12:45.893376Z",
     "iopub.status.busy": "2022-09-13T20:12:45.892156Z",
     "iopub.status.idle": "2022-09-13T20:12:46.527337Z",
     "shell.execute_reply": "2022-09-13T20:12:46.526825Z"
    },
    "papermill": {
     "duration": 0.675258,
     "end_time": "2022-09-13T20:12:46.527464",
     "exception": false,
     "start_time": "2022-09-13T20:12:45.852206",
     "status": "completed"
    },
    "tags": []
   },
   "outputs": [],
   "source": [
    "train_images = mnist.train_images()\n",
    "train_labels = mnist.train_labels()"
   ]
  },
  {
   "cell_type": "code",
   "execution_count": 6,
   "id": "dceab3a5",
   "metadata": {
    "execution": {
     "iopub.execute_input": "2022-09-13T20:12:46.583641Z",
     "iopub.status.busy": "2022-09-13T20:12:46.582916Z",
     "iopub.status.idle": "2022-09-13T20:12:46.599417Z",
     "shell.execute_reply": "2022-09-13T20:12:46.598907Z"
    },
    "papermill": {
     "duration": 0.044778,
     "end_time": "2022-09-13T20:12:46.599527",
     "exception": false,
     "start_time": "2022-09-13T20:12:46.554749",
     "status": "completed"
    },
    "tags": []
   },
   "outputs": [
    {
     "data": {
      "text/plain": [
       "((60000, 28, 28), (60000,))"
      ]
     },
     "execution_count": 6,
     "metadata": {},
     "output_type": "execute_result"
    }
   ],
   "source": [
    "train_images.shape, train_labels.shape"
   ]
  },
  {
   "cell_type": "code",
   "execution_count": 7,
   "id": "f50dc2bb",
   "metadata": {
    "execution": {
     "iopub.execute_input": "2022-09-13T20:12:46.663058Z",
     "iopub.status.busy": "2022-09-13T20:12:46.662392Z",
     "iopub.status.idle": "2022-09-13T20:12:46.864933Z",
     "shell.execute_reply": "2022-09-13T20:12:46.864326Z"
    },
    "papermill": {
     "duration": 0.237857,
     "end_time": "2022-09-13T20:12:46.865069",
     "exception": false,
     "start_time": "2022-09-13T20:12:46.627212",
     "status": "completed"
    },
    "tags": []
   },
   "outputs": [],
   "source": [
    "test_images = mnist.test_images()\n",
    "test_labels = mnist.test_labels()"
   ]
  },
  {
   "cell_type": "code",
   "execution_count": 8,
   "id": "fc38cf1b",
   "metadata": {
    "execution": {
     "iopub.execute_input": "2022-09-13T20:12:46.929075Z",
     "iopub.status.busy": "2022-09-13T20:12:46.926397Z",
     "iopub.status.idle": "2022-09-13T20:12:46.942515Z",
     "shell.execute_reply": "2022-09-13T20:12:46.943250Z"
    },
    "papermill": {
     "duration": 0.04843,
     "end_time": "2022-09-13T20:12:46.943368",
     "exception": false,
     "start_time": "2022-09-13T20:12:46.894938",
     "status": "completed"
    },
    "tags": []
   },
   "outputs": [
    {
     "data": {
      "text/plain": [
       "((10000, 28, 28), (10000,))"
      ]
     },
     "execution_count": 8,
     "metadata": {},
     "output_type": "execute_result"
    }
   ],
   "source": [
    "test_images.shape, test_labels.shape"
   ]
  },
  {
   "cell_type": "code",
   "execution_count": 9,
   "id": "f9ed8fe0",
   "metadata": {
    "execution": {
     "iopub.execute_input": "2022-09-13T20:12:47.013633Z",
     "iopub.status.busy": "2022-09-13T20:12:47.012854Z",
     "iopub.status.idle": "2022-09-13T20:12:47.218949Z",
     "shell.execute_reply": "2022-09-13T20:12:47.218294Z"
    },
    "papermill": {
     "duration": 0.242688,
     "end_time": "2022-09-13T20:12:47.219080",
     "exception": false,
     "start_time": "2022-09-13T20:12:46.976392",
     "status": "completed"
    },
    "tags": []
   },
   "outputs": [
    {
     "name": "stdout",
     "output_type": "stream",
     "text": [
      "2\n"
     ]
    },
    {
     "data": {
      "text/plain": [
       "<matplotlib.image.AxesImage at 0x7fae7dbe5c88>"
      ]
     },
     "execution_count": 9,
     "metadata": {},
     "output_type": "execute_result"
    },
    {
     "data": {
      "image/png": "[encoded data removed]",
      "text/plain": [
       "<Figure size 432x288 with 1 Axes>"
      ]
     },
     "metadata": {
      "needs_background": "light"
     },
     "output_type": "display_data"
    }
   ],
   "source": [
    "image_index = 7776 # You may select anything up to 60,000\n",
    "print(train_labels[image_index]) \n",
    "plt.imshow(train_images[image_index], cmap='Greys')"
   ]
  },
  {
   "cell_type": "markdown",
   "id": "a8d2388d",
   "metadata": {
    "papermill": {
     "duration": 0.033451,
     "end_time": "2022-09-13T20:12:47.285731",
     "exception": false,
     "start_time": "2022-09-13T20:12:47.252280",
     "status": "completed"
    },
    "tags": []
   },
   "source": [
    "## Filter data to get 3 and 8 out"
   ]
  },
  {
   "cell_type": "code",
   "execution_count": 10,
   "id": "776f7fc7",
   "metadata": {
    "execution": {
     "iopub.execute_input": "2022-09-13T20:12:47.372952Z",
     "iopub.status.busy": "2022-09-13T20:12:47.365714Z",
     "iopub.status.idle": "2022-09-13T20:12:47.386355Z",
     "shell.execute_reply": "2022-09-13T20:12:47.386889Z"
    },
    "papermill": {
     "duration": 0.063361,
     "end_time": "2022-09-13T20:12:47.387063",
     "exception": false,
     "start_time": "2022-09-13T20:12:47.323702",
     "status": "completed"
    },
    "tags": []
   },
   "outputs": [],
   "source": [
    "train_filter = np.where((train_labels == 3 ) | (train_labels == 8))\n",
    "test_filter = np.where((test_labels == 3) | (test_labels == 8))\n",
    "X_train, y_train = train_images[train_filter], train_labels[train_filter]\n",
    "X_test, y_test = test_images[test_filter], test_labels[test_filter]"
   ]
  },
  {
   "cell_type": "markdown",
   "id": "948f0b7e",
   "metadata": {
    "papermill": {
     "duration": 0.031389,
     "end_time": "2022-09-13T20:12:47.450713",
     "exception": false,
     "start_time": "2022-09-13T20:12:47.419324",
     "status": "completed"
    },
    "tags": []
   },
   "source": [
    "We normalize the pizel values in the 0 to 1 range"
   ]
  },
  {
   "cell_type": "code",
   "execution_count": 11,
   "id": "ee4c2166",
   "metadata": {
    "execution": {
     "iopub.execute_input": "2022-09-13T20:12:47.517374Z",
     "iopub.status.busy": "2022-09-13T20:12:47.515263Z",
     "iopub.status.idle": "2022-09-13T20:12:47.577527Z",
     "shell.execute_reply": "2022-09-13T20:12:47.576716Z"
    },
    "papermill": {
     "duration": 0.0967,
     "end_time": "2022-09-13T20:12:47.577676",
     "exception": false,
     "start_time": "2022-09-13T20:12:47.480976",
     "status": "completed"
    },
    "tags": []
   },
   "outputs": [],
   "source": [
    "X_train = X_train/255.\n",
    "X_test = X_test/255."
   ]
  },
  {
   "cell_type": "markdown",
   "id": "ddcf4fab",
   "metadata": {
    "papermill": {
     "duration": 0.030528,
     "end_time": "2022-09-13T20:12:47.638818",
     "exception": false,
     "start_time": "2022-09-13T20:12:47.608290",
     "status": "completed"
    },
    "tags": []
   },
   "source": [
    "And setup the labels as 1 (when the digit is 3) and 0 (when the digit is 8)"
   ]
  },
  {
   "cell_type": "code",
   "execution_count": 12,
   "id": "7dc908f2",
   "metadata": {
    "execution": {
     "iopub.execute_input": "2022-09-13T20:12:47.710462Z",
     "iopub.status.busy": "2022-09-13T20:12:47.709826Z",
     "iopub.status.idle": "2022-09-13T20:12:47.724762Z",
     "shell.execute_reply": "2022-09-13T20:12:47.724165Z"
    },
    "papermill": {
     "duration": 0.052381,
     "end_time": "2022-09-13T20:12:47.724882",
     "exception": false,
     "start_time": "2022-09-13T20:12:47.672501",
     "status": "completed"
    },
    "tags": []
   },
   "outputs": [],
   "source": [
    "y_train = 1*(y_train==3)\n",
    "y_test = 1*(y_test==3)"
   ]
  },
  {
   "cell_type": "code",
   "execution_count": 13,
   "id": "01e4e969",
   "metadata": {
    "execution": {
     "iopub.execute_input": "2022-09-13T20:12:47.788235Z",
     "iopub.status.busy": "2022-09-13T20:12:47.787575Z",
     "iopub.status.idle": "2022-09-13T20:12:47.800485Z",
     "shell.execute_reply": "2022-09-13T20:12:47.801052Z"
    },
    "papermill": {
     "duration": 0.045928,
     "end_time": "2022-09-13T20:12:47.801166",
     "exception": false,
     "start_time": "2022-09-13T20:12:47.755238",
     "status": "completed"
    },
    "tags": []
   },
   "outputs": [
    {
     "data": {
      "text/plain": [
       "((11982, 28, 28), (1984, 28, 28))"
      ]
     },
     "execution_count": 13,
     "metadata": {},
     "output_type": "execute_result"
    }
   ],
   "source": [
    "X_train.shape, X_test.shape"
   ]
  },
  {
   "cell_type": "markdown",
   "id": "5ccf3f85",
   "metadata": {
    "papermill": {
     "duration": 0.02988,
     "end_time": "2022-09-13T20:12:47.859796",
     "exception": false,
     "start_time": "2022-09-13T20:12:47.829916",
     "status": "completed"
    },
    "tags": []
   },
   "source": [
    "We reshape the data to flatten the image pixels into a set of features or co-variates:"
   ]
  },
  {
   "cell_type": "code",
   "execution_count": 14,
   "id": "5286a4a3",
   "metadata": {
    "execution": {
     "iopub.execute_input": "2022-09-13T20:12:47.931194Z",
     "iopub.status.busy": "2022-09-13T20:12:47.930465Z",
     "iopub.status.idle": "2022-09-13T20:12:47.946506Z",
     "shell.execute_reply": "2022-09-13T20:12:47.947090Z"
    },
    "papermill": {
     "duration": 0.051936,
     "end_time": "2022-09-13T20:12:47.947243",
     "exception": false,
     "start_time": "2022-09-13T20:12:47.895307",
     "status": "completed"
    },
    "tags": []
   },
   "outputs": [
    {
     "data": {
      "text/plain": [
       "((11982, 784), (1984, 784))"
      ]
     },
     "execution_count": 14,
     "metadata": {},
     "output_type": "execute_result"
    }
   ],
   "source": [
    "X_train = X_train.reshape(X_train.shape[0], -1)\n",
    "X_test = X_test.reshape(X_test.shape[0], -1)\n",
    "X_train.shape, X_test.shape"
   ]
  },
  {
   "cell_type": "code",
   "execution_count": 15,
   "id": "73c5f88a",
   "metadata": {
    "execution": {
     "iopub.execute_input": "2022-09-13T20:12:48.021097Z",
     "iopub.status.busy": "2022-09-13T20:12:48.020330Z",
     "iopub.status.idle": "2022-09-13T20:12:48.041950Z",
     "shell.execute_reply": "2022-09-13T20:12:48.041274Z"
    },
    "papermill": {
     "duration": 0.062909,
     "end_time": "2022-09-13T20:12:48.042096",
     "exception": false,
     "start_time": "2022-09-13T20:12:47.979187",
     "status": "completed"
    },
    "tags": []
   },
   "outputs": [],
   "source": [
    "#Impoting functions from 'Kudzu'\n",
    "from kudzu.model import Model\n",
    "from kudzu.train import Learner\n",
    "from kudzu.optim import GD\n",
    "from kudzu.data import Data, Sampler,Dataloader\n",
    "\n",
    "from kudzu.callbacks import AccCallback\n",
    "from kudzu.callbacks import ClfCallback\n",
    "\n",
    "from kudzu.loss import MSE\n",
    "\n",
    "from kudzu.layer import Sigmoid,Relu\n",
    "from kudzu.layer import Affine"
   ]
  },
  {
   "cell_type": "markdown",
   "id": "bc01172a",
   "metadata": {
    "papermill": {
     "duration": 0.033891,
     "end_time": "2022-09-13T20:12:48.113078",
     "exception": false,
     "start_time": "2022-09-13T20:12:48.079187",
     "status": "completed"
    },
    "tags": []
   },
   "source": [
    "### Let us create a `Config` class, to store important parameters. \n",
    "This class essentially plays the role of a dictionary."
   ]
  },
  {
   "cell_type": "code",
   "execution_count": 16,
   "id": "978281aa",
   "metadata": {
    "execution": {
     "iopub.execute_input": "2022-09-13T20:12:48.186591Z",
     "iopub.status.busy": "2022-09-13T20:12:48.185929Z",
     "iopub.status.idle": "2022-09-13T20:12:48.199346Z",
     "shell.execute_reply": "2022-09-13T20:12:48.198861Z"
    },
    "papermill": {
     "duration": 0.051276,
     "end_time": "2022-09-13T20:12:48.199455",
     "exception": false,
     "start_time": "2022-09-13T20:12:48.148179",
     "status": "completed"
    },
    "tags": []
   },
   "outputs": [],
   "source": [
    "class Config:\n",
    "    pass\n",
    "config = Config()\n",
    "config.lr = 0.001\n",
    "config.num_epochs = 250\n",
    "config.bs = 50"
   ]
  },
  {
   "cell_type": "markdown",
   "id": "1385fa59",
   "metadata": {
    "papermill": {
     "duration": 0.033639,
     "end_time": "2022-09-13T20:12:48.276468",
     "exception": false,
     "start_time": "2022-09-13T20:12:48.242829",
     "status": "completed"
    },
    "tags": []
   },
   "source": [
    "### Running Models with the Training data\n",
    "Details about the network layers:\n",
    "- A first affine layer has 784 inputs and does 100 affine transforms. These are followed by a Relu\n",
    "- A second affine layer has 100 inputs from the 100 activations of the past layer, and does 100 affine transforms. These are followed by a Relu\n",
    "- A third affine layer has 100 activations and does 2 affine transformations to create an embedding for visualization. There is no non-linearity here.\n",
    "- A final \"logistic regression\" which has an affine transform from 2 inputs to 1 output, which is squeezed through a sigmoid.\n"
   ]
  },
  {
   "cell_type": "code",
   "execution_count": 17,
   "id": "2b9c66db",
   "metadata": {
    "execution": {
     "iopub.execute_input": "2022-09-13T20:12:48.350941Z",
     "iopub.status.busy": "2022-09-13T20:12:48.350320Z",
     "iopub.status.idle": "2022-09-13T20:12:48.366078Z",
     "shell.execute_reply": "2022-09-13T20:12:48.365273Z"
    },
    "papermill": {
     "duration": 0.053043,
     "end_time": "2022-09-13T20:12:48.366205",
     "exception": false,
     "start_time": "2022-09-13T20:12:48.313162",
     "status": "completed"
    },
    "tags": []
   },
   "outputs": [],
   "source": [
    "data = Data(X_train, y_train.reshape(-1,1))\n",
    "sampler = Sampler(data, config.bs, shuffle=True)\n",
    "\n",
    "dl = Dataloader(data, sampler)\n",
    "\n",
    "opt = GD(config.lr)\n",
    "loss = MSE()"
   ]
  },
  {
   "cell_type": "code",
   "execution_count": 18,
   "id": "b275e4c2",
   "metadata": {
    "execution": {
     "iopub.execute_input": "2022-09-13T20:12:48.430892Z",
     "iopub.status.busy": "2022-09-13T20:12:48.430253Z",
     "iopub.status.idle": "2022-09-13T20:12:48.444162Z",
     "shell.execute_reply": "2022-09-13T20:12:48.445242Z"
    },
    "papermill": {
     "duration": 0.049509,
     "end_time": "2022-09-13T20:12:48.445397",
     "exception": false,
     "start_time": "2022-09-13T20:12:48.395888",
     "status": "completed"
    },
    "tags": []
   },
   "outputs": [],
   "source": [
    "training_data_x = X_train\n",
    "testing_data_x = X_test\n",
    "training_data_y = y_train.reshape(-1,1)\n",
    "testing_data_y = y_test.reshape(-1,1)"
   ]
  },
  {
   "cell_type": "code",
   "execution_count": 19,
   "id": "76951160",
   "metadata": {
    "execution": {
     "iopub.execute_input": "2022-09-13T20:12:48.506531Z",
     "iopub.status.busy": "2022-09-13T20:12:48.505904Z",
     "iopub.status.idle": "2022-09-13T20:12:48.523341Z",
     "shell.execute_reply": "2022-09-13T20:12:48.524113Z"
    },
    "papermill": {
     "duration": 0.050373,
     "end_time": "2022-09-13T20:12:48.524239",
     "exception": false,
     "start_time": "2022-09-13T20:12:48.473866",
     "status": "completed"
    },
    "tags": []
   },
   "outputs": [
    {
     "name": "stdout",
     "output_type": "stream",
     "text": [
      "xavier\n",
      "xavier\n",
      "xavier\n",
      "xavier\n",
      "xavier\n"
     ]
    }
   ],
   "source": [
    "layers = [Affine(\"first\", 784, 100), Relu(\"first\"), Affine(\"second\", 100, 100), Relu(\"second\"), Affine(\"third\", 100, 2), Affine(\"last\", 2, 1), Sigmoid(\"last\")]\n",
    "model_nn = Model(layers)\n",
    "model_lr = Model([Affine(\"logits\", 784, 1), Sigmoid(\"sigmoid\")])"
   ]
  },
  {
   "cell_type": "code",
   "execution_count": 20,
   "id": "6eede77a",
   "metadata": {
    "execution": {
     "iopub.execute_input": "2022-09-13T20:12:48.589791Z",
     "iopub.status.busy": "2022-09-13T20:12:48.588896Z",
     "iopub.status.idle": "2022-09-13T20:12:48.603586Z",
     "shell.execute_reply": "2022-09-13T20:12:48.602977Z"
    },
    "papermill": {
     "duration": 0.051376,
     "end_time": "2022-09-13T20:12:48.603749",
     "exception": false,
     "start_time": "2022-09-13T20:12:48.552373",
     "status": "completed"
    },
    "tags": []
   },
   "outputs": [],
   "source": [
    "nn_learner = Learner(loss, model_nn, opt, config.num_epochs)\n",
    "acc_nn = ClfCallback(nn_learner, config.bs, training_data_x , testing_data_x, training_data_y, testing_data_y)\n",
    "nn_learner.set_callbacks([acc_nn])"
   ]
  },
  {
   "cell_type": "code",
   "execution_count": 21,
   "id": "877b6cc7",
   "metadata": {
    "execution": {
     "iopub.execute_input": "2022-09-13T20:12:48.674725Z",
     "iopub.status.busy": "2022-09-13T20:12:48.674006Z",
     "iopub.status.idle": "2022-09-13T20:12:48.688243Z",
     "shell.execute_reply": "2022-09-13T20:12:48.687545Z"
    },
    "papermill": {
     "duration": 0.053119,
     "end_time": "2022-09-13T20:12:48.688356",
     "exception": false,
     "start_time": "2022-09-13T20:12:48.635237",
     "status": "completed"
    },
    "tags": []
   },
   "outputs": [],
   "source": [
    "lr_learner = Learner(loss, model_lr, opt, config.num_epochs)\n",
    "acc_lr = ClfCallback(lr_learner, config.bs, training_data_x , testing_data_x, training_data_y, testing_data_y)\n",
    "lr_learner.set_callbacks([acc_lr])"
   ]
  },
  {
   "cell_type": "code",
   "execution_count": 22,
   "id": "d9b133c3",
   "metadata": {
    "execution": {
     "iopub.execute_input": "2022-09-13T20:12:48.760733Z",
     "iopub.status.busy": "2022-09-13T20:12:48.759521Z",
     "iopub.status.idle": "2022-09-13T20:15:07.406898Z",
     "shell.execute_reply": "2022-09-13T20:15:07.408845Z"
    },
    "papermill": {
     "duration": 138.687587,
     "end_time": "2022-09-13T20:15:07.409052",
     "exception": false,
     "start_time": "2022-09-13T20:12:48.721465",
     "status": "completed"
    },
    "tags": []
   },
   "outputs": [
    {
     "name": "stdout",
     "output_type": "stream",
     "text": [
      "Epoch 0, Loss 0.243\n",
      "Training Accuracy: 0.7535, Testing Accuracy: 0.7530\n",
      "\n"
     ]
    },
    {
     "name": "stdout",
     "output_type": "stream",
     "text": [
      "Epoch 10, Loss 0.0631\n",
      "Training Accuracy: 0.9377, Testing Accuracy: 0.9511\n",
      "\n"
     ]
    },
    {
     "name": "stdout",
     "output_type": "stream",
     "text": [
      "Epoch 20, Loss 0.0442\n",
      "Training Accuracy: 0.9531, Testing Accuracy: 0.9642\n",
      "\n"
     ]
    },
    {
     "name": "stdout",
     "output_type": "stream",
     "text": [
      "Epoch 30, Loss 0.0371\n",
      "Training Accuracy: 0.9595, Testing Accuracy: 0.9688\n",
      "\n"
     ]
    },
    {
     "name": "stdout",
     "output_type": "stream",
     "text": [
      "Epoch 40, Loss 0.0331\n",
      "Training Accuracy: 0.9630, Testing Accuracy: 0.9682\n",
      "\n"
     ]
    },
    {
     "name": "stdout",
     "output_type": "stream",
     "text": [
      "Epoch 50, Loss 0.0306\n",
      "Training Accuracy: 0.9660, Testing Accuracy: 0.9698\n",
      "\n"
     ]
    },
    {
     "name": "stdout",
     "output_type": "stream",
     "text": [
      "Epoch 60, Loss 0.0287\n",
      "Training Accuracy: 0.9676, Testing Accuracy: 0.9708\n",
      "\n"
     ]
    },
    {
     "name": "stdout",
     "output_type": "stream",
     "text": [
      "Epoch 70, Loss 0.0272\n",
      "Training Accuracy: 0.9689, Testing Accuracy: 0.9713\n",
      "\n"
     ]
    },
    {
     "name": "stdout",
     "output_type": "stream",
     "text": [
      "Epoch 80, Loss 0.026\n",
      "Training Accuracy: 0.9705, Testing Accuracy: 0.9728\n",
      "\n"
     ]
    },
    {
     "name": "stdout",
     "output_type": "stream",
     "text": [
      "Epoch 90, Loss 0.025\n",
      "Training Accuracy: 0.9713, Testing Accuracy: 0.9713\n",
      "\n"
     ]
    },
    {
     "name": "stdout",
     "output_type": "stream",
     "text": [
      "Epoch 100, Loss 0.0241\n",
      "Training Accuracy: 0.9724, Testing Accuracy: 0.9708\n",
      "\n"
     ]
    },
    {
     "name": "stdout",
     "output_type": "stream",
     "text": [
      "Epoch 110, Loss 0.0233\n",
      "Training Accuracy: 0.9732, Testing Accuracy: 0.9713\n",
      "\n"
     ]
    },
    {
     "name": "stdout",
     "output_type": "stream",
     "text": [
      "Epoch 120, Loss 0.0226\n",
      "Training Accuracy: 0.9735, Testing Accuracy: 0.9718\n",
      "\n"
     ]
    },
    {
     "name": "stdout",
     "output_type": "stream",
     "text": [
      "Epoch 130, Loss 0.0219\n",
      "Training Accuracy: 0.9746, Testing Accuracy: 0.9718\n",
      "\n"
     ]
    },
    {
     "name": "stdout",
     "output_type": "stream",
     "text": [
      "Epoch 140, Loss 0.0213\n",
      "Training Accuracy: 0.9752, Testing Accuracy: 0.9728\n",
      "\n"
     ]
    },
    {
     "name": "stdout",
     "output_type": "stream",
     "text": [
      "Epoch 150, Loss 0.0207\n",
      "Training Accuracy: 0.9762, Testing Accuracy: 0.9728\n",
      "\n"
     ]
    },
    {
     "name": "stdout",
     "output_type": "stream",
     "text": [
      "Epoch 160, Loss 0.0202\n",
      "Training Accuracy: 0.9768, Testing Accuracy: 0.9738\n",
      "\n"
     ]
    },
    {
     "name": "stdout",
     "output_type": "stream",
     "text": [
      "Epoch 170, Loss 0.0197\n",
      "Training Accuracy: 0.9780, Testing Accuracy: 0.9733\n",
      "\n"
     ]
    },
    {
     "name": "stdout",
     "output_type": "stream",
     "text": [
      "Epoch 180, Loss 0.0192\n",
      "Training Accuracy: 0.9786, Testing Accuracy: 0.9748\n",
      "\n"
     ]
    },
    {
     "name": "stdout",
     "output_type": "stream",
     "text": [
      "Epoch 190, Loss 0.0187\n",
      "Training Accuracy: 0.9794, Testing Accuracy: 0.9748\n",
      "\n"
     ]
    },
    {
     "name": "stdout",
     "output_type": "stream",
     "text": [
      "Epoch 200, Loss 0.0183\n",
      "Training Accuracy: 0.9800, Testing Accuracy: 0.9753\n",
      "\n"
     ]
    },
    {
     "name": "stdout",
     "output_type": "stream",
     "text": [
      "Epoch 210, Loss 0.0179\n",
      "Training Accuracy: 0.9806, Testing Accuracy: 0.9758\n",
      "\n"
     ]
    },
    {
     "name": "stdout",
     "output_type": "stream",
     "text": [
      "Epoch 220, Loss 0.0175\n",
      "Training Accuracy: 0.9811, Testing Accuracy: 0.9758\n",
      "\n"
     ]
    },
    {
     "name": "stdout",
     "output_type": "stream",
     "text": [
      "Epoch 230, Loss 0.0171\n",
      "Training Accuracy: 0.9817, Testing Accuracy: 0.9768\n",
      "\n"
     ]
    },
    {
     "name": "stdout",
     "output_type": "stream",
     "text": [
      "Epoch 240, Loss 0.0167\n",
      "Training Accuracy: 0.9821, Testing Accuracy: 0.9783\n",
      "\n"
     ]
    },
    {
     "data": {
      "text/plain": [
       "0.005954383263013849"
      ]
     },
     "execution_count": 22,
     "metadata": {},
     "output_type": "execute_result"
    }
   ],
   "source": [
    "nn_learner.train_loop(dl)"
   ]
  },
  {
   "cell_type": "code",
   "execution_count": 23,
   "id": "e0163366",
   "metadata": {
    "execution": {
     "iopub.execute_input": "2022-09-13T20:15:07.510292Z",
     "iopub.status.busy": "2022-09-13T20:15:07.509528Z",
     "iopub.status.idle": "2022-09-13T20:15:27.807620Z",
     "shell.execute_reply": "2022-09-13T20:15:27.808822Z"
    },
    "papermill": {
     "duration": 20.355114,
     "end_time": "2022-09-13T20:15:27.809072",
     "exception": false,
     "start_time": "2022-09-13T20:15:07.453958",
     "status": "completed"
    },
    "tags": []
   },
   "outputs": [
    {
     "name": "stdout",
     "output_type": "stream",
     "text": [
      "Epoch 0, Loss 0.264\n",
      "Training Accuracy: 0.5996, Testing Accuracy: 0.6094\n",
      "\n"
     ]
    },
    {
     "name": "stdout",
     "output_type": "stream",
     "text": [
      "Epoch 10, Loss 0.1044\n",
      "Training Accuracy: 0.9070, Testing Accuracy: 0.9158\n",
      "\n"
     ]
    },
    {
     "name": "stdout",
     "output_type": "stream",
     "text": [
      "Epoch 20, Loss 0.0794\n",
      "Training Accuracy: 0.9289, Testing Accuracy: 0.9350\n",
      "\n"
     ]
    },
    {
     "name": "stdout",
     "output_type": "stream",
     "text": [
      "Epoch 30, Loss 0.068\n",
      "Training Accuracy: 0.9380, Testing Accuracy: 0.9446\n",
      "\n"
     ]
    },
    {
     "name": "stdout",
     "output_type": "stream",
     "text": [
      "Epoch 40, Loss 0.0613\n",
      "Training Accuracy: 0.9418, Testing Accuracy: 0.9496\n",
      "\n"
     ]
    },
    {
     "name": "stdout",
     "output_type": "stream",
     "text": [
      "Epoch 50, Loss 0.0567\n",
      "Training Accuracy: 0.9457, Testing Accuracy: 0.9551\n",
      "\n"
     ]
    },
    {
     "name": "stdout",
     "output_type": "stream",
     "text": [
      "Epoch 60, Loss 0.0533\n",
      "Training Accuracy: 0.9478, Testing Accuracy: 0.9561\n",
      "\n"
     ]
    },
    {
     "name": "stdout",
     "output_type": "stream",
     "text": [
      "Epoch 70, Loss 0.0507\n",
      "Training Accuracy: 0.9497, Testing Accuracy: 0.9561\n",
      "\n"
     ]
    },
    {
     "name": "stdout",
     "output_type": "stream",
     "text": [
      "Epoch 80, Loss 0.0487\n",
      "Training Accuracy: 0.9524, Testing Accuracy: 0.9582\n",
      "\n"
     ]
    },
    {
     "name": "stdout",
     "output_type": "stream",
     "text": [
      "Epoch 90, Loss 0.047\n",
      "Training Accuracy: 0.9528, Testing Accuracy: 0.9607\n",
      "\n"
     ]
    },
    {
     "name": "stdout",
     "output_type": "stream",
     "text": [
      "Epoch 100, Loss 0.0456\n",
      "Training Accuracy: 0.9541, Testing Accuracy: 0.9612\n",
      "\n"
     ]
    },
    {
     "name": "stdout",
     "output_type": "stream",
     "text": [
      "Epoch 110, Loss 0.0444\n",
      "Training Accuracy: 0.9549, Testing Accuracy: 0.9617\n",
      "\n"
     ]
    },
    {
     "name": "stdout",
     "output_type": "stream",
     "text": [
      "Epoch 120, Loss 0.0433\n",
      "Training Accuracy: 0.9553, Testing Accuracy: 0.9622\n",
      "\n"
     ]
    },
    {
     "name": "stdout",
     "output_type": "stream",
     "text": [
      "Epoch 130, Loss 0.0424\n",
      "Training Accuracy: 0.9563, Testing Accuracy: 0.9627\n",
      "\n"
     ]
    },
    {
     "name": "stdout",
     "output_type": "stream",
     "text": [
      "Epoch 140, Loss 0.0416\n",
      "Training Accuracy: 0.9572, Testing Accuracy: 0.9642\n",
      "\n"
     ]
    },
    {
     "name": "stdout",
     "output_type": "stream",
     "text": [
      "Epoch 150, Loss 0.0408\n",
      "Training Accuracy: 0.9575, Testing Accuracy: 0.9652\n",
      "\n"
     ]
    },
    {
     "name": "stdout",
     "output_type": "stream",
     "text": [
      "Epoch 160, Loss 0.0402\n",
      "Training Accuracy: 0.9581, Testing Accuracy: 0.9657\n",
      "\n"
     ]
    },
    {
     "name": "stdout",
     "output_type": "stream",
     "text": [
      "Epoch 170, Loss 0.0396\n",
      "Training Accuracy: 0.9587, Testing Accuracy: 0.9667\n",
      "\n"
     ]
    },
    {
     "name": "stdout",
     "output_type": "stream",
     "text": [
      "Epoch 180, Loss 0.039\n",
      "Training Accuracy: 0.9589, Testing Accuracy: 0.9667\n",
      "\n"
     ]
    },
    {
     "name": "stdout",
     "output_type": "stream",
     "text": [
      "Epoch 190, Loss 0.0385\n",
      "Training Accuracy: 0.9597, Testing Accuracy: 0.9672\n",
      "\n"
     ]
    },
    {
     "name": "stdout",
     "output_type": "stream",
     "text": [
      "Epoch 200, Loss 0.0381\n",
      "Training Accuracy: 0.9599, Testing Accuracy: 0.9672\n",
      "\n"
     ]
    },
    {
     "name": "stdout",
     "output_type": "stream",
     "text": [
      "Epoch 210, Loss 0.0376\n",
      "Training Accuracy: 0.9600, Testing Accuracy: 0.9672\n",
      "\n"
     ]
    },
    {
     "name": "stdout",
     "output_type": "stream",
     "text": [
      "Epoch 220, Loss 0.0372\n",
      "Training Accuracy: 0.9604, Testing Accuracy: 0.9667\n",
      "\n"
     ]
    },
    {
     "name": "stdout",
     "output_type": "stream",
     "text": [
      "Epoch 230, Loss 0.0369\n",
      "Training Accuracy: 0.9608, Testing Accuracy: 0.9672\n",
      "\n"
     ]
    },
    {
     "name": "stdout",
     "output_type": "stream",
     "text": [
      "Epoch 240, Loss 0.0365\n",
      "Training Accuracy: 0.9611, Testing Accuracy: 0.9672\n",
      "\n"
     ]
    },
    {
     "data": {
      "text/plain": [
       "0.027519171390993247"
      ]
     },
     "execution_count": 23,
     "metadata": {},
     "output_type": "execute_result"
    }
   ],
   "source": [
    "lr_learner.train_loop(dl)"
   ]
  },
  {
   "cell_type": "code",
   "execution_count": 24,
   "id": "ca410940",
   "metadata": {
    "execution": {
     "iopub.execute_input": "2022-09-13T20:15:27.917630Z",
     "iopub.status.busy": "2022-09-13T20:15:27.916838Z",
     "iopub.status.idle": "2022-09-13T20:15:28.232038Z",
     "shell.execute_reply": "2022-09-13T20:15:28.231413Z"
    },
    "papermill": {
     "duration": 0.375558,
     "end_time": "2022-09-13T20:15:28.232202",
     "exception": false,
     "start_time": "2022-09-13T20:15:27.856644",
     "status": "completed"
    },
    "tags": []
   },
   "outputs": [
    {
     "data": {
      "text/plain": [
       "<matplotlib.legend.Legend at 0x7fae7d753438>"
      ]
     },
     "execution_count": 24,
     "metadata": {},
     "output_type": "execute_result"
    },
    {
     "data": {
      "image/png": "[encoded data removed]",
      "text/plain": [
       "<Figure size 1080x720 with 1 Axes>"
      ]
     },
     "metadata": {
      "needs_background": "light"
     },
     "output_type": "display_data"
    }
   ],
   "source": [
    "#comparing the results of NN and LR\n",
    "plt.figure(figsize=(15,10))\n",
    "\n",
    "# Neural Network plots\n",
    "plt.plot(acc_nn.accuracies, 'r-', label = \"Training Accuracies - NN\")\n",
    "plt.plot(acc_nn.test_accuracies, 'g-', label = \"Testing Accuracies - NN\")\n",
    "\n",
    "# Logistic Regression plots\n",
    "plt.plot(acc_lr.accuracies, 'k-', label = \"Training Accuracies - LR\")\n",
    "plt.plot(acc_lr.test_accuracies, 'b-', label = \"Testing Accuracies - LR\")\n",
    "plt.legend()"
   ]
  },
  {
   "cell_type": "markdown",
   "id": "80dfb35c",
   "metadata": {
    "papermill": {
     "duration": 0.05198,
     "end_time": "2022-09-13T20:15:28.330790",
     "exception": false,
     "start_time": "2022-09-13T20:15:28.278810",
     "status": "completed"
    },
    "tags": []
   },
   "source": [
    "#### Plotting the outputs of this layer of the NN.\n"
   ]
  },
  {
   "cell_type": "code",
   "execution_count": 25,
   "id": "45eb2ff5",
   "metadata": {
    "execution": {
     "iopub.execute_input": "2022-09-13T20:15:28.427984Z",
     "iopub.status.busy": "2022-09-13T20:15:28.427336Z",
     "iopub.status.idle": "2022-09-13T20:15:28.451205Z",
     "shell.execute_reply": "2022-09-13T20:15:28.452114Z"
    },
    "papermill": {
     "duration": 0.077261,
     "end_time": "2022-09-13T20:15:28.452287",
     "exception": false,
     "start_time": "2022-09-13T20:15:28.375026",
     "status": "completed"
    },
    "tags": []
   },
   "outputs": [],
   "source": [
    "new_model = Model(layers[:-2])\n",
    "testing_plot = new_model(testing_data_x)"
   ]
  },
  {
   "cell_type": "code",
   "execution_count": 26,
   "id": "4c0a5485",
   "metadata": {
    "execution": {
     "iopub.execute_input": "2022-09-13T20:15:28.552617Z",
     "iopub.status.busy": "2022-09-13T20:15:28.551796Z",
     "iopub.status.idle": "2022-09-13T20:15:28.786551Z",
     "shell.execute_reply": "2022-09-13T20:15:28.786066Z"
    },
    "papermill": {
     "duration": 0.288097,
     "end_time": "2022-09-13T20:15:28.786686",
     "exception": false,
     "start_time": "2022-09-13T20:15:28.498589",
     "status": "completed"
    },
    "tags": []
   },
   "outputs": [
    {
     "data": {
      "text/plain": [
       "Text(0.5, 1.0, 'Outputs')"
      ]
     },
     "execution_count": 26,
     "metadata": {},
     "output_type": "execute_result"
    },
    {
     "data": {
      "image/png": "[encoded data removed]",
      "text/plain": [
       "<Figure size 576x504 with 1 Axes>"
      ]
     },
     "metadata": {
      "needs_background": "light"
     },
     "output_type": "display_data"
    }
   ],
   "source": [
    "# Plotting the scatter plot of points and color coding by class\n",
    "plt.figure(figsize=(8,7))\n",
    "plt.scatter(testing_plot[:,0], testing_plot[:,1], alpha = 0.1, c = y_test.ravel());\n",
    "plt.title('Outputs')"
   ]
  },
  {
   "cell_type": "markdown",
   "id": "a74fcf8f",
   "metadata": {
    "papermill": {
     "duration": 0.077436,
     "end_time": "2022-09-13T20:15:28.912600",
     "exception": false,
     "start_time": "2022-09-13T20:15:28.835164",
     "status": "completed"
    },
    "tags": []
   },
   "source": [
    "Probability contours"
   ]
  },
  {
   "cell_type": "code",
   "execution_count": 27,
   "id": "d0afc8e3",
   "metadata": {
    "execution": {
     "iopub.execute_input": "2022-09-13T20:15:29.020431Z",
     "iopub.status.busy": "2022-09-13T20:15:29.019482Z",
     "iopub.status.idle": "2022-09-13T20:15:29.033309Z",
     "shell.execute_reply": "2022-09-13T20:15:29.032735Z"
    },
    "papermill": {
     "duration": 0.070712,
     "end_time": "2022-09-13T20:15:29.033442",
     "exception": false,
     "start_time": "2022-09-13T20:15:28.962730",
     "status": "completed"
    },
    "tags": []
   },
   "outputs": [],
   "source": [
    "model_prob = Model(layers[-2:]) "
   ]
  },
  {
   "cell_type": "code",
   "execution_count": 28,
   "id": "9b96e238",
   "metadata": {
    "execution": {
     "iopub.execute_input": "2022-09-13T20:15:29.151767Z",
     "iopub.status.busy": "2022-09-13T20:15:29.150845Z",
     "iopub.status.idle": "2022-09-13T20:15:29.168627Z",
     "shell.execute_reply": "2022-09-13T20:15:29.169092Z"
    },
    "papermill": {
     "duration": 0.078857,
     "end_time": "2022-09-13T20:15:29.169230",
     "exception": false,
     "start_time": "2022-09-13T20:15:29.090373",
     "status": "completed"
    },
    "tags": []
   },
   "outputs": [],
   "source": [
    "#creating the x and y ranges according to the above generated plot.\n",
    "x_range = np.linspace(-4, 1, 100) \n",
    "y_range = np.linspace(-6, 6, 100) \n",
    "x_grid, y_grid = np.meshgrid(x_range, y_range) # x_grid and y_grig are of size 100 X 100\n",
    "\n",
    "# converting x_grid and y_grid to continuous arrays\n",
    "x_gridflat = np.ravel(x_grid)\n",
    "y_gridflat = np.ravel(y_grid)\n",
    "\n",
    "# The last layer of the current model takes two columns as input. Hence transpose of np.vstack() is required.\n",
    "X = np.vstack((x_gridflat, y_gridflat)).T\n",
    "\n",
    "prob_contour = model_prob(X).reshape(100,100) "
   ]
  },
  {
   "cell_type": "code",
   "execution_count": 29,
   "id": "da72499a",
   "metadata": {
    "execution": {
     "iopub.execute_input": "2022-09-13T20:15:29.277188Z",
     "iopub.status.busy": "2022-09-13T20:15:29.276556Z",
     "iopub.status.idle": "2022-09-13T20:15:29.604193Z",
     "shell.execute_reply": "2022-09-13T20:15:29.603486Z"
    },
    "papermill": {
     "duration": 0.385779,
     "end_time": "2022-09-13T20:15:29.604352",
     "exception": false,
     "start_time": "2022-09-13T20:15:29.218573",
     "status": "completed"
    },
    "tags": []
   },
   "outputs": [
    {
     "data": {
      "image/png": "[encoded data removed]",
      "text/plain": [
       "<Figure size 720x648 with 1 Axes>"
      ]
     },
     "metadata": {
      "needs_background": "light"
     },
     "output_type": "display_data"
    }
   ],
   "source": [
    "plt.figure(figsize=(10,9))\n",
    "plt.scatter(testing_plot[:,0], testing_plot[:,1], alpha = 0.1, c = y_test.ravel())\n",
    "contours = plt.contour(x_grid,y_grid,prob_contour)\n",
    "plt.title('Probability Contours')\n",
    "plt.clabel(contours, inline = True );"
   ]
  },
  {
   "cell_type": "code",
   "execution_count": null,
   "id": "e81b4ac7",
   "metadata": {
    "papermill": {
     "duration": 0.055584,
     "end_time": "2022-09-13T20:15:29.716708",
     "exception": false,
     "start_time": "2022-09-13T20:15:29.661124",
     "status": "completed"
    },
    "tags": []
   },
   "outputs": [],
   "source": []
  }
 ],
 "metadata": {
  "kernelspec": {
   "display_name": "Python 3",
   "language": "python",
   "name": "python3"
  },
  "language_info": {
   "codemirror_mode": {
    "name": "ipython",
    "version": 3
   },
   "file_extension": ".py",
   "mimetype": "text/x-python",
   "name": "python",
   "nbconvert_exporter": "python",
   "pygments_lexer": "ipython3",
   "version": "3.6.15"
  },
  "papermill": {
   "default_parameters": {},
   "duration": 169.389401,
   "end_time": "2022-09-13T20:15:30.191436",
   "environment_variables": {},
   "exception": null,
   "input_path": "2020-08-11-part2.ipynb",
   "output_path": "2020-08-11-part2.ipynb",
   "parameters": {},
   "start_time": "2022-09-13T20:12:40.802035",
   "version": "2.3.3"
  }
 },
 "nbformat": 4,
 "nbformat_minor": 5
}