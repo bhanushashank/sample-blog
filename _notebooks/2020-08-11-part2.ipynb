{
 "cells": [
  {
   "cell_type": "markdown",
   "id": "98380cd3",
   "metadata": {
    "papermill": {
     "duration": 0.030013,
     "end_time": "2022-05-23T20:11:02.166687",
     "exception": false,
     "start_time": "2022-05-23T20:11:02.136674",
     "status": "completed"
    },
    "tags": []
   },
   "source": [
    "# Distinguish Your Own Digits (DYOD)"
   ]
  },
  {
   "cell_type": "markdown",
   "id": "ef31240d",
   "metadata": {
    "papermill": {
     "duration": 0.02456,
     "end_time": "2022-05-23T20:11:02.217281",
     "exception": false,
     "start_time": "2022-05-23T20:11:02.192721",
     "status": "completed"
    },
    "tags": []
   },
   "source": [
    "You are going to write a classifier that distinguishes between the number 3 and number 8."
   ]
  },
  {
   "cell_type": "code",
   "execution_count": 1,
   "id": "b15c8646",
   "metadata": {
    "execution": {
     "iopub.execute_input": "2022-05-23T20:11:02.277175Z",
     "iopub.status.busy": "2022-05-23T20:11:02.276523Z",
     "iopub.status.idle": "2022-05-23T20:11:02.288330Z",
     "shell.execute_reply": "2022-05-23T20:11:02.287777Z"
    },
    "papermill": {
     "duration": 0.046774,
     "end_time": "2022-05-23T20:11:02.288494",
     "exception": false,
     "start_time": "2022-05-23T20:11:02.241720",
     "status": "completed"
    },
    "tags": []
   },
   "outputs": [],
   "source": [
    "%load_ext autoreload\n",
    "%autoreload 2"
   ]
  },
  {
   "cell_type": "code",
   "execution_count": 2,
   "id": "22ef38dc",
   "metadata": {
    "execution": {
     "iopub.execute_input": "2022-05-23T20:11:02.343653Z",
     "iopub.status.busy": "2022-05-23T20:11:02.343011Z",
     "iopub.status.idle": "2022-05-23T20:11:02.939587Z",
     "shell.execute_reply": "2022-05-23T20:11:02.939054Z"
    },
    "papermill": {
     "duration": 0.62678,
     "end_time": "2022-05-23T20:11:02.939724",
     "exception": false,
     "start_time": "2022-05-23T20:11:02.312944",
     "status": "completed"
    },
    "tags": []
   },
   "outputs": [],
   "source": [
    "%matplotlib inline\n",
    "import numpy as np\n",
    "import matplotlib.pyplot as plt\n",
    "import pandas as pd"
   ]
  },
  {
   "cell_type": "markdown",
   "id": "ba036198",
   "metadata": {
    "papermill": {
     "duration": 0.024204,
     "end_time": "2022-05-23T20:11:02.988289",
     "exception": false,
     "start_time": "2022-05-23T20:11:02.964085",
     "status": "completed"
    },
    "tags": []
   },
   "source": [
    "From the command line run `pip install mnist`. This is a library that will help you bring down the mnist dataset. If you run this from a notebook, you need to put  `!pip install mnist` in a cell by itself."
   ]
  },
  {
   "cell_type": "code",
   "execution_count": 3,
   "id": "bb6ad8a1",
   "metadata": {
    "execution": {
     "iopub.execute_input": "2022-05-23T20:11:03.045424Z",
     "iopub.status.busy": "2022-05-23T20:11:03.044784Z",
     "iopub.status.idle": "2022-05-23T20:11:05.628919Z",
     "shell.execute_reply": "2022-05-23T20:11:05.628339Z"
    },
    "papermill": {
     "duration": 2.616452,
     "end_time": "2022-05-23T20:11:05.629066",
     "exception": false,
     "start_time": "2022-05-23T20:11:03.012614",
     "status": "completed"
    },
    "tags": []
   },
   "outputs": [
    {
     "name": "stdout",
     "output_type": "stream",
     "text": [
      "Collecting mnist\r\n"
     ]
    },
    {
     "name": "stdout",
     "output_type": "stream",
     "text": [
      "  Downloading mnist-0.2.2-py2.py3-none-any.whl (3.5 kB)\r\n",
      "Requirement already satisfied: numpy in /opt/hostedtoolcache/Python/3.6.15/x64/lib/python3.6/site-packages (from mnist) (1.19.5)\r\n"
     ]
    },
    {
     "name": "stdout",
     "output_type": "stream",
     "text": [
      "Installing collected packages: mnist\r\n",
      "Successfully installed mnist-0.2.2\r\n"
     ]
    }
   ],
   "source": [
    "!pip install mnist"
   ]
  },
  {
   "cell_type": "markdown",
   "id": "69df9c9a",
   "metadata": {
    "papermill": {
     "duration": 0.02552,
     "end_time": "2022-05-23T20:11:05.680641",
     "exception": false,
     "start_time": "2022-05-23T20:11:05.655121",
     "status": "completed"
    },
    "tags": []
   },
   "source": [
    "## Preparing the Data"
   ]
  },
  {
   "cell_type": "code",
   "execution_count": 4,
   "id": "7f69d806",
   "metadata": {
    "execution": {
     "iopub.execute_input": "2022-05-23T20:11:05.737436Z",
     "iopub.status.busy": "2022-05-23T20:11:05.736807Z",
     "iopub.status.idle": "2022-05-23T20:11:05.751740Z",
     "shell.execute_reply": "2022-05-23T20:11:05.751189Z"
    },
    "papermill": {
     "duration": 0.046102,
     "end_time": "2022-05-23T20:11:05.751870",
     "exception": false,
     "start_time": "2022-05-23T20:11:05.705768",
     "status": "completed"
    },
    "tags": []
   },
   "outputs": [],
   "source": [
    "import mnist"
   ]
  },
  {
   "cell_type": "code",
   "execution_count": 5,
   "id": "a411e44f",
   "metadata": {
    "execution": {
     "iopub.execute_input": "2022-05-23T20:11:05.810784Z",
     "iopub.status.busy": "2022-05-23T20:11:05.810110Z",
     "iopub.status.idle": "2022-05-23T20:11:06.397547Z",
     "shell.execute_reply": "2022-05-23T20:11:06.398132Z"
    },
    "papermill": {
     "duration": 0.62104,
     "end_time": "2022-05-23T20:11:06.398317",
     "exception": false,
     "start_time": "2022-05-23T20:11:05.777277",
     "status": "completed"
    },
    "tags": []
   },
   "outputs": [],
   "source": [
    "train_images = mnist.train_images()\n",
    "train_labels = mnist.train_labels()"
   ]
  },
  {
   "cell_type": "code",
   "execution_count": 6,
   "id": "dceab3a5",
   "metadata": {
    "execution": {
     "iopub.execute_input": "2022-05-23T20:11:06.455866Z",
     "iopub.status.busy": "2022-05-23T20:11:06.455202Z",
     "iopub.status.idle": "2022-05-23T20:11:06.470007Z",
     "shell.execute_reply": "2022-05-23T20:11:06.470538Z"
    },
    "papermill": {
     "duration": 0.046871,
     "end_time": "2022-05-23T20:11:06.470696",
     "exception": false,
     "start_time": "2022-05-23T20:11:06.423825",
     "status": "completed"
    },
    "tags": []
   },
   "outputs": [
    {
     "data": {
      "text/plain": [
       "((60000, 28, 28), (60000,))"
      ]
     },
     "execution_count": 6,
     "metadata": {},
     "output_type": "execute_result"
    }
   ],
   "source": [
    "train_images.shape, train_labels.shape"
   ]
  },
  {
   "cell_type": "code",
   "execution_count": 7,
   "id": "f50dc2bb",
   "metadata": {
    "execution": {
     "iopub.execute_input": "2022-05-23T20:11:06.536096Z",
     "iopub.status.busy": "2022-05-23T20:11:06.535391Z",
     "iopub.status.idle": "2022-05-23T20:11:06.706380Z",
     "shell.execute_reply": "2022-05-23T20:11:06.705702Z"
    },
    "papermill": {
     "duration": 0.210287,
     "end_time": "2022-05-23T20:11:06.706532",
     "exception": false,
     "start_time": "2022-05-23T20:11:06.496245",
     "status": "completed"
    },
    "tags": []
   },
   "outputs": [],
   "source": [
    "test_images = mnist.test_images()\n",
    "test_labels = mnist.test_labels()"
   ]
  },
  {
   "cell_type": "code",
   "execution_count": 8,
   "id": "fc38cf1b",
   "metadata": {
    "execution": {
     "iopub.execute_input": "2022-05-23T20:11:06.762622Z",
     "iopub.status.busy": "2022-05-23T20:11:06.761998Z",
     "iopub.status.idle": "2022-05-23T20:11:06.775523Z",
     "shell.execute_reply": "2022-05-23T20:11:06.776037Z"
    },
    "papermill": {
     "duration": 0.043687,
     "end_time": "2022-05-23T20:11:06.776202",
     "exception": false,
     "start_time": "2022-05-23T20:11:06.732515",
     "status": "completed"
    },
    "tags": []
   },
   "outputs": [
    {
     "data": {
      "text/plain": [
       "((10000, 28, 28), (10000,))"
      ]
     },
     "execution_count": 8,
     "metadata": {},
     "output_type": "execute_result"
    }
   ],
   "source": [
    "test_images.shape, test_labels.shape"
   ]
  },
  {
   "cell_type": "code",
   "execution_count": 9,
   "id": "f9ed8fe0",
   "metadata": {
    "execution": {
     "iopub.execute_input": "2022-05-23T20:11:06.861226Z",
     "iopub.status.busy": "2022-05-23T20:11:06.846726Z",
     "iopub.status.idle": "2022-05-23T20:11:06.987251Z",
     "shell.execute_reply": "2022-05-23T20:11:06.986687Z"
    },
    "papermill": {
     "duration": 0.185566,
     "end_time": "2022-05-23T20:11:06.987384",
     "exception": false,
     "start_time": "2022-05-23T20:11:06.801818",
     "status": "completed"
    },
    "tags": []
   },
   "outputs": [
    {
     "name": "stdout",
     "output_type": "stream",
     "text": [
      "2\n"
     ]
    },
    {
     "data": {
      "text/plain": [
       "<matplotlib.image.AxesImage at 0x7fb741e79f60>"
      ]
     },
     "execution_count": 9,
     "metadata": {},
     "output_type": "execute_result"
    },
    {
     "data": {
      "image/png": "[encoded data removed]",
      "text/plain": [
       "<Figure size 432x288 with 1 Axes>"
      ]
     },
     "metadata": {
      "needs_background": "light"
     },
     "output_type": "display_data"
    }
   ],
   "source": [
    "image_index = 7776 # You may select anything up to 60,000\n",
    "print(train_labels[image_index]) \n",
    "plt.imshow(train_images[image_index], cmap='Greys')"
   ]
  },
  {
   "cell_type": "markdown",
   "id": "a8d2388d",
   "metadata": {
    "papermill": {
     "duration": 0.027075,
     "end_time": "2022-05-23T20:11:07.043143",
     "exception": false,
     "start_time": "2022-05-23T20:11:07.016068",
     "status": "completed"
    },
    "tags": []
   },
   "source": [
    "## Filter data to get 3 and 8 out"
   ]
  },
  {
   "cell_type": "code",
   "execution_count": 10,
   "id": "776f7fc7",
   "metadata": {
    "execution": {
     "iopub.execute_input": "2022-05-23T20:11:07.109763Z",
     "iopub.status.busy": "2022-05-23T20:11:07.108815Z",
     "iopub.status.idle": "2022-05-23T20:11:07.125747Z",
     "shell.execute_reply": "2022-05-23T20:11:07.124901Z"
    },
    "papermill": {
     "duration": 0.056134,
     "end_time": "2022-05-23T20:11:07.125887",
     "exception": false,
     "start_time": "2022-05-23T20:11:07.069753",
     "status": "completed"
    },
    "tags": []
   },
   "outputs": [],
   "source": [
    "train_filter = np.where((train_labels == 3 ) | (train_labels == 8))\n",
    "test_filter = np.where((test_labels == 3) | (test_labels == 8))\n",
    "X_train, y_train = train_images[train_filter], train_labels[train_filter]\n",
    "X_test, y_test = test_images[test_filter], test_labels[test_filter]"
   ]
  },
  {
   "cell_type": "markdown",
   "id": "948f0b7e",
   "metadata": {
    "papermill": {
     "duration": 0.027249,
     "end_time": "2022-05-23T20:11:07.180007",
     "exception": false,
     "start_time": "2022-05-23T20:11:07.152758",
     "status": "completed"
    },
    "tags": []
   },
   "source": [
    "We normalize the pizel values in the 0 to 1 range"
   ]
  },
  {
   "cell_type": "code",
   "execution_count": 11,
   "id": "ee4c2166",
   "metadata": {
    "execution": {
     "iopub.execute_input": "2022-05-23T20:11:07.251103Z",
     "iopub.status.busy": "2022-05-23T20:11:07.248092Z",
     "iopub.status.idle": "2022-05-23T20:11:07.292171Z",
     "shell.execute_reply": "2022-05-23T20:11:07.292709Z"
    },
    "papermill": {
     "duration": 0.085509,
     "end_time": "2022-05-23T20:11:07.292877",
     "exception": false,
     "start_time": "2022-05-23T20:11:07.207368",
     "status": "completed"
    },
    "tags": []
   },
   "outputs": [],
   "source": [
    "X_train = X_train/255.\n",
    "X_test = X_test/255."
   ]
  },
  {
   "cell_type": "markdown",
   "id": "ddcf4fab",
   "metadata": {
    "papermill": {
     "duration": 0.027139,
     "end_time": "2022-05-23T20:11:07.346974",
     "exception": false,
     "start_time": "2022-05-23T20:11:07.319835",
     "status": "completed"
    },
    "tags": []
   },
   "source": [
    "And setup the labels as 1 (when the digit is 3) and 0 (when the digit is 8)"
   ]
  },
  {
   "cell_type": "code",
   "execution_count": 12,
   "id": "7dc908f2",
   "metadata": {
    "execution": {
     "iopub.execute_input": "2022-05-23T20:11:07.406257Z",
     "iopub.status.busy": "2022-05-23T20:11:07.405550Z",
     "iopub.status.idle": "2022-05-23T20:11:07.418152Z",
     "shell.execute_reply": "2022-05-23T20:11:07.417592Z"
    },
    "papermill": {
     "duration": 0.044698,
     "end_time": "2022-05-23T20:11:07.418300",
     "exception": false,
     "start_time": "2022-05-23T20:11:07.373602",
     "status": "completed"
    },
    "tags": []
   },
   "outputs": [],
   "source": [
    "y_train = 1*(y_train==3)\n",
    "y_test = 1*(y_test==3)"
   ]
  },
  {
   "cell_type": "code",
   "execution_count": 13,
   "id": "01e4e969",
   "metadata": {
    "execution": {
     "iopub.execute_input": "2022-05-23T20:11:07.481717Z",
     "iopub.status.busy": "2022-05-23T20:11:07.481022Z",
     "iopub.status.idle": "2022-05-23T20:11:07.492994Z",
     "shell.execute_reply": "2022-05-23T20:11:07.492381Z"
    },
    "papermill": {
     "duration": 0.047982,
     "end_time": "2022-05-23T20:11:07.493133",
     "exception": false,
     "start_time": "2022-05-23T20:11:07.445151",
     "status": "completed"
    },
    "tags": []
   },
   "outputs": [
    {
     "data": {
      "text/plain": [
       "((11982, 28, 28), (1984, 28, 28))"
      ]
     },
     "execution_count": 13,
     "metadata": {},
     "output_type": "execute_result"
    }
   ],
   "source": [
    "X_train.shape, X_test.shape"
   ]
  },
  {
   "cell_type": "markdown",
   "id": "5ccf3f85",
   "metadata": {
    "papermill": {
     "duration": 0.026975,
     "end_time": "2022-05-23T20:11:07.547081",
     "exception": false,
     "start_time": "2022-05-23T20:11:07.520106",
     "status": "completed"
    },
    "tags": []
   },
   "source": [
    "We reshape the data to flatten the image pixels into a set of features or co-variates:"
   ]
  },
  {
   "cell_type": "code",
   "execution_count": 14,
   "id": "5286a4a3",
   "metadata": {
    "execution": {
     "iopub.execute_input": "2022-05-23T20:11:07.619546Z",
     "iopub.status.busy": "2022-05-23T20:11:07.615176Z",
     "iopub.status.idle": "2022-05-23T20:11:07.622951Z",
     "shell.execute_reply": "2022-05-23T20:11:07.623436Z"
    },
    "papermill": {
     "duration": 0.04944,
     "end_time": "2022-05-23T20:11:07.623595",
     "exception": false,
     "start_time": "2022-05-23T20:11:07.574155",
     "status": "completed"
    },
    "tags": []
   },
   "outputs": [
    {
     "data": {
      "text/plain": [
       "((11982, 784), (1984, 784))"
      ]
     },
     "execution_count": 14,
     "metadata": {},
     "output_type": "execute_result"
    }
   ],
   "source": [
    "X_train = X_train.reshape(X_train.shape[0], -1)\n",
    "X_test = X_test.reshape(X_test.shape[0], -1)\n",
    "X_train.shape, X_test.shape"
   ]
  },
  {
   "cell_type": "code",
   "execution_count": 15,
   "id": "73c5f88a",
   "metadata": {
    "execution": {
     "iopub.execute_input": "2022-05-23T20:11:07.687745Z",
     "iopub.status.busy": "2022-05-23T20:11:07.687093Z",
     "iopub.status.idle": "2022-05-23T20:11:07.706115Z",
     "shell.execute_reply": "2022-05-23T20:11:07.706657Z"
    },
    "papermill": {
     "duration": 0.055993,
     "end_time": "2022-05-23T20:11:07.706826",
     "exception": false,
     "start_time": "2022-05-23T20:11:07.650833",
     "status": "completed"
    },
    "tags": []
   },
   "outputs": [],
   "source": [
    "#Impoting functions from 'Kudzu'\n",
    "from kudzu.model import Model\n",
    "from kudzu.train import Learner\n",
    "from kudzu.optim import GD\n",
    "from kudzu.data import Data, Sampler,Dataloader\n",
    "\n",
    "from kudzu.callbacks import AccCallback\n",
    "from kudzu.callbacks import ClfCallback\n",
    "\n",
    "from kudzu.loss import MSE\n",
    "\n",
    "from kudzu.layer import Sigmoid,Relu\n",
    "from kudzu.layer import Affine"
   ]
  },
  {
   "cell_type": "markdown",
   "id": "bc01172a",
   "metadata": {
    "papermill": {
     "duration": 0.02721,
     "end_time": "2022-05-23T20:11:07.761958",
     "exception": false,
     "start_time": "2022-05-23T20:11:07.734748",
     "status": "completed"
    },
    "tags": []
   },
   "source": [
    "### Let us create a `Config` class, to store important parameters. \n",
    "This class essentially plays the role of a dictionary."
   ]
  },
  {
   "cell_type": "code",
   "execution_count": 16,
   "id": "978281aa",
   "metadata": {
    "execution": {
     "iopub.execute_input": "2022-05-23T20:11:07.831346Z",
     "iopub.status.busy": "2022-05-23T20:11:07.820956Z",
     "iopub.status.idle": "2022-05-23T20:11:07.837073Z",
     "shell.execute_reply": "2022-05-23T20:11:07.837563Z"
    },
    "papermill": {
     "duration": 0.04871,
     "end_time": "2022-05-23T20:11:07.837727",
     "exception": false,
     "start_time": "2022-05-23T20:11:07.789017",
     "status": "completed"
    },
    "tags": []
   },
   "outputs": [],
   "source": [
    "class Config:\n",
    "    pass\n",
    "config = Config()\n",
    "config.lr = 0.001\n",
    "config.num_epochs = 250\n",
    "config.bs = 50"
   ]
  },
  {
   "cell_type": "markdown",
   "id": "1385fa59",
   "metadata": {
    "papermill": {
     "duration": 0.027155,
     "end_time": "2022-05-23T20:11:07.892339",
     "exception": false,
     "start_time": "2022-05-23T20:11:07.865184",
     "status": "completed"
    },
    "tags": []
   },
   "source": [
    "### Running Models with the Training data\n",
    "Details about the network layers:\n",
    "- A first affine layer has 784 inputs and does 100 affine transforms. These are followed by a Relu\n",
    "- A second affine layer has 100 inputs from the 100 activations of the past layer, and does 100 affine transforms. These are followed by a Relu\n",
    "- A third affine layer has 100 activations and does 2 affine transformations to create an embedding for visualization. There is no non-linearity here.\n",
    "- A final \"logistic regression\" which has an affine transform from 2 inputs to 1 output, which is squeezed through a sigmoid.\n"
   ]
  },
  {
   "cell_type": "code",
   "execution_count": 17,
   "id": "2b9c66db",
   "metadata": {
    "execution": {
     "iopub.execute_input": "2022-05-23T20:11:07.956167Z",
     "iopub.status.busy": "2022-05-23T20:11:07.955509Z",
     "iopub.status.idle": "2022-05-23T20:11:07.968483Z",
     "shell.execute_reply": "2022-05-23T20:11:07.967965Z"
    },
    "papermill": {
     "duration": 0.049114,
     "end_time": "2022-05-23T20:11:07.968624",
     "exception": false,
     "start_time": "2022-05-23T20:11:07.919510",
     "status": "completed"
    },
    "tags": []
   },
   "outputs": [],
   "source": [
    "data = Data(X_train, y_train.reshape(-1,1))\n",
    "sampler = Sampler(data, config.bs, shuffle=True)\n",
    "\n",
    "dl = Dataloader(data, sampler)\n",
    "\n",
    "opt = GD(config.lr)\n",
    "loss = MSE()"
   ]
  },
  {
   "cell_type": "code",
   "execution_count": 18,
   "id": "b275e4c2",
   "metadata": {
    "execution": {
     "iopub.execute_input": "2022-05-23T20:11:08.029862Z",
     "iopub.status.busy": "2022-05-23T20:11:08.029215Z",
     "iopub.status.idle": "2022-05-23T20:11:08.042913Z",
     "shell.execute_reply": "2022-05-23T20:11:08.042386Z"
    },
    "papermill": {
     "duration": 0.046941,
     "end_time": "2022-05-23T20:11:08.043050",
     "exception": false,
     "start_time": "2022-05-23T20:11:07.996109",
     "status": "completed"
    },
    "tags": []
   },
   "outputs": [],
   "source": [
    "training_data_x = X_train\n",
    "testing_data_x = X_test\n",
    "training_data_y = y_train.reshape(-1,1)\n",
    "testing_data_y = y_test.reshape(-1,1)"
   ]
  },
  {
   "cell_type": "code",
   "execution_count": 19,
   "id": "76951160",
   "metadata": {
    "execution": {
     "iopub.execute_input": "2022-05-23T20:11:08.104864Z",
     "iopub.status.busy": "2022-05-23T20:11:08.104212Z",
     "iopub.status.idle": "2022-05-23T20:11:08.120361Z",
     "shell.execute_reply": "2022-05-23T20:11:08.119858Z"
    },
    "papermill": {
     "duration": 0.050199,
     "end_time": "2022-05-23T20:11:08.120487",
     "exception": false,
     "start_time": "2022-05-23T20:11:08.070288",
     "status": "completed"
    },
    "tags": []
   },
   "outputs": [
    {
     "name": "stdout",
     "output_type": "stream",
     "text": [
      "xavier\n",
      "xavier\n",
      "xavier\n",
      "xavier\n",
      "xavier\n"
     ]
    }
   ],
   "source": [
    "layers = [Affine(\"first\", 784, 100), Relu(\"first\"), Affine(\"second\", 100, 100), Relu(\"second\"), Affine(\"third\", 100, 2), Affine(\"last\", 2, 1), Sigmoid(\"last\")]\n",
    "model_nn = Model(layers)\n",
    "model_lr = Model([Affine(\"logits\", 784, 1), Sigmoid(\"sigmoid\")])"
   ]
  },
  {
   "cell_type": "code",
   "execution_count": 20,
   "id": "6eede77a",
   "metadata": {
    "execution": {
     "iopub.execute_input": "2022-05-23T20:11:08.182100Z",
     "iopub.status.busy": "2022-05-23T20:11:08.181424Z",
     "iopub.status.idle": "2022-05-23T20:11:08.194285Z",
     "shell.execute_reply": "2022-05-23T20:11:08.193779Z"
    },
    "papermill": {
     "duration": 0.046191,
     "end_time": "2022-05-23T20:11:08.194418",
     "exception": false,
     "start_time": "2022-05-23T20:11:08.148227",
     "status": "completed"
    },
    "tags": []
   },
   "outputs": [],
   "source": [
    "nn_learner = Learner(loss, model_nn, opt, config.num_epochs)\n",
    "acc_nn = ClfCallback(nn_learner, config.bs, training_data_x , testing_data_x, training_data_y, testing_data_y)\n",
    "nn_learner.set_callbacks([acc_nn])"
   ]
  },
  {
   "cell_type": "code",
   "execution_count": 21,
   "id": "877b6cc7",
   "metadata": {
    "execution": {
     "iopub.execute_input": "2022-05-23T20:11:08.255617Z",
     "iopub.status.busy": "2022-05-23T20:11:08.254992Z",
     "iopub.status.idle": "2022-05-23T20:11:08.267864Z",
     "shell.execute_reply": "2022-05-23T20:11:08.268353Z"
    },
    "papermill": {
     "duration": 0.045605,
     "end_time": "2022-05-23T20:11:08.268509",
     "exception": false,
     "start_time": "2022-05-23T20:11:08.222904",
     "status": "completed"
    },
    "tags": []
   },
   "outputs": [],
   "source": [
    "lr_learner = Learner(loss, model_lr, opt, config.num_epochs)\n",
    "acc_lr = ClfCallback(lr_learner, config.bs, training_data_x , testing_data_x, training_data_y, testing_data_y)\n",
    "lr_learner.set_callbacks([acc_lr])"
   ]
  },
  {
   "cell_type": "code",
   "execution_count": 22,
   "id": "d9b133c3",
   "metadata": {
    "execution": {
     "iopub.execute_input": "2022-05-23T20:11:08.332457Z",
     "iopub.status.busy": "2022-05-23T20:11:08.331819Z",
     "iopub.status.idle": "2022-05-23T20:12:32.970962Z",
     "shell.execute_reply": "2022-05-23T20:12:32.971845Z"
    },
    "papermill": {
     "duration": 84.675793,
     "end_time": "2022-05-23T20:12:32.972008",
     "exception": false,
     "start_time": "2022-05-23T20:11:08.296215",
     "status": "completed"
    },
    "tags": []
   },
   "outputs": [
    {
     "name": "stdout",
     "output_type": "stream",
     "text": [
      "Epoch 0, Loss 0.2502\n",
      "Training Accuracy: 0.6116, Testing Accuracy: 0.6200\n",
      "\n"
     ]
    },
    {
     "name": "stdout",
     "output_type": "stream",
     "text": [
      "Epoch 10, Loss 0.0843\n",
      "Training Accuracy: 0.9228, Testing Accuracy: 0.9330\n",
      "\n"
     ]
    },
    {
     "name": "stdout",
     "output_type": "stream",
     "text": [
      "Epoch 20, Loss 0.0543\n",
      "Training Accuracy: 0.9430, Testing Accuracy: 0.9541\n",
      "\n"
     ]
    },
    {
     "name": "stdout",
     "output_type": "stream",
     "text": [
      "Epoch 30, Loss 0.0436\n",
      "Training Accuracy: 0.9524, Testing Accuracy: 0.9627\n",
      "\n"
     ]
    },
    {
     "name": "stdout",
     "output_type": "stream",
     "text": [
      "Epoch 40, Loss 0.0381\n",
      "Training Accuracy: 0.9574, Testing Accuracy: 0.9662\n",
      "\n"
     ]
    },
    {
     "name": "stdout",
     "output_type": "stream",
     "text": [
      "Epoch 50, Loss 0.0347\n",
      "Training Accuracy: 0.9606, Testing Accuracy: 0.9667\n",
      "\n"
     ]
    },
    {
     "name": "stdout",
     "output_type": "stream",
     "text": [
      "Epoch 60, Loss 0.0324\n",
      "Training Accuracy: 0.9628, Testing Accuracy: 0.9662\n",
      "\n"
     ]
    },
    {
     "name": "stdout",
     "output_type": "stream",
     "text": [
      "Epoch 70, Loss 0.0306\n",
      "Training Accuracy: 0.9645, Testing Accuracy: 0.9667\n",
      "\n"
     ]
    },
    {
     "name": "stdout",
     "output_type": "stream",
     "text": [
      "Epoch 80, Loss 0.0292\n",
      "Training Accuracy: 0.9660, Testing Accuracy: 0.9698\n",
      "\n"
     ]
    },
    {
     "name": "stdout",
     "output_type": "stream",
     "text": [
      "Epoch 90, Loss 0.0281\n",
      "Training Accuracy: 0.9675, Testing Accuracy: 0.9698\n",
      "\n"
     ]
    },
    {
     "name": "stdout",
     "output_type": "stream",
     "text": [
      "Epoch 100, Loss 0.0271\n",
      "Training Accuracy: 0.9683, Testing Accuracy: 0.9693\n",
      "\n"
     ]
    },
    {
     "name": "stdout",
     "output_type": "stream",
     "text": [
      "Epoch 110, Loss 0.0262\n",
      "Training Accuracy: 0.9694, Testing Accuracy: 0.9703\n",
      "\n"
     ]
    },
    {
     "name": "stdout",
     "output_type": "stream",
     "text": [
      "Epoch 120, Loss 0.0254\n",
      "Training Accuracy: 0.9698, Testing Accuracy: 0.9698\n",
      "\n"
     ]
    },
    {
     "name": "stdout",
     "output_type": "stream",
     "text": [
      "Epoch 130, Loss 0.0247\n",
      "Training Accuracy: 0.9715, Testing Accuracy: 0.9703\n",
      "\n"
     ]
    },
    {
     "name": "stdout",
     "output_type": "stream",
     "text": [
      "Epoch 140, Loss 0.0241\n",
      "Training Accuracy: 0.9722, Testing Accuracy: 0.9718\n",
      "\n"
     ]
    },
    {
     "name": "stdout",
     "output_type": "stream",
     "text": [
      "Epoch 150, Loss 0.0234\n",
      "Training Accuracy: 0.9729, Testing Accuracy: 0.9713\n",
      "\n"
     ]
    },
    {
     "name": "stdout",
     "output_type": "stream",
     "text": [
      "Epoch 160, Loss 0.0229\n",
      "Training Accuracy: 0.9740, Testing Accuracy: 0.9713\n",
      "\n"
     ]
    },
    {
     "name": "stdout",
     "output_type": "stream",
     "text": [
      "Epoch 170, Loss 0.0224\n",
      "Training Accuracy: 0.9748, Testing Accuracy: 0.9708\n",
      "\n"
     ]
    },
    {
     "name": "stdout",
     "output_type": "stream",
     "text": [
      "Epoch 180, Loss 0.0219\n",
      "Training Accuracy: 0.9750, Testing Accuracy: 0.9713\n",
      "\n"
     ]
    },
    {
     "name": "stdout",
     "output_type": "stream",
     "text": [
      "Epoch 190, Loss 0.0214\n",
      "Training Accuracy: 0.9757, Testing Accuracy: 0.9708\n",
      "\n"
     ]
    },
    {
     "name": "stdout",
     "output_type": "stream",
     "text": [
      "Epoch 200, Loss 0.021\n",
      "Training Accuracy: 0.9765, Testing Accuracy: 0.9718\n",
      "\n"
     ]
    },
    {
     "name": "stdout",
     "output_type": "stream",
     "text": [
      "Epoch 210, Loss 0.0205\n",
      "Training Accuracy: 0.9770, Testing Accuracy: 0.9723\n",
      "\n"
     ]
    },
    {
     "name": "stdout",
     "output_type": "stream",
     "text": [
      "Epoch 220, Loss 0.0201\n",
      "Training Accuracy: 0.9778, Testing Accuracy: 0.9723\n",
      "\n"
     ]
    },
    {
     "name": "stdout",
     "output_type": "stream",
     "text": [
      "Epoch 230, Loss 0.0197\n",
      "Training Accuracy: 0.9784, Testing Accuracy: 0.9723\n",
      "\n"
     ]
    },
    {
     "name": "stdout",
     "output_type": "stream",
     "text": [
      "Epoch 240, Loss 0.0193\n",
      "Training Accuracy: 0.9789, Testing Accuracy: 0.9728\n",
      "\n"
     ]
    },
    {
     "data": {
      "text/plain": [
       "0.029563927730455755"
      ]
     },
     "execution_count": 22,
     "metadata": {},
     "output_type": "execute_result"
    }
   ],
   "source": [
    "nn_learner.train_loop(dl)"
   ]
  },
  {
   "cell_type": "code",
   "execution_count": 23,
   "id": "e0163366",
   "metadata": {
    "execution": {
     "iopub.execute_input": "2022-05-23T20:12:33.052472Z",
     "iopub.status.busy": "2022-05-23T20:12:33.051832Z",
     "iopub.status.idle": "2022-05-23T20:12:47.615744Z",
     "shell.execute_reply": "2022-05-23T20:12:47.616619Z"
    },
    "papermill": {
     "duration": 14.609623,
     "end_time": "2022-05-23T20:12:47.616784",
     "exception": false,
     "start_time": "2022-05-23T20:12:33.007161",
     "status": "completed"
    },
    "tags": []
   },
   "outputs": [
    {
     "name": "stdout",
     "output_type": "stream",
     "text": [
      "Epoch 0, Loss 0.2344\n",
      "Training Accuracy: 0.7005, Testing Accuracy: 0.6890\n",
      "\n"
     ]
    },
    {
     "name": "stdout",
     "output_type": "stream",
     "text": [
      "Epoch 10, Loss 0.1031\n",
      "Training Accuracy: 0.9114, Testing Accuracy: 0.9209\n",
      "\n"
     ]
    },
    {
     "name": "stdout",
     "output_type": "stream",
     "text": [
      "Epoch 20, Loss 0.0788\n",
      "Training Accuracy: 0.9315, Testing Accuracy: 0.9395\n",
      "\n"
     ]
    },
    {
     "name": "stdout",
     "output_type": "stream",
     "text": [
      "Epoch 30, Loss 0.0677\n",
      "Training Accuracy: 0.9397, Testing Accuracy: 0.9476\n",
      "\n"
     ]
    },
    {
     "name": "stdout",
     "output_type": "stream",
     "text": [
      "Epoch 40, Loss 0.0611\n",
      "Training Accuracy: 0.9431, Testing Accuracy: 0.9516\n",
      "\n"
     ]
    },
    {
     "name": "stdout",
     "output_type": "stream",
     "text": [
      "Epoch 50, Loss 0.0567\n",
      "Training Accuracy: 0.9460, Testing Accuracy: 0.9536\n",
      "\n"
     ]
    },
    {
     "name": "stdout",
     "output_type": "stream",
     "text": [
      "Epoch 60, Loss 0.0534\n",
      "Training Accuracy: 0.9480, Testing Accuracy: 0.9551\n",
      "\n"
     ]
    },
    {
     "name": "stdout",
     "output_type": "stream",
     "text": [
      "Epoch 70, Loss 0.0509\n",
      "Training Accuracy: 0.9503, Testing Accuracy: 0.9561\n",
      "\n"
     ]
    },
    {
     "name": "stdout",
     "output_type": "stream",
     "text": [
      "Epoch 80, Loss 0.0489\n",
      "Training Accuracy: 0.9517, Testing Accuracy: 0.9577\n",
      "\n"
     ]
    },
    {
     "name": "stdout",
     "output_type": "stream",
     "text": [
      "Epoch 90, Loss 0.0472\n",
      "Training Accuracy: 0.9530, Testing Accuracy: 0.9597\n",
      "\n"
     ]
    },
    {
     "name": "stdout",
     "output_type": "stream",
     "text": [
      "Epoch 100, Loss 0.0458\n",
      "Training Accuracy: 0.9538, Testing Accuracy: 0.9597\n",
      "\n"
     ]
    },
    {
     "name": "stdout",
     "output_type": "stream",
     "text": [
      "Epoch 110, Loss 0.0446\n",
      "Training Accuracy: 0.9544, Testing Accuracy: 0.9597\n",
      "\n"
     ]
    },
    {
     "name": "stdout",
     "output_type": "stream",
     "text": [
      "Epoch 120, Loss 0.0436\n",
      "Training Accuracy: 0.9551, Testing Accuracy: 0.9612\n",
      "\n"
     ]
    },
    {
     "name": "stdout",
     "output_type": "stream",
     "text": [
      "Epoch 130, Loss 0.0427\n",
      "Training Accuracy: 0.9559, Testing Accuracy: 0.9617\n",
      "\n"
     ]
    },
    {
     "name": "stdout",
     "output_type": "stream",
     "text": [
      "Epoch 140, Loss 0.0419\n",
      "Training Accuracy: 0.9569, Testing Accuracy: 0.9617\n",
      "\n"
     ]
    },
    {
     "name": "stdout",
     "output_type": "stream",
     "text": [
      "Epoch 150, Loss 0.0411\n",
      "Training Accuracy: 0.9576, Testing Accuracy: 0.9622\n",
      "\n"
     ]
    },
    {
     "name": "stdout",
     "output_type": "stream",
     "text": [
      "Epoch 160, Loss 0.0405\n",
      "Training Accuracy: 0.9583, Testing Accuracy: 0.9627\n",
      "\n"
     ]
    },
    {
     "name": "stdout",
     "output_type": "stream",
     "text": [
      "Epoch 170, Loss 0.0399\n",
      "Training Accuracy: 0.9585, Testing Accuracy: 0.9627\n",
      "\n"
     ]
    },
    {
     "name": "stdout",
     "output_type": "stream",
     "text": [
      "Epoch 180, Loss 0.0393\n",
      "Training Accuracy: 0.9592, Testing Accuracy: 0.9632\n",
      "\n"
     ]
    },
    {
     "name": "stdout",
     "output_type": "stream",
     "text": [
      "Epoch 190, Loss 0.0388\n",
      "Training Accuracy: 0.9600, Testing Accuracy: 0.9637\n",
      "\n"
     ]
    },
    {
     "name": "stdout",
     "output_type": "stream",
     "text": [
      "Epoch 200, Loss 0.0384\n",
      "Training Accuracy: 0.9605, Testing Accuracy: 0.9642\n",
      "\n"
     ]
    },
    {
     "name": "stdout",
     "output_type": "stream",
     "text": [
      "Epoch 210, Loss 0.0379\n",
      "Training Accuracy: 0.9607, Testing Accuracy: 0.9642\n",
      "\n"
     ]
    },
    {
     "name": "stdout",
     "output_type": "stream",
     "text": [
      "Epoch 220, Loss 0.0375\n",
      "Training Accuracy: 0.9609, Testing Accuracy: 0.9642\n",
      "\n"
     ]
    },
    {
     "name": "stdout",
     "output_type": "stream",
     "text": [
      "Epoch 230, Loss 0.0372\n",
      "Training Accuracy: 0.9608, Testing Accuracy: 0.9647\n",
      "\n"
     ]
    },
    {
     "name": "stdout",
     "output_type": "stream",
     "text": [
      "Epoch 240, Loss 0.0368\n",
      "Training Accuracy: 0.9611, Testing Accuracy: 0.9647\n",
      "\n"
     ]
    },
    {
     "data": {
      "text/plain": [
       "0.03368915661703249"
      ]
     },
     "execution_count": 23,
     "metadata": {},
     "output_type": "execute_result"
    }
   ],
   "source": [
    "lr_learner.train_loop(dl)"
   ]
  },
  {
   "cell_type": "code",
   "execution_count": 24,
   "id": "ca410940",
   "metadata": {
    "execution": {
     "iopub.execute_input": "2022-05-23T20:12:47.708508Z",
     "iopub.status.busy": "2022-05-23T20:12:47.707882Z",
     "iopub.status.idle": "2022-05-23T20:12:47.951782Z",
     "shell.execute_reply": "2022-05-23T20:12:47.950944Z"
    },
    "papermill": {
     "duration": 0.293408,
     "end_time": "2022-05-23T20:12:47.951922",
     "exception": false,
     "start_time": "2022-05-23T20:12:47.658514",
     "status": "completed"
    },
    "tags": []
   },
   "outputs": [
    {
     "data": {
      "text/plain": [
       "<matplotlib.legend.Legend at 0x7fb7419ea630>"
      ]
     },
     "execution_count": 24,
     "metadata": {},
     "output_type": "execute_result"
    },
    {
     "data": {
      "image/png": "[encoded data removed]",
      "text/plain": [
       "<Figure size 1080x720 with 1 Axes>"
      ]
     },
     "metadata": {
      "needs_background": "light"
     },
     "output_type": "display_data"
    }
   ],
   "source": [
    "#comparing the results of NN and LR\n",
    "plt.figure(figsize=(15,10))\n",
    "\n",
    "# Neural Network plots\n",
    "plt.plot(acc_nn.accuracies, 'r-', label = \"Training Accuracies - NN\")\n",
    "plt.plot(acc_nn.test_accuracies, 'g-', label = \"Testing Accuracies - NN\")\n",
    "\n",
    "# Logistic Regression plots\n",
    "plt.plot(acc_lr.accuracies, 'k-', label = \"Training Accuracies - LR\")\n",
    "plt.plot(acc_lr.test_accuracies, 'b-', label = \"Testing Accuracies - LR\")\n",
    "plt.legend()"
   ]
  },
  {
   "cell_type": "markdown",
   "id": "80dfb35c",
   "metadata": {
    "papermill": {
     "duration": 0.04216,
     "end_time": "2022-05-23T20:12:48.037022",
     "exception": false,
     "start_time": "2022-05-23T20:12:47.994862",
     "status": "completed"
    },
    "tags": []
   },
   "source": [
    "#### Plotting the outputs of this layer of the NN.\n"
   ]
  },
  {
   "cell_type": "code",
   "execution_count": 25,
   "id": "45eb2ff5",
   "metadata": {
    "execution": {
     "iopub.execute_input": "2022-05-23T20:12:48.137579Z",
     "iopub.status.busy": "2022-05-23T20:12:48.135590Z",
     "iopub.status.idle": "2022-05-23T20:12:48.151893Z",
     "shell.execute_reply": "2022-05-23T20:12:48.151325Z"
    },
    "papermill": {
     "duration": 0.07264,
     "end_time": "2022-05-23T20:12:48.152027",
     "exception": false,
     "start_time": "2022-05-23T20:12:48.079387",
     "status": "completed"
    },
    "tags": []
   },
   "outputs": [],
   "source": [
    "new_model = Model(layers[:-2])\n",
    "testing_plot = new_model(testing_data_x)"
   ]
  },
  {
   "cell_type": "code",
   "execution_count": 26,
   "id": "4c0a5485",
   "metadata": {
    "execution": {
     "iopub.execute_input": "2022-05-23T20:12:48.248127Z",
     "iopub.status.busy": "2022-05-23T20:12:48.246981Z",
     "iopub.status.idle": "2022-05-23T20:12:48.451567Z",
     "shell.execute_reply": "2022-05-23T20:12:48.451018Z"
    },
    "papermill": {
     "duration": 0.256479,
     "end_time": "2022-05-23T20:12:48.451702",
     "exception": false,
     "start_time": "2022-05-23T20:12:48.195223",
     "status": "completed"
    },
    "tags": []
   },
   "outputs": [
    {
     "data": {
      "text/plain": [
       "Text(0.5, 1.0, 'Outputs')"
      ]
     },
     "execution_count": 26,
     "metadata": {},
     "output_type": "execute_result"
    },
    {
     "data": {
      "image/png": "[encoded data removed]",
      "text/plain": [
       "<Figure size 576x504 with 1 Axes>"
      ]
     },
     "metadata": {
      "needs_background": "light"
     },
     "output_type": "display_data"
    }
   ],
   "source": [
    "# Plotting the scatter plot of points and color coding by class\n",
    "plt.figure(figsize=(8,7))\n",
    "plt.scatter(testing_plot[:,0], testing_plot[:,1], alpha = 0.1, c = y_test.ravel());\n",
    "plt.title('Outputs')"
   ]
  },
  {
   "cell_type": "markdown",
   "id": "a74fcf8f",
   "metadata": {
    "papermill": {
     "duration": 0.044306,
     "end_time": "2022-05-23T20:12:48.541795",
     "exception": false,
     "start_time": "2022-05-23T20:12:48.497489",
     "status": "completed"
    },
    "tags": []
   },
   "source": [
    "Probability contours"
   ]
  },
  {
   "cell_type": "code",
   "execution_count": 27,
   "id": "d0afc8e3",
   "metadata": {
    "execution": {
     "iopub.execute_input": "2022-05-23T20:12:48.635948Z",
     "iopub.status.busy": "2022-05-23T20:12:48.635307Z",
     "iopub.status.idle": "2022-05-23T20:12:48.647791Z",
     "shell.execute_reply": "2022-05-23T20:12:48.648300Z"
    },
    "papermill": {
     "duration": 0.062109,
     "end_time": "2022-05-23T20:12:48.648462",
     "exception": false,
     "start_time": "2022-05-23T20:12:48.586353",
     "status": "completed"
    },
    "tags": []
   },
   "outputs": [],
   "source": [
    "model_prob = Model(layers[-2:]) "
   ]
  },
  {
   "cell_type": "code",
   "execution_count": 28,
   "id": "9b96e238",
   "metadata": {
    "execution": {
     "iopub.execute_input": "2022-05-23T20:12:48.789562Z",
     "iopub.status.busy": "2022-05-23T20:12:48.788501Z",
     "iopub.status.idle": "2022-05-23T20:12:48.797253Z",
     "shell.execute_reply": "2022-05-23T20:12:48.796788Z"
    },
    "papermill": {
     "duration": 0.104393,
     "end_time": "2022-05-23T20:12:48.797377",
     "exception": false,
     "start_time": "2022-05-23T20:12:48.692984",
     "status": "completed"
    },
    "tags": []
   },
   "outputs": [],
   "source": [
    "#creating the x and y ranges according to the above generated plot.\n",
    "x_range = np.linspace(-4, 1, 100) \n",
    "y_range = np.linspace(-6, 6, 100) \n",
    "x_grid, y_grid = np.meshgrid(x_range, y_range) # x_grid and y_grig are of size 100 X 100\n",
    "\n",
    "# converting x_grid and y_grid to continuous arrays\n",
    "x_gridflat = np.ravel(x_grid)\n",
    "y_gridflat = np.ravel(y_grid)\n",
    "\n",
    "# The last layer of the current model takes two columns as input. Hence transpose of np.vstack() is required.\n",
    "X = np.vstack((x_gridflat, y_gridflat)).T\n",
    "\n",
    "prob_contour = model_prob(X).reshape(100,100) "
   ]
  },
  {
   "cell_type": "code",
   "execution_count": 29,
   "id": "da72499a",
   "metadata": {
    "execution": {
     "iopub.execute_input": "2022-05-23T20:12:48.892894Z",
     "iopub.status.busy": "2022-05-23T20:12:48.892234Z",
     "iopub.status.idle": "2022-05-23T20:12:49.153430Z",
     "shell.execute_reply": "2022-05-23T20:12:49.152715Z"
    },
    "papermill": {
     "duration": 0.310224,
     "end_time": "2022-05-23T20:12:49.153577",
     "exception": false,
     "start_time": "2022-05-23T20:12:48.843353",
     "status": "completed"
    },
    "tags": []
   },
   "outputs": [
    {
     "data": {
      "image/png": "[encoded data removed]",
      "text/plain": [
       "<Figure size 720x648 with 1 Axes>"
      ]
     },
     "metadata": {
      "needs_background": "light"
     },
     "output_type": "display_data"
    }
   ],
   "source": [
    "plt.figure(figsize=(10,9))\n",
    "plt.scatter(testing_plot[:,0], testing_plot[:,1], alpha = 0.1, c = y_test.ravel())\n",
    "contours = plt.contour(x_grid,y_grid,prob_contour)\n",
    "plt.title('Probability Contours')\n",
    "plt.clabel(contours, inline = True );"
   ]
  },
  {
   "cell_type": "code",
   "execution_count": null,
   "id": "e81b4ac7",
   "metadata": {
    "papermill": {
     "duration": 0.047172,
     "end_time": "2022-05-23T20:12:49.248497",
     "exception": false,
     "start_time": "2022-05-23T20:12:49.201325",
     "status": "completed"
    },
    "tags": []
   },
   "outputs": [],
   "source": []
  }
 ],
 "metadata": {
  "kernelspec": {
   "display_name": "Python 3",
   "language": "python",
   "name": "python3"
  },
  "language_info": {
   "codemirror_mode": {
    "name": "ipython",
    "version": 3
   },
   "file_extension": ".py",
   "mimetype": "text/x-python",
   "name": "python",
   "nbconvert_exporter": "python",
   "pygments_lexer": "ipython3",
   "version": "3.6.15"
  },
  "papermill": {
   "default_parameters": {},
   "duration": 108.943406,
   "end_time": "2022-05-23T20:12:49.816804",
   "environment_variables": {},
   "exception": null,
   "input_path": "2020-08-11-part2.ipynb",
   "output_path": "2020-08-11-part2.ipynb",
   "parameters": {},
   "start_time": "2022-05-23T20:11:00.873398",
   "version": "2.3.3"
  }
 },
 "nbformat": 4,
 "nbformat_minor": 5
}