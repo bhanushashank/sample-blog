{
 "cells": [
  {
   "cell_type": "markdown",
   "id": "98380cd3",
   "metadata": {
    "papermill": {
     "duration": 0.031583,
     "end_time": "2022-09-17T00:42:19.107225",
     "exception": false,
     "start_time": "2022-09-17T00:42:19.075642",
     "status": "completed"
    },
    "tags": []
   },
   "source": [
    "# Distinguish Your Own Digits (DYOD)"
   ]
  },
  {
   "cell_type": "markdown",
   "id": "ef31240d",
   "metadata": {
    "papermill": {
     "duration": 0.02568,
     "end_time": "2022-09-17T00:42:19.158501",
     "exception": false,
     "start_time": "2022-09-17T00:42:19.132821",
     "status": "completed"
    },
    "tags": []
   },
   "source": [
    "You are going to write a classifier that distinguishes between the number 3 and number 8."
   ]
  },
  {
   "cell_type": "code",
   "execution_count": 1,
   "id": "b15c8646",
   "metadata": {
    "execution": {
     "iopub.execute_input": "2022-09-17T00:42:19.221519Z",
     "iopub.status.busy": "2022-09-17T00:42:19.220740Z",
     "iopub.status.idle": "2022-09-17T00:42:19.232198Z",
     "shell.execute_reply": "2022-09-17T00:42:19.232731Z"
    },
    "papermill": {
     "duration": 0.048055,
     "end_time": "2022-09-17T00:42:19.232998",
     "exception": false,
     "start_time": "2022-09-17T00:42:19.184943",
     "status": "completed"
    },
    "tags": []
   },
   "outputs": [],
   "source": [
    "%load_ext autoreload\n",
    "%autoreload 2"
   ]
  },
  {
   "cell_type": "code",
   "execution_count": 2,
   "id": "22ef38dc",
   "metadata": {
    "execution": {
     "iopub.execute_input": "2022-09-17T00:42:19.292667Z",
     "iopub.status.busy": "2022-09-17T00:42:19.291956Z",
     "iopub.status.idle": "2022-09-17T00:42:19.880414Z",
     "shell.execute_reply": "2022-09-17T00:42:19.879913Z"
    },
    "papermill": {
     "duration": 0.619909,
     "end_time": "2022-09-17T00:42:19.880538",
     "exception": false,
     "start_time": "2022-09-17T00:42:19.260629",
     "status": "completed"
    },
    "tags": []
   },
   "outputs": [],
   "source": [
    "%matplotlib inline\n",
    "import numpy as np\n",
    "import matplotlib.pyplot as plt\n",
    "import pandas as pd"
   ]
  },
  {
   "cell_type": "markdown",
   "id": "ba036198",
   "metadata": {
    "papermill": {
     "duration": 0.029476,
     "end_time": "2022-09-17T00:42:19.938518",
     "exception": false,
     "start_time": "2022-09-17T00:42:19.909042",
     "status": "completed"
    },
    "tags": []
   },
   "source": [
    "From the command line run `pip install mnist`. This is a library that will help you bring down the mnist dataset. If you run this from a notebook, you need to put  `!pip install mnist` in a cell by itself."
   ]
  },
  {
   "cell_type": "code",
   "execution_count": 3,
   "id": "bb6ad8a1",
   "metadata": {
    "execution": {
     "iopub.execute_input": "2022-09-17T00:42:19.996772Z",
     "iopub.status.busy": "2022-09-17T00:42:19.996094Z",
     "iopub.status.idle": "2022-09-17T00:42:21.826345Z",
     "shell.execute_reply": "2022-09-17T00:42:21.825677Z"
    },
    "papermill": {
     "duration": 1.859941,
     "end_time": "2022-09-17T00:42:21.826580",
     "exception": false,
     "start_time": "2022-09-17T00:42:19.966639",
     "status": "completed"
    },
    "tags": []
   },
   "outputs": [
    {
     "name": "stdout",
     "output_type": "stream",
     "text": [
      "Collecting mnist\r\n"
     ]
    },
    {
     "name": "stdout",
     "output_type": "stream",
     "text": [
      "  Downloading mnist-0.2.2-py2.py3-none-any.whl (3.5 kB)\r\n"
     ]
    },
    {
     "name": "stdout",
     "output_type": "stream",
     "text": [
      "Requirement already satisfied: numpy in /opt/hostedtoolcache/Python/3.6.15/x64/lib/python3.6/site-packages (from mnist) (1.19.5)\r\n"
     ]
    },
    {
     "name": "stdout",
     "output_type": "stream",
     "text": [
      "Installing collected packages: mnist\r\n"
     ]
    },
    {
     "name": "stdout",
     "output_type": "stream",
     "text": [
      "Successfully installed mnist-0.2.2\r\n"
     ]
    }
   ],
   "source": [
    "!pip install mnist"
   ]
  },
  {
   "cell_type": "markdown",
   "id": "69df9c9a",
   "metadata": {
    "papermill": {
     "duration": 0.028049,
     "end_time": "2022-09-17T00:42:21.884246",
     "exception": false,
     "start_time": "2022-09-17T00:42:21.856197",
     "status": "completed"
    },
    "tags": []
   },
   "source": [
    "## Preparing the Data"
   ]
  },
  {
   "cell_type": "code",
   "execution_count": 4,
   "id": "7f69d806",
   "metadata": {
    "execution": {
     "iopub.execute_input": "2022-09-17T00:42:21.963897Z",
     "iopub.status.busy": "2022-09-17T00:42:21.953189Z",
     "iopub.status.idle": "2022-09-17T00:42:21.970632Z",
     "shell.execute_reply": "2022-09-17T00:42:21.969952Z"
    },
    "papermill": {
     "duration": 0.054774,
     "end_time": "2022-09-17T00:42:21.970790",
     "exception": false,
     "start_time": "2022-09-17T00:42:21.916016",
     "status": "completed"
    },
    "tags": []
   },
   "outputs": [],
   "source": [
    "import mnist"
   ]
  },
  {
   "cell_type": "code",
   "execution_count": 5,
   "id": "a411e44f",
   "metadata": {
    "execution": {
     "iopub.execute_input": "2022-09-17T00:42:22.043315Z",
     "iopub.status.busy": "2022-09-17T00:42:22.038352Z",
     "iopub.status.idle": "2022-09-17T00:42:22.668453Z",
     "shell.execute_reply": "2022-09-17T00:42:22.667055Z"
    },
    "papermill": {
     "duration": 0.667803,
     "end_time": "2022-09-17T00:42:22.668599",
     "exception": false,
     "start_time": "2022-09-17T00:42:22.000796",
     "status": "completed"
    },
    "tags": []
   },
   "outputs": [],
   "source": [
    "train_images = mnist.train_images()\n",
    "train_labels = mnist.train_labels()"
   ]
  },
  {
   "cell_type": "code",
   "execution_count": 6,
   "id": "dceab3a5",
   "metadata": {
    "execution": {
     "iopub.execute_input": "2022-09-17T00:42:22.731511Z",
     "iopub.status.busy": "2022-09-17T00:42:22.728819Z",
     "iopub.status.idle": "2022-09-17T00:42:22.748366Z",
     "shell.execute_reply": "2022-09-17T00:42:22.747784Z"
    },
    "papermill": {
     "duration": 0.051611,
     "end_time": "2022-09-17T00:42:22.748513",
     "exception": false,
     "start_time": "2022-09-17T00:42:22.696902",
     "status": "completed"
    },
    "tags": []
   },
   "outputs": [
    {
     "data": {
      "text/plain": [
       "((60000, 28, 28), (60000,))"
      ]
     },
     "execution_count": 6,
     "metadata": {},
     "output_type": "execute_result"
    }
   ],
   "source": [
    "train_images.shape, train_labels.shape"
   ]
  },
  {
   "cell_type": "code",
   "execution_count": 7,
   "id": "f50dc2bb",
   "metadata": {
    "execution": {
     "iopub.execute_input": "2022-09-17T00:42:22.811861Z",
     "iopub.status.busy": "2022-09-17T00:42:22.811193Z",
     "iopub.status.idle": "2022-09-17T00:42:23.072339Z",
     "shell.execute_reply": "2022-09-17T00:42:23.071645Z"
    },
    "papermill": {
     "duration": 0.292793,
     "end_time": "2022-09-17T00:42:23.072474",
     "exception": false,
     "start_time": "2022-09-17T00:42:22.779681",
     "status": "completed"
    },
    "tags": []
   },
   "outputs": [],
   "source": [
    "test_images = mnist.test_images()\n",
    "test_labels = mnist.test_labels()"
   ]
  },
  {
   "cell_type": "code",
   "execution_count": 8,
   "id": "fc38cf1b",
   "metadata": {
    "execution": {
     "iopub.execute_input": "2022-09-17T00:42:23.136593Z",
     "iopub.status.busy": "2022-09-17T00:42:23.135704Z",
     "iopub.status.idle": "2022-09-17T00:42:23.149077Z",
     "shell.execute_reply": "2022-09-17T00:42:23.149697Z"
    },
    "papermill": {
     "duration": 0.047843,
     "end_time": "2022-09-17T00:42:23.149817",
     "exception": false,
     "start_time": "2022-09-17T00:42:23.101974",
     "status": "completed"
    },
    "tags": []
   },
   "outputs": [
    {
     "data": {
      "text/plain": [
       "((10000, 28, 28), (10000,))"
      ]
     },
     "execution_count": 8,
     "metadata": {},
     "output_type": "execute_result"
    }
   ],
   "source": [
    "test_images.shape, test_labels.shape"
   ]
  },
  {
   "cell_type": "code",
   "execution_count": 9,
   "id": "f9ed8fe0",
   "metadata": {
    "execution": {
     "iopub.execute_input": "2022-09-17T00:42:23.214610Z",
     "iopub.status.busy": "2022-09-17T00:42:23.213829Z",
     "iopub.status.idle": "2022-09-17T00:42:23.389283Z",
     "shell.execute_reply": "2022-09-17T00:42:23.388651Z"
    },
    "papermill": {
     "duration": 0.208634,
     "end_time": "2022-09-17T00:42:23.389442",
     "exception": false,
     "start_time": "2022-09-17T00:42:23.180808",
     "status": "completed"
    },
    "tags": []
   },
   "outputs": [
    {
     "name": "stdout",
     "output_type": "stream",
     "text": [
      "2\n"
     ]
    },
    {
     "data": {
      "text/plain": [
       "<matplotlib.image.AxesImage at 0x7fbd00096c88>"
      ]
     },
     "execution_count": 9,
     "metadata": {},
     "output_type": "execute_result"
    },
    {
     "data": {
      "image/png": "[encoded data removed]",
      "text/plain": [
       "<Figure size 432x288 with 1 Axes>"
      ]
     },
     "metadata": {
      "needs_background": "light"
     },
     "output_type": "display_data"
    }
   ],
   "source": [
    "image_index = 7776 # You may select anything up to 60,000\n",
    "print(train_labels[image_index]) \n",
    "plt.imshow(train_images[image_index], cmap='Greys')"
   ]
  },
  {
   "cell_type": "markdown",
   "id": "a8d2388d",
   "metadata": {
    "papermill": {
     "duration": 0.031957,
     "end_time": "2022-09-17T00:42:23.451212",
     "exception": false,
     "start_time": "2022-09-17T00:42:23.419255",
     "status": "completed"
    },
    "tags": []
   },
   "source": [
    "## Filter data to get 3 and 8 out"
   ]
  },
  {
   "cell_type": "code",
   "execution_count": 10,
   "id": "776f7fc7",
   "metadata": {
    "execution": {
     "iopub.execute_input": "2022-09-17T00:42:23.511959Z",
     "iopub.status.busy": "2022-09-17T00:42:23.511305Z",
     "iopub.status.idle": "2022-09-17T00:42:23.530935Z",
     "shell.execute_reply": "2022-09-17T00:42:23.530412Z"
    },
    "papermill": {
     "duration": 0.051089,
     "end_time": "2022-09-17T00:42:23.531052",
     "exception": false,
     "start_time": "2022-09-17T00:42:23.479963",
     "status": "completed"
    },
    "tags": []
   },
   "outputs": [],
   "source": [
    "train_filter = np.where((train_labels == 3 ) | (train_labels == 8))\n",
    "test_filter = np.where((test_labels == 3) | (test_labels == 8))\n",
    "X_train, y_train = train_images[train_filter], train_labels[train_filter]\n",
    "X_test, y_test = test_images[test_filter], test_labels[test_filter]"
   ]
  },
  {
   "cell_type": "markdown",
   "id": "948f0b7e",
   "metadata": {
    "papermill": {
     "duration": 0.027982,
     "end_time": "2022-09-17T00:42:23.588791",
     "exception": false,
     "start_time": "2022-09-17T00:42:23.560809",
     "status": "completed"
    },
    "tags": []
   },
   "source": [
    "We normalize the pizel values in the 0 to 1 range"
   ]
  },
  {
   "cell_type": "code",
   "execution_count": 11,
   "id": "ee4c2166",
   "metadata": {
    "execution": {
     "iopub.execute_input": "2022-09-17T00:42:23.667164Z",
     "iopub.status.busy": "2022-09-17T00:42:23.661513Z",
     "iopub.status.idle": "2022-09-17T00:42:23.720067Z",
     "shell.execute_reply": "2022-09-17T00:42:23.719400Z"
    },
    "papermill": {
     "duration": 0.100271,
     "end_time": "2022-09-17T00:42:23.720198",
     "exception": false,
     "start_time": "2022-09-17T00:42:23.619927",
     "status": "completed"
    },
    "tags": []
   },
   "outputs": [],
   "source": [
    "X_train = X_train/255.\n",
    "X_test = X_test/255."
   ]
  },
  {
   "cell_type": "markdown",
   "id": "ddcf4fab",
   "metadata": {
    "papermill": {
     "duration": 0.030239,
     "end_time": "2022-09-17T00:42:23.779355",
     "exception": false,
     "start_time": "2022-09-17T00:42:23.749116",
     "status": "completed"
    },
    "tags": []
   },
   "source": [
    "And setup the labels as 1 (when the digit is 3) and 0 (when the digit is 8)"
   ]
  },
  {
   "cell_type": "code",
   "execution_count": 12,
   "id": "7dc908f2",
   "metadata": {
    "execution": {
     "iopub.execute_input": "2022-09-17T00:42:23.847350Z",
     "iopub.status.busy": "2022-09-17T00:42:23.846742Z",
     "iopub.status.idle": "2022-09-17T00:42:23.859132Z",
     "shell.execute_reply": "2022-09-17T00:42:23.858540Z"
    },
    "papermill": {
     "duration": 0.047492,
     "end_time": "2022-09-17T00:42:23.859293",
     "exception": false,
     "start_time": "2022-09-17T00:42:23.811801",
     "status": "completed"
    },
    "tags": []
   },
   "outputs": [],
   "source": [
    "y_train = 1*(y_train==3)\n",
    "y_test = 1*(y_test==3)"
   ]
  },
  {
   "cell_type": "code",
   "execution_count": 13,
   "id": "01e4e969",
   "metadata": {
    "execution": {
     "iopub.execute_input": "2022-09-17T00:42:23.925695Z",
     "iopub.status.busy": "2022-09-17T00:42:23.925057Z",
     "iopub.status.idle": "2022-09-17T00:42:23.939013Z",
     "shell.execute_reply": "2022-09-17T00:42:23.939573Z"
    },
    "papermill": {
     "duration": 0.051048,
     "end_time": "2022-09-17T00:42:23.939693",
     "exception": false,
     "start_time": "2022-09-17T00:42:23.888645",
     "status": "completed"
    },
    "tags": []
   },
   "outputs": [
    {
     "data": {
      "text/plain": [
       "((11982, 28, 28), (1984, 28, 28))"
      ]
     },
     "execution_count": 13,
     "metadata": {},
     "output_type": "execute_result"
    }
   ],
   "source": [
    "X_train.shape, X_test.shape"
   ]
  },
  {
   "cell_type": "markdown",
   "id": "5ccf3f85",
   "metadata": {
    "papermill": {
     "duration": 0.029907,
     "end_time": "2022-09-17T00:42:24.001135",
     "exception": false,
     "start_time": "2022-09-17T00:42:23.971228",
     "status": "completed"
    },
    "tags": []
   },
   "source": [
    "We reshape the data to flatten the image pixels into a set of features or co-variates:"
   ]
  },
  {
   "cell_type": "code",
   "execution_count": 14,
   "id": "5286a4a3",
   "metadata": {
    "execution": {
     "iopub.execute_input": "2022-09-17T00:42:24.069499Z",
     "iopub.status.busy": "2022-09-17T00:42:24.068775Z",
     "iopub.status.idle": "2022-09-17T00:42:24.083347Z",
     "shell.execute_reply": "2022-09-17T00:42:24.082540Z"
    },
    "papermill": {
     "duration": 0.050506,
     "end_time": "2022-09-17T00:42:24.083454",
     "exception": false,
     "start_time": "2022-09-17T00:42:24.032948",
     "status": "completed"
    },
    "tags": []
   },
   "outputs": [
    {
     "data": {
      "text/plain": [
       "((11982, 784), (1984, 784))"
      ]
     },
     "execution_count": 14,
     "metadata": {},
     "output_type": "execute_result"
    }
   ],
   "source": [
    "X_train = X_train.reshape(X_train.shape[0], -1)\n",
    "X_test = X_test.reshape(X_test.shape[0], -1)\n",
    "X_train.shape, X_test.shape"
   ]
  },
  {
   "cell_type": "code",
   "execution_count": 15,
   "id": "73c5f88a",
   "metadata": {
    "execution": {
     "iopub.execute_input": "2022-09-17T00:42:24.142909Z",
     "iopub.status.busy": "2022-09-17T00:42:24.142216Z",
     "iopub.status.idle": "2022-09-17T00:42:24.160395Z",
     "shell.execute_reply": "2022-09-17T00:42:24.160849Z"
    },
    "papermill": {
     "duration": 0.049771,
     "end_time": "2022-09-17T00:42:24.160960",
     "exception": false,
     "start_time": "2022-09-17T00:42:24.111189",
     "status": "completed"
    },
    "tags": []
   },
   "outputs": [],
   "source": [
    "#Impoting functions from 'Kudzu'\n",
    "from kudzu.model import Model\n",
    "from kudzu.train import Learner\n",
    "from kudzu.optim import GD\n",
    "from kudzu.data import Data, Sampler,Dataloader\n",
    "\n",
    "from kudzu.callbacks import AccCallback\n",
    "from kudzu.callbacks import ClfCallback\n",
    "\n",
    "from kudzu.loss import MSE\n",
    "\n",
    "from kudzu.layer import Sigmoid,Relu\n",
    "from kudzu.layer import Affine"
   ]
  },
  {
   "cell_type": "markdown",
   "id": "bc01172a",
   "metadata": {
    "papermill": {
     "duration": 0.030104,
     "end_time": "2022-09-17T00:42:24.219880",
     "exception": false,
     "start_time": "2022-09-17T00:42:24.189776",
     "status": "completed"
    },
    "tags": []
   },
   "source": [
    "### Let us create a `Config` class, to store important parameters. \n",
    "This class essentially plays the role of a dictionary."
   ]
  },
  {
   "cell_type": "code",
   "execution_count": 16,
   "id": "978281aa",
   "metadata": {
    "execution": {
     "iopub.execute_input": "2022-09-17T00:42:24.283349Z",
     "iopub.status.busy": "2022-09-17T00:42:24.282646Z",
     "iopub.status.idle": "2022-09-17T00:42:24.297297Z",
     "shell.execute_reply": "2022-09-17T00:42:24.297831Z"
    },
    "papermill": {
     "duration": 0.04933,
     "end_time": "2022-09-17T00:42:24.297956",
     "exception": false,
     "start_time": "2022-09-17T00:42:24.248626",
     "status": "completed"
    },
    "tags": []
   },
   "outputs": [],
   "source": [
    "class Config:\n",
    "    pass\n",
    "config = Config()\n",
    "config.lr = 0.001\n",
    "config.num_epochs = 250\n",
    "config.bs = 50"
   ]
  },
  {
   "cell_type": "markdown",
   "id": "1385fa59",
   "metadata": {
    "papermill": {
     "duration": 0.0297,
     "end_time": "2022-09-17T00:42:24.356674",
     "exception": false,
     "start_time": "2022-09-17T00:42:24.326974",
     "status": "completed"
    },
    "tags": []
   },
   "source": [
    "### Running Models with the Training data\n",
    "Details about the network layers:\n",
    "- A first affine layer has 784 inputs and does 100 affine transforms. These are followed by a Relu\n",
    "- A second affine layer has 100 inputs from the 100 activations of the past layer, and does 100 affine transforms. These are followed by a Relu\n",
    "- A third affine layer has 100 activations and does 2 affine transformations to create an embedding for visualization. There is no non-linearity here.\n",
    "- A final \"logistic regression\" which has an affine transform from 2 inputs to 1 output, which is squeezed through a sigmoid.\n"
   ]
  },
  {
   "cell_type": "code",
   "execution_count": 17,
   "id": "2b9c66db",
   "metadata": {
    "execution": {
     "iopub.execute_input": "2022-09-17T00:42:24.428248Z",
     "iopub.status.busy": "2022-09-17T00:42:24.427629Z",
     "iopub.status.idle": "2022-09-17T00:42:24.439054Z",
     "shell.execute_reply": "2022-09-17T00:42:24.438339Z"
    },
    "papermill": {
     "duration": 0.054519,
     "end_time": "2022-09-17T00:42:24.439167",
     "exception": false,
     "start_time": "2022-09-17T00:42:24.384648",
     "status": "completed"
    },
    "tags": []
   },
   "outputs": [],
   "source": [
    "data = Data(X_train, y_train.reshape(-1,1))\n",
    "sampler = Sampler(data, config.bs, shuffle=True)\n",
    "\n",
    "dl = Dataloader(data, sampler)\n",
    "\n",
    "opt = GD(config.lr)\n",
    "loss = MSE()"
   ]
  },
  {
   "cell_type": "code",
   "execution_count": 18,
   "id": "b275e4c2",
   "metadata": {
    "execution": {
     "iopub.execute_input": "2022-09-17T00:42:24.505152Z",
     "iopub.status.busy": "2022-09-17T00:42:24.504350Z",
     "iopub.status.idle": "2022-09-17T00:42:24.517386Z",
     "shell.execute_reply": "2022-09-17T00:42:24.517993Z"
    },
    "papermill": {
     "duration": 0.04639,
     "end_time": "2022-09-17T00:42:24.518111",
     "exception": false,
     "start_time": "2022-09-17T00:42:24.471721",
     "status": "completed"
    },
    "tags": []
   },
   "outputs": [],
   "source": [
    "training_data_x = X_train\n",
    "testing_data_x = X_test\n",
    "training_data_y = y_train.reshape(-1,1)\n",
    "testing_data_y = y_test.reshape(-1,1)"
   ]
  },
  {
   "cell_type": "code",
   "execution_count": 19,
   "id": "76951160",
   "metadata": {
    "execution": {
     "iopub.execute_input": "2022-09-17T00:42:24.580657Z",
     "iopub.status.busy": "2022-09-17T00:42:24.579995Z",
     "iopub.status.idle": "2022-09-17T00:42:24.597170Z",
     "shell.execute_reply": "2022-09-17T00:42:24.597659Z"
    },
    "papermill": {
     "duration": 0.051644,
     "end_time": "2022-09-17T00:42:24.597784",
     "exception": false,
     "start_time": "2022-09-17T00:42:24.546140",
     "status": "completed"
    },
    "tags": []
   },
   "outputs": [
    {
     "name": "stdout",
     "output_type": "stream",
     "text": [
      "xavier\n",
      "xavier\n",
      "xavier\n",
      "xavier\n",
      "xavier\n"
     ]
    }
   ],
   "source": [
    "layers = [Affine(\"first\", 784, 100), Relu(\"first\"), Affine(\"second\", 100, 100), Relu(\"second\"), Affine(\"third\", 100, 2), Affine(\"last\", 2, 1), Sigmoid(\"last\")]\n",
    "model_nn = Model(layers)\n",
    "model_lr = Model([Affine(\"logits\", 784, 1), Sigmoid(\"sigmoid\")])"
   ]
  },
  {
   "cell_type": "code",
   "execution_count": 20,
   "id": "6eede77a",
   "metadata": {
    "execution": {
     "iopub.execute_input": "2022-09-17T00:42:24.661731Z",
     "iopub.status.busy": "2022-09-17T00:42:24.661083Z",
     "iopub.status.idle": "2022-09-17T00:42:24.674949Z",
     "shell.execute_reply": "2022-09-17T00:42:24.674319Z"
    },
    "papermill": {
     "duration": 0.047915,
     "end_time": "2022-09-17T00:42:24.675104",
     "exception": false,
     "start_time": "2022-09-17T00:42:24.627189",
     "status": "completed"
    },
    "tags": []
   },
   "outputs": [],
   "source": [
    "nn_learner = Learner(loss, model_nn, opt, config.num_epochs)\n",
    "acc_nn = ClfCallback(nn_learner, config.bs, training_data_x , testing_data_x, training_data_y, testing_data_y)\n",
    "nn_learner.set_callbacks([acc_nn])"
   ]
  },
  {
   "cell_type": "code",
   "execution_count": 21,
   "id": "877b6cc7",
   "metadata": {
    "execution": {
     "iopub.execute_input": "2022-09-17T00:42:24.745925Z",
     "iopub.status.busy": "2022-09-17T00:42:24.745110Z",
     "iopub.status.idle": "2022-09-17T00:42:24.758833Z",
     "shell.execute_reply": "2022-09-17T00:42:24.759383Z"
    },
    "papermill": {
     "duration": 0.051853,
     "end_time": "2022-09-17T00:42:24.759662",
     "exception": false,
     "start_time": "2022-09-17T00:42:24.707809",
     "status": "completed"
    },
    "tags": []
   },
   "outputs": [],
   "source": [
    "lr_learner = Learner(loss, model_lr, opt, config.num_epochs)\n",
    "acc_lr = ClfCallback(lr_learner, config.bs, training_data_x , testing_data_x, training_data_y, testing_data_y)\n",
    "lr_learner.set_callbacks([acc_lr])"
   ]
  },
  {
   "cell_type": "code",
   "execution_count": 22,
   "id": "d9b133c3",
   "metadata": {
    "execution": {
     "iopub.execute_input": "2022-09-17T00:42:24.826349Z",
     "iopub.status.busy": "2022-09-17T00:42:24.825736Z",
     "iopub.status.idle": "2022-09-17T00:44:40.974059Z",
     "shell.execute_reply": "2022-09-17T00:44:40.975033Z"
    },
    "papermill": {
     "duration": 136.184782,
     "end_time": "2022-09-17T00:44:40.975185",
     "exception": false,
     "start_time": "2022-09-17T00:42:24.790403",
     "status": "completed"
    },
    "tags": []
   },
   "outputs": [
    {
     "name": "stdout",
     "output_type": "stream",
     "text": [
      "Epoch 0, Loss 0.2493\n",
      "Training Accuracy: 0.6338, Testing Accuracy: 0.6507\n",
      "\n"
     ]
    },
    {
     "name": "stdout",
     "output_type": "stream",
     "text": [
      "Epoch 10, Loss 0.0954\n",
      "Training Accuracy: 0.9108, Testing Accuracy: 0.9239\n",
      "\n"
     ]
    },
    {
     "name": "stdout",
     "output_type": "stream",
     "text": [
      "Epoch 20, Loss 0.0587\n",
      "Training Accuracy: 0.9383, Testing Accuracy: 0.9506\n",
      "\n"
     ]
    },
    {
     "name": "stdout",
     "output_type": "stream",
     "text": [
      "Epoch 30, Loss 0.046\n",
      "Training Accuracy: 0.9504, Testing Accuracy: 0.9597\n",
      "\n"
     ]
    },
    {
     "name": "stdout",
     "output_type": "stream",
     "text": [
      "Epoch 40, Loss 0.0395\n",
      "Training Accuracy: 0.9563, Testing Accuracy: 0.9617\n",
      "\n"
     ]
    },
    {
     "name": "stdout",
     "output_type": "stream",
     "text": [
      "Epoch 50, Loss 0.0354\n",
      "Training Accuracy: 0.9611, Testing Accuracy: 0.9667\n",
      "\n"
     ]
    },
    {
     "name": "stdout",
     "output_type": "stream",
     "text": [
      "Epoch 60, Loss 0.0327\n",
      "Training Accuracy: 0.9647, Testing Accuracy: 0.9677\n",
      "\n"
     ]
    },
    {
     "name": "stdout",
     "output_type": "stream",
     "text": [
      "Epoch 70, Loss 0.0306\n",
      "Training Accuracy: 0.9658, Testing Accuracy: 0.9682\n",
      "\n"
     ]
    },
    {
     "name": "stdout",
     "output_type": "stream",
     "text": [
      "Epoch 80, Loss 0.0289\n",
      "Training Accuracy: 0.9675, Testing Accuracy: 0.9693\n",
      "\n"
     ]
    },
    {
     "name": "stdout",
     "output_type": "stream",
     "text": [
      "Epoch 90, Loss 0.0275\n",
      "Training Accuracy: 0.9690, Testing Accuracy: 0.9698\n",
      "\n"
     ]
    },
    {
     "name": "stdout",
     "output_type": "stream",
     "text": [
      "Epoch 100, Loss 0.0264\n",
      "Training Accuracy: 0.9704, Testing Accuracy: 0.9703\n",
      "\n"
     ]
    },
    {
     "name": "stdout",
     "output_type": "stream",
     "text": [
      "Epoch 110, Loss 0.0254\n",
      "Training Accuracy: 0.9713, Testing Accuracy: 0.9708\n",
      "\n"
     ]
    },
    {
     "name": "stdout",
     "output_type": "stream",
     "text": [
      "Epoch 120, Loss 0.0246\n",
      "Training Accuracy: 0.9721, Testing Accuracy: 0.9713\n",
      "\n"
     ]
    },
    {
     "name": "stdout",
     "output_type": "stream",
     "text": [
      "Epoch 130, Loss 0.0238\n",
      "Training Accuracy: 0.9732, Testing Accuracy: 0.9728\n",
      "\n"
     ]
    },
    {
     "name": "stdout",
     "output_type": "stream",
     "text": [
      "Epoch 140, Loss 0.0231\n",
      "Training Accuracy: 0.9736, Testing Accuracy: 0.9733\n",
      "\n"
     ]
    },
    {
     "name": "stdout",
     "output_type": "stream",
     "text": [
      "Epoch 150, Loss 0.0225\n",
      "Training Accuracy: 0.9748, Testing Accuracy: 0.9733\n",
      "\n"
     ]
    },
    {
     "name": "stdout",
     "output_type": "stream",
     "text": [
      "Epoch 160, Loss 0.0219\n",
      "Training Accuracy: 0.9757, Testing Accuracy: 0.9738\n",
      "\n"
     ]
    },
    {
     "name": "stdout",
     "output_type": "stream",
     "text": [
      "Epoch 170, Loss 0.0214\n",
      "Training Accuracy: 0.9760, Testing Accuracy: 0.9733\n",
      "\n"
     ]
    },
    {
     "name": "stdout",
     "output_type": "stream",
     "text": [
      "Epoch 180, Loss 0.0209\n",
      "Training Accuracy: 0.9768, Testing Accuracy: 0.9743\n",
      "\n"
     ]
    },
    {
     "name": "stdout",
     "output_type": "stream",
     "text": [
      "Epoch 190, Loss 0.0204\n",
      "Training Accuracy: 0.9770, Testing Accuracy: 0.9753\n",
      "\n"
     ]
    },
    {
     "name": "stdout",
     "output_type": "stream",
     "text": [
      "Epoch 200, Loss 0.02\n",
      "Training Accuracy: 0.9775, Testing Accuracy: 0.9753\n",
      "\n"
     ]
    },
    {
     "name": "stdout",
     "output_type": "stream",
     "text": [
      "Epoch 210, Loss 0.0195\n",
      "Training Accuracy: 0.9780, Testing Accuracy: 0.9768\n",
      "\n"
     ]
    },
    {
     "name": "stdout",
     "output_type": "stream",
     "text": [
      "Epoch 220, Loss 0.0191\n",
      "Training Accuracy: 0.9788, Testing Accuracy: 0.9768\n",
      "\n"
     ]
    },
    {
     "name": "stdout",
     "output_type": "stream",
     "text": [
      "Epoch 230, Loss 0.0188\n",
      "Training Accuracy: 0.9791, Testing Accuracy: 0.9768\n",
      "\n"
     ]
    },
    {
     "name": "stdout",
     "output_type": "stream",
     "text": [
      "Epoch 240, Loss 0.0184\n",
      "Training Accuracy: 0.9795, Testing Accuracy: 0.9773\n",
      "\n"
     ]
    },
    {
     "data": {
      "text/plain": [
       "0.022850489408680254"
      ]
     },
     "execution_count": 22,
     "metadata": {},
     "output_type": "execute_result"
    }
   ],
   "source": [
    "nn_learner.train_loop(dl)"
   ]
  },
  {
   "cell_type": "code",
   "execution_count": 23,
   "id": "e0163366",
   "metadata": {
    "execution": {
     "iopub.execute_input": "2022-09-17T00:44:41.075514Z",
     "iopub.status.busy": "2022-09-17T00:44:41.074673Z",
     "iopub.status.idle": "2022-09-17T00:45:00.400668Z",
     "shell.execute_reply": "2022-09-17T00:45:00.401651Z"
    },
    "papermill": {
     "duration": 19.383081,
     "end_time": "2022-09-17T00:45:00.401831",
     "exception": false,
     "start_time": "2022-09-17T00:44:41.018750",
     "status": "completed"
    },
    "tags": []
   },
   "outputs": [
    {
     "name": "stdout",
     "output_type": "stream",
     "text": [
      "Epoch 0, Loss 0.2253\n",
      "Training Accuracy: 0.7430, Testing Accuracy: 0.7596\n",
      "\n"
     ]
    },
    {
     "name": "stdout",
     "output_type": "stream",
     "text": [
      "Epoch 10, Loss 0.1012\n",
      "Training Accuracy: 0.9100, Testing Accuracy: 0.9178\n",
      "\n"
     ]
    },
    {
     "name": "stdout",
     "output_type": "stream",
     "text": [
      "Epoch 20, Loss 0.0785\n",
      "Training Accuracy: 0.9277, Testing Accuracy: 0.9360\n",
      "\n"
     ]
    },
    {
     "name": "stdout",
     "output_type": "stream",
     "text": [
      "Epoch 30, Loss 0.0678\n",
      "Training Accuracy: 0.9359, Testing Accuracy: 0.9461\n",
      "\n"
     ]
    },
    {
     "name": "stdout",
     "output_type": "stream",
     "text": [
      "Epoch 40, Loss 0.0613\n",
      "Training Accuracy: 0.9410, Testing Accuracy: 0.9511\n",
      "\n"
     ]
    },
    {
     "name": "stdout",
     "output_type": "stream",
     "text": [
      "Epoch 50, Loss 0.0569\n",
      "Training Accuracy: 0.9445, Testing Accuracy: 0.9556\n",
      "\n"
     ]
    },
    {
     "name": "stdout",
     "output_type": "stream",
     "text": [
      "Epoch 60, Loss 0.0536\n",
      "Training Accuracy: 0.9474, Testing Accuracy: 0.9592\n",
      "\n"
     ]
    },
    {
     "name": "stdout",
     "output_type": "stream",
     "text": [
      "Epoch 70, Loss 0.051\n",
      "Training Accuracy: 0.9494, Testing Accuracy: 0.9617\n",
      "\n"
     ]
    },
    {
     "name": "stdout",
     "output_type": "stream",
     "text": [
      "Epoch 80, Loss 0.049\n",
      "Training Accuracy: 0.9503, Testing Accuracy: 0.9617\n",
      "\n"
     ]
    },
    {
     "name": "stdout",
     "output_type": "stream",
     "text": [
      "Epoch 90, Loss 0.0473\n",
      "Training Accuracy: 0.9514, Testing Accuracy: 0.9637\n",
      "\n"
     ]
    },
    {
     "name": "stdout",
     "output_type": "stream",
     "text": [
      "Epoch 100, Loss 0.0459\n",
      "Training Accuracy: 0.9526, Testing Accuracy: 0.9637\n",
      "\n"
     ]
    },
    {
     "name": "stdout",
     "output_type": "stream",
     "text": [
      "Epoch 110, Loss 0.0447\n",
      "Training Accuracy: 0.9534, Testing Accuracy: 0.9647\n",
      "\n"
     ]
    },
    {
     "name": "stdout",
     "output_type": "stream",
     "text": [
      "Epoch 120, Loss 0.0436\n",
      "Training Accuracy: 0.9543, Testing Accuracy: 0.9657\n",
      "\n"
     ]
    },
    {
     "name": "stdout",
     "output_type": "stream",
     "text": [
      "Epoch 130, Loss 0.0427\n",
      "Training Accuracy: 0.9557, Testing Accuracy: 0.9662\n",
      "\n"
     ]
    },
    {
     "name": "stdout",
     "output_type": "stream",
     "text": [
      "Epoch 140, Loss 0.0418\n",
      "Training Accuracy: 0.9565, Testing Accuracy: 0.9662\n",
      "\n"
     ]
    },
    {
     "name": "stdout",
     "output_type": "stream",
     "text": [
      "Epoch 150, Loss 0.0411\n",
      "Training Accuracy: 0.9569, Testing Accuracy: 0.9657\n",
      "\n"
     ]
    },
    {
     "name": "stdout",
     "output_type": "stream",
     "text": [
      "Epoch 160, Loss 0.0404\n",
      "Training Accuracy: 0.9570, Testing Accuracy: 0.9657\n",
      "\n"
     ]
    },
    {
     "name": "stdout",
     "output_type": "stream",
     "text": [
      "Epoch 170, Loss 0.0398\n",
      "Training Accuracy: 0.9574, Testing Accuracy: 0.9657\n",
      "\n"
     ]
    },
    {
     "name": "stdout",
     "output_type": "stream",
     "text": [
      "Epoch 180, Loss 0.0392\n",
      "Training Accuracy: 0.9579, Testing Accuracy: 0.9662\n",
      "\n"
     ]
    },
    {
     "name": "stdout",
     "output_type": "stream",
     "text": [
      "Epoch 190, Loss 0.0387\n",
      "Training Accuracy: 0.9581, Testing Accuracy: 0.9652\n",
      "\n"
     ]
    },
    {
     "name": "stdout",
     "output_type": "stream",
     "text": [
      "Epoch 200, Loss 0.0382\n",
      "Training Accuracy: 0.9588, Testing Accuracy: 0.9657\n",
      "\n"
     ]
    },
    {
     "name": "stdout",
     "output_type": "stream",
     "text": [
      "Epoch 210, Loss 0.0378\n",
      "Training Accuracy: 0.9594, Testing Accuracy: 0.9662\n",
      "\n"
     ]
    },
    {
     "name": "stdout",
     "output_type": "stream",
     "text": [
      "Epoch 220, Loss 0.0374\n",
      "Training Accuracy: 0.9599, Testing Accuracy: 0.9662\n",
      "\n"
     ]
    },
    {
     "name": "stdout",
     "output_type": "stream",
     "text": [
      "Epoch 230, Loss 0.037\n",
      "Training Accuracy: 0.9603, Testing Accuracy: 0.9662\n",
      "\n"
     ]
    },
    {
     "name": "stdout",
     "output_type": "stream",
     "text": [
      "Epoch 240, Loss 0.0366\n",
      "Training Accuracy: 0.9606, Testing Accuracy: 0.9662\n",
      "\n"
     ]
    },
    {
     "data": {
      "text/plain": [
       "0.036756223029302884"
      ]
     },
     "execution_count": 23,
     "metadata": {},
     "output_type": "execute_result"
    }
   ],
   "source": [
    "lr_learner.train_loop(dl)"
   ]
  },
  {
   "cell_type": "code",
   "execution_count": 24,
   "id": "ca410940",
   "metadata": {
    "execution": {
     "iopub.execute_input": "2022-09-17T00:45:00.512313Z",
     "iopub.status.busy": "2022-09-17T00:45:00.511596Z",
     "iopub.status.idle": "2022-09-17T00:45:00.801875Z",
     "shell.execute_reply": "2022-09-17T00:45:00.801066Z"
    },
    "papermill": {
     "duration": 0.346907,
     "end_time": "2022-09-17T00:45:00.801999",
     "exception": false,
     "start_time": "2022-09-17T00:45:00.455092",
     "status": "completed"
    },
    "tags": []
   },
   "outputs": [
    {
     "data": {
      "text/plain": [
       "<matplotlib.legend.Legend at 0x7fbcffc04358>"
      ]
     },
     "execution_count": 24,
     "metadata": {},
     "output_type": "execute_result"
    },
    {
     "data": {
      "image/png": "[encoded data removed]",
      "text/plain": [
       "<Figure size 1080x720 with 1 Axes>"
      ]
     },
     "metadata": {
      "needs_background": "light"
     },
     "output_type": "display_data"
    }
   ],
   "source": [
    "#comparing the results of NN and LR\n",
    "plt.figure(figsize=(15,10))\n",
    "\n",
    "# Neural Network plots\n",
    "plt.plot(acc_nn.accuracies, 'r-', label = \"Training Accuracies - NN\")\n",
    "plt.plot(acc_nn.test_accuracies, 'g-', label = \"Testing Accuracies - NN\")\n",
    "\n",
    "# Logistic Regression plots\n",
    "plt.plot(acc_lr.accuracies, 'k-', label = \"Training Accuracies - LR\")\n",
    "plt.plot(acc_lr.test_accuracies, 'b-', label = \"Testing Accuracies - LR\")\n",
    "plt.legend()"
   ]
  },
  {
   "cell_type": "markdown",
   "id": "80dfb35c",
   "metadata": {
    "papermill": {
     "duration": 0.04309,
     "end_time": "2022-09-17T00:45:00.891046",
     "exception": false,
     "start_time": "2022-09-17T00:45:00.847956",
     "status": "completed"
    },
    "tags": []
   },
   "source": [
    "#### Plotting the outputs of this layer of the NN.\n"
   ]
  },
  {
   "cell_type": "code",
   "execution_count": 25,
   "id": "45eb2ff5",
   "metadata": {
    "execution": {
     "iopub.execute_input": "2022-09-17T00:45:00.990593Z",
     "iopub.status.busy": "2022-09-17T00:45:00.989702Z",
     "iopub.status.idle": "2022-09-17T00:45:01.016527Z",
     "shell.execute_reply": "2022-09-17T00:45:01.017244Z"
    },
    "papermill": {
     "duration": 0.082385,
     "end_time": "2022-09-17T00:45:01.017477",
     "exception": false,
     "start_time": "2022-09-17T00:45:00.935092",
     "status": "completed"
    },
    "tags": []
   },
   "outputs": [],
   "source": [
    "new_model = Model(layers[:-2])\n",
    "testing_plot = new_model(testing_data_x)"
   ]
  },
  {
   "cell_type": "code",
   "execution_count": 26,
   "id": "4c0a5485",
   "metadata": {
    "execution": {
     "iopub.execute_input": "2022-09-17T00:45:01.125510Z",
     "iopub.status.busy": "2022-09-17T00:45:01.124696Z",
     "iopub.status.idle": "2022-09-17T00:45:01.352337Z",
     "shell.execute_reply": "2022-09-17T00:45:01.351829Z"
    },
    "papermill": {
     "duration": 0.283573,
     "end_time": "2022-09-17T00:45:01.352459",
     "exception": false,
     "start_time": "2022-09-17T00:45:01.068886",
     "status": "completed"
    },
    "tags": []
   },
   "outputs": [
    {
     "data": {
      "text/plain": [
       "Text(0.5, 1.0, 'Outputs')"
      ]
     },
     "execution_count": 26,
     "metadata": {},
     "output_type": "execute_result"
    },
    {
     "data": {
      "image/png": "[encoded data removed]",
      "text/plain": [
       "<Figure size 576x504 with 1 Axes>"
      ]
     },
     "metadata": {
      "needs_background": "light"
     },
     "output_type": "display_data"
    }
   ],
   "source": [
    "# Plotting the scatter plot of points and color coding by class\n",
    "plt.figure(figsize=(8,7))\n",
    "plt.scatter(testing_plot[:,0], testing_plot[:,1], alpha = 0.1, c = y_test.ravel());\n",
    "plt.title('Outputs')"
   ]
  },
  {
   "cell_type": "markdown",
   "id": "a74fcf8f",
   "metadata": {
    "papermill": {
     "duration": 0.072464,
     "end_time": "2022-09-17T00:45:01.471925",
     "exception": false,
     "start_time": "2022-09-17T00:45:01.399461",
     "status": "completed"
    },
    "tags": []
   },
   "source": [
    "Probability contours"
   ]
  },
  {
   "cell_type": "code",
   "execution_count": 27,
   "id": "d0afc8e3",
   "metadata": {
    "execution": {
     "iopub.execute_input": "2022-09-17T00:45:01.576559Z",
     "iopub.status.busy": "2022-09-17T00:45:01.575642Z",
     "iopub.status.idle": "2022-09-17T00:45:01.587543Z",
     "shell.execute_reply": "2022-09-17T00:45:01.588019Z"
    },
    "papermill": {
     "duration": 0.066442,
     "end_time": "2022-09-17T00:45:01.588145",
     "exception": false,
     "start_time": "2022-09-17T00:45:01.521703",
     "status": "completed"
    },
    "tags": []
   },
   "outputs": [],
   "source": [
    "model_prob = Model(layers[-2:]) "
   ]
  },
  {
   "cell_type": "code",
   "execution_count": 28,
   "id": "9b96e238",
   "metadata": {
    "execution": {
     "iopub.execute_input": "2022-09-17T00:45:01.694161Z",
     "iopub.status.busy": "2022-09-17T00:45:01.693090Z",
     "iopub.status.idle": "2022-09-17T00:45:01.707118Z",
     "shell.execute_reply": "2022-09-17T00:45:01.706595Z"
    },
    "papermill": {
     "duration": 0.070425,
     "end_time": "2022-09-17T00:45:01.707239",
     "exception": false,
     "start_time": "2022-09-17T00:45:01.636814",
     "status": "completed"
    },
    "tags": []
   },
   "outputs": [],
   "source": [
    "#creating the x and y ranges according to the above generated plot.\n",
    "x_range = np.linspace(-4, 1, 100) \n",
    "y_range = np.linspace(-6, 6, 100) \n",
    "x_grid, y_grid = np.meshgrid(x_range, y_range) # x_grid and y_grig are of size 100 X 100\n",
    "\n",
    "# converting x_grid and y_grid to continuous arrays\n",
    "x_gridflat = np.ravel(x_grid)\n",
    "y_gridflat = np.ravel(y_grid)\n",
    "\n",
    "# The last layer of the current model takes two columns as input. Hence transpose of np.vstack() is required.\n",
    "X = np.vstack((x_gridflat, y_gridflat)).T\n",
    "\n",
    "prob_contour = model_prob(X).reshape(100,100) "
   ]
  },
  {
   "cell_type": "code",
   "execution_count": 29,
   "id": "da72499a",
   "metadata": {
    "execution": {
     "iopub.execute_input": "2022-09-17T00:45:01.832665Z",
     "iopub.status.busy": "2022-09-17T00:45:01.831876Z",
     "iopub.status.idle": "2022-09-17T00:45:02.130656Z",
     "shell.execute_reply": "2022-09-17T00:45:02.129947Z"
    },
    "papermill": {
     "duration": 0.360324,
     "end_time": "2022-09-17T00:45:02.130829",
     "exception": false,
     "start_time": "2022-09-17T00:45:01.770505",
     "status": "completed"
    },
    "tags": []
   },
   "outputs": [
    {
     "data": {
      "image/png": "[encoded data removed]",
      "text/plain": [
       "<Figure size 720x648 with 1 Axes>"
      ]
     },
     "metadata": {
      "needs_background": "light"
     },
     "output_type": "display_data"
    }
   ],
   "source": [
    "plt.figure(figsize=(10,9))\n",
    "plt.scatter(testing_plot[:,0], testing_plot[:,1], alpha = 0.1, c = y_test.ravel())\n",
    "contours = plt.contour(x_grid,y_grid,prob_contour)\n",
    "plt.title('Probability Contours')\n",
    "plt.clabel(contours, inline = True );"
   ]
  },
  {
   "cell_type": "code",
   "execution_count": null,
   "id": "e81b4ac7",
   "metadata": {
    "papermill": {
     "duration": 0.054469,
     "end_time": "2022-09-17T00:45:02.240774",
     "exception": false,
     "start_time": "2022-09-17T00:45:02.186305",
     "status": "completed"
    },
    "tags": []
   },
   "outputs": [],
   "source": []
  }
 ],
 "metadata": {
  "kernelspec": {
   "display_name": "Python 3",
   "language": "python",
   "name": "python3"
  },
  "language_info": {
   "codemirror_mode": {
    "name": "ipython",
    "version": 3
   },
   "file_extension": ".py",
   "mimetype": "text/x-python",
   "name": "python",
   "nbconvert_exporter": "python",
   "pygments_lexer": "ipython3",
   "version": "3.6.15"
  },
  "papermill": {
   "default_parameters": {},
   "duration": 164.91303,
   "end_time": "2022-09-17T00:45:02.716915",
   "environment_variables": {},
   "exception": null,
   "input_path": "2020-08-11-part2.ipynb",
   "output_path": "2020-08-11-part2.ipynb",
   "parameters": {},
   "start_time": "2022-09-17T00:42:17.803885",
   "version": "2.3.3"
  }
 },
 "nbformat": 4,
 "nbformat_minor": 5
}