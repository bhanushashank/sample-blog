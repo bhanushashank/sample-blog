{
 "cells": [
  {
   "cell_type": "markdown",
   "id": "98380cd3",
   "metadata": {
    "papermill": {
     "duration": 0.031187,
     "end_time": "2022-07-10T00:44:55.246176",
     "exception": false,
     "start_time": "2022-07-10T00:44:55.214989",
     "status": "completed"
    },
    "tags": []
   },
   "source": [
    "# Distinguish Your Own Digits (DYOD)"
   ]
  },
  {
   "cell_type": "markdown",
   "id": "ef31240d",
   "metadata": {
    "papermill": {
     "duration": 0.024163,
     "end_time": "2022-07-10T00:44:55.295264",
     "exception": false,
     "start_time": "2022-07-10T00:44:55.271101",
     "status": "completed"
    },
    "tags": []
   },
   "source": [
    "You are going to write a classifier that distinguishes between the number 3 and number 8."
   ]
  },
  {
   "cell_type": "code",
   "execution_count": 1,
   "id": "b15c8646",
   "metadata": {
    "execution": {
     "iopub.execute_input": "2022-07-10T00:44:55.354921Z",
     "iopub.status.busy": "2022-07-10T00:44:55.354295Z",
     "iopub.status.idle": "2022-07-10T00:44:55.365136Z",
     "shell.execute_reply": "2022-07-10T00:44:55.364613Z"
    },
    "papermill": {
     "duration": 0.045888,
     "end_time": "2022-07-10T00:44:55.365273",
     "exception": false,
     "start_time": "2022-07-10T00:44:55.319385",
     "status": "completed"
    },
    "tags": []
   },
   "outputs": [],
   "source": [
    "%load_ext autoreload\n",
    "%autoreload 2"
   ]
  },
  {
   "cell_type": "code",
   "execution_count": 2,
   "id": "22ef38dc",
   "metadata": {
    "execution": {
     "iopub.execute_input": "2022-07-10T00:44:55.418195Z",
     "iopub.status.busy": "2022-07-10T00:44:55.417560Z",
     "iopub.status.idle": "2022-07-10T00:44:55.981696Z",
     "shell.execute_reply": "2022-07-10T00:44:55.981057Z"
    },
    "papermill": {
     "duration": 0.592177,
     "end_time": "2022-07-10T00:44:55.981829",
     "exception": false,
     "start_time": "2022-07-10T00:44:55.389652",
     "status": "completed"
    },
    "tags": []
   },
   "outputs": [],
   "source": [
    "%matplotlib inline\n",
    "import numpy as np\n",
    "import matplotlib.pyplot as plt\n",
    "import pandas as pd"
   ]
  },
  {
   "cell_type": "markdown",
   "id": "ba036198",
   "metadata": {
    "papermill": {
     "duration": 0.025338,
     "end_time": "2022-07-10T00:44:56.031345",
     "exception": false,
     "start_time": "2022-07-10T00:44:56.006007",
     "status": "completed"
    },
    "tags": []
   },
   "source": [
    "From the command line run `pip install mnist`. This is a library that will help you bring down the mnist dataset. If you run this from a notebook, you need to put  `!pip install mnist` in a cell by itself."
   ]
  },
  {
   "cell_type": "code",
   "execution_count": 3,
   "id": "bb6ad8a1",
   "metadata": {
    "execution": {
     "iopub.execute_input": "2022-07-10T00:44:56.098695Z",
     "iopub.status.busy": "2022-07-10T00:44:56.094646Z",
     "iopub.status.idle": "2022-07-10T00:44:58.562300Z",
     "shell.execute_reply": "2022-07-10T00:44:58.561730Z"
    },
    "papermill": {
     "duration": 2.506941,
     "end_time": "2022-07-10T00:44:58.562425",
     "exception": false,
     "start_time": "2022-07-10T00:44:56.055484",
     "status": "completed"
    },
    "tags": []
   },
   "outputs": [
    {
     "name": "stdout",
     "output_type": "stream",
     "text": [
      "Collecting mnist\r\n"
     ]
    },
    {
     "name": "stdout",
     "output_type": "stream",
     "text": [
      "  Downloading mnist-0.2.2-py2.py3-none-any.whl (3.5 kB)\r\n",
      "Requirement already satisfied: numpy in /opt/hostedtoolcache/Python/3.6.15/x64/lib/python3.6/site-packages (from mnist) (1.19.5)\r\n"
     ]
    },
    {
     "name": "stdout",
     "output_type": "stream",
     "text": [
      "Installing collected packages: mnist\r\n",
      "Successfully installed mnist-0.2.2\r\n"
     ]
    }
   ],
   "source": [
    "!pip install mnist"
   ]
  },
  {
   "cell_type": "markdown",
   "id": "69df9c9a",
   "metadata": {
    "papermill": {
     "duration": 0.025092,
     "end_time": "2022-07-10T00:44:58.612519",
     "exception": false,
     "start_time": "2022-07-10T00:44:58.587427",
     "status": "completed"
    },
    "tags": []
   },
   "source": [
    "## Preparing the Data"
   ]
  },
  {
   "cell_type": "code",
   "execution_count": 4,
   "id": "7f69d806",
   "metadata": {
    "execution": {
     "iopub.execute_input": "2022-07-10T00:44:58.668436Z",
     "iopub.status.busy": "2022-07-10T00:44:58.667842Z",
     "iopub.status.idle": "2022-07-10T00:44:58.681428Z",
     "shell.execute_reply": "2022-07-10T00:44:58.680947Z"
    },
    "papermill": {
     "duration": 0.044383,
     "end_time": "2022-07-10T00:44:58.681545",
     "exception": false,
     "start_time": "2022-07-10T00:44:58.637162",
     "status": "completed"
    },
    "tags": []
   },
   "outputs": [],
   "source": [
    "import mnist"
   ]
  },
  {
   "cell_type": "code",
   "execution_count": 5,
   "id": "a411e44f",
   "metadata": {
    "execution": {
     "iopub.execute_input": "2022-07-10T00:44:58.735184Z",
     "iopub.status.busy": "2022-07-10T00:44:58.734609Z",
     "iopub.status.idle": "2022-07-10T00:44:59.299263Z",
     "shell.execute_reply": "2022-07-10T00:44:59.299764Z"
    },
    "papermill": {
     "duration": 0.59361,
     "end_time": "2022-07-10T00:44:59.299916",
     "exception": false,
     "start_time": "2022-07-10T00:44:58.706306",
     "status": "completed"
    },
    "tags": []
   },
   "outputs": [],
   "source": [
    "train_images = mnist.train_images()\n",
    "train_labels = mnist.train_labels()"
   ]
  },
  {
   "cell_type": "code",
   "execution_count": 6,
   "id": "dceab3a5",
   "metadata": {
    "execution": {
     "iopub.execute_input": "2022-07-10T00:44:59.353992Z",
     "iopub.status.busy": "2022-07-10T00:44:59.353361Z",
     "iopub.status.idle": "2022-07-10T00:44:59.369538Z",
     "shell.execute_reply": "2022-07-10T00:44:59.369052Z"
    },
    "papermill": {
     "duration": 0.044715,
     "end_time": "2022-07-10T00:44:59.369674",
     "exception": false,
     "start_time": "2022-07-10T00:44:59.324959",
     "status": "completed"
    },
    "tags": []
   },
   "outputs": [
    {
     "data": {
      "text/plain": [
       "((60000, 28, 28), (60000,))"
      ]
     },
     "execution_count": 6,
     "metadata": {},
     "output_type": "execute_result"
    }
   ],
   "source": [
    "train_images.shape, train_labels.shape"
   ]
  },
  {
   "cell_type": "code",
   "execution_count": 7,
   "id": "f50dc2bb",
   "metadata": {
    "execution": {
     "iopub.execute_input": "2022-07-10T00:44:59.428430Z",
     "iopub.status.busy": "2022-07-10T00:44:59.427806Z",
     "iopub.status.idle": "2022-07-10T00:44:59.549406Z",
     "shell.execute_reply": "2022-07-10T00:44:59.548776Z"
    },
    "papermill": {
     "duration": 0.154459,
     "end_time": "2022-07-10T00:44:59.549547",
     "exception": false,
     "start_time": "2022-07-10T00:44:59.395088",
     "status": "completed"
    },
    "tags": []
   },
   "outputs": [],
   "source": [
    "test_images = mnist.test_images()\n",
    "test_labels = mnist.test_labels()"
   ]
  },
  {
   "cell_type": "code",
   "execution_count": 8,
   "id": "fc38cf1b",
   "metadata": {
    "execution": {
     "iopub.execute_input": "2022-07-10T00:44:59.608263Z",
     "iopub.status.busy": "2022-07-10T00:44:59.607633Z",
     "iopub.status.idle": "2022-07-10T00:44:59.619605Z",
     "shell.execute_reply": "2022-07-10T00:44:59.620050Z"
    },
    "papermill": {
     "duration": 0.044529,
     "end_time": "2022-07-10T00:44:59.620199",
     "exception": false,
     "start_time": "2022-07-10T00:44:59.575670",
     "status": "completed"
    },
    "tags": []
   },
   "outputs": [
    {
     "data": {
      "text/plain": [
       "((10000, 28, 28), (10000,))"
      ]
     },
     "execution_count": 8,
     "metadata": {},
     "output_type": "execute_result"
    }
   ],
   "source": [
    "test_images.shape, test_labels.shape"
   ]
  },
  {
   "cell_type": "code",
   "execution_count": 9,
   "id": "f9ed8fe0",
   "metadata": {
    "execution": {
     "iopub.execute_input": "2022-07-10T00:44:59.675761Z",
     "iopub.status.busy": "2022-07-10T00:44:59.675065Z",
     "iopub.status.idle": "2022-07-10T00:44:59.816486Z",
     "shell.execute_reply": "2022-07-10T00:44:59.816922Z"
    },
    "papermill": {
     "duration": 0.171403,
     "end_time": "2022-07-10T00:44:59.817077",
     "exception": false,
     "start_time": "2022-07-10T00:44:59.645674",
     "status": "completed"
    },
    "tags": []
   },
   "outputs": [
    {
     "name": "stdout",
     "output_type": "stream",
     "text": [
      "2\n"
     ]
    },
    {
     "data": {
      "text/plain": [
       "<matplotlib.image.AxesImage at 0x7fdf64f9b4a8>"
      ]
     },
     "execution_count": 9,
     "metadata": {},
     "output_type": "execute_result"
    },
    {
     "data": {
      "image/png": "[encoded data removed]",
      "text/plain": [
       "<Figure size 432x288 with 1 Axes>"
      ]
     },
     "metadata": {
      "needs_background": "light"
     },
     "output_type": "display_data"
    }
   ],
   "source": [
    "image_index = 7776 # You may select anything up to 60,000\n",
    "print(train_labels[image_index]) \n",
    "plt.imshow(train_images[image_index], cmap='Greys')"
   ]
  },
  {
   "cell_type": "markdown",
   "id": "a8d2388d",
   "metadata": {
    "papermill": {
     "duration": 0.026463,
     "end_time": "2022-07-10T00:44:59.870303",
     "exception": false,
     "start_time": "2022-07-10T00:44:59.843840",
     "status": "completed"
    },
    "tags": []
   },
   "source": [
    "## Filter data to get 3 and 8 out"
   ]
  },
  {
   "cell_type": "code",
   "execution_count": 10,
   "id": "776f7fc7",
   "metadata": {
    "execution": {
     "iopub.execute_input": "2022-07-10T00:44:59.931496Z",
     "iopub.status.busy": "2022-07-10T00:44:59.930748Z",
     "iopub.status.idle": "2022-07-10T00:44:59.948017Z",
     "shell.execute_reply": "2022-07-10T00:44:59.948487Z"
    },
    "papermill": {
     "duration": 0.051865,
     "end_time": "2022-07-10T00:44:59.948644",
     "exception": false,
     "start_time": "2022-07-10T00:44:59.896779",
     "status": "completed"
    },
    "tags": []
   },
   "outputs": [],
   "source": [
    "train_filter = np.where((train_labels == 3 ) | (train_labels == 8))\n",
    "test_filter = np.where((test_labels == 3) | (test_labels == 8))\n",
    "X_train, y_train = train_images[train_filter], train_labels[train_filter]\n",
    "X_test, y_test = test_images[test_filter], test_labels[test_filter]"
   ]
  },
  {
   "cell_type": "markdown",
   "id": "948f0b7e",
   "metadata": {
    "papermill": {
     "duration": 0.026738,
     "end_time": "2022-07-10T00:45:00.002131",
     "exception": false,
     "start_time": "2022-07-10T00:44:59.975393",
     "status": "completed"
    },
    "tags": []
   },
   "source": [
    "We normalize the pizel values in the 0 to 1 range"
   ]
  },
  {
   "cell_type": "code",
   "execution_count": 11,
   "id": "ee4c2166",
   "metadata": {
    "execution": {
     "iopub.execute_input": "2022-07-10T00:45:00.063276Z",
     "iopub.status.busy": "2022-07-10T00:45:00.062641Z",
     "iopub.status.idle": "2022-07-10T00:45:00.110742Z",
     "shell.execute_reply": "2022-07-10T00:45:00.110165Z"
    },
    "papermill": {
     "duration": 0.082157,
     "end_time": "2022-07-10T00:45:00.110891",
     "exception": false,
     "start_time": "2022-07-10T00:45:00.028734",
     "status": "completed"
    },
    "tags": []
   },
   "outputs": [],
   "source": [
    "X_train = X_train/255.\n",
    "X_test = X_test/255."
   ]
  },
  {
   "cell_type": "markdown",
   "id": "ddcf4fab",
   "metadata": {
    "papermill": {
     "duration": 0.02718,
     "end_time": "2022-07-10T00:45:00.166007",
     "exception": false,
     "start_time": "2022-07-10T00:45:00.138827",
     "status": "completed"
    },
    "tags": []
   },
   "source": [
    "And setup the labels as 1 (when the digit is 3) and 0 (when the digit is 8)"
   ]
  },
  {
   "cell_type": "code",
   "execution_count": 12,
   "id": "7dc908f2",
   "metadata": {
    "execution": {
     "iopub.execute_input": "2022-07-10T00:45:00.224687Z",
     "iopub.status.busy": "2022-07-10T00:45:00.224035Z",
     "iopub.status.idle": "2022-07-10T00:45:00.238367Z",
     "shell.execute_reply": "2022-07-10T00:45:00.237864Z"
    },
    "papermill": {
     "duration": 0.045285,
     "end_time": "2022-07-10T00:45:00.238502",
     "exception": false,
     "start_time": "2022-07-10T00:45:00.193217",
     "status": "completed"
    },
    "tags": []
   },
   "outputs": [],
   "source": [
    "y_train = 1*(y_train==3)\n",
    "y_test = 1*(y_test==3)"
   ]
  },
  {
   "cell_type": "code",
   "execution_count": 13,
   "id": "01e4e969",
   "metadata": {
    "execution": {
     "iopub.execute_input": "2022-07-10T00:45:00.297875Z",
     "iopub.status.busy": "2022-07-10T00:45:00.297230Z",
     "iopub.status.idle": "2022-07-10T00:45:00.312647Z",
     "shell.execute_reply": "2022-07-10T00:45:00.312171Z"
    },
    "papermill": {
     "duration": 0.047328,
     "end_time": "2022-07-10T00:45:00.312773",
     "exception": false,
     "start_time": "2022-07-10T00:45:00.265445",
     "status": "completed"
    },
    "tags": []
   },
   "outputs": [
    {
     "data": {
      "text/plain": [
       "((11982, 28, 28), (1984, 28, 28))"
      ]
     },
     "execution_count": 13,
     "metadata": {},
     "output_type": "execute_result"
    }
   ],
   "source": [
    "X_train.shape, X_test.shape"
   ]
  },
  {
   "cell_type": "markdown",
   "id": "5ccf3f85",
   "metadata": {
    "papermill": {
     "duration": 0.026942,
     "end_time": "2022-07-10T00:45:00.366687",
     "exception": false,
     "start_time": "2022-07-10T00:45:00.339745",
     "status": "completed"
    },
    "tags": []
   },
   "source": [
    "We reshape the data to flatten the image pixels into a set of features or co-variates:"
   ]
  },
  {
   "cell_type": "code",
   "execution_count": 14,
   "id": "5286a4a3",
   "metadata": {
    "execution": {
     "iopub.execute_input": "2022-07-10T00:45:00.426981Z",
     "iopub.status.busy": "2022-07-10T00:45:00.426368Z",
     "iopub.status.idle": "2022-07-10T00:45:00.440451Z",
     "shell.execute_reply": "2022-07-10T00:45:00.440911Z"
    },
    "papermill": {
     "duration": 0.047029,
     "end_time": "2022-07-10T00:45:00.441058",
     "exception": false,
     "start_time": "2022-07-10T00:45:00.394029",
     "status": "completed"
    },
    "tags": []
   },
   "outputs": [
    {
     "data": {
      "text/plain": [
       "((11982, 784), (1984, 784))"
      ]
     },
     "execution_count": 14,
     "metadata": {},
     "output_type": "execute_result"
    }
   ],
   "source": [
    "X_train = X_train.reshape(X_train.shape[0], -1)\n",
    "X_test = X_test.reshape(X_test.shape[0], -1)\n",
    "X_train.shape, X_test.shape"
   ]
  },
  {
   "cell_type": "code",
   "execution_count": 15,
   "id": "73c5f88a",
   "metadata": {
    "execution": {
     "iopub.execute_input": "2022-07-10T00:45:00.503189Z",
     "iopub.status.busy": "2022-07-10T00:45:00.502553Z",
     "iopub.status.idle": "2022-07-10T00:45:00.522813Z",
     "shell.execute_reply": "2022-07-10T00:45:00.523380Z"
    },
    "papermill": {
     "duration": 0.054357,
     "end_time": "2022-07-10T00:45:00.523554",
     "exception": false,
     "start_time": "2022-07-10T00:45:00.469197",
     "status": "completed"
    },
    "tags": []
   },
   "outputs": [],
   "source": [
    "#Impoting functions from 'Kudzu'\n",
    "from kudzu.model import Model\n",
    "from kudzu.train import Learner\n",
    "from kudzu.optim import GD\n",
    "from kudzu.data import Data, Sampler,Dataloader\n",
    "\n",
    "from kudzu.callbacks import AccCallback\n",
    "from kudzu.callbacks import ClfCallback\n",
    "\n",
    "from kudzu.loss import MSE\n",
    "\n",
    "from kudzu.layer import Sigmoid,Relu\n",
    "from kudzu.layer import Affine"
   ]
  },
  {
   "cell_type": "markdown",
   "id": "bc01172a",
   "metadata": {
    "papermill": {
     "duration": 0.030905,
     "end_time": "2022-07-10T00:45:00.582489",
     "exception": false,
     "start_time": "2022-07-10T00:45:00.551584",
     "status": "completed"
    },
    "tags": []
   },
   "source": [
    "### Let us create a `Config` class, to store important parameters. \n",
    "This class essentially plays the role of a dictionary."
   ]
  },
  {
   "cell_type": "code",
   "execution_count": 16,
   "id": "978281aa",
   "metadata": {
    "execution": {
     "iopub.execute_input": "2022-07-10T00:45:00.656912Z",
     "iopub.status.busy": "2022-07-10T00:45:00.654765Z",
     "iopub.status.idle": "2022-07-10T00:45:00.659251Z",
     "shell.execute_reply": "2022-07-10T00:45:00.659689Z"
    },
    "papermill": {
     "duration": 0.050056,
     "end_time": "2022-07-10T00:45:00.659846",
     "exception": false,
     "start_time": "2022-07-10T00:45:00.609790",
     "status": "completed"
    },
    "tags": []
   },
   "outputs": [],
   "source": [
    "class Config:\n",
    "    pass\n",
    "config = Config()\n",
    "config.lr = 0.001\n",
    "config.num_epochs = 250\n",
    "config.bs = 50"
   ]
  },
  {
   "cell_type": "markdown",
   "id": "1385fa59",
   "metadata": {
    "papermill": {
     "duration": 0.02988,
     "end_time": "2022-07-10T00:45:00.717260",
     "exception": false,
     "start_time": "2022-07-10T00:45:00.687380",
     "status": "completed"
    },
    "tags": []
   },
   "source": [
    "### Running Models with the Training data\n",
    "Details about the network layers:\n",
    "- A first affine layer has 784 inputs and does 100 affine transforms. These are followed by a Relu\n",
    "- A second affine layer has 100 inputs from the 100 activations of the past layer, and does 100 affine transforms. These are followed by a Relu\n",
    "- A third affine layer has 100 activations and does 2 affine transformations to create an embedding for visualization. There is no non-linearity here.\n",
    "- A final \"logistic regression\" which has an affine transform from 2 inputs to 1 output, which is squeezed through a sigmoid.\n"
   ]
  },
  {
   "cell_type": "code",
   "execution_count": 17,
   "id": "2b9c66db",
   "metadata": {
    "execution": {
     "iopub.execute_input": "2022-07-10T00:45:00.787926Z",
     "iopub.status.busy": "2022-07-10T00:45:00.778615Z",
     "iopub.status.idle": "2022-07-10T00:45:00.791793Z",
     "shell.execute_reply": "2022-07-10T00:45:00.792253Z"
    },
    "papermill": {
     "duration": 0.047896,
     "end_time": "2022-07-10T00:45:00.792403",
     "exception": false,
     "start_time": "2022-07-10T00:45:00.744507",
     "status": "completed"
    },
    "tags": []
   },
   "outputs": [],
   "source": [
    "data = Data(X_train, y_train.reshape(-1,1))\n",
    "sampler = Sampler(data, config.bs, shuffle=True)\n",
    "\n",
    "dl = Dataloader(data, sampler)\n",
    "\n",
    "opt = GD(config.lr)\n",
    "loss = MSE()"
   ]
  },
  {
   "cell_type": "code",
   "execution_count": 18,
   "id": "b275e4c2",
   "metadata": {
    "execution": {
     "iopub.execute_input": "2022-07-10T00:45:00.866156Z",
     "iopub.status.busy": "2022-07-10T00:45:00.865390Z",
     "iopub.status.idle": "2022-07-10T00:45:00.869419Z",
     "shell.execute_reply": "2022-07-10T00:45:00.868929Z"
    },
    "papermill": {
     "duration": 0.049615,
     "end_time": "2022-07-10T00:45:00.869544",
     "exception": false,
     "start_time": "2022-07-10T00:45:00.819929",
     "status": "completed"
    },
    "tags": []
   },
   "outputs": [],
   "source": [
    "training_data_x = X_train\n",
    "testing_data_x = X_test\n",
    "training_data_y = y_train.reshape(-1,1)\n",
    "testing_data_y = y_test.reshape(-1,1)"
   ]
  },
  {
   "cell_type": "code",
   "execution_count": 19,
   "id": "76951160",
   "metadata": {
    "execution": {
     "iopub.execute_input": "2022-07-10T00:45:00.929731Z",
     "iopub.status.busy": "2022-07-10T00:45:00.929038Z",
     "iopub.status.idle": "2022-07-10T00:45:00.948220Z",
     "shell.execute_reply": "2022-07-10T00:45:00.947697Z"
    },
    "papermill": {
     "duration": 0.051531,
     "end_time": "2022-07-10T00:45:00.948348",
     "exception": false,
     "start_time": "2022-07-10T00:45:00.896817",
     "status": "completed"
    },
    "tags": []
   },
   "outputs": [
    {
     "name": "stdout",
     "output_type": "stream",
     "text": [
      "xavier\n",
      "xavier\n",
      "xavier\n",
      "xavier\n",
      "xavier\n"
     ]
    }
   ],
   "source": [
    "layers = [Affine(\"first\", 784, 100), Relu(\"first\"), Affine(\"second\", 100, 100), Relu(\"second\"), Affine(\"third\", 100, 2), Affine(\"last\", 2, 1), Sigmoid(\"last\")]\n",
    "model_nn = Model(layers)\n",
    "model_lr = Model([Affine(\"logits\", 784, 1), Sigmoid(\"sigmoid\")])"
   ]
  },
  {
   "cell_type": "code",
   "execution_count": 20,
   "id": "6eede77a",
   "metadata": {
    "execution": {
     "iopub.execute_input": "2022-07-10T00:45:01.023191Z",
     "iopub.status.busy": "2022-07-10T00:45:01.018760Z",
     "iopub.status.idle": "2022-07-10T00:45:01.026181Z",
     "shell.execute_reply": "2022-07-10T00:45:01.025643Z"
    },
    "papermill": {
     "duration": 0.05022,
     "end_time": "2022-07-10T00:45:01.026322",
     "exception": false,
     "start_time": "2022-07-10T00:45:00.976102",
     "status": "completed"
    },
    "tags": []
   },
   "outputs": [],
   "source": [
    "nn_learner = Learner(loss, model_nn, opt, config.num_epochs)\n",
    "acc_nn = ClfCallback(nn_learner, config.bs, training_data_x , testing_data_x, training_data_y, testing_data_y)\n",
    "nn_learner.set_callbacks([acc_nn])"
   ]
  },
  {
   "cell_type": "code",
   "execution_count": 21,
   "id": "877b6cc7",
   "metadata": {
    "execution": {
     "iopub.execute_input": "2022-07-10T00:45:01.094509Z",
     "iopub.status.busy": "2022-07-10T00:45:01.091089Z",
     "iopub.status.idle": "2022-07-10T00:45:01.101698Z",
     "shell.execute_reply": "2022-07-10T00:45:01.102528Z"
    },
    "papermill": {
     "duration": 0.048737,
     "end_time": "2022-07-10T00:45:01.102682",
     "exception": false,
     "start_time": "2022-07-10T00:45:01.053945",
     "status": "completed"
    },
    "tags": []
   },
   "outputs": [],
   "source": [
    "lr_learner = Learner(loss, model_lr, opt, config.num_epochs)\n",
    "acc_lr = ClfCallback(lr_learner, config.bs, training_data_x , testing_data_x, training_data_y, testing_data_y)\n",
    "lr_learner.set_callbacks([acc_lr])"
   ]
  },
  {
   "cell_type": "code",
   "execution_count": 22,
   "id": "d9b133c3",
   "metadata": {
    "execution": {
     "iopub.execute_input": "2022-07-10T00:45:01.163972Z",
     "iopub.status.busy": "2022-07-10T00:45:01.162685Z",
     "iopub.status.idle": "2022-07-10T00:46:23.784407Z",
     "shell.execute_reply": "2022-07-10T00:46:23.785293Z"
    },
    "papermill": {
     "duration": 82.654572,
     "end_time": "2022-07-10T00:46:23.785455",
     "exception": false,
     "start_time": "2022-07-10T00:45:01.130883",
     "status": "completed"
    },
    "tags": []
   },
   "outputs": [
    {
     "name": "stdout",
     "output_type": "stream",
     "text": [
      "Epoch 0, Loss 0.2537\n",
      "Training Accuracy: 0.5088, Testing Accuracy: 0.5141\n",
      "\n"
     ]
    },
    {
     "name": "stdout",
     "output_type": "stream",
     "text": [
      "Epoch 10, Loss 0.15\n",
      "Training Accuracy: 0.8825, Testing Accuracy: 0.8967\n",
      "\n"
     ]
    },
    {
     "name": "stdout",
     "output_type": "stream",
     "text": [
      "Epoch 20, Loss 0.0772\n",
      "Training Accuracy: 0.9205, Testing Accuracy: 0.9309\n",
      "\n"
     ]
    },
    {
     "name": "stdout",
     "output_type": "stream",
     "text": [
      "Epoch 30, Loss 0.0543\n",
      "Training Accuracy: 0.9410, Testing Accuracy: 0.9506\n",
      "\n"
     ]
    },
    {
     "name": "stdout",
     "output_type": "stream",
     "text": [
      "Epoch 40, Loss 0.0443\n",
      "Training Accuracy: 0.9500, Testing Accuracy: 0.9582\n",
      "\n"
     ]
    },
    {
     "name": "stdout",
     "output_type": "stream",
     "text": [
      "Epoch 50, Loss 0.0389\n",
      "Training Accuracy: 0.9563, Testing Accuracy: 0.9612\n",
      "\n"
     ]
    },
    {
     "name": "stdout",
     "output_type": "stream",
     "text": [
      "Epoch 60, Loss 0.0356\n",
      "Training Accuracy: 0.9601, Testing Accuracy: 0.9672\n",
      "\n"
     ]
    },
    {
     "name": "stdout",
     "output_type": "stream",
     "text": [
      "Epoch 70, Loss 0.0332\n",
      "Training Accuracy: 0.9614, Testing Accuracy: 0.9693\n",
      "\n"
     ]
    },
    {
     "name": "stdout",
     "output_type": "stream",
     "text": [
      "Epoch 80, Loss 0.0315\n",
      "Training Accuracy: 0.9633, Testing Accuracy: 0.9698\n",
      "\n"
     ]
    },
    {
     "name": "stdout",
     "output_type": "stream",
     "text": [
      "Epoch 90, Loss 0.0301\n",
      "Training Accuracy: 0.9644, Testing Accuracy: 0.9708\n",
      "\n"
     ]
    },
    {
     "name": "stdout",
     "output_type": "stream",
     "text": [
      "Epoch 100, Loss 0.0289\n",
      "Training Accuracy: 0.9657, Testing Accuracy: 0.9718\n",
      "\n"
     ]
    },
    {
     "name": "stdout",
     "output_type": "stream",
     "text": [
      "Epoch 110, Loss 0.028\n",
      "Training Accuracy: 0.9671, Testing Accuracy: 0.9723\n",
      "\n"
     ]
    },
    {
     "name": "stdout",
     "output_type": "stream",
     "text": [
      "Epoch 120, Loss 0.0271\n",
      "Training Accuracy: 0.9681, Testing Accuracy: 0.9718\n",
      "\n"
     ]
    },
    {
     "name": "stdout",
     "output_type": "stream",
     "text": [
      "Epoch 130, Loss 0.0264\n",
      "Training Accuracy: 0.9697, Testing Accuracy: 0.9723\n",
      "\n"
     ]
    },
    {
     "name": "stdout",
     "output_type": "stream",
     "text": [
      "Epoch 140, Loss 0.0257\n",
      "Training Accuracy: 0.9703, Testing Accuracy: 0.9723\n",
      "\n"
     ]
    },
    {
     "name": "stdout",
     "output_type": "stream",
     "text": [
      "Epoch 150, Loss 0.0251\n",
      "Training Accuracy: 0.9711, Testing Accuracy: 0.9718\n",
      "\n"
     ]
    },
    {
     "name": "stdout",
     "output_type": "stream",
     "text": [
      "Epoch 160, Loss 0.0245\n",
      "Training Accuracy: 0.9722, Testing Accuracy: 0.9723\n",
      "\n"
     ]
    },
    {
     "name": "stdout",
     "output_type": "stream",
     "text": [
      "Epoch 170, Loss 0.024\n",
      "Training Accuracy: 0.9725, Testing Accuracy: 0.9723\n",
      "\n"
     ]
    },
    {
     "name": "stdout",
     "output_type": "stream",
     "text": [
      "Epoch 180, Loss 0.0235\n",
      "Training Accuracy: 0.9733, Testing Accuracy: 0.9723\n",
      "\n"
     ]
    },
    {
     "name": "stdout",
     "output_type": "stream",
     "text": [
      "Epoch 190, Loss 0.023\n",
      "Training Accuracy: 0.9739, Testing Accuracy: 0.9723\n",
      "\n"
     ]
    },
    {
     "name": "stdout",
     "output_type": "stream",
     "text": [
      "Epoch 200, Loss 0.0226\n",
      "Training Accuracy: 0.9744, Testing Accuracy: 0.9723\n",
      "\n"
     ]
    },
    {
     "name": "stdout",
     "output_type": "stream",
     "text": [
      "Epoch 210, Loss 0.0222\n",
      "Training Accuracy: 0.9750, Testing Accuracy: 0.9738\n",
      "\n"
     ]
    },
    {
     "name": "stdout",
     "output_type": "stream",
     "text": [
      "Epoch 220, Loss 0.0218\n",
      "Training Accuracy: 0.9758, Testing Accuracy: 0.9728\n",
      "\n"
     ]
    },
    {
     "name": "stdout",
     "output_type": "stream",
     "text": [
      "Epoch 230, Loss 0.0214\n",
      "Training Accuracy: 0.9766, Testing Accuracy: 0.9728\n",
      "\n"
     ]
    },
    {
     "name": "stdout",
     "output_type": "stream",
     "text": [
      "Epoch 240, Loss 0.021\n",
      "Training Accuracy: 0.9770, Testing Accuracy: 0.9743\n",
      "\n"
     ]
    },
    {
     "data": {
      "text/plain": [
       "0.024296381465277128"
      ]
     },
     "execution_count": 22,
     "metadata": {},
     "output_type": "execute_result"
    }
   ],
   "source": [
    "nn_learner.train_loop(dl)"
   ]
  },
  {
   "cell_type": "code",
   "execution_count": 23,
   "id": "e0163366",
   "metadata": {
    "execution": {
     "iopub.execute_input": "2022-07-10T00:46:23.870104Z",
     "iopub.status.busy": "2022-07-10T00:46:23.869431Z",
     "iopub.status.idle": "2022-07-10T00:46:39.556382Z",
     "shell.execute_reply": "2022-07-10T00:46:39.556946Z"
    },
    "papermill": {
     "duration": 15.735469,
     "end_time": "2022-07-10T00:46:39.557095",
     "exception": false,
     "start_time": "2022-07-10T00:46:23.821626",
     "status": "completed"
    },
    "tags": []
   },
   "outputs": [
    {
     "name": "stdout",
     "output_type": "stream",
     "text": [
      "Epoch 0, Loss 0.2875\n",
      "Training Accuracy: 0.4808, Testing Accuracy: 0.4688\n",
      "\n"
     ]
    },
    {
     "name": "stdout",
     "output_type": "stream",
     "text": [
      "Epoch 10, Loss 0.1077\n",
      "Training Accuracy: 0.9027, Testing Accuracy: 0.9168\n",
      "\n"
     ]
    },
    {
     "name": "stdout",
     "output_type": "stream",
     "text": [
      "Epoch 20, Loss 0.081\n",
      "Training Accuracy: 0.9263, Testing Accuracy: 0.9370\n",
      "\n"
     ]
    },
    {
     "name": "stdout",
     "output_type": "stream",
     "text": [
      "Epoch 30, Loss 0.0693\n",
      "Training Accuracy: 0.9358, Testing Accuracy: 0.9435\n",
      "\n"
     ]
    },
    {
     "name": "stdout",
     "output_type": "stream",
     "text": [
      "Epoch 40, Loss 0.0623\n",
      "Training Accuracy: 0.9410, Testing Accuracy: 0.9511\n",
      "\n"
     ]
    },
    {
     "name": "stdout",
     "output_type": "stream",
     "text": [
      "Epoch 50, Loss 0.0576\n",
      "Training Accuracy: 0.9442, Testing Accuracy: 0.9546\n",
      "\n"
     ]
    },
    {
     "name": "stdout",
     "output_type": "stream",
     "text": [
      "Epoch 60, Loss 0.0542\n",
      "Training Accuracy: 0.9461, Testing Accuracy: 0.9577\n",
      "\n"
     ]
    },
    {
     "name": "stdout",
     "output_type": "stream",
     "text": [
      "Epoch 70, Loss 0.0515\n",
      "Training Accuracy: 0.9481, Testing Accuracy: 0.9602\n",
      "\n"
     ]
    },
    {
     "name": "stdout",
     "output_type": "stream",
     "text": [
      "Epoch 80, Loss 0.0494\n",
      "Training Accuracy: 0.9506, Testing Accuracy: 0.9617\n",
      "\n"
     ]
    },
    {
     "name": "stdout",
     "output_type": "stream",
     "text": [
      "Epoch 90, Loss 0.0477\n",
      "Training Accuracy: 0.9520, Testing Accuracy: 0.9622\n",
      "\n"
     ]
    },
    {
     "name": "stdout",
     "output_type": "stream",
     "text": [
      "Epoch 100, Loss 0.0462\n",
      "Training Accuracy: 0.9531, Testing Accuracy: 0.9632\n",
      "\n"
     ]
    },
    {
     "name": "stdout",
     "output_type": "stream",
     "text": [
      "Epoch 110, Loss 0.045\n",
      "Training Accuracy: 0.9536, Testing Accuracy: 0.9652\n",
      "\n"
     ]
    },
    {
     "name": "stdout",
     "output_type": "stream",
     "text": [
      "Epoch 120, Loss 0.0439\n",
      "Training Accuracy: 0.9544, Testing Accuracy: 0.9652\n",
      "\n"
     ]
    },
    {
     "name": "stdout",
     "output_type": "stream",
     "text": [
      "Epoch 130, Loss 0.043\n",
      "Training Accuracy: 0.9554, Testing Accuracy: 0.9652\n",
      "\n"
     ]
    },
    {
     "name": "stdout",
     "output_type": "stream",
     "text": [
      "Epoch 140, Loss 0.0421\n",
      "Training Accuracy: 0.9559, Testing Accuracy: 0.9657\n",
      "\n"
     ]
    },
    {
     "name": "stdout",
     "output_type": "stream",
     "text": [
      "Epoch 150, Loss 0.0414\n",
      "Training Accuracy: 0.9564, Testing Accuracy: 0.9657\n",
      "\n"
     ]
    },
    {
     "name": "stdout",
     "output_type": "stream",
     "text": [
      "Epoch 160, Loss 0.0407\n",
      "Training Accuracy: 0.9569, Testing Accuracy: 0.9652\n",
      "\n"
     ]
    },
    {
     "name": "stdout",
     "output_type": "stream",
     "text": [
      "Epoch 170, Loss 0.0401\n",
      "Training Accuracy: 0.9574, Testing Accuracy: 0.9652\n",
      "\n"
     ]
    },
    {
     "name": "stdout",
     "output_type": "stream",
     "text": [
      "Epoch 180, Loss 0.0395\n",
      "Training Accuracy: 0.9577, Testing Accuracy: 0.9657\n",
      "\n"
     ]
    },
    {
     "name": "stdout",
     "output_type": "stream",
     "text": [
      "Epoch 190, Loss 0.039\n",
      "Training Accuracy: 0.9580, Testing Accuracy: 0.9667\n",
      "\n"
     ]
    },
    {
     "name": "stdout",
     "output_type": "stream",
     "text": [
      "Epoch 200, Loss 0.0385\n",
      "Training Accuracy: 0.9584, Testing Accuracy: 0.9667\n",
      "\n"
     ]
    },
    {
     "name": "stdout",
     "output_type": "stream",
     "text": [
      "Epoch 210, Loss 0.038\n",
      "Training Accuracy: 0.9591, Testing Accuracy: 0.9667\n",
      "\n"
     ]
    },
    {
     "name": "stdout",
     "output_type": "stream",
     "text": [
      "Epoch 220, Loss 0.0376\n",
      "Training Accuracy: 0.9594, Testing Accuracy: 0.9677\n",
      "\n"
     ]
    },
    {
     "name": "stdout",
     "output_type": "stream",
     "text": [
      "Epoch 230, Loss 0.0372\n",
      "Training Accuracy: 0.9596, Testing Accuracy: 0.9677\n",
      "\n"
     ]
    },
    {
     "name": "stdout",
     "output_type": "stream",
     "text": [
      "Epoch 240, Loss 0.0369\n",
      "Training Accuracy: 0.9598, Testing Accuracy: 0.9688\n",
      "\n"
     ]
    },
    {
     "data": {
      "text/plain": [
       "0.022512830984380477"
      ]
     },
     "execution_count": 23,
     "metadata": {},
     "output_type": "execute_result"
    }
   ],
   "source": [
    "lr_learner.train_loop(dl)"
   ]
  },
  {
   "cell_type": "code",
   "execution_count": 24,
   "id": "ca410940",
   "metadata": {
    "execution": {
     "iopub.execute_input": "2022-07-10T00:46:39.651720Z",
     "iopub.status.busy": "2022-07-10T00:46:39.651049Z",
     "iopub.status.idle": "2022-07-10T00:46:39.880516Z",
     "shell.execute_reply": "2022-07-10T00:46:39.880954Z"
    },
    "papermill": {
     "duration": 0.281827,
     "end_time": "2022-07-10T00:46:39.881106",
     "exception": false,
     "start_time": "2022-07-10T00:46:39.599279",
     "status": "completed"
    },
    "tags": []
   },
   "outputs": [
    {
     "data": {
      "text/plain": [
       "<matplotlib.legend.Legend at 0x7fdf64afcac8>"
      ]
     },
     "execution_count": 24,
     "metadata": {},
     "output_type": "execute_result"
    },
    {
     "data": {
      "image/png": "[encoded data removed]",
      "text/plain": [
       "<Figure size 1080x720 with 1 Axes>"
      ]
     },
     "metadata": {
      "needs_background": "light"
     },
     "output_type": "display_data"
    }
   ],
   "source": [
    "#comparing the results of NN and LR\n",
    "plt.figure(figsize=(15,10))\n",
    "\n",
    "# Neural Network plots\n",
    "plt.plot(acc_nn.accuracies, 'r-', label = \"Training Accuracies - NN\")\n",
    "plt.plot(acc_nn.test_accuracies, 'g-', label = \"Testing Accuracies - NN\")\n",
    "\n",
    "# Logistic Regression plots\n",
    "plt.plot(acc_lr.accuracies, 'k-', label = \"Training Accuracies - LR\")\n",
    "plt.plot(acc_lr.test_accuracies, 'b-', label = \"Testing Accuracies - LR\")\n",
    "plt.legend()"
   ]
  },
  {
   "cell_type": "markdown",
   "id": "80dfb35c",
   "metadata": {
    "papermill": {
     "duration": 0.042489,
     "end_time": "2022-07-10T00:46:39.966222",
     "exception": false,
     "start_time": "2022-07-10T00:46:39.923733",
     "status": "completed"
    },
    "tags": []
   },
   "source": [
    "#### Plotting the outputs of this layer of the NN.\n"
   ]
  },
  {
   "cell_type": "code",
   "execution_count": 25,
   "id": "45eb2ff5",
   "metadata": {
    "execution": {
     "iopub.execute_input": "2022-07-10T00:46:40.058533Z",
     "iopub.status.busy": "2022-07-10T00:46:40.057550Z",
     "iopub.status.idle": "2022-07-10T00:46:40.078790Z",
     "shell.execute_reply": "2022-07-10T00:46:40.078249Z"
    },
    "papermill": {
     "duration": 0.070421,
     "end_time": "2022-07-10T00:46:40.078927",
     "exception": false,
     "start_time": "2022-07-10T00:46:40.008506",
     "status": "completed"
    },
    "tags": []
   },
   "outputs": [],
   "source": [
    "new_model = Model(layers[:-2])\n",
    "testing_plot = new_model(testing_data_x)"
   ]
  },
  {
   "cell_type": "code",
   "execution_count": 26,
   "id": "4c0a5485",
   "metadata": {
    "execution": {
     "iopub.execute_input": "2022-07-10T00:46:40.168996Z",
     "iopub.status.busy": "2022-07-10T00:46:40.168382Z",
     "iopub.status.idle": "2022-07-10T00:46:40.366335Z",
     "shell.execute_reply": "2022-07-10T00:46:40.365838Z"
    },
    "papermill": {
     "duration": 0.244921,
     "end_time": "2022-07-10T00:46:40.366465",
     "exception": false,
     "start_time": "2022-07-10T00:46:40.121544",
     "status": "completed"
    },
    "tags": []
   },
   "outputs": [
    {
     "data": {
      "text/plain": [
       "Text(0.5, 1.0, 'Outputs')"
      ]
     },
     "execution_count": 26,
     "metadata": {},
     "output_type": "execute_result"
    },
    {
     "data": {
      "image/png": "[encoded data removed]",
      "text/plain": [
       "<Figure size 576x504 with 1 Axes>"
      ]
     },
     "metadata": {
      "needs_background": "light"
     },
     "output_type": "display_data"
    }
   ],
   "source": [
    "# Plotting the scatter plot of points and color coding by class\n",
    "plt.figure(figsize=(8,7))\n",
    "plt.scatter(testing_plot[:,0], testing_plot[:,1], alpha = 0.1, c = y_test.ravel());\n",
    "plt.title('Outputs')"
   ]
  },
  {
   "cell_type": "markdown",
   "id": "a74fcf8f",
   "metadata": {
    "papermill": {
     "duration": 0.044032,
     "end_time": "2022-07-10T00:46:40.454740",
     "exception": false,
     "start_time": "2022-07-10T00:46:40.410708",
     "status": "completed"
    },
    "tags": []
   },
   "source": [
    "Probability contours"
   ]
  },
  {
   "cell_type": "code",
   "execution_count": 27,
   "id": "d0afc8e3",
   "metadata": {
    "execution": {
     "iopub.execute_input": "2022-07-10T00:46:40.548574Z",
     "iopub.status.busy": "2022-07-10T00:46:40.547981Z",
     "iopub.status.idle": "2022-07-10T00:46:40.560711Z",
     "shell.execute_reply": "2022-07-10T00:46:40.560215Z"
    },
    "papermill": {
     "duration": 0.061879,
     "end_time": "2022-07-10T00:46:40.560832",
     "exception": false,
     "start_time": "2022-07-10T00:46:40.498953",
     "status": "completed"
    },
    "tags": []
   },
   "outputs": [],
   "source": [
    "model_prob = Model(layers[-2:]) "
   ]
  },
  {
   "cell_type": "code",
   "execution_count": 28,
   "id": "9b96e238",
   "metadata": {
    "execution": {
     "iopub.execute_input": "2022-07-10T00:46:40.699497Z",
     "iopub.status.busy": "2022-07-10T00:46:40.698836Z",
     "iopub.status.idle": "2022-07-10T00:46:40.708560Z",
     "shell.execute_reply": "2022-07-10T00:46:40.708068Z"
    },
    "papermill": {
     "duration": 0.103685,
     "end_time": "2022-07-10T00:46:40.708689",
     "exception": false,
     "start_time": "2022-07-10T00:46:40.605004",
     "status": "completed"
    },
    "tags": []
   },
   "outputs": [],
   "source": [
    "#creating the x and y ranges according to the above generated plot.\n",
    "x_range = np.linspace(-4, 1, 100) \n",
    "y_range = np.linspace(-6, 6, 100) \n",
    "x_grid, y_grid = np.meshgrid(x_range, y_range) # x_grid and y_grig are of size 100 X 100\n",
    "\n",
    "# converting x_grid and y_grid to continuous arrays\n",
    "x_gridflat = np.ravel(x_grid)\n",
    "y_gridflat = np.ravel(y_grid)\n",
    "\n",
    "# The last layer of the current model takes two columns as input. Hence transpose of np.vstack() is required.\n",
    "X = np.vstack((x_gridflat, y_gridflat)).T\n",
    "\n",
    "prob_contour = model_prob(X).reshape(100,100) "
   ]
  },
  {
   "cell_type": "code",
   "execution_count": 29,
   "id": "da72499a",
   "metadata": {
    "execution": {
     "iopub.execute_input": "2022-07-10T00:46:40.807494Z",
     "iopub.status.busy": "2022-07-10T00:46:40.806884Z",
     "iopub.status.idle": "2022-07-10T00:46:41.056766Z",
     "shell.execute_reply": "2022-07-10T00:46:41.057361Z"
    },
    "papermill": {
     "duration": 0.304074,
     "end_time": "2022-07-10T00:46:41.057524",
     "exception": false,
     "start_time": "2022-07-10T00:46:40.753450",
     "status": "completed"
    },
    "tags": []
   },
   "outputs": [
    {
     "data": {
      "image/png": "[encoded data removed]",
      "text/plain": [
       "<Figure size 720x648 with 1 Axes>"
      ]
     },
     "metadata": {
      "needs_background": "light"
     },
     "output_type": "display_data"
    }
   ],
   "source": [
    "plt.figure(figsize=(10,9))\n",
    "plt.scatter(testing_plot[:,0], testing_plot[:,1], alpha = 0.1, c = y_test.ravel())\n",
    "contours = plt.contour(x_grid,y_grid,prob_contour)\n",
    "plt.title('Probability Contours')\n",
    "plt.clabel(contours, inline = True );"
   ]
  },
  {
   "cell_type": "code",
   "execution_count": null,
   "id": "e81b4ac7",
   "metadata": {
    "papermill": {
     "duration": 0.046541,
     "end_time": "2022-07-10T00:46:41.151234",
     "exception": false,
     "start_time": "2022-07-10T00:46:41.104693",
     "status": "completed"
    },
    "tags": []
   },
   "outputs": [],
   "source": []
  }
 ],
 "metadata": {
  "kernelspec": {
   "display_name": "Python 3",
   "language": "python",
   "name": "python3"
  },
  "language_info": {
   "codemirror_mode": {
    "name": "ipython",
    "version": 3
   },
   "file_extension": ".py",
   "mimetype": "text/x-python",
   "name": "python",
   "nbconvert_exporter": "python",
   "pygments_lexer": "ipython3",
   "version": "3.6.15"
  },
  "papermill": {
   "default_parameters": {},
   "duration": 107.457633,
   "end_time": "2022-07-10T00:46:41.620115",
   "environment_variables": {},
   "exception": null,
   "input_path": "2020-08-11-part2.ipynb",
   "output_path": "2020-08-11-part2.ipynb",
   "parameters": {},
   "start_time": "2022-07-10T00:44:54.162482",
   "version": "2.3.3"
  }
 },
 "nbformat": 4,
 "nbformat_minor": 5
}