{
 "cells": [
  {
   "cell_type": "markdown",
   "id": "98380cd3",
   "metadata": {
    "papermill": {
     "duration": 0.038132,
     "end_time": "2022-09-26T10:12:14.505791",
     "exception": false,
     "start_time": "2022-09-26T10:12:14.467659",
     "status": "completed"
    },
    "tags": []
   },
   "source": [
    "# Distinguish Your Own Digits (DYOD)"
   ]
  },
  {
   "cell_type": "markdown",
   "id": "ef31240d",
   "metadata": {
    "papermill": {
     "duration": 0.033009,
     "end_time": "2022-09-26T10:12:14.573732",
     "exception": false,
     "start_time": "2022-09-26T10:12:14.540723",
     "status": "completed"
    },
    "tags": []
   },
   "source": [
    "You are going to write a classifier that distinguishes between the number 3 and number 8."
   ]
  },
  {
   "cell_type": "code",
   "execution_count": 1,
   "id": "b15c8646",
   "metadata": {
    "execution": {
     "iopub.execute_input": "2022-09-26T10:12:14.649937Z",
     "iopub.status.busy": "2022-09-26T10:12:14.649172Z",
     "iopub.status.idle": "2022-09-26T10:12:14.662821Z",
     "shell.execute_reply": "2022-09-26T10:12:14.662203Z"
    },
    "papermill": {
     "duration": 0.058189,
     "end_time": "2022-09-26T10:12:14.662985",
     "exception": false,
     "start_time": "2022-09-26T10:12:14.604796",
     "status": "completed"
    },
    "tags": []
   },
   "outputs": [],
   "source": [
    "%load_ext autoreload\n",
    "%autoreload 2"
   ]
  },
  {
   "cell_type": "code",
   "execution_count": 2,
   "id": "22ef38dc",
   "metadata": {
    "execution": {
     "iopub.execute_input": "2022-09-26T10:12:14.735823Z",
     "iopub.status.busy": "2022-09-26T10:12:14.734909Z",
     "iopub.status.idle": "2022-09-26T10:12:15.453930Z",
     "shell.execute_reply": "2022-09-26T10:12:15.453176Z"
    },
    "papermill": {
     "duration": 0.758014,
     "end_time": "2022-09-26T10:12:15.454078",
     "exception": false,
     "start_time": "2022-09-26T10:12:14.696064",
     "status": "completed"
    },
    "tags": []
   },
   "outputs": [],
   "source": [
    "%matplotlib inline\n",
    "import numpy as np\n",
    "import matplotlib.pyplot as plt\n",
    "import pandas as pd"
   ]
  },
  {
   "cell_type": "markdown",
   "id": "ba036198",
   "metadata": {
    "papermill": {
     "duration": 0.035808,
     "end_time": "2022-09-26T10:12:15.526618",
     "exception": false,
     "start_time": "2022-09-26T10:12:15.490810",
     "status": "completed"
    },
    "tags": []
   },
   "source": [
    "From the command line run `pip install mnist`. This is a library that will help you bring down the mnist dataset. If you run this from a notebook, you need to put  `!pip install mnist` in a cell by itself."
   ]
  },
  {
   "cell_type": "code",
   "execution_count": 3,
   "id": "bb6ad8a1",
   "metadata": {
    "execution": {
     "iopub.execute_input": "2022-09-26T10:12:15.616980Z",
     "iopub.status.busy": "2022-09-26T10:12:15.616076Z",
     "iopub.status.idle": "2022-09-26T10:12:17.733766Z",
     "shell.execute_reply": "2022-09-26T10:12:17.734502Z"
    },
    "papermill": {
     "duration": 2.154825,
     "end_time": "2022-09-26T10:12:17.734674",
     "exception": false,
     "start_time": "2022-09-26T10:12:15.579849",
     "status": "completed"
    },
    "tags": []
   },
   "outputs": [
    {
     "name": "stdout",
     "output_type": "stream",
     "text": [
      "Collecting mnist\r\n",
      "  Downloading mnist-0.2.2-py2.py3-none-any.whl (3.5 kB)\r\n"
     ]
    },
    {
     "name": "stdout",
     "output_type": "stream",
     "text": [
      "Requirement already satisfied: numpy in /opt/hostedtoolcache/Python/3.6.15/x64/lib/python3.6/site-packages (from mnist) (1.19.5)\r\n"
     ]
    },
    {
     "name": "stdout",
     "output_type": "stream",
     "text": [
      "Installing collected packages: mnist\r\n",
      "Successfully installed mnist-0.2.2\r\n"
     ]
    }
   ],
   "source": [
    "!pip install mnist"
   ]
  },
  {
   "cell_type": "markdown",
   "id": "69df9c9a",
   "metadata": {
    "papermill": {
     "duration": 0.034625,
     "end_time": "2022-09-26T10:12:17.803714",
     "exception": false,
     "start_time": "2022-09-26T10:12:17.769089",
     "status": "completed"
    },
    "tags": []
   },
   "source": [
    "## Preparing the Data"
   ]
  },
  {
   "cell_type": "code",
   "execution_count": 4,
   "id": "7f69d806",
   "metadata": {
    "execution": {
     "iopub.execute_input": "2022-09-26T10:12:17.879822Z",
     "iopub.status.busy": "2022-09-26T10:12:17.879112Z",
     "iopub.status.idle": "2022-09-26T10:12:17.897705Z",
     "shell.execute_reply": "2022-09-26T10:12:17.897091Z"
    },
    "papermill": {
     "duration": 0.059967,
     "end_time": "2022-09-26T10:12:17.897863",
     "exception": false,
     "start_time": "2022-09-26T10:12:17.837896",
     "status": "completed"
    },
    "tags": []
   },
   "outputs": [],
   "source": [
    "import mnist"
   ]
  },
  {
   "cell_type": "code",
   "execution_count": 5,
   "id": "a411e44f",
   "metadata": {
    "execution": {
     "iopub.execute_input": "2022-09-26T10:12:17.973408Z",
     "iopub.status.busy": "2022-09-26T10:12:17.972574Z",
     "iopub.status.idle": "2022-09-26T10:12:18.659922Z",
     "shell.execute_reply": "2022-09-26T10:12:18.657488Z"
    },
    "papermill": {
     "duration": 0.727858,
     "end_time": "2022-09-26T10:12:18.660097",
     "exception": false,
     "start_time": "2022-09-26T10:12:17.932239",
     "status": "completed"
    },
    "tags": []
   },
   "outputs": [],
   "source": [
    "train_images = mnist.train_images()\n",
    "train_labels = mnist.train_labels()"
   ]
  },
  {
   "cell_type": "code",
   "execution_count": 6,
   "id": "dceab3a5",
   "metadata": {
    "execution": {
     "iopub.execute_input": "2022-09-26T10:12:18.732361Z",
     "iopub.status.busy": "2022-09-26T10:12:18.731571Z",
     "iopub.status.idle": "2022-09-26T10:12:18.753521Z",
     "shell.execute_reply": "2022-09-26T10:12:18.754158Z"
    },
    "papermill": {
     "duration": 0.060468,
     "end_time": "2022-09-26T10:12:18.754339",
     "exception": false,
     "start_time": "2022-09-26T10:12:18.693871",
     "status": "completed"
    },
    "tags": []
   },
   "outputs": [
    {
     "data": {
      "text/plain": [
       "((60000, 28, 28), (60000,))"
      ]
     },
     "execution_count": 6,
     "metadata": {},
     "output_type": "execute_result"
    }
   ],
   "source": [
    "train_images.shape, train_labels.shape"
   ]
  },
  {
   "cell_type": "code",
   "execution_count": 7,
   "id": "f50dc2bb",
   "metadata": {
    "execution": {
     "iopub.execute_input": "2022-09-26T10:12:18.833607Z",
     "iopub.status.busy": "2022-09-26T10:12:18.829473Z",
     "iopub.status.idle": "2022-09-26T10:12:19.026496Z",
     "shell.execute_reply": "2022-09-26T10:12:19.025812Z"
    },
    "papermill": {
     "duration": 0.236505,
     "end_time": "2022-09-26T10:12:19.026677",
     "exception": false,
     "start_time": "2022-09-26T10:12:18.790172",
     "status": "completed"
    },
    "tags": []
   },
   "outputs": [],
   "source": [
    "test_images = mnist.test_images()\n",
    "test_labels = mnist.test_labels()"
   ]
  },
  {
   "cell_type": "code",
   "execution_count": 8,
   "id": "fc38cf1b",
   "metadata": {
    "execution": {
     "iopub.execute_input": "2022-09-26T10:12:19.102724Z",
     "iopub.status.busy": "2022-09-26T10:12:19.101409Z",
     "iopub.status.idle": "2022-09-26T10:12:19.119751Z",
     "shell.execute_reply": "2022-09-26T10:12:19.118925Z"
    },
    "papermill": {
     "duration": 0.057636,
     "end_time": "2022-09-26T10:12:19.119891",
     "exception": false,
     "start_time": "2022-09-26T10:12:19.062255",
     "status": "completed"
    },
    "tags": []
   },
   "outputs": [
    {
     "data": {
      "text/plain": [
       "((10000, 28, 28), (10000,))"
      ]
     },
     "execution_count": 8,
     "metadata": {},
     "output_type": "execute_result"
    }
   ],
   "source": [
    "test_images.shape, test_labels.shape"
   ]
  },
  {
   "cell_type": "code",
   "execution_count": 9,
   "id": "f9ed8fe0",
   "metadata": {
    "execution": {
     "iopub.execute_input": "2022-09-26T10:12:19.192500Z",
     "iopub.status.busy": "2022-09-26T10:12:19.191793Z",
     "iopub.status.idle": "2022-09-26T10:12:19.402178Z",
     "shell.execute_reply": "2022-09-26T10:12:19.402810Z"
    },
    "papermill": {
     "duration": 0.248226,
     "end_time": "2022-09-26T10:12:19.403042",
     "exception": false,
     "start_time": "2022-09-26T10:12:19.154816",
     "status": "completed"
    },
    "tags": []
   },
   "outputs": [
    {
     "name": "stdout",
     "output_type": "stream",
     "text": [
      "2\n"
     ]
    },
    {
     "data": {
      "text/plain": [
       "<matplotlib.image.AxesImage at 0x7fa48df80c88>"
      ]
     },
     "execution_count": 9,
     "metadata": {},
     "output_type": "execute_result"
    },
    {
     "data": {
      "image/png": "[encoded data removed]",
      "text/plain": [
       "<Figure size 432x288 with 1 Axes>"
      ]
     },
     "metadata": {
      "needs_background": "light"
     },
     "output_type": "display_data"
    }
   ],
   "source": [
    "image_index = 7776 # You may select anything up to 60,000\n",
    "print(train_labels[image_index]) \n",
    "plt.imshow(train_images[image_index], cmap='Greys')"
   ]
  },
  {
   "cell_type": "markdown",
   "id": "a8d2388d",
   "metadata": {
    "papermill": {
     "duration": 0.034444,
     "end_time": "2022-09-26T10:12:19.472153",
     "exception": false,
     "start_time": "2022-09-26T10:12:19.437709",
     "status": "completed"
    },
    "tags": []
   },
   "source": [
    "## Filter data to get 3 and 8 out"
   ]
  },
  {
   "cell_type": "code",
   "execution_count": 10,
   "id": "776f7fc7",
   "metadata": {
    "execution": {
     "iopub.execute_input": "2022-09-26T10:12:19.545895Z",
     "iopub.status.busy": "2022-09-26T10:12:19.545159Z",
     "iopub.status.idle": "2022-09-26T10:12:19.566645Z",
     "shell.execute_reply": "2022-09-26T10:12:19.566025Z"
    },
    "papermill": {
     "duration": 0.061193,
     "end_time": "2022-09-26T10:12:19.566779",
     "exception": false,
     "start_time": "2022-09-26T10:12:19.505586",
     "status": "completed"
    },
    "tags": []
   },
   "outputs": [],
   "source": [
    "train_filter = np.where((train_labels == 3 ) | (train_labels == 8))\n",
    "test_filter = np.where((test_labels == 3) | (test_labels == 8))\n",
    "X_train, y_train = train_images[train_filter], train_labels[train_filter]\n",
    "X_test, y_test = test_images[test_filter], test_labels[test_filter]"
   ]
  },
  {
   "cell_type": "markdown",
   "id": "948f0b7e",
   "metadata": {
    "papermill": {
     "duration": 0.033374,
     "end_time": "2022-09-26T10:12:19.635898",
     "exception": false,
     "start_time": "2022-09-26T10:12:19.602524",
     "status": "completed"
    },
    "tags": []
   },
   "source": [
    "We normalize the pizel values in the 0 to 1 range"
   ]
  },
  {
   "cell_type": "code",
   "execution_count": 11,
   "id": "ee4c2166",
   "metadata": {
    "execution": {
     "iopub.execute_input": "2022-09-26T10:12:19.711100Z",
     "iopub.status.busy": "2022-09-26T10:12:19.710305Z",
     "iopub.status.idle": "2022-09-26T10:12:19.775990Z",
     "shell.execute_reply": "2022-09-26T10:12:19.775406Z"
    },
    "papermill": {
     "duration": 0.107375,
     "end_time": "2022-09-26T10:12:19.776130",
     "exception": false,
     "start_time": "2022-09-26T10:12:19.668755",
     "status": "completed"
    },
    "tags": []
   },
   "outputs": [],
   "source": [
    "X_train = X_train/255.\n",
    "X_test = X_test/255."
   ]
  },
  {
   "cell_type": "markdown",
   "id": "ddcf4fab",
   "metadata": {
    "papermill": {
     "duration": 0.034147,
     "end_time": "2022-09-26T10:12:19.846994",
     "exception": false,
     "start_time": "2022-09-26T10:12:19.812847",
     "status": "completed"
    },
    "tags": []
   },
   "source": [
    "And setup the labels as 1 (when the digit is 3) and 0 (when the digit is 8)"
   ]
  },
  {
   "cell_type": "code",
   "execution_count": 12,
   "id": "7dc908f2",
   "metadata": {
    "execution": {
     "iopub.execute_input": "2022-09-26T10:12:19.924358Z",
     "iopub.status.busy": "2022-09-26T10:12:19.921809Z",
     "iopub.status.idle": "2022-09-26T10:12:19.937284Z",
     "shell.execute_reply": "2022-09-26T10:12:19.936703Z"
    },
    "papermill": {
     "duration": 0.056967,
     "end_time": "2022-09-26T10:12:19.937419",
     "exception": false,
     "start_time": "2022-09-26T10:12:19.880452",
     "status": "completed"
    },
    "tags": []
   },
   "outputs": [],
   "source": [
    "y_train = 1*(y_train==3)\n",
    "y_test = 1*(y_test==3)"
   ]
  },
  {
   "cell_type": "code",
   "execution_count": 13,
   "id": "01e4e969",
   "metadata": {
    "execution": {
     "iopub.execute_input": "2022-09-26T10:12:20.012691Z",
     "iopub.status.busy": "2022-09-26T10:12:20.011897Z",
     "iopub.status.idle": "2022-09-26T10:12:20.029102Z",
     "shell.execute_reply": "2022-09-26T10:12:20.029731Z"
    },
    "papermill": {
     "duration": 0.057143,
     "end_time": "2022-09-26T10:12:20.029897",
     "exception": false,
     "start_time": "2022-09-26T10:12:19.972754",
     "status": "completed"
    },
    "tags": []
   },
   "outputs": [
    {
     "data": {
      "text/plain": [
       "((11982, 28, 28), (1984, 28, 28))"
      ]
     },
     "execution_count": 13,
     "metadata": {},
     "output_type": "execute_result"
    }
   ],
   "source": [
    "X_train.shape, X_test.shape"
   ]
  },
  {
   "cell_type": "markdown",
   "id": "5ccf3f85",
   "metadata": {
    "papermill": {
     "duration": 0.03525,
     "end_time": "2022-09-26T10:12:20.102950",
     "exception": false,
     "start_time": "2022-09-26T10:12:20.067700",
     "status": "completed"
    },
    "tags": []
   },
   "source": [
    "We reshape the data to flatten the image pixels into a set of features or co-variates:"
   ]
  },
  {
   "cell_type": "code",
   "execution_count": 14,
   "id": "5286a4a3",
   "metadata": {
    "execution": {
     "iopub.execute_input": "2022-09-26T10:12:20.177743Z",
     "iopub.status.busy": "2022-09-26T10:12:20.177030Z",
     "iopub.status.idle": "2022-09-26T10:12:20.194286Z",
     "shell.execute_reply": "2022-09-26T10:12:20.193607Z"
    },
    "papermill": {
     "duration": 0.056257,
     "end_time": "2022-09-26T10:12:20.194412",
     "exception": false,
     "start_time": "2022-09-26T10:12:20.138155",
     "status": "completed"
    },
    "tags": []
   },
   "outputs": [
    {
     "data": {
      "text/plain": [
       "((11982, 784), (1984, 784))"
      ]
     },
     "execution_count": 14,
     "metadata": {},
     "output_type": "execute_result"
    }
   ],
   "source": [
    "X_train = X_train.reshape(X_train.shape[0], -1)\n",
    "X_test = X_test.reshape(X_test.shape[0], -1)\n",
    "X_train.shape, X_test.shape"
   ]
  },
  {
   "cell_type": "code",
   "execution_count": 15,
   "id": "73c5f88a",
   "metadata": {
    "execution": {
     "iopub.execute_input": "2022-09-26T10:12:20.268087Z",
     "iopub.status.busy": "2022-09-26T10:12:20.267271Z",
     "iopub.status.idle": "2022-09-26T10:12:20.294470Z",
     "shell.execute_reply": "2022-09-26T10:12:20.291760Z"
    },
    "papermill": {
     "duration": 0.067094,
     "end_time": "2022-09-26T10:12:20.294608",
     "exception": false,
     "start_time": "2022-09-26T10:12:20.227514",
     "status": "completed"
    },
    "tags": []
   },
   "outputs": [],
   "source": [
    "#Impoting functions from 'Kudzu'\n",
    "from kudzu.model import Model\n",
    "from kudzu.train import Learner\n",
    "from kudzu.optim import GD\n",
    "from kudzu.data import Data, Sampler,Dataloader\n",
    "\n",
    "from kudzu.callbacks import AccCallback\n",
    "from kudzu.callbacks import ClfCallback\n",
    "\n",
    "from kudzu.loss import MSE\n",
    "\n",
    "from kudzu.layer import Sigmoid,Relu\n",
    "from kudzu.layer import Affine"
   ]
  },
  {
   "cell_type": "markdown",
   "id": "bc01172a",
   "metadata": {
    "papermill": {
     "duration": 0.039289,
     "end_time": "2022-09-26T10:12:20.369721",
     "exception": false,
     "start_time": "2022-09-26T10:12:20.330432",
     "status": "completed"
    },
    "tags": []
   },
   "source": [
    "### Let us create a `Config` class, to store important parameters. \n",
    "This class essentially plays the role of a dictionary."
   ]
  },
  {
   "cell_type": "code",
   "execution_count": 16,
   "id": "978281aa",
   "metadata": {
    "execution": {
     "iopub.execute_input": "2022-09-26T10:12:20.442015Z",
     "iopub.status.busy": "2022-09-26T10:12:20.441133Z",
     "iopub.status.idle": "2022-09-26T10:12:20.455776Z",
     "shell.execute_reply": "2022-09-26T10:12:20.456438Z"
    },
    "papermill": {
     "duration": 0.05341,
     "end_time": "2022-09-26T10:12:20.456602",
     "exception": false,
     "start_time": "2022-09-26T10:12:20.403192",
     "status": "completed"
    },
    "tags": []
   },
   "outputs": [],
   "source": [
    "class Config:\n",
    "    pass\n",
    "config = Config()\n",
    "config.lr = 0.001\n",
    "config.num_epochs = 250\n",
    "config.bs = 50"
   ]
  },
  {
   "cell_type": "markdown",
   "id": "1385fa59",
   "metadata": {
    "papermill": {
     "duration": 0.033565,
     "end_time": "2022-09-26T10:12:20.527847",
     "exception": false,
     "start_time": "2022-09-26T10:12:20.494282",
     "status": "completed"
    },
    "tags": []
   },
   "source": [
    "### Running Models with the Training data\n",
    "Details about the network layers:\n",
    "- A first affine layer has 784 inputs and does 100 affine transforms. These are followed by a Relu\n",
    "- A second affine layer has 100 inputs from the 100 activations of the past layer, and does 100 affine transforms. These are followed by a Relu\n",
    "- A third affine layer has 100 activations and does 2 affine transformations to create an embedding for visualization. There is no non-linearity here.\n",
    "- A final \"logistic regression\" which has an affine transform from 2 inputs to 1 output, which is squeezed through a sigmoid.\n"
   ]
  },
  {
   "cell_type": "code",
   "execution_count": 17,
   "id": "2b9c66db",
   "metadata": {
    "execution": {
     "iopub.execute_input": "2022-09-26T10:12:20.606303Z",
     "iopub.status.busy": "2022-09-26T10:12:20.605492Z",
     "iopub.status.idle": "2022-09-26T10:12:20.620755Z",
     "shell.execute_reply": "2022-09-26T10:12:20.620195Z"
    },
    "papermill": {
     "duration": 0.056967,
     "end_time": "2022-09-26T10:12:20.620873",
     "exception": false,
     "start_time": "2022-09-26T10:12:20.563906",
     "status": "completed"
    },
    "tags": []
   },
   "outputs": [],
   "source": [
    "data = Data(X_train, y_train.reshape(-1,1))\n",
    "sampler = Sampler(data, config.bs, shuffle=True)\n",
    "\n",
    "dl = Dataloader(data, sampler)\n",
    "\n",
    "opt = GD(config.lr)\n",
    "loss = MSE()"
   ]
  },
  {
   "cell_type": "code",
   "execution_count": 18,
   "id": "b275e4c2",
   "metadata": {
    "execution": {
     "iopub.execute_input": "2022-09-26T10:12:20.697771Z",
     "iopub.status.busy": "2022-09-26T10:12:20.696909Z",
     "iopub.status.idle": "2022-09-26T10:12:20.714290Z",
     "shell.execute_reply": "2022-09-26T10:12:20.713701Z"
    },
    "papermill": {
     "duration": 0.058869,
     "end_time": "2022-09-26T10:12:20.714421",
     "exception": false,
     "start_time": "2022-09-26T10:12:20.655552",
     "status": "completed"
    },
    "tags": []
   },
   "outputs": [],
   "source": [
    "training_data_x = X_train\n",
    "testing_data_x = X_test\n",
    "training_data_y = y_train.reshape(-1,1)\n",
    "testing_data_y = y_test.reshape(-1,1)"
   ]
  },
  {
   "cell_type": "code",
   "execution_count": 19,
   "id": "76951160",
   "metadata": {
    "execution": {
     "iopub.execute_input": "2022-09-26T10:12:20.792644Z",
     "iopub.status.busy": "2022-09-26T10:12:20.791996Z",
     "iopub.status.idle": "2022-09-26T10:12:20.811770Z",
     "shell.execute_reply": "2022-09-26T10:12:20.812389Z"
    },
    "papermill": {
     "duration": 0.062513,
     "end_time": "2022-09-26T10:12:20.812577",
     "exception": false,
     "start_time": "2022-09-26T10:12:20.750064",
     "status": "completed"
    },
    "tags": []
   },
   "outputs": [
    {
     "name": "stdout",
     "output_type": "stream",
     "text": [
      "xavier\n",
      "xavier\n",
      "xavier\n",
      "xavier\n",
      "xavier\n"
     ]
    }
   ],
   "source": [
    "layers = [Affine(\"first\", 784, 100), Relu(\"first\"), Affine(\"second\", 100, 100), Relu(\"second\"), Affine(\"third\", 100, 2), Affine(\"last\", 2, 1), Sigmoid(\"last\")]\n",
    "model_nn = Model(layers)\n",
    "model_lr = Model([Affine(\"logits\", 784, 1), Sigmoid(\"sigmoid\")])"
   ]
  },
  {
   "cell_type": "code",
   "execution_count": 20,
   "id": "6eede77a",
   "metadata": {
    "execution": {
     "iopub.execute_input": "2022-09-26T10:12:20.893081Z",
     "iopub.status.busy": "2022-09-26T10:12:20.889743Z",
     "iopub.status.idle": "2022-09-26T10:12:20.905526Z",
     "shell.execute_reply": "2022-09-26T10:12:20.906136Z"
    },
    "papermill": {
     "duration": 0.05799,
     "end_time": "2022-09-26T10:12:20.906320",
     "exception": false,
     "start_time": "2022-09-26T10:12:20.848330",
     "status": "completed"
    },
    "tags": []
   },
   "outputs": [],
   "source": [
    "nn_learner = Learner(loss, model_nn, opt, config.num_epochs)\n",
    "acc_nn = ClfCallback(nn_learner, config.bs, training_data_x , testing_data_x, training_data_y, testing_data_y)\n",
    "nn_learner.set_callbacks([acc_nn])"
   ]
  },
  {
   "cell_type": "code",
   "execution_count": 21,
   "id": "877b6cc7",
   "metadata": {
    "execution": {
     "iopub.execute_input": "2022-09-26T10:12:20.996456Z",
     "iopub.status.busy": "2022-09-26T10:12:20.992660Z",
     "iopub.status.idle": "2022-09-26T10:12:21.007867Z",
     "shell.execute_reply": "2022-09-26T10:12:21.008437Z"
    },
    "papermill": {
     "duration": 0.056694,
     "end_time": "2022-09-26T10:12:21.008601",
     "exception": false,
     "start_time": "2022-09-26T10:12:20.951907",
     "status": "completed"
    },
    "tags": []
   },
   "outputs": [],
   "source": [
    "lr_learner = Learner(loss, model_lr, opt, config.num_epochs)\n",
    "acc_lr = ClfCallback(lr_learner, config.bs, training_data_x , testing_data_x, training_data_y, testing_data_y)\n",
    "lr_learner.set_callbacks([acc_lr])"
   ]
  },
  {
   "cell_type": "code",
   "execution_count": 22,
   "id": "d9b133c3",
   "metadata": {
    "execution": {
     "iopub.execute_input": "2022-09-26T10:12:21.096349Z",
     "iopub.status.busy": "2022-09-26T10:12:21.095662Z",
     "iopub.status.idle": "2022-09-26T10:14:52.305439Z",
     "shell.execute_reply": "2022-09-26T10:14:52.306710Z"
    },
    "papermill": {
     "duration": 151.256764,
     "end_time": "2022-09-26T10:14:52.306897",
     "exception": false,
     "start_time": "2022-09-26T10:12:21.050133",
     "status": "completed"
    },
    "tags": []
   },
   "outputs": [
    {
     "name": "stdout",
     "output_type": "stream",
     "text": [
      "Epoch 0, Loss 0.2466\n",
      "Training Accuracy: 0.5906, Testing Accuracy: 0.6003\n",
      "\n"
     ]
    },
    {
     "name": "stdout",
     "output_type": "stream",
     "text": [
      "Epoch 10, Loss 0.1881\n",
      "Training Accuracy: 0.8825, Testing Accuracy: 0.8795\n",
      "\n"
     ]
    },
    {
     "name": "stdout",
     "output_type": "stream",
     "text": [
      "Epoch 20, Loss 0.0941\n",
      "Training Accuracy: 0.9175, Testing Accuracy: 0.9279\n",
      "\n"
     ]
    },
    {
     "name": "stdout",
     "output_type": "stream",
     "text": [
      "Epoch 30, Loss 0.06\n",
      "Training Accuracy: 0.9382, Testing Accuracy: 0.9461\n",
      "\n"
     ]
    },
    {
     "name": "stdout",
     "output_type": "stream",
     "text": [
      "Epoch 40, Loss 0.0472\n",
      "Training Accuracy: 0.9479, Testing Accuracy: 0.9572\n",
      "\n"
     ]
    },
    {
     "name": "stdout",
     "output_type": "stream",
     "text": [
      "Epoch 50, Loss 0.0407\n",
      "Training Accuracy: 0.9539, Testing Accuracy: 0.9622\n",
      "\n"
     ]
    },
    {
     "name": "stdout",
     "output_type": "stream",
     "text": [
      "Epoch 60, Loss 0.0369\n",
      "Training Accuracy: 0.9586, Testing Accuracy: 0.9642\n",
      "\n"
     ]
    },
    {
     "name": "stdout",
     "output_type": "stream",
     "text": [
      "Epoch 70, Loss 0.0342\n",
      "Training Accuracy: 0.9604, Testing Accuracy: 0.9657\n",
      "\n"
     ]
    },
    {
     "name": "stdout",
     "output_type": "stream",
     "text": [
      "Epoch 80, Loss 0.0323\n",
      "Training Accuracy: 0.9623, Testing Accuracy: 0.9677\n",
      "\n"
     ]
    },
    {
     "name": "stdout",
     "output_type": "stream",
     "text": [
      "Epoch 90, Loss 0.0307\n",
      "Training Accuracy: 0.9648, Testing Accuracy: 0.9703\n",
      "\n"
     ]
    },
    {
     "name": "stdout",
     "output_type": "stream",
     "text": [
      "Epoch 100, Loss 0.0295\n",
      "Training Accuracy: 0.9659, Testing Accuracy: 0.9703\n",
      "\n"
     ]
    },
    {
     "name": "stdout",
     "output_type": "stream",
     "text": [
      "Epoch 110, Loss 0.0284\n",
      "Training Accuracy: 0.9674, Testing Accuracy: 0.9713\n",
      "\n"
     ]
    },
    {
     "name": "stdout",
     "output_type": "stream",
     "text": [
      "Epoch 120, Loss 0.0274\n",
      "Training Accuracy: 0.9684, Testing Accuracy: 0.9733\n",
      "\n"
     ]
    },
    {
     "name": "stdout",
     "output_type": "stream",
     "text": [
      "Epoch 130, Loss 0.0266\n",
      "Training Accuracy: 0.9695, Testing Accuracy: 0.9733\n",
      "\n"
     ]
    },
    {
     "name": "stdout",
     "output_type": "stream",
     "text": [
      "Epoch 140, Loss 0.0259\n",
      "Training Accuracy: 0.9703, Testing Accuracy: 0.9733\n",
      "\n"
     ]
    },
    {
     "name": "stdout",
     "output_type": "stream",
     "text": [
      "Epoch 150, Loss 0.0252\n",
      "Training Accuracy: 0.9712, Testing Accuracy: 0.9733\n",
      "\n"
     ]
    },
    {
     "name": "stdout",
     "output_type": "stream",
     "text": [
      "Epoch 160, Loss 0.0246\n",
      "Training Accuracy: 0.9715, Testing Accuracy: 0.9748\n",
      "\n"
     ]
    },
    {
     "name": "stdout",
     "output_type": "stream",
     "text": [
      "Epoch 170, Loss 0.024\n",
      "Training Accuracy: 0.9723, Testing Accuracy: 0.9738\n",
      "\n"
     ]
    },
    {
     "name": "stdout",
     "output_type": "stream",
     "text": [
      "Epoch 180, Loss 0.0235\n",
      "Training Accuracy: 0.9731, Testing Accuracy: 0.9723\n",
      "\n"
     ]
    },
    {
     "name": "stdout",
     "output_type": "stream",
     "text": [
      "Epoch 190, Loss 0.023\n",
      "Training Accuracy: 0.9740, Testing Accuracy: 0.9723\n",
      "\n"
     ]
    },
    {
     "name": "stdout",
     "output_type": "stream",
     "text": [
      "Epoch 200, Loss 0.0226\n",
      "Training Accuracy: 0.9743, Testing Accuracy: 0.9723\n",
      "\n"
     ]
    },
    {
     "name": "stdout",
     "output_type": "stream",
     "text": [
      "Epoch 210, Loss 0.0221\n",
      "Training Accuracy: 0.9750, Testing Accuracy: 0.9723\n",
      "\n"
     ]
    },
    {
     "name": "stdout",
     "output_type": "stream",
     "text": [
      "Epoch 220, Loss 0.0217\n",
      "Training Accuracy: 0.9753, Testing Accuracy: 0.9723\n",
      "\n"
     ]
    },
    {
     "name": "stdout",
     "output_type": "stream",
     "text": [
      "Epoch 230, Loss 0.0213\n",
      "Training Accuracy: 0.9756, Testing Accuracy: 0.9718\n",
      "\n"
     ]
    },
    {
     "name": "stdout",
     "output_type": "stream",
     "text": [
      "Epoch 240, Loss 0.021\n",
      "Training Accuracy: 0.9765, Testing Accuracy: 0.9728\n",
      "\n"
     ]
    },
    {
     "data": {
      "text/plain": [
       "0.038821396384853483"
      ]
     },
     "execution_count": 22,
     "metadata": {},
     "output_type": "execute_result"
    }
   ],
   "source": [
    "nn_learner.train_loop(dl)"
   ]
  },
  {
   "cell_type": "code",
   "execution_count": 23,
   "id": "e0163366",
   "metadata": {
    "execution": {
     "iopub.execute_input": "2022-09-26T10:14:52.411471Z",
     "iopub.status.busy": "2022-09-26T10:14:52.410616Z",
     "iopub.status.idle": "2022-09-26T10:15:14.774479Z",
     "shell.execute_reply": "2022-09-26T10:15:14.775565Z"
    },
    "papermill": {
     "duration": 22.422257,
     "end_time": "2022-09-26T10:15:14.775809",
     "exception": false,
     "start_time": "2022-09-26T10:14:52.353552",
     "status": "completed"
    },
    "tags": []
   },
   "outputs": [
    {
     "name": "stdout",
     "output_type": "stream",
     "text": [
      "Epoch 0, Loss 0.2251\n",
      "Training Accuracy: 0.7467, Testing Accuracy: 0.7676\n",
      "\n"
     ]
    },
    {
     "name": "stdout",
     "output_type": "stream",
     "text": [
      "Epoch 10, Loss 0.099\n",
      "Training Accuracy: 0.9117, Testing Accuracy: 0.9254\n",
      "\n"
     ]
    },
    {
     "name": "stdout",
     "output_type": "stream",
     "text": [
      "Epoch 20, Loss 0.0775\n",
      "Training Accuracy: 0.9275, Testing Accuracy: 0.9395\n",
      "\n"
     ]
    },
    {
     "name": "stdout",
     "output_type": "stream",
     "text": [
      "Epoch 30, Loss 0.0673\n",
      "Training Accuracy: 0.9366, Testing Accuracy: 0.9471\n",
      "\n"
     ]
    },
    {
     "name": "stdout",
     "output_type": "stream",
     "text": [
      "Epoch 40, Loss 0.061\n",
      "Training Accuracy: 0.9416, Testing Accuracy: 0.9501\n",
      "\n"
     ]
    },
    {
     "name": "stdout",
     "output_type": "stream",
     "text": [
      "Epoch 50, Loss 0.0567\n",
      "Training Accuracy: 0.9457, Testing Accuracy: 0.9526\n",
      "\n"
     ]
    },
    {
     "name": "stdout",
     "output_type": "stream",
     "text": [
      "Epoch 60, Loss 0.0535\n",
      "Training Accuracy: 0.9481, Testing Accuracy: 0.9561\n",
      "\n"
     ]
    },
    {
     "name": "stdout",
     "output_type": "stream",
     "text": [
      "Epoch 70, Loss 0.0511\n",
      "Training Accuracy: 0.9500, Testing Accuracy: 0.9587\n",
      "\n"
     ]
    },
    {
     "name": "stdout",
     "output_type": "stream",
     "text": [
      "Epoch 80, Loss 0.0491\n",
      "Training Accuracy: 0.9510, Testing Accuracy: 0.9622\n",
      "\n"
     ]
    },
    {
     "name": "stdout",
     "output_type": "stream",
     "text": [
      "Epoch 90, Loss 0.0474\n",
      "Training Accuracy: 0.9521, Testing Accuracy: 0.9632\n",
      "\n"
     ]
    },
    {
     "name": "stdout",
     "output_type": "stream",
     "text": [
      "Epoch 100, Loss 0.046\n",
      "Training Accuracy: 0.9527, Testing Accuracy: 0.9652\n",
      "\n"
     ]
    },
    {
     "name": "stdout",
     "output_type": "stream",
     "text": [
      "Epoch 110, Loss 0.0448\n",
      "Training Accuracy: 0.9533, Testing Accuracy: 0.9652\n",
      "\n"
     ]
    },
    {
     "name": "stdout",
     "output_type": "stream",
     "text": [
      "Epoch 120, Loss 0.0438\n",
      "Training Accuracy: 0.9541, Testing Accuracy: 0.9657\n",
      "\n"
     ]
    },
    {
     "name": "stdout",
     "output_type": "stream",
     "text": [
      "Epoch 130, Loss 0.0428\n",
      "Training Accuracy: 0.9553, Testing Accuracy: 0.9662\n",
      "\n"
     ]
    },
    {
     "name": "stdout",
     "output_type": "stream",
     "text": [
      "Epoch 140, Loss 0.042\n",
      "Training Accuracy: 0.9559, Testing Accuracy: 0.9657\n",
      "\n"
     ]
    },
    {
     "name": "stdout",
     "output_type": "stream",
     "text": [
      "Epoch 150, Loss 0.0413\n",
      "Training Accuracy: 0.9569, Testing Accuracy: 0.9662\n",
      "\n"
     ]
    },
    {
     "name": "stdout",
     "output_type": "stream",
     "text": [
      "Epoch 160, Loss 0.0406\n",
      "Training Accuracy: 0.9570, Testing Accuracy: 0.9662\n",
      "\n"
     ]
    },
    {
     "name": "stdout",
     "output_type": "stream",
     "text": [
      "Epoch 170, Loss 0.04\n",
      "Training Accuracy: 0.9577, Testing Accuracy: 0.9667\n",
      "\n"
     ]
    },
    {
     "name": "stdout",
     "output_type": "stream",
     "text": [
      "Epoch 180, Loss 0.0394\n",
      "Training Accuracy: 0.9580, Testing Accuracy: 0.9667\n",
      "\n"
     ]
    },
    {
     "name": "stdout",
     "output_type": "stream",
     "text": [
      "Epoch 190, Loss 0.0389\n",
      "Training Accuracy: 0.9586, Testing Accuracy: 0.9677\n",
      "\n"
     ]
    },
    {
     "name": "stdout",
     "output_type": "stream",
     "text": [
      "Epoch 200, Loss 0.0385\n",
      "Training Accuracy: 0.9590, Testing Accuracy: 0.9677\n",
      "\n"
     ]
    },
    {
     "name": "stdout",
     "output_type": "stream",
     "text": [
      "Epoch 210, Loss 0.038\n",
      "Training Accuracy: 0.9596, Testing Accuracy: 0.9677\n",
      "\n"
     ]
    },
    {
     "name": "stdout",
     "output_type": "stream",
     "text": [
      "Epoch 220, Loss 0.0376\n",
      "Training Accuracy: 0.9599, Testing Accuracy: 0.9677\n",
      "\n"
     ]
    },
    {
     "name": "stdout",
     "output_type": "stream",
     "text": [
      "Epoch 230, Loss 0.0372\n",
      "Training Accuracy: 0.9601, Testing Accuracy: 0.9677\n",
      "\n"
     ]
    },
    {
     "name": "stdout",
     "output_type": "stream",
     "text": [
      "Epoch 240, Loss 0.0369\n",
      "Training Accuracy: 0.9604, Testing Accuracy: 0.9688\n",
      "\n"
     ]
    },
    {
     "data": {
      "text/plain": [
       "0.046670122197697075"
      ]
     },
     "execution_count": 23,
     "metadata": {},
     "output_type": "execute_result"
    }
   ],
   "source": [
    "lr_learner.train_loop(dl)"
   ]
  },
  {
   "cell_type": "code",
   "execution_count": 24,
   "id": "ca410940",
   "metadata": {
    "execution": {
     "iopub.execute_input": "2022-09-26T10:15:14.892894Z",
     "iopub.status.busy": "2022-09-26T10:15:14.891994Z",
     "iopub.status.idle": "2022-09-26T10:15:15.244260Z",
     "shell.execute_reply": "2022-09-26T10:15:15.243588Z"
    },
    "papermill": {
     "duration": 0.413383,
     "end_time": "2022-09-26T10:15:15.244412",
     "exception": false,
     "start_time": "2022-09-26T10:15:14.831029",
     "status": "completed"
    },
    "tags": []
   },
   "outputs": [
    {
     "data": {
      "text/plain": [
       "<matplotlib.legend.Legend at 0x7fa48daed390>"
      ]
     },
     "execution_count": 24,
     "metadata": {},
     "output_type": "execute_result"
    },
    {
     "data": {
      "image/png": "[encoded data removed]",
      "text/plain": [
       "<Figure size 1080x720 with 1 Axes>"
      ]
     },
     "metadata": {
      "needs_background": "light"
     },
     "output_type": "display_data"
    }
   ],
   "source": [
    "#comparing the results of NN and LR\n",
    "plt.figure(figsize=(15,10))\n",
    "\n",
    "# Neural Network plots\n",
    "plt.plot(acc_nn.accuracies, 'r-', label = \"Training Accuracies - NN\")\n",
    "plt.plot(acc_nn.test_accuracies, 'g-', label = \"Testing Accuracies - NN\")\n",
    "\n",
    "# Logistic Regression plots\n",
    "plt.plot(acc_lr.accuracies, 'k-', label = \"Training Accuracies - LR\")\n",
    "plt.plot(acc_lr.test_accuracies, 'b-', label = \"Testing Accuracies - LR\")\n",
    "plt.legend()"
   ]
  },
  {
   "cell_type": "markdown",
   "id": "80dfb35c",
   "metadata": {
    "papermill": {
     "duration": 0.060471,
     "end_time": "2022-09-26T10:15:15.365001",
     "exception": false,
     "start_time": "2022-09-26T10:15:15.304530",
     "status": "completed"
    },
    "tags": []
   },
   "source": [
    "#### Plotting the outputs of this layer of the NN.\n"
   ]
  },
  {
   "cell_type": "code",
   "execution_count": 25,
   "id": "45eb2ff5",
   "metadata": {
    "execution": {
     "iopub.execute_input": "2022-09-26T10:15:15.480717Z",
     "iopub.status.busy": "2022-09-26T10:15:15.479880Z",
     "iopub.status.idle": "2022-09-26T10:15:15.510802Z",
     "shell.execute_reply": "2022-09-26T10:15:15.511428Z"
    },
    "papermill": {
     "duration": 0.093636,
     "end_time": "2022-09-26T10:15:15.511615",
     "exception": false,
     "start_time": "2022-09-26T10:15:15.417979",
     "status": "completed"
    },
    "tags": []
   },
   "outputs": [],
   "source": [
    "new_model = Model(layers[:-2])\n",
    "testing_plot = new_model(testing_data_x)"
   ]
  },
  {
   "cell_type": "code",
   "execution_count": 26,
   "id": "4c0a5485",
   "metadata": {
    "execution": {
     "iopub.execute_input": "2022-09-26T10:15:15.637719Z",
     "iopub.status.busy": "2022-09-26T10:15:15.636958Z",
     "iopub.status.idle": "2022-09-26T10:15:15.918827Z",
     "shell.execute_reply": "2022-09-26T10:15:15.918082Z"
    },
    "papermill": {
     "duration": 0.344835,
     "end_time": "2022-09-26T10:15:15.918965",
     "exception": false,
     "start_time": "2022-09-26T10:15:15.574130",
     "status": "completed"
    },
    "tags": []
   },
   "outputs": [
    {
     "data": {
      "text/plain": [
       "Text(0.5, 1.0, 'Outputs')"
      ]
     },
     "execution_count": 26,
     "metadata": {},
     "output_type": "execute_result"
    },
    {
     "data": {
      "image/png": "[encoded data removed]",
      "text/plain": [
       "<Figure size 576x504 with 1 Axes>"
      ]
     },
     "metadata": {
      "needs_background": "light"
     },
     "output_type": "display_data"
    }
   ],
   "source": [
    "# Plotting the scatter plot of points and color coding by class\n",
    "plt.figure(figsize=(8,7))\n",
    "plt.scatter(testing_plot[:,0], testing_plot[:,1], alpha = 0.1, c = y_test.ravel());\n",
    "plt.title('Outputs')"
   ]
  },
  {
   "cell_type": "markdown",
   "id": "a74fcf8f",
   "metadata": {
    "papermill": {
     "duration": 0.07006,
     "end_time": "2022-09-26T10:15:16.049076",
     "exception": false,
     "start_time": "2022-09-26T10:15:15.979016",
     "status": "completed"
    },
    "tags": []
   },
   "source": [
    "Probability contours"
   ]
  },
  {
   "cell_type": "code",
   "execution_count": 27,
   "id": "d0afc8e3",
   "metadata": {
    "execution": {
     "iopub.execute_input": "2022-09-26T10:15:16.201386Z",
     "iopub.status.busy": "2022-09-26T10:15:16.200270Z",
     "iopub.status.idle": "2022-09-26T10:15:16.210261Z",
     "shell.execute_reply": "2022-09-26T10:15:16.210956Z"
    },
    "papermill": {
     "duration": 0.105982,
     "end_time": "2022-09-26T10:15:16.211144",
     "exception": false,
     "start_time": "2022-09-26T10:15:16.105162",
     "status": "completed"
    },
    "tags": []
   },
   "outputs": [],
   "source": [
    "model_prob = Model(layers[-2:]) "
   ]
  },
  {
   "cell_type": "code",
   "execution_count": 28,
   "id": "9b96e238",
   "metadata": {
    "execution": {
     "iopub.execute_input": "2022-09-26T10:15:16.344772Z",
     "iopub.status.busy": "2022-09-26T10:15:16.343926Z",
     "iopub.status.idle": "2022-09-26T10:15:16.361575Z",
     "shell.execute_reply": "2022-09-26T10:15:16.362178Z"
    },
    "papermill": {
     "duration": 0.087529,
     "end_time": "2022-09-26T10:15:16.362470",
     "exception": false,
     "start_time": "2022-09-26T10:15:16.274941",
     "status": "completed"
    },
    "tags": []
   },
   "outputs": [],
   "source": [
    "#creating the x and y ranges according to the above generated plot.\n",
    "x_range = np.linspace(-4, 1, 100) \n",
    "y_range = np.linspace(-6, 6, 100) \n",
    "x_grid, y_grid = np.meshgrid(x_range, y_range) # x_grid and y_grig are of size 100 X 100\n",
    "\n",
    "# converting x_grid and y_grid to continuous arrays\n",
    "x_gridflat = np.ravel(x_grid)\n",
    "y_gridflat = np.ravel(y_grid)\n",
    "\n",
    "# The last layer of the current model takes two columns as input. Hence transpose of np.vstack() is required.\n",
    "X = np.vstack((x_gridflat, y_gridflat)).T\n",
    "\n",
    "prob_contour = model_prob(X).reshape(100,100) "
   ]
  },
  {
   "cell_type": "code",
   "execution_count": 29,
   "id": "da72499a",
   "metadata": {
    "execution": {
     "iopub.execute_input": "2022-09-26T10:15:16.486092Z",
     "iopub.status.busy": "2022-09-26T10:15:16.485369Z",
     "iopub.status.idle": "2022-09-26T10:15:16.838227Z",
     "shell.execute_reply": "2022-09-26T10:15:16.838774Z"
    },
    "papermill": {
     "duration": 0.418447,
     "end_time": "2022-09-26T10:15:16.838934",
     "exception": false,
     "start_time": "2022-09-26T10:15:16.420487",
     "status": "completed"
    },
    "tags": []
   },
   "outputs": [
    {
     "data": {
      "image/png": "[encoded data removed]",
      "text/plain": [
       "<Figure size 720x648 with 1 Axes>"
      ]
     },
     "metadata": {
      "needs_background": "light"
     },
     "output_type": "display_data"
    }
   ],
   "source": [
    "plt.figure(figsize=(10,9))\n",
    "plt.scatter(testing_plot[:,0], testing_plot[:,1], alpha = 0.1, c = y_test.ravel())\n",
    "contours = plt.contour(x_grid,y_grid,prob_contour)\n",
    "plt.title('Probability Contours')\n",
    "plt.clabel(contours, inline = True );"
   ]
  },
  {
   "cell_type": "code",
   "execution_count": null,
   "id": "e81b4ac7",
   "metadata": {
    "papermill": {
     "duration": 0.060185,
     "end_time": "2022-09-26T10:15:16.969693",
     "exception": false,
     "start_time": "2022-09-26T10:15:16.909508",
     "status": "completed"
    },
    "tags": []
   },
   "outputs": [],
   "source": []
  }
 ],
 "metadata": {
  "kernelspec": {
   "display_name": "Python 3",
   "language": "python",
   "name": "python3"
  },
  "language_info": {
   "codemirror_mode": {
    "name": "ipython",
    "version": 3
   },
   "file_extension": ".py",
   "mimetype": "text/x-python",
   "name": "python",
   "nbconvert_exporter": "python",
   "pygments_lexer": "ipython3",
   "version": "3.6.15"
  },
  "papermill": {
   "default_parameters": {},
   "duration": 184.274324,
   "end_time": "2022-09-26T10:15:17.454604",
   "environment_variables": {},
   "exception": null,
   "input_path": "2020-08-11-part2.ipynb",
   "output_path": "2020-08-11-part2.ipynb",
   "parameters": {},
   "start_time": "2022-09-26T10:12:13.180280",
   "version": "2.3.3"
  }
 },
 "nbformat": 4,
 "nbformat_minor": 5
}