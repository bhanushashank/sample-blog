{
 "cells": [
  {
   "cell_type": "markdown",
   "id": "98380cd3",
   "metadata": {
    "papermill": {
     "duration": 0.029895,
     "end_time": "2022-07-29T20:09:54.338988",
     "exception": false,
     "start_time": "2022-07-29T20:09:54.309093",
     "status": "completed"
    },
    "tags": []
   },
   "source": [
    "# Distinguish Your Own Digits (DYOD)"
   ]
  },
  {
   "cell_type": "markdown",
   "id": "ef31240d",
   "metadata": {
    "papermill": {
     "duration": 0.02374,
     "end_time": "2022-07-29T20:09:54.386748",
     "exception": false,
     "start_time": "2022-07-29T20:09:54.363008",
     "status": "completed"
    },
    "tags": []
   },
   "source": [
    "You are going to write a classifier that distinguishes between the number 3 and number 8."
   ]
  },
  {
   "cell_type": "code",
   "execution_count": 1,
   "id": "b15c8646",
   "metadata": {
    "execution": {
     "iopub.execute_input": "2022-07-29T20:09:54.443788Z",
     "iopub.status.busy": "2022-07-29T20:09:54.443146Z",
     "iopub.status.idle": "2022-07-29T20:09:54.454205Z",
     "shell.execute_reply": "2022-07-29T20:09:54.453738Z"
    },
    "papermill": {
     "duration": 0.044119,
     "end_time": "2022-07-29T20:09:54.454326",
     "exception": false,
     "start_time": "2022-07-29T20:09:54.410207",
     "status": "completed"
    },
    "tags": []
   },
   "outputs": [],
   "source": [
    "%load_ext autoreload\n",
    "%autoreload 2"
   ]
  },
  {
   "cell_type": "code",
   "execution_count": 2,
   "id": "22ef38dc",
   "metadata": {
    "execution": {
     "iopub.execute_input": "2022-07-29T20:09:54.516641Z",
     "iopub.status.busy": "2022-07-29T20:09:54.512204Z",
     "iopub.status.idle": "2022-07-29T20:09:55.027619Z",
     "shell.execute_reply": "2022-07-29T20:09:55.026999Z"
    },
    "papermill": {
     "duration": 0.549867,
     "end_time": "2022-07-29T20:09:55.027768",
     "exception": false,
     "start_time": "2022-07-29T20:09:54.477901",
     "status": "completed"
    },
    "tags": []
   },
   "outputs": [],
   "source": [
    "%matplotlib inline\n",
    "import numpy as np\n",
    "import matplotlib.pyplot as plt\n",
    "import pandas as pd"
   ]
  },
  {
   "cell_type": "markdown",
   "id": "ba036198",
   "metadata": {
    "papermill": {
     "duration": 0.023569,
     "end_time": "2022-07-29T20:09:55.074933",
     "exception": false,
     "start_time": "2022-07-29T20:09:55.051364",
     "status": "completed"
    },
    "tags": []
   },
   "source": [
    "From the command line run `pip install mnist`. This is a library that will help you bring down the mnist dataset. If you run this from a notebook, you need to put  `!pip install mnist` in a cell by itself."
   ]
  },
  {
   "cell_type": "code",
   "execution_count": 3,
   "id": "bb6ad8a1",
   "metadata": {
    "execution": {
     "iopub.execute_input": "2022-07-29T20:09:55.125771Z",
     "iopub.status.busy": "2022-07-29T20:09:55.125191Z",
     "iopub.status.idle": "2022-07-29T20:09:56.763534Z",
     "shell.execute_reply": "2022-07-29T20:09:56.762954Z"
    },
    "papermill": {
     "duration": 1.665305,
     "end_time": "2022-07-29T20:09:56.763673",
     "exception": false,
     "start_time": "2022-07-29T20:09:55.098368",
     "status": "completed"
    },
    "tags": []
   },
   "outputs": [
    {
     "name": "stdout",
     "output_type": "stream",
     "text": [
      "Collecting mnist\r\n"
     ]
    },
    {
     "name": "stdout",
     "output_type": "stream",
     "text": [
      "  Downloading mnist-0.2.2-py2.py3-none-any.whl (3.5 kB)\r\n",
      "Requirement already satisfied: numpy in /opt/hostedtoolcache/Python/3.6.15/x64/lib/python3.6/site-packages (from mnist) (1.19.5)\r\n"
     ]
    },
    {
     "name": "stdout",
     "output_type": "stream",
     "text": [
      "Installing collected packages: mnist\r\n",
      "Successfully installed mnist-0.2.2\r\n"
     ]
    }
   ],
   "source": [
    "!pip install mnist"
   ]
  },
  {
   "cell_type": "markdown",
   "id": "69df9c9a",
   "metadata": {
    "papermill": {
     "duration": 0.024211,
     "end_time": "2022-07-29T20:09:56.812436",
     "exception": false,
     "start_time": "2022-07-29T20:09:56.788225",
     "status": "completed"
    },
    "tags": []
   },
   "source": [
    "## Preparing the Data"
   ]
  },
  {
   "cell_type": "code",
   "execution_count": 4,
   "id": "7f69d806",
   "metadata": {
    "execution": {
     "iopub.execute_input": "2022-07-29T20:09:56.880473Z",
     "iopub.status.busy": "2022-07-29T20:09:56.877663Z",
     "iopub.status.idle": "2022-07-29T20:09:56.883687Z",
     "shell.execute_reply": "2022-07-29T20:09:56.883180Z"
    },
    "papermill": {
     "duration": 0.047332,
     "end_time": "2022-07-29T20:09:56.883798",
     "exception": false,
     "start_time": "2022-07-29T20:09:56.836466",
     "status": "completed"
    },
    "tags": []
   },
   "outputs": [],
   "source": [
    "import mnist"
   ]
  },
  {
   "cell_type": "code",
   "execution_count": 5,
   "id": "a411e44f",
   "metadata": {
    "execution": {
     "iopub.execute_input": "2022-07-29T20:09:56.935283Z",
     "iopub.status.busy": "2022-07-29T20:09:56.934710Z",
     "iopub.status.idle": "2022-07-29T20:09:57.595790Z",
     "shell.execute_reply": "2022-07-29T20:09:57.595159Z"
    },
    "papermill": {
     "duration": 0.687995,
     "end_time": "2022-07-29T20:09:57.595931",
     "exception": false,
     "start_time": "2022-07-29T20:09:56.907936",
     "status": "completed"
    },
    "tags": []
   },
   "outputs": [],
   "source": [
    "train_images = mnist.train_images()\n",
    "train_labels = mnist.train_labels()"
   ]
  },
  {
   "cell_type": "code",
   "execution_count": 6,
   "id": "dceab3a5",
   "metadata": {
    "execution": {
     "iopub.execute_input": "2022-07-29T20:09:57.649135Z",
     "iopub.status.busy": "2022-07-29T20:09:57.648557Z",
     "iopub.status.idle": "2022-07-29T20:09:57.663782Z",
     "shell.execute_reply": "2022-07-29T20:09:57.663186Z"
    },
    "papermill": {
     "duration": 0.042567,
     "end_time": "2022-07-29T20:09:57.663892",
     "exception": false,
     "start_time": "2022-07-29T20:09:57.621325",
     "status": "completed"
    },
    "tags": []
   },
   "outputs": [
    {
     "data": {
      "text/plain": [
       "((60000, 28, 28), (60000,))"
      ]
     },
     "execution_count": 6,
     "metadata": {},
     "output_type": "execute_result"
    }
   ],
   "source": [
    "train_images.shape, train_labels.shape"
   ]
  },
  {
   "cell_type": "code",
   "execution_count": 7,
   "id": "f50dc2bb",
   "metadata": {
    "execution": {
     "iopub.execute_input": "2022-07-29T20:09:57.716411Z",
     "iopub.status.busy": "2022-07-29T20:09:57.715791Z",
     "iopub.status.idle": "2022-07-29T20:09:57.948949Z",
     "shell.execute_reply": "2022-07-29T20:09:57.948430Z"
    },
    "papermill": {
     "duration": 0.260839,
     "end_time": "2022-07-29T20:09:57.949075",
     "exception": false,
     "start_time": "2022-07-29T20:09:57.688236",
     "status": "completed"
    },
    "tags": []
   },
   "outputs": [],
   "source": [
    "test_images = mnist.test_images()\n",
    "test_labels = mnist.test_labels()"
   ]
  },
  {
   "cell_type": "code",
   "execution_count": 8,
   "id": "fc38cf1b",
   "metadata": {
    "execution": {
     "iopub.execute_input": "2022-07-29T20:09:58.002365Z",
     "iopub.status.busy": "2022-07-29T20:09:58.001765Z",
     "iopub.status.idle": "2022-07-29T20:09:58.015409Z",
     "shell.execute_reply": "2022-07-29T20:09:58.015986Z"
    },
    "papermill": {
     "duration": 0.042292,
     "end_time": "2022-07-29T20:09:58.016119",
     "exception": false,
     "start_time": "2022-07-29T20:09:57.973827",
     "status": "completed"
    },
    "tags": []
   },
   "outputs": [
    {
     "data": {
      "text/plain": [
       "((10000, 28, 28), (10000,))"
      ]
     },
     "execution_count": 8,
     "metadata": {},
     "output_type": "execute_result"
    }
   ],
   "source": [
    "test_images.shape, test_labels.shape"
   ]
  },
  {
   "cell_type": "code",
   "execution_count": 9,
   "id": "f9ed8fe0",
   "metadata": {
    "execution": {
     "iopub.execute_input": "2022-07-29T20:09:58.095361Z",
     "iopub.status.busy": "2022-07-29T20:09:58.080194Z",
     "iopub.status.idle": "2022-07-29T20:09:58.210544Z",
     "shell.execute_reply": "2022-07-29T20:09:58.209992Z"
    },
    "papermill": {
     "duration": 0.169904,
     "end_time": "2022-07-29T20:09:58.210682",
     "exception": false,
     "start_time": "2022-07-29T20:09:58.040778",
     "status": "completed"
    },
    "tags": []
   },
   "outputs": [
    {
     "name": "stdout",
     "output_type": "stream",
     "text": [
      "2\n"
     ]
    },
    {
     "data": {
      "text/plain": [
       "<matplotlib.image.AxesImage at 0x7fc0de4c5588>"
      ]
     },
     "execution_count": 9,
     "metadata": {},
     "output_type": "execute_result"
    },
    {
     "data": {
      "image/png": "[encoded data removed]",
      "text/plain": [
       "<Figure size 432x288 with 1 Axes>"
      ]
     },
     "metadata": {
      "needs_background": "light"
     },
     "output_type": "display_data"
    }
   ],
   "source": [
    "image_index = 7776 # You may select anything up to 60,000\n",
    "print(train_labels[image_index]) \n",
    "plt.imshow(train_images[image_index], cmap='Greys')"
   ]
  },
  {
   "cell_type": "markdown",
   "id": "a8d2388d",
   "metadata": {
    "papermill": {
     "duration": 0.026168,
     "end_time": "2022-07-29T20:09:58.263244",
     "exception": false,
     "start_time": "2022-07-29T20:09:58.237076",
     "status": "completed"
    },
    "tags": []
   },
   "source": [
    "## Filter data to get 3 and 8 out"
   ]
  },
  {
   "cell_type": "code",
   "execution_count": 10,
   "id": "776f7fc7",
   "metadata": {
    "execution": {
     "iopub.execute_input": "2022-07-29T20:09:58.324834Z",
     "iopub.status.busy": "2022-07-29T20:09:58.324234Z",
     "iopub.status.idle": "2022-07-29T20:09:58.340443Z",
     "shell.execute_reply": "2022-07-29T20:09:58.339964Z"
    },
    "papermill": {
     "duration": 0.0514,
     "end_time": "2022-07-29T20:09:58.340552",
     "exception": false,
     "start_time": "2022-07-29T20:09:58.289152",
     "status": "completed"
    },
    "tags": []
   },
   "outputs": [],
   "source": [
    "train_filter = np.where((train_labels == 3 ) | (train_labels == 8))\n",
    "test_filter = np.where((test_labels == 3) | (test_labels == 8))\n",
    "X_train, y_train = train_images[train_filter], train_labels[train_filter]\n",
    "X_test, y_test = test_images[test_filter], test_labels[test_filter]"
   ]
  },
  {
   "cell_type": "markdown",
   "id": "948f0b7e",
   "metadata": {
    "papermill": {
     "duration": 0.027963,
     "end_time": "2022-07-29T20:09:58.394349",
     "exception": false,
     "start_time": "2022-07-29T20:09:58.366386",
     "status": "completed"
    },
    "tags": []
   },
   "source": [
    "We normalize the pizel values in the 0 to 1 range"
   ]
  },
  {
   "cell_type": "code",
   "execution_count": 11,
   "id": "ee4c2166",
   "metadata": {
    "execution": {
     "iopub.execute_input": "2022-07-29T20:09:58.449294Z",
     "iopub.status.busy": "2022-07-29T20:09:58.448715Z",
     "iopub.status.idle": "2022-07-29T20:09:58.496538Z",
     "shell.execute_reply": "2022-07-29T20:09:58.495992Z"
    },
    "papermill": {
     "duration": 0.076664,
     "end_time": "2022-07-29T20:09:58.496658",
     "exception": false,
     "start_time": "2022-07-29T20:09:58.419994",
     "status": "completed"
    },
    "tags": []
   },
   "outputs": [],
   "source": [
    "X_train = X_train/255.\n",
    "X_test = X_test/255."
   ]
  },
  {
   "cell_type": "markdown",
   "id": "ddcf4fab",
   "metadata": {
    "papermill": {
     "duration": 0.025833,
     "end_time": "2022-07-29T20:09:58.548630",
     "exception": false,
     "start_time": "2022-07-29T20:09:58.522797",
     "status": "completed"
    },
    "tags": []
   },
   "source": [
    "And setup the labels as 1 (when the digit is 3) and 0 (when the digit is 8)"
   ]
  },
  {
   "cell_type": "code",
   "execution_count": 12,
   "id": "7dc908f2",
   "metadata": {
    "execution": {
     "iopub.execute_input": "2022-07-29T20:09:58.604297Z",
     "iopub.status.busy": "2022-07-29T20:09:58.603708Z",
     "iopub.status.idle": "2022-07-29T20:09:58.615769Z",
     "shell.execute_reply": "2022-07-29T20:09:58.616198Z"
    },
    "papermill": {
     "duration": 0.041986,
     "end_time": "2022-07-29T20:09:58.616325",
     "exception": false,
     "start_time": "2022-07-29T20:09:58.574339",
     "status": "completed"
    },
    "tags": []
   },
   "outputs": [],
   "source": [
    "y_train = 1*(y_train==3)\n",
    "y_test = 1*(y_test==3)"
   ]
  },
  {
   "cell_type": "code",
   "execution_count": 13,
   "id": "01e4e969",
   "metadata": {
    "execution": {
     "iopub.execute_input": "2022-07-29T20:09:58.671524Z",
     "iopub.status.busy": "2022-07-29T20:09:58.670922Z",
     "iopub.status.idle": "2022-07-29T20:09:58.684118Z",
     "shell.execute_reply": "2022-07-29T20:09:58.684537Z"
    },
    "papermill": {
     "duration": 0.042471,
     "end_time": "2022-07-29T20:09:58.684658",
     "exception": false,
     "start_time": "2022-07-29T20:09:58.642187",
     "status": "completed"
    },
    "tags": []
   },
   "outputs": [
    {
     "data": {
      "text/plain": [
       "((11982, 28, 28), (1984, 28, 28))"
      ]
     },
     "execution_count": 13,
     "metadata": {},
     "output_type": "execute_result"
    }
   ],
   "source": [
    "X_train.shape, X_test.shape"
   ]
  },
  {
   "cell_type": "markdown",
   "id": "5ccf3f85",
   "metadata": {
    "papermill": {
     "duration": 0.02593,
     "end_time": "2022-07-29T20:09:58.736535",
     "exception": false,
     "start_time": "2022-07-29T20:09:58.710605",
     "status": "completed"
    },
    "tags": []
   },
   "source": [
    "We reshape the data to flatten the image pixels into a set of features or co-variates:"
   ]
  },
  {
   "cell_type": "code",
   "execution_count": 14,
   "id": "5286a4a3",
   "metadata": {
    "execution": {
     "iopub.execute_input": "2022-07-29T20:09:58.806998Z",
     "iopub.status.busy": "2022-07-29T20:09:58.799488Z",
     "iopub.status.idle": "2022-07-29T20:09:58.812723Z",
     "shell.execute_reply": "2022-07-29T20:09:58.811932Z"
    },
    "papermill": {
     "duration": 0.050187,
     "end_time": "2022-07-29T20:09:58.812832",
     "exception": false,
     "start_time": "2022-07-29T20:09:58.762645",
     "status": "completed"
    },
    "tags": []
   },
   "outputs": [
    {
     "data": {
      "text/plain": [
       "((11982, 784), (1984, 784))"
      ]
     },
     "execution_count": 14,
     "metadata": {},
     "output_type": "execute_result"
    }
   ],
   "source": [
    "X_train = X_train.reshape(X_train.shape[0], -1)\n",
    "X_test = X_test.reshape(X_test.shape[0], -1)\n",
    "X_train.shape, X_test.shape"
   ]
  },
  {
   "cell_type": "code",
   "execution_count": 15,
   "id": "73c5f88a",
   "metadata": {
    "execution": {
     "iopub.execute_input": "2022-07-29T20:09:58.872876Z",
     "iopub.status.busy": "2022-07-29T20:09:58.872287Z",
     "iopub.status.idle": "2022-07-29T20:09:58.887564Z",
     "shell.execute_reply": "2022-07-29T20:09:58.888021Z"
    },
    "papermill": {
     "duration": 0.04911,
     "end_time": "2022-07-29T20:09:58.888145",
     "exception": false,
     "start_time": "2022-07-29T20:09:58.839035",
     "status": "completed"
    },
    "tags": []
   },
   "outputs": [],
   "source": [
    "#Impoting functions from 'Kudzu'\n",
    "from kudzu.model import Model\n",
    "from kudzu.train import Learner\n",
    "from kudzu.optim import GD\n",
    "from kudzu.data import Data, Sampler,Dataloader\n",
    "\n",
    "from kudzu.callbacks import AccCallback\n",
    "from kudzu.callbacks import ClfCallback\n",
    "\n",
    "from kudzu.loss import MSE\n",
    "\n",
    "from kudzu.layer import Sigmoid,Relu\n",
    "from kudzu.layer import Affine"
   ]
  },
  {
   "cell_type": "markdown",
   "id": "bc01172a",
   "metadata": {
    "papermill": {
     "duration": 0.027193,
     "end_time": "2022-07-29T20:09:58.941948",
     "exception": false,
     "start_time": "2022-07-29T20:09:58.914755",
     "status": "completed"
    },
    "tags": []
   },
   "source": [
    "### Let us create a `Config` class, to store important parameters. \n",
    "This class essentially plays the role of a dictionary."
   ]
  },
  {
   "cell_type": "code",
   "execution_count": 16,
   "id": "978281aa",
   "metadata": {
    "execution": {
     "iopub.execute_input": "2022-07-29T20:09:58.998860Z",
     "iopub.status.busy": "2022-07-29T20:09:58.998263Z",
     "iopub.status.idle": "2022-07-29T20:09:59.010709Z",
     "shell.execute_reply": "2022-07-29T20:09:59.011188Z"
    },
    "papermill": {
     "duration": 0.042965,
     "end_time": "2022-07-29T20:09:59.011311",
     "exception": false,
     "start_time": "2022-07-29T20:09:58.968346",
     "status": "completed"
    },
    "tags": []
   },
   "outputs": [],
   "source": [
    "class Config:\n",
    "    pass\n",
    "config = Config()\n",
    "config.lr = 0.001\n",
    "config.num_epochs = 250\n",
    "config.bs = 50"
   ]
  },
  {
   "cell_type": "markdown",
   "id": "1385fa59",
   "metadata": {
    "papermill": {
     "duration": 0.02624,
     "end_time": "2022-07-29T20:09:59.064135",
     "exception": false,
     "start_time": "2022-07-29T20:09:59.037895",
     "status": "completed"
    },
    "tags": []
   },
   "source": [
    "### Running Models with the Training data\n",
    "Details about the network layers:\n",
    "- A first affine layer has 784 inputs and does 100 affine transforms. These are followed by a Relu\n",
    "- A second affine layer has 100 inputs from the 100 activations of the past layer, and does 100 affine transforms. These are followed by a Relu\n",
    "- A third affine layer has 100 activations and does 2 affine transformations to create an embedding for visualization. There is no non-linearity here.\n",
    "- A final \"logistic regression\" which has an affine transform from 2 inputs to 1 output, which is squeezed through a sigmoid.\n"
   ]
  },
  {
   "cell_type": "code",
   "execution_count": 17,
   "id": "2b9c66db",
   "metadata": {
    "execution": {
     "iopub.execute_input": "2022-07-29T20:09:59.124850Z",
     "iopub.status.busy": "2022-07-29T20:09:59.124274Z",
     "iopub.status.idle": "2022-07-29T20:09:59.134066Z",
     "shell.execute_reply": "2022-07-29T20:09:59.134513Z"
    },
    "papermill": {
     "duration": 0.044135,
     "end_time": "2022-07-29T20:09:59.134633",
     "exception": false,
     "start_time": "2022-07-29T20:09:59.090498",
     "status": "completed"
    },
    "tags": []
   },
   "outputs": [],
   "source": [
    "data = Data(X_train, y_train.reshape(-1,1))\n",
    "sampler = Sampler(data, config.bs, shuffle=True)\n",
    "\n",
    "dl = Dataloader(data, sampler)\n",
    "\n",
    "opt = GD(config.lr)\n",
    "loss = MSE()"
   ]
  },
  {
   "cell_type": "code",
   "execution_count": 18,
   "id": "b275e4c2",
   "metadata": {
    "execution": {
     "iopub.execute_input": "2022-07-29T20:09:59.200286Z",
     "iopub.status.busy": "2022-07-29T20:09:59.198643Z",
     "iopub.status.idle": "2022-07-29T20:09:59.206142Z",
     "shell.execute_reply": "2022-07-29T20:09:59.205583Z"
    },
    "papermill": {
     "duration": 0.045229,
     "end_time": "2022-07-29T20:09:59.206246",
     "exception": false,
     "start_time": "2022-07-29T20:09:59.161017",
     "status": "completed"
    },
    "tags": []
   },
   "outputs": [],
   "source": [
    "training_data_x = X_train\n",
    "testing_data_x = X_test\n",
    "training_data_y = y_train.reshape(-1,1)\n",
    "testing_data_y = y_test.reshape(-1,1)"
   ]
  },
  {
   "cell_type": "code",
   "execution_count": 19,
   "id": "76951160",
   "metadata": {
    "execution": {
     "iopub.execute_input": "2022-07-29T20:09:59.268703Z",
     "iopub.status.busy": "2022-07-29T20:09:59.265860Z",
     "iopub.status.idle": "2022-07-29T20:09:59.282046Z",
     "shell.execute_reply": "2022-07-29T20:09:59.282491Z"
    },
    "papermill": {
     "duration": 0.046468,
     "end_time": "2022-07-29T20:09:59.282608",
     "exception": false,
     "start_time": "2022-07-29T20:09:59.236140",
     "status": "completed"
    },
    "tags": []
   },
   "outputs": [
    {
     "name": "stdout",
     "output_type": "stream",
     "text": [
      "xavier\n",
      "xavier\n",
      "xavier\n",
      "xavier\n",
      "xavier\n"
     ]
    }
   ],
   "source": [
    "layers = [Affine(\"first\", 784, 100), Relu(\"first\"), Affine(\"second\", 100, 100), Relu(\"second\"), Affine(\"third\", 100, 2), Affine(\"last\", 2, 1), Sigmoid(\"last\")]\n",
    "model_nn = Model(layers)\n",
    "model_lr = Model([Affine(\"logits\", 784, 1), Sigmoid(\"sigmoid\")])"
   ]
  },
  {
   "cell_type": "code",
   "execution_count": 20,
   "id": "6eede77a",
   "metadata": {
    "execution": {
     "iopub.execute_input": "2022-07-29T20:09:59.349033Z",
     "iopub.status.busy": "2022-07-29T20:09:59.341526Z",
     "iopub.status.idle": "2022-07-29T20:09:59.351036Z",
     "shell.execute_reply": "2022-07-29T20:09:59.351505Z"
    },
    "papermill": {
     "duration": 0.042271,
     "end_time": "2022-07-29T20:09:59.351626",
     "exception": false,
     "start_time": "2022-07-29T20:09:59.309355",
     "status": "completed"
    },
    "tags": []
   },
   "outputs": [],
   "source": [
    "nn_learner = Learner(loss, model_nn, opt, config.num_epochs)\n",
    "acc_nn = ClfCallback(nn_learner, config.bs, training_data_x , testing_data_x, training_data_y, testing_data_y)\n",
    "nn_learner.set_callbacks([acc_nn])"
   ]
  },
  {
   "cell_type": "code",
   "execution_count": 21,
   "id": "877b6cc7",
   "metadata": {
    "execution": {
     "iopub.execute_input": "2022-07-29T20:09:59.408311Z",
     "iopub.status.busy": "2022-07-29T20:09:59.407728Z",
     "iopub.status.idle": "2022-07-29T20:09:59.419417Z",
     "shell.execute_reply": "2022-07-29T20:09:59.419925Z"
    },
    "papermill": {
     "duration": 0.041826,
     "end_time": "2022-07-29T20:09:59.420042",
     "exception": false,
     "start_time": "2022-07-29T20:09:59.378216",
     "status": "completed"
    },
    "tags": []
   },
   "outputs": [],
   "source": [
    "lr_learner = Learner(loss, model_lr, opt, config.num_epochs)\n",
    "acc_lr = ClfCallback(lr_learner, config.bs, training_data_x , testing_data_x, training_data_y, testing_data_y)\n",
    "lr_learner.set_callbacks([acc_lr])"
   ]
  },
  {
   "cell_type": "code",
   "execution_count": 22,
   "id": "d9b133c3",
   "metadata": {
    "execution": {
     "iopub.execute_input": "2022-07-29T20:09:59.488382Z",
     "iopub.status.busy": "2022-07-29T20:09:59.484175Z",
     "iopub.status.idle": "2022-07-29T20:11:13.638834Z",
     "shell.execute_reply": "2022-07-29T20:11:13.639719Z"
    },
    "papermill": {
     "duration": 74.193156,
     "end_time": "2022-07-29T20:11:13.639867",
     "exception": false,
     "start_time": "2022-07-29T20:09:59.446711",
     "status": "completed"
    },
    "tags": []
   },
   "outputs": [
    {
     "name": "stdout",
     "output_type": "stream",
     "text": [
      "Epoch 0, Loss 0.2461\n",
      "Training Accuracy: 0.6203, Testing Accuracy: 0.6411\n",
      "\n"
     ]
    },
    {
     "name": "stdout",
     "output_type": "stream",
     "text": [
      "Epoch 10, Loss 0.1289\n",
      "Training Accuracy: 0.8900, Testing Accuracy: 0.8982\n",
      "\n"
     ]
    },
    {
     "name": "stdout",
     "output_type": "stream",
     "text": [
      "Epoch 20, Loss 0.0697\n",
      "Training Accuracy: 0.9290, Testing Accuracy: 0.9410\n",
      "\n"
     ]
    },
    {
     "name": "stdout",
     "output_type": "stream",
     "text": [
      "Epoch 30, Loss 0.0503\n",
      "Training Accuracy: 0.9454, Testing Accuracy: 0.9567\n",
      "\n"
     ]
    },
    {
     "name": "stdout",
     "output_type": "stream",
     "text": [
      "Epoch 40, Loss 0.0418\n",
      "Training Accuracy: 0.9537, Testing Accuracy: 0.9607\n",
      "\n"
     ]
    },
    {
     "name": "stdout",
     "output_type": "stream",
     "text": [
      "Epoch 50, Loss 0.0372\n",
      "Training Accuracy: 0.9582, Testing Accuracy: 0.9652\n",
      "\n"
     ]
    },
    {
     "name": "stdout",
     "output_type": "stream",
     "text": [
      "Epoch 60, Loss 0.0341\n",
      "Training Accuracy: 0.9615, Testing Accuracy: 0.9667\n",
      "\n"
     ]
    },
    {
     "name": "stdout",
     "output_type": "stream",
     "text": [
      "Epoch 70, Loss 0.032\n",
      "Training Accuracy: 0.9639, Testing Accuracy: 0.9662\n",
      "\n"
     ]
    },
    {
     "name": "stdout",
     "output_type": "stream",
     "text": [
      "Epoch 80, Loss 0.0303\n",
      "Training Accuracy: 0.9647, Testing Accuracy: 0.9652\n",
      "\n"
     ]
    },
    {
     "name": "stdout",
     "output_type": "stream",
     "text": [
      "Epoch 90, Loss 0.029\n",
      "Training Accuracy: 0.9666, Testing Accuracy: 0.9667\n",
      "\n"
     ]
    },
    {
     "name": "stdout",
     "output_type": "stream",
     "text": [
      "Epoch 100, Loss 0.0278\n",
      "Training Accuracy: 0.9675, Testing Accuracy: 0.9672\n",
      "\n"
     ]
    },
    {
     "name": "stdout",
     "output_type": "stream",
     "text": [
      "Epoch 110, Loss 0.0269\n",
      "Training Accuracy: 0.9686, Testing Accuracy: 0.9677\n",
      "\n"
     ]
    },
    {
     "name": "stdout",
     "output_type": "stream",
     "text": [
      "Epoch 120, Loss 0.026\n",
      "Training Accuracy: 0.9700, Testing Accuracy: 0.9682\n",
      "\n"
     ]
    },
    {
     "name": "stdout",
     "output_type": "stream",
     "text": [
      "Epoch 130, Loss 0.0253\n",
      "Training Accuracy: 0.9709, Testing Accuracy: 0.9688\n",
      "\n"
     ]
    },
    {
     "name": "stdout",
     "output_type": "stream",
     "text": [
      "Epoch 140, Loss 0.0246\n",
      "Training Accuracy: 0.9716, Testing Accuracy: 0.9688\n",
      "\n"
     ]
    },
    {
     "name": "stdout",
     "output_type": "stream",
     "text": [
      "Epoch 150, Loss 0.024\n",
      "Training Accuracy: 0.9720, Testing Accuracy: 0.9698\n",
      "\n"
     ]
    },
    {
     "name": "stdout",
     "output_type": "stream",
     "text": [
      "Epoch 160, Loss 0.0234\n",
      "Training Accuracy: 0.9729, Testing Accuracy: 0.9698\n",
      "\n"
     ]
    },
    {
     "name": "stdout",
     "output_type": "stream",
     "text": [
      "Epoch 170, Loss 0.0228\n",
      "Training Accuracy: 0.9740, Testing Accuracy: 0.9693\n",
      "\n"
     ]
    },
    {
     "name": "stdout",
     "output_type": "stream",
     "text": [
      "Epoch 180, Loss 0.0223\n",
      "Training Accuracy: 0.9749, Testing Accuracy: 0.9708\n",
      "\n"
     ]
    },
    {
     "name": "stdout",
     "output_type": "stream",
     "text": [
      "Epoch 190, Loss 0.0218\n",
      "Training Accuracy: 0.9756, Testing Accuracy: 0.9708\n",
      "\n"
     ]
    },
    {
     "name": "stdout",
     "output_type": "stream",
     "text": [
      "Epoch 200, Loss 0.0214\n",
      "Training Accuracy: 0.9758, Testing Accuracy: 0.9713\n",
      "\n"
     ]
    },
    {
     "name": "stdout",
     "output_type": "stream",
     "text": [
      "Epoch 210, Loss 0.0209\n",
      "Training Accuracy: 0.9763, Testing Accuracy: 0.9713\n",
      "\n"
     ]
    },
    {
     "name": "stdout",
     "output_type": "stream",
     "text": [
      "Epoch 220, Loss 0.0205\n",
      "Training Accuracy: 0.9771, Testing Accuracy: 0.9713\n",
      "\n"
     ]
    },
    {
     "name": "stdout",
     "output_type": "stream",
     "text": [
      "Epoch 230, Loss 0.0201\n",
      "Training Accuracy: 0.9778, Testing Accuracy: 0.9718\n",
      "\n"
     ]
    },
    {
     "name": "stdout",
     "output_type": "stream",
     "text": [
      "Epoch 240, Loss 0.0197\n",
      "Training Accuracy: 0.9786, Testing Accuracy: 0.9718\n",
      "\n"
     ]
    },
    {
     "data": {
      "text/plain": [
       "0.00382364882399747"
      ]
     },
     "execution_count": 22,
     "metadata": {},
     "output_type": "execute_result"
    }
   ],
   "source": [
    "nn_learner.train_loop(dl)"
   ]
  },
  {
   "cell_type": "code",
   "execution_count": 23,
   "id": "e0163366",
   "metadata": {
    "execution": {
     "iopub.execute_input": "2022-07-29T20:11:13.720948Z",
     "iopub.status.busy": "2022-07-29T20:11:13.720362Z",
     "iopub.status.idle": "2022-07-29T20:11:27.151155Z",
     "shell.execute_reply": "2022-07-29T20:11:27.152014Z"
    },
    "papermill": {
     "duration": 13.478143,
     "end_time": "2022-07-29T20:11:27.152158",
     "exception": false,
     "start_time": "2022-07-29T20:11:13.674015",
     "status": "completed"
    },
    "tags": []
   },
   "outputs": [
    {
     "name": "stdout",
     "output_type": "stream",
     "text": [
      "Epoch 0, Loss 0.2767\n",
      "Training Accuracy: 0.5577, Testing Accuracy: 0.5605\n",
      "\n"
     ]
    },
    {
     "name": "stdout",
     "output_type": "stream",
     "text": [
      "Epoch 10, Loss 0.1082\n",
      "Training Accuracy: 0.8970, Testing Accuracy: 0.9093\n",
      "\n"
     ]
    },
    {
     "name": "stdout",
     "output_type": "stream",
     "text": [
      "Epoch 20, Loss 0.0815\n",
      "Training Accuracy: 0.9209, Testing Accuracy: 0.9330\n",
      "\n"
     ]
    },
    {
     "name": "stdout",
     "output_type": "stream",
     "text": [
      "Epoch 30, Loss 0.0695\n",
      "Training Accuracy: 0.9316, Testing Accuracy: 0.9451\n",
      "\n"
     ]
    },
    {
     "name": "stdout",
     "output_type": "stream",
     "text": [
      "Epoch 40, Loss 0.0624\n",
      "Training Accuracy: 0.9383, Testing Accuracy: 0.9511\n",
      "\n"
     ]
    },
    {
     "name": "stdout",
     "output_type": "stream",
     "text": [
      "Epoch 50, Loss 0.0576\n",
      "Training Accuracy: 0.9427, Testing Accuracy: 0.9551\n",
      "\n"
     ]
    },
    {
     "name": "stdout",
     "output_type": "stream",
     "text": [
      "Epoch 60, Loss 0.0541\n",
      "Training Accuracy: 0.9458, Testing Accuracy: 0.9582\n",
      "\n"
     ]
    },
    {
     "name": "stdout",
     "output_type": "stream",
     "text": [
      "Epoch 70, Loss 0.0514\n",
      "Training Accuracy: 0.9478, Testing Accuracy: 0.9607\n",
      "\n"
     ]
    },
    {
     "name": "stdout",
     "output_type": "stream",
     "text": [
      "Epoch 80, Loss 0.0493\n",
      "Training Accuracy: 0.9498, Testing Accuracy: 0.9617\n",
      "\n"
     ]
    },
    {
     "name": "stdout",
     "output_type": "stream",
     "text": [
      "Epoch 90, Loss 0.0475\n",
      "Training Accuracy: 0.9512, Testing Accuracy: 0.9627\n",
      "\n"
     ]
    },
    {
     "name": "stdout",
     "output_type": "stream",
     "text": [
      "Epoch 100, Loss 0.0461\n",
      "Training Accuracy: 0.9523, Testing Accuracy: 0.9632\n",
      "\n"
     ]
    },
    {
     "name": "stdout",
     "output_type": "stream",
     "text": [
      "Epoch 110, Loss 0.0448\n",
      "Training Accuracy: 0.9535, Testing Accuracy: 0.9652\n",
      "\n"
     ]
    },
    {
     "name": "stdout",
     "output_type": "stream",
     "text": [
      "Epoch 120, Loss 0.0438\n",
      "Training Accuracy: 0.9544, Testing Accuracy: 0.9672\n",
      "\n"
     ]
    },
    {
     "name": "stdout",
     "output_type": "stream",
     "text": [
      "Epoch 130, Loss 0.0428\n",
      "Training Accuracy: 0.9558, Testing Accuracy: 0.9682\n",
      "\n"
     ]
    },
    {
     "name": "stdout",
     "output_type": "stream",
     "text": [
      "Epoch 140, Loss 0.042\n",
      "Training Accuracy: 0.9564, Testing Accuracy: 0.9682\n",
      "\n"
     ]
    },
    {
     "name": "stdout",
     "output_type": "stream",
     "text": [
      "Epoch 150, Loss 0.0412\n",
      "Training Accuracy: 0.9573, Testing Accuracy: 0.9688\n",
      "\n"
     ]
    },
    {
     "name": "stdout",
     "output_type": "stream",
     "text": [
      "Epoch 160, Loss 0.0405\n",
      "Training Accuracy: 0.9581, Testing Accuracy: 0.9688\n",
      "\n"
     ]
    },
    {
     "name": "stdout",
     "output_type": "stream",
     "text": [
      "Epoch 170, Loss 0.0399\n",
      "Training Accuracy: 0.9588, Testing Accuracy: 0.9688\n",
      "\n"
     ]
    },
    {
     "name": "stdout",
     "output_type": "stream",
     "text": [
      "Epoch 180, Loss 0.0394\n",
      "Training Accuracy: 0.9592, Testing Accuracy: 0.9688\n",
      "\n"
     ]
    },
    {
     "name": "stdout",
     "output_type": "stream",
     "text": [
      "Epoch 190, Loss 0.0388\n",
      "Training Accuracy: 0.9598, Testing Accuracy: 0.9688\n",
      "\n"
     ]
    },
    {
     "name": "stdout",
     "output_type": "stream",
     "text": [
      "Epoch 200, Loss 0.0384\n",
      "Training Accuracy: 0.9604, Testing Accuracy: 0.9682\n",
      "\n"
     ]
    },
    {
     "name": "stdout",
     "output_type": "stream",
     "text": [
      "Epoch 210, Loss 0.0379\n",
      "Training Accuracy: 0.9608, Testing Accuracy: 0.9682\n",
      "\n"
     ]
    },
    {
     "name": "stdout",
     "output_type": "stream",
     "text": [
      "Epoch 220, Loss 0.0375\n",
      "Training Accuracy: 0.9612, Testing Accuracy: 0.9682\n",
      "\n"
     ]
    },
    {
     "name": "stdout",
     "output_type": "stream",
     "text": [
      "Epoch 230, Loss 0.0371\n",
      "Training Accuracy: 0.9614, Testing Accuracy: 0.9682\n",
      "\n"
     ]
    },
    {
     "name": "stdout",
     "output_type": "stream",
     "text": [
      "Epoch 240, Loss 0.0368\n",
      "Training Accuracy: 0.9618, Testing Accuracy: 0.9682\n",
      "\n"
     ]
    },
    {
     "data": {
      "text/plain": [
       "0.05677211294936009"
      ]
     },
     "execution_count": 23,
     "metadata": {},
     "output_type": "execute_result"
    }
   ],
   "source": [
    "lr_learner.train_loop(dl)"
   ]
  },
  {
   "cell_type": "code",
   "execution_count": 24,
   "id": "ca410940",
   "metadata": {
    "execution": {
     "iopub.execute_input": "2022-07-29T20:11:27.249570Z",
     "iopub.status.busy": "2022-07-29T20:11:27.248967Z",
     "iopub.status.idle": "2022-07-29T20:11:27.460538Z",
     "shell.execute_reply": "2022-07-29T20:11:27.460992Z"
    },
    "papermill": {
     "duration": 0.268257,
     "end_time": "2022-07-29T20:11:27.461130",
     "exception": false,
     "start_time": "2022-07-29T20:11:27.192873",
     "status": "completed"
    },
    "tags": []
   },
   "outputs": [
    {
     "data": {
      "text/plain": [
       "<matplotlib.legend.Legend at 0x7fc0de021c50>"
      ]
     },
     "execution_count": 24,
     "metadata": {},
     "output_type": "execute_result"
    },
    {
     "data": {
      "image/png": "[encoded data removed]",
      "text/plain": [
       "<Figure size 1080x720 with 1 Axes>"
      ]
     },
     "metadata": {
      "needs_background": "light"
     },
     "output_type": "display_data"
    }
   ],
   "source": [
    "#comparing the results of NN and LR\n",
    "plt.figure(figsize=(15,10))\n",
    "\n",
    "# Neural Network plots\n",
    "plt.plot(acc_nn.accuracies, 'r-', label = \"Training Accuracies - NN\")\n",
    "plt.plot(acc_nn.test_accuracies, 'g-', label = \"Testing Accuracies - NN\")\n",
    "\n",
    "# Logistic Regression plots\n",
    "plt.plot(acc_lr.accuracies, 'k-', label = \"Training Accuracies - LR\")\n",
    "plt.plot(acc_lr.test_accuracies, 'b-', label = \"Testing Accuracies - LR\")\n",
    "plt.legend()"
   ]
  },
  {
   "cell_type": "markdown",
   "id": "80dfb35c",
   "metadata": {
    "papermill": {
     "duration": 0.041122,
     "end_time": "2022-07-29T20:11:27.543915",
     "exception": false,
     "start_time": "2022-07-29T20:11:27.502793",
     "status": "completed"
    },
    "tags": []
   },
   "source": [
    "#### Plotting the outputs of this layer of the NN.\n"
   ]
  },
  {
   "cell_type": "code",
   "execution_count": 25,
   "id": "45eb2ff5",
   "metadata": {
    "execution": {
     "iopub.execute_input": "2022-07-29T20:11:27.632007Z",
     "iopub.status.busy": "2022-07-29T20:11:27.630660Z",
     "iopub.status.idle": "2022-07-29T20:11:27.651199Z",
     "shell.execute_reply": "2022-07-29T20:11:27.650713Z"
    },
    "papermill": {
     "duration": 0.066277,
     "end_time": "2022-07-29T20:11:27.651312",
     "exception": false,
     "start_time": "2022-07-29T20:11:27.585035",
     "status": "completed"
    },
    "tags": []
   },
   "outputs": [],
   "source": [
    "new_model = Model(layers[:-2])\n",
    "testing_plot = new_model(testing_data_x)"
   ]
  },
  {
   "cell_type": "code",
   "execution_count": 26,
   "id": "4c0a5485",
   "metadata": {
    "execution": {
     "iopub.execute_input": "2022-07-29T20:11:27.744346Z",
     "iopub.status.busy": "2022-07-29T20:11:27.742949Z",
     "iopub.status.idle": "2022-07-29T20:11:27.942442Z",
     "shell.execute_reply": "2022-07-29T20:11:27.942899Z"
    },
    "papermill": {
     "duration": 0.250279,
     "end_time": "2022-07-29T20:11:27.943043",
     "exception": false,
     "start_time": "2022-07-29T20:11:27.692764",
     "status": "completed"
    },
    "tags": []
   },
   "outputs": [
    {
     "data": {
      "text/plain": [
       "Text(0.5, 1.0, 'Outputs')"
      ]
     },
     "execution_count": 26,
     "metadata": {},
     "output_type": "execute_result"
    },
    {
     "data": {
      "image/png": "[encoded data removed]",
      "text/plain": [
       "<Figure size 576x504 with 1 Axes>"
      ]
     },
     "metadata": {
      "needs_background": "light"
     },
     "output_type": "display_data"
    }
   ],
   "source": [
    "# Plotting the scatter plot of points and color coding by class\n",
    "plt.figure(figsize=(8,7))\n",
    "plt.scatter(testing_plot[:,0], testing_plot[:,1], alpha = 0.1, c = y_test.ravel());\n",
    "plt.title('Outputs')"
   ]
  },
  {
   "cell_type": "markdown",
   "id": "a74fcf8f",
   "metadata": {
    "papermill": {
     "duration": 0.043431,
     "end_time": "2022-07-29T20:11:28.030470",
     "exception": false,
     "start_time": "2022-07-29T20:11:27.987039",
     "status": "completed"
    },
    "tags": []
   },
   "source": [
    "Probability contours"
   ]
  },
  {
   "cell_type": "code",
   "execution_count": 27,
   "id": "d0afc8e3",
   "metadata": {
    "execution": {
     "iopub.execute_input": "2022-07-29T20:11:28.128927Z",
     "iopub.status.busy": "2022-07-29T20:11:28.128315Z",
     "iopub.status.idle": "2022-07-29T20:11:28.136629Z",
     "shell.execute_reply": "2022-07-29T20:11:28.137079Z"
    },
    "papermill": {
     "duration": 0.0633,
     "end_time": "2022-07-29T20:11:28.137205",
     "exception": false,
     "start_time": "2022-07-29T20:11:28.073905",
     "status": "completed"
    },
    "tags": []
   },
   "outputs": [],
   "source": [
    "model_prob = Model(layers[-2:]) "
   ]
  },
  {
   "cell_type": "code",
   "execution_count": 28,
   "id": "9b96e238",
   "metadata": {
    "execution": {
     "iopub.execute_input": "2022-07-29T20:11:28.262558Z",
     "iopub.status.busy": "2022-07-29T20:11:28.261520Z",
     "iopub.status.idle": "2022-07-29T20:11:28.277215Z",
     "shell.execute_reply": "2022-07-29T20:11:28.277697Z"
    },
    "papermill": {
     "duration": 0.096996,
     "end_time": "2022-07-29T20:11:28.277827",
     "exception": false,
     "start_time": "2022-07-29T20:11:28.180831",
     "status": "completed"
    },
    "tags": []
   },
   "outputs": [],
   "source": [
    "#creating the x and y ranges according to the above generated plot.\n",
    "x_range = np.linspace(-4, 1, 100) \n",
    "y_range = np.linspace(-6, 6, 100) \n",
    "x_grid, y_grid = np.meshgrid(x_range, y_range) # x_grid and y_grig are of size 100 X 100\n",
    "\n",
    "# converting x_grid and y_grid to continuous arrays\n",
    "x_gridflat = np.ravel(x_grid)\n",
    "y_gridflat = np.ravel(y_grid)\n",
    "\n",
    "# The last layer of the current model takes two columns as input. Hence transpose of np.vstack() is required.\n",
    "X = np.vstack((x_gridflat, y_gridflat)).T\n",
    "\n",
    "prob_contour = model_prob(X).reshape(100,100) "
   ]
  },
  {
   "cell_type": "code",
   "execution_count": 29,
   "id": "da72499a",
   "metadata": {
    "execution": {
     "iopub.execute_input": "2022-07-29T20:11:28.388931Z",
     "iopub.status.busy": "2022-07-29T20:11:28.388341Z",
     "iopub.status.idle": "2022-07-29T20:11:28.630835Z",
     "shell.execute_reply": "2022-07-29T20:11:28.629958Z"
    },
    "papermill": {
     "duration": 0.301013,
     "end_time": "2022-07-29T20:11:28.630964",
     "exception": false,
     "start_time": "2022-07-29T20:11:28.329951",
     "status": "completed"
    },
    "tags": []
   },
   "outputs": [
    {
     "data": {
      "image/png": "[encoded data removed]",
      "text/plain": [
       "<Figure size 720x648 with 1 Axes>"
      ]
     },
     "metadata": {
      "needs_background": "light"
     },
     "output_type": "display_data"
    }
   ],
   "source": [
    "plt.figure(figsize=(10,9))\n",
    "plt.scatter(testing_plot[:,0], testing_plot[:,1], alpha = 0.1, c = y_test.ravel())\n",
    "contours = plt.contour(x_grid,y_grid,prob_contour)\n",
    "plt.title('Probability Contours')\n",
    "plt.clabel(contours, inline = True );"
   ]
  },
  {
   "cell_type": "code",
   "execution_count": null,
   "id": "e81b4ac7",
   "metadata": {
    "papermill": {
     "duration": 0.046832,
     "end_time": "2022-07-29T20:11:28.724459",
     "exception": false,
     "start_time": "2022-07-29T20:11:28.677627",
     "status": "completed"
    },
    "tags": []
   },
   "outputs": [],
   "source": []
  }
 ],
 "metadata": {
  "kernelspec": {
   "display_name": "Python 3",
   "language": "python",
   "name": "python3"
  },
  "language_info": {
   "codemirror_mode": {
    "name": "ipython",
    "version": 3
   },
   "file_extension": ".py",
   "mimetype": "text/x-python",
   "name": "python",
   "nbconvert_exporter": "python",
   "pygments_lexer": "ipython3",
   "version": "3.6.15"
  },
  "papermill": {
   "default_parameters": {},
   "duration": 95.811171,
   "end_time": "2022-07-29T20:11:29.193074",
   "environment_variables": {},
   "exception": null,
   "input_path": "2020-08-11-part2.ipynb",
   "output_path": "2020-08-11-part2.ipynb",
   "parameters": {},
   "start_time": "2022-07-29T20:09:53.381903",
   "version": "2.3.3"
  }
 },
 "nbformat": 4,
 "nbformat_minor": 5
}