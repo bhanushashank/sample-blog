{
 "cells": [
  {
   "cell_type": "markdown",
   "id": "98380cd3",
   "metadata": {
    "papermill": {
     "duration": 0.030098,
     "end_time": "2022-10-19T00:56:40.150121",
     "exception": false,
     "start_time": "2022-10-19T00:56:40.120023",
     "status": "completed"
    },
    "tags": []
   },
   "source": [
    "# Distinguish Your Own Digits (DYOD)"
   ]
  },
  {
   "cell_type": "markdown",
   "id": "ef31240d",
   "metadata": {
    "papermill": {
     "duration": 0.023764,
     "end_time": "2022-10-19T00:56:40.198640",
     "exception": false,
     "start_time": "2022-10-19T00:56:40.174876",
     "status": "completed"
    },
    "tags": []
   },
   "source": [
    "You are going to write a classifier that distinguishes between the number 3 and number 8."
   ]
  },
  {
   "cell_type": "code",
   "execution_count": 1,
   "id": "b15c8646",
   "metadata": {
    "execution": {
     "iopub.execute_input": "2022-10-19T00:56:40.258466Z",
     "iopub.status.busy": "2022-10-19T00:56:40.257799Z",
     "iopub.status.idle": "2022-10-19T00:56:40.268911Z",
     "shell.execute_reply": "2022-10-19T00:56:40.268386Z"
    },
    "papermill": {
     "duration": 0.046547,
     "end_time": "2022-10-19T00:56:40.269059",
     "exception": false,
     "start_time": "2022-10-19T00:56:40.222512",
     "status": "completed"
    },
    "tags": []
   },
   "outputs": [],
   "source": [
    "%load_ext autoreload\n",
    "%autoreload 2"
   ]
  },
  {
   "cell_type": "code",
   "execution_count": 2,
   "id": "22ef38dc",
   "metadata": {
    "execution": {
     "iopub.execute_input": "2022-10-19T00:56:40.322150Z",
     "iopub.status.busy": "2022-10-19T00:56:40.321554Z",
     "iopub.status.idle": "2022-10-19T00:56:40.903518Z",
     "shell.execute_reply": "2022-10-19T00:56:40.904408Z"
    },
    "papermill": {
     "duration": 0.611264,
     "end_time": "2022-10-19T00:56:40.904591",
     "exception": false,
     "start_time": "2022-10-19T00:56:40.293327",
     "status": "completed"
    },
    "tags": []
   },
   "outputs": [],
   "source": [
    "%matplotlib inline\n",
    "import numpy as np\n",
    "import matplotlib.pyplot as plt\n",
    "import pandas as pd"
   ]
  },
  {
   "cell_type": "markdown",
   "id": "ba036198",
   "metadata": {
    "papermill": {
     "duration": 0.023808,
     "end_time": "2022-10-19T00:56:40.952285",
     "exception": false,
     "start_time": "2022-10-19T00:56:40.928477",
     "status": "completed"
    },
    "tags": []
   },
   "source": [
    "From the command line run `pip install mnist`. This is a library that will help you bring down the mnist dataset. If you run this from a notebook, you need to put  `!pip install mnist` in a cell by itself."
   ]
  },
  {
   "cell_type": "code",
   "execution_count": 3,
   "id": "bb6ad8a1",
   "metadata": {
    "execution": {
     "iopub.execute_input": "2022-10-19T00:56:41.007601Z",
     "iopub.status.busy": "2022-10-19T00:56:41.004140Z",
     "iopub.status.idle": "2022-10-19T00:56:42.598365Z",
     "shell.execute_reply": "2022-10-19T00:56:42.597745Z"
    },
    "papermill": {
     "duration": 1.622237,
     "end_time": "2022-10-19T00:56:42.598540",
     "exception": false,
     "start_time": "2022-10-19T00:56:40.976303",
     "status": "completed"
    },
    "tags": []
   },
   "outputs": [
    {
     "name": "stdout",
     "output_type": "stream",
     "text": [
      "Collecting mnist\r\n",
      "  Downloading mnist-0.2.2-py2.py3-none-any.whl (3.5 kB)\r\n",
      "Requirement already satisfied: numpy in /opt/hostedtoolcache/Python/3.6.15/x64/lib/python3.6/site-packages (from mnist) (1.19.5)\r\n"
     ]
    },
    {
     "name": "stdout",
     "output_type": "stream",
     "text": [
      "Installing collected packages: mnist\r\n"
     ]
    },
    {
     "name": "stdout",
     "output_type": "stream",
     "text": [
      "Successfully installed mnist-0.2.2\r\n"
     ]
    }
   ],
   "source": [
    "!pip install mnist"
   ]
  },
  {
   "cell_type": "markdown",
   "id": "69df9c9a",
   "metadata": {
    "papermill": {
     "duration": 0.025228,
     "end_time": "2022-10-19T00:56:42.649286",
     "exception": false,
     "start_time": "2022-10-19T00:56:42.624058",
     "status": "completed"
    },
    "tags": []
   },
   "source": [
    "## Preparing the Data"
   ]
  },
  {
   "cell_type": "code",
   "execution_count": 4,
   "id": "7f69d806",
   "metadata": {
    "execution": {
     "iopub.execute_input": "2022-10-19T00:56:42.707333Z",
     "iopub.status.busy": "2022-10-19T00:56:42.702916Z",
     "iopub.status.idle": "2022-10-19T00:56:42.718450Z",
     "shell.execute_reply": "2022-10-19T00:56:42.717955Z"
    },
    "papermill": {
     "duration": 0.04467,
     "end_time": "2022-10-19T00:56:42.718583",
     "exception": false,
     "start_time": "2022-10-19T00:56:42.673913",
     "status": "completed"
    },
    "tags": []
   },
   "outputs": [],
   "source": [
    "import mnist"
   ]
  },
  {
   "cell_type": "code",
   "execution_count": 5,
   "id": "a411e44f",
   "metadata": {
    "execution": {
     "iopub.execute_input": "2022-10-19T00:56:42.779299Z",
     "iopub.status.busy": "2022-10-19T00:56:42.778668Z",
     "iopub.status.idle": "2022-10-19T00:56:43.287258Z",
     "shell.execute_reply": "2022-10-19T00:56:43.286670Z"
    },
    "papermill": {
     "duration": 0.543844,
     "end_time": "2022-10-19T00:56:43.287386",
     "exception": false,
     "start_time": "2022-10-19T00:56:42.743542",
     "status": "completed"
    },
    "tags": []
   },
   "outputs": [],
   "source": [
    "train_images = mnist.train_images()\n",
    "train_labels = mnist.train_labels()"
   ]
  },
  {
   "cell_type": "code",
   "execution_count": 6,
   "id": "dceab3a5",
   "metadata": {
    "execution": {
     "iopub.execute_input": "2022-10-19T00:56:43.341583Z",
     "iopub.status.busy": "2022-10-19T00:56:43.340987Z",
     "iopub.status.idle": "2022-10-19T00:56:43.357219Z",
     "shell.execute_reply": "2022-10-19T00:56:43.356734Z"
    },
    "papermill": {
     "duration": 0.044964,
     "end_time": "2022-10-19T00:56:43.357342",
     "exception": false,
     "start_time": "2022-10-19T00:56:43.312378",
     "status": "completed"
    },
    "tags": []
   },
   "outputs": [
    {
     "data": {
      "text/plain": [
       "((60000, 28, 28), (60000,))"
      ]
     },
     "execution_count": 6,
     "metadata": {},
     "output_type": "execute_result"
    }
   ],
   "source": [
    "train_images.shape, train_labels.shape"
   ]
  },
  {
   "cell_type": "code",
   "execution_count": 7,
   "id": "f50dc2bb",
   "metadata": {
    "execution": {
     "iopub.execute_input": "2022-10-19T00:56:43.427201Z",
     "iopub.status.busy": "2022-10-19T00:56:43.426525Z",
     "iopub.status.idle": "2022-10-19T00:56:43.537733Z",
     "shell.execute_reply": "2022-10-19T00:56:43.537143Z"
    },
    "papermill": {
     "duration": 0.155569,
     "end_time": "2022-10-19T00:56:43.537881",
     "exception": false,
     "start_time": "2022-10-19T00:56:43.382312",
     "status": "completed"
    },
    "tags": []
   },
   "outputs": [],
   "source": [
    "test_images = mnist.test_images()\n",
    "test_labels = mnist.test_labels()"
   ]
  },
  {
   "cell_type": "code",
   "execution_count": 8,
   "id": "fc38cf1b",
   "metadata": {
    "execution": {
     "iopub.execute_input": "2022-10-19T00:56:43.594097Z",
     "iopub.status.busy": "2022-10-19T00:56:43.593468Z",
     "iopub.status.idle": "2022-10-19T00:56:43.608638Z",
     "shell.execute_reply": "2022-10-19T00:56:43.608153Z"
    },
    "papermill": {
     "duration": 0.044882,
     "end_time": "2022-10-19T00:56:43.608759",
     "exception": false,
     "start_time": "2022-10-19T00:56:43.563877",
     "status": "completed"
    },
    "tags": []
   },
   "outputs": [
    {
     "data": {
      "text/plain": [
       "((10000, 28, 28), (10000,))"
      ]
     },
     "execution_count": 8,
     "metadata": {},
     "output_type": "execute_result"
    }
   ],
   "source": [
    "test_images.shape, test_labels.shape"
   ]
  },
  {
   "cell_type": "code",
   "execution_count": 9,
   "id": "f9ed8fe0",
   "metadata": {
    "execution": {
     "iopub.execute_input": "2022-10-19T00:56:43.663917Z",
     "iopub.status.busy": "2022-10-19T00:56:43.663336Z",
     "iopub.status.idle": "2022-10-19T00:56:43.803481Z",
     "shell.execute_reply": "2022-10-19T00:56:43.803994Z"
    },
    "papermill": {
     "duration": 0.170065,
     "end_time": "2022-10-19T00:56:43.804156",
     "exception": false,
     "start_time": "2022-10-19T00:56:43.634091",
     "status": "completed"
    },
    "tags": []
   },
   "outputs": [
    {
     "name": "stdout",
     "output_type": "stream",
     "text": [
      "2\n"
     ]
    },
    {
     "data": {
      "text/plain": [
       "<matplotlib.image.AxesImage at 0x7f8f7c5abd30>"
      ]
     },
     "execution_count": 9,
     "metadata": {},
     "output_type": "execute_result"
    },
    {
     "data": {
      "image/png": "[encoded data removed]",
      "text/plain": [
       "<Figure size 432x288 with 1 Axes>"
      ]
     },
     "metadata": {
      "needs_background": "light"
     },
     "output_type": "display_data"
    }
   ],
   "source": [
    "image_index = 7776 # You may select anything up to 60,000\n",
    "print(train_labels[image_index]) \n",
    "plt.imshow(train_images[image_index], cmap='Greys')"
   ]
  },
  {
   "cell_type": "markdown",
   "id": "a8d2388d",
   "metadata": {
    "papermill": {
     "duration": 0.026772,
     "end_time": "2022-10-19T00:56:43.857694",
     "exception": false,
     "start_time": "2022-10-19T00:56:43.830922",
     "status": "completed"
    },
    "tags": []
   },
   "source": [
    "## Filter data to get 3 and 8 out"
   ]
  },
  {
   "cell_type": "code",
   "execution_count": 10,
   "id": "776f7fc7",
   "metadata": {
    "execution": {
     "iopub.execute_input": "2022-10-19T00:56:43.923358Z",
     "iopub.status.busy": "2022-10-19T00:56:43.921501Z",
     "iopub.status.idle": "2022-10-19T00:56:43.935139Z",
     "shell.execute_reply": "2022-10-19T00:56:43.935626Z"
    },
    "papermill": {
     "duration": 0.051647,
     "end_time": "2022-10-19T00:56:43.935772",
     "exception": false,
     "start_time": "2022-10-19T00:56:43.884125",
     "status": "completed"
    },
    "tags": []
   },
   "outputs": [],
   "source": [
    "train_filter = np.where((train_labels == 3 ) | (train_labels == 8))\n",
    "test_filter = np.where((test_labels == 3) | (test_labels == 8))\n",
    "X_train, y_train = train_images[train_filter], train_labels[train_filter]\n",
    "X_test, y_test = test_images[test_filter], test_labels[test_filter]"
   ]
  },
  {
   "cell_type": "markdown",
   "id": "948f0b7e",
   "metadata": {
    "papermill": {
     "duration": 0.02642,
     "end_time": "2022-10-19T00:56:43.988672",
     "exception": false,
     "start_time": "2022-10-19T00:56:43.962252",
     "status": "completed"
    },
    "tags": []
   },
   "source": [
    "We normalize the pizel values in the 0 to 1 range"
   ]
  },
  {
   "cell_type": "code",
   "execution_count": 11,
   "id": "ee4c2166",
   "metadata": {
    "execution": {
     "iopub.execute_input": "2022-10-19T00:56:44.059646Z",
     "iopub.status.busy": "2022-10-19T00:56:44.055460Z",
     "iopub.status.idle": "2022-10-19T00:56:44.095289Z",
     "shell.execute_reply": "2022-10-19T00:56:44.094391Z"
    },
    "papermill": {
     "duration": 0.080514,
     "end_time": "2022-10-19T00:56:44.095429",
     "exception": false,
     "start_time": "2022-10-19T00:56:44.014915",
     "status": "completed"
    },
    "tags": []
   },
   "outputs": [],
   "source": [
    "X_train = X_train/255.\n",
    "X_test = X_test/255."
   ]
  },
  {
   "cell_type": "markdown",
   "id": "ddcf4fab",
   "metadata": {
    "papermill": {
     "duration": 0.026409,
     "end_time": "2022-10-19T00:56:44.148480",
     "exception": false,
     "start_time": "2022-10-19T00:56:44.122071",
     "status": "completed"
    },
    "tags": []
   },
   "source": [
    "And setup the labels as 1 (when the digit is 3) and 0 (when the digit is 8)"
   ]
  },
  {
   "cell_type": "code",
   "execution_count": 12,
   "id": "7dc908f2",
   "metadata": {
    "execution": {
     "iopub.execute_input": "2022-10-19T00:56:44.217614Z",
     "iopub.status.busy": "2022-10-19T00:56:44.211400Z",
     "iopub.status.idle": "2022-10-19T00:56:44.223051Z",
     "shell.execute_reply": "2022-10-19T00:56:44.222545Z"
    },
    "papermill": {
     "duration": 0.047842,
     "end_time": "2022-10-19T00:56:44.223172",
     "exception": false,
     "start_time": "2022-10-19T00:56:44.175330",
     "status": "completed"
    },
    "tags": []
   },
   "outputs": [],
   "source": [
    "y_train = 1*(y_train==3)\n",
    "y_test = 1*(y_test==3)"
   ]
  },
  {
   "cell_type": "code",
   "execution_count": 13,
   "id": "01e4e969",
   "metadata": {
    "execution": {
     "iopub.execute_input": "2022-10-19T00:56:44.292558Z",
     "iopub.status.busy": "2022-10-19T00:56:44.289740Z",
     "iopub.status.idle": "2022-10-19T00:56:44.298224Z",
     "shell.execute_reply": "2022-10-19T00:56:44.298700Z"
    },
    "papermill": {
     "duration": 0.04911,
     "end_time": "2022-10-19T00:56:44.298851",
     "exception": false,
     "start_time": "2022-10-19T00:56:44.249741",
     "status": "completed"
    },
    "tags": []
   },
   "outputs": [
    {
     "data": {
      "text/plain": [
       "((11982, 28, 28), (1984, 28, 28))"
      ]
     },
     "execution_count": 13,
     "metadata": {},
     "output_type": "execute_result"
    }
   ],
   "source": [
    "X_train.shape, X_test.shape"
   ]
  },
  {
   "cell_type": "markdown",
   "id": "5ccf3f85",
   "metadata": {
    "papermill": {
     "duration": 0.026338,
     "end_time": "2022-10-19T00:56:44.351656",
     "exception": false,
     "start_time": "2022-10-19T00:56:44.325318",
     "status": "completed"
    },
    "tags": []
   },
   "source": [
    "We reshape the data to flatten the image pixels into a set of features or co-variates:"
   ]
  },
  {
   "cell_type": "code",
   "execution_count": 14,
   "id": "5286a4a3",
   "metadata": {
    "execution": {
     "iopub.execute_input": "2022-10-19T00:56:44.413179Z",
     "iopub.status.busy": "2022-10-19T00:56:44.412577Z",
     "iopub.status.idle": "2022-10-19T00:56:44.426611Z",
     "shell.execute_reply": "2022-10-19T00:56:44.427064Z"
    },
    "papermill": {
     "duration": 0.049117,
     "end_time": "2022-10-19T00:56:44.427202",
     "exception": false,
     "start_time": "2022-10-19T00:56:44.378085",
     "status": "completed"
    },
    "tags": []
   },
   "outputs": [
    {
     "data": {
      "text/plain": [
       "((11982, 784), (1984, 784))"
      ]
     },
     "execution_count": 14,
     "metadata": {},
     "output_type": "execute_result"
    }
   ],
   "source": [
    "X_train = X_train.reshape(X_train.shape[0], -1)\n",
    "X_test = X_test.reshape(X_test.shape[0], -1)\n",
    "X_train.shape, X_test.shape"
   ]
  },
  {
   "cell_type": "code",
   "execution_count": 15,
   "id": "73c5f88a",
   "metadata": {
    "execution": {
     "iopub.execute_input": "2022-10-19T00:56:44.495499Z",
     "iopub.status.busy": "2022-10-19T00:56:44.484461Z",
     "iopub.status.idle": "2022-10-19T00:56:44.506918Z",
     "shell.execute_reply": "2022-10-19T00:56:44.507354Z"
    },
    "papermill": {
     "duration": 0.053666,
     "end_time": "2022-10-19T00:56:44.507503",
     "exception": false,
     "start_time": "2022-10-19T00:56:44.453837",
     "status": "completed"
    },
    "tags": []
   },
   "outputs": [],
   "source": [
    "#Impoting functions from 'Kudzu'\n",
    "from kudzu.model import Model\n",
    "from kudzu.train import Learner\n",
    "from kudzu.optim import GD\n",
    "from kudzu.data import Data, Sampler,Dataloader\n",
    "\n",
    "from kudzu.callbacks import AccCallback\n",
    "from kudzu.callbacks import ClfCallback\n",
    "\n",
    "from kudzu.loss import MSE\n",
    "\n",
    "from kudzu.layer import Sigmoid,Relu\n",
    "from kudzu.layer import Affine"
   ]
  },
  {
   "cell_type": "markdown",
   "id": "bc01172a",
   "metadata": {
    "papermill": {
     "duration": 0.026574,
     "end_time": "2022-10-19T00:56:44.561095",
     "exception": false,
     "start_time": "2022-10-19T00:56:44.534521",
     "status": "completed"
    },
    "tags": []
   },
   "source": [
    "### Let us create a `Config` class, to store important parameters. \n",
    "This class essentially plays the role of a dictionary."
   ]
  },
  {
   "cell_type": "code",
   "execution_count": 16,
   "id": "978281aa",
   "metadata": {
    "execution": {
     "iopub.execute_input": "2022-10-19T00:56:44.631459Z",
     "iopub.status.busy": "2022-10-19T00:56:44.627574Z",
     "iopub.status.idle": "2022-10-19T00:56:44.638722Z",
     "shell.execute_reply": "2022-10-19T00:56:44.638201Z"
    },
    "papermill": {
     "duration": 0.050627,
     "end_time": "2022-10-19T00:56:44.638852",
     "exception": false,
     "start_time": "2022-10-19T00:56:44.588225",
     "status": "completed"
    },
    "tags": []
   },
   "outputs": [],
   "source": [
    "class Config:\n",
    "    pass\n",
    "config = Config()\n",
    "config.lr = 0.001\n",
    "config.num_epochs = 250\n",
    "config.bs = 50"
   ]
  },
  {
   "cell_type": "markdown",
   "id": "1385fa59",
   "metadata": {
    "papermill": {
     "duration": 0.026975,
     "end_time": "2022-10-19T00:56:44.692877",
     "exception": false,
     "start_time": "2022-10-19T00:56:44.665902",
     "status": "completed"
    },
    "tags": []
   },
   "source": [
    "### Running Models with the Training data\n",
    "Details about the network layers:\n",
    "- A first affine layer has 784 inputs and does 100 affine transforms. These are followed by a Relu\n",
    "- A second affine layer has 100 inputs from the 100 activations of the past layer, and does 100 affine transforms. These are followed by a Relu\n",
    "- A third affine layer has 100 activations and does 2 affine transformations to create an embedding for visualization. There is no non-linearity here.\n",
    "- A final \"logistic regression\" which has an affine transform from 2 inputs to 1 output, which is squeezed through a sigmoid.\n"
   ]
  },
  {
   "cell_type": "code",
   "execution_count": 17,
   "id": "2b9c66db",
   "metadata": {
    "execution": {
     "iopub.execute_input": "2022-10-19T00:56:44.754394Z",
     "iopub.status.busy": "2022-10-19T00:56:44.753769Z",
     "iopub.status.idle": "2022-10-19T00:56:44.764737Z",
     "shell.execute_reply": "2022-10-19T00:56:44.765188Z"
    },
    "papermill": {
     "duration": 0.045573,
     "end_time": "2022-10-19T00:56:44.765339",
     "exception": false,
     "start_time": "2022-10-19T00:56:44.719766",
     "status": "completed"
    },
    "tags": []
   },
   "outputs": [],
   "source": [
    "data = Data(X_train, y_train.reshape(-1,1))\n",
    "sampler = Sampler(data, config.bs, shuffle=True)\n",
    "\n",
    "dl = Dataloader(data, sampler)\n",
    "\n",
    "opt = GD(config.lr)\n",
    "loss = MSE()"
   ]
  },
  {
   "cell_type": "code",
   "execution_count": 18,
   "id": "b275e4c2",
   "metadata": {
    "execution": {
     "iopub.execute_input": "2022-10-19T00:56:44.829760Z",
     "iopub.status.busy": "2022-10-19T00:56:44.829133Z",
     "iopub.status.idle": "2022-10-19T00:56:44.838878Z",
     "shell.execute_reply": "2022-10-19T00:56:44.838337Z"
    },
    "papermill": {
     "duration": 0.046529,
     "end_time": "2022-10-19T00:56:44.839007",
     "exception": false,
     "start_time": "2022-10-19T00:56:44.792478",
     "status": "completed"
    },
    "tags": []
   },
   "outputs": [],
   "source": [
    "training_data_x = X_train\n",
    "testing_data_x = X_test\n",
    "training_data_y = y_train.reshape(-1,1)\n",
    "testing_data_y = y_test.reshape(-1,1)"
   ]
  },
  {
   "cell_type": "code",
   "execution_count": 19,
   "id": "76951160",
   "metadata": {
    "execution": {
     "iopub.execute_input": "2022-10-19T00:56:44.900053Z",
     "iopub.status.busy": "2022-10-19T00:56:44.899437Z",
     "iopub.status.idle": "2022-10-19T00:56:44.914771Z",
     "shell.execute_reply": "2022-10-19T00:56:44.915257Z"
    },
    "papermill": {
     "duration": 0.049418,
     "end_time": "2022-10-19T00:56:44.915406",
     "exception": false,
     "start_time": "2022-10-19T00:56:44.865988",
     "status": "completed"
    },
    "tags": []
   },
   "outputs": [
    {
     "name": "stdout",
     "output_type": "stream",
     "text": [
      "xavier\n",
      "xavier\n",
      "xavier\n",
      "xavier\n",
      "xavier\n"
     ]
    }
   ],
   "source": [
    "layers = [Affine(\"first\", 784, 100), Relu(\"first\"), Affine(\"second\", 100, 100), Relu(\"second\"), Affine(\"third\", 100, 2), Affine(\"last\", 2, 1), Sigmoid(\"last\")]\n",
    "model_nn = Model(layers)\n",
    "model_lr = Model([Affine(\"logits\", 784, 1), Sigmoid(\"sigmoid\")])"
   ]
  },
  {
   "cell_type": "code",
   "execution_count": 20,
   "id": "6eede77a",
   "metadata": {
    "execution": {
     "iopub.execute_input": "2022-10-19T00:56:44.984341Z",
     "iopub.status.busy": "2022-10-19T00:56:44.983692Z",
     "iopub.status.idle": "2022-10-19T00:56:44.991325Z",
     "shell.execute_reply": "2022-10-19T00:56:44.990807Z"
    },
    "papermill": {
     "duration": 0.048663,
     "end_time": "2022-10-19T00:56:44.991450",
     "exception": false,
     "start_time": "2022-10-19T00:56:44.942787",
     "status": "completed"
    },
    "tags": []
   },
   "outputs": [],
   "source": [
    "nn_learner = Learner(loss, model_nn, opt, config.num_epochs)\n",
    "acc_nn = ClfCallback(nn_learner, config.bs, training_data_x , testing_data_x, training_data_y, testing_data_y)\n",
    "nn_learner.set_callbacks([acc_nn])"
   ]
  },
  {
   "cell_type": "code",
   "execution_count": 21,
   "id": "877b6cc7",
   "metadata": {
    "execution": {
     "iopub.execute_input": "2022-10-19T00:56:45.057627Z",
     "iopub.status.busy": "2022-10-19T00:56:45.056978Z",
     "iopub.status.idle": "2022-10-19T00:56:45.066093Z",
     "shell.execute_reply": "2022-10-19T00:56:45.065588Z"
    },
    "papermill": {
     "duration": 0.047286,
     "end_time": "2022-10-19T00:56:45.066224",
     "exception": false,
     "start_time": "2022-10-19T00:56:45.018938",
     "status": "completed"
    },
    "tags": []
   },
   "outputs": [],
   "source": [
    "lr_learner = Learner(loss, model_lr, opt, config.num_epochs)\n",
    "acc_lr = ClfCallback(lr_learner, config.bs, training_data_x , testing_data_x, training_data_y, testing_data_y)\n",
    "lr_learner.set_callbacks([acc_lr])"
   ]
  },
  {
   "cell_type": "code",
   "execution_count": 22,
   "id": "d9b133c3",
   "metadata": {
    "execution": {
     "iopub.execute_input": "2022-10-19T00:56:45.135731Z",
     "iopub.status.busy": "2022-10-19T00:56:45.131452Z",
     "iopub.status.idle": "2022-10-19T00:58:02.460747Z",
     "shell.execute_reply": "2022-10-19T00:58:02.461625Z"
    },
    "papermill": {
     "duration": 77.368069,
     "end_time": "2022-10-19T00:58:02.461784",
     "exception": false,
     "start_time": "2022-10-19T00:56:45.093715",
     "status": "completed"
    },
    "tags": []
   },
   "outputs": [
    {
     "name": "stdout",
     "output_type": "stream",
     "text": [
      "Epoch 0, Loss 0.2452\n",
      "Training Accuracy: 0.6966, Testing Accuracy: 0.7011\n",
      "\n"
     ]
    },
    {
     "name": "stdout",
     "output_type": "stream",
     "text": [
      "Epoch 10, Loss 0.07\n",
      "Training Accuracy: 0.9311, Testing Accuracy: 0.9405\n",
      "\n"
     ]
    },
    {
     "name": "stdout",
     "output_type": "stream",
     "text": [
      "Epoch 20, Loss 0.0472\n",
      "Training Accuracy: 0.9502, Testing Accuracy: 0.9597\n",
      "\n"
     ]
    },
    {
     "name": "stdout",
     "output_type": "stream",
     "text": [
      "Epoch 30, Loss 0.0389\n",
      "Training Accuracy: 0.9578, Testing Accuracy: 0.9672\n",
      "\n"
     ]
    },
    {
     "name": "stdout",
     "output_type": "stream",
     "text": [
      "Epoch 40, Loss 0.0345\n",
      "Training Accuracy: 0.9614, Testing Accuracy: 0.9667\n",
      "\n"
     ]
    },
    {
     "name": "stdout",
     "output_type": "stream",
     "text": [
      "Epoch 50, Loss 0.0317\n",
      "Training Accuracy: 0.9639, Testing Accuracy: 0.9703\n",
      "\n"
     ]
    },
    {
     "name": "stdout",
     "output_type": "stream",
     "text": [
      "Epoch 60, Loss 0.0297\n",
      "Training Accuracy: 0.9658, Testing Accuracy: 0.9703\n",
      "\n"
     ]
    },
    {
     "name": "stdout",
     "output_type": "stream",
     "text": [
      "Epoch 70, Loss 0.0281\n",
      "Training Accuracy: 0.9675, Testing Accuracy: 0.9723\n",
      "\n"
     ]
    },
    {
     "name": "stdout",
     "output_type": "stream",
     "text": [
      "Epoch 80, Loss 0.0268\n",
      "Training Accuracy: 0.9699, Testing Accuracy: 0.9718\n",
      "\n"
     ]
    },
    {
     "name": "stdout",
     "output_type": "stream",
     "text": [
      "Epoch 90, Loss 0.0257\n",
      "Training Accuracy: 0.9712, Testing Accuracy: 0.9713\n",
      "\n"
     ]
    },
    {
     "name": "stdout",
     "output_type": "stream",
     "text": [
      "Epoch 100, Loss 0.0248\n",
      "Training Accuracy: 0.9718, Testing Accuracy: 0.9718\n",
      "\n"
     ]
    },
    {
     "name": "stdout",
     "output_type": "stream",
     "text": [
      "Epoch 110, Loss 0.024\n",
      "Training Accuracy: 0.9720, Testing Accuracy: 0.9703\n",
      "\n"
     ]
    },
    {
     "name": "stdout",
     "output_type": "stream",
     "text": [
      "Epoch 120, Loss 0.0233\n",
      "Training Accuracy: 0.9731, Testing Accuracy: 0.9718\n",
      "\n"
     ]
    },
    {
     "name": "stdout",
     "output_type": "stream",
     "text": [
      "Epoch 130, Loss 0.0227\n",
      "Training Accuracy: 0.9735, Testing Accuracy: 0.9713\n",
      "\n"
     ]
    },
    {
     "name": "stdout",
     "output_type": "stream",
     "text": [
      "Epoch 140, Loss 0.0221\n",
      "Training Accuracy: 0.9741, Testing Accuracy: 0.9733\n",
      "\n"
     ]
    },
    {
     "name": "stdout",
     "output_type": "stream",
     "text": [
      "Epoch 150, Loss 0.0215\n",
      "Training Accuracy: 0.9748, Testing Accuracy: 0.9743\n",
      "\n"
     ]
    },
    {
     "name": "stdout",
     "output_type": "stream",
     "text": [
      "Epoch 160, Loss 0.021\n",
      "Training Accuracy: 0.9754, Testing Accuracy: 0.9753\n",
      "\n"
     ]
    },
    {
     "name": "stdout",
     "output_type": "stream",
     "text": [
      "Epoch 170, Loss 0.0205\n",
      "Training Accuracy: 0.9762, Testing Accuracy: 0.9748\n",
      "\n"
     ]
    },
    {
     "name": "stdout",
     "output_type": "stream",
     "text": [
      "Epoch 180, Loss 0.02\n",
      "Training Accuracy: 0.9766, Testing Accuracy: 0.9743\n",
      "\n"
     ]
    },
    {
     "name": "stdout",
     "output_type": "stream",
     "text": [
      "Epoch 190, Loss 0.0196\n",
      "Training Accuracy: 0.9772, Testing Accuracy: 0.9743\n",
      "\n"
     ]
    },
    {
     "name": "stdout",
     "output_type": "stream",
     "text": [
      "Epoch 200, Loss 0.0192\n",
      "Training Accuracy: 0.9780, Testing Accuracy: 0.9743\n",
      "\n"
     ]
    },
    {
     "name": "stdout",
     "output_type": "stream",
     "text": [
      "Epoch 210, Loss 0.0188\n",
      "Training Accuracy: 0.9785, Testing Accuracy: 0.9748\n",
      "\n"
     ]
    },
    {
     "name": "stdout",
     "output_type": "stream",
     "text": [
      "Epoch 220, Loss 0.0184\n",
      "Training Accuracy: 0.9793, Testing Accuracy: 0.9738\n",
      "\n"
     ]
    },
    {
     "name": "stdout",
     "output_type": "stream",
     "text": [
      "Epoch 230, Loss 0.018\n",
      "Training Accuracy: 0.9799, Testing Accuracy: 0.9748\n",
      "\n"
     ]
    },
    {
     "name": "stdout",
     "output_type": "stream",
     "text": [
      "Epoch 240, Loss 0.0176\n",
      "Training Accuracy: 0.9800, Testing Accuracy: 0.9753\n",
      "\n"
     ]
    },
    {
     "data": {
      "text/plain": [
       "0.0028007399187497083"
      ]
     },
     "execution_count": 22,
     "metadata": {},
     "output_type": "execute_result"
    }
   ],
   "source": [
    "nn_learner.train_loop(dl)"
   ]
  },
  {
   "cell_type": "code",
   "execution_count": 23,
   "id": "e0163366",
   "metadata": {
    "execution": {
     "iopub.execute_input": "2022-10-19T00:58:02.544143Z",
     "iopub.status.busy": "2022-10-19T00:58:02.543521Z",
     "iopub.status.idle": "2022-10-19T00:58:17.233767Z",
     "shell.execute_reply": "2022-10-19T00:58:17.234630Z"
    },
    "papermill": {
     "duration": 14.737758,
     "end_time": "2022-10-19T00:58:17.234785",
     "exception": false,
     "start_time": "2022-10-19T00:58:02.497027",
     "status": "completed"
    },
    "tags": []
   },
   "outputs": [
    {
     "name": "stdout",
     "output_type": "stream",
     "text": [
      "Epoch 0, Loss 0.2502\n",
      "Training Accuracy: 0.6464, Testing Accuracy: 0.6769\n",
      "\n"
     ]
    },
    {
     "name": "stdout",
     "output_type": "stream",
     "text": [
      "Epoch 10, Loss 0.1031\n",
      "Training Accuracy: 0.9065, Testing Accuracy: 0.9239\n",
      "\n"
     ]
    },
    {
     "name": "stdout",
     "output_type": "stream",
     "text": [
      "Epoch 20, Loss 0.0794\n",
      "Training Accuracy: 0.9250, Testing Accuracy: 0.9395\n",
      "\n"
     ]
    },
    {
     "name": "stdout",
     "output_type": "stream",
     "text": [
      "Epoch 30, Loss 0.0686\n",
      "Training Accuracy: 0.9337, Testing Accuracy: 0.9471\n",
      "\n"
     ]
    },
    {
     "name": "stdout",
     "output_type": "stream",
     "text": [
      "Epoch 40, Loss 0.0621\n",
      "Training Accuracy: 0.9392, Testing Accuracy: 0.9511\n",
      "\n"
     ]
    },
    {
     "name": "stdout",
     "output_type": "stream",
     "text": [
      "Epoch 50, Loss 0.0577\n",
      "Training Accuracy: 0.9439, Testing Accuracy: 0.9526\n",
      "\n"
     ]
    },
    {
     "name": "stdout",
     "output_type": "stream",
     "text": [
      "Epoch 60, Loss 0.0544\n",
      "Training Accuracy: 0.9458, Testing Accuracy: 0.9561\n",
      "\n"
     ]
    },
    {
     "name": "stdout",
     "output_type": "stream",
     "text": [
      "Epoch 70, Loss 0.0519\n",
      "Training Accuracy: 0.9481, Testing Accuracy: 0.9556\n",
      "\n"
     ]
    },
    {
     "name": "stdout",
     "output_type": "stream",
     "text": [
      "Epoch 80, Loss 0.0498\n",
      "Training Accuracy: 0.9500, Testing Accuracy: 0.9572\n",
      "\n"
     ]
    },
    {
     "name": "stdout",
     "output_type": "stream",
     "text": [
      "Epoch 90, Loss 0.0481\n",
      "Training Accuracy: 0.9503, Testing Accuracy: 0.9587\n",
      "\n"
     ]
    },
    {
     "name": "stdout",
     "output_type": "stream",
     "text": [
      "Epoch 100, Loss 0.0467\n",
      "Training Accuracy: 0.9513, Testing Accuracy: 0.9597\n",
      "\n"
     ]
    },
    {
     "name": "stdout",
     "output_type": "stream",
     "text": [
      "Epoch 110, Loss 0.0454\n",
      "Training Accuracy: 0.9524, Testing Accuracy: 0.9617\n",
      "\n"
     ]
    },
    {
     "name": "stdout",
     "output_type": "stream",
     "text": [
      "Epoch 120, Loss 0.0443\n",
      "Training Accuracy: 0.9532, Testing Accuracy: 0.9627\n",
      "\n"
     ]
    },
    {
     "name": "stdout",
     "output_type": "stream",
     "text": [
      "Epoch 130, Loss 0.0434\n",
      "Training Accuracy: 0.9546, Testing Accuracy: 0.9632\n",
      "\n"
     ]
    },
    {
     "name": "stdout",
     "output_type": "stream",
     "text": [
      "Epoch 140, Loss 0.0425\n",
      "Training Accuracy: 0.9553, Testing Accuracy: 0.9637\n",
      "\n"
     ]
    },
    {
     "name": "stdout",
     "output_type": "stream",
     "text": [
      "Epoch 150, Loss 0.0418\n",
      "Training Accuracy: 0.9561, Testing Accuracy: 0.9647\n",
      "\n"
     ]
    },
    {
     "name": "stdout",
     "output_type": "stream",
     "text": [
      "Epoch 160, Loss 0.0411\n",
      "Training Accuracy: 0.9567, Testing Accuracy: 0.9647\n",
      "\n"
     ]
    },
    {
     "name": "stdout",
     "output_type": "stream",
     "text": [
      "Epoch 170, Loss 0.0405\n",
      "Training Accuracy: 0.9574, Testing Accuracy: 0.9647\n",
      "\n"
     ]
    },
    {
     "name": "stdout",
     "output_type": "stream",
     "text": [
      "Epoch 180, Loss 0.0399\n",
      "Training Accuracy: 0.9580, Testing Accuracy: 0.9652\n",
      "\n"
     ]
    },
    {
     "name": "stdout",
     "output_type": "stream",
     "text": [
      "Epoch 190, Loss 0.0394\n",
      "Training Accuracy: 0.9586, Testing Accuracy: 0.9662\n",
      "\n"
     ]
    },
    {
     "name": "stdout",
     "output_type": "stream",
     "text": [
      "Epoch 200, Loss 0.0389\n",
      "Training Accuracy: 0.9590, Testing Accuracy: 0.9657\n",
      "\n"
     ]
    },
    {
     "name": "stdout",
     "output_type": "stream",
     "text": [
      "Epoch 210, Loss 0.0384\n",
      "Training Accuracy: 0.9590, Testing Accuracy: 0.9657\n",
      "\n"
     ]
    },
    {
     "name": "stdout",
     "output_type": "stream",
     "text": [
      "Epoch 220, Loss 0.038\n",
      "Training Accuracy: 0.9595, Testing Accuracy: 0.9667\n",
      "\n"
     ]
    },
    {
     "name": "stdout",
     "output_type": "stream",
     "text": [
      "Epoch 230, Loss 0.0376\n",
      "Training Accuracy: 0.9599, Testing Accuracy: 0.9672\n",
      "\n"
     ]
    },
    {
     "name": "stdout",
     "output_type": "stream",
     "text": [
      "Epoch 240, Loss 0.0372\n",
      "Training Accuracy: 0.9601, Testing Accuracy: 0.9677\n",
      "\n"
     ]
    },
    {
     "data": {
      "text/plain": [
       "0.015627293394524046"
      ]
     },
     "execution_count": 23,
     "metadata": {},
     "output_type": "execute_result"
    }
   ],
   "source": [
    "lr_learner.train_loop(dl)"
   ]
  },
  {
   "cell_type": "code",
   "execution_count": 24,
   "id": "ca410940",
   "metadata": {
    "execution": {
     "iopub.execute_input": "2022-10-19T00:58:17.328127Z",
     "iopub.status.busy": "2022-10-19T00:58:17.327521Z",
     "iopub.status.idle": "2022-10-19T00:58:17.561360Z",
     "shell.execute_reply": "2022-10-19T00:58:17.560846Z"
    },
    "papermill": {
     "duration": 0.284046,
     "end_time": "2022-10-19T00:58:17.561489",
     "exception": false,
     "start_time": "2022-10-19T00:58:17.277443",
     "status": "completed"
    },
    "tags": []
   },
   "outputs": [
    {
     "data": {
      "text/plain": [
       "<matplotlib.legend.Legend at 0x7f8f6f96e4e0>"
      ]
     },
     "execution_count": 24,
     "metadata": {},
     "output_type": "execute_result"
    },
    {
     "data": {
      "image/png": "[encoded data removed]",
      "text/plain": [
       "<Figure size 1080x720 with 1 Axes>"
      ]
     },
     "metadata": {
      "needs_background": "light"
     },
     "output_type": "display_data"
    }
   ],
   "source": [
    "#comparing the results of NN and LR\n",
    "plt.figure(figsize=(15,10))\n",
    "\n",
    "# Neural Network plots\n",
    "plt.plot(acc_nn.accuracies, 'r-', label = \"Training Accuracies - NN\")\n",
    "plt.plot(acc_nn.test_accuracies, 'g-', label = \"Testing Accuracies - NN\")\n",
    "\n",
    "# Logistic Regression plots\n",
    "plt.plot(acc_lr.accuracies, 'k-', label = \"Training Accuracies - LR\")\n",
    "plt.plot(acc_lr.test_accuracies, 'b-', label = \"Testing Accuracies - LR\")\n",
    "plt.legend()"
   ]
  },
  {
   "cell_type": "markdown",
   "id": "80dfb35c",
   "metadata": {
    "papermill": {
     "duration": 0.041945,
     "end_time": "2022-10-19T00:58:17.645979",
     "exception": false,
     "start_time": "2022-10-19T00:58:17.604034",
     "status": "completed"
    },
    "tags": []
   },
   "source": [
    "#### Plotting the outputs of this layer of the NN.\n"
   ]
  },
  {
   "cell_type": "code",
   "execution_count": 25,
   "id": "45eb2ff5",
   "metadata": {
    "execution": {
     "iopub.execute_input": "2022-10-19T00:58:17.734829Z",
     "iopub.status.busy": "2022-10-19T00:58:17.734168Z",
     "iopub.status.idle": "2022-10-19T00:58:17.755366Z",
     "shell.execute_reply": "2022-10-19T00:58:17.754830Z"
    },
    "papermill": {
     "duration": 0.067562,
     "end_time": "2022-10-19T00:58:17.755493",
     "exception": false,
     "start_time": "2022-10-19T00:58:17.687931",
     "status": "completed"
    },
    "tags": []
   },
   "outputs": [],
   "source": [
    "new_model = Model(layers[:-2])\n",
    "testing_plot = new_model(testing_data_x)"
   ]
  },
  {
   "cell_type": "code",
   "execution_count": 26,
   "id": "4c0a5485",
   "metadata": {
    "execution": {
     "iopub.execute_input": "2022-10-19T00:58:17.845345Z",
     "iopub.status.busy": "2022-10-19T00:58:17.844724Z",
     "iopub.status.idle": "2022-10-19T00:58:18.045379Z",
     "shell.execute_reply": "2022-10-19T00:58:18.045813Z"
    },
    "papermill": {
     "duration": 0.24817,
     "end_time": "2022-10-19T00:58:18.045972",
     "exception": false,
     "start_time": "2022-10-19T00:58:17.797802",
     "status": "completed"
    },
    "tags": []
   },
   "outputs": [
    {
     "data": {
      "text/plain": [
       "Text(0.5, 1.0, 'Outputs')"
      ]
     },
     "execution_count": 26,
     "metadata": {},
     "output_type": "execute_result"
    },
    {
     "data": {
      "image/png": "[encoded data removed]",
      "text/plain": [
       "<Figure size 576x504 with 1 Axes>"
      ]
     },
     "metadata": {
      "needs_background": "light"
     },
     "output_type": "display_data"
    }
   ],
   "source": [
    "# Plotting the scatter plot of points and color coding by class\n",
    "plt.figure(figsize=(8,7))\n",
    "plt.scatter(testing_plot[:,0], testing_plot[:,1], alpha = 0.1, c = y_test.ravel());\n",
    "plt.title('Outputs')"
   ]
  },
  {
   "cell_type": "markdown",
   "id": "a74fcf8f",
   "metadata": {
    "papermill": {
     "duration": 0.04445,
     "end_time": "2022-10-19T00:58:18.135214",
     "exception": false,
     "start_time": "2022-10-19T00:58:18.090764",
     "status": "completed"
    },
    "tags": []
   },
   "source": [
    "Probability contours"
   ]
  },
  {
   "cell_type": "code",
   "execution_count": 27,
   "id": "d0afc8e3",
   "metadata": {
    "execution": {
     "iopub.execute_input": "2022-10-19T00:58:18.229295Z",
     "iopub.status.busy": "2022-10-19T00:58:18.228698Z",
     "iopub.status.idle": "2022-10-19T00:58:18.241663Z",
     "shell.execute_reply": "2022-10-19T00:58:18.241074Z"
    },
    "papermill": {
     "duration": 0.061915,
     "end_time": "2022-10-19T00:58:18.241781",
     "exception": false,
     "start_time": "2022-10-19T00:58:18.179866",
     "status": "completed"
    },
    "tags": []
   },
   "outputs": [],
   "source": [
    "model_prob = Model(layers[-2:]) "
   ]
  },
  {
   "cell_type": "code",
   "execution_count": 28,
   "id": "9b96e238",
   "metadata": {
    "execution": {
     "iopub.execute_input": "2022-10-19T00:58:18.336455Z",
     "iopub.status.busy": "2022-10-19T00:58:18.335866Z",
     "iopub.status.idle": "2022-10-19T00:58:18.349989Z",
     "shell.execute_reply": "2022-10-19T00:58:18.350410Z"
    },
    "papermill": {
     "duration": 0.064169,
     "end_time": "2022-10-19T00:58:18.350570",
     "exception": false,
     "start_time": "2022-10-19T00:58:18.286401",
     "status": "completed"
    },
    "tags": []
   },
   "outputs": [],
   "source": [
    "#creating the x and y ranges according to the above generated plot.\n",
    "x_range = np.linspace(-4, 1, 100) \n",
    "y_range = np.linspace(-6, 6, 100) \n",
    "x_grid, y_grid = np.meshgrid(x_range, y_range) # x_grid and y_grig are of size 100 X 100\n",
    "\n",
    "# converting x_grid and y_grid to continuous arrays\n",
    "x_gridflat = np.ravel(x_grid)\n",
    "y_gridflat = np.ravel(y_grid)\n",
    "\n",
    "# The last layer of the current model takes two columns as input. Hence transpose of np.vstack() is required.\n",
    "X = np.vstack((x_gridflat, y_gridflat)).T\n",
    "\n",
    "prob_contour = model_prob(X).reshape(100,100) "
   ]
  },
  {
   "cell_type": "code",
   "execution_count": 29,
   "id": "da72499a",
   "metadata": {
    "execution": {
     "iopub.execute_input": "2022-10-19T00:58:18.484225Z",
     "iopub.status.busy": "2022-10-19T00:58:18.483617Z",
     "iopub.status.idle": "2022-10-19T00:58:18.740920Z",
     "shell.execute_reply": "2022-10-19T00:58:18.740390Z"
    },
    "papermill": {
     "duration": 0.308185,
     "end_time": "2022-10-19T00:58:18.741047",
     "exception": false,
     "start_time": "2022-10-19T00:58:18.432862",
     "status": "completed"
    },
    "tags": []
   },
   "outputs": [
    {
     "data": {
      "image/png": "[encoded data removed]",
      "text/plain": [
       "<Figure size 720x648 with 1 Axes>"
      ]
     },
     "metadata": {
      "needs_background": "light"
     },
     "output_type": "display_data"
    }
   ],
   "source": [
    "plt.figure(figsize=(10,9))\n",
    "plt.scatter(testing_plot[:,0], testing_plot[:,1], alpha = 0.1, c = y_test.ravel())\n",
    "contours = plt.contour(x_grid,y_grid,prob_contour)\n",
    "plt.title('Probability Contours')\n",
    "plt.clabel(contours, inline = True );"
   ]
  },
  {
   "cell_type": "code",
   "execution_count": null,
   "id": "e81b4ac7",
   "metadata": {
    "papermill": {
     "duration": 0.047175,
     "end_time": "2022-10-19T00:58:18.835950",
     "exception": false,
     "start_time": "2022-10-19T00:58:18.788775",
     "status": "completed"
    },
    "tags": []
   },
   "outputs": [],
   "source": []
  }
 ],
 "metadata": {
  "kernelspec": {
   "display_name": "Python 3",
   "language": "python",
   "name": "python3"
  },
  "language_info": {
   "codemirror_mode": {
    "name": "ipython",
    "version": 3
   },
   "file_extension": ".py",
   "mimetype": "text/x-python",
   "name": "python",
   "nbconvert_exporter": "python",
   "pygments_lexer": "ipython3",
   "version": "3.6.15"
  },
  "papermill": {
   "default_parameters": {},
   "duration": 100.545127,
   "end_time": "2022-10-19T00:58:19.404454",
   "environment_variables": {},
   "exception": null,
   "input_path": "2020-08-11-part2.ipynb",
   "output_path": "2020-08-11-part2.ipynb",
   "parameters": {},
   "start_time": "2022-10-19T00:56:38.859327",
   "version": "2.3.3"
  }
 },
 "nbformat": 4,
 "nbformat_minor": 5
}