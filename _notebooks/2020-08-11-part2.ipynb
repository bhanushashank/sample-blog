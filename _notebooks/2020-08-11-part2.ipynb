{
 "cells": [
  {
   "cell_type": "markdown",
   "id": "98380cd3",
   "metadata": {
    "papermill": {
     "duration": 0.031616,
     "end_time": "2022-10-25T20:14:37.318932",
     "exception": false,
     "start_time": "2022-10-25T20:14:37.287316",
     "status": "completed"
    },
    "tags": []
   },
   "source": [
    "# Distinguish Your Own Digits (DYOD)"
   ]
  },
  {
   "cell_type": "markdown",
   "id": "ef31240d",
   "metadata": {
    "papermill": {
     "duration": 0.023918,
     "end_time": "2022-10-25T20:14:37.367678",
     "exception": false,
     "start_time": "2022-10-25T20:14:37.343760",
     "status": "completed"
    },
    "tags": []
   },
   "source": [
    "You are going to write a classifier that distinguishes between the number 3 and number 8."
   ]
  },
  {
   "cell_type": "code",
   "execution_count": 1,
   "id": "b15c8646",
   "metadata": {
    "execution": {
     "iopub.execute_input": "2022-10-25T20:14:37.426815Z",
     "iopub.status.busy": "2022-10-25T20:14:37.426125Z",
     "iopub.status.idle": "2022-10-25T20:14:37.437143Z",
     "shell.execute_reply": "2022-10-25T20:14:37.437622Z"
    },
    "papermill": {
     "duration": 0.04624,
     "end_time": "2022-10-25T20:14:37.437786",
     "exception": false,
     "start_time": "2022-10-25T20:14:37.391546",
     "status": "completed"
    },
    "tags": []
   },
   "outputs": [],
   "source": [
    "%load_ext autoreload\n",
    "%autoreload 2"
   ]
  },
  {
   "cell_type": "code",
   "execution_count": 2,
   "id": "22ef38dc",
   "metadata": {
    "execution": {
     "iopub.execute_input": "2022-10-25T20:14:37.493506Z",
     "iopub.status.busy": "2022-10-25T20:14:37.492874Z",
     "iopub.status.idle": "2022-10-25T20:14:38.064284Z",
     "shell.execute_reply": "2022-10-25T20:14:38.063752Z"
    },
    "papermill": {
     "duration": 0.602478,
     "end_time": "2022-10-25T20:14:38.064417",
     "exception": false,
     "start_time": "2022-10-25T20:14:37.461939",
     "status": "completed"
    },
    "tags": []
   },
   "outputs": [],
   "source": [
    "%matplotlib inline\n",
    "import numpy as np\n",
    "import matplotlib.pyplot as plt\n",
    "import pandas as pd"
   ]
  },
  {
   "cell_type": "markdown",
   "id": "ba036198",
   "metadata": {
    "papermill": {
     "duration": 0.023851,
     "end_time": "2022-10-25T20:14:38.112157",
     "exception": false,
     "start_time": "2022-10-25T20:14:38.088306",
     "status": "completed"
    },
    "tags": []
   },
   "source": [
    "From the command line run `pip install mnist`. This is a library that will help you bring down the mnist dataset. If you run this from a notebook, you need to put  `!pip install mnist` in a cell by itself."
   ]
  },
  {
   "cell_type": "code",
   "execution_count": 3,
   "id": "bb6ad8a1",
   "metadata": {
    "execution": {
     "iopub.execute_input": "2022-10-25T20:14:38.164985Z",
     "iopub.status.busy": "2022-10-25T20:14:38.164374Z",
     "iopub.status.idle": "2022-10-25T20:14:39.809606Z",
     "shell.execute_reply": "2022-10-25T20:14:39.809061Z"
    },
    "papermill": {
     "duration": 1.673568,
     "end_time": "2022-10-25T20:14:39.809731",
     "exception": false,
     "start_time": "2022-10-25T20:14:38.136163",
     "status": "completed"
    },
    "tags": []
   },
   "outputs": [
    {
     "name": "stdout",
     "output_type": "stream",
     "text": [
      "Collecting mnist\r\n"
     ]
    },
    {
     "name": "stdout",
     "output_type": "stream",
     "text": [
      "  Downloading mnist-0.2.2-py2.py3-none-any.whl (3.5 kB)\r\n",
      "Requirement already satisfied: numpy in /opt/hostedtoolcache/Python/3.6.15/x64/lib/python3.6/site-packages (from mnist) (1.19.5)\r\n"
     ]
    },
    {
     "name": "stdout",
     "output_type": "stream",
     "text": [
      "Installing collected packages: mnist\r\n"
     ]
    },
    {
     "name": "stdout",
     "output_type": "stream",
     "text": [
      "Successfully installed mnist-0.2.2\r\n"
     ]
    }
   ],
   "source": [
    "!pip install mnist"
   ]
  },
  {
   "cell_type": "markdown",
   "id": "69df9c9a",
   "metadata": {
    "papermill": {
     "duration": 0.025192,
     "end_time": "2022-10-25T20:14:39.860264",
     "exception": false,
     "start_time": "2022-10-25T20:14:39.835072",
     "status": "completed"
    },
    "tags": []
   },
   "source": [
    "## Preparing the Data"
   ]
  },
  {
   "cell_type": "code",
   "execution_count": 4,
   "id": "7f69d806",
   "metadata": {
    "execution": {
     "iopub.execute_input": "2022-10-25T20:14:39.919777Z",
     "iopub.status.busy": "2022-10-25T20:14:39.915670Z",
     "iopub.status.idle": "2022-10-25T20:14:39.931309Z",
     "shell.execute_reply": "2022-10-25T20:14:39.930800Z"
    },
    "papermill": {
     "duration": 0.046258,
     "end_time": "2022-10-25T20:14:39.931433",
     "exception": false,
     "start_time": "2022-10-25T20:14:39.885175",
     "status": "completed"
    },
    "tags": []
   },
   "outputs": [],
   "source": [
    "import mnist"
   ]
  },
  {
   "cell_type": "code",
   "execution_count": 5,
   "id": "a411e44f",
   "metadata": {
    "execution": {
     "iopub.execute_input": "2022-10-25T20:14:39.991568Z",
     "iopub.status.busy": "2022-10-25T20:14:39.990924Z",
     "iopub.status.idle": "2022-10-25T20:14:40.505886Z",
     "shell.execute_reply": "2022-10-25T20:14:40.505311Z"
    },
    "papermill": {
     "duration": 0.549385,
     "end_time": "2022-10-25T20:14:40.506027",
     "exception": false,
     "start_time": "2022-10-25T20:14:39.956642",
     "status": "completed"
    },
    "tags": []
   },
   "outputs": [],
   "source": [
    "train_images = mnist.train_images()\n",
    "train_labels = mnist.train_labels()"
   ]
  },
  {
   "cell_type": "code",
   "execution_count": 6,
   "id": "dceab3a5",
   "metadata": {
    "execution": {
     "iopub.execute_input": "2022-10-25T20:14:40.577827Z",
     "iopub.status.busy": "2022-10-25T20:14:40.573641Z",
     "iopub.status.idle": "2022-10-25T20:14:40.581530Z",
     "shell.execute_reply": "2022-10-25T20:14:40.580968Z"
    },
    "papermill": {
     "duration": 0.049658,
     "end_time": "2022-10-25T20:14:40.581651",
     "exception": false,
     "start_time": "2022-10-25T20:14:40.531993",
     "status": "completed"
    },
    "tags": []
   },
   "outputs": [
    {
     "data": {
      "text/plain": [
       "((60000, 28, 28), (60000,))"
      ]
     },
     "execution_count": 6,
     "metadata": {},
     "output_type": "execute_result"
    }
   ],
   "source": [
    "train_images.shape, train_labels.shape"
   ]
  },
  {
   "cell_type": "code",
   "execution_count": 7,
   "id": "f50dc2bb",
   "metadata": {
    "execution": {
     "iopub.execute_input": "2022-10-25T20:14:40.647960Z",
     "iopub.status.busy": "2022-10-25T20:14:40.640711Z",
     "iopub.status.idle": "2022-10-25T20:14:40.812205Z",
     "shell.execute_reply": "2022-10-25T20:14:40.812727Z"
    },
    "papermill": {
     "duration": 0.205991,
     "end_time": "2022-10-25T20:14:40.812894",
     "exception": false,
     "start_time": "2022-10-25T20:14:40.606903",
     "status": "completed"
    },
    "tags": []
   },
   "outputs": [],
   "source": [
    "test_images = mnist.test_images()\n",
    "test_labels = mnist.test_labels()"
   ]
  },
  {
   "cell_type": "code",
   "execution_count": 8,
   "id": "fc38cf1b",
   "metadata": {
    "execution": {
     "iopub.execute_input": "2022-10-25T20:14:40.872441Z",
     "iopub.status.busy": "2022-10-25T20:14:40.871794Z",
     "iopub.status.idle": "2022-10-25T20:14:40.884246Z",
     "shell.execute_reply": "2022-10-25T20:14:40.884675Z"
    },
    "papermill": {
     "duration": 0.045584,
     "end_time": "2022-10-25T20:14:40.884818",
     "exception": false,
     "start_time": "2022-10-25T20:14:40.839234",
     "status": "completed"
    },
    "tags": []
   },
   "outputs": [
    {
     "data": {
      "text/plain": [
       "((10000, 28, 28), (10000,))"
      ]
     },
     "execution_count": 8,
     "metadata": {},
     "output_type": "execute_result"
    }
   ],
   "source": [
    "test_images.shape, test_labels.shape"
   ]
  },
  {
   "cell_type": "code",
   "execution_count": 9,
   "id": "f9ed8fe0",
   "metadata": {
    "execution": {
     "iopub.execute_input": "2022-10-25T20:14:40.966152Z",
     "iopub.status.busy": "2022-10-25T20:14:40.945219Z",
     "iopub.status.idle": "2022-10-25T20:14:41.085940Z",
     "shell.execute_reply": "2022-10-25T20:14:41.085440Z"
    },
    "papermill": {
     "duration": 0.175664,
     "end_time": "2022-10-25T20:14:41.086069",
     "exception": false,
     "start_time": "2022-10-25T20:14:40.910405",
     "status": "completed"
    },
    "tags": []
   },
   "outputs": [
    {
     "name": "stdout",
     "output_type": "stream",
     "text": [
      "2\n"
     ]
    },
    {
     "data": {
      "text/plain": [
       "<matplotlib.image.AxesImage at 0x7fa83687fda0>"
      ]
     },
     "execution_count": 9,
     "metadata": {},
     "output_type": "execute_result"
    },
    {
     "data": {
      "image/png": "[encoded data removed]",
      "text/plain": [
       "<Figure size 432x288 with 1 Axes>"
      ]
     },
     "metadata": {
      "needs_background": "light"
     },
     "output_type": "display_data"
    }
   ],
   "source": [
    "image_index = 7776 # You may select anything up to 60,000\n",
    "print(train_labels[image_index]) \n",
    "plt.imshow(train_images[image_index], cmap='Greys')"
   ]
  },
  {
   "cell_type": "markdown",
   "id": "a8d2388d",
   "metadata": {
    "papermill": {
     "duration": 0.026833,
     "end_time": "2022-10-25T20:14:41.139826",
     "exception": false,
     "start_time": "2022-10-25T20:14:41.112993",
     "status": "completed"
    },
    "tags": []
   },
   "source": [
    "## Filter data to get 3 and 8 out"
   ]
  },
  {
   "cell_type": "code",
   "execution_count": 10,
   "id": "776f7fc7",
   "metadata": {
    "execution": {
     "iopub.execute_input": "2022-10-25T20:14:41.201046Z",
     "iopub.status.busy": "2022-10-25T20:14:41.200411Z",
     "iopub.status.idle": "2022-10-25T20:14:41.219305Z",
     "shell.execute_reply": "2022-10-25T20:14:41.219754Z"
    },
    "papermill": {
     "duration": 0.052558,
     "end_time": "2022-10-25T20:14:41.219904",
     "exception": false,
     "start_time": "2022-10-25T20:14:41.167346",
     "status": "completed"
    },
    "tags": []
   },
   "outputs": [],
   "source": [
    "train_filter = np.where((train_labels == 3 ) | (train_labels == 8))\n",
    "test_filter = np.where((test_labels == 3) | (test_labels == 8))\n",
    "X_train, y_train = train_images[train_filter], train_labels[train_filter]\n",
    "X_test, y_test = test_images[test_filter], test_labels[test_filter]"
   ]
  },
  {
   "cell_type": "markdown",
   "id": "948f0b7e",
   "metadata": {
    "papermill": {
     "duration": 0.027014,
     "end_time": "2022-10-25T20:14:41.274084",
     "exception": false,
     "start_time": "2022-10-25T20:14:41.247070",
     "status": "completed"
    },
    "tags": []
   },
   "source": [
    "We normalize the pizel values in the 0 to 1 range"
   ]
  },
  {
   "cell_type": "code",
   "execution_count": 11,
   "id": "ee4c2166",
   "metadata": {
    "execution": {
     "iopub.execute_input": "2022-10-25T20:14:41.342271Z",
     "iopub.status.busy": "2022-10-25T20:14:41.335189Z",
     "iopub.status.idle": "2022-10-25T20:14:41.385993Z",
     "shell.execute_reply": "2022-10-25T20:14:41.385458Z"
    },
    "papermill": {
     "duration": 0.081648,
     "end_time": "2022-10-25T20:14:41.386120",
     "exception": false,
     "start_time": "2022-10-25T20:14:41.304472",
     "status": "completed"
    },
    "tags": []
   },
   "outputs": [],
   "source": [
    "X_train = X_train/255.\n",
    "X_test = X_test/255."
   ]
  },
  {
   "cell_type": "markdown",
   "id": "ddcf4fab",
   "metadata": {
    "papermill": {
     "duration": 0.026701,
     "end_time": "2022-10-25T20:14:41.439749",
     "exception": false,
     "start_time": "2022-10-25T20:14:41.413048",
     "status": "completed"
    },
    "tags": []
   },
   "source": [
    "And setup the labels as 1 (when the digit is 3) and 0 (when the digit is 8)"
   ]
  },
  {
   "cell_type": "code",
   "execution_count": 12,
   "id": "7dc908f2",
   "metadata": {
    "execution": {
     "iopub.execute_input": "2022-10-25T20:14:41.512939Z",
     "iopub.status.busy": "2022-10-25T20:14:41.500119Z",
     "iopub.status.idle": "2022-10-25T20:14:41.517514Z",
     "shell.execute_reply": "2022-10-25T20:14:41.516671Z"
    },
    "papermill": {
     "duration": 0.050101,
     "end_time": "2022-10-25T20:14:41.517650",
     "exception": false,
     "start_time": "2022-10-25T20:14:41.467549",
     "status": "completed"
    },
    "tags": []
   },
   "outputs": [],
   "source": [
    "y_train = 1*(y_train==3)\n",
    "y_test = 1*(y_test==3)"
   ]
  },
  {
   "cell_type": "code",
   "execution_count": 13,
   "id": "01e4e969",
   "metadata": {
    "execution": {
     "iopub.execute_input": "2022-10-25T20:14:41.579868Z",
     "iopub.status.busy": "2022-10-25T20:14:41.577085Z",
     "iopub.status.idle": "2022-10-25T20:14:41.590767Z",
     "shell.execute_reply": "2022-10-25T20:14:41.591339Z"
    },
    "papermill": {
     "duration": 0.04521,
     "end_time": "2022-10-25T20:14:41.591481",
     "exception": false,
     "start_time": "2022-10-25T20:14:41.546271",
     "status": "completed"
    },
    "tags": []
   },
   "outputs": [
    {
     "data": {
      "text/plain": [
       "((11982, 28, 28), (1984, 28, 28))"
      ]
     },
     "execution_count": 13,
     "metadata": {},
     "output_type": "execute_result"
    }
   ],
   "source": [
    "X_train.shape, X_test.shape"
   ]
  },
  {
   "cell_type": "markdown",
   "id": "5ccf3f85",
   "metadata": {
    "papermill": {
     "duration": 0.026831,
     "end_time": "2022-10-25T20:14:41.645154",
     "exception": false,
     "start_time": "2022-10-25T20:14:41.618323",
     "status": "completed"
    },
    "tags": []
   },
   "source": [
    "We reshape the data to flatten the image pixels into a set of features or co-variates:"
   ]
  },
  {
   "cell_type": "code",
   "execution_count": 14,
   "id": "5286a4a3",
   "metadata": {
    "execution": {
     "iopub.execute_input": "2022-10-25T20:14:41.706728Z",
     "iopub.status.busy": "2022-10-25T20:14:41.706002Z",
     "iopub.status.idle": "2022-10-25T20:14:41.719412Z",
     "shell.execute_reply": "2022-10-25T20:14:41.719866Z"
    },
    "papermill": {
     "duration": 0.047893,
     "end_time": "2022-10-25T20:14:41.720007",
     "exception": false,
     "start_time": "2022-10-25T20:14:41.672114",
     "status": "completed"
    },
    "tags": []
   },
   "outputs": [
    {
     "data": {
      "text/plain": [
       "((11982, 784), (1984, 784))"
      ]
     },
     "execution_count": 14,
     "metadata": {},
     "output_type": "execute_result"
    }
   ],
   "source": [
    "X_train = X_train.reshape(X_train.shape[0], -1)\n",
    "X_test = X_test.reshape(X_test.shape[0], -1)\n",
    "X_train.shape, X_test.shape"
   ]
  },
  {
   "cell_type": "code",
   "execution_count": 15,
   "id": "73c5f88a",
   "metadata": {
    "execution": {
     "iopub.execute_input": "2022-10-25T20:14:41.779724Z",
     "iopub.status.busy": "2022-10-25T20:14:41.779121Z",
     "iopub.status.idle": "2022-10-25T20:14:41.798342Z",
     "shell.execute_reply": "2022-10-25T20:14:41.798841Z"
    },
    "papermill": {
     "duration": 0.051807,
     "end_time": "2022-10-25T20:14:41.798987",
     "exception": false,
     "start_time": "2022-10-25T20:14:41.747180",
     "status": "completed"
    },
    "tags": []
   },
   "outputs": [],
   "source": [
    "#Impoting functions from 'Kudzu'\n",
    "from kudzu.model import Model\n",
    "from kudzu.train import Learner\n",
    "from kudzu.optim import GD\n",
    "from kudzu.data import Data, Sampler,Dataloader\n",
    "\n",
    "from kudzu.callbacks import AccCallback\n",
    "from kudzu.callbacks import ClfCallback\n",
    "\n",
    "from kudzu.loss import MSE\n",
    "\n",
    "from kudzu.layer import Sigmoid,Relu\n",
    "from kudzu.layer import Affine"
   ]
  },
  {
   "cell_type": "markdown",
   "id": "bc01172a",
   "metadata": {
    "papermill": {
     "duration": 0.027088,
     "end_time": "2022-10-25T20:14:41.853496",
     "exception": false,
     "start_time": "2022-10-25T20:14:41.826408",
     "status": "completed"
    },
    "tags": []
   },
   "source": [
    "### Let us create a `Config` class, to store important parameters. \n",
    "This class essentially plays the role of a dictionary."
   ]
  },
  {
   "cell_type": "code",
   "execution_count": 16,
   "id": "978281aa",
   "metadata": {
    "execution": {
     "iopub.execute_input": "2022-10-25T20:14:41.914593Z",
     "iopub.status.busy": "2022-10-25T20:14:41.913938Z",
     "iopub.status.idle": "2022-10-25T20:14:41.928040Z",
     "shell.execute_reply": "2022-10-25T20:14:41.927537Z"
    },
    "papermill": {
     "duration": 0.047651,
     "end_time": "2022-10-25T20:14:41.928165",
     "exception": false,
     "start_time": "2022-10-25T20:14:41.880514",
     "status": "completed"
    },
    "tags": []
   },
   "outputs": [],
   "source": [
    "class Config:\n",
    "    pass\n",
    "config = Config()\n",
    "config.lr = 0.001\n",
    "config.num_epochs = 250\n",
    "config.bs = 50"
   ]
  },
  {
   "cell_type": "markdown",
   "id": "1385fa59",
   "metadata": {
    "papermill": {
     "duration": 0.028577,
     "end_time": "2022-10-25T20:14:41.984027",
     "exception": false,
     "start_time": "2022-10-25T20:14:41.955450",
     "status": "completed"
    },
    "tags": []
   },
   "source": [
    "### Running Models with the Training data\n",
    "Details about the network layers:\n",
    "- A first affine layer has 784 inputs and does 100 affine transforms. These are followed by a Relu\n",
    "- A second affine layer has 100 inputs from the 100 activations of the past layer, and does 100 affine transforms. These are followed by a Relu\n",
    "- A third affine layer has 100 activations and does 2 affine transformations to create an embedding for visualization. There is no non-linearity here.\n",
    "- A final \"logistic regression\" which has an affine transform from 2 inputs to 1 output, which is squeezed through a sigmoid.\n"
   ]
  },
  {
   "cell_type": "code",
   "execution_count": 17,
   "id": "2b9c66db",
   "metadata": {
    "execution": {
     "iopub.execute_input": "2022-10-25T20:14:42.044753Z",
     "iopub.status.busy": "2022-10-25T20:14:42.044128Z",
     "iopub.status.idle": "2022-10-25T20:14:42.057347Z",
     "shell.execute_reply": "2022-10-25T20:14:42.056857Z"
    },
    "papermill": {
     "duration": 0.044809,
     "end_time": "2022-10-25T20:14:42.057466",
     "exception": false,
     "start_time": "2022-10-25T20:14:42.012657",
     "status": "completed"
    },
    "tags": []
   },
   "outputs": [],
   "source": [
    "data = Data(X_train, y_train.reshape(-1,1))\n",
    "sampler = Sampler(data, config.bs, shuffle=True)\n",
    "\n",
    "dl = Dataloader(data, sampler)\n",
    "\n",
    "opt = GD(config.lr)\n",
    "loss = MSE()"
   ]
  },
  {
   "cell_type": "code",
   "execution_count": 18,
   "id": "b275e4c2",
   "metadata": {
    "execution": {
     "iopub.execute_input": "2022-10-25T20:14:42.130435Z",
     "iopub.status.busy": "2022-10-25T20:14:42.121691Z",
     "iopub.status.idle": "2022-10-25T20:14:42.133708Z",
     "shell.execute_reply": "2022-10-25T20:14:42.134164Z"
    },
    "papermill": {
     "duration": 0.049592,
     "end_time": "2022-10-25T20:14:42.134305",
     "exception": false,
     "start_time": "2022-10-25T20:14:42.084713",
     "status": "completed"
    },
    "tags": []
   },
   "outputs": [],
   "source": [
    "training_data_x = X_train\n",
    "testing_data_x = X_test\n",
    "training_data_y = y_train.reshape(-1,1)\n",
    "testing_data_y = y_test.reshape(-1,1)"
   ]
  },
  {
   "cell_type": "code",
   "execution_count": 19,
   "id": "76951160",
   "metadata": {
    "execution": {
     "iopub.execute_input": "2022-10-25T20:14:42.203764Z",
     "iopub.status.busy": "2022-10-25T20:14:42.198570Z",
     "iopub.status.idle": "2022-10-25T20:14:42.214709Z",
     "shell.execute_reply": "2022-10-25T20:14:42.214092Z"
    },
    "papermill": {
     "duration": 0.053431,
     "end_time": "2022-10-25T20:14:42.214834",
     "exception": false,
     "start_time": "2022-10-25T20:14:42.161403",
     "status": "completed"
    },
    "tags": []
   },
   "outputs": [
    {
     "name": "stdout",
     "output_type": "stream",
     "text": [
      "xavier\n",
      "xavier\n",
      "xavier\n",
      "xavier\n",
      "xavier\n"
     ]
    }
   ],
   "source": [
    "layers = [Affine(\"first\", 784, 100), Relu(\"first\"), Affine(\"second\", 100, 100), Relu(\"second\"), Affine(\"third\", 100, 2), Affine(\"last\", 2, 1), Sigmoid(\"last\")]\n",
    "model_nn = Model(layers)\n",
    "model_lr = Model([Affine(\"logits\", 784, 1), Sigmoid(\"sigmoid\")])"
   ]
  },
  {
   "cell_type": "code",
   "execution_count": 20,
   "id": "6eede77a",
   "metadata": {
    "execution": {
     "iopub.execute_input": "2022-10-25T20:14:42.283880Z",
     "iopub.status.busy": "2022-10-25T20:14:42.278231Z",
     "iopub.status.idle": "2022-10-25T20:14:42.288805Z",
     "shell.execute_reply": "2022-10-25T20:14:42.289287Z"
    },
    "papermill": {
     "duration": 0.047025,
     "end_time": "2022-10-25T20:14:42.289438",
     "exception": false,
     "start_time": "2022-10-25T20:14:42.242413",
     "status": "completed"
    },
    "tags": []
   },
   "outputs": [],
   "source": [
    "nn_learner = Learner(loss, model_nn, opt, config.num_epochs)\n",
    "acc_nn = ClfCallback(nn_learner, config.bs, training_data_x , testing_data_x, training_data_y, testing_data_y)\n",
    "nn_learner.set_callbacks([acc_nn])"
   ]
  },
  {
   "cell_type": "code",
   "execution_count": 21,
   "id": "877b6cc7",
   "metadata": {
    "execution": {
     "iopub.execute_input": "2022-10-25T20:14:42.350493Z",
     "iopub.status.busy": "2022-10-25T20:14:42.349881Z",
     "iopub.status.idle": "2022-10-25T20:14:42.362100Z",
     "shell.execute_reply": "2022-10-25T20:14:42.361615Z"
    },
    "papermill": {
     "duration": 0.045145,
     "end_time": "2022-10-25T20:14:42.362218",
     "exception": false,
     "start_time": "2022-10-25T20:14:42.317073",
     "status": "completed"
    },
    "tags": []
   },
   "outputs": [],
   "source": [
    "lr_learner = Learner(loss, model_lr, opt, config.num_epochs)\n",
    "acc_lr = ClfCallback(lr_learner, config.bs, training_data_x , testing_data_x, training_data_y, testing_data_y)\n",
    "lr_learner.set_callbacks([acc_lr])"
   ]
  },
  {
   "cell_type": "code",
   "execution_count": 22,
   "id": "d9b133c3",
   "metadata": {
    "execution": {
     "iopub.execute_input": "2022-10-25T20:14:42.423462Z",
     "iopub.status.busy": "2022-10-25T20:14:42.420723Z",
     "iopub.status.idle": "2022-10-25T20:16:02.418549Z",
     "shell.execute_reply": "2022-10-25T20:16:02.419402Z"
    },
    "papermill": {
     "duration": 80.029867,
     "end_time": "2022-10-25T20:16:02.419547",
     "exception": false,
     "start_time": "2022-10-25T20:14:42.389680",
     "status": "completed"
    },
    "tags": []
   },
   "outputs": [
    {
     "name": "stdout",
     "output_type": "stream",
     "text": [
      "Epoch 0, Loss 0.2451\n",
      "Training Accuracy: 0.5221, Testing Accuracy: 0.5272\n",
      "\n"
     ]
    },
    {
     "name": "stdout",
     "output_type": "stream",
     "text": [
      "Epoch 10, Loss 0.1772\n",
      "Training Accuracy: 0.8732, Testing Accuracy: 0.8876\n",
      "\n"
     ]
    },
    {
     "name": "stdout",
     "output_type": "stream",
     "text": [
      "Epoch 20, Loss 0.0885\n",
      "Training Accuracy: 0.9123, Testing Accuracy: 0.9259\n",
      "\n"
     ]
    },
    {
     "name": "stdout",
     "output_type": "stream",
     "text": [
      "Epoch 30, Loss 0.0589\n",
      "Training Accuracy: 0.9354, Testing Accuracy: 0.9531\n",
      "\n"
     ]
    },
    {
     "name": "stdout",
     "output_type": "stream",
     "text": [
      "Epoch 40, Loss 0.0465\n",
      "Training Accuracy: 0.9481, Testing Accuracy: 0.9607\n",
      "\n"
     ]
    },
    {
     "name": "stdout",
     "output_type": "stream",
     "text": [
      "Epoch 50, Loss 0.0401\n",
      "Training Accuracy: 0.9543, Testing Accuracy: 0.9622\n",
      "\n"
     ]
    },
    {
     "name": "stdout",
     "output_type": "stream",
     "text": [
      "Epoch 60, Loss 0.0364\n",
      "Training Accuracy: 0.9578, Testing Accuracy: 0.9662\n",
      "\n"
     ]
    },
    {
     "name": "stdout",
     "output_type": "stream",
     "text": [
      "Epoch 70, Loss 0.0338\n",
      "Training Accuracy: 0.9614, Testing Accuracy: 0.9662\n",
      "\n"
     ]
    },
    {
     "name": "stdout",
     "output_type": "stream",
     "text": [
      "Epoch 80, Loss 0.0319\n",
      "Training Accuracy: 0.9629, Testing Accuracy: 0.9672\n",
      "\n"
     ]
    },
    {
     "name": "stdout",
     "output_type": "stream",
     "text": [
      "Epoch 90, Loss 0.0304\n",
      "Training Accuracy: 0.9649, Testing Accuracy: 0.9677\n",
      "\n"
     ]
    },
    {
     "name": "stdout",
     "output_type": "stream",
     "text": [
      "Epoch 100, Loss 0.0292\n",
      "Training Accuracy: 0.9656, Testing Accuracy: 0.9688\n",
      "\n"
     ]
    },
    {
     "name": "stdout",
     "output_type": "stream",
     "text": [
      "Epoch 110, Loss 0.0282\n",
      "Training Accuracy: 0.9666, Testing Accuracy: 0.9698\n",
      "\n"
     ]
    },
    {
     "name": "stdout",
     "output_type": "stream",
     "text": [
      "Epoch 120, Loss 0.0273\n",
      "Training Accuracy: 0.9680, Testing Accuracy: 0.9698\n",
      "\n"
     ]
    },
    {
     "name": "stdout",
     "output_type": "stream",
     "text": [
      "Epoch 130, Loss 0.0265\n",
      "Training Accuracy: 0.9686, Testing Accuracy: 0.9703\n",
      "\n"
     ]
    },
    {
     "name": "stdout",
     "output_type": "stream",
     "text": [
      "Epoch 140, Loss 0.0258\n",
      "Training Accuracy: 0.9692, Testing Accuracy: 0.9698\n",
      "\n"
     ]
    },
    {
     "name": "stdout",
     "output_type": "stream",
     "text": [
      "Epoch 150, Loss 0.0251\n",
      "Training Accuracy: 0.9704, Testing Accuracy: 0.9693\n",
      "\n"
     ]
    },
    {
     "name": "stdout",
     "output_type": "stream",
     "text": [
      "Epoch 160, Loss 0.0245\n",
      "Training Accuracy: 0.9710, Testing Accuracy: 0.9703\n",
      "\n"
     ]
    },
    {
     "name": "stdout",
     "output_type": "stream",
     "text": [
      "Epoch 170, Loss 0.024\n",
      "Training Accuracy: 0.9716, Testing Accuracy: 0.9718\n",
      "\n"
     ]
    },
    {
     "name": "stdout",
     "output_type": "stream",
     "text": [
      "Epoch 180, Loss 0.0235\n",
      "Training Accuracy: 0.9726, Testing Accuracy: 0.9723\n",
      "\n"
     ]
    },
    {
     "name": "stdout",
     "output_type": "stream",
     "text": [
      "Epoch 190, Loss 0.023\n",
      "Training Accuracy: 0.9735, Testing Accuracy: 0.9733\n",
      "\n"
     ]
    },
    {
     "name": "stdout",
     "output_type": "stream",
     "text": [
      "Epoch 200, Loss 0.0225\n",
      "Training Accuracy: 0.9738, Testing Accuracy: 0.9728\n",
      "\n"
     ]
    },
    {
     "name": "stdout",
     "output_type": "stream",
     "text": [
      "Epoch 210, Loss 0.0221\n",
      "Training Accuracy: 0.9743, Testing Accuracy: 0.9723\n",
      "\n"
     ]
    },
    {
     "name": "stdout",
     "output_type": "stream",
     "text": [
      "Epoch 220, Loss 0.0217\n",
      "Training Accuracy: 0.9745, Testing Accuracy: 0.9733\n",
      "\n"
     ]
    },
    {
     "name": "stdout",
     "output_type": "stream",
     "text": [
      "Epoch 230, Loss 0.0213\n",
      "Training Accuracy: 0.9750, Testing Accuracy: 0.9733\n",
      "\n"
     ]
    },
    {
     "name": "stdout",
     "output_type": "stream",
     "text": [
      "Epoch 240, Loss 0.0209\n",
      "Training Accuracy: 0.9755, Testing Accuracy: 0.9723\n",
      "\n"
     ]
    },
    {
     "data": {
      "text/plain": [
       "0.022681494933665763"
      ]
     },
     "execution_count": 22,
     "metadata": {},
     "output_type": "execute_result"
    }
   ],
   "source": [
    "nn_learner.train_loop(dl)"
   ]
  },
  {
   "cell_type": "code",
   "execution_count": 23,
   "id": "e0163366",
   "metadata": {
    "execution": {
     "iopub.execute_input": "2022-10-25T20:16:02.500295Z",
     "iopub.status.busy": "2022-10-25T20:16:02.499666Z",
     "iopub.status.idle": "2022-10-25T20:16:16.783719Z",
     "shell.execute_reply": "2022-10-25T20:16:16.784563Z"
    },
    "papermill": {
     "duration": 14.330179,
     "end_time": "2022-10-25T20:16:16.784714",
     "exception": false,
     "start_time": "2022-10-25T20:16:02.454535",
     "status": "completed"
    },
    "tags": []
   },
   "outputs": [
    {
     "name": "stdout",
     "output_type": "stream",
     "text": [
      "Epoch 0, Loss 0.2967\n",
      "Training Accuracy: 0.4401, Testing Accuracy: 0.4279\n",
      "\n"
     ]
    },
    {
     "name": "stdout",
     "output_type": "stream",
     "text": [
      "Epoch 10, Loss 0.113\n",
      "Training Accuracy: 0.8872, Testing Accuracy: 0.8977\n",
      "\n"
     ]
    },
    {
     "name": "stdout",
     "output_type": "stream",
     "text": [
      "Epoch 20, Loss 0.084\n",
      "Training Accuracy: 0.9187, Testing Accuracy: 0.9274\n",
      "\n"
     ]
    },
    {
     "name": "stdout",
     "output_type": "stream",
     "text": [
      "Epoch 30, Loss 0.0712\n",
      "Training Accuracy: 0.9318, Testing Accuracy: 0.9430\n",
      "\n"
     ]
    },
    {
     "name": "stdout",
     "output_type": "stream",
     "text": [
      "Epoch 40, Loss 0.0637\n",
      "Training Accuracy: 0.9390, Testing Accuracy: 0.9491\n",
      "\n"
     ]
    },
    {
     "name": "stdout",
     "output_type": "stream",
     "text": [
      "Epoch 50, Loss 0.0587\n",
      "Training Accuracy: 0.9427, Testing Accuracy: 0.9531\n",
      "\n"
     ]
    },
    {
     "name": "stdout",
     "output_type": "stream",
     "text": [
      "Epoch 60, Loss 0.055\n",
      "Training Accuracy: 0.9460, Testing Accuracy: 0.9546\n",
      "\n"
     ]
    },
    {
     "name": "stdout",
     "output_type": "stream",
     "text": [
      "Epoch 70, Loss 0.0522\n",
      "Training Accuracy: 0.9488, Testing Accuracy: 0.9567\n",
      "\n"
     ]
    },
    {
     "name": "stdout",
     "output_type": "stream",
     "text": [
      "Epoch 80, Loss 0.05\n",
      "Training Accuracy: 0.9500, Testing Accuracy: 0.9592\n",
      "\n"
     ]
    },
    {
     "name": "stdout",
     "output_type": "stream",
     "text": [
      "Epoch 90, Loss 0.0482\n",
      "Training Accuracy: 0.9509, Testing Accuracy: 0.9592\n",
      "\n"
     ]
    },
    {
     "name": "stdout",
     "output_type": "stream",
     "text": [
      "Epoch 100, Loss 0.0467\n",
      "Training Accuracy: 0.9524, Testing Accuracy: 0.9602\n",
      "\n"
     ]
    },
    {
     "name": "stdout",
     "output_type": "stream",
     "text": [
      "Epoch 110, Loss 0.0454\n",
      "Training Accuracy: 0.9535, Testing Accuracy: 0.9602\n",
      "\n"
     ]
    },
    {
     "name": "stdout",
     "output_type": "stream",
     "text": [
      "Epoch 120, Loss 0.0443\n",
      "Training Accuracy: 0.9543, Testing Accuracy: 0.9627\n",
      "\n"
     ]
    },
    {
     "name": "stdout",
     "output_type": "stream",
     "text": [
      "Epoch 130, Loss 0.0433\n",
      "Training Accuracy: 0.9548, Testing Accuracy: 0.9632\n",
      "\n"
     ]
    },
    {
     "name": "stdout",
     "output_type": "stream",
     "text": [
      "Epoch 140, Loss 0.0424\n",
      "Training Accuracy: 0.9555, Testing Accuracy: 0.9632\n",
      "\n"
     ]
    },
    {
     "name": "stdout",
     "output_type": "stream",
     "text": [
      "Epoch 150, Loss 0.0417\n",
      "Training Accuracy: 0.9562, Testing Accuracy: 0.9642\n",
      "\n"
     ]
    },
    {
     "name": "stdout",
     "output_type": "stream",
     "text": [
      "Epoch 160, Loss 0.041\n",
      "Training Accuracy: 0.9569, Testing Accuracy: 0.9657\n",
      "\n"
     ]
    },
    {
     "name": "stdout",
     "output_type": "stream",
     "text": [
      "Epoch 170, Loss 0.0403\n",
      "Training Accuracy: 0.9574, Testing Accuracy: 0.9662\n",
      "\n"
     ]
    },
    {
     "name": "stdout",
     "output_type": "stream",
     "text": [
      "Epoch 180, Loss 0.0397\n",
      "Training Accuracy: 0.9579, Testing Accuracy: 0.9662\n",
      "\n"
     ]
    },
    {
     "name": "stdout",
     "output_type": "stream",
     "text": [
      "Epoch 190, Loss 0.0392\n",
      "Training Accuracy: 0.9584, Testing Accuracy: 0.9662\n",
      "\n"
     ]
    },
    {
     "name": "stdout",
     "output_type": "stream",
     "text": [
      "Epoch 200, Loss 0.0387\n",
      "Training Accuracy: 0.9590, Testing Accuracy: 0.9657\n",
      "\n"
     ]
    },
    {
     "name": "stdout",
     "output_type": "stream",
     "text": [
      "Epoch 210, Loss 0.0382\n",
      "Training Accuracy: 0.9594, Testing Accuracy: 0.9657\n",
      "\n"
     ]
    },
    {
     "name": "stdout",
     "output_type": "stream",
     "text": [
      "Epoch 220, Loss 0.0378\n",
      "Training Accuracy: 0.9595, Testing Accuracy: 0.9667\n",
      "\n"
     ]
    },
    {
     "name": "stdout",
     "output_type": "stream",
     "text": [
      "Epoch 230, Loss 0.0374\n",
      "Training Accuracy: 0.9598, Testing Accuracy: 0.9662\n",
      "\n"
     ]
    },
    {
     "name": "stdout",
     "output_type": "stream",
     "text": [
      "Epoch 240, Loss 0.037\n",
      "Training Accuracy: 0.9601, Testing Accuracy: 0.9662\n",
      "\n"
     ]
    },
    {
     "data": {
      "text/plain": [
       "0.03248433846020047"
      ]
     },
     "execution_count": 23,
     "metadata": {},
     "output_type": "execute_result"
    }
   ],
   "source": [
    "lr_learner.train_loop(dl)"
   ]
  },
  {
   "cell_type": "code",
   "execution_count": 24,
   "id": "ca410940",
   "metadata": {
    "execution": {
     "iopub.execute_input": "2022-10-25T20:16:16.876001Z",
     "iopub.status.busy": "2022-10-25T20:16:16.875385Z",
     "iopub.status.idle": "2022-10-25T20:16:17.098777Z",
     "shell.execute_reply": "2022-10-25T20:16:17.099235Z"
    },
    "papermill": {
     "duration": 0.273524,
     "end_time": "2022-10-25T20:16:17.099380",
     "exception": false,
     "start_time": "2022-10-25T20:16:16.825856",
     "status": "completed"
    },
    "tags": []
   },
   "outputs": [
    {
     "data": {
      "text/plain": [
       "<matplotlib.legend.Legend at 0x7fa8363ee4a8>"
      ]
     },
     "execution_count": 24,
     "metadata": {},
     "output_type": "execute_result"
    },
    {
     "data": {
      "image/png": "[encoded data removed]",
      "text/plain": [
       "<Figure size 1080x720 with 1 Axes>"
      ]
     },
     "metadata": {
      "needs_background": "light"
     },
     "output_type": "display_data"
    }
   ],
   "source": [
    "#comparing the results of NN and LR\n",
    "plt.figure(figsize=(15,10))\n",
    "\n",
    "# Neural Network plots\n",
    "plt.plot(acc_nn.accuracies, 'r-', label = \"Training Accuracies - NN\")\n",
    "plt.plot(acc_nn.test_accuracies, 'g-', label = \"Testing Accuracies - NN\")\n",
    "\n",
    "# Logistic Regression plots\n",
    "plt.plot(acc_lr.accuracies, 'k-', label = \"Training Accuracies - LR\")\n",
    "plt.plot(acc_lr.test_accuracies, 'b-', label = \"Testing Accuracies - LR\")\n",
    "plt.legend()"
   ]
  },
  {
   "cell_type": "markdown",
   "id": "80dfb35c",
   "metadata": {
    "papermill": {
     "duration": 0.041741,
     "end_time": "2022-10-25T20:16:17.183081",
     "exception": false,
     "start_time": "2022-10-25T20:16:17.141340",
     "status": "completed"
    },
    "tags": []
   },
   "source": [
    "#### Plotting the outputs of this layer of the NN.\n"
   ]
  },
  {
   "cell_type": "code",
   "execution_count": 25,
   "id": "45eb2ff5",
   "metadata": {
    "execution": {
     "iopub.execute_input": "2022-10-25T20:16:17.279466Z",
     "iopub.status.busy": "2022-10-25T20:16:17.276991Z",
     "iopub.status.idle": "2022-10-25T20:16:17.295644Z",
     "shell.execute_reply": "2022-10-25T20:16:17.296120Z"
    },
    "papermill": {
     "duration": 0.071486,
     "end_time": "2022-10-25T20:16:17.296267",
     "exception": false,
     "start_time": "2022-10-25T20:16:17.224781",
     "status": "completed"
    },
    "tags": []
   },
   "outputs": [],
   "source": [
    "new_model = Model(layers[:-2])\n",
    "testing_plot = new_model(testing_data_x)"
   ]
  },
  {
   "cell_type": "code",
   "execution_count": 26,
   "id": "4c0a5485",
   "metadata": {
    "execution": {
     "iopub.execute_input": "2022-10-25T20:16:17.385421Z",
     "iopub.status.busy": "2022-10-25T20:16:17.384826Z",
     "iopub.status.idle": "2022-10-25T20:16:17.585057Z",
     "shell.execute_reply": "2022-10-25T20:16:17.584251Z"
    },
    "papermill": {
     "duration": 0.246724,
     "end_time": "2022-10-25T20:16:17.585186",
     "exception": false,
     "start_time": "2022-10-25T20:16:17.338462",
     "status": "completed"
    },
    "tags": []
   },
   "outputs": [
    {
     "data": {
      "text/plain": [
       "Text(0.5, 1.0, 'Outputs')"
      ]
     },
     "execution_count": 26,
     "metadata": {},
     "output_type": "execute_result"
    },
    {
     "data": {
      "image/png": "[encoded data removed]",
      "text/plain": [
       "<Figure size 576x504 with 1 Axes>"
      ]
     },
     "metadata": {
      "needs_background": "light"
     },
     "output_type": "display_data"
    }
   ],
   "source": [
    "# Plotting the scatter plot of points and color coding by class\n",
    "plt.figure(figsize=(8,7))\n",
    "plt.scatter(testing_plot[:,0], testing_plot[:,1], alpha = 0.1, c = y_test.ravel());\n",
    "plt.title('Outputs')"
   ]
  },
  {
   "cell_type": "markdown",
   "id": "a74fcf8f",
   "metadata": {
    "papermill": {
     "duration": 0.043788,
     "end_time": "2022-10-25T20:16:17.673680",
     "exception": false,
     "start_time": "2022-10-25T20:16:17.629892",
     "status": "completed"
    },
    "tags": []
   },
   "source": [
    "Probability contours"
   ]
  },
  {
   "cell_type": "code",
   "execution_count": 27,
   "id": "d0afc8e3",
   "metadata": {
    "execution": {
     "iopub.execute_input": "2022-10-25T20:16:17.796888Z",
     "iopub.status.busy": "2022-10-25T20:16:17.796300Z",
     "iopub.status.idle": "2022-10-25T20:16:17.808841Z",
     "shell.execute_reply": "2022-10-25T20:16:17.808263Z"
    },
    "papermill": {
     "duration": 0.060788,
     "end_time": "2022-10-25T20:16:17.808952",
     "exception": false,
     "start_time": "2022-10-25T20:16:17.748164",
     "status": "completed"
    },
    "tags": []
   },
   "outputs": [],
   "source": [
    "model_prob = Model(layers[-2:]) "
   ]
  },
  {
   "cell_type": "code",
   "execution_count": 28,
   "id": "9b96e238",
   "metadata": {
    "execution": {
     "iopub.execute_input": "2022-10-25T20:16:17.900083Z",
     "iopub.status.busy": "2022-10-25T20:16:17.899467Z",
     "iopub.status.idle": "2022-10-25T20:16:17.914892Z",
     "shell.execute_reply": "2022-10-25T20:16:17.915340Z"
    },
    "papermill": {
     "duration": 0.062705,
     "end_time": "2022-10-25T20:16:17.915486",
     "exception": false,
     "start_time": "2022-10-25T20:16:17.852781",
     "status": "completed"
    },
    "tags": []
   },
   "outputs": [],
   "source": [
    "#creating the x and y ranges according to the above generated plot.\n",
    "x_range = np.linspace(-4, 1, 100) \n",
    "y_range = np.linspace(-6, 6, 100) \n",
    "x_grid, y_grid = np.meshgrid(x_range, y_range) # x_grid and y_grig are of size 100 X 100\n",
    "\n",
    "# converting x_grid and y_grid to continuous arrays\n",
    "x_gridflat = np.ravel(x_grid)\n",
    "y_gridflat = np.ravel(y_grid)\n",
    "\n",
    "# The last layer of the current model takes two columns as input. Hence transpose of np.vstack() is required.\n",
    "X = np.vstack((x_gridflat, y_gridflat)).T\n",
    "\n",
    "prob_contour = model_prob(X).reshape(100,100) "
   ]
  },
  {
   "cell_type": "code",
   "execution_count": 29,
   "id": "da72499a",
   "metadata": {
    "execution": {
     "iopub.execute_input": "2022-10-25T20:16:18.014088Z",
     "iopub.status.busy": "2022-10-25T20:16:18.013491Z",
     "iopub.status.idle": "2022-10-25T20:16:18.262063Z",
     "shell.execute_reply": "2022-10-25T20:16:18.261147Z"
    },
    "papermill": {
     "duration": 0.300632,
     "end_time": "2022-10-25T20:16:18.262195",
     "exception": false,
     "start_time": "2022-10-25T20:16:17.961563",
     "status": "completed"
    },
    "tags": []
   },
   "outputs": [
    {
     "data": {
      "image/png": "[encoded data removed]",
      "text/plain": [
       "<Figure size 720x648 with 1 Axes>"
      ]
     },
     "metadata": {
      "needs_background": "light"
     },
     "output_type": "display_data"
    }
   ],
   "source": [
    "plt.figure(figsize=(10,9))\n",
    "plt.scatter(testing_plot[:,0], testing_plot[:,1], alpha = 0.1, c = y_test.ravel())\n",
    "contours = plt.contour(x_grid,y_grid,prob_contour)\n",
    "plt.title('Probability Contours')\n",
    "plt.clabel(contours, inline = True );"
   ]
  },
  {
   "cell_type": "code",
   "execution_count": null,
   "id": "e81b4ac7",
   "metadata": {
    "papermill": {
     "duration": 0.046521,
     "end_time": "2022-10-25T20:16:18.355627",
     "exception": false,
     "start_time": "2022-10-25T20:16:18.309106",
     "status": "completed"
    },
    "tags": []
   },
   "outputs": [],
   "source": []
  }
 ],
 "metadata": {
  "kernelspec": {
   "display_name": "Python 3",
   "language": "python",
   "name": "python3"
  },
  "language_info": {
   "codemirror_mode": {
    "name": "ipython",
    "version": 3
   },
   "file_extension": ".py",
   "mimetype": "text/x-python",
   "name": "python",
   "nbconvert_exporter": "python",
   "pygments_lexer": "ipython3",
   "version": "3.6.15"
  },
  "papermill": {
   "default_parameters": {},
   "duration": 102.785848,
   "end_time": "2022-10-25T20:16:18.821326",
   "environment_variables": {},
   "exception": null,
   "input_path": "2020-08-11-part2.ipynb",
   "output_path": "2020-08-11-part2.ipynb",
   "parameters": {},
   "start_time": "2022-10-25T20:14:36.035478",
   "version": "2.3.3"
  }
 },
 "nbformat": 4,
 "nbformat_minor": 5
}