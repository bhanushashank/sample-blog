{
 "cells": [
  {
   "cell_type": "markdown",
   "id": "98380cd3",
   "metadata": {
    "papermill": {
     "duration": 0.035428,
     "end_time": "2022-06-09T10:12:00.916342",
     "exception": false,
     "start_time": "2022-06-09T10:12:00.880914",
     "status": "completed"
    },
    "tags": []
   },
   "source": [
    "# Distinguish Your Own Digits (DYOD)"
   ]
  },
  {
   "cell_type": "markdown",
   "id": "ef31240d",
   "metadata": {
    "papermill": {
     "duration": 0.031785,
     "end_time": "2022-06-09T10:12:00.977984",
     "exception": false,
     "start_time": "2022-06-09T10:12:00.946199",
     "status": "completed"
    },
    "tags": []
   },
   "source": [
    "You are going to write a classifier that distinguishes between the number 3 and number 8."
   ]
  },
  {
   "cell_type": "code",
   "execution_count": 1,
   "id": "b15c8646",
   "metadata": {
    "execution": {
     "iopub.execute_input": "2022-06-09T10:12:01.053152Z",
     "iopub.status.busy": "2022-06-09T10:12:01.052401Z",
     "iopub.status.idle": "2022-06-09T10:12:01.065321Z",
     "shell.execute_reply": "2022-06-09T10:12:01.064672Z"
    },
    "papermill": {
     "duration": 0.056777,
     "end_time": "2022-06-09T10:12:01.065494",
     "exception": false,
     "start_time": "2022-06-09T10:12:01.008717",
     "status": "completed"
    },
    "tags": []
   },
   "outputs": [],
   "source": [
    "%load_ext autoreload\n",
    "%autoreload 2"
   ]
  },
  {
   "cell_type": "code",
   "execution_count": 2,
   "id": "22ef38dc",
   "metadata": {
    "execution": {
     "iopub.execute_input": "2022-06-09T10:12:01.130385Z",
     "iopub.status.busy": "2022-06-09T10:12:01.129641Z",
     "iopub.status.idle": "2022-06-09T10:12:01.753272Z",
     "shell.execute_reply": "2022-06-09T10:12:01.752566Z"
    },
    "papermill": {
     "duration": 0.664528,
     "end_time": "2022-06-09T10:12:01.758369",
     "exception": false,
     "start_time": "2022-06-09T10:12:01.093841",
     "status": "completed"
    },
    "tags": []
   },
   "outputs": [],
   "source": [
    "%matplotlib inline\n",
    "import numpy as np\n",
    "import matplotlib.pyplot as plt\n",
    "import pandas as pd"
   ]
  },
  {
   "cell_type": "markdown",
   "id": "ba036198",
   "metadata": {
    "papermill": {
     "duration": 0.029366,
     "end_time": "2022-06-09T10:12:01.816649",
     "exception": false,
     "start_time": "2022-06-09T10:12:01.787283",
     "status": "completed"
    },
    "tags": []
   },
   "source": [
    "From the command line run `pip install mnist`. This is a library that will help you bring down the mnist dataset. If you run this from a notebook, you need to put  `!pip install mnist` in a cell by itself."
   ]
  },
  {
   "cell_type": "code",
   "execution_count": 3,
   "id": "bb6ad8a1",
   "metadata": {
    "execution": {
     "iopub.execute_input": "2022-06-09T10:12:01.881165Z",
     "iopub.status.busy": "2022-06-09T10:12:01.880415Z",
     "iopub.status.idle": "2022-06-09T10:12:04.652068Z",
     "shell.execute_reply": "2022-06-09T10:12:04.652581Z"
    },
    "papermill": {
     "duration": 2.806935,
     "end_time": "2022-06-09T10:12:04.652743",
     "exception": false,
     "start_time": "2022-06-09T10:12:01.845808",
     "status": "completed"
    },
    "tags": []
   },
   "outputs": [
    {
     "name": "stdout",
     "output_type": "stream",
     "text": [
      "Collecting mnist\r\n"
     ]
    },
    {
     "name": "stdout",
     "output_type": "stream",
     "text": [
      "  Downloading mnist-0.2.2-py2.py3-none-any.whl (3.5 kB)\r\n",
      "Requirement already satisfied: numpy in /opt/hostedtoolcache/Python/3.6.15/x64/lib/python3.6/site-packages (from mnist) (1.19.5)\r\n"
     ]
    },
    {
     "name": "stdout",
     "output_type": "stream",
     "text": [
      "Installing collected packages: mnist\r\n",
      "Successfully installed mnist-0.2.2\r\n"
     ]
    }
   ],
   "source": [
    "!pip install mnist"
   ]
  },
  {
   "cell_type": "markdown",
   "id": "69df9c9a",
   "metadata": {
    "papermill": {
     "duration": 0.028559,
     "end_time": "2022-06-09T10:12:04.712770",
     "exception": false,
     "start_time": "2022-06-09T10:12:04.684211",
     "status": "completed"
    },
    "tags": []
   },
   "source": [
    "## Preparing the Data"
   ]
  },
  {
   "cell_type": "code",
   "execution_count": 4,
   "id": "7f69d806",
   "metadata": {
    "execution": {
     "iopub.execute_input": "2022-06-09T10:12:04.779620Z",
     "iopub.status.busy": "2022-06-09T10:12:04.778103Z",
     "iopub.status.idle": "2022-06-09T10:12:04.795598Z",
     "shell.execute_reply": "2022-06-09T10:12:04.794960Z"
    },
    "papermill": {
     "duration": 0.053285,
     "end_time": "2022-06-09T10:12:04.795738",
     "exception": false,
     "start_time": "2022-06-09T10:12:04.742453",
     "status": "completed"
    },
    "tags": []
   },
   "outputs": [],
   "source": [
    "import mnist"
   ]
  },
  {
   "cell_type": "code",
   "execution_count": 5,
   "id": "a411e44f",
   "metadata": {
    "execution": {
     "iopub.execute_input": "2022-06-09T10:12:04.866744Z",
     "iopub.status.busy": "2022-06-09T10:12:04.865918Z",
     "iopub.status.idle": "2022-06-09T10:12:05.467716Z",
     "shell.execute_reply": "2022-06-09T10:12:05.466300Z"
    },
    "papermill": {
     "duration": 0.640508,
     "end_time": "2022-06-09T10:12:05.467871",
     "exception": false,
     "start_time": "2022-06-09T10:12:04.827363",
     "status": "completed"
    },
    "tags": []
   },
   "outputs": [],
   "source": [
    "train_images = mnist.train_images()\n",
    "train_labels = mnist.train_labels()"
   ]
  },
  {
   "cell_type": "code",
   "execution_count": 6,
   "id": "dceab3a5",
   "metadata": {
    "execution": {
     "iopub.execute_input": "2022-06-09T10:12:05.531946Z",
     "iopub.status.busy": "2022-06-09T10:12:05.531228Z",
     "iopub.status.idle": "2022-06-09T10:12:05.547161Z",
     "shell.execute_reply": "2022-06-09T10:12:05.547915Z"
    },
    "papermill": {
     "duration": 0.050987,
     "end_time": "2022-06-09T10:12:05.548068",
     "exception": false,
     "start_time": "2022-06-09T10:12:05.497081",
     "status": "completed"
    },
    "tags": []
   },
   "outputs": [
    {
     "data": {
      "text/plain": [
       "((60000, 28, 28), (60000,))"
      ]
     },
     "execution_count": 6,
     "metadata": {},
     "output_type": "execute_result"
    }
   ],
   "source": [
    "train_images.shape, train_labels.shape"
   ]
  },
  {
   "cell_type": "code",
   "execution_count": 7,
   "id": "f50dc2bb",
   "metadata": {
    "execution": {
     "iopub.execute_input": "2022-06-09T10:12:05.622595Z",
     "iopub.status.busy": "2022-06-09T10:12:05.614956Z",
     "iopub.status.idle": "2022-06-09T10:12:05.732114Z",
     "shell.execute_reply": "2022-06-09T10:12:05.732641Z"
    },
    "papermill": {
     "duration": 0.153749,
     "end_time": "2022-06-09T10:12:05.732802",
     "exception": false,
     "start_time": "2022-06-09T10:12:05.579053",
     "status": "completed"
    },
    "tags": []
   },
   "outputs": [],
   "source": [
    "test_images = mnist.test_images()\n",
    "test_labels = mnist.test_labels()"
   ]
  },
  {
   "cell_type": "code",
   "execution_count": 8,
   "id": "fc38cf1b",
   "metadata": {
    "execution": {
     "iopub.execute_input": "2022-06-09T10:12:05.800269Z",
     "iopub.status.busy": "2022-06-09T10:12:05.799526Z",
     "iopub.status.idle": "2022-06-09T10:12:05.814317Z",
     "shell.execute_reply": "2022-06-09T10:12:05.815065Z"
    },
    "papermill": {
     "duration": 0.051667,
     "end_time": "2022-06-09T10:12:05.815209",
     "exception": false,
     "start_time": "2022-06-09T10:12:05.763542",
     "status": "completed"
    },
    "tags": []
   },
   "outputs": [
    {
     "data": {
      "text/plain": [
       "((10000, 28, 28), (10000,))"
      ]
     },
     "execution_count": 8,
     "metadata": {},
     "output_type": "execute_result"
    }
   ],
   "source": [
    "test_images.shape, test_labels.shape"
   ]
  },
  {
   "cell_type": "code",
   "execution_count": 9,
   "id": "f9ed8fe0",
   "metadata": {
    "execution": {
     "iopub.execute_input": "2022-06-09T10:12:05.879292Z",
     "iopub.status.busy": "2022-06-09T10:12:05.878607Z",
     "iopub.status.idle": "2022-06-09T10:12:06.057477Z",
     "shell.execute_reply": "2022-06-09T10:12:06.056812Z"
    },
    "papermill": {
     "duration": 0.210999,
     "end_time": "2022-06-09T10:12:06.057620",
     "exception": false,
     "start_time": "2022-06-09T10:12:05.846621",
     "status": "completed"
    },
    "tags": []
   },
   "outputs": [
    {
     "name": "stdout",
     "output_type": "stream",
     "text": [
      "2\n"
     ]
    },
    {
     "data": {
      "text/plain": [
       "<matplotlib.image.AxesImage at 0x7f37d251e400>"
      ]
     },
     "execution_count": 9,
     "metadata": {},
     "output_type": "execute_result"
    },
    {
     "data": {
      "image/png": "[encoded data removed]",
      "text/plain": [
       "<Figure size 432x288 with 1 Axes>"
      ]
     },
     "metadata": {
      "needs_background": "light"
     },
     "output_type": "display_data"
    }
   ],
   "source": [
    "image_index = 7776 # You may select anything up to 60,000\n",
    "print(train_labels[image_index]) \n",
    "plt.imshow(train_images[image_index], cmap='Greys')"
   ]
  },
  {
   "cell_type": "markdown",
   "id": "a8d2388d",
   "metadata": {
    "papermill": {
     "duration": 0.032595,
     "end_time": "2022-06-09T10:12:06.124048",
     "exception": false,
     "start_time": "2022-06-09T10:12:06.091453",
     "status": "completed"
    },
    "tags": []
   },
   "source": [
    "## Filter data to get 3 and 8 out"
   ]
  },
  {
   "cell_type": "code",
   "execution_count": 10,
   "id": "776f7fc7",
   "metadata": {
    "execution": {
     "iopub.execute_input": "2022-06-09T10:12:06.193042Z",
     "iopub.status.busy": "2022-06-09T10:12:06.192282Z",
     "iopub.status.idle": "2022-06-09T10:12:06.211125Z",
     "shell.execute_reply": "2022-06-09T10:12:06.211668Z"
    },
    "papermill": {
     "duration": 0.057332,
     "end_time": "2022-06-09T10:12:06.212137",
     "exception": false,
     "start_time": "2022-06-09T10:12:06.154805",
     "status": "completed"
    },
    "tags": []
   },
   "outputs": [],
   "source": [
    "train_filter = np.where((train_labels == 3 ) | (train_labels == 8))\n",
    "test_filter = np.where((test_labels == 3) | (test_labels == 8))\n",
    "X_train, y_train = train_images[train_filter], train_labels[train_filter]\n",
    "X_test, y_test = test_images[test_filter], test_labels[test_filter]"
   ]
  },
  {
   "cell_type": "markdown",
   "id": "948f0b7e",
   "metadata": {
    "papermill": {
     "duration": 0.030531,
     "end_time": "2022-06-09T10:12:06.274983",
     "exception": false,
     "start_time": "2022-06-09T10:12:06.244452",
     "status": "completed"
    },
    "tags": []
   },
   "source": [
    "We normalize the pizel values in the 0 to 1 range"
   ]
  },
  {
   "cell_type": "code",
   "execution_count": 11,
   "id": "ee4c2166",
   "metadata": {
    "execution": {
     "iopub.execute_input": "2022-06-09T10:12:06.348017Z",
     "iopub.status.busy": "2022-06-09T10:12:06.347276Z",
     "iopub.status.idle": "2022-06-09T10:12:06.421281Z",
     "shell.execute_reply": "2022-06-09T10:12:06.421906Z"
    },
    "papermill": {
     "duration": 0.116512,
     "end_time": "2022-06-09T10:12:06.422112",
     "exception": false,
     "start_time": "2022-06-09T10:12:06.305600",
     "status": "completed"
    },
    "tags": []
   },
   "outputs": [],
   "source": [
    "X_train = X_train/255.\n",
    "X_test = X_test/255."
   ]
  },
  {
   "cell_type": "markdown",
   "id": "ddcf4fab",
   "metadata": {
    "papermill": {
     "duration": 0.030881,
     "end_time": "2022-06-09T10:12:06.487115",
     "exception": false,
     "start_time": "2022-06-09T10:12:06.456234",
     "status": "completed"
    },
    "tags": []
   },
   "source": [
    "And setup the labels as 1 (when the digit is 3) and 0 (when the digit is 8)"
   ]
  },
  {
   "cell_type": "code",
   "execution_count": 12,
   "id": "7dc908f2",
   "metadata": {
    "execution": {
     "iopub.execute_input": "2022-06-09T10:12:06.556347Z",
     "iopub.status.busy": "2022-06-09T10:12:06.555607Z",
     "iopub.status.idle": "2022-06-09T10:12:06.566935Z",
     "shell.execute_reply": "2022-06-09T10:12:06.566370Z"
    },
    "papermill": {
     "duration": 0.049865,
     "end_time": "2022-06-09T10:12:06.567053",
     "exception": false,
     "start_time": "2022-06-09T10:12:06.517188",
     "status": "completed"
    },
    "tags": []
   },
   "outputs": [],
   "source": [
    "y_train = 1*(y_train==3)\n",
    "y_test = 1*(y_test==3)"
   ]
  },
  {
   "cell_type": "code",
   "execution_count": 13,
   "id": "01e4e969",
   "metadata": {
    "execution": {
     "iopub.execute_input": "2022-06-09T10:12:06.639710Z",
     "iopub.status.busy": "2022-06-09T10:12:06.635548Z",
     "iopub.status.idle": "2022-06-09T10:12:06.651574Z",
     "shell.execute_reply": "2022-06-09T10:12:06.652265Z"
    },
    "papermill": {
     "duration": 0.054366,
     "end_time": "2022-06-09T10:12:06.652413",
     "exception": false,
     "start_time": "2022-06-09T10:12:06.598047",
     "status": "completed"
    },
    "tags": []
   },
   "outputs": [
    {
     "data": {
      "text/plain": [
       "((11982, 28, 28), (1984, 28, 28))"
      ]
     },
     "execution_count": 13,
     "metadata": {},
     "output_type": "execute_result"
    }
   ],
   "source": [
    "X_train.shape, X_test.shape"
   ]
  },
  {
   "cell_type": "markdown",
   "id": "5ccf3f85",
   "metadata": {
    "papermill": {
     "duration": 0.031655,
     "end_time": "2022-06-09T10:12:06.715756",
     "exception": false,
     "start_time": "2022-06-09T10:12:06.684101",
     "status": "completed"
    },
    "tags": []
   },
   "source": [
    "We reshape the data to flatten the image pixels into a set of features or co-variates:"
   ]
  },
  {
   "cell_type": "code",
   "execution_count": 14,
   "id": "5286a4a3",
   "metadata": {
    "execution": {
     "iopub.execute_input": "2022-06-09T10:12:06.785909Z",
     "iopub.status.busy": "2022-06-09T10:12:06.785192Z",
     "iopub.status.idle": "2022-06-09T10:12:06.804446Z",
     "shell.execute_reply": "2022-06-09T10:12:06.803846Z"
    },
    "papermill": {
     "duration": 0.056756,
     "end_time": "2022-06-09T10:12:06.804575",
     "exception": false,
     "start_time": "2022-06-09T10:12:06.747819",
     "status": "completed"
    },
    "tags": []
   },
   "outputs": [
    {
     "data": {
      "text/plain": [
       "((11982, 784), (1984, 784))"
      ]
     },
     "execution_count": 14,
     "metadata": {},
     "output_type": "execute_result"
    }
   ],
   "source": [
    "X_train = X_train.reshape(X_train.shape[0], -1)\n",
    "X_test = X_test.reshape(X_test.shape[0], -1)\n",
    "X_train.shape, X_test.shape"
   ]
  },
  {
   "cell_type": "code",
   "execution_count": 15,
   "id": "73c5f88a",
   "metadata": {
    "execution": {
     "iopub.execute_input": "2022-06-09T10:12:06.876958Z",
     "iopub.status.busy": "2022-06-09T10:12:06.876197Z",
     "iopub.status.idle": "2022-06-09T10:12:06.897503Z",
     "shell.execute_reply": "2022-06-09T10:12:06.896899Z"
    },
    "papermill": {
     "duration": 0.06015,
     "end_time": "2022-06-09T10:12:06.897625",
     "exception": false,
     "start_time": "2022-06-09T10:12:06.837475",
     "status": "completed"
    },
    "tags": []
   },
   "outputs": [],
   "source": [
    "#Impoting functions from 'Kudzu'\n",
    "from kudzu.model import Model\n",
    "from kudzu.train import Learner\n",
    "from kudzu.optim import GD\n",
    "from kudzu.data import Data, Sampler,Dataloader\n",
    "\n",
    "from kudzu.callbacks import AccCallback\n",
    "from kudzu.callbacks import ClfCallback\n",
    "\n",
    "from kudzu.loss import MSE\n",
    "\n",
    "from kudzu.layer import Sigmoid,Relu\n",
    "from kudzu.layer import Affine"
   ]
  },
  {
   "cell_type": "markdown",
   "id": "bc01172a",
   "metadata": {
    "papermill": {
     "duration": 0.032603,
     "end_time": "2022-06-09T10:12:06.962785",
     "exception": false,
     "start_time": "2022-06-09T10:12:06.930182",
     "status": "completed"
    },
    "tags": []
   },
   "source": [
    "### Let us create a `Config` class, to store important parameters. \n",
    "This class essentially plays the role of a dictionary."
   ]
  },
  {
   "cell_type": "code",
   "execution_count": 16,
   "id": "978281aa",
   "metadata": {
    "execution": {
     "iopub.execute_input": "2022-06-09T10:12:07.031627Z",
     "iopub.status.busy": "2022-06-09T10:12:07.030895Z",
     "iopub.status.idle": "2022-06-09T10:12:07.043899Z",
     "shell.execute_reply": "2022-06-09T10:12:07.043362Z"
    },
    "papermill": {
     "duration": 0.049794,
     "end_time": "2022-06-09T10:12:07.044014",
     "exception": false,
     "start_time": "2022-06-09T10:12:06.994220",
     "status": "completed"
    },
    "tags": []
   },
   "outputs": [],
   "source": [
    "class Config:\n",
    "    pass\n",
    "config = Config()\n",
    "config.lr = 0.001\n",
    "config.num_epochs = 250\n",
    "config.bs = 50"
   ]
  },
  {
   "cell_type": "markdown",
   "id": "1385fa59",
   "metadata": {
    "papermill": {
     "duration": 0.032767,
     "end_time": "2022-06-09T10:12:07.113878",
     "exception": false,
     "start_time": "2022-06-09T10:12:07.081111",
     "status": "completed"
    },
    "tags": []
   },
   "source": [
    "### Running Models with the Training data\n",
    "Details about the network layers:\n",
    "- A first affine layer has 784 inputs and does 100 affine transforms. These are followed by a Relu\n",
    "- A second affine layer has 100 inputs from the 100 activations of the past layer, and does 100 affine transforms. These are followed by a Relu\n",
    "- A third affine layer has 100 activations and does 2 affine transformations to create an embedding for visualization. There is no non-linearity here.\n",
    "- A final \"logistic regression\" which has an affine transform from 2 inputs to 1 output, which is squeezed through a sigmoid.\n"
   ]
  },
  {
   "cell_type": "code",
   "execution_count": 17,
   "id": "2b9c66db",
   "metadata": {
    "execution": {
     "iopub.execute_input": "2022-06-09T10:12:07.183498Z",
     "iopub.status.busy": "2022-06-09T10:12:07.182739Z",
     "iopub.status.idle": "2022-06-09T10:12:07.201044Z",
     "shell.execute_reply": "2022-06-09T10:12:07.200499Z"
    },
    "papermill": {
     "duration": 0.055023,
     "end_time": "2022-06-09T10:12:07.201252",
     "exception": false,
     "start_time": "2022-06-09T10:12:07.146229",
     "status": "completed"
    },
    "tags": []
   },
   "outputs": [],
   "source": [
    "data = Data(X_train, y_train.reshape(-1,1))\n",
    "sampler = Sampler(data, config.bs, shuffle=True)\n",
    "\n",
    "dl = Dataloader(data, sampler)\n",
    "\n",
    "opt = GD(config.lr)\n",
    "loss = MSE()"
   ]
  },
  {
   "cell_type": "code",
   "execution_count": 18,
   "id": "b275e4c2",
   "metadata": {
    "execution": {
     "iopub.execute_input": "2022-06-09T10:12:07.275948Z",
     "iopub.status.busy": "2022-06-09T10:12:07.275182Z",
     "iopub.status.idle": "2022-06-09T10:12:07.288554Z",
     "shell.execute_reply": "2022-06-09T10:12:07.287998Z"
    },
    "papermill": {
     "duration": 0.054775,
     "end_time": "2022-06-09T10:12:07.288685",
     "exception": false,
     "start_time": "2022-06-09T10:12:07.233910",
     "status": "completed"
    },
    "tags": []
   },
   "outputs": [],
   "source": [
    "training_data_x = X_train\n",
    "testing_data_x = X_test\n",
    "training_data_y = y_train.reshape(-1,1)\n",
    "testing_data_y = y_test.reshape(-1,1)"
   ]
  },
  {
   "cell_type": "code",
   "execution_count": 19,
   "id": "76951160",
   "metadata": {
    "execution": {
     "iopub.execute_input": "2022-06-09T10:12:07.363258Z",
     "iopub.status.busy": "2022-06-09T10:12:07.362405Z",
     "iopub.status.idle": "2022-06-09T10:12:07.380510Z",
     "shell.execute_reply": "2022-06-09T10:12:07.381241Z"
    },
    "papermill": {
     "duration": 0.059662,
     "end_time": "2022-06-09T10:12:07.381426",
     "exception": false,
     "start_time": "2022-06-09T10:12:07.321764",
     "status": "completed"
    },
    "tags": []
   },
   "outputs": [
    {
     "name": "stdout",
     "output_type": "stream",
     "text": [
      "xavier\n",
      "xavier\n",
      "xavier\n",
      "xavier\n",
      "xavier\n"
     ]
    }
   ],
   "source": [
    "layers = [Affine(\"first\", 784, 100), Relu(\"first\"), Affine(\"second\", 100, 100), Relu(\"second\"), Affine(\"third\", 100, 2), Affine(\"last\", 2, 1), Sigmoid(\"last\")]\n",
    "model_nn = Model(layers)\n",
    "model_lr = Model([Affine(\"logits\", 784, 1), Sigmoid(\"sigmoid\")])"
   ]
  },
  {
   "cell_type": "code",
   "execution_count": 20,
   "id": "6eede77a",
   "metadata": {
    "execution": {
     "iopub.execute_input": "2022-06-09T10:12:07.456752Z",
     "iopub.status.busy": "2022-06-09T10:12:07.455959Z",
     "iopub.status.idle": "2022-06-09T10:12:07.469050Z",
     "shell.execute_reply": "2022-06-09T10:12:07.469700Z"
    },
    "papermill": {
     "duration": 0.054361,
     "end_time": "2022-06-09T10:12:07.469853",
     "exception": false,
     "start_time": "2022-06-09T10:12:07.415492",
     "status": "completed"
    },
    "tags": []
   },
   "outputs": [],
   "source": [
    "nn_learner = Learner(loss, model_nn, opt, config.num_epochs)\n",
    "acc_nn = ClfCallback(nn_learner, config.bs, training_data_x , testing_data_x, training_data_y, testing_data_y)\n",
    "nn_learner.set_callbacks([acc_nn])"
   ]
  },
  {
   "cell_type": "code",
   "execution_count": 21,
   "id": "877b6cc7",
   "metadata": {
    "execution": {
     "iopub.execute_input": "2022-06-09T10:12:07.543587Z",
     "iopub.status.busy": "2022-06-09T10:12:07.542932Z",
     "iopub.status.idle": "2022-06-09T10:12:07.555044Z",
     "shell.execute_reply": "2022-06-09T10:12:07.554360Z"
    },
    "papermill": {
     "duration": 0.05156,
     "end_time": "2022-06-09T10:12:07.555163",
     "exception": false,
     "start_time": "2022-06-09T10:12:07.503603",
     "status": "completed"
    },
    "tags": []
   },
   "outputs": [],
   "source": [
    "lr_learner = Learner(loss, model_lr, opt, config.num_epochs)\n",
    "acc_lr = ClfCallback(lr_learner, config.bs, training_data_x , testing_data_x, training_data_y, testing_data_y)\n",
    "lr_learner.set_callbacks([acc_lr])"
   ]
  },
  {
   "cell_type": "code",
   "execution_count": 22,
   "id": "d9b133c3",
   "metadata": {
    "execution": {
     "iopub.execute_input": "2022-06-09T10:12:07.624290Z",
     "iopub.status.busy": "2022-06-09T10:12:07.623589Z",
     "iopub.status.idle": "2022-06-09T10:14:13.571931Z",
     "shell.execute_reply": "2022-06-09T10:14:13.572893Z"
    },
    "papermill": {
     "duration": 125.985087,
     "end_time": "2022-06-09T10:14:13.573059",
     "exception": false,
     "start_time": "2022-06-09T10:12:07.587972",
     "status": "completed"
    },
    "tags": []
   },
   "outputs": [
    {
     "name": "stdout",
     "output_type": "stream",
     "text": [
      "Epoch 0, Loss 0.2258\n",
      "Training Accuracy: 0.7516, Testing Accuracy: 0.7586\n",
      "\n"
     ]
    },
    {
     "name": "stdout",
     "output_type": "stream",
     "text": [
      "Epoch 10, Loss 0.0639\n",
      "Training Accuracy: 0.9358, Testing Accuracy: 0.9370\n",
      "\n"
     ]
    },
    {
     "name": "stdout",
     "output_type": "stream",
     "text": [
      "Epoch 20, Loss 0.0438\n",
      "Training Accuracy: 0.9541, Testing Accuracy: 0.9567\n",
      "\n"
     ]
    },
    {
     "name": "stdout",
     "output_type": "stream",
     "text": [
      "Epoch 30, Loss 0.0364\n",
      "Training Accuracy: 0.9605, Testing Accuracy: 0.9622\n",
      "\n"
     ]
    },
    {
     "name": "stdout",
     "output_type": "stream",
     "text": [
      "Epoch 40, Loss 0.0324\n",
      "Training Accuracy: 0.9640, Testing Accuracy: 0.9677\n",
      "\n"
     ]
    },
    {
     "name": "stdout",
     "output_type": "stream",
     "text": [
      "Epoch 50, Loss 0.0298\n",
      "Training Accuracy: 0.9666, Testing Accuracy: 0.9693\n",
      "\n"
     ]
    },
    {
     "name": "stdout",
     "output_type": "stream",
     "text": [
      "Epoch 60, Loss 0.0279\n",
      "Training Accuracy: 0.9677, Testing Accuracy: 0.9718\n",
      "\n"
     ]
    },
    {
     "name": "stdout",
     "output_type": "stream",
     "text": [
      "Epoch 70, Loss 0.0264\n",
      "Training Accuracy: 0.9690, Testing Accuracy: 0.9723\n",
      "\n"
     ]
    },
    {
     "name": "stdout",
     "output_type": "stream",
     "text": [
      "Epoch 80, Loss 0.0252\n",
      "Training Accuracy: 0.9704, Testing Accuracy: 0.9733\n",
      "\n"
     ]
    },
    {
     "name": "stdout",
     "output_type": "stream",
     "text": [
      "Epoch 90, Loss 0.0241\n",
      "Training Accuracy: 0.9716, Testing Accuracy: 0.9733\n",
      "\n"
     ]
    },
    {
     "name": "stdout",
     "output_type": "stream",
     "text": [
      "Epoch 100, Loss 0.0233\n",
      "Training Accuracy: 0.9728, Testing Accuracy: 0.9738\n",
      "\n"
     ]
    },
    {
     "name": "stdout",
     "output_type": "stream",
     "text": [
      "Epoch 110, Loss 0.0225\n",
      "Training Accuracy: 0.9739, Testing Accuracy: 0.9733\n",
      "\n"
     ]
    },
    {
     "name": "stdout",
     "output_type": "stream",
     "text": [
      "Epoch 120, Loss 0.0217\n",
      "Training Accuracy: 0.9754, Testing Accuracy: 0.9738\n",
      "\n"
     ]
    },
    {
     "name": "stdout",
     "output_type": "stream",
     "text": [
      "Epoch 130, Loss 0.0211\n",
      "Training Accuracy: 0.9758, Testing Accuracy: 0.9748\n",
      "\n"
     ]
    },
    {
     "name": "stdout",
     "output_type": "stream",
     "text": [
      "Epoch 140, Loss 0.0205\n",
      "Training Accuracy: 0.9766, Testing Accuracy: 0.9748\n",
      "\n"
     ]
    },
    {
     "name": "stdout",
     "output_type": "stream",
     "text": [
      "Epoch 150, Loss 0.0199\n",
      "Training Accuracy: 0.9781, Testing Accuracy: 0.9753\n",
      "\n"
     ]
    },
    {
     "name": "stdout",
     "output_type": "stream",
     "text": [
      "Epoch 160, Loss 0.0194\n",
      "Training Accuracy: 0.9787, Testing Accuracy: 0.9748\n",
      "\n"
     ]
    },
    {
     "name": "stdout",
     "output_type": "stream",
     "text": [
      "Epoch 170, Loss 0.0188\n",
      "Training Accuracy: 0.9795, Testing Accuracy: 0.9753\n",
      "\n"
     ]
    },
    {
     "name": "stdout",
     "output_type": "stream",
     "text": [
      "Epoch 180, Loss 0.0184\n",
      "Training Accuracy: 0.9801, Testing Accuracy: 0.9753\n",
      "\n"
     ]
    },
    {
     "name": "stdout",
     "output_type": "stream",
     "text": [
      "Epoch 190, Loss 0.0179\n",
      "Training Accuracy: 0.9808, Testing Accuracy: 0.9753\n",
      "\n"
     ]
    },
    {
     "name": "stdout",
     "output_type": "stream",
     "text": [
      "Epoch 200, Loss 0.0175\n",
      "Training Accuracy: 0.9814, Testing Accuracy: 0.9758\n",
      "\n"
     ]
    },
    {
     "name": "stdout",
     "output_type": "stream",
     "text": [
      "Epoch 210, Loss 0.0171\n",
      "Training Accuracy: 0.9820, Testing Accuracy: 0.9763\n",
      "\n"
     ]
    },
    {
     "name": "stdout",
     "output_type": "stream",
     "text": [
      "Epoch 220, Loss 0.0166\n",
      "Training Accuracy: 0.9824, Testing Accuracy: 0.9763\n",
      "\n"
     ]
    },
    {
     "name": "stdout",
     "output_type": "stream",
     "text": [
      "Epoch 230, Loss 0.0163\n",
      "Training Accuracy: 0.9828, Testing Accuracy: 0.9763\n",
      "\n"
     ]
    },
    {
     "name": "stdout",
     "output_type": "stream",
     "text": [
      "Epoch 240, Loss 0.0159\n",
      "Training Accuracy: 0.9834, Testing Accuracy: 0.9768\n",
      "\n"
     ]
    },
    {
     "data": {
      "text/plain": [
       "0.007559808199802657"
      ]
     },
     "execution_count": 22,
     "metadata": {},
     "output_type": "execute_result"
    }
   ],
   "source": [
    "nn_learner.train_loop(dl)"
   ]
  },
  {
   "cell_type": "code",
   "execution_count": 23,
   "id": "e0163366",
   "metadata": {
    "execution": {
     "iopub.execute_input": "2022-06-09T10:14:13.672452Z",
     "iopub.status.busy": "2022-06-09T10:14:13.671719Z",
     "iopub.status.idle": "2022-06-09T10:14:31.970810Z",
     "shell.execute_reply": "2022-06-09T10:14:31.971715Z"
    },
    "papermill": {
     "duration": 18.354976,
     "end_time": "2022-06-09T10:14:31.971870",
     "exception": false,
     "start_time": "2022-06-09T10:14:13.616894",
     "status": "completed"
    },
    "tags": []
   },
   "outputs": [
    {
     "name": "stdout",
     "output_type": "stream",
     "text": [
      "Epoch 0, Loss 0.2171\n",
      "Training Accuracy: 0.7769, Testing Accuracy: 0.7732\n",
      "\n"
     ]
    },
    {
     "name": "stdout",
     "output_type": "stream",
     "text": [
      "Epoch 10, Loss 0.1011\n",
      "Training Accuracy: 0.9093, Testing Accuracy: 0.9148\n",
      "\n"
     ]
    },
    {
     "name": "stdout",
     "output_type": "stream",
     "text": [
      "Epoch 20, Loss 0.0783\n",
      "Training Accuracy: 0.9277, Testing Accuracy: 0.9375\n",
      "\n"
     ]
    },
    {
     "name": "stdout",
     "output_type": "stream",
     "text": [
      "Epoch 30, Loss 0.0675\n",
      "Training Accuracy: 0.9373, Testing Accuracy: 0.9466\n",
      "\n"
     ]
    },
    {
     "name": "stdout",
     "output_type": "stream",
     "text": [
      "Epoch 40, Loss 0.061\n",
      "Training Accuracy: 0.9425, Testing Accuracy: 0.9501\n",
      "\n"
     ]
    },
    {
     "name": "stdout",
     "output_type": "stream",
     "text": [
      "Epoch 50, Loss 0.0566\n",
      "Training Accuracy: 0.9475, Testing Accuracy: 0.9536\n",
      "\n"
     ]
    },
    {
     "name": "stdout",
     "output_type": "stream",
     "text": [
      "Epoch 60, Loss 0.0533\n",
      "Training Accuracy: 0.9493, Testing Accuracy: 0.9556\n",
      "\n"
     ]
    },
    {
     "name": "stdout",
     "output_type": "stream",
     "text": [
      "Epoch 70, Loss 0.0508\n",
      "Training Accuracy: 0.9515, Testing Accuracy: 0.9561\n",
      "\n"
     ]
    },
    {
     "name": "stdout",
     "output_type": "stream",
     "text": [
      "Epoch 80, Loss 0.0487\n",
      "Training Accuracy: 0.9523, Testing Accuracy: 0.9587\n",
      "\n"
     ]
    },
    {
     "name": "stdout",
     "output_type": "stream",
     "text": [
      "Epoch 90, Loss 0.0471\n",
      "Training Accuracy: 0.9539, Testing Accuracy: 0.9607\n",
      "\n"
     ]
    },
    {
     "name": "stdout",
     "output_type": "stream",
     "text": [
      "Epoch 100, Loss 0.0457\n",
      "Training Accuracy: 0.9549, Testing Accuracy: 0.9612\n",
      "\n"
     ]
    },
    {
     "name": "stdout",
     "output_type": "stream",
     "text": [
      "Epoch 110, Loss 0.0445\n",
      "Training Accuracy: 0.9559, Testing Accuracy: 0.9617\n",
      "\n"
     ]
    },
    {
     "name": "stdout",
     "output_type": "stream",
     "text": [
      "Epoch 120, Loss 0.0434\n",
      "Training Accuracy: 0.9564, Testing Accuracy: 0.9652\n",
      "\n"
     ]
    },
    {
     "name": "stdout",
     "output_type": "stream",
     "text": [
      "Epoch 130, Loss 0.0425\n",
      "Training Accuracy: 0.9571, Testing Accuracy: 0.9657\n",
      "\n"
     ]
    },
    {
     "name": "stdout",
     "output_type": "stream",
     "text": [
      "Epoch 140, Loss 0.0417\n",
      "Training Accuracy: 0.9576, Testing Accuracy: 0.9662\n",
      "\n"
     ]
    },
    {
     "name": "stdout",
     "output_type": "stream",
     "text": [
      "Epoch 150, Loss 0.0409\n",
      "Training Accuracy: 0.9582, Testing Accuracy: 0.9662\n",
      "\n"
     ]
    },
    {
     "name": "stdout",
     "output_type": "stream",
     "text": [
      "Epoch 160, Loss 0.0403\n",
      "Training Accuracy: 0.9585, Testing Accuracy: 0.9662\n",
      "\n"
     ]
    },
    {
     "name": "stdout",
     "output_type": "stream",
     "text": [
      "Epoch 170, Loss 0.0397\n",
      "Training Accuracy: 0.9589, Testing Accuracy: 0.9657\n",
      "\n"
     ]
    },
    {
     "name": "stdout",
     "output_type": "stream",
     "text": [
      "Epoch 180, Loss 0.0391\n",
      "Training Accuracy: 0.9596, Testing Accuracy: 0.9657\n",
      "\n"
     ]
    },
    {
     "name": "stdout",
     "output_type": "stream",
     "text": [
      "Epoch 190, Loss 0.0386\n",
      "Training Accuracy: 0.9603, Testing Accuracy: 0.9657\n",
      "\n"
     ]
    },
    {
     "name": "stdout",
     "output_type": "stream",
     "text": [
      "Epoch 200, Loss 0.0381\n",
      "Training Accuracy: 0.9609, Testing Accuracy: 0.9657\n",
      "\n"
     ]
    },
    {
     "name": "stdout",
     "output_type": "stream",
     "text": [
      "Epoch 210, Loss 0.0377\n",
      "Training Accuracy: 0.9612, Testing Accuracy: 0.9662\n",
      "\n"
     ]
    },
    {
     "name": "stdout",
     "output_type": "stream",
     "text": [
      "Epoch 220, Loss 0.0373\n",
      "Training Accuracy: 0.9615, Testing Accuracy: 0.9667\n",
      "\n"
     ]
    },
    {
     "name": "stdout",
     "output_type": "stream",
     "text": [
      "Epoch 230, Loss 0.0369\n",
      "Training Accuracy: 0.9615, Testing Accuracy: 0.9667\n",
      "\n"
     ]
    },
    {
     "name": "stdout",
     "output_type": "stream",
     "text": [
      "Epoch 240, Loss 0.0366\n",
      "Training Accuracy: 0.9617, Testing Accuracy: 0.9667\n",
      "\n"
     ]
    },
    {
     "data": {
      "text/plain": [
       "0.067312540807047"
      ]
     },
     "execution_count": 23,
     "metadata": {},
     "output_type": "execute_result"
    }
   ],
   "source": [
    "lr_learner.train_loop(dl)"
   ]
  },
  {
   "cell_type": "code",
   "execution_count": 24,
   "id": "ca410940",
   "metadata": {
    "execution": {
     "iopub.execute_input": "2022-06-09T10:14:32.085499Z",
     "iopub.status.busy": "2022-06-09T10:14:32.084735Z",
     "iopub.status.idle": "2022-06-09T10:14:32.369322Z",
     "shell.execute_reply": "2022-06-09T10:14:32.369846Z"
    },
    "papermill": {
     "duration": 0.342808,
     "end_time": "2022-06-09T10:14:32.370033",
     "exception": false,
     "start_time": "2022-06-09T10:14:32.027225",
     "status": "completed"
    },
    "tags": []
   },
   "outputs": [
    {
     "data": {
      "text/plain": [
       "<matplotlib.legend.Legend at 0x7f37d207f9b0>"
      ]
     },
     "execution_count": 24,
     "metadata": {},
     "output_type": "execute_result"
    },
    {
     "data": {
      "image/png": "[encoded data removed]",
      "text/plain": [
       "<Figure size 1080x720 with 1 Axes>"
      ]
     },
     "metadata": {
      "needs_background": "light"
     },
     "output_type": "display_data"
    }
   ],
   "source": [
    "#comparing the results of NN and LR\n",
    "plt.figure(figsize=(15,10))\n",
    "\n",
    "# Neural Network plots\n",
    "plt.plot(acc_nn.accuracies, 'r-', label = \"Training Accuracies - NN\")\n",
    "plt.plot(acc_nn.test_accuracies, 'g-', label = \"Testing Accuracies - NN\")\n",
    "\n",
    "# Logistic Regression plots\n",
    "plt.plot(acc_lr.accuracies, 'k-', label = \"Training Accuracies - LR\")\n",
    "plt.plot(acc_lr.test_accuracies, 'b-', label = \"Testing Accuracies - LR\")\n",
    "plt.legend()"
   ]
  },
  {
   "cell_type": "markdown",
   "id": "80dfb35c",
   "metadata": {
    "papermill": {
     "duration": 0.053722,
     "end_time": "2022-06-09T10:14:32.475587",
     "exception": false,
     "start_time": "2022-06-09T10:14:32.421865",
     "status": "completed"
    },
    "tags": []
   },
   "source": [
    "#### Plotting the outputs of this layer of the NN.\n"
   ]
  },
  {
   "cell_type": "code",
   "execution_count": 25,
   "id": "45eb2ff5",
   "metadata": {
    "execution": {
     "iopub.execute_input": "2022-06-09T10:14:32.586942Z",
     "iopub.status.busy": "2022-06-09T10:14:32.584709Z",
     "iopub.status.idle": "2022-06-09T10:14:32.612720Z",
     "shell.execute_reply": "2022-06-09T10:14:32.612078Z"
    },
    "papermill": {
     "duration": 0.084139,
     "end_time": "2022-06-09T10:14:32.612862",
     "exception": false,
     "start_time": "2022-06-09T10:14:32.528723",
     "status": "completed"
    },
    "tags": []
   },
   "outputs": [],
   "source": [
    "new_model = Model(layers[:-2])\n",
    "testing_plot = new_model(testing_data_x)"
   ]
  },
  {
   "cell_type": "code",
   "execution_count": 26,
   "id": "4c0a5485",
   "metadata": {
    "execution": {
     "iopub.execute_input": "2022-06-09T10:14:32.726670Z",
     "iopub.status.busy": "2022-06-09T10:14:32.725915Z",
     "iopub.status.idle": "2022-06-09T10:14:32.959579Z",
     "shell.execute_reply": "2022-06-09T10:14:32.958862Z"
    },
    "papermill": {
     "duration": 0.293465,
     "end_time": "2022-06-09T10:14:32.959741",
     "exception": false,
     "start_time": "2022-06-09T10:14:32.666276",
     "status": "completed"
    },
    "tags": []
   },
   "outputs": [
    {
     "data": {
      "text/plain": [
       "Text(0.5, 1.0, 'Outputs')"
      ]
     },
     "execution_count": 26,
     "metadata": {},
     "output_type": "execute_result"
    },
    {
     "data": {
      "image/png": "[encoded data removed]",
      "text/plain": [
       "<Figure size 576x504 with 1 Axes>"
      ]
     },
     "metadata": {
      "needs_background": "light"
     },
     "output_type": "display_data"
    }
   ],
   "source": [
    "# Plotting the scatter plot of points and color coding by class\n",
    "plt.figure(figsize=(8,7))\n",
    "plt.scatter(testing_plot[:,0], testing_plot[:,1], alpha = 0.1, c = y_test.ravel());\n",
    "plt.title('Outputs')"
   ]
  },
  {
   "cell_type": "markdown",
   "id": "a74fcf8f",
   "metadata": {
    "papermill": {
     "duration": 0.056522,
     "end_time": "2022-06-09T10:14:33.071618",
     "exception": false,
     "start_time": "2022-06-09T10:14:33.015096",
     "status": "completed"
    },
    "tags": []
   },
   "source": [
    "Probability contours"
   ]
  },
  {
   "cell_type": "code",
   "execution_count": 27,
   "id": "d0afc8e3",
   "metadata": {
    "execution": {
     "iopub.execute_input": "2022-06-09T10:14:33.190106Z",
     "iopub.status.busy": "2022-06-09T10:14:33.189331Z",
     "iopub.status.idle": "2022-06-09T10:14:33.201883Z",
     "shell.execute_reply": "2022-06-09T10:14:33.201221Z"
    },
    "papermill": {
     "duration": 0.075263,
     "end_time": "2022-06-09T10:14:33.202051",
     "exception": false,
     "start_time": "2022-06-09T10:14:33.126788",
     "status": "completed"
    },
    "tags": []
   },
   "outputs": [],
   "source": [
    "model_prob = Model(layers[-2:]) "
   ]
  },
  {
   "cell_type": "code",
   "execution_count": 28,
   "id": "9b96e238",
   "metadata": {
    "execution": {
     "iopub.execute_input": "2022-06-09T10:14:33.349611Z",
     "iopub.status.busy": "2022-06-09T10:14:33.348747Z",
     "iopub.status.idle": "2022-06-09T10:14:33.365871Z",
     "shell.execute_reply": "2022-06-09T10:14:33.367201Z"
    },
    "papermill": {
     "duration": 0.08167,
     "end_time": "2022-06-09T10:14:33.367385",
     "exception": false,
     "start_time": "2022-06-09T10:14:33.285715",
     "status": "completed"
    },
    "tags": []
   },
   "outputs": [],
   "source": [
    "#creating the x and y ranges according to the above generated plot.\n",
    "x_range = np.linspace(-4, 1, 100) \n",
    "y_range = np.linspace(-6, 6, 100) \n",
    "x_grid, y_grid = np.meshgrid(x_range, y_range) # x_grid and y_grig are of size 100 X 100\n",
    "\n",
    "# converting x_grid and y_grid to continuous arrays\n",
    "x_gridflat = np.ravel(x_grid)\n",
    "y_gridflat = np.ravel(y_grid)\n",
    "\n",
    "# The last layer of the current model takes two columns as input. Hence transpose of np.vstack() is required.\n",
    "X = np.vstack((x_gridflat, y_gridflat)).T\n",
    "\n",
    "prob_contour = model_prob(X).reshape(100,100) "
   ]
  },
  {
   "cell_type": "code",
   "execution_count": 29,
   "id": "da72499a",
   "metadata": {
    "execution": {
     "iopub.execute_input": "2022-06-09T10:14:33.488884Z",
     "iopub.status.busy": "2022-06-09T10:14:33.488082Z",
     "iopub.status.idle": "2022-06-09T10:14:33.785727Z",
     "shell.execute_reply": "2022-06-09T10:14:33.786345Z"
    },
    "papermill": {
     "duration": 0.363558,
     "end_time": "2022-06-09T10:14:33.786504",
     "exception": false,
     "start_time": "2022-06-09T10:14:33.422946",
     "status": "completed"
    },
    "tags": []
   },
   "outputs": [
    {
     "data": {
      "image/png": "[encoded data removed]",
      "text/plain": [
       "<Figure size 720x648 with 1 Axes>"
      ]
     },
     "metadata": {
      "needs_background": "light"
     },
     "output_type": "display_data"
    }
   ],
   "source": [
    "plt.figure(figsize=(10,9))\n",
    "plt.scatter(testing_plot[:,0], testing_plot[:,1], alpha = 0.1, c = y_test.ravel())\n",
    "contours = plt.contour(x_grid,y_grid,prob_contour)\n",
    "plt.title('Probability Contours')\n",
    "plt.clabel(contours, inline = True );"
   ]
  },
  {
   "cell_type": "code",
   "execution_count": null,
   "id": "e81b4ac7",
   "metadata": {
    "papermill": {
     "duration": 0.058187,
     "end_time": "2022-06-09T10:14:33.903754",
     "exception": false,
     "start_time": "2022-06-09T10:14:33.845567",
     "status": "completed"
    },
    "tags": []
   },
   "outputs": [],
   "source": []
  }
 ],
 "metadata": {
  "kernelspec": {
   "display_name": "Python 3",
   "language": "python",
   "name": "python3"
  },
  "language_info": {
   "codemirror_mode": {
    "name": "ipython",
    "version": 3
   },
   "file_extension": ".py",
   "mimetype": "text/x-python",
   "name": "python",
   "nbconvert_exporter": "python",
   "pygments_lexer": "ipython3",
   "version": "3.6.15"
  },
  "papermill": {
   "default_parameters": {},
   "duration": 154.830036,
   "end_time": "2022-06-09T10:14:34.383429",
   "environment_variables": {},
   "exception": null,
   "input_path": "2020-08-11-part2.ipynb",
   "output_path": "2020-08-11-part2.ipynb",
   "parameters": {},
   "start_time": "2022-06-09T10:11:59.553393",
   "version": "2.3.3"
  }
 },
 "nbformat": 4,
 "nbformat_minor": 5
}