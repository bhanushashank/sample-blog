{
 "cells": [
  {
   "cell_type": "markdown",
   "id": "98380cd3",
   "metadata": {
    "papermill": {
     "duration": 0.030678,
     "end_time": "2022-05-26T10:10:15.314825",
     "exception": false,
     "start_time": "2022-05-26T10:10:15.284147",
     "status": "completed"
    },
    "tags": []
   },
   "source": [
    "# Distinguish Your Own Digits (DYOD)"
   ]
  },
  {
   "cell_type": "markdown",
   "id": "ef31240d",
   "metadata": {
    "papermill": {
     "duration": 0.023756,
     "end_time": "2022-05-26T10:10:15.363083",
     "exception": false,
     "start_time": "2022-05-26T10:10:15.339327",
     "status": "completed"
    },
    "tags": []
   },
   "source": [
    "You are going to write a classifier that distinguishes between the number 3 and number 8."
   ]
  },
  {
   "cell_type": "code",
   "execution_count": 1,
   "id": "b15c8646",
   "metadata": {
    "execution": {
     "iopub.execute_input": "2022-05-26T10:10:15.421597Z",
     "iopub.status.busy": "2022-05-26T10:10:15.420993Z",
     "iopub.status.idle": "2022-05-26T10:10:15.431899Z",
     "shell.execute_reply": "2022-05-26T10:10:15.431402Z"
    },
    "papermill": {
     "duration": 0.044919,
     "end_time": "2022-05-26T10:10:15.432021",
     "exception": false,
     "start_time": "2022-05-26T10:10:15.387102",
     "status": "completed"
    },
    "tags": []
   },
   "outputs": [],
   "source": [
    "%load_ext autoreload\n",
    "%autoreload 2"
   ]
  },
  {
   "cell_type": "code",
   "execution_count": 2,
   "id": "22ef38dc",
   "metadata": {
    "execution": {
     "iopub.execute_input": "2022-05-26T10:10:15.483874Z",
     "iopub.status.busy": "2022-05-26T10:10:15.483288Z",
     "iopub.status.idle": "2022-05-26T10:10:16.031785Z",
     "shell.execute_reply": "2022-05-26T10:10:16.032333Z"
    },
    "papermill": {
     "duration": 0.57658,
     "end_time": "2022-05-26T10:10:16.032506",
     "exception": false,
     "start_time": "2022-05-26T10:10:15.455926",
     "status": "completed"
    },
    "tags": []
   },
   "outputs": [],
   "source": [
    "%matplotlib inline\n",
    "import numpy as np\n",
    "import matplotlib.pyplot as plt\n",
    "import pandas as pd"
   ]
  },
  {
   "cell_type": "markdown",
   "id": "ba036198",
   "metadata": {
    "papermill": {
     "duration": 0.023776,
     "end_time": "2022-05-26T10:10:16.080934",
     "exception": false,
     "start_time": "2022-05-26T10:10:16.057158",
     "status": "completed"
    },
    "tags": []
   },
   "source": [
    "From the command line run `pip install mnist`. This is a library that will help you bring down the mnist dataset. If you run this from a notebook, you need to put  `!pip install mnist` in a cell by itself."
   ]
  },
  {
   "cell_type": "code",
   "execution_count": 3,
   "id": "bb6ad8a1",
   "metadata": {
    "execution": {
     "iopub.execute_input": "2022-05-26T10:10:16.133085Z",
     "iopub.status.busy": "2022-05-26T10:10:16.132507Z",
     "iopub.status.idle": "2022-05-26T10:10:17.853544Z",
     "shell.execute_reply": "2022-05-26T10:10:17.852909Z"
    },
    "papermill": {
     "duration": 1.748971,
     "end_time": "2022-05-26T10:10:17.853686",
     "exception": false,
     "start_time": "2022-05-26T10:10:16.104715",
     "status": "completed"
    },
    "tags": []
   },
   "outputs": [
    {
     "name": "stdout",
     "output_type": "stream",
     "text": [
      "Collecting mnist\r\n"
     ]
    },
    {
     "name": "stdout",
     "output_type": "stream",
     "text": [
      "  Downloading mnist-0.2.2-py2.py3-none-any.whl (3.5 kB)\r\n",
      "Requirement already satisfied: numpy in /opt/hostedtoolcache/Python/3.6.15/x64/lib/python3.6/site-packages (from mnist) (1.19.5)\r\n"
     ]
    },
    {
     "name": "stdout",
     "output_type": "stream",
     "text": [
      "Installing collected packages: mnist\r\n"
     ]
    },
    {
     "name": "stdout",
     "output_type": "stream",
     "text": [
      "Successfully installed mnist-0.2.2\r\n"
     ]
    }
   ],
   "source": [
    "!pip install mnist"
   ]
  },
  {
   "cell_type": "markdown",
   "id": "69df9c9a",
   "metadata": {
    "papermill": {
     "duration": 0.02657,
     "end_time": "2022-05-26T10:10:17.905966",
     "exception": false,
     "start_time": "2022-05-26T10:10:17.879396",
     "status": "completed"
    },
    "tags": []
   },
   "source": [
    "## Preparing the Data"
   ]
  },
  {
   "cell_type": "code",
   "execution_count": 4,
   "id": "7f69d806",
   "metadata": {
    "execution": {
     "iopub.execute_input": "2022-05-26T10:10:17.976562Z",
     "iopub.status.busy": "2022-05-26T10:10:17.975408Z",
     "iopub.status.idle": "2022-05-26T10:10:17.980025Z",
     "shell.execute_reply": "2022-05-26T10:10:17.979547Z"
    },
    "papermill": {
     "duration": 0.049379,
     "end_time": "2022-05-26T10:10:17.980136",
     "exception": false,
     "start_time": "2022-05-26T10:10:17.930757",
     "status": "completed"
    },
    "tags": []
   },
   "outputs": [],
   "source": [
    "import mnist"
   ]
  },
  {
   "cell_type": "code",
   "execution_count": 5,
   "id": "a411e44f",
   "metadata": {
    "execution": {
     "iopub.execute_input": "2022-05-26T10:10:18.034184Z",
     "iopub.status.busy": "2022-05-26T10:10:18.033599Z",
     "iopub.status.idle": "2022-05-26T10:10:18.580889Z",
     "shell.execute_reply": "2022-05-26T10:10:18.580362Z"
    },
    "papermill": {
     "duration": 0.575987,
     "end_time": "2022-05-26T10:10:18.581021",
     "exception": false,
     "start_time": "2022-05-26T10:10:18.005034",
     "status": "completed"
    },
    "tags": []
   },
   "outputs": [],
   "source": [
    "train_images = mnist.train_images()\n",
    "train_labels = mnist.train_labels()"
   ]
  },
  {
   "cell_type": "code",
   "execution_count": 6,
   "id": "dceab3a5",
   "metadata": {
    "execution": {
     "iopub.execute_input": "2022-05-26T10:10:18.639910Z",
     "iopub.status.busy": "2022-05-26T10:10:18.639320Z",
     "iopub.status.idle": "2022-05-26T10:10:18.652074Z",
     "shell.execute_reply": "2022-05-26T10:10:18.651568Z"
    },
    "papermill": {
     "duration": 0.046008,
     "end_time": "2022-05-26T10:10:18.652187",
     "exception": false,
     "start_time": "2022-05-26T10:10:18.606179",
     "status": "completed"
    },
    "tags": []
   },
   "outputs": [
    {
     "data": {
      "text/plain": [
       "((60000, 28, 28), (60000,))"
      ]
     },
     "execution_count": 6,
     "metadata": {},
     "output_type": "execute_result"
    }
   ],
   "source": [
    "train_images.shape, train_labels.shape"
   ]
  },
  {
   "cell_type": "code",
   "execution_count": 7,
   "id": "f50dc2bb",
   "metadata": {
    "execution": {
     "iopub.execute_input": "2022-05-26T10:10:18.706122Z",
     "iopub.status.busy": "2022-05-26T10:10:18.705544Z",
     "iopub.status.idle": "2022-05-26T10:10:18.846138Z",
     "shell.execute_reply": "2022-05-26T10:10:18.845492Z"
    },
    "papermill": {
     "duration": 0.16908,
     "end_time": "2022-05-26T10:10:18.846278",
     "exception": false,
     "start_time": "2022-05-26T10:10:18.677198",
     "status": "completed"
    },
    "tags": []
   },
   "outputs": [],
   "source": [
    "test_images = mnist.test_images()\n",
    "test_labels = mnist.test_labels()"
   ]
  },
  {
   "cell_type": "code",
   "execution_count": 8,
   "id": "fc38cf1b",
   "metadata": {
    "execution": {
     "iopub.execute_input": "2022-05-26T10:10:18.901986Z",
     "iopub.status.busy": "2022-05-26T10:10:18.901405Z",
     "iopub.status.idle": "2022-05-26T10:10:18.916338Z",
     "shell.execute_reply": "2022-05-26T10:10:18.915856Z"
    },
    "papermill": {
     "duration": 0.043675,
     "end_time": "2022-05-26T10:10:18.916453",
     "exception": false,
     "start_time": "2022-05-26T10:10:18.872778",
     "status": "completed"
    },
    "tags": []
   },
   "outputs": [
    {
     "data": {
      "text/plain": [
       "((10000, 28, 28), (10000,))"
      ]
     },
     "execution_count": 8,
     "metadata": {},
     "output_type": "execute_result"
    }
   ],
   "source": [
    "test_images.shape, test_labels.shape"
   ]
  },
  {
   "cell_type": "code",
   "execution_count": 9,
   "id": "f9ed8fe0",
   "metadata": {
    "execution": {
     "iopub.execute_input": "2022-05-26T10:10:18.973673Z",
     "iopub.status.busy": "2022-05-26T10:10:18.973072Z",
     "iopub.status.idle": "2022-05-26T10:10:19.111193Z",
     "shell.execute_reply": "2022-05-26T10:10:19.111691Z"
    },
    "papermill": {
     "duration": 0.169786,
     "end_time": "2022-05-26T10:10:19.111844",
     "exception": false,
     "start_time": "2022-05-26T10:10:18.942058",
     "status": "completed"
    },
    "tags": []
   },
   "outputs": [
    {
     "name": "stdout",
     "output_type": "stream",
     "text": [
      "2\n"
     ]
    },
    {
     "data": {
      "text/plain": [
       "<matplotlib.image.AxesImage at 0x7fb280063e80>"
      ]
     },
     "execution_count": 9,
     "metadata": {},
     "output_type": "execute_result"
    },
    {
     "data": {
      "image/png": "[encoded data removed]",
      "text/plain": [
       "<Figure size 432x288 with 1 Axes>"
      ]
     },
     "metadata": {
      "needs_background": "light"
     },
     "output_type": "display_data"
    }
   ],
   "source": [
    "image_index = 7776 # You may select anything up to 60,000\n",
    "print(train_labels[image_index]) \n",
    "plt.imshow(train_images[image_index], cmap='Greys')"
   ]
  },
  {
   "cell_type": "markdown",
   "id": "a8d2388d",
   "metadata": {
    "papermill": {
     "duration": 0.02653,
     "end_time": "2022-05-26T10:10:19.165021",
     "exception": false,
     "start_time": "2022-05-26T10:10:19.138491",
     "status": "completed"
    },
    "tags": []
   },
   "source": [
    "## Filter data to get 3 and 8 out"
   ]
  },
  {
   "cell_type": "code",
   "execution_count": 10,
   "id": "776f7fc7",
   "metadata": {
    "execution": {
     "iopub.execute_input": "2022-05-26T10:10:19.231729Z",
     "iopub.status.busy": "2022-05-26T10:10:19.227893Z",
     "iopub.status.idle": "2022-05-26T10:10:19.241545Z",
     "shell.execute_reply": "2022-05-26T10:10:19.241066Z"
    },
    "papermill": {
     "duration": 0.050256,
     "end_time": "2022-05-26T10:10:19.241657",
     "exception": false,
     "start_time": "2022-05-26T10:10:19.191401",
     "status": "completed"
    },
    "tags": []
   },
   "outputs": [],
   "source": [
    "train_filter = np.where((train_labels == 3 ) | (train_labels == 8))\n",
    "test_filter = np.where((test_labels == 3) | (test_labels == 8))\n",
    "X_train, y_train = train_images[train_filter], train_labels[train_filter]\n",
    "X_test, y_test = test_images[test_filter], test_labels[test_filter]"
   ]
  },
  {
   "cell_type": "markdown",
   "id": "948f0b7e",
   "metadata": {
    "papermill": {
     "duration": 0.026246,
     "end_time": "2022-05-26T10:10:19.294371",
     "exception": false,
     "start_time": "2022-05-26T10:10:19.268125",
     "status": "completed"
    },
    "tags": []
   },
   "source": [
    "We normalize the pizel values in the 0 to 1 range"
   ]
  },
  {
   "cell_type": "code",
   "execution_count": 11,
   "id": "ee4c2166",
   "metadata": {
    "execution": {
     "iopub.execute_input": "2022-05-26T10:10:19.356349Z",
     "iopub.status.busy": "2022-05-26T10:10:19.355751Z",
     "iopub.status.idle": "2022-05-26T10:10:19.398188Z",
     "shell.execute_reply": "2022-05-26T10:10:19.397605Z"
    },
    "papermill": {
     "duration": 0.077527,
     "end_time": "2022-05-26T10:10:19.398328",
     "exception": false,
     "start_time": "2022-05-26T10:10:19.320801",
     "status": "completed"
    },
    "tags": []
   },
   "outputs": [],
   "source": [
    "X_train = X_train/255.\n",
    "X_test = X_test/255."
   ]
  },
  {
   "cell_type": "markdown",
   "id": "ddcf4fab",
   "metadata": {
    "papermill": {
     "duration": 0.026458,
     "end_time": "2022-05-26T10:10:19.452480",
     "exception": false,
     "start_time": "2022-05-26T10:10:19.426022",
     "status": "completed"
    },
    "tags": []
   },
   "source": [
    "And setup the labels as 1 (when the digit is 3) and 0 (when the digit is 8)"
   ]
  },
  {
   "cell_type": "code",
   "execution_count": 12,
   "id": "7dc908f2",
   "metadata": {
    "execution": {
     "iopub.execute_input": "2022-05-26T10:10:19.523194Z",
     "iopub.status.busy": "2022-05-26T10:10:19.520108Z",
     "iopub.status.idle": "2022-05-26T10:10:19.525925Z",
     "shell.execute_reply": "2022-05-26T10:10:19.525430Z"
    },
    "papermill": {
     "duration": 0.047178,
     "end_time": "2022-05-26T10:10:19.526040",
     "exception": false,
     "start_time": "2022-05-26T10:10:19.478862",
     "status": "completed"
    },
    "tags": []
   },
   "outputs": [],
   "source": [
    "y_train = 1*(y_train==3)\n",
    "y_test = 1*(y_test==3)"
   ]
  },
  {
   "cell_type": "code",
   "execution_count": 13,
   "id": "01e4e969",
   "metadata": {
    "execution": {
     "iopub.execute_input": "2022-05-26T10:10:19.593596Z",
     "iopub.status.busy": "2022-05-26T10:10:19.586980Z",
     "iopub.status.idle": "2022-05-26T10:10:19.598632Z",
     "shell.execute_reply": "2022-05-26T10:10:19.599093Z"
    },
    "papermill": {
     "duration": 0.046711,
     "end_time": "2022-05-26T10:10:19.599234",
     "exception": false,
     "start_time": "2022-05-26T10:10:19.552523",
     "status": "completed"
    },
    "tags": []
   },
   "outputs": [
    {
     "data": {
      "text/plain": [
       "((11982, 28, 28), (1984, 28, 28))"
      ]
     },
     "execution_count": 13,
     "metadata": {},
     "output_type": "execute_result"
    }
   ],
   "source": [
    "X_train.shape, X_test.shape"
   ]
  },
  {
   "cell_type": "markdown",
   "id": "5ccf3f85",
   "metadata": {
    "papermill": {
     "duration": 0.026926,
     "end_time": "2022-05-26T10:10:19.652724",
     "exception": false,
     "start_time": "2022-05-26T10:10:19.625798",
     "status": "completed"
    },
    "tags": []
   },
   "source": [
    "We reshape the data to flatten the image pixels into a set of features or co-variates:"
   ]
  },
  {
   "cell_type": "code",
   "execution_count": 14,
   "id": "5286a4a3",
   "metadata": {
    "execution": {
     "iopub.execute_input": "2022-05-26T10:10:19.714384Z",
     "iopub.status.busy": "2022-05-26T10:10:19.709664Z",
     "iopub.status.idle": "2022-05-26T10:10:19.726035Z",
     "shell.execute_reply": "2022-05-26T10:10:19.725554Z"
    },
    "papermill": {
     "duration": 0.046723,
     "end_time": "2022-05-26T10:10:19.726144",
     "exception": false,
     "start_time": "2022-05-26T10:10:19.679421",
     "status": "completed"
    },
    "tags": []
   },
   "outputs": [
    {
     "data": {
      "text/plain": [
       "((11982, 784), (1984, 784))"
      ]
     },
     "execution_count": 14,
     "metadata": {},
     "output_type": "execute_result"
    }
   ],
   "source": [
    "X_train = X_train.reshape(X_train.shape[0], -1)\n",
    "X_test = X_test.reshape(X_test.shape[0], -1)\n",
    "X_train.shape, X_test.shape"
   ]
  },
  {
   "cell_type": "code",
   "execution_count": 15,
   "id": "73c5f88a",
   "metadata": {
    "execution": {
     "iopub.execute_input": "2022-05-26T10:10:19.790278Z",
     "iopub.status.busy": "2022-05-26T10:10:19.789684Z",
     "iopub.status.idle": "2022-05-26T10:10:19.807110Z",
     "shell.execute_reply": "2022-05-26T10:10:19.806594Z"
    },
    "papermill": {
     "duration": 0.054217,
     "end_time": "2022-05-26T10:10:19.807231",
     "exception": false,
     "start_time": "2022-05-26T10:10:19.753014",
     "status": "completed"
    },
    "tags": []
   },
   "outputs": [],
   "source": [
    "#Impoting functions from 'Kudzu'\n",
    "from kudzu.model import Model\n",
    "from kudzu.train import Learner\n",
    "from kudzu.optim import GD\n",
    "from kudzu.data import Data, Sampler,Dataloader\n",
    "\n",
    "from kudzu.callbacks import AccCallback\n",
    "from kudzu.callbacks import ClfCallback\n",
    "\n",
    "from kudzu.loss import MSE\n",
    "\n",
    "from kudzu.layer import Sigmoid,Relu\n",
    "from kudzu.layer import Affine"
   ]
  },
  {
   "cell_type": "markdown",
   "id": "bc01172a",
   "metadata": {
    "papermill": {
     "duration": 0.026753,
     "end_time": "2022-05-26T10:10:19.860954",
     "exception": false,
     "start_time": "2022-05-26T10:10:19.834201",
     "status": "completed"
    },
    "tags": []
   },
   "source": [
    "### Let us create a `Config` class, to store important parameters. \n",
    "This class essentially plays the role of a dictionary."
   ]
  },
  {
   "cell_type": "code",
   "execution_count": 16,
   "id": "978281aa",
   "metadata": {
    "execution": {
     "iopub.execute_input": "2022-05-26T10:10:19.918882Z",
     "iopub.status.busy": "2022-05-26T10:10:19.918280Z",
     "iopub.status.idle": "2022-05-26T10:10:19.931835Z",
     "shell.execute_reply": "2022-05-26T10:10:19.932288Z"
    },
    "papermill": {
     "duration": 0.044702,
     "end_time": "2022-05-26T10:10:19.932419",
     "exception": false,
     "start_time": "2022-05-26T10:10:19.887717",
     "status": "completed"
    },
    "tags": []
   },
   "outputs": [],
   "source": [
    "class Config:\n",
    "    pass\n",
    "config = Config()\n",
    "config.lr = 0.001\n",
    "config.num_epochs = 250\n",
    "config.bs = 50"
   ]
  },
  {
   "cell_type": "markdown",
   "id": "1385fa59",
   "metadata": {
    "papermill": {
     "duration": 0.027113,
     "end_time": "2022-05-26T10:10:19.986571",
     "exception": false,
     "start_time": "2022-05-26T10:10:19.959458",
     "status": "completed"
    },
    "tags": []
   },
   "source": [
    "### Running Models with the Training data\n",
    "Details about the network layers:\n",
    "- A first affine layer has 784 inputs and does 100 affine transforms. These are followed by a Relu\n",
    "- A second affine layer has 100 inputs from the 100 activations of the past layer, and does 100 affine transforms. These are followed by a Relu\n",
    "- A third affine layer has 100 activations and does 2 affine transformations to create an embedding for visualization. There is no non-linearity here.\n",
    "- A final \"logistic regression\" which has an affine transform from 2 inputs to 1 output, which is squeezed through a sigmoid.\n"
   ]
  },
  {
   "cell_type": "code",
   "execution_count": 17,
   "id": "2b9c66db",
   "metadata": {
    "execution": {
     "iopub.execute_input": "2022-05-26T10:10:20.045072Z",
     "iopub.status.busy": "2022-05-26T10:10:20.044485Z",
     "iopub.status.idle": "2022-05-26T10:10:20.057458Z",
     "shell.execute_reply": "2022-05-26T10:10:20.056978Z"
    },
    "papermill": {
     "duration": 0.044046,
     "end_time": "2022-05-26T10:10:20.057571",
     "exception": false,
     "start_time": "2022-05-26T10:10:20.013525",
     "status": "completed"
    },
    "tags": []
   },
   "outputs": [],
   "source": [
    "data = Data(X_train, y_train.reshape(-1,1))\n",
    "sampler = Sampler(data, config.bs, shuffle=True)\n",
    "\n",
    "dl = Dataloader(data, sampler)\n",
    "\n",
    "opt = GD(config.lr)\n",
    "loss = MSE()"
   ]
  },
  {
   "cell_type": "code",
   "execution_count": 18,
   "id": "b275e4c2",
   "metadata": {
    "execution": {
     "iopub.execute_input": "2022-05-26T10:10:20.131354Z",
     "iopub.status.busy": "2022-05-26T10:10:20.130673Z",
     "iopub.status.idle": "2022-05-26T10:10:20.133425Z",
     "shell.execute_reply": "2022-05-26T10:10:20.132912Z"
    },
    "papermill": {
     "duration": 0.048883,
     "end_time": "2022-05-26T10:10:20.133538",
     "exception": false,
     "start_time": "2022-05-26T10:10:20.084655",
     "status": "completed"
    },
    "tags": []
   },
   "outputs": [],
   "source": [
    "training_data_x = X_train\n",
    "testing_data_x = X_test\n",
    "training_data_y = y_train.reshape(-1,1)\n",
    "testing_data_y = y_test.reshape(-1,1)"
   ]
  },
  {
   "cell_type": "code",
   "execution_count": 19,
   "id": "76951160",
   "metadata": {
    "execution": {
     "iopub.execute_input": "2022-05-26T10:10:20.203728Z",
     "iopub.status.busy": "2022-05-26T10:10:20.193882Z",
     "iopub.status.idle": "2022-05-26T10:10:20.210178Z",
     "shell.execute_reply": "2022-05-26T10:10:20.210602Z"
    },
    "papermill": {
     "duration": 0.050309,
     "end_time": "2022-05-26T10:10:20.210735",
     "exception": false,
     "start_time": "2022-05-26T10:10:20.160426",
     "status": "completed"
    },
    "tags": []
   },
   "outputs": [
    {
     "name": "stdout",
     "output_type": "stream",
     "text": [
      "xavier\n",
      "xavier\n",
      "xavier\n",
      "xavier\n",
      "xavier\n"
     ]
    }
   ],
   "source": [
    "layers = [Affine(\"first\", 784, 100), Relu(\"first\"), Affine(\"second\", 100, 100), Relu(\"second\"), Affine(\"third\", 100, 2), Affine(\"last\", 2, 1), Sigmoid(\"last\")]\n",
    "model_nn = Model(layers)\n",
    "model_lr = Model([Affine(\"logits\", 784, 1), Sigmoid(\"sigmoid\")])"
   ]
  },
  {
   "cell_type": "code",
   "execution_count": 20,
   "id": "6eede77a",
   "metadata": {
    "execution": {
     "iopub.execute_input": "2022-05-26T10:10:20.274564Z",
     "iopub.status.busy": "2022-05-26T10:10:20.268361Z",
     "iopub.status.idle": "2022-05-26T10:10:20.282588Z",
     "shell.execute_reply": "2022-05-26T10:10:20.283089Z"
    },
    "papermill": {
     "duration": 0.045393,
     "end_time": "2022-05-26T10:10:20.283227",
     "exception": false,
     "start_time": "2022-05-26T10:10:20.237834",
     "status": "completed"
    },
    "tags": []
   },
   "outputs": [],
   "source": [
    "nn_learner = Learner(loss, model_nn, opt, config.num_epochs)\n",
    "acc_nn = ClfCallback(nn_learner, config.bs, training_data_x , testing_data_x, training_data_y, testing_data_y)\n",
    "nn_learner.set_callbacks([acc_nn])"
   ]
  },
  {
   "cell_type": "code",
   "execution_count": 21,
   "id": "877b6cc7",
   "metadata": {
    "execution": {
     "iopub.execute_input": "2022-05-26T10:10:20.347540Z",
     "iopub.status.busy": "2022-05-26T10:10:20.340807Z",
     "iopub.status.idle": "2022-05-26T10:10:20.355693Z",
     "shell.execute_reply": "2022-05-26T10:10:20.355212Z"
    },
    "papermill": {
     "duration": 0.045463,
     "end_time": "2022-05-26T10:10:20.355807",
     "exception": false,
     "start_time": "2022-05-26T10:10:20.310344",
     "status": "completed"
    },
    "tags": []
   },
   "outputs": [],
   "source": [
    "lr_learner = Learner(loss, model_lr, opt, config.num_epochs)\n",
    "acc_lr = ClfCallback(lr_learner, config.bs, training_data_x , testing_data_x, training_data_y, testing_data_y)\n",
    "lr_learner.set_callbacks([acc_lr])"
   ]
  },
  {
   "cell_type": "code",
   "execution_count": 22,
   "id": "d9b133c3",
   "metadata": {
    "execution": {
     "iopub.execute_input": "2022-05-26T10:10:20.423927Z",
     "iopub.status.busy": "2022-05-26T10:10:20.419681Z",
     "iopub.status.idle": "2022-05-26T10:11:41.380732Z",
     "shell.execute_reply": "2022-05-26T10:11:41.381663Z"
    },
    "papermill": {
     "duration": 80.998602,
     "end_time": "2022-05-26T10:11:41.381827",
     "exception": false,
     "start_time": "2022-05-26T10:10:20.383225",
     "status": "completed"
    },
    "tags": []
   },
   "outputs": [
    {
     "name": "stdout",
     "output_type": "stream",
     "text": [
      "Epoch 0, Loss 0.2497\n",
      "Training Accuracy: 0.5675, Testing Accuracy: 0.5736\n",
      "\n"
     ]
    },
    {
     "name": "stdout",
     "output_type": "stream",
     "text": [
      "Epoch 10, Loss 0.1329\n",
      "Training Accuracy: 0.8976, Testing Accuracy: 0.9103\n",
      "\n"
     ]
    },
    {
     "name": "stdout",
     "output_type": "stream",
     "text": [
      "Epoch 20, Loss 0.0703\n",
      "Training Accuracy: 0.9308, Testing Accuracy: 0.9330\n",
      "\n"
     ]
    },
    {
     "name": "stdout",
     "output_type": "stream",
     "text": [
      "Epoch 30, Loss 0.0506\n",
      "Training Accuracy: 0.9463, Testing Accuracy: 0.9526\n",
      "\n"
     ]
    },
    {
     "name": "stdout",
     "output_type": "stream",
     "text": [
      "Epoch 40, Loss 0.0417\n",
      "Training Accuracy: 0.9543, Testing Accuracy: 0.9597\n",
      "\n"
     ]
    },
    {
     "name": "stdout",
     "output_type": "stream",
     "text": [
      "Epoch 50, Loss 0.0368\n",
      "Training Accuracy: 0.9587, Testing Accuracy: 0.9637\n",
      "\n"
     ]
    },
    {
     "name": "stdout",
     "output_type": "stream",
     "text": [
      "Epoch 60, Loss 0.0336\n",
      "Training Accuracy: 0.9615, Testing Accuracy: 0.9662\n",
      "\n"
     ]
    },
    {
     "name": "stdout",
     "output_type": "stream",
     "text": [
      "Epoch 70, Loss 0.0314\n",
      "Training Accuracy: 0.9643, Testing Accuracy: 0.9672\n",
      "\n"
     ]
    },
    {
     "name": "stdout",
     "output_type": "stream",
     "text": [
      "Epoch 80, Loss 0.0297\n",
      "Training Accuracy: 0.9652, Testing Accuracy: 0.9698\n",
      "\n"
     ]
    },
    {
     "name": "stdout",
     "output_type": "stream",
     "text": [
      "Epoch 90, Loss 0.0283\n",
      "Training Accuracy: 0.9667, Testing Accuracy: 0.9693\n",
      "\n"
     ]
    },
    {
     "name": "stdout",
     "output_type": "stream",
     "text": [
      "Epoch 100, Loss 0.0272\n",
      "Training Accuracy: 0.9684, Testing Accuracy: 0.9713\n",
      "\n"
     ]
    },
    {
     "name": "stdout",
     "output_type": "stream",
     "text": [
      "Epoch 110, Loss 0.0262\n",
      "Training Accuracy: 0.9692, Testing Accuracy: 0.9718\n",
      "\n"
     ]
    },
    {
     "name": "stdout",
     "output_type": "stream",
     "text": [
      "Epoch 120, Loss 0.0254\n",
      "Training Accuracy: 0.9695, Testing Accuracy: 0.9723\n",
      "\n"
     ]
    },
    {
     "name": "stdout",
     "output_type": "stream",
     "text": [
      "Epoch 130, Loss 0.0246\n",
      "Training Accuracy: 0.9709, Testing Accuracy: 0.9723\n",
      "\n"
     ]
    },
    {
     "name": "stdout",
     "output_type": "stream",
     "text": [
      "Epoch 140, Loss 0.0239\n",
      "Training Accuracy: 0.9720, Testing Accuracy: 0.9723\n",
      "\n"
     ]
    },
    {
     "name": "stdout",
     "output_type": "stream",
     "text": [
      "Epoch 150, Loss 0.0233\n",
      "Training Accuracy: 0.9723, Testing Accuracy: 0.9723\n",
      "\n"
     ]
    },
    {
     "name": "stdout",
     "output_type": "stream",
     "text": [
      "Epoch 160, Loss 0.0227\n",
      "Training Accuracy: 0.9730, Testing Accuracy: 0.9723\n",
      "\n"
     ]
    },
    {
     "name": "stdout",
     "output_type": "stream",
     "text": [
      "Epoch 170, Loss 0.0222\n",
      "Training Accuracy: 0.9742, Testing Accuracy: 0.9728\n",
      "\n"
     ]
    },
    {
     "name": "stdout",
     "output_type": "stream",
     "text": [
      "Epoch 180, Loss 0.0217\n",
      "Training Accuracy: 0.9747, Testing Accuracy: 0.9728\n",
      "\n"
     ]
    },
    {
     "name": "stdout",
     "output_type": "stream",
     "text": [
      "Epoch 190, Loss 0.0212\n",
      "Training Accuracy: 0.9755, Testing Accuracy: 0.9733\n",
      "\n"
     ]
    },
    {
     "name": "stdout",
     "output_type": "stream",
     "text": [
      "Epoch 200, Loss 0.0207\n",
      "Training Accuracy: 0.9758, Testing Accuracy: 0.9733\n",
      "\n"
     ]
    },
    {
     "name": "stdout",
     "output_type": "stream",
     "text": [
      "Epoch 210, Loss 0.0203\n",
      "Training Accuracy: 0.9762, Testing Accuracy: 0.9743\n",
      "\n"
     ]
    },
    {
     "name": "stdout",
     "output_type": "stream",
     "text": [
      "Epoch 220, Loss 0.0199\n",
      "Training Accuracy: 0.9770, Testing Accuracy: 0.9743\n",
      "\n"
     ]
    },
    {
     "name": "stdout",
     "output_type": "stream",
     "text": [
      "Epoch 230, Loss 0.0195\n",
      "Training Accuracy: 0.9771, Testing Accuracy: 0.9743\n",
      "\n"
     ]
    },
    {
     "name": "stdout",
     "output_type": "stream",
     "text": [
      "Epoch 240, Loss 0.0191\n",
      "Training Accuracy: 0.9776, Testing Accuracy: 0.9738\n",
      "\n"
     ]
    },
    {
     "data": {
      "text/plain": [
       "0.0031608789207324623"
      ]
     },
     "execution_count": 22,
     "metadata": {},
     "output_type": "execute_result"
    }
   ],
   "source": [
    "nn_learner.train_loop(dl)"
   ]
  },
  {
   "cell_type": "code",
   "execution_count": 23,
   "id": "e0163366",
   "metadata": {
    "execution": {
     "iopub.execute_input": "2022-05-26T10:11:41.466418Z",
     "iopub.status.busy": "2022-05-26T10:11:41.465757Z",
     "iopub.status.idle": "2022-05-26T10:11:56.160652Z",
     "shell.execute_reply": "2022-05-26T10:11:56.161566Z"
    },
    "papermill": {
     "duration": 14.744356,
     "end_time": "2022-05-26T10:11:56.161729",
     "exception": false,
     "start_time": "2022-05-26T10:11:41.417373",
     "status": "completed"
    },
    "tags": []
   },
   "outputs": [
    {
     "name": "stdout",
     "output_type": "stream",
     "text": [
      "Epoch 0, Loss 0.2135\n",
      "Training Accuracy: 0.8064, Testing Accuracy: 0.8155\n",
      "\n"
     ]
    },
    {
     "name": "stdout",
     "output_type": "stream",
     "text": [
      "Epoch 10, Loss 0.0965\n",
      "Training Accuracy: 0.9231, Testing Accuracy: 0.9375\n",
      "\n"
     ]
    },
    {
     "name": "stdout",
     "output_type": "stream",
     "text": [
      "Epoch 20, Loss 0.0756\n",
      "Training Accuracy: 0.9376, Testing Accuracy: 0.9466\n",
      "\n"
     ]
    },
    {
     "name": "stdout",
     "output_type": "stream",
     "text": [
      "Epoch 30, Loss 0.0657\n",
      "Training Accuracy: 0.9422, Testing Accuracy: 0.9541\n",
      "\n"
     ]
    },
    {
     "name": "stdout",
     "output_type": "stream",
     "text": [
      "Epoch 40, Loss 0.0597\n",
      "Training Accuracy: 0.9467, Testing Accuracy: 0.9582\n",
      "\n"
     ]
    },
    {
     "name": "stdout",
     "output_type": "stream",
     "text": [
      "Epoch 50, Loss 0.0555\n",
      "Training Accuracy: 0.9493, Testing Accuracy: 0.9592\n",
      "\n"
     ]
    },
    {
     "name": "stdout",
     "output_type": "stream",
     "text": [
      "Epoch 60, Loss 0.0525\n",
      "Training Accuracy: 0.9513, Testing Accuracy: 0.9607\n",
      "\n"
     ]
    },
    {
     "name": "stdout",
     "output_type": "stream",
     "text": [
      "Epoch 70, Loss 0.0501\n",
      "Training Accuracy: 0.9528, Testing Accuracy: 0.9627\n",
      "\n"
     ]
    },
    {
     "name": "stdout",
     "output_type": "stream",
     "text": [
      "Epoch 80, Loss 0.0482\n",
      "Training Accuracy: 0.9533, Testing Accuracy: 0.9647\n",
      "\n"
     ]
    },
    {
     "name": "stdout",
     "output_type": "stream",
     "text": [
      "Epoch 90, Loss 0.0466\n",
      "Training Accuracy: 0.9541, Testing Accuracy: 0.9657\n",
      "\n"
     ]
    },
    {
     "name": "stdout",
     "output_type": "stream",
     "text": [
      "Epoch 100, Loss 0.0453\n",
      "Training Accuracy: 0.9554, Testing Accuracy: 0.9657\n",
      "\n"
     ]
    },
    {
     "name": "stdout",
     "output_type": "stream",
     "text": [
      "Epoch 110, Loss 0.0442\n",
      "Training Accuracy: 0.9563, Testing Accuracy: 0.9662\n",
      "\n"
     ]
    },
    {
     "name": "stdout",
     "output_type": "stream",
     "text": [
      "Epoch 120, Loss 0.0432\n",
      "Training Accuracy: 0.9568, Testing Accuracy: 0.9662\n",
      "\n"
     ]
    },
    {
     "name": "stdout",
     "output_type": "stream",
     "text": [
      "Epoch 130, Loss 0.0423\n",
      "Training Accuracy: 0.9573, Testing Accuracy: 0.9652\n",
      "\n"
     ]
    },
    {
     "name": "stdout",
     "output_type": "stream",
     "text": [
      "Epoch 140, Loss 0.0415\n",
      "Training Accuracy: 0.9578, Testing Accuracy: 0.9657\n",
      "\n"
     ]
    },
    {
     "name": "stdout",
     "output_type": "stream",
     "text": [
      "Epoch 150, Loss 0.0408\n",
      "Training Accuracy: 0.9582, Testing Accuracy: 0.9662\n",
      "\n"
     ]
    },
    {
     "name": "stdout",
     "output_type": "stream",
     "text": [
      "Epoch 160, Loss 0.0402\n",
      "Training Accuracy: 0.9585, Testing Accuracy: 0.9657\n",
      "\n"
     ]
    },
    {
     "name": "stdout",
     "output_type": "stream",
     "text": [
      "Epoch 170, Loss 0.0396\n",
      "Training Accuracy: 0.9589, Testing Accuracy: 0.9657\n",
      "\n"
     ]
    },
    {
     "name": "stdout",
     "output_type": "stream",
     "text": [
      "Epoch 180, Loss 0.0391\n",
      "Training Accuracy: 0.9596, Testing Accuracy: 0.9657\n",
      "\n"
     ]
    },
    {
     "name": "stdout",
     "output_type": "stream",
     "text": [
      "Epoch 190, Loss 0.0386\n",
      "Training Accuracy: 0.9599, Testing Accuracy: 0.9652\n",
      "\n"
     ]
    },
    {
     "name": "stdout",
     "output_type": "stream",
     "text": [
      "Epoch 200, Loss 0.0381\n",
      "Training Accuracy: 0.9603, Testing Accuracy: 0.9652\n",
      "\n"
     ]
    },
    {
     "name": "stdout",
     "output_type": "stream",
     "text": [
      "Epoch 210, Loss 0.0377\n",
      "Training Accuracy: 0.9606, Testing Accuracy: 0.9657\n",
      "\n"
     ]
    },
    {
     "name": "stdout",
     "output_type": "stream",
     "text": [
      "Epoch 220, Loss 0.0373\n",
      "Training Accuracy: 0.9608, Testing Accuracy: 0.9652\n",
      "\n"
     ]
    },
    {
     "name": "stdout",
     "output_type": "stream",
     "text": [
      "Epoch 230, Loss 0.037\n",
      "Training Accuracy: 0.9610, Testing Accuracy: 0.9662\n",
      "\n"
     ]
    },
    {
     "name": "stdout",
     "output_type": "stream",
     "text": [
      "Epoch 240, Loss 0.0366\n",
      "Training Accuracy: 0.9615, Testing Accuracy: 0.9662\n",
      "\n"
     ]
    },
    {
     "data": {
      "text/plain": [
       "0.025747607633829946"
      ]
     },
     "execution_count": 23,
     "metadata": {},
     "output_type": "execute_result"
    }
   ],
   "source": [
    "lr_learner.train_loop(dl)"
   ]
  },
  {
   "cell_type": "code",
   "execution_count": 24,
   "id": "ca410940",
   "metadata": {
    "execution": {
     "iopub.execute_input": "2022-05-26T10:11:56.259019Z",
     "iopub.status.busy": "2022-05-26T10:11:56.258313Z",
     "iopub.status.idle": "2022-05-26T10:11:56.480561Z",
     "shell.execute_reply": "2022-05-26T10:11:56.480046Z"
    },
    "papermill": {
     "duration": 0.276091,
     "end_time": "2022-05-26T10:11:56.480695",
     "exception": false,
     "start_time": "2022-05-26T10:11:56.204604",
     "status": "completed"
    },
    "tags": []
   },
   "outputs": [
    {
     "data": {
      "text/plain": [
       "<matplotlib.legend.Legend at 0x7fb2734295f8>"
      ]
     },
     "execution_count": 24,
     "metadata": {},
     "output_type": "execute_result"
    },
    {
     "data": {
      "image/png": "[encoded data removed]",
      "text/plain": [
       "<Figure size 1080x720 with 1 Axes>"
      ]
     },
     "metadata": {
      "needs_background": "light"
     },
     "output_type": "display_data"
    }
   ],
   "source": [
    "#comparing the results of NN and LR\n",
    "plt.figure(figsize=(15,10))\n",
    "\n",
    "# Neural Network plots\n",
    "plt.plot(acc_nn.accuracies, 'r-', label = \"Training Accuracies - NN\")\n",
    "plt.plot(acc_nn.test_accuracies, 'g-', label = \"Testing Accuracies - NN\")\n",
    "\n",
    "# Logistic Regression plots\n",
    "plt.plot(acc_lr.accuracies, 'k-', label = \"Training Accuracies - LR\")\n",
    "plt.plot(acc_lr.test_accuracies, 'b-', label = \"Testing Accuracies - LR\")\n",
    "plt.legend()"
   ]
  },
  {
   "cell_type": "markdown",
   "id": "80dfb35c",
   "metadata": {
    "papermill": {
     "duration": 0.042595,
     "end_time": "2022-05-26T10:11:56.566301",
     "exception": false,
     "start_time": "2022-05-26T10:11:56.523706",
     "status": "completed"
    },
    "tags": []
   },
   "source": [
    "#### Plotting the outputs of this layer of the NN.\n"
   ]
  },
  {
   "cell_type": "code",
   "execution_count": 25,
   "id": "45eb2ff5",
   "metadata": {
    "execution": {
     "iopub.execute_input": "2022-05-26T10:11:56.658278Z",
     "iopub.status.busy": "2022-05-26T10:11:56.657115Z",
     "iopub.status.idle": "2022-05-26T10:11:56.679557Z",
     "shell.execute_reply": "2022-05-26T10:11:56.678968Z"
    },
    "papermill": {
     "duration": 0.070754,
     "end_time": "2022-05-26T10:11:56.679686",
     "exception": false,
     "start_time": "2022-05-26T10:11:56.608932",
     "status": "completed"
    },
    "tags": []
   },
   "outputs": [],
   "source": [
    "new_model = Model(layers[:-2])\n",
    "testing_plot = new_model(testing_data_x)"
   ]
  },
  {
   "cell_type": "code",
   "execution_count": 26,
   "id": "4c0a5485",
   "metadata": {
    "execution": {
     "iopub.execute_input": "2022-05-26T10:11:56.779773Z",
     "iopub.status.busy": "2022-05-26T10:11:56.779090Z",
     "iopub.status.idle": "2022-05-26T10:11:56.984884Z",
     "shell.execute_reply": "2022-05-26T10:11:56.985369Z"
    },
    "papermill": {
     "duration": 0.261689,
     "end_time": "2022-05-26T10:11:56.985533",
     "exception": false,
     "start_time": "2022-05-26T10:11:56.723844",
     "status": "completed"
    },
    "tags": []
   },
   "outputs": [
    {
     "data": {
      "text/plain": [
       "Text(0.5, 1.0, 'Outputs')"
      ]
     },
     "execution_count": 26,
     "metadata": {},
     "output_type": "execute_result"
    },
    {
     "data": {
      "image/png": "[encoded data removed]",
      "text/plain": [
       "<Figure size 576x504 with 1 Axes>"
      ]
     },
     "metadata": {
      "needs_background": "light"
     },
     "output_type": "display_data"
    }
   ],
   "source": [
    "# Plotting the scatter plot of points and color coding by class\n",
    "plt.figure(figsize=(8,7))\n",
    "plt.scatter(testing_plot[:,0], testing_plot[:,1], alpha = 0.1, c = y_test.ravel());\n",
    "plt.title('Outputs')"
   ]
  },
  {
   "cell_type": "markdown",
   "id": "a74fcf8f",
   "metadata": {
    "papermill": {
     "duration": 0.04491,
     "end_time": "2022-05-26T10:11:57.075319",
     "exception": false,
     "start_time": "2022-05-26T10:11:57.030409",
     "status": "completed"
    },
    "tags": []
   },
   "source": [
    "Probability contours"
   ]
  },
  {
   "cell_type": "code",
   "execution_count": 27,
   "id": "d0afc8e3",
   "metadata": {
    "execution": {
     "iopub.execute_input": "2022-05-26T10:11:57.211870Z",
     "iopub.status.busy": "2022-05-26T10:11:57.211154Z",
     "iopub.status.idle": "2022-05-26T10:11:57.224716Z",
     "shell.execute_reply": "2022-05-26T10:11:57.225243Z"
    },
    "papermill": {
     "duration": 0.105182,
     "end_time": "2022-05-26T10:11:57.225429",
     "exception": false,
     "start_time": "2022-05-26T10:11:57.120247",
     "status": "completed"
    },
    "tags": []
   },
   "outputs": [],
   "source": [
    "model_prob = Model(layers[-2:]) "
   ]
  },
  {
   "cell_type": "code",
   "execution_count": 28,
   "id": "9b96e238",
   "metadata": {
    "execution": {
     "iopub.execute_input": "2022-05-26T10:11:57.322943Z",
     "iopub.status.busy": "2022-05-26T10:11:57.322166Z",
     "iopub.status.idle": "2022-05-26T10:11:57.337064Z",
     "shell.execute_reply": "2022-05-26T10:11:57.337528Z"
    },
    "papermill": {
     "duration": 0.067076,
     "end_time": "2022-05-26T10:11:57.337693",
     "exception": false,
     "start_time": "2022-05-26T10:11:57.270617",
     "status": "completed"
    },
    "tags": []
   },
   "outputs": [],
   "source": [
    "#creating the x and y ranges according to the above generated plot.\n",
    "x_range = np.linspace(-4, 1, 100) \n",
    "y_range = np.linspace(-6, 6, 100) \n",
    "x_grid, y_grid = np.meshgrid(x_range, y_range) # x_grid and y_grig are of size 100 X 100\n",
    "\n",
    "# converting x_grid and y_grid to continuous arrays\n",
    "x_gridflat = np.ravel(x_grid)\n",
    "y_gridflat = np.ravel(y_grid)\n",
    "\n",
    "# The last layer of the current model takes two columns as input. Hence transpose of np.vstack() is required.\n",
    "X = np.vstack((x_gridflat, y_gridflat)).T\n",
    "\n",
    "prob_contour = model_prob(X).reshape(100,100) "
   ]
  },
  {
   "cell_type": "code",
   "execution_count": 29,
   "id": "da72499a",
   "metadata": {
    "execution": {
     "iopub.execute_input": "2022-05-26T10:11:57.460697Z",
     "iopub.status.busy": "2022-05-26T10:11:57.444559Z",
     "iopub.status.idle": "2022-05-26T10:11:57.701653Z",
     "shell.execute_reply": "2022-05-26T10:11:57.702129Z"
    },
    "papermill": {
     "duration": 0.317843,
     "end_time": "2022-05-26T10:11:57.702282",
     "exception": false,
     "start_time": "2022-05-26T10:11:57.384439",
     "status": "completed"
    },
    "tags": []
   },
   "outputs": [
    {
     "data": {
      "image/png": "[encoded data removed]",
      "text/plain": [
       "<Figure size 720x648 with 1 Axes>"
      ]
     },
     "metadata": {
      "needs_background": "light"
     },
     "output_type": "display_data"
    }
   ],
   "source": [
    "plt.figure(figsize=(10,9))\n",
    "plt.scatter(testing_plot[:,0], testing_plot[:,1], alpha = 0.1, c = y_test.ravel())\n",
    "contours = plt.contour(x_grid,y_grid,prob_contour)\n",
    "plt.title('Probability Contours')\n",
    "plt.clabel(contours, inline = True );"
   ]
  },
  {
   "cell_type": "code",
   "execution_count": null,
   "id": "e81b4ac7",
   "metadata": {
    "papermill": {
     "duration": 0.047626,
     "end_time": "2022-05-26T10:11:57.797651",
     "exception": false,
     "start_time": "2022-05-26T10:11:57.750025",
     "status": "completed"
    },
    "tags": []
   },
   "outputs": [],
   "source": []
  }
 ],
 "metadata": {
  "kernelspec": {
   "display_name": "Python 3",
   "language": "python",
   "name": "python3"
  },
  "language_info": {
   "codemirror_mode": {
    "name": "ipython",
    "version": 3
   },
   "file_extension": ".py",
   "mimetype": "text/x-python",
   "name": "python",
   "nbconvert_exporter": "python",
   "pygments_lexer": "ipython3",
   "version": "3.6.15"
  },
  "papermill": {
   "default_parameters": {},
   "duration": 104.02079,
   "end_time": "2022-05-26T10:11:58.366224",
   "environment_variables": {},
   "exception": null,
   "input_path": "2020-08-11-part2.ipynb",
   "output_path": "2020-08-11-part2.ipynb",
   "parameters": {},
   "start_time": "2022-05-26T10:10:14.345434",
   "version": "2.3.3"
  }
 },
 "nbformat": 4,
 "nbformat_minor": 5
}