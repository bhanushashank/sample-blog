{
 "cells": [
  {
   "cell_type": "markdown",
   "id": "98380cd3",
   "metadata": {
    "papermill": {
     "duration": 0.027409,
     "end_time": "2022-01-11T00:26:28.835124",
     "exception": false,
     "start_time": "2022-01-11T00:26:28.807715",
     "status": "completed"
    },
    "tags": []
   },
   "source": [
    "# Distinguish Your Own Digits (DYOD)"
   ]
  },
  {
   "cell_type": "markdown",
   "id": "ef31240d",
   "metadata": {
    "papermill": {
     "duration": 0.023574,
     "end_time": "2022-01-11T00:26:28.884094",
     "exception": false,
     "start_time": "2022-01-11T00:26:28.860520",
     "status": "completed"
    },
    "tags": []
   },
   "source": [
    "You are going to write a classifier that distinguishes between the number 3 and number 8."
   ]
  },
  {
   "cell_type": "code",
   "execution_count": 1,
   "id": "b15c8646",
   "metadata": {
    "execution": {
     "iopub.execute_input": "2022-01-11T00:26:28.942705Z",
     "iopub.status.busy": "2022-01-11T00:26:28.939817Z",
     "iopub.status.idle": "2022-01-11T00:26:28.953465Z",
     "shell.execute_reply": "2022-01-11T00:26:28.952952Z"
    },
    "papermill": {
     "duration": 0.046029,
     "end_time": "2022-01-11T00:26:28.953607",
     "exception": false,
     "start_time": "2022-01-11T00:26:28.907578",
     "status": "completed"
    },
    "tags": []
   },
   "outputs": [],
   "source": [
    "%load_ext autoreload\n",
    "%autoreload 2"
   ]
  },
  {
   "cell_type": "code",
   "execution_count": 2,
   "id": "22ef38dc",
   "metadata": {
    "execution": {
     "iopub.execute_input": "2022-01-11T00:26:29.006214Z",
     "iopub.status.busy": "2022-01-11T00:26:29.005702Z",
     "iopub.status.idle": "2022-01-11T00:26:29.569741Z",
     "shell.execute_reply": "2022-01-11T00:26:29.569252Z"
    },
    "papermill": {
     "duration": 0.591592,
     "end_time": "2022-01-11T00:26:29.569869",
     "exception": false,
     "start_time": "2022-01-11T00:26:28.978277",
     "status": "completed"
    },
    "tags": []
   },
   "outputs": [],
   "source": [
    "%matplotlib inline\n",
    "import numpy as np\n",
    "import matplotlib.pyplot as plt\n",
    "import pandas as pd"
   ]
  },
  {
   "cell_type": "markdown",
   "id": "ba036198",
   "metadata": {
    "papermill": {
     "duration": 0.023745,
     "end_time": "2022-01-11T00:26:29.617577",
     "exception": false,
     "start_time": "2022-01-11T00:26:29.593832",
     "status": "completed"
    },
    "tags": []
   },
   "source": [
    "From the command line run `pip install mnist`. This is a library that will help you bring down the mnist dataset. If you run this from a notebook, you need to put  `!pip install mnist` in a cell by itself."
   ]
  },
  {
   "cell_type": "code",
   "execution_count": 3,
   "id": "bb6ad8a1",
   "metadata": {
    "execution": {
     "iopub.execute_input": "2022-01-11T00:26:29.678352Z",
     "iopub.status.busy": "2022-01-11T00:26:29.677841Z",
     "iopub.status.idle": "2022-01-11T00:26:31.426155Z",
     "shell.execute_reply": "2022-01-11T00:26:31.424705Z"
    },
    "papermill": {
     "duration": 1.785136,
     "end_time": "2022-01-11T00:26:31.426312",
     "exception": false,
     "start_time": "2022-01-11T00:26:29.641176",
     "status": "completed"
    },
    "tags": []
   },
   "outputs": [
    {
     "name": "stdout",
     "output_type": "stream",
     "text": [
      "Collecting mnist\r\n"
     ]
    },
    {
     "name": "stdout",
     "output_type": "stream",
     "text": [
      "  Downloading mnist-0.2.2-py2.py3-none-any.whl (3.5 kB)\r\n",
      "Requirement already satisfied: numpy in /opt/hostedtoolcache/Python/3.6.15/x64/lib/python3.6/site-packages (from mnist) (1.19.5)\r\n"
     ]
    },
    {
     "name": "stdout",
     "output_type": "stream",
     "text": [
      "Installing collected packages: mnist\r\n"
     ]
    },
    {
     "name": "stdout",
     "output_type": "stream",
     "text": [
      "Successfully installed mnist-0.2.2\r\n"
     ]
    }
   ],
   "source": [
    "!pip install mnist"
   ]
  },
  {
   "cell_type": "markdown",
   "id": "69df9c9a",
   "metadata": {
    "papermill": {
     "duration": 0.024606,
     "end_time": "2022-01-11T00:26:31.475944",
     "exception": false,
     "start_time": "2022-01-11T00:26:31.451338",
     "status": "completed"
    },
    "tags": []
   },
   "source": [
    "## Preparing the Data"
   ]
  },
  {
   "cell_type": "code",
   "execution_count": 4,
   "id": "7f69d806",
   "metadata": {
    "execution": {
     "iopub.execute_input": "2022-01-11T00:26:31.533808Z",
     "iopub.status.busy": "2022-01-11T00:26:31.532019Z",
     "iopub.status.idle": "2022-01-11T00:26:31.542864Z",
     "shell.execute_reply": "2022-01-11T00:26:31.543249Z"
    },
    "papermill": {
     "duration": 0.042886,
     "end_time": "2022-01-11T00:26:31.543379",
     "exception": false,
     "start_time": "2022-01-11T00:26:31.500493",
     "status": "completed"
    },
    "tags": []
   },
   "outputs": [],
   "source": [
    "import mnist"
   ]
  },
  {
   "cell_type": "code",
   "execution_count": 5,
   "id": "a411e44f",
   "metadata": {
    "execution": {
     "iopub.execute_input": "2022-01-11T00:26:31.606170Z",
     "iopub.status.busy": "2022-01-11T00:26:31.598164Z",
     "iopub.status.idle": "2022-01-11T00:26:32.193392Z",
     "shell.execute_reply": "2022-01-11T00:26:32.192847Z"
    },
    "papermill": {
     "duration": 0.625637,
     "end_time": "2022-01-11T00:26:32.193536",
     "exception": false,
     "start_time": "2022-01-11T00:26:31.567899",
     "status": "completed"
    },
    "tags": []
   },
   "outputs": [],
   "source": [
    "train_images = mnist.train_images()\n",
    "train_labels = mnist.train_labels()"
   ]
  },
  {
   "cell_type": "code",
   "execution_count": 6,
   "id": "dceab3a5",
   "metadata": {
    "execution": {
     "iopub.execute_input": "2022-01-11T00:26:32.248475Z",
     "iopub.status.busy": "2022-01-11T00:26:32.247961Z",
     "iopub.status.idle": "2022-01-11T00:26:32.261285Z",
     "shell.execute_reply": "2022-01-11T00:26:32.260825Z"
    },
    "papermill": {
     "duration": 0.042226,
     "end_time": "2022-01-11T00:26:32.261394",
     "exception": false,
     "start_time": "2022-01-11T00:26:32.219168",
     "status": "completed"
    },
    "tags": []
   },
   "outputs": [
    {
     "data": {
      "text/plain": [
       "((60000, 28, 28), (60000,))"
      ]
     },
     "execution_count": 6,
     "metadata": {},
     "output_type": "execute_result"
    }
   ],
   "source": [
    "train_images.shape, train_labels.shape"
   ]
  },
  {
   "cell_type": "code",
   "execution_count": 7,
   "id": "f50dc2bb",
   "metadata": {
    "execution": {
     "iopub.execute_input": "2022-01-11T00:26:32.315978Z",
     "iopub.status.busy": "2022-01-11T00:26:32.315482Z",
     "iopub.status.idle": "2022-01-11T00:26:32.499102Z",
     "shell.execute_reply": "2022-01-11T00:26:32.498587Z"
    },
    "papermill": {
     "duration": 0.21294,
     "end_time": "2022-01-11T00:26:32.499239",
     "exception": false,
     "start_time": "2022-01-11T00:26:32.286299",
     "status": "completed"
    },
    "tags": []
   },
   "outputs": [],
   "source": [
    "test_images = mnist.test_images()\n",
    "test_labels = mnist.test_labels()"
   ]
  },
  {
   "cell_type": "code",
   "execution_count": 8,
   "id": "fc38cf1b",
   "metadata": {
    "execution": {
     "iopub.execute_input": "2022-01-11T00:26:32.553130Z",
     "iopub.status.busy": "2022-01-11T00:26:32.552591Z",
     "iopub.status.idle": "2022-01-11T00:26:32.565222Z",
     "shell.execute_reply": "2022-01-11T00:26:32.564789Z"
    },
    "papermill": {
     "duration": 0.040567,
     "end_time": "2022-01-11T00:26:32.565336",
     "exception": false,
     "start_time": "2022-01-11T00:26:32.524769",
     "status": "completed"
    },
    "tags": []
   },
   "outputs": [
    {
     "data": {
      "text/plain": [
       "((10000, 28, 28), (10000,))"
      ]
     },
     "execution_count": 8,
     "metadata": {},
     "output_type": "execute_result"
    }
   ],
   "source": [
    "test_images.shape, test_labels.shape"
   ]
  },
  {
   "cell_type": "code",
   "execution_count": 9,
   "id": "f9ed8fe0",
   "metadata": {
    "execution": {
     "iopub.execute_input": "2022-01-11T00:26:32.631015Z",
     "iopub.status.busy": "2022-01-11T00:26:32.630501Z",
     "iopub.status.idle": "2022-01-11T00:26:32.761782Z",
     "shell.execute_reply": "2022-01-11T00:26:32.761283Z"
    },
    "papermill": {
     "duration": 0.171499,
     "end_time": "2022-01-11T00:26:32.761918",
     "exception": false,
     "start_time": "2022-01-11T00:26:32.590419",
     "status": "completed"
    },
    "tags": []
   },
   "outputs": [
    {
     "name": "stdout",
     "output_type": "stream",
     "text": [
      "2\n"
     ]
    },
    {
     "data": {
      "text/plain": [
       "<matplotlib.image.AxesImage at 0x7f77d0c53390>"
      ]
     },
     "execution_count": 9,
     "metadata": {},
     "output_type": "execute_result"
    },
    {
     "data": {
      "image/png": "[encoded data removed]",
      "text/plain": [
       "<Figure size 432x288 with 1 Axes>"
      ]
     },
     "metadata": {
      "needs_background": "light"
     },
     "output_type": "display_data"
    }
   ],
   "source": [
    "image_index = 7776 # You may select anything up to 60,000\n",
    "print(train_labels[image_index]) \n",
    "plt.imshow(train_images[image_index], cmap='Greys')"
   ]
  },
  {
   "cell_type": "markdown",
   "id": "a8d2388d",
   "metadata": {
    "papermill": {
     "duration": 0.026511,
     "end_time": "2022-01-11T00:26:32.815355",
     "exception": false,
     "start_time": "2022-01-11T00:26:32.788844",
     "status": "completed"
    },
    "tags": []
   },
   "source": [
    "## Filter data to get 3 and 8 out"
   ]
  },
  {
   "cell_type": "code",
   "execution_count": 10,
   "id": "776f7fc7",
   "metadata": {
    "execution": {
     "iopub.execute_input": "2022-01-11T00:26:32.871714Z",
     "iopub.status.busy": "2022-01-11T00:26:32.871196Z",
     "iopub.status.idle": "2022-01-11T00:26:32.889769Z",
     "shell.execute_reply": "2022-01-11T00:26:32.889341Z"
    },
    "papermill": {
     "duration": 0.048467,
     "end_time": "2022-01-11T00:26:32.889884",
     "exception": false,
     "start_time": "2022-01-11T00:26:32.841417",
     "status": "completed"
    },
    "tags": []
   },
   "outputs": [],
   "source": [
    "train_filter = np.where((train_labels == 3 ) | (train_labels == 8))\n",
    "test_filter = np.where((test_labels == 3) | (test_labels == 8))\n",
    "X_train, y_train = train_images[train_filter], train_labels[train_filter]\n",
    "X_test, y_test = test_images[test_filter], test_labels[test_filter]"
   ]
  },
  {
   "cell_type": "markdown",
   "id": "948f0b7e",
   "metadata": {
    "papermill": {
     "duration": 0.026052,
     "end_time": "2022-01-11T00:26:32.942136",
     "exception": false,
     "start_time": "2022-01-11T00:26:32.916084",
     "status": "completed"
    },
    "tags": []
   },
   "source": [
    "We normalize the pizel values in the 0 to 1 range"
   ]
  },
  {
   "cell_type": "code",
   "execution_count": 11,
   "id": "ee4c2166",
   "metadata": {
    "execution": {
     "iopub.execute_input": "2022-01-11T00:26:33.007904Z",
     "iopub.status.busy": "2022-01-11T00:26:33.007361Z",
     "iopub.status.idle": "2022-01-11T00:26:33.048590Z",
     "shell.execute_reply": "2022-01-11T00:26:33.048055Z"
    },
    "papermill": {
     "duration": 0.080414,
     "end_time": "2022-01-11T00:26:33.048722",
     "exception": false,
     "start_time": "2022-01-11T00:26:32.968308",
     "status": "completed"
    },
    "tags": []
   },
   "outputs": [],
   "source": [
    "X_train = X_train/255.\n",
    "X_test = X_test/255."
   ]
  },
  {
   "cell_type": "markdown",
   "id": "ddcf4fab",
   "metadata": {
    "papermill": {
     "duration": 0.02703,
     "end_time": "2022-01-11T00:26:33.102501",
     "exception": false,
     "start_time": "2022-01-11T00:26:33.075471",
     "status": "completed"
    },
    "tags": []
   },
   "source": [
    "And setup the labels as 1 (when the digit is 3) and 0 (when the digit is 8)"
   ]
  },
  {
   "cell_type": "code",
   "execution_count": 12,
   "id": "7dc908f2",
   "metadata": {
    "execution": {
     "iopub.execute_input": "2022-01-11T00:26:33.159692Z",
     "iopub.status.busy": "2022-01-11T00:26:33.159162Z",
     "iopub.status.idle": "2022-01-11T00:26:33.170739Z",
     "shell.execute_reply": "2022-01-11T00:26:33.170311Z"
    },
    "papermill": {
     "duration": 0.042279,
     "end_time": "2022-01-11T00:26:33.170857",
     "exception": false,
     "start_time": "2022-01-11T00:26:33.128578",
     "status": "completed"
    },
    "tags": []
   },
   "outputs": [],
   "source": [
    "y_train = 1*(y_train==3)\n",
    "y_test = 1*(y_test==3)"
   ]
  },
  {
   "cell_type": "code",
   "execution_count": 13,
   "id": "01e4e969",
   "metadata": {
    "execution": {
     "iopub.execute_input": "2022-01-11T00:26:33.227833Z",
     "iopub.status.busy": "2022-01-11T00:26:33.227293Z",
     "iopub.status.idle": "2022-01-11T00:26:33.241170Z",
     "shell.execute_reply": "2022-01-11T00:26:33.240691Z"
    },
    "papermill": {
     "duration": 0.0441,
     "end_time": "2022-01-11T00:26:33.241292",
     "exception": false,
     "start_time": "2022-01-11T00:26:33.197192",
     "status": "completed"
    },
    "tags": []
   },
   "outputs": [
    {
     "data": {
      "text/plain": [
       "((11982, 28, 28), (1984, 28, 28))"
      ]
     },
     "execution_count": 13,
     "metadata": {},
     "output_type": "execute_result"
    }
   ],
   "source": [
    "X_train.shape, X_test.shape"
   ]
  },
  {
   "cell_type": "markdown",
   "id": "5ccf3f85",
   "metadata": {
    "papermill": {
     "duration": 0.026366,
     "end_time": "2022-01-11T00:26:33.294089",
     "exception": false,
     "start_time": "2022-01-11T00:26:33.267723",
     "status": "completed"
    },
    "tags": []
   },
   "source": [
    "We reshape the data to flatten the image pixels into a set of features or co-variates:"
   ]
  },
  {
   "cell_type": "code",
   "execution_count": 14,
   "id": "5286a4a3",
   "metadata": {
    "execution": {
     "iopub.execute_input": "2022-01-11T00:26:33.354327Z",
     "iopub.status.busy": "2022-01-11T00:26:33.353809Z",
     "iopub.status.idle": "2022-01-11T00:26:33.365362Z",
     "shell.execute_reply": "2022-01-11T00:26:33.364917Z"
    },
    "papermill": {
     "duration": 0.044935,
     "end_time": "2022-01-11T00:26:33.365481",
     "exception": false,
     "start_time": "2022-01-11T00:26:33.320546",
     "status": "completed"
    },
    "tags": []
   },
   "outputs": [
    {
     "data": {
      "text/plain": [
       "((11982, 784), (1984, 784))"
      ]
     },
     "execution_count": 14,
     "metadata": {},
     "output_type": "execute_result"
    }
   ],
   "source": [
    "X_train = X_train.reshape(X_train.shape[0], -1)\n",
    "X_test = X_test.reshape(X_test.shape[0], -1)\n",
    "X_train.shape, X_test.shape"
   ]
  },
  {
   "cell_type": "code",
   "execution_count": 15,
   "id": "73c5f88a",
   "metadata": {
    "execution": {
     "iopub.execute_input": "2022-01-11T00:26:33.436991Z",
     "iopub.status.busy": "2022-01-11T00:26:33.433977Z",
     "iopub.status.idle": "2022-01-11T00:26:33.446379Z",
     "shell.execute_reply": "2022-01-11T00:26:33.445925Z"
    },
    "papermill": {
     "duration": 0.054309,
     "end_time": "2022-01-11T00:26:33.446494",
     "exception": false,
     "start_time": "2022-01-11T00:26:33.392185",
     "status": "completed"
    },
    "tags": []
   },
   "outputs": [],
   "source": [
    "#Impoting functions from 'Kudzu'\n",
    "from kudzu.model import Model\n",
    "from kudzu.train import Learner\n",
    "from kudzu.optim import GD\n",
    "from kudzu.data import Data, Sampler,Dataloader\n",
    "\n",
    "from kudzu.callbacks import AccCallback\n",
    "from kudzu.callbacks import ClfCallback\n",
    "\n",
    "from kudzu.loss import MSE\n",
    "\n",
    "from kudzu.layer import Sigmoid,Relu\n",
    "from kudzu.layer import Affine"
   ]
  },
  {
   "cell_type": "markdown",
   "id": "bc01172a",
   "metadata": {
    "papermill": {
     "duration": 0.02697,
     "end_time": "2022-01-11T00:26:33.500592",
     "exception": false,
     "start_time": "2022-01-11T00:26:33.473622",
     "status": "completed"
    },
    "tags": []
   },
   "source": [
    "### Let us create a `Config` class, to store important parameters. \n",
    "This class essentially plays the role of a dictionary."
   ]
  },
  {
   "cell_type": "code",
   "execution_count": 16,
   "id": "978281aa",
   "metadata": {
    "execution": {
     "iopub.execute_input": "2022-01-11T00:26:33.562421Z",
     "iopub.status.busy": "2022-01-11T00:26:33.561884Z",
     "iopub.status.idle": "2022-01-11T00:26:33.572087Z",
     "shell.execute_reply": "2022-01-11T00:26:33.571663Z"
    },
    "papermill": {
     "duration": 0.044979,
     "end_time": "2022-01-11T00:26:33.572208",
     "exception": false,
     "start_time": "2022-01-11T00:26:33.527229",
     "status": "completed"
    },
    "tags": []
   },
   "outputs": [],
   "source": [
    "class Config:\n",
    "    pass\n",
    "config = Config()\n",
    "config.lr = 0.001\n",
    "config.num_epochs = 250\n",
    "config.bs = 50"
   ]
  },
  {
   "cell_type": "markdown",
   "id": "1385fa59",
   "metadata": {
    "papermill": {
     "duration": 0.026602,
     "end_time": "2022-01-11T00:26:33.625889",
     "exception": false,
     "start_time": "2022-01-11T00:26:33.599287",
     "status": "completed"
    },
    "tags": []
   },
   "source": [
    "### Running Models with the Training data\n",
    "Details about the network layers:\n",
    "- A first affine layer has 784 inputs and does 100 affine transforms. These are followed by a Relu\n",
    "- A second affine layer has 100 inputs from the 100 activations of the past layer, and does 100 affine transforms. These are followed by a Relu\n",
    "- A third affine layer has 100 activations and does 2 affine transformations to create an embedding for visualization. There is no non-linearity here.\n",
    "- A final \"logistic regression\" which has an affine transform from 2 inputs to 1 output, which is squeezed through a sigmoid.\n"
   ]
  },
  {
   "cell_type": "code",
   "execution_count": 17,
   "id": "2b9c66db",
   "metadata": {
    "execution": {
     "iopub.execute_input": "2022-01-11T00:26:33.690525Z",
     "iopub.status.busy": "2022-01-11T00:26:33.689997Z",
     "iopub.status.idle": "2022-01-11T00:26:33.698609Z",
     "shell.execute_reply": "2022-01-11T00:26:33.698195Z"
    },
    "papermill": {
     "duration": 0.046106,
     "end_time": "2022-01-11T00:26:33.698724",
     "exception": false,
     "start_time": "2022-01-11T00:26:33.652618",
     "status": "completed"
    },
    "tags": []
   },
   "outputs": [],
   "source": [
    "data = Data(X_train, y_train.reshape(-1,1))\n",
    "sampler = Sampler(data, config.bs, shuffle=True)\n",
    "\n",
    "dl = Dataloader(data, sampler)\n",
    "\n",
    "opt = GD(config.lr)\n",
    "loss = MSE()"
   ]
  },
  {
   "cell_type": "code",
   "execution_count": 18,
   "id": "b275e4c2",
   "metadata": {
    "execution": {
     "iopub.execute_input": "2022-01-11T00:26:33.757704Z",
     "iopub.status.busy": "2022-01-11T00:26:33.757152Z",
     "iopub.status.idle": "2022-01-11T00:26:33.768376Z",
     "shell.execute_reply": "2022-01-11T00:26:33.767942Z"
    },
    "papermill": {
     "duration": 0.043,
     "end_time": "2022-01-11T00:26:33.768492",
     "exception": false,
     "start_time": "2022-01-11T00:26:33.725492",
     "status": "completed"
    },
    "tags": []
   },
   "outputs": [],
   "source": [
    "training_data_x = X_train\n",
    "testing_data_x = X_test\n",
    "training_data_y = y_train.reshape(-1,1)\n",
    "testing_data_y = y_test.reshape(-1,1)"
   ]
  },
  {
   "cell_type": "code",
   "execution_count": 19,
   "id": "76951160",
   "metadata": {
    "execution": {
     "iopub.execute_input": "2022-01-11T00:26:33.837779Z",
     "iopub.status.busy": "2022-01-11T00:26:33.837227Z",
     "iopub.status.idle": "2022-01-11T00:26:33.846888Z",
     "shell.execute_reply": "2022-01-11T00:26:33.847287Z"
    },
    "papermill": {
     "duration": 0.052039,
     "end_time": "2022-01-11T00:26:33.847430",
     "exception": false,
     "start_time": "2022-01-11T00:26:33.795391",
     "status": "completed"
    },
    "tags": []
   },
   "outputs": [
    {
     "name": "stdout",
     "output_type": "stream",
     "text": [
      "xavier\n",
      "xavier\n",
      "xavier\n",
      "xavier\n",
      "xavier\n"
     ]
    }
   ],
   "source": [
    "layers = [Affine(\"first\", 784, 100), Relu(\"first\"), Affine(\"second\", 100, 100), Relu(\"second\"), Affine(\"third\", 100, 2), Affine(\"last\", 2, 1), Sigmoid(\"last\")]\n",
    "model_nn = Model(layers)\n",
    "model_lr = Model([Affine(\"logits\", 784, 1), Sigmoid(\"sigmoid\")])"
   ]
  },
  {
   "cell_type": "code",
   "execution_count": 20,
   "id": "6eede77a",
   "metadata": {
    "execution": {
     "iopub.execute_input": "2022-01-11T00:26:33.919421Z",
     "iopub.status.busy": "2022-01-11T00:26:33.918882Z",
     "iopub.status.idle": "2022-01-11T00:26:33.920886Z",
     "shell.execute_reply": "2022-01-11T00:26:33.921323Z"
    },
    "papermill": {
     "duration": 0.046778,
     "end_time": "2022-01-11T00:26:33.921464",
     "exception": false,
     "start_time": "2022-01-11T00:26:33.874686",
     "status": "completed"
    },
    "tags": []
   },
   "outputs": [],
   "source": [
    "nn_learner = Learner(loss, model_nn, opt, config.num_epochs)\n",
    "acc_nn = ClfCallback(nn_learner, config.bs, training_data_x , testing_data_x, training_data_y, testing_data_y)\n",
    "nn_learner.set_callbacks([acc_nn])"
   ]
  },
  {
   "cell_type": "code",
   "execution_count": 21,
   "id": "877b6cc7",
   "metadata": {
    "execution": {
     "iopub.execute_input": "2022-01-11T00:26:33.982703Z",
     "iopub.status.busy": "2022-01-11T00:26:33.982019Z",
     "iopub.status.idle": "2022-01-11T00:26:33.992418Z",
     "shell.execute_reply": "2022-01-11T00:26:33.991994Z"
    },
    "papermill": {
     "duration": 0.043762,
     "end_time": "2022-01-11T00:26:33.992534",
     "exception": false,
     "start_time": "2022-01-11T00:26:33.948772",
     "status": "completed"
    },
    "tags": []
   },
   "outputs": [],
   "source": [
    "lr_learner = Learner(loss, model_lr, opt, config.num_epochs)\n",
    "acc_lr = ClfCallback(lr_learner, config.bs, training_data_x , testing_data_x, training_data_y, testing_data_y)\n",
    "lr_learner.set_callbacks([acc_lr])"
   ]
  },
  {
   "cell_type": "code",
   "execution_count": 22,
   "id": "d9b133c3",
   "metadata": {
    "execution": {
     "iopub.execute_input": "2022-01-11T00:26:34.056697Z",
     "iopub.status.busy": "2022-01-11T00:26:34.056181Z",
     "iopub.status.idle": "2022-01-11T00:27:48.246861Z",
     "shell.execute_reply": "2022-01-11T00:27:48.247603Z"
    },
    "papermill": {
     "duration": 74.228087,
     "end_time": "2022-01-11T00:27:48.247750",
     "exception": false,
     "start_time": "2022-01-11T00:26:34.019663",
     "status": "completed"
    },
    "tags": []
   },
   "outputs": [
    {
     "name": "stdout",
     "output_type": "stream",
     "text": [
      "Epoch 0, Loss 0.2505\n",
      "Training Accuracy: 0.5108, Testing Accuracy: 0.5076\n",
      "\n"
     ]
    },
    {
     "name": "stdout",
     "output_type": "stream",
     "text": [
      "Epoch 10, Loss 0.2233\n",
      "Training Accuracy: 0.7390, Testing Accuracy: 0.7283\n",
      "\n"
     ]
    },
    {
     "name": "stdout",
     "output_type": "stream",
     "text": [
      "Epoch 20, Loss 0.1558\n",
      "Training Accuracy: 0.8718, Testing Accuracy: 0.8770\n",
      "\n"
     ]
    },
    {
     "name": "stdout",
     "output_type": "stream",
     "text": [
      "Epoch 30, Loss 0.0881\n",
      "Training Accuracy: 0.9075, Testing Accuracy: 0.9148\n",
      "\n"
     ]
    },
    {
     "name": "stdout",
     "output_type": "stream",
     "text": [
      "Epoch 40, Loss 0.061\n",
      "Training Accuracy: 0.9311, Testing Accuracy: 0.9446\n",
      "\n"
     ]
    },
    {
     "name": "stdout",
     "output_type": "stream",
     "text": [
      "Epoch 50, Loss 0.048\n",
      "Training Accuracy: 0.9446, Testing Accuracy: 0.9551\n",
      "\n"
     ]
    },
    {
     "name": "stdout",
     "output_type": "stream",
     "text": [
      "Epoch 60, Loss 0.0411\n",
      "Training Accuracy: 0.9515, Testing Accuracy: 0.9577\n",
      "\n"
     ]
    },
    {
     "name": "stdout",
     "output_type": "stream",
     "text": [
      "Epoch 70, Loss 0.0368\n",
      "Training Accuracy: 0.9556, Testing Accuracy: 0.9632\n",
      "\n"
     ]
    },
    {
     "name": "stdout",
     "output_type": "stream",
     "text": [
      "Epoch 80, Loss 0.0339\n",
      "Training Accuracy: 0.9590, Testing Accuracy: 0.9677\n",
      "\n"
     ]
    },
    {
     "name": "stdout",
     "output_type": "stream",
     "text": [
      "Epoch 90, Loss 0.0317\n",
      "Training Accuracy: 0.9618, Testing Accuracy: 0.9682\n",
      "\n"
     ]
    },
    {
     "name": "stdout",
     "output_type": "stream",
     "text": [
      "Epoch 100, Loss 0.03\n",
      "Training Accuracy: 0.9640, Testing Accuracy: 0.9698\n",
      "\n"
     ]
    },
    {
     "name": "stdout",
     "output_type": "stream",
     "text": [
      "Epoch 110, Loss 0.0286\n",
      "Training Accuracy: 0.9659, Testing Accuracy: 0.9688\n",
      "\n"
     ]
    },
    {
     "name": "stdout",
     "output_type": "stream",
     "text": [
      "Epoch 120, Loss 0.0274\n",
      "Training Accuracy: 0.9673, Testing Accuracy: 0.9703\n",
      "\n"
     ]
    },
    {
     "name": "stdout",
     "output_type": "stream",
     "text": [
      "Epoch 130, Loss 0.0264\n",
      "Training Accuracy: 0.9686, Testing Accuracy: 0.9708\n",
      "\n"
     ]
    },
    {
     "name": "stdout",
     "output_type": "stream",
     "text": [
      "Epoch 140, Loss 0.0255\n",
      "Training Accuracy: 0.9697, Testing Accuracy: 0.9718\n",
      "\n"
     ]
    },
    {
     "name": "stdout",
     "output_type": "stream",
     "text": [
      "Epoch 150, Loss 0.0247\n",
      "Training Accuracy: 0.9712, Testing Accuracy: 0.9728\n",
      "\n"
     ]
    },
    {
     "name": "stdout",
     "output_type": "stream",
     "text": [
      "Epoch 160, Loss 0.024\n",
      "Training Accuracy: 0.9724, Testing Accuracy: 0.9723\n",
      "\n"
     ]
    },
    {
     "name": "stdout",
     "output_type": "stream",
     "text": [
      "Epoch 170, Loss 0.0233\n",
      "Training Accuracy: 0.9736, Testing Accuracy: 0.9723\n",
      "\n"
     ]
    },
    {
     "name": "stdout",
     "output_type": "stream",
     "text": [
      "Epoch 180, Loss 0.0227\n",
      "Training Accuracy: 0.9745, Testing Accuracy: 0.9728\n",
      "\n"
     ]
    },
    {
     "name": "stdout",
     "output_type": "stream",
     "text": [
      "Epoch 190, Loss 0.0222\n",
      "Training Accuracy: 0.9751, Testing Accuracy: 0.9733\n",
      "\n"
     ]
    },
    {
     "name": "stdout",
     "output_type": "stream",
     "text": [
      "Epoch 200, Loss 0.0216\n",
      "Training Accuracy: 0.9755, Testing Accuracy: 0.9723\n",
      "\n"
     ]
    },
    {
     "name": "stdout",
     "output_type": "stream",
     "text": [
      "Epoch 210, Loss 0.0212\n",
      "Training Accuracy: 0.9762, Testing Accuracy: 0.9728\n",
      "\n"
     ]
    },
    {
     "name": "stdout",
     "output_type": "stream",
     "text": [
      "Epoch 220, Loss 0.0207\n",
      "Training Accuracy: 0.9766, Testing Accuracy: 0.9723\n",
      "\n"
     ]
    },
    {
     "name": "stdout",
     "output_type": "stream",
     "text": [
      "Epoch 230, Loss 0.0203\n",
      "Training Accuracy: 0.9772, Testing Accuracy: 0.9723\n",
      "\n"
     ]
    },
    {
     "name": "stdout",
     "output_type": "stream",
     "text": [
      "Epoch 240, Loss 0.0199\n",
      "Training Accuracy: 0.9781, Testing Accuracy: 0.9718\n",
      "\n"
     ]
    },
    {
     "data": {
      "text/plain": [
       "0.007164843337402914"
      ]
     },
     "execution_count": 22,
     "metadata": {},
     "output_type": "execute_result"
    }
   ],
   "source": [
    "nn_learner.train_loop(dl)"
   ]
  },
  {
   "cell_type": "code",
   "execution_count": 23,
   "id": "e0163366",
   "metadata": {
    "execution": {
     "iopub.execute_input": "2022-01-11T00:27:48.328389Z",
     "iopub.status.busy": "2022-01-11T00:27:48.327876Z",
     "iopub.status.idle": "2022-01-11T00:28:01.428945Z",
     "shell.execute_reply": "2022-01-11T00:28:01.429749Z"
    },
    "papermill": {
     "duration": 13.147715,
     "end_time": "2022-01-11T00:28:01.429903",
     "exception": false,
     "start_time": "2022-01-11T00:27:48.282188",
     "status": "completed"
    },
    "tags": []
   },
   "outputs": [
    {
     "name": "stdout",
     "output_type": "stream",
     "text": [
      "Epoch 0, Loss 0.2809\n",
      "Training Accuracy: 0.5114, Testing Accuracy: 0.5066\n",
      "\n"
     ]
    },
    {
     "name": "stdout",
     "output_type": "stream",
     "text": [
      "Epoch 10, Loss 0.1059\n",
      "Training Accuracy: 0.9087, Testing Accuracy: 0.9163\n",
      "\n"
     ]
    },
    {
     "name": "stdout",
     "output_type": "stream",
     "text": [
      "Epoch 20, Loss 0.0805\n",
      "Training Accuracy: 0.9260, Testing Accuracy: 0.9365\n",
      "\n"
     ]
    },
    {
     "name": "stdout",
     "output_type": "stream",
     "text": [
      "Epoch 30, Loss 0.0691\n",
      "Training Accuracy: 0.9347, Testing Accuracy: 0.9461\n",
      "\n"
     ]
    },
    {
     "name": "stdout",
     "output_type": "stream",
     "text": [
      "Epoch 40, Loss 0.0623\n",
      "Training Accuracy: 0.9391, Testing Accuracy: 0.9491\n",
      "\n"
     ]
    },
    {
     "name": "stdout",
     "output_type": "stream",
     "text": [
      "Epoch 50, Loss 0.0576\n",
      "Training Accuracy: 0.9432, Testing Accuracy: 0.9556\n",
      "\n"
     ]
    },
    {
     "name": "stdout",
     "output_type": "stream",
     "text": [
      "Epoch 60, Loss 0.0542\n",
      "Training Accuracy: 0.9465, Testing Accuracy: 0.9567\n",
      "\n"
     ]
    },
    {
     "name": "stdout",
     "output_type": "stream",
     "text": [
      "Epoch 70, Loss 0.0516\n",
      "Training Accuracy: 0.9486, Testing Accuracy: 0.9602\n",
      "\n"
     ]
    },
    {
     "name": "stdout",
     "output_type": "stream",
     "text": [
      "Epoch 80, Loss 0.0495\n",
      "Training Accuracy: 0.9503, Testing Accuracy: 0.9607\n",
      "\n"
     ]
    },
    {
     "name": "stdout",
     "output_type": "stream",
     "text": [
      "Epoch 90, Loss 0.0477\n",
      "Training Accuracy: 0.9519, Testing Accuracy: 0.9607\n",
      "\n"
     ]
    },
    {
     "name": "stdout",
     "output_type": "stream",
     "text": [
      "Epoch 100, Loss 0.0463\n",
      "Training Accuracy: 0.9529, Testing Accuracy: 0.9607\n",
      "\n"
     ]
    },
    {
     "name": "stdout",
     "output_type": "stream",
     "text": [
      "Epoch 110, Loss 0.045\n",
      "Training Accuracy: 0.9542, Testing Accuracy: 0.9617\n",
      "\n"
     ]
    },
    {
     "name": "stdout",
     "output_type": "stream",
     "text": [
      "Epoch 120, Loss 0.0439\n",
      "Training Accuracy: 0.9551, Testing Accuracy: 0.9627\n",
      "\n"
     ]
    },
    {
     "name": "stdout",
     "output_type": "stream",
     "text": [
      "Epoch 130, Loss 0.043\n",
      "Training Accuracy: 0.9559, Testing Accuracy: 0.9627\n",
      "\n"
     ]
    },
    {
     "name": "stdout",
     "output_type": "stream",
     "text": [
      "Epoch 140, Loss 0.0421\n",
      "Training Accuracy: 0.9564, Testing Accuracy: 0.9627\n",
      "\n"
     ]
    },
    {
     "name": "stdout",
     "output_type": "stream",
     "text": [
      "Epoch 150, Loss 0.0414\n",
      "Training Accuracy: 0.9569, Testing Accuracy: 0.9637\n",
      "\n"
     ]
    },
    {
     "name": "stdout",
     "output_type": "stream",
     "text": [
      "Epoch 160, Loss 0.0407\n",
      "Training Accuracy: 0.9575, Testing Accuracy: 0.9642\n",
      "\n"
     ]
    },
    {
     "name": "stdout",
     "output_type": "stream",
     "text": [
      "Epoch 170, Loss 0.0401\n",
      "Training Accuracy: 0.9579, Testing Accuracy: 0.9647\n",
      "\n"
     ]
    },
    {
     "name": "stdout",
     "output_type": "stream",
     "text": [
      "Epoch 180, Loss 0.0395\n",
      "Training Accuracy: 0.9584, Testing Accuracy: 0.9652\n",
      "\n"
     ]
    },
    {
     "name": "stdout",
     "output_type": "stream",
     "text": [
      "Epoch 190, Loss 0.039\n",
      "Training Accuracy: 0.9589, Testing Accuracy: 0.9662\n",
      "\n"
     ]
    },
    {
     "name": "stdout",
     "output_type": "stream",
     "text": [
      "Epoch 200, Loss 0.0385\n",
      "Training Accuracy: 0.9594, Testing Accuracy: 0.9667\n",
      "\n"
     ]
    },
    {
     "name": "stdout",
     "output_type": "stream",
     "text": [
      "Epoch 210, Loss 0.038\n",
      "Training Accuracy: 0.9596, Testing Accuracy: 0.9667\n",
      "\n"
     ]
    },
    {
     "name": "stdout",
     "output_type": "stream",
     "text": [
      "Epoch 220, Loss 0.0376\n",
      "Training Accuracy: 0.9598, Testing Accuracy: 0.9672\n",
      "\n"
     ]
    },
    {
     "name": "stdout",
     "output_type": "stream",
     "text": [
      "Epoch 230, Loss 0.0372\n",
      "Training Accuracy: 0.9602, Testing Accuracy: 0.9672\n",
      "\n"
     ]
    },
    {
     "name": "stdout",
     "output_type": "stream",
     "text": [
      "Epoch 240, Loss 0.0369\n",
      "Training Accuracy: 0.9605, Testing Accuracy: 0.9672\n",
      "\n"
     ]
    },
    {
     "data": {
      "text/plain": [
       "0.02501752672533122"
      ]
     },
     "execution_count": 23,
     "metadata": {},
     "output_type": "execute_result"
    }
   ],
   "source": [
    "lr_learner.train_loop(dl)"
   ]
  },
  {
   "cell_type": "code",
   "execution_count": 24,
   "id": "ca410940",
   "metadata": {
    "execution": {
     "iopub.execute_input": "2022-01-11T00:28:01.519866Z",
     "iopub.status.busy": "2022-01-11T00:28:01.519338Z",
     "iopub.status.idle": "2022-01-11T00:28:01.743048Z",
     "shell.execute_reply": "2022-01-11T00:28:01.743494Z"
    },
    "papermill": {
     "duration": 0.272725,
     "end_time": "2022-01-11T00:28:01.743656",
     "exception": false,
     "start_time": "2022-01-11T00:28:01.470931",
     "status": "completed"
    },
    "tags": []
   },
   "outputs": [
    {
     "data": {
      "text/plain": [
       "<matplotlib.legend.Legend at 0x7f77d07b2ac8>"
      ]
     },
     "execution_count": 24,
     "metadata": {},
     "output_type": "execute_result"
    },
    {
     "data": {
      "image/png": "[encoded data removed]",
      "text/plain": [
       "<Figure size 1080x720 with 1 Axes>"
      ]
     },
     "metadata": {
      "needs_background": "light"
     },
     "output_type": "display_data"
    }
   ],
   "source": [
    "#comparing the results of NN and LR\n",
    "plt.figure(figsize=(15,10))\n",
    "\n",
    "# Neural Network plots\n",
    "plt.plot(acc_nn.accuracies, 'r-', label = \"Training Accuracies - NN\")\n",
    "plt.plot(acc_nn.test_accuracies, 'g-', label = \"Testing Accuracies - NN\")\n",
    "\n",
    "# Logistic Regression plots\n",
    "plt.plot(acc_lr.accuracies, 'k-', label = \"Training Accuracies - LR\")\n",
    "plt.plot(acc_lr.test_accuracies, 'b-', label = \"Testing Accuracies - LR\")\n",
    "plt.legend()"
   ]
  },
  {
   "cell_type": "markdown",
   "id": "80dfb35c",
   "metadata": {
    "papermill": {
     "duration": 0.041578,
     "end_time": "2022-01-11T00:28:01.827923",
     "exception": false,
     "start_time": "2022-01-11T00:28:01.786345",
     "status": "completed"
    },
    "tags": []
   },
   "source": [
    "#### Plotting the outputs of this layer of the NN.\n"
   ]
  },
  {
   "cell_type": "code",
   "execution_count": 25,
   "id": "45eb2ff5",
   "metadata": {
    "execution": {
     "iopub.execute_input": "2022-01-11T00:28:01.916661Z",
     "iopub.status.busy": "2022-01-11T00:28:01.916147Z",
     "iopub.status.idle": "2022-01-11T00:28:01.935168Z",
     "shell.execute_reply": "2022-01-11T00:28:01.935559Z"
    },
    "papermill": {
     "duration": 0.066139,
     "end_time": "2022-01-11T00:28:01.935697",
     "exception": false,
     "start_time": "2022-01-11T00:28:01.869558",
     "status": "completed"
    },
    "tags": []
   },
   "outputs": [],
   "source": [
    "new_model = Model(layers[:-2])\n",
    "testing_plot = new_model(testing_data_x)"
   ]
  },
  {
   "cell_type": "code",
   "execution_count": 26,
   "id": "4c0a5485",
   "metadata": {
    "execution": {
     "iopub.execute_input": "2022-01-11T00:28:02.024814Z",
     "iopub.status.busy": "2022-01-11T00:28:02.024298Z",
     "iopub.status.idle": "2022-01-11T00:28:02.235496Z",
     "shell.execute_reply": "2022-01-11T00:28:02.235888Z"
    },
    "papermill": {
     "duration": 0.257173,
     "end_time": "2022-01-11T00:28:02.236033",
     "exception": false,
     "start_time": "2022-01-11T00:28:01.978860",
     "status": "completed"
    },
    "tags": []
   },
   "outputs": [
    {
     "data": {
      "text/plain": [
       "Text(0.5, 1.0, 'Outputs')"
      ]
     },
     "execution_count": 26,
     "metadata": {},
     "output_type": "execute_result"
    },
    {
     "data": {
      "image/png": "[encoded data removed]",
      "text/plain": [
       "<Figure size 576x504 with 1 Axes>"
      ]
     },
     "metadata": {
      "needs_background": "light"
     },
     "output_type": "display_data"
    }
   ],
   "source": [
    "# Plotting the scatter plot of points and color coding by class\n",
    "plt.figure(figsize=(8,7))\n",
    "plt.scatter(testing_plot[:,0], testing_plot[:,1], alpha = 0.1, c = y_test.ravel());\n",
    "plt.title('Outputs')"
   ]
  },
  {
   "cell_type": "markdown",
   "id": "a74fcf8f",
   "metadata": {
    "papermill": {
     "duration": 0.043906,
     "end_time": "2022-01-11T00:28:02.324136",
     "exception": false,
     "start_time": "2022-01-11T00:28:02.280230",
     "status": "completed"
    },
    "tags": []
   },
   "source": [
    "Probability contours"
   ]
  },
  {
   "cell_type": "code",
   "execution_count": 27,
   "id": "d0afc8e3",
   "metadata": {
    "execution": {
     "iopub.execute_input": "2022-01-11T00:28:02.415743Z",
     "iopub.status.busy": "2022-01-11T00:28:02.415226Z",
     "iopub.status.idle": "2022-01-11T00:28:02.426861Z",
     "shell.execute_reply": "2022-01-11T00:28:02.426447Z"
    },
    "papermill": {
     "duration": 0.058969,
     "end_time": "2022-01-11T00:28:02.426972",
     "exception": false,
     "start_time": "2022-01-11T00:28:02.368003",
     "status": "completed"
    },
    "tags": []
   },
   "outputs": [],
   "source": [
    "model_prob = Model(layers[-2:]) "
   ]
  },
  {
   "cell_type": "code",
   "execution_count": 28,
   "id": "9b96e238",
   "metadata": {
    "execution": {
     "iopub.execute_input": "2022-01-11T00:28:02.545051Z",
     "iopub.status.busy": "2022-01-11T00:28:02.544526Z",
     "iopub.status.idle": "2022-01-11T00:28:02.557237Z",
     "shell.execute_reply": "2022-01-11T00:28:02.557640Z"
    },
    "papermill": {
     "duration": 0.086659,
     "end_time": "2022-01-11T00:28:02.557767",
     "exception": false,
     "start_time": "2022-01-11T00:28:02.471108",
     "status": "completed"
    },
    "tags": []
   },
   "outputs": [],
   "source": [
    "#creating the x and y ranges according to the above generated plot.\n",
    "x_range = np.linspace(-4, 1, 100) \n",
    "y_range = np.linspace(-6, 6, 100) \n",
    "x_grid, y_grid = np.meshgrid(x_range, y_range) # x_grid and y_grig are of size 100 X 100\n",
    "\n",
    "# converting x_grid and y_grid to continuous arrays\n",
    "x_gridflat = np.ravel(x_grid)\n",
    "y_gridflat = np.ravel(y_grid)\n",
    "\n",
    "# The last layer of the current model takes two columns as input. Hence transpose of np.vstack() is required.\n",
    "X = np.vstack((x_gridflat, y_gridflat)).T\n",
    "\n",
    "prob_contour = model_prob(X).reshape(100,100) "
   ]
  },
  {
   "cell_type": "code",
   "execution_count": 29,
   "id": "da72499a",
   "metadata": {
    "execution": {
     "iopub.execute_input": "2022-01-11T00:28:02.658339Z",
     "iopub.status.busy": "2022-01-11T00:28:02.657834Z",
     "iopub.status.idle": "2022-01-11T00:28:02.903803Z",
     "shell.execute_reply": "2022-01-11T00:28:02.902983Z"
    },
    "papermill": {
     "duration": 0.300778,
     "end_time": "2022-01-11T00:28:02.903935",
     "exception": false,
     "start_time": "2022-01-11T00:28:02.603157",
     "status": "completed"
    },
    "tags": []
   },
   "outputs": [
    {
     "data": {
      "image/png": "[encoded data removed]",
      "text/plain": [
       "<Figure size 720x648 with 1 Axes>"
      ]
     },
     "metadata": {
      "needs_background": "light"
     },
     "output_type": "display_data"
    }
   ],
   "source": [
    "plt.figure(figsize=(10,9))\n",
    "plt.scatter(testing_plot[:,0], testing_plot[:,1], alpha = 0.1, c = y_test.ravel())\n",
    "contours = plt.contour(x_grid,y_grid,prob_contour)\n",
    "plt.title('Probability Contours')\n",
    "plt.clabel(contours, inline = True );"
   ]
  },
  {
   "cell_type": "code",
   "execution_count": null,
   "id": "e81b4ac7",
   "metadata": {
    "papermill": {
     "duration": 0.046603,
     "end_time": "2022-01-11T00:28:02.997838",
     "exception": false,
     "start_time": "2022-01-11T00:28:02.951235",
     "status": "completed"
    },
    "tags": []
   },
   "outputs": [],
   "source": []
  }
 ],
 "metadata": {
  "kernelspec": {
   "display_name": "Python 3",
   "language": "python",
   "name": "python3"
  },
  "language_info": {
   "codemirror_mode": {
    "name": "ipython",
    "version": 3
   },
   "file_extension": ".py",
   "mimetype": "text/x-python",
   "name": "python",
   "nbconvert_exporter": "python",
   "pygments_lexer": "ipython3",
   "version": "3.6.15"
  },
  "papermill": {
   "default_parameters": {},
   "duration": 95.471019,
   "end_time": "2022-01-11T00:28:03.351395",
   "environment_variables": {},
   "exception": null,
   "input_path": "2020-08-11-part2.ipynb",
   "output_path": "2020-08-11-part2.ipynb",
   "parameters": {},
   "start_time": "2022-01-11T00:26:27.880376",
   "version": "2.3.3"
  }
 },
 "nbformat": 4,
 "nbformat_minor": 5
}