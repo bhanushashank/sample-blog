{
 "cells": [
  {
   "cell_type": "markdown",
   "id": "98380cd3",
   "metadata": {
    "papermill": {
     "duration": 0.03862,
     "end_time": "2022-06-19T10:10:04.051786",
     "exception": false,
     "start_time": "2022-06-19T10:10:04.013166",
     "status": "completed"
    },
    "tags": []
   },
   "source": [
    "# Distinguish Your Own Digits (DYOD)"
   ]
  },
  {
   "cell_type": "markdown",
   "id": "ef31240d",
   "metadata": {
    "papermill": {
     "duration": 0.031164,
     "end_time": "2022-06-19T10:10:04.116873",
     "exception": false,
     "start_time": "2022-06-19T10:10:04.085709",
     "status": "completed"
    },
    "tags": []
   },
   "source": [
    "You are going to write a classifier that distinguishes between the number 3 and number 8."
   ]
  },
  {
   "cell_type": "code",
   "execution_count": 1,
   "id": "b15c8646",
   "metadata": {
    "execution": {
     "iopub.execute_input": "2022-06-19T10:10:04.195583Z",
     "iopub.status.busy": "2022-06-19T10:10:04.189650Z",
     "iopub.status.idle": "2022-06-19T10:10:04.208557Z",
     "shell.execute_reply": "2022-06-19T10:10:04.207822Z"
    },
    "papermill": {
     "duration": 0.060269,
     "end_time": "2022-06-19T10:10:04.208714",
     "exception": false,
     "start_time": "2022-06-19T10:10:04.148445",
     "status": "completed"
    },
    "tags": []
   },
   "outputs": [],
   "source": [
    "%load_ext autoreload\n",
    "%autoreload 2"
   ]
  },
  {
   "cell_type": "code",
   "execution_count": 2,
   "id": "22ef38dc",
   "metadata": {
    "execution": {
     "iopub.execute_input": "2022-06-19T10:10:04.282256Z",
     "iopub.status.busy": "2022-06-19T10:10:04.281340Z",
     "iopub.status.idle": "2022-06-19T10:10:04.965777Z",
     "shell.execute_reply": "2022-06-19T10:10:04.965089Z"
    },
    "papermill": {
     "duration": 0.725223,
     "end_time": "2022-06-19T10:10:04.965948",
     "exception": false,
     "start_time": "2022-06-19T10:10:04.240725",
     "status": "completed"
    },
    "tags": []
   },
   "outputs": [],
   "source": [
    "%matplotlib inline\n",
    "import numpy as np\n",
    "import matplotlib.pyplot as plt\n",
    "import pandas as pd"
   ]
  },
  {
   "cell_type": "markdown",
   "id": "ba036198",
   "metadata": {
    "papermill": {
     "duration": 0.031365,
     "end_time": "2022-06-19T10:10:05.028413",
     "exception": false,
     "start_time": "2022-06-19T10:10:04.997048",
     "status": "completed"
    },
    "tags": []
   },
   "source": [
    "From the command line run `pip install mnist`. This is a library that will help you bring down the mnist dataset. If you run this from a notebook, you need to put  `!pip install mnist` in a cell by itself."
   ]
  },
  {
   "cell_type": "code",
   "execution_count": 3,
   "id": "bb6ad8a1",
   "metadata": {
    "execution": {
     "iopub.execute_input": "2022-06-19T10:10:05.094728Z",
     "iopub.status.busy": "2022-06-19T10:10:05.093765Z",
     "iopub.status.idle": "2022-06-19T10:10:07.429368Z",
     "shell.execute_reply": "2022-06-19T10:10:07.428772Z"
    },
    "papermill": {
     "duration": 2.370803,
     "end_time": "2022-06-19T10:10:07.429526",
     "exception": false,
     "start_time": "2022-06-19T10:10:05.058723",
     "status": "completed"
    },
    "tags": []
   },
   "outputs": [
    {
     "name": "stdout",
     "output_type": "stream",
     "text": [
      "Collecting mnist\r\n"
     ]
    },
    {
     "name": "stdout",
     "output_type": "stream",
     "text": [
      "  Downloading mnist-0.2.2-py2.py3-none-any.whl (3.5 kB)\r\n",
      "Requirement already satisfied: numpy in /opt/hostedtoolcache/Python/3.6.15/x64/lib/python3.6/site-packages (from mnist) (1.19.5)\r\n"
     ]
    },
    {
     "name": "stdout",
     "output_type": "stream",
     "text": [
      "Installing collected packages: mnist\r\n"
     ]
    },
    {
     "name": "stdout",
     "output_type": "stream",
     "text": [
      "Successfully installed mnist-0.2.2\r\n"
     ]
    }
   ],
   "source": [
    "!pip install mnist"
   ]
  },
  {
   "cell_type": "markdown",
   "id": "69df9c9a",
   "metadata": {
    "papermill": {
     "duration": 0.031933,
     "end_time": "2022-06-19T10:10:07.497062",
     "exception": false,
     "start_time": "2022-06-19T10:10:07.465129",
     "status": "completed"
    },
    "tags": []
   },
   "source": [
    "## Preparing the Data"
   ]
  },
  {
   "cell_type": "code",
   "execution_count": 4,
   "id": "7f69d806",
   "metadata": {
    "execution": {
     "iopub.execute_input": "2022-06-19T10:10:07.573236Z",
     "iopub.status.busy": "2022-06-19T10:10:07.572325Z",
     "iopub.status.idle": "2022-06-19T10:10:07.587854Z",
     "shell.execute_reply": "2022-06-19T10:10:07.587251Z"
    },
    "papermill": {
     "duration": 0.05914,
     "end_time": "2022-06-19T10:10:07.587988",
     "exception": false,
     "start_time": "2022-06-19T10:10:07.528848",
     "status": "completed"
    },
    "tags": []
   },
   "outputs": [],
   "source": [
    "import mnist"
   ]
  },
  {
   "cell_type": "code",
   "execution_count": 5,
   "id": "a411e44f",
   "metadata": {
    "execution": {
     "iopub.execute_input": "2022-06-19T10:10:07.661388Z",
     "iopub.status.busy": "2022-06-19T10:10:07.660612Z",
     "iopub.status.idle": "2022-06-19T10:10:08.336189Z",
     "shell.execute_reply": "2022-06-19T10:10:08.335534Z"
    },
    "papermill": {
     "duration": 0.714119,
     "end_time": "2022-06-19T10:10:08.336362",
     "exception": false,
     "start_time": "2022-06-19T10:10:07.622243",
     "status": "completed"
    },
    "tags": []
   },
   "outputs": [],
   "source": [
    "train_images = mnist.train_images()\n",
    "train_labels = mnist.train_labels()"
   ]
  },
  {
   "cell_type": "code",
   "execution_count": 6,
   "id": "dceab3a5",
   "metadata": {
    "execution": {
     "iopub.execute_input": "2022-06-19T10:10:08.409056Z",
     "iopub.status.busy": "2022-06-19T10:10:08.408027Z",
     "iopub.status.idle": "2022-06-19T10:10:08.426831Z",
     "shell.execute_reply": "2022-06-19T10:10:08.427408Z"
    },
    "papermill": {
     "duration": 0.057198,
     "end_time": "2022-06-19T10:10:08.427561",
     "exception": false,
     "start_time": "2022-06-19T10:10:08.370363",
     "status": "completed"
    },
    "tags": []
   },
   "outputs": [
    {
     "data": {
      "text/plain": [
       "((60000, 28, 28), (60000,))"
      ]
     },
     "execution_count": 6,
     "metadata": {},
     "output_type": "execute_result"
    }
   ],
   "source": [
    "train_images.shape, train_labels.shape"
   ]
  },
  {
   "cell_type": "code",
   "execution_count": 7,
   "id": "f50dc2bb",
   "metadata": {
    "execution": {
     "iopub.execute_input": "2022-06-19T10:10:08.500749Z",
     "iopub.status.busy": "2022-06-19T10:10:08.499988Z",
     "iopub.status.idle": "2022-06-19T10:10:08.777581Z",
     "shell.execute_reply": "2022-06-19T10:10:08.776742Z"
    },
    "papermill": {
     "duration": 0.315864,
     "end_time": "2022-06-19T10:10:08.777720",
     "exception": false,
     "start_time": "2022-06-19T10:10:08.461856",
     "status": "completed"
    },
    "tags": []
   },
   "outputs": [],
   "source": [
    "test_images = mnist.test_images()\n",
    "test_labels = mnist.test_labels()"
   ]
  },
  {
   "cell_type": "code",
   "execution_count": 8,
   "id": "fc38cf1b",
   "metadata": {
    "execution": {
     "iopub.execute_input": "2022-06-19T10:10:08.850186Z",
     "iopub.status.busy": "2022-06-19T10:10:08.849330Z",
     "iopub.status.idle": "2022-06-19T10:10:08.867854Z",
     "shell.execute_reply": "2022-06-19T10:10:08.867283Z"
    },
    "papermill": {
     "duration": 0.057315,
     "end_time": "2022-06-19T10:10:08.868001",
     "exception": false,
     "start_time": "2022-06-19T10:10:08.810686",
     "status": "completed"
    },
    "tags": []
   },
   "outputs": [
    {
     "data": {
      "text/plain": [
       "((10000, 28, 28), (10000,))"
      ]
     },
     "execution_count": 8,
     "metadata": {},
     "output_type": "execute_result"
    }
   ],
   "source": [
    "test_images.shape, test_labels.shape"
   ]
  },
  {
   "cell_type": "code",
   "execution_count": 9,
   "id": "f9ed8fe0",
   "metadata": {
    "execution": {
     "iopub.execute_input": "2022-06-19T10:10:08.940825Z",
     "iopub.status.busy": "2022-06-19T10:10:08.939955Z",
     "iopub.status.idle": "2022-06-19T10:10:09.142091Z",
     "shell.execute_reply": "2022-06-19T10:10:09.141500Z"
    },
    "papermill": {
     "duration": 0.240703,
     "end_time": "2022-06-19T10:10:09.142239",
     "exception": false,
     "start_time": "2022-06-19T10:10:08.901536",
     "status": "completed"
    },
    "tags": []
   },
   "outputs": [
    {
     "name": "stdout",
     "output_type": "stream",
     "text": [
      "2\n"
     ]
    },
    {
     "data": {
      "text/plain": [
       "<matplotlib.image.AxesImage at 0x7f7a909aa438>"
      ]
     },
     "execution_count": 9,
     "metadata": {},
     "output_type": "execute_result"
    },
    {
     "data": {
      "image/png": "[encoded data removed]",
      "text/plain": [
       "<Figure size 432x288 with 1 Axes>"
      ]
     },
     "metadata": {
      "needs_background": "light"
     },
     "output_type": "display_data"
    }
   ],
   "source": [
    "image_index = 7776 # You may select anything up to 60,000\n",
    "print(train_labels[image_index]) \n",
    "plt.imshow(train_images[image_index], cmap='Greys')"
   ]
  },
  {
   "cell_type": "markdown",
   "id": "a8d2388d",
   "metadata": {
    "papermill": {
     "duration": 0.032654,
     "end_time": "2022-06-19T10:10:09.209462",
     "exception": false,
     "start_time": "2022-06-19T10:10:09.176808",
     "status": "completed"
    },
    "tags": []
   },
   "source": [
    "## Filter data to get 3 and 8 out"
   ]
  },
  {
   "cell_type": "code",
   "execution_count": 10,
   "id": "776f7fc7",
   "metadata": {
    "execution": {
     "iopub.execute_input": "2022-06-19T10:10:09.283314Z",
     "iopub.status.busy": "2022-06-19T10:10:09.282518Z",
     "iopub.status.idle": "2022-06-19T10:10:09.306749Z",
     "shell.execute_reply": "2022-06-19T10:10:09.306121Z"
    },
    "papermill": {
     "duration": 0.064581,
     "end_time": "2022-06-19T10:10:09.306900",
     "exception": false,
     "start_time": "2022-06-19T10:10:09.242319",
     "status": "completed"
    },
    "tags": []
   },
   "outputs": [],
   "source": [
    "train_filter = np.where((train_labels == 3 ) | (train_labels == 8))\n",
    "test_filter = np.where((test_labels == 3) | (test_labels == 8))\n",
    "X_train, y_train = train_images[train_filter], train_labels[train_filter]\n",
    "X_test, y_test = test_images[test_filter], test_labels[test_filter]"
   ]
  },
  {
   "cell_type": "markdown",
   "id": "948f0b7e",
   "metadata": {
    "papermill": {
     "duration": 0.033994,
     "end_time": "2022-06-19T10:10:09.374692",
     "exception": false,
     "start_time": "2022-06-19T10:10:09.340698",
     "status": "completed"
    },
    "tags": []
   },
   "source": [
    "We normalize the pizel values in the 0 to 1 range"
   ]
  },
  {
   "cell_type": "code",
   "execution_count": 11,
   "id": "ee4c2166",
   "metadata": {
    "execution": {
     "iopub.execute_input": "2022-06-19T10:10:09.447308Z",
     "iopub.status.busy": "2022-06-19T10:10:09.446522Z",
     "iopub.status.idle": "2022-06-19T10:10:09.512576Z",
     "shell.execute_reply": "2022-06-19T10:10:09.511761Z"
    },
    "papermill": {
     "duration": 0.105532,
     "end_time": "2022-06-19T10:10:09.512729",
     "exception": false,
     "start_time": "2022-06-19T10:10:09.407197",
     "status": "completed"
    },
    "tags": []
   },
   "outputs": [],
   "source": [
    "X_train = X_train/255.\n",
    "X_test = X_test/255."
   ]
  },
  {
   "cell_type": "markdown",
   "id": "ddcf4fab",
   "metadata": {
    "papermill": {
     "duration": 0.03273,
     "end_time": "2022-06-19T10:10:09.583667",
     "exception": false,
     "start_time": "2022-06-19T10:10:09.550937",
     "status": "completed"
    },
    "tags": []
   },
   "source": [
    "And setup the labels as 1 (when the digit is 3) and 0 (when the digit is 8)"
   ]
  },
  {
   "cell_type": "code",
   "execution_count": 12,
   "id": "7dc908f2",
   "metadata": {
    "execution": {
     "iopub.execute_input": "2022-06-19T10:10:09.655309Z",
     "iopub.status.busy": "2022-06-19T10:10:09.654484Z",
     "iopub.status.idle": "2022-06-19T10:10:09.669170Z",
     "shell.execute_reply": "2022-06-19T10:10:09.669852Z"
    },
    "papermill": {
     "duration": 0.051405,
     "end_time": "2022-06-19T10:10:09.670048",
     "exception": false,
     "start_time": "2022-06-19T10:10:09.618643",
     "status": "completed"
    },
    "tags": []
   },
   "outputs": [],
   "source": [
    "y_train = 1*(y_train==3)\n",
    "y_test = 1*(y_test==3)"
   ]
  },
  {
   "cell_type": "code",
   "execution_count": 13,
   "id": "01e4e969",
   "metadata": {
    "execution": {
     "iopub.execute_input": "2022-06-19T10:10:09.745243Z",
     "iopub.status.busy": "2022-06-19T10:10:09.744568Z",
     "iopub.status.idle": "2022-06-19T10:10:09.760199Z",
     "shell.execute_reply": "2022-06-19T10:10:09.759581Z"
    },
    "papermill": {
     "duration": 0.055297,
     "end_time": "2022-06-19T10:10:09.760329",
     "exception": false,
     "start_time": "2022-06-19T10:10:09.705032",
     "status": "completed"
    },
    "tags": []
   },
   "outputs": [
    {
     "data": {
      "text/plain": [
       "((11982, 28, 28), (1984, 28, 28))"
      ]
     },
     "execution_count": 13,
     "metadata": {},
     "output_type": "execute_result"
    }
   ],
   "source": [
    "X_train.shape, X_test.shape"
   ]
  },
  {
   "cell_type": "markdown",
   "id": "5ccf3f85",
   "metadata": {
    "papermill": {
     "duration": 0.033828,
     "end_time": "2022-06-19T10:10:09.829099",
     "exception": false,
     "start_time": "2022-06-19T10:10:09.795271",
     "status": "completed"
    },
    "tags": []
   },
   "source": [
    "We reshape the data to flatten the image pixels into a set of features or co-variates:"
   ]
  },
  {
   "cell_type": "code",
   "execution_count": 14,
   "id": "5286a4a3",
   "metadata": {
    "execution": {
     "iopub.execute_input": "2022-06-19T10:10:09.906033Z",
     "iopub.status.busy": "2022-06-19T10:10:09.905201Z",
     "iopub.status.idle": "2022-06-19T10:10:09.922691Z",
     "shell.execute_reply": "2022-06-19T10:10:09.923581Z"
    },
    "papermill": {
     "duration": 0.059747,
     "end_time": "2022-06-19T10:10:09.923745",
     "exception": false,
     "start_time": "2022-06-19T10:10:09.863998",
     "status": "completed"
    },
    "tags": []
   },
   "outputs": [
    {
     "data": {
      "text/plain": [
       "((11982, 784), (1984, 784))"
      ]
     },
     "execution_count": 14,
     "metadata": {},
     "output_type": "execute_result"
    }
   ],
   "source": [
    "X_train = X_train.reshape(X_train.shape[0], -1)\n",
    "X_test = X_test.reshape(X_test.shape[0], -1)\n",
    "X_train.shape, X_test.shape"
   ]
  },
  {
   "cell_type": "code",
   "execution_count": 15,
   "id": "73c5f88a",
   "metadata": {
    "execution": {
     "iopub.execute_input": "2022-06-19T10:10:10.001531Z",
     "iopub.status.busy": "2022-06-19T10:10:10.000794Z",
     "iopub.status.idle": "2022-06-19T10:10:10.022328Z",
     "shell.execute_reply": "2022-06-19T10:10:10.021722Z"
    },
    "papermill": {
     "duration": 0.06264,
     "end_time": "2022-06-19T10:10:10.022499",
     "exception": false,
     "start_time": "2022-06-19T10:10:09.959859",
     "status": "completed"
    },
    "tags": []
   },
   "outputs": [],
   "source": [
    "#Impoting functions from 'Kudzu'\n",
    "from kudzu.model import Model\n",
    "from kudzu.train import Learner\n",
    "from kudzu.optim import GD\n",
    "from kudzu.data import Data, Sampler,Dataloader\n",
    "\n",
    "from kudzu.callbacks import AccCallback\n",
    "from kudzu.callbacks import ClfCallback\n",
    "\n",
    "from kudzu.loss import MSE\n",
    "\n",
    "from kudzu.layer import Sigmoid,Relu\n",
    "from kudzu.layer import Affine"
   ]
  },
  {
   "cell_type": "markdown",
   "id": "bc01172a",
   "metadata": {
    "papermill": {
     "duration": 0.036943,
     "end_time": "2022-06-19T10:10:10.098263",
     "exception": false,
     "start_time": "2022-06-19T10:10:10.061320",
     "status": "completed"
    },
    "tags": []
   },
   "source": [
    "### Let us create a `Config` class, to store important parameters. \n",
    "This class essentially plays the role of a dictionary."
   ]
  },
  {
   "cell_type": "code",
   "execution_count": 16,
   "id": "978281aa",
   "metadata": {
    "execution": {
     "iopub.execute_input": "2022-06-19T10:10:10.172644Z",
     "iopub.status.busy": "2022-06-19T10:10:10.171795Z",
     "iopub.status.idle": "2022-06-19T10:10:10.186741Z",
     "shell.execute_reply": "2022-06-19T10:10:10.187521Z"
    },
    "papermill": {
     "duration": 0.053748,
     "end_time": "2022-06-19T10:10:10.187727",
     "exception": false,
     "start_time": "2022-06-19T10:10:10.133979",
     "status": "completed"
    },
    "tags": []
   },
   "outputs": [],
   "source": [
    "class Config:\n",
    "    pass\n",
    "config = Config()\n",
    "config.lr = 0.001\n",
    "config.num_epochs = 250\n",
    "config.bs = 50"
   ]
  },
  {
   "cell_type": "markdown",
   "id": "1385fa59",
   "metadata": {
    "papermill": {
     "duration": 0.035772,
     "end_time": "2022-06-19T10:10:10.257269",
     "exception": false,
     "start_time": "2022-06-19T10:10:10.221497",
     "status": "completed"
    },
    "tags": []
   },
   "source": [
    "### Running Models with the Training data\n",
    "Details about the network layers:\n",
    "- A first affine layer has 784 inputs and does 100 affine transforms. These are followed by a Relu\n",
    "- A second affine layer has 100 inputs from the 100 activations of the past layer, and does 100 affine transforms. These are followed by a Relu\n",
    "- A third affine layer has 100 activations and does 2 affine transformations to create an embedding for visualization. There is no non-linearity here.\n",
    "- A final \"logistic regression\" which has an affine transform from 2 inputs to 1 output, which is squeezed through a sigmoid.\n"
   ]
  },
  {
   "cell_type": "code",
   "execution_count": 17,
   "id": "2b9c66db",
   "metadata": {
    "execution": {
     "iopub.execute_input": "2022-06-19T10:10:10.336606Z",
     "iopub.status.busy": "2022-06-19T10:10:10.335847Z",
     "iopub.status.idle": "2022-06-19T10:10:10.350841Z",
     "shell.execute_reply": "2022-06-19T10:10:10.350222Z"
    },
    "papermill": {
     "duration": 0.058888,
     "end_time": "2022-06-19T10:10:10.350981",
     "exception": false,
     "start_time": "2022-06-19T10:10:10.292093",
     "status": "completed"
    },
    "tags": []
   },
   "outputs": [],
   "source": [
    "data = Data(X_train, y_train.reshape(-1,1))\n",
    "sampler = Sampler(data, config.bs, shuffle=True)\n",
    "\n",
    "dl = Dataloader(data, sampler)\n",
    "\n",
    "opt = GD(config.lr)\n",
    "loss = MSE()"
   ]
  },
  {
   "cell_type": "code",
   "execution_count": 18,
   "id": "b275e4c2",
   "metadata": {
    "execution": {
     "iopub.execute_input": "2022-06-19T10:10:10.431807Z",
     "iopub.status.busy": "2022-06-19T10:10:10.430803Z",
     "iopub.status.idle": "2022-06-19T10:10:10.443337Z",
     "shell.execute_reply": "2022-06-19T10:10:10.443936Z"
    },
    "papermill": {
     "duration": 0.057911,
     "end_time": "2022-06-19T10:10:10.444095",
     "exception": false,
     "start_time": "2022-06-19T10:10:10.386184",
     "status": "completed"
    },
    "tags": []
   },
   "outputs": [],
   "source": [
    "training_data_x = X_train\n",
    "testing_data_x = X_test\n",
    "training_data_y = y_train.reshape(-1,1)\n",
    "testing_data_y = y_test.reshape(-1,1)"
   ]
  },
  {
   "cell_type": "code",
   "execution_count": 19,
   "id": "76951160",
   "metadata": {
    "execution": {
     "iopub.execute_input": "2022-06-19T10:10:10.525339Z",
     "iopub.status.busy": "2022-06-19T10:10:10.524432Z",
     "iopub.status.idle": "2022-06-19T10:10:10.542224Z",
     "shell.execute_reply": "2022-06-19T10:10:10.541486Z"
    },
    "papermill": {
     "duration": 0.062162,
     "end_time": "2022-06-19T10:10:10.542382",
     "exception": false,
     "start_time": "2022-06-19T10:10:10.480220",
     "status": "completed"
    },
    "tags": []
   },
   "outputs": [
    {
     "name": "stdout",
     "output_type": "stream",
     "text": [
      "xavier\n",
      "xavier\n",
      "xavier\n",
      "xavier\n",
      "xavier\n"
     ]
    }
   ],
   "source": [
    "layers = [Affine(\"first\", 784, 100), Relu(\"first\"), Affine(\"second\", 100, 100), Relu(\"second\"), Affine(\"third\", 100, 2), Affine(\"last\", 2, 1), Sigmoid(\"last\")]\n",
    "model_nn = Model(layers)\n",
    "model_lr = Model([Affine(\"logits\", 784, 1), Sigmoid(\"sigmoid\")])"
   ]
  },
  {
   "cell_type": "code",
   "execution_count": 20,
   "id": "6eede77a",
   "metadata": {
    "execution": {
     "iopub.execute_input": "2022-06-19T10:10:10.629405Z",
     "iopub.status.busy": "2022-06-19T10:10:10.621365Z",
     "iopub.status.idle": "2022-06-19T10:10:10.635785Z",
     "shell.execute_reply": "2022-06-19T10:10:10.635139Z"
    },
    "papermill": {
     "duration": 0.056401,
     "end_time": "2022-06-19T10:10:10.635930",
     "exception": false,
     "start_time": "2022-06-19T10:10:10.579529",
     "status": "completed"
    },
    "tags": []
   },
   "outputs": [],
   "source": [
    "nn_learner = Learner(loss, model_nn, opt, config.num_epochs)\n",
    "acc_nn = ClfCallback(nn_learner, config.bs, training_data_x , testing_data_x, training_data_y, testing_data_y)\n",
    "nn_learner.set_callbacks([acc_nn])"
   ]
  },
  {
   "cell_type": "code",
   "execution_count": 21,
   "id": "877b6cc7",
   "metadata": {
    "execution": {
     "iopub.execute_input": "2022-06-19T10:10:10.713537Z",
     "iopub.status.busy": "2022-06-19T10:10:10.710242Z",
     "iopub.status.idle": "2022-06-19T10:10:10.727066Z",
     "shell.execute_reply": "2022-06-19T10:10:10.726459Z"
    },
    "papermill": {
     "duration": 0.056367,
     "end_time": "2022-06-19T10:10:10.727200",
     "exception": false,
     "start_time": "2022-06-19T10:10:10.670833",
     "status": "completed"
    },
    "tags": []
   },
   "outputs": [],
   "source": [
    "lr_learner = Learner(loss, model_lr, opt, config.num_epochs)\n",
    "acc_lr = ClfCallback(lr_learner, config.bs, training_data_x , testing_data_x, training_data_y, testing_data_y)\n",
    "lr_learner.set_callbacks([acc_lr])"
   ]
  },
  {
   "cell_type": "code",
   "execution_count": 22,
   "id": "d9b133c3",
   "metadata": {
    "execution": {
     "iopub.execute_input": "2022-06-19T10:10:10.803114Z",
     "iopub.status.busy": "2022-06-19T10:10:10.802325Z",
     "iopub.status.idle": "2022-06-19T10:12:36.150545Z",
     "shell.execute_reply": "2022-06-19T10:12:36.151686Z"
    },
    "papermill": {
     "duration": 145.38815,
     "end_time": "2022-06-19T10:12:36.151893",
     "exception": false,
     "start_time": "2022-06-19T10:10:10.763743",
     "status": "completed"
    },
    "tags": []
   },
   "outputs": [
    {
     "name": "stdout",
     "output_type": "stream",
     "text": [
      "Epoch 0, Loss 0.2307\n",
      "Training Accuracy: 0.7110, Testing Accuracy: 0.7263\n",
      "\n"
     ]
    },
    {
     "name": "stdout",
     "output_type": "stream",
     "text": [
      "Epoch 10, Loss 0.0725\n",
      "Training Accuracy: 0.9296, Testing Accuracy: 0.9380\n",
      "\n"
     ]
    },
    {
     "name": "stdout",
     "output_type": "stream",
     "text": [
      "Epoch 20, Loss 0.0476\n",
      "Training Accuracy: 0.9494, Testing Accuracy: 0.9561\n",
      "\n"
     ]
    },
    {
     "name": "stdout",
     "output_type": "stream",
     "text": [
      "Epoch 30, Loss 0.0389\n",
      "Training Accuracy: 0.9575, Testing Accuracy: 0.9642\n",
      "\n"
     ]
    },
    {
     "name": "stdout",
     "output_type": "stream",
     "text": [
      "Epoch 40, Loss 0.0343\n",
      "Training Accuracy: 0.9610, Testing Accuracy: 0.9652\n",
      "\n"
     ]
    },
    {
     "name": "stdout",
     "output_type": "stream",
     "text": [
      "Epoch 50, Loss 0.0313\n",
      "Training Accuracy: 0.9639, Testing Accuracy: 0.9688\n",
      "\n"
     ]
    },
    {
     "name": "stdout",
     "output_type": "stream",
     "text": [
      "Epoch 60, Loss 0.0292\n",
      "Training Accuracy: 0.9659, Testing Accuracy: 0.9708\n",
      "\n"
     ]
    },
    {
     "name": "stdout",
     "output_type": "stream",
     "text": [
      "Epoch 70, Loss 0.0276\n",
      "Training Accuracy: 0.9676, Testing Accuracy: 0.9698\n",
      "\n"
     ]
    },
    {
     "name": "stdout",
     "output_type": "stream",
     "text": [
      "Epoch 80, Loss 0.0263\n",
      "Training Accuracy: 0.9686, Testing Accuracy: 0.9693\n",
      "\n"
     ]
    },
    {
     "name": "stdout",
     "output_type": "stream",
     "text": [
      "Epoch 90, Loss 0.0252\n",
      "Training Accuracy: 0.9704, Testing Accuracy: 0.9693\n",
      "\n"
     ]
    },
    {
     "name": "stdout",
     "output_type": "stream",
     "text": [
      "Epoch 100, Loss 0.0243\n",
      "Training Accuracy: 0.9713, Testing Accuracy: 0.9703\n",
      "\n"
     ]
    },
    {
     "name": "stdout",
     "output_type": "stream",
     "text": [
      "Epoch 110, Loss 0.0234\n",
      "Training Accuracy: 0.9724, Testing Accuracy: 0.9718\n",
      "\n"
     ]
    },
    {
     "name": "stdout",
     "output_type": "stream",
     "text": [
      "Epoch 120, Loss 0.0227\n",
      "Training Accuracy: 0.9734, Testing Accuracy: 0.9728\n",
      "\n"
     ]
    },
    {
     "name": "stdout",
     "output_type": "stream",
     "text": [
      "Epoch 130, Loss 0.022\n",
      "Training Accuracy: 0.9742, Testing Accuracy: 0.9733\n",
      "\n"
     ]
    },
    {
     "name": "stdout",
     "output_type": "stream",
     "text": [
      "Epoch 140, Loss 0.0214\n",
      "Training Accuracy: 0.9753, Testing Accuracy: 0.9733\n",
      "\n"
     ]
    },
    {
     "name": "stdout",
     "output_type": "stream",
     "text": [
      "Epoch 150, Loss 0.0208\n",
      "Training Accuracy: 0.9762, Testing Accuracy: 0.9733\n",
      "\n"
     ]
    },
    {
     "name": "stdout",
     "output_type": "stream",
     "text": [
      "Epoch 160, Loss 0.0202\n",
      "Training Accuracy: 0.9769, Testing Accuracy: 0.9748\n",
      "\n"
     ]
    },
    {
     "name": "stdout",
     "output_type": "stream",
     "text": [
      "Epoch 170, Loss 0.0197\n",
      "Training Accuracy: 0.9779, Testing Accuracy: 0.9753\n",
      "\n"
     ]
    },
    {
     "name": "stdout",
     "output_type": "stream",
     "text": [
      "Epoch 180, Loss 0.0193\n",
      "Training Accuracy: 0.9791, Testing Accuracy: 0.9768\n",
      "\n"
     ]
    },
    {
     "name": "stdout",
     "output_type": "stream",
     "text": [
      "Epoch 190, Loss 0.0188\n",
      "Training Accuracy: 0.9792, Testing Accuracy: 0.9773\n",
      "\n"
     ]
    },
    {
     "name": "stdout",
     "output_type": "stream",
     "text": [
      "Epoch 200, Loss 0.0184\n",
      "Training Accuracy: 0.9799, Testing Accuracy: 0.9773\n",
      "\n"
     ]
    },
    {
     "name": "stdout",
     "output_type": "stream",
     "text": [
      "Epoch 210, Loss 0.018\n",
      "Training Accuracy: 0.9801, Testing Accuracy: 0.9773\n",
      "\n"
     ]
    },
    {
     "name": "stdout",
     "output_type": "stream",
     "text": [
      "Epoch 220, Loss 0.0176\n",
      "Training Accuracy: 0.9802, Testing Accuracy: 0.9773\n",
      "\n"
     ]
    },
    {
     "name": "stdout",
     "output_type": "stream",
     "text": [
      "Epoch 230, Loss 0.0173\n",
      "Training Accuracy: 0.9806, Testing Accuracy: 0.9778\n",
      "\n"
     ]
    },
    {
     "name": "stdout",
     "output_type": "stream",
     "text": [
      "Epoch 240, Loss 0.0169\n",
      "Training Accuracy: 0.9808, Testing Accuracy: 0.9778\n",
      "\n"
     ]
    },
    {
     "data": {
      "text/plain": [
       "0.009508889269953594"
      ]
     },
     "execution_count": 22,
     "metadata": {},
     "output_type": "execute_result"
    }
   ],
   "source": [
    "nn_learner.train_loop(dl)"
   ]
  },
  {
   "cell_type": "code",
   "execution_count": 23,
   "id": "e0163366",
   "metadata": {
    "execution": {
     "iopub.execute_input": "2022-06-19T10:12:36.254877Z",
     "iopub.status.busy": "2022-06-19T10:12:36.254067Z",
     "iopub.status.idle": "2022-06-19T10:12:57.064539Z",
     "shell.execute_reply": "2022-06-19T10:12:57.065582Z"
    },
    "papermill": {
     "duration": 20.866829,
     "end_time": "2022-06-19T10:12:57.065761",
     "exception": false,
     "start_time": "2022-06-19T10:12:36.198932",
     "status": "completed"
    },
    "tags": []
   },
   "outputs": [
    {
     "name": "stdout",
     "output_type": "stream",
     "text": [
      "Epoch 0, Loss 0.2547\n",
      "Training Accuracy: 0.6295, Testing Accuracy: 0.6235\n",
      "\n"
     ]
    },
    {
     "name": "stdout",
     "output_type": "stream",
     "text": [
      "Epoch 10, Loss 0.1064\n",
      "Training Accuracy: 0.9007, Testing Accuracy: 0.9143\n",
      "\n"
     ]
    },
    {
     "name": "stdout",
     "output_type": "stream",
     "text": [
      "Epoch 20, Loss 0.0807\n",
      "Training Accuracy: 0.9252, Testing Accuracy: 0.9330\n",
      "\n"
     ]
    },
    {
     "name": "stdout",
     "output_type": "stream",
     "text": [
      "Epoch 30, Loss 0.0689\n",
      "Training Accuracy: 0.9354, Testing Accuracy: 0.9461\n",
      "\n"
     ]
    },
    {
     "name": "stdout",
     "output_type": "stream",
     "text": [
      "Epoch 40, Loss 0.0619\n",
      "Training Accuracy: 0.9422, Testing Accuracy: 0.9546\n",
      "\n"
     ]
    },
    {
     "name": "stdout",
     "output_type": "stream",
     "text": [
      "Epoch 50, Loss 0.0572\n",
      "Training Accuracy: 0.9457, Testing Accuracy: 0.9582\n",
      "\n"
     ]
    },
    {
     "name": "stdout",
     "output_type": "stream",
     "text": [
      "Epoch 60, Loss 0.0538\n",
      "Training Accuracy: 0.9484, Testing Accuracy: 0.9592\n",
      "\n"
     ]
    },
    {
     "name": "stdout",
     "output_type": "stream",
     "text": [
      "Epoch 70, Loss 0.0512\n",
      "Training Accuracy: 0.9502, Testing Accuracy: 0.9617\n",
      "\n"
     ]
    },
    {
     "name": "stdout",
     "output_type": "stream",
     "text": [
      "Epoch 80, Loss 0.0491\n",
      "Training Accuracy: 0.9517, Testing Accuracy: 0.9637\n",
      "\n"
     ]
    },
    {
     "name": "stdout",
     "output_type": "stream",
     "text": [
      "Epoch 90, Loss 0.0474\n",
      "Training Accuracy: 0.9523, Testing Accuracy: 0.9647\n",
      "\n"
     ]
    },
    {
     "name": "stdout",
     "output_type": "stream",
     "text": [
      "Epoch 100, Loss 0.0459\n",
      "Training Accuracy: 0.9539, Testing Accuracy: 0.9657\n",
      "\n"
     ]
    },
    {
     "name": "stdout",
     "output_type": "stream",
     "text": [
      "Epoch 110, Loss 0.0447\n",
      "Training Accuracy: 0.9545, Testing Accuracy: 0.9662\n",
      "\n"
     ]
    },
    {
     "name": "stdout",
     "output_type": "stream",
     "text": [
      "Epoch 120, Loss 0.0436\n",
      "Training Accuracy: 0.9546, Testing Accuracy: 0.9672\n",
      "\n"
     ]
    },
    {
     "name": "stdout",
     "output_type": "stream",
     "text": [
      "Epoch 130, Loss 0.0427\n",
      "Training Accuracy: 0.9556, Testing Accuracy: 0.9682\n",
      "\n"
     ]
    },
    {
     "name": "stdout",
     "output_type": "stream",
     "text": [
      "Epoch 140, Loss 0.0419\n",
      "Training Accuracy: 0.9564, Testing Accuracy: 0.9682\n",
      "\n"
     ]
    },
    {
     "name": "stdout",
     "output_type": "stream",
     "text": [
      "Epoch 150, Loss 0.0411\n",
      "Training Accuracy: 0.9569, Testing Accuracy: 0.9682\n",
      "\n"
     ]
    },
    {
     "name": "stdout",
     "output_type": "stream",
     "text": [
      "Epoch 160, Loss 0.0405\n",
      "Training Accuracy: 0.9577, Testing Accuracy: 0.9682\n",
      "\n"
     ]
    },
    {
     "name": "stdout",
     "output_type": "stream",
     "text": [
      "Epoch 170, Loss 0.0398\n",
      "Training Accuracy: 0.9581, Testing Accuracy: 0.9677\n",
      "\n"
     ]
    },
    {
     "name": "stdout",
     "output_type": "stream",
     "text": [
      "Epoch 180, Loss 0.0393\n",
      "Training Accuracy: 0.9587, Testing Accuracy: 0.9677\n",
      "\n"
     ]
    },
    {
     "name": "stdout",
     "output_type": "stream",
     "text": [
      "Epoch 190, Loss 0.0388\n",
      "Training Accuracy: 0.9589, Testing Accuracy: 0.9677\n",
      "\n"
     ]
    },
    {
     "name": "stdout",
     "output_type": "stream",
     "text": [
      "Epoch 200, Loss 0.0383\n",
      "Training Accuracy: 0.9591, Testing Accuracy: 0.9682\n",
      "\n"
     ]
    },
    {
     "name": "stdout",
     "output_type": "stream",
     "text": [
      "Epoch 210, Loss 0.0379\n",
      "Training Accuracy: 0.9594, Testing Accuracy: 0.9682\n",
      "\n"
     ]
    },
    {
     "name": "stdout",
     "output_type": "stream",
     "text": [
      "Epoch 220, Loss 0.0375\n",
      "Training Accuracy: 0.9596, Testing Accuracy: 0.9682\n",
      "\n"
     ]
    },
    {
     "name": "stdout",
     "output_type": "stream",
     "text": [
      "Epoch 230, Loss 0.0371\n",
      "Training Accuracy: 0.9600, Testing Accuracy: 0.9682\n",
      "\n"
     ]
    },
    {
     "name": "stdout",
     "output_type": "stream",
     "text": [
      "Epoch 240, Loss 0.0367\n",
      "Training Accuracy: 0.9603, Testing Accuracy: 0.9688\n",
      "\n"
     ]
    },
    {
     "data": {
      "text/plain": [
       "0.07027821084437523"
      ]
     },
     "execution_count": 23,
     "metadata": {},
     "output_type": "execute_result"
    }
   ],
   "source": [
    "lr_learner.train_loop(dl)"
   ]
  },
  {
   "cell_type": "code",
   "execution_count": 24,
   "id": "ca410940",
   "metadata": {
    "execution": {
     "iopub.execute_input": "2022-06-19T10:12:57.189040Z",
     "iopub.status.busy": "2022-06-19T10:12:57.188062Z",
     "iopub.status.idle": "2022-06-19T10:12:57.507607Z",
     "shell.execute_reply": "2022-06-19T10:12:57.513286Z"
    },
    "papermill": {
     "duration": 0.387931,
     "end_time": "2022-06-19T10:12:57.513505",
     "exception": false,
     "start_time": "2022-06-19T10:12:57.125574",
     "status": "completed"
    },
    "tags": []
   },
   "outputs": [
    {
     "data": {
      "text/plain": [
       "<matplotlib.legend.Legend at 0x7f7a90508a58>"
      ]
     },
     "execution_count": 24,
     "metadata": {},
     "output_type": "execute_result"
    },
    {
     "data": {
      "image/png": "[encoded data removed]",
      "text/plain": [
       "<Figure size 1080x720 with 1 Axes>"
      ]
     },
     "metadata": {
      "needs_background": "light"
     },
     "output_type": "display_data"
    }
   ],
   "source": [
    "#comparing the results of NN and LR\n",
    "plt.figure(figsize=(15,10))\n",
    "\n",
    "# Neural Network plots\n",
    "plt.plot(acc_nn.accuracies, 'r-', label = \"Training Accuracies - NN\")\n",
    "plt.plot(acc_nn.test_accuracies, 'g-', label = \"Testing Accuracies - NN\")\n",
    "\n",
    "# Logistic Regression plots\n",
    "plt.plot(acc_lr.accuracies, 'k-', label = \"Training Accuracies - LR\")\n",
    "plt.plot(acc_lr.test_accuracies, 'b-', label = \"Testing Accuracies - LR\")\n",
    "plt.legend()"
   ]
  },
  {
   "cell_type": "markdown",
   "id": "80dfb35c",
   "metadata": {
    "papermill": {
     "duration": 0.055672,
     "end_time": "2022-06-19T10:12:57.623585",
     "exception": false,
     "start_time": "2022-06-19T10:12:57.567913",
     "status": "completed"
    },
    "tags": []
   },
   "source": [
    "#### Plotting the outputs of this layer of the NN.\n"
   ]
  },
  {
   "cell_type": "code",
   "execution_count": 25,
   "id": "45eb2ff5",
   "metadata": {
    "execution": {
     "iopub.execute_input": "2022-06-19T10:12:57.740907Z",
     "iopub.status.busy": "2022-06-19T10:12:57.739372Z",
     "iopub.status.idle": "2022-06-19T10:12:57.767516Z",
     "shell.execute_reply": "2022-06-19T10:12:57.768087Z"
    },
    "papermill": {
     "duration": 0.089721,
     "end_time": "2022-06-19T10:12:57.768372",
     "exception": false,
     "start_time": "2022-06-19T10:12:57.678651",
     "status": "completed"
    },
    "tags": []
   },
   "outputs": [],
   "source": [
    "new_model = Model(layers[:-2])\n",
    "testing_plot = new_model(testing_data_x)"
   ]
  },
  {
   "cell_type": "code",
   "execution_count": 26,
   "id": "4c0a5485",
   "metadata": {
    "execution": {
     "iopub.execute_input": "2022-06-19T10:12:57.885048Z",
     "iopub.status.busy": "2022-06-19T10:12:57.884121Z",
     "iopub.status.idle": "2022-06-19T10:12:58.162687Z",
     "shell.execute_reply": "2022-06-19T10:12:58.163302Z"
    },
    "papermill": {
     "duration": 0.340756,
     "end_time": "2022-06-19T10:12:58.163478",
     "exception": false,
     "start_time": "2022-06-19T10:12:57.822722",
     "status": "completed"
    },
    "tags": []
   },
   "outputs": [
    {
     "data": {
      "text/plain": [
       "Text(0.5, 1.0, 'Outputs')"
      ]
     },
     "execution_count": 26,
     "metadata": {},
     "output_type": "execute_result"
    },
    {
     "data": {
      "image/png": "[encoded data removed]",
      "text/plain": [
       "<Figure size 576x504 with 1 Axes>"
      ]
     },
     "metadata": {
      "needs_background": "light"
     },
     "output_type": "display_data"
    }
   ],
   "source": [
    "# Plotting the scatter plot of points and color coding by class\n",
    "plt.figure(figsize=(8,7))\n",
    "plt.scatter(testing_plot[:,0], testing_plot[:,1], alpha = 0.1, c = y_test.ravel());\n",
    "plt.title('Outputs')"
   ]
  },
  {
   "cell_type": "markdown",
   "id": "a74fcf8f",
   "metadata": {
    "papermill": {
     "duration": 0.086795,
     "end_time": "2022-06-19T10:12:58.309123",
     "exception": false,
     "start_time": "2022-06-19T10:12:58.222328",
     "status": "completed"
    },
    "tags": []
   },
   "source": [
    "Probability contours"
   ]
  },
  {
   "cell_type": "code",
   "execution_count": 27,
   "id": "d0afc8e3",
   "metadata": {
    "execution": {
     "iopub.execute_input": "2022-06-19T10:12:58.432310Z",
     "iopub.status.busy": "2022-06-19T10:12:58.431563Z",
     "iopub.status.idle": "2022-06-19T10:12:58.446461Z",
     "shell.execute_reply": "2022-06-19T10:12:58.445768Z"
    },
    "papermill": {
     "duration": 0.078648,
     "end_time": "2022-06-19T10:12:58.446676",
     "exception": false,
     "start_time": "2022-06-19T10:12:58.368028",
     "status": "completed"
    },
    "tags": []
   },
   "outputs": [],
   "source": [
    "model_prob = Model(layers[-2:]) "
   ]
  },
  {
   "cell_type": "code",
   "execution_count": 28,
   "id": "9b96e238",
   "metadata": {
    "execution": {
     "iopub.execute_input": "2022-06-19T10:12:58.570245Z",
     "iopub.status.busy": "2022-06-19T10:12:58.569354Z",
     "iopub.status.idle": "2022-06-19T10:12:58.584122Z",
     "shell.execute_reply": "2022-06-19T10:12:58.584678Z"
    },
    "papermill": {
     "duration": 0.080495,
     "end_time": "2022-06-19T10:12:58.584853",
     "exception": false,
     "start_time": "2022-06-19T10:12:58.504358",
     "status": "completed"
    },
    "tags": []
   },
   "outputs": [],
   "source": [
    "#creating the x and y ranges according to the above generated plot.\n",
    "x_range = np.linspace(-4, 1, 100) \n",
    "y_range = np.linspace(-6, 6, 100) \n",
    "x_grid, y_grid = np.meshgrid(x_range, y_range) # x_grid and y_grig are of size 100 X 100\n",
    "\n",
    "# converting x_grid and y_grid to continuous arrays\n",
    "x_gridflat = np.ravel(x_grid)\n",
    "y_gridflat = np.ravel(y_grid)\n",
    "\n",
    "# The last layer of the current model takes two columns as input. Hence transpose of np.vstack() is required.\n",
    "X = np.vstack((x_gridflat, y_gridflat)).T\n",
    "\n",
    "prob_contour = model_prob(X).reshape(100,100) "
   ]
  },
  {
   "cell_type": "code",
   "execution_count": 29,
   "id": "da72499a",
   "metadata": {
    "execution": {
     "iopub.execute_input": "2022-06-19T10:12:58.710022Z",
     "iopub.status.busy": "2022-06-19T10:12:58.709208Z",
     "iopub.status.idle": "2022-06-19T10:12:59.031350Z",
     "shell.execute_reply": "2022-06-19T10:12:59.031912Z"
    },
    "papermill": {
     "duration": 0.388884,
     "end_time": "2022-06-19T10:12:59.032106",
     "exception": false,
     "start_time": "2022-06-19T10:12:58.643222",
     "status": "completed"
    },
    "tags": []
   },
   "outputs": [
    {
     "data": {
      "image/png": "[encoded data removed]",
      "text/plain": [
       "<Figure size 720x648 with 1 Axes>"
      ]
     },
     "metadata": {
      "needs_background": "light"
     },
     "output_type": "display_data"
    }
   ],
   "source": [
    "plt.figure(figsize=(10,9))\n",
    "plt.scatter(testing_plot[:,0], testing_plot[:,1], alpha = 0.1, c = y_test.ravel())\n",
    "contours = plt.contour(x_grid,y_grid,prob_contour)\n",
    "plt.title('Probability Contours')\n",
    "plt.clabel(contours, inline = True );"
   ]
  },
  {
   "cell_type": "code",
   "execution_count": null,
   "id": "e81b4ac7",
   "metadata": {
    "papermill": {
     "duration": 0.057555,
     "end_time": "2022-06-19T10:12:59.148768",
     "exception": false,
     "start_time": "2022-06-19T10:12:59.091213",
     "status": "completed"
    },
    "tags": []
   },
   "outputs": [],
   "source": []
  }
 ],
 "metadata": {
  "kernelspec": {
   "display_name": "Python 3",
   "language": "python",
   "name": "python3"
  },
  "language_info": {
   "codemirror_mode": {
    "name": "ipython",
    "version": 3
   },
   "file_extension": ".py",
   "mimetype": "text/x-python",
   "name": "python",
   "nbconvert_exporter": "python",
   "pygments_lexer": "ipython3",
   "version": "3.6.15"
  },
  "papermill": {
   "default_parameters": {},
   "duration": 176.974603,
   "end_time": "2022-06-19T10:12:59.629987",
   "environment_variables": {},
   "exception": null,
   "input_path": "2020-08-11-part2.ipynb",
   "output_path": "2020-08-11-part2.ipynb",
   "parameters": {},
   "start_time": "2022-06-19T10:10:02.655384",
   "version": "2.3.3"
  }
 },
 "nbformat": 4,
 "nbformat_minor": 5
}