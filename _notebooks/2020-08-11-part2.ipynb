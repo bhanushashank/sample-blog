{
 "cells": [
  {
   "cell_type": "markdown",
   "id": "98380cd3",
   "metadata": {
    "papermill": {
     "duration": 0.0362,
     "end_time": "2022-05-25T10:12:29.658478",
     "exception": false,
     "start_time": "2022-05-25T10:12:29.622278",
     "status": "completed"
    },
    "tags": []
   },
   "source": [
    "# Distinguish Your Own Digits (DYOD)"
   ]
  },
  {
   "cell_type": "markdown",
   "id": "ef31240d",
   "metadata": {
    "papermill": {
     "duration": 0.028988,
     "end_time": "2022-05-25T10:12:29.717583",
     "exception": false,
     "start_time": "2022-05-25T10:12:29.688595",
     "status": "completed"
    },
    "tags": []
   },
   "source": [
    "You are going to write a classifier that distinguishes between the number 3 and number 8."
   ]
  },
  {
   "cell_type": "code",
   "execution_count": 1,
   "id": "b15c8646",
   "metadata": {
    "execution": {
     "iopub.execute_input": "2022-05-25T10:12:29.789692Z",
     "iopub.status.busy": "2022-05-25T10:12:29.788801Z",
     "iopub.status.idle": "2022-05-25T10:12:29.800971Z",
     "shell.execute_reply": "2022-05-25T10:12:29.800095Z"
    },
    "papermill": {
     "duration": 0.054651,
     "end_time": "2022-05-25T10:12:29.801149",
     "exception": false,
     "start_time": "2022-05-25T10:12:29.746498",
     "status": "completed"
    },
    "tags": []
   },
   "outputs": [],
   "source": [
    "%load_ext autoreload\n",
    "%autoreload 2"
   ]
  },
  {
   "cell_type": "code",
   "execution_count": 2,
   "id": "22ef38dc",
   "metadata": {
    "execution": {
     "iopub.execute_input": "2022-05-25T10:12:29.866375Z",
     "iopub.status.busy": "2022-05-25T10:12:29.865591Z",
     "iopub.status.idle": "2022-05-25T10:12:30.472052Z",
     "shell.execute_reply": "2022-05-25T10:12:30.473016Z"
    },
    "papermill": {
     "duration": 0.641753,
     "end_time": "2022-05-25T10:12:30.473189",
     "exception": false,
     "start_time": "2022-05-25T10:12:29.831436",
     "status": "completed"
    },
    "tags": []
   },
   "outputs": [],
   "source": [
    "%matplotlib inline\n",
    "import numpy as np\n",
    "import matplotlib.pyplot as plt\n",
    "import pandas as pd"
   ]
  },
  {
   "cell_type": "markdown",
   "id": "ba036198",
   "metadata": {
    "papermill": {
     "duration": 0.028288,
     "end_time": "2022-05-25T10:12:30.531430",
     "exception": false,
     "start_time": "2022-05-25T10:12:30.503142",
     "status": "completed"
    },
    "tags": []
   },
   "source": [
    "From the command line run `pip install mnist`. This is a library that will help you bring down the mnist dataset. If you run this from a notebook, you need to put  `!pip install mnist` in a cell by itself."
   ]
  },
  {
   "cell_type": "code",
   "execution_count": 3,
   "id": "bb6ad8a1",
   "metadata": {
    "execution": {
     "iopub.execute_input": "2022-05-25T10:12:30.592443Z",
     "iopub.status.busy": "2022-05-25T10:12:30.591713Z",
     "iopub.status.idle": "2022-05-25T10:12:32.453683Z",
     "shell.execute_reply": "2022-05-25T10:12:32.453063Z"
    },
    "papermill": {
     "duration": 1.895145,
     "end_time": "2022-05-25T10:12:32.453823",
     "exception": false,
     "start_time": "2022-05-25T10:12:30.558678",
     "status": "completed"
    },
    "tags": []
   },
   "outputs": [
    {
     "name": "stdout",
     "output_type": "stream",
     "text": [
      "Collecting mnist\r\n",
      "  Downloading mnist-0.2.2-py2.py3-none-any.whl (3.5 kB)\r\n",
      "Requirement already satisfied: numpy in /opt/hostedtoolcache/Python/3.6.15/x64/lib/python3.6/site-packages (from mnist) (1.19.5)\r\n"
     ]
    },
    {
     "name": "stdout",
     "output_type": "stream",
     "text": [
      "Installing collected packages: mnist\r\n"
     ]
    },
    {
     "name": "stdout",
     "output_type": "stream",
     "text": [
      "Successfully installed mnist-0.2.2\r\n"
     ]
    }
   ],
   "source": [
    "!pip install mnist"
   ]
  },
  {
   "cell_type": "markdown",
   "id": "69df9c9a",
   "metadata": {
    "papermill": {
     "duration": 0.027818,
     "end_time": "2022-05-25T10:12:32.510989",
     "exception": false,
     "start_time": "2022-05-25T10:12:32.483171",
     "status": "completed"
    },
    "tags": []
   },
   "source": [
    "## Preparing the Data"
   ]
  },
  {
   "cell_type": "code",
   "execution_count": 4,
   "id": "7f69d806",
   "metadata": {
    "execution": {
     "iopub.execute_input": "2022-05-25T10:12:32.571289Z",
     "iopub.status.busy": "2022-05-25T10:12:32.570577Z",
     "iopub.status.idle": "2022-05-25T10:12:32.586397Z",
     "shell.execute_reply": "2022-05-25T10:12:32.585831Z"
    },
    "papermill": {
     "duration": 0.047971,
     "end_time": "2022-05-25T10:12:32.586527",
     "exception": false,
     "start_time": "2022-05-25T10:12:32.538556",
     "status": "completed"
    },
    "tags": []
   },
   "outputs": [],
   "source": [
    "import mnist"
   ]
  },
  {
   "cell_type": "code",
   "execution_count": 5,
   "id": "a411e44f",
   "metadata": {
    "execution": {
     "iopub.execute_input": "2022-05-25T10:12:32.654658Z",
     "iopub.status.busy": "2022-05-25T10:12:32.653907Z",
     "iopub.status.idle": "2022-05-25T10:12:33.262662Z",
     "shell.execute_reply": "2022-05-25T10:12:33.262016Z"
    },
    "papermill": {
     "duration": 0.643904,
     "end_time": "2022-05-25T10:12:33.262795",
     "exception": false,
     "start_time": "2022-05-25T10:12:32.618891",
     "status": "completed"
    },
    "tags": []
   },
   "outputs": [],
   "source": [
    "train_images = mnist.train_images()\n",
    "train_labels = mnist.train_labels()"
   ]
  },
  {
   "cell_type": "code",
   "execution_count": 6,
   "id": "dceab3a5",
   "metadata": {
    "execution": {
     "iopub.execute_input": "2022-05-25T10:12:33.327853Z",
     "iopub.status.busy": "2022-05-25T10:12:33.327164Z",
     "iopub.status.idle": "2022-05-25T10:12:33.342438Z",
     "shell.execute_reply": "2022-05-25T10:12:33.341869Z"
    },
    "papermill": {
     "duration": 0.050529,
     "end_time": "2022-05-25T10:12:33.342566",
     "exception": false,
     "start_time": "2022-05-25T10:12:33.292037",
     "status": "completed"
    },
    "tags": []
   },
   "outputs": [
    {
     "data": {
      "text/plain": [
       "((60000, 28, 28), (60000,))"
      ]
     },
     "execution_count": 6,
     "metadata": {},
     "output_type": "execute_result"
    }
   ],
   "source": [
    "train_images.shape, train_labels.shape"
   ]
  },
  {
   "cell_type": "code",
   "execution_count": 7,
   "id": "f50dc2bb",
   "metadata": {
    "execution": {
     "iopub.execute_input": "2022-05-25T10:12:33.408145Z",
     "iopub.status.busy": "2022-05-25T10:12:33.407448Z",
     "iopub.status.idle": "2022-05-25T10:12:33.635420Z",
     "shell.execute_reply": "2022-05-25T10:12:33.634757Z"
    },
    "papermill": {
     "duration": 0.26205,
     "end_time": "2022-05-25T10:12:33.635579",
     "exception": false,
     "start_time": "2022-05-25T10:12:33.373529",
     "status": "completed"
    },
    "tags": []
   },
   "outputs": [],
   "source": [
    "test_images = mnist.test_images()\n",
    "test_labels = mnist.test_labels()"
   ]
  },
  {
   "cell_type": "code",
   "execution_count": 8,
   "id": "fc38cf1b",
   "metadata": {
    "execution": {
     "iopub.execute_input": "2022-05-25T10:12:33.707170Z",
     "iopub.status.busy": "2022-05-25T10:12:33.706386Z",
     "iopub.status.idle": "2022-05-25T10:12:33.718144Z",
     "shell.execute_reply": "2022-05-25T10:12:33.717393Z"
    },
    "papermill": {
     "duration": 0.050807,
     "end_time": "2022-05-25T10:12:33.718277",
     "exception": false,
     "start_time": "2022-05-25T10:12:33.667470",
     "status": "completed"
    },
    "tags": []
   },
   "outputs": [
    {
     "data": {
      "text/plain": [
       "((10000, 28, 28), (10000,))"
      ]
     },
     "execution_count": 8,
     "metadata": {},
     "output_type": "execute_result"
    }
   ],
   "source": [
    "test_images.shape, test_labels.shape"
   ]
  },
  {
   "cell_type": "code",
   "execution_count": 9,
   "id": "f9ed8fe0",
   "metadata": {
    "execution": {
     "iopub.execute_input": "2022-05-25T10:12:33.784499Z",
     "iopub.status.busy": "2022-05-25T10:12:33.783746Z",
     "iopub.status.idle": "2022-05-25T10:12:33.969922Z",
     "shell.execute_reply": "2022-05-25T10:12:33.969287Z"
    },
    "papermill": {
     "duration": 0.220534,
     "end_time": "2022-05-25T10:12:33.970069",
     "exception": false,
     "start_time": "2022-05-25T10:12:33.749535",
     "status": "completed"
    },
    "tags": []
   },
   "outputs": [
    {
     "name": "stdout",
     "output_type": "stream",
     "text": [
      "2\n"
     ]
    },
    {
     "data": {
      "text/plain": [
       "<matplotlib.image.AxesImage at 0x7f7bfcd45da0>"
      ]
     },
     "execution_count": 9,
     "metadata": {},
     "output_type": "execute_result"
    },
    {
     "data": {
      "image/png": "[encoded data removed]",
      "text/plain": [
       "<Figure size 432x288 with 1 Axes>"
      ]
     },
     "metadata": {
      "needs_background": "light"
     },
     "output_type": "display_data"
    }
   ],
   "source": [
    "image_index = 7776 # You may select anything up to 60,000\n",
    "print(train_labels[image_index]) \n",
    "plt.imshow(train_images[image_index], cmap='Greys')"
   ]
  },
  {
   "cell_type": "markdown",
   "id": "a8d2388d",
   "metadata": {
    "papermill": {
     "duration": 0.033022,
     "end_time": "2022-05-25T10:12:34.036720",
     "exception": false,
     "start_time": "2022-05-25T10:12:34.003698",
     "status": "completed"
    },
    "tags": []
   },
   "source": [
    "## Filter data to get 3 and 8 out"
   ]
  },
  {
   "cell_type": "code",
   "execution_count": 10,
   "id": "776f7fc7",
   "metadata": {
    "execution": {
     "iopub.execute_input": "2022-05-25T10:12:34.114663Z",
     "iopub.status.busy": "2022-05-25T10:12:34.113879Z",
     "iopub.status.idle": "2022-05-25T10:12:34.135337Z",
     "shell.execute_reply": "2022-05-25T10:12:34.134686Z"
    },
    "papermill": {
     "duration": 0.060522,
     "end_time": "2022-05-25T10:12:34.135491",
     "exception": false,
     "start_time": "2022-05-25T10:12:34.074969",
     "status": "completed"
    },
    "tags": []
   },
   "outputs": [],
   "source": [
    "train_filter = np.where((train_labels == 3 ) | (train_labels == 8))\n",
    "test_filter = np.where((test_labels == 3) | (test_labels == 8))\n",
    "X_train, y_train = train_images[train_filter], train_labels[train_filter]\n",
    "X_test, y_test = test_images[test_filter], test_labels[test_filter]"
   ]
  },
  {
   "cell_type": "markdown",
   "id": "948f0b7e",
   "metadata": {
    "papermill": {
     "duration": 0.031694,
     "end_time": "2022-05-25T10:12:34.199515",
     "exception": false,
     "start_time": "2022-05-25T10:12:34.167821",
     "status": "completed"
    },
    "tags": []
   },
   "source": [
    "We normalize the pizel values in the 0 to 1 range"
   ]
  },
  {
   "cell_type": "code",
   "execution_count": 11,
   "id": "ee4c2166",
   "metadata": {
    "execution": {
     "iopub.execute_input": "2022-05-25T10:12:34.267395Z",
     "iopub.status.busy": "2022-05-25T10:12:34.266657Z",
     "iopub.status.idle": "2022-05-25T10:12:34.326971Z",
     "shell.execute_reply": "2022-05-25T10:12:34.326286Z"
    },
    "papermill": {
     "duration": 0.096238,
     "end_time": "2022-05-25T10:12:34.327166",
     "exception": false,
     "start_time": "2022-05-25T10:12:34.230928",
     "status": "completed"
    },
    "tags": []
   },
   "outputs": [],
   "source": [
    "X_train = X_train/255.\n",
    "X_test = X_test/255."
   ]
  },
  {
   "cell_type": "markdown",
   "id": "ddcf4fab",
   "metadata": {
    "papermill": {
     "duration": 0.034977,
     "end_time": "2022-05-25T10:12:34.395957",
     "exception": false,
     "start_time": "2022-05-25T10:12:34.360980",
     "status": "completed"
    },
    "tags": []
   },
   "source": [
    "And setup the labels as 1 (when the digit is 3) and 0 (when the digit is 8)"
   ]
  },
  {
   "cell_type": "code",
   "execution_count": 12,
   "id": "7dc908f2",
   "metadata": {
    "execution": {
     "iopub.execute_input": "2022-05-25T10:12:34.466582Z",
     "iopub.status.busy": "2022-05-25T10:12:34.465831Z",
     "iopub.status.idle": "2022-05-25T10:12:34.479867Z",
     "shell.execute_reply": "2022-05-25T10:12:34.479150Z"
    },
    "papermill": {
     "duration": 0.0508,
     "end_time": "2022-05-25T10:12:34.479997",
     "exception": false,
     "start_time": "2022-05-25T10:12:34.429197",
     "status": "completed"
    },
    "tags": []
   },
   "outputs": [],
   "source": [
    "y_train = 1*(y_train==3)\n",
    "y_test = 1*(y_test==3)"
   ]
  },
  {
   "cell_type": "code",
   "execution_count": 13,
   "id": "01e4e969",
   "metadata": {
    "execution": {
     "iopub.execute_input": "2022-05-25T10:12:34.549572Z",
     "iopub.status.busy": "2022-05-25T10:12:34.548811Z",
     "iopub.status.idle": "2022-05-25T10:12:34.563263Z",
     "shell.execute_reply": "2022-05-25T10:12:34.562570Z"
    },
    "papermill": {
     "duration": 0.051344,
     "end_time": "2022-05-25T10:12:34.563390",
     "exception": false,
     "start_time": "2022-05-25T10:12:34.512046",
     "status": "completed"
    },
    "tags": []
   },
   "outputs": [
    {
     "data": {
      "text/plain": [
       "((11982, 28, 28), (1984, 28, 28))"
      ]
     },
     "execution_count": 13,
     "metadata": {},
     "output_type": "execute_result"
    }
   ],
   "source": [
    "X_train.shape, X_test.shape"
   ]
  },
  {
   "cell_type": "markdown",
   "id": "5ccf3f85",
   "metadata": {
    "papermill": {
     "duration": 0.031308,
     "end_time": "2022-05-25T10:12:34.626739",
     "exception": false,
     "start_time": "2022-05-25T10:12:34.595431",
     "status": "completed"
    },
    "tags": []
   },
   "source": [
    "We reshape the data to flatten the image pixels into a set of features or co-variates:"
   ]
  },
  {
   "cell_type": "code",
   "execution_count": 14,
   "id": "5286a4a3",
   "metadata": {
    "execution": {
     "iopub.execute_input": "2022-05-25T10:12:34.708442Z",
     "iopub.status.busy": "2022-05-25T10:12:34.702541Z",
     "iopub.status.idle": "2022-05-25T10:12:34.714174Z",
     "shell.execute_reply": "2022-05-25T10:12:34.713561Z"
    },
    "papermill": {
     "duration": 0.055821,
     "end_time": "2022-05-25T10:12:34.714313",
     "exception": false,
     "start_time": "2022-05-25T10:12:34.658492",
     "status": "completed"
    },
    "tags": []
   },
   "outputs": [
    {
     "data": {
      "text/plain": [
       "((11982, 784), (1984, 784))"
      ]
     },
     "execution_count": 14,
     "metadata": {},
     "output_type": "execute_result"
    }
   ],
   "source": [
    "X_train = X_train.reshape(X_train.shape[0], -1)\n",
    "X_test = X_test.reshape(X_test.shape[0], -1)\n",
    "X_train.shape, X_test.shape"
   ]
  },
  {
   "cell_type": "code",
   "execution_count": 15,
   "id": "73c5f88a",
   "metadata": {
    "execution": {
     "iopub.execute_input": "2022-05-25T10:12:34.786198Z",
     "iopub.status.busy": "2022-05-25T10:12:34.785417Z",
     "iopub.status.idle": "2022-05-25T10:12:34.806470Z",
     "shell.execute_reply": "2022-05-25T10:12:34.805848Z"
    },
    "papermill": {
     "duration": 0.05897,
     "end_time": "2022-05-25T10:12:34.806613",
     "exception": false,
     "start_time": "2022-05-25T10:12:34.747643",
     "status": "completed"
    },
    "tags": []
   },
   "outputs": [],
   "source": [
    "#Impoting functions from 'Kudzu'\n",
    "from kudzu.model import Model\n",
    "from kudzu.train import Learner\n",
    "from kudzu.optim import GD\n",
    "from kudzu.data import Data, Sampler,Dataloader\n",
    "\n",
    "from kudzu.callbacks import AccCallback\n",
    "from kudzu.callbacks import ClfCallback\n",
    "\n",
    "from kudzu.loss import MSE\n",
    "\n",
    "from kudzu.layer import Sigmoid,Relu\n",
    "from kudzu.layer import Affine"
   ]
  },
  {
   "cell_type": "markdown",
   "id": "bc01172a",
   "metadata": {
    "papermill": {
     "duration": 0.032643,
     "end_time": "2022-05-25T10:12:34.871620",
     "exception": false,
     "start_time": "2022-05-25T10:12:34.838977",
     "status": "completed"
    },
    "tags": []
   },
   "source": [
    "### Let us create a `Config` class, to store important parameters. \n",
    "This class essentially plays the role of a dictionary."
   ]
  },
  {
   "cell_type": "code",
   "execution_count": 16,
   "id": "978281aa",
   "metadata": {
    "execution": {
     "iopub.execute_input": "2022-05-25T10:12:34.940076Z",
     "iopub.status.busy": "2022-05-25T10:12:34.939346Z",
     "iopub.status.idle": "2022-05-25T10:12:34.953461Z",
     "shell.execute_reply": "2022-05-25T10:12:34.952718Z"
    },
    "papermill": {
     "duration": 0.050158,
     "end_time": "2022-05-25T10:12:34.953639",
     "exception": false,
     "start_time": "2022-05-25T10:12:34.903481",
     "status": "completed"
    },
    "tags": []
   },
   "outputs": [],
   "source": [
    "class Config:\n",
    "    pass\n",
    "config = Config()\n",
    "config.lr = 0.001\n",
    "config.num_epochs = 250\n",
    "config.bs = 50"
   ]
  },
  {
   "cell_type": "markdown",
   "id": "1385fa59",
   "metadata": {
    "papermill": {
     "duration": 0.033437,
     "end_time": "2022-05-25T10:12:35.019232",
     "exception": false,
     "start_time": "2022-05-25T10:12:34.985795",
     "status": "completed"
    },
    "tags": []
   },
   "source": [
    "### Running Models with the Training data\n",
    "Details about the network layers:\n",
    "- A first affine layer has 784 inputs and does 100 affine transforms. These are followed by a Relu\n",
    "- A second affine layer has 100 inputs from the 100 activations of the past layer, and does 100 affine transforms. These are followed by a Relu\n",
    "- A third affine layer has 100 activations and does 2 affine transformations to create an embedding for visualization. There is no non-linearity here.\n",
    "- A final \"logistic regression\" which has an affine transform from 2 inputs to 1 output, which is squeezed through a sigmoid.\n"
   ]
  },
  {
   "cell_type": "code",
   "execution_count": 17,
   "id": "2b9c66db",
   "metadata": {
    "execution": {
     "iopub.execute_input": "2022-05-25T10:12:35.087863Z",
     "iopub.status.busy": "2022-05-25T10:12:35.087144Z",
     "iopub.status.idle": "2022-05-25T10:12:35.101281Z",
     "shell.execute_reply": "2022-05-25T10:12:35.100606Z"
    },
    "papermill": {
     "duration": 0.050285,
     "end_time": "2022-05-25T10:12:35.101401",
     "exception": false,
     "start_time": "2022-05-25T10:12:35.051116",
     "status": "completed"
    },
    "tags": []
   },
   "outputs": [],
   "source": [
    "data = Data(X_train, y_train.reshape(-1,1))\n",
    "sampler = Sampler(data, config.bs, shuffle=True)\n",
    "\n",
    "dl = Dataloader(data, sampler)\n",
    "\n",
    "opt = GD(config.lr)\n",
    "loss = MSE()"
   ]
  },
  {
   "cell_type": "code",
   "execution_count": 18,
   "id": "b275e4c2",
   "metadata": {
    "execution": {
     "iopub.execute_input": "2022-05-25T10:12:35.167317Z",
     "iopub.status.busy": "2022-05-25T10:12:35.166574Z",
     "iopub.status.idle": "2022-05-25T10:12:35.179407Z",
     "shell.execute_reply": "2022-05-25T10:12:35.178747Z"
    },
    "papermill": {
     "duration": 0.047071,
     "end_time": "2022-05-25T10:12:35.179522",
     "exception": false,
     "start_time": "2022-05-25T10:12:35.132451",
     "status": "completed"
    },
    "tags": []
   },
   "outputs": [],
   "source": [
    "training_data_x = X_train\n",
    "testing_data_x = X_test\n",
    "training_data_y = y_train.reshape(-1,1)\n",
    "testing_data_y = y_test.reshape(-1,1)"
   ]
  },
  {
   "cell_type": "code",
   "execution_count": 19,
   "id": "76951160",
   "metadata": {
    "execution": {
     "iopub.execute_input": "2022-05-25T10:12:35.252929Z",
     "iopub.status.busy": "2022-05-25T10:12:35.252198Z",
     "iopub.status.idle": "2022-05-25T10:12:35.273268Z",
     "shell.execute_reply": "2022-05-25T10:12:35.273992Z"
    },
    "papermill": {
     "duration": 0.06258,
     "end_time": "2022-05-25T10:12:35.274140",
     "exception": false,
     "start_time": "2022-05-25T10:12:35.211560",
     "status": "completed"
    },
    "tags": []
   },
   "outputs": [
    {
     "name": "stdout",
     "output_type": "stream",
     "text": [
      "xavier\n",
      "xavier\n",
      "xavier\n",
      "xavier\n",
      "xavier\n"
     ]
    }
   ],
   "source": [
    "layers = [Affine(\"first\", 784, 100), Relu(\"first\"), Affine(\"second\", 100, 100), Relu(\"second\"), Affine(\"third\", 100, 2), Affine(\"last\", 2, 1), Sigmoid(\"last\")]\n",
    "model_nn = Model(layers)\n",
    "model_lr = Model([Affine(\"logits\", 784, 1), Sigmoid(\"sigmoid\")])"
   ]
  },
  {
   "cell_type": "code",
   "execution_count": 20,
   "id": "6eede77a",
   "metadata": {
    "execution": {
     "iopub.execute_input": "2022-05-25T10:12:35.346525Z",
     "iopub.status.busy": "2022-05-25T10:12:35.345665Z",
     "iopub.status.idle": "2022-05-25T10:12:35.359719Z",
     "shell.execute_reply": "2022-05-25T10:12:35.358989Z"
    },
    "papermill": {
     "duration": 0.052328,
     "end_time": "2022-05-25T10:12:35.359845",
     "exception": false,
     "start_time": "2022-05-25T10:12:35.307517",
     "status": "completed"
    },
    "tags": []
   },
   "outputs": [],
   "source": [
    "nn_learner = Learner(loss, model_nn, opt, config.num_epochs)\n",
    "acc_nn = ClfCallback(nn_learner, config.bs, training_data_x , testing_data_x, training_data_y, testing_data_y)\n",
    "nn_learner.set_callbacks([acc_nn])"
   ]
  },
  {
   "cell_type": "code",
   "execution_count": 21,
   "id": "877b6cc7",
   "metadata": {
    "execution": {
     "iopub.execute_input": "2022-05-25T10:12:35.435604Z",
     "iopub.status.busy": "2022-05-25T10:12:35.431933Z",
     "iopub.status.idle": "2022-05-25T10:12:35.446307Z",
     "shell.execute_reply": "2022-05-25T10:12:35.445594Z"
    },
    "papermill": {
     "duration": 0.050671,
     "end_time": "2022-05-25T10:12:35.446431",
     "exception": false,
     "start_time": "2022-05-25T10:12:35.395760",
     "status": "completed"
    },
    "tags": []
   },
   "outputs": [],
   "source": [
    "lr_learner = Learner(loss, model_lr, opt, config.num_epochs)\n",
    "acc_lr = ClfCallback(lr_learner, config.bs, training_data_x , testing_data_x, training_data_y, testing_data_y)\n",
    "lr_learner.set_callbacks([acc_lr])"
   ]
  },
  {
   "cell_type": "code",
   "execution_count": 22,
   "id": "d9b133c3",
   "metadata": {
    "execution": {
     "iopub.execute_input": "2022-05-25T10:12:35.521177Z",
     "iopub.status.busy": "2022-05-25T10:12:35.515546Z",
     "iopub.status.idle": "2022-05-25T10:14:40.999681Z",
     "shell.execute_reply": "2022-05-25T10:14:41.000216Z"
    },
    "papermill": {
     "duration": 125.521321,
     "end_time": "2022-05-25T10:14:41.000369",
     "exception": false,
     "start_time": "2022-05-25T10:12:35.479048",
     "status": "completed"
    },
    "tags": []
   },
   "outputs": [
    {
     "name": "stdout",
     "output_type": "stream",
     "text": [
      "Epoch 0, Loss 0.2475\n",
      "Training Accuracy: 0.6688, Testing Accuracy: 0.6885\n",
      "\n"
     ]
    },
    {
     "name": "stdout",
     "output_type": "stream",
     "text": [
      "Epoch 10, Loss 0.0919\n",
      "Training Accuracy: 0.9230, Testing Accuracy: 0.9370\n",
      "\n"
     ]
    },
    {
     "name": "stdout",
     "output_type": "stream",
     "text": [
      "Epoch 20, Loss 0.0564\n",
      "Training Accuracy: 0.9444, Testing Accuracy: 0.9531\n",
      "\n"
     ]
    },
    {
     "name": "stdout",
     "output_type": "stream",
     "text": [
      "Epoch 30, Loss 0.0443\n",
      "Training Accuracy: 0.9525, Testing Accuracy: 0.9592\n",
      "\n"
     ]
    },
    {
     "name": "stdout",
     "output_type": "stream",
     "text": [
      "Epoch 40, Loss 0.0382\n",
      "Training Accuracy: 0.9584, Testing Accuracy: 0.9632\n",
      "\n"
     ]
    },
    {
     "name": "stdout",
     "output_type": "stream",
     "text": [
      "Epoch 50, Loss 0.0346\n",
      "Training Accuracy: 0.9619, Testing Accuracy: 0.9667\n",
      "\n"
     ]
    },
    {
     "name": "stdout",
     "output_type": "stream",
     "text": [
      "Epoch 60, Loss 0.032\n",
      "Training Accuracy: 0.9639, Testing Accuracy: 0.9667\n",
      "\n"
     ]
    },
    {
     "name": "stdout",
     "output_type": "stream",
     "text": [
      "Epoch 70, Loss 0.0301\n",
      "Training Accuracy: 0.9659, Testing Accuracy: 0.9682\n",
      "\n"
     ]
    },
    {
     "name": "stdout",
     "output_type": "stream",
     "text": [
      "Epoch 80, Loss 0.0286\n",
      "Training Accuracy: 0.9673, Testing Accuracy: 0.9693\n",
      "\n"
     ]
    },
    {
     "name": "stdout",
     "output_type": "stream",
     "text": [
      "Epoch 90, Loss 0.0273\n",
      "Training Accuracy: 0.9684, Testing Accuracy: 0.9708\n",
      "\n"
     ]
    },
    {
     "name": "stdout",
     "output_type": "stream",
     "text": [
      "Epoch 100, Loss 0.0263\n",
      "Training Accuracy: 0.9697, Testing Accuracy: 0.9703\n",
      "\n"
     ]
    },
    {
     "name": "stdout",
     "output_type": "stream",
     "text": [
      "Epoch 110, Loss 0.0253\n",
      "Training Accuracy: 0.9708, Testing Accuracy: 0.9708\n",
      "\n"
     ]
    },
    {
     "name": "stdout",
     "output_type": "stream",
     "text": [
      "Epoch 120, Loss 0.0245\n",
      "Training Accuracy: 0.9720, Testing Accuracy: 0.9708\n",
      "\n"
     ]
    },
    {
     "name": "stdout",
     "output_type": "stream",
     "text": [
      "Epoch 130, Loss 0.0238\n",
      "Training Accuracy: 0.9728, Testing Accuracy: 0.9723\n",
      "\n"
     ]
    },
    {
     "name": "stdout",
     "output_type": "stream",
     "text": [
      "Epoch 140, Loss 0.0231\n",
      "Training Accuracy: 0.9735, Testing Accuracy: 0.9728\n",
      "\n"
     ]
    },
    {
     "name": "stdout",
     "output_type": "stream",
     "text": [
      "Epoch 150, Loss 0.0225\n",
      "Training Accuracy: 0.9745, Testing Accuracy: 0.9733\n",
      "\n"
     ]
    },
    {
     "name": "stdout",
     "output_type": "stream",
     "text": [
      "Epoch 160, Loss 0.0219\n",
      "Training Accuracy: 0.9750, Testing Accuracy: 0.9743\n",
      "\n"
     ]
    },
    {
     "name": "stdout",
     "output_type": "stream",
     "text": [
      "Epoch 170, Loss 0.0214\n",
      "Training Accuracy: 0.9755, Testing Accuracy: 0.9748\n",
      "\n"
     ]
    },
    {
     "name": "stdout",
     "output_type": "stream",
     "text": [
      "Epoch 180, Loss 0.0209\n",
      "Training Accuracy: 0.9762, Testing Accuracy: 0.9753\n",
      "\n"
     ]
    },
    {
     "name": "stdout",
     "output_type": "stream",
     "text": [
      "Epoch 190, Loss 0.0204\n",
      "Training Accuracy: 0.9768, Testing Accuracy: 0.9753\n",
      "\n"
     ]
    },
    {
     "name": "stdout",
     "output_type": "stream",
     "text": [
      "Epoch 200, Loss 0.02\n",
      "Training Accuracy: 0.9775, Testing Accuracy: 0.9748\n",
      "\n"
     ]
    },
    {
     "name": "stdout",
     "output_type": "stream",
     "text": [
      "Epoch 210, Loss 0.0196\n",
      "Training Accuracy: 0.9782, Testing Accuracy: 0.9753\n",
      "\n"
     ]
    },
    {
     "name": "stdout",
     "output_type": "stream",
     "text": [
      "Epoch 220, Loss 0.0192\n",
      "Training Accuracy: 0.9789, Testing Accuracy: 0.9753\n",
      "\n"
     ]
    },
    {
     "name": "stdout",
     "output_type": "stream",
     "text": [
      "Epoch 230, Loss 0.0188\n",
      "Training Accuracy: 0.9795, Testing Accuracy: 0.9753\n",
      "\n"
     ]
    },
    {
     "name": "stdout",
     "output_type": "stream",
     "text": [
      "Epoch 240, Loss 0.0184\n",
      "Training Accuracy: 0.9801, Testing Accuracy: 0.9753\n",
      "\n"
     ]
    },
    {
     "data": {
      "text/plain": [
       "0.044465243980507344"
      ]
     },
     "execution_count": 22,
     "metadata": {},
     "output_type": "execute_result"
    }
   ],
   "source": [
    "nn_learner.train_loop(dl)"
   ]
  },
  {
   "cell_type": "code",
   "execution_count": 23,
   "id": "e0163366",
   "metadata": {
    "execution": {
     "iopub.execute_input": "2022-05-25T10:14:41.085760Z",
     "iopub.status.busy": "2022-05-25T10:14:41.085014Z",
     "iopub.status.idle": "2022-05-25T10:14:59.539627Z",
     "shell.execute_reply": "2022-05-25T10:14:59.539016Z"
    },
    "papermill": {
     "duration": 18.499773,
     "end_time": "2022-05-25T10:14:59.539773",
     "exception": false,
     "start_time": "2022-05-25T10:14:41.040000",
     "status": "completed"
    },
    "tags": []
   },
   "outputs": [
    {
     "name": "stdout",
     "output_type": "stream",
     "text": [
      "Epoch 0, Loss 0.2179\n",
      "Training Accuracy: 0.7651, Testing Accuracy: 0.7873\n",
      "\n"
     ]
    },
    {
     "name": "stdout",
     "output_type": "stream",
     "text": [
      "Epoch 10, Loss 0.0991\n",
      "Training Accuracy: 0.9178, Testing Accuracy: 0.9289\n",
      "\n"
     ]
    },
    {
     "name": "stdout",
     "output_type": "stream",
     "text": [
      "Epoch 20, Loss 0.0769\n",
      "Training Accuracy: 0.9327, Testing Accuracy: 0.9451\n",
      "\n"
     ]
    },
    {
     "name": "stdout",
     "output_type": "stream",
     "text": [
      "Epoch 30, Loss 0.0666\n",
      "Training Accuracy: 0.9394, Testing Accuracy: 0.9501\n",
      "\n"
     ]
    },
    {
     "name": "stdout",
     "output_type": "stream",
     "text": [
      "Epoch 40, Loss 0.0603\n",
      "Training Accuracy: 0.9440, Testing Accuracy: 0.9556\n",
      "\n"
     ]
    },
    {
     "name": "stdout",
     "output_type": "stream",
     "text": [
      "Epoch 50, Loss 0.0561\n",
      "Training Accuracy: 0.9467, Testing Accuracy: 0.9561\n",
      "\n"
     ]
    },
    {
     "name": "stdout",
     "output_type": "stream",
     "text": [
      "Epoch 60, Loss 0.053\n",
      "Training Accuracy: 0.9488, Testing Accuracy: 0.9587\n",
      "\n"
     ]
    },
    {
     "name": "stdout",
     "output_type": "stream",
     "text": [
      "Epoch 70, Loss 0.0505\n",
      "Training Accuracy: 0.9503, Testing Accuracy: 0.9617\n",
      "\n"
     ]
    },
    {
     "name": "stdout",
     "output_type": "stream",
     "text": [
      "Epoch 80, Loss 0.0486\n",
      "Training Accuracy: 0.9515, Testing Accuracy: 0.9627\n",
      "\n"
     ]
    },
    {
     "name": "stdout",
     "output_type": "stream",
     "text": [
      "Epoch 90, Loss 0.047\n",
      "Training Accuracy: 0.9526, Testing Accuracy: 0.9617\n",
      "\n"
     ]
    },
    {
     "name": "stdout",
     "output_type": "stream",
     "text": [
      "Epoch 100, Loss 0.0456\n",
      "Training Accuracy: 0.9543, Testing Accuracy: 0.9642\n",
      "\n"
     ]
    },
    {
     "name": "stdout",
     "output_type": "stream",
     "text": [
      "Epoch 110, Loss 0.0444\n",
      "Training Accuracy: 0.9555, Testing Accuracy: 0.9657\n",
      "\n"
     ]
    },
    {
     "name": "stdout",
     "output_type": "stream",
     "text": [
      "Epoch 120, Loss 0.0434\n",
      "Training Accuracy: 0.9563, Testing Accuracy: 0.9662\n",
      "\n"
     ]
    },
    {
     "name": "stdout",
     "output_type": "stream",
     "text": [
      "Epoch 130, Loss 0.0425\n",
      "Training Accuracy: 0.9570, Testing Accuracy: 0.9667\n",
      "\n"
     ]
    },
    {
     "name": "stdout",
     "output_type": "stream",
     "text": [
      "Epoch 140, Loss 0.0417\n",
      "Training Accuracy: 0.9576, Testing Accuracy: 0.9672\n",
      "\n"
     ]
    },
    {
     "name": "stdout",
     "output_type": "stream",
     "text": [
      "Epoch 150, Loss 0.041\n",
      "Training Accuracy: 0.9580, Testing Accuracy: 0.9672\n",
      "\n"
     ]
    },
    {
     "name": "stdout",
     "output_type": "stream",
     "text": [
      "Epoch 160, Loss 0.0404\n",
      "Training Accuracy: 0.9583, Testing Accuracy: 0.9682\n",
      "\n"
     ]
    },
    {
     "name": "stdout",
     "output_type": "stream",
     "text": [
      "Epoch 170, Loss 0.0398\n",
      "Training Accuracy: 0.9588, Testing Accuracy: 0.9682\n",
      "\n"
     ]
    },
    {
     "name": "stdout",
     "output_type": "stream",
     "text": [
      "Epoch 180, Loss 0.0392\n",
      "Training Accuracy: 0.9589, Testing Accuracy: 0.9682\n",
      "\n"
     ]
    },
    {
     "name": "stdout",
     "output_type": "stream",
     "text": [
      "Epoch 190, Loss 0.0387\n",
      "Training Accuracy: 0.9592, Testing Accuracy: 0.9677\n",
      "\n"
     ]
    },
    {
     "name": "stdout",
     "output_type": "stream",
     "text": [
      "Epoch 200, Loss 0.0383\n",
      "Training Accuracy: 0.9595, Testing Accuracy: 0.9677\n",
      "\n"
     ]
    },
    {
     "name": "stdout",
     "output_type": "stream",
     "text": [
      "Epoch 210, Loss 0.0378\n",
      "Training Accuracy: 0.9599, Testing Accuracy: 0.9677\n",
      "\n"
     ]
    },
    {
     "name": "stdout",
     "output_type": "stream",
     "text": [
      "Epoch 220, Loss 0.0374\n",
      "Training Accuracy: 0.9604, Testing Accuracy: 0.9677\n",
      "\n"
     ]
    },
    {
     "name": "stdout",
     "output_type": "stream",
     "text": [
      "Epoch 230, Loss 0.037\n",
      "Training Accuracy: 0.9609, Testing Accuracy: 0.9682\n",
      "\n"
     ]
    },
    {
     "name": "stdout",
     "output_type": "stream",
     "text": [
      "Epoch 240, Loss 0.0367\n",
      "Training Accuracy: 0.9609, Testing Accuracy: 0.9688\n",
      "\n"
     ]
    },
    {
     "data": {
      "text/plain": [
       "0.03308111943016986"
      ]
     },
     "execution_count": 23,
     "metadata": {},
     "output_type": "execute_result"
    }
   ],
   "source": [
    "lr_learner.train_loop(dl)"
   ]
  },
  {
   "cell_type": "code",
   "execution_count": 24,
   "id": "ca410940",
   "metadata": {
    "execution": {
     "iopub.execute_input": "2022-05-25T10:14:59.649649Z",
     "iopub.status.busy": "2022-05-25T10:14:59.648850Z",
     "iopub.status.idle": "2022-05-25T10:14:59.936865Z",
     "shell.execute_reply": "2022-05-25T10:14:59.937409Z"
    },
    "papermill": {
     "duration": 0.345203,
     "end_time": "2022-05-25T10:14:59.937662",
     "exception": false,
     "start_time": "2022-05-25T10:14:59.592459",
     "status": "completed"
    },
    "tags": []
   },
   "outputs": [
    {
     "data": {
      "text/plain": [
       "<matplotlib.legend.Legend at 0x7f7bf9b8c4e0>"
      ]
     },
     "execution_count": 24,
     "metadata": {},
     "output_type": "execute_result"
    },
    {
     "data": {
      "image/png": "[encoded data removed]",
      "text/plain": [
       "<Figure size 1080x720 with 1 Axes>"
      ]
     },
     "metadata": {
      "needs_background": "light"
     },
     "output_type": "display_data"
    }
   ],
   "source": [
    "#comparing the results of NN and LR\n",
    "plt.figure(figsize=(15,10))\n",
    "\n",
    "# Neural Network plots\n",
    "plt.plot(acc_nn.accuracies, 'r-', label = \"Training Accuracies - NN\")\n",
    "plt.plot(acc_nn.test_accuracies, 'g-', label = \"Testing Accuracies - NN\")\n",
    "\n",
    "# Logistic Regression plots\n",
    "plt.plot(acc_lr.accuracies, 'k-', label = \"Training Accuracies - LR\")\n",
    "plt.plot(acc_lr.test_accuracies, 'b-', label = \"Testing Accuracies - LR\")\n",
    "plt.legend()"
   ]
  },
  {
   "cell_type": "markdown",
   "id": "80dfb35c",
   "metadata": {
    "papermill": {
     "duration": 0.051491,
     "end_time": "2022-05-25T10:15:00.038642",
     "exception": false,
     "start_time": "2022-05-25T10:14:59.987151",
     "status": "completed"
    },
    "tags": []
   },
   "source": [
    "#### Plotting the outputs of this layer of the NN.\n"
   ]
  },
  {
   "cell_type": "code",
   "execution_count": 25,
   "id": "45eb2ff5",
   "metadata": {
    "execution": {
     "iopub.execute_input": "2022-05-25T10:15:00.136619Z",
     "iopub.status.busy": "2022-05-25T10:15:00.135926Z",
     "iopub.status.idle": "2022-05-25T10:15:00.161409Z",
     "shell.execute_reply": "2022-05-25T10:15:00.162280Z"
    },
    "papermill": {
     "duration": 0.076258,
     "end_time": "2022-05-25T10:15:00.162433",
     "exception": false,
     "start_time": "2022-05-25T10:15:00.086175",
     "status": "completed"
    },
    "tags": []
   },
   "outputs": [],
   "source": [
    "new_model = Model(layers[:-2])\n",
    "testing_plot = new_model(testing_data_x)"
   ]
  },
  {
   "cell_type": "code",
   "execution_count": 26,
   "id": "4c0a5485",
   "metadata": {
    "execution": {
     "iopub.execute_input": "2022-05-25T10:15:00.273947Z",
     "iopub.status.busy": "2022-05-25T10:15:00.273170Z",
     "iopub.status.idle": "2022-05-25T10:15:00.548810Z",
     "shell.execute_reply": "2022-05-25T10:15:00.549382Z"
    },
    "papermill": {
     "duration": 0.337562,
     "end_time": "2022-05-25T10:15:00.549545",
     "exception": false,
     "start_time": "2022-05-25T10:15:00.211983",
     "status": "completed"
    },
    "tags": []
   },
   "outputs": [
    {
     "data": {
      "text/plain": [
       "Text(0.5, 1.0, 'Outputs')"
      ]
     },
     "execution_count": 26,
     "metadata": {},
     "output_type": "execute_result"
    },
    {
     "data": {
      "image/png": "[encoded data removed]",
      "text/plain": [
       "<Figure size 576x504 with 1 Axes>"
      ]
     },
     "metadata": {
      "needs_background": "light"
     },
     "output_type": "display_data"
    }
   ],
   "source": [
    "# Plotting the scatter plot of points and color coding by class\n",
    "plt.figure(figsize=(8,7))\n",
    "plt.scatter(testing_plot[:,0], testing_plot[:,1], alpha = 0.1, c = y_test.ravel());\n",
    "plt.title('Outputs')"
   ]
  },
  {
   "cell_type": "markdown",
   "id": "a74fcf8f",
   "metadata": {
    "papermill": {
     "duration": 0.054887,
     "end_time": "2022-05-25T10:15:00.661171",
     "exception": false,
     "start_time": "2022-05-25T10:15:00.606284",
     "status": "completed"
    },
    "tags": []
   },
   "source": [
    "Probability contours"
   ]
  },
  {
   "cell_type": "code",
   "execution_count": 27,
   "id": "d0afc8e3",
   "metadata": {
    "execution": {
     "iopub.execute_input": "2022-05-25T10:15:00.783333Z",
     "iopub.status.busy": "2022-05-25T10:15:00.782572Z",
     "iopub.status.idle": "2022-05-25T10:15:00.795719Z",
     "shell.execute_reply": "2022-05-25T10:15:00.796773Z"
    },
    "papermill": {
     "duration": 0.07884,
     "end_time": "2022-05-25T10:15:00.796946",
     "exception": false,
     "start_time": "2022-05-25T10:15:00.718106",
     "status": "completed"
    },
    "tags": []
   },
   "outputs": [],
   "source": [
    "model_prob = Model(layers[-2:]) "
   ]
  },
  {
   "cell_type": "code",
   "execution_count": 28,
   "id": "9b96e238",
   "metadata": {
    "execution": {
     "iopub.execute_input": "2022-05-25T10:15:00.959723Z",
     "iopub.status.busy": "2022-05-25T10:15:00.954628Z",
     "iopub.status.idle": "2022-05-25T10:15:00.974020Z",
     "shell.execute_reply": "2022-05-25T10:15:00.972792Z"
    },
    "papermill": {
     "duration": 0.092852,
     "end_time": "2022-05-25T10:15:00.974429",
     "exception": false,
     "start_time": "2022-05-25T10:15:00.881577",
     "status": "completed"
    },
    "tags": []
   },
   "outputs": [],
   "source": [
    "#creating the x and y ranges according to the above generated plot.\n",
    "x_range = np.linspace(-4, 1, 100) \n",
    "y_range = np.linspace(-6, 6, 100) \n",
    "x_grid, y_grid = np.meshgrid(x_range, y_range) # x_grid and y_grig are of size 100 X 100\n",
    "\n",
    "# converting x_grid and y_grid to continuous arrays\n",
    "x_gridflat = np.ravel(x_grid)\n",
    "y_gridflat = np.ravel(y_grid)\n",
    "\n",
    "# The last layer of the current model takes two columns as input. Hence transpose of np.vstack() is required.\n",
    "X = np.vstack((x_gridflat, y_gridflat)).T\n",
    "\n",
    "prob_contour = model_prob(X).reshape(100,100) "
   ]
  },
  {
   "cell_type": "code",
   "execution_count": 29,
   "id": "da72499a",
   "metadata": {
    "execution": {
     "iopub.execute_input": "2022-05-25T10:15:01.093864Z",
     "iopub.status.busy": "2022-05-25T10:15:01.092881Z",
     "iopub.status.idle": "2022-05-25T10:15:01.443705Z",
     "shell.execute_reply": "2022-05-25T10:15:01.444328Z"
    },
    "papermill": {
     "duration": 0.414491,
     "end_time": "2022-05-25T10:15:01.444497",
     "exception": false,
     "start_time": "2022-05-25T10:15:01.030006",
     "status": "completed"
    },
    "tags": []
   },
   "outputs": [
    {
     "data": {
      "image/png": "[encoded data removed]",
      "text/plain": [
       "<Figure size 720x648 with 1 Axes>"
      ]
     },
     "metadata": {
      "needs_background": "light"
     },
     "output_type": "display_data"
    }
   ],
   "source": [
    "plt.figure(figsize=(10,9))\n",
    "plt.scatter(testing_plot[:,0], testing_plot[:,1], alpha = 0.1, c = y_test.ravel())\n",
    "contours = plt.contour(x_grid,y_grid,prob_contour)\n",
    "plt.title('Probability Contours')\n",
    "plt.clabel(contours, inline = True );"
   ]
  },
  {
   "cell_type": "code",
   "execution_count": null,
   "id": "e81b4ac7",
   "metadata": {
    "papermill": {
     "duration": 0.060194,
     "end_time": "2022-05-25T10:15:01.564045",
     "exception": false,
     "start_time": "2022-05-25T10:15:01.503851",
     "status": "completed"
    },
    "tags": []
   },
   "outputs": [],
   "source": []
  }
 ],
 "metadata": {
  "kernelspec": {
   "display_name": "Python 3",
   "language": "python",
   "name": "python3"
  },
  "language_info": {
   "codemirror_mode": {
    "name": "ipython",
    "version": 3
   },
   "file_extension": ".py",
   "mimetype": "text/x-python",
   "name": "python",
   "nbconvert_exporter": "python",
   "pygments_lexer": "ipython3",
   "version": "3.6.15"
  },
  "papermill": {
   "default_parameters": {},
   "duration": 153.717514,
   "end_time": "2022-05-25T10:15:02.041222",
   "environment_variables": {},
   "exception": null,
   "input_path": "2020-08-11-part2.ipynb",
   "output_path": "2020-08-11-part2.ipynb",
   "parameters": {},
   "start_time": "2022-05-25T10:12:28.323708",
   "version": "2.3.3"
  }
 },
 "nbformat": 4,
 "nbformat_minor": 5
}