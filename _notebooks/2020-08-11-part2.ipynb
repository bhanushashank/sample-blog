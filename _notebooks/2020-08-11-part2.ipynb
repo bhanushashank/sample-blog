{
 "cells": [
  {
   "cell_type": "markdown",
   "id": "98380cd3",
   "metadata": {
    "papermill": {
     "duration": 0.027943,
     "end_time": "2021-09-29T20:06:27.158202",
     "exception": false,
     "start_time": "2021-09-29T20:06:27.130259",
     "status": "completed"
    },
    "tags": []
   },
   "source": [
    "# Distinguish Your Own Digits (DYOD)"
   ]
  },
  {
   "cell_type": "markdown",
   "id": "ef31240d",
   "metadata": {
    "papermill": {
     "duration": 0.023882,
     "end_time": "2021-09-29T20:06:27.207976",
     "exception": false,
     "start_time": "2021-09-29T20:06:27.184094",
     "status": "completed"
    },
    "tags": []
   },
   "source": [
    "You are going to write a classifier that distinguishes between the number 3 and number 8."
   ]
  },
  {
   "cell_type": "code",
   "execution_count": 1,
   "id": "b15c8646",
   "metadata": {
    "execution": {
     "iopub.execute_input": "2021-09-29T20:06:27.268136Z",
     "iopub.status.busy": "2021-09-29T20:06:27.267599Z",
     "iopub.status.idle": "2021-09-29T20:06:27.277973Z",
     "shell.execute_reply": "2021-09-29T20:06:27.277536Z"
    },
    "papermill": {
     "duration": 0.045886,
     "end_time": "2021-09-29T20:06:27.278104",
     "exception": false,
     "start_time": "2021-09-29T20:06:27.232218",
     "status": "completed"
    },
    "tags": []
   },
   "outputs": [],
   "source": [
    "%load_ext autoreload\n",
    "%autoreload 2"
   ]
  },
  {
   "cell_type": "code",
   "execution_count": 2,
   "id": "22ef38dc",
   "metadata": {
    "execution": {
     "iopub.execute_input": "2021-09-29T20:06:27.337957Z",
     "iopub.status.busy": "2021-09-29T20:06:27.337399Z",
     "iopub.status.idle": "2021-09-29T20:06:27.855775Z",
     "shell.execute_reply": "2021-09-29T20:06:27.855243Z"
    },
    "papermill": {
     "duration": 0.553685,
     "end_time": "2021-09-29T20:06:27.855922",
     "exception": false,
     "start_time": "2021-09-29T20:06:27.302237",
     "status": "completed"
    },
    "tags": []
   },
   "outputs": [],
   "source": [
    "%matplotlib inline\n",
    "import numpy as np\n",
    "import matplotlib.pyplot as plt\n",
    "import pandas as pd"
   ]
  },
  {
   "cell_type": "markdown",
   "id": "ba036198",
   "metadata": {
    "papermill": {
     "duration": 0.024074,
     "end_time": "2021-09-29T20:06:27.904981",
     "exception": false,
     "start_time": "2021-09-29T20:06:27.880907",
     "status": "completed"
    },
    "tags": []
   },
   "source": [
    "From the command line run `pip install mnist`. This is a library that will help you bring down the mnist dataset. If you run this from a notebook, you need to put  `!pip install mnist` in a cell by itself."
   ]
  },
  {
   "cell_type": "code",
   "execution_count": 3,
   "id": "bb6ad8a1",
   "metadata": {
    "execution": {
     "iopub.execute_input": "2021-09-29T20:06:27.957534Z",
     "iopub.status.busy": "2021-09-29T20:06:27.957007Z",
     "iopub.status.idle": "2021-09-29T20:06:29.582338Z",
     "shell.execute_reply": "2021-09-29T20:06:29.581779Z"
    },
    "papermill": {
     "duration": 1.653464,
     "end_time": "2021-09-29T20:06:29.582485",
     "exception": false,
     "start_time": "2021-09-29T20:06:27.929021",
     "status": "completed"
    },
    "tags": []
   },
   "outputs": [
    {
     "name": "stdout",
     "output_type": "stream",
     "text": [
      "Collecting mnist\r\n",
      "  Downloading mnist-0.2.2-py2.py3-none-any.whl (3.5 kB)\r\n",
      "Requirement already satisfied: numpy in /opt/hostedtoolcache/Python/3.6.15/x64/lib/python3.6/site-packages (from mnist) (1.19.5)\r\n"
     ]
    },
    {
     "name": "stdout",
     "output_type": "stream",
     "text": [
      "Installing collected packages: mnist\r\n"
     ]
    },
    {
     "name": "stdout",
     "output_type": "stream",
     "text": [
      "Successfully installed mnist-0.2.2\r\n"
     ]
    }
   ],
   "source": [
    "!pip install mnist"
   ]
  },
  {
   "cell_type": "markdown",
   "id": "69df9c9a",
   "metadata": {
    "papermill": {
     "duration": 0.025124,
     "end_time": "2021-09-29T20:06:29.633431",
     "exception": false,
     "start_time": "2021-09-29T20:06:29.608307",
     "status": "completed"
    },
    "tags": []
   },
   "source": [
    "## Preparing the Data"
   ]
  },
  {
   "cell_type": "code",
   "execution_count": 4,
   "id": "7f69d806",
   "metadata": {
    "execution": {
     "iopub.execute_input": "2021-09-29T20:06:29.703607Z",
     "iopub.status.busy": "2021-09-29T20:06:29.700476Z",
     "iopub.status.idle": "2021-09-29T20:06:29.705518Z",
     "shell.execute_reply": "2021-09-29T20:06:29.705897Z"
    },
    "papermill": {
     "duration": 0.047868,
     "end_time": "2021-09-29T20:06:29.706058",
     "exception": false,
     "start_time": "2021-09-29T20:06:29.658190",
     "status": "completed"
    },
    "tags": []
   },
   "outputs": [],
   "source": [
    "import mnist"
   ]
  },
  {
   "cell_type": "code",
   "execution_count": 5,
   "id": "a411e44f",
   "metadata": {
    "execution": {
     "iopub.execute_input": "2021-09-29T20:06:29.759395Z",
     "iopub.status.busy": "2021-09-29T20:06:29.758883Z",
     "iopub.status.idle": "2021-09-29T20:06:30.301448Z",
     "shell.execute_reply": "2021-09-29T20:06:30.301934Z"
    },
    "papermill": {
     "duration": 0.57107,
     "end_time": "2021-09-29T20:06:30.302113",
     "exception": false,
     "start_time": "2021-09-29T20:06:29.731043",
     "status": "completed"
    },
    "tags": []
   },
   "outputs": [],
   "source": [
    "train_images = mnist.train_images()\n",
    "train_labels = mnist.train_labels()"
   ]
  },
  {
   "cell_type": "code",
   "execution_count": 6,
   "id": "dceab3a5",
   "metadata": {
    "execution": {
     "iopub.execute_input": "2021-09-29T20:06:30.371686Z",
     "iopub.status.busy": "2021-09-29T20:06:30.370711Z",
     "iopub.status.idle": "2021-09-29T20:06:30.376857Z",
     "shell.execute_reply": "2021-09-29T20:06:30.376392Z"
    },
    "papermill": {
     "duration": 0.049682,
     "end_time": "2021-09-29T20:06:30.376973",
     "exception": false,
     "start_time": "2021-09-29T20:06:30.327291",
     "status": "completed"
    },
    "tags": []
   },
   "outputs": [
    {
     "data": {
      "text/plain": [
       "((60000, 28, 28), (60000,))"
      ]
     },
     "execution_count": 6,
     "metadata": {},
     "output_type": "execute_result"
    }
   ],
   "source": [
    "train_images.shape, train_labels.shape"
   ]
  },
  {
   "cell_type": "code",
   "execution_count": 7,
   "id": "f50dc2bb",
   "metadata": {
    "execution": {
     "iopub.execute_input": "2021-09-29T20:06:30.433787Z",
     "iopub.status.busy": "2021-09-29T20:06:30.433271Z",
     "iopub.status.idle": "2021-09-29T20:06:30.566933Z",
     "shell.execute_reply": "2021-09-29T20:06:30.566474Z"
    },
    "papermill": {
     "duration": 0.165039,
     "end_time": "2021-09-29T20:06:30.567070",
     "exception": false,
     "start_time": "2021-09-29T20:06:30.402031",
     "status": "completed"
    },
    "tags": []
   },
   "outputs": [],
   "source": [
    "test_images = mnist.test_images()\n",
    "test_labels = mnist.test_labels()"
   ]
  },
  {
   "cell_type": "code",
   "execution_count": 8,
   "id": "fc38cf1b",
   "metadata": {
    "execution": {
     "iopub.execute_input": "2021-09-29T20:06:30.635945Z",
     "iopub.status.busy": "2021-09-29T20:06:30.633345Z",
     "iopub.status.idle": "2021-09-29T20:06:30.638960Z",
     "shell.execute_reply": "2021-09-29T20:06:30.638468Z"
    },
    "papermill": {
     "duration": 0.046588,
     "end_time": "2021-09-29T20:06:30.639073",
     "exception": false,
     "start_time": "2021-09-29T20:06:30.592485",
     "status": "completed"
    },
    "tags": []
   },
   "outputs": [
    {
     "data": {
      "text/plain": [
       "((10000, 28, 28), (10000,))"
      ]
     },
     "execution_count": 8,
     "metadata": {},
     "output_type": "execute_result"
    }
   ],
   "source": [
    "test_images.shape, test_labels.shape"
   ]
  },
  {
   "cell_type": "code",
   "execution_count": 9,
   "id": "f9ed8fe0",
   "metadata": {
    "execution": {
     "iopub.execute_input": "2021-09-29T20:06:30.697995Z",
     "iopub.status.busy": "2021-09-29T20:06:30.697483Z",
     "iopub.status.idle": "2021-09-29T20:06:30.831618Z",
     "shell.execute_reply": "2021-09-29T20:06:30.831184Z"
    },
    "papermill": {
     "duration": 0.167575,
     "end_time": "2021-09-29T20:06:30.831738",
     "exception": false,
     "start_time": "2021-09-29T20:06:30.664163",
     "status": "completed"
    },
    "tags": []
   },
   "outputs": [
    {
     "name": "stdout",
     "output_type": "stream",
     "text": [
      "2\n"
     ]
    },
    {
     "data": {
      "text/plain": [
       "<matplotlib.image.AxesImage at 0x7f291a53d828>"
      ]
     },
     "execution_count": 9,
     "metadata": {},
     "output_type": "execute_result"
    },
    {
     "data": {
      "image/png": "[encoded data removed]",
      "text/plain": [
       "<Figure size 432x288 with 1 Axes>"
      ]
     },
     "metadata": {
      "needs_background": "light"
     },
     "output_type": "display_data"
    }
   ],
   "source": [
    "image_index = 7776 # You may select anything up to 60,000\n",
    "print(train_labels[image_index]) \n",
    "plt.imshow(train_images[image_index], cmap='Greys')"
   ]
  },
  {
   "cell_type": "markdown",
   "id": "a8d2388d",
   "metadata": {
    "papermill": {
     "duration": 0.026629,
     "end_time": "2021-09-29T20:06:30.884863",
     "exception": false,
     "start_time": "2021-09-29T20:06:30.858234",
     "status": "completed"
    },
    "tags": []
   },
   "source": [
    "## Filter data to get 3 and 8 out"
   ]
  },
  {
   "cell_type": "code",
   "execution_count": 10,
   "id": "776f7fc7",
   "metadata": {
    "execution": {
     "iopub.execute_input": "2021-09-29T20:06:30.946604Z",
     "iopub.status.busy": "2021-09-29T20:06:30.941794Z",
     "iopub.status.idle": "2021-09-29T20:06:30.960237Z",
     "shell.execute_reply": "2021-09-29T20:06:30.959812Z"
    },
    "papermill": {
     "duration": 0.049271,
     "end_time": "2021-09-29T20:06:30.960348",
     "exception": false,
     "start_time": "2021-09-29T20:06:30.911077",
     "status": "completed"
    },
    "tags": []
   },
   "outputs": [],
   "source": [
    "train_filter = np.where((train_labels == 3 ) | (train_labels == 8))\n",
    "test_filter = np.where((test_labels == 3) | (test_labels == 8))\n",
    "X_train, y_train = train_images[train_filter], train_labels[train_filter]\n",
    "X_test, y_test = test_images[test_filter], test_labels[test_filter]"
   ]
  },
  {
   "cell_type": "markdown",
   "id": "948f0b7e",
   "metadata": {
    "papermill": {
     "duration": 0.026226,
     "end_time": "2021-09-29T20:06:31.013153",
     "exception": false,
     "start_time": "2021-09-29T20:06:30.986927",
     "status": "completed"
    },
    "tags": []
   },
   "source": [
    "We normalize the pizel values in the 0 to 1 range"
   ]
  },
  {
   "cell_type": "code",
   "execution_count": 11,
   "id": "ee4c2166",
   "metadata": {
    "execution": {
     "iopub.execute_input": "2021-09-29T20:06:31.073812Z",
     "iopub.status.busy": "2021-09-29T20:06:31.073296Z",
     "iopub.status.idle": "2021-09-29T20:06:31.119797Z",
     "shell.execute_reply": "2021-09-29T20:06:31.119267Z"
    },
    "papermill": {
     "duration": 0.080664,
     "end_time": "2021-09-29T20:06:31.119935",
     "exception": false,
     "start_time": "2021-09-29T20:06:31.039271",
     "status": "completed"
    },
    "tags": []
   },
   "outputs": [],
   "source": [
    "X_train = X_train/255.\n",
    "X_test = X_test/255."
   ]
  },
  {
   "cell_type": "markdown",
   "id": "ddcf4fab",
   "metadata": {
    "papermill": {
     "duration": 0.026189,
     "end_time": "2021-09-29T20:06:31.173883",
     "exception": false,
     "start_time": "2021-09-29T20:06:31.147694",
     "status": "completed"
    },
    "tags": []
   },
   "source": [
    "And setup the labels as 1 (when the digit is 3) and 0 (when the digit is 8)"
   ]
  },
  {
   "cell_type": "code",
   "execution_count": 12,
   "id": "7dc908f2",
   "metadata": {
    "execution": {
     "iopub.execute_input": "2021-09-29T20:06:31.230214Z",
     "iopub.status.busy": "2021-09-29T20:06:31.229702Z",
     "iopub.status.idle": "2021-09-29T20:06:31.241846Z",
     "shell.execute_reply": "2021-09-29T20:06:31.241429Z"
    },
    "papermill": {
     "duration": 0.04189,
     "end_time": "2021-09-29T20:06:31.241968",
     "exception": false,
     "start_time": "2021-09-29T20:06:31.200078",
     "status": "completed"
    },
    "tags": []
   },
   "outputs": [],
   "source": [
    "y_train = 1*(y_train==3)\n",
    "y_test = 1*(y_test==3)"
   ]
  },
  {
   "cell_type": "code",
   "execution_count": 13,
   "id": "01e4e969",
   "metadata": {
    "execution": {
     "iopub.execute_input": "2021-09-29T20:06:31.314129Z",
     "iopub.status.busy": "2021-09-29T20:06:31.313595Z",
     "iopub.status.idle": "2021-09-29T20:06:31.319252Z",
     "shell.execute_reply": "2021-09-29T20:06:31.318589Z"
    },
    "papermill": {
     "duration": 0.050954,
     "end_time": "2021-09-29T20:06:31.319370",
     "exception": false,
     "start_time": "2021-09-29T20:06:31.268416",
     "status": "completed"
    },
    "tags": []
   },
   "outputs": [
    {
     "data": {
      "text/plain": [
       "((11982, 28, 28), (1984, 28, 28))"
      ]
     },
     "execution_count": 13,
     "metadata": {},
     "output_type": "execute_result"
    }
   ],
   "source": [
    "X_train.shape, X_test.shape"
   ]
  },
  {
   "cell_type": "markdown",
   "id": "5ccf3f85",
   "metadata": {
    "papermill": {
     "duration": 0.026484,
     "end_time": "2021-09-29T20:06:31.372377",
     "exception": false,
     "start_time": "2021-09-29T20:06:31.345893",
     "status": "completed"
    },
    "tags": []
   },
   "source": [
    "We reshape the data to flatten the image pixels into a set of features or co-variates:"
   ]
  },
  {
   "cell_type": "code",
   "execution_count": 14,
   "id": "5286a4a3",
   "metadata": {
    "execution": {
     "iopub.execute_input": "2021-09-29T20:06:31.429642Z",
     "iopub.status.busy": "2021-09-29T20:06:31.429133Z",
     "iopub.status.idle": "2021-09-29T20:06:31.442607Z",
     "shell.execute_reply": "2021-09-29T20:06:31.443011Z"
    },
    "papermill": {
     "duration": 0.04422,
     "end_time": "2021-09-29T20:06:31.443146",
     "exception": false,
     "start_time": "2021-09-29T20:06:31.398926",
     "status": "completed"
    },
    "tags": []
   },
   "outputs": [
    {
     "data": {
      "text/plain": [
       "((11982, 784), (1984, 784))"
      ]
     },
     "execution_count": 14,
     "metadata": {},
     "output_type": "execute_result"
    }
   ],
   "source": [
    "X_train = X_train.reshape(X_train.shape[0], -1)\n",
    "X_test = X_test.reshape(X_test.shape[0], -1)\n",
    "X_train.shape, X_test.shape"
   ]
  },
  {
   "cell_type": "code",
   "execution_count": 15,
   "id": "73c5f88a",
   "metadata": {
    "execution": {
     "iopub.execute_input": "2021-09-29T20:06:31.500267Z",
     "iopub.status.busy": "2021-09-29T20:06:31.499715Z",
     "iopub.status.idle": "2021-09-29T20:06:31.519479Z",
     "shell.execute_reply": "2021-09-29T20:06:31.519033Z"
    },
    "papermill": {
     "duration": 0.049629,
     "end_time": "2021-09-29T20:06:31.519598",
     "exception": false,
     "start_time": "2021-09-29T20:06:31.469969",
     "status": "completed"
    },
    "tags": []
   },
   "outputs": [],
   "source": [
    "#Impoting functions from 'Kudzu'\n",
    "from kudzu.model import Model\n",
    "from kudzu.train import Learner\n",
    "from kudzu.optim import GD\n",
    "from kudzu.data import Data, Sampler,Dataloader\n",
    "\n",
    "from kudzu.callbacks import AccCallback\n",
    "from kudzu.callbacks import ClfCallback\n",
    "\n",
    "from kudzu.loss import MSE\n",
    "\n",
    "from kudzu.layer import Sigmoid,Relu\n",
    "from kudzu.layer import Affine"
   ]
  },
  {
   "cell_type": "markdown",
   "id": "bc01172a",
   "metadata": {
    "papermill": {
     "duration": 0.026897,
     "end_time": "2021-09-29T20:06:31.573456",
     "exception": false,
     "start_time": "2021-09-29T20:06:31.546559",
     "status": "completed"
    },
    "tags": []
   },
   "source": [
    "### Let us create a `Config` class, to store important parameters. \n",
    "This class essentially plays the role of a dictionary."
   ]
  },
  {
   "cell_type": "code",
   "execution_count": 16,
   "id": "978281aa",
   "metadata": {
    "execution": {
     "iopub.execute_input": "2021-09-29T20:06:31.645290Z",
     "iopub.status.busy": "2021-09-29T20:06:31.644717Z",
     "iopub.status.idle": "2021-09-29T20:06:31.646648Z",
     "shell.execute_reply": "2021-09-29T20:06:31.646140Z"
    },
    "papermill": {
     "duration": 0.046431,
     "end_time": "2021-09-29T20:06:31.646765",
     "exception": false,
     "start_time": "2021-09-29T20:06:31.600334",
     "status": "completed"
    },
    "tags": []
   },
   "outputs": [],
   "source": [
    "class Config:\n",
    "    pass\n",
    "config = Config()\n",
    "config.lr = 0.001\n",
    "config.num_epochs = 250\n",
    "config.bs = 50"
   ]
  },
  {
   "cell_type": "markdown",
   "id": "1385fa59",
   "metadata": {
    "papermill": {
     "duration": 0.026802,
     "end_time": "2021-09-29T20:06:31.700659",
     "exception": false,
     "start_time": "2021-09-29T20:06:31.673857",
     "status": "completed"
    },
    "tags": []
   },
   "source": [
    "### Running Models with the Training data\n",
    "Details about the network layers:\n",
    "- A first affine layer has 784 inputs and does 100 affine transforms. These are followed by a Relu\n",
    "- A second affine layer has 100 inputs from the 100 activations of the past layer, and does 100 affine transforms. These are followed by a Relu\n",
    "- A third affine layer has 100 activations and does 2 affine transformations to create an embedding for visualization. There is no non-linearity here.\n",
    "- A final \"logistic regression\" which has an affine transform from 2 inputs to 1 output, which is squeezed through a sigmoid.\n"
   ]
  },
  {
   "cell_type": "code",
   "execution_count": 17,
   "id": "2b9c66db",
   "metadata": {
    "execution": {
     "iopub.execute_input": "2021-09-29T20:06:31.763831Z",
     "iopub.status.busy": "2021-09-29T20:06:31.763301Z",
     "iopub.status.idle": "2021-09-29T20:06:31.772767Z",
     "shell.execute_reply": "2021-09-29T20:06:31.772317Z"
    },
    "papermill": {
     "duration": 0.045307,
     "end_time": "2021-09-29T20:06:31.772891",
     "exception": false,
     "start_time": "2021-09-29T20:06:31.727584",
     "status": "completed"
    },
    "tags": []
   },
   "outputs": [],
   "source": [
    "data = Data(X_train, y_train.reshape(-1,1))\n",
    "sampler = Sampler(data, config.bs, shuffle=True)\n",
    "\n",
    "dl = Dataloader(data, sampler)\n",
    "\n",
    "opt = GD(config.lr)\n",
    "loss = MSE()"
   ]
  },
  {
   "cell_type": "code",
   "execution_count": 18,
   "id": "b275e4c2",
   "metadata": {
    "execution": {
     "iopub.execute_input": "2021-09-29T20:06:31.831290Z",
     "iopub.status.busy": "2021-09-29T20:06:31.830766Z",
     "iopub.status.idle": "2021-09-29T20:06:31.841816Z",
     "shell.execute_reply": "2021-09-29T20:06:31.842222Z"
    },
    "papermill": {
     "duration": 0.042414,
     "end_time": "2021-09-29T20:06:31.842355",
     "exception": false,
     "start_time": "2021-09-29T20:06:31.799941",
     "status": "completed"
    },
    "tags": []
   },
   "outputs": [],
   "source": [
    "training_data_x = X_train\n",
    "testing_data_x = X_test\n",
    "training_data_y = y_train.reshape(-1,1)\n",
    "testing_data_y = y_test.reshape(-1,1)"
   ]
  },
  {
   "cell_type": "code",
   "execution_count": 19,
   "id": "76951160",
   "metadata": {
    "execution": {
     "iopub.execute_input": "2021-09-29T20:06:31.905786Z",
     "iopub.status.busy": "2021-09-29T20:06:31.905260Z",
     "iopub.status.idle": "2021-09-29T20:06:31.917587Z",
     "shell.execute_reply": "2021-09-29T20:06:31.917164Z"
    },
    "papermill": {
     "duration": 0.048656,
     "end_time": "2021-09-29T20:06:31.917697",
     "exception": false,
     "start_time": "2021-09-29T20:06:31.869041",
     "status": "completed"
    },
    "tags": []
   },
   "outputs": [
    {
     "name": "stdout",
     "output_type": "stream",
     "text": [
      "xavier\n",
      "xavier\n",
      "xavier\n",
      "xavier\n",
      "xavier\n"
     ]
    }
   ],
   "source": [
    "layers = [Affine(\"first\", 784, 100), Relu(\"first\"), Affine(\"second\", 100, 100), Relu(\"second\"), Affine(\"third\", 100, 2), Affine(\"last\", 2, 1), Sigmoid(\"last\")]\n",
    "model_nn = Model(layers)\n",
    "model_lr = Model([Affine(\"logits\", 784, 1), Sigmoid(\"sigmoid\")])"
   ]
  },
  {
   "cell_type": "code",
   "execution_count": 20,
   "id": "6eede77a",
   "metadata": {
    "execution": {
     "iopub.execute_input": "2021-09-29T20:06:31.975524Z",
     "iopub.status.busy": "2021-09-29T20:06:31.975015Z",
     "iopub.status.idle": "2021-09-29T20:06:31.988053Z",
     "shell.execute_reply": "2021-09-29T20:06:31.987647Z"
    },
    "papermill": {
     "duration": 0.043269,
     "end_time": "2021-09-29T20:06:31.988171",
     "exception": false,
     "start_time": "2021-09-29T20:06:31.944902",
     "status": "completed"
    },
    "tags": []
   },
   "outputs": [],
   "source": [
    "nn_learner = Learner(loss, model_nn, opt, config.num_epochs)\n",
    "acc_nn = ClfCallback(nn_learner, config.bs, training_data_x , testing_data_x, training_data_y, testing_data_y)\n",
    "nn_learner.set_callbacks([acc_nn])"
   ]
  },
  {
   "cell_type": "code",
   "execution_count": 21,
   "id": "877b6cc7",
   "metadata": {
    "execution": {
     "iopub.execute_input": "2021-09-29T20:06:32.046618Z",
     "iopub.status.busy": "2021-09-29T20:06:32.046102Z",
     "iopub.status.idle": "2021-09-29T20:06:32.057659Z",
     "shell.execute_reply": "2021-09-29T20:06:32.058067Z"
    },
    "papermill": {
     "duration": 0.04301,
     "end_time": "2021-09-29T20:06:32.058197",
     "exception": false,
     "start_time": "2021-09-29T20:06:32.015187",
     "status": "completed"
    },
    "tags": []
   },
   "outputs": [],
   "source": [
    "lr_learner = Learner(loss, model_lr, opt, config.num_epochs)\n",
    "acc_lr = ClfCallback(lr_learner, config.bs, training_data_x , testing_data_x, training_data_y, testing_data_y)\n",
    "lr_learner.set_callbacks([acc_lr])"
   ]
  },
  {
   "cell_type": "code",
   "execution_count": 22,
   "id": "d9b133c3",
   "metadata": {
    "execution": {
     "iopub.execute_input": "2021-09-29T20:06:32.117581Z",
     "iopub.status.busy": "2021-09-29T20:06:32.117067Z",
     "iopub.status.idle": "2021-09-29T20:07:47.786446Z",
     "shell.execute_reply": "2021-09-29T20:07:47.787177Z"
    },
    "papermill": {
     "duration": 75.701688,
     "end_time": "2021-09-29T20:07:47.787328",
     "exception": false,
     "start_time": "2021-09-29T20:06:32.085640",
     "status": "completed"
    },
    "tags": []
   },
   "outputs": [
    {
     "name": "stdout",
     "output_type": "stream",
     "text": [
      "Epoch 0, Loss 0.2382\n",
      "Training Accuracy: 0.7195, Testing Accuracy: 0.7243\n",
      "\n"
     ]
    },
    {
     "name": "stdout",
     "output_type": "stream",
     "text": [
      "Epoch 10, Loss 0.0879\n",
      "Training Accuracy: 0.9146, Testing Accuracy: 0.9274\n",
      "\n"
     ]
    },
    {
     "name": "stdout",
     "output_type": "stream",
     "text": [
      "Epoch 20, Loss 0.0549\n",
      "Training Accuracy: 0.9430, Testing Accuracy: 0.9511\n",
      "\n"
     ]
    },
    {
     "name": "stdout",
     "output_type": "stream",
     "text": [
      "Epoch 30, Loss 0.0428\n",
      "Training Accuracy: 0.9536, Testing Accuracy: 0.9587\n",
      "\n"
     ]
    },
    {
     "name": "stdout",
     "output_type": "stream",
     "text": [
      "Epoch 40, Loss 0.0368\n",
      "Training Accuracy: 0.9593, Testing Accuracy: 0.9642\n",
      "\n"
     ]
    },
    {
     "name": "stdout",
     "output_type": "stream",
     "text": [
      "Epoch 50, Loss 0.0332\n",
      "Training Accuracy: 0.9623, Testing Accuracy: 0.9693\n",
      "\n"
     ]
    },
    {
     "name": "stdout",
     "output_type": "stream",
     "text": [
      "Epoch 60, Loss 0.0307\n",
      "Training Accuracy: 0.9651, Testing Accuracy: 0.9708\n",
      "\n"
     ]
    },
    {
     "name": "stdout",
     "output_type": "stream",
     "text": [
      "Epoch 70, Loss 0.0289\n",
      "Training Accuracy: 0.9667, Testing Accuracy: 0.9703\n",
      "\n"
     ]
    },
    {
     "name": "stdout",
     "output_type": "stream",
     "text": [
      "Epoch 80, Loss 0.0274\n",
      "Training Accuracy: 0.9679, Testing Accuracy: 0.9693\n",
      "\n"
     ]
    },
    {
     "name": "stdout",
     "output_type": "stream",
     "text": [
      "Epoch 90, Loss 0.0262\n",
      "Training Accuracy: 0.9695, Testing Accuracy: 0.9713\n",
      "\n"
     ]
    },
    {
     "name": "stdout",
     "output_type": "stream",
     "text": [
      "Epoch 100, Loss 0.0252\n",
      "Training Accuracy: 0.9708, Testing Accuracy: 0.9708\n",
      "\n"
     ]
    },
    {
     "name": "stdout",
     "output_type": "stream",
     "text": [
      "Epoch 110, Loss 0.0244\n",
      "Training Accuracy: 0.9721, Testing Accuracy: 0.9698\n",
      "\n"
     ]
    },
    {
     "name": "stdout",
     "output_type": "stream",
     "text": [
      "Epoch 120, Loss 0.0236\n",
      "Training Accuracy: 0.9731, Testing Accuracy: 0.9708\n",
      "\n"
     ]
    },
    {
     "name": "stdout",
     "output_type": "stream",
     "text": [
      "Epoch 130, Loss 0.0229\n",
      "Training Accuracy: 0.9738, Testing Accuracy: 0.9708\n",
      "\n"
     ]
    },
    {
     "name": "stdout",
     "output_type": "stream",
     "text": [
      "Epoch 140, Loss 0.0223\n",
      "Training Accuracy: 0.9745, Testing Accuracy: 0.9708\n",
      "\n"
     ]
    },
    {
     "name": "stdout",
     "output_type": "stream",
     "text": [
      "Epoch 150, Loss 0.0217\n",
      "Training Accuracy: 0.9750, Testing Accuracy: 0.9708\n",
      "\n"
     ]
    },
    {
     "name": "stdout",
     "output_type": "stream",
     "text": [
      "Epoch 160, Loss 0.0211\n",
      "Training Accuracy: 0.9760, Testing Accuracy: 0.9718\n",
      "\n"
     ]
    },
    {
     "name": "stdout",
     "output_type": "stream",
     "text": [
      "Epoch 170, Loss 0.0206\n",
      "Training Accuracy: 0.9765, Testing Accuracy: 0.9718\n",
      "\n"
     ]
    },
    {
     "name": "stdout",
     "output_type": "stream",
     "text": [
      "Epoch 180, Loss 0.0201\n",
      "Training Accuracy: 0.9769, Testing Accuracy: 0.9728\n",
      "\n"
     ]
    },
    {
     "name": "stdout",
     "output_type": "stream",
     "text": [
      "Epoch 190, Loss 0.0196\n",
      "Training Accuracy: 0.9779, Testing Accuracy: 0.9723\n",
      "\n"
     ]
    },
    {
     "name": "stdout",
     "output_type": "stream",
     "text": [
      "Epoch 200, Loss 0.0192\n",
      "Training Accuracy: 0.9787, Testing Accuracy: 0.9728\n",
      "\n"
     ]
    },
    {
     "name": "stdout",
     "output_type": "stream",
     "text": [
      "Epoch 210, Loss 0.0187\n",
      "Training Accuracy: 0.9791, Testing Accuracy: 0.9728\n",
      "\n"
     ]
    },
    {
     "name": "stdout",
     "output_type": "stream",
     "text": [
      "Epoch 220, Loss 0.0183\n",
      "Training Accuracy: 0.9796, Testing Accuracy: 0.9733\n",
      "\n"
     ]
    },
    {
     "name": "stdout",
     "output_type": "stream",
     "text": [
      "Epoch 230, Loss 0.0179\n",
      "Training Accuracy: 0.9806, Testing Accuracy: 0.9738\n",
      "\n"
     ]
    },
    {
     "name": "stdout",
     "output_type": "stream",
     "text": [
      "Epoch 240, Loss 0.0175\n",
      "Training Accuracy: 0.9810, Testing Accuracy: 0.9738\n",
      "\n"
     ]
    },
    {
     "data": {
      "text/plain": [
       "0.032450742894655236"
      ]
     },
     "execution_count": 22,
     "metadata": {},
     "output_type": "execute_result"
    }
   ],
   "source": [
    "nn_learner.train_loop(dl)"
   ]
  },
  {
   "cell_type": "code",
   "execution_count": 23,
   "id": "e0163366",
   "metadata": {
    "execution": {
     "iopub.execute_input": "2021-09-29T20:07:47.868999Z",
     "iopub.status.busy": "2021-09-29T20:07:47.868432Z",
     "iopub.status.idle": "2021-09-29T20:08:01.845619Z",
     "shell.execute_reply": "2021-09-29T20:08:01.846346Z"
    },
    "papermill": {
     "duration": 14.024485,
     "end_time": "2021-09-29T20:08:01.846494",
     "exception": false,
     "start_time": "2021-09-29T20:07:47.822009",
     "status": "completed"
    },
    "tags": []
   },
   "outputs": [
    {
     "name": "stdout",
     "output_type": "stream",
     "text": [
      "Epoch 0, Loss 0.2125\n",
      "Training Accuracy: 0.8227, Testing Accuracy: 0.8276\n",
      "\n"
     ]
    },
    {
     "name": "stdout",
     "output_type": "stream",
     "text": [
      "Epoch 10, Loss 0.0952\n",
      "Training Accuracy: 0.9240, Testing Accuracy: 0.9390\n",
      "\n"
     ]
    },
    {
     "name": "stdout",
     "output_type": "stream",
     "text": [
      "Epoch 20, Loss 0.0749\n",
      "Training Accuracy: 0.9329, Testing Accuracy: 0.9476\n",
      "\n"
     ]
    },
    {
     "name": "stdout",
     "output_type": "stream",
     "text": [
      "Epoch 30, Loss 0.0654\n",
      "Training Accuracy: 0.9394, Testing Accuracy: 0.9582\n",
      "\n"
     ]
    },
    {
     "name": "stdout",
     "output_type": "stream",
     "text": [
      "Epoch 40, Loss 0.0596\n",
      "Training Accuracy: 0.9437, Testing Accuracy: 0.9597\n",
      "\n"
     ]
    },
    {
     "name": "stdout",
     "output_type": "stream",
     "text": [
      "Epoch 50, Loss 0.0555\n",
      "Training Accuracy: 0.9464, Testing Accuracy: 0.9602\n",
      "\n"
     ]
    },
    {
     "name": "stdout",
     "output_type": "stream",
     "text": [
      "Epoch 60, Loss 0.0526\n",
      "Training Accuracy: 0.9475, Testing Accuracy: 0.9612\n",
      "\n"
     ]
    },
    {
     "name": "stdout",
     "output_type": "stream",
     "text": [
      "Epoch 70, Loss 0.0502\n",
      "Training Accuracy: 0.9498, Testing Accuracy: 0.9622\n",
      "\n"
     ]
    },
    {
     "name": "stdout",
     "output_type": "stream",
     "text": [
      "Epoch 80, Loss 0.0484\n",
      "Training Accuracy: 0.9510, Testing Accuracy: 0.9627\n",
      "\n"
     ]
    },
    {
     "name": "stdout",
     "output_type": "stream",
     "text": [
      "Epoch 90, Loss 0.0468\n",
      "Training Accuracy: 0.9526, Testing Accuracy: 0.9637\n",
      "\n"
     ]
    },
    {
     "name": "stdout",
     "output_type": "stream",
     "text": [
      "Epoch 100, Loss 0.0455\n",
      "Training Accuracy: 0.9538, Testing Accuracy: 0.9637\n",
      "\n"
     ]
    },
    {
     "name": "stdout",
     "output_type": "stream",
     "text": [
      "Epoch 110, Loss 0.0443\n",
      "Training Accuracy: 0.9551, Testing Accuracy: 0.9642\n",
      "\n"
     ]
    },
    {
     "name": "stdout",
     "output_type": "stream",
     "text": [
      "Epoch 120, Loss 0.0433\n",
      "Training Accuracy: 0.9559, Testing Accuracy: 0.9652\n",
      "\n"
     ]
    },
    {
     "name": "stdout",
     "output_type": "stream",
     "text": [
      "Epoch 130, Loss 0.0425\n",
      "Training Accuracy: 0.9563, Testing Accuracy: 0.9667\n",
      "\n"
     ]
    },
    {
     "name": "stdout",
     "output_type": "stream",
     "text": [
      "Epoch 140, Loss 0.0417\n",
      "Training Accuracy: 0.9570, Testing Accuracy: 0.9662\n",
      "\n"
     ]
    },
    {
     "name": "stdout",
     "output_type": "stream",
     "text": [
      "Epoch 150, Loss 0.041\n",
      "Training Accuracy: 0.9573, Testing Accuracy: 0.9657\n",
      "\n"
     ]
    },
    {
     "name": "stdout",
     "output_type": "stream",
     "text": [
      "Epoch 160, Loss 0.0403\n",
      "Training Accuracy: 0.9579, Testing Accuracy: 0.9657\n",
      "\n"
     ]
    },
    {
     "name": "stdout",
     "output_type": "stream",
     "text": [
      "Epoch 170, Loss 0.0397\n",
      "Training Accuracy: 0.9583, Testing Accuracy: 0.9662\n",
      "\n"
     ]
    },
    {
     "name": "stdout",
     "output_type": "stream",
     "text": [
      "Epoch 180, Loss 0.0392\n",
      "Training Accuracy: 0.9584, Testing Accuracy: 0.9662\n",
      "\n"
     ]
    },
    {
     "name": "stdout",
     "output_type": "stream",
     "text": [
      "Epoch 190, Loss 0.0387\n",
      "Training Accuracy: 0.9587, Testing Accuracy: 0.9662\n",
      "\n"
     ]
    },
    {
     "name": "stdout",
     "output_type": "stream",
     "text": [
      "Epoch 200, Loss 0.0382\n",
      "Training Accuracy: 0.9591, Testing Accuracy: 0.9662\n",
      "\n"
     ]
    },
    {
     "name": "stdout",
     "output_type": "stream",
     "text": [
      "Epoch 210, Loss 0.0378\n",
      "Training Accuracy: 0.9591, Testing Accuracy: 0.9662\n",
      "\n"
     ]
    },
    {
     "name": "stdout",
     "output_type": "stream",
     "text": [
      "Epoch 220, Loss 0.0374\n",
      "Training Accuracy: 0.9597, Testing Accuracy: 0.9662\n",
      "\n"
     ]
    },
    {
     "name": "stdout",
     "output_type": "stream",
     "text": [
      "Epoch 230, Loss 0.0371\n",
      "Training Accuracy: 0.9605, Testing Accuracy: 0.9667\n",
      "\n"
     ]
    },
    {
     "name": "stdout",
     "output_type": "stream",
     "text": [
      "Epoch 240, Loss 0.0367\n",
      "Training Accuracy: 0.9609, Testing Accuracy: 0.9672\n",
      "\n"
     ]
    },
    {
     "data": {
      "text/plain": [
       "0.017288727994773042"
      ]
     },
     "execution_count": 23,
     "metadata": {},
     "output_type": "execute_result"
    }
   ],
   "source": [
    "lr_learner.train_loop(dl)"
   ]
  },
  {
   "cell_type": "code",
   "execution_count": 24,
   "id": "ca410940",
   "metadata": {
    "execution": {
     "iopub.execute_input": "2021-09-29T20:08:01.933582Z",
     "iopub.status.busy": "2021-09-29T20:08:01.933045Z",
     "iopub.status.idle": "2021-09-29T20:08:02.159559Z",
     "shell.execute_reply": "2021-09-29T20:08:02.159098Z"
    },
    "papermill": {
     "duration": 0.271846,
     "end_time": "2021-09-29T20:08:02.159678",
     "exception": false,
     "start_time": "2021-09-29T20:08:01.887832",
     "status": "completed"
    },
    "tags": []
   },
   "outputs": [
    {
     "data": {
      "text/plain": [
       "<matplotlib.legend.Legend at 0x7f291a0a3860>"
      ]
     },
     "execution_count": 24,
     "metadata": {},
     "output_type": "execute_result"
    },
    {
     "data": {
      "image/png": "[encoded data removed]",
      "text/plain": [
       "<Figure size 1080x720 with 1 Axes>"
      ]
     },
     "metadata": {
      "needs_background": "light"
     },
     "output_type": "display_data"
    }
   ],
   "source": [
    "#comparing the results of NN and LR\n",
    "plt.figure(figsize=(15,10))\n",
    "\n",
    "# Neural Network plots\n",
    "plt.plot(acc_nn.accuracies, 'r-', label = \"Training Accuracies - NN\")\n",
    "plt.plot(acc_nn.test_accuracies, 'g-', label = \"Testing Accuracies - NN\")\n",
    "\n",
    "# Logistic Regression plots\n",
    "plt.plot(acc_lr.accuracies, 'k-', label = \"Training Accuracies - LR\")\n",
    "plt.plot(acc_lr.test_accuracies, 'b-', label = \"Testing Accuracies - LR\")\n",
    "plt.legend()"
   ]
  },
  {
   "cell_type": "markdown",
   "id": "80dfb35c",
   "metadata": {
    "papermill": {
     "duration": 0.041649,
     "end_time": "2021-09-29T20:08:02.243579",
     "exception": false,
     "start_time": "2021-09-29T20:08:02.201930",
     "status": "completed"
    },
    "tags": []
   },
   "source": [
    "#### Plotting the outputs of this layer of the NN.\n"
   ]
  },
  {
   "cell_type": "code",
   "execution_count": 25,
   "id": "45eb2ff5",
   "metadata": {
    "execution": {
     "iopub.execute_input": "2021-09-29T20:08:02.334943Z",
     "iopub.status.busy": "2021-09-29T20:08:02.333265Z",
     "iopub.status.idle": "2021-09-29T20:08:02.352513Z",
     "shell.execute_reply": "2021-09-29T20:08:02.352927Z"
    },
    "papermill": {
     "duration": 0.067435,
     "end_time": "2021-09-29T20:08:02.353071",
     "exception": false,
     "start_time": "2021-09-29T20:08:02.285636",
     "status": "completed"
    },
    "tags": []
   },
   "outputs": [],
   "source": [
    "new_model = Model(layers[:-2])\n",
    "testing_plot = new_model(testing_data_x)"
   ]
  },
  {
   "cell_type": "code",
   "execution_count": 26,
   "id": "4c0a5485",
   "metadata": {
    "execution": {
     "iopub.execute_input": "2021-09-29T20:08:02.450025Z",
     "iopub.status.busy": "2021-09-29T20:08:02.449494Z",
     "iopub.status.idle": "2021-09-29T20:08:02.645665Z",
     "shell.execute_reply": "2021-09-29T20:08:02.645231Z"
    },
    "papermill": {
     "duration": 0.248488,
     "end_time": "2021-09-29T20:08:02.645789",
     "exception": false,
     "start_time": "2021-09-29T20:08:02.397301",
     "status": "completed"
    },
    "tags": []
   },
   "outputs": [
    {
     "data": {
      "text/plain": [
       "Text(0.5, 1.0, 'Outputs')"
      ]
     },
     "execution_count": 26,
     "metadata": {},
     "output_type": "execute_result"
    },
    {
     "data": {
      "image/png": "[encoded data removed]",
      "text/plain": [
       "<Figure size 576x504 with 1 Axes>"
      ]
     },
     "metadata": {
      "needs_background": "light"
     },
     "output_type": "display_data"
    }
   ],
   "source": [
    "# Plotting the scatter plot of points and color coding by class\n",
    "plt.figure(figsize=(8,7))\n",
    "plt.scatter(testing_plot[:,0], testing_plot[:,1], alpha = 0.1, c = y_test.ravel());\n",
    "plt.title('Outputs')"
   ]
  },
  {
   "cell_type": "markdown",
   "id": "a74fcf8f",
   "metadata": {
    "papermill": {
     "duration": 0.044113,
     "end_time": "2021-09-29T20:08:02.734273",
     "exception": false,
     "start_time": "2021-09-29T20:08:02.690160",
     "status": "completed"
    },
    "tags": []
   },
   "source": [
    "Probability contours"
   ]
  },
  {
   "cell_type": "code",
   "execution_count": 27,
   "id": "d0afc8e3",
   "metadata": {
    "execution": {
     "iopub.execute_input": "2021-09-29T20:08:02.840621Z",
     "iopub.status.busy": "2021-09-29T20:08:02.833803Z",
     "iopub.status.idle": "2021-09-29T20:08:02.843243Z",
     "shell.execute_reply": "2021-09-29T20:08:02.843646Z"
    },
    "papermill": {
     "duration": 0.065217,
     "end_time": "2021-09-29T20:08:02.843786",
     "exception": false,
     "start_time": "2021-09-29T20:08:02.778569",
     "status": "completed"
    },
    "tags": []
   },
   "outputs": [],
   "source": [
    "model_prob = Model(layers[-2:]) "
   ]
  },
  {
   "cell_type": "code",
   "execution_count": 28,
   "id": "9b96e238",
   "metadata": {
    "execution": {
     "iopub.execute_input": "2021-09-29T20:08:02.940323Z",
     "iopub.status.busy": "2021-09-29T20:08:02.937255Z",
     "iopub.status.idle": "2021-09-29T20:08:02.954760Z",
     "shell.execute_reply": "2021-09-29T20:08:02.954252Z"
    },
    "papermill": {
     "duration": 0.066869,
     "end_time": "2021-09-29T20:08:02.954883",
     "exception": false,
     "start_time": "2021-09-29T20:08:02.888014",
     "status": "completed"
    },
    "tags": []
   },
   "outputs": [],
   "source": [
    "#creating the x and y ranges according to the above generated plot.\n",
    "x_range = np.linspace(-4, 1, 100) \n",
    "y_range = np.linspace(-6, 6, 100) \n",
    "x_grid, y_grid = np.meshgrid(x_range, y_range) # x_grid and y_grig are of size 100 X 100\n",
    "\n",
    "# converting x_grid and y_grid to continuous arrays\n",
    "x_gridflat = np.ravel(x_grid)\n",
    "y_gridflat = np.ravel(y_grid)\n",
    "\n",
    "# The last layer of the current model takes two columns as input. Hence transpose of np.vstack() is required.\n",
    "X = np.vstack((x_gridflat, y_gridflat)).T\n",
    "\n",
    "prob_contour = model_prob(X).reshape(100,100) "
   ]
  },
  {
   "cell_type": "code",
   "execution_count": 29,
   "id": "da72499a",
   "metadata": {
    "execution": {
     "iopub.execute_input": "2021-09-29T20:08:03.054592Z",
     "iopub.status.busy": "2021-09-29T20:08:03.053981Z",
     "iopub.status.idle": "2021-09-29T20:08:03.298985Z",
     "shell.execute_reply": "2021-09-29T20:08:03.298469Z"
    },
    "papermill": {
     "duration": 0.295166,
     "end_time": "2021-09-29T20:08:03.299114",
     "exception": false,
     "start_time": "2021-09-29T20:08:03.003948",
     "status": "completed"
    },
    "tags": []
   },
   "outputs": [
    {
     "data": {
      "image/png": "[encoded data removed]",
      "text/plain": [
       "<Figure size 720x648 with 1 Axes>"
      ]
     },
     "metadata": {
      "needs_background": "light"
     },
     "output_type": "display_data"
    }
   ],
   "source": [
    "plt.figure(figsize=(10,9))\n",
    "plt.scatter(testing_plot[:,0], testing_plot[:,1], alpha = 0.1, c = y_test.ravel())\n",
    "contours = plt.contour(x_grid,y_grid,prob_contour)\n",
    "plt.title('Probability Contours')\n",
    "plt.clabel(contours, inline = True );"
   ]
  },
  {
   "cell_type": "code",
   "execution_count": null,
   "id": "e81b4ac7",
   "metadata": {
    "papermill": {
     "duration": 0.047069,
     "end_time": "2021-09-29T20:08:03.426899",
     "exception": false,
     "start_time": "2021-09-29T20:08:03.379830",
     "status": "completed"
    },
    "tags": []
   },
   "outputs": [],
   "source": []
  }
 ],
 "metadata": {
  "kernelspec": {
   "display_name": "Python 3",
   "language": "python",
   "name": "python3"
  },
  "language_info": {
   "codemirror_mode": {
    "name": "ipython",
    "version": 3
   },
   "file_extension": ".py",
   "mimetype": "text/x-python",
   "name": "python",
   "nbconvert_exporter": "python",
   "pygments_lexer": "ipython3",
   "version": "3.6.15"
  },
  "papermill": {
   "default_parameters": {},
   "duration": 97.926951,
   "end_time": "2021-09-29T20:08:03.882043",
   "environment_variables": {},
   "exception": null,
   "input_path": "2020-08-11-part2.ipynb",
   "output_path": "2020-08-11-part2.ipynb",
   "parameters": {},
   "start_time": "2021-09-29T20:06:25.955092",
   "version": "2.3.3"
  }
 },
 "nbformat": 4,
 "nbformat_minor": 5
}