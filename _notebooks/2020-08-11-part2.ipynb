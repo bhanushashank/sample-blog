{
 "cells": [
  {
   "cell_type": "markdown",
   "id": "98380cd3",
   "metadata": {
    "papermill": {
     "duration": 0.02881,
     "end_time": "2021-12-03T00:22:55.046791",
     "exception": false,
     "start_time": "2021-12-03T00:22:55.017981",
     "status": "completed"
    },
    "tags": []
   },
   "source": [
    "# Distinguish Your Own Digits (DYOD)"
   ]
  },
  {
   "cell_type": "markdown",
   "id": "ef31240d",
   "metadata": {
    "papermill": {
     "duration": 0.024089,
     "end_time": "2021-12-03T00:22:55.096575",
     "exception": false,
     "start_time": "2021-12-03T00:22:55.072486",
     "status": "completed"
    },
    "tags": []
   },
   "source": [
    "You are going to write a classifier that distinguishes between the number 3 and number 8."
   ]
  },
  {
   "cell_type": "code",
   "execution_count": 1,
   "id": "b15c8646",
   "metadata": {
    "execution": {
     "iopub.execute_input": "2021-12-03T00:22:55.157772Z",
     "iopub.status.busy": "2021-12-03T00:22:55.157174Z",
     "iopub.status.idle": "2021-12-03T00:22:55.168327Z",
     "shell.execute_reply": "2021-12-03T00:22:55.167829Z"
    },
    "papermill": {
     "duration": 0.04791,
     "end_time": "2021-12-03T00:22:55.168470",
     "exception": false,
     "start_time": "2021-12-03T00:22:55.120560",
     "status": "completed"
    },
    "tags": []
   },
   "outputs": [],
   "source": [
    "%load_ext autoreload\n",
    "%autoreload 2"
   ]
  },
  {
   "cell_type": "code",
   "execution_count": 2,
   "id": "22ef38dc",
   "metadata": {
    "execution": {
     "iopub.execute_input": "2021-12-03T00:22:55.221986Z",
     "iopub.status.busy": "2021-12-03T00:22:55.220887Z",
     "iopub.status.idle": "2021-12-03T00:22:55.858946Z",
     "shell.execute_reply": "2021-12-03T00:22:55.858382Z"
    },
    "papermill": {
     "duration": 0.666371,
     "end_time": "2021-12-03T00:22:55.859133",
     "exception": false,
     "start_time": "2021-12-03T00:22:55.192762",
     "status": "completed"
    },
    "tags": []
   },
   "outputs": [],
   "source": [
    "%matplotlib inline\n",
    "import numpy as np\n",
    "import matplotlib.pyplot as plt\n",
    "import pandas as pd"
   ]
  },
  {
   "cell_type": "markdown",
   "id": "ba036198",
   "metadata": {
    "papermill": {
     "duration": 0.024448,
     "end_time": "2021-12-03T00:22:55.908188",
     "exception": false,
     "start_time": "2021-12-03T00:22:55.883740",
     "status": "completed"
    },
    "tags": []
   },
   "source": [
    "From the command line run `pip install mnist`. This is a library that will help you bring down the mnist dataset. If you run this from a notebook, you need to put  `!pip install mnist` in a cell by itself."
   ]
  },
  {
   "cell_type": "code",
   "execution_count": 3,
   "id": "bb6ad8a1",
   "metadata": {
    "execution": {
     "iopub.execute_input": "2021-12-03T00:22:55.961817Z",
     "iopub.status.busy": "2021-12-03T00:22:55.960610Z",
     "iopub.status.idle": "2021-12-03T00:22:57.826921Z",
     "shell.execute_reply": "2021-12-03T00:22:57.826382Z"
    },
    "papermill": {
     "duration": 1.894737,
     "end_time": "2021-12-03T00:22:57.827089",
     "exception": false,
     "start_time": "2021-12-03T00:22:55.932352",
     "status": "completed"
    },
    "tags": []
   },
   "outputs": [
    {
     "name": "stdout",
     "output_type": "stream",
     "text": [
      "Collecting mnist\r\n"
     ]
    },
    {
     "name": "stdout",
     "output_type": "stream",
     "text": [
      "  Downloading mnist-0.2.2-py2.py3-none-any.whl (3.5 kB)\r\n",
      "Requirement already satisfied: numpy in /opt/hostedtoolcache/Python/3.6.15/x64/lib/python3.6/site-packages (from mnist) (1.19.5)\r\n"
     ]
    },
    {
     "name": "stdout",
     "output_type": "stream",
     "text": [
      "Installing collected packages: mnist\r\n"
     ]
    },
    {
     "name": "stdout",
     "output_type": "stream",
     "text": [
      "Successfully installed mnist-0.2.2\r\n"
     ]
    }
   ],
   "source": [
    "!pip install mnist"
   ]
  },
  {
   "cell_type": "markdown",
   "id": "69df9c9a",
   "metadata": {
    "papermill": {
     "duration": 0.025187,
     "end_time": "2021-12-03T00:22:57.877804",
     "exception": false,
     "start_time": "2021-12-03T00:22:57.852617",
     "status": "completed"
    },
    "tags": []
   },
   "source": [
    "## Preparing the Data"
   ]
  },
  {
   "cell_type": "code",
   "execution_count": 4,
   "id": "7f69d806",
   "metadata": {
    "execution": {
     "iopub.execute_input": "2021-12-03T00:22:57.934050Z",
     "iopub.status.busy": "2021-12-03T00:22:57.933463Z",
     "iopub.status.idle": "2021-12-03T00:22:57.949706Z",
     "shell.execute_reply": "2021-12-03T00:22:57.950172Z"
    },
    "papermill": {
     "duration": 0.047099,
     "end_time": "2021-12-03T00:22:57.950326",
     "exception": false,
     "start_time": "2021-12-03T00:22:57.903227",
     "status": "completed"
    },
    "tags": []
   },
   "outputs": [],
   "source": [
    "import mnist"
   ]
  },
  {
   "cell_type": "code",
   "execution_count": 5,
   "id": "a411e44f",
   "metadata": {
    "execution": {
     "iopub.execute_input": "2021-12-03T00:22:58.012890Z",
     "iopub.status.busy": "2021-12-03T00:22:58.012312Z",
     "iopub.status.idle": "2021-12-03T00:22:58.557946Z",
     "shell.execute_reply": "2021-12-03T00:22:58.557360Z"
    },
    "papermill": {
     "duration": 0.582213,
     "end_time": "2021-12-03T00:22:58.558094",
     "exception": false,
     "start_time": "2021-12-03T00:22:57.975881",
     "status": "completed"
    },
    "tags": []
   },
   "outputs": [],
   "source": [
    "train_images = mnist.train_images()\n",
    "train_labels = mnist.train_labels()"
   ]
  },
  {
   "cell_type": "code",
   "execution_count": 6,
   "id": "dceab3a5",
   "metadata": {
    "execution": {
     "iopub.execute_input": "2021-12-03T00:22:58.614119Z",
     "iopub.status.busy": "2021-12-03T00:22:58.612992Z",
     "iopub.status.idle": "2021-12-03T00:22:58.630241Z",
     "shell.execute_reply": "2021-12-03T00:22:58.629775Z"
    },
    "papermill": {
     "duration": 0.046497,
     "end_time": "2021-12-03T00:22:58.630371",
     "exception": false,
     "start_time": "2021-12-03T00:22:58.583874",
     "status": "completed"
    },
    "tags": []
   },
   "outputs": [
    {
     "data": {
      "text/plain": [
       "((60000, 28, 28), (60000,))"
      ]
     },
     "execution_count": 6,
     "metadata": {},
     "output_type": "execute_result"
    }
   ],
   "source": [
    "train_images.shape, train_labels.shape"
   ]
  },
  {
   "cell_type": "code",
   "execution_count": 7,
   "id": "f50dc2bb",
   "metadata": {
    "execution": {
     "iopub.execute_input": "2021-12-03T00:22:58.693825Z",
     "iopub.status.busy": "2021-12-03T00:22:58.693216Z",
     "iopub.status.idle": "2021-12-03T00:22:58.839210Z",
     "shell.execute_reply": "2021-12-03T00:22:58.838571Z"
    },
    "papermill": {
     "duration": 0.183479,
     "end_time": "2021-12-03T00:22:58.839383",
     "exception": false,
     "start_time": "2021-12-03T00:22:58.655904",
     "status": "completed"
    },
    "tags": []
   },
   "outputs": [],
   "source": [
    "test_images = mnist.test_images()\n",
    "test_labels = mnist.test_labels()"
   ]
  },
  {
   "cell_type": "code",
   "execution_count": 8,
   "id": "fc38cf1b",
   "metadata": {
    "execution": {
     "iopub.execute_input": "2021-12-03T00:22:58.896472Z",
     "iopub.status.busy": "2021-12-03T00:22:58.895914Z",
     "iopub.status.idle": "2021-12-03T00:22:58.910147Z",
     "shell.execute_reply": "2021-12-03T00:22:58.908999Z"
    },
    "papermill": {
     "duration": 0.044987,
     "end_time": "2021-12-03T00:22:58.910654",
     "exception": false,
     "start_time": "2021-12-03T00:22:58.865667",
     "status": "completed"
    },
    "tags": []
   },
   "outputs": [
    {
     "data": {
      "text/plain": [
       "((10000, 28, 28), (10000,))"
      ]
     },
     "execution_count": 8,
     "metadata": {},
     "output_type": "execute_result"
    }
   ],
   "source": [
    "test_images.shape, test_labels.shape"
   ]
  },
  {
   "cell_type": "code",
   "execution_count": 9,
   "id": "f9ed8fe0",
   "metadata": {
    "execution": {
     "iopub.execute_input": "2021-12-03T00:22:58.970994Z",
     "iopub.status.busy": "2021-12-03T00:22:58.970386Z",
     "iopub.status.idle": "2021-12-03T00:22:59.113768Z",
     "shell.execute_reply": "2021-12-03T00:22:59.113302Z"
    },
    "papermill": {
     "duration": 0.176186,
     "end_time": "2021-12-03T00:22:59.113902",
     "exception": false,
     "start_time": "2021-12-03T00:22:58.937716",
     "status": "completed"
    },
    "tags": []
   },
   "outputs": [
    {
     "name": "stdout",
     "output_type": "stream",
     "text": [
      "2\n"
     ]
    },
    {
     "data": {
      "text/plain": [
       "<matplotlib.image.AxesImage at 0x7f788e8cd4e0>"
      ]
     },
     "execution_count": 9,
     "metadata": {},
     "output_type": "execute_result"
    },
    {
     "data": {
      "image/png": "[encoded data removed]",
      "text/plain": [
       "<Figure size 432x288 with 1 Axes>"
      ]
     },
     "metadata": {
      "needs_background": "light"
     },
     "output_type": "display_data"
    }
   ],
   "source": [
    "image_index = 7776 # You may select anything up to 60,000\n",
    "print(train_labels[image_index]) \n",
    "plt.imshow(train_images[image_index], cmap='Greys')"
   ]
  },
  {
   "cell_type": "markdown",
   "id": "a8d2388d",
   "metadata": {
    "papermill": {
     "duration": 0.026876,
     "end_time": "2021-12-03T00:22:59.167922",
     "exception": false,
     "start_time": "2021-12-03T00:22:59.141046",
     "status": "completed"
    },
    "tags": []
   },
   "source": [
    "## Filter data to get 3 and 8 out"
   ]
  },
  {
   "cell_type": "code",
   "execution_count": 10,
   "id": "776f7fc7",
   "metadata": {
    "execution": {
     "iopub.execute_input": "2021-12-03T00:22:59.228653Z",
     "iopub.status.busy": "2021-12-03T00:22:59.227297Z",
     "iopub.status.idle": "2021-12-03T00:22:59.247747Z",
     "shell.execute_reply": "2021-12-03T00:22:59.247106Z"
    },
    "papermill": {
     "duration": 0.052428,
     "end_time": "2021-12-03T00:22:59.247894",
     "exception": false,
     "start_time": "2021-12-03T00:22:59.195466",
     "status": "completed"
    },
    "tags": []
   },
   "outputs": [],
   "source": [
    "train_filter = np.where((train_labels == 3 ) | (train_labels == 8))\n",
    "test_filter = np.where((test_labels == 3) | (test_labels == 8))\n",
    "X_train, y_train = train_images[train_filter], train_labels[train_filter]\n",
    "X_test, y_test = test_images[test_filter], test_labels[test_filter]"
   ]
  },
  {
   "cell_type": "markdown",
   "id": "948f0b7e",
   "metadata": {
    "papermill": {
     "duration": 0.026892,
     "end_time": "2021-12-03T00:22:59.302659",
     "exception": false,
     "start_time": "2021-12-03T00:22:59.275767",
     "status": "completed"
    },
    "tags": []
   },
   "source": [
    "We normalize the pizel values in the 0 to 1 range"
   ]
  },
  {
   "cell_type": "code",
   "execution_count": 11,
   "id": "ee4c2166",
   "metadata": {
    "execution": {
     "iopub.execute_input": "2021-12-03T00:22:59.364500Z",
     "iopub.status.busy": "2021-12-03T00:22:59.363926Z",
     "iopub.status.idle": "2021-12-03T00:22:59.411293Z",
     "shell.execute_reply": "2021-12-03T00:22:59.410692Z"
    },
    "papermill": {
     "duration": 0.081858,
     "end_time": "2021-12-03T00:22:59.411442",
     "exception": false,
     "start_time": "2021-12-03T00:22:59.329584",
     "status": "completed"
    },
    "tags": []
   },
   "outputs": [],
   "source": [
    "X_train = X_train/255.\n",
    "X_test = X_test/255."
   ]
  },
  {
   "cell_type": "markdown",
   "id": "ddcf4fab",
   "metadata": {
    "papermill": {
     "duration": 0.027287,
     "end_time": "2021-12-03T00:22:59.466795",
     "exception": false,
     "start_time": "2021-12-03T00:22:59.439508",
     "status": "completed"
    },
    "tags": []
   },
   "source": [
    "And setup the labels as 1 (when the digit is 3) and 0 (when the digit is 8)"
   ]
  },
  {
   "cell_type": "code",
   "execution_count": 12,
   "id": "7dc908f2",
   "metadata": {
    "execution": {
     "iopub.execute_input": "2021-12-03T00:22:59.539335Z",
     "iopub.status.busy": "2021-12-03T00:22:59.536011Z",
     "iopub.status.idle": "2021-12-03T00:22:59.541755Z",
     "shell.execute_reply": "2021-12-03T00:22:59.541278Z"
    },
    "papermill": {
     "duration": 0.048091,
     "end_time": "2021-12-03T00:22:59.541884",
     "exception": false,
     "start_time": "2021-12-03T00:22:59.493793",
     "status": "completed"
    },
    "tags": []
   },
   "outputs": [],
   "source": [
    "y_train = 1*(y_train==3)\n",
    "y_test = 1*(y_test==3)"
   ]
  },
  {
   "cell_type": "code",
   "execution_count": 13,
   "id": "01e4e969",
   "metadata": {
    "execution": {
     "iopub.execute_input": "2021-12-03T00:22:59.600912Z",
     "iopub.status.busy": "2021-12-03T00:22:59.600349Z",
     "iopub.status.idle": "2021-12-03T00:22:59.614217Z",
     "shell.execute_reply": "2021-12-03T00:22:59.613775Z"
    },
    "papermill": {
     "duration": 0.045393,
     "end_time": "2021-12-03T00:22:59.614345",
     "exception": false,
     "start_time": "2021-12-03T00:22:59.568952",
     "status": "completed"
    },
    "tags": []
   },
   "outputs": [
    {
     "data": {
      "text/plain": [
       "((11982, 28, 28), (1984, 28, 28))"
      ]
     },
     "execution_count": 13,
     "metadata": {},
     "output_type": "execute_result"
    }
   ],
   "source": [
    "X_train.shape, X_test.shape"
   ]
  },
  {
   "cell_type": "markdown",
   "id": "5ccf3f85",
   "metadata": {
    "papermill": {
     "duration": 0.026871,
     "end_time": "2021-12-03T00:22:59.668446",
     "exception": false,
     "start_time": "2021-12-03T00:22:59.641575",
     "status": "completed"
    },
    "tags": []
   },
   "source": [
    "We reshape the data to flatten the image pixels into a set of features or co-variates:"
   ]
  },
  {
   "cell_type": "code",
   "execution_count": 14,
   "id": "5286a4a3",
   "metadata": {
    "execution": {
     "iopub.execute_input": "2021-12-03T00:22:59.741070Z",
     "iopub.status.busy": "2021-12-03T00:22:59.740299Z",
     "iopub.status.idle": "2021-12-03T00:22:59.743140Z",
     "shell.execute_reply": "2021-12-03T00:22:59.742631Z"
    },
    "papermill": {
     "duration": 0.047627,
     "end_time": "2021-12-03T00:22:59.743269",
     "exception": false,
     "start_time": "2021-12-03T00:22:59.695642",
     "status": "completed"
    },
    "tags": []
   },
   "outputs": [
    {
     "data": {
      "text/plain": [
       "((11982, 784), (1984, 784))"
      ]
     },
     "execution_count": 14,
     "metadata": {},
     "output_type": "execute_result"
    }
   ],
   "source": [
    "X_train = X_train.reshape(X_train.shape[0], -1)\n",
    "X_test = X_test.reshape(X_test.shape[0], -1)\n",
    "X_train.shape, X_test.shape"
   ]
  },
  {
   "cell_type": "code",
   "execution_count": 15,
   "id": "73c5f88a",
   "metadata": {
    "execution": {
     "iopub.execute_input": "2021-12-03T00:22:59.814678Z",
     "iopub.status.busy": "2021-12-03T00:22:59.814057Z",
     "iopub.status.idle": "2021-12-03T00:22:59.826567Z",
     "shell.execute_reply": "2021-12-03T00:22:59.827035Z"
    },
    "papermill": {
     "duration": 0.056367,
     "end_time": "2021-12-03T00:22:59.827201",
     "exception": false,
     "start_time": "2021-12-03T00:22:59.770834",
     "status": "completed"
    },
    "tags": []
   },
   "outputs": [],
   "source": [
    "#Impoting functions from 'Kudzu'\n",
    "from kudzu.model import Model\n",
    "from kudzu.train import Learner\n",
    "from kudzu.optim import GD\n",
    "from kudzu.data import Data, Sampler,Dataloader\n",
    "\n",
    "from kudzu.callbacks import AccCallback\n",
    "from kudzu.callbacks import ClfCallback\n",
    "\n",
    "from kudzu.loss import MSE\n",
    "\n",
    "from kudzu.layer import Sigmoid,Relu\n",
    "from kudzu.layer import Affine"
   ]
  },
  {
   "cell_type": "markdown",
   "id": "bc01172a",
   "metadata": {
    "papermill": {
     "duration": 0.027765,
     "end_time": "2021-12-03T00:22:59.882581",
     "exception": false,
     "start_time": "2021-12-03T00:22:59.854816",
     "status": "completed"
    },
    "tags": []
   },
   "source": [
    "### Let us create a `Config` class, to store important parameters. \n",
    "This class essentially plays the role of a dictionary."
   ]
  },
  {
   "cell_type": "code",
   "execution_count": 16,
   "id": "978281aa",
   "metadata": {
    "execution": {
     "iopub.execute_input": "2021-12-03T00:22:59.944312Z",
     "iopub.status.busy": "2021-12-03T00:22:59.943723Z",
     "iopub.status.idle": "2021-12-03T00:22:59.955024Z",
     "shell.execute_reply": "2021-12-03T00:22:59.954516Z"
    },
    "papermill": {
     "duration": 0.045146,
     "end_time": "2021-12-03T00:22:59.955158",
     "exception": false,
     "start_time": "2021-12-03T00:22:59.910012",
     "status": "completed"
    },
    "tags": []
   },
   "outputs": [],
   "source": [
    "class Config:\n",
    "    pass\n",
    "config = Config()\n",
    "config.lr = 0.001\n",
    "config.num_epochs = 250\n",
    "config.bs = 50"
   ]
  },
  {
   "cell_type": "markdown",
   "id": "1385fa59",
   "metadata": {
    "papermill": {
     "duration": 0.027219,
     "end_time": "2021-12-03T00:23:00.010358",
     "exception": false,
     "start_time": "2021-12-03T00:22:59.983139",
     "status": "completed"
    },
    "tags": []
   },
   "source": [
    "### Running Models with the Training data\n",
    "Details about the network layers:\n",
    "- A first affine layer has 784 inputs and does 100 affine transforms. These are followed by a Relu\n",
    "- A second affine layer has 100 inputs from the 100 activations of the past layer, and does 100 affine transforms. These are followed by a Relu\n",
    "- A third affine layer has 100 activations and does 2 affine transformations to create an embedding for visualization. There is no non-linearity here.\n",
    "- A final \"logistic regression\" which has an affine transform from 2 inputs to 1 output, which is squeezed through a sigmoid.\n"
   ]
  },
  {
   "cell_type": "code",
   "execution_count": 17,
   "id": "2b9c66db",
   "metadata": {
    "execution": {
     "iopub.execute_input": "2021-12-03T00:23:00.075401Z",
     "iopub.status.busy": "2021-12-03T00:23:00.074745Z",
     "iopub.status.idle": "2021-12-03T00:23:00.084648Z",
     "shell.execute_reply": "2021-12-03T00:23:00.084190Z"
    },
    "papermill": {
     "duration": 0.047012,
     "end_time": "2021-12-03T00:23:00.084777",
     "exception": false,
     "start_time": "2021-12-03T00:23:00.037765",
     "status": "completed"
    },
    "tags": []
   },
   "outputs": [],
   "source": [
    "data = Data(X_train, y_train.reshape(-1,1))\n",
    "sampler = Sampler(data, config.bs, shuffle=True)\n",
    "\n",
    "dl = Dataloader(data, sampler)\n",
    "\n",
    "opt = GD(config.lr)\n",
    "loss = MSE()"
   ]
  },
  {
   "cell_type": "code",
   "execution_count": 18,
   "id": "b275e4c2",
   "metadata": {
    "execution": {
     "iopub.execute_input": "2021-12-03T00:23:00.147624Z",
     "iopub.status.busy": "2021-12-03T00:23:00.146994Z",
     "iopub.status.idle": "2021-12-03T00:23:00.159212Z",
     "shell.execute_reply": "2021-12-03T00:23:00.158682Z"
    },
    "papermill": {
     "duration": 0.04686,
     "end_time": "2021-12-03T00:23:00.159359",
     "exception": false,
     "start_time": "2021-12-03T00:23:00.112499",
     "status": "completed"
    },
    "tags": []
   },
   "outputs": [],
   "source": [
    "training_data_x = X_train\n",
    "testing_data_x = X_test\n",
    "training_data_y = y_train.reshape(-1,1)\n",
    "testing_data_y = y_test.reshape(-1,1)"
   ]
  },
  {
   "cell_type": "code",
   "execution_count": 19,
   "id": "76951160",
   "metadata": {
    "execution": {
     "iopub.execute_input": "2021-12-03T00:23:00.227557Z",
     "iopub.status.busy": "2021-12-03T00:23:00.226887Z",
     "iopub.status.idle": "2021-12-03T00:23:00.239011Z",
     "shell.execute_reply": "2021-12-03T00:23:00.238441Z"
    },
    "papermill": {
     "duration": 0.052023,
     "end_time": "2021-12-03T00:23:00.239144",
     "exception": false,
     "start_time": "2021-12-03T00:23:00.187121",
     "status": "completed"
    },
    "tags": []
   },
   "outputs": [
    {
     "name": "stdout",
     "output_type": "stream",
     "text": [
      "xavier\n",
      "xavier\n",
      "xavier\n",
      "xavier\n",
      "xavier\n"
     ]
    }
   ],
   "source": [
    "layers = [Affine(\"first\", 784, 100), Relu(\"first\"), Affine(\"second\", 100, 100), Relu(\"second\"), Affine(\"third\", 100, 2), Affine(\"last\", 2, 1), Sigmoid(\"last\")]\n",
    "model_nn = Model(layers)\n",
    "model_lr = Model([Affine(\"logits\", 784, 1), Sigmoid(\"sigmoid\")])"
   ]
  },
  {
   "cell_type": "code",
   "execution_count": 20,
   "id": "6eede77a",
   "metadata": {
    "execution": {
     "iopub.execute_input": "2021-12-03T00:23:00.313083Z",
     "iopub.status.busy": "2021-12-03T00:23:00.308135Z",
     "iopub.status.idle": "2021-12-03T00:23:00.315105Z",
     "shell.execute_reply": "2021-12-03T00:23:00.315548Z"
    },
    "papermill": {
     "duration": 0.048467,
     "end_time": "2021-12-03T00:23:00.315703",
     "exception": false,
     "start_time": "2021-12-03T00:23:00.267236",
     "status": "completed"
    },
    "tags": []
   },
   "outputs": [],
   "source": [
    "nn_learner = Learner(loss, model_nn, opt, config.num_epochs)\n",
    "acc_nn = ClfCallback(nn_learner, config.bs, training_data_x , testing_data_x, training_data_y, testing_data_y)\n",
    "nn_learner.set_callbacks([acc_nn])"
   ]
  },
  {
   "cell_type": "code",
   "execution_count": 21,
   "id": "877b6cc7",
   "metadata": {
    "execution": {
     "iopub.execute_input": "2021-12-03T00:23:00.380170Z",
     "iopub.status.busy": "2021-12-03T00:23:00.375455Z",
     "iopub.status.idle": "2021-12-03T00:23:00.389938Z",
     "shell.execute_reply": "2021-12-03T00:23:00.390370Z"
    },
    "papermill": {
     "duration": 0.046952,
     "end_time": "2021-12-03T00:23:00.390534",
     "exception": false,
     "start_time": "2021-12-03T00:23:00.343582",
     "status": "completed"
    },
    "tags": []
   },
   "outputs": [],
   "source": [
    "lr_learner = Learner(loss, model_lr, opt, config.num_epochs)\n",
    "acc_lr = ClfCallback(lr_learner, config.bs, training_data_x , testing_data_x, training_data_y, testing_data_y)\n",
    "lr_learner.set_callbacks([acc_lr])"
   ]
  },
  {
   "cell_type": "code",
   "execution_count": 22,
   "id": "d9b133c3",
   "metadata": {
    "execution": {
     "iopub.execute_input": "2021-12-03T00:23:00.460490Z",
     "iopub.status.busy": "2021-12-03T00:23:00.456725Z",
     "iopub.status.idle": "2021-12-03T00:24:25.785443Z",
     "shell.execute_reply": "2021-12-03T00:24:25.786288Z"
    },
    "papermill": {
     "duration": 85.368026,
     "end_time": "2021-12-03T00:24:25.786449",
     "exception": false,
     "start_time": "2021-12-03T00:23:00.418423",
     "status": "completed"
    },
    "tags": []
   },
   "outputs": [
    {
     "name": "stdout",
     "output_type": "stream",
     "text": [
      "Epoch 0, Loss 0.2481\n",
      "Training Accuracy: 0.5154, Testing Accuracy: 0.4995\n",
      "\n"
     ]
    },
    {
     "name": "stdout",
     "output_type": "stream",
     "text": [
      "Epoch 10, Loss 0.2054\n",
      "Training Accuracy: 0.8853, Testing Accuracy: 0.8967\n",
      "\n"
     ]
    },
    {
     "name": "stdout",
     "output_type": "stream",
     "text": [
      "Epoch 20, Loss 0.1079\n",
      "Training Accuracy: 0.9215, Testing Accuracy: 0.9249\n",
      "\n"
     ]
    },
    {
     "name": "stdout",
     "output_type": "stream",
     "text": [
      "Epoch 30, Loss 0.062\n",
      "Training Accuracy: 0.9405, Testing Accuracy: 0.9486\n",
      "\n"
     ]
    },
    {
     "name": "stdout",
     "output_type": "stream",
     "text": [
      "Epoch 40, Loss 0.0472\n",
      "Training Accuracy: 0.9500, Testing Accuracy: 0.9561\n",
      "\n"
     ]
    },
    {
     "name": "stdout",
     "output_type": "stream",
     "text": [
      "Epoch 50, Loss 0.0402\n",
      "Training Accuracy: 0.9557, Testing Accuracy: 0.9637\n",
      "\n"
     ]
    },
    {
     "name": "stdout",
     "output_type": "stream",
     "text": [
      "Epoch 60, Loss 0.0361\n",
      "Training Accuracy: 0.9589, Testing Accuracy: 0.9667\n",
      "\n"
     ]
    },
    {
     "name": "stdout",
     "output_type": "stream",
     "text": [
      "Epoch 70, Loss 0.0334\n",
      "Training Accuracy: 0.9614, Testing Accuracy: 0.9677\n",
      "\n"
     ]
    },
    {
     "name": "stdout",
     "output_type": "stream",
     "text": [
      "Epoch 80, Loss 0.0314\n",
      "Training Accuracy: 0.9627, Testing Accuracy: 0.9672\n",
      "\n"
     ]
    },
    {
     "name": "stdout",
     "output_type": "stream",
     "text": [
      "Epoch 90, Loss 0.0299\n",
      "Training Accuracy: 0.9649, Testing Accuracy: 0.9667\n",
      "\n"
     ]
    },
    {
     "name": "stdout",
     "output_type": "stream",
     "text": [
      "Epoch 100, Loss 0.0286\n",
      "Training Accuracy: 0.9659, Testing Accuracy: 0.9672\n",
      "\n"
     ]
    },
    {
     "name": "stdout",
     "output_type": "stream",
     "text": [
      "Epoch 110, Loss 0.0275\n",
      "Training Accuracy: 0.9676, Testing Accuracy: 0.9688\n",
      "\n"
     ]
    },
    {
     "name": "stdout",
     "output_type": "stream",
     "text": [
      "Epoch 120, Loss 0.0267\n",
      "Training Accuracy: 0.9685, Testing Accuracy: 0.9703\n",
      "\n"
     ]
    },
    {
     "name": "stdout",
     "output_type": "stream",
     "text": [
      "Epoch 130, Loss 0.0259\n",
      "Training Accuracy: 0.9695, Testing Accuracy: 0.9708\n",
      "\n"
     ]
    },
    {
     "name": "stdout",
     "output_type": "stream",
     "text": [
      "Epoch 140, Loss 0.0252\n",
      "Training Accuracy: 0.9702, Testing Accuracy: 0.9708\n",
      "\n"
     ]
    },
    {
     "name": "stdout",
     "output_type": "stream",
     "text": [
      "Epoch 150, Loss 0.0246\n",
      "Training Accuracy: 0.9714, Testing Accuracy: 0.9718\n",
      "\n"
     ]
    },
    {
     "name": "stdout",
     "output_type": "stream",
     "text": [
      "Epoch 160, Loss 0.024\n",
      "Training Accuracy: 0.9722, Testing Accuracy: 0.9718\n",
      "\n"
     ]
    },
    {
     "name": "stdout",
     "output_type": "stream",
     "text": [
      "Epoch 170, Loss 0.0235\n",
      "Training Accuracy: 0.9723, Testing Accuracy: 0.9728\n",
      "\n"
     ]
    },
    {
     "name": "stdout",
     "output_type": "stream",
     "text": [
      "Epoch 180, Loss 0.023\n",
      "Training Accuracy: 0.9728, Testing Accuracy: 0.9728\n",
      "\n"
     ]
    },
    {
     "name": "stdout",
     "output_type": "stream",
     "text": [
      "Epoch 190, Loss 0.0225\n",
      "Training Accuracy: 0.9737, Testing Accuracy: 0.9733\n",
      "\n"
     ]
    },
    {
     "name": "stdout",
     "output_type": "stream",
     "text": [
      "Epoch 200, Loss 0.0221\n",
      "Training Accuracy: 0.9743, Testing Accuracy: 0.9733\n",
      "\n"
     ]
    },
    {
     "name": "stdout",
     "output_type": "stream",
     "text": [
      "Epoch 210, Loss 0.0216\n",
      "Training Accuracy: 0.9751, Testing Accuracy: 0.9733\n",
      "\n"
     ]
    },
    {
     "name": "stdout",
     "output_type": "stream",
     "text": [
      "Epoch 220, Loss 0.0213\n",
      "Training Accuracy: 0.9756, Testing Accuracy: 0.9723\n",
      "\n"
     ]
    },
    {
     "name": "stdout",
     "output_type": "stream",
     "text": [
      "Epoch 230, Loss 0.0209\n",
      "Training Accuracy: 0.9760, Testing Accuracy: 0.9723\n",
      "\n"
     ]
    },
    {
     "name": "stdout",
     "output_type": "stream",
     "text": [
      "Epoch 240, Loss 0.0205\n",
      "Training Accuracy: 0.9770, Testing Accuracy: 0.9723\n",
      "\n"
     ]
    },
    {
     "data": {
      "text/plain": [
       "0.0039707698712245255"
      ]
     },
     "execution_count": 22,
     "metadata": {},
     "output_type": "execute_result"
    }
   ],
   "source": [
    "nn_learner.train_loop(dl)"
   ]
  },
  {
   "cell_type": "code",
   "execution_count": 23,
   "id": "e0163366",
   "metadata": {
    "execution": {
     "iopub.execute_input": "2021-12-03T00:24:25.865126Z",
     "iopub.status.busy": "2021-12-03T00:24:25.864567Z",
     "iopub.status.idle": "2021-12-03T00:24:41.134036Z",
     "shell.execute_reply": "2021-12-03T00:24:41.134856Z"
    },
    "papermill": {
     "duration": 15.313498,
     "end_time": "2021-12-03T00:24:41.135031",
     "exception": false,
     "start_time": "2021-12-03T00:24:25.821533",
     "status": "completed"
    },
    "tags": []
   },
   "outputs": [
    {
     "name": "stdout",
     "output_type": "stream",
     "text": [
      "Epoch 0, Loss 0.2392\n",
      "Training Accuracy: 0.6950, Testing Accuracy: 0.7248\n",
      "\n"
     ]
    },
    {
     "name": "stdout",
     "output_type": "stream",
     "text": [
      "Epoch 10, Loss 0.1042\n",
      "Training Accuracy: 0.9074, Testing Accuracy: 0.9224\n",
      "\n"
     ]
    },
    {
     "name": "stdout",
     "output_type": "stream",
     "text": [
      "Epoch 20, Loss 0.0802\n",
      "Training Accuracy: 0.9249, Testing Accuracy: 0.9415\n",
      "\n"
     ]
    },
    {
     "name": "stdout",
     "output_type": "stream",
     "text": [
      "Epoch 30, Loss 0.0691\n",
      "Training Accuracy: 0.9323, Testing Accuracy: 0.9486\n",
      "\n"
     ]
    },
    {
     "name": "stdout",
     "output_type": "stream",
     "text": [
      "Epoch 40, Loss 0.0624\n",
      "Training Accuracy: 0.9391, Testing Accuracy: 0.9526\n",
      "\n"
     ]
    },
    {
     "name": "stdout",
     "output_type": "stream",
     "text": [
      "Epoch 50, Loss 0.0578\n",
      "Training Accuracy: 0.9426, Testing Accuracy: 0.9541\n",
      "\n"
     ]
    },
    {
     "name": "stdout",
     "output_type": "stream",
     "text": [
      "Epoch 60, Loss 0.0544\n",
      "Training Accuracy: 0.9464, Testing Accuracy: 0.9572\n",
      "\n"
     ]
    },
    {
     "name": "stdout",
     "output_type": "stream",
     "text": [
      "Epoch 70, Loss 0.0518\n",
      "Training Accuracy: 0.9489, Testing Accuracy: 0.9607\n",
      "\n"
     ]
    },
    {
     "name": "stdout",
     "output_type": "stream",
     "text": [
      "Epoch 80, Loss 0.0497\n",
      "Training Accuracy: 0.9499, Testing Accuracy: 0.9617\n",
      "\n"
     ]
    },
    {
     "name": "stdout",
     "output_type": "stream",
     "text": [
      "Epoch 90, Loss 0.048\n",
      "Training Accuracy: 0.9515, Testing Accuracy: 0.9617\n",
      "\n"
     ]
    },
    {
     "name": "stdout",
     "output_type": "stream",
     "text": [
      "Epoch 100, Loss 0.0465\n",
      "Training Accuracy: 0.9533, Testing Accuracy: 0.9627\n",
      "\n"
     ]
    },
    {
     "name": "stdout",
     "output_type": "stream",
     "text": [
      "Epoch 110, Loss 0.0452\n",
      "Training Accuracy: 0.9543, Testing Accuracy: 0.9637\n",
      "\n"
     ]
    },
    {
     "name": "stdout",
     "output_type": "stream",
     "text": [
      "Epoch 120, Loss 0.0441\n",
      "Training Accuracy: 0.9550, Testing Accuracy: 0.9637\n",
      "\n"
     ]
    },
    {
     "name": "stdout",
     "output_type": "stream",
     "text": [
      "Epoch 130, Loss 0.0431\n",
      "Training Accuracy: 0.9563, Testing Accuracy: 0.9637\n",
      "\n"
     ]
    },
    {
     "name": "stdout",
     "output_type": "stream",
     "text": [
      "Epoch 140, Loss 0.0423\n",
      "Training Accuracy: 0.9569, Testing Accuracy: 0.9627\n",
      "\n"
     ]
    },
    {
     "name": "stdout",
     "output_type": "stream",
     "text": [
      "Epoch 150, Loss 0.0415\n",
      "Training Accuracy: 0.9574, Testing Accuracy: 0.9627\n",
      "\n"
     ]
    },
    {
     "name": "stdout",
     "output_type": "stream",
     "text": [
      "Epoch 160, Loss 0.0408\n",
      "Training Accuracy: 0.9580, Testing Accuracy: 0.9627\n",
      "\n"
     ]
    },
    {
     "name": "stdout",
     "output_type": "stream",
     "text": [
      "Epoch 170, Loss 0.0402\n",
      "Training Accuracy: 0.9586, Testing Accuracy: 0.9642\n",
      "\n"
     ]
    },
    {
     "name": "stdout",
     "output_type": "stream",
     "text": [
      "Epoch 180, Loss 0.0396\n",
      "Training Accuracy: 0.9588, Testing Accuracy: 0.9642\n",
      "\n"
     ]
    },
    {
     "name": "stdout",
     "output_type": "stream",
     "text": [
      "Epoch 190, Loss 0.0391\n",
      "Training Accuracy: 0.9591, Testing Accuracy: 0.9657\n",
      "\n"
     ]
    },
    {
     "name": "stdout",
     "output_type": "stream",
     "text": [
      "Epoch 200, Loss 0.0386\n",
      "Training Accuracy: 0.9596, Testing Accuracy: 0.9657\n",
      "\n"
     ]
    },
    {
     "name": "stdout",
     "output_type": "stream",
     "text": [
      "Epoch 210, Loss 0.0381\n",
      "Training Accuracy: 0.9598, Testing Accuracy: 0.9652\n",
      "\n"
     ]
    },
    {
     "name": "stdout",
     "output_type": "stream",
     "text": [
      "Epoch 220, Loss 0.0377\n",
      "Training Accuracy: 0.9600, Testing Accuracy: 0.9657\n",
      "\n"
     ]
    },
    {
     "name": "stdout",
     "output_type": "stream",
     "text": [
      "Epoch 230, Loss 0.0373\n",
      "Training Accuracy: 0.9606, Testing Accuracy: 0.9667\n",
      "\n"
     ]
    },
    {
     "name": "stdout",
     "output_type": "stream",
     "text": [
      "Epoch 240, Loss 0.0369\n",
      "Training Accuracy: 0.9608, Testing Accuracy: 0.9672\n",
      "\n"
     ]
    },
    {
     "data": {
      "text/plain": [
       "0.05654398259348441"
      ]
     },
     "execution_count": 23,
     "metadata": {},
     "output_type": "execute_result"
    }
   ],
   "source": [
    "lr_learner.train_loop(dl)"
   ]
  },
  {
   "cell_type": "code",
   "execution_count": 24,
   "id": "ca410940",
   "metadata": {
    "execution": {
     "iopub.execute_input": "2021-12-03T00:24:41.232568Z",
     "iopub.status.busy": "2021-12-03T00:24:41.231968Z",
     "iopub.status.idle": "2021-12-03T00:24:41.458687Z",
     "shell.execute_reply": "2021-12-03T00:24:41.457759Z"
    },
    "papermill": {
     "duration": 0.281831,
     "end_time": "2021-12-03T00:24:41.458840",
     "exception": false,
     "start_time": "2021-12-03T00:24:41.177009",
     "status": "completed"
    },
    "tags": []
   },
   "outputs": [
    {
     "data": {
      "text/plain": [
       "<matplotlib.legend.Legend at 0x7f788e4a8c88>"
      ]
     },
     "execution_count": 24,
     "metadata": {},
     "output_type": "execute_result"
    },
    {
     "data": {
      "image/png": "[encoded data removed]",
      "text/plain": [
       "<Figure size 1080x720 with 1 Axes>"
      ]
     },
     "metadata": {
      "needs_background": "light"
     },
     "output_type": "display_data"
    }
   ],
   "source": [
    "#comparing the results of NN and LR\n",
    "plt.figure(figsize=(15,10))\n",
    "\n",
    "# Neural Network plots\n",
    "plt.plot(acc_nn.accuracies, 'r-', label = \"Training Accuracies - NN\")\n",
    "plt.plot(acc_nn.test_accuracies, 'g-', label = \"Testing Accuracies - NN\")\n",
    "\n",
    "# Logistic Regression plots\n",
    "plt.plot(acc_lr.accuracies, 'k-', label = \"Training Accuracies - LR\")\n",
    "plt.plot(acc_lr.test_accuracies, 'b-', label = \"Testing Accuracies - LR\")\n",
    "plt.legend()"
   ]
  },
  {
   "cell_type": "markdown",
   "id": "80dfb35c",
   "metadata": {
    "papermill": {
     "duration": 0.042999,
     "end_time": "2021-12-03T00:24:41.545166",
     "exception": false,
     "start_time": "2021-12-03T00:24:41.502167",
     "status": "completed"
    },
    "tags": []
   },
   "source": [
    "#### Plotting the outputs of this layer of the NN.\n"
   ]
  },
  {
   "cell_type": "code",
   "execution_count": 25,
   "id": "45eb2ff5",
   "metadata": {
    "execution": {
     "iopub.execute_input": "2021-12-03T00:24:41.637376Z",
     "iopub.status.busy": "2021-12-03T00:24:41.635666Z",
     "iopub.status.idle": "2021-12-03T00:24:41.656369Z",
     "shell.execute_reply": "2021-12-03T00:24:41.656861Z"
    },
    "papermill": {
     "duration": 0.069213,
     "end_time": "2021-12-03T00:24:41.657021",
     "exception": false,
     "start_time": "2021-12-03T00:24:41.587808",
     "status": "completed"
    },
    "tags": []
   },
   "outputs": [],
   "source": [
    "new_model = Model(layers[:-2])\n",
    "testing_plot = new_model(testing_data_x)"
   ]
  },
  {
   "cell_type": "code",
   "execution_count": 26,
   "id": "4c0a5485",
   "metadata": {
    "execution": {
     "iopub.execute_input": "2021-12-03T00:24:41.749398Z",
     "iopub.status.busy": "2021-12-03T00:24:41.748777Z",
     "iopub.status.idle": "2021-12-03T00:24:41.949643Z",
     "shell.execute_reply": "2021-12-03T00:24:41.949128Z"
    },
    "papermill": {
     "duration": 0.248952,
     "end_time": "2021-12-03T00:24:41.949774",
     "exception": false,
     "start_time": "2021-12-03T00:24:41.700822",
     "status": "completed"
    },
    "tags": []
   },
   "outputs": [
    {
     "data": {
      "text/plain": [
       "Text(0.5, 1.0, 'Outputs')"
      ]
     },
     "execution_count": 26,
     "metadata": {},
     "output_type": "execute_result"
    },
    {
     "data": {
      "image/png": "[encoded data removed]",
      "text/plain": [
       "<Figure size 576x504 with 1 Axes>"
      ]
     },
     "metadata": {
      "needs_background": "light"
     },
     "output_type": "display_data"
    }
   ],
   "source": [
    "# Plotting the scatter plot of points and color coding by class\n",
    "plt.figure(figsize=(8,7))\n",
    "plt.scatter(testing_plot[:,0], testing_plot[:,1], alpha = 0.1, c = y_test.ravel());\n",
    "plt.title('Outputs')"
   ]
  },
  {
   "cell_type": "markdown",
   "id": "a74fcf8f",
   "metadata": {
    "papermill": {
     "duration": 0.044149,
     "end_time": "2021-12-03T00:24:42.038217",
     "exception": false,
     "start_time": "2021-12-03T00:24:41.994068",
     "status": "completed"
    },
    "tags": []
   },
   "source": [
    "Probability contours"
   ]
  },
  {
   "cell_type": "code",
   "execution_count": 27,
   "id": "d0afc8e3",
   "metadata": {
    "execution": {
     "iopub.execute_input": "2021-12-03T00:24:42.137269Z",
     "iopub.status.busy": "2021-12-03T00:24:42.136298Z",
     "iopub.status.idle": "2021-12-03T00:24:42.145803Z",
     "shell.execute_reply": "2021-12-03T00:24:42.145340Z"
    },
    "papermill": {
     "duration": 0.0634,
     "end_time": "2021-12-03T00:24:42.145934",
     "exception": false,
     "start_time": "2021-12-03T00:24:42.082534",
     "status": "completed"
    },
    "tags": []
   },
   "outputs": [],
   "source": [
    "model_prob = Model(layers[-2:]) "
   ]
  },
  {
   "cell_type": "code",
   "execution_count": 28,
   "id": "9b96e238",
   "metadata": {
    "execution": {
     "iopub.execute_input": "2021-12-03T00:24:42.286719Z",
     "iopub.status.busy": "2021-12-03T00:24:42.283211Z",
     "iopub.status.idle": "2021-12-03T00:24:42.299317Z",
     "shell.execute_reply": "2021-12-03T00:24:42.299794Z"
    },
    "papermill": {
     "duration": 0.068573,
     "end_time": "2021-12-03T00:24:42.299974",
     "exception": false,
     "start_time": "2021-12-03T00:24:42.231401",
     "status": "completed"
    },
    "tags": []
   },
   "outputs": [],
   "source": [
    "#creating the x and y ranges according to the above generated plot.\n",
    "x_range = np.linspace(-4, 1, 100) \n",
    "y_range = np.linspace(-6, 6, 100) \n",
    "x_grid, y_grid = np.meshgrid(x_range, y_range) # x_grid and y_grig are of size 100 X 100\n",
    "\n",
    "# converting x_grid and y_grid to continuous arrays\n",
    "x_gridflat = np.ravel(x_grid)\n",
    "y_gridflat = np.ravel(y_grid)\n",
    "\n",
    "# The last layer of the current model takes two columns as input. Hence transpose of np.vstack() is required.\n",
    "X = np.vstack((x_gridflat, y_gridflat)).T\n",
    "\n",
    "prob_contour = model_prob(X).reshape(100,100) "
   ]
  },
  {
   "cell_type": "code",
   "execution_count": 29,
   "id": "da72499a",
   "metadata": {
    "execution": {
     "iopub.execute_input": "2021-12-03T00:24:42.394446Z",
     "iopub.status.busy": "2021-12-03T00:24:42.393857Z",
     "iopub.status.idle": "2021-12-03T00:24:42.644816Z",
     "shell.execute_reply": "2021-12-03T00:24:42.645304Z"
    },
    "papermill": {
     "duration": 0.301261,
     "end_time": "2021-12-03T00:24:42.645465",
     "exception": false,
     "start_time": "2021-12-03T00:24:42.344204",
     "status": "completed"
    },
    "tags": []
   },
   "outputs": [
    {
     "data": {
      "image/png": "[encoded data removed]",
      "text/plain": [
       "<Figure size 720x648 with 1 Axes>"
      ]
     },
     "metadata": {
      "needs_background": "light"
     },
     "output_type": "display_data"
    }
   ],
   "source": [
    "plt.figure(figsize=(10,9))\n",
    "plt.scatter(testing_plot[:,0], testing_plot[:,1], alpha = 0.1, c = y_test.ravel())\n",
    "contours = plt.contour(x_grid,y_grid,prob_contour)\n",
    "plt.title('Probability Contours')\n",
    "plt.clabel(contours, inline = True );"
   ]
  },
  {
   "cell_type": "code",
   "execution_count": null,
   "id": "e81b4ac7",
   "metadata": {
    "papermill": {
     "duration": 0.046316,
     "end_time": "2021-12-03T00:24:42.738621",
     "exception": false,
     "start_time": "2021-12-03T00:24:42.692305",
     "status": "completed"
    },
    "tags": []
   },
   "outputs": [],
   "source": []
  }
 ],
 "metadata": {
  "kernelspec": {
   "display_name": "Python 3",
   "language": "python",
   "name": "python3"
  },
  "language_info": {
   "codemirror_mode": {
    "name": "ipython",
    "version": 3
   },
   "file_extension": ".py",
   "mimetype": "text/x-python",
   "name": "python",
   "nbconvert_exporter": "python",
   "pygments_lexer": "ipython3",
   "version": "3.6.15"
  },
  "papermill": {
   "default_parameters": {},
   "duration": 109.539895,
   "end_time": "2021-12-03T00:24:43.294766",
   "environment_variables": {},
   "exception": null,
   "input_path": "2020-08-11-part2.ipynb",
   "output_path": "2020-08-11-part2.ipynb",
   "parameters": {},
   "start_time": "2021-12-03T00:22:53.754871",
   "version": "2.3.3"
  }
 },
 "nbformat": 4,
 "nbformat_minor": 5
}