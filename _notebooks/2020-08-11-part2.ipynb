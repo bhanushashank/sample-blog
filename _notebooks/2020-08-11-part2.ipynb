{
 "cells": [
  {
   "cell_type": "markdown",
   "id": "98380cd3",
   "metadata": {
    "papermill": {
     "duration": 0.035443,
     "end_time": "2022-01-15T10:08:49.695859",
     "exception": false,
     "start_time": "2022-01-15T10:08:49.660416",
     "status": "completed"
    },
    "tags": []
   },
   "source": [
    "# Distinguish Your Own Digits (DYOD)"
   ]
  },
  {
   "cell_type": "markdown",
   "id": "ef31240d",
   "metadata": {
    "papermill": {
     "duration": 0.028973,
     "end_time": "2022-01-15T10:08:49.755290",
     "exception": false,
     "start_time": "2022-01-15T10:08:49.726317",
     "status": "completed"
    },
    "tags": []
   },
   "source": [
    "You are going to write a classifier that distinguishes between the number 3 and number 8."
   ]
  },
  {
   "cell_type": "code",
   "execution_count": 1,
   "id": "b15c8646",
   "metadata": {
    "execution": {
     "iopub.execute_input": "2022-01-15T10:08:49.827015Z",
     "iopub.status.busy": "2022-01-15T10:08:49.826303Z",
     "iopub.status.idle": "2022-01-15T10:08:49.837711Z",
     "shell.execute_reply": "2022-01-15T10:08:49.838230Z"
    },
    "papermill": {
     "duration": 0.055428,
     "end_time": "2022-01-15T10:08:49.838409",
     "exception": false,
     "start_time": "2022-01-15T10:08:49.782981",
     "status": "completed"
    },
    "tags": []
   },
   "outputs": [],
   "source": [
    "%load_ext autoreload\n",
    "%autoreload 2"
   ]
  },
  {
   "cell_type": "code",
   "execution_count": 2,
   "id": "22ef38dc",
   "metadata": {
    "execution": {
     "iopub.execute_input": "2022-01-15T10:08:49.902244Z",
     "iopub.status.busy": "2022-01-15T10:08:49.901583Z",
     "iopub.status.idle": "2022-01-15T10:08:50.589635Z",
     "shell.execute_reply": "2022-01-15T10:08:50.589063Z"
    },
    "papermill": {
     "duration": 0.722043,
     "end_time": "2022-01-15T10:08:50.589774",
     "exception": false,
     "start_time": "2022-01-15T10:08:49.867731",
     "status": "completed"
    },
    "tags": []
   },
   "outputs": [],
   "source": [
    "%matplotlib inline\n",
    "import numpy as np\n",
    "import matplotlib.pyplot as plt\n",
    "import pandas as pd"
   ]
  },
  {
   "cell_type": "markdown",
   "id": "ba036198",
   "metadata": {
    "papermill": {
     "duration": 0.032295,
     "end_time": "2022-01-15T10:08:50.655585",
     "exception": false,
     "start_time": "2022-01-15T10:08:50.623290",
     "status": "completed"
    },
    "tags": []
   },
   "source": [
    "From the command line run `pip install mnist`. This is a library that will help you bring down the mnist dataset. If you run this from a notebook, you need to put  `!pip install mnist` in a cell by itself."
   ]
  },
  {
   "cell_type": "code",
   "execution_count": 3,
   "id": "bb6ad8a1",
   "metadata": {
    "execution": {
     "iopub.execute_input": "2022-01-15T10:08:50.725777Z",
     "iopub.status.busy": "2022-01-15T10:08:50.725022Z",
     "iopub.status.idle": "2022-01-15T10:08:52.756518Z",
     "shell.execute_reply": "2022-01-15T10:08:52.755967Z"
    },
    "papermill": {
     "duration": 2.06944,
     "end_time": "2022-01-15T10:08:52.756671",
     "exception": false,
     "start_time": "2022-01-15T10:08:50.687231",
     "status": "completed"
    },
    "tags": []
   },
   "outputs": [
    {
     "name": "stdout",
     "output_type": "stream",
     "text": [
      "Collecting mnist\r\n"
     ]
    },
    {
     "name": "stdout",
     "output_type": "stream",
     "text": [
      "  Downloading mnist-0.2.2-py2.py3-none-any.whl (3.5 kB)\r\n",
      "Requirement already satisfied: numpy in /opt/hostedtoolcache/Python/3.6.15/x64/lib/python3.6/site-packages (from mnist) (1.19.5)\r\n"
     ]
    },
    {
     "name": "stdout",
     "output_type": "stream",
     "text": [
      "Installing collected packages: mnist\r\n"
     ]
    },
    {
     "name": "stdout",
     "output_type": "stream",
     "text": [
      "Successfully installed mnist-0.2.2\r\n"
     ]
    }
   ],
   "source": [
    "!pip install mnist"
   ]
  },
  {
   "cell_type": "markdown",
   "id": "69df9c9a",
   "metadata": {
    "papermill": {
     "duration": 0.030067,
     "end_time": "2022-01-15T10:08:52.817621",
     "exception": false,
     "start_time": "2022-01-15T10:08:52.787554",
     "status": "completed"
    },
    "tags": []
   },
   "source": [
    "## Preparing the Data"
   ]
  },
  {
   "cell_type": "code",
   "execution_count": 4,
   "id": "7f69d806",
   "metadata": {
    "execution": {
     "iopub.execute_input": "2022-01-15T10:08:52.886334Z",
     "iopub.status.busy": "2022-01-15T10:08:52.885627Z",
     "iopub.status.idle": "2022-01-15T10:08:52.901082Z",
     "shell.execute_reply": "2022-01-15T10:08:52.900551Z"
    },
    "papermill": {
     "duration": 0.050938,
     "end_time": "2022-01-15T10:08:52.901303",
     "exception": false,
     "start_time": "2022-01-15T10:08:52.850365",
     "status": "completed"
    },
    "tags": []
   },
   "outputs": [],
   "source": [
    "import mnist"
   ]
  },
  {
   "cell_type": "code",
   "execution_count": 5,
   "id": "a411e44f",
   "metadata": {
    "execution": {
     "iopub.execute_input": "2022-01-15T10:08:52.978407Z",
     "iopub.status.busy": "2022-01-15T10:08:52.971748Z",
     "iopub.status.idle": "2022-01-15T10:08:53.571675Z",
     "shell.execute_reply": "2022-01-15T10:08:53.570757Z"
    },
    "papermill": {
     "duration": 0.640132,
     "end_time": "2022-01-15T10:08:53.571820",
     "exception": false,
     "start_time": "2022-01-15T10:08:52.931688",
     "status": "completed"
    },
    "tags": []
   },
   "outputs": [],
   "source": [
    "train_images = mnist.train_images()\n",
    "train_labels = mnist.train_labels()"
   ]
  },
  {
   "cell_type": "code",
   "execution_count": 6,
   "id": "dceab3a5",
   "metadata": {
    "execution": {
     "iopub.execute_input": "2022-01-15T10:08:53.639416Z",
     "iopub.status.busy": "2022-01-15T10:08:53.638779Z",
     "iopub.status.idle": "2022-01-15T10:08:53.654372Z",
     "shell.execute_reply": "2022-01-15T10:08:53.653779Z"
    },
    "papermill": {
     "duration": 0.051803,
     "end_time": "2022-01-15T10:08:53.654496",
     "exception": false,
     "start_time": "2022-01-15T10:08:53.602693",
     "status": "completed"
    },
    "tags": []
   },
   "outputs": [
    {
     "data": {
      "text/plain": [
       "((60000, 28, 28), (60000,))"
      ]
     },
     "execution_count": 6,
     "metadata": {},
     "output_type": "execute_result"
    }
   ],
   "source": [
    "train_images.shape, train_labels.shape"
   ]
  },
  {
   "cell_type": "code",
   "execution_count": 7,
   "id": "f50dc2bb",
   "metadata": {
    "execution": {
     "iopub.execute_input": "2022-01-15T10:08:53.719831Z",
     "iopub.status.busy": "2022-01-15T10:08:53.719157Z",
     "iopub.status.idle": "2022-01-15T10:08:53.986500Z",
     "shell.execute_reply": "2022-01-15T10:08:53.987093Z"
    },
    "papermill": {
     "duration": 0.302717,
     "end_time": "2022-01-15T10:08:53.987259",
     "exception": false,
     "start_time": "2022-01-15T10:08:53.684542",
     "status": "completed"
    },
    "tags": []
   },
   "outputs": [],
   "source": [
    "test_images = mnist.test_images()\n",
    "test_labels = mnist.test_labels()"
   ]
  },
  {
   "cell_type": "code",
   "execution_count": 8,
   "id": "fc38cf1b",
   "metadata": {
    "execution": {
     "iopub.execute_input": "2022-01-15T10:08:54.062950Z",
     "iopub.status.busy": "2022-01-15T10:08:54.062252Z",
     "iopub.status.idle": "2022-01-15T10:08:54.077588Z",
     "shell.execute_reply": "2022-01-15T10:08:54.078240Z"
    },
    "papermill": {
     "duration": 0.055753,
     "end_time": "2022-01-15T10:08:54.078404",
     "exception": false,
     "start_time": "2022-01-15T10:08:54.022651",
     "status": "completed"
    },
    "tags": []
   },
   "outputs": [
    {
     "data": {
      "text/plain": [
       "((10000, 28, 28), (10000,))"
      ]
     },
     "execution_count": 8,
     "metadata": {},
     "output_type": "execute_result"
    }
   ],
   "source": [
    "test_images.shape, test_labels.shape"
   ]
  },
  {
   "cell_type": "code",
   "execution_count": 9,
   "id": "f9ed8fe0",
   "metadata": {
    "execution": {
     "iopub.execute_input": "2022-01-15T10:08:54.157767Z",
     "iopub.status.busy": "2022-01-15T10:08:54.157029Z",
     "iopub.status.idle": "2022-01-15T10:08:54.352656Z",
     "shell.execute_reply": "2022-01-15T10:08:54.353277Z"
    },
    "papermill": {
     "duration": 0.240516,
     "end_time": "2022-01-15T10:08:54.353476",
     "exception": false,
     "start_time": "2022-01-15T10:08:54.112960",
     "status": "completed"
    },
    "tags": []
   },
   "outputs": [
    {
     "name": "stdout",
     "output_type": "stream",
     "text": [
      "2\n"
     ]
    },
    {
     "data": {
      "text/plain": [
       "<matplotlib.image.AxesImage at 0x7f2eea3674e0>"
      ]
     },
     "execution_count": 9,
     "metadata": {},
     "output_type": "execute_result"
    },
    {
     "data": {
      "image/png": "[encoded data removed]",
      "text/plain": [
       "<Figure size 432x288 with 1 Axes>"
      ]
     },
     "metadata": {
      "needs_background": "light"
     },
     "output_type": "display_data"
    }
   ],
   "source": [
    "image_index = 7776 # You may select anything up to 60,000\n",
    "print(train_labels[image_index]) \n",
    "plt.imshow(train_images[image_index], cmap='Greys')"
   ]
  },
  {
   "cell_type": "markdown",
   "id": "a8d2388d",
   "metadata": {
    "papermill": {
     "duration": 0.033229,
     "end_time": "2022-01-15T10:08:54.421731",
     "exception": false,
     "start_time": "2022-01-15T10:08:54.388502",
     "status": "completed"
    },
    "tags": []
   },
   "source": [
    "## Filter data to get 3 and 8 out"
   ]
  },
  {
   "cell_type": "code",
   "execution_count": 10,
   "id": "776f7fc7",
   "metadata": {
    "execution": {
     "iopub.execute_input": "2022-01-15T10:08:54.497411Z",
     "iopub.status.busy": "2022-01-15T10:08:54.496443Z",
     "iopub.status.idle": "2022-01-15T10:08:54.518553Z",
     "shell.execute_reply": "2022-01-15T10:08:54.517845Z"
    },
    "papermill": {
     "duration": 0.06391,
     "end_time": "2022-01-15T10:08:54.518722",
     "exception": false,
     "start_time": "2022-01-15T10:08:54.454812",
     "status": "completed"
    },
    "tags": []
   },
   "outputs": [],
   "source": [
    "train_filter = np.where((train_labels == 3 ) | (train_labels == 8))\n",
    "test_filter = np.where((test_labels == 3) | (test_labels == 8))\n",
    "X_train, y_train = train_images[train_filter], train_labels[train_filter]\n",
    "X_test, y_test = test_images[test_filter], test_labels[test_filter]"
   ]
  },
  {
   "cell_type": "markdown",
   "id": "948f0b7e",
   "metadata": {
    "papermill": {
     "duration": 0.032493,
     "end_time": "2022-01-15T10:08:54.584074",
     "exception": false,
     "start_time": "2022-01-15T10:08:54.551581",
     "status": "completed"
    },
    "tags": []
   },
   "source": [
    "We normalize the pizel values in the 0 to 1 range"
   ]
  },
  {
   "cell_type": "code",
   "execution_count": 11,
   "id": "ee4c2166",
   "metadata": {
    "execution": {
     "iopub.execute_input": "2022-01-15T10:08:54.653101Z",
     "iopub.status.busy": "2022-01-15T10:08:54.652460Z",
     "iopub.status.idle": "2022-01-15T10:08:54.715935Z",
     "shell.execute_reply": "2022-01-15T10:08:54.715349Z"
    },
    "papermill": {
     "duration": 0.099932,
     "end_time": "2022-01-15T10:08:54.716142",
     "exception": false,
     "start_time": "2022-01-15T10:08:54.616210",
     "status": "completed"
    },
    "tags": []
   },
   "outputs": [],
   "source": [
    "X_train = X_train/255.\n",
    "X_test = X_test/255."
   ]
  },
  {
   "cell_type": "markdown",
   "id": "ddcf4fab",
   "metadata": {
    "papermill": {
     "duration": 0.037571,
     "end_time": "2022-01-15T10:08:54.785310",
     "exception": false,
     "start_time": "2022-01-15T10:08:54.747739",
     "status": "completed"
    },
    "tags": []
   },
   "source": [
    "And setup the labels as 1 (when the digit is 3) and 0 (when the digit is 8)"
   ]
  },
  {
   "cell_type": "code",
   "execution_count": 12,
   "id": "7dc908f2",
   "metadata": {
    "execution": {
     "iopub.execute_input": "2022-01-15T10:08:54.854628Z",
     "iopub.status.busy": "2022-01-15T10:08:54.853969Z",
     "iopub.status.idle": "2022-01-15T10:08:54.868715Z",
     "shell.execute_reply": "2022-01-15T10:08:54.868139Z"
    },
    "papermill": {
     "duration": 0.051455,
     "end_time": "2022-01-15T10:08:54.868877",
     "exception": false,
     "start_time": "2022-01-15T10:08:54.817422",
     "status": "completed"
    },
    "tags": []
   },
   "outputs": [],
   "source": [
    "y_train = 1*(y_train==3)\n",
    "y_test = 1*(y_test==3)"
   ]
  },
  {
   "cell_type": "code",
   "execution_count": 13,
   "id": "01e4e969",
   "metadata": {
    "execution": {
     "iopub.execute_input": "2022-01-15T10:08:54.946220Z",
     "iopub.status.busy": "2022-01-15T10:08:54.942451Z",
     "iopub.status.idle": "2022-01-15T10:08:54.954338Z",
     "shell.execute_reply": "2022-01-15T10:08:54.953054Z"
    },
    "papermill": {
     "duration": 0.052985,
     "end_time": "2022-01-15T10:08:54.954466",
     "exception": false,
     "start_time": "2022-01-15T10:08:54.901481",
     "status": "completed"
    },
    "tags": []
   },
   "outputs": [
    {
     "data": {
      "text/plain": [
       "((11982, 28, 28), (1984, 28, 28))"
      ]
     },
     "execution_count": 13,
     "metadata": {},
     "output_type": "execute_result"
    }
   ],
   "source": [
    "X_train.shape, X_test.shape"
   ]
  },
  {
   "cell_type": "markdown",
   "id": "5ccf3f85",
   "metadata": {
    "papermill": {
     "duration": 0.034592,
     "end_time": "2022-01-15T10:08:55.022678",
     "exception": false,
     "start_time": "2022-01-15T10:08:54.988086",
     "status": "completed"
    },
    "tags": []
   },
   "source": [
    "We reshape the data to flatten the image pixels into a set of features or co-variates:"
   ]
  },
  {
   "cell_type": "code",
   "execution_count": 14,
   "id": "5286a4a3",
   "metadata": {
    "execution": {
     "iopub.execute_input": "2022-01-15T10:08:55.095526Z",
     "iopub.status.busy": "2022-01-15T10:08:55.094061Z",
     "iopub.status.idle": "2022-01-15T10:08:55.108805Z",
     "shell.execute_reply": "2022-01-15T10:08:55.108305Z"
    },
    "papermill": {
     "duration": 0.052891,
     "end_time": "2022-01-15T10:08:55.108923",
     "exception": false,
     "start_time": "2022-01-15T10:08:55.056032",
     "status": "completed"
    },
    "tags": []
   },
   "outputs": [
    {
     "data": {
      "text/plain": [
       "((11982, 784), (1984, 784))"
      ]
     },
     "execution_count": 14,
     "metadata": {},
     "output_type": "execute_result"
    }
   ],
   "source": [
    "X_train = X_train.reshape(X_train.shape[0], -1)\n",
    "X_test = X_test.reshape(X_test.shape[0], -1)\n",
    "X_train.shape, X_test.shape"
   ]
  },
  {
   "cell_type": "code",
   "execution_count": 15,
   "id": "73c5f88a",
   "metadata": {
    "execution": {
     "iopub.execute_input": "2022-01-15T10:08:55.182790Z",
     "iopub.status.busy": "2022-01-15T10:08:55.182175Z",
     "iopub.status.idle": "2022-01-15T10:08:55.201777Z",
     "shell.execute_reply": "2022-01-15T10:08:55.202394Z"
    },
    "papermill": {
     "duration": 0.061099,
     "end_time": "2022-01-15T10:08:55.202548",
     "exception": false,
     "start_time": "2022-01-15T10:08:55.141449",
     "status": "completed"
    },
    "tags": []
   },
   "outputs": [],
   "source": [
    "#Impoting functions from 'Kudzu'\n",
    "from kudzu.model import Model\n",
    "from kudzu.train import Learner\n",
    "from kudzu.optim import GD\n",
    "from kudzu.data import Data, Sampler,Dataloader\n",
    "\n",
    "from kudzu.callbacks import AccCallback\n",
    "from kudzu.callbacks import ClfCallback\n",
    "\n",
    "from kudzu.loss import MSE\n",
    "\n",
    "from kudzu.layer import Sigmoid,Relu\n",
    "from kudzu.layer import Affine"
   ]
  },
  {
   "cell_type": "markdown",
   "id": "bc01172a",
   "metadata": {
    "papermill": {
     "duration": 0.037412,
     "end_time": "2022-01-15T10:08:55.273381",
     "exception": false,
     "start_time": "2022-01-15T10:08:55.235969",
     "status": "completed"
    },
    "tags": []
   },
   "source": [
    "### Let us create a `Config` class, to store important parameters. \n",
    "This class essentially plays the role of a dictionary."
   ]
  },
  {
   "cell_type": "code",
   "execution_count": 16,
   "id": "978281aa",
   "metadata": {
    "execution": {
     "iopub.execute_input": "2022-01-15T10:08:55.353488Z",
     "iopub.status.busy": "2022-01-15T10:08:55.352780Z",
     "iopub.status.idle": "2022-01-15T10:08:55.362680Z",
     "shell.execute_reply": "2022-01-15T10:08:55.362002Z"
    },
    "papermill": {
     "duration": 0.056031,
     "end_time": "2022-01-15T10:08:55.362838",
     "exception": false,
     "start_time": "2022-01-15T10:08:55.306807",
     "status": "completed"
    },
    "tags": []
   },
   "outputs": [],
   "source": [
    "class Config:\n",
    "    pass\n",
    "config = Config()\n",
    "config.lr = 0.001\n",
    "config.num_epochs = 250\n",
    "config.bs = 50"
   ]
  },
  {
   "cell_type": "markdown",
   "id": "1385fa59",
   "metadata": {
    "papermill": {
     "duration": 0.034419,
     "end_time": "2022-01-15T10:08:55.433958",
     "exception": false,
     "start_time": "2022-01-15T10:08:55.399539",
     "status": "completed"
    },
    "tags": []
   },
   "source": [
    "### Running Models with the Training data\n",
    "Details about the network layers:\n",
    "- A first affine layer has 784 inputs and does 100 affine transforms. These are followed by a Relu\n",
    "- A second affine layer has 100 inputs from the 100 activations of the past layer, and does 100 affine transforms. These are followed by a Relu\n",
    "- A third affine layer has 100 activations and does 2 affine transformations to create an embedding for visualization. There is no non-linearity here.\n",
    "- A final \"logistic regression\" which has an affine transform from 2 inputs to 1 output, which is squeezed through a sigmoid.\n"
   ]
  },
  {
   "cell_type": "code",
   "execution_count": 17,
   "id": "2b9c66db",
   "metadata": {
    "execution": {
     "iopub.execute_input": "2022-01-15T10:08:55.509791Z",
     "iopub.status.busy": "2022-01-15T10:08:55.509002Z",
     "iopub.status.idle": "2022-01-15T10:08:55.522300Z",
     "shell.execute_reply": "2022-01-15T10:08:55.521681Z"
    },
    "papermill": {
     "duration": 0.054074,
     "end_time": "2022-01-15T10:08:55.522425",
     "exception": false,
     "start_time": "2022-01-15T10:08:55.468351",
     "status": "completed"
    },
    "tags": []
   },
   "outputs": [],
   "source": [
    "data = Data(X_train, y_train.reshape(-1,1))\n",
    "sampler = Sampler(data, config.bs, shuffle=True)\n",
    "\n",
    "dl = Dataloader(data, sampler)\n",
    "\n",
    "opt = GD(config.lr)\n",
    "loss = MSE()"
   ]
  },
  {
   "cell_type": "code",
   "execution_count": 18,
   "id": "b275e4c2",
   "metadata": {
    "execution": {
     "iopub.execute_input": "2022-01-15T10:08:55.597676Z",
     "iopub.status.busy": "2022-01-15T10:08:55.596961Z",
     "iopub.status.idle": "2022-01-15T10:08:55.609022Z",
     "shell.execute_reply": "2022-01-15T10:08:55.609501Z"
    },
    "papermill": {
     "duration": 0.053239,
     "end_time": "2022-01-15T10:08:55.609660",
     "exception": false,
     "start_time": "2022-01-15T10:08:55.556421",
     "status": "completed"
    },
    "tags": []
   },
   "outputs": [],
   "source": [
    "training_data_x = X_train\n",
    "testing_data_x = X_test\n",
    "training_data_y = y_train.reshape(-1,1)\n",
    "testing_data_y = y_test.reshape(-1,1)"
   ]
  },
  {
   "cell_type": "code",
   "execution_count": 19,
   "id": "76951160",
   "metadata": {
    "execution": {
     "iopub.execute_input": "2022-01-15T10:08:55.691112Z",
     "iopub.status.busy": "2022-01-15T10:08:55.690433Z",
     "iopub.status.idle": "2022-01-15T10:08:55.705023Z",
     "shell.execute_reply": "2022-01-15T10:08:55.705539Z"
    },
    "papermill": {
     "duration": 0.064595,
     "end_time": "2022-01-15T10:08:55.705675",
     "exception": false,
     "start_time": "2022-01-15T10:08:55.641080",
     "status": "completed"
    },
    "tags": []
   },
   "outputs": [
    {
     "name": "stdout",
     "output_type": "stream",
     "text": [
      "xavier\n",
      "xavier\n",
      "xavier\n",
      "xavier\n",
      "xavier\n"
     ]
    }
   ],
   "source": [
    "layers = [Affine(\"first\", 784, 100), Relu(\"first\"), Affine(\"second\", 100, 100), Relu(\"second\"), Affine(\"third\", 100, 2), Affine(\"last\", 2, 1), Sigmoid(\"last\")]\n",
    "model_nn = Model(layers)\n",
    "model_lr = Model([Affine(\"logits\", 784, 1), Sigmoid(\"sigmoid\")])"
   ]
  },
  {
   "cell_type": "code",
   "execution_count": 20,
   "id": "6eede77a",
   "metadata": {
    "execution": {
     "iopub.execute_input": "2022-01-15T10:08:55.782226Z",
     "iopub.status.busy": "2022-01-15T10:08:55.778323Z",
     "iopub.status.idle": "2022-01-15T10:08:55.792231Z",
     "shell.execute_reply": "2022-01-15T10:08:55.792927Z"
    },
    "papermill": {
     "duration": 0.054261,
     "end_time": "2022-01-15T10:08:55.793121",
     "exception": false,
     "start_time": "2022-01-15T10:08:55.738860",
     "status": "completed"
    },
    "tags": []
   },
   "outputs": [],
   "source": [
    "nn_learner = Learner(loss, model_nn, opt, config.num_epochs)\n",
    "acc_nn = ClfCallback(nn_learner, config.bs, training_data_x , testing_data_x, training_data_y, testing_data_y)\n",
    "nn_learner.set_callbacks([acc_nn])"
   ]
  },
  {
   "cell_type": "code",
   "execution_count": 21,
   "id": "877b6cc7",
   "metadata": {
    "execution": {
     "iopub.execute_input": "2022-01-15T10:08:55.876649Z",
     "iopub.status.busy": "2022-01-15T10:08:55.873161Z",
     "iopub.status.idle": "2022-01-15T10:08:55.886425Z",
     "shell.execute_reply": "2022-01-15T10:08:55.885908Z"
    },
    "papermill": {
     "duration": 0.056576,
     "end_time": "2022-01-15T10:08:55.886562",
     "exception": false,
     "start_time": "2022-01-15T10:08:55.829986",
     "status": "completed"
    },
    "tags": []
   },
   "outputs": [],
   "source": [
    "lr_learner = Learner(loss, model_lr, opt, config.num_epochs)\n",
    "acc_lr = ClfCallback(lr_learner, config.bs, training_data_x , testing_data_x, training_data_y, testing_data_y)\n",
    "lr_learner.set_callbacks([acc_lr])"
   ]
  },
  {
   "cell_type": "code",
   "execution_count": 22,
   "id": "d9b133c3",
   "metadata": {
    "execution": {
     "iopub.execute_input": "2022-01-15T10:08:55.970029Z",
     "iopub.status.busy": "2022-01-15T10:08:55.968224Z",
     "iopub.status.idle": "2022-01-15T10:11:20.365230Z",
     "shell.execute_reply": "2022-01-15T10:11:20.366136Z"
    },
    "papermill": {
     "duration": 144.443705,
     "end_time": "2022-01-15T10:11:20.367109",
     "exception": false,
     "start_time": "2022-01-15T10:08:55.923404",
     "status": "completed"
    },
    "tags": []
   },
   "outputs": [
    {
     "name": "stdout",
     "output_type": "stream",
     "text": [
      "Epoch 0, Loss 0.2491\n",
      "Training Accuracy: 0.5645, Testing Accuracy: 0.5509\n",
      "\n"
     ]
    },
    {
     "name": "stdout",
     "output_type": "stream",
     "text": [
      "Epoch 10, Loss 0.2442\n",
      "Training Accuracy: 0.7033, Testing Accuracy: 0.6900\n",
      "\n"
     ]
    },
    {
     "name": "stdout",
     "output_type": "stream",
     "text": [
      "Epoch 20, Loss 0.2201\n",
      "Training Accuracy: 0.8441, Testing Accuracy: 0.8291\n",
      "\n"
     ]
    },
    {
     "name": "stdout",
     "output_type": "stream",
     "text": [
      "Epoch 30, Loss 0.128\n",
      "Training Accuracy: 0.9005, Testing Accuracy: 0.9098\n",
      "\n"
     ]
    },
    {
     "name": "stdout",
     "output_type": "stream",
     "text": [
      "Epoch 40, Loss 0.0694\n",
      "Training Accuracy: 0.9308, Testing Accuracy: 0.9395\n",
      "\n"
     ]
    },
    {
     "name": "stdout",
     "output_type": "stream",
     "text": [
      "Epoch 50, Loss 0.0506\n",
      "Training Accuracy: 0.9458, Testing Accuracy: 0.9521\n",
      "\n"
     ]
    },
    {
     "name": "stdout",
     "output_type": "stream",
     "text": [
      "Epoch 60, Loss 0.0421\n",
      "Training Accuracy: 0.9530, Testing Accuracy: 0.9582\n",
      "\n"
     ]
    },
    {
     "name": "stdout",
     "output_type": "stream",
     "text": [
      "Epoch 70, Loss 0.0375\n",
      "Training Accuracy: 0.9563, Testing Accuracy: 0.9632\n",
      "\n"
     ]
    },
    {
     "name": "stdout",
     "output_type": "stream",
     "text": [
      "Epoch 80, Loss 0.0344\n",
      "Training Accuracy: 0.9596, Testing Accuracy: 0.9652\n",
      "\n"
     ]
    },
    {
     "name": "stdout",
     "output_type": "stream",
     "text": [
      "Epoch 90, Loss 0.0323\n",
      "Training Accuracy: 0.9620, Testing Accuracy: 0.9667\n",
      "\n"
     ]
    },
    {
     "name": "stdout",
     "output_type": "stream",
     "text": [
      "Epoch 100, Loss 0.0305\n",
      "Training Accuracy: 0.9640, Testing Accuracy: 0.9688\n",
      "\n"
     ]
    },
    {
     "name": "stdout",
     "output_type": "stream",
     "text": [
      "Epoch 110, Loss 0.0291\n",
      "Training Accuracy: 0.9654, Testing Accuracy: 0.9693\n",
      "\n"
     ]
    },
    {
     "name": "stdout",
     "output_type": "stream",
     "text": [
      "Epoch 120, Loss 0.028\n",
      "Training Accuracy: 0.9664, Testing Accuracy: 0.9698\n",
      "\n"
     ]
    },
    {
     "name": "stdout",
     "output_type": "stream",
     "text": [
      "Epoch 130, Loss 0.0269\n",
      "Training Accuracy: 0.9682, Testing Accuracy: 0.9718\n",
      "\n"
     ]
    },
    {
     "name": "stdout",
     "output_type": "stream",
     "text": [
      "Epoch 140, Loss 0.026\n",
      "Training Accuracy: 0.9696, Testing Accuracy: 0.9723\n",
      "\n"
     ]
    },
    {
     "name": "stdout",
     "output_type": "stream",
     "text": [
      "Epoch 150, Loss 0.0252\n",
      "Training Accuracy: 0.9709, Testing Accuracy: 0.9728\n",
      "\n"
     ]
    },
    {
     "name": "stdout",
     "output_type": "stream",
     "text": [
      "Epoch 160, Loss 0.0244\n",
      "Training Accuracy: 0.9720, Testing Accuracy: 0.9728\n",
      "\n"
     ]
    },
    {
     "name": "stdout",
     "output_type": "stream",
     "text": [
      "Epoch 170, Loss 0.0237\n",
      "Training Accuracy: 0.9731, Testing Accuracy: 0.9733\n",
      "\n"
     ]
    },
    {
     "name": "stdout",
     "output_type": "stream",
     "text": [
      "Epoch 180, Loss 0.0231\n",
      "Training Accuracy: 0.9737, Testing Accuracy: 0.9738\n",
      "\n"
     ]
    },
    {
     "name": "stdout",
     "output_type": "stream",
     "text": [
      "Epoch 190, Loss 0.0225\n",
      "Training Accuracy: 0.9743, Testing Accuracy: 0.9753\n",
      "\n"
     ]
    },
    {
     "name": "stdout",
     "output_type": "stream",
     "text": [
      "Epoch 200, Loss 0.022\n",
      "Training Accuracy: 0.9750, Testing Accuracy: 0.9753\n",
      "\n"
     ]
    },
    {
     "name": "stdout",
     "output_type": "stream",
     "text": [
      "Epoch 210, Loss 0.0214\n",
      "Training Accuracy: 0.9755, Testing Accuracy: 0.9753\n",
      "\n"
     ]
    },
    {
     "name": "stdout",
     "output_type": "stream",
     "text": [
      "Epoch 220, Loss 0.021\n",
      "Training Accuracy: 0.9764, Testing Accuracy: 0.9753\n",
      "\n"
     ]
    },
    {
     "name": "stdout",
     "output_type": "stream",
     "text": [
      "Epoch 230, Loss 0.0205\n",
      "Training Accuracy: 0.9770, Testing Accuracy: 0.9758\n",
      "\n"
     ]
    },
    {
     "name": "stdout",
     "output_type": "stream",
     "text": [
      "Epoch 240, Loss 0.0201\n",
      "Training Accuracy: 0.9775, Testing Accuracy: 0.9763\n",
      "\n"
     ]
    },
    {
     "data": {
      "text/plain": [
       "0.08742989315507696"
      ]
     },
     "execution_count": 22,
     "metadata": {},
     "output_type": "execute_result"
    }
   ],
   "source": [
    "nn_learner.train_loop(dl)"
   ]
  },
  {
   "cell_type": "code",
   "execution_count": 23,
   "id": "e0163366",
   "metadata": {
    "execution": {
     "iopub.execute_input": "2022-01-15T10:11:20.462660Z",
     "iopub.status.busy": "2022-01-15T10:11:20.461999Z",
     "iopub.status.idle": "2022-01-15T10:11:41.466085Z",
     "shell.execute_reply": "2022-01-15T10:11:41.466915Z"
    },
    "papermill": {
     "duration": 21.057444,
     "end_time": "2022-01-15T10:11:41.467094",
     "exception": false,
     "start_time": "2022-01-15T10:11:20.409650",
     "status": "completed"
    },
    "tags": []
   },
   "outputs": [
    {
     "name": "stdout",
     "output_type": "stream",
     "text": [
      "Epoch 0, Loss 0.2568\n",
      "Training Accuracy: 0.6184, Testing Accuracy: 0.6089\n",
      "\n"
     ]
    },
    {
     "name": "stdout",
     "output_type": "stream",
     "text": [
      "Epoch 10, Loss 0.1035\n",
      "Training Accuracy: 0.9115, Testing Accuracy: 0.9204\n",
      "\n"
     ]
    },
    {
     "name": "stdout",
     "output_type": "stream",
     "text": [
      "Epoch 20, Loss 0.0789\n",
      "Training Accuracy: 0.9308, Testing Accuracy: 0.9370\n",
      "\n"
     ]
    },
    {
     "name": "stdout",
     "output_type": "stream",
     "text": [
      "Epoch 30, Loss 0.0678\n",
      "Training Accuracy: 0.9377, Testing Accuracy: 0.9456\n",
      "\n"
     ]
    },
    {
     "name": "stdout",
     "output_type": "stream",
     "text": [
      "Epoch 40, Loss 0.0612\n",
      "Training Accuracy: 0.9427, Testing Accuracy: 0.9496\n",
      "\n"
     ]
    },
    {
     "name": "stdout",
     "output_type": "stream",
     "text": [
      "Epoch 50, Loss 0.0567\n",
      "Training Accuracy: 0.9458, Testing Accuracy: 0.9561\n",
      "\n"
     ]
    },
    {
     "name": "stdout",
     "output_type": "stream",
     "text": [
      "Epoch 60, Loss 0.0534\n",
      "Training Accuracy: 0.9474, Testing Accuracy: 0.9572\n",
      "\n"
     ]
    },
    {
     "name": "stdout",
     "output_type": "stream",
     "text": [
      "Epoch 70, Loss 0.0509\n",
      "Training Accuracy: 0.9489, Testing Accuracy: 0.9597\n",
      "\n"
     ]
    },
    {
     "name": "stdout",
     "output_type": "stream",
     "text": [
      "Epoch 80, Loss 0.0488\n",
      "Training Accuracy: 0.9508, Testing Accuracy: 0.9607\n",
      "\n"
     ]
    },
    {
     "name": "stdout",
     "output_type": "stream",
     "text": [
      "Epoch 90, Loss 0.0472\n",
      "Training Accuracy: 0.9528, Testing Accuracy: 0.9627\n",
      "\n"
     ]
    },
    {
     "name": "stdout",
     "output_type": "stream",
     "text": [
      "Epoch 100, Loss 0.0458\n",
      "Training Accuracy: 0.9534, Testing Accuracy: 0.9632\n",
      "\n"
     ]
    },
    {
     "name": "stdout",
     "output_type": "stream",
     "text": [
      "Epoch 110, Loss 0.0446\n",
      "Training Accuracy: 0.9546, Testing Accuracy: 0.9642\n",
      "\n"
     ]
    },
    {
     "name": "stdout",
     "output_type": "stream",
     "text": [
      "Epoch 120, Loss 0.0435\n",
      "Training Accuracy: 0.9553, Testing Accuracy: 0.9652\n",
      "\n"
     ]
    },
    {
     "name": "stdout",
     "output_type": "stream",
     "text": [
      "Epoch 130, Loss 0.0426\n",
      "Training Accuracy: 0.9560, Testing Accuracy: 0.9662\n",
      "\n"
     ]
    },
    {
     "name": "stdout",
     "output_type": "stream",
     "text": [
      "Epoch 140, Loss 0.0418\n",
      "Training Accuracy: 0.9565, Testing Accuracy: 0.9662\n",
      "\n"
     ]
    },
    {
     "name": "stdout",
     "output_type": "stream",
     "text": [
      "Epoch 150, Loss 0.0411\n",
      "Training Accuracy: 0.9574, Testing Accuracy: 0.9662\n",
      "\n"
     ]
    },
    {
     "name": "stdout",
     "output_type": "stream",
     "text": [
      "Epoch 160, Loss 0.0404\n",
      "Training Accuracy: 0.9579, Testing Accuracy: 0.9662\n",
      "\n"
     ]
    },
    {
     "name": "stdout",
     "output_type": "stream",
     "text": [
      "Epoch 170, Loss 0.0398\n",
      "Training Accuracy: 0.9583, Testing Accuracy: 0.9662\n",
      "\n"
     ]
    },
    {
     "name": "stdout",
     "output_type": "stream",
     "text": [
      "Epoch 180, Loss 0.0392\n",
      "Training Accuracy: 0.9584, Testing Accuracy: 0.9662\n",
      "\n"
     ]
    },
    {
     "name": "stdout",
     "output_type": "stream",
     "text": [
      "Epoch 190, Loss 0.0387\n",
      "Training Accuracy: 0.9595, Testing Accuracy: 0.9662\n",
      "\n"
     ]
    },
    {
     "name": "stdout",
     "output_type": "stream",
     "text": [
      "Epoch 200, Loss 0.0383\n",
      "Training Accuracy: 0.9599, Testing Accuracy: 0.9662\n",
      "\n"
     ]
    },
    {
     "name": "stdout",
     "output_type": "stream",
     "text": [
      "Epoch 210, Loss 0.0378\n",
      "Training Accuracy: 0.9601, Testing Accuracy: 0.9667\n",
      "\n"
     ]
    },
    {
     "name": "stdout",
     "output_type": "stream",
     "text": [
      "Epoch 220, Loss 0.0374\n",
      "Training Accuracy: 0.9604, Testing Accuracy: 0.9667\n",
      "\n"
     ]
    },
    {
     "name": "stdout",
     "output_type": "stream",
     "text": [
      "Epoch 230, Loss 0.0371\n",
      "Training Accuracy: 0.9606, Testing Accuracy: 0.9667\n",
      "\n"
     ]
    },
    {
     "name": "stdout",
     "output_type": "stream",
     "text": [
      "Epoch 240, Loss 0.0367\n",
      "Training Accuracy: 0.9609, Testing Accuracy: 0.9667\n",
      "\n"
     ]
    },
    {
     "data": {
      "text/plain": [
       "0.07051106819879253"
      ]
     },
     "execution_count": 23,
     "metadata": {},
     "output_type": "execute_result"
    }
   ],
   "source": [
    "lr_learner.train_loop(dl)"
   ]
  },
  {
   "cell_type": "code",
   "execution_count": 24,
   "id": "ca410940",
   "metadata": {
    "execution": {
     "iopub.execute_input": "2022-01-15T10:11:41.584637Z",
     "iopub.status.busy": "2022-01-15T10:11:41.581982Z",
     "iopub.status.idle": "2022-01-15T10:11:41.881519Z",
     "shell.execute_reply": "2022-01-15T10:11:41.880796Z"
    },
    "papermill": {
     "duration": 0.359311,
     "end_time": "2022-01-15T10:11:41.881652",
     "exception": false,
     "start_time": "2022-01-15T10:11:41.522341",
     "status": "completed"
    },
    "tags": []
   },
   "outputs": [
    {
     "data": {
      "text/plain": [
       "<matplotlib.legend.Legend at 0x7f2ee9f42cc0>"
      ]
     },
     "execution_count": 24,
     "metadata": {},
     "output_type": "execute_result"
    },
    {
     "data": {
      "image/png": "[encoded data removed]",
      "text/plain": [
       "<Figure size 1080x720 with 1 Axes>"
      ]
     },
     "metadata": {
      "needs_background": "light"
     },
     "output_type": "display_data"
    }
   ],
   "source": [
    "#comparing the results of NN and LR\n",
    "plt.figure(figsize=(15,10))\n",
    "\n",
    "# Neural Network plots\n",
    "plt.plot(acc_nn.accuracies, 'r-', label = \"Training Accuracies - NN\")\n",
    "plt.plot(acc_nn.test_accuracies, 'g-', label = \"Testing Accuracies - NN\")\n",
    "\n",
    "# Logistic Regression plots\n",
    "plt.plot(acc_lr.accuracies, 'k-', label = \"Training Accuracies - LR\")\n",
    "plt.plot(acc_lr.test_accuracies, 'b-', label = \"Testing Accuracies - LR\")\n",
    "plt.legend()"
   ]
  },
  {
   "cell_type": "markdown",
   "id": "80dfb35c",
   "metadata": {
    "papermill": {
     "duration": 0.050557,
     "end_time": "2022-01-15T10:11:41.984492",
     "exception": false,
     "start_time": "2022-01-15T10:11:41.933935",
     "status": "completed"
    },
    "tags": []
   },
   "source": [
    "#### Plotting the outputs of this layer of the NN.\n"
   ]
  },
  {
   "cell_type": "code",
   "execution_count": 25,
   "id": "45eb2ff5",
   "metadata": {
    "execution": {
     "iopub.execute_input": "2022-01-15T10:11:42.109783Z",
     "iopub.status.busy": "2022-01-15T10:11:42.108678Z",
     "iopub.status.idle": "2022-01-15T10:11:42.134859Z",
     "shell.execute_reply": "2022-01-15T10:11:42.135565Z"
    },
    "papermill": {
     "duration": 0.091856,
     "end_time": "2022-01-15T10:11:42.135812",
     "exception": false,
     "start_time": "2022-01-15T10:11:42.043956",
     "status": "completed"
    },
    "tags": []
   },
   "outputs": [],
   "source": [
    "new_model = Model(layers[:-2])\n",
    "testing_plot = new_model(testing_data_x)"
   ]
  },
  {
   "cell_type": "code",
   "execution_count": 26,
   "id": "4c0a5485",
   "metadata": {
    "execution": {
     "iopub.execute_input": "2022-01-15T10:11:42.253594Z",
     "iopub.status.busy": "2022-01-15T10:11:42.252885Z",
     "iopub.status.idle": "2022-01-15T10:11:42.543920Z",
     "shell.execute_reply": "2022-01-15T10:11:42.544406Z"
    },
    "papermill": {
     "duration": 0.35148,
     "end_time": "2022-01-15T10:11:42.544582",
     "exception": false,
     "start_time": "2022-01-15T10:11:42.193102",
     "status": "completed"
    },
    "tags": []
   },
   "outputs": [
    {
     "data": {
      "text/plain": [
       "Text(0.5, 1.0, 'Outputs')"
      ]
     },
     "execution_count": 26,
     "metadata": {},
     "output_type": "execute_result"
    },
    {
     "data": {
      "image/png": "[encoded data removed]",
      "text/plain": [
       "<Figure size 576x504 with 1 Axes>"
      ]
     },
     "metadata": {
      "needs_background": "light"
     },
     "output_type": "display_data"
    }
   ],
   "source": [
    "# Plotting the scatter plot of points and color coding by class\n",
    "plt.figure(figsize=(8,7))\n",
    "plt.scatter(testing_plot[:,0], testing_plot[:,1], alpha = 0.1, c = y_test.ravel());\n",
    "plt.title('Outputs')"
   ]
  },
  {
   "cell_type": "markdown",
   "id": "a74fcf8f",
   "metadata": {
    "papermill": {
     "duration": 0.060746,
     "end_time": "2022-01-15T10:11:42.663696",
     "exception": false,
     "start_time": "2022-01-15T10:11:42.602950",
     "status": "completed"
    },
    "tags": []
   },
   "source": [
    "Probability contours"
   ]
  },
  {
   "cell_type": "code",
   "execution_count": 27,
   "id": "d0afc8e3",
   "metadata": {
    "execution": {
     "iopub.execute_input": "2022-01-15T10:11:42.810048Z",
     "iopub.status.busy": "2022-01-15T10:11:42.806099Z",
     "iopub.status.idle": "2022-01-15T10:11:42.819244Z",
     "shell.execute_reply": "2022-01-15T10:11:42.819856Z"
    },
    "papermill": {
     "duration": 0.100464,
     "end_time": "2022-01-15T10:11:42.820105",
     "exception": false,
     "start_time": "2022-01-15T10:11:42.719641",
     "status": "completed"
    },
    "tags": []
   },
   "outputs": [],
   "source": [
    "model_prob = Model(layers[-2:]) "
   ]
  },
  {
   "cell_type": "code",
   "execution_count": 28,
   "id": "9b96e238",
   "metadata": {
    "execution": {
     "iopub.execute_input": "2022-01-15T10:11:42.940367Z",
     "iopub.status.busy": "2022-01-15T10:11:42.939644Z",
     "iopub.status.idle": "2022-01-15T10:11:42.955313Z",
     "shell.execute_reply": "2022-01-15T10:11:42.956029Z"
    },
    "papermill": {
     "duration": 0.079839,
     "end_time": "2022-01-15T10:11:42.956192",
     "exception": false,
     "start_time": "2022-01-15T10:11:42.876353",
     "status": "completed"
    },
    "tags": []
   },
   "outputs": [],
   "source": [
    "#creating the x and y ranges according to the above generated plot.\n",
    "x_range = np.linspace(-4, 1, 100) \n",
    "y_range = np.linspace(-6, 6, 100) \n",
    "x_grid, y_grid = np.meshgrid(x_range, y_range) # x_grid and y_grig are of size 100 X 100\n",
    "\n",
    "# converting x_grid and y_grid to continuous arrays\n",
    "x_gridflat = np.ravel(x_grid)\n",
    "y_gridflat = np.ravel(y_grid)\n",
    "\n",
    "# The last layer of the current model takes two columns as input. Hence transpose of np.vstack() is required.\n",
    "X = np.vstack((x_gridflat, y_gridflat)).T\n",
    "\n",
    "prob_contour = model_prob(X).reshape(100,100) "
   ]
  },
  {
   "cell_type": "code",
   "execution_count": 29,
   "id": "da72499a",
   "metadata": {
    "execution": {
     "iopub.execute_input": "2022-01-15T10:11:43.084008Z",
     "iopub.status.busy": "2022-01-15T10:11:43.083229Z",
     "iopub.status.idle": "2022-01-15T10:11:43.465272Z",
     "shell.execute_reply": "2022-01-15T10:11:43.464114Z"
    },
    "papermill": {
     "duration": 0.445288,
     "end_time": "2022-01-15T10:11:43.465424",
     "exception": false,
     "start_time": "2022-01-15T10:11:43.020136",
     "status": "completed"
    },
    "tags": []
   },
   "outputs": [
    {
     "data": {
      "image/png": "[encoded data removed]",
      "text/plain": [
       "<Figure size 720x648 with 1 Axes>"
      ]
     },
     "metadata": {
      "needs_background": "light"
     },
     "output_type": "display_data"
    }
   ],
   "source": [
    "plt.figure(figsize=(10,9))\n",
    "plt.scatter(testing_plot[:,0], testing_plot[:,1], alpha = 0.1, c = y_test.ravel())\n",
    "contours = plt.contour(x_grid,y_grid,prob_contour)\n",
    "plt.title('Probability Contours')\n",
    "plt.clabel(contours, inline = True );"
   ]
  },
  {
   "cell_type": "code",
   "execution_count": null,
   "id": "e81b4ac7",
   "metadata": {
    "papermill": {
     "duration": 0.060923,
     "end_time": "2022-01-15T10:11:43.586276",
     "exception": false,
     "start_time": "2022-01-15T10:11:43.525353",
     "status": "completed"
    },
    "tags": []
   },
   "outputs": [],
   "source": []
  }
 ],
 "metadata": {
  "kernelspec": {
   "display_name": "Python 3",
   "language": "python",
   "name": "python3"
  },
  "language_info": {
   "codemirror_mode": {
    "name": "ipython",
    "version": 3
   },
   "file_extension": ".py",
   "mimetype": "text/x-python",
   "name": "python",
   "nbconvert_exporter": "python",
   "pygments_lexer": "ipython3",
   "version": "3.6.15"
  },
  "papermill": {
   "default_parameters": {},
   "duration": 175.710015,
   "end_time": "2022-01-15T10:11:44.065938",
   "environment_variables": {},
   "exception": null,
   "input_path": "2020-08-11-part2.ipynb",
   "output_path": "2020-08-11-part2.ipynb",
   "parameters": {},
   "start_time": "2022-01-15T10:08:48.355923",
   "version": "2.3.3"
  }
 },
 "nbformat": 4,
 "nbformat_minor": 5
}