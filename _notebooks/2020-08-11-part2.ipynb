{
 "cells": [
  {
   "cell_type": "markdown",
   "id": "98380cd3",
   "metadata": {
    "papermill": {
     "duration": 0.028765,
     "end_time": "2021-12-03T20:08:27.834758",
     "exception": false,
     "start_time": "2021-12-03T20:08:27.805993",
     "status": "completed"
    },
    "tags": []
   },
   "source": [
    "# Distinguish Your Own Digits (DYOD)"
   ]
  },
  {
   "cell_type": "markdown",
   "id": "ef31240d",
   "metadata": {
    "papermill": {
     "duration": 0.024086,
     "end_time": "2021-12-03T20:08:27.883634",
     "exception": false,
     "start_time": "2021-12-03T20:08:27.859548",
     "status": "completed"
    },
    "tags": []
   },
   "source": [
    "You are going to write a classifier that distinguishes between the number 3 and number 8."
   ]
  },
  {
   "cell_type": "code",
   "execution_count": 1,
   "id": "b15c8646",
   "metadata": {
    "execution": {
     "iopub.execute_input": "2021-12-03T20:08:27.943836Z",
     "iopub.status.busy": "2021-12-03T20:08:27.943091Z",
     "iopub.status.idle": "2021-12-03T20:08:27.953472Z",
     "shell.execute_reply": "2021-12-03T20:08:27.953925Z"
    },
    "papermill": {
     "duration": 0.046462,
     "end_time": "2021-12-03T20:08:27.954096",
     "exception": false,
     "start_time": "2021-12-03T20:08:27.907634",
     "status": "completed"
    },
    "tags": []
   },
   "outputs": [],
   "source": [
    "%load_ext autoreload\n",
    "%autoreload 2"
   ]
  },
  {
   "cell_type": "code",
   "execution_count": 2,
   "id": "22ef38dc",
   "metadata": {
    "execution": {
     "iopub.execute_input": "2021-12-03T20:08:28.007038Z",
     "iopub.status.busy": "2021-12-03T20:08:28.006514Z",
     "iopub.status.idle": "2021-12-03T20:08:28.605525Z",
     "shell.execute_reply": "2021-12-03T20:08:28.604983Z"
    },
    "papermill": {
     "duration": 0.627261,
     "end_time": "2021-12-03T20:08:28.605691",
     "exception": false,
     "start_time": "2021-12-03T20:08:27.978430",
     "status": "completed"
    },
    "tags": []
   },
   "outputs": [],
   "source": [
    "%matplotlib inline\n",
    "import numpy as np\n",
    "import matplotlib.pyplot as plt\n",
    "import pandas as pd"
   ]
  },
  {
   "cell_type": "markdown",
   "id": "ba036198",
   "metadata": {
    "papermill": {
     "duration": 0.023993,
     "end_time": "2021-12-03T20:08:28.654600",
     "exception": false,
     "start_time": "2021-12-03T20:08:28.630607",
     "status": "completed"
    },
    "tags": []
   },
   "source": [
    "From the command line run `pip install mnist`. This is a library that will help you bring down the mnist dataset. If you run this from a notebook, you need to put  `!pip install mnist` in a cell by itself."
   ]
  },
  {
   "cell_type": "code",
   "execution_count": 3,
   "id": "bb6ad8a1",
   "metadata": {
    "execution": {
     "iopub.execute_input": "2021-12-03T20:08:28.707272Z",
     "iopub.status.busy": "2021-12-03T20:08:28.706749Z",
     "iopub.status.idle": "2021-12-03T20:08:30.442938Z",
     "shell.execute_reply": "2021-12-03T20:08:30.442443Z"
    },
    "papermill": {
     "duration": 1.764272,
     "end_time": "2021-12-03T20:08:30.443059",
     "exception": false,
     "start_time": "2021-12-03T20:08:28.678787",
     "status": "completed"
    },
    "tags": []
   },
   "outputs": [
    {
     "name": "stdout",
     "output_type": "stream",
     "text": [
      "Collecting mnist\r\n"
     ]
    },
    {
     "name": "stdout",
     "output_type": "stream",
     "text": [
      "  Downloading mnist-0.2.2-py2.py3-none-any.whl (3.5 kB)\r\n",
      "Requirement already satisfied: numpy in /opt/hostedtoolcache/Python/3.6.15/x64/lib/python3.6/site-packages (from mnist) (1.19.5)\r\n"
     ]
    },
    {
     "name": "stdout",
     "output_type": "stream",
     "text": [
      "Installing collected packages: mnist\r\n"
     ]
    },
    {
     "name": "stdout",
     "output_type": "stream",
     "text": [
      "Successfully installed mnist-0.2.2\r\n"
     ]
    }
   ],
   "source": [
    "!pip install mnist"
   ]
  },
  {
   "cell_type": "markdown",
   "id": "69df9c9a",
   "metadata": {
    "papermill": {
     "duration": 0.025347,
     "end_time": "2021-12-03T20:08:30.493850",
     "exception": false,
     "start_time": "2021-12-03T20:08:30.468503",
     "status": "completed"
    },
    "tags": []
   },
   "source": [
    "## Preparing the Data"
   ]
  },
  {
   "cell_type": "code",
   "execution_count": 4,
   "id": "7f69d806",
   "metadata": {
    "execution": {
     "iopub.execute_input": "2021-12-03T20:08:30.548321Z",
     "iopub.status.busy": "2021-12-03T20:08:30.547799Z",
     "iopub.status.idle": "2021-12-03T20:08:30.563131Z",
     "shell.execute_reply": "2021-12-03T20:08:30.562668Z"
    },
    "papermill": {
     "duration": 0.044161,
     "end_time": "2021-12-03T20:08:30.563249",
     "exception": false,
     "start_time": "2021-12-03T20:08:30.519088",
     "status": "completed"
    },
    "tags": []
   },
   "outputs": [],
   "source": [
    "import mnist"
   ]
  },
  {
   "cell_type": "code",
   "execution_count": 5,
   "id": "a411e44f",
   "metadata": {
    "execution": {
     "iopub.execute_input": "2021-12-03T20:08:30.619869Z",
     "iopub.status.busy": "2021-12-03T20:08:30.619303Z",
     "iopub.status.idle": "2021-12-03T20:08:31.197282Z",
     "shell.execute_reply": "2021-12-03T20:08:31.196811Z"
    },
    "papermill": {
     "duration": 0.60858,
     "end_time": "2021-12-03T20:08:31.197411",
     "exception": false,
     "start_time": "2021-12-03T20:08:30.588831",
     "status": "completed"
    },
    "tags": []
   },
   "outputs": [],
   "source": [
    "train_images = mnist.train_images()\n",
    "train_labels = mnist.train_labels()"
   ]
  },
  {
   "cell_type": "code",
   "execution_count": 6,
   "id": "dceab3a5",
   "metadata": {
    "execution": {
     "iopub.execute_input": "2021-12-03T20:08:31.252800Z",
     "iopub.status.busy": "2021-12-03T20:08:31.251844Z",
     "iopub.status.idle": "2021-12-03T20:08:31.267516Z",
     "shell.execute_reply": "2021-12-03T20:08:31.267964Z"
    },
    "papermill": {
     "duration": 0.045137,
     "end_time": "2021-12-03T20:08:31.268102",
     "exception": false,
     "start_time": "2021-12-03T20:08:31.222965",
     "status": "completed"
    },
    "tags": []
   },
   "outputs": [
    {
     "data": {
      "text/plain": [
       "((60000, 28, 28), (60000,))"
      ]
     },
     "execution_count": 6,
     "metadata": {},
     "output_type": "execute_result"
    }
   ],
   "source": [
    "train_images.shape, train_labels.shape"
   ]
  },
  {
   "cell_type": "code",
   "execution_count": 7,
   "id": "f50dc2bb",
   "metadata": {
    "execution": {
     "iopub.execute_input": "2021-12-03T20:08:31.323128Z",
     "iopub.status.busy": "2021-12-03T20:08:31.322607Z",
     "iopub.status.idle": "2021-12-03T20:08:31.452326Z",
     "shell.execute_reply": "2021-12-03T20:08:31.451843Z"
    },
    "papermill": {
     "duration": 0.158673,
     "end_time": "2021-12-03T20:08:31.452454",
     "exception": false,
     "start_time": "2021-12-03T20:08:31.293781",
     "status": "completed"
    },
    "tags": []
   },
   "outputs": [],
   "source": [
    "test_images = mnist.test_images()\n",
    "test_labels = mnist.test_labels()"
   ]
  },
  {
   "cell_type": "code",
   "execution_count": 8,
   "id": "fc38cf1b",
   "metadata": {
    "execution": {
     "iopub.execute_input": "2021-12-03T20:08:31.508262Z",
     "iopub.status.busy": "2021-12-03T20:08:31.507214Z",
     "iopub.status.idle": "2021-12-03T20:08:31.521247Z",
     "shell.execute_reply": "2021-12-03T20:08:31.521758Z"
    },
    "papermill": {
     "duration": 0.043686,
     "end_time": "2021-12-03T20:08:31.521901",
     "exception": false,
     "start_time": "2021-12-03T20:08:31.478215",
     "status": "completed"
    },
    "tags": []
   },
   "outputs": [
    {
     "data": {
      "text/plain": [
       "((10000, 28, 28), (10000,))"
      ]
     },
     "execution_count": 8,
     "metadata": {},
     "output_type": "execute_result"
    }
   ],
   "source": [
    "test_images.shape, test_labels.shape"
   ]
  },
  {
   "cell_type": "code",
   "execution_count": 9,
   "id": "f9ed8fe0",
   "metadata": {
    "execution": {
     "iopub.execute_input": "2021-12-03T20:08:31.578609Z",
     "iopub.status.busy": "2021-12-03T20:08:31.578044Z",
     "iopub.status.idle": "2021-12-03T20:08:31.715958Z",
     "shell.execute_reply": "2021-12-03T20:08:31.716589Z"
    },
    "papermill": {
     "duration": 0.169564,
     "end_time": "2021-12-03T20:08:31.717141",
     "exception": false,
     "start_time": "2021-12-03T20:08:31.547577",
     "status": "completed"
    },
    "tags": []
   },
   "outputs": [
    {
     "name": "stdout",
     "output_type": "stream",
     "text": [
      "2\n"
     ]
    },
    {
     "data": {
      "text/plain": [
       "<matplotlib.image.AxesImage at 0x7f6dfcb5a518>"
      ]
     },
     "execution_count": 9,
     "metadata": {},
     "output_type": "execute_result"
    },
    {
     "data": {
      "image/png": "[encoded data removed]",
      "text/plain": [
       "<Figure size 432x288 with 1 Axes>"
      ]
     },
     "metadata": {
      "needs_background": "light"
     },
     "output_type": "display_data"
    }
   ],
   "source": [
    "image_index = 7776 # You may select anything up to 60,000\n",
    "print(train_labels[image_index]) \n",
    "plt.imshow(train_images[image_index], cmap='Greys')"
   ]
  },
  {
   "cell_type": "markdown",
   "id": "a8d2388d",
   "metadata": {
    "papermill": {
     "duration": 0.026881,
     "end_time": "2021-12-03T20:08:31.777799",
     "exception": false,
     "start_time": "2021-12-03T20:08:31.750918",
     "status": "completed"
    },
    "tags": []
   },
   "source": [
    "## Filter data to get 3 and 8 out"
   ]
  },
  {
   "cell_type": "code",
   "execution_count": 10,
   "id": "776f7fc7",
   "metadata": {
    "execution": {
     "iopub.execute_input": "2021-12-03T20:08:31.836038Z",
     "iopub.status.busy": "2021-12-03T20:08:31.835505Z",
     "iopub.status.idle": "2021-12-03T20:08:31.851372Z",
     "shell.execute_reply": "2021-12-03T20:08:31.851792Z"
    },
    "papermill": {
     "duration": 0.047284,
     "end_time": "2021-12-03T20:08:31.851930",
     "exception": false,
     "start_time": "2021-12-03T20:08:31.804646",
     "status": "completed"
    },
    "tags": []
   },
   "outputs": [],
   "source": [
    "train_filter = np.where((train_labels == 3 ) | (train_labels == 8))\n",
    "test_filter = np.where((test_labels == 3) | (test_labels == 8))\n",
    "X_train, y_train = train_images[train_filter], train_labels[train_filter]\n",
    "X_test, y_test = test_images[test_filter], test_labels[test_filter]"
   ]
  },
  {
   "cell_type": "markdown",
   "id": "948f0b7e",
   "metadata": {
    "papermill": {
     "duration": 0.026723,
     "end_time": "2021-12-03T20:08:31.906554",
     "exception": false,
     "start_time": "2021-12-03T20:08:31.879831",
     "status": "completed"
    },
    "tags": []
   },
   "source": [
    "We normalize the pizel values in the 0 to 1 range"
   ]
  },
  {
   "cell_type": "code",
   "execution_count": 11,
   "id": "ee4c2166",
   "metadata": {
    "execution": {
     "iopub.execute_input": "2021-12-03T20:08:31.963902Z",
     "iopub.status.busy": "2021-12-03T20:08:31.963386Z",
     "iopub.status.idle": "2021-12-03T20:08:32.011110Z",
     "shell.execute_reply": "2021-12-03T20:08:32.010591Z"
    },
    "papermill": {
     "duration": 0.07794,
     "end_time": "2021-12-03T20:08:32.011248",
     "exception": false,
     "start_time": "2021-12-03T20:08:31.933308",
     "status": "completed"
    },
    "tags": []
   },
   "outputs": [],
   "source": [
    "X_train = X_train/255.\n",
    "X_test = X_test/255."
   ]
  },
  {
   "cell_type": "markdown",
   "id": "ddcf4fab",
   "metadata": {
    "papermill": {
     "duration": 0.026911,
     "end_time": "2021-12-03T20:08:32.065930",
     "exception": false,
     "start_time": "2021-12-03T20:08:32.039019",
     "status": "completed"
    },
    "tags": []
   },
   "source": [
    "And setup the labels as 1 (when the digit is 3) and 0 (when the digit is 8)"
   ]
  },
  {
   "cell_type": "code",
   "execution_count": 12,
   "id": "7dc908f2",
   "metadata": {
    "execution": {
     "iopub.execute_input": "2021-12-03T20:08:32.123359Z",
     "iopub.status.busy": "2021-12-03T20:08:32.122822Z",
     "iopub.status.idle": "2021-12-03T20:08:32.135332Z",
     "shell.execute_reply": "2021-12-03T20:08:32.134889Z"
    },
    "papermill": {
     "duration": 0.042618,
     "end_time": "2021-12-03T20:08:32.135443",
     "exception": false,
     "start_time": "2021-12-03T20:08:32.092825",
     "status": "completed"
    },
    "tags": []
   },
   "outputs": [],
   "source": [
    "y_train = 1*(y_train==3)\n",
    "y_test = 1*(y_test==3)"
   ]
  },
  {
   "cell_type": "code",
   "execution_count": 13,
   "id": "01e4e969",
   "metadata": {
    "execution": {
     "iopub.execute_input": "2021-12-03T20:08:32.192997Z",
     "iopub.status.busy": "2021-12-03T20:08:32.192490Z",
     "iopub.status.idle": "2021-12-03T20:08:32.206002Z",
     "shell.execute_reply": "2021-12-03T20:08:32.206416Z"
    },
    "papermill": {
     "duration": 0.043989,
     "end_time": "2021-12-03T20:08:32.206549",
     "exception": false,
     "start_time": "2021-12-03T20:08:32.162560",
     "status": "completed"
    },
    "tags": []
   },
   "outputs": [
    {
     "data": {
      "text/plain": [
       "((11982, 28, 28), (1984, 28, 28))"
      ]
     },
     "execution_count": 13,
     "metadata": {},
     "output_type": "execute_result"
    }
   ],
   "source": [
    "X_train.shape, X_test.shape"
   ]
  },
  {
   "cell_type": "markdown",
   "id": "5ccf3f85",
   "metadata": {
    "papermill": {
     "duration": 0.0269,
     "end_time": "2021-12-03T20:08:32.260211",
     "exception": false,
     "start_time": "2021-12-03T20:08:32.233311",
     "status": "completed"
    },
    "tags": []
   },
   "source": [
    "We reshape the data to flatten the image pixels into a set of features or co-variates:"
   ]
  },
  {
   "cell_type": "code",
   "execution_count": 14,
   "id": "5286a4a3",
   "metadata": {
    "execution": {
     "iopub.execute_input": "2021-12-03T20:08:32.318332Z",
     "iopub.status.busy": "2021-12-03T20:08:32.317784Z",
     "iopub.status.idle": "2021-12-03T20:08:32.332095Z",
     "shell.execute_reply": "2021-12-03T20:08:32.331575Z"
    },
    "papermill": {
     "duration": 0.044922,
     "end_time": "2021-12-03T20:08:32.332211",
     "exception": false,
     "start_time": "2021-12-03T20:08:32.287289",
     "status": "completed"
    },
    "tags": []
   },
   "outputs": [
    {
     "data": {
      "text/plain": [
       "((11982, 784), (1984, 784))"
      ]
     },
     "execution_count": 14,
     "metadata": {},
     "output_type": "execute_result"
    }
   ],
   "source": [
    "X_train = X_train.reshape(X_train.shape[0], -1)\n",
    "X_test = X_test.reshape(X_test.shape[0], -1)\n",
    "X_train.shape, X_test.shape"
   ]
  },
  {
   "cell_type": "code",
   "execution_count": 15,
   "id": "73c5f88a",
   "metadata": {
    "execution": {
     "iopub.execute_input": "2021-12-03T20:08:32.391666Z",
     "iopub.status.busy": "2021-12-03T20:08:32.391139Z",
     "iopub.status.idle": "2021-12-03T20:08:32.409386Z",
     "shell.execute_reply": "2021-12-03T20:08:32.408885Z"
    },
    "papermill": {
     "duration": 0.049785,
     "end_time": "2021-12-03T20:08:32.409520",
     "exception": false,
     "start_time": "2021-12-03T20:08:32.359735",
     "status": "completed"
    },
    "tags": []
   },
   "outputs": [],
   "source": [
    "#Impoting functions from 'Kudzu'\n",
    "from kudzu.model import Model\n",
    "from kudzu.train import Learner\n",
    "from kudzu.optim import GD\n",
    "from kudzu.data import Data, Sampler,Dataloader\n",
    "\n",
    "from kudzu.callbacks import AccCallback\n",
    "from kudzu.callbacks import ClfCallback\n",
    "\n",
    "from kudzu.loss import MSE\n",
    "\n",
    "from kudzu.layer import Sigmoid,Relu\n",
    "from kudzu.layer import Affine"
   ]
  },
  {
   "cell_type": "markdown",
   "id": "bc01172a",
   "metadata": {
    "papermill": {
     "duration": 0.027481,
     "end_time": "2021-12-03T20:08:32.465505",
     "exception": false,
     "start_time": "2021-12-03T20:08:32.438024",
     "status": "completed"
    },
    "tags": []
   },
   "source": [
    "### Let us create a `Config` class, to store important parameters. \n",
    "This class essentially plays the role of a dictionary."
   ]
  },
  {
   "cell_type": "code",
   "execution_count": 16,
   "id": "978281aa",
   "metadata": {
    "execution": {
     "iopub.execute_input": "2021-12-03T20:08:32.524178Z",
     "iopub.status.busy": "2021-12-03T20:08:32.523627Z",
     "iopub.status.idle": "2021-12-03T20:08:32.538057Z",
     "shell.execute_reply": "2021-12-03T20:08:32.537044Z"
    },
    "papermill": {
     "duration": 0.045419,
     "end_time": "2021-12-03T20:08:32.538183",
     "exception": false,
     "start_time": "2021-12-03T20:08:32.492764",
     "status": "completed"
    },
    "tags": []
   },
   "outputs": [],
   "source": [
    "class Config:\n",
    "    pass\n",
    "config = Config()\n",
    "config.lr = 0.001\n",
    "config.num_epochs = 250\n",
    "config.bs = 50"
   ]
  },
  {
   "cell_type": "markdown",
   "id": "1385fa59",
   "metadata": {
    "papermill": {
     "duration": 0.027285,
     "end_time": "2021-12-03T20:08:32.593088",
     "exception": false,
     "start_time": "2021-12-03T20:08:32.565803",
     "status": "completed"
    },
    "tags": []
   },
   "source": [
    "### Running Models with the Training data\n",
    "Details about the network layers:\n",
    "- A first affine layer has 784 inputs and does 100 affine transforms. These are followed by a Relu\n",
    "- A second affine layer has 100 inputs from the 100 activations of the past layer, and does 100 affine transforms. These are followed by a Relu\n",
    "- A third affine layer has 100 activations and does 2 affine transformations to create an embedding for visualization. There is no non-linearity here.\n",
    "- A final \"logistic regression\" which has an affine transform from 2 inputs to 1 output, which is squeezed through a sigmoid.\n"
   ]
  },
  {
   "cell_type": "code",
   "execution_count": 17,
   "id": "2b9c66db",
   "metadata": {
    "execution": {
     "iopub.execute_input": "2021-12-03T20:08:32.652267Z",
     "iopub.status.busy": "2021-12-03T20:08:32.651213Z",
     "iopub.status.idle": "2021-12-03T20:08:32.663078Z",
     "shell.execute_reply": "2021-12-03T20:08:32.662639Z"
    },
    "papermill": {
     "duration": 0.042784,
     "end_time": "2021-12-03T20:08:32.663195",
     "exception": false,
     "start_time": "2021-12-03T20:08:32.620411",
     "status": "completed"
    },
    "tags": []
   },
   "outputs": [],
   "source": [
    "data = Data(X_train, y_train.reshape(-1,1))\n",
    "sampler = Sampler(data, config.bs, shuffle=True)\n",
    "\n",
    "dl = Dataloader(data, sampler)\n",
    "\n",
    "opt = GD(config.lr)\n",
    "loss = MSE()"
   ]
  },
  {
   "cell_type": "code",
   "execution_count": 18,
   "id": "b275e4c2",
   "metadata": {
    "execution": {
     "iopub.execute_input": "2021-12-03T20:08:32.727229Z",
     "iopub.status.busy": "2021-12-03T20:08:32.726112Z",
     "iopub.status.idle": "2021-12-03T20:08:32.736416Z",
     "shell.execute_reply": "2021-12-03T20:08:32.735818Z"
    },
    "papermill": {
     "duration": 0.045619,
     "end_time": "2021-12-03T20:08:32.736553",
     "exception": false,
     "start_time": "2021-12-03T20:08:32.690934",
     "status": "completed"
    },
    "tags": []
   },
   "outputs": [],
   "source": [
    "training_data_x = X_train\n",
    "testing_data_x = X_test\n",
    "training_data_y = y_train.reshape(-1,1)\n",
    "testing_data_y = y_test.reshape(-1,1)"
   ]
  },
  {
   "cell_type": "code",
   "execution_count": 19,
   "id": "76951160",
   "metadata": {
    "execution": {
     "iopub.execute_input": "2021-12-03T20:08:32.804278Z",
     "iopub.status.busy": "2021-12-03T20:08:32.803734Z",
     "iopub.status.idle": "2021-12-03T20:08:32.819967Z",
     "shell.execute_reply": "2021-12-03T20:08:32.819539Z"
    },
    "papermill": {
     "duration": 0.051457,
     "end_time": "2021-12-03T20:08:32.820086",
     "exception": false,
     "start_time": "2021-12-03T20:08:32.768629",
     "status": "completed"
    },
    "tags": []
   },
   "outputs": [
    {
     "name": "stdout",
     "output_type": "stream",
     "text": [
      "xavier\n",
      "xavier\n",
      "xavier\n",
      "xavier\n",
      "xavier\n"
     ]
    }
   ],
   "source": [
    "layers = [Affine(\"first\", 784, 100), Relu(\"first\"), Affine(\"second\", 100, 100), Relu(\"second\"), Affine(\"third\", 100, 2), Affine(\"last\", 2, 1), Sigmoid(\"last\")]\n",
    "model_nn = Model(layers)\n",
    "model_lr = Model([Affine(\"logits\", 784, 1), Sigmoid(\"sigmoid\")])"
   ]
  },
  {
   "cell_type": "code",
   "execution_count": 20,
   "id": "6eede77a",
   "metadata": {
    "execution": {
     "iopub.execute_input": "2021-12-03T20:08:32.880326Z",
     "iopub.status.busy": "2021-12-03T20:08:32.879811Z",
     "iopub.status.idle": "2021-12-03T20:08:32.891317Z",
     "shell.execute_reply": "2021-12-03T20:08:32.890898Z"
    },
    "papermill": {
     "duration": 0.043396,
     "end_time": "2021-12-03T20:08:32.891432",
     "exception": false,
     "start_time": "2021-12-03T20:08:32.848036",
     "status": "completed"
    },
    "tags": []
   },
   "outputs": [],
   "source": [
    "nn_learner = Learner(loss, model_nn, opt, config.num_epochs)\n",
    "acc_nn = ClfCallback(nn_learner, config.bs, training_data_x , testing_data_x, training_data_y, testing_data_y)\n",
    "nn_learner.set_callbacks([acc_nn])"
   ]
  },
  {
   "cell_type": "code",
   "execution_count": 21,
   "id": "877b6cc7",
   "metadata": {
    "execution": {
     "iopub.execute_input": "2021-12-03T20:08:32.950580Z",
     "iopub.status.busy": "2021-12-03T20:08:32.950053Z",
     "iopub.status.idle": "2021-12-03T20:08:32.961785Z",
     "shell.execute_reply": "2021-12-03T20:08:32.962181Z"
    },
    "papermill": {
     "duration": 0.043285,
     "end_time": "2021-12-03T20:08:32.962320",
     "exception": false,
     "start_time": "2021-12-03T20:08:32.919035",
     "status": "completed"
    },
    "tags": []
   },
   "outputs": [],
   "source": [
    "lr_learner = Learner(loss, model_lr, opt, config.num_epochs)\n",
    "acc_lr = ClfCallback(lr_learner, config.bs, training_data_x , testing_data_x, training_data_y, testing_data_y)\n",
    "lr_learner.set_callbacks([acc_lr])"
   ]
  },
  {
   "cell_type": "code",
   "execution_count": 22,
   "id": "d9b133c3",
   "metadata": {
    "execution": {
     "iopub.execute_input": "2021-12-03T20:08:33.024885Z",
     "iopub.status.busy": "2021-12-03T20:08:33.024354Z",
     "iopub.status.idle": "2021-12-03T20:09:53.337360Z",
     "shell.execute_reply": "2021-12-03T20:09:53.338137Z"
    },
    "papermill": {
     "duration": 80.348466,
     "end_time": "2021-12-03T20:09:53.338285",
     "exception": false,
     "start_time": "2021-12-03T20:08:32.989819",
     "status": "completed"
    },
    "tags": []
   },
   "outputs": [
    {
     "name": "stdout",
     "output_type": "stream",
     "text": [
      "Epoch 0, Loss 0.2516\n",
      "Training Accuracy: 0.4883, Testing Accuracy: 0.4909\n",
      "\n"
     ]
    },
    {
     "name": "stdout",
     "output_type": "stream",
     "text": [
      "Epoch 10, Loss 0.2399\n",
      "Training Accuracy: 0.6606, Testing Accuracy: 0.6774\n",
      "\n"
     ]
    },
    {
     "name": "stdout",
     "output_type": "stream",
     "text": [
      "Epoch 20, Loss 0.2032\n",
      "Training Accuracy: 0.8545, Testing Accuracy: 0.8740\n",
      "\n"
     ]
    },
    {
     "name": "stdout",
     "output_type": "stream",
     "text": [
      "Epoch 30, Loss 0.1126\n",
      "Training Accuracy: 0.9030, Testing Accuracy: 0.9183\n",
      "\n"
     ]
    },
    {
     "name": "stdout",
     "output_type": "stream",
     "text": [
      "Epoch 40, Loss 0.0679\n",
      "Training Accuracy: 0.9283, Testing Accuracy: 0.9425\n",
      "\n"
     ]
    },
    {
     "name": "stdout",
     "output_type": "stream",
     "text": [
      "Epoch 50, Loss 0.0515\n",
      "Training Accuracy: 0.9425, Testing Accuracy: 0.9526\n",
      "\n"
     ]
    },
    {
     "name": "stdout",
     "output_type": "stream",
     "text": [
      "Epoch 60, Loss 0.0434\n",
      "Training Accuracy: 0.9510, Testing Accuracy: 0.9607\n",
      "\n"
     ]
    },
    {
     "name": "stdout",
     "output_type": "stream",
     "text": [
      "Epoch 70, Loss 0.0388\n",
      "Training Accuracy: 0.9553, Testing Accuracy: 0.9647\n",
      "\n"
     ]
    },
    {
     "name": "stdout",
     "output_type": "stream",
     "text": [
      "Epoch 80, Loss 0.0359\n",
      "Training Accuracy: 0.9582, Testing Accuracy: 0.9672\n",
      "\n"
     ]
    },
    {
     "name": "stdout",
     "output_type": "stream",
     "text": [
      "Epoch 90, Loss 0.0337\n",
      "Training Accuracy: 0.9607, Testing Accuracy: 0.9688\n",
      "\n"
     ]
    },
    {
     "name": "stdout",
     "output_type": "stream",
     "text": [
      "Epoch 100, Loss 0.0321\n",
      "Training Accuracy: 0.9616, Testing Accuracy: 0.9682\n",
      "\n"
     ]
    },
    {
     "name": "stdout",
     "output_type": "stream",
     "text": [
      "Epoch 110, Loss 0.0307\n",
      "Training Accuracy: 0.9634, Testing Accuracy: 0.9677\n",
      "\n"
     ]
    },
    {
     "name": "stdout",
     "output_type": "stream",
     "text": [
      "Epoch 120, Loss 0.0296\n",
      "Training Accuracy: 0.9644, Testing Accuracy: 0.9682\n",
      "\n"
     ]
    },
    {
     "name": "stdout",
     "output_type": "stream",
     "text": [
      "Epoch 130, Loss 0.0287\n",
      "Training Accuracy: 0.9652, Testing Accuracy: 0.9667\n",
      "\n"
     ]
    },
    {
     "name": "stdout",
     "output_type": "stream",
     "text": [
      "Epoch 140, Loss 0.0279\n",
      "Training Accuracy: 0.9664, Testing Accuracy: 0.9677\n",
      "\n"
     ]
    },
    {
     "name": "stdout",
     "output_type": "stream",
     "text": [
      "Epoch 150, Loss 0.0272\n",
      "Training Accuracy: 0.9675, Testing Accuracy: 0.9682\n",
      "\n"
     ]
    },
    {
     "name": "stdout",
     "output_type": "stream",
     "text": [
      "Epoch 160, Loss 0.0265\n",
      "Training Accuracy: 0.9687, Testing Accuracy: 0.9688\n",
      "\n"
     ]
    },
    {
     "name": "stdout",
     "output_type": "stream",
     "text": [
      "Epoch 170, Loss 0.0259\n",
      "Training Accuracy: 0.9695, Testing Accuracy: 0.9703\n",
      "\n"
     ]
    },
    {
     "name": "stdout",
     "output_type": "stream",
     "text": [
      "Epoch 180, Loss 0.0253\n",
      "Training Accuracy: 0.9706, Testing Accuracy: 0.9708\n",
      "\n"
     ]
    },
    {
     "name": "stdout",
     "output_type": "stream",
     "text": [
      "Epoch 190, Loss 0.0248\n",
      "Training Accuracy: 0.9715, Testing Accuracy: 0.9713\n",
      "\n"
     ]
    },
    {
     "name": "stdout",
     "output_type": "stream",
     "text": [
      "Epoch 200, Loss 0.0244\n",
      "Training Accuracy: 0.9719, Testing Accuracy: 0.9718\n",
      "\n"
     ]
    },
    {
     "name": "stdout",
     "output_type": "stream",
     "text": [
      "Epoch 210, Loss 0.0239\n",
      "Training Accuracy: 0.9724, Testing Accuracy: 0.9723\n",
      "\n"
     ]
    },
    {
     "name": "stdout",
     "output_type": "stream",
     "text": [
      "Epoch 220, Loss 0.0235\n",
      "Training Accuracy: 0.9732, Testing Accuracy: 0.9723\n",
      "\n"
     ]
    },
    {
     "name": "stdout",
     "output_type": "stream",
     "text": [
      "Epoch 230, Loss 0.0231\n",
      "Training Accuracy: 0.9739, Testing Accuracy: 0.9723\n",
      "\n"
     ]
    },
    {
     "name": "stdout",
     "output_type": "stream",
     "text": [
      "Epoch 240, Loss 0.0227\n",
      "Training Accuracy: 0.9740, Testing Accuracy: 0.9718\n",
      "\n"
     ]
    },
    {
     "data": {
      "text/plain": [
       "0.023819429911950636"
      ]
     },
     "execution_count": 22,
     "metadata": {},
     "output_type": "execute_result"
    }
   ],
   "source": [
    "nn_learner.train_loop(dl)"
   ]
  },
  {
   "cell_type": "code",
   "execution_count": 23,
   "id": "e0163366",
   "metadata": {
    "execution": {
     "iopub.execute_input": "2021-12-03T20:09:53.420775Z",
     "iopub.status.busy": "2021-12-03T20:09:53.420225Z",
     "iopub.status.idle": "2021-12-03T20:10:08.042971Z",
     "shell.execute_reply": "2021-12-03T20:10:08.043708Z"
    },
    "papermill": {
     "duration": 14.670665,
     "end_time": "2021-12-03T20:10:08.043855",
     "exception": false,
     "start_time": "2021-12-03T20:09:53.373190",
     "status": "completed"
    },
    "tags": []
   },
   "outputs": [
    {
     "name": "stdout",
     "output_type": "stream",
     "text": [
      "Epoch 0, Loss 0.244\n",
      "Training Accuracy: 0.6668, Testing Accuracy: 0.6860\n",
      "\n"
     ]
    },
    {
     "name": "stdout",
     "output_type": "stream",
     "text": [
      "Epoch 10, Loss 0.1073\n",
      "Training Accuracy: 0.8969, Testing Accuracy: 0.9032\n",
      "\n"
     ]
    },
    {
     "name": "stdout",
     "output_type": "stream",
     "text": [
      "Epoch 20, Loss 0.0819\n",
      "Training Accuracy: 0.9208, Testing Accuracy: 0.9304\n",
      "\n"
     ]
    },
    {
     "name": "stdout",
     "output_type": "stream",
     "text": [
      "Epoch 30, Loss 0.0701\n",
      "Training Accuracy: 0.9302, Testing Accuracy: 0.9441\n",
      "\n"
     ]
    },
    {
     "name": "stdout",
     "output_type": "stream",
     "text": [
      "Epoch 40, Loss 0.063\n",
      "Training Accuracy: 0.9382, Testing Accuracy: 0.9526\n",
      "\n"
     ]
    },
    {
     "name": "stdout",
     "output_type": "stream",
     "text": [
      "Epoch 50, Loss 0.0582\n",
      "Training Accuracy: 0.9415, Testing Accuracy: 0.9546\n",
      "\n"
     ]
    },
    {
     "name": "stdout",
     "output_type": "stream",
     "text": [
      "Epoch 60, Loss 0.0547\n",
      "Training Accuracy: 0.9448, Testing Accuracy: 0.9567\n",
      "\n"
     ]
    },
    {
     "name": "stdout",
     "output_type": "stream",
     "text": [
      "Epoch 70, Loss 0.052\n",
      "Training Accuracy: 0.9473, Testing Accuracy: 0.9582\n",
      "\n"
     ]
    },
    {
     "name": "stdout",
     "output_type": "stream",
     "text": [
      "Epoch 80, Loss 0.0498\n",
      "Training Accuracy: 0.9492, Testing Accuracy: 0.9607\n",
      "\n"
     ]
    },
    {
     "name": "stdout",
     "output_type": "stream",
     "text": [
      "Epoch 90, Loss 0.048\n",
      "Training Accuracy: 0.9503, Testing Accuracy: 0.9612\n",
      "\n"
     ]
    },
    {
     "name": "stdout",
     "output_type": "stream",
     "text": [
      "Epoch 100, Loss 0.0465\n",
      "Training Accuracy: 0.9528, Testing Accuracy: 0.9622\n",
      "\n"
     ]
    },
    {
     "name": "stdout",
     "output_type": "stream",
     "text": [
      "Epoch 110, Loss 0.0453\n",
      "Training Accuracy: 0.9538, Testing Accuracy: 0.9632\n",
      "\n"
     ]
    },
    {
     "name": "stdout",
     "output_type": "stream",
     "text": [
      "Epoch 120, Loss 0.0442\n",
      "Training Accuracy: 0.9544, Testing Accuracy: 0.9637\n",
      "\n"
     ]
    },
    {
     "name": "stdout",
     "output_type": "stream",
     "text": [
      "Epoch 130, Loss 0.0432\n",
      "Training Accuracy: 0.9556, Testing Accuracy: 0.9647\n",
      "\n"
     ]
    },
    {
     "name": "stdout",
     "output_type": "stream",
     "text": [
      "Epoch 140, Loss 0.0423\n",
      "Training Accuracy: 0.9565, Testing Accuracy: 0.9662\n",
      "\n"
     ]
    },
    {
     "name": "stdout",
     "output_type": "stream",
     "text": [
      "Epoch 150, Loss 0.0416\n",
      "Training Accuracy: 0.9573, Testing Accuracy: 0.9667\n",
      "\n"
     ]
    },
    {
     "name": "stdout",
     "output_type": "stream",
     "text": [
      "Epoch 160, Loss 0.0409\n",
      "Training Accuracy: 0.9579, Testing Accuracy: 0.9677\n",
      "\n"
     ]
    },
    {
     "name": "stdout",
     "output_type": "stream",
     "text": [
      "Epoch 170, Loss 0.0402\n",
      "Training Accuracy: 0.9583, Testing Accuracy: 0.9688\n",
      "\n"
     ]
    },
    {
     "name": "stdout",
     "output_type": "stream",
     "text": [
      "Epoch 180, Loss 0.0397\n",
      "Training Accuracy: 0.9588, Testing Accuracy: 0.9688\n",
      "\n"
     ]
    },
    {
     "name": "stdout",
     "output_type": "stream",
     "text": [
      "Epoch 190, Loss 0.0391\n",
      "Training Accuracy: 0.9594, Testing Accuracy: 0.9682\n",
      "\n"
     ]
    },
    {
     "name": "stdout",
     "output_type": "stream",
     "text": [
      "Epoch 200, Loss 0.0386\n",
      "Training Accuracy: 0.9598, Testing Accuracy: 0.9677\n",
      "\n"
     ]
    },
    {
     "name": "stdout",
     "output_type": "stream",
     "text": [
      "Epoch 210, Loss 0.0382\n",
      "Training Accuracy: 0.9600, Testing Accuracy: 0.9688\n",
      "\n"
     ]
    },
    {
     "name": "stdout",
     "output_type": "stream",
     "text": [
      "Epoch 220, Loss 0.0378\n",
      "Training Accuracy: 0.9606, Testing Accuracy: 0.9688\n",
      "\n"
     ]
    },
    {
     "name": "stdout",
     "output_type": "stream",
     "text": [
      "Epoch 230, Loss 0.0374\n",
      "Training Accuracy: 0.9610, Testing Accuracy: 0.9688\n",
      "\n"
     ]
    },
    {
     "name": "stdout",
     "output_type": "stream",
     "text": [
      "Epoch 240, Loss 0.037\n",
      "Training Accuracy: 0.9612, Testing Accuracy: 0.9693\n",
      "\n"
     ]
    },
    {
     "data": {
      "text/plain": [
       "0.02824980308448792"
      ]
     },
     "execution_count": 23,
     "metadata": {},
     "output_type": "execute_result"
    }
   ],
   "source": [
    "lr_learner.train_loop(dl)"
   ]
  },
  {
   "cell_type": "code",
   "execution_count": 24,
   "id": "ca410940",
   "metadata": {
    "execution": {
     "iopub.execute_input": "2021-12-03T20:10:08.139145Z",
     "iopub.status.busy": "2021-12-03T20:10:08.138574Z",
     "iopub.status.idle": "2021-12-03T20:10:08.360206Z",
     "shell.execute_reply": "2021-12-03T20:10:08.359296Z"
    },
    "papermill": {
     "duration": 0.274323,
     "end_time": "2021-12-03T20:10:08.360347",
     "exception": false,
     "start_time": "2021-12-03T20:10:08.086024",
     "status": "completed"
    },
    "tags": []
   },
   "outputs": [
    {
     "data": {
      "text/plain": [
       "<matplotlib.legend.Legend at 0x7f6def3accc0>"
      ]
     },
     "execution_count": 24,
     "metadata": {},
     "output_type": "execute_result"
    },
    {
     "data": {
      "image/png": "[encoded data removed]",
      "text/plain": [
       "<Figure size 1080x720 with 1 Axes>"
      ]
     },
     "metadata": {
      "needs_background": "light"
     },
     "output_type": "display_data"
    }
   ],
   "source": [
    "#comparing the results of NN and LR\n",
    "plt.figure(figsize=(15,10))\n",
    "\n",
    "# Neural Network plots\n",
    "plt.plot(acc_nn.accuracies, 'r-', label = \"Training Accuracies - NN\")\n",
    "plt.plot(acc_nn.test_accuracies, 'g-', label = \"Testing Accuracies - NN\")\n",
    "\n",
    "# Logistic Regression plots\n",
    "plt.plot(acc_lr.accuracies, 'k-', label = \"Training Accuracies - LR\")\n",
    "plt.plot(acc_lr.test_accuracies, 'b-', label = \"Testing Accuracies - LR\")\n",
    "plt.legend()"
   ]
  },
  {
   "cell_type": "markdown",
   "id": "80dfb35c",
   "metadata": {
    "papermill": {
     "duration": 0.042727,
     "end_time": "2021-12-03T20:10:08.446211",
     "exception": false,
     "start_time": "2021-12-03T20:10:08.403484",
     "status": "completed"
    },
    "tags": []
   },
   "source": [
    "#### Plotting the outputs of this layer of the NN.\n"
   ]
  },
  {
   "cell_type": "code",
   "execution_count": 25,
   "id": "45eb2ff5",
   "metadata": {
    "execution": {
     "iopub.execute_input": "2021-12-03T20:10:08.538453Z",
     "iopub.status.busy": "2021-12-03T20:10:08.535271Z",
     "iopub.status.idle": "2021-12-03T20:10:08.557210Z",
     "shell.execute_reply": "2021-12-03T20:10:08.557682Z"
    },
    "papermill": {
     "duration": 0.06901,
     "end_time": "2021-12-03T20:10:08.557829",
     "exception": false,
     "start_time": "2021-12-03T20:10:08.488819",
     "status": "completed"
    },
    "tags": []
   },
   "outputs": [],
   "source": [
    "new_model = Model(layers[:-2])\n",
    "testing_plot = new_model(testing_data_x)"
   ]
  },
  {
   "cell_type": "code",
   "execution_count": 26,
   "id": "4c0a5485",
   "metadata": {
    "execution": {
     "iopub.execute_input": "2021-12-03T20:10:08.652066Z",
     "iopub.status.busy": "2021-12-03T20:10:08.649036Z",
     "iopub.status.idle": "2021-12-03T20:10:08.838485Z",
     "shell.execute_reply": "2021-12-03T20:10:08.838010Z"
    },
    "papermill": {
     "duration": 0.237882,
     "end_time": "2021-12-03T20:10:08.838611",
     "exception": false,
     "start_time": "2021-12-03T20:10:08.600729",
     "status": "completed"
    },
    "tags": []
   },
   "outputs": [
    {
     "data": {
      "text/plain": [
       "Text(0.5, 1.0, 'Outputs')"
      ]
     },
     "execution_count": 26,
     "metadata": {},
     "output_type": "execute_result"
    },
    {
     "data": {
      "image/png": "[encoded data removed]",
      "text/plain": [
       "<Figure size 576x504 with 1 Axes>"
      ]
     },
     "metadata": {
      "needs_background": "light"
     },
     "output_type": "display_data"
    }
   ],
   "source": [
    "# Plotting the scatter plot of points and color coding by class\n",
    "plt.figure(figsize=(8,7))\n",
    "plt.scatter(testing_plot[:,0], testing_plot[:,1], alpha = 0.1, c = y_test.ravel());\n",
    "plt.title('Outputs')"
   ]
  },
  {
   "cell_type": "markdown",
   "id": "a74fcf8f",
   "metadata": {
    "papermill": {
     "duration": 0.04469,
     "end_time": "2021-12-03T20:10:08.928287",
     "exception": false,
     "start_time": "2021-12-03T20:10:08.883597",
     "status": "completed"
    },
    "tags": []
   },
   "source": [
    "Probability contours"
   ]
  },
  {
   "cell_type": "code",
   "execution_count": 27,
   "id": "d0afc8e3",
   "metadata": {
    "execution": {
     "iopub.execute_input": "2021-12-03T20:10:09.023285Z",
     "iopub.status.busy": "2021-12-03T20:10:09.022343Z",
     "iopub.status.idle": "2021-12-03T20:10:09.034080Z",
     "shell.execute_reply": "2021-12-03T20:10:09.034477Z"
    },
    "papermill": {
     "duration": 0.061488,
     "end_time": "2021-12-03T20:10:09.034618",
     "exception": false,
     "start_time": "2021-12-03T20:10:08.973130",
     "status": "completed"
    },
    "tags": []
   },
   "outputs": [],
   "source": [
    "model_prob = Model(layers[-2:]) "
   ]
  },
  {
   "cell_type": "code",
   "execution_count": 28,
   "id": "9b96e238",
   "metadata": {
    "execution": {
     "iopub.execute_input": "2021-12-03T20:10:09.161303Z",
     "iopub.status.busy": "2021-12-03T20:10:09.159201Z",
     "iopub.status.idle": "2021-12-03T20:10:09.173813Z",
     "shell.execute_reply": "2021-12-03T20:10:09.174205Z"
    },
    "papermill": {
     "duration": 0.094716,
     "end_time": "2021-12-03T20:10:09.174340",
     "exception": false,
     "start_time": "2021-12-03T20:10:09.079624",
     "status": "completed"
    },
    "tags": []
   },
   "outputs": [],
   "source": [
    "#creating the x and y ranges according to the above generated plot.\n",
    "x_range = np.linspace(-4, 1, 100) \n",
    "y_range = np.linspace(-6, 6, 100) \n",
    "x_grid, y_grid = np.meshgrid(x_range, y_range) # x_grid and y_grig are of size 100 X 100\n",
    "\n",
    "# converting x_grid and y_grid to continuous arrays\n",
    "x_gridflat = np.ravel(x_grid)\n",
    "y_gridflat = np.ravel(y_grid)\n",
    "\n",
    "# The last layer of the current model takes two columns as input. Hence transpose of np.vstack() is required.\n",
    "X = np.vstack((x_gridflat, y_gridflat)).T\n",
    "\n",
    "prob_contour = model_prob(X).reshape(100,100) "
   ]
  },
  {
   "cell_type": "code",
   "execution_count": 29,
   "id": "da72499a",
   "metadata": {
    "execution": {
     "iopub.execute_input": "2021-12-03T20:10:09.274007Z",
     "iopub.status.busy": "2021-12-03T20:10:09.273436Z",
     "iopub.status.idle": "2021-12-03T20:10:09.515717Z",
     "shell.execute_reply": "2021-12-03T20:10:09.516115Z"
    },
    "papermill": {
     "duration": 0.295882,
     "end_time": "2021-12-03T20:10:09.516260",
     "exception": false,
     "start_time": "2021-12-03T20:10:09.220378",
     "status": "completed"
    },
    "tags": []
   },
   "outputs": [
    {
     "data": {
      "image/png": "[encoded data removed]",
      "text/plain": [
       "<Figure size 720x648 with 1 Axes>"
      ]
     },
     "metadata": {
      "needs_background": "light"
     },
     "output_type": "display_data"
    }
   ],
   "source": [
    "plt.figure(figsize=(10,9))\n",
    "plt.scatter(testing_plot[:,0], testing_plot[:,1], alpha = 0.1, c = y_test.ravel())\n",
    "contours = plt.contour(x_grid,y_grid,prob_contour)\n",
    "plt.title('Probability Contours')\n",
    "plt.clabel(contours, inline = True );"
   ]
  },
  {
   "cell_type": "code",
   "execution_count": null,
   "id": "e81b4ac7",
   "metadata": {
    "papermill": {
     "duration": 0.048069,
     "end_time": "2021-12-03T20:10:09.611944",
     "exception": false,
     "start_time": "2021-12-03T20:10:09.563875",
     "status": "completed"
    },
    "tags": []
   },
   "outputs": [],
   "source": []
  }
 ],
 "metadata": {
  "kernelspec": {
   "display_name": "Python 3",
   "language": "python",
   "name": "python3"
  },
  "language_info": {
   "codemirror_mode": {
    "name": "ipython",
    "version": 3
   },
   "file_extension": ".py",
   "mimetype": "text/x-python",
   "name": "python",
   "nbconvert_exporter": "python",
   "pygments_lexer": "ipython3",
   "version": "3.6.15"
  },
  "papermill": {
   "default_parameters": {},
   "duration": 103.209987,
   "end_time": "2021-12-03T20:10:10.068375",
   "environment_variables": {},
   "exception": null,
   "input_path": "2020-08-11-part2.ipynb",
   "output_path": "2020-08-11-part2.ipynb",
   "parameters": {},
   "start_time": "2021-12-03T20:08:26.858388",
   "version": "2.3.3"
  }
 },
 "nbformat": 4,
 "nbformat_minor": 5
}