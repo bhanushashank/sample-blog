{
 "cells": [
  {
   "cell_type": "markdown",
   "id": "98380cd3",
   "metadata": {
    "papermill": {
     "duration": 0.030108,
     "end_time": "2022-05-21T20:10:30.742140",
     "exception": false,
     "start_time": "2022-05-21T20:10:30.712032",
     "status": "completed"
    },
    "tags": []
   },
   "source": [
    "# Distinguish Your Own Digits (DYOD)"
   ]
  },
  {
   "cell_type": "markdown",
   "id": "ef31240d",
   "metadata": {
    "papermill": {
     "duration": 0.023511,
     "end_time": "2022-05-21T20:10:30.789945",
     "exception": false,
     "start_time": "2022-05-21T20:10:30.766434",
     "status": "completed"
    },
    "tags": []
   },
   "source": [
    "You are going to write a classifier that distinguishes between the number 3 and number 8."
   ]
  },
  {
   "cell_type": "code",
   "execution_count": 1,
   "id": "b15c8646",
   "metadata": {
    "execution": {
     "iopub.execute_input": "2022-05-21T20:10:30.848556Z",
     "iopub.status.busy": "2022-05-21T20:10:30.847944Z",
     "iopub.status.idle": "2022-05-21T20:10:30.858380Z",
     "shell.execute_reply": "2022-05-21T20:10:30.857877Z"
    },
    "papermill": {
     "duration": 0.044982,
     "end_time": "2022-05-21T20:10:30.858509",
     "exception": false,
     "start_time": "2022-05-21T20:10:30.813527",
     "status": "completed"
    },
    "tags": []
   },
   "outputs": [],
   "source": [
    "%load_ext autoreload\n",
    "%autoreload 2"
   ]
  },
  {
   "cell_type": "code",
   "execution_count": 2,
   "id": "22ef38dc",
   "metadata": {
    "execution": {
     "iopub.execute_input": "2022-05-21T20:10:30.909815Z",
     "iopub.status.busy": "2022-05-21T20:10:30.909198Z",
     "iopub.status.idle": "2022-05-21T20:10:31.454867Z",
     "shell.execute_reply": "2022-05-21T20:10:31.454250Z"
    },
    "papermill": {
     "duration": 0.572937,
     "end_time": "2022-05-21T20:10:31.455015",
     "exception": false,
     "start_time": "2022-05-21T20:10:30.882078",
     "status": "completed"
    },
    "tags": []
   },
   "outputs": [],
   "source": [
    "%matplotlib inline\n",
    "import numpy as np\n",
    "import matplotlib.pyplot as plt\n",
    "import pandas as pd"
   ]
  },
  {
   "cell_type": "markdown",
   "id": "ba036198",
   "metadata": {
    "papermill": {
     "duration": 0.023554,
     "end_time": "2022-05-21T20:10:31.502643",
     "exception": false,
     "start_time": "2022-05-21T20:10:31.479089",
     "status": "completed"
    },
    "tags": []
   },
   "source": [
    "From the command line run `pip install mnist`. This is a library that will help you bring down the mnist dataset. If you run this from a notebook, you need to put  `!pip install mnist` in a cell by itself."
   ]
  },
  {
   "cell_type": "code",
   "execution_count": 3,
   "id": "bb6ad8a1",
   "metadata": {
    "execution": {
     "iopub.execute_input": "2022-05-21T20:10:31.554350Z",
     "iopub.status.busy": "2022-05-21T20:10:31.553750Z",
     "iopub.status.idle": "2022-05-21T20:10:33.256343Z",
     "shell.execute_reply": "2022-05-21T20:10:33.255715Z"
    },
    "papermill": {
     "duration": 1.730202,
     "end_time": "2022-05-21T20:10:33.256484",
     "exception": false,
     "start_time": "2022-05-21T20:10:31.526282",
     "status": "completed"
    },
    "tags": []
   },
   "outputs": [
    {
     "name": "stdout",
     "output_type": "stream",
     "text": [
      "Collecting mnist\r\n"
     ]
    },
    {
     "name": "stdout",
     "output_type": "stream",
     "text": [
      "  Downloading mnist-0.2.2-py2.py3-none-any.whl (3.5 kB)\r\n",
      "Requirement already satisfied: numpy in /opt/hostedtoolcache/Python/3.6.15/x64/lib/python3.6/site-packages (from mnist) (1.19.5)\r\n"
     ]
    },
    {
     "name": "stdout",
     "output_type": "stream",
     "text": [
      "Installing collected packages: mnist\r\n",
      "Successfully installed mnist-0.2.2\r\n"
     ]
    }
   ],
   "source": [
    "!pip install mnist"
   ]
  },
  {
   "cell_type": "markdown",
   "id": "69df9c9a",
   "metadata": {
    "papermill": {
     "duration": 0.024414,
     "end_time": "2022-05-21T20:10:33.305610",
     "exception": false,
     "start_time": "2022-05-21T20:10:33.281196",
     "status": "completed"
    },
    "tags": []
   },
   "source": [
    "## Preparing the Data"
   ]
  },
  {
   "cell_type": "code",
   "execution_count": 4,
   "id": "7f69d806",
   "metadata": {
    "execution": {
     "iopub.execute_input": "2022-05-21T20:10:33.372765Z",
     "iopub.status.busy": "2022-05-21T20:10:33.363646Z",
     "iopub.status.idle": "2022-05-21T20:10:33.376596Z",
     "shell.execute_reply": "2022-05-21T20:10:33.376119Z"
    },
    "papermill": {
     "duration": 0.046901,
     "end_time": "2022-05-21T20:10:33.376712",
     "exception": false,
     "start_time": "2022-05-21T20:10:33.329811",
     "status": "completed"
    },
    "tags": []
   },
   "outputs": [],
   "source": [
    "import mnist"
   ]
  },
  {
   "cell_type": "code",
   "execution_count": 5,
   "id": "a411e44f",
   "metadata": {
    "execution": {
     "iopub.execute_input": "2022-05-21T20:10:33.429517Z",
     "iopub.status.busy": "2022-05-21T20:10:33.428929Z",
     "iopub.status.idle": "2022-05-21T20:10:33.982674Z",
     "shell.execute_reply": "2022-05-21T20:10:33.982136Z"
    },
    "papermill": {
     "duration": 0.581593,
     "end_time": "2022-05-21T20:10:33.982812",
     "exception": false,
     "start_time": "2022-05-21T20:10:33.401219",
     "status": "completed"
    },
    "tags": []
   },
   "outputs": [],
   "source": [
    "train_images = mnist.train_images()\n",
    "train_labels = mnist.train_labels()"
   ]
  },
  {
   "cell_type": "code",
   "execution_count": 6,
   "id": "dceab3a5",
   "metadata": {
    "execution": {
     "iopub.execute_input": "2022-05-21T20:10:34.037102Z",
     "iopub.status.busy": "2022-05-21T20:10:34.036490Z",
     "iopub.status.idle": "2022-05-21T20:10:34.051831Z",
     "shell.execute_reply": "2022-05-21T20:10:34.052307Z"
    },
    "papermill": {
     "duration": 0.044906,
     "end_time": "2022-05-21T20:10:34.052449",
     "exception": false,
     "start_time": "2022-05-21T20:10:34.007543",
     "status": "completed"
    },
    "tags": []
   },
   "outputs": [
    {
     "data": {
      "text/plain": [
       "((60000, 28, 28), (60000,))"
      ]
     },
     "execution_count": 6,
     "metadata": {},
     "output_type": "execute_result"
    }
   ],
   "source": [
    "train_images.shape, train_labels.shape"
   ]
  },
  {
   "cell_type": "code",
   "execution_count": 7,
   "id": "f50dc2bb",
   "metadata": {
    "execution": {
     "iopub.execute_input": "2022-05-21T20:10:34.118477Z",
     "iopub.status.busy": "2022-05-21T20:10:34.114638Z",
     "iopub.status.idle": "2022-05-21T20:10:34.265202Z",
     "shell.execute_reply": "2022-05-21T20:10:34.264524Z"
    },
    "papermill": {
     "duration": 0.188264,
     "end_time": "2022-05-21T20:10:34.265354",
     "exception": false,
     "start_time": "2022-05-21T20:10:34.077090",
     "status": "completed"
    },
    "tags": []
   },
   "outputs": [],
   "source": [
    "test_images = mnist.test_images()\n",
    "test_labels = mnist.test_labels()"
   ]
  },
  {
   "cell_type": "code",
   "execution_count": 8,
   "id": "fc38cf1b",
   "metadata": {
    "execution": {
     "iopub.execute_input": "2022-05-21T20:10:34.319268Z",
     "iopub.status.busy": "2022-05-21T20:10:34.318695Z",
     "iopub.status.idle": "2022-05-21T20:10:34.332493Z",
     "shell.execute_reply": "2022-05-21T20:10:34.332015Z"
    },
    "papermill": {
     "duration": 0.041957,
     "end_time": "2022-05-21T20:10:34.332605",
     "exception": false,
     "start_time": "2022-05-21T20:10:34.290648",
     "status": "completed"
    },
    "tags": []
   },
   "outputs": [
    {
     "data": {
      "text/plain": [
       "((10000, 28, 28), (10000,))"
      ]
     },
     "execution_count": 8,
     "metadata": {},
     "output_type": "execute_result"
    }
   ],
   "source": [
    "test_images.shape, test_labels.shape"
   ]
  },
  {
   "cell_type": "code",
   "execution_count": 9,
   "id": "f9ed8fe0",
   "metadata": {
    "execution": {
     "iopub.execute_input": "2022-05-21T20:10:34.386750Z",
     "iopub.status.busy": "2022-05-21T20:10:34.386161Z",
     "iopub.status.idle": "2022-05-21T20:10:34.528059Z",
     "shell.execute_reply": "2022-05-21T20:10:34.528542Z"
    },
    "papermill": {
     "duration": 0.171215,
     "end_time": "2022-05-21T20:10:34.528692",
     "exception": false,
     "start_time": "2022-05-21T20:10:34.357477",
     "status": "completed"
    },
    "tags": []
   },
   "outputs": [
    {
     "name": "stdout",
     "output_type": "stream",
     "text": [
      "2\n"
     ]
    },
    {
     "data": {
      "text/plain": [
       "<matplotlib.image.AxesImage at 0x7fde648dfeb8>"
      ]
     },
     "execution_count": 9,
     "metadata": {},
     "output_type": "execute_result"
    },
    {
     "data": {
      "image/png": "[encoded data removed]",
      "text/plain": [
       "<Figure size 432x288 with 1 Axes>"
      ]
     },
     "metadata": {
      "needs_background": "light"
     },
     "output_type": "display_data"
    }
   ],
   "source": [
    "image_index = 7776 # You may select anything up to 60,000\n",
    "print(train_labels[image_index]) \n",
    "plt.imshow(train_images[image_index], cmap='Greys')"
   ]
  },
  {
   "cell_type": "markdown",
   "id": "a8d2388d",
   "metadata": {
    "papermill": {
     "duration": 0.02629,
     "end_time": "2022-05-21T20:10:34.581115",
     "exception": false,
     "start_time": "2022-05-21T20:10:34.554825",
     "status": "completed"
    },
    "tags": []
   },
   "source": [
    "## Filter data to get 3 and 8 out"
   ]
  },
  {
   "cell_type": "code",
   "execution_count": 10,
   "id": "776f7fc7",
   "metadata": {
    "execution": {
     "iopub.execute_input": "2022-05-21T20:10:34.642578Z",
     "iopub.status.busy": "2022-05-21T20:10:34.641949Z",
     "iopub.status.idle": "2022-05-21T20:10:34.657736Z",
     "shell.execute_reply": "2022-05-21T20:10:34.657213Z"
    },
    "papermill": {
     "duration": 0.05097,
     "end_time": "2022-05-21T20:10:34.657862",
     "exception": false,
     "start_time": "2022-05-21T20:10:34.606892",
     "status": "completed"
    },
    "tags": []
   },
   "outputs": [],
   "source": [
    "train_filter = np.where((train_labels == 3 ) | (train_labels == 8))\n",
    "test_filter = np.where((test_labels == 3) | (test_labels == 8))\n",
    "X_train, y_train = train_images[train_filter], train_labels[train_filter]\n",
    "X_test, y_test = test_images[test_filter], test_labels[test_filter]"
   ]
  },
  {
   "cell_type": "markdown",
   "id": "948f0b7e",
   "metadata": {
    "papermill": {
     "duration": 0.025866,
     "end_time": "2022-05-21T20:10:34.709890",
     "exception": false,
     "start_time": "2022-05-21T20:10:34.684024",
     "status": "completed"
    },
    "tags": []
   },
   "source": [
    "We normalize the pizel values in the 0 to 1 range"
   ]
  },
  {
   "cell_type": "code",
   "execution_count": 11,
   "id": "ee4c2166",
   "metadata": {
    "execution": {
     "iopub.execute_input": "2022-05-21T20:10:34.778742Z",
     "iopub.status.busy": "2022-05-21T20:10:34.775666Z",
     "iopub.status.idle": "2022-05-21T20:10:34.817527Z",
     "shell.execute_reply": "2022-05-21T20:10:34.816989Z"
    },
    "papermill": {
     "duration": 0.081944,
     "end_time": "2022-05-21T20:10:34.817692",
     "exception": false,
     "start_time": "2022-05-21T20:10:34.735748",
     "status": "completed"
    },
    "tags": []
   },
   "outputs": [],
   "source": [
    "X_train = X_train/255.\n",
    "X_test = X_test/255."
   ]
  },
  {
   "cell_type": "markdown",
   "id": "ddcf4fab",
   "metadata": {
    "papermill": {
     "duration": 0.026247,
     "end_time": "2022-05-21T20:10:34.870168",
     "exception": false,
     "start_time": "2022-05-21T20:10:34.843921",
     "status": "completed"
    },
    "tags": []
   },
   "source": [
    "And setup the labels as 1 (when the digit is 3) and 0 (when the digit is 8)"
   ]
  },
  {
   "cell_type": "code",
   "execution_count": 12,
   "id": "7dc908f2",
   "metadata": {
    "execution": {
     "iopub.execute_input": "2022-05-21T20:10:34.928899Z",
     "iopub.status.busy": "2022-05-21T20:10:34.928301Z",
     "iopub.status.idle": "2022-05-21T20:10:34.940359Z",
     "shell.execute_reply": "2022-05-21T20:10:34.940793Z"
    },
    "papermill": {
     "duration": 0.045068,
     "end_time": "2022-05-21T20:10:34.940938",
     "exception": false,
     "start_time": "2022-05-21T20:10:34.895870",
     "status": "completed"
    },
    "tags": []
   },
   "outputs": [],
   "source": [
    "y_train = 1*(y_train==3)\n",
    "y_test = 1*(y_test==3)"
   ]
  },
  {
   "cell_type": "code",
   "execution_count": 13,
   "id": "01e4e969",
   "metadata": {
    "execution": {
     "iopub.execute_input": "2022-05-21T20:10:34.996403Z",
     "iopub.status.busy": "2022-05-21T20:10:34.995833Z",
     "iopub.status.idle": "2022-05-21T20:10:35.010040Z",
     "shell.execute_reply": "2022-05-21T20:10:35.010493Z"
    },
    "papermill": {
     "duration": 0.043723,
     "end_time": "2022-05-21T20:10:35.010628",
     "exception": false,
     "start_time": "2022-05-21T20:10:34.966905",
     "status": "completed"
    },
    "tags": []
   },
   "outputs": [
    {
     "data": {
      "text/plain": [
       "((11982, 28, 28), (1984, 28, 28))"
      ]
     },
     "execution_count": 13,
     "metadata": {},
     "output_type": "execute_result"
    }
   ],
   "source": [
    "X_train.shape, X_test.shape"
   ]
  },
  {
   "cell_type": "markdown",
   "id": "5ccf3f85",
   "metadata": {
    "papermill": {
     "duration": 0.026365,
     "end_time": "2022-05-21T20:10:35.062879",
     "exception": false,
     "start_time": "2022-05-21T20:10:35.036514",
     "status": "completed"
    },
    "tags": []
   },
   "source": [
    "We reshape the data to flatten the image pixels into a set of features or co-variates:"
   ]
  },
  {
   "cell_type": "code",
   "execution_count": 14,
   "id": "5286a4a3",
   "metadata": {
    "execution": {
     "iopub.execute_input": "2022-05-21T20:10:35.130910Z",
     "iopub.status.busy": "2022-05-21T20:10:35.130325Z",
     "iopub.status.idle": "2022-05-21T20:10:35.140103Z",
     "shell.execute_reply": "2022-05-21T20:10:35.140555Z"
    },
    "papermill": {
     "duration": 0.051554,
     "end_time": "2022-05-21T20:10:35.140691",
     "exception": false,
     "start_time": "2022-05-21T20:10:35.089137",
     "status": "completed"
    },
    "tags": []
   },
   "outputs": [
    {
     "data": {
      "text/plain": [
       "((11982, 784), (1984, 784))"
      ]
     },
     "execution_count": 14,
     "metadata": {},
     "output_type": "execute_result"
    }
   ],
   "source": [
    "X_train = X_train.reshape(X_train.shape[0], -1)\n",
    "X_test = X_test.reshape(X_test.shape[0], -1)\n",
    "X_train.shape, X_test.shape"
   ]
  },
  {
   "cell_type": "code",
   "execution_count": 15,
   "id": "73c5f88a",
   "metadata": {
    "execution": {
     "iopub.execute_input": "2022-05-21T20:10:35.198897Z",
     "iopub.status.busy": "2022-05-21T20:10:35.198316Z",
     "iopub.status.idle": "2022-05-21T20:10:35.217207Z",
     "shell.execute_reply": "2022-05-21T20:10:35.217693Z"
    },
    "papermill": {
     "duration": 0.050923,
     "end_time": "2022-05-21T20:10:35.217833",
     "exception": false,
     "start_time": "2022-05-21T20:10:35.166910",
     "status": "completed"
    },
    "tags": []
   },
   "outputs": [],
   "source": [
    "#Impoting functions from 'Kudzu'\n",
    "from kudzu.model import Model\n",
    "from kudzu.train import Learner\n",
    "from kudzu.optim import GD\n",
    "from kudzu.data import Data, Sampler,Dataloader\n",
    "\n",
    "from kudzu.callbacks import AccCallback\n",
    "from kudzu.callbacks import ClfCallback\n",
    "\n",
    "from kudzu.loss import MSE\n",
    "\n",
    "from kudzu.layer import Sigmoid,Relu\n",
    "from kudzu.layer import Affine"
   ]
  },
  {
   "cell_type": "markdown",
   "id": "bc01172a",
   "metadata": {
    "papermill": {
     "duration": 0.02639,
     "end_time": "2022-05-21T20:10:35.270915",
     "exception": false,
     "start_time": "2022-05-21T20:10:35.244525",
     "status": "completed"
    },
    "tags": []
   },
   "source": [
    "### Let us create a `Config` class, to store important parameters. \n",
    "This class essentially plays the role of a dictionary."
   ]
  },
  {
   "cell_type": "code",
   "execution_count": 16,
   "id": "978281aa",
   "metadata": {
    "execution": {
     "iopub.execute_input": "2022-05-21T20:10:35.342304Z",
     "iopub.status.busy": "2022-05-21T20:10:35.341634Z",
     "iopub.status.idle": "2022-05-21T20:10:35.343882Z",
     "shell.execute_reply": "2022-05-21T20:10:35.344334Z"
    },
    "papermill": {
     "duration": 0.04725,
     "end_time": "2022-05-21T20:10:35.344475",
     "exception": false,
     "start_time": "2022-05-21T20:10:35.297225",
     "status": "completed"
    },
    "tags": []
   },
   "outputs": [],
   "source": [
    "class Config:\n",
    "    pass\n",
    "config = Config()\n",
    "config.lr = 0.001\n",
    "config.num_epochs = 250\n",
    "config.bs = 50"
   ]
  },
  {
   "cell_type": "markdown",
   "id": "1385fa59",
   "metadata": {
    "papermill": {
     "duration": 0.026476,
     "end_time": "2022-05-21T20:10:35.397669",
     "exception": false,
     "start_time": "2022-05-21T20:10:35.371193",
     "status": "completed"
    },
    "tags": []
   },
   "source": [
    "### Running Models with the Training data\n",
    "Details about the network layers:\n",
    "- A first affine layer has 784 inputs and does 100 affine transforms. These are followed by a Relu\n",
    "- A second affine layer has 100 inputs from the 100 activations of the past layer, and does 100 affine transforms. These are followed by a Relu\n",
    "- A third affine layer has 100 activations and does 2 affine transformations to create an embedding for visualization. There is no non-linearity here.\n",
    "- A final \"logistic regression\" which has an affine transform from 2 inputs to 1 output, which is squeezed through a sigmoid.\n"
   ]
  },
  {
   "cell_type": "code",
   "execution_count": 17,
   "id": "2b9c66db",
   "metadata": {
    "execution": {
     "iopub.execute_input": "2022-05-21T20:10:35.469102Z",
     "iopub.status.busy": "2022-05-21T20:10:35.462678Z",
     "iopub.status.idle": "2022-05-21T20:10:35.472370Z",
     "shell.execute_reply": "2022-05-21T20:10:35.471878Z"
    },
    "papermill": {
     "duration": 0.047999,
     "end_time": "2022-05-21T20:10:35.472490",
     "exception": false,
     "start_time": "2022-05-21T20:10:35.424491",
     "status": "completed"
    },
    "tags": []
   },
   "outputs": [],
   "source": [
    "data = Data(X_train, y_train.reshape(-1,1))\n",
    "sampler = Sampler(data, config.bs, shuffle=True)\n",
    "\n",
    "dl = Dataloader(data, sampler)\n",
    "\n",
    "opt = GD(config.lr)\n",
    "loss = MSE()"
   ]
  },
  {
   "cell_type": "code",
   "execution_count": 18,
   "id": "b275e4c2",
   "metadata": {
    "execution": {
     "iopub.execute_input": "2022-05-21T20:10:35.529805Z",
     "iopub.status.busy": "2022-05-21T20:10:35.529200Z",
     "iopub.status.idle": "2022-05-21T20:10:35.542964Z",
     "shell.execute_reply": "2022-05-21T20:10:35.542500Z"
    },
    "papermill": {
     "duration": 0.043916,
     "end_time": "2022-05-21T20:10:35.543086",
     "exception": false,
     "start_time": "2022-05-21T20:10:35.499170",
     "status": "completed"
    },
    "tags": []
   },
   "outputs": [],
   "source": [
    "training_data_x = X_train\n",
    "testing_data_x = X_test\n",
    "training_data_y = y_train.reshape(-1,1)\n",
    "testing_data_y = y_test.reshape(-1,1)"
   ]
  },
  {
   "cell_type": "code",
   "execution_count": 19,
   "id": "76951160",
   "metadata": {
    "execution": {
     "iopub.execute_input": "2022-05-21T20:10:35.603232Z",
     "iopub.status.busy": "2022-05-21T20:10:35.602635Z",
     "iopub.status.idle": "2022-05-21T20:10:35.618371Z",
     "shell.execute_reply": "2022-05-21T20:10:35.617884Z"
    },
    "papermill": {
     "duration": 0.04903,
     "end_time": "2022-05-21T20:10:35.618487",
     "exception": false,
     "start_time": "2022-05-21T20:10:35.569457",
     "status": "completed"
    },
    "tags": []
   },
   "outputs": [
    {
     "name": "stdout",
     "output_type": "stream",
     "text": [
      "xavier\n",
      "xavier\n",
      "xavier\n",
      "xavier\n",
      "xavier\n"
     ]
    }
   ],
   "source": [
    "layers = [Affine(\"first\", 784, 100), Relu(\"first\"), Affine(\"second\", 100, 100), Relu(\"second\"), Affine(\"third\", 100, 2), Affine(\"last\", 2, 1), Sigmoid(\"last\")]\n",
    "model_nn = Model(layers)\n",
    "model_lr = Model([Affine(\"logits\", 784, 1), Sigmoid(\"sigmoid\")])"
   ]
  },
  {
   "cell_type": "code",
   "execution_count": 20,
   "id": "6eede77a",
   "metadata": {
    "execution": {
     "iopub.execute_input": "2022-05-21T20:10:35.676536Z",
     "iopub.status.busy": "2022-05-21T20:10:35.675953Z",
     "iopub.status.idle": "2022-05-21T20:10:35.688864Z",
     "shell.execute_reply": "2022-05-21T20:10:35.688384Z"
    },
    "papermill": {
     "duration": 0.043631,
     "end_time": "2022-05-21T20:10:35.688980",
     "exception": false,
     "start_time": "2022-05-21T20:10:35.645349",
     "status": "completed"
    },
    "tags": []
   },
   "outputs": [],
   "source": [
    "nn_learner = Learner(loss, model_nn, opt, config.num_epochs)\n",
    "acc_nn = ClfCallback(nn_learner, config.bs, training_data_x , testing_data_x, training_data_y, testing_data_y)\n",
    "nn_learner.set_callbacks([acc_nn])"
   ]
  },
  {
   "cell_type": "code",
   "execution_count": 21,
   "id": "877b6cc7",
   "metadata": {
    "execution": {
     "iopub.execute_input": "2022-05-21T20:10:35.750211Z",
     "iopub.status.busy": "2022-05-21T20:10:35.749603Z",
     "iopub.status.idle": "2022-05-21T20:10:35.760598Z",
     "shell.execute_reply": "2022-05-21T20:10:35.760120Z"
    },
    "papermill": {
     "duration": 0.044971,
     "end_time": "2022-05-21T20:10:35.760713",
     "exception": false,
     "start_time": "2022-05-21T20:10:35.715742",
     "status": "completed"
    },
    "tags": []
   },
   "outputs": [],
   "source": [
    "lr_learner = Learner(loss, model_lr, opt, config.num_epochs)\n",
    "acc_lr = ClfCallback(lr_learner, config.bs, training_data_x , testing_data_x, training_data_y, testing_data_y)\n",
    "lr_learner.set_callbacks([acc_lr])"
   ]
  },
  {
   "cell_type": "code",
   "execution_count": 22,
   "id": "d9b133c3",
   "metadata": {
    "execution": {
     "iopub.execute_input": "2022-05-21T20:10:35.817864Z",
     "iopub.status.busy": "2022-05-21T20:10:35.817260Z",
     "iopub.status.idle": "2022-05-21T20:11:55.998419Z",
     "shell.execute_reply": "2022-05-21T20:11:55.999316Z"
    },
    "papermill": {
     "duration": 80.212149,
     "end_time": "2022-05-21T20:11:55.999476",
     "exception": false,
     "start_time": "2022-05-21T20:10:35.787327",
     "status": "completed"
    },
    "tags": []
   },
   "outputs": [
    {
     "name": "stdout",
     "output_type": "stream",
     "text": [
      "Epoch 0, Loss 0.2497\n",
      "Training Accuracy: 0.5206, Testing Accuracy: 0.5151\n",
      "\n"
     ]
    },
    {
     "name": "stdout",
     "output_type": "stream",
     "text": [
      "Epoch 10, Loss 0.2005\n",
      "Training Accuracy: 0.8736, Testing Accuracy: 0.8705\n",
      "\n"
     ]
    },
    {
     "name": "stdout",
     "output_type": "stream",
     "text": [
      "Epoch 20, Loss 0.1011\n",
      "Training Accuracy: 0.9142, Testing Accuracy: 0.9234\n",
      "\n"
     ]
    },
    {
     "name": "stdout",
     "output_type": "stream",
     "text": [
      "Epoch 30, Loss 0.0619\n",
      "Training Accuracy: 0.9372, Testing Accuracy: 0.9496\n",
      "\n"
     ]
    },
    {
     "name": "stdout",
     "output_type": "stream",
     "text": [
      "Epoch 40, Loss 0.0478\n",
      "Training Accuracy: 0.9482, Testing Accuracy: 0.9592\n",
      "\n"
     ]
    },
    {
     "name": "stdout",
     "output_type": "stream",
     "text": [
      "Epoch 50, Loss 0.0407\n",
      "Training Accuracy: 0.9545, Testing Accuracy: 0.9677\n",
      "\n"
     ]
    },
    {
     "name": "stdout",
     "output_type": "stream",
     "text": [
      "Epoch 60, Loss 0.0364\n",
      "Training Accuracy: 0.9583, Testing Accuracy: 0.9688\n",
      "\n"
     ]
    },
    {
     "name": "stdout",
     "output_type": "stream",
     "text": [
      "Epoch 70, Loss 0.0335\n",
      "Training Accuracy: 0.9610, Testing Accuracy: 0.9698\n",
      "\n"
     ]
    },
    {
     "name": "stdout",
     "output_type": "stream",
     "text": [
      "Epoch 80, Loss 0.0314\n",
      "Training Accuracy: 0.9636, Testing Accuracy: 0.9713\n",
      "\n"
     ]
    },
    {
     "name": "stdout",
     "output_type": "stream",
     "text": [
      "Epoch 90, Loss 0.0298\n",
      "Training Accuracy: 0.9647, Testing Accuracy: 0.9713\n",
      "\n"
     ]
    },
    {
     "name": "stdout",
     "output_type": "stream",
     "text": [
      "Epoch 100, Loss 0.0285\n",
      "Training Accuracy: 0.9663, Testing Accuracy: 0.9713\n",
      "\n"
     ]
    },
    {
     "name": "stdout",
     "output_type": "stream",
     "text": [
      "Epoch 110, Loss 0.0274\n",
      "Training Accuracy: 0.9678, Testing Accuracy: 0.9713\n",
      "\n"
     ]
    },
    {
     "name": "stdout",
     "output_type": "stream",
     "text": [
      "Epoch 120, Loss 0.0265\n",
      "Training Accuracy: 0.9685, Testing Accuracy: 0.9703\n",
      "\n"
     ]
    },
    {
     "name": "stdout",
     "output_type": "stream",
     "text": [
      "Epoch 130, Loss 0.0257\n",
      "Training Accuracy: 0.9693, Testing Accuracy: 0.9708\n",
      "\n"
     ]
    },
    {
     "name": "stdout",
     "output_type": "stream",
     "text": [
      "Epoch 140, Loss 0.025\n",
      "Training Accuracy: 0.9703, Testing Accuracy: 0.9718\n",
      "\n"
     ]
    },
    {
     "name": "stdout",
     "output_type": "stream",
     "text": [
      "Epoch 150, Loss 0.0243\n",
      "Training Accuracy: 0.9713, Testing Accuracy: 0.9713\n",
      "\n"
     ]
    },
    {
     "name": "stdout",
     "output_type": "stream",
     "text": [
      "Epoch 160, Loss 0.0237\n",
      "Training Accuracy: 0.9719, Testing Accuracy: 0.9713\n",
      "\n"
     ]
    },
    {
     "name": "stdout",
     "output_type": "stream",
     "text": [
      "Epoch 170, Loss 0.0232\n",
      "Training Accuracy: 0.9722, Testing Accuracy: 0.9713\n",
      "\n"
     ]
    },
    {
     "name": "stdout",
     "output_type": "stream",
     "text": [
      "Epoch 180, Loss 0.0226\n",
      "Training Accuracy: 0.9730, Testing Accuracy: 0.9718\n",
      "\n"
     ]
    },
    {
     "name": "stdout",
     "output_type": "stream",
     "text": [
      "Epoch 190, Loss 0.0222\n",
      "Training Accuracy: 0.9740, Testing Accuracy: 0.9728\n",
      "\n"
     ]
    },
    {
     "name": "stdout",
     "output_type": "stream",
     "text": [
      "Epoch 200, Loss 0.0217\n",
      "Training Accuracy: 0.9745, Testing Accuracy: 0.9728\n",
      "\n"
     ]
    },
    {
     "name": "stdout",
     "output_type": "stream",
     "text": [
      "Epoch 210, Loss 0.0213\n",
      "Training Accuracy: 0.9756, Testing Accuracy: 0.9733\n",
      "\n"
     ]
    },
    {
     "name": "stdout",
     "output_type": "stream",
     "text": [
      "Epoch 220, Loss 0.0209\n",
      "Training Accuracy: 0.9762, Testing Accuracy: 0.9733\n",
      "\n"
     ]
    },
    {
     "name": "stdout",
     "output_type": "stream",
     "text": [
      "Epoch 230, Loss 0.0205\n",
      "Training Accuracy: 0.9770, Testing Accuracy: 0.9738\n",
      "\n"
     ]
    },
    {
     "name": "stdout",
     "output_type": "stream",
     "text": [
      "Epoch 240, Loss 0.0201\n",
      "Training Accuracy: 0.9774, Testing Accuracy: 0.9738\n",
      "\n"
     ]
    },
    {
     "data": {
      "text/plain": [
       "0.14414458938058572"
      ]
     },
     "execution_count": 22,
     "metadata": {},
     "output_type": "execute_result"
    }
   ],
   "source": [
    "nn_learner.train_loop(dl)"
   ]
  },
  {
   "cell_type": "code",
   "execution_count": 23,
   "id": "e0163366",
   "metadata": {
    "execution": {
     "iopub.execute_input": "2022-05-21T20:11:56.081535Z",
     "iopub.status.busy": "2022-05-21T20:11:56.080916Z",
     "iopub.status.idle": "2022-05-21T20:12:10.894655Z",
     "shell.execute_reply": "2022-05-21T20:12:10.895505Z"
    },
    "papermill": {
     "duration": 14.861751,
     "end_time": "2022-05-21T20:12:10.895657",
     "exception": false,
     "start_time": "2022-05-21T20:11:56.033906",
     "status": "completed"
    },
    "tags": []
   },
   "outputs": [
    {
     "name": "stdout",
     "output_type": "stream",
     "text": [
      "Epoch 0, Loss 0.2809\n",
      "Training Accuracy: 0.5062, Testing Accuracy: 0.4899\n",
      "\n"
     ]
    },
    {
     "name": "stdout",
     "output_type": "stream",
     "text": [
      "Epoch 10, Loss 0.1024\n",
      "Training Accuracy: 0.9200, Testing Accuracy: 0.9269\n",
      "\n"
     ]
    },
    {
     "name": "stdout",
     "output_type": "stream",
     "text": [
      "Epoch 20, Loss 0.0775\n",
      "Training Accuracy: 0.9322, Testing Accuracy: 0.9435\n",
      "\n"
     ]
    },
    {
     "name": "stdout",
     "output_type": "stream",
     "text": [
      "Epoch 30, Loss 0.0666\n",
      "Training Accuracy: 0.9389, Testing Accuracy: 0.9521\n",
      "\n"
     ]
    },
    {
     "name": "stdout",
     "output_type": "stream",
     "text": [
      "Epoch 40, Loss 0.0602\n",
      "Training Accuracy: 0.9435, Testing Accuracy: 0.9551\n",
      "\n"
     ]
    },
    {
     "name": "stdout",
     "output_type": "stream",
     "text": [
      "Epoch 50, Loss 0.0559\n",
      "Training Accuracy: 0.9462, Testing Accuracy: 0.9577\n",
      "\n"
     ]
    },
    {
     "name": "stdout",
     "output_type": "stream",
     "text": [
      "Epoch 60, Loss 0.0527\n",
      "Training Accuracy: 0.9480, Testing Accuracy: 0.9597\n",
      "\n"
     ]
    },
    {
     "name": "stdout",
     "output_type": "stream",
     "text": [
      "Epoch 70, Loss 0.0502\n",
      "Training Accuracy: 0.9506, Testing Accuracy: 0.9597\n",
      "\n"
     ]
    },
    {
     "name": "stdout",
     "output_type": "stream",
     "text": [
      "Epoch 80, Loss 0.0483\n",
      "Training Accuracy: 0.9522, Testing Accuracy: 0.9612\n",
      "\n"
     ]
    },
    {
     "name": "stdout",
     "output_type": "stream",
     "text": [
      "Epoch 90, Loss 0.0466\n",
      "Training Accuracy: 0.9528, Testing Accuracy: 0.9612\n",
      "\n"
     ]
    },
    {
     "name": "stdout",
     "output_type": "stream",
     "text": [
      "Epoch 100, Loss 0.0453\n",
      "Training Accuracy: 0.9535, Testing Accuracy: 0.9622\n",
      "\n"
     ]
    },
    {
     "name": "stdout",
     "output_type": "stream",
     "text": [
      "Epoch 110, Loss 0.0441\n",
      "Training Accuracy: 0.9543, Testing Accuracy: 0.9622\n",
      "\n"
     ]
    },
    {
     "name": "stdout",
     "output_type": "stream",
     "text": [
      "Epoch 120, Loss 0.0431\n",
      "Training Accuracy: 0.9548, Testing Accuracy: 0.9637\n",
      "\n"
     ]
    },
    {
     "name": "stdout",
     "output_type": "stream",
     "text": [
      "Epoch 130, Loss 0.0422\n",
      "Training Accuracy: 0.9557, Testing Accuracy: 0.9632\n",
      "\n"
     ]
    },
    {
     "name": "stdout",
     "output_type": "stream",
     "text": [
      "Epoch 140, Loss 0.0414\n",
      "Training Accuracy: 0.9565, Testing Accuracy: 0.9642\n",
      "\n"
     ]
    },
    {
     "name": "stdout",
     "output_type": "stream",
     "text": [
      "Epoch 150, Loss 0.0407\n",
      "Training Accuracy: 0.9573, Testing Accuracy: 0.9657\n",
      "\n"
     ]
    },
    {
     "name": "stdout",
     "output_type": "stream",
     "text": [
      "Epoch 160, Loss 0.04\n",
      "Training Accuracy: 0.9578, Testing Accuracy: 0.9667\n",
      "\n"
     ]
    },
    {
     "name": "stdout",
     "output_type": "stream",
     "text": [
      "Epoch 170, Loss 0.0394\n",
      "Training Accuracy: 0.9584, Testing Accuracy: 0.9672\n",
      "\n"
     ]
    },
    {
     "name": "stdout",
     "output_type": "stream",
     "text": [
      "Epoch 180, Loss 0.0389\n",
      "Training Accuracy: 0.9589, Testing Accuracy: 0.9677\n",
      "\n"
     ]
    },
    {
     "name": "stdout",
     "output_type": "stream",
     "text": [
      "Epoch 190, Loss 0.0384\n",
      "Training Accuracy: 0.9591, Testing Accuracy: 0.9677\n",
      "\n"
     ]
    },
    {
     "name": "stdout",
     "output_type": "stream",
     "text": [
      "Epoch 200, Loss 0.0379\n",
      "Training Accuracy: 0.9594, Testing Accuracy: 0.9677\n",
      "\n"
     ]
    },
    {
     "name": "stdout",
     "output_type": "stream",
     "text": [
      "Epoch 210, Loss 0.0375\n",
      "Training Accuracy: 0.9599, Testing Accuracy: 0.9677\n",
      "\n"
     ]
    },
    {
     "name": "stdout",
     "output_type": "stream",
     "text": [
      "Epoch 220, Loss 0.0371\n",
      "Training Accuracy: 0.9601, Testing Accuracy: 0.9677\n",
      "\n"
     ]
    },
    {
     "name": "stdout",
     "output_type": "stream",
     "text": [
      "Epoch 230, Loss 0.0367\n",
      "Training Accuracy: 0.9606, Testing Accuracy: 0.9677\n",
      "\n"
     ]
    },
    {
     "name": "stdout",
     "output_type": "stream",
     "text": [
      "Epoch 240, Loss 0.0364\n",
      "Training Accuracy: 0.9609, Testing Accuracy: 0.9688\n",
      "\n"
     ]
    },
    {
     "data": {
      "text/plain": [
       "0.027354845419442594"
      ]
     },
     "execution_count": 23,
     "metadata": {},
     "output_type": "execute_result"
    }
   ],
   "source": [
    "lr_learner.train_loop(dl)"
   ]
  },
  {
   "cell_type": "code",
   "execution_count": 24,
   "id": "ca410940",
   "metadata": {
    "execution": {
     "iopub.execute_input": "2022-05-21T20:12:10.987292Z",
     "iopub.status.busy": "2022-05-21T20:12:10.986689Z",
     "iopub.status.idle": "2022-05-21T20:12:11.212602Z",
     "shell.execute_reply": "2022-05-21T20:12:11.213069Z"
    },
    "papermill": {
     "duration": 0.276755,
     "end_time": "2022-05-21T20:12:11.213221",
     "exception": false,
     "start_time": "2022-05-21T20:12:10.936466",
     "status": "completed"
    },
    "tags": []
   },
   "outputs": [
    {
     "data": {
      "text/plain": [
       "<matplotlib.legend.Legend at 0x7fde644504e0>"
      ]
     },
     "execution_count": 24,
     "metadata": {},
     "output_type": "execute_result"
    },
    {
     "data": {
      "image/png": "[encoded data removed]",
      "text/plain": [
       "<Figure size 1080x720 with 1 Axes>"
      ]
     },
     "metadata": {
      "needs_background": "light"
     },
     "output_type": "display_data"
    }
   ],
   "source": [
    "#comparing the results of NN and LR\n",
    "plt.figure(figsize=(15,10))\n",
    "\n",
    "# Neural Network plots\n",
    "plt.plot(acc_nn.accuracies, 'r-', label = \"Training Accuracies - NN\")\n",
    "plt.plot(acc_nn.test_accuracies, 'g-', label = \"Testing Accuracies - NN\")\n",
    "\n",
    "# Logistic Regression plots\n",
    "plt.plot(acc_lr.accuracies, 'k-', label = \"Training Accuracies - LR\")\n",
    "plt.plot(acc_lr.test_accuracies, 'b-', label = \"Testing Accuracies - LR\")\n",
    "plt.legend()"
   ]
  },
  {
   "cell_type": "markdown",
   "id": "80dfb35c",
   "metadata": {
    "papermill": {
     "duration": 0.041462,
     "end_time": "2022-05-21T20:12:11.296440",
     "exception": false,
     "start_time": "2022-05-21T20:12:11.254978",
     "status": "completed"
    },
    "tags": []
   },
   "source": [
    "#### Plotting the outputs of this layer of the NN.\n"
   ]
  },
  {
   "cell_type": "code",
   "execution_count": 25,
   "id": "45eb2ff5",
   "metadata": {
    "execution": {
     "iopub.execute_input": "2022-05-21T20:12:11.386607Z",
     "iopub.status.busy": "2022-05-21T20:12:11.385950Z",
     "iopub.status.idle": "2022-05-21T20:12:11.406778Z",
     "shell.execute_reply": "2022-05-21T20:12:11.406232Z"
    },
    "papermill": {
     "duration": 0.068902,
     "end_time": "2022-05-21T20:12:11.406913",
     "exception": false,
     "start_time": "2022-05-21T20:12:11.338011",
     "status": "completed"
    },
    "tags": []
   },
   "outputs": [],
   "source": [
    "new_model = Model(layers[:-2])\n",
    "testing_plot = new_model(testing_data_x)"
   ]
  },
  {
   "cell_type": "code",
   "execution_count": 26,
   "id": "4c0a5485",
   "metadata": {
    "execution": {
     "iopub.execute_input": "2022-05-21T20:12:11.496338Z",
     "iopub.status.busy": "2022-05-21T20:12:11.495724Z",
     "iopub.status.idle": "2022-05-21T20:12:11.728320Z",
     "shell.execute_reply": "2022-05-21T20:12:11.728984Z"
    },
    "papermill": {
     "duration": 0.280081,
     "end_time": "2022-05-21T20:12:11.729144",
     "exception": false,
     "start_time": "2022-05-21T20:12:11.449063",
     "status": "completed"
    },
    "tags": []
   },
   "outputs": [
    {
     "data": {
      "text/plain": [
       "Text(0.5, 1.0, 'Outputs')"
      ]
     },
     "execution_count": 26,
     "metadata": {},
     "output_type": "execute_result"
    },
    {
     "data": {
      "image/png": "[encoded data removed]",
      "text/plain": [
       "<Figure size 576x504 with 1 Axes>"
      ]
     },
     "metadata": {
      "needs_background": "light"
     },
     "output_type": "display_data"
    }
   ],
   "source": [
    "# Plotting the scatter plot of points and color coding by class\n",
    "plt.figure(figsize=(8,7))\n",
    "plt.scatter(testing_plot[:,0], testing_plot[:,1], alpha = 0.1, c = y_test.ravel());\n",
    "plt.title('Outputs')"
   ]
  },
  {
   "cell_type": "markdown",
   "id": "a74fcf8f",
   "metadata": {
    "papermill": {
     "duration": 0.043986,
     "end_time": "2022-05-21T20:12:11.817736",
     "exception": false,
     "start_time": "2022-05-21T20:12:11.773750",
     "status": "completed"
    },
    "tags": []
   },
   "source": [
    "Probability contours"
   ]
  },
  {
   "cell_type": "code",
   "execution_count": 27,
   "id": "d0afc8e3",
   "metadata": {
    "execution": {
     "iopub.execute_input": "2022-05-21T20:12:11.918576Z",
     "iopub.status.busy": "2022-05-21T20:12:11.917049Z",
     "iopub.status.idle": "2022-05-21T20:12:11.925044Z",
     "shell.execute_reply": "2022-05-21T20:12:11.925475Z"
    },
    "papermill": {
     "duration": 0.063815,
     "end_time": "2022-05-21T20:12:11.925623",
     "exception": false,
     "start_time": "2022-05-21T20:12:11.861808",
     "status": "completed"
    },
    "tags": []
   },
   "outputs": [],
   "source": [
    "model_prob = Model(layers[-2:]) "
   ]
  },
  {
   "cell_type": "code",
   "execution_count": 28,
   "id": "9b96e238",
   "metadata": {
    "execution": {
     "iopub.execute_input": "2022-05-21T20:12:12.022409Z",
     "iopub.status.busy": "2022-05-21T20:12:12.021781Z",
     "iopub.status.idle": "2022-05-21T20:12:12.035050Z",
     "shell.execute_reply": "2022-05-21T20:12:12.034578Z"
    },
    "papermill": {
     "duration": 0.065541,
     "end_time": "2022-05-21T20:12:12.035175",
     "exception": false,
     "start_time": "2022-05-21T20:12:11.969634",
     "status": "completed"
    },
    "tags": []
   },
   "outputs": [],
   "source": [
    "#creating the x and y ranges according to the above generated plot.\n",
    "x_range = np.linspace(-4, 1, 100) \n",
    "y_range = np.linspace(-6, 6, 100) \n",
    "x_grid, y_grid = np.meshgrid(x_range, y_range) # x_grid and y_grig are of size 100 X 100\n",
    "\n",
    "# converting x_grid and y_grid to continuous arrays\n",
    "x_gridflat = np.ravel(x_grid)\n",
    "y_gridflat = np.ravel(y_grid)\n",
    "\n",
    "# The last layer of the current model takes two columns as input. Hence transpose of np.vstack() is required.\n",
    "X = np.vstack((x_gridflat, y_gridflat)).T\n",
    "\n",
    "prob_contour = model_prob(X).reshape(100,100) "
   ]
  },
  {
   "cell_type": "code",
   "execution_count": 29,
   "id": "da72499a",
   "metadata": {
    "execution": {
     "iopub.execute_input": "2022-05-21T20:12:12.161884Z",
     "iopub.status.busy": "2022-05-21T20:12:12.161170Z",
     "iopub.status.idle": "2022-05-21T20:12:12.416556Z",
     "shell.execute_reply": "2022-05-21T20:12:12.417058Z"
    },
    "papermill": {
     "duration": 0.305191,
     "end_time": "2022-05-21T20:12:12.417213",
     "exception": false,
     "start_time": "2022-05-21T20:12:12.112022",
     "status": "completed"
    },
    "tags": []
   },
   "outputs": [
    {
     "data": {
      "image/png": "[encoded data removed]",
      "text/plain": [
       "<Figure size 720x648 with 1 Axes>"
      ]
     },
     "metadata": {
      "needs_background": "light"
     },
     "output_type": "display_data"
    }
   ],
   "source": [
    "plt.figure(figsize=(10,9))\n",
    "plt.scatter(testing_plot[:,0], testing_plot[:,1], alpha = 0.1, c = y_test.ravel())\n",
    "contours = plt.contour(x_grid,y_grid,prob_contour)\n",
    "plt.title('Probability Contours')\n",
    "plt.clabel(contours, inline = True );"
   ]
  },
  {
   "cell_type": "code",
   "execution_count": null,
   "id": "e81b4ac7",
   "metadata": {
    "papermill": {
     "duration": 0.04714,
     "end_time": "2022-05-21T20:12:12.511832",
     "exception": false,
     "start_time": "2022-05-21T20:12:12.464692",
     "status": "completed"
    },
    "tags": []
   },
   "outputs": [],
   "source": []
  }
 ],
 "metadata": {
  "kernelspec": {
   "display_name": "Python 3",
   "language": "python",
   "name": "python3"
  },
  "language_info": {
   "codemirror_mode": {
    "name": "ipython",
    "version": 3
   },
   "file_extension": ".py",
   "mimetype": "text/x-python",
   "name": "python",
   "nbconvert_exporter": "python",
   "pygments_lexer": "ipython3",
   "version": "3.6.15"
  },
  "papermill": {
   "default_parameters": {},
   "duration": 103.21066,
   "end_time": "2022-05-21T20:12:12.978168",
   "environment_variables": {},
   "exception": null,
   "input_path": "2020-08-11-part2.ipynb",
   "output_path": "2020-08-11-part2.ipynb",
   "parameters": {},
   "start_time": "2022-05-21T20:10:29.767508",
   "version": "2.3.3"
  }
 },
 "nbformat": 4,
 "nbformat_minor": 5
}