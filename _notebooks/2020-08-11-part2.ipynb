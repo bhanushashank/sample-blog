{
 "cells": [
  {
   "cell_type": "markdown",
   "id": "98380cd3",
   "metadata": {
    "papermill": {
     "duration": 0.02804,
     "end_time": "2022-02-13T10:07:13.268041",
     "exception": false,
     "start_time": "2022-02-13T10:07:13.240001",
     "status": "completed"
    },
    "tags": []
   },
   "source": [
    "# Distinguish Your Own Digits (DYOD)"
   ]
  },
  {
   "cell_type": "markdown",
   "id": "ef31240d",
   "metadata": {
    "papermill": {
     "duration": 0.024095,
     "end_time": "2022-02-13T10:07:13.315390",
     "exception": false,
     "start_time": "2022-02-13T10:07:13.291295",
     "status": "completed"
    },
    "tags": []
   },
   "source": [
    "You are going to write a classifier that distinguishes between the number 3 and number 8."
   ]
  },
  {
   "cell_type": "code",
   "execution_count": 1,
   "id": "b15c8646",
   "metadata": {
    "execution": {
     "iopub.execute_input": "2022-02-13T10:07:13.369347Z",
     "iopub.status.busy": "2022-02-13T10:07:13.368729Z",
     "iopub.status.idle": "2022-02-13T10:07:13.380488Z",
     "shell.execute_reply": "2022-02-13T10:07:13.380911Z"
    },
    "papermill": {
     "duration": 0.045239,
     "end_time": "2022-02-13T10:07:13.381047",
     "exception": false,
     "start_time": "2022-02-13T10:07:13.335808",
     "status": "completed"
    },
    "tags": []
   },
   "outputs": [],
   "source": [
    "%load_ext autoreload\n",
    "%autoreload 2"
   ]
  },
  {
   "cell_type": "code",
   "execution_count": 2,
   "id": "22ef38dc",
   "metadata": {
    "execution": {
     "iopub.execute_input": "2022-02-13T10:07:13.427356Z",
     "iopub.status.busy": "2022-02-13T10:07:13.426730Z",
     "iopub.status.idle": "2022-02-13T10:07:13.996585Z",
     "shell.execute_reply": "2022-02-13T10:07:13.995636Z"
    },
    "papermill": {
     "duration": 0.594694,
     "end_time": "2022-02-13T10:07:13.996813",
     "exception": false,
     "start_time": "2022-02-13T10:07:13.402119",
     "status": "completed"
    },
    "tags": []
   },
   "outputs": [],
   "source": [
    "%matplotlib inline\n",
    "import numpy as np\n",
    "import matplotlib.pyplot as plt\n",
    "import pandas as pd"
   ]
  },
  {
   "cell_type": "markdown",
   "id": "ba036198",
   "metadata": {
    "papermill": {
     "duration": 0.02324,
     "end_time": "2022-02-13T10:07:14.044439",
     "exception": false,
     "start_time": "2022-02-13T10:07:14.021199",
     "status": "completed"
    },
    "tags": []
   },
   "source": [
    "From the command line run `pip install mnist`. This is a library that will help you bring down the mnist dataset. If you run this from a notebook, you need to put  `!pip install mnist` in a cell by itself."
   ]
  },
  {
   "cell_type": "code",
   "execution_count": 3,
   "id": "bb6ad8a1",
   "metadata": {
    "execution": {
     "iopub.execute_input": "2022-02-13T10:07:14.092290Z",
     "iopub.status.busy": "2022-02-13T10:07:14.091861Z",
     "iopub.status.idle": "2022-02-13T10:07:15.939769Z",
     "shell.execute_reply": "2022-02-13T10:07:15.938296Z"
    },
    "papermill": {
     "duration": 1.873752,
     "end_time": "2022-02-13T10:07:15.940000",
     "exception": false,
     "start_time": "2022-02-13T10:07:14.066248",
     "status": "completed"
    },
    "tags": []
   },
   "outputs": [
    {
     "name": "stdout",
     "output_type": "stream",
     "text": [
      "Collecting mnist\r\n"
     ]
    },
    {
     "name": "stdout",
     "output_type": "stream",
     "text": [
      "  Downloading mnist-0.2.2-py2.py3-none-any.whl (3.5 kB)\r\n",
      "Requirement already satisfied: numpy in /opt/hostedtoolcache/Python/3.6.15/x64/lib/python3.6/site-packages (from mnist) (1.19.5)\r\n"
     ]
    },
    {
     "name": "stdout",
     "output_type": "stream",
     "text": [
      "Installing collected packages: mnist\r\n",
      "Successfully installed mnist-0.2.2\r\n"
     ]
    }
   ],
   "source": [
    "!pip install mnist"
   ]
  },
  {
   "cell_type": "markdown",
   "id": "69df9c9a",
   "metadata": {
    "papermill": {
     "duration": 0.025785,
     "end_time": "2022-02-13T10:07:15.996295",
     "exception": false,
     "start_time": "2022-02-13T10:07:15.970510",
     "status": "completed"
    },
    "tags": []
   },
   "source": [
    "## Preparing the Data"
   ]
  },
  {
   "cell_type": "code",
   "execution_count": 4,
   "id": "7f69d806",
   "metadata": {
    "execution": {
     "iopub.execute_input": "2022-02-13T10:07:16.051081Z",
     "iopub.status.busy": "2022-02-13T10:07:16.049655Z",
     "iopub.status.idle": "2022-02-13T10:07:16.068980Z",
     "shell.execute_reply": "2022-02-13T10:07:16.068102Z"
    },
    "papermill": {
     "duration": 0.0477,
     "end_time": "2022-02-13T10:07:16.069156",
     "exception": false,
     "start_time": "2022-02-13T10:07:16.021456",
     "status": "completed"
    },
    "tags": []
   },
   "outputs": [],
   "source": [
    "import mnist"
   ]
  },
  {
   "cell_type": "code",
   "execution_count": 5,
   "id": "a411e44f",
   "metadata": {
    "execution": {
     "iopub.execute_input": "2022-02-13T10:07:16.128438Z",
     "iopub.status.busy": "2022-02-13T10:07:16.127925Z",
     "iopub.status.idle": "2022-02-13T10:07:16.777360Z",
     "shell.execute_reply": "2022-02-13T10:07:16.776223Z"
    },
    "papermill": {
     "duration": 0.67918,
     "end_time": "2022-02-13T10:07:16.777500",
     "exception": false,
     "start_time": "2022-02-13T10:07:16.098320",
     "status": "completed"
    },
    "tags": []
   },
   "outputs": [],
   "source": [
    "train_images = mnist.train_images()\n",
    "train_labels = mnist.train_labels()"
   ]
  },
  {
   "cell_type": "code",
   "execution_count": 6,
   "id": "dceab3a5",
   "metadata": {
    "execution": {
     "iopub.execute_input": "2022-02-13T10:07:16.830226Z",
     "iopub.status.busy": "2022-02-13T10:07:16.829724Z",
     "iopub.status.idle": "2022-02-13T10:07:16.849009Z",
     "shell.execute_reply": "2022-02-13T10:07:16.848205Z"
    },
    "papermill": {
     "duration": 0.046865,
     "end_time": "2022-02-13T10:07:16.849184",
     "exception": false,
     "start_time": "2022-02-13T10:07:16.802319",
     "status": "completed"
    },
    "tags": []
   },
   "outputs": [
    {
     "data": {
      "text/plain": [
       "((60000, 28, 28), (60000,))"
      ]
     },
     "execution_count": 6,
     "metadata": {},
     "output_type": "execute_result"
    }
   ],
   "source": [
    "train_images.shape, train_labels.shape"
   ]
  },
  {
   "cell_type": "code",
   "execution_count": 7,
   "id": "f50dc2bb",
   "metadata": {
    "execution": {
     "iopub.execute_input": "2022-02-13T10:07:16.907875Z",
     "iopub.status.busy": "2022-02-13T10:07:16.907301Z",
     "iopub.status.idle": "2022-02-13T10:07:17.142818Z",
     "shell.execute_reply": "2022-02-13T10:07:17.141602Z"
    },
    "papermill": {
     "duration": 0.264214,
     "end_time": "2022-02-13T10:07:17.143004",
     "exception": false,
     "start_time": "2022-02-13T10:07:16.878790",
     "status": "completed"
    },
    "tags": []
   },
   "outputs": [],
   "source": [
    "test_images = mnist.test_images()\n",
    "test_labels = mnist.test_labels()"
   ]
  },
  {
   "cell_type": "code",
   "execution_count": 8,
   "id": "fc38cf1b",
   "metadata": {
    "execution": {
     "iopub.execute_input": "2022-02-13T10:07:17.202204Z",
     "iopub.status.busy": "2022-02-13T10:07:17.201652Z",
     "iopub.status.idle": "2022-02-13T10:07:17.215843Z",
     "shell.execute_reply": "2022-02-13T10:07:17.215298Z"
    },
    "papermill": {
     "duration": 0.045413,
     "end_time": "2022-02-13T10:07:17.215966",
     "exception": false,
     "start_time": "2022-02-13T10:07:17.170553",
     "status": "completed"
    },
    "tags": []
   },
   "outputs": [
    {
     "data": {
      "text/plain": [
       "((10000, 28, 28), (10000,))"
      ]
     },
     "execution_count": 8,
     "metadata": {},
     "output_type": "execute_result"
    }
   ],
   "source": [
    "test_images.shape, test_labels.shape"
   ]
  },
  {
   "cell_type": "code",
   "execution_count": 9,
   "id": "f9ed8fe0",
   "metadata": {
    "execution": {
     "iopub.execute_input": "2022-02-13T10:07:17.273000Z",
     "iopub.status.busy": "2022-02-13T10:07:17.272011Z",
     "iopub.status.idle": "2022-02-13T10:07:17.431664Z",
     "shell.execute_reply": "2022-02-13T10:07:17.432170Z"
    },
    "papermill": {
     "duration": 0.189361,
     "end_time": "2022-02-13T10:07:17.432324",
     "exception": false,
     "start_time": "2022-02-13T10:07:17.242963",
     "status": "completed"
    },
    "tags": []
   },
   "outputs": [
    {
     "name": "stdout",
     "output_type": "stream",
     "text": [
      "2\n"
     ]
    },
    {
     "data": {
      "text/plain": [
       "<matplotlib.image.AxesImage at 0x7f16baa38588>"
      ]
     },
     "execution_count": 9,
     "metadata": {},
     "output_type": "execute_result"
    },
    {
     "data": {
      "image/png": "[encoded data removed]",
      "text/plain": [
       "<Figure size 432x288 with 1 Axes>"
      ]
     },
     "metadata": {
      "needs_background": "light"
     },
     "output_type": "display_data"
    }
   ],
   "source": [
    "image_index = 7776 # You may select anything up to 60,000\n",
    "print(train_labels[image_index]) \n",
    "plt.imshow(train_images[image_index], cmap='Greys')"
   ]
  },
  {
   "cell_type": "markdown",
   "id": "a8d2388d",
   "metadata": {
    "papermill": {
     "duration": 0.027574,
     "end_time": "2022-02-13T10:07:17.486108",
     "exception": false,
     "start_time": "2022-02-13T10:07:17.458534",
     "status": "completed"
    },
    "tags": []
   },
   "source": [
    "## Filter data to get 3 and 8 out"
   ]
  },
  {
   "cell_type": "code",
   "execution_count": 10,
   "id": "776f7fc7",
   "metadata": {
    "execution": {
     "iopub.execute_input": "2022-02-13T10:07:17.545089Z",
     "iopub.status.busy": "2022-02-13T10:07:17.544485Z",
     "iopub.status.idle": "2022-02-13T10:07:17.564881Z",
     "shell.execute_reply": "2022-02-13T10:07:17.564372Z"
    },
    "papermill": {
     "duration": 0.051512,
     "end_time": "2022-02-13T10:07:17.565001",
     "exception": false,
     "start_time": "2022-02-13T10:07:17.513489",
     "status": "completed"
    },
    "tags": []
   },
   "outputs": [],
   "source": [
    "train_filter = np.where((train_labels == 3 ) | (train_labels == 8))\n",
    "test_filter = np.where((test_labels == 3) | (test_labels == 8))\n",
    "X_train, y_train = train_images[train_filter], train_labels[train_filter]\n",
    "X_test, y_test = test_images[test_filter], test_labels[test_filter]"
   ]
  },
  {
   "cell_type": "markdown",
   "id": "948f0b7e",
   "metadata": {
    "papermill": {
     "duration": 0.025702,
     "end_time": "2022-02-13T10:07:17.617497",
     "exception": false,
     "start_time": "2022-02-13T10:07:17.591795",
     "status": "completed"
    },
    "tags": []
   },
   "source": [
    "We normalize the pizel values in the 0 to 1 range"
   ]
  },
  {
   "cell_type": "code",
   "execution_count": 11,
   "id": "ee4c2166",
   "metadata": {
    "execution": {
     "iopub.execute_input": "2022-02-13T10:07:17.675418Z",
     "iopub.status.busy": "2022-02-13T10:07:17.674764Z",
     "iopub.status.idle": "2022-02-13T10:07:17.729669Z",
     "shell.execute_reply": "2022-02-13T10:07:17.729181Z"
    },
    "papermill": {
     "duration": 0.086161,
     "end_time": "2022-02-13T10:07:17.729799",
     "exception": false,
     "start_time": "2022-02-13T10:07:17.643638",
     "status": "completed"
    },
    "tags": []
   },
   "outputs": [],
   "source": [
    "X_train = X_train/255.\n",
    "X_test = X_test/255."
   ]
  },
  {
   "cell_type": "markdown",
   "id": "ddcf4fab",
   "metadata": {
    "papermill": {
     "duration": 0.028737,
     "end_time": "2022-02-13T10:07:17.787382",
     "exception": false,
     "start_time": "2022-02-13T10:07:17.758645",
     "status": "completed"
    },
    "tags": []
   },
   "source": [
    "And setup the labels as 1 (when the digit is 3) and 0 (when the digit is 8)"
   ]
  },
  {
   "cell_type": "code",
   "execution_count": 12,
   "id": "7dc908f2",
   "metadata": {
    "execution": {
     "iopub.execute_input": "2022-02-13T10:07:17.848400Z",
     "iopub.status.busy": "2022-02-13T10:07:17.847351Z",
     "iopub.status.idle": "2022-02-13T10:07:17.862256Z",
     "shell.execute_reply": "2022-02-13T10:07:17.862739Z"
    },
    "papermill": {
     "duration": 0.047936,
     "end_time": "2022-02-13T10:07:17.862883",
     "exception": false,
     "start_time": "2022-02-13T10:07:17.814947",
     "status": "completed"
    },
    "tags": []
   },
   "outputs": [],
   "source": [
    "y_train = 1*(y_train==3)\n",
    "y_test = 1*(y_test==3)"
   ]
  },
  {
   "cell_type": "code",
   "execution_count": 13,
   "id": "01e4e969",
   "metadata": {
    "execution": {
     "iopub.execute_input": "2022-02-13T10:07:17.925615Z",
     "iopub.status.busy": "2022-02-13T10:07:17.925040Z",
     "iopub.status.idle": "2022-02-13T10:07:17.939773Z",
     "shell.execute_reply": "2022-02-13T10:07:17.939263Z"
    },
    "papermill": {
     "duration": 0.048118,
     "end_time": "2022-02-13T10:07:17.939910",
     "exception": false,
     "start_time": "2022-02-13T10:07:17.891792",
     "status": "completed"
    },
    "tags": []
   },
   "outputs": [
    {
     "data": {
      "text/plain": [
       "((11982, 28, 28), (1984, 28, 28))"
      ]
     },
     "execution_count": 13,
     "metadata": {},
     "output_type": "execute_result"
    }
   ],
   "source": [
    "X_train.shape, X_test.shape"
   ]
  },
  {
   "cell_type": "markdown",
   "id": "5ccf3f85",
   "metadata": {
    "papermill": {
     "duration": 0.028651,
     "end_time": "2022-02-13T10:07:17.997107",
     "exception": false,
     "start_time": "2022-02-13T10:07:17.968456",
     "status": "completed"
    },
    "tags": []
   },
   "source": [
    "We reshape the data to flatten the image pixels into a set of features or co-variates:"
   ]
  },
  {
   "cell_type": "code",
   "execution_count": 14,
   "id": "5286a4a3",
   "metadata": {
    "execution": {
     "iopub.execute_input": "2022-02-13T10:07:18.059402Z",
     "iopub.status.busy": "2022-02-13T10:07:18.058744Z",
     "iopub.status.idle": "2022-02-13T10:07:18.075386Z",
     "shell.execute_reply": "2022-02-13T10:07:18.074887Z"
    },
    "papermill": {
     "duration": 0.049646,
     "end_time": "2022-02-13T10:07:18.075506",
     "exception": false,
     "start_time": "2022-02-13T10:07:18.025860",
     "status": "completed"
    },
    "tags": []
   },
   "outputs": [
    {
     "data": {
      "text/plain": [
       "((11982, 784), (1984, 784))"
      ]
     },
     "execution_count": 14,
     "metadata": {},
     "output_type": "execute_result"
    }
   ],
   "source": [
    "X_train = X_train.reshape(X_train.shape[0], -1)\n",
    "X_test = X_test.reshape(X_test.shape[0], -1)\n",
    "X_train.shape, X_test.shape"
   ]
  },
  {
   "cell_type": "code",
   "execution_count": 15,
   "id": "73c5f88a",
   "metadata": {
    "execution": {
     "iopub.execute_input": "2022-02-13T10:07:18.134170Z",
     "iopub.status.busy": "2022-02-13T10:07:18.133594Z",
     "iopub.status.idle": "2022-02-13T10:07:18.152295Z",
     "shell.execute_reply": "2022-02-13T10:07:18.151902Z"
    },
    "papermill": {
     "duration": 0.050501,
     "end_time": "2022-02-13T10:07:18.152401",
     "exception": false,
     "start_time": "2022-02-13T10:07:18.101900",
     "status": "completed"
    },
    "tags": []
   },
   "outputs": [],
   "source": [
    "#Impoting functions from 'Kudzu'\n",
    "from kudzu.model import Model\n",
    "from kudzu.train import Learner\n",
    "from kudzu.optim import GD\n",
    "from kudzu.data import Data, Sampler,Dataloader\n",
    "\n",
    "from kudzu.callbacks import AccCallback\n",
    "from kudzu.callbacks import ClfCallback\n",
    "\n",
    "from kudzu.loss import MSE\n",
    "\n",
    "from kudzu.layer import Sigmoid,Relu\n",
    "from kudzu.layer import Affine"
   ]
  },
  {
   "cell_type": "markdown",
   "id": "bc01172a",
   "metadata": {
    "papermill": {
     "duration": 0.027108,
     "end_time": "2022-02-13T10:07:18.206125",
     "exception": false,
     "start_time": "2022-02-13T10:07:18.179017",
     "status": "completed"
    },
    "tags": []
   },
   "source": [
    "### Let us create a `Config` class, to store important parameters. \n",
    "This class essentially plays the role of a dictionary."
   ]
  },
  {
   "cell_type": "code",
   "execution_count": 16,
   "id": "978281aa",
   "metadata": {
    "execution": {
     "iopub.execute_input": "2022-02-13T10:07:18.265057Z",
     "iopub.status.busy": "2022-02-13T10:07:18.264437Z",
     "iopub.status.idle": "2022-02-13T10:07:18.280264Z",
     "shell.execute_reply": "2022-02-13T10:07:18.279868Z"
    },
    "papermill": {
     "duration": 0.047189,
     "end_time": "2022-02-13T10:07:18.280373",
     "exception": false,
     "start_time": "2022-02-13T10:07:18.233184",
     "status": "completed"
    },
    "tags": []
   },
   "outputs": [],
   "source": [
    "class Config:\n",
    "    pass\n",
    "config = Config()\n",
    "config.lr = 0.001\n",
    "config.num_epochs = 250\n",
    "config.bs = 50"
   ]
  },
  {
   "cell_type": "markdown",
   "id": "1385fa59",
   "metadata": {
    "papermill": {
     "duration": 0.025879,
     "end_time": "2022-02-13T10:07:18.334477",
     "exception": false,
     "start_time": "2022-02-13T10:07:18.308598",
     "status": "completed"
    },
    "tags": []
   },
   "source": [
    "### Running Models with the Training data\n",
    "Details about the network layers:\n",
    "- A first affine layer has 784 inputs and does 100 affine transforms. These are followed by a Relu\n",
    "- A second affine layer has 100 inputs from the 100 activations of the past layer, and does 100 affine transforms. These are followed by a Relu\n",
    "- A third affine layer has 100 activations and does 2 affine transformations to create an embedding for visualization. There is no non-linearity here.\n",
    "- A final \"logistic regression\" which has an affine transform from 2 inputs to 1 output, which is squeezed through a sigmoid.\n"
   ]
  },
  {
   "cell_type": "code",
   "execution_count": 17,
   "id": "2b9c66db",
   "metadata": {
    "execution": {
     "iopub.execute_input": "2022-02-13T10:07:18.392270Z",
     "iopub.status.busy": "2022-02-13T10:07:18.391771Z",
     "iopub.status.idle": "2022-02-13T10:07:18.406342Z",
     "shell.execute_reply": "2022-02-13T10:07:18.405916Z"
    },
    "papermill": {
     "duration": 0.046407,
     "end_time": "2022-02-13T10:07:18.406446",
     "exception": false,
     "start_time": "2022-02-13T10:07:18.360039",
     "status": "completed"
    },
    "tags": []
   },
   "outputs": [],
   "source": [
    "data = Data(X_train, y_train.reshape(-1,1))\n",
    "sampler = Sampler(data, config.bs, shuffle=True)\n",
    "\n",
    "dl = Dataloader(data, sampler)\n",
    "\n",
    "opt = GD(config.lr)\n",
    "loss = MSE()"
   ]
  },
  {
   "cell_type": "code",
   "execution_count": 18,
   "id": "b275e4c2",
   "metadata": {
    "execution": {
     "iopub.execute_input": "2022-02-13T10:07:18.468160Z",
     "iopub.status.busy": "2022-02-13T10:07:18.466575Z",
     "iopub.status.idle": "2022-02-13T10:07:18.479352Z",
     "shell.execute_reply": "2022-02-13T10:07:18.478840Z"
    },
    "papermill": {
     "duration": 0.045699,
     "end_time": "2022-02-13T10:07:18.479483",
     "exception": false,
     "start_time": "2022-02-13T10:07:18.433784",
     "status": "completed"
    },
    "tags": []
   },
   "outputs": [],
   "source": [
    "training_data_x = X_train\n",
    "testing_data_x = X_test\n",
    "training_data_y = y_train.reshape(-1,1)\n",
    "testing_data_y = y_test.reshape(-1,1)"
   ]
  },
  {
   "cell_type": "code",
   "execution_count": 19,
   "id": "76951160",
   "metadata": {
    "execution": {
     "iopub.execute_input": "2022-02-13T10:07:18.539888Z",
     "iopub.status.busy": "2022-02-13T10:07:18.539214Z",
     "iopub.status.idle": "2022-02-13T10:07:18.554878Z",
     "shell.execute_reply": "2022-02-13T10:07:18.554536Z"
    },
    "papermill": {
     "duration": 0.04527,
     "end_time": "2022-02-13T10:07:18.554971",
     "exception": false,
     "start_time": "2022-02-13T10:07:18.509701",
     "status": "completed"
    },
    "tags": []
   },
   "outputs": [
    {
     "name": "stdout",
     "output_type": "stream",
     "text": [
      "xavier\n",
      "xavier\n",
      "xavier\n",
      "xavier\n",
      "xavier\n"
     ]
    }
   ],
   "source": [
    "layers = [Affine(\"first\", 784, 100), Relu(\"first\"), Affine(\"second\", 100, 100), Relu(\"second\"), Affine(\"third\", 100, 2), Affine(\"last\", 2, 1), Sigmoid(\"last\")]\n",
    "model_nn = Model(layers)\n",
    "model_lr = Model([Affine(\"logits\", 784, 1), Sigmoid(\"sigmoid\")])"
   ]
  },
  {
   "cell_type": "code",
   "execution_count": 20,
   "id": "6eede77a",
   "metadata": {
    "execution": {
     "iopub.execute_input": "2022-02-13T10:07:18.611657Z",
     "iopub.status.busy": "2022-02-13T10:07:18.611047Z",
     "iopub.status.idle": "2022-02-13T10:07:18.623610Z",
     "shell.execute_reply": "2022-02-13T10:07:18.623191Z"
    },
    "papermill": {
     "duration": 0.044077,
     "end_time": "2022-02-13T10:07:18.623704",
     "exception": false,
     "start_time": "2022-02-13T10:07:18.579627",
     "status": "completed"
    },
    "tags": []
   },
   "outputs": [],
   "source": [
    "nn_learner = Learner(loss, model_nn, opt, config.num_epochs)\n",
    "acc_nn = ClfCallback(nn_learner, config.bs, training_data_x , testing_data_x, training_data_y, testing_data_y)\n",
    "nn_learner.set_callbacks([acc_nn])"
   ]
  },
  {
   "cell_type": "code",
   "execution_count": 21,
   "id": "877b6cc7",
   "metadata": {
    "execution": {
     "iopub.execute_input": "2022-02-13T10:07:18.676176Z",
     "iopub.status.busy": "2022-02-13T10:07:18.675762Z",
     "iopub.status.idle": "2022-02-13T10:07:18.688835Z",
     "shell.execute_reply": "2022-02-13T10:07:18.689201Z"
    },
    "papermill": {
     "duration": 0.041544,
     "end_time": "2022-02-13T10:07:18.689312",
     "exception": false,
     "start_time": "2022-02-13T10:07:18.647768",
     "status": "completed"
    },
    "tags": []
   },
   "outputs": [],
   "source": [
    "lr_learner = Learner(loss, model_lr, opt, config.num_epochs)\n",
    "acc_lr = ClfCallback(lr_learner, config.bs, training_data_x , testing_data_x, training_data_y, testing_data_y)\n",
    "lr_learner.set_callbacks([acc_lr])"
   ]
  },
  {
   "cell_type": "code",
   "execution_count": 22,
   "id": "d9b133c3",
   "metadata": {
    "execution": {
     "iopub.execute_input": "2022-02-13T10:07:18.745090Z",
     "iopub.status.busy": "2022-02-13T10:07:18.744669Z",
     "iopub.status.idle": "2022-02-13T10:08:40.081126Z",
     "shell.execute_reply": "2022-02-13T10:08:40.082050Z"
    },
    "papermill": {
     "duration": 81.36731,
     "end_time": "2022-02-13T10:08:40.082219",
     "exception": false,
     "start_time": "2022-02-13T10:07:18.714909",
     "status": "completed"
    },
    "tags": []
   },
   "outputs": [
    {
     "name": "stdout",
     "output_type": "stream",
     "text": [
      "Epoch 0, Loss 0.2467\n",
      "Training Accuracy: 0.6541, Testing Accuracy: 0.6613\n",
      "\n"
     ]
    },
    {
     "name": "stdout",
     "output_type": "stream",
     "text": [
      "Epoch 10, Loss 0.212\n",
      "Training Accuracy: 0.8312, Testing Accuracy: 0.8548\n",
      "\n"
     ]
    },
    {
     "name": "stdout",
     "output_type": "stream",
     "text": [
      "Epoch 20, Loss 0.1183\n",
      "Training Accuracy: 0.8932, Testing Accuracy: 0.9047\n",
      "\n"
     ]
    },
    {
     "name": "stdout",
     "output_type": "stream",
     "text": [
      "Epoch 30, Loss 0.0697\n",
      "Training Accuracy: 0.9274, Testing Accuracy: 0.9355\n",
      "\n"
     ]
    },
    {
     "name": "stdout",
     "output_type": "stream",
     "text": [
      "Epoch 40, Loss 0.0516\n",
      "Training Accuracy: 0.9443, Testing Accuracy: 0.9541\n",
      "\n"
     ]
    },
    {
     "name": "stdout",
     "output_type": "stream",
     "text": [
      "Epoch 50, Loss 0.043\n",
      "Training Accuracy: 0.9516, Testing Accuracy: 0.9647\n",
      "\n"
     ]
    },
    {
     "name": "stdout",
     "output_type": "stream",
     "text": [
      "Epoch 60, Loss 0.038\n",
      "Training Accuracy: 0.9564, Testing Accuracy: 0.9677\n",
      "\n"
     ]
    },
    {
     "name": "stdout",
     "output_type": "stream",
     "text": [
      "Epoch 70, Loss 0.0348\n",
      "Training Accuracy: 0.9596, Testing Accuracy: 0.9693\n",
      "\n"
     ]
    },
    {
     "name": "stdout",
     "output_type": "stream",
     "text": [
      "Epoch 80, Loss 0.0325\n",
      "Training Accuracy: 0.9626, Testing Accuracy: 0.9693\n",
      "\n"
     ]
    },
    {
     "name": "stdout",
     "output_type": "stream",
     "text": [
      "Epoch 90, Loss 0.0308\n",
      "Training Accuracy: 0.9639, Testing Accuracy: 0.9708\n",
      "\n"
     ]
    },
    {
     "name": "stdout",
     "output_type": "stream",
     "text": [
      "Epoch 100, Loss 0.0294\n",
      "Training Accuracy: 0.9659, Testing Accuracy: 0.9703\n",
      "\n"
     ]
    },
    {
     "name": "stdout",
     "output_type": "stream",
     "text": [
      "Epoch 110, Loss 0.0282\n",
      "Training Accuracy: 0.9672, Testing Accuracy: 0.9703\n",
      "\n"
     ]
    },
    {
     "name": "stdout",
     "output_type": "stream",
     "text": [
      "Epoch 120, Loss 0.0272\n",
      "Training Accuracy: 0.9685, Testing Accuracy: 0.9688\n",
      "\n"
     ]
    },
    {
     "name": "stdout",
     "output_type": "stream",
     "text": [
      "Epoch 130, Loss 0.0264\n",
      "Training Accuracy: 0.9690, Testing Accuracy: 0.9693\n",
      "\n"
     ]
    },
    {
     "name": "stdout",
     "output_type": "stream",
     "text": [
      "Epoch 140, Loss 0.0256\n",
      "Training Accuracy: 0.9695, Testing Accuracy: 0.9708\n",
      "\n"
     ]
    },
    {
     "name": "stdout",
     "output_type": "stream",
     "text": [
      "Epoch 150, Loss 0.0249\n",
      "Training Accuracy: 0.9703, Testing Accuracy: 0.9703\n",
      "\n"
     ]
    },
    {
     "name": "stdout",
     "output_type": "stream",
     "text": [
      "Epoch 160, Loss 0.0243\n",
      "Training Accuracy: 0.9712, Testing Accuracy: 0.9713\n",
      "\n"
     ]
    },
    {
     "name": "stdout",
     "output_type": "stream",
     "text": [
      "Epoch 170, Loss 0.0237\n",
      "Training Accuracy: 0.9720, Testing Accuracy: 0.9718\n",
      "\n"
     ]
    },
    {
     "name": "stdout",
     "output_type": "stream",
     "text": [
      "Epoch 180, Loss 0.0232\n",
      "Training Accuracy: 0.9725, Testing Accuracy: 0.9723\n",
      "\n"
     ]
    },
    {
     "name": "stdout",
     "output_type": "stream",
     "text": [
      "Epoch 190, Loss 0.0227\n",
      "Training Accuracy: 0.9734, Testing Accuracy: 0.9718\n",
      "\n"
     ]
    },
    {
     "name": "stdout",
     "output_type": "stream",
     "text": [
      "Epoch 200, Loss 0.0222\n",
      "Training Accuracy: 0.9744, Testing Accuracy: 0.9718\n",
      "\n"
     ]
    },
    {
     "name": "stdout",
     "output_type": "stream",
     "text": [
      "Epoch 210, Loss 0.0218\n",
      "Training Accuracy: 0.9754, Testing Accuracy: 0.9718\n",
      "\n"
     ]
    },
    {
     "name": "stdout",
     "output_type": "stream",
     "text": [
      "Epoch 220, Loss 0.0214\n",
      "Training Accuracy: 0.9755, Testing Accuracy: 0.9723\n",
      "\n"
     ]
    },
    {
     "name": "stdout",
     "output_type": "stream",
     "text": [
      "Epoch 230, Loss 0.021\n",
      "Training Accuracy: 0.9765, Testing Accuracy: 0.9718\n",
      "\n"
     ]
    },
    {
     "name": "stdout",
     "output_type": "stream",
     "text": [
      "Epoch 240, Loss 0.0206\n",
      "Training Accuracy: 0.9770, Testing Accuracy: 0.9728\n",
      "\n"
     ]
    },
    {
     "data": {
      "text/plain": [
       "0.0021229367045080163"
      ]
     },
     "execution_count": 22,
     "metadata": {},
     "output_type": "execute_result"
    }
   ],
   "source": [
    "nn_learner.train_loop(dl)"
   ]
  },
  {
   "cell_type": "code",
   "execution_count": 23,
   "id": "e0163366",
   "metadata": {
    "execution": {
     "iopub.execute_input": "2022-02-13T10:08:40.165359Z",
     "iopub.status.busy": "2022-02-13T10:08:40.164735Z",
     "iopub.status.idle": "2022-02-13T10:08:53.977275Z",
     "shell.execute_reply": "2022-02-13T10:08:53.978092Z"
    },
    "papermill": {
     "duration": 13.858149,
     "end_time": "2022-02-13T10:08:53.978256",
     "exception": false,
     "start_time": "2022-02-13T10:08:40.120107",
     "status": "completed"
    },
    "tags": []
   },
   "outputs": [
    {
     "name": "stdout",
     "output_type": "stream",
     "text": [
      "Epoch 0, Loss 0.2505\n",
      "Training Accuracy: 0.6453, Testing Accuracy: 0.6678\n",
      "\n"
     ]
    },
    {
     "name": "stdout",
     "output_type": "stream",
     "text": [
      "Epoch 10, Loss 0.1046\n",
      "Training Accuracy: 0.9066, Testing Accuracy: 0.9194\n",
      "\n"
     ]
    },
    {
     "name": "stdout",
     "output_type": "stream",
     "text": [
      "Epoch 20, Loss 0.08\n",
      "Training Accuracy: 0.9286, Testing Accuracy: 0.9370\n",
      "\n"
     ]
    },
    {
     "name": "stdout",
     "output_type": "stream",
     "text": [
      "Epoch 30, Loss 0.0687\n",
      "Training Accuracy: 0.9366, Testing Accuracy: 0.9466\n",
      "\n"
     ]
    },
    {
     "name": "stdout",
     "output_type": "stream",
     "text": [
      "Epoch 40, Loss 0.0619\n",
      "Training Accuracy: 0.9422, Testing Accuracy: 0.9516\n",
      "\n"
     ]
    },
    {
     "name": "stdout",
     "output_type": "stream",
     "text": [
      "Epoch 50, Loss 0.0573\n",
      "Training Accuracy: 0.9454, Testing Accuracy: 0.9526\n",
      "\n"
     ]
    },
    {
     "name": "stdout",
     "output_type": "stream",
     "text": [
      "Epoch 60, Loss 0.0539\n",
      "Training Accuracy: 0.9481, Testing Accuracy: 0.9577\n",
      "\n"
     ]
    },
    {
     "name": "stdout",
     "output_type": "stream",
     "text": [
      "Epoch 70, Loss 0.0514\n",
      "Training Accuracy: 0.9493, Testing Accuracy: 0.9592\n",
      "\n"
     ]
    },
    {
     "name": "stdout",
     "output_type": "stream",
     "text": [
      "Epoch 80, Loss 0.0493\n",
      "Training Accuracy: 0.9511, Testing Accuracy: 0.9602\n",
      "\n"
     ]
    },
    {
     "name": "stdout",
     "output_type": "stream",
     "text": [
      "Epoch 90, Loss 0.0476\n",
      "Training Accuracy: 0.9523, Testing Accuracy: 0.9622\n",
      "\n"
     ]
    },
    {
     "name": "stdout",
     "output_type": "stream",
     "text": [
      "Epoch 100, Loss 0.0461\n",
      "Training Accuracy: 0.9534, Testing Accuracy: 0.9627\n",
      "\n"
     ]
    },
    {
     "name": "stdout",
     "output_type": "stream",
     "text": [
      "Epoch 110, Loss 0.0449\n",
      "Training Accuracy: 0.9543, Testing Accuracy: 0.9632\n",
      "\n"
     ]
    },
    {
     "name": "stdout",
     "output_type": "stream",
     "text": [
      "Epoch 120, Loss 0.0439\n",
      "Training Accuracy: 0.9553, Testing Accuracy: 0.9642\n",
      "\n"
     ]
    },
    {
     "name": "stdout",
     "output_type": "stream",
     "text": [
      "Epoch 130, Loss 0.0429\n",
      "Training Accuracy: 0.9556, Testing Accuracy: 0.9637\n",
      "\n"
     ]
    },
    {
     "name": "stdout",
     "output_type": "stream",
     "text": [
      "Epoch 140, Loss 0.0421\n",
      "Training Accuracy: 0.9559, Testing Accuracy: 0.9637\n",
      "\n"
     ]
    },
    {
     "name": "stdout",
     "output_type": "stream",
     "text": [
      "Epoch 150, Loss 0.0414\n",
      "Training Accuracy: 0.9567, Testing Accuracy: 0.9637\n",
      "\n"
     ]
    },
    {
     "name": "stdout",
     "output_type": "stream",
     "text": [
      "Epoch 160, Loss 0.0407\n",
      "Training Accuracy: 0.9570, Testing Accuracy: 0.9642\n",
      "\n"
     ]
    },
    {
     "name": "stdout",
     "output_type": "stream",
     "text": [
      "Epoch 170, Loss 0.0401\n",
      "Training Accuracy: 0.9573, Testing Accuracy: 0.9642\n",
      "\n"
     ]
    },
    {
     "name": "stdout",
     "output_type": "stream",
     "text": [
      "Epoch 180, Loss 0.0395\n",
      "Training Accuracy: 0.9576, Testing Accuracy: 0.9642\n",
      "\n"
     ]
    },
    {
     "name": "stdout",
     "output_type": "stream",
     "text": [
      "Epoch 190, Loss 0.039\n",
      "Training Accuracy: 0.9581, Testing Accuracy: 0.9647\n",
      "\n"
     ]
    },
    {
     "name": "stdout",
     "output_type": "stream",
     "text": [
      "Epoch 200, Loss 0.0385\n",
      "Training Accuracy: 0.9585, Testing Accuracy: 0.9647\n",
      "\n"
     ]
    },
    {
     "name": "stdout",
     "output_type": "stream",
     "text": [
      "Epoch 210, Loss 0.0381\n",
      "Training Accuracy: 0.9592, Testing Accuracy: 0.9652\n",
      "\n"
     ]
    },
    {
     "name": "stdout",
     "output_type": "stream",
     "text": [
      "Epoch 220, Loss 0.0377\n",
      "Training Accuracy: 0.9594, Testing Accuracy: 0.9652\n",
      "\n"
     ]
    },
    {
     "name": "stdout",
     "output_type": "stream",
     "text": [
      "Epoch 230, Loss 0.0373\n",
      "Training Accuracy: 0.9597, Testing Accuracy: 0.9652\n",
      "\n"
     ]
    },
    {
     "name": "stdout",
     "output_type": "stream",
     "text": [
      "Epoch 240, Loss 0.0369\n",
      "Training Accuracy: 0.9600, Testing Accuracy: 0.9652\n",
      "\n"
     ]
    },
    {
     "data": {
      "text/plain": [
       "0.04099700761892814"
      ]
     },
     "execution_count": 23,
     "metadata": {},
     "output_type": "execute_result"
    }
   ],
   "source": [
    "lr_learner.train_loop(dl)"
   ]
  },
  {
   "cell_type": "code",
   "execution_count": 24,
   "id": "ca410940",
   "metadata": {
    "execution": {
     "iopub.execute_input": "2022-02-13T10:08:54.076627Z",
     "iopub.status.busy": "2022-02-13T10:08:54.076059Z",
     "iopub.status.idle": "2022-02-13T10:08:54.311583Z",
     "shell.execute_reply": "2022-02-13T10:08:54.310672Z"
    },
    "papermill": {
     "duration": 0.290432,
     "end_time": "2022-02-13T10:08:54.311705",
     "exception": false,
     "start_time": "2022-02-13T10:08:54.021273",
     "status": "completed"
    },
    "tags": []
   },
   "outputs": [
    {
     "data": {
      "text/plain": [
       "<matplotlib.legend.Legend at 0x7f16ba614cf8>"
      ]
     },
     "execution_count": 24,
     "metadata": {},
     "output_type": "execute_result"
    },
    {
     "data": {
      "image/png": "[encoded data removed]",
      "text/plain": [
       "<Figure size 1080x720 with 1 Axes>"
      ]
     },
     "metadata": {
      "needs_background": "light"
     },
     "output_type": "display_data"
    }
   ],
   "source": [
    "#comparing the results of NN and LR\n",
    "plt.figure(figsize=(15,10))\n",
    "\n",
    "# Neural Network plots\n",
    "plt.plot(acc_nn.accuracies, 'r-', label = \"Training Accuracies - NN\")\n",
    "plt.plot(acc_nn.test_accuracies, 'g-', label = \"Testing Accuracies - NN\")\n",
    "\n",
    "# Logistic Regression plots\n",
    "plt.plot(acc_lr.accuracies, 'k-', label = \"Training Accuracies - LR\")\n",
    "plt.plot(acc_lr.test_accuracies, 'b-', label = \"Testing Accuracies - LR\")\n",
    "plt.legend()"
   ]
  },
  {
   "cell_type": "markdown",
   "id": "80dfb35c",
   "metadata": {
    "papermill": {
     "duration": 0.04157,
     "end_time": "2022-02-13T10:08:54.396439",
     "exception": false,
     "start_time": "2022-02-13T10:08:54.354869",
     "status": "completed"
    },
    "tags": []
   },
   "source": [
    "#### Plotting the outputs of this layer of the NN.\n"
   ]
  },
  {
   "cell_type": "code",
   "execution_count": 25,
   "id": "45eb2ff5",
   "metadata": {
    "execution": {
     "iopub.execute_input": "2022-02-13T10:08:54.481657Z",
     "iopub.status.busy": "2022-02-13T10:08:54.481141Z",
     "iopub.status.idle": "2022-02-13T10:08:54.501807Z",
     "shell.execute_reply": "2022-02-13T10:08:54.502260Z"
    },
    "papermill": {
     "duration": 0.065283,
     "end_time": "2022-02-13T10:08:54.502401",
     "exception": false,
     "start_time": "2022-02-13T10:08:54.437118",
     "status": "completed"
    },
    "tags": []
   },
   "outputs": [],
   "source": [
    "new_model = Model(layers[:-2])\n",
    "testing_plot = new_model(testing_data_x)"
   ]
  },
  {
   "cell_type": "code",
   "execution_count": 26,
   "id": "4c0a5485",
   "metadata": {
    "execution": {
     "iopub.execute_input": "2022-02-13T10:08:54.601228Z",
     "iopub.status.busy": "2022-02-13T10:08:54.600230Z",
     "iopub.status.idle": "2022-02-13T10:08:54.798148Z",
     "shell.execute_reply": "2022-02-13T10:08:54.798529Z"
    },
    "papermill": {
     "duration": 0.253122,
     "end_time": "2022-02-13T10:08:54.798664",
     "exception": false,
     "start_time": "2022-02-13T10:08:54.545542",
     "status": "completed"
    },
    "tags": []
   },
   "outputs": [
    {
     "data": {
      "text/plain": [
       "Text(0.5, 1.0, 'Outputs')"
      ]
     },
     "execution_count": 26,
     "metadata": {},
     "output_type": "execute_result"
    },
    {
     "data": {
      "image/png": "[encoded data removed]",
      "text/plain": [
       "<Figure size 576x504 with 1 Axes>"
      ]
     },
     "metadata": {
      "needs_background": "light"
     },
     "output_type": "display_data"
    }
   ],
   "source": [
    "# Plotting the scatter plot of points and color coding by class\n",
    "plt.figure(figsize=(8,7))\n",
    "plt.scatter(testing_plot[:,0], testing_plot[:,1], alpha = 0.1, c = y_test.ravel());\n",
    "plt.title('Outputs')"
   ]
  },
  {
   "cell_type": "markdown",
   "id": "a74fcf8f",
   "metadata": {
    "papermill": {
     "duration": 0.043155,
     "end_time": "2022-02-13T10:08:54.884778",
     "exception": false,
     "start_time": "2022-02-13T10:08:54.841623",
     "status": "completed"
    },
    "tags": []
   },
   "source": [
    "Probability contours"
   ]
  },
  {
   "cell_type": "code",
   "execution_count": 27,
   "id": "d0afc8e3",
   "metadata": {
    "execution": {
     "iopub.execute_input": "2022-02-13T10:08:54.980077Z",
     "iopub.status.busy": "2022-02-13T10:08:54.979507Z",
     "iopub.status.idle": "2022-02-13T10:08:54.991295Z",
     "shell.execute_reply": "2022-02-13T10:08:54.990879Z"
    },
    "papermill": {
     "duration": 0.062855,
     "end_time": "2022-02-13T10:08:54.991418",
     "exception": false,
     "start_time": "2022-02-13T10:08:54.928563",
     "status": "completed"
    },
    "tags": []
   },
   "outputs": [],
   "source": [
    "model_prob = Model(layers[-2:]) "
   ]
  },
  {
   "cell_type": "code",
   "execution_count": 28,
   "id": "9b96e238",
   "metadata": {
    "execution": {
     "iopub.execute_input": "2022-02-13T10:08:55.085908Z",
     "iopub.status.busy": "2022-02-13T10:08:55.085352Z",
     "iopub.status.idle": "2022-02-13T10:08:55.100084Z",
     "shell.execute_reply": "2022-02-13T10:08:55.100568Z"
    },
    "papermill": {
     "duration": 0.064272,
     "end_time": "2022-02-13T10:08:55.100703",
     "exception": false,
     "start_time": "2022-02-13T10:08:55.036431",
     "status": "completed"
    },
    "tags": []
   },
   "outputs": [],
   "source": [
    "#creating the x and y ranges according to the above generated plot.\n",
    "x_range = np.linspace(-4, 1, 100) \n",
    "y_range = np.linspace(-6, 6, 100) \n",
    "x_grid, y_grid = np.meshgrid(x_range, y_range) # x_grid and y_grig are of size 100 X 100\n",
    "\n",
    "# converting x_grid and y_grid to continuous arrays\n",
    "x_gridflat = np.ravel(x_grid)\n",
    "y_gridflat = np.ravel(y_grid)\n",
    "\n",
    "# The last layer of the current model takes two columns as input. Hence transpose of np.vstack() is required.\n",
    "X = np.vstack((x_gridflat, y_gridflat)).T\n",
    "\n",
    "prob_contour = model_prob(X).reshape(100,100) "
   ]
  },
  {
   "cell_type": "code",
   "execution_count": 29,
   "id": "da72499a",
   "metadata": {
    "execution": {
     "iopub.execute_input": "2022-02-13T10:08:55.231264Z",
     "iopub.status.busy": "2022-02-13T10:08:55.230664Z",
     "iopub.status.idle": "2022-02-13T10:08:55.506566Z",
     "shell.execute_reply": "2022-02-13T10:08:55.507084Z"
    },
    "papermill": {
     "duration": 0.358489,
     "end_time": "2022-02-13T10:08:55.507239",
     "exception": false,
     "start_time": "2022-02-13T10:08:55.148750",
     "status": "completed"
    },
    "tags": []
   },
   "outputs": [
    {
     "data": {
      "image/png": "[encoded data removed]",
      "text/plain": [
       "<Figure size 720x648 with 1 Axes>"
      ]
     },
     "metadata": {
      "needs_background": "light"
     },
     "output_type": "display_data"
    }
   ],
   "source": [
    "plt.figure(figsize=(10,9))\n",
    "plt.scatter(testing_plot[:,0], testing_plot[:,1], alpha = 0.1, c = y_test.ravel())\n",
    "contours = plt.contour(x_grid,y_grid,prob_contour)\n",
    "plt.title('Probability Contours')\n",
    "plt.clabel(contours, inline = True );"
   ]
  },
  {
   "cell_type": "code",
   "execution_count": null,
   "id": "e81b4ac7",
   "metadata": {
    "papermill": {
     "duration": 0.046172,
     "end_time": "2022-02-13T10:08:55.600921",
     "exception": false,
     "start_time": "2022-02-13T10:08:55.554749",
     "status": "completed"
    },
    "tags": []
   },
   "outputs": [],
   "source": []
  }
 ],
 "metadata": {
  "kernelspec": {
   "display_name": "Python 3",
   "language": "python",
   "name": "python3"
  },
  "language_info": {
   "codemirror_mode": {
    "name": "ipython",
    "version": 3
   },
   "file_extension": ".py",
   "mimetype": "text/x-python",
   "name": "python",
   "nbconvert_exporter": "python",
   "pygments_lexer": "ipython3",
   "version": "3.6.15"
  },
  "papermill": {
   "default_parameters": {},
   "duration": 103.764768,
   "end_time": "2022-02-13T10:08:56.071085",
   "environment_variables": {},
   "exception": null,
   "input_path": "2020-08-11-part2.ipynb",
   "output_path": "2020-08-11-part2.ipynb",
   "parameters": {},
   "start_time": "2022-02-13T10:07:12.306317",
   "version": "2.3.3"
  }
 },
 "nbformat": 4,
 "nbformat_minor": 5
}