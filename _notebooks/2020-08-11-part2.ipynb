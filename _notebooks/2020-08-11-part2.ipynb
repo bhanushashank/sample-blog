{
 "cells": [
  {
   "cell_type": "markdown",
   "id": "98380cd3",
   "metadata": {
    "papermill": {
     "duration": 0.028835,
     "end_time": "2022-07-26T20:09:44.522040",
     "exception": false,
     "start_time": "2022-07-26T20:09:44.493205",
     "status": "completed"
    },
    "tags": []
   },
   "source": [
    "# Distinguish Your Own Digits (DYOD)"
   ]
  },
  {
   "cell_type": "markdown",
   "id": "ef31240d",
   "metadata": {
    "papermill": {
     "duration": 0.023963,
     "end_time": "2022-07-26T20:09:44.570606",
     "exception": false,
     "start_time": "2022-07-26T20:09:44.546643",
     "status": "completed"
    },
    "tags": []
   },
   "source": [
    "You are going to write a classifier that distinguishes between the number 3 and number 8."
   ]
  },
  {
   "cell_type": "code",
   "execution_count": 1,
   "id": "b15c8646",
   "metadata": {
    "execution": {
     "iopub.execute_input": "2022-07-26T20:09:44.628264Z",
     "iopub.status.busy": "2022-07-26T20:09:44.627598Z",
     "iopub.status.idle": "2022-07-26T20:09:44.638022Z",
     "shell.execute_reply": "2022-07-26T20:09:44.638507Z"
    },
    "papermill": {
     "duration": 0.044357,
     "end_time": "2022-07-26T20:09:44.638660",
     "exception": false,
     "start_time": "2022-07-26T20:09:44.594303",
     "status": "completed"
    },
    "tags": []
   },
   "outputs": [],
   "source": [
    "%load_ext autoreload\n",
    "%autoreload 2"
   ]
  },
  {
   "cell_type": "code",
   "execution_count": 2,
   "id": "22ef38dc",
   "metadata": {
    "execution": {
     "iopub.execute_input": "2022-07-26T20:09:44.690629Z",
     "iopub.status.busy": "2022-07-26T20:09:44.690033Z",
     "iopub.status.idle": "2022-07-26T20:09:45.204649Z",
     "shell.execute_reply": "2022-07-26T20:09:45.203579Z"
    },
    "papermill": {
     "duration": 0.542147,
     "end_time": "2022-07-26T20:09:45.204772",
     "exception": false,
     "start_time": "2022-07-26T20:09:44.662625",
     "status": "completed"
    },
    "tags": []
   },
   "outputs": [],
   "source": [
    "%matplotlib inline\n",
    "import numpy as np\n",
    "import matplotlib.pyplot as plt\n",
    "import pandas as pd"
   ]
  },
  {
   "cell_type": "markdown",
   "id": "ba036198",
   "metadata": {
    "papermill": {
     "duration": 0.0239,
     "end_time": "2022-07-26T20:09:45.252602",
     "exception": false,
     "start_time": "2022-07-26T20:09:45.228702",
     "status": "completed"
    },
    "tags": []
   },
   "source": [
    "From the command line run `pip install mnist`. This is a library that will help you bring down the mnist dataset. If you run this from a notebook, you need to put  `!pip install mnist` in a cell by itself."
   ]
  },
  {
   "cell_type": "code",
   "execution_count": 3,
   "id": "bb6ad8a1",
   "metadata": {
    "execution": {
     "iopub.execute_input": "2022-07-26T20:09:45.304460Z",
     "iopub.status.busy": "2022-07-26T20:09:45.303881Z",
     "iopub.status.idle": "2022-07-26T20:09:46.894389Z",
     "shell.execute_reply": "2022-07-26T20:09:46.893876Z"
    },
    "papermill": {
     "duration": 1.618075,
     "end_time": "2022-07-26T20:09:46.894503",
     "exception": false,
     "start_time": "2022-07-26T20:09:45.276428",
     "status": "completed"
    },
    "tags": []
   },
   "outputs": [
    {
     "name": "stdout",
     "output_type": "stream",
     "text": [
      "Collecting mnist\r\n"
     ]
    },
    {
     "name": "stdout",
     "output_type": "stream",
     "text": [
      "  Downloading mnist-0.2.2-py2.py3-none-any.whl (3.5 kB)\r\n",
      "Requirement already satisfied: numpy in /opt/hostedtoolcache/Python/3.6.15/x64/lib/python3.6/site-packages (from mnist) (1.19.5)\r\n"
     ]
    },
    {
     "name": "stdout",
     "output_type": "stream",
     "text": [
      "Installing collected packages: mnist\r\n",
      "Successfully installed mnist-0.2.2\r\n"
     ]
    }
   ],
   "source": [
    "!pip install mnist"
   ]
  },
  {
   "cell_type": "markdown",
   "id": "69df9c9a",
   "metadata": {
    "papermill": {
     "duration": 0.024569,
     "end_time": "2022-07-26T20:09:46.943835",
     "exception": false,
     "start_time": "2022-07-26T20:09:46.919266",
     "status": "completed"
    },
    "tags": []
   },
   "source": [
    "## Preparing the Data"
   ]
  },
  {
   "cell_type": "code",
   "execution_count": 4,
   "id": "7f69d806",
   "metadata": {
    "execution": {
     "iopub.execute_input": "2022-07-26T20:09:46.996588Z",
     "iopub.status.busy": "2022-07-26T20:09:46.996038Z",
     "iopub.status.idle": "2022-07-26T20:09:47.010335Z",
     "shell.execute_reply": "2022-07-26T20:09:47.009876Z"
    },
    "papermill": {
     "duration": 0.042074,
     "end_time": "2022-07-26T20:09:47.010456",
     "exception": false,
     "start_time": "2022-07-26T20:09:46.968382",
     "status": "completed"
    },
    "tags": []
   },
   "outputs": [],
   "source": [
    "import mnist"
   ]
  },
  {
   "cell_type": "code",
   "execution_count": 5,
   "id": "a411e44f",
   "metadata": {
    "execution": {
     "iopub.execute_input": "2022-07-26T20:09:47.062982Z",
     "iopub.status.busy": "2022-07-26T20:09:47.062423Z",
     "iopub.status.idle": "2022-07-26T20:09:47.632057Z",
     "shell.execute_reply": "2022-07-26T20:09:47.632498Z"
    },
    "papermill": {
     "duration": 0.597649,
     "end_time": "2022-07-26T20:09:47.632635",
     "exception": false,
     "start_time": "2022-07-26T20:09:47.034986",
     "status": "completed"
    },
    "tags": []
   },
   "outputs": [],
   "source": [
    "train_images = mnist.train_images()\n",
    "train_labels = mnist.train_labels()"
   ]
  },
  {
   "cell_type": "code",
   "execution_count": 6,
   "id": "dceab3a5",
   "metadata": {
    "execution": {
     "iopub.execute_input": "2022-07-26T20:09:47.685870Z",
     "iopub.status.busy": "2022-07-26T20:09:47.685322Z",
     "iopub.status.idle": "2022-07-26T20:09:47.700109Z",
     "shell.execute_reply": "2022-07-26T20:09:47.699646Z"
    },
    "papermill": {
     "duration": 0.04278,
     "end_time": "2022-07-26T20:09:47.700217",
     "exception": false,
     "start_time": "2022-07-26T20:09:47.657437",
     "status": "completed"
    },
    "tags": []
   },
   "outputs": [
    {
     "data": {
      "text/plain": [
       "((60000, 28, 28), (60000,))"
      ]
     },
     "execution_count": 6,
     "metadata": {},
     "output_type": "execute_result"
    }
   ],
   "source": [
    "train_images.shape, train_labels.shape"
   ]
  },
  {
   "cell_type": "code",
   "execution_count": 7,
   "id": "f50dc2bb",
   "metadata": {
    "execution": {
     "iopub.execute_input": "2022-07-26T20:09:47.753389Z",
     "iopub.status.busy": "2022-07-26T20:09:47.752833Z",
     "iopub.status.idle": "2022-07-26T20:09:47.922696Z",
     "shell.execute_reply": "2022-07-26T20:09:47.922180Z"
    },
    "papermill": {
     "duration": 0.197753,
     "end_time": "2022-07-26T20:09:47.922818",
     "exception": false,
     "start_time": "2022-07-26T20:09:47.725065",
     "status": "completed"
    },
    "tags": []
   },
   "outputs": [],
   "source": [
    "test_images = mnist.test_images()\n",
    "test_labels = mnist.test_labels()"
   ]
  },
  {
   "cell_type": "code",
   "execution_count": 8,
   "id": "fc38cf1b",
   "metadata": {
    "execution": {
     "iopub.execute_input": "2022-07-26T20:09:47.976379Z",
     "iopub.status.busy": "2022-07-26T20:09:47.975827Z",
     "iopub.status.idle": "2022-07-26T20:09:47.988459Z",
     "shell.execute_reply": "2022-07-26T20:09:47.989000Z"
    },
    "papermill": {
     "duration": 0.041065,
     "end_time": "2022-07-26T20:09:47.989123",
     "exception": false,
     "start_time": "2022-07-26T20:09:47.948058",
     "status": "completed"
    },
    "tags": []
   },
   "outputs": [
    {
     "data": {
      "text/plain": [
       "((10000, 28, 28), (10000,))"
      ]
     },
     "execution_count": 8,
     "metadata": {},
     "output_type": "execute_result"
    }
   ],
   "source": [
    "test_images.shape, test_labels.shape"
   ]
  },
  {
   "cell_type": "code",
   "execution_count": 9,
   "id": "f9ed8fe0",
   "metadata": {
    "execution": {
     "iopub.execute_input": "2022-07-26T20:09:48.042479Z",
     "iopub.status.busy": "2022-07-26T20:09:48.041901Z",
     "iopub.status.idle": "2022-07-26T20:09:48.175049Z",
     "shell.execute_reply": "2022-07-26T20:09:48.175495Z"
    },
    "papermill": {
     "duration": 0.161568,
     "end_time": "2022-07-26T20:09:48.175622",
     "exception": false,
     "start_time": "2022-07-26T20:09:48.014054",
     "status": "completed"
    },
    "tags": []
   },
   "outputs": [
    {
     "name": "stdout",
     "output_type": "stream",
     "text": [
      "2\n"
     ]
    },
    {
     "data": {
      "text/plain": [
       "<matplotlib.image.AxesImage at 0x7f19f40994a8>"
      ]
     },
     "execution_count": 9,
     "metadata": {},
     "output_type": "execute_result"
    },
    {
     "data": {
      "image/png": "[encoded data removed]",
      "text/plain": [
       "<Figure size 432x288 with 1 Axes>"
      ]
     },
     "metadata": {
      "needs_background": "light"
     },
     "output_type": "display_data"
    }
   ],
   "source": [
    "image_index = 7776 # You may select anything up to 60,000\n",
    "print(train_labels[image_index]) \n",
    "plt.imshow(train_images[image_index], cmap='Greys')"
   ]
  },
  {
   "cell_type": "markdown",
   "id": "a8d2388d",
   "metadata": {
    "papermill": {
     "duration": 0.026391,
     "end_time": "2022-07-26T20:09:48.228419",
     "exception": false,
     "start_time": "2022-07-26T20:09:48.202028",
     "status": "completed"
    },
    "tags": []
   },
   "source": [
    "## Filter data to get 3 and 8 out"
   ]
  },
  {
   "cell_type": "code",
   "execution_count": 10,
   "id": "776f7fc7",
   "metadata": {
    "execution": {
     "iopub.execute_input": "2022-07-26T20:09:48.284984Z",
     "iopub.status.busy": "2022-07-26T20:09:48.284415Z",
     "iopub.status.idle": "2022-07-26T20:09:48.301441Z",
     "shell.execute_reply": "2022-07-26T20:09:48.300977Z"
    },
    "papermill": {
     "duration": 0.046697,
     "end_time": "2022-07-26T20:09:48.301545",
     "exception": false,
     "start_time": "2022-07-26T20:09:48.254848",
     "status": "completed"
    },
    "tags": []
   },
   "outputs": [],
   "source": [
    "train_filter = np.where((train_labels == 3 ) | (train_labels == 8))\n",
    "test_filter = np.where((test_labels == 3) | (test_labels == 8))\n",
    "X_train, y_train = train_images[train_filter], train_labels[train_filter]\n",
    "X_test, y_test = test_images[test_filter], test_labels[test_filter]"
   ]
  },
  {
   "cell_type": "markdown",
   "id": "948f0b7e",
   "metadata": {
    "papermill": {
     "duration": 0.026354,
     "end_time": "2022-07-26T20:09:48.354262",
     "exception": false,
     "start_time": "2022-07-26T20:09:48.327908",
     "status": "completed"
    },
    "tags": []
   },
   "source": [
    "We normalize the pizel values in the 0 to 1 range"
   ]
  },
  {
   "cell_type": "code",
   "execution_count": 11,
   "id": "ee4c2166",
   "metadata": {
    "execution": {
     "iopub.execute_input": "2022-07-26T20:09:48.410834Z",
     "iopub.status.busy": "2022-07-26T20:09:48.410254Z",
     "iopub.status.idle": "2022-07-26T20:09:48.451036Z",
     "shell.execute_reply": "2022-07-26T20:09:48.450568Z"
    },
    "papermill": {
     "duration": 0.070688,
     "end_time": "2022-07-26T20:09:48.451146",
     "exception": false,
     "start_time": "2022-07-26T20:09:48.380458",
     "status": "completed"
    },
    "tags": []
   },
   "outputs": [],
   "source": [
    "X_train = X_train/255.\n",
    "X_test = X_test/255."
   ]
  },
  {
   "cell_type": "markdown",
   "id": "ddcf4fab",
   "metadata": {
    "papermill": {
     "duration": 0.026266,
     "end_time": "2022-07-26T20:09:48.503812",
     "exception": false,
     "start_time": "2022-07-26T20:09:48.477546",
     "status": "completed"
    },
    "tags": []
   },
   "source": [
    "And setup the labels as 1 (when the digit is 3) and 0 (when the digit is 8)"
   ]
  },
  {
   "cell_type": "code",
   "execution_count": 12,
   "id": "7dc908f2",
   "metadata": {
    "execution": {
     "iopub.execute_input": "2022-07-26T20:09:48.559842Z",
     "iopub.status.busy": "2022-07-26T20:09:48.559287Z",
     "iopub.status.idle": "2022-07-26T20:09:48.571292Z",
     "shell.execute_reply": "2022-07-26T20:09:48.570749Z"
    },
    "papermill": {
     "duration": 0.041294,
     "end_time": "2022-07-26T20:09:48.571395",
     "exception": false,
     "start_time": "2022-07-26T20:09:48.530101",
     "status": "completed"
    },
    "tags": []
   },
   "outputs": [],
   "source": [
    "y_train = 1*(y_train==3)\n",
    "y_test = 1*(y_test==3)"
   ]
  },
  {
   "cell_type": "code",
   "execution_count": 13,
   "id": "01e4e969",
   "metadata": {
    "execution": {
     "iopub.execute_input": "2022-07-26T20:09:48.627568Z",
     "iopub.status.busy": "2022-07-26T20:09:48.627016Z",
     "iopub.status.idle": "2022-07-26T20:09:48.640071Z",
     "shell.execute_reply": "2022-07-26T20:09:48.639534Z"
    },
    "papermill": {
     "duration": 0.042458,
     "end_time": "2022-07-26T20:09:48.640172",
     "exception": false,
     "start_time": "2022-07-26T20:09:48.597714",
     "status": "completed"
    },
    "tags": []
   },
   "outputs": [
    {
     "data": {
      "text/plain": [
       "((11982, 28, 28), (1984, 28, 28))"
      ]
     },
     "execution_count": 13,
     "metadata": {},
     "output_type": "execute_result"
    }
   ],
   "source": [
    "X_train.shape, X_test.shape"
   ]
  },
  {
   "cell_type": "markdown",
   "id": "5ccf3f85",
   "metadata": {
    "papermill": {
     "duration": 0.026392,
     "end_time": "2022-07-26T20:09:48.692927",
     "exception": false,
     "start_time": "2022-07-26T20:09:48.666535",
     "status": "completed"
    },
    "tags": []
   },
   "source": [
    "We reshape the data to flatten the image pixels into a set of features or co-variates:"
   ]
  },
  {
   "cell_type": "code",
   "execution_count": 14,
   "id": "5286a4a3",
   "metadata": {
    "execution": {
     "iopub.execute_input": "2022-07-26T20:09:48.750167Z",
     "iopub.status.busy": "2022-07-26T20:09:48.749605Z",
     "iopub.status.idle": "2022-07-26T20:09:48.762900Z",
     "shell.execute_reply": "2022-07-26T20:09:48.762343Z"
    },
    "papermill": {
     "duration": 0.043496,
     "end_time": "2022-07-26T20:09:48.763003",
     "exception": false,
     "start_time": "2022-07-26T20:09:48.719507",
     "status": "completed"
    },
    "tags": []
   },
   "outputs": [
    {
     "data": {
      "text/plain": [
       "((11982, 784), (1984, 784))"
      ]
     },
     "execution_count": 14,
     "metadata": {},
     "output_type": "execute_result"
    }
   ],
   "source": [
    "X_train = X_train.reshape(X_train.shape[0], -1)\n",
    "X_test = X_test.reshape(X_test.shape[0], -1)\n",
    "X_train.shape, X_test.shape"
   ]
  },
  {
   "cell_type": "code",
   "execution_count": 15,
   "id": "73c5f88a",
   "metadata": {
    "execution": {
     "iopub.execute_input": "2022-07-26T20:09:48.821704Z",
     "iopub.status.busy": "2022-07-26T20:09:48.820703Z",
     "iopub.status.idle": "2022-07-26T20:09:48.839637Z",
     "shell.execute_reply": "2022-07-26T20:09:48.839171Z"
    },
    "papermill": {
     "duration": 0.049999,
     "end_time": "2022-07-26T20:09:48.839744",
     "exception": false,
     "start_time": "2022-07-26T20:09:48.789745",
     "status": "completed"
    },
    "tags": []
   },
   "outputs": [],
   "source": [
    "#Impoting functions from 'Kudzu'\n",
    "from kudzu.model import Model\n",
    "from kudzu.train import Learner\n",
    "from kudzu.optim import GD\n",
    "from kudzu.data import Data, Sampler,Dataloader\n",
    "\n",
    "from kudzu.callbacks import AccCallback\n",
    "from kudzu.callbacks import ClfCallback\n",
    "\n",
    "from kudzu.loss import MSE\n",
    "\n",
    "from kudzu.layer import Sigmoid,Relu\n",
    "from kudzu.layer import Affine"
   ]
  },
  {
   "cell_type": "markdown",
   "id": "bc01172a",
   "metadata": {
    "papermill": {
     "duration": 0.0288,
     "end_time": "2022-07-26T20:09:48.898135",
     "exception": false,
     "start_time": "2022-07-26T20:09:48.869335",
     "status": "completed"
    },
    "tags": []
   },
   "source": [
    "### Let us create a `Config` class, to store important parameters. \n",
    "This class essentially plays the role of a dictionary."
   ]
  },
  {
   "cell_type": "code",
   "execution_count": 16,
   "id": "978281aa",
   "metadata": {
    "execution": {
     "iopub.execute_input": "2022-07-26T20:09:48.955459Z",
     "iopub.status.busy": "2022-07-26T20:09:48.954909Z",
     "iopub.status.idle": "2022-07-26T20:09:48.966621Z",
     "shell.execute_reply": "2022-07-26T20:09:48.967029Z"
    },
    "papermill": {
     "duration": 0.042202,
     "end_time": "2022-07-26T20:09:48.967148",
     "exception": false,
     "start_time": "2022-07-26T20:09:48.924946",
     "status": "completed"
    },
    "tags": []
   },
   "outputs": [],
   "source": [
    "class Config:\n",
    "    pass\n",
    "config = Config()\n",
    "config.lr = 0.001\n",
    "config.num_epochs = 250\n",
    "config.bs = 50"
   ]
  },
  {
   "cell_type": "markdown",
   "id": "1385fa59",
   "metadata": {
    "papermill": {
     "duration": 0.026719,
     "end_time": "2022-07-26T20:09:49.020486",
     "exception": false,
     "start_time": "2022-07-26T20:09:48.993767",
     "status": "completed"
    },
    "tags": []
   },
   "source": [
    "### Running Models with the Training data\n",
    "Details about the network layers:\n",
    "- A first affine layer has 784 inputs and does 100 affine transforms. These are followed by a Relu\n",
    "- A second affine layer has 100 inputs from the 100 activations of the past layer, and does 100 affine transforms. These are followed by a Relu\n",
    "- A third affine layer has 100 activations and does 2 affine transformations to create an embedding for visualization. There is no non-linearity here.\n",
    "- A final \"logistic regression\" which has an affine transform from 2 inputs to 1 output, which is squeezed through a sigmoid.\n"
   ]
  },
  {
   "cell_type": "code",
   "execution_count": 17,
   "id": "2b9c66db",
   "metadata": {
    "execution": {
     "iopub.execute_input": "2022-07-26T20:09:49.077913Z",
     "iopub.status.busy": "2022-07-26T20:09:49.077309Z",
     "iopub.status.idle": "2022-07-26T20:09:49.089692Z",
     "shell.execute_reply": "2022-07-26T20:09:49.089239Z"
    },
    "papermill": {
     "duration": 0.042714,
     "end_time": "2022-07-26T20:09:49.089793",
     "exception": false,
     "start_time": "2022-07-26T20:09:49.047079",
     "status": "completed"
    },
    "tags": []
   },
   "outputs": [],
   "source": [
    "data = Data(X_train, y_train.reshape(-1,1))\n",
    "sampler = Sampler(data, config.bs, shuffle=True)\n",
    "\n",
    "dl = Dataloader(data, sampler)\n",
    "\n",
    "opt = GD(config.lr)\n",
    "loss = MSE()"
   ]
  },
  {
   "cell_type": "code",
   "execution_count": 18,
   "id": "b275e4c2",
   "metadata": {
    "execution": {
     "iopub.execute_input": "2022-07-26T20:09:49.147142Z",
     "iopub.status.busy": "2022-07-26T20:09:49.146574Z",
     "iopub.status.idle": "2022-07-26T20:09:49.158296Z",
     "shell.execute_reply": "2022-07-26T20:09:49.158761Z"
    },
    "papermill": {
     "duration": 0.042356,
     "end_time": "2022-07-26T20:09:49.158881",
     "exception": false,
     "start_time": "2022-07-26T20:09:49.116525",
     "status": "completed"
    },
    "tags": []
   },
   "outputs": [],
   "source": [
    "training_data_x = X_train\n",
    "testing_data_x = X_test\n",
    "training_data_y = y_train.reshape(-1,1)\n",
    "testing_data_y = y_test.reshape(-1,1)"
   ]
  },
  {
   "cell_type": "code",
   "execution_count": 19,
   "id": "76951160",
   "metadata": {
    "execution": {
     "iopub.execute_input": "2022-07-26T20:09:49.216808Z",
     "iopub.status.busy": "2022-07-26T20:09:49.216239Z",
     "iopub.status.idle": "2022-07-26T20:09:49.233078Z",
     "shell.execute_reply": "2022-07-26T20:09:49.232629Z"
    },
    "papermill": {
     "duration": 0.047855,
     "end_time": "2022-07-26T20:09:49.233184",
     "exception": false,
     "start_time": "2022-07-26T20:09:49.185329",
     "status": "completed"
    },
    "tags": []
   },
   "outputs": [
    {
     "name": "stdout",
     "output_type": "stream",
     "text": [
      "xavier\n",
      "xavier\n",
      "xavier\n",
      "xavier\n",
      "xavier\n"
     ]
    }
   ],
   "source": [
    "layers = [Affine(\"first\", 784, 100), Relu(\"first\"), Affine(\"second\", 100, 100), Relu(\"second\"), Affine(\"third\", 100, 2), Affine(\"last\", 2, 1), Sigmoid(\"last\")]\n",
    "model_nn = Model(layers)\n",
    "model_lr = Model([Affine(\"logits\", 784, 1), Sigmoid(\"sigmoid\")])"
   ]
  },
  {
   "cell_type": "code",
   "execution_count": 20,
   "id": "6eede77a",
   "metadata": {
    "execution": {
     "iopub.execute_input": "2022-07-26T20:09:49.292011Z",
     "iopub.status.busy": "2022-07-26T20:09:49.291452Z",
     "iopub.status.idle": "2022-07-26T20:09:49.303255Z",
     "shell.execute_reply": "2022-07-26T20:09:49.302804Z"
    },
    "papermill": {
     "duration": 0.042864,
     "end_time": "2022-07-26T20:09:49.303357",
     "exception": false,
     "start_time": "2022-07-26T20:09:49.260493",
     "status": "completed"
    },
    "tags": []
   },
   "outputs": [],
   "source": [
    "nn_learner = Learner(loss, model_nn, opt, config.num_epochs)\n",
    "acc_nn = ClfCallback(nn_learner, config.bs, training_data_x , testing_data_x, training_data_y, testing_data_y)\n",
    "nn_learner.set_callbacks([acc_nn])"
   ]
  },
  {
   "cell_type": "code",
   "execution_count": 21,
   "id": "877b6cc7",
   "metadata": {
    "execution": {
     "iopub.execute_input": "2022-07-26T20:09:49.361847Z",
     "iopub.status.busy": "2022-07-26T20:09:49.361267Z",
     "iopub.status.idle": "2022-07-26T20:09:49.372625Z",
     "shell.execute_reply": "2022-07-26T20:09:49.373035Z"
    },
    "papermill": {
     "duration": 0.042632,
     "end_time": "2022-07-26T20:09:49.373158",
     "exception": false,
     "start_time": "2022-07-26T20:09:49.330526",
     "status": "completed"
    },
    "tags": []
   },
   "outputs": [],
   "source": [
    "lr_learner = Learner(loss, model_lr, opt, config.num_epochs)\n",
    "acc_lr = ClfCallback(lr_learner, config.bs, training_data_x , testing_data_x, training_data_y, testing_data_y)\n",
    "lr_learner.set_callbacks([acc_lr])"
   ]
  },
  {
   "cell_type": "code",
   "execution_count": 22,
   "id": "d9b133c3",
   "metadata": {
    "execution": {
     "iopub.execute_input": "2022-07-26T20:09:49.430800Z",
     "iopub.status.busy": "2022-07-26T20:09:49.430218Z",
     "iopub.status.idle": "2022-07-26T20:12:45.317284Z",
     "shell.execute_reply": "2022-07-26T20:12:45.317731Z"
    },
    "papermill": {
     "duration": 175.91749,
     "end_time": "2022-07-26T20:12:45.317857",
     "exception": false,
     "start_time": "2022-07-26T20:09:49.400367",
     "status": "completed"
    },
    "tags": []
   },
   "outputs": [
    {
     "name": "stdout",
     "output_type": "stream",
     "text": [
      "Epoch 0, Loss 0.2499\n",
      "Training Accuracy: 0.5096, Testing Accuracy: 0.5076\n",
      "\n"
     ]
    },
    {
     "name": "stdout",
     "output_type": "stream",
     "text": [
      "Epoch 10, Loss 0.2135\n",
      "Training Accuracy: 0.7964, Testing Accuracy: 0.7853\n",
      "\n"
     ]
    },
    {
     "name": "stdout",
     "output_type": "stream",
     "text": [
      "Epoch 20, Loss 0.1275\n",
      "Training Accuracy: 0.8857, Testing Accuracy: 0.8972\n",
      "\n"
     ]
    },
    {
     "name": "stdout",
     "output_type": "stream",
     "text": [
      "Epoch 30, Loss 0.072\n",
      "Training Accuracy: 0.9246, Testing Accuracy: 0.9375\n",
      "\n"
     ]
    },
    {
     "name": "stdout",
     "output_type": "stream",
     "text": [
      "Epoch 40, Loss 0.0525\n",
      "Training Accuracy: 0.9425, Testing Accuracy: 0.9531\n",
      "\n"
     ]
    },
    {
     "name": "stdout",
     "output_type": "stream",
     "text": [
      "Epoch 50, Loss 0.0437\n",
      "Training Accuracy: 0.9505, Testing Accuracy: 0.9577\n",
      "\n"
     ]
    },
    {
     "name": "stdout",
     "output_type": "stream",
     "text": [
      "Epoch 60, Loss 0.0388\n",
      "Training Accuracy: 0.9552, Testing Accuracy: 0.9642\n",
      "\n"
     ]
    },
    {
     "name": "stdout",
     "output_type": "stream",
     "text": [
      "Epoch 70, Loss 0.0356\n",
      "Training Accuracy: 0.9582, Testing Accuracy: 0.9682\n",
      "\n"
     ]
    },
    {
     "name": "stdout",
     "output_type": "stream",
     "text": [
      "Epoch 80, Loss 0.0333\n",
      "Training Accuracy: 0.9616, Testing Accuracy: 0.9688\n",
      "\n"
     ]
    },
    {
     "name": "stdout",
     "output_type": "stream",
     "text": [
      "Epoch 90, Loss 0.0315\n",
      "Training Accuracy: 0.9631, Testing Accuracy: 0.9693\n",
      "\n"
     ]
    },
    {
     "name": "stdout",
     "output_type": "stream",
     "text": [
      "Epoch 100, Loss 0.0301\n",
      "Training Accuracy: 0.9645, Testing Accuracy: 0.9703\n",
      "\n"
     ]
    },
    {
     "name": "stdout",
     "output_type": "stream",
     "text": [
      "Epoch 110, Loss 0.0288\n",
      "Training Accuracy: 0.9657, Testing Accuracy: 0.9713\n",
      "\n"
     ]
    },
    {
     "name": "stdout",
     "output_type": "stream",
     "text": [
      "Epoch 120, Loss 0.0278\n",
      "Training Accuracy: 0.9672, Testing Accuracy: 0.9713\n",
      "\n"
     ]
    },
    {
     "name": "stdout",
     "output_type": "stream",
     "text": [
      "Epoch 130, Loss 0.0269\n",
      "Training Accuracy: 0.9685, Testing Accuracy: 0.9718\n",
      "\n"
     ]
    },
    {
     "name": "stdout",
     "output_type": "stream",
     "text": [
      "Epoch 140, Loss 0.026\n",
      "Training Accuracy: 0.9694, Testing Accuracy: 0.9718\n",
      "\n"
     ]
    },
    {
     "name": "stdout",
     "output_type": "stream",
     "text": [
      "Epoch 150, Loss 0.0253\n",
      "Training Accuracy: 0.9706, Testing Accuracy: 0.9723\n",
      "\n"
     ]
    },
    {
     "name": "stdout",
     "output_type": "stream",
     "text": [
      "Epoch 160, Loss 0.0245\n",
      "Training Accuracy: 0.9713, Testing Accuracy: 0.9728\n",
      "\n"
     ]
    },
    {
     "name": "stdout",
     "output_type": "stream",
     "text": [
      "Epoch 170, Loss 0.0239\n",
      "Training Accuracy: 0.9724, Testing Accuracy: 0.9733\n",
      "\n"
     ]
    },
    {
     "name": "stdout",
     "output_type": "stream",
     "text": [
      "Epoch 180, Loss 0.0233\n",
      "Training Accuracy: 0.9733, Testing Accuracy: 0.9738\n",
      "\n"
     ]
    },
    {
     "name": "stdout",
     "output_type": "stream",
     "text": [
      "Epoch 190, Loss 0.0227\n",
      "Training Accuracy: 0.9740, Testing Accuracy: 0.9743\n",
      "\n"
     ]
    },
    {
     "name": "stdout",
     "output_type": "stream",
     "text": [
      "Epoch 200, Loss 0.0222\n",
      "Training Accuracy: 0.9746, Testing Accuracy: 0.9748\n",
      "\n"
     ]
    },
    {
     "name": "stdout",
     "output_type": "stream",
     "text": [
      "Epoch 210, Loss 0.0217\n",
      "Training Accuracy: 0.9756, Testing Accuracy: 0.9758\n",
      "\n"
     ]
    },
    {
     "name": "stdout",
     "output_type": "stream",
     "text": [
      "Epoch 220, Loss 0.0212\n",
      "Training Accuracy: 0.9765, Testing Accuracy: 0.9743\n",
      "\n"
     ]
    },
    {
     "name": "stdout",
     "output_type": "stream",
     "text": [
      "Epoch 230, Loss 0.0207\n",
      "Training Accuracy: 0.9770, Testing Accuracy: 0.9743\n",
      "\n"
     ]
    },
    {
     "name": "stdout",
     "output_type": "stream",
     "text": [
      "Epoch 240, Loss 0.0203\n",
      "Training Accuracy: 0.9771, Testing Accuracy: 0.9748\n",
      "\n"
     ]
    },
    {
     "data": {
      "text/plain": [
       "0.054861590416180835"
      ]
     },
     "execution_count": 22,
     "metadata": {},
     "output_type": "execute_result"
    }
   ],
   "source": [
    "nn_learner.train_loop(dl)"
   ]
  },
  {
   "cell_type": "code",
   "execution_count": 23,
   "id": "e0163366",
   "metadata": {
    "execution": {
     "iopub.execute_input": "2022-07-26T20:12:45.393618Z",
     "iopub.status.busy": "2022-07-26T20:12:45.391302Z",
     "iopub.status.idle": "2022-07-26T20:12:57.750921Z",
     "shell.execute_reply": "2022-07-26T20:12:57.751725Z"
    },
    "papermill": {
     "duration": 12.399893,
     "end_time": "2022-07-26T20:12:57.751860",
     "exception": false,
     "start_time": "2022-07-26T20:12:45.351967",
     "status": "completed"
    },
    "tags": []
   },
   "outputs": [
    {
     "name": "stdout",
     "output_type": "stream",
     "text": [
      "Epoch 0, Loss 0.2647\n",
      "Training Accuracy: 0.5908, Testing Accuracy: 0.6084\n",
      "\n"
     ]
    },
    {
     "name": "stdout",
     "output_type": "stream",
     "text": [
      "Epoch 10, Loss 0.107\n",
      "Training Accuracy: 0.9001, Testing Accuracy: 0.9123\n",
      "\n"
     ]
    },
    {
     "name": "stdout",
     "output_type": "stream",
     "text": [
      "Epoch 20, Loss 0.0816\n",
      "Training Accuracy: 0.9226, Testing Accuracy: 0.9370\n",
      "\n"
     ]
    },
    {
     "name": "stdout",
     "output_type": "stream",
     "text": [
      "Epoch 30, Loss 0.07\n",
      "Training Accuracy: 0.9326, Testing Accuracy: 0.9456\n",
      "\n"
     ]
    },
    {
     "name": "stdout",
     "output_type": "stream",
     "text": [
      "Epoch 40, Loss 0.063\n",
      "Training Accuracy: 0.9372, Testing Accuracy: 0.9491\n",
      "\n"
     ]
    },
    {
     "name": "stdout",
     "output_type": "stream",
     "text": [
      "Epoch 50, Loss 0.0583\n",
      "Training Accuracy: 0.9417, Testing Accuracy: 0.9516\n",
      "\n"
     ]
    },
    {
     "name": "stdout",
     "output_type": "stream",
     "text": [
      "Epoch 60, Loss 0.0548\n",
      "Training Accuracy: 0.9448, Testing Accuracy: 0.9551\n",
      "\n"
     ]
    },
    {
     "name": "stdout",
     "output_type": "stream",
     "text": [
      "Epoch 70, Loss 0.0521\n",
      "Training Accuracy: 0.9471, Testing Accuracy: 0.9561\n",
      "\n"
     ]
    },
    {
     "name": "stdout",
     "output_type": "stream",
     "text": [
      "Epoch 80, Loss 0.05\n",
      "Training Accuracy: 0.9489, Testing Accuracy: 0.9592\n",
      "\n"
     ]
    },
    {
     "name": "stdout",
     "output_type": "stream",
     "text": [
      "Epoch 90, Loss 0.0482\n",
      "Training Accuracy: 0.9501, Testing Accuracy: 0.9607\n",
      "\n"
     ]
    },
    {
     "name": "stdout",
     "output_type": "stream",
     "text": [
      "Epoch 100, Loss 0.0468\n",
      "Training Accuracy: 0.9508, Testing Accuracy: 0.9617\n",
      "\n"
     ]
    },
    {
     "name": "stdout",
     "output_type": "stream",
     "text": [
      "Epoch 110, Loss 0.0455\n",
      "Training Accuracy: 0.9515, Testing Accuracy: 0.9627\n",
      "\n"
     ]
    },
    {
     "name": "stdout",
     "output_type": "stream",
     "text": [
      "Epoch 120, Loss 0.0444\n",
      "Training Accuracy: 0.9536, Testing Accuracy: 0.9637\n",
      "\n"
     ]
    },
    {
     "name": "stdout",
     "output_type": "stream",
     "text": [
      "Epoch 130, Loss 0.0434\n",
      "Training Accuracy: 0.9549, Testing Accuracy: 0.9637\n",
      "\n"
     ]
    },
    {
     "name": "stdout",
     "output_type": "stream",
     "text": [
      "Epoch 140, Loss 0.0426\n",
      "Training Accuracy: 0.9563, Testing Accuracy: 0.9637\n",
      "\n"
     ]
    },
    {
     "name": "stdout",
     "output_type": "stream",
     "text": [
      "Epoch 150, Loss 0.0418\n",
      "Training Accuracy: 0.9564, Testing Accuracy: 0.9642\n",
      "\n"
     ]
    },
    {
     "name": "stdout",
     "output_type": "stream",
     "text": [
      "Epoch 160, Loss 0.0411\n",
      "Training Accuracy: 0.9567, Testing Accuracy: 0.9647\n",
      "\n"
     ]
    },
    {
     "name": "stdout",
     "output_type": "stream",
     "text": [
      "Epoch 170, Loss 0.0405\n",
      "Training Accuracy: 0.9569, Testing Accuracy: 0.9652\n",
      "\n"
     ]
    },
    {
     "name": "stdout",
     "output_type": "stream",
     "text": [
      "Epoch 180, Loss 0.0399\n",
      "Training Accuracy: 0.9575, Testing Accuracy: 0.9652\n",
      "\n"
     ]
    },
    {
     "name": "stdout",
     "output_type": "stream",
     "text": [
      "Epoch 190, Loss 0.0394\n",
      "Training Accuracy: 0.9577, Testing Accuracy: 0.9652\n",
      "\n"
     ]
    },
    {
     "name": "stdout",
     "output_type": "stream",
     "text": [
      "Epoch 200, Loss 0.0389\n",
      "Training Accuracy: 0.9583, Testing Accuracy: 0.9647\n",
      "\n"
     ]
    },
    {
     "name": "stdout",
     "output_type": "stream",
     "text": [
      "Epoch 210, Loss 0.0384\n",
      "Training Accuracy: 0.9585, Testing Accuracy: 0.9652\n",
      "\n"
     ]
    },
    {
     "name": "stdout",
     "output_type": "stream",
     "text": [
      "Epoch 220, Loss 0.038\n",
      "Training Accuracy: 0.9589, Testing Accuracy: 0.9662\n",
      "\n"
     ]
    },
    {
     "name": "stdout",
     "output_type": "stream",
     "text": [
      "Epoch 230, Loss 0.0376\n",
      "Training Accuracy: 0.9594, Testing Accuracy: 0.9662\n",
      "\n"
     ]
    },
    {
     "name": "stdout",
     "output_type": "stream",
     "text": [
      "Epoch 240, Loss 0.0373\n",
      "Training Accuracy: 0.9599, Testing Accuracy: 0.9657\n",
      "\n"
     ]
    },
    {
     "data": {
      "text/plain": [
       "0.01095875468532238"
      ]
     },
     "execution_count": 23,
     "metadata": {},
     "output_type": "execute_result"
    }
   ],
   "source": [
    "lr_learner.train_loop(dl)"
   ]
  },
  {
   "cell_type": "code",
   "execution_count": 24,
   "id": "ca410940",
   "metadata": {
    "execution": {
     "iopub.execute_input": "2022-07-26T20:12:57.842619Z",
     "iopub.status.busy": "2022-07-26T20:12:57.842008Z",
     "iopub.status.idle": "2022-07-26T20:12:58.066787Z",
     "shell.execute_reply": "2022-07-26T20:12:58.066286Z"
    },
    "papermill": {
     "duration": 0.273844,
     "end_time": "2022-07-26T20:12:58.066899",
     "exception": false,
     "start_time": "2022-07-26T20:12:57.793055",
     "status": "completed"
    },
    "tags": []
   },
   "outputs": [
    {
     "data": {
      "text/plain": [
       "<matplotlib.legend.Legend at 0x7f19f3bf8ba8>"
      ]
     },
     "execution_count": 24,
     "metadata": {},
     "output_type": "execute_result"
    },
    {
     "data": {
      "image/png": "[encoded data removed]",
      "text/plain": [
       "<Figure size 1080x720 with 1 Axes>"
      ]
     },
     "metadata": {
      "needs_background": "light"
     },
     "output_type": "display_data"
    }
   ],
   "source": [
    "#comparing the results of NN and LR\n",
    "plt.figure(figsize=(15,10))\n",
    "\n",
    "# Neural Network plots\n",
    "plt.plot(acc_nn.accuracies, 'r-', label = \"Training Accuracies - NN\")\n",
    "plt.plot(acc_nn.test_accuracies, 'g-', label = \"Testing Accuracies - NN\")\n",
    "\n",
    "# Logistic Regression plots\n",
    "plt.plot(acc_lr.accuracies, 'k-', label = \"Training Accuracies - LR\")\n",
    "plt.plot(acc_lr.test_accuracies, 'b-', label = \"Testing Accuracies - LR\")\n",
    "plt.legend()"
   ]
  },
  {
   "cell_type": "markdown",
   "id": "80dfb35c",
   "metadata": {
    "papermill": {
     "duration": 0.041892,
     "end_time": "2022-07-26T20:12:58.151127",
     "exception": false,
     "start_time": "2022-07-26T20:12:58.109235",
     "status": "completed"
    },
    "tags": []
   },
   "source": [
    "#### Plotting the outputs of this layer of the NN.\n"
   ]
  },
  {
   "cell_type": "code",
   "execution_count": 25,
   "id": "45eb2ff5",
   "metadata": {
    "execution": {
     "iopub.execute_input": "2022-07-26T20:12:58.239509Z",
     "iopub.status.busy": "2022-07-26T20:12:58.238925Z",
     "iopub.status.idle": "2022-07-26T20:12:58.275368Z",
     "shell.execute_reply": "2022-07-26T20:12:58.274895Z"
    },
    "papermill": {
     "duration": 0.082539,
     "end_time": "2022-07-26T20:12:58.275502",
     "exception": false,
     "start_time": "2022-07-26T20:12:58.192963",
     "status": "completed"
    },
    "tags": []
   },
   "outputs": [],
   "source": [
    "new_model = Model(layers[:-2])\n",
    "testing_plot = new_model(testing_data_x)"
   ]
  },
  {
   "cell_type": "code",
   "execution_count": 26,
   "id": "4c0a5485",
   "metadata": {
    "execution": {
     "iopub.execute_input": "2022-07-26T20:12:58.370492Z",
     "iopub.status.busy": "2022-07-26T20:12:58.368401Z",
     "iopub.status.idle": "2022-07-26T20:12:58.559118Z",
     "shell.execute_reply": "2022-07-26T20:12:58.559547Z"
    },
    "papermill": {
     "duration": 0.241094,
     "end_time": "2022-07-26T20:12:58.559676",
     "exception": false,
     "start_time": "2022-07-26T20:12:58.318582",
     "status": "completed"
    },
    "tags": []
   },
   "outputs": [
    {
     "data": {
      "text/plain": [
       "Text(0.5, 1.0, 'Outputs')"
      ]
     },
     "execution_count": 26,
     "metadata": {},
     "output_type": "execute_result"
    },
    {
     "data": {
      "image/png": "[encoded data removed]",
      "text/plain": [
       "<Figure size 576x504 with 1 Axes>"
      ]
     },
     "metadata": {
      "needs_background": "light"
     },
     "output_type": "display_data"
    }
   ],
   "source": [
    "# Plotting the scatter plot of points and color coding by class\n",
    "plt.figure(figsize=(8,7))\n",
    "plt.scatter(testing_plot[:,0], testing_plot[:,1], alpha = 0.1, c = y_test.ravel());\n",
    "plt.title('Outputs')"
   ]
  },
  {
   "cell_type": "markdown",
   "id": "a74fcf8f",
   "metadata": {
    "papermill": {
     "duration": 0.043486,
     "end_time": "2022-07-26T20:12:58.647191",
     "exception": false,
     "start_time": "2022-07-26T20:12:58.603705",
     "status": "completed"
    },
    "tags": []
   },
   "source": [
    "Probability contours"
   ]
  },
  {
   "cell_type": "code",
   "execution_count": 27,
   "id": "d0afc8e3",
   "metadata": {
    "execution": {
     "iopub.execute_input": "2022-07-26T20:12:58.765290Z",
     "iopub.status.busy": "2022-07-26T20:12:58.762287Z",
     "iopub.status.idle": "2022-07-26T20:12:58.774617Z",
     "shell.execute_reply": "2022-07-26T20:12:58.775036Z"
    },
    "papermill": {
     "duration": 0.084156,
     "end_time": "2022-07-26T20:12:58.775159",
     "exception": false,
     "start_time": "2022-07-26T20:12:58.691003",
     "status": "completed"
    },
    "tags": []
   },
   "outputs": [],
   "source": [
    "model_prob = Model(layers[-2:]) "
   ]
  },
  {
   "cell_type": "code",
   "execution_count": 28,
   "id": "9b96e238",
   "metadata": {
    "execution": {
     "iopub.execute_input": "2022-07-26T20:12:58.868248Z",
     "iopub.status.busy": "2022-07-26T20:12:58.867666Z",
     "iopub.status.idle": "2022-07-26T20:12:58.881816Z",
     "shell.execute_reply": "2022-07-26T20:12:58.882232Z"
    },
    "papermill": {
     "duration": 0.063442,
     "end_time": "2022-07-26T20:12:58.882357",
     "exception": false,
     "start_time": "2022-07-26T20:12:58.818915",
     "status": "completed"
    },
    "tags": []
   },
   "outputs": [],
   "source": [
    "#creating the x and y ranges according to the above generated plot.\n",
    "x_range = np.linspace(-4, 1, 100) \n",
    "y_range = np.linspace(-6, 6, 100) \n",
    "x_grid, y_grid = np.meshgrid(x_range, y_range) # x_grid and y_grig are of size 100 X 100\n",
    "\n",
    "# converting x_grid and y_grid to continuous arrays\n",
    "x_gridflat = np.ravel(x_grid)\n",
    "y_gridflat = np.ravel(y_grid)\n",
    "\n",
    "# The last layer of the current model takes two columns as input. Hence transpose of np.vstack() is required.\n",
    "X = np.vstack((x_gridflat, y_gridflat)).T\n",
    "\n",
    "prob_contour = model_prob(X).reshape(100,100) "
   ]
  },
  {
   "cell_type": "code",
   "execution_count": 29,
   "id": "da72499a",
   "metadata": {
    "execution": {
     "iopub.execute_input": "2022-07-26T20:12:58.976898Z",
     "iopub.status.busy": "2022-07-26T20:12:58.974798Z",
     "iopub.status.idle": "2022-07-26T20:12:59.221413Z",
     "shell.execute_reply": "2022-07-26T20:12:59.220694Z"
    },
    "papermill": {
     "duration": 0.295142,
     "end_time": "2022-07-26T20:12:59.221537",
     "exception": false,
     "start_time": "2022-07-26T20:12:58.926395",
     "status": "completed"
    },
    "tags": []
   },
   "outputs": [
    {
     "data": {
      "image/png": "[encoded data removed]",
      "text/plain": [
       "<Figure size 720x648 with 1 Axes>"
      ]
     },
     "metadata": {
      "needs_background": "light"
     },
     "output_type": "display_data"
    }
   ],
   "source": [
    "plt.figure(figsize=(10,9))\n",
    "plt.scatter(testing_plot[:,0], testing_plot[:,1], alpha = 0.1, c = y_test.ravel())\n",
    "contours = plt.contour(x_grid,y_grid,prob_contour)\n",
    "plt.title('Probability Contours')\n",
    "plt.clabel(contours, inline = True );"
   ]
  },
  {
   "cell_type": "code",
   "execution_count": null,
   "id": "e81b4ac7",
   "metadata": {
    "papermill": {
     "duration": 0.04606,
     "end_time": "2022-07-26T20:12:59.314149",
     "exception": false,
     "start_time": "2022-07-26T20:12:59.268089",
     "status": "completed"
    },
    "tags": []
   },
   "outputs": [],
   "source": []
  }
 ],
 "metadata": {
  "kernelspec": {
   "display_name": "Python 3",
   "language": "python",
   "name": "python3"
  },
  "language_info": {
   "codemirror_mode": {
    "name": "ipython",
    "version": 3
   },
   "file_extension": ".py",
   "mimetype": "text/x-python",
   "name": "python",
   "nbconvert_exporter": "python",
   "pygments_lexer": "ipython3",
   "version": "3.6.15"
  },
  "papermill": {
   "default_parameters": {},
   "duration": 196.110412,
   "end_time": "2022-07-26T20:12:59.677462",
   "environment_variables": {},
   "exception": null,
   "input_path": "2020-08-11-part2.ipynb",
   "output_path": "2020-08-11-part2.ipynb",
   "parameters": {},
   "start_time": "2022-07-26T20:09:43.567050",
   "version": "2.3.3"
  }
 },
 "nbformat": 4,
 "nbformat_minor": 5
}