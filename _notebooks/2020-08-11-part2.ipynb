{
 "cells": [
  {
   "cell_type": "markdown",
   "id": "98380cd3",
   "metadata": {
    "papermill": {
     "duration": 0.029876,
     "end_time": "2022-01-21T00:22:24.627172",
     "exception": false,
     "start_time": "2022-01-21T00:22:24.597296",
     "status": "completed"
    },
    "tags": []
   },
   "source": [
    "# Distinguish Your Own Digits (DYOD)"
   ]
  },
  {
   "cell_type": "markdown",
   "id": "ef31240d",
   "metadata": {
    "papermill": {
     "duration": 0.026859,
     "end_time": "2022-01-21T00:22:24.687217",
     "exception": false,
     "start_time": "2022-01-21T00:22:24.660358",
     "status": "completed"
    },
    "tags": []
   },
   "source": [
    "You are going to write a classifier that distinguishes between the number 3 and number 8."
   ]
  },
  {
   "cell_type": "code",
   "execution_count": 1,
   "id": "b15c8646",
   "metadata": {
    "execution": {
     "iopub.execute_input": "2022-01-21T00:22:24.748500Z",
     "iopub.status.busy": "2022-01-21T00:22:24.747971Z",
     "iopub.status.idle": "2022-01-21T00:22:24.757212Z",
     "shell.execute_reply": "2022-01-21T00:22:24.757817Z"
    },
    "papermill": {
     "duration": 0.045426,
     "end_time": "2022-01-21T00:22:24.757976",
     "exception": false,
     "start_time": "2022-01-21T00:22:24.712550",
     "status": "completed"
    },
    "tags": []
   },
   "outputs": [],
   "source": [
    "%load_ext autoreload\n",
    "%autoreload 2"
   ]
  },
  {
   "cell_type": "code",
   "execution_count": 2,
   "id": "22ef38dc",
   "metadata": {
    "execution": {
     "iopub.execute_input": "2022-01-21T00:22:24.812703Z",
     "iopub.status.busy": "2022-01-21T00:22:24.812176Z",
     "iopub.status.idle": "2022-01-21T00:22:25.409088Z",
     "shell.execute_reply": "2022-01-21T00:22:25.408618Z"
    },
    "papermill": {
     "duration": 0.626099,
     "end_time": "2022-01-21T00:22:25.409212",
     "exception": false,
     "start_time": "2022-01-21T00:22:24.783113",
     "status": "completed"
    },
    "tags": []
   },
   "outputs": [],
   "source": [
    "%matplotlib inline\n",
    "import numpy as np\n",
    "import matplotlib.pyplot as plt\n",
    "import pandas as pd"
   ]
  },
  {
   "cell_type": "markdown",
   "id": "ba036198",
   "metadata": {
    "papermill": {
     "duration": 0.025102,
     "end_time": "2022-01-21T00:22:25.460026",
     "exception": false,
     "start_time": "2022-01-21T00:22:25.434924",
     "status": "completed"
    },
    "tags": []
   },
   "source": [
    "From the command line run `pip install mnist`. This is a library that will help you bring down the mnist dataset. If you run this from a notebook, you need to put  `!pip install mnist` in a cell by itself."
   ]
  },
  {
   "cell_type": "code",
   "execution_count": 3,
   "id": "bb6ad8a1",
   "metadata": {
    "execution": {
     "iopub.execute_input": "2022-01-21T00:22:25.517680Z",
     "iopub.status.busy": "2022-01-21T00:22:25.516543Z",
     "iopub.status.idle": "2022-01-21T00:22:27.285196Z",
     "shell.execute_reply": "2022-01-21T00:22:27.286423Z"
    },
    "papermill": {
     "duration": 1.800523,
     "end_time": "2022-01-21T00:22:27.286622",
     "exception": false,
     "start_time": "2022-01-21T00:22:25.486099",
     "status": "completed"
    },
    "tags": []
   },
   "outputs": [
    {
     "name": "stdout",
     "output_type": "stream",
     "text": [
      "Collecting mnist\r\n",
      "  Downloading mnist-0.2.2-py2.py3-none-any.whl (3.5 kB)\r\n",
      "Requirement already satisfied: numpy in /opt/hostedtoolcache/Python/3.6.15/x64/lib/python3.6/site-packages (from mnist) (1.19.5)\r\n"
     ]
    },
    {
     "name": "stdout",
     "output_type": "stream",
     "text": [
      "Installing collected packages: mnist\r\n"
     ]
    },
    {
     "name": "stdout",
     "output_type": "stream",
     "text": [
      "Successfully installed mnist-0.2.2\r\n"
     ]
    }
   ],
   "source": [
    "!pip install mnist"
   ]
  },
  {
   "cell_type": "markdown",
   "id": "69df9c9a",
   "metadata": {
    "papermill": {
     "duration": 0.026449,
     "end_time": "2022-01-21T00:22:27.339584",
     "exception": false,
     "start_time": "2022-01-21T00:22:27.313135",
     "status": "completed"
    },
    "tags": []
   },
   "source": [
    "## Preparing the Data"
   ]
  },
  {
   "cell_type": "code",
   "execution_count": 4,
   "id": "7f69d806",
   "metadata": {
    "execution": {
     "iopub.execute_input": "2022-01-21T00:22:27.398698Z",
     "iopub.status.busy": "2022-01-21T00:22:27.398085Z",
     "iopub.status.idle": "2022-01-21T00:22:27.413086Z",
     "shell.execute_reply": "2022-01-21T00:22:27.412381Z"
    },
    "papermill": {
     "duration": 0.044474,
     "end_time": "2022-01-21T00:22:27.413198",
     "exception": false,
     "start_time": "2022-01-21T00:22:27.368724",
     "status": "completed"
    },
    "tags": []
   },
   "outputs": [],
   "source": [
    "import mnist"
   ]
  },
  {
   "cell_type": "code",
   "execution_count": 5,
   "id": "a411e44f",
   "metadata": {
    "execution": {
     "iopub.execute_input": "2022-01-21T00:22:27.479942Z",
     "iopub.status.busy": "2022-01-21T00:22:27.474342Z",
     "iopub.status.idle": "2022-01-21T00:22:27.960048Z",
     "shell.execute_reply": "2022-01-21T00:22:27.959573Z"
    },
    "papermill": {
     "duration": 0.521913,
     "end_time": "2022-01-21T00:22:27.960174",
     "exception": false,
     "start_time": "2022-01-21T00:22:27.438261",
     "status": "completed"
    },
    "tags": []
   },
   "outputs": [],
   "source": [
    "train_images = mnist.train_images()\n",
    "train_labels = mnist.train_labels()"
   ]
  },
  {
   "cell_type": "code",
   "execution_count": 6,
   "id": "dceab3a5",
   "metadata": {
    "execution": {
     "iopub.execute_input": "2022-01-21T00:22:28.016483Z",
     "iopub.status.busy": "2022-01-21T00:22:28.015949Z",
     "iopub.status.idle": "2022-01-21T00:22:28.028810Z",
     "shell.execute_reply": "2022-01-21T00:22:28.029336Z"
    },
    "papermill": {
     "duration": 0.043784,
     "end_time": "2022-01-21T00:22:28.029459",
     "exception": false,
     "start_time": "2022-01-21T00:22:27.985675",
     "status": "completed"
    },
    "tags": []
   },
   "outputs": [
    {
     "data": {
      "text/plain": [
       "((60000, 28, 28), (60000,))"
      ]
     },
     "execution_count": 6,
     "metadata": {},
     "output_type": "execute_result"
    }
   ],
   "source": [
    "train_images.shape, train_labels.shape"
   ]
  },
  {
   "cell_type": "code",
   "execution_count": 7,
   "id": "f50dc2bb",
   "metadata": {
    "execution": {
     "iopub.execute_input": "2022-01-21T00:22:28.094544Z",
     "iopub.status.busy": "2022-01-21T00:22:28.089777Z",
     "iopub.status.idle": "2022-01-21T00:22:28.199398Z",
     "shell.execute_reply": "2022-01-21T00:22:28.198156Z"
    },
    "papermill": {
     "duration": 0.145449,
     "end_time": "2022-01-21T00:22:28.199526",
     "exception": false,
     "start_time": "2022-01-21T00:22:28.054077",
     "status": "completed"
    },
    "tags": []
   },
   "outputs": [],
   "source": [
    "test_images = mnist.test_images()\n",
    "test_labels = mnist.test_labels()"
   ]
  },
  {
   "cell_type": "code",
   "execution_count": 8,
   "id": "fc38cf1b",
   "metadata": {
    "execution": {
     "iopub.execute_input": "2022-01-21T00:22:28.262523Z",
     "iopub.status.busy": "2022-01-21T00:22:28.260462Z",
     "iopub.status.idle": "2022-01-21T00:22:28.275624Z",
     "shell.execute_reply": "2022-01-21T00:22:28.276246Z"
    },
    "papermill": {
     "duration": 0.046095,
     "end_time": "2022-01-21T00:22:28.276393",
     "exception": false,
     "start_time": "2022-01-21T00:22:28.230298",
     "status": "completed"
    },
    "tags": []
   },
   "outputs": [
    {
     "data": {
      "text/plain": [
       "((10000, 28, 28), (10000,))"
      ]
     },
     "execution_count": 8,
     "metadata": {},
     "output_type": "execute_result"
    }
   ],
   "source": [
    "test_images.shape, test_labels.shape"
   ]
  },
  {
   "cell_type": "code",
   "execution_count": 9,
   "id": "f9ed8fe0",
   "metadata": {
    "execution": {
     "iopub.execute_input": "2022-01-21T00:22:28.339362Z",
     "iopub.status.busy": "2022-01-21T00:22:28.338816Z",
     "iopub.status.idle": "2022-01-21T00:22:28.503851Z",
     "shell.execute_reply": "2022-01-21T00:22:28.503318Z"
    },
    "papermill": {
     "duration": 0.199936,
     "end_time": "2022-01-21T00:22:28.503969",
     "exception": false,
     "start_time": "2022-01-21T00:22:28.304033",
     "status": "completed"
    },
    "tags": []
   },
   "outputs": [
    {
     "name": "stdout",
     "output_type": "stream",
     "text": [
      "2\n"
     ]
    },
    {
     "data": {
      "text/plain": [
       "<matplotlib.image.AxesImage at 0x7f9f37f654a8>"
      ]
     },
     "execution_count": 9,
     "metadata": {},
     "output_type": "execute_result"
    },
    {
     "data": {
      "image/png": "[encoded data removed]",
      "text/plain": [
       "<Figure size 432x288 with 1 Axes>"
      ]
     },
     "metadata": {
      "needs_background": "light"
     },
     "output_type": "display_data"
    }
   ],
   "source": [
    "image_index = 7776 # You may select anything up to 60,000\n",
    "print(train_labels[image_index]) \n",
    "plt.imshow(train_images[image_index], cmap='Greys')"
   ]
  },
  {
   "cell_type": "markdown",
   "id": "a8d2388d",
   "metadata": {
    "papermill": {
     "duration": 0.027935,
     "end_time": "2022-01-21T00:22:28.559737",
     "exception": false,
     "start_time": "2022-01-21T00:22:28.531802",
     "status": "completed"
    },
    "tags": []
   },
   "source": [
    "## Filter data to get 3 and 8 out"
   ]
  },
  {
   "cell_type": "code",
   "execution_count": 10,
   "id": "776f7fc7",
   "metadata": {
    "execution": {
     "iopub.execute_input": "2022-01-21T00:22:28.618696Z",
     "iopub.status.busy": "2022-01-21T00:22:28.617397Z",
     "iopub.status.idle": "2022-01-21T00:22:28.636387Z",
     "shell.execute_reply": "2022-01-21T00:22:28.635927Z"
    },
    "papermill": {
     "duration": 0.04952,
     "end_time": "2022-01-21T00:22:28.636503",
     "exception": false,
     "start_time": "2022-01-21T00:22:28.586983",
     "status": "completed"
    },
    "tags": []
   },
   "outputs": [],
   "source": [
    "train_filter = np.where((train_labels == 3 ) | (train_labels == 8))\n",
    "test_filter = np.where((test_labels == 3) | (test_labels == 8))\n",
    "X_train, y_train = train_images[train_filter], train_labels[train_filter]\n",
    "X_test, y_test = test_images[test_filter], test_labels[test_filter]"
   ]
  },
  {
   "cell_type": "markdown",
   "id": "948f0b7e",
   "metadata": {
    "papermill": {
     "duration": 0.027177,
     "end_time": "2022-01-21T00:22:28.692096",
     "exception": false,
     "start_time": "2022-01-21T00:22:28.664919",
     "status": "completed"
    },
    "tags": []
   },
   "source": [
    "We normalize the pizel values in the 0 to 1 range"
   ]
  },
  {
   "cell_type": "code",
   "execution_count": 11,
   "id": "ee4c2166",
   "metadata": {
    "execution": {
     "iopub.execute_input": "2022-01-21T00:22:28.751825Z",
     "iopub.status.busy": "2022-01-21T00:22:28.751281Z",
     "iopub.status.idle": "2022-01-21T00:22:28.806753Z",
     "shell.execute_reply": "2022-01-21T00:22:28.806258Z"
    },
    "papermill": {
     "duration": 0.086458,
     "end_time": "2022-01-21T00:22:28.806880",
     "exception": false,
     "start_time": "2022-01-21T00:22:28.720422",
     "status": "completed"
    },
    "tags": []
   },
   "outputs": [],
   "source": [
    "X_train = X_train/255.\n",
    "X_test = X_test/255."
   ]
  },
  {
   "cell_type": "markdown",
   "id": "ddcf4fab",
   "metadata": {
    "papermill": {
     "duration": 0.043047,
     "end_time": "2022-01-21T00:22:28.879976",
     "exception": false,
     "start_time": "2022-01-21T00:22:28.836929",
     "status": "completed"
    },
    "tags": []
   },
   "source": [
    "And setup the labels as 1 (when the digit is 3) and 0 (when the digit is 8)"
   ]
  },
  {
   "cell_type": "code",
   "execution_count": 12,
   "id": "7dc908f2",
   "metadata": {
    "execution": {
     "iopub.execute_input": "2022-01-21T00:22:28.951230Z",
     "iopub.status.busy": "2022-01-21T00:22:28.950539Z",
     "iopub.status.idle": "2022-01-21T00:22:28.961751Z",
     "shell.execute_reply": "2022-01-21T00:22:28.961234Z"
    },
    "papermill": {
     "duration": 0.052288,
     "end_time": "2022-01-21T00:22:28.961894",
     "exception": false,
     "start_time": "2022-01-21T00:22:28.909606",
     "status": "completed"
    },
    "tags": []
   },
   "outputs": [],
   "source": [
    "y_train = 1*(y_train==3)\n",
    "y_test = 1*(y_test==3)"
   ]
  },
  {
   "cell_type": "code",
   "execution_count": 13,
   "id": "01e4e969",
   "metadata": {
    "execution": {
     "iopub.execute_input": "2022-01-21T00:22:29.028183Z",
     "iopub.status.busy": "2022-01-21T00:22:29.027459Z",
     "iopub.status.idle": "2022-01-21T00:22:29.040281Z",
     "shell.execute_reply": "2022-01-21T00:22:29.040931Z"
    },
    "papermill": {
     "duration": 0.050943,
     "end_time": "2022-01-21T00:22:29.041069",
     "exception": false,
     "start_time": "2022-01-21T00:22:28.990126",
     "status": "completed"
    },
    "tags": []
   },
   "outputs": [
    {
     "data": {
      "text/plain": [
       "((11982, 28, 28), (1984, 28, 28))"
      ]
     },
     "execution_count": 13,
     "metadata": {},
     "output_type": "execute_result"
    }
   ],
   "source": [
    "X_train.shape, X_test.shape"
   ]
  },
  {
   "cell_type": "markdown",
   "id": "5ccf3f85",
   "metadata": {
    "papermill": {
     "duration": 0.029179,
     "end_time": "2022-01-21T00:22:29.102873",
     "exception": false,
     "start_time": "2022-01-21T00:22:29.073694",
     "status": "completed"
    },
    "tags": []
   },
   "source": [
    "We reshape the data to flatten the image pixels into a set of features or co-variates:"
   ]
  },
  {
   "cell_type": "code",
   "execution_count": 14,
   "id": "5286a4a3",
   "metadata": {
    "execution": {
     "iopub.execute_input": "2022-01-21T00:22:29.162189Z",
     "iopub.status.busy": "2022-01-21T00:22:29.160966Z",
     "iopub.status.idle": "2022-01-21T00:22:29.174182Z",
     "shell.execute_reply": "2022-01-21T00:22:29.173704Z"
    },
    "papermill": {
     "duration": 0.04404,
     "end_time": "2022-01-21T00:22:29.174291",
     "exception": false,
     "start_time": "2022-01-21T00:22:29.130251",
     "status": "completed"
    },
    "tags": []
   },
   "outputs": [
    {
     "data": {
      "text/plain": [
       "((11982, 784), (1984, 784))"
      ]
     },
     "execution_count": 14,
     "metadata": {},
     "output_type": "execute_result"
    }
   ],
   "source": [
    "X_train = X_train.reshape(X_train.shape[0], -1)\n",
    "X_test = X_test.reshape(X_test.shape[0], -1)\n",
    "X_train.shape, X_test.shape"
   ]
  },
  {
   "cell_type": "code",
   "execution_count": 15,
   "id": "73c5f88a",
   "metadata": {
    "execution": {
     "iopub.execute_input": "2022-01-21T00:22:29.235172Z",
     "iopub.status.busy": "2022-01-21T00:22:29.234614Z",
     "iopub.status.idle": "2022-01-21T00:22:29.250625Z",
     "shell.execute_reply": "2022-01-21T00:22:29.251077Z"
    },
    "papermill": {
     "duration": 0.04901,
     "end_time": "2022-01-21T00:22:29.251216",
     "exception": false,
     "start_time": "2022-01-21T00:22:29.202206",
     "status": "completed"
    },
    "tags": []
   },
   "outputs": [],
   "source": [
    "#Impoting functions from 'Kudzu'\n",
    "from kudzu.model import Model\n",
    "from kudzu.train import Learner\n",
    "from kudzu.optim import GD\n",
    "from kudzu.data import Data, Sampler,Dataloader\n",
    "\n",
    "from kudzu.callbacks import AccCallback\n",
    "from kudzu.callbacks import ClfCallback\n",
    "\n",
    "from kudzu.loss import MSE\n",
    "\n",
    "from kudzu.layer import Sigmoid,Relu\n",
    "from kudzu.layer import Affine"
   ]
  },
  {
   "cell_type": "markdown",
   "id": "bc01172a",
   "metadata": {
    "papermill": {
     "duration": 0.027303,
     "end_time": "2022-01-21T00:22:29.309828",
     "exception": false,
     "start_time": "2022-01-21T00:22:29.282525",
     "status": "completed"
    },
    "tags": []
   },
   "source": [
    "### Let us create a `Config` class, to store important parameters. \n",
    "This class essentially plays the role of a dictionary."
   ]
  },
  {
   "cell_type": "code",
   "execution_count": 16,
   "id": "978281aa",
   "metadata": {
    "execution": {
     "iopub.execute_input": "2022-01-21T00:22:29.370420Z",
     "iopub.status.busy": "2022-01-21T00:22:29.369810Z",
     "iopub.status.idle": "2022-01-21T00:22:29.381199Z",
     "shell.execute_reply": "2022-01-21T00:22:29.381700Z"
    },
    "papermill": {
     "duration": 0.043616,
     "end_time": "2022-01-21T00:22:29.381854",
     "exception": false,
     "start_time": "2022-01-21T00:22:29.338238",
     "status": "completed"
    },
    "tags": []
   },
   "outputs": [],
   "source": [
    "class Config:\n",
    "    pass\n",
    "config = Config()\n",
    "config.lr = 0.001\n",
    "config.num_epochs = 250\n",
    "config.bs = 50"
   ]
  },
  {
   "cell_type": "markdown",
   "id": "1385fa59",
   "metadata": {
    "papermill": {
     "duration": 0.028431,
     "end_time": "2022-01-21T00:22:29.438140",
     "exception": false,
     "start_time": "2022-01-21T00:22:29.409709",
     "status": "completed"
    },
    "tags": []
   },
   "source": [
    "### Running Models with the Training data\n",
    "Details about the network layers:\n",
    "- A first affine layer has 784 inputs and does 100 affine transforms. These are followed by a Relu\n",
    "- A second affine layer has 100 inputs from the 100 activations of the past layer, and does 100 affine transforms. These are followed by a Relu\n",
    "- A third affine layer has 100 activations and does 2 affine transformations to create an embedding for visualization. There is no non-linearity here.\n",
    "- A final \"logistic regression\" which has an affine transform from 2 inputs to 1 output, which is squeezed through a sigmoid.\n"
   ]
  },
  {
   "cell_type": "code",
   "execution_count": 17,
   "id": "2b9c66db",
   "metadata": {
    "execution": {
     "iopub.execute_input": "2022-01-21T00:22:29.500583Z",
     "iopub.status.busy": "2022-01-21T00:22:29.500035Z",
     "iopub.status.idle": "2022-01-21T00:22:29.510440Z",
     "shell.execute_reply": "2022-01-21T00:22:29.509993Z"
    },
    "papermill": {
     "duration": 0.044651,
     "end_time": "2022-01-21T00:22:29.510543",
     "exception": false,
     "start_time": "2022-01-21T00:22:29.465892",
     "status": "completed"
    },
    "tags": []
   },
   "outputs": [],
   "source": [
    "data = Data(X_train, y_train.reshape(-1,1))\n",
    "sampler = Sampler(data, config.bs, shuffle=True)\n",
    "\n",
    "dl = Dataloader(data, sampler)\n",
    "\n",
    "opt = GD(config.lr)\n",
    "loss = MSE()"
   ]
  },
  {
   "cell_type": "code",
   "execution_count": 18,
   "id": "b275e4c2",
   "metadata": {
    "execution": {
     "iopub.execute_input": "2022-01-21T00:22:29.579618Z",
     "iopub.status.busy": "2022-01-21T00:22:29.575669Z",
     "iopub.status.idle": "2022-01-21T00:22:29.584096Z",
     "shell.execute_reply": "2022-01-21T00:22:29.584521Z"
    },
    "papermill": {
     "duration": 0.045625,
     "end_time": "2022-01-21T00:22:29.584675",
     "exception": false,
     "start_time": "2022-01-21T00:22:29.539050",
     "status": "completed"
    },
    "tags": []
   },
   "outputs": [],
   "source": [
    "training_data_x = X_train\n",
    "testing_data_x = X_test\n",
    "training_data_y = y_train.reshape(-1,1)\n",
    "testing_data_y = y_test.reshape(-1,1)"
   ]
  },
  {
   "cell_type": "code",
   "execution_count": 19,
   "id": "76951160",
   "metadata": {
    "execution": {
     "iopub.execute_input": "2022-01-21T00:22:29.646285Z",
     "iopub.status.busy": "2022-01-21T00:22:29.645398Z",
     "iopub.status.idle": "2022-01-21T00:22:29.664355Z",
     "shell.execute_reply": "2022-01-21T00:22:29.665025Z"
    },
    "papermill": {
     "duration": 0.052271,
     "end_time": "2022-01-21T00:22:29.665226",
     "exception": false,
     "start_time": "2022-01-21T00:22:29.612955",
     "status": "completed"
    },
    "tags": []
   },
   "outputs": [
    {
     "name": "stdout",
     "output_type": "stream",
     "text": [
      "xavier\n",
      "xavier\n",
      "xavier\n",
      "xavier\n",
      "xavier\n"
     ]
    }
   ],
   "source": [
    "layers = [Affine(\"first\", 784, 100), Relu(\"first\"), Affine(\"second\", 100, 100), Relu(\"second\"), Affine(\"third\", 100, 2), Affine(\"last\", 2, 1), Sigmoid(\"last\")]\n",
    "model_nn = Model(layers)\n",
    "model_lr = Model([Affine(\"logits\", 784, 1), Sigmoid(\"sigmoid\")])"
   ]
  },
  {
   "cell_type": "code",
   "execution_count": 20,
   "id": "6eede77a",
   "metadata": {
    "execution": {
     "iopub.execute_input": "2022-01-21T00:22:29.724545Z",
     "iopub.status.busy": "2022-01-21T00:22:29.724025Z",
     "iopub.status.idle": "2022-01-21T00:22:29.737046Z",
     "shell.execute_reply": "2022-01-21T00:22:29.737504Z"
    },
    "papermill": {
     "duration": 0.044304,
     "end_time": "2022-01-21T00:22:29.737627",
     "exception": false,
     "start_time": "2022-01-21T00:22:29.693323",
     "status": "completed"
    },
    "tags": []
   },
   "outputs": [],
   "source": [
    "nn_learner = Learner(loss, model_nn, opt, config.num_epochs)\n",
    "acc_nn = ClfCallback(nn_learner, config.bs, training_data_x , testing_data_x, training_data_y, testing_data_y)\n",
    "nn_learner.set_callbacks([acc_nn])"
   ]
  },
  {
   "cell_type": "code",
   "execution_count": 21,
   "id": "877b6cc7",
   "metadata": {
    "execution": {
     "iopub.execute_input": "2022-01-21T00:22:29.797259Z",
     "iopub.status.busy": "2022-01-21T00:22:29.796587Z",
     "iopub.status.idle": "2022-01-21T00:22:29.808084Z",
     "shell.execute_reply": "2022-01-21T00:22:29.808510Z"
    },
    "papermill": {
     "duration": 0.044136,
     "end_time": "2022-01-21T00:22:29.808627",
     "exception": false,
     "start_time": "2022-01-21T00:22:29.764491",
     "status": "completed"
    },
    "tags": []
   },
   "outputs": [],
   "source": [
    "lr_learner = Learner(loss, model_lr, opt, config.num_epochs)\n",
    "acc_lr = ClfCallback(lr_learner, config.bs, training_data_x , testing_data_x, training_data_y, testing_data_y)\n",
    "lr_learner.set_callbacks([acc_lr])"
   ]
  },
  {
   "cell_type": "code",
   "execution_count": 22,
   "id": "d9b133c3",
   "metadata": {
    "execution": {
     "iopub.execute_input": "2022-01-21T00:22:29.871411Z",
     "iopub.status.busy": "2022-01-21T00:22:29.869423Z",
     "iopub.status.idle": "2022-01-21T00:24:43.009018Z",
     "shell.execute_reply": "2022-01-21T00:24:43.009848Z"
    },
    "papermill": {
     "duration": 133.172529,
     "end_time": "2022-01-21T00:24:43.010000",
     "exception": false,
     "start_time": "2022-01-21T00:22:29.837471",
     "status": "completed"
    },
    "tags": []
   },
   "outputs": [
    {
     "name": "stdout",
     "output_type": "stream",
     "text": [
      "Epoch 0, Loss 0.2319\n",
      "Training Accuracy: 0.7520, Testing Accuracy: 0.7505\n",
      "\n"
     ]
    },
    {
     "name": "stdout",
     "output_type": "stream",
     "text": [
      "Epoch 10, Loss 0.0768\n",
      "Training Accuracy: 0.9337, Testing Accuracy: 0.9370\n",
      "\n"
     ]
    },
    {
     "name": "stdout",
     "output_type": "stream",
     "text": [
      "Epoch 20, Loss 0.0494\n",
      "Training Accuracy: 0.9493, Testing Accuracy: 0.9531\n",
      "\n"
     ]
    },
    {
     "name": "stdout",
     "output_type": "stream",
     "text": [
      "Epoch 30, Loss 0.0403\n",
      "Training Accuracy: 0.9552, Testing Accuracy: 0.9597\n",
      "\n"
     ]
    },
    {
     "name": "stdout",
     "output_type": "stream",
     "text": [
      "Epoch 40, Loss 0.0357\n",
      "Training Accuracy: 0.9602, Testing Accuracy: 0.9647\n",
      "\n"
     ]
    },
    {
     "name": "stdout",
     "output_type": "stream",
     "text": [
      "Epoch 50, Loss 0.0329\n",
      "Training Accuracy: 0.9620, Testing Accuracy: 0.9667\n",
      "\n"
     ]
    },
    {
     "name": "stdout",
     "output_type": "stream",
     "text": [
      "Epoch 60, Loss 0.0308\n",
      "Training Accuracy: 0.9647, Testing Accuracy: 0.9682\n",
      "\n"
     ]
    },
    {
     "name": "stdout",
     "output_type": "stream",
     "text": [
      "Epoch 70, Loss 0.0293\n",
      "Training Accuracy: 0.9665, Testing Accuracy: 0.9688\n",
      "\n"
     ]
    },
    {
     "name": "stdout",
     "output_type": "stream",
     "text": [
      "Epoch 80, Loss 0.0281\n",
      "Training Accuracy: 0.9679, Testing Accuracy: 0.9688\n",
      "\n"
     ]
    },
    {
     "name": "stdout",
     "output_type": "stream",
     "text": [
      "Epoch 90, Loss 0.027\n",
      "Training Accuracy: 0.9693, Testing Accuracy: 0.9677\n",
      "\n"
     ]
    },
    {
     "name": "stdout",
     "output_type": "stream",
     "text": [
      "Epoch 100, Loss 0.0262\n",
      "Training Accuracy: 0.9703, Testing Accuracy: 0.9677\n",
      "\n"
     ]
    },
    {
     "name": "stdout",
     "output_type": "stream",
     "text": [
      "Epoch 110, Loss 0.0254\n",
      "Training Accuracy: 0.9711, Testing Accuracy: 0.9682\n",
      "\n"
     ]
    },
    {
     "name": "stdout",
     "output_type": "stream",
     "text": [
      "Epoch 120, Loss 0.0247\n",
      "Training Accuracy: 0.9720, Testing Accuracy: 0.9672\n",
      "\n"
     ]
    },
    {
     "name": "stdout",
     "output_type": "stream",
     "text": [
      "Epoch 130, Loss 0.0241\n",
      "Training Accuracy: 0.9730, Testing Accuracy: 0.9677\n",
      "\n"
     ]
    },
    {
     "name": "stdout",
     "output_type": "stream",
     "text": [
      "Epoch 140, Loss 0.0235\n",
      "Training Accuracy: 0.9739, Testing Accuracy: 0.9688\n",
      "\n"
     ]
    },
    {
     "name": "stdout",
     "output_type": "stream",
     "text": [
      "Epoch 150, Loss 0.023\n",
      "Training Accuracy: 0.9744, Testing Accuracy: 0.9698\n",
      "\n"
     ]
    },
    {
     "name": "stdout",
     "output_type": "stream",
     "text": [
      "Epoch 160, Loss 0.0225\n",
      "Training Accuracy: 0.9754, Testing Accuracy: 0.9708\n",
      "\n"
     ]
    },
    {
     "name": "stdout",
     "output_type": "stream",
     "text": [
      "Epoch 170, Loss 0.022\n",
      "Training Accuracy: 0.9757, Testing Accuracy: 0.9703\n",
      "\n"
     ]
    },
    {
     "name": "stdout",
     "output_type": "stream",
     "text": [
      "Epoch 180, Loss 0.0216\n",
      "Training Accuracy: 0.9762, Testing Accuracy: 0.9708\n",
      "\n"
     ]
    },
    {
     "name": "stdout",
     "output_type": "stream",
     "text": [
      "Epoch 190, Loss 0.0211\n",
      "Training Accuracy: 0.9764, Testing Accuracy: 0.9713\n",
      "\n"
     ]
    },
    {
     "name": "stdout",
     "output_type": "stream",
     "text": [
      "Epoch 200, Loss 0.0207\n",
      "Training Accuracy: 0.9770, Testing Accuracy: 0.9713\n",
      "\n"
     ]
    },
    {
     "name": "stdout",
     "output_type": "stream",
     "text": [
      "Epoch 210, Loss 0.0203\n",
      "Training Accuracy: 0.9776, Testing Accuracy: 0.9728\n",
      "\n"
     ]
    },
    {
     "name": "stdout",
     "output_type": "stream",
     "text": [
      "Epoch 220, Loss 0.02\n",
      "Training Accuracy: 0.9780, Testing Accuracy: 0.9728\n",
      "\n"
     ]
    },
    {
     "name": "stdout",
     "output_type": "stream",
     "text": [
      "Epoch 230, Loss 0.0196\n",
      "Training Accuracy: 0.9786, Testing Accuracy: 0.9738\n",
      "\n"
     ]
    },
    {
     "name": "stdout",
     "output_type": "stream",
     "text": [
      "Epoch 240, Loss 0.0192\n",
      "Training Accuracy: 0.9787, Testing Accuracy: 0.9733\n",
      "\n"
     ]
    },
    {
     "data": {
      "text/plain": [
       "0.01556988311556854"
      ]
     },
     "execution_count": 22,
     "metadata": {},
     "output_type": "execute_result"
    }
   ],
   "source": [
    "nn_learner.train_loop(dl)"
   ]
  },
  {
   "cell_type": "code",
   "execution_count": 23,
   "id": "e0163366",
   "metadata": {
    "execution": {
     "iopub.execute_input": "2022-01-21T00:24:43.099261Z",
     "iopub.status.busy": "2022-01-21T00:24:43.098689Z",
     "iopub.status.idle": "2022-01-21T00:25:01.720442Z",
     "shell.execute_reply": "2022-01-21T00:25:01.721480Z"
    },
    "papermill": {
     "duration": 18.671665,
     "end_time": "2022-01-21T00:25:01.721665",
     "exception": false,
     "start_time": "2022-01-21T00:24:43.050000",
     "status": "completed"
    },
    "tags": []
   },
   "outputs": [
    {
     "name": "stdout",
     "output_type": "stream",
     "text": [
      "Epoch 0, Loss 0.2274\n",
      "Training Accuracy: 0.7449, Testing Accuracy: 0.7606\n",
      "\n"
     ]
    },
    {
     "name": "stdout",
     "output_type": "stream",
     "text": [
      "Epoch 10, Loss 0.099\n",
      "Training Accuracy: 0.9135, Testing Accuracy: 0.9244\n",
      "\n"
     ]
    },
    {
     "name": "stdout",
     "output_type": "stream",
     "text": [
      "Epoch 20, Loss 0.0776\n",
      "Training Accuracy: 0.9284, Testing Accuracy: 0.9385\n",
      "\n"
     ]
    },
    {
     "name": "stdout",
     "output_type": "stream",
     "text": [
      "Epoch 30, Loss 0.0674\n",
      "Training Accuracy: 0.9362, Testing Accuracy: 0.9476\n",
      "\n"
     ]
    },
    {
     "name": "stdout",
     "output_type": "stream",
     "text": [
      "Epoch 40, Loss 0.0612\n",
      "Training Accuracy: 0.9403, Testing Accuracy: 0.9516\n",
      "\n"
     ]
    },
    {
     "name": "stdout",
     "output_type": "stream",
     "text": [
      "Epoch 50, Loss 0.0569\n",
      "Training Accuracy: 0.9438, Testing Accuracy: 0.9536\n",
      "\n"
     ]
    },
    {
     "name": "stdout",
     "output_type": "stream",
     "text": [
      "Epoch 60, Loss 0.0537\n",
      "Training Accuracy: 0.9462, Testing Accuracy: 0.9561\n",
      "\n"
     ]
    },
    {
     "name": "stdout",
     "output_type": "stream",
     "text": [
      "Epoch 70, Loss 0.0512\n",
      "Training Accuracy: 0.9484, Testing Accuracy: 0.9587\n",
      "\n"
     ]
    },
    {
     "name": "stdout",
     "output_type": "stream",
     "text": [
      "Epoch 80, Loss 0.0492\n",
      "Training Accuracy: 0.9510, Testing Accuracy: 0.9607\n",
      "\n"
     ]
    },
    {
     "name": "stdout",
     "output_type": "stream",
     "text": [
      "Epoch 90, Loss 0.0475\n",
      "Training Accuracy: 0.9525, Testing Accuracy: 0.9627\n",
      "\n"
     ]
    },
    {
     "name": "stdout",
     "output_type": "stream",
     "text": [
      "Epoch 100, Loss 0.0461\n",
      "Training Accuracy: 0.9534, Testing Accuracy: 0.9642\n",
      "\n"
     ]
    },
    {
     "name": "stdout",
     "output_type": "stream",
     "text": [
      "Epoch 110, Loss 0.0449\n",
      "Training Accuracy: 0.9538, Testing Accuracy: 0.9647\n",
      "\n"
     ]
    },
    {
     "name": "stdout",
     "output_type": "stream",
     "text": [
      "Epoch 120, Loss 0.0439\n",
      "Training Accuracy: 0.9548, Testing Accuracy: 0.9662\n",
      "\n"
     ]
    },
    {
     "name": "stdout",
     "output_type": "stream",
     "text": [
      "Epoch 130, Loss 0.043\n",
      "Training Accuracy: 0.9558, Testing Accuracy: 0.9662\n",
      "\n"
     ]
    },
    {
     "name": "stdout",
     "output_type": "stream",
     "text": [
      "Epoch 140, Loss 0.0421\n",
      "Training Accuracy: 0.9559, Testing Accuracy: 0.9657\n",
      "\n"
     ]
    },
    {
     "name": "stdout",
     "output_type": "stream",
     "text": [
      "Epoch 150, Loss 0.0414\n",
      "Training Accuracy: 0.9568, Testing Accuracy: 0.9662\n",
      "\n"
     ]
    },
    {
     "name": "stdout",
     "output_type": "stream",
     "text": [
      "Epoch 160, Loss 0.0407\n",
      "Training Accuracy: 0.9570, Testing Accuracy: 0.9662\n",
      "\n"
     ]
    },
    {
     "name": "stdout",
     "output_type": "stream",
     "text": [
      "Epoch 170, Loss 0.0401\n",
      "Training Accuracy: 0.9575, Testing Accuracy: 0.9667\n",
      "\n"
     ]
    },
    {
     "name": "stdout",
     "output_type": "stream",
     "text": [
      "Epoch 180, Loss 0.0396\n",
      "Training Accuracy: 0.9581, Testing Accuracy: 0.9667\n",
      "\n"
     ]
    },
    {
     "name": "stdout",
     "output_type": "stream",
     "text": [
      "Epoch 190, Loss 0.039\n",
      "Training Accuracy: 0.9588, Testing Accuracy: 0.9667\n",
      "\n"
     ]
    },
    {
     "name": "stdout",
     "output_type": "stream",
     "text": [
      "Epoch 200, Loss 0.0386\n",
      "Training Accuracy: 0.9591, Testing Accuracy: 0.9667\n",
      "\n"
     ]
    },
    {
     "name": "stdout",
     "output_type": "stream",
     "text": [
      "Epoch 210, Loss 0.0381\n",
      "Training Accuracy: 0.9594, Testing Accuracy: 0.9667\n",
      "\n"
     ]
    },
    {
     "name": "stdout",
     "output_type": "stream",
     "text": [
      "Epoch 220, Loss 0.0377\n",
      "Training Accuracy: 0.9597, Testing Accuracy: 0.9672\n",
      "\n"
     ]
    },
    {
     "name": "stdout",
     "output_type": "stream",
     "text": [
      "Epoch 230, Loss 0.0373\n",
      "Training Accuracy: 0.9599, Testing Accuracy: 0.9682\n",
      "\n"
     ]
    },
    {
     "name": "stdout",
     "output_type": "stream",
     "text": [
      "Epoch 240, Loss 0.037\n",
      "Training Accuracy: 0.9600, Testing Accuracy: 0.9682\n",
      "\n"
     ]
    },
    {
     "data": {
      "text/plain": [
       "0.05336155331777309"
      ]
     },
     "execution_count": 23,
     "metadata": {},
     "output_type": "execute_result"
    }
   ],
   "source": [
    "lr_learner.train_loop(dl)"
   ]
  },
  {
   "cell_type": "code",
   "execution_count": 24,
   "id": "ca410940",
   "metadata": {
    "execution": {
     "iopub.execute_input": "2022-01-21T00:25:01.827290Z",
     "iopub.status.busy": "2022-01-21T00:25:01.826744Z",
     "iopub.status.idle": "2022-01-21T00:25:02.100812Z",
     "shell.execute_reply": "2022-01-21T00:25:02.099927Z"
    },
    "papermill": {
     "duration": 0.330975,
     "end_time": "2022-01-21T00:25:02.100939",
     "exception": false,
     "start_time": "2022-01-21T00:25:01.769964",
     "status": "completed"
    },
    "tags": []
   },
   "outputs": [
    {
     "data": {
      "text/plain": [
       "<matplotlib.legend.Legend at 0x7f9f37b3fc18>"
      ]
     },
     "execution_count": 24,
     "metadata": {},
     "output_type": "execute_result"
    },
    {
     "data": {
      "image/png": "[encoded data removed]",
      "text/plain": [
       "<Figure size 1080x720 with 1 Axes>"
      ]
     },
     "metadata": {
      "needs_background": "light"
     },
     "output_type": "display_data"
    }
   ],
   "source": [
    "#comparing the results of NN and LR\n",
    "plt.figure(figsize=(15,10))\n",
    "\n",
    "# Neural Network plots\n",
    "plt.plot(acc_nn.accuracies, 'r-', label = \"Training Accuracies - NN\")\n",
    "plt.plot(acc_nn.test_accuracies, 'g-', label = \"Testing Accuracies - NN\")\n",
    "\n",
    "# Logistic Regression plots\n",
    "plt.plot(acc_lr.accuracies, 'k-', label = \"Training Accuracies - LR\")\n",
    "plt.plot(acc_lr.test_accuracies, 'b-', label = \"Testing Accuracies - LR\")\n",
    "plt.legend()"
   ]
  },
  {
   "cell_type": "markdown",
   "id": "80dfb35c",
   "metadata": {
    "papermill": {
     "duration": 0.043355,
     "end_time": "2022-01-21T00:25:02.189254",
     "exception": false,
     "start_time": "2022-01-21T00:25:02.145899",
     "status": "completed"
    },
    "tags": []
   },
   "source": [
    "#### Plotting the outputs of this layer of the NN.\n"
   ]
  },
  {
   "cell_type": "code",
   "execution_count": 25,
   "id": "45eb2ff5",
   "metadata": {
    "execution": {
     "iopub.execute_input": "2022-01-21T00:25:02.290973Z",
     "iopub.status.busy": "2022-01-21T00:25:02.290389Z",
     "iopub.status.idle": "2022-01-21T00:25:02.316002Z",
     "shell.execute_reply": "2022-01-21T00:25:02.316538Z"
    },
    "papermill": {
     "duration": 0.077659,
     "end_time": "2022-01-21T00:25:02.316674",
     "exception": false,
     "start_time": "2022-01-21T00:25:02.239015",
     "status": "completed"
    },
    "tags": []
   },
   "outputs": [],
   "source": [
    "new_model = Model(layers[:-2])\n",
    "testing_plot = new_model(testing_data_x)"
   ]
  },
  {
   "cell_type": "code",
   "execution_count": 26,
   "id": "4c0a5485",
   "metadata": {
    "execution": {
     "iopub.execute_input": "2022-01-21T00:25:02.427274Z",
     "iopub.status.busy": "2022-01-21T00:25:02.426633Z",
     "iopub.status.idle": "2022-01-21T00:25:02.643194Z",
     "shell.execute_reply": "2022-01-21T00:25:02.642406Z"
    },
    "papermill": {
     "duration": 0.280882,
     "end_time": "2022-01-21T00:25:02.643313",
     "exception": false,
     "start_time": "2022-01-21T00:25:02.362431",
     "status": "completed"
    },
    "tags": []
   },
   "outputs": [
    {
     "data": {
      "text/plain": [
       "Text(0.5, 1.0, 'Outputs')"
      ]
     },
     "execution_count": 26,
     "metadata": {},
     "output_type": "execute_result"
    },
    {
     "data": {
      "image/png": "[encoded data removed]",
      "text/plain": [
       "<Figure size 576x504 with 1 Axes>"
      ]
     },
     "metadata": {
      "needs_background": "light"
     },
     "output_type": "display_data"
    }
   ],
   "source": [
    "# Plotting the scatter plot of points and color coding by class\n",
    "plt.figure(figsize=(8,7))\n",
    "plt.scatter(testing_plot[:,0], testing_plot[:,1], alpha = 0.1, c = y_test.ravel());\n",
    "plt.title('Outputs')"
   ]
  },
  {
   "cell_type": "markdown",
   "id": "a74fcf8f",
   "metadata": {
    "papermill": {
     "duration": 0.044989,
     "end_time": "2022-01-21T00:25:02.733952",
     "exception": false,
     "start_time": "2022-01-21T00:25:02.688963",
     "status": "completed"
    },
    "tags": []
   },
   "source": [
    "Probability contours"
   ]
  },
  {
   "cell_type": "code",
   "execution_count": 27,
   "id": "d0afc8e3",
   "metadata": {
    "execution": {
     "iopub.execute_input": "2022-01-21T00:25:02.833909Z",
     "iopub.status.busy": "2022-01-21T00:25:02.833308Z",
     "iopub.status.idle": "2022-01-21T00:25:02.845136Z",
     "shell.execute_reply": "2022-01-21T00:25:02.844570Z"
    },
    "papermill": {
     "duration": 0.06352,
     "end_time": "2022-01-21T00:25:02.845270",
     "exception": false,
     "start_time": "2022-01-21T00:25:02.781750",
     "status": "completed"
    },
    "tags": []
   },
   "outputs": [],
   "source": [
    "model_prob = Model(layers[-2:]) "
   ]
  },
  {
   "cell_type": "code",
   "execution_count": 28,
   "id": "9b96e238",
   "metadata": {
    "execution": {
     "iopub.execute_input": "2022-01-21T00:25:02.959230Z",
     "iopub.status.busy": "2022-01-21T00:25:02.957699Z",
     "iopub.status.idle": "2022-01-21T00:25:02.963875Z",
     "shell.execute_reply": "2022-01-21T00:25:02.964392Z"
    },
    "papermill": {
     "duration": 0.071052,
     "end_time": "2022-01-21T00:25:02.964510",
     "exception": false,
     "start_time": "2022-01-21T00:25:02.893458",
     "status": "completed"
    },
    "tags": []
   },
   "outputs": [],
   "source": [
    "#creating the x and y ranges according to the above generated plot.\n",
    "x_range = np.linspace(-4, 1, 100) \n",
    "y_range = np.linspace(-6, 6, 100) \n",
    "x_grid, y_grid = np.meshgrid(x_range, y_range) # x_grid and y_grig are of size 100 X 100\n",
    "\n",
    "# converting x_grid and y_grid to continuous arrays\n",
    "x_gridflat = np.ravel(x_grid)\n",
    "y_gridflat = np.ravel(y_grid)\n",
    "\n",
    "# The last layer of the current model takes two columns as input. Hence transpose of np.vstack() is required.\n",
    "X = np.vstack((x_gridflat, y_gridflat)).T\n",
    "\n",
    "prob_contour = model_prob(X).reshape(100,100) "
   ]
  },
  {
   "cell_type": "code",
   "execution_count": 29,
   "id": "da72499a",
   "metadata": {
    "execution": {
     "iopub.execute_input": "2022-01-21T00:25:03.094106Z",
     "iopub.status.busy": "2022-01-21T00:25:03.093390Z",
     "iopub.status.idle": "2022-01-21T00:25:03.376382Z",
     "shell.execute_reply": "2022-01-21T00:25:03.376847Z"
    },
    "papermill": {
     "duration": 0.341817,
     "end_time": "2022-01-21T00:25:03.376997",
     "exception": false,
     "start_time": "2022-01-21T00:25:03.035180",
     "status": "completed"
    },
    "tags": []
   },
   "outputs": [
    {
     "data": {
      "image/png": "[encoded data removed]",
      "text/plain": [
       "<Figure size 720x648 with 1 Axes>"
      ]
     },
     "metadata": {
      "needs_background": "light"
     },
     "output_type": "display_data"
    }
   ],
   "source": [
    "plt.figure(figsize=(10,9))\n",
    "plt.scatter(testing_plot[:,0], testing_plot[:,1], alpha = 0.1, c = y_test.ravel())\n",
    "contours = plt.contour(x_grid,y_grid,prob_contour)\n",
    "plt.title('Probability Contours')\n",
    "plt.clabel(contours, inline = True );"
   ]
  },
  {
   "cell_type": "code",
   "execution_count": null,
   "id": "e81b4ac7",
   "metadata": {
    "papermill": {
     "duration": 0.046879,
     "end_time": "2022-01-21T00:25:03.473310",
     "exception": false,
     "start_time": "2022-01-21T00:25:03.426431",
     "status": "completed"
    },
    "tags": []
   },
   "outputs": [],
   "source": []
  }
 ],
 "metadata": {
  "kernelspec": {
   "display_name": "Python 3",
   "language": "python",
   "name": "python3"
  },
  "language_info": {
   "codemirror_mode": {
    "name": "ipython",
    "version": 3
   },
   "file_extension": ".py",
   "mimetype": "text/x-python",
   "name": "python",
   "nbconvert_exporter": "python",
   "pygments_lexer": "ipython3",
   "version": "3.6.15"
  },
  "papermill": {
   "default_parameters": {},
   "duration": 160.495526,
   "end_time": "2022-01-21T00:25:03.839320",
   "environment_variables": {},
   "exception": null,
   "input_path": "2020-08-11-part2.ipynb",
   "output_path": "2020-08-11-part2.ipynb",
   "parameters": {},
   "start_time": "2022-01-21T00:22:23.343794",
   "version": "2.3.3"
  }
 },
 "nbformat": 4,
 "nbformat_minor": 5
}