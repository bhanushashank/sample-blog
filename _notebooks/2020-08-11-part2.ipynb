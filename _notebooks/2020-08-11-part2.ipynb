{
 "cells": [
  {
   "cell_type": "markdown",
   "id": "98380cd3",
   "metadata": {
    "papermill": {
     "duration": 0.0285,
     "end_time": "2022-09-28T10:12:16.260577",
     "exception": false,
     "start_time": "2022-09-28T10:12:16.232077",
     "status": "completed"
    },
    "tags": []
   },
   "source": [
    "# Distinguish Your Own Digits (DYOD)"
   ]
  },
  {
   "cell_type": "markdown",
   "id": "ef31240d",
   "metadata": {
    "papermill": {
     "duration": 0.02529,
     "end_time": "2022-09-28T10:12:16.310997",
     "exception": false,
     "start_time": "2022-09-28T10:12:16.285707",
     "status": "completed"
    },
    "tags": []
   },
   "source": [
    "You are going to write a classifier that distinguishes between the number 3 and number 8."
   ]
  },
  {
   "cell_type": "code",
   "execution_count": 1,
   "id": "b15c8646",
   "metadata": {
    "execution": {
     "iopub.execute_input": "2022-09-28T10:12:16.371881Z",
     "iopub.status.busy": "2022-09-28T10:12:16.371294Z",
     "iopub.status.idle": "2022-09-28T10:12:16.382566Z",
     "shell.execute_reply": "2022-09-28T10:12:16.381985Z"
    },
    "papermill": {
     "duration": 0.045909,
     "end_time": "2022-09-28T10:12:16.382687",
     "exception": false,
     "start_time": "2022-09-28T10:12:16.336778",
     "status": "completed"
    },
    "tags": []
   },
   "outputs": [],
   "source": [
    "%load_ext autoreload\n",
    "%autoreload 2"
   ]
  },
  {
   "cell_type": "code",
   "execution_count": 2,
   "id": "22ef38dc",
   "metadata": {
    "execution": {
     "iopub.execute_input": "2022-09-28T10:12:16.437495Z",
     "iopub.status.busy": "2022-09-28T10:12:16.436876Z",
     "iopub.status.idle": "2022-09-28T10:12:16.977854Z",
     "shell.execute_reply": "2022-09-28T10:12:16.977231Z"
    },
    "papermill": {
     "duration": 0.56974,
     "end_time": "2022-09-28T10:12:16.977988",
     "exception": false,
     "start_time": "2022-09-28T10:12:16.408248",
     "status": "completed"
    },
    "tags": []
   },
   "outputs": [],
   "source": [
    "%matplotlib inline\n",
    "import numpy as np\n",
    "import matplotlib.pyplot as plt\n",
    "import pandas as pd"
   ]
  },
  {
   "cell_type": "markdown",
   "id": "ba036198",
   "metadata": {
    "papermill": {
     "duration": 0.025767,
     "end_time": "2022-09-28T10:12:17.029683",
     "exception": false,
     "start_time": "2022-09-28T10:12:17.003916",
     "status": "completed"
    },
    "tags": []
   },
   "source": [
    "From the command line run `pip install mnist`. This is a library that will help you bring down the mnist dataset. If you run this from a notebook, you need to put  `!pip install mnist` in a cell by itself."
   ]
  },
  {
   "cell_type": "code",
   "execution_count": 3,
   "id": "bb6ad8a1",
   "metadata": {
    "execution": {
     "iopub.execute_input": "2022-09-28T10:12:17.085227Z",
     "iopub.status.busy": "2022-09-28T10:12:17.084527Z",
     "iopub.status.idle": "2022-09-28T10:12:18.733417Z",
     "shell.execute_reply": "2022-09-28T10:12:18.733909Z"
    },
    "papermill": {
     "duration": 1.678921,
     "end_time": "2022-09-28T10:12:18.734064",
     "exception": false,
     "start_time": "2022-09-28T10:12:17.055143",
     "status": "completed"
    },
    "tags": []
   },
   "outputs": [
    {
     "name": "stdout",
     "output_type": "stream",
     "text": [
      "Collecting mnist\r\n"
     ]
    },
    {
     "name": "stdout",
     "output_type": "stream",
     "text": [
      "  Downloading mnist-0.2.2-py2.py3-none-any.whl (3.5 kB)\r\n",
      "Requirement already satisfied: numpy in /opt/hostedtoolcache/Python/3.6.15/x64/lib/python3.6/site-packages (from mnist) (1.19.5)\r\n"
     ]
    },
    {
     "name": "stdout",
     "output_type": "stream",
     "text": [
      "Installing collected packages: mnist\r\n"
     ]
    },
    {
     "name": "stdout",
     "output_type": "stream",
     "text": [
      "Successfully installed mnist-0.2.2\r\n"
     ]
    }
   ],
   "source": [
    "!pip install mnist"
   ]
  },
  {
   "cell_type": "markdown",
   "id": "69df9c9a",
   "metadata": {
    "papermill": {
     "duration": 0.025105,
     "end_time": "2022-09-28T10:12:18.784992",
     "exception": false,
     "start_time": "2022-09-28T10:12:18.759887",
     "status": "completed"
    },
    "tags": []
   },
   "source": [
    "## Preparing the Data"
   ]
  },
  {
   "cell_type": "code",
   "execution_count": 4,
   "id": "7f69d806",
   "metadata": {
    "execution": {
     "iopub.execute_input": "2022-09-28T10:12:18.842305Z",
     "iopub.status.busy": "2022-09-28T10:12:18.841675Z",
     "iopub.status.idle": "2022-09-28T10:12:18.856475Z",
     "shell.execute_reply": "2022-09-28T10:12:18.856010Z"
    },
    "papermill": {
     "duration": 0.045426,
     "end_time": "2022-09-28T10:12:18.856583",
     "exception": false,
     "start_time": "2022-09-28T10:12:18.811157",
     "status": "completed"
    },
    "tags": []
   },
   "outputs": [],
   "source": [
    "import mnist"
   ]
  },
  {
   "cell_type": "code",
   "execution_count": 5,
   "id": "a411e44f",
   "metadata": {
    "execution": {
     "iopub.execute_input": "2022-09-28T10:12:18.910907Z",
     "iopub.status.busy": "2022-09-28T10:12:18.910038Z",
     "iopub.status.idle": "2022-09-28T10:12:19.415413Z",
     "shell.execute_reply": "2022-09-28T10:12:19.414707Z"
    },
    "papermill": {
     "duration": 0.53359,
     "end_time": "2022-09-28T10:12:19.415549",
     "exception": false,
     "start_time": "2022-09-28T10:12:18.881959",
     "status": "completed"
    },
    "tags": []
   },
   "outputs": [],
   "source": [
    "train_images = mnist.train_images()\n",
    "train_labels = mnist.train_labels()"
   ]
  },
  {
   "cell_type": "code",
   "execution_count": 6,
   "id": "dceab3a5",
   "metadata": {
    "execution": {
     "iopub.execute_input": "2022-09-28T10:12:19.472158Z",
     "iopub.status.busy": "2022-09-28T10:12:19.471565Z",
     "iopub.status.idle": "2022-09-28T10:12:19.485542Z",
     "shell.execute_reply": "2022-09-28T10:12:19.486039Z"
    },
    "papermill": {
     "duration": 0.044031,
     "end_time": "2022-09-28T10:12:19.486158",
     "exception": false,
     "start_time": "2022-09-28T10:12:19.442127",
     "status": "completed"
    },
    "tags": []
   },
   "outputs": [
    {
     "data": {
      "text/plain": [
       "((60000, 28, 28), (60000,))"
      ]
     },
     "execution_count": 6,
     "metadata": {},
     "output_type": "execute_result"
    }
   ],
   "source": [
    "train_images.shape, train_labels.shape"
   ]
  },
  {
   "cell_type": "code",
   "execution_count": 7,
   "id": "f50dc2bb",
   "metadata": {
    "execution": {
     "iopub.execute_input": "2022-09-28T10:12:19.540867Z",
     "iopub.status.busy": "2022-09-28T10:12:19.540187Z",
     "iopub.status.idle": "2022-09-28T10:12:19.655860Z",
     "shell.execute_reply": "2022-09-28T10:12:19.655221Z"
    },
    "papermill": {
     "duration": 0.144337,
     "end_time": "2022-09-28T10:12:19.655984",
     "exception": false,
     "start_time": "2022-09-28T10:12:19.511647",
     "status": "completed"
    },
    "tags": []
   },
   "outputs": [],
   "source": [
    "test_images = mnist.test_images()\n",
    "test_labels = mnist.test_labels()"
   ]
  },
  {
   "cell_type": "code",
   "execution_count": 8,
   "id": "fc38cf1b",
   "metadata": {
    "execution": {
     "iopub.execute_input": "2022-09-28T10:12:19.712873Z",
     "iopub.status.busy": "2022-09-28T10:12:19.712233Z",
     "iopub.status.idle": "2022-09-28T10:12:19.725322Z",
     "shell.execute_reply": "2022-09-28T10:12:19.724843Z"
    },
    "papermill": {
     "duration": 0.04321,
     "end_time": "2022-09-28T10:12:19.725521",
     "exception": false,
     "start_time": "2022-09-28T10:12:19.682311",
     "status": "completed"
    },
    "tags": []
   },
   "outputs": [
    {
     "data": {
      "text/plain": [
       "((10000, 28, 28), (10000,))"
      ]
     },
     "execution_count": 8,
     "metadata": {},
     "output_type": "execute_result"
    }
   ],
   "source": [
    "test_images.shape, test_labels.shape"
   ]
  },
  {
   "cell_type": "code",
   "execution_count": 9,
   "id": "f9ed8fe0",
   "metadata": {
    "execution": {
     "iopub.execute_input": "2022-09-28T10:12:19.791031Z",
     "iopub.status.busy": "2022-09-28T10:12:19.790386Z",
     "iopub.status.idle": "2022-09-28T10:12:19.965382Z",
     "shell.execute_reply": "2022-09-28T10:12:19.964901Z"
    },
    "papermill": {
     "duration": 0.20885,
     "end_time": "2022-09-28T10:12:19.965505",
     "exception": false,
     "start_time": "2022-09-28T10:12:19.756655",
     "status": "completed"
    },
    "tags": []
   },
   "outputs": [
    {
     "name": "stdout",
     "output_type": "stream",
     "text": [
      "2\n"
     ]
    },
    {
     "data": {
      "text/plain": [
       "<matplotlib.image.AxesImage at 0x7fc60b5a8c88>"
      ]
     },
     "execution_count": 9,
     "metadata": {},
     "output_type": "execute_result"
    },
    {
     "data": {
      "image/png": "[encoded data removed]",
      "text/plain": [
       "<Figure size 432x288 with 1 Axes>"
      ]
     },
     "metadata": {
      "needs_background": "light"
     },
     "output_type": "display_data"
    }
   ],
   "source": [
    "image_index = 7776 # You may select anything up to 60,000\n",
    "print(train_labels[image_index]) \n",
    "plt.imshow(train_images[image_index], cmap='Greys')"
   ]
  },
  {
   "cell_type": "markdown",
   "id": "a8d2388d",
   "metadata": {
    "papermill": {
     "duration": 0.027007,
     "end_time": "2022-09-28T10:12:20.019586",
     "exception": false,
     "start_time": "2022-09-28T10:12:19.992579",
     "status": "completed"
    },
    "tags": []
   },
   "source": [
    "## Filter data to get 3 and 8 out"
   ]
  },
  {
   "cell_type": "code",
   "execution_count": 10,
   "id": "776f7fc7",
   "metadata": {
    "execution": {
     "iopub.execute_input": "2022-09-28T10:12:20.082025Z",
     "iopub.status.busy": "2022-09-28T10:12:20.079906Z",
     "iopub.status.idle": "2022-09-28T10:12:20.098057Z",
     "shell.execute_reply": "2022-09-28T10:12:20.097457Z"
    },
    "papermill": {
     "duration": 0.051126,
     "end_time": "2022-09-28T10:12:20.098166",
     "exception": false,
     "start_time": "2022-09-28T10:12:20.047040",
     "status": "completed"
    },
    "tags": []
   },
   "outputs": [],
   "source": [
    "train_filter = np.where((train_labels == 3 ) | (train_labels == 8))\n",
    "test_filter = np.where((test_labels == 3) | (test_labels == 8))\n",
    "X_train, y_train = train_images[train_filter], train_labels[train_filter]\n",
    "X_test, y_test = test_images[test_filter], test_labels[test_filter]"
   ]
  },
  {
   "cell_type": "markdown",
   "id": "948f0b7e",
   "metadata": {
    "papermill": {
     "duration": 0.02641,
     "end_time": "2022-09-28T10:12:20.151561",
     "exception": false,
     "start_time": "2022-09-28T10:12:20.125151",
     "status": "completed"
    },
    "tags": []
   },
   "source": [
    "We normalize the pizel values in the 0 to 1 range"
   ]
  },
  {
   "cell_type": "code",
   "execution_count": 11,
   "id": "ee4c2166",
   "metadata": {
    "execution": {
     "iopub.execute_input": "2022-09-28T10:12:20.208634Z",
     "iopub.status.busy": "2022-09-28T10:12:20.208043Z",
     "iopub.status.idle": "2022-09-28T10:12:20.265601Z",
     "shell.execute_reply": "2022-09-28T10:12:20.265085Z"
    },
    "papermill": {
     "duration": 0.087225,
     "end_time": "2022-09-28T10:12:20.265734",
     "exception": false,
     "start_time": "2022-09-28T10:12:20.178509",
     "status": "completed"
    },
    "tags": []
   },
   "outputs": [],
   "source": [
    "X_train = X_train/255.\n",
    "X_test = X_test/255."
   ]
  },
  {
   "cell_type": "markdown",
   "id": "ddcf4fab",
   "metadata": {
    "papermill": {
     "duration": 0.026554,
     "end_time": "2022-09-28T10:12:20.320285",
     "exception": false,
     "start_time": "2022-09-28T10:12:20.293731",
     "status": "completed"
    },
    "tags": []
   },
   "source": [
    "And setup the labels as 1 (when the digit is 3) and 0 (when the digit is 8)"
   ]
  },
  {
   "cell_type": "code",
   "execution_count": 12,
   "id": "7dc908f2",
   "metadata": {
    "execution": {
     "iopub.execute_input": "2022-09-28T10:12:20.377779Z",
     "iopub.status.busy": "2022-09-28T10:12:20.377200Z",
     "iopub.status.idle": "2022-09-28T10:12:20.389239Z",
     "shell.execute_reply": "2022-09-28T10:12:20.389791Z"
    },
    "papermill": {
     "duration": 0.042239,
     "end_time": "2022-09-28T10:12:20.389903",
     "exception": false,
     "start_time": "2022-09-28T10:12:20.347664",
     "status": "completed"
    },
    "tags": []
   },
   "outputs": [],
   "source": [
    "y_train = 1*(y_train==3)\n",
    "y_test = 1*(y_test==3)"
   ]
  },
  {
   "cell_type": "code",
   "execution_count": 13,
   "id": "01e4e969",
   "metadata": {
    "execution": {
     "iopub.execute_input": "2022-09-28T10:12:20.449050Z",
     "iopub.status.busy": "2022-09-28T10:12:20.448422Z",
     "iopub.status.idle": "2022-09-28T10:12:20.459878Z",
     "shell.execute_reply": "2022-09-28T10:12:20.459404Z"
    },
    "papermill": {
     "duration": 0.043671,
     "end_time": "2022-09-28T10:12:20.459980",
     "exception": false,
     "start_time": "2022-09-28T10:12:20.416309",
     "status": "completed"
    },
    "tags": []
   },
   "outputs": [
    {
     "data": {
      "text/plain": [
       "((11982, 28, 28), (1984, 28, 28))"
      ]
     },
     "execution_count": 13,
     "metadata": {},
     "output_type": "execute_result"
    }
   ],
   "source": [
    "X_train.shape, X_test.shape"
   ]
  },
  {
   "cell_type": "markdown",
   "id": "5ccf3f85",
   "metadata": {
    "papermill": {
     "duration": 0.030022,
     "end_time": "2022-09-28T10:12:20.521889",
     "exception": false,
     "start_time": "2022-09-28T10:12:20.491867",
     "status": "completed"
    },
    "tags": []
   },
   "source": [
    "We reshape the data to flatten the image pixels into a set of features or co-variates:"
   ]
  },
  {
   "cell_type": "code",
   "execution_count": 14,
   "id": "5286a4a3",
   "metadata": {
    "execution": {
     "iopub.execute_input": "2022-09-28T10:12:20.582448Z",
     "iopub.status.busy": "2022-09-28T10:12:20.581836Z",
     "iopub.status.idle": "2022-09-28T10:12:20.594771Z",
     "shell.execute_reply": "2022-09-28T10:12:20.595264Z"
    },
    "papermill": {
     "duration": 0.045216,
     "end_time": "2022-09-28T10:12:20.595386",
     "exception": false,
     "start_time": "2022-09-28T10:12:20.550170",
     "status": "completed"
    },
    "tags": []
   },
   "outputs": [
    {
     "data": {
      "text/plain": [
       "((11982, 784), (1984, 784))"
      ]
     },
     "execution_count": 14,
     "metadata": {},
     "output_type": "execute_result"
    }
   ],
   "source": [
    "X_train = X_train.reshape(X_train.shape[0], -1)\n",
    "X_test = X_test.reshape(X_test.shape[0], -1)\n",
    "X_train.shape, X_test.shape"
   ]
  },
  {
   "cell_type": "code",
   "execution_count": 15,
   "id": "73c5f88a",
   "metadata": {
    "execution": {
     "iopub.execute_input": "2022-09-28T10:12:20.656290Z",
     "iopub.status.busy": "2022-09-28T10:12:20.655678Z",
     "iopub.status.idle": "2022-09-28T10:12:20.673349Z",
     "shell.execute_reply": "2022-09-28T10:12:20.672854Z"
    },
    "papermill": {
     "duration": 0.049881,
     "end_time": "2022-09-28T10:12:20.673454",
     "exception": false,
     "start_time": "2022-09-28T10:12:20.623573",
     "status": "completed"
    },
    "tags": []
   },
   "outputs": [],
   "source": [
    "#Impoting functions from 'Kudzu'\n",
    "from kudzu.model import Model\n",
    "from kudzu.train import Learner\n",
    "from kudzu.optim import GD\n",
    "from kudzu.data import Data, Sampler,Dataloader\n",
    "\n",
    "from kudzu.callbacks import AccCallback\n",
    "from kudzu.callbacks import ClfCallback\n",
    "\n",
    "from kudzu.loss import MSE\n",
    "\n",
    "from kudzu.layer import Sigmoid,Relu\n",
    "from kudzu.layer import Affine"
   ]
  },
  {
   "cell_type": "markdown",
   "id": "bc01172a",
   "metadata": {
    "papermill": {
     "duration": 0.028304,
     "end_time": "2022-09-28T10:12:20.731014",
     "exception": false,
     "start_time": "2022-09-28T10:12:20.702710",
     "status": "completed"
    },
    "tags": []
   },
   "source": [
    "### Let us create a `Config` class, to store important parameters. \n",
    "This class essentially plays the role of a dictionary."
   ]
  },
  {
   "cell_type": "code",
   "execution_count": 16,
   "id": "978281aa",
   "metadata": {
    "execution": {
     "iopub.execute_input": "2022-09-28T10:12:20.789570Z",
     "iopub.status.busy": "2022-09-28T10:12:20.788886Z",
     "iopub.status.idle": "2022-09-28T10:12:20.800909Z",
     "shell.execute_reply": "2022-09-28T10:12:20.800381Z"
    },
    "papermill": {
     "duration": 0.042508,
     "end_time": "2022-09-28T10:12:20.801019",
     "exception": false,
     "start_time": "2022-09-28T10:12:20.758511",
     "status": "completed"
    },
    "tags": []
   },
   "outputs": [],
   "source": [
    "class Config:\n",
    "    pass\n",
    "config = Config()\n",
    "config.lr = 0.001\n",
    "config.num_epochs = 250\n",
    "config.bs = 50"
   ]
  },
  {
   "cell_type": "markdown",
   "id": "1385fa59",
   "metadata": {
    "papermill": {
     "duration": 0.027504,
     "end_time": "2022-09-28T10:12:20.855954",
     "exception": false,
     "start_time": "2022-09-28T10:12:20.828450",
     "status": "completed"
    },
    "tags": []
   },
   "source": [
    "### Running Models with the Training data\n",
    "Details about the network layers:\n",
    "- A first affine layer has 784 inputs and does 100 affine transforms. These are followed by a Relu\n",
    "- A second affine layer has 100 inputs from the 100 activations of the past layer, and does 100 affine transforms. These are followed by a Relu\n",
    "- A third affine layer has 100 activations and does 2 affine transformations to create an embedding for visualization. There is no non-linearity here.\n",
    "- A final \"logistic regression\" which has an affine transform from 2 inputs to 1 output, which is squeezed through a sigmoid.\n"
   ]
  },
  {
   "cell_type": "code",
   "execution_count": 17,
   "id": "2b9c66db",
   "metadata": {
    "execution": {
     "iopub.execute_input": "2022-09-28T10:12:20.917416Z",
     "iopub.status.busy": "2022-09-28T10:12:20.916789Z",
     "iopub.status.idle": "2022-09-28T10:12:20.928902Z",
     "shell.execute_reply": "2022-09-28T10:12:20.928287Z"
    },
    "papermill": {
     "duration": 0.043863,
     "end_time": "2022-09-28T10:12:20.929077",
     "exception": false,
     "start_time": "2022-09-28T10:12:20.885214",
     "status": "completed"
    },
    "tags": []
   },
   "outputs": [],
   "source": [
    "data = Data(X_train, y_train.reshape(-1,1))\n",
    "sampler = Sampler(data, config.bs, shuffle=True)\n",
    "\n",
    "dl = Dataloader(data, sampler)\n",
    "\n",
    "opt = GD(config.lr)\n",
    "loss = MSE()"
   ]
  },
  {
   "cell_type": "code",
   "execution_count": 18,
   "id": "b275e4c2",
   "metadata": {
    "execution": {
     "iopub.execute_input": "2022-09-28T10:12:20.997732Z",
     "iopub.status.busy": "2022-09-28T10:12:20.994555Z",
     "iopub.status.idle": "2022-09-28T10:12:21.005998Z",
     "shell.execute_reply": "2022-09-28T10:12:21.005524Z"
    },
    "papermill": {
     "duration": 0.043513,
     "end_time": "2022-09-28T10:12:21.006103",
     "exception": false,
     "start_time": "2022-09-28T10:12:20.962590",
     "status": "completed"
    },
    "tags": []
   },
   "outputs": [],
   "source": [
    "training_data_x = X_train\n",
    "testing_data_x = X_test\n",
    "training_data_y = y_train.reshape(-1,1)\n",
    "testing_data_y = y_test.reshape(-1,1)"
   ]
  },
  {
   "cell_type": "code",
   "execution_count": 19,
   "id": "76951160",
   "metadata": {
    "execution": {
     "iopub.execute_input": "2022-09-28T10:12:21.068235Z",
     "iopub.status.busy": "2022-09-28T10:12:21.067631Z",
     "iopub.status.idle": "2022-09-28T10:12:21.082477Z",
     "shell.execute_reply": "2022-09-28T10:12:21.083033Z"
    },
    "papermill": {
     "duration": 0.049242,
     "end_time": "2022-09-28T10:12:21.083148",
     "exception": false,
     "start_time": "2022-09-28T10:12:21.033906",
     "status": "completed"
    },
    "tags": []
   },
   "outputs": [
    {
     "name": "stdout",
     "output_type": "stream",
     "text": [
      "xavier\n",
      "xavier\n",
      "xavier\n",
      "xavier\n",
      "xavier\n"
     ]
    }
   ],
   "source": [
    "layers = [Affine(\"first\", 784, 100), Relu(\"first\"), Affine(\"second\", 100, 100), Relu(\"second\"), Affine(\"third\", 100, 2), Affine(\"last\", 2, 1), Sigmoid(\"last\")]\n",
    "model_nn = Model(layers)\n",
    "model_lr = Model([Affine(\"logits\", 784, 1), Sigmoid(\"sigmoid\")])"
   ]
  },
  {
   "cell_type": "code",
   "execution_count": 20,
   "id": "6eede77a",
   "metadata": {
    "execution": {
     "iopub.execute_input": "2022-09-28T10:12:21.143206Z",
     "iopub.status.busy": "2022-09-28T10:12:21.142635Z",
     "iopub.status.idle": "2022-09-28T10:12:21.152658Z",
     "shell.execute_reply": "2022-09-28T10:12:21.153241Z"
    },
    "papermill": {
     "duration": 0.042014,
     "end_time": "2022-09-28T10:12:21.153354",
     "exception": false,
     "start_time": "2022-09-28T10:12:21.111340",
     "status": "completed"
    },
    "tags": []
   },
   "outputs": [],
   "source": [
    "nn_learner = Learner(loss, model_nn, opt, config.num_epochs)\n",
    "acc_nn = ClfCallback(nn_learner, config.bs, training_data_x , testing_data_x, training_data_y, testing_data_y)\n",
    "nn_learner.set_callbacks([acc_nn])"
   ]
  },
  {
   "cell_type": "code",
   "execution_count": 21,
   "id": "877b6cc7",
   "metadata": {
    "execution": {
     "iopub.execute_input": "2022-09-28T10:12:21.211509Z",
     "iopub.status.busy": "2022-09-28T10:12:21.210848Z",
     "iopub.status.idle": "2022-09-28T10:12:21.221069Z",
     "shell.execute_reply": "2022-09-28T10:12:21.221623Z"
    },
    "papermill": {
     "duration": 0.041054,
     "end_time": "2022-09-28T10:12:21.221736",
     "exception": false,
     "start_time": "2022-09-28T10:12:21.180682",
     "status": "completed"
    },
    "tags": []
   },
   "outputs": [],
   "source": [
    "lr_learner = Learner(loss, model_lr, opt, config.num_epochs)\n",
    "acc_lr = ClfCallback(lr_learner, config.bs, training_data_x , testing_data_x, training_data_y, testing_data_y)\n",
    "lr_learner.set_callbacks([acc_lr])"
   ]
  },
  {
   "cell_type": "code",
   "execution_count": 22,
   "id": "d9b133c3",
   "metadata": {
    "execution": {
     "iopub.execute_input": "2022-09-28T10:12:21.281717Z",
     "iopub.status.busy": "2022-09-28T10:12:21.281145Z",
     "iopub.status.idle": "2022-09-28T10:14:34.755831Z",
     "shell.execute_reply": "2022-09-28T10:14:34.756741Z"
    },
    "papermill": {
     "duration": 133.506805,
     "end_time": "2022-09-28T10:14:34.756900",
     "exception": false,
     "start_time": "2022-09-28T10:12:21.250095",
     "status": "completed"
    },
    "tags": []
   },
   "outputs": [
    {
     "name": "stdout",
     "output_type": "stream",
     "text": [
      "Epoch 0, Loss 0.2493\n",
      "Training Accuracy: 0.5752, Testing Accuracy: 0.5610\n",
      "\n"
     ]
    },
    {
     "name": "stdout",
     "output_type": "stream",
     "text": [
      "Epoch 10, Loss 0.1001\n",
      "Training Accuracy: 0.9146, Testing Accuracy: 0.9239\n",
      "\n"
     ]
    },
    {
     "name": "stdout",
     "output_type": "stream",
     "text": [
      "Epoch 20, Loss 0.0591\n",
      "Training Accuracy: 0.9402, Testing Accuracy: 0.9511\n",
      "\n"
     ]
    },
    {
     "name": "stdout",
     "output_type": "stream",
     "text": [
      "Epoch 30, Loss 0.0461\n",
      "Training Accuracy: 0.9498, Testing Accuracy: 0.9602\n",
      "\n"
     ]
    },
    {
     "name": "stdout",
     "output_type": "stream",
     "text": [
      "Epoch 40, Loss 0.0398\n",
      "Training Accuracy: 0.9560, Testing Accuracy: 0.9647\n",
      "\n"
     ]
    },
    {
     "name": "stdout",
     "output_type": "stream",
     "text": [
      "Epoch 50, Loss 0.036\n",
      "Training Accuracy: 0.9598, Testing Accuracy: 0.9698\n",
      "\n"
     ]
    },
    {
     "name": "stdout",
     "output_type": "stream",
     "text": [
      "Epoch 60, Loss 0.0334\n",
      "Training Accuracy: 0.9617, Testing Accuracy: 0.9682\n",
      "\n"
     ]
    },
    {
     "name": "stdout",
     "output_type": "stream",
     "text": [
      "Epoch 70, Loss 0.0314\n",
      "Training Accuracy: 0.9638, Testing Accuracy: 0.9688\n",
      "\n"
     ]
    },
    {
     "name": "stdout",
     "output_type": "stream",
     "text": [
      "Epoch 80, Loss 0.0299\n",
      "Training Accuracy: 0.9649, Testing Accuracy: 0.9703\n",
      "\n"
     ]
    },
    {
     "name": "stdout",
     "output_type": "stream",
     "text": [
      "Epoch 90, Loss 0.0286\n",
      "Training Accuracy: 0.9669, Testing Accuracy: 0.9703\n",
      "\n"
     ]
    },
    {
     "name": "stdout",
     "output_type": "stream",
     "text": [
      "Epoch 100, Loss 0.0275\n",
      "Training Accuracy: 0.9683, Testing Accuracy: 0.9713\n",
      "\n"
     ]
    },
    {
     "name": "stdout",
     "output_type": "stream",
     "text": [
      "Epoch 110, Loss 0.0266\n",
      "Training Accuracy: 0.9685, Testing Accuracy: 0.9718\n",
      "\n"
     ]
    },
    {
     "name": "stdout",
     "output_type": "stream",
     "text": [
      "Epoch 120, Loss 0.0258\n",
      "Training Accuracy: 0.9696, Testing Accuracy: 0.9738\n",
      "\n"
     ]
    },
    {
     "name": "stdout",
     "output_type": "stream",
     "text": [
      "Epoch 130, Loss 0.025\n",
      "Training Accuracy: 0.9710, Testing Accuracy: 0.9723\n",
      "\n"
     ]
    },
    {
     "name": "stdout",
     "output_type": "stream",
     "text": [
      "Epoch 140, Loss 0.0243\n",
      "Training Accuracy: 0.9716, Testing Accuracy: 0.9718\n",
      "\n"
     ]
    },
    {
     "name": "stdout",
     "output_type": "stream",
     "text": [
      "Epoch 150, Loss 0.0237\n",
      "Training Accuracy: 0.9724, Testing Accuracy: 0.9723\n",
      "\n"
     ]
    },
    {
     "name": "stdout",
     "output_type": "stream",
     "text": [
      "Epoch 160, Loss 0.0231\n",
      "Training Accuracy: 0.9734, Testing Accuracy: 0.9728\n",
      "\n"
     ]
    },
    {
     "name": "stdout",
     "output_type": "stream",
     "text": [
      "Epoch 170, Loss 0.0226\n",
      "Training Accuracy: 0.9740, Testing Accuracy: 0.9728\n",
      "\n"
     ]
    },
    {
     "name": "stdout",
     "output_type": "stream",
     "text": [
      "Epoch 180, Loss 0.0221\n",
      "Training Accuracy: 0.9749, Testing Accuracy: 0.9718\n",
      "\n"
     ]
    },
    {
     "name": "stdout",
     "output_type": "stream",
     "text": [
      "Epoch 190, Loss 0.0217\n",
      "Training Accuracy: 0.9755, Testing Accuracy: 0.9723\n",
      "\n"
     ]
    },
    {
     "name": "stdout",
     "output_type": "stream",
     "text": [
      "Epoch 200, Loss 0.0212\n",
      "Training Accuracy: 0.9758, Testing Accuracy: 0.9723\n",
      "\n"
     ]
    },
    {
     "name": "stdout",
     "output_type": "stream",
     "text": [
      "Epoch 210, Loss 0.0208\n",
      "Training Accuracy: 0.9765, Testing Accuracy: 0.9728\n",
      "\n"
     ]
    },
    {
     "name": "stdout",
     "output_type": "stream",
     "text": [
      "Epoch 220, Loss 0.0204\n",
      "Training Accuracy: 0.9771, Testing Accuracy: 0.9733\n",
      "\n"
     ]
    },
    {
     "name": "stdout",
     "output_type": "stream",
     "text": [
      "Epoch 230, Loss 0.02\n",
      "Training Accuracy: 0.9770, Testing Accuracy: 0.9738\n",
      "\n"
     ]
    },
    {
     "name": "stdout",
     "output_type": "stream",
     "text": [
      "Epoch 240, Loss 0.0196\n",
      "Training Accuracy: 0.9773, Testing Accuracy: 0.9738\n",
      "\n"
     ]
    },
    {
     "data": {
      "text/plain": [
       "0.0035684958301764815"
      ]
     },
     "execution_count": 22,
     "metadata": {},
     "output_type": "execute_result"
    }
   ],
   "source": [
    "nn_learner.train_loop(dl)"
   ]
  },
  {
   "cell_type": "code",
   "execution_count": 23,
   "id": "e0163366",
   "metadata": {
    "execution": {
     "iopub.execute_input": "2022-09-28T10:14:34.850483Z",
     "iopub.status.busy": "2022-09-28T10:14:34.849702Z",
     "iopub.status.idle": "2022-09-28T10:14:55.315947Z",
     "shell.execute_reply": "2022-09-28T10:14:55.316837Z"
    },
    "papermill": {
     "duration": 20.51991,
     "end_time": "2022-09-28T10:14:55.316995",
     "exception": false,
     "start_time": "2022-09-28T10:14:34.797085",
     "status": "completed"
    },
    "tags": []
   },
   "outputs": [
    {
     "name": "stdout",
     "output_type": "stream",
     "text": [
      "Epoch 0, Loss 0.2429\n",
      "Training Accuracy: 0.6749, Testing Accuracy: 0.6966\n",
      "\n"
     ]
    },
    {
     "name": "stdout",
     "output_type": "stream",
     "text": [
      "Epoch 10, Loss 0.1047\n",
      "Training Accuracy: 0.9069, Testing Accuracy: 0.9254\n",
      "\n"
     ]
    },
    {
     "name": "stdout",
     "output_type": "stream",
     "text": [
      "Epoch 20, Loss 0.0799\n",
      "Training Accuracy: 0.9283, Testing Accuracy: 0.9415\n",
      "\n"
     ]
    },
    {
     "name": "stdout",
     "output_type": "stream",
     "text": [
      "Epoch 30, Loss 0.0686\n",
      "Training Accuracy: 0.9361, Testing Accuracy: 0.9486\n",
      "\n"
     ]
    },
    {
     "name": "stdout",
     "output_type": "stream",
     "text": [
      "Epoch 40, Loss 0.0619\n",
      "Training Accuracy: 0.9407, Testing Accuracy: 0.9511\n",
      "\n"
     ]
    },
    {
     "name": "stdout",
     "output_type": "stream",
     "text": [
      "Epoch 50, Loss 0.0574\n",
      "Training Accuracy: 0.9444, Testing Accuracy: 0.9561\n",
      "\n"
     ]
    },
    {
     "name": "stdout",
     "output_type": "stream",
     "text": [
      "Epoch 60, Loss 0.054\n",
      "Training Accuracy: 0.9466, Testing Accuracy: 0.9577\n",
      "\n"
     ]
    },
    {
     "name": "stdout",
     "output_type": "stream",
     "text": [
      "Epoch 70, Loss 0.0514\n",
      "Training Accuracy: 0.9480, Testing Accuracy: 0.9602\n",
      "\n"
     ]
    },
    {
     "name": "stdout",
     "output_type": "stream",
     "text": [
      "Epoch 80, Loss 0.0494\n",
      "Training Accuracy: 0.9494, Testing Accuracy: 0.9612\n",
      "\n"
     ]
    },
    {
     "name": "stdout",
     "output_type": "stream",
     "text": [
      "Epoch 90, Loss 0.0477\n",
      "Training Accuracy: 0.9506, Testing Accuracy: 0.9627\n",
      "\n"
     ]
    },
    {
     "name": "stdout",
     "output_type": "stream",
     "text": [
      "Epoch 100, Loss 0.0462\n",
      "Training Accuracy: 0.9518, Testing Accuracy: 0.9642\n",
      "\n"
     ]
    },
    {
     "name": "stdout",
     "output_type": "stream",
     "text": [
      "Epoch 110, Loss 0.045\n",
      "Training Accuracy: 0.9531, Testing Accuracy: 0.9647\n",
      "\n"
     ]
    },
    {
     "name": "stdout",
     "output_type": "stream",
     "text": [
      "Epoch 120, Loss 0.044\n",
      "Training Accuracy: 0.9544, Testing Accuracy: 0.9637\n",
      "\n"
     ]
    },
    {
     "name": "stdout",
     "output_type": "stream",
     "text": [
      "Epoch 130, Loss 0.043\n",
      "Training Accuracy: 0.9555, Testing Accuracy: 0.9642\n",
      "\n"
     ]
    },
    {
     "name": "stdout",
     "output_type": "stream",
     "text": [
      "Epoch 140, Loss 0.0422\n",
      "Training Accuracy: 0.9561, Testing Accuracy: 0.9652\n",
      "\n"
     ]
    },
    {
     "name": "stdout",
     "output_type": "stream",
     "text": [
      "Epoch 150, Loss 0.0414\n",
      "Training Accuracy: 0.9567, Testing Accuracy: 0.9657\n",
      "\n"
     ]
    },
    {
     "name": "stdout",
     "output_type": "stream",
     "text": [
      "Epoch 160, Loss 0.0408\n",
      "Training Accuracy: 0.9575, Testing Accuracy: 0.9657\n",
      "\n"
     ]
    },
    {
     "name": "stdout",
     "output_type": "stream",
     "text": [
      "Epoch 170, Loss 0.0401\n",
      "Training Accuracy: 0.9579, Testing Accuracy: 0.9657\n",
      "\n"
     ]
    },
    {
     "name": "stdout",
     "output_type": "stream",
     "text": [
      "Epoch 180, Loss 0.0396\n",
      "Training Accuracy: 0.9582, Testing Accuracy: 0.9657\n",
      "\n"
     ]
    },
    {
     "name": "stdout",
     "output_type": "stream",
     "text": [
      "Epoch 190, Loss 0.0391\n",
      "Training Accuracy: 0.9585, Testing Accuracy: 0.9657\n",
      "\n"
     ]
    },
    {
     "name": "stdout",
     "output_type": "stream",
     "text": [
      "Epoch 200, Loss 0.0386\n",
      "Training Accuracy: 0.9593, Testing Accuracy: 0.9657\n",
      "\n"
     ]
    },
    {
     "name": "stdout",
     "output_type": "stream",
     "text": [
      "Epoch 210, Loss 0.0381\n",
      "Training Accuracy: 0.9594, Testing Accuracy: 0.9662\n",
      "\n"
     ]
    },
    {
     "name": "stdout",
     "output_type": "stream",
     "text": [
      "Epoch 220, Loss 0.0377\n",
      "Training Accuracy: 0.9597, Testing Accuracy: 0.9662\n",
      "\n"
     ]
    },
    {
     "name": "stdout",
     "output_type": "stream",
     "text": [
      "Epoch 230, Loss 0.0373\n",
      "Training Accuracy: 0.9599, Testing Accuracy: 0.9662\n",
      "\n"
     ]
    },
    {
     "name": "stdout",
     "output_type": "stream",
     "text": [
      "Epoch 240, Loss 0.037\n",
      "Training Accuracy: 0.9605, Testing Accuracy: 0.9662\n",
      "\n"
     ]
    },
    {
     "data": {
      "text/plain": [
       "0.027015632777403136"
      ]
     },
     "execution_count": 23,
     "metadata": {},
     "output_type": "execute_result"
    }
   ],
   "source": [
    "lr_learner.train_loop(dl)"
   ]
  },
  {
   "cell_type": "code",
   "execution_count": 24,
   "id": "ca410940",
   "metadata": {
    "execution": {
     "iopub.execute_input": "2022-09-28T10:14:55.430558Z",
     "iopub.status.busy": "2022-09-28T10:14:55.429796Z",
     "iopub.status.idle": "2022-09-28T10:14:55.708605Z",
     "shell.execute_reply": "2022-09-28T10:14:55.707654Z"
    },
    "papermill": {
     "duration": 0.343248,
     "end_time": "2022-09-28T10:14:55.708839",
     "exception": false,
     "start_time": "2022-09-28T10:14:55.365591",
     "status": "completed"
    },
    "tags": []
   },
   "outputs": [
    {
     "data": {
      "text/plain": [
       "<matplotlib.legend.Legend at 0x7fc5fdd8b2e8>"
      ]
     },
     "execution_count": 24,
     "metadata": {},
     "output_type": "execute_result"
    },
    {
     "data": {
      "image/png": "[encoded data removed]",
      "text/plain": [
       "<Figure size 1080x720 with 1 Axes>"
      ]
     },
     "metadata": {
      "needs_background": "light"
     },
     "output_type": "display_data"
    }
   ],
   "source": [
    "#comparing the results of NN and LR\n",
    "plt.figure(figsize=(15,10))\n",
    "\n",
    "# Neural Network plots\n",
    "plt.plot(acc_nn.accuracies, 'r-', label = \"Training Accuracies - NN\")\n",
    "plt.plot(acc_nn.test_accuracies, 'g-', label = \"Testing Accuracies - NN\")\n",
    "\n",
    "# Logistic Regression plots\n",
    "plt.plot(acc_lr.accuracies, 'k-', label = \"Training Accuracies - LR\")\n",
    "plt.plot(acc_lr.test_accuracies, 'b-', label = \"Testing Accuracies - LR\")\n",
    "plt.legend()"
   ]
  },
  {
   "cell_type": "markdown",
   "id": "80dfb35c",
   "metadata": {
    "papermill": {
     "duration": 0.048806,
     "end_time": "2022-09-28T10:14:55.805367",
     "exception": false,
     "start_time": "2022-09-28T10:14:55.756561",
     "status": "completed"
    },
    "tags": []
   },
   "source": [
    "#### Plotting the outputs of this layer of the NN.\n"
   ]
  },
  {
   "cell_type": "code",
   "execution_count": 25,
   "id": "45eb2ff5",
   "metadata": {
    "execution": {
     "iopub.execute_input": "2022-09-28T10:14:55.906005Z",
     "iopub.status.busy": "2022-09-28T10:14:55.905392Z",
     "iopub.status.idle": "2022-09-28T10:14:55.934937Z",
     "shell.execute_reply": "2022-09-28T10:14:55.934323Z"
    },
    "papermill": {
     "duration": 0.0821,
     "end_time": "2022-09-28T10:14:55.935074",
     "exception": false,
     "start_time": "2022-09-28T10:14:55.852974",
     "status": "completed"
    },
    "tags": []
   },
   "outputs": [],
   "source": [
    "new_model = Model(layers[:-2])\n",
    "testing_plot = new_model(testing_data_x)"
   ]
  },
  {
   "cell_type": "code",
   "execution_count": 26,
   "id": "4c0a5485",
   "metadata": {
    "execution": {
     "iopub.execute_input": "2022-09-28T10:14:56.044804Z",
     "iopub.status.busy": "2022-09-28T10:14:56.044139Z",
     "iopub.status.idle": "2022-09-28T10:14:56.309717Z",
     "shell.execute_reply": "2022-09-28T10:14:56.308446Z"
    },
    "papermill": {
     "duration": 0.321945,
     "end_time": "2022-09-28T10:14:56.309853",
     "exception": false,
     "start_time": "2022-09-28T10:14:55.987908",
     "status": "completed"
    },
    "tags": []
   },
   "outputs": [
    {
     "data": {
      "text/plain": [
       "Text(0.5, 1.0, 'Outputs')"
      ]
     },
     "execution_count": 26,
     "metadata": {},
     "output_type": "execute_result"
    },
    {
     "data": {
      "image/png": "[encoded data removed]",
      "text/plain": [
       "<Figure size 576x504 with 1 Axes>"
      ]
     },
     "metadata": {
      "needs_background": "light"
     },
     "output_type": "display_data"
    }
   ],
   "source": [
    "# Plotting the scatter plot of points and color coding by class\n",
    "plt.figure(figsize=(8,7))\n",
    "plt.scatter(testing_plot[:,0], testing_plot[:,1], alpha = 0.1, c = y_test.ravel());\n",
    "plt.title('Outputs')"
   ]
  },
  {
   "cell_type": "markdown",
   "id": "a74fcf8f",
   "metadata": {
    "papermill": {
     "duration": 0.079032,
     "end_time": "2022-09-28T10:14:56.439826",
     "exception": false,
     "start_time": "2022-09-28T10:14:56.360794",
     "status": "completed"
    },
    "tags": []
   },
   "source": [
    "Probability contours"
   ]
  },
  {
   "cell_type": "code",
   "execution_count": 27,
   "id": "d0afc8e3",
   "metadata": {
    "execution": {
     "iopub.execute_input": "2022-09-28T10:14:56.554538Z",
     "iopub.status.busy": "2022-09-28T10:14:56.553785Z",
     "iopub.status.idle": "2022-09-28T10:14:56.567974Z",
     "shell.execute_reply": "2022-09-28T10:14:56.567314Z"
    },
    "papermill": {
     "duration": 0.072175,
     "end_time": "2022-09-28T10:14:56.568100",
     "exception": false,
     "start_time": "2022-09-28T10:14:56.495925",
     "status": "completed"
    },
    "tags": []
   },
   "outputs": [],
   "source": [
    "model_prob = Model(layers[-2:]) "
   ]
  },
  {
   "cell_type": "code",
   "execution_count": 28,
   "id": "9b96e238",
   "metadata": {
    "execution": {
     "iopub.execute_input": "2022-09-28T10:14:56.679752Z",
     "iopub.status.busy": "2022-09-28T10:14:56.679100Z",
     "iopub.status.idle": "2022-09-28T10:14:56.694116Z",
     "shell.execute_reply": "2022-09-28T10:14:56.695065Z"
    },
    "papermill": {
     "duration": 0.074319,
     "end_time": "2022-09-28T10:14:56.695205",
     "exception": false,
     "start_time": "2022-09-28T10:14:56.620886",
     "status": "completed"
    },
    "tags": []
   },
   "outputs": [],
   "source": [
    "#creating the x and y ranges according to the above generated plot.\n",
    "x_range = np.linspace(-4, 1, 100) \n",
    "y_range = np.linspace(-6, 6, 100) \n",
    "x_grid, y_grid = np.meshgrid(x_range, y_range) # x_grid and y_grig are of size 100 X 100\n",
    "\n",
    "# converting x_grid and y_grid to continuous arrays\n",
    "x_gridflat = np.ravel(x_grid)\n",
    "y_gridflat = np.ravel(y_grid)\n",
    "\n",
    "# The last layer of the current model takes two columns as input. Hence transpose of np.vstack() is required.\n",
    "X = np.vstack((x_gridflat, y_gridflat)).T\n",
    "\n",
    "prob_contour = model_prob(X).reshape(100,100) "
   ]
  },
  {
   "cell_type": "code",
   "execution_count": 29,
   "id": "da72499a",
   "metadata": {
    "execution": {
     "iopub.execute_input": "2022-09-28T10:14:56.813526Z",
     "iopub.status.busy": "2022-09-28T10:14:56.811229Z",
     "iopub.status.idle": "2022-09-28T10:14:57.119804Z",
     "shell.execute_reply": "2022-09-28T10:14:57.120539Z"
    },
    "papermill": {
     "duration": 0.369295,
     "end_time": "2022-09-28T10:14:57.120788",
     "exception": false,
     "start_time": "2022-09-28T10:14:56.751493",
     "status": "completed"
    },
    "tags": []
   },
   "outputs": [
    {
     "data": {
      "image/png": "[encoded data removed]",
      "text/plain": [
       "<Figure size 720x648 with 1 Axes>"
      ]
     },
     "metadata": {
      "needs_background": "light"
     },
     "output_type": "display_data"
    }
   ],
   "source": [
    "plt.figure(figsize=(10,9))\n",
    "plt.scatter(testing_plot[:,0], testing_plot[:,1], alpha = 0.1, c = y_test.ravel())\n",
    "contours = plt.contour(x_grid,y_grid,prob_contour)\n",
    "plt.title('Probability Contours')\n",
    "plt.clabel(contours, inline = True );"
   ]
  },
  {
   "cell_type": "code",
   "execution_count": null,
   "id": "e81b4ac7",
   "metadata": {
    "papermill": {
     "duration": 0.054548,
     "end_time": "2022-09-28T10:14:57.234326",
     "exception": false,
     "start_time": "2022-09-28T10:14:57.179778",
     "status": "completed"
    },
    "tags": []
   },
   "outputs": [],
   "source": []
  }
 ],
 "metadata": {
  "kernelspec": {
   "display_name": "Python 3",
   "language": "python",
   "name": "python3"
  },
  "language_info": {
   "codemirror_mode": {
    "name": "ipython",
    "version": 3
   },
   "file_extension": ".py",
   "mimetype": "text/x-python",
   "name": "python",
   "nbconvert_exporter": "python",
   "pygments_lexer": "ipython3",
   "version": "3.6.15"
  },
  "papermill": {
   "default_parameters": {},
   "duration": 162.751886,
   "end_time": "2022-09-28T10:14:57.712303",
   "environment_variables": {},
   "exception": null,
   "input_path": "2020-08-11-part2.ipynb",
   "output_path": "2020-08-11-part2.ipynb",
   "parameters": {},
   "start_time": "2022-09-28T10:12:14.960417",
   "version": "2.3.3"
  }
 },
 "nbformat": 4,
 "nbformat_minor": 5
}