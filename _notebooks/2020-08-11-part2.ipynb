{
 "cells": [
  {
   "cell_type": "markdown",
   "id": "98380cd3",
   "metadata": {
    "papermill": {
     "duration": 0.036388,
     "end_time": "2021-12-14T00:24:08.608272",
     "exception": false,
     "start_time": "2021-12-14T00:24:08.571884",
     "status": "completed"
    },
    "tags": []
   },
   "source": [
    "# Distinguish Your Own Digits (DYOD)"
   ]
  },
  {
   "cell_type": "markdown",
   "id": "ef31240d",
   "metadata": {
    "papermill": {
     "duration": 0.030295,
     "end_time": "2021-12-14T00:24:08.670417",
     "exception": false,
     "start_time": "2021-12-14T00:24:08.640122",
     "status": "completed"
    },
    "tags": []
   },
   "source": [
    "You are going to write a classifier that distinguishes between the number 3 and number 8."
   ]
  },
  {
   "cell_type": "code",
   "execution_count": 1,
   "id": "b15c8646",
   "metadata": {
    "execution": {
     "iopub.execute_input": "2021-12-14T00:24:08.746491Z",
     "iopub.status.busy": "2021-12-14T00:24:08.745353Z",
     "iopub.status.idle": "2021-12-14T00:24:08.757790Z",
     "shell.execute_reply": "2021-12-14T00:24:08.757208Z"
    },
    "papermill": {
     "duration": 0.05748,
     "end_time": "2021-12-14T00:24:08.757965",
     "exception": false,
     "start_time": "2021-12-14T00:24:08.700485",
     "status": "completed"
    },
    "tags": []
   },
   "outputs": [],
   "source": [
    "%load_ext autoreload\n",
    "%autoreload 2"
   ]
  },
  {
   "cell_type": "code",
   "execution_count": 2,
   "id": "22ef38dc",
   "metadata": {
    "execution": {
     "iopub.execute_input": "2021-12-14T00:24:08.827952Z",
     "iopub.status.busy": "2021-12-14T00:24:08.827255Z",
     "iopub.status.idle": "2021-12-14T00:24:09.553261Z",
     "shell.execute_reply": "2021-12-14T00:24:09.552584Z"
    },
    "papermill": {
     "duration": 0.764348,
     "end_time": "2021-12-14T00:24:09.553952",
     "exception": false,
     "start_time": "2021-12-14T00:24:08.789604",
     "status": "completed"
    },
    "tags": []
   },
   "outputs": [],
   "source": [
    "%matplotlib inline\n",
    "import numpy as np\n",
    "import matplotlib.pyplot as plt\n",
    "import pandas as pd"
   ]
  },
  {
   "cell_type": "markdown",
   "id": "ba036198",
   "metadata": {
    "papermill": {
     "duration": 0.03061,
     "end_time": "2021-12-14T00:24:09.615110",
     "exception": false,
     "start_time": "2021-12-14T00:24:09.584500",
     "status": "completed"
    },
    "tags": []
   },
   "source": [
    "From the command line run `pip install mnist`. This is a library that will help you bring down the mnist dataset. If you run this from a notebook, you need to put  `!pip install mnist` in a cell by itself."
   ]
  },
  {
   "cell_type": "code",
   "execution_count": 3,
   "id": "bb6ad8a1",
   "metadata": {
    "execution": {
     "iopub.execute_input": "2021-12-14T00:24:09.677289Z",
     "iopub.status.busy": "2021-12-14T00:24:09.676669Z",
     "iopub.status.idle": "2021-12-14T00:24:11.627518Z",
     "shell.execute_reply": "2021-12-14T00:24:11.628090Z"
    },
    "papermill": {
     "duration": 1.984358,
     "end_time": "2021-12-14T00:24:11.628276",
     "exception": false,
     "start_time": "2021-12-14T00:24:09.643918",
     "status": "completed"
    },
    "tags": []
   },
   "outputs": [
    {
     "name": "stdout",
     "output_type": "stream",
     "text": [
      "Collecting mnist\r\n",
      "  Downloading mnist-0.2.2-py2.py3-none-any.whl (3.5 kB)\r\n",
      "Requirement already satisfied: numpy in /opt/hostedtoolcache/Python/3.6.15/x64/lib/python3.6/site-packages (from mnist) (1.19.5)\r\n"
     ]
    },
    {
     "name": "stdout",
     "output_type": "stream",
     "text": [
      "Installing collected packages: mnist\r\n"
     ]
    },
    {
     "name": "stdout",
     "output_type": "stream",
     "text": [
      "Successfully installed mnist-0.2.2\r\n"
     ]
    }
   ],
   "source": [
    "!pip install mnist"
   ]
  },
  {
   "cell_type": "markdown",
   "id": "69df9c9a",
   "metadata": {
    "papermill": {
     "duration": 0.032194,
     "end_time": "2021-12-14T00:24:11.691867",
     "exception": false,
     "start_time": "2021-12-14T00:24:11.659673",
     "status": "completed"
    },
    "tags": []
   },
   "source": [
    "## Preparing the Data"
   ]
  },
  {
   "cell_type": "code",
   "execution_count": 4,
   "id": "7f69d806",
   "metadata": {
    "execution": {
     "iopub.execute_input": "2021-12-14T00:24:11.767510Z",
     "iopub.status.busy": "2021-12-14T00:24:11.762801Z",
     "iopub.status.idle": "2021-12-14T00:24:11.776742Z",
     "shell.execute_reply": "2021-12-14T00:24:11.776187Z"
    },
    "papermill": {
     "duration": 0.055594,
     "end_time": "2021-12-14T00:24:11.776870",
     "exception": false,
     "start_time": "2021-12-14T00:24:11.721276",
     "status": "completed"
    },
    "tags": []
   },
   "outputs": [],
   "source": [
    "import mnist"
   ]
  },
  {
   "cell_type": "code",
   "execution_count": 5,
   "id": "a411e44f",
   "metadata": {
    "execution": {
     "iopub.execute_input": "2021-12-14T00:24:11.848394Z",
     "iopub.status.busy": "2021-12-14T00:24:11.847708Z",
     "iopub.status.idle": "2021-12-14T00:24:12.372918Z",
     "shell.execute_reply": "2021-12-14T00:24:12.373493Z"
    },
    "papermill": {
     "duration": 0.56457,
     "end_time": "2021-12-14T00:24:12.373680",
     "exception": false,
     "start_time": "2021-12-14T00:24:11.809110",
     "status": "completed"
    },
    "tags": []
   },
   "outputs": [],
   "source": [
    "train_images = mnist.train_images()\n",
    "train_labels = mnist.train_labels()"
   ]
  },
  {
   "cell_type": "code",
   "execution_count": 6,
   "id": "dceab3a5",
   "metadata": {
    "execution": {
     "iopub.execute_input": "2021-12-14T00:24:12.447843Z",
     "iopub.status.busy": "2021-12-14T00:24:12.447073Z",
     "iopub.status.idle": "2021-12-14T00:24:12.462826Z",
     "shell.execute_reply": "2021-12-14T00:24:12.463403Z"
    },
    "papermill": {
     "duration": 0.055766,
     "end_time": "2021-12-14T00:24:12.463560",
     "exception": false,
     "start_time": "2021-12-14T00:24:12.407794",
     "status": "completed"
    },
    "tags": []
   },
   "outputs": [
    {
     "data": {
      "text/plain": [
       "((60000, 28, 28), (60000,))"
      ]
     },
     "execution_count": 6,
     "metadata": {},
     "output_type": "execute_result"
    }
   ],
   "source": [
    "train_images.shape, train_labels.shape"
   ]
  },
  {
   "cell_type": "code",
   "execution_count": 7,
   "id": "f50dc2bb",
   "metadata": {
    "execution": {
     "iopub.execute_input": "2021-12-14T00:24:12.533149Z",
     "iopub.status.busy": "2021-12-14T00:24:12.532497Z",
     "iopub.status.idle": "2021-12-14T00:24:12.651770Z",
     "shell.execute_reply": "2021-12-14T00:24:12.651149Z"
    },
    "papermill": {
     "duration": 0.156059,
     "end_time": "2021-12-14T00:24:12.651913",
     "exception": false,
     "start_time": "2021-12-14T00:24:12.495854",
     "status": "completed"
    },
    "tags": []
   },
   "outputs": [],
   "source": [
    "test_images = mnist.test_images()\n",
    "test_labels = mnist.test_labels()"
   ]
  },
  {
   "cell_type": "code",
   "execution_count": 8,
   "id": "fc38cf1b",
   "metadata": {
    "execution": {
     "iopub.execute_input": "2021-12-14T00:24:12.731599Z",
     "iopub.status.busy": "2021-12-14T00:24:12.731002Z",
     "iopub.status.idle": "2021-12-14T00:24:12.745953Z",
     "shell.execute_reply": "2021-12-14T00:24:12.745253Z"
    },
    "papermill": {
     "duration": 0.05688,
     "end_time": "2021-12-14T00:24:12.746075",
     "exception": false,
     "start_time": "2021-12-14T00:24:12.689195",
     "status": "completed"
    },
    "tags": []
   },
   "outputs": [
    {
     "data": {
      "text/plain": [
       "((10000, 28, 28), (10000,))"
      ]
     },
     "execution_count": 8,
     "metadata": {},
     "output_type": "execute_result"
    }
   ],
   "source": [
    "test_images.shape, test_labels.shape"
   ]
  },
  {
   "cell_type": "code",
   "execution_count": 9,
   "id": "f9ed8fe0",
   "metadata": {
    "execution": {
     "iopub.execute_input": "2021-12-14T00:24:12.816554Z",
     "iopub.status.busy": "2021-12-14T00:24:12.815899Z",
     "iopub.status.idle": "2021-12-14T00:24:13.019768Z",
     "shell.execute_reply": "2021-12-14T00:24:13.019209Z"
    },
    "papermill": {
     "duration": 0.240604,
     "end_time": "2021-12-14T00:24:13.019909",
     "exception": false,
     "start_time": "2021-12-14T00:24:12.779305",
     "status": "completed"
    },
    "tags": []
   },
   "outputs": [
    {
     "name": "stdout",
     "output_type": "stream",
     "text": [
      "2\n"
     ]
    },
    {
     "data": {
      "text/plain": [
       "<matplotlib.image.AxesImage at 0x7fb51387f438>"
      ]
     },
     "execution_count": 9,
     "metadata": {},
     "output_type": "execute_result"
    },
    {
     "data": {
      "image/png": "[encoded data removed]",
      "text/plain": [
       "<Figure size 432x288 with 1 Axes>"
      ]
     },
     "metadata": {
      "needs_background": "light"
     },
     "output_type": "display_data"
    }
   ],
   "source": [
    "image_index = 7776 # You may select anything up to 60,000\n",
    "print(train_labels[image_index]) \n",
    "plt.imshow(train_images[image_index], cmap='Greys')"
   ]
  },
  {
   "cell_type": "markdown",
   "id": "a8d2388d",
   "metadata": {
    "papermill": {
     "duration": 0.034909,
     "end_time": "2021-12-14T00:24:13.089680",
     "exception": false,
     "start_time": "2021-12-14T00:24:13.054771",
     "status": "completed"
    },
    "tags": []
   },
   "source": [
    "## Filter data to get 3 and 8 out"
   ]
  },
  {
   "cell_type": "code",
   "execution_count": 10,
   "id": "776f7fc7",
   "metadata": {
    "execution": {
     "iopub.execute_input": "2021-12-14T00:24:13.165455Z",
     "iopub.status.busy": "2021-12-14T00:24:13.160316Z",
     "iopub.status.idle": "2021-12-14T00:24:13.180528Z",
     "shell.execute_reply": "2021-12-14T00:24:13.180031Z"
    },
    "papermill": {
     "duration": 0.058324,
     "end_time": "2021-12-14T00:24:13.180690",
     "exception": false,
     "start_time": "2021-12-14T00:24:13.122366",
     "status": "completed"
    },
    "tags": []
   },
   "outputs": [],
   "source": [
    "train_filter = np.where((train_labels == 3 ) | (train_labels == 8))\n",
    "test_filter = np.where((test_labels == 3) | (test_labels == 8))\n",
    "X_train, y_train = train_images[train_filter], train_labels[train_filter]\n",
    "X_test, y_test = test_images[test_filter], test_labels[test_filter]"
   ]
  },
  {
   "cell_type": "markdown",
   "id": "948f0b7e",
   "metadata": {
    "papermill": {
     "duration": 0.034729,
     "end_time": "2021-12-14T00:24:13.250669",
     "exception": false,
     "start_time": "2021-12-14T00:24:13.215940",
     "status": "completed"
    },
    "tags": []
   },
   "source": [
    "We normalize the pizel values in the 0 to 1 range"
   ]
  },
  {
   "cell_type": "code",
   "execution_count": 11,
   "id": "ee4c2166",
   "metadata": {
    "execution": {
     "iopub.execute_input": "2021-12-14T00:24:13.320510Z",
     "iopub.status.busy": "2021-12-14T00:24:13.319796Z",
     "iopub.status.idle": "2021-12-14T00:24:13.380668Z",
     "shell.execute_reply": "2021-12-14T00:24:13.380122Z"
    },
    "papermill": {
     "duration": 0.09841,
     "end_time": "2021-12-14T00:24:13.380806",
     "exception": false,
     "start_time": "2021-12-14T00:24:13.282396",
     "status": "completed"
    },
    "tags": []
   },
   "outputs": [],
   "source": [
    "X_train = X_train/255.\n",
    "X_test = X_test/255."
   ]
  },
  {
   "cell_type": "markdown",
   "id": "ddcf4fab",
   "metadata": {
    "papermill": {
     "duration": 0.031971,
     "end_time": "2021-12-14T00:24:13.445910",
     "exception": false,
     "start_time": "2021-12-14T00:24:13.413939",
     "status": "completed"
    },
    "tags": []
   },
   "source": [
    "And setup the labels as 1 (when the digit is 3) and 0 (when the digit is 8)"
   ]
  },
  {
   "cell_type": "code",
   "execution_count": 12,
   "id": "7dc908f2",
   "metadata": {
    "execution": {
     "iopub.execute_input": "2021-12-14T00:24:13.515464Z",
     "iopub.status.busy": "2021-12-14T00:24:13.514690Z",
     "iopub.status.idle": "2021-12-14T00:24:13.526348Z",
     "shell.execute_reply": "2021-12-14T00:24:13.525676Z"
    },
    "papermill": {
     "duration": 0.0498,
     "end_time": "2021-12-14T00:24:13.526481",
     "exception": false,
     "start_time": "2021-12-14T00:24:13.476681",
     "status": "completed"
    },
    "tags": []
   },
   "outputs": [],
   "source": [
    "y_train = 1*(y_train==3)\n",
    "y_test = 1*(y_test==3)"
   ]
  },
  {
   "cell_type": "code",
   "execution_count": 13,
   "id": "01e4e969",
   "metadata": {
    "execution": {
     "iopub.execute_input": "2021-12-14T00:24:13.597900Z",
     "iopub.status.busy": "2021-12-14T00:24:13.597181Z",
     "iopub.status.idle": "2021-12-14T00:24:13.612879Z",
     "shell.execute_reply": "2021-12-14T00:24:13.612221Z"
    },
    "papermill": {
     "duration": 0.054043,
     "end_time": "2021-12-14T00:24:13.613023",
     "exception": false,
     "start_time": "2021-12-14T00:24:13.558980",
     "status": "completed"
    },
    "tags": []
   },
   "outputs": [
    {
     "data": {
      "text/plain": [
       "((11982, 28, 28), (1984, 28, 28))"
      ]
     },
     "execution_count": 13,
     "metadata": {},
     "output_type": "execute_result"
    }
   ],
   "source": [
    "X_train.shape, X_test.shape"
   ]
  },
  {
   "cell_type": "markdown",
   "id": "5ccf3f85",
   "metadata": {
    "papermill": {
     "duration": 0.032509,
     "end_time": "2021-12-14T00:24:13.680451",
     "exception": false,
     "start_time": "2021-12-14T00:24:13.647942",
     "status": "completed"
    },
    "tags": []
   },
   "source": [
    "We reshape the data to flatten the image pixels into a set of features or co-variates:"
   ]
  },
  {
   "cell_type": "code",
   "execution_count": 14,
   "id": "5286a4a3",
   "metadata": {
    "execution": {
     "iopub.execute_input": "2021-12-14T00:24:13.756929Z",
     "iopub.status.busy": "2021-12-14T00:24:13.756213Z",
     "iopub.status.idle": "2021-12-14T00:24:13.772132Z",
     "shell.execute_reply": "2021-12-14T00:24:13.771500Z"
    },
    "papermill": {
     "duration": 0.056161,
     "end_time": "2021-12-14T00:24:13.772265",
     "exception": false,
     "start_time": "2021-12-14T00:24:13.716104",
     "status": "completed"
    },
    "tags": []
   },
   "outputs": [
    {
     "data": {
      "text/plain": [
       "((11982, 784), (1984, 784))"
      ]
     },
     "execution_count": 14,
     "metadata": {},
     "output_type": "execute_result"
    }
   ],
   "source": [
    "X_train = X_train.reshape(X_train.shape[0], -1)\n",
    "X_test = X_test.reshape(X_test.shape[0], -1)\n",
    "X_train.shape, X_test.shape"
   ]
  },
  {
   "cell_type": "code",
   "execution_count": 15,
   "id": "73c5f88a",
   "metadata": {
    "execution": {
     "iopub.execute_input": "2021-12-14T00:24:13.850691Z",
     "iopub.status.busy": "2021-12-14T00:24:13.850005Z",
     "iopub.status.idle": "2021-12-14T00:24:13.869846Z",
     "shell.execute_reply": "2021-12-14T00:24:13.869313Z"
    },
    "papermill": {
     "duration": 0.062296,
     "end_time": "2021-12-14T00:24:13.869976",
     "exception": false,
     "start_time": "2021-12-14T00:24:13.807680",
     "status": "completed"
    },
    "tags": []
   },
   "outputs": [],
   "source": [
    "#Impoting functions from 'Kudzu'\n",
    "from kudzu.model import Model\n",
    "from kudzu.train import Learner\n",
    "from kudzu.optim import GD\n",
    "from kudzu.data import Data, Sampler,Dataloader\n",
    "\n",
    "from kudzu.callbacks import AccCallback\n",
    "from kudzu.callbacks import ClfCallback\n",
    "\n",
    "from kudzu.loss import MSE\n",
    "\n",
    "from kudzu.layer import Sigmoid,Relu\n",
    "from kudzu.layer import Affine"
   ]
  },
  {
   "cell_type": "markdown",
   "id": "bc01172a",
   "metadata": {
    "papermill": {
     "duration": 0.034268,
     "end_time": "2021-12-14T00:24:13.938981",
     "exception": false,
     "start_time": "2021-12-14T00:24:13.904713",
     "status": "completed"
    },
    "tags": []
   },
   "source": [
    "### Let us create a `Config` class, to store important parameters. \n",
    "This class essentially plays the role of a dictionary."
   ]
  },
  {
   "cell_type": "code",
   "execution_count": 16,
   "id": "978281aa",
   "metadata": {
    "execution": {
     "iopub.execute_input": "2021-12-14T00:24:14.020681Z",
     "iopub.status.busy": "2021-12-14T00:24:14.019865Z",
     "iopub.status.idle": "2021-12-14T00:24:14.031018Z",
     "shell.execute_reply": "2021-12-14T00:24:14.030130Z"
    },
    "papermill": {
     "duration": 0.058762,
     "end_time": "2021-12-14T00:24:14.031165",
     "exception": false,
     "start_time": "2021-12-14T00:24:13.972403",
     "status": "completed"
    },
    "tags": []
   },
   "outputs": [],
   "source": [
    "class Config:\n",
    "    pass\n",
    "config = Config()\n",
    "config.lr = 0.001\n",
    "config.num_epochs = 250\n",
    "config.bs = 50"
   ]
  },
  {
   "cell_type": "markdown",
   "id": "1385fa59",
   "metadata": {
    "papermill": {
     "duration": 0.036096,
     "end_time": "2021-12-14T00:24:14.106906",
     "exception": false,
     "start_time": "2021-12-14T00:24:14.070810",
     "status": "completed"
    },
    "tags": []
   },
   "source": [
    "### Running Models with the Training data\n",
    "Details about the network layers:\n",
    "- A first affine layer has 784 inputs and does 100 affine transforms. These are followed by a Relu\n",
    "- A second affine layer has 100 inputs from the 100 activations of the past layer, and does 100 affine transforms. These are followed by a Relu\n",
    "- A third affine layer has 100 activations and does 2 affine transformations to create an embedding for visualization. There is no non-linearity here.\n",
    "- A final \"logistic regression\" which has an affine transform from 2 inputs to 1 output, which is squeezed through a sigmoid.\n"
   ]
  },
  {
   "cell_type": "code",
   "execution_count": 17,
   "id": "2b9c66db",
   "metadata": {
    "execution": {
     "iopub.execute_input": "2021-12-14T00:24:14.183341Z",
     "iopub.status.busy": "2021-12-14T00:24:14.179031Z",
     "iopub.status.idle": "2021-12-14T00:24:14.193964Z",
     "shell.execute_reply": "2021-12-14T00:24:14.194870Z"
    },
    "papermill": {
     "duration": 0.053343,
     "end_time": "2021-12-14T00:24:14.195060",
     "exception": false,
     "start_time": "2021-12-14T00:24:14.141717",
     "status": "completed"
    },
    "tags": []
   },
   "outputs": [],
   "source": [
    "data = Data(X_train, y_train.reshape(-1,1))\n",
    "sampler = Sampler(data, config.bs, shuffle=True)\n",
    "\n",
    "dl = Dataloader(data, sampler)\n",
    "\n",
    "opt = GD(config.lr)\n",
    "loss = MSE()"
   ]
  },
  {
   "cell_type": "code",
   "execution_count": 18,
   "id": "b275e4c2",
   "metadata": {
    "execution": {
     "iopub.execute_input": "2021-12-14T00:24:14.270475Z",
     "iopub.status.busy": "2021-12-14T00:24:14.269798Z",
     "iopub.status.idle": "2021-12-14T00:24:14.281204Z",
     "shell.execute_reply": "2021-12-14T00:24:14.280656Z"
    },
    "papermill": {
     "duration": 0.050893,
     "end_time": "2021-12-14T00:24:14.281332",
     "exception": false,
     "start_time": "2021-12-14T00:24:14.230439",
     "status": "completed"
    },
    "tags": []
   },
   "outputs": [],
   "source": [
    "training_data_x = X_train\n",
    "testing_data_x = X_test\n",
    "training_data_y = y_train.reshape(-1,1)\n",
    "testing_data_y = y_test.reshape(-1,1)"
   ]
  },
  {
   "cell_type": "code",
   "execution_count": 19,
   "id": "76951160",
   "metadata": {
    "execution": {
     "iopub.execute_input": "2021-12-14T00:24:14.355756Z",
     "iopub.status.busy": "2021-12-14T00:24:14.355061Z",
     "iopub.status.idle": "2021-12-14T00:24:14.373182Z",
     "shell.execute_reply": "2021-12-14T00:24:14.372588Z"
    },
    "papermill": {
     "duration": 0.057395,
     "end_time": "2021-12-14T00:24:14.373305",
     "exception": false,
     "start_time": "2021-12-14T00:24:14.315910",
     "status": "completed"
    },
    "tags": []
   },
   "outputs": [
    {
     "name": "stdout",
     "output_type": "stream",
     "text": [
      "xavier\n",
      "xavier\n",
      "xavier\n",
      "xavier\n",
      "xavier\n"
     ]
    }
   ],
   "source": [
    "layers = [Affine(\"first\", 784, 100), Relu(\"first\"), Affine(\"second\", 100, 100), Relu(\"second\"), Affine(\"third\", 100, 2), Affine(\"last\", 2, 1), Sigmoid(\"last\")]\n",
    "model_nn = Model(layers)\n",
    "model_lr = Model([Affine(\"logits\", 784, 1), Sigmoid(\"sigmoid\")])"
   ]
  },
  {
   "cell_type": "code",
   "execution_count": 20,
   "id": "6eede77a",
   "metadata": {
    "execution": {
     "iopub.execute_input": "2021-12-14T00:24:14.451360Z",
     "iopub.status.busy": "2021-12-14T00:24:14.450703Z",
     "iopub.status.idle": "2021-12-14T00:24:14.463500Z",
     "shell.execute_reply": "2021-12-14T00:24:14.464045Z"
    },
    "papermill": {
     "duration": 0.05474,
     "end_time": "2021-12-14T00:24:14.464211",
     "exception": false,
     "start_time": "2021-12-14T00:24:14.409471",
     "status": "completed"
    },
    "tags": []
   },
   "outputs": [],
   "source": [
    "nn_learner = Learner(loss, model_nn, opt, config.num_epochs)\n",
    "acc_nn = ClfCallback(nn_learner, config.bs, training_data_x , testing_data_x, training_data_y, testing_data_y)\n",
    "nn_learner.set_callbacks([acc_nn])"
   ]
  },
  {
   "cell_type": "code",
   "execution_count": 21,
   "id": "877b6cc7",
   "metadata": {
    "execution": {
     "iopub.execute_input": "2021-12-14T00:24:14.537212Z",
     "iopub.status.busy": "2021-12-14T00:24:14.536483Z",
     "iopub.status.idle": "2021-12-14T00:24:14.551228Z",
     "shell.execute_reply": "2021-12-14T00:24:14.550422Z"
    },
    "papermill": {
     "duration": 0.053383,
     "end_time": "2021-12-14T00:24:14.551375",
     "exception": false,
     "start_time": "2021-12-14T00:24:14.497992",
     "status": "completed"
    },
    "tags": []
   },
   "outputs": [],
   "source": [
    "lr_learner = Learner(loss, model_lr, opt, config.num_epochs)\n",
    "acc_lr = ClfCallback(lr_learner, config.bs, training_data_x , testing_data_x, training_data_y, testing_data_y)\n",
    "lr_learner.set_callbacks([acc_lr])"
   ]
  },
  {
   "cell_type": "code",
   "execution_count": 22,
   "id": "d9b133c3",
   "metadata": {
    "execution": {
     "iopub.execute_input": "2021-12-14T00:24:14.628370Z",
     "iopub.status.busy": "2021-12-14T00:24:14.627626Z",
     "iopub.status.idle": "2021-12-14T00:26:36.025467Z",
     "shell.execute_reply": "2021-12-14T00:26:36.026395Z"
    },
    "papermill": {
     "duration": 141.440449,
     "end_time": "2021-12-14T00:26:36.026560",
     "exception": false,
     "start_time": "2021-12-14T00:24:14.586111",
     "status": "completed"
    },
    "tags": []
   },
   "outputs": [
    {
     "name": "stdout",
     "output_type": "stream",
     "text": [
      "Epoch 0, Loss 0.2527\n",
      "Training Accuracy: 0.5298, Testing Accuracy: 0.5131\n",
      "\n"
     ]
    },
    {
     "name": "stdout",
     "output_type": "stream",
     "text": [
      "Epoch 10, Loss 0.1295\n",
      "Training Accuracy: 0.9138, Testing Accuracy: 0.9178\n",
      "\n"
     ]
    },
    {
     "name": "stdout",
     "output_type": "stream",
     "text": [
      "Epoch 20, Loss 0.0659\n",
      "Training Accuracy: 0.9382, Testing Accuracy: 0.9501\n",
      "\n"
     ]
    },
    {
     "name": "stdout",
     "output_type": "stream",
     "text": [
      "Epoch 30, Loss 0.0482\n",
      "Training Accuracy: 0.9489, Testing Accuracy: 0.9582\n",
      "\n"
     ]
    },
    {
     "name": "stdout",
     "output_type": "stream",
     "text": [
      "Epoch 40, Loss 0.0405\n",
      "Training Accuracy: 0.9535, Testing Accuracy: 0.9632\n",
      "\n"
     ]
    },
    {
     "name": "stdout",
     "output_type": "stream",
     "text": [
      "Epoch 50, Loss 0.0361\n",
      "Training Accuracy: 0.9589, Testing Accuracy: 0.9647\n",
      "\n"
     ]
    },
    {
     "name": "stdout",
     "output_type": "stream",
     "text": [
      "Epoch 60, Loss 0.0332\n",
      "Training Accuracy: 0.9615, Testing Accuracy: 0.9662\n",
      "\n"
     ]
    },
    {
     "name": "stdout",
     "output_type": "stream",
     "text": [
      "Epoch 70, Loss 0.0311\n",
      "Training Accuracy: 0.9644, Testing Accuracy: 0.9682\n",
      "\n"
     ]
    },
    {
     "name": "stdout",
     "output_type": "stream",
     "text": [
      "Epoch 80, Loss 0.0294\n",
      "Training Accuracy: 0.9658, Testing Accuracy: 0.9693\n",
      "\n"
     ]
    },
    {
     "name": "stdout",
     "output_type": "stream",
     "text": [
      "Epoch 90, Loss 0.0281\n",
      "Training Accuracy: 0.9675, Testing Accuracy: 0.9688\n",
      "\n"
     ]
    },
    {
     "name": "stdout",
     "output_type": "stream",
     "text": [
      "Epoch 100, Loss 0.027\n",
      "Training Accuracy: 0.9690, Testing Accuracy: 0.9703\n",
      "\n"
     ]
    },
    {
     "name": "stdout",
     "output_type": "stream",
     "text": [
      "Epoch 110, Loss 0.026\n",
      "Training Accuracy: 0.9700, Testing Accuracy: 0.9718\n",
      "\n"
     ]
    },
    {
     "name": "stdout",
     "output_type": "stream",
     "text": [
      "Epoch 120, Loss 0.0251\n",
      "Training Accuracy: 0.9709, Testing Accuracy: 0.9718\n",
      "\n"
     ]
    },
    {
     "name": "stdout",
     "output_type": "stream",
     "text": [
      "Epoch 130, Loss 0.0244\n",
      "Training Accuracy: 0.9715, Testing Accuracy: 0.9718\n",
      "\n"
     ]
    },
    {
     "name": "stdout",
     "output_type": "stream",
     "text": [
      "Epoch 140, Loss 0.0237\n",
      "Training Accuracy: 0.9724, Testing Accuracy: 0.9723\n",
      "\n"
     ]
    },
    {
     "name": "stdout",
     "output_type": "stream",
     "text": [
      "Epoch 150, Loss 0.0231\n",
      "Training Accuracy: 0.9735, Testing Accuracy: 0.9733\n",
      "\n"
     ]
    },
    {
     "name": "stdout",
     "output_type": "stream",
     "text": [
      "Epoch 160, Loss 0.0226\n",
      "Training Accuracy: 0.9740, Testing Accuracy: 0.9743\n",
      "\n"
     ]
    },
    {
     "name": "stdout",
     "output_type": "stream",
     "text": [
      "Epoch 170, Loss 0.022\n",
      "Training Accuracy: 0.9746, Testing Accuracy: 0.9743\n",
      "\n"
     ]
    },
    {
     "name": "stdout",
     "output_type": "stream",
     "text": [
      "Epoch 180, Loss 0.0215\n",
      "Training Accuracy: 0.9751, Testing Accuracy: 0.9748\n",
      "\n"
     ]
    },
    {
     "name": "stdout",
     "output_type": "stream",
     "text": [
      "Epoch 190, Loss 0.0211\n",
      "Training Accuracy: 0.9757, Testing Accuracy: 0.9748\n",
      "\n"
     ]
    },
    {
     "name": "stdout",
     "output_type": "stream",
     "text": [
      "Epoch 200, Loss 0.0206\n",
      "Training Accuracy: 0.9762, Testing Accuracy: 0.9738\n",
      "\n"
     ]
    },
    {
     "name": "stdout",
     "output_type": "stream",
     "text": [
      "Epoch 210, Loss 0.0202\n",
      "Training Accuracy: 0.9770, Testing Accuracy: 0.9738\n",
      "\n"
     ]
    },
    {
     "name": "stdout",
     "output_type": "stream",
     "text": [
      "Epoch 220, Loss 0.0198\n",
      "Training Accuracy: 0.9776, Testing Accuracy: 0.9738\n",
      "\n"
     ]
    },
    {
     "name": "stdout",
     "output_type": "stream",
     "text": [
      "Epoch 230, Loss 0.0194\n",
      "Training Accuracy: 0.9783, Testing Accuracy: 0.9738\n",
      "\n"
     ]
    },
    {
     "name": "stdout",
     "output_type": "stream",
     "text": [
      "Epoch 240, Loss 0.0191\n",
      "Training Accuracy: 0.9786, Testing Accuracy: 0.9733\n",
      "\n"
     ]
    },
    {
     "data": {
      "text/plain": [
       "0.007941493817692323"
      ]
     },
     "execution_count": 22,
     "metadata": {},
     "output_type": "execute_result"
    }
   ],
   "source": [
    "nn_learner.train_loop(dl)"
   ]
  },
  {
   "cell_type": "code",
   "execution_count": 23,
   "id": "e0163366",
   "metadata": {
    "execution": {
     "iopub.execute_input": "2021-12-14T00:26:36.123769Z",
     "iopub.status.busy": "2021-12-14T00:26:36.123156Z",
     "iopub.status.idle": "2021-12-14T00:26:56.400100Z",
     "shell.execute_reply": "2021-12-14T00:26:56.401166Z"
    },
    "papermill": {
     "duration": 20.329673,
     "end_time": "2021-12-14T00:26:56.401357",
     "exception": false,
     "start_time": "2021-12-14T00:26:36.071684",
     "status": "completed"
    },
    "tags": []
   },
   "outputs": [
    {
     "name": "stdout",
     "output_type": "stream",
     "text": [
      "Epoch 0, Loss 0.2598\n",
      "Training Accuracy: 0.5966, Testing Accuracy: 0.6401\n",
      "\n"
     ]
    },
    {
     "name": "stdout",
     "output_type": "stream",
     "text": [
      "Epoch 10, Loss 0.1039\n",
      "Training Accuracy: 0.9106, Testing Accuracy: 0.9183\n",
      "\n"
     ]
    },
    {
     "name": "stdout",
     "output_type": "stream",
     "text": [
      "Epoch 20, Loss 0.0792\n",
      "Training Accuracy: 0.9286, Testing Accuracy: 0.9370\n",
      "\n"
     ]
    },
    {
     "name": "stdout",
     "output_type": "stream",
     "text": [
      "Epoch 30, Loss 0.068\n",
      "Training Accuracy: 0.9382, Testing Accuracy: 0.9491\n",
      "\n"
     ]
    },
    {
     "name": "stdout",
     "output_type": "stream",
     "text": [
      "Epoch 40, Loss 0.0614\n",
      "Training Accuracy: 0.9413, Testing Accuracy: 0.9551\n",
      "\n"
     ]
    },
    {
     "name": "stdout",
     "output_type": "stream",
     "text": [
      "Epoch 50, Loss 0.0569\n",
      "Training Accuracy: 0.9453, Testing Accuracy: 0.9592\n",
      "\n"
     ]
    },
    {
     "name": "stdout",
     "output_type": "stream",
     "text": [
      "Epoch 60, Loss 0.0536\n",
      "Training Accuracy: 0.9480, Testing Accuracy: 0.9607\n",
      "\n"
     ]
    },
    {
     "name": "stdout",
     "output_type": "stream",
     "text": [
      "Epoch 70, Loss 0.0511\n",
      "Training Accuracy: 0.9494, Testing Accuracy: 0.9607\n",
      "\n"
     ]
    },
    {
     "name": "stdout",
     "output_type": "stream",
     "text": [
      "Epoch 80, Loss 0.049\n",
      "Training Accuracy: 0.9511, Testing Accuracy: 0.9627\n",
      "\n"
     ]
    },
    {
     "name": "stdout",
     "output_type": "stream",
     "text": [
      "Epoch 90, Loss 0.0473\n",
      "Training Accuracy: 0.9528, Testing Accuracy: 0.9642\n",
      "\n"
     ]
    },
    {
     "name": "stdout",
     "output_type": "stream",
     "text": [
      "Epoch 100, Loss 0.0459\n",
      "Training Accuracy: 0.9532, Testing Accuracy: 0.9657\n",
      "\n"
     ]
    },
    {
     "name": "stdout",
     "output_type": "stream",
     "text": [
      "Epoch 110, Loss 0.0447\n",
      "Training Accuracy: 0.9543, Testing Accuracy: 0.9667\n",
      "\n"
     ]
    },
    {
     "name": "stdout",
     "output_type": "stream",
     "text": [
      "Epoch 120, Loss 0.0436\n",
      "Training Accuracy: 0.9554, Testing Accuracy: 0.9662\n",
      "\n"
     ]
    },
    {
     "name": "stdout",
     "output_type": "stream",
     "text": [
      "Epoch 130, Loss 0.0427\n",
      "Training Accuracy: 0.9564, Testing Accuracy: 0.9662\n",
      "\n"
     ]
    },
    {
     "name": "stdout",
     "output_type": "stream",
     "text": [
      "Epoch 140, Loss 0.0419\n",
      "Training Accuracy: 0.9574, Testing Accuracy: 0.9662\n",
      "\n"
     ]
    },
    {
     "name": "stdout",
     "output_type": "stream",
     "text": [
      "Epoch 150, Loss 0.0411\n",
      "Training Accuracy: 0.9582, Testing Accuracy: 0.9662\n",
      "\n"
     ]
    },
    {
     "name": "stdout",
     "output_type": "stream",
     "text": [
      "Epoch 160, Loss 0.0405\n",
      "Training Accuracy: 0.9590, Testing Accuracy: 0.9662\n",
      "\n"
     ]
    },
    {
     "name": "stdout",
     "output_type": "stream",
     "text": [
      "Epoch 170, Loss 0.0398\n",
      "Training Accuracy: 0.9599, Testing Accuracy: 0.9662\n",
      "\n"
     ]
    },
    {
     "name": "stdout",
     "output_type": "stream",
     "text": [
      "Epoch 180, Loss 0.0393\n",
      "Training Accuracy: 0.9602, Testing Accuracy: 0.9667\n",
      "\n"
     ]
    },
    {
     "name": "stdout",
     "output_type": "stream",
     "text": [
      "Epoch 190, Loss 0.0388\n",
      "Training Accuracy: 0.9604, Testing Accuracy: 0.9677\n",
      "\n"
     ]
    },
    {
     "name": "stdout",
     "output_type": "stream",
     "text": [
      "Epoch 200, Loss 0.0383\n",
      "Training Accuracy: 0.9610, Testing Accuracy: 0.9677\n",
      "\n"
     ]
    },
    {
     "name": "stdout",
     "output_type": "stream",
     "text": [
      "Epoch 210, Loss 0.0378\n",
      "Training Accuracy: 0.9614, Testing Accuracy: 0.9677\n",
      "\n"
     ]
    },
    {
     "name": "stdout",
     "output_type": "stream",
     "text": [
      "Epoch 220, Loss 0.0374\n",
      "Training Accuracy: 0.9617, Testing Accuracy: 0.9677\n",
      "\n"
     ]
    },
    {
     "name": "stdout",
     "output_type": "stream",
     "text": [
      "Epoch 230, Loss 0.037\n",
      "Training Accuracy: 0.9619, Testing Accuracy: 0.9677\n",
      "\n"
     ]
    },
    {
     "name": "stdout",
     "output_type": "stream",
     "text": [
      "Epoch 240, Loss 0.0367\n",
      "Training Accuracy: 0.9619, Testing Accuracy: 0.9677\n",
      "\n"
     ]
    },
    {
     "data": {
      "text/plain": [
       "0.011836736722828846"
      ]
     },
     "execution_count": 23,
     "metadata": {},
     "output_type": "execute_result"
    }
   ],
   "source": [
    "lr_learner.train_loop(dl)"
   ]
  },
  {
   "cell_type": "code",
   "execution_count": 24,
   "id": "ca410940",
   "metadata": {
    "execution": {
     "iopub.execute_input": "2021-12-14T00:26:56.513470Z",
     "iopub.status.busy": "2021-12-14T00:26:56.512738Z",
     "iopub.status.idle": "2021-12-14T00:26:56.813185Z",
     "shell.execute_reply": "2021-12-14T00:26:56.813685Z"
    },
    "papermill": {
     "duration": 0.359201,
     "end_time": "2021-12-14T00:26:56.813829",
     "exception": false,
     "start_time": "2021-12-14T00:26:56.454628",
     "status": "completed"
    },
    "tags": []
   },
   "outputs": [
    {
     "data": {
      "text/plain": [
       "<matplotlib.legend.Legend at 0x7fb513459b70>"
      ]
     },
     "execution_count": 24,
     "metadata": {},
     "output_type": "execute_result"
    },
    {
     "data": {
      "image/png": "[encoded data removed]",
      "text/plain": [
       "<Figure size 1080x720 with 1 Axes>"
      ]
     },
     "metadata": {
      "needs_background": "light"
     },
     "output_type": "display_data"
    }
   ],
   "source": [
    "#comparing the results of NN and LR\n",
    "plt.figure(figsize=(15,10))\n",
    "\n",
    "# Neural Network plots\n",
    "plt.plot(acc_nn.accuracies, 'r-', label = \"Training Accuracies - NN\")\n",
    "plt.plot(acc_nn.test_accuracies, 'g-', label = \"Testing Accuracies - NN\")\n",
    "\n",
    "# Logistic Regression plots\n",
    "plt.plot(acc_lr.accuracies, 'k-', label = \"Training Accuracies - LR\")\n",
    "plt.plot(acc_lr.test_accuracies, 'b-', label = \"Testing Accuracies - LR\")\n",
    "plt.legend()"
   ]
  },
  {
   "cell_type": "markdown",
   "id": "80dfb35c",
   "metadata": {
    "papermill": {
     "duration": 0.047186,
     "end_time": "2021-12-14T00:26:56.911319",
     "exception": false,
     "start_time": "2021-12-14T00:26:56.864133",
     "status": "completed"
    },
    "tags": []
   },
   "source": [
    "#### Plotting the outputs of this layer of the NN.\n"
   ]
  },
  {
   "cell_type": "code",
   "execution_count": 25,
   "id": "45eb2ff5",
   "metadata": {
    "execution": {
     "iopub.execute_input": "2021-12-14T00:26:57.015817Z",
     "iopub.status.busy": "2021-12-14T00:26:57.014665Z",
     "iopub.status.idle": "2021-12-14T00:26:57.043715Z",
     "shell.execute_reply": "2021-12-14T00:26:57.044296Z"
    },
    "papermill": {
     "duration": 0.08388,
     "end_time": "2021-12-14T00:26:57.044501",
     "exception": false,
     "start_time": "2021-12-14T00:26:56.960621",
     "status": "completed"
    },
    "tags": []
   },
   "outputs": [],
   "source": [
    "new_model = Model(layers[:-2])\n",
    "testing_plot = new_model(testing_data_x)"
   ]
  },
  {
   "cell_type": "code",
   "execution_count": 26,
   "id": "4c0a5485",
   "metadata": {
    "execution": {
     "iopub.execute_input": "2021-12-14T00:26:57.154362Z",
     "iopub.status.busy": "2021-12-14T00:26:57.153603Z",
     "iopub.status.idle": "2021-12-14T00:26:57.409122Z",
     "shell.execute_reply": "2021-12-14T00:26:57.408588Z"
    },
    "papermill": {
     "duration": 0.312553,
     "end_time": "2021-12-14T00:26:57.409283",
     "exception": false,
     "start_time": "2021-12-14T00:26:57.096730",
     "status": "completed"
    },
    "tags": []
   },
   "outputs": [
    {
     "data": {
      "text/plain": [
       "Text(0.5, 1.0, 'Outputs')"
      ]
     },
     "execution_count": 26,
     "metadata": {},
     "output_type": "execute_result"
    },
    {
     "data": {
      "image/png": "[encoded data removed]",
      "text/plain": [
       "<Figure size 576x504 with 1 Axes>"
      ]
     },
     "metadata": {
      "needs_background": "light"
     },
     "output_type": "display_data"
    }
   ],
   "source": [
    "# Plotting the scatter plot of points and color coding by class\n",
    "plt.figure(figsize=(8,7))\n",
    "plt.scatter(testing_plot[:,0], testing_plot[:,1], alpha = 0.1, c = y_test.ravel());\n",
    "plt.title('Outputs')"
   ]
  },
  {
   "cell_type": "markdown",
   "id": "a74fcf8f",
   "metadata": {
    "papermill": {
     "duration": 0.051669,
     "end_time": "2021-12-14T00:26:57.514600",
     "exception": false,
     "start_time": "2021-12-14T00:26:57.462931",
     "status": "completed"
    },
    "tags": []
   },
   "source": [
    "Probability contours"
   ]
  },
  {
   "cell_type": "code",
   "execution_count": 27,
   "id": "d0afc8e3",
   "metadata": {
    "execution": {
     "iopub.execute_input": "2021-12-14T00:26:57.625761Z",
     "iopub.status.busy": "2021-12-14T00:26:57.625045Z",
     "iopub.status.idle": "2021-12-14T00:26:57.637167Z",
     "shell.execute_reply": "2021-12-14T00:26:57.636651Z"
    },
    "papermill": {
     "duration": 0.070643,
     "end_time": "2021-12-14T00:26:57.637293",
     "exception": false,
     "start_time": "2021-12-14T00:26:57.566650",
     "status": "completed"
    },
    "tags": []
   },
   "outputs": [],
   "source": [
    "model_prob = Model(layers[-2:]) "
   ]
  },
  {
   "cell_type": "code",
   "execution_count": 28,
   "id": "9b96e238",
   "metadata": {
    "execution": {
     "iopub.execute_input": "2021-12-14T00:26:57.747105Z",
     "iopub.status.busy": "2021-12-14T00:26:57.746458Z",
     "iopub.status.idle": "2021-12-14T00:26:57.761456Z",
     "shell.execute_reply": "2021-12-14T00:26:57.762028Z"
    },
    "papermill": {
     "duration": 0.072375,
     "end_time": "2021-12-14T00:26:57.762261",
     "exception": false,
     "start_time": "2021-12-14T00:26:57.689886",
     "status": "completed"
    },
    "tags": []
   },
   "outputs": [],
   "source": [
    "#creating the x and y ranges according to the above generated plot.\n",
    "x_range = np.linspace(-4, 1, 100) \n",
    "y_range = np.linspace(-6, 6, 100) \n",
    "x_grid, y_grid = np.meshgrid(x_range, y_range) # x_grid and y_grig are of size 100 X 100\n",
    "\n",
    "# converting x_grid and y_grid to continuous arrays\n",
    "x_gridflat = np.ravel(x_grid)\n",
    "y_gridflat = np.ravel(y_grid)\n",
    "\n",
    "# The last layer of the current model takes two columns as input. Hence transpose of np.vstack() is required.\n",
    "X = np.vstack((x_gridflat, y_gridflat)).T\n",
    "\n",
    "prob_contour = model_prob(X).reshape(100,100) "
   ]
  },
  {
   "cell_type": "code",
   "execution_count": 29,
   "id": "da72499a",
   "metadata": {
    "execution": {
     "iopub.execute_input": "2021-12-14T00:26:57.909377Z",
     "iopub.status.busy": "2021-12-14T00:26:57.908499Z",
     "iopub.status.idle": "2021-12-14T00:26:58.244720Z",
     "shell.execute_reply": "2021-12-14T00:26:58.245304Z"
    },
    "papermill": {
     "duration": 0.398503,
     "end_time": "2021-12-14T00:26:58.245465",
     "exception": false,
     "start_time": "2021-12-14T00:26:57.846962",
     "status": "completed"
    },
    "tags": []
   },
   "outputs": [
    {
     "data": {
      "image/png": "[encoded data removed]",
      "text/plain": [
       "<Figure size 720x648 with 1 Axes>"
      ]
     },
     "metadata": {
      "needs_background": "light"
     },
     "output_type": "display_data"
    }
   ],
   "source": [
    "plt.figure(figsize=(10,9))\n",
    "plt.scatter(testing_plot[:,0], testing_plot[:,1], alpha = 0.1, c = y_test.ravel())\n",
    "contours = plt.contour(x_grid,y_grid,prob_contour)\n",
    "plt.title('Probability Contours')\n",
    "plt.clabel(contours, inline = True );"
   ]
  },
  {
   "cell_type": "code",
   "execution_count": null,
   "id": "e81b4ac7",
   "metadata": {
    "papermill": {
     "duration": 0.059118,
     "end_time": "2021-12-14T00:26:58.359457",
     "exception": false,
     "start_time": "2021-12-14T00:26:58.300339",
     "status": "completed"
    },
    "tags": []
   },
   "outputs": [],
   "source": []
  }
 ],
 "metadata": {
  "kernelspec": {
   "display_name": "Python 3",
   "language": "python",
   "name": "python3"
  },
  "language_info": {
   "codemirror_mode": {
    "name": "ipython",
    "version": 3
   },
   "file_extension": ".py",
   "mimetype": "text/x-python",
   "name": "python",
   "nbconvert_exporter": "python",
   "pygments_lexer": "ipython3",
   "version": "3.6.15"
  },
  "papermill": {
   "default_parameters": {},
   "duration": 171.588403,
   "end_time": "2021-12-14T00:26:58.825364",
   "environment_variables": {},
   "exception": null,
   "input_path": "2020-08-11-part2.ipynb",
   "output_path": "2020-08-11-part2.ipynb",
   "parameters": {},
   "start_time": "2021-12-14T00:24:07.236961",
   "version": "2.3.3"
  }
 },
 "nbformat": 4,
 "nbformat_minor": 5
}