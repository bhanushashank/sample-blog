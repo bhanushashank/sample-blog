{
 "cells": [
  {
   "cell_type": "markdown",
   "id": "98380cd3",
   "metadata": {
    "papermill": {
     "duration": 0.029244,
     "end_time": "2022-05-25T00:42:59.092017",
     "exception": false,
     "start_time": "2022-05-25T00:42:59.062773",
     "status": "completed"
    },
    "tags": []
   },
   "source": [
    "# Distinguish Your Own Digits (DYOD)"
   ]
  },
  {
   "cell_type": "markdown",
   "id": "ef31240d",
   "metadata": {
    "papermill": {
     "duration": 0.023776,
     "end_time": "2022-05-25T00:42:59.140680",
     "exception": false,
     "start_time": "2022-05-25T00:42:59.116904",
     "status": "completed"
    },
    "tags": []
   },
   "source": [
    "You are going to write a classifier that distinguishes between the number 3 and number 8."
   ]
  },
  {
   "cell_type": "code",
   "execution_count": 1,
   "id": "b15c8646",
   "metadata": {
    "execution": {
     "iopub.execute_input": "2022-05-25T00:42:59.200180Z",
     "iopub.status.busy": "2022-05-25T00:42:59.199570Z",
     "iopub.status.idle": "2022-05-25T00:42:59.209488Z",
     "shell.execute_reply": "2022-05-25T00:42:59.209012Z"
    },
    "papermill": {
     "duration": 0.045277,
     "end_time": "2022-05-25T00:42:59.209623",
     "exception": false,
     "start_time": "2022-05-25T00:42:59.164346",
     "status": "completed"
    },
    "tags": []
   },
   "outputs": [],
   "source": [
    "%load_ext autoreload\n",
    "%autoreload 2"
   ]
  },
  {
   "cell_type": "code",
   "execution_count": 2,
   "id": "22ef38dc",
   "metadata": {
    "execution": {
     "iopub.execute_input": "2022-05-25T00:42:59.262133Z",
     "iopub.status.busy": "2022-05-25T00:42:59.261458Z",
     "iopub.status.idle": "2022-05-25T00:42:59.749215Z",
     "shell.execute_reply": "2022-05-25T00:42:59.748655Z"
    },
    "papermill": {
     "duration": 0.515914,
     "end_time": "2022-05-25T00:42:59.749348",
     "exception": false,
     "start_time": "2022-05-25T00:42:59.233434",
     "status": "completed"
    },
    "tags": []
   },
   "outputs": [],
   "source": [
    "%matplotlib inline\n",
    "import numpy as np\n",
    "import matplotlib.pyplot as plt\n",
    "import pandas as pd"
   ]
  },
  {
   "cell_type": "markdown",
   "id": "ba036198",
   "metadata": {
    "papermill": {
     "duration": 0.023637,
     "end_time": "2022-05-25T00:42:59.796984",
     "exception": false,
     "start_time": "2022-05-25T00:42:59.773347",
     "status": "completed"
    },
    "tags": []
   },
   "source": [
    "From the command line run `pip install mnist`. This is a library that will help you bring down the mnist dataset. If you run this from a notebook, you need to put  `!pip install mnist` in a cell by itself."
   ]
  },
  {
   "cell_type": "code",
   "execution_count": 3,
   "id": "bb6ad8a1",
   "metadata": {
    "execution": {
     "iopub.execute_input": "2022-05-25T00:42:59.852254Z",
     "iopub.status.busy": "2022-05-25T00:42:59.851662Z",
     "iopub.status.idle": "2022-05-25T00:43:01.500261Z",
     "shell.execute_reply": "2022-05-25T00:43:01.499673Z"
    },
    "papermill": {
     "duration": 1.679671,
     "end_time": "2022-05-25T00:43:01.500409",
     "exception": false,
     "start_time": "2022-05-25T00:42:59.820738",
     "status": "completed"
    },
    "tags": []
   },
   "outputs": [
    {
     "name": "stdout",
     "output_type": "stream",
     "text": [
      "Collecting mnist\r\n"
     ]
    },
    {
     "name": "stdout",
     "output_type": "stream",
     "text": [
      "  Downloading mnist-0.2.2-py2.py3-none-any.whl (3.5 kB)\r\n",
      "Requirement already satisfied: numpy in /opt/hostedtoolcache/Python/3.6.15/x64/lib/python3.6/site-packages (from mnist) (1.19.5)\r\n"
     ]
    },
    {
     "name": "stdout",
     "output_type": "stream",
     "text": [
      "Installing collected packages: mnist\r\n"
     ]
    },
    {
     "name": "stdout",
     "output_type": "stream",
     "text": [
      "Successfully installed mnist-0.2.2\r\n"
     ]
    }
   ],
   "source": [
    "!pip install mnist"
   ]
  },
  {
   "cell_type": "markdown",
   "id": "69df9c9a",
   "metadata": {
    "papermill": {
     "duration": 0.022234,
     "end_time": "2022-05-25T00:43:01.545807",
     "exception": false,
     "start_time": "2022-05-25T00:43:01.523573",
     "status": "completed"
    },
    "tags": []
   },
   "source": [
    "## Preparing the Data"
   ]
  },
  {
   "cell_type": "code",
   "execution_count": 4,
   "id": "7f69d806",
   "metadata": {
    "execution": {
     "iopub.execute_input": "2022-05-25T00:43:01.595502Z",
     "iopub.status.busy": "2022-05-25T00:43:01.594980Z",
     "iopub.status.idle": "2022-05-25T00:43:01.608786Z",
     "shell.execute_reply": "2022-05-25T00:43:01.608327Z"
    },
    "papermill": {
     "duration": 0.041192,
     "end_time": "2022-05-25T00:43:01.608896",
     "exception": false,
     "start_time": "2022-05-25T00:43:01.567704",
     "status": "completed"
    },
    "tags": []
   },
   "outputs": [],
   "source": [
    "import mnist"
   ]
  },
  {
   "cell_type": "code",
   "execution_count": 5,
   "id": "a411e44f",
   "metadata": {
    "execution": {
     "iopub.execute_input": "2022-05-25T00:43:01.656767Z",
     "iopub.status.busy": "2022-05-25T00:43:01.656214Z",
     "iopub.status.idle": "2022-05-25T00:43:02.217773Z",
     "shell.execute_reply": "2022-05-25T00:43:02.217175Z"
    },
    "papermill": {
     "duration": 0.587006,
     "end_time": "2022-05-25T00:43:02.217921",
     "exception": false,
     "start_time": "2022-05-25T00:43:01.630915",
     "status": "completed"
    },
    "tags": []
   },
   "outputs": [],
   "source": [
    "train_images = mnist.train_images()\n",
    "train_labels = mnist.train_labels()"
   ]
  },
  {
   "cell_type": "code",
   "execution_count": 6,
   "id": "dceab3a5",
   "metadata": {
    "execution": {
     "iopub.execute_input": "2022-05-25T00:43:02.267643Z",
     "iopub.status.busy": "2022-05-25T00:43:02.267106Z",
     "iopub.status.idle": "2022-05-25T00:43:02.280952Z",
     "shell.execute_reply": "2022-05-25T00:43:02.281447Z"
    },
    "papermill": {
     "duration": 0.040854,
     "end_time": "2022-05-25T00:43:02.281576",
     "exception": false,
     "start_time": "2022-05-25T00:43:02.240722",
     "status": "completed"
    },
    "tags": []
   },
   "outputs": [
    {
     "data": {
      "text/plain": [
       "((60000, 28, 28), (60000,))"
      ]
     },
     "execution_count": 6,
     "metadata": {},
     "output_type": "execute_result"
    }
   ],
   "source": [
    "train_images.shape, train_labels.shape"
   ]
  },
  {
   "cell_type": "code",
   "execution_count": 7,
   "id": "f50dc2bb",
   "metadata": {
    "execution": {
     "iopub.execute_input": "2022-05-25T00:43:02.330154Z",
     "iopub.status.busy": "2022-05-25T00:43:02.329640Z",
     "iopub.status.idle": "2022-05-25T00:43:02.491153Z",
     "shell.execute_reply": "2022-05-25T00:43:02.490504Z"
    },
    "papermill": {
     "duration": 0.187507,
     "end_time": "2022-05-25T00:43:02.491312",
     "exception": false,
     "start_time": "2022-05-25T00:43:02.303805",
     "status": "completed"
    },
    "tags": []
   },
   "outputs": [],
   "source": [
    "test_images = mnist.test_images()\n",
    "test_labels = mnist.test_labels()"
   ]
  },
  {
   "cell_type": "code",
   "execution_count": 8,
   "id": "fc38cf1b",
   "metadata": {
    "execution": {
     "iopub.execute_input": "2022-05-25T00:43:02.539794Z",
     "iopub.status.busy": "2022-05-25T00:43:02.539280Z",
     "iopub.status.idle": "2022-05-25T00:43:02.553198Z",
     "shell.execute_reply": "2022-05-25T00:43:02.553692Z"
    },
    "papermill": {
     "duration": 0.039663,
     "end_time": "2022-05-25T00:43:02.553815",
     "exception": false,
     "start_time": "2022-05-25T00:43:02.514152",
     "status": "completed"
    },
    "tags": []
   },
   "outputs": [
    {
     "data": {
      "text/plain": [
       "((10000, 28, 28), (10000,))"
      ]
     },
     "execution_count": 8,
     "metadata": {},
     "output_type": "execute_result"
    }
   ],
   "source": [
    "test_images.shape, test_labels.shape"
   ]
  },
  {
   "cell_type": "code",
   "execution_count": 9,
   "id": "f9ed8fe0",
   "metadata": {
    "execution": {
     "iopub.execute_input": "2022-05-25T00:43:02.601883Z",
     "iopub.status.busy": "2022-05-25T00:43:02.601374Z",
     "iopub.status.idle": "2022-05-25T00:43:02.738952Z",
     "shell.execute_reply": "2022-05-25T00:43:02.739354Z"
    },
    "papermill": {
     "duration": 0.16347,
     "end_time": "2022-05-25T00:43:02.739488",
     "exception": false,
     "start_time": "2022-05-25T00:43:02.576018",
     "status": "completed"
    },
    "tags": []
   },
   "outputs": [
    {
     "name": "stdout",
     "output_type": "stream",
     "text": [
      "2\n"
     ]
    },
    {
     "data": {
      "text/plain": [
       "<matplotlib.image.AxesImage at 0x7fc859a8ae10>"
      ]
     },
     "execution_count": 9,
     "metadata": {},
     "output_type": "execute_result"
    },
    {
     "data": {
      "image/png": "[encoded data removed]",
      "text/plain": [
       "<Figure size 432x288 with 1 Axes>"
      ]
     },
     "metadata": {
      "needs_background": "light"
     },
     "output_type": "display_data"
    }
   ],
   "source": [
    "image_index = 7776 # You may select anything up to 60,000\n",
    "print(train_labels[image_index]) \n",
    "plt.imshow(train_images[image_index], cmap='Greys')"
   ]
  },
  {
   "cell_type": "markdown",
   "id": "a8d2388d",
   "metadata": {
    "papermill": {
     "duration": 0.023564,
     "end_time": "2022-05-25T00:43:02.786464",
     "exception": false,
     "start_time": "2022-05-25T00:43:02.762900",
     "status": "completed"
    },
    "tags": []
   },
   "source": [
    "## Filter data to get 3 and 8 out"
   ]
  },
  {
   "cell_type": "code",
   "execution_count": 10,
   "id": "776f7fc7",
   "metadata": {
    "execution": {
     "iopub.execute_input": "2022-05-25T00:43:02.851999Z",
     "iopub.status.busy": "2022-05-25T00:43:02.848117Z",
     "iopub.status.idle": "2022-05-25T00:43:02.859129Z",
     "shell.execute_reply": "2022-05-25T00:43:02.859564Z"
    },
    "papermill": {
     "duration": 0.049372,
     "end_time": "2022-05-25T00:43:02.859694",
     "exception": false,
     "start_time": "2022-05-25T00:43:02.810322",
     "status": "completed"
    },
    "tags": []
   },
   "outputs": [],
   "source": [
    "train_filter = np.where((train_labels == 3 ) | (train_labels == 8))\n",
    "test_filter = np.where((test_labels == 3) | (test_labels == 8))\n",
    "X_train, y_train = train_images[train_filter], train_labels[train_filter]\n",
    "X_test, y_test = test_images[test_filter], test_labels[test_filter]"
   ]
  },
  {
   "cell_type": "markdown",
   "id": "948f0b7e",
   "metadata": {
    "papermill": {
     "duration": 0.023137,
     "end_time": "2022-05-25T00:43:02.906333",
     "exception": false,
     "start_time": "2022-05-25T00:43:02.883196",
     "status": "completed"
    },
    "tags": []
   },
   "source": [
    "We normalize the pizel values in the 0 to 1 range"
   ]
  },
  {
   "cell_type": "code",
   "execution_count": 11,
   "id": "ee4c2166",
   "metadata": {
    "execution": {
     "iopub.execute_input": "2022-05-25T00:43:02.959568Z",
     "iopub.status.busy": "2022-05-25T00:43:02.955602Z",
     "iopub.status.idle": "2022-05-25T00:43:03.002139Z",
     "shell.execute_reply": "2022-05-25T00:43:03.001585Z"
    },
    "papermill": {
     "duration": 0.072968,
     "end_time": "2022-05-25T00:43:03.002272",
     "exception": false,
     "start_time": "2022-05-25T00:43:02.929304",
     "status": "completed"
    },
    "tags": []
   },
   "outputs": [],
   "source": [
    "X_train = X_train/255.\n",
    "X_test = X_test/255."
   ]
  },
  {
   "cell_type": "markdown",
   "id": "ddcf4fab",
   "metadata": {
    "papermill": {
     "duration": 0.026301,
     "end_time": "2022-05-25T00:43:03.055295",
     "exception": false,
     "start_time": "2022-05-25T00:43:03.028994",
     "status": "completed"
    },
    "tags": []
   },
   "source": [
    "And setup the labels as 1 (when the digit is 3) and 0 (when the digit is 8)"
   ]
  },
  {
   "cell_type": "code",
   "execution_count": 12,
   "id": "7dc908f2",
   "metadata": {
    "execution": {
     "iopub.execute_input": "2022-05-25T00:43:03.115355Z",
     "iopub.status.busy": "2022-05-25T00:43:03.112090Z",
     "iopub.status.idle": "2022-05-25T00:43:03.125217Z",
     "shell.execute_reply": "2022-05-25T00:43:03.124726Z"
    },
    "papermill": {
     "duration": 0.043626,
     "end_time": "2022-05-25T00:43:03.125335",
     "exception": false,
     "start_time": "2022-05-25T00:43:03.081709",
     "status": "completed"
    },
    "tags": []
   },
   "outputs": [],
   "source": [
    "y_train = 1*(y_train==3)\n",
    "y_test = 1*(y_test==3)"
   ]
  },
  {
   "cell_type": "code",
   "execution_count": 13,
   "id": "01e4e969",
   "metadata": {
    "execution": {
     "iopub.execute_input": "2022-05-25T00:43:03.181922Z",
     "iopub.status.busy": "2022-05-25T00:43:03.181349Z",
     "iopub.status.idle": "2022-05-25T00:43:03.195850Z",
     "shell.execute_reply": "2022-05-25T00:43:03.195370Z"
    },
    "papermill": {
     "duration": 0.044192,
     "end_time": "2022-05-25T00:43:03.195966",
     "exception": false,
     "start_time": "2022-05-25T00:43:03.151774",
     "status": "completed"
    },
    "tags": []
   },
   "outputs": [
    {
     "data": {
      "text/plain": [
       "((11982, 28, 28), (1984, 28, 28))"
      ]
     },
     "execution_count": 13,
     "metadata": {},
     "output_type": "execute_result"
    }
   ],
   "source": [
    "X_train.shape, X_test.shape"
   ]
  },
  {
   "cell_type": "markdown",
   "id": "5ccf3f85",
   "metadata": {
    "papermill": {
     "duration": 0.026519,
     "end_time": "2022-05-25T00:43:03.249070",
     "exception": false,
     "start_time": "2022-05-25T00:43:03.222551",
     "status": "completed"
    },
    "tags": []
   },
   "source": [
    "We reshape the data to flatten the image pixels into a set of features or co-variates:"
   ]
  },
  {
   "cell_type": "code",
   "execution_count": 14,
   "id": "5286a4a3",
   "metadata": {
    "execution": {
     "iopub.execute_input": "2022-05-25T00:43:03.308225Z",
     "iopub.status.busy": "2022-05-25T00:43:03.307602Z",
     "iopub.status.idle": "2022-05-25T00:43:03.321192Z",
     "shell.execute_reply": "2022-05-25T00:43:03.320604Z"
    },
    "papermill": {
     "duration": 0.045553,
     "end_time": "2022-05-25T00:43:03.321313",
     "exception": false,
     "start_time": "2022-05-25T00:43:03.275760",
     "status": "completed"
    },
    "tags": []
   },
   "outputs": [
    {
     "data": {
      "text/plain": [
       "((11982, 784), (1984, 784))"
      ]
     },
     "execution_count": 14,
     "metadata": {},
     "output_type": "execute_result"
    }
   ],
   "source": [
    "X_train = X_train.reshape(X_train.shape[0], -1)\n",
    "X_test = X_test.reshape(X_test.shape[0], -1)\n",
    "X_train.shape, X_test.shape"
   ]
  },
  {
   "cell_type": "code",
   "execution_count": 15,
   "id": "73c5f88a",
   "metadata": {
    "execution": {
     "iopub.execute_input": "2022-05-25T00:43:03.389566Z",
     "iopub.status.busy": "2022-05-25T00:43:03.385361Z",
     "iopub.status.idle": "2022-05-25T00:43:03.399976Z",
     "shell.execute_reply": "2022-05-25T00:43:03.399490Z"
    },
    "papermill": {
     "duration": 0.051644,
     "end_time": "2022-05-25T00:43:03.400090",
     "exception": false,
     "start_time": "2022-05-25T00:43:03.348446",
     "status": "completed"
    },
    "tags": []
   },
   "outputs": [],
   "source": [
    "#Impoting functions from 'Kudzu'\n",
    "from kudzu.model import Model\n",
    "from kudzu.train import Learner\n",
    "from kudzu.optim import GD\n",
    "from kudzu.data import Data, Sampler,Dataloader\n",
    "\n",
    "from kudzu.callbacks import AccCallback\n",
    "from kudzu.callbacks import ClfCallback\n",
    "\n",
    "from kudzu.loss import MSE\n",
    "\n",
    "from kudzu.layer import Sigmoid,Relu\n",
    "from kudzu.layer import Affine"
   ]
  },
  {
   "cell_type": "markdown",
   "id": "bc01172a",
   "metadata": {
    "papermill": {
     "duration": 0.02701,
     "end_time": "2022-05-25T00:43:03.454487",
     "exception": false,
     "start_time": "2022-05-25T00:43:03.427477",
     "status": "completed"
    },
    "tags": []
   },
   "source": [
    "### Let us create a `Config` class, to store important parameters. \n",
    "This class essentially plays the role of a dictionary."
   ]
  },
  {
   "cell_type": "code",
   "execution_count": 16,
   "id": "978281aa",
   "metadata": {
    "execution": {
     "iopub.execute_input": "2022-05-25T00:43:03.512999Z",
     "iopub.status.busy": "2022-05-25T00:43:03.512318Z",
     "iopub.status.idle": "2022-05-25T00:43:03.524414Z",
     "shell.execute_reply": "2022-05-25T00:43:03.523931Z"
    },
    "papermill": {
     "duration": 0.043154,
     "end_time": "2022-05-25T00:43:03.524551",
     "exception": false,
     "start_time": "2022-05-25T00:43:03.481397",
     "status": "completed"
    },
    "tags": []
   },
   "outputs": [],
   "source": [
    "class Config:\n",
    "    pass\n",
    "config = Config()\n",
    "config.lr = 0.001\n",
    "config.num_epochs = 250\n",
    "config.bs = 50"
   ]
  },
  {
   "cell_type": "markdown",
   "id": "1385fa59",
   "metadata": {
    "papermill": {
     "duration": 0.026674,
     "end_time": "2022-05-25T00:43:03.578122",
     "exception": false,
     "start_time": "2022-05-25T00:43:03.551448",
     "status": "completed"
    },
    "tags": []
   },
   "source": [
    "### Running Models with the Training data\n",
    "Details about the network layers:\n",
    "- A first affine layer has 784 inputs and does 100 affine transforms. These are followed by a Relu\n",
    "- A second affine layer has 100 inputs from the 100 activations of the past layer, and does 100 affine transforms. These are followed by a Relu\n",
    "- A third affine layer has 100 activations and does 2 affine transformations to create an embedding for visualization. There is no non-linearity here.\n",
    "- A final \"logistic regression\" which has an affine transform from 2 inputs to 1 output, which is squeezed through a sigmoid.\n"
   ]
  },
  {
   "cell_type": "code",
   "execution_count": 17,
   "id": "2b9c66db",
   "metadata": {
    "execution": {
     "iopub.execute_input": "2022-05-25T00:43:03.638025Z",
     "iopub.status.busy": "2022-05-25T00:43:03.637442Z",
     "iopub.status.idle": "2022-05-25T00:43:03.649949Z",
     "shell.execute_reply": "2022-05-25T00:43:03.649200Z"
    },
    "papermill": {
     "duration": 0.045247,
     "end_time": "2022-05-25T00:43:03.650073",
     "exception": false,
     "start_time": "2022-05-25T00:43:03.604826",
     "status": "completed"
    },
    "tags": []
   },
   "outputs": [],
   "source": [
    "data = Data(X_train, y_train.reshape(-1,1))\n",
    "sampler = Sampler(data, config.bs, shuffle=True)\n",
    "\n",
    "dl = Dataloader(data, sampler)\n",
    "\n",
    "opt = GD(config.lr)\n",
    "loss = MSE()"
   ]
  },
  {
   "cell_type": "code",
   "execution_count": 18,
   "id": "b275e4c2",
   "metadata": {
    "execution": {
     "iopub.execute_input": "2022-05-25T00:43:03.701550Z",
     "iopub.status.busy": "2022-05-25T00:43:03.701027Z",
     "iopub.status.idle": "2022-05-25T00:43:03.713865Z",
     "shell.execute_reply": "2022-05-25T00:43:03.714270Z"
    },
    "papermill": {
     "duration": 0.040407,
     "end_time": "2022-05-25T00:43:03.714392",
     "exception": false,
     "start_time": "2022-05-25T00:43:03.673985",
     "status": "completed"
    },
    "tags": []
   },
   "outputs": [],
   "source": [
    "training_data_x = X_train\n",
    "testing_data_x = X_test\n",
    "training_data_y = y_train.reshape(-1,1)\n",
    "testing_data_y = y_test.reshape(-1,1)"
   ]
  },
  {
   "cell_type": "code",
   "execution_count": 19,
   "id": "76951160",
   "metadata": {
    "execution": {
     "iopub.execute_input": "2022-05-25T00:43:03.766159Z",
     "iopub.status.busy": "2022-05-25T00:43:03.765641Z",
     "iopub.status.idle": "2022-05-25T00:43:03.782463Z",
     "shell.execute_reply": "2022-05-25T00:43:03.781949Z"
    },
    "papermill": {
     "duration": 0.044576,
     "end_time": "2022-05-25T00:43:03.782568",
     "exception": false,
     "start_time": "2022-05-25T00:43:03.737992",
     "status": "completed"
    },
    "tags": []
   },
   "outputs": [
    {
     "name": "stdout",
     "output_type": "stream",
     "text": [
      "xavier\n",
      "xavier\n",
      "xavier\n",
      "xavier\n",
      "xavier\n"
     ]
    }
   ],
   "source": [
    "layers = [Affine(\"first\", 784, 100), Relu(\"first\"), Affine(\"second\", 100, 100), Relu(\"second\"), Affine(\"third\", 100, 2), Affine(\"last\", 2, 1), Sigmoid(\"last\")]\n",
    "model_nn = Model(layers)\n",
    "model_lr = Model([Affine(\"logits\", 784, 1), Sigmoid(\"sigmoid\")])"
   ]
  },
  {
   "cell_type": "code",
   "execution_count": 20,
   "id": "6eede77a",
   "metadata": {
    "execution": {
     "iopub.execute_input": "2022-05-25T00:43:03.834600Z",
     "iopub.status.busy": "2022-05-25T00:43:03.834081Z",
     "iopub.status.idle": "2022-05-25T00:43:03.847172Z",
     "shell.execute_reply": "2022-05-25T00:43:03.846742Z"
    },
    "papermill": {
     "duration": 0.040634,
     "end_time": "2022-05-25T00:43:03.847276",
     "exception": false,
     "start_time": "2022-05-25T00:43:03.806642",
     "status": "completed"
    },
    "tags": []
   },
   "outputs": [],
   "source": [
    "nn_learner = Learner(loss, model_nn, opt, config.num_epochs)\n",
    "acc_nn = ClfCallback(nn_learner, config.bs, training_data_x , testing_data_x, training_data_y, testing_data_y)\n",
    "nn_learner.set_callbacks([acc_nn])"
   ]
  },
  {
   "cell_type": "code",
   "execution_count": 21,
   "id": "877b6cc7",
   "metadata": {
    "execution": {
     "iopub.execute_input": "2022-05-25T00:43:03.899655Z",
     "iopub.status.busy": "2022-05-25T00:43:03.899123Z",
     "iopub.status.idle": "2022-05-25T00:43:03.912011Z",
     "shell.execute_reply": "2022-05-25T00:43:03.911572Z"
    },
    "papermill": {
     "duration": 0.040776,
     "end_time": "2022-05-25T00:43:03.912116",
     "exception": false,
     "start_time": "2022-05-25T00:43:03.871340",
     "status": "completed"
    },
    "tags": []
   },
   "outputs": [],
   "source": [
    "lr_learner = Learner(loss, model_lr, opt, config.num_epochs)\n",
    "acc_lr = ClfCallback(lr_learner, config.bs, training_data_x , testing_data_x, training_data_y, testing_data_y)\n",
    "lr_learner.set_callbacks([acc_lr])"
   ]
  },
  {
   "cell_type": "code",
   "execution_count": 22,
   "id": "d9b133c3",
   "metadata": {
    "execution": {
     "iopub.execute_input": "2022-05-25T00:43:03.965240Z",
     "iopub.status.busy": "2022-05-25T00:43:03.964695Z",
     "iopub.status.idle": "2022-05-25T00:44:18.577703Z",
     "shell.execute_reply": "2022-05-25T00:44:18.578216Z"
    },
    "papermill": {
     "duration": 74.641967,
     "end_time": "2022-05-25T00:44:18.578351",
     "exception": false,
     "start_time": "2022-05-25T00:43:03.936384",
     "status": "completed"
    },
    "tags": []
   },
   "outputs": [
    {
     "name": "stdout",
     "output_type": "stream",
     "text": [
      "Epoch 0, Loss 0.2509\n",
      "Training Accuracy: 0.4994, Testing Accuracy: 0.4990\n",
      "\n"
     ]
    },
    {
     "name": "stdout",
     "output_type": "stream",
     "text": [
      "Epoch 10, Loss 0.208\n",
      "Training Accuracy: 0.8804, Testing Accuracy: 0.8916\n",
      "\n"
     ]
    },
    {
     "name": "stdout",
     "output_type": "stream",
     "text": [
      "Epoch 20, Loss 0.114\n",
      "Training Accuracy: 0.9128, Testing Accuracy: 0.9199\n",
      "\n"
     ]
    },
    {
     "name": "stdout",
     "output_type": "stream",
     "text": [
      "Epoch 30, Loss 0.0662\n",
      "Training Accuracy: 0.9344, Testing Accuracy: 0.9501\n",
      "\n"
     ]
    },
    {
     "name": "stdout",
     "output_type": "stream",
     "text": [
      "Epoch 40, Loss 0.0496\n",
      "Training Accuracy: 0.9465, Testing Accuracy: 0.9597\n",
      "\n"
     ]
    },
    {
     "name": "stdout",
     "output_type": "stream",
     "text": [
      "Epoch 50, Loss 0.0417\n",
      "Training Accuracy: 0.9535, Testing Accuracy: 0.9662\n",
      "\n"
     ]
    },
    {
     "name": "stdout",
     "output_type": "stream",
     "text": [
      "Epoch 60, Loss 0.0371\n",
      "Training Accuracy: 0.9579, Testing Accuracy: 0.9688\n",
      "\n"
     ]
    },
    {
     "name": "stdout",
     "output_type": "stream",
     "text": [
      "Epoch 70, Loss 0.0341\n",
      "Training Accuracy: 0.9610, Testing Accuracy: 0.9698\n",
      "\n"
     ]
    },
    {
     "name": "stdout",
     "output_type": "stream",
     "text": [
      "Epoch 80, Loss 0.032\n",
      "Training Accuracy: 0.9634, Testing Accuracy: 0.9713\n",
      "\n"
     ]
    },
    {
     "name": "stdout",
     "output_type": "stream",
     "text": [
      "Epoch 90, Loss 0.0303\n",
      "Training Accuracy: 0.9644, Testing Accuracy: 0.9733\n",
      "\n"
     ]
    },
    {
     "name": "stdout",
     "output_type": "stream",
     "text": [
      "Epoch 100, Loss 0.029\n",
      "Training Accuracy: 0.9661, Testing Accuracy: 0.9723\n",
      "\n"
     ]
    },
    {
     "name": "stdout",
     "output_type": "stream",
     "text": [
      "Epoch 110, Loss 0.0279\n",
      "Training Accuracy: 0.9675, Testing Accuracy: 0.9728\n",
      "\n"
     ]
    },
    {
     "name": "stdout",
     "output_type": "stream",
     "text": [
      "Epoch 120, Loss 0.0269\n",
      "Training Accuracy: 0.9680, Testing Accuracy: 0.9723\n",
      "\n"
     ]
    },
    {
     "name": "stdout",
     "output_type": "stream",
     "text": [
      "Epoch 130, Loss 0.0261\n",
      "Training Accuracy: 0.9685, Testing Accuracy: 0.9723\n",
      "\n"
     ]
    },
    {
     "name": "stdout",
     "output_type": "stream",
     "text": [
      "Epoch 140, Loss 0.0253\n",
      "Training Accuracy: 0.9698, Testing Accuracy: 0.9723\n",
      "\n"
     ]
    },
    {
     "name": "stdout",
     "output_type": "stream",
     "text": [
      "Epoch 150, Loss 0.0247\n",
      "Training Accuracy: 0.9705, Testing Accuracy: 0.9723\n",
      "\n"
     ]
    },
    {
     "name": "stdout",
     "output_type": "stream",
     "text": [
      "Epoch 160, Loss 0.0241\n",
      "Training Accuracy: 0.9714, Testing Accuracy: 0.9733\n",
      "\n"
     ]
    },
    {
     "name": "stdout",
     "output_type": "stream",
     "text": [
      "Epoch 170, Loss 0.0235\n",
      "Training Accuracy: 0.9725, Testing Accuracy: 0.9738\n",
      "\n"
     ]
    },
    {
     "name": "stdout",
     "output_type": "stream",
     "text": [
      "Epoch 180, Loss 0.0229\n",
      "Training Accuracy: 0.9731, Testing Accuracy: 0.9738\n",
      "\n"
     ]
    },
    {
     "name": "stdout",
     "output_type": "stream",
     "text": [
      "Epoch 190, Loss 0.0224\n",
      "Training Accuracy: 0.9732, Testing Accuracy: 0.9738\n",
      "\n"
     ]
    },
    {
     "name": "stdout",
     "output_type": "stream",
     "text": [
      "Epoch 200, Loss 0.022\n",
      "Training Accuracy: 0.9740, Testing Accuracy: 0.9753\n",
      "\n"
     ]
    },
    {
     "name": "stdout",
     "output_type": "stream",
     "text": [
      "Epoch 210, Loss 0.0215\n",
      "Training Accuracy: 0.9750, Testing Accuracy: 0.9753\n",
      "\n"
     ]
    },
    {
     "name": "stdout",
     "output_type": "stream",
     "text": [
      "Epoch 220, Loss 0.0211\n",
      "Training Accuracy: 0.9760, Testing Accuracy: 0.9758\n",
      "\n"
     ]
    },
    {
     "name": "stdout",
     "output_type": "stream",
     "text": [
      "Epoch 230, Loss 0.0207\n",
      "Training Accuracy: 0.9760, Testing Accuracy: 0.9753\n",
      "\n"
     ]
    },
    {
     "name": "stdout",
     "output_type": "stream",
     "text": [
      "Epoch 240, Loss 0.0203\n",
      "Training Accuracy: 0.9766, Testing Accuracy: 0.9758\n",
      "\n"
     ]
    },
    {
     "data": {
      "text/plain": [
       "0.0010947766552362513"
      ]
     },
     "execution_count": 22,
     "metadata": {},
     "output_type": "execute_result"
    }
   ],
   "source": [
    "nn_learner.train_loop(dl)"
   ]
  },
  {
   "cell_type": "code",
   "execution_count": 23,
   "id": "e0163366",
   "metadata": {
    "execution": {
     "iopub.execute_input": "2022-05-25T00:44:18.646015Z",
     "iopub.status.busy": "2022-05-25T00:44:18.645494Z",
     "iopub.status.idle": "2022-05-25T00:44:32.348168Z",
     "shell.execute_reply": "2022-05-25T00:44:32.349032Z"
    },
    "papermill": {
     "duration": 13.740293,
     "end_time": "2022-05-25T00:44:32.349188",
     "exception": false,
     "start_time": "2022-05-25T00:44:18.608895",
     "status": "completed"
    },
    "tags": []
   },
   "outputs": [
    {
     "name": "stdout",
     "output_type": "stream",
     "text": [
      "Epoch 0, Loss 0.2044\n",
      "Training Accuracy: 0.7994, Testing Accuracy: 0.8301\n",
      "\n"
     ]
    },
    {
     "name": "stdout",
     "output_type": "stream",
     "text": [
      "Epoch 10, Loss 0.099\n",
      "Training Accuracy: 0.9155, Testing Accuracy: 0.9330\n",
      "\n"
     ]
    },
    {
     "name": "stdout",
     "output_type": "stream",
     "text": [
      "Epoch 20, Loss 0.0774\n",
      "Training Accuracy: 0.9304, Testing Accuracy: 0.9441\n",
      "\n"
     ]
    },
    {
     "name": "stdout",
     "output_type": "stream",
     "text": [
      "Epoch 30, Loss 0.0672\n",
      "Training Accuracy: 0.9375, Testing Accuracy: 0.9471\n",
      "\n"
     ]
    },
    {
     "name": "stdout",
     "output_type": "stream",
     "text": [
      "Epoch 40, Loss 0.061\n",
      "Training Accuracy: 0.9413, Testing Accuracy: 0.9511\n",
      "\n"
     ]
    },
    {
     "name": "stdout",
     "output_type": "stream",
     "text": [
      "Epoch 50, Loss 0.0567\n",
      "Training Accuracy: 0.9443, Testing Accuracy: 0.9536\n",
      "\n"
     ]
    },
    {
     "name": "stdout",
     "output_type": "stream",
     "text": [
      "Epoch 60, Loss 0.0535\n",
      "Training Accuracy: 0.9458, Testing Accuracy: 0.9556\n",
      "\n"
     ]
    },
    {
     "name": "stdout",
     "output_type": "stream",
     "text": [
      "Epoch 70, Loss 0.051\n",
      "Training Accuracy: 0.9483, Testing Accuracy: 0.9556\n",
      "\n"
     ]
    },
    {
     "name": "stdout",
     "output_type": "stream",
     "text": [
      "Epoch 80, Loss 0.049\n",
      "Training Accuracy: 0.9498, Testing Accuracy: 0.9602\n",
      "\n"
     ]
    },
    {
     "name": "stdout",
     "output_type": "stream",
     "text": [
      "Epoch 90, Loss 0.0474\n",
      "Training Accuracy: 0.9515, Testing Accuracy: 0.9602\n",
      "\n"
     ]
    },
    {
     "name": "stdout",
     "output_type": "stream",
     "text": [
      "Epoch 100, Loss 0.046\n",
      "Training Accuracy: 0.9533, Testing Accuracy: 0.9607\n",
      "\n"
     ]
    },
    {
     "name": "stdout",
     "output_type": "stream",
     "text": [
      "Epoch 110, Loss 0.0448\n",
      "Training Accuracy: 0.9543, Testing Accuracy: 0.9612\n",
      "\n"
     ]
    },
    {
     "name": "stdout",
     "output_type": "stream",
     "text": [
      "Epoch 120, Loss 0.0438\n",
      "Training Accuracy: 0.9551, Testing Accuracy: 0.9622\n",
      "\n"
     ]
    },
    {
     "name": "stdout",
     "output_type": "stream",
     "text": [
      "Epoch 130, Loss 0.0428\n",
      "Training Accuracy: 0.9557, Testing Accuracy: 0.9637\n",
      "\n"
     ]
    },
    {
     "name": "stdout",
     "output_type": "stream",
     "text": [
      "Epoch 140, Loss 0.042\n",
      "Training Accuracy: 0.9562, Testing Accuracy: 0.9637\n",
      "\n"
     ]
    },
    {
     "name": "stdout",
     "output_type": "stream",
     "text": [
      "Epoch 150, Loss 0.0413\n",
      "Training Accuracy: 0.9568, Testing Accuracy: 0.9637\n",
      "\n"
     ]
    },
    {
     "name": "stdout",
     "output_type": "stream",
     "text": [
      "Epoch 160, Loss 0.0406\n",
      "Training Accuracy: 0.9572, Testing Accuracy: 0.9642\n",
      "\n"
     ]
    },
    {
     "name": "stdout",
     "output_type": "stream",
     "text": [
      "Epoch 170, Loss 0.04\n",
      "Training Accuracy: 0.9576, Testing Accuracy: 0.9647\n",
      "\n"
     ]
    },
    {
     "name": "stdout",
     "output_type": "stream",
     "text": [
      "Epoch 180, Loss 0.0394\n",
      "Training Accuracy: 0.9580, Testing Accuracy: 0.9657\n",
      "\n"
     ]
    },
    {
     "name": "stdout",
     "output_type": "stream",
     "text": [
      "Epoch 190, Loss 0.0389\n",
      "Training Accuracy: 0.9586, Testing Accuracy: 0.9667\n",
      "\n"
     ]
    },
    {
     "name": "stdout",
     "output_type": "stream",
     "text": [
      "Epoch 200, Loss 0.0384\n",
      "Training Accuracy: 0.9590, Testing Accuracy: 0.9677\n",
      "\n"
     ]
    },
    {
     "name": "stdout",
     "output_type": "stream",
     "text": [
      "Epoch 210, Loss 0.038\n",
      "Training Accuracy: 0.9596, Testing Accuracy: 0.9672\n",
      "\n"
     ]
    },
    {
     "name": "stdout",
     "output_type": "stream",
     "text": [
      "Epoch 220, Loss 0.0376\n",
      "Training Accuracy: 0.9600, Testing Accuracy: 0.9672\n",
      "\n"
     ]
    },
    {
     "name": "stdout",
     "output_type": "stream",
     "text": [
      "Epoch 230, Loss 0.0372\n",
      "Training Accuracy: 0.9603, Testing Accuracy: 0.9672\n",
      "\n"
     ]
    },
    {
     "name": "stdout",
     "output_type": "stream",
     "text": [
      "Epoch 240, Loss 0.0368\n",
      "Training Accuracy: 0.9607, Testing Accuracy: 0.9672\n",
      "\n"
     ]
    },
    {
     "data": {
      "text/plain": [
       "0.050238659724002294"
      ]
     },
     "execution_count": 23,
     "metadata": {},
     "output_type": "execute_result"
    }
   ],
   "source": [
    "lr_learner.train_loop(dl)"
   ]
  },
  {
   "cell_type": "code",
   "execution_count": 24,
   "id": "ca410940",
   "metadata": {
    "execution": {
     "iopub.execute_input": "2022-05-25T00:44:32.446142Z",
     "iopub.status.busy": "2022-05-25T00:44:32.445527Z",
     "iopub.status.idle": "2022-05-25T00:44:32.667077Z",
     "shell.execute_reply": "2022-05-25T00:44:32.667873Z"
    },
    "papermill": {
     "duration": 0.277499,
     "end_time": "2022-05-25T00:44:32.668035",
     "exception": false,
     "start_time": "2022-05-25T00:44:32.390536",
     "status": "completed"
    },
    "tags": []
   },
   "outputs": [
    {
     "data": {
      "text/plain": [
       "<matplotlib.legend.Legend at 0x7fc84ce4f438>"
      ]
     },
     "execution_count": 24,
     "metadata": {},
     "output_type": "execute_result"
    },
    {
     "data": {
      "image/png": "[encoded data removed]",
      "text/plain": [
       "<Figure size 1080x720 with 1 Axes>"
      ]
     },
     "metadata": {
      "needs_background": "light"
     },
     "output_type": "display_data"
    }
   ],
   "source": [
    "#comparing the results of NN and LR\n",
    "plt.figure(figsize=(15,10))\n",
    "\n",
    "# Neural Network plots\n",
    "plt.plot(acc_nn.accuracies, 'r-', label = \"Training Accuracies - NN\")\n",
    "plt.plot(acc_nn.test_accuracies, 'g-', label = \"Testing Accuracies - NN\")\n",
    "\n",
    "# Logistic Regression plots\n",
    "plt.plot(acc_lr.accuracies, 'k-', label = \"Training Accuracies - LR\")\n",
    "plt.plot(acc_lr.test_accuracies, 'b-', label = \"Testing Accuracies - LR\")\n",
    "plt.legend()"
   ]
  },
  {
   "cell_type": "markdown",
   "id": "80dfb35c",
   "metadata": {
    "papermill": {
     "duration": 0.04164,
     "end_time": "2022-05-25T00:44:32.751723",
     "exception": false,
     "start_time": "2022-05-25T00:44:32.710083",
     "status": "completed"
    },
    "tags": []
   },
   "source": [
    "#### Plotting the outputs of this layer of the NN.\n"
   ]
  },
  {
   "cell_type": "code",
   "execution_count": 25,
   "id": "45eb2ff5",
   "metadata": {
    "execution": {
     "iopub.execute_input": "2022-05-25T00:44:32.840321Z",
     "iopub.status.busy": "2022-05-25T00:44:32.838993Z",
     "iopub.status.idle": "2022-05-25T00:44:32.859841Z",
     "shell.execute_reply": "2022-05-25T00:44:32.859353Z"
    },
    "papermill": {
     "duration": 0.06641,
     "end_time": "2022-05-25T00:44:32.859966",
     "exception": false,
     "start_time": "2022-05-25T00:44:32.793556",
     "status": "completed"
    },
    "tags": []
   },
   "outputs": [],
   "source": [
    "new_model = Model(layers[:-2])\n",
    "testing_plot = new_model(testing_data_x)"
   ]
  },
  {
   "cell_type": "code",
   "execution_count": 26,
   "id": "4c0a5485",
   "metadata": {
    "execution": {
     "iopub.execute_input": "2022-05-25T00:44:32.939420Z",
     "iopub.status.busy": "2022-05-25T00:44:32.938881Z",
     "iopub.status.idle": "2022-05-25T00:44:33.140134Z",
     "shell.execute_reply": "2022-05-25T00:44:33.139192Z"
    },
    "papermill": {
     "duration": 0.242469,
     "end_time": "2022-05-25T00:44:33.140263",
     "exception": false,
     "start_time": "2022-05-25T00:44:32.897794",
     "status": "completed"
    },
    "tags": []
   },
   "outputs": [
    {
     "data": {
      "text/plain": [
       "Text(0.5, 1.0, 'Outputs')"
      ]
     },
     "execution_count": 26,
     "metadata": {},
     "output_type": "execute_result"
    },
    {
     "data": {
      "image/png": "[encoded data removed]",
      "text/plain": [
       "<Figure size 576x504 with 1 Axes>"
      ]
     },
     "metadata": {
      "needs_background": "light"
     },
     "output_type": "display_data"
    }
   ],
   "source": [
    "# Plotting the scatter plot of points and color coding by class\n",
    "plt.figure(figsize=(8,7))\n",
    "plt.scatter(testing_plot[:,0], testing_plot[:,1], alpha = 0.1, c = y_test.ravel());\n",
    "plt.title('Outputs')"
   ]
  },
  {
   "cell_type": "markdown",
   "id": "a74fcf8f",
   "metadata": {
    "papermill": {
     "duration": 0.039391,
     "end_time": "2022-05-25T00:44:33.218938",
     "exception": false,
     "start_time": "2022-05-25T00:44:33.179547",
     "status": "completed"
    },
    "tags": []
   },
   "source": [
    "Probability contours"
   ]
  },
  {
   "cell_type": "code",
   "execution_count": 27,
   "id": "d0afc8e3",
   "metadata": {
    "execution": {
     "iopub.execute_input": "2022-05-25T00:44:33.331961Z",
     "iopub.status.busy": "2022-05-25T00:44:33.331344Z",
     "iopub.status.idle": "2022-05-25T00:44:33.342891Z",
     "shell.execute_reply": "2022-05-25T00:44:33.342394Z"
    },
    "papermill": {
     "duration": 0.084803,
     "end_time": "2022-05-25T00:44:33.343009",
     "exception": false,
     "start_time": "2022-05-25T00:44:33.258206",
     "status": "completed"
    },
    "tags": []
   },
   "outputs": [],
   "source": [
    "model_prob = Model(layers[-2:]) "
   ]
  },
  {
   "cell_type": "code",
   "execution_count": 28,
   "id": "9b96e238",
   "metadata": {
    "execution": {
     "iopub.execute_input": "2022-05-25T00:44:33.437508Z",
     "iopub.status.busy": "2022-05-25T00:44:33.436901Z",
     "iopub.status.idle": "2022-05-25T00:44:33.451761Z",
     "shell.execute_reply": "2022-05-25T00:44:33.452190Z"
    },
    "papermill": {
     "duration": 0.06492,
     "end_time": "2022-05-25T00:44:33.452336",
     "exception": false,
     "start_time": "2022-05-25T00:44:33.387416",
     "status": "completed"
    },
    "tags": []
   },
   "outputs": [],
   "source": [
    "#creating the x and y ranges according to the above generated plot.\n",
    "x_range = np.linspace(-4, 1, 100) \n",
    "y_range = np.linspace(-6, 6, 100) \n",
    "x_grid, y_grid = np.meshgrid(x_range, y_range) # x_grid and y_grig are of size 100 X 100\n",
    "\n",
    "# converting x_grid and y_grid to continuous arrays\n",
    "x_gridflat = np.ravel(x_grid)\n",
    "y_gridflat = np.ravel(y_grid)\n",
    "\n",
    "# The last layer of the current model takes two columns as input. Hence transpose of np.vstack() is required.\n",
    "X = np.vstack((x_gridflat, y_gridflat)).T\n",
    "\n",
    "prob_contour = model_prob(X).reshape(100,100) "
   ]
  },
  {
   "cell_type": "code",
   "execution_count": 29,
   "id": "da72499a",
   "metadata": {
    "execution": {
     "iopub.execute_input": "2022-05-25T00:44:33.546414Z",
     "iopub.status.busy": "2022-05-25T00:44:33.545826Z",
     "iopub.status.idle": "2022-05-25T00:44:33.791638Z",
     "shell.execute_reply": "2022-05-25T00:44:33.791150Z"
    },
    "papermill": {
     "duration": 0.294364,
     "end_time": "2022-05-25T00:44:33.791769",
     "exception": false,
     "start_time": "2022-05-25T00:44:33.497405",
     "status": "completed"
    },
    "tags": []
   },
   "outputs": [
    {
     "data": {
      "image/png": "[encoded data removed]",
      "text/plain": [
       "<Figure size 720x648 with 1 Axes>"
      ]
     },
     "metadata": {
      "needs_background": "light"
     },
     "output_type": "display_data"
    }
   ],
   "source": [
    "plt.figure(figsize=(10,9))\n",
    "plt.scatter(testing_plot[:,0], testing_plot[:,1], alpha = 0.1, c = y_test.ravel())\n",
    "contours = plt.contour(x_grid,y_grid,prob_contour)\n",
    "plt.title('Probability Contours')\n",
    "plt.clabel(contours, inline = True );"
   ]
  },
  {
   "cell_type": "code",
   "execution_count": null,
   "id": "e81b4ac7",
   "metadata": {
    "papermill": {
     "duration": 0.047349,
     "end_time": "2022-05-25T00:44:33.887073",
     "exception": false,
     "start_time": "2022-05-25T00:44:33.839724",
     "status": "completed"
    },
    "tags": []
   },
   "outputs": [],
   "source": []
  }
 ],
 "metadata": {
  "kernelspec": {
   "display_name": "Python 3",
   "language": "python",
   "name": "python3"
  },
  "language_info": {
   "codemirror_mode": {
    "name": "ipython",
    "version": 3
   },
   "file_extension": ".py",
   "mimetype": "text/x-python",
   "name": "python",
   "nbconvert_exporter": "python",
   "pygments_lexer": "ipython3",
   "version": "3.6.15"
  },
  "papermill": {
   "default_parameters": {},
   "duration": 96.20356,
   "end_time": "2022-05-25T00:44:34.354409",
   "environment_variables": {},
   "exception": null,
   "input_path": "2020-08-11-part2.ipynb",
   "output_path": "2020-08-11-part2.ipynb",
   "parameters": {},
   "start_time": "2022-05-25T00:42:58.150849",
   "version": "2.3.3"
  }
 },
 "nbformat": 4,
 "nbformat_minor": 5
}