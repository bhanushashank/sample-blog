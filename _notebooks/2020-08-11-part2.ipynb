{
 "cells": [
  {
   "cell_type": "markdown",
   "id": "98380cd3",
   "metadata": {
    "papermill": {
     "duration": 0.028702,
     "end_time": "2022-03-13T00:29:43.815284",
     "exception": false,
     "start_time": "2022-03-13T00:29:43.786582",
     "status": "completed"
    },
    "tags": []
   },
   "source": [
    "# Distinguish Your Own Digits (DYOD)"
   ]
  },
  {
   "cell_type": "markdown",
   "id": "ef31240d",
   "metadata": {
    "papermill": {
     "duration": 0.02514,
     "end_time": "2022-03-13T00:29:43.864837",
     "exception": false,
     "start_time": "2022-03-13T00:29:43.839697",
     "status": "completed"
    },
    "tags": []
   },
   "source": [
    "You are going to write a classifier that distinguishes between the number 3 and number 8."
   ]
  },
  {
   "cell_type": "code",
   "execution_count": 1,
   "id": "b15c8646",
   "metadata": {
    "execution": {
     "iopub.execute_input": "2022-03-13T00:29:43.922416Z",
     "iopub.status.busy": "2022-03-13T00:29:43.921886Z",
     "iopub.status.idle": "2022-03-13T00:29:43.932534Z",
     "shell.execute_reply": "2022-03-13T00:29:43.933045Z"
    },
    "papermill": {
     "duration": 0.044702,
     "end_time": "2022-03-13T00:29:43.933189",
     "exception": false,
     "start_time": "2022-03-13T00:29:43.888487",
     "status": "completed"
    },
    "tags": []
   },
   "outputs": [],
   "source": [
    "%load_ext autoreload\n",
    "%autoreload 2"
   ]
  },
  {
   "cell_type": "code",
   "execution_count": 2,
   "id": "22ef38dc",
   "metadata": {
    "execution": {
     "iopub.execute_input": "2022-03-13T00:29:43.993229Z",
     "iopub.status.busy": "2022-03-13T00:29:43.988845Z",
     "iopub.status.idle": "2022-03-13T00:29:44.561626Z",
     "shell.execute_reply": "2022-03-13T00:29:44.561103Z"
    },
    "papermill": {
     "duration": 0.604729,
     "end_time": "2022-03-13T00:29:44.561767",
     "exception": false,
     "start_time": "2022-03-13T00:29:43.957038",
     "status": "completed"
    },
    "tags": []
   },
   "outputs": [],
   "source": [
    "%matplotlib inline\n",
    "import numpy as np\n",
    "import matplotlib.pyplot as plt\n",
    "import pandas as pd"
   ]
  },
  {
   "cell_type": "markdown",
   "id": "ba036198",
   "metadata": {
    "papermill": {
     "duration": 0.023821,
     "end_time": "2022-03-13T00:29:44.610568",
     "exception": false,
     "start_time": "2022-03-13T00:29:44.586747",
     "status": "completed"
    },
    "tags": []
   },
   "source": [
    "From the command line run `pip install mnist`. This is a library that will help you bring down the mnist dataset. If you run this from a notebook, you need to put  `!pip install mnist` in a cell by itself."
   ]
  },
  {
   "cell_type": "code",
   "execution_count": 3,
   "id": "bb6ad8a1",
   "metadata": {
    "execution": {
     "iopub.execute_input": "2022-03-13T00:29:44.663666Z",
     "iopub.status.busy": "2022-03-13T00:29:44.663145Z",
     "iopub.status.idle": "2022-03-13T00:29:47.165191Z",
     "shell.execute_reply": "2022-03-13T00:29:47.164654Z"
    },
    "papermill": {
     "duration": 2.530817,
     "end_time": "2022-03-13T00:29:47.165333",
     "exception": false,
     "start_time": "2022-03-13T00:29:44.634516",
     "status": "completed"
    },
    "tags": []
   },
   "outputs": [
    {
     "name": "stdout",
     "output_type": "stream",
     "text": [
      "Collecting mnist\r\n",
      "  Downloading mnist-0.2.2-py2.py3-none-any.whl (3.5 kB)\r\n"
     ]
    },
    {
     "name": "stdout",
     "output_type": "stream",
     "text": [
      "Requirement already satisfied: numpy in /opt/hostedtoolcache/Python/3.6.15/x64/lib/python3.6/site-packages (from mnist) (1.19.5)\r\n"
     ]
    },
    {
     "name": "stdout",
     "output_type": "stream",
     "text": [
      "Installing collected packages: mnist\r\n"
     ]
    },
    {
     "name": "stdout",
     "output_type": "stream",
     "text": [
      "Successfully installed mnist-0.2.2\r\n"
     ]
    }
   ],
   "source": [
    "!pip install mnist"
   ]
  },
  {
   "cell_type": "markdown",
   "id": "69df9c9a",
   "metadata": {
    "papermill": {
     "duration": 0.025495,
     "end_time": "2022-03-13T00:29:47.216837",
     "exception": false,
     "start_time": "2022-03-13T00:29:47.191342",
     "status": "completed"
    },
    "tags": []
   },
   "source": [
    "## Preparing the Data"
   ]
  },
  {
   "cell_type": "code",
   "execution_count": 4,
   "id": "7f69d806",
   "metadata": {
    "execution": {
     "iopub.execute_input": "2022-03-13T00:29:47.273559Z",
     "iopub.status.busy": "2022-03-13T00:29:47.273026Z",
     "iopub.status.idle": "2022-03-13T00:29:47.286692Z",
     "shell.execute_reply": "2022-03-13T00:29:47.286260Z"
    },
    "papermill": {
     "duration": 0.044635,
     "end_time": "2022-03-13T00:29:47.286818",
     "exception": false,
     "start_time": "2022-03-13T00:29:47.242183",
     "status": "completed"
    },
    "tags": []
   },
   "outputs": [],
   "source": [
    "import mnist"
   ]
  },
  {
   "cell_type": "code",
   "execution_count": 5,
   "id": "a411e44f",
   "metadata": {
    "execution": {
     "iopub.execute_input": "2022-03-13T00:29:47.342579Z",
     "iopub.status.busy": "2022-03-13T00:29:47.342049Z",
     "iopub.status.idle": "2022-03-13T00:29:47.830929Z",
     "shell.execute_reply": "2022-03-13T00:29:47.830398Z"
    },
    "papermill": {
     "duration": 0.518574,
     "end_time": "2022-03-13T00:29:47.831075",
     "exception": false,
     "start_time": "2022-03-13T00:29:47.312501",
     "status": "completed"
    },
    "tags": []
   },
   "outputs": [],
   "source": [
    "train_images = mnist.train_images()\n",
    "train_labels = mnist.train_labels()"
   ]
  },
  {
   "cell_type": "code",
   "execution_count": 6,
   "id": "dceab3a5",
   "metadata": {
    "execution": {
     "iopub.execute_input": "2022-03-13T00:29:47.888644Z",
     "iopub.status.busy": "2022-03-13T00:29:47.888102Z",
     "iopub.status.idle": "2022-03-13T00:29:47.902501Z",
     "shell.execute_reply": "2022-03-13T00:29:47.902077Z"
    },
    "papermill": {
     "duration": 0.045182,
     "end_time": "2022-03-13T00:29:47.902623",
     "exception": false,
     "start_time": "2022-03-13T00:29:47.857441",
     "status": "completed"
    },
    "tags": []
   },
   "outputs": [
    {
     "data": {
      "text/plain": [
       "((60000, 28, 28), (60000,))"
      ]
     },
     "execution_count": 6,
     "metadata": {},
     "output_type": "execute_result"
    }
   ],
   "source": [
    "train_images.shape, train_labels.shape"
   ]
  },
  {
   "cell_type": "code",
   "execution_count": 7,
   "id": "f50dc2bb",
   "metadata": {
    "execution": {
     "iopub.execute_input": "2022-03-13T00:29:47.958651Z",
     "iopub.status.busy": "2022-03-13T00:29:47.958091Z",
     "iopub.status.idle": "2022-03-13T00:29:48.176987Z",
     "shell.execute_reply": "2022-03-13T00:29:48.176438Z"
    },
    "papermill": {
     "duration": 0.249062,
     "end_time": "2022-03-13T00:29:48.177129",
     "exception": false,
     "start_time": "2022-03-13T00:29:47.928067",
     "status": "completed"
    },
    "tags": []
   },
   "outputs": [],
   "source": [
    "test_images = mnist.test_images()\n",
    "test_labels = mnist.test_labels()"
   ]
  },
  {
   "cell_type": "code",
   "execution_count": 8,
   "id": "fc38cf1b",
   "metadata": {
    "execution": {
     "iopub.execute_input": "2022-03-13T00:29:48.241560Z",
     "iopub.status.busy": "2022-03-13T00:29:48.241024Z",
     "iopub.status.idle": "2022-03-13T00:29:48.250748Z",
     "shell.execute_reply": "2022-03-13T00:29:48.249695Z"
    },
    "papermill": {
     "duration": 0.047031,
     "end_time": "2022-03-13T00:29:48.250870",
     "exception": false,
     "start_time": "2022-03-13T00:29:48.203839",
     "status": "completed"
    },
    "tags": []
   },
   "outputs": [
    {
     "data": {
      "text/plain": [
       "((10000, 28, 28), (10000,))"
      ]
     },
     "execution_count": 8,
     "metadata": {},
     "output_type": "execute_result"
    }
   ],
   "source": [
    "test_images.shape, test_labels.shape"
   ]
  },
  {
   "cell_type": "code",
   "execution_count": 9,
   "id": "f9ed8fe0",
   "metadata": {
    "execution": {
     "iopub.execute_input": "2022-03-13T00:29:48.306950Z",
     "iopub.status.busy": "2022-03-13T00:29:48.305617Z",
     "iopub.status.idle": "2022-03-13T00:29:48.443145Z",
     "shell.execute_reply": "2022-03-13T00:29:48.442710Z"
    },
    "papermill": {
     "duration": 0.166615,
     "end_time": "2022-03-13T00:29:48.443267",
     "exception": false,
     "start_time": "2022-03-13T00:29:48.276652",
     "status": "completed"
    },
    "tags": []
   },
   "outputs": [
    {
     "name": "stdout",
     "output_type": "stream",
     "text": [
      "2\n"
     ]
    },
    {
     "data": {
      "text/plain": [
       "<matplotlib.image.AxesImage at 0x7f710b10a5c0>"
      ]
     },
     "execution_count": 9,
     "metadata": {},
     "output_type": "execute_result"
    },
    {
     "data": {
      "image/png": "[encoded data removed]",
      "text/plain": [
       "<Figure size 432x288 with 1 Axes>"
      ]
     },
     "metadata": {
      "needs_background": "light"
     },
     "output_type": "display_data"
    }
   ],
   "source": [
    "image_index = 7776 # You may select anything up to 60,000\n",
    "print(train_labels[image_index]) \n",
    "plt.imshow(train_images[image_index], cmap='Greys')"
   ]
  },
  {
   "cell_type": "markdown",
   "id": "a8d2388d",
   "metadata": {
    "papermill": {
     "duration": 0.02718,
     "end_time": "2022-03-13T00:29:48.497434",
     "exception": false,
     "start_time": "2022-03-13T00:29:48.470254",
     "status": "completed"
    },
    "tags": []
   },
   "source": [
    "## Filter data to get 3 and 8 out"
   ]
  },
  {
   "cell_type": "code",
   "execution_count": 10,
   "id": "776f7fc7",
   "metadata": {
    "execution": {
     "iopub.execute_input": "2022-03-13T00:29:48.556010Z",
     "iopub.status.busy": "2022-03-13T00:29:48.554988Z",
     "iopub.status.idle": "2022-03-13T00:29:48.574452Z",
     "shell.execute_reply": "2022-03-13T00:29:48.573612Z"
    },
    "papermill": {
     "duration": 0.050212,
     "end_time": "2022-03-13T00:29:48.574589",
     "exception": false,
     "start_time": "2022-03-13T00:29:48.524377",
     "status": "completed"
    },
    "tags": []
   },
   "outputs": [],
   "source": [
    "train_filter = np.where((train_labels == 3 ) | (train_labels == 8))\n",
    "test_filter = np.where((test_labels == 3) | (test_labels == 8))\n",
    "X_train, y_train = train_images[train_filter], train_labels[train_filter]\n",
    "X_test, y_test = test_images[test_filter], test_labels[test_filter]"
   ]
  },
  {
   "cell_type": "markdown",
   "id": "948f0b7e",
   "metadata": {
    "papermill": {
     "duration": 0.026763,
     "end_time": "2022-03-13T00:29:48.628972",
     "exception": false,
     "start_time": "2022-03-13T00:29:48.602209",
     "status": "completed"
    },
    "tags": []
   },
   "source": [
    "We normalize the pizel values in the 0 to 1 range"
   ]
  },
  {
   "cell_type": "code",
   "execution_count": 11,
   "id": "ee4c2166",
   "metadata": {
    "execution": {
     "iopub.execute_input": "2022-03-13T00:29:48.688104Z",
     "iopub.status.busy": "2022-03-13T00:29:48.687593Z",
     "iopub.status.idle": "2022-03-13T00:29:48.734340Z",
     "shell.execute_reply": "2022-03-13T00:29:48.734721Z"
    },
    "papermill": {
     "duration": 0.079259,
     "end_time": "2022-03-13T00:29:48.734868",
     "exception": false,
     "start_time": "2022-03-13T00:29:48.655609",
     "status": "completed"
    },
    "tags": []
   },
   "outputs": [],
   "source": [
    "X_train = X_train/255.\n",
    "X_test = X_test/255."
   ]
  },
  {
   "cell_type": "markdown",
   "id": "ddcf4fab",
   "metadata": {
    "papermill": {
     "duration": 0.023747,
     "end_time": "2022-03-13T00:29:48.782803",
     "exception": false,
     "start_time": "2022-03-13T00:29:48.759056",
     "status": "completed"
    },
    "tags": []
   },
   "source": [
    "And setup the labels as 1 (when the digit is 3) and 0 (when the digit is 8)"
   ]
  },
  {
   "cell_type": "code",
   "execution_count": 12,
   "id": "7dc908f2",
   "metadata": {
    "execution": {
     "iopub.execute_input": "2022-03-13T00:29:48.835265Z",
     "iopub.status.busy": "2022-03-13T00:29:48.834808Z",
     "iopub.status.idle": "2022-03-13T00:29:48.846562Z",
     "shell.execute_reply": "2022-03-13T00:29:48.846951Z"
    },
    "papermill": {
     "duration": 0.040645,
     "end_time": "2022-03-13T00:29:48.847071",
     "exception": false,
     "start_time": "2022-03-13T00:29:48.806426",
     "status": "completed"
    },
    "tags": []
   },
   "outputs": [],
   "source": [
    "y_train = 1*(y_train==3)\n",
    "y_test = 1*(y_test==3)"
   ]
  },
  {
   "cell_type": "code",
   "execution_count": 13,
   "id": "01e4e969",
   "metadata": {
    "execution": {
     "iopub.execute_input": "2022-03-13T00:29:48.911368Z",
     "iopub.status.busy": "2022-03-13T00:29:48.905875Z",
     "iopub.status.idle": "2022-03-13T00:29:48.914323Z",
     "shell.execute_reply": "2022-03-13T00:29:48.913954Z"
    },
    "papermill": {
     "duration": 0.043792,
     "end_time": "2022-03-13T00:29:48.914428",
     "exception": false,
     "start_time": "2022-03-13T00:29:48.870636",
     "status": "completed"
    },
    "tags": []
   },
   "outputs": [
    {
     "data": {
      "text/plain": [
       "((11982, 28, 28), (1984, 28, 28))"
      ]
     },
     "execution_count": 13,
     "metadata": {},
     "output_type": "execute_result"
    }
   ],
   "source": [
    "X_train.shape, X_test.shape"
   ]
  },
  {
   "cell_type": "markdown",
   "id": "5ccf3f85",
   "metadata": {
    "papermill": {
     "duration": 0.023624,
     "end_time": "2022-03-13T00:29:48.961624",
     "exception": false,
     "start_time": "2022-03-13T00:29:48.938000",
     "status": "completed"
    },
    "tags": []
   },
   "source": [
    "We reshape the data to flatten the image pixels into a set of features or co-variates:"
   ]
  },
  {
   "cell_type": "code",
   "execution_count": 14,
   "id": "5286a4a3",
   "metadata": {
    "execution": {
     "iopub.execute_input": "2022-03-13T00:29:49.016475Z",
     "iopub.status.busy": "2022-03-13T00:29:49.015991Z",
     "iopub.status.idle": "2022-03-13T00:29:49.027025Z",
     "shell.execute_reply": "2022-03-13T00:29:49.027413Z"
    },
    "papermill": {
     "duration": 0.042199,
     "end_time": "2022-03-13T00:29:49.027532",
     "exception": false,
     "start_time": "2022-03-13T00:29:48.985333",
     "status": "completed"
    },
    "tags": []
   },
   "outputs": [
    {
     "data": {
      "text/plain": [
       "((11982, 784), (1984, 784))"
      ]
     },
     "execution_count": 14,
     "metadata": {},
     "output_type": "execute_result"
    }
   ],
   "source": [
    "X_train = X_train.reshape(X_train.shape[0], -1)\n",
    "X_test = X_test.reshape(X_test.shape[0], -1)\n",
    "X_train.shape, X_test.shape"
   ]
  },
  {
   "cell_type": "code",
   "execution_count": 15,
   "id": "73c5f88a",
   "metadata": {
    "execution": {
     "iopub.execute_input": "2022-03-13T00:29:49.079667Z",
     "iopub.status.busy": "2022-03-13T00:29:49.079197Z",
     "iopub.status.idle": "2022-03-13T00:29:49.096881Z",
     "shell.execute_reply": "2022-03-13T00:29:49.097270Z"
    },
    "papermill": {
     "duration": 0.045946,
     "end_time": "2022-03-13T00:29:49.097386",
     "exception": false,
     "start_time": "2022-03-13T00:29:49.051440",
     "status": "completed"
    },
    "tags": []
   },
   "outputs": [],
   "source": [
    "#Impoting functions from 'Kudzu'\n",
    "from kudzu.model import Model\n",
    "from kudzu.train import Learner\n",
    "from kudzu.optim import GD\n",
    "from kudzu.data import Data, Sampler,Dataloader\n",
    "\n",
    "from kudzu.callbacks import AccCallback\n",
    "from kudzu.callbacks import ClfCallback\n",
    "\n",
    "from kudzu.loss import MSE\n",
    "\n",
    "from kudzu.layer import Sigmoid,Relu\n",
    "from kudzu.layer import Affine"
   ]
  },
  {
   "cell_type": "markdown",
   "id": "bc01172a",
   "metadata": {
    "papermill": {
     "duration": 0.02435,
     "end_time": "2022-03-13T00:29:49.145817",
     "exception": false,
     "start_time": "2022-03-13T00:29:49.121467",
     "status": "completed"
    },
    "tags": []
   },
   "source": [
    "### Let us create a `Config` class, to store important parameters. \n",
    "This class essentially plays the role of a dictionary."
   ]
  },
  {
   "cell_type": "code",
   "execution_count": 16,
   "id": "978281aa",
   "metadata": {
    "execution": {
     "iopub.execute_input": "2022-03-13T00:29:49.197614Z",
     "iopub.status.busy": "2022-03-13T00:29:49.197156Z",
     "iopub.status.idle": "2022-03-13T00:29:49.209274Z",
     "shell.execute_reply": "2022-03-13T00:29:49.209618Z"
    },
    "papermill": {
     "duration": 0.039938,
     "end_time": "2022-03-13T00:29:49.209734",
     "exception": false,
     "start_time": "2022-03-13T00:29:49.169796",
     "status": "completed"
    },
    "tags": []
   },
   "outputs": [],
   "source": [
    "class Config:\n",
    "    pass\n",
    "config = Config()\n",
    "config.lr = 0.001\n",
    "config.num_epochs = 250\n",
    "config.bs = 50"
   ]
  },
  {
   "cell_type": "markdown",
   "id": "1385fa59",
   "metadata": {
    "papermill": {
     "duration": 0.023855,
     "end_time": "2022-03-13T00:29:49.257618",
     "exception": false,
     "start_time": "2022-03-13T00:29:49.233763",
     "status": "completed"
    },
    "tags": []
   },
   "source": [
    "### Running Models with the Training data\n",
    "Details about the network layers:\n",
    "- A first affine layer has 784 inputs and does 100 affine transforms. These are followed by a Relu\n",
    "- A second affine layer has 100 inputs from the 100 activations of the past layer, and does 100 affine transforms. These are followed by a Relu\n",
    "- A third affine layer has 100 activations and does 2 affine transformations to create an embedding for visualization. There is no non-linearity here.\n",
    "- A final \"logistic regression\" which has an affine transform from 2 inputs to 1 output, which is squeezed through a sigmoid.\n"
   ]
  },
  {
   "cell_type": "code",
   "execution_count": 17,
   "id": "2b9c66db",
   "metadata": {
    "execution": {
     "iopub.execute_input": "2022-03-13T00:29:49.324501Z",
     "iopub.status.busy": "2022-03-13T00:29:49.323956Z",
     "iopub.status.idle": "2022-03-13T00:29:49.326885Z",
     "shell.execute_reply": "2022-03-13T00:29:49.326518Z"
    },
    "papermill": {
     "duration": 0.045377,
     "end_time": "2022-03-13T00:29:49.326985",
     "exception": false,
     "start_time": "2022-03-13T00:29:49.281608",
     "status": "completed"
    },
    "tags": []
   },
   "outputs": [],
   "source": [
    "data = Data(X_train, y_train.reshape(-1,1))\n",
    "sampler = Sampler(data, config.bs, shuffle=True)\n",
    "\n",
    "dl = Dataloader(data, sampler)\n",
    "\n",
    "opt = GD(config.lr)\n",
    "loss = MSE()"
   ]
  },
  {
   "cell_type": "code",
   "execution_count": 18,
   "id": "b275e4c2",
   "metadata": {
    "execution": {
     "iopub.execute_input": "2022-03-13T00:29:49.392086Z",
     "iopub.status.busy": "2022-03-13T00:29:49.388852Z",
     "iopub.status.idle": "2022-03-13T00:29:49.393951Z",
     "shell.execute_reply": "2022-03-13T00:29:49.394297Z"
    },
    "papermill": {
     "duration": 0.043446,
     "end_time": "2022-03-13T00:29:49.394416",
     "exception": false,
     "start_time": "2022-03-13T00:29:49.350970",
     "status": "completed"
    },
    "tags": []
   },
   "outputs": [],
   "source": [
    "training_data_x = X_train\n",
    "testing_data_x = X_test\n",
    "training_data_y = y_train.reshape(-1,1)\n",
    "testing_data_y = y_test.reshape(-1,1)"
   ]
  },
  {
   "cell_type": "code",
   "execution_count": 19,
   "id": "76951160",
   "metadata": {
    "execution": {
     "iopub.execute_input": "2022-03-13T00:29:49.446166Z",
     "iopub.status.busy": "2022-03-13T00:29:49.445711Z",
     "iopub.status.idle": "2022-03-13T00:29:49.461266Z",
     "shell.execute_reply": "2022-03-13T00:29:49.460899Z"
    },
    "papermill": {
     "duration": 0.043051,
     "end_time": "2022-03-13T00:29:49.461365",
     "exception": false,
     "start_time": "2022-03-13T00:29:49.418314",
     "status": "completed"
    },
    "tags": []
   },
   "outputs": [
    {
     "name": "stdout",
     "output_type": "stream",
     "text": [
      "xavier\n",
      "xavier\n",
      "xavier\n",
      "xavier\n",
      "xavier\n"
     ]
    }
   ],
   "source": [
    "layers = [Affine(\"first\", 784, 100), Relu(\"first\"), Affine(\"second\", 100, 100), Relu(\"second\"), Affine(\"third\", 100, 2), Affine(\"last\", 2, 1), Sigmoid(\"last\")]\n",
    "model_nn = Model(layers)\n",
    "model_lr = Model([Affine(\"logits\", 784, 1), Sigmoid(\"sigmoid\")])"
   ]
  },
  {
   "cell_type": "code",
   "execution_count": 20,
   "id": "6eede77a",
   "metadata": {
    "execution": {
     "iopub.execute_input": "2022-03-13T00:29:49.517936Z",
     "iopub.status.busy": "2022-03-13T00:29:49.517477Z",
     "iopub.status.idle": "2022-03-13T00:29:49.526934Z",
     "shell.execute_reply": "2022-03-13T00:29:49.526571Z"
    },
    "papermill": {
     "duration": 0.041426,
     "end_time": "2022-03-13T00:29:49.527035",
     "exception": false,
     "start_time": "2022-03-13T00:29:49.485609",
     "status": "completed"
    },
    "tags": []
   },
   "outputs": [],
   "source": [
    "nn_learner = Learner(loss, model_nn, opt, config.num_epochs)\n",
    "acc_nn = ClfCallback(nn_learner, config.bs, training_data_x , testing_data_x, training_data_y, testing_data_y)\n",
    "nn_learner.set_callbacks([acc_nn])"
   ]
  },
  {
   "cell_type": "code",
   "execution_count": 21,
   "id": "877b6cc7",
   "metadata": {
    "execution": {
     "iopub.execute_input": "2022-03-13T00:29:49.588590Z",
     "iopub.status.busy": "2022-03-13T00:29:49.587698Z",
     "iopub.status.idle": "2022-03-13T00:29:49.594082Z",
     "shell.execute_reply": "2022-03-13T00:29:49.594495Z"
    },
    "papermill": {
     "duration": 0.043393,
     "end_time": "2022-03-13T00:29:49.594618",
     "exception": false,
     "start_time": "2022-03-13T00:29:49.551225",
     "status": "completed"
    },
    "tags": []
   },
   "outputs": [],
   "source": [
    "lr_learner = Learner(loss, model_lr, opt, config.num_epochs)\n",
    "acc_lr = ClfCallback(lr_learner, config.bs, training_data_x , testing_data_x, training_data_y, testing_data_y)\n",
    "lr_learner.set_callbacks([acc_lr])"
   ]
  },
  {
   "cell_type": "code",
   "execution_count": 22,
   "id": "d9b133c3",
   "metadata": {
    "execution": {
     "iopub.execute_input": "2022-03-13T00:29:49.661283Z",
     "iopub.status.busy": "2022-03-13T00:29:49.656939Z",
     "iopub.status.idle": "2022-03-13T00:31:04.230454Z",
     "shell.execute_reply": "2022-03-13T00:31:04.231119Z"
    },
    "papermill": {
     "duration": 74.609038,
     "end_time": "2022-03-13T00:31:04.231270",
     "exception": false,
     "start_time": "2022-03-13T00:29:49.622232",
     "status": "completed"
    },
    "tags": []
   },
   "outputs": [
    {
     "name": "stdout",
     "output_type": "stream",
     "text": [
      "Epoch 0, Loss 0.2394\n",
      "Training Accuracy: 0.5662, Testing Accuracy: 0.5539\n",
      "\n"
     ]
    },
    {
     "name": "stdout",
     "output_type": "stream",
     "text": [
      "Epoch 10, Loss 0.1741\n",
      "Training Accuracy: 0.8701, Testing Accuracy: 0.8725\n",
      "\n"
     ]
    },
    {
     "name": "stdout",
     "output_type": "stream",
     "text": [
      "Epoch 20, Loss 0.0865\n",
      "Training Accuracy: 0.9205, Testing Accuracy: 0.9264\n",
      "\n"
     ]
    },
    {
     "name": "stdout",
     "output_type": "stream",
     "text": [
      "Epoch 30, Loss 0.057\n",
      "Training Accuracy: 0.9398, Testing Accuracy: 0.9481\n",
      "\n"
     ]
    },
    {
     "name": "stdout",
     "output_type": "stream",
     "text": [
      "Epoch 40, Loss 0.0457\n",
      "Training Accuracy: 0.9474, Testing Accuracy: 0.9556\n",
      "\n"
     ]
    },
    {
     "name": "stdout",
     "output_type": "stream",
     "text": [
      "Epoch 50, Loss 0.04\n",
      "Training Accuracy: 0.9532, Testing Accuracy: 0.9632\n",
      "\n"
     ]
    },
    {
     "name": "stdout",
     "output_type": "stream",
     "text": [
      "Epoch 60, Loss 0.0365\n",
      "Training Accuracy: 0.9572, Testing Accuracy: 0.9652\n",
      "\n"
     ]
    },
    {
     "name": "stdout",
     "output_type": "stream",
     "text": [
      "Epoch 70, Loss 0.034\n",
      "Training Accuracy: 0.9586, Testing Accuracy: 0.9677\n",
      "\n"
     ]
    },
    {
     "name": "stdout",
     "output_type": "stream",
     "text": [
      "Epoch 80, Loss 0.0321\n",
      "Training Accuracy: 0.9600, Testing Accuracy: 0.9693\n",
      "\n"
     ]
    },
    {
     "name": "stdout",
     "output_type": "stream",
     "text": [
      "Epoch 90, Loss 0.0306\n",
      "Training Accuracy: 0.9623, Testing Accuracy: 0.9688\n",
      "\n"
     ]
    },
    {
     "name": "stdout",
     "output_type": "stream",
     "text": [
      "Epoch 100, Loss 0.0294\n",
      "Training Accuracy: 0.9639, Testing Accuracy: 0.9703\n",
      "\n"
     ]
    },
    {
     "name": "stdout",
     "output_type": "stream",
     "text": [
      "Epoch 110, Loss 0.0283\n",
      "Training Accuracy: 0.9651, Testing Accuracy: 0.9708\n",
      "\n"
     ]
    },
    {
     "name": "stdout",
     "output_type": "stream",
     "text": [
      "Epoch 120, Loss 0.0274\n",
      "Training Accuracy: 0.9669, Testing Accuracy: 0.9708\n",
      "\n"
     ]
    },
    {
     "name": "stdout",
     "output_type": "stream",
     "text": [
      "Epoch 130, Loss 0.0266\n",
      "Training Accuracy: 0.9680, Testing Accuracy: 0.9723\n",
      "\n"
     ]
    },
    {
     "name": "stdout",
     "output_type": "stream",
     "text": [
      "Epoch 140, Loss 0.0259\n",
      "Training Accuracy: 0.9689, Testing Accuracy: 0.9718\n",
      "\n"
     ]
    },
    {
     "name": "stdout",
     "output_type": "stream",
     "text": [
      "Epoch 150, Loss 0.0252\n",
      "Training Accuracy: 0.9690, Testing Accuracy: 0.9728\n",
      "\n"
     ]
    },
    {
     "name": "stdout",
     "output_type": "stream",
     "text": [
      "Epoch 160, Loss 0.0246\n",
      "Training Accuracy: 0.9695, Testing Accuracy: 0.9723\n",
      "\n"
     ]
    },
    {
     "name": "stdout",
     "output_type": "stream",
     "text": [
      "Epoch 170, Loss 0.0241\n",
      "Training Accuracy: 0.9704, Testing Accuracy: 0.9728\n",
      "\n"
     ]
    },
    {
     "name": "stdout",
     "output_type": "stream",
     "text": [
      "Epoch 180, Loss 0.0235\n",
      "Training Accuracy: 0.9707, Testing Accuracy: 0.9728\n",
      "\n"
     ]
    },
    {
     "name": "stdout",
     "output_type": "stream",
     "text": [
      "Epoch 190, Loss 0.0231\n",
      "Training Accuracy: 0.9719, Testing Accuracy: 0.9723\n",
      "\n"
     ]
    },
    {
     "name": "stdout",
     "output_type": "stream",
     "text": [
      "Epoch 200, Loss 0.0226\n",
      "Training Accuracy: 0.9723, Testing Accuracy: 0.9728\n",
      "\n"
     ]
    },
    {
     "name": "stdout",
     "output_type": "stream",
     "text": [
      "Epoch 210, Loss 0.0222\n",
      "Training Accuracy: 0.9726, Testing Accuracy: 0.9733\n",
      "\n"
     ]
    },
    {
     "name": "stdout",
     "output_type": "stream",
     "text": [
      "Epoch 220, Loss 0.0218\n",
      "Training Accuracy: 0.9732, Testing Accuracy: 0.9728\n",
      "\n"
     ]
    },
    {
     "name": "stdout",
     "output_type": "stream",
     "text": [
      "Epoch 230, Loss 0.0214\n",
      "Training Accuracy: 0.9742, Testing Accuracy: 0.9728\n",
      "\n"
     ]
    },
    {
     "name": "stdout",
     "output_type": "stream",
     "text": [
      "Epoch 240, Loss 0.021\n",
      "Training Accuracy: 0.9751, Testing Accuracy: 0.9728\n",
      "\n"
     ]
    },
    {
     "data": {
      "text/plain": [
       "0.013814756700120171"
      ]
     },
     "execution_count": 22,
     "metadata": {},
     "output_type": "execute_result"
    }
   ],
   "source": [
    "nn_learner.train_loop(dl)"
   ]
  },
  {
   "cell_type": "code",
   "execution_count": 23,
   "id": "e0163366",
   "metadata": {
    "execution": {
     "iopub.execute_input": "2022-03-13T00:31:04.304998Z",
     "iopub.status.busy": "2022-03-13T00:31:04.304524Z",
     "iopub.status.idle": "2022-03-13T00:31:17.621630Z",
     "shell.execute_reply": "2022-03-13T00:31:17.622293Z"
    },
    "papermill": {
     "duration": 13.359168,
     "end_time": "2022-03-13T00:31:17.622435",
     "exception": false,
     "start_time": "2022-03-13T00:31:04.263267",
     "status": "completed"
    },
    "tags": []
   },
   "outputs": [
    {
     "name": "stdout",
     "output_type": "stream",
     "text": [
      "Epoch 0, Loss 0.2569\n",
      "Training Accuracy: 0.6257, Testing Accuracy: 0.6144\n",
      "\n"
     ]
    },
    {
     "name": "stdout",
     "output_type": "stream",
     "text": [
      "Epoch 10, Loss 0.1019\n",
      "Training Accuracy: 0.9161, Testing Accuracy: 0.9289\n",
      "\n"
     ]
    },
    {
     "name": "stdout",
     "output_type": "stream",
     "text": [
      "Epoch 20, Loss 0.0779\n",
      "Training Accuracy: 0.9308, Testing Accuracy: 0.9405\n",
      "\n"
     ]
    },
    {
     "name": "stdout",
     "output_type": "stream",
     "text": [
      "Epoch 30, Loss 0.0673\n",
      "Training Accuracy: 0.9362, Testing Accuracy: 0.9461\n",
      "\n"
     ]
    },
    {
     "name": "stdout",
     "output_type": "stream",
     "text": [
      "Epoch 40, Loss 0.061\n",
      "Training Accuracy: 0.9406, Testing Accuracy: 0.9496\n",
      "\n"
     ]
    },
    {
     "name": "stdout",
     "output_type": "stream",
     "text": [
      "Epoch 50, Loss 0.0567\n",
      "Training Accuracy: 0.9437, Testing Accuracy: 0.9536\n",
      "\n"
     ]
    },
    {
     "name": "stdout",
     "output_type": "stream",
     "text": [
      "Epoch 60, Loss 0.0535\n",
      "Training Accuracy: 0.9462, Testing Accuracy: 0.9572\n",
      "\n"
     ]
    },
    {
     "name": "stdout",
     "output_type": "stream",
     "text": [
      "Epoch 70, Loss 0.0511\n",
      "Training Accuracy: 0.9484, Testing Accuracy: 0.9597\n",
      "\n"
     ]
    },
    {
     "name": "stdout",
     "output_type": "stream",
     "text": [
      "Epoch 80, Loss 0.0491\n",
      "Training Accuracy: 0.9494, Testing Accuracy: 0.9602\n",
      "\n"
     ]
    },
    {
     "name": "stdout",
     "output_type": "stream",
     "text": [
      "Epoch 90, Loss 0.0475\n",
      "Training Accuracy: 0.9511, Testing Accuracy: 0.9602\n",
      "\n"
     ]
    },
    {
     "name": "stdout",
     "output_type": "stream",
     "text": [
      "Epoch 100, Loss 0.0461\n",
      "Training Accuracy: 0.9523, Testing Accuracy: 0.9612\n",
      "\n"
     ]
    },
    {
     "name": "stdout",
     "output_type": "stream",
     "text": [
      "Epoch 110, Loss 0.0449\n",
      "Training Accuracy: 0.9534, Testing Accuracy: 0.9622\n",
      "\n"
     ]
    },
    {
     "name": "stdout",
     "output_type": "stream",
     "text": [
      "Epoch 120, Loss 0.0438\n",
      "Training Accuracy: 0.9544, Testing Accuracy: 0.9632\n",
      "\n"
     ]
    },
    {
     "name": "stdout",
     "output_type": "stream",
     "text": [
      "Epoch 130, Loss 0.0429\n",
      "Training Accuracy: 0.9550, Testing Accuracy: 0.9642\n",
      "\n"
     ]
    },
    {
     "name": "stdout",
     "output_type": "stream",
     "text": [
      "Epoch 140, Loss 0.0421\n",
      "Training Accuracy: 0.9561, Testing Accuracy: 0.9647\n",
      "\n"
     ]
    },
    {
     "name": "stdout",
     "output_type": "stream",
     "text": [
      "Epoch 150, Loss 0.0414\n",
      "Training Accuracy: 0.9569, Testing Accuracy: 0.9657\n",
      "\n"
     ]
    },
    {
     "name": "stdout",
     "output_type": "stream",
     "text": [
      "Epoch 160, Loss 0.0407\n",
      "Training Accuracy: 0.9576, Testing Accuracy: 0.9657\n",
      "\n"
     ]
    },
    {
     "name": "stdout",
     "output_type": "stream",
     "text": [
      "Epoch 170, Loss 0.0401\n",
      "Training Accuracy: 0.9582, Testing Accuracy: 0.9657\n",
      "\n"
     ]
    },
    {
     "name": "stdout",
     "output_type": "stream",
     "text": [
      "Epoch 180, Loss 0.0396\n",
      "Training Accuracy: 0.9584, Testing Accuracy: 0.9652\n",
      "\n"
     ]
    },
    {
     "name": "stdout",
     "output_type": "stream",
     "text": [
      "Epoch 190, Loss 0.039\n",
      "Training Accuracy: 0.9589, Testing Accuracy: 0.9652\n",
      "\n"
     ]
    },
    {
     "name": "stdout",
     "output_type": "stream",
     "text": [
      "Epoch 200, Loss 0.0386\n",
      "Training Accuracy: 0.9591, Testing Accuracy: 0.9652\n",
      "\n"
     ]
    },
    {
     "name": "stdout",
     "output_type": "stream",
     "text": [
      "Epoch 210, Loss 0.0381\n",
      "Training Accuracy: 0.9594, Testing Accuracy: 0.9662\n",
      "\n"
     ]
    },
    {
     "name": "stdout",
     "output_type": "stream",
     "text": [
      "Epoch 220, Loss 0.0377\n",
      "Training Accuracy: 0.9599, Testing Accuracy: 0.9667\n",
      "\n"
     ]
    },
    {
     "name": "stdout",
     "output_type": "stream",
     "text": [
      "Epoch 230, Loss 0.0373\n",
      "Training Accuracy: 0.9603, Testing Accuracy: 0.9677\n",
      "\n"
     ]
    },
    {
     "name": "stdout",
     "output_type": "stream",
     "text": [
      "Epoch 240, Loss 0.037\n",
      "Training Accuracy: 0.9605, Testing Accuracy: 0.9677\n",
      "\n"
     ]
    },
    {
     "data": {
      "text/plain": [
       "0.059073587713378214"
      ]
     },
     "execution_count": 23,
     "metadata": {},
     "output_type": "execute_result"
    }
   ],
   "source": [
    "lr_learner.train_loop(dl)"
   ]
  },
  {
   "cell_type": "code",
   "execution_count": 24,
   "id": "ca410940",
   "metadata": {
    "execution": {
     "iopub.execute_input": "2022-03-13T00:31:17.705422Z",
     "iopub.status.busy": "2022-03-13T00:31:17.704950Z",
     "iopub.status.idle": "2022-03-13T00:31:17.898745Z",
     "shell.execute_reply": "2022-03-13T00:31:17.898289Z"
    },
    "papermill": {
     "duration": 0.239374,
     "end_time": "2022-03-13T00:31:17.898862",
     "exception": false,
     "start_time": "2022-03-13T00:31:17.659488",
     "status": "completed"
    },
    "tags": []
   },
   "outputs": [
    {
     "data": {
      "text/plain": [
       "<matplotlib.legend.Legend at 0x7f710ace8d30>"
      ]
     },
     "execution_count": 24,
     "metadata": {},
     "output_type": "execute_result"
    },
    {
     "data": {
      "image/png": "[encoded data removed]",
      "text/plain": [
       "<Figure size 1080x720 with 1 Axes>"
      ]
     },
     "metadata": {
      "needs_background": "light"
     },
     "output_type": "display_data"
    }
   ],
   "source": [
    "#comparing the results of NN and LR\n",
    "plt.figure(figsize=(15,10))\n",
    "\n",
    "# Neural Network plots\n",
    "plt.plot(acc_nn.accuracies, 'r-', label = \"Training Accuracies - NN\")\n",
    "plt.plot(acc_nn.test_accuracies, 'g-', label = \"Testing Accuracies - NN\")\n",
    "\n",
    "# Logistic Regression plots\n",
    "plt.plot(acc_lr.accuracies, 'k-', label = \"Training Accuracies - LR\")\n",
    "plt.plot(acc_lr.test_accuracies, 'b-', label = \"Testing Accuracies - LR\")\n",
    "plt.legend()"
   ]
  },
  {
   "cell_type": "markdown",
   "id": "80dfb35c",
   "metadata": {
    "papermill": {
     "duration": 0.04272,
     "end_time": "2022-03-13T00:31:17.984411",
     "exception": false,
     "start_time": "2022-03-13T00:31:17.941691",
     "status": "completed"
    },
    "tags": []
   },
   "source": [
    "#### Plotting the outputs of this layer of the NN.\n"
   ]
  },
  {
   "cell_type": "code",
   "execution_count": 25,
   "id": "45eb2ff5",
   "metadata": {
    "execution": {
     "iopub.execute_input": "2022-03-13T00:31:18.073388Z",
     "iopub.status.busy": "2022-03-13T00:31:18.072843Z",
     "iopub.status.idle": "2022-03-13T00:31:18.092815Z",
     "shell.execute_reply": "2022-03-13T00:31:18.093230Z"
    },
    "papermill": {
     "duration": 0.066683,
     "end_time": "2022-03-13T00:31:18.093368",
     "exception": false,
     "start_time": "2022-03-13T00:31:18.026685",
     "status": "completed"
    },
    "tags": []
   },
   "outputs": [],
   "source": [
    "new_model = Model(layers[:-2])\n",
    "testing_plot = new_model(testing_data_x)"
   ]
  },
  {
   "cell_type": "code",
   "execution_count": 26,
   "id": "4c0a5485",
   "metadata": {
    "execution": {
     "iopub.execute_input": "2022-03-13T00:31:18.183272Z",
     "iopub.status.busy": "2022-03-13T00:31:18.182760Z",
     "iopub.status.idle": "2022-03-13T00:31:18.354737Z",
     "shell.execute_reply": "2022-03-13T00:31:18.354334Z"
    },
    "papermill": {
     "duration": 0.218908,
     "end_time": "2022-03-13T00:31:18.354851",
     "exception": false,
     "start_time": "2022-03-13T00:31:18.135943",
     "status": "completed"
    },
    "tags": []
   },
   "outputs": [
    {
     "data": {
      "text/plain": [
       "Text(0.5, 1.0, 'Outputs')"
      ]
     },
     "execution_count": 26,
     "metadata": {},
     "output_type": "execute_result"
    },
    {
     "data": {
      "image/png": "[encoded data removed]",
      "text/plain": [
       "<Figure size 576x504 with 1 Axes>"
      ]
     },
     "metadata": {
      "needs_background": "light"
     },
     "output_type": "display_data"
    }
   ],
   "source": [
    "# Plotting the scatter plot of points and color coding by class\n",
    "plt.figure(figsize=(8,7))\n",
    "plt.scatter(testing_plot[:,0], testing_plot[:,1], alpha = 0.1, c = y_test.ravel());\n",
    "plt.title('Outputs')"
   ]
  },
  {
   "cell_type": "markdown",
   "id": "a74fcf8f",
   "metadata": {
    "papermill": {
     "duration": 0.039204,
     "end_time": "2022-03-13T00:31:18.433449",
     "exception": false,
     "start_time": "2022-03-13T00:31:18.394245",
     "status": "completed"
    },
    "tags": []
   },
   "source": [
    "Probability contours"
   ]
  },
  {
   "cell_type": "code",
   "execution_count": 27,
   "id": "d0afc8e3",
   "metadata": {
    "execution": {
     "iopub.execute_input": "2022-03-13T00:31:18.516624Z",
     "iopub.status.busy": "2022-03-13T00:31:18.516111Z",
     "iopub.status.idle": "2022-03-13T00:31:18.528165Z",
     "shell.execute_reply": "2022-03-13T00:31:18.528563Z"
    },
    "papermill": {
     "duration": 0.05589,
     "end_time": "2022-03-13T00:31:18.528686",
     "exception": false,
     "start_time": "2022-03-13T00:31:18.472796",
     "status": "completed"
    },
    "tags": []
   },
   "outputs": [],
   "source": [
    "model_prob = Model(layers[-2:]) "
   ]
  },
  {
   "cell_type": "code",
   "execution_count": 28,
   "id": "9b96e238",
   "metadata": {
    "execution": {
     "iopub.execute_input": "2022-03-13T00:31:18.637902Z",
     "iopub.status.busy": "2022-03-13T00:31:18.637441Z",
     "iopub.status.idle": "2022-03-13T00:31:18.649921Z",
     "shell.execute_reply": "2022-03-13T00:31:18.650592Z"
    },
    "papermill": {
     "duration": 0.056367,
     "end_time": "2022-03-13T00:31:18.650721",
     "exception": false,
     "start_time": "2022-03-13T00:31:18.594354",
     "status": "completed"
    },
    "tags": []
   },
   "outputs": [],
   "source": [
    "#creating the x and y ranges according to the above generated plot.\n",
    "x_range = np.linspace(-4, 1, 100) \n",
    "y_range = np.linspace(-6, 6, 100) \n",
    "x_grid, y_grid = np.meshgrid(x_range, y_range) # x_grid and y_grig are of size 100 X 100\n",
    "\n",
    "# converting x_grid and y_grid to continuous arrays\n",
    "x_gridflat = np.ravel(x_grid)\n",
    "y_gridflat = np.ravel(y_grid)\n",
    "\n",
    "# The last layer of the current model takes two columns as input. Hence transpose of np.vstack() is required.\n",
    "X = np.vstack((x_gridflat, y_gridflat)).T\n",
    "\n",
    "prob_contour = model_prob(X).reshape(100,100) "
   ]
  },
  {
   "cell_type": "code",
   "execution_count": 29,
   "id": "da72499a",
   "metadata": {
    "execution": {
     "iopub.execute_input": "2022-03-13T00:31:18.743337Z",
     "iopub.status.busy": "2022-03-13T00:31:18.742828Z",
     "iopub.status.idle": "2022-03-13T00:31:18.986949Z",
     "shell.execute_reply": "2022-03-13T00:31:18.986398Z"
    },
    "papermill": {
     "duration": 0.291788,
     "end_time": "2022-03-13T00:31:18.987070",
     "exception": false,
     "start_time": "2022-03-13T00:31:18.695282",
     "status": "completed"
    },
    "tags": []
   },
   "outputs": [
    {
     "data": {
      "image/png": "[encoded data removed]",
      "text/plain": [
       "<Figure size 720x648 with 1 Axes>"
      ]
     },
     "metadata": {
      "needs_background": "light"
     },
     "output_type": "display_data"
    }
   ],
   "source": [
    "plt.figure(figsize=(10,9))\n",
    "plt.scatter(testing_plot[:,0], testing_plot[:,1], alpha = 0.1, c = y_test.ravel())\n",
    "contours = plt.contour(x_grid,y_grid,prob_contour)\n",
    "plt.title('Probability Contours')\n",
    "plt.clabel(contours, inline = True );"
   ]
  },
  {
   "cell_type": "code",
   "execution_count": null,
   "id": "e81b4ac7",
   "metadata": {
    "papermill": {
     "duration": 0.046797,
     "end_time": "2022-03-13T00:31:19.081253",
     "exception": false,
     "start_time": "2022-03-13T00:31:19.034456",
     "status": "completed"
    },
    "tags": []
   },
   "outputs": [],
   "source": []
  }
 ],
 "metadata": {
  "kernelspec": {
   "display_name": "Python 3",
   "language": "python",
   "name": "python3"
  },
  "language_info": {
   "codemirror_mode": {
    "name": "ipython",
    "version": 3
   },
   "file_extension": ".py",
   "mimetype": "text/x-python",
   "name": "python",
   "nbconvert_exporter": "python",
   "pygments_lexer": "ipython3",
   "version": "3.6.15"
  },
  "papermill": {
   "default_parameters": {},
   "duration": 96.683967,
   "end_time": "2022-03-13T00:31:19.546348",
   "environment_variables": {},
   "exception": null,
   "input_path": "2020-08-11-part2.ipynb",
   "output_path": "2020-08-11-part2.ipynb",
   "parameters": {},
   "start_time": "2022-03-13T00:29:42.862381",
   "version": "2.3.3"
  }
 },
 "nbformat": 4,
 "nbformat_minor": 5
}