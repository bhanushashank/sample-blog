{
 "cells": [
  {
   "cell_type": "markdown",
   "id": "98380cd3",
   "metadata": {
    "papermill": {
     "duration": 0.028857,
     "end_time": "2022-04-03T10:10:07.025358",
     "exception": false,
     "start_time": "2022-04-03T10:10:06.996501",
     "status": "completed"
    },
    "tags": []
   },
   "source": [
    "# Distinguish Your Own Digits (DYOD)"
   ]
  },
  {
   "cell_type": "markdown",
   "id": "ef31240d",
   "metadata": {
    "papermill": {
     "duration": 0.026233,
     "end_time": "2022-04-03T10:10:07.077547",
     "exception": false,
     "start_time": "2022-04-03T10:10:07.051314",
     "status": "completed"
    },
    "tags": []
   },
   "source": [
    "You are going to write a classifier that distinguishes between the number 3 and number 8."
   ]
  },
  {
   "cell_type": "code",
   "execution_count": 1,
   "id": "b15c8646",
   "metadata": {
    "execution": {
     "iopub.execute_input": "2022-04-03T10:10:07.137892Z",
     "iopub.status.busy": "2022-04-03T10:10:07.137281Z",
     "iopub.status.idle": "2022-04-03T10:10:07.148610Z",
     "shell.execute_reply": "2022-04-03T10:10:07.149054Z"
    },
    "papermill": {
     "duration": 0.047434,
     "end_time": "2022-04-03T10:10:07.149246",
     "exception": false,
     "start_time": "2022-04-03T10:10:07.101812",
     "status": "completed"
    },
    "tags": []
   },
   "outputs": [],
   "source": [
    "%load_ext autoreload\n",
    "%autoreload 2"
   ]
  },
  {
   "cell_type": "code",
   "execution_count": 2,
   "id": "22ef38dc",
   "metadata": {
    "execution": {
     "iopub.execute_input": "2022-04-03T10:10:07.209640Z",
     "iopub.status.busy": "2022-04-03T10:10:07.209052Z",
     "iopub.status.idle": "2022-04-03T10:10:07.854459Z",
     "shell.execute_reply": "2022-04-03T10:10:07.854966Z"
    },
    "papermill": {
     "duration": 0.680942,
     "end_time": "2022-04-03T10:10:07.855148",
     "exception": false,
     "start_time": "2022-04-03T10:10:07.174206",
     "status": "completed"
    },
    "tags": []
   },
   "outputs": [],
   "source": [
    "%matplotlib inline\n",
    "import numpy as np\n",
    "import matplotlib.pyplot as plt\n",
    "import pandas as pd"
   ]
  },
  {
   "cell_type": "markdown",
   "id": "ba036198",
   "metadata": {
    "papermill": {
     "duration": 0.024977,
     "end_time": "2022-04-03T10:10:07.905509",
     "exception": false,
     "start_time": "2022-04-03T10:10:07.880532",
     "status": "completed"
    },
    "tags": []
   },
   "source": [
    "From the command line run `pip install mnist`. This is a library that will help you bring down the mnist dataset. If you run this from a notebook, you need to put  `!pip install mnist` in a cell by itself."
   ]
  },
  {
   "cell_type": "code",
   "execution_count": 3,
   "id": "bb6ad8a1",
   "metadata": {
    "execution": {
     "iopub.execute_input": "2022-04-03T10:10:07.971297Z",
     "iopub.status.busy": "2022-04-03T10:10:07.969124Z",
     "iopub.status.idle": "2022-04-03T10:10:10.554026Z",
     "shell.execute_reply": "2022-04-03T10:10:10.552827Z"
    },
    "papermill": {
     "duration": 2.624357,
     "end_time": "2022-04-03T10:10:10.554169",
     "exception": false,
     "start_time": "2022-04-03T10:10:07.929812",
     "status": "completed"
    },
    "tags": []
   },
   "outputs": [
    {
     "name": "stdout",
     "output_type": "stream",
     "text": [
      "Collecting mnist\r\n"
     ]
    },
    {
     "name": "stdout",
     "output_type": "stream",
     "text": [
      "  Downloading mnist-0.2.2-py2.py3-none-any.whl (3.5 kB)\r\n",
      "Requirement already satisfied: numpy in /opt/hostedtoolcache/Python/3.6.15/x64/lib/python3.6/site-packages (from mnist) (1.19.5)\r\n"
     ]
    },
    {
     "name": "stdout",
     "output_type": "stream",
     "text": [
      "Installing collected packages: mnist\r\n"
     ]
    },
    {
     "name": "stdout",
     "output_type": "stream",
     "text": [
      "Successfully installed mnist-0.2.2\r\n"
     ]
    }
   ],
   "source": [
    "!pip install mnist"
   ]
  },
  {
   "cell_type": "markdown",
   "id": "69df9c9a",
   "metadata": {
    "papermill": {
     "duration": 0.025243,
     "end_time": "2022-04-03T10:10:10.604900",
     "exception": false,
     "start_time": "2022-04-03T10:10:10.579657",
     "status": "completed"
    },
    "tags": []
   },
   "source": [
    "## Preparing the Data"
   ]
  },
  {
   "cell_type": "code",
   "execution_count": 4,
   "id": "7f69d806",
   "metadata": {
    "execution": {
     "iopub.execute_input": "2022-04-03T10:10:10.674911Z",
     "iopub.status.busy": "2022-04-03T10:10:10.673961Z",
     "iopub.status.idle": "2022-04-03T10:10:10.679560Z",
     "shell.execute_reply": "2022-04-03T10:10:10.679155Z"
    },
    "papermill": {
     "duration": 0.049748,
     "end_time": "2022-04-03T10:10:10.679667",
     "exception": false,
     "start_time": "2022-04-03T10:10:10.629919",
     "status": "completed"
    },
    "tags": []
   },
   "outputs": [],
   "source": [
    "import mnist"
   ]
  },
  {
   "cell_type": "code",
   "execution_count": 5,
   "id": "a411e44f",
   "metadata": {
    "execution": {
     "iopub.execute_input": "2022-04-03T10:10:10.738201Z",
     "iopub.status.busy": "2022-04-03T10:10:10.737687Z",
     "iopub.status.idle": "2022-04-03T10:10:11.264520Z",
     "shell.execute_reply": "2022-04-03T10:10:11.265005Z"
    },
    "papermill": {
     "duration": 0.560293,
     "end_time": "2022-04-03T10:10:11.265179",
     "exception": false,
     "start_time": "2022-04-03T10:10:10.704886",
     "status": "completed"
    },
    "tags": []
   },
   "outputs": [],
   "source": [
    "train_images = mnist.train_images()\n",
    "train_labels = mnist.train_labels()"
   ]
  },
  {
   "cell_type": "code",
   "execution_count": 6,
   "id": "dceab3a5",
   "metadata": {
    "execution": {
     "iopub.execute_input": "2022-04-03T10:10:11.327045Z",
     "iopub.status.busy": "2022-04-03T10:10:11.326532Z",
     "iopub.status.idle": "2022-04-03T10:10:11.336823Z",
     "shell.execute_reply": "2022-04-03T10:10:11.336391Z"
    },
    "papermill": {
     "duration": 0.045581,
     "end_time": "2022-04-03T10:10:11.336931",
     "exception": false,
     "start_time": "2022-04-03T10:10:11.291350",
     "status": "completed"
    },
    "tags": []
   },
   "outputs": [
    {
     "data": {
      "text/plain": [
       "((60000, 28, 28), (60000,))"
      ]
     },
     "execution_count": 6,
     "metadata": {},
     "output_type": "execute_result"
    }
   ],
   "source": [
    "train_images.shape, train_labels.shape"
   ]
  },
  {
   "cell_type": "code",
   "execution_count": 7,
   "id": "f50dc2bb",
   "metadata": {
    "execution": {
     "iopub.execute_input": "2022-04-03T10:10:11.390609Z",
     "iopub.status.busy": "2022-04-03T10:10:11.390108Z",
     "iopub.status.idle": "2022-04-03T10:10:11.566334Z",
     "shell.execute_reply": "2022-04-03T10:10:11.565847Z"
    },
    "papermill": {
     "duration": 0.204292,
     "end_time": "2022-04-03T10:10:11.566468",
     "exception": false,
     "start_time": "2022-04-03T10:10:11.362176",
     "status": "completed"
    },
    "tags": []
   },
   "outputs": [],
   "source": [
    "test_images = mnist.test_images()\n",
    "test_labels = mnist.test_labels()"
   ]
  },
  {
   "cell_type": "code",
   "execution_count": 8,
   "id": "fc38cf1b",
   "metadata": {
    "execution": {
     "iopub.execute_input": "2022-04-03T10:10:11.624703Z",
     "iopub.status.busy": "2022-04-03T10:10:11.624182Z",
     "iopub.status.idle": "2022-04-03T10:10:11.635376Z",
     "shell.execute_reply": "2022-04-03T10:10:11.635855Z"
    },
    "papermill": {
     "duration": 0.043729,
     "end_time": "2022-04-03T10:10:11.635983",
     "exception": false,
     "start_time": "2022-04-03T10:10:11.592254",
     "status": "completed"
    },
    "tags": []
   },
   "outputs": [
    {
     "data": {
      "text/plain": [
       "((10000, 28, 28), (10000,))"
      ]
     },
     "execution_count": 8,
     "metadata": {},
     "output_type": "execute_result"
    }
   ],
   "source": [
    "test_images.shape, test_labels.shape"
   ]
  },
  {
   "cell_type": "code",
   "execution_count": 9,
   "id": "f9ed8fe0",
   "metadata": {
    "execution": {
     "iopub.execute_input": "2022-04-03T10:10:11.719154Z",
     "iopub.status.busy": "2022-04-03T10:10:11.700776Z",
     "iopub.status.idle": "2022-04-03T10:10:11.833821Z",
     "shell.execute_reply": "2022-04-03T10:10:11.833337Z"
    },
    "papermill": {
     "duration": 0.172414,
     "end_time": "2022-04-03T10:10:11.833956",
     "exception": false,
     "start_time": "2022-04-03T10:10:11.661542",
     "status": "completed"
    },
    "tags": []
   },
   "outputs": [
    {
     "name": "stdout",
     "output_type": "stream",
     "text": [
      "2\n"
     ]
    },
    {
     "data": {
      "text/plain": [
       "<matplotlib.image.AxesImage at 0x7fce061a9668>"
      ]
     },
     "execution_count": 9,
     "metadata": {},
     "output_type": "execute_result"
    },
    {
     "data": {
      "image/png": "[encoded data removed]",
      "text/plain": [
       "<Figure size 432x288 with 1 Axes>"
      ]
     },
     "metadata": {
      "needs_background": "light"
     },
     "output_type": "display_data"
    }
   ],
   "source": [
    "image_index = 7776 # You may select anything up to 60,000\n",
    "print(train_labels[image_index]) \n",
    "plt.imshow(train_images[image_index], cmap='Greys')"
   ]
  },
  {
   "cell_type": "markdown",
   "id": "a8d2388d",
   "metadata": {
    "papermill": {
     "duration": 0.026894,
     "end_time": "2022-04-03T10:10:11.888530",
     "exception": false,
     "start_time": "2022-04-03T10:10:11.861636",
     "status": "completed"
    },
    "tags": []
   },
   "source": [
    "## Filter data to get 3 and 8 out"
   ]
  },
  {
   "cell_type": "code",
   "execution_count": 10,
   "id": "776f7fc7",
   "metadata": {
    "execution": {
     "iopub.execute_input": "2022-04-03T10:10:11.948471Z",
     "iopub.status.busy": "2022-04-03T10:10:11.947924Z",
     "iopub.status.idle": "2022-04-03T10:10:11.966039Z",
     "shell.execute_reply": "2022-04-03T10:10:11.965549Z"
    },
    "papermill": {
     "duration": 0.051018,
     "end_time": "2022-04-03T10:10:11.966164",
     "exception": false,
     "start_time": "2022-04-03T10:10:11.915146",
     "status": "completed"
    },
    "tags": []
   },
   "outputs": [],
   "source": [
    "train_filter = np.where((train_labels == 3 ) | (train_labels == 8))\n",
    "test_filter = np.where((test_labels == 3) | (test_labels == 8))\n",
    "X_train, y_train = train_images[train_filter], train_labels[train_filter]\n",
    "X_test, y_test = test_images[test_filter], test_labels[test_filter]"
   ]
  },
  {
   "cell_type": "markdown",
   "id": "948f0b7e",
   "metadata": {
    "papermill": {
     "duration": 0.026496,
     "end_time": "2022-04-03T10:10:12.020144",
     "exception": false,
     "start_time": "2022-04-03T10:10:11.993648",
     "status": "completed"
    },
    "tags": []
   },
   "source": [
    "We normalize the pizel values in the 0 to 1 range"
   ]
  },
  {
   "cell_type": "code",
   "execution_count": 11,
   "id": "ee4c2166",
   "metadata": {
    "execution": {
     "iopub.execute_input": "2022-04-03T10:10:12.077133Z",
     "iopub.status.busy": "2022-04-03T10:10:12.076637Z",
     "iopub.status.idle": "2022-04-03T10:10:12.126719Z",
     "shell.execute_reply": "2022-04-03T10:10:12.126155Z"
    },
    "papermill": {
     "duration": 0.08011,
     "end_time": "2022-04-03T10:10:12.126860",
     "exception": false,
     "start_time": "2022-04-03T10:10:12.046750",
     "status": "completed"
    },
    "tags": []
   },
   "outputs": [],
   "source": [
    "X_train = X_train/255.\n",
    "X_test = X_test/255."
   ]
  },
  {
   "cell_type": "markdown",
   "id": "ddcf4fab",
   "metadata": {
    "papermill": {
     "duration": 0.026929,
     "end_time": "2022-04-03T10:10:12.181811",
     "exception": false,
     "start_time": "2022-04-03T10:10:12.154882",
     "status": "completed"
    },
    "tags": []
   },
   "source": [
    "And setup the labels as 1 (when the digit is 3) and 0 (when the digit is 8)"
   ]
  },
  {
   "cell_type": "code",
   "execution_count": 12,
   "id": "7dc908f2",
   "metadata": {
    "execution": {
     "iopub.execute_input": "2022-04-03T10:10:12.239809Z",
     "iopub.status.busy": "2022-04-03T10:10:12.239305Z",
     "iopub.status.idle": "2022-04-03T10:10:12.252304Z",
     "shell.execute_reply": "2022-04-03T10:10:12.251860Z"
    },
    "papermill": {
     "duration": 0.044177,
     "end_time": "2022-04-03T10:10:12.252422",
     "exception": false,
     "start_time": "2022-04-03T10:10:12.208245",
     "status": "completed"
    },
    "tags": []
   },
   "outputs": [],
   "source": [
    "y_train = 1*(y_train==3)\n",
    "y_test = 1*(y_test==3)"
   ]
  },
  {
   "cell_type": "code",
   "execution_count": 13,
   "id": "01e4e969",
   "metadata": {
    "execution": {
     "iopub.execute_input": "2022-04-03T10:10:12.313215Z",
     "iopub.status.busy": "2022-04-03T10:10:12.312710Z",
     "iopub.status.idle": "2022-04-03T10:10:12.323645Z",
     "shell.execute_reply": "2022-04-03T10:10:12.324089Z"
    },
    "papermill": {
     "duration": 0.045071,
     "end_time": "2022-04-03T10:10:12.324216",
     "exception": false,
     "start_time": "2022-04-03T10:10:12.279145",
     "status": "completed"
    },
    "tags": []
   },
   "outputs": [
    {
     "data": {
      "text/plain": [
       "((11982, 28, 28), (1984, 28, 28))"
      ]
     },
     "execution_count": 13,
     "metadata": {},
     "output_type": "execute_result"
    }
   ],
   "source": [
    "X_train.shape, X_test.shape"
   ]
  },
  {
   "cell_type": "markdown",
   "id": "5ccf3f85",
   "metadata": {
    "papermill": {
     "duration": 0.026673,
     "end_time": "2022-04-03T10:10:12.377560",
     "exception": false,
     "start_time": "2022-04-03T10:10:12.350887",
     "status": "completed"
    },
    "tags": []
   },
   "source": [
    "We reshape the data to flatten the image pixels into a set of features or co-variates:"
   ]
  },
  {
   "cell_type": "code",
   "execution_count": 14,
   "id": "5286a4a3",
   "metadata": {
    "execution": {
     "iopub.execute_input": "2022-04-03T10:10:12.434766Z",
     "iopub.status.busy": "2022-04-03T10:10:12.434259Z",
     "iopub.status.idle": "2022-04-03T10:10:12.447641Z",
     "shell.execute_reply": "2022-04-03T10:10:12.448019Z"
    },
    "papermill": {
     "duration": 0.043749,
     "end_time": "2022-04-03T10:10:12.448169",
     "exception": false,
     "start_time": "2022-04-03T10:10:12.404420",
     "status": "completed"
    },
    "tags": []
   },
   "outputs": [
    {
     "data": {
      "text/plain": [
       "((11982, 784), (1984, 784))"
      ]
     },
     "execution_count": 14,
     "metadata": {},
     "output_type": "execute_result"
    }
   ],
   "source": [
    "X_train = X_train.reshape(X_train.shape[0], -1)\n",
    "X_test = X_test.reshape(X_test.shape[0], -1)\n",
    "X_train.shape, X_test.shape"
   ]
  },
  {
   "cell_type": "code",
   "execution_count": 15,
   "id": "73c5f88a",
   "metadata": {
    "execution": {
     "iopub.execute_input": "2022-04-03T10:10:12.517013Z",
     "iopub.status.busy": "2022-04-03T10:10:12.511784Z",
     "iopub.status.idle": "2022-04-03T10:10:12.528616Z",
     "shell.execute_reply": "2022-04-03T10:10:12.528191Z"
    },
    "papermill": {
     "duration": 0.053389,
     "end_time": "2022-04-03T10:10:12.528731",
     "exception": false,
     "start_time": "2022-04-03T10:10:12.475342",
     "status": "completed"
    },
    "tags": []
   },
   "outputs": [],
   "source": [
    "#Impoting functions from 'Kudzu'\n",
    "from kudzu.model import Model\n",
    "from kudzu.train import Learner\n",
    "from kudzu.optim import GD\n",
    "from kudzu.data import Data, Sampler,Dataloader\n",
    "\n",
    "from kudzu.callbacks import AccCallback\n",
    "from kudzu.callbacks import ClfCallback\n",
    "\n",
    "from kudzu.loss import MSE\n",
    "\n",
    "from kudzu.layer import Sigmoid,Relu\n",
    "from kudzu.layer import Affine"
   ]
  },
  {
   "cell_type": "markdown",
   "id": "bc01172a",
   "metadata": {
    "papermill": {
     "duration": 0.026956,
     "end_time": "2022-04-03T10:10:12.582906",
     "exception": false,
     "start_time": "2022-04-03T10:10:12.555950",
     "status": "completed"
    },
    "tags": []
   },
   "source": [
    "### Let us create a `Config` class, to store important parameters. \n",
    "This class essentially plays the role of a dictionary."
   ]
  },
  {
   "cell_type": "code",
   "execution_count": 16,
   "id": "978281aa",
   "metadata": {
    "execution": {
     "iopub.execute_input": "2022-04-03T10:10:12.643946Z",
     "iopub.status.busy": "2022-04-03T10:10:12.643400Z",
     "iopub.status.idle": "2022-04-03T10:10:12.654318Z",
     "shell.execute_reply": "2022-04-03T10:10:12.653908Z"
    },
    "papermill": {
     "duration": 0.044571,
     "end_time": "2022-04-03T10:10:12.654430",
     "exception": false,
     "start_time": "2022-04-03T10:10:12.609859",
     "status": "completed"
    },
    "tags": []
   },
   "outputs": [],
   "source": [
    "class Config:\n",
    "    pass\n",
    "config = Config()\n",
    "config.lr = 0.001\n",
    "config.num_epochs = 250\n",
    "config.bs = 50"
   ]
  },
  {
   "cell_type": "markdown",
   "id": "1385fa59",
   "metadata": {
    "papermill": {
     "duration": 0.027491,
     "end_time": "2022-04-03T10:10:12.709007",
     "exception": false,
     "start_time": "2022-04-03T10:10:12.681516",
     "status": "completed"
    },
    "tags": []
   },
   "source": [
    "### Running Models with the Training data\n",
    "Details about the network layers:\n",
    "- A first affine layer has 784 inputs and does 100 affine transforms. These are followed by a Relu\n",
    "- A second affine layer has 100 inputs from the 100 activations of the past layer, and does 100 affine transforms. These are followed by a Relu\n",
    "- A third affine layer has 100 activations and does 2 affine transformations to create an embedding for visualization. There is no non-linearity here.\n",
    "- A final \"logistic regression\" which has an affine transform from 2 inputs to 1 output, which is squeezed through a sigmoid.\n"
   ]
  },
  {
   "cell_type": "code",
   "execution_count": 17,
   "id": "2b9c66db",
   "metadata": {
    "execution": {
     "iopub.execute_input": "2022-04-03T10:10:12.780765Z",
     "iopub.status.busy": "2022-04-03T10:10:12.775789Z",
     "iopub.status.idle": "2022-04-03T10:10:12.785275Z",
     "shell.execute_reply": "2022-04-03T10:10:12.785682Z"
    },
    "papermill": {
     "duration": 0.048805,
     "end_time": "2022-04-03T10:10:12.785809",
     "exception": false,
     "start_time": "2022-04-03T10:10:12.737004",
     "status": "completed"
    },
    "tags": []
   },
   "outputs": [],
   "source": [
    "data = Data(X_train, y_train.reshape(-1,1))\n",
    "sampler = Sampler(data, config.bs, shuffle=True)\n",
    "\n",
    "dl = Dataloader(data, sampler)\n",
    "\n",
    "opt = GD(config.lr)\n",
    "loss = MSE()"
   ]
  },
  {
   "cell_type": "code",
   "execution_count": 18,
   "id": "b275e4c2",
   "metadata": {
    "execution": {
     "iopub.execute_input": "2022-04-03T10:10:12.848685Z",
     "iopub.status.busy": "2022-04-03T10:10:12.843174Z",
     "iopub.status.idle": "2022-04-03T10:10:12.857061Z",
     "shell.execute_reply": "2022-04-03T10:10:12.856657Z"
    },
    "papermill": {
     "duration": 0.044119,
     "end_time": "2022-04-03T10:10:12.857172",
     "exception": false,
     "start_time": "2022-04-03T10:10:12.813053",
     "status": "completed"
    },
    "tags": []
   },
   "outputs": [],
   "source": [
    "training_data_x = X_train\n",
    "testing_data_x = X_test\n",
    "training_data_y = y_train.reshape(-1,1)\n",
    "testing_data_y = y_test.reshape(-1,1)"
   ]
  },
  {
   "cell_type": "code",
   "execution_count": 19,
   "id": "76951160",
   "metadata": {
    "execution": {
     "iopub.execute_input": "2022-04-03T10:10:12.928900Z",
     "iopub.status.busy": "2022-04-03T10:10:12.924707Z",
     "iopub.status.idle": "2022-04-03T10:10:12.933782Z",
     "shell.execute_reply": "2022-04-03T10:10:12.934167Z"
    },
    "papermill": {
     "duration": 0.05019,
     "end_time": "2022-04-03T10:10:12.934295",
     "exception": false,
     "start_time": "2022-04-03T10:10:12.884105",
     "status": "completed"
    },
    "tags": []
   },
   "outputs": [
    {
     "name": "stdout",
     "output_type": "stream",
     "text": [
      "xavier\n",
      "xavier\n",
      "xavier\n",
      "xavier\n",
      "xavier\n"
     ]
    }
   ],
   "source": [
    "layers = [Affine(\"first\", 784, 100), Relu(\"first\"), Affine(\"second\", 100, 100), Relu(\"second\"), Affine(\"third\", 100, 2), Affine(\"last\", 2, 1), Sigmoid(\"last\")]\n",
    "model_nn = Model(layers)\n",
    "model_lr = Model([Affine(\"logits\", 784, 1), Sigmoid(\"sigmoid\")])"
   ]
  },
  {
   "cell_type": "code",
   "execution_count": 20,
   "id": "6eede77a",
   "metadata": {
    "execution": {
     "iopub.execute_input": "2022-04-03T10:10:13.006475Z",
     "iopub.status.busy": "2022-04-03T10:10:13.004781Z",
     "iopub.status.idle": "2022-04-03T10:10:13.009178Z",
     "shell.execute_reply": "2022-04-03T10:10:13.008206Z"
    },
    "papermill": {
     "duration": 0.047615,
     "end_time": "2022-04-03T10:10:13.009286",
     "exception": false,
     "start_time": "2022-04-03T10:10:12.961671",
     "status": "completed"
    },
    "tags": []
   },
   "outputs": [],
   "source": [
    "nn_learner = Learner(loss, model_nn, opt, config.num_epochs)\n",
    "acc_nn = ClfCallback(nn_learner, config.bs, training_data_x , testing_data_x, training_data_y, testing_data_y)\n",
    "nn_learner.set_callbacks([acc_nn])"
   ]
  },
  {
   "cell_type": "code",
   "execution_count": 21,
   "id": "877b6cc7",
   "metadata": {
    "execution": {
     "iopub.execute_input": "2022-04-03T10:10:13.068218Z",
     "iopub.status.busy": "2022-04-03T10:10:13.067694Z",
     "iopub.status.idle": "2022-04-03T10:10:13.079320Z",
     "shell.execute_reply": "2022-04-03T10:10:13.078919Z"
    },
    "papermill": {
     "duration": 0.042745,
     "end_time": "2022-04-03T10:10:13.079425",
     "exception": false,
     "start_time": "2022-04-03T10:10:13.036680",
     "status": "completed"
    },
    "tags": []
   },
   "outputs": [],
   "source": [
    "lr_learner = Learner(loss, model_lr, opt, config.num_epochs)\n",
    "acc_lr = ClfCallback(lr_learner, config.bs, training_data_x , testing_data_x, training_data_y, testing_data_y)\n",
    "lr_learner.set_callbacks([acc_lr])"
   ]
  },
  {
   "cell_type": "code",
   "execution_count": 22,
   "id": "d9b133c3",
   "metadata": {
    "execution": {
     "iopub.execute_input": "2022-04-03T10:10:13.141213Z",
     "iopub.status.busy": "2022-04-03T10:10:13.140714Z",
     "iopub.status.idle": "2022-04-03T10:11:29.122734Z",
     "shell.execute_reply": "2022-04-03T10:11:29.123467Z"
    },
    "papermill": {
     "duration": 76.016674,
     "end_time": "2022-04-03T10:11:29.123621",
     "exception": false,
     "start_time": "2022-04-03T10:10:13.106947",
     "status": "completed"
    },
    "tags": []
   },
   "outputs": [
    {
     "name": "stdout",
     "output_type": "stream",
     "text": [
      "Epoch 0, Loss 0.2462\n",
      "Training Accuracy: 0.5674, Testing Accuracy: 0.5726\n",
      "\n"
     ]
    },
    {
     "name": "stdout",
     "output_type": "stream",
     "text": [
      "Epoch 10, Loss 0.1306\n",
      "Training Accuracy: 0.8990, Testing Accuracy: 0.9062\n",
      "\n"
     ]
    },
    {
     "name": "stdout",
     "output_type": "stream",
     "text": [
      "Epoch 20, Loss 0.0692\n",
      "Training Accuracy: 0.9298, Testing Accuracy: 0.9350\n",
      "\n"
     ]
    },
    {
     "name": "stdout",
     "output_type": "stream",
     "text": [
      "Epoch 30, Loss 0.0505\n",
      "Training Accuracy: 0.9472, Testing Accuracy: 0.9501\n",
      "\n"
     ]
    },
    {
     "name": "stdout",
     "output_type": "stream",
     "text": [
      "Epoch 40, Loss 0.0422\n",
      "Training Accuracy: 0.9540, Testing Accuracy: 0.9577\n",
      "\n"
     ]
    },
    {
     "name": "stdout",
     "output_type": "stream",
     "text": [
      "Epoch 50, Loss 0.0377\n",
      "Training Accuracy: 0.9575, Testing Accuracy: 0.9617\n",
      "\n"
     ]
    },
    {
     "name": "stdout",
     "output_type": "stream",
     "text": [
      "Epoch 60, Loss 0.0348\n",
      "Training Accuracy: 0.9601, Testing Accuracy: 0.9632\n",
      "\n"
     ]
    },
    {
     "name": "stdout",
     "output_type": "stream",
     "text": [
      "Epoch 70, Loss 0.0328\n",
      "Training Accuracy: 0.9617, Testing Accuracy: 0.9642\n",
      "\n"
     ]
    },
    {
     "name": "stdout",
     "output_type": "stream",
     "text": [
      "Epoch 80, Loss 0.0312\n",
      "Training Accuracy: 0.9638, Testing Accuracy: 0.9652\n",
      "\n"
     ]
    },
    {
     "name": "stdout",
     "output_type": "stream",
     "text": [
      "Epoch 90, Loss 0.0299\n",
      "Training Accuracy: 0.9658, Testing Accuracy: 0.9657\n",
      "\n"
     ]
    },
    {
     "name": "stdout",
     "output_type": "stream",
     "text": [
      "Epoch 100, Loss 0.0289\n",
      "Training Accuracy: 0.9667, Testing Accuracy: 0.9657\n",
      "\n"
     ]
    },
    {
     "name": "stdout",
     "output_type": "stream",
     "text": [
      "Epoch 110, Loss 0.0279\n",
      "Training Accuracy: 0.9679, Testing Accuracy: 0.9667\n",
      "\n"
     ]
    },
    {
     "name": "stdout",
     "output_type": "stream",
     "text": [
      "Epoch 120, Loss 0.0271\n",
      "Training Accuracy: 0.9687, Testing Accuracy: 0.9672\n",
      "\n"
     ]
    },
    {
     "name": "stdout",
     "output_type": "stream",
     "text": [
      "Epoch 130, Loss 0.0264\n",
      "Training Accuracy: 0.9695, Testing Accuracy: 0.9677\n",
      "\n"
     ]
    },
    {
     "name": "stdout",
     "output_type": "stream",
     "text": [
      "Epoch 140, Loss 0.0257\n",
      "Training Accuracy: 0.9701, Testing Accuracy: 0.9693\n",
      "\n"
     ]
    },
    {
     "name": "stdout",
     "output_type": "stream",
     "text": [
      "Epoch 150, Loss 0.0251\n",
      "Training Accuracy: 0.9709, Testing Accuracy: 0.9693\n",
      "\n"
     ]
    },
    {
     "name": "stdout",
     "output_type": "stream",
     "text": [
      "Epoch 160, Loss 0.0245\n",
      "Training Accuracy: 0.9715, Testing Accuracy: 0.9703\n",
      "\n"
     ]
    },
    {
     "name": "stdout",
     "output_type": "stream",
     "text": [
      "Epoch 170, Loss 0.024\n",
      "Training Accuracy: 0.9722, Testing Accuracy: 0.9693\n",
      "\n"
     ]
    },
    {
     "name": "stdout",
     "output_type": "stream",
     "text": [
      "Epoch 180, Loss 0.0235\n",
      "Training Accuracy: 0.9727, Testing Accuracy: 0.9703\n",
      "\n"
     ]
    },
    {
     "name": "stdout",
     "output_type": "stream",
     "text": [
      "Epoch 190, Loss 0.023\n",
      "Training Accuracy: 0.9731, Testing Accuracy: 0.9703\n",
      "\n"
     ]
    },
    {
     "name": "stdout",
     "output_type": "stream",
     "text": [
      "Epoch 200, Loss 0.0226\n",
      "Training Accuracy: 0.9737, Testing Accuracy: 0.9708\n",
      "\n"
     ]
    },
    {
     "name": "stdout",
     "output_type": "stream",
     "text": [
      "Epoch 210, Loss 0.0222\n",
      "Training Accuracy: 0.9741, Testing Accuracy: 0.9708\n",
      "\n"
     ]
    },
    {
     "name": "stdout",
     "output_type": "stream",
     "text": [
      "Epoch 220, Loss 0.0218\n",
      "Training Accuracy: 0.9747, Testing Accuracy: 0.9713\n",
      "\n"
     ]
    },
    {
     "name": "stdout",
     "output_type": "stream",
     "text": [
      "Epoch 230, Loss 0.0214\n",
      "Training Accuracy: 0.9750, Testing Accuracy: 0.9713\n",
      "\n"
     ]
    },
    {
     "name": "stdout",
     "output_type": "stream",
     "text": [
      "Epoch 240, Loss 0.021\n",
      "Training Accuracy: 0.9755, Testing Accuracy: 0.9723\n",
      "\n"
     ]
    },
    {
     "data": {
      "text/plain": [
       "0.007581748927198918"
      ]
     },
     "execution_count": 22,
     "metadata": {},
     "output_type": "execute_result"
    }
   ],
   "source": [
    "nn_learner.train_loop(dl)"
   ]
  },
  {
   "cell_type": "code",
   "execution_count": 23,
   "id": "e0163366",
   "metadata": {
    "execution": {
     "iopub.execute_input": "2022-04-03T10:11:29.205231Z",
     "iopub.status.busy": "2022-04-03T10:11:29.204714Z",
     "iopub.status.idle": "2022-04-03T10:11:42.907205Z",
     "shell.execute_reply": "2022-04-03T10:11:42.907922Z"
    },
    "papermill": {
     "duration": 13.749106,
     "end_time": "2022-04-03T10:11:42.908101",
     "exception": false,
     "start_time": "2022-04-03T10:11:29.158995",
     "status": "completed"
    },
    "tags": []
   },
   "outputs": [
    {
     "name": "stdout",
     "output_type": "stream",
     "text": [
      "Epoch 0, Loss 0.2085\n",
      "Training Accuracy: 0.7734, Testing Accuracy: 0.7838\n",
      "\n"
     ]
    },
    {
     "name": "stdout",
     "output_type": "stream",
     "text": [
      "Epoch 10, Loss 0.1003\n",
      "Training Accuracy: 0.9091, Testing Accuracy: 0.9178\n",
      "\n"
     ]
    },
    {
     "name": "stdout",
     "output_type": "stream",
     "text": [
      "Epoch 20, Loss 0.0783\n",
      "Training Accuracy: 0.9278, Testing Accuracy: 0.9360\n",
      "\n"
     ]
    },
    {
     "name": "stdout",
     "output_type": "stream",
     "text": [
      "Epoch 30, Loss 0.0678\n",
      "Training Accuracy: 0.9359, Testing Accuracy: 0.9435\n",
      "\n"
     ]
    },
    {
     "name": "stdout",
     "output_type": "stream",
     "text": [
      "Epoch 40, Loss 0.0615\n",
      "Training Accuracy: 0.9406, Testing Accuracy: 0.9486\n",
      "\n"
     ]
    },
    {
     "name": "stdout",
     "output_type": "stream",
     "text": [
      "Epoch 50, Loss 0.0571\n",
      "Training Accuracy: 0.9433, Testing Accuracy: 0.9516\n",
      "\n"
     ]
    },
    {
     "name": "stdout",
     "output_type": "stream",
     "text": [
      "Epoch 60, Loss 0.0539\n",
      "Training Accuracy: 0.9461, Testing Accuracy: 0.9541\n",
      "\n"
     ]
    },
    {
     "name": "stdout",
     "output_type": "stream",
     "text": [
      "Epoch 70, Loss 0.0514\n",
      "Training Accuracy: 0.9485, Testing Accuracy: 0.9561\n",
      "\n"
     ]
    },
    {
     "name": "stdout",
     "output_type": "stream",
     "text": [
      "Epoch 80, Loss 0.0493\n",
      "Training Accuracy: 0.9499, Testing Accuracy: 0.9567\n",
      "\n"
     ]
    },
    {
     "name": "stdout",
     "output_type": "stream",
     "text": [
      "Epoch 90, Loss 0.0477\n",
      "Training Accuracy: 0.9515, Testing Accuracy: 0.9572\n",
      "\n"
     ]
    },
    {
     "name": "stdout",
     "output_type": "stream",
     "text": [
      "Epoch 100, Loss 0.0462\n",
      "Training Accuracy: 0.9528, Testing Accuracy: 0.9572\n",
      "\n"
     ]
    },
    {
     "name": "stdout",
     "output_type": "stream",
     "text": [
      "Epoch 110, Loss 0.045\n",
      "Training Accuracy: 0.9541, Testing Accuracy: 0.9582\n",
      "\n"
     ]
    },
    {
     "name": "stdout",
     "output_type": "stream",
     "text": [
      "Epoch 120, Loss 0.044\n",
      "Training Accuracy: 0.9555, Testing Accuracy: 0.9592\n",
      "\n"
     ]
    },
    {
     "name": "stdout",
     "output_type": "stream",
     "text": [
      "Epoch 130, Loss 0.043\n",
      "Training Accuracy: 0.9568, Testing Accuracy: 0.9607\n",
      "\n"
     ]
    },
    {
     "name": "stdout",
     "output_type": "stream",
     "text": [
      "Epoch 140, Loss 0.0422\n",
      "Training Accuracy: 0.9574, Testing Accuracy: 0.9617\n",
      "\n"
     ]
    },
    {
     "name": "stdout",
     "output_type": "stream",
     "text": [
      "Epoch 150, Loss 0.0414\n",
      "Training Accuracy: 0.9583, Testing Accuracy: 0.9632\n",
      "\n"
     ]
    },
    {
     "name": "stdout",
     "output_type": "stream",
     "text": [
      "Epoch 160, Loss 0.0408\n",
      "Training Accuracy: 0.9585, Testing Accuracy: 0.9632\n",
      "\n"
     ]
    },
    {
     "name": "stdout",
     "output_type": "stream",
     "text": [
      "Epoch 170, Loss 0.0401\n",
      "Training Accuracy: 0.9589, Testing Accuracy: 0.9637\n",
      "\n"
     ]
    },
    {
     "name": "stdout",
     "output_type": "stream",
     "text": [
      "Epoch 180, Loss 0.0396\n",
      "Training Accuracy: 0.9594, Testing Accuracy: 0.9637\n",
      "\n"
     ]
    },
    {
     "name": "stdout",
     "output_type": "stream",
     "text": [
      "Epoch 190, Loss 0.039\n",
      "Training Accuracy: 0.9599, Testing Accuracy: 0.9642\n",
      "\n"
     ]
    },
    {
     "name": "stdout",
     "output_type": "stream",
     "text": [
      "Epoch 200, Loss 0.0386\n",
      "Training Accuracy: 0.9600, Testing Accuracy: 0.9642\n",
      "\n"
     ]
    },
    {
     "name": "stdout",
     "output_type": "stream",
     "text": [
      "Epoch 210, Loss 0.0381\n",
      "Training Accuracy: 0.9601, Testing Accuracy: 0.9647\n",
      "\n"
     ]
    },
    {
     "name": "stdout",
     "output_type": "stream",
     "text": [
      "Epoch 220, Loss 0.0377\n",
      "Training Accuracy: 0.9604, Testing Accuracy: 0.9647\n",
      "\n"
     ]
    },
    {
     "name": "stdout",
     "output_type": "stream",
     "text": [
      "Epoch 230, Loss 0.0373\n",
      "Training Accuracy: 0.9606, Testing Accuracy: 0.9647\n",
      "\n"
     ]
    },
    {
     "name": "stdout",
     "output_type": "stream",
     "text": [
      "Epoch 240, Loss 0.0369\n",
      "Training Accuracy: 0.9611, Testing Accuracy: 0.9647\n",
      "\n"
     ]
    },
    {
     "data": {
      "text/plain": [
       "0.033261157744195816"
      ]
     },
     "execution_count": 23,
     "metadata": {},
     "output_type": "execute_result"
    }
   ],
   "source": [
    "lr_learner.train_loop(dl)"
   ]
  },
  {
   "cell_type": "code",
   "execution_count": 24,
   "id": "ca410940",
   "metadata": {
    "execution": {
     "iopub.execute_input": "2022-04-03T10:11:43.005155Z",
     "iopub.status.busy": "2022-04-03T10:11:43.004648Z",
     "iopub.status.idle": "2022-04-03T10:11:43.237586Z",
     "shell.execute_reply": "2022-04-03T10:11:43.237092Z"
    },
    "papermill": {
     "duration": 0.287401,
     "end_time": "2022-04-03T10:11:43.237732",
     "exception": false,
     "start_time": "2022-04-03T10:11:42.950331",
     "status": "completed"
    },
    "tags": []
   },
   "outputs": [
    {
     "data": {
      "text/plain": [
       "<matplotlib.legend.Legend at 0x7fce05d85d30>"
      ]
     },
     "execution_count": 24,
     "metadata": {},
     "output_type": "execute_result"
    },
    {
     "data": {
      "image/png": "[encoded data removed]",
      "text/plain": [
       "<Figure size 1080x720 with 1 Axes>"
      ]
     },
     "metadata": {
      "needs_background": "light"
     },
     "output_type": "display_data"
    }
   ],
   "source": [
    "#comparing the results of NN and LR\n",
    "plt.figure(figsize=(15,10))\n",
    "\n",
    "# Neural Network plots\n",
    "plt.plot(acc_nn.accuracies, 'r-', label = \"Training Accuracies - NN\")\n",
    "plt.plot(acc_nn.test_accuracies, 'g-', label = \"Testing Accuracies - NN\")\n",
    "\n",
    "# Logistic Regression plots\n",
    "plt.plot(acc_lr.accuracies, 'k-', label = \"Training Accuracies - LR\")\n",
    "plt.plot(acc_lr.test_accuracies, 'b-', label = \"Testing Accuracies - LR\")\n",
    "plt.legend()"
   ]
  },
  {
   "cell_type": "markdown",
   "id": "80dfb35c",
   "metadata": {
    "papermill": {
     "duration": 0.042527,
     "end_time": "2022-04-03T10:11:43.323419",
     "exception": false,
     "start_time": "2022-04-03T10:11:43.280892",
     "status": "completed"
    },
    "tags": []
   },
   "source": [
    "#### Plotting the outputs of this layer of the NN.\n"
   ]
  },
  {
   "cell_type": "code",
   "execution_count": 25,
   "id": "45eb2ff5",
   "metadata": {
    "execution": {
     "iopub.execute_input": "2022-04-03T10:11:43.411927Z",
     "iopub.status.busy": "2022-04-03T10:11:43.411404Z",
     "iopub.status.idle": "2022-04-03T10:11:43.431051Z",
     "shell.execute_reply": "2022-04-03T10:11:43.431751Z"
    },
    "papermill": {
     "duration": 0.066158,
     "end_time": "2022-04-03T10:11:43.431895",
     "exception": false,
     "start_time": "2022-04-03T10:11:43.365737",
     "status": "completed"
    },
    "tags": []
   },
   "outputs": [],
   "source": [
    "new_model = Model(layers[:-2])\n",
    "testing_plot = new_model(testing_data_x)"
   ]
  },
  {
   "cell_type": "code",
   "execution_count": 26,
   "id": "4c0a5485",
   "metadata": {
    "execution": {
     "iopub.execute_input": "2022-04-03T10:11:43.525601Z",
     "iopub.status.busy": "2022-04-03T10:11:43.525098Z",
     "iopub.status.idle": "2022-04-03T10:11:43.718390Z",
     "shell.execute_reply": "2022-04-03T10:11:43.718781Z"
    },
    "papermill": {
     "duration": 0.243905,
     "end_time": "2022-04-03T10:11:43.718929",
     "exception": false,
     "start_time": "2022-04-03T10:11:43.475024",
     "status": "completed"
    },
    "tags": []
   },
   "outputs": [
    {
     "data": {
      "text/plain": [
       "Text(0.5, 1.0, 'Outputs')"
      ]
     },
     "execution_count": 26,
     "metadata": {},
     "output_type": "execute_result"
    },
    {
     "data": {
      "image/png": "[encoded data removed]",
      "text/plain": [
       "<Figure size 576x504 with 1 Axes>"
      ]
     },
     "metadata": {
      "needs_background": "light"
     },
     "output_type": "display_data"
    }
   ],
   "source": [
    "# Plotting the scatter plot of points and color coding by class\n",
    "plt.figure(figsize=(8,7))\n",
    "plt.scatter(testing_plot[:,0], testing_plot[:,1], alpha = 0.1, c = y_test.ravel());\n",
    "plt.title('Outputs')"
   ]
  },
  {
   "cell_type": "markdown",
   "id": "a74fcf8f",
   "metadata": {
    "papermill": {
     "duration": 0.044022,
     "end_time": "2022-04-03T10:11:43.807255",
     "exception": false,
     "start_time": "2022-04-03T10:11:43.763233",
     "status": "completed"
    },
    "tags": []
   },
   "source": [
    "Probability contours"
   ]
  },
  {
   "cell_type": "code",
   "execution_count": 27,
   "id": "d0afc8e3",
   "metadata": {
    "execution": {
     "iopub.execute_input": "2022-04-03T10:11:43.899858Z",
     "iopub.status.busy": "2022-04-03T10:11:43.899322Z",
     "iopub.status.idle": "2022-04-03T10:11:43.910569Z",
     "shell.execute_reply": "2022-04-03T10:11:43.910971Z"
    },
    "papermill": {
     "duration": 0.059813,
     "end_time": "2022-04-03T10:11:43.911098",
     "exception": false,
     "start_time": "2022-04-03T10:11:43.851285",
     "status": "completed"
    },
    "tags": []
   },
   "outputs": [],
   "source": [
    "model_prob = Model(layers[-2:]) "
   ]
  },
  {
   "cell_type": "code",
   "execution_count": 28,
   "id": "9b96e238",
   "metadata": {
    "execution": {
     "iopub.execute_input": "2022-04-03T10:11:44.041798Z",
     "iopub.status.busy": "2022-04-03T10:11:44.040852Z",
     "iopub.status.idle": "2022-04-03T10:11:44.050867Z",
     "shell.execute_reply": "2022-04-03T10:11:44.050368Z"
    },
    "papermill": {
     "duration": 0.067459,
     "end_time": "2022-04-03T10:11:44.050977",
     "exception": false,
     "start_time": "2022-04-03T10:11:43.983518",
     "status": "completed"
    },
    "tags": []
   },
   "outputs": [],
   "source": [
    "#creating the x and y ranges according to the above generated plot.\n",
    "x_range = np.linspace(-4, 1, 100) \n",
    "y_range = np.linspace(-6, 6, 100) \n",
    "x_grid, y_grid = np.meshgrid(x_range, y_range) # x_grid and y_grig are of size 100 X 100\n",
    "\n",
    "# converting x_grid and y_grid to continuous arrays\n",
    "x_gridflat = np.ravel(x_grid)\n",
    "y_gridflat = np.ravel(y_grid)\n",
    "\n",
    "# The last layer of the current model takes two columns as input. Hence transpose of np.vstack() is required.\n",
    "X = np.vstack((x_gridflat, y_gridflat)).T\n",
    "\n",
    "prob_contour = model_prob(X).reshape(100,100) "
   ]
  },
  {
   "cell_type": "code",
   "execution_count": 29,
   "id": "da72499a",
   "metadata": {
    "execution": {
     "iopub.execute_input": "2022-04-03T10:11:44.147973Z",
     "iopub.status.busy": "2022-04-03T10:11:44.147466Z",
     "iopub.status.idle": "2022-04-03T10:11:44.393596Z",
     "shell.execute_reply": "2022-04-03T10:11:44.394063Z"
    },
    "papermill": {
     "duration": 0.298994,
     "end_time": "2022-04-03T10:11:44.394227",
     "exception": false,
     "start_time": "2022-04-03T10:11:44.095233",
     "status": "completed"
    },
    "tags": []
   },
   "outputs": [
    {
     "data": {
      "image/png": "[encoded data removed]",
      "text/plain": [
       "<Figure size 720x648 with 1 Axes>"
      ]
     },
     "metadata": {
      "needs_background": "light"
     },
     "output_type": "display_data"
    }
   ],
   "source": [
    "plt.figure(figsize=(10,9))\n",
    "plt.scatter(testing_plot[:,0], testing_plot[:,1], alpha = 0.1, c = y_test.ravel())\n",
    "contours = plt.contour(x_grid,y_grid,prob_contour)\n",
    "plt.title('Probability Contours')\n",
    "plt.clabel(contours, inline = True );"
   ]
  },
  {
   "cell_type": "code",
   "execution_count": null,
   "id": "e81b4ac7",
   "metadata": {
    "papermill": {
     "duration": 0.046659,
     "end_time": "2022-04-03T10:11:44.488218",
     "exception": false,
     "start_time": "2022-04-03T10:11:44.441559",
     "status": "completed"
    },
    "tags": []
   },
   "outputs": [],
   "source": []
  }
 ],
 "metadata": {
  "kernelspec": {
   "display_name": "Python 3",
   "language": "python",
   "name": "python3"
  },
  "language_info": {
   "codemirror_mode": {
    "name": "ipython",
    "version": 3
   },
   "file_extension": ".py",
   "mimetype": "text/x-python",
   "name": "python",
   "nbconvert_exporter": "python",
   "pygments_lexer": "ipython3",
   "version": "3.6.15"
  },
  "papermill": {
   "default_parameters": {},
   "duration": 99.225669,
   "end_time": "2022-04-03T10:11:44.954847",
   "environment_variables": {},
   "exception": null,
   "input_path": "2020-08-11-part2.ipynb",
   "output_path": "2020-08-11-part2.ipynb",
   "parameters": {},
   "start_time": "2022-04-03T10:10:05.729178",
   "version": "2.3.3"
  }
 },
 "nbformat": 4,
 "nbformat_minor": 5
}