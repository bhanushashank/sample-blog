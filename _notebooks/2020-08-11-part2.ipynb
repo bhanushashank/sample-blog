{
 "cells": [
  {
   "cell_type": "markdown",
   "id": "98380cd3",
   "metadata": {
    "papermill": {
     "duration": 0.028646,
     "end_time": "2022-05-18T10:11:30.275688",
     "exception": false,
     "start_time": "2022-05-18T10:11:30.247042",
     "status": "completed"
    },
    "tags": []
   },
   "source": [
    "# Distinguish Your Own Digits (DYOD)"
   ]
  },
  {
   "cell_type": "markdown",
   "id": "ef31240d",
   "metadata": {
    "papermill": {
     "duration": 0.026629,
     "end_time": "2022-05-18T10:11:30.326886",
     "exception": false,
     "start_time": "2022-05-18T10:11:30.300257",
     "status": "completed"
    },
    "tags": []
   },
   "source": [
    "You are going to write a classifier that distinguishes between the number 3 and number 8."
   ]
  },
  {
   "cell_type": "code",
   "execution_count": 1,
   "id": "b15c8646",
   "metadata": {
    "execution": {
     "iopub.execute_input": "2022-05-18T10:11:30.385196Z",
     "iopub.status.busy": "2022-05-18T10:11:30.382386Z",
     "iopub.status.idle": "2022-05-18T10:11:30.395105Z",
     "shell.execute_reply": "2022-05-18T10:11:30.395534Z"
    },
    "papermill": {
     "duration": 0.044985,
     "end_time": "2022-05-18T10:11:30.395689",
     "exception": false,
     "start_time": "2022-05-18T10:11:30.350704",
     "status": "completed"
    },
    "tags": []
   },
   "outputs": [],
   "source": [
    "%load_ext autoreload\n",
    "%autoreload 2"
   ]
  },
  {
   "cell_type": "code",
   "execution_count": 2,
   "id": "22ef38dc",
   "metadata": {
    "execution": {
     "iopub.execute_input": "2022-05-18T10:11:30.449168Z",
     "iopub.status.busy": "2022-05-18T10:11:30.448603Z",
     "iopub.status.idle": "2022-05-18T10:11:30.979564Z",
     "shell.execute_reply": "2022-05-18T10:11:30.979041Z"
    },
    "papermill": {
     "duration": 0.560172,
     "end_time": "2022-05-18T10:11:30.979698",
     "exception": false,
     "start_time": "2022-05-18T10:11:30.419526",
     "status": "completed"
    },
    "tags": []
   },
   "outputs": [],
   "source": [
    "%matplotlib inline\n",
    "import numpy as np\n",
    "import matplotlib.pyplot as plt\n",
    "import pandas as pd"
   ]
  },
  {
   "cell_type": "markdown",
   "id": "ba036198",
   "metadata": {
    "papermill": {
     "duration": 0.023788,
     "end_time": "2022-05-18T10:11:31.028044",
     "exception": false,
     "start_time": "2022-05-18T10:11:31.004256",
     "status": "completed"
    },
    "tags": []
   },
   "source": [
    "From the command line run `pip install mnist`. This is a library that will help you bring down the mnist dataset. If you run this from a notebook, you need to put  `!pip install mnist` in a cell by itself."
   ]
  },
  {
   "cell_type": "code",
   "execution_count": 3,
   "id": "bb6ad8a1",
   "metadata": {
    "execution": {
     "iopub.execute_input": "2022-05-18T10:11:31.080174Z",
     "iopub.status.busy": "2022-05-18T10:11:31.079662Z",
     "iopub.status.idle": "2022-05-18T10:11:32.876848Z",
     "shell.execute_reply": "2022-05-18T10:11:32.875967Z"
    },
    "papermill": {
     "duration": 1.824984,
     "end_time": "2022-05-18T10:11:32.876988",
     "exception": false,
     "start_time": "2022-05-18T10:11:31.052004",
     "status": "completed"
    },
    "tags": []
   },
   "outputs": [
    {
     "name": "stdout",
     "output_type": "stream",
     "text": [
      "Collecting mnist\r\n"
     ]
    },
    {
     "name": "stdout",
     "output_type": "stream",
     "text": [
      "  Downloading mnist-0.2.2-py2.py3-none-any.whl (3.5 kB)\r\n",
      "Requirement already satisfied: numpy in /opt/hostedtoolcache/Python/3.6.15/x64/lib/python3.6/site-packages (from mnist) (1.19.5)\r\n"
     ]
    },
    {
     "name": "stdout",
     "output_type": "stream",
     "text": [
      "Installing collected packages: mnist\r\n"
     ]
    },
    {
     "name": "stdout",
     "output_type": "stream",
     "text": [
      "Successfully installed mnist-0.2.2\r\n"
     ]
    }
   ],
   "source": [
    "!pip install mnist"
   ]
  },
  {
   "cell_type": "markdown",
   "id": "69df9c9a",
   "metadata": {
    "papermill": {
     "duration": 0.024819,
     "end_time": "2022-05-18T10:11:32.926895",
     "exception": false,
     "start_time": "2022-05-18T10:11:32.902076",
     "status": "completed"
    },
    "tags": []
   },
   "source": [
    "## Preparing the Data"
   ]
  },
  {
   "cell_type": "code",
   "execution_count": 4,
   "id": "7f69d806",
   "metadata": {
    "execution": {
     "iopub.execute_input": "2022-05-18T10:11:32.989570Z",
     "iopub.status.busy": "2022-05-18T10:11:32.983219Z",
     "iopub.status.idle": "2022-05-18T10:11:32.995173Z",
     "shell.execute_reply": "2022-05-18T10:11:32.995562Z"
    },
    "papermill": {
     "duration": 0.044065,
     "end_time": "2022-05-18T10:11:32.995694",
     "exception": false,
     "start_time": "2022-05-18T10:11:32.951629",
     "status": "completed"
    },
    "tags": []
   },
   "outputs": [],
   "source": [
    "import mnist"
   ]
  },
  {
   "cell_type": "code",
   "execution_count": 5,
   "id": "a411e44f",
   "metadata": {
    "execution": {
     "iopub.execute_input": "2022-05-18T10:11:33.059160Z",
     "iopub.status.busy": "2022-05-18T10:11:33.048338Z",
     "iopub.status.idle": "2022-05-18T10:11:33.613455Z",
     "shell.execute_reply": "2022-05-18T10:11:33.612930Z"
    },
    "papermill": {
     "duration": 0.592987,
     "end_time": "2022-05-18T10:11:33.613592",
     "exception": false,
     "start_time": "2022-05-18T10:11:33.020605",
     "status": "completed"
    },
    "tags": []
   },
   "outputs": [],
   "source": [
    "train_images = mnist.train_images()\n",
    "train_labels = mnist.train_labels()"
   ]
  },
  {
   "cell_type": "code",
   "execution_count": 6,
   "id": "dceab3a5",
   "metadata": {
    "execution": {
     "iopub.execute_input": "2022-05-18T10:11:33.678219Z",
     "iopub.status.busy": "2022-05-18T10:11:33.677697Z",
     "iopub.status.idle": "2022-05-18T10:11:33.687678Z",
     "shell.execute_reply": "2022-05-18T10:11:33.686983Z"
    },
    "papermill": {
     "duration": 0.048618,
     "end_time": "2022-05-18T10:11:33.687792",
     "exception": false,
     "start_time": "2022-05-18T10:11:33.639174",
     "status": "completed"
    },
    "tags": []
   },
   "outputs": [
    {
     "data": {
      "text/plain": [
       "((60000, 28, 28), (60000,))"
      ]
     },
     "execution_count": 6,
     "metadata": {},
     "output_type": "execute_result"
    }
   ],
   "source": [
    "train_images.shape, train_labels.shape"
   ]
  },
  {
   "cell_type": "code",
   "execution_count": 7,
   "id": "f50dc2bb",
   "metadata": {
    "execution": {
     "iopub.execute_input": "2022-05-18T10:11:33.742063Z",
     "iopub.status.busy": "2022-05-18T10:11:33.741546Z",
     "iopub.status.idle": "2022-05-18T10:11:33.914810Z",
     "shell.execute_reply": "2022-05-18T10:11:33.914324Z"
    },
    "papermill": {
     "duration": 0.202217,
     "end_time": "2022-05-18T10:11:33.914937",
     "exception": false,
     "start_time": "2022-05-18T10:11:33.712720",
     "status": "completed"
    },
    "tags": []
   },
   "outputs": [],
   "source": [
    "test_images = mnist.test_images()\n",
    "test_labels = mnist.test_labels()"
   ]
  },
  {
   "cell_type": "code",
   "execution_count": 8,
   "id": "fc38cf1b",
   "metadata": {
    "execution": {
     "iopub.execute_input": "2022-05-18T10:11:33.969167Z",
     "iopub.status.busy": "2022-05-18T10:11:33.968606Z",
     "iopub.status.idle": "2022-05-18T10:11:33.982176Z",
     "shell.execute_reply": "2022-05-18T10:11:33.981763Z"
    },
    "papermill": {
     "duration": 0.041928,
     "end_time": "2022-05-18T10:11:33.982288",
     "exception": false,
     "start_time": "2022-05-18T10:11:33.940360",
     "status": "completed"
    },
    "tags": []
   },
   "outputs": [
    {
     "data": {
      "text/plain": [
       "((10000, 28, 28), (10000,))"
      ]
     },
     "execution_count": 8,
     "metadata": {},
     "output_type": "execute_result"
    }
   ],
   "source": [
    "test_images.shape, test_labels.shape"
   ]
  },
  {
   "cell_type": "code",
   "execution_count": 9,
   "id": "f9ed8fe0",
   "metadata": {
    "execution": {
     "iopub.execute_input": "2022-05-18T10:11:34.046021Z",
     "iopub.status.busy": "2022-05-18T10:11:34.045503Z",
     "iopub.status.idle": "2022-05-18T10:11:34.178941Z",
     "shell.execute_reply": "2022-05-18T10:11:34.178500Z"
    },
    "papermill": {
     "duration": 0.171469,
     "end_time": "2022-05-18T10:11:34.179059",
     "exception": false,
     "start_time": "2022-05-18T10:11:34.007590",
     "status": "completed"
    },
    "tags": []
   },
   "outputs": [
    {
     "name": "stdout",
     "output_type": "stream",
     "text": [
      "2\n"
     ]
    },
    {
     "data": {
      "text/plain": [
       "<matplotlib.image.AxesImage at 0x7f53728994e0>"
      ]
     },
     "execution_count": 9,
     "metadata": {},
     "output_type": "execute_result"
    },
    {
     "data": {
      "image/png": "[encoded data removed]",
      "text/plain": [
       "<Figure size 432x288 with 1 Axes>"
      ]
     },
     "metadata": {
      "needs_background": "light"
     },
     "output_type": "display_data"
    }
   ],
   "source": [
    "image_index = 7776 # You may select anything up to 60,000\n",
    "print(train_labels[image_index]) \n",
    "plt.imshow(train_images[image_index], cmap='Greys')"
   ]
  },
  {
   "cell_type": "markdown",
   "id": "a8d2388d",
   "metadata": {
    "papermill": {
     "duration": 0.026291,
     "end_time": "2022-05-18T10:11:34.232394",
     "exception": false,
     "start_time": "2022-05-18T10:11:34.206103",
     "status": "completed"
    },
    "tags": []
   },
   "source": [
    "## Filter data to get 3 and 8 out"
   ]
  },
  {
   "cell_type": "code",
   "execution_count": 10,
   "id": "776f7fc7",
   "metadata": {
    "execution": {
     "iopub.execute_input": "2022-05-18T10:11:34.289607Z",
     "iopub.status.busy": "2022-05-18T10:11:34.289065Z",
     "iopub.status.idle": "2022-05-18T10:11:34.304217Z",
     "shell.execute_reply": "2022-05-18T10:11:34.304625Z"
    },
    "papermill": {
     "duration": 0.046048,
     "end_time": "2022-05-18T10:11:34.304757",
     "exception": false,
     "start_time": "2022-05-18T10:11:34.258709",
     "status": "completed"
    },
    "tags": []
   },
   "outputs": [],
   "source": [
    "train_filter = np.where((train_labels == 3 ) | (train_labels == 8))\n",
    "test_filter = np.where((test_labels == 3) | (test_labels == 8))\n",
    "X_train, y_train = train_images[train_filter], train_labels[train_filter]\n",
    "X_test, y_test = test_images[test_filter], test_labels[test_filter]"
   ]
  },
  {
   "cell_type": "markdown",
   "id": "948f0b7e",
   "metadata": {
    "papermill": {
     "duration": 0.026365,
     "end_time": "2022-05-18T10:11:34.357584",
     "exception": false,
     "start_time": "2022-05-18T10:11:34.331219",
     "status": "completed"
    },
    "tags": []
   },
   "source": [
    "We normalize the pizel values in the 0 to 1 range"
   ]
  },
  {
   "cell_type": "code",
   "execution_count": 11,
   "id": "ee4c2166",
   "metadata": {
    "execution": {
     "iopub.execute_input": "2022-05-18T10:11:34.417065Z",
     "iopub.status.busy": "2022-05-18T10:11:34.416519Z",
     "iopub.status.idle": "2022-05-18T10:11:34.459560Z",
     "shell.execute_reply": "2022-05-18T10:11:34.459057Z"
    },
    "papermill": {
     "duration": 0.07539,
     "end_time": "2022-05-18T10:11:34.459693",
     "exception": false,
     "start_time": "2022-05-18T10:11:34.384303",
     "status": "completed"
    },
    "tags": []
   },
   "outputs": [],
   "source": [
    "X_train = X_train/255.\n",
    "X_test = X_test/255."
   ]
  },
  {
   "cell_type": "markdown",
   "id": "ddcf4fab",
   "metadata": {
    "papermill": {
     "duration": 0.026362,
     "end_time": "2022-05-18T10:11:34.513168",
     "exception": false,
     "start_time": "2022-05-18T10:11:34.486806",
     "status": "completed"
    },
    "tags": []
   },
   "source": [
    "And setup the labels as 1 (when the digit is 3) and 0 (when the digit is 8)"
   ]
  },
  {
   "cell_type": "code",
   "execution_count": 12,
   "id": "7dc908f2",
   "metadata": {
    "execution": {
     "iopub.execute_input": "2022-05-18T10:11:34.583997Z",
     "iopub.status.busy": "2022-05-18T10:11:34.581634Z",
     "iopub.status.idle": "2022-05-18T10:11:34.586358Z",
     "shell.execute_reply": "2022-05-18T10:11:34.585941Z"
    },
    "papermill": {
     "duration": 0.046903,
     "end_time": "2022-05-18T10:11:34.586469",
     "exception": false,
     "start_time": "2022-05-18T10:11:34.539566",
     "status": "completed"
    },
    "tags": []
   },
   "outputs": [],
   "source": [
    "y_train = 1*(y_train==3)\n",
    "y_test = 1*(y_test==3)"
   ]
  },
  {
   "cell_type": "code",
   "execution_count": 13,
   "id": "01e4e969",
   "metadata": {
    "execution": {
     "iopub.execute_input": "2022-05-18T10:11:34.643498Z",
     "iopub.status.busy": "2022-05-18T10:11:34.642979Z",
     "iopub.status.idle": "2022-05-18T10:11:34.656427Z",
     "shell.execute_reply": "2022-05-18T10:11:34.655992Z"
    },
    "papermill": {
     "duration": 0.043102,
     "end_time": "2022-05-18T10:11:34.656537",
     "exception": false,
     "start_time": "2022-05-18T10:11:34.613435",
     "status": "completed"
    },
    "tags": []
   },
   "outputs": [
    {
     "data": {
      "text/plain": [
       "((11982, 28, 28), (1984, 28, 28))"
      ]
     },
     "execution_count": 13,
     "metadata": {},
     "output_type": "execute_result"
    }
   ],
   "source": [
    "X_train.shape, X_test.shape"
   ]
  },
  {
   "cell_type": "markdown",
   "id": "5ccf3f85",
   "metadata": {
    "papermill": {
     "duration": 0.026628,
     "end_time": "2022-05-18T10:11:34.709955",
     "exception": false,
     "start_time": "2022-05-18T10:11:34.683327",
     "status": "completed"
    },
    "tags": []
   },
   "source": [
    "We reshape the data to flatten the image pixels into a set of features or co-variates:"
   ]
  },
  {
   "cell_type": "code",
   "execution_count": 14,
   "id": "5286a4a3",
   "metadata": {
    "execution": {
     "iopub.execute_input": "2022-05-18T10:11:34.770830Z",
     "iopub.status.busy": "2022-05-18T10:11:34.770306Z",
     "iopub.status.idle": "2022-05-18T10:11:34.782159Z",
     "shell.execute_reply": "2022-05-18T10:11:34.781726Z"
    },
    "papermill": {
     "duration": 0.043952,
     "end_time": "2022-05-18T10:11:34.782267",
     "exception": false,
     "start_time": "2022-05-18T10:11:34.738315",
     "status": "completed"
    },
    "tags": []
   },
   "outputs": [
    {
     "data": {
      "text/plain": [
       "((11982, 784), (1984, 784))"
      ]
     },
     "execution_count": 14,
     "metadata": {},
     "output_type": "execute_result"
    }
   ],
   "source": [
    "X_train = X_train.reshape(X_train.shape[0], -1)\n",
    "X_test = X_test.reshape(X_test.shape[0], -1)\n",
    "X_train.shape, X_test.shape"
   ]
  },
  {
   "cell_type": "code",
   "execution_count": 15,
   "id": "73c5f88a",
   "metadata": {
    "execution": {
     "iopub.execute_input": "2022-05-18T10:11:34.842500Z",
     "iopub.status.busy": "2022-05-18T10:11:34.841984Z",
     "iopub.status.idle": "2022-05-18T10:11:34.858729Z",
     "shell.execute_reply": "2022-05-18T10:11:34.858317Z"
    },
    "papermill": {
     "duration": 0.049692,
     "end_time": "2022-05-18T10:11:34.858839",
     "exception": false,
     "start_time": "2022-05-18T10:11:34.809147",
     "status": "completed"
    },
    "tags": []
   },
   "outputs": [],
   "source": [
    "#Impoting functions from 'Kudzu'\n",
    "from kudzu.model import Model\n",
    "from kudzu.train import Learner\n",
    "from kudzu.optim import GD\n",
    "from kudzu.data import Data, Sampler,Dataloader\n",
    "\n",
    "from kudzu.callbacks import AccCallback\n",
    "from kudzu.callbacks import ClfCallback\n",
    "\n",
    "from kudzu.loss import MSE\n",
    "\n",
    "from kudzu.layer import Sigmoid,Relu\n",
    "from kudzu.layer import Affine"
   ]
  },
  {
   "cell_type": "markdown",
   "id": "bc01172a",
   "metadata": {
    "papermill": {
     "duration": 0.02678,
     "end_time": "2022-05-18T10:11:34.912670",
     "exception": false,
     "start_time": "2022-05-18T10:11:34.885890",
     "status": "completed"
    },
    "tags": []
   },
   "source": [
    "### Let us create a `Config` class, to store important parameters. \n",
    "This class essentially plays the role of a dictionary."
   ]
  },
  {
   "cell_type": "code",
   "execution_count": 16,
   "id": "978281aa",
   "metadata": {
    "execution": {
     "iopub.execute_input": "2022-05-18T10:11:34.970750Z",
     "iopub.status.busy": "2022-05-18T10:11:34.970230Z",
     "iopub.status.idle": "2022-05-18T10:11:34.982092Z",
     "shell.execute_reply": "2022-05-18T10:11:34.981655Z"
    },
    "papermill": {
     "duration": 0.042742,
     "end_time": "2022-05-18T10:11:34.982200",
     "exception": false,
     "start_time": "2022-05-18T10:11:34.939458",
     "status": "completed"
    },
    "tags": []
   },
   "outputs": [],
   "source": [
    "class Config:\n",
    "    pass\n",
    "config = Config()\n",
    "config.lr = 0.001\n",
    "config.num_epochs = 250\n",
    "config.bs = 50"
   ]
  },
  {
   "cell_type": "markdown",
   "id": "1385fa59",
   "metadata": {
    "papermill": {
     "duration": 0.026714,
     "end_time": "2022-05-18T10:11:35.035867",
     "exception": false,
     "start_time": "2022-05-18T10:11:35.009153",
     "status": "completed"
    },
    "tags": []
   },
   "source": [
    "### Running Models with the Training data\n",
    "Details about the network layers:\n",
    "- A first affine layer has 784 inputs and does 100 affine transforms. These are followed by a Relu\n",
    "- A second affine layer has 100 inputs from the 100 activations of the past layer, and does 100 affine transforms. These are followed by a Relu\n",
    "- A third affine layer has 100 activations and does 2 affine transformations to create an embedding for visualization. There is no non-linearity here.\n",
    "- A final \"logistic regression\" which has an affine transform from 2 inputs to 1 output, which is squeezed through a sigmoid.\n"
   ]
  },
  {
   "cell_type": "code",
   "execution_count": 17,
   "id": "2b9c66db",
   "metadata": {
    "execution": {
     "iopub.execute_input": "2022-05-18T10:11:35.093412Z",
     "iopub.status.busy": "2022-05-18T10:11:35.092890Z",
     "iopub.status.idle": "2022-05-18T10:11:35.105275Z",
     "shell.execute_reply": "2022-05-18T10:11:35.104832Z"
    },
    "papermill": {
     "duration": 0.042658,
     "end_time": "2022-05-18T10:11:35.105382",
     "exception": false,
     "start_time": "2022-05-18T10:11:35.062724",
     "status": "completed"
    },
    "tags": []
   },
   "outputs": [],
   "source": [
    "data = Data(X_train, y_train.reshape(-1,1))\n",
    "sampler = Sampler(data, config.bs, shuffle=True)\n",
    "\n",
    "dl = Dataloader(data, sampler)\n",
    "\n",
    "opt = GD(config.lr)\n",
    "loss = MSE()"
   ]
  },
  {
   "cell_type": "code",
   "execution_count": 18,
   "id": "b275e4c2",
   "metadata": {
    "execution": {
     "iopub.execute_input": "2022-05-18T10:11:35.176148Z",
     "iopub.status.busy": "2022-05-18T10:11:35.173144Z",
     "iopub.status.idle": "2022-05-18T10:11:35.178459Z",
     "shell.execute_reply": "2022-05-18T10:11:35.178028Z"
    },
    "papermill": {
     "duration": 0.046388,
     "end_time": "2022-05-18T10:11:35.178567",
     "exception": false,
     "start_time": "2022-05-18T10:11:35.132179",
     "status": "completed"
    },
    "tags": []
   },
   "outputs": [],
   "source": [
    "training_data_x = X_train\n",
    "testing_data_x = X_test\n",
    "training_data_y = y_train.reshape(-1,1)\n",
    "testing_data_y = y_test.reshape(-1,1)"
   ]
  },
  {
   "cell_type": "code",
   "execution_count": 19,
   "id": "76951160",
   "metadata": {
    "execution": {
     "iopub.execute_input": "2022-05-18T10:11:35.236563Z",
     "iopub.status.busy": "2022-05-18T10:11:35.236040Z",
     "iopub.status.idle": "2022-05-18T10:11:35.252030Z",
     "shell.execute_reply": "2022-05-18T10:11:35.251615Z"
    },
    "papermill": {
     "duration": 0.04674,
     "end_time": "2022-05-18T10:11:35.252139",
     "exception": false,
     "start_time": "2022-05-18T10:11:35.205399",
     "status": "completed"
    },
    "tags": []
   },
   "outputs": [
    {
     "name": "stdout",
     "output_type": "stream",
     "text": [
      "xavier\n",
      "xavier\n",
      "xavier\n",
      "xavier\n",
      "xavier\n"
     ]
    }
   ],
   "source": [
    "layers = [Affine(\"first\", 784, 100), Relu(\"first\"), Affine(\"second\", 100, 100), Relu(\"second\"), Affine(\"third\", 100, 2), Affine(\"last\", 2, 1), Sigmoid(\"last\")]\n",
    "model_nn = Model(layers)\n",
    "model_lr = Model([Affine(\"logits\", 784, 1), Sigmoid(\"sigmoid\")])"
   ]
  },
  {
   "cell_type": "code",
   "execution_count": 20,
   "id": "6eede77a",
   "metadata": {
    "execution": {
     "iopub.execute_input": "2022-05-18T10:11:35.314148Z",
     "iopub.status.busy": "2022-05-18T10:11:35.313608Z",
     "iopub.status.idle": "2022-05-18T10:11:35.323472Z",
     "shell.execute_reply": "2022-05-18T10:11:35.323030Z"
    },
    "papermill": {
     "duration": 0.044141,
     "end_time": "2022-05-18T10:11:35.323583",
     "exception": false,
     "start_time": "2022-05-18T10:11:35.279442",
     "status": "completed"
    },
    "tags": []
   },
   "outputs": [],
   "source": [
    "nn_learner = Learner(loss, model_nn, opt, config.num_epochs)\n",
    "acc_nn = ClfCallback(nn_learner, config.bs, training_data_x , testing_data_x, training_data_y, testing_data_y)\n",
    "nn_learner.set_callbacks([acc_nn])"
   ]
  },
  {
   "cell_type": "code",
   "execution_count": 21,
   "id": "877b6cc7",
   "metadata": {
    "execution": {
     "iopub.execute_input": "2022-05-18T10:11:35.384496Z",
     "iopub.status.busy": "2022-05-18T10:11:35.383977Z",
     "iopub.status.idle": "2022-05-18T10:11:35.394837Z",
     "shell.execute_reply": "2022-05-18T10:11:35.394421Z"
    },
    "papermill": {
     "duration": 0.043869,
     "end_time": "2022-05-18T10:11:35.394948",
     "exception": false,
     "start_time": "2022-05-18T10:11:35.351079",
     "status": "completed"
    },
    "tags": []
   },
   "outputs": [],
   "source": [
    "lr_learner = Learner(loss, model_lr, opt, config.num_epochs)\n",
    "acc_lr = ClfCallback(lr_learner, config.bs, training_data_x , testing_data_x, training_data_y, testing_data_y)\n",
    "lr_learner.set_callbacks([acc_lr])"
   ]
  },
  {
   "cell_type": "code",
   "execution_count": 22,
   "id": "d9b133c3",
   "metadata": {
    "execution": {
     "iopub.execute_input": "2022-05-18T10:11:35.453239Z",
     "iopub.status.busy": "2022-05-18T10:11:35.452683Z",
     "iopub.status.idle": "2022-05-18T10:12:49.773418Z",
     "shell.execute_reply": "2022-05-18T10:12:49.774195Z"
    },
    "papermill": {
     "duration": 74.352054,
     "end_time": "2022-05-18T10:12:49.774340",
     "exception": false,
     "start_time": "2022-05-18T10:11:35.422286",
     "status": "completed"
    },
    "tags": []
   },
   "outputs": [
    {
     "name": "stdout",
     "output_type": "stream",
     "text": [
      "Epoch 0, Loss 0.2477\n",
      "Training Accuracy: 0.5829, Testing Accuracy: 0.5912\n",
      "\n"
     ]
    },
    {
     "name": "stdout",
     "output_type": "stream",
     "text": [
      "Epoch 10, Loss 0.2339\n",
      "Training Accuracy: 0.7867, Testing Accuracy: 0.8115\n",
      "\n"
     ]
    },
    {
     "name": "stdout",
     "output_type": "stream",
     "text": [
      "Epoch 20, Loss 0.1645\n",
      "Training Accuracy: 0.8769, Testing Accuracy: 0.8926\n",
      "\n"
     ]
    },
    {
     "name": "stdout",
     "output_type": "stream",
     "text": [
      "Epoch 30, Loss 0.0857\n",
      "Training Accuracy: 0.9124, Testing Accuracy: 0.9204\n",
      "\n"
     ]
    },
    {
     "name": "stdout",
     "output_type": "stream",
     "text": [
      "Epoch 40, Loss 0.0587\n",
      "Training Accuracy: 0.9349, Testing Accuracy: 0.9461\n",
      "\n"
     ]
    },
    {
     "name": "stdout",
     "output_type": "stream",
     "text": [
      "Epoch 50, Loss 0.0465\n",
      "Training Accuracy: 0.9468, Testing Accuracy: 0.9546\n",
      "\n"
     ]
    },
    {
     "name": "stdout",
     "output_type": "stream",
     "text": [
      "Epoch 60, Loss 0.0401\n",
      "Training Accuracy: 0.9539, Testing Accuracy: 0.9617\n",
      "\n"
     ]
    },
    {
     "name": "stdout",
     "output_type": "stream",
     "text": [
      "Epoch 70, Loss 0.0362\n",
      "Training Accuracy: 0.9578, Testing Accuracy: 0.9642\n",
      "\n"
     ]
    },
    {
     "name": "stdout",
     "output_type": "stream",
     "text": [
      "Epoch 80, Loss 0.0337\n",
      "Training Accuracy: 0.9604, Testing Accuracy: 0.9657\n",
      "\n"
     ]
    },
    {
     "name": "stdout",
     "output_type": "stream",
     "text": [
      "Epoch 90, Loss 0.0318\n",
      "Training Accuracy: 0.9625, Testing Accuracy: 0.9682\n",
      "\n"
     ]
    },
    {
     "name": "stdout",
     "output_type": "stream",
     "text": [
      "Epoch 100, Loss 0.0303\n",
      "Training Accuracy: 0.9647, Testing Accuracy: 0.9703\n",
      "\n"
     ]
    },
    {
     "name": "stdout",
     "output_type": "stream",
     "text": [
      "Epoch 110, Loss 0.0291\n",
      "Training Accuracy: 0.9660, Testing Accuracy: 0.9698\n",
      "\n"
     ]
    },
    {
     "name": "stdout",
     "output_type": "stream",
     "text": [
      "Epoch 120, Loss 0.028\n",
      "Training Accuracy: 0.9675, Testing Accuracy: 0.9703\n",
      "\n"
     ]
    },
    {
     "name": "stdout",
     "output_type": "stream",
     "text": [
      "Epoch 130, Loss 0.0272\n",
      "Training Accuracy: 0.9686, Testing Accuracy: 0.9693\n",
      "\n"
     ]
    },
    {
     "name": "stdout",
     "output_type": "stream",
     "text": [
      "Epoch 140, Loss 0.0264\n",
      "Training Accuracy: 0.9694, Testing Accuracy: 0.9688\n",
      "\n"
     ]
    },
    {
     "name": "stdout",
     "output_type": "stream",
     "text": [
      "Epoch 150, Loss 0.0257\n",
      "Training Accuracy: 0.9700, Testing Accuracy: 0.9693\n",
      "\n"
     ]
    },
    {
     "name": "stdout",
     "output_type": "stream",
     "text": [
      "Epoch 160, Loss 0.025\n",
      "Training Accuracy: 0.9705, Testing Accuracy: 0.9693\n",
      "\n"
     ]
    },
    {
     "name": "stdout",
     "output_type": "stream",
     "text": [
      "Epoch 170, Loss 0.0244\n",
      "Training Accuracy: 0.9715, Testing Accuracy: 0.9693\n",
      "\n"
     ]
    },
    {
     "name": "stdout",
     "output_type": "stream",
     "text": [
      "Epoch 180, Loss 0.0239\n",
      "Training Accuracy: 0.9721, Testing Accuracy: 0.9677\n",
      "\n"
     ]
    },
    {
     "name": "stdout",
     "output_type": "stream",
     "text": [
      "Epoch 190, Loss 0.0234\n",
      "Training Accuracy: 0.9725, Testing Accuracy: 0.9693\n",
      "\n"
     ]
    },
    {
     "name": "stdout",
     "output_type": "stream",
     "text": [
      "Epoch 200, Loss 0.0229\n",
      "Training Accuracy: 0.9732, Testing Accuracy: 0.9698\n",
      "\n"
     ]
    },
    {
     "name": "stdout",
     "output_type": "stream",
     "text": [
      "Epoch 210, Loss 0.0224\n",
      "Training Accuracy: 0.9736, Testing Accuracy: 0.9703\n",
      "\n"
     ]
    },
    {
     "name": "stdout",
     "output_type": "stream",
     "text": [
      "Epoch 220, Loss 0.022\n",
      "Training Accuracy: 0.9739, Testing Accuracy: 0.9703\n",
      "\n"
     ]
    },
    {
     "name": "stdout",
     "output_type": "stream",
     "text": [
      "Epoch 230, Loss 0.0215\n",
      "Training Accuracy: 0.9745, Testing Accuracy: 0.9708\n",
      "\n"
     ]
    },
    {
     "name": "stdout",
     "output_type": "stream",
     "text": [
      "Epoch 240, Loss 0.0211\n",
      "Training Accuracy: 0.9750, Testing Accuracy: 0.9718\n",
      "\n"
     ]
    },
    {
     "data": {
      "text/plain": [
       "0.05109119853163515"
      ]
     },
     "execution_count": 22,
     "metadata": {},
     "output_type": "execute_result"
    }
   ],
   "source": [
    "nn_learner.train_loop(dl)"
   ]
  },
  {
   "cell_type": "code",
   "execution_count": 23,
   "id": "e0163366",
   "metadata": {
    "execution": {
     "iopub.execute_input": "2022-05-18T10:12:49.851259Z",
     "iopub.status.busy": "2022-05-18T10:12:49.850743Z",
     "iopub.status.idle": "2022-05-18T10:13:03.064555Z",
     "shell.execute_reply": "2022-05-18T10:13:03.065265Z"
    },
    "papermill": {
     "duration": 13.256676,
     "end_time": "2022-05-18T10:13:03.065408",
     "exception": false,
     "start_time": "2022-05-18T10:12:49.808732",
     "status": "completed"
    },
    "tags": []
   },
   "outputs": [
    {
     "name": "stdout",
     "output_type": "stream",
     "text": [
      "Epoch 0, Loss 0.2579\n",
      "Training Accuracy: 0.6430, Testing Accuracy: 0.6431\n",
      "\n"
     ]
    },
    {
     "name": "stdout",
     "output_type": "stream",
     "text": [
      "Epoch 10, Loss 0.1053\n",
      "Training Accuracy: 0.9051, Testing Accuracy: 0.9189\n",
      "\n"
     ]
    },
    {
     "name": "stdout",
     "output_type": "stream",
     "text": [
      "Epoch 20, Loss 0.0806\n",
      "Training Accuracy: 0.9243, Testing Accuracy: 0.9350\n",
      "\n"
     ]
    },
    {
     "name": "stdout",
     "output_type": "stream",
     "text": [
      "Epoch 30, Loss 0.0694\n",
      "Training Accuracy: 0.9325, Testing Accuracy: 0.9430\n",
      "\n"
     ]
    },
    {
     "name": "stdout",
     "output_type": "stream",
     "text": [
      "Epoch 40, Loss 0.0627\n",
      "Training Accuracy: 0.9375, Testing Accuracy: 0.9456\n",
      "\n"
     ]
    },
    {
     "name": "stdout",
     "output_type": "stream",
     "text": [
      "Epoch 50, Loss 0.0581\n",
      "Training Accuracy: 0.9408, Testing Accuracy: 0.9501\n",
      "\n"
     ]
    },
    {
     "name": "stdout",
     "output_type": "stream",
     "text": [
      "Epoch 60, Loss 0.0547\n",
      "Training Accuracy: 0.9434, Testing Accuracy: 0.9531\n",
      "\n"
     ]
    },
    {
     "name": "stdout",
     "output_type": "stream",
     "text": [
      "Epoch 70, Loss 0.0521\n",
      "Training Accuracy: 0.9456, Testing Accuracy: 0.9567\n",
      "\n"
     ]
    },
    {
     "name": "stdout",
     "output_type": "stream",
     "text": [
      "Epoch 80, Loss 0.05\n",
      "Training Accuracy: 0.9477, Testing Accuracy: 0.9587\n",
      "\n"
     ]
    },
    {
     "name": "stdout",
     "output_type": "stream",
     "text": [
      "Epoch 90, Loss 0.0483\n",
      "Training Accuracy: 0.9496, Testing Accuracy: 0.9607\n",
      "\n"
     ]
    },
    {
     "name": "stdout",
     "output_type": "stream",
     "text": [
      "Epoch 100, Loss 0.0468\n",
      "Training Accuracy: 0.9509, Testing Accuracy: 0.9592\n",
      "\n"
     ]
    },
    {
     "name": "stdout",
     "output_type": "stream",
     "text": [
      "Epoch 110, Loss 0.0455\n",
      "Training Accuracy: 0.9523, Testing Accuracy: 0.9592\n",
      "\n"
     ]
    },
    {
     "name": "stdout",
     "output_type": "stream",
     "text": [
      "Epoch 120, Loss 0.0445\n",
      "Training Accuracy: 0.9533, Testing Accuracy: 0.9607\n",
      "\n"
     ]
    },
    {
     "name": "stdout",
     "output_type": "stream",
     "text": [
      "Epoch 130, Loss 0.0435\n",
      "Training Accuracy: 0.9544, Testing Accuracy: 0.9607\n",
      "\n"
     ]
    },
    {
     "name": "stdout",
     "output_type": "stream",
     "text": [
      "Epoch 140, Loss 0.0426\n",
      "Training Accuracy: 0.9553, Testing Accuracy: 0.9617\n",
      "\n"
     ]
    },
    {
     "name": "stdout",
     "output_type": "stream",
     "text": [
      "Epoch 150, Loss 0.0419\n",
      "Training Accuracy: 0.9559, Testing Accuracy: 0.9617\n",
      "\n"
     ]
    },
    {
     "name": "stdout",
     "output_type": "stream",
     "text": [
      "Epoch 160, Loss 0.0412\n",
      "Training Accuracy: 0.9571, Testing Accuracy: 0.9622\n",
      "\n"
     ]
    },
    {
     "name": "stdout",
     "output_type": "stream",
     "text": [
      "Epoch 170, Loss 0.0406\n",
      "Training Accuracy: 0.9578, Testing Accuracy: 0.9627\n",
      "\n"
     ]
    },
    {
     "name": "stdout",
     "output_type": "stream",
     "text": [
      "Epoch 180, Loss 0.04\n",
      "Training Accuracy: 0.9582, Testing Accuracy: 0.9627\n",
      "\n"
     ]
    },
    {
     "name": "stdout",
     "output_type": "stream",
     "text": [
      "Epoch 190, Loss 0.0394\n",
      "Training Accuracy: 0.9584, Testing Accuracy: 0.9632\n",
      "\n"
     ]
    },
    {
     "name": "stdout",
     "output_type": "stream",
     "text": [
      "Epoch 200, Loss 0.039\n",
      "Training Accuracy: 0.9589, Testing Accuracy: 0.9637\n",
      "\n"
     ]
    },
    {
     "name": "stdout",
     "output_type": "stream",
     "text": [
      "Epoch 210, Loss 0.0385\n",
      "Training Accuracy: 0.9589, Testing Accuracy: 0.9642\n",
      "\n"
     ]
    },
    {
     "name": "stdout",
     "output_type": "stream",
     "text": [
      "Epoch 220, Loss 0.0381\n",
      "Training Accuracy: 0.9594, Testing Accuracy: 0.9642\n",
      "\n"
     ]
    },
    {
     "name": "stdout",
     "output_type": "stream",
     "text": [
      "Epoch 230, Loss 0.0377\n",
      "Training Accuracy: 0.9598, Testing Accuracy: 0.9642\n",
      "\n"
     ]
    },
    {
     "name": "stdout",
     "output_type": "stream",
     "text": [
      "Epoch 240, Loss 0.0373\n",
      "Training Accuracy: 0.9600, Testing Accuracy: 0.9642\n",
      "\n"
     ]
    },
    {
     "data": {
      "text/plain": [
       "0.01288688743185138"
      ]
     },
     "execution_count": 23,
     "metadata": {},
     "output_type": "execute_result"
    }
   ],
   "source": [
    "lr_learner.train_loop(dl)"
   ]
  },
  {
   "cell_type": "code",
   "execution_count": 24,
   "id": "ca410940",
   "metadata": {
    "execution": {
     "iopub.execute_input": "2022-05-18T10:13:03.162245Z",
     "iopub.status.busy": "2022-05-18T10:13:03.161675Z",
     "iopub.status.idle": "2022-05-18T10:13:03.391831Z",
     "shell.execute_reply": "2022-05-18T10:13:03.391373Z"
    },
    "papermill": {
     "duration": 0.285403,
     "end_time": "2022-05-18T10:13:03.391947",
     "exception": false,
     "start_time": "2022-05-18T10:13:03.106544",
     "status": "completed"
    },
    "tags": []
   },
   "outputs": [
    {
     "data": {
      "text/plain": [
       "<matplotlib.legend.Legend at 0x7f5365cccc50>"
      ]
     },
     "execution_count": 24,
     "metadata": {},
     "output_type": "execute_result"
    },
    {
     "data": {
      "image/png": "[encoded data removed]",
      "text/plain": [
       "<Figure size 1080x720 with 1 Axes>"
      ]
     },
     "metadata": {
      "needs_background": "light"
     },
     "output_type": "display_data"
    }
   ],
   "source": [
    "#comparing the results of NN and LR\n",
    "plt.figure(figsize=(15,10))\n",
    "\n",
    "# Neural Network plots\n",
    "plt.plot(acc_nn.accuracies, 'r-', label = \"Training Accuracies - NN\")\n",
    "plt.plot(acc_nn.test_accuracies, 'g-', label = \"Testing Accuracies - NN\")\n",
    "\n",
    "# Logistic Regression plots\n",
    "plt.plot(acc_lr.accuracies, 'k-', label = \"Training Accuracies - LR\")\n",
    "plt.plot(acc_lr.test_accuracies, 'b-', label = \"Testing Accuracies - LR\")\n",
    "plt.legend()"
   ]
  },
  {
   "cell_type": "markdown",
   "id": "80dfb35c",
   "metadata": {
    "papermill": {
     "duration": 0.042118,
     "end_time": "2022-05-18T10:13:03.476453",
     "exception": false,
     "start_time": "2022-05-18T10:13:03.434335",
     "status": "completed"
    },
    "tags": []
   },
   "source": [
    "#### Plotting the outputs of this layer of the NN.\n"
   ]
  },
  {
   "cell_type": "code",
   "execution_count": 25,
   "id": "45eb2ff5",
   "metadata": {
    "execution": {
     "iopub.execute_input": "2022-05-18T10:13:03.566203Z",
     "iopub.status.busy": "2022-05-18T10:13:03.565668Z",
     "iopub.status.idle": "2022-05-18T10:13:03.583692Z",
     "shell.execute_reply": "2022-05-18T10:13:03.584108Z"
    },
    "papermill": {
     "duration": 0.065726,
     "end_time": "2022-05-18T10:13:03.584242",
     "exception": false,
     "start_time": "2022-05-18T10:13:03.518516",
     "status": "completed"
    },
    "tags": []
   },
   "outputs": [],
   "source": [
    "new_model = Model(layers[:-2])\n",
    "testing_plot = new_model(testing_data_x)"
   ]
  },
  {
   "cell_type": "code",
   "execution_count": 26,
   "id": "4c0a5485",
   "metadata": {
    "execution": {
     "iopub.execute_input": "2022-05-18T10:13:03.676536Z",
     "iopub.status.busy": "2022-05-18T10:13:03.673734Z",
     "iopub.status.idle": "2022-05-18T10:13:03.867380Z",
     "shell.execute_reply": "2022-05-18T10:13:03.867830Z"
    },
    "papermill": {
     "duration": 0.241348,
     "end_time": "2022-05-18T10:13:03.867985",
     "exception": false,
     "start_time": "2022-05-18T10:13:03.626637",
     "status": "completed"
    },
    "tags": []
   },
   "outputs": [
    {
     "data": {
      "text/plain": [
       "Text(0.5, 1.0, 'Outputs')"
      ]
     },
     "execution_count": 26,
     "metadata": {},
     "output_type": "execute_result"
    },
    {
     "data": {
      "image/png": "[encoded data removed]",
      "text/plain": [
       "<Figure size 576x504 with 1 Axes>"
      ]
     },
     "metadata": {
      "needs_background": "light"
     },
     "output_type": "display_data"
    }
   ],
   "source": [
    "# Plotting the scatter plot of points and color coding by class\n",
    "plt.figure(figsize=(8,7))\n",
    "plt.scatter(testing_plot[:,0], testing_plot[:,1], alpha = 0.1, c = y_test.ravel());\n",
    "plt.title('Outputs')"
   ]
  },
  {
   "cell_type": "markdown",
   "id": "a74fcf8f",
   "metadata": {
    "papermill": {
     "duration": 0.043506,
     "end_time": "2022-05-18T10:13:03.956119",
     "exception": false,
     "start_time": "2022-05-18T10:13:03.912613",
     "status": "completed"
    },
    "tags": []
   },
   "source": [
    "Probability contours"
   ]
  },
  {
   "cell_type": "code",
   "execution_count": 27,
   "id": "d0afc8e3",
   "metadata": {
    "execution": {
     "iopub.execute_input": "2022-05-18T10:13:04.047788Z",
     "iopub.status.busy": "2022-05-18T10:13:04.047263Z",
     "iopub.status.idle": "2022-05-18T10:13:04.059806Z",
     "shell.execute_reply": "2022-05-18T10:13:04.059363Z"
    },
    "papermill": {
     "duration": 0.059416,
     "end_time": "2022-05-18T10:13:04.059917",
     "exception": false,
     "start_time": "2022-05-18T10:13:04.000501",
     "status": "completed"
    },
    "tags": []
   },
   "outputs": [],
   "source": [
    "model_prob = Model(layers[-2:]) "
   ]
  },
  {
   "cell_type": "code",
   "execution_count": 28,
   "id": "9b96e238",
   "metadata": {
    "execution": {
     "iopub.execute_input": "2022-05-18T10:13:04.177583Z",
     "iopub.status.busy": "2022-05-18T10:13:04.177061Z",
     "iopub.status.idle": "2022-05-18T10:13:04.189627Z",
     "shell.execute_reply": "2022-05-18T10:13:04.190018Z"
    },
    "papermill": {
     "duration": 0.060858,
     "end_time": "2022-05-18T10:13:04.190142",
     "exception": false,
     "start_time": "2022-05-18T10:13:04.129284",
     "status": "completed"
    },
    "tags": []
   },
   "outputs": [],
   "source": [
    "#creating the x and y ranges according to the above generated plot.\n",
    "x_range = np.linspace(-4, 1, 100) \n",
    "y_range = np.linspace(-6, 6, 100) \n",
    "x_grid, y_grid = np.meshgrid(x_range, y_range) # x_grid and y_grig are of size 100 X 100\n",
    "\n",
    "# converting x_grid and y_grid to continuous arrays\n",
    "x_gridflat = np.ravel(x_grid)\n",
    "y_gridflat = np.ravel(y_grid)\n",
    "\n",
    "# The last layer of the current model takes two columns as input. Hence transpose of np.vstack() is required.\n",
    "X = np.vstack((x_gridflat, y_gridflat)).T\n",
    "\n",
    "prob_contour = model_prob(X).reshape(100,100) "
   ]
  },
  {
   "cell_type": "code",
   "execution_count": 29,
   "id": "da72499a",
   "metadata": {
    "execution": {
     "iopub.execute_input": "2022-05-18T10:13:04.286442Z",
     "iopub.status.busy": "2022-05-18T10:13:04.285927Z",
     "iopub.status.idle": "2022-05-18T10:13:04.527709Z",
     "shell.execute_reply": "2022-05-18T10:13:04.527126Z"
    },
    "papermill": {
     "duration": 0.293338,
     "end_time": "2022-05-18T10:13:04.527840",
     "exception": false,
     "start_time": "2022-05-18T10:13:04.234502",
     "status": "completed"
    },
    "tags": []
   },
   "outputs": [
    {
     "data": {
      "image/png": "[encoded data removed]",
      "text/plain": [
       "<Figure size 720x648 with 1 Axes>"
      ]
     },
     "metadata": {
      "needs_background": "light"
     },
     "output_type": "display_data"
    }
   ],
   "source": [
    "plt.figure(figsize=(10,9))\n",
    "plt.scatter(testing_plot[:,0], testing_plot[:,1], alpha = 0.1, c = y_test.ravel())\n",
    "contours = plt.contour(x_grid,y_grid,prob_contour)\n",
    "plt.title('Probability Contours')\n",
    "plt.clabel(contours, inline = True );"
   ]
  },
  {
   "cell_type": "code",
   "execution_count": null,
   "id": "e81b4ac7",
   "metadata": {
    "papermill": {
     "duration": 0.046457,
     "end_time": "2022-05-18T10:13:04.621607",
     "exception": false,
     "start_time": "2022-05-18T10:13:04.575150",
     "status": "completed"
    },
    "tags": []
   },
   "outputs": [],
   "source": []
  }
 ],
 "metadata": {
  "kernelspec": {
   "display_name": "Python 3",
   "language": "python",
   "name": "python3"
  },
  "language_info": {
   "codemirror_mode": {
    "name": "ipython",
    "version": 3
   },
   "file_extension": ".py",
   "mimetype": "text/x-python",
   "name": "python",
   "nbconvert_exporter": "python",
   "pygments_lexer": "ipython3",
   "version": "3.6.15"
  },
  "papermill": {
   "default_parameters": {},
   "duration": 95.77289,
   "end_time": "2022-05-18T10:13:05.086612",
   "environment_variables": {},
   "exception": null,
   "input_path": "2020-08-11-part2.ipynb",
   "output_path": "2020-08-11-part2.ipynb",
   "parameters": {},
   "start_time": "2022-05-18T10:11:29.313722",
   "version": "2.3.3"
  }
 },
 "nbformat": 4,
 "nbformat_minor": 5
}