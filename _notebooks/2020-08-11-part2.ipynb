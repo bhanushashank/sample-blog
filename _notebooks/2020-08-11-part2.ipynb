{
 "cells": [
  {
   "cell_type": "markdown",
   "id": "98380cd3",
   "metadata": {
    "papermill": {
     "duration": 0.032992,
     "end_time": "2022-09-15T10:11:27.132034",
     "exception": false,
     "start_time": "2022-09-15T10:11:27.099042",
     "status": "completed"
    },
    "tags": []
   },
   "source": [
    "# Distinguish Your Own Digits (DYOD)"
   ]
  },
  {
   "cell_type": "markdown",
   "id": "ef31240d",
   "metadata": {
    "papermill": {
     "duration": 0.027082,
     "end_time": "2022-09-15T10:11:27.186514",
     "exception": false,
     "start_time": "2022-09-15T10:11:27.159432",
     "status": "completed"
    },
    "tags": []
   },
   "source": [
    "You are going to write a classifier that distinguishes between the number 3 and number 8."
   ]
  },
  {
   "cell_type": "code",
   "execution_count": 1,
   "id": "b15c8646",
   "metadata": {
    "execution": {
     "iopub.execute_input": "2022-09-15T10:11:27.256975Z",
     "iopub.status.busy": "2022-09-15T10:11:27.256296Z",
     "iopub.status.idle": "2022-09-15T10:11:27.269115Z",
     "shell.execute_reply": "2022-09-15T10:11:27.268540Z"
    },
    "papermill": {
     "duration": 0.056363,
     "end_time": "2022-09-15T10:11:27.269257",
     "exception": false,
     "start_time": "2022-09-15T10:11:27.212894",
     "status": "completed"
    },
    "tags": []
   },
   "outputs": [],
   "source": [
    "%load_ext autoreload\n",
    "%autoreload 2"
   ]
  },
  {
   "cell_type": "code",
   "execution_count": 2,
   "id": "22ef38dc",
   "metadata": {
    "execution": {
     "iopub.execute_input": "2022-09-15T10:11:27.329438Z",
     "iopub.status.busy": "2022-09-15T10:11:27.328714Z",
     "iopub.status.idle": "2022-09-15T10:11:27.959313Z",
     "shell.execute_reply": "2022-09-15T10:11:27.958293Z"
    },
    "papermill": {
     "duration": 0.662279,
     "end_time": "2022-09-15T10:11:27.959513",
     "exception": false,
     "start_time": "2022-09-15T10:11:27.297234",
     "status": "completed"
    },
    "tags": []
   },
   "outputs": [],
   "source": [
    "%matplotlib inline\n",
    "import numpy as np\n",
    "import matplotlib.pyplot as plt\n",
    "import pandas as pd"
   ]
  },
  {
   "cell_type": "markdown",
   "id": "ba036198",
   "metadata": {
    "papermill": {
     "duration": 0.027137,
     "end_time": "2022-09-15T10:11:28.016483",
     "exception": false,
     "start_time": "2022-09-15T10:11:27.989346",
     "status": "completed"
    },
    "tags": []
   },
   "source": [
    "From the command line run `pip install mnist`. This is a library that will help you bring down the mnist dataset. If you run this from a notebook, you need to put  `!pip install mnist` in a cell by itself."
   ]
  },
  {
   "cell_type": "code",
   "execution_count": 3,
   "id": "bb6ad8a1",
   "metadata": {
    "execution": {
     "iopub.execute_input": "2022-09-15T10:11:28.078431Z",
     "iopub.status.busy": "2022-09-15T10:11:28.077168Z",
     "iopub.status.idle": "2022-09-15T10:11:29.936831Z",
     "shell.execute_reply": "2022-09-15T10:11:29.935848Z"
    },
    "papermill": {
     "duration": 1.893679,
     "end_time": "2022-09-15T10:11:29.937040",
     "exception": false,
     "start_time": "2022-09-15T10:11:28.043361",
     "status": "completed"
    },
    "tags": []
   },
   "outputs": [
    {
     "name": "stdout",
     "output_type": "stream",
     "text": [
      "Collecting mnist\r\n"
     ]
    },
    {
     "name": "stdout",
     "output_type": "stream",
     "text": [
      "  Downloading mnist-0.2.2-py2.py3-none-any.whl (3.5 kB)\r\n",
      "Requirement already satisfied: numpy in /opt/hostedtoolcache/Python/3.6.15/x64/lib/python3.6/site-packages (from mnist) (1.19.5)\r\n"
     ]
    },
    {
     "name": "stdout",
     "output_type": "stream",
     "text": [
      "Installing collected packages: mnist\r\n"
     ]
    },
    {
     "name": "stdout",
     "output_type": "stream",
     "text": [
      "Successfully installed mnist-0.2.2\r\n"
     ]
    }
   ],
   "source": [
    "!pip install mnist"
   ]
  },
  {
   "cell_type": "markdown",
   "id": "69df9c9a",
   "metadata": {
    "papermill": {
     "duration": 0.027773,
     "end_time": "2022-09-15T10:11:29.992939",
     "exception": false,
     "start_time": "2022-09-15T10:11:29.965166",
     "status": "completed"
    },
    "tags": []
   },
   "source": [
    "## Preparing the Data"
   ]
  },
  {
   "cell_type": "code",
   "execution_count": 4,
   "id": "7f69d806",
   "metadata": {
    "execution": {
     "iopub.execute_input": "2022-09-15T10:11:30.053829Z",
     "iopub.status.busy": "2022-09-15T10:11:30.053155Z",
     "iopub.status.idle": "2022-09-15T10:11:30.070536Z",
     "shell.execute_reply": "2022-09-15T10:11:30.069911Z"
    },
    "papermill": {
     "duration": 0.049953,
     "end_time": "2022-09-15T10:11:30.070675",
     "exception": false,
     "start_time": "2022-09-15T10:11:30.020722",
     "status": "completed"
    },
    "tags": []
   },
   "outputs": [],
   "source": [
    "import mnist"
   ]
  },
  {
   "cell_type": "code",
   "execution_count": 5,
   "id": "a411e44f",
   "metadata": {
    "execution": {
     "iopub.execute_input": "2022-09-15T10:11:30.140217Z",
     "iopub.status.busy": "2022-09-15T10:11:30.139524Z",
     "iopub.status.idle": "2022-09-15T10:11:30.955094Z",
     "shell.execute_reply": "2022-09-15T10:11:30.953528Z"
    },
    "papermill": {
     "duration": 0.854756,
     "end_time": "2022-09-15T10:11:30.955252",
     "exception": false,
     "start_time": "2022-09-15T10:11:30.100496",
     "status": "completed"
    },
    "tags": []
   },
   "outputs": [],
   "source": [
    "train_images = mnist.train_images()\n",
    "train_labels = mnist.train_labels()"
   ]
  },
  {
   "cell_type": "code",
   "execution_count": 6,
   "id": "dceab3a5",
   "metadata": {
    "execution": {
     "iopub.execute_input": "2022-09-15T10:11:31.017312Z",
     "iopub.status.busy": "2022-09-15T10:11:31.016622Z",
     "iopub.status.idle": "2022-09-15T10:11:31.033892Z",
     "shell.execute_reply": "2022-09-15T10:11:31.033219Z"
    },
    "papermill": {
     "duration": 0.050297,
     "end_time": "2022-09-15T10:11:31.034025",
     "exception": false,
     "start_time": "2022-09-15T10:11:30.983728",
     "status": "completed"
    },
    "tags": []
   },
   "outputs": [
    {
     "data": {
      "text/plain": [
       "((60000, 28, 28), (60000,))"
      ]
     },
     "execution_count": 6,
     "metadata": {},
     "output_type": "execute_result"
    }
   ],
   "source": [
    "train_images.shape, train_labels.shape"
   ]
  },
  {
   "cell_type": "code",
   "execution_count": 7,
   "id": "f50dc2bb",
   "metadata": {
    "execution": {
     "iopub.execute_input": "2022-09-15T10:11:31.097300Z",
     "iopub.status.busy": "2022-09-15T10:11:31.096624Z",
     "iopub.status.idle": "2022-09-15T10:11:31.271439Z",
     "shell.execute_reply": "2022-09-15T10:11:31.270813Z"
    },
    "papermill": {
     "duration": 0.2086,
     "end_time": "2022-09-15T10:11:31.271583",
     "exception": false,
     "start_time": "2022-09-15T10:11:31.062983",
     "status": "completed"
    },
    "tags": []
   },
   "outputs": [],
   "source": [
    "test_images = mnist.test_images()\n",
    "test_labels = mnist.test_labels()"
   ]
  },
  {
   "cell_type": "code",
   "execution_count": 8,
   "id": "fc38cf1b",
   "metadata": {
    "execution": {
     "iopub.execute_input": "2022-09-15T10:11:31.335058Z",
     "iopub.status.busy": "2022-09-15T10:11:31.334355Z",
     "iopub.status.idle": "2022-09-15T10:11:31.353020Z",
     "shell.execute_reply": "2022-09-15T10:11:31.352464Z"
    },
    "papermill": {
     "duration": 0.052339,
     "end_time": "2022-09-15T10:11:31.353151",
     "exception": false,
     "start_time": "2022-09-15T10:11:31.300812",
     "status": "completed"
    },
    "tags": []
   },
   "outputs": [
    {
     "data": {
      "text/plain": [
       "((10000, 28, 28), (10000,))"
      ]
     },
     "execution_count": 8,
     "metadata": {},
     "output_type": "execute_result"
    }
   ],
   "source": [
    "test_images.shape, test_labels.shape"
   ]
  },
  {
   "cell_type": "code",
   "execution_count": 9,
   "id": "f9ed8fe0",
   "metadata": {
    "execution": {
     "iopub.execute_input": "2022-09-15T10:11:31.422294Z",
     "iopub.status.busy": "2022-09-15T10:11:31.421543Z",
     "iopub.status.idle": "2022-09-15T10:11:31.583801Z",
     "shell.execute_reply": "2022-09-15T10:11:31.583222Z"
    },
    "papermill": {
     "duration": 0.201694,
     "end_time": "2022-09-15T10:11:31.583939",
     "exception": false,
     "start_time": "2022-09-15T10:11:31.382245",
     "status": "completed"
    },
    "tags": []
   },
   "outputs": [
    {
     "name": "stdout",
     "output_type": "stream",
     "text": [
      "2\n"
     ]
    },
    {
     "data": {
      "text/plain": [
       "<matplotlib.image.AxesImage at 0x7fb2261c6c88>"
      ]
     },
     "execution_count": 9,
     "metadata": {},
     "output_type": "execute_result"
    },
    {
     "data": {
      "image/png": "[encoded data removed]",
      "text/plain": [
       "<Figure size 432x288 with 1 Axes>"
      ]
     },
     "metadata": {
      "needs_background": "light"
     },
     "output_type": "display_data"
    }
   ],
   "source": [
    "image_index = 7776 # You may select anything up to 60,000\n",
    "print(train_labels[image_index]) \n",
    "plt.imshow(train_images[image_index], cmap='Greys')"
   ]
  },
  {
   "cell_type": "markdown",
   "id": "a8d2388d",
   "metadata": {
    "papermill": {
     "duration": 0.030686,
     "end_time": "2022-09-15T10:11:31.644719",
     "exception": false,
     "start_time": "2022-09-15T10:11:31.614033",
     "status": "completed"
    },
    "tags": []
   },
   "source": [
    "## Filter data to get 3 and 8 out"
   ]
  },
  {
   "cell_type": "code",
   "execution_count": 10,
   "id": "776f7fc7",
   "metadata": {
    "execution": {
     "iopub.execute_input": "2022-09-15T10:11:31.711187Z",
     "iopub.status.busy": "2022-09-15T10:11:31.710446Z",
     "iopub.status.idle": "2022-09-15T10:11:31.738009Z",
     "shell.execute_reply": "2022-09-15T10:11:31.737193Z"
    },
    "papermill": {
     "duration": 0.063101,
     "end_time": "2022-09-15T10:11:31.738223",
     "exception": false,
     "start_time": "2022-09-15T10:11:31.675122",
     "status": "completed"
    },
    "tags": []
   },
   "outputs": [],
   "source": [
    "train_filter = np.where((train_labels == 3 ) | (train_labels == 8))\n",
    "test_filter = np.where((test_labels == 3) | (test_labels == 8))\n",
    "X_train, y_train = train_images[train_filter], train_labels[train_filter]\n",
    "X_test, y_test = test_images[test_filter], test_labels[test_filter]"
   ]
  },
  {
   "cell_type": "markdown",
   "id": "948f0b7e",
   "metadata": {
    "papermill": {
     "duration": 0.030855,
     "end_time": "2022-09-15T10:11:31.799706",
     "exception": false,
     "start_time": "2022-09-15T10:11:31.768851",
     "status": "completed"
    },
    "tags": []
   },
   "source": [
    "We normalize the pizel values in the 0 to 1 range"
   ]
  },
  {
   "cell_type": "code",
   "execution_count": 11,
   "id": "ee4c2166",
   "metadata": {
    "execution": {
     "iopub.execute_input": "2022-09-15T10:11:31.865954Z",
     "iopub.status.busy": "2022-09-15T10:11:31.865254Z",
     "iopub.status.idle": "2022-09-15T10:11:31.926455Z",
     "shell.execute_reply": "2022-09-15T10:11:31.927736Z"
    },
    "papermill": {
     "duration": 0.09804,
     "end_time": "2022-09-15T10:11:31.928021",
     "exception": false,
     "start_time": "2022-09-15T10:11:31.829981",
     "status": "completed"
    },
    "tags": []
   },
   "outputs": [],
   "source": [
    "X_train = X_train/255.\n",
    "X_test = X_test/255."
   ]
  },
  {
   "cell_type": "markdown",
   "id": "ddcf4fab",
   "metadata": {
    "papermill": {
     "duration": 0.030497,
     "end_time": "2022-09-15T10:11:31.990794",
     "exception": false,
     "start_time": "2022-09-15T10:11:31.960297",
     "status": "completed"
    },
    "tags": []
   },
   "source": [
    "And setup the labels as 1 (when the digit is 3) and 0 (when the digit is 8)"
   ]
  },
  {
   "cell_type": "code",
   "execution_count": 12,
   "id": "7dc908f2",
   "metadata": {
    "execution": {
     "iopub.execute_input": "2022-09-15T10:11:32.055539Z",
     "iopub.status.busy": "2022-09-15T10:11:32.054856Z",
     "iopub.status.idle": "2022-09-15T10:11:32.068824Z",
     "shell.execute_reply": "2022-09-15T10:11:32.069365Z"
    },
    "papermill": {
     "duration": 0.048657,
     "end_time": "2022-09-15T10:11:32.069528",
     "exception": false,
     "start_time": "2022-09-15T10:11:32.020871",
     "status": "completed"
    },
    "tags": []
   },
   "outputs": [],
   "source": [
    "y_train = 1*(y_train==3)\n",
    "y_test = 1*(y_test==3)"
   ]
  },
  {
   "cell_type": "code",
   "execution_count": 13,
   "id": "01e4e969",
   "metadata": {
    "execution": {
     "iopub.execute_input": "2022-09-15T10:11:32.136540Z",
     "iopub.status.busy": "2022-09-15T10:11:32.135851Z",
     "iopub.status.idle": "2022-09-15T10:11:32.151256Z",
     "shell.execute_reply": "2022-09-15T10:11:32.150696Z"
    },
    "papermill": {
     "duration": 0.051424,
     "end_time": "2022-09-15T10:11:32.151390",
     "exception": false,
     "start_time": "2022-09-15T10:11:32.099966",
     "status": "completed"
    },
    "tags": []
   },
   "outputs": [
    {
     "data": {
      "text/plain": [
       "((11982, 28, 28), (1984, 28, 28))"
      ]
     },
     "execution_count": 13,
     "metadata": {},
     "output_type": "execute_result"
    }
   ],
   "source": [
    "X_train.shape, X_test.shape"
   ]
  },
  {
   "cell_type": "markdown",
   "id": "5ccf3f85",
   "metadata": {
    "papermill": {
     "duration": 0.030365,
     "end_time": "2022-09-15T10:11:32.212326",
     "exception": false,
     "start_time": "2022-09-15T10:11:32.181961",
     "status": "completed"
    },
    "tags": []
   },
   "source": [
    "We reshape the data to flatten the image pixels into a set of features or co-variates:"
   ]
  },
  {
   "cell_type": "code",
   "execution_count": 14,
   "id": "5286a4a3",
   "metadata": {
    "execution": {
     "iopub.execute_input": "2022-09-15T10:11:32.279007Z",
     "iopub.status.busy": "2022-09-15T10:11:32.278317Z",
     "iopub.status.idle": "2022-09-15T10:11:32.294745Z",
     "shell.execute_reply": "2022-09-15T10:11:32.295271Z"
    },
    "papermill": {
     "duration": 0.05233,
     "end_time": "2022-09-15T10:11:32.295424",
     "exception": false,
     "start_time": "2022-09-15T10:11:32.243094",
     "status": "completed"
    },
    "tags": []
   },
   "outputs": [
    {
     "data": {
      "text/plain": [
       "((11982, 784), (1984, 784))"
      ]
     },
     "execution_count": 14,
     "metadata": {},
     "output_type": "execute_result"
    }
   ],
   "source": [
    "X_train = X_train.reshape(X_train.shape[0], -1)\n",
    "X_test = X_test.reshape(X_test.shape[0], -1)\n",
    "X_train.shape, X_test.shape"
   ]
  },
  {
   "cell_type": "code",
   "execution_count": 15,
   "id": "73c5f88a",
   "metadata": {
    "execution": {
     "iopub.execute_input": "2022-09-15T10:11:32.361585Z",
     "iopub.status.busy": "2022-09-15T10:11:32.360875Z",
     "iopub.status.idle": "2022-09-15T10:11:32.384025Z",
     "shell.execute_reply": "2022-09-15T10:11:32.384729Z"
    },
    "papermill": {
     "duration": 0.059818,
     "end_time": "2022-09-15T10:11:32.384937",
     "exception": false,
     "start_time": "2022-09-15T10:11:32.325119",
     "status": "completed"
    },
    "tags": []
   },
   "outputs": [],
   "source": [
    "#Impoting functions from 'Kudzu'\n",
    "from kudzu.model import Model\n",
    "from kudzu.train import Learner\n",
    "from kudzu.optim import GD\n",
    "from kudzu.data import Data, Sampler,Dataloader\n",
    "\n",
    "from kudzu.callbacks import AccCallback\n",
    "from kudzu.callbacks import ClfCallback\n",
    "\n",
    "from kudzu.loss import MSE\n",
    "\n",
    "from kudzu.layer import Sigmoid,Relu\n",
    "from kudzu.layer import Affine"
   ]
  },
  {
   "cell_type": "markdown",
   "id": "bc01172a",
   "metadata": {
    "papermill": {
     "duration": 0.02979,
     "end_time": "2022-09-15T10:11:32.446076",
     "exception": false,
     "start_time": "2022-09-15T10:11:32.416286",
     "status": "completed"
    },
    "tags": []
   },
   "source": [
    "### Let us create a `Config` class, to store important parameters. \n",
    "This class essentially plays the role of a dictionary."
   ]
  },
  {
   "cell_type": "code",
   "execution_count": 16,
   "id": "978281aa",
   "metadata": {
    "execution": {
     "iopub.execute_input": "2022-09-15T10:11:32.512709Z",
     "iopub.status.busy": "2022-09-15T10:11:32.512014Z",
     "iopub.status.idle": "2022-09-15T10:11:32.525882Z",
     "shell.execute_reply": "2022-09-15T10:11:32.525384Z"
    },
    "papermill": {
     "duration": 0.049562,
     "end_time": "2022-09-15T10:11:32.526005",
     "exception": false,
     "start_time": "2022-09-15T10:11:32.476443",
     "status": "completed"
    },
    "tags": []
   },
   "outputs": [],
   "source": [
    "class Config:\n",
    "    pass\n",
    "config = Config()\n",
    "config.lr = 0.001\n",
    "config.num_epochs = 250\n",
    "config.bs = 50"
   ]
  },
  {
   "cell_type": "markdown",
   "id": "1385fa59",
   "metadata": {
    "papermill": {
     "duration": 0.029864,
     "end_time": "2022-09-15T10:11:32.585421",
     "exception": false,
     "start_time": "2022-09-15T10:11:32.555557",
     "status": "completed"
    },
    "tags": []
   },
   "source": [
    "### Running Models with the Training data\n",
    "Details about the network layers:\n",
    "- A first affine layer has 784 inputs and does 100 affine transforms. These are followed by a Relu\n",
    "- A second affine layer has 100 inputs from the 100 activations of the past layer, and does 100 affine transforms. These are followed by a Relu\n",
    "- A third affine layer has 100 activations and does 2 affine transformations to create an embedding for visualization. There is no non-linearity here.\n",
    "- A final \"logistic regression\" which has an affine transform from 2 inputs to 1 output, which is squeezed through a sigmoid.\n"
   ]
  },
  {
   "cell_type": "code",
   "execution_count": 17,
   "id": "2b9c66db",
   "metadata": {
    "execution": {
     "iopub.execute_input": "2022-09-15T10:11:32.652719Z",
     "iopub.status.busy": "2022-09-15T10:11:32.652019Z",
     "iopub.status.idle": "2022-09-15T10:11:32.666593Z",
     "shell.execute_reply": "2022-09-15T10:11:32.667131Z"
    },
    "papermill": {
     "duration": 0.051246,
     "end_time": "2022-09-15T10:11:32.667286",
     "exception": false,
     "start_time": "2022-09-15T10:11:32.616040",
     "status": "completed"
    },
    "tags": []
   },
   "outputs": [],
   "source": [
    "data = Data(X_train, y_train.reshape(-1,1))\n",
    "sampler = Sampler(data, config.bs, shuffle=True)\n",
    "\n",
    "dl = Dataloader(data, sampler)\n",
    "\n",
    "opt = GD(config.lr)\n",
    "loss = MSE()"
   ]
  },
  {
   "cell_type": "code",
   "execution_count": 18,
   "id": "b275e4c2",
   "metadata": {
    "execution": {
     "iopub.execute_input": "2022-09-15T10:11:32.735554Z",
     "iopub.status.busy": "2022-09-15T10:11:32.734782Z",
     "iopub.status.idle": "2022-09-15T10:11:32.749522Z",
     "shell.execute_reply": "2022-09-15T10:11:32.748815Z"
    },
    "papermill": {
     "duration": 0.051945,
     "end_time": "2022-09-15T10:11:32.749650",
     "exception": false,
     "start_time": "2022-09-15T10:11:32.697705",
     "status": "completed"
    },
    "tags": []
   },
   "outputs": [],
   "source": [
    "training_data_x = X_train\n",
    "testing_data_x = X_test\n",
    "training_data_y = y_train.reshape(-1,1)\n",
    "testing_data_y = y_test.reshape(-1,1)"
   ]
  },
  {
   "cell_type": "code",
   "execution_count": 19,
   "id": "76951160",
   "metadata": {
    "execution": {
     "iopub.execute_input": "2022-09-15T10:11:32.821954Z",
     "iopub.status.busy": "2022-09-15T10:11:32.821347Z",
     "iopub.status.idle": "2022-09-15T10:11:32.841118Z",
     "shell.execute_reply": "2022-09-15T10:11:32.840560Z"
    },
    "papermill": {
     "duration": 0.055845,
     "end_time": "2022-09-15T10:11:32.841249",
     "exception": false,
     "start_time": "2022-09-15T10:11:32.785404",
     "status": "completed"
    },
    "tags": []
   },
   "outputs": [
    {
     "name": "stdout",
     "output_type": "stream",
     "text": [
      "xavier\n",
      "xavier\n",
      "xavier\n",
      "xavier\n",
      "xavier\n"
     ]
    }
   ],
   "source": [
    "layers = [Affine(\"first\", 784, 100), Relu(\"first\"), Affine(\"second\", 100, 100), Relu(\"second\"), Affine(\"third\", 100, 2), Affine(\"last\", 2, 1), Sigmoid(\"last\")]\n",
    "model_nn = Model(layers)\n",
    "model_lr = Model([Affine(\"logits\", 784, 1), Sigmoid(\"sigmoid\")])"
   ]
  },
  {
   "cell_type": "code",
   "execution_count": 20,
   "id": "6eede77a",
   "metadata": {
    "execution": {
     "iopub.execute_input": "2022-09-15T10:11:32.910750Z",
     "iopub.status.busy": "2022-09-15T10:11:32.909865Z",
     "iopub.status.idle": "2022-09-15T10:11:32.923877Z",
     "shell.execute_reply": "2022-09-15T10:11:32.923304Z"
    },
    "papermill": {
     "duration": 0.049599,
     "end_time": "2022-09-15T10:11:32.924007",
     "exception": false,
     "start_time": "2022-09-15T10:11:32.874408",
     "status": "completed"
    },
    "tags": []
   },
   "outputs": [],
   "source": [
    "nn_learner = Learner(loss, model_nn, opt, config.num_epochs)\n",
    "acc_nn = ClfCallback(nn_learner, config.bs, training_data_x , testing_data_x, training_data_y, testing_data_y)\n",
    "nn_learner.set_callbacks([acc_nn])"
   ]
  },
  {
   "cell_type": "code",
   "execution_count": 21,
   "id": "877b6cc7",
   "metadata": {
    "execution": {
     "iopub.execute_input": "2022-09-15T10:11:32.997773Z",
     "iopub.status.busy": "2022-09-15T10:11:32.997085Z",
     "iopub.status.idle": "2022-09-15T10:11:33.012411Z",
     "shell.execute_reply": "2022-09-15T10:11:33.011724Z"
    },
    "papermill": {
     "duration": 0.056054,
     "end_time": "2022-09-15T10:11:33.012538",
     "exception": false,
     "start_time": "2022-09-15T10:11:32.956484",
     "status": "completed"
    },
    "tags": []
   },
   "outputs": [],
   "source": [
    "lr_learner = Learner(loss, model_lr, opt, config.num_epochs)\n",
    "acc_lr = ClfCallback(lr_learner, config.bs, training_data_x , testing_data_x, training_data_y, testing_data_y)\n",
    "lr_learner.set_callbacks([acc_lr])"
   ]
  },
  {
   "cell_type": "code",
   "execution_count": 22,
   "id": "d9b133c3",
   "metadata": {
    "execution": {
     "iopub.execute_input": "2022-09-15T10:11:33.078755Z",
     "iopub.status.busy": "2022-09-15T10:11:33.078024Z",
     "iopub.status.idle": "2022-09-15T10:13:03.466086Z",
     "shell.execute_reply": "2022-09-15T10:13:03.467197Z"
    },
    "papermill": {
     "duration": 90.42484,
     "end_time": "2022-09-15T10:13:03.467374",
     "exception": false,
     "start_time": "2022-09-15T10:11:33.042534",
     "status": "completed"
    },
    "tags": []
   },
   "outputs": [
    {
     "name": "stdout",
     "output_type": "stream",
     "text": [
      "Epoch 0, Loss 0.2478\n",
      "Training Accuracy: 0.6037, Testing Accuracy: 0.6164\n",
      "\n"
     ]
    },
    {
     "name": "stdout",
     "output_type": "stream",
     "text": [
      "Epoch 10, Loss 0.1996\n",
      "Training Accuracy: 0.8680, Testing Accuracy: 0.8831\n",
      "\n"
     ]
    },
    {
     "name": "stdout",
     "output_type": "stream",
     "text": [
      "Epoch 20, Loss 0.0985\n",
      "Training Accuracy: 0.9148, Testing Accuracy: 0.9304\n",
      "\n"
     ]
    },
    {
     "name": "stdout",
     "output_type": "stream",
     "text": [
      "Epoch 30, Loss 0.061\n",
      "Training Accuracy: 0.9362, Testing Accuracy: 0.9491\n",
      "\n"
     ]
    },
    {
     "name": "stdout",
     "output_type": "stream",
     "text": [
      "Epoch 40, Loss 0.0479\n",
      "Training Accuracy: 0.9453, Testing Accuracy: 0.9577\n",
      "\n"
     ]
    },
    {
     "name": "stdout",
     "output_type": "stream",
     "text": [
      "Epoch 50, Loss 0.0413\n",
      "Training Accuracy: 0.9521, Testing Accuracy: 0.9632\n",
      "\n"
     ]
    },
    {
     "name": "stdout",
     "output_type": "stream",
     "text": [
      "Epoch 60, Loss 0.0374\n",
      "Training Accuracy: 0.9565, Testing Accuracy: 0.9677\n",
      "\n"
     ]
    },
    {
     "name": "stdout",
     "output_type": "stream",
     "text": [
      "Epoch 70, Loss 0.0347\n",
      "Training Accuracy: 0.9594, Testing Accuracy: 0.9698\n",
      "\n"
     ]
    },
    {
     "name": "stdout",
     "output_type": "stream",
     "text": [
      "Epoch 80, Loss 0.0326\n",
      "Training Accuracy: 0.9610, Testing Accuracy: 0.9718\n",
      "\n"
     ]
    },
    {
     "name": "stdout",
     "output_type": "stream",
     "text": [
      "Epoch 90, Loss 0.031\n",
      "Training Accuracy: 0.9634, Testing Accuracy: 0.9718\n",
      "\n"
     ]
    },
    {
     "name": "stdout",
     "output_type": "stream",
     "text": [
      "Epoch 100, Loss 0.0297\n",
      "Training Accuracy: 0.9650, Testing Accuracy: 0.9723\n",
      "\n"
     ]
    },
    {
     "name": "stdout",
     "output_type": "stream",
     "text": [
      "Epoch 110, Loss 0.0285\n",
      "Training Accuracy: 0.9663, Testing Accuracy: 0.9723\n",
      "\n"
     ]
    },
    {
     "name": "stdout",
     "output_type": "stream",
     "text": [
      "Epoch 120, Loss 0.0275\n",
      "Training Accuracy: 0.9675, Testing Accuracy: 0.9718\n",
      "\n"
     ]
    },
    {
     "name": "stdout",
     "output_type": "stream",
     "text": [
      "Epoch 130, Loss 0.0266\n",
      "Training Accuracy: 0.9686, Testing Accuracy: 0.9713\n",
      "\n"
     ]
    },
    {
     "name": "stdout",
     "output_type": "stream",
     "text": [
      "Epoch 140, Loss 0.0258\n",
      "Training Accuracy: 0.9698, Testing Accuracy: 0.9713\n",
      "\n"
     ]
    },
    {
     "name": "stdout",
     "output_type": "stream",
     "text": [
      "Epoch 150, Loss 0.0251\n",
      "Training Accuracy: 0.9707, Testing Accuracy: 0.9718\n",
      "\n"
     ]
    },
    {
     "name": "stdout",
     "output_type": "stream",
     "text": [
      "Epoch 160, Loss 0.0244\n",
      "Training Accuracy: 0.9718, Testing Accuracy: 0.9718\n",
      "\n"
     ]
    },
    {
     "name": "stdout",
     "output_type": "stream",
     "text": [
      "Epoch 170, Loss 0.0238\n",
      "Training Accuracy: 0.9725, Testing Accuracy: 0.9713\n",
      "\n"
     ]
    },
    {
     "name": "stdout",
     "output_type": "stream",
     "text": [
      "Epoch 180, Loss 0.0232\n",
      "Training Accuracy: 0.9734, Testing Accuracy: 0.9708\n",
      "\n"
     ]
    },
    {
     "name": "stdout",
     "output_type": "stream",
     "text": [
      "Epoch 190, Loss 0.0227\n",
      "Training Accuracy: 0.9739, Testing Accuracy: 0.9708\n",
      "\n"
     ]
    },
    {
     "name": "stdout",
     "output_type": "stream",
     "text": [
      "Epoch 200, Loss 0.0222\n",
      "Training Accuracy: 0.9748, Testing Accuracy: 0.9708\n",
      "\n"
     ]
    },
    {
     "name": "stdout",
     "output_type": "stream",
     "text": [
      "Epoch 210, Loss 0.0217\n",
      "Training Accuracy: 0.9750, Testing Accuracy: 0.9713\n",
      "\n"
     ]
    },
    {
     "name": "stdout",
     "output_type": "stream",
     "text": [
      "Epoch 220, Loss 0.0213\n",
      "Training Accuracy: 0.9757, Testing Accuracy: 0.9718\n",
      "\n"
     ]
    },
    {
     "name": "stdout",
     "output_type": "stream",
     "text": [
      "Epoch 230, Loss 0.0208\n",
      "Training Accuracy: 0.9762, Testing Accuracy: 0.9713\n",
      "\n"
     ]
    },
    {
     "name": "stdout",
     "output_type": "stream",
     "text": [
      "Epoch 240, Loss 0.0204\n",
      "Training Accuracy: 0.9767, Testing Accuracy: 0.9713\n",
      "\n"
     ]
    },
    {
     "data": {
      "text/plain": [
       "0.00045795939285551437"
      ]
     },
     "execution_count": 22,
     "metadata": {},
     "output_type": "execute_result"
    }
   ],
   "source": [
    "nn_learner.train_loop(dl)"
   ]
  },
  {
   "cell_type": "code",
   "execution_count": 23,
   "id": "e0163366",
   "metadata": {
    "execution": {
     "iopub.execute_input": "2022-09-15T10:13:03.560405Z",
     "iopub.status.busy": "2022-09-15T10:13:03.559618Z",
     "iopub.status.idle": "2022-09-15T10:13:19.341599Z",
     "shell.execute_reply": "2022-09-15T10:13:19.342613Z"
    },
    "papermill": {
     "duration": 15.833259,
     "end_time": "2022-09-15T10:13:19.342786",
     "exception": false,
     "start_time": "2022-09-15T10:13:03.509527",
     "status": "completed"
    },
    "tags": []
   },
   "outputs": [
    {
     "name": "stdout",
     "output_type": "stream",
     "text": [
      "Epoch 0, Loss 0.2371\n",
      "Training Accuracy: 0.7142, Testing Accuracy: 0.7515\n",
      "\n"
     ]
    },
    {
     "name": "stdout",
     "output_type": "stream",
     "text": [
      "Epoch 10, Loss 0.1022\n",
      "Training Accuracy: 0.9113, Testing Accuracy: 0.9163\n",
      "\n"
     ]
    },
    {
     "name": "stdout",
     "output_type": "stream",
     "text": [
      "Epoch 20, Loss 0.0791\n",
      "Training Accuracy: 0.9257, Testing Accuracy: 0.9390\n",
      "\n"
     ]
    },
    {
     "name": "stdout",
     "output_type": "stream",
     "text": [
      "Epoch 30, Loss 0.0684\n",
      "Training Accuracy: 0.9347, Testing Accuracy: 0.9461\n",
      "\n"
     ]
    },
    {
     "name": "stdout",
     "output_type": "stream",
     "text": [
      "Epoch 40, Loss 0.0618\n",
      "Training Accuracy: 0.9398, Testing Accuracy: 0.9521\n",
      "\n"
     ]
    },
    {
     "name": "stdout",
     "output_type": "stream",
     "text": [
      "Epoch 50, Loss 0.0573\n",
      "Training Accuracy: 0.9442, Testing Accuracy: 0.9546\n",
      "\n"
     ]
    },
    {
     "name": "stdout",
     "output_type": "stream",
     "text": [
      "Epoch 60, Loss 0.054\n",
      "Training Accuracy: 0.9473, Testing Accuracy: 0.9556\n",
      "\n"
     ]
    },
    {
     "name": "stdout",
     "output_type": "stream",
     "text": [
      "Epoch 70, Loss 0.0514\n",
      "Training Accuracy: 0.9494, Testing Accuracy: 0.9587\n",
      "\n"
     ]
    },
    {
     "name": "stdout",
     "output_type": "stream",
     "text": [
      "Epoch 80, Loss 0.0493\n",
      "Training Accuracy: 0.9505, Testing Accuracy: 0.9597\n",
      "\n"
     ]
    },
    {
     "name": "stdout",
     "output_type": "stream",
     "text": [
      "Epoch 90, Loss 0.0476\n",
      "Training Accuracy: 0.9518, Testing Accuracy: 0.9612\n",
      "\n"
     ]
    },
    {
     "name": "stdout",
     "output_type": "stream",
     "text": [
      "Epoch 100, Loss 0.0462\n",
      "Training Accuracy: 0.9524, Testing Accuracy: 0.9607\n",
      "\n"
     ]
    },
    {
     "name": "stdout",
     "output_type": "stream",
     "text": [
      "Epoch 110, Loss 0.045\n",
      "Training Accuracy: 0.9540, Testing Accuracy: 0.9607\n",
      "\n"
     ]
    },
    {
     "name": "stdout",
     "output_type": "stream",
     "text": [
      "Epoch 120, Loss 0.0439\n",
      "Training Accuracy: 0.9553, Testing Accuracy: 0.9607\n",
      "\n"
     ]
    },
    {
     "name": "stdout",
     "output_type": "stream",
     "text": [
      "Epoch 130, Loss 0.043\n",
      "Training Accuracy: 0.9561, Testing Accuracy: 0.9617\n",
      "\n"
     ]
    },
    {
     "name": "stdout",
     "output_type": "stream",
     "text": [
      "Epoch 140, Loss 0.0421\n",
      "Training Accuracy: 0.9563, Testing Accuracy: 0.9627\n",
      "\n"
     ]
    },
    {
     "name": "stdout",
     "output_type": "stream",
     "text": [
      "Epoch 150, Loss 0.0414\n",
      "Training Accuracy: 0.9568, Testing Accuracy: 0.9632\n",
      "\n"
     ]
    },
    {
     "name": "stdout",
     "output_type": "stream",
     "text": [
      "Epoch 160, Loss 0.0407\n",
      "Training Accuracy: 0.9575, Testing Accuracy: 0.9637\n",
      "\n"
     ]
    },
    {
     "name": "stdout",
     "output_type": "stream",
     "text": [
      "Epoch 170, Loss 0.0401\n",
      "Training Accuracy: 0.9578, Testing Accuracy: 0.9642\n",
      "\n"
     ]
    },
    {
     "name": "stdout",
     "output_type": "stream",
     "text": [
      "Epoch 180, Loss 0.0395\n",
      "Training Accuracy: 0.9586, Testing Accuracy: 0.9642\n",
      "\n"
     ]
    },
    {
     "name": "stdout",
     "output_type": "stream",
     "text": [
      "Epoch 190, Loss 0.039\n",
      "Training Accuracy: 0.9589, Testing Accuracy: 0.9642\n",
      "\n"
     ]
    },
    {
     "name": "stdout",
     "output_type": "stream",
     "text": [
      "Epoch 200, Loss 0.0385\n",
      "Training Accuracy: 0.9590, Testing Accuracy: 0.9652\n",
      "\n"
     ]
    },
    {
     "name": "stdout",
     "output_type": "stream",
     "text": [
      "Epoch 210, Loss 0.0381\n",
      "Training Accuracy: 0.9594, Testing Accuracy: 0.9667\n",
      "\n"
     ]
    },
    {
     "name": "stdout",
     "output_type": "stream",
     "text": [
      "Epoch 220, Loss 0.0377\n",
      "Training Accuracy: 0.9595, Testing Accuracy: 0.9667\n",
      "\n"
     ]
    },
    {
     "name": "stdout",
     "output_type": "stream",
     "text": [
      "Epoch 230, Loss 0.0373\n",
      "Training Accuracy: 0.9599, Testing Accuracy: 0.9667\n",
      "\n"
     ]
    },
    {
     "name": "stdout",
     "output_type": "stream",
     "text": [
      "Epoch 240, Loss 0.0369\n",
      "Training Accuracy: 0.9602, Testing Accuracy: 0.9667\n",
      "\n"
     ]
    },
    {
     "data": {
      "text/plain": [
       "0.03448553579015633"
      ]
     },
     "execution_count": 23,
     "metadata": {},
     "output_type": "execute_result"
    }
   ],
   "source": [
    "lr_learner.train_loop(dl)"
   ]
  },
  {
   "cell_type": "code",
   "execution_count": 24,
   "id": "ca410940",
   "metadata": {
    "execution": {
     "iopub.execute_input": "2022-09-15T10:13:19.444541Z",
     "iopub.status.busy": "2022-09-15T10:13:19.443847Z",
     "iopub.status.idle": "2022-09-15T10:13:19.713844Z",
     "shell.execute_reply": "2022-09-15T10:13:19.712821Z"
    },
    "papermill": {
     "duration": 0.324247,
     "end_time": "2022-09-15T10:13:19.713992",
     "exception": false,
     "start_time": "2022-09-15T10:13:19.389745",
     "status": "completed"
    },
    "tags": []
   },
   "outputs": [
    {
     "data": {
      "text/plain": [
       "<matplotlib.legend.Legend at 0x7fb225d36358>"
      ]
     },
     "execution_count": 24,
     "metadata": {},
     "output_type": "execute_result"
    },
    {
     "data": {
      "image/png": "[encoded data removed]",
      "text/plain": [
       "<Figure size 1080x720 with 1 Axes>"
      ]
     },
     "metadata": {
      "needs_background": "light"
     },
     "output_type": "display_data"
    }
   ],
   "source": [
    "#comparing the results of NN and LR\n",
    "plt.figure(figsize=(15,10))\n",
    "\n",
    "# Neural Network plots\n",
    "plt.plot(acc_nn.accuracies, 'r-', label = \"Training Accuracies - NN\")\n",
    "plt.plot(acc_nn.test_accuracies, 'g-', label = \"Testing Accuracies - NN\")\n",
    "\n",
    "# Logistic Regression plots\n",
    "plt.plot(acc_lr.accuracies, 'k-', label = \"Training Accuracies - LR\")\n",
    "plt.plot(acc_lr.test_accuracies, 'b-', label = \"Testing Accuracies - LR\")\n",
    "plt.legend()"
   ]
  },
  {
   "cell_type": "markdown",
   "id": "80dfb35c",
   "metadata": {
    "papermill": {
     "duration": 0.047008,
     "end_time": "2022-09-15T10:13:19.807911",
     "exception": false,
     "start_time": "2022-09-15T10:13:19.760903",
     "status": "completed"
    },
    "tags": []
   },
   "source": [
    "#### Plotting the outputs of this layer of the NN.\n"
   ]
  },
  {
   "cell_type": "code",
   "execution_count": 25,
   "id": "45eb2ff5",
   "metadata": {
    "execution": {
     "iopub.execute_input": "2022-09-15T10:13:19.908268Z",
     "iopub.status.busy": "2022-09-15T10:13:19.907572Z",
     "iopub.status.idle": "2022-09-15T10:13:19.930361Z",
     "shell.execute_reply": "2022-09-15T10:13:19.930960Z"
    },
    "papermill": {
     "duration": 0.075914,
     "end_time": "2022-09-15T10:13:19.931124",
     "exception": false,
     "start_time": "2022-09-15T10:13:19.855210",
     "status": "completed"
    },
    "tags": []
   },
   "outputs": [],
   "source": [
    "new_model = Model(layers[:-2])\n",
    "testing_plot = new_model(testing_data_x)"
   ]
  },
  {
   "cell_type": "code",
   "execution_count": 26,
   "id": "4c0a5485",
   "metadata": {
    "execution": {
     "iopub.execute_input": "2022-09-15T10:13:20.032206Z",
     "iopub.status.busy": "2022-09-15T10:13:20.031506Z",
     "iopub.status.idle": "2022-09-15T10:13:20.269659Z",
     "shell.execute_reply": "2022-09-15T10:13:20.269055Z"
    },
    "papermill": {
     "duration": 0.290771,
     "end_time": "2022-09-15T10:13:20.269795",
     "exception": false,
     "start_time": "2022-09-15T10:13:19.979024",
     "status": "completed"
    },
    "tags": []
   },
   "outputs": [
    {
     "data": {
      "text/plain": [
       "Text(0.5, 1.0, 'Outputs')"
      ]
     },
     "execution_count": 26,
     "metadata": {},
     "output_type": "execute_result"
    },
    {
     "data": {
      "image/png": "[encoded data removed]",
      "text/plain": [
       "<Figure size 576x504 with 1 Axes>"
      ]
     },
     "metadata": {
      "needs_background": "light"
     },
     "output_type": "display_data"
    }
   ],
   "source": [
    "# Plotting the scatter plot of points and color coding by class\n",
    "plt.figure(figsize=(8,7))\n",
    "plt.scatter(testing_plot[:,0], testing_plot[:,1], alpha = 0.1, c = y_test.ravel());\n",
    "plt.title('Outputs')"
   ]
  },
  {
   "cell_type": "markdown",
   "id": "a74fcf8f",
   "metadata": {
    "papermill": {
     "duration": 0.05088,
     "end_time": "2022-09-15T10:13:20.371306",
     "exception": false,
     "start_time": "2022-09-15T10:13:20.320426",
     "status": "completed"
    },
    "tags": []
   },
   "source": [
    "Probability contours"
   ]
  },
  {
   "cell_type": "code",
   "execution_count": 27,
   "id": "d0afc8e3",
   "metadata": {
    "execution": {
     "iopub.execute_input": "2022-09-15T10:13:20.508303Z",
     "iopub.status.busy": "2022-09-15T10:13:20.507624Z",
     "iopub.status.idle": "2022-09-15T10:13:20.521139Z",
     "shell.execute_reply": "2022-09-15T10:13:20.521634Z"
    },
    "papermill": {
     "duration": 0.068638,
     "end_time": "2022-09-15T10:13:20.521799",
     "exception": false,
     "start_time": "2022-09-15T10:13:20.453161",
     "status": "completed"
    },
    "tags": []
   },
   "outputs": [],
   "source": [
    "model_prob = Model(layers[-2:]) "
   ]
  },
  {
   "cell_type": "code",
   "execution_count": 28,
   "id": "9b96e238",
   "metadata": {
    "execution": {
     "iopub.execute_input": "2022-09-15T10:13:20.631403Z",
     "iopub.status.busy": "2022-09-15T10:13:20.630655Z",
     "iopub.status.idle": "2022-09-15T10:13:20.647001Z",
     "shell.execute_reply": "2022-09-15T10:13:20.648082Z"
    },
    "papermill": {
     "duration": 0.075672,
     "end_time": "2022-09-15T10:13:20.648249",
     "exception": false,
     "start_time": "2022-09-15T10:13:20.572577",
     "status": "completed"
    },
    "tags": []
   },
   "outputs": [],
   "source": [
    "#creating the x and y ranges according to the above generated plot.\n",
    "x_range = np.linspace(-4, 1, 100) \n",
    "y_range = np.linspace(-6, 6, 100) \n",
    "x_grid, y_grid = np.meshgrid(x_range, y_range) # x_grid and y_grig are of size 100 X 100\n",
    "\n",
    "# converting x_grid and y_grid to continuous arrays\n",
    "x_gridflat = np.ravel(x_grid)\n",
    "y_gridflat = np.ravel(y_grid)\n",
    "\n",
    "# The last layer of the current model takes two columns as input. Hence transpose of np.vstack() is required.\n",
    "X = np.vstack((x_gridflat, y_gridflat)).T\n",
    "\n",
    "prob_contour = model_prob(X).reshape(100,100) "
   ]
  },
  {
   "cell_type": "code",
   "execution_count": 29,
   "id": "da72499a",
   "metadata": {
    "execution": {
     "iopub.execute_input": "2022-09-15T10:13:20.756832Z",
     "iopub.status.busy": "2022-09-15T10:13:20.756136Z",
     "iopub.status.idle": "2022-09-15T10:13:21.033813Z",
     "shell.execute_reply": "2022-09-15T10:13:21.034383Z"
    },
    "papermill": {
     "duration": 0.333905,
     "end_time": "2022-09-15T10:13:21.034548",
     "exception": false,
     "start_time": "2022-09-15T10:13:20.700643",
     "status": "completed"
    },
    "tags": []
   },
   "outputs": [
    {
     "data": {
      "image/png": "[encoded data removed]",
      "text/plain": [
       "<Figure size 720x648 with 1 Axes>"
      ]
     },
     "metadata": {
      "needs_background": "light"
     },
     "output_type": "display_data"
    }
   ],
   "source": [
    "plt.figure(figsize=(10,9))\n",
    "plt.scatter(testing_plot[:,0], testing_plot[:,1], alpha = 0.1, c = y_test.ravel())\n",
    "contours = plt.contour(x_grid,y_grid,prob_contour)\n",
    "plt.title('Probability Contours')\n",
    "plt.clabel(contours, inline = True );"
   ]
  },
  {
   "cell_type": "code",
   "execution_count": null,
   "id": "e81b4ac7",
   "metadata": {
    "papermill": {
     "duration": 0.053741,
     "end_time": "2022-09-15T10:13:21.141797",
     "exception": false,
     "start_time": "2022-09-15T10:13:21.088056",
     "status": "completed"
    },
    "tags": []
   },
   "outputs": [],
   "source": []
  }
 ],
 "metadata": {
  "kernelspec": {
   "display_name": "Python 3",
   "language": "python",
   "name": "python3"
  },
  "language_info": {
   "codemirror_mode": {
    "name": "ipython",
    "version": 3
   },
   "file_extension": ".py",
   "mimetype": "text/x-python",
   "name": "python",
   "nbconvert_exporter": "python",
   "pygments_lexer": "ipython3",
   "version": "3.6.15"
  },
  "papermill": {
   "default_parameters": {},
   "duration": 115.811453,
   "end_time": "2022-09-15T10:13:21.618684",
   "environment_variables": {},
   "exception": null,
   "input_path": "2020-08-11-part2.ipynb",
   "output_path": "2020-08-11-part2.ipynb",
   "parameters": {},
   "start_time": "2022-09-15T10:11:25.807231",
   "version": "2.3.3"
  }
 },
 "nbformat": 4,
 "nbformat_minor": 5
}