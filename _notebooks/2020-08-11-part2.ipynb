{
 "cells": [
  {
   "cell_type": "markdown",
   "id": "98380cd3",
   "metadata": {
    "papermill": {
     "duration": 0.030107,
     "end_time": "2022-09-21T10:11:08.451087",
     "exception": false,
     "start_time": "2022-09-21T10:11:08.420980",
     "status": "completed"
    },
    "tags": []
   },
   "source": [
    "# Distinguish Your Own Digits (DYOD)"
   ]
  },
  {
   "cell_type": "markdown",
   "id": "ef31240d",
   "metadata": {
    "papermill": {
     "duration": 0.023729,
     "end_time": "2022-09-21T10:11:08.499300",
     "exception": false,
     "start_time": "2022-09-21T10:11:08.475571",
     "status": "completed"
    },
    "tags": []
   },
   "source": [
    "You are going to write a classifier that distinguishes between the number 3 and number 8."
   ]
  },
  {
   "cell_type": "code",
   "execution_count": 1,
   "id": "b15c8646",
   "metadata": {
    "execution": {
     "iopub.execute_input": "2022-09-21T10:11:08.557664Z",
     "iopub.status.busy": "2022-09-21T10:11:08.557016Z",
     "iopub.status.idle": "2022-09-21T10:11:08.567975Z",
     "shell.execute_reply": "2022-09-21T10:11:08.567474Z"
    },
    "papermill": {
     "duration": 0.045167,
     "end_time": "2022-09-21T10:11:08.568101",
     "exception": false,
     "start_time": "2022-09-21T10:11:08.522934",
     "status": "completed"
    },
    "tags": []
   },
   "outputs": [],
   "source": [
    "%load_ext autoreload\n",
    "%autoreload 2"
   ]
  },
  {
   "cell_type": "code",
   "execution_count": 2,
   "id": "22ef38dc",
   "metadata": {
    "execution": {
     "iopub.execute_input": "2022-09-21T10:11:08.619728Z",
     "iopub.status.busy": "2022-09-21T10:11:08.619147Z",
     "iopub.status.idle": "2022-09-21T10:11:09.165125Z",
     "shell.execute_reply": "2022-09-21T10:11:09.165638Z"
    },
    "papermill": {
     "duration": 0.573874,
     "end_time": "2022-09-21T10:11:09.165798",
     "exception": false,
     "start_time": "2022-09-21T10:11:08.591924",
     "status": "completed"
    },
    "tags": []
   },
   "outputs": [],
   "source": [
    "%matplotlib inline\n",
    "import numpy as np\n",
    "import matplotlib.pyplot as plt\n",
    "import pandas as pd"
   ]
  },
  {
   "cell_type": "markdown",
   "id": "ba036198",
   "metadata": {
    "papermill": {
     "duration": 0.023868,
     "end_time": "2022-09-21T10:11:09.213488",
     "exception": false,
     "start_time": "2022-09-21T10:11:09.189620",
     "status": "completed"
    },
    "tags": []
   },
   "source": [
    "From the command line run `pip install mnist`. This is a library that will help you bring down the mnist dataset. If you run this from a notebook, you need to put  `!pip install mnist` in a cell by itself."
   ]
  },
  {
   "cell_type": "code",
   "execution_count": 3,
   "id": "bb6ad8a1",
   "metadata": {
    "execution": {
     "iopub.execute_input": "2022-09-21T10:11:09.265728Z",
     "iopub.status.busy": "2022-09-21T10:11:09.265107Z",
     "iopub.status.idle": "2022-09-21T10:11:10.863291Z",
     "shell.execute_reply": "2022-09-21T10:11:10.862674Z"
    },
    "papermill": {
     "duration": 1.626083,
     "end_time": "2022-09-21T10:11:10.863434",
     "exception": false,
     "start_time": "2022-09-21T10:11:09.237351",
     "status": "completed"
    },
    "tags": []
   },
   "outputs": [
    {
     "name": "stdout",
     "output_type": "stream",
     "text": [
      "Collecting mnist\r\n",
      "  Downloading mnist-0.2.2-py2.py3-none-any.whl (3.5 kB)\r\n",
      "Requirement already satisfied: numpy in /opt/hostedtoolcache/Python/3.6.15/x64/lib/python3.6/site-packages (from mnist) (1.19.5)\r\n"
     ]
    },
    {
     "name": "stdout",
     "output_type": "stream",
     "text": [
      "Installing collected packages: mnist\r\n"
     ]
    },
    {
     "name": "stdout",
     "output_type": "stream",
     "text": [
      "Successfully installed mnist-0.2.2\r\n"
     ]
    }
   ],
   "source": [
    "!pip install mnist"
   ]
  },
  {
   "cell_type": "markdown",
   "id": "69df9c9a",
   "metadata": {
    "papermill": {
     "duration": 0.024691,
     "end_time": "2022-09-21T10:11:10.913161",
     "exception": false,
     "start_time": "2022-09-21T10:11:10.888470",
     "status": "completed"
    },
    "tags": []
   },
   "source": [
    "## Preparing the Data"
   ]
  },
  {
   "cell_type": "code",
   "execution_count": 4,
   "id": "7f69d806",
   "metadata": {
    "execution": {
     "iopub.execute_input": "2022-09-21T10:11:10.971715Z",
     "iopub.status.busy": "2022-09-21T10:11:10.966729Z",
     "iopub.status.idle": "2022-09-21T10:11:10.981916Z",
     "shell.execute_reply": "2022-09-21T10:11:10.982367Z"
    },
    "papermill": {
     "duration": 0.04479,
     "end_time": "2022-09-21T10:11:10.982497",
     "exception": false,
     "start_time": "2022-09-21T10:11:10.937707",
     "status": "completed"
    },
    "tags": []
   },
   "outputs": [],
   "source": [
    "import mnist"
   ]
  },
  {
   "cell_type": "code",
   "execution_count": 5,
   "id": "a411e44f",
   "metadata": {
    "execution": {
     "iopub.execute_input": "2022-09-21T10:11:11.045705Z",
     "iopub.status.busy": "2022-09-21T10:11:11.034809Z",
     "iopub.status.idle": "2022-09-21T10:11:11.553447Z",
     "shell.execute_reply": "2022-09-21T10:11:11.552064Z"
    },
    "papermill": {
     "duration": 0.546569,
     "end_time": "2022-09-21T10:11:11.553604",
     "exception": false,
     "start_time": "2022-09-21T10:11:11.007035",
     "status": "completed"
    },
    "tags": []
   },
   "outputs": [],
   "source": [
    "train_images = mnist.train_images()\n",
    "train_labels = mnist.train_labels()"
   ]
  },
  {
   "cell_type": "code",
   "execution_count": 6,
   "id": "dceab3a5",
   "metadata": {
    "execution": {
     "iopub.execute_input": "2022-09-21T10:11:11.623099Z",
     "iopub.status.busy": "2022-09-21T10:11:11.618082Z",
     "iopub.status.idle": "2022-09-21T10:11:11.628497Z",
     "shell.execute_reply": "2022-09-21T10:11:11.628993Z"
    },
    "papermill": {
     "duration": 0.050319,
     "end_time": "2022-09-21T10:11:11.629137",
     "exception": false,
     "start_time": "2022-09-21T10:11:11.578818",
     "status": "completed"
    },
    "tags": []
   },
   "outputs": [
    {
     "data": {
      "text/plain": [
       "((60000, 28, 28), (60000,))"
      ]
     },
     "execution_count": 6,
     "metadata": {},
     "output_type": "execute_result"
    }
   ],
   "source": [
    "train_images.shape, train_labels.shape"
   ]
  },
  {
   "cell_type": "code",
   "execution_count": 7,
   "id": "f50dc2bb",
   "metadata": {
    "execution": {
     "iopub.execute_input": "2022-09-21T10:11:11.683589Z",
     "iopub.status.busy": "2022-09-21T10:11:11.683003Z",
     "iopub.status.idle": "2022-09-21T10:11:11.847954Z",
     "shell.execute_reply": "2022-09-21T10:11:11.847343Z"
    },
    "papermill": {
     "duration": 0.194049,
     "end_time": "2022-09-21T10:11:11.848089",
     "exception": false,
     "start_time": "2022-09-21T10:11:11.654040",
     "status": "completed"
    },
    "tags": []
   },
   "outputs": [],
   "source": [
    "test_images = mnist.test_images()\n",
    "test_labels = mnist.test_labels()"
   ]
  },
  {
   "cell_type": "code",
   "execution_count": 8,
   "id": "fc38cf1b",
   "metadata": {
    "execution": {
     "iopub.execute_input": "2022-09-21T10:11:11.914733Z",
     "iopub.status.busy": "2022-09-21T10:11:11.914119Z",
     "iopub.status.idle": "2022-09-21T10:11:11.921638Z",
     "shell.execute_reply": "2022-09-21T10:11:11.922086Z"
    },
    "papermill": {
     "duration": 0.048246,
     "end_time": "2022-09-21T10:11:11.922222",
     "exception": false,
     "start_time": "2022-09-21T10:11:11.873976",
     "status": "completed"
    },
    "tags": []
   },
   "outputs": [
    {
     "data": {
      "text/plain": [
       "((10000, 28, 28), (10000,))"
      ]
     },
     "execution_count": 8,
     "metadata": {},
     "output_type": "execute_result"
    }
   ],
   "source": [
    "test_images.shape, test_labels.shape"
   ]
  },
  {
   "cell_type": "code",
   "execution_count": 9,
   "id": "f9ed8fe0",
   "metadata": {
    "execution": {
     "iopub.execute_input": "2022-09-21T10:11:11.986892Z",
     "iopub.status.busy": "2022-09-21T10:11:11.986268Z",
     "iopub.status.idle": "2022-09-21T10:11:12.129125Z",
     "shell.execute_reply": "2022-09-21T10:11:12.127856Z"
    },
    "papermill": {
     "duration": 0.18202,
     "end_time": "2022-09-21T10:11:12.129264",
     "exception": false,
     "start_time": "2022-09-21T10:11:11.947244",
     "status": "completed"
    },
    "tags": []
   },
   "outputs": [
    {
     "name": "stdout",
     "output_type": "stream",
     "text": [
      "2\n"
     ]
    },
    {
     "data": {
      "text/plain": [
       "<matplotlib.image.AxesImage at 0x7f63b6a83c88>"
      ]
     },
     "execution_count": 9,
     "metadata": {},
     "output_type": "execute_result"
    },
    {
     "data": {
      "image/png": "[encoded data removed]",
      "text/plain": [
       "<Figure size 432x288 with 1 Axes>"
      ]
     },
     "metadata": {
      "needs_background": "light"
     },
     "output_type": "display_data"
    }
   ],
   "source": [
    "image_index = 7776 # You may select anything up to 60,000\n",
    "print(train_labels[image_index]) \n",
    "plt.imshow(train_images[image_index], cmap='Greys')"
   ]
  },
  {
   "cell_type": "markdown",
   "id": "a8d2388d",
   "metadata": {
    "papermill": {
     "duration": 0.026104,
     "end_time": "2022-09-21T10:11:12.181786",
     "exception": false,
     "start_time": "2022-09-21T10:11:12.155682",
     "status": "completed"
    },
    "tags": []
   },
   "source": [
    "## Filter data to get 3 and 8 out"
   ]
  },
  {
   "cell_type": "code",
   "execution_count": 10,
   "id": "776f7fc7",
   "metadata": {
    "execution": {
     "iopub.execute_input": "2022-09-21T10:11:12.238909Z",
     "iopub.status.busy": "2022-09-21T10:11:12.238281Z",
     "iopub.status.idle": "2022-09-21T10:11:12.254827Z",
     "shell.execute_reply": "2022-09-21T10:11:12.254306Z"
    },
    "papermill": {
     "duration": 0.047082,
     "end_time": "2022-09-21T10:11:12.254946",
     "exception": false,
     "start_time": "2022-09-21T10:11:12.207864",
     "status": "completed"
    },
    "tags": []
   },
   "outputs": [],
   "source": [
    "train_filter = np.where((train_labels == 3 ) | (train_labels == 8))\n",
    "test_filter = np.where((test_labels == 3) | (test_labels == 8))\n",
    "X_train, y_train = train_images[train_filter], train_labels[train_filter]\n",
    "X_test, y_test = test_images[test_filter], test_labels[test_filter]"
   ]
  },
  {
   "cell_type": "markdown",
   "id": "948f0b7e",
   "metadata": {
    "papermill": {
     "duration": 0.026611,
     "end_time": "2022-09-21T10:11:12.308110",
     "exception": false,
     "start_time": "2022-09-21T10:11:12.281499",
     "status": "completed"
    },
    "tags": []
   },
   "source": [
    "We normalize the pizel values in the 0 to 1 range"
   ]
  },
  {
   "cell_type": "code",
   "execution_count": 11,
   "id": "ee4c2166",
   "metadata": {
    "execution": {
     "iopub.execute_input": "2022-09-21T10:11:12.364646Z",
     "iopub.status.busy": "2022-09-21T10:11:12.364051Z",
     "iopub.status.idle": "2022-09-21T10:11:12.411385Z",
     "shell.execute_reply": "2022-09-21T10:11:12.410780Z"
    },
    "papermill": {
     "duration": 0.077167,
     "end_time": "2022-09-21T10:11:12.411525",
     "exception": false,
     "start_time": "2022-09-21T10:11:12.334358",
     "status": "completed"
    },
    "tags": []
   },
   "outputs": [],
   "source": [
    "X_train = X_train/255.\n",
    "X_test = X_test/255."
   ]
  },
  {
   "cell_type": "markdown",
   "id": "ddcf4fab",
   "metadata": {
    "papermill": {
     "duration": 0.027001,
     "end_time": "2022-09-21T10:11:12.465149",
     "exception": false,
     "start_time": "2022-09-21T10:11:12.438148",
     "status": "completed"
    },
    "tags": []
   },
   "source": [
    "And setup the labels as 1 (when the digit is 3) and 0 (when the digit is 8)"
   ]
  },
  {
   "cell_type": "code",
   "execution_count": 12,
   "id": "7dc908f2",
   "metadata": {
    "execution": {
     "iopub.execute_input": "2022-09-21T10:11:12.521805Z",
     "iopub.status.busy": "2022-09-21T10:11:12.521203Z",
     "iopub.status.idle": "2022-09-21T10:11:12.533804Z",
     "shell.execute_reply": "2022-09-21T10:11:12.534277Z"
    },
    "papermill": {
     "duration": 0.043007,
     "end_time": "2022-09-21T10:11:12.534407",
     "exception": false,
     "start_time": "2022-09-21T10:11:12.491400",
     "status": "completed"
    },
    "tags": []
   },
   "outputs": [],
   "source": [
    "y_train = 1*(y_train==3)\n",
    "y_test = 1*(y_test==3)"
   ]
  },
  {
   "cell_type": "code",
   "execution_count": 13,
   "id": "01e4e969",
   "metadata": {
    "execution": {
     "iopub.execute_input": "2022-09-21T10:11:12.590695Z",
     "iopub.status.busy": "2022-09-21T10:11:12.590118Z",
     "iopub.status.idle": "2022-09-21T10:11:12.604731Z",
     "shell.execute_reply": "2022-09-21T10:11:12.604260Z"
    },
    "papermill": {
     "duration": 0.044049,
     "end_time": "2022-09-21T10:11:12.604841",
     "exception": false,
     "start_time": "2022-09-21T10:11:12.560792",
     "status": "completed"
    },
    "tags": []
   },
   "outputs": [
    {
     "data": {
      "text/plain": [
       "((11982, 28, 28), (1984, 28, 28))"
      ]
     },
     "execution_count": 13,
     "metadata": {},
     "output_type": "execute_result"
    }
   ],
   "source": [
    "X_train.shape, X_test.shape"
   ]
  },
  {
   "cell_type": "markdown",
   "id": "5ccf3f85",
   "metadata": {
    "papermill": {
     "duration": 0.026295,
     "end_time": "2022-09-21T10:11:12.657463",
     "exception": false,
     "start_time": "2022-09-21T10:11:12.631168",
     "status": "completed"
    },
    "tags": []
   },
   "source": [
    "We reshape the data to flatten the image pixels into a set of features or co-variates:"
   ]
  },
  {
   "cell_type": "code",
   "execution_count": 14,
   "id": "5286a4a3",
   "metadata": {
    "execution": {
     "iopub.execute_input": "2022-09-21T10:11:12.730350Z",
     "iopub.status.busy": "2022-09-21T10:11:12.723070Z",
     "iopub.status.idle": "2022-09-21T10:11:12.733712Z",
     "shell.execute_reply": "2022-09-21T10:11:12.734171Z"
    },
    "papermill": {
     "duration": 0.049818,
     "end_time": "2022-09-21T10:11:12.734316",
     "exception": false,
     "start_time": "2022-09-21T10:11:12.684498",
     "status": "completed"
    },
    "tags": []
   },
   "outputs": [
    {
     "data": {
      "text/plain": [
       "((11982, 784), (1984, 784))"
      ]
     },
     "execution_count": 14,
     "metadata": {},
     "output_type": "execute_result"
    }
   ],
   "source": [
    "X_train = X_train.reshape(X_train.shape[0], -1)\n",
    "X_test = X_test.reshape(X_test.shape[0], -1)\n",
    "X_train.shape, X_test.shape"
   ]
  },
  {
   "cell_type": "code",
   "execution_count": 15,
   "id": "73c5f88a",
   "metadata": {
    "execution": {
     "iopub.execute_input": "2022-09-21T10:11:12.793891Z",
     "iopub.status.busy": "2022-09-21T10:11:12.791938Z",
     "iopub.status.idle": "2022-09-21T10:11:12.812009Z",
     "shell.execute_reply": "2022-09-21T10:11:12.812455Z"
    },
    "papermill": {
     "duration": 0.051477,
     "end_time": "2022-09-21T10:11:12.812584",
     "exception": false,
     "start_time": "2022-09-21T10:11:12.761107",
     "status": "completed"
    },
    "tags": []
   },
   "outputs": [],
   "source": [
    "#Impoting functions from 'Kudzu'\n",
    "from kudzu.model import Model\n",
    "from kudzu.train import Learner\n",
    "from kudzu.optim import GD\n",
    "from kudzu.data import Data, Sampler,Dataloader\n",
    "\n",
    "from kudzu.callbacks import AccCallback\n",
    "from kudzu.callbacks import ClfCallback\n",
    "\n",
    "from kudzu.loss import MSE\n",
    "\n",
    "from kudzu.layer import Sigmoid,Relu\n",
    "from kudzu.layer import Affine"
   ]
  },
  {
   "cell_type": "markdown",
   "id": "bc01172a",
   "metadata": {
    "papermill": {
     "duration": 0.026558,
     "end_time": "2022-09-21T10:11:12.865891",
     "exception": false,
     "start_time": "2022-09-21T10:11:12.839333",
     "status": "completed"
    },
    "tags": []
   },
   "source": [
    "### Let us create a `Config` class, to store important parameters. \n",
    "This class essentially plays the role of a dictionary."
   ]
  },
  {
   "cell_type": "code",
   "execution_count": 16,
   "id": "978281aa",
   "metadata": {
    "execution": {
     "iopub.execute_input": "2022-09-21T10:11:12.925793Z",
     "iopub.status.busy": "2022-09-21T10:11:12.923439Z",
     "iopub.status.idle": "2022-09-21T10:11:12.937249Z",
     "shell.execute_reply": "2022-09-21T10:11:12.936751Z"
    },
    "papermill": {
     "duration": 0.044293,
     "end_time": "2022-09-21T10:11:12.937363",
     "exception": false,
     "start_time": "2022-09-21T10:11:12.893070",
     "status": "completed"
    },
    "tags": []
   },
   "outputs": [],
   "source": [
    "class Config:\n",
    "    pass\n",
    "config = Config()\n",
    "config.lr = 0.001\n",
    "config.num_epochs = 250\n",
    "config.bs = 50"
   ]
  },
  {
   "cell_type": "markdown",
   "id": "1385fa59",
   "metadata": {
    "papermill": {
     "duration": 0.02648,
     "end_time": "2022-09-21T10:11:12.990459",
     "exception": false,
     "start_time": "2022-09-21T10:11:12.963979",
     "status": "completed"
    },
    "tags": []
   },
   "source": [
    "### Running Models with the Training data\n",
    "Details about the network layers:\n",
    "- A first affine layer has 784 inputs and does 100 affine transforms. These are followed by a Relu\n",
    "- A second affine layer has 100 inputs from the 100 activations of the past layer, and does 100 affine transforms. These are followed by a Relu\n",
    "- A third affine layer has 100 activations and does 2 affine transformations to create an embedding for visualization. There is no non-linearity here.\n",
    "- A final \"logistic regression\" which has an affine transform from 2 inputs to 1 output, which is squeezed through a sigmoid.\n"
   ]
  },
  {
   "cell_type": "code",
   "execution_count": 17,
   "id": "2b9c66db",
   "metadata": {
    "execution": {
     "iopub.execute_input": "2022-09-21T10:11:13.048046Z",
     "iopub.status.busy": "2022-09-21T10:11:13.047458Z",
     "iopub.status.idle": "2022-09-21T10:11:13.061552Z",
     "shell.execute_reply": "2022-09-21T10:11:13.061065Z"
    },
    "papermill": {
     "duration": 0.044558,
     "end_time": "2022-09-21T10:11:13.061665",
     "exception": false,
     "start_time": "2022-09-21T10:11:13.017107",
     "status": "completed"
    },
    "tags": []
   },
   "outputs": [],
   "source": [
    "data = Data(X_train, y_train.reshape(-1,1))\n",
    "sampler = Sampler(data, config.bs, shuffle=True)\n",
    "\n",
    "dl = Dataloader(data, sampler)\n",
    "\n",
    "opt = GD(config.lr)\n",
    "loss = MSE()"
   ]
  },
  {
   "cell_type": "code",
   "execution_count": 18,
   "id": "b275e4c2",
   "metadata": {
    "execution": {
     "iopub.execute_input": "2022-09-21T10:11:13.122330Z",
     "iopub.status.busy": "2022-09-21T10:11:13.121725Z",
     "iopub.status.idle": "2022-09-21T10:11:13.132370Z",
     "shell.execute_reply": "2022-09-21T10:11:13.132816Z"
    },
    "papermill": {
     "duration": 0.044629,
     "end_time": "2022-09-21T10:11:13.132944",
     "exception": false,
     "start_time": "2022-09-21T10:11:13.088315",
     "status": "completed"
    },
    "tags": []
   },
   "outputs": [],
   "source": [
    "training_data_x = X_train\n",
    "testing_data_x = X_test\n",
    "training_data_y = y_train.reshape(-1,1)\n",
    "testing_data_y = y_test.reshape(-1,1)"
   ]
  },
  {
   "cell_type": "code",
   "execution_count": 19,
   "id": "76951160",
   "metadata": {
    "execution": {
     "iopub.execute_input": "2022-09-21T10:11:13.194446Z",
     "iopub.status.busy": "2022-09-21T10:11:13.193844Z",
     "iopub.status.idle": "2022-09-21T10:11:13.208835Z",
     "shell.execute_reply": "2022-09-21T10:11:13.209315Z"
    },
    "papermill": {
     "duration": 0.049702,
     "end_time": "2022-09-21T10:11:13.209451",
     "exception": false,
     "start_time": "2022-09-21T10:11:13.159749",
     "status": "completed"
    },
    "tags": []
   },
   "outputs": [
    {
     "name": "stdout",
     "output_type": "stream",
     "text": [
      "xavier\n",
      "xavier\n",
      "xavier\n",
      "xavier\n",
      "xavier\n"
     ]
    }
   ],
   "source": [
    "layers = [Affine(\"first\", 784, 100), Relu(\"first\"), Affine(\"second\", 100, 100), Relu(\"second\"), Affine(\"third\", 100, 2), Affine(\"last\", 2, 1), Sigmoid(\"last\")]\n",
    "model_nn = Model(layers)\n",
    "model_lr = Model([Affine(\"logits\", 784, 1), Sigmoid(\"sigmoid\")])"
   ]
  },
  {
   "cell_type": "code",
   "execution_count": 20,
   "id": "6eede77a",
   "metadata": {
    "execution": {
     "iopub.execute_input": "2022-09-21T10:11:13.268518Z",
     "iopub.status.busy": "2022-09-21T10:11:13.267928Z",
     "iopub.status.idle": "2022-09-21T10:11:13.280388Z",
     "shell.execute_reply": "2022-09-21T10:11:13.279815Z"
    },
    "papermill": {
     "duration": 0.044047,
     "end_time": "2022-09-21T10:11:13.280498",
     "exception": false,
     "start_time": "2022-09-21T10:11:13.236451",
     "status": "completed"
    },
    "tags": []
   },
   "outputs": [],
   "source": [
    "nn_learner = Learner(loss, model_nn, opt, config.num_epochs)\n",
    "acc_nn = ClfCallback(nn_learner, config.bs, training_data_x , testing_data_x, training_data_y, testing_data_y)\n",
    "nn_learner.set_callbacks([acc_nn])"
   ]
  },
  {
   "cell_type": "code",
   "execution_count": 21,
   "id": "877b6cc7",
   "metadata": {
    "execution": {
     "iopub.execute_input": "2022-09-21T10:11:13.339900Z",
     "iopub.status.busy": "2022-09-21T10:11:13.339290Z",
     "iopub.status.idle": "2022-09-21T10:11:13.352009Z",
     "shell.execute_reply": "2022-09-21T10:11:13.352448Z"
    },
    "papermill": {
     "duration": 0.044814,
     "end_time": "2022-09-21T10:11:13.352584",
     "exception": false,
     "start_time": "2022-09-21T10:11:13.307770",
     "status": "completed"
    },
    "tags": []
   },
   "outputs": [],
   "source": [
    "lr_learner = Learner(loss, model_lr, opt, config.num_epochs)\n",
    "acc_lr = ClfCallback(lr_learner, config.bs, training_data_x , testing_data_x, training_data_y, testing_data_y)\n",
    "lr_learner.set_callbacks([acc_lr])"
   ]
  },
  {
   "cell_type": "code",
   "execution_count": 22,
   "id": "d9b133c3",
   "metadata": {
    "execution": {
     "iopub.execute_input": "2022-09-21T10:11:13.411920Z",
     "iopub.status.busy": "2022-09-21T10:11:13.411338Z",
     "iopub.status.idle": "2022-09-21T10:12:33.079404Z",
     "shell.execute_reply": "2022-09-21T10:12:33.080271Z"
    },
    "papermill": {
     "duration": 79.6999,
     "end_time": "2022-09-21T10:12:33.080427",
     "exception": false,
     "start_time": "2022-09-21T10:11:13.380527",
     "status": "completed"
    },
    "tags": []
   },
   "outputs": [
    {
     "name": "stdout",
     "output_type": "stream",
     "text": [
      "Epoch 0, Loss 0.2572\n",
      "Training Accuracy: 0.5123, Testing Accuracy: 0.5096\n",
      "\n"
     ]
    },
    {
     "name": "stdout",
     "output_type": "stream",
     "text": [
      "Epoch 10, Loss 0.1125\n",
      "Training Accuracy: 0.9190, Testing Accuracy: 0.9234\n",
      "\n"
     ]
    },
    {
     "name": "stdout",
     "output_type": "stream",
     "text": [
      "Epoch 20, Loss 0.0615\n",
      "Training Accuracy: 0.9404, Testing Accuracy: 0.9486\n",
      "\n"
     ]
    },
    {
     "name": "stdout",
     "output_type": "stream",
     "text": [
      "Epoch 30, Loss 0.0461\n",
      "Training Accuracy: 0.9524, Testing Accuracy: 0.9612\n",
      "\n"
     ]
    },
    {
     "name": "stdout",
     "output_type": "stream",
     "text": [
      "Epoch 40, Loss 0.0392\n",
      "Training Accuracy: 0.9572, Testing Accuracy: 0.9647\n",
      "\n"
     ]
    },
    {
     "name": "stdout",
     "output_type": "stream",
     "text": [
      "Epoch 50, Loss 0.0353\n",
      "Training Accuracy: 0.9609, Testing Accuracy: 0.9662\n",
      "\n"
     ]
    },
    {
     "name": "stdout",
     "output_type": "stream",
     "text": [
      "Epoch 60, Loss 0.0327\n",
      "Training Accuracy: 0.9638, Testing Accuracy: 0.9652\n",
      "\n"
     ]
    },
    {
     "name": "stdout",
     "output_type": "stream",
     "text": [
      "Epoch 70, Loss 0.0307\n",
      "Training Accuracy: 0.9649, Testing Accuracy: 0.9667\n",
      "\n"
     ]
    },
    {
     "name": "stdout",
     "output_type": "stream",
     "text": [
      "Epoch 80, Loss 0.0292\n",
      "Training Accuracy: 0.9664, Testing Accuracy: 0.9698\n",
      "\n"
     ]
    },
    {
     "name": "stdout",
     "output_type": "stream",
     "text": [
      "Epoch 90, Loss 0.028\n",
      "Training Accuracy: 0.9670, Testing Accuracy: 0.9693\n",
      "\n"
     ]
    },
    {
     "name": "stdout",
     "output_type": "stream",
     "text": [
      "Epoch 100, Loss 0.0269\n",
      "Training Accuracy: 0.9682, Testing Accuracy: 0.9698\n",
      "\n"
     ]
    },
    {
     "name": "stdout",
     "output_type": "stream",
     "text": [
      "Epoch 110, Loss 0.026\n",
      "Training Accuracy: 0.9695, Testing Accuracy: 0.9698\n",
      "\n"
     ]
    },
    {
     "name": "stdout",
     "output_type": "stream",
     "text": [
      "Epoch 120, Loss 0.0253\n",
      "Training Accuracy: 0.9705, Testing Accuracy: 0.9698\n",
      "\n"
     ]
    },
    {
     "name": "stdout",
     "output_type": "stream",
     "text": [
      "Epoch 130, Loss 0.0246\n",
      "Training Accuracy: 0.9717, Testing Accuracy: 0.9693\n",
      "\n"
     ]
    },
    {
     "name": "stdout",
     "output_type": "stream",
     "text": [
      "Epoch 140, Loss 0.0239\n",
      "Training Accuracy: 0.9720, Testing Accuracy: 0.9713\n",
      "\n"
     ]
    },
    {
     "name": "stdout",
     "output_type": "stream",
     "text": [
      "Epoch 150, Loss 0.0233\n",
      "Training Accuracy: 0.9727, Testing Accuracy: 0.9708\n",
      "\n"
     ]
    },
    {
     "name": "stdout",
     "output_type": "stream",
     "text": [
      "Epoch 160, Loss 0.0228\n",
      "Training Accuracy: 0.9734, Testing Accuracy: 0.9708\n",
      "\n"
     ]
    },
    {
     "name": "stdout",
     "output_type": "stream",
     "text": [
      "Epoch 170, Loss 0.0223\n",
      "Training Accuracy: 0.9738, Testing Accuracy: 0.9708\n",
      "\n"
     ]
    },
    {
     "name": "stdout",
     "output_type": "stream",
     "text": [
      "Epoch 180, Loss 0.0218\n",
      "Training Accuracy: 0.9743, Testing Accuracy: 0.9713\n",
      "\n"
     ]
    },
    {
     "name": "stdout",
     "output_type": "stream",
     "text": [
      "Epoch 190, Loss 0.0214\n",
      "Training Accuracy: 0.9751, Testing Accuracy: 0.9713\n",
      "\n"
     ]
    },
    {
     "name": "stdout",
     "output_type": "stream",
     "text": [
      "Epoch 200, Loss 0.0209\n",
      "Training Accuracy: 0.9757, Testing Accuracy: 0.9713\n",
      "\n"
     ]
    },
    {
     "name": "stdout",
     "output_type": "stream",
     "text": [
      "Epoch 210, Loss 0.0205\n",
      "Training Accuracy: 0.9765, Testing Accuracy: 0.9708\n",
      "\n"
     ]
    },
    {
     "name": "stdout",
     "output_type": "stream",
     "text": [
      "Epoch 220, Loss 0.0201\n",
      "Training Accuracy: 0.9770, Testing Accuracy: 0.9723\n",
      "\n"
     ]
    },
    {
     "name": "stdout",
     "output_type": "stream",
     "text": [
      "Epoch 230, Loss 0.0198\n",
      "Training Accuracy: 0.9779, Testing Accuracy: 0.9723\n",
      "\n"
     ]
    },
    {
     "name": "stdout",
     "output_type": "stream",
     "text": [
      "Epoch 240, Loss 0.0194\n",
      "Training Accuracy: 0.9785, Testing Accuracy: 0.9723\n",
      "\n"
     ]
    },
    {
     "data": {
      "text/plain": [
       "0.00495185805315662"
      ]
     },
     "execution_count": 22,
     "metadata": {},
     "output_type": "execute_result"
    }
   ],
   "source": [
    "nn_learner.train_loop(dl)"
   ]
  },
  {
   "cell_type": "code",
   "execution_count": 23,
   "id": "e0163366",
   "metadata": {
    "execution": {
     "iopub.execute_input": "2022-09-21T10:12:33.162480Z",
     "iopub.status.busy": "2022-09-21T10:12:33.161878Z",
     "iopub.status.idle": "2022-09-21T10:12:47.097396Z",
     "shell.execute_reply": "2022-09-21T10:12:47.098236Z"
    },
    "papermill": {
     "duration": 13.983316,
     "end_time": "2022-09-21T10:12:47.098389",
     "exception": false,
     "start_time": "2022-09-21T10:12:33.115073",
     "status": "completed"
    },
    "tags": []
   },
   "outputs": [
    {
     "name": "stdout",
     "output_type": "stream",
     "text": [
      "Epoch 0, Loss 0.2316\n",
      "Training Accuracy: 0.7343, Testing Accuracy: 0.7450\n",
      "\n"
     ]
    },
    {
     "name": "stdout",
     "output_type": "stream",
     "text": [
      "Epoch 10, Loss 0.0988\n",
      "Training Accuracy: 0.9201, Testing Accuracy: 0.9385\n",
      "\n"
     ]
    },
    {
     "name": "stdout",
     "output_type": "stream",
     "text": [
      "Epoch 20, Loss 0.0766\n",
      "Training Accuracy: 0.9341, Testing Accuracy: 0.9451\n",
      "\n"
     ]
    },
    {
     "name": "stdout",
     "output_type": "stream",
     "text": [
      "Epoch 30, Loss 0.0665\n",
      "Training Accuracy: 0.9402, Testing Accuracy: 0.9541\n",
      "\n"
     ]
    },
    {
     "name": "stdout",
     "output_type": "stream",
     "text": [
      "Epoch 40, Loss 0.0604\n",
      "Training Accuracy: 0.9447, Testing Accuracy: 0.9546\n",
      "\n"
     ]
    },
    {
     "name": "stdout",
     "output_type": "stream",
     "text": [
      "Epoch 50, Loss 0.0562\n",
      "Training Accuracy: 0.9463, Testing Accuracy: 0.9567\n",
      "\n"
     ]
    },
    {
     "name": "stdout",
     "output_type": "stream",
     "text": [
      "Epoch 60, Loss 0.0532\n",
      "Training Accuracy: 0.9489, Testing Accuracy: 0.9587\n",
      "\n"
     ]
    },
    {
     "name": "stdout",
     "output_type": "stream",
     "text": [
      "Epoch 70, Loss 0.0508\n",
      "Training Accuracy: 0.9498, Testing Accuracy: 0.9582\n",
      "\n"
     ]
    },
    {
     "name": "stdout",
     "output_type": "stream",
     "text": [
      "Epoch 80, Loss 0.0488\n",
      "Training Accuracy: 0.9514, Testing Accuracy: 0.9612\n",
      "\n"
     ]
    },
    {
     "name": "stdout",
     "output_type": "stream",
     "text": [
      "Epoch 90, Loss 0.0472\n",
      "Training Accuracy: 0.9528, Testing Accuracy: 0.9622\n",
      "\n"
     ]
    },
    {
     "name": "stdout",
     "output_type": "stream",
     "text": [
      "Epoch 100, Loss 0.0459\n",
      "Training Accuracy: 0.9536, Testing Accuracy: 0.9637\n",
      "\n"
     ]
    },
    {
     "name": "stdout",
     "output_type": "stream",
     "text": [
      "Epoch 110, Loss 0.0447\n",
      "Training Accuracy: 0.9543, Testing Accuracy: 0.9632\n",
      "\n"
     ]
    },
    {
     "name": "stdout",
     "output_type": "stream",
     "text": [
      "Epoch 120, Loss 0.0437\n",
      "Training Accuracy: 0.9554, Testing Accuracy: 0.9637\n",
      "\n"
     ]
    },
    {
     "name": "stdout",
     "output_type": "stream",
     "text": [
      "Epoch 130, Loss 0.0428\n",
      "Training Accuracy: 0.9564, Testing Accuracy: 0.9642\n",
      "\n"
     ]
    },
    {
     "name": "stdout",
     "output_type": "stream",
     "text": [
      "Epoch 140, Loss 0.042\n",
      "Training Accuracy: 0.9571, Testing Accuracy: 0.9647\n",
      "\n"
     ]
    },
    {
     "name": "stdout",
     "output_type": "stream",
     "text": [
      "Epoch 150, Loss 0.0413\n",
      "Training Accuracy: 0.9579, Testing Accuracy: 0.9647\n",
      "\n"
     ]
    },
    {
     "name": "stdout",
     "output_type": "stream",
     "text": [
      "Epoch 160, Loss 0.0407\n",
      "Training Accuracy: 0.9580, Testing Accuracy: 0.9652\n",
      "\n"
     ]
    },
    {
     "name": "stdout",
     "output_type": "stream",
     "text": [
      "Epoch 170, Loss 0.0401\n",
      "Training Accuracy: 0.9583, Testing Accuracy: 0.9657\n",
      "\n"
     ]
    },
    {
     "name": "stdout",
     "output_type": "stream",
     "text": [
      "Epoch 180, Loss 0.0395\n",
      "Training Accuracy: 0.9583, Testing Accuracy: 0.9662\n",
      "\n"
     ]
    },
    {
     "name": "stdout",
     "output_type": "stream",
     "text": [
      "Epoch 190, Loss 0.039\n",
      "Training Accuracy: 0.9588, Testing Accuracy: 0.9657\n",
      "\n"
     ]
    },
    {
     "name": "stdout",
     "output_type": "stream",
     "text": [
      "Epoch 200, Loss 0.0385\n",
      "Training Accuracy: 0.9594, Testing Accuracy: 0.9652\n",
      "\n"
     ]
    },
    {
     "name": "stdout",
     "output_type": "stream",
     "text": [
      "Epoch 210, Loss 0.0381\n",
      "Training Accuracy: 0.9601, Testing Accuracy: 0.9652\n",
      "\n"
     ]
    },
    {
     "name": "stdout",
     "output_type": "stream",
     "text": [
      "Epoch 220, Loss 0.0377\n",
      "Training Accuracy: 0.9602, Testing Accuracy: 0.9652\n",
      "\n"
     ]
    },
    {
     "name": "stdout",
     "output_type": "stream",
     "text": [
      "Epoch 230, Loss 0.0373\n",
      "Training Accuracy: 0.9605, Testing Accuracy: 0.9652\n",
      "\n"
     ]
    },
    {
     "name": "stdout",
     "output_type": "stream",
     "text": [
      "Epoch 240, Loss 0.037\n",
      "Training Accuracy: 0.9608, Testing Accuracy: 0.9652\n",
      "\n"
     ]
    },
    {
     "data": {
      "text/plain": [
       "0.07835717338275858"
      ]
     },
     "execution_count": 23,
     "metadata": {},
     "output_type": "execute_result"
    }
   ],
   "source": [
    "lr_learner.train_loop(dl)"
   ]
  },
  {
   "cell_type": "code",
   "execution_count": 24,
   "id": "ca410940",
   "metadata": {
    "execution": {
     "iopub.execute_input": "2022-09-21T10:12:47.188634Z",
     "iopub.status.busy": "2022-09-21T10:12:47.188014Z",
     "iopub.status.idle": "2022-09-21T10:12:47.415406Z",
     "shell.execute_reply": "2022-09-21T10:12:47.415876Z"
    },
    "papermill": {
     "duration": 0.276067,
     "end_time": "2022-09-21T10:12:47.416024",
     "exception": false,
     "start_time": "2022-09-21T10:12:47.139957",
     "status": "completed"
    },
    "tags": []
   },
   "outputs": [
    {
     "data": {
      "text/plain": [
       "<matplotlib.legend.Legend at 0x7f63a9e452e8>"
      ]
     },
     "execution_count": 24,
     "metadata": {},
     "output_type": "execute_result"
    },
    {
     "data": {
      "image/png": "[encoded data removed]",
      "text/plain": [
       "<Figure size 1080x720 with 1 Axes>"
      ]
     },
     "metadata": {
      "needs_background": "light"
     },
     "output_type": "display_data"
    }
   ],
   "source": [
    "#comparing the results of NN and LR\n",
    "plt.figure(figsize=(15,10))\n",
    "\n",
    "# Neural Network plots\n",
    "plt.plot(acc_nn.accuracies, 'r-', label = \"Training Accuracies - NN\")\n",
    "plt.plot(acc_nn.test_accuracies, 'g-', label = \"Testing Accuracies - NN\")\n",
    "\n",
    "# Logistic Regression plots\n",
    "plt.plot(acc_lr.accuracies, 'k-', label = \"Training Accuracies - LR\")\n",
    "plt.plot(acc_lr.test_accuracies, 'b-', label = \"Testing Accuracies - LR\")\n",
    "plt.legend()"
   ]
  },
  {
   "cell_type": "markdown",
   "id": "80dfb35c",
   "metadata": {
    "papermill": {
     "duration": 0.042087,
     "end_time": "2022-09-21T10:12:47.500853",
     "exception": false,
     "start_time": "2022-09-21T10:12:47.458766",
     "status": "completed"
    },
    "tags": []
   },
   "source": [
    "#### Plotting the outputs of this layer of the NN.\n"
   ]
  },
  {
   "cell_type": "code",
   "execution_count": 25,
   "id": "45eb2ff5",
   "metadata": {
    "execution": {
     "iopub.execute_input": "2022-09-21T10:12:47.589072Z",
     "iopub.status.busy": "2022-09-21T10:12:47.588419Z",
     "iopub.status.idle": "2022-09-21T10:12:47.608605Z",
     "shell.execute_reply": "2022-09-21T10:12:47.609097Z"
    },
    "papermill": {
     "duration": 0.066821,
     "end_time": "2022-09-21T10:12:47.609240",
     "exception": false,
     "start_time": "2022-09-21T10:12:47.542419",
     "status": "completed"
    },
    "tags": []
   },
   "outputs": [],
   "source": [
    "new_model = Model(layers[:-2])\n",
    "testing_plot = new_model(testing_data_x)"
   ]
  },
  {
   "cell_type": "code",
   "execution_count": 26,
   "id": "4c0a5485",
   "metadata": {
    "execution": {
     "iopub.execute_input": "2022-09-21T10:12:47.699237Z",
     "iopub.status.busy": "2022-09-21T10:12:47.698595Z",
     "iopub.status.idle": "2022-09-21T10:12:47.895581Z",
     "shell.execute_reply": "2022-09-21T10:12:47.894894Z"
    },
    "papermill": {
     "duration": 0.244554,
     "end_time": "2022-09-21T10:12:47.895723",
     "exception": false,
     "start_time": "2022-09-21T10:12:47.651169",
     "status": "completed"
    },
    "tags": []
   },
   "outputs": [
    {
     "data": {
      "text/plain": [
       "Text(0.5, 1.0, 'Outputs')"
      ]
     },
     "execution_count": 26,
     "metadata": {},
     "output_type": "execute_result"
    },
    {
     "data": {
      "image/png": "[encoded data removed]",
      "text/plain": [
       "<Figure size 576x504 with 1 Axes>"
      ]
     },
     "metadata": {
      "needs_background": "light"
     },
     "output_type": "display_data"
    }
   ],
   "source": [
    "# Plotting the scatter plot of points and color coding by class\n",
    "plt.figure(figsize=(8,7))\n",
    "plt.scatter(testing_plot[:,0], testing_plot[:,1], alpha = 0.1, c = y_test.ravel());\n",
    "plt.title('Outputs')"
   ]
  },
  {
   "cell_type": "markdown",
   "id": "a74fcf8f",
   "metadata": {
    "papermill": {
     "duration": 0.044466,
     "end_time": "2022-09-21T10:12:47.985145",
     "exception": false,
     "start_time": "2022-09-21T10:12:47.940679",
     "status": "completed"
    },
    "tags": []
   },
   "source": [
    "Probability contours"
   ]
  },
  {
   "cell_type": "code",
   "execution_count": 27,
   "id": "d0afc8e3",
   "metadata": {
    "execution": {
     "iopub.execute_input": "2022-09-21T10:12:48.082563Z",
     "iopub.status.busy": "2022-09-21T10:12:48.081965Z",
     "iopub.status.idle": "2022-09-21T10:12:48.091450Z",
     "shell.execute_reply": "2022-09-21T10:12:48.091876Z"
    },
    "papermill": {
     "duration": 0.062464,
     "end_time": "2022-09-21T10:12:48.092014",
     "exception": false,
     "start_time": "2022-09-21T10:12:48.029550",
     "status": "completed"
    },
    "tags": []
   },
   "outputs": [],
   "source": [
    "model_prob = Model(layers[-2:]) "
   ]
  },
  {
   "cell_type": "code",
   "execution_count": 28,
   "id": "9b96e238",
   "metadata": {
    "execution": {
     "iopub.execute_input": "2022-09-21T10:12:48.186060Z",
     "iopub.status.busy": "2022-09-21T10:12:48.185467Z",
     "iopub.status.idle": "2022-09-21T10:12:48.201155Z",
     "shell.execute_reply": "2022-09-21T10:12:48.201592Z"
    },
    "papermill": {
     "duration": 0.065441,
     "end_time": "2022-09-21T10:12:48.201730",
     "exception": false,
     "start_time": "2022-09-21T10:12:48.136289",
     "status": "completed"
    },
    "tags": []
   },
   "outputs": [],
   "source": [
    "#creating the x and y ranges according to the above generated plot.\n",
    "x_range = np.linspace(-4, 1, 100) \n",
    "y_range = np.linspace(-6, 6, 100) \n",
    "x_grid, y_grid = np.meshgrid(x_range, y_range) # x_grid and y_grig are of size 100 X 100\n",
    "\n",
    "# converting x_grid and y_grid to continuous arrays\n",
    "x_gridflat = np.ravel(x_grid)\n",
    "y_gridflat = np.ravel(y_grid)\n",
    "\n",
    "# The last layer of the current model takes two columns as input. Hence transpose of np.vstack() is required.\n",
    "X = np.vstack((x_gridflat, y_gridflat)).T\n",
    "\n",
    "prob_contour = model_prob(X).reshape(100,100) "
   ]
  },
  {
   "cell_type": "code",
   "execution_count": 29,
   "id": "da72499a",
   "metadata": {
    "execution": {
     "iopub.execute_input": "2022-09-21T10:12:48.338919Z",
     "iopub.status.busy": "2022-09-21T10:12:48.338298Z",
     "iopub.status.idle": "2022-09-21T10:12:48.582606Z",
     "shell.execute_reply": "2022-09-21T10:12:48.582104Z"
    },
    "papermill": {
     "duration": 0.305217,
     "end_time": "2022-09-21T10:12:48.582729",
     "exception": false,
     "start_time": "2022-09-21T10:12:48.277512",
     "status": "completed"
    },
    "tags": []
   },
   "outputs": [
    {
     "data": {
      "image/png": "[encoded data removed]",
      "text/plain": [
       "<Figure size 720x648 with 1 Axes>"
      ]
     },
     "metadata": {
      "needs_background": "light"
     },
     "output_type": "display_data"
    }
   ],
   "source": [
    "plt.figure(figsize=(10,9))\n",
    "plt.scatter(testing_plot[:,0], testing_plot[:,1], alpha = 0.1, c = y_test.ravel())\n",
    "contours = plt.contour(x_grid,y_grid,prob_contour)\n",
    "plt.title('Probability Contours')\n",
    "plt.clabel(contours, inline = True );"
   ]
  },
  {
   "cell_type": "code",
   "execution_count": null,
   "id": "e81b4ac7",
   "metadata": {
    "papermill": {
     "duration": 0.046712,
     "end_time": "2022-09-21T10:12:48.676897",
     "exception": false,
     "start_time": "2022-09-21T10:12:48.630185",
     "status": "completed"
    },
    "tags": []
   },
   "outputs": [],
   "source": []
  }
 ],
 "metadata": {
  "kernelspec": {
   "display_name": "Python 3",
   "language": "python",
   "name": "python3"
  },
  "language_info": {
   "codemirror_mode": {
    "name": "ipython",
    "version": 3
   },
   "file_extension": ".py",
   "mimetype": "text/x-python",
   "name": "python",
   "nbconvert_exporter": "python",
   "pygments_lexer": "ipython3",
   "version": "3.6.15"
  },
  "papermill": {
   "default_parameters": {},
   "duration": 101.770135,
   "end_time": "2022-09-21T10:12:49.143553",
   "environment_variables": {},
   "exception": null,
   "input_path": "2020-08-11-part2.ipynb",
   "output_path": "2020-08-11-part2.ipynb",
   "parameters": {},
   "start_time": "2022-09-21T10:11:07.373418",
   "version": "2.3.3"
  }
 },
 "nbformat": 4,
 "nbformat_minor": 5
}