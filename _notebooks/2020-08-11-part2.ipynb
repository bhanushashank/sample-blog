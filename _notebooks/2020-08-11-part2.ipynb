{
 "cells": [
  {
   "cell_type": "markdown",
   "id": "98380cd3",
   "metadata": {
    "papermill": {
     "duration": 0.033057,
     "end_time": "2021-12-10T00:23:57.103213",
     "exception": false,
     "start_time": "2021-12-10T00:23:57.070156",
     "status": "completed"
    },
    "tags": []
   },
   "source": [
    "# Distinguish Your Own Digits (DYOD)"
   ]
  },
  {
   "cell_type": "markdown",
   "id": "ef31240d",
   "metadata": {
    "papermill": {
     "duration": 0.027031,
     "end_time": "2021-12-10T00:23:57.158303",
     "exception": false,
     "start_time": "2021-12-10T00:23:57.131272",
     "status": "completed"
    },
    "tags": []
   },
   "source": [
    "You are going to write a classifier that distinguishes between the number 3 and number 8."
   ]
  },
  {
   "cell_type": "code",
   "execution_count": 1,
   "id": "b15c8646",
   "metadata": {
    "execution": {
     "iopub.execute_input": "2021-12-10T00:23:57.224960Z",
     "iopub.status.busy": "2021-12-10T00:23:57.224315Z",
     "iopub.status.idle": "2021-12-10T00:23:57.236278Z",
     "shell.execute_reply": "2021-12-10T00:23:57.235753Z"
    },
    "papermill": {
     "duration": 0.051317,
     "end_time": "2021-12-10T00:23:57.236431",
     "exception": false,
     "start_time": "2021-12-10T00:23:57.185114",
     "status": "completed"
    },
    "tags": []
   },
   "outputs": [],
   "source": [
    "%load_ext autoreload\n",
    "%autoreload 2"
   ]
  },
  {
   "cell_type": "code",
   "execution_count": 2,
   "id": "22ef38dc",
   "metadata": {
    "execution": {
     "iopub.execute_input": "2021-12-10T00:23:57.295630Z",
     "iopub.status.busy": "2021-12-10T00:23:57.295001Z",
     "iopub.status.idle": "2021-12-10T00:23:57.986427Z",
     "shell.execute_reply": "2021-12-10T00:23:57.985903Z"
    },
    "papermill": {
     "duration": 0.722946,
     "end_time": "2021-12-10T00:23:57.986566",
     "exception": false,
     "start_time": "2021-12-10T00:23:57.263620",
     "status": "completed"
    },
    "tags": []
   },
   "outputs": [],
   "source": [
    "%matplotlib inline\n",
    "import numpy as np\n",
    "import matplotlib.pyplot as plt\n",
    "import pandas as pd"
   ]
  },
  {
   "cell_type": "markdown",
   "id": "ba036198",
   "metadata": {
    "papermill": {
     "duration": 0.027486,
     "end_time": "2021-12-10T00:23:58.041727",
     "exception": false,
     "start_time": "2021-12-10T00:23:58.014241",
     "status": "completed"
    },
    "tags": []
   },
   "source": [
    "From the command line run `pip install mnist`. This is a library that will help you bring down the mnist dataset. If you run this from a notebook, you need to put  `!pip install mnist` in a cell by itself."
   ]
  },
  {
   "cell_type": "code",
   "execution_count": 3,
   "id": "bb6ad8a1",
   "metadata": {
    "execution": {
     "iopub.execute_input": "2021-12-10T00:23:58.100496Z",
     "iopub.status.busy": "2021-12-10T00:23:58.099903Z",
     "iopub.status.idle": "2021-12-10T00:24:00.020487Z",
     "shell.execute_reply": "2021-12-10T00:24:00.019879Z"
    },
    "papermill": {
     "duration": 1.951855,
     "end_time": "2021-12-10T00:24:00.020625",
     "exception": false,
     "start_time": "2021-12-10T00:23:58.068770",
     "status": "completed"
    },
    "tags": []
   },
   "outputs": [
    {
     "name": "stdout",
     "output_type": "stream",
     "text": [
      "Collecting mnist\r\n"
     ]
    },
    {
     "name": "stdout",
     "output_type": "stream",
     "text": [
      "  Downloading mnist-0.2.2-py2.py3-none-any.whl (3.5 kB)\r\n"
     ]
    },
    {
     "name": "stdout",
     "output_type": "stream",
     "text": [
      "Requirement already satisfied: numpy in /opt/hostedtoolcache/Python/3.6.15/x64/lib/python3.6/site-packages (from mnist) (1.19.5)\r\n"
     ]
    },
    {
     "name": "stdout",
     "output_type": "stream",
     "text": [
      "Installing collected packages: mnist\r\n"
     ]
    },
    {
     "name": "stdout",
     "output_type": "stream",
     "text": [
      "Successfully installed mnist-0.2.2\r\n"
     ]
    }
   ],
   "source": [
    "!pip install mnist"
   ]
  },
  {
   "cell_type": "markdown",
   "id": "69df9c9a",
   "metadata": {
    "papermill": {
     "duration": 0.028601,
     "end_time": "2021-12-10T00:24:00.078026",
     "exception": false,
     "start_time": "2021-12-10T00:24:00.049425",
     "status": "completed"
    },
    "tags": []
   },
   "source": [
    "## Preparing the Data"
   ]
  },
  {
   "cell_type": "code",
   "execution_count": 4,
   "id": "7f69d806",
   "metadata": {
    "execution": {
     "iopub.execute_input": "2021-12-10T00:24:00.143837Z",
     "iopub.status.busy": "2021-12-10T00:24:00.139812Z",
     "iopub.status.idle": "2021-12-10T00:24:00.156291Z",
     "shell.execute_reply": "2021-12-10T00:24:00.155804Z"
    },
    "papermill": {
     "duration": 0.049724,
     "end_time": "2021-12-10T00:24:00.156425",
     "exception": false,
     "start_time": "2021-12-10T00:24:00.106701",
     "status": "completed"
    },
    "tags": []
   },
   "outputs": [],
   "source": [
    "import mnist"
   ]
  },
  {
   "cell_type": "code",
   "execution_count": 5,
   "id": "a411e44f",
   "metadata": {
    "execution": {
     "iopub.execute_input": "2021-12-10T00:24:00.218514Z",
     "iopub.status.busy": "2021-12-10T00:24:00.217895Z",
     "iopub.status.idle": "2021-12-10T00:24:00.751552Z",
     "shell.execute_reply": "2021-12-10T00:24:00.750749Z"
    },
    "papermill": {
     "duration": 0.566546,
     "end_time": "2021-12-10T00:24:00.751776",
     "exception": false,
     "start_time": "2021-12-10T00:24:00.185230",
     "status": "completed"
    },
    "tags": []
   },
   "outputs": [],
   "source": [
    "train_images = mnist.train_images()\n",
    "train_labels = mnist.train_labels()"
   ]
  },
  {
   "cell_type": "code",
   "execution_count": 6,
   "id": "dceab3a5",
   "metadata": {
    "execution": {
     "iopub.execute_input": "2021-12-10T00:24:00.820501Z",
     "iopub.status.busy": "2021-12-10T00:24:00.819880Z",
     "iopub.status.idle": "2021-12-10T00:24:00.834861Z",
     "shell.execute_reply": "2021-12-10T00:24:00.835370Z"
    },
    "papermill": {
     "duration": 0.051244,
     "end_time": "2021-12-10T00:24:00.835528",
     "exception": false,
     "start_time": "2021-12-10T00:24:00.784284",
     "status": "completed"
    },
    "tags": []
   },
   "outputs": [
    {
     "data": {
      "text/plain": [
       "((60000, 28, 28), (60000,))"
      ]
     },
     "execution_count": 6,
     "metadata": {},
     "output_type": "execute_result"
    }
   ],
   "source": [
    "train_images.shape, train_labels.shape"
   ]
  },
  {
   "cell_type": "code",
   "execution_count": 7,
   "id": "f50dc2bb",
   "metadata": {
    "execution": {
     "iopub.execute_input": "2021-12-10T00:24:00.898300Z",
     "iopub.status.busy": "2021-12-10T00:24:00.897710Z",
     "iopub.status.idle": "2021-12-10T00:24:01.028221Z",
     "shell.execute_reply": "2021-12-10T00:24:01.027682Z"
    },
    "papermill": {
     "duration": 0.163907,
     "end_time": "2021-12-10T00:24:01.028368",
     "exception": false,
     "start_time": "2021-12-10T00:24:00.864461",
     "status": "completed"
    },
    "tags": []
   },
   "outputs": [],
   "source": [
    "test_images = mnist.test_images()\n",
    "test_labels = mnist.test_labels()"
   ]
  },
  {
   "cell_type": "code",
   "execution_count": 8,
   "id": "fc38cf1b",
   "metadata": {
    "execution": {
     "iopub.execute_input": "2021-12-10T00:24:01.091098Z",
     "iopub.status.busy": "2021-12-10T00:24:01.090461Z",
     "iopub.status.idle": "2021-12-10T00:24:01.105328Z",
     "shell.execute_reply": "2021-12-10T00:24:01.104795Z"
    },
    "papermill": {
     "duration": 0.047869,
     "end_time": "2021-12-10T00:24:01.105462",
     "exception": false,
     "start_time": "2021-12-10T00:24:01.057593",
     "status": "completed"
    },
    "tags": []
   },
   "outputs": [
    {
     "data": {
      "text/plain": [
       "((10000, 28, 28), (10000,))"
      ]
     },
     "execution_count": 8,
     "metadata": {},
     "output_type": "execute_result"
    }
   ],
   "source": [
    "test_images.shape, test_labels.shape"
   ]
  },
  {
   "cell_type": "code",
   "execution_count": 9,
   "id": "f9ed8fe0",
   "metadata": {
    "execution": {
     "iopub.execute_input": "2021-12-10T00:24:01.169738Z",
     "iopub.status.busy": "2021-12-10T00:24:01.169118Z",
     "iopub.status.idle": "2021-12-10T00:24:01.332251Z",
     "shell.execute_reply": "2021-12-10T00:24:01.331733Z"
    },
    "papermill": {
     "duration": 0.197158,
     "end_time": "2021-12-10T00:24:01.332376",
     "exception": false,
     "start_time": "2021-12-10T00:24:01.135218",
     "status": "completed"
    },
    "tags": []
   },
   "outputs": [
    {
     "name": "stdout",
     "output_type": "stream",
     "text": [
      "2\n"
     ]
    },
    {
     "data": {
      "text/plain": [
       "<matplotlib.image.AxesImage at 0x7f64328ba4e0>"
      ]
     },
     "execution_count": 9,
     "metadata": {},
     "output_type": "execute_result"
    },
    {
     "data": {
      "image/png": "[encoded data removed]",
      "text/plain": [
       "<Figure size 432x288 with 1 Axes>"
      ]
     },
     "metadata": {
      "needs_background": "light"
     },
     "output_type": "display_data"
    }
   ],
   "source": [
    "image_index = 7776 # You may select anything up to 60,000\n",
    "print(train_labels[image_index]) \n",
    "plt.imshow(train_images[image_index], cmap='Greys')"
   ]
  },
  {
   "cell_type": "markdown",
   "id": "a8d2388d",
   "metadata": {
    "papermill": {
     "duration": 0.03076,
     "end_time": "2021-12-10T00:24:01.394022",
     "exception": false,
     "start_time": "2021-12-10T00:24:01.363262",
     "status": "completed"
    },
    "tags": []
   },
   "source": [
    "## Filter data to get 3 and 8 out"
   ]
  },
  {
   "cell_type": "code",
   "execution_count": 10,
   "id": "776f7fc7",
   "metadata": {
    "execution": {
     "iopub.execute_input": "2021-12-10T00:24:01.460579Z",
     "iopub.status.busy": "2021-12-10T00:24:01.459923Z",
     "iopub.status.idle": "2021-12-10T00:24:01.482127Z",
     "shell.execute_reply": "2021-12-10T00:24:01.482671Z"
    },
    "papermill": {
     "duration": 0.058032,
     "end_time": "2021-12-10T00:24:01.482833",
     "exception": false,
     "start_time": "2021-12-10T00:24:01.424801",
     "status": "completed"
    },
    "tags": []
   },
   "outputs": [],
   "source": [
    "train_filter = np.where((train_labels == 3 ) | (train_labels == 8))\n",
    "test_filter = np.where((test_labels == 3) | (test_labels == 8))\n",
    "X_train, y_train = train_images[train_filter], train_labels[train_filter]\n",
    "X_test, y_test = test_images[test_filter], test_labels[test_filter]"
   ]
  },
  {
   "cell_type": "markdown",
   "id": "948f0b7e",
   "metadata": {
    "papermill": {
     "duration": 0.031055,
     "end_time": "2021-12-10T00:24:01.544711",
     "exception": false,
     "start_time": "2021-12-10T00:24:01.513656",
     "status": "completed"
    },
    "tags": []
   },
   "source": [
    "We normalize the pizel values in the 0 to 1 range"
   ]
  },
  {
   "cell_type": "code",
   "execution_count": 11,
   "id": "ee4c2166",
   "metadata": {
    "execution": {
     "iopub.execute_input": "2021-12-10T00:24:01.612584Z",
     "iopub.status.busy": "2021-12-10T00:24:01.611965Z",
     "iopub.status.idle": "2021-12-10T00:24:01.663037Z",
     "shell.execute_reply": "2021-12-10T00:24:01.663537Z"
    },
    "papermill": {
     "duration": 0.088279,
     "end_time": "2021-12-10T00:24:01.663709",
     "exception": false,
     "start_time": "2021-12-10T00:24:01.575430",
     "status": "completed"
    },
    "tags": []
   },
   "outputs": [],
   "source": [
    "X_train = X_train/255.\n",
    "X_test = X_test/255."
   ]
  },
  {
   "cell_type": "markdown",
   "id": "ddcf4fab",
   "metadata": {
    "papermill": {
     "duration": 0.030508,
     "end_time": "2021-12-10T00:24:01.725097",
     "exception": false,
     "start_time": "2021-12-10T00:24:01.694589",
     "status": "completed"
    },
    "tags": []
   },
   "source": [
    "And setup the labels as 1 (when the digit is 3) and 0 (when the digit is 8)"
   ]
  },
  {
   "cell_type": "code",
   "execution_count": 12,
   "id": "7dc908f2",
   "metadata": {
    "execution": {
     "iopub.execute_input": "2021-12-10T00:24:01.799977Z",
     "iopub.status.busy": "2021-12-10T00:24:01.794342Z",
     "iopub.status.idle": "2021-12-10T00:24:01.805968Z",
     "shell.execute_reply": "2021-12-10T00:24:01.804902Z"
    },
    "papermill": {
     "duration": 0.050648,
     "end_time": "2021-12-10T00:24:01.806109",
     "exception": false,
     "start_time": "2021-12-10T00:24:01.755461",
     "status": "completed"
    },
    "tags": []
   },
   "outputs": [],
   "source": [
    "y_train = 1*(y_train==3)\n",
    "y_test = 1*(y_test==3)"
   ]
  },
  {
   "cell_type": "code",
   "execution_count": 13,
   "id": "01e4e969",
   "metadata": {
    "execution": {
     "iopub.execute_input": "2021-12-10T00:24:01.871275Z",
     "iopub.status.busy": "2021-12-10T00:24:01.870233Z",
     "iopub.status.idle": "2021-12-10T00:24:01.885175Z",
     "shell.execute_reply": "2021-12-10T00:24:01.884665Z"
    },
    "papermill": {
     "duration": 0.048706,
     "end_time": "2021-12-10T00:24:01.885305",
     "exception": false,
     "start_time": "2021-12-10T00:24:01.836599",
     "status": "completed"
    },
    "tags": []
   },
   "outputs": [
    {
     "data": {
      "text/plain": [
       "((11982, 28, 28), (1984, 28, 28))"
      ]
     },
     "execution_count": 13,
     "metadata": {},
     "output_type": "execute_result"
    }
   ],
   "source": [
    "X_train.shape, X_test.shape"
   ]
  },
  {
   "cell_type": "markdown",
   "id": "5ccf3f85",
   "metadata": {
    "papermill": {
     "duration": 0.030664,
     "end_time": "2021-12-10T00:24:01.946979",
     "exception": false,
     "start_time": "2021-12-10T00:24:01.916315",
     "status": "completed"
    },
    "tags": []
   },
   "source": [
    "We reshape the data to flatten the image pixels into a set of features or co-variates:"
   ]
  },
  {
   "cell_type": "code",
   "execution_count": 14,
   "id": "5286a4a3",
   "metadata": {
    "execution": {
     "iopub.execute_input": "2021-12-10T00:24:02.015828Z",
     "iopub.status.busy": "2021-12-10T00:24:02.012826Z",
     "iopub.status.idle": "2021-12-10T00:24:02.027669Z",
     "shell.execute_reply": "2021-12-10T00:24:02.028122Z"
    },
    "papermill": {
     "duration": 0.050099,
     "end_time": "2021-12-10T00:24:02.028281",
     "exception": false,
     "start_time": "2021-12-10T00:24:01.978182",
     "status": "completed"
    },
    "tags": []
   },
   "outputs": [
    {
     "data": {
      "text/plain": [
       "((11982, 784), (1984, 784))"
      ]
     },
     "execution_count": 14,
     "metadata": {},
     "output_type": "execute_result"
    }
   ],
   "source": [
    "X_train = X_train.reshape(X_train.shape[0], -1)\n",
    "X_test = X_test.reshape(X_test.shape[0], -1)\n",
    "X_train.shape, X_test.shape"
   ]
  },
  {
   "cell_type": "code",
   "execution_count": 15,
   "id": "73c5f88a",
   "metadata": {
    "execution": {
     "iopub.execute_input": "2021-12-10T00:24:02.100036Z",
     "iopub.status.busy": "2021-12-10T00:24:02.095163Z",
     "iopub.status.idle": "2021-12-10T00:24:02.116828Z",
     "shell.execute_reply": "2021-12-10T00:24:02.116324Z"
    },
    "papermill": {
     "duration": 0.057534,
     "end_time": "2021-12-10T00:24:02.116966",
     "exception": false,
     "start_time": "2021-12-10T00:24:02.059432",
     "status": "completed"
    },
    "tags": []
   },
   "outputs": [],
   "source": [
    "#Impoting functions from 'Kudzu'\n",
    "from kudzu.model import Model\n",
    "from kudzu.train import Learner\n",
    "from kudzu.optim import GD\n",
    "from kudzu.data import Data, Sampler,Dataloader\n",
    "\n",
    "from kudzu.callbacks import AccCallback\n",
    "from kudzu.callbacks import ClfCallback\n",
    "\n",
    "from kudzu.loss import MSE\n",
    "\n",
    "from kudzu.layer import Sigmoid,Relu\n",
    "from kudzu.layer import Affine"
   ]
  },
  {
   "cell_type": "markdown",
   "id": "bc01172a",
   "metadata": {
    "papermill": {
     "duration": 0.030938,
     "end_time": "2021-12-10T00:24:02.179870",
     "exception": false,
     "start_time": "2021-12-10T00:24:02.148932",
     "status": "completed"
    },
    "tags": []
   },
   "source": [
    "### Let us create a `Config` class, to store important parameters. \n",
    "This class essentially plays the role of a dictionary."
   ]
  },
  {
   "cell_type": "code",
   "execution_count": 16,
   "id": "978281aa",
   "metadata": {
    "execution": {
     "iopub.execute_input": "2021-12-10T00:24:02.246510Z",
     "iopub.status.busy": "2021-12-10T00:24:02.245899Z",
     "iopub.status.idle": "2021-12-10T00:24:02.259613Z",
     "shell.execute_reply": "2021-12-10T00:24:02.260128Z"
    },
    "papermill": {
     "duration": 0.049429,
     "end_time": "2021-12-10T00:24:02.260271",
     "exception": false,
     "start_time": "2021-12-10T00:24:02.210842",
     "status": "completed"
    },
    "tags": []
   },
   "outputs": [],
   "source": [
    "class Config:\n",
    "    pass\n",
    "config = Config()\n",
    "config.lr = 0.001\n",
    "config.num_epochs = 250\n",
    "config.bs = 50"
   ]
  },
  {
   "cell_type": "markdown",
   "id": "1385fa59",
   "metadata": {
    "papermill": {
     "duration": 0.030478,
     "end_time": "2021-12-10T00:24:02.321892",
     "exception": false,
     "start_time": "2021-12-10T00:24:02.291414",
     "status": "completed"
    },
    "tags": []
   },
   "source": [
    "### Running Models with the Training data\n",
    "Details about the network layers:\n",
    "- A first affine layer has 784 inputs and does 100 affine transforms. These are followed by a Relu\n",
    "- A second affine layer has 100 inputs from the 100 activations of the past layer, and does 100 affine transforms. These are followed by a Relu\n",
    "- A third affine layer has 100 activations and does 2 affine transformations to create an embedding for visualization. There is no non-linearity here.\n",
    "- A final \"logistic regression\" which has an affine transform from 2 inputs to 1 output, which is squeezed through a sigmoid.\n"
   ]
  },
  {
   "cell_type": "code",
   "execution_count": 17,
   "id": "2b9c66db",
   "metadata": {
    "execution": {
     "iopub.execute_input": "2021-12-10T00:24:02.388363Z",
     "iopub.status.busy": "2021-12-10T00:24:02.387741Z",
     "iopub.status.idle": "2021-12-10T00:24:02.402116Z",
     "shell.execute_reply": "2021-12-10T00:24:02.401626Z"
    },
    "papermill": {
     "duration": 0.049611,
     "end_time": "2021-12-10T00:24:02.402252",
     "exception": false,
     "start_time": "2021-12-10T00:24:02.352641",
     "status": "completed"
    },
    "tags": []
   },
   "outputs": [],
   "source": [
    "data = Data(X_train, y_train.reshape(-1,1))\n",
    "sampler = Sampler(data, config.bs, shuffle=True)\n",
    "\n",
    "dl = Dataloader(data, sampler)\n",
    "\n",
    "opt = GD(config.lr)\n",
    "loss = MSE()"
   ]
  },
  {
   "cell_type": "code",
   "execution_count": 18,
   "id": "b275e4c2",
   "metadata": {
    "execution": {
     "iopub.execute_input": "2021-12-10T00:24:02.470883Z",
     "iopub.status.busy": "2021-12-10T00:24:02.470266Z",
     "iopub.status.idle": "2021-12-10T00:24:02.483724Z",
     "shell.execute_reply": "2021-12-10T00:24:02.483187Z"
    },
    "papermill": {
     "duration": 0.050151,
     "end_time": "2021-12-10T00:24:02.483862",
     "exception": false,
     "start_time": "2021-12-10T00:24:02.433711",
     "status": "completed"
    },
    "tags": []
   },
   "outputs": [],
   "source": [
    "training_data_x = X_train\n",
    "testing_data_x = X_test\n",
    "training_data_y = y_train.reshape(-1,1)\n",
    "testing_data_y = y_test.reshape(-1,1)"
   ]
  },
  {
   "cell_type": "code",
   "execution_count": 19,
   "id": "76951160",
   "metadata": {
    "execution": {
     "iopub.execute_input": "2021-12-10T00:24:02.551827Z",
     "iopub.status.busy": "2021-12-10T00:24:02.551177Z",
     "iopub.status.idle": "2021-12-10T00:24:02.570030Z",
     "shell.execute_reply": "2021-12-10T00:24:02.569504Z"
    },
    "papermill": {
     "duration": 0.05526,
     "end_time": "2021-12-10T00:24:02.570169",
     "exception": false,
     "start_time": "2021-12-10T00:24:02.514909",
     "status": "completed"
    },
    "tags": []
   },
   "outputs": [
    {
     "name": "stdout",
     "output_type": "stream",
     "text": [
      "xavier\n",
      "xavier\n",
      "xavier\n",
      "xavier\n",
      "xavier\n"
     ]
    }
   ],
   "source": [
    "layers = [Affine(\"first\", 784, 100), Relu(\"first\"), Affine(\"second\", 100, 100), Relu(\"second\"), Affine(\"third\", 100, 2), Affine(\"last\", 2, 1), Sigmoid(\"last\")]\n",
    "model_nn = Model(layers)\n",
    "model_lr = Model([Affine(\"logits\", 784, 1), Sigmoid(\"sigmoid\")])"
   ]
  },
  {
   "cell_type": "code",
   "execution_count": 20,
   "id": "6eede77a",
   "metadata": {
    "execution": {
     "iopub.execute_input": "2021-12-10T00:24:02.636719Z",
     "iopub.status.busy": "2021-12-10T00:24:02.636113Z",
     "iopub.status.idle": "2021-12-10T00:24:02.651247Z",
     "shell.execute_reply": "2021-12-10T00:24:02.651744Z"
    },
    "papermill": {
     "duration": 0.050059,
     "end_time": "2021-12-10T00:24:02.651901",
     "exception": false,
     "start_time": "2021-12-10T00:24:02.601842",
     "status": "completed"
    },
    "tags": []
   },
   "outputs": [],
   "source": [
    "nn_learner = Learner(loss, model_nn, opt, config.num_epochs)\n",
    "acc_nn = ClfCallback(nn_learner, config.bs, training_data_x , testing_data_x, training_data_y, testing_data_y)\n",
    "nn_learner.set_callbacks([acc_nn])"
   ]
  },
  {
   "cell_type": "code",
   "execution_count": 21,
   "id": "877b6cc7",
   "metadata": {
    "execution": {
     "iopub.execute_input": "2021-12-10T00:24:02.720436Z",
     "iopub.status.busy": "2021-12-10T00:24:02.719831Z",
     "iopub.status.idle": "2021-12-10T00:24:02.733172Z",
     "shell.execute_reply": "2021-12-10T00:24:02.733655Z"
    },
    "papermill": {
     "duration": 0.050501,
     "end_time": "2021-12-10T00:24:02.733808",
     "exception": false,
     "start_time": "2021-12-10T00:24:02.683307",
     "status": "completed"
    },
    "tags": []
   },
   "outputs": [],
   "source": [
    "lr_learner = Learner(loss, model_lr, opt, config.num_epochs)\n",
    "acc_lr = ClfCallback(lr_learner, config.bs, training_data_x , testing_data_x, training_data_y, testing_data_y)\n",
    "lr_learner.set_callbacks([acc_lr])"
   ]
  },
  {
   "cell_type": "code",
   "execution_count": 22,
   "id": "d9b133c3",
   "metadata": {
    "execution": {
     "iopub.execute_input": "2021-12-10T00:24:02.801194Z",
     "iopub.status.busy": "2021-12-10T00:24:02.800592Z",
     "iopub.status.idle": "2021-12-10T00:25:32.608986Z",
     "shell.execute_reply": "2021-12-10T00:25:32.610016Z"
    },
    "papermill": {
     "duration": 89.844808,
     "end_time": "2021-12-10T00:25:32.610190",
     "exception": false,
     "start_time": "2021-12-10T00:24:02.765382",
     "status": "completed"
    },
    "tags": []
   },
   "outputs": [
    {
     "name": "stdout",
     "output_type": "stream",
     "text": [
      "Epoch 0, Loss 0.2516\n",
      "Training Accuracy: 0.4932, Testing Accuracy: 0.4985\n",
      "\n"
     ]
    },
    {
     "name": "stdout",
     "output_type": "stream",
     "text": [
      "Epoch 10, Loss 0.2171\n",
      "Training Accuracy: 0.8230, Testing Accuracy: 0.8327\n",
      "\n"
     ]
    },
    {
     "name": "stdout",
     "output_type": "stream",
     "text": [
      "Epoch 20, Loss 0.1235\n",
      "Training Accuracy: 0.8927, Testing Accuracy: 0.9027\n",
      "\n"
     ]
    },
    {
     "name": "stdout",
     "output_type": "stream",
     "text": [
      "Epoch 30, Loss 0.0718\n",
      "Training Accuracy: 0.9225, Testing Accuracy: 0.9350\n",
      "\n"
     ]
    },
    {
     "name": "stdout",
     "output_type": "stream",
     "text": [
      "Epoch 40, Loss 0.0532\n",
      "Training Accuracy: 0.9402, Testing Accuracy: 0.9526\n",
      "\n"
     ]
    },
    {
     "name": "stdout",
     "output_type": "stream",
     "text": [
      "Epoch 50, Loss 0.0441\n",
      "Training Accuracy: 0.9496, Testing Accuracy: 0.9632\n",
      "\n"
     ]
    },
    {
     "name": "stdout",
     "output_type": "stream",
     "text": [
      "Epoch 60, Loss 0.039\n",
      "Training Accuracy: 0.9543, Testing Accuracy: 0.9647\n",
      "\n"
     ]
    },
    {
     "name": "stdout",
     "output_type": "stream",
     "text": [
      "Epoch 70, Loss 0.0357\n",
      "Training Accuracy: 0.9580, Testing Accuracy: 0.9657\n",
      "\n"
     ]
    },
    {
     "name": "stdout",
     "output_type": "stream",
     "text": [
      "Epoch 80, Loss 0.0334\n",
      "Training Accuracy: 0.9605, Testing Accuracy: 0.9677\n",
      "\n"
     ]
    },
    {
     "name": "stdout",
     "output_type": "stream",
     "text": [
      "Epoch 90, Loss 0.0316\n",
      "Training Accuracy: 0.9621, Testing Accuracy: 0.9693\n",
      "\n"
     ]
    },
    {
     "name": "stdout",
     "output_type": "stream",
     "text": [
      "Epoch 100, Loss 0.0301\n",
      "Training Accuracy: 0.9638, Testing Accuracy: 0.9693\n",
      "\n"
     ]
    },
    {
     "name": "stdout",
     "output_type": "stream",
     "text": [
      "Epoch 110, Loss 0.0289\n",
      "Training Accuracy: 0.9658, Testing Accuracy: 0.9698\n",
      "\n"
     ]
    },
    {
     "name": "stdout",
     "output_type": "stream",
     "text": [
      "Epoch 120, Loss 0.0278\n",
      "Training Accuracy: 0.9675, Testing Accuracy: 0.9698\n",
      "\n"
     ]
    },
    {
     "name": "stdout",
     "output_type": "stream",
     "text": [
      "Epoch 130, Loss 0.0269\n",
      "Training Accuracy: 0.9685, Testing Accuracy: 0.9713\n",
      "\n"
     ]
    },
    {
     "name": "stdout",
     "output_type": "stream",
     "text": [
      "Epoch 140, Loss 0.0261\n",
      "Training Accuracy: 0.9699, Testing Accuracy: 0.9713\n",
      "\n"
     ]
    },
    {
     "name": "stdout",
     "output_type": "stream",
     "text": [
      "Epoch 150, Loss 0.0253\n",
      "Training Accuracy: 0.9707, Testing Accuracy: 0.9723\n",
      "\n"
     ]
    },
    {
     "name": "stdout",
     "output_type": "stream",
     "text": [
      "Epoch 160, Loss 0.0247\n",
      "Training Accuracy: 0.9716, Testing Accuracy: 0.9718\n",
      "\n"
     ]
    },
    {
     "name": "stdout",
     "output_type": "stream",
     "text": [
      "Epoch 170, Loss 0.024\n",
      "Training Accuracy: 0.9721, Testing Accuracy: 0.9723\n",
      "\n"
     ]
    },
    {
     "name": "stdout",
     "output_type": "stream",
     "text": [
      "Epoch 180, Loss 0.0235\n",
      "Training Accuracy: 0.9730, Testing Accuracy: 0.9728\n",
      "\n"
     ]
    },
    {
     "name": "stdout",
     "output_type": "stream",
     "text": [
      "Epoch 190, Loss 0.0229\n",
      "Training Accuracy: 0.9737, Testing Accuracy: 0.9738\n",
      "\n"
     ]
    },
    {
     "name": "stdout",
     "output_type": "stream",
     "text": [
      "Epoch 200, Loss 0.0224\n",
      "Training Accuracy: 0.9743, Testing Accuracy: 0.9753\n",
      "\n"
     ]
    },
    {
     "name": "stdout",
     "output_type": "stream",
     "text": [
      "Epoch 210, Loss 0.0219\n",
      "Training Accuracy: 0.9745, Testing Accuracy: 0.9753\n",
      "\n"
     ]
    },
    {
     "name": "stdout",
     "output_type": "stream",
     "text": [
      "Epoch 220, Loss 0.0215\n",
      "Training Accuracy: 0.9751, Testing Accuracy: 0.9748\n",
      "\n"
     ]
    },
    {
     "name": "stdout",
     "output_type": "stream",
     "text": [
      "Epoch 230, Loss 0.021\n",
      "Training Accuracy: 0.9757, Testing Accuracy: 0.9763\n",
      "\n"
     ]
    },
    {
     "name": "stdout",
     "output_type": "stream",
     "text": [
      "Epoch 240, Loss 0.0206\n",
      "Training Accuracy: 0.9764, Testing Accuracy: 0.9763\n",
      "\n"
     ]
    },
    {
     "data": {
      "text/plain": [
       "0.07961502741427096"
      ]
     },
     "execution_count": 22,
     "metadata": {},
     "output_type": "execute_result"
    }
   ],
   "source": [
    "nn_learner.train_loop(dl)"
   ]
  },
  {
   "cell_type": "code",
   "execution_count": 23,
   "id": "e0163366",
   "metadata": {
    "execution": {
     "iopub.execute_input": "2021-12-10T00:25:32.704705Z",
     "iopub.status.busy": "2021-12-10T00:25:32.704083Z",
     "iopub.status.idle": "2021-12-10T00:25:48.670034Z",
     "shell.execute_reply": "2021-12-10T00:25:48.670895Z"
    },
    "papermill": {
     "duration": 16.020426,
     "end_time": "2021-12-10T00:25:48.671092",
     "exception": false,
     "start_time": "2021-12-10T00:25:32.650666",
     "status": "completed"
    },
    "tags": []
   },
   "outputs": [
    {
     "name": "stdout",
     "output_type": "stream",
     "text": [
      "Epoch 0, Loss 0.2362\n",
      "Training Accuracy: 0.7132, Testing Accuracy: 0.6971\n",
      "\n"
     ]
    },
    {
     "name": "stdout",
     "output_type": "stream",
     "text": [
      "Epoch 10, Loss 0.0996\n",
      "Training Accuracy: 0.9158, Testing Accuracy: 0.9244\n",
      "\n"
     ]
    },
    {
     "name": "stdout",
     "output_type": "stream",
     "text": [
      "Epoch 20, Loss 0.0773\n",
      "Training Accuracy: 0.9303, Testing Accuracy: 0.9410\n",
      "\n"
     ]
    },
    {
     "name": "stdout",
     "output_type": "stream",
     "text": [
      "Epoch 30, Loss 0.0671\n",
      "Training Accuracy: 0.9380, Testing Accuracy: 0.9486\n",
      "\n"
     ]
    },
    {
     "name": "stdout",
     "output_type": "stream",
     "text": [
      "Epoch 40, Loss 0.0608\n",
      "Training Accuracy: 0.9417, Testing Accuracy: 0.9511\n",
      "\n"
     ]
    },
    {
     "name": "stdout",
     "output_type": "stream",
     "text": [
      "Epoch 50, Loss 0.0565\n",
      "Training Accuracy: 0.9448, Testing Accuracy: 0.9526\n",
      "\n"
     ]
    },
    {
     "name": "stdout",
     "output_type": "stream",
     "text": [
      "Epoch 60, Loss 0.0534\n",
      "Training Accuracy: 0.9466, Testing Accuracy: 0.9561\n",
      "\n"
     ]
    },
    {
     "name": "stdout",
     "output_type": "stream",
     "text": [
      "Epoch 70, Loss 0.0509\n",
      "Training Accuracy: 0.9478, Testing Accuracy: 0.9582\n",
      "\n"
     ]
    },
    {
     "name": "stdout",
     "output_type": "stream",
     "text": [
      "Epoch 80, Loss 0.0489\n",
      "Training Accuracy: 0.9493, Testing Accuracy: 0.9587\n",
      "\n"
     ]
    },
    {
     "name": "stdout",
     "output_type": "stream",
     "text": [
      "Epoch 90, Loss 0.0473\n",
      "Training Accuracy: 0.9507, Testing Accuracy: 0.9597\n",
      "\n"
     ]
    },
    {
     "name": "stdout",
     "output_type": "stream",
     "text": [
      "Epoch 100, Loss 0.0459\n",
      "Training Accuracy: 0.9519, Testing Accuracy: 0.9617\n",
      "\n"
     ]
    },
    {
     "name": "stdout",
     "output_type": "stream",
     "text": [
      "Epoch 110, Loss 0.0447\n",
      "Training Accuracy: 0.9533, Testing Accuracy: 0.9622\n",
      "\n"
     ]
    },
    {
     "name": "stdout",
     "output_type": "stream",
     "text": [
      "Epoch 120, Loss 0.0437\n",
      "Training Accuracy: 0.9540, Testing Accuracy: 0.9627\n",
      "\n"
     ]
    },
    {
     "name": "stdout",
     "output_type": "stream",
     "text": [
      "Epoch 130, Loss 0.0427\n",
      "Training Accuracy: 0.9543, Testing Accuracy: 0.9632\n",
      "\n"
     ]
    },
    {
     "name": "stdout",
     "output_type": "stream",
     "text": [
      "Epoch 140, Loss 0.0419\n",
      "Training Accuracy: 0.9557, Testing Accuracy: 0.9647\n",
      "\n"
     ]
    },
    {
     "name": "stdout",
     "output_type": "stream",
     "text": [
      "Epoch 150, Loss 0.0412\n",
      "Training Accuracy: 0.9567, Testing Accuracy: 0.9652\n",
      "\n"
     ]
    },
    {
     "name": "stdout",
     "output_type": "stream",
     "text": [
      "Epoch 160, Loss 0.0405\n",
      "Training Accuracy: 0.9571, Testing Accuracy: 0.9662\n",
      "\n"
     ]
    },
    {
     "name": "stdout",
     "output_type": "stream",
     "text": [
      "Epoch 170, Loss 0.0399\n",
      "Training Accuracy: 0.9579, Testing Accuracy: 0.9667\n",
      "\n"
     ]
    },
    {
     "name": "stdout",
     "output_type": "stream",
     "text": [
      "Epoch 180, Loss 0.0394\n",
      "Training Accuracy: 0.9580, Testing Accuracy: 0.9667\n",
      "\n"
     ]
    },
    {
     "name": "stdout",
     "output_type": "stream",
     "text": [
      "Epoch 190, Loss 0.0389\n",
      "Training Accuracy: 0.9587, Testing Accuracy: 0.9667\n",
      "\n"
     ]
    },
    {
     "name": "stdout",
     "output_type": "stream",
     "text": [
      "Epoch 200, Loss 0.0384\n",
      "Training Accuracy: 0.9589, Testing Accuracy: 0.9667\n",
      "\n"
     ]
    },
    {
     "name": "stdout",
     "output_type": "stream",
     "text": [
      "Epoch 210, Loss 0.0379\n",
      "Training Accuracy: 0.9591, Testing Accuracy: 0.9667\n",
      "\n"
     ]
    },
    {
     "name": "stdout",
     "output_type": "stream",
     "text": [
      "Epoch 220, Loss 0.0375\n",
      "Training Accuracy: 0.9594, Testing Accuracy: 0.9667\n",
      "\n"
     ]
    },
    {
     "name": "stdout",
     "output_type": "stream",
     "text": [
      "Epoch 230, Loss 0.0372\n",
      "Training Accuracy: 0.9603, Testing Accuracy: 0.9672\n",
      "\n"
     ]
    },
    {
     "name": "stdout",
     "output_type": "stream",
     "text": [
      "Epoch 240, Loss 0.0368\n",
      "Training Accuracy: 0.9606, Testing Accuracy: 0.9667\n",
      "\n"
     ]
    },
    {
     "data": {
      "text/plain": [
       "0.04441233276444294"
      ]
     },
     "execution_count": 23,
     "metadata": {},
     "output_type": "execute_result"
    }
   ],
   "source": [
    "lr_learner.train_loop(dl)"
   ]
  },
  {
   "cell_type": "code",
   "execution_count": 24,
   "id": "ca410940",
   "metadata": {
    "execution": {
     "iopub.execute_input": "2021-12-10T00:25:48.780736Z",
     "iopub.status.busy": "2021-12-10T00:25:48.780046Z",
     "iopub.status.idle": "2021-12-10T00:25:49.038275Z",
     "shell.execute_reply": "2021-12-10T00:25:49.037739Z"
    },
    "papermill": {
     "duration": 0.318963,
     "end_time": "2021-12-10T00:25:49.038411",
     "exception": false,
     "start_time": "2021-12-10T00:25:48.719448",
     "status": "completed"
    },
    "tags": []
   },
   "outputs": [
    {
     "data": {
      "text/plain": [
       "<matplotlib.legend.Legend at 0x7f6432494c88>"
      ]
     },
     "execution_count": 24,
     "metadata": {},
     "output_type": "execute_result"
    },
    {
     "data": {
      "image/png": "[encoded data removed]",
      "text/plain": [
       "<Figure size 1080x720 with 1 Axes>"
      ]
     },
     "metadata": {
      "needs_background": "light"
     },
     "output_type": "display_data"
    }
   ],
   "source": [
    "#comparing the results of NN and LR\n",
    "plt.figure(figsize=(15,10))\n",
    "\n",
    "# Neural Network plots\n",
    "plt.plot(acc_nn.accuracies, 'r-', label = \"Training Accuracies - NN\")\n",
    "plt.plot(acc_nn.test_accuracies, 'g-', label = \"Testing Accuracies - NN\")\n",
    "\n",
    "# Logistic Regression plots\n",
    "plt.plot(acc_lr.accuracies, 'k-', label = \"Training Accuracies - LR\")\n",
    "plt.plot(acc_lr.test_accuracies, 'b-', label = \"Testing Accuracies - LR\")\n",
    "plt.legend()"
   ]
  },
  {
   "cell_type": "markdown",
   "id": "80dfb35c",
   "metadata": {
    "papermill": {
     "duration": 0.048286,
     "end_time": "2021-12-10T00:25:49.137010",
     "exception": false,
     "start_time": "2021-12-10T00:25:49.088724",
     "status": "completed"
    },
    "tags": []
   },
   "source": [
    "#### Plotting the outputs of this layer of the NN.\n"
   ]
  },
  {
   "cell_type": "code",
   "execution_count": 25,
   "id": "45eb2ff5",
   "metadata": {
    "execution": {
     "iopub.execute_input": "2021-12-10T00:25:49.240065Z",
     "iopub.status.busy": "2021-12-10T00:25:49.239437Z",
     "iopub.status.idle": "2021-12-10T00:25:49.260957Z",
     "shell.execute_reply": "2021-12-10T00:25:49.261481Z"
    },
    "papermill": {
     "duration": 0.076432,
     "end_time": "2021-12-10T00:25:49.261642",
     "exception": false,
     "start_time": "2021-12-10T00:25:49.185210",
     "status": "completed"
    },
    "tags": []
   },
   "outputs": [],
   "source": [
    "new_model = Model(layers[:-2])\n",
    "testing_plot = new_model(testing_data_x)"
   ]
  },
  {
   "cell_type": "code",
   "execution_count": 26,
   "id": "4c0a5485",
   "metadata": {
    "execution": {
     "iopub.execute_input": "2021-12-10T00:25:49.368203Z",
     "iopub.status.busy": "2021-12-10T00:25:49.367199Z",
     "iopub.status.idle": "2021-12-10T00:25:49.603859Z",
     "shell.execute_reply": "2021-12-10T00:25:49.603351Z"
    },
    "papermill": {
     "duration": 0.293455,
     "end_time": "2021-12-10T00:25:49.604001",
     "exception": false,
     "start_time": "2021-12-10T00:25:49.310546",
     "status": "completed"
    },
    "tags": []
   },
   "outputs": [
    {
     "data": {
      "text/plain": [
       "Text(0.5, 1.0, 'Outputs')"
      ]
     },
     "execution_count": 26,
     "metadata": {},
     "output_type": "execute_result"
    },
    {
     "data": {
      "image/png": "[encoded data removed]",
      "text/plain": [
       "<Figure size 576x504 with 1 Axes>"
      ]
     },
     "metadata": {
      "needs_background": "light"
     },
     "output_type": "display_data"
    }
   ],
   "source": [
    "# Plotting the scatter plot of points and color coding by class\n",
    "plt.figure(figsize=(8,7))\n",
    "plt.scatter(testing_plot[:,0], testing_plot[:,1], alpha = 0.1, c = y_test.ravel());\n",
    "plt.title('Outputs')"
   ]
  },
  {
   "cell_type": "markdown",
   "id": "a74fcf8f",
   "metadata": {
    "papermill": {
     "duration": 0.050691,
     "end_time": "2021-12-10T00:25:49.706233",
     "exception": false,
     "start_time": "2021-12-10T00:25:49.655542",
     "status": "completed"
    },
    "tags": []
   },
   "source": [
    "Probability contours"
   ]
  },
  {
   "cell_type": "code",
   "execution_count": 27,
   "id": "d0afc8e3",
   "metadata": {
    "execution": {
     "iopub.execute_input": "2021-12-10T00:25:49.813656Z",
     "iopub.status.busy": "2021-12-10T00:25:49.813035Z",
     "iopub.status.idle": "2021-12-10T00:25:49.826658Z",
     "shell.execute_reply": "2021-12-10T00:25:49.826133Z"
    },
    "papermill": {
     "duration": 0.069532,
     "end_time": "2021-12-10T00:25:49.826790",
     "exception": false,
     "start_time": "2021-12-10T00:25:49.757258",
     "status": "completed"
    },
    "tags": []
   },
   "outputs": [],
   "source": [
    "model_prob = Model(layers[-2:]) "
   ]
  },
  {
   "cell_type": "code",
   "execution_count": 28,
   "id": "9b96e238",
   "metadata": {
    "execution": {
     "iopub.execute_input": "2021-12-10T00:25:49.966272Z",
     "iopub.status.busy": "2021-12-10T00:25:49.965330Z",
     "iopub.status.idle": "2021-12-10T00:25:49.981623Z",
     "shell.execute_reply": "2021-12-10T00:25:49.982119Z"
    },
    "papermill": {
     "duration": 0.072714,
     "end_time": "2021-12-10T00:25:49.982280",
     "exception": false,
     "start_time": "2021-12-10T00:25:49.909566",
     "status": "completed"
    },
    "tags": []
   },
   "outputs": [],
   "source": [
    "#creating the x and y ranges according to the above generated plot.\n",
    "x_range = np.linspace(-4, 1, 100) \n",
    "y_range = np.linspace(-6, 6, 100) \n",
    "x_grid, y_grid = np.meshgrid(x_range, y_range) # x_grid and y_grig are of size 100 X 100\n",
    "\n",
    "# converting x_grid and y_grid to continuous arrays\n",
    "x_gridflat = np.ravel(x_grid)\n",
    "y_gridflat = np.ravel(y_grid)\n",
    "\n",
    "# The last layer of the current model takes two columns as input. Hence transpose of np.vstack() is required.\n",
    "X = np.vstack((x_gridflat, y_gridflat)).T\n",
    "\n",
    "prob_contour = model_prob(X).reshape(100,100) "
   ]
  },
  {
   "cell_type": "code",
   "execution_count": 29,
   "id": "da72499a",
   "metadata": {
    "execution": {
     "iopub.execute_input": "2021-12-10T00:25:50.100456Z",
     "iopub.status.busy": "2021-12-10T00:25:50.099812Z",
     "iopub.status.idle": "2021-12-10T00:25:50.382141Z",
     "shell.execute_reply": "2021-12-10T00:25:50.381612Z"
    },
    "papermill": {
     "duration": 0.348518,
     "end_time": "2021-12-10T00:25:50.382276",
     "exception": false,
     "start_time": "2021-12-10T00:25:50.033758",
     "status": "completed"
    },
    "tags": []
   },
   "outputs": [
    {
     "data": {
      "image/png": "[encoded data removed]",
      "text/plain": [
       "<Figure size 720x648 with 1 Axes>"
      ]
     },
     "metadata": {
      "needs_background": "light"
     },
     "output_type": "display_data"
    }
   ],
   "source": [
    "plt.figure(figsize=(10,9))\n",
    "plt.scatter(testing_plot[:,0], testing_plot[:,1], alpha = 0.1, c = y_test.ravel())\n",
    "contours = plt.contour(x_grid,y_grid,prob_contour)\n",
    "plt.title('Probability Contours')\n",
    "plt.clabel(contours, inline = True );"
   ]
  },
  {
   "cell_type": "code",
   "execution_count": null,
   "id": "e81b4ac7",
   "metadata": {
    "papermill": {
     "duration": 0.053789,
     "end_time": "2021-12-10T00:25:50.490715",
     "exception": false,
     "start_time": "2021-12-10T00:25:50.436926",
     "status": "completed"
    },
    "tags": []
   },
   "outputs": [],
   "source": []
  }
 ],
 "metadata": {
  "kernelspec": {
   "display_name": "Python 3",
   "language": "python",
   "name": "python3"
  },
  "language_info": {
   "codemirror_mode": {
    "name": "ipython",
    "version": 3
   },
   "file_extension": ".py",
   "mimetype": "text/x-python",
   "name": "python",
   "nbconvert_exporter": "python",
   "pygments_lexer": "ipython3",
   "version": "3.6.15"
  },
  "papermill": {
   "default_parameters": {},
   "duration": 115.176914,
   "end_time": "2021-12-10T00:25:50.955002",
   "environment_variables": {},
   "exception": null,
   "input_path": "2020-08-11-part2.ipynb",
   "output_path": "2020-08-11-part2.ipynb",
   "parameters": {},
   "start_time": "2021-12-10T00:23:55.778088",
   "version": "2.3.3"
  }
 },
 "nbformat": 4,
 "nbformat_minor": 5
}