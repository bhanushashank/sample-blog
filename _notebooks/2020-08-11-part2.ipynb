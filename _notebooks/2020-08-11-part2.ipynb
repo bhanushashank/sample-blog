{
 "cells": [
  {
   "cell_type": "markdown",
   "id": "98380cd3",
   "metadata": {
    "papermill": {
     "duration": 0.028839,
     "end_time": "2022-01-26T00:24:42.952171",
     "exception": false,
     "start_time": "2022-01-26T00:24:42.923332",
     "status": "completed"
    },
    "tags": []
   },
   "source": [
    "# Distinguish Your Own Digits (DYOD)"
   ]
  },
  {
   "cell_type": "markdown",
   "id": "ef31240d",
   "metadata": {
    "papermill": {
     "duration": 0.024429,
     "end_time": "2022-01-26T00:24:43.001508",
     "exception": false,
     "start_time": "2022-01-26T00:24:42.977079",
     "status": "completed"
    },
    "tags": []
   },
   "source": [
    "You are going to write a classifier that distinguishes between the number 3 and number 8."
   ]
  },
  {
   "cell_type": "code",
   "execution_count": 1,
   "id": "b15c8646",
   "metadata": {
    "execution": {
     "iopub.execute_input": "2022-01-26T00:24:43.063924Z",
     "iopub.status.busy": "2022-01-26T00:24:43.063336Z",
     "iopub.status.idle": "2022-01-26T00:24:43.074202Z",
     "shell.execute_reply": "2022-01-26T00:24:43.073732Z"
    },
    "papermill": {
     "duration": 0.047352,
     "end_time": "2022-01-26T00:24:43.074341",
     "exception": false,
     "start_time": "2022-01-26T00:24:43.026989",
     "status": "completed"
    },
    "tags": []
   },
   "outputs": [],
   "source": [
    "%load_ext autoreload\n",
    "%autoreload 2"
   ]
  },
  {
   "cell_type": "code",
   "execution_count": 2,
   "id": "22ef38dc",
   "metadata": {
    "execution": {
     "iopub.execute_input": "2022-01-26T00:24:43.128126Z",
     "iopub.status.busy": "2022-01-26T00:24:43.127553Z",
     "iopub.status.idle": "2022-01-26T00:24:43.751159Z",
     "shell.execute_reply": "2022-01-26T00:24:43.751659Z"
    },
    "papermill": {
     "duration": 0.652746,
     "end_time": "2022-01-26T00:24:43.751830",
     "exception": false,
     "start_time": "2022-01-26T00:24:43.099084",
     "status": "completed"
    },
    "tags": []
   },
   "outputs": [],
   "source": [
    "%matplotlib inline\n",
    "import numpy as np\n",
    "import matplotlib.pyplot as plt\n",
    "import pandas as pd"
   ]
  },
  {
   "cell_type": "markdown",
   "id": "ba036198",
   "metadata": {
    "papermill": {
     "duration": 0.024443,
     "end_time": "2022-01-26T00:24:43.800937",
     "exception": false,
     "start_time": "2022-01-26T00:24:43.776494",
     "status": "completed"
    },
    "tags": []
   },
   "source": [
    "From the command line run `pip install mnist`. This is a library that will help you bring down the mnist dataset. If you run this from a notebook, you need to put  `!pip install mnist` in a cell by itself."
   ]
  },
  {
   "cell_type": "code",
   "execution_count": 3,
   "id": "bb6ad8a1",
   "metadata": {
    "execution": {
     "iopub.execute_input": "2022-01-26T00:24:43.862474Z",
     "iopub.status.busy": "2022-01-26T00:24:43.861907Z",
     "iopub.status.idle": "2022-01-26T00:24:45.684172Z",
     "shell.execute_reply": "2022-01-26T00:24:45.683647Z"
    },
    "papermill": {
     "duration": 1.859423,
     "end_time": "2022-01-26T00:24:45.684308",
     "exception": false,
     "start_time": "2022-01-26T00:24:43.824885",
     "status": "completed"
    },
    "tags": []
   },
   "outputs": [
    {
     "name": "stdout",
     "output_type": "stream",
     "text": [
      "Collecting mnist\r\n"
     ]
    },
    {
     "name": "stdout",
     "output_type": "stream",
     "text": [
      "  Downloading mnist-0.2.2-py2.py3-none-any.whl (3.5 kB)\r\n",
      "Requirement already satisfied: numpy in /opt/hostedtoolcache/Python/3.6.15/x64/lib/python3.6/site-packages (from mnist) (1.19.5)\r\n"
     ]
    },
    {
     "name": "stdout",
     "output_type": "stream",
     "text": [
      "Installing collected packages: mnist\r\n",
      "Successfully installed mnist-0.2.2\r\n"
     ]
    }
   ],
   "source": [
    "!pip install mnist"
   ]
  },
  {
   "cell_type": "markdown",
   "id": "69df9c9a",
   "metadata": {
    "papermill": {
     "duration": 0.024932,
     "end_time": "2022-01-26T00:24:45.734364",
     "exception": false,
     "start_time": "2022-01-26T00:24:45.709432",
     "status": "completed"
    },
    "tags": []
   },
   "source": [
    "## Preparing the Data"
   ]
  },
  {
   "cell_type": "code",
   "execution_count": 4,
   "id": "7f69d806",
   "metadata": {
    "execution": {
     "iopub.execute_input": "2022-01-26T00:24:45.805209Z",
     "iopub.status.busy": "2022-01-26T00:24:45.802272Z",
     "iopub.status.idle": "2022-01-26T00:24:45.809598Z",
     "shell.execute_reply": "2022-01-26T00:24:45.809124Z"
    },
    "papermill": {
     "duration": 0.050349,
     "end_time": "2022-01-26T00:24:45.809723",
     "exception": false,
     "start_time": "2022-01-26T00:24:45.759374",
     "status": "completed"
    },
    "tags": []
   },
   "outputs": [],
   "source": [
    "import mnist"
   ]
  },
  {
   "cell_type": "code",
   "execution_count": 5,
   "id": "a411e44f",
   "metadata": {
    "execution": {
     "iopub.execute_input": "2022-01-26T00:24:45.873906Z",
     "iopub.status.busy": "2022-01-26T00:24:45.866880Z",
     "iopub.status.idle": "2022-01-26T00:24:46.486017Z",
     "shell.execute_reply": "2022-01-26T00:24:46.485456Z"
    },
    "papermill": {
     "duration": 0.651318,
     "end_time": "2022-01-26T00:24:46.486163",
     "exception": false,
     "start_time": "2022-01-26T00:24:45.834845",
     "status": "completed"
    },
    "tags": []
   },
   "outputs": [],
   "source": [
    "train_images = mnist.train_images()\n",
    "train_labels = mnist.train_labels()"
   ]
  },
  {
   "cell_type": "code",
   "execution_count": 6,
   "id": "dceab3a5",
   "metadata": {
    "execution": {
     "iopub.execute_input": "2022-01-26T00:24:46.548592Z",
     "iopub.status.busy": "2022-01-26T00:24:46.547807Z",
     "iopub.status.idle": "2022-01-26T00:24:46.560207Z",
     "shell.execute_reply": "2022-01-26T00:24:46.559694Z"
    },
    "papermill": {
     "duration": 0.048679,
     "end_time": "2022-01-26T00:24:46.560331",
     "exception": false,
     "start_time": "2022-01-26T00:24:46.511652",
     "status": "completed"
    },
    "tags": []
   },
   "outputs": [
    {
     "data": {
      "text/plain": [
       "((60000, 28, 28), (60000,))"
      ]
     },
     "execution_count": 6,
     "metadata": {},
     "output_type": "execute_result"
    }
   ],
   "source": [
    "train_images.shape, train_labels.shape"
   ]
  },
  {
   "cell_type": "code",
   "execution_count": 7,
   "id": "f50dc2bb",
   "metadata": {
    "execution": {
     "iopub.execute_input": "2022-01-26T00:24:46.625572Z",
     "iopub.status.busy": "2022-01-26T00:24:46.624990Z",
     "iopub.status.idle": "2022-01-26T00:24:46.841793Z",
     "shell.execute_reply": "2022-01-26T00:24:46.841253Z"
    },
    "papermill": {
     "duration": 0.25629,
     "end_time": "2022-01-26T00:24:46.841942",
     "exception": false,
     "start_time": "2022-01-26T00:24:46.585652",
     "status": "completed"
    },
    "tags": []
   },
   "outputs": [],
   "source": [
    "test_images = mnist.test_images()\n",
    "test_labels = mnist.test_labels()"
   ]
  },
  {
   "cell_type": "code",
   "execution_count": 8,
   "id": "fc38cf1b",
   "metadata": {
    "execution": {
     "iopub.execute_input": "2022-01-26T00:24:46.897499Z",
     "iopub.status.busy": "2022-01-26T00:24:46.896916Z",
     "iopub.status.idle": "2022-01-26T00:24:46.912111Z",
     "shell.execute_reply": "2022-01-26T00:24:46.911609Z"
    },
    "papermill": {
     "duration": 0.044417,
     "end_time": "2022-01-26T00:24:46.912241",
     "exception": false,
     "start_time": "2022-01-26T00:24:46.867824",
     "status": "completed"
    },
    "tags": []
   },
   "outputs": [
    {
     "data": {
      "text/plain": [
       "((10000, 28, 28), (10000,))"
      ]
     },
     "execution_count": 8,
     "metadata": {},
     "output_type": "execute_result"
    }
   ],
   "source": [
    "test_images.shape, test_labels.shape"
   ]
  },
  {
   "cell_type": "code",
   "execution_count": 9,
   "id": "f9ed8fe0",
   "metadata": {
    "execution": {
     "iopub.execute_input": "2022-01-26T00:24:46.969824Z",
     "iopub.status.busy": "2022-01-26T00:24:46.969261Z",
     "iopub.status.idle": "2022-01-26T00:24:47.114197Z",
     "shell.execute_reply": "2022-01-26T00:24:47.114625Z"
    },
    "papermill": {
     "duration": 0.176979,
     "end_time": "2022-01-26T00:24:47.114782",
     "exception": false,
     "start_time": "2022-01-26T00:24:46.937803",
     "status": "completed"
    },
    "tags": []
   },
   "outputs": [
    {
     "name": "stdout",
     "output_type": "stream",
     "text": [
      "2\n"
     ]
    },
    {
     "data": {
      "text/plain": [
       "<matplotlib.image.AxesImage at 0x7f3632e12a90>"
      ]
     },
     "execution_count": 9,
     "metadata": {},
     "output_type": "execute_result"
    },
    {
     "data": {
      "image/png": "[encoded data removed]",
      "text/plain": [
       "<Figure size 432x288 with 1 Axes>"
      ]
     },
     "metadata": {
      "needs_background": "light"
     },
     "output_type": "display_data"
    }
   ],
   "source": [
    "image_index = 7776 # You may select anything up to 60,000\n",
    "print(train_labels[image_index]) \n",
    "plt.imshow(train_images[image_index], cmap='Greys')"
   ]
  },
  {
   "cell_type": "markdown",
   "id": "a8d2388d",
   "metadata": {
    "papermill": {
     "duration": 0.026515,
     "end_time": "2022-01-26T00:24:47.168175",
     "exception": false,
     "start_time": "2022-01-26T00:24:47.141660",
     "status": "completed"
    },
    "tags": []
   },
   "source": [
    "## Filter data to get 3 and 8 out"
   ]
  },
  {
   "cell_type": "code",
   "execution_count": 10,
   "id": "776f7fc7",
   "metadata": {
    "execution": {
     "iopub.execute_input": "2022-01-26T00:24:47.226515Z",
     "iopub.status.busy": "2022-01-26T00:24:47.225930Z",
     "iopub.status.idle": "2022-01-26T00:24:47.246863Z",
     "shell.execute_reply": "2022-01-26T00:24:47.247296Z"
    },
    "papermill": {
     "duration": 0.052675,
     "end_time": "2022-01-26T00:24:47.247456",
     "exception": false,
     "start_time": "2022-01-26T00:24:47.194781",
     "status": "completed"
    },
    "tags": []
   },
   "outputs": [],
   "source": [
    "train_filter = np.where((train_labels == 3 ) | (train_labels == 8))\n",
    "test_filter = np.where((test_labels == 3) | (test_labels == 8))\n",
    "X_train, y_train = train_images[train_filter], train_labels[train_filter]\n",
    "X_test, y_test = test_images[test_filter], test_labels[test_filter]"
   ]
  },
  {
   "cell_type": "markdown",
   "id": "948f0b7e",
   "metadata": {
    "papermill": {
     "duration": 0.026424,
     "end_time": "2022-01-26T00:24:47.300666",
     "exception": false,
     "start_time": "2022-01-26T00:24:47.274242",
     "status": "completed"
    },
    "tags": []
   },
   "source": [
    "We normalize the pizel values in the 0 to 1 range"
   ]
  },
  {
   "cell_type": "code",
   "execution_count": 11,
   "id": "ee4c2166",
   "metadata": {
    "execution": {
     "iopub.execute_input": "2022-01-26T00:24:47.363966Z",
     "iopub.status.busy": "2022-01-26T00:24:47.363277Z",
     "iopub.status.idle": "2022-01-26T00:24:47.409922Z",
     "shell.execute_reply": "2022-01-26T00:24:47.410422Z"
    },
    "papermill": {
     "duration": 0.083553,
     "end_time": "2022-01-26T00:24:47.410600",
     "exception": false,
     "start_time": "2022-01-26T00:24:47.327047",
     "status": "completed"
    },
    "tags": []
   },
   "outputs": [],
   "source": [
    "X_train = X_train/255.\n",
    "X_test = X_test/255."
   ]
  },
  {
   "cell_type": "markdown",
   "id": "ddcf4fab",
   "metadata": {
    "papermill": {
     "duration": 0.026847,
     "end_time": "2022-01-26T00:24:47.464908",
     "exception": false,
     "start_time": "2022-01-26T00:24:47.438061",
     "status": "completed"
    },
    "tags": []
   },
   "source": [
    "And setup the labels as 1 (when the digit is 3) and 0 (when the digit is 8)"
   ]
  },
  {
   "cell_type": "code",
   "execution_count": 12,
   "id": "7dc908f2",
   "metadata": {
    "execution": {
     "iopub.execute_input": "2022-01-26T00:24:47.533547Z",
     "iopub.status.busy": "2022-01-26T00:24:47.530414Z",
     "iopub.status.idle": "2022-01-26T00:24:47.538742Z",
     "shell.execute_reply": "2022-01-26T00:24:47.538269Z"
    },
    "papermill": {
     "duration": 0.047408,
     "end_time": "2022-01-26T00:24:47.538869",
     "exception": false,
     "start_time": "2022-01-26T00:24:47.491461",
     "status": "completed"
    },
    "tags": []
   },
   "outputs": [],
   "source": [
    "y_train = 1*(y_train==3)\n",
    "y_test = 1*(y_test==3)"
   ]
  },
  {
   "cell_type": "code",
   "execution_count": 13,
   "id": "01e4e969",
   "metadata": {
    "execution": {
     "iopub.execute_input": "2022-01-26T00:24:47.611015Z",
     "iopub.status.busy": "2022-01-26T00:24:47.597462Z",
     "iopub.status.idle": "2022-01-26T00:24:47.616254Z",
     "shell.execute_reply": "2022-01-26T00:24:47.616654Z"
    },
    "papermill": {
     "duration": 0.051179,
     "end_time": "2022-01-26T00:24:47.616804",
     "exception": false,
     "start_time": "2022-01-26T00:24:47.565625",
     "status": "completed"
    },
    "tags": []
   },
   "outputs": [
    {
     "data": {
      "text/plain": [
       "((11982, 28, 28), (1984, 28, 28))"
      ]
     },
     "execution_count": 13,
     "metadata": {},
     "output_type": "execute_result"
    }
   ],
   "source": [
    "X_train.shape, X_test.shape"
   ]
  },
  {
   "cell_type": "markdown",
   "id": "5ccf3f85",
   "metadata": {
    "papermill": {
     "duration": 0.026789,
     "end_time": "2022-01-26T00:24:47.670576",
     "exception": false,
     "start_time": "2022-01-26T00:24:47.643787",
     "status": "completed"
    },
    "tags": []
   },
   "source": [
    "We reshape the data to flatten the image pixels into a set of features or co-variates:"
   ]
  },
  {
   "cell_type": "code",
   "execution_count": 14,
   "id": "5286a4a3",
   "metadata": {
    "execution": {
     "iopub.execute_input": "2022-01-26T00:24:47.733507Z",
     "iopub.status.busy": "2022-01-26T00:24:47.732918Z",
     "iopub.status.idle": "2022-01-26T00:24:47.745111Z",
     "shell.execute_reply": "2022-01-26T00:24:47.745516Z"
    },
    "papermill": {
     "duration": 0.047873,
     "end_time": "2022-01-26T00:24:47.745671",
     "exception": false,
     "start_time": "2022-01-26T00:24:47.697798",
     "status": "completed"
    },
    "tags": []
   },
   "outputs": [
    {
     "data": {
      "text/plain": [
       "((11982, 784), (1984, 784))"
      ]
     },
     "execution_count": 14,
     "metadata": {},
     "output_type": "execute_result"
    }
   ],
   "source": [
    "X_train = X_train.reshape(X_train.shape[0], -1)\n",
    "X_test = X_test.reshape(X_test.shape[0], -1)\n",
    "X_train.shape, X_test.shape"
   ]
  },
  {
   "cell_type": "code",
   "execution_count": 15,
   "id": "73c5f88a",
   "metadata": {
    "execution": {
     "iopub.execute_input": "2022-01-26T00:24:47.807177Z",
     "iopub.status.busy": "2022-01-26T00:24:47.806601Z",
     "iopub.status.idle": "2022-01-26T00:24:47.824724Z",
     "shell.execute_reply": "2022-01-26T00:24:47.825133Z"
    },
    "papermill": {
     "duration": 0.052389,
     "end_time": "2022-01-26T00:24:47.825286",
     "exception": false,
     "start_time": "2022-01-26T00:24:47.772897",
     "status": "completed"
    },
    "tags": []
   },
   "outputs": [],
   "source": [
    "#Impoting functions from 'Kudzu'\n",
    "from kudzu.model import Model\n",
    "from kudzu.train import Learner\n",
    "from kudzu.optim import GD\n",
    "from kudzu.data import Data, Sampler,Dataloader\n",
    "\n",
    "from kudzu.callbacks import AccCallback\n",
    "from kudzu.callbacks import ClfCallback\n",
    "\n",
    "from kudzu.loss import MSE\n",
    "\n",
    "from kudzu.layer import Sigmoid,Relu\n",
    "from kudzu.layer import Affine"
   ]
  },
  {
   "cell_type": "markdown",
   "id": "bc01172a",
   "metadata": {
    "papermill": {
     "duration": 0.026997,
     "end_time": "2022-01-26T00:24:47.879534",
     "exception": false,
     "start_time": "2022-01-26T00:24:47.852537",
     "status": "completed"
    },
    "tags": []
   },
   "source": [
    "### Let us create a `Config` class, to store important parameters. \n",
    "This class essentially plays the role of a dictionary."
   ]
  },
  {
   "cell_type": "code",
   "execution_count": 16,
   "id": "978281aa",
   "metadata": {
    "execution": {
     "iopub.execute_input": "2022-01-26T00:24:47.940165Z",
     "iopub.status.busy": "2022-01-26T00:24:47.939545Z",
     "iopub.status.idle": "2022-01-26T00:24:47.951392Z",
     "shell.execute_reply": "2022-01-26T00:24:47.950945Z"
    },
    "papermill": {
     "duration": 0.04492,
     "end_time": "2022-01-26T00:24:47.951515",
     "exception": false,
     "start_time": "2022-01-26T00:24:47.906595",
     "status": "completed"
    },
    "tags": []
   },
   "outputs": [],
   "source": [
    "class Config:\n",
    "    pass\n",
    "config = Config()\n",
    "config.lr = 0.001\n",
    "config.num_epochs = 250\n",
    "config.bs = 50"
   ]
  },
  {
   "cell_type": "markdown",
   "id": "1385fa59",
   "metadata": {
    "papermill": {
     "duration": 0.027048,
     "end_time": "2022-01-26T00:24:48.005743",
     "exception": false,
     "start_time": "2022-01-26T00:24:47.978695",
     "status": "completed"
    },
    "tags": []
   },
   "source": [
    "### Running Models with the Training data\n",
    "Details about the network layers:\n",
    "- A first affine layer has 784 inputs and does 100 affine transforms. These are followed by a Relu\n",
    "- A second affine layer has 100 inputs from the 100 activations of the past layer, and does 100 affine transforms. These are followed by a Relu\n",
    "- A third affine layer has 100 activations and does 2 affine transformations to create an embedding for visualization. There is no non-linearity here.\n",
    "- A final \"logistic regression\" which has an affine transform from 2 inputs to 1 output, which is squeezed through a sigmoid.\n"
   ]
  },
  {
   "cell_type": "code",
   "execution_count": 17,
   "id": "2b9c66db",
   "metadata": {
    "execution": {
     "iopub.execute_input": "2022-01-26T00:24:48.070091Z",
     "iopub.status.busy": "2022-01-26T00:24:48.069495Z",
     "iopub.status.idle": "2022-01-26T00:24:48.080121Z",
     "shell.execute_reply": "2022-01-26T00:24:48.079637Z"
    },
    "papermill": {
     "duration": 0.047516,
     "end_time": "2022-01-26T00:24:48.080258",
     "exception": false,
     "start_time": "2022-01-26T00:24:48.032742",
     "status": "completed"
    },
    "tags": []
   },
   "outputs": [],
   "source": [
    "data = Data(X_train, y_train.reshape(-1,1))\n",
    "sampler = Sampler(data, config.bs, shuffle=True)\n",
    "\n",
    "dl = Dataloader(data, sampler)\n",
    "\n",
    "opt = GD(config.lr)\n",
    "loss = MSE()"
   ]
  },
  {
   "cell_type": "code",
   "execution_count": 18,
   "id": "b275e4c2",
   "metadata": {
    "execution": {
     "iopub.execute_input": "2022-01-26T00:24:48.148872Z",
     "iopub.status.busy": "2022-01-26T00:24:48.148279Z",
     "iopub.status.idle": "2022-01-26T00:24:48.155669Z",
     "shell.execute_reply": "2022-01-26T00:24:48.155190Z"
    },
    "papermill": {
     "duration": 0.047853,
     "end_time": "2022-01-26T00:24:48.155796",
     "exception": false,
     "start_time": "2022-01-26T00:24:48.107943",
     "status": "completed"
    },
    "tags": []
   },
   "outputs": [],
   "source": [
    "training_data_x = X_train\n",
    "testing_data_x = X_test\n",
    "training_data_y = y_train.reshape(-1,1)\n",
    "testing_data_y = y_test.reshape(-1,1)"
   ]
  },
  {
   "cell_type": "code",
   "execution_count": 19,
   "id": "76951160",
   "metadata": {
    "execution": {
     "iopub.execute_input": "2022-01-26T00:24:48.220466Z",
     "iopub.status.busy": "2022-01-26T00:24:48.219795Z",
     "iopub.status.idle": "2022-01-26T00:24:48.234354Z",
     "shell.execute_reply": "2022-01-26T00:24:48.233907Z"
    },
    "papermill": {
     "duration": 0.051519,
     "end_time": "2022-01-26T00:24:48.234481",
     "exception": false,
     "start_time": "2022-01-26T00:24:48.182962",
     "status": "completed"
    },
    "tags": []
   },
   "outputs": [
    {
     "name": "stdout",
     "output_type": "stream",
     "text": [
      "xavier\n",
      "xavier\n",
      "xavier\n",
      "xavier\n",
      "xavier\n"
     ]
    }
   ],
   "source": [
    "layers = [Affine(\"first\", 784, 100), Relu(\"first\"), Affine(\"second\", 100, 100), Relu(\"second\"), Affine(\"third\", 100, 2), Affine(\"last\", 2, 1), Sigmoid(\"last\")]\n",
    "model_nn = Model(layers)\n",
    "model_lr = Model([Affine(\"logits\", 784, 1), Sigmoid(\"sigmoid\")])"
   ]
  },
  {
   "cell_type": "code",
   "execution_count": 20,
   "id": "6eede77a",
   "metadata": {
    "execution": {
     "iopub.execute_input": "2022-01-26T00:24:48.298023Z",
     "iopub.status.busy": "2022-01-26T00:24:48.297434Z",
     "iopub.status.idle": "2022-01-26T00:24:48.308438Z",
     "shell.execute_reply": "2022-01-26T00:24:48.307943Z"
    },
    "papermill": {
     "duration": 0.046423,
     "end_time": "2022-01-26T00:24:48.308564",
     "exception": false,
     "start_time": "2022-01-26T00:24:48.262141",
     "status": "completed"
    },
    "tags": []
   },
   "outputs": [],
   "source": [
    "nn_learner = Learner(loss, model_nn, opt, config.num_epochs)\n",
    "acc_nn = ClfCallback(nn_learner, config.bs, training_data_x , testing_data_x, training_data_y, testing_data_y)\n",
    "nn_learner.set_callbacks([acc_nn])"
   ]
  },
  {
   "cell_type": "code",
   "execution_count": 21,
   "id": "877b6cc7",
   "metadata": {
    "execution": {
     "iopub.execute_input": "2022-01-26T00:24:48.366517Z",
     "iopub.status.busy": "2022-01-26T00:24:48.365981Z",
     "iopub.status.idle": "2022-01-26T00:24:48.379962Z",
     "shell.execute_reply": "2022-01-26T00:24:48.380443Z"
    },
    "papermill": {
     "duration": 0.044669,
     "end_time": "2022-01-26T00:24:48.380603",
     "exception": false,
     "start_time": "2022-01-26T00:24:48.335934",
     "status": "completed"
    },
    "tags": []
   },
   "outputs": [],
   "source": [
    "lr_learner = Learner(loss, model_lr, opt, config.num_epochs)\n",
    "acc_lr = ClfCallback(lr_learner, config.bs, training_data_x , testing_data_x, training_data_y, testing_data_y)\n",
    "lr_learner.set_callbacks([acc_lr])"
   ]
  },
  {
   "cell_type": "code",
   "execution_count": 22,
   "id": "d9b133c3",
   "metadata": {
    "execution": {
     "iopub.execute_input": "2022-01-26T00:24:48.454265Z",
     "iopub.status.busy": "2022-01-26T00:24:48.453680Z",
     "iopub.status.idle": "2022-01-26T00:26:11.712313Z",
     "shell.execute_reply": "2022-01-26T00:26:11.713104Z"
    },
    "papermill": {
     "duration": 83.305109,
     "end_time": "2022-01-26T00:26:11.713262",
     "exception": false,
     "start_time": "2022-01-26T00:24:48.408153",
     "status": "completed"
    },
    "tags": []
   },
   "outputs": [
    {
     "name": "stdout",
     "output_type": "stream",
     "text": [
      "Epoch 0, Loss 0.2418\n",
      "Training Accuracy: 0.7175, Testing Accuracy: 0.7067\n",
      "\n"
     ]
    },
    {
     "name": "stdout",
     "output_type": "stream",
     "text": [
      "Epoch 10, Loss 0.0761\n",
      "Training Accuracy: 0.9342, Testing Accuracy: 0.9491\n",
      "\n"
     ]
    },
    {
     "name": "stdout",
     "output_type": "stream",
     "text": [
      "Epoch 20, Loss 0.0499\n",
      "Training Accuracy: 0.9471, Testing Accuracy: 0.9597\n",
      "\n"
     ]
    },
    {
     "name": "stdout",
     "output_type": "stream",
     "text": [
      "Epoch 30, Loss 0.0411\n",
      "Training Accuracy: 0.9533, Testing Accuracy: 0.9642\n",
      "\n"
     ]
    },
    {
     "name": "stdout",
     "output_type": "stream",
     "text": [
      "Epoch 40, Loss 0.0365\n",
      "Training Accuracy: 0.9572, Testing Accuracy: 0.9657\n",
      "\n"
     ]
    },
    {
     "name": "stdout",
     "output_type": "stream",
     "text": [
      "Epoch 50, Loss 0.0335\n",
      "Training Accuracy: 0.9608, Testing Accuracy: 0.9652\n",
      "\n"
     ]
    },
    {
     "name": "stdout",
     "output_type": "stream",
     "text": [
      "Epoch 60, Loss 0.0314\n",
      "Training Accuracy: 0.9639, Testing Accuracy: 0.9652\n",
      "\n"
     ]
    },
    {
     "name": "stdout",
     "output_type": "stream",
     "text": [
      "Epoch 70, Loss 0.0297\n",
      "Training Accuracy: 0.9657, Testing Accuracy: 0.9662\n",
      "\n"
     ]
    },
    {
     "name": "stdout",
     "output_type": "stream",
     "text": [
      "Epoch 80, Loss 0.0284\n",
      "Training Accuracy: 0.9673, Testing Accuracy: 0.9672\n",
      "\n"
     ]
    },
    {
     "name": "stdout",
     "output_type": "stream",
     "text": [
      "Epoch 90, Loss 0.0273\n",
      "Training Accuracy: 0.9682, Testing Accuracy: 0.9667\n",
      "\n"
     ]
    },
    {
     "name": "stdout",
     "output_type": "stream",
     "text": [
      "Epoch 100, Loss 0.0264\n",
      "Training Accuracy: 0.9691, Testing Accuracy: 0.9672\n",
      "\n"
     ]
    },
    {
     "name": "stdout",
     "output_type": "stream",
     "text": [
      "Epoch 110, Loss 0.0256\n",
      "Training Accuracy: 0.9705, Testing Accuracy: 0.9677\n",
      "\n"
     ]
    },
    {
     "name": "stdout",
     "output_type": "stream",
     "text": [
      "Epoch 120, Loss 0.0248\n",
      "Training Accuracy: 0.9713, Testing Accuracy: 0.9677\n",
      "\n"
     ]
    },
    {
     "name": "stdout",
     "output_type": "stream",
     "text": [
      "Epoch 130, Loss 0.0241\n",
      "Training Accuracy: 0.9720, Testing Accuracy: 0.9682\n",
      "\n"
     ]
    },
    {
     "name": "stdout",
     "output_type": "stream",
     "text": [
      "Epoch 140, Loss 0.0235\n",
      "Training Accuracy: 0.9732, Testing Accuracy: 0.9677\n",
      "\n"
     ]
    },
    {
     "name": "stdout",
     "output_type": "stream",
     "text": [
      "Epoch 150, Loss 0.023\n",
      "Training Accuracy: 0.9736, Testing Accuracy: 0.9682\n",
      "\n"
     ]
    },
    {
     "name": "stdout",
     "output_type": "stream",
     "text": [
      "Epoch 160, Loss 0.0224\n",
      "Training Accuracy: 0.9741, Testing Accuracy: 0.9688\n",
      "\n"
     ]
    },
    {
     "name": "stdout",
     "output_type": "stream",
     "text": [
      "Epoch 170, Loss 0.022\n",
      "Training Accuracy: 0.9749, Testing Accuracy: 0.9688\n",
      "\n"
     ]
    },
    {
     "name": "stdout",
     "output_type": "stream",
     "text": [
      "Epoch 180, Loss 0.0215\n",
      "Training Accuracy: 0.9751, Testing Accuracy: 0.9688\n",
      "\n"
     ]
    },
    {
     "name": "stdout",
     "output_type": "stream",
     "text": [
      "Epoch 190, Loss 0.021\n",
      "Training Accuracy: 0.9760, Testing Accuracy: 0.9688\n",
      "\n"
     ]
    },
    {
     "name": "stdout",
     "output_type": "stream",
     "text": [
      "Epoch 200, Loss 0.0206\n",
      "Training Accuracy: 0.9765, Testing Accuracy: 0.9703\n",
      "\n"
     ]
    },
    {
     "name": "stdout",
     "output_type": "stream",
     "text": [
      "Epoch 210, Loss 0.0202\n",
      "Training Accuracy: 0.9775, Testing Accuracy: 0.9718\n",
      "\n"
     ]
    },
    {
     "name": "stdout",
     "output_type": "stream",
     "text": [
      "Epoch 220, Loss 0.0198\n",
      "Training Accuracy: 0.9777, Testing Accuracy: 0.9728\n",
      "\n"
     ]
    },
    {
     "name": "stdout",
     "output_type": "stream",
     "text": [
      "Epoch 230, Loss 0.0195\n",
      "Training Accuracy: 0.9782, Testing Accuracy: 0.9733\n",
      "\n"
     ]
    },
    {
     "name": "stdout",
     "output_type": "stream",
     "text": [
      "Epoch 240, Loss 0.0191\n",
      "Training Accuracy: 0.9786, Testing Accuracy: 0.9728\n",
      "\n"
     ]
    },
    {
     "data": {
      "text/plain": [
       "0.006351316152326482"
      ]
     },
     "execution_count": 22,
     "metadata": {},
     "output_type": "execute_result"
    }
   ],
   "source": [
    "nn_learner.train_loop(dl)"
   ]
  },
  {
   "cell_type": "code",
   "execution_count": 23,
   "id": "e0163366",
   "metadata": {
    "execution": {
     "iopub.execute_input": "2022-01-26T00:26:11.797501Z",
     "iopub.status.busy": "2022-01-26T00:26:11.796799Z",
     "iopub.status.idle": "2022-01-26T00:26:27.040306Z",
     "shell.execute_reply": "2022-01-26T00:26:27.041065Z"
    },
    "papermill": {
     "duration": 15.292004,
     "end_time": "2022-01-26T00:26:27.041220",
     "exception": false,
     "start_time": "2022-01-26T00:26:11.749216",
     "status": "completed"
    },
    "tags": []
   },
   "outputs": [
    {
     "name": "stdout",
     "output_type": "stream",
     "text": [
      "Epoch 0, Loss 0.2157\n",
      "Training Accuracy: 0.7246, Testing Accuracy: 0.7298\n",
      "\n"
     ]
    },
    {
     "name": "stdout",
     "output_type": "stream",
     "text": [
      "Epoch 10, Loss 0.1061\n",
      "Training Accuracy: 0.8953, Testing Accuracy: 0.9088\n",
      "\n"
     ]
    },
    {
     "name": "stdout",
     "output_type": "stream",
     "text": [
      "Epoch 20, Loss 0.0816\n",
      "Training Accuracy: 0.9217, Testing Accuracy: 0.9284\n",
      "\n"
     ]
    },
    {
     "name": "stdout",
     "output_type": "stream",
     "text": [
      "Epoch 30, Loss 0.0701\n",
      "Training Accuracy: 0.9327, Testing Accuracy: 0.9405\n",
      "\n"
     ]
    },
    {
     "name": "stdout",
     "output_type": "stream",
     "text": [
      "Epoch 40, Loss 0.0632\n",
      "Training Accuracy: 0.9389, Testing Accuracy: 0.9471\n",
      "\n"
     ]
    },
    {
     "name": "stdout",
     "output_type": "stream",
     "text": [
      "Epoch 50, Loss 0.0585\n",
      "Training Accuracy: 0.9417, Testing Accuracy: 0.9516\n",
      "\n"
     ]
    },
    {
     "name": "stdout",
     "output_type": "stream",
     "text": [
      "Epoch 60, Loss 0.055\n",
      "Training Accuracy: 0.9445, Testing Accuracy: 0.9556\n",
      "\n"
     ]
    },
    {
     "name": "stdout",
     "output_type": "stream",
     "text": [
      "Epoch 70, Loss 0.0524\n",
      "Training Accuracy: 0.9466, Testing Accuracy: 0.9577\n",
      "\n"
     ]
    },
    {
     "name": "stdout",
     "output_type": "stream",
     "text": [
      "Epoch 80, Loss 0.0502\n",
      "Training Accuracy: 0.9487, Testing Accuracy: 0.9587\n",
      "\n"
     ]
    },
    {
     "name": "stdout",
     "output_type": "stream",
     "text": [
      "Epoch 90, Loss 0.0484\n",
      "Training Accuracy: 0.9503, Testing Accuracy: 0.9587\n",
      "\n"
     ]
    },
    {
     "name": "stdout",
     "output_type": "stream",
     "text": [
      "Epoch 100, Loss 0.047\n",
      "Training Accuracy: 0.9513, Testing Accuracy: 0.9582\n",
      "\n"
     ]
    },
    {
     "name": "stdout",
     "output_type": "stream",
     "text": [
      "Epoch 110, Loss 0.0457\n",
      "Training Accuracy: 0.9520, Testing Accuracy: 0.9592\n",
      "\n"
     ]
    },
    {
     "name": "stdout",
     "output_type": "stream",
     "text": [
      "Epoch 120, Loss 0.0446\n",
      "Training Accuracy: 0.9529, Testing Accuracy: 0.9597\n",
      "\n"
     ]
    },
    {
     "name": "stdout",
     "output_type": "stream",
     "text": [
      "Epoch 130, Loss 0.0436\n",
      "Training Accuracy: 0.9536, Testing Accuracy: 0.9607\n",
      "\n"
     ]
    },
    {
     "name": "stdout",
     "output_type": "stream",
     "text": [
      "Epoch 140, Loss 0.0427\n",
      "Training Accuracy: 0.9547, Testing Accuracy: 0.9612\n",
      "\n"
     ]
    },
    {
     "name": "stdout",
     "output_type": "stream",
     "text": [
      "Epoch 150, Loss 0.0419\n",
      "Training Accuracy: 0.9551, Testing Accuracy: 0.9632\n",
      "\n"
     ]
    },
    {
     "name": "stdout",
     "output_type": "stream",
     "text": [
      "Epoch 160, Loss 0.0412\n",
      "Training Accuracy: 0.9558, Testing Accuracy: 0.9637\n",
      "\n"
     ]
    },
    {
     "name": "stdout",
     "output_type": "stream",
     "text": [
      "Epoch 170, Loss 0.0406\n",
      "Training Accuracy: 0.9561, Testing Accuracy: 0.9647\n",
      "\n"
     ]
    },
    {
     "name": "stdout",
     "output_type": "stream",
     "text": [
      "Epoch 180, Loss 0.04\n",
      "Training Accuracy: 0.9570, Testing Accuracy: 0.9647\n",
      "\n"
     ]
    },
    {
     "name": "stdout",
     "output_type": "stream",
     "text": [
      "Epoch 190, Loss 0.0395\n",
      "Training Accuracy: 0.9575, Testing Accuracy: 0.9647\n",
      "\n"
     ]
    },
    {
     "name": "stdout",
     "output_type": "stream",
     "text": [
      "Epoch 200, Loss 0.039\n",
      "Training Accuracy: 0.9580, Testing Accuracy: 0.9652\n",
      "\n"
     ]
    },
    {
     "name": "stdout",
     "output_type": "stream",
     "text": [
      "Epoch 210, Loss 0.0385\n",
      "Training Accuracy: 0.9588, Testing Accuracy: 0.9652\n",
      "\n"
     ]
    },
    {
     "name": "stdout",
     "output_type": "stream",
     "text": [
      "Epoch 220, Loss 0.0381\n",
      "Training Accuracy: 0.9592, Testing Accuracy: 0.9662\n",
      "\n"
     ]
    },
    {
     "name": "stdout",
     "output_type": "stream",
     "text": [
      "Epoch 230, Loss 0.0377\n",
      "Training Accuracy: 0.9600, Testing Accuracy: 0.9667\n",
      "\n"
     ]
    },
    {
     "name": "stdout",
     "output_type": "stream",
     "text": [
      "Epoch 240, Loss 0.0373\n",
      "Training Accuracy: 0.9605, Testing Accuracy: 0.9662\n",
      "\n"
     ]
    },
    {
     "data": {
      "text/plain": [
       "0.024666750774353777"
      ]
     },
     "execution_count": 23,
     "metadata": {},
     "output_type": "execute_result"
    }
   ],
   "source": [
    "lr_learner.train_loop(dl)"
   ]
  },
  {
   "cell_type": "code",
   "execution_count": 24,
   "id": "ca410940",
   "metadata": {
    "execution": {
     "iopub.execute_input": "2022-01-26T00:26:27.133972Z",
     "iopub.status.busy": "2022-01-26T00:26:27.133399Z",
     "iopub.status.idle": "2022-01-26T00:26:27.366837Z",
     "shell.execute_reply": "2022-01-26T00:26:27.367294Z"
    },
    "papermill": {
     "duration": 0.284246,
     "end_time": "2022-01-26T00:26:27.367448",
     "exception": false,
     "start_time": "2022-01-26T00:26:27.083202",
     "status": "completed"
    },
    "tags": []
   },
   "outputs": [
    {
     "data": {
      "text/plain": [
       "<matplotlib.legend.Legend at 0x7f363296dfd0>"
      ]
     },
     "execution_count": 24,
     "metadata": {},
     "output_type": "execute_result"
    },
    {
     "data": {
      "image/png": "[encoded data removed]",
      "text/plain": [
       "<Figure size 1080x720 with 1 Axes>"
      ]
     },
     "metadata": {
      "needs_background": "light"
     },
     "output_type": "display_data"
    }
   ],
   "source": [
    "#comparing the results of NN and LR\n",
    "plt.figure(figsize=(15,10))\n",
    "\n",
    "# Neural Network plots\n",
    "plt.plot(acc_nn.accuracies, 'r-', label = \"Training Accuracies - NN\")\n",
    "plt.plot(acc_nn.test_accuracies, 'g-', label = \"Testing Accuracies - NN\")\n",
    "\n",
    "# Logistic Regression plots\n",
    "plt.plot(acc_lr.accuracies, 'k-', label = \"Training Accuracies - LR\")\n",
    "plt.plot(acc_lr.test_accuracies, 'b-', label = \"Testing Accuracies - LR\")\n",
    "plt.legend()"
   ]
  },
  {
   "cell_type": "markdown",
   "id": "80dfb35c",
   "metadata": {
    "papermill": {
     "duration": 0.042394,
     "end_time": "2022-01-26T00:26:27.452320",
     "exception": false,
     "start_time": "2022-01-26T00:26:27.409926",
     "status": "completed"
    },
    "tags": []
   },
   "source": [
    "#### Plotting the outputs of this layer of the NN.\n"
   ]
  },
  {
   "cell_type": "code",
   "execution_count": 25,
   "id": "45eb2ff5",
   "metadata": {
    "execution": {
     "iopub.execute_input": "2022-01-26T00:26:27.552791Z",
     "iopub.status.busy": "2022-01-26T00:26:27.540740Z",
     "iopub.status.idle": "2022-01-26T00:26:27.568019Z",
     "shell.execute_reply": "2022-01-26T00:26:27.568900Z"
    },
    "papermill": {
     "duration": 0.074675,
     "end_time": "2022-01-26T00:26:27.569067",
     "exception": false,
     "start_time": "2022-01-26T00:26:27.494392",
     "status": "completed"
    },
    "tags": []
   },
   "outputs": [],
   "source": [
    "new_model = Model(layers[:-2])\n",
    "testing_plot = new_model(testing_data_x)"
   ]
  },
  {
   "cell_type": "code",
   "execution_count": 26,
   "id": "4c0a5485",
   "metadata": {
    "execution": {
     "iopub.execute_input": "2022-01-26T00:26:27.661634Z",
     "iopub.status.busy": "2022-01-26T00:26:27.661095Z",
     "iopub.status.idle": "2022-01-26T00:26:27.895483Z",
     "shell.execute_reply": "2022-01-26T00:26:27.894971Z"
    },
    "papermill": {
     "duration": 0.283621,
     "end_time": "2022-01-26T00:26:27.895614",
     "exception": false,
     "start_time": "2022-01-26T00:26:27.611993",
     "status": "completed"
    },
    "tags": []
   },
   "outputs": [
    {
     "data": {
      "text/plain": [
       "Text(0.5, 1.0, 'Outputs')"
      ]
     },
     "execution_count": 26,
     "metadata": {},
     "output_type": "execute_result"
    },
    {
     "data": {
      "image/png": "[encoded data removed]",
      "text/plain": [
       "<Figure size 576x504 with 1 Axes>"
      ]
     },
     "metadata": {
      "needs_background": "light"
     },
     "output_type": "display_data"
    }
   ],
   "source": [
    "# Plotting the scatter plot of points and color coding by class\n",
    "plt.figure(figsize=(8,7))\n",
    "plt.scatter(testing_plot[:,0], testing_plot[:,1], alpha = 0.1, c = y_test.ravel());\n",
    "plt.title('Outputs')"
   ]
  },
  {
   "cell_type": "markdown",
   "id": "a74fcf8f",
   "metadata": {
    "papermill": {
     "duration": 0.045537,
     "end_time": "2022-01-26T00:26:27.986913",
     "exception": false,
     "start_time": "2022-01-26T00:26:27.941376",
     "status": "completed"
    },
    "tags": []
   },
   "source": [
    "Probability contours"
   ]
  },
  {
   "cell_type": "code",
   "execution_count": 27,
   "id": "d0afc8e3",
   "metadata": {
    "execution": {
     "iopub.execute_input": "2022-01-26T00:26:28.083168Z",
     "iopub.status.busy": "2022-01-26T00:26:28.082569Z",
     "iopub.status.idle": "2022-01-26T00:26:28.095901Z",
     "shell.execute_reply": "2022-01-26T00:26:28.095423Z"
    },
    "papermill": {
     "duration": 0.063071,
     "end_time": "2022-01-26T00:26:28.096033",
     "exception": false,
     "start_time": "2022-01-26T00:26:28.032962",
     "status": "completed"
    },
    "tags": []
   },
   "outputs": [],
   "source": [
    "model_prob = Model(layers[-2:]) "
   ]
  },
  {
   "cell_type": "code",
   "execution_count": 28,
   "id": "9b96e238",
   "metadata": {
    "execution": {
     "iopub.execute_input": "2022-01-26T00:26:28.197415Z",
     "iopub.status.busy": "2022-01-26T00:26:28.196846Z",
     "iopub.status.idle": "2022-01-26T00:26:28.208742Z",
     "shell.execute_reply": "2022-01-26T00:26:28.209177Z"
    },
    "papermill": {
     "duration": 0.067416,
     "end_time": "2022-01-26T00:26:28.209337",
     "exception": false,
     "start_time": "2022-01-26T00:26:28.141921",
     "status": "completed"
    },
    "tags": []
   },
   "outputs": [],
   "source": [
    "#creating the x and y ranges according to the above generated plot.\n",
    "x_range = np.linspace(-4, 1, 100) \n",
    "y_range = np.linspace(-6, 6, 100) \n",
    "x_grid, y_grid = np.meshgrid(x_range, y_range) # x_grid and y_grig are of size 100 X 100\n",
    "\n",
    "# converting x_grid and y_grid to continuous arrays\n",
    "x_gridflat = np.ravel(x_grid)\n",
    "y_gridflat = np.ravel(y_grid)\n",
    "\n",
    "# The last layer of the current model takes two columns as input. Hence transpose of np.vstack() is required.\n",
    "X = np.vstack((x_gridflat, y_gridflat)).T\n",
    "\n",
    "prob_contour = model_prob(X).reshape(100,100) "
   ]
  },
  {
   "cell_type": "code",
   "execution_count": 29,
   "id": "da72499a",
   "metadata": {
    "execution": {
     "iopub.execute_input": "2022-01-26T00:26:28.346272Z",
     "iopub.status.busy": "2022-01-26T00:26:28.345647Z",
     "iopub.status.idle": "2022-01-26T00:26:28.587060Z",
     "shell.execute_reply": "2022-01-26T00:26:28.586562Z"
    },
    "papermill": {
     "duration": 0.331411,
     "end_time": "2022-01-26T00:26:28.587197",
     "exception": false,
     "start_time": "2022-01-26T00:26:28.255786",
     "status": "completed"
    },
    "tags": []
   },
   "outputs": [
    {
     "data": {
      "image/png": "[encoded data removed]",
      "text/plain": [
       "<Figure size 720x648 with 1 Axes>"
      ]
     },
     "metadata": {
      "needs_background": "light"
     },
     "output_type": "display_data"
    }
   ],
   "source": [
    "plt.figure(figsize=(10,9))\n",
    "plt.scatter(testing_plot[:,0], testing_plot[:,1], alpha = 0.1, c = y_test.ravel())\n",
    "contours = plt.contour(x_grid,y_grid,prob_contour)\n",
    "plt.title('Probability Contours')\n",
    "plt.clabel(contours, inline = True );"
   ]
  },
  {
   "cell_type": "code",
   "execution_count": null,
   "id": "e81b4ac7",
   "metadata": {
    "papermill": {
     "duration": 0.047431,
     "end_time": "2022-01-26T00:26:28.682869",
     "exception": false,
     "start_time": "2022-01-26T00:26:28.635438",
     "status": "completed"
    },
    "tags": []
   },
   "outputs": [],
   "source": []
  }
 ],
 "metadata": {
  "kernelspec": {
   "display_name": "Python 3",
   "language": "python",
   "name": "python3"
  },
  "language_info": {
   "codemirror_mode": {
    "name": "ipython",
    "version": 3
   },
   "file_extension": ".py",
   "mimetype": "text/x-python",
   "name": "python",
   "nbconvert_exporter": "python",
   "pygments_lexer": "ipython3",
   "version": "3.6.15"
  },
  "papermill": {
   "default_parameters": {},
   "duration": 107.454892,
   "end_time": "2022-01-26T00:26:29.250034",
   "environment_variables": {},
   "exception": null,
   "input_path": "2020-08-11-part2.ipynb",
   "output_path": "2020-08-11-part2.ipynb",
   "parameters": {},
   "start_time": "2022-01-26T00:24:41.795142",
   "version": "2.3.3"
  }
 },
 "nbformat": 4,
 "nbformat_minor": 5
}