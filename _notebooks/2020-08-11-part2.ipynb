{
 "cells": [
  {
   "cell_type": "markdown",
   "id": "98380cd3",
   "metadata": {
    "papermill": {
     "duration": 0.029164,
     "end_time": "2021-10-30T20:07:10.026275",
     "exception": false,
     "start_time": "2021-10-30T20:07:09.997111",
     "status": "completed"
    },
    "tags": []
   },
   "source": [
    "# Distinguish Your Own Digits (DYOD)"
   ]
  },
  {
   "cell_type": "markdown",
   "id": "ef31240d",
   "metadata": {
    "papermill": {
     "duration": 0.024142,
     "end_time": "2021-10-30T20:07:10.075383",
     "exception": false,
     "start_time": "2021-10-30T20:07:10.051241",
     "status": "completed"
    },
    "tags": []
   },
   "source": [
    "You are going to write a classifier that distinguishes between the number 3 and number 8."
   ]
  },
  {
   "cell_type": "code",
   "execution_count": 1,
   "id": "b15c8646",
   "metadata": {
    "execution": {
     "iopub.execute_input": "2021-10-30T20:07:10.137356Z",
     "iopub.status.busy": "2021-10-30T20:07:10.136803Z",
     "iopub.status.idle": "2021-10-30T20:07:10.146837Z",
     "shell.execute_reply": "2021-10-30T20:07:10.147283Z"
    },
    "papermill": {
     "duration": 0.046024,
     "end_time": "2021-10-30T20:07:10.147441",
     "exception": false,
     "start_time": "2021-10-30T20:07:10.101417",
     "status": "completed"
    },
    "tags": []
   },
   "outputs": [],
   "source": [
    "%load_ext autoreload\n",
    "%autoreload 2"
   ]
  },
  {
   "cell_type": "code",
   "execution_count": 2,
   "id": "22ef38dc",
   "metadata": {
    "execution": {
     "iopub.execute_input": "2021-10-30T20:07:10.203348Z",
     "iopub.status.busy": "2021-10-30T20:07:10.202810Z",
     "iopub.status.idle": "2021-10-30T20:07:10.745970Z",
     "shell.execute_reply": "2021-10-30T20:07:10.745422Z"
    },
    "papermill": {
     "duration": 0.574248,
     "end_time": "2021-10-30T20:07:10.746116",
     "exception": false,
     "start_time": "2021-10-30T20:07:10.171868",
     "status": "completed"
    },
    "tags": []
   },
   "outputs": [],
   "source": [
    "%matplotlib inline\n",
    "import numpy as np\n",
    "import matplotlib.pyplot as plt\n",
    "import pandas as pd"
   ]
  },
  {
   "cell_type": "markdown",
   "id": "ba036198",
   "metadata": {
    "papermill": {
     "duration": 0.024359,
     "end_time": "2021-10-30T20:07:10.795867",
     "exception": false,
     "start_time": "2021-10-30T20:07:10.771508",
     "status": "completed"
    },
    "tags": []
   },
   "source": [
    "From the command line run `pip install mnist`. This is a library that will help you bring down the mnist dataset. If you run this from a notebook, you need to put  `!pip install mnist` in a cell by itself."
   ]
  },
  {
   "cell_type": "code",
   "execution_count": 3,
   "id": "bb6ad8a1",
   "metadata": {
    "execution": {
     "iopub.execute_input": "2021-10-30T20:07:10.868417Z",
     "iopub.status.busy": "2021-10-30T20:07:10.864082Z",
     "iopub.status.idle": "2021-10-30T20:07:12.564508Z",
     "shell.execute_reply": "2021-10-30T20:07:12.563958Z"
    },
    "papermill": {
     "duration": 1.744263,
     "end_time": "2021-10-30T20:07:12.564650",
     "exception": false,
     "start_time": "2021-10-30T20:07:10.820387",
     "status": "completed"
    },
    "tags": []
   },
   "outputs": [
    {
     "name": "stdout",
     "output_type": "stream",
     "text": [
      "Collecting mnist\r\n"
     ]
    },
    {
     "name": "stdout",
     "output_type": "stream",
     "text": [
      "  Downloading mnist-0.2.2-py2.py3-none-any.whl (3.5 kB)\r\n",
      "Requirement already satisfied: numpy in /opt/hostedtoolcache/Python/3.6.15/x64/lib/python3.6/site-packages (from mnist) (1.19.5)\r\n"
     ]
    },
    {
     "name": "stdout",
     "output_type": "stream",
     "text": [
      "Installing collected packages: mnist\r\n",
      "Successfully installed mnist-0.2.2\r\n"
     ]
    },
    {
     "name": "stdout",
     "output_type": "stream",
     "text": [
      "\u001b[33mWARNING: You are using pip version 21.3; however, version 21.3.1 is available.\r\n",
      "You should consider upgrading via the '/opt/hostedtoolcache/Python/3.6.15/x64/bin/python -m pip install --upgrade pip' command.\u001b[0m\r\n"
     ]
    }
   ],
   "source": [
    "!pip install mnist"
   ]
  },
  {
   "cell_type": "markdown",
   "id": "69df9c9a",
   "metadata": {
    "papermill": {
     "duration": 0.025355,
     "end_time": "2021-10-30T20:07:12.616354",
     "exception": false,
     "start_time": "2021-10-30T20:07:12.590999",
     "status": "completed"
    },
    "tags": []
   },
   "source": [
    "## Preparing the Data"
   ]
  },
  {
   "cell_type": "code",
   "execution_count": 4,
   "id": "7f69d806",
   "metadata": {
    "execution": {
     "iopub.execute_input": "2021-10-30T20:07:12.672179Z",
     "iopub.status.busy": "2021-10-30T20:07:12.671631Z",
     "iopub.status.idle": "2021-10-30T20:07:12.685921Z",
     "shell.execute_reply": "2021-10-30T20:07:12.685480Z"
    },
    "papermill": {
     "duration": 0.044186,
     "end_time": "2021-10-30T20:07:12.686043",
     "exception": false,
     "start_time": "2021-10-30T20:07:12.641857",
     "status": "completed"
    },
    "tags": []
   },
   "outputs": [],
   "source": [
    "import mnist"
   ]
  },
  {
   "cell_type": "code",
   "execution_count": 5,
   "id": "a411e44f",
   "metadata": {
    "execution": {
     "iopub.execute_input": "2021-10-30T20:07:12.742899Z",
     "iopub.status.busy": "2021-10-30T20:07:12.742377Z",
     "iopub.status.idle": "2021-10-30T20:07:13.295038Z",
     "shell.execute_reply": "2021-10-30T20:07:13.294499Z"
    },
    "papermill": {
     "duration": 0.583253,
     "end_time": "2021-10-30T20:07:13.295171",
     "exception": false,
     "start_time": "2021-10-30T20:07:12.711918",
     "status": "completed"
    },
    "tags": []
   },
   "outputs": [],
   "source": [
    "train_images = mnist.train_images()\n",
    "train_labels = mnist.train_labels()"
   ]
  },
  {
   "cell_type": "code",
   "execution_count": 6,
   "id": "dceab3a5",
   "metadata": {
    "execution": {
     "iopub.execute_input": "2021-10-30T20:07:13.358110Z",
     "iopub.status.busy": "2021-10-30T20:07:13.356540Z",
     "iopub.status.idle": "2021-10-30T20:07:13.369520Z",
     "shell.execute_reply": "2021-10-30T20:07:13.369084Z"
    },
    "papermill": {
     "duration": 0.04839,
     "end_time": "2021-10-30T20:07:13.369646",
     "exception": false,
     "start_time": "2021-10-30T20:07:13.321256",
     "status": "completed"
    },
    "tags": []
   },
   "outputs": [
    {
     "data": {
      "text/plain": [
       "((60000, 28, 28), (60000,))"
      ]
     },
     "execution_count": 6,
     "metadata": {},
     "output_type": "execute_result"
    }
   ],
   "source": [
    "train_images.shape, train_labels.shape"
   ]
  },
  {
   "cell_type": "code",
   "execution_count": 7,
   "id": "f50dc2bb",
   "metadata": {
    "execution": {
     "iopub.execute_input": "2021-10-30T20:07:13.426960Z",
     "iopub.status.busy": "2021-10-30T20:07:13.426440Z",
     "iopub.status.idle": "2021-10-30T20:07:13.577461Z",
     "shell.execute_reply": "2021-10-30T20:07:13.576913Z"
    },
    "papermill": {
     "duration": 0.182232,
     "end_time": "2021-10-30T20:07:13.577609",
     "exception": false,
     "start_time": "2021-10-30T20:07:13.395377",
     "status": "completed"
    },
    "tags": []
   },
   "outputs": [],
   "source": [
    "test_images = mnist.test_images()\n",
    "test_labels = mnist.test_labels()"
   ]
  },
  {
   "cell_type": "code",
   "execution_count": 8,
   "id": "fc38cf1b",
   "metadata": {
    "execution": {
     "iopub.execute_input": "2021-10-30T20:07:13.647675Z",
     "iopub.status.busy": "2021-10-30T20:07:13.644563Z",
     "iopub.status.idle": "2021-10-30T20:07:13.650752Z",
     "shell.execute_reply": "2021-10-30T20:07:13.650303Z"
    },
    "papermill": {
     "duration": 0.046846,
     "end_time": "2021-10-30T20:07:13.650870",
     "exception": false,
     "start_time": "2021-10-30T20:07:13.604024",
     "status": "completed"
    },
    "tags": []
   },
   "outputs": [
    {
     "data": {
      "text/plain": [
       "((10000, 28, 28), (10000,))"
      ]
     },
     "execution_count": 8,
     "metadata": {},
     "output_type": "execute_result"
    }
   ],
   "source": [
    "test_images.shape, test_labels.shape"
   ]
  },
  {
   "cell_type": "code",
   "execution_count": 9,
   "id": "f9ed8fe0",
   "metadata": {
    "execution": {
     "iopub.execute_input": "2021-10-30T20:07:13.708773Z",
     "iopub.status.busy": "2021-10-30T20:07:13.708241Z",
     "iopub.status.idle": "2021-10-30T20:07:13.848066Z",
     "shell.execute_reply": "2021-10-30T20:07:13.848489Z"
    },
    "papermill": {
     "duration": 0.171644,
     "end_time": "2021-10-30T20:07:13.848638",
     "exception": false,
     "start_time": "2021-10-30T20:07:13.676994",
     "status": "completed"
    },
    "tags": []
   },
   "outputs": [
    {
     "name": "stdout",
     "output_type": "stream",
     "text": [
      "2\n"
     ]
    },
    {
     "data": {
      "text/plain": [
       "<matplotlib.image.AxesImage at 0x7f995eebf128>"
      ]
     },
     "execution_count": 9,
     "metadata": {},
     "output_type": "execute_result"
    },
    {
     "data": {
      "image/png": "[encoded data removed]",
      "text/plain": [
       "<Figure size 432x288 with 1 Axes>"
      ]
     },
     "metadata": {
      "needs_background": "light"
     },
     "output_type": "display_data"
    }
   ],
   "source": [
    "image_index = 7776 # You may select anything up to 60,000\n",
    "print(train_labels[image_index]) \n",
    "plt.imshow(train_images[image_index], cmap='Greys')"
   ]
  },
  {
   "cell_type": "markdown",
   "id": "a8d2388d",
   "metadata": {
    "papermill": {
     "duration": 0.027274,
     "end_time": "2021-10-30T20:07:13.903173",
     "exception": false,
     "start_time": "2021-10-30T20:07:13.875899",
     "status": "completed"
    },
    "tags": []
   },
   "source": [
    "## Filter data to get 3 and 8 out"
   ]
  },
  {
   "cell_type": "code",
   "execution_count": 10,
   "id": "776f7fc7",
   "metadata": {
    "execution": {
     "iopub.execute_input": "2021-10-30T20:07:13.962033Z",
     "iopub.status.busy": "2021-10-30T20:07:13.961498Z",
     "iopub.status.idle": "2021-10-30T20:07:13.981233Z",
     "shell.execute_reply": "2021-10-30T20:07:13.980743Z"
    },
    "papermill": {
     "duration": 0.051062,
     "end_time": "2021-10-30T20:07:13.981370",
     "exception": false,
     "start_time": "2021-10-30T20:07:13.930308",
     "status": "completed"
    },
    "tags": []
   },
   "outputs": [],
   "source": [
    "train_filter = np.where((train_labels == 3 ) | (train_labels == 8))\n",
    "test_filter = np.where((test_labels == 3) | (test_labels == 8))\n",
    "X_train, y_train = train_images[train_filter], train_labels[train_filter]\n",
    "X_test, y_test = test_images[test_filter], test_labels[test_filter]"
   ]
  },
  {
   "cell_type": "markdown",
   "id": "948f0b7e",
   "metadata": {
    "papermill": {
     "duration": 0.026628,
     "end_time": "2021-10-30T20:07:14.036047",
     "exception": false,
     "start_time": "2021-10-30T20:07:14.009419",
     "status": "completed"
    },
    "tags": []
   },
   "source": [
    "We normalize the pizel values in the 0 to 1 range"
   ]
  },
  {
   "cell_type": "code",
   "execution_count": 11,
   "id": "ee4c2166",
   "metadata": {
    "execution": {
     "iopub.execute_input": "2021-10-30T20:07:14.097490Z",
     "iopub.status.busy": "2021-10-30T20:07:14.096975Z",
     "iopub.status.idle": "2021-10-30T20:07:14.144607Z",
     "shell.execute_reply": "2021-10-30T20:07:14.144066Z"
    },
    "papermill": {
     "duration": 0.081982,
     "end_time": "2021-10-30T20:07:14.144747",
     "exception": false,
     "start_time": "2021-10-30T20:07:14.062765",
     "status": "completed"
    },
    "tags": []
   },
   "outputs": [],
   "source": [
    "X_train = X_train/255.\n",
    "X_test = X_test/255."
   ]
  },
  {
   "cell_type": "markdown",
   "id": "ddcf4fab",
   "metadata": {
    "papermill": {
     "duration": 0.026725,
     "end_time": "2021-10-30T20:07:14.199510",
     "exception": false,
     "start_time": "2021-10-30T20:07:14.172785",
     "status": "completed"
    },
    "tags": []
   },
   "source": [
    "And setup the labels as 1 (when the digit is 3) and 0 (when the digit is 8)"
   ]
  },
  {
   "cell_type": "code",
   "execution_count": 12,
   "id": "7dc908f2",
   "metadata": {
    "execution": {
     "iopub.execute_input": "2021-10-30T20:07:14.257175Z",
     "iopub.status.busy": "2021-10-30T20:07:14.256653Z",
     "iopub.status.idle": "2021-10-30T20:07:14.268967Z",
     "shell.execute_reply": "2021-10-30T20:07:14.269397Z"
    },
    "papermill": {
     "duration": 0.043124,
     "end_time": "2021-10-30T20:07:14.269537",
     "exception": false,
     "start_time": "2021-10-30T20:07:14.226413",
     "status": "completed"
    },
    "tags": []
   },
   "outputs": [],
   "source": [
    "y_train = 1*(y_train==3)\n",
    "y_test = 1*(y_test==3)"
   ]
  },
  {
   "cell_type": "code",
   "execution_count": 13,
   "id": "01e4e969",
   "metadata": {
    "execution": {
     "iopub.execute_input": "2021-10-30T20:07:14.336018Z",
     "iopub.status.busy": "2021-10-30T20:07:14.332366Z",
     "iopub.status.idle": "2021-10-30T20:07:14.343755Z",
     "shell.execute_reply": "2021-10-30T20:07:14.344157Z"
    },
    "papermill": {
     "duration": 0.047858,
     "end_time": "2021-10-30T20:07:14.344299",
     "exception": false,
     "start_time": "2021-10-30T20:07:14.296441",
     "status": "completed"
    },
    "tags": []
   },
   "outputs": [
    {
     "data": {
      "text/plain": [
       "((11982, 28, 28), (1984, 28, 28))"
      ]
     },
     "execution_count": 13,
     "metadata": {},
     "output_type": "execute_result"
    }
   ],
   "source": [
    "X_train.shape, X_test.shape"
   ]
  },
  {
   "cell_type": "markdown",
   "id": "5ccf3f85",
   "metadata": {
    "papermill": {
     "duration": 0.026692,
     "end_time": "2021-10-30T20:07:14.397869",
     "exception": false,
     "start_time": "2021-10-30T20:07:14.371177",
     "status": "completed"
    },
    "tags": []
   },
   "source": [
    "We reshape the data to flatten the image pixels into a set of features or co-variates:"
   ]
  },
  {
   "cell_type": "code",
   "execution_count": 14,
   "id": "5286a4a3",
   "metadata": {
    "execution": {
     "iopub.execute_input": "2021-10-30T20:07:14.455753Z",
     "iopub.status.busy": "2021-10-30T20:07:14.455205Z",
     "iopub.status.idle": "2021-10-30T20:07:14.468291Z",
     "shell.execute_reply": "2021-10-30T20:07:14.468679Z"
    },
    "papermill": {
     "duration": 0.044077,
     "end_time": "2021-10-30T20:07:14.468813",
     "exception": false,
     "start_time": "2021-10-30T20:07:14.424736",
     "status": "completed"
    },
    "tags": []
   },
   "outputs": [
    {
     "data": {
      "text/plain": [
       "((11982, 784), (1984, 784))"
      ]
     },
     "execution_count": 14,
     "metadata": {},
     "output_type": "execute_result"
    }
   ],
   "source": [
    "X_train = X_train.reshape(X_train.shape[0], -1)\n",
    "X_test = X_test.reshape(X_test.shape[0], -1)\n",
    "X_train.shape, X_test.shape"
   ]
  },
  {
   "cell_type": "code",
   "execution_count": 15,
   "id": "73c5f88a",
   "metadata": {
    "execution": {
     "iopub.execute_input": "2021-10-30T20:07:14.527589Z",
     "iopub.status.busy": "2021-10-30T20:07:14.527046Z",
     "iopub.status.idle": "2021-10-30T20:07:14.545310Z",
     "shell.execute_reply": "2021-10-30T20:07:14.544876Z"
    },
    "papermill": {
     "duration": 0.049479,
     "end_time": "2021-10-30T20:07:14.545430",
     "exception": false,
     "start_time": "2021-10-30T20:07:14.495951",
     "status": "completed"
    },
    "tags": []
   },
   "outputs": [],
   "source": [
    "#Impoting functions from 'Kudzu'\n",
    "from kudzu.model import Model\n",
    "from kudzu.train import Learner\n",
    "from kudzu.optim import GD\n",
    "from kudzu.data import Data, Sampler,Dataloader\n",
    "\n",
    "from kudzu.callbacks import AccCallback\n",
    "from kudzu.callbacks import ClfCallback\n",
    "\n",
    "from kudzu.loss import MSE\n",
    "\n",
    "from kudzu.layer import Sigmoid,Relu\n",
    "from kudzu.layer import Affine"
   ]
  },
  {
   "cell_type": "markdown",
   "id": "bc01172a",
   "metadata": {
    "papermill": {
     "duration": 0.02698,
     "end_time": "2021-10-30T20:07:14.599868",
     "exception": false,
     "start_time": "2021-10-30T20:07:14.572888",
     "status": "completed"
    },
    "tags": []
   },
   "source": [
    "### Let us create a `Config` class, to store important parameters. \n",
    "This class essentially plays the role of a dictionary."
   ]
  },
  {
   "cell_type": "code",
   "execution_count": 16,
   "id": "978281aa",
   "metadata": {
    "execution": {
     "iopub.execute_input": "2021-10-30T20:07:14.658160Z",
     "iopub.status.busy": "2021-10-30T20:07:14.657625Z",
     "iopub.status.idle": "2021-10-30T20:07:14.669034Z",
     "shell.execute_reply": "2021-10-30T20:07:14.669442Z"
    },
    "papermill": {
     "duration": 0.042616,
     "end_time": "2021-10-30T20:07:14.669574",
     "exception": false,
     "start_time": "2021-10-30T20:07:14.626958",
     "status": "completed"
    },
    "tags": []
   },
   "outputs": [],
   "source": [
    "class Config:\n",
    "    pass\n",
    "config = Config()\n",
    "config.lr = 0.001\n",
    "config.num_epochs = 250\n",
    "config.bs = 50"
   ]
  },
  {
   "cell_type": "markdown",
   "id": "1385fa59",
   "metadata": {
    "papermill": {
     "duration": 0.026987,
     "end_time": "2021-10-30T20:07:14.724014",
     "exception": false,
     "start_time": "2021-10-30T20:07:14.697027",
     "status": "completed"
    },
    "tags": []
   },
   "source": [
    "### Running Models with the Training data\n",
    "Details about the network layers:\n",
    "- A first affine layer has 784 inputs and does 100 affine transforms. These are followed by a Relu\n",
    "- A second affine layer has 100 inputs from the 100 activations of the past layer, and does 100 affine transforms. These are followed by a Relu\n",
    "- A third affine layer has 100 activations and does 2 affine transformations to create an embedding for visualization. There is no non-linearity here.\n",
    "- A final \"logistic regression\" which has an affine transform from 2 inputs to 1 output, which is squeezed through a sigmoid.\n"
   ]
  },
  {
   "cell_type": "code",
   "execution_count": 17,
   "id": "2b9c66db",
   "metadata": {
    "execution": {
     "iopub.execute_input": "2021-10-30T20:07:14.788483Z",
     "iopub.status.busy": "2021-10-30T20:07:14.787940Z",
     "iopub.status.idle": "2021-10-30T20:07:14.797342Z",
     "shell.execute_reply": "2021-10-30T20:07:14.796912Z"
    },
    "papermill": {
     "duration": 0.046269,
     "end_time": "2021-10-30T20:07:14.797463",
     "exception": false,
     "start_time": "2021-10-30T20:07:14.751194",
     "status": "completed"
    },
    "tags": []
   },
   "outputs": [],
   "source": [
    "data = Data(X_train, y_train.reshape(-1,1))\n",
    "sampler = Sampler(data, config.bs, shuffle=True)\n",
    "\n",
    "dl = Dataloader(data, sampler)\n",
    "\n",
    "opt = GD(config.lr)\n",
    "loss = MSE()"
   ]
  },
  {
   "cell_type": "code",
   "execution_count": 18,
   "id": "b275e4c2",
   "metadata": {
    "execution": {
     "iopub.execute_input": "2021-10-30T20:07:14.860915Z",
     "iopub.status.busy": "2021-10-30T20:07:14.860393Z",
     "iopub.status.idle": "2021-10-30T20:07:14.869889Z",
     "shell.execute_reply": "2021-10-30T20:07:14.869463Z"
    },
    "papermill": {
     "duration": 0.04481,
     "end_time": "2021-10-30T20:07:14.870009",
     "exception": false,
     "start_time": "2021-10-30T20:07:14.825199",
     "status": "completed"
    },
    "tags": []
   },
   "outputs": [],
   "source": [
    "training_data_x = X_train\n",
    "testing_data_x = X_test\n",
    "training_data_y = y_train.reshape(-1,1)\n",
    "testing_data_y = y_test.reshape(-1,1)"
   ]
  },
  {
   "cell_type": "code",
   "execution_count": 19,
   "id": "76951160",
   "metadata": {
    "execution": {
     "iopub.execute_input": "2021-10-30T20:07:14.929526Z",
     "iopub.status.busy": "2021-10-30T20:07:14.928985Z",
     "iopub.status.idle": "2021-10-30T20:07:14.945756Z",
     "shell.execute_reply": "2021-10-30T20:07:14.945324Z"
    },
    "papermill": {
     "duration": 0.048453,
     "end_time": "2021-10-30T20:07:14.945881",
     "exception": false,
     "start_time": "2021-10-30T20:07:14.897428",
     "status": "completed"
    },
    "tags": []
   },
   "outputs": [
    {
     "name": "stdout",
     "output_type": "stream",
     "text": [
      "xavier\n",
      "xavier\n",
      "xavier\n",
      "xavier\n",
      "xavier\n"
     ]
    }
   ],
   "source": [
    "layers = [Affine(\"first\", 784, 100), Relu(\"first\"), Affine(\"second\", 100, 100), Relu(\"second\"), Affine(\"third\", 100, 2), Affine(\"last\", 2, 1), Sigmoid(\"last\")]\n",
    "model_nn = Model(layers)\n",
    "model_lr = Model([Affine(\"logits\", 784, 1), Sigmoid(\"sigmoid\")])"
   ]
  },
  {
   "cell_type": "code",
   "execution_count": 20,
   "id": "6eede77a",
   "metadata": {
    "execution": {
     "iopub.execute_input": "2021-10-30T20:07:15.008236Z",
     "iopub.status.busy": "2021-10-30T20:07:15.007686Z",
     "iopub.status.idle": "2021-10-30T20:07:15.017705Z",
     "shell.execute_reply": "2021-10-30T20:07:15.018148Z"
    },
    "papermill": {
     "duration": 0.04456,
     "end_time": "2021-10-30T20:07:15.018282",
     "exception": false,
     "start_time": "2021-10-30T20:07:14.973722",
     "status": "completed"
    },
    "tags": []
   },
   "outputs": [],
   "source": [
    "nn_learner = Learner(loss, model_nn, opt, config.num_epochs)\n",
    "acc_nn = ClfCallback(nn_learner, config.bs, training_data_x , testing_data_x, training_data_y, testing_data_y)\n",
    "nn_learner.set_callbacks([acc_nn])"
   ]
  },
  {
   "cell_type": "code",
   "execution_count": 21,
   "id": "877b6cc7",
   "metadata": {
    "execution": {
     "iopub.execute_input": "2021-10-30T20:07:15.078397Z",
     "iopub.status.busy": "2021-10-30T20:07:15.077872Z",
     "iopub.status.idle": "2021-10-30T20:07:15.089679Z",
     "shell.execute_reply": "2021-10-30T20:07:15.089250Z"
    },
    "papermill": {
     "duration": 0.04372,
     "end_time": "2021-10-30T20:07:15.089798",
     "exception": false,
     "start_time": "2021-10-30T20:07:15.046078",
     "status": "completed"
    },
    "tags": []
   },
   "outputs": [],
   "source": [
    "lr_learner = Learner(loss, model_lr, opt, config.num_epochs)\n",
    "acc_lr = ClfCallback(lr_learner, config.bs, training_data_x , testing_data_x, training_data_y, testing_data_y)\n",
    "lr_learner.set_callbacks([acc_lr])"
   ]
  },
  {
   "cell_type": "code",
   "execution_count": 22,
   "id": "d9b133c3",
   "metadata": {
    "execution": {
     "iopub.execute_input": "2021-10-30T20:07:15.153024Z",
     "iopub.status.busy": "2021-10-30T20:07:15.152478Z",
     "iopub.status.idle": "2021-10-30T20:08:32.404875Z",
     "shell.execute_reply": "2021-10-30T20:08:32.405647Z"
    },
    "papermill": {
     "duration": 77.28765,
     "end_time": "2021-10-30T20:08:32.405810",
     "exception": false,
     "start_time": "2021-10-30T20:07:15.118160",
     "status": "completed"
    },
    "tags": []
   },
   "outputs": [
    {
     "name": "stdout",
     "output_type": "stream",
     "text": [
      "Epoch 0, Loss 0.2499\n",
      "Training Accuracy: 0.5120, Testing Accuracy: 0.5257\n",
      "\n"
     ]
    },
    {
     "name": "stdout",
     "output_type": "stream",
     "text": [
      "Epoch 10, Loss 0.1788\n",
      "Training Accuracy: 0.8747, Testing Accuracy: 0.8846\n",
      "\n"
     ]
    },
    {
     "name": "stdout",
     "output_type": "stream",
     "text": [
      "Epoch 20, Loss 0.0888\n",
      "Training Accuracy: 0.9161, Testing Accuracy: 0.9249\n",
      "\n"
     ]
    },
    {
     "name": "stdout",
     "output_type": "stream",
     "text": [
      "Epoch 30, Loss 0.0578\n",
      "Training Accuracy: 0.9391, Testing Accuracy: 0.9496\n",
      "\n"
     ]
    },
    {
     "name": "stdout",
     "output_type": "stream",
     "text": [
      "Epoch 40, Loss 0.0458\n",
      "Training Accuracy: 0.9488, Testing Accuracy: 0.9592\n",
      "\n"
     ]
    },
    {
     "name": "stdout",
     "output_type": "stream",
     "text": [
      "Epoch 50, Loss 0.0398\n",
      "Training Accuracy: 0.9548, Testing Accuracy: 0.9617\n",
      "\n"
     ]
    },
    {
     "name": "stdout",
     "output_type": "stream",
     "text": [
      "Epoch 60, Loss 0.0363\n",
      "Training Accuracy: 0.9587, Testing Accuracy: 0.9662\n",
      "\n"
     ]
    },
    {
     "name": "stdout",
     "output_type": "stream",
     "text": [
      "Epoch 70, Loss 0.0339\n",
      "Training Accuracy: 0.9607, Testing Accuracy: 0.9677\n",
      "\n"
     ]
    },
    {
     "name": "stdout",
     "output_type": "stream",
     "text": [
      "Epoch 80, Loss 0.0321\n",
      "Training Accuracy: 0.9623, Testing Accuracy: 0.9688\n",
      "\n"
     ]
    },
    {
     "name": "stdout",
     "output_type": "stream",
     "text": [
      "Epoch 90, Loss 0.0307\n",
      "Training Accuracy: 0.9633, Testing Accuracy: 0.9672\n",
      "\n"
     ]
    },
    {
     "name": "stdout",
     "output_type": "stream",
     "text": [
      "Epoch 100, Loss 0.0296\n",
      "Training Accuracy: 0.9645, Testing Accuracy: 0.9693\n",
      "\n"
     ]
    },
    {
     "name": "stdout",
     "output_type": "stream",
     "text": [
      "Epoch 110, Loss 0.0286\n",
      "Training Accuracy: 0.9660, Testing Accuracy: 0.9688\n",
      "\n"
     ]
    },
    {
     "name": "stdout",
     "output_type": "stream",
     "text": [
      "Epoch 120, Loss 0.0278\n",
      "Training Accuracy: 0.9670, Testing Accuracy: 0.9677\n",
      "\n"
     ]
    },
    {
     "name": "stdout",
     "output_type": "stream",
     "text": [
      "Epoch 130, Loss 0.027\n",
      "Training Accuracy: 0.9682, Testing Accuracy: 0.9672\n",
      "\n"
     ]
    },
    {
     "name": "stdout",
     "output_type": "stream",
     "text": [
      "Epoch 140, Loss 0.0264\n",
      "Training Accuracy: 0.9693, Testing Accuracy: 0.9682\n",
      "\n"
     ]
    },
    {
     "name": "stdout",
     "output_type": "stream",
     "text": [
      "Epoch 150, Loss 0.0257\n",
      "Training Accuracy: 0.9698, Testing Accuracy: 0.9677\n",
      "\n"
     ]
    },
    {
     "name": "stdout",
     "output_type": "stream",
     "text": [
      "Epoch 160, Loss 0.0252\n",
      "Training Accuracy: 0.9710, Testing Accuracy: 0.9677\n",
      "\n"
     ]
    },
    {
     "name": "stdout",
     "output_type": "stream",
     "text": [
      "Epoch 170, Loss 0.0247\n",
      "Training Accuracy: 0.9715, Testing Accuracy: 0.9677\n",
      "\n"
     ]
    },
    {
     "name": "stdout",
     "output_type": "stream",
     "text": [
      "Epoch 180, Loss 0.0242\n",
      "Training Accuracy: 0.9720, Testing Accuracy: 0.9688\n",
      "\n"
     ]
    },
    {
     "name": "stdout",
     "output_type": "stream",
     "text": [
      "Epoch 190, Loss 0.0237\n",
      "Training Accuracy: 0.9725, Testing Accuracy: 0.9693\n",
      "\n"
     ]
    },
    {
     "name": "stdout",
     "output_type": "stream",
     "text": [
      "Epoch 200, Loss 0.0233\n",
      "Training Accuracy: 0.9729, Testing Accuracy: 0.9698\n",
      "\n"
     ]
    },
    {
     "name": "stdout",
     "output_type": "stream",
     "text": [
      "Epoch 210, Loss 0.0229\n",
      "Training Accuracy: 0.9735, Testing Accuracy: 0.9693\n",
      "\n"
     ]
    },
    {
     "name": "stdout",
     "output_type": "stream",
     "text": [
      "Epoch 220, Loss 0.0225\n",
      "Training Accuracy: 0.9745, Testing Accuracy: 0.9693\n",
      "\n"
     ]
    },
    {
     "name": "stdout",
     "output_type": "stream",
     "text": [
      "Epoch 230, Loss 0.0221\n",
      "Training Accuracy: 0.9750, Testing Accuracy: 0.9693\n",
      "\n"
     ]
    },
    {
     "name": "stdout",
     "output_type": "stream",
     "text": [
      "Epoch 240, Loss 0.0218\n",
      "Training Accuracy: 0.9757, Testing Accuracy: 0.9693\n",
      "\n"
     ]
    },
    {
     "data": {
      "text/plain": [
       "0.03000900827947479"
      ]
     },
     "execution_count": 22,
     "metadata": {},
     "output_type": "execute_result"
    }
   ],
   "source": [
    "nn_learner.train_loop(dl)"
   ]
  },
  {
   "cell_type": "code",
   "execution_count": 23,
   "id": "e0163366",
   "metadata": {
    "execution": {
     "iopub.execute_input": "2021-10-30T20:08:32.485472Z",
     "iopub.status.busy": "2021-10-30T20:08:32.484919Z",
     "iopub.status.idle": "2021-10-30T20:08:46.332664Z",
     "shell.execute_reply": "2021-10-30T20:08:46.333416Z"
    },
    "papermill": {
     "duration": 13.892092,
     "end_time": "2021-10-30T20:08:46.333571",
     "exception": false,
     "start_time": "2021-10-30T20:08:32.441479",
     "status": "completed"
    },
    "tags": []
   },
   "outputs": [
    {
     "name": "stdout",
     "output_type": "stream",
     "text": [
      "Epoch 0, Loss 0.2571\n",
      "Training Accuracy: 0.6644, Testing Accuracy: 0.6744\n",
      "\n"
     ]
    },
    {
     "name": "stdout",
     "output_type": "stream",
     "text": [
      "Epoch 10, Loss 0.1012\n",
      "Training Accuracy: 0.9163, Testing Accuracy: 0.9269\n",
      "\n"
     ]
    },
    {
     "name": "stdout",
     "output_type": "stream",
     "text": [
      "Epoch 20, Loss 0.0785\n",
      "Training Accuracy: 0.9296, Testing Accuracy: 0.9390\n",
      "\n"
     ]
    },
    {
     "name": "stdout",
     "output_type": "stream",
     "text": [
      "Epoch 30, Loss 0.068\n",
      "Training Accuracy: 0.9360, Testing Accuracy: 0.9461\n",
      "\n"
     ]
    },
    {
     "name": "stdout",
     "output_type": "stream",
     "text": [
      "Epoch 40, Loss 0.0616\n",
      "Training Accuracy: 0.9411, Testing Accuracy: 0.9506\n",
      "\n"
     ]
    },
    {
     "name": "stdout",
     "output_type": "stream",
     "text": [
      "Epoch 50, Loss 0.0572\n",
      "Training Accuracy: 0.9437, Testing Accuracy: 0.9536\n",
      "\n"
     ]
    },
    {
     "name": "stdout",
     "output_type": "stream",
     "text": [
      "Epoch 60, Loss 0.054\n",
      "Training Accuracy: 0.9469, Testing Accuracy: 0.9587\n",
      "\n"
     ]
    },
    {
     "name": "stdout",
     "output_type": "stream",
     "text": [
      "Epoch 70, Loss 0.0515\n",
      "Training Accuracy: 0.9478, Testing Accuracy: 0.9597\n",
      "\n"
     ]
    },
    {
     "name": "stdout",
     "output_type": "stream",
     "text": [
      "Epoch 80, Loss 0.0494\n",
      "Training Accuracy: 0.9498, Testing Accuracy: 0.9602\n",
      "\n"
     ]
    },
    {
     "name": "stdout",
     "output_type": "stream",
     "text": [
      "Epoch 90, Loss 0.0478\n",
      "Training Accuracy: 0.9512, Testing Accuracy: 0.9607\n",
      "\n"
     ]
    },
    {
     "name": "stdout",
     "output_type": "stream",
     "text": [
      "Epoch 100, Loss 0.0464\n",
      "Training Accuracy: 0.9524, Testing Accuracy: 0.9602\n",
      "\n"
     ]
    },
    {
     "name": "stdout",
     "output_type": "stream",
     "text": [
      "Epoch 110, Loss 0.0452\n",
      "Training Accuracy: 0.9534, Testing Accuracy: 0.9617\n",
      "\n"
     ]
    },
    {
     "name": "stdout",
     "output_type": "stream",
     "text": [
      "Epoch 120, Loss 0.0441\n",
      "Training Accuracy: 0.9540, Testing Accuracy: 0.9622\n",
      "\n"
     ]
    },
    {
     "name": "stdout",
     "output_type": "stream",
     "text": [
      "Epoch 130, Loss 0.0432\n",
      "Training Accuracy: 0.9550, Testing Accuracy: 0.9632\n",
      "\n"
     ]
    },
    {
     "name": "stdout",
     "output_type": "stream",
     "text": [
      "Epoch 140, Loss 0.0423\n",
      "Training Accuracy: 0.9559, Testing Accuracy: 0.9642\n",
      "\n"
     ]
    },
    {
     "name": "stdout",
     "output_type": "stream",
     "text": [
      "Epoch 150, Loss 0.0416\n",
      "Training Accuracy: 0.9561, Testing Accuracy: 0.9642\n",
      "\n"
     ]
    },
    {
     "name": "stdout",
     "output_type": "stream",
     "text": [
      "Epoch 160, Loss 0.0409\n",
      "Training Accuracy: 0.9568, Testing Accuracy: 0.9652\n",
      "\n"
     ]
    },
    {
     "name": "stdout",
     "output_type": "stream",
     "text": [
      "Epoch 170, Loss 0.0403\n",
      "Training Accuracy: 0.9574, Testing Accuracy: 0.9652\n",
      "\n"
     ]
    },
    {
     "name": "stdout",
     "output_type": "stream",
     "text": [
      "Epoch 180, Loss 0.0397\n",
      "Training Accuracy: 0.9582, Testing Accuracy: 0.9652\n",
      "\n"
     ]
    },
    {
     "name": "stdout",
     "output_type": "stream",
     "text": [
      "Epoch 190, Loss 0.0392\n",
      "Training Accuracy: 0.9584, Testing Accuracy: 0.9652\n",
      "\n"
     ]
    },
    {
     "name": "stdout",
     "output_type": "stream",
     "text": [
      "Epoch 200, Loss 0.0387\n",
      "Training Accuracy: 0.9589, Testing Accuracy: 0.9652\n",
      "\n"
     ]
    },
    {
     "name": "stdout",
     "output_type": "stream",
     "text": [
      "Epoch 210, Loss 0.0383\n",
      "Training Accuracy: 0.9590, Testing Accuracy: 0.9647\n",
      "\n"
     ]
    },
    {
     "name": "stdout",
     "output_type": "stream",
     "text": [
      "Epoch 220, Loss 0.0379\n",
      "Training Accuracy: 0.9593, Testing Accuracy: 0.9642\n",
      "\n"
     ]
    },
    {
     "name": "stdout",
     "output_type": "stream",
     "text": [
      "Epoch 230, Loss 0.0375\n",
      "Training Accuracy: 0.9596, Testing Accuracy: 0.9637\n",
      "\n"
     ]
    },
    {
     "name": "stdout",
     "output_type": "stream",
     "text": [
      "Epoch 240, Loss 0.0371\n",
      "Training Accuracy: 0.9598, Testing Accuracy: 0.9637\n",
      "\n"
     ]
    },
    {
     "data": {
      "text/plain": [
       "0.05011512122454372"
      ]
     },
     "execution_count": 23,
     "metadata": {},
     "output_type": "execute_result"
    }
   ],
   "source": [
    "lr_learner.train_loop(dl)"
   ]
  },
  {
   "cell_type": "code",
   "execution_count": 24,
   "id": "ca410940",
   "metadata": {
    "execution": {
     "iopub.execute_input": "2021-10-30T20:08:46.428115Z",
     "iopub.status.busy": "2021-10-30T20:08:46.427528Z",
     "iopub.status.idle": "2021-10-30T20:08:46.650764Z",
     "shell.execute_reply": "2021-10-30T20:08:46.650291Z"
    },
    "papermill": {
     "duration": 0.274361,
     "end_time": "2021-10-30T20:08:46.650894",
     "exception": false,
     "start_time": "2021-10-30T20:08:46.376533",
     "status": "completed"
    },
    "tags": []
   },
   "outputs": [
    {
     "data": {
      "text/plain": [
       "<matplotlib.legend.Legend at 0x7f995ea207b8>"
      ]
     },
     "execution_count": 24,
     "metadata": {},
     "output_type": "execute_result"
    },
    {
     "data": {
      "image/png": "[encoded data removed]",
      "text/plain": [
       "<Figure size 1080x720 with 1 Axes>"
      ]
     },
     "metadata": {
      "needs_background": "light"
     },
     "output_type": "display_data"
    }
   ],
   "source": [
    "#comparing the results of NN and LR\n",
    "plt.figure(figsize=(15,10))\n",
    "\n",
    "# Neural Network plots\n",
    "plt.plot(acc_nn.accuracies, 'r-', label = \"Training Accuracies - NN\")\n",
    "plt.plot(acc_nn.test_accuracies, 'g-', label = \"Testing Accuracies - NN\")\n",
    "\n",
    "# Logistic Regression plots\n",
    "plt.plot(acc_lr.accuracies, 'k-', label = \"Training Accuracies - LR\")\n",
    "plt.plot(acc_lr.test_accuracies, 'b-', label = \"Testing Accuracies - LR\")\n",
    "plt.legend()"
   ]
  },
  {
   "cell_type": "markdown",
   "id": "80dfb35c",
   "metadata": {
    "papermill": {
     "duration": 0.043084,
     "end_time": "2021-10-30T20:08:46.737312",
     "exception": false,
     "start_time": "2021-10-30T20:08:46.694228",
     "status": "completed"
    },
    "tags": []
   },
   "source": [
    "#### Plotting the outputs of this layer of the NN.\n"
   ]
  },
  {
   "cell_type": "code",
   "execution_count": 25,
   "id": "45eb2ff5",
   "metadata": {
    "execution": {
     "iopub.execute_input": "2021-10-30T20:08:46.841200Z",
     "iopub.status.busy": "2021-10-30T20:08:46.840611Z",
     "iopub.status.idle": "2021-10-30T20:08:46.854970Z",
     "shell.execute_reply": "2021-10-30T20:08:46.855423Z"
    },
    "papermill": {
     "duration": 0.075386,
     "end_time": "2021-10-30T20:08:46.855601",
     "exception": false,
     "start_time": "2021-10-30T20:08:46.780215",
     "status": "completed"
    },
    "tags": []
   },
   "outputs": [],
   "source": [
    "new_model = Model(layers[:-2])\n",
    "testing_plot = new_model(testing_data_x)"
   ]
  },
  {
   "cell_type": "code",
   "execution_count": 26,
   "id": "4c0a5485",
   "metadata": {
    "execution": {
     "iopub.execute_input": "2021-10-30T20:08:46.965060Z",
     "iopub.status.busy": "2021-10-30T20:08:46.964515Z",
     "iopub.status.idle": "2021-10-30T20:08:47.167563Z",
     "shell.execute_reply": "2021-10-30T20:08:47.167110Z"
    },
    "papermill": {
     "duration": 0.260944,
     "end_time": "2021-10-30T20:08:47.167713",
     "exception": false,
     "start_time": "2021-10-30T20:08:46.906769",
     "status": "completed"
    },
    "tags": []
   },
   "outputs": [
    {
     "data": {
      "text/plain": [
       "Text(0.5, 1.0, 'Outputs')"
      ]
     },
     "execution_count": 26,
     "metadata": {},
     "output_type": "execute_result"
    },
    {
     "data": {
      "image/png": "[encoded data removed]",
      "text/plain": [
       "<Figure size 576x504 with 1 Axes>"
      ]
     },
     "metadata": {
      "needs_background": "light"
     },
     "output_type": "display_data"
    }
   ],
   "source": [
    "# Plotting the scatter plot of points and color coding by class\n",
    "plt.figure(figsize=(8,7))\n",
    "plt.scatter(testing_plot[:,0], testing_plot[:,1], alpha = 0.1, c = y_test.ravel());\n",
    "plt.title('Outputs')"
   ]
  },
  {
   "cell_type": "markdown",
   "id": "a74fcf8f",
   "metadata": {
    "papermill": {
     "duration": 0.045638,
     "end_time": "2021-10-30T20:08:47.259034",
     "exception": false,
     "start_time": "2021-10-30T20:08:47.213396",
     "status": "completed"
    },
    "tags": []
   },
   "source": [
    "Probability contours"
   ]
  },
  {
   "cell_type": "code",
   "execution_count": 27,
   "id": "d0afc8e3",
   "metadata": {
    "execution": {
     "iopub.execute_input": "2021-10-30T20:08:47.357121Z",
     "iopub.status.busy": "2021-10-30T20:08:47.356471Z",
     "iopub.status.idle": "2021-10-30T20:08:47.366655Z",
     "shell.execute_reply": "2021-10-30T20:08:47.366138Z"
    },
    "papermill": {
     "duration": 0.061881,
     "end_time": "2021-10-30T20:08:47.366776",
     "exception": false,
     "start_time": "2021-10-30T20:08:47.304895",
     "status": "completed"
    },
    "tags": []
   },
   "outputs": [],
   "source": [
    "model_prob = Model(layers[-2:]) "
   ]
  },
  {
   "cell_type": "code",
   "execution_count": 28,
   "id": "9b96e238",
   "metadata": {
    "execution": {
     "iopub.execute_input": "2021-10-30T20:08:47.509136Z",
     "iopub.status.busy": "2021-10-30T20:08:47.508571Z",
     "iopub.status.idle": "2021-10-30T20:08:47.518601Z",
     "shell.execute_reply": "2021-10-30T20:08:47.518161Z"
    },
    "papermill": {
     "duration": 0.105987,
     "end_time": "2021-10-30T20:08:47.518732",
     "exception": false,
     "start_time": "2021-10-30T20:08:47.412745",
     "status": "completed"
    },
    "tags": []
   },
   "outputs": [],
   "source": [
    "#creating the x and y ranges according to the above generated plot.\n",
    "x_range = np.linspace(-4, 1, 100) \n",
    "y_range = np.linspace(-6, 6, 100) \n",
    "x_grid, y_grid = np.meshgrid(x_range, y_range) # x_grid and y_grig are of size 100 X 100\n",
    "\n",
    "# converting x_grid and y_grid to continuous arrays\n",
    "x_gridflat = np.ravel(x_grid)\n",
    "y_gridflat = np.ravel(y_grid)\n",
    "\n",
    "# The last layer of the current model takes two columns as input. Hence transpose of np.vstack() is required.\n",
    "X = np.vstack((x_gridflat, y_gridflat)).T\n",
    "\n",
    "prob_contour = model_prob(X).reshape(100,100) "
   ]
  },
  {
   "cell_type": "code",
   "execution_count": 29,
   "id": "da72499a",
   "metadata": {
    "execution": {
     "iopub.execute_input": "2021-10-30T20:08:47.619881Z",
     "iopub.status.busy": "2021-10-30T20:08:47.619313Z",
     "iopub.status.idle": "2021-10-30T20:08:47.870098Z",
     "shell.execute_reply": "2021-10-30T20:08:47.869611Z"
    },
    "papermill": {
     "duration": 0.300782,
     "end_time": "2021-10-30T20:08:47.870223",
     "exception": false,
     "start_time": "2021-10-30T20:08:47.569441",
     "status": "completed"
    },
    "tags": []
   },
   "outputs": [
    {
     "data": {
      "image/png": "[encoded data removed]",
      "text/plain": [
       "<Figure size 720x648 with 1 Axes>"
      ]
     },
     "metadata": {
      "needs_background": "light"
     },
     "output_type": "display_data"
    }
   ],
   "source": [
    "plt.figure(figsize=(10,9))\n",
    "plt.scatter(testing_plot[:,0], testing_plot[:,1], alpha = 0.1, c = y_test.ravel())\n",
    "contours = plt.contour(x_grid,y_grid,prob_contour)\n",
    "plt.title('Probability Contours')\n",
    "plt.clabel(contours, inline = True );"
   ]
  },
  {
   "cell_type": "code",
   "execution_count": null,
   "id": "e81b4ac7",
   "metadata": {
    "papermill": {
     "duration": 0.048291,
     "end_time": "2021-10-30T20:08:47.967828",
     "exception": false,
     "start_time": "2021-10-30T20:08:47.919537",
     "status": "completed"
    },
    "tags": []
   },
   "outputs": [],
   "source": []
  }
 ],
 "metadata": {
  "kernelspec": {
   "display_name": "Python 3",
   "language": "python",
   "name": "python3"
  },
  "language_info": {
   "codemirror_mode": {
    "name": "ipython",
    "version": 3
   },
   "file_extension": ".py",
   "mimetype": "text/x-python",
   "name": "python",
   "nbconvert_exporter": "python",
   "pygments_lexer": "ipython3",
   "version": "3.6.15"
  },
  "papermill": {
   "default_parameters": {},
   "duration": 99.601528,
   "end_time": "2021-10-30T20:08:48.425829",
   "environment_variables": {},
   "exception": null,
   "input_path": "2020-08-11-part2.ipynb",
   "output_path": "2020-08-11-part2.ipynb",
   "parameters": {},
   "start_time": "2021-10-30T20:07:08.824301",
   "version": "2.3.3"
  }
 },
 "nbformat": 4,
 "nbformat_minor": 5
}