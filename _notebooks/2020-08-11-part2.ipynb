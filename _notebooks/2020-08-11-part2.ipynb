{
 "cells": [
  {
   "cell_type": "markdown",
   "id": "98380cd3",
   "metadata": {
    "papermill": {
     "duration": 0.027372,
     "end_time": "2022-02-10T00:25:25.625017",
     "exception": false,
     "start_time": "2022-02-10T00:25:25.597645",
     "status": "completed"
    },
    "tags": []
   },
   "source": [
    "# Distinguish Your Own Digits (DYOD)"
   ]
  },
  {
   "cell_type": "markdown",
   "id": "ef31240d",
   "metadata": {
    "papermill": {
     "duration": 0.023224,
     "end_time": "2022-02-10T00:25:25.671972",
     "exception": false,
     "start_time": "2022-02-10T00:25:25.648748",
     "status": "completed"
    },
    "tags": []
   },
   "source": [
    "You are going to write a classifier that distinguishes between the number 3 and number 8."
   ]
  },
  {
   "cell_type": "code",
   "execution_count": 1,
   "id": "b15c8646",
   "metadata": {
    "execution": {
     "iopub.execute_input": "2022-02-10T00:25:25.735142Z",
     "iopub.status.busy": "2022-02-10T00:25:25.733925Z",
     "iopub.status.idle": "2022-02-10T00:25:25.745941Z",
     "shell.execute_reply": "2022-02-10T00:25:25.745517Z"
    },
    "papermill": {
     "duration": 0.049992,
     "end_time": "2022-02-10T00:25:25.746060",
     "exception": false,
     "start_time": "2022-02-10T00:25:25.696068",
     "status": "completed"
    },
    "tags": []
   },
   "outputs": [],
   "source": [
    "%load_ext autoreload\n",
    "%autoreload 2"
   ]
  },
  {
   "cell_type": "code",
   "execution_count": 2,
   "id": "22ef38dc",
   "metadata": {
    "execution": {
     "iopub.execute_input": "2022-02-10T00:25:25.799829Z",
     "iopub.status.busy": "2022-02-10T00:25:25.798808Z",
     "iopub.status.idle": "2022-02-10T00:25:26.405850Z",
     "shell.execute_reply": "2022-02-10T00:25:26.404729Z"
    },
    "papermill": {
     "duration": 0.635937,
     "end_time": "2022-02-10T00:25:26.406065",
     "exception": false,
     "start_time": "2022-02-10T00:25:25.770128",
     "status": "completed"
    },
    "tags": []
   },
   "outputs": [],
   "source": [
    "%matplotlib inline\n",
    "import numpy as np\n",
    "import matplotlib.pyplot as plt\n",
    "import pandas as pd"
   ]
  },
  {
   "cell_type": "markdown",
   "id": "ba036198",
   "metadata": {
    "papermill": {
     "duration": 0.024875,
     "end_time": "2022-02-10T00:25:26.457610",
     "exception": false,
     "start_time": "2022-02-10T00:25:26.432735",
     "status": "completed"
    },
    "tags": []
   },
   "source": [
    "From the command line run `pip install mnist`. This is a library that will help you bring down the mnist dataset. If you run this from a notebook, you need to put  `!pip install mnist` in a cell by itself."
   ]
  },
  {
   "cell_type": "code",
   "execution_count": 3,
   "id": "bb6ad8a1",
   "metadata": {
    "execution": {
     "iopub.execute_input": "2022-02-10T00:25:26.508283Z",
     "iopub.status.busy": "2022-02-10T00:25:26.507728Z",
     "iopub.status.idle": "2022-02-10T00:25:28.199707Z",
     "shell.execute_reply": "2022-02-10T00:25:28.200531Z"
    },
    "papermill": {
     "duration": 1.719959,
     "end_time": "2022-02-10T00:25:28.200832",
     "exception": false,
     "start_time": "2022-02-10T00:25:26.480873",
     "status": "completed"
    },
    "tags": []
   },
   "outputs": [
    {
     "name": "stdout",
     "output_type": "stream",
     "text": [
      "Collecting mnist\r\n"
     ]
    },
    {
     "name": "stdout",
     "output_type": "stream",
     "text": [
      "  Downloading mnist-0.2.2-py2.py3-none-any.whl (3.5 kB)\r\n",
      "Requirement already satisfied: numpy in /opt/hostedtoolcache/Python/3.6.15/x64/lib/python3.6/site-packages (from mnist) (1.19.5)\r\n"
     ]
    },
    {
     "name": "stdout",
     "output_type": "stream",
     "text": [
      "Installing collected packages: mnist\r\n",
      "Successfully installed mnist-0.2.2\r\n"
     ]
    }
   ],
   "source": [
    "!pip install mnist"
   ]
  },
  {
   "cell_type": "markdown",
   "id": "69df9c9a",
   "metadata": {
    "papermill": {
     "duration": 0.024207,
     "end_time": "2022-02-10T00:25:28.249242",
     "exception": false,
     "start_time": "2022-02-10T00:25:28.225035",
     "status": "completed"
    },
    "tags": []
   },
   "source": [
    "## Preparing the Data"
   ]
  },
  {
   "cell_type": "code",
   "execution_count": 4,
   "id": "7f69d806",
   "metadata": {
    "execution": {
     "iopub.execute_input": "2022-02-10T00:25:28.303087Z",
     "iopub.status.busy": "2022-02-10T00:25:28.302513Z",
     "iopub.status.idle": "2022-02-10T00:25:28.318818Z",
     "shell.execute_reply": "2022-02-10T00:25:28.318308Z"
    },
    "papermill": {
     "duration": 0.044413,
     "end_time": "2022-02-10T00:25:28.318938",
     "exception": false,
     "start_time": "2022-02-10T00:25:28.274525",
     "status": "completed"
    },
    "tags": []
   },
   "outputs": [],
   "source": [
    "import mnist"
   ]
  },
  {
   "cell_type": "code",
   "execution_count": 5,
   "id": "a411e44f",
   "metadata": {
    "execution": {
     "iopub.execute_input": "2022-02-10T00:25:28.372127Z",
     "iopub.status.busy": "2022-02-10T00:25:28.371156Z",
     "iopub.status.idle": "2022-02-10T00:25:29.132751Z",
     "shell.execute_reply": "2022-02-10T00:25:29.130843Z"
    },
    "papermill": {
     "duration": 0.789538,
     "end_time": "2022-02-10T00:25:29.132894",
     "exception": false,
     "start_time": "2022-02-10T00:25:28.343356",
     "status": "completed"
    },
    "tags": []
   },
   "outputs": [],
   "source": [
    "train_images = mnist.train_images()\n",
    "train_labels = mnist.train_labels()"
   ]
  },
  {
   "cell_type": "code",
   "execution_count": 6,
   "id": "dceab3a5",
   "metadata": {
    "execution": {
     "iopub.execute_input": "2022-02-10T00:25:29.188519Z",
     "iopub.status.busy": "2022-02-10T00:25:29.186558Z",
     "iopub.status.idle": "2022-02-10T00:25:29.200631Z",
     "shell.execute_reply": "2022-02-10T00:25:29.200191Z"
    },
    "papermill": {
     "duration": 0.042877,
     "end_time": "2022-02-10T00:25:29.200776",
     "exception": false,
     "start_time": "2022-02-10T00:25:29.157899",
     "status": "completed"
    },
    "tags": []
   },
   "outputs": [
    {
     "data": {
      "text/plain": [
       "((60000, 28, 28), (60000,))"
      ]
     },
     "execution_count": 6,
     "metadata": {},
     "output_type": "execute_result"
    }
   ],
   "source": [
    "train_images.shape, train_labels.shape"
   ]
  },
  {
   "cell_type": "code",
   "execution_count": 7,
   "id": "f50dc2bb",
   "metadata": {
    "execution": {
     "iopub.execute_input": "2022-02-10T00:25:29.258119Z",
     "iopub.status.busy": "2022-02-10T00:25:29.257641Z",
     "iopub.status.idle": "2022-02-10T00:25:29.567058Z",
     "shell.execute_reply": "2022-02-10T00:25:29.567488Z"
    },
    "papermill": {
     "duration": 0.340471,
     "end_time": "2022-02-10T00:25:29.567628",
     "exception": false,
     "start_time": "2022-02-10T00:25:29.227157",
     "status": "completed"
    },
    "tags": []
   },
   "outputs": [],
   "source": [
    "test_images = mnist.test_images()\n",
    "test_labels = mnist.test_labels()"
   ]
  },
  {
   "cell_type": "code",
   "execution_count": 8,
   "id": "fc38cf1b",
   "metadata": {
    "execution": {
     "iopub.execute_input": "2022-02-10T00:25:29.627064Z",
     "iopub.status.busy": "2022-02-10T00:25:29.625958Z",
     "iopub.status.idle": "2022-02-10T00:25:29.638001Z",
     "shell.execute_reply": "2022-02-10T00:25:29.637536Z"
    },
    "papermill": {
     "duration": 0.04382,
     "end_time": "2022-02-10T00:25:29.638136",
     "exception": false,
     "start_time": "2022-02-10T00:25:29.594316",
     "status": "completed"
    },
    "tags": []
   },
   "outputs": [
    {
     "data": {
      "text/plain": [
       "((10000, 28, 28), (10000,))"
      ]
     },
     "execution_count": 8,
     "metadata": {},
     "output_type": "execute_result"
    }
   ],
   "source": [
    "test_images.shape, test_labels.shape"
   ]
  },
  {
   "cell_type": "code",
   "execution_count": 9,
   "id": "f9ed8fe0",
   "metadata": {
    "execution": {
     "iopub.execute_input": "2022-02-10T00:25:29.694761Z",
     "iopub.status.busy": "2022-02-10T00:25:29.694278Z",
     "iopub.status.idle": "2022-02-10T00:25:29.842764Z",
     "shell.execute_reply": "2022-02-10T00:25:29.843207Z"
    },
    "papermill": {
     "duration": 0.178774,
     "end_time": "2022-02-10T00:25:29.843347",
     "exception": false,
     "start_time": "2022-02-10T00:25:29.664573",
     "status": "completed"
    },
    "tags": []
   },
   "outputs": [
    {
     "name": "stdout",
     "output_type": "stream",
     "text": [
      "2\n"
     ]
    },
    {
     "data": {
      "text/plain": [
       "<matplotlib.image.AxesImage at 0x7f8cd7e42eb8>"
      ]
     },
     "execution_count": 9,
     "metadata": {},
     "output_type": "execute_result"
    },
    {
     "data": {
      "image/png": "[encoded data removed]",
      "text/plain": [
       "<Figure size 432x288 with 1 Axes>"
      ]
     },
     "metadata": {
      "needs_background": "light"
     },
     "output_type": "display_data"
    }
   ],
   "source": [
    "image_index = 7776 # You may select anything up to 60,000\n",
    "print(train_labels[image_index]) \n",
    "plt.imshow(train_images[image_index], cmap='Greys')"
   ]
  },
  {
   "cell_type": "markdown",
   "id": "a8d2388d",
   "metadata": {
    "papermill": {
     "duration": 0.024823,
     "end_time": "2022-02-10T00:25:29.895514",
     "exception": false,
     "start_time": "2022-02-10T00:25:29.870691",
     "status": "completed"
    },
    "tags": []
   },
   "source": [
    "## Filter data to get 3 and 8 out"
   ]
  },
  {
   "cell_type": "code",
   "execution_count": 10,
   "id": "776f7fc7",
   "metadata": {
    "execution": {
     "iopub.execute_input": "2022-02-10T00:25:29.950309Z",
     "iopub.status.busy": "2022-02-10T00:25:29.949793Z",
     "iopub.status.idle": "2022-02-10T00:25:29.967309Z",
     "shell.execute_reply": "2022-02-10T00:25:29.966844Z"
    },
    "papermill": {
     "duration": 0.047546,
     "end_time": "2022-02-10T00:25:29.967418",
     "exception": false,
     "start_time": "2022-02-10T00:25:29.919872",
     "status": "completed"
    },
    "tags": []
   },
   "outputs": [],
   "source": [
    "train_filter = np.where((train_labels == 3 ) | (train_labels == 8))\n",
    "test_filter = np.where((test_labels == 3) | (test_labels == 8))\n",
    "X_train, y_train = train_images[train_filter], train_labels[train_filter]\n",
    "X_test, y_test = test_images[test_filter], test_labels[test_filter]"
   ]
  },
  {
   "cell_type": "markdown",
   "id": "948f0b7e",
   "metadata": {
    "papermill": {
     "duration": 0.025151,
     "end_time": "2022-02-10T00:25:30.018293",
     "exception": false,
     "start_time": "2022-02-10T00:25:29.993142",
     "status": "completed"
    },
    "tags": []
   },
   "source": [
    "We normalize the pizel values in the 0 to 1 range"
   ]
  },
  {
   "cell_type": "code",
   "execution_count": 11,
   "id": "ee4c2166",
   "metadata": {
    "execution": {
     "iopub.execute_input": "2022-02-10T00:25:30.077407Z",
     "iopub.status.busy": "2022-02-10T00:25:30.073911Z",
     "iopub.status.idle": "2022-02-10T00:25:30.121239Z",
     "shell.execute_reply": "2022-02-10T00:25:30.120555Z"
    },
    "papermill": {
     "duration": 0.077652,
     "end_time": "2022-02-10T00:25:30.121405",
     "exception": false,
     "start_time": "2022-02-10T00:25:30.043753",
     "status": "completed"
    },
    "tags": []
   },
   "outputs": [],
   "source": [
    "X_train = X_train/255.\n",
    "X_test = X_test/255."
   ]
  },
  {
   "cell_type": "markdown",
   "id": "ddcf4fab",
   "metadata": {
    "papermill": {
     "duration": 0.025107,
     "end_time": "2022-02-10T00:25:30.175175",
     "exception": false,
     "start_time": "2022-02-10T00:25:30.150068",
     "status": "completed"
    },
    "tags": []
   },
   "source": [
    "And setup the labels as 1 (when the digit is 3) and 0 (when the digit is 8)"
   ]
  },
  {
   "cell_type": "code",
   "execution_count": 12,
   "id": "7dc908f2",
   "metadata": {
    "execution": {
     "iopub.execute_input": "2022-02-10T00:25:30.233880Z",
     "iopub.status.busy": "2022-02-10T00:25:30.228367Z",
     "iopub.status.idle": "2022-02-10T00:25:30.241717Z",
     "shell.execute_reply": "2022-02-10T00:25:30.241211Z"
    },
    "papermill": {
     "duration": 0.041841,
     "end_time": "2022-02-10T00:25:30.241837",
     "exception": false,
     "start_time": "2022-02-10T00:25:30.199996",
     "status": "completed"
    },
    "tags": []
   },
   "outputs": [],
   "source": [
    "y_train = 1*(y_train==3)\n",
    "y_test = 1*(y_test==3)"
   ]
  },
  {
   "cell_type": "code",
   "execution_count": 13,
   "id": "01e4e969",
   "metadata": {
    "execution": {
     "iopub.execute_input": "2022-02-10T00:25:30.298353Z",
     "iopub.status.busy": "2022-02-10T00:25:30.297867Z",
     "iopub.status.idle": "2022-02-10T00:25:30.310751Z",
     "shell.execute_reply": "2022-02-10T00:25:30.311169Z"
    },
    "papermill": {
     "duration": 0.042115,
     "end_time": "2022-02-10T00:25:30.311309",
     "exception": false,
     "start_time": "2022-02-10T00:25:30.269194",
     "status": "completed"
    },
    "tags": []
   },
   "outputs": [
    {
     "data": {
      "text/plain": [
       "((11982, 28, 28), (1984, 28, 28))"
      ]
     },
     "execution_count": 13,
     "metadata": {},
     "output_type": "execute_result"
    }
   ],
   "source": [
    "X_train.shape, X_test.shape"
   ]
  },
  {
   "cell_type": "markdown",
   "id": "5ccf3f85",
   "metadata": {
    "papermill": {
     "duration": 0.025136,
     "end_time": "2022-02-10T00:25:30.363946",
     "exception": false,
     "start_time": "2022-02-10T00:25:30.338810",
     "status": "completed"
    },
    "tags": []
   },
   "source": [
    "We reshape the data to flatten the image pixels into a set of features or co-variates:"
   ]
  },
  {
   "cell_type": "code",
   "execution_count": 14,
   "id": "5286a4a3",
   "metadata": {
    "execution": {
     "iopub.execute_input": "2022-02-10T00:25:30.419628Z",
     "iopub.status.busy": "2022-02-10T00:25:30.419075Z",
     "iopub.status.idle": "2022-02-10T00:25:30.432617Z",
     "shell.execute_reply": "2022-02-10T00:25:30.433090Z"
    },
    "papermill": {
     "duration": 0.043608,
     "end_time": "2022-02-10T00:25:30.433225",
     "exception": false,
     "start_time": "2022-02-10T00:25:30.389617",
     "status": "completed"
    },
    "tags": []
   },
   "outputs": [
    {
     "data": {
      "text/plain": [
       "((11982, 784), (1984, 784))"
      ]
     },
     "execution_count": 14,
     "metadata": {},
     "output_type": "execute_result"
    }
   ],
   "source": [
    "X_train = X_train.reshape(X_train.shape[0], -1)\n",
    "X_test = X_test.reshape(X_test.shape[0], -1)\n",
    "X_train.shape, X_test.shape"
   ]
  },
  {
   "cell_type": "code",
   "execution_count": 15,
   "id": "73c5f88a",
   "metadata": {
    "execution": {
     "iopub.execute_input": "2022-02-10T00:25:30.490815Z",
     "iopub.status.busy": "2022-02-10T00:25:30.490259Z",
     "iopub.status.idle": "2022-02-10T00:25:30.508318Z",
     "shell.execute_reply": "2022-02-10T00:25:30.508813Z"
    },
    "papermill": {
     "duration": 0.049924,
     "end_time": "2022-02-10T00:25:30.508927",
     "exception": false,
     "start_time": "2022-02-10T00:25:30.459003",
     "status": "completed"
    },
    "tags": []
   },
   "outputs": [],
   "source": [
    "#Impoting functions from 'Kudzu'\n",
    "from kudzu.model import Model\n",
    "from kudzu.train import Learner\n",
    "from kudzu.optim import GD\n",
    "from kudzu.data import Data, Sampler,Dataloader\n",
    "\n",
    "from kudzu.callbacks import AccCallback\n",
    "from kudzu.callbacks import ClfCallback\n",
    "\n",
    "from kudzu.loss import MSE\n",
    "\n",
    "from kudzu.layer import Sigmoid,Relu\n",
    "from kudzu.layer import Affine"
   ]
  },
  {
   "cell_type": "markdown",
   "id": "bc01172a",
   "metadata": {
    "papermill": {
     "duration": 0.024975,
     "end_time": "2022-02-10T00:25:30.560666",
     "exception": false,
     "start_time": "2022-02-10T00:25:30.535691",
     "status": "completed"
    },
    "tags": []
   },
   "source": [
    "### Let us create a `Config` class, to store important parameters. \n",
    "This class essentially plays the role of a dictionary."
   ]
  },
  {
   "cell_type": "code",
   "execution_count": 16,
   "id": "978281aa",
   "metadata": {
    "execution": {
     "iopub.execute_input": "2022-02-10T00:25:30.614149Z",
     "iopub.status.busy": "2022-02-10T00:25:30.613597Z",
     "iopub.status.idle": "2022-02-10T00:25:30.626847Z",
     "shell.execute_reply": "2022-02-10T00:25:30.627272Z"
    },
    "papermill": {
     "duration": 0.041985,
     "end_time": "2022-02-10T00:25:30.627404",
     "exception": false,
     "start_time": "2022-02-10T00:25:30.585419",
     "status": "completed"
    },
    "tags": []
   },
   "outputs": [],
   "source": [
    "class Config:\n",
    "    pass\n",
    "config = Config()\n",
    "config.lr = 0.001\n",
    "config.num_epochs = 250\n",
    "config.bs = 50"
   ]
  },
  {
   "cell_type": "markdown",
   "id": "1385fa59",
   "metadata": {
    "papermill": {
     "duration": 0.025644,
     "end_time": "2022-02-10T00:25:30.680176",
     "exception": false,
     "start_time": "2022-02-10T00:25:30.654532",
     "status": "completed"
    },
    "tags": []
   },
   "source": [
    "### Running Models with the Training data\n",
    "Details about the network layers:\n",
    "- A first affine layer has 784 inputs and does 100 affine transforms. These are followed by a Relu\n",
    "- A second affine layer has 100 inputs from the 100 activations of the past layer, and does 100 affine transforms. These are followed by a Relu\n",
    "- A third affine layer has 100 activations and does 2 affine transformations to create an embedding for visualization. There is no non-linearity here.\n",
    "- A final \"logistic regression\" which has an affine transform from 2 inputs to 1 output, which is squeezed through a sigmoid.\n"
   ]
  },
  {
   "cell_type": "code",
   "execution_count": 17,
   "id": "2b9c66db",
   "metadata": {
    "execution": {
     "iopub.execute_input": "2022-02-10T00:25:30.736139Z",
     "iopub.status.busy": "2022-02-10T00:25:30.735693Z",
     "iopub.status.idle": "2022-02-10T00:25:30.750602Z",
     "shell.execute_reply": "2022-02-10T00:25:30.750087Z"
    },
    "papermill": {
     "duration": 0.044224,
     "end_time": "2022-02-10T00:25:30.750716",
     "exception": false,
     "start_time": "2022-02-10T00:25:30.706492",
     "status": "completed"
    },
    "tags": []
   },
   "outputs": [],
   "source": [
    "data = Data(X_train, y_train.reshape(-1,1))\n",
    "sampler = Sampler(data, config.bs, shuffle=True)\n",
    "\n",
    "dl = Dataloader(data, sampler)\n",
    "\n",
    "opt = GD(config.lr)\n",
    "loss = MSE()"
   ]
  },
  {
   "cell_type": "code",
   "execution_count": 18,
   "id": "b275e4c2",
   "metadata": {
    "execution": {
     "iopub.execute_input": "2022-02-10T00:25:30.809250Z",
     "iopub.status.busy": "2022-02-10T00:25:30.808689Z",
     "iopub.status.idle": "2022-02-10T00:25:30.821639Z",
     "shell.execute_reply": "2022-02-10T00:25:30.821109Z"
    },
    "papermill": {
     "duration": 0.046473,
     "end_time": "2022-02-10T00:25:30.821756",
     "exception": false,
     "start_time": "2022-02-10T00:25:30.775283",
     "status": "completed"
    },
    "tags": []
   },
   "outputs": [],
   "source": [
    "training_data_x = X_train\n",
    "testing_data_x = X_test\n",
    "training_data_y = y_train.reshape(-1,1)\n",
    "testing_data_y = y_test.reshape(-1,1)"
   ]
  },
  {
   "cell_type": "code",
   "execution_count": 19,
   "id": "76951160",
   "metadata": {
    "execution": {
     "iopub.execute_input": "2022-02-10T00:25:30.883809Z",
     "iopub.status.busy": "2022-02-10T00:25:30.883246Z",
     "iopub.status.idle": "2022-02-10T00:25:30.899283Z",
     "shell.execute_reply": "2022-02-10T00:25:30.899608Z"
    },
    "papermill": {
     "duration": 0.049946,
     "end_time": "2022-02-10T00:25:30.899715",
     "exception": false,
     "start_time": "2022-02-10T00:25:30.849769",
     "status": "completed"
    },
    "tags": []
   },
   "outputs": [
    {
     "name": "stdout",
     "output_type": "stream",
     "text": [
      "xavier\n",
      "xavier\n",
      "xavier\n",
      "xavier\n",
      "xavier\n"
     ]
    }
   ],
   "source": [
    "layers = [Affine(\"first\", 784, 100), Relu(\"first\"), Affine(\"second\", 100, 100), Relu(\"second\"), Affine(\"third\", 100, 2), Affine(\"last\", 2, 1), Sigmoid(\"last\")]\n",
    "model_nn = Model(layers)\n",
    "model_lr = Model([Affine(\"logits\", 784, 1), Sigmoid(\"sigmoid\")])"
   ]
  },
  {
   "cell_type": "code",
   "execution_count": 20,
   "id": "6eede77a",
   "metadata": {
    "execution": {
     "iopub.execute_input": "2022-02-10T00:25:30.956508Z",
     "iopub.status.busy": "2022-02-10T00:25:30.956088Z",
     "iopub.status.idle": "2022-02-10T00:25:30.967802Z",
     "shell.execute_reply": "2022-02-10T00:25:30.967364Z"
    },
    "papermill": {
     "duration": 0.042939,
     "end_time": "2022-02-10T00:25:30.967913",
     "exception": false,
     "start_time": "2022-02-10T00:25:30.924974",
     "status": "completed"
    },
    "tags": []
   },
   "outputs": [],
   "source": [
    "nn_learner = Learner(loss, model_nn, opt, config.num_epochs)\n",
    "acc_nn = ClfCallback(nn_learner, config.bs, training_data_x , testing_data_x, training_data_y, testing_data_y)\n",
    "nn_learner.set_callbacks([acc_nn])"
   ]
  },
  {
   "cell_type": "code",
   "execution_count": 21,
   "id": "877b6cc7",
   "metadata": {
    "execution": {
     "iopub.execute_input": "2022-02-10T00:25:31.031645Z",
     "iopub.status.busy": "2022-02-10T00:25:31.031107Z",
     "iopub.status.idle": "2022-02-10T00:25:31.046830Z",
     "shell.execute_reply": "2022-02-10T00:25:31.046387Z"
    },
    "papermill": {
     "duration": 0.048778,
     "end_time": "2022-02-10T00:25:31.046942",
     "exception": false,
     "start_time": "2022-02-10T00:25:30.998164",
     "status": "completed"
    },
    "tags": []
   },
   "outputs": [],
   "source": [
    "lr_learner = Learner(loss, model_lr, opt, config.num_epochs)\n",
    "acc_lr = ClfCallback(lr_learner, config.bs, training_data_x , testing_data_x, training_data_y, testing_data_y)\n",
    "lr_learner.set_callbacks([acc_lr])"
   ]
  },
  {
   "cell_type": "code",
   "execution_count": 22,
   "id": "d9b133c3",
   "metadata": {
    "execution": {
     "iopub.execute_input": "2022-02-10T00:25:31.102489Z",
     "iopub.status.busy": "2022-02-10T00:25:31.101940Z",
     "iopub.status.idle": "2022-02-10T00:26:51.542160Z",
     "shell.execute_reply": "2022-02-10T00:26:51.543031Z"
    },
    "papermill": {
     "duration": 80.470617,
     "end_time": "2022-02-10T00:26:51.543194",
     "exception": false,
     "start_time": "2022-02-10T00:25:31.072577",
     "status": "completed"
    },
    "tags": []
   },
   "outputs": [
    {
     "name": "stdout",
     "output_type": "stream",
     "text": [
      "Epoch 0, Loss 0.2432\n",
      "Training Accuracy: 0.5828, Testing Accuracy: 0.6079\n",
      "\n"
     ]
    },
    {
     "name": "stdout",
     "output_type": "stream",
     "text": [
      "Epoch 10, Loss 0.0956\n",
      "Training Accuracy: 0.9208, Testing Accuracy: 0.9315\n",
      "\n"
     ]
    },
    {
     "name": "stdout",
     "output_type": "stream",
     "text": [
      "Epoch 20, Loss 0.0575\n",
      "Training Accuracy: 0.9417, Testing Accuracy: 0.9536\n",
      "\n"
     ]
    },
    {
     "name": "stdout",
     "output_type": "stream",
     "text": [
      "Epoch 30, Loss 0.045\n",
      "Training Accuracy: 0.9498, Testing Accuracy: 0.9607\n",
      "\n"
     ]
    },
    {
     "name": "stdout",
     "output_type": "stream",
     "text": [
      "Epoch 40, Loss 0.039\n",
      "Training Accuracy: 0.9565, Testing Accuracy: 0.9662\n",
      "\n"
     ]
    },
    {
     "name": "stdout",
     "output_type": "stream",
     "text": [
      "Epoch 50, Loss 0.0354\n",
      "Training Accuracy: 0.9594, Testing Accuracy: 0.9677\n",
      "\n"
     ]
    },
    {
     "name": "stdout",
     "output_type": "stream",
     "text": [
      "Epoch 60, Loss 0.0329\n",
      "Training Accuracy: 0.9619, Testing Accuracy: 0.9682\n",
      "\n"
     ]
    },
    {
     "name": "stdout",
     "output_type": "stream",
     "text": [
      "Epoch 70, Loss 0.031\n",
      "Training Accuracy: 0.9635, Testing Accuracy: 0.9677\n",
      "\n"
     ]
    },
    {
     "name": "stdout",
     "output_type": "stream",
     "text": [
      "Epoch 80, Loss 0.0296\n",
      "Training Accuracy: 0.9653, Testing Accuracy: 0.9677\n",
      "\n"
     ]
    },
    {
     "name": "stdout",
     "output_type": "stream",
     "text": [
      "Epoch 90, Loss 0.0284\n",
      "Training Accuracy: 0.9668, Testing Accuracy: 0.9688\n",
      "\n"
     ]
    },
    {
     "name": "stdout",
     "output_type": "stream",
     "text": [
      "Epoch 100, Loss 0.0273\n",
      "Training Accuracy: 0.9682, Testing Accuracy: 0.9688\n",
      "\n"
     ]
    },
    {
     "name": "stdout",
     "output_type": "stream",
     "text": [
      "Epoch 110, Loss 0.0264\n",
      "Training Accuracy: 0.9695, Testing Accuracy: 0.9682\n",
      "\n"
     ]
    },
    {
     "name": "stdout",
     "output_type": "stream",
     "text": [
      "Epoch 120, Loss 0.0256\n",
      "Training Accuracy: 0.9705, Testing Accuracy: 0.9682\n",
      "\n"
     ]
    },
    {
     "name": "stdout",
     "output_type": "stream",
     "text": [
      "Epoch 130, Loss 0.0249\n",
      "Training Accuracy: 0.9715, Testing Accuracy: 0.9688\n",
      "\n"
     ]
    },
    {
     "name": "stdout",
     "output_type": "stream",
     "text": [
      "Epoch 140, Loss 0.0243\n",
      "Training Accuracy: 0.9726, Testing Accuracy: 0.9698\n",
      "\n"
     ]
    },
    {
     "name": "stdout",
     "output_type": "stream",
     "text": [
      "Epoch 150, Loss 0.0237\n",
      "Training Accuracy: 0.9729, Testing Accuracy: 0.9703\n",
      "\n"
     ]
    },
    {
     "name": "stdout",
     "output_type": "stream",
     "text": [
      "Epoch 160, Loss 0.0231\n",
      "Training Accuracy: 0.9736, Testing Accuracy: 0.9703\n",
      "\n"
     ]
    },
    {
     "name": "stdout",
     "output_type": "stream",
     "text": [
      "Epoch 170, Loss 0.0226\n",
      "Training Accuracy: 0.9744, Testing Accuracy: 0.9703\n",
      "\n"
     ]
    },
    {
     "name": "stdout",
     "output_type": "stream",
     "text": [
      "Epoch 180, Loss 0.0221\n",
      "Training Accuracy: 0.9748, Testing Accuracy: 0.9708\n",
      "\n"
     ]
    },
    {
     "name": "stdout",
     "output_type": "stream",
     "text": [
      "Epoch 190, Loss 0.0216\n",
      "Training Accuracy: 0.9752, Testing Accuracy: 0.9708\n",
      "\n"
     ]
    },
    {
     "name": "stdout",
     "output_type": "stream",
     "text": [
      "Epoch 200, Loss 0.0212\n",
      "Training Accuracy: 0.9758, Testing Accuracy: 0.9708\n",
      "\n"
     ]
    },
    {
     "name": "stdout",
     "output_type": "stream",
     "text": [
      "Epoch 210, Loss 0.0208\n",
      "Training Accuracy: 0.9766, Testing Accuracy: 0.9708\n",
      "\n"
     ]
    },
    {
     "name": "stdout",
     "output_type": "stream",
     "text": [
      "Epoch 220, Loss 0.0204\n",
      "Training Accuracy: 0.9769, Testing Accuracy: 0.9708\n",
      "\n"
     ]
    },
    {
     "name": "stdout",
     "output_type": "stream",
     "text": [
      "Epoch 230, Loss 0.02\n",
      "Training Accuracy: 0.9770, Testing Accuracy: 0.9713\n",
      "\n"
     ]
    },
    {
     "name": "stdout",
     "output_type": "stream",
     "text": [
      "Epoch 240, Loss 0.0196\n",
      "Training Accuracy: 0.9772, Testing Accuracy: 0.9713\n",
      "\n"
     ]
    },
    {
     "data": {
      "text/plain": [
       "0.0021894760823537264"
      ]
     },
     "execution_count": 22,
     "metadata": {},
     "output_type": "execute_result"
    }
   ],
   "source": [
    "nn_learner.train_loop(dl)"
   ]
  },
  {
   "cell_type": "code",
   "execution_count": 23,
   "id": "e0163366",
   "metadata": {
    "execution": {
     "iopub.execute_input": "2022-02-10T00:26:51.629641Z",
     "iopub.status.busy": "2022-02-10T00:26:51.629030Z",
     "iopub.status.idle": "2022-02-10T00:27:05.772189Z",
     "shell.execute_reply": "2022-02-10T00:27:05.773024Z"
    },
    "papermill": {
     "duration": 14.192733,
     "end_time": "2022-02-10T00:27:05.773185",
     "exception": false,
     "start_time": "2022-02-10T00:26:51.580452",
     "status": "completed"
    },
    "tags": []
   },
   "outputs": [
    {
     "name": "stdout",
     "output_type": "stream",
     "text": [
      "Epoch 0, Loss 0.2421\n",
      "Training Accuracy: 0.6642, Testing Accuracy: 0.6749\n",
      "\n"
     ]
    },
    {
     "name": "stdout",
     "output_type": "stream",
     "text": [
      "Epoch 10, Loss 0.0989\n",
      "Training Accuracy: 0.9197, Testing Accuracy: 0.9234\n",
      "\n"
     ]
    },
    {
     "name": "stdout",
     "output_type": "stream",
     "text": [
      "Epoch 20, Loss 0.077\n",
      "Training Accuracy: 0.9310, Testing Accuracy: 0.9395\n",
      "\n"
     ]
    },
    {
     "name": "stdout",
     "output_type": "stream",
     "text": [
      "Epoch 30, Loss 0.0669\n",
      "Training Accuracy: 0.9374, Testing Accuracy: 0.9466\n",
      "\n"
     ]
    },
    {
     "name": "stdout",
     "output_type": "stream",
     "text": [
      "Epoch 40, Loss 0.0608\n",
      "Training Accuracy: 0.9412, Testing Accuracy: 0.9491\n",
      "\n"
     ]
    },
    {
     "name": "stdout",
     "output_type": "stream",
     "text": [
      "Epoch 50, Loss 0.0565\n",
      "Training Accuracy: 0.9442, Testing Accuracy: 0.9516\n",
      "\n"
     ]
    },
    {
     "name": "stdout",
     "output_type": "stream",
     "text": [
      "Epoch 60, Loss 0.0534\n",
      "Training Accuracy: 0.9458, Testing Accuracy: 0.9567\n",
      "\n"
     ]
    },
    {
     "name": "stdout",
     "output_type": "stream",
     "text": [
      "Epoch 70, Loss 0.051\n",
      "Training Accuracy: 0.9478, Testing Accuracy: 0.9577\n",
      "\n"
     ]
    },
    {
     "name": "stdout",
     "output_type": "stream",
     "text": [
      "Epoch 80, Loss 0.049\n",
      "Training Accuracy: 0.9496, Testing Accuracy: 0.9582\n",
      "\n"
     ]
    },
    {
     "name": "stdout",
     "output_type": "stream",
     "text": [
      "Epoch 90, Loss 0.0474\n",
      "Training Accuracy: 0.9509, Testing Accuracy: 0.9597\n",
      "\n"
     ]
    },
    {
     "name": "stdout",
     "output_type": "stream",
     "text": [
      "Epoch 100, Loss 0.046\n",
      "Training Accuracy: 0.9516, Testing Accuracy: 0.9602\n",
      "\n"
     ]
    },
    {
     "name": "stdout",
     "output_type": "stream",
     "text": [
      "Epoch 110, Loss 0.0449\n",
      "Training Accuracy: 0.9527, Testing Accuracy: 0.9612\n",
      "\n"
     ]
    },
    {
     "name": "stdout",
     "output_type": "stream",
     "text": [
      "Epoch 120, Loss 0.0438\n",
      "Training Accuracy: 0.9540, Testing Accuracy: 0.9622\n",
      "\n"
     ]
    },
    {
     "name": "stdout",
     "output_type": "stream",
     "text": [
      "Epoch 130, Loss 0.0429\n",
      "Training Accuracy: 0.9549, Testing Accuracy: 0.9632\n",
      "\n"
     ]
    },
    {
     "name": "stdout",
     "output_type": "stream",
     "text": [
      "Epoch 140, Loss 0.0421\n",
      "Training Accuracy: 0.9554, Testing Accuracy: 0.9647\n",
      "\n"
     ]
    },
    {
     "name": "stdout",
     "output_type": "stream",
     "text": [
      "Epoch 150, Loss 0.0414\n",
      "Training Accuracy: 0.9561, Testing Accuracy: 0.9642\n",
      "\n"
     ]
    },
    {
     "name": "stdout",
     "output_type": "stream",
     "text": [
      "Epoch 160, Loss 0.0407\n",
      "Training Accuracy: 0.9564, Testing Accuracy: 0.9637\n",
      "\n"
     ]
    },
    {
     "name": "stdout",
     "output_type": "stream",
     "text": [
      "Epoch 170, Loss 0.0401\n",
      "Training Accuracy: 0.9570, Testing Accuracy: 0.9647\n",
      "\n"
     ]
    },
    {
     "name": "stdout",
     "output_type": "stream",
     "text": [
      "Epoch 180, Loss 0.0396\n",
      "Training Accuracy: 0.9576, Testing Accuracy: 0.9642\n",
      "\n"
     ]
    },
    {
     "name": "stdout",
     "output_type": "stream",
     "text": [
      "Epoch 190, Loss 0.0391\n",
      "Training Accuracy: 0.9584, Testing Accuracy: 0.9642\n",
      "\n"
     ]
    },
    {
     "name": "stdout",
     "output_type": "stream",
     "text": [
      "Epoch 200, Loss 0.0386\n",
      "Training Accuracy: 0.9589, Testing Accuracy: 0.9642\n",
      "\n"
     ]
    },
    {
     "name": "stdout",
     "output_type": "stream",
     "text": [
      "Epoch 210, Loss 0.0382\n",
      "Training Accuracy: 0.9589, Testing Accuracy: 0.9647\n",
      "\n"
     ]
    },
    {
     "name": "stdout",
     "output_type": "stream",
     "text": [
      "Epoch 220, Loss 0.0378\n",
      "Training Accuracy: 0.9592, Testing Accuracy: 0.9647\n",
      "\n"
     ]
    },
    {
     "name": "stdout",
     "output_type": "stream",
     "text": [
      "Epoch 230, Loss 0.0374\n",
      "Training Accuracy: 0.9594, Testing Accuracy: 0.9647\n",
      "\n"
     ]
    },
    {
     "name": "stdout",
     "output_type": "stream",
     "text": [
      "Epoch 240, Loss 0.037\n",
      "Training Accuracy: 0.9594, Testing Accuracy: 0.9657\n",
      "\n"
     ]
    },
    {
     "data": {
      "text/plain": [
       "0.08411141978677339"
      ]
     },
     "execution_count": 23,
     "metadata": {},
     "output_type": "execute_result"
    }
   ],
   "source": [
    "lr_learner.train_loop(dl)"
   ]
  },
  {
   "cell_type": "code",
   "execution_count": 24,
   "id": "ca410940",
   "metadata": {
    "execution": {
     "iopub.execute_input": "2022-02-10T00:27:05.870485Z",
     "iopub.status.busy": "2022-02-10T00:27:05.869909Z",
     "iopub.status.idle": "2022-02-10T00:27:06.119859Z",
     "shell.execute_reply": "2022-02-10T00:27:06.120310Z"
    },
    "papermill": {
     "duration": 0.302732,
     "end_time": "2022-02-10T00:27:06.120466",
     "exception": false,
     "start_time": "2022-02-10T00:27:05.817734",
     "status": "completed"
    },
    "tags": []
   },
   "outputs": [
    {
     "data": {
      "text/plain": [
       "<matplotlib.legend.Legend at 0x7f8ccb2045c0>"
      ]
     },
     "execution_count": 24,
     "metadata": {},
     "output_type": "execute_result"
    },
    {
     "data": {
      "image/png": "[encoded data removed]",
      "text/plain": [
       "<Figure size 1080x720 with 1 Axes>"
      ]
     },
     "metadata": {
      "needs_background": "light"
     },
     "output_type": "display_data"
    }
   ],
   "source": [
    "#comparing the results of NN and LR\n",
    "plt.figure(figsize=(15,10))\n",
    "\n",
    "# Neural Network plots\n",
    "plt.plot(acc_nn.accuracies, 'r-', label = \"Training Accuracies - NN\")\n",
    "plt.plot(acc_nn.test_accuracies, 'g-', label = \"Testing Accuracies - NN\")\n",
    "\n",
    "# Logistic Regression plots\n",
    "plt.plot(acc_lr.accuracies, 'k-', label = \"Training Accuracies - LR\")\n",
    "plt.plot(acc_lr.test_accuracies, 'b-', label = \"Testing Accuracies - LR\")\n",
    "plt.legend()"
   ]
  },
  {
   "cell_type": "markdown",
   "id": "80dfb35c",
   "metadata": {
    "papermill": {
     "duration": 0.041297,
     "end_time": "2022-02-10T00:27:06.204059",
     "exception": false,
     "start_time": "2022-02-10T00:27:06.162762",
     "status": "completed"
    },
    "tags": []
   },
   "source": [
    "#### Plotting the outputs of this layer of the NN.\n"
   ]
  },
  {
   "cell_type": "code",
   "execution_count": 25,
   "id": "45eb2ff5",
   "metadata": {
    "execution": {
     "iopub.execute_input": "2022-02-10T00:27:06.288123Z",
     "iopub.status.busy": "2022-02-10T00:27:06.287502Z",
     "iopub.status.idle": "2022-02-10T00:27:06.309017Z",
     "shell.execute_reply": "2022-02-10T00:27:06.309460Z"
    },
    "papermill": {
     "duration": 0.066565,
     "end_time": "2022-02-10T00:27:06.309607",
     "exception": false,
     "start_time": "2022-02-10T00:27:06.243042",
     "status": "completed"
    },
    "tags": []
   },
   "outputs": [],
   "source": [
    "new_model = Model(layers[:-2])\n",
    "testing_plot = new_model(testing_data_x)"
   ]
  },
  {
   "cell_type": "code",
   "execution_count": 26,
   "id": "4c0a5485",
   "metadata": {
    "execution": {
     "iopub.execute_input": "2022-02-10T00:27:06.398368Z",
     "iopub.status.busy": "2022-02-10T00:27:06.397842Z",
     "iopub.status.idle": "2022-02-10T00:27:06.615094Z",
     "shell.execute_reply": "2022-02-10T00:27:06.615507Z"
    },
    "papermill": {
     "duration": 0.26537,
     "end_time": "2022-02-10T00:27:06.615633",
     "exception": false,
     "start_time": "2022-02-10T00:27:06.350263",
     "status": "completed"
    },
    "tags": []
   },
   "outputs": [
    {
     "data": {
      "text/plain": [
       "Text(0.5, 1.0, 'Outputs')"
      ]
     },
     "execution_count": 26,
     "metadata": {},
     "output_type": "execute_result"
    },
    {
     "data": {
      "image/png": "[encoded data removed]",
      "text/plain": [
       "<Figure size 576x504 with 1 Axes>"
      ]
     },
     "metadata": {
      "needs_background": "light"
     },
     "output_type": "display_data"
    }
   ],
   "source": [
    "# Plotting the scatter plot of points and color coding by class\n",
    "plt.figure(figsize=(8,7))\n",
    "plt.scatter(testing_plot[:,0], testing_plot[:,1], alpha = 0.1, c = y_test.ravel());\n",
    "plt.title('Outputs')"
   ]
  },
  {
   "cell_type": "markdown",
   "id": "a74fcf8f",
   "metadata": {
    "papermill": {
     "duration": 0.047073,
     "end_time": "2022-02-10T00:27:06.706349",
     "exception": false,
     "start_time": "2022-02-10T00:27:06.659276",
     "status": "completed"
    },
    "tags": []
   },
   "source": [
    "Probability contours"
   ]
  },
  {
   "cell_type": "code",
   "execution_count": 27,
   "id": "d0afc8e3",
   "metadata": {
    "execution": {
     "iopub.execute_input": "2022-02-10T00:27:06.798647Z",
     "iopub.status.busy": "2022-02-10T00:27:06.797931Z",
     "iopub.status.idle": "2022-02-10T00:27:06.809386Z",
     "shell.execute_reply": "2022-02-10T00:27:06.809817Z"
    },
    "papermill": {
     "duration": 0.059317,
     "end_time": "2022-02-10T00:27:06.809956",
     "exception": false,
     "start_time": "2022-02-10T00:27:06.750639",
     "status": "completed"
    },
    "tags": []
   },
   "outputs": [],
   "source": [
    "model_prob = Model(layers[-2:]) "
   ]
  },
  {
   "cell_type": "code",
   "execution_count": 28,
   "id": "9b96e238",
   "metadata": {
    "execution": {
     "iopub.execute_input": "2022-02-10T00:27:06.907199Z",
     "iopub.status.busy": "2022-02-10T00:27:06.906593Z",
     "iopub.status.idle": "2022-02-10T00:27:06.920436Z",
     "shell.execute_reply": "2022-02-10T00:27:06.921151Z"
    },
    "papermill": {
     "duration": 0.06536,
     "end_time": "2022-02-10T00:27:06.921289",
     "exception": false,
     "start_time": "2022-02-10T00:27:06.855929",
     "status": "completed"
    },
    "tags": []
   },
   "outputs": [],
   "source": [
    "#creating the x and y ranges according to the above generated plot.\n",
    "x_range = np.linspace(-4, 1, 100) \n",
    "y_range = np.linspace(-6, 6, 100) \n",
    "x_grid, y_grid = np.meshgrid(x_range, y_range) # x_grid and y_grig are of size 100 X 100\n",
    "\n",
    "# converting x_grid and y_grid to continuous arrays\n",
    "x_gridflat = np.ravel(x_grid)\n",
    "y_gridflat = np.ravel(y_grid)\n",
    "\n",
    "# The last layer of the current model takes two columns as input. Hence transpose of np.vstack() is required.\n",
    "X = np.vstack((x_gridflat, y_gridflat)).T\n",
    "\n",
    "prob_contour = model_prob(X).reshape(100,100) "
   ]
  },
  {
   "cell_type": "code",
   "execution_count": 29,
   "id": "da72499a",
   "metadata": {
    "execution": {
     "iopub.execute_input": "2022-02-10T00:27:07.049882Z",
     "iopub.status.busy": "2022-02-10T00:27:07.049366Z",
     "iopub.status.idle": "2022-02-10T00:27:07.290013Z",
     "shell.execute_reply": "2022-02-10T00:27:07.290806Z"
    },
    "papermill": {
     "duration": 0.323975,
     "end_time": "2022-02-10T00:27:07.290969",
     "exception": false,
     "start_time": "2022-02-10T00:27:06.966994",
     "status": "completed"
    },
    "tags": []
   },
   "outputs": [
    {
     "data": {
      "image/png": "[encoded data removed]",
      "text/plain": [
       "<Figure size 720x648 with 1 Axes>"
      ]
     },
     "metadata": {
      "needs_background": "light"
     },
     "output_type": "display_data"
    }
   ],
   "source": [
    "plt.figure(figsize=(10,9))\n",
    "plt.scatter(testing_plot[:,0], testing_plot[:,1], alpha = 0.1, c = y_test.ravel())\n",
    "contours = plt.contour(x_grid,y_grid,prob_contour)\n",
    "plt.title('Probability Contours')\n",
    "plt.clabel(contours, inline = True );"
   ]
  },
  {
   "cell_type": "code",
   "execution_count": null,
   "id": "e81b4ac7",
   "metadata": {
    "papermill": {
     "duration": 0.049689,
     "end_time": "2022-02-10T00:27:07.390302",
     "exception": false,
     "start_time": "2022-02-10T00:27:07.340613",
     "status": "completed"
    },
    "tags": []
   },
   "outputs": [],
   "source": []
  }
 ],
 "metadata": {
  "kernelspec": {
   "display_name": "Python 3",
   "language": "python",
   "name": "python3"
  },
  "language_info": {
   "codemirror_mode": {
    "name": "ipython",
    "version": 3
   },
   "file_extension": ".py",
   "mimetype": "text/x-python",
   "name": "python",
   "nbconvert_exporter": "python",
   "pygments_lexer": "ipython3",
   "version": "3.6.15"
  },
  "papermill": {
   "default_parameters": {},
   "duration": 103.308601,
   "end_time": "2022-02-10T00:27:07.856194",
   "environment_variables": {},
   "exception": null,
   "input_path": "2020-08-11-part2.ipynb",
   "output_path": "2020-08-11-part2.ipynb",
   "parameters": {},
   "start_time": "2022-02-10T00:25:24.547593",
   "version": "2.3.3"
  }
 },
 "nbformat": 4,
 "nbformat_minor": 5
}