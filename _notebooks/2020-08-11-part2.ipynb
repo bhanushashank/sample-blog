{
 "cells": [
  {
   "cell_type": "markdown",
   "id": "98380cd3",
   "metadata": {
    "papermill": {
     "duration": 0.032555,
     "end_time": "2022-01-23T20:08:22.410781",
     "exception": false,
     "start_time": "2022-01-23T20:08:22.378226",
     "status": "completed"
    },
    "tags": []
   },
   "source": [
    "# Distinguish Your Own Digits (DYOD)"
   ]
  },
  {
   "cell_type": "markdown",
   "id": "ef31240d",
   "metadata": {
    "papermill": {
     "duration": 0.027921,
     "end_time": "2022-01-23T20:08:22.467977",
     "exception": false,
     "start_time": "2022-01-23T20:08:22.440056",
     "status": "completed"
    },
    "tags": []
   },
   "source": [
    "You are going to write a classifier that distinguishes between the number 3 and number 8."
   ]
  },
  {
   "cell_type": "code",
   "execution_count": 1,
   "id": "b15c8646",
   "metadata": {
    "execution": {
     "iopub.execute_input": "2022-01-23T20:08:22.537003Z",
     "iopub.status.busy": "2022-01-23T20:08:22.536362Z",
     "iopub.status.idle": "2022-01-23T20:08:22.548513Z",
     "shell.execute_reply": "2022-01-23T20:08:22.547990Z"
    },
    "papermill": {
     "duration": 0.052383,
     "end_time": "2022-01-23T20:08:22.548666",
     "exception": false,
     "start_time": "2022-01-23T20:08:22.496283",
     "status": "completed"
    },
    "tags": []
   },
   "outputs": [],
   "source": [
    "%load_ext autoreload\n",
    "%autoreload 2"
   ]
  },
  {
   "cell_type": "code",
   "execution_count": 2,
   "id": "22ef38dc",
   "metadata": {
    "execution": {
     "iopub.execute_input": "2022-01-23T20:08:22.608618Z",
     "iopub.status.busy": "2022-01-23T20:08:22.608003Z",
     "iopub.status.idle": "2022-01-23T20:08:23.290430Z",
     "shell.execute_reply": "2022-01-23T20:08:23.289877Z"
    },
    "papermill": {
     "duration": 0.71421,
     "end_time": "2022-01-23T20:08:23.290579",
     "exception": false,
     "start_time": "2022-01-23T20:08:22.576369",
     "status": "completed"
    },
    "tags": []
   },
   "outputs": [],
   "source": [
    "%matplotlib inline\n",
    "import numpy as np\n",
    "import matplotlib.pyplot as plt\n",
    "import pandas as pd"
   ]
  },
  {
   "cell_type": "markdown",
   "id": "ba036198",
   "metadata": {
    "papermill": {
     "duration": 0.02728,
     "end_time": "2022-01-23T20:08:23.349102",
     "exception": false,
     "start_time": "2022-01-23T20:08:23.321822",
     "status": "completed"
    },
    "tags": []
   },
   "source": [
    "From the command line run `pip install mnist`. This is a library that will help you bring down the mnist dataset. If you run this from a notebook, you need to put  `!pip install mnist` in a cell by itself."
   ]
  },
  {
   "cell_type": "code",
   "execution_count": 3,
   "id": "bb6ad8a1",
   "metadata": {
    "execution": {
     "iopub.execute_input": "2022-01-23T20:08:23.407759Z",
     "iopub.status.busy": "2022-01-23T20:08:23.406677Z",
     "iopub.status.idle": "2022-01-23T20:08:25.340054Z",
     "shell.execute_reply": "2022-01-23T20:08:25.340761Z"
    },
    "papermill": {
     "duration": 1.965205,
     "end_time": "2022-01-23T20:08:25.340963",
     "exception": false,
     "start_time": "2022-01-23T20:08:23.375758",
     "status": "completed"
    },
    "tags": []
   },
   "outputs": [
    {
     "name": "stdout",
     "output_type": "stream",
     "text": [
      "Collecting mnist\r\n"
     ]
    },
    {
     "name": "stdout",
     "output_type": "stream",
     "text": [
      "  Downloading mnist-0.2.2-py2.py3-none-any.whl (3.5 kB)\r\n",
      "Requirement already satisfied: numpy in /opt/hostedtoolcache/Python/3.6.15/x64/lib/python3.6/site-packages (from mnist) (1.19.5)\r\n"
     ]
    },
    {
     "name": "stdout",
     "output_type": "stream",
     "text": [
      "Installing collected packages: mnist\r\n",
      "Successfully installed mnist-0.2.2\r\n"
     ]
    }
   ],
   "source": [
    "!pip install mnist"
   ]
  },
  {
   "cell_type": "markdown",
   "id": "69df9c9a",
   "metadata": {
    "papermill": {
     "duration": 0.02934,
     "end_time": "2022-01-23T20:08:25.399173",
     "exception": false,
     "start_time": "2022-01-23T20:08:25.369833",
     "status": "completed"
    },
    "tags": []
   },
   "source": [
    "## Preparing the Data"
   ]
  },
  {
   "cell_type": "code",
   "execution_count": 4,
   "id": "7f69d806",
   "metadata": {
    "execution": {
     "iopub.execute_input": "2022-01-23T20:08:25.466222Z",
     "iopub.status.busy": "2022-01-23T20:08:25.465616Z",
     "iopub.status.idle": "2022-01-23T20:08:25.481832Z",
     "shell.execute_reply": "2022-01-23T20:08:25.481258Z"
    },
    "papermill": {
     "duration": 0.048018,
     "end_time": "2022-01-23T20:08:25.481966",
     "exception": false,
     "start_time": "2022-01-23T20:08:25.433948",
     "status": "completed"
    },
    "tags": []
   },
   "outputs": [],
   "source": [
    "import mnist"
   ]
  },
  {
   "cell_type": "code",
   "execution_count": 5,
   "id": "a411e44f",
   "metadata": {
    "execution": {
     "iopub.execute_input": "2022-01-23T20:08:25.552977Z",
     "iopub.status.busy": "2022-01-23T20:08:25.552363Z",
     "iopub.status.idle": "2022-01-23T20:08:26.244413Z",
     "shell.execute_reply": "2022-01-23T20:08:26.243821Z"
    },
    "papermill": {
     "duration": 0.723419,
     "end_time": "2022-01-23T20:08:26.244551",
     "exception": false,
     "start_time": "2022-01-23T20:08:25.521132",
     "status": "completed"
    },
    "tags": []
   },
   "outputs": [],
   "source": [
    "train_images = mnist.train_images()\n",
    "train_labels = mnist.train_labels()"
   ]
  },
  {
   "cell_type": "code",
   "execution_count": 6,
   "id": "dceab3a5",
   "metadata": {
    "execution": {
     "iopub.execute_input": "2022-01-23T20:08:26.305795Z",
     "iopub.status.busy": "2022-01-23T20:08:26.304913Z",
     "iopub.status.idle": "2022-01-23T20:08:26.321826Z",
     "shell.execute_reply": "2022-01-23T20:08:26.321232Z"
    },
    "papermill": {
     "duration": 0.049504,
     "end_time": "2022-01-23T20:08:26.321953",
     "exception": false,
     "start_time": "2022-01-23T20:08:26.272449",
     "status": "completed"
    },
    "tags": []
   },
   "outputs": [
    {
     "data": {
      "text/plain": [
       "((60000, 28, 28), (60000,))"
      ]
     },
     "execution_count": 6,
     "metadata": {},
     "output_type": "execute_result"
    }
   ],
   "source": [
    "train_images.shape, train_labels.shape"
   ]
  },
  {
   "cell_type": "code",
   "execution_count": 7,
   "id": "f50dc2bb",
   "metadata": {
    "execution": {
     "iopub.execute_input": "2022-01-23T20:08:26.383023Z",
     "iopub.status.busy": "2022-01-23T20:08:26.382427Z",
     "iopub.status.idle": "2022-01-23T20:08:26.637375Z",
     "shell.execute_reply": "2022-01-23T20:08:26.636547Z"
    },
    "papermill": {
     "duration": 0.286926,
     "end_time": "2022-01-23T20:08:26.637576",
     "exception": false,
     "start_time": "2022-01-23T20:08:26.350650",
     "status": "completed"
    },
    "tags": []
   },
   "outputs": [],
   "source": [
    "test_images = mnist.test_images()\n",
    "test_labels = mnist.test_labels()"
   ]
  },
  {
   "cell_type": "code",
   "execution_count": 8,
   "id": "fc38cf1b",
   "metadata": {
    "execution": {
     "iopub.execute_input": "2022-01-23T20:08:26.708706Z",
     "iopub.status.busy": "2022-01-23T20:08:26.707589Z",
     "iopub.status.idle": "2022-01-23T20:08:26.723818Z",
     "shell.execute_reply": "2022-01-23T20:08:26.723282Z"
    },
    "papermill": {
     "duration": 0.051957,
     "end_time": "2022-01-23T20:08:26.723950",
     "exception": false,
     "start_time": "2022-01-23T20:08:26.671993",
     "status": "completed"
    },
    "tags": []
   },
   "outputs": [
    {
     "data": {
      "text/plain": [
       "((10000, 28, 28), (10000,))"
      ]
     },
     "execution_count": 8,
     "metadata": {},
     "output_type": "execute_result"
    }
   ],
   "source": [
    "test_images.shape, test_labels.shape"
   ]
  },
  {
   "cell_type": "code",
   "execution_count": 9,
   "id": "f9ed8fe0",
   "metadata": {
    "execution": {
     "iopub.execute_input": "2022-01-23T20:08:26.784286Z",
     "iopub.status.busy": "2022-01-23T20:08:26.783683Z",
     "iopub.status.idle": "2022-01-23T20:08:26.961227Z",
     "shell.execute_reply": "2022-01-23T20:08:26.960701Z"
    },
    "papermill": {
     "duration": 0.209415,
     "end_time": "2022-01-23T20:08:26.961361",
     "exception": false,
     "start_time": "2022-01-23T20:08:26.751946",
     "status": "completed"
    },
    "tags": []
   },
   "outputs": [
    {
     "name": "stdout",
     "output_type": "stream",
     "text": [
      "2\n"
     ]
    },
    {
     "data": {
      "text/plain": [
       "<matplotlib.image.AxesImage at 0x7f6c58441a58>"
      ]
     },
     "execution_count": 9,
     "metadata": {},
     "output_type": "execute_result"
    },
    {
     "data": {
      "image/png": "[encoded data removed]",
      "text/plain": [
       "<Figure size 432x288 with 1 Axes>"
      ]
     },
     "metadata": {
      "needs_background": "light"
     },
     "output_type": "display_data"
    }
   ],
   "source": [
    "image_index = 7776 # You may select anything up to 60,000\n",
    "print(train_labels[image_index]) \n",
    "plt.imshow(train_images[image_index], cmap='Greys')"
   ]
  },
  {
   "cell_type": "markdown",
   "id": "a8d2388d",
   "metadata": {
    "papermill": {
     "duration": 0.029717,
     "end_time": "2022-01-23T20:08:27.020951",
     "exception": false,
     "start_time": "2022-01-23T20:08:26.991234",
     "status": "completed"
    },
    "tags": []
   },
   "source": [
    "## Filter data to get 3 and 8 out"
   ]
  },
  {
   "cell_type": "code",
   "execution_count": 10,
   "id": "776f7fc7",
   "metadata": {
    "execution": {
     "iopub.execute_input": "2022-01-23T20:08:27.087187Z",
     "iopub.status.busy": "2022-01-23T20:08:27.086578Z",
     "iopub.status.idle": "2022-01-23T20:08:27.106738Z",
     "shell.execute_reply": "2022-01-23T20:08:27.107227Z"
    },
    "papermill": {
     "duration": 0.056584,
     "end_time": "2022-01-23T20:08:27.107382",
     "exception": false,
     "start_time": "2022-01-23T20:08:27.050798",
     "status": "completed"
    },
    "tags": []
   },
   "outputs": [],
   "source": [
    "train_filter = np.where((train_labels == 3 ) | (train_labels == 8))\n",
    "test_filter = np.where((test_labels == 3) | (test_labels == 8))\n",
    "X_train, y_train = train_images[train_filter], train_labels[train_filter]\n",
    "X_test, y_test = test_images[test_filter], test_labels[test_filter]"
   ]
  },
  {
   "cell_type": "markdown",
   "id": "948f0b7e",
   "metadata": {
    "papermill": {
     "duration": 0.029819,
     "end_time": "2022-01-23T20:08:27.167291",
     "exception": false,
     "start_time": "2022-01-23T20:08:27.137472",
     "status": "completed"
    },
    "tags": []
   },
   "source": [
    "We normalize the pizel values in the 0 to 1 range"
   ]
  },
  {
   "cell_type": "code",
   "execution_count": 11,
   "id": "ee4c2166",
   "metadata": {
    "execution": {
     "iopub.execute_input": "2022-01-23T20:08:27.237522Z",
     "iopub.status.busy": "2022-01-23T20:08:27.236929Z",
     "iopub.status.idle": "2022-01-23T20:08:27.290570Z",
     "shell.execute_reply": "2022-01-23T20:08:27.291090Z"
    },
    "papermill": {
     "duration": 0.088892,
     "end_time": "2022-01-23T20:08:27.291264",
     "exception": false,
     "start_time": "2022-01-23T20:08:27.202372",
     "status": "completed"
    },
    "tags": []
   },
   "outputs": [],
   "source": [
    "X_train = X_train/255.\n",
    "X_test = X_test/255."
   ]
  },
  {
   "cell_type": "markdown",
   "id": "ddcf4fab",
   "metadata": {
    "papermill": {
     "duration": 0.0305,
     "end_time": "2022-01-23T20:08:27.354970",
     "exception": false,
     "start_time": "2022-01-23T20:08:27.324470",
     "status": "completed"
    },
    "tags": []
   },
   "source": [
    "And setup the labels as 1 (when the digit is 3) and 0 (when the digit is 8)"
   ]
  },
  {
   "cell_type": "code",
   "execution_count": 12,
   "id": "7dc908f2",
   "metadata": {
    "execution": {
     "iopub.execute_input": "2022-01-23T20:08:27.420076Z",
     "iopub.status.busy": "2022-01-23T20:08:27.419427Z",
     "iopub.status.idle": "2022-01-23T20:08:27.434834Z",
     "shell.execute_reply": "2022-01-23T20:08:27.434335Z"
    },
    "papermill": {
     "duration": 0.049511,
     "end_time": "2022-01-23T20:08:27.434969",
     "exception": false,
     "start_time": "2022-01-23T20:08:27.385458",
     "status": "completed"
    },
    "tags": []
   },
   "outputs": [],
   "source": [
    "y_train = 1*(y_train==3)\n",
    "y_test = 1*(y_test==3)"
   ]
  },
  {
   "cell_type": "code",
   "execution_count": 13,
   "id": "01e4e969",
   "metadata": {
    "execution": {
     "iopub.execute_input": "2022-01-23T20:08:27.502652Z",
     "iopub.status.busy": "2022-01-23T20:08:27.501791Z",
     "iopub.status.idle": "2022-01-23T20:08:27.513238Z",
     "shell.execute_reply": "2022-01-23T20:08:27.513762Z"
    },
    "papermill": {
     "duration": 0.048763,
     "end_time": "2022-01-23T20:08:27.513930",
     "exception": false,
     "start_time": "2022-01-23T20:08:27.465167",
     "status": "completed"
    },
    "tags": []
   },
   "outputs": [
    {
     "data": {
      "text/plain": [
       "((11982, 28, 28), (1984, 28, 28))"
      ]
     },
     "execution_count": 13,
     "metadata": {},
     "output_type": "execute_result"
    }
   ],
   "source": [
    "X_train.shape, X_test.shape"
   ]
  },
  {
   "cell_type": "markdown",
   "id": "5ccf3f85",
   "metadata": {
    "papermill": {
     "duration": 0.031072,
     "end_time": "2022-01-23T20:08:27.583654",
     "exception": false,
     "start_time": "2022-01-23T20:08:27.552582",
     "status": "completed"
    },
    "tags": []
   },
   "source": [
    "We reshape the data to flatten the image pixels into a set of features or co-variates:"
   ]
  },
  {
   "cell_type": "code",
   "execution_count": 14,
   "id": "5286a4a3",
   "metadata": {
    "execution": {
     "iopub.execute_input": "2022-01-23T20:08:27.649524Z",
     "iopub.status.busy": "2022-01-23T20:08:27.648435Z",
     "iopub.status.idle": "2022-01-23T20:08:27.662722Z",
     "shell.execute_reply": "2022-01-23T20:08:27.663171Z"
    },
    "papermill": {
     "duration": 0.049264,
     "end_time": "2022-01-23T20:08:27.663329",
     "exception": false,
     "start_time": "2022-01-23T20:08:27.614065",
     "status": "completed"
    },
    "tags": []
   },
   "outputs": [
    {
     "data": {
      "text/plain": [
       "((11982, 784), (1984, 784))"
      ]
     },
     "execution_count": 14,
     "metadata": {},
     "output_type": "execute_result"
    }
   ],
   "source": [
    "X_train = X_train.reshape(X_train.shape[0], -1)\n",
    "X_test = X_test.reshape(X_test.shape[0], -1)\n",
    "X_train.shape, X_test.shape"
   ]
  },
  {
   "cell_type": "code",
   "execution_count": 15,
   "id": "73c5f88a",
   "metadata": {
    "execution": {
     "iopub.execute_input": "2022-01-23T20:08:27.729556Z",
     "iopub.status.busy": "2022-01-23T20:08:27.728949Z",
     "iopub.status.idle": "2022-01-23T20:08:27.756581Z",
     "shell.execute_reply": "2022-01-23T20:08:27.755951Z"
    },
    "papermill": {
     "duration": 0.062588,
     "end_time": "2022-01-23T20:08:27.756733",
     "exception": false,
     "start_time": "2022-01-23T20:08:27.694145",
     "status": "completed"
    },
    "tags": []
   },
   "outputs": [],
   "source": [
    "#Impoting functions from 'Kudzu'\n",
    "from kudzu.model import Model\n",
    "from kudzu.train import Learner\n",
    "from kudzu.optim import GD\n",
    "from kudzu.data import Data, Sampler,Dataloader\n",
    "\n",
    "from kudzu.callbacks import AccCallback\n",
    "from kudzu.callbacks import ClfCallback\n",
    "\n",
    "from kudzu.loss import MSE\n",
    "\n",
    "from kudzu.layer import Sigmoid,Relu\n",
    "from kudzu.layer import Affine"
   ]
  },
  {
   "cell_type": "markdown",
   "id": "bc01172a",
   "metadata": {
    "papermill": {
     "duration": 0.030123,
     "end_time": "2022-01-23T20:08:27.821284",
     "exception": false,
     "start_time": "2022-01-23T20:08:27.791161",
     "status": "completed"
    },
    "tags": []
   },
   "source": [
    "### Let us create a `Config` class, to store important parameters. \n",
    "This class essentially plays the role of a dictionary."
   ]
  },
  {
   "cell_type": "code",
   "execution_count": 16,
   "id": "978281aa",
   "metadata": {
    "execution": {
     "iopub.execute_input": "2022-01-23T20:08:27.886080Z",
     "iopub.status.busy": "2022-01-23T20:08:27.885463Z",
     "iopub.status.idle": "2022-01-23T20:08:27.900369Z",
     "shell.execute_reply": "2022-01-23T20:08:27.899819Z"
    },
    "papermill": {
     "duration": 0.049119,
     "end_time": "2022-01-23T20:08:27.900504",
     "exception": false,
     "start_time": "2022-01-23T20:08:27.851385",
     "status": "completed"
    },
    "tags": []
   },
   "outputs": [],
   "source": [
    "class Config:\n",
    "    pass\n",
    "config = Config()\n",
    "config.lr = 0.001\n",
    "config.num_epochs = 250\n",
    "config.bs = 50"
   ]
  },
  {
   "cell_type": "markdown",
   "id": "1385fa59",
   "metadata": {
    "papermill": {
     "duration": 0.03041,
     "end_time": "2022-01-23T20:08:27.962183",
     "exception": false,
     "start_time": "2022-01-23T20:08:27.931773",
     "status": "completed"
    },
    "tags": []
   },
   "source": [
    "### Running Models with the Training data\n",
    "Details about the network layers:\n",
    "- A first affine layer has 784 inputs and does 100 affine transforms. These are followed by a Relu\n",
    "- A second affine layer has 100 inputs from the 100 activations of the past layer, and does 100 affine transforms. These are followed by a Relu\n",
    "- A third affine layer has 100 activations and does 2 affine transformations to create an embedding for visualization. There is no non-linearity here.\n",
    "- A final \"logistic regression\" which has an affine transform from 2 inputs to 1 output, which is squeezed through a sigmoid.\n"
   ]
  },
  {
   "cell_type": "code",
   "execution_count": 17,
   "id": "2b9c66db",
   "metadata": {
    "execution": {
     "iopub.execute_input": "2022-01-23T20:08:28.030546Z",
     "iopub.status.busy": "2022-01-23T20:08:28.029916Z",
     "iopub.status.idle": "2022-01-23T20:08:28.044173Z",
     "shell.execute_reply": "2022-01-23T20:08:28.043667Z"
    },
    "papermill": {
     "duration": 0.051912,
     "end_time": "2022-01-23T20:08:28.044310",
     "exception": false,
     "start_time": "2022-01-23T20:08:27.992398",
     "status": "completed"
    },
    "tags": []
   },
   "outputs": [],
   "source": [
    "data = Data(X_train, y_train.reshape(-1,1))\n",
    "sampler = Sampler(data, config.bs, shuffle=True)\n",
    "\n",
    "dl = Dataloader(data, sampler)\n",
    "\n",
    "opt = GD(config.lr)\n",
    "loss = MSE()"
   ]
  },
  {
   "cell_type": "code",
   "execution_count": 18,
   "id": "b275e4c2",
   "metadata": {
    "execution": {
     "iopub.execute_input": "2022-01-23T20:08:28.109406Z",
     "iopub.status.busy": "2022-01-23T20:08:28.108799Z",
     "iopub.status.idle": "2022-01-23T20:08:28.122121Z",
     "shell.execute_reply": "2022-01-23T20:08:28.121627Z"
    },
    "papermill": {
     "duration": 0.047595,
     "end_time": "2022-01-23T20:08:28.122258",
     "exception": false,
     "start_time": "2022-01-23T20:08:28.074663",
     "status": "completed"
    },
    "tags": []
   },
   "outputs": [],
   "source": [
    "training_data_x = X_train\n",
    "testing_data_x = X_test\n",
    "training_data_y = y_train.reshape(-1,1)\n",
    "testing_data_y = y_test.reshape(-1,1)"
   ]
  },
  {
   "cell_type": "code",
   "execution_count": 19,
   "id": "76951160",
   "metadata": {
    "execution": {
     "iopub.execute_input": "2022-01-23T20:08:28.187473Z",
     "iopub.status.busy": "2022-01-23T20:08:28.186861Z",
     "iopub.status.idle": "2022-01-23T20:08:28.205279Z",
     "shell.execute_reply": "2022-01-23T20:08:28.204796Z"
    },
    "papermill": {
     "duration": 0.052998,
     "end_time": "2022-01-23T20:08:28.205415",
     "exception": false,
     "start_time": "2022-01-23T20:08:28.152417",
     "status": "completed"
    },
    "tags": []
   },
   "outputs": [
    {
     "name": "stdout",
     "output_type": "stream",
     "text": [
      "xavier\n",
      "xavier\n",
      "xavier\n",
      "xavier\n",
      "xavier\n"
     ]
    }
   ],
   "source": [
    "layers = [Affine(\"first\", 784, 100), Relu(\"first\"), Affine(\"second\", 100, 100), Relu(\"second\"), Affine(\"third\", 100, 2), Affine(\"last\", 2, 1), Sigmoid(\"last\")]\n",
    "model_nn = Model(layers)\n",
    "model_lr = Model([Affine(\"logits\", 784, 1), Sigmoid(\"sigmoid\")])"
   ]
  },
  {
   "cell_type": "code",
   "execution_count": 20,
   "id": "6eede77a",
   "metadata": {
    "execution": {
     "iopub.execute_input": "2022-01-23T20:08:28.270928Z",
     "iopub.status.busy": "2022-01-23T20:08:28.270322Z",
     "iopub.status.idle": "2022-01-23T20:08:28.284269Z",
     "shell.execute_reply": "2022-01-23T20:08:28.283767Z"
    },
    "papermill": {
     "duration": 0.048592,
     "end_time": "2022-01-23T20:08:28.284407",
     "exception": false,
     "start_time": "2022-01-23T20:08:28.235815",
     "status": "completed"
    },
    "tags": []
   },
   "outputs": [],
   "source": [
    "nn_learner = Learner(loss, model_nn, opt, config.num_epochs)\n",
    "acc_nn = ClfCallback(nn_learner, config.bs, training_data_x , testing_data_x, training_data_y, testing_data_y)\n",
    "nn_learner.set_callbacks([acc_nn])"
   ]
  },
  {
   "cell_type": "code",
   "execution_count": 21,
   "id": "877b6cc7",
   "metadata": {
    "execution": {
     "iopub.execute_input": "2022-01-23T20:08:28.350100Z",
     "iopub.status.busy": "2022-01-23T20:08:28.349502Z",
     "iopub.status.idle": "2022-01-23T20:08:28.363196Z",
     "shell.execute_reply": "2022-01-23T20:08:28.362704Z"
    },
    "papermill": {
     "duration": 0.048386,
     "end_time": "2022-01-23T20:08:28.363331",
     "exception": false,
     "start_time": "2022-01-23T20:08:28.314945",
     "status": "completed"
    },
    "tags": []
   },
   "outputs": [],
   "source": [
    "lr_learner = Learner(loss, model_lr, opt, config.num_epochs)\n",
    "acc_lr = ClfCallback(lr_learner, config.bs, training_data_x , testing_data_x, training_data_y, testing_data_y)\n",
    "lr_learner.set_callbacks([acc_lr])"
   ]
  },
  {
   "cell_type": "code",
   "execution_count": 22,
   "id": "d9b133c3",
   "metadata": {
    "execution": {
     "iopub.execute_input": "2022-01-23T20:08:28.429026Z",
     "iopub.status.busy": "2022-01-23T20:08:28.428426Z",
     "iopub.status.idle": "2022-01-23T20:09:55.990704Z",
     "shell.execute_reply": "2022-01-23T20:09:55.991569Z"
    },
    "papermill": {
     "duration": 87.597705,
     "end_time": "2022-01-23T20:09:55.991736",
     "exception": false,
     "start_time": "2022-01-23T20:08:28.394031",
     "status": "completed"
    },
    "tags": []
   },
   "outputs": [
    {
     "name": "stdout",
     "output_type": "stream",
     "text": [
      "Epoch 0, Loss 0.2423\n",
      "Training Accuracy: 0.6955, Testing Accuracy: 0.7087\n",
      "\n"
     ]
    },
    {
     "name": "stdout",
     "output_type": "stream",
     "text": [
      "Epoch 10, Loss 0.0826\n",
      "Training Accuracy: 0.9170, Testing Accuracy: 0.9315\n",
      "\n"
     ]
    },
    {
     "name": "stdout",
     "output_type": "stream",
     "text": [
      "Epoch 20, Loss 0.0524\n",
      "Training Accuracy: 0.9448, Testing Accuracy: 0.9516\n",
      "\n"
     ]
    },
    {
     "name": "stdout",
     "output_type": "stream",
     "text": [
      "Epoch 30, Loss 0.0417\n",
      "Training Accuracy: 0.9537, Testing Accuracy: 0.9637\n",
      "\n"
     ]
    },
    {
     "name": "stdout",
     "output_type": "stream",
     "text": [
      "Epoch 40, Loss 0.0365\n",
      "Training Accuracy: 0.9586, Testing Accuracy: 0.9677\n",
      "\n"
     ]
    },
    {
     "name": "stdout",
     "output_type": "stream",
     "text": [
      "Epoch 50, Loss 0.0333\n",
      "Training Accuracy: 0.9624, Testing Accuracy: 0.9698\n",
      "\n"
     ]
    },
    {
     "name": "stdout",
     "output_type": "stream",
     "text": [
      "Epoch 60, Loss 0.0311\n",
      "Training Accuracy: 0.9638, Testing Accuracy: 0.9708\n",
      "\n"
     ]
    },
    {
     "name": "stdout",
     "output_type": "stream",
     "text": [
      "Epoch 70, Loss 0.0294\n",
      "Training Accuracy: 0.9659, Testing Accuracy: 0.9723\n",
      "\n"
     ]
    },
    {
     "name": "stdout",
     "output_type": "stream",
     "text": [
      "Epoch 80, Loss 0.0281\n",
      "Training Accuracy: 0.9675, Testing Accuracy: 0.9728\n",
      "\n"
     ]
    },
    {
     "name": "stdout",
     "output_type": "stream",
     "text": [
      "Epoch 90, Loss 0.027\n",
      "Training Accuracy: 0.9686, Testing Accuracy: 0.9723\n",
      "\n"
     ]
    },
    {
     "name": "stdout",
     "output_type": "stream",
     "text": [
      "Epoch 100, Loss 0.026\n",
      "Training Accuracy: 0.9701, Testing Accuracy: 0.9713\n",
      "\n"
     ]
    },
    {
     "name": "stdout",
     "output_type": "stream",
     "text": [
      "Epoch 110, Loss 0.0251\n",
      "Training Accuracy: 0.9714, Testing Accuracy: 0.9718\n",
      "\n"
     ]
    },
    {
     "name": "stdout",
     "output_type": "stream",
     "text": [
      "Epoch 120, Loss 0.0243\n",
      "Training Accuracy: 0.9727, Testing Accuracy: 0.9723\n",
      "\n"
     ]
    },
    {
     "name": "stdout",
     "output_type": "stream",
     "text": [
      "Epoch 130, Loss 0.0236\n",
      "Training Accuracy: 0.9730, Testing Accuracy: 0.9723\n",
      "\n"
     ]
    },
    {
     "name": "stdout",
     "output_type": "stream",
     "text": [
      "Epoch 140, Loss 0.0229\n",
      "Training Accuracy: 0.9737, Testing Accuracy: 0.9733\n",
      "\n"
     ]
    },
    {
     "name": "stdout",
     "output_type": "stream",
     "text": [
      "Epoch 150, Loss 0.0223\n",
      "Training Accuracy: 0.9746, Testing Accuracy: 0.9733\n",
      "\n"
     ]
    },
    {
     "name": "stdout",
     "output_type": "stream",
     "text": [
      "Epoch 160, Loss 0.0218\n",
      "Training Accuracy: 0.9758, Testing Accuracy: 0.9733\n",
      "\n"
     ]
    },
    {
     "name": "stdout",
     "output_type": "stream",
     "text": [
      "Epoch 170, Loss 0.0212\n",
      "Training Accuracy: 0.9762, Testing Accuracy: 0.9738\n",
      "\n"
     ]
    },
    {
     "name": "stdout",
     "output_type": "stream",
     "text": [
      "Epoch 180, Loss 0.0207\n",
      "Training Accuracy: 0.9769, Testing Accuracy: 0.9743\n",
      "\n"
     ]
    },
    {
     "name": "stdout",
     "output_type": "stream",
     "text": [
      "Epoch 190, Loss 0.0203\n",
      "Training Accuracy: 0.9774, Testing Accuracy: 0.9748\n",
      "\n"
     ]
    },
    {
     "name": "stdout",
     "output_type": "stream",
     "text": [
      "Epoch 200, Loss 0.0198\n",
      "Training Accuracy: 0.9775, Testing Accuracy: 0.9748\n",
      "\n"
     ]
    },
    {
     "name": "stdout",
     "output_type": "stream",
     "text": [
      "Epoch 210, Loss 0.0194\n",
      "Training Accuracy: 0.9782, Testing Accuracy: 0.9753\n",
      "\n"
     ]
    },
    {
     "name": "stdout",
     "output_type": "stream",
     "text": [
      "Epoch 220, Loss 0.019\n",
      "Training Accuracy: 0.9790, Testing Accuracy: 0.9758\n",
      "\n"
     ]
    },
    {
     "name": "stdout",
     "output_type": "stream",
     "text": [
      "Epoch 230, Loss 0.0186\n",
      "Training Accuracy: 0.9794, Testing Accuracy: 0.9753\n",
      "\n"
     ]
    },
    {
     "name": "stdout",
     "output_type": "stream",
     "text": [
      "Epoch 240, Loss 0.0182\n",
      "Training Accuracy: 0.9800, Testing Accuracy: 0.9763\n",
      "\n"
     ]
    },
    {
     "data": {
      "text/plain": [
       "0.021596865801329496"
      ]
     },
     "execution_count": 22,
     "metadata": {},
     "output_type": "execute_result"
    }
   ],
   "source": [
    "nn_learner.train_loop(dl)"
   ]
  },
  {
   "cell_type": "code",
   "execution_count": 23,
   "id": "e0163366",
   "metadata": {
    "execution": {
     "iopub.execute_input": "2022-01-23T20:09:56.077412Z",
     "iopub.status.busy": "2022-01-23T20:09:56.076809Z",
     "iopub.status.idle": "2022-01-23T20:10:11.857369Z",
     "shell.execute_reply": "2022-01-23T20:10:11.858207Z"
    },
    "papermill": {
     "duration": 15.827703,
     "end_time": "2022-01-23T20:10:11.858373",
     "exception": false,
     "start_time": "2022-01-23T20:09:56.030670",
     "status": "completed"
    },
    "tags": []
   },
   "outputs": [
    {
     "name": "stdout",
     "output_type": "stream",
     "text": [
      "Epoch 0, Loss 0.2199\n",
      "Training Accuracy: 0.7650, Testing Accuracy: 0.8009\n",
      "\n"
     ]
    },
    {
     "name": "stdout",
     "output_type": "stream",
     "text": [
      "Epoch 10, Loss 0.1015\n",
      "Training Accuracy: 0.9109, Testing Accuracy: 0.9234\n",
      "\n"
     ]
    },
    {
     "name": "stdout",
     "output_type": "stream",
     "text": [
      "Epoch 20, Loss 0.0788\n",
      "Training Accuracy: 0.9286, Testing Accuracy: 0.9441\n",
      "\n"
     ]
    },
    {
     "name": "stdout",
     "output_type": "stream",
     "text": [
      "Epoch 30, Loss 0.068\n",
      "Training Accuracy: 0.9372, Testing Accuracy: 0.9546\n",
      "\n"
     ]
    },
    {
     "name": "stdout",
     "output_type": "stream",
     "text": [
      "Epoch 40, Loss 0.0614\n",
      "Training Accuracy: 0.9416, Testing Accuracy: 0.9561\n",
      "\n"
     ]
    },
    {
     "name": "stdout",
     "output_type": "stream",
     "text": [
      "Epoch 50, Loss 0.0569\n",
      "Training Accuracy: 0.9458, Testing Accuracy: 0.9617\n",
      "\n"
     ]
    },
    {
     "name": "stdout",
     "output_type": "stream",
     "text": [
      "Epoch 60, Loss 0.0536\n",
      "Training Accuracy: 0.9482, Testing Accuracy: 0.9617\n",
      "\n"
     ]
    },
    {
     "name": "stdout",
     "output_type": "stream",
     "text": [
      "Epoch 70, Loss 0.0511\n",
      "Training Accuracy: 0.9493, Testing Accuracy: 0.9642\n",
      "\n"
     ]
    },
    {
     "name": "stdout",
     "output_type": "stream",
     "text": [
      "Epoch 80, Loss 0.0491\n",
      "Training Accuracy: 0.9508, Testing Accuracy: 0.9667\n",
      "\n"
     ]
    },
    {
     "name": "stdout",
     "output_type": "stream",
     "text": [
      "Epoch 90, Loss 0.0474\n",
      "Training Accuracy: 0.9523, Testing Accuracy: 0.9662\n",
      "\n"
     ]
    },
    {
     "name": "stdout",
     "output_type": "stream",
     "text": [
      "Epoch 100, Loss 0.046\n",
      "Training Accuracy: 0.9532, Testing Accuracy: 0.9662\n",
      "\n"
     ]
    },
    {
     "name": "stdout",
     "output_type": "stream",
     "text": [
      "Epoch 110, Loss 0.0448\n",
      "Training Accuracy: 0.9540, Testing Accuracy: 0.9662\n",
      "\n"
     ]
    },
    {
     "name": "stdout",
     "output_type": "stream",
     "text": [
      "Epoch 120, Loss 0.0437\n",
      "Training Accuracy: 0.9548, Testing Accuracy: 0.9662\n",
      "\n"
     ]
    },
    {
     "name": "stdout",
     "output_type": "stream",
     "text": [
      "Epoch 130, Loss 0.0428\n",
      "Training Accuracy: 0.9551, Testing Accuracy: 0.9662\n",
      "\n"
     ]
    },
    {
     "name": "stdout",
     "output_type": "stream",
     "text": [
      "Epoch 140, Loss 0.042\n",
      "Training Accuracy: 0.9559, Testing Accuracy: 0.9667\n",
      "\n"
     ]
    },
    {
     "name": "stdout",
     "output_type": "stream",
     "text": [
      "Epoch 150, Loss 0.0412\n",
      "Training Accuracy: 0.9566, Testing Accuracy: 0.9677\n",
      "\n"
     ]
    },
    {
     "name": "stdout",
     "output_type": "stream",
     "text": [
      "Epoch 160, Loss 0.0406\n",
      "Training Accuracy: 0.9574, Testing Accuracy: 0.9677\n",
      "\n"
     ]
    },
    {
     "name": "stdout",
     "output_type": "stream",
     "text": [
      "Epoch 170, Loss 0.04\n",
      "Training Accuracy: 0.9583, Testing Accuracy: 0.9682\n",
      "\n"
     ]
    },
    {
     "name": "stdout",
     "output_type": "stream",
     "text": [
      "Epoch 180, Loss 0.0394\n",
      "Training Accuracy: 0.9592, Testing Accuracy: 0.9677\n",
      "\n"
     ]
    },
    {
     "name": "stdout",
     "output_type": "stream",
     "text": [
      "Epoch 190, Loss 0.0389\n",
      "Training Accuracy: 0.9595, Testing Accuracy: 0.9682\n",
      "\n"
     ]
    },
    {
     "name": "stdout",
     "output_type": "stream",
     "text": [
      "Epoch 200, Loss 0.0384\n",
      "Training Accuracy: 0.9597, Testing Accuracy: 0.9682\n",
      "\n"
     ]
    },
    {
     "name": "stdout",
     "output_type": "stream",
     "text": [
      "Epoch 210, Loss 0.038\n",
      "Training Accuracy: 0.9598, Testing Accuracy: 0.9688\n",
      "\n"
     ]
    },
    {
     "name": "stdout",
     "output_type": "stream",
     "text": [
      "Epoch 220, Loss 0.0376\n",
      "Training Accuracy: 0.9601, Testing Accuracy: 0.9693\n",
      "\n"
     ]
    },
    {
     "name": "stdout",
     "output_type": "stream",
     "text": [
      "Epoch 230, Loss 0.0372\n",
      "Training Accuracy: 0.9604, Testing Accuracy: 0.9698\n",
      "\n"
     ]
    },
    {
     "name": "stdout",
     "output_type": "stream",
     "text": [
      "Epoch 240, Loss 0.0368\n",
      "Training Accuracy: 0.9604, Testing Accuracy: 0.9693\n",
      "\n"
     ]
    },
    {
     "data": {
      "text/plain": [
       "0.06426836645097207"
      ]
     },
     "execution_count": 23,
     "metadata": {},
     "output_type": "execute_result"
    }
   ],
   "source": [
    "lr_learner.train_loop(dl)"
   ]
  },
  {
   "cell_type": "code",
   "execution_count": 24,
   "id": "ca410940",
   "metadata": {
    "execution": {
     "iopub.execute_input": "2022-01-23T20:10:11.964927Z",
     "iopub.status.busy": "2022-01-23T20:10:11.964298Z",
     "iopub.status.idle": "2022-01-23T20:10:12.225576Z",
     "shell.execute_reply": "2022-01-23T20:10:12.224903Z"
    },
    "papermill": {
     "duration": 0.321329,
     "end_time": "2022-01-23T20:10:12.225729",
     "exception": false,
     "start_time": "2022-01-23T20:10:11.904400",
     "status": "completed"
    },
    "tags": []
   },
   "outputs": [
    {
     "data": {
      "text/plain": [
       "<matplotlib.legend.Legend at 0x7f6c57f9cf28>"
      ]
     },
     "execution_count": 24,
     "metadata": {},
     "output_type": "execute_result"
    },
    {
     "data": {
      "image/png": "[encoded data removed]",
      "text/plain": [
       "<Figure size 1080x720 with 1 Axes>"
      ]
     },
     "metadata": {
      "needs_background": "light"
     },
     "output_type": "display_data"
    }
   ],
   "source": [
    "#comparing the results of NN and LR\n",
    "plt.figure(figsize=(15,10))\n",
    "\n",
    "# Neural Network plots\n",
    "plt.plot(acc_nn.accuracies, 'r-', label = \"Training Accuracies - NN\")\n",
    "plt.plot(acc_nn.test_accuracies, 'g-', label = \"Testing Accuracies - NN\")\n",
    "\n",
    "# Logistic Regression plots\n",
    "plt.plot(acc_lr.accuracies, 'k-', label = \"Training Accuracies - LR\")\n",
    "plt.plot(acc_lr.test_accuracies, 'b-', label = \"Testing Accuracies - LR\")\n",
    "plt.legend()"
   ]
  },
  {
   "cell_type": "markdown",
   "id": "80dfb35c",
   "metadata": {
    "papermill": {
     "duration": 0.047245,
     "end_time": "2022-01-23T20:10:12.320993",
     "exception": false,
     "start_time": "2022-01-23T20:10:12.273748",
     "status": "completed"
    },
    "tags": []
   },
   "source": [
    "#### Plotting the outputs of this layer of the NN.\n"
   ]
  },
  {
   "cell_type": "code",
   "execution_count": 25,
   "id": "45eb2ff5",
   "metadata": {
    "execution": {
     "iopub.execute_input": "2022-01-23T20:10:12.422447Z",
     "iopub.status.busy": "2022-01-23T20:10:12.421801Z",
     "iopub.status.idle": "2022-01-23T20:10:12.443795Z",
     "shell.execute_reply": "2022-01-23T20:10:12.444293Z"
    },
    "papermill": {
     "duration": 0.074953,
     "end_time": "2022-01-23T20:10:12.444463",
     "exception": false,
     "start_time": "2022-01-23T20:10:12.369510",
     "status": "completed"
    },
    "tags": []
   },
   "outputs": [],
   "source": [
    "new_model = Model(layers[:-2])\n",
    "testing_plot = new_model(testing_data_x)"
   ]
  },
  {
   "cell_type": "code",
   "execution_count": 26,
   "id": "4c0a5485",
   "metadata": {
    "execution": {
     "iopub.execute_input": "2022-01-23T20:10:12.549557Z",
     "iopub.status.busy": "2022-01-23T20:10:12.548953Z",
     "iopub.status.idle": "2022-01-23T20:10:12.792869Z",
     "shell.execute_reply": "2022-01-23T20:10:12.793604Z"
    },
    "papermill": {
     "duration": 0.297841,
     "end_time": "2022-01-23T20:10:12.793789",
     "exception": false,
     "start_time": "2022-01-23T20:10:12.495948",
     "status": "completed"
    },
    "tags": []
   },
   "outputs": [
    {
     "data": {
      "text/plain": [
       "Text(0.5, 1.0, 'Outputs')"
      ]
     },
     "execution_count": 26,
     "metadata": {},
     "output_type": "execute_result"
    },
    {
     "data": {
      "image/png": "[encoded data removed]",
      "text/plain": [
       "<Figure size 576x504 with 1 Axes>"
      ]
     },
     "metadata": {
      "needs_background": "light"
     },
     "output_type": "display_data"
    }
   ],
   "source": [
    "# Plotting the scatter plot of points and color coding by class\n",
    "plt.figure(figsize=(8,7))\n",
    "plt.scatter(testing_plot[:,0], testing_plot[:,1], alpha = 0.1, c = y_test.ravel());\n",
    "plt.title('Outputs')"
   ]
  },
  {
   "cell_type": "markdown",
   "id": "a74fcf8f",
   "metadata": {
    "papermill": {
     "duration": 0.04992,
     "end_time": "2022-01-23T20:10:12.895154",
     "exception": false,
     "start_time": "2022-01-23T20:10:12.845234",
     "status": "completed"
    },
    "tags": []
   },
   "source": [
    "Probability contours"
   ]
  },
  {
   "cell_type": "code",
   "execution_count": 27,
   "id": "d0afc8e3",
   "metadata": {
    "execution": {
     "iopub.execute_input": "2022-01-23T20:10:13.000891Z",
     "iopub.status.busy": "2022-01-23T20:10:13.000294Z",
     "iopub.status.idle": "2022-01-23T20:10:13.011490Z",
     "shell.execute_reply": "2022-01-23T20:10:13.012003Z"
    },
    "papermill": {
     "duration": 0.067212,
     "end_time": "2022-01-23T20:10:13.012156",
     "exception": false,
     "start_time": "2022-01-23T20:10:12.944944",
     "status": "completed"
    },
    "tags": []
   },
   "outputs": [],
   "source": [
    "model_prob = Model(layers[-2:]) "
   ]
  },
  {
   "cell_type": "code",
   "execution_count": 28,
   "id": "9b96e238",
   "metadata": {
    "execution": {
     "iopub.execute_input": "2022-01-23T20:10:13.118576Z",
     "iopub.status.busy": "2022-01-23T20:10:13.117962Z",
     "iopub.status.idle": "2022-01-23T20:10:13.132680Z",
     "shell.execute_reply": "2022-01-23T20:10:13.133138Z"
    },
    "papermill": {
     "duration": 0.070961,
     "end_time": "2022-01-23T20:10:13.133296",
     "exception": false,
     "start_time": "2022-01-23T20:10:13.062335",
     "status": "completed"
    },
    "tags": []
   },
   "outputs": [],
   "source": [
    "#creating the x and y ranges according to the above generated plot.\n",
    "x_range = np.linspace(-4, 1, 100) \n",
    "y_range = np.linspace(-6, 6, 100) \n",
    "x_grid, y_grid = np.meshgrid(x_range, y_range) # x_grid and y_grig are of size 100 X 100\n",
    "\n",
    "# converting x_grid and y_grid to continuous arrays\n",
    "x_gridflat = np.ravel(x_grid)\n",
    "y_gridflat = np.ravel(y_grid)\n",
    "\n",
    "# The last layer of the current model takes two columns as input. Hence transpose of np.vstack() is required.\n",
    "X = np.vstack((x_gridflat, y_gridflat)).T\n",
    "\n",
    "prob_contour = model_prob(X).reshape(100,100) "
   ]
  },
  {
   "cell_type": "code",
   "execution_count": 29,
   "id": "da72499a",
   "metadata": {
    "execution": {
     "iopub.execute_input": "2022-01-23T20:10:13.269580Z",
     "iopub.status.busy": "2022-01-23T20:10:13.268873Z",
     "iopub.status.idle": "2022-01-23T20:10:13.549422Z",
     "shell.execute_reply": "2022-01-23T20:10:13.548898Z"
    },
    "papermill": {
     "duration": 0.365069,
     "end_time": "2022-01-23T20:10:13.549561",
     "exception": false,
     "start_time": "2022-01-23T20:10:13.184492",
     "status": "completed"
    },
    "tags": []
   },
   "outputs": [
    {
     "data": {
      "image/png": "[encoded data removed]",
      "text/plain": [
       "<Figure size 720x648 with 1 Axes>"
      ]
     },
     "metadata": {
      "needs_background": "light"
     },
     "output_type": "display_data"
    }
   ],
   "source": [
    "plt.figure(figsize=(10,9))\n",
    "plt.scatter(testing_plot[:,0], testing_plot[:,1], alpha = 0.1, c = y_test.ravel())\n",
    "contours = plt.contour(x_grid,y_grid,prob_contour)\n",
    "plt.title('Probability Contours')\n",
    "plt.clabel(contours, inline = True );"
   ]
  },
  {
   "cell_type": "code",
   "execution_count": null,
   "id": "e81b4ac7",
   "metadata": {
    "papermill": {
     "duration": 0.053012,
     "end_time": "2022-01-23T20:10:13.655798",
     "exception": false,
     "start_time": "2022-01-23T20:10:13.602786",
     "status": "completed"
    },
    "tags": []
   },
   "outputs": [],
   "source": []
  }
 ],
 "metadata": {
  "kernelspec": {
   "display_name": "Python 3",
   "language": "python",
   "name": "python3"
  },
  "language_info": {
   "codemirror_mode": {
    "name": "ipython",
    "version": 3
   },
   "file_extension": ".py",
   "mimetype": "text/x-python",
   "name": "python",
   "nbconvert_exporter": "python",
   "pygments_lexer": "ipython3",
   "version": "3.6.15"
  },
  "papermill": {
   "default_parameters": {},
   "duration": 113.042586,
   "end_time": "2022-01-23T20:10:14.129951",
   "environment_variables": {},
   "exception": null,
   "input_path": "2020-08-11-part2.ipynb",
   "output_path": "2020-08-11-part2.ipynb",
   "parameters": {},
   "start_time": "2022-01-23T20:08:21.087365",
   "version": "2.3.3"
  }
 },
 "nbformat": 4,
 "nbformat_minor": 5
}