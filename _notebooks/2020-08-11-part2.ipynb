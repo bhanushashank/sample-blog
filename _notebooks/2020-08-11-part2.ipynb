{
 "cells": [
  {
   "cell_type": "markdown",
   "id": "98380cd3",
   "metadata": {
    "papermill": {
     "duration": 0.028349,
     "end_time": "2022-03-05T00:31:23.321316",
     "exception": false,
     "start_time": "2022-03-05T00:31:23.292967",
     "status": "completed"
    },
    "tags": []
   },
   "source": [
    "# Distinguish Your Own Digits (DYOD)"
   ]
  },
  {
   "cell_type": "markdown",
   "id": "ef31240d",
   "metadata": {
    "papermill": {
     "duration": 0.025261,
     "end_time": "2022-03-05T00:31:23.371105",
     "exception": false,
     "start_time": "2022-03-05T00:31:23.345844",
     "status": "completed"
    },
    "tags": []
   },
   "source": [
    "You are going to write a classifier that distinguishes between the number 3 and number 8."
   ]
  },
  {
   "cell_type": "code",
   "execution_count": 1,
   "id": "b15c8646",
   "metadata": {
    "execution": {
     "iopub.execute_input": "2022-03-05T00:31:23.429489Z",
     "iopub.status.busy": "2022-03-05T00:31:23.428951Z",
     "iopub.status.idle": "2022-03-05T00:31:23.440486Z",
     "shell.execute_reply": "2022-03-05T00:31:23.439989Z"
    },
    "papermill": {
     "duration": 0.046008,
     "end_time": "2022-03-05T00:31:23.440632",
     "exception": false,
     "start_time": "2022-03-05T00:31:23.394624",
     "status": "completed"
    },
    "tags": []
   },
   "outputs": [],
   "source": [
    "%load_ext autoreload\n",
    "%autoreload 2"
   ]
  },
  {
   "cell_type": "code",
   "execution_count": 2,
   "id": "22ef38dc",
   "metadata": {
    "execution": {
     "iopub.execute_input": "2022-03-05T00:31:23.495138Z",
     "iopub.status.busy": "2022-03-05T00:31:23.494620Z",
     "iopub.status.idle": "2022-03-05T00:31:24.080732Z",
     "shell.execute_reply": "2022-03-05T00:31:24.080182Z"
    },
    "papermill": {
     "duration": 0.616175,
     "end_time": "2022-03-05T00:31:24.080882",
     "exception": false,
     "start_time": "2022-03-05T00:31:23.464707",
     "status": "completed"
    },
    "tags": []
   },
   "outputs": [],
   "source": [
    "%matplotlib inline\n",
    "import numpy as np\n",
    "import matplotlib.pyplot as plt\n",
    "import pandas as pd"
   ]
  },
  {
   "cell_type": "markdown",
   "id": "ba036198",
   "metadata": {
    "papermill": {
     "duration": 0.023765,
     "end_time": "2022-03-05T00:31:24.129127",
     "exception": false,
     "start_time": "2022-03-05T00:31:24.105362",
     "status": "completed"
    },
    "tags": []
   },
   "source": [
    "From the command line run `pip install mnist`. This is a library that will help you bring down the mnist dataset. If you run this from a notebook, you need to put  `!pip install mnist` in a cell by itself."
   ]
  },
  {
   "cell_type": "code",
   "execution_count": 3,
   "id": "bb6ad8a1",
   "metadata": {
    "execution": {
     "iopub.execute_input": "2022-03-05T00:31:24.181492Z",
     "iopub.status.busy": "2022-03-05T00:31:24.180972Z",
     "iopub.status.idle": "2022-03-05T00:31:25.852603Z",
     "shell.execute_reply": "2022-03-05T00:31:25.852065Z"
    },
    "papermill": {
     "duration": 1.699866,
     "end_time": "2022-03-05T00:31:25.852750",
     "exception": false,
     "start_time": "2022-03-05T00:31:24.152884",
     "status": "completed"
    },
    "tags": []
   },
   "outputs": [
    {
     "name": "stdout",
     "output_type": "stream",
     "text": [
      "Collecting mnist\r\n"
     ]
    },
    {
     "name": "stdout",
     "output_type": "stream",
     "text": [
      "  Downloading mnist-0.2.2-py2.py3-none-any.whl (3.5 kB)\r\n",
      "Requirement already satisfied: numpy in /opt/hostedtoolcache/Python/3.6.15/x64/lib/python3.6/site-packages (from mnist) (1.19.5)\r\n"
     ]
    },
    {
     "name": "stdout",
     "output_type": "stream",
     "text": [
      "Installing collected packages: mnist\r\n"
     ]
    },
    {
     "name": "stdout",
     "output_type": "stream",
     "text": [
      "Successfully installed mnist-0.2.2\r\n"
     ]
    }
   ],
   "source": [
    "!pip install mnist"
   ]
  },
  {
   "cell_type": "markdown",
   "id": "69df9c9a",
   "metadata": {
    "papermill": {
     "duration": 0.024949,
     "end_time": "2022-03-05T00:31:25.903900",
     "exception": false,
     "start_time": "2022-03-05T00:31:25.878951",
     "status": "completed"
    },
    "tags": []
   },
   "source": [
    "## Preparing the Data"
   ]
  },
  {
   "cell_type": "code",
   "execution_count": 4,
   "id": "7f69d806",
   "metadata": {
    "execution": {
     "iopub.execute_input": "2022-03-05T00:31:25.958355Z",
     "iopub.status.busy": "2022-03-05T00:31:25.957825Z",
     "iopub.status.idle": "2022-03-05T00:31:25.972486Z",
     "shell.execute_reply": "2022-03-05T00:31:25.972072Z"
    },
    "papermill": {
     "duration": 0.043937,
     "end_time": "2022-03-05T00:31:25.972599",
     "exception": false,
     "start_time": "2022-03-05T00:31:25.928662",
     "status": "completed"
    },
    "tags": []
   },
   "outputs": [],
   "source": [
    "import mnist"
   ]
  },
  {
   "cell_type": "code",
   "execution_count": 5,
   "id": "a411e44f",
   "metadata": {
    "execution": {
     "iopub.execute_input": "2022-03-05T00:31:26.029360Z",
     "iopub.status.busy": "2022-03-05T00:31:26.028843Z",
     "iopub.status.idle": "2022-03-05T00:31:26.651324Z",
     "shell.execute_reply": "2022-03-05T00:31:26.651811Z"
    },
    "papermill": {
     "duration": 0.654365,
     "end_time": "2022-03-05T00:31:26.651984",
     "exception": false,
     "start_time": "2022-03-05T00:31:25.997619",
     "status": "completed"
    },
    "tags": []
   },
   "outputs": [],
   "source": [
    "train_images = mnist.train_images()\n",
    "train_labels = mnist.train_labels()"
   ]
  },
  {
   "cell_type": "code",
   "execution_count": 6,
   "id": "dceab3a5",
   "metadata": {
    "execution": {
     "iopub.execute_input": "2022-03-05T00:31:26.722690Z",
     "iopub.status.busy": "2022-03-05T00:31:26.718554Z",
     "iopub.status.idle": "2022-03-05T00:31:26.727038Z",
     "shell.execute_reply": "2022-03-05T00:31:26.727446Z"
    },
    "papermill": {
     "duration": 0.050201,
     "end_time": "2022-03-05T00:31:26.727580",
     "exception": false,
     "start_time": "2022-03-05T00:31:26.677379",
     "status": "completed"
    },
    "tags": []
   },
   "outputs": [
    {
     "data": {
      "text/plain": [
       "((60000, 28, 28), (60000,))"
      ]
     },
     "execution_count": 6,
     "metadata": {},
     "output_type": "execute_result"
    }
   ],
   "source": [
    "train_images.shape, train_labels.shape"
   ]
  },
  {
   "cell_type": "code",
   "execution_count": 7,
   "id": "f50dc2bb",
   "metadata": {
    "execution": {
     "iopub.execute_input": "2022-03-05T00:31:26.794359Z",
     "iopub.status.busy": "2022-03-05T00:31:26.780614Z",
     "iopub.status.idle": "2022-03-05T00:31:26.957753Z",
     "shell.execute_reply": "2022-03-05T00:31:26.957217Z"
    },
    "papermill": {
     "duration": 0.205243,
     "end_time": "2022-03-05T00:31:26.957893",
     "exception": false,
     "start_time": "2022-03-05T00:31:26.752650",
     "status": "completed"
    },
    "tags": []
   },
   "outputs": [],
   "source": [
    "test_images = mnist.test_images()\n",
    "test_labels = mnist.test_labels()"
   ]
  },
  {
   "cell_type": "code",
   "execution_count": 8,
   "id": "fc38cf1b",
   "metadata": {
    "execution": {
     "iopub.execute_input": "2022-03-05T00:31:27.022511Z",
     "iopub.status.busy": "2022-03-05T00:31:27.021581Z",
     "iopub.status.idle": "2022-03-05T00:31:27.029156Z",
     "shell.execute_reply": "2022-03-05T00:31:27.029563Z"
    },
    "papermill": {
     "duration": 0.046227,
     "end_time": "2022-03-05T00:31:27.029705",
     "exception": false,
     "start_time": "2022-03-05T00:31:26.983478",
     "status": "completed"
    },
    "tags": []
   },
   "outputs": [
    {
     "data": {
      "text/plain": [
       "((10000, 28, 28), (10000,))"
      ]
     },
     "execution_count": 8,
     "metadata": {},
     "output_type": "execute_result"
    }
   ],
   "source": [
    "test_images.shape, test_labels.shape"
   ]
  },
  {
   "cell_type": "code",
   "execution_count": 9,
   "id": "f9ed8fe0",
   "metadata": {
    "execution": {
     "iopub.execute_input": "2022-03-05T00:31:27.087716Z",
     "iopub.status.busy": "2022-03-05T00:31:27.083937Z",
     "iopub.status.idle": "2022-03-05T00:31:27.224338Z",
     "shell.execute_reply": "2022-03-05T00:31:27.224744Z"
    },
    "papermill": {
     "duration": 0.169794,
     "end_time": "2022-03-05T00:31:27.224905",
     "exception": false,
     "start_time": "2022-03-05T00:31:27.055111",
     "status": "completed"
    },
    "tags": []
   },
   "outputs": [
    {
     "name": "stdout",
     "output_type": "stream",
     "text": [
      "2\n"
     ]
    },
    {
     "data": {
      "text/plain": [
       "<matplotlib.image.AxesImage at 0x7fcb99aaf630>"
      ]
     },
     "execution_count": 9,
     "metadata": {},
     "output_type": "execute_result"
    },
    {
     "data": {
      "image/png": "[encoded data removed]",
      "text/plain": [
       "<Figure size 432x288 with 1 Axes>"
      ]
     },
     "metadata": {
      "needs_background": "light"
     },
     "output_type": "display_data"
    }
   ],
   "source": [
    "image_index = 7776 # You may select anything up to 60,000\n",
    "print(train_labels[image_index]) \n",
    "plt.imshow(train_images[image_index], cmap='Greys')"
   ]
  },
  {
   "cell_type": "markdown",
   "id": "a8d2388d",
   "metadata": {
    "papermill": {
     "duration": 0.027054,
     "end_time": "2022-03-05T00:31:27.278618",
     "exception": false,
     "start_time": "2022-03-05T00:31:27.251564",
     "status": "completed"
    },
    "tags": []
   },
   "source": [
    "## Filter data to get 3 and 8 out"
   ]
  },
  {
   "cell_type": "code",
   "execution_count": 10,
   "id": "776f7fc7",
   "metadata": {
    "execution": {
     "iopub.execute_input": "2022-03-05T00:31:27.349651Z",
     "iopub.status.busy": "2022-03-05T00:31:27.341026Z",
     "iopub.status.idle": "2022-03-05T00:31:27.359280Z",
     "shell.execute_reply": "2022-03-05T00:31:27.358847Z"
    },
    "papermill": {
     "duration": 0.054312,
     "end_time": "2022-03-05T00:31:27.359404",
     "exception": false,
     "start_time": "2022-03-05T00:31:27.305092",
     "status": "completed"
    },
    "tags": []
   },
   "outputs": [],
   "source": [
    "train_filter = np.where((train_labels == 3 ) | (train_labels == 8))\n",
    "test_filter = np.where((test_labels == 3) | (test_labels == 8))\n",
    "X_train, y_train = train_images[train_filter], train_labels[train_filter]\n",
    "X_test, y_test = test_images[test_filter], test_labels[test_filter]"
   ]
  },
  {
   "cell_type": "markdown",
   "id": "948f0b7e",
   "metadata": {
    "papermill": {
     "duration": 0.026421,
     "end_time": "2022-03-05T00:31:27.412470",
     "exception": false,
     "start_time": "2022-03-05T00:31:27.386049",
     "status": "completed"
    },
    "tags": []
   },
   "source": [
    "We normalize the pizel values in the 0 to 1 range"
   ]
  },
  {
   "cell_type": "code",
   "execution_count": 11,
   "id": "ee4c2166",
   "metadata": {
    "execution": {
     "iopub.execute_input": "2022-03-05T00:31:27.470196Z",
     "iopub.status.busy": "2022-03-05T00:31:27.469617Z",
     "iopub.status.idle": "2022-03-05T00:31:27.518640Z",
     "shell.execute_reply": "2022-03-05T00:31:27.518128Z"
    },
    "papermill": {
     "duration": 0.079764,
     "end_time": "2022-03-05T00:31:27.518781",
     "exception": false,
     "start_time": "2022-03-05T00:31:27.439017",
     "status": "completed"
    },
    "tags": []
   },
   "outputs": [],
   "source": [
    "X_train = X_train/255.\n",
    "X_test = X_test/255."
   ]
  },
  {
   "cell_type": "markdown",
   "id": "ddcf4fab",
   "metadata": {
    "papermill": {
     "duration": 0.026585,
     "end_time": "2022-03-05T00:31:27.573321",
     "exception": false,
     "start_time": "2022-03-05T00:31:27.546736",
     "status": "completed"
    },
    "tags": []
   },
   "source": [
    "And setup the labels as 1 (when the digit is 3) and 0 (when the digit is 8)"
   ]
  },
  {
   "cell_type": "code",
   "execution_count": 12,
   "id": "7dc908f2",
   "metadata": {
    "execution": {
     "iopub.execute_input": "2022-03-05T00:31:27.646024Z",
     "iopub.status.busy": "2022-03-05T00:31:27.642963Z",
     "iopub.status.idle": "2022-03-05T00:31:27.648331Z",
     "shell.execute_reply": "2022-03-05T00:31:27.647885Z"
    },
    "papermill": {
     "duration": 0.048309,
     "end_time": "2022-03-05T00:31:27.648452",
     "exception": false,
     "start_time": "2022-03-05T00:31:27.600143",
     "status": "completed"
    },
    "tags": []
   },
   "outputs": [],
   "source": [
    "y_train = 1*(y_train==3)\n",
    "y_test = 1*(y_test==3)"
   ]
  },
  {
   "cell_type": "code",
   "execution_count": 13,
   "id": "01e4e969",
   "metadata": {
    "execution": {
     "iopub.execute_input": "2022-03-05T00:31:27.706585Z",
     "iopub.status.busy": "2022-03-05T00:31:27.706082Z",
     "iopub.status.idle": "2022-03-05T00:31:27.719752Z",
     "shell.execute_reply": "2022-03-05T00:31:27.719321Z"
    },
    "papermill": {
     "duration": 0.044819,
     "end_time": "2022-03-05T00:31:27.719871",
     "exception": false,
     "start_time": "2022-03-05T00:31:27.675052",
     "status": "completed"
    },
    "tags": []
   },
   "outputs": [
    {
     "data": {
      "text/plain": [
       "((11982, 28, 28), (1984, 28, 28))"
      ]
     },
     "execution_count": 13,
     "metadata": {},
     "output_type": "execute_result"
    }
   ],
   "source": [
    "X_train.shape, X_test.shape"
   ]
  },
  {
   "cell_type": "markdown",
   "id": "5ccf3f85",
   "metadata": {
    "papermill": {
     "duration": 0.026579,
     "end_time": "2022-03-05T00:31:27.773014",
     "exception": false,
     "start_time": "2022-03-05T00:31:27.746435",
     "status": "completed"
    },
    "tags": []
   },
   "source": [
    "We reshape the data to flatten the image pixels into a set of features or co-variates:"
   ]
  },
  {
   "cell_type": "code",
   "execution_count": 14,
   "id": "5286a4a3",
   "metadata": {
    "execution": {
     "iopub.execute_input": "2022-03-05T00:31:27.842604Z",
     "iopub.status.busy": "2022-03-05T00:31:27.839853Z",
     "iopub.status.idle": "2022-03-05T00:31:27.847550Z",
     "shell.execute_reply": "2022-03-05T00:31:27.847931Z"
    },
    "papermill": {
     "duration": 0.048253,
     "end_time": "2022-03-05T00:31:27.848110",
     "exception": false,
     "start_time": "2022-03-05T00:31:27.799857",
     "status": "completed"
    },
    "tags": []
   },
   "outputs": [
    {
     "data": {
      "text/plain": [
       "((11982, 784), (1984, 784))"
      ]
     },
     "execution_count": 14,
     "metadata": {},
     "output_type": "execute_result"
    }
   ],
   "source": [
    "X_train = X_train.reshape(X_train.shape[0], -1)\n",
    "X_test = X_test.reshape(X_test.shape[0], -1)\n",
    "X_train.shape, X_test.shape"
   ]
  },
  {
   "cell_type": "code",
   "execution_count": 15,
   "id": "73c5f88a",
   "metadata": {
    "execution": {
     "iopub.execute_input": "2022-03-05T00:31:27.906616Z",
     "iopub.status.busy": "2022-03-05T00:31:27.906081Z",
     "iopub.status.idle": "2022-03-05T00:31:27.925897Z",
     "shell.execute_reply": "2022-03-05T00:31:27.925405Z"
    },
    "papermill": {
     "duration": 0.050767,
     "end_time": "2022-03-05T00:31:27.926034",
     "exception": false,
     "start_time": "2022-03-05T00:31:27.875267",
     "status": "completed"
    },
    "tags": []
   },
   "outputs": [],
   "source": [
    "#Impoting functions from 'Kudzu'\n",
    "from kudzu.model import Model\n",
    "from kudzu.train import Learner\n",
    "from kudzu.optim import GD\n",
    "from kudzu.data import Data, Sampler,Dataloader\n",
    "\n",
    "from kudzu.callbacks import AccCallback\n",
    "from kudzu.callbacks import ClfCallback\n",
    "\n",
    "from kudzu.loss import MSE\n",
    "\n",
    "from kudzu.layer import Sigmoid,Relu\n",
    "from kudzu.layer import Affine"
   ]
  },
  {
   "cell_type": "markdown",
   "id": "bc01172a",
   "metadata": {
    "papermill": {
     "duration": 0.02699,
     "end_time": "2022-03-05T00:31:27.981073",
     "exception": false,
     "start_time": "2022-03-05T00:31:27.954083",
     "status": "completed"
    },
    "tags": []
   },
   "source": [
    "### Let us create a `Config` class, to store important parameters. \n",
    "This class essentially plays the role of a dictionary."
   ]
  },
  {
   "cell_type": "code",
   "execution_count": 16,
   "id": "978281aa",
   "metadata": {
    "execution": {
     "iopub.execute_input": "2022-03-05T00:31:28.055495Z",
     "iopub.status.busy": "2022-03-05T00:31:28.054934Z",
     "iopub.status.idle": "2022-03-05T00:31:28.057014Z",
     "shell.execute_reply": "2022-03-05T00:31:28.057428Z"
    },
    "papermill": {
     "duration": 0.049699,
     "end_time": "2022-03-05T00:31:28.057567",
     "exception": false,
     "start_time": "2022-03-05T00:31:28.007868",
     "status": "completed"
    },
    "tags": []
   },
   "outputs": [],
   "source": [
    "class Config:\n",
    "    pass\n",
    "config = Config()\n",
    "config.lr = 0.001\n",
    "config.num_epochs = 250\n",
    "config.bs = 50"
   ]
  },
  {
   "cell_type": "markdown",
   "id": "1385fa59",
   "metadata": {
    "papermill": {
     "duration": 0.027203,
     "end_time": "2022-03-05T00:31:28.112076",
     "exception": false,
     "start_time": "2022-03-05T00:31:28.084873",
     "status": "completed"
    },
    "tags": []
   },
   "source": [
    "### Running Models with the Training data\n",
    "Details about the network layers:\n",
    "- A first affine layer has 784 inputs and does 100 affine transforms. These are followed by a Relu\n",
    "- A second affine layer has 100 inputs from the 100 activations of the past layer, and does 100 affine transforms. These are followed by a Relu\n",
    "- A third affine layer has 100 activations and does 2 affine transformations to create an embedding for visualization. There is no non-linearity here.\n",
    "- A final \"logistic regression\" which has an affine transform from 2 inputs to 1 output, which is squeezed through a sigmoid.\n"
   ]
  },
  {
   "cell_type": "code",
   "execution_count": 17,
   "id": "2b9c66db",
   "metadata": {
    "execution": {
     "iopub.execute_input": "2022-03-05T00:31:28.184674Z",
     "iopub.status.busy": "2022-03-05T00:31:28.184148Z",
     "iopub.status.idle": "2022-03-05T00:31:28.189854Z",
     "shell.execute_reply": "2022-03-05T00:31:28.189391Z"
    },
    "papermill": {
     "duration": 0.050784,
     "end_time": "2022-03-05T00:31:28.189971",
     "exception": false,
     "start_time": "2022-03-05T00:31:28.139187",
     "status": "completed"
    },
    "tags": []
   },
   "outputs": [],
   "source": [
    "data = Data(X_train, y_train.reshape(-1,1))\n",
    "sampler = Sampler(data, config.bs, shuffle=True)\n",
    "\n",
    "dl = Dataloader(data, sampler)\n",
    "\n",
    "opt = GD(config.lr)\n",
    "loss = MSE()"
   ]
  },
  {
   "cell_type": "code",
   "execution_count": 18,
   "id": "b275e4c2",
   "metadata": {
    "execution": {
     "iopub.execute_input": "2022-03-05T00:31:28.258722Z",
     "iopub.status.busy": "2022-03-05T00:31:28.250453Z",
     "iopub.status.idle": "2022-03-05T00:31:28.260765Z",
     "shell.execute_reply": "2022-03-05T00:31:28.261148Z"
    },
    "papermill": {
     "duration": 0.044179,
     "end_time": "2022-03-05T00:31:28.261285",
     "exception": false,
     "start_time": "2022-03-05T00:31:28.217106",
     "status": "completed"
    },
    "tags": []
   },
   "outputs": [],
   "source": [
    "training_data_x = X_train\n",
    "testing_data_x = X_test\n",
    "training_data_y = y_train.reshape(-1,1)\n",
    "testing_data_y = y_test.reshape(-1,1)"
   ]
  },
  {
   "cell_type": "code",
   "execution_count": 19,
   "id": "76951160",
   "metadata": {
    "execution": {
     "iopub.execute_input": "2022-03-05T00:31:28.331110Z",
     "iopub.status.busy": "2022-03-05T00:31:28.330584Z",
     "iopub.status.idle": "2022-03-05T00:31:28.337843Z",
     "shell.execute_reply": "2022-03-05T00:31:28.338233Z"
    },
    "papermill": {
     "duration": 0.050078,
     "end_time": "2022-03-05T00:31:28.338364",
     "exception": false,
     "start_time": "2022-03-05T00:31:28.288286",
     "status": "completed"
    },
    "tags": []
   },
   "outputs": [
    {
     "name": "stdout",
     "output_type": "stream",
     "text": [
      "xavier\n",
      "xavier\n",
      "xavier\n",
      "xavier\n",
      "xavier\n"
     ]
    }
   ],
   "source": [
    "layers = [Affine(\"first\", 784, 100), Relu(\"first\"), Affine(\"second\", 100, 100), Relu(\"second\"), Affine(\"third\", 100, 2), Affine(\"last\", 2, 1), Sigmoid(\"last\")]\n",
    "model_nn = Model(layers)\n",
    "model_lr = Model([Affine(\"logits\", 784, 1), Sigmoid(\"sigmoid\")])"
   ]
  },
  {
   "cell_type": "code",
   "execution_count": 20,
   "id": "6eede77a",
   "metadata": {
    "execution": {
     "iopub.execute_input": "2022-03-05T00:31:28.397188Z",
     "iopub.status.busy": "2022-03-05T00:31:28.396676Z",
     "iopub.status.idle": "2022-03-05T00:31:28.409556Z",
     "shell.execute_reply": "2022-03-05T00:31:28.409141Z"
    },
    "papermill": {
     "duration": 0.043976,
     "end_time": "2022-03-05T00:31:28.409674",
     "exception": false,
     "start_time": "2022-03-05T00:31:28.365698",
     "status": "completed"
    },
    "tags": []
   },
   "outputs": [],
   "source": [
    "nn_learner = Learner(loss, model_nn, opt, config.num_epochs)\n",
    "acc_nn = ClfCallback(nn_learner, config.bs, training_data_x , testing_data_x, training_data_y, testing_data_y)\n",
    "nn_learner.set_callbacks([acc_nn])"
   ]
  },
  {
   "cell_type": "code",
   "execution_count": 21,
   "id": "877b6cc7",
   "metadata": {
    "execution": {
     "iopub.execute_input": "2022-03-05T00:31:28.468209Z",
     "iopub.status.busy": "2022-03-05T00:31:28.467706Z",
     "iopub.status.idle": "2022-03-05T00:31:28.480457Z",
     "shell.execute_reply": "2022-03-05T00:31:28.480046Z"
    },
    "papermill": {
     "duration": 0.043567,
     "end_time": "2022-03-05T00:31:28.480571",
     "exception": false,
     "start_time": "2022-03-05T00:31:28.437004",
     "status": "completed"
    },
    "tags": []
   },
   "outputs": [],
   "source": [
    "lr_learner = Learner(loss, model_lr, opt, config.num_epochs)\n",
    "acc_lr = ClfCallback(lr_learner, config.bs, training_data_x , testing_data_x, training_data_y, testing_data_y)\n",
    "lr_learner.set_callbacks([acc_lr])"
   ]
  },
  {
   "cell_type": "code",
   "execution_count": 22,
   "id": "d9b133c3",
   "metadata": {
    "execution": {
     "iopub.execute_input": "2022-03-05T00:31:28.543728Z",
     "iopub.status.busy": "2022-03-05T00:31:28.543189Z",
     "iopub.status.idle": "2022-03-05T00:32:46.835649Z",
     "shell.execute_reply": "2022-03-05T00:32:46.836396Z"
    },
    "papermill": {
     "duration": 78.328724,
     "end_time": "2022-03-05T00:32:46.836557",
     "exception": false,
     "start_time": "2022-03-05T00:31:28.507833",
     "status": "completed"
    },
    "tags": []
   },
   "outputs": [
    {
     "name": "stdout",
     "output_type": "stream",
     "text": [
      "Epoch 0, Loss 0.2524\n",
      "Training Accuracy: 0.5040, Testing Accuracy: 0.5020\n",
      "\n"
     ]
    },
    {
     "name": "stdout",
     "output_type": "stream",
     "text": [
      "Epoch 10, Loss 0.1858\n",
      "Training Accuracy: 0.8534, Testing Accuracy: 0.8548\n",
      "\n"
     ]
    },
    {
     "name": "stdout",
     "output_type": "stream",
     "text": [
      "Epoch 20, Loss 0.0949\n",
      "Training Accuracy: 0.9029, Testing Accuracy: 0.9178\n",
      "\n"
     ]
    },
    {
     "name": "stdout",
     "output_type": "stream",
     "text": [
      "Epoch 30, Loss 0.0624\n",
      "Training Accuracy: 0.9306, Testing Accuracy: 0.9430\n",
      "\n"
     ]
    },
    {
     "name": "stdout",
     "output_type": "stream",
     "text": [
      "Epoch 40, Loss 0.0485\n",
      "Training Accuracy: 0.9450, Testing Accuracy: 0.9567\n",
      "\n"
     ]
    },
    {
     "name": "stdout",
     "output_type": "stream",
     "text": [
      "Epoch 50, Loss 0.0412\n",
      "Training Accuracy: 0.9515, Testing Accuracy: 0.9627\n",
      "\n"
     ]
    },
    {
     "name": "stdout",
     "output_type": "stream",
     "text": [
      "Epoch 60, Loss 0.0368\n",
      "Training Accuracy: 0.9572, Testing Accuracy: 0.9662\n",
      "\n"
     ]
    },
    {
     "name": "stdout",
     "output_type": "stream",
     "text": [
      "Epoch 70, Loss 0.0338\n",
      "Training Accuracy: 0.9608, Testing Accuracy: 0.9677\n",
      "\n"
     ]
    },
    {
     "name": "stdout",
     "output_type": "stream",
     "text": [
      "Epoch 80, Loss 0.0316\n",
      "Training Accuracy: 0.9632, Testing Accuracy: 0.9703\n",
      "\n"
     ]
    },
    {
     "name": "stdout",
     "output_type": "stream",
     "text": [
      "Epoch 90, Loss 0.0298\n",
      "Training Accuracy: 0.9644, Testing Accuracy: 0.9703\n",
      "\n"
     ]
    },
    {
     "name": "stdout",
     "output_type": "stream",
     "text": [
      "Epoch 100, Loss 0.0284\n",
      "Training Accuracy: 0.9659, Testing Accuracy: 0.9718\n",
      "\n"
     ]
    },
    {
     "name": "stdout",
     "output_type": "stream",
     "text": [
      "Epoch 110, Loss 0.0272\n",
      "Training Accuracy: 0.9680, Testing Accuracy: 0.9718\n",
      "\n"
     ]
    },
    {
     "name": "stdout",
     "output_type": "stream",
     "text": [
      "Epoch 120, Loss 0.0261\n",
      "Training Accuracy: 0.9690, Testing Accuracy: 0.9713\n",
      "\n"
     ]
    },
    {
     "name": "stdout",
     "output_type": "stream",
     "text": [
      "Epoch 130, Loss 0.0252\n",
      "Training Accuracy: 0.9705, Testing Accuracy: 0.9713\n",
      "\n"
     ]
    },
    {
     "name": "stdout",
     "output_type": "stream",
     "text": [
      "Epoch 140, Loss 0.0244\n",
      "Training Accuracy: 0.9713, Testing Accuracy: 0.9718\n",
      "\n"
     ]
    },
    {
     "name": "stdout",
     "output_type": "stream",
     "text": [
      "Epoch 150, Loss 0.0236\n",
      "Training Accuracy: 0.9725, Testing Accuracy: 0.9723\n",
      "\n"
     ]
    },
    {
     "name": "stdout",
     "output_type": "stream",
     "text": [
      "Epoch 160, Loss 0.0229\n",
      "Training Accuracy: 0.9734, Testing Accuracy: 0.9723\n",
      "\n"
     ]
    },
    {
     "name": "stdout",
     "output_type": "stream",
     "text": [
      "Epoch 170, Loss 0.0223\n",
      "Training Accuracy: 0.9744, Testing Accuracy: 0.9723\n",
      "\n"
     ]
    },
    {
     "name": "stdout",
     "output_type": "stream",
     "text": [
      "Epoch 180, Loss 0.0217\n",
      "Training Accuracy: 0.9749, Testing Accuracy: 0.9728\n",
      "\n"
     ]
    },
    {
     "name": "stdout",
     "output_type": "stream",
     "text": [
      "Epoch 190, Loss 0.0212\n",
      "Training Accuracy: 0.9759, Testing Accuracy: 0.9738\n",
      "\n"
     ]
    },
    {
     "name": "stdout",
     "output_type": "stream",
     "text": [
      "Epoch 200, Loss 0.0207\n",
      "Training Accuracy: 0.9769, Testing Accuracy: 0.9743\n",
      "\n"
     ]
    },
    {
     "name": "stdout",
     "output_type": "stream",
     "text": [
      "Epoch 210, Loss 0.0202\n",
      "Training Accuracy: 0.9776, Testing Accuracy: 0.9753\n",
      "\n"
     ]
    },
    {
     "name": "stdout",
     "output_type": "stream",
     "text": [
      "Epoch 220, Loss 0.0197\n",
      "Training Accuracy: 0.9780, Testing Accuracy: 0.9743\n",
      "\n"
     ]
    },
    {
     "name": "stdout",
     "output_type": "stream",
     "text": [
      "Epoch 230, Loss 0.0193\n",
      "Training Accuracy: 0.9785, Testing Accuracy: 0.9753\n",
      "\n"
     ]
    },
    {
     "name": "stdout",
     "output_type": "stream",
     "text": [
      "Epoch 240, Loss 0.0189\n",
      "Training Accuracy: 0.9787, Testing Accuracy: 0.9758\n",
      "\n"
     ]
    },
    {
     "data": {
      "text/plain": [
       "0.002488695779482448"
      ]
     },
     "execution_count": 22,
     "metadata": {},
     "output_type": "execute_result"
    }
   ],
   "source": [
    "nn_learner.train_loop(dl)"
   ]
  },
  {
   "cell_type": "code",
   "execution_count": 23,
   "id": "e0163366",
   "metadata": {
    "execution": {
     "iopub.execute_input": "2022-03-05T00:32:46.915238Z",
     "iopub.status.busy": "2022-03-05T00:32:46.914705Z",
     "iopub.status.idle": "2022-03-05T00:33:00.782694Z",
     "shell.execute_reply": "2022-03-05T00:33:00.783441Z"
    },
    "papermill": {
     "duration": 13.912421,
     "end_time": "2022-03-05T00:33:00.783603",
     "exception": false,
     "start_time": "2022-03-05T00:32:46.871182",
     "status": "completed"
    },
    "tags": []
   },
   "outputs": [
    {
     "name": "stdout",
     "output_type": "stream",
     "text": [
      "Epoch 0, Loss 0.2378\n",
      "Training Accuracy: 0.6915, Testing Accuracy: 0.7409\n",
      "\n"
     ]
    },
    {
     "name": "stdout",
     "output_type": "stream",
     "text": [
      "Epoch 10, Loss 0.1022\n",
      "Training Accuracy: 0.9124, Testing Accuracy: 0.9264\n",
      "\n"
     ]
    },
    {
     "name": "stdout",
     "output_type": "stream",
     "text": [
      "Epoch 20, Loss 0.0785\n",
      "Training Accuracy: 0.9294, Testing Accuracy: 0.9425\n",
      "\n"
     ]
    },
    {
     "name": "stdout",
     "output_type": "stream",
     "text": [
      "Epoch 30, Loss 0.0676\n",
      "Training Accuracy: 0.9372, Testing Accuracy: 0.9506\n",
      "\n"
     ]
    },
    {
     "name": "stdout",
     "output_type": "stream",
     "text": [
      "Epoch 40, Loss 0.0611\n",
      "Training Accuracy: 0.9422, Testing Accuracy: 0.9541\n",
      "\n"
     ]
    },
    {
     "name": "stdout",
     "output_type": "stream",
     "text": [
      "Epoch 50, Loss 0.0566\n",
      "Training Accuracy: 0.9449, Testing Accuracy: 0.9561\n",
      "\n"
     ]
    },
    {
     "name": "stdout",
     "output_type": "stream",
     "text": [
      "Epoch 60, Loss 0.0534\n",
      "Training Accuracy: 0.9477, Testing Accuracy: 0.9577\n",
      "\n"
     ]
    },
    {
     "name": "stdout",
     "output_type": "stream",
     "text": [
      "Epoch 70, Loss 0.0509\n",
      "Training Accuracy: 0.9503, Testing Accuracy: 0.9592\n",
      "\n"
     ]
    },
    {
     "name": "stdout",
     "output_type": "stream",
     "text": [
      "Epoch 80, Loss 0.0489\n",
      "Training Accuracy: 0.9514, Testing Accuracy: 0.9602\n",
      "\n"
     ]
    },
    {
     "name": "stdout",
     "output_type": "stream",
     "text": [
      "Epoch 90, Loss 0.0472\n",
      "Training Accuracy: 0.9523, Testing Accuracy: 0.9612\n",
      "\n"
     ]
    },
    {
     "name": "stdout",
     "output_type": "stream",
     "text": [
      "Epoch 100, Loss 0.0458\n",
      "Training Accuracy: 0.9534, Testing Accuracy: 0.9612\n",
      "\n"
     ]
    },
    {
     "name": "stdout",
     "output_type": "stream",
     "text": [
      "Epoch 110, Loss 0.0446\n",
      "Training Accuracy: 0.9542, Testing Accuracy: 0.9617\n",
      "\n"
     ]
    },
    {
     "name": "stdout",
     "output_type": "stream",
     "text": [
      "Epoch 120, Loss 0.0435\n",
      "Training Accuracy: 0.9548, Testing Accuracy: 0.9617\n",
      "\n"
     ]
    },
    {
     "name": "stdout",
     "output_type": "stream",
     "text": [
      "Epoch 130, Loss 0.0426\n",
      "Training Accuracy: 0.9560, Testing Accuracy: 0.9627\n",
      "\n"
     ]
    },
    {
     "name": "stdout",
     "output_type": "stream",
     "text": [
      "Epoch 140, Loss 0.0418\n",
      "Training Accuracy: 0.9572, Testing Accuracy: 0.9637\n",
      "\n"
     ]
    },
    {
     "name": "stdout",
     "output_type": "stream",
     "text": [
      "Epoch 150, Loss 0.0411\n",
      "Training Accuracy: 0.9583, Testing Accuracy: 0.9637\n",
      "\n"
     ]
    },
    {
     "name": "stdout",
     "output_type": "stream",
     "text": [
      "Epoch 160, Loss 0.0404\n",
      "Training Accuracy: 0.9585, Testing Accuracy: 0.9647\n",
      "\n"
     ]
    },
    {
     "name": "stdout",
     "output_type": "stream",
     "text": [
      "Epoch 170, Loss 0.0398\n",
      "Training Accuracy: 0.9590, Testing Accuracy: 0.9652\n",
      "\n"
     ]
    },
    {
     "name": "stdout",
     "output_type": "stream",
     "text": [
      "Epoch 180, Loss 0.0392\n",
      "Training Accuracy: 0.9593, Testing Accuracy: 0.9652\n",
      "\n"
     ]
    },
    {
     "name": "stdout",
     "output_type": "stream",
     "text": [
      "Epoch 190, Loss 0.0387\n",
      "Training Accuracy: 0.9599, Testing Accuracy: 0.9652\n",
      "\n"
     ]
    },
    {
     "name": "stdout",
     "output_type": "stream",
     "text": [
      "Epoch 200, Loss 0.0383\n",
      "Training Accuracy: 0.9606, Testing Accuracy: 0.9652\n",
      "\n"
     ]
    },
    {
     "name": "stdout",
     "output_type": "stream",
     "text": [
      "Epoch 210, Loss 0.0378\n",
      "Training Accuracy: 0.9608, Testing Accuracy: 0.9652\n",
      "\n"
     ]
    },
    {
     "name": "stdout",
     "output_type": "stream",
     "text": [
      "Epoch 220, Loss 0.0374\n",
      "Training Accuracy: 0.9609, Testing Accuracy: 0.9652\n",
      "\n"
     ]
    },
    {
     "name": "stdout",
     "output_type": "stream",
     "text": [
      "Epoch 230, Loss 0.037\n",
      "Training Accuracy: 0.9612, Testing Accuracy: 0.9652\n",
      "\n"
     ]
    },
    {
     "name": "stdout",
     "output_type": "stream",
     "text": [
      "Epoch 240, Loss 0.0367\n",
      "Training Accuracy: 0.9614, Testing Accuracy: 0.9652\n",
      "\n"
     ]
    },
    {
     "data": {
      "text/plain": [
       "0.031131270087943"
      ]
     },
     "execution_count": 23,
     "metadata": {},
     "output_type": "execute_result"
    }
   ],
   "source": [
    "lr_learner.train_loop(dl)"
   ]
  },
  {
   "cell_type": "code",
   "execution_count": 24,
   "id": "ca410940",
   "metadata": {
    "execution": {
     "iopub.execute_input": "2022-03-05T00:33:00.875574Z",
     "iopub.status.busy": "2022-03-05T00:33:00.875040Z",
     "iopub.status.idle": "2022-03-05T00:33:01.100853Z",
     "shell.execute_reply": "2022-03-05T00:33:01.100336Z"
    },
    "papermill": {
     "duration": 0.275348,
     "end_time": "2022-03-05T00:33:01.100988",
     "exception": false,
     "start_time": "2022-03-05T00:33:00.825640",
     "status": "completed"
    },
    "tags": []
   },
   "outputs": [
    {
     "data": {
      "text/plain": [
       "<matplotlib.legend.Legend at 0x7fcb99688dd8>"
      ]
     },
     "execution_count": 24,
     "metadata": {},
     "output_type": "execute_result"
    },
    {
     "data": {
      "image/png": "[encoded data removed]",
      "text/plain": [
       "<Figure size 1080x720 with 1 Axes>"
      ]
     },
     "metadata": {
      "needs_background": "light"
     },
     "output_type": "display_data"
    }
   ],
   "source": [
    "#comparing the results of NN and LR\n",
    "plt.figure(figsize=(15,10))\n",
    "\n",
    "# Neural Network plots\n",
    "plt.plot(acc_nn.accuracies, 'r-', label = \"Training Accuracies - NN\")\n",
    "plt.plot(acc_nn.test_accuracies, 'g-', label = \"Testing Accuracies - NN\")\n",
    "\n",
    "# Logistic Regression plots\n",
    "plt.plot(acc_lr.accuracies, 'k-', label = \"Training Accuracies - LR\")\n",
    "plt.plot(acc_lr.test_accuracies, 'b-', label = \"Testing Accuracies - LR\")\n",
    "plt.legend()"
   ]
  },
  {
   "cell_type": "markdown",
   "id": "80dfb35c",
   "metadata": {
    "papermill": {
     "duration": 0.042351,
     "end_time": "2022-03-05T00:33:01.186182",
     "exception": false,
     "start_time": "2022-03-05T00:33:01.143831",
     "status": "completed"
    },
    "tags": []
   },
   "source": [
    "#### Plotting the outputs of this layer of the NN.\n"
   ]
  },
  {
   "cell_type": "code",
   "execution_count": 25,
   "id": "45eb2ff5",
   "metadata": {
    "execution": {
     "iopub.execute_input": "2022-03-05T00:33:01.276016Z",
     "iopub.status.busy": "2022-03-05T00:33:01.275417Z",
     "iopub.status.idle": "2022-03-05T00:33:01.294994Z",
     "shell.execute_reply": "2022-03-05T00:33:01.295451Z"
    },
    "papermill": {
     "duration": 0.067328,
     "end_time": "2022-03-05T00:33:01.295597",
     "exception": false,
     "start_time": "2022-03-05T00:33:01.228269",
     "status": "completed"
    },
    "tags": []
   },
   "outputs": [],
   "source": [
    "new_model = Model(layers[:-2])\n",
    "testing_plot = new_model(testing_data_x)"
   ]
  },
  {
   "cell_type": "code",
   "execution_count": 26,
   "id": "4c0a5485",
   "metadata": {
    "execution": {
     "iopub.execute_input": "2022-03-05T00:33:01.391334Z",
     "iopub.status.busy": "2022-03-05T00:33:01.390809Z",
     "iopub.status.idle": "2022-03-05T00:33:01.572128Z",
     "shell.execute_reply": "2022-03-05T00:33:01.572550Z"
    },
    "papermill": {
     "duration": 0.234657,
     "end_time": "2022-03-05T00:33:01.572704",
     "exception": false,
     "start_time": "2022-03-05T00:33:01.338047",
     "status": "completed"
    },
    "tags": []
   },
   "outputs": [
    {
     "data": {
      "text/plain": [
       "Text(0.5, 1.0, 'Outputs')"
      ]
     },
     "execution_count": 26,
     "metadata": {},
     "output_type": "execute_result"
    },
    {
     "data": {
      "image/png": "[encoded data removed]",
      "text/plain": [
       "<Figure size 576x504 with 1 Axes>"
      ]
     },
     "metadata": {
      "needs_background": "light"
     },
     "output_type": "display_data"
    }
   ],
   "source": [
    "# Plotting the scatter plot of points and color coding by class\n",
    "plt.figure(figsize=(8,7))\n",
    "plt.scatter(testing_plot[:,0], testing_plot[:,1], alpha = 0.1, c = y_test.ravel());\n",
    "plt.title('Outputs')"
   ]
  },
  {
   "cell_type": "markdown",
   "id": "a74fcf8f",
   "metadata": {
    "papermill": {
     "duration": 0.044166,
     "end_time": "2022-03-05T00:33:01.661326",
     "exception": false,
     "start_time": "2022-03-05T00:33:01.617160",
     "status": "completed"
    },
    "tags": []
   },
   "source": [
    "Probability contours"
   ]
  },
  {
   "cell_type": "code",
   "execution_count": 27,
   "id": "d0afc8e3",
   "metadata": {
    "execution": {
     "iopub.execute_input": "2022-03-05T00:33:01.755477Z",
     "iopub.status.busy": "2022-03-05T00:33:01.754958Z",
     "iopub.status.idle": "2022-03-05T00:33:01.766494Z",
     "shell.execute_reply": "2022-03-05T00:33:01.765982Z"
    },
    "papermill": {
     "duration": 0.060421,
     "end_time": "2022-03-05T00:33:01.766621",
     "exception": false,
     "start_time": "2022-03-05T00:33:01.706200",
     "status": "completed"
    },
    "tags": []
   },
   "outputs": [],
   "source": [
    "model_prob = Model(layers[-2:]) "
   ]
  },
  {
   "cell_type": "code",
   "execution_count": 28,
   "id": "9b96e238",
   "metadata": {
    "execution": {
     "iopub.execute_input": "2022-03-05T00:33:01.890231Z",
     "iopub.status.busy": "2022-03-05T00:33:01.889690Z",
     "iopub.status.idle": "2022-03-05T00:33:01.903081Z",
     "shell.execute_reply": "2022-03-05T00:33:01.903467Z"
    },
    "papermill": {
     "duration": 0.062534,
     "end_time": "2022-03-05T00:33:01.903605",
     "exception": false,
     "start_time": "2022-03-05T00:33:01.841071",
     "status": "completed"
    },
    "tags": []
   },
   "outputs": [],
   "source": [
    "#creating the x and y ranges according to the above generated plot.\n",
    "x_range = np.linspace(-4, 1, 100) \n",
    "y_range = np.linspace(-6, 6, 100) \n",
    "x_grid, y_grid = np.meshgrid(x_range, y_range) # x_grid and y_grig are of size 100 X 100\n",
    "\n",
    "# converting x_grid and y_grid to continuous arrays\n",
    "x_gridflat = np.ravel(x_grid)\n",
    "y_gridflat = np.ravel(y_grid)\n",
    "\n",
    "# The last layer of the current model takes two columns as input. Hence transpose of np.vstack() is required.\n",
    "X = np.vstack((x_gridflat, y_gridflat)).T\n",
    "\n",
    "prob_contour = model_prob(X).reshape(100,100) "
   ]
  },
  {
   "cell_type": "code",
   "execution_count": 29,
   "id": "da72499a",
   "metadata": {
    "execution": {
     "iopub.execute_input": "2022-03-05T00:33:02.003169Z",
     "iopub.status.busy": "2022-03-05T00:33:02.002653Z",
     "iopub.status.idle": "2022-03-05T00:33:02.242788Z",
     "shell.execute_reply": "2022-03-05T00:33:02.242336Z"
    },
    "papermill": {
     "duration": 0.29466,
     "end_time": "2022-03-05T00:33:02.242909",
     "exception": false,
     "start_time": "2022-03-05T00:33:01.948249",
     "status": "completed"
    },
    "tags": []
   },
   "outputs": [
    {
     "data": {
      "image/png": "[encoded data removed]",
      "text/plain": [
       "<Figure size 720x648 with 1 Axes>"
      ]
     },
     "metadata": {
      "needs_background": "light"
     },
     "output_type": "display_data"
    }
   ],
   "source": [
    "plt.figure(figsize=(10,9))\n",
    "plt.scatter(testing_plot[:,0], testing_plot[:,1], alpha = 0.1, c = y_test.ravel())\n",
    "contours = plt.contour(x_grid,y_grid,prob_contour)\n",
    "plt.title('Probability Contours')\n",
    "plt.clabel(contours, inline = True );"
   ]
  },
  {
   "cell_type": "code",
   "execution_count": null,
   "id": "e81b4ac7",
   "metadata": {
    "papermill": {
     "duration": 0.046432,
     "end_time": "2022-03-05T00:33:02.336107",
     "exception": false,
     "start_time": "2022-03-05T00:33:02.289675",
     "status": "completed"
    },
    "tags": []
   },
   "outputs": [],
   "source": []
  }
 ],
 "metadata": {
  "kernelspec": {
   "display_name": "Python 3",
   "language": "python",
   "name": "python3"
  },
  "language_info": {
   "codemirror_mode": {
    "name": "ipython",
    "version": 3
   },
   "file_extension": ".py",
   "mimetype": "text/x-python",
   "name": "python",
   "nbconvert_exporter": "python",
   "pygments_lexer": "ipython3",
   "version": "3.6.15"
  },
  "papermill": {
   "default_parameters": {},
   "duration": 100.447122,
   "end_time": "2022-03-05T00:33:02.801176",
   "environment_variables": {},
   "exception": null,
   "input_path": "2020-08-11-part2.ipynb",
   "output_path": "2020-08-11-part2.ipynb",
   "parameters": {},
   "start_time": "2022-03-05T00:31:22.354054",
   "version": "2.3.3"
  }
 },
 "nbformat": 4,
 "nbformat_minor": 5
}