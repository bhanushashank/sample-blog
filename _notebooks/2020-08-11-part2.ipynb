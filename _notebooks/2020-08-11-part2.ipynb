{
 "cells": [
  {
   "cell_type": "markdown",
   "id": "98380cd3",
   "metadata": {
    "papermill": {
     "duration": 0.040639,
     "end_time": "2022-06-03T10:10:29.862179",
     "exception": false,
     "start_time": "2022-06-03T10:10:29.821540",
     "status": "completed"
    },
    "tags": []
   },
   "source": [
    "# Distinguish Your Own Digits (DYOD)"
   ]
  },
  {
   "cell_type": "markdown",
   "id": "ef31240d",
   "metadata": {
    "papermill": {
     "duration": 0.03126,
     "end_time": "2022-06-03T10:10:29.925654",
     "exception": false,
     "start_time": "2022-06-03T10:10:29.894394",
     "status": "completed"
    },
    "tags": []
   },
   "source": [
    "You are going to write a classifier that distinguishes between the number 3 and number 8."
   ]
  },
  {
   "cell_type": "code",
   "execution_count": 1,
   "id": "b15c8646",
   "metadata": {
    "execution": {
     "iopub.execute_input": "2022-06-03T10:10:30.002033Z",
     "iopub.status.busy": "2022-06-03T10:10:30.001246Z",
     "iopub.status.idle": "2022-06-03T10:10:30.014000Z",
     "shell.execute_reply": "2022-06-03T10:10:30.013323Z"
    },
    "papermill": {
     "duration": 0.057077,
     "end_time": "2022-06-03T10:10:30.014153",
     "exception": false,
     "start_time": "2022-06-03T10:10:29.957076",
     "status": "completed"
    },
    "tags": []
   },
   "outputs": [],
   "source": [
    "%load_ext autoreload\n",
    "%autoreload 2"
   ]
  },
  {
   "cell_type": "code",
   "execution_count": 2,
   "id": "22ef38dc",
   "metadata": {
    "execution": {
     "iopub.execute_input": "2022-06-03T10:10:30.087630Z",
     "iopub.status.busy": "2022-06-03T10:10:30.086886Z",
     "iopub.status.idle": "2022-06-03T10:10:30.771606Z",
     "shell.execute_reply": "2022-06-03T10:10:30.772196Z"
    },
    "papermill": {
     "duration": 0.726656,
     "end_time": "2022-06-03T10:10:30.772470",
     "exception": false,
     "start_time": "2022-06-03T10:10:30.045814",
     "status": "completed"
    },
    "tags": []
   },
   "outputs": [],
   "source": [
    "%matplotlib inline\n",
    "import numpy as np\n",
    "import matplotlib.pyplot as plt\n",
    "import pandas as pd"
   ]
  },
  {
   "cell_type": "markdown",
   "id": "ba036198",
   "metadata": {
    "papermill": {
     "duration": 0.032173,
     "end_time": "2022-06-03T10:10:30.835814",
     "exception": false,
     "start_time": "2022-06-03T10:10:30.803641",
     "status": "completed"
    },
    "tags": []
   },
   "source": [
    "From the command line run `pip install mnist`. This is a library that will help you bring down the mnist dataset. If you run this from a notebook, you need to put  `!pip install mnist` in a cell by itself."
   ]
  },
  {
   "cell_type": "code",
   "execution_count": 3,
   "id": "bb6ad8a1",
   "metadata": {
    "execution": {
     "iopub.execute_input": "2022-06-03T10:10:30.904219Z",
     "iopub.status.busy": "2022-06-03T10:10:30.903395Z",
     "iopub.status.idle": "2022-06-03T10:10:33.021613Z",
     "shell.execute_reply": "2022-06-03T10:10:33.019650Z"
    },
    "papermill": {
     "duration": 2.153813,
     "end_time": "2022-06-03T10:10:33.021759",
     "exception": false,
     "start_time": "2022-06-03T10:10:30.867946",
     "status": "completed"
    },
    "tags": []
   },
   "outputs": [
    {
     "name": "stdout",
     "output_type": "stream",
     "text": [
      "Collecting mnist\r\n"
     ]
    },
    {
     "name": "stdout",
     "output_type": "stream",
     "text": [
      "  Downloading mnist-0.2.2-py2.py3-none-any.whl (3.5 kB)\r\n",
      "Requirement already satisfied: numpy in /opt/hostedtoolcache/Python/3.6.15/x64/lib/python3.6/site-packages (from mnist) (1.19.5)\r\n"
     ]
    },
    {
     "name": "stdout",
     "output_type": "stream",
     "text": [
      "Installing collected packages: mnist\r\n"
     ]
    },
    {
     "name": "stdout",
     "output_type": "stream",
     "text": [
      "Successfully installed mnist-0.2.2\r\n"
     ]
    }
   ],
   "source": [
    "!pip install mnist"
   ]
  },
  {
   "cell_type": "markdown",
   "id": "69df9c9a",
   "metadata": {
    "papermill": {
     "duration": 0.033187,
     "end_time": "2022-06-03T10:10:33.090027",
     "exception": false,
     "start_time": "2022-06-03T10:10:33.056840",
     "status": "completed"
    },
    "tags": []
   },
   "source": [
    "## Preparing the Data"
   ]
  },
  {
   "cell_type": "code",
   "execution_count": 4,
   "id": "7f69d806",
   "metadata": {
    "execution": {
     "iopub.execute_input": "2022-06-03T10:10:33.165658Z",
     "iopub.status.busy": "2022-06-03T10:10:33.163937Z",
     "iopub.status.idle": "2022-06-03T10:10:33.181969Z",
     "shell.execute_reply": "2022-06-03T10:10:33.181318Z"
    },
    "papermill": {
     "duration": 0.059447,
     "end_time": "2022-06-03T10:10:33.182112",
     "exception": false,
     "start_time": "2022-06-03T10:10:33.122665",
     "status": "completed"
    },
    "tags": []
   },
   "outputs": [],
   "source": [
    "import mnist"
   ]
  },
  {
   "cell_type": "code",
   "execution_count": 5,
   "id": "a411e44f",
   "metadata": {
    "execution": {
     "iopub.execute_input": "2022-06-03T10:10:33.253491Z",
     "iopub.status.busy": "2022-06-03T10:10:33.252674Z",
     "iopub.status.idle": "2022-06-03T10:10:33.868658Z",
     "shell.execute_reply": "2022-06-03T10:10:33.867978Z"
    },
    "papermill": {
     "duration": 0.654162,
     "end_time": "2022-06-03T10:10:33.868816",
     "exception": false,
     "start_time": "2022-06-03T10:10:33.214654",
     "status": "completed"
    },
    "tags": []
   },
   "outputs": [],
   "source": [
    "train_images = mnist.train_images()\n",
    "train_labels = mnist.train_labels()"
   ]
  },
  {
   "cell_type": "code",
   "execution_count": 6,
   "id": "dceab3a5",
   "metadata": {
    "execution": {
     "iopub.execute_input": "2022-06-03T10:10:33.944307Z",
     "iopub.status.busy": "2022-06-03T10:10:33.943552Z",
     "iopub.status.idle": "2022-06-03T10:10:33.961983Z",
     "shell.execute_reply": "2022-06-03T10:10:33.961394Z"
    },
    "papermill": {
     "duration": 0.058503,
     "end_time": "2022-06-03T10:10:33.962116",
     "exception": false,
     "start_time": "2022-06-03T10:10:33.903613",
     "status": "completed"
    },
    "tags": []
   },
   "outputs": [
    {
     "data": {
      "text/plain": [
       "((60000, 28, 28), (60000,))"
      ]
     },
     "execution_count": 6,
     "metadata": {},
     "output_type": "execute_result"
    }
   ],
   "source": [
    "train_images.shape, train_labels.shape"
   ]
  },
  {
   "cell_type": "code",
   "execution_count": 7,
   "id": "f50dc2bb",
   "metadata": {
    "execution": {
     "iopub.execute_input": "2022-06-03T10:10:34.041024Z",
     "iopub.status.busy": "2022-06-03T10:10:34.040221Z",
     "iopub.status.idle": "2022-06-03T10:10:34.230461Z",
     "shell.execute_reply": "2022-06-03T10:10:34.229784Z"
    },
    "papermill": {
     "duration": 0.232784,
     "end_time": "2022-06-03T10:10:34.230597",
     "exception": false,
     "start_time": "2022-06-03T10:10:33.997813",
     "status": "completed"
    },
    "tags": []
   },
   "outputs": [],
   "source": [
    "test_images = mnist.test_images()\n",
    "test_labels = mnist.test_labels()"
   ]
  },
  {
   "cell_type": "code",
   "execution_count": 8,
   "id": "fc38cf1b",
   "metadata": {
    "execution": {
     "iopub.execute_input": "2022-06-03T10:10:34.306200Z",
     "iopub.status.busy": "2022-06-03T10:10:34.305357Z",
     "iopub.status.idle": "2022-06-03T10:10:34.318775Z",
     "shell.execute_reply": "2022-06-03T10:10:34.319417Z"
    },
    "papermill": {
     "duration": 0.054282,
     "end_time": "2022-06-03T10:10:34.319558",
     "exception": false,
     "start_time": "2022-06-03T10:10:34.265276",
     "status": "completed"
    },
    "tags": []
   },
   "outputs": [
    {
     "data": {
      "text/plain": [
       "((10000, 28, 28), (10000,))"
      ]
     },
     "execution_count": 8,
     "metadata": {},
     "output_type": "execute_result"
    }
   ],
   "source": [
    "test_images.shape, test_labels.shape"
   ]
  },
  {
   "cell_type": "code",
   "execution_count": 9,
   "id": "f9ed8fe0",
   "metadata": {
    "execution": {
     "iopub.execute_input": "2022-06-03T10:10:34.389182Z",
     "iopub.status.busy": "2022-06-03T10:10:34.388396Z",
     "iopub.status.idle": "2022-06-03T10:10:34.575530Z",
     "shell.execute_reply": "2022-06-03T10:10:34.576191Z"
    },
    "papermill": {
     "duration": 0.224513,
     "end_time": "2022-06-03T10:10:34.576384",
     "exception": false,
     "start_time": "2022-06-03T10:10:34.351871",
     "status": "completed"
    },
    "tags": []
   },
   "outputs": [
    {
     "name": "stdout",
     "output_type": "stream",
     "text": [
      "2\n"
     ]
    },
    {
     "data": {
      "text/plain": [
       "<matplotlib.image.AxesImage at 0x7f4182783400>"
      ]
     },
     "execution_count": 9,
     "metadata": {},
     "output_type": "execute_result"
    },
    {
     "data": {
      "image/png": "[encoded data removed]",
      "text/plain": [
       "<Figure size 432x288 with 1 Axes>"
      ]
     },
     "metadata": {
      "needs_background": "light"
     },
     "output_type": "display_data"
    }
   ],
   "source": [
    "image_index = 7776 # You may select anything up to 60,000\n",
    "print(train_labels[image_index]) \n",
    "plt.imshow(train_images[image_index], cmap='Greys')"
   ]
  },
  {
   "cell_type": "markdown",
   "id": "a8d2388d",
   "metadata": {
    "papermill": {
     "duration": 0.034239,
     "end_time": "2022-06-03T10:10:34.643222",
     "exception": false,
     "start_time": "2022-06-03T10:10:34.608983",
     "status": "completed"
    },
    "tags": []
   },
   "source": [
    "## Filter data to get 3 and 8 out"
   ]
  },
  {
   "cell_type": "code",
   "execution_count": 10,
   "id": "776f7fc7",
   "metadata": {
    "execution": {
     "iopub.execute_input": "2022-06-03T10:10:34.722745Z",
     "iopub.status.busy": "2022-06-03T10:10:34.721974Z",
     "iopub.status.idle": "2022-06-03T10:10:34.742856Z",
     "shell.execute_reply": "2022-06-03T10:10:34.742207Z"
    },
    "papermill": {
     "duration": 0.06051,
     "end_time": "2022-06-03T10:10:34.742999",
     "exception": false,
     "start_time": "2022-06-03T10:10:34.682489",
     "status": "completed"
    },
    "tags": []
   },
   "outputs": [],
   "source": [
    "train_filter = np.where((train_labels == 3 ) | (train_labels == 8))\n",
    "test_filter = np.where((test_labels == 3) | (test_labels == 8))\n",
    "X_train, y_train = train_images[train_filter], train_labels[train_filter]\n",
    "X_test, y_test = test_images[test_filter], test_labels[test_filter]"
   ]
  },
  {
   "cell_type": "markdown",
   "id": "948f0b7e",
   "metadata": {
    "papermill": {
     "duration": 0.034448,
     "end_time": "2022-06-03T10:10:34.814999",
     "exception": false,
     "start_time": "2022-06-03T10:10:34.780551",
     "status": "completed"
    },
    "tags": []
   },
   "source": [
    "We normalize the pizel values in the 0 to 1 range"
   ]
  },
  {
   "cell_type": "code",
   "execution_count": 11,
   "id": "ee4c2166",
   "metadata": {
    "execution": {
     "iopub.execute_input": "2022-06-03T10:10:34.887651Z",
     "iopub.status.busy": "2022-06-03T10:10:34.886973Z",
     "iopub.status.idle": "2022-06-03T10:10:34.949186Z",
     "shell.execute_reply": "2022-06-03T10:10:34.948470Z"
    },
    "papermill": {
     "duration": 0.100936,
     "end_time": "2022-06-03T10:10:34.949360",
     "exception": false,
     "start_time": "2022-06-03T10:10:34.848424",
     "status": "completed"
    },
    "tags": []
   },
   "outputs": [],
   "source": [
    "X_train = X_train/255.\n",
    "X_test = X_test/255."
   ]
  },
  {
   "cell_type": "markdown",
   "id": "ddcf4fab",
   "metadata": {
    "papermill": {
     "duration": 0.036412,
     "end_time": "2022-06-03T10:10:35.019819",
     "exception": false,
     "start_time": "2022-06-03T10:10:34.983407",
     "status": "completed"
    },
    "tags": []
   },
   "source": [
    "And setup the labels as 1 (when the digit is 3) and 0 (when the digit is 8)"
   ]
  },
  {
   "cell_type": "code",
   "execution_count": 12,
   "id": "7dc908f2",
   "metadata": {
    "execution": {
     "iopub.execute_input": "2022-06-03T10:10:35.091106Z",
     "iopub.status.busy": "2022-06-03T10:10:35.090238Z",
     "iopub.status.idle": "2022-06-03T10:10:35.104800Z",
     "shell.execute_reply": "2022-06-03T10:10:35.104151Z"
    },
    "papermill": {
     "duration": 0.052857,
     "end_time": "2022-06-03T10:10:35.104969",
     "exception": false,
     "start_time": "2022-06-03T10:10:35.052112",
     "status": "completed"
    },
    "tags": []
   },
   "outputs": [],
   "source": [
    "y_train = 1*(y_train==3)\n",
    "y_test = 1*(y_test==3)"
   ]
  },
  {
   "cell_type": "code",
   "execution_count": 13,
   "id": "01e4e969",
   "metadata": {
    "execution": {
     "iopub.execute_input": "2022-06-03T10:10:35.179841Z",
     "iopub.status.busy": "2022-06-03T10:10:35.179100Z",
     "iopub.status.idle": "2022-06-03T10:10:35.197824Z",
     "shell.execute_reply": "2022-06-03T10:10:35.197177Z"
    },
    "papermill": {
     "duration": 0.056394,
     "end_time": "2022-06-03T10:10:35.197986",
     "exception": false,
     "start_time": "2022-06-03T10:10:35.141592",
     "status": "completed"
    },
    "tags": []
   },
   "outputs": [
    {
     "data": {
      "text/plain": [
       "((11982, 28, 28), (1984, 28, 28))"
      ]
     },
     "execution_count": 13,
     "metadata": {},
     "output_type": "execute_result"
    }
   ],
   "source": [
    "X_train.shape, X_test.shape"
   ]
  },
  {
   "cell_type": "markdown",
   "id": "5ccf3f85",
   "metadata": {
    "papermill": {
     "duration": 0.033573,
     "end_time": "2022-06-03T10:10:35.265619",
     "exception": false,
     "start_time": "2022-06-03T10:10:35.232046",
     "status": "completed"
    },
    "tags": []
   },
   "source": [
    "We reshape the data to flatten the image pixels into a set of features or co-variates:"
   ]
  },
  {
   "cell_type": "code",
   "execution_count": 14,
   "id": "5286a4a3",
   "metadata": {
    "execution": {
     "iopub.execute_input": "2022-06-03T10:10:35.343926Z",
     "iopub.status.busy": "2022-06-03T10:10:35.343152Z",
     "iopub.status.idle": "2022-06-03T10:10:35.356274Z",
     "shell.execute_reply": "2022-06-03T10:10:35.356920Z"
    },
    "papermill": {
     "duration": 0.056859,
     "end_time": "2022-06-03T10:10:35.357080",
     "exception": false,
     "start_time": "2022-06-03T10:10:35.300221",
     "status": "completed"
    },
    "tags": []
   },
   "outputs": [
    {
     "data": {
      "text/plain": [
       "((11982, 784), (1984, 784))"
      ]
     },
     "execution_count": 14,
     "metadata": {},
     "output_type": "execute_result"
    }
   ],
   "source": [
    "X_train = X_train.reshape(X_train.shape[0], -1)\n",
    "X_test = X_test.reshape(X_test.shape[0], -1)\n",
    "X_train.shape, X_test.shape"
   ]
  },
  {
   "cell_type": "code",
   "execution_count": 15,
   "id": "73c5f88a",
   "metadata": {
    "execution": {
     "iopub.execute_input": "2022-06-03T10:10:35.432818Z",
     "iopub.status.busy": "2022-06-03T10:10:35.431983Z",
     "iopub.status.idle": "2022-06-03T10:10:35.457464Z",
     "shell.execute_reply": "2022-06-03T10:10:35.456681Z"
    },
    "papermill": {
     "duration": 0.066104,
     "end_time": "2022-06-03T10:10:35.457626",
     "exception": false,
     "start_time": "2022-06-03T10:10:35.391522",
     "status": "completed"
    },
    "tags": []
   },
   "outputs": [],
   "source": [
    "#Impoting functions from 'Kudzu'\n",
    "from kudzu.model import Model\n",
    "from kudzu.train import Learner\n",
    "from kudzu.optim import GD\n",
    "from kudzu.data import Data, Sampler,Dataloader\n",
    "\n",
    "from kudzu.callbacks import AccCallback\n",
    "from kudzu.callbacks import ClfCallback\n",
    "\n",
    "from kudzu.loss import MSE\n",
    "\n",
    "from kudzu.layer import Sigmoid,Relu\n",
    "from kudzu.layer import Affine"
   ]
  },
  {
   "cell_type": "markdown",
   "id": "bc01172a",
   "metadata": {
    "papermill": {
     "duration": 0.037709,
     "end_time": "2022-06-03T10:10:35.531191",
     "exception": false,
     "start_time": "2022-06-03T10:10:35.493482",
     "status": "completed"
    },
    "tags": []
   },
   "source": [
    "### Let us create a `Config` class, to store important parameters. \n",
    "This class essentially plays the role of a dictionary."
   ]
  },
  {
   "cell_type": "code",
   "execution_count": 16,
   "id": "978281aa",
   "metadata": {
    "execution": {
     "iopub.execute_input": "2022-06-03T10:10:35.612296Z",
     "iopub.status.busy": "2022-06-03T10:10:35.611530Z",
     "iopub.status.idle": "2022-06-03T10:10:35.628384Z",
     "shell.execute_reply": "2022-06-03T10:10:35.627758Z"
    },
    "papermill": {
     "duration": 0.057585,
     "end_time": "2022-06-03T10:10:35.628528",
     "exception": false,
     "start_time": "2022-06-03T10:10:35.570943",
     "status": "completed"
    },
    "tags": []
   },
   "outputs": [],
   "source": [
    "class Config:\n",
    "    pass\n",
    "config = Config()\n",
    "config.lr = 0.001\n",
    "config.num_epochs = 250\n",
    "config.bs = 50"
   ]
  },
  {
   "cell_type": "markdown",
   "id": "1385fa59",
   "metadata": {
    "papermill": {
     "duration": 0.033341,
     "end_time": "2022-06-03T10:10:35.698955",
     "exception": false,
     "start_time": "2022-06-03T10:10:35.665614",
     "status": "completed"
    },
    "tags": []
   },
   "source": [
    "### Running Models with the Training data\n",
    "Details about the network layers:\n",
    "- A first affine layer has 784 inputs and does 100 affine transforms. These are followed by a Relu\n",
    "- A second affine layer has 100 inputs from the 100 activations of the past layer, and does 100 affine transforms. These are followed by a Relu\n",
    "- A third affine layer has 100 activations and does 2 affine transformations to create an embedding for visualization. There is no non-linearity here.\n",
    "- A final \"logistic regression\" which has an affine transform from 2 inputs to 1 output, which is squeezed through a sigmoid.\n"
   ]
  },
  {
   "cell_type": "code",
   "execution_count": 17,
   "id": "2b9c66db",
   "metadata": {
    "execution": {
     "iopub.execute_input": "2022-06-03T10:10:35.771979Z",
     "iopub.status.busy": "2022-06-03T10:10:35.771089Z",
     "iopub.status.idle": "2022-06-03T10:10:35.786860Z",
     "shell.execute_reply": "2022-06-03T10:10:35.786163Z"
    },
    "papermill": {
     "duration": 0.056479,
     "end_time": "2022-06-03T10:10:35.786999",
     "exception": false,
     "start_time": "2022-06-03T10:10:35.730520",
     "status": "completed"
    },
    "tags": []
   },
   "outputs": [],
   "source": [
    "data = Data(X_train, y_train.reshape(-1,1))\n",
    "sampler = Sampler(data, config.bs, shuffle=True)\n",
    "\n",
    "dl = Dataloader(data, sampler)\n",
    "\n",
    "opt = GD(config.lr)\n",
    "loss = MSE()"
   ]
  },
  {
   "cell_type": "code",
   "execution_count": 18,
   "id": "b275e4c2",
   "metadata": {
    "execution": {
     "iopub.execute_input": "2022-06-03T10:10:35.863898Z",
     "iopub.status.busy": "2022-06-03T10:10:35.863118Z",
     "iopub.status.idle": "2022-06-03T10:10:35.878749Z",
     "shell.execute_reply": "2022-06-03T10:10:35.879315Z"
    },
    "papermill": {
     "duration": 0.05678,
     "end_time": "2022-06-03T10:10:35.879485",
     "exception": false,
     "start_time": "2022-06-03T10:10:35.822705",
     "status": "completed"
    },
    "tags": []
   },
   "outputs": [],
   "source": [
    "training_data_x = X_train\n",
    "testing_data_x = X_test\n",
    "training_data_y = y_train.reshape(-1,1)\n",
    "testing_data_y = y_test.reshape(-1,1)"
   ]
  },
  {
   "cell_type": "code",
   "execution_count": 19,
   "id": "76951160",
   "metadata": {
    "execution": {
     "iopub.execute_input": "2022-06-03T10:10:35.963026Z",
     "iopub.status.busy": "2022-06-03T10:10:35.959221Z",
     "iopub.status.idle": "2022-06-03T10:10:35.976256Z",
     "shell.execute_reply": "2022-06-03T10:10:35.976879Z"
    },
    "papermill": {
     "duration": 0.063251,
     "end_time": "2022-06-03T10:10:35.977094",
     "exception": false,
     "start_time": "2022-06-03T10:10:35.913843",
     "status": "completed"
    },
    "tags": []
   },
   "outputs": [
    {
     "name": "stdout",
     "output_type": "stream",
     "text": [
      "xavier\n",
      "xavier\n",
      "xavier\n",
      "xavier\n",
      "xavier\n"
     ]
    }
   ],
   "source": [
    "layers = [Affine(\"first\", 784, 100), Relu(\"first\"), Affine(\"second\", 100, 100), Relu(\"second\"), Affine(\"third\", 100, 2), Affine(\"last\", 2, 1), Sigmoid(\"last\")]\n",
    "model_nn = Model(layers)\n",
    "model_lr = Model([Affine(\"logits\", 784, 1), Sigmoid(\"sigmoid\")])"
   ]
  },
  {
   "cell_type": "code",
   "execution_count": 20,
   "id": "6eede77a",
   "metadata": {
    "execution": {
     "iopub.execute_input": "2022-06-03T10:10:36.057824Z",
     "iopub.status.busy": "2022-06-03T10:10:36.053691Z",
     "iopub.status.idle": "2022-06-03T10:10:36.067884Z",
     "shell.execute_reply": "2022-06-03T10:10:36.069228Z"
    },
    "papermill": {
     "duration": 0.056334,
     "end_time": "2022-06-03T10:10:36.069388",
     "exception": false,
     "start_time": "2022-06-03T10:10:36.013054",
     "status": "completed"
    },
    "tags": []
   },
   "outputs": [],
   "source": [
    "nn_learner = Learner(loss, model_nn, opt, config.num_epochs)\n",
    "acc_nn = ClfCallback(nn_learner, config.bs, training_data_x , testing_data_x, training_data_y, testing_data_y)\n",
    "nn_learner.set_callbacks([acc_nn])"
   ]
  },
  {
   "cell_type": "code",
   "execution_count": 21,
   "id": "877b6cc7",
   "metadata": {
    "execution": {
     "iopub.execute_input": "2022-06-03T10:10:36.150033Z",
     "iopub.status.busy": "2022-06-03T10:10:36.145690Z",
     "iopub.status.idle": "2022-06-03T10:10:36.161221Z",
     "shell.execute_reply": "2022-06-03T10:10:36.160508Z"
    },
    "papermill": {
     "duration": 0.054932,
     "end_time": "2022-06-03T10:10:36.161360",
     "exception": false,
     "start_time": "2022-06-03T10:10:36.106428",
     "status": "completed"
    },
    "tags": []
   },
   "outputs": [],
   "source": [
    "lr_learner = Learner(loss, model_lr, opt, config.num_epochs)\n",
    "acc_lr = ClfCallback(lr_learner, config.bs, training_data_x , testing_data_x, training_data_y, testing_data_y)\n",
    "lr_learner.set_callbacks([acc_lr])"
   ]
  },
  {
   "cell_type": "code",
   "execution_count": 22,
   "id": "d9b133c3",
   "metadata": {
    "execution": {
     "iopub.execute_input": "2022-06-03T10:10:36.246802Z",
     "iopub.status.busy": "2022-06-03T10:10:36.245927Z",
     "iopub.status.idle": "2022-06-03T10:12:45.779936Z",
     "shell.execute_reply": "2022-06-03T10:12:45.780941Z"
    },
    "papermill": {
     "duration": 129.583434,
     "end_time": "2022-06-03T10:12:45.781125",
     "exception": false,
     "start_time": "2022-06-03T10:10:36.197691",
     "status": "completed"
    },
    "tags": []
   },
   "outputs": [
    {
     "name": "stdout",
     "output_type": "stream",
     "text": [
      "Epoch 0, Loss 0.2372\n",
      "Training Accuracy: 0.6757, Testing Accuracy: 0.6875\n",
      "\n"
     ]
    },
    {
     "name": "stdout",
     "output_type": "stream",
     "text": [
      "Epoch 10, Loss 0.1089\n",
      "Training Accuracy: 0.9039, Testing Accuracy: 0.9168\n",
      "\n"
     ]
    },
    {
     "name": "stdout",
     "output_type": "stream",
     "text": [
      "Epoch 20, Loss 0.0641\n",
      "Training Accuracy: 0.9316, Testing Accuracy: 0.9430\n",
      "\n"
     ]
    },
    {
     "name": "stdout",
     "output_type": "stream",
     "text": [
      "Epoch 30, Loss 0.0491\n",
      "Training Accuracy: 0.9448, Testing Accuracy: 0.9531\n",
      "\n"
     ]
    },
    {
     "name": "stdout",
     "output_type": "stream",
     "text": [
      "Epoch 40, Loss 0.0416\n",
      "Training Accuracy: 0.9528, Testing Accuracy: 0.9597\n",
      "\n"
     ]
    },
    {
     "name": "stdout",
     "output_type": "stream",
     "text": [
      "Epoch 50, Loss 0.0371\n",
      "Training Accuracy: 0.9575, Testing Accuracy: 0.9642\n",
      "\n"
     ]
    },
    {
     "name": "stdout",
     "output_type": "stream",
     "text": [
      "Epoch 60, Loss 0.0341\n",
      "Training Accuracy: 0.9611, Testing Accuracy: 0.9672\n",
      "\n"
     ]
    },
    {
     "name": "stdout",
     "output_type": "stream",
     "text": [
      "Epoch 70, Loss 0.0319\n",
      "Training Accuracy: 0.9634, Testing Accuracy: 0.9682\n",
      "\n"
     ]
    },
    {
     "name": "stdout",
     "output_type": "stream",
     "text": [
      "Epoch 80, Loss 0.0302\n",
      "Training Accuracy: 0.9658, Testing Accuracy: 0.9677\n",
      "\n"
     ]
    },
    {
     "name": "stdout",
     "output_type": "stream",
     "text": [
      "Epoch 90, Loss 0.0289\n",
      "Training Accuracy: 0.9668, Testing Accuracy: 0.9688\n",
      "\n"
     ]
    },
    {
     "name": "stdout",
     "output_type": "stream",
     "text": [
      "Epoch 100, Loss 0.0277\n",
      "Training Accuracy: 0.9682, Testing Accuracy: 0.9703\n",
      "\n"
     ]
    },
    {
     "name": "stdout",
     "output_type": "stream",
     "text": [
      "Epoch 110, Loss 0.0268\n",
      "Training Accuracy: 0.9688, Testing Accuracy: 0.9703\n",
      "\n"
     ]
    },
    {
     "name": "stdout",
     "output_type": "stream",
     "text": [
      "Epoch 120, Loss 0.0259\n",
      "Training Accuracy: 0.9700, Testing Accuracy: 0.9713\n",
      "\n"
     ]
    },
    {
     "name": "stdout",
     "output_type": "stream",
     "text": [
      "Epoch 130, Loss 0.0251\n",
      "Training Accuracy: 0.9704, Testing Accuracy: 0.9728\n",
      "\n"
     ]
    },
    {
     "name": "stdout",
     "output_type": "stream",
     "text": [
      "Epoch 140, Loss 0.0244\n",
      "Training Accuracy: 0.9716, Testing Accuracy: 0.9733\n",
      "\n"
     ]
    },
    {
     "name": "stdout",
     "output_type": "stream",
     "text": [
      "Epoch 150, Loss 0.0238\n",
      "Training Accuracy: 0.9723, Testing Accuracy: 0.9728\n",
      "\n"
     ]
    },
    {
     "name": "stdout",
     "output_type": "stream",
     "text": [
      "Epoch 160, Loss 0.0232\n",
      "Training Accuracy: 0.9727, Testing Accuracy: 0.9728\n",
      "\n"
     ]
    },
    {
     "name": "stdout",
     "output_type": "stream",
     "text": [
      "Epoch 170, Loss 0.0227\n",
      "Training Accuracy: 0.9735, Testing Accuracy: 0.9728\n",
      "\n"
     ]
    },
    {
     "name": "stdout",
     "output_type": "stream",
     "text": [
      "Epoch 180, Loss 0.0222\n",
      "Training Accuracy: 0.9743, Testing Accuracy: 0.9723\n",
      "\n"
     ]
    },
    {
     "name": "stdout",
     "output_type": "stream",
     "text": [
      "Epoch 190, Loss 0.0217\n",
      "Training Accuracy: 0.9750, Testing Accuracy: 0.9728\n",
      "\n"
     ]
    },
    {
     "name": "stdout",
     "output_type": "stream",
     "text": [
      "Epoch 200, Loss 0.0212\n",
      "Training Accuracy: 0.9754, Testing Accuracy: 0.9733\n",
      "\n"
     ]
    },
    {
     "name": "stdout",
     "output_type": "stream",
     "text": [
      "Epoch 210, Loss 0.0208\n",
      "Training Accuracy: 0.9763, Testing Accuracy: 0.9733\n",
      "\n"
     ]
    },
    {
     "name": "stdout",
     "output_type": "stream",
     "text": [
      "Epoch 220, Loss 0.0204\n",
      "Training Accuracy: 0.9765, Testing Accuracy: 0.9733\n",
      "\n"
     ]
    },
    {
     "name": "stdout",
     "output_type": "stream",
     "text": [
      "Epoch 230, Loss 0.02\n",
      "Training Accuracy: 0.9771, Testing Accuracy: 0.9733\n",
      "\n"
     ]
    },
    {
     "name": "stdout",
     "output_type": "stream",
     "text": [
      "Epoch 240, Loss 0.0196\n",
      "Training Accuracy: 0.9776, Testing Accuracy: 0.9728\n",
      "\n"
     ]
    },
    {
     "data": {
      "text/plain": [
       "0.0012482494504175135"
      ]
     },
     "execution_count": 22,
     "metadata": {},
     "output_type": "execute_result"
    }
   ],
   "source": [
    "nn_learner.train_loop(dl)"
   ]
  },
  {
   "cell_type": "code",
   "execution_count": 23,
   "id": "e0163366",
   "metadata": {
    "execution": {
     "iopub.execute_input": "2022-06-03T10:12:45.882819Z",
     "iopub.status.busy": "2022-06-03T10:12:45.882079Z",
     "iopub.status.idle": "2022-06-03T10:13:04.767857Z",
     "shell.execute_reply": "2022-06-03T10:13:04.768567Z"
    },
    "papermill": {
     "duration": 18.943823,
     "end_time": "2022-06-03T10:13:04.768729",
     "exception": false,
     "start_time": "2022-06-03T10:12:45.824906",
     "status": "completed"
    },
    "tags": []
   },
   "outputs": [
    {
     "name": "stdout",
     "output_type": "stream",
     "text": [
      "Epoch 0, Loss 0.2367\n",
      "Training Accuracy: 0.6957, Testing Accuracy: 0.6935\n",
      "\n"
     ]
    },
    {
     "name": "stdout",
     "output_type": "stream",
     "text": [
      "Epoch 10, Loss 0.1055\n",
      "Training Accuracy: 0.8974, Testing Accuracy: 0.9123\n",
      "\n"
     ]
    },
    {
     "name": "stdout",
     "output_type": "stream",
     "text": [
      "Epoch 20, Loss 0.0808\n",
      "Training Accuracy: 0.9231, Testing Accuracy: 0.9380\n",
      "\n"
     ]
    },
    {
     "name": "stdout",
     "output_type": "stream",
     "text": [
      "Epoch 30, Loss 0.0692\n",
      "Training Accuracy: 0.9344, Testing Accuracy: 0.9476\n",
      "\n"
     ]
    },
    {
     "name": "stdout",
     "output_type": "stream",
     "text": [
      "Epoch 40, Loss 0.0623\n",
      "Training Accuracy: 0.9402, Testing Accuracy: 0.9536\n",
      "\n"
     ]
    },
    {
     "name": "stdout",
     "output_type": "stream",
     "text": [
      "Epoch 50, Loss 0.0576\n",
      "Training Accuracy: 0.9451, Testing Accuracy: 0.9561\n",
      "\n"
     ]
    },
    {
     "name": "stdout",
     "output_type": "stream",
     "text": [
      "Epoch 60, Loss 0.0542\n",
      "Training Accuracy: 0.9471, Testing Accuracy: 0.9572\n",
      "\n"
     ]
    },
    {
     "name": "stdout",
     "output_type": "stream",
     "text": [
      "Epoch 70, Loss 0.0515\n",
      "Training Accuracy: 0.9492, Testing Accuracy: 0.9597\n",
      "\n"
     ]
    },
    {
     "name": "stdout",
     "output_type": "stream",
     "text": [
      "Epoch 80, Loss 0.0494\n",
      "Training Accuracy: 0.9508, Testing Accuracy: 0.9612\n",
      "\n"
     ]
    },
    {
     "name": "stdout",
     "output_type": "stream",
     "text": [
      "Epoch 90, Loss 0.0477\n",
      "Training Accuracy: 0.9521, Testing Accuracy: 0.9612\n",
      "\n"
     ]
    },
    {
     "name": "stdout",
     "output_type": "stream",
     "text": [
      "Epoch 100, Loss 0.0462\n",
      "Training Accuracy: 0.9533, Testing Accuracy: 0.9627\n",
      "\n"
     ]
    },
    {
     "name": "stdout",
     "output_type": "stream",
     "text": [
      "Epoch 110, Loss 0.045\n",
      "Training Accuracy: 0.9543, Testing Accuracy: 0.9642\n",
      "\n"
     ]
    },
    {
     "name": "stdout",
     "output_type": "stream",
     "text": [
      "Epoch 120, Loss 0.0439\n",
      "Training Accuracy: 0.9554, Testing Accuracy: 0.9652\n",
      "\n"
     ]
    },
    {
     "name": "stdout",
     "output_type": "stream",
     "text": [
      "Epoch 130, Loss 0.0429\n",
      "Training Accuracy: 0.9562, Testing Accuracy: 0.9657\n",
      "\n"
     ]
    },
    {
     "name": "stdout",
     "output_type": "stream",
     "text": [
      "Epoch 140, Loss 0.0421\n",
      "Training Accuracy: 0.9572, Testing Accuracy: 0.9662\n",
      "\n"
     ]
    },
    {
     "name": "stdout",
     "output_type": "stream",
     "text": [
      "Epoch 150, Loss 0.0413\n",
      "Training Accuracy: 0.9579, Testing Accuracy: 0.9657\n",
      "\n"
     ]
    },
    {
     "name": "stdout",
     "output_type": "stream",
     "text": [
      "Epoch 160, Loss 0.0406\n",
      "Training Accuracy: 0.9585, Testing Accuracy: 0.9662\n",
      "\n"
     ]
    },
    {
     "name": "stdout",
     "output_type": "stream",
     "text": [
      "Epoch 170, Loss 0.04\n",
      "Training Accuracy: 0.9587, Testing Accuracy: 0.9662\n",
      "\n"
     ]
    },
    {
     "name": "stdout",
     "output_type": "stream",
     "text": [
      "Epoch 180, Loss 0.0395\n",
      "Training Accuracy: 0.9590, Testing Accuracy: 0.9672\n",
      "\n"
     ]
    },
    {
     "name": "stdout",
     "output_type": "stream",
     "text": [
      "Epoch 190, Loss 0.0389\n",
      "Training Accuracy: 0.9594, Testing Accuracy: 0.9672\n",
      "\n"
     ]
    },
    {
     "name": "stdout",
     "output_type": "stream",
     "text": [
      "Epoch 200, Loss 0.0385\n",
      "Training Accuracy: 0.9598, Testing Accuracy: 0.9672\n",
      "\n"
     ]
    },
    {
     "name": "stdout",
     "output_type": "stream",
     "text": [
      "Epoch 210, Loss 0.038\n",
      "Training Accuracy: 0.9599, Testing Accuracy: 0.9672\n",
      "\n"
     ]
    },
    {
     "name": "stdout",
     "output_type": "stream",
     "text": [
      "Epoch 220, Loss 0.0376\n",
      "Training Accuracy: 0.9603, Testing Accuracy: 0.9672\n",
      "\n"
     ]
    },
    {
     "name": "stdout",
     "output_type": "stream",
     "text": [
      "Epoch 230, Loss 0.0372\n",
      "Training Accuracy: 0.9604, Testing Accuracy: 0.9672\n",
      "\n"
     ]
    },
    {
     "name": "stdout",
     "output_type": "stream",
     "text": [
      "Epoch 240, Loss 0.0368\n",
      "Training Accuracy: 0.9605, Testing Accuracy: 0.9672\n",
      "\n"
     ]
    },
    {
     "data": {
      "text/plain": [
       "0.0441191708117394"
      ]
     },
     "execution_count": 23,
     "metadata": {},
     "output_type": "execute_result"
    }
   ],
   "source": [
    "lr_learner.train_loop(dl)"
   ]
  },
  {
   "cell_type": "code",
   "execution_count": 24,
   "id": "ca410940",
   "metadata": {
    "execution": {
     "iopub.execute_input": "2022-06-03T10:13:04.883710Z",
     "iopub.status.busy": "2022-06-03T10:13:04.882832Z",
     "iopub.status.idle": "2022-06-03T10:13:05.184634Z",
     "shell.execute_reply": "2022-06-03T10:13:05.185230Z"
    },
    "papermill": {
     "duration": 0.363759,
     "end_time": "2022-06-03T10:13:05.185404",
     "exception": false,
     "start_time": "2022-06-03T10:13:04.821645",
     "status": "completed"
    },
    "tags": []
   },
   "outputs": [
    {
     "data": {
      "text/plain": [
       "<matplotlib.legend.Legend at 0x7f41822e3a20>"
      ]
     },
     "execution_count": 24,
     "metadata": {},
     "output_type": "execute_result"
    },
    {
     "data": {
      "image/png": "[encoded data removed]",
      "text/plain": [
       "<Figure size 1080x720 with 1 Axes>"
      ]
     },
     "metadata": {
      "needs_background": "light"
     },
     "output_type": "display_data"
    }
   ],
   "source": [
    "#comparing the results of NN and LR\n",
    "plt.figure(figsize=(15,10))\n",
    "\n",
    "# Neural Network plots\n",
    "plt.plot(acc_nn.accuracies, 'r-', label = \"Training Accuracies - NN\")\n",
    "plt.plot(acc_nn.test_accuracies, 'g-', label = \"Testing Accuracies - NN\")\n",
    "\n",
    "# Logistic Regression plots\n",
    "plt.plot(acc_lr.accuracies, 'k-', label = \"Training Accuracies - LR\")\n",
    "plt.plot(acc_lr.test_accuracies, 'b-', label = \"Testing Accuracies - LR\")\n",
    "plt.legend()"
   ]
  },
  {
   "cell_type": "markdown",
   "id": "80dfb35c",
   "metadata": {
    "papermill": {
     "duration": 0.054303,
     "end_time": "2022-06-03T10:13:05.292169",
     "exception": false,
     "start_time": "2022-06-03T10:13:05.237866",
     "status": "completed"
    },
    "tags": []
   },
   "source": [
    "#### Plotting the outputs of this layer of the NN.\n"
   ]
  },
  {
   "cell_type": "code",
   "execution_count": 25,
   "id": "45eb2ff5",
   "metadata": {
    "execution": {
     "iopub.execute_input": "2022-06-03T10:13:05.401452Z",
     "iopub.status.busy": "2022-06-03T10:13:05.400655Z",
     "iopub.status.idle": "2022-06-03T10:13:05.429989Z",
     "shell.execute_reply": "2022-06-03T10:13:05.431894Z"
    },
    "papermill": {
     "duration": 0.089551,
     "end_time": "2022-06-03T10:13:05.432114",
     "exception": false,
     "start_time": "2022-06-03T10:13:05.342563",
     "status": "completed"
    },
    "tags": []
   },
   "outputs": [],
   "source": [
    "new_model = Model(layers[:-2])\n",
    "testing_plot = new_model(testing_data_x)"
   ]
  },
  {
   "cell_type": "code",
   "execution_count": 26,
   "id": "4c0a5485",
   "metadata": {
    "execution": {
     "iopub.execute_input": "2022-06-03T10:13:05.556797Z",
     "iopub.status.busy": "2022-06-03T10:13:05.555727Z",
     "iopub.status.idle": "2022-06-03T10:13:05.854973Z",
     "shell.execute_reply": "2022-06-03T10:13:05.855528Z"
    },
    "papermill": {
     "duration": 0.366606,
     "end_time": "2022-06-03T10:13:05.855711",
     "exception": false,
     "start_time": "2022-06-03T10:13:05.489105",
     "status": "completed"
    },
    "tags": []
   },
   "outputs": [
    {
     "data": {
      "text/plain": [
       "Text(0.5, 1.0, 'Outputs')"
      ]
     },
     "execution_count": 26,
     "metadata": {},
     "output_type": "execute_result"
    },
    {
     "data": {
      "image/png": "[encoded data removed]",
      "text/plain": [
       "<Figure size 576x504 with 1 Axes>"
      ]
     },
     "metadata": {
      "needs_background": "light"
     },
     "output_type": "display_data"
    }
   ],
   "source": [
    "# Plotting the scatter plot of points and color coding by class\n",
    "plt.figure(figsize=(8,7))\n",
    "plt.scatter(testing_plot[:,0], testing_plot[:,1], alpha = 0.1, c = y_test.ravel());\n",
    "plt.title('Outputs')"
   ]
  },
  {
   "cell_type": "markdown",
   "id": "a74fcf8f",
   "metadata": {
    "papermill": {
     "duration": 0.083233,
     "end_time": "2022-06-03T10:13:05.997060",
     "exception": false,
     "start_time": "2022-06-03T10:13:05.913827",
     "status": "completed"
    },
    "tags": []
   },
   "source": [
    "Probability contours"
   ]
  },
  {
   "cell_type": "code",
   "execution_count": 27,
   "id": "d0afc8e3",
   "metadata": {
    "execution": {
     "iopub.execute_input": "2022-06-03T10:13:06.119041Z",
     "iopub.status.busy": "2022-06-03T10:13:06.118299Z",
     "iopub.status.idle": "2022-06-03T10:13:06.133085Z",
     "shell.execute_reply": "2022-06-03T10:13:06.132380Z"
    },
    "papermill": {
     "duration": 0.076827,
     "end_time": "2022-06-03T10:13:06.133221",
     "exception": false,
     "start_time": "2022-06-03T10:13:06.056394",
     "status": "completed"
    },
    "tags": []
   },
   "outputs": [],
   "source": [
    "model_prob = Model(layers[-2:]) "
   ]
  },
  {
   "cell_type": "code",
   "execution_count": 28,
   "id": "9b96e238",
   "metadata": {
    "execution": {
     "iopub.execute_input": "2022-06-03T10:13:06.255210Z",
     "iopub.status.busy": "2022-06-03T10:13:06.254454Z",
     "iopub.status.idle": "2022-06-03T10:13:06.272542Z",
     "shell.execute_reply": "2022-06-03T10:13:06.273174Z"
    },
    "papermill": {
     "duration": 0.080687,
     "end_time": "2022-06-03T10:13:06.273348",
     "exception": false,
     "start_time": "2022-06-03T10:13:06.192661",
     "status": "completed"
    },
    "tags": []
   },
   "outputs": [],
   "source": [
    "#creating the x and y ranges according to the above generated plot.\n",
    "x_range = np.linspace(-4, 1, 100) \n",
    "y_range = np.linspace(-6, 6, 100) \n",
    "x_grid, y_grid = np.meshgrid(x_range, y_range) # x_grid and y_grig are of size 100 X 100\n",
    "\n",
    "# converting x_grid and y_grid to continuous arrays\n",
    "x_gridflat = np.ravel(x_grid)\n",
    "y_gridflat = np.ravel(y_grid)\n",
    "\n",
    "# The last layer of the current model takes two columns as input. Hence transpose of np.vstack() is required.\n",
    "X = np.vstack((x_gridflat, y_gridflat)).T\n",
    "\n",
    "prob_contour = model_prob(X).reshape(100,100) "
   ]
  },
  {
   "cell_type": "code",
   "execution_count": 29,
   "id": "da72499a",
   "metadata": {
    "execution": {
     "iopub.execute_input": "2022-06-03T10:13:06.398814Z",
     "iopub.status.busy": "2022-06-03T10:13:06.397980Z",
     "iopub.status.idle": "2022-06-03T10:13:06.726799Z",
     "shell.execute_reply": "2022-06-03T10:13:06.727377Z"
    },
    "papermill": {
     "duration": 0.39644,
     "end_time": "2022-06-03T10:13:06.727553",
     "exception": false,
     "start_time": "2022-06-03T10:13:06.331113",
     "status": "completed"
    },
    "tags": []
   },
   "outputs": [
    {
     "data": {
      "image/png": "[encoded data removed]",
      "text/plain": [
       "<Figure size 720x648 with 1 Axes>"
      ]
     },
     "metadata": {
      "needs_background": "light"
     },
     "output_type": "display_data"
    }
   ],
   "source": [
    "plt.figure(figsize=(10,9))\n",
    "plt.scatter(testing_plot[:,0], testing_plot[:,1], alpha = 0.1, c = y_test.ravel())\n",
    "contours = plt.contour(x_grid,y_grid,prob_contour)\n",
    "plt.title('Probability Contours')\n",
    "plt.clabel(contours, inline = True );"
   ]
  },
  {
   "cell_type": "code",
   "execution_count": null,
   "id": "e81b4ac7",
   "metadata": {
    "papermill": {
     "duration": 0.057773,
     "end_time": "2022-06-03T10:13:06.843750",
     "exception": false,
     "start_time": "2022-06-03T10:13:06.785977",
     "status": "completed"
    },
    "tags": []
   },
   "outputs": [],
   "source": []
  }
 ],
 "metadata": {
  "kernelspec": {
   "display_name": "Python 3",
   "language": "python",
   "name": "python3"
  },
  "language_info": {
   "codemirror_mode": {
    "name": "ipython",
    "version": 3
   },
   "file_extension": ".py",
   "mimetype": "text/x-python",
   "name": "python",
   "nbconvert_exporter": "python",
   "pygments_lexer": "ipython3",
   "version": "3.6.15"
  },
  "papermill": {
   "default_parameters": {},
   "duration": 158.88345,
   "end_time": "2022-06-03T10:13:07.323501",
   "environment_variables": {},
   "exception": null,
   "input_path": "2020-08-11-part2.ipynb",
   "output_path": "2020-08-11-part2.ipynb",
   "parameters": {},
   "start_time": "2022-06-03T10:10:28.440051",
   "version": "2.3.3"
  }
 },
 "nbformat": 4,
 "nbformat_minor": 5
}