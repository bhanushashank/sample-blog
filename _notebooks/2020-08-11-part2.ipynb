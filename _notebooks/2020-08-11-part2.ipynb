{
 "cells": [
  {
   "cell_type": "markdown",
   "id": "98380cd3",
   "metadata": {
    "papermill": {
     "duration": 0.034068,
     "end_time": "2021-09-22T00:22:08.302311",
     "exception": false,
     "start_time": "2021-09-22T00:22:08.268243",
     "status": "completed"
    },
    "tags": []
   },
   "source": [
    "# Distinguish Your Own Digits (DYOD)"
   ]
  },
  {
   "cell_type": "markdown",
   "id": "ef31240d",
   "metadata": {
    "papermill": {
     "duration": 0.029083,
     "end_time": "2021-09-22T00:22:08.360698",
     "exception": false,
     "start_time": "2021-09-22T00:22:08.331615",
     "status": "completed"
    },
    "tags": []
   },
   "source": [
    "You are going to write a classifier that distinguishes between the number 3 and number 8."
   ]
  },
  {
   "cell_type": "code",
   "execution_count": 1,
   "id": "b15c8646",
   "metadata": {
    "execution": {
     "iopub.execute_input": "2021-09-22T00:22:08.431472Z",
     "iopub.status.busy": "2021-09-22T00:22:08.430845Z",
     "iopub.status.idle": "2021-09-22T00:22:08.441574Z",
     "shell.execute_reply": "2021-09-22T00:22:08.441053Z"
    },
    "papermill": {
     "duration": 0.050441,
     "end_time": "2021-09-22T00:22:08.441711",
     "exception": false,
     "start_time": "2021-09-22T00:22:08.391270",
     "status": "completed"
    },
    "tags": []
   },
   "outputs": [],
   "source": [
    "%load_ext autoreload\n",
    "%autoreload 2"
   ]
  },
  {
   "cell_type": "code",
   "execution_count": 2,
   "id": "22ef38dc",
   "metadata": {
    "execution": {
     "iopub.execute_input": "2021-09-22T00:22:08.504400Z",
     "iopub.status.busy": "2021-09-22T00:22:08.503779Z",
     "iopub.status.idle": "2021-09-22T00:22:09.113302Z",
     "shell.execute_reply": "2021-09-22T00:22:09.113853Z"
    },
    "papermill": {
     "duration": 0.643105,
     "end_time": "2021-09-22T00:22:09.114056",
     "exception": false,
     "start_time": "2021-09-22T00:22:08.470951",
     "status": "completed"
    },
    "tags": []
   },
   "outputs": [],
   "source": [
    "%matplotlib inline\n",
    "import numpy as np\n",
    "import matplotlib.pyplot as plt\n",
    "import pandas as pd"
   ]
  },
  {
   "cell_type": "markdown",
   "id": "ba036198",
   "metadata": {
    "papermill": {
     "duration": 0.030842,
     "end_time": "2021-09-22T00:22:09.175210",
     "exception": false,
     "start_time": "2021-09-22T00:22:09.144368",
     "status": "completed"
    },
    "tags": []
   },
   "source": [
    "From the command line run `pip install mnist`. This is a library that will help you bring down the mnist dataset. If you run this from a notebook, you need to put  `!pip install mnist` in a cell by itself."
   ]
  },
  {
   "cell_type": "code",
   "execution_count": 3,
   "id": "bb6ad8a1",
   "metadata": {
    "execution": {
     "iopub.execute_input": "2021-09-22T00:22:09.249553Z",
     "iopub.status.busy": "2021-09-22T00:22:09.248821Z",
     "iopub.status.idle": "2021-09-22T00:22:12.036045Z",
     "shell.execute_reply": "2021-09-22T00:22:12.035105Z"
    },
    "papermill": {
     "duration": 2.822793,
     "end_time": "2021-09-22T00:22:12.036197",
     "exception": false,
     "start_time": "2021-09-22T00:22:09.213404",
     "status": "completed"
    },
    "tags": []
   },
   "outputs": [
    {
     "name": "stdout",
     "output_type": "stream",
     "text": [
      "Collecting mnist\r\n"
     ]
    },
    {
     "name": "stdout",
     "output_type": "stream",
     "text": [
      "  Downloading mnist-0.2.2-py2.py3-none-any.whl (3.5 kB)\r\n",
      "Requirement already satisfied: numpy in /opt/hostedtoolcache/Python/3.6.15/x64/lib/python3.6/site-packages (from mnist) (1.19.5)\r\n"
     ]
    },
    {
     "name": "stdout",
     "output_type": "stream",
     "text": [
      "Installing collected packages: mnist\r\n"
     ]
    },
    {
     "name": "stdout",
     "output_type": "stream",
     "text": [
      "Successfully installed mnist-0.2.2\r\n"
     ]
    }
   ],
   "source": [
    "!pip install mnist"
   ]
  },
  {
   "cell_type": "markdown",
   "id": "69df9c9a",
   "metadata": {
    "papermill": {
     "duration": 0.030449,
     "end_time": "2021-09-22T00:22:12.099411",
     "exception": false,
     "start_time": "2021-09-22T00:22:12.068962",
     "status": "completed"
    },
    "tags": []
   },
   "source": [
    "## Preparing the Data"
   ]
  },
  {
   "cell_type": "code",
   "execution_count": 4,
   "id": "7f69d806",
   "metadata": {
    "execution": {
     "iopub.execute_input": "2021-09-22T00:22:12.171834Z",
     "iopub.status.busy": "2021-09-22T00:22:12.171190Z",
     "iopub.status.idle": "2021-09-22T00:22:12.183353Z",
     "shell.execute_reply": "2021-09-22T00:22:12.183881Z"
    },
    "papermill": {
     "duration": 0.053024,
     "end_time": "2021-09-22T00:22:12.184030",
     "exception": false,
     "start_time": "2021-09-22T00:22:12.131006",
     "status": "completed"
    },
    "tags": []
   },
   "outputs": [],
   "source": [
    "import mnist"
   ]
  },
  {
   "cell_type": "code",
   "execution_count": 5,
   "id": "a411e44f",
   "metadata": {
    "execution": {
     "iopub.execute_input": "2021-09-22T00:22:12.260749Z",
     "iopub.status.busy": "2021-09-22T00:22:12.250976Z",
     "iopub.status.idle": "2021-09-22T00:22:12.821117Z",
     "shell.execute_reply": "2021-09-22T00:22:12.820505Z"
    },
    "papermill": {
     "duration": 0.606876,
     "end_time": "2021-09-22T00:22:12.821270",
     "exception": false,
     "start_time": "2021-09-22T00:22:12.214394",
     "status": "completed"
    },
    "tags": []
   },
   "outputs": [],
   "source": [
    "train_images = mnist.train_images()\n",
    "train_labels = mnist.train_labels()"
   ]
  },
  {
   "cell_type": "code",
   "execution_count": 6,
   "id": "dceab3a5",
   "metadata": {
    "execution": {
     "iopub.execute_input": "2021-09-22T00:22:12.892188Z",
     "iopub.status.busy": "2021-09-22T00:22:12.891525Z",
     "iopub.status.idle": "2021-09-22T00:22:12.908632Z",
     "shell.execute_reply": "2021-09-22T00:22:12.908059Z"
    },
    "papermill": {
     "duration": 0.055597,
     "end_time": "2021-09-22T00:22:12.908766",
     "exception": false,
     "start_time": "2021-09-22T00:22:12.853169",
     "status": "completed"
    },
    "tags": []
   },
   "outputs": [
    {
     "data": {
      "text/plain": [
       "((60000, 28, 28), (60000,))"
      ]
     },
     "execution_count": 6,
     "metadata": {},
     "output_type": "execute_result"
    }
   ],
   "source": [
    "train_images.shape, train_labels.shape"
   ]
  },
  {
   "cell_type": "code",
   "execution_count": 7,
   "id": "f50dc2bb",
   "metadata": {
    "execution": {
     "iopub.execute_input": "2021-09-22T00:22:12.982961Z",
     "iopub.status.busy": "2021-09-22T00:22:12.982281Z",
     "iopub.status.idle": "2021-09-22T00:22:13.148444Z",
     "shell.execute_reply": "2021-09-22T00:22:13.147899Z"
    },
    "papermill": {
     "duration": 0.207955,
     "end_time": "2021-09-22T00:22:13.148599",
     "exception": false,
     "start_time": "2021-09-22T00:22:12.940644",
     "status": "completed"
    },
    "tags": []
   },
   "outputs": [],
   "source": [
    "test_images = mnist.test_images()\n",
    "test_labels = mnist.test_labels()"
   ]
  },
  {
   "cell_type": "code",
   "execution_count": 8,
   "id": "fc38cf1b",
   "metadata": {
    "execution": {
     "iopub.execute_input": "2021-09-22T00:22:13.213276Z",
     "iopub.status.busy": "2021-09-22T00:22:13.212623Z",
     "iopub.status.idle": "2021-09-22T00:22:13.225491Z",
     "shell.execute_reply": "2021-09-22T00:22:13.226087Z"
    },
    "papermill": {
     "duration": 0.047276,
     "end_time": "2021-09-22T00:22:13.226286",
     "exception": false,
     "start_time": "2021-09-22T00:22:13.179010",
     "status": "completed"
    },
    "tags": []
   },
   "outputs": [
    {
     "data": {
      "text/plain": [
       "((10000, 28, 28), (10000,))"
      ]
     },
     "execution_count": 8,
     "metadata": {},
     "output_type": "execute_result"
    }
   ],
   "source": [
    "test_images.shape, test_labels.shape"
   ]
  },
  {
   "cell_type": "code",
   "execution_count": 9,
   "id": "f9ed8fe0",
   "metadata": {
    "execution": {
     "iopub.execute_input": "2021-09-22T00:22:13.292727Z",
     "iopub.status.busy": "2021-09-22T00:22:13.292103Z",
     "iopub.status.idle": "2021-09-22T00:22:13.494930Z",
     "shell.execute_reply": "2021-09-22T00:22:13.495483Z"
    },
    "papermill": {
     "duration": 0.239257,
     "end_time": "2021-09-22T00:22:13.495656",
     "exception": false,
     "start_time": "2021-09-22T00:22:13.256399",
     "status": "completed"
    },
    "tags": []
   },
   "outputs": [
    {
     "name": "stdout",
     "output_type": "stream",
     "text": [
      "2\n"
     ]
    },
    {
     "data": {
      "text/plain": [
       "<matplotlib.image.AxesImage at 0x7fe7aeefbd30>"
      ]
     },
     "execution_count": 9,
     "metadata": {},
     "output_type": "execute_result"
    },
    {
     "data": {
      "image/png": "[encoded data removed]",
      "text/plain": [
       "<Figure size 432x288 with 1 Axes>"
      ]
     },
     "metadata": {
      "needs_background": "light"
     },
     "output_type": "display_data"
    }
   ],
   "source": [
    "image_index = 7776 # You may select anything up to 60,000\n",
    "print(train_labels[image_index]) \n",
    "plt.imshow(train_images[image_index], cmap='Greys')"
   ]
  },
  {
   "cell_type": "markdown",
   "id": "a8d2388d",
   "metadata": {
    "papermill": {
     "duration": 0.032528,
     "end_time": "2021-09-22T00:22:13.562585",
     "exception": false,
     "start_time": "2021-09-22T00:22:13.530057",
     "status": "completed"
    },
    "tags": []
   },
   "source": [
    "## Filter data to get 3 and 8 out"
   ]
  },
  {
   "cell_type": "code",
   "execution_count": 10,
   "id": "776f7fc7",
   "metadata": {
    "execution": {
     "iopub.execute_input": "2021-09-22T00:22:13.639397Z",
     "iopub.status.busy": "2021-09-22T00:22:13.638705Z",
     "iopub.status.idle": "2021-09-22T00:22:13.658035Z",
     "shell.execute_reply": "2021-09-22T00:22:13.657466Z"
    },
    "papermill": {
     "duration": 0.059995,
     "end_time": "2021-09-22T00:22:13.658237",
     "exception": false,
     "start_time": "2021-09-22T00:22:13.598242",
     "status": "completed"
    },
    "tags": []
   },
   "outputs": [],
   "source": [
    "train_filter = np.where((train_labels == 3 ) | (train_labels == 8))\n",
    "test_filter = np.where((test_labels == 3) | (test_labels == 8))\n",
    "X_train, y_train = train_images[train_filter], train_labels[train_filter]\n",
    "X_test, y_test = test_images[test_filter], test_labels[test_filter]"
   ]
  },
  {
   "cell_type": "markdown",
   "id": "948f0b7e",
   "metadata": {
    "papermill": {
     "duration": 0.039004,
     "end_time": "2021-09-22T00:22:13.735251",
     "exception": false,
     "start_time": "2021-09-22T00:22:13.696247",
     "status": "completed"
    },
    "tags": []
   },
   "source": [
    "We normalize the pizel values in the 0 to 1 range"
   ]
  },
  {
   "cell_type": "code",
   "execution_count": 11,
   "id": "ee4c2166",
   "metadata": {
    "execution": {
     "iopub.execute_input": "2021-09-22T00:22:13.806500Z",
     "iopub.status.busy": "2021-09-22T00:22:13.805767Z",
     "iopub.status.idle": "2021-09-22T00:22:13.867307Z",
     "shell.execute_reply": "2021-09-22T00:22:13.866786Z"
    },
    "papermill": {
     "duration": 0.1002,
     "end_time": "2021-09-22T00:22:13.867449",
     "exception": false,
     "start_time": "2021-09-22T00:22:13.767249",
     "status": "completed"
    },
    "tags": []
   },
   "outputs": [],
   "source": [
    "X_train = X_train/255.\n",
    "X_test = X_test/255."
   ]
  },
  {
   "cell_type": "markdown",
   "id": "ddcf4fab",
   "metadata": {
    "papermill": {
     "duration": 0.032741,
     "end_time": "2021-09-22T00:22:13.933239",
     "exception": false,
     "start_time": "2021-09-22T00:22:13.900498",
     "status": "completed"
    },
    "tags": []
   },
   "source": [
    "And setup the labels as 1 (when the digit is 3) and 0 (when the digit is 8)"
   ]
  },
  {
   "cell_type": "code",
   "execution_count": 12,
   "id": "7dc908f2",
   "metadata": {
    "execution": {
     "iopub.execute_input": "2021-09-22T00:22:14.001661Z",
     "iopub.status.busy": "2021-09-22T00:22:14.001073Z",
     "iopub.status.idle": "2021-09-22T00:22:14.011944Z",
     "shell.execute_reply": "2021-09-22T00:22:14.012513Z"
    },
    "papermill": {
     "duration": 0.04886,
     "end_time": "2021-09-22T00:22:14.012820",
     "exception": false,
     "start_time": "2021-09-22T00:22:13.963960",
     "status": "completed"
    },
    "tags": []
   },
   "outputs": [],
   "source": [
    "y_train = 1*(y_train==3)\n",
    "y_test = 1*(y_test==3)"
   ]
  },
  {
   "cell_type": "code",
   "execution_count": 13,
   "id": "01e4e969",
   "metadata": {
    "execution": {
     "iopub.execute_input": "2021-09-22T00:22:14.095471Z",
     "iopub.status.busy": "2021-09-22T00:22:14.090268Z",
     "iopub.status.idle": "2021-09-22T00:22:14.098627Z",
     "shell.execute_reply": "2021-09-22T00:22:14.099107Z"
    },
    "papermill": {
     "duration": 0.053369,
     "end_time": "2021-09-22T00:22:14.099245",
     "exception": false,
     "start_time": "2021-09-22T00:22:14.045876",
     "status": "completed"
    },
    "tags": []
   },
   "outputs": [
    {
     "data": {
      "text/plain": [
       "((11982, 28, 28), (1984, 28, 28))"
      ]
     },
     "execution_count": 13,
     "metadata": {},
     "output_type": "execute_result"
    }
   ],
   "source": [
    "X_train.shape, X_test.shape"
   ]
  },
  {
   "cell_type": "markdown",
   "id": "5ccf3f85",
   "metadata": {
    "papermill": {
     "duration": 0.030495,
     "end_time": "2021-09-22T00:22:14.161500",
     "exception": false,
     "start_time": "2021-09-22T00:22:14.131005",
     "status": "completed"
    },
    "tags": []
   },
   "source": [
    "We reshape the data to flatten the image pixels into a set of features or co-variates:"
   ]
  },
  {
   "cell_type": "code",
   "execution_count": 14,
   "id": "5286a4a3",
   "metadata": {
    "execution": {
     "iopub.execute_input": "2021-09-22T00:22:14.231618Z",
     "iopub.status.busy": "2021-09-22T00:22:14.230957Z",
     "iopub.status.idle": "2021-09-22T00:22:14.243998Z",
     "shell.execute_reply": "2021-09-22T00:22:14.243498Z"
    },
    "papermill": {
     "duration": 0.048887,
     "end_time": "2021-09-22T00:22:14.244117",
     "exception": false,
     "start_time": "2021-09-22T00:22:14.195230",
     "status": "completed"
    },
    "tags": []
   },
   "outputs": [
    {
     "data": {
      "text/plain": [
       "((11982, 784), (1984, 784))"
      ]
     },
     "execution_count": 14,
     "metadata": {},
     "output_type": "execute_result"
    }
   ],
   "source": [
    "X_train = X_train.reshape(X_train.shape[0], -1)\n",
    "X_test = X_test.reshape(X_test.shape[0], -1)\n",
    "X_train.shape, X_test.shape"
   ]
  },
  {
   "cell_type": "code",
   "execution_count": 15,
   "id": "73c5f88a",
   "metadata": {
    "execution": {
     "iopub.execute_input": "2021-09-22T00:22:14.315860Z",
     "iopub.status.busy": "2021-09-22T00:22:14.315081Z",
     "iopub.status.idle": "2021-09-22T00:22:14.333454Z",
     "shell.execute_reply": "2021-09-22T00:22:14.333976Z"
    },
    "papermill": {
     "duration": 0.05971,
     "end_time": "2021-09-22T00:22:14.334118",
     "exception": false,
     "start_time": "2021-09-22T00:22:14.274408",
     "status": "completed"
    },
    "tags": []
   },
   "outputs": [],
   "source": [
    "#Impoting functions from 'Kudzu'\n",
    "from kudzu.model import Model\n",
    "from kudzu.train import Learner\n",
    "from kudzu.optim import GD\n",
    "from kudzu.data import Data, Sampler,Dataloader\n",
    "\n",
    "from kudzu.callbacks import AccCallback\n",
    "from kudzu.callbacks import ClfCallback\n",
    "\n",
    "from kudzu.loss import MSE\n",
    "\n",
    "from kudzu.layer import Sigmoid,Relu\n",
    "from kudzu.layer import Affine"
   ]
  },
  {
   "cell_type": "markdown",
   "id": "bc01172a",
   "metadata": {
    "papermill": {
     "duration": 0.032168,
     "end_time": "2021-09-22T00:22:14.398582",
     "exception": false,
     "start_time": "2021-09-22T00:22:14.366414",
     "status": "completed"
    },
    "tags": []
   },
   "source": [
    "### Let us create a `Config` class, to store important parameters. \n",
    "This class essentially plays the role of a dictionary."
   ]
  },
  {
   "cell_type": "code",
   "execution_count": 16,
   "id": "978281aa",
   "metadata": {
    "execution": {
     "iopub.execute_input": "2021-09-22T00:22:14.469566Z",
     "iopub.status.busy": "2021-09-22T00:22:14.468884Z",
     "iopub.status.idle": "2021-09-22T00:22:14.480612Z",
     "shell.execute_reply": "2021-09-22T00:22:14.481267Z"
    },
    "papermill": {
     "duration": 0.050313,
     "end_time": "2021-09-22T00:22:14.481417",
     "exception": false,
     "start_time": "2021-09-22T00:22:14.431104",
     "status": "completed"
    },
    "tags": []
   },
   "outputs": [],
   "source": [
    "class Config:\n",
    "    pass\n",
    "config = Config()\n",
    "config.lr = 0.001\n",
    "config.num_epochs = 250\n",
    "config.bs = 50"
   ]
  },
  {
   "cell_type": "markdown",
   "id": "1385fa59",
   "metadata": {
    "papermill": {
     "duration": 0.035121,
     "end_time": "2021-09-22T00:22:14.551582",
     "exception": false,
     "start_time": "2021-09-22T00:22:14.516461",
     "status": "completed"
    },
    "tags": []
   },
   "source": [
    "### Running Models with the Training data\n",
    "Details about the network layers:\n",
    "- A first affine layer has 784 inputs and does 100 affine transforms. These are followed by a Relu\n",
    "- A second affine layer has 100 inputs from the 100 activations of the past layer, and does 100 affine transforms. These are followed by a Relu\n",
    "- A third affine layer has 100 activations and does 2 affine transformations to create an embedding for visualization. There is no non-linearity here.\n",
    "- A final \"logistic regression\" which has an affine transform from 2 inputs to 1 output, which is squeezed through a sigmoid.\n"
   ]
  },
  {
   "cell_type": "code",
   "execution_count": 17,
   "id": "2b9c66db",
   "metadata": {
    "execution": {
     "iopub.execute_input": "2021-09-22T00:22:14.626011Z",
     "iopub.status.busy": "2021-09-22T00:22:14.625343Z",
     "iopub.status.idle": "2021-09-22T00:22:14.639897Z",
     "shell.execute_reply": "2021-09-22T00:22:14.639297Z"
    },
    "papermill": {
     "duration": 0.05517,
     "end_time": "2021-09-22T00:22:14.640067",
     "exception": false,
     "start_time": "2021-09-22T00:22:14.584897",
     "status": "completed"
    },
    "tags": []
   },
   "outputs": [],
   "source": [
    "data = Data(X_train, y_train.reshape(-1,1))\n",
    "sampler = Sampler(data, config.bs, shuffle=True)\n",
    "\n",
    "dl = Dataloader(data, sampler)\n",
    "\n",
    "opt = GD(config.lr)\n",
    "loss = MSE()"
   ]
  },
  {
   "cell_type": "code",
   "execution_count": 18,
   "id": "b275e4c2",
   "metadata": {
    "execution": {
     "iopub.execute_input": "2021-09-22T00:22:14.731511Z",
     "iopub.status.busy": "2021-09-22T00:22:14.730821Z",
     "iopub.status.idle": "2021-09-22T00:22:14.743768Z",
     "shell.execute_reply": "2021-09-22T00:22:14.743201Z"
    },
    "papermill": {
     "duration": 0.067349,
     "end_time": "2021-09-22T00:22:14.743909",
     "exception": false,
     "start_time": "2021-09-22T00:22:14.676560",
     "status": "completed"
    },
    "tags": []
   },
   "outputs": [],
   "source": [
    "training_data_x = X_train\n",
    "testing_data_x = X_test\n",
    "training_data_y = y_train.reshape(-1,1)\n",
    "testing_data_y = y_test.reshape(-1,1)"
   ]
  },
  {
   "cell_type": "code",
   "execution_count": 19,
   "id": "76951160",
   "metadata": {
    "execution": {
     "iopub.execute_input": "2021-09-22T00:22:14.821827Z",
     "iopub.status.busy": "2021-09-22T00:22:14.821104Z",
     "iopub.status.idle": "2021-09-22T00:22:14.837304Z",
     "shell.execute_reply": "2021-09-22T00:22:14.837813Z"
    },
    "papermill": {
     "duration": 0.061082,
     "end_time": "2021-09-22T00:22:14.838825",
     "exception": false,
     "start_time": "2021-09-22T00:22:14.777743",
     "status": "completed"
    },
    "tags": []
   },
   "outputs": [
    {
     "name": "stdout",
     "output_type": "stream",
     "text": [
      "xavier\n",
      "xavier\n",
      "xavier\n",
      "xavier\n",
      "xavier\n"
     ]
    }
   ],
   "source": [
    "layers = [Affine(\"first\", 784, 100), Relu(\"first\"), Affine(\"second\", 100, 100), Relu(\"second\"), Affine(\"third\", 100, 2), Affine(\"last\", 2, 1), Sigmoid(\"last\")]\n",
    "model_nn = Model(layers)\n",
    "model_lr = Model([Affine(\"logits\", 784, 1), Sigmoid(\"sigmoid\")])"
   ]
  },
  {
   "cell_type": "code",
   "execution_count": 20,
   "id": "6eede77a",
   "metadata": {
    "execution": {
     "iopub.execute_input": "2021-09-22T00:22:14.923041Z",
     "iopub.status.busy": "2021-09-22T00:22:14.922334Z",
     "iopub.status.idle": "2021-09-22T00:22:14.937060Z",
     "shell.execute_reply": "2021-09-22T00:22:14.936357Z"
    },
    "papermill": {
     "duration": 0.053811,
     "end_time": "2021-09-22T00:22:14.937211",
     "exception": false,
     "start_time": "2021-09-22T00:22:14.883400",
     "status": "completed"
    },
    "tags": []
   },
   "outputs": [],
   "source": [
    "nn_learner = Learner(loss, model_nn, opt, config.num_epochs)\n",
    "acc_nn = ClfCallback(nn_learner, config.bs, training_data_x , testing_data_x, training_data_y, testing_data_y)\n",
    "nn_learner.set_callbacks([acc_nn])"
   ]
  },
  {
   "cell_type": "code",
   "execution_count": 21,
   "id": "877b6cc7",
   "metadata": {
    "execution": {
     "iopub.execute_input": "2021-09-22T00:22:15.018191Z",
     "iopub.status.busy": "2021-09-22T00:22:15.017486Z",
     "iopub.status.idle": "2021-09-22T00:22:15.030573Z",
     "shell.execute_reply": "2021-09-22T00:22:15.031190Z"
    },
    "papermill": {
     "duration": 0.053678,
     "end_time": "2021-09-22T00:22:15.031486",
     "exception": false,
     "start_time": "2021-09-22T00:22:14.977808",
     "status": "completed"
    },
    "tags": []
   },
   "outputs": [],
   "source": [
    "lr_learner = Learner(loss, model_lr, opt, config.num_epochs)\n",
    "acc_lr = ClfCallback(lr_learner, config.bs, training_data_x , testing_data_x, training_data_y, testing_data_y)\n",
    "lr_learner.set_callbacks([acc_lr])"
   ]
  },
  {
   "cell_type": "code",
   "execution_count": 22,
   "id": "d9b133c3",
   "metadata": {
    "execution": {
     "iopub.execute_input": "2021-09-22T00:22:15.111874Z",
     "iopub.status.busy": "2021-09-22T00:22:15.111206Z",
     "iopub.status.idle": "2021-09-22T00:24:24.256349Z",
     "shell.execute_reply": "2021-09-22T00:24:24.257231Z"
    },
    "papermill": {
     "duration": 129.18806,
     "end_time": "2021-09-22T00:24:24.257405",
     "exception": false,
     "start_time": "2021-09-22T00:22:15.069345",
     "status": "completed"
    },
    "tags": []
   },
   "outputs": [
    {
     "name": "stdout",
     "output_type": "stream",
     "text": [
      "Epoch 0, Loss 0.2596\n",
      "Training Accuracy: 0.5156, Testing Accuracy: 0.5222\n",
      "\n"
     ]
    },
    {
     "name": "stdout",
     "output_type": "stream",
     "text": [
      "Epoch 10, Loss 0.0981\n",
      "Training Accuracy: 0.9170, Testing Accuracy: 0.9309\n",
      "\n"
     ]
    },
    {
     "name": "stdout",
     "output_type": "stream",
     "text": [
      "Epoch 20, Loss 0.0569\n",
      "Training Accuracy: 0.9422, Testing Accuracy: 0.9526\n",
      "\n"
     ]
    },
    {
     "name": "stdout",
     "output_type": "stream",
     "text": [
      "Epoch 30, Loss 0.0442\n",
      "Training Accuracy: 0.9517, Testing Accuracy: 0.9607\n",
      "\n"
     ]
    },
    {
     "name": "stdout",
     "output_type": "stream",
     "text": [
      "Epoch 40, Loss 0.0382\n",
      "Training Accuracy: 0.9572, Testing Accuracy: 0.9632\n",
      "\n"
     ]
    },
    {
     "name": "stdout",
     "output_type": "stream",
     "text": [
      "Epoch 50, Loss 0.0347\n",
      "Training Accuracy: 0.9613, Testing Accuracy: 0.9662\n",
      "\n"
     ]
    },
    {
     "name": "stdout",
     "output_type": "stream",
     "text": [
      "Epoch 60, Loss 0.0324\n",
      "Training Accuracy: 0.9629, Testing Accuracy: 0.9667\n",
      "\n"
     ]
    },
    {
     "name": "stdout",
     "output_type": "stream",
     "text": [
      "Epoch 70, Loss 0.0306\n",
      "Training Accuracy: 0.9645, Testing Accuracy: 0.9693\n",
      "\n"
     ]
    },
    {
     "name": "stdout",
     "output_type": "stream",
     "text": [
      "Epoch 80, Loss 0.0292\n",
      "Training Accuracy: 0.9663, Testing Accuracy: 0.9703\n",
      "\n"
     ]
    },
    {
     "name": "stdout",
     "output_type": "stream",
     "text": [
      "Epoch 90, Loss 0.0281\n",
      "Training Accuracy: 0.9673, Testing Accuracy: 0.9703\n",
      "\n"
     ]
    },
    {
     "name": "stdout",
     "output_type": "stream",
     "text": [
      "Epoch 100, Loss 0.0271\n",
      "Training Accuracy: 0.9683, Testing Accuracy: 0.9713\n",
      "\n"
     ]
    },
    {
     "name": "stdout",
     "output_type": "stream",
     "text": [
      "Epoch 110, Loss 0.0262\n",
      "Training Accuracy: 0.9686, Testing Accuracy: 0.9713\n",
      "\n"
     ]
    },
    {
     "name": "stdout",
     "output_type": "stream",
     "text": [
      "Epoch 120, Loss 0.0255\n",
      "Training Accuracy: 0.9693, Testing Accuracy: 0.9703\n",
      "\n"
     ]
    },
    {
     "name": "stdout",
     "output_type": "stream",
     "text": [
      "Epoch 130, Loss 0.0248\n",
      "Training Accuracy: 0.9705, Testing Accuracy: 0.9713\n",
      "\n"
     ]
    },
    {
     "name": "stdout",
     "output_type": "stream",
     "text": [
      "Epoch 140, Loss 0.0242\n",
      "Training Accuracy: 0.9715, Testing Accuracy: 0.9713\n",
      "\n"
     ]
    },
    {
     "name": "stdout",
     "output_type": "stream",
     "text": [
      "Epoch 150, Loss 0.0236\n",
      "Training Accuracy: 0.9723, Testing Accuracy: 0.9713\n",
      "\n"
     ]
    },
    {
     "name": "stdout",
     "output_type": "stream",
     "text": [
      "Epoch 160, Loss 0.0231\n",
      "Training Accuracy: 0.9731, Testing Accuracy: 0.9718\n",
      "\n"
     ]
    },
    {
     "name": "stdout",
     "output_type": "stream",
     "text": [
      "Epoch 170, Loss 0.0226\n",
      "Training Accuracy: 0.9739, Testing Accuracy: 0.9728\n",
      "\n"
     ]
    },
    {
     "name": "stdout",
     "output_type": "stream",
     "text": [
      "Epoch 180, Loss 0.0221\n",
      "Training Accuracy: 0.9745, Testing Accuracy: 0.9728\n",
      "\n"
     ]
    },
    {
     "name": "stdout",
     "output_type": "stream",
     "text": [
      "Epoch 190, Loss 0.0216\n",
      "Training Accuracy: 0.9750, Testing Accuracy: 0.9728\n",
      "\n"
     ]
    },
    {
     "name": "stdout",
     "output_type": "stream",
     "text": [
      "Epoch 200, Loss 0.0212\n",
      "Training Accuracy: 0.9757, Testing Accuracy: 0.9728\n",
      "\n"
     ]
    },
    {
     "name": "stdout",
     "output_type": "stream",
     "text": [
      "Epoch 210, Loss 0.0208\n",
      "Training Accuracy: 0.9764, Testing Accuracy: 0.9733\n",
      "\n"
     ]
    },
    {
     "name": "stdout",
     "output_type": "stream",
     "text": [
      "Epoch 220, Loss 0.0204\n",
      "Training Accuracy: 0.9773, Testing Accuracy: 0.9738\n",
      "\n"
     ]
    },
    {
     "name": "stdout",
     "output_type": "stream",
     "text": [
      "Epoch 230, Loss 0.02\n",
      "Training Accuracy: 0.9780, Testing Accuracy: 0.9738\n",
      "\n"
     ]
    },
    {
     "name": "stdout",
     "output_type": "stream",
     "text": [
      "Epoch 240, Loss 0.0196\n",
      "Training Accuracy: 0.9781, Testing Accuracy: 0.9738\n",
      "\n"
     ]
    },
    {
     "data": {
      "text/plain": [
       "0.014856954413935315"
      ]
     },
     "execution_count": 22,
     "metadata": {},
     "output_type": "execute_result"
    }
   ],
   "source": [
    "nn_learner.train_loop(dl)"
   ]
  },
  {
   "cell_type": "code",
   "execution_count": 23,
   "id": "e0163366",
   "metadata": {
    "execution": {
     "iopub.execute_input": "2021-09-22T00:24:24.356094Z",
     "iopub.status.busy": "2021-09-22T00:24:24.355428Z",
     "iopub.status.idle": "2021-09-22T00:24:42.635951Z",
     "shell.execute_reply": "2021-09-22T00:24:42.636842Z"
    },
    "papermill": {
     "duration": 18.333985,
     "end_time": "2021-09-22T00:24:42.637025",
     "exception": false,
     "start_time": "2021-09-22T00:24:24.303040",
     "status": "completed"
    },
    "tags": []
   },
   "outputs": [
    {
     "name": "stdout",
     "output_type": "stream",
     "text": [
      "Epoch 0, Loss 0.2665\n",
      "Training Accuracy: 0.5869, Testing Accuracy: 0.6124\n",
      "\n"
     ]
    },
    {
     "name": "stdout",
     "output_type": "stream",
     "text": [
      "Epoch 10, Loss 0.1031\n",
      "Training Accuracy: 0.9180, Testing Accuracy: 0.9264\n",
      "\n"
     ]
    },
    {
     "name": "stdout",
     "output_type": "stream",
     "text": [
      "Epoch 20, Loss 0.0784\n",
      "Training Accuracy: 0.9333, Testing Accuracy: 0.9441\n",
      "\n"
     ]
    },
    {
     "name": "stdout",
     "output_type": "stream",
     "text": [
      "Epoch 30, Loss 0.0673\n",
      "Training Accuracy: 0.9400, Testing Accuracy: 0.9491\n",
      "\n"
     ]
    },
    {
     "name": "stdout",
     "output_type": "stream",
     "text": [
      "Epoch 40, Loss 0.0608\n",
      "Training Accuracy: 0.9435, Testing Accuracy: 0.9511\n",
      "\n"
     ]
    },
    {
     "name": "stdout",
     "output_type": "stream",
     "text": [
      "Epoch 50, Loss 0.0564\n",
      "Training Accuracy: 0.9460, Testing Accuracy: 0.9551\n",
      "\n"
     ]
    },
    {
     "name": "stdout",
     "output_type": "stream",
     "text": [
      "Epoch 60, Loss 0.0531\n",
      "Training Accuracy: 0.9480, Testing Accuracy: 0.9572\n",
      "\n"
     ]
    },
    {
     "name": "stdout",
     "output_type": "stream",
     "text": [
      "Epoch 70, Loss 0.0506\n",
      "Training Accuracy: 0.9491, Testing Accuracy: 0.9582\n",
      "\n"
     ]
    },
    {
     "name": "stdout",
     "output_type": "stream",
     "text": [
      "Epoch 80, Loss 0.0486\n",
      "Training Accuracy: 0.9510, Testing Accuracy: 0.9602\n",
      "\n"
     ]
    },
    {
     "name": "stdout",
     "output_type": "stream",
     "text": [
      "Epoch 90, Loss 0.047\n",
      "Training Accuracy: 0.9521, Testing Accuracy: 0.9597\n",
      "\n"
     ]
    },
    {
     "name": "stdout",
     "output_type": "stream",
     "text": [
      "Epoch 100, Loss 0.0456\n",
      "Training Accuracy: 0.9534, Testing Accuracy: 0.9612\n",
      "\n"
     ]
    },
    {
     "name": "stdout",
     "output_type": "stream",
     "text": [
      "Epoch 110, Loss 0.0444\n",
      "Training Accuracy: 0.9545, Testing Accuracy: 0.9627\n",
      "\n"
     ]
    },
    {
     "name": "stdout",
     "output_type": "stream",
     "text": [
      "Epoch 120, Loss 0.0434\n",
      "Training Accuracy: 0.9549, Testing Accuracy: 0.9632\n",
      "\n"
     ]
    },
    {
     "name": "stdout",
     "output_type": "stream",
     "text": [
      "Epoch 130, Loss 0.0425\n",
      "Training Accuracy: 0.9561, Testing Accuracy: 0.9642\n",
      "\n"
     ]
    },
    {
     "name": "stdout",
     "output_type": "stream",
     "text": [
      "Epoch 140, Loss 0.0417\n",
      "Training Accuracy: 0.9569, Testing Accuracy: 0.9642\n",
      "\n"
     ]
    },
    {
     "name": "stdout",
     "output_type": "stream",
     "text": [
      "Epoch 150, Loss 0.0409\n",
      "Training Accuracy: 0.9577, Testing Accuracy: 0.9642\n",
      "\n"
     ]
    },
    {
     "name": "stdout",
     "output_type": "stream",
     "text": [
      "Epoch 160, Loss 0.0403\n",
      "Training Accuracy: 0.9579, Testing Accuracy: 0.9642\n",
      "\n"
     ]
    },
    {
     "name": "stdout",
     "output_type": "stream",
     "text": [
      "Epoch 170, Loss 0.0397\n",
      "Training Accuracy: 0.9584, Testing Accuracy: 0.9652\n",
      "\n"
     ]
    },
    {
     "name": "stdout",
     "output_type": "stream",
     "text": [
      "Epoch 180, Loss 0.0391\n",
      "Training Accuracy: 0.9589, Testing Accuracy: 0.9657\n",
      "\n"
     ]
    },
    {
     "name": "stdout",
     "output_type": "stream",
     "text": [
      "Epoch 190, Loss 0.0386\n",
      "Training Accuracy: 0.9591, Testing Accuracy: 0.9667\n",
      "\n"
     ]
    },
    {
     "name": "stdout",
     "output_type": "stream",
     "text": [
      "Epoch 200, Loss 0.0382\n",
      "Training Accuracy: 0.9596, Testing Accuracy: 0.9667\n",
      "\n"
     ]
    },
    {
     "name": "stdout",
     "output_type": "stream",
     "text": [
      "Epoch 210, Loss 0.0377\n",
      "Training Accuracy: 0.9601, Testing Accuracy: 0.9677\n",
      "\n"
     ]
    },
    {
     "name": "stdout",
     "output_type": "stream",
     "text": [
      "Epoch 220, Loss 0.0373\n",
      "Training Accuracy: 0.9604, Testing Accuracy: 0.9677\n",
      "\n"
     ]
    },
    {
     "name": "stdout",
     "output_type": "stream",
     "text": [
      "Epoch 230, Loss 0.0369\n",
      "Training Accuracy: 0.9608, Testing Accuracy: 0.9677\n",
      "\n"
     ]
    },
    {
     "name": "stdout",
     "output_type": "stream",
     "text": [
      "Epoch 240, Loss 0.0366\n",
      "Training Accuracy: 0.9610, Testing Accuracy: 0.9677\n",
      "\n"
     ]
    },
    {
     "data": {
      "text/plain": [
       "0.04812611135414907"
      ]
     },
     "execution_count": 23,
     "metadata": {},
     "output_type": "execute_result"
    }
   ],
   "source": [
    "lr_learner.train_loop(dl)"
   ]
  },
  {
   "cell_type": "code",
   "execution_count": 24,
   "id": "ca410940",
   "metadata": {
    "execution": {
     "iopub.execute_input": "2021-09-22T00:24:42.748612Z",
     "iopub.status.busy": "2021-09-22T00:24:42.747912Z",
     "iopub.status.idle": "2021-09-22T00:24:43.040691Z",
     "shell.execute_reply": "2021-09-22T00:24:43.041222Z"
    },
    "papermill": {
     "duration": 0.350729,
     "end_time": "2021-09-22T00:24:43.041395",
     "exception": false,
     "start_time": "2021-09-22T00:24:42.690666",
     "status": "completed"
    },
    "tags": []
   },
   "outputs": [
    {
     "data": {
      "text/plain": [
       "<matplotlib.legend.Legend at 0x7fe7aea6d940>"
      ]
     },
     "execution_count": 24,
     "metadata": {},
     "output_type": "execute_result"
    },
    {
     "data": {
      "image/png": "[encoded data removed]",
      "text/plain": [
       "<Figure size 1080x720 with 1 Axes>"
      ]
     },
     "metadata": {
      "needs_background": "light"
     },
     "output_type": "display_data"
    }
   ],
   "source": [
    "#comparing the results of NN and LR\n",
    "plt.figure(figsize=(15,10))\n",
    "\n",
    "# Neural Network plots\n",
    "plt.plot(acc_nn.accuracies, 'r-', label = \"Training Accuracies - NN\")\n",
    "plt.plot(acc_nn.test_accuracies, 'g-', label = \"Testing Accuracies - NN\")\n",
    "\n",
    "# Logistic Regression plots\n",
    "plt.plot(acc_lr.accuracies, 'k-', label = \"Training Accuracies - LR\")\n",
    "plt.plot(acc_lr.test_accuracies, 'b-', label = \"Testing Accuracies - LR\")\n",
    "plt.legend()"
   ]
  },
  {
   "cell_type": "markdown",
   "id": "80dfb35c",
   "metadata": {
    "papermill": {
     "duration": 0.052467,
     "end_time": "2021-09-22T00:24:43.153505",
     "exception": false,
     "start_time": "2021-09-22T00:24:43.101038",
     "status": "completed"
    },
    "tags": []
   },
   "source": [
    "#### Plotting the outputs of this layer of the NN.\n"
   ]
  },
  {
   "cell_type": "code",
   "execution_count": 25,
   "id": "45eb2ff5",
   "metadata": {
    "execution": {
     "iopub.execute_input": "2021-09-22T00:24:43.269038Z",
     "iopub.status.busy": "2021-09-22T00:24:43.268364Z",
     "iopub.status.idle": "2021-09-22T00:24:43.293096Z",
     "shell.execute_reply": "2021-09-22T00:24:43.293730Z"
    },
    "papermill": {
     "duration": 0.086783,
     "end_time": "2021-09-22T00:24:43.293915",
     "exception": false,
     "start_time": "2021-09-22T00:24:43.207132",
     "status": "completed"
    },
    "tags": []
   },
   "outputs": [],
   "source": [
    "new_model = Model(layers[:-2])\n",
    "testing_plot = new_model(testing_data_x)"
   ]
  },
  {
   "cell_type": "code",
   "execution_count": 26,
   "id": "4c0a5485",
   "metadata": {
    "execution": {
     "iopub.execute_input": "2021-09-22T00:24:43.417573Z",
     "iopub.status.busy": "2021-09-22T00:24:43.416895Z",
     "iopub.status.idle": "2021-09-22T00:24:43.719105Z",
     "shell.execute_reply": "2021-09-22T00:24:43.718545Z"
    },
    "papermill": {
     "duration": 0.361532,
     "end_time": "2021-09-22T00:24:43.719255",
     "exception": false,
     "start_time": "2021-09-22T00:24:43.357723",
     "status": "completed"
    },
    "tags": []
   },
   "outputs": [
    {
     "data": {
      "text/plain": [
       "Text(0.5, 1.0, 'Outputs')"
      ]
     },
     "execution_count": 26,
     "metadata": {},
     "output_type": "execute_result"
    },
    {
     "data": {
      "image/png": "[encoded data removed]",
      "text/plain": [
       "<Figure size 576x504 with 1 Axes>"
      ]
     },
     "metadata": {
      "needs_background": "light"
     },
     "output_type": "display_data"
    }
   ],
   "source": [
    "# Plotting the scatter plot of points and color coding by class\n",
    "plt.figure(figsize=(8,7))\n",
    "plt.scatter(testing_plot[:,0], testing_plot[:,1], alpha = 0.1, c = y_test.ravel());\n",
    "plt.title('Outputs')"
   ]
  },
  {
   "cell_type": "markdown",
   "id": "a74fcf8f",
   "metadata": {
    "papermill": {
     "duration": 0.065748,
     "end_time": "2021-09-22T00:24:43.841700",
     "exception": false,
     "start_time": "2021-09-22T00:24:43.775952",
     "status": "completed"
    },
    "tags": []
   },
   "source": [
    "Probability contours"
   ]
  },
  {
   "cell_type": "code",
   "execution_count": 27,
   "id": "d0afc8e3",
   "metadata": {
    "execution": {
     "iopub.execute_input": "2021-09-22T00:24:44.001017Z",
     "iopub.status.busy": "2021-09-22T00:24:43.996511Z",
     "iopub.status.idle": "2021-09-22T00:24:44.009990Z",
     "shell.execute_reply": "2021-09-22T00:24:44.010566Z"
    },
    "papermill": {
     "duration": 0.105311,
     "end_time": "2021-09-22T00:24:44.010730",
     "exception": false,
     "start_time": "2021-09-22T00:24:43.905419",
     "status": "completed"
    },
    "tags": []
   },
   "outputs": [],
   "source": [
    "model_prob = Model(layers[-2:]) "
   ]
  },
  {
   "cell_type": "code",
   "execution_count": 28,
   "id": "9b96e238",
   "metadata": {
    "execution": {
     "iopub.execute_input": "2021-09-22T00:24:44.136372Z",
     "iopub.status.busy": "2021-09-22T00:24:44.135695Z",
     "iopub.status.idle": "2021-09-22T00:24:44.150647Z",
     "shell.execute_reply": "2021-09-22T00:24:44.151158Z"
    },
    "papermill": {
     "duration": 0.079431,
     "end_time": "2021-09-22T00:24:44.151311",
     "exception": false,
     "start_time": "2021-09-22T00:24:44.071880",
     "status": "completed"
    },
    "tags": []
   },
   "outputs": [],
   "source": [
    "#creating the x and y ranges according to the above generated plot.\n",
    "x_range = np.linspace(-4, 1, 100) \n",
    "y_range = np.linspace(-6, 6, 100) \n",
    "x_grid, y_grid = np.meshgrid(x_range, y_range) # x_grid and y_grig are of size 100 X 100\n",
    "\n",
    "# converting x_grid and y_grid to continuous arrays\n",
    "x_gridflat = np.ravel(x_grid)\n",
    "y_gridflat = np.ravel(y_grid)\n",
    "\n",
    "# The last layer of the current model takes two columns as input. Hence transpose of np.vstack() is required.\n",
    "X = np.vstack((x_gridflat, y_gridflat)).T\n",
    "\n",
    "prob_contour = model_prob(X).reshape(100,100) "
   ]
  },
  {
   "cell_type": "code",
   "execution_count": 29,
   "id": "da72499a",
   "metadata": {
    "execution": {
     "iopub.execute_input": "2021-09-22T00:24:44.275444Z",
     "iopub.status.busy": "2021-09-22T00:24:44.274773Z",
     "iopub.status.idle": "2021-09-22T00:24:44.603922Z",
     "shell.execute_reply": "2021-09-22T00:24:44.604487Z"
    },
    "papermill": {
     "duration": 0.391864,
     "end_time": "2021-09-22T00:24:44.604700",
     "exception": false,
     "start_time": "2021-09-22T00:24:44.212836",
     "status": "completed"
    },
    "tags": []
   },
   "outputs": [
    {
     "data": {
      "image/png": "[encoded data removed]",
      "text/plain": [
       "<Figure size 720x648 with 1 Axes>"
      ]
     },
     "metadata": {
      "needs_background": "light"
     },
     "output_type": "display_data"
    }
   ],
   "source": [
    "plt.figure(figsize=(10,9))\n",
    "plt.scatter(testing_plot[:,0], testing_plot[:,1], alpha = 0.1, c = y_test.ravel())\n",
    "contours = plt.contour(x_grid,y_grid,prob_contour)\n",
    "plt.title('Probability Contours')\n",
    "plt.clabel(contours, inline = True );"
   ]
  },
  {
   "cell_type": "code",
   "execution_count": null,
   "id": "e81b4ac7",
   "metadata": {
    "papermill": {
     "duration": 0.059984,
     "end_time": "2021-09-22T00:24:44.731564",
     "exception": false,
     "start_time": "2021-09-22T00:24:44.671580",
     "status": "completed"
    },
    "tags": []
   },
   "outputs": [],
   "source": []
  }
 ],
 "metadata": {
  "kernelspec": {
   "display_name": "Python 3",
   "language": "python",
   "name": "python3"
  },
  "language_info": {
   "codemirror_mode": {
    "name": "ipython",
    "version": 3
   },
   "file_extension": ".py",
   "mimetype": "text/x-python",
   "name": "python",
   "nbconvert_exporter": "python",
   "pygments_lexer": "ipython3",
   "version": "3.6.15"
  },
  "papermill": {
   "default_parameters": {},
   "duration": 158.009953,
   "end_time": "2021-09-22T00:24:45.201033",
   "environment_variables": {},
   "exception": null,
   "input_path": "2020-08-11-part2.ipynb",
   "output_path": "2020-08-11-part2.ipynb",
   "parameters": {},
   "start_time": "2021-09-22T00:22:07.191080",
   "version": "2.3.3"
  }
 },
 "nbformat": 4,
 "nbformat_minor": 5
}