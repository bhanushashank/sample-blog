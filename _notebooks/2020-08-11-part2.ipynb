{
 "cells": [
  {
   "cell_type": "markdown",
   "id": "98380cd3",
   "metadata": {
    "papermill": {
     "duration": 0.02883,
     "end_time": "2021-10-24T20:06:39.393670",
     "exception": false,
     "start_time": "2021-10-24T20:06:39.364840",
     "status": "completed"
    },
    "tags": []
   },
   "source": [
    "# Distinguish Your Own Digits (DYOD)"
   ]
  },
  {
   "cell_type": "markdown",
   "id": "ef31240d",
   "metadata": {
    "papermill": {
     "duration": 0.024942,
     "end_time": "2021-10-24T20:06:39.443173",
     "exception": false,
     "start_time": "2021-10-24T20:06:39.418231",
     "status": "completed"
    },
    "tags": []
   },
   "source": [
    "You are going to write a classifier that distinguishes between the number 3 and number 8."
   ]
  },
  {
   "cell_type": "code",
   "execution_count": 1,
   "id": "b15c8646",
   "metadata": {
    "execution": {
     "iopub.execute_input": "2021-10-24T20:06:39.501723Z",
     "iopub.status.busy": "2021-10-24T20:06:39.501210Z",
     "iopub.status.idle": "2021-10-24T20:06:39.510560Z",
     "shell.execute_reply": "2021-10-24T20:06:39.510139Z"
    },
    "papermill": {
     "duration": 0.042631,
     "end_time": "2021-10-24T20:06:39.510678",
     "exception": false,
     "start_time": "2021-10-24T20:06:39.468047",
     "status": "completed"
    },
    "tags": []
   },
   "outputs": [],
   "source": [
    "%load_ext autoreload\n",
    "%autoreload 2"
   ]
  },
  {
   "cell_type": "code",
   "execution_count": 2,
   "id": "22ef38dc",
   "metadata": {
    "execution": {
     "iopub.execute_input": "2021-10-24T20:06:39.571593Z",
     "iopub.status.busy": "2021-10-24T20:06:39.567356Z",
     "iopub.status.idle": "2021-10-24T20:06:40.071952Z",
     "shell.execute_reply": "2021-10-24T20:06:40.071428Z"
    },
    "papermill": {
     "duration": 0.53764,
     "end_time": "2021-10-24T20:06:40.072088",
     "exception": false,
     "start_time": "2021-10-24T20:06:39.534448",
     "status": "completed"
    },
    "tags": []
   },
   "outputs": [],
   "source": [
    "%matplotlib inline\n",
    "import numpy as np\n",
    "import matplotlib.pyplot as plt\n",
    "import pandas as pd"
   ]
  },
  {
   "cell_type": "markdown",
   "id": "ba036198",
   "metadata": {
    "papermill": {
     "duration": 0.023929,
     "end_time": "2021-10-24T20:06:40.120930",
     "exception": false,
     "start_time": "2021-10-24T20:06:40.097001",
     "status": "completed"
    },
    "tags": []
   },
   "source": [
    "From the command line run `pip install mnist`. This is a library that will help you bring down the mnist dataset. If you run this from a notebook, you need to put  `!pip install mnist` in a cell by itself."
   ]
  },
  {
   "cell_type": "code",
   "execution_count": 3,
   "id": "bb6ad8a1",
   "metadata": {
    "execution": {
     "iopub.execute_input": "2021-10-24T20:06:40.172822Z",
     "iopub.status.busy": "2021-10-24T20:06:40.172311Z",
     "iopub.status.idle": "2021-10-24T20:06:41.671404Z",
     "shell.execute_reply": "2021-10-24T20:06:41.667007Z"
    },
    "papermill": {
     "duration": 1.526708,
     "end_time": "2021-10-24T20:06:41.671567",
     "exception": false,
     "start_time": "2021-10-24T20:06:40.144859",
     "status": "completed"
    },
    "tags": []
   },
   "outputs": [
    {
     "name": "stdout",
     "output_type": "stream",
     "text": [
      "Collecting mnist\r\n"
     ]
    },
    {
     "name": "stdout",
     "output_type": "stream",
     "text": [
      "  Downloading mnist-0.2.2-py2.py3-none-any.whl (3.5 kB)\r\n",
      "Requirement already satisfied: numpy in /opt/hostedtoolcache/Python/3.6.15/x64/lib/python3.6/site-packages (from mnist) (1.19.5)\r\n"
     ]
    },
    {
     "name": "stdout",
     "output_type": "stream",
     "text": [
      "Installing collected packages: mnist\r\n"
     ]
    },
    {
     "name": "stdout",
     "output_type": "stream",
     "text": [
      "Successfully installed mnist-0.2.2\r\n"
     ]
    },
    {
     "name": "stdout",
     "output_type": "stream",
     "text": [
      "\u001b[33mWARNING: You are using pip version 21.3; however, version 21.3.1 is available.\r\n",
      "You should consider upgrading via the '/opt/hostedtoolcache/Python/3.6.15/x64/bin/python -m pip install --upgrade pip' command.\u001b[0m\r\n"
     ]
    }
   ],
   "source": [
    "!pip install mnist"
   ]
  },
  {
   "cell_type": "markdown",
   "id": "69df9c9a",
   "metadata": {
    "papermill": {
     "duration": 0.025003,
     "end_time": "2021-10-24T20:06:41.722259",
     "exception": false,
     "start_time": "2021-10-24T20:06:41.697256",
     "status": "completed"
    },
    "tags": []
   },
   "source": [
    "## Preparing the Data"
   ]
  },
  {
   "cell_type": "code",
   "execution_count": 4,
   "id": "7f69d806",
   "metadata": {
    "execution": {
     "iopub.execute_input": "2021-10-24T20:06:41.781437Z",
     "iopub.status.busy": "2021-10-24T20:06:41.775431Z",
     "iopub.status.idle": "2021-10-24T20:06:41.789890Z",
     "shell.execute_reply": "2021-10-24T20:06:41.790593Z"
    },
    "papermill": {
     "duration": 0.043477,
     "end_time": "2021-10-24T20:06:41.790717",
     "exception": false,
     "start_time": "2021-10-24T20:06:41.747240",
     "status": "completed"
    },
    "tags": []
   },
   "outputs": [],
   "source": [
    "import mnist"
   ]
  },
  {
   "cell_type": "code",
   "execution_count": 5,
   "id": "a411e44f",
   "metadata": {
    "execution": {
     "iopub.execute_input": "2021-10-24T20:06:41.844308Z",
     "iopub.status.busy": "2021-10-24T20:06:41.843143Z",
     "iopub.status.idle": "2021-10-24T20:06:42.339152Z",
     "shell.execute_reply": "2021-10-24T20:06:42.338590Z"
    },
    "papermill": {
     "duration": 0.523628,
     "end_time": "2021-10-24T20:06:42.339295",
     "exception": false,
     "start_time": "2021-10-24T20:06:41.815667",
     "status": "completed"
    },
    "tags": []
   },
   "outputs": [],
   "source": [
    "train_images = mnist.train_images()\n",
    "train_labels = mnist.train_labels()"
   ]
  },
  {
   "cell_type": "code",
   "execution_count": 6,
   "id": "dceab3a5",
   "metadata": {
    "execution": {
     "iopub.execute_input": "2021-10-24T20:06:42.398011Z",
     "iopub.status.busy": "2021-10-24T20:06:42.397513Z",
     "iopub.status.idle": "2021-10-24T20:06:42.408308Z",
     "shell.execute_reply": "2021-10-24T20:06:42.407907Z"
    },
    "papermill": {
     "duration": 0.042502,
     "end_time": "2021-10-24T20:06:42.408413",
     "exception": false,
     "start_time": "2021-10-24T20:06:42.365911",
     "status": "completed"
    },
    "tags": []
   },
   "outputs": [
    {
     "data": {
      "text/plain": [
       "((60000, 28, 28), (60000,))"
      ]
     },
     "execution_count": 6,
     "metadata": {},
     "output_type": "execute_result"
    }
   ],
   "source": [
    "train_images.shape, train_labels.shape"
   ]
  },
  {
   "cell_type": "code",
   "execution_count": 7,
   "id": "f50dc2bb",
   "metadata": {
    "execution": {
     "iopub.execute_input": "2021-10-24T20:06:42.461962Z",
     "iopub.status.busy": "2021-10-24T20:06:42.461464Z",
     "iopub.status.idle": "2021-10-24T20:06:42.603280Z",
     "shell.execute_reply": "2021-10-24T20:06:42.602721Z"
    },
    "papermill": {
     "duration": 0.169587,
     "end_time": "2021-10-24T20:06:42.603413",
     "exception": false,
     "start_time": "2021-10-24T20:06:42.433826",
     "status": "completed"
    },
    "tags": []
   },
   "outputs": [],
   "source": [
    "test_images = mnist.test_images()\n",
    "test_labels = mnist.test_labels()"
   ]
  },
  {
   "cell_type": "code",
   "execution_count": 8,
   "id": "fc38cf1b",
   "metadata": {
    "execution": {
     "iopub.execute_input": "2021-10-24T20:06:42.662122Z",
     "iopub.status.busy": "2021-10-24T20:06:42.661650Z",
     "iopub.status.idle": "2021-10-24T20:06:42.671972Z",
     "shell.execute_reply": "2021-10-24T20:06:42.671582Z"
    },
    "papermill": {
     "duration": 0.042187,
     "end_time": "2021-10-24T20:06:42.672069",
     "exception": false,
     "start_time": "2021-10-24T20:06:42.629882",
     "status": "completed"
    },
    "tags": []
   },
   "outputs": [
    {
     "data": {
      "text/plain": [
       "((10000, 28, 28), (10000,))"
      ]
     },
     "execution_count": 8,
     "metadata": {},
     "output_type": "execute_result"
    }
   ],
   "source": [
    "test_images.shape, test_labels.shape"
   ]
  },
  {
   "cell_type": "code",
   "execution_count": 9,
   "id": "f9ed8fe0",
   "metadata": {
    "execution": {
     "iopub.execute_input": "2021-10-24T20:06:42.719773Z",
     "iopub.status.busy": "2021-10-24T20:06:42.719197Z",
     "iopub.status.idle": "2021-10-24T20:06:42.839284Z",
     "shell.execute_reply": "2021-10-24T20:06:42.839752Z"
    },
    "papermill": {
     "duration": 0.145408,
     "end_time": "2021-10-24T20:06:42.839896",
     "exception": false,
     "start_time": "2021-10-24T20:06:42.694488",
     "status": "completed"
    },
    "tags": []
   },
   "outputs": [
    {
     "name": "stdout",
     "output_type": "stream",
     "text": [
      "2\n"
     ]
    },
    {
     "data": {
      "text/plain": [
       "<matplotlib.image.AxesImage at 0x7f37e3835860>"
      ]
     },
     "execution_count": 9,
     "metadata": {},
     "output_type": "execute_result"
    },
    {
     "data": {
      "image/png": "[encoded data removed]",
      "text/plain": [
       "<Figure size 432x288 with 1 Axes>"
      ]
     },
     "metadata": {
      "needs_background": "light"
     },
     "output_type": "display_data"
    }
   ],
   "source": [
    "image_index = 7776 # You may select anything up to 60,000\n",
    "print(train_labels[image_index]) \n",
    "plt.imshow(train_images[image_index], cmap='Greys')"
   ]
  },
  {
   "cell_type": "markdown",
   "id": "a8d2388d",
   "metadata": {
    "papermill": {
     "duration": 0.030388,
     "end_time": "2021-10-24T20:06:42.899487",
     "exception": false,
     "start_time": "2021-10-24T20:06:42.869099",
     "status": "completed"
    },
    "tags": []
   },
   "source": [
    "## Filter data to get 3 and 8 out"
   ]
  },
  {
   "cell_type": "code",
   "execution_count": 10,
   "id": "776f7fc7",
   "metadata": {
    "execution": {
     "iopub.execute_input": "2021-10-24T20:06:42.956508Z",
     "iopub.status.busy": "2021-10-24T20:06:42.955992Z",
     "iopub.status.idle": "2021-10-24T20:06:42.969590Z",
     "shell.execute_reply": "2021-10-24T20:06:42.969185Z"
    },
    "papermill": {
     "duration": 0.043707,
     "end_time": "2021-10-24T20:06:42.969695",
     "exception": false,
     "start_time": "2021-10-24T20:06:42.925988",
     "status": "completed"
    },
    "tags": []
   },
   "outputs": [],
   "source": [
    "train_filter = np.where((train_labels == 3 ) | (train_labels == 8))\n",
    "test_filter = np.where((test_labels == 3) | (test_labels == 8))\n",
    "X_train, y_train = train_images[train_filter], train_labels[train_filter]\n",
    "X_test, y_test = test_images[test_filter], test_labels[test_filter]"
   ]
  },
  {
   "cell_type": "markdown",
   "id": "948f0b7e",
   "metadata": {
    "papermill": {
     "duration": 0.026463,
     "end_time": "2021-10-24T20:06:43.022811",
     "exception": false,
     "start_time": "2021-10-24T20:06:42.996348",
     "status": "completed"
    },
    "tags": []
   },
   "source": [
    "We normalize the pizel values in the 0 to 1 range"
   ]
  },
  {
   "cell_type": "code",
   "execution_count": 11,
   "id": "ee4c2166",
   "metadata": {
    "execution": {
     "iopub.execute_input": "2021-10-24T20:06:43.079881Z",
     "iopub.status.busy": "2021-10-24T20:06:43.079379Z",
     "iopub.status.idle": "2021-10-24T20:06:43.123594Z",
     "shell.execute_reply": "2021-10-24T20:06:43.123092Z"
    },
    "papermill": {
     "duration": 0.074229,
     "end_time": "2021-10-24T20:06:43.123734",
     "exception": false,
     "start_time": "2021-10-24T20:06:43.049505",
     "status": "completed"
    },
    "tags": []
   },
   "outputs": [],
   "source": [
    "X_train = X_train/255.\n",
    "X_test = X_test/255."
   ]
  },
  {
   "cell_type": "markdown",
   "id": "ddcf4fab",
   "metadata": {
    "papermill": {
     "duration": 0.026545,
     "end_time": "2021-10-24T20:06:43.177891",
     "exception": false,
     "start_time": "2021-10-24T20:06:43.151346",
     "status": "completed"
    },
    "tags": []
   },
   "source": [
    "And setup the labels as 1 (when the digit is 3) and 0 (when the digit is 8)"
   ]
  },
  {
   "cell_type": "code",
   "execution_count": 12,
   "id": "7dc908f2",
   "metadata": {
    "execution": {
     "iopub.execute_input": "2021-10-24T20:06:43.234148Z",
     "iopub.status.busy": "2021-10-24T20:06:43.233644Z",
     "iopub.status.idle": "2021-10-24T20:06:43.246137Z",
     "shell.execute_reply": "2021-10-24T20:06:43.246565Z"
    },
    "papermill": {
     "duration": 0.042421,
     "end_time": "2021-10-24T20:06:43.246685",
     "exception": false,
     "start_time": "2021-10-24T20:06:43.204264",
     "status": "completed"
    },
    "tags": []
   },
   "outputs": [],
   "source": [
    "y_train = 1*(y_train==3)\n",
    "y_test = 1*(y_test==3)"
   ]
  },
  {
   "cell_type": "code",
   "execution_count": 13,
   "id": "01e4e969",
   "metadata": {
    "execution": {
     "iopub.execute_input": "2021-10-24T20:06:43.303560Z",
     "iopub.status.busy": "2021-10-24T20:06:43.303061Z",
     "iopub.status.idle": "2021-10-24T20:06:43.313176Z",
     "shell.execute_reply": "2021-10-24T20:06:43.313602Z"
    },
    "papermill": {
     "duration": 0.040483,
     "end_time": "2021-10-24T20:06:43.313719",
     "exception": false,
     "start_time": "2021-10-24T20:06:43.273236",
     "status": "completed"
    },
    "tags": []
   },
   "outputs": [
    {
     "data": {
      "text/plain": [
       "((11982, 28, 28), (1984, 28, 28))"
      ]
     },
     "execution_count": 13,
     "metadata": {},
     "output_type": "execute_result"
    }
   ],
   "source": [
    "X_train.shape, X_test.shape"
   ]
  },
  {
   "cell_type": "markdown",
   "id": "5ccf3f85",
   "metadata": {
    "papermill": {
     "duration": 0.026608,
     "end_time": "2021-10-24T20:06:43.366999",
     "exception": false,
     "start_time": "2021-10-24T20:06:43.340391",
     "status": "completed"
    },
    "tags": []
   },
   "source": [
    "We reshape the data to flatten the image pixels into a set of features or co-variates:"
   ]
  },
  {
   "cell_type": "code",
   "execution_count": 14,
   "id": "5286a4a3",
   "metadata": {
    "execution": {
     "iopub.execute_input": "2021-10-24T20:06:43.425311Z",
     "iopub.status.busy": "2021-10-24T20:06:43.424813Z",
     "iopub.status.idle": "2021-10-24T20:06:43.435144Z",
     "shell.execute_reply": "2021-10-24T20:06:43.435525Z"
    },
    "papermill": {
     "duration": 0.041936,
     "end_time": "2021-10-24T20:06:43.435643",
     "exception": false,
     "start_time": "2021-10-24T20:06:43.393707",
     "status": "completed"
    },
    "tags": []
   },
   "outputs": [
    {
     "data": {
      "text/plain": [
       "((11982, 784), (1984, 784))"
      ]
     },
     "execution_count": 14,
     "metadata": {},
     "output_type": "execute_result"
    }
   ],
   "source": [
    "X_train = X_train.reshape(X_train.shape[0], -1)\n",
    "X_test = X_test.reshape(X_test.shape[0], -1)\n",
    "X_train.shape, X_test.shape"
   ]
  },
  {
   "cell_type": "code",
   "execution_count": 15,
   "id": "73c5f88a",
   "metadata": {
    "execution": {
     "iopub.execute_input": "2021-10-24T20:06:43.496253Z",
     "iopub.status.busy": "2021-10-24T20:06:43.495737Z",
     "iopub.status.idle": "2021-10-24T20:06:43.509689Z",
     "shell.execute_reply": "2021-10-24T20:06:43.510067Z"
    },
    "papermill": {
     "duration": 0.047658,
     "end_time": "2021-10-24T20:06:43.510181",
     "exception": false,
     "start_time": "2021-10-24T20:06:43.462523",
     "status": "completed"
    },
    "tags": []
   },
   "outputs": [],
   "source": [
    "#Impoting functions from 'Kudzu'\n",
    "from kudzu.model import Model\n",
    "from kudzu.train import Learner\n",
    "from kudzu.optim import GD\n",
    "from kudzu.data import Data, Sampler,Dataloader\n",
    "\n",
    "from kudzu.callbacks import AccCallback\n",
    "from kudzu.callbacks import ClfCallback\n",
    "\n",
    "from kudzu.loss import MSE\n",
    "\n",
    "from kudzu.layer import Sigmoid,Relu\n",
    "from kudzu.layer import Affine"
   ]
  },
  {
   "cell_type": "markdown",
   "id": "bc01172a",
   "metadata": {
    "papermill": {
     "duration": 0.027216,
     "end_time": "2021-10-24T20:06:43.564521",
     "exception": false,
     "start_time": "2021-10-24T20:06:43.537305",
     "status": "completed"
    },
    "tags": []
   },
   "source": [
    "### Let us create a `Config` class, to store important parameters. \n",
    "This class essentially plays the role of a dictionary."
   ]
  },
  {
   "cell_type": "code",
   "execution_count": 16,
   "id": "978281aa",
   "metadata": {
    "execution": {
     "iopub.execute_input": "2021-10-24T20:06:43.628410Z",
     "iopub.status.busy": "2021-10-24T20:06:43.627908Z",
     "iopub.status.idle": "2021-10-24T20:06:43.634803Z",
     "shell.execute_reply": "2021-10-24T20:06:43.635212Z"
    },
    "papermill": {
     "duration": 0.043873,
     "end_time": "2021-10-24T20:06:43.635325",
     "exception": false,
     "start_time": "2021-10-24T20:06:43.591452",
     "status": "completed"
    },
    "tags": []
   },
   "outputs": [],
   "source": [
    "class Config:\n",
    "    pass\n",
    "config = Config()\n",
    "config.lr = 0.001\n",
    "config.num_epochs = 250\n",
    "config.bs = 50"
   ]
  },
  {
   "cell_type": "markdown",
   "id": "1385fa59",
   "metadata": {
    "papermill": {
     "duration": 0.026822,
     "end_time": "2021-10-24T20:06:43.689175",
     "exception": false,
     "start_time": "2021-10-24T20:06:43.662353",
     "status": "completed"
    },
    "tags": []
   },
   "source": [
    "### Running Models with the Training data\n",
    "Details about the network layers:\n",
    "- A first affine layer has 784 inputs and does 100 affine transforms. These are followed by a Relu\n",
    "- A second affine layer has 100 inputs from the 100 activations of the past layer, and does 100 affine transforms. These are followed by a Relu\n",
    "- A third affine layer has 100 activations and does 2 affine transformations to create an embedding for visualization. There is no non-linearity here.\n",
    "- A final \"logistic regression\" which has an affine transform from 2 inputs to 1 output, which is squeezed through a sigmoid.\n"
   ]
  },
  {
   "cell_type": "code",
   "execution_count": 17,
   "id": "2b9c66db",
   "metadata": {
    "execution": {
     "iopub.execute_input": "2021-10-24T20:06:43.751190Z",
     "iopub.status.busy": "2021-10-24T20:06:43.750651Z",
     "iopub.status.idle": "2021-10-24T20:06:43.759787Z",
     "shell.execute_reply": "2021-10-24T20:06:43.759388Z"
    },
    "papermill": {
     "duration": 0.043846,
     "end_time": "2021-10-24T20:06:43.759888",
     "exception": false,
     "start_time": "2021-10-24T20:06:43.716042",
     "status": "completed"
    },
    "tags": []
   },
   "outputs": [],
   "source": [
    "data = Data(X_train, y_train.reshape(-1,1))\n",
    "sampler = Sampler(data, config.bs, shuffle=True)\n",
    "\n",
    "dl = Dataloader(data, sampler)\n",
    "\n",
    "opt = GD(config.lr)\n",
    "loss = MSE()"
   ]
  },
  {
   "cell_type": "code",
   "execution_count": 18,
   "id": "b275e4c2",
   "metadata": {
    "execution": {
     "iopub.execute_input": "2021-10-24T20:06:43.816884Z",
     "iopub.status.busy": "2021-10-24T20:06:43.816389Z",
     "iopub.status.idle": "2021-10-24T20:06:43.827127Z",
     "shell.execute_reply": "2021-10-24T20:06:43.826674Z"
    },
    "papermill": {
     "duration": 0.040289,
     "end_time": "2021-10-24T20:06:43.827227",
     "exception": false,
     "start_time": "2021-10-24T20:06:43.786938",
     "status": "completed"
    },
    "tags": []
   },
   "outputs": [],
   "source": [
    "training_data_x = X_train\n",
    "testing_data_x = X_test\n",
    "training_data_y = y_train.reshape(-1,1)\n",
    "testing_data_y = y_test.reshape(-1,1)"
   ]
  },
  {
   "cell_type": "code",
   "execution_count": 19,
   "id": "76951160",
   "metadata": {
    "execution": {
     "iopub.execute_input": "2021-10-24T20:06:43.884296Z",
     "iopub.status.busy": "2021-10-24T20:06:43.883788Z",
     "iopub.status.idle": "2021-10-24T20:06:43.897218Z",
     "shell.execute_reply": "2021-10-24T20:06:43.896818Z"
    },
    "papermill": {
     "duration": 0.043276,
     "end_time": "2021-10-24T20:06:43.897320",
     "exception": false,
     "start_time": "2021-10-24T20:06:43.854044",
     "status": "completed"
    },
    "tags": []
   },
   "outputs": [
    {
     "name": "stdout",
     "output_type": "stream",
     "text": [
      "xavier\n",
      "xavier\n",
      "xavier\n",
      "xavier\n",
      "xavier\n"
     ]
    }
   ],
   "source": [
    "layers = [Affine(\"first\", 784, 100), Relu(\"first\"), Affine(\"second\", 100, 100), Relu(\"second\"), Affine(\"third\", 100, 2), Affine(\"last\", 2, 1), Sigmoid(\"last\")]\n",
    "model_nn = Model(layers)\n",
    "model_lr = Model([Affine(\"logits\", 784, 1), Sigmoid(\"sigmoid\")])"
   ]
  },
  {
   "cell_type": "code",
   "execution_count": 20,
   "id": "6eede77a",
   "metadata": {
    "execution": {
     "iopub.execute_input": "2021-10-24T20:06:43.955456Z",
     "iopub.status.busy": "2021-10-24T20:06:43.954940Z",
     "iopub.status.idle": "2021-10-24T20:06:43.966551Z",
     "shell.execute_reply": "2021-10-24T20:06:43.966150Z"
    },
    "papermill": {
     "duration": 0.041904,
     "end_time": "2021-10-24T20:06:43.966650",
     "exception": false,
     "start_time": "2021-10-24T20:06:43.924746",
     "status": "completed"
    },
    "tags": []
   },
   "outputs": [],
   "source": [
    "nn_learner = Learner(loss, model_nn, opt, config.num_epochs)\n",
    "acc_nn = ClfCallback(nn_learner, config.bs, training_data_x , testing_data_x, training_data_y, testing_data_y)\n",
    "nn_learner.set_callbacks([acc_nn])"
   ]
  },
  {
   "cell_type": "code",
   "execution_count": 21,
   "id": "877b6cc7",
   "metadata": {
    "execution": {
     "iopub.execute_input": "2021-10-24T20:06:44.024703Z",
     "iopub.status.busy": "2021-10-24T20:06:44.024206Z",
     "iopub.status.idle": "2021-10-24T20:06:44.034093Z",
     "shell.execute_reply": "2021-10-24T20:06:44.033693Z"
    },
    "papermill": {
     "duration": 0.040381,
     "end_time": "2021-10-24T20:06:44.034196",
     "exception": false,
     "start_time": "2021-10-24T20:06:43.993815",
     "status": "completed"
    },
    "tags": []
   },
   "outputs": [],
   "source": [
    "lr_learner = Learner(loss, model_lr, opt, config.num_epochs)\n",
    "acc_lr = ClfCallback(lr_learner, config.bs, training_data_x , testing_data_x, training_data_y, testing_data_y)\n",
    "lr_learner.set_callbacks([acc_lr])"
   ]
  },
  {
   "cell_type": "code",
   "execution_count": 22,
   "id": "d9b133c3",
   "metadata": {
    "execution": {
     "iopub.execute_input": "2021-10-24T20:06:44.092417Z",
     "iopub.status.busy": "2021-10-24T20:06:44.091914Z",
     "iopub.status.idle": "2021-10-24T20:07:57.304960Z",
     "shell.execute_reply": "2021-10-24T20:07:57.305646Z"
    },
    "papermill": {
     "duration": 73.244108,
     "end_time": "2021-10-24T20:07:57.305783",
     "exception": false,
     "start_time": "2021-10-24T20:06:44.061675",
     "status": "completed"
    },
    "tags": []
   },
   "outputs": [
    {
     "name": "stdout",
     "output_type": "stream",
     "text": [
      "Epoch 0, Loss 0.2571\n",
      "Training Accuracy: 0.5091, Testing Accuracy: 0.4924\n",
      "\n"
     ]
    },
    {
     "name": "stdout",
     "output_type": "stream",
     "text": [
      "Epoch 10, Loss 0.1553\n",
      "Training Accuracy: 0.8936, Testing Accuracy: 0.9052\n",
      "\n"
     ]
    },
    {
     "name": "stdout",
     "output_type": "stream",
     "text": [
      "Epoch 20, Loss 0.0778\n",
      "Training Accuracy: 0.9250, Testing Accuracy: 0.9375\n",
      "\n"
     ]
    },
    {
     "name": "stdout",
     "output_type": "stream",
     "text": [
      "Epoch 30, Loss 0.0542\n",
      "Training Accuracy: 0.9424, Testing Accuracy: 0.9516\n",
      "\n"
     ]
    },
    {
     "name": "stdout",
     "output_type": "stream",
     "text": [
      "Epoch 40, Loss 0.044\n",
      "Training Accuracy: 0.9504, Testing Accuracy: 0.9592\n",
      "\n"
     ]
    },
    {
     "name": "stdout",
     "output_type": "stream",
     "text": [
      "Epoch 50, Loss 0.0386\n",
      "Training Accuracy: 0.9562, Testing Accuracy: 0.9622\n",
      "\n"
     ]
    },
    {
     "name": "stdout",
     "output_type": "stream",
     "text": [
      "Epoch 60, Loss 0.0352\n",
      "Training Accuracy: 0.9597, Testing Accuracy: 0.9637\n",
      "\n"
     ]
    },
    {
     "name": "stdout",
     "output_type": "stream",
     "text": [
      "Epoch 70, Loss 0.0328\n",
      "Training Accuracy: 0.9614, Testing Accuracy: 0.9667\n",
      "\n"
     ]
    },
    {
     "name": "stdout",
     "output_type": "stream",
     "text": [
      "Epoch 80, Loss 0.031\n",
      "Training Accuracy: 0.9633, Testing Accuracy: 0.9662\n",
      "\n"
     ]
    },
    {
     "name": "stdout",
     "output_type": "stream",
     "text": [
      "Epoch 90, Loss 0.0296\n",
      "Training Accuracy: 0.9651, Testing Accuracy: 0.9693\n",
      "\n"
     ]
    },
    {
     "name": "stdout",
     "output_type": "stream",
     "text": [
      "Epoch 100, Loss 0.0284\n",
      "Training Accuracy: 0.9664, Testing Accuracy: 0.9693\n",
      "\n"
     ]
    },
    {
     "name": "stdout",
     "output_type": "stream",
     "text": [
      "Epoch 110, Loss 0.0273\n",
      "Training Accuracy: 0.9675, Testing Accuracy: 0.9703\n",
      "\n"
     ]
    },
    {
     "name": "stdout",
     "output_type": "stream",
     "text": [
      "Epoch 120, Loss 0.0265\n",
      "Training Accuracy: 0.9688, Testing Accuracy: 0.9708\n",
      "\n"
     ]
    },
    {
     "name": "stdout",
     "output_type": "stream",
     "text": [
      "Epoch 130, Loss 0.0257\n",
      "Training Accuracy: 0.9694, Testing Accuracy: 0.9723\n",
      "\n"
     ]
    },
    {
     "name": "stdout",
     "output_type": "stream",
     "text": [
      "Epoch 140, Loss 0.025\n",
      "Training Accuracy: 0.9707, Testing Accuracy: 0.9723\n",
      "\n"
     ]
    },
    {
     "name": "stdout",
     "output_type": "stream",
     "text": [
      "Epoch 150, Loss 0.0243\n",
      "Training Accuracy: 0.9717, Testing Accuracy: 0.9718\n",
      "\n"
     ]
    },
    {
     "name": "stdout",
     "output_type": "stream",
     "text": [
      "Epoch 160, Loss 0.0237\n",
      "Training Accuracy: 0.9720, Testing Accuracy: 0.9723\n",
      "\n"
     ]
    },
    {
     "name": "stdout",
     "output_type": "stream",
     "text": [
      "Epoch 170, Loss 0.0232\n",
      "Training Accuracy: 0.9729, Testing Accuracy: 0.9728\n",
      "\n"
     ]
    },
    {
     "name": "stdout",
     "output_type": "stream",
     "text": [
      "Epoch 180, Loss 0.0227\n",
      "Training Accuracy: 0.9732, Testing Accuracy: 0.9733\n",
      "\n"
     ]
    },
    {
     "name": "stdout",
     "output_type": "stream",
     "text": [
      "Epoch 190, Loss 0.0222\n",
      "Training Accuracy: 0.9739, Testing Accuracy: 0.9743\n",
      "\n"
     ]
    },
    {
     "name": "stdout",
     "output_type": "stream",
     "text": [
      "Epoch 200, Loss 0.0217\n",
      "Training Accuracy: 0.9745, Testing Accuracy: 0.9748\n",
      "\n"
     ]
    },
    {
     "name": "stdout",
     "output_type": "stream",
     "text": [
      "Epoch 210, Loss 0.0213\n",
      "Training Accuracy: 0.9753, Testing Accuracy: 0.9743\n",
      "\n"
     ]
    },
    {
     "name": "stdout",
     "output_type": "stream",
     "text": [
      "Epoch 220, Loss 0.0208\n",
      "Training Accuracy: 0.9761, Testing Accuracy: 0.9743\n",
      "\n"
     ]
    },
    {
     "name": "stdout",
     "output_type": "stream",
     "text": [
      "Epoch 230, Loss 0.0204\n",
      "Training Accuracy: 0.9767, Testing Accuracy: 0.9743\n",
      "\n"
     ]
    },
    {
     "name": "stdout",
     "output_type": "stream",
     "text": [
      "Epoch 240, Loss 0.02\n",
      "Training Accuracy: 0.9773, Testing Accuracy: 0.9753\n",
      "\n"
     ]
    },
    {
     "data": {
      "text/plain": [
       "0.07025842446147781"
      ]
     },
     "execution_count": 22,
     "metadata": {},
     "output_type": "execute_result"
    }
   ],
   "source": [
    "nn_learner.train_loop(dl)"
   ]
  },
  {
   "cell_type": "code",
   "execution_count": 23,
   "id": "e0163366",
   "metadata": {
    "execution": {
     "iopub.execute_input": "2021-10-24T20:07:57.377631Z",
     "iopub.status.busy": "2021-10-24T20:07:57.377161Z",
     "iopub.status.idle": "2021-10-24T20:08:09.963964Z",
     "shell.execute_reply": "2021-10-24T20:08:09.964641Z"
    },
    "papermill": {
     "duration": 12.6283,
     "end_time": "2021-10-24T20:08:09.964778",
     "exception": false,
     "start_time": "2021-10-24T20:07:57.336478",
     "status": "completed"
    },
    "tags": []
   },
   "outputs": [
    {
     "name": "stdout",
     "output_type": "stream",
     "text": [
      "Epoch 0, Loss 0.2742\n",
      "Training Accuracy: 0.5581, Testing Accuracy: 0.5953\n",
      "\n"
     ]
    },
    {
     "name": "stdout",
     "output_type": "stream",
     "text": [
      "Epoch 10, Loss 0.1052\n",
      "Training Accuracy: 0.9078, Testing Accuracy: 0.9229\n",
      "\n"
     ]
    },
    {
     "name": "stdout",
     "output_type": "stream",
     "text": [
      "Epoch 20, Loss 0.0801\n",
      "Training Accuracy: 0.9258, Testing Accuracy: 0.9365\n",
      "\n"
     ]
    },
    {
     "name": "stdout",
     "output_type": "stream",
     "text": [
      "Epoch 30, Loss 0.0689\n",
      "Training Accuracy: 0.9347, Testing Accuracy: 0.9461\n",
      "\n"
     ]
    },
    {
     "name": "stdout",
     "output_type": "stream",
     "text": [
      "Epoch 40, Loss 0.0622\n",
      "Training Accuracy: 0.9387, Testing Accuracy: 0.9521\n",
      "\n"
     ]
    },
    {
     "name": "stdout",
     "output_type": "stream",
     "text": [
      "Epoch 50, Loss 0.0577\n",
      "Training Accuracy: 0.9418, Testing Accuracy: 0.9577\n",
      "\n"
     ]
    },
    {
     "name": "stdout",
     "output_type": "stream",
     "text": [
      "Epoch 60, Loss 0.0544\n",
      "Training Accuracy: 0.9442, Testing Accuracy: 0.9592\n",
      "\n"
     ]
    },
    {
     "name": "stdout",
     "output_type": "stream",
     "text": [
      "Epoch 70, Loss 0.0518\n",
      "Training Accuracy: 0.9466, Testing Accuracy: 0.9617\n",
      "\n"
     ]
    },
    {
     "name": "stdout",
     "output_type": "stream",
     "text": [
      "Epoch 80, Loss 0.0498\n",
      "Training Accuracy: 0.9479, Testing Accuracy: 0.9632\n",
      "\n"
     ]
    },
    {
     "name": "stdout",
     "output_type": "stream",
     "text": [
      "Epoch 90, Loss 0.0481\n",
      "Training Accuracy: 0.9493, Testing Accuracy: 0.9647\n",
      "\n"
     ]
    },
    {
     "name": "stdout",
     "output_type": "stream",
     "text": [
      "Epoch 100, Loss 0.0466\n",
      "Training Accuracy: 0.9507, Testing Accuracy: 0.9647\n",
      "\n"
     ]
    },
    {
     "name": "stdout",
     "output_type": "stream",
     "text": [
      "Epoch 110, Loss 0.0454\n",
      "Training Accuracy: 0.9522, Testing Accuracy: 0.9647\n",
      "\n"
     ]
    },
    {
     "name": "stdout",
     "output_type": "stream",
     "text": [
      "Epoch 120, Loss 0.0443\n",
      "Training Accuracy: 0.9528, Testing Accuracy: 0.9642\n",
      "\n"
     ]
    },
    {
     "name": "stdout",
     "output_type": "stream",
     "text": [
      "Epoch 130, Loss 0.0434\n",
      "Training Accuracy: 0.9533, Testing Accuracy: 0.9637\n",
      "\n"
     ]
    },
    {
     "name": "stdout",
     "output_type": "stream",
     "text": [
      "Epoch 140, Loss 0.0425\n",
      "Training Accuracy: 0.9544, Testing Accuracy: 0.9642\n",
      "\n"
     ]
    },
    {
     "name": "stdout",
     "output_type": "stream",
     "text": [
      "Epoch 150, Loss 0.0418\n",
      "Training Accuracy: 0.9552, Testing Accuracy: 0.9642\n",
      "\n"
     ]
    },
    {
     "name": "stdout",
     "output_type": "stream",
     "text": [
      "Epoch 160, Loss 0.0411\n",
      "Training Accuracy: 0.9557, Testing Accuracy: 0.9652\n",
      "\n"
     ]
    },
    {
     "name": "stdout",
     "output_type": "stream",
     "text": [
      "Epoch 170, Loss 0.0405\n",
      "Training Accuracy: 0.9564, Testing Accuracy: 0.9657\n",
      "\n"
     ]
    },
    {
     "name": "stdout",
     "output_type": "stream",
     "text": [
      "Epoch 180, Loss 0.0399\n",
      "Training Accuracy: 0.9569, Testing Accuracy: 0.9662\n",
      "\n"
     ]
    },
    {
     "name": "stdout",
     "output_type": "stream",
     "text": [
      "Epoch 190, Loss 0.0394\n",
      "Training Accuracy: 0.9575, Testing Accuracy: 0.9667\n",
      "\n"
     ]
    },
    {
     "name": "stdout",
     "output_type": "stream",
     "text": [
      "Epoch 200, Loss 0.0389\n",
      "Training Accuracy: 0.9577, Testing Accuracy: 0.9677\n",
      "\n"
     ]
    },
    {
     "name": "stdout",
     "output_type": "stream",
     "text": [
      "Epoch 210, Loss 0.0384\n",
      "Training Accuracy: 0.9582, Testing Accuracy: 0.9677\n",
      "\n"
     ]
    },
    {
     "name": "stdout",
     "output_type": "stream",
     "text": [
      "Epoch 220, Loss 0.038\n",
      "Training Accuracy: 0.9589, Testing Accuracy: 0.9677\n",
      "\n"
     ]
    },
    {
     "name": "stdout",
     "output_type": "stream",
     "text": [
      "Epoch 230, Loss 0.0376\n",
      "Training Accuracy: 0.9593, Testing Accuracy: 0.9677\n",
      "\n"
     ]
    },
    {
     "name": "stdout",
     "output_type": "stream",
     "text": [
      "Epoch 240, Loss 0.0372\n",
      "Training Accuracy: 0.9594, Testing Accuracy: 0.9677\n",
      "\n"
     ]
    },
    {
     "data": {
      "text/plain": [
       "0.02451792234201052"
      ]
     },
     "execution_count": 23,
     "metadata": {},
     "output_type": "execute_result"
    }
   ],
   "source": [
    "lr_learner.train_loop(dl)"
   ]
  },
  {
   "cell_type": "code",
   "execution_count": 24,
   "id": "ca410940",
   "metadata": {
    "execution": {
     "iopub.execute_input": "2021-10-24T20:08:10.045988Z",
     "iopub.status.busy": "2021-10-24T20:08:10.045510Z",
     "iopub.status.idle": "2021-10-24T20:08:10.244441Z",
     "shell.execute_reply": "2021-10-24T20:08:10.244017Z"
    },
    "papermill": {
     "duration": 0.243271,
     "end_time": "2021-10-24T20:08:10.244558",
     "exception": false,
     "start_time": "2021-10-24T20:08:10.001287",
     "status": "completed"
    },
    "tags": []
   },
   "outputs": [
    {
     "data": {
      "text/plain": [
       "<matplotlib.legend.Legend at 0x7f37d6089fd0>"
      ]
     },
     "execution_count": 24,
     "metadata": {},
     "output_type": "execute_result"
    },
    {
     "data": {
      "image/png": "[encoded data removed]",
      "text/plain": [
       "<Figure size 1080x720 with 1 Axes>"
      ]
     },
     "metadata": {
      "needs_background": "light"
     },
     "output_type": "display_data"
    }
   ],
   "source": [
    "#comparing the results of NN and LR\n",
    "plt.figure(figsize=(15,10))\n",
    "\n",
    "# Neural Network plots\n",
    "plt.plot(acc_nn.accuracies, 'r-', label = \"Training Accuracies - NN\")\n",
    "plt.plot(acc_nn.test_accuracies, 'g-', label = \"Testing Accuracies - NN\")\n",
    "\n",
    "# Logistic Regression plots\n",
    "plt.plot(acc_lr.accuracies, 'k-', label = \"Training Accuracies - LR\")\n",
    "plt.plot(acc_lr.test_accuracies, 'b-', label = \"Testing Accuracies - LR\")\n",
    "plt.legend()"
   ]
  },
  {
   "cell_type": "markdown",
   "id": "80dfb35c",
   "metadata": {
    "papermill": {
     "duration": 0.042137,
     "end_time": "2021-10-24T20:08:10.329382",
     "exception": false,
     "start_time": "2021-10-24T20:08:10.287245",
     "status": "completed"
    },
    "tags": []
   },
   "source": [
    "#### Plotting the outputs of this layer of the NN.\n"
   ]
  },
  {
   "cell_type": "code",
   "execution_count": 25,
   "id": "45eb2ff5",
   "metadata": {
    "execution": {
     "iopub.execute_input": "2021-10-24T20:08:10.420364Z",
     "iopub.status.busy": "2021-10-24T20:08:10.419222Z",
     "iopub.status.idle": "2021-10-24T20:08:10.435059Z",
     "shell.execute_reply": "2021-10-24T20:08:10.435478Z"
    },
    "papermill": {
     "duration": 0.064161,
     "end_time": "2021-10-24T20:08:10.435611",
     "exception": false,
     "start_time": "2021-10-24T20:08:10.371450",
     "status": "completed"
    },
    "tags": []
   },
   "outputs": [],
   "source": [
    "new_model = Model(layers[:-2])\n",
    "testing_plot = new_model(testing_data_x)"
   ]
  },
  {
   "cell_type": "code",
   "execution_count": 26,
   "id": "4c0a5485",
   "metadata": {
    "execution": {
     "iopub.execute_input": "2021-10-24T20:08:10.534765Z",
     "iopub.status.busy": "2021-10-24T20:08:10.531587Z",
     "iopub.status.idle": "2021-10-24T20:08:10.717334Z",
     "shell.execute_reply": "2021-10-24T20:08:10.716946Z"
    },
    "papermill": {
     "duration": 0.234102,
     "end_time": "2021-10-24T20:08:10.717445",
     "exception": false,
     "start_time": "2021-10-24T20:08:10.483343",
     "status": "completed"
    },
    "tags": []
   },
   "outputs": [
    {
     "data": {
      "text/plain": [
       "Text(0.5, 1.0, 'Outputs')"
      ]
     },
     "execution_count": 26,
     "metadata": {},
     "output_type": "execute_result"
    },
    {
     "data": {
      "image/png": "[encoded data removed]",
      "text/plain": [
       "<Figure size 576x504 with 1 Axes>"
      ]
     },
     "metadata": {
      "needs_background": "light"
     },
     "output_type": "display_data"
    }
   ],
   "source": [
    "# Plotting the scatter plot of points and color coding by class\n",
    "plt.figure(figsize=(8,7))\n",
    "plt.scatter(testing_plot[:,0], testing_plot[:,1], alpha = 0.1, c = y_test.ravel());\n",
    "plt.title('Outputs')"
   ]
  },
  {
   "cell_type": "markdown",
   "id": "a74fcf8f",
   "metadata": {
    "papermill": {
     "duration": 0.039434,
     "end_time": "2021-10-24T20:08:10.796507",
     "exception": false,
     "start_time": "2021-10-24T20:08:10.757073",
     "status": "completed"
    },
    "tags": []
   },
   "source": [
    "Probability contours"
   ]
  },
  {
   "cell_type": "code",
   "execution_count": 27,
   "id": "d0afc8e3",
   "metadata": {
    "execution": {
     "iopub.execute_input": "2021-10-24T20:08:10.878357Z",
     "iopub.status.busy": "2021-10-24T20:08:10.877912Z",
     "iopub.status.idle": "2021-10-24T20:08:10.890148Z",
     "shell.execute_reply": "2021-10-24T20:08:10.889732Z"
    },
    "papermill": {
     "duration": 0.054125,
     "end_time": "2021-10-24T20:08:10.890243",
     "exception": false,
     "start_time": "2021-10-24T20:08:10.836118",
     "status": "completed"
    },
    "tags": []
   },
   "outputs": [],
   "source": [
    "model_prob = Model(layers[-2:]) "
   ]
  },
  {
   "cell_type": "code",
   "execution_count": 28,
   "id": "9b96e238",
   "metadata": {
    "execution": {
     "iopub.execute_input": "2021-10-24T20:08:10.997122Z",
     "iopub.status.busy": "2021-10-24T20:08:10.996669Z",
     "iopub.status.idle": "2021-10-24T20:08:11.010283Z",
     "shell.execute_reply": "2021-10-24T20:08:11.010623Z"
    },
    "papermill": {
     "duration": 0.081772,
     "end_time": "2021-10-24T20:08:11.010775",
     "exception": false,
     "start_time": "2021-10-24T20:08:10.929003",
     "status": "completed"
    },
    "tags": []
   },
   "outputs": [],
   "source": [
    "#creating the x and y ranges according to the above generated plot.\n",
    "x_range = np.linspace(-4, 1, 100) \n",
    "y_range = np.linspace(-6, 6, 100) \n",
    "x_grid, y_grid = np.meshgrid(x_range, y_range) # x_grid and y_grig are of size 100 X 100\n",
    "\n",
    "# converting x_grid and y_grid to continuous arrays\n",
    "x_gridflat = np.ravel(x_grid)\n",
    "y_gridflat = np.ravel(y_grid)\n",
    "\n",
    "# The last layer of the current model takes two columns as input. Hence transpose of np.vstack() is required.\n",
    "X = np.vstack((x_gridflat, y_gridflat)).T\n",
    "\n",
    "prob_contour = model_prob(X).reshape(100,100) "
   ]
  },
  {
   "cell_type": "code",
   "execution_count": 29,
   "id": "da72499a",
   "metadata": {
    "execution": {
     "iopub.execute_input": "2021-10-24T20:08:11.116043Z",
     "iopub.status.busy": "2021-10-24T20:08:11.115520Z",
     "iopub.status.idle": "2021-10-24T20:08:11.351326Z",
     "shell.execute_reply": "2021-10-24T20:08:11.351746Z"
    },
    "papermill": {
     "duration": 0.291326,
     "end_time": "2021-10-24T20:08:11.351881",
     "exception": false,
     "start_time": "2021-10-24T20:08:11.060555",
     "status": "completed"
    },
    "tags": []
   },
   "outputs": [
    {
     "data": {
      "image/png": "[encoded data removed]",
      "text/plain": [
       "<Figure size 720x648 with 1 Axes>"
      ]
     },
     "metadata": {
      "needs_background": "light"
     },
     "output_type": "display_data"
    }
   ],
   "source": [
    "plt.figure(figsize=(10,9))\n",
    "plt.scatter(testing_plot[:,0], testing_plot[:,1], alpha = 0.1, c = y_test.ravel())\n",
    "contours = plt.contour(x_grid,y_grid,prob_contour)\n",
    "plt.title('Probability Contours')\n",
    "plt.clabel(contours, inline = True );"
   ]
  },
  {
   "cell_type": "code",
   "execution_count": null,
   "id": "e81b4ac7",
   "metadata": {
    "papermill": {
     "duration": 0.041722,
     "end_time": "2021-10-24T20:08:11.436772",
     "exception": false,
     "start_time": "2021-10-24T20:08:11.395050",
     "status": "completed"
    },
    "tags": []
   },
   "outputs": [],
   "source": []
  }
 ],
 "metadata": {
  "kernelspec": {
   "display_name": "Python 3",
   "language": "python",
   "name": "python3"
  },
  "language_info": {
   "codemirror_mode": {
    "name": "ipython",
    "version": 3
   },
   "file_extension": ".py",
   "mimetype": "text/x-python",
   "name": "python",
   "nbconvert_exporter": "python",
   "pygments_lexer": "ipython3",
   "version": "3.6.15"
  },
  "papermill": {
   "default_parameters": {},
   "duration": 93.495893,
   "end_time": "2021-10-24T20:08:11.786098",
   "environment_variables": {},
   "exception": null,
   "input_path": "2020-08-11-part2.ipynb",
   "output_path": "2020-08-11-part2.ipynb",
   "parameters": {},
   "start_time": "2021-10-24T20:06:38.290205",
   "version": "2.3.3"
  }
 },
 "nbformat": 4,
 "nbformat_minor": 5
}