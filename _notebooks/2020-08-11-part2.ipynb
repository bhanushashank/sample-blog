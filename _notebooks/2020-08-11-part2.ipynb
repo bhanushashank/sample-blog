{
 "cells": [
  {
   "cell_type": "markdown",
   "id": "98380cd3",
   "metadata": {
    "papermill": {
     "duration": 0.038885,
     "end_time": "2022-06-13T20:10:43.567491",
     "exception": false,
     "start_time": "2022-06-13T20:10:43.528606",
     "status": "completed"
    },
    "tags": []
   },
   "source": [
    "# Distinguish Your Own Digits (DYOD)"
   ]
  },
  {
   "cell_type": "markdown",
   "id": "ef31240d",
   "metadata": {
    "papermill": {
     "duration": 0.037139,
     "end_time": "2022-06-13T20:10:43.643263",
     "exception": false,
     "start_time": "2022-06-13T20:10:43.606124",
     "status": "completed"
    },
    "tags": []
   },
   "source": [
    "You are going to write a classifier that distinguishes between the number 3 and number 8."
   ]
  },
  {
   "cell_type": "code",
   "execution_count": 1,
   "id": "b15c8646",
   "metadata": {
    "execution": {
     "iopub.execute_input": "2022-06-13T20:10:43.725141Z",
     "iopub.status.busy": "2022-06-13T20:10:43.724364Z",
     "iopub.status.idle": "2022-06-13T20:10:43.738986Z",
     "shell.execute_reply": "2022-06-13T20:10:43.738372Z"
    },
    "papermill": {
     "duration": 0.061364,
     "end_time": "2022-06-13T20:10:43.739168",
     "exception": false,
     "start_time": "2022-06-13T20:10:43.677804",
     "status": "completed"
    },
    "tags": []
   },
   "outputs": [],
   "source": [
    "%load_ext autoreload\n",
    "%autoreload 2"
   ]
  },
  {
   "cell_type": "code",
   "execution_count": 2,
   "id": "22ef38dc",
   "metadata": {
    "execution": {
     "iopub.execute_input": "2022-06-13T20:10:43.808964Z",
     "iopub.status.busy": "2022-06-13T20:10:43.808114Z",
     "iopub.status.idle": "2022-06-13T20:10:44.476473Z",
     "shell.execute_reply": "2022-06-13T20:10:44.477100Z"
    },
    "papermill": {
     "duration": 0.706292,
     "end_time": "2022-06-13T20:10:44.477287",
     "exception": false,
     "start_time": "2022-06-13T20:10:43.770995",
     "status": "completed"
    },
    "tags": []
   },
   "outputs": [],
   "source": [
    "%matplotlib inline\n",
    "import numpy as np\n",
    "import matplotlib.pyplot as plt\n",
    "import pandas as pd"
   ]
  },
  {
   "cell_type": "markdown",
   "id": "ba036198",
   "metadata": {
    "papermill": {
     "duration": 0.031177,
     "end_time": "2022-06-13T20:10:44.539547",
     "exception": false,
     "start_time": "2022-06-13T20:10:44.508370",
     "status": "completed"
    },
    "tags": []
   },
   "source": [
    "From the command line run `pip install mnist`. This is a library that will help you bring down the mnist dataset. If you run this from a notebook, you need to put  `!pip install mnist` in a cell by itself."
   ]
  },
  {
   "cell_type": "code",
   "execution_count": 3,
   "id": "bb6ad8a1",
   "metadata": {
    "execution": {
     "iopub.execute_input": "2022-06-13T20:10:44.611288Z",
     "iopub.status.busy": "2022-06-13T20:10:44.610507Z",
     "iopub.status.idle": "2022-06-13T20:10:46.684927Z",
     "shell.execute_reply": "2022-06-13T20:10:46.684239Z"
    },
    "papermill": {
     "duration": 2.11478,
     "end_time": "2022-06-13T20:10:46.685081",
     "exception": false,
     "start_time": "2022-06-13T20:10:44.570301",
     "status": "completed"
    },
    "tags": []
   },
   "outputs": [
    {
     "name": "stdout",
     "output_type": "stream",
     "text": [
      "Collecting mnist\r\n"
     ]
    },
    {
     "name": "stdout",
     "output_type": "stream",
     "text": [
      "  Downloading mnist-0.2.2-py2.py3-none-any.whl (3.5 kB)\r\n",
      "Requirement already satisfied: numpy in /opt/hostedtoolcache/Python/3.6.15/x64/lib/python3.6/site-packages (from mnist) (1.19.5)\r\n"
     ]
    },
    {
     "name": "stdout",
     "output_type": "stream",
     "text": [
      "Installing collected packages: mnist\r\n"
     ]
    },
    {
     "name": "stdout",
     "output_type": "stream",
     "text": [
      "Successfully installed mnist-0.2.2\r\n"
     ]
    }
   ],
   "source": [
    "!pip install mnist"
   ]
  },
  {
   "cell_type": "markdown",
   "id": "69df9c9a",
   "metadata": {
    "papermill": {
     "duration": 0.032965,
     "end_time": "2022-06-13T20:10:46.751653",
     "exception": false,
     "start_time": "2022-06-13T20:10:46.718688",
     "status": "completed"
    },
    "tags": []
   },
   "source": [
    "## Preparing the Data"
   ]
  },
  {
   "cell_type": "code",
   "execution_count": 4,
   "id": "7f69d806",
   "metadata": {
    "execution": {
     "iopub.execute_input": "2022-06-13T20:10:46.820521Z",
     "iopub.status.busy": "2022-06-13T20:10:46.819663Z",
     "iopub.status.idle": "2022-06-13T20:10:46.837141Z",
     "shell.execute_reply": "2022-06-13T20:10:46.837753Z"
    },
    "papermill": {
     "duration": 0.054944,
     "end_time": "2022-06-13T20:10:46.837902",
     "exception": false,
     "start_time": "2022-06-13T20:10:46.782958",
     "status": "completed"
    },
    "tags": []
   },
   "outputs": [],
   "source": [
    "import mnist"
   ]
  },
  {
   "cell_type": "code",
   "execution_count": 5,
   "id": "a411e44f",
   "metadata": {
    "execution": {
     "iopub.execute_input": "2022-06-13T20:10:46.908029Z",
     "iopub.status.busy": "2022-06-13T20:10:46.907249Z",
     "iopub.status.idle": "2022-06-13T20:10:47.496396Z",
     "shell.execute_reply": "2022-06-13T20:10:47.495544Z"
    },
    "papermill": {
     "duration": 0.625601,
     "end_time": "2022-06-13T20:10:47.496582",
     "exception": false,
     "start_time": "2022-06-13T20:10:46.870981",
     "status": "completed"
    },
    "tags": []
   },
   "outputs": [],
   "source": [
    "train_images = mnist.train_images()\n",
    "train_labels = mnist.train_labels()"
   ]
  },
  {
   "cell_type": "code",
   "execution_count": 6,
   "id": "dceab3a5",
   "metadata": {
    "execution": {
     "iopub.execute_input": "2022-06-13T20:10:47.569916Z",
     "iopub.status.busy": "2022-06-13T20:10:47.569138Z",
     "iopub.status.idle": "2022-06-13T20:10:47.586125Z",
     "shell.execute_reply": "2022-06-13T20:10:47.586856Z"
    },
    "papermill": {
     "duration": 0.054871,
     "end_time": "2022-06-13T20:10:47.587000",
     "exception": false,
     "start_time": "2022-06-13T20:10:47.532129",
     "status": "completed"
    },
    "tags": []
   },
   "outputs": [
    {
     "data": {
      "text/plain": [
       "((60000, 28, 28), (60000,))"
      ]
     },
     "execution_count": 6,
     "metadata": {},
     "output_type": "execute_result"
    }
   ],
   "source": [
    "train_images.shape, train_labels.shape"
   ]
  },
  {
   "cell_type": "code",
   "execution_count": 7,
   "id": "f50dc2bb",
   "metadata": {
    "execution": {
     "iopub.execute_input": "2022-06-13T20:10:47.658262Z",
     "iopub.status.busy": "2022-06-13T20:10:47.657513Z",
     "iopub.status.idle": "2022-06-13T20:10:47.797380Z",
     "shell.execute_reply": "2022-06-13T20:10:47.796691Z"
    },
    "papermill": {
     "duration": 0.176928,
     "end_time": "2022-06-13T20:10:47.797563",
     "exception": false,
     "start_time": "2022-06-13T20:10:47.620635",
     "status": "completed"
    },
    "tags": []
   },
   "outputs": [],
   "source": [
    "test_images = mnist.test_images()\n",
    "test_labels = mnist.test_labels()"
   ]
  },
  {
   "cell_type": "code",
   "execution_count": 8,
   "id": "fc38cf1b",
   "metadata": {
    "execution": {
     "iopub.execute_input": "2022-06-13T20:10:47.871364Z",
     "iopub.status.busy": "2022-06-13T20:10:47.870517Z",
     "iopub.status.idle": "2022-06-13T20:10:47.886667Z",
     "shell.execute_reply": "2022-06-13T20:10:47.887427Z"
    },
    "papermill": {
     "duration": 0.055272,
     "end_time": "2022-06-13T20:10:47.887576",
     "exception": false,
     "start_time": "2022-06-13T20:10:47.832304",
     "status": "completed"
    },
    "tags": []
   },
   "outputs": [
    {
     "data": {
      "text/plain": [
       "((10000, 28, 28), (10000,))"
      ]
     },
     "execution_count": 8,
     "metadata": {},
     "output_type": "execute_result"
    }
   ],
   "source": [
    "test_images.shape, test_labels.shape"
   ]
  },
  {
   "cell_type": "code",
   "execution_count": 9,
   "id": "f9ed8fe0",
   "metadata": {
    "execution": {
     "iopub.execute_input": "2022-06-13T20:10:47.960917Z",
     "iopub.status.busy": "2022-06-13T20:10:47.960107Z",
     "iopub.status.idle": "2022-06-13T20:10:48.166158Z",
     "shell.execute_reply": "2022-06-13T20:10:48.166844Z"
    },
    "papermill": {
     "duration": 0.245297,
     "end_time": "2022-06-13T20:10:48.167217",
     "exception": false,
     "start_time": "2022-06-13T20:10:47.921920",
     "status": "completed"
    },
    "tags": []
   },
   "outputs": [
    {
     "name": "stdout",
     "output_type": "stream",
     "text": [
      "2\n"
     ]
    },
    {
     "data": {
      "text/plain": [
       "<matplotlib.image.AxesImage at 0x7f88482273c8>"
      ]
     },
     "execution_count": 9,
     "metadata": {},
     "output_type": "execute_result"
    },
    {
     "data": {
      "image/png": "[encoded data removed]",
      "text/plain": [
       "<Figure size 432x288 with 1 Axes>"
      ]
     },
     "metadata": {
      "needs_background": "light"
     },
     "output_type": "display_data"
    }
   ],
   "source": [
    "image_index = 7776 # You may select anything up to 60,000\n",
    "print(train_labels[image_index]) \n",
    "plt.imshow(train_images[image_index], cmap='Greys')"
   ]
  },
  {
   "cell_type": "markdown",
   "id": "a8d2388d",
   "metadata": {
    "papermill": {
     "duration": 0.03774,
     "end_time": "2022-06-13T20:10:48.240959",
     "exception": false,
     "start_time": "2022-06-13T20:10:48.203219",
     "status": "completed"
    },
    "tags": []
   },
   "source": [
    "## Filter data to get 3 and 8 out"
   ]
  },
  {
   "cell_type": "code",
   "execution_count": 10,
   "id": "776f7fc7",
   "metadata": {
    "execution": {
     "iopub.execute_input": "2022-06-13T20:10:48.321020Z",
     "iopub.status.busy": "2022-06-13T20:10:48.316787Z",
     "iopub.status.idle": "2022-06-13T20:10:48.341530Z",
     "shell.execute_reply": "2022-06-13T20:10:48.340852Z"
    },
    "papermill": {
     "duration": 0.065093,
     "end_time": "2022-06-13T20:10:48.341667",
     "exception": false,
     "start_time": "2022-06-13T20:10:48.276574",
     "status": "completed"
    },
    "tags": []
   },
   "outputs": [],
   "source": [
    "train_filter = np.where((train_labels == 3 ) | (train_labels == 8))\n",
    "test_filter = np.where((test_labels == 3) | (test_labels == 8))\n",
    "X_train, y_train = train_images[train_filter], train_labels[train_filter]\n",
    "X_test, y_test = test_images[test_filter], test_labels[test_filter]"
   ]
  },
  {
   "cell_type": "markdown",
   "id": "948f0b7e",
   "metadata": {
    "papermill": {
     "duration": 0.035666,
     "end_time": "2022-06-13T20:10:48.413143",
     "exception": false,
     "start_time": "2022-06-13T20:10:48.377477",
     "status": "completed"
    },
    "tags": []
   },
   "source": [
    "We normalize the pizel values in the 0 to 1 range"
   ]
  },
  {
   "cell_type": "code",
   "execution_count": 11,
   "id": "ee4c2166",
   "metadata": {
    "execution": {
     "iopub.execute_input": "2022-06-13T20:10:48.487214Z",
     "iopub.status.busy": "2022-06-13T20:10:48.486500Z",
     "iopub.status.idle": "2022-06-13T20:10:48.553727Z",
     "shell.execute_reply": "2022-06-13T20:10:48.552875Z"
    },
    "papermill": {
     "duration": 0.105571,
     "end_time": "2022-06-13T20:10:48.553917",
     "exception": false,
     "start_time": "2022-06-13T20:10:48.448346",
     "status": "completed"
    },
    "tags": []
   },
   "outputs": [],
   "source": [
    "X_train = X_train/255.\n",
    "X_test = X_test/255."
   ]
  },
  {
   "cell_type": "markdown",
   "id": "ddcf4fab",
   "metadata": {
    "papermill": {
     "duration": 0.034176,
     "end_time": "2022-06-13T20:10:48.623952",
     "exception": false,
     "start_time": "2022-06-13T20:10:48.589776",
     "status": "completed"
    },
    "tags": []
   },
   "source": [
    "And setup the labels as 1 (when the digit is 3) and 0 (when the digit is 8)"
   ]
  },
  {
   "cell_type": "code",
   "execution_count": 12,
   "id": "7dc908f2",
   "metadata": {
    "execution": {
     "iopub.execute_input": "2022-06-13T20:10:48.698873Z",
     "iopub.status.busy": "2022-06-13T20:10:48.698068Z",
     "iopub.status.idle": "2022-06-13T20:10:48.713620Z",
     "shell.execute_reply": "2022-06-13T20:10:48.712958Z"
    },
    "papermill": {
     "duration": 0.054338,
     "end_time": "2022-06-13T20:10:48.713745",
     "exception": false,
     "start_time": "2022-06-13T20:10:48.659407",
     "status": "completed"
    },
    "tags": []
   },
   "outputs": [],
   "source": [
    "y_train = 1*(y_train==3)\n",
    "y_test = 1*(y_test==3)"
   ]
  },
  {
   "cell_type": "code",
   "execution_count": 13,
   "id": "01e4e969",
   "metadata": {
    "execution": {
     "iopub.execute_input": "2022-06-13T20:10:48.790554Z",
     "iopub.status.busy": "2022-06-13T20:10:48.789754Z",
     "iopub.status.idle": "2022-06-13T20:10:48.804474Z",
     "shell.execute_reply": "2022-06-13T20:10:48.805235Z"
    },
    "papermill": {
     "duration": 0.055895,
     "end_time": "2022-06-13T20:10:48.805378",
     "exception": false,
     "start_time": "2022-06-13T20:10:48.749483",
     "status": "completed"
    },
    "tags": []
   },
   "outputs": [
    {
     "data": {
      "text/plain": [
       "((11982, 28, 28), (1984, 28, 28))"
      ]
     },
     "execution_count": 13,
     "metadata": {},
     "output_type": "execute_result"
    }
   ],
   "source": [
    "X_train.shape, X_test.shape"
   ]
  },
  {
   "cell_type": "markdown",
   "id": "5ccf3f85",
   "metadata": {
    "papermill": {
     "duration": 0.035172,
     "end_time": "2022-06-13T20:10:48.876818",
     "exception": false,
     "start_time": "2022-06-13T20:10:48.841646",
     "status": "completed"
    },
    "tags": []
   },
   "source": [
    "We reshape the data to flatten the image pixels into a set of features or co-variates:"
   ]
  },
  {
   "cell_type": "code",
   "execution_count": 14,
   "id": "5286a4a3",
   "metadata": {
    "execution": {
     "iopub.execute_input": "2022-06-13T20:10:48.956882Z",
     "iopub.status.busy": "2022-06-13T20:10:48.955951Z",
     "iopub.status.idle": "2022-06-13T20:10:48.972667Z",
     "shell.execute_reply": "2022-06-13T20:10:48.973414Z"
    },
    "papermill": {
     "duration": 0.060952,
     "end_time": "2022-06-13T20:10:48.973598",
     "exception": false,
     "start_time": "2022-06-13T20:10:48.912646",
     "status": "completed"
    },
    "tags": []
   },
   "outputs": [
    {
     "data": {
      "text/plain": [
       "((11982, 784), (1984, 784))"
      ]
     },
     "execution_count": 14,
     "metadata": {},
     "output_type": "execute_result"
    }
   ],
   "source": [
    "X_train = X_train.reshape(X_train.shape[0], -1)\n",
    "X_test = X_test.reshape(X_test.shape[0], -1)\n",
    "X_train.shape, X_test.shape"
   ]
  },
  {
   "cell_type": "code",
   "execution_count": 15,
   "id": "73c5f88a",
   "metadata": {
    "execution": {
     "iopub.execute_input": "2022-06-13T20:10:49.053065Z",
     "iopub.status.busy": "2022-06-13T20:10:49.052291Z",
     "iopub.status.idle": "2022-06-13T20:10:49.072928Z",
     "shell.execute_reply": "2022-06-13T20:10:49.073683Z"
    },
    "papermill": {
     "duration": 0.064121,
     "end_time": "2022-06-13T20:10:49.073819",
     "exception": false,
     "start_time": "2022-06-13T20:10:49.009698",
     "status": "completed"
    },
    "tags": []
   },
   "outputs": [],
   "source": [
    "#Impoting functions from 'Kudzu'\n",
    "from kudzu.model import Model\n",
    "from kudzu.train import Learner\n",
    "from kudzu.optim import GD\n",
    "from kudzu.data import Data, Sampler,Dataloader\n",
    "\n",
    "from kudzu.callbacks import AccCallback\n",
    "from kudzu.callbacks import ClfCallback\n",
    "\n",
    "from kudzu.loss import MSE\n",
    "\n",
    "from kudzu.layer import Sigmoid,Relu\n",
    "from kudzu.layer import Affine"
   ]
  },
  {
   "cell_type": "markdown",
   "id": "bc01172a",
   "metadata": {
    "papermill": {
     "duration": 0.039301,
     "end_time": "2022-06-13T20:10:49.148908",
     "exception": false,
     "start_time": "2022-06-13T20:10:49.109607",
     "status": "completed"
    },
    "tags": []
   },
   "source": [
    "### Let us create a `Config` class, to store important parameters. \n",
    "This class essentially plays the role of a dictionary."
   ]
  },
  {
   "cell_type": "code",
   "execution_count": 16,
   "id": "978281aa",
   "metadata": {
    "execution": {
     "iopub.execute_input": "2022-06-13T20:10:49.228219Z",
     "iopub.status.busy": "2022-06-13T20:10:49.227235Z",
     "iopub.status.idle": "2022-06-13T20:10:49.243463Z",
     "shell.execute_reply": "2022-06-13T20:10:49.242781Z"
    },
    "papermill": {
     "duration": 0.056669,
     "end_time": "2022-06-13T20:10:49.243615",
     "exception": false,
     "start_time": "2022-06-13T20:10:49.186946",
     "status": "completed"
    },
    "tags": []
   },
   "outputs": [],
   "source": [
    "class Config:\n",
    "    pass\n",
    "config = Config()\n",
    "config.lr = 0.001\n",
    "config.num_epochs = 250\n",
    "config.bs = 50"
   ]
  },
  {
   "cell_type": "markdown",
   "id": "1385fa59",
   "metadata": {
    "papermill": {
     "duration": 0.036666,
     "end_time": "2022-06-13T20:10:49.318454",
     "exception": false,
     "start_time": "2022-06-13T20:10:49.281788",
     "status": "completed"
    },
    "tags": []
   },
   "source": [
    "### Running Models with the Training data\n",
    "Details about the network layers:\n",
    "- A first affine layer has 784 inputs and does 100 affine transforms. These are followed by a Relu\n",
    "- A second affine layer has 100 inputs from the 100 activations of the past layer, and does 100 affine transforms. These are followed by a Relu\n",
    "- A third affine layer has 100 activations and does 2 affine transformations to create an embedding for visualization. There is no non-linearity here.\n",
    "- A final \"logistic regression\" which has an affine transform from 2 inputs to 1 output, which is squeezed through a sigmoid.\n"
   ]
  },
  {
   "cell_type": "code",
   "execution_count": 17,
   "id": "2b9c66db",
   "metadata": {
    "execution": {
     "iopub.execute_input": "2022-06-13T20:10:49.396768Z",
     "iopub.status.busy": "2022-06-13T20:10:49.395836Z",
     "iopub.status.idle": "2022-06-13T20:10:49.410767Z",
     "shell.execute_reply": "2022-06-13T20:10:49.411519Z"
    },
    "papermill": {
     "duration": 0.057563,
     "end_time": "2022-06-13T20:10:49.411673",
     "exception": false,
     "start_time": "2022-06-13T20:10:49.354110",
     "status": "completed"
    },
    "tags": []
   },
   "outputs": [],
   "source": [
    "data = Data(X_train, y_train.reshape(-1,1))\n",
    "sampler = Sampler(data, config.bs, shuffle=True)\n",
    "\n",
    "dl = Dataloader(data, sampler)\n",
    "\n",
    "opt = GD(config.lr)\n",
    "loss = MSE()"
   ]
  },
  {
   "cell_type": "code",
   "execution_count": 18,
   "id": "b275e4c2",
   "metadata": {
    "execution": {
     "iopub.execute_input": "2022-06-13T20:10:49.487985Z",
     "iopub.status.busy": "2022-06-13T20:10:49.487203Z",
     "iopub.status.idle": "2022-06-13T20:10:49.500904Z",
     "shell.execute_reply": "2022-06-13T20:10:49.501514Z"
    },
    "papermill": {
     "duration": 0.054149,
     "end_time": "2022-06-13T20:10:49.501647",
     "exception": false,
     "start_time": "2022-06-13T20:10:49.447498",
     "status": "completed"
    },
    "tags": []
   },
   "outputs": [],
   "source": [
    "training_data_x = X_train\n",
    "testing_data_x = X_test\n",
    "training_data_y = y_train.reshape(-1,1)\n",
    "testing_data_y = y_test.reshape(-1,1)"
   ]
  },
  {
   "cell_type": "code",
   "execution_count": 19,
   "id": "76951160",
   "metadata": {
    "execution": {
     "iopub.execute_input": "2022-06-13T20:10:49.577858Z",
     "iopub.status.busy": "2022-06-13T20:10:49.577058Z",
     "iopub.status.idle": "2022-06-13T20:10:49.595303Z",
     "shell.execute_reply": "2022-06-13T20:10:49.596071Z"
    },
    "papermill": {
     "duration": 0.059563,
     "end_time": "2022-06-13T20:10:49.596236",
     "exception": false,
     "start_time": "2022-06-13T20:10:49.536673",
     "status": "completed"
    },
    "tags": []
   },
   "outputs": [
    {
     "name": "stdout",
     "output_type": "stream",
     "text": [
      "xavier\n",
      "xavier\n",
      "xavier\n",
      "xavier\n",
      "xavier\n"
     ]
    }
   ],
   "source": [
    "layers = [Affine(\"first\", 784, 100), Relu(\"first\"), Affine(\"second\", 100, 100), Relu(\"second\"), Affine(\"third\", 100, 2), Affine(\"last\", 2, 1), Sigmoid(\"last\")]\n",
    "model_nn = Model(layers)\n",
    "model_lr = Model([Affine(\"logits\", 784, 1), Sigmoid(\"sigmoid\")])"
   ]
  },
  {
   "cell_type": "code",
   "execution_count": 20,
   "id": "6eede77a",
   "metadata": {
    "execution": {
     "iopub.execute_input": "2022-06-13T20:10:49.675771Z",
     "iopub.status.busy": "2022-06-13T20:10:49.674953Z",
     "iopub.status.idle": "2022-06-13T20:10:49.688736Z",
     "shell.execute_reply": "2022-06-13T20:10:49.689483Z"
    },
    "papermill": {
     "duration": 0.054648,
     "end_time": "2022-06-13T20:10:49.689626",
     "exception": false,
     "start_time": "2022-06-13T20:10:49.634978",
     "status": "completed"
    },
    "tags": []
   },
   "outputs": [],
   "source": [
    "nn_learner = Learner(loss, model_nn, opt, config.num_epochs)\n",
    "acc_nn = ClfCallback(nn_learner, config.bs, training_data_x , testing_data_x, training_data_y, testing_data_y)\n",
    "nn_learner.set_callbacks([acc_nn])"
   ]
  },
  {
   "cell_type": "code",
   "execution_count": 21,
   "id": "877b6cc7",
   "metadata": {
    "execution": {
     "iopub.execute_input": "2022-06-13T20:10:49.768064Z",
     "iopub.status.busy": "2022-06-13T20:10:49.767270Z",
     "iopub.status.idle": "2022-06-13T20:10:49.781055Z",
     "shell.execute_reply": "2022-06-13T20:10:49.781811Z"
    },
    "papermill": {
     "duration": 0.056316,
     "end_time": "2022-06-13T20:10:49.781959",
     "exception": false,
     "start_time": "2022-06-13T20:10:49.725643",
     "status": "completed"
    },
    "tags": []
   },
   "outputs": [],
   "source": [
    "lr_learner = Learner(loss, model_lr, opt, config.num_epochs)\n",
    "acc_lr = ClfCallback(lr_learner, config.bs, training_data_x , testing_data_x, training_data_y, testing_data_y)\n",
    "lr_learner.set_callbacks([acc_lr])"
   ]
  },
  {
   "cell_type": "code",
   "execution_count": 22,
   "id": "d9b133c3",
   "metadata": {
    "execution": {
     "iopub.execute_input": "2022-06-13T20:10:49.862079Z",
     "iopub.status.busy": "2022-06-13T20:10:49.861293Z",
     "iopub.status.idle": "2022-06-13T20:13:15.716919Z",
     "shell.execute_reply": "2022-06-13T20:13:15.717701Z"
    },
    "papermill": {
     "duration": 145.899481,
     "end_time": "2022-06-13T20:13:15.717867",
     "exception": false,
     "start_time": "2022-06-13T20:10:49.818386",
     "status": "completed"
    },
    "tags": []
   },
   "outputs": [
    {
     "name": "stdout",
     "output_type": "stream",
     "text": [
      "Epoch 0, Loss 0.24\n",
      "Training Accuracy: 0.6723, Testing Accuracy: 0.6890\n",
      "\n"
     ]
    },
    {
     "name": "stdout",
     "output_type": "stream",
     "text": [
      "Epoch 10, Loss 0.1558\n",
      "Training Accuracy: 0.8882, Testing Accuracy: 0.8962\n",
      "\n"
     ]
    },
    {
     "name": "stdout",
     "output_type": "stream",
     "text": [
      "Epoch 20, Loss 0.0833\n",
      "Training Accuracy: 0.9157, Testing Accuracy: 0.9254\n",
      "\n"
     ]
    },
    {
     "name": "stdout",
     "output_type": "stream",
     "text": [
      "Epoch 30, Loss 0.0586\n",
      "Training Accuracy: 0.9361, Testing Accuracy: 0.9451\n",
      "\n"
     ]
    },
    {
     "name": "stdout",
     "output_type": "stream",
     "text": [
      "Epoch 40, Loss 0.0472\n",
      "Training Accuracy: 0.9463, Testing Accuracy: 0.9561\n",
      "\n"
     ]
    },
    {
     "name": "stdout",
     "output_type": "stream",
     "text": [
      "Epoch 50, Loss 0.0411\n",
      "Training Accuracy: 0.9521, Testing Accuracy: 0.9622\n",
      "\n"
     ]
    },
    {
     "name": "stdout",
     "output_type": "stream",
     "text": [
      "Epoch 60, Loss 0.0374\n",
      "Training Accuracy: 0.9561, Testing Accuracy: 0.9642\n",
      "\n"
     ]
    },
    {
     "name": "stdout",
     "output_type": "stream",
     "text": [
      "Epoch 70, Loss 0.0349\n",
      "Training Accuracy: 0.9586, Testing Accuracy: 0.9657\n",
      "\n"
     ]
    },
    {
     "name": "stdout",
     "output_type": "stream",
     "text": [
      "Epoch 80, Loss 0.033\n",
      "Training Accuracy: 0.9612, Testing Accuracy: 0.9657\n",
      "\n"
     ]
    },
    {
     "name": "stdout",
     "output_type": "stream",
     "text": [
      "Epoch 90, Loss 0.0315\n",
      "Training Accuracy: 0.9626, Testing Accuracy: 0.9662\n",
      "\n"
     ]
    },
    {
     "name": "stdout",
     "output_type": "stream",
     "text": [
      "Epoch 100, Loss 0.0303\n",
      "Training Accuracy: 0.9647, Testing Accuracy: 0.9667\n",
      "\n"
     ]
    },
    {
     "name": "stdout",
     "output_type": "stream",
     "text": [
      "Epoch 110, Loss 0.0293\n",
      "Training Accuracy: 0.9659, Testing Accuracy: 0.9662\n",
      "\n"
     ]
    },
    {
     "name": "stdout",
     "output_type": "stream",
     "text": [
      "Epoch 120, Loss 0.0285\n",
      "Training Accuracy: 0.9670, Testing Accuracy: 0.9662\n",
      "\n"
     ]
    },
    {
     "name": "stdout",
     "output_type": "stream",
     "text": [
      "Epoch 130, Loss 0.0277\n",
      "Training Accuracy: 0.9680, Testing Accuracy: 0.9667\n",
      "\n"
     ]
    },
    {
     "name": "stdout",
     "output_type": "stream",
     "text": [
      "Epoch 140, Loss 0.027\n",
      "Training Accuracy: 0.9690, Testing Accuracy: 0.9682\n",
      "\n"
     ]
    },
    {
     "name": "stdout",
     "output_type": "stream",
     "text": [
      "Epoch 150, Loss 0.0264\n",
      "Training Accuracy: 0.9697, Testing Accuracy: 0.9677\n",
      "\n"
     ]
    },
    {
     "name": "stdout",
     "output_type": "stream",
     "text": [
      "Epoch 160, Loss 0.0259\n",
      "Training Accuracy: 0.9699, Testing Accuracy: 0.9672\n",
      "\n"
     ]
    },
    {
     "name": "stdout",
     "output_type": "stream",
     "text": [
      "Epoch 170, Loss 0.0254\n",
      "Training Accuracy: 0.9705, Testing Accuracy: 0.9667\n",
      "\n"
     ]
    },
    {
     "name": "stdout",
     "output_type": "stream",
     "text": [
      "Epoch 180, Loss 0.0249\n",
      "Training Accuracy: 0.9710, Testing Accuracy: 0.9672\n",
      "\n"
     ]
    },
    {
     "name": "stdout",
     "output_type": "stream",
     "text": [
      "Epoch 190, Loss 0.0245\n",
      "Training Accuracy: 0.9713, Testing Accuracy: 0.9677\n",
      "\n"
     ]
    },
    {
     "name": "stdout",
     "output_type": "stream",
     "text": [
      "Epoch 200, Loss 0.0241\n",
      "Training Accuracy: 0.9714, Testing Accuracy: 0.9682\n",
      "\n"
     ]
    },
    {
     "name": "stdout",
     "output_type": "stream",
     "text": [
      "Epoch 210, Loss 0.0237\n",
      "Training Accuracy: 0.9718, Testing Accuracy: 0.9672\n",
      "\n"
     ]
    },
    {
     "name": "stdout",
     "output_type": "stream",
     "text": [
      "Epoch 220, Loss 0.0234\n",
      "Training Accuracy: 0.9723, Testing Accuracy: 0.9672\n",
      "\n"
     ]
    },
    {
     "name": "stdout",
     "output_type": "stream",
     "text": [
      "Epoch 230, Loss 0.023\n",
      "Training Accuracy: 0.9729, Testing Accuracy: 0.9672\n",
      "\n"
     ]
    },
    {
     "name": "stdout",
     "output_type": "stream",
     "text": [
      "Epoch 240, Loss 0.0227\n",
      "Training Accuracy: 0.9732, Testing Accuracy: 0.9672\n",
      "\n"
     ]
    },
    {
     "data": {
      "text/plain": [
       "0.022448407324861364"
      ]
     },
     "execution_count": 22,
     "metadata": {},
     "output_type": "execute_result"
    }
   ],
   "source": [
    "nn_learner.train_loop(dl)"
   ]
  },
  {
   "cell_type": "code",
   "execution_count": 23,
   "id": "e0163366",
   "metadata": {
    "execution": {
     "iopub.execute_input": "2022-06-13T20:13:15.856550Z",
     "iopub.status.busy": "2022-06-13T20:13:15.855703Z",
     "iopub.status.idle": "2022-06-13T20:13:36.794245Z",
     "shell.execute_reply": "2022-06-13T20:13:36.795379Z"
    },
    "papermill": {
     "duration": 21.031687,
     "end_time": "2022-06-13T20:13:36.795557",
     "exception": false,
     "start_time": "2022-06-13T20:13:15.763870",
     "status": "completed"
    },
    "tags": []
   },
   "outputs": [
    {
     "name": "stdout",
     "output_type": "stream",
     "text": [
      "Epoch 0, Loss 0.237\n",
      "Training Accuracy: 0.7170, Testing Accuracy: 0.7162\n",
      "\n"
     ]
    },
    {
     "name": "stdout",
     "output_type": "stream",
     "text": [
      "Epoch 10, Loss 0.1021\n",
      "Training Accuracy: 0.9159, Testing Accuracy: 0.9209\n",
      "\n"
     ]
    },
    {
     "name": "stdout",
     "output_type": "stream",
     "text": [
      "Epoch 20, Loss 0.0785\n",
      "Training Accuracy: 0.9305, Testing Accuracy: 0.9390\n",
      "\n"
     ]
    },
    {
     "name": "stdout",
     "output_type": "stream",
     "text": [
      "Epoch 30, Loss 0.0677\n",
      "Training Accuracy: 0.9392, Testing Accuracy: 0.9496\n",
      "\n"
     ]
    },
    {
     "name": "stdout",
     "output_type": "stream",
     "text": [
      "Epoch 40, Loss 0.0613\n",
      "Training Accuracy: 0.9427, Testing Accuracy: 0.9516\n",
      "\n"
     ]
    },
    {
     "name": "stdout",
     "output_type": "stream",
     "text": [
      "Epoch 50, Loss 0.0569\n",
      "Training Accuracy: 0.9462, Testing Accuracy: 0.9541\n",
      "\n"
     ]
    },
    {
     "name": "stdout",
     "output_type": "stream",
     "text": [
      "Epoch 60, Loss 0.0536\n",
      "Training Accuracy: 0.9477, Testing Accuracy: 0.9561\n",
      "\n"
     ]
    },
    {
     "name": "stdout",
     "output_type": "stream",
     "text": [
      "Epoch 70, Loss 0.0512\n",
      "Training Accuracy: 0.9493, Testing Accuracy: 0.9572\n",
      "\n"
     ]
    },
    {
     "name": "stdout",
     "output_type": "stream",
     "text": [
      "Epoch 80, Loss 0.0492\n",
      "Training Accuracy: 0.9511, Testing Accuracy: 0.9582\n",
      "\n"
     ]
    },
    {
     "name": "stdout",
     "output_type": "stream",
     "text": [
      "Epoch 90, Loss 0.0475\n",
      "Training Accuracy: 0.9516, Testing Accuracy: 0.9612\n",
      "\n"
     ]
    },
    {
     "name": "stdout",
     "output_type": "stream",
     "text": [
      "Epoch 100, Loss 0.0461\n",
      "Training Accuracy: 0.9523, Testing Accuracy: 0.9632\n",
      "\n"
     ]
    },
    {
     "name": "stdout",
     "output_type": "stream",
     "text": [
      "Epoch 110, Loss 0.0449\n",
      "Training Accuracy: 0.9541, Testing Accuracy: 0.9637\n",
      "\n"
     ]
    },
    {
     "name": "stdout",
     "output_type": "stream",
     "text": [
      "Epoch 120, Loss 0.0439\n",
      "Training Accuracy: 0.9548, Testing Accuracy: 0.9647\n",
      "\n"
     ]
    },
    {
     "name": "stdout",
     "output_type": "stream",
     "text": [
      "Epoch 130, Loss 0.043\n",
      "Training Accuracy: 0.9554, Testing Accuracy: 0.9647\n",
      "\n"
     ]
    },
    {
     "name": "stdout",
     "output_type": "stream",
     "text": [
      "Epoch 140, Loss 0.0422\n",
      "Training Accuracy: 0.9564, Testing Accuracy: 0.9652\n",
      "\n"
     ]
    },
    {
     "name": "stdout",
     "output_type": "stream",
     "text": [
      "Epoch 150, Loss 0.0414\n",
      "Training Accuracy: 0.9568, Testing Accuracy: 0.9662\n",
      "\n"
     ]
    },
    {
     "name": "stdout",
     "output_type": "stream",
     "text": [
      "Epoch 160, Loss 0.0408\n",
      "Training Accuracy: 0.9577, Testing Accuracy: 0.9667\n",
      "\n"
     ]
    },
    {
     "name": "stdout",
     "output_type": "stream",
     "text": [
      "Epoch 170, Loss 0.0402\n",
      "Training Accuracy: 0.9580, Testing Accuracy: 0.9667\n",
      "\n"
     ]
    },
    {
     "name": "stdout",
     "output_type": "stream",
     "text": [
      "Epoch 180, Loss 0.0396\n",
      "Training Accuracy: 0.9585, Testing Accuracy: 0.9672\n",
      "\n"
     ]
    },
    {
     "name": "stdout",
     "output_type": "stream",
     "text": [
      "Epoch 190, Loss 0.0391\n",
      "Training Accuracy: 0.9594, Testing Accuracy: 0.9667\n",
      "\n"
     ]
    },
    {
     "name": "stdout",
     "output_type": "stream",
     "text": [
      "Epoch 200, Loss 0.0386\n",
      "Training Accuracy: 0.9595, Testing Accuracy: 0.9667\n",
      "\n"
     ]
    },
    {
     "name": "stdout",
     "output_type": "stream",
     "text": [
      "Epoch 210, Loss 0.0382\n",
      "Training Accuracy: 0.9595, Testing Accuracy: 0.9667\n",
      "\n"
     ]
    },
    {
     "name": "stdout",
     "output_type": "stream",
     "text": [
      "Epoch 220, Loss 0.0378\n",
      "Training Accuracy: 0.9599, Testing Accuracy: 0.9667\n",
      "\n"
     ]
    },
    {
     "name": "stdout",
     "output_type": "stream",
     "text": [
      "Epoch 230, Loss 0.0374\n",
      "Training Accuracy: 0.9602, Testing Accuracy: 0.9667\n",
      "\n"
     ]
    },
    {
     "name": "stdout",
     "output_type": "stream",
     "text": [
      "Epoch 240, Loss 0.037\n",
      "Training Accuracy: 0.9609, Testing Accuracy: 0.9662\n",
      "\n"
     ]
    },
    {
     "data": {
      "text/plain": [
       "0.0682516254970867"
      ]
     },
     "execution_count": 23,
     "metadata": {},
     "output_type": "execute_result"
    }
   ],
   "source": [
    "lr_learner.train_loop(dl)"
   ]
  },
  {
   "cell_type": "code",
   "execution_count": 24,
   "id": "ca410940",
   "metadata": {
    "execution": {
     "iopub.execute_input": "2022-06-13T20:13:36.915503Z",
     "iopub.status.busy": "2022-06-13T20:13:36.914670Z",
     "iopub.status.idle": "2022-06-13T20:13:37.239174Z",
     "shell.execute_reply": "2022-06-13T20:13:37.239814Z"
    },
    "papermill": {
     "duration": 0.387105,
     "end_time": "2022-06-13T20:13:37.240062",
     "exception": false,
     "start_time": "2022-06-13T20:13:36.852957",
     "status": "completed"
    },
    "tags": []
   },
   "outputs": [
    {
     "data": {
      "text/plain": [
       "<matplotlib.legend.Legend at 0x7f8847d89b38>"
      ]
     },
     "execution_count": 24,
     "metadata": {},
     "output_type": "execute_result"
    },
    {
     "data": {
      "image/png": "[encoded data removed]",
      "text/plain": [
       "<Figure size 1080x720 with 1 Axes>"
      ]
     },
     "metadata": {
      "needs_background": "light"
     },
     "output_type": "display_data"
    }
   ],
   "source": [
    "#comparing the results of NN and LR\n",
    "plt.figure(figsize=(15,10))\n",
    "\n",
    "# Neural Network plots\n",
    "plt.plot(acc_nn.accuracies, 'r-', label = \"Training Accuracies - NN\")\n",
    "plt.plot(acc_nn.test_accuracies, 'g-', label = \"Testing Accuracies - NN\")\n",
    "\n",
    "# Logistic Regression plots\n",
    "plt.plot(acc_lr.accuracies, 'k-', label = \"Training Accuracies - LR\")\n",
    "plt.plot(acc_lr.test_accuracies, 'b-', label = \"Testing Accuracies - LR\")\n",
    "plt.legend()"
   ]
  },
  {
   "cell_type": "markdown",
   "id": "80dfb35c",
   "metadata": {
    "papermill": {
     "duration": 0.056632,
     "end_time": "2022-06-13T20:13:37.354249",
     "exception": false,
     "start_time": "2022-06-13T20:13:37.297617",
     "status": "completed"
    },
    "tags": []
   },
   "source": [
    "#### Plotting the outputs of this layer of the NN.\n"
   ]
  },
  {
   "cell_type": "code",
   "execution_count": 25,
   "id": "45eb2ff5",
   "metadata": {
    "execution": {
     "iopub.execute_input": "2022-06-13T20:13:37.474147Z",
     "iopub.status.busy": "2022-06-13T20:13:37.473275Z",
     "iopub.status.idle": "2022-06-13T20:13:37.501372Z",
     "shell.execute_reply": "2022-06-13T20:13:37.501937Z"
    },
    "papermill": {
     "duration": 0.091286,
     "end_time": "2022-06-13T20:13:37.502132",
     "exception": false,
     "start_time": "2022-06-13T20:13:37.410846",
     "status": "completed"
    },
    "tags": []
   },
   "outputs": [],
   "source": [
    "new_model = Model(layers[:-2])\n",
    "testing_plot = new_model(testing_data_x)"
   ]
  },
  {
   "cell_type": "code",
   "execution_count": 26,
   "id": "4c0a5485",
   "metadata": {
    "execution": {
     "iopub.execute_input": "2022-06-13T20:13:37.629164Z",
     "iopub.status.busy": "2022-06-13T20:13:37.628374Z",
     "iopub.status.idle": "2022-06-13T20:13:37.919206Z",
     "shell.execute_reply": "2022-06-13T20:13:37.919775Z"
    },
    "papermill": {
     "duration": 0.361554,
     "end_time": "2022-06-13T20:13:37.920001",
     "exception": false,
     "start_time": "2022-06-13T20:13:37.558447",
     "status": "completed"
    },
    "tags": []
   },
   "outputs": [
    {
     "data": {
      "text/plain": [
       "Text(0.5, 1.0, 'Outputs')"
      ]
     },
     "execution_count": 26,
     "metadata": {},
     "output_type": "execute_result"
    },
    {
     "data": {
      "image/png": "[encoded data removed]",
      "text/plain": [
       "<Figure size 576x504 with 1 Axes>"
      ]
     },
     "metadata": {
      "needs_background": "light"
     },
     "output_type": "display_data"
    }
   ],
   "source": [
    "# Plotting the scatter plot of points and color coding by class\n",
    "plt.figure(figsize=(8,7))\n",
    "plt.scatter(testing_plot[:,0], testing_plot[:,1], alpha = 0.1, c = y_test.ravel());\n",
    "plt.title('Outputs')"
   ]
  },
  {
   "cell_type": "markdown",
   "id": "a74fcf8f",
   "metadata": {
    "papermill": {
     "duration": 0.083306,
     "end_time": "2022-06-13T20:13:38.061703",
     "exception": false,
     "start_time": "2022-06-13T20:13:37.978397",
     "status": "completed"
    },
    "tags": []
   },
   "source": [
    "Probability contours"
   ]
  },
  {
   "cell_type": "code",
   "execution_count": 27,
   "id": "d0afc8e3",
   "metadata": {
    "execution": {
     "iopub.execute_input": "2022-06-13T20:13:38.194177Z",
     "iopub.status.busy": "2022-06-13T20:13:38.190196Z",
     "iopub.status.idle": "2022-06-13T20:13:38.203090Z",
     "shell.execute_reply": "2022-06-13T20:13:38.203730Z"
    },
    "papermill": {
     "duration": 0.082299,
     "end_time": "2022-06-13T20:13:38.203882",
     "exception": false,
     "start_time": "2022-06-13T20:13:38.121583",
     "status": "completed"
    },
    "tags": []
   },
   "outputs": [],
   "source": [
    "model_prob = Model(layers[-2:]) "
   ]
  },
  {
   "cell_type": "code",
   "execution_count": 28,
   "id": "9b96e238",
   "metadata": {
    "execution": {
     "iopub.execute_input": "2022-06-13T20:13:38.328910Z",
     "iopub.status.busy": "2022-06-13T20:13:38.326732Z",
     "iopub.status.idle": "2022-06-13T20:13:38.343451Z",
     "shell.execute_reply": "2022-06-13T20:13:38.342817Z"
    },
    "papermill": {
     "duration": 0.080608,
     "end_time": "2022-06-13T20:13:38.343591",
     "exception": false,
     "start_time": "2022-06-13T20:13:38.262983",
     "status": "completed"
    },
    "tags": []
   },
   "outputs": [],
   "source": [
    "#creating the x and y ranges according to the above generated plot.\n",
    "x_range = np.linspace(-4, 1, 100) \n",
    "y_range = np.linspace(-6, 6, 100) \n",
    "x_grid, y_grid = np.meshgrid(x_range, y_range) # x_grid and y_grig are of size 100 X 100\n",
    "\n",
    "# converting x_grid and y_grid to continuous arrays\n",
    "x_gridflat = np.ravel(x_grid)\n",
    "y_gridflat = np.ravel(y_grid)\n",
    "\n",
    "# The last layer of the current model takes two columns as input. Hence transpose of np.vstack() is required.\n",
    "X = np.vstack((x_gridflat, y_gridflat)).T\n",
    "\n",
    "prob_contour = model_prob(X).reshape(100,100) "
   ]
  },
  {
   "cell_type": "code",
   "execution_count": 29,
   "id": "da72499a",
   "metadata": {
    "execution": {
     "iopub.execute_input": "2022-06-13T20:13:38.467757Z",
     "iopub.status.busy": "2022-06-13T20:13:38.466941Z",
     "iopub.status.idle": "2022-06-13T20:13:38.805299Z",
     "shell.execute_reply": "2022-06-13T20:13:38.805901Z"
    },
    "papermill": {
     "duration": 0.404302,
     "end_time": "2022-06-13T20:13:38.806123",
     "exception": false,
     "start_time": "2022-06-13T20:13:38.401821",
     "status": "completed"
    },
    "tags": []
   },
   "outputs": [
    {
     "data": {
      "image/png": "[encoded data removed]",
      "text/plain": [
       "<Figure size 720x648 with 1 Axes>"
      ]
     },
     "metadata": {
      "needs_background": "light"
     },
     "output_type": "display_data"
    }
   ],
   "source": [
    "plt.figure(figsize=(10,9))\n",
    "plt.scatter(testing_plot[:,0], testing_plot[:,1], alpha = 0.1, c = y_test.ravel())\n",
    "contours = plt.contour(x_grid,y_grid,prob_contour)\n",
    "plt.title('Probability Contours')\n",
    "plt.clabel(contours, inline = True );"
   ]
  },
  {
   "cell_type": "code",
   "execution_count": null,
   "id": "e81b4ac7",
   "metadata": {
    "papermill": {
     "duration": 0.06292,
     "end_time": "2022-06-13T20:13:38.934794",
     "exception": false,
     "start_time": "2022-06-13T20:13:38.871874",
     "status": "completed"
    },
    "tags": []
   },
   "outputs": [],
   "source": []
  }
 ],
 "metadata": {
  "kernelspec": {
   "display_name": "Python 3",
   "language": "python",
   "name": "python3"
  },
  "language_info": {
   "codemirror_mode": {
    "name": "ipython",
    "version": 3
   },
   "file_extension": ".py",
   "mimetype": "text/x-python",
   "name": "python",
   "nbconvert_exporter": "python",
   "pygments_lexer": "ipython3",
   "version": "3.6.15"
  },
  "papermill": {
   "default_parameters": {},
   "duration": 177.048427,
   "end_time": "2022-06-13T20:13:39.419093",
   "environment_variables": {},
   "exception": null,
   "input_path": "2020-08-11-part2.ipynb",
   "output_path": "2020-08-11-part2.ipynb",
   "parameters": {},
   "start_time": "2022-06-13T20:10:42.370666",
   "version": "2.3.3"
  }
 },
 "nbformat": 4,
 "nbformat_minor": 5
}