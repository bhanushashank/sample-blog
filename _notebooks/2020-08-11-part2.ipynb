{
 "cells": [
  {
   "cell_type": "markdown",
   "id": "98380cd3",
   "metadata": {
    "papermill": {
     "duration": 0.03888,
     "end_time": "2022-03-30T00:32:50.554024",
     "exception": false,
     "start_time": "2022-03-30T00:32:50.515144",
     "status": "completed"
    },
    "tags": []
   },
   "source": [
    "# Distinguish Your Own Digits (DYOD)"
   ]
  },
  {
   "cell_type": "markdown",
   "id": "ef31240d",
   "metadata": {
    "papermill": {
     "duration": 0.036554,
     "end_time": "2022-03-30T00:32:50.626585",
     "exception": false,
     "start_time": "2022-03-30T00:32:50.590031",
     "status": "completed"
    },
    "tags": []
   },
   "source": [
    "You are going to write a classifier that distinguishes between the number 3 and number 8."
   ]
  },
  {
   "cell_type": "code",
   "execution_count": 1,
   "id": "b15c8646",
   "metadata": {
    "execution": {
     "iopub.execute_input": "2022-03-30T00:32:50.713678Z",
     "iopub.status.busy": "2022-03-30T00:32:50.712926Z",
     "iopub.status.idle": "2022-03-30T00:32:50.729978Z",
     "shell.execute_reply": "2022-03-30T00:32:50.729334Z"
    },
    "papermill": {
     "duration": 0.067569,
     "end_time": "2022-03-30T00:32:50.730151",
     "exception": false,
     "start_time": "2022-03-30T00:32:50.662582",
     "status": "completed"
    },
    "tags": []
   },
   "outputs": [],
   "source": [
    "%load_ext autoreload\n",
    "%autoreload 2"
   ]
  },
  {
   "cell_type": "code",
   "execution_count": 2,
   "id": "22ef38dc",
   "metadata": {
    "execution": {
     "iopub.execute_input": "2022-03-30T00:32:50.815050Z",
     "iopub.status.busy": "2022-03-30T00:32:50.814179Z",
     "iopub.status.idle": "2022-03-30T00:32:51.593711Z",
     "shell.execute_reply": "2022-03-30T00:32:51.594266Z"
    },
    "papermill": {
     "duration": 0.821138,
     "end_time": "2022-03-30T00:32:51.594446",
     "exception": false,
     "start_time": "2022-03-30T00:32:50.773308",
     "status": "completed"
    },
    "tags": []
   },
   "outputs": [],
   "source": [
    "%matplotlib inline\n",
    "import numpy as np\n",
    "import matplotlib.pyplot as plt\n",
    "import pandas as pd"
   ]
  },
  {
   "cell_type": "markdown",
   "id": "ba036198",
   "metadata": {
    "papermill": {
     "duration": 0.032429,
     "end_time": "2022-03-30T00:32:51.658665",
     "exception": false,
     "start_time": "2022-03-30T00:32:51.626236",
     "status": "completed"
    },
    "tags": []
   },
   "source": [
    "From the command line run `pip install mnist`. This is a library that will help you bring down the mnist dataset. If you run this from a notebook, you need to put  `!pip install mnist` in a cell by itself."
   ]
  },
  {
   "cell_type": "code",
   "execution_count": 3,
   "id": "bb6ad8a1",
   "metadata": {
    "execution": {
     "iopub.execute_input": "2022-03-30T00:32:51.731855Z",
     "iopub.status.busy": "2022-03-30T00:32:51.731053Z",
     "iopub.status.idle": "2022-03-30T00:32:54.280913Z",
     "shell.execute_reply": "2022-03-30T00:32:54.280293Z"
    },
    "papermill": {
     "duration": 2.588035,
     "end_time": "2022-03-30T00:32:54.281064",
     "exception": false,
     "start_time": "2022-03-30T00:32:51.693029",
     "status": "completed"
    },
    "tags": []
   },
   "outputs": [
    {
     "name": "stdout",
     "output_type": "stream",
     "text": [
      "Collecting mnist\r\n"
     ]
    },
    {
     "name": "stdout",
     "output_type": "stream",
     "text": [
      "  Downloading mnist-0.2.2-py2.py3-none-any.whl (3.5 kB)\r\n",
      "Requirement already satisfied: numpy in /opt/hostedtoolcache/Python/3.6.15/x64/lib/python3.6/site-packages (from mnist) (1.19.5)\r\n"
     ]
    },
    {
     "name": "stdout",
     "output_type": "stream",
     "text": [
      "Installing collected packages: mnist\r\n"
     ]
    },
    {
     "name": "stdout",
     "output_type": "stream",
     "text": [
      "Successfully installed mnist-0.2.2\r\n"
     ]
    }
   ],
   "source": [
    "!pip install mnist"
   ]
  },
  {
   "cell_type": "markdown",
   "id": "69df9c9a",
   "metadata": {
    "papermill": {
     "duration": 0.034464,
     "end_time": "2022-03-30T00:32:54.351420",
     "exception": false,
     "start_time": "2022-03-30T00:32:54.316956",
     "status": "completed"
    },
    "tags": []
   },
   "source": [
    "## Preparing the Data"
   ]
  },
  {
   "cell_type": "code",
   "execution_count": 4,
   "id": "7f69d806",
   "metadata": {
    "execution": {
     "iopub.execute_input": "2022-03-30T00:32:54.422662Z",
     "iopub.status.busy": "2022-03-30T00:32:54.421967Z",
     "iopub.status.idle": "2022-03-30T00:32:54.446720Z",
     "shell.execute_reply": "2022-03-30T00:32:54.446017Z"
    },
    "papermill": {
     "duration": 0.062059,
     "end_time": "2022-03-30T00:32:54.446879",
     "exception": false,
     "start_time": "2022-03-30T00:32:54.384820",
     "status": "completed"
    },
    "tags": []
   },
   "outputs": [],
   "source": [
    "import mnist"
   ]
  },
  {
   "cell_type": "code",
   "execution_count": 5,
   "id": "a411e44f",
   "metadata": {
    "execution": {
     "iopub.execute_input": "2022-03-30T00:32:54.524080Z",
     "iopub.status.busy": "2022-03-30T00:32:54.523193Z",
     "iopub.status.idle": "2022-03-30T00:32:55.215508Z",
     "shell.execute_reply": "2022-03-30T00:32:55.214832Z"
    },
    "papermill": {
     "duration": 0.732122,
     "end_time": "2022-03-30T00:32:55.215692",
     "exception": false,
     "start_time": "2022-03-30T00:32:54.483570",
     "status": "completed"
    },
    "tags": []
   },
   "outputs": [],
   "source": [
    "train_images = mnist.train_images()\n",
    "train_labels = mnist.train_labels()"
   ]
  },
  {
   "cell_type": "code",
   "execution_count": 6,
   "id": "dceab3a5",
   "metadata": {
    "execution": {
     "iopub.execute_input": "2022-03-30T00:32:55.296055Z",
     "iopub.status.busy": "2022-03-30T00:32:55.295237Z",
     "iopub.status.idle": "2022-03-30T00:32:55.310090Z",
     "shell.execute_reply": "2022-03-30T00:32:55.309214Z"
    },
    "papermill": {
     "duration": 0.059335,
     "end_time": "2022-03-30T00:32:55.310248",
     "exception": false,
     "start_time": "2022-03-30T00:32:55.250913",
     "status": "completed"
    },
    "tags": []
   },
   "outputs": [
    {
     "data": {
      "text/plain": [
       "((60000, 28, 28), (60000,))"
      ]
     },
     "execution_count": 6,
     "metadata": {},
     "output_type": "execute_result"
    }
   ],
   "source": [
    "train_images.shape, train_labels.shape"
   ]
  },
  {
   "cell_type": "code",
   "execution_count": 7,
   "id": "f50dc2bb",
   "metadata": {
    "execution": {
     "iopub.execute_input": "2022-03-30T00:32:55.389988Z",
     "iopub.status.busy": "2022-03-30T00:32:55.389281Z",
     "iopub.status.idle": "2022-03-30T00:32:55.613355Z",
     "shell.execute_reply": "2022-03-30T00:32:55.612702Z"
    },
    "papermill": {
     "duration": 0.266704,
     "end_time": "2022-03-30T00:32:55.613505",
     "exception": false,
     "start_time": "2022-03-30T00:32:55.346801",
     "status": "completed"
    },
    "tags": []
   },
   "outputs": [],
   "source": [
    "test_images = mnist.test_images()\n",
    "test_labels = mnist.test_labels()"
   ]
  },
  {
   "cell_type": "code",
   "execution_count": 8,
   "id": "fc38cf1b",
   "metadata": {
    "execution": {
     "iopub.execute_input": "2022-03-30T00:32:55.691615Z",
     "iopub.status.busy": "2022-03-30T00:32:55.690910Z",
     "iopub.status.idle": "2022-03-30T00:32:55.708052Z",
     "shell.execute_reply": "2022-03-30T00:32:55.707287Z"
    },
    "papermill": {
     "duration": 0.057816,
     "end_time": "2022-03-30T00:32:55.708195",
     "exception": false,
     "start_time": "2022-03-30T00:32:55.650379",
     "status": "completed"
    },
    "tags": []
   },
   "outputs": [
    {
     "data": {
      "text/plain": [
       "((10000, 28, 28), (10000,))"
      ]
     },
     "execution_count": 8,
     "metadata": {},
     "output_type": "execute_result"
    }
   ],
   "source": [
    "test_images.shape, test_labels.shape"
   ]
  },
  {
   "cell_type": "code",
   "execution_count": 9,
   "id": "f9ed8fe0",
   "metadata": {
    "execution": {
     "iopub.execute_input": "2022-03-30T00:32:55.784254Z",
     "iopub.status.busy": "2022-03-30T00:32:55.783505Z",
     "iopub.status.idle": "2022-03-30T00:32:55.984482Z",
     "shell.execute_reply": "2022-03-30T00:32:55.983894Z"
    },
    "papermill": {
     "duration": 0.242342,
     "end_time": "2022-03-30T00:32:55.984643",
     "exception": false,
     "start_time": "2022-03-30T00:32:55.742301",
     "status": "completed"
    },
    "tags": []
   },
   "outputs": [
    {
     "name": "stdout",
     "output_type": "stream",
     "text": [
      "2\n"
     ]
    },
    {
     "data": {
      "text/plain": [
       "<matplotlib.image.AxesImage at 0x7f3231278550>"
      ]
     },
     "execution_count": 9,
     "metadata": {},
     "output_type": "execute_result"
    },
    {
     "data": {
      "image/png": "[encoded data removed]",
      "text/plain": [
       "<Figure size 432x288 with 1 Axes>"
      ]
     },
     "metadata": {
      "needs_background": "light"
     },
     "output_type": "display_data"
    }
   ],
   "source": [
    "image_index = 7776 # You may select anything up to 60,000\n",
    "print(train_labels[image_index]) \n",
    "plt.imshow(train_images[image_index], cmap='Greys')"
   ]
  },
  {
   "cell_type": "markdown",
   "id": "a8d2388d",
   "metadata": {
    "papermill": {
     "duration": 0.037245,
     "end_time": "2022-03-30T00:32:56.057590",
     "exception": false,
     "start_time": "2022-03-30T00:32:56.020345",
     "status": "completed"
    },
    "tags": []
   },
   "source": [
    "## Filter data to get 3 and 8 out"
   ]
  },
  {
   "cell_type": "code",
   "execution_count": 10,
   "id": "776f7fc7",
   "metadata": {
    "execution": {
     "iopub.execute_input": "2022-03-30T00:32:56.143806Z",
     "iopub.status.busy": "2022-03-30T00:32:56.142997Z",
     "iopub.status.idle": "2022-03-30T00:32:56.167069Z",
     "shell.execute_reply": "2022-03-30T00:32:56.166473Z"
    },
    "papermill": {
     "duration": 0.066021,
     "end_time": "2022-03-30T00:32:56.167225",
     "exception": false,
     "start_time": "2022-03-30T00:32:56.101204",
     "status": "completed"
    },
    "tags": []
   },
   "outputs": [],
   "source": [
    "train_filter = np.where((train_labels == 3 ) | (train_labels == 8))\n",
    "test_filter = np.where((test_labels == 3) | (test_labels == 8))\n",
    "X_train, y_train = train_images[train_filter], train_labels[train_filter]\n",
    "X_test, y_test = test_images[test_filter], test_labels[test_filter]"
   ]
  },
  {
   "cell_type": "markdown",
   "id": "948f0b7e",
   "metadata": {
    "papermill": {
     "duration": 0.037104,
     "end_time": "2022-03-30T00:32:56.240961",
     "exception": false,
     "start_time": "2022-03-30T00:32:56.203857",
     "status": "completed"
    },
    "tags": []
   },
   "source": [
    "We normalize the pizel values in the 0 to 1 range"
   ]
  },
  {
   "cell_type": "code",
   "execution_count": 11,
   "id": "ee4c2166",
   "metadata": {
    "execution": {
     "iopub.execute_input": "2022-03-30T00:32:56.320946Z",
     "iopub.status.busy": "2022-03-30T00:32:56.319912Z",
     "iopub.status.idle": "2022-03-30T00:32:56.396272Z",
     "shell.execute_reply": "2022-03-30T00:32:56.395659Z"
    },
    "papermill": {
     "duration": 0.117857,
     "end_time": "2022-03-30T00:32:56.396441",
     "exception": false,
     "start_time": "2022-03-30T00:32:56.278584",
     "status": "completed"
    },
    "tags": []
   },
   "outputs": [],
   "source": [
    "X_train = X_train/255.\n",
    "X_test = X_test/255."
   ]
  },
  {
   "cell_type": "markdown",
   "id": "ddcf4fab",
   "metadata": {
    "papermill": {
     "duration": 0.03773,
     "end_time": "2022-03-30T00:32:56.471350",
     "exception": false,
     "start_time": "2022-03-30T00:32:56.433620",
     "status": "completed"
    },
    "tags": []
   },
   "source": [
    "And setup the labels as 1 (when the digit is 3) and 0 (when the digit is 8)"
   ]
  },
  {
   "cell_type": "code",
   "execution_count": 12,
   "id": "7dc908f2",
   "metadata": {
    "execution": {
     "iopub.execute_input": "2022-03-30T00:32:56.550628Z",
     "iopub.status.busy": "2022-03-30T00:32:56.549886Z",
     "iopub.status.idle": "2022-03-30T00:32:56.566004Z",
     "shell.execute_reply": "2022-03-30T00:32:56.565328Z"
    },
    "papermill": {
     "duration": 0.05693,
     "end_time": "2022-03-30T00:32:56.566158",
     "exception": false,
     "start_time": "2022-03-30T00:32:56.509228",
     "status": "completed"
    },
    "tags": []
   },
   "outputs": [],
   "source": [
    "y_train = 1*(y_train==3)\n",
    "y_test = 1*(y_test==3)"
   ]
  },
  {
   "cell_type": "code",
   "execution_count": 13,
   "id": "01e4e969",
   "metadata": {
    "execution": {
     "iopub.execute_input": "2022-03-30T00:32:56.644918Z",
     "iopub.status.busy": "2022-03-30T00:32:56.644229Z",
     "iopub.status.idle": "2022-03-30T00:32:56.661751Z",
     "shell.execute_reply": "2022-03-30T00:32:56.662315Z"
    },
    "papermill": {
     "duration": 0.05982,
     "end_time": "2022-03-30T00:32:56.662484",
     "exception": false,
     "start_time": "2022-03-30T00:32:56.602664",
     "status": "completed"
    },
    "tags": []
   },
   "outputs": [
    {
     "data": {
      "text/plain": [
       "((11982, 28, 28), (1984, 28, 28))"
      ]
     },
     "execution_count": 13,
     "metadata": {},
     "output_type": "execute_result"
    }
   ],
   "source": [
    "X_train.shape, X_test.shape"
   ]
  },
  {
   "cell_type": "markdown",
   "id": "5ccf3f85",
   "metadata": {
    "papermill": {
     "duration": 0.036295,
     "end_time": "2022-03-30T00:32:56.735232",
     "exception": false,
     "start_time": "2022-03-30T00:32:56.698937",
     "status": "completed"
    },
    "tags": []
   },
   "source": [
    "We reshape the data to flatten the image pixels into a set of features or co-variates:"
   ]
  },
  {
   "cell_type": "code",
   "execution_count": 14,
   "id": "5286a4a3",
   "metadata": {
    "execution": {
     "iopub.execute_input": "2022-03-30T00:32:56.814581Z",
     "iopub.status.busy": "2022-03-30T00:32:56.813873Z",
     "iopub.status.idle": "2022-03-30T00:32:56.831135Z",
     "shell.execute_reply": "2022-03-30T00:32:56.830567Z"
    },
    "papermill": {
     "duration": 0.059672,
     "end_time": "2022-03-30T00:32:56.831278",
     "exception": false,
     "start_time": "2022-03-30T00:32:56.771606",
     "status": "completed"
    },
    "tags": []
   },
   "outputs": [
    {
     "data": {
      "text/plain": [
       "((11982, 784), (1984, 784))"
      ]
     },
     "execution_count": 14,
     "metadata": {},
     "output_type": "execute_result"
    }
   ],
   "source": [
    "X_train = X_train.reshape(X_train.shape[0], -1)\n",
    "X_test = X_test.reshape(X_test.shape[0], -1)\n",
    "X_train.shape, X_test.shape"
   ]
  },
  {
   "cell_type": "code",
   "execution_count": 15,
   "id": "73c5f88a",
   "metadata": {
    "execution": {
     "iopub.execute_input": "2022-03-30T00:32:56.917295Z",
     "iopub.status.busy": "2022-03-30T00:32:56.916511Z",
     "iopub.status.idle": "2022-03-30T00:32:56.938649Z",
     "shell.execute_reply": "2022-03-30T00:32:56.939256Z"
    },
    "papermill": {
     "duration": 0.069509,
     "end_time": "2022-03-30T00:32:56.939537",
     "exception": false,
     "start_time": "2022-03-30T00:32:56.870028",
     "status": "completed"
    },
    "tags": []
   },
   "outputs": [],
   "source": [
    "#Impoting functions from 'Kudzu'\n",
    "from kudzu.model import Model\n",
    "from kudzu.train import Learner\n",
    "from kudzu.optim import GD\n",
    "from kudzu.data import Data, Sampler,Dataloader\n",
    "\n",
    "from kudzu.callbacks import AccCallback\n",
    "from kudzu.callbacks import ClfCallback\n",
    "\n",
    "from kudzu.loss import MSE\n",
    "\n",
    "from kudzu.layer import Sigmoid,Relu\n",
    "from kudzu.layer import Affine"
   ]
  },
  {
   "cell_type": "markdown",
   "id": "bc01172a",
   "metadata": {
    "papermill": {
     "duration": 0.034552,
     "end_time": "2022-03-30T00:32:57.011239",
     "exception": false,
     "start_time": "2022-03-30T00:32:56.976687",
     "status": "completed"
    },
    "tags": []
   },
   "source": [
    "### Let us create a `Config` class, to store important parameters. \n",
    "This class essentially plays the role of a dictionary."
   ]
  },
  {
   "cell_type": "code",
   "execution_count": 16,
   "id": "978281aa",
   "metadata": {
    "execution": {
     "iopub.execute_input": "2022-03-30T00:32:57.093747Z",
     "iopub.status.busy": "2022-03-30T00:32:57.093003Z",
     "iopub.status.idle": "2022-03-30T00:32:57.107184Z",
     "shell.execute_reply": "2022-03-30T00:32:57.106661Z"
    },
    "papermill": {
     "duration": 0.058182,
     "end_time": "2022-03-30T00:32:57.107357",
     "exception": false,
     "start_time": "2022-03-30T00:32:57.049175",
     "status": "completed"
    },
    "tags": []
   },
   "outputs": [],
   "source": [
    "class Config:\n",
    "    pass\n",
    "config = Config()\n",
    "config.lr = 0.001\n",
    "config.num_epochs = 250\n",
    "config.bs = 50"
   ]
  },
  {
   "cell_type": "markdown",
   "id": "1385fa59",
   "metadata": {
    "papermill": {
     "duration": 0.036882,
     "end_time": "2022-03-30T00:32:57.181144",
     "exception": false,
     "start_time": "2022-03-30T00:32:57.144262",
     "status": "completed"
    },
    "tags": []
   },
   "source": [
    "### Running Models with the Training data\n",
    "Details about the network layers:\n",
    "- A first affine layer has 784 inputs and does 100 affine transforms. These are followed by a Relu\n",
    "- A second affine layer has 100 inputs from the 100 activations of the past layer, and does 100 affine transforms. These are followed by a Relu\n",
    "- A third affine layer has 100 activations and does 2 affine transformations to create an embedding for visualization. There is no non-linearity here.\n",
    "- A final \"logistic regression\" which has an affine transform from 2 inputs to 1 output, which is squeezed through a sigmoid.\n"
   ]
  },
  {
   "cell_type": "code",
   "execution_count": 17,
   "id": "2b9c66db",
   "metadata": {
    "execution": {
     "iopub.execute_input": "2022-03-30T00:32:57.262286Z",
     "iopub.status.busy": "2022-03-30T00:32:57.261580Z",
     "iopub.status.idle": "2022-03-30T00:32:57.280629Z",
     "shell.execute_reply": "2022-03-30T00:32:57.279906Z"
    },
    "papermill": {
     "duration": 0.062103,
     "end_time": "2022-03-30T00:32:57.280806",
     "exception": false,
     "start_time": "2022-03-30T00:32:57.218703",
     "status": "completed"
    },
    "tags": []
   },
   "outputs": [],
   "source": [
    "data = Data(X_train, y_train.reshape(-1,1))\n",
    "sampler = Sampler(data, config.bs, shuffle=True)\n",
    "\n",
    "dl = Dataloader(data, sampler)\n",
    "\n",
    "opt = GD(config.lr)\n",
    "loss = MSE()"
   ]
  },
  {
   "cell_type": "code",
   "execution_count": 18,
   "id": "b275e4c2",
   "metadata": {
    "execution": {
     "iopub.execute_input": "2022-03-30T00:32:57.360725Z",
     "iopub.status.busy": "2022-03-30T00:32:57.360002Z",
     "iopub.status.idle": "2022-03-30T00:32:57.373992Z",
     "shell.execute_reply": "2022-03-30T00:32:57.374568Z"
    },
    "papermill": {
     "duration": 0.056161,
     "end_time": "2022-03-30T00:32:57.374723",
     "exception": false,
     "start_time": "2022-03-30T00:32:57.318562",
     "status": "completed"
    },
    "tags": []
   },
   "outputs": [],
   "source": [
    "training_data_x = X_train\n",
    "testing_data_x = X_test\n",
    "training_data_y = y_train.reshape(-1,1)\n",
    "testing_data_y = y_test.reshape(-1,1)"
   ]
  },
  {
   "cell_type": "code",
   "execution_count": 19,
   "id": "76951160",
   "metadata": {
    "execution": {
     "iopub.execute_input": "2022-03-30T00:32:57.457301Z",
     "iopub.status.busy": "2022-03-30T00:32:57.456551Z",
     "iopub.status.idle": "2022-03-30T00:32:57.474652Z",
     "shell.execute_reply": "2022-03-30T00:32:57.475346Z"
    },
    "papermill": {
     "duration": 0.062848,
     "end_time": "2022-03-30T00:32:57.475522",
     "exception": false,
     "start_time": "2022-03-30T00:32:57.412674",
     "status": "completed"
    },
    "tags": []
   },
   "outputs": [
    {
     "name": "stdout",
     "output_type": "stream",
     "text": [
      "xavier\n",
      "xavier\n",
      "xavier\n",
      "xavier\n",
      "xavier\n"
     ]
    }
   ],
   "source": [
    "layers = [Affine(\"first\", 784, 100), Relu(\"first\"), Affine(\"second\", 100, 100), Relu(\"second\"), Affine(\"third\", 100, 2), Affine(\"last\", 2, 1), Sigmoid(\"last\")]\n",
    "model_nn = Model(layers)\n",
    "model_lr = Model([Affine(\"logits\", 784, 1), Sigmoid(\"sigmoid\")])"
   ]
  },
  {
   "cell_type": "code",
   "execution_count": 20,
   "id": "6eede77a",
   "metadata": {
    "execution": {
     "iopub.execute_input": "2022-03-30T00:32:57.559976Z",
     "iopub.status.busy": "2022-03-30T00:32:57.559142Z",
     "iopub.status.idle": "2022-03-30T00:32:57.574148Z",
     "shell.execute_reply": "2022-03-30T00:32:57.574741Z"
    },
    "papermill": {
     "duration": 0.060288,
     "end_time": "2022-03-30T00:32:57.574918",
     "exception": false,
     "start_time": "2022-03-30T00:32:57.514630",
     "status": "completed"
    },
    "tags": []
   },
   "outputs": [],
   "source": [
    "nn_learner = Learner(loss, model_nn, opt, config.num_epochs)\n",
    "acc_nn = ClfCallback(nn_learner, config.bs, training_data_x , testing_data_x, training_data_y, testing_data_y)\n",
    "nn_learner.set_callbacks([acc_nn])"
   ]
  },
  {
   "cell_type": "code",
   "execution_count": 21,
   "id": "877b6cc7",
   "metadata": {
    "execution": {
     "iopub.execute_input": "2022-03-30T00:32:57.658732Z",
     "iopub.status.busy": "2022-03-30T00:32:57.653697Z",
     "iopub.status.idle": "2022-03-30T00:32:57.670098Z",
     "shell.execute_reply": "2022-03-30T00:32:57.669466Z"
    },
    "papermill": {
     "duration": 0.057589,
     "end_time": "2022-03-30T00:32:57.670247",
     "exception": false,
     "start_time": "2022-03-30T00:32:57.612658",
     "status": "completed"
    },
    "tags": []
   },
   "outputs": [],
   "source": [
    "lr_learner = Learner(loss, model_lr, opt, config.num_epochs)\n",
    "acc_lr = ClfCallback(lr_learner, config.bs, training_data_x , testing_data_x, training_data_y, testing_data_y)\n",
    "lr_learner.set_callbacks([acc_lr])"
   ]
  },
  {
   "cell_type": "code",
   "execution_count": 22,
   "id": "d9b133c3",
   "metadata": {
    "execution": {
     "iopub.execute_input": "2022-03-30T00:32:57.752790Z",
     "iopub.status.busy": "2022-03-30T00:32:57.752074Z",
     "iopub.status.idle": "2022-03-30T00:35:27.630142Z",
     "shell.execute_reply": "2022-03-30T00:35:27.631050Z"
    },
    "papermill": {
     "duration": 149.922804,
     "end_time": "2022-03-30T00:35:27.631228",
     "exception": false,
     "start_time": "2022-03-30T00:32:57.708424",
     "status": "completed"
    },
    "tags": []
   },
   "outputs": [
    {
     "name": "stdout",
     "output_type": "stream",
     "text": [
      "Epoch 0, Loss 0.2357\n",
      "Training Accuracy: 0.7435, Testing Accuracy: 0.7510\n",
      "\n"
     ]
    },
    {
     "name": "stdout",
     "output_type": "stream",
     "text": [
      "Epoch 10, Loss 0.0668\n",
      "Training Accuracy: 0.9343, Testing Accuracy: 0.9476\n",
      "\n"
     ]
    },
    {
     "name": "stdout",
     "output_type": "stream",
     "text": [
      "Epoch 20, Loss 0.045\n",
      "Training Accuracy: 0.9514, Testing Accuracy: 0.9627\n",
      "\n"
     ]
    },
    {
     "name": "stdout",
     "output_type": "stream",
     "text": [
      "Epoch 30, Loss 0.037\n",
      "Training Accuracy: 0.9592, Testing Accuracy: 0.9698\n",
      "\n"
     ]
    },
    {
     "name": "stdout",
     "output_type": "stream",
     "text": [
      "Epoch 40, Loss 0.0329\n",
      "Training Accuracy: 0.9629, Testing Accuracy: 0.9698\n",
      "\n"
     ]
    },
    {
     "name": "stdout",
     "output_type": "stream",
     "text": [
      "Epoch 50, Loss 0.0302\n",
      "Training Accuracy: 0.9656, Testing Accuracy: 0.9703\n",
      "\n"
     ]
    },
    {
     "name": "stdout",
     "output_type": "stream",
     "text": [
      "Epoch 60, Loss 0.0283\n",
      "Training Accuracy: 0.9676, Testing Accuracy: 0.9713\n",
      "\n"
     ]
    },
    {
     "name": "stdout",
     "output_type": "stream",
     "text": [
      "Epoch 70, Loss 0.0269\n",
      "Training Accuracy: 0.9690, Testing Accuracy: 0.9713\n",
      "\n"
     ]
    },
    {
     "name": "stdout",
     "output_type": "stream",
     "text": [
      "Epoch 80, Loss 0.0257\n",
      "Training Accuracy: 0.9705, Testing Accuracy: 0.9708\n",
      "\n"
     ]
    },
    {
     "name": "stdout",
     "output_type": "stream",
     "text": [
      "Epoch 90, Loss 0.0247\n",
      "Training Accuracy: 0.9715, Testing Accuracy: 0.9718\n",
      "\n"
     ]
    },
    {
     "name": "stdout",
     "output_type": "stream",
     "text": [
      "Epoch 100, Loss 0.0239\n",
      "Training Accuracy: 0.9725, Testing Accuracy: 0.9713\n",
      "\n"
     ]
    },
    {
     "name": "stdout",
     "output_type": "stream",
     "text": [
      "Epoch 110, Loss 0.0231\n",
      "Training Accuracy: 0.9731, Testing Accuracy: 0.9713\n",
      "\n"
     ]
    },
    {
     "name": "stdout",
     "output_type": "stream",
     "text": [
      "Epoch 120, Loss 0.0224\n",
      "Training Accuracy: 0.9738, Testing Accuracy: 0.9723\n",
      "\n"
     ]
    },
    {
     "name": "stdout",
     "output_type": "stream",
     "text": [
      "Epoch 130, Loss 0.0218\n",
      "Training Accuracy: 0.9746, Testing Accuracy: 0.9728\n",
      "\n"
     ]
    },
    {
     "name": "stdout",
     "output_type": "stream",
     "text": [
      "Epoch 140, Loss 0.0212\n",
      "Training Accuracy: 0.9760, Testing Accuracy: 0.9728\n",
      "\n"
     ]
    },
    {
     "name": "stdout",
     "output_type": "stream",
     "text": [
      "Epoch 150, Loss 0.0206\n",
      "Training Accuracy: 0.9766, Testing Accuracy: 0.9738\n",
      "\n"
     ]
    },
    {
     "name": "stdout",
     "output_type": "stream",
     "text": [
      "Epoch 160, Loss 0.0201\n",
      "Training Accuracy: 0.9775, Testing Accuracy: 0.9758\n",
      "\n"
     ]
    },
    {
     "name": "stdout",
     "output_type": "stream",
     "text": [
      "Epoch 170, Loss 0.0196\n",
      "Training Accuracy: 0.9780, Testing Accuracy: 0.9753\n",
      "\n"
     ]
    },
    {
     "name": "stdout",
     "output_type": "stream",
     "text": [
      "Epoch 180, Loss 0.0192\n",
      "Training Accuracy: 0.9787, Testing Accuracy: 0.9758\n",
      "\n"
     ]
    },
    {
     "name": "stdout",
     "output_type": "stream",
     "text": [
      "Epoch 190, Loss 0.0187\n",
      "Training Accuracy: 0.9794, Testing Accuracy: 0.9768\n",
      "\n"
     ]
    },
    {
     "name": "stdout",
     "output_type": "stream",
     "text": [
      "Epoch 200, Loss 0.0183\n",
      "Training Accuracy: 0.9801, Testing Accuracy: 0.9768\n",
      "\n"
     ]
    },
    {
     "name": "stdout",
     "output_type": "stream",
     "text": [
      "Epoch 210, Loss 0.0179\n",
      "Training Accuracy: 0.9805, Testing Accuracy: 0.9768\n",
      "\n"
     ]
    },
    {
     "name": "stdout",
     "output_type": "stream",
     "text": [
      "Epoch 220, Loss 0.0175\n",
      "Training Accuracy: 0.9810, Testing Accuracy: 0.9778\n",
      "\n"
     ]
    },
    {
     "name": "stdout",
     "output_type": "stream",
     "text": [
      "Epoch 230, Loss 0.0171\n",
      "Training Accuracy: 0.9812, Testing Accuracy: 0.9778\n",
      "\n"
     ]
    },
    {
     "name": "stdout",
     "output_type": "stream",
     "text": [
      "Epoch 240, Loss 0.0167\n",
      "Training Accuracy: 0.9821, Testing Accuracy: 0.9778\n",
      "\n"
     ]
    },
    {
     "data": {
      "text/plain": [
       "0.04134934346447104"
      ]
     },
     "execution_count": 22,
     "metadata": {},
     "output_type": "execute_result"
    }
   ],
   "source": [
    "nn_learner.train_loop(dl)"
   ]
  },
  {
   "cell_type": "code",
   "execution_count": 23,
   "id": "e0163366",
   "metadata": {
    "execution": {
     "iopub.execute_input": "2022-03-30T00:35:27.749778Z",
     "iopub.status.busy": "2022-03-30T00:35:27.749055Z",
     "iopub.status.idle": "2022-03-30T00:35:49.262638Z",
     "shell.execute_reply": "2022-03-30T00:35:49.263621Z"
    },
    "papermill": {
     "duration": 21.572755,
     "end_time": "2022-03-30T00:35:49.263857",
     "exception": false,
     "start_time": "2022-03-30T00:35:27.691102",
     "status": "completed"
    },
    "tags": []
   },
   "outputs": [
    {
     "name": "stdout",
     "output_type": "stream",
     "text": [
      "Epoch 0, Loss 0.2676\n",
      "Training Accuracy: 0.5774, Testing Accuracy: 0.5635\n",
      "\n"
     ]
    },
    {
     "name": "stdout",
     "output_type": "stream",
     "text": [
      "Epoch 10, Loss 0.1056\n",
      "Training Accuracy: 0.9052, Testing Accuracy: 0.9128\n",
      "\n"
     ]
    },
    {
     "name": "stdout",
     "output_type": "stream",
     "text": [
      "Epoch 20, Loss 0.08\n",
      "Training Accuracy: 0.9261, Testing Accuracy: 0.9355\n",
      "\n"
     ]
    },
    {
     "name": "stdout",
     "output_type": "stream",
     "text": [
      "Epoch 30, Loss 0.0687\n",
      "Training Accuracy: 0.9349, Testing Accuracy: 0.9425\n",
      "\n"
     ]
    },
    {
     "name": "stdout",
     "output_type": "stream",
     "text": [
      "Epoch 40, Loss 0.062\n",
      "Training Accuracy: 0.9408, Testing Accuracy: 0.9476\n",
      "\n"
     ]
    },
    {
     "name": "stdout",
     "output_type": "stream",
     "text": [
      "Epoch 50, Loss 0.0574\n",
      "Training Accuracy: 0.9456, Testing Accuracy: 0.9516\n",
      "\n"
     ]
    },
    {
     "name": "stdout",
     "output_type": "stream",
     "text": [
      "Epoch 60, Loss 0.0541\n",
      "Training Accuracy: 0.9475, Testing Accuracy: 0.9546\n",
      "\n"
     ]
    },
    {
     "name": "stdout",
     "output_type": "stream",
     "text": [
      "Epoch 70, Loss 0.0515\n",
      "Training Accuracy: 0.9492, Testing Accuracy: 0.9577\n",
      "\n"
     ]
    },
    {
     "name": "stdout",
     "output_type": "stream",
     "text": [
      "Epoch 80, Loss 0.0494\n",
      "Training Accuracy: 0.9504, Testing Accuracy: 0.9592\n",
      "\n"
     ]
    },
    {
     "name": "stdout",
     "output_type": "stream",
     "text": [
      "Epoch 90, Loss 0.0477\n",
      "Training Accuracy: 0.9518, Testing Accuracy: 0.9612\n",
      "\n"
     ]
    },
    {
     "name": "stdout",
     "output_type": "stream",
     "text": [
      "Epoch 100, Loss 0.0463\n",
      "Training Accuracy: 0.9524, Testing Accuracy: 0.9622\n",
      "\n"
     ]
    },
    {
     "name": "stdout",
     "output_type": "stream",
     "text": [
      "Epoch 110, Loss 0.0451\n",
      "Training Accuracy: 0.9537, Testing Accuracy: 0.9632\n",
      "\n"
     ]
    },
    {
     "name": "stdout",
     "output_type": "stream",
     "text": [
      "Epoch 120, Loss 0.044\n",
      "Training Accuracy: 0.9548, Testing Accuracy: 0.9632\n",
      "\n"
     ]
    },
    {
     "name": "stdout",
     "output_type": "stream",
     "text": [
      "Epoch 130, Loss 0.0431\n",
      "Training Accuracy: 0.9553, Testing Accuracy: 0.9637\n",
      "\n"
     ]
    },
    {
     "name": "stdout",
     "output_type": "stream",
     "text": [
      "Epoch 140, Loss 0.0423\n",
      "Training Accuracy: 0.9557, Testing Accuracy: 0.9652\n",
      "\n"
     ]
    },
    {
     "name": "stdout",
     "output_type": "stream",
     "text": [
      "Epoch 150, Loss 0.0415\n",
      "Training Accuracy: 0.9564, Testing Accuracy: 0.9652\n",
      "\n"
     ]
    },
    {
     "name": "stdout",
     "output_type": "stream",
     "text": [
      "Epoch 160, Loss 0.0409\n",
      "Training Accuracy: 0.9569, Testing Accuracy: 0.9662\n",
      "\n"
     ]
    },
    {
     "name": "stdout",
     "output_type": "stream",
     "text": [
      "Epoch 170, Loss 0.0402\n",
      "Training Accuracy: 0.9574, Testing Accuracy: 0.9662\n",
      "\n"
     ]
    },
    {
     "name": "stdout",
     "output_type": "stream",
     "text": [
      "Epoch 180, Loss 0.0397\n",
      "Training Accuracy: 0.9576, Testing Accuracy: 0.9662\n",
      "\n"
     ]
    },
    {
     "name": "stdout",
     "output_type": "stream",
     "text": [
      "Epoch 190, Loss 0.0392\n",
      "Training Accuracy: 0.9584, Testing Accuracy: 0.9667\n",
      "\n"
     ]
    },
    {
     "name": "stdout",
     "output_type": "stream",
     "text": [
      "Epoch 200, Loss 0.0387\n",
      "Training Accuracy: 0.9587, Testing Accuracy: 0.9672\n",
      "\n"
     ]
    },
    {
     "name": "stdout",
     "output_type": "stream",
     "text": [
      "Epoch 210, Loss 0.0382\n",
      "Training Accuracy: 0.9591, Testing Accuracy: 0.9682\n",
      "\n"
     ]
    },
    {
     "name": "stdout",
     "output_type": "stream",
     "text": [
      "Epoch 220, Loss 0.0378\n",
      "Training Accuracy: 0.9595, Testing Accuracy: 0.9682\n",
      "\n"
     ]
    },
    {
     "name": "stdout",
     "output_type": "stream",
     "text": [
      "Epoch 230, Loss 0.0375\n",
      "Training Accuracy: 0.9598, Testing Accuracy: 0.9688\n",
      "\n"
     ]
    },
    {
     "name": "stdout",
     "output_type": "stream",
     "text": [
      "Epoch 240, Loss 0.0371\n",
      "Training Accuracy: 0.9599, Testing Accuracy: 0.9688\n",
      "\n"
     ]
    },
    {
     "data": {
      "text/plain": [
       "0.03819957120558799"
      ]
     },
     "execution_count": 23,
     "metadata": {},
     "output_type": "execute_result"
    }
   ],
   "source": [
    "lr_learner.train_loop(dl)"
   ]
  },
  {
   "cell_type": "code",
   "execution_count": 24,
   "id": "ca410940",
   "metadata": {
    "execution": {
     "iopub.execute_input": "2022-03-30T00:35:49.383113Z",
     "iopub.status.busy": "2022-03-30T00:35:49.381093Z",
     "iopub.status.idle": "2022-03-30T00:35:49.699703Z",
     "shell.execute_reply": "2022-03-30T00:35:49.699072Z"
    },
    "papermill": {
     "duration": 0.380278,
     "end_time": "2022-03-30T00:35:49.699861",
     "exception": false,
     "start_time": "2022-03-30T00:35:49.319583",
     "status": "completed"
    },
    "tags": []
   },
   "outputs": [
    {
     "data": {
      "text/plain": [
       "<matplotlib.legend.Legend at 0x7f3230e55c88>"
      ]
     },
     "execution_count": 24,
     "metadata": {},
     "output_type": "execute_result"
    },
    {
     "data": {
      "image/png": "[encoded data removed]",
      "text/plain": [
       "<Figure size 1080x720 with 1 Axes>"
      ]
     },
     "metadata": {
      "needs_background": "light"
     },
     "output_type": "display_data"
    }
   ],
   "source": [
    "#comparing the results of NN and LR\n",
    "plt.figure(figsize=(15,10))\n",
    "\n",
    "# Neural Network plots\n",
    "plt.plot(acc_nn.accuracies, 'r-', label = \"Training Accuracies - NN\")\n",
    "plt.plot(acc_nn.test_accuracies, 'g-', label = \"Testing Accuracies - NN\")\n",
    "\n",
    "# Logistic Regression plots\n",
    "plt.plot(acc_lr.accuracies, 'k-', label = \"Training Accuracies - LR\")\n",
    "plt.plot(acc_lr.test_accuracies, 'b-', label = \"Testing Accuracies - LR\")\n",
    "plt.legend()"
   ]
  },
  {
   "cell_type": "markdown",
   "id": "80dfb35c",
   "metadata": {
    "papermill": {
     "duration": 0.059425,
     "end_time": "2022-03-30T00:35:49.816719",
     "exception": false,
     "start_time": "2022-03-30T00:35:49.757294",
     "status": "completed"
    },
    "tags": []
   },
   "source": [
    "#### Plotting the outputs of this layer of the NN.\n"
   ]
  },
  {
   "cell_type": "code",
   "execution_count": 25,
   "id": "45eb2ff5",
   "metadata": {
    "execution": {
     "iopub.execute_input": "2022-03-30T00:35:49.934102Z",
     "iopub.status.busy": "2022-03-30T00:35:49.933393Z",
     "iopub.status.idle": "2022-03-30T00:35:49.973025Z",
     "shell.execute_reply": "2022-03-30T00:35:49.973988Z"
    },
    "papermill": {
     "duration": 0.101922,
     "end_time": "2022-03-30T00:35:49.974188",
     "exception": false,
     "start_time": "2022-03-30T00:35:49.872266",
     "status": "completed"
    },
    "tags": []
   },
   "outputs": [],
   "source": [
    "new_model = Model(layers[:-2])\n",
    "testing_plot = new_model(testing_data_x)"
   ]
  },
  {
   "cell_type": "code",
   "execution_count": 26,
   "id": "4c0a5485",
   "metadata": {
    "execution": {
     "iopub.execute_input": "2022-03-30T00:35:50.108996Z",
     "iopub.status.busy": "2022-03-30T00:35:50.108296Z",
     "iopub.status.idle": "2022-03-30T00:35:50.410537Z",
     "shell.execute_reply": "2022-03-30T00:35:50.409888Z"
    },
    "papermill": {
     "duration": 0.367789,
     "end_time": "2022-03-30T00:35:50.410701",
     "exception": false,
     "start_time": "2022-03-30T00:35:50.042912",
     "status": "completed"
    },
    "tags": []
   },
   "outputs": [
    {
     "data": {
      "text/plain": [
       "Text(0.5, 1.0, 'Outputs')"
      ]
     },
     "execution_count": 26,
     "metadata": {},
     "output_type": "execute_result"
    },
    {
     "data": {
      "image/png": "[encoded data removed]",
      "text/plain": [
       "<Figure size 576x504 with 1 Axes>"
      ]
     },
     "metadata": {
      "needs_background": "light"
     },
     "output_type": "display_data"
    }
   ],
   "source": [
    "# Plotting the scatter plot of points and color coding by class\n",
    "plt.figure(figsize=(8,7))\n",
    "plt.scatter(testing_plot[:,0], testing_plot[:,1], alpha = 0.1, c = y_test.ravel());\n",
    "plt.title('Outputs')"
   ]
  },
  {
   "cell_type": "markdown",
   "id": "a74fcf8f",
   "metadata": {
    "papermill": {
     "duration": 0.060341,
     "end_time": "2022-03-30T00:35:50.530298",
     "exception": false,
     "start_time": "2022-03-30T00:35:50.469957",
     "status": "completed"
    },
    "tags": []
   },
   "source": [
    "Probability contours"
   ]
  },
  {
   "cell_type": "code",
   "execution_count": 27,
   "id": "d0afc8e3",
   "metadata": {
    "execution": {
     "iopub.execute_input": "2022-03-30T00:35:50.704112Z",
     "iopub.status.busy": "2022-03-30T00:35:50.703420Z",
     "iopub.status.idle": "2022-03-30T00:35:50.717754Z",
     "shell.execute_reply": "2022-03-30T00:35:50.717131Z"
    },
    "papermill": {
     "duration": 0.077769,
     "end_time": "2022-03-30T00:35:50.717908",
     "exception": false,
     "start_time": "2022-03-30T00:35:50.640139",
     "status": "completed"
    },
    "tags": []
   },
   "outputs": [],
   "source": [
    "model_prob = Model(layers[-2:]) "
   ]
  },
  {
   "cell_type": "code",
   "execution_count": 28,
   "id": "9b96e238",
   "metadata": {
    "execution": {
     "iopub.execute_input": "2022-03-30T00:35:50.857384Z",
     "iopub.status.busy": "2022-03-30T00:35:50.856494Z",
     "iopub.status.idle": "2022-03-30T00:35:50.871245Z",
     "shell.execute_reply": "2022-03-30T00:35:50.871819Z"
    },
    "papermill": {
     "duration": 0.085378,
     "end_time": "2022-03-30T00:35:50.872007",
     "exception": false,
     "start_time": "2022-03-30T00:35:50.786629",
     "status": "completed"
    },
    "tags": []
   },
   "outputs": [],
   "source": [
    "#creating the x and y ranges according to the above generated plot.\n",
    "x_range = np.linspace(-4, 1, 100) \n",
    "y_range = np.linspace(-6, 6, 100) \n",
    "x_grid, y_grid = np.meshgrid(x_range, y_range) # x_grid and y_grig are of size 100 X 100\n",
    "\n",
    "# converting x_grid and y_grid to continuous arrays\n",
    "x_gridflat = np.ravel(x_grid)\n",
    "y_gridflat = np.ravel(y_grid)\n",
    "\n",
    "# The last layer of the current model takes two columns as input. Hence transpose of np.vstack() is required.\n",
    "X = np.vstack((x_gridflat, y_gridflat)).T\n",
    "\n",
    "prob_contour = model_prob(X).reshape(100,100) "
   ]
  },
  {
   "cell_type": "code",
   "execution_count": 29,
   "id": "da72499a",
   "metadata": {
    "execution": {
     "iopub.execute_input": "2022-03-30T00:35:50.998072Z",
     "iopub.status.busy": "2022-03-30T00:35:50.997362Z",
     "iopub.status.idle": "2022-03-30T00:35:51.351078Z",
     "shell.execute_reply": "2022-03-30T00:35:51.350365Z"
    },
    "papermill": {
     "duration": 0.420522,
     "end_time": "2022-03-30T00:35:51.351227",
     "exception": false,
     "start_time": "2022-03-30T00:35:50.930705",
     "status": "completed"
    },
    "tags": []
   },
   "outputs": [
    {
     "data": {
      "image/png": "[encoded data removed]",
      "text/plain": [
       "<Figure size 720x648 with 1 Axes>"
      ]
     },
     "metadata": {
      "needs_background": "light"
     },
     "output_type": "display_data"
    }
   ],
   "source": [
    "plt.figure(figsize=(10,9))\n",
    "plt.scatter(testing_plot[:,0], testing_plot[:,1], alpha = 0.1, c = y_test.ravel())\n",
    "contours = plt.contour(x_grid,y_grid,prob_contour)\n",
    "plt.title('Probability Contours')\n",
    "plt.clabel(contours, inline = True );"
   ]
  },
  {
   "cell_type": "code",
   "execution_count": null,
   "id": "e81b4ac7",
   "metadata": {
    "papermill": {
     "duration": 0.066925,
     "end_time": "2022-03-30T00:35:51.480720",
     "exception": false,
     "start_time": "2022-03-30T00:35:51.413795",
     "status": "completed"
    },
    "tags": []
   },
   "outputs": [],
   "source": []
  }
 ],
 "metadata": {
  "kernelspec": {
   "display_name": "Python 3",
   "language": "python",
   "name": "python3"
  },
  "language_info": {
   "codemirror_mode": {
    "name": "ipython",
    "version": 3
   },
   "file_extension": ".py",
   "mimetype": "text/x-python",
   "name": "python",
   "nbconvert_exporter": "python",
   "pygments_lexer": "ipython3",
   "version": "3.6.15"
  },
  "papermill": {
   "default_parameters": {},
   "duration": 182.82283,
   "end_time": "2022-03-30T00:35:52.065497",
   "environment_variables": {},
   "exception": null,
   "input_path": "2020-08-11-part2.ipynb",
   "output_path": "2020-08-11-part2.ipynb",
   "parameters": {},
   "start_time": "2022-03-30T00:32:49.242667",
   "version": "2.3.3"
  }
 },
 "nbformat": 4,
 "nbformat_minor": 5
}