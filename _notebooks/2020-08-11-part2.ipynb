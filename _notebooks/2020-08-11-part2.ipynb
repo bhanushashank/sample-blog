{
 "cells": [
  {
   "cell_type": "markdown",
   "id": "98380cd3",
   "metadata": {
    "papermill": {
     "duration": 0.028975,
     "end_time": "2022-06-30T00:36:27.391970",
     "exception": false,
     "start_time": "2022-06-30T00:36:27.362995",
     "status": "completed"
    },
    "tags": []
   },
   "source": [
    "# Distinguish Your Own Digits (DYOD)"
   ]
  },
  {
   "cell_type": "markdown",
   "id": "ef31240d",
   "metadata": {
    "papermill": {
     "duration": 0.023807,
     "end_time": "2022-06-30T00:36:27.440277",
     "exception": false,
     "start_time": "2022-06-30T00:36:27.416470",
     "status": "completed"
    },
    "tags": []
   },
   "source": [
    "You are going to write a classifier that distinguishes between the number 3 and number 8."
   ]
  },
  {
   "cell_type": "code",
   "execution_count": 1,
   "id": "b15c8646",
   "metadata": {
    "execution": {
     "iopub.execute_input": "2022-06-30T00:36:27.497525Z",
     "iopub.status.busy": "2022-06-30T00:36:27.496963Z",
     "iopub.status.idle": "2022-06-30T00:36:27.507079Z",
     "shell.execute_reply": "2022-06-30T00:36:27.507566Z"
    },
    "papermill": {
     "duration": 0.043751,
     "end_time": "2022-06-30T00:36:27.507701",
     "exception": false,
     "start_time": "2022-06-30T00:36:27.463950",
     "status": "completed"
    },
    "tags": []
   },
   "outputs": [],
   "source": [
    "%load_ext autoreload\n",
    "%autoreload 2"
   ]
  },
  {
   "cell_type": "code",
   "execution_count": 2,
   "id": "22ef38dc",
   "metadata": {
    "execution": {
     "iopub.execute_input": "2022-06-30T00:36:27.559176Z",
     "iopub.status.busy": "2022-06-30T00:36:27.558623Z",
     "iopub.status.idle": "2022-06-30T00:36:28.060279Z",
     "shell.execute_reply": "2022-06-30T00:36:28.059784Z"
    },
    "papermill": {
     "duration": 0.528785,
     "end_time": "2022-06-30T00:36:28.060399",
     "exception": false,
     "start_time": "2022-06-30T00:36:27.531614",
     "status": "completed"
    },
    "tags": []
   },
   "outputs": [],
   "source": [
    "%matplotlib inline\n",
    "import numpy as np\n",
    "import matplotlib.pyplot as plt\n",
    "import pandas as pd"
   ]
  },
  {
   "cell_type": "markdown",
   "id": "ba036198",
   "metadata": {
    "papermill": {
     "duration": 0.02387,
     "end_time": "2022-06-30T00:36:28.108428",
     "exception": false,
     "start_time": "2022-06-30T00:36:28.084558",
     "status": "completed"
    },
    "tags": []
   },
   "source": [
    "From the command line run `pip install mnist`. This is a library that will help you bring down the mnist dataset. If you run this from a notebook, you need to put  `!pip install mnist` in a cell by itself."
   ]
  },
  {
   "cell_type": "code",
   "execution_count": 3,
   "id": "bb6ad8a1",
   "metadata": {
    "execution": {
     "iopub.execute_input": "2022-06-30T00:36:28.158744Z",
     "iopub.status.busy": "2022-06-30T00:36:28.158188Z",
     "iopub.status.idle": "2022-06-30T00:36:29.894561Z",
     "shell.execute_reply": "2022-06-30T00:36:29.893800Z"
    },
    "papermill": {
     "duration": 1.762443,
     "end_time": "2022-06-30T00:36:29.894676",
     "exception": false,
     "start_time": "2022-06-30T00:36:28.132233",
     "status": "completed"
    },
    "tags": []
   },
   "outputs": [
    {
     "name": "stdout",
     "output_type": "stream",
     "text": [
      "Collecting mnist\r\n"
     ]
    },
    {
     "name": "stdout",
     "output_type": "stream",
     "text": [
      "  Downloading mnist-0.2.2-py2.py3-none-any.whl (3.5 kB)\r\n",
      "Requirement already satisfied: numpy in /opt/hostedtoolcache/Python/3.6.15/x64/lib/python3.6/site-packages (from mnist) (1.19.5)\r\n"
     ]
    },
    {
     "name": "stdout",
     "output_type": "stream",
     "text": [
      "Installing collected packages: mnist\r\n"
     ]
    },
    {
     "name": "stdout",
     "output_type": "stream",
     "text": [
      "Successfully installed mnist-0.2.2\r\n"
     ]
    }
   ],
   "source": [
    "!pip install mnist"
   ]
  },
  {
   "cell_type": "markdown",
   "id": "69df9c9a",
   "metadata": {
    "papermill": {
     "duration": 0.025088,
     "end_time": "2022-06-30T00:36:29.949014",
     "exception": false,
     "start_time": "2022-06-30T00:36:29.923926",
     "status": "completed"
    },
    "tags": []
   },
   "source": [
    "## Preparing the Data"
   ]
  },
  {
   "cell_type": "code",
   "execution_count": 4,
   "id": "7f69d806",
   "metadata": {
    "execution": {
     "iopub.execute_input": "2022-06-30T00:36:30.012439Z",
     "iopub.status.busy": "2022-06-30T00:36:30.004252Z",
     "iopub.status.idle": "2022-06-30T00:36:30.015591Z",
     "shell.execute_reply": "2022-06-30T00:36:30.016022Z"
    },
    "papermill": {
     "duration": 0.042435,
     "end_time": "2022-06-30T00:36:30.016139",
     "exception": false,
     "start_time": "2022-06-30T00:36:29.973704",
     "status": "completed"
    },
    "tags": []
   },
   "outputs": [],
   "source": [
    "import mnist"
   ]
  },
  {
   "cell_type": "code",
   "execution_count": 5,
   "id": "a411e44f",
   "metadata": {
    "execution": {
     "iopub.execute_input": "2022-06-30T00:36:30.069378Z",
     "iopub.status.busy": "2022-06-30T00:36:30.068812Z",
     "iopub.status.idle": "2022-06-30T00:36:30.648037Z",
     "shell.execute_reply": "2022-06-30T00:36:30.647429Z"
    },
    "papermill": {
     "duration": 0.607114,
     "end_time": "2022-06-30T00:36:30.648148",
     "exception": false,
     "start_time": "2022-06-30T00:36:30.041034",
     "status": "completed"
    },
    "tags": []
   },
   "outputs": [],
   "source": [
    "train_images = mnist.train_images()\n",
    "train_labels = mnist.train_labels()"
   ]
  },
  {
   "cell_type": "code",
   "execution_count": 6,
   "id": "dceab3a5",
   "metadata": {
    "execution": {
     "iopub.execute_input": "2022-06-30T00:36:30.701423Z",
     "iopub.status.busy": "2022-06-30T00:36:30.700874Z",
     "iopub.status.idle": "2022-06-30T00:36:30.714859Z",
     "shell.execute_reply": "2022-06-30T00:36:30.715327Z"
    },
    "papermill": {
     "duration": 0.04216,
     "end_time": "2022-06-30T00:36:30.715444",
     "exception": false,
     "start_time": "2022-06-30T00:36:30.673284",
     "status": "completed"
    },
    "tags": []
   },
   "outputs": [
    {
     "data": {
      "text/plain": [
       "((60000, 28, 28), (60000,))"
      ]
     },
     "execution_count": 6,
     "metadata": {},
     "output_type": "execute_result"
    }
   ],
   "source": [
    "train_images.shape, train_labels.shape"
   ]
  },
  {
   "cell_type": "code",
   "execution_count": 7,
   "id": "f50dc2bb",
   "metadata": {
    "execution": {
     "iopub.execute_input": "2022-06-30T00:36:30.769341Z",
     "iopub.status.busy": "2022-06-30T00:36:30.768793Z",
     "iopub.status.idle": "2022-06-30T00:36:30.952125Z",
     "shell.execute_reply": "2022-06-30T00:36:30.951613Z"
    },
    "papermill": {
     "duration": 0.211305,
     "end_time": "2022-06-30T00:36:30.952234",
     "exception": false,
     "start_time": "2022-06-30T00:36:30.740929",
     "status": "completed"
    },
    "tags": []
   },
   "outputs": [],
   "source": [
    "test_images = mnist.test_images()\n",
    "test_labels = mnist.test_labels()"
   ]
  },
  {
   "cell_type": "code",
   "execution_count": 8,
   "id": "fc38cf1b",
   "metadata": {
    "execution": {
     "iopub.execute_input": "2022-06-30T00:36:31.006438Z",
     "iopub.status.busy": "2022-06-30T00:36:31.005898Z",
     "iopub.status.idle": "2022-06-30T00:36:31.018878Z",
     "shell.execute_reply": "2022-06-30T00:36:31.018413Z"
    },
    "papermill": {
     "duration": 0.0412,
     "end_time": "2022-06-30T00:36:31.018979",
     "exception": false,
     "start_time": "2022-06-30T00:36:30.977779",
     "status": "completed"
    },
    "tags": []
   },
   "outputs": [
    {
     "data": {
      "text/plain": [
       "((10000, 28, 28), (10000,))"
      ]
     },
     "execution_count": 8,
     "metadata": {},
     "output_type": "execute_result"
    }
   ],
   "source": [
    "test_images.shape, test_labels.shape"
   ]
  },
  {
   "cell_type": "code",
   "execution_count": 9,
   "id": "f9ed8fe0",
   "metadata": {
    "execution": {
     "iopub.execute_input": "2022-06-30T00:36:31.073107Z",
     "iopub.status.busy": "2022-06-30T00:36:31.072556Z",
     "iopub.status.idle": "2022-06-30T00:36:31.206925Z",
     "shell.execute_reply": "2022-06-30T00:36:31.207645Z"
    },
    "papermill": {
     "duration": 0.163548,
     "end_time": "2022-06-30T00:36:31.207778",
     "exception": false,
     "start_time": "2022-06-30T00:36:31.044230",
     "status": "completed"
    },
    "tags": []
   },
   "outputs": [
    {
     "name": "stdout",
     "output_type": "stream",
     "text": [
      "2\n"
     ]
    },
    {
     "data": {
      "text/plain": [
       "<matplotlib.image.AxesImage at 0x7f79584374a8>"
      ]
     },
     "execution_count": 9,
     "metadata": {},
     "output_type": "execute_result"
    },
    {
     "data": {
      "image/png": "[encoded data removed]",
      "text/plain": [
       "<Figure size 432x288 with 1 Axes>"
      ]
     },
     "metadata": {
      "needs_background": "light"
     },
     "output_type": "display_data"
    }
   ],
   "source": [
    "image_index = 7776 # You may select anything up to 60,000\n",
    "print(train_labels[image_index]) \n",
    "plt.imshow(train_images[image_index], cmap='Greys')"
   ]
  },
  {
   "cell_type": "markdown",
   "id": "a8d2388d",
   "metadata": {
    "papermill": {
     "duration": 0.026621,
     "end_time": "2022-06-30T00:36:31.261037",
     "exception": false,
     "start_time": "2022-06-30T00:36:31.234416",
     "status": "completed"
    },
    "tags": []
   },
   "source": [
    "## Filter data to get 3 and 8 out"
   ]
  },
  {
   "cell_type": "code",
   "execution_count": 10,
   "id": "776f7fc7",
   "metadata": {
    "execution": {
     "iopub.execute_input": "2022-06-30T00:36:31.318356Z",
     "iopub.status.busy": "2022-06-30T00:36:31.317784Z",
     "iopub.status.idle": "2022-06-30T00:36:31.339440Z",
     "shell.execute_reply": "2022-06-30T00:36:31.338402Z"
    },
    "papermill": {
     "duration": 0.05202,
     "end_time": "2022-06-30T00:36:31.339552",
     "exception": false,
     "start_time": "2022-06-30T00:36:31.287532",
     "status": "completed"
    },
    "tags": []
   },
   "outputs": [],
   "source": [
    "train_filter = np.where((train_labels == 3 ) | (train_labels == 8))\n",
    "test_filter = np.where((test_labels == 3) | (test_labels == 8))\n",
    "X_train, y_train = train_images[train_filter], train_labels[train_filter]\n",
    "X_test, y_test = test_images[test_filter], test_labels[test_filter]"
   ]
  },
  {
   "cell_type": "markdown",
   "id": "948f0b7e",
   "metadata": {
    "papermill": {
     "duration": 0.026644,
     "end_time": "2022-06-30T00:36:31.392937",
     "exception": false,
     "start_time": "2022-06-30T00:36:31.366293",
     "status": "completed"
    },
    "tags": []
   },
   "source": [
    "We normalize the pizel values in the 0 to 1 range"
   ]
  },
  {
   "cell_type": "code",
   "execution_count": 11,
   "id": "ee4c2166",
   "metadata": {
    "execution": {
     "iopub.execute_input": "2022-06-30T00:36:31.452241Z",
     "iopub.status.busy": "2022-06-30T00:36:31.449118Z",
     "iopub.status.idle": "2022-06-30T00:36:31.490090Z",
     "shell.execute_reply": "2022-06-30T00:36:31.490538Z"
    },
    "papermill": {
     "duration": 0.071135,
     "end_time": "2022-06-30T00:36:31.490679",
     "exception": false,
     "start_time": "2022-06-30T00:36:31.419544",
     "status": "completed"
    },
    "tags": []
   },
   "outputs": [],
   "source": [
    "X_train = X_train/255.\n",
    "X_test = X_test/255."
   ]
  },
  {
   "cell_type": "markdown",
   "id": "ddcf4fab",
   "metadata": {
    "papermill": {
     "duration": 0.03091,
     "end_time": "2022-06-30T00:36:31.548588",
     "exception": false,
     "start_time": "2022-06-30T00:36:31.517678",
     "status": "completed"
    },
    "tags": []
   },
   "source": [
    "And setup the labels as 1 (when the digit is 3) and 0 (when the digit is 8)"
   ]
  },
  {
   "cell_type": "code",
   "execution_count": 12,
   "id": "7dc908f2",
   "metadata": {
    "execution": {
     "iopub.execute_input": "2022-06-30T00:36:31.608311Z",
     "iopub.status.busy": "2022-06-30T00:36:31.604860Z",
     "iopub.status.idle": "2022-06-30T00:36:31.616163Z",
     "shell.execute_reply": "2022-06-30T00:36:31.616572Z"
    },
    "papermill": {
     "duration": 0.041515,
     "end_time": "2022-06-30T00:36:31.616700",
     "exception": false,
     "start_time": "2022-06-30T00:36:31.575185",
     "status": "completed"
    },
    "tags": []
   },
   "outputs": [],
   "source": [
    "y_train = 1*(y_train==3)\n",
    "y_test = 1*(y_test==3)"
   ]
  },
  {
   "cell_type": "code",
   "execution_count": 13,
   "id": "01e4e969",
   "metadata": {
    "execution": {
     "iopub.execute_input": "2022-06-30T00:36:31.677944Z",
     "iopub.status.busy": "2022-06-30T00:36:31.677404Z",
     "iopub.status.idle": "2022-06-30T00:36:31.689981Z",
     "shell.execute_reply": "2022-06-30T00:36:31.689445Z"
    },
    "papermill": {
     "duration": 0.042598,
     "end_time": "2022-06-30T00:36:31.690080",
     "exception": false,
     "start_time": "2022-06-30T00:36:31.647482",
     "status": "completed"
    },
    "tags": []
   },
   "outputs": [
    {
     "data": {
      "text/plain": [
       "((11982, 28, 28), (1984, 28, 28))"
      ]
     },
     "execution_count": 13,
     "metadata": {},
     "output_type": "execute_result"
    }
   ],
   "source": [
    "X_train.shape, X_test.shape"
   ]
  },
  {
   "cell_type": "markdown",
   "id": "5ccf3f85",
   "metadata": {
    "papermill": {
     "duration": 0.031318,
     "end_time": "2022-06-30T00:36:31.748029",
     "exception": false,
     "start_time": "2022-06-30T00:36:31.716711",
     "status": "completed"
    },
    "tags": []
   },
   "source": [
    "We reshape the data to flatten the image pixels into a set of features or co-variates:"
   ]
  },
  {
   "cell_type": "code",
   "execution_count": 14,
   "id": "5286a4a3",
   "metadata": {
    "execution": {
     "iopub.execute_input": "2022-06-30T00:36:31.805404Z",
     "iopub.status.busy": "2022-06-30T00:36:31.804850Z",
     "iopub.status.idle": "2022-06-30T00:36:31.817934Z",
     "shell.execute_reply": "2022-06-30T00:36:31.817396Z"
    },
    "papermill": {
     "duration": 0.043102,
     "end_time": "2022-06-30T00:36:31.818032",
     "exception": false,
     "start_time": "2022-06-30T00:36:31.774930",
     "status": "completed"
    },
    "tags": []
   },
   "outputs": [
    {
     "data": {
      "text/plain": [
       "((11982, 784), (1984, 784))"
      ]
     },
     "execution_count": 14,
     "metadata": {},
     "output_type": "execute_result"
    }
   ],
   "source": [
    "X_train = X_train.reshape(X_train.shape[0], -1)\n",
    "X_test = X_test.reshape(X_test.shape[0], -1)\n",
    "X_train.shape, X_test.shape"
   ]
  },
  {
   "cell_type": "code",
   "execution_count": 15,
   "id": "73c5f88a",
   "metadata": {
    "execution": {
     "iopub.execute_input": "2022-06-30T00:36:31.880288Z",
     "iopub.status.busy": "2022-06-30T00:36:31.879738Z",
     "iopub.status.idle": "2022-06-30T00:36:31.897514Z",
     "shell.execute_reply": "2022-06-30T00:36:31.897065Z"
    },
    "papermill": {
     "duration": 0.048298,
     "end_time": "2022-06-30T00:36:31.897611",
     "exception": false,
     "start_time": "2022-06-30T00:36:31.849313",
     "status": "completed"
    },
    "tags": []
   },
   "outputs": [],
   "source": [
    "#Impoting functions from 'Kudzu'\n",
    "from kudzu.model import Model\n",
    "from kudzu.train import Learner\n",
    "from kudzu.optim import GD\n",
    "from kudzu.data import Data, Sampler,Dataloader\n",
    "\n",
    "from kudzu.callbacks import AccCallback\n",
    "from kudzu.callbacks import ClfCallback\n",
    "\n",
    "from kudzu.loss import MSE\n",
    "\n",
    "from kudzu.layer import Sigmoid,Relu\n",
    "from kudzu.layer import Affine"
   ]
  },
  {
   "cell_type": "markdown",
   "id": "bc01172a",
   "metadata": {
    "papermill": {
     "duration": 0.028859,
     "end_time": "2022-06-30T00:36:31.955650",
     "exception": false,
     "start_time": "2022-06-30T00:36:31.926791",
     "status": "completed"
    },
    "tags": []
   },
   "source": [
    "### Let us create a `Config` class, to store important parameters. \n",
    "This class essentially plays the role of a dictionary."
   ]
  },
  {
   "cell_type": "code",
   "execution_count": 16,
   "id": "978281aa",
   "metadata": {
    "execution": {
     "iopub.execute_input": "2022-06-30T00:36:32.012661Z",
     "iopub.status.busy": "2022-06-30T00:36:32.012110Z",
     "iopub.status.idle": "2022-06-30T00:36:32.027584Z",
     "shell.execute_reply": "2022-06-30T00:36:32.028006Z"
    },
    "papermill": {
     "duration": 0.045629,
     "end_time": "2022-06-30T00:36:32.028123",
     "exception": false,
     "start_time": "2022-06-30T00:36:31.982494",
     "status": "completed"
    },
    "tags": []
   },
   "outputs": [],
   "source": [
    "class Config:\n",
    "    pass\n",
    "config = Config()\n",
    "config.lr = 0.001\n",
    "config.num_epochs = 250\n",
    "config.bs = 50"
   ]
  },
  {
   "cell_type": "markdown",
   "id": "1385fa59",
   "metadata": {
    "papermill": {
     "duration": 0.027049,
     "end_time": "2022-06-30T00:36:32.082235",
     "exception": false,
     "start_time": "2022-06-30T00:36:32.055186",
     "status": "completed"
    },
    "tags": []
   },
   "source": [
    "### Running Models with the Training data\n",
    "Details about the network layers:\n",
    "- A first affine layer has 784 inputs and does 100 affine transforms. These are followed by a Relu\n",
    "- A second affine layer has 100 inputs from the 100 activations of the past layer, and does 100 affine transforms. These are followed by a Relu\n",
    "- A third affine layer has 100 activations and does 2 affine transformations to create an embedding for visualization. There is no non-linearity here.\n",
    "- A final \"logistic regression\" which has an affine transform from 2 inputs to 1 output, which is squeezed through a sigmoid.\n"
   ]
  },
  {
   "cell_type": "code",
   "execution_count": 17,
   "id": "2b9c66db",
   "metadata": {
    "execution": {
     "iopub.execute_input": "2022-06-30T00:36:32.140476Z",
     "iopub.status.busy": "2022-06-30T00:36:32.139918Z",
     "iopub.status.idle": "2022-06-30T00:36:32.151362Z",
     "shell.execute_reply": "2022-06-30T00:36:32.151778Z"
    },
    "papermill": {
     "duration": 0.042619,
     "end_time": "2022-06-30T00:36:32.151900",
     "exception": false,
     "start_time": "2022-06-30T00:36:32.109281",
     "status": "completed"
    },
    "tags": []
   },
   "outputs": [],
   "source": [
    "data = Data(X_train, y_train.reshape(-1,1))\n",
    "sampler = Sampler(data, config.bs, shuffle=True)\n",
    "\n",
    "dl = Dataloader(data, sampler)\n",
    "\n",
    "opt = GD(config.lr)\n",
    "loss = MSE()"
   ]
  },
  {
   "cell_type": "code",
   "execution_count": 18,
   "id": "b275e4c2",
   "metadata": {
    "execution": {
     "iopub.execute_input": "2022-06-30T00:36:32.209582Z",
     "iopub.status.busy": "2022-06-30T00:36:32.209019Z",
     "iopub.status.idle": "2022-06-30T00:36:32.221472Z",
     "shell.execute_reply": "2022-06-30T00:36:32.221904Z"
    },
    "papermill": {
     "duration": 0.043111,
     "end_time": "2022-06-30T00:36:32.222025",
     "exception": false,
     "start_time": "2022-06-30T00:36:32.178914",
     "status": "completed"
    },
    "tags": []
   },
   "outputs": [],
   "source": [
    "training_data_x = X_train\n",
    "testing_data_x = X_test\n",
    "training_data_y = y_train.reshape(-1,1)\n",
    "testing_data_y = y_test.reshape(-1,1)"
   ]
  },
  {
   "cell_type": "code",
   "execution_count": 19,
   "id": "76951160",
   "metadata": {
    "execution": {
     "iopub.execute_input": "2022-06-30T00:36:32.288313Z",
     "iopub.status.busy": "2022-06-30T00:36:32.287749Z",
     "iopub.status.idle": "2022-06-30T00:36:32.297593Z",
     "shell.execute_reply": "2022-06-30T00:36:32.296921Z"
    },
    "papermill": {
     "duration": 0.048719,
     "end_time": "2022-06-30T00:36:32.297693",
     "exception": false,
     "start_time": "2022-06-30T00:36:32.248974",
     "status": "completed"
    },
    "tags": []
   },
   "outputs": [
    {
     "name": "stdout",
     "output_type": "stream",
     "text": [
      "xavier\n",
      "xavier\n",
      "xavier\n",
      "xavier\n",
      "xavier\n"
     ]
    }
   ],
   "source": [
    "layers = [Affine(\"first\", 784, 100), Relu(\"first\"), Affine(\"second\", 100, 100), Relu(\"second\"), Affine(\"third\", 100, 2), Affine(\"last\", 2, 1), Sigmoid(\"last\")]\n",
    "model_nn = Model(layers)\n",
    "model_lr = Model([Affine(\"logits\", 784, 1), Sigmoid(\"sigmoid\")])"
   ]
  },
  {
   "cell_type": "code",
   "execution_count": 20,
   "id": "6eede77a",
   "metadata": {
    "execution": {
     "iopub.execute_input": "2022-06-30T00:36:32.360371Z",
     "iopub.status.busy": "2022-06-30T00:36:32.359816Z",
     "iopub.status.idle": "2022-06-30T00:36:32.367442Z",
     "shell.execute_reply": "2022-06-30T00:36:32.367853Z"
    },
    "papermill": {
     "duration": 0.042403,
     "end_time": "2022-06-30T00:36:32.367970",
     "exception": false,
     "start_time": "2022-06-30T00:36:32.325567",
     "status": "completed"
    },
    "tags": []
   },
   "outputs": [],
   "source": [
    "nn_learner = Learner(loss, model_nn, opt, config.num_epochs)\n",
    "acc_nn = ClfCallback(nn_learner, config.bs, training_data_x , testing_data_x, training_data_y, testing_data_y)\n",
    "nn_learner.set_callbacks([acc_nn])"
   ]
  },
  {
   "cell_type": "code",
   "execution_count": 21,
   "id": "877b6cc7",
   "metadata": {
    "execution": {
     "iopub.execute_input": "2022-06-30T00:36:32.427846Z",
     "iopub.status.busy": "2022-06-30T00:36:32.427225Z",
     "iopub.status.idle": "2022-06-30T00:36:32.437592Z",
     "shell.execute_reply": "2022-06-30T00:36:32.437166Z"
    },
    "papermill": {
     "duration": 0.04248,
     "end_time": "2022-06-30T00:36:32.437690",
     "exception": false,
     "start_time": "2022-06-30T00:36:32.395210",
     "status": "completed"
    },
    "tags": []
   },
   "outputs": [],
   "source": [
    "lr_learner = Learner(loss, model_lr, opt, config.num_epochs)\n",
    "acc_lr = ClfCallback(lr_learner, config.bs, training_data_x , testing_data_x, training_data_y, testing_data_y)\n",
    "lr_learner.set_callbacks([acc_lr])"
   ]
  },
  {
   "cell_type": "code",
   "execution_count": 22,
   "id": "d9b133c3",
   "metadata": {
    "execution": {
     "iopub.execute_input": "2022-06-30T00:36:32.495223Z",
     "iopub.status.busy": "2022-06-30T00:36:32.494647Z",
     "iopub.status.idle": "2022-06-30T00:39:28.588374Z",
     "shell.execute_reply": "2022-06-30T00:39:28.588819Z"
    },
    "papermill": {
     "duration": 176.124059,
     "end_time": "2022-06-30T00:39:28.588946",
     "exception": false,
     "start_time": "2022-06-30T00:36:32.464887",
     "status": "completed"
    },
    "tags": []
   },
   "outputs": [
    {
     "name": "stdout",
     "output_type": "stream",
     "text": [
      "Epoch 0, Loss 0.2475\n",
      "Training Accuracy: 0.6485, Testing Accuracy: 0.6356\n",
      "\n"
     ]
    },
    {
     "name": "stdout",
     "output_type": "stream",
     "text": [
      "Epoch 10, Loss 0.0911\n",
      "Training Accuracy: 0.9094, Testing Accuracy: 0.9219\n",
      "\n"
     ]
    },
    {
     "name": "stdout",
     "output_type": "stream",
     "text": [
      "Epoch 20, Loss 0.055\n",
      "Training Accuracy: 0.9427, Testing Accuracy: 0.9556\n",
      "\n"
     ]
    },
    {
     "name": "stdout",
     "output_type": "stream",
     "text": [
      "Epoch 30, Loss 0.0427\n",
      "Training Accuracy: 0.9521, Testing Accuracy: 0.9662\n",
      "\n"
     ]
    },
    {
     "name": "stdout",
     "output_type": "stream",
     "text": [
      "Epoch 40, Loss 0.0368\n",
      "Training Accuracy: 0.9575, Testing Accuracy: 0.9682\n",
      "\n"
     ]
    },
    {
     "name": "stdout",
     "output_type": "stream",
     "text": [
      "Epoch 50, Loss 0.0333\n",
      "Training Accuracy: 0.9612, Testing Accuracy: 0.9718\n",
      "\n"
     ]
    },
    {
     "name": "stdout",
     "output_type": "stream",
     "text": [
      "Epoch 60, Loss 0.0309\n",
      "Training Accuracy: 0.9636, Testing Accuracy: 0.9733\n",
      "\n"
     ]
    },
    {
     "name": "stdout",
     "output_type": "stream",
     "text": [
      "Epoch 70, Loss 0.0291\n",
      "Training Accuracy: 0.9657, Testing Accuracy: 0.9728\n",
      "\n"
     ]
    },
    {
     "name": "stdout",
     "output_type": "stream",
     "text": [
      "Epoch 80, Loss 0.0278\n",
      "Training Accuracy: 0.9672, Testing Accuracy: 0.9713\n",
      "\n"
     ]
    },
    {
     "name": "stdout",
     "output_type": "stream",
     "text": [
      "Epoch 90, Loss 0.0266\n",
      "Training Accuracy: 0.9696, Testing Accuracy: 0.9713\n",
      "\n"
     ]
    },
    {
     "name": "stdout",
     "output_type": "stream",
     "text": [
      "Epoch 100, Loss 0.0256\n",
      "Training Accuracy: 0.9709, Testing Accuracy: 0.9703\n",
      "\n"
     ]
    },
    {
     "name": "stdout",
     "output_type": "stream",
     "text": [
      "Epoch 110, Loss 0.0248\n",
      "Training Accuracy: 0.9718, Testing Accuracy: 0.9708\n",
      "\n"
     ]
    },
    {
     "name": "stdout",
     "output_type": "stream",
     "text": [
      "Epoch 120, Loss 0.024\n",
      "Training Accuracy: 0.9725, Testing Accuracy: 0.9718\n",
      "\n"
     ]
    },
    {
     "name": "stdout",
     "output_type": "stream",
     "text": [
      "Epoch 130, Loss 0.0234\n",
      "Training Accuracy: 0.9734, Testing Accuracy: 0.9718\n",
      "\n"
     ]
    },
    {
     "name": "stdout",
     "output_type": "stream",
     "text": [
      "Epoch 140, Loss 0.0227\n",
      "Training Accuracy: 0.9740, Testing Accuracy: 0.9723\n",
      "\n"
     ]
    },
    {
     "name": "stdout",
     "output_type": "stream",
     "text": [
      "Epoch 150, Loss 0.0222\n",
      "Training Accuracy: 0.9745, Testing Accuracy: 0.9733\n",
      "\n"
     ]
    },
    {
     "name": "stdout",
     "output_type": "stream",
     "text": [
      "Epoch 160, Loss 0.0216\n",
      "Training Accuracy: 0.9750, Testing Accuracy: 0.9728\n",
      "\n"
     ]
    },
    {
     "name": "stdout",
     "output_type": "stream",
     "text": [
      "Epoch 170, Loss 0.0211\n",
      "Training Accuracy: 0.9760, Testing Accuracy: 0.9743\n",
      "\n"
     ]
    },
    {
     "name": "stdout",
     "output_type": "stream",
     "text": [
      "Epoch 180, Loss 0.0207\n",
      "Training Accuracy: 0.9769, Testing Accuracy: 0.9738\n",
      "\n"
     ]
    },
    {
     "name": "stdout",
     "output_type": "stream",
     "text": [
      "Epoch 190, Loss 0.0202\n",
      "Training Accuracy: 0.9774, Testing Accuracy: 0.9738\n",
      "\n"
     ]
    },
    {
     "name": "stdout",
     "output_type": "stream",
     "text": [
      "Epoch 200, Loss 0.0198\n",
      "Training Accuracy: 0.9777, Testing Accuracy: 0.9743\n",
      "\n"
     ]
    },
    {
     "name": "stdout",
     "output_type": "stream",
     "text": [
      "Epoch 210, Loss 0.0194\n",
      "Training Accuracy: 0.9782, Testing Accuracy: 0.9743\n",
      "\n"
     ]
    },
    {
     "name": "stdout",
     "output_type": "stream",
     "text": [
      "Epoch 220, Loss 0.019\n",
      "Training Accuracy: 0.9789, Testing Accuracy: 0.9743\n",
      "\n"
     ]
    },
    {
     "name": "stdout",
     "output_type": "stream",
     "text": [
      "Epoch 230, Loss 0.0186\n",
      "Training Accuracy: 0.9792, Testing Accuracy: 0.9738\n",
      "\n"
     ]
    },
    {
     "name": "stdout",
     "output_type": "stream",
     "text": [
      "Epoch 240, Loss 0.0182\n",
      "Training Accuracy: 0.9796, Testing Accuracy: 0.9748\n",
      "\n"
     ]
    },
    {
     "data": {
      "text/plain": [
       "0.006369325645700304"
      ]
     },
     "execution_count": 22,
     "metadata": {},
     "output_type": "execute_result"
    }
   ],
   "source": [
    "nn_learner.train_loop(dl)"
   ]
  },
  {
   "cell_type": "code",
   "execution_count": 23,
   "id": "e0163366",
   "metadata": {
    "execution": {
     "iopub.execute_input": "2022-06-30T00:39:28.663057Z",
     "iopub.status.busy": "2022-06-30T00:39:28.661566Z",
     "iopub.status.idle": "2022-06-30T00:39:40.714206Z",
     "shell.execute_reply": "2022-06-30T00:39:40.715042Z"
    },
    "papermill": {
     "duration": 12.092165,
     "end_time": "2022-06-30T00:39:40.715174",
     "exception": false,
     "start_time": "2022-06-30T00:39:28.623009",
     "status": "completed"
    },
    "tags": []
   },
   "outputs": [
    {
     "name": "stdout",
     "output_type": "stream",
     "text": [
      "Epoch 0, Loss 0.2546\n",
      "Training Accuracy: 0.6205, Testing Accuracy: 0.6270\n",
      "\n"
     ]
    },
    {
     "name": "stdout",
     "output_type": "stream",
     "text": [
      "Epoch 10, Loss 0.1085\n",
      "Training Accuracy: 0.8982, Testing Accuracy: 0.9088\n",
      "\n"
     ]
    },
    {
     "name": "stdout",
     "output_type": "stream",
     "text": [
      "Epoch 20, Loss 0.0822\n",
      "Training Accuracy: 0.9233, Testing Accuracy: 0.9370\n",
      "\n"
     ]
    },
    {
     "name": "stdout",
     "output_type": "stream",
     "text": [
      "Epoch 30, Loss 0.0702\n",
      "Training Accuracy: 0.9346, Testing Accuracy: 0.9451\n",
      "\n"
     ]
    },
    {
     "name": "stdout",
     "output_type": "stream",
     "text": [
      "Epoch 40, Loss 0.063\n",
      "Training Accuracy: 0.9407, Testing Accuracy: 0.9511\n",
      "\n"
     ]
    },
    {
     "name": "stdout",
     "output_type": "stream",
     "text": [
      "Epoch 50, Loss 0.0582\n",
      "Training Accuracy: 0.9445, Testing Accuracy: 0.9556\n",
      "\n"
     ]
    },
    {
     "name": "stdout",
     "output_type": "stream",
     "text": [
      "Epoch 60, Loss 0.0547\n",
      "Training Accuracy: 0.9468, Testing Accuracy: 0.9572\n",
      "\n"
     ]
    },
    {
     "name": "stdout",
     "output_type": "stream",
     "text": [
      "Epoch 70, Loss 0.052\n",
      "Training Accuracy: 0.9487, Testing Accuracy: 0.9597\n",
      "\n"
     ]
    },
    {
     "name": "stdout",
     "output_type": "stream",
     "text": [
      "Epoch 80, Loss 0.0498\n",
      "Training Accuracy: 0.9502, Testing Accuracy: 0.9607\n",
      "\n"
     ]
    },
    {
     "name": "stdout",
     "output_type": "stream",
     "text": [
      "Epoch 90, Loss 0.0481\n",
      "Training Accuracy: 0.9510, Testing Accuracy: 0.9612\n",
      "\n"
     ]
    },
    {
     "name": "stdout",
     "output_type": "stream",
     "text": [
      "Epoch 100, Loss 0.0466\n",
      "Training Accuracy: 0.9520, Testing Accuracy: 0.9622\n",
      "\n"
     ]
    },
    {
     "name": "stdout",
     "output_type": "stream",
     "text": [
      "Epoch 110, Loss 0.0453\n",
      "Training Accuracy: 0.9538, Testing Accuracy: 0.9637\n",
      "\n"
     ]
    },
    {
     "name": "stdout",
     "output_type": "stream",
     "text": [
      "Epoch 120, Loss 0.0442\n",
      "Training Accuracy: 0.9545, Testing Accuracy: 0.9637\n",
      "\n"
     ]
    },
    {
     "name": "stdout",
     "output_type": "stream",
     "text": [
      "Epoch 130, Loss 0.0432\n",
      "Training Accuracy: 0.9552, Testing Accuracy: 0.9642\n",
      "\n"
     ]
    },
    {
     "name": "stdout",
     "output_type": "stream",
     "text": [
      "Epoch 140, Loss 0.0424\n",
      "Training Accuracy: 0.9563, Testing Accuracy: 0.9652\n",
      "\n"
     ]
    },
    {
     "name": "stdout",
     "output_type": "stream",
     "text": [
      "Epoch 150, Loss 0.0416\n",
      "Training Accuracy: 0.9574, Testing Accuracy: 0.9662\n",
      "\n"
     ]
    },
    {
     "name": "stdout",
     "output_type": "stream",
     "text": [
      "Epoch 160, Loss 0.0409\n",
      "Training Accuracy: 0.9579, Testing Accuracy: 0.9657\n",
      "\n"
     ]
    },
    {
     "name": "stdout",
     "output_type": "stream",
     "text": [
      "Epoch 170, Loss 0.0403\n",
      "Training Accuracy: 0.9582, Testing Accuracy: 0.9657\n",
      "\n"
     ]
    },
    {
     "name": "stdout",
     "output_type": "stream",
     "text": [
      "Epoch 180, Loss 0.0397\n",
      "Training Accuracy: 0.9585, Testing Accuracy: 0.9662\n",
      "\n"
     ]
    },
    {
     "name": "stdout",
     "output_type": "stream",
     "text": [
      "Epoch 190, Loss 0.0391\n",
      "Training Accuracy: 0.9589, Testing Accuracy: 0.9662\n",
      "\n"
     ]
    },
    {
     "name": "stdout",
     "output_type": "stream",
     "text": [
      "Epoch 200, Loss 0.0387\n",
      "Training Accuracy: 0.9593, Testing Accuracy: 0.9667\n",
      "\n"
     ]
    },
    {
     "name": "stdout",
     "output_type": "stream",
     "text": [
      "Epoch 210, Loss 0.0382\n",
      "Training Accuracy: 0.9595, Testing Accuracy: 0.9667\n",
      "\n"
     ]
    },
    {
     "name": "stdout",
     "output_type": "stream",
     "text": [
      "Epoch 220, Loss 0.0378\n",
      "Training Accuracy: 0.9597, Testing Accuracy: 0.9667\n",
      "\n"
     ]
    },
    {
     "name": "stdout",
     "output_type": "stream",
     "text": [
      "Epoch 230, Loss 0.0374\n",
      "Training Accuracy: 0.9603, Testing Accuracy: 0.9667\n",
      "\n"
     ]
    },
    {
     "name": "stdout",
     "output_type": "stream",
     "text": [
      "Epoch 240, Loss 0.037\n",
      "Training Accuracy: 0.9609, Testing Accuracy: 0.9667\n",
      "\n"
     ]
    },
    {
     "data": {
      "text/plain": [
       "0.01751697115413091"
      ]
     },
     "execution_count": 23,
     "metadata": {},
     "output_type": "execute_result"
    }
   ],
   "source": [
    "lr_learner.train_loop(dl)"
   ]
  },
  {
   "cell_type": "code",
   "execution_count": 24,
   "id": "ca410940",
   "metadata": {
    "execution": {
     "iopub.execute_input": "2022-06-30T00:39:40.804688Z",
     "iopub.status.busy": "2022-06-30T00:39:40.804125Z",
     "iopub.status.idle": "2022-06-30T00:39:41.035822Z",
     "shell.execute_reply": "2022-06-30T00:39:41.036255Z"
    },
    "papermill": {
     "duration": 0.279716,
     "end_time": "2022-06-30T00:39:41.036388",
     "exception": false,
     "start_time": "2022-06-30T00:39:40.756672",
     "status": "completed"
    },
    "tags": []
   },
   "outputs": [
    {
     "data": {
      "text/plain": [
       "<matplotlib.legend.Legend at 0x7f7957f95b38>"
      ]
     },
     "execution_count": 24,
     "metadata": {},
     "output_type": "execute_result"
    },
    {
     "data": {
      "image/png": "[encoded data removed]",
      "text/plain": [
       "<Figure size 1080x720 with 1 Axes>"
      ]
     },
     "metadata": {
      "needs_background": "light"
     },
     "output_type": "display_data"
    }
   ],
   "source": [
    "#comparing the results of NN and LR\n",
    "plt.figure(figsize=(15,10))\n",
    "\n",
    "# Neural Network plots\n",
    "plt.plot(acc_nn.accuracies, 'r-', label = \"Training Accuracies - NN\")\n",
    "plt.plot(acc_nn.test_accuracies, 'g-', label = \"Testing Accuracies - NN\")\n",
    "\n",
    "# Logistic Regression plots\n",
    "plt.plot(acc_lr.accuracies, 'k-', label = \"Training Accuracies - LR\")\n",
    "plt.plot(acc_lr.test_accuracies, 'b-', label = \"Testing Accuracies - LR\")\n",
    "plt.legend()"
   ]
  },
  {
   "cell_type": "markdown",
   "id": "80dfb35c",
   "metadata": {
    "papermill": {
     "duration": 0.042183,
     "end_time": "2022-06-30T00:39:41.121205",
     "exception": false,
     "start_time": "2022-06-30T00:39:41.079022",
     "status": "completed"
    },
    "tags": []
   },
   "source": [
    "#### Plotting the outputs of this layer of the NN.\n"
   ]
  },
  {
   "cell_type": "code",
   "execution_count": 25,
   "id": "45eb2ff5",
   "metadata": {
    "execution": {
     "iopub.execute_input": "2022-06-30T00:39:41.209511Z",
     "iopub.status.busy": "2022-06-30T00:39:41.208940Z",
     "iopub.status.idle": "2022-06-30T00:39:41.246443Z",
     "shell.execute_reply": "2022-06-30T00:39:41.245945Z"
    },
    "papermill": {
     "duration": 0.083105,
     "end_time": "2022-06-30T00:39:41.246547",
     "exception": false,
     "start_time": "2022-06-30T00:39:41.163442",
     "status": "completed"
    },
    "tags": []
   },
   "outputs": [],
   "source": [
    "new_model = Model(layers[:-2])\n",
    "testing_plot = new_model(testing_data_x)"
   ]
  },
  {
   "cell_type": "code",
   "execution_count": 26,
   "id": "4c0a5485",
   "metadata": {
    "execution": {
     "iopub.execute_input": "2022-06-30T00:39:41.339848Z",
     "iopub.status.busy": "2022-06-30T00:39:41.339284Z",
     "iopub.status.idle": "2022-06-30T00:39:41.554569Z",
     "shell.execute_reply": "2022-06-30T00:39:41.553672Z"
    },
    "papermill": {
     "duration": 0.264436,
     "end_time": "2022-06-30T00:39:41.554691",
     "exception": false,
     "start_time": "2022-06-30T00:39:41.290255",
     "status": "completed"
    },
    "tags": []
   },
   "outputs": [
    {
     "data": {
      "text/plain": [
       "Text(0.5, 1.0, 'Outputs')"
      ]
     },
     "execution_count": 26,
     "metadata": {},
     "output_type": "execute_result"
    },
    {
     "data": {
      "image/png": "[encoded data removed]",
      "text/plain": [
       "<Figure size 576x504 with 1 Axes>"
      ]
     },
     "metadata": {
      "needs_background": "light"
     },
     "output_type": "display_data"
    }
   ],
   "source": [
    "# Plotting the scatter plot of points and color coding by class\n",
    "plt.figure(figsize=(8,7))\n",
    "plt.scatter(testing_plot[:,0], testing_plot[:,1], alpha = 0.1, c = y_test.ravel());\n",
    "plt.title('Outputs')"
   ]
  },
  {
   "cell_type": "markdown",
   "id": "a74fcf8f",
   "metadata": {
    "papermill": {
     "duration": 0.045882,
     "end_time": "2022-06-30T00:39:41.667447",
     "exception": false,
     "start_time": "2022-06-30T00:39:41.621565",
     "status": "completed"
    },
    "tags": []
   },
   "source": [
    "Probability contours"
   ]
  },
  {
   "cell_type": "code",
   "execution_count": 27,
   "id": "d0afc8e3",
   "metadata": {
    "execution": {
     "iopub.execute_input": "2022-06-30T00:39:41.765507Z",
     "iopub.status.busy": "2022-06-30T00:39:41.763976Z",
     "iopub.status.idle": "2022-06-30T00:39:41.774629Z",
     "shell.execute_reply": "2022-06-30T00:39:41.775039Z"
    },
    "papermill": {
     "duration": 0.062,
     "end_time": "2022-06-30T00:39:41.775166",
     "exception": false,
     "start_time": "2022-06-30T00:39:41.713166",
     "status": "completed"
    },
    "tags": []
   },
   "outputs": [],
   "source": [
    "model_prob = Model(layers[-2:]) "
   ]
  },
  {
   "cell_type": "code",
   "execution_count": 28,
   "id": "9b96e238",
   "metadata": {
    "execution": {
     "iopub.execute_input": "2022-06-30T00:39:41.871494Z",
     "iopub.status.busy": "2022-06-30T00:39:41.870887Z",
     "iopub.status.idle": "2022-06-30T00:39:41.883860Z",
     "shell.execute_reply": "2022-06-30T00:39:41.884274Z"
    },
    "papermill": {
     "duration": 0.063208,
     "end_time": "2022-06-30T00:39:41.884393",
     "exception": false,
     "start_time": "2022-06-30T00:39:41.821185",
     "status": "completed"
    },
    "tags": []
   },
   "outputs": [],
   "source": [
    "#creating the x and y ranges according to the above generated plot.\n",
    "x_range = np.linspace(-4, 1, 100) \n",
    "y_range = np.linspace(-6, 6, 100) \n",
    "x_grid, y_grid = np.meshgrid(x_range, y_range) # x_grid and y_grig are of size 100 X 100\n",
    "\n",
    "# converting x_grid and y_grid to continuous arrays\n",
    "x_gridflat = np.ravel(x_grid)\n",
    "y_gridflat = np.ravel(y_grid)\n",
    "\n",
    "# The last layer of the current model takes two columns as input. Hence transpose of np.vstack() is required.\n",
    "X = np.vstack((x_gridflat, y_gridflat)).T\n",
    "\n",
    "prob_contour = model_prob(X).reshape(100,100) "
   ]
  },
  {
   "cell_type": "code",
   "execution_count": 29,
   "id": "da72499a",
   "metadata": {
    "execution": {
     "iopub.execute_input": "2022-06-30T00:39:41.987275Z",
     "iopub.status.busy": "2022-06-30T00:39:41.986606Z",
     "iopub.status.idle": "2022-06-30T00:39:42.243118Z",
     "shell.execute_reply": "2022-06-30T00:39:42.242666Z"
    },
    "papermill": {
     "duration": 0.3134,
     "end_time": "2022-06-30T00:39:42.243247",
     "exception": false,
     "start_time": "2022-06-30T00:39:41.929847",
     "status": "completed"
    },
    "tags": []
   },
   "outputs": [
    {
     "data": {
      "image/png": "[encoded data removed]",
      "text/plain": [
       "<Figure size 720x648 with 1 Axes>"
      ]
     },
     "metadata": {
      "needs_background": "light"
     },
     "output_type": "display_data"
    }
   ],
   "source": [
    "plt.figure(figsize=(10,9))\n",
    "plt.scatter(testing_plot[:,0], testing_plot[:,1], alpha = 0.1, c = y_test.ravel())\n",
    "contours = plt.contour(x_grid,y_grid,prob_contour)\n",
    "plt.title('Probability Contours')\n",
    "plt.clabel(contours, inline = True );"
   ]
  },
  {
   "cell_type": "code",
   "execution_count": null,
   "id": "e81b4ac7",
   "metadata": {
    "papermill": {
     "duration": 0.047585,
     "end_time": "2022-06-30T00:39:42.339055",
     "exception": false,
     "start_time": "2022-06-30T00:39:42.291470",
     "status": "completed"
    },
    "tags": []
   },
   "outputs": [],
   "source": []
  }
 ],
 "metadata": {
  "kernelspec": {
   "display_name": "Python 3",
   "language": "python",
   "name": "python3"
  },
  "language_info": {
   "codemirror_mode": {
    "name": "ipython",
    "version": 3
   },
   "file_extension": ".py",
   "mimetype": "text/x-python",
   "name": "python",
   "nbconvert_exporter": "python",
   "pygments_lexer": "ipython3",
   "version": "3.6.15"
  },
  "papermill": {
   "default_parameters": {},
   "duration": 196.25829,
   "end_time": "2022-06-30T00:39:42.705335",
   "environment_variables": {},
   "exception": null,
   "input_path": "2020-08-11-part2.ipynb",
   "output_path": "2020-08-11-part2.ipynb",
   "parameters": {},
   "start_time": "2022-06-30T00:36:26.447045",
   "version": "2.3.3"
  }
 },
 "nbformat": 4,
 "nbformat_minor": 5
}