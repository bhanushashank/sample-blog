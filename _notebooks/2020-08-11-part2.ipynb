{
 "cells": [
  {
   "cell_type": "markdown",
   "id": "98380cd3",
   "metadata": {
    "papermill": {
     "duration": 0.029282,
     "end_time": "2022-05-19T10:11:17.239555",
     "exception": false,
     "start_time": "2022-05-19T10:11:17.210273",
     "status": "completed"
    },
    "tags": []
   },
   "source": [
    "# Distinguish Your Own Digits (DYOD)"
   ]
  },
  {
   "cell_type": "markdown",
   "id": "ef31240d",
   "metadata": {
    "papermill": {
     "duration": 0.024666,
     "end_time": "2022-05-19T10:11:17.289599",
     "exception": false,
     "start_time": "2022-05-19T10:11:17.264933",
     "status": "completed"
    },
    "tags": []
   },
   "source": [
    "You are going to write a classifier that distinguishes between the number 3 and number 8."
   ]
  },
  {
   "cell_type": "code",
   "execution_count": 1,
   "id": "b15c8646",
   "metadata": {
    "execution": {
     "iopub.execute_input": "2022-05-19T10:11:17.347102Z",
     "iopub.status.busy": "2022-05-19T10:11:17.346537Z",
     "iopub.status.idle": "2022-05-19T10:11:17.359346Z",
     "shell.execute_reply": "2022-05-19T10:11:17.358859Z"
    },
    "papermill": {
     "duration": 0.045196,
     "end_time": "2022-05-19T10:11:17.359467",
     "exception": false,
     "start_time": "2022-05-19T10:11:17.314271",
     "status": "completed"
    },
    "tags": []
   },
   "outputs": [],
   "source": [
    "%load_ext autoreload\n",
    "%autoreload 2"
   ]
  },
  {
   "cell_type": "code",
   "execution_count": 2,
   "id": "22ef38dc",
   "metadata": {
    "execution": {
     "iopub.execute_input": "2022-05-19T10:11:17.412927Z",
     "iopub.status.busy": "2022-05-19T10:11:17.412374Z",
     "iopub.status.idle": "2022-05-19T10:11:17.932731Z",
     "shell.execute_reply": "2022-05-19T10:11:17.932233Z"
    },
    "papermill": {
     "duration": 0.548511,
     "end_time": "2022-05-19T10:11:17.932847",
     "exception": false,
     "start_time": "2022-05-19T10:11:17.384336",
     "status": "completed"
    },
    "tags": []
   },
   "outputs": [],
   "source": [
    "%matplotlib inline\n",
    "import numpy as np\n",
    "import matplotlib.pyplot as plt\n",
    "import pandas as pd"
   ]
  },
  {
   "cell_type": "markdown",
   "id": "ba036198",
   "metadata": {
    "papermill": {
     "duration": 0.024733,
     "end_time": "2022-05-19T10:11:17.982584",
     "exception": false,
     "start_time": "2022-05-19T10:11:17.957851",
     "status": "completed"
    },
    "tags": []
   },
   "source": [
    "From the command line run `pip install mnist`. This is a library that will help you bring down the mnist dataset. If you run this from a notebook, you need to put  `!pip install mnist` in a cell by itself."
   ]
  },
  {
   "cell_type": "code",
   "execution_count": 3,
   "id": "bb6ad8a1",
   "metadata": {
    "execution": {
     "iopub.execute_input": "2022-05-19T10:11:18.035648Z",
     "iopub.status.busy": "2022-05-19T10:11:18.035095Z",
     "iopub.status.idle": "2022-05-19T10:11:19.740757Z",
     "shell.execute_reply": "2022-05-19T10:11:19.741203Z"
    },
    "papermill": {
     "duration": 1.734027,
     "end_time": "2022-05-19T10:11:19.741337",
     "exception": false,
     "start_time": "2022-05-19T10:11:18.007310",
     "status": "completed"
    },
    "tags": []
   },
   "outputs": [
    {
     "name": "stdout",
     "output_type": "stream",
     "text": [
      "Collecting mnist\r\n"
     ]
    },
    {
     "name": "stdout",
     "output_type": "stream",
     "text": [
      "  Downloading mnist-0.2.2-py2.py3-none-any.whl (3.5 kB)\r\n"
     ]
    },
    {
     "name": "stdout",
     "output_type": "stream",
     "text": [
      "Requirement already satisfied: numpy in /opt/hostedtoolcache/Python/3.6.15/x64/lib/python3.6/site-packages (from mnist) (1.19.5)\r\n"
     ]
    },
    {
     "name": "stdout",
     "output_type": "stream",
     "text": [
      "Installing collected packages: mnist\r\n",
      "Successfully installed mnist-0.2.2\r\n"
     ]
    }
   ],
   "source": [
    "!pip install mnist"
   ]
  },
  {
   "cell_type": "markdown",
   "id": "69df9c9a",
   "metadata": {
    "papermill": {
     "duration": 0.026192,
     "end_time": "2022-05-19T10:11:19.793580",
     "exception": false,
     "start_time": "2022-05-19T10:11:19.767388",
     "status": "completed"
    },
    "tags": []
   },
   "source": [
    "## Preparing the Data"
   ]
  },
  {
   "cell_type": "code",
   "execution_count": 4,
   "id": "7f69d806",
   "metadata": {
    "execution": {
     "iopub.execute_input": "2022-05-19T10:11:19.851533Z",
     "iopub.status.busy": "2022-05-19T10:11:19.850979Z",
     "iopub.status.idle": "2022-05-19T10:11:19.864806Z",
     "shell.execute_reply": "2022-05-19T10:11:19.864340Z"
    },
    "papermill": {
     "duration": 0.045317,
     "end_time": "2022-05-19T10:11:19.864913",
     "exception": false,
     "start_time": "2022-05-19T10:11:19.819596",
     "status": "completed"
    },
    "tags": []
   },
   "outputs": [],
   "source": [
    "import mnist"
   ]
  },
  {
   "cell_type": "code",
   "execution_count": 5,
   "id": "a411e44f",
   "metadata": {
    "execution": {
     "iopub.execute_input": "2022-05-19T10:11:19.920198Z",
     "iopub.status.busy": "2022-05-19T10:11:19.919604Z",
     "iopub.status.idle": "2022-05-19T10:11:20.536631Z",
     "shell.execute_reply": "2022-05-19T10:11:20.535478Z"
    },
    "papermill": {
     "duration": 0.645849,
     "end_time": "2022-05-19T10:11:20.536753",
     "exception": false,
     "start_time": "2022-05-19T10:11:19.890904",
     "status": "completed"
    },
    "tags": []
   },
   "outputs": [],
   "source": [
    "train_images = mnist.train_images()\n",
    "train_labels = mnist.train_labels()"
   ]
  },
  {
   "cell_type": "code",
   "execution_count": 6,
   "id": "dceab3a5",
   "metadata": {
    "execution": {
     "iopub.execute_input": "2022-05-19T10:11:20.592596Z",
     "iopub.status.busy": "2022-05-19T10:11:20.592011Z",
     "iopub.status.idle": "2022-05-19T10:11:20.606661Z",
     "shell.execute_reply": "2022-05-19T10:11:20.606109Z"
    },
    "papermill": {
     "duration": 0.043704,
     "end_time": "2022-05-19T10:11:20.606768",
     "exception": false,
     "start_time": "2022-05-19T10:11:20.563064",
     "status": "completed"
    },
    "tags": []
   },
   "outputs": [
    {
     "data": {
      "text/plain": [
       "((60000, 28, 28), (60000,))"
      ]
     },
     "execution_count": 6,
     "metadata": {},
     "output_type": "execute_result"
    }
   ],
   "source": [
    "train_images.shape, train_labels.shape"
   ]
  },
  {
   "cell_type": "code",
   "execution_count": 7,
   "id": "f50dc2bb",
   "metadata": {
    "execution": {
     "iopub.execute_input": "2022-05-19T10:11:20.662637Z",
     "iopub.status.busy": "2022-05-19T10:11:20.662074Z",
     "iopub.status.idle": "2022-05-19T10:11:20.889387Z",
     "shell.execute_reply": "2022-05-19T10:11:20.888797Z"
    },
    "papermill": {
     "duration": 0.256619,
     "end_time": "2022-05-19T10:11:20.889498",
     "exception": false,
     "start_time": "2022-05-19T10:11:20.632879",
     "status": "completed"
    },
    "tags": []
   },
   "outputs": [],
   "source": [
    "test_images = mnist.test_images()\n",
    "test_labels = mnist.test_labels()"
   ]
  },
  {
   "cell_type": "code",
   "execution_count": 8,
   "id": "fc38cf1b",
   "metadata": {
    "execution": {
     "iopub.execute_input": "2022-05-19T10:11:20.945521Z",
     "iopub.status.busy": "2022-05-19T10:11:20.944961Z",
     "iopub.status.idle": "2022-05-19T10:11:20.958171Z",
     "shell.execute_reply": "2022-05-19T10:11:20.958719Z"
    },
    "papermill": {
     "duration": 0.043028,
     "end_time": "2022-05-19T10:11:20.958846",
     "exception": false,
     "start_time": "2022-05-19T10:11:20.915818",
     "status": "completed"
    },
    "tags": []
   },
   "outputs": [
    {
     "data": {
      "text/plain": [
       "((10000, 28, 28), (10000,))"
      ]
     },
     "execution_count": 8,
     "metadata": {},
     "output_type": "execute_result"
    }
   ],
   "source": [
    "test_images.shape, test_labels.shape"
   ]
  },
  {
   "cell_type": "code",
   "execution_count": 9,
   "id": "f9ed8fe0",
   "metadata": {
    "execution": {
     "iopub.execute_input": "2022-05-19T10:11:21.015318Z",
     "iopub.status.busy": "2022-05-19T10:11:21.014754Z",
     "iopub.status.idle": "2022-05-19T10:11:21.150690Z",
     "shell.execute_reply": "2022-05-19T10:11:21.150215Z"
    },
    "papermill": {
     "duration": 0.16571,
     "end_time": "2022-05-19T10:11:21.150806",
     "exception": false,
     "start_time": "2022-05-19T10:11:20.985096",
     "status": "completed"
    },
    "tags": []
   },
   "outputs": [
    {
     "name": "stdout",
     "output_type": "stream",
     "text": [
      "2\n"
     ]
    },
    {
     "data": {
      "text/plain": [
       "<matplotlib.image.AxesImage at 0x7f26c2da1e80>"
      ]
     },
     "execution_count": 9,
     "metadata": {},
     "output_type": "execute_result"
    },
    {
     "data": {
      "image/png": "[encoded data removed]",
      "text/plain": [
       "<Figure size 432x288 with 1 Axes>"
      ]
     },
     "metadata": {
      "needs_background": "light"
     },
     "output_type": "display_data"
    }
   ],
   "source": [
    "image_index = 7776 # You may select anything up to 60,000\n",
    "print(train_labels[image_index]) \n",
    "plt.imshow(train_images[image_index], cmap='Greys')"
   ]
  },
  {
   "cell_type": "markdown",
   "id": "a8d2388d",
   "metadata": {
    "papermill": {
     "duration": 0.02756,
     "end_time": "2022-05-19T10:11:21.206106",
     "exception": false,
     "start_time": "2022-05-19T10:11:21.178546",
     "status": "completed"
    },
    "tags": []
   },
   "source": [
    "## Filter data to get 3 and 8 out"
   ]
  },
  {
   "cell_type": "code",
   "execution_count": 10,
   "id": "776f7fc7",
   "metadata": {
    "execution": {
     "iopub.execute_input": "2022-05-19T10:11:21.268640Z",
     "iopub.status.busy": "2022-05-19T10:11:21.264829Z",
     "iopub.status.idle": "2022-05-19T10:11:21.281502Z",
     "shell.execute_reply": "2022-05-19T10:11:21.281026Z"
    },
    "papermill": {
     "duration": 0.048057,
     "end_time": "2022-05-19T10:11:21.281611",
     "exception": false,
     "start_time": "2022-05-19T10:11:21.233554",
     "status": "completed"
    },
    "tags": []
   },
   "outputs": [],
   "source": [
    "train_filter = np.where((train_labels == 3 ) | (train_labels == 8))\n",
    "test_filter = np.where((test_labels == 3) | (test_labels == 8))\n",
    "X_train, y_train = train_images[train_filter], train_labels[train_filter]\n",
    "X_test, y_test = test_images[test_filter], test_labels[test_filter]"
   ]
  },
  {
   "cell_type": "markdown",
   "id": "948f0b7e",
   "metadata": {
    "papermill": {
     "duration": 0.027345,
     "end_time": "2022-05-19T10:11:21.336632",
     "exception": false,
     "start_time": "2022-05-19T10:11:21.309287",
     "status": "completed"
    },
    "tags": []
   },
   "source": [
    "We normalize the pizel values in the 0 to 1 range"
   ]
  },
  {
   "cell_type": "code",
   "execution_count": 11,
   "id": "ee4c2166",
   "metadata": {
    "execution": {
     "iopub.execute_input": "2022-05-19T10:11:21.394827Z",
     "iopub.status.busy": "2022-05-19T10:11:21.394261Z",
     "iopub.status.idle": "2022-05-19T10:11:21.436361Z",
     "shell.execute_reply": "2022-05-19T10:11:21.435863Z"
    },
    "papermill": {
     "duration": 0.072421,
     "end_time": "2022-05-19T10:11:21.436472",
     "exception": false,
     "start_time": "2022-05-19T10:11:21.364051",
     "status": "completed"
    },
    "tags": []
   },
   "outputs": [],
   "source": [
    "X_train = X_train/255.\n",
    "X_test = X_test/255."
   ]
  },
  {
   "cell_type": "markdown",
   "id": "ddcf4fab",
   "metadata": {
    "papermill": {
     "duration": 0.02737,
     "end_time": "2022-05-19T10:11:21.491505",
     "exception": false,
     "start_time": "2022-05-19T10:11:21.464135",
     "status": "completed"
    },
    "tags": []
   },
   "source": [
    "And setup the labels as 1 (when the digit is 3) and 0 (when the digit is 8)"
   ]
  },
  {
   "cell_type": "code",
   "execution_count": 12,
   "id": "7dc908f2",
   "metadata": {
    "execution": {
     "iopub.execute_input": "2022-05-19T10:11:21.550141Z",
     "iopub.status.busy": "2022-05-19T10:11:21.549583Z",
     "iopub.status.idle": "2022-05-19T10:11:21.561765Z",
     "shell.execute_reply": "2022-05-19T10:11:21.561286Z"
    },
    "papermill": {
     "duration": 0.042957,
     "end_time": "2022-05-19T10:11:21.561875",
     "exception": false,
     "start_time": "2022-05-19T10:11:21.518918",
     "status": "completed"
    },
    "tags": []
   },
   "outputs": [],
   "source": [
    "y_train = 1*(y_train==3)\n",
    "y_test = 1*(y_test==3)"
   ]
  },
  {
   "cell_type": "code",
   "execution_count": 13,
   "id": "01e4e969",
   "metadata": {
    "execution": {
     "iopub.execute_input": "2022-05-19T10:11:21.620491Z",
     "iopub.status.busy": "2022-05-19T10:11:21.619926Z",
     "iopub.status.idle": "2022-05-19T10:11:21.633294Z",
     "shell.execute_reply": "2022-05-19T10:11:21.632845Z"
    },
    "papermill": {
     "duration": 0.044063,
     "end_time": "2022-05-19T10:11:21.633401",
     "exception": false,
     "start_time": "2022-05-19T10:11:21.589338",
     "status": "completed"
    },
    "tags": []
   },
   "outputs": [
    {
     "data": {
      "text/plain": [
       "((11982, 28, 28), (1984, 28, 28))"
      ]
     },
     "execution_count": 13,
     "metadata": {},
     "output_type": "execute_result"
    }
   ],
   "source": [
    "X_train.shape, X_test.shape"
   ]
  },
  {
   "cell_type": "markdown",
   "id": "5ccf3f85",
   "metadata": {
    "papermill": {
     "duration": 0.027632,
     "end_time": "2022-05-19T10:11:21.689439",
     "exception": false,
     "start_time": "2022-05-19T10:11:21.661807",
     "status": "completed"
    },
    "tags": []
   },
   "source": [
    "We reshape the data to flatten the image pixels into a set of features or co-variates:"
   ]
  },
  {
   "cell_type": "code",
   "execution_count": 14,
   "id": "5286a4a3",
   "metadata": {
    "execution": {
     "iopub.execute_input": "2022-05-19T10:11:21.749044Z",
     "iopub.status.busy": "2022-05-19T10:11:21.748481Z",
     "iopub.status.idle": "2022-05-19T10:11:21.762432Z",
     "shell.execute_reply": "2022-05-19T10:11:21.761974Z"
    },
    "papermill": {
     "duration": 0.045285,
     "end_time": "2022-05-19T10:11:21.762537",
     "exception": false,
     "start_time": "2022-05-19T10:11:21.717252",
     "status": "completed"
    },
    "tags": []
   },
   "outputs": [
    {
     "data": {
      "text/plain": [
       "((11982, 784), (1984, 784))"
      ]
     },
     "execution_count": 14,
     "metadata": {},
     "output_type": "execute_result"
    }
   ],
   "source": [
    "X_train = X_train.reshape(X_train.shape[0], -1)\n",
    "X_test = X_test.reshape(X_test.shape[0], -1)\n",
    "X_train.shape, X_test.shape"
   ]
  },
  {
   "cell_type": "code",
   "execution_count": 15,
   "id": "73c5f88a",
   "metadata": {
    "execution": {
     "iopub.execute_input": "2022-05-19T10:11:21.822631Z",
     "iopub.status.busy": "2022-05-19T10:11:21.822054Z",
     "iopub.status.idle": "2022-05-19T10:11:21.840834Z",
     "shell.execute_reply": "2022-05-19T10:11:21.840400Z"
    },
    "papermill": {
     "duration": 0.05046,
     "end_time": "2022-05-19T10:11:21.840941",
     "exception": false,
     "start_time": "2022-05-19T10:11:21.790481",
     "status": "completed"
    },
    "tags": []
   },
   "outputs": [],
   "source": [
    "#Impoting functions from 'Kudzu'\n",
    "from kudzu.model import Model\n",
    "from kudzu.train import Learner\n",
    "from kudzu.optim import GD\n",
    "from kudzu.data import Data, Sampler,Dataloader\n",
    "\n",
    "from kudzu.callbacks import AccCallback\n",
    "from kudzu.callbacks import ClfCallback\n",
    "\n",
    "from kudzu.loss import MSE\n",
    "\n",
    "from kudzu.layer import Sigmoid,Relu\n",
    "from kudzu.layer import Affine"
   ]
  },
  {
   "cell_type": "markdown",
   "id": "bc01172a",
   "metadata": {
    "papermill": {
     "duration": 0.028131,
     "end_time": "2022-05-19T10:11:21.896982",
     "exception": false,
     "start_time": "2022-05-19T10:11:21.868851",
     "status": "completed"
    },
    "tags": []
   },
   "source": [
    "### Let us create a `Config` class, to store important parameters. \n",
    "This class essentially plays the role of a dictionary."
   ]
  },
  {
   "cell_type": "code",
   "execution_count": 16,
   "id": "978281aa",
   "metadata": {
    "execution": {
     "iopub.execute_input": "2022-05-19T10:11:21.960229Z",
     "iopub.status.busy": "2022-05-19T10:11:21.956043Z",
     "iopub.status.idle": "2022-05-19T10:11:21.968993Z",
     "shell.execute_reply": "2022-05-19T10:11:21.969436Z"
    },
    "papermill": {
     "duration": 0.044792,
     "end_time": "2022-05-19T10:11:21.969560",
     "exception": false,
     "start_time": "2022-05-19T10:11:21.924768",
     "status": "completed"
    },
    "tags": []
   },
   "outputs": [],
   "source": [
    "class Config:\n",
    "    pass\n",
    "config = Config()\n",
    "config.lr = 0.001\n",
    "config.num_epochs = 250\n",
    "config.bs = 50"
   ]
  },
  {
   "cell_type": "markdown",
   "id": "1385fa59",
   "metadata": {
    "papermill": {
     "duration": 0.028267,
     "end_time": "2022-05-19T10:11:22.025929",
     "exception": false,
     "start_time": "2022-05-19T10:11:21.997662",
     "status": "completed"
    },
    "tags": []
   },
   "source": [
    "### Running Models with the Training data\n",
    "Details about the network layers:\n",
    "- A first affine layer has 784 inputs and does 100 affine transforms. These are followed by a Relu\n",
    "- A second affine layer has 100 inputs from the 100 activations of the past layer, and does 100 affine transforms. These are followed by a Relu\n",
    "- A third affine layer has 100 activations and does 2 affine transformations to create an embedding for visualization. There is no non-linearity here.\n",
    "- A final \"logistic regression\" which has an affine transform from 2 inputs to 1 output, which is squeezed through a sigmoid.\n"
   ]
  },
  {
   "cell_type": "code",
   "execution_count": 17,
   "id": "2b9c66db",
   "metadata": {
    "execution": {
     "iopub.execute_input": "2022-05-19T10:11:22.086048Z",
     "iopub.status.busy": "2022-05-19T10:11:22.085483Z",
     "iopub.status.idle": "2022-05-19T10:11:22.098061Z",
     "shell.execute_reply": "2022-05-19T10:11:22.097517Z"
    },
    "papermill": {
     "duration": 0.044218,
     "end_time": "2022-05-19T10:11:22.098169",
     "exception": false,
     "start_time": "2022-05-19T10:11:22.053951",
     "status": "completed"
    },
    "tags": []
   },
   "outputs": [],
   "source": [
    "data = Data(X_train, y_train.reshape(-1,1))\n",
    "sampler = Sampler(data, config.bs, shuffle=True)\n",
    "\n",
    "dl = Dataloader(data, sampler)\n",
    "\n",
    "opt = GD(config.lr)\n",
    "loss = MSE()"
   ]
  },
  {
   "cell_type": "code",
   "execution_count": 18,
   "id": "b275e4c2",
   "metadata": {
    "execution": {
     "iopub.execute_input": "2022-05-19T10:11:22.158889Z",
     "iopub.status.busy": "2022-05-19T10:11:22.158321Z",
     "iopub.status.idle": "2022-05-19T10:11:22.170581Z",
     "shell.execute_reply": "2022-05-19T10:11:22.170124Z"
    },
    "papermill": {
     "duration": 0.044413,
     "end_time": "2022-05-19T10:11:22.170689",
     "exception": false,
     "start_time": "2022-05-19T10:11:22.126276",
     "status": "completed"
    },
    "tags": []
   },
   "outputs": [],
   "source": [
    "training_data_x = X_train\n",
    "testing_data_x = X_test\n",
    "training_data_y = y_train.reshape(-1,1)\n",
    "testing_data_y = y_test.reshape(-1,1)"
   ]
  },
  {
   "cell_type": "code",
   "execution_count": 19,
   "id": "76951160",
   "metadata": {
    "execution": {
     "iopub.execute_input": "2022-05-19T10:11:22.231250Z",
     "iopub.status.busy": "2022-05-19T10:11:22.230687Z",
     "iopub.status.idle": "2022-05-19T10:11:22.246963Z",
     "shell.execute_reply": "2022-05-19T10:11:22.247427Z"
    },
    "papermill": {
     "duration": 0.048904,
     "end_time": "2022-05-19T10:11:22.247551",
     "exception": false,
     "start_time": "2022-05-19T10:11:22.198647",
     "status": "completed"
    },
    "tags": []
   },
   "outputs": [
    {
     "name": "stdout",
     "output_type": "stream",
     "text": [
      "xavier\n",
      "xavier\n",
      "xavier\n",
      "xavier\n",
      "xavier\n"
     ]
    }
   ],
   "source": [
    "layers = [Affine(\"first\", 784, 100), Relu(\"first\"), Affine(\"second\", 100, 100), Relu(\"second\"), Affine(\"third\", 100, 2), Affine(\"last\", 2, 1), Sigmoid(\"last\")]\n",
    "model_nn = Model(layers)\n",
    "model_lr = Model([Affine(\"logits\", 784, 1), Sigmoid(\"sigmoid\")])"
   ]
  },
  {
   "cell_type": "code",
   "execution_count": 20,
   "id": "6eede77a",
   "metadata": {
    "execution": {
     "iopub.execute_input": "2022-05-19T10:11:22.308187Z",
     "iopub.status.busy": "2022-05-19T10:11:22.307596Z",
     "iopub.status.idle": "2022-05-19T10:11:22.319565Z",
     "shell.execute_reply": "2022-05-19T10:11:22.320015Z"
    },
    "papermill": {
     "duration": 0.044315,
     "end_time": "2022-05-19T10:11:22.320138",
     "exception": false,
     "start_time": "2022-05-19T10:11:22.275823",
     "status": "completed"
    },
    "tags": []
   },
   "outputs": [],
   "source": [
    "nn_learner = Learner(loss, model_nn, opt, config.num_epochs)\n",
    "acc_nn = ClfCallback(nn_learner, config.bs, training_data_x , testing_data_x, training_data_y, testing_data_y)\n",
    "nn_learner.set_callbacks([acc_nn])"
   ]
  },
  {
   "cell_type": "code",
   "execution_count": 21,
   "id": "877b6cc7",
   "metadata": {
    "execution": {
     "iopub.execute_input": "2022-05-19T10:11:22.380770Z",
     "iopub.status.busy": "2022-05-19T10:11:22.380198Z",
     "iopub.status.idle": "2022-05-19T10:11:22.392278Z",
     "shell.execute_reply": "2022-05-19T10:11:22.392717Z"
    },
    "papermill": {
     "duration": 0.044335,
     "end_time": "2022-05-19T10:11:22.392839",
     "exception": false,
     "start_time": "2022-05-19T10:11:22.348504",
     "status": "completed"
    },
    "tags": []
   },
   "outputs": [],
   "source": [
    "lr_learner = Learner(loss, model_lr, opt, config.num_epochs)\n",
    "acc_lr = ClfCallback(lr_learner, config.bs, training_data_x , testing_data_x, training_data_y, testing_data_y)\n",
    "lr_learner.set_callbacks([acc_lr])"
   ]
  },
  {
   "cell_type": "code",
   "execution_count": 22,
   "id": "d9b133c3",
   "metadata": {
    "execution": {
     "iopub.execute_input": "2022-05-19T10:11:22.453559Z",
     "iopub.status.busy": "2022-05-19T10:11:22.453007Z",
     "iopub.status.idle": "2022-05-19T10:14:20.495221Z",
     "shell.execute_reply": "2022-05-19T10:14:20.495696Z"
    },
    "papermill": {
     "duration": 178.07448,
     "end_time": "2022-05-19T10:14:20.495860",
     "exception": false,
     "start_time": "2022-05-19T10:11:22.421380",
     "status": "completed"
    },
    "tags": []
   },
   "outputs": [
    {
     "name": "stdout",
     "output_type": "stream",
     "text": [
      "Epoch 0, Loss 0.243\n",
      "Training Accuracy: 0.6876, Testing Accuracy: 0.6769\n",
      "\n"
     ]
    },
    {
     "name": "stdout",
     "output_type": "stream",
     "text": [
      "Epoch 10, Loss 0.0919\n",
      "Training Accuracy: 0.9102, Testing Accuracy: 0.9259\n",
      "\n"
     ]
    },
    {
     "name": "stdout",
     "output_type": "stream",
     "text": [
      "Epoch 20, Loss 0.0566\n",
      "Training Accuracy: 0.9414, Testing Accuracy: 0.9511\n",
      "\n"
     ]
    },
    {
     "name": "stdout",
     "output_type": "stream",
     "text": [
      "Epoch 30, Loss 0.0441\n",
      "Training Accuracy: 0.9524, Testing Accuracy: 0.9602\n",
      "\n"
     ]
    },
    {
     "name": "stdout",
     "output_type": "stream",
     "text": [
      "Epoch 40, Loss 0.0379\n",
      "Training Accuracy: 0.9584, Testing Accuracy: 0.9627\n",
      "\n"
     ]
    },
    {
     "name": "stdout",
     "output_type": "stream",
     "text": [
      "Epoch 50, Loss 0.0342\n",
      "Training Accuracy: 0.9619, Testing Accuracy: 0.9637\n",
      "\n"
     ]
    },
    {
     "name": "stdout",
     "output_type": "stream",
     "text": [
      "Epoch 60, Loss 0.0317\n",
      "Training Accuracy: 0.9640, Testing Accuracy: 0.9662\n",
      "\n"
     ]
    },
    {
     "name": "stdout",
     "output_type": "stream",
     "text": [
      "Epoch 70, Loss 0.0299\n",
      "Training Accuracy: 0.9664, Testing Accuracy: 0.9677\n",
      "\n"
     ]
    },
    {
     "name": "stdout",
     "output_type": "stream",
     "text": [
      "Epoch 80, Loss 0.0284\n",
      "Training Accuracy: 0.9680, Testing Accuracy: 0.9667\n",
      "\n"
     ]
    },
    {
     "name": "stdout",
     "output_type": "stream",
     "text": [
      "Epoch 90, Loss 0.0272\n",
      "Training Accuracy: 0.9688, Testing Accuracy: 0.9677\n",
      "\n"
     ]
    },
    {
     "name": "stdout",
     "output_type": "stream",
     "text": [
      "Epoch 100, Loss 0.0262\n",
      "Training Accuracy: 0.9698, Testing Accuracy: 0.9682\n",
      "\n"
     ]
    },
    {
     "name": "stdout",
     "output_type": "stream",
     "text": [
      "Epoch 110, Loss 0.0253\n",
      "Training Accuracy: 0.9708, Testing Accuracy: 0.9688\n",
      "\n"
     ]
    },
    {
     "name": "stdout",
     "output_type": "stream",
     "text": [
      "Epoch 120, Loss 0.0245\n",
      "Training Accuracy: 0.9715, Testing Accuracy: 0.9698\n",
      "\n"
     ]
    },
    {
     "name": "stdout",
     "output_type": "stream",
     "text": [
      "Epoch 130, Loss 0.0238\n",
      "Training Accuracy: 0.9721, Testing Accuracy: 0.9708\n",
      "\n"
     ]
    },
    {
     "name": "stdout",
     "output_type": "stream",
     "text": [
      "Epoch 140, Loss 0.0232\n",
      "Training Accuracy: 0.9729, Testing Accuracy: 0.9713\n",
      "\n"
     ]
    },
    {
     "name": "stdout",
     "output_type": "stream",
     "text": [
      "Epoch 150, Loss 0.0226\n",
      "Training Accuracy: 0.9738, Testing Accuracy: 0.9713\n",
      "\n"
     ]
    },
    {
     "name": "stdout",
     "output_type": "stream",
     "text": [
      "Epoch 160, Loss 0.022\n",
      "Training Accuracy: 0.9747, Testing Accuracy: 0.9718\n",
      "\n"
     ]
    },
    {
     "name": "stdout",
     "output_type": "stream",
     "text": [
      "Epoch 170, Loss 0.0215\n",
      "Training Accuracy: 0.9755, Testing Accuracy: 0.9718\n",
      "\n"
     ]
    },
    {
     "name": "stdout",
     "output_type": "stream",
     "text": [
      "Epoch 180, Loss 0.021\n",
      "Training Accuracy: 0.9756, Testing Accuracy: 0.9718\n",
      "\n"
     ]
    },
    {
     "name": "stdout",
     "output_type": "stream",
     "text": [
      "Epoch 190, Loss 0.0205\n",
      "Training Accuracy: 0.9760, Testing Accuracy: 0.9723\n",
      "\n"
     ]
    },
    {
     "name": "stdout",
     "output_type": "stream",
     "text": [
      "Epoch 200, Loss 0.0201\n",
      "Training Accuracy: 0.9768, Testing Accuracy: 0.9728\n",
      "\n"
     ]
    },
    {
     "name": "stdout",
     "output_type": "stream",
     "text": [
      "Epoch 210, Loss 0.0197\n",
      "Training Accuracy: 0.9779, Testing Accuracy: 0.9728\n",
      "\n"
     ]
    },
    {
     "name": "stdout",
     "output_type": "stream",
     "text": [
      "Epoch 220, Loss 0.0192\n",
      "Training Accuracy: 0.9787, Testing Accuracy: 0.9733\n",
      "\n"
     ]
    },
    {
     "name": "stdout",
     "output_type": "stream",
     "text": [
      "Epoch 230, Loss 0.0188\n",
      "Training Accuracy: 0.9791, Testing Accuracy: 0.9738\n",
      "\n"
     ]
    },
    {
     "name": "stdout",
     "output_type": "stream",
     "text": [
      "Epoch 240, Loss 0.0185\n",
      "Training Accuracy: 0.9796, Testing Accuracy: 0.9743\n",
      "\n"
     ]
    },
    {
     "data": {
      "text/plain": [
       "0.00944150226044107"
      ]
     },
     "execution_count": 22,
     "metadata": {},
     "output_type": "execute_result"
    }
   ],
   "source": [
    "nn_learner.train_loop(dl)"
   ]
  },
  {
   "cell_type": "code",
   "execution_count": 23,
   "id": "e0163366",
   "metadata": {
    "execution": {
     "iopub.execute_input": "2022-05-19T10:14:20.574276Z",
     "iopub.status.busy": "2022-05-19T10:14:20.571448Z",
     "iopub.status.idle": "2022-05-19T10:14:33.008094Z",
     "shell.execute_reply": "2022-05-19T10:14:33.008637Z"
    },
    "papermill": {
     "duration": 12.477196,
     "end_time": "2022-05-19T10:14:33.008762",
     "exception": false,
     "start_time": "2022-05-19T10:14:20.531566",
     "status": "completed"
    },
    "tags": []
   },
   "outputs": [
    {
     "name": "stdout",
     "output_type": "stream",
     "text": [
      "Epoch 0, Loss 0.2536\n",
      "Training Accuracy: 0.6253, Testing Accuracy: 0.6694\n",
      "\n"
     ]
    },
    {
     "name": "stdout",
     "output_type": "stream",
     "text": [
      "Epoch 10, Loss 0.1019\n",
      "Training Accuracy: 0.9132, Testing Accuracy: 0.9264\n",
      "\n"
     ]
    },
    {
     "name": "stdout",
     "output_type": "stream",
     "text": [
      "Epoch 20, Loss 0.0785\n",
      "Training Accuracy: 0.9284, Testing Accuracy: 0.9405\n",
      "\n"
     ]
    },
    {
     "name": "stdout",
     "output_type": "stream",
     "text": [
      "Epoch 30, Loss 0.0678\n",
      "Training Accuracy: 0.9373, Testing Accuracy: 0.9481\n",
      "\n"
     ]
    },
    {
     "name": "stdout",
     "output_type": "stream",
     "text": [
      "Epoch 40, Loss 0.0613\n",
      "Training Accuracy: 0.9422, Testing Accuracy: 0.9536\n",
      "\n"
     ]
    },
    {
     "name": "stdout",
     "output_type": "stream",
     "text": [
      "Epoch 50, Loss 0.0569\n",
      "Training Accuracy: 0.9454, Testing Accuracy: 0.9561\n",
      "\n"
     ]
    },
    {
     "name": "stdout",
     "output_type": "stream",
     "text": [
      "Epoch 60, Loss 0.0536\n",
      "Training Accuracy: 0.9475, Testing Accuracy: 0.9577\n",
      "\n"
     ]
    },
    {
     "name": "stdout",
     "output_type": "stream",
     "text": [
      "Epoch 70, Loss 0.0511\n",
      "Training Accuracy: 0.9490, Testing Accuracy: 0.9597\n",
      "\n"
     ]
    },
    {
     "name": "stdout",
     "output_type": "stream",
     "text": [
      "Epoch 80, Loss 0.0491\n",
      "Training Accuracy: 0.9502, Testing Accuracy: 0.9602\n",
      "\n"
     ]
    },
    {
     "name": "stdout",
     "output_type": "stream",
     "text": [
      "Epoch 90, Loss 0.0474\n",
      "Training Accuracy: 0.9518, Testing Accuracy: 0.9602\n",
      "\n"
     ]
    },
    {
     "name": "stdout",
     "output_type": "stream",
     "text": [
      "Epoch 100, Loss 0.046\n",
      "Training Accuracy: 0.9527, Testing Accuracy: 0.9617\n",
      "\n"
     ]
    },
    {
     "name": "stdout",
     "output_type": "stream",
     "text": [
      "Epoch 110, Loss 0.0448\n",
      "Training Accuracy: 0.9538, Testing Accuracy: 0.9627\n",
      "\n"
     ]
    },
    {
     "name": "stdout",
     "output_type": "stream",
     "text": [
      "Epoch 120, Loss 0.0438\n",
      "Training Accuracy: 0.9548, Testing Accuracy: 0.9632\n",
      "\n"
     ]
    },
    {
     "name": "stdout",
     "output_type": "stream",
     "text": [
      "Epoch 130, Loss 0.0428\n",
      "Training Accuracy: 0.9555, Testing Accuracy: 0.9637\n",
      "\n"
     ]
    },
    {
     "name": "stdout",
     "output_type": "stream",
     "text": [
      "Epoch 140, Loss 0.042\n",
      "Training Accuracy: 0.9559, Testing Accuracy: 0.9647\n",
      "\n"
     ]
    },
    {
     "name": "stdout",
     "output_type": "stream",
     "text": [
      "Epoch 150, Loss 0.0413\n",
      "Training Accuracy: 0.9568, Testing Accuracy: 0.9657\n",
      "\n"
     ]
    },
    {
     "name": "stdout",
     "output_type": "stream",
     "text": [
      "Epoch 160, Loss 0.0406\n",
      "Training Accuracy: 0.9576, Testing Accuracy: 0.9657\n",
      "\n"
     ]
    },
    {
     "name": "stdout",
     "output_type": "stream",
     "text": [
      "Epoch 170, Loss 0.04\n",
      "Training Accuracy: 0.9582, Testing Accuracy: 0.9662\n",
      "\n"
     ]
    },
    {
     "name": "stdout",
     "output_type": "stream",
     "text": [
      "Epoch 180, Loss 0.0394\n",
      "Training Accuracy: 0.9588, Testing Accuracy: 0.9662\n",
      "\n"
     ]
    },
    {
     "name": "stdout",
     "output_type": "stream",
     "text": [
      "Epoch 190, Loss 0.0389\n",
      "Training Accuracy: 0.9591, Testing Accuracy: 0.9662\n",
      "\n"
     ]
    },
    {
     "name": "stdout",
     "output_type": "stream",
     "text": [
      "Epoch 200, Loss 0.0385\n",
      "Training Accuracy: 0.9592, Testing Accuracy: 0.9662\n",
      "\n"
     ]
    },
    {
     "name": "stdout",
     "output_type": "stream",
     "text": [
      "Epoch 210, Loss 0.038\n",
      "Training Accuracy: 0.9594, Testing Accuracy: 0.9672\n",
      "\n"
     ]
    },
    {
     "name": "stdout",
     "output_type": "stream",
     "text": [
      "Epoch 220, Loss 0.0376\n",
      "Training Accuracy: 0.9596, Testing Accuracy: 0.9667\n",
      "\n"
     ]
    },
    {
     "name": "stdout",
     "output_type": "stream",
     "text": [
      "Epoch 230, Loss 0.0372\n",
      "Training Accuracy: 0.9601, Testing Accuracy: 0.9667\n",
      "\n"
     ]
    },
    {
     "name": "stdout",
     "output_type": "stream",
     "text": [
      "Epoch 240, Loss 0.0369\n",
      "Training Accuracy: 0.9606, Testing Accuracy: 0.9672\n",
      "\n"
     ]
    },
    {
     "data": {
      "text/plain": [
       "0.04490382921162316"
      ]
     },
     "execution_count": 23,
     "metadata": {},
     "output_type": "execute_result"
    }
   ],
   "source": [
    "lr_learner.train_loop(dl)"
   ]
  },
  {
   "cell_type": "code",
   "execution_count": 24,
   "id": "ca410940",
   "metadata": {
    "execution": {
     "iopub.execute_input": "2022-05-19T10:14:33.102162Z",
     "iopub.status.busy": "2022-05-19T10:14:33.098862Z",
     "iopub.status.idle": "2022-05-19T10:14:33.337547Z",
     "shell.execute_reply": "2022-05-19T10:14:33.337988Z"
    },
    "papermill": {
     "duration": 0.287016,
     "end_time": "2022-05-19T10:14:33.338122",
     "exception": false,
     "start_time": "2022-05-19T10:14:33.051106",
     "status": "completed"
    },
    "tags": []
   },
   "outputs": [
    {
     "data": {
      "text/plain": [
       "<matplotlib.legend.Legend at 0x7f26c29135f8>"
      ]
     },
     "execution_count": 24,
     "metadata": {},
     "output_type": "execute_result"
    },
    {
     "data": {
      "image/png": "[encoded data removed]",
      "text/plain": [
       "<Figure size 1080x720 with 1 Axes>"
      ]
     },
     "metadata": {
      "needs_background": "light"
     },
     "output_type": "display_data"
    }
   ],
   "source": [
    "#comparing the results of NN and LR\n",
    "plt.figure(figsize=(15,10))\n",
    "\n",
    "# Neural Network plots\n",
    "plt.plot(acc_nn.accuracies, 'r-', label = \"Training Accuracies - NN\")\n",
    "plt.plot(acc_nn.test_accuracies, 'g-', label = \"Testing Accuracies - NN\")\n",
    "\n",
    "# Logistic Regression plots\n",
    "plt.plot(acc_lr.accuracies, 'k-', label = \"Training Accuracies - LR\")\n",
    "plt.plot(acc_lr.test_accuracies, 'b-', label = \"Testing Accuracies - LR\")\n",
    "plt.legend()"
   ]
  },
  {
   "cell_type": "markdown",
   "id": "80dfb35c",
   "metadata": {
    "papermill": {
     "duration": 0.043594,
     "end_time": "2022-05-19T10:14:33.425670",
     "exception": false,
     "start_time": "2022-05-19T10:14:33.382076",
     "status": "completed"
    },
    "tags": []
   },
   "source": [
    "#### Plotting the outputs of this layer of the NN.\n"
   ]
  },
  {
   "cell_type": "code",
   "execution_count": 25,
   "id": "45eb2ff5",
   "metadata": {
    "execution": {
     "iopub.execute_input": "2022-05-19T10:14:33.516951Z",
     "iopub.status.busy": "2022-05-19T10:14:33.515869Z",
     "iopub.status.idle": "2022-05-19T10:14:33.552732Z",
     "shell.execute_reply": "2022-05-19T10:14:33.551916Z"
    },
    "papermill": {
     "duration": 0.083577,
     "end_time": "2022-05-19T10:14:33.552851",
     "exception": false,
     "start_time": "2022-05-19T10:14:33.469274",
     "status": "completed"
    },
    "tags": []
   },
   "outputs": [],
   "source": [
    "new_model = Model(layers[:-2])\n",
    "testing_plot = new_model(testing_data_x)"
   ]
  },
  {
   "cell_type": "code",
   "execution_count": 26,
   "id": "4c0a5485",
   "metadata": {
    "execution": {
     "iopub.execute_input": "2022-05-19T10:14:33.645911Z",
     "iopub.status.busy": "2022-05-19T10:14:33.645345Z",
     "iopub.status.idle": "2022-05-19T10:14:33.824054Z",
     "shell.execute_reply": "2022-05-19T10:14:33.824520Z"
    },
    "papermill": {
     "duration": 0.227305,
     "end_time": "2022-05-19T10:14:33.824649",
     "exception": false,
     "start_time": "2022-05-19T10:14:33.597344",
     "status": "completed"
    },
    "tags": []
   },
   "outputs": [
    {
     "data": {
      "text/plain": [
       "Text(0.5, 1.0, 'Outputs')"
      ]
     },
     "execution_count": 26,
     "metadata": {},
     "output_type": "execute_result"
    },
    {
     "data": {
      "image/png": "[encoded data removed]",
      "text/plain": [
       "<Figure size 576x504 with 1 Axes>"
      ]
     },
     "metadata": {
      "needs_background": "light"
     },
     "output_type": "display_data"
    }
   ],
   "source": [
    "# Plotting the scatter plot of points and color coding by class\n",
    "plt.figure(figsize=(8,7))\n",
    "plt.scatter(testing_plot[:,0], testing_plot[:,1], alpha = 0.1, c = y_test.ravel());\n",
    "plt.title('Outputs')"
   ]
  },
  {
   "cell_type": "markdown",
   "id": "a74fcf8f",
   "metadata": {
    "papermill": {
     "duration": 0.045596,
     "end_time": "2022-05-19T10:14:33.938350",
     "exception": false,
     "start_time": "2022-05-19T10:14:33.892754",
     "status": "completed"
    },
    "tags": []
   },
   "source": [
    "Probability contours"
   ]
  },
  {
   "cell_type": "code",
   "execution_count": 27,
   "id": "d0afc8e3",
   "metadata": {
    "execution": {
     "iopub.execute_input": "2022-05-19T10:14:34.033512Z",
     "iopub.status.busy": "2022-05-19T10:14:34.032954Z",
     "iopub.status.idle": "2022-05-19T10:14:34.044152Z",
     "shell.execute_reply": "2022-05-19T10:14:34.044593Z"
    },
    "papermill": {
     "duration": 0.060583,
     "end_time": "2022-05-19T10:14:34.044713",
     "exception": false,
     "start_time": "2022-05-19T10:14:33.984130",
     "status": "completed"
    },
    "tags": []
   },
   "outputs": [],
   "source": [
    "model_prob = Model(layers[-2:]) "
   ]
  },
  {
   "cell_type": "code",
   "execution_count": 28,
   "id": "9b96e238",
   "metadata": {
    "execution": {
     "iopub.execute_input": "2022-05-19T10:14:34.140152Z",
     "iopub.status.busy": "2022-05-19T10:14:34.139569Z",
     "iopub.status.idle": "2022-05-19T10:14:34.152549Z",
     "shell.execute_reply": "2022-05-19T10:14:34.152990Z"
    },
    "papermill": {
     "duration": 0.062724,
     "end_time": "2022-05-19T10:14:34.153113",
     "exception": false,
     "start_time": "2022-05-19T10:14:34.090389",
     "status": "completed"
    },
    "tags": []
   },
   "outputs": [],
   "source": [
    "#creating the x and y ranges according to the above generated plot.\n",
    "x_range = np.linspace(-4, 1, 100) \n",
    "y_range = np.linspace(-6, 6, 100) \n",
    "x_grid, y_grid = np.meshgrid(x_range, y_range) # x_grid and y_grig are of size 100 X 100\n",
    "\n",
    "# converting x_grid and y_grid to continuous arrays\n",
    "x_gridflat = np.ravel(x_grid)\n",
    "y_gridflat = np.ravel(y_grid)\n",
    "\n",
    "# The last layer of the current model takes two columns as input. Hence transpose of np.vstack() is required.\n",
    "X = np.vstack((x_gridflat, y_gridflat)).T\n",
    "\n",
    "prob_contour = model_prob(X).reshape(100,100) "
   ]
  },
  {
   "cell_type": "code",
   "execution_count": 29,
   "id": "da72499a",
   "metadata": {
    "execution": {
     "iopub.execute_input": "2022-05-19T10:14:34.252392Z",
     "iopub.status.busy": "2022-05-19T10:14:34.250990Z",
     "iopub.status.idle": "2022-05-19T10:14:34.487174Z",
     "shell.execute_reply": "2022-05-19T10:14:34.486690Z"
    },
    "papermill": {
     "duration": 0.287383,
     "end_time": "2022-05-19T10:14:34.487285",
     "exception": false,
     "start_time": "2022-05-19T10:14:34.199902",
     "status": "completed"
    },
    "tags": []
   },
   "outputs": [
    {
     "data": {
      "image/png": "[encoded data removed]",
      "text/plain": [
       "<Figure size 720x648 with 1 Axes>"
      ]
     },
     "metadata": {
      "needs_background": "light"
     },
     "output_type": "display_data"
    }
   ],
   "source": [
    "plt.figure(figsize=(10,9))\n",
    "plt.scatter(testing_plot[:,0], testing_plot[:,1], alpha = 0.1, c = y_test.ravel())\n",
    "contours = plt.contour(x_grid,y_grid,prob_contour)\n",
    "plt.title('Probability Contours')\n",
    "plt.clabel(contours, inline = True );"
   ]
  },
  {
   "cell_type": "code",
   "execution_count": null,
   "id": "e81b4ac7",
   "metadata": {
    "papermill": {
     "duration": 0.047905,
     "end_time": "2022-05-19T10:14:34.583717",
     "exception": false,
     "start_time": "2022-05-19T10:14:34.535812",
     "status": "completed"
    },
    "tags": []
   },
   "outputs": [],
   "source": []
  }
 ],
 "metadata": {
  "kernelspec": {
   "display_name": "Python 3",
   "language": "python",
   "name": "python3"
  },
  "language_info": {
   "codemirror_mode": {
    "name": "ipython",
    "version": 3
   },
   "file_extension": ".py",
   "mimetype": "text/x-python",
   "name": "python",
   "nbconvert_exporter": "python",
   "pygments_lexer": "ipython3",
   "version": "3.6.15"
  },
  "papermill": {
   "default_parameters": {},
   "duration": 198.671764,
   "end_time": "2022-05-19T10:14:34.949349",
   "environment_variables": {},
   "exception": null,
   "input_path": "2020-08-11-part2.ipynb",
   "output_path": "2020-08-11-part2.ipynb",
   "parameters": {},
   "start_time": "2022-05-19T10:11:16.277585",
   "version": "2.3.3"
  }
 },
 "nbformat": 4,
 "nbformat_minor": 5
}