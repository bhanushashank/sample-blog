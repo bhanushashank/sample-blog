{
 "cells": [
  {
   "cell_type": "markdown",
   "id": "98380cd3",
   "metadata": {
    "papermill": {
     "duration": 0.028114,
     "end_time": "2022-03-05T10:08:46.838980",
     "exception": false,
     "start_time": "2022-03-05T10:08:46.810866",
     "status": "completed"
    },
    "tags": []
   },
   "source": [
    "# Distinguish Your Own Digits (DYOD)"
   ]
  },
  {
   "cell_type": "markdown",
   "id": "ef31240d",
   "metadata": {
    "papermill": {
     "duration": 0.025283,
     "end_time": "2022-03-05T10:08:46.888795",
     "exception": false,
     "start_time": "2022-03-05T10:08:46.863512",
     "status": "completed"
    },
    "tags": []
   },
   "source": [
    "You are going to write a classifier that distinguishes between the number 3 and number 8."
   ]
  },
  {
   "cell_type": "code",
   "execution_count": 1,
   "id": "b15c8646",
   "metadata": {
    "execution": {
     "iopub.execute_input": "2022-03-05T10:08:46.947661Z",
     "iopub.status.busy": "2022-03-05T10:08:46.947110Z",
     "iopub.status.idle": "2022-03-05T10:08:46.958066Z",
     "shell.execute_reply": "2022-03-05T10:08:46.957633Z"
    },
    "papermill": {
     "duration": 0.045781,
     "end_time": "2022-03-05T10:08:46.958195",
     "exception": false,
     "start_time": "2022-03-05T10:08:46.912414",
     "status": "completed"
    },
    "tags": []
   },
   "outputs": [],
   "source": [
    "%load_ext autoreload\n",
    "%autoreload 2"
   ]
  },
  {
   "cell_type": "code",
   "execution_count": 2,
   "id": "22ef38dc",
   "metadata": {
    "execution": {
     "iopub.execute_input": "2022-03-05T10:08:47.011698Z",
     "iopub.status.busy": "2022-03-05T10:08:47.011183Z",
     "iopub.status.idle": "2022-03-05T10:08:47.601393Z",
     "shell.execute_reply": "2022-03-05T10:08:47.600861Z"
    },
    "papermill": {
     "duration": 0.619168,
     "end_time": "2022-03-05T10:08:47.601522",
     "exception": false,
     "start_time": "2022-03-05T10:08:46.982354",
     "status": "completed"
    },
    "tags": []
   },
   "outputs": [],
   "source": [
    "%matplotlib inline\n",
    "import numpy as np\n",
    "import matplotlib.pyplot as plt\n",
    "import pandas as pd"
   ]
  },
  {
   "cell_type": "markdown",
   "id": "ba036198",
   "metadata": {
    "papermill": {
     "duration": 0.023885,
     "end_time": "2022-03-05T10:08:47.649398",
     "exception": false,
     "start_time": "2022-03-05T10:08:47.625513",
     "status": "completed"
    },
    "tags": []
   },
   "source": [
    "From the command line run `pip install mnist`. This is a library that will help you bring down the mnist dataset. If you run this from a notebook, you need to put  `!pip install mnist` in a cell by itself."
   ]
  },
  {
   "cell_type": "code",
   "execution_count": 3,
   "id": "bb6ad8a1",
   "metadata": {
    "execution": {
     "iopub.execute_input": "2022-03-05T10:08:47.701483Z",
     "iopub.status.busy": "2022-03-05T10:08:47.700975Z",
     "iopub.status.idle": "2022-03-05T10:08:49.417278Z",
     "shell.execute_reply": "2022-03-05T10:08:49.416746Z"
    },
    "papermill": {
     "duration": 1.744015,
     "end_time": "2022-03-05T10:08:49.417420",
     "exception": false,
     "start_time": "2022-03-05T10:08:47.673405",
     "status": "completed"
    },
    "tags": []
   },
   "outputs": [
    {
     "name": "stdout",
     "output_type": "stream",
     "text": [
      "Collecting mnist\r\n"
     ]
    },
    {
     "name": "stdout",
     "output_type": "stream",
     "text": [
      "  Downloading mnist-0.2.2-py2.py3-none-any.whl (3.5 kB)\r\n",
      "Requirement already satisfied: numpy in /opt/hostedtoolcache/Python/3.6.15/x64/lib/python3.6/site-packages (from mnist) (1.19.5)\r\n"
     ]
    },
    {
     "name": "stdout",
     "output_type": "stream",
     "text": [
      "Installing collected packages: mnist\r\n"
     ]
    },
    {
     "name": "stdout",
     "output_type": "stream",
     "text": [
      "Successfully installed mnist-0.2.2\r\n"
     ]
    }
   ],
   "source": [
    "!pip install mnist"
   ]
  },
  {
   "cell_type": "markdown",
   "id": "69df9c9a",
   "metadata": {
    "papermill": {
     "duration": 0.025364,
     "end_time": "2022-03-05T10:08:49.469032",
     "exception": false,
     "start_time": "2022-03-05T10:08:49.443668",
     "status": "completed"
    },
    "tags": []
   },
   "source": [
    "## Preparing the Data"
   ]
  },
  {
   "cell_type": "code",
   "execution_count": 4,
   "id": "7f69d806",
   "metadata": {
    "execution": {
     "iopub.execute_input": "2022-03-05T10:08:49.524900Z",
     "iopub.status.busy": "2022-03-05T10:08:49.524383Z",
     "iopub.status.idle": "2022-03-05T10:08:49.538002Z",
     "shell.execute_reply": "2022-03-05T10:08:49.537584Z"
    },
    "papermill": {
     "duration": 0.043895,
     "end_time": "2022-03-05T10:08:49.538119",
     "exception": false,
     "start_time": "2022-03-05T10:08:49.494224",
     "status": "completed"
    },
    "tags": []
   },
   "outputs": [],
   "source": [
    "import mnist"
   ]
  },
  {
   "cell_type": "code",
   "execution_count": 5,
   "id": "a411e44f",
   "metadata": {
    "execution": {
     "iopub.execute_input": "2022-03-05T10:08:49.592491Z",
     "iopub.status.busy": "2022-03-05T10:08:49.591977Z",
     "iopub.status.idle": "2022-03-05T10:08:50.134333Z",
     "shell.execute_reply": "2022-03-05T10:08:50.133812Z"
    },
    "papermill": {
     "duration": 0.57108,
     "end_time": "2022-03-05T10:08:50.134484",
     "exception": false,
     "start_time": "2022-03-05T10:08:49.563404",
     "status": "completed"
    },
    "tags": []
   },
   "outputs": [],
   "source": [
    "train_images = mnist.train_images()\n",
    "train_labels = mnist.train_labels()"
   ]
  },
  {
   "cell_type": "code",
   "execution_count": 6,
   "id": "dceab3a5",
   "metadata": {
    "execution": {
     "iopub.execute_input": "2022-03-05T10:08:50.193082Z",
     "iopub.status.busy": "2022-03-05T10:08:50.192545Z",
     "iopub.status.idle": "2022-03-05T10:08:50.204961Z",
     "shell.execute_reply": "2022-03-05T10:08:50.204523Z"
    },
    "papermill": {
     "duration": 0.04485,
     "end_time": "2022-03-05T10:08:50.205073",
     "exception": false,
     "start_time": "2022-03-05T10:08:50.160223",
     "status": "completed"
    },
    "tags": []
   },
   "outputs": [
    {
     "data": {
      "text/plain": [
       "((60000, 28, 28), (60000,))"
      ]
     },
     "execution_count": 6,
     "metadata": {},
     "output_type": "execute_result"
    }
   ],
   "source": [
    "train_images.shape, train_labels.shape"
   ]
  },
  {
   "cell_type": "code",
   "execution_count": 7,
   "id": "f50dc2bb",
   "metadata": {
    "execution": {
     "iopub.execute_input": "2022-03-05T10:08:50.272649Z",
     "iopub.status.busy": "2022-03-05T10:08:50.271822Z",
     "iopub.status.idle": "2022-03-05T10:08:50.409262Z",
     "shell.execute_reply": "2022-03-05T10:08:50.408719Z"
    },
    "papermill": {
     "duration": 0.178963,
     "end_time": "2022-03-05T10:08:50.409402",
     "exception": false,
     "start_time": "2022-03-05T10:08:50.230439",
     "status": "completed"
    },
    "tags": []
   },
   "outputs": [],
   "source": [
    "test_images = mnist.test_images()\n",
    "test_labels = mnist.test_labels()"
   ]
  },
  {
   "cell_type": "code",
   "execution_count": 8,
   "id": "fc38cf1b",
   "metadata": {
    "execution": {
     "iopub.execute_input": "2022-03-05T10:08:50.473069Z",
     "iopub.status.busy": "2022-03-05T10:08:50.470543Z",
     "iopub.status.idle": "2022-03-05T10:08:50.480756Z",
     "shell.execute_reply": "2022-03-05T10:08:50.481185Z"
    },
    "papermill": {
     "duration": 0.045451,
     "end_time": "2022-03-05T10:08:50.481314",
     "exception": false,
     "start_time": "2022-03-05T10:08:50.435863",
     "status": "completed"
    },
    "tags": []
   },
   "outputs": [
    {
     "data": {
      "text/plain": [
       "((10000, 28, 28), (10000,))"
      ]
     },
     "execution_count": 8,
     "metadata": {},
     "output_type": "execute_result"
    }
   ],
   "source": [
    "test_images.shape, test_labels.shape"
   ]
  },
  {
   "cell_type": "code",
   "execution_count": 9,
   "id": "f9ed8fe0",
   "metadata": {
    "execution": {
     "iopub.execute_input": "2022-03-05T10:08:50.539161Z",
     "iopub.status.busy": "2022-03-05T10:08:50.536359Z",
     "iopub.status.idle": "2022-03-05T10:08:50.674132Z",
     "shell.execute_reply": "2022-03-05T10:08:50.674669Z"
    },
    "papermill": {
     "duration": 0.167889,
     "end_time": "2022-03-05T10:08:50.674840",
     "exception": false,
     "start_time": "2022-03-05T10:08:50.506951",
     "status": "completed"
    },
    "tags": []
   },
   "outputs": [
    {
     "name": "stdout",
     "output_type": "stream",
     "text": [
      "2\n"
     ]
    },
    {
     "data": {
      "text/plain": [
       "<matplotlib.image.AxesImage at 0x7f5dcf66c550>"
      ]
     },
     "execution_count": 9,
     "metadata": {},
     "output_type": "execute_result"
    },
    {
     "data": {
      "image/png": "[encoded data removed]",
      "text/plain": [
       "<Figure size 432x288 with 1 Axes>"
      ]
     },
     "metadata": {
      "needs_background": "light"
     },
     "output_type": "display_data"
    }
   ],
   "source": [
    "image_index = 7776 # You may select anything up to 60,000\n",
    "print(train_labels[image_index]) \n",
    "plt.imshow(train_images[image_index], cmap='Greys')"
   ]
  },
  {
   "cell_type": "markdown",
   "id": "a8d2388d",
   "metadata": {
    "papermill": {
     "duration": 0.027018,
     "end_time": "2022-03-05T10:08:50.729529",
     "exception": false,
     "start_time": "2022-03-05T10:08:50.702511",
     "status": "completed"
    },
    "tags": []
   },
   "source": [
    "## Filter data to get 3 and 8 out"
   ]
  },
  {
   "cell_type": "code",
   "execution_count": 10,
   "id": "776f7fc7",
   "metadata": {
    "execution": {
     "iopub.execute_input": "2022-03-05T10:08:50.791136Z",
     "iopub.status.busy": "2022-03-05T10:08:50.786756Z",
     "iopub.status.idle": "2022-03-05T10:08:50.806018Z",
     "shell.execute_reply": "2022-03-05T10:08:50.805580Z"
    },
    "papermill": {
     "duration": 0.049949,
     "end_time": "2022-03-05T10:08:50.806128",
     "exception": false,
     "start_time": "2022-03-05T10:08:50.756179",
     "status": "completed"
    },
    "tags": []
   },
   "outputs": [],
   "source": [
    "train_filter = np.where((train_labels == 3 ) | (train_labels == 8))\n",
    "test_filter = np.where((test_labels == 3) | (test_labels == 8))\n",
    "X_train, y_train = train_images[train_filter], train_labels[train_filter]\n",
    "X_test, y_test = test_images[test_filter], test_labels[test_filter]"
   ]
  },
  {
   "cell_type": "markdown",
   "id": "948f0b7e",
   "metadata": {
    "papermill": {
     "duration": 0.029143,
     "end_time": "2022-03-05T10:08:50.862034",
     "exception": false,
     "start_time": "2022-03-05T10:08:50.832891",
     "status": "completed"
    },
    "tags": []
   },
   "source": [
    "We normalize the pizel values in the 0 to 1 range"
   ]
  },
  {
   "cell_type": "code",
   "execution_count": 11,
   "id": "ee4c2166",
   "metadata": {
    "execution": {
     "iopub.execute_input": "2022-03-05T10:08:50.919279Z",
     "iopub.status.busy": "2022-03-05T10:08:50.918512Z",
     "iopub.status.idle": "2022-03-05T10:08:50.966663Z",
     "shell.execute_reply": "2022-03-05T10:08:50.966069Z"
    },
    "papermill": {
     "duration": 0.078201,
     "end_time": "2022-03-05T10:08:50.966807",
     "exception": false,
     "start_time": "2022-03-05T10:08:50.888606",
     "status": "completed"
    },
    "tags": []
   },
   "outputs": [],
   "source": [
    "X_train = X_train/255.\n",
    "X_test = X_test/255."
   ]
  },
  {
   "cell_type": "markdown",
   "id": "ddcf4fab",
   "metadata": {
    "papermill": {
     "duration": 0.02677,
     "end_time": "2022-03-05T10:08:51.021617",
     "exception": false,
     "start_time": "2022-03-05T10:08:50.994847",
     "status": "completed"
    },
    "tags": []
   },
   "source": [
    "And setup the labels as 1 (when the digit is 3) and 0 (when the digit is 8)"
   ]
  },
  {
   "cell_type": "code",
   "execution_count": 12,
   "id": "7dc908f2",
   "metadata": {
    "execution": {
     "iopub.execute_input": "2022-03-05T10:08:51.079994Z",
     "iopub.status.busy": "2022-03-05T10:08:51.079365Z",
     "iopub.status.idle": "2022-03-05T10:08:51.092882Z",
     "shell.execute_reply": "2022-03-05T10:08:51.092437Z"
    },
    "papermill": {
     "duration": 0.044754,
     "end_time": "2022-03-05T10:08:51.092995",
     "exception": false,
     "start_time": "2022-03-05T10:08:51.048241",
     "status": "completed"
    },
    "tags": []
   },
   "outputs": [],
   "source": [
    "y_train = 1*(y_train==3)\n",
    "y_test = 1*(y_test==3)"
   ]
  },
  {
   "cell_type": "code",
   "execution_count": 13,
   "id": "01e4e969",
   "metadata": {
    "execution": {
     "iopub.execute_input": "2022-03-05T10:08:51.156290Z",
     "iopub.status.busy": "2022-03-05T10:08:51.155769Z",
     "iopub.status.idle": "2022-03-05T10:08:51.165198Z",
     "shell.execute_reply": "2022-03-05T10:08:51.165587Z"
    },
    "papermill": {
     "duration": 0.04605,
     "end_time": "2022-03-05T10:08:51.165726",
     "exception": false,
     "start_time": "2022-03-05T10:08:51.119676",
     "status": "completed"
    },
    "tags": []
   },
   "outputs": [
    {
     "data": {
      "text/plain": [
       "((11982, 28, 28), (1984, 28, 28))"
      ]
     },
     "execution_count": 13,
     "metadata": {},
     "output_type": "execute_result"
    }
   ],
   "source": [
    "X_train.shape, X_test.shape"
   ]
  },
  {
   "cell_type": "markdown",
   "id": "5ccf3f85",
   "metadata": {
    "papermill": {
     "duration": 0.026706,
     "end_time": "2022-03-05T10:08:51.219485",
     "exception": false,
     "start_time": "2022-03-05T10:08:51.192779",
     "status": "completed"
    },
    "tags": []
   },
   "source": [
    "We reshape the data to flatten the image pixels into a set of features or co-variates:"
   ]
  },
  {
   "cell_type": "code",
   "execution_count": 14,
   "id": "5286a4a3",
   "metadata": {
    "execution": {
     "iopub.execute_input": "2022-03-05T10:08:51.282193Z",
     "iopub.status.busy": "2022-03-05T10:08:51.281674Z",
     "iopub.status.idle": "2022-03-05T10:08:51.293954Z",
     "shell.execute_reply": "2022-03-05T10:08:51.293511Z"
    },
    "papermill": {
     "duration": 0.047687,
     "end_time": "2022-03-05T10:08:51.294068",
     "exception": false,
     "start_time": "2022-03-05T10:08:51.246381",
     "status": "completed"
    },
    "tags": []
   },
   "outputs": [
    {
     "data": {
      "text/plain": [
       "((11982, 784), (1984, 784))"
      ]
     },
     "execution_count": 14,
     "metadata": {},
     "output_type": "execute_result"
    }
   ],
   "source": [
    "X_train = X_train.reshape(X_train.shape[0], -1)\n",
    "X_test = X_test.reshape(X_test.shape[0], -1)\n",
    "X_train.shape, X_test.shape"
   ]
  },
  {
   "cell_type": "code",
   "execution_count": 15,
   "id": "73c5f88a",
   "metadata": {
    "execution": {
     "iopub.execute_input": "2022-03-05T10:08:51.371715Z",
     "iopub.status.busy": "2022-03-05T10:08:51.367412Z",
     "iopub.status.idle": "2022-03-05T10:08:51.377219Z",
     "shell.execute_reply": "2022-03-05T10:08:51.376807Z"
    },
    "papermill": {
     "duration": 0.056118,
     "end_time": "2022-03-05T10:08:51.377331",
     "exception": false,
     "start_time": "2022-03-05T10:08:51.321213",
     "status": "completed"
    },
    "tags": []
   },
   "outputs": [],
   "source": [
    "#Impoting functions from 'Kudzu'\n",
    "from kudzu.model import Model\n",
    "from kudzu.train import Learner\n",
    "from kudzu.optim import GD\n",
    "from kudzu.data import Data, Sampler,Dataloader\n",
    "\n",
    "from kudzu.callbacks import AccCallback\n",
    "from kudzu.callbacks import ClfCallback\n",
    "\n",
    "from kudzu.loss import MSE\n",
    "\n",
    "from kudzu.layer import Sigmoid,Relu\n",
    "from kudzu.layer import Affine"
   ]
  },
  {
   "cell_type": "markdown",
   "id": "bc01172a",
   "metadata": {
    "papermill": {
     "duration": 0.026988,
     "end_time": "2022-03-05T10:08:51.431535",
     "exception": false,
     "start_time": "2022-03-05T10:08:51.404547",
     "status": "completed"
    },
    "tags": []
   },
   "source": [
    "### Let us create a `Config` class, to store important parameters. \n",
    "This class essentially plays the role of a dictionary."
   ]
  },
  {
   "cell_type": "code",
   "execution_count": 16,
   "id": "978281aa",
   "metadata": {
    "execution": {
     "iopub.execute_input": "2022-03-05T10:08:51.489834Z",
     "iopub.status.busy": "2022-03-05T10:08:51.489315Z",
     "iopub.status.idle": "2022-03-05T10:08:51.501769Z",
     "shell.execute_reply": "2022-03-05T10:08:51.501357Z"
    },
    "papermill": {
     "duration": 0.043228,
     "end_time": "2022-03-05T10:08:51.501880",
     "exception": false,
     "start_time": "2022-03-05T10:08:51.458652",
     "status": "completed"
    },
    "tags": []
   },
   "outputs": [],
   "source": [
    "class Config:\n",
    "    pass\n",
    "config = Config()\n",
    "config.lr = 0.001\n",
    "config.num_epochs = 250\n",
    "config.bs = 50"
   ]
  },
  {
   "cell_type": "markdown",
   "id": "1385fa59",
   "metadata": {
    "papermill": {
     "duration": 0.027194,
     "end_time": "2022-03-05T10:08:51.556324",
     "exception": false,
     "start_time": "2022-03-05T10:08:51.529130",
     "status": "completed"
    },
    "tags": []
   },
   "source": [
    "### Running Models with the Training data\n",
    "Details about the network layers:\n",
    "- A first affine layer has 784 inputs and does 100 affine transforms. These are followed by a Relu\n",
    "- A second affine layer has 100 inputs from the 100 activations of the past layer, and does 100 affine transforms. These are followed by a Relu\n",
    "- A third affine layer has 100 activations and does 2 affine transformations to create an embedding for visualization. There is no non-linearity here.\n",
    "- A final \"logistic regression\" which has an affine transform from 2 inputs to 1 output, which is squeezed through a sigmoid.\n"
   ]
  },
  {
   "cell_type": "code",
   "execution_count": 17,
   "id": "2b9c66db",
   "metadata": {
    "execution": {
     "iopub.execute_input": "2022-03-05T10:08:51.614482Z",
     "iopub.status.busy": "2022-03-05T10:08:51.613943Z",
     "iopub.status.idle": "2022-03-05T10:08:51.626521Z",
     "shell.execute_reply": "2022-03-05T10:08:51.626075Z"
    },
    "papermill": {
     "duration": 0.043204,
     "end_time": "2022-03-05T10:08:51.626638",
     "exception": false,
     "start_time": "2022-03-05T10:08:51.583434",
     "status": "completed"
    },
    "tags": []
   },
   "outputs": [],
   "source": [
    "data = Data(X_train, y_train.reshape(-1,1))\n",
    "sampler = Sampler(data, config.bs, shuffle=True)\n",
    "\n",
    "dl = Dataloader(data, sampler)\n",
    "\n",
    "opt = GD(config.lr)\n",
    "loss = MSE()"
   ]
  },
  {
   "cell_type": "code",
   "execution_count": 18,
   "id": "b275e4c2",
   "metadata": {
    "execution": {
     "iopub.execute_input": "2022-03-05T10:08:51.695321Z",
     "iopub.status.busy": "2022-03-05T10:08:51.688896Z",
     "iopub.status.idle": "2022-03-05T10:08:51.697256Z",
     "shell.execute_reply": "2022-03-05T10:08:51.697638Z"
    },
    "papermill": {
     "duration": 0.043974,
     "end_time": "2022-03-05T10:08:51.697763",
     "exception": false,
     "start_time": "2022-03-05T10:08:51.653789",
     "status": "completed"
    },
    "tags": []
   },
   "outputs": [],
   "source": [
    "training_data_x = X_train\n",
    "testing_data_x = X_test\n",
    "training_data_y = y_train.reshape(-1,1)\n",
    "testing_data_y = y_test.reshape(-1,1)"
   ]
  },
  {
   "cell_type": "code",
   "execution_count": 19,
   "id": "76951160",
   "metadata": {
    "execution": {
     "iopub.execute_input": "2022-03-05T10:08:51.758122Z",
     "iopub.status.busy": "2022-03-05T10:08:51.756163Z",
     "iopub.status.idle": "2022-03-05T10:08:51.771588Z",
     "shell.execute_reply": "2022-03-05T10:08:51.772020Z"
    },
    "papermill": {
     "duration": 0.047363,
     "end_time": "2022-03-05T10:08:51.772150",
     "exception": false,
     "start_time": "2022-03-05T10:08:51.724787",
     "status": "completed"
    },
    "tags": []
   },
   "outputs": [
    {
     "name": "stdout",
     "output_type": "stream",
     "text": [
      "xavier\n",
      "xavier\n",
      "xavier\n",
      "xavier\n",
      "xavier\n"
     ]
    }
   ],
   "source": [
    "layers = [Affine(\"first\", 784, 100), Relu(\"first\"), Affine(\"second\", 100, 100), Relu(\"second\"), Affine(\"third\", 100, 2), Affine(\"last\", 2, 1), Sigmoid(\"last\")]\n",
    "model_nn = Model(layers)\n",
    "model_lr = Model([Affine(\"logits\", 784, 1), Sigmoid(\"sigmoid\")])"
   ]
  },
  {
   "cell_type": "code",
   "execution_count": 20,
   "id": "6eede77a",
   "metadata": {
    "execution": {
     "iopub.execute_input": "2022-03-05T10:08:51.837625Z",
     "iopub.status.busy": "2022-03-05T10:08:51.837106Z",
     "iopub.status.idle": "2022-03-05T10:08:51.845270Z",
     "shell.execute_reply": "2022-03-05T10:08:51.844836Z"
    },
    "papermill": {
     "duration": 0.045726,
     "end_time": "2022-03-05T10:08:51.845375",
     "exception": false,
     "start_time": "2022-03-05T10:08:51.799649",
     "status": "completed"
    },
    "tags": []
   },
   "outputs": [],
   "source": [
    "nn_learner = Learner(loss, model_nn, opt, config.num_epochs)\n",
    "acc_nn = ClfCallback(nn_learner, config.bs, training_data_x , testing_data_x, training_data_y, testing_data_y)\n",
    "nn_learner.set_callbacks([acc_nn])"
   ]
  },
  {
   "cell_type": "code",
   "execution_count": 21,
   "id": "877b6cc7",
   "metadata": {
    "execution": {
     "iopub.execute_input": "2022-03-05T10:08:51.903813Z",
     "iopub.status.busy": "2022-03-05T10:08:51.903288Z",
     "iopub.status.idle": "2022-03-05T10:08:51.915717Z",
     "shell.execute_reply": "2022-03-05T10:08:51.915309Z"
    },
    "papermill": {
     "duration": 0.043021,
     "end_time": "2022-03-05T10:08:51.915828",
     "exception": false,
     "start_time": "2022-03-05T10:08:51.872807",
     "status": "completed"
    },
    "tags": []
   },
   "outputs": [],
   "source": [
    "lr_learner = Learner(loss, model_lr, opt, config.num_epochs)\n",
    "acc_lr = ClfCallback(lr_learner, config.bs, training_data_x , testing_data_x, training_data_y, testing_data_y)\n",
    "lr_learner.set_callbacks([acc_lr])"
   ]
  },
  {
   "cell_type": "code",
   "execution_count": 22,
   "id": "d9b133c3",
   "metadata": {
    "execution": {
     "iopub.execute_input": "2022-03-05T10:08:51.974129Z",
     "iopub.status.busy": "2022-03-05T10:08:51.973625Z",
     "iopub.status.idle": "2022-03-05T10:10:08.700844Z",
     "shell.execute_reply": "2022-03-05T10:10:08.701603Z"
    },
    "papermill": {
     "duration": 76.758555,
     "end_time": "2022-03-05T10:10:08.701760",
     "exception": false,
     "start_time": "2022-03-05T10:08:51.943205",
     "status": "completed"
    },
    "tags": []
   },
   "outputs": [
    {
     "name": "stdout",
     "output_type": "stream",
     "text": [
      "Epoch 0, Loss 0.2533\n",
      "Training Accuracy: 0.5642, Testing Accuracy: 0.5892\n",
      "\n"
     ]
    },
    {
     "name": "stdout",
     "output_type": "stream",
     "text": [
      "Epoch 10, Loss 0.1111\n",
      "Training Accuracy: 0.9096, Testing Accuracy: 0.9239\n",
      "\n"
     ]
    },
    {
     "name": "stdout",
     "output_type": "stream",
     "text": [
      "Epoch 20, Loss 0.0619\n",
      "Training Accuracy: 0.9385, Testing Accuracy: 0.9516\n",
      "\n"
     ]
    },
    {
     "name": "stdout",
     "output_type": "stream",
     "text": [
      "Epoch 30, Loss 0.0467\n",
      "Training Accuracy: 0.9515, Testing Accuracy: 0.9592\n",
      "\n"
     ]
    },
    {
     "name": "stdout",
     "output_type": "stream",
     "text": [
      "Epoch 40, Loss 0.0398\n",
      "Training Accuracy: 0.9569, Testing Accuracy: 0.9612\n",
      "\n"
     ]
    },
    {
     "name": "stdout",
     "output_type": "stream",
     "text": [
      "Epoch 50, Loss 0.0359\n",
      "Training Accuracy: 0.9600, Testing Accuracy: 0.9647\n",
      "\n"
     ]
    },
    {
     "name": "stdout",
     "output_type": "stream",
     "text": [
      "Epoch 60, Loss 0.0332\n",
      "Training Accuracy: 0.9624, Testing Accuracy: 0.9657\n",
      "\n"
     ]
    },
    {
     "name": "stdout",
     "output_type": "stream",
     "text": [
      "Epoch 70, Loss 0.0312\n",
      "Training Accuracy: 0.9641, Testing Accuracy: 0.9657\n",
      "\n"
     ]
    },
    {
     "name": "stdout",
     "output_type": "stream",
     "text": [
      "Epoch 80, Loss 0.0296\n",
      "Training Accuracy: 0.9656, Testing Accuracy: 0.9693\n",
      "\n"
     ]
    },
    {
     "name": "stdout",
     "output_type": "stream",
     "text": [
      "Epoch 90, Loss 0.0283\n",
      "Training Accuracy: 0.9667, Testing Accuracy: 0.9688\n",
      "\n"
     ]
    },
    {
     "name": "stdout",
     "output_type": "stream",
     "text": [
      "Epoch 100, Loss 0.0273\n",
      "Training Accuracy: 0.9680, Testing Accuracy: 0.9688\n",
      "\n"
     ]
    },
    {
     "name": "stdout",
     "output_type": "stream",
     "text": [
      "Epoch 110, Loss 0.0263\n",
      "Training Accuracy: 0.9695, Testing Accuracy: 0.9698\n",
      "\n"
     ]
    },
    {
     "name": "stdout",
     "output_type": "stream",
     "text": [
      "Epoch 120, Loss 0.0255\n",
      "Training Accuracy: 0.9710, Testing Accuracy: 0.9708\n",
      "\n"
     ]
    },
    {
     "name": "stdout",
     "output_type": "stream",
     "text": [
      "Epoch 130, Loss 0.0247\n",
      "Training Accuracy: 0.9712, Testing Accuracy: 0.9713\n",
      "\n"
     ]
    },
    {
     "name": "stdout",
     "output_type": "stream",
     "text": [
      "Epoch 140, Loss 0.0241\n",
      "Training Accuracy: 0.9720, Testing Accuracy: 0.9708\n",
      "\n"
     ]
    },
    {
     "name": "stdout",
     "output_type": "stream",
     "text": [
      "Epoch 150, Loss 0.0234\n",
      "Training Accuracy: 0.9730, Testing Accuracy: 0.9708\n",
      "\n"
     ]
    },
    {
     "name": "stdout",
     "output_type": "stream",
     "text": [
      "Epoch 160, Loss 0.0229\n",
      "Training Accuracy: 0.9736, Testing Accuracy: 0.9708\n",
      "\n"
     ]
    },
    {
     "name": "stdout",
     "output_type": "stream",
     "text": [
      "Epoch 170, Loss 0.0223\n",
      "Training Accuracy: 0.9741, Testing Accuracy: 0.9708\n",
      "\n"
     ]
    },
    {
     "name": "stdout",
     "output_type": "stream",
     "text": [
      "Epoch 180, Loss 0.0218\n",
      "Training Accuracy: 0.9751, Testing Accuracy: 0.9708\n",
      "\n"
     ]
    },
    {
     "name": "stdout",
     "output_type": "stream",
     "text": [
      "Epoch 190, Loss 0.0214\n",
      "Training Accuracy: 0.9758, Testing Accuracy: 0.9708\n",
      "\n"
     ]
    },
    {
     "name": "stdout",
     "output_type": "stream",
     "text": [
      "Epoch 200, Loss 0.0209\n",
      "Training Accuracy: 0.9765, Testing Accuracy: 0.9713\n",
      "\n"
     ]
    },
    {
     "name": "stdout",
     "output_type": "stream",
     "text": [
      "Epoch 210, Loss 0.0205\n",
      "Training Accuracy: 0.9770, Testing Accuracy: 0.9723\n",
      "\n"
     ]
    },
    {
     "name": "stdout",
     "output_type": "stream",
     "text": [
      "Epoch 220, Loss 0.0201\n",
      "Training Accuracy: 0.9776, Testing Accuracy: 0.9723\n",
      "\n"
     ]
    },
    {
     "name": "stdout",
     "output_type": "stream",
     "text": [
      "Epoch 230, Loss 0.0198\n",
      "Training Accuracy: 0.9783, Testing Accuracy: 0.9733\n",
      "\n"
     ]
    },
    {
     "name": "stdout",
     "output_type": "stream",
     "text": [
      "Epoch 240, Loss 0.0194\n",
      "Training Accuracy: 0.9786, Testing Accuracy: 0.9733\n",
      "\n"
     ]
    },
    {
     "data": {
      "text/plain": [
       "0.05579845326213248"
      ]
     },
     "execution_count": 22,
     "metadata": {},
     "output_type": "execute_result"
    }
   ],
   "source": [
    "nn_learner.train_loop(dl)"
   ]
  },
  {
   "cell_type": "code",
   "execution_count": 23,
   "id": "e0163366",
   "metadata": {
    "execution": {
     "iopub.execute_input": "2022-03-05T10:10:08.792344Z",
     "iopub.status.busy": "2022-03-05T10:10:08.791717Z",
     "iopub.status.idle": "2022-03-05T10:10:22.753635Z",
     "shell.execute_reply": "2022-03-05T10:10:22.754325Z"
    },
    "papermill": {
     "duration": 14.018054,
     "end_time": "2022-03-05T10:10:22.754501",
     "exception": false,
     "start_time": "2022-03-05T10:10:08.736447",
     "status": "completed"
    },
    "tags": []
   },
   "outputs": [
    {
     "name": "stdout",
     "output_type": "stream",
     "text": [
      "Epoch 0, Loss 0.2654\n",
      "Training Accuracy: 0.5704, Testing Accuracy: 0.5736\n",
      "\n"
     ]
    },
    {
     "name": "stdout",
     "output_type": "stream",
     "text": [
      "Epoch 10, Loss 0.104\n",
      "Training Accuracy: 0.9147, Testing Accuracy: 0.9279\n",
      "\n"
     ]
    },
    {
     "name": "stdout",
     "output_type": "stream",
     "text": [
      "Epoch 20, Loss 0.0794\n",
      "Training Accuracy: 0.9306, Testing Accuracy: 0.9390\n",
      "\n"
     ]
    },
    {
     "name": "stdout",
     "output_type": "stream",
     "text": [
      "Epoch 30, Loss 0.0683\n",
      "Training Accuracy: 0.9373, Testing Accuracy: 0.9456\n",
      "\n"
     ]
    },
    {
     "name": "stdout",
     "output_type": "stream",
     "text": [
      "Epoch 40, Loss 0.0617\n",
      "Training Accuracy: 0.9421, Testing Accuracy: 0.9516\n",
      "\n"
     ]
    },
    {
     "name": "stdout",
     "output_type": "stream",
     "text": [
      "Epoch 50, Loss 0.0572\n",
      "Training Accuracy: 0.9449, Testing Accuracy: 0.9531\n",
      "\n"
     ]
    },
    {
     "name": "stdout",
     "output_type": "stream",
     "text": [
      "Epoch 60, Loss 0.0539\n",
      "Training Accuracy: 0.9475, Testing Accuracy: 0.9561\n",
      "\n"
     ]
    },
    {
     "name": "stdout",
     "output_type": "stream",
     "text": [
      "Epoch 70, Loss 0.0514\n",
      "Training Accuracy: 0.9491, Testing Accuracy: 0.9597\n",
      "\n"
     ]
    },
    {
     "name": "stdout",
     "output_type": "stream",
     "text": [
      "Epoch 80, Loss 0.0493\n",
      "Training Accuracy: 0.9507, Testing Accuracy: 0.9602\n",
      "\n"
     ]
    },
    {
     "name": "stdout",
     "output_type": "stream",
     "text": [
      "Epoch 90, Loss 0.0477\n",
      "Training Accuracy: 0.9515, Testing Accuracy: 0.9622\n",
      "\n"
     ]
    },
    {
     "name": "stdout",
     "output_type": "stream",
     "text": [
      "Epoch 100, Loss 0.0462\n",
      "Training Accuracy: 0.9525, Testing Accuracy: 0.9632\n",
      "\n"
     ]
    },
    {
     "name": "stdout",
     "output_type": "stream",
     "text": [
      "Epoch 110, Loss 0.045\n",
      "Training Accuracy: 0.9538, Testing Accuracy: 0.9637\n",
      "\n"
     ]
    },
    {
     "name": "stdout",
     "output_type": "stream",
     "text": [
      "Epoch 120, Loss 0.044\n",
      "Training Accuracy: 0.9550, Testing Accuracy: 0.9652\n",
      "\n"
     ]
    },
    {
     "name": "stdout",
     "output_type": "stream",
     "text": [
      "Epoch 130, Loss 0.043\n",
      "Training Accuracy: 0.9559, Testing Accuracy: 0.9657\n",
      "\n"
     ]
    },
    {
     "name": "stdout",
     "output_type": "stream",
     "text": [
      "Epoch 140, Loss 0.0422\n",
      "Training Accuracy: 0.9567, Testing Accuracy: 0.9657\n",
      "\n"
     ]
    },
    {
     "name": "stdout",
     "output_type": "stream",
     "text": [
      "Epoch 150, Loss 0.0415\n",
      "Training Accuracy: 0.9574, Testing Accuracy: 0.9657\n",
      "\n"
     ]
    },
    {
     "name": "stdout",
     "output_type": "stream",
     "text": [
      "Epoch 160, Loss 0.0408\n",
      "Training Accuracy: 0.9579, Testing Accuracy: 0.9662\n",
      "\n"
     ]
    },
    {
     "name": "stdout",
     "output_type": "stream",
     "text": [
      "Epoch 170, Loss 0.0402\n",
      "Training Accuracy: 0.9584, Testing Accuracy: 0.9672\n",
      "\n"
     ]
    },
    {
     "name": "stdout",
     "output_type": "stream",
     "text": [
      "Epoch 180, Loss 0.0396\n",
      "Training Accuracy: 0.9586, Testing Accuracy: 0.9672\n",
      "\n"
     ]
    },
    {
     "name": "stdout",
     "output_type": "stream",
     "text": [
      "Epoch 190, Loss 0.0391\n",
      "Training Accuracy: 0.9588, Testing Accuracy: 0.9667\n",
      "\n"
     ]
    },
    {
     "name": "stdout",
     "output_type": "stream",
     "text": [
      "Epoch 200, Loss 0.0386\n",
      "Training Accuracy: 0.9592, Testing Accuracy: 0.9667\n",
      "\n"
     ]
    },
    {
     "name": "stdout",
     "output_type": "stream",
     "text": [
      "Epoch 210, Loss 0.0382\n",
      "Training Accuracy: 0.9592, Testing Accuracy: 0.9667\n",
      "\n"
     ]
    },
    {
     "name": "stdout",
     "output_type": "stream",
     "text": [
      "Epoch 220, Loss 0.0378\n",
      "Training Accuracy: 0.9595, Testing Accuracy: 0.9667\n",
      "\n"
     ]
    },
    {
     "name": "stdout",
     "output_type": "stream",
     "text": [
      "Epoch 230, Loss 0.0374\n",
      "Training Accuracy: 0.9599, Testing Accuracy: 0.9667\n",
      "\n"
     ]
    },
    {
     "name": "stdout",
     "output_type": "stream",
     "text": [
      "Epoch 240, Loss 0.037\n",
      "Training Accuracy: 0.9598, Testing Accuracy: 0.9667\n",
      "\n"
     ]
    },
    {
     "data": {
      "text/plain": [
       "0.028786707975488837"
      ]
     },
     "execution_count": 23,
     "metadata": {},
     "output_type": "execute_result"
    }
   ],
   "source": [
    "lr_learner.train_loop(dl)"
   ]
  },
  {
   "cell_type": "code",
   "execution_count": 24,
   "id": "ca410940",
   "metadata": {
    "execution": {
     "iopub.execute_input": "2022-03-05T10:10:22.851715Z",
     "iopub.status.busy": "2022-03-05T10:10:22.851178Z",
     "iopub.status.idle": "2022-03-05T10:10:23.064688Z",
     "shell.execute_reply": "2022-03-05T10:10:23.064169Z"
    },
    "papermill": {
     "duration": 0.268247,
     "end_time": "2022-03-05T10:10:23.064820",
     "exception": false,
     "start_time": "2022-03-05T10:10:22.796573",
     "status": "completed"
    },
    "tags": []
   },
   "outputs": [
    {
     "data": {
      "text/plain": [
       "<matplotlib.legend.Legend at 0x7f5dcf247d30>"
      ]
     },
     "execution_count": 24,
     "metadata": {},
     "output_type": "execute_result"
    },
    {
     "data": {
      "image/png": "[encoded data removed]",
      "text/plain": [
       "<Figure size 1080x720 with 1 Axes>"
      ]
     },
     "metadata": {
      "needs_background": "light"
     },
     "output_type": "display_data"
    }
   ],
   "source": [
    "#comparing the results of NN and LR\n",
    "plt.figure(figsize=(15,10))\n",
    "\n",
    "# Neural Network plots\n",
    "plt.plot(acc_nn.accuracies, 'r-', label = \"Training Accuracies - NN\")\n",
    "plt.plot(acc_nn.test_accuracies, 'g-', label = \"Testing Accuracies - NN\")\n",
    "\n",
    "# Logistic Regression plots\n",
    "plt.plot(acc_lr.accuracies, 'k-', label = \"Training Accuracies - LR\")\n",
    "plt.plot(acc_lr.test_accuracies, 'b-', label = \"Testing Accuracies - LR\")\n",
    "plt.legend()"
   ]
  },
  {
   "cell_type": "markdown",
   "id": "80dfb35c",
   "metadata": {
    "papermill": {
     "duration": 0.042357,
     "end_time": "2022-03-05T10:10:23.150393",
     "exception": false,
     "start_time": "2022-03-05T10:10:23.108036",
     "status": "completed"
    },
    "tags": []
   },
   "source": [
    "#### Plotting the outputs of this layer of the NN.\n"
   ]
  },
  {
   "cell_type": "code",
   "execution_count": 25,
   "id": "45eb2ff5",
   "metadata": {
    "execution": {
     "iopub.execute_input": "2022-03-05T10:10:23.239489Z",
     "iopub.status.busy": "2022-03-05T10:10:23.238961Z",
     "iopub.status.idle": "2022-03-05T10:10:23.259048Z",
     "shell.execute_reply": "2022-03-05T10:10:23.259807Z"
    },
    "papermill": {
     "duration": 0.067158,
     "end_time": "2022-03-05T10:10:23.259963",
     "exception": false,
     "start_time": "2022-03-05T10:10:23.192805",
     "status": "completed"
    },
    "tags": []
   },
   "outputs": [],
   "source": [
    "new_model = Model(layers[:-2])\n",
    "testing_plot = new_model(testing_data_x)"
   ]
  },
  {
   "cell_type": "code",
   "execution_count": 26,
   "id": "4c0a5485",
   "metadata": {
    "execution": {
     "iopub.execute_input": "2022-03-05T10:10:23.360693Z",
     "iopub.status.busy": "2022-03-05T10:10:23.360161Z",
     "iopub.status.idle": "2022-03-05T10:10:23.577409Z",
     "shell.execute_reply": "2022-03-05T10:10:23.576953Z"
    },
    "papermill": {
     "duration": 0.274042,
     "end_time": "2022-03-05T10:10:23.577530",
     "exception": false,
     "start_time": "2022-03-05T10:10:23.303488",
     "status": "completed"
    },
    "tags": []
   },
   "outputs": [
    {
     "data": {
      "text/plain": [
       "Text(0.5, 1.0, 'Outputs')"
      ]
     },
     "execution_count": 26,
     "metadata": {},
     "output_type": "execute_result"
    },
    {
     "data": {
      "image/png": "[encoded data removed]",
      "text/plain": [
       "<Figure size 576x504 with 1 Axes>"
      ]
     },
     "metadata": {
      "needs_background": "light"
     },
     "output_type": "display_data"
    }
   ],
   "source": [
    "# Plotting the scatter plot of points and color coding by class\n",
    "plt.figure(figsize=(8,7))\n",
    "plt.scatter(testing_plot[:,0], testing_plot[:,1], alpha = 0.1, c = y_test.ravel());\n",
    "plt.title('Outputs')"
   ]
  },
  {
   "cell_type": "markdown",
   "id": "a74fcf8f",
   "metadata": {
    "papermill": {
     "duration": 0.045547,
     "end_time": "2022-03-05T10:10:23.668738",
     "exception": false,
     "start_time": "2022-03-05T10:10:23.623191",
     "status": "completed"
    },
    "tags": []
   },
   "source": [
    "Probability contours"
   ]
  },
  {
   "cell_type": "code",
   "execution_count": 27,
   "id": "d0afc8e3",
   "metadata": {
    "execution": {
     "iopub.execute_input": "2022-03-05T10:10:23.767748Z",
     "iopub.status.busy": "2022-03-05T10:10:23.767212Z",
     "iopub.status.idle": "2022-03-05T10:10:23.775626Z",
     "shell.execute_reply": "2022-03-05T10:10:23.775187Z"
    },
    "papermill": {
     "duration": 0.061498,
     "end_time": "2022-03-05T10:10:23.775744",
     "exception": false,
     "start_time": "2022-03-05T10:10:23.714246",
     "status": "completed"
    },
    "tags": []
   },
   "outputs": [],
   "source": [
    "model_prob = Model(layers[-2:]) "
   ]
  },
  {
   "cell_type": "code",
   "execution_count": 28,
   "id": "9b96e238",
   "metadata": {
    "execution": {
     "iopub.execute_input": "2022-03-05T10:10:23.915219Z",
     "iopub.status.busy": "2022-03-05T10:10:23.914689Z",
     "iopub.status.idle": "2022-03-05T10:10:23.922441Z",
     "shell.execute_reply": "2022-03-05T10:10:23.922004Z"
    },
    "papermill": {
     "duration": 0.069266,
     "end_time": "2022-03-05T10:10:23.922558",
     "exception": false,
     "start_time": "2022-03-05T10:10:23.853292",
     "status": "completed"
    },
    "tags": []
   },
   "outputs": [],
   "source": [
    "#creating the x and y ranges according to the above generated plot.\n",
    "x_range = np.linspace(-4, 1, 100) \n",
    "y_range = np.linspace(-6, 6, 100) \n",
    "x_grid, y_grid = np.meshgrid(x_range, y_range) # x_grid and y_grig are of size 100 X 100\n",
    "\n",
    "# converting x_grid and y_grid to continuous arrays\n",
    "x_gridflat = np.ravel(x_grid)\n",
    "y_gridflat = np.ravel(y_grid)\n",
    "\n",
    "# The last layer of the current model takes two columns as input. Hence transpose of np.vstack() is required.\n",
    "X = np.vstack((x_gridflat, y_gridflat)).T\n",
    "\n",
    "prob_contour = model_prob(X).reshape(100,100) "
   ]
  },
  {
   "cell_type": "code",
   "execution_count": 29,
   "id": "da72499a",
   "metadata": {
    "execution": {
     "iopub.execute_input": "2022-03-05T10:10:24.027808Z",
     "iopub.status.busy": "2022-03-05T10:10:24.027298Z",
     "iopub.status.idle": "2022-03-05T10:10:24.259090Z",
     "shell.execute_reply": "2022-03-05T10:10:24.259513Z"
    },
    "papermill": {
     "duration": 0.291129,
     "end_time": "2022-03-05T10:10:24.259655",
     "exception": false,
     "start_time": "2022-03-05T10:10:23.968526",
     "status": "completed"
    },
    "tags": []
   },
   "outputs": [
    {
     "data": {
      "image/png": "[encoded data removed]",
      "text/plain": [
       "<Figure size 720x648 with 1 Axes>"
      ]
     },
     "metadata": {
      "needs_background": "light"
     },
     "output_type": "display_data"
    }
   ],
   "source": [
    "plt.figure(figsize=(10,9))\n",
    "plt.scatter(testing_plot[:,0], testing_plot[:,1], alpha = 0.1, c = y_test.ravel())\n",
    "contours = plt.contour(x_grid,y_grid,prob_contour)\n",
    "plt.title('Probability Contours')\n",
    "plt.clabel(contours, inline = True );"
   ]
  },
  {
   "cell_type": "code",
   "execution_count": null,
   "id": "e81b4ac7",
   "metadata": {
    "papermill": {
     "duration": 0.048402,
     "end_time": "2022-03-05T10:10:24.356092",
     "exception": false,
     "start_time": "2022-03-05T10:10:24.307690",
     "status": "completed"
    },
    "tags": []
   },
   "outputs": [],
   "source": []
  }
 ],
 "metadata": {
  "kernelspec": {
   "display_name": "Python 3",
   "language": "python",
   "name": "python3"
  },
  "language_info": {
   "codemirror_mode": {
    "name": "ipython",
    "version": 3
   },
   "file_extension": ".py",
   "mimetype": "text/x-python",
   "name": "python",
   "nbconvert_exporter": "python",
   "pygments_lexer": "ipython3",
   "version": "3.6.15"
  },
  "papermill": {
   "default_parameters": {},
   "duration": 98.944849,
   "end_time": "2022-03-05T10:10:24.823351",
   "environment_variables": {},
   "exception": null,
   "input_path": "2020-08-11-part2.ipynb",
   "output_path": "2020-08-11-part2.ipynb",
   "parameters": {},
   "start_time": "2022-03-05T10:08:45.878502",
   "version": "2.3.3"
  }
 },
 "nbformat": 4,
 "nbformat_minor": 5
}