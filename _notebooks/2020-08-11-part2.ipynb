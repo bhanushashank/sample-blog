{
 "cells": [
  {
   "cell_type": "markdown",
   "id": "98380cd3",
   "metadata": {
    "papermill": {
     "duration": 0.030809,
     "end_time": "2022-06-02T20:10:13.579112",
     "exception": false,
     "start_time": "2022-06-02T20:10:13.548303",
     "status": "completed"
    },
    "tags": []
   },
   "source": [
    "# Distinguish Your Own Digits (DYOD)"
   ]
  },
  {
   "cell_type": "markdown",
   "id": "ef31240d",
   "metadata": {
    "papermill": {
     "duration": 0.024527,
     "end_time": "2022-06-02T20:10:13.628338",
     "exception": false,
     "start_time": "2022-06-02T20:10:13.603811",
     "status": "completed"
    },
    "tags": []
   },
   "source": [
    "You are going to write a classifier that distinguishes between the number 3 and number 8."
   ]
  },
  {
   "cell_type": "code",
   "execution_count": 1,
   "id": "b15c8646",
   "metadata": {
    "execution": {
     "iopub.execute_input": "2022-06-02T20:10:13.687424Z",
     "iopub.status.busy": "2022-06-02T20:10:13.686770Z",
     "iopub.status.idle": "2022-06-02T20:10:13.698066Z",
     "shell.execute_reply": "2022-06-02T20:10:13.697549Z"
    },
    "papermill": {
     "duration": 0.045779,
     "end_time": "2022-06-02T20:10:13.698203",
     "exception": false,
     "start_time": "2022-06-02T20:10:13.652424",
     "status": "completed"
    },
    "tags": []
   },
   "outputs": [],
   "source": [
    "%load_ext autoreload\n",
    "%autoreload 2"
   ]
  },
  {
   "cell_type": "code",
   "execution_count": 2,
   "id": "22ef38dc",
   "metadata": {
    "execution": {
     "iopub.execute_input": "2022-06-02T20:10:13.760797Z",
     "iopub.status.busy": "2022-06-02T20:10:13.755649Z",
     "iopub.status.idle": "2022-06-02T20:10:14.308251Z",
     "shell.execute_reply": "2022-06-02T20:10:14.307586Z"
    },
    "papermill": {
     "duration": 0.586029,
     "end_time": "2022-06-02T20:10:14.308375",
     "exception": false,
     "start_time": "2022-06-02T20:10:13.722346",
     "status": "completed"
    },
    "tags": []
   },
   "outputs": [],
   "source": [
    "%matplotlib inline\n",
    "import numpy as np\n",
    "import matplotlib.pyplot as plt\n",
    "import pandas as pd"
   ]
  },
  {
   "cell_type": "markdown",
   "id": "ba036198",
   "metadata": {
    "papermill": {
     "duration": 0.024186,
     "end_time": "2022-06-02T20:10:14.356637",
     "exception": false,
     "start_time": "2022-06-02T20:10:14.332451",
     "status": "completed"
    },
    "tags": []
   },
   "source": [
    "From the command line run `pip install mnist`. This is a library that will help you bring down the mnist dataset. If you run this from a notebook, you need to put  `!pip install mnist` in a cell by itself."
   ]
  },
  {
   "cell_type": "code",
   "execution_count": 3,
   "id": "bb6ad8a1",
   "metadata": {
    "execution": {
     "iopub.execute_input": "2022-06-02T20:10:14.421376Z",
     "iopub.status.busy": "2022-06-02T20:10:14.416558Z",
     "iopub.status.idle": "2022-06-02T20:10:16.318823Z",
     "shell.execute_reply": "2022-06-02T20:10:16.318226Z"
    },
    "papermill": {
     "duration": 1.938106,
     "end_time": "2022-06-02T20:10:16.318959",
     "exception": false,
     "start_time": "2022-06-02T20:10:14.380853",
     "status": "completed"
    },
    "tags": []
   },
   "outputs": [
    {
     "name": "stdout",
     "output_type": "stream",
     "text": [
      "Collecting mnist\r\n"
     ]
    },
    {
     "name": "stdout",
     "output_type": "stream",
     "text": [
      "  Downloading mnist-0.2.2-py2.py3-none-any.whl (3.5 kB)\r\n",
      "Requirement already satisfied: numpy in /opt/hostedtoolcache/Python/3.6.15/x64/lib/python3.6/site-packages (from mnist) (1.19.5)\r\n"
     ]
    },
    {
     "name": "stdout",
     "output_type": "stream",
     "text": [
      "Installing collected packages: mnist\r\n",
      "Successfully installed mnist-0.2.2\r\n"
     ]
    }
   ],
   "source": [
    "!pip install mnist"
   ]
  },
  {
   "cell_type": "markdown",
   "id": "69df9c9a",
   "metadata": {
    "papermill": {
     "duration": 0.024959,
     "end_time": "2022-06-02T20:10:16.369395",
     "exception": false,
     "start_time": "2022-06-02T20:10:16.344436",
     "status": "completed"
    },
    "tags": []
   },
   "source": [
    "## Preparing the Data"
   ]
  },
  {
   "cell_type": "code",
   "execution_count": 4,
   "id": "7f69d806",
   "metadata": {
    "execution": {
     "iopub.execute_input": "2022-06-02T20:10:16.435491Z",
     "iopub.status.busy": "2022-06-02T20:10:16.422923Z",
     "iopub.status.idle": "2022-06-02T20:10:16.442737Z",
     "shell.execute_reply": "2022-06-02T20:10:16.442231Z"
    },
    "papermill": {
     "duration": 0.048692,
     "end_time": "2022-06-02T20:10:16.442853",
     "exception": false,
     "start_time": "2022-06-02T20:10:16.394161",
     "status": "completed"
    },
    "tags": []
   },
   "outputs": [],
   "source": [
    "import mnist"
   ]
  },
  {
   "cell_type": "code",
   "execution_count": 5,
   "id": "a411e44f",
   "metadata": {
    "execution": {
     "iopub.execute_input": "2022-06-02T20:10:16.497068Z",
     "iopub.status.busy": "2022-06-02T20:10:16.496467Z",
     "iopub.status.idle": "2022-06-02T20:10:17.251599Z",
     "shell.execute_reply": "2022-06-02T20:10:17.250344Z"
    },
    "papermill": {
     "duration": 0.783869,
     "end_time": "2022-06-02T20:10:17.251738",
     "exception": false,
     "start_time": "2022-06-02T20:10:16.467869",
     "status": "completed"
    },
    "tags": []
   },
   "outputs": [],
   "source": [
    "train_images = mnist.train_images()\n",
    "train_labels = mnist.train_labels()"
   ]
  },
  {
   "cell_type": "code",
   "execution_count": 6,
   "id": "dceab3a5",
   "metadata": {
    "execution": {
     "iopub.execute_input": "2022-06-02T20:10:17.313314Z",
     "iopub.status.busy": "2022-06-02T20:10:17.312678Z",
     "iopub.status.idle": "2022-06-02T20:10:17.322202Z",
     "shell.execute_reply": "2022-06-02T20:10:17.322633Z"
    },
    "papermill": {
     "duration": 0.045888,
     "end_time": "2022-06-02T20:10:17.322774",
     "exception": false,
     "start_time": "2022-06-02T20:10:17.276886",
     "status": "completed"
    },
    "tags": []
   },
   "outputs": [
    {
     "data": {
      "text/plain": [
       "((60000, 28, 28), (60000,))"
      ]
     },
     "execution_count": 6,
     "metadata": {},
     "output_type": "execute_result"
    }
   ],
   "source": [
    "train_images.shape, train_labels.shape"
   ]
  },
  {
   "cell_type": "code",
   "execution_count": 7,
   "id": "f50dc2bb",
   "metadata": {
    "execution": {
     "iopub.execute_input": "2022-06-02T20:10:17.379178Z",
     "iopub.status.busy": "2022-06-02T20:10:17.378558Z",
     "iopub.status.idle": "2022-06-02T20:10:17.630438Z",
     "shell.execute_reply": "2022-06-02T20:10:17.629892Z"
    },
    "papermill": {
     "duration": 0.282727,
     "end_time": "2022-06-02T20:10:17.630560",
     "exception": false,
     "start_time": "2022-06-02T20:10:17.347833",
     "status": "completed"
    },
    "tags": []
   },
   "outputs": [],
   "source": [
    "test_images = mnist.test_images()\n",
    "test_labels = mnist.test_labels()"
   ]
  },
  {
   "cell_type": "code",
   "execution_count": 8,
   "id": "fc38cf1b",
   "metadata": {
    "execution": {
     "iopub.execute_input": "2022-06-02T20:10:17.699632Z",
     "iopub.status.busy": "2022-06-02T20:10:17.694446Z",
     "iopub.status.idle": "2022-06-02T20:10:17.703389Z",
     "shell.execute_reply": "2022-06-02T20:10:17.702900Z"
    },
    "papermill": {
     "duration": 0.047509,
     "end_time": "2022-06-02T20:10:17.703506",
     "exception": false,
     "start_time": "2022-06-02T20:10:17.655997",
     "status": "completed"
    },
    "tags": []
   },
   "outputs": [
    {
     "data": {
      "text/plain": [
       "((10000, 28, 28), (10000,))"
      ]
     },
     "execution_count": 8,
     "metadata": {},
     "output_type": "execute_result"
    }
   ],
   "source": [
    "test_images.shape, test_labels.shape"
   ]
  },
  {
   "cell_type": "code",
   "execution_count": 9,
   "id": "f9ed8fe0",
   "metadata": {
    "execution": {
     "iopub.execute_input": "2022-06-02T20:10:17.770180Z",
     "iopub.status.busy": "2022-06-02T20:10:17.769550Z",
     "iopub.status.idle": "2022-06-02T20:10:17.907147Z",
     "shell.execute_reply": "2022-06-02T20:10:17.906658Z"
    },
    "papermill": {
     "duration": 0.178325,
     "end_time": "2022-06-02T20:10:17.907272",
     "exception": false,
     "start_time": "2022-06-02T20:10:17.728947",
     "status": "completed"
    },
    "tags": []
   },
   "outputs": [
    {
     "name": "stdout",
     "output_type": "stream",
     "text": [
      "2\n"
     ]
    },
    {
     "data": {
      "text/plain": [
       "<matplotlib.image.AxesImage at 0x7f7e16f4e438>"
      ]
     },
     "execution_count": 9,
     "metadata": {},
     "output_type": "execute_result"
    },
    {
     "data": {
      "image/png": "[encoded data removed]",
      "text/plain": [
       "<Figure size 432x288 with 1 Axes>"
      ]
     },
     "metadata": {
      "needs_background": "light"
     },
     "output_type": "display_data"
    }
   ],
   "source": [
    "image_index = 7776 # You may select anything up to 60,000\n",
    "print(train_labels[image_index]) \n",
    "plt.imshow(train_images[image_index], cmap='Greys')"
   ]
  },
  {
   "cell_type": "markdown",
   "id": "a8d2388d",
   "metadata": {
    "papermill": {
     "duration": 0.026625,
     "end_time": "2022-06-02T20:10:17.960772",
     "exception": false,
     "start_time": "2022-06-02T20:10:17.934147",
     "status": "completed"
    },
    "tags": []
   },
   "source": [
    "## Filter data to get 3 and 8 out"
   ]
  },
  {
   "cell_type": "code",
   "execution_count": 10,
   "id": "776f7fc7",
   "metadata": {
    "execution": {
     "iopub.execute_input": "2022-06-02T20:10:18.034170Z",
     "iopub.status.busy": "2022-06-02T20:10:18.033509Z",
     "iopub.status.idle": "2022-06-02T20:10:18.042117Z",
     "shell.execute_reply": "2022-06-02T20:10:18.041612Z"
    },
    "papermill": {
     "duration": 0.054643,
     "end_time": "2022-06-02T20:10:18.042236",
     "exception": false,
     "start_time": "2022-06-02T20:10:17.987593",
     "status": "completed"
    },
    "tags": []
   },
   "outputs": [],
   "source": [
    "train_filter = np.where((train_labels == 3 ) | (train_labels == 8))\n",
    "test_filter = np.where((test_labels == 3) | (test_labels == 8))\n",
    "X_train, y_train = train_images[train_filter], train_labels[train_filter]\n",
    "X_test, y_test = test_images[test_filter], test_labels[test_filter]"
   ]
  },
  {
   "cell_type": "markdown",
   "id": "948f0b7e",
   "metadata": {
    "papermill": {
     "duration": 0.026428,
     "end_time": "2022-06-02T20:10:18.095456",
     "exception": false,
     "start_time": "2022-06-02T20:10:18.069028",
     "status": "completed"
    },
    "tags": []
   },
   "source": [
    "We normalize the pizel values in the 0 to 1 range"
   ]
  },
  {
   "cell_type": "code",
   "execution_count": 11,
   "id": "ee4c2166",
   "metadata": {
    "execution": {
     "iopub.execute_input": "2022-06-02T20:10:18.157097Z",
     "iopub.status.busy": "2022-06-02T20:10:18.156488Z",
     "iopub.status.idle": "2022-06-02T20:10:18.202121Z",
     "shell.execute_reply": "2022-06-02T20:10:18.201542Z"
    },
    "papermill": {
     "duration": 0.080409,
     "end_time": "2022-06-02T20:10:18.202254",
     "exception": false,
     "start_time": "2022-06-02T20:10:18.121845",
     "status": "completed"
    },
    "tags": []
   },
   "outputs": [],
   "source": [
    "X_train = X_train/255.\n",
    "X_test = X_test/255."
   ]
  },
  {
   "cell_type": "markdown",
   "id": "ddcf4fab",
   "metadata": {
    "papermill": {
     "duration": 0.026258,
     "end_time": "2022-06-02T20:10:18.256055",
     "exception": false,
     "start_time": "2022-06-02T20:10:18.229797",
     "status": "completed"
    },
    "tags": []
   },
   "source": [
    "And setup the labels as 1 (when the digit is 3) and 0 (when the digit is 8)"
   ]
  },
  {
   "cell_type": "code",
   "execution_count": 12,
   "id": "7dc908f2",
   "metadata": {
    "execution": {
     "iopub.execute_input": "2022-06-02T20:10:18.317283Z",
     "iopub.status.busy": "2022-06-02T20:10:18.316656Z",
     "iopub.status.idle": "2022-06-02T20:10:18.327619Z",
     "shell.execute_reply": "2022-06-02T20:10:18.327113Z"
    },
    "papermill": {
     "duration": 0.045147,
     "end_time": "2022-06-02T20:10:18.327750",
     "exception": false,
     "start_time": "2022-06-02T20:10:18.282603",
     "status": "completed"
    },
    "tags": []
   },
   "outputs": [],
   "source": [
    "y_train = 1*(y_train==3)\n",
    "y_test = 1*(y_test==3)"
   ]
  },
  {
   "cell_type": "code",
   "execution_count": 13,
   "id": "01e4e969",
   "metadata": {
    "execution": {
     "iopub.execute_input": "2022-06-02T20:10:18.385091Z",
     "iopub.status.busy": "2022-06-02T20:10:18.384494Z",
     "iopub.status.idle": "2022-06-02T20:10:18.398991Z",
     "shell.execute_reply": "2022-06-02T20:10:18.399447Z"
    },
    "papermill": {
     "duration": 0.045176,
     "end_time": "2022-06-02T20:10:18.399610",
     "exception": false,
     "start_time": "2022-06-02T20:10:18.354434",
     "status": "completed"
    },
    "tags": []
   },
   "outputs": [
    {
     "data": {
      "text/plain": [
       "((11982, 28, 28), (1984, 28, 28))"
      ]
     },
     "execution_count": 13,
     "metadata": {},
     "output_type": "execute_result"
    }
   ],
   "source": [
    "X_train.shape, X_test.shape"
   ]
  },
  {
   "cell_type": "markdown",
   "id": "5ccf3f85",
   "metadata": {
    "papermill": {
     "duration": 0.026515,
     "end_time": "2022-06-02T20:10:18.452747",
     "exception": false,
     "start_time": "2022-06-02T20:10:18.426232",
     "status": "completed"
    },
    "tags": []
   },
   "source": [
    "We reshape the data to flatten the image pixels into a set of features or co-variates:"
   ]
  },
  {
   "cell_type": "code",
   "execution_count": 14,
   "id": "5286a4a3",
   "metadata": {
    "execution": {
     "iopub.execute_input": "2022-06-02T20:10:18.512621Z",
     "iopub.status.busy": "2022-06-02T20:10:18.512005Z",
     "iopub.status.idle": "2022-06-02T20:10:18.527135Z",
     "shell.execute_reply": "2022-06-02T20:10:18.526640Z"
    },
    "papermill": {
     "duration": 0.04573,
     "end_time": "2022-06-02T20:10:18.527254",
     "exception": false,
     "start_time": "2022-06-02T20:10:18.481524",
     "status": "completed"
    },
    "tags": []
   },
   "outputs": [
    {
     "data": {
      "text/plain": [
       "((11982, 784), (1984, 784))"
      ]
     },
     "execution_count": 14,
     "metadata": {},
     "output_type": "execute_result"
    }
   ],
   "source": [
    "X_train = X_train.reshape(X_train.shape[0], -1)\n",
    "X_test = X_test.reshape(X_test.shape[0], -1)\n",
    "X_train.shape, X_test.shape"
   ]
  },
  {
   "cell_type": "code",
   "execution_count": 15,
   "id": "73c5f88a",
   "metadata": {
    "execution": {
     "iopub.execute_input": "2022-06-02T20:10:18.588407Z",
     "iopub.status.busy": "2022-06-02T20:10:18.587770Z",
     "iopub.status.idle": "2022-06-02T20:10:18.605984Z",
     "shell.execute_reply": "2022-06-02T20:10:18.605457Z"
    },
    "papermill": {
     "duration": 0.051514,
     "end_time": "2022-06-02T20:10:18.606102",
     "exception": false,
     "start_time": "2022-06-02T20:10:18.554588",
     "status": "completed"
    },
    "tags": []
   },
   "outputs": [],
   "source": [
    "#Impoting functions from 'Kudzu'\n",
    "from kudzu.model import Model\n",
    "from kudzu.train import Learner\n",
    "from kudzu.optim import GD\n",
    "from kudzu.data import Data, Sampler,Dataloader\n",
    "\n",
    "from kudzu.callbacks import AccCallback\n",
    "from kudzu.callbacks import ClfCallback\n",
    "\n",
    "from kudzu.loss import MSE\n",
    "\n",
    "from kudzu.layer import Sigmoid,Relu\n",
    "from kudzu.layer import Affine"
   ]
  },
  {
   "cell_type": "markdown",
   "id": "bc01172a",
   "metadata": {
    "papermill": {
     "duration": 0.027001,
     "end_time": "2022-06-02T20:10:18.660357",
     "exception": false,
     "start_time": "2022-06-02T20:10:18.633356",
     "status": "completed"
    },
    "tags": []
   },
   "source": [
    "### Let us create a `Config` class, to store important parameters. \n",
    "This class essentially plays the role of a dictionary."
   ]
  },
  {
   "cell_type": "code",
   "execution_count": 16,
   "id": "978281aa",
   "metadata": {
    "execution": {
     "iopub.execute_input": "2022-06-02T20:10:18.733981Z",
     "iopub.status.busy": "2022-06-02T20:10:18.732600Z",
     "iopub.status.idle": "2022-06-02T20:10:18.736961Z",
     "shell.execute_reply": "2022-06-02T20:10:18.736187Z"
    },
    "papermill": {
     "duration": 0.049761,
     "end_time": "2022-06-02T20:10:18.737084",
     "exception": false,
     "start_time": "2022-06-02T20:10:18.687323",
     "status": "completed"
    },
    "tags": []
   },
   "outputs": [],
   "source": [
    "class Config:\n",
    "    pass\n",
    "config = Config()\n",
    "config.lr = 0.001\n",
    "config.num_epochs = 250\n",
    "config.bs = 50"
   ]
  },
  {
   "cell_type": "markdown",
   "id": "1385fa59",
   "metadata": {
    "papermill": {
     "duration": 0.027338,
     "end_time": "2022-06-02T20:10:18.791575",
     "exception": false,
     "start_time": "2022-06-02T20:10:18.764237",
     "status": "completed"
    },
    "tags": []
   },
   "source": [
    "### Running Models with the Training data\n",
    "Details about the network layers:\n",
    "- A first affine layer has 784 inputs and does 100 affine transforms. These are followed by a Relu\n",
    "- A second affine layer has 100 inputs from the 100 activations of the past layer, and does 100 affine transforms. These are followed by a Relu\n",
    "- A third affine layer has 100 activations and does 2 affine transformations to create an embedding for visualization. There is no non-linearity here.\n",
    "- A final \"logistic regression\" which has an affine transform from 2 inputs to 1 output, which is squeezed through a sigmoid.\n"
   ]
  },
  {
   "cell_type": "code",
   "execution_count": 17,
   "id": "2b9c66db",
   "metadata": {
    "execution": {
     "iopub.execute_input": "2022-06-02T20:10:18.861958Z",
     "iopub.status.busy": "2022-06-02T20:10:18.858273Z",
     "iopub.status.idle": "2022-06-02T20:10:18.868306Z",
     "shell.execute_reply": "2022-06-02T20:10:18.867788Z"
    },
    "papermill": {
     "duration": 0.049734,
     "end_time": "2022-06-02T20:10:18.868423",
     "exception": false,
     "start_time": "2022-06-02T20:10:18.818689",
     "status": "completed"
    },
    "tags": []
   },
   "outputs": [],
   "source": [
    "data = Data(X_train, y_train.reshape(-1,1))\n",
    "sampler = Sampler(data, config.bs, shuffle=True)\n",
    "\n",
    "dl = Dataloader(data, sampler)\n",
    "\n",
    "opt = GD(config.lr)\n",
    "loss = MSE()"
   ]
  },
  {
   "cell_type": "code",
   "execution_count": 18,
   "id": "b275e4c2",
   "metadata": {
    "execution": {
     "iopub.execute_input": "2022-06-02T20:10:18.930405Z",
     "iopub.status.busy": "2022-06-02T20:10:18.929805Z",
     "iopub.status.idle": "2022-06-02T20:10:18.942045Z",
     "shell.execute_reply": "2022-06-02T20:10:18.941544Z"
    },
    "papermill": {
     "duration": 0.046465,
     "end_time": "2022-06-02T20:10:18.942163",
     "exception": false,
     "start_time": "2022-06-02T20:10:18.895698",
     "status": "completed"
    },
    "tags": []
   },
   "outputs": [],
   "source": [
    "training_data_x = X_train\n",
    "testing_data_x = X_test\n",
    "training_data_y = y_train.reshape(-1,1)\n",
    "testing_data_y = y_test.reshape(-1,1)"
   ]
  },
  {
   "cell_type": "code",
   "execution_count": 19,
   "id": "76951160",
   "metadata": {
    "execution": {
     "iopub.execute_input": "2022-06-02T20:10:19.002525Z",
     "iopub.status.busy": "2022-06-02T20:10:19.001905Z",
     "iopub.status.idle": "2022-06-02T20:10:19.017677Z",
     "shell.execute_reply": "2022-06-02T20:10:19.018132Z"
    },
    "papermill": {
     "duration": 0.049193,
     "end_time": "2022-06-02T20:10:19.018273",
     "exception": false,
     "start_time": "2022-06-02T20:10:18.969080",
     "status": "completed"
    },
    "tags": []
   },
   "outputs": [
    {
     "name": "stdout",
     "output_type": "stream",
     "text": [
      "xavier\n",
      "xavier\n",
      "xavier\n",
      "xavier\n",
      "xavier\n"
     ]
    }
   ],
   "source": [
    "layers = [Affine(\"first\", 784, 100), Relu(\"first\"), Affine(\"second\", 100, 100), Relu(\"second\"), Affine(\"third\", 100, 2), Affine(\"last\", 2, 1), Sigmoid(\"last\")]\n",
    "model_nn = Model(layers)\n",
    "model_lr = Model([Affine(\"logits\", 784, 1), Sigmoid(\"sigmoid\")])"
   ]
  },
  {
   "cell_type": "code",
   "execution_count": 20,
   "id": "6eede77a",
   "metadata": {
    "execution": {
     "iopub.execute_input": "2022-06-02T20:10:19.089568Z",
     "iopub.status.busy": "2022-06-02T20:10:19.088927Z",
     "iopub.status.idle": "2022-06-02T20:10:19.092812Z",
     "shell.execute_reply": "2022-06-02T20:10:19.092323Z"
    },
    "papermill": {
     "duration": 0.047272,
     "end_time": "2022-06-02T20:10:19.092926",
     "exception": false,
     "start_time": "2022-06-02T20:10:19.045654",
     "status": "completed"
    },
    "tags": []
   },
   "outputs": [],
   "source": [
    "nn_learner = Learner(loss, model_nn, opt, config.num_epochs)\n",
    "acc_nn = ClfCallback(nn_learner, config.bs, training_data_x , testing_data_x, training_data_y, testing_data_y)\n",
    "nn_learner.set_callbacks([acc_nn])"
   ]
  },
  {
   "cell_type": "code",
   "execution_count": 21,
   "id": "877b6cc7",
   "metadata": {
    "execution": {
     "iopub.execute_input": "2022-06-02T20:10:19.160622Z",
     "iopub.status.busy": "2022-06-02T20:10:19.151401Z",
     "iopub.status.idle": "2022-06-02T20:10:19.166145Z",
     "shell.execute_reply": "2022-06-02T20:10:19.165646Z"
    },
    "papermill": {
     "duration": 0.046095,
     "end_time": "2022-06-02T20:10:19.166264",
     "exception": false,
     "start_time": "2022-06-02T20:10:19.120169",
     "status": "completed"
    },
    "tags": []
   },
   "outputs": [],
   "source": [
    "lr_learner = Learner(loss, model_lr, opt, config.num_epochs)\n",
    "acc_lr = ClfCallback(lr_learner, config.bs, training_data_x , testing_data_x, training_data_y, testing_data_y)\n",
    "lr_learner.set_callbacks([acc_lr])"
   ]
  },
  {
   "cell_type": "code",
   "execution_count": 22,
   "id": "d9b133c3",
   "metadata": {
    "execution": {
     "iopub.execute_input": "2022-06-02T20:10:19.230474Z",
     "iopub.status.busy": "2022-06-02T20:10:19.229847Z",
     "iopub.status.idle": "2022-06-02T20:11:35.779404Z",
     "shell.execute_reply": "2022-06-02T20:11:35.780269Z"
    },
    "papermill": {
     "duration": 76.58653,
     "end_time": "2022-06-02T20:11:35.780415",
     "exception": false,
     "start_time": "2022-06-02T20:10:19.193885",
     "status": "completed"
    },
    "tags": []
   },
   "outputs": [
    {
     "name": "stdout",
     "output_type": "stream",
     "text": [
      "Epoch 0, Loss 0.259\n",
      "Training Accuracy: 0.5652, Testing Accuracy: 0.5882\n",
      "\n"
     ]
    },
    {
     "name": "stdout",
     "output_type": "stream",
     "text": [
      "Epoch 10, Loss 0.0955\n",
      "Training Accuracy: 0.9064, Testing Accuracy: 0.9148\n",
      "\n"
     ]
    },
    {
     "name": "stdout",
     "output_type": "stream",
     "text": [
      "Epoch 20, Loss 0.0579\n",
      "Training Accuracy: 0.9382, Testing Accuracy: 0.9506\n",
      "\n"
     ]
    },
    {
     "name": "stdout",
     "output_type": "stream",
     "text": [
      "Epoch 30, Loss 0.045\n",
      "Training Accuracy: 0.9505, Testing Accuracy: 0.9582\n",
      "\n"
     ]
    },
    {
     "name": "stdout",
     "output_type": "stream",
     "text": [
      "Epoch 40, Loss 0.0385\n",
      "Training Accuracy: 0.9570, Testing Accuracy: 0.9632\n",
      "\n"
     ]
    },
    {
     "name": "stdout",
     "output_type": "stream",
     "text": [
      "Epoch 50, Loss 0.0345\n",
      "Training Accuracy: 0.9614, Testing Accuracy: 0.9677\n",
      "\n"
     ]
    },
    {
     "name": "stdout",
     "output_type": "stream",
     "text": [
      "Epoch 60, Loss 0.0317\n",
      "Training Accuracy: 0.9642, Testing Accuracy: 0.9693\n",
      "\n"
     ]
    },
    {
     "name": "stdout",
     "output_type": "stream",
     "text": [
      "Epoch 70, Loss 0.0297\n",
      "Training Accuracy: 0.9661, Testing Accuracy: 0.9703\n",
      "\n"
     ]
    },
    {
     "name": "stdout",
     "output_type": "stream",
     "text": [
      "Epoch 80, Loss 0.0281\n",
      "Training Accuracy: 0.9683, Testing Accuracy: 0.9713\n",
      "\n"
     ]
    },
    {
     "name": "stdout",
     "output_type": "stream",
     "text": [
      "Epoch 90, Loss 0.0268\n",
      "Training Accuracy: 0.9698, Testing Accuracy: 0.9708\n",
      "\n"
     ]
    },
    {
     "name": "stdout",
     "output_type": "stream",
     "text": [
      "Epoch 100, Loss 0.0257\n",
      "Training Accuracy: 0.9709, Testing Accuracy: 0.9713\n",
      "\n"
     ]
    },
    {
     "name": "stdout",
     "output_type": "stream",
     "text": [
      "Epoch 110, Loss 0.0247\n",
      "Training Accuracy: 0.9718, Testing Accuracy: 0.9723\n",
      "\n"
     ]
    },
    {
     "name": "stdout",
     "output_type": "stream",
     "text": [
      "Epoch 120, Loss 0.0239\n",
      "Training Accuracy: 0.9724, Testing Accuracy: 0.9723\n",
      "\n"
     ]
    },
    {
     "name": "stdout",
     "output_type": "stream",
     "text": [
      "Epoch 130, Loss 0.0231\n",
      "Training Accuracy: 0.9730, Testing Accuracy: 0.9728\n",
      "\n"
     ]
    },
    {
     "name": "stdout",
     "output_type": "stream",
     "text": [
      "Epoch 140, Loss 0.0224\n",
      "Training Accuracy: 0.9740, Testing Accuracy: 0.9733\n",
      "\n"
     ]
    },
    {
     "name": "stdout",
     "output_type": "stream",
     "text": [
      "Epoch 150, Loss 0.0218\n",
      "Training Accuracy: 0.9745, Testing Accuracy: 0.9743\n",
      "\n"
     ]
    },
    {
     "name": "stdout",
     "output_type": "stream",
     "text": [
      "Epoch 160, Loss 0.0212\n",
      "Training Accuracy: 0.9755, Testing Accuracy: 0.9748\n",
      "\n"
     ]
    },
    {
     "name": "stdout",
     "output_type": "stream",
     "text": [
      "Epoch 170, Loss 0.0207\n",
      "Training Accuracy: 0.9764, Testing Accuracy: 0.9743\n",
      "\n"
     ]
    },
    {
     "name": "stdout",
     "output_type": "stream",
     "text": [
      "Epoch 180, Loss 0.0202\n",
      "Training Accuracy: 0.9773, Testing Accuracy: 0.9748\n",
      "\n"
     ]
    },
    {
     "name": "stdout",
     "output_type": "stream",
     "text": [
      "Epoch 190, Loss 0.0197\n",
      "Training Accuracy: 0.9781, Testing Accuracy: 0.9748\n",
      "\n"
     ]
    },
    {
     "name": "stdout",
     "output_type": "stream",
     "text": [
      "Epoch 200, Loss 0.0192\n",
      "Training Accuracy: 0.9790, Testing Accuracy: 0.9748\n",
      "\n"
     ]
    },
    {
     "name": "stdout",
     "output_type": "stream",
     "text": [
      "Epoch 210, Loss 0.0188\n",
      "Training Accuracy: 0.9801, Testing Accuracy: 0.9748\n",
      "\n"
     ]
    },
    {
     "name": "stdout",
     "output_type": "stream",
     "text": [
      "Epoch 220, Loss 0.0184\n",
      "Training Accuracy: 0.9807, Testing Accuracy: 0.9748\n",
      "\n"
     ]
    },
    {
     "name": "stdout",
     "output_type": "stream",
     "text": [
      "Epoch 230, Loss 0.018\n",
      "Training Accuracy: 0.9808, Testing Accuracy: 0.9753\n",
      "\n"
     ]
    },
    {
     "name": "stdout",
     "output_type": "stream",
     "text": [
      "Epoch 240, Loss 0.0176\n",
      "Training Accuracy: 0.9813, Testing Accuracy: 0.9768\n",
      "\n"
     ]
    },
    {
     "data": {
      "text/plain": [
       "0.02082446141262112"
      ]
     },
     "execution_count": 22,
     "metadata": {},
     "output_type": "execute_result"
    }
   ],
   "source": [
    "nn_learner.train_loop(dl)"
   ]
  },
  {
   "cell_type": "code",
   "execution_count": 23,
   "id": "e0163366",
   "metadata": {
    "execution": {
     "iopub.execute_input": "2022-06-02T20:11:35.862948Z",
     "iopub.status.busy": "2022-06-02T20:11:35.862357Z",
     "iopub.status.idle": "2022-06-02T20:11:49.167923Z",
     "shell.execute_reply": "2022-06-02T20:11:49.168748Z"
    },
    "papermill": {
     "duration": 13.353624,
     "end_time": "2022-06-02T20:11:49.168894",
     "exception": false,
     "start_time": "2022-06-02T20:11:35.815270",
     "status": "completed"
    },
    "tags": []
   },
   "outputs": [
    {
     "name": "stdout",
     "output_type": "stream",
     "text": [
      "Epoch 0, Loss 0.2548\n",
      "Training Accuracy: 0.6244, Testing Accuracy: 0.6628\n",
      "\n"
     ]
    },
    {
     "name": "stdout",
     "output_type": "stream",
     "text": [
      "Epoch 10, Loss 0.1029\n",
      "Training Accuracy: 0.9120, Testing Accuracy: 0.9274\n",
      "\n"
     ]
    },
    {
     "name": "stdout",
     "output_type": "stream",
     "text": [
      "Epoch 20, Loss 0.0789\n",
      "Training Accuracy: 0.9271, Testing Accuracy: 0.9430\n",
      "\n"
     ]
    },
    {
     "name": "stdout",
     "output_type": "stream",
     "text": [
      "Epoch 30, Loss 0.068\n",
      "Training Accuracy: 0.9357, Testing Accuracy: 0.9486\n",
      "\n"
     ]
    },
    {
     "name": "stdout",
     "output_type": "stream",
     "text": [
      "Epoch 40, Loss 0.0615\n",
      "Training Accuracy: 0.9410, Testing Accuracy: 0.9531\n",
      "\n"
     ]
    },
    {
     "name": "stdout",
     "output_type": "stream",
     "text": [
      "Epoch 50, Loss 0.0571\n",
      "Training Accuracy: 0.9442, Testing Accuracy: 0.9546\n",
      "\n"
     ]
    },
    {
     "name": "stdout",
     "output_type": "stream",
     "text": [
      "Epoch 60, Loss 0.0539\n",
      "Training Accuracy: 0.9469, Testing Accuracy: 0.9572\n",
      "\n"
     ]
    },
    {
     "name": "stdout",
     "output_type": "stream",
     "text": [
      "Epoch 70, Loss 0.0513\n",
      "Training Accuracy: 0.9488, Testing Accuracy: 0.9597\n",
      "\n"
     ]
    },
    {
     "name": "stdout",
     "output_type": "stream",
     "text": [
      "Epoch 80, Loss 0.0493\n",
      "Training Accuracy: 0.9499, Testing Accuracy: 0.9612\n",
      "\n"
     ]
    },
    {
     "name": "stdout",
     "output_type": "stream",
     "text": [
      "Epoch 90, Loss 0.0476\n",
      "Training Accuracy: 0.9517, Testing Accuracy: 0.9612\n",
      "\n"
     ]
    },
    {
     "name": "stdout",
     "output_type": "stream",
     "text": [
      "Epoch 100, Loss 0.0462\n",
      "Training Accuracy: 0.9526, Testing Accuracy: 0.9612\n",
      "\n"
     ]
    },
    {
     "name": "stdout",
     "output_type": "stream",
     "text": [
      "Epoch 110, Loss 0.045\n",
      "Training Accuracy: 0.9536, Testing Accuracy: 0.9602\n",
      "\n"
     ]
    },
    {
     "name": "stdout",
     "output_type": "stream",
     "text": [
      "Epoch 120, Loss 0.044\n",
      "Training Accuracy: 0.9546, Testing Accuracy: 0.9607\n",
      "\n"
     ]
    },
    {
     "name": "stdout",
     "output_type": "stream",
     "text": [
      "Epoch 130, Loss 0.043\n",
      "Training Accuracy: 0.9556, Testing Accuracy: 0.9617\n",
      "\n"
     ]
    },
    {
     "name": "stdout",
     "output_type": "stream",
     "text": [
      "Epoch 140, Loss 0.0422\n",
      "Training Accuracy: 0.9563, Testing Accuracy: 0.9622\n",
      "\n"
     ]
    },
    {
     "name": "stdout",
     "output_type": "stream",
     "text": [
      "Epoch 150, Loss 0.0415\n",
      "Training Accuracy: 0.9569, Testing Accuracy: 0.9627\n",
      "\n"
     ]
    },
    {
     "name": "stdout",
     "output_type": "stream",
     "text": [
      "Epoch 160, Loss 0.0408\n",
      "Training Accuracy: 0.9574, Testing Accuracy: 0.9637\n",
      "\n"
     ]
    },
    {
     "name": "stdout",
     "output_type": "stream",
     "text": [
      "Epoch 170, Loss 0.0402\n",
      "Training Accuracy: 0.9578, Testing Accuracy: 0.9632\n",
      "\n"
     ]
    },
    {
     "name": "stdout",
     "output_type": "stream",
     "text": [
      "Epoch 180, Loss 0.0396\n",
      "Training Accuracy: 0.9583, Testing Accuracy: 0.9637\n",
      "\n"
     ]
    },
    {
     "name": "stdout",
     "output_type": "stream",
     "text": [
      "Epoch 190, Loss 0.0391\n",
      "Training Accuracy: 0.9588, Testing Accuracy: 0.9642\n",
      "\n"
     ]
    },
    {
     "name": "stdout",
     "output_type": "stream",
     "text": [
      "Epoch 200, Loss 0.0386\n",
      "Training Accuracy: 0.9589, Testing Accuracy: 0.9642\n",
      "\n"
     ]
    },
    {
     "name": "stdout",
     "output_type": "stream",
     "text": [
      "Epoch 210, Loss 0.0382\n",
      "Training Accuracy: 0.9592, Testing Accuracy: 0.9652\n",
      "\n"
     ]
    },
    {
     "name": "stdout",
     "output_type": "stream",
     "text": [
      "Epoch 220, Loss 0.0378\n",
      "Training Accuracy: 0.9594, Testing Accuracy: 0.9652\n",
      "\n"
     ]
    },
    {
     "name": "stdout",
     "output_type": "stream",
     "text": [
      "Epoch 230, Loss 0.0374\n",
      "Training Accuracy: 0.9599, Testing Accuracy: 0.9657\n",
      "\n"
     ]
    },
    {
     "name": "stdout",
     "output_type": "stream",
     "text": [
      "Epoch 240, Loss 0.037\n",
      "Training Accuracy: 0.9600, Testing Accuracy: 0.9662\n",
      "\n"
     ]
    },
    {
     "data": {
      "text/plain": [
       "0.019790207966631095"
      ]
     },
     "execution_count": 23,
     "metadata": {},
     "output_type": "execute_result"
    }
   ],
   "source": [
    "lr_learner.train_loop(dl)"
   ]
  },
  {
   "cell_type": "code",
   "execution_count": 24,
   "id": "ca410940",
   "metadata": {
    "execution": {
     "iopub.execute_input": "2022-06-02T20:11:49.265091Z",
     "iopub.status.busy": "2022-06-02T20:11:49.264493Z",
     "iopub.status.idle": "2022-06-02T20:11:49.477014Z",
     "shell.execute_reply": "2022-06-02T20:11:49.476518Z"
    },
    "papermill": {
     "duration": 0.266756,
     "end_time": "2022-06-02T20:11:49.477134",
     "exception": false,
     "start_time": "2022-06-02T20:11:49.210378",
     "status": "completed"
    },
    "tags": []
   },
   "outputs": [
    {
     "data": {
      "text/plain": [
       "<matplotlib.legend.Legend at 0x7f7e16ab0780>"
      ]
     },
     "execution_count": 24,
     "metadata": {},
     "output_type": "execute_result"
    },
    {
     "data": {
      "image/png": "[encoded data removed]",
      "text/plain": [
       "<Figure size 1080x720 with 1 Axes>"
      ]
     },
     "metadata": {
      "needs_background": "light"
     },
     "output_type": "display_data"
    }
   ],
   "source": [
    "#comparing the results of NN and LR\n",
    "plt.figure(figsize=(15,10))\n",
    "\n",
    "# Neural Network plots\n",
    "plt.plot(acc_nn.accuracies, 'r-', label = \"Training Accuracies - NN\")\n",
    "plt.plot(acc_nn.test_accuracies, 'g-', label = \"Testing Accuracies - NN\")\n",
    "\n",
    "# Logistic Regression plots\n",
    "plt.plot(acc_lr.accuracies, 'k-', label = \"Training Accuracies - LR\")\n",
    "plt.plot(acc_lr.test_accuracies, 'b-', label = \"Testing Accuracies - LR\")\n",
    "plt.legend()"
   ]
  },
  {
   "cell_type": "markdown",
   "id": "80dfb35c",
   "metadata": {
    "papermill": {
     "duration": 0.041836,
     "end_time": "2022-06-02T20:11:49.561596",
     "exception": false,
     "start_time": "2022-06-02T20:11:49.519760",
     "status": "completed"
    },
    "tags": []
   },
   "source": [
    "#### Plotting the outputs of this layer of the NN.\n"
   ]
  },
  {
   "cell_type": "code",
   "execution_count": 25,
   "id": "45eb2ff5",
   "metadata": {
    "execution": {
     "iopub.execute_input": "2022-06-02T20:11:49.664354Z",
     "iopub.status.busy": "2022-06-02T20:11:49.655094Z",
     "iopub.status.idle": "2022-06-02T20:11:49.676924Z",
     "shell.execute_reply": "2022-06-02T20:11:49.677389Z"
    },
    "papermill": {
     "duration": 0.073367,
     "end_time": "2022-06-02T20:11:49.677526",
     "exception": false,
     "start_time": "2022-06-02T20:11:49.604159",
     "status": "completed"
    },
    "tags": []
   },
   "outputs": [],
   "source": [
    "new_model = Model(layers[:-2])\n",
    "testing_plot = new_model(testing_data_x)"
   ]
  },
  {
   "cell_type": "code",
   "execution_count": 26,
   "id": "4c0a5485",
   "metadata": {
    "execution": {
     "iopub.execute_input": "2022-06-02T20:11:49.774927Z",
     "iopub.status.busy": "2022-06-02T20:11:49.774316Z",
     "iopub.status.idle": "2022-06-02T20:11:50.002878Z",
     "shell.execute_reply": "2022-06-02T20:11:50.003330Z"
    },
    "papermill": {
     "duration": 0.281983,
     "end_time": "2022-06-02T20:11:50.003469",
     "exception": false,
     "start_time": "2022-06-02T20:11:49.721486",
     "status": "completed"
    },
    "tags": []
   },
   "outputs": [
    {
     "data": {
      "text/plain": [
       "Text(0.5, 1.0, 'Outputs')"
      ]
     },
     "execution_count": 26,
     "metadata": {},
     "output_type": "execute_result"
    },
    {
     "data": {
      "image/png": "[encoded data removed]",
      "text/plain": [
       "<Figure size 576x504 with 1 Axes>"
      ]
     },
     "metadata": {
      "needs_background": "light"
     },
     "output_type": "display_data"
    }
   ],
   "source": [
    "# Plotting the scatter plot of points and color coding by class\n",
    "plt.figure(figsize=(8,7))\n",
    "plt.scatter(testing_plot[:,0], testing_plot[:,1], alpha = 0.1, c = y_test.ravel());\n",
    "plt.title('Outputs')"
   ]
  },
  {
   "cell_type": "markdown",
   "id": "a74fcf8f",
   "metadata": {
    "papermill": {
     "duration": 0.045211,
     "end_time": "2022-06-02T20:11:50.094057",
     "exception": false,
     "start_time": "2022-06-02T20:11:50.048846",
     "status": "completed"
    },
    "tags": []
   },
   "source": [
    "Probability contours"
   ]
  },
  {
   "cell_type": "code",
   "execution_count": 27,
   "id": "d0afc8e3",
   "metadata": {
    "execution": {
     "iopub.execute_input": "2022-06-02T20:11:50.188973Z",
     "iopub.status.busy": "2022-06-02T20:11:50.188379Z",
     "iopub.status.idle": "2022-06-02T20:11:50.200001Z",
     "shell.execute_reply": "2022-06-02T20:11:50.200558Z"
    },
    "papermill": {
     "duration": 0.061354,
     "end_time": "2022-06-02T20:11:50.200687",
     "exception": false,
     "start_time": "2022-06-02T20:11:50.139333",
     "status": "completed"
    },
    "tags": []
   },
   "outputs": [],
   "source": [
    "model_prob = Model(layers[-2:]) "
   ]
  },
  {
   "cell_type": "code",
   "execution_count": 28,
   "id": "9b96e238",
   "metadata": {
    "execution": {
     "iopub.execute_input": "2022-06-02T20:11:50.296882Z",
     "iopub.status.busy": "2022-06-02T20:11:50.296297Z",
     "iopub.status.idle": "2022-06-02T20:11:50.310852Z",
     "shell.execute_reply": "2022-06-02T20:11:50.311268Z"
    },
    "papermill": {
     "duration": 0.065164,
     "end_time": "2022-06-02T20:11:50.311400",
     "exception": false,
     "start_time": "2022-06-02T20:11:50.246236",
     "status": "completed"
    },
    "tags": []
   },
   "outputs": [],
   "source": [
    "#creating the x and y ranges according to the above generated plot.\n",
    "x_range = np.linspace(-4, 1, 100) \n",
    "y_range = np.linspace(-6, 6, 100) \n",
    "x_grid, y_grid = np.meshgrid(x_range, y_range) # x_grid and y_grig are of size 100 X 100\n",
    "\n",
    "# converting x_grid and y_grid to continuous arrays\n",
    "x_gridflat = np.ravel(x_grid)\n",
    "y_gridflat = np.ravel(y_grid)\n",
    "\n",
    "# The last layer of the current model takes two columns as input. Hence transpose of np.vstack() is required.\n",
    "X = np.vstack((x_gridflat, y_gridflat)).T\n",
    "\n",
    "prob_contour = model_prob(X).reshape(100,100) "
   ]
  },
  {
   "cell_type": "code",
   "execution_count": 29,
   "id": "da72499a",
   "metadata": {
    "execution": {
     "iopub.execute_input": "2022-06-02T20:11:50.434442Z",
     "iopub.status.busy": "2022-06-02T20:11:50.433827Z",
     "iopub.status.idle": "2022-06-02T20:11:50.678655Z",
     "shell.execute_reply": "2022-06-02T20:11:50.678181Z"
    },
    "papermill": {
     "duration": 0.295153,
     "end_time": "2022-06-02T20:11:50.678775",
     "exception": false,
     "start_time": "2022-06-02T20:11:50.383622",
     "status": "completed"
    },
    "tags": []
   },
   "outputs": [
    {
     "data": {
      "image/png": "[encoded data removed]",
      "text/plain": [
       "<Figure size 720x648 with 1 Axes>"
      ]
     },
     "metadata": {
      "needs_background": "light"
     },
     "output_type": "display_data"
    }
   ],
   "source": [
    "plt.figure(figsize=(10,9))\n",
    "plt.scatter(testing_plot[:,0], testing_plot[:,1], alpha = 0.1, c = y_test.ravel())\n",
    "contours = plt.contour(x_grid,y_grid,prob_contour)\n",
    "plt.title('Probability Contours')\n",
    "plt.clabel(contours, inline = True );"
   ]
  },
  {
   "cell_type": "code",
   "execution_count": null,
   "id": "e81b4ac7",
   "metadata": {
    "papermill": {
     "duration": 0.048245,
     "end_time": "2022-06-02T20:11:50.775196",
     "exception": false,
     "start_time": "2022-06-02T20:11:50.726951",
     "status": "completed"
    },
    "tags": []
   },
   "outputs": [],
   "source": []
  }
 ],
 "metadata": {
  "kernelspec": {
   "display_name": "Python 3",
   "language": "python",
   "name": "python3"
  },
  "language_info": {
   "codemirror_mode": {
    "name": "ipython",
    "version": 3
   },
   "file_extension": ".py",
   "mimetype": "text/x-python",
   "name": "python",
   "nbconvert_exporter": "python",
   "pygments_lexer": "ipython3",
   "version": "3.6.15"
  },
  "papermill": {
   "default_parameters": {},
   "duration": 98.746804,
   "end_time": "2022-06-02T20:11:51.242023",
   "environment_variables": {},
   "exception": null,
   "input_path": "2020-08-11-part2.ipynb",
   "output_path": "2020-08-11-part2.ipynb",
   "parameters": {},
   "start_time": "2022-06-02T20:10:12.495219",
   "version": "2.3.3"
  }
 },
 "nbformat": 4,
 "nbformat_minor": 5
}