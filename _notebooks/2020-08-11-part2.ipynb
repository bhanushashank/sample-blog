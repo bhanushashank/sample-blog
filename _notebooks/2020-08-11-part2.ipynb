{
 "cells": [
  {
   "cell_type": "markdown",
   "id": "98380cd3",
   "metadata": {
    "papermill": {
     "duration": 0.036159,
     "end_time": "2021-11-05T00:22:12.182281",
     "exception": false,
     "start_time": "2021-11-05T00:22:12.146122",
     "status": "completed"
    },
    "tags": []
   },
   "source": [
    "# Distinguish Your Own Digits (DYOD)"
   ]
  },
  {
   "cell_type": "markdown",
   "id": "ef31240d",
   "metadata": {
    "papermill": {
     "duration": 0.027272,
     "end_time": "2021-11-05T00:22:12.244217",
     "exception": false,
     "start_time": "2021-11-05T00:22:12.216945",
     "status": "completed"
    },
    "tags": []
   },
   "source": [
    "You are going to write a classifier that distinguishes between the number 3 and number 8."
   ]
  },
  {
   "cell_type": "code",
   "execution_count": 1,
   "id": "b15c8646",
   "metadata": {
    "execution": {
     "iopub.execute_input": "2021-11-05T00:22:12.311810Z",
     "iopub.status.busy": "2021-11-05T00:22:12.311211Z",
     "iopub.status.idle": "2021-11-05T00:22:12.323226Z",
     "shell.execute_reply": "2021-11-05T00:22:12.323684Z"
    },
    "papermill": {
     "duration": 0.052372,
     "end_time": "2021-11-05T00:22:12.323839",
     "exception": false,
     "start_time": "2021-11-05T00:22:12.271467",
     "status": "completed"
    },
    "tags": []
   },
   "outputs": [],
   "source": [
    "%load_ext autoreload\n",
    "%autoreload 2"
   ]
  },
  {
   "cell_type": "code",
   "execution_count": 2,
   "id": "22ef38dc",
   "metadata": {
    "execution": {
     "iopub.execute_input": "2021-11-05T00:22:12.385140Z",
     "iopub.status.busy": "2021-11-05T00:22:12.384557Z",
     "iopub.status.idle": "2021-11-05T00:22:12.914764Z",
     "shell.execute_reply": "2021-11-05T00:22:12.914166Z"
    },
    "papermill": {
     "duration": 0.563137,
     "end_time": "2021-11-05T00:22:12.914912",
     "exception": false,
     "start_time": "2021-11-05T00:22:12.351775",
     "status": "completed"
    },
    "tags": []
   },
   "outputs": [],
   "source": [
    "%matplotlib inline\n",
    "import numpy as np\n",
    "import matplotlib.pyplot as plt\n",
    "import pandas as pd"
   ]
  },
  {
   "cell_type": "markdown",
   "id": "ba036198",
   "metadata": {
    "papermill": {
     "duration": 0.029572,
     "end_time": "2021-11-05T00:22:12.975841",
     "exception": false,
     "start_time": "2021-11-05T00:22:12.946269",
     "status": "completed"
    },
    "tags": []
   },
   "source": [
    "From the command line run `pip install mnist`. This is a library that will help you bring down the mnist dataset. If you run this from a notebook, you need to put  `!pip install mnist` in a cell by itself."
   ]
  },
  {
   "cell_type": "code",
   "execution_count": 3,
   "id": "bb6ad8a1",
   "metadata": {
    "execution": {
     "iopub.execute_input": "2021-11-05T00:22:13.035802Z",
     "iopub.status.busy": "2021-11-05T00:22:13.035177Z",
     "iopub.status.idle": "2021-11-05T00:22:15.750448Z",
     "shell.execute_reply": "2021-11-05T00:22:15.751131Z"
    },
    "papermill": {
     "duration": 2.748153,
     "end_time": "2021-11-05T00:22:15.751335",
     "exception": false,
     "start_time": "2021-11-05T00:22:13.003182",
     "status": "completed"
    },
    "tags": []
   },
   "outputs": [
    {
     "name": "stdout",
     "output_type": "stream",
     "text": [
      "Collecting mnist\r\n"
     ]
    },
    {
     "name": "stdout",
     "output_type": "stream",
     "text": [
      "  Downloading mnist-0.2.2-py2.py3-none-any.whl (3.5 kB)\r\n",
      "Requirement already satisfied: numpy in /opt/hostedtoolcache/Python/3.6.15/x64/lib/python3.6/site-packages (from mnist) (1.19.5)\r\n"
     ]
    },
    {
     "name": "stdout",
     "output_type": "stream",
     "text": [
      "Installing collected packages: mnist\r\n",
      "Successfully installed mnist-0.2.2\r\n"
     ]
    }
   ],
   "source": [
    "!pip install mnist"
   ]
  },
  {
   "cell_type": "markdown",
   "id": "69df9c9a",
   "metadata": {
    "papermill": {
     "duration": 0.030274,
     "end_time": "2021-11-05T00:22:15.812316",
     "exception": false,
     "start_time": "2021-11-05T00:22:15.782042",
     "status": "completed"
    },
    "tags": []
   },
   "source": [
    "## Preparing the Data"
   ]
  },
  {
   "cell_type": "code",
   "execution_count": 4,
   "id": "7f69d806",
   "metadata": {
    "execution": {
     "iopub.execute_input": "2021-11-05T00:22:15.885312Z",
     "iopub.status.busy": "2021-11-05T00:22:15.884332Z",
     "iopub.status.idle": "2021-11-05T00:22:15.895380Z",
     "shell.execute_reply": "2021-11-05T00:22:15.894857Z"
    },
    "papermill": {
     "duration": 0.054537,
     "end_time": "2021-11-05T00:22:15.895513",
     "exception": false,
     "start_time": "2021-11-05T00:22:15.840976",
     "status": "completed"
    },
    "tags": []
   },
   "outputs": [],
   "source": [
    "import mnist"
   ]
  },
  {
   "cell_type": "code",
   "execution_count": 5,
   "id": "a411e44f",
   "metadata": {
    "execution": {
     "iopub.execute_input": "2021-11-05T00:22:15.960909Z",
     "iopub.status.busy": "2021-11-05T00:22:15.957515Z",
     "iopub.status.idle": "2021-11-05T00:22:16.665894Z",
     "shell.execute_reply": "2021-11-05T00:22:16.665372Z"
    },
    "papermill": {
     "duration": 0.74246,
     "end_time": "2021-11-05T00:22:16.666035",
     "exception": false,
     "start_time": "2021-11-05T00:22:15.923575",
     "status": "completed"
    },
    "tags": []
   },
   "outputs": [],
   "source": [
    "train_images = mnist.train_images()\n",
    "train_labels = mnist.train_labels()"
   ]
  },
  {
   "cell_type": "code",
   "execution_count": 6,
   "id": "dceab3a5",
   "metadata": {
    "execution": {
     "iopub.execute_input": "2021-11-05T00:22:16.739108Z",
     "iopub.status.busy": "2021-11-05T00:22:16.727463Z",
     "iopub.status.idle": "2021-11-05T00:22:16.744314Z",
     "shell.execute_reply": "2021-11-05T00:22:16.743799Z"
    },
    "papermill": {
     "duration": 0.049073,
     "end_time": "2021-11-05T00:22:16.744424",
     "exception": false,
     "start_time": "2021-11-05T00:22:16.695351",
     "status": "completed"
    },
    "tags": []
   },
   "outputs": [
    {
     "data": {
      "text/plain": [
       "((60000, 28, 28), (60000,))"
      ]
     },
     "execution_count": 6,
     "metadata": {},
     "output_type": "execute_result"
    }
   ],
   "source": [
    "train_images.shape, train_labels.shape"
   ]
  },
  {
   "cell_type": "code",
   "execution_count": 7,
   "id": "f50dc2bb",
   "metadata": {
    "execution": {
     "iopub.execute_input": "2021-11-05T00:22:16.804036Z",
     "iopub.status.busy": "2021-11-05T00:22:16.803471Z",
     "iopub.status.idle": "2021-11-05T00:22:17.050160Z",
     "shell.execute_reply": "2021-11-05T00:22:17.049617Z"
    },
    "papermill": {
     "duration": 0.276864,
     "end_time": "2021-11-05T00:22:17.050298",
     "exception": false,
     "start_time": "2021-11-05T00:22:16.773434",
     "status": "completed"
    },
    "tags": []
   },
   "outputs": [],
   "source": [
    "test_images = mnist.test_images()\n",
    "test_labels = mnist.test_labels()"
   ]
  },
  {
   "cell_type": "code",
   "execution_count": 8,
   "id": "fc38cf1b",
   "metadata": {
    "execution": {
     "iopub.execute_input": "2021-11-05T00:22:17.112847Z",
     "iopub.status.busy": "2021-11-05T00:22:17.110664Z",
     "iopub.status.idle": "2021-11-05T00:22:17.125322Z",
     "shell.execute_reply": "2021-11-05T00:22:17.125784Z"
    },
    "papermill": {
     "duration": 0.044746,
     "end_time": "2021-11-05T00:22:17.125904",
     "exception": false,
     "start_time": "2021-11-05T00:22:17.081158",
     "status": "completed"
    },
    "tags": []
   },
   "outputs": [
    {
     "data": {
      "text/plain": [
       "((10000, 28, 28), (10000,))"
      ]
     },
     "execution_count": 8,
     "metadata": {},
     "output_type": "execute_result"
    }
   ],
   "source": [
    "test_images.shape, test_labels.shape"
   ]
  },
  {
   "cell_type": "code",
   "execution_count": 9,
   "id": "f9ed8fe0",
   "metadata": {
    "execution": {
     "iopub.execute_input": "2021-11-05T00:22:17.186222Z",
     "iopub.status.busy": "2021-11-05T00:22:17.185650Z",
     "iopub.status.idle": "2021-11-05T00:22:17.349933Z",
     "shell.execute_reply": "2021-11-05T00:22:17.350405Z"
    },
    "papermill": {
     "duration": 0.196259,
     "end_time": "2021-11-05T00:22:17.350581",
     "exception": false,
     "start_time": "2021-11-05T00:22:17.154322",
     "status": "completed"
    },
    "tags": []
   },
   "outputs": [
    {
     "name": "stdout",
     "output_type": "stream",
     "text": [
      "2\n"
     ]
    },
    {
     "data": {
      "text/plain": [
       "<matplotlib.image.AxesImage at 0x7f4dc21f3080>"
      ]
     },
     "execution_count": 9,
     "metadata": {},
     "output_type": "execute_result"
    },
    {
     "data": {
      "image/png": "[encoded data removed]",
      "text/plain": [
       "<Figure size 432x288 with 1 Axes>"
      ]
     },
     "metadata": {
      "needs_background": "light"
     },
     "output_type": "display_data"
    }
   ],
   "source": [
    "image_index = 7776 # You may select anything up to 60,000\n",
    "print(train_labels[image_index]) \n",
    "plt.imshow(train_images[image_index], cmap='Greys')"
   ]
  },
  {
   "cell_type": "markdown",
   "id": "a8d2388d",
   "metadata": {
    "papermill": {
     "duration": 0.030457,
     "end_time": "2021-11-05T00:22:17.411121",
     "exception": false,
     "start_time": "2021-11-05T00:22:17.380664",
     "status": "completed"
    },
    "tags": []
   },
   "source": [
    "## Filter data to get 3 and 8 out"
   ]
  },
  {
   "cell_type": "code",
   "execution_count": 10,
   "id": "776f7fc7",
   "metadata": {
    "execution": {
     "iopub.execute_input": "2021-11-05T00:22:17.491383Z",
     "iopub.status.busy": "2021-11-05T00:22:17.487118Z",
     "iopub.status.idle": "2021-11-05T00:22:17.497053Z",
     "shell.execute_reply": "2021-11-05T00:22:17.497594Z"
    },
    "papermill": {
     "duration": 0.057179,
     "end_time": "2021-11-05T00:22:17.497737",
     "exception": false,
     "start_time": "2021-11-05T00:22:17.440558",
     "status": "completed"
    },
    "tags": []
   },
   "outputs": [],
   "source": [
    "train_filter = np.where((train_labels == 3 ) | (train_labels == 8))\n",
    "test_filter = np.where((test_labels == 3) | (test_labels == 8))\n",
    "X_train, y_train = train_images[train_filter], train_labels[train_filter]\n",
    "X_test, y_test = test_images[test_filter], test_labels[test_filter]"
   ]
  },
  {
   "cell_type": "markdown",
   "id": "948f0b7e",
   "metadata": {
    "papermill": {
     "duration": 0.029398,
     "end_time": "2021-11-05T00:22:17.558413",
     "exception": false,
     "start_time": "2021-11-05T00:22:17.529015",
     "status": "completed"
    },
    "tags": []
   },
   "source": [
    "We normalize the pizel values in the 0 to 1 range"
   ]
  },
  {
   "cell_type": "code",
   "execution_count": 11,
   "id": "ee4c2166",
   "metadata": {
    "execution": {
     "iopub.execute_input": "2021-11-05T00:22:17.632299Z",
     "iopub.status.busy": "2021-11-05T00:22:17.619602Z",
     "iopub.status.idle": "2021-11-05T00:22:17.690867Z",
     "shell.execute_reply": "2021-11-05T00:22:17.690274Z"
    },
    "papermill": {
     "duration": 0.103557,
     "end_time": "2021-11-05T00:22:17.691024",
     "exception": false,
     "start_time": "2021-11-05T00:22:17.587467",
     "status": "completed"
    },
    "tags": []
   },
   "outputs": [],
   "source": [
    "X_train = X_train/255.\n",
    "X_test = X_test/255."
   ]
  },
  {
   "cell_type": "markdown",
   "id": "ddcf4fab",
   "metadata": {
    "papermill": {
     "duration": 0.030326,
     "end_time": "2021-11-05T00:22:17.752205",
     "exception": false,
     "start_time": "2021-11-05T00:22:17.721879",
     "status": "completed"
    },
    "tags": []
   },
   "source": [
    "And setup the labels as 1 (when the digit is 3) and 0 (when the digit is 8)"
   ]
  },
  {
   "cell_type": "code",
   "execution_count": 12,
   "id": "7dc908f2",
   "metadata": {
    "execution": {
     "iopub.execute_input": "2021-11-05T00:22:17.815586Z",
     "iopub.status.busy": "2021-11-05T00:22:17.814886Z",
     "iopub.status.idle": "2021-11-05T00:22:17.828691Z",
     "shell.execute_reply": "2021-11-05T00:22:17.828070Z"
    },
    "papermill": {
     "duration": 0.046573,
     "end_time": "2021-11-05T00:22:17.828807",
     "exception": false,
     "start_time": "2021-11-05T00:22:17.782234",
     "status": "completed"
    },
    "tags": []
   },
   "outputs": [],
   "source": [
    "y_train = 1*(y_train==3)\n",
    "y_test = 1*(y_test==3)"
   ]
  },
  {
   "cell_type": "code",
   "execution_count": 13,
   "id": "01e4e969",
   "metadata": {
    "execution": {
     "iopub.execute_input": "2021-11-05T00:22:17.893040Z",
     "iopub.status.busy": "2021-11-05T00:22:17.892469Z",
     "iopub.status.idle": "2021-11-05T00:22:17.905566Z",
     "shell.execute_reply": "2021-11-05T00:22:17.905074Z"
    },
    "papermill": {
     "duration": 0.046649,
     "end_time": "2021-11-05T00:22:17.905679",
     "exception": false,
     "start_time": "2021-11-05T00:22:17.859030",
     "status": "completed"
    },
    "tags": []
   },
   "outputs": [
    {
     "data": {
      "text/plain": [
       "((11982, 28, 28), (1984, 28, 28))"
      ]
     },
     "execution_count": 13,
     "metadata": {},
     "output_type": "execute_result"
    }
   ],
   "source": [
    "X_train.shape, X_test.shape"
   ]
  },
  {
   "cell_type": "markdown",
   "id": "5ccf3f85",
   "metadata": {
    "papermill": {
     "duration": 0.029405,
     "end_time": "2021-11-05T00:22:17.965760",
     "exception": false,
     "start_time": "2021-11-05T00:22:17.936355",
     "status": "completed"
    },
    "tags": []
   },
   "source": [
    "We reshape the data to flatten the image pixels into a set of features or co-variates:"
   ]
  },
  {
   "cell_type": "code",
   "execution_count": 14,
   "id": "5286a4a3",
   "metadata": {
    "execution": {
     "iopub.execute_input": "2021-11-05T00:22:18.040991Z",
     "iopub.status.busy": "2021-11-05T00:22:18.035240Z",
     "iopub.status.idle": "2021-11-05T00:22:18.043934Z",
     "shell.execute_reply": "2021-11-05T00:22:18.044378Z"
    },
    "papermill": {
     "duration": 0.049144,
     "end_time": "2021-11-05T00:22:18.044501",
     "exception": false,
     "start_time": "2021-11-05T00:22:17.995357",
     "status": "completed"
    },
    "tags": []
   },
   "outputs": [
    {
     "data": {
      "text/plain": [
       "((11982, 784), (1984, 784))"
      ]
     },
     "execution_count": 14,
     "metadata": {},
     "output_type": "execute_result"
    }
   ],
   "source": [
    "X_train = X_train.reshape(X_train.shape[0], -1)\n",
    "X_test = X_test.reshape(X_test.shape[0], -1)\n",
    "X_train.shape, X_test.shape"
   ]
  },
  {
   "cell_type": "code",
   "execution_count": 15,
   "id": "73c5f88a",
   "metadata": {
    "execution": {
     "iopub.execute_input": "2021-11-05T00:22:18.129900Z",
     "iopub.status.busy": "2021-11-05T00:22:18.123061Z",
     "iopub.status.idle": "2021-11-05T00:22:18.132426Z",
     "shell.execute_reply": "2021-11-05T00:22:18.132871Z"
    },
    "papermill": {
     "duration": 0.057876,
     "end_time": "2021-11-05T00:22:18.132993",
     "exception": false,
     "start_time": "2021-11-05T00:22:18.075117",
     "status": "completed"
    },
    "tags": []
   },
   "outputs": [],
   "source": [
    "#Impoting functions from 'Kudzu'\n",
    "from kudzu.model import Model\n",
    "from kudzu.train import Learner\n",
    "from kudzu.optim import GD\n",
    "from kudzu.data import Data, Sampler,Dataloader\n",
    "\n",
    "from kudzu.callbacks import AccCallback\n",
    "from kudzu.callbacks import ClfCallback\n",
    "\n",
    "from kudzu.loss import MSE\n",
    "\n",
    "from kudzu.layer import Sigmoid,Relu\n",
    "from kudzu.layer import Affine"
   ]
  },
  {
   "cell_type": "markdown",
   "id": "bc01172a",
   "metadata": {
    "papermill": {
     "duration": 0.030241,
     "end_time": "2021-11-05T00:22:18.192950",
     "exception": false,
     "start_time": "2021-11-05T00:22:18.162709",
     "status": "completed"
    },
    "tags": []
   },
   "source": [
    "### Let us create a `Config` class, to store important parameters. \n",
    "This class essentially plays the role of a dictionary."
   ]
  },
  {
   "cell_type": "code",
   "execution_count": 16,
   "id": "978281aa",
   "metadata": {
    "execution": {
     "iopub.execute_input": "2021-11-05T00:22:18.256008Z",
     "iopub.status.busy": "2021-11-05T00:22:18.255428Z",
     "iopub.status.idle": "2021-11-05T00:22:18.266379Z",
     "shell.execute_reply": "2021-11-05T00:22:18.266960Z"
    },
    "papermill": {
     "duration": 0.043646,
     "end_time": "2021-11-05T00:22:18.267081",
     "exception": false,
     "start_time": "2021-11-05T00:22:18.223435",
     "status": "completed"
    },
    "tags": []
   },
   "outputs": [],
   "source": [
    "class Config:\n",
    "    pass\n",
    "config = Config()\n",
    "config.lr = 0.001\n",
    "config.num_epochs = 250\n",
    "config.bs = 50"
   ]
  },
  {
   "cell_type": "markdown",
   "id": "1385fa59",
   "metadata": {
    "papermill": {
     "duration": 0.030542,
     "end_time": "2021-11-05T00:22:18.328286",
     "exception": false,
     "start_time": "2021-11-05T00:22:18.297744",
     "status": "completed"
    },
    "tags": []
   },
   "source": [
    "### Running Models with the Training data\n",
    "Details about the network layers:\n",
    "- A first affine layer has 784 inputs and does 100 affine transforms. These are followed by a Relu\n",
    "- A second affine layer has 100 inputs from the 100 activations of the past layer, and does 100 affine transforms. These are followed by a Relu\n",
    "- A third affine layer has 100 activations and does 2 affine transformations to create an embedding for visualization. There is no non-linearity here.\n",
    "- A final \"logistic regression\" which has an affine transform from 2 inputs to 1 output, which is squeezed through a sigmoid.\n"
   ]
  },
  {
   "cell_type": "code",
   "execution_count": 17,
   "id": "2b9c66db",
   "metadata": {
    "execution": {
     "iopub.execute_input": "2021-11-05T00:22:18.391686Z",
     "iopub.status.busy": "2021-11-05T00:22:18.391100Z",
     "iopub.status.idle": "2021-11-05T00:22:18.402312Z",
     "shell.execute_reply": "2021-11-05T00:22:18.402899Z"
    },
    "papermill": {
     "duration": 0.044956,
     "end_time": "2021-11-05T00:22:18.403022",
     "exception": false,
     "start_time": "2021-11-05T00:22:18.358066",
     "status": "completed"
    },
    "tags": []
   },
   "outputs": [],
   "source": [
    "data = Data(X_train, y_train.reshape(-1,1))\n",
    "sampler = Sampler(data, config.bs, shuffle=True)\n",
    "\n",
    "dl = Dataloader(data, sampler)\n",
    "\n",
    "opt = GD(config.lr)\n",
    "loss = MSE()"
   ]
  },
  {
   "cell_type": "code",
   "execution_count": 18,
   "id": "b275e4c2",
   "metadata": {
    "execution": {
     "iopub.execute_input": "2021-11-05T00:22:18.467744Z",
     "iopub.status.busy": "2021-11-05T00:22:18.467137Z",
     "iopub.status.idle": "2021-11-05T00:22:18.477754Z",
     "shell.execute_reply": "2021-11-05T00:22:18.478297Z"
    },
    "papermill": {
     "duration": 0.045029,
     "end_time": "2021-11-05T00:22:18.478423",
     "exception": false,
     "start_time": "2021-11-05T00:22:18.433394",
     "status": "completed"
    },
    "tags": []
   },
   "outputs": [],
   "source": [
    "training_data_x = X_train\n",
    "testing_data_x = X_test\n",
    "training_data_y = y_train.reshape(-1,1)\n",
    "testing_data_y = y_test.reshape(-1,1)"
   ]
  },
  {
   "cell_type": "code",
   "execution_count": 19,
   "id": "76951160",
   "metadata": {
    "execution": {
     "iopub.execute_input": "2021-11-05T00:22:18.543152Z",
     "iopub.status.busy": "2021-11-05T00:22:18.542495Z",
     "iopub.status.idle": "2021-11-05T00:22:18.557173Z",
     "shell.execute_reply": "2021-11-05T00:22:18.557633Z"
    },
    "papermill": {
     "duration": 0.049787,
     "end_time": "2021-11-05T00:22:18.557751",
     "exception": false,
     "start_time": "2021-11-05T00:22:18.507964",
     "status": "completed"
    },
    "tags": []
   },
   "outputs": [
    {
     "name": "stdout",
     "output_type": "stream",
     "text": [
      "xavier\n",
      "xavier\n",
      "xavier\n",
      "xavier\n",
      "xavier\n"
     ]
    }
   ],
   "source": [
    "layers = [Affine(\"first\", 784, 100), Relu(\"first\"), Affine(\"second\", 100, 100), Relu(\"second\"), Affine(\"third\", 100, 2), Affine(\"last\", 2, 1), Sigmoid(\"last\")]\n",
    "model_nn = Model(layers)\n",
    "model_lr = Model([Affine(\"logits\", 784, 1), Sigmoid(\"sigmoid\")])"
   ]
  },
  {
   "cell_type": "code",
   "execution_count": 20,
   "id": "6eede77a",
   "metadata": {
    "execution": {
     "iopub.execute_input": "2021-11-05T00:22:18.621184Z",
     "iopub.status.busy": "2021-11-05T00:22:18.620619Z",
     "iopub.status.idle": "2021-11-05T00:22:18.631009Z",
     "shell.execute_reply": "2021-11-05T00:22:18.631554Z"
    },
    "papermill": {
     "duration": 0.043719,
     "end_time": "2021-11-05T00:22:18.631673",
     "exception": false,
     "start_time": "2021-11-05T00:22:18.587954",
     "status": "completed"
    },
    "tags": []
   },
   "outputs": [],
   "source": [
    "nn_learner = Learner(loss, model_nn, opt, config.num_epochs)\n",
    "acc_nn = ClfCallback(nn_learner, config.bs, training_data_x , testing_data_x, training_data_y, testing_data_y)\n",
    "nn_learner.set_callbacks([acc_nn])"
   ]
  },
  {
   "cell_type": "code",
   "execution_count": 21,
   "id": "877b6cc7",
   "metadata": {
    "execution": {
     "iopub.execute_input": "2021-11-05T00:22:18.696029Z",
     "iopub.status.busy": "2021-11-05T00:22:18.695465Z",
     "iopub.status.idle": "2021-11-05T00:22:18.706117Z",
     "shell.execute_reply": "2021-11-05T00:22:18.706692Z"
    },
    "papermill": {
     "duration": 0.044952,
     "end_time": "2021-11-05T00:22:18.706810",
     "exception": false,
     "start_time": "2021-11-05T00:22:18.661858",
     "status": "completed"
    },
    "tags": []
   },
   "outputs": [],
   "source": [
    "lr_learner = Learner(loss, model_lr, opt, config.num_epochs)\n",
    "acc_lr = ClfCallback(lr_learner, config.bs, training_data_x , testing_data_x, training_data_y, testing_data_y)\n",
    "lr_learner.set_callbacks([acc_lr])"
   ]
  },
  {
   "cell_type": "code",
   "execution_count": 22,
   "id": "d9b133c3",
   "metadata": {
    "execution": {
     "iopub.execute_input": "2021-11-05T00:22:18.783810Z",
     "iopub.status.busy": "2021-11-05T00:22:18.781749Z",
     "iopub.status.idle": "2021-11-05T00:24:20.778844Z",
     "shell.execute_reply": "2021-11-05T00:24:20.779672Z"
    },
    "papermill": {
     "duration": 122.042754,
     "end_time": "2021-11-05T00:24:20.779833",
     "exception": false,
     "start_time": "2021-11-05T00:22:18.737079",
     "status": "completed"
    },
    "tags": []
   },
   "outputs": [
    {
     "name": "stdout",
     "output_type": "stream",
     "text": [
      "Epoch 0, Loss 0.2174\n",
      "Training Accuracy: 0.7934, Testing Accuracy: 0.8004\n",
      "\n"
     ]
    },
    {
     "name": "stdout",
     "output_type": "stream",
     "text": [
      "Epoch 10, Loss 0.0801\n",
      "Training Accuracy: 0.9241, Testing Accuracy: 0.9269\n",
      "\n"
     ]
    },
    {
     "name": "stdout",
     "output_type": "stream",
     "text": [
      "Epoch 20, Loss 0.0521\n",
      "Training Accuracy: 0.9444, Testing Accuracy: 0.9541\n",
      "\n"
     ]
    },
    {
     "name": "stdout",
     "output_type": "stream",
     "text": [
      "Epoch 30, Loss 0.0419\n",
      "Training Accuracy: 0.9528, Testing Accuracy: 0.9602\n",
      "\n"
     ]
    },
    {
     "name": "stdout",
     "output_type": "stream",
     "text": [
      "Epoch 40, Loss 0.0366\n",
      "Training Accuracy: 0.9584, Testing Accuracy: 0.9642\n",
      "\n"
     ]
    },
    {
     "name": "stdout",
     "output_type": "stream",
     "text": [
      "Epoch 50, Loss 0.0333\n",
      "Training Accuracy: 0.9620, Testing Accuracy: 0.9647\n",
      "\n"
     ]
    },
    {
     "name": "stdout",
     "output_type": "stream",
     "text": [
      "Epoch 60, Loss 0.0309\n",
      "Training Accuracy: 0.9652, Testing Accuracy: 0.9677\n",
      "\n"
     ]
    },
    {
     "name": "stdout",
     "output_type": "stream",
     "text": [
      "Epoch 70, Loss 0.0291\n",
      "Training Accuracy: 0.9675, Testing Accuracy: 0.9703\n",
      "\n"
     ]
    },
    {
     "name": "stdout",
     "output_type": "stream",
     "text": [
      "Epoch 80, Loss 0.0277\n",
      "Training Accuracy: 0.9690, Testing Accuracy: 0.9713\n",
      "\n"
     ]
    },
    {
     "name": "stdout",
     "output_type": "stream",
     "text": [
      "Epoch 90, Loss 0.0265\n",
      "Training Accuracy: 0.9700, Testing Accuracy: 0.9723\n",
      "\n"
     ]
    },
    {
     "name": "stdout",
     "output_type": "stream",
     "text": [
      "Epoch 100, Loss 0.0255\n",
      "Training Accuracy: 0.9710, Testing Accuracy: 0.9718\n",
      "\n"
     ]
    },
    {
     "name": "stdout",
     "output_type": "stream",
     "text": [
      "Epoch 110, Loss 0.0246\n",
      "Training Accuracy: 0.9712, Testing Accuracy: 0.9733\n",
      "\n"
     ]
    },
    {
     "name": "stdout",
     "output_type": "stream",
     "text": [
      "Epoch 120, Loss 0.0238\n",
      "Training Accuracy: 0.9717, Testing Accuracy: 0.9733\n",
      "\n"
     ]
    },
    {
     "name": "stdout",
     "output_type": "stream",
     "text": [
      "Epoch 130, Loss 0.0231\n",
      "Training Accuracy: 0.9725, Testing Accuracy: 0.9733\n",
      "\n"
     ]
    },
    {
     "name": "stdout",
     "output_type": "stream",
     "text": [
      "Epoch 140, Loss 0.0224\n",
      "Training Accuracy: 0.9737, Testing Accuracy: 0.9738\n",
      "\n"
     ]
    },
    {
     "name": "stdout",
     "output_type": "stream",
     "text": [
      "Epoch 150, Loss 0.0218\n",
      "Training Accuracy: 0.9746, Testing Accuracy: 0.9738\n",
      "\n"
     ]
    },
    {
     "name": "stdout",
     "output_type": "stream",
     "text": [
      "Epoch 160, Loss 0.0212\n",
      "Training Accuracy: 0.9754, Testing Accuracy: 0.9748\n",
      "\n"
     ]
    },
    {
     "name": "stdout",
     "output_type": "stream",
     "text": [
      "Epoch 170, Loss 0.0207\n",
      "Training Accuracy: 0.9760, Testing Accuracy: 0.9753\n",
      "\n"
     ]
    },
    {
     "name": "stdout",
     "output_type": "stream",
     "text": [
      "Epoch 180, Loss 0.0202\n",
      "Training Accuracy: 0.9770, Testing Accuracy: 0.9758\n",
      "\n"
     ]
    },
    {
     "name": "stdout",
     "output_type": "stream",
     "text": [
      "Epoch 190, Loss 0.0198\n",
      "Training Accuracy: 0.9775, Testing Accuracy: 0.9753\n",
      "\n"
     ]
    },
    {
     "name": "stdout",
     "output_type": "stream",
     "text": [
      "Epoch 200, Loss 0.0193\n",
      "Training Accuracy: 0.9781, Testing Accuracy: 0.9753\n",
      "\n"
     ]
    },
    {
     "name": "stdout",
     "output_type": "stream",
     "text": [
      "Epoch 210, Loss 0.0189\n",
      "Training Accuracy: 0.9783, Testing Accuracy: 0.9753\n",
      "\n"
     ]
    },
    {
     "name": "stdout",
     "output_type": "stream",
     "text": [
      "Epoch 220, Loss 0.0185\n",
      "Training Accuracy: 0.9787, Testing Accuracy: 0.9753\n",
      "\n"
     ]
    },
    {
     "name": "stdout",
     "output_type": "stream",
     "text": [
      "Epoch 230, Loss 0.0181\n",
      "Training Accuracy: 0.9791, Testing Accuracy: 0.9748\n",
      "\n"
     ]
    },
    {
     "name": "stdout",
     "output_type": "stream",
     "text": [
      "Epoch 240, Loss 0.0177\n",
      "Training Accuracy: 0.9796, Testing Accuracy: 0.9748\n",
      "\n"
     ]
    },
    {
     "data": {
      "text/plain": [
       "0.0014341190152127835"
      ]
     },
     "execution_count": 22,
     "metadata": {},
     "output_type": "execute_result"
    }
   ],
   "source": [
    "nn_learner.train_loop(dl)"
   ]
  },
  {
   "cell_type": "code",
   "execution_count": 23,
   "id": "e0163366",
   "metadata": {
    "execution": {
     "iopub.execute_input": "2021-11-05T00:24:20.899613Z",
     "iopub.status.busy": "2021-11-05T00:24:20.899014Z",
     "iopub.status.idle": "2021-11-05T00:24:38.517999Z",
     "shell.execute_reply": "2021-11-05T00:24:38.518808Z"
    },
    "papermill": {
     "duration": 17.698699,
     "end_time": "2021-11-05T00:24:38.518965",
     "exception": false,
     "start_time": "2021-11-05T00:24:20.820266",
     "status": "completed"
    },
    "tags": []
   },
   "outputs": [
    {
     "name": "stdout",
     "output_type": "stream",
     "text": [
      "Epoch 0, Loss 0.2325\n",
      "Training Accuracy: 0.6987, Testing Accuracy: 0.6774\n",
      "\n"
     ]
    },
    {
     "name": "stdout",
     "output_type": "stream",
     "text": [
      "Epoch 10, Loss 0.1086\n",
      "Training Accuracy: 0.8896, Testing Accuracy: 0.8957\n",
      "\n"
     ]
    },
    {
     "name": "stdout",
     "output_type": "stream",
     "text": [
      "Epoch 20, Loss 0.0835\n",
      "Training Accuracy: 0.9161, Testing Accuracy: 0.9304\n",
      "\n"
     ]
    },
    {
     "name": "stdout",
     "output_type": "stream",
     "text": [
      "Epoch 30, Loss 0.0714\n",
      "Training Accuracy: 0.9299, Testing Accuracy: 0.9420\n",
      "\n"
     ]
    },
    {
     "name": "stdout",
     "output_type": "stream",
     "text": [
      "Epoch 40, Loss 0.0641\n",
      "Training Accuracy: 0.9369, Testing Accuracy: 0.9506\n",
      "\n"
     ]
    },
    {
     "name": "stdout",
     "output_type": "stream",
     "text": [
      "Epoch 50, Loss 0.0591\n",
      "Training Accuracy: 0.9409, Testing Accuracy: 0.9541\n",
      "\n"
     ]
    },
    {
     "name": "stdout",
     "output_type": "stream",
     "text": [
      "Epoch 60, Loss 0.0555\n",
      "Training Accuracy: 0.9439, Testing Accuracy: 0.9551\n",
      "\n"
     ]
    },
    {
     "name": "stdout",
     "output_type": "stream",
     "text": [
      "Epoch 70, Loss 0.0526\n",
      "Training Accuracy: 0.9470, Testing Accuracy: 0.9567\n",
      "\n"
     ]
    },
    {
     "name": "stdout",
     "output_type": "stream",
     "text": [
      "Epoch 80, Loss 0.0504\n",
      "Training Accuracy: 0.9496, Testing Accuracy: 0.9577\n",
      "\n"
     ]
    },
    {
     "name": "stdout",
     "output_type": "stream",
     "text": [
      "Epoch 90, Loss 0.0486\n",
      "Training Accuracy: 0.9513, Testing Accuracy: 0.9602\n",
      "\n"
     ]
    },
    {
     "name": "stdout",
     "output_type": "stream",
     "text": [
      "Epoch 100, Loss 0.047\n",
      "Training Accuracy: 0.9523, Testing Accuracy: 0.9617\n",
      "\n"
     ]
    },
    {
     "name": "stdout",
     "output_type": "stream",
     "text": [
      "Epoch 110, Loss 0.0457\n",
      "Training Accuracy: 0.9536, Testing Accuracy: 0.9627\n",
      "\n"
     ]
    },
    {
     "name": "stdout",
     "output_type": "stream",
     "text": [
      "Epoch 120, Loss 0.0446\n",
      "Training Accuracy: 0.9548, Testing Accuracy: 0.9632\n",
      "\n"
     ]
    },
    {
     "name": "stdout",
     "output_type": "stream",
     "text": [
      "Epoch 130, Loss 0.0436\n",
      "Training Accuracy: 0.9553, Testing Accuracy: 0.9642\n",
      "\n"
     ]
    },
    {
     "name": "stdout",
     "output_type": "stream",
     "text": [
      "Epoch 140, Loss 0.0427\n",
      "Training Accuracy: 0.9559, Testing Accuracy: 0.9647\n",
      "\n"
     ]
    },
    {
     "name": "stdout",
     "output_type": "stream",
     "text": [
      "Epoch 150, Loss 0.0419\n",
      "Training Accuracy: 0.9567, Testing Accuracy: 0.9652\n",
      "\n"
     ]
    },
    {
     "name": "stdout",
     "output_type": "stream",
     "text": [
      "Epoch 160, Loss 0.0412\n",
      "Training Accuracy: 0.9569, Testing Accuracy: 0.9667\n",
      "\n"
     ]
    },
    {
     "name": "stdout",
     "output_type": "stream",
     "text": [
      "Epoch 170, Loss 0.0406\n",
      "Training Accuracy: 0.9575, Testing Accuracy: 0.9672\n",
      "\n"
     ]
    },
    {
     "name": "stdout",
     "output_type": "stream",
     "text": [
      "Epoch 180, Loss 0.04\n",
      "Training Accuracy: 0.9579, Testing Accuracy: 0.9682\n",
      "\n"
     ]
    },
    {
     "name": "stdout",
     "output_type": "stream",
     "text": [
      "Epoch 190, Loss 0.0394\n",
      "Training Accuracy: 0.9586, Testing Accuracy: 0.9688\n",
      "\n"
     ]
    },
    {
     "name": "stdout",
     "output_type": "stream",
     "text": [
      "Epoch 200, Loss 0.0389\n",
      "Training Accuracy: 0.9588, Testing Accuracy: 0.9688\n",
      "\n"
     ]
    },
    {
     "name": "stdout",
     "output_type": "stream",
     "text": [
      "Epoch 210, Loss 0.0385\n",
      "Training Accuracy: 0.9591, Testing Accuracy: 0.9688\n",
      "\n"
     ]
    },
    {
     "name": "stdout",
     "output_type": "stream",
     "text": [
      "Epoch 220, Loss 0.038\n",
      "Training Accuracy: 0.9597, Testing Accuracy: 0.9688\n",
      "\n"
     ]
    },
    {
     "name": "stdout",
     "output_type": "stream",
     "text": [
      "Epoch 230, Loss 0.0376\n",
      "Training Accuracy: 0.9599, Testing Accuracy: 0.9688\n",
      "\n"
     ]
    },
    {
     "name": "stdout",
     "output_type": "stream",
     "text": [
      "Epoch 240, Loss 0.0373\n",
      "Training Accuracy: 0.9602, Testing Accuracy: 0.9688\n",
      "\n"
     ]
    },
    {
     "data": {
      "text/plain": [
       "0.03461936787106332"
      ]
     },
     "execution_count": 23,
     "metadata": {},
     "output_type": "execute_result"
    }
   ],
   "source": [
    "lr_learner.train_loop(dl)"
   ]
  },
  {
   "cell_type": "code",
   "execution_count": 24,
   "id": "ca410940",
   "metadata": {
    "execution": {
     "iopub.execute_input": "2021-11-05T00:24:38.625030Z",
     "iopub.status.busy": "2021-11-05T00:24:38.623674Z",
     "iopub.status.idle": "2021-11-05T00:24:38.889460Z",
     "shell.execute_reply": "2021-11-05T00:24:38.888950Z"
    },
    "papermill": {
     "duration": 0.323982,
     "end_time": "2021-11-05T00:24:38.889590",
     "exception": false,
     "start_time": "2021-11-05T00:24:38.565608",
     "status": "completed"
    },
    "tags": []
   },
   "outputs": [
    {
     "data": {
      "text/plain": [
       "<matplotlib.legend.Legend at 0x7f4dc1d537b8>"
      ]
     },
     "execution_count": 24,
     "metadata": {},
     "output_type": "execute_result"
    },
    {
     "data": {
      "image/png": "[encoded data removed]",
      "text/plain": [
       "<Figure size 1080x720 with 1 Axes>"
      ]
     },
     "metadata": {
      "needs_background": "light"
     },
     "output_type": "display_data"
    }
   ],
   "source": [
    "#comparing the results of NN and LR\n",
    "plt.figure(figsize=(15,10))\n",
    "\n",
    "# Neural Network plots\n",
    "plt.plot(acc_nn.accuracies, 'r-', label = \"Training Accuracies - NN\")\n",
    "plt.plot(acc_nn.test_accuracies, 'g-', label = \"Testing Accuracies - NN\")\n",
    "\n",
    "# Logistic Regression plots\n",
    "plt.plot(acc_lr.accuracies, 'k-', label = \"Training Accuracies - LR\")\n",
    "plt.plot(acc_lr.test_accuracies, 'b-', label = \"Testing Accuracies - LR\")\n",
    "plt.legend()"
   ]
  },
  {
   "cell_type": "markdown",
   "id": "80dfb35c",
   "metadata": {
    "papermill": {
     "duration": 0.047088,
     "end_time": "2021-11-05T00:24:38.984254",
     "exception": false,
     "start_time": "2021-11-05T00:24:38.937166",
     "status": "completed"
    },
    "tags": []
   },
   "source": [
    "#### Plotting the outputs of this layer of the NN.\n"
   ]
  },
  {
   "cell_type": "code",
   "execution_count": 25,
   "id": "45eb2ff5",
   "metadata": {
    "execution": {
     "iopub.execute_input": "2021-11-05T00:24:39.084845Z",
     "iopub.status.busy": "2021-11-05T00:24:39.084264Z",
     "iopub.status.idle": "2021-11-05T00:24:39.107371Z",
     "shell.execute_reply": "2021-11-05T00:24:39.107903Z"
    },
    "papermill": {
     "duration": 0.07713,
     "end_time": "2021-11-05T00:24:39.108055",
     "exception": false,
     "start_time": "2021-11-05T00:24:39.030925",
     "status": "completed"
    },
    "tags": []
   },
   "outputs": [],
   "source": [
    "new_model = Model(layers[:-2])\n",
    "testing_plot = new_model(testing_data_x)"
   ]
  },
  {
   "cell_type": "code",
   "execution_count": 26,
   "id": "4c0a5485",
   "metadata": {
    "execution": {
     "iopub.execute_input": "2021-11-05T00:24:39.207944Z",
     "iopub.status.busy": "2021-11-05T00:24:39.207359Z",
     "iopub.status.idle": "2021-11-05T00:24:39.445066Z",
     "shell.execute_reply": "2021-11-05T00:24:39.444242Z"
    },
    "papermill": {
     "duration": 0.289118,
     "end_time": "2021-11-05T00:24:39.445190",
     "exception": false,
     "start_time": "2021-11-05T00:24:39.156072",
     "status": "completed"
    },
    "tags": []
   },
   "outputs": [
    {
     "data": {
      "text/plain": [
       "Text(0.5, 1.0, 'Outputs')"
      ]
     },
     "execution_count": 26,
     "metadata": {},
     "output_type": "execute_result"
    },
    {
     "data": {
      "image/png": "[encoded data removed]",
      "text/plain": [
       "<Figure size 576x504 with 1 Axes>"
      ]
     },
     "metadata": {
      "needs_background": "light"
     },
     "output_type": "display_data"
    }
   ],
   "source": [
    "# Plotting the scatter plot of points and color coding by class\n",
    "plt.figure(figsize=(8,7))\n",
    "plt.scatter(testing_plot[:,0], testing_plot[:,1], alpha = 0.1, c = y_test.ravel());\n",
    "plt.title('Outputs')"
   ]
  },
  {
   "cell_type": "markdown",
   "id": "a74fcf8f",
   "metadata": {
    "papermill": {
     "duration": 0.049011,
     "end_time": "2021-11-05T00:24:39.544934",
     "exception": false,
     "start_time": "2021-11-05T00:24:39.495923",
     "status": "completed"
    },
    "tags": []
   },
   "source": [
    "Probability contours"
   ]
  },
  {
   "cell_type": "code",
   "execution_count": 27,
   "id": "d0afc8e3",
   "metadata": {
    "execution": {
     "iopub.execute_input": "2021-11-05T00:24:39.652676Z",
     "iopub.status.busy": "2021-11-05T00:24:39.652084Z",
     "iopub.status.idle": "2021-11-05T00:24:39.663772Z",
     "shell.execute_reply": "2021-11-05T00:24:39.662864Z"
    },
    "papermill": {
     "duration": 0.068735,
     "end_time": "2021-11-05T00:24:39.663904",
     "exception": false,
     "start_time": "2021-11-05T00:24:39.595169",
     "status": "completed"
    },
    "tags": []
   },
   "outputs": [],
   "source": [
    "model_prob = Model(layers[-2:]) "
   ]
  },
  {
   "cell_type": "code",
   "execution_count": 28,
   "id": "9b96e238",
   "metadata": {
    "execution": {
     "iopub.execute_input": "2021-11-05T00:24:39.793641Z",
     "iopub.status.busy": "2021-11-05T00:24:39.781428Z",
     "iopub.status.idle": "2021-11-05T00:24:39.800114Z",
     "shell.execute_reply": "2021-11-05T00:24:39.800587Z"
    },
    "papermill": {
     "duration": 0.079853,
     "end_time": "2021-11-05T00:24:39.800716",
     "exception": false,
     "start_time": "2021-11-05T00:24:39.720863",
     "status": "completed"
    },
    "tags": []
   },
   "outputs": [],
   "source": [
    "#creating the x and y ranges according to the above generated plot.\n",
    "x_range = np.linspace(-4, 1, 100) \n",
    "y_range = np.linspace(-6, 6, 100) \n",
    "x_grid, y_grid = np.meshgrid(x_range, y_range) # x_grid and y_grig are of size 100 X 100\n",
    "\n",
    "# converting x_grid and y_grid to continuous arrays\n",
    "x_gridflat = np.ravel(x_grid)\n",
    "y_gridflat = np.ravel(y_grid)\n",
    "\n",
    "# The last layer of the current model takes two columns as input. Hence transpose of np.vstack() is required.\n",
    "X = np.vstack((x_gridflat, y_gridflat)).T\n",
    "\n",
    "prob_contour = model_prob(X).reshape(100,100) "
   ]
  },
  {
   "cell_type": "code",
   "execution_count": 29,
   "id": "da72499a",
   "metadata": {
    "execution": {
     "iopub.execute_input": "2021-11-05T00:24:39.914679Z",
     "iopub.status.busy": "2021-11-05T00:24:39.914016Z",
     "iopub.status.idle": "2021-11-05T00:24:40.199563Z",
     "shell.execute_reply": "2021-11-05T00:24:40.200021Z"
    },
    "papermill": {
     "duration": 0.345997,
     "end_time": "2021-11-05T00:24:40.200180",
     "exception": false,
     "start_time": "2021-11-05T00:24:39.854183",
     "status": "completed"
    },
    "tags": []
   },
   "outputs": [
    {
     "data": {
      "image/png": "[encoded data removed]",
      "text/plain": [
       "<Figure size 720x648 with 1 Axes>"
      ]
     },
     "metadata": {
      "needs_background": "light"
     },
     "output_type": "display_data"
    }
   ],
   "source": [
    "plt.figure(figsize=(10,9))\n",
    "plt.scatter(testing_plot[:,0], testing_plot[:,1], alpha = 0.1, c = y_test.ravel())\n",
    "contours = plt.contour(x_grid,y_grid,prob_contour)\n",
    "plt.title('Probability Contours')\n",
    "plt.clabel(contours, inline = True );"
   ]
  },
  {
   "cell_type": "code",
   "execution_count": null,
   "id": "e81b4ac7",
   "metadata": {
    "papermill": {
     "duration": 0.05407,
     "end_time": "2021-11-05T00:24:40.328054",
     "exception": false,
     "start_time": "2021-11-05T00:24:40.273984",
     "status": "completed"
    },
    "tags": []
   },
   "outputs": [],
   "source": []
  }
 ],
 "metadata": {
  "kernelspec": {
   "display_name": "Python 3",
   "language": "python",
   "name": "python3"
  },
  "language_info": {
   "codemirror_mode": {
    "name": "ipython",
    "version": 3
   },
   "file_extension": ".py",
   "mimetype": "text/x-python",
   "name": "python",
   "nbconvert_exporter": "python",
   "pygments_lexer": "ipython3",
   "version": "3.6.15"
  },
  "papermill": {
   "default_parameters": {},
   "duration": 149.703223,
   "end_time": "2021-11-05T00:24:40.789205",
   "environment_variables": {},
   "exception": null,
   "input_path": "2020-08-11-part2.ipynb",
   "output_path": "2020-08-11-part2.ipynb",
   "parameters": {},
   "start_time": "2021-11-05T00:22:11.085982",
   "version": "2.3.3"
  }
 },
 "nbformat": 4,
 "nbformat_minor": 5
}