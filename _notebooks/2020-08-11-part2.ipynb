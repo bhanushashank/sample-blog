{
 "cells": [
  {
   "cell_type": "markdown",
   "id": "98380cd3",
   "metadata": {
    "papermill": {
     "duration": 0.028658,
     "end_time": "2022-06-10T20:09:50.696354",
     "exception": false,
     "start_time": "2022-06-10T20:09:50.667696",
     "status": "completed"
    },
    "tags": []
   },
   "source": [
    "# Distinguish Your Own Digits (DYOD)"
   ]
  },
  {
   "cell_type": "markdown",
   "id": "ef31240d",
   "metadata": {
    "papermill": {
     "duration": 0.024617,
     "end_time": "2022-06-10T20:09:50.745947",
     "exception": false,
     "start_time": "2022-06-10T20:09:50.721330",
     "status": "completed"
    },
    "tags": []
   },
   "source": [
    "You are going to write a classifier that distinguishes between the number 3 and number 8."
   ]
  },
  {
   "cell_type": "code",
   "execution_count": 1,
   "id": "b15c8646",
   "metadata": {
    "execution": {
     "iopub.execute_input": "2022-06-10T20:09:50.804502Z",
     "iopub.status.busy": "2022-06-10T20:09:50.803904Z",
     "iopub.status.idle": "2022-06-10T20:09:50.814402Z",
     "shell.execute_reply": "2022-06-10T20:09:50.814841Z"
    },
    "papermill": {
     "duration": 0.044718,
     "end_time": "2022-06-10T20:09:50.814983",
     "exception": false,
     "start_time": "2022-06-10T20:09:50.770265",
     "status": "completed"
    },
    "tags": []
   },
   "outputs": [],
   "source": [
    "%load_ext autoreload\n",
    "%autoreload 2"
   ]
  },
  {
   "cell_type": "code",
   "execution_count": 2,
   "id": "22ef38dc",
   "metadata": {
    "execution": {
     "iopub.execute_input": "2022-06-10T20:09:50.866830Z",
     "iopub.status.busy": "2022-06-10T20:09:50.866244Z",
     "iopub.status.idle": "2022-06-10T20:09:51.393375Z",
     "shell.execute_reply": "2022-06-10T20:09:51.393899Z"
    },
    "papermill": {
     "duration": 0.554864,
     "end_time": "2022-06-10T20:09:51.394095",
     "exception": false,
     "start_time": "2022-06-10T20:09:50.839231",
     "status": "completed"
    },
    "tags": []
   },
   "outputs": [],
   "source": [
    "%matplotlib inline\n",
    "import numpy as np\n",
    "import matplotlib.pyplot as plt\n",
    "import pandas as pd"
   ]
  },
  {
   "cell_type": "markdown",
   "id": "ba036198",
   "metadata": {
    "papermill": {
     "duration": 0.024449,
     "end_time": "2022-06-10T20:09:51.443404",
     "exception": false,
     "start_time": "2022-06-10T20:09:51.418955",
     "status": "completed"
    },
    "tags": []
   },
   "source": [
    "From the command line run `pip install mnist`. This is a library that will help you bring down the mnist dataset. If you run this from a notebook, you need to put  `!pip install mnist` in a cell by itself."
   ]
  },
  {
   "cell_type": "code",
   "execution_count": 3,
   "id": "bb6ad8a1",
   "metadata": {
    "execution": {
     "iopub.execute_input": "2022-06-10T20:09:51.497298Z",
     "iopub.status.busy": "2022-06-10T20:09:51.496564Z",
     "iopub.status.idle": "2022-06-10T20:09:53.123648Z",
     "shell.execute_reply": "2022-06-10T20:09:53.124203Z"
    },
    "papermill": {
     "duration": 1.65559,
     "end_time": "2022-06-10T20:09:53.124362",
     "exception": false,
     "start_time": "2022-06-10T20:09:51.468772",
     "status": "completed"
    },
    "tags": []
   },
   "outputs": [
    {
     "name": "stdout",
     "output_type": "stream",
     "text": [
      "Collecting mnist\r\n",
      "  Downloading mnist-0.2.2-py2.py3-none-any.whl (3.5 kB)\r\n"
     ]
    },
    {
     "name": "stdout",
     "output_type": "stream",
     "text": [
      "Requirement already satisfied: numpy in /opt/hostedtoolcache/Python/3.6.15/x64/lib/python3.6/site-packages (from mnist) (1.19.5)\r\n"
     ]
    },
    {
     "name": "stdout",
     "output_type": "stream",
     "text": [
      "Installing collected packages: mnist\r\n"
     ]
    },
    {
     "name": "stdout",
     "output_type": "stream",
     "text": [
      "Successfully installed mnist-0.2.2\r\n"
     ]
    }
   ],
   "source": [
    "!pip install mnist"
   ]
  },
  {
   "cell_type": "markdown",
   "id": "69df9c9a",
   "metadata": {
    "papermill": {
     "duration": 0.025661,
     "end_time": "2022-06-10T20:09:53.176986",
     "exception": false,
     "start_time": "2022-06-10T20:09:53.151325",
     "status": "completed"
    },
    "tags": []
   },
   "source": [
    "## Preparing the Data"
   ]
  },
  {
   "cell_type": "code",
   "execution_count": 4,
   "id": "7f69d806",
   "metadata": {
    "execution": {
     "iopub.execute_input": "2022-06-10T20:09:53.244273Z",
     "iopub.status.busy": "2022-06-10T20:09:53.240019Z",
     "iopub.status.idle": "2022-06-10T20:09:53.253423Z",
     "shell.execute_reply": "2022-06-10T20:09:53.252925Z"
    },
    "papermill": {
     "duration": 0.049198,
     "end_time": "2022-06-10T20:09:53.253536",
     "exception": false,
     "start_time": "2022-06-10T20:09:53.204338",
     "status": "completed"
    },
    "tags": []
   },
   "outputs": [],
   "source": [
    "import mnist"
   ]
  },
  {
   "cell_type": "code",
   "execution_count": 5,
   "id": "a411e44f",
   "metadata": {
    "execution": {
     "iopub.execute_input": "2022-06-10T20:09:53.314113Z",
     "iopub.status.busy": "2022-06-10T20:09:53.313482Z",
     "iopub.status.idle": "2022-06-10T20:09:53.804463Z",
     "shell.execute_reply": "2022-06-10T20:09:53.803917Z"
    },
    "papermill": {
     "duration": 0.524872,
     "end_time": "2022-06-10T20:09:53.804599",
     "exception": false,
     "start_time": "2022-06-10T20:09:53.279727",
     "status": "completed"
    },
    "tags": []
   },
   "outputs": [],
   "source": [
    "train_images = mnist.train_images()\n",
    "train_labels = mnist.train_labels()"
   ]
  },
  {
   "cell_type": "code",
   "execution_count": 6,
   "id": "dceab3a5",
   "metadata": {
    "execution": {
     "iopub.execute_input": "2022-06-10T20:09:53.861028Z",
     "iopub.status.busy": "2022-06-10T20:09:53.860422Z",
     "iopub.status.idle": "2022-06-10T20:09:53.875999Z",
     "shell.execute_reply": "2022-06-10T20:09:53.875405Z"
    },
    "papermill": {
     "duration": 0.045244,
     "end_time": "2022-06-10T20:09:53.876105",
     "exception": false,
     "start_time": "2022-06-10T20:09:53.830861",
     "status": "completed"
    },
    "tags": []
   },
   "outputs": [
    {
     "data": {
      "text/plain": [
       "((60000, 28, 28), (60000,))"
      ]
     },
     "execution_count": 6,
     "metadata": {},
     "output_type": "execute_result"
    }
   ],
   "source": [
    "train_images.shape, train_labels.shape"
   ]
  },
  {
   "cell_type": "code",
   "execution_count": 7,
   "id": "f50dc2bb",
   "metadata": {
    "execution": {
     "iopub.execute_input": "2022-06-10T20:09:53.931818Z",
     "iopub.status.busy": "2022-06-10T20:09:53.930697Z",
     "iopub.status.idle": "2022-06-10T20:09:54.116615Z",
     "shell.execute_reply": "2022-06-10T20:09:54.116078Z"
    },
    "papermill": {
     "duration": 0.214803,
     "end_time": "2022-06-10T20:09:54.116743",
     "exception": false,
     "start_time": "2022-06-10T20:09:53.901940",
     "status": "completed"
    },
    "tags": []
   },
   "outputs": [],
   "source": [
    "test_images = mnist.test_images()\n",
    "test_labels = mnist.test_labels()"
   ]
  },
  {
   "cell_type": "code",
   "execution_count": 8,
   "id": "fc38cf1b",
   "metadata": {
    "execution": {
     "iopub.execute_input": "2022-06-10T20:09:54.180686Z",
     "iopub.status.busy": "2022-06-10T20:09:54.180017Z",
     "iopub.status.idle": "2022-06-10T20:09:54.193383Z",
     "shell.execute_reply": "2022-06-10T20:09:54.193995Z"
    },
    "papermill": {
     "duration": 0.047982,
     "end_time": "2022-06-10T20:09:54.194121",
     "exception": false,
     "start_time": "2022-06-10T20:09:54.146139",
     "status": "completed"
    },
    "tags": []
   },
   "outputs": [
    {
     "data": {
      "text/plain": [
       "((10000, 28, 28), (10000,))"
      ]
     },
     "execution_count": 8,
     "metadata": {},
     "output_type": "execute_result"
    }
   ],
   "source": [
    "test_images.shape, test_labels.shape"
   ]
  },
  {
   "cell_type": "code",
   "execution_count": 9,
   "id": "f9ed8fe0",
   "metadata": {
    "execution": {
     "iopub.execute_input": "2022-06-10T20:09:54.251144Z",
     "iopub.status.busy": "2022-06-10T20:09:54.250524Z",
     "iopub.status.idle": "2022-06-10T20:09:54.420142Z",
     "shell.execute_reply": "2022-06-10T20:09:54.419671Z"
    },
    "papermill": {
     "duration": 0.199031,
     "end_time": "2022-06-10T20:09:54.420257",
     "exception": false,
     "start_time": "2022-06-10T20:09:54.221226",
     "status": "completed"
    },
    "tags": []
   },
   "outputs": [
    {
     "name": "stdout",
     "output_type": "stream",
     "text": [
      "2\n"
     ]
    },
    {
     "data": {
      "text/plain": [
       "<matplotlib.image.AxesImage at 0x7f41c1a64400>"
      ]
     },
     "execution_count": 9,
     "metadata": {},
     "output_type": "execute_result"
    },
    {
     "data": {
      "image/png": "[encoded data removed]",
      "text/plain": [
       "<Figure size 432x288 with 1 Axes>"
      ]
     },
     "metadata": {
      "needs_background": "light"
     },
     "output_type": "display_data"
    }
   ],
   "source": [
    "image_index = 7776 # You may select anything up to 60,000\n",
    "print(train_labels[image_index]) \n",
    "plt.imshow(train_images[image_index], cmap='Greys')"
   ]
  },
  {
   "cell_type": "markdown",
   "id": "a8d2388d",
   "metadata": {
    "papermill": {
     "duration": 0.032053,
     "end_time": "2022-06-10T20:09:54.479201",
     "exception": false,
     "start_time": "2022-06-10T20:09:54.447148",
     "status": "completed"
    },
    "tags": []
   },
   "source": [
    "## Filter data to get 3 and 8 out"
   ]
  },
  {
   "cell_type": "code",
   "execution_count": 10,
   "id": "776f7fc7",
   "metadata": {
    "execution": {
     "iopub.execute_input": "2022-06-10T20:09:54.542919Z",
     "iopub.status.busy": "2022-06-10T20:09:54.541983Z",
     "iopub.status.idle": "2022-06-10T20:09:54.560593Z",
     "shell.execute_reply": "2022-06-10T20:09:54.560008Z"
    },
    "papermill": {
     "duration": 0.052984,
     "end_time": "2022-06-10T20:09:54.560722",
     "exception": false,
     "start_time": "2022-06-10T20:09:54.507738",
     "status": "completed"
    },
    "tags": []
   },
   "outputs": [],
   "source": [
    "train_filter = np.where((train_labels == 3 ) | (train_labels == 8))\n",
    "test_filter = np.where((test_labels == 3) | (test_labels == 8))\n",
    "X_train, y_train = train_images[train_filter], train_labels[train_filter]\n",
    "X_test, y_test = test_images[test_filter], test_labels[test_filter]"
   ]
  },
  {
   "cell_type": "markdown",
   "id": "948f0b7e",
   "metadata": {
    "papermill": {
     "duration": 0.029438,
     "end_time": "2022-06-10T20:09:54.620851",
     "exception": false,
     "start_time": "2022-06-10T20:09:54.591413",
     "status": "completed"
    },
    "tags": []
   },
   "source": [
    "We normalize the pizel values in the 0 to 1 range"
   ]
  },
  {
   "cell_type": "code",
   "execution_count": 11,
   "id": "ee4c2166",
   "metadata": {
    "execution": {
     "iopub.execute_input": "2022-06-10T20:09:54.684337Z",
     "iopub.status.busy": "2022-06-10T20:09:54.683706Z",
     "iopub.status.idle": "2022-06-10T20:09:54.740681Z",
     "shell.execute_reply": "2022-06-10T20:09:54.740144Z"
    },
    "papermill": {
     "duration": 0.090815,
     "end_time": "2022-06-10T20:09:54.740812",
     "exception": false,
     "start_time": "2022-06-10T20:09:54.649997",
     "status": "completed"
    },
    "tags": []
   },
   "outputs": [],
   "source": [
    "X_train = X_train/255.\n",
    "X_test = X_test/255."
   ]
  },
  {
   "cell_type": "markdown",
   "id": "ddcf4fab",
   "metadata": {
    "papermill": {
     "duration": 0.026506,
     "end_time": "2022-06-10T20:09:54.797192",
     "exception": false,
     "start_time": "2022-06-10T20:09:54.770686",
     "status": "completed"
    },
    "tags": []
   },
   "source": [
    "And setup the labels as 1 (when the digit is 3) and 0 (when the digit is 8)"
   ]
  },
  {
   "cell_type": "code",
   "execution_count": 12,
   "id": "7dc908f2",
   "metadata": {
    "execution": {
     "iopub.execute_input": "2022-06-10T20:09:54.854872Z",
     "iopub.status.busy": "2022-06-10T20:09:54.854170Z",
     "iopub.status.idle": "2022-06-10T20:09:54.866681Z",
     "shell.execute_reply": "2022-06-10T20:09:54.865757Z"
    },
    "papermill": {
     "duration": 0.04242,
     "end_time": "2022-06-10T20:09:54.866812",
     "exception": false,
     "start_time": "2022-06-10T20:09:54.824392",
     "status": "completed"
    },
    "tags": []
   },
   "outputs": [],
   "source": [
    "y_train = 1*(y_train==3)\n",
    "y_test = 1*(y_test==3)"
   ]
  },
  {
   "cell_type": "code",
   "execution_count": 13,
   "id": "01e4e969",
   "metadata": {
    "execution": {
     "iopub.execute_input": "2022-06-10T20:09:54.923613Z",
     "iopub.status.busy": "2022-06-10T20:09:54.922977Z",
     "iopub.status.idle": "2022-06-10T20:09:54.935492Z",
     "shell.execute_reply": "2022-06-10T20:09:54.934871Z"
    },
    "papermill": {
     "duration": 0.042351,
     "end_time": "2022-06-10T20:09:54.935601",
     "exception": false,
     "start_time": "2022-06-10T20:09:54.893250",
     "status": "completed"
    },
    "tags": []
   },
   "outputs": [
    {
     "data": {
      "text/plain": [
       "((11982, 28, 28), (1984, 28, 28))"
      ]
     },
     "execution_count": 13,
     "metadata": {},
     "output_type": "execute_result"
    }
   ],
   "source": [
    "X_train.shape, X_test.shape"
   ]
  },
  {
   "cell_type": "markdown",
   "id": "5ccf3f85",
   "metadata": {
    "papermill": {
     "duration": 0.027694,
     "end_time": "2022-06-10T20:09:54.990895",
     "exception": false,
     "start_time": "2022-06-10T20:09:54.963201",
     "status": "completed"
    },
    "tags": []
   },
   "source": [
    "We reshape the data to flatten the image pixels into a set of features or co-variates:"
   ]
  },
  {
   "cell_type": "code",
   "execution_count": 14,
   "id": "5286a4a3",
   "metadata": {
    "execution": {
     "iopub.execute_input": "2022-06-10T20:09:55.050900Z",
     "iopub.status.busy": "2022-06-10T20:09:55.050290Z",
     "iopub.status.idle": "2022-06-10T20:09:55.064141Z",
     "shell.execute_reply": "2022-06-10T20:09:55.063549Z"
    },
    "papermill": {
     "duration": 0.044453,
     "end_time": "2022-06-10T20:09:55.064247",
     "exception": false,
     "start_time": "2022-06-10T20:09:55.019794",
     "status": "completed"
    },
    "tags": []
   },
   "outputs": [
    {
     "data": {
      "text/plain": [
       "((11982, 784), (1984, 784))"
      ]
     },
     "execution_count": 14,
     "metadata": {},
     "output_type": "execute_result"
    }
   ],
   "source": [
    "X_train = X_train.reshape(X_train.shape[0], -1)\n",
    "X_test = X_test.reshape(X_test.shape[0], -1)\n",
    "X_train.shape, X_test.shape"
   ]
  },
  {
   "cell_type": "code",
   "execution_count": 15,
   "id": "73c5f88a",
   "metadata": {
    "execution": {
     "iopub.execute_input": "2022-06-10T20:09:55.126435Z",
     "iopub.status.busy": "2022-06-10T20:09:55.125828Z",
     "iopub.status.idle": "2022-06-10T20:09:55.143429Z",
     "shell.execute_reply": "2022-06-10T20:09:55.142474Z"
    },
    "papermill": {
     "duration": 0.051279,
     "end_time": "2022-06-10T20:09:55.143649",
     "exception": false,
     "start_time": "2022-06-10T20:09:55.092370",
     "status": "completed"
    },
    "tags": []
   },
   "outputs": [],
   "source": [
    "#Impoting functions from 'Kudzu'\n",
    "from kudzu.model import Model\n",
    "from kudzu.train import Learner\n",
    "from kudzu.optim import GD\n",
    "from kudzu.data import Data, Sampler,Dataloader\n",
    "\n",
    "from kudzu.callbacks import AccCallback\n",
    "from kudzu.callbacks import ClfCallback\n",
    "\n",
    "from kudzu.loss import MSE\n",
    "\n",
    "from kudzu.layer import Sigmoid,Relu\n",
    "from kudzu.layer import Affine"
   ]
  },
  {
   "cell_type": "markdown",
   "id": "bc01172a",
   "metadata": {
    "papermill": {
     "duration": 0.02778,
     "end_time": "2022-06-10T20:09:55.200154",
     "exception": false,
     "start_time": "2022-06-10T20:09:55.172374",
     "status": "completed"
    },
    "tags": []
   },
   "source": [
    "### Let us create a `Config` class, to store important parameters. \n",
    "This class essentially plays the role of a dictionary."
   ]
  },
  {
   "cell_type": "code",
   "execution_count": 16,
   "id": "978281aa",
   "metadata": {
    "execution": {
     "iopub.execute_input": "2022-06-10T20:09:55.259100Z",
     "iopub.status.busy": "2022-06-10T20:09:55.258496Z",
     "iopub.status.idle": "2022-06-10T20:09:55.270575Z",
     "shell.execute_reply": "2022-06-10T20:09:55.269985Z"
    },
    "papermill": {
     "duration": 0.042993,
     "end_time": "2022-06-10T20:09:55.270682",
     "exception": false,
     "start_time": "2022-06-10T20:09:55.227689",
     "status": "completed"
    },
    "tags": []
   },
   "outputs": [],
   "source": [
    "class Config:\n",
    "    pass\n",
    "config = Config()\n",
    "config.lr = 0.001\n",
    "config.num_epochs = 250\n",
    "config.bs = 50"
   ]
  },
  {
   "cell_type": "markdown",
   "id": "1385fa59",
   "metadata": {
    "papermill": {
     "duration": 0.027287,
     "end_time": "2022-06-10T20:09:55.325069",
     "exception": false,
     "start_time": "2022-06-10T20:09:55.297782",
     "status": "completed"
    },
    "tags": []
   },
   "source": [
    "### Running Models with the Training data\n",
    "Details about the network layers:\n",
    "- A first affine layer has 784 inputs and does 100 affine transforms. These are followed by a Relu\n",
    "- A second affine layer has 100 inputs from the 100 activations of the past layer, and does 100 affine transforms. These are followed by a Relu\n",
    "- A third affine layer has 100 activations and does 2 affine transformations to create an embedding for visualization. There is no non-linearity here.\n",
    "- A final \"logistic regression\" which has an affine transform from 2 inputs to 1 output, which is squeezed through a sigmoid.\n"
   ]
  },
  {
   "cell_type": "code",
   "execution_count": 17,
   "id": "2b9c66db",
   "metadata": {
    "execution": {
     "iopub.execute_input": "2022-06-10T20:09:55.384354Z",
     "iopub.status.busy": "2022-06-10T20:09:55.383670Z",
     "iopub.status.idle": "2022-06-10T20:09:55.394655Z",
     "shell.execute_reply": "2022-06-10T20:09:55.394025Z"
    },
    "papermill": {
     "duration": 0.042431,
     "end_time": "2022-06-10T20:09:55.394857",
     "exception": false,
     "start_time": "2022-06-10T20:09:55.352426",
     "status": "completed"
    },
    "tags": []
   },
   "outputs": [],
   "source": [
    "data = Data(X_train, y_train.reshape(-1,1))\n",
    "sampler = Sampler(data, config.bs, shuffle=True)\n",
    "\n",
    "dl = Dataloader(data, sampler)\n",
    "\n",
    "opt = GD(config.lr)\n",
    "loss = MSE()"
   ]
  },
  {
   "cell_type": "code",
   "execution_count": 18,
   "id": "b275e4c2",
   "metadata": {
    "execution": {
     "iopub.execute_input": "2022-06-10T20:09:55.454735Z",
     "iopub.status.busy": "2022-06-10T20:09:55.453977Z",
     "iopub.status.idle": "2022-06-10T20:09:55.464304Z",
     "shell.execute_reply": "2022-06-10T20:09:55.464758Z"
    },
    "papermill": {
     "duration": 0.042504,
     "end_time": "2022-06-10T20:09:55.464877",
     "exception": false,
     "start_time": "2022-06-10T20:09:55.422373",
     "status": "completed"
    },
    "tags": []
   },
   "outputs": [],
   "source": [
    "training_data_x = X_train\n",
    "testing_data_x = X_test\n",
    "training_data_y = y_train.reshape(-1,1)\n",
    "testing_data_y = y_test.reshape(-1,1)"
   ]
  },
  {
   "cell_type": "code",
   "execution_count": 19,
   "id": "76951160",
   "metadata": {
    "execution": {
     "iopub.execute_input": "2022-06-10T20:09:55.524921Z",
     "iopub.status.busy": "2022-06-10T20:09:55.524336Z",
     "iopub.status.idle": "2022-06-10T20:09:55.539464Z",
     "shell.execute_reply": "2022-06-10T20:09:55.540063Z"
    },
    "papermill": {
     "duration": 0.046577,
     "end_time": "2022-06-10T20:09:55.540176",
     "exception": false,
     "start_time": "2022-06-10T20:09:55.493599",
     "status": "completed"
    },
    "tags": []
   },
   "outputs": [
    {
     "name": "stdout",
     "output_type": "stream",
     "text": [
      "xavier\n",
      "xavier\n",
      "xavier\n",
      "xavier\n",
      "xavier\n"
     ]
    }
   ],
   "source": [
    "layers = [Affine(\"first\", 784, 100), Relu(\"first\"), Affine(\"second\", 100, 100), Relu(\"second\"), Affine(\"third\", 100, 2), Affine(\"last\", 2, 1), Sigmoid(\"last\")]\n",
    "model_nn = Model(layers)\n",
    "model_lr = Model([Affine(\"logits\", 784, 1), Sigmoid(\"sigmoid\")])"
   ]
  },
  {
   "cell_type": "code",
   "execution_count": 20,
   "id": "6eede77a",
   "metadata": {
    "execution": {
     "iopub.execute_input": "2022-06-10T20:09:55.609358Z",
     "iopub.status.busy": "2022-06-10T20:09:55.599800Z",
     "iopub.status.idle": "2022-06-10T20:09:55.615894Z",
     "shell.execute_reply": "2022-06-10T20:09:55.615424Z"
    },
    "papermill": {
     "duration": 0.047618,
     "end_time": "2022-06-10T20:09:55.615994",
     "exception": false,
     "start_time": "2022-06-10T20:09:55.568376",
     "status": "completed"
    },
    "tags": []
   },
   "outputs": [],
   "source": [
    "nn_learner = Learner(loss, model_nn, opt, config.num_epochs)\n",
    "acc_nn = ClfCallback(nn_learner, config.bs, training_data_x , testing_data_x, training_data_y, testing_data_y)\n",
    "nn_learner.set_callbacks([acc_nn])"
   ]
  },
  {
   "cell_type": "code",
   "execution_count": 21,
   "id": "877b6cc7",
   "metadata": {
    "execution": {
     "iopub.execute_input": "2022-06-10T20:09:55.676699Z",
     "iopub.status.busy": "2022-06-10T20:09:55.676100Z",
     "iopub.status.idle": "2022-06-10T20:09:55.689152Z",
     "shell.execute_reply": "2022-06-10T20:09:55.688495Z"
    },
    "papermill": {
     "duration": 0.046256,
     "end_time": "2022-06-10T20:09:55.689384",
     "exception": false,
     "start_time": "2022-06-10T20:09:55.643128",
     "status": "completed"
    },
    "tags": []
   },
   "outputs": [],
   "source": [
    "lr_learner = Learner(loss, model_lr, opt, config.num_epochs)\n",
    "acc_lr = ClfCallback(lr_learner, config.bs, training_data_x , testing_data_x, training_data_y, testing_data_y)\n",
    "lr_learner.set_callbacks([acc_lr])"
   ]
  },
  {
   "cell_type": "code",
   "execution_count": 22,
   "id": "d9b133c3",
   "metadata": {
    "execution": {
     "iopub.execute_input": "2022-06-10T20:09:55.751331Z",
     "iopub.status.busy": "2022-06-10T20:09:55.750561Z",
     "iopub.status.idle": "2022-06-10T20:12:08.215068Z",
     "shell.execute_reply": "2022-06-10T20:12:08.216085Z"
    },
    "papermill": {
     "duration": 132.495919,
     "end_time": "2022-06-10T20:12:08.216229",
     "exception": false,
     "start_time": "2022-06-10T20:09:55.720310",
     "status": "completed"
    },
    "tags": []
   },
   "outputs": [
    {
     "name": "stdout",
     "output_type": "stream",
     "text": [
      "Epoch 0, Loss 0.2296\n",
      "Training Accuracy: 0.7374, Testing Accuracy: 0.7560\n",
      "\n"
     ]
    },
    {
     "name": "stdout",
     "output_type": "stream",
     "text": [
      "Epoch 10, Loss 0.0955\n",
      "Training Accuracy: 0.9147, Testing Accuracy: 0.9168\n",
      "\n"
     ]
    },
    {
     "name": "stdout",
     "output_type": "stream",
     "text": [
      "Epoch 20, Loss 0.0585\n",
      "Training Accuracy: 0.9402, Testing Accuracy: 0.9521\n",
      "\n"
     ]
    },
    {
     "name": "stdout",
     "output_type": "stream",
     "text": [
      "Epoch 30, Loss 0.0451\n",
      "Training Accuracy: 0.9514, Testing Accuracy: 0.9627\n",
      "\n"
     ]
    },
    {
     "name": "stdout",
     "output_type": "stream",
     "text": [
      "Epoch 40, Loss 0.0387\n",
      "Training Accuracy: 0.9572, Testing Accuracy: 0.9642\n",
      "\n"
     ]
    },
    {
     "name": "stdout",
     "output_type": "stream",
     "text": [
      "Epoch 50, Loss 0.0348\n",
      "Training Accuracy: 0.9610, Testing Accuracy: 0.9672\n",
      "\n"
     ]
    },
    {
     "name": "stdout",
     "output_type": "stream",
     "text": [
      "Epoch 60, Loss 0.0322\n",
      "Training Accuracy: 0.9631, Testing Accuracy: 0.9677\n",
      "\n"
     ]
    },
    {
     "name": "stdout",
     "output_type": "stream",
     "text": [
      "Epoch 70, Loss 0.0303\n",
      "Training Accuracy: 0.9652, Testing Accuracy: 0.9682\n",
      "\n"
     ]
    },
    {
     "name": "stdout",
     "output_type": "stream",
     "text": [
      "Epoch 80, Loss 0.0288\n",
      "Training Accuracy: 0.9675, Testing Accuracy: 0.9688\n",
      "\n"
     ]
    },
    {
     "name": "stdout",
     "output_type": "stream",
     "text": [
      "Epoch 90, Loss 0.0275\n",
      "Training Accuracy: 0.9686, Testing Accuracy: 0.9688\n",
      "\n"
     ]
    },
    {
     "name": "stdout",
     "output_type": "stream",
     "text": [
      "Epoch 100, Loss 0.0264\n",
      "Training Accuracy: 0.9689, Testing Accuracy: 0.9698\n",
      "\n"
     ]
    },
    {
     "name": "stdout",
     "output_type": "stream",
     "text": [
      "Epoch 110, Loss 0.0255\n",
      "Training Accuracy: 0.9699, Testing Accuracy: 0.9713\n",
      "\n"
     ]
    },
    {
     "name": "stdout",
     "output_type": "stream",
     "text": [
      "Epoch 120, Loss 0.0246\n",
      "Training Accuracy: 0.9708, Testing Accuracy: 0.9713\n",
      "\n"
     ]
    },
    {
     "name": "stdout",
     "output_type": "stream",
     "text": [
      "Epoch 130, Loss 0.0239\n",
      "Training Accuracy: 0.9715, Testing Accuracy: 0.9713\n",
      "\n"
     ]
    },
    {
     "name": "stdout",
     "output_type": "stream",
     "text": [
      "Epoch 140, Loss 0.0232\n",
      "Training Accuracy: 0.9720, Testing Accuracy: 0.9723\n",
      "\n"
     ]
    },
    {
     "name": "stdout",
     "output_type": "stream",
     "text": [
      "Epoch 150, Loss 0.0226\n",
      "Training Accuracy: 0.9735, Testing Accuracy: 0.9723\n",
      "\n"
     ]
    },
    {
     "name": "stdout",
     "output_type": "stream",
     "text": [
      "Epoch 160, Loss 0.022\n",
      "Training Accuracy: 0.9743, Testing Accuracy: 0.9718\n",
      "\n"
     ]
    },
    {
     "name": "stdout",
     "output_type": "stream",
     "text": [
      "Epoch 170, Loss 0.0215\n",
      "Training Accuracy: 0.9751, Testing Accuracy: 0.9718\n",
      "\n"
     ]
    },
    {
     "name": "stdout",
     "output_type": "stream",
     "text": [
      "Epoch 180, Loss 0.021\n",
      "Training Accuracy: 0.9759, Testing Accuracy: 0.9723\n",
      "\n"
     ]
    },
    {
     "name": "stdout",
     "output_type": "stream",
     "text": [
      "Epoch 190, Loss 0.0206\n",
      "Training Accuracy: 0.9769, Testing Accuracy: 0.9723\n",
      "\n"
     ]
    },
    {
     "name": "stdout",
     "output_type": "stream",
     "text": [
      "Epoch 200, Loss 0.0201\n",
      "Training Accuracy: 0.9777, Testing Accuracy: 0.9728\n",
      "\n"
     ]
    },
    {
     "name": "stdout",
     "output_type": "stream",
     "text": [
      "Epoch 210, Loss 0.0197\n",
      "Training Accuracy: 0.9781, Testing Accuracy: 0.9728\n",
      "\n"
     ]
    },
    {
     "name": "stdout",
     "output_type": "stream",
     "text": [
      "Epoch 220, Loss 0.0193\n",
      "Training Accuracy: 0.9786, Testing Accuracy: 0.9728\n",
      "\n"
     ]
    },
    {
     "name": "stdout",
     "output_type": "stream",
     "text": [
      "Epoch 230, Loss 0.0189\n",
      "Training Accuracy: 0.9788, Testing Accuracy: 0.9738\n",
      "\n"
     ]
    },
    {
     "name": "stdout",
     "output_type": "stream",
     "text": [
      "Epoch 240, Loss 0.0186\n",
      "Training Accuracy: 0.9791, Testing Accuracy: 0.9743\n",
      "\n"
     ]
    },
    {
     "data": {
      "text/plain": [
       "0.014075810273764776"
      ]
     },
     "execution_count": 22,
     "metadata": {},
     "output_type": "execute_result"
    }
   ],
   "source": [
    "nn_learner.train_loop(dl)"
   ]
  },
  {
   "cell_type": "code",
   "execution_count": 23,
   "id": "e0163366",
   "metadata": {
    "execution": {
     "iopub.execute_input": "2022-06-10T20:12:08.297235Z",
     "iopub.status.busy": "2022-06-10T20:12:08.296625Z",
     "iopub.status.idle": "2022-06-10T20:12:26.833309Z",
     "shell.execute_reply": "2022-06-10T20:12:26.834134Z"
    },
    "papermill": {
     "duration": 18.582269,
     "end_time": "2022-06-10T20:12:26.834360",
     "exception": false,
     "start_time": "2022-06-10T20:12:08.252091",
     "status": "completed"
    },
    "tags": []
   },
   "outputs": [
    {
     "name": "stdout",
     "output_type": "stream",
     "text": [
      "Epoch 0, Loss 0.2626\n",
      "Training Accuracy: 0.5822, Testing Accuracy: 0.5822\n",
      "\n"
     ]
    },
    {
     "name": "stdout",
     "output_type": "stream",
     "text": [
      "Epoch 10, Loss 0.1103\n",
      "Training Accuracy: 0.8915, Testing Accuracy: 0.9068\n",
      "\n"
     ]
    },
    {
     "name": "stdout",
     "output_type": "stream",
     "text": [
      "Epoch 20, Loss 0.0827\n",
      "Training Accuracy: 0.9216, Testing Accuracy: 0.9335\n",
      "\n"
     ]
    },
    {
     "name": "stdout",
     "output_type": "stream",
     "text": [
      "Epoch 30, Loss 0.0703\n",
      "Training Accuracy: 0.9334, Testing Accuracy: 0.9481\n",
      "\n"
     ]
    },
    {
     "name": "stdout",
     "output_type": "stream",
     "text": [
      "Epoch 40, Loss 0.063\n",
      "Training Accuracy: 0.9403, Testing Accuracy: 0.9501\n",
      "\n"
     ]
    },
    {
     "name": "stdout",
     "output_type": "stream",
     "text": [
      "Epoch 50, Loss 0.0582\n",
      "Training Accuracy: 0.9444, Testing Accuracy: 0.9531\n",
      "\n"
     ]
    },
    {
     "name": "stdout",
     "output_type": "stream",
     "text": [
      "Epoch 60, Loss 0.0546\n",
      "Training Accuracy: 0.9469, Testing Accuracy: 0.9577\n",
      "\n"
     ]
    },
    {
     "name": "stdout",
     "output_type": "stream",
     "text": [
      "Epoch 70, Loss 0.0519\n",
      "Training Accuracy: 0.9491, Testing Accuracy: 0.9597\n",
      "\n"
     ]
    },
    {
     "name": "stdout",
     "output_type": "stream",
     "text": [
      "Epoch 80, Loss 0.0498\n",
      "Training Accuracy: 0.9508, Testing Accuracy: 0.9612\n",
      "\n"
     ]
    },
    {
     "name": "stdout",
     "output_type": "stream",
     "text": [
      "Epoch 90, Loss 0.048\n",
      "Training Accuracy: 0.9526, Testing Accuracy: 0.9612\n",
      "\n"
     ]
    },
    {
     "name": "stdout",
     "output_type": "stream",
     "text": [
      "Epoch 100, Loss 0.0465\n",
      "Training Accuracy: 0.9533, Testing Accuracy: 0.9622\n",
      "\n"
     ]
    },
    {
     "name": "stdout",
     "output_type": "stream",
     "text": [
      "Epoch 110, Loss 0.0453\n",
      "Training Accuracy: 0.9541, Testing Accuracy: 0.9632\n",
      "\n"
     ]
    },
    {
     "name": "stdout",
     "output_type": "stream",
     "text": [
      "Epoch 120, Loss 0.0442\n",
      "Training Accuracy: 0.9546, Testing Accuracy: 0.9627\n",
      "\n"
     ]
    },
    {
     "name": "stdout",
     "output_type": "stream",
     "text": [
      "Epoch 130, Loss 0.0432\n",
      "Training Accuracy: 0.9556, Testing Accuracy: 0.9627\n",
      "\n"
     ]
    },
    {
     "name": "stdout",
     "output_type": "stream",
     "text": [
      "Epoch 140, Loss 0.0423\n",
      "Training Accuracy: 0.9561, Testing Accuracy: 0.9627\n",
      "\n"
     ]
    },
    {
     "name": "stdout",
     "output_type": "stream",
     "text": [
      "Epoch 150, Loss 0.0416\n",
      "Training Accuracy: 0.9569, Testing Accuracy: 0.9637\n",
      "\n"
     ]
    },
    {
     "name": "stdout",
     "output_type": "stream",
     "text": [
      "Epoch 160, Loss 0.0409\n",
      "Training Accuracy: 0.9577, Testing Accuracy: 0.9637\n",
      "\n"
     ]
    },
    {
     "name": "stdout",
     "output_type": "stream",
     "text": [
      "Epoch 170, Loss 0.0403\n",
      "Training Accuracy: 0.9586, Testing Accuracy: 0.9642\n",
      "\n"
     ]
    },
    {
     "name": "stdout",
     "output_type": "stream",
     "text": [
      "Epoch 180, Loss 0.0397\n",
      "Training Accuracy: 0.9594, Testing Accuracy: 0.9647\n",
      "\n"
     ]
    },
    {
     "name": "stdout",
     "output_type": "stream",
     "text": [
      "Epoch 190, Loss 0.0392\n",
      "Training Accuracy: 0.9595, Testing Accuracy: 0.9652\n",
      "\n"
     ]
    },
    {
     "name": "stdout",
     "output_type": "stream",
     "text": [
      "Epoch 200, Loss 0.0387\n",
      "Training Accuracy: 0.9599, Testing Accuracy: 0.9647\n",
      "\n"
     ]
    },
    {
     "name": "stdout",
     "output_type": "stream",
     "text": [
      "Epoch 210, Loss 0.0382\n",
      "Training Accuracy: 0.9604, Testing Accuracy: 0.9652\n",
      "\n"
     ]
    },
    {
     "name": "stdout",
     "output_type": "stream",
     "text": [
      "Epoch 220, Loss 0.0378\n",
      "Training Accuracy: 0.9607, Testing Accuracy: 0.9652\n",
      "\n"
     ]
    },
    {
     "name": "stdout",
     "output_type": "stream",
     "text": [
      "Epoch 230, Loss 0.0374\n",
      "Training Accuracy: 0.9609, Testing Accuracy: 0.9657\n",
      "\n"
     ]
    },
    {
     "name": "stdout",
     "output_type": "stream",
     "text": [
      "Epoch 240, Loss 0.037\n",
      "Training Accuracy: 0.9613, Testing Accuracy: 0.9672\n",
      "\n"
     ]
    },
    {
     "data": {
      "text/plain": [
       "0.08061634269438037"
      ]
     },
     "execution_count": 23,
     "metadata": {},
     "output_type": "execute_result"
    }
   ],
   "source": [
    "lr_learner.train_loop(dl)"
   ]
  },
  {
   "cell_type": "code",
   "execution_count": 24,
   "id": "ca410940",
   "metadata": {
    "execution": {
     "iopub.execute_input": "2022-06-10T20:12:26.936784Z",
     "iopub.status.busy": "2022-06-10T20:12:26.936120Z",
     "iopub.status.idle": "2022-06-10T20:12:27.223940Z",
     "shell.execute_reply": "2022-06-10T20:12:27.224653Z"
    },
    "papermill": {
     "duration": 0.345653,
     "end_time": "2022-06-10T20:12:27.224817",
     "exception": false,
     "start_time": "2022-06-10T20:12:26.879164",
     "status": "completed"
    },
    "tags": []
   },
   "outputs": [
    {
     "data": {
      "text/plain": [
       "<matplotlib.legend.Legend at 0x7f41c15c6b38>"
      ]
     },
     "execution_count": 24,
     "metadata": {},
     "output_type": "execute_result"
    },
    {
     "data": {
      "image/png": "[encoded data removed]",
      "text/plain": [
       "<Figure size 1080x720 with 1 Axes>"
      ]
     },
     "metadata": {
      "needs_background": "light"
     },
     "output_type": "display_data"
    }
   ],
   "source": [
    "#comparing the results of NN and LR\n",
    "plt.figure(figsize=(15,10))\n",
    "\n",
    "# Neural Network plots\n",
    "plt.plot(acc_nn.accuracies, 'r-', label = \"Training Accuracies - NN\")\n",
    "plt.plot(acc_nn.test_accuracies, 'g-', label = \"Testing Accuracies - NN\")\n",
    "\n",
    "# Logistic Regression plots\n",
    "plt.plot(acc_lr.accuracies, 'k-', label = \"Training Accuracies - LR\")\n",
    "plt.plot(acc_lr.test_accuracies, 'b-', label = \"Testing Accuracies - LR\")\n",
    "plt.legend()"
   ]
  },
  {
   "cell_type": "markdown",
   "id": "80dfb35c",
   "metadata": {
    "papermill": {
     "duration": 0.043623,
     "end_time": "2022-06-10T20:12:27.313081",
     "exception": false,
     "start_time": "2022-06-10T20:12:27.269458",
     "status": "completed"
    },
    "tags": []
   },
   "source": [
    "#### Plotting the outputs of this layer of the NN.\n"
   ]
  },
  {
   "cell_type": "code",
   "execution_count": 25,
   "id": "45eb2ff5",
   "metadata": {
    "execution": {
     "iopub.execute_input": "2022-06-10T20:12:27.405590Z",
     "iopub.status.busy": "2022-06-10T20:12:27.404476Z",
     "iopub.status.idle": "2022-06-10T20:12:27.427555Z",
     "shell.execute_reply": "2022-06-10T20:12:27.428160Z"
    },
    "papermill": {
     "duration": 0.073235,
     "end_time": "2022-06-10T20:12:27.428322",
     "exception": false,
     "start_time": "2022-06-10T20:12:27.355087",
     "status": "completed"
    },
    "tags": []
   },
   "outputs": [],
   "source": [
    "new_model = Model(layers[:-2])\n",
    "testing_plot = new_model(testing_data_x)"
   ]
  },
  {
   "cell_type": "code",
   "execution_count": 26,
   "id": "4c0a5485",
   "metadata": {
    "execution": {
     "iopub.execute_input": "2022-06-10T20:12:27.524106Z",
     "iopub.status.busy": "2022-06-10T20:12:27.523523Z",
     "iopub.status.idle": "2022-06-10T20:12:27.758527Z",
     "shell.execute_reply": "2022-06-10T20:12:27.757771Z"
    },
    "papermill": {
     "duration": 0.283688,
     "end_time": "2022-06-10T20:12:27.758653",
     "exception": false,
     "start_time": "2022-06-10T20:12:27.474965",
     "status": "completed"
    },
    "tags": []
   },
   "outputs": [
    {
     "data": {
      "text/plain": [
       "Text(0.5, 1.0, 'Outputs')"
      ]
     },
     "execution_count": 26,
     "metadata": {},
     "output_type": "execute_result"
    },
    {
     "data": {
      "image/png": "[encoded data removed]",
      "text/plain": [
       "<Figure size 576x504 with 1 Axes>"
      ]
     },
     "metadata": {
      "needs_background": "light"
     },
     "output_type": "display_data"
    }
   ],
   "source": [
    "# Plotting the scatter plot of points and color coding by class\n",
    "plt.figure(figsize=(8,7))\n",
    "plt.scatter(testing_plot[:,0], testing_plot[:,1], alpha = 0.1, c = y_test.ravel());\n",
    "plt.title('Outputs')"
   ]
  },
  {
   "cell_type": "markdown",
   "id": "a74fcf8f",
   "metadata": {
    "papermill": {
     "duration": 0.066816,
     "end_time": "2022-06-10T20:12:27.870959",
     "exception": false,
     "start_time": "2022-06-10T20:12:27.804143",
     "status": "completed"
    },
    "tags": []
   },
   "source": [
    "Probability contours"
   ]
  },
  {
   "cell_type": "code",
   "execution_count": 27,
   "id": "d0afc8e3",
   "metadata": {
    "execution": {
     "iopub.execute_input": "2022-06-10T20:12:27.974343Z",
     "iopub.status.busy": "2022-06-10T20:12:27.973694Z",
     "iopub.status.idle": "2022-06-10T20:12:27.984386Z",
     "shell.execute_reply": "2022-06-10T20:12:27.985243Z"
    },
    "papermill": {
     "duration": 0.068836,
     "end_time": "2022-06-10T20:12:27.985416",
     "exception": false,
     "start_time": "2022-06-10T20:12:27.916580",
     "status": "completed"
    },
    "tags": []
   },
   "outputs": [],
   "source": [
    "model_prob = Model(layers[-2:]) "
   ]
  },
  {
   "cell_type": "code",
   "execution_count": 28,
   "id": "9b96e238",
   "metadata": {
    "execution": {
     "iopub.execute_input": "2022-06-10T20:12:28.089339Z",
     "iopub.status.busy": "2022-06-10T20:12:28.088720Z",
     "iopub.status.idle": "2022-06-10T20:12:28.102195Z",
     "shell.execute_reply": "2022-06-10T20:12:28.102622Z"
    },
    "papermill": {
     "duration": 0.072452,
     "end_time": "2022-06-10T20:12:28.102746",
     "exception": false,
     "start_time": "2022-06-10T20:12:28.030294",
     "status": "completed"
    },
    "tags": []
   },
   "outputs": [],
   "source": [
    "#creating the x and y ranges according to the above generated plot.\n",
    "x_range = np.linspace(-4, 1, 100) \n",
    "y_range = np.linspace(-6, 6, 100) \n",
    "x_grid, y_grid = np.meshgrid(x_range, y_range) # x_grid and y_grig are of size 100 X 100\n",
    "\n",
    "# converting x_grid and y_grid to continuous arrays\n",
    "x_gridflat = np.ravel(x_grid)\n",
    "y_gridflat = np.ravel(y_grid)\n",
    "\n",
    "# The last layer of the current model takes two columns as input. Hence transpose of np.vstack() is required.\n",
    "X = np.vstack((x_gridflat, y_gridflat)).T\n",
    "\n",
    "prob_contour = model_prob(X).reshape(100,100) "
   ]
  },
  {
   "cell_type": "code",
   "execution_count": 29,
   "id": "da72499a",
   "metadata": {
    "execution": {
     "iopub.execute_input": "2022-06-10T20:12:28.207443Z",
     "iopub.status.busy": "2022-06-10T20:12:28.206446Z",
     "iopub.status.idle": "2022-06-10T20:12:28.516796Z",
     "shell.execute_reply": "2022-06-10T20:12:28.516304Z"
    },
    "papermill": {
     "duration": 0.365742,
     "end_time": "2022-06-10T20:12:28.516915",
     "exception": false,
     "start_time": "2022-06-10T20:12:28.151173",
     "status": "completed"
    },
    "tags": []
   },
   "outputs": [
    {
     "data": {
      "image/png": "[encoded data removed]",
      "text/plain": [
       "<Figure size 720x648 with 1 Axes>"
      ]
     },
     "metadata": {
      "needs_background": "light"
     },
     "output_type": "display_data"
    }
   ],
   "source": [
    "plt.figure(figsize=(10,9))\n",
    "plt.scatter(testing_plot[:,0], testing_plot[:,1], alpha = 0.1, c = y_test.ravel())\n",
    "contours = plt.contour(x_grid,y_grid,prob_contour)\n",
    "plt.title('Probability Contours')\n",
    "plt.clabel(contours, inline = True );"
   ]
  },
  {
   "cell_type": "code",
   "execution_count": null,
   "id": "e81b4ac7",
   "metadata": {
    "papermill": {
     "duration": 0.052567,
     "end_time": "2022-06-10T20:12:28.619688",
     "exception": false,
     "start_time": "2022-06-10T20:12:28.567121",
     "status": "completed"
    },
    "tags": []
   },
   "outputs": [],
   "source": []
  }
 ],
 "metadata": {
  "kernelspec": {
   "display_name": "Python 3",
   "language": "python",
   "name": "python3"
  },
  "language_info": {
   "codemirror_mode": {
    "name": "ipython",
    "version": 3
   },
   "file_extension": ".py",
   "mimetype": "text/x-python",
   "name": "python",
   "nbconvert_exporter": "python",
   "pygments_lexer": "ipython3",
   "version": "3.6.15"
  },
  "papermill": {
   "default_parameters": {},
   "duration": 159.274105,
   "end_time": "2022-06-10T20:12:28.990892",
   "environment_variables": {},
   "exception": null,
   "input_path": "2020-08-11-part2.ipynb",
   "output_path": "2020-08-11-part2.ipynb",
   "parameters": {},
   "start_time": "2022-06-10T20:09:49.716787",
   "version": "2.3.3"
  }
 },
 "nbformat": 4,
 "nbformat_minor": 5
}