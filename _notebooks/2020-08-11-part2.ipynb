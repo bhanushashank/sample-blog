{
 "cells": [
  {
   "cell_type": "markdown",
   "id": "98380cd3",
   "metadata": {
    "papermill": {
     "duration": 0.027958,
     "end_time": "2022-04-27T00:40:54.547599",
     "exception": false,
     "start_time": "2022-04-27T00:40:54.519641",
     "status": "completed"
    },
    "tags": []
   },
   "source": [
    "# Distinguish Your Own Digits (DYOD)"
   ]
  },
  {
   "cell_type": "markdown",
   "id": "ef31240d",
   "metadata": {
    "papermill": {
     "duration": 0.025332,
     "end_time": "2022-04-27T00:40:54.597463",
     "exception": false,
     "start_time": "2022-04-27T00:40:54.572131",
     "status": "completed"
    },
    "tags": []
   },
   "source": [
    "You are going to write a classifier that distinguishes between the number 3 and number 8."
   ]
  },
  {
   "cell_type": "code",
   "execution_count": 1,
   "id": "b15c8646",
   "metadata": {
    "execution": {
     "iopub.execute_input": "2022-04-27T00:40:54.656171Z",
     "iopub.status.busy": "2022-04-27T00:40:54.655633Z",
     "iopub.status.idle": "2022-04-27T00:40:54.665571Z",
     "shell.execute_reply": "2022-04-27T00:40:54.666059Z"
    },
    "papermill": {
     "duration": 0.044936,
     "end_time": "2022-04-27T00:40:54.666212",
     "exception": false,
     "start_time": "2022-04-27T00:40:54.621276",
     "status": "completed"
    },
    "tags": []
   },
   "outputs": [],
   "source": [
    "%load_ext autoreload\n",
    "%autoreload 2"
   ]
  },
  {
   "cell_type": "code",
   "execution_count": 2,
   "id": "22ef38dc",
   "metadata": {
    "execution": {
     "iopub.execute_input": "2022-04-27T00:40:54.721395Z",
     "iopub.status.busy": "2022-04-27T00:40:54.720885Z",
     "iopub.status.idle": "2022-04-27T00:40:55.254593Z",
     "shell.execute_reply": "2022-04-27T00:40:55.254093Z"
    },
    "papermill": {
     "duration": 0.564786,
     "end_time": "2022-04-27T00:40:55.254729",
     "exception": false,
     "start_time": "2022-04-27T00:40:54.689943",
     "status": "completed"
    },
    "tags": []
   },
   "outputs": [],
   "source": [
    "%matplotlib inline\n",
    "import numpy as np\n",
    "import matplotlib.pyplot as plt\n",
    "import pandas as pd"
   ]
  },
  {
   "cell_type": "markdown",
   "id": "ba036198",
   "metadata": {
    "papermill": {
     "duration": 0.02382,
     "end_time": "2022-04-27T00:40:55.303308",
     "exception": false,
     "start_time": "2022-04-27T00:40:55.279488",
     "status": "completed"
    },
    "tags": []
   },
   "source": [
    "From the command line run `pip install mnist`. This is a library that will help you bring down the mnist dataset. If you run this from a notebook, you need to put  `!pip install mnist` in a cell by itself."
   ]
  },
  {
   "cell_type": "code",
   "execution_count": 3,
   "id": "bb6ad8a1",
   "metadata": {
    "execution": {
     "iopub.execute_input": "2022-04-27T00:40:55.386458Z",
     "iopub.status.busy": "2022-04-27T00:40:55.382157Z",
     "iopub.status.idle": "2022-04-27T00:40:57.013485Z",
     "shell.execute_reply": "2022-04-27T00:40:57.012941Z"
    },
    "papermill": {
     "duration": 1.686448,
     "end_time": "2022-04-27T00:40:57.013631",
     "exception": false,
     "start_time": "2022-04-27T00:40:55.327183",
     "status": "completed"
    },
    "tags": []
   },
   "outputs": [
    {
     "name": "stdout",
     "output_type": "stream",
     "text": [
      "Collecting mnist\r\n"
     ]
    },
    {
     "name": "stdout",
     "output_type": "stream",
     "text": [
      "  Downloading mnist-0.2.2-py2.py3-none-any.whl (3.5 kB)\r\n",
      "Requirement already satisfied: numpy in /opt/hostedtoolcache/Python/3.6.15/x64/lib/python3.6/site-packages (from mnist) (1.19.5)\r\n"
     ]
    },
    {
     "name": "stdout",
     "output_type": "stream",
     "text": [
      "Installing collected packages: mnist\r\n",
      "Successfully installed mnist-0.2.2\r\n"
     ]
    }
   ],
   "source": [
    "!pip install mnist"
   ]
  },
  {
   "cell_type": "markdown",
   "id": "69df9c9a",
   "metadata": {
    "papermill": {
     "duration": 0.024926,
     "end_time": "2022-04-27T00:40:57.064611",
     "exception": false,
     "start_time": "2022-04-27T00:40:57.039685",
     "status": "completed"
    },
    "tags": []
   },
   "source": [
    "## Preparing the Data"
   ]
  },
  {
   "cell_type": "code",
   "execution_count": 4,
   "id": "7f69d806",
   "metadata": {
    "execution": {
     "iopub.execute_input": "2022-04-27T00:40:57.121620Z",
     "iopub.status.busy": "2022-04-27T00:40:57.121086Z",
     "iopub.status.idle": "2022-04-27T00:40:57.134020Z",
     "shell.execute_reply": "2022-04-27T00:40:57.133598Z"
    },
    "papermill": {
     "duration": 0.04478,
     "end_time": "2022-04-27T00:40:57.134139",
     "exception": false,
     "start_time": "2022-04-27T00:40:57.089359",
     "status": "completed"
    },
    "tags": []
   },
   "outputs": [],
   "source": [
    "import mnist"
   ]
  },
  {
   "cell_type": "code",
   "execution_count": 5,
   "id": "a411e44f",
   "metadata": {
    "execution": {
     "iopub.execute_input": "2022-04-27T00:40:57.188034Z",
     "iopub.status.busy": "2022-04-27T00:40:57.187526Z",
     "iopub.status.idle": "2022-04-27T00:40:57.686731Z",
     "shell.execute_reply": "2022-04-27T00:40:57.687277Z"
    },
    "papermill": {
     "duration": 0.52844,
     "end_time": "2022-04-27T00:40:57.687429",
     "exception": false,
     "start_time": "2022-04-27T00:40:57.158989",
     "status": "completed"
    },
    "tags": []
   },
   "outputs": [],
   "source": [
    "train_images = mnist.train_images()\n",
    "train_labels = mnist.train_labels()"
   ]
  },
  {
   "cell_type": "code",
   "execution_count": 6,
   "id": "dceab3a5",
   "metadata": {
    "execution": {
     "iopub.execute_input": "2022-04-27T00:40:57.749903Z",
     "iopub.status.busy": "2022-04-27T00:40:57.749348Z",
     "iopub.status.idle": "2022-04-27T00:40:57.758789Z",
     "shell.execute_reply": "2022-04-27T00:40:57.758357Z"
    },
    "papermill": {
     "duration": 0.046536,
     "end_time": "2022-04-27T00:40:57.758908",
     "exception": false,
     "start_time": "2022-04-27T00:40:57.712372",
     "status": "completed"
    },
    "tags": []
   },
   "outputs": [
    {
     "data": {
      "text/plain": [
       "((60000, 28, 28), (60000,))"
      ]
     },
     "execution_count": 6,
     "metadata": {},
     "output_type": "execute_result"
    }
   ],
   "source": [
    "train_images.shape, train_labels.shape"
   ]
  },
  {
   "cell_type": "code",
   "execution_count": 7,
   "id": "f50dc2bb",
   "metadata": {
    "execution": {
     "iopub.execute_input": "2022-04-27T00:40:57.813316Z",
     "iopub.status.busy": "2022-04-27T00:40:57.812791Z",
     "iopub.status.idle": "2022-04-27T00:40:57.923496Z",
     "shell.execute_reply": "2022-04-27T00:40:57.923956Z"
    },
    "papermill": {
     "duration": 0.139874,
     "end_time": "2022-04-27T00:40:57.924106",
     "exception": false,
     "start_time": "2022-04-27T00:40:57.784232",
     "status": "completed"
    },
    "tags": []
   },
   "outputs": [],
   "source": [
    "test_images = mnist.test_images()\n",
    "test_labels = mnist.test_labels()"
   ]
  },
  {
   "cell_type": "code",
   "execution_count": 8,
   "id": "fc38cf1b",
   "metadata": {
    "execution": {
     "iopub.execute_input": "2022-04-27T00:40:57.992680Z",
     "iopub.status.busy": "2022-04-27T00:40:57.989365Z",
     "iopub.status.idle": "2022-04-27T00:40:57.997786Z",
     "shell.execute_reply": "2022-04-27T00:40:57.997346Z"
    },
    "papermill": {
     "duration": 0.048651,
     "end_time": "2022-04-27T00:40:57.997904",
     "exception": false,
     "start_time": "2022-04-27T00:40:57.949253",
     "status": "completed"
    },
    "tags": []
   },
   "outputs": [
    {
     "data": {
      "text/plain": [
       "((10000, 28, 28), (10000,))"
      ]
     },
     "execution_count": 8,
     "metadata": {},
     "output_type": "execute_result"
    }
   ],
   "source": [
    "test_images.shape, test_labels.shape"
   ]
  },
  {
   "cell_type": "code",
   "execution_count": 9,
   "id": "f9ed8fe0",
   "metadata": {
    "execution": {
     "iopub.execute_input": "2022-04-27T00:40:58.052563Z",
     "iopub.status.busy": "2022-04-27T00:40:58.051803Z",
     "iopub.status.idle": "2022-04-27T00:40:58.192207Z",
     "shell.execute_reply": "2022-04-27T00:40:58.191750Z"
    },
    "papermill": {
     "duration": 0.169173,
     "end_time": "2022-04-27T00:40:58.192330",
     "exception": false,
     "start_time": "2022-04-27T00:40:58.023157",
     "status": "completed"
    },
    "tags": []
   },
   "outputs": [
    {
     "name": "stdout",
     "output_type": "stream",
     "text": [
      "2\n"
     ]
    },
    {
     "data": {
      "text/plain": [
       "<matplotlib.image.AxesImage at 0x7ff8144b5400>"
      ]
     },
     "execution_count": 9,
     "metadata": {},
     "output_type": "execute_result"
    },
    {
     "data": {
      "image/png": "[encoded data removed]",
      "text/plain": [
       "<Figure size 432x288 with 1 Axes>"
      ]
     },
     "metadata": {
      "needs_background": "light"
     },
     "output_type": "display_data"
    }
   ],
   "source": [
    "image_index = 7776 # You may select anything up to 60,000\n",
    "print(train_labels[image_index]) \n",
    "plt.imshow(train_images[image_index], cmap='Greys')"
   ]
  },
  {
   "cell_type": "markdown",
   "id": "a8d2388d",
   "metadata": {
    "papermill": {
     "duration": 0.026544,
     "end_time": "2022-04-27T00:40:58.245484",
     "exception": false,
     "start_time": "2022-04-27T00:40:58.218940",
     "status": "completed"
    },
    "tags": []
   },
   "source": [
    "## Filter data to get 3 and 8 out"
   ]
  },
  {
   "cell_type": "code",
   "execution_count": 10,
   "id": "776f7fc7",
   "metadata": {
    "execution": {
     "iopub.execute_input": "2022-04-27T00:40:58.316227Z",
     "iopub.status.busy": "2022-04-27T00:40:58.315675Z",
     "iopub.status.idle": "2022-04-27T00:40:58.323337Z",
     "shell.execute_reply": "2022-04-27T00:40:58.322889Z"
    },
    "papermill": {
     "duration": 0.05151,
     "end_time": "2022-04-27T00:40:58.323450",
     "exception": false,
     "start_time": "2022-04-27T00:40:58.271940",
     "status": "completed"
    },
    "tags": []
   },
   "outputs": [],
   "source": [
    "train_filter = np.where((train_labels == 3 ) | (train_labels == 8))\n",
    "test_filter = np.where((test_labels == 3) | (test_labels == 8))\n",
    "X_train, y_train = train_images[train_filter], train_labels[train_filter]\n",
    "X_test, y_test = test_images[test_filter], test_labels[test_filter]"
   ]
  },
  {
   "cell_type": "markdown",
   "id": "948f0b7e",
   "metadata": {
    "papermill": {
     "duration": 0.026243,
     "end_time": "2022-04-27T00:40:58.376101",
     "exception": false,
     "start_time": "2022-04-27T00:40:58.349858",
     "status": "completed"
    },
    "tags": []
   },
   "source": [
    "We normalize the pizel values in the 0 to 1 range"
   ]
  },
  {
   "cell_type": "code",
   "execution_count": 11,
   "id": "ee4c2166",
   "metadata": {
    "execution": {
     "iopub.execute_input": "2022-04-27T00:40:58.436158Z",
     "iopub.status.busy": "2022-04-27T00:40:58.435638Z",
     "iopub.status.idle": "2022-04-27T00:40:58.477559Z",
     "shell.execute_reply": "2022-04-27T00:40:58.478020Z"
    },
    "papermill": {
     "duration": 0.075899,
     "end_time": "2022-04-27T00:40:58.478188",
     "exception": false,
     "start_time": "2022-04-27T00:40:58.402289",
     "status": "completed"
    },
    "tags": []
   },
   "outputs": [],
   "source": [
    "X_train = X_train/255.\n",
    "X_test = X_test/255."
   ]
  },
  {
   "cell_type": "markdown",
   "id": "ddcf4fab",
   "metadata": {
    "papermill": {
     "duration": 0.026437,
     "end_time": "2022-04-27T00:40:58.532125",
     "exception": false,
     "start_time": "2022-04-27T00:40:58.505688",
     "status": "completed"
    },
    "tags": []
   },
   "source": [
    "And setup the labels as 1 (when the digit is 3) and 0 (when the digit is 8)"
   ]
  },
  {
   "cell_type": "code",
   "execution_count": 12,
   "id": "7dc908f2",
   "metadata": {
    "execution": {
     "iopub.execute_input": "2022-04-27T00:40:58.589492Z",
     "iopub.status.busy": "2022-04-27T00:40:58.588979Z",
     "iopub.status.idle": "2022-04-27T00:40:58.600432Z",
     "shell.execute_reply": "2022-04-27T00:40:58.600016Z"
    },
    "papermill": {
     "duration": 0.042153,
     "end_time": "2022-04-27T00:40:58.600548",
     "exception": false,
     "start_time": "2022-04-27T00:40:58.558395",
     "status": "completed"
    },
    "tags": []
   },
   "outputs": [],
   "source": [
    "y_train = 1*(y_train==3)\n",
    "y_test = 1*(y_test==3)"
   ]
  },
  {
   "cell_type": "code",
   "execution_count": 13,
   "id": "01e4e969",
   "metadata": {
    "execution": {
     "iopub.execute_input": "2022-04-27T00:40:58.660048Z",
     "iopub.status.busy": "2022-04-27T00:40:58.659532Z",
     "iopub.status.idle": "2022-04-27T00:40:58.670949Z",
     "shell.execute_reply": "2022-04-27T00:40:58.671389Z"
    },
    "papermill": {
     "duration": 0.044566,
     "end_time": "2022-04-27T00:40:58.671517",
     "exception": false,
     "start_time": "2022-04-27T00:40:58.626951",
     "status": "completed"
    },
    "tags": []
   },
   "outputs": [
    {
     "data": {
      "text/plain": [
       "((11982, 28, 28), (1984, 28, 28))"
      ]
     },
     "execution_count": 13,
     "metadata": {},
     "output_type": "execute_result"
    }
   ],
   "source": [
    "X_train.shape, X_test.shape"
   ]
  },
  {
   "cell_type": "markdown",
   "id": "5ccf3f85",
   "metadata": {
    "papermill": {
     "duration": 0.026298,
     "end_time": "2022-04-27T00:40:58.724098",
     "exception": false,
     "start_time": "2022-04-27T00:40:58.697800",
     "status": "completed"
    },
    "tags": []
   },
   "source": [
    "We reshape the data to flatten the image pixels into a set of features or co-variates:"
   ]
  },
  {
   "cell_type": "code",
   "execution_count": 14,
   "id": "5286a4a3",
   "metadata": {
    "execution": {
     "iopub.execute_input": "2022-04-27T00:40:58.783580Z",
     "iopub.status.busy": "2022-04-27T00:40:58.783055Z",
     "iopub.status.idle": "2022-04-27T00:40:58.795504Z",
     "shell.execute_reply": "2022-04-27T00:40:58.795090Z"
    },
    "papermill": {
     "duration": 0.045104,
     "end_time": "2022-04-27T00:40:58.795618",
     "exception": false,
     "start_time": "2022-04-27T00:40:58.750514",
     "status": "completed"
    },
    "tags": []
   },
   "outputs": [
    {
     "data": {
      "text/plain": [
       "((11982, 784), (1984, 784))"
      ]
     },
     "execution_count": 14,
     "metadata": {},
     "output_type": "execute_result"
    }
   ],
   "source": [
    "X_train = X_train.reshape(X_train.shape[0], -1)\n",
    "X_test = X_test.reshape(X_test.shape[0], -1)\n",
    "X_train.shape, X_test.shape"
   ]
  },
  {
   "cell_type": "code",
   "execution_count": 15,
   "id": "73c5f88a",
   "metadata": {
    "execution": {
     "iopub.execute_input": "2022-04-27T00:40:58.852620Z",
     "iopub.status.busy": "2022-04-27T00:40:58.852117Z",
     "iopub.status.idle": "2022-04-27T00:40:58.870293Z",
     "shell.execute_reply": "2022-04-27T00:40:58.870728Z"
    },
    "papermill": {
     "duration": 0.048649,
     "end_time": "2022-04-27T00:40:58.870888",
     "exception": false,
     "start_time": "2022-04-27T00:40:58.822239",
     "status": "completed"
    },
    "tags": []
   },
   "outputs": [],
   "source": [
    "#Impoting functions from 'Kudzu'\n",
    "from kudzu.model import Model\n",
    "from kudzu.train import Learner\n",
    "from kudzu.optim import GD\n",
    "from kudzu.data import Data, Sampler,Dataloader\n",
    "\n",
    "from kudzu.callbacks import AccCallback\n",
    "from kudzu.callbacks import ClfCallback\n",
    "\n",
    "from kudzu.loss import MSE\n",
    "\n",
    "from kudzu.layer import Sigmoid,Relu\n",
    "from kudzu.layer import Affine"
   ]
  },
  {
   "cell_type": "markdown",
   "id": "bc01172a",
   "metadata": {
    "papermill": {
     "duration": 0.026659,
     "end_time": "2022-04-27T00:40:58.924727",
     "exception": false,
     "start_time": "2022-04-27T00:40:58.898068",
     "status": "completed"
    },
    "tags": []
   },
   "source": [
    "### Let us create a `Config` class, to store important parameters. \n",
    "This class essentially plays the role of a dictionary."
   ]
  },
  {
   "cell_type": "code",
   "execution_count": 16,
   "id": "978281aa",
   "metadata": {
    "execution": {
     "iopub.execute_input": "2022-04-27T00:40:58.997423Z",
     "iopub.status.busy": "2022-04-27T00:40:58.996888Z",
     "iopub.status.idle": "2022-04-27T00:40:58.998917Z",
     "shell.execute_reply": "2022-04-27T00:40:58.999331Z"
    },
    "papermill": {
     "duration": 0.048109,
     "end_time": "2022-04-27T00:40:58.999460",
     "exception": false,
     "start_time": "2022-04-27T00:40:58.951351",
     "status": "completed"
    },
    "tags": []
   },
   "outputs": [],
   "source": [
    "class Config:\n",
    "    pass\n",
    "config = Config()\n",
    "config.lr = 0.001\n",
    "config.num_epochs = 250\n",
    "config.bs = 50"
   ]
  },
  {
   "cell_type": "markdown",
   "id": "1385fa59",
   "metadata": {
    "papermill": {
     "duration": 0.026568,
     "end_time": "2022-04-27T00:40:59.052681",
     "exception": false,
     "start_time": "2022-04-27T00:40:59.026113",
     "status": "completed"
    },
    "tags": []
   },
   "source": [
    "### Running Models with the Training data\n",
    "Details about the network layers:\n",
    "- A first affine layer has 784 inputs and does 100 affine transforms. These are followed by a Relu\n",
    "- A second affine layer has 100 inputs from the 100 activations of the past layer, and does 100 affine transforms. These are followed by a Relu\n",
    "- A third affine layer has 100 activations and does 2 affine transformations to create an embedding for visualization. There is no non-linearity here.\n",
    "- A final \"logistic regression\" which has an affine transform from 2 inputs to 1 output, which is squeezed through a sigmoid.\n"
   ]
  },
  {
   "cell_type": "code",
   "execution_count": 17,
   "id": "2b9c66db",
   "metadata": {
    "execution": {
     "iopub.execute_input": "2022-04-27T00:40:59.117851Z",
     "iopub.status.busy": "2022-04-27T00:40:59.109593Z",
     "iopub.status.idle": "2022-04-27T00:40:59.125075Z",
     "shell.execute_reply": "2022-04-27T00:40:59.125490Z"
    },
    "papermill": {
     "duration": 0.046299,
     "end_time": "2022-04-27T00:40:59.125625",
     "exception": false,
     "start_time": "2022-04-27T00:40:59.079326",
     "status": "completed"
    },
    "tags": []
   },
   "outputs": [],
   "source": [
    "data = Data(X_train, y_train.reshape(-1,1))\n",
    "sampler = Sampler(data, config.bs, shuffle=True)\n",
    "\n",
    "dl = Dataloader(data, sampler)\n",
    "\n",
    "opt = GD(config.lr)\n",
    "loss = MSE()"
   ]
  },
  {
   "cell_type": "code",
   "execution_count": 18,
   "id": "b275e4c2",
   "metadata": {
    "execution": {
     "iopub.execute_input": "2022-04-27T00:40:59.196125Z",
     "iopub.status.busy": "2022-04-27T00:40:59.182426Z",
     "iopub.status.idle": "2022-04-27T00:40:59.199957Z",
     "shell.execute_reply": "2022-04-27T00:40:59.199520Z"
    },
    "papermill": {
     "duration": 0.04763,
     "end_time": "2022-04-27T00:40:59.200071",
     "exception": false,
     "start_time": "2022-04-27T00:40:59.152441",
     "status": "completed"
    },
    "tags": []
   },
   "outputs": [],
   "source": [
    "training_data_x = X_train\n",
    "testing_data_x = X_test\n",
    "training_data_y = y_train.reshape(-1,1)\n",
    "testing_data_y = y_test.reshape(-1,1)"
   ]
  },
  {
   "cell_type": "code",
   "execution_count": 19,
   "id": "76951160",
   "metadata": {
    "execution": {
     "iopub.execute_input": "2022-04-27T00:40:59.270203Z",
     "iopub.status.busy": "2022-04-27T00:40:59.269656Z",
     "iopub.status.idle": "2022-04-27T00:40:59.278259Z",
     "shell.execute_reply": "2022-04-27T00:40:59.278666Z"
    },
    "papermill": {
     "duration": 0.051998,
     "end_time": "2022-04-27T00:40:59.278817",
     "exception": false,
     "start_time": "2022-04-27T00:40:59.226819",
     "status": "completed"
    },
    "tags": []
   },
   "outputs": [
    {
     "name": "stdout",
     "output_type": "stream",
     "text": [
      "xavier\n",
      "xavier\n",
      "xavier\n",
      "xavier\n",
      "xavier\n"
     ]
    }
   ],
   "source": [
    "layers = [Affine(\"first\", 784, 100), Relu(\"first\"), Affine(\"second\", 100, 100), Relu(\"second\"), Affine(\"third\", 100, 2), Affine(\"last\", 2, 1), Sigmoid(\"last\")]\n",
    "model_nn = Model(layers)\n",
    "model_lr = Model([Affine(\"logits\", 784, 1), Sigmoid(\"sigmoid\")])"
   ]
  },
  {
   "cell_type": "code",
   "execution_count": 20,
   "id": "6eede77a",
   "metadata": {
    "execution": {
     "iopub.execute_input": "2022-04-27T00:40:59.350576Z",
     "iopub.status.busy": "2022-04-27T00:40:59.347557Z",
     "iopub.status.idle": "2022-04-27T00:40:59.353097Z",
     "shell.execute_reply": "2022-04-27T00:40:59.352422Z"
    },
    "papermill": {
     "duration": 0.047442,
     "end_time": "2022-04-27T00:40:59.353215",
     "exception": false,
     "start_time": "2022-04-27T00:40:59.305773",
     "status": "completed"
    },
    "tags": []
   },
   "outputs": [],
   "source": [
    "nn_learner = Learner(loss, model_nn, opt, config.num_epochs)\n",
    "acc_nn = ClfCallback(nn_learner, config.bs, training_data_x , testing_data_x, training_data_y, testing_data_y)\n",
    "nn_learner.set_callbacks([acc_nn])"
   ]
  },
  {
   "cell_type": "code",
   "execution_count": 21,
   "id": "877b6cc7",
   "metadata": {
    "execution": {
     "iopub.execute_input": "2022-04-27T00:40:59.417418Z",
     "iopub.status.busy": "2022-04-27T00:40:59.416870Z",
     "iopub.status.idle": "2022-04-27T00:40:59.425811Z",
     "shell.execute_reply": "2022-04-27T00:40:59.425370Z"
    },
    "papermill": {
     "duration": 0.045424,
     "end_time": "2022-04-27T00:40:59.425922",
     "exception": false,
     "start_time": "2022-04-27T00:40:59.380498",
     "status": "completed"
    },
    "tags": []
   },
   "outputs": [],
   "source": [
    "lr_learner = Learner(loss, model_lr, opt, config.num_epochs)\n",
    "acc_lr = ClfCallback(lr_learner, config.bs, training_data_x , testing_data_x, training_data_y, testing_data_y)\n",
    "lr_learner.set_callbacks([acc_lr])"
   ]
  },
  {
   "cell_type": "code",
   "execution_count": 22,
   "id": "d9b133c3",
   "metadata": {
    "execution": {
     "iopub.execute_input": "2022-04-27T00:40:59.488132Z",
     "iopub.status.busy": "2022-04-27T00:40:59.487599Z",
     "iopub.status.idle": "2022-04-27T00:42:20.485879Z",
     "shell.execute_reply": "2022-04-27T00:42:20.486677Z"
    },
    "papermill": {
     "duration": 81.033889,
     "end_time": "2022-04-27T00:42:20.486852",
     "exception": false,
     "start_time": "2022-04-27T00:40:59.452963",
     "status": "completed"
    },
    "tags": []
   },
   "outputs": [
    {
     "name": "stdout",
     "output_type": "stream",
     "text": [
      "Epoch 0, Loss 0.2498\n",
      "Training Accuracy: 0.4901, Testing Accuracy: 0.4803\n",
      "\n"
     ]
    },
    {
     "name": "stdout",
     "output_type": "stream",
     "text": [
      "Epoch 10, Loss 0.1954\n",
      "Training Accuracy: 0.8509, Testing Accuracy: 0.8659\n",
      "\n"
     ]
    },
    {
     "name": "stdout",
     "output_type": "stream",
     "text": [
      "Epoch 20, Loss 0.097\n",
      "Training Accuracy: 0.9107, Testing Accuracy: 0.9204\n",
      "\n"
     ]
    },
    {
     "name": "stdout",
     "output_type": "stream",
     "text": [
      "Epoch 30, Loss 0.0612\n",
      "Training Accuracy: 0.9347, Testing Accuracy: 0.9420\n",
      "\n"
     ]
    },
    {
     "name": "stdout",
     "output_type": "stream",
     "text": [
      "Epoch 40, Loss 0.0483\n",
      "Training Accuracy: 0.9458, Testing Accuracy: 0.9551\n",
      "\n"
     ]
    },
    {
     "name": "stdout",
     "output_type": "stream",
     "text": [
      "Epoch 50, Loss 0.0417\n",
      "Training Accuracy: 0.9523, Testing Accuracy: 0.9602\n",
      "\n"
     ]
    },
    {
     "name": "stdout",
     "output_type": "stream",
     "text": [
      "Epoch 60, Loss 0.0376\n",
      "Training Accuracy: 0.9568, Testing Accuracy: 0.9642\n",
      "\n"
     ]
    },
    {
     "name": "stdout",
     "output_type": "stream",
     "text": [
      "Epoch 70, Loss 0.0348\n",
      "Training Accuracy: 0.9599, Testing Accuracy: 0.9652\n",
      "\n"
     ]
    },
    {
     "name": "stdout",
     "output_type": "stream",
     "text": [
      "Epoch 80, Loss 0.0326\n",
      "Training Accuracy: 0.9625, Testing Accuracy: 0.9682\n",
      "\n"
     ]
    },
    {
     "name": "stdout",
     "output_type": "stream",
     "text": [
      "Epoch 90, Loss 0.031\n",
      "Training Accuracy: 0.9642, Testing Accuracy: 0.9688\n",
      "\n"
     ]
    },
    {
     "name": "stdout",
     "output_type": "stream",
     "text": [
      "Epoch 100, Loss 0.0296\n",
      "Training Accuracy: 0.9654, Testing Accuracy: 0.9698\n",
      "\n"
     ]
    },
    {
     "name": "stdout",
     "output_type": "stream",
     "text": [
      "Epoch 110, Loss 0.0285\n",
      "Training Accuracy: 0.9665, Testing Accuracy: 0.9688\n",
      "\n"
     ]
    },
    {
     "name": "stdout",
     "output_type": "stream",
     "text": [
      "Epoch 120, Loss 0.0275\n",
      "Training Accuracy: 0.9675, Testing Accuracy: 0.9688\n",
      "\n"
     ]
    },
    {
     "name": "stdout",
     "output_type": "stream",
     "text": [
      "Epoch 130, Loss 0.0266\n",
      "Training Accuracy: 0.9682, Testing Accuracy: 0.9693\n",
      "\n"
     ]
    },
    {
     "name": "stdout",
     "output_type": "stream",
     "text": [
      "Epoch 140, Loss 0.0258\n",
      "Training Accuracy: 0.9695, Testing Accuracy: 0.9713\n",
      "\n"
     ]
    },
    {
     "name": "stdout",
     "output_type": "stream",
     "text": [
      "Epoch 150, Loss 0.0251\n",
      "Training Accuracy: 0.9701, Testing Accuracy: 0.9728\n",
      "\n"
     ]
    },
    {
     "name": "stdout",
     "output_type": "stream",
     "text": [
      "Epoch 160, Loss 0.0245\n",
      "Training Accuracy: 0.9715, Testing Accuracy: 0.9733\n",
      "\n"
     ]
    },
    {
     "name": "stdout",
     "output_type": "stream",
     "text": [
      "Epoch 170, Loss 0.0239\n",
      "Training Accuracy: 0.9725, Testing Accuracy: 0.9733\n",
      "\n"
     ]
    },
    {
     "name": "stdout",
     "output_type": "stream",
     "text": [
      "Epoch 180, Loss 0.0234\n",
      "Training Accuracy: 0.9730, Testing Accuracy: 0.9738\n",
      "\n"
     ]
    },
    {
     "name": "stdout",
     "output_type": "stream",
     "text": [
      "Epoch 190, Loss 0.0229\n",
      "Training Accuracy: 0.9734, Testing Accuracy: 0.9748\n",
      "\n"
     ]
    },
    {
     "name": "stdout",
     "output_type": "stream",
     "text": [
      "Epoch 200, Loss 0.0224\n",
      "Training Accuracy: 0.9740, Testing Accuracy: 0.9753\n",
      "\n"
     ]
    },
    {
     "name": "stdout",
     "output_type": "stream",
     "text": [
      "Epoch 210, Loss 0.0219\n",
      "Training Accuracy: 0.9746, Testing Accuracy: 0.9753\n",
      "\n"
     ]
    },
    {
     "name": "stdout",
     "output_type": "stream",
     "text": [
      "Epoch 220, Loss 0.0215\n",
      "Training Accuracy: 0.9755, Testing Accuracy: 0.9753\n",
      "\n"
     ]
    },
    {
     "name": "stdout",
     "output_type": "stream",
     "text": [
      "Epoch 230, Loss 0.0211\n",
      "Training Accuracy: 0.9758, Testing Accuracy: 0.9763\n",
      "\n"
     ]
    },
    {
     "name": "stdout",
     "output_type": "stream",
     "text": [
      "Epoch 240, Loss 0.0207\n",
      "Training Accuracy: 0.9766, Testing Accuracy: 0.9763\n",
      "\n"
     ]
    },
    {
     "data": {
      "text/plain": [
       "0.019461484456625006"
      ]
     },
     "execution_count": 22,
     "metadata": {},
     "output_type": "execute_result"
    }
   ],
   "source": [
    "nn_learner.train_loop(dl)"
   ]
  },
  {
   "cell_type": "code",
   "execution_count": 23,
   "id": "e0163366",
   "metadata": {
    "execution": {
     "iopub.execute_input": "2022-04-27T00:42:20.568227Z",
     "iopub.status.busy": "2022-04-27T00:42:20.567692Z",
     "iopub.status.idle": "2022-04-27T00:42:35.261106Z",
     "shell.execute_reply": "2022-04-27T00:42:35.261598Z"
    },
    "papermill": {
     "duration": 14.740025,
     "end_time": "2022-04-27T00:42:35.261736",
     "exception": false,
     "start_time": "2022-04-27T00:42:20.521711",
     "status": "completed"
    },
    "tags": []
   },
   "outputs": [
    {
     "name": "stdout",
     "output_type": "stream",
     "text": [
      "Epoch 0, Loss 0.2483\n",
      "Training Accuracy: 0.6487, Testing Accuracy: 0.6235\n",
      "\n"
     ]
    },
    {
     "name": "stdout",
     "output_type": "stream",
     "text": [
      "Epoch 10, Loss 0.1039\n",
      "Training Accuracy: 0.9089, Testing Accuracy: 0.9158\n",
      "\n"
     ]
    },
    {
     "name": "stdout",
     "output_type": "stream",
     "text": [
      "Epoch 20, Loss 0.0789\n",
      "Training Accuracy: 0.9296, Testing Accuracy: 0.9380\n",
      "\n"
     ]
    },
    {
     "name": "stdout",
     "output_type": "stream",
     "text": [
      "Epoch 30, Loss 0.0676\n",
      "Training Accuracy: 0.9373, Testing Accuracy: 0.9471\n",
      "\n"
     ]
    },
    {
     "name": "stdout",
     "output_type": "stream",
     "text": [
      "Epoch 40, Loss 0.0609\n",
      "Training Accuracy: 0.9434, Testing Accuracy: 0.9521\n",
      "\n"
     ]
    },
    {
     "name": "stdout",
     "output_type": "stream",
     "text": [
      "Epoch 50, Loss 0.0564\n",
      "Training Accuracy: 0.9460, Testing Accuracy: 0.9546\n",
      "\n"
     ]
    },
    {
     "name": "stdout",
     "output_type": "stream",
     "text": [
      "Epoch 60, Loss 0.0531\n",
      "Training Accuracy: 0.9478, Testing Accuracy: 0.9561\n",
      "\n"
     ]
    },
    {
     "name": "stdout",
     "output_type": "stream",
     "text": [
      "Epoch 70, Loss 0.0506\n",
      "Training Accuracy: 0.9500, Testing Accuracy: 0.9612\n",
      "\n"
     ]
    },
    {
     "name": "stdout",
     "output_type": "stream",
     "text": [
      "Epoch 80, Loss 0.0486\n",
      "Training Accuracy: 0.9523, Testing Accuracy: 0.9617\n",
      "\n"
     ]
    },
    {
     "name": "stdout",
     "output_type": "stream",
     "text": [
      "Epoch 90, Loss 0.0469\n",
      "Training Accuracy: 0.9538, Testing Accuracy: 0.9622\n",
      "\n"
     ]
    },
    {
     "name": "stdout",
     "output_type": "stream",
     "text": [
      "Epoch 100, Loss 0.0455\n",
      "Training Accuracy: 0.9551, Testing Accuracy: 0.9637\n",
      "\n"
     ]
    },
    {
     "name": "stdout",
     "output_type": "stream",
     "text": [
      "Epoch 110, Loss 0.0443\n",
      "Training Accuracy: 0.9556, Testing Accuracy: 0.9652\n",
      "\n"
     ]
    },
    {
     "name": "stdout",
     "output_type": "stream",
     "text": [
      "Epoch 120, Loss 0.0433\n",
      "Training Accuracy: 0.9564, Testing Accuracy: 0.9652\n",
      "\n"
     ]
    },
    {
     "name": "stdout",
     "output_type": "stream",
     "text": [
      "Epoch 130, Loss 0.0424\n",
      "Training Accuracy: 0.9572, Testing Accuracy: 0.9647\n",
      "\n"
     ]
    },
    {
     "name": "stdout",
     "output_type": "stream",
     "text": [
      "Epoch 140, Loss 0.0416\n",
      "Training Accuracy: 0.9580, Testing Accuracy: 0.9647\n",
      "\n"
     ]
    },
    {
     "name": "stdout",
     "output_type": "stream",
     "text": [
      "Epoch 150, Loss 0.0409\n",
      "Training Accuracy: 0.9585, Testing Accuracy: 0.9657\n",
      "\n"
     ]
    },
    {
     "name": "stdout",
     "output_type": "stream",
     "text": [
      "Epoch 160, Loss 0.0402\n",
      "Training Accuracy: 0.9592, Testing Accuracy: 0.9662\n",
      "\n"
     ]
    },
    {
     "name": "stdout",
     "output_type": "stream",
     "text": [
      "Epoch 170, Loss 0.0396\n",
      "Training Accuracy: 0.9595, Testing Accuracy: 0.9662\n",
      "\n"
     ]
    },
    {
     "name": "stdout",
     "output_type": "stream",
     "text": [
      "Epoch 180, Loss 0.0391\n",
      "Training Accuracy: 0.9600, Testing Accuracy: 0.9667\n",
      "\n"
     ]
    },
    {
     "name": "stdout",
     "output_type": "stream",
     "text": [
      "Epoch 190, Loss 0.0386\n",
      "Training Accuracy: 0.9603, Testing Accuracy: 0.9667\n",
      "\n"
     ]
    },
    {
     "name": "stdout",
     "output_type": "stream",
     "text": [
      "Epoch 200, Loss 0.0381\n",
      "Training Accuracy: 0.9604, Testing Accuracy: 0.9667\n",
      "\n"
     ]
    },
    {
     "name": "stdout",
     "output_type": "stream",
     "text": [
      "Epoch 210, Loss 0.0377\n",
      "Training Accuracy: 0.9608, Testing Accuracy: 0.9667\n",
      "\n"
     ]
    },
    {
     "name": "stdout",
     "output_type": "stream",
     "text": [
      "Epoch 220, Loss 0.0373\n",
      "Training Accuracy: 0.9614, Testing Accuracy: 0.9667\n",
      "\n"
     ]
    },
    {
     "name": "stdout",
     "output_type": "stream",
     "text": [
      "Epoch 230, Loss 0.0369\n",
      "Training Accuracy: 0.9618, Testing Accuracy: 0.9672\n",
      "\n"
     ]
    },
    {
     "name": "stdout",
     "output_type": "stream",
     "text": [
      "Epoch 240, Loss 0.0366\n",
      "Training Accuracy: 0.9623, Testing Accuracy: 0.9682\n",
      "\n"
     ]
    },
    {
     "data": {
      "text/plain": [
       "0.04003025832447297"
      ]
     },
     "execution_count": 23,
     "metadata": {},
     "output_type": "execute_result"
    }
   ],
   "source": [
    "lr_learner.train_loop(dl)"
   ]
  },
  {
   "cell_type": "code",
   "execution_count": 24,
   "id": "ca410940",
   "metadata": {
    "execution": {
     "iopub.execute_input": "2022-04-27T00:42:35.352233Z",
     "iopub.status.busy": "2022-04-27T00:42:35.351694Z",
     "iopub.status.idle": "2022-04-27T00:42:35.576501Z",
     "shell.execute_reply": "2022-04-27T00:42:35.575986Z"
    },
    "papermill": {
     "duration": 0.273567,
     "end_time": "2022-04-27T00:42:35.576635",
     "exception": false,
     "start_time": "2022-04-27T00:42:35.303068",
     "status": "completed"
    },
    "tags": []
   },
   "outputs": [
    {
     "data": {
      "text/plain": [
       "<matplotlib.legend.Legend at 0x7ff8078e6b70>"
      ]
     },
     "execution_count": 24,
     "metadata": {},
     "output_type": "execute_result"
    },
    {
     "data": {
      "image/png": "[encoded data removed]",
      "text/plain": [
       "<Figure size 1080x720 with 1 Axes>"
      ]
     },
     "metadata": {
      "needs_background": "light"
     },
     "output_type": "display_data"
    }
   ],
   "source": [
    "#comparing the results of NN and LR\n",
    "plt.figure(figsize=(15,10))\n",
    "\n",
    "# Neural Network plots\n",
    "plt.plot(acc_nn.accuracies, 'r-', label = \"Training Accuracies - NN\")\n",
    "plt.plot(acc_nn.test_accuracies, 'g-', label = \"Testing Accuracies - NN\")\n",
    "\n",
    "# Logistic Regression plots\n",
    "plt.plot(acc_lr.accuracies, 'k-', label = \"Training Accuracies - LR\")\n",
    "plt.plot(acc_lr.test_accuracies, 'b-', label = \"Testing Accuracies - LR\")\n",
    "plt.legend()"
   ]
  },
  {
   "cell_type": "markdown",
   "id": "80dfb35c",
   "metadata": {
    "papermill": {
     "duration": 0.041734,
     "end_time": "2022-04-27T00:42:35.660273",
     "exception": false,
     "start_time": "2022-04-27T00:42:35.618539",
     "status": "completed"
    },
    "tags": []
   },
   "source": [
    "#### Plotting the outputs of this layer of the NN.\n"
   ]
  },
  {
   "cell_type": "code",
   "execution_count": 25,
   "id": "45eb2ff5",
   "metadata": {
    "execution": {
     "iopub.execute_input": "2022-04-27T00:42:35.747674Z",
     "iopub.status.busy": "2022-04-27T00:42:35.747145Z",
     "iopub.status.idle": "2022-04-27T00:42:35.766945Z",
     "shell.execute_reply": "2022-04-27T00:42:35.767362Z"
    },
    "papermill": {
     "duration": 0.065602,
     "end_time": "2022-04-27T00:42:35.767496",
     "exception": false,
     "start_time": "2022-04-27T00:42:35.701894",
     "status": "completed"
    },
    "tags": []
   },
   "outputs": [],
   "source": [
    "new_model = Model(layers[:-2])\n",
    "testing_plot = new_model(testing_data_x)"
   ]
  },
  {
   "cell_type": "code",
   "execution_count": 26,
   "id": "4c0a5485",
   "metadata": {
    "execution": {
     "iopub.execute_input": "2022-04-27T00:42:35.856375Z",
     "iopub.status.busy": "2022-04-27T00:42:35.855809Z",
     "iopub.status.idle": "2022-04-27T00:42:36.072240Z",
     "shell.execute_reply": "2022-04-27T00:42:36.071797Z"
    },
    "papermill": {
     "duration": 0.262657,
     "end_time": "2022-04-27T00:42:36.072366",
     "exception": false,
     "start_time": "2022-04-27T00:42:35.809709",
     "status": "completed"
    },
    "tags": []
   },
   "outputs": [
    {
     "data": {
      "text/plain": [
       "Text(0.5, 1.0, 'Outputs')"
      ]
     },
     "execution_count": 26,
     "metadata": {},
     "output_type": "execute_result"
    },
    {
     "data": {
      "image/png": "[encoded data removed]",
      "text/plain": [
       "<Figure size 576x504 with 1 Axes>"
      ]
     },
     "metadata": {
      "needs_background": "light"
     },
     "output_type": "display_data"
    }
   ],
   "source": [
    "# Plotting the scatter plot of points and color coding by class\n",
    "plt.figure(figsize=(8,7))\n",
    "plt.scatter(testing_plot[:,0], testing_plot[:,1], alpha = 0.1, c = y_test.ravel());\n",
    "plt.title('Outputs')"
   ]
  },
  {
   "cell_type": "markdown",
   "id": "a74fcf8f",
   "metadata": {
    "papermill": {
     "duration": 0.047822,
     "end_time": "2022-04-27T00:42:36.164682",
     "exception": false,
     "start_time": "2022-04-27T00:42:36.116860",
     "status": "completed"
    },
    "tags": []
   },
   "source": [
    "Probability contours"
   ]
  },
  {
   "cell_type": "code",
   "execution_count": 27,
   "id": "d0afc8e3",
   "metadata": {
    "execution": {
     "iopub.execute_input": "2022-04-27T00:42:36.259128Z",
     "iopub.status.busy": "2022-04-27T00:42:36.258542Z",
     "iopub.status.idle": "2022-04-27T00:42:36.269165Z",
     "shell.execute_reply": "2022-04-27T00:42:36.269545Z"
    },
    "papermill": {
     "duration": 0.060296,
     "end_time": "2022-04-27T00:42:36.269677",
     "exception": false,
     "start_time": "2022-04-27T00:42:36.209381",
     "status": "completed"
    },
    "tags": []
   },
   "outputs": [],
   "source": [
    "model_prob = Model(layers[-2:]) "
   ]
  },
  {
   "cell_type": "code",
   "execution_count": 28,
   "id": "9b96e238",
   "metadata": {
    "execution": {
     "iopub.execute_input": "2022-04-27T00:42:36.365994Z",
     "iopub.status.busy": "2022-04-27T00:42:36.365491Z",
     "iopub.status.idle": "2022-04-27T00:42:36.377189Z",
     "shell.execute_reply": "2022-04-27T00:42:36.377574Z"
    },
    "papermill": {
     "duration": 0.063463,
     "end_time": "2022-04-27T00:42:36.377699",
     "exception": false,
     "start_time": "2022-04-27T00:42:36.314236",
     "status": "completed"
    },
    "tags": []
   },
   "outputs": [],
   "source": [
    "#creating the x and y ranges according to the above generated plot.\n",
    "x_range = np.linspace(-4, 1, 100) \n",
    "y_range = np.linspace(-6, 6, 100) \n",
    "x_grid, y_grid = np.meshgrid(x_range, y_range) # x_grid and y_grig are of size 100 X 100\n",
    "\n",
    "# converting x_grid and y_grid to continuous arrays\n",
    "x_gridflat = np.ravel(x_grid)\n",
    "y_gridflat = np.ravel(y_grid)\n",
    "\n",
    "# The last layer of the current model takes two columns as input. Hence transpose of np.vstack() is required.\n",
    "X = np.vstack((x_gridflat, y_gridflat)).T\n",
    "\n",
    "prob_contour = model_prob(X).reshape(100,100) "
   ]
  },
  {
   "cell_type": "code",
   "execution_count": 29,
   "id": "da72499a",
   "metadata": {
    "execution": {
     "iopub.execute_input": "2022-04-27T00:42:36.503250Z",
     "iopub.status.busy": "2022-04-27T00:42:36.502634Z",
     "iopub.status.idle": "2022-04-27T00:42:36.752522Z",
     "shell.execute_reply": "2022-04-27T00:42:36.752988Z"
    },
    "papermill": {
     "duration": 0.299345,
     "end_time": "2022-04-27T00:42:36.753156",
     "exception": false,
     "start_time": "2022-04-27T00:42:36.453811",
     "status": "completed"
    },
    "tags": []
   },
   "outputs": [
    {
     "data": {
      "image/png": "[encoded data removed]",
      "text/plain": [
       "<Figure size 720x648 with 1 Axes>"
      ]
     },
     "metadata": {
      "needs_background": "light"
     },
     "output_type": "display_data"
    }
   ],
   "source": [
    "plt.figure(figsize=(10,9))\n",
    "plt.scatter(testing_plot[:,0], testing_plot[:,1], alpha = 0.1, c = y_test.ravel())\n",
    "contours = plt.contour(x_grid,y_grid,prob_contour)\n",
    "plt.title('Probability Contours')\n",
    "plt.clabel(contours, inline = True );"
   ]
  },
  {
   "cell_type": "code",
   "execution_count": null,
   "id": "e81b4ac7",
   "metadata": {
    "papermill": {
     "duration": 0.046455,
     "end_time": "2022-04-27T00:42:36.847425",
     "exception": false,
     "start_time": "2022-04-27T00:42:36.800970",
     "status": "completed"
    },
    "tags": []
   },
   "outputs": [],
   "source": []
  }
 ],
 "metadata": {
  "kernelspec": {
   "display_name": "Python 3",
   "language": "python",
   "name": "python3"
  },
  "language_info": {
   "codemirror_mode": {
    "name": "ipython",
    "version": 3
   },
   "file_extension": ".py",
   "mimetype": "text/x-python",
   "name": "python",
   "nbconvert_exporter": "python",
   "pygments_lexer": "ipython3",
   "version": "3.6.15"
  },
  "papermill": {
   "default_parameters": {},
   "duration": 103.717816,
   "end_time": "2022-04-27T00:42:37.312051",
   "environment_variables": {},
   "exception": null,
   "input_path": "2020-08-11-part2.ipynb",
   "output_path": "2020-08-11-part2.ipynb",
   "parameters": {},
   "start_time": "2022-04-27T00:40:53.594235",
   "version": "2.3.3"
  }
 },
 "nbformat": 4,
 "nbformat_minor": 5
}