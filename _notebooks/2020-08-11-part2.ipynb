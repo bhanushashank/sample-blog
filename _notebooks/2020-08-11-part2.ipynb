{
 "cells": [
  {
   "cell_type": "markdown",
   "id": "98380cd3",
   "metadata": {
    "papermill": {
     "duration": 0.035821,
     "end_time": "2022-10-13T20:12:50.336253",
     "exception": false,
     "start_time": "2022-10-13T20:12:50.300432",
     "status": "completed"
    },
    "tags": []
   },
   "source": [
    "# Distinguish Your Own Digits (DYOD)"
   ]
  },
  {
   "cell_type": "markdown",
   "id": "ef31240d",
   "metadata": {
    "papermill": {
     "duration": 0.029349,
     "end_time": "2022-10-13T20:12:50.399387",
     "exception": false,
     "start_time": "2022-10-13T20:12:50.370038",
     "status": "completed"
    },
    "tags": []
   },
   "source": [
    "You are going to write a classifier that distinguishes between the number 3 and number 8."
   ]
  },
  {
   "cell_type": "code",
   "execution_count": 1,
   "id": "b15c8646",
   "metadata": {
    "execution": {
     "iopub.execute_input": "2022-10-13T20:12:50.467892Z",
     "iopub.status.busy": "2022-10-13T20:12:50.467178Z",
     "iopub.status.idle": "2022-10-13T20:12:50.478471Z",
     "shell.execute_reply": "2022-10-13T20:12:50.479049Z"
    },
    "papermill": {
     "duration": 0.051721,
     "end_time": "2022-10-13T20:12:50.479253",
     "exception": false,
     "start_time": "2022-10-13T20:12:50.427532",
     "status": "completed"
    },
    "tags": []
   },
   "outputs": [],
   "source": [
    "%load_ext autoreload\n",
    "%autoreload 2"
   ]
  },
  {
   "cell_type": "code",
   "execution_count": 2,
   "id": "22ef38dc",
   "metadata": {
    "execution": {
     "iopub.execute_input": "2022-10-13T20:12:50.549070Z",
     "iopub.status.busy": "2022-10-13T20:12:50.548327Z",
     "iopub.status.idle": "2022-10-13T20:12:51.182078Z",
     "shell.execute_reply": "2022-10-13T20:12:51.182637Z"
    },
    "papermill": {
     "duration": 0.675253,
     "end_time": "2022-10-13T20:12:51.182808",
     "exception": false,
     "start_time": "2022-10-13T20:12:50.507555",
     "status": "completed"
    },
    "tags": []
   },
   "outputs": [],
   "source": [
    "%matplotlib inline\n",
    "import numpy as np\n",
    "import matplotlib.pyplot as plt\n",
    "import pandas as pd"
   ]
  },
  {
   "cell_type": "markdown",
   "id": "ba036198",
   "metadata": {
    "papermill": {
     "duration": 0.030829,
     "end_time": "2022-10-13T20:12:51.243876",
     "exception": false,
     "start_time": "2022-10-13T20:12:51.213047",
     "status": "completed"
    },
    "tags": []
   },
   "source": [
    "From the command line run `pip install mnist`. This is a library that will help you bring down the mnist dataset. If you run this from a notebook, you need to put  `!pip install mnist` in a cell by itself."
   ]
  },
  {
   "cell_type": "code",
   "execution_count": 3,
   "id": "bb6ad8a1",
   "metadata": {
    "execution": {
     "iopub.execute_input": "2022-10-13T20:12:51.311913Z",
     "iopub.status.busy": "2022-10-13T20:12:51.307481Z",
     "iopub.status.idle": "2022-10-13T20:12:53.209494Z",
     "shell.execute_reply": "2022-10-13T20:12:53.208470Z"
    },
    "papermill": {
     "duration": 1.936541,
     "end_time": "2022-10-13T20:12:53.209644",
     "exception": false,
     "start_time": "2022-10-13T20:12:51.273103",
     "status": "completed"
    },
    "tags": []
   },
   "outputs": [
    {
     "name": "stdout",
     "output_type": "stream",
     "text": [
      "Collecting mnist\r\n"
     ]
    },
    {
     "name": "stdout",
     "output_type": "stream",
     "text": [
      "  Downloading mnist-0.2.2-py2.py3-none-any.whl (3.5 kB)\r\n",
      "Requirement already satisfied: numpy in /opt/hostedtoolcache/Python/3.6.15/x64/lib/python3.6/site-packages (from mnist) (1.19.5)\r\n"
     ]
    },
    {
     "name": "stdout",
     "output_type": "stream",
     "text": [
      "Installing collected packages: mnist\r\n"
     ]
    },
    {
     "name": "stdout",
     "output_type": "stream",
     "text": [
      "Successfully installed mnist-0.2.2\r\n"
     ]
    }
   ],
   "source": [
    "!pip install mnist"
   ]
  },
  {
   "cell_type": "markdown",
   "id": "69df9c9a",
   "metadata": {
    "papermill": {
     "duration": 0.029471,
     "end_time": "2022-10-13T20:12:53.274119",
     "exception": false,
     "start_time": "2022-10-13T20:12:53.244648",
     "status": "completed"
    },
    "tags": []
   },
   "source": [
    "## Preparing the Data"
   ]
  },
  {
   "cell_type": "code",
   "execution_count": 4,
   "id": "7f69d806",
   "metadata": {
    "execution": {
     "iopub.execute_input": "2022-10-13T20:12:53.339980Z",
     "iopub.status.busy": "2022-10-13T20:12:53.338992Z",
     "iopub.status.idle": "2022-10-13T20:12:53.354056Z",
     "shell.execute_reply": "2022-10-13T20:12:53.354916Z"
    },
    "papermill": {
     "duration": 0.051856,
     "end_time": "2022-10-13T20:12:53.355101",
     "exception": false,
     "start_time": "2022-10-13T20:12:53.303245",
     "status": "completed"
    },
    "tags": []
   },
   "outputs": [],
   "source": [
    "import mnist"
   ]
  },
  {
   "cell_type": "code",
   "execution_count": 5,
   "id": "a411e44f",
   "metadata": {
    "execution": {
     "iopub.execute_input": "2022-10-13T20:12:53.424132Z",
     "iopub.status.busy": "2022-10-13T20:12:53.423392Z",
     "iopub.status.idle": "2022-10-13T20:12:54.022967Z",
     "shell.execute_reply": "2022-10-13T20:12:54.021810Z"
    },
    "papermill": {
     "duration": 0.636549,
     "end_time": "2022-10-13T20:12:54.023149",
     "exception": false,
     "start_time": "2022-10-13T20:12:53.386600",
     "status": "completed"
    },
    "tags": []
   },
   "outputs": [],
   "source": [
    "train_images = mnist.train_images()\n",
    "train_labels = mnist.train_labels()"
   ]
  },
  {
   "cell_type": "code",
   "execution_count": 6,
   "id": "dceab3a5",
   "metadata": {
    "execution": {
     "iopub.execute_input": "2022-10-13T20:12:54.093621Z",
     "iopub.status.busy": "2022-10-13T20:12:54.092920Z",
     "iopub.status.idle": "2022-10-13T20:12:54.107778Z",
     "shell.execute_reply": "2022-10-13T20:12:54.107233Z"
    },
    "papermill": {
     "duration": 0.054266,
     "end_time": "2022-10-13T20:12:54.107898",
     "exception": false,
     "start_time": "2022-10-13T20:12:54.053632",
     "status": "completed"
    },
    "tags": []
   },
   "outputs": [
    {
     "data": {
      "text/plain": [
       "((60000, 28, 28), (60000,))"
      ]
     },
     "execution_count": 6,
     "metadata": {},
     "output_type": "execute_result"
    }
   ],
   "source": [
    "train_images.shape, train_labels.shape"
   ]
  },
  {
   "cell_type": "code",
   "execution_count": 7,
   "id": "f50dc2bb",
   "metadata": {
    "execution": {
     "iopub.execute_input": "2022-10-13T20:12:54.171814Z",
     "iopub.status.busy": "2022-10-13T20:12:54.170953Z",
     "iopub.status.idle": "2022-10-13T20:12:54.447159Z",
     "shell.execute_reply": "2022-10-13T20:12:54.446568Z"
    },
    "papermill": {
     "duration": 0.3103,
     "end_time": "2022-10-13T20:12:54.447306",
     "exception": false,
     "start_time": "2022-10-13T20:12:54.137006",
     "status": "completed"
    },
    "tags": []
   },
   "outputs": [],
   "source": [
    "test_images = mnist.test_images()\n",
    "test_labels = mnist.test_labels()"
   ]
  },
  {
   "cell_type": "code",
   "execution_count": 8,
   "id": "fc38cf1b",
   "metadata": {
    "execution": {
     "iopub.execute_input": "2022-10-13T20:12:54.511890Z",
     "iopub.status.busy": "2022-10-13T20:12:54.511245Z",
     "iopub.status.idle": "2022-10-13T20:12:54.526941Z",
     "shell.execute_reply": "2022-10-13T20:12:54.526414Z"
    },
    "papermill": {
     "duration": 0.049179,
     "end_time": "2022-10-13T20:12:54.527049",
     "exception": false,
     "start_time": "2022-10-13T20:12:54.477870",
     "status": "completed"
    },
    "tags": []
   },
   "outputs": [
    {
     "data": {
      "text/plain": [
       "((10000, 28, 28), (10000,))"
      ]
     },
     "execution_count": 8,
     "metadata": {},
     "output_type": "execute_result"
    }
   ],
   "source": [
    "test_images.shape, test_labels.shape"
   ]
  },
  {
   "cell_type": "code",
   "execution_count": 9,
   "id": "f9ed8fe0",
   "metadata": {
    "execution": {
     "iopub.execute_input": "2022-10-13T20:12:54.596643Z",
     "iopub.status.busy": "2022-10-13T20:12:54.596000Z",
     "iopub.status.idle": "2022-10-13T20:12:54.767710Z",
     "shell.execute_reply": "2022-10-13T20:12:54.767024Z"
    },
    "papermill": {
     "duration": 0.209772,
     "end_time": "2022-10-13T20:12:54.767838",
     "exception": false,
     "start_time": "2022-10-13T20:12:54.558066",
     "status": "completed"
    },
    "tags": []
   },
   "outputs": [
    {
     "name": "stdout",
     "output_type": "stream",
     "text": [
      "2\n"
     ]
    },
    {
     "data": {
      "text/plain": [
       "<matplotlib.image.AxesImage at 0x7f2022794cc0>"
      ]
     },
     "execution_count": 9,
     "metadata": {},
     "output_type": "execute_result"
    },
    {
     "data": {
      "image/png": "[encoded data removed]",
      "text/plain": [
       "<Figure size 432x288 with 1 Axes>"
      ]
     },
     "metadata": {
      "needs_background": "light"
     },
     "output_type": "display_data"
    }
   ],
   "source": [
    "image_index = 7776 # You may select anything up to 60,000\n",
    "print(train_labels[image_index]) \n",
    "plt.imshow(train_images[image_index], cmap='Greys')"
   ]
  },
  {
   "cell_type": "markdown",
   "id": "a8d2388d",
   "metadata": {
    "papermill": {
     "duration": 0.033896,
     "end_time": "2022-10-13T20:12:54.832750",
     "exception": false,
     "start_time": "2022-10-13T20:12:54.798854",
     "status": "completed"
    },
    "tags": []
   },
   "source": [
    "## Filter data to get 3 and 8 out"
   ]
  },
  {
   "cell_type": "code",
   "execution_count": 10,
   "id": "776f7fc7",
   "metadata": {
    "execution": {
     "iopub.execute_input": "2022-10-13T20:12:54.899921Z",
     "iopub.status.busy": "2022-10-13T20:12:54.899240Z",
     "iopub.status.idle": "2022-10-13T20:12:54.918796Z",
     "shell.execute_reply": "2022-10-13T20:12:54.918221Z"
    },
    "papermill": {
     "duration": 0.055937,
     "end_time": "2022-10-13T20:12:54.918928",
     "exception": false,
     "start_time": "2022-10-13T20:12:54.862991",
     "status": "completed"
    },
    "tags": []
   },
   "outputs": [],
   "source": [
    "train_filter = np.where((train_labels == 3 ) | (train_labels == 8))\n",
    "test_filter = np.where((test_labels == 3) | (test_labels == 8))\n",
    "X_train, y_train = train_images[train_filter], train_labels[train_filter]\n",
    "X_test, y_test = test_images[test_filter], test_labels[test_filter]"
   ]
  },
  {
   "cell_type": "markdown",
   "id": "948f0b7e",
   "metadata": {
    "papermill": {
     "duration": 0.030758,
     "end_time": "2022-10-13T20:12:54.980030",
     "exception": false,
     "start_time": "2022-10-13T20:12:54.949272",
     "status": "completed"
    },
    "tags": []
   },
   "source": [
    "We normalize the pizel values in the 0 to 1 range"
   ]
  },
  {
   "cell_type": "code",
   "execution_count": 11,
   "id": "ee4c2166",
   "metadata": {
    "execution": {
     "iopub.execute_input": "2022-10-13T20:12:55.059972Z",
     "iopub.status.busy": "2022-10-13T20:12:55.057153Z",
     "iopub.status.idle": "2022-10-13T20:12:55.109573Z",
     "shell.execute_reply": "2022-10-13T20:12:55.108986Z"
    },
    "papermill": {
     "duration": 0.099102,
     "end_time": "2022-10-13T20:12:55.109709",
     "exception": false,
     "start_time": "2022-10-13T20:12:55.010607",
     "status": "completed"
    },
    "tags": []
   },
   "outputs": [],
   "source": [
    "X_train = X_train/255.\n",
    "X_test = X_test/255."
   ]
  },
  {
   "cell_type": "markdown",
   "id": "ddcf4fab",
   "metadata": {
    "papermill": {
     "duration": 0.033377,
     "end_time": "2022-10-13T20:12:55.178958",
     "exception": false,
     "start_time": "2022-10-13T20:12:55.145581",
     "status": "completed"
    },
    "tags": []
   },
   "source": [
    "And setup the labels as 1 (when the digit is 3) and 0 (when the digit is 8)"
   ]
  },
  {
   "cell_type": "code",
   "execution_count": 12,
   "id": "7dc908f2",
   "metadata": {
    "execution": {
     "iopub.execute_input": "2022-10-13T20:12:55.248632Z",
     "iopub.status.busy": "2022-10-13T20:12:55.247896Z",
     "iopub.status.idle": "2022-10-13T20:12:55.260020Z",
     "shell.execute_reply": "2022-10-13T20:12:55.260537Z"
    },
    "papermill": {
     "duration": 0.04946,
     "end_time": "2022-10-13T20:12:55.260682",
     "exception": false,
     "start_time": "2022-10-13T20:12:55.211222",
     "status": "completed"
    },
    "tags": []
   },
   "outputs": [],
   "source": [
    "y_train = 1*(y_train==3)\n",
    "y_test = 1*(y_test==3)"
   ]
  },
  {
   "cell_type": "code",
   "execution_count": 13,
   "id": "01e4e969",
   "metadata": {
    "execution": {
     "iopub.execute_input": "2022-10-13T20:12:55.332401Z",
     "iopub.status.busy": "2022-10-13T20:12:55.331680Z",
     "iopub.status.idle": "2022-10-13T20:12:55.342779Z",
     "shell.execute_reply": "2022-10-13T20:12:55.343329Z"
    },
    "papermill": {
     "duration": 0.049083,
     "end_time": "2022-10-13T20:12:55.343459",
     "exception": false,
     "start_time": "2022-10-13T20:12:55.294376",
     "status": "completed"
    },
    "tags": []
   },
   "outputs": [
    {
     "data": {
      "text/plain": [
       "((11982, 28, 28), (1984, 28, 28))"
      ]
     },
     "execution_count": 13,
     "metadata": {},
     "output_type": "execute_result"
    }
   ],
   "source": [
    "X_train.shape, X_test.shape"
   ]
  },
  {
   "cell_type": "markdown",
   "id": "5ccf3f85",
   "metadata": {
    "papermill": {
     "duration": 0.032046,
     "end_time": "2022-10-13T20:12:55.406289",
     "exception": false,
     "start_time": "2022-10-13T20:12:55.374243",
     "status": "completed"
    },
    "tags": []
   },
   "source": [
    "We reshape the data to flatten the image pixels into a set of features or co-variates:"
   ]
  },
  {
   "cell_type": "code",
   "execution_count": 14,
   "id": "5286a4a3",
   "metadata": {
    "execution": {
     "iopub.execute_input": "2022-10-13T20:12:55.479951Z",
     "iopub.status.busy": "2022-10-13T20:12:55.471232Z",
     "iopub.status.idle": "2022-10-13T20:12:55.486569Z",
     "shell.execute_reply": "2022-10-13T20:12:55.487118Z"
    },
    "papermill": {
     "duration": 0.050042,
     "end_time": "2022-10-13T20:12:55.487246",
     "exception": false,
     "start_time": "2022-10-13T20:12:55.437204",
     "status": "completed"
    },
    "tags": []
   },
   "outputs": [
    {
     "data": {
      "text/plain": [
       "((11982, 784), (1984, 784))"
      ]
     },
     "execution_count": 14,
     "metadata": {},
     "output_type": "execute_result"
    }
   ],
   "source": [
    "X_train = X_train.reshape(X_train.shape[0], -1)\n",
    "X_test = X_test.reshape(X_test.shape[0], -1)\n",
    "X_train.shape, X_test.shape"
   ]
  },
  {
   "cell_type": "code",
   "execution_count": 15,
   "id": "73c5f88a",
   "metadata": {
    "execution": {
     "iopub.execute_input": "2022-10-13T20:12:55.559599Z",
     "iopub.status.busy": "2022-10-13T20:12:55.553201Z",
     "iopub.status.idle": "2022-10-13T20:12:55.574571Z",
     "shell.execute_reply": "2022-10-13T20:12:55.574031Z"
    },
    "papermill": {
     "duration": 0.056742,
     "end_time": "2022-10-13T20:12:55.574681",
     "exception": false,
     "start_time": "2022-10-13T20:12:55.517939",
     "status": "completed"
    },
    "tags": []
   },
   "outputs": [],
   "source": [
    "#Impoting functions from 'Kudzu'\n",
    "from kudzu.model import Model\n",
    "from kudzu.train import Learner\n",
    "from kudzu.optim import GD\n",
    "from kudzu.data import Data, Sampler,Dataloader\n",
    "\n",
    "from kudzu.callbacks import AccCallback\n",
    "from kudzu.callbacks import ClfCallback\n",
    "\n",
    "from kudzu.loss import MSE\n",
    "\n",
    "from kudzu.layer import Sigmoid,Relu\n",
    "from kudzu.layer import Affine"
   ]
  },
  {
   "cell_type": "markdown",
   "id": "bc01172a",
   "metadata": {
    "papermill": {
     "duration": 0.030991,
     "end_time": "2022-10-13T20:12:55.636477",
     "exception": false,
     "start_time": "2022-10-13T20:12:55.605486",
     "status": "completed"
    },
    "tags": []
   },
   "source": [
    "### Let us create a `Config` class, to store important parameters. \n",
    "This class essentially plays the role of a dictionary."
   ]
  },
  {
   "cell_type": "code",
   "execution_count": 16,
   "id": "978281aa",
   "metadata": {
    "execution": {
     "iopub.execute_input": "2022-10-13T20:12:55.712416Z",
     "iopub.status.busy": "2022-10-13T20:12:55.710579Z",
     "iopub.status.idle": "2022-10-13T20:12:55.719990Z",
     "shell.execute_reply": "2022-10-13T20:12:55.720511Z"
    },
    "papermill": {
     "duration": 0.051784,
     "end_time": "2022-10-13T20:12:55.720639",
     "exception": false,
     "start_time": "2022-10-13T20:12:55.668855",
     "status": "completed"
    },
    "tags": []
   },
   "outputs": [],
   "source": [
    "class Config:\n",
    "    pass\n",
    "config = Config()\n",
    "config.lr = 0.001\n",
    "config.num_epochs = 250\n",
    "config.bs = 50"
   ]
  },
  {
   "cell_type": "markdown",
   "id": "1385fa59",
   "metadata": {
    "papermill": {
     "duration": 0.032989,
     "end_time": "2022-10-13T20:12:55.783984",
     "exception": false,
     "start_time": "2022-10-13T20:12:55.750995",
     "status": "completed"
    },
    "tags": []
   },
   "source": [
    "### Running Models with the Training data\n",
    "Details about the network layers:\n",
    "- A first affine layer has 784 inputs and does 100 affine transforms. These are followed by a Relu\n",
    "- A second affine layer has 100 inputs from the 100 activations of the past layer, and does 100 affine transforms. These are followed by a Relu\n",
    "- A third affine layer has 100 activations and does 2 affine transformations to create an embedding for visualization. There is no non-linearity here.\n",
    "- A final \"logistic regression\" which has an affine transform from 2 inputs to 1 output, which is squeezed through a sigmoid.\n"
   ]
  },
  {
   "cell_type": "code",
   "execution_count": 17,
   "id": "2b9c66db",
   "metadata": {
    "execution": {
     "iopub.execute_input": "2022-10-13T20:12:55.864494Z",
     "iopub.status.busy": "2022-10-13T20:12:55.858775Z",
     "iopub.status.idle": "2022-10-13T20:12:55.870078Z",
     "shell.execute_reply": "2022-10-13T20:12:55.869541Z"
    },
    "papermill": {
     "duration": 0.053133,
     "end_time": "2022-10-13T20:12:55.870191",
     "exception": false,
     "start_time": "2022-10-13T20:12:55.817058",
     "status": "completed"
    },
    "tags": []
   },
   "outputs": [],
   "source": [
    "data = Data(X_train, y_train.reshape(-1,1))\n",
    "sampler = Sampler(data, config.bs, shuffle=True)\n",
    "\n",
    "dl = Dataloader(data, sampler)\n",
    "\n",
    "opt = GD(config.lr)\n",
    "loss = MSE()"
   ]
  },
  {
   "cell_type": "code",
   "execution_count": 18,
   "id": "b275e4c2",
   "metadata": {
    "execution": {
     "iopub.execute_input": "2022-10-13T20:12:55.946171Z",
     "iopub.status.busy": "2022-10-13T20:12:55.945505Z",
     "iopub.status.idle": "2022-10-13T20:12:55.956730Z",
     "shell.execute_reply": "2022-10-13T20:12:55.956188Z"
    },
    "papermill": {
     "duration": 0.051481,
     "end_time": "2022-10-13T20:12:55.956848",
     "exception": false,
     "start_time": "2022-10-13T20:12:55.905367",
     "status": "completed"
    },
    "tags": []
   },
   "outputs": [],
   "source": [
    "training_data_x = X_train\n",
    "testing_data_x = X_test\n",
    "training_data_y = y_train.reshape(-1,1)\n",
    "testing_data_y = y_test.reshape(-1,1)"
   ]
  },
  {
   "cell_type": "code",
   "execution_count": 19,
   "id": "76951160",
   "metadata": {
    "execution": {
     "iopub.execute_input": "2022-10-13T20:12:56.025261Z",
     "iopub.status.busy": "2022-10-13T20:12:56.024585Z",
     "iopub.status.idle": "2022-10-13T20:12:56.041338Z",
     "shell.execute_reply": "2022-10-13T20:12:56.040794Z"
    },
    "papermill": {
     "duration": 0.052011,
     "end_time": "2022-10-13T20:12:56.041450",
     "exception": false,
     "start_time": "2022-10-13T20:12:55.989439",
     "status": "completed"
    },
    "tags": []
   },
   "outputs": [
    {
     "name": "stdout",
     "output_type": "stream",
     "text": [
      "xavier\n",
      "xavier\n",
      "xavier\n",
      "xavier\n",
      "xavier\n"
     ]
    }
   ],
   "source": [
    "layers = [Affine(\"first\", 784, 100), Relu(\"first\"), Affine(\"second\", 100, 100), Relu(\"second\"), Affine(\"third\", 100, 2), Affine(\"last\", 2, 1), Sigmoid(\"last\")]\n",
    "model_nn = Model(layers)\n",
    "model_lr = Model([Affine(\"logits\", 784, 1), Sigmoid(\"sigmoid\")])"
   ]
  },
  {
   "cell_type": "code",
   "execution_count": 20,
   "id": "6eede77a",
   "metadata": {
    "execution": {
     "iopub.execute_input": "2022-10-13T20:12:56.114379Z",
     "iopub.status.busy": "2022-10-13T20:12:56.113728Z",
     "iopub.status.idle": "2022-10-13T20:12:56.124788Z",
     "shell.execute_reply": "2022-10-13T20:12:56.124252Z"
    },
    "papermill": {
     "duration": 0.05172,
     "end_time": "2022-10-13T20:12:56.124898",
     "exception": false,
     "start_time": "2022-10-13T20:12:56.073178",
     "status": "completed"
    },
    "tags": []
   },
   "outputs": [],
   "source": [
    "nn_learner = Learner(loss, model_nn, opt, config.num_epochs)\n",
    "acc_nn = ClfCallback(nn_learner, config.bs, training_data_x , testing_data_x, training_data_y, testing_data_y)\n",
    "nn_learner.set_callbacks([acc_nn])"
   ]
  },
  {
   "cell_type": "code",
   "execution_count": 21,
   "id": "877b6cc7",
   "metadata": {
    "execution": {
     "iopub.execute_input": "2022-10-13T20:12:56.194679Z",
     "iopub.status.busy": "2022-10-13T20:12:56.194023Z",
     "iopub.status.idle": "2022-10-13T20:12:56.205366Z",
     "shell.execute_reply": "2022-10-13T20:12:56.205866Z"
    },
    "papermill": {
     "duration": 0.050127,
     "end_time": "2022-10-13T20:12:56.205997",
     "exception": false,
     "start_time": "2022-10-13T20:12:56.155870",
     "status": "completed"
    },
    "tags": []
   },
   "outputs": [],
   "source": [
    "lr_learner = Learner(loss, model_lr, opt, config.num_epochs)\n",
    "acc_lr = ClfCallback(lr_learner, config.bs, training_data_x , testing_data_x, training_data_y, testing_data_y)\n",
    "lr_learner.set_callbacks([acc_lr])"
   ]
  },
  {
   "cell_type": "code",
   "execution_count": 22,
   "id": "d9b133c3",
   "metadata": {
    "execution": {
     "iopub.execute_input": "2022-10-13T20:12:56.274200Z",
     "iopub.status.busy": "2022-10-13T20:12:56.273292Z",
     "iopub.status.idle": "2022-10-13T20:15:02.357343Z",
     "shell.execute_reply": "2022-10-13T20:15:02.357891Z"
    },
    "papermill": {
     "duration": 126.119894,
     "end_time": "2022-10-13T20:15:02.358060",
     "exception": false,
     "start_time": "2022-10-13T20:12:56.238166",
     "status": "completed"
    },
    "tags": []
   },
   "outputs": [
    {
     "name": "stdout",
     "output_type": "stream",
     "text": [
      "Epoch 0, Loss 0.2667\n",
      "Training Accuracy: 0.6648, Testing Accuracy: 0.6668\n",
      "\n"
     ]
    },
    {
     "name": "stdout",
     "output_type": "stream",
     "text": [
      "Epoch 10, Loss 0.061\n",
      "Training Accuracy: 0.9377, Testing Accuracy: 0.9511\n",
      "\n"
     ]
    },
    {
     "name": "stdout",
     "output_type": "stream",
     "text": [
      "Epoch 20, Loss 0.0416\n",
      "Training Accuracy: 0.9553, Testing Accuracy: 0.9632\n",
      "\n"
     ]
    },
    {
     "name": "stdout",
     "output_type": "stream",
     "text": [
      "Epoch 30, Loss 0.0347\n",
      "Training Accuracy: 0.9621, Testing Accuracy: 0.9693\n",
      "\n"
     ]
    },
    {
     "name": "stdout",
     "output_type": "stream",
     "text": [
      "Epoch 40, Loss 0.0309\n",
      "Training Accuracy: 0.9645, Testing Accuracy: 0.9703\n",
      "\n"
     ]
    },
    {
     "name": "stdout",
     "output_type": "stream",
     "text": [
      "Epoch 50, Loss 0.0285\n",
      "Training Accuracy: 0.9668, Testing Accuracy: 0.9703\n",
      "\n"
     ]
    },
    {
     "name": "stdout",
     "output_type": "stream",
     "text": [
      "Epoch 60, Loss 0.0268\n",
      "Training Accuracy: 0.9692, Testing Accuracy: 0.9703\n",
      "\n"
     ]
    },
    {
     "name": "stdout",
     "output_type": "stream",
     "text": [
      "Epoch 70, Loss 0.0254\n",
      "Training Accuracy: 0.9706, Testing Accuracy: 0.9713\n",
      "\n"
     ]
    },
    {
     "name": "stdout",
     "output_type": "stream",
     "text": [
      "Epoch 80, Loss 0.0243\n",
      "Training Accuracy: 0.9720, Testing Accuracy: 0.9718\n",
      "\n"
     ]
    },
    {
     "name": "stdout",
     "output_type": "stream",
     "text": [
      "Epoch 90, Loss 0.0234\n",
      "Training Accuracy: 0.9725, Testing Accuracy: 0.9723\n",
      "\n"
     ]
    },
    {
     "name": "stdout",
     "output_type": "stream",
     "text": [
      "Epoch 100, Loss 0.0226\n",
      "Training Accuracy: 0.9735, Testing Accuracy: 0.9733\n",
      "\n"
     ]
    },
    {
     "name": "stdout",
     "output_type": "stream",
     "text": [
      "Epoch 110, Loss 0.0218\n",
      "Training Accuracy: 0.9740, Testing Accuracy: 0.9738\n",
      "\n"
     ]
    },
    {
     "name": "stdout",
     "output_type": "stream",
     "text": [
      "Epoch 120, Loss 0.0212\n",
      "Training Accuracy: 0.9750, Testing Accuracy: 0.9738\n",
      "\n"
     ]
    },
    {
     "name": "stdout",
     "output_type": "stream",
     "text": [
      "Epoch 130, Loss 0.0205\n",
      "Training Accuracy: 0.9757, Testing Accuracy: 0.9743\n",
      "\n"
     ]
    },
    {
     "name": "stdout",
     "output_type": "stream",
     "text": [
      "Epoch 140, Loss 0.02\n",
      "Training Accuracy: 0.9769, Testing Accuracy: 0.9743\n",
      "\n"
     ]
    },
    {
     "name": "stdout",
     "output_type": "stream",
     "text": [
      "Epoch 150, Loss 0.0194\n",
      "Training Accuracy: 0.9770, Testing Accuracy: 0.9738\n",
      "\n"
     ]
    },
    {
     "name": "stdout",
     "output_type": "stream",
     "text": [
      "Epoch 160, Loss 0.0189\n",
      "Training Accuracy: 0.9780, Testing Accuracy: 0.9743\n",
      "\n"
     ]
    },
    {
     "name": "stdout",
     "output_type": "stream",
     "text": [
      "Epoch 170, Loss 0.0184\n",
      "Training Accuracy: 0.9786, Testing Accuracy: 0.9748\n",
      "\n"
     ]
    },
    {
     "name": "stdout",
     "output_type": "stream",
     "text": [
      "Epoch 180, Loss 0.018\n",
      "Training Accuracy: 0.9792, Testing Accuracy: 0.9758\n",
      "\n"
     ]
    },
    {
     "name": "stdout",
     "output_type": "stream",
     "text": [
      "Epoch 190, Loss 0.0175\n",
      "Training Accuracy: 0.9793, Testing Accuracy: 0.9753\n",
      "\n"
     ]
    },
    {
     "name": "stdout",
     "output_type": "stream",
     "text": [
      "Epoch 200, Loss 0.0171\n",
      "Training Accuracy: 0.9806, Testing Accuracy: 0.9758\n",
      "\n"
     ]
    },
    {
     "name": "stdout",
     "output_type": "stream",
     "text": [
      "Epoch 210, Loss 0.0167\n",
      "Training Accuracy: 0.9814, Testing Accuracy: 0.9773\n",
      "\n"
     ]
    },
    {
     "name": "stdout",
     "output_type": "stream",
     "text": [
      "Epoch 220, Loss 0.0163\n",
      "Training Accuracy: 0.9818, Testing Accuracy: 0.9778\n",
      "\n"
     ]
    },
    {
     "name": "stdout",
     "output_type": "stream",
     "text": [
      "Epoch 230, Loss 0.016\n",
      "Training Accuracy: 0.9826, Testing Accuracy: 0.9778\n",
      "\n"
     ]
    },
    {
     "name": "stdout",
     "output_type": "stream",
     "text": [
      "Epoch 240, Loss 0.0156\n",
      "Training Accuracy: 0.9832, Testing Accuracy: 0.9793\n",
      "\n"
     ]
    },
    {
     "data": {
      "text/plain": [
       "0.038952957363440115"
      ]
     },
     "execution_count": 22,
     "metadata": {},
     "output_type": "execute_result"
    }
   ],
   "source": [
    "nn_learner.train_loop(dl)"
   ]
  },
  {
   "cell_type": "code",
   "execution_count": 23,
   "id": "e0163366",
   "metadata": {
    "execution": {
     "iopub.execute_input": "2022-10-13T20:15:02.460960Z",
     "iopub.status.busy": "2022-10-13T20:15:02.460209Z",
     "iopub.status.idle": "2022-10-13T20:15:20.589178Z",
     "shell.execute_reply": "2022-10-13T20:15:20.590262Z"
    },
    "papermill": {
     "duration": 18.189987,
     "end_time": "2022-10-13T20:15:20.590439",
     "exception": false,
     "start_time": "2022-10-13T20:15:02.400452",
     "status": "completed"
    },
    "tags": []
   },
   "outputs": [
    {
     "name": "stdout",
     "output_type": "stream",
     "text": [
      "Epoch 0, Loss 0.2301\n",
      "Training Accuracy: 0.7294, Testing Accuracy: 0.7137\n",
      "\n"
     ]
    },
    {
     "name": "stdout",
     "output_type": "stream",
     "text": [
      "Epoch 10, Loss 0.1024\n",
      "Training Accuracy: 0.9087, Testing Accuracy: 0.9168\n",
      "\n"
     ]
    },
    {
     "name": "stdout",
     "output_type": "stream",
     "text": [
      "Epoch 20, Loss 0.0787\n",
      "Training Accuracy: 0.9286, Testing Accuracy: 0.9405\n",
      "\n"
     ]
    },
    {
     "name": "stdout",
     "output_type": "stream",
     "text": [
      "Epoch 30, Loss 0.0677\n",
      "Training Accuracy: 0.9379, Testing Accuracy: 0.9486\n",
      "\n"
     ]
    },
    {
     "name": "stdout",
     "output_type": "stream",
     "text": [
      "Epoch 40, Loss 0.0611\n",
      "Training Accuracy: 0.9417, Testing Accuracy: 0.9551\n",
      "\n"
     ]
    },
    {
     "name": "stdout",
     "output_type": "stream",
     "text": [
      "Epoch 50, Loss 0.0566\n",
      "Training Accuracy: 0.9461, Testing Accuracy: 0.9577\n",
      "\n"
     ]
    },
    {
     "name": "stdout",
     "output_type": "stream",
     "text": [
      "Epoch 60, Loss 0.0533\n",
      "Training Accuracy: 0.9483, Testing Accuracy: 0.9587\n",
      "\n"
     ]
    },
    {
     "name": "stdout",
     "output_type": "stream",
     "text": [
      "Epoch 70, Loss 0.0507\n",
      "Training Accuracy: 0.9496, Testing Accuracy: 0.9587\n",
      "\n"
     ]
    },
    {
     "name": "stdout",
     "output_type": "stream",
     "text": [
      "Epoch 80, Loss 0.0487\n",
      "Training Accuracy: 0.9518, Testing Accuracy: 0.9612\n",
      "\n"
     ]
    },
    {
     "name": "stdout",
     "output_type": "stream",
     "text": [
      "Epoch 90, Loss 0.047\n",
      "Training Accuracy: 0.9535, Testing Accuracy: 0.9632\n",
      "\n"
     ]
    },
    {
     "name": "stdout",
     "output_type": "stream",
     "text": [
      "Epoch 100, Loss 0.0456\n",
      "Training Accuracy: 0.9543, Testing Accuracy: 0.9647\n",
      "\n"
     ]
    },
    {
     "name": "stdout",
     "output_type": "stream",
     "text": [
      "Epoch 110, Loss 0.0444\n",
      "Training Accuracy: 0.9552, Testing Accuracy: 0.9652\n",
      "\n"
     ]
    },
    {
     "name": "stdout",
     "output_type": "stream",
     "text": [
      "Epoch 120, Loss 0.0433\n",
      "Training Accuracy: 0.9562, Testing Accuracy: 0.9652\n",
      "\n"
     ]
    },
    {
     "name": "stdout",
     "output_type": "stream",
     "text": [
      "Epoch 130, Loss 0.0424\n",
      "Training Accuracy: 0.9571, Testing Accuracy: 0.9657\n",
      "\n"
     ]
    },
    {
     "name": "stdout",
     "output_type": "stream",
     "text": [
      "Epoch 140, Loss 0.0416\n",
      "Training Accuracy: 0.9577, Testing Accuracy: 0.9662\n",
      "\n"
     ]
    },
    {
     "name": "stdout",
     "output_type": "stream",
     "text": [
      "Epoch 150, Loss 0.0409\n",
      "Training Accuracy: 0.9578, Testing Accuracy: 0.9657\n",
      "\n"
     ]
    },
    {
     "name": "stdout",
     "output_type": "stream",
     "text": [
      "Epoch 160, Loss 0.0402\n",
      "Training Accuracy: 0.9583, Testing Accuracy: 0.9652\n",
      "\n"
     ]
    },
    {
     "name": "stdout",
     "output_type": "stream",
     "text": [
      "Epoch 170, Loss 0.0396\n",
      "Training Accuracy: 0.9587, Testing Accuracy: 0.9657\n",
      "\n"
     ]
    },
    {
     "name": "stdout",
     "output_type": "stream",
     "text": [
      "Epoch 180, Loss 0.039\n",
      "Training Accuracy: 0.9594, Testing Accuracy: 0.9662\n",
      "\n"
     ]
    },
    {
     "name": "stdout",
     "output_type": "stream",
     "text": [
      "Epoch 190, Loss 0.0385\n",
      "Training Accuracy: 0.9597, Testing Accuracy: 0.9657\n",
      "\n"
     ]
    },
    {
     "name": "stdout",
     "output_type": "stream",
     "text": [
      "Epoch 200, Loss 0.0381\n",
      "Training Accuracy: 0.9598, Testing Accuracy: 0.9657\n",
      "\n"
     ]
    },
    {
     "name": "stdout",
     "output_type": "stream",
     "text": [
      "Epoch 210, Loss 0.0376\n",
      "Training Accuracy: 0.9600, Testing Accuracy: 0.9667\n",
      "\n"
     ]
    },
    {
     "name": "stdout",
     "output_type": "stream",
     "text": [
      "Epoch 220, Loss 0.0372\n",
      "Training Accuracy: 0.9605, Testing Accuracy: 0.9667\n",
      "\n"
     ]
    },
    {
     "name": "stdout",
     "output_type": "stream",
     "text": [
      "Epoch 230, Loss 0.0368\n",
      "Training Accuracy: 0.9608, Testing Accuracy: 0.9672\n",
      "\n"
     ]
    },
    {
     "name": "stdout",
     "output_type": "stream",
     "text": [
      "Epoch 240, Loss 0.0365\n",
      "Training Accuracy: 0.9610, Testing Accuracy: 0.9672\n",
      "\n"
     ]
    },
    {
     "data": {
      "text/plain": [
       "0.06846557001546667"
      ]
     },
     "execution_count": 23,
     "metadata": {},
     "output_type": "execute_result"
    }
   ],
   "source": [
    "lr_learner.train_loop(dl)"
   ]
  },
  {
   "cell_type": "code",
   "execution_count": 24,
   "id": "ca410940",
   "metadata": {
    "execution": {
     "iopub.execute_input": "2022-10-13T20:15:20.696747Z",
     "iopub.status.busy": "2022-10-13T20:15:20.695861Z",
     "iopub.status.idle": "2022-10-13T20:15:20.984329Z",
     "shell.execute_reply": "2022-10-13T20:15:20.983756Z"
    },
    "papermill": {
     "duration": 0.342897,
     "end_time": "2022-10-13T20:15:20.984466",
     "exception": false,
     "start_time": "2022-10-13T20:15:20.641569",
     "status": "completed"
    },
    "tags": []
   },
   "outputs": [
    {
     "data": {
      "text/plain": [
       "<matplotlib.legend.Legend at 0x7f2015b58470>"
      ]
     },
     "execution_count": 24,
     "metadata": {},
     "output_type": "execute_result"
    },
    {
     "data": {
      "image/png": "[encoded data removed]",
      "text/plain": [
       "<Figure size 1080x720 with 1 Axes>"
      ]
     },
     "metadata": {
      "needs_background": "light"
     },
     "output_type": "display_data"
    }
   ],
   "source": [
    "#comparing the results of NN and LR\n",
    "plt.figure(figsize=(15,10))\n",
    "\n",
    "# Neural Network plots\n",
    "plt.plot(acc_nn.accuracies, 'r-', label = \"Training Accuracies - NN\")\n",
    "plt.plot(acc_nn.test_accuracies, 'g-', label = \"Testing Accuracies - NN\")\n",
    "\n",
    "# Logistic Regression plots\n",
    "plt.plot(acc_lr.accuracies, 'k-', label = \"Training Accuracies - LR\")\n",
    "plt.plot(acc_lr.test_accuracies, 'b-', label = \"Testing Accuracies - LR\")\n",
    "plt.legend()"
   ]
  },
  {
   "cell_type": "markdown",
   "id": "80dfb35c",
   "metadata": {
    "papermill": {
     "duration": 0.054009,
     "end_time": "2022-10-13T20:15:21.091199",
     "exception": false,
     "start_time": "2022-10-13T20:15:21.037190",
     "status": "completed"
    },
    "tags": []
   },
   "source": [
    "#### Plotting the outputs of this layer of the NN.\n"
   ]
  },
  {
   "cell_type": "code",
   "execution_count": 25,
   "id": "45eb2ff5",
   "metadata": {
    "execution": {
     "iopub.execute_input": "2022-10-13T20:15:21.205214Z",
     "iopub.status.busy": "2022-10-13T20:15:21.204132Z",
     "iopub.status.idle": "2022-10-13T20:15:21.227819Z",
     "shell.execute_reply": "2022-10-13T20:15:21.228681Z"
    },
    "papermill": {
     "duration": 0.087556,
     "end_time": "2022-10-13T20:15:21.228868",
     "exception": false,
     "start_time": "2022-10-13T20:15:21.141312",
     "status": "completed"
    },
    "tags": []
   },
   "outputs": [],
   "source": [
    "new_model = Model(layers[:-2])\n",
    "testing_plot = new_model(testing_data_x)"
   ]
  },
  {
   "cell_type": "code",
   "execution_count": 26,
   "id": "4c0a5485",
   "metadata": {
    "execution": {
     "iopub.execute_input": "2022-10-13T20:15:21.340837Z",
     "iopub.status.busy": "2022-10-13T20:15:21.340176Z",
     "iopub.status.idle": "2022-10-13T20:15:21.600432Z",
     "shell.execute_reply": "2022-10-13T20:15:21.600936Z"
    },
    "papermill": {
     "duration": 0.31731,
     "end_time": "2022-10-13T20:15:21.601093",
     "exception": false,
     "start_time": "2022-10-13T20:15:21.283783",
     "status": "completed"
    },
    "tags": []
   },
   "outputs": [
    {
     "data": {
      "text/plain": [
       "Text(0.5, 1.0, 'Outputs')"
      ]
     },
     "execution_count": 26,
     "metadata": {},
     "output_type": "execute_result"
    },
    {
     "data": {
      "image/png": "[encoded data removed]",
      "text/plain": [
       "<Figure size 576x504 with 1 Axes>"
      ]
     },
     "metadata": {
      "needs_background": "light"
     },
     "output_type": "display_data"
    }
   ],
   "source": [
    "# Plotting the scatter plot of points and color coding by class\n",
    "plt.figure(figsize=(8,7))\n",
    "plt.scatter(testing_plot[:,0], testing_plot[:,1], alpha = 0.1, c = y_test.ravel());\n",
    "plt.title('Outputs')"
   ]
  },
  {
   "cell_type": "markdown",
   "id": "a74fcf8f",
   "metadata": {
    "papermill": {
     "duration": 0.074233,
     "end_time": "2022-10-13T20:15:21.728766",
     "exception": false,
     "start_time": "2022-10-13T20:15:21.654533",
     "status": "completed"
    },
    "tags": []
   },
   "source": [
    "Probability contours"
   ]
  },
  {
   "cell_type": "code",
   "execution_count": 27,
   "id": "d0afc8e3",
   "metadata": {
    "execution": {
     "iopub.execute_input": "2022-10-13T20:15:21.852950Z",
     "iopub.status.busy": "2022-10-13T20:15:21.844010Z",
     "iopub.status.idle": "2022-10-13T20:15:21.857219Z",
     "shell.execute_reply": "2022-10-13T20:15:21.856677Z"
    },
    "papermill": {
     "duration": 0.075075,
     "end_time": "2022-10-13T20:15:21.857337",
     "exception": false,
     "start_time": "2022-10-13T20:15:21.782262",
     "status": "completed"
    },
    "tags": []
   },
   "outputs": [],
   "source": [
    "model_prob = Model(layers[-2:]) "
   ]
  },
  {
   "cell_type": "code",
   "execution_count": 28,
   "id": "9b96e238",
   "metadata": {
    "execution": {
     "iopub.execute_input": "2022-10-13T20:15:21.968512Z",
     "iopub.status.busy": "2022-10-13T20:15:21.967854Z",
     "iopub.status.idle": "2022-10-13T20:15:21.981938Z",
     "shell.execute_reply": "2022-10-13T20:15:21.982518Z"
    },
    "papermill": {
     "duration": 0.070303,
     "end_time": "2022-10-13T20:15:21.982676",
     "exception": false,
     "start_time": "2022-10-13T20:15:21.912373",
     "status": "completed"
    },
    "tags": []
   },
   "outputs": [],
   "source": [
    "#creating the x and y ranges according to the above generated plot.\n",
    "x_range = np.linspace(-4, 1, 100) \n",
    "y_range = np.linspace(-6, 6, 100) \n",
    "x_grid, y_grid = np.meshgrid(x_range, y_range) # x_grid and y_grig are of size 100 X 100\n",
    "\n",
    "# converting x_grid and y_grid to continuous arrays\n",
    "x_gridflat = np.ravel(x_grid)\n",
    "y_gridflat = np.ravel(y_grid)\n",
    "\n",
    "# The last layer of the current model takes two columns as input. Hence transpose of np.vstack() is required.\n",
    "X = np.vstack((x_gridflat, y_gridflat)).T\n",
    "\n",
    "prob_contour = model_prob(X).reshape(100,100) "
   ]
  },
  {
   "cell_type": "code",
   "execution_count": 29,
   "id": "da72499a",
   "metadata": {
    "execution": {
     "iopub.execute_input": "2022-10-13T20:15:22.097922Z",
     "iopub.status.busy": "2022-10-13T20:15:22.097184Z",
     "iopub.status.idle": "2022-10-13T20:15:22.392751Z",
     "shell.execute_reply": "2022-10-13T20:15:22.393342Z"
    },
    "papermill": {
     "duration": 0.358476,
     "end_time": "2022-10-13T20:15:22.393570",
     "exception": false,
     "start_time": "2022-10-13T20:15:22.035094",
     "status": "completed"
    },
    "tags": []
   },
   "outputs": [
    {
     "data": {
      "image/png": "[encoded data removed]",
      "text/plain": [
       "<Figure size 720x648 with 1 Axes>"
      ]
     },
     "metadata": {
      "needs_background": "light"
     },
     "output_type": "display_data"
    }
   ],
   "source": [
    "plt.figure(figsize=(10,9))\n",
    "plt.scatter(testing_plot[:,0], testing_plot[:,1], alpha = 0.1, c = y_test.ravel())\n",
    "contours = plt.contour(x_grid,y_grid,prob_contour)\n",
    "plt.title('Probability Contours')\n",
    "plt.clabel(contours, inline = True );"
   ]
  },
  {
   "cell_type": "code",
   "execution_count": null,
   "id": "e81b4ac7",
   "metadata": {
    "papermill": {
     "duration": 0.054477,
     "end_time": "2022-10-13T20:15:22.504010",
     "exception": false,
     "start_time": "2022-10-13T20:15:22.449533",
     "status": "completed"
    },
    "tags": []
   },
   "outputs": [],
   "source": []
  }
 ],
 "metadata": {
  "kernelspec": {
   "display_name": "Python 3",
   "language": "python",
   "name": "python3"
  },
  "language_info": {
   "codemirror_mode": {
    "name": "ipython",
    "version": 3
   },
   "file_extension": ".py",
   "mimetype": "text/x-python",
   "name": "python",
   "nbconvert_exporter": "python",
   "pygments_lexer": "ipython3",
   "version": "3.6.15"
  },
  "papermill": {
   "default_parameters": {},
   "duration": 153.975142,
   "end_time": "2022-10-13T20:15:22.980142",
   "environment_variables": {},
   "exception": null,
   "input_path": "2020-08-11-part2.ipynb",
   "output_path": "2020-08-11-part2.ipynb",
   "parameters": {},
   "start_time": "2022-10-13T20:12:49.005000",
   "version": "2.3.3"
  }
 },
 "nbformat": 4,
 "nbformat_minor": 5
}