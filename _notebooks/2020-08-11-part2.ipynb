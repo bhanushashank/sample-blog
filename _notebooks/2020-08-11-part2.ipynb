{
 "cells": [
  {
   "cell_type": "markdown",
   "id": "98380cd3",
   "metadata": {
    "papermill": {
     "duration": 0.027475,
     "end_time": "2022-03-29T00:36:47.023244",
     "exception": false,
     "start_time": "2022-03-29T00:36:46.995769",
     "status": "completed"
    },
    "tags": []
   },
   "source": [
    "# Distinguish Your Own Digits (DYOD)"
   ]
  },
  {
   "cell_type": "markdown",
   "id": "ef31240d",
   "metadata": {
    "papermill": {
     "duration": 0.024933,
     "end_time": "2022-03-29T00:36:47.072545",
     "exception": false,
     "start_time": "2022-03-29T00:36:47.047612",
     "status": "completed"
    },
    "tags": []
   },
   "source": [
    "You are going to write a classifier that distinguishes between the number 3 and number 8."
   ]
  },
  {
   "cell_type": "code",
   "execution_count": 1,
   "id": "b15c8646",
   "metadata": {
    "execution": {
     "iopub.execute_input": "2022-03-29T00:36:47.130702Z",
     "iopub.status.busy": "2022-03-29T00:36:47.130124Z",
     "iopub.status.idle": "2022-03-29T00:36:47.140551Z",
     "shell.execute_reply": "2022-03-29T00:36:47.140968Z"
    },
    "papermill": {
     "duration": 0.044943,
     "end_time": "2022-03-29T00:36:47.141105",
     "exception": false,
     "start_time": "2022-03-29T00:36:47.096162",
     "status": "completed"
    },
    "tags": []
   },
   "outputs": [],
   "source": [
    "%load_ext autoreload\n",
    "%autoreload 2"
   ]
  },
  {
   "cell_type": "code",
   "execution_count": 2,
   "id": "22ef38dc",
   "metadata": {
    "execution": {
     "iopub.execute_input": "2022-03-29T00:36:47.199313Z",
     "iopub.status.busy": "2022-03-29T00:36:47.198803Z",
     "iopub.status.idle": "2022-03-29T00:36:47.761065Z",
     "shell.execute_reply": "2022-03-29T00:36:47.760526Z"
    },
    "papermill": {
     "duration": 0.596352,
     "end_time": "2022-03-29T00:36:47.761202",
     "exception": false,
     "start_time": "2022-03-29T00:36:47.164850",
     "status": "completed"
    },
    "tags": []
   },
   "outputs": [],
   "source": [
    "%matplotlib inline\n",
    "import numpy as np\n",
    "import matplotlib.pyplot as plt\n",
    "import pandas as pd"
   ]
  },
  {
   "cell_type": "markdown",
   "id": "ba036198",
   "metadata": {
    "papermill": {
     "duration": 0.024011,
     "end_time": "2022-03-29T00:36:47.810642",
     "exception": false,
     "start_time": "2022-03-29T00:36:47.786631",
     "status": "completed"
    },
    "tags": []
   },
   "source": [
    "From the command line run `pip install mnist`. This is a library that will help you bring down the mnist dataset. If you run this from a notebook, you need to put  `!pip install mnist` in a cell by itself."
   ]
  },
  {
   "cell_type": "code",
   "execution_count": 3,
   "id": "bb6ad8a1",
   "metadata": {
    "execution": {
     "iopub.execute_input": "2022-03-29T00:36:47.874927Z",
     "iopub.status.busy": "2022-03-29T00:36:47.868001Z",
     "iopub.status.idle": "2022-03-29T00:36:49.600033Z",
     "shell.execute_reply": "2022-03-29T00:36:49.598774Z"
    },
    "papermill": {
     "duration": 1.765701,
     "end_time": "2022-03-29T00:36:49.600181",
     "exception": false,
     "start_time": "2022-03-29T00:36:47.834480",
     "status": "completed"
    },
    "tags": []
   },
   "outputs": [
    {
     "name": "stdout",
     "output_type": "stream",
     "text": [
      "Collecting mnist\r\n"
     ]
    },
    {
     "name": "stdout",
     "output_type": "stream",
     "text": [
      "  Downloading mnist-0.2.2-py2.py3-none-any.whl (3.5 kB)\r\n",
      "Requirement already satisfied: numpy in /opt/hostedtoolcache/Python/3.6.15/x64/lib/python3.6/site-packages (from mnist) (1.19.5)\r\n"
     ]
    },
    {
     "name": "stdout",
     "output_type": "stream",
     "text": [
      "Installing collected packages: mnist\r\n"
     ]
    },
    {
     "name": "stdout",
     "output_type": "stream",
     "text": [
      "Successfully installed mnist-0.2.2\r\n"
     ]
    }
   ],
   "source": [
    "!pip install mnist"
   ]
  },
  {
   "cell_type": "markdown",
   "id": "69df9c9a",
   "metadata": {
    "papermill": {
     "duration": 0.025263,
     "end_time": "2022-03-29T00:36:49.651132",
     "exception": false,
     "start_time": "2022-03-29T00:36:49.625869",
     "status": "completed"
    },
    "tags": []
   },
   "source": [
    "## Preparing the Data"
   ]
  },
  {
   "cell_type": "code",
   "execution_count": 4,
   "id": "7f69d806",
   "metadata": {
    "execution": {
     "iopub.execute_input": "2022-03-29T00:36:49.712084Z",
     "iopub.status.busy": "2022-03-29T00:36:49.711548Z",
     "iopub.status.idle": "2022-03-29T00:36:49.722648Z",
     "shell.execute_reply": "2022-03-29T00:36:49.721511Z"
    },
    "papermill": {
     "duration": 0.046161,
     "end_time": "2022-03-29T00:36:49.722760",
     "exception": false,
     "start_time": "2022-03-29T00:36:49.676599",
     "status": "completed"
    },
    "tags": []
   },
   "outputs": [],
   "source": [
    "import mnist"
   ]
  },
  {
   "cell_type": "code",
   "execution_count": 5,
   "id": "a411e44f",
   "metadata": {
    "execution": {
     "iopub.execute_input": "2022-03-29T00:36:49.787537Z",
     "iopub.status.busy": "2022-03-29T00:36:49.787032Z",
     "iopub.status.idle": "2022-03-29T00:36:50.583478Z",
     "shell.execute_reply": "2022-03-29T00:36:50.582917Z"
    },
    "papermill": {
     "duration": 0.835549,
     "end_time": "2022-03-29T00:36:50.583611",
     "exception": false,
     "start_time": "2022-03-29T00:36:49.748062",
     "status": "completed"
    },
    "tags": []
   },
   "outputs": [],
   "source": [
    "train_images = mnist.train_images()\n",
    "train_labels = mnist.train_labels()"
   ]
  },
  {
   "cell_type": "code",
   "execution_count": 6,
   "id": "dceab3a5",
   "metadata": {
    "execution": {
     "iopub.execute_input": "2022-03-29T00:36:50.643666Z",
     "iopub.status.busy": "2022-03-29T00:36:50.643146Z",
     "iopub.status.idle": "2022-03-29T00:36:50.653192Z",
     "shell.execute_reply": "2022-03-29T00:36:50.652786Z"
    },
    "papermill": {
     "duration": 0.044193,
     "end_time": "2022-03-29T00:36:50.653295",
     "exception": false,
     "start_time": "2022-03-29T00:36:50.609102",
     "status": "completed"
    },
    "tags": []
   },
   "outputs": [
    {
     "data": {
      "text/plain": [
       "((60000, 28, 28), (60000,))"
      ]
     },
     "execution_count": 6,
     "metadata": {},
     "output_type": "execute_result"
    }
   ],
   "source": [
    "train_images.shape, train_labels.shape"
   ]
  },
  {
   "cell_type": "code",
   "execution_count": 7,
   "id": "f50dc2bb",
   "metadata": {
    "execution": {
     "iopub.execute_input": "2022-03-29T00:36:50.706646Z",
     "iopub.status.busy": "2022-03-29T00:36:50.706106Z",
     "iopub.status.idle": "2022-03-29T00:36:51.118318Z",
     "shell.execute_reply": "2022-03-29T00:36:51.118826Z"
    },
    "papermill": {
     "duration": 0.44063,
     "end_time": "2022-03-29T00:36:51.118992",
     "exception": false,
     "start_time": "2022-03-29T00:36:50.678362",
     "status": "completed"
    },
    "tags": []
   },
   "outputs": [],
   "source": [
    "test_images = mnist.test_images()\n",
    "test_labels = mnist.test_labels()"
   ]
  },
  {
   "cell_type": "code",
   "execution_count": 8,
   "id": "fc38cf1b",
   "metadata": {
    "execution": {
     "iopub.execute_input": "2022-03-29T00:36:51.175148Z",
     "iopub.status.busy": "2022-03-29T00:36:51.174638Z",
     "iopub.status.idle": "2022-03-29T00:36:51.186359Z",
     "shell.execute_reply": "2022-03-29T00:36:51.185897Z"
    },
    "papermill": {
     "duration": 0.041296,
     "end_time": "2022-03-29T00:36:51.186463",
     "exception": false,
     "start_time": "2022-03-29T00:36:51.145167",
     "status": "completed"
    },
    "tags": []
   },
   "outputs": [
    {
     "data": {
      "text/plain": [
       "((10000, 28, 28), (10000,))"
      ]
     },
     "execution_count": 8,
     "metadata": {},
     "output_type": "execute_result"
    }
   ],
   "source": [
    "test_images.shape, test_labels.shape"
   ]
  },
  {
   "cell_type": "code",
   "execution_count": 9,
   "id": "f9ed8fe0",
   "metadata": {
    "execution": {
     "iopub.execute_input": "2022-03-29T00:36:51.239471Z",
     "iopub.status.busy": "2022-03-29T00:36:51.238970Z",
     "iopub.status.idle": "2022-03-29T00:36:51.374187Z",
     "shell.execute_reply": "2022-03-29T00:36:51.374693Z"
    },
    "papermill": {
     "duration": 0.163021,
     "end_time": "2022-03-29T00:36:51.374832",
     "exception": false,
     "start_time": "2022-03-29T00:36:51.211811",
     "status": "completed"
    },
    "tags": []
   },
   "outputs": [
    {
     "name": "stdout",
     "output_type": "stream",
     "text": [
      "2\n"
     ]
    },
    {
     "data": {
      "text/plain": [
       "<matplotlib.image.AxesImage at 0x7f754f340550>"
      ]
     },
     "execution_count": 9,
     "metadata": {},
     "output_type": "execute_result"
    },
    {
     "data": {
      "image/png": "[encoded data removed]",
      "text/plain": [
       "<Figure size 432x288 with 1 Axes>"
      ]
     },
     "metadata": {
      "needs_background": "light"
     },
     "output_type": "display_data"
    }
   ],
   "source": [
    "image_index = 7776 # You may select anything up to 60,000\n",
    "print(train_labels[image_index]) \n",
    "plt.imshow(train_images[image_index], cmap='Greys')"
   ]
  },
  {
   "cell_type": "markdown",
   "id": "a8d2388d",
   "metadata": {
    "papermill": {
     "duration": 0.026709,
     "end_time": "2022-03-29T00:36:51.429069",
     "exception": false,
     "start_time": "2022-03-29T00:36:51.402360",
     "status": "completed"
    },
    "tags": []
   },
   "source": [
    "## Filter data to get 3 and 8 out"
   ]
  },
  {
   "cell_type": "code",
   "execution_count": 10,
   "id": "776f7fc7",
   "metadata": {
    "execution": {
     "iopub.execute_input": "2022-03-29T00:36:51.487407Z",
     "iopub.status.busy": "2022-03-29T00:36:51.486887Z",
     "iopub.status.idle": "2022-03-29T00:36:51.501250Z",
     "shell.execute_reply": "2022-03-29T00:36:51.500820Z"
    },
    "papermill": {
     "duration": 0.045727,
     "end_time": "2022-03-29T00:36:51.501348",
     "exception": false,
     "start_time": "2022-03-29T00:36:51.455621",
     "status": "completed"
    },
    "tags": []
   },
   "outputs": [],
   "source": [
    "train_filter = np.where((train_labels == 3 ) | (train_labels == 8))\n",
    "test_filter = np.where((test_labels == 3) | (test_labels == 8))\n",
    "X_train, y_train = train_images[train_filter], train_labels[train_filter]\n",
    "X_test, y_test = test_images[test_filter], test_labels[test_filter]"
   ]
  },
  {
   "cell_type": "markdown",
   "id": "948f0b7e",
   "metadata": {
    "papermill": {
     "duration": 0.026307,
     "end_time": "2022-03-29T00:36:51.554044",
     "exception": false,
     "start_time": "2022-03-29T00:36:51.527737",
     "status": "completed"
    },
    "tags": []
   },
   "source": [
    "We normalize the pizel values in the 0 to 1 range"
   ]
  },
  {
   "cell_type": "code",
   "execution_count": 11,
   "id": "ee4c2166",
   "metadata": {
    "execution": {
     "iopub.execute_input": "2022-03-29T00:36:51.623740Z",
     "iopub.status.busy": "2022-03-29T00:36:51.623219Z",
     "iopub.status.idle": "2022-03-29T00:36:51.661975Z",
     "shell.execute_reply": "2022-03-29T00:36:51.661480Z"
    },
    "papermill": {
     "duration": 0.081776,
     "end_time": "2022-03-29T00:36:51.662109",
     "exception": false,
     "start_time": "2022-03-29T00:36:51.580333",
     "status": "completed"
    },
    "tags": []
   },
   "outputs": [],
   "source": [
    "X_train = X_train/255.\n",
    "X_test = X_test/255."
   ]
  },
  {
   "cell_type": "markdown",
   "id": "ddcf4fab",
   "metadata": {
    "papermill": {
     "duration": 0.0265,
     "end_time": "2022-03-29T00:36:51.716145",
     "exception": false,
     "start_time": "2022-03-29T00:36:51.689645",
     "status": "completed"
    },
    "tags": []
   },
   "source": [
    "And setup the labels as 1 (when the digit is 3) and 0 (when the digit is 8)"
   ]
  },
  {
   "cell_type": "code",
   "execution_count": 12,
   "id": "7dc908f2",
   "metadata": {
    "execution": {
     "iopub.execute_input": "2022-03-29T00:36:51.783711Z",
     "iopub.status.busy": "2022-03-29T00:36:51.783188Z",
     "iopub.status.idle": "2022-03-29T00:36:51.788012Z",
     "shell.execute_reply": "2022-03-29T00:36:51.787599Z"
    },
    "papermill": {
     "duration": 0.045543,
     "end_time": "2022-03-29T00:36:51.788119",
     "exception": false,
     "start_time": "2022-03-29T00:36:51.742576",
     "status": "completed"
    },
    "tags": []
   },
   "outputs": [],
   "source": [
    "y_train = 1*(y_train==3)\n",
    "y_test = 1*(y_test==3)"
   ]
  },
  {
   "cell_type": "code",
   "execution_count": 13,
   "id": "01e4e969",
   "metadata": {
    "execution": {
     "iopub.execute_input": "2022-03-29T00:36:51.843915Z",
     "iopub.status.busy": "2022-03-29T00:36:51.843411Z",
     "iopub.status.idle": "2022-03-29T00:36:51.855603Z",
     "shell.execute_reply": "2022-03-29T00:36:51.855174Z"
    },
    "papermill": {
     "duration": 0.041171,
     "end_time": "2022-03-29T00:36:51.855699",
     "exception": false,
     "start_time": "2022-03-29T00:36:51.814528",
     "status": "completed"
    },
    "tags": []
   },
   "outputs": [
    {
     "data": {
      "text/plain": [
       "((11982, 28, 28), (1984, 28, 28))"
      ]
     },
     "execution_count": 13,
     "metadata": {},
     "output_type": "execute_result"
    }
   ],
   "source": [
    "X_train.shape, X_test.shape"
   ]
  },
  {
   "cell_type": "markdown",
   "id": "5ccf3f85",
   "metadata": {
    "papermill": {
     "duration": 0.026586,
     "end_time": "2022-03-29T00:36:51.908806",
     "exception": false,
     "start_time": "2022-03-29T00:36:51.882220",
     "status": "completed"
    },
    "tags": []
   },
   "source": [
    "We reshape the data to flatten the image pixels into a set of features or co-variates:"
   ]
  },
  {
   "cell_type": "code",
   "execution_count": 14,
   "id": "5286a4a3",
   "metadata": {
    "execution": {
     "iopub.execute_input": "2022-03-29T00:36:51.967600Z",
     "iopub.status.busy": "2022-03-29T00:36:51.967096Z",
     "iopub.status.idle": "2022-03-29T00:36:51.978292Z",
     "shell.execute_reply": "2022-03-29T00:36:51.977845Z"
    },
    "papermill": {
     "duration": 0.042793,
     "end_time": "2022-03-29T00:36:51.978392",
     "exception": false,
     "start_time": "2022-03-29T00:36:51.935599",
     "status": "completed"
    },
    "tags": []
   },
   "outputs": [
    {
     "data": {
      "text/plain": [
       "((11982, 784), (1984, 784))"
      ]
     },
     "execution_count": 14,
     "metadata": {},
     "output_type": "execute_result"
    }
   ],
   "source": [
    "X_train = X_train.reshape(X_train.shape[0], -1)\n",
    "X_test = X_test.reshape(X_test.shape[0], -1)\n",
    "X_train.shape, X_test.shape"
   ]
  },
  {
   "cell_type": "code",
   "execution_count": 15,
   "id": "73c5f88a",
   "metadata": {
    "execution": {
     "iopub.execute_input": "2022-03-29T00:36:52.036077Z",
     "iopub.status.busy": "2022-03-29T00:36:52.035562Z",
     "iopub.status.idle": "2022-03-29T00:36:52.054423Z",
     "shell.execute_reply": "2022-03-29T00:36:52.053951Z"
    },
    "papermill": {
     "duration": 0.049183,
     "end_time": "2022-03-29T00:36:52.054525",
     "exception": false,
     "start_time": "2022-03-29T00:36:52.005342",
     "status": "completed"
    },
    "tags": []
   },
   "outputs": [],
   "source": [
    "#Impoting functions from 'Kudzu'\n",
    "from kudzu.model import Model\n",
    "from kudzu.train import Learner\n",
    "from kudzu.optim import GD\n",
    "from kudzu.data import Data, Sampler,Dataloader\n",
    "\n",
    "from kudzu.callbacks import AccCallback\n",
    "from kudzu.callbacks import ClfCallback\n",
    "\n",
    "from kudzu.loss import MSE\n",
    "\n",
    "from kudzu.layer import Sigmoid,Relu\n",
    "from kudzu.layer import Affine"
   ]
  },
  {
   "cell_type": "markdown",
   "id": "bc01172a",
   "metadata": {
    "papermill": {
     "duration": 0.027273,
     "end_time": "2022-03-29T00:36:52.108902",
     "exception": false,
     "start_time": "2022-03-29T00:36:52.081629",
     "status": "completed"
    },
    "tags": []
   },
   "source": [
    "### Let us create a `Config` class, to store important parameters. \n",
    "This class essentially plays the role of a dictionary."
   ]
  },
  {
   "cell_type": "code",
   "execution_count": 16,
   "id": "978281aa",
   "metadata": {
    "execution": {
     "iopub.execute_input": "2022-03-29T00:36:52.167473Z",
     "iopub.status.busy": "2022-03-29T00:36:52.166949Z",
     "iopub.status.idle": "2022-03-29T00:36:52.177658Z",
     "shell.execute_reply": "2022-03-29T00:36:52.177249Z"
    },
    "papermill": {
     "duration": 0.041934,
     "end_time": "2022-03-29T00:36:52.177762",
     "exception": false,
     "start_time": "2022-03-29T00:36:52.135828",
     "status": "completed"
    },
    "tags": []
   },
   "outputs": [],
   "source": [
    "class Config:\n",
    "    pass\n",
    "config = Config()\n",
    "config.lr = 0.001\n",
    "config.num_epochs = 250\n",
    "config.bs = 50"
   ]
  },
  {
   "cell_type": "markdown",
   "id": "1385fa59",
   "metadata": {
    "papermill": {
     "duration": 0.027222,
     "end_time": "2022-03-29T00:36:52.231956",
     "exception": false,
     "start_time": "2022-03-29T00:36:52.204734",
     "status": "completed"
    },
    "tags": []
   },
   "source": [
    "### Running Models with the Training data\n",
    "Details about the network layers:\n",
    "- A first affine layer has 784 inputs and does 100 affine transforms. These are followed by a Relu\n",
    "- A second affine layer has 100 inputs from the 100 activations of the past layer, and does 100 affine transforms. These are followed by a Relu\n",
    "- A third affine layer has 100 activations and does 2 affine transformations to create an embedding for visualization. There is no non-linearity here.\n",
    "- A final \"logistic regression\" which has an affine transform from 2 inputs to 1 output, which is squeezed through a sigmoid.\n"
   ]
  },
  {
   "cell_type": "code",
   "execution_count": 17,
   "id": "2b9c66db",
   "metadata": {
    "execution": {
     "iopub.execute_input": "2022-03-29T00:36:52.289870Z",
     "iopub.status.busy": "2022-03-29T00:36:52.289348Z",
     "iopub.status.idle": "2022-03-29T00:36:52.301855Z",
     "shell.execute_reply": "2022-03-29T00:36:52.301419Z"
    },
    "papermill": {
     "duration": 0.042999,
     "end_time": "2022-03-29T00:36:52.301955",
     "exception": false,
     "start_time": "2022-03-29T00:36:52.258956",
     "status": "completed"
    },
    "tags": []
   },
   "outputs": [],
   "source": [
    "data = Data(X_train, y_train.reshape(-1,1))\n",
    "sampler = Sampler(data, config.bs, shuffle=True)\n",
    "\n",
    "dl = Dataloader(data, sampler)\n",
    "\n",
    "opt = GD(config.lr)\n",
    "loss = MSE()"
   ]
  },
  {
   "cell_type": "code",
   "execution_count": 18,
   "id": "b275e4c2",
   "metadata": {
    "execution": {
     "iopub.execute_input": "2022-03-29T00:36:52.360858Z",
     "iopub.status.busy": "2022-03-29T00:36:52.360351Z",
     "iopub.status.idle": "2022-03-29T00:36:52.370560Z",
     "shell.execute_reply": "2022-03-29T00:36:52.370123Z"
    },
    "papermill": {
     "duration": 0.041714,
     "end_time": "2022-03-29T00:36:52.370665",
     "exception": false,
     "start_time": "2022-03-29T00:36:52.328951",
     "status": "completed"
    },
    "tags": []
   },
   "outputs": [],
   "source": [
    "training_data_x = X_train\n",
    "testing_data_x = X_test\n",
    "training_data_y = y_train.reshape(-1,1)\n",
    "testing_data_y = y_test.reshape(-1,1)"
   ]
  },
  {
   "cell_type": "code",
   "execution_count": 19,
   "id": "76951160",
   "metadata": {
    "execution": {
     "iopub.execute_input": "2022-03-29T00:36:52.430854Z",
     "iopub.status.busy": "2022-03-29T00:36:52.430333Z",
     "iopub.status.idle": "2022-03-29T00:36:52.444202Z",
     "shell.execute_reply": "2022-03-29T00:36:52.443770Z"
    },
    "papermill": {
     "duration": 0.046855,
     "end_time": "2022-03-29T00:36:52.444299",
     "exception": false,
     "start_time": "2022-03-29T00:36:52.397444",
     "status": "completed"
    },
    "tags": []
   },
   "outputs": [
    {
     "name": "stdout",
     "output_type": "stream",
     "text": [
      "xavier\n",
      "xavier\n",
      "xavier\n",
      "xavier\n",
      "xavier\n"
     ]
    }
   ],
   "source": [
    "layers = [Affine(\"first\", 784, 100), Relu(\"first\"), Affine(\"second\", 100, 100), Relu(\"second\"), Affine(\"third\", 100, 2), Affine(\"last\", 2, 1), Sigmoid(\"last\")]\n",
    "model_nn = Model(layers)\n",
    "model_lr = Model([Affine(\"logits\", 784, 1), Sigmoid(\"sigmoid\")])"
   ]
  },
  {
   "cell_type": "code",
   "execution_count": 20,
   "id": "6eede77a",
   "metadata": {
    "execution": {
     "iopub.execute_input": "2022-03-29T00:36:52.515969Z",
     "iopub.status.busy": "2022-03-29T00:36:52.511718Z",
     "iopub.status.idle": "2022-03-29T00:36:52.518155Z",
     "shell.execute_reply": "2022-03-29T00:36:52.517749Z"
    },
    "papermill": {
     "duration": 0.045231,
     "end_time": "2022-03-29T00:36:52.518277",
     "exception": false,
     "start_time": "2022-03-29T00:36:52.473046",
     "status": "completed"
    },
    "tags": []
   },
   "outputs": [],
   "source": [
    "nn_learner = Learner(loss, model_nn, opt, config.num_epochs)\n",
    "acc_nn = ClfCallback(nn_learner, config.bs, training_data_x , testing_data_x, training_data_y, testing_data_y)\n",
    "nn_learner.set_callbacks([acc_nn])"
   ]
  },
  {
   "cell_type": "code",
   "execution_count": 21,
   "id": "877b6cc7",
   "metadata": {
    "execution": {
     "iopub.execute_input": "2022-03-29T00:36:52.586911Z",
     "iopub.status.busy": "2022-03-29T00:36:52.580868Z",
     "iopub.status.idle": "2022-03-29T00:36:52.589141Z",
     "shell.execute_reply": "2022-03-29T00:36:52.588707Z"
    },
    "papermill": {
     "duration": 0.043885,
     "end_time": "2022-03-29T00:36:52.589240",
     "exception": false,
     "start_time": "2022-03-29T00:36:52.545355",
     "status": "completed"
    },
    "tags": []
   },
   "outputs": [],
   "source": [
    "lr_learner = Learner(loss, model_lr, opt, config.num_epochs)\n",
    "acc_lr = ClfCallback(lr_learner, config.bs, training_data_x , testing_data_x, training_data_y, testing_data_y)\n",
    "lr_learner.set_callbacks([acc_lr])"
   ]
  },
  {
   "cell_type": "code",
   "execution_count": 22,
   "id": "d9b133c3",
   "metadata": {
    "execution": {
     "iopub.execute_input": "2022-03-29T00:36:52.651585Z",
     "iopub.status.busy": "2022-03-29T00:36:52.651004Z",
     "iopub.status.idle": "2022-03-29T00:38:06.343014Z",
     "shell.execute_reply": "2022-03-29T00:38:06.343770Z"
    },
    "papermill": {
     "duration": 73.727484,
     "end_time": "2022-03-29T00:38:06.343916",
     "exception": false,
     "start_time": "2022-03-29T00:36:52.616432",
     "status": "completed"
    },
    "tags": []
   },
   "outputs": [
    {
     "name": "stdout",
     "output_type": "stream",
     "text": [
      "Epoch 0, Loss 0.2517\n",
      "Training Accuracy: 0.6885, Testing Accuracy: 0.6835\n",
      "\n"
     ]
    },
    {
     "name": "stdout",
     "output_type": "stream",
     "text": [
      "Epoch 10, Loss 0.0614\n",
      "Training Accuracy: 0.9399, Testing Accuracy: 0.9471\n",
      "\n"
     ]
    },
    {
     "name": "stdout",
     "output_type": "stream",
     "text": [
      "Epoch 20, Loss 0.0418\n",
      "Training Accuracy: 0.9581, Testing Accuracy: 0.9587\n",
      "\n"
     ]
    },
    {
     "name": "stdout",
     "output_type": "stream",
     "text": [
      "Epoch 30, Loss 0.0348\n",
      "Training Accuracy: 0.9625, Testing Accuracy: 0.9652\n",
      "\n"
     ]
    },
    {
     "name": "stdout",
     "output_type": "stream",
     "text": [
      "Epoch 40, Loss 0.0311\n",
      "Training Accuracy: 0.9659, Testing Accuracy: 0.9693\n",
      "\n"
     ]
    },
    {
     "name": "stdout",
     "output_type": "stream",
     "text": [
      "Epoch 50, Loss 0.0286\n",
      "Training Accuracy: 0.9680, Testing Accuracy: 0.9703\n",
      "\n"
     ]
    },
    {
     "name": "stdout",
     "output_type": "stream",
     "text": [
      "Epoch 60, Loss 0.0268\n",
      "Training Accuracy: 0.9700, Testing Accuracy: 0.9698\n",
      "\n"
     ]
    },
    {
     "name": "stdout",
     "output_type": "stream",
     "text": [
      "Epoch 70, Loss 0.0254\n",
      "Training Accuracy: 0.9716, Testing Accuracy: 0.9703\n",
      "\n"
     ]
    },
    {
     "name": "stdout",
     "output_type": "stream",
     "text": [
      "Epoch 80, Loss 0.0242\n",
      "Training Accuracy: 0.9730, Testing Accuracy: 0.9708\n",
      "\n"
     ]
    },
    {
     "name": "stdout",
     "output_type": "stream",
     "text": [
      "Epoch 90, Loss 0.0232\n",
      "Training Accuracy: 0.9745, Testing Accuracy: 0.9708\n",
      "\n"
     ]
    },
    {
     "name": "stdout",
     "output_type": "stream",
     "text": [
      "Epoch 100, Loss 0.0223\n",
      "Training Accuracy: 0.9748, Testing Accuracy: 0.9708\n",
      "\n"
     ]
    },
    {
     "name": "stdout",
     "output_type": "stream",
     "text": [
      "Epoch 110, Loss 0.0215\n",
      "Training Accuracy: 0.9758, Testing Accuracy: 0.9718\n",
      "\n"
     ]
    },
    {
     "name": "stdout",
     "output_type": "stream",
     "text": [
      "Epoch 120, Loss 0.0208\n",
      "Training Accuracy: 0.9771, Testing Accuracy: 0.9723\n",
      "\n"
     ]
    },
    {
     "name": "stdout",
     "output_type": "stream",
     "text": [
      "Epoch 130, Loss 0.0201\n",
      "Training Accuracy: 0.9781, Testing Accuracy: 0.9733\n",
      "\n"
     ]
    },
    {
     "name": "stdout",
     "output_type": "stream",
     "text": [
      "Epoch 140, Loss 0.0195\n",
      "Training Accuracy: 0.9789, Testing Accuracy: 0.9748\n",
      "\n"
     ]
    },
    {
     "name": "stdout",
     "output_type": "stream",
     "text": [
      "Epoch 150, Loss 0.0189\n",
      "Training Accuracy: 0.9798, Testing Accuracy: 0.9753\n",
      "\n"
     ]
    },
    {
     "name": "stdout",
     "output_type": "stream",
     "text": [
      "Epoch 160, Loss 0.0184\n",
      "Training Accuracy: 0.9801, Testing Accuracy: 0.9748\n",
      "\n"
     ]
    },
    {
     "name": "stdout",
     "output_type": "stream",
     "text": [
      "Epoch 170, Loss 0.0179\n",
      "Training Accuracy: 0.9808, Testing Accuracy: 0.9753\n",
      "\n"
     ]
    },
    {
     "name": "stdout",
     "output_type": "stream",
     "text": [
      "Epoch 180, Loss 0.0174\n",
      "Training Accuracy: 0.9810, Testing Accuracy: 0.9763\n",
      "\n"
     ]
    },
    {
     "name": "stdout",
     "output_type": "stream",
     "text": [
      "Epoch 190, Loss 0.0169\n",
      "Training Accuracy: 0.9814, Testing Accuracy: 0.9763\n",
      "\n"
     ]
    },
    {
     "name": "stdout",
     "output_type": "stream",
     "text": [
      "Epoch 200, Loss 0.0165\n",
      "Training Accuracy: 0.9820, Testing Accuracy: 0.9773\n",
      "\n"
     ]
    },
    {
     "name": "stdout",
     "output_type": "stream",
     "text": [
      "Epoch 210, Loss 0.0161\n",
      "Training Accuracy: 0.9827, Testing Accuracy: 0.9768\n",
      "\n"
     ]
    },
    {
     "name": "stdout",
     "output_type": "stream",
     "text": [
      "Epoch 220, Loss 0.0156\n",
      "Training Accuracy: 0.9832, Testing Accuracy: 0.9778\n",
      "\n"
     ]
    },
    {
     "name": "stdout",
     "output_type": "stream",
     "text": [
      "Epoch 230, Loss 0.0152\n",
      "Training Accuracy: 0.9837, Testing Accuracy: 0.9773\n",
      "\n"
     ]
    },
    {
     "name": "stdout",
     "output_type": "stream",
     "text": [
      "Epoch 240, Loss 0.0149\n",
      "Training Accuracy: 0.9840, Testing Accuracy: 0.9773\n",
      "\n"
     ]
    },
    {
     "data": {
      "text/plain": [
       "0.007021542808729197"
      ]
     },
     "execution_count": 22,
     "metadata": {},
     "output_type": "execute_result"
    }
   ],
   "source": [
    "nn_learner.train_loop(dl)"
   ]
  },
  {
   "cell_type": "code",
   "execution_count": 23,
   "id": "e0163366",
   "metadata": {
    "execution": {
     "iopub.execute_input": "2022-03-29T00:38:06.422544Z",
     "iopub.status.busy": "2022-03-29T00:38:06.422002Z",
     "iopub.status.idle": "2022-03-29T00:38:19.442662Z",
     "shell.execute_reply": "2022-03-29T00:38:19.443427Z"
    },
    "papermill": {
     "duration": 13.064758,
     "end_time": "2022-03-29T00:38:19.443574",
     "exception": false,
     "start_time": "2022-03-29T00:38:06.378816",
     "status": "completed"
    },
    "tags": []
   },
   "outputs": [
    {
     "name": "stdout",
     "output_type": "stream",
     "text": [
      "Epoch 0, Loss 0.2425\n",
      "Training Accuracy: 0.6932, Testing Accuracy: 0.6850\n",
      "\n"
     ]
    },
    {
     "name": "stdout",
     "output_type": "stream",
     "text": [
      "Epoch 10, Loss 0.1003\n",
      "Training Accuracy: 0.9124, Testing Accuracy: 0.9264\n",
      "\n"
     ]
    },
    {
     "name": "stdout",
     "output_type": "stream",
     "text": [
      "Epoch 20, Loss 0.078\n",
      "Training Accuracy: 0.9281, Testing Accuracy: 0.9385\n",
      "\n"
     ]
    },
    {
     "name": "stdout",
     "output_type": "stream",
     "text": [
      "Epoch 30, Loss 0.0676\n",
      "Training Accuracy: 0.9354, Testing Accuracy: 0.9471\n",
      "\n"
     ]
    },
    {
     "name": "stdout",
     "output_type": "stream",
     "text": [
      "Epoch 40, Loss 0.0613\n",
      "Training Accuracy: 0.9399, Testing Accuracy: 0.9491\n",
      "\n"
     ]
    },
    {
     "name": "stdout",
     "output_type": "stream",
     "text": [
      "Epoch 50, Loss 0.057\n",
      "Training Accuracy: 0.9430, Testing Accuracy: 0.9541\n",
      "\n"
     ]
    },
    {
     "name": "stdout",
     "output_type": "stream",
     "text": [
      "Epoch 60, Loss 0.0538\n",
      "Training Accuracy: 0.9460, Testing Accuracy: 0.9572\n",
      "\n"
     ]
    },
    {
     "name": "stdout",
     "output_type": "stream",
     "text": [
      "Epoch 70, Loss 0.0513\n",
      "Training Accuracy: 0.9476, Testing Accuracy: 0.9597\n",
      "\n"
     ]
    },
    {
     "name": "stdout",
     "output_type": "stream",
     "text": [
      "Epoch 80, Loss 0.0493\n",
      "Training Accuracy: 0.9489, Testing Accuracy: 0.9612\n",
      "\n"
     ]
    },
    {
     "name": "stdout",
     "output_type": "stream",
     "text": [
      "Epoch 90, Loss 0.0477\n",
      "Training Accuracy: 0.9503, Testing Accuracy: 0.9632\n",
      "\n"
     ]
    },
    {
     "name": "stdout",
     "output_type": "stream",
     "text": [
      "Epoch 100, Loss 0.0463\n",
      "Training Accuracy: 0.9519, Testing Accuracy: 0.9637\n",
      "\n"
     ]
    },
    {
     "name": "stdout",
     "output_type": "stream",
     "text": [
      "Epoch 110, Loss 0.0451\n",
      "Training Accuracy: 0.9535, Testing Accuracy: 0.9632\n",
      "\n"
     ]
    },
    {
     "name": "stdout",
     "output_type": "stream",
     "text": [
      "Epoch 120, Loss 0.044\n",
      "Training Accuracy: 0.9544, Testing Accuracy: 0.9632\n",
      "\n"
     ]
    },
    {
     "name": "stdout",
     "output_type": "stream",
     "text": [
      "Epoch 130, Loss 0.0431\n",
      "Training Accuracy: 0.9557, Testing Accuracy: 0.9632\n",
      "\n"
     ]
    },
    {
     "name": "stdout",
     "output_type": "stream",
     "text": [
      "Epoch 140, Loss 0.0423\n",
      "Training Accuracy: 0.9563, Testing Accuracy: 0.9637\n",
      "\n"
     ]
    },
    {
     "name": "stdout",
     "output_type": "stream",
     "text": [
      "Epoch 150, Loss 0.0415\n",
      "Training Accuracy: 0.9568, Testing Accuracy: 0.9637\n",
      "\n"
     ]
    },
    {
     "name": "stdout",
     "output_type": "stream",
     "text": [
      "Epoch 160, Loss 0.0409\n",
      "Training Accuracy: 0.9571, Testing Accuracy: 0.9642\n",
      "\n"
     ]
    },
    {
     "name": "stdout",
     "output_type": "stream",
     "text": [
      "Epoch 170, Loss 0.0403\n",
      "Training Accuracy: 0.9580, Testing Accuracy: 0.9652\n",
      "\n"
     ]
    },
    {
     "name": "stdout",
     "output_type": "stream",
     "text": [
      "Epoch 180, Loss 0.0397\n",
      "Training Accuracy: 0.9586, Testing Accuracy: 0.9657\n",
      "\n"
     ]
    },
    {
     "name": "stdout",
     "output_type": "stream",
     "text": [
      "Epoch 190, Loss 0.0392\n",
      "Training Accuracy: 0.9589, Testing Accuracy: 0.9652\n",
      "\n"
     ]
    },
    {
     "name": "stdout",
     "output_type": "stream",
     "text": [
      "Epoch 200, Loss 0.0387\n",
      "Training Accuracy: 0.9592, Testing Accuracy: 0.9657\n",
      "\n"
     ]
    },
    {
     "name": "stdout",
     "output_type": "stream",
     "text": [
      "Epoch 210, Loss 0.0383\n",
      "Training Accuracy: 0.9595, Testing Accuracy: 0.9662\n",
      "\n"
     ]
    },
    {
     "name": "stdout",
     "output_type": "stream",
     "text": [
      "Epoch 220, Loss 0.0378\n",
      "Training Accuracy: 0.9601, Testing Accuracy: 0.9662\n",
      "\n"
     ]
    },
    {
     "name": "stdout",
     "output_type": "stream",
     "text": [
      "Epoch 230, Loss 0.0375\n",
      "Training Accuracy: 0.9603, Testing Accuracy: 0.9662\n",
      "\n"
     ]
    },
    {
     "name": "stdout",
     "output_type": "stream",
     "text": [
      "Epoch 240, Loss 0.0371\n",
      "Training Accuracy: 0.9610, Testing Accuracy: 0.9662\n",
      "\n"
     ]
    },
    {
     "data": {
      "text/plain": [
       "0.05131267605360386"
      ]
     },
     "execution_count": 23,
     "metadata": {},
     "output_type": "execute_result"
    }
   ],
   "source": [
    "lr_learner.train_loop(dl)"
   ]
  },
  {
   "cell_type": "code",
   "execution_count": 24,
   "id": "ca410940",
   "metadata": {
    "execution": {
     "iopub.execute_input": "2022-03-29T00:38:19.535886Z",
     "iopub.status.busy": "2022-03-29T00:38:19.535363Z",
     "iopub.status.idle": "2022-03-29T00:38:19.756821Z",
     "shell.execute_reply": "2022-03-29T00:38:19.757310Z"
    },
    "papermill": {
     "duration": 0.27213,
     "end_time": "2022-03-29T00:38:19.757459",
     "exception": false,
     "start_time": "2022-03-29T00:38:19.485329",
     "status": "completed"
    },
    "tags": []
   },
   "outputs": [
    {
     "data": {
      "text/plain": [
       "<matplotlib.legend.Legend at 0x7f7541b8fd30>"
      ]
     },
     "execution_count": 24,
     "metadata": {},
     "output_type": "execute_result"
    },
    {
     "data": {
      "image/png": "[encoded data removed]",
      "text/plain": [
       "<Figure size 1080x720 with 1 Axes>"
      ]
     },
     "metadata": {
      "needs_background": "light"
     },
     "output_type": "display_data"
    }
   ],
   "source": [
    "#comparing the results of NN and LR\n",
    "plt.figure(figsize=(15,10))\n",
    "\n",
    "# Neural Network plots\n",
    "plt.plot(acc_nn.accuracies, 'r-', label = \"Training Accuracies - NN\")\n",
    "plt.plot(acc_nn.test_accuracies, 'g-', label = \"Testing Accuracies - NN\")\n",
    "\n",
    "# Logistic Regression plots\n",
    "plt.plot(acc_lr.accuracies, 'k-', label = \"Training Accuracies - LR\")\n",
    "plt.plot(acc_lr.test_accuracies, 'b-', label = \"Testing Accuracies - LR\")\n",
    "plt.legend()"
   ]
  },
  {
   "cell_type": "markdown",
   "id": "80dfb35c",
   "metadata": {
    "papermill": {
     "duration": 0.042247,
     "end_time": "2022-03-29T00:38:19.842559",
     "exception": false,
     "start_time": "2022-03-29T00:38:19.800312",
     "status": "completed"
    },
    "tags": []
   },
   "source": [
    "#### Plotting the outputs of this layer of the NN.\n"
   ]
  },
  {
   "cell_type": "code",
   "execution_count": 25,
   "id": "45eb2ff5",
   "metadata": {
    "execution": {
     "iopub.execute_input": "2022-03-29T00:38:19.935490Z",
     "iopub.status.busy": "2022-03-29T00:38:19.934961Z",
     "iopub.status.idle": "2022-03-29T00:38:19.951670Z",
     "shell.execute_reply": "2022-03-29T00:38:19.952357Z"
    },
    "papermill": {
     "duration": 0.067816,
     "end_time": "2022-03-29T00:38:19.952487",
     "exception": false,
     "start_time": "2022-03-29T00:38:19.884671",
     "status": "completed"
    },
    "tags": []
   },
   "outputs": [],
   "source": [
    "new_model = Model(layers[:-2])\n",
    "testing_plot = new_model(testing_data_x)"
   ]
  },
  {
   "cell_type": "code",
   "execution_count": 26,
   "id": "4c0a5485",
   "metadata": {
    "execution": {
     "iopub.execute_input": "2022-03-29T00:38:20.049980Z",
     "iopub.status.busy": "2022-03-29T00:38:20.049467Z",
     "iopub.status.idle": "2022-03-29T00:38:20.250718Z",
     "shell.execute_reply": "2022-03-29T00:38:20.251139Z"
    },
    "papermill": {
     "duration": 0.253965,
     "end_time": "2022-03-29T00:38:20.251272",
     "exception": false,
     "start_time": "2022-03-29T00:38:19.997307",
     "status": "completed"
    },
    "tags": []
   },
   "outputs": [
    {
     "data": {
      "text/plain": [
       "Text(0.5, 1.0, 'Outputs')"
      ]
     },
     "execution_count": 26,
     "metadata": {},
     "output_type": "execute_result"
    },
    {
     "data": {
      "image/png": "[encoded data removed]",
      "text/plain": [
       "<Figure size 576x504 with 1 Axes>"
      ]
     },
     "metadata": {
      "needs_background": "light"
     },
     "output_type": "display_data"
    }
   ],
   "source": [
    "# Plotting the scatter plot of points and color coding by class\n",
    "plt.figure(figsize=(8,7))\n",
    "plt.scatter(testing_plot[:,0], testing_plot[:,1], alpha = 0.1, c = y_test.ravel());\n",
    "plt.title('Outputs')"
   ]
  },
  {
   "cell_type": "markdown",
   "id": "a74fcf8f",
   "metadata": {
    "papermill": {
     "duration": 0.044622,
     "end_time": "2022-03-29T00:38:20.340814",
     "exception": false,
     "start_time": "2022-03-29T00:38:20.296192",
     "status": "completed"
    },
    "tags": []
   },
   "source": [
    "Probability contours"
   ]
  },
  {
   "cell_type": "code",
   "execution_count": 27,
   "id": "d0afc8e3",
   "metadata": {
    "execution": {
     "iopub.execute_input": "2022-03-29T00:38:20.438618Z",
     "iopub.status.busy": "2022-03-29T00:38:20.435561Z",
     "iopub.status.idle": "2022-03-29T00:38:20.447471Z",
     "shell.execute_reply": "2022-03-29T00:38:20.447054Z"
    },
    "papermill": {
     "duration": 0.062045,
     "end_time": "2022-03-29T00:38:20.447578",
     "exception": false,
     "start_time": "2022-03-29T00:38:20.385533",
     "status": "completed"
    },
    "tags": []
   },
   "outputs": [],
   "source": [
    "model_prob = Model(layers[-2:]) "
   ]
  },
  {
   "cell_type": "code",
   "execution_count": 28,
   "id": "9b96e238",
   "metadata": {
    "execution": {
     "iopub.execute_input": "2022-03-29T00:38:20.568952Z",
     "iopub.status.busy": "2022-03-29T00:38:20.567413Z",
     "iopub.status.idle": "2022-03-29T00:38:20.589080Z",
     "shell.execute_reply": "2022-03-29T00:38:20.588572Z"
    },
    "papermill": {
     "duration": 0.071738,
     "end_time": "2022-03-29T00:38:20.589183",
     "exception": false,
     "start_time": "2022-03-29T00:38:20.517445",
     "status": "completed"
    },
    "tags": []
   },
   "outputs": [],
   "source": [
    "#creating the x and y ranges according to the above generated plot.\n",
    "x_range = np.linspace(-4, 1, 100) \n",
    "y_range = np.linspace(-6, 6, 100) \n",
    "x_grid, y_grid = np.meshgrid(x_range, y_range) # x_grid and y_grig are of size 100 X 100\n",
    "\n",
    "# converting x_grid and y_grid to continuous arrays\n",
    "x_gridflat = np.ravel(x_grid)\n",
    "y_gridflat = np.ravel(y_grid)\n",
    "\n",
    "# The last layer of the current model takes two columns as input. Hence transpose of np.vstack() is required.\n",
    "X = np.vstack((x_gridflat, y_gridflat)).T\n",
    "\n",
    "prob_contour = model_prob(X).reshape(100,100) "
   ]
  },
  {
   "cell_type": "code",
   "execution_count": 29,
   "id": "da72499a",
   "metadata": {
    "execution": {
     "iopub.execute_input": "2022-03-29T00:38:20.683466Z",
     "iopub.status.busy": "2022-03-29T00:38:20.682947Z",
     "iopub.status.idle": "2022-03-29T00:38:20.916793Z",
     "shell.execute_reply": "2022-03-29T00:38:20.915997Z"
    },
    "papermill": {
     "duration": 0.282718,
     "end_time": "2022-03-29T00:38:20.916919",
     "exception": false,
     "start_time": "2022-03-29T00:38:20.634201",
     "status": "completed"
    },
    "tags": []
   },
   "outputs": [
    {
     "data": {
      "image/png": "[encoded data removed]",
      "text/plain": [
       "<Figure size 720x648 with 1 Axes>"
      ]
     },
     "metadata": {
      "needs_background": "light"
     },
     "output_type": "display_data"
    }
   ],
   "source": [
    "plt.figure(figsize=(10,9))\n",
    "plt.scatter(testing_plot[:,0], testing_plot[:,1], alpha = 0.1, c = y_test.ravel())\n",
    "contours = plt.contour(x_grid,y_grid,prob_contour)\n",
    "plt.title('Probability Contours')\n",
    "plt.clabel(contours, inline = True );"
   ]
  },
  {
   "cell_type": "code",
   "execution_count": null,
   "id": "e81b4ac7",
   "metadata": {
    "papermill": {
     "duration": 0.047036,
     "end_time": "2022-03-29T00:38:21.011763",
     "exception": false,
     "start_time": "2022-03-29T00:38:20.964727",
     "status": "completed"
    },
    "tags": []
   },
   "outputs": [],
   "source": []
  }
 ],
 "metadata": {
  "kernelspec": {
   "display_name": "Python 3",
   "language": "python",
   "name": "python3"
  },
  "language_info": {
   "codemirror_mode": {
    "name": "ipython",
    "version": 3
   },
   "file_extension": ".py",
   "mimetype": "text/x-python",
   "name": "python",
   "nbconvert_exporter": "python",
   "pygments_lexer": "ipython3",
   "version": "3.6.15"
  },
  "papermill": {
   "default_parameters": {},
   "duration": 95.299669,
   "end_time": "2022-03-29T00:38:21.378147",
   "environment_variables": {},
   "exception": null,
   "input_path": "2020-08-11-part2.ipynb",
   "output_path": "2020-08-11-part2.ipynb",
   "parameters": {},
   "start_time": "2022-03-29T00:36:46.078478",
   "version": "2.3.3"
  }
 },
 "nbformat": 4,
 "nbformat_minor": 5
}