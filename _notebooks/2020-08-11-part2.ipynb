{
 "cells": [
  {
   "cell_type": "markdown",
   "id": "98380cd3",
   "metadata": {
    "papermill": {
     "duration": 0.028016,
     "end_time": "2021-11-09T20:07:17.992511",
     "exception": false,
     "start_time": "2021-11-09T20:07:17.964495",
     "status": "completed"
    },
    "tags": []
   },
   "source": [
    "# Distinguish Your Own Digits (DYOD)"
   ]
  },
  {
   "cell_type": "markdown",
   "id": "ef31240d",
   "metadata": {
    "papermill": {
     "duration": 0.025539,
     "end_time": "2021-11-09T20:07:18.042748",
     "exception": false,
     "start_time": "2021-11-09T20:07:18.017209",
     "status": "completed"
    },
    "tags": []
   },
   "source": [
    "You are going to write a classifier that distinguishes between the number 3 and number 8."
   ]
  },
  {
   "cell_type": "code",
   "execution_count": 1,
   "id": "b15c8646",
   "metadata": {
    "execution": {
     "iopub.execute_input": "2021-11-09T20:07:18.101678Z",
     "iopub.status.busy": "2021-11-09T20:07:18.101138Z",
     "iopub.status.idle": "2021-11-09T20:07:18.111847Z",
     "shell.execute_reply": "2021-11-09T20:07:18.111416Z"
    },
    "papermill": {
     "duration": 0.045287,
     "end_time": "2021-11-09T20:07:18.111987",
     "exception": false,
     "start_time": "2021-11-09T20:07:18.066700",
     "status": "completed"
    },
    "tags": []
   },
   "outputs": [],
   "source": [
    "%load_ext autoreload\n",
    "%autoreload 2"
   ]
  },
  {
   "cell_type": "code",
   "execution_count": 2,
   "id": "22ef38dc",
   "metadata": {
    "execution": {
     "iopub.execute_input": "2021-11-09T20:07:18.164549Z",
     "iopub.status.busy": "2021-11-09T20:07:18.164042Z",
     "iopub.status.idle": "2021-11-09T20:07:18.684263Z",
     "shell.execute_reply": "2021-11-09T20:07:18.683740Z"
    },
    "papermill": {
     "duration": 0.548168,
     "end_time": "2021-11-09T20:07:18.684403",
     "exception": false,
     "start_time": "2021-11-09T20:07:18.136235",
     "status": "completed"
    },
    "tags": []
   },
   "outputs": [],
   "source": [
    "%matplotlib inline\n",
    "import numpy as np\n",
    "import matplotlib.pyplot as plt\n",
    "import pandas as pd"
   ]
  },
  {
   "cell_type": "markdown",
   "id": "ba036198",
   "metadata": {
    "papermill": {
     "duration": 0.024037,
     "end_time": "2021-11-09T20:07:18.733047",
     "exception": false,
     "start_time": "2021-11-09T20:07:18.709010",
     "status": "completed"
    },
    "tags": []
   },
   "source": [
    "From the command line run `pip install mnist`. This is a library that will help you bring down the mnist dataset. If you run this from a notebook, you need to put  `!pip install mnist` in a cell by itself."
   ]
  },
  {
   "cell_type": "code",
   "execution_count": 3,
   "id": "bb6ad8a1",
   "metadata": {
    "execution": {
     "iopub.execute_input": "2021-11-09T20:07:18.785557Z",
     "iopub.status.busy": "2021-11-09T20:07:18.785043Z",
     "iopub.status.idle": "2021-11-09T20:07:20.430722Z",
     "shell.execute_reply": "2021-11-09T20:07:20.430160Z"
    },
    "papermill": {
     "duration": 1.67363,
     "end_time": "2021-11-09T20:07:20.430864",
     "exception": false,
     "start_time": "2021-11-09T20:07:18.757234",
     "status": "completed"
    },
    "tags": []
   },
   "outputs": [
    {
     "name": "stdout",
     "output_type": "stream",
     "text": [
      "Collecting mnist\r\n"
     ]
    },
    {
     "name": "stdout",
     "output_type": "stream",
     "text": [
      "  Downloading mnist-0.2.2-py2.py3-none-any.whl (3.5 kB)\r\n",
      "Requirement already satisfied: numpy in /opt/hostedtoolcache/Python/3.6.15/x64/lib/python3.6/site-packages (from mnist) (1.19.5)\r\n"
     ]
    },
    {
     "name": "stdout",
     "output_type": "stream",
     "text": [
      "Installing collected packages: mnist\r\n"
     ]
    },
    {
     "name": "stdout",
     "output_type": "stream",
     "text": [
      "Successfully installed mnist-0.2.2\r\n"
     ]
    }
   ],
   "source": [
    "!pip install mnist"
   ]
  },
  {
   "cell_type": "markdown",
   "id": "69df9c9a",
   "metadata": {
    "papermill": {
     "duration": 0.025105,
     "end_time": "2021-11-09T20:07:20.481478",
     "exception": false,
     "start_time": "2021-11-09T20:07:20.456373",
     "status": "completed"
    },
    "tags": []
   },
   "source": [
    "## Preparing the Data"
   ]
  },
  {
   "cell_type": "code",
   "execution_count": 4,
   "id": "7f69d806",
   "metadata": {
    "execution": {
     "iopub.execute_input": "2021-11-09T20:07:20.537387Z",
     "iopub.status.busy": "2021-11-09T20:07:20.536030Z",
     "iopub.status.idle": "2021-11-09T20:07:20.549393Z",
     "shell.execute_reply": "2021-11-09T20:07:20.548980Z"
    },
    "papermill": {
     "duration": 0.043167,
     "end_time": "2021-11-09T20:07:20.549506",
     "exception": false,
     "start_time": "2021-11-09T20:07:20.506339",
     "status": "completed"
    },
    "tags": []
   },
   "outputs": [],
   "source": [
    "import mnist"
   ]
  },
  {
   "cell_type": "code",
   "execution_count": 5,
   "id": "a411e44f",
   "metadata": {
    "execution": {
     "iopub.execute_input": "2021-11-09T20:07:20.606899Z",
     "iopub.status.busy": "2021-11-09T20:07:20.606386Z",
     "iopub.status.idle": "2021-11-09T20:07:21.167541Z",
     "shell.execute_reply": "2021-11-09T20:07:21.167045Z"
    },
    "papermill": {
     "duration": 0.593076,
     "end_time": "2021-11-09T20:07:21.167674",
     "exception": false,
     "start_time": "2021-11-09T20:07:20.574598",
     "status": "completed"
    },
    "tags": []
   },
   "outputs": [],
   "source": [
    "train_images = mnist.train_images()\n",
    "train_labels = mnist.train_labels()"
   ]
  },
  {
   "cell_type": "code",
   "execution_count": 6,
   "id": "dceab3a5",
   "metadata": {
    "execution": {
     "iopub.execute_input": "2021-11-09T20:07:21.225436Z",
     "iopub.status.busy": "2021-11-09T20:07:21.223003Z",
     "iopub.status.idle": "2021-11-09T20:07:21.236331Z",
     "shell.execute_reply": "2021-11-09T20:07:21.236757Z"
    },
    "papermill": {
     "duration": 0.043718,
     "end_time": "2021-11-09T20:07:21.236894",
     "exception": false,
     "start_time": "2021-11-09T20:07:21.193176",
     "status": "completed"
    },
    "tags": []
   },
   "outputs": [
    {
     "data": {
      "text/plain": [
       "((60000, 28, 28), (60000,))"
      ]
     },
     "execution_count": 6,
     "metadata": {},
     "output_type": "execute_result"
    }
   ],
   "source": [
    "train_images.shape, train_labels.shape"
   ]
  },
  {
   "cell_type": "code",
   "execution_count": 7,
   "id": "f50dc2bb",
   "metadata": {
    "execution": {
     "iopub.execute_input": "2021-11-09T20:07:21.301407Z",
     "iopub.status.busy": "2021-11-09T20:07:21.294590Z",
     "iopub.status.idle": "2021-11-09T20:07:21.461702Z",
     "shell.execute_reply": "2021-11-09T20:07:21.461161Z"
    },
    "papermill": {
     "duration": 0.199753,
     "end_time": "2021-11-09T20:07:21.461846",
     "exception": false,
     "start_time": "2021-11-09T20:07:21.262093",
     "status": "completed"
    },
    "tags": []
   },
   "outputs": [],
   "source": [
    "test_images = mnist.test_images()\n",
    "test_labels = mnist.test_labels()"
   ]
  },
  {
   "cell_type": "code",
   "execution_count": 8,
   "id": "fc38cf1b",
   "metadata": {
    "execution": {
     "iopub.execute_input": "2021-11-09T20:07:21.517944Z",
     "iopub.status.busy": "2021-11-09T20:07:21.517434Z",
     "iopub.status.idle": "2021-11-09T20:07:21.529768Z",
     "shell.execute_reply": "2021-11-09T20:07:21.530255Z"
    },
    "papermill": {
     "duration": 0.042113,
     "end_time": "2021-11-09T20:07:21.530388",
     "exception": false,
     "start_time": "2021-11-09T20:07:21.488275",
     "status": "completed"
    },
    "tags": []
   },
   "outputs": [
    {
     "data": {
      "text/plain": [
       "((10000, 28, 28), (10000,))"
      ]
     },
     "execution_count": 8,
     "metadata": {},
     "output_type": "execute_result"
    }
   ],
   "source": [
    "test_images.shape, test_labels.shape"
   ]
  },
  {
   "cell_type": "code",
   "execution_count": 9,
   "id": "f9ed8fe0",
   "metadata": {
    "execution": {
     "iopub.execute_input": "2021-11-09T20:07:21.584444Z",
     "iopub.status.busy": "2021-11-09T20:07:21.583942Z",
     "iopub.status.idle": "2021-11-09T20:07:21.720473Z",
     "shell.execute_reply": "2021-11-09T20:07:21.719986Z"
    },
    "papermill": {
     "duration": 0.164835,
     "end_time": "2021-11-09T20:07:21.720609",
     "exception": false,
     "start_time": "2021-11-09T20:07:21.555774",
     "status": "completed"
    },
    "tags": []
   },
   "outputs": [
    {
     "name": "stdout",
     "output_type": "stream",
     "text": [
      "2\n"
     ]
    },
    {
     "data": {
      "text/plain": [
       "<matplotlib.image.AxesImage at 0x7f522cbce0f0>"
      ]
     },
     "execution_count": 9,
     "metadata": {},
     "output_type": "execute_result"
    },
    {
     "data": {
      "image/png": "[encoded data removed]",
      "text/plain": [
       "<Figure size 432x288 with 1 Axes>"
      ]
     },
     "metadata": {
      "needs_background": "light"
     },
     "output_type": "display_data"
    }
   ],
   "source": [
    "image_index = 7776 # You may select anything up to 60,000\n",
    "print(train_labels[image_index]) \n",
    "plt.imshow(train_images[image_index], cmap='Greys')"
   ]
  },
  {
   "cell_type": "markdown",
   "id": "a8d2388d",
   "metadata": {
    "papermill": {
     "duration": 0.026926,
     "end_time": "2021-11-09T20:07:21.776408",
     "exception": false,
     "start_time": "2021-11-09T20:07:21.749482",
     "status": "completed"
    },
    "tags": []
   },
   "source": [
    "## Filter data to get 3 and 8 out"
   ]
  },
  {
   "cell_type": "code",
   "execution_count": 10,
   "id": "776f7fc7",
   "metadata": {
    "execution": {
     "iopub.execute_input": "2021-11-09T20:07:21.837635Z",
     "iopub.status.busy": "2021-11-09T20:07:21.837106Z",
     "iopub.status.idle": "2021-11-09T20:07:21.853817Z",
     "shell.execute_reply": "2021-11-09T20:07:21.853398Z"
    },
    "papermill": {
     "duration": 0.051048,
     "end_time": "2021-11-09T20:07:21.853944",
     "exception": false,
     "start_time": "2021-11-09T20:07:21.802896",
     "status": "completed"
    },
    "tags": []
   },
   "outputs": [],
   "source": [
    "train_filter = np.where((train_labels == 3 ) | (train_labels == 8))\n",
    "test_filter = np.where((test_labels == 3) | (test_labels == 8))\n",
    "X_train, y_train = train_images[train_filter], train_labels[train_filter]\n",
    "X_test, y_test = test_images[test_filter], test_labels[test_filter]"
   ]
  },
  {
   "cell_type": "markdown",
   "id": "948f0b7e",
   "metadata": {
    "papermill": {
     "duration": 0.026443,
     "end_time": "2021-11-09T20:07:21.907131",
     "exception": false,
     "start_time": "2021-11-09T20:07:21.880688",
     "status": "completed"
    },
    "tags": []
   },
   "source": [
    "We normalize the pizel values in the 0 to 1 range"
   ]
  },
  {
   "cell_type": "code",
   "execution_count": 11,
   "id": "ee4c2166",
   "metadata": {
    "execution": {
     "iopub.execute_input": "2021-11-09T20:07:21.966169Z",
     "iopub.status.busy": "2021-11-09T20:07:21.965655Z",
     "iopub.status.idle": "2021-11-09T20:07:22.013686Z",
     "shell.execute_reply": "2021-11-09T20:07:22.013179Z"
    },
    "papermill": {
     "duration": 0.078041,
     "end_time": "2021-11-09T20:07:22.013828",
     "exception": false,
     "start_time": "2021-11-09T20:07:21.935787",
     "status": "completed"
    },
    "tags": []
   },
   "outputs": [],
   "source": [
    "X_train = X_train/255.\n",
    "X_test = X_test/255."
   ]
  },
  {
   "cell_type": "markdown",
   "id": "ddcf4fab",
   "metadata": {
    "papermill": {
     "duration": 0.026485,
     "end_time": "2021-11-09T20:07:22.067351",
     "exception": false,
     "start_time": "2021-11-09T20:07:22.040866",
     "status": "completed"
    },
    "tags": []
   },
   "source": [
    "And setup the labels as 1 (when the digit is 3) and 0 (when the digit is 8)"
   ]
  },
  {
   "cell_type": "code",
   "execution_count": 12,
   "id": "7dc908f2",
   "metadata": {
    "execution": {
     "iopub.execute_input": "2021-11-09T20:07:22.123819Z",
     "iopub.status.busy": "2021-11-09T20:07:22.123294Z",
     "iopub.status.idle": "2021-11-09T20:07:22.136423Z",
     "shell.execute_reply": "2021-11-09T20:07:22.135987Z"
    },
    "papermill": {
     "duration": 0.042933,
     "end_time": "2021-11-09T20:07:22.136537",
     "exception": false,
     "start_time": "2021-11-09T20:07:22.093604",
     "status": "completed"
    },
    "tags": []
   },
   "outputs": [],
   "source": [
    "y_train = 1*(y_train==3)\n",
    "y_test = 1*(y_test==3)"
   ]
  },
  {
   "cell_type": "code",
   "execution_count": 13,
   "id": "01e4e969",
   "metadata": {
    "execution": {
     "iopub.execute_input": "2021-11-09T20:07:22.197885Z",
     "iopub.status.busy": "2021-11-09T20:07:22.197378Z",
     "iopub.status.idle": "2021-11-09T20:07:22.207204Z",
     "shell.execute_reply": "2021-11-09T20:07:22.207586Z"
    },
    "papermill": {
     "duration": 0.044436,
     "end_time": "2021-11-09T20:07:22.207715",
     "exception": false,
     "start_time": "2021-11-09T20:07:22.163279",
     "status": "completed"
    },
    "tags": []
   },
   "outputs": [
    {
     "data": {
      "text/plain": [
       "((11982, 28, 28), (1984, 28, 28))"
      ]
     },
     "execution_count": 13,
     "metadata": {},
     "output_type": "execute_result"
    }
   ],
   "source": [
    "X_train.shape, X_test.shape"
   ]
  },
  {
   "cell_type": "markdown",
   "id": "5ccf3f85",
   "metadata": {
    "papermill": {
     "duration": 0.028866,
     "end_time": "2021-11-09T20:07:22.263673",
     "exception": false,
     "start_time": "2021-11-09T20:07:22.234807",
     "status": "completed"
    },
    "tags": []
   },
   "source": [
    "We reshape the data to flatten the image pixels into a set of features or co-variates:"
   ]
  },
  {
   "cell_type": "code",
   "execution_count": 14,
   "id": "5286a4a3",
   "metadata": {
    "execution": {
     "iopub.execute_input": "2021-11-09T20:07:22.321369Z",
     "iopub.status.busy": "2021-11-09T20:07:22.320248Z",
     "iopub.status.idle": "2021-11-09T20:07:22.335730Z",
     "shell.execute_reply": "2021-11-09T20:07:22.336109Z"
    },
    "papermill": {
     "duration": 0.045926,
     "end_time": "2021-11-09T20:07:22.336242",
     "exception": false,
     "start_time": "2021-11-09T20:07:22.290316",
     "status": "completed"
    },
    "tags": []
   },
   "outputs": [
    {
     "data": {
      "text/plain": [
       "((11982, 784), (1984, 784))"
      ]
     },
     "execution_count": 14,
     "metadata": {},
     "output_type": "execute_result"
    }
   ],
   "source": [
    "X_train = X_train.reshape(X_train.shape[0], -1)\n",
    "X_test = X_test.reshape(X_test.shape[0], -1)\n",
    "X_train.shape, X_test.shape"
   ]
  },
  {
   "cell_type": "code",
   "execution_count": 15,
   "id": "73c5f88a",
   "metadata": {
    "execution": {
     "iopub.execute_input": "2021-11-09T20:07:22.396441Z",
     "iopub.status.busy": "2021-11-09T20:07:22.395927Z",
     "iopub.status.idle": "2021-11-09T20:07:22.413690Z",
     "shell.execute_reply": "2021-11-09T20:07:22.413223Z"
    },
    "papermill": {
     "duration": 0.050673,
     "end_time": "2021-11-09T20:07:22.413814",
     "exception": false,
     "start_time": "2021-11-09T20:07:22.363141",
     "status": "completed"
    },
    "tags": []
   },
   "outputs": [],
   "source": [
    "#Impoting functions from 'Kudzu'\n",
    "from kudzu.model import Model\n",
    "from kudzu.train import Learner\n",
    "from kudzu.optim import GD\n",
    "from kudzu.data import Data, Sampler,Dataloader\n",
    "\n",
    "from kudzu.callbacks import AccCallback\n",
    "from kudzu.callbacks import ClfCallback\n",
    "\n",
    "from kudzu.loss import MSE\n",
    "\n",
    "from kudzu.layer import Sigmoid,Relu\n",
    "from kudzu.layer import Affine"
   ]
  },
  {
   "cell_type": "markdown",
   "id": "bc01172a",
   "metadata": {
    "papermill": {
     "duration": 0.026773,
     "end_time": "2021-11-09T20:07:22.468379",
     "exception": false,
     "start_time": "2021-11-09T20:07:22.441606",
     "status": "completed"
    },
    "tags": []
   },
   "source": [
    "### Let us create a `Config` class, to store important parameters. \n",
    "This class essentially plays the role of a dictionary."
   ]
  },
  {
   "cell_type": "code",
   "execution_count": 16,
   "id": "978281aa",
   "metadata": {
    "execution": {
     "iopub.execute_input": "2021-11-09T20:07:22.526041Z",
     "iopub.status.busy": "2021-11-09T20:07:22.525531Z",
     "iopub.status.idle": "2021-11-09T20:07:22.537952Z",
     "shell.execute_reply": "2021-11-09T20:07:22.537543Z"
    },
    "papermill": {
     "duration": 0.042628,
     "end_time": "2021-11-09T20:07:22.538062",
     "exception": false,
     "start_time": "2021-11-09T20:07:22.495434",
     "status": "completed"
    },
    "tags": []
   },
   "outputs": [],
   "source": [
    "class Config:\n",
    "    pass\n",
    "config = Config()\n",
    "config.lr = 0.001\n",
    "config.num_epochs = 250\n",
    "config.bs = 50"
   ]
  },
  {
   "cell_type": "markdown",
   "id": "1385fa59",
   "metadata": {
    "papermill": {
     "duration": 0.026983,
     "end_time": "2021-11-09T20:07:22.592110",
     "exception": false,
     "start_time": "2021-11-09T20:07:22.565127",
     "status": "completed"
    },
    "tags": []
   },
   "source": [
    "### Running Models with the Training data\n",
    "Details about the network layers:\n",
    "- A first affine layer has 784 inputs and does 100 affine transforms. These are followed by a Relu\n",
    "- A second affine layer has 100 inputs from the 100 activations of the past layer, and does 100 affine transforms. These are followed by a Relu\n",
    "- A third affine layer has 100 activations and does 2 affine transformations to create an embedding for visualization. There is no non-linearity here.\n",
    "- A final \"logistic regression\" which has an affine transform from 2 inputs to 1 output, which is squeezed through a sigmoid.\n"
   ]
  },
  {
   "cell_type": "code",
   "execution_count": 17,
   "id": "2b9c66db",
   "metadata": {
    "execution": {
     "iopub.execute_input": "2021-11-09T20:07:22.649762Z",
     "iopub.status.busy": "2021-11-09T20:07:22.649259Z",
     "iopub.status.idle": "2021-11-09T20:07:22.661537Z",
     "shell.execute_reply": "2021-11-09T20:07:22.661967Z"
    },
    "papermill": {
     "duration": 0.043111,
     "end_time": "2021-11-09T20:07:22.662092",
     "exception": false,
     "start_time": "2021-11-09T20:07:22.618981",
     "status": "completed"
    },
    "tags": []
   },
   "outputs": [],
   "source": [
    "data = Data(X_train, y_train.reshape(-1,1))\n",
    "sampler = Sampler(data, config.bs, shuffle=True)\n",
    "\n",
    "dl = Dataloader(data, sampler)\n",
    "\n",
    "opt = GD(config.lr)\n",
    "loss = MSE()"
   ]
  },
  {
   "cell_type": "code",
   "execution_count": 18,
   "id": "b275e4c2",
   "metadata": {
    "execution": {
     "iopub.execute_input": "2021-11-09T20:07:22.721520Z",
     "iopub.status.busy": "2021-11-09T20:07:22.721009Z",
     "iopub.status.idle": "2021-11-09T20:07:22.731972Z",
     "shell.execute_reply": "2021-11-09T20:07:22.731542Z"
    },
    "papermill": {
     "duration": 0.04307,
     "end_time": "2021-11-09T20:07:22.732082",
     "exception": false,
     "start_time": "2021-11-09T20:07:22.689012",
     "status": "completed"
    },
    "tags": []
   },
   "outputs": [],
   "source": [
    "training_data_x = X_train\n",
    "testing_data_x = X_test\n",
    "training_data_y = y_train.reshape(-1,1)\n",
    "testing_data_y = y_test.reshape(-1,1)"
   ]
  },
  {
   "cell_type": "code",
   "execution_count": 19,
   "id": "76951160",
   "metadata": {
    "execution": {
     "iopub.execute_input": "2021-11-09T20:07:22.793864Z",
     "iopub.status.busy": "2021-11-09T20:07:22.793340Z",
     "iopub.status.idle": "2021-11-09T20:07:22.808239Z",
     "shell.execute_reply": "2021-11-09T20:07:22.807806Z"
    },
    "papermill": {
     "duration": 0.047557,
     "end_time": "2021-11-09T20:07:22.808351",
     "exception": false,
     "start_time": "2021-11-09T20:07:22.760794",
     "status": "completed"
    },
    "tags": []
   },
   "outputs": [
    {
     "name": "stdout",
     "output_type": "stream",
     "text": [
      "xavier\n",
      "xavier\n",
      "xavier\n",
      "xavier\n",
      "xavier\n"
     ]
    }
   ],
   "source": [
    "layers = [Affine(\"first\", 784, 100), Relu(\"first\"), Affine(\"second\", 100, 100), Relu(\"second\"), Affine(\"third\", 100, 2), Affine(\"last\", 2, 1), Sigmoid(\"last\")]\n",
    "model_nn = Model(layers)\n",
    "model_lr = Model([Affine(\"logits\", 784, 1), Sigmoid(\"sigmoid\")])"
   ]
  },
  {
   "cell_type": "code",
   "execution_count": 20,
   "id": "6eede77a",
   "metadata": {
    "execution": {
     "iopub.execute_input": "2021-11-09T20:07:22.866716Z",
     "iopub.status.busy": "2021-11-09T20:07:22.866210Z",
     "iopub.status.idle": "2021-11-09T20:07:22.878453Z",
     "shell.execute_reply": "2021-11-09T20:07:22.878050Z"
    },
    "papermill": {
     "duration": 0.042713,
     "end_time": "2021-11-09T20:07:22.878561",
     "exception": false,
     "start_time": "2021-11-09T20:07:22.835848",
     "status": "completed"
    },
    "tags": []
   },
   "outputs": [],
   "source": [
    "nn_learner = Learner(loss, model_nn, opt, config.num_epochs)\n",
    "acc_nn = ClfCallback(nn_learner, config.bs, training_data_x , testing_data_x, training_data_y, testing_data_y)\n",
    "nn_learner.set_callbacks([acc_nn])"
   ]
  },
  {
   "cell_type": "code",
   "execution_count": 21,
   "id": "877b6cc7",
   "metadata": {
    "execution": {
     "iopub.execute_input": "2021-11-09T20:07:22.940237Z",
     "iopub.status.busy": "2021-11-09T20:07:22.939738Z",
     "iopub.status.idle": "2021-11-09T20:07:22.950153Z",
     "shell.execute_reply": "2021-11-09T20:07:22.949727Z"
    },
    "papermill": {
     "duration": 0.044424,
     "end_time": "2021-11-09T20:07:22.950259",
     "exception": false,
     "start_time": "2021-11-09T20:07:22.905835",
     "status": "completed"
    },
    "tags": []
   },
   "outputs": [],
   "source": [
    "lr_learner = Learner(loss, model_lr, opt, config.num_epochs)\n",
    "acc_lr = ClfCallback(lr_learner, config.bs, training_data_x , testing_data_x, training_data_y, testing_data_y)\n",
    "lr_learner.set_callbacks([acc_lr])"
   ]
  },
  {
   "cell_type": "code",
   "execution_count": 22,
   "id": "d9b133c3",
   "metadata": {
    "execution": {
     "iopub.execute_input": "2021-11-09T20:07:23.007966Z",
     "iopub.status.busy": "2021-11-09T20:07:23.007467Z",
     "iopub.status.idle": "2021-11-09T20:08:37.585215Z",
     "shell.execute_reply": "2021-11-09T20:08:37.585966Z"
    },
    "papermill": {
     "duration": 74.608701,
     "end_time": "2021-11-09T20:08:37.586119",
     "exception": false,
     "start_time": "2021-11-09T20:07:22.977418",
     "status": "completed"
    },
    "tags": []
   },
   "outputs": [
    {
     "name": "stdout",
     "output_type": "stream",
     "text": [
      "Epoch 0, Loss 0.2401\n",
      "Training Accuracy: 0.7303, Testing Accuracy: 0.7223\n",
      "\n"
     ]
    },
    {
     "name": "stdout",
     "output_type": "stream",
     "text": [
      "Epoch 10, Loss 0.0839\n",
      "Training Accuracy: 0.9224, Testing Accuracy: 0.9315\n",
      "\n"
     ]
    },
    {
     "name": "stdout",
     "output_type": "stream",
     "text": [
      "Epoch 20, Loss 0.0533\n",
      "Training Accuracy: 0.9426, Testing Accuracy: 0.9526\n",
      "\n"
     ]
    },
    {
     "name": "stdout",
     "output_type": "stream",
     "text": [
      "Epoch 30, Loss 0.0427\n",
      "Training Accuracy: 0.9531, Testing Accuracy: 0.9612\n",
      "\n"
     ]
    },
    {
     "name": "stdout",
     "output_type": "stream",
     "text": [
      "Epoch 40, Loss 0.0374\n",
      "Training Accuracy: 0.9584, Testing Accuracy: 0.9632\n",
      "\n"
     ]
    },
    {
     "name": "stdout",
     "output_type": "stream",
     "text": [
      "Epoch 50, Loss 0.0341\n",
      "Training Accuracy: 0.9605, Testing Accuracy: 0.9662\n",
      "\n"
     ]
    },
    {
     "name": "stdout",
     "output_type": "stream",
     "text": [
      "Epoch 60, Loss 0.0318\n",
      "Training Accuracy: 0.9634, Testing Accuracy: 0.9672\n",
      "\n"
     ]
    },
    {
     "name": "stdout",
     "output_type": "stream",
     "text": [
      "Epoch 70, Loss 0.0301\n",
      "Training Accuracy: 0.9649, Testing Accuracy: 0.9688\n",
      "\n"
     ]
    },
    {
     "name": "stdout",
     "output_type": "stream",
     "text": [
      "Epoch 80, Loss 0.0288\n",
      "Training Accuracy: 0.9667, Testing Accuracy: 0.9693\n",
      "\n"
     ]
    },
    {
     "name": "stdout",
     "output_type": "stream",
     "text": [
      "Epoch 90, Loss 0.0277\n",
      "Training Accuracy: 0.9676, Testing Accuracy: 0.9698\n",
      "\n"
     ]
    },
    {
     "name": "stdout",
     "output_type": "stream",
     "text": [
      "Epoch 100, Loss 0.0267\n",
      "Training Accuracy: 0.9691, Testing Accuracy: 0.9708\n",
      "\n"
     ]
    },
    {
     "name": "stdout",
     "output_type": "stream",
     "text": [
      "Epoch 110, Loss 0.0259\n",
      "Training Accuracy: 0.9694, Testing Accuracy: 0.9708\n",
      "\n"
     ]
    },
    {
     "name": "stdout",
     "output_type": "stream",
     "text": [
      "Epoch 120, Loss 0.0252\n",
      "Training Accuracy: 0.9707, Testing Accuracy: 0.9703\n",
      "\n"
     ]
    },
    {
     "name": "stdout",
     "output_type": "stream",
     "text": [
      "Epoch 130, Loss 0.0245\n",
      "Training Accuracy: 0.9714, Testing Accuracy: 0.9703\n",
      "\n"
     ]
    },
    {
     "name": "stdout",
     "output_type": "stream",
     "text": [
      "Epoch 140, Loss 0.0239\n",
      "Training Accuracy: 0.9719, Testing Accuracy: 0.9698\n",
      "\n"
     ]
    },
    {
     "name": "stdout",
     "output_type": "stream",
     "text": [
      "Epoch 150, Loss 0.0233\n",
      "Training Accuracy: 0.9727, Testing Accuracy: 0.9708\n",
      "\n"
     ]
    },
    {
     "name": "stdout",
     "output_type": "stream",
     "text": [
      "Epoch 160, Loss 0.0228\n",
      "Training Accuracy: 0.9738, Testing Accuracy: 0.9703\n",
      "\n"
     ]
    },
    {
     "name": "stdout",
     "output_type": "stream",
     "text": [
      "Epoch 170, Loss 0.0223\n",
      "Training Accuracy: 0.9743, Testing Accuracy: 0.9718\n",
      "\n"
     ]
    },
    {
     "name": "stdout",
     "output_type": "stream",
     "text": [
      "Epoch 180, Loss 0.0219\n",
      "Training Accuracy: 0.9747, Testing Accuracy: 0.9718\n",
      "\n"
     ]
    },
    {
     "name": "stdout",
     "output_type": "stream",
     "text": [
      "Epoch 190, Loss 0.0215\n",
      "Training Accuracy: 0.9753, Testing Accuracy: 0.9723\n",
      "\n"
     ]
    },
    {
     "name": "stdout",
     "output_type": "stream",
     "text": [
      "Epoch 200, Loss 0.021\n",
      "Training Accuracy: 0.9757, Testing Accuracy: 0.9723\n",
      "\n"
     ]
    },
    {
     "name": "stdout",
     "output_type": "stream",
     "text": [
      "Epoch 210, Loss 0.0207\n",
      "Training Accuracy: 0.9764, Testing Accuracy: 0.9728\n",
      "\n"
     ]
    },
    {
     "name": "stdout",
     "output_type": "stream",
     "text": [
      "Epoch 220, Loss 0.0203\n",
      "Training Accuracy: 0.9770, Testing Accuracy: 0.9728\n",
      "\n"
     ]
    },
    {
     "name": "stdout",
     "output_type": "stream",
     "text": [
      "Epoch 230, Loss 0.0199\n",
      "Training Accuracy: 0.9777, Testing Accuracy: 0.9733\n",
      "\n"
     ]
    },
    {
     "name": "stdout",
     "output_type": "stream",
     "text": [
      "Epoch 240, Loss 0.0196\n",
      "Training Accuracy: 0.9785, Testing Accuracy: 0.9738\n",
      "\n"
     ]
    },
    {
     "data": {
      "text/plain": [
       "0.032812975258106954"
      ]
     },
     "execution_count": 22,
     "metadata": {},
     "output_type": "execute_result"
    }
   ],
   "source": [
    "nn_learner.train_loop(dl)"
   ]
  },
  {
   "cell_type": "code",
   "execution_count": 23,
   "id": "e0163366",
   "metadata": {
    "execution": {
     "iopub.execute_input": "2021-11-09T20:08:37.667426Z",
     "iopub.status.busy": "2021-11-09T20:08:37.666912Z",
     "iopub.status.idle": "2021-11-09T20:08:51.220433Z",
     "shell.execute_reply": "2021-11-09T20:08:51.221190Z"
    },
    "papermill": {
     "duration": 13.600483,
     "end_time": "2021-11-09T20:08:51.221341",
     "exception": false,
     "start_time": "2021-11-09T20:08:37.620858",
     "status": "completed"
    },
    "tags": []
   },
   "outputs": [
    {
     "name": "stdout",
     "output_type": "stream",
     "text": [
      "Epoch 0, Loss 0.2247\n",
      "Training Accuracy: 0.7426, Testing Accuracy: 0.7359\n",
      "\n"
     ]
    },
    {
     "name": "stdout",
     "output_type": "stream",
     "text": [
      "Epoch 10, Loss 0.1021\n",
      "Training Accuracy: 0.9091, Testing Accuracy: 0.9229\n",
      "\n"
     ]
    },
    {
     "name": "stdout",
     "output_type": "stream",
     "text": [
      "Epoch 20, Loss 0.0787\n",
      "Training Accuracy: 0.9283, Testing Accuracy: 0.9390\n",
      "\n"
     ]
    },
    {
     "name": "stdout",
     "output_type": "stream",
     "text": [
      "Epoch 30, Loss 0.0678\n",
      "Training Accuracy: 0.9379, Testing Accuracy: 0.9466\n",
      "\n"
     ]
    },
    {
     "name": "stdout",
     "output_type": "stream",
     "text": [
      "Epoch 40, Loss 0.0613\n",
      "Training Accuracy: 0.9423, Testing Accuracy: 0.9531\n",
      "\n"
     ]
    },
    {
     "name": "stdout",
     "output_type": "stream",
     "text": [
      "Epoch 50, Loss 0.0568\n",
      "Training Accuracy: 0.9453, Testing Accuracy: 0.9556\n",
      "\n"
     ]
    },
    {
     "name": "stdout",
     "output_type": "stream",
     "text": [
      "Epoch 60, Loss 0.0536\n",
      "Training Accuracy: 0.9483, Testing Accuracy: 0.9572\n",
      "\n"
     ]
    },
    {
     "name": "stdout",
     "output_type": "stream",
     "text": [
      "Epoch 70, Loss 0.051\n",
      "Training Accuracy: 0.9500, Testing Accuracy: 0.9587\n",
      "\n"
     ]
    },
    {
     "name": "stdout",
     "output_type": "stream",
     "text": [
      "Epoch 80, Loss 0.049\n",
      "Training Accuracy: 0.9514, Testing Accuracy: 0.9607\n",
      "\n"
     ]
    },
    {
     "name": "stdout",
     "output_type": "stream",
     "text": [
      "Epoch 90, Loss 0.0473\n",
      "Training Accuracy: 0.9528, Testing Accuracy: 0.9612\n",
      "\n"
     ]
    },
    {
     "name": "stdout",
     "output_type": "stream",
     "text": [
      "Epoch 100, Loss 0.0459\n",
      "Training Accuracy: 0.9537, Testing Accuracy: 0.9617\n",
      "\n"
     ]
    },
    {
     "name": "stdout",
     "output_type": "stream",
     "text": [
      "Epoch 110, Loss 0.0447\n",
      "Training Accuracy: 0.9544, Testing Accuracy: 0.9637\n",
      "\n"
     ]
    },
    {
     "name": "stdout",
     "output_type": "stream",
     "text": [
      "Epoch 120, Loss 0.0436\n",
      "Training Accuracy: 0.9549, Testing Accuracy: 0.9637\n",
      "\n"
     ]
    },
    {
     "name": "stdout",
     "output_type": "stream",
     "text": [
      "Epoch 130, Loss 0.0427\n",
      "Training Accuracy: 0.9553, Testing Accuracy: 0.9637\n",
      "\n"
     ]
    },
    {
     "name": "stdout",
     "output_type": "stream",
     "text": [
      "Epoch 140, Loss 0.0418\n",
      "Training Accuracy: 0.9563, Testing Accuracy: 0.9647\n",
      "\n"
     ]
    },
    {
     "name": "stdout",
     "output_type": "stream",
     "text": [
      "Epoch 150, Loss 0.0411\n",
      "Training Accuracy: 0.9569, Testing Accuracy: 0.9652\n",
      "\n"
     ]
    },
    {
     "name": "stdout",
     "output_type": "stream",
     "text": [
      "Epoch 160, Loss 0.0404\n",
      "Training Accuracy: 0.9573, Testing Accuracy: 0.9657\n",
      "\n"
     ]
    },
    {
     "name": "stdout",
     "output_type": "stream",
     "text": [
      "Epoch 170, Loss 0.0398\n",
      "Training Accuracy: 0.9574, Testing Accuracy: 0.9657\n",
      "\n"
     ]
    },
    {
     "name": "stdout",
     "output_type": "stream",
     "text": [
      "Epoch 180, Loss 0.0393\n",
      "Training Accuracy: 0.9580, Testing Accuracy: 0.9662\n",
      "\n"
     ]
    },
    {
     "name": "stdout",
     "output_type": "stream",
     "text": [
      "Epoch 190, Loss 0.0387\n",
      "Training Accuracy: 0.9584, Testing Accuracy: 0.9667\n",
      "\n"
     ]
    },
    {
     "name": "stdout",
     "output_type": "stream",
     "text": [
      "Epoch 200, Loss 0.0383\n",
      "Training Accuracy: 0.9585, Testing Accuracy: 0.9672\n",
      "\n"
     ]
    },
    {
     "name": "stdout",
     "output_type": "stream",
     "text": [
      "Epoch 210, Loss 0.0378\n",
      "Training Accuracy: 0.9586, Testing Accuracy: 0.9688\n",
      "\n"
     ]
    },
    {
     "name": "stdout",
     "output_type": "stream",
     "text": [
      "Epoch 220, Loss 0.0374\n",
      "Training Accuracy: 0.9590, Testing Accuracy: 0.9693\n",
      "\n"
     ]
    },
    {
     "name": "stdout",
     "output_type": "stream",
     "text": [
      "Epoch 230, Loss 0.037\n",
      "Training Accuracy: 0.9596, Testing Accuracy: 0.9688\n",
      "\n"
     ]
    },
    {
     "name": "stdout",
     "output_type": "stream",
     "text": [
      "Epoch 240, Loss 0.0367\n",
      "Training Accuracy: 0.9599, Testing Accuracy: 0.9693\n",
      "\n"
     ]
    },
    {
     "data": {
      "text/plain": [
       "0.019761216736782418"
      ]
     },
     "execution_count": 23,
     "metadata": {},
     "output_type": "execute_result"
    }
   ],
   "source": [
    "lr_learner.train_loop(dl)"
   ]
  },
  {
   "cell_type": "code",
   "execution_count": 24,
   "id": "ca410940",
   "metadata": {
    "execution": {
     "iopub.execute_input": "2021-11-09T20:08:51.318054Z",
     "iopub.status.busy": "2021-11-09T20:08:51.317530Z",
     "iopub.status.idle": "2021-11-09T20:08:51.533867Z",
     "shell.execute_reply": "2021-11-09T20:08:51.533422Z"
    },
    "papermill": {
     "duration": 0.27058,
     "end_time": "2021-11-09T20:08:51.533997",
     "exception": false,
     "start_time": "2021-11-09T20:08:51.263417",
     "status": "completed"
    },
    "tags": []
   },
   "outputs": [
    {
     "data": {
      "text/plain": [
       "<matplotlib.legend.Legend at 0x7f522c730780>"
      ]
     },
     "execution_count": 24,
     "metadata": {},
     "output_type": "execute_result"
    },
    {
     "data": {
      "image/png": "[encoded data removed]",
      "text/plain": [
       "<Figure size 1080x720 with 1 Axes>"
      ]
     },
     "metadata": {
      "needs_background": "light"
     },
     "output_type": "display_data"
    }
   ],
   "source": [
    "#comparing the results of NN and LR\n",
    "plt.figure(figsize=(15,10))\n",
    "\n",
    "# Neural Network plots\n",
    "plt.plot(acc_nn.accuracies, 'r-', label = \"Training Accuracies - NN\")\n",
    "plt.plot(acc_nn.test_accuracies, 'g-', label = \"Testing Accuracies - NN\")\n",
    "\n",
    "# Logistic Regression plots\n",
    "plt.plot(acc_lr.accuracies, 'k-', label = \"Training Accuracies - LR\")\n",
    "plt.plot(acc_lr.test_accuracies, 'b-', label = \"Testing Accuracies - LR\")\n",
    "plt.legend()"
   ]
  },
  {
   "cell_type": "markdown",
   "id": "80dfb35c",
   "metadata": {
    "papermill": {
     "duration": 0.042949,
     "end_time": "2021-11-09T20:08:51.619308",
     "exception": false,
     "start_time": "2021-11-09T20:08:51.576359",
     "status": "completed"
    },
    "tags": []
   },
   "source": [
    "#### Plotting the outputs of this layer of the NN.\n"
   ]
  },
  {
   "cell_type": "code",
   "execution_count": 25,
   "id": "45eb2ff5",
   "metadata": {
    "execution": {
     "iopub.execute_input": "2021-11-09T20:08:51.709289Z",
     "iopub.status.busy": "2021-11-09T20:08:51.708694Z",
     "iopub.status.idle": "2021-11-09T20:08:51.727704Z",
     "shell.execute_reply": "2021-11-09T20:08:51.728124Z"
    },
    "papermill": {
     "duration": 0.066997,
     "end_time": "2021-11-09T20:08:51.728265",
     "exception": false,
     "start_time": "2021-11-09T20:08:51.661268",
     "status": "completed"
    },
    "tags": []
   },
   "outputs": [],
   "source": [
    "new_model = Model(layers[:-2])\n",
    "testing_plot = new_model(testing_data_x)"
   ]
  },
  {
   "cell_type": "code",
   "execution_count": 26,
   "id": "4c0a5485",
   "metadata": {
    "execution": {
     "iopub.execute_input": "2021-11-09T20:08:51.820904Z",
     "iopub.status.busy": "2021-11-09T20:08:51.819201Z",
     "iopub.status.idle": "2021-11-09T20:08:52.015729Z",
     "shell.execute_reply": "2021-11-09T20:08:52.015273Z"
    },
    "papermill": {
     "duration": 0.244746,
     "end_time": "2021-11-09T20:08:52.015854",
     "exception": false,
     "start_time": "2021-11-09T20:08:51.771108",
     "status": "completed"
    },
    "tags": []
   },
   "outputs": [
    {
     "data": {
      "text/plain": [
       "Text(0.5, 1.0, 'Outputs')"
      ]
     },
     "execution_count": 26,
     "metadata": {},
     "output_type": "execute_result"
    },
    {
     "data": {
      "image/png": "[encoded data removed]",
      "text/plain": [
       "<Figure size 576x504 with 1 Axes>"
      ]
     },
     "metadata": {
      "needs_background": "light"
     },
     "output_type": "display_data"
    }
   ],
   "source": [
    "# Plotting the scatter plot of points and color coding by class\n",
    "plt.figure(figsize=(8,7))\n",
    "plt.scatter(testing_plot[:,0], testing_plot[:,1], alpha = 0.1, c = y_test.ravel());\n",
    "plt.title('Outputs')"
   ]
  },
  {
   "cell_type": "markdown",
   "id": "a74fcf8f",
   "metadata": {
    "papermill": {
     "duration": 0.044497,
     "end_time": "2021-11-09T20:08:52.104636",
     "exception": false,
     "start_time": "2021-11-09T20:08:52.060139",
     "status": "completed"
    },
    "tags": []
   },
   "source": [
    "Probability contours"
   ]
  },
  {
   "cell_type": "code",
   "execution_count": 27,
   "id": "d0afc8e3",
   "metadata": {
    "execution": {
     "iopub.execute_input": "2021-11-09T20:08:52.212178Z",
     "iopub.status.busy": "2021-11-09T20:08:52.211179Z",
     "iopub.status.idle": "2021-11-09T20:08:52.215232Z",
     "shell.execute_reply": "2021-11-09T20:08:52.214821Z"
    },
    "papermill": {
     "duration": 0.066546,
     "end_time": "2021-11-09T20:08:52.215350",
     "exception": false,
     "start_time": "2021-11-09T20:08:52.148804",
     "status": "completed"
    },
    "tags": []
   },
   "outputs": [],
   "source": [
    "model_prob = Model(layers[-2:]) "
   ]
  },
  {
   "cell_type": "code",
   "execution_count": 28,
   "id": "9b96e238",
   "metadata": {
    "execution": {
     "iopub.execute_input": "2021-11-09T20:08:52.342859Z",
     "iopub.status.busy": "2021-11-09T20:08:52.342303Z",
     "iopub.status.idle": "2021-11-09T20:08:52.354739Z",
     "shell.execute_reply": "2021-11-09T20:08:52.355515Z"
    },
    "papermill": {
     "duration": 0.06586,
     "end_time": "2021-11-09T20:08:52.355653",
     "exception": false,
     "start_time": "2021-11-09T20:08:52.289793",
     "status": "completed"
    },
    "tags": []
   },
   "outputs": [],
   "source": [
    "#creating the x and y ranges according to the above generated plot.\n",
    "x_range = np.linspace(-4, 1, 100) \n",
    "y_range = np.linspace(-6, 6, 100) \n",
    "x_grid, y_grid = np.meshgrid(x_range, y_range) # x_grid and y_grig are of size 100 X 100\n",
    "\n",
    "# converting x_grid and y_grid to continuous arrays\n",
    "x_gridflat = np.ravel(x_grid)\n",
    "y_gridflat = np.ravel(y_grid)\n",
    "\n",
    "# The last layer of the current model takes two columns as input. Hence transpose of np.vstack() is required.\n",
    "X = np.vstack((x_gridflat, y_gridflat)).T\n",
    "\n",
    "prob_contour = model_prob(X).reshape(100,100) "
   ]
  },
  {
   "cell_type": "code",
   "execution_count": 29,
   "id": "da72499a",
   "metadata": {
    "execution": {
     "iopub.execute_input": "2021-11-09T20:08:52.454386Z",
     "iopub.status.busy": "2021-11-09T20:08:52.453873Z",
     "iopub.status.idle": "2021-11-09T20:08:52.683893Z",
     "shell.execute_reply": "2021-11-09T20:08:52.683075Z"
    },
    "papermill": {
     "duration": 0.283011,
     "end_time": "2021-11-09T20:08:52.684028",
     "exception": false,
     "start_time": "2021-11-09T20:08:52.401017",
     "status": "completed"
    },
    "tags": []
   },
   "outputs": [
    {
     "data": {
      "image/png": "[encoded data removed]",
      "text/plain": [
       "<Figure size 720x648 with 1 Axes>"
      ]
     },
     "metadata": {
      "needs_background": "light"
     },
     "output_type": "display_data"
    }
   ],
   "source": [
    "plt.figure(figsize=(10,9))\n",
    "plt.scatter(testing_plot[:,0], testing_plot[:,1], alpha = 0.1, c = y_test.ravel())\n",
    "contours = plt.contour(x_grid,y_grid,prob_contour)\n",
    "plt.title('Probability Contours')\n",
    "plt.clabel(contours, inline = True );"
   ]
  },
  {
   "cell_type": "code",
   "execution_count": null,
   "id": "e81b4ac7",
   "metadata": {
    "papermill": {
     "duration": 0.046625,
     "end_time": "2021-11-09T20:08:52.777870",
     "exception": false,
     "start_time": "2021-11-09T20:08:52.731245",
     "status": "completed"
    },
    "tags": []
   },
   "outputs": [],
   "source": []
  }
 ],
 "metadata": {
  "kernelspec": {
   "display_name": "Python 3",
   "language": "python",
   "name": "python3"
  },
  "language_info": {
   "codemirror_mode": {
    "name": "ipython",
    "version": 3
   },
   "file_extension": ".py",
   "mimetype": "text/x-python",
   "name": "python",
   "nbconvert_exporter": "python",
   "pygments_lexer": "ipython3",
   "version": "3.6.15"
  },
  "papermill": {
   "default_parameters": {},
   "duration": 96.304872,
   "end_time": "2021-11-09T20:08:53.233585",
   "environment_variables": {},
   "exception": null,
   "input_path": "2020-08-11-part2.ipynb",
   "output_path": "2020-08-11-part2.ipynb",
   "parameters": {},
   "start_time": "2021-11-09T20:07:16.928713",
   "version": "2.3.3"
  }
 },
 "nbformat": 4,
 "nbformat_minor": 5
}