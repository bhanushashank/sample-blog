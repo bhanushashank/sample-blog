{
 "cells": [
  {
   "cell_type": "markdown",
   "id": "98380cd3",
   "metadata": {
    "papermill": {
     "duration": 0.036556,
     "end_time": "2022-10-12T10:15:33.539239",
     "exception": false,
     "start_time": "2022-10-12T10:15:33.502683",
     "status": "completed"
    },
    "tags": []
   },
   "source": [
    "# Distinguish Your Own Digits (DYOD)"
   ]
  },
  {
   "cell_type": "markdown",
   "id": "ef31240d",
   "metadata": {
    "papermill": {
     "duration": 0.03116,
     "end_time": "2022-10-12T10:15:33.602902",
     "exception": false,
     "start_time": "2022-10-12T10:15:33.571742",
     "status": "completed"
    },
    "tags": []
   },
   "source": [
    "You are going to write a classifier that distinguishes between the number 3 and number 8."
   ]
  },
  {
   "cell_type": "code",
   "execution_count": 1,
   "id": "b15c8646",
   "metadata": {
    "execution": {
     "iopub.execute_input": "2022-10-12T10:15:33.679325Z",
     "iopub.status.busy": "2022-10-12T10:15:33.678569Z",
     "iopub.status.idle": "2022-10-12T10:15:33.690838Z",
     "shell.execute_reply": "2022-10-12T10:15:33.691341Z"
    },
    "papermill": {
     "duration": 0.054931,
     "end_time": "2022-10-12T10:15:33.691502",
     "exception": false,
     "start_time": "2022-10-12T10:15:33.636571",
     "status": "completed"
    },
    "tags": []
   },
   "outputs": [],
   "source": [
    "%load_ext autoreload\n",
    "%autoreload 2"
   ]
  },
  {
   "cell_type": "code",
   "execution_count": 2,
   "id": "22ef38dc",
   "metadata": {
    "execution": {
     "iopub.execute_input": "2022-10-12T10:15:33.760462Z",
     "iopub.status.busy": "2022-10-12T10:15:33.759721Z",
     "iopub.status.idle": "2022-10-12T10:15:34.480363Z",
     "shell.execute_reply": "2022-10-12T10:15:34.479449Z"
    },
    "papermill": {
     "duration": 0.759088,
     "end_time": "2022-10-12T10:15:34.480523",
     "exception": false,
     "start_time": "2022-10-12T10:15:33.721435",
     "status": "completed"
    },
    "tags": []
   },
   "outputs": [],
   "source": [
    "%matplotlib inline\n",
    "import numpy as np\n",
    "import matplotlib.pyplot as plt\n",
    "import pandas as pd"
   ]
  },
  {
   "cell_type": "markdown",
   "id": "ba036198",
   "metadata": {
    "papermill": {
     "duration": 0.030618,
     "end_time": "2022-10-12T10:15:34.543584",
     "exception": false,
     "start_time": "2022-10-12T10:15:34.512966",
     "status": "completed"
    },
    "tags": []
   },
   "source": [
    "From the command line run `pip install mnist`. This is a library that will help you bring down the mnist dataset. If you run this from a notebook, you need to put  `!pip install mnist` in a cell by itself."
   ]
  },
  {
   "cell_type": "code",
   "execution_count": 3,
   "id": "bb6ad8a1",
   "metadata": {
    "execution": {
     "iopub.execute_input": "2022-10-12T10:15:34.621202Z",
     "iopub.status.busy": "2022-10-12T10:15:34.620496Z",
     "iopub.status.idle": "2022-10-12T10:15:37.514669Z",
     "shell.execute_reply": "2022-10-12T10:15:37.513529Z"
    },
    "papermill": {
     "duration": 2.939202,
     "end_time": "2022-10-12T10:15:37.514861",
     "exception": false,
     "start_time": "2022-10-12T10:15:34.575659",
     "status": "completed"
    },
    "tags": []
   },
   "outputs": [
    {
     "name": "stdout",
     "output_type": "stream",
     "text": [
      "Collecting mnist\r\n"
     ]
    },
    {
     "name": "stdout",
     "output_type": "stream",
     "text": [
      "  Downloading mnist-0.2.2-py2.py3-none-any.whl (3.5 kB)\r\n",
      "Requirement already satisfied: numpy in /opt/hostedtoolcache/Python/3.6.15/x64/lib/python3.6/site-packages (from mnist) (1.19.5)\r\n"
     ]
    },
    {
     "name": "stdout",
     "output_type": "stream",
     "text": [
      "Installing collected packages: mnist\r\n"
     ]
    },
    {
     "name": "stdout",
     "output_type": "stream",
     "text": [
      "Successfully installed mnist-0.2.2\r\n"
     ]
    }
   ],
   "source": [
    "!pip install mnist"
   ]
  },
  {
   "cell_type": "markdown",
   "id": "69df9c9a",
   "metadata": {
    "papermill": {
     "duration": 0.033386,
     "end_time": "2022-10-12T10:15:37.581513",
     "exception": false,
     "start_time": "2022-10-12T10:15:37.548127",
     "status": "completed"
    },
    "tags": []
   },
   "source": [
    "## Preparing the Data"
   ]
  },
  {
   "cell_type": "code",
   "execution_count": 4,
   "id": "7f69d806",
   "metadata": {
    "execution": {
     "iopub.execute_input": "2022-10-12T10:15:37.655582Z",
     "iopub.status.busy": "2022-10-12T10:15:37.654348Z",
     "iopub.status.idle": "2022-10-12T10:15:37.673314Z",
     "shell.execute_reply": "2022-10-12T10:15:37.672501Z"
    },
    "papermill": {
     "duration": 0.05994,
     "end_time": "2022-10-12T10:15:37.673455",
     "exception": false,
     "start_time": "2022-10-12T10:15:37.613515",
     "status": "completed"
    },
    "tags": []
   },
   "outputs": [],
   "source": [
    "import mnist"
   ]
  },
  {
   "cell_type": "code",
   "execution_count": 5,
   "id": "a411e44f",
   "metadata": {
    "execution": {
     "iopub.execute_input": "2022-10-12T10:15:37.746062Z",
     "iopub.status.busy": "2022-10-12T10:15:37.742571Z",
     "iopub.status.idle": "2022-10-12T10:15:38.322692Z",
     "shell.execute_reply": "2022-10-12T10:15:38.321614Z"
    },
    "papermill": {
     "duration": 0.616216,
     "end_time": "2022-10-12T10:15:38.322849",
     "exception": false,
     "start_time": "2022-10-12T10:15:37.706633",
     "status": "completed"
    },
    "tags": []
   },
   "outputs": [],
   "source": [
    "train_images = mnist.train_images()\n",
    "train_labels = mnist.train_labels()"
   ]
  },
  {
   "cell_type": "code",
   "execution_count": 6,
   "id": "dceab3a5",
   "metadata": {
    "execution": {
     "iopub.execute_input": "2022-10-12T10:15:38.397146Z",
     "iopub.status.busy": "2022-10-12T10:15:38.396388Z",
     "iopub.status.idle": "2022-10-12T10:15:38.419085Z",
     "shell.execute_reply": "2022-10-12T10:15:38.419890Z"
    },
    "papermill": {
     "duration": 0.063138,
     "end_time": "2022-10-12T10:15:38.420069",
     "exception": false,
     "start_time": "2022-10-12T10:15:38.356931",
     "status": "completed"
    },
    "tags": []
   },
   "outputs": [
    {
     "data": {
      "text/plain": [
       "((60000, 28, 28), (60000,))"
      ]
     },
     "execution_count": 6,
     "metadata": {},
     "output_type": "execute_result"
    }
   ],
   "source": [
    "train_images.shape, train_labels.shape"
   ]
  },
  {
   "cell_type": "code",
   "execution_count": 7,
   "id": "f50dc2bb",
   "metadata": {
    "execution": {
     "iopub.execute_input": "2022-10-12T10:15:38.493392Z",
     "iopub.status.busy": "2022-10-12T10:15:38.492638Z",
     "iopub.status.idle": "2022-10-12T10:15:38.610582Z",
     "shell.execute_reply": "2022-10-12T10:15:38.609936Z"
    },
    "papermill": {
     "duration": 0.157659,
     "end_time": "2022-10-12T10:15:38.610734",
     "exception": false,
     "start_time": "2022-10-12T10:15:38.453075",
     "status": "completed"
    },
    "tags": []
   },
   "outputs": [],
   "source": [
    "test_images = mnist.test_images()\n",
    "test_labels = mnist.test_labels()"
   ]
  },
  {
   "cell_type": "code",
   "execution_count": 8,
   "id": "fc38cf1b",
   "metadata": {
    "execution": {
     "iopub.execute_input": "2022-10-12T10:15:38.683615Z",
     "iopub.status.busy": "2022-10-12T10:15:38.682858Z",
     "iopub.status.idle": "2022-10-12T10:15:38.698119Z",
     "shell.execute_reply": "2022-10-12T10:15:38.698874Z"
    },
    "papermill": {
     "duration": 0.05426,
     "end_time": "2022-10-12T10:15:38.699040",
     "exception": false,
     "start_time": "2022-10-12T10:15:38.644780",
     "status": "completed"
    },
    "tags": []
   },
   "outputs": [
    {
     "data": {
      "text/plain": [
       "((10000, 28, 28), (10000,))"
      ]
     },
     "execution_count": 8,
     "metadata": {},
     "output_type": "execute_result"
    }
   ],
   "source": [
    "test_images.shape, test_labels.shape"
   ]
  },
  {
   "cell_type": "code",
   "execution_count": 9,
   "id": "f9ed8fe0",
   "metadata": {
    "execution": {
     "iopub.execute_input": "2022-10-12T10:15:38.769990Z",
     "iopub.status.busy": "2022-10-12T10:15:38.769303Z",
     "iopub.status.idle": "2022-10-12T10:15:38.970500Z",
     "shell.execute_reply": "2022-10-12T10:15:38.971167Z"
    },
    "papermill": {
     "duration": 0.238836,
     "end_time": "2022-10-12T10:15:38.971378",
     "exception": false,
     "start_time": "2022-10-12T10:15:38.732542",
     "status": "completed"
    },
    "tags": []
   },
   "outputs": [
    {
     "name": "stdout",
     "output_type": "stream",
     "text": [
      "2\n"
     ]
    },
    {
     "data": {
      "text/plain": [
       "<matplotlib.image.AxesImage at 0x7fa855a37cf8>"
      ]
     },
     "execution_count": 9,
     "metadata": {},
     "output_type": "execute_result"
    },
    {
     "data": {
      "image/png": "[encoded data removed]",
      "text/plain": [
       "<Figure size 432x288 with 1 Axes>"
      ]
     },
     "metadata": {
      "needs_background": "light"
     },
     "output_type": "display_data"
    }
   ],
   "source": [
    "image_index = 7776 # You may select anything up to 60,000\n",
    "print(train_labels[image_index]) \n",
    "plt.imshow(train_images[image_index], cmap='Greys')"
   ]
  },
  {
   "cell_type": "markdown",
   "id": "a8d2388d",
   "metadata": {
    "papermill": {
     "duration": 0.035355,
     "end_time": "2022-10-12T10:15:39.042087",
     "exception": false,
     "start_time": "2022-10-12T10:15:39.006732",
     "status": "completed"
    },
    "tags": []
   },
   "source": [
    "## Filter data to get 3 and 8 out"
   ]
  },
  {
   "cell_type": "code",
   "execution_count": 10,
   "id": "776f7fc7",
   "metadata": {
    "execution": {
     "iopub.execute_input": "2022-10-12T10:15:39.119033Z",
     "iopub.status.busy": "2022-10-12T10:15:39.118283Z",
     "iopub.status.idle": "2022-10-12T10:15:39.139094Z",
     "shell.execute_reply": "2022-10-12T10:15:39.138472Z"
    },
    "papermill": {
     "duration": 0.060897,
     "end_time": "2022-10-12T10:15:39.139311",
     "exception": false,
     "start_time": "2022-10-12T10:15:39.078414",
     "status": "completed"
    },
    "tags": []
   },
   "outputs": [],
   "source": [
    "train_filter = np.where((train_labels == 3 ) | (train_labels == 8))\n",
    "test_filter = np.where((test_labels == 3) | (test_labels == 8))\n",
    "X_train, y_train = train_images[train_filter], train_labels[train_filter]\n",
    "X_test, y_test = test_images[test_filter], test_labels[test_filter]"
   ]
  },
  {
   "cell_type": "markdown",
   "id": "948f0b7e",
   "metadata": {
    "papermill": {
     "duration": 0.034934,
     "end_time": "2022-10-12T10:15:39.207436",
     "exception": false,
     "start_time": "2022-10-12T10:15:39.172502",
     "status": "completed"
    },
    "tags": []
   },
   "source": [
    "We normalize the pizel values in the 0 to 1 range"
   ]
  },
  {
   "cell_type": "code",
   "execution_count": 11,
   "id": "ee4c2166",
   "metadata": {
    "execution": {
     "iopub.execute_input": "2022-10-12T10:15:39.282672Z",
     "iopub.status.busy": "2022-10-12T10:15:39.281807Z",
     "iopub.status.idle": "2022-10-12T10:15:39.343996Z",
     "shell.execute_reply": "2022-10-12T10:15:39.343352Z"
    },
    "papermill": {
     "duration": 0.103518,
     "end_time": "2022-10-12T10:15:39.344154",
     "exception": false,
     "start_time": "2022-10-12T10:15:39.240636",
     "status": "completed"
    },
    "tags": []
   },
   "outputs": [],
   "source": [
    "X_train = X_train/255.\n",
    "X_test = X_test/255."
   ]
  },
  {
   "cell_type": "markdown",
   "id": "ddcf4fab",
   "metadata": {
    "papermill": {
     "duration": 0.034662,
     "end_time": "2022-10-12T10:15:39.413172",
     "exception": false,
     "start_time": "2022-10-12T10:15:39.378510",
     "status": "completed"
    },
    "tags": []
   },
   "source": [
    "And setup the labels as 1 (when the digit is 3) and 0 (when the digit is 8)"
   ]
  },
  {
   "cell_type": "code",
   "execution_count": 12,
   "id": "7dc908f2",
   "metadata": {
    "execution": {
     "iopub.execute_input": "2022-10-12T10:15:39.488809Z",
     "iopub.status.busy": "2022-10-12T10:15:39.487880Z",
     "iopub.status.idle": "2022-10-12T10:15:39.505180Z",
     "shell.execute_reply": "2022-10-12T10:15:39.504258Z"
    },
    "papermill": {
     "duration": 0.05692,
     "end_time": "2022-10-12T10:15:39.505358",
     "exception": false,
     "start_time": "2022-10-12T10:15:39.448438",
     "status": "completed"
    },
    "tags": []
   },
   "outputs": [],
   "source": [
    "y_train = 1*(y_train==3)\n",
    "y_test = 1*(y_test==3)"
   ]
  },
  {
   "cell_type": "code",
   "execution_count": 13,
   "id": "01e4e969",
   "metadata": {
    "execution": {
     "iopub.execute_input": "2022-10-12T10:15:39.582304Z",
     "iopub.status.busy": "2022-10-12T10:15:39.581526Z",
     "iopub.status.idle": "2022-10-12T10:15:39.594664Z",
     "shell.execute_reply": "2022-10-12T10:15:39.594119Z"
    },
    "papermill": {
     "duration": 0.055047,
     "end_time": "2022-10-12T10:15:39.594832",
     "exception": false,
     "start_time": "2022-10-12T10:15:39.539785",
     "status": "completed"
    },
    "tags": []
   },
   "outputs": [
    {
     "data": {
      "text/plain": [
       "((11982, 28, 28), (1984, 28, 28))"
      ]
     },
     "execution_count": 13,
     "metadata": {},
     "output_type": "execute_result"
    }
   ],
   "source": [
    "X_train.shape, X_test.shape"
   ]
  },
  {
   "cell_type": "markdown",
   "id": "5ccf3f85",
   "metadata": {
    "papermill": {
     "duration": 0.039945,
     "end_time": "2022-10-12T10:15:39.672094",
     "exception": false,
     "start_time": "2022-10-12T10:15:39.632149",
     "status": "completed"
    },
    "tags": []
   },
   "source": [
    "We reshape the data to flatten the image pixels into a set of features or co-variates:"
   ]
  },
  {
   "cell_type": "code",
   "execution_count": 14,
   "id": "5286a4a3",
   "metadata": {
    "execution": {
     "iopub.execute_input": "2022-10-12T10:15:39.756377Z",
     "iopub.status.busy": "2022-10-12T10:15:39.755513Z",
     "iopub.status.idle": "2022-10-12T10:15:39.771978Z",
     "shell.execute_reply": "2022-10-12T10:15:39.771333Z"
    },
    "papermill": {
     "duration": 0.062853,
     "end_time": "2022-10-12T10:15:39.772123",
     "exception": false,
     "start_time": "2022-10-12T10:15:39.709270",
     "status": "completed"
    },
    "tags": []
   },
   "outputs": [
    {
     "data": {
      "text/plain": [
       "((11982, 784), (1984, 784))"
      ]
     },
     "execution_count": 14,
     "metadata": {},
     "output_type": "execute_result"
    }
   ],
   "source": [
    "X_train = X_train.reshape(X_train.shape[0], -1)\n",
    "X_test = X_test.reshape(X_test.shape[0], -1)\n",
    "X_train.shape, X_test.shape"
   ]
  },
  {
   "cell_type": "code",
   "execution_count": 15,
   "id": "73c5f88a",
   "metadata": {
    "execution": {
     "iopub.execute_input": "2022-10-12T10:15:39.852977Z",
     "iopub.status.busy": "2022-10-12T10:15:39.850693Z",
     "iopub.status.idle": "2022-10-12T10:15:39.875177Z",
     "shell.execute_reply": "2022-10-12T10:15:39.874594Z"
    },
    "papermill": {
     "duration": 0.065976,
     "end_time": "2022-10-12T10:15:39.875336",
     "exception": false,
     "start_time": "2022-10-12T10:15:39.809360",
     "status": "completed"
    },
    "tags": []
   },
   "outputs": [],
   "source": [
    "#Impoting functions from 'Kudzu'\n",
    "from kudzu.model import Model\n",
    "from kudzu.train import Learner\n",
    "from kudzu.optim import GD\n",
    "from kudzu.data import Data, Sampler,Dataloader\n",
    "\n",
    "from kudzu.callbacks import AccCallback\n",
    "from kudzu.callbacks import ClfCallback\n",
    "\n",
    "from kudzu.loss import MSE\n",
    "\n",
    "from kudzu.layer import Sigmoid,Relu\n",
    "from kudzu.layer import Affine"
   ]
  },
  {
   "cell_type": "markdown",
   "id": "bc01172a",
   "metadata": {
    "papermill": {
     "duration": 0.037284,
     "end_time": "2022-10-12T10:15:39.947847",
     "exception": false,
     "start_time": "2022-10-12T10:15:39.910563",
     "status": "completed"
    },
    "tags": []
   },
   "source": [
    "### Let us create a `Config` class, to store important parameters. \n",
    "This class essentially plays the role of a dictionary."
   ]
  },
  {
   "cell_type": "code",
   "execution_count": 16,
   "id": "978281aa",
   "metadata": {
    "execution": {
     "iopub.execute_input": "2022-10-12T10:15:40.028816Z",
     "iopub.status.busy": "2022-10-12T10:15:40.027799Z",
     "iopub.status.idle": "2022-10-12T10:15:40.045024Z",
     "shell.execute_reply": "2022-10-12T10:15:40.043034Z"
    },
    "papermill": {
     "duration": 0.060217,
     "end_time": "2022-10-12T10:15:40.045198",
     "exception": false,
     "start_time": "2022-10-12T10:15:39.984981",
     "status": "completed"
    },
    "tags": []
   },
   "outputs": [],
   "source": [
    "class Config:\n",
    "    pass\n",
    "config = Config()\n",
    "config.lr = 0.001\n",
    "config.num_epochs = 250\n",
    "config.bs = 50"
   ]
  },
  {
   "cell_type": "markdown",
   "id": "1385fa59",
   "metadata": {
    "papermill": {
     "duration": 0.035189,
     "end_time": "2022-10-12T10:15:40.119144",
     "exception": false,
     "start_time": "2022-10-12T10:15:40.083955",
     "status": "completed"
    },
    "tags": []
   },
   "source": [
    "### Running Models with the Training data\n",
    "Details about the network layers:\n",
    "- A first affine layer has 784 inputs and does 100 affine transforms. These are followed by a Relu\n",
    "- A second affine layer has 100 inputs from the 100 activations of the past layer, and does 100 affine transforms. These are followed by a Relu\n",
    "- A third affine layer has 100 activations and does 2 affine transformations to create an embedding for visualization. There is no non-linearity here.\n",
    "- A final \"logistic regression\" which has an affine transform from 2 inputs to 1 output, which is squeezed through a sigmoid.\n"
   ]
  },
  {
   "cell_type": "code",
   "execution_count": 17,
   "id": "2b9c66db",
   "metadata": {
    "execution": {
     "iopub.execute_input": "2022-10-12T10:15:40.197141Z",
     "iopub.status.busy": "2022-10-12T10:15:40.196388Z",
     "iopub.status.idle": "2022-10-12T10:15:40.210985Z",
     "shell.execute_reply": "2022-10-12T10:15:40.210246Z"
    },
    "papermill": {
     "duration": 0.056318,
     "end_time": "2022-10-12T10:15:40.211123",
     "exception": false,
     "start_time": "2022-10-12T10:15:40.154805",
     "status": "completed"
    },
    "tags": []
   },
   "outputs": [],
   "source": [
    "data = Data(X_train, y_train.reshape(-1,1))\n",
    "sampler = Sampler(data, config.bs, shuffle=True)\n",
    "\n",
    "dl = Dataloader(data, sampler)\n",
    "\n",
    "opt = GD(config.lr)\n",
    "loss = MSE()"
   ]
  },
  {
   "cell_type": "code",
   "execution_count": 18,
   "id": "b275e4c2",
   "metadata": {
    "execution": {
     "iopub.execute_input": "2022-10-12T10:15:40.287186Z",
     "iopub.status.busy": "2022-10-12T10:15:40.286354Z",
     "iopub.status.idle": "2022-10-12T10:15:40.313000Z",
     "shell.execute_reply": "2022-10-12T10:15:40.314880Z"
    },
    "papermill": {
     "duration": 0.068992,
     "end_time": "2022-10-12T10:15:40.315067",
     "exception": false,
     "start_time": "2022-10-12T10:15:40.246075",
     "status": "completed"
    },
    "tags": []
   },
   "outputs": [],
   "source": [
    "training_data_x = X_train\n",
    "testing_data_x = X_test\n",
    "training_data_y = y_train.reshape(-1,1)\n",
    "testing_data_y = y_test.reshape(-1,1)"
   ]
  },
  {
   "cell_type": "code",
   "execution_count": 19,
   "id": "76951160",
   "metadata": {
    "execution": {
     "iopub.execute_input": "2022-10-12T10:15:40.393225Z",
     "iopub.status.busy": "2022-10-12T10:15:40.392488Z",
     "iopub.status.idle": "2022-10-12T10:15:40.412278Z",
     "shell.execute_reply": "2022-10-12T10:15:40.412915Z"
    },
    "papermill": {
     "duration": 0.061544,
     "end_time": "2022-10-12T10:15:40.413091",
     "exception": false,
     "start_time": "2022-10-12T10:15:40.351547",
     "status": "completed"
    },
    "tags": []
   },
   "outputs": [
    {
     "name": "stdout",
     "output_type": "stream",
     "text": [
      "xavier\n",
      "xavier\n",
      "xavier\n",
      "xavier\n",
      "xavier\n"
     ]
    }
   ],
   "source": [
    "layers = [Affine(\"first\", 784, 100), Relu(\"first\"), Affine(\"second\", 100, 100), Relu(\"second\"), Affine(\"third\", 100, 2), Affine(\"last\", 2, 1), Sigmoid(\"last\")]\n",
    "model_nn = Model(layers)\n",
    "model_lr = Model([Affine(\"logits\", 784, 1), Sigmoid(\"sigmoid\")])"
   ]
  },
  {
   "cell_type": "code",
   "execution_count": 20,
   "id": "6eede77a",
   "metadata": {
    "execution": {
     "iopub.execute_input": "2022-10-12T10:15:40.493551Z",
     "iopub.status.busy": "2022-10-12T10:15:40.490861Z",
     "iopub.status.idle": "2022-10-12T10:15:40.505696Z",
     "shell.execute_reply": "2022-10-12T10:15:40.505000Z"
    },
    "papermill": {
     "duration": 0.056639,
     "end_time": "2022-10-12T10:15:40.505859",
     "exception": false,
     "start_time": "2022-10-12T10:15:40.449220",
     "status": "completed"
    },
    "tags": []
   },
   "outputs": [],
   "source": [
    "nn_learner = Learner(loss, model_nn, opt, config.num_epochs)\n",
    "acc_nn = ClfCallback(nn_learner, config.bs, training_data_x , testing_data_x, training_data_y, testing_data_y)\n",
    "nn_learner.set_callbacks([acc_nn])"
   ]
  },
  {
   "cell_type": "code",
   "execution_count": 21,
   "id": "877b6cc7",
   "metadata": {
    "execution": {
     "iopub.execute_input": "2022-10-12T10:15:40.584568Z",
     "iopub.status.busy": "2022-10-12T10:15:40.583722Z",
     "iopub.status.idle": "2022-10-12T10:15:40.598175Z",
     "shell.execute_reply": "2022-10-12T10:15:40.597581Z"
    },
    "papermill": {
     "duration": 0.05466,
     "end_time": "2022-10-12T10:15:40.598355",
     "exception": false,
     "start_time": "2022-10-12T10:15:40.543695",
     "status": "completed"
    },
    "tags": []
   },
   "outputs": [],
   "source": [
    "lr_learner = Learner(loss, model_lr, opt, config.num_epochs)\n",
    "acc_lr = ClfCallback(lr_learner, config.bs, training_data_x , testing_data_x, training_data_y, testing_data_y)\n",
    "lr_learner.set_callbacks([acc_lr])"
   ]
  },
  {
   "cell_type": "code",
   "execution_count": 22,
   "id": "d9b133c3",
   "metadata": {
    "execution": {
     "iopub.execute_input": "2022-10-12T10:15:40.677921Z",
     "iopub.status.busy": "2022-10-12T10:15:40.677223Z",
     "iopub.status.idle": "2022-10-12T10:18:08.010110Z",
     "shell.execute_reply": "2022-10-12T10:18:08.011081Z"
    },
    "papermill": {
     "duration": 147.376133,
     "end_time": "2022-10-12T10:18:08.011270",
     "exception": false,
     "start_time": "2022-10-12T10:15:40.635137",
     "status": "completed"
    },
    "tags": []
   },
   "outputs": [
    {
     "name": "stdout",
     "output_type": "stream",
     "text": [
      "Epoch 0, Loss 0.2477\n",
      "Training Accuracy: 0.6357, Testing Accuracy: 0.6215\n",
      "\n"
     ]
    },
    {
     "name": "stdout",
     "output_type": "stream",
     "text": [
      "Epoch 10, Loss 0.1299\n",
      "Training Accuracy: 0.8998, Testing Accuracy: 0.9088\n",
      "\n"
     ]
    },
    {
     "name": "stdout",
     "output_type": "stream",
     "text": [
      "Epoch 20, Loss 0.0687\n",
      "Training Accuracy: 0.9321, Testing Accuracy: 0.9385\n",
      "\n"
     ]
    },
    {
     "name": "stdout",
     "output_type": "stream",
     "text": [
      "Epoch 30, Loss 0.0501\n",
      "Training Accuracy: 0.9482, Testing Accuracy: 0.9541\n",
      "\n"
     ]
    },
    {
     "name": "stdout",
     "output_type": "stream",
     "text": [
      "Epoch 40, Loss 0.0417\n",
      "Training Accuracy: 0.9543, Testing Accuracy: 0.9587\n",
      "\n"
     ]
    },
    {
     "name": "stdout",
     "output_type": "stream",
     "text": [
      "Epoch 50, Loss 0.0371\n",
      "Training Accuracy: 0.9585, Testing Accuracy: 0.9632\n",
      "\n"
     ]
    },
    {
     "name": "stdout",
     "output_type": "stream",
     "text": [
      "Epoch 60, Loss 0.034\n",
      "Training Accuracy: 0.9611, Testing Accuracy: 0.9667\n",
      "\n"
     ]
    },
    {
     "name": "stdout",
     "output_type": "stream",
     "text": [
      "Epoch 70, Loss 0.0318\n",
      "Training Accuracy: 0.9629, Testing Accuracy: 0.9677\n",
      "\n"
     ]
    },
    {
     "name": "stdout",
     "output_type": "stream",
     "text": [
      "Epoch 80, Loss 0.0301\n",
      "Training Accuracy: 0.9649, Testing Accuracy: 0.9682\n",
      "\n"
     ]
    },
    {
     "name": "stdout",
     "output_type": "stream",
     "text": [
      "Epoch 90, Loss 0.0288\n",
      "Training Accuracy: 0.9670, Testing Accuracy: 0.9693\n",
      "\n"
     ]
    },
    {
     "name": "stdout",
     "output_type": "stream",
     "text": [
      "Epoch 100, Loss 0.0277\n",
      "Training Accuracy: 0.9685, Testing Accuracy: 0.9693\n",
      "\n"
     ]
    },
    {
     "name": "stdout",
     "output_type": "stream",
     "text": [
      "Epoch 110, Loss 0.0267\n",
      "Training Accuracy: 0.9695, Testing Accuracy: 0.9703\n",
      "\n"
     ]
    },
    {
     "name": "stdout",
     "output_type": "stream",
     "text": [
      "Epoch 120, Loss 0.0258\n",
      "Training Accuracy: 0.9701, Testing Accuracy: 0.9708\n",
      "\n"
     ]
    },
    {
     "name": "stdout",
     "output_type": "stream",
     "text": [
      "Epoch 130, Loss 0.0251\n",
      "Training Accuracy: 0.9704, Testing Accuracy: 0.9708\n",
      "\n"
     ]
    },
    {
     "name": "stdout",
     "output_type": "stream",
     "text": [
      "Epoch 140, Loss 0.0244\n",
      "Training Accuracy: 0.9713, Testing Accuracy: 0.9703\n",
      "\n"
     ]
    },
    {
     "name": "stdout",
     "output_type": "stream",
     "text": [
      "Epoch 150, Loss 0.0238\n",
      "Training Accuracy: 0.9719, Testing Accuracy: 0.9708\n",
      "\n"
     ]
    },
    {
     "name": "stdout",
     "output_type": "stream",
     "text": [
      "Epoch 160, Loss 0.0232\n",
      "Training Accuracy: 0.9731, Testing Accuracy: 0.9728\n",
      "\n"
     ]
    },
    {
     "name": "stdout",
     "output_type": "stream",
     "text": [
      "Epoch 170, Loss 0.0227\n",
      "Training Accuracy: 0.9736, Testing Accuracy: 0.9733\n",
      "\n"
     ]
    },
    {
     "name": "stdout",
     "output_type": "stream",
     "text": [
      "Epoch 180, Loss 0.0221\n",
      "Training Accuracy: 0.9745, Testing Accuracy: 0.9748\n",
      "\n"
     ]
    },
    {
     "name": "stdout",
     "output_type": "stream",
     "text": [
      "Epoch 190, Loss 0.0217\n",
      "Training Accuracy: 0.9748, Testing Accuracy: 0.9748\n",
      "\n"
     ]
    },
    {
     "name": "stdout",
     "output_type": "stream",
     "text": [
      "Epoch 200, Loss 0.0212\n",
      "Training Accuracy: 0.9752, Testing Accuracy: 0.9753\n",
      "\n"
     ]
    },
    {
     "name": "stdout",
     "output_type": "stream",
     "text": [
      "Epoch 210, Loss 0.0208\n",
      "Training Accuracy: 0.9758, Testing Accuracy: 0.9763\n",
      "\n"
     ]
    },
    {
     "name": "stdout",
     "output_type": "stream",
     "text": [
      "Epoch 220, Loss 0.0204\n",
      "Training Accuracy: 0.9762, Testing Accuracy: 0.9768\n",
      "\n"
     ]
    },
    {
     "name": "stdout",
     "output_type": "stream",
     "text": [
      "Epoch 230, Loss 0.02\n",
      "Training Accuracy: 0.9771, Testing Accuracy: 0.9768\n",
      "\n"
     ]
    },
    {
     "name": "stdout",
     "output_type": "stream",
     "text": [
      "Epoch 240, Loss 0.0196\n",
      "Training Accuracy: 0.9779, Testing Accuracy: 0.9768\n",
      "\n"
     ]
    },
    {
     "data": {
      "text/plain": [
       "0.02236340764615431"
      ]
     },
     "execution_count": 22,
     "metadata": {},
     "output_type": "execute_result"
    }
   ],
   "source": [
    "nn_learner.train_loop(dl)"
   ]
  },
  {
   "cell_type": "code",
   "execution_count": 23,
   "id": "e0163366",
   "metadata": {
    "execution": {
     "iopub.execute_input": "2022-10-12T10:18:08.122341Z",
     "iopub.status.busy": "2022-10-12T10:18:08.121527Z",
     "iopub.status.idle": "2022-10-12T10:18:29.602471Z",
     "shell.execute_reply": "2022-10-12T10:18:29.603101Z"
    },
    "papermill": {
     "duration": 21.544963,
     "end_time": "2022-10-12T10:18:29.603276",
     "exception": false,
     "start_time": "2022-10-12T10:18:08.058313",
     "status": "completed"
    },
    "tags": []
   },
   "outputs": [
    {
     "name": "stdout",
     "output_type": "stream",
     "text": [
      "Epoch 0, Loss 0.2172\n",
      "Training Accuracy: 0.7663, Testing Accuracy: 0.7883\n",
      "\n"
     ]
    },
    {
     "name": "stdout",
     "output_type": "stream",
     "text": [
      "Epoch 10, Loss 0.0987\n",
      "Training Accuracy: 0.9196, Testing Accuracy: 0.9239\n",
      "\n"
     ]
    },
    {
     "name": "stdout",
     "output_type": "stream",
     "text": [
      "Epoch 20, Loss 0.0766\n",
      "Training Accuracy: 0.9329, Testing Accuracy: 0.9385\n",
      "\n"
     ]
    },
    {
     "name": "stdout",
     "output_type": "stream",
     "text": [
      "Epoch 30, Loss 0.0663\n",
      "Training Accuracy: 0.9387, Testing Accuracy: 0.9466\n",
      "\n"
     ]
    },
    {
     "name": "stdout",
     "output_type": "stream",
     "text": [
      "Epoch 40, Loss 0.0601\n",
      "Training Accuracy: 0.9437, Testing Accuracy: 0.9516\n",
      "\n"
     ]
    },
    {
     "name": "stdout",
     "output_type": "stream",
     "text": [
      "Epoch 50, Loss 0.0559\n",
      "Training Accuracy: 0.9465, Testing Accuracy: 0.9546\n",
      "\n"
     ]
    },
    {
     "name": "stdout",
     "output_type": "stream",
     "text": [
      "Epoch 60, Loss 0.0527\n",
      "Training Accuracy: 0.9481, Testing Accuracy: 0.9567\n",
      "\n"
     ]
    },
    {
     "name": "stdout",
     "output_type": "stream",
     "text": [
      "Epoch 70, Loss 0.0503\n",
      "Training Accuracy: 0.9501, Testing Accuracy: 0.9567\n",
      "\n"
     ]
    },
    {
     "name": "stdout",
     "output_type": "stream",
     "text": [
      "Epoch 80, Loss 0.0484\n",
      "Training Accuracy: 0.9512, Testing Accuracy: 0.9592\n",
      "\n"
     ]
    },
    {
     "name": "stdout",
     "output_type": "stream",
     "text": [
      "Epoch 90, Loss 0.0468\n",
      "Training Accuracy: 0.9527, Testing Accuracy: 0.9597\n",
      "\n"
     ]
    },
    {
     "name": "stdout",
     "output_type": "stream",
     "text": [
      "Epoch 100, Loss 0.0455\n",
      "Training Accuracy: 0.9530, Testing Accuracy: 0.9597\n",
      "\n"
     ]
    },
    {
     "name": "stdout",
     "output_type": "stream",
     "text": [
      "Epoch 110, Loss 0.0443\n",
      "Training Accuracy: 0.9543, Testing Accuracy: 0.9612\n",
      "\n"
     ]
    },
    {
     "name": "stdout",
     "output_type": "stream",
     "text": [
      "Epoch 120, Loss 0.0433\n",
      "Training Accuracy: 0.9545, Testing Accuracy: 0.9637\n",
      "\n"
     ]
    },
    {
     "name": "stdout",
     "output_type": "stream",
     "text": [
      "Epoch 130, Loss 0.0425\n",
      "Training Accuracy: 0.9553, Testing Accuracy: 0.9637\n",
      "\n"
     ]
    },
    {
     "name": "stdout",
     "output_type": "stream",
     "text": [
      "Epoch 140, Loss 0.0417\n",
      "Training Accuracy: 0.9561, Testing Accuracy: 0.9642\n",
      "\n"
     ]
    },
    {
     "name": "stdout",
     "output_type": "stream",
     "text": [
      "Epoch 150, Loss 0.041\n",
      "Training Accuracy: 0.9568, Testing Accuracy: 0.9652\n",
      "\n"
     ]
    },
    {
     "name": "stdout",
     "output_type": "stream",
     "text": [
      "Epoch 160, Loss 0.0403\n",
      "Training Accuracy: 0.9574, Testing Accuracy: 0.9657\n",
      "\n"
     ]
    },
    {
     "name": "stdout",
     "output_type": "stream",
     "text": [
      "Epoch 170, Loss 0.0398\n",
      "Training Accuracy: 0.9579, Testing Accuracy: 0.9657\n",
      "\n"
     ]
    },
    {
     "name": "stdout",
     "output_type": "stream",
     "text": [
      "Epoch 180, Loss 0.0392\n",
      "Training Accuracy: 0.9581, Testing Accuracy: 0.9657\n",
      "\n"
     ]
    },
    {
     "name": "stdout",
     "output_type": "stream",
     "text": [
      "Epoch 190, Loss 0.0387\n",
      "Training Accuracy: 0.9584, Testing Accuracy: 0.9657\n",
      "\n"
     ]
    },
    {
     "name": "stdout",
     "output_type": "stream",
     "text": [
      "Epoch 200, Loss 0.0383\n",
      "Training Accuracy: 0.9590, Testing Accuracy: 0.9667\n",
      "\n"
     ]
    },
    {
     "name": "stdout",
     "output_type": "stream",
     "text": [
      "Epoch 210, Loss 0.0378\n",
      "Training Accuracy: 0.9593, Testing Accuracy: 0.9672\n",
      "\n"
     ]
    },
    {
     "name": "stdout",
     "output_type": "stream",
     "text": [
      "Epoch 220, Loss 0.0374\n",
      "Training Accuracy: 0.9596, Testing Accuracy: 0.9667\n",
      "\n"
     ]
    },
    {
     "name": "stdout",
     "output_type": "stream",
     "text": [
      "Epoch 230, Loss 0.0371\n",
      "Training Accuracy: 0.9597, Testing Accuracy: 0.9672\n",
      "\n"
     ]
    },
    {
     "name": "stdout",
     "output_type": "stream",
     "text": [
      "Epoch 240, Loss 0.0367\n",
      "Training Accuracy: 0.9599, Testing Accuracy: 0.9672\n",
      "\n"
     ]
    },
    {
     "data": {
      "text/plain": [
       "0.020960648149737537"
      ]
     },
     "execution_count": 23,
     "metadata": {},
     "output_type": "execute_result"
    }
   ],
   "source": [
    "lr_learner.train_loop(dl)"
   ]
  },
  {
   "cell_type": "code",
   "execution_count": 24,
   "id": "ca410940",
   "metadata": {
    "execution": {
     "iopub.execute_input": "2022-10-12T10:18:29.751240Z",
     "iopub.status.busy": "2022-10-12T10:18:29.750390Z",
     "iopub.status.idle": "2022-10-12T10:18:30.095360Z",
     "shell.execute_reply": "2022-10-12T10:18:30.094576Z"
    },
    "papermill": {
     "duration": 0.427903,
     "end_time": "2022-10-12T10:18:30.095507",
     "exception": false,
     "start_time": "2022-10-12T10:18:29.667604",
     "status": "completed"
    },
    "tags": []
   },
   "outputs": [
    {
     "data": {
      "text/plain": [
       "<matplotlib.legend.Legend at 0x7fa848df6470>"
      ]
     },
     "execution_count": 24,
     "metadata": {},
     "output_type": "execute_result"
    },
    {
     "data": {
      "image/png": "[encoded data removed]",
      "text/plain": [
       "<Figure size 1080x720 with 1 Axes>"
      ]
     },
     "metadata": {
      "needs_background": "light"
     },
     "output_type": "display_data"
    }
   ],
   "source": [
    "#comparing the results of NN and LR\n",
    "plt.figure(figsize=(15,10))\n",
    "\n",
    "# Neural Network plots\n",
    "plt.plot(acc_nn.accuracies, 'r-', label = \"Training Accuracies - NN\")\n",
    "plt.plot(acc_nn.test_accuracies, 'g-', label = \"Testing Accuracies - NN\")\n",
    "\n",
    "# Logistic Regression plots\n",
    "plt.plot(acc_lr.accuracies, 'k-', label = \"Training Accuracies - LR\")\n",
    "plt.plot(acc_lr.test_accuracies, 'b-', label = \"Testing Accuracies - LR\")\n",
    "plt.legend()"
   ]
  },
  {
   "cell_type": "markdown",
   "id": "80dfb35c",
   "metadata": {
    "papermill": {
     "duration": 0.058259,
     "end_time": "2022-10-12T10:18:30.215964",
     "exception": false,
     "start_time": "2022-10-12T10:18:30.157705",
     "status": "completed"
    },
    "tags": []
   },
   "source": [
    "#### Plotting the outputs of this layer of the NN.\n"
   ]
  },
  {
   "cell_type": "code",
   "execution_count": 25,
   "id": "45eb2ff5",
   "metadata": {
    "execution": {
     "iopub.execute_input": "2022-10-12T10:18:30.344696Z",
     "iopub.status.busy": "2022-10-12T10:18:30.343913Z",
     "iopub.status.idle": "2022-10-12T10:18:30.374898Z",
     "shell.execute_reply": "2022-10-12T10:18:30.375908Z"
    },
    "papermill": {
     "duration": 0.10014,
     "end_time": "2022-10-12T10:18:30.376119",
     "exception": false,
     "start_time": "2022-10-12T10:18:30.275979",
     "status": "completed"
    },
    "tags": []
   },
   "outputs": [],
   "source": [
    "new_model = Model(layers[:-2])\n",
    "testing_plot = new_model(testing_data_x)"
   ]
  },
  {
   "cell_type": "code",
   "execution_count": 26,
   "id": "4c0a5485",
   "metadata": {
    "execution": {
     "iopub.execute_input": "2022-10-12T10:18:30.502732Z",
     "iopub.status.busy": "2022-10-12T10:18:30.501651Z",
     "iopub.status.idle": "2022-10-12T10:18:30.835230Z",
     "shell.execute_reply": "2022-10-12T10:18:30.835939Z"
    },
    "papermill": {
     "duration": 0.39755,
     "end_time": "2022-10-12T10:18:30.836135",
     "exception": false,
     "start_time": "2022-10-12T10:18:30.438585",
     "status": "completed"
    },
    "tags": []
   },
   "outputs": [
    {
     "data": {
      "text/plain": [
       "Text(0.5, 1.0, 'Outputs')"
      ]
     },
     "execution_count": 26,
     "metadata": {},
     "output_type": "execute_result"
    },
    {
     "data": {
      "image/png": "[encoded data removed]",
      "text/plain": [
       "<Figure size 576x504 with 1 Axes>"
      ]
     },
     "metadata": {
      "needs_background": "light"
     },
     "output_type": "display_data"
    }
   ],
   "source": [
    "# Plotting the scatter plot of points and color coding by class\n",
    "plt.figure(figsize=(8,7))\n",
    "plt.scatter(testing_plot[:,0], testing_plot[:,1], alpha = 0.1, c = y_test.ravel());\n",
    "plt.title('Outputs')"
   ]
  },
  {
   "cell_type": "markdown",
   "id": "a74fcf8f",
   "metadata": {
    "papermill": {
     "duration": 0.094796,
     "end_time": "2022-10-12T10:18:30.993497",
     "exception": false,
     "start_time": "2022-10-12T10:18:30.898701",
     "status": "completed"
    },
    "tags": []
   },
   "source": [
    "Probability contours"
   ]
  },
  {
   "cell_type": "code",
   "execution_count": 27,
   "id": "d0afc8e3",
   "metadata": {
    "execution": {
     "iopub.execute_input": "2022-10-12T10:18:31.131871Z",
     "iopub.status.busy": "2022-10-12T10:18:31.131117Z",
     "iopub.status.idle": "2022-10-12T10:18:31.147041Z",
     "shell.execute_reply": "2022-10-12T10:18:31.146333Z"
    },
    "papermill": {
     "duration": 0.089602,
     "end_time": "2022-10-12T10:18:31.147193",
     "exception": false,
     "start_time": "2022-10-12T10:18:31.057591",
     "status": "completed"
    },
    "tags": []
   },
   "outputs": [],
   "source": [
    "model_prob = Model(layers[-2:]) "
   ]
  },
  {
   "cell_type": "code",
   "execution_count": 28,
   "id": "9b96e238",
   "metadata": {
    "execution": {
     "iopub.execute_input": "2022-10-12T10:18:31.279285Z",
     "iopub.status.busy": "2022-10-12T10:18:31.278560Z",
     "iopub.status.idle": "2022-10-12T10:18:31.294644Z",
     "shell.execute_reply": "2022-10-12T10:18:31.295281Z"
    },
    "papermill": {
     "duration": 0.085994,
     "end_time": "2022-10-12T10:18:31.295460",
     "exception": false,
     "start_time": "2022-10-12T10:18:31.209466",
     "status": "completed"
    },
    "tags": []
   },
   "outputs": [],
   "source": [
    "#creating the x and y ranges according to the above generated plot.\n",
    "x_range = np.linspace(-4, 1, 100) \n",
    "y_range = np.linspace(-6, 6, 100) \n",
    "x_grid, y_grid = np.meshgrid(x_range, y_range) # x_grid and y_grig are of size 100 X 100\n",
    "\n",
    "# converting x_grid and y_grid to continuous arrays\n",
    "x_gridflat = np.ravel(x_grid)\n",
    "y_gridflat = np.ravel(y_grid)\n",
    "\n",
    "# The last layer of the current model takes two columns as input. Hence transpose of np.vstack() is required.\n",
    "X = np.vstack((x_gridflat, y_gridflat)).T\n",
    "\n",
    "prob_contour = model_prob(X).reshape(100,100) "
   ]
  },
  {
   "cell_type": "code",
   "execution_count": 29,
   "id": "da72499a",
   "metadata": {
    "execution": {
     "iopub.execute_input": "2022-10-12T10:18:31.434323Z",
     "iopub.status.busy": "2022-10-12T10:18:31.433517Z",
     "iopub.status.idle": "2022-10-12T10:18:31.791364Z",
     "shell.execute_reply": "2022-10-12T10:18:31.791984Z"
    },
    "papermill": {
     "duration": 0.43471,
     "end_time": "2022-10-12T10:18:31.792154",
     "exception": false,
     "start_time": "2022-10-12T10:18:31.357444",
     "status": "completed"
    },
    "tags": []
   },
   "outputs": [
    {
     "data": {
      "image/png": "[encoded data removed]",
      "text/plain": [
       "<Figure size 720x648 with 1 Axes>"
      ]
     },
     "metadata": {
      "needs_background": "light"
     },
     "output_type": "display_data"
    }
   ],
   "source": [
    "plt.figure(figsize=(10,9))\n",
    "plt.scatter(testing_plot[:,0], testing_plot[:,1], alpha = 0.1, c = y_test.ravel())\n",
    "contours = plt.contour(x_grid,y_grid,prob_contour)\n",
    "plt.title('Probability Contours')\n",
    "plt.clabel(contours, inline = True );"
   ]
  },
  {
   "cell_type": "code",
   "execution_count": null,
   "id": "e81b4ac7",
   "metadata": {
    "papermill": {
     "duration": 0.066712,
     "end_time": "2022-10-12T10:18:31.924276",
     "exception": false,
     "start_time": "2022-10-12T10:18:31.857564",
     "status": "completed"
    },
    "tags": []
   },
   "outputs": [],
   "source": []
  }
 ],
 "metadata": {
  "kernelspec": {
   "display_name": "Python 3",
   "language": "python",
   "name": "python3"
  },
  "language_info": {
   "codemirror_mode": {
    "name": "ipython",
    "version": 3
   },
   "file_extension": ".py",
   "mimetype": "text/x-python",
   "name": "python",
   "nbconvert_exporter": "python",
   "pygments_lexer": "ipython3",
   "version": "3.6.15"
  },
  "papermill": {
   "default_parameters": {},
   "duration": 180.390904,
   "end_time": "2022-10-12T10:18:32.514790",
   "environment_variables": {},
   "exception": null,
   "input_path": "2020-08-11-part2.ipynb",
   "output_path": "2020-08-11-part2.ipynb",
   "parameters": {},
   "start_time": "2022-10-12T10:15:32.123886",
   "version": "2.3.3"
  }
 },
 "nbformat": 4,
 "nbformat_minor": 5
}