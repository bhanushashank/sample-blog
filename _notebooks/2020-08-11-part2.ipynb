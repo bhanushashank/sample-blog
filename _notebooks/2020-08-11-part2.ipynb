{
 "cells": [
  {
   "cell_type": "markdown",
   "id": "98380cd3",
   "metadata": {
    "papermill": {
     "duration": 0.029612,
     "end_time": "2022-07-03T10:11:19.082798",
     "exception": false,
     "start_time": "2022-07-03T10:11:19.053186",
     "status": "completed"
    },
    "tags": []
   },
   "source": [
    "# Distinguish Your Own Digits (DYOD)"
   ]
  },
  {
   "cell_type": "markdown",
   "id": "ef31240d",
   "metadata": {
    "papermill": {
     "duration": 0.026845,
     "end_time": "2022-07-03T10:11:19.134416",
     "exception": false,
     "start_time": "2022-07-03T10:11:19.107571",
     "status": "completed"
    },
    "tags": []
   },
   "source": [
    "You are going to write a classifier that distinguishes between the number 3 and number 8."
   ]
  },
  {
   "cell_type": "code",
   "execution_count": 1,
   "id": "b15c8646",
   "metadata": {
    "execution": {
     "iopub.execute_input": "2022-07-03T10:11:19.192342Z",
     "iopub.status.busy": "2022-07-03T10:11:19.191777Z",
     "iopub.status.idle": "2022-07-03T10:11:19.202287Z",
     "shell.execute_reply": "2022-07-03T10:11:19.201828Z"
    },
    "papermill": {
     "duration": 0.04391,
     "end_time": "2022-07-03T10:11:19.202398",
     "exception": false,
     "start_time": "2022-07-03T10:11:19.158488",
     "status": "completed"
    },
    "tags": []
   },
   "outputs": [],
   "source": [
    "%load_ext autoreload\n",
    "%autoreload 2"
   ]
  },
  {
   "cell_type": "code",
   "execution_count": 2,
   "id": "22ef38dc",
   "metadata": {
    "execution": {
     "iopub.execute_input": "2022-07-03T10:11:19.254101Z",
     "iopub.status.busy": "2022-07-03T10:11:19.253546Z",
     "iopub.status.idle": "2022-07-03T10:11:19.754202Z",
     "shell.execute_reply": "2022-07-03T10:11:19.753724Z"
    },
    "papermill": {
     "duration": 0.527786,
     "end_time": "2022-07-03T10:11:19.754316",
     "exception": false,
     "start_time": "2022-07-03T10:11:19.226530",
     "status": "completed"
    },
    "tags": []
   },
   "outputs": [],
   "source": [
    "%matplotlib inline\n",
    "import numpy as np\n",
    "import matplotlib.pyplot as plt\n",
    "import pandas as pd"
   ]
  },
  {
   "cell_type": "markdown",
   "id": "ba036198",
   "metadata": {
    "papermill": {
     "duration": 0.024105,
     "end_time": "2022-07-03T10:11:19.802609",
     "exception": false,
     "start_time": "2022-07-03T10:11:19.778504",
     "status": "completed"
    },
    "tags": []
   },
   "source": [
    "From the command line run `pip install mnist`. This is a library that will help you bring down the mnist dataset. If you run this from a notebook, you need to put  `!pip install mnist` in a cell by itself."
   ]
  },
  {
   "cell_type": "code",
   "execution_count": 3,
   "id": "bb6ad8a1",
   "metadata": {
    "execution": {
     "iopub.execute_input": "2022-07-03T10:11:19.854539Z",
     "iopub.status.busy": "2022-07-03T10:11:19.853970Z",
     "iopub.status.idle": "2022-07-03T10:11:21.490926Z",
     "shell.execute_reply": "2022-07-03T10:11:21.490390Z"
    },
    "papermill": {
     "duration": 1.664314,
     "end_time": "2022-07-03T10:11:21.491042",
     "exception": false,
     "start_time": "2022-07-03T10:11:19.826728",
     "status": "completed"
    },
    "tags": []
   },
   "outputs": [
    {
     "name": "stdout",
     "output_type": "stream",
     "text": [
      "Collecting mnist\r\n"
     ]
    },
    {
     "name": "stdout",
     "output_type": "stream",
     "text": [
      "  Downloading mnist-0.2.2-py2.py3-none-any.whl (3.5 kB)\r\n",
      "Requirement already satisfied: numpy in /opt/hostedtoolcache/Python/3.6.15/x64/lib/python3.6/site-packages (from mnist) (1.19.5)\r\n"
     ]
    },
    {
     "name": "stdout",
     "output_type": "stream",
     "text": [
      "Installing collected packages: mnist\r\n"
     ]
    },
    {
     "name": "stdout",
     "output_type": "stream",
     "text": [
      "Successfully installed mnist-0.2.2\r\n"
     ]
    }
   ],
   "source": [
    "!pip install mnist"
   ]
  },
  {
   "cell_type": "markdown",
   "id": "69df9c9a",
   "metadata": {
    "papermill": {
     "duration": 0.025248,
     "end_time": "2022-07-03T10:11:21.542042",
     "exception": false,
     "start_time": "2022-07-03T10:11:21.516794",
     "status": "completed"
    },
    "tags": []
   },
   "source": [
    "## Preparing the Data"
   ]
  },
  {
   "cell_type": "code",
   "execution_count": 4,
   "id": "7f69d806",
   "metadata": {
    "execution": {
     "iopub.execute_input": "2022-07-03T10:11:21.596030Z",
     "iopub.status.busy": "2022-07-03T10:11:21.595476Z",
     "iopub.status.idle": "2022-07-03T10:11:21.608952Z",
     "shell.execute_reply": "2022-07-03T10:11:21.609365Z"
    },
    "papermill": {
     "duration": 0.042377,
     "end_time": "2022-07-03T10:11:21.609487",
     "exception": false,
     "start_time": "2022-07-03T10:11:21.567110",
     "status": "completed"
    },
    "tags": []
   },
   "outputs": [],
   "source": [
    "import mnist"
   ]
  },
  {
   "cell_type": "code",
   "execution_count": 5,
   "id": "a411e44f",
   "metadata": {
    "execution": {
     "iopub.execute_input": "2022-07-03T10:11:21.663134Z",
     "iopub.status.busy": "2022-07-03T10:11:21.662586Z",
     "iopub.status.idle": "2022-07-03T10:11:22.308155Z",
     "shell.execute_reply": "2022-07-03T10:11:22.307656Z"
    },
    "papermill": {
     "duration": 0.673673,
     "end_time": "2022-07-03T10:11:22.308266",
     "exception": false,
     "start_time": "2022-07-03T10:11:21.634593",
     "status": "completed"
    },
    "tags": []
   },
   "outputs": [],
   "source": [
    "train_images = mnist.train_images()\n",
    "train_labels = mnist.train_labels()"
   ]
  },
  {
   "cell_type": "code",
   "execution_count": 6,
   "id": "dceab3a5",
   "metadata": {
    "execution": {
     "iopub.execute_input": "2022-07-03T10:11:22.362842Z",
     "iopub.status.busy": "2022-07-03T10:11:22.362295Z",
     "iopub.status.idle": "2022-07-03T10:11:22.376496Z",
     "shell.execute_reply": "2022-07-03T10:11:22.375956Z"
    },
    "papermill": {
     "duration": 0.043016,
     "end_time": "2022-07-03T10:11:22.376599",
     "exception": false,
     "start_time": "2022-07-03T10:11:22.333583",
     "status": "completed"
    },
    "tags": []
   },
   "outputs": [
    {
     "data": {
      "text/plain": [
       "((60000, 28, 28), (60000,))"
      ]
     },
     "execution_count": 6,
     "metadata": {},
     "output_type": "execute_result"
    }
   ],
   "source": [
    "train_images.shape, train_labels.shape"
   ]
  },
  {
   "cell_type": "code",
   "execution_count": 7,
   "id": "f50dc2bb",
   "metadata": {
    "execution": {
     "iopub.execute_input": "2022-07-03T10:11:22.430962Z",
     "iopub.status.busy": "2022-07-03T10:11:22.430415Z",
     "iopub.status.idle": "2022-07-03T10:11:22.621142Z",
     "shell.execute_reply": "2022-07-03T10:11:22.621575Z"
    },
    "papermill": {
     "duration": 0.219773,
     "end_time": "2022-07-03T10:11:22.621710",
     "exception": false,
     "start_time": "2022-07-03T10:11:22.401937",
     "status": "completed"
    },
    "tags": []
   },
   "outputs": [],
   "source": [
    "test_images = mnist.test_images()\n",
    "test_labels = mnist.test_labels()"
   ]
  },
  {
   "cell_type": "code",
   "execution_count": 8,
   "id": "fc38cf1b",
   "metadata": {
    "execution": {
     "iopub.execute_input": "2022-07-03T10:11:22.676712Z",
     "iopub.status.busy": "2022-07-03T10:11:22.676133Z",
     "iopub.status.idle": "2022-07-03T10:11:22.688444Z",
     "shell.execute_reply": "2022-07-03T10:11:22.688979Z"
    },
    "papermill": {
     "duration": 0.041721,
     "end_time": "2022-07-03T10:11:22.689099",
     "exception": false,
     "start_time": "2022-07-03T10:11:22.647378",
     "status": "completed"
    },
    "tags": []
   },
   "outputs": [
    {
     "data": {
      "text/plain": [
       "((10000, 28, 28), (10000,))"
      ]
     },
     "execution_count": 8,
     "metadata": {},
     "output_type": "execute_result"
    }
   ],
   "source": [
    "test_images.shape, test_labels.shape"
   ]
  },
  {
   "cell_type": "code",
   "execution_count": 9,
   "id": "f9ed8fe0",
   "metadata": {
    "execution": {
     "iopub.execute_input": "2022-07-03T10:11:22.744276Z",
     "iopub.status.busy": "2022-07-03T10:11:22.743705Z",
     "iopub.status.idle": "2022-07-03T10:11:22.879420Z",
     "shell.execute_reply": "2022-07-03T10:11:22.878958Z"
    },
    "papermill": {
     "duration": 0.16482,
     "end_time": "2022-07-03T10:11:22.879532",
     "exception": false,
     "start_time": "2022-07-03T10:11:22.714712",
     "status": "completed"
    },
    "tags": []
   },
   "outputs": [
    {
     "name": "stdout",
     "output_type": "stream",
     "text": [
      "2\n"
     ]
    },
    {
     "data": {
      "text/plain": [
       "<matplotlib.image.AxesImage at 0x7f3dd95ab550>"
      ]
     },
     "execution_count": 9,
     "metadata": {},
     "output_type": "execute_result"
    },
    {
     "data": {
      "image/png": "[encoded data removed]",
      "text/plain": [
       "<Figure size 432x288 with 1 Axes>"
      ]
     },
     "metadata": {
      "needs_background": "light"
     },
     "output_type": "display_data"
    }
   ],
   "source": [
    "image_index = 7776 # You may select anything up to 60,000\n",
    "print(train_labels[image_index]) \n",
    "plt.imshow(train_images[image_index], cmap='Greys')"
   ]
  },
  {
   "cell_type": "markdown",
   "id": "a8d2388d",
   "metadata": {
    "papermill": {
     "duration": 0.027292,
     "end_time": "2022-07-03T10:11:22.933946",
     "exception": false,
     "start_time": "2022-07-03T10:11:22.906654",
     "status": "completed"
    },
    "tags": []
   },
   "source": [
    "## Filter data to get 3 and 8 out"
   ]
  },
  {
   "cell_type": "code",
   "execution_count": 10,
   "id": "776f7fc7",
   "metadata": {
    "execution": {
     "iopub.execute_input": "2022-07-03T10:11:22.992313Z",
     "iopub.status.busy": "2022-07-03T10:11:22.991423Z",
     "iopub.status.idle": "2022-07-03T10:11:23.008043Z",
     "shell.execute_reply": "2022-07-03T10:11:23.007494Z"
    },
    "papermill": {
     "duration": 0.047207,
     "end_time": "2022-07-03T10:11:23.008149",
     "exception": false,
     "start_time": "2022-07-03T10:11:22.960942",
     "status": "completed"
    },
    "tags": []
   },
   "outputs": [],
   "source": [
    "train_filter = np.where((train_labels == 3 ) | (train_labels == 8))\n",
    "test_filter = np.where((test_labels == 3) | (test_labels == 8))\n",
    "X_train, y_train = train_images[train_filter], train_labels[train_filter]\n",
    "X_test, y_test = test_images[test_filter], test_labels[test_filter]"
   ]
  },
  {
   "cell_type": "markdown",
   "id": "948f0b7e",
   "metadata": {
    "papermill": {
     "duration": 0.026851,
     "end_time": "2022-07-03T10:11:23.061934",
     "exception": false,
     "start_time": "2022-07-03T10:11:23.035083",
     "status": "completed"
    },
    "tags": []
   },
   "source": [
    "We normalize the pizel values in the 0 to 1 range"
   ]
  },
  {
   "cell_type": "code",
   "execution_count": 11,
   "id": "ee4c2166",
   "metadata": {
    "execution": {
     "iopub.execute_input": "2022-07-03T10:11:23.120188Z",
     "iopub.status.busy": "2022-07-03T10:11:23.119149Z",
     "iopub.status.idle": "2022-07-03T10:11:23.160202Z",
     "shell.execute_reply": "2022-07-03T10:11:23.159723Z"
    },
    "papermill": {
     "duration": 0.071518,
     "end_time": "2022-07-03T10:11:23.160308",
     "exception": false,
     "start_time": "2022-07-03T10:11:23.088790",
     "status": "completed"
    },
    "tags": []
   },
   "outputs": [],
   "source": [
    "X_train = X_train/255.\n",
    "X_test = X_test/255."
   ]
  },
  {
   "cell_type": "markdown",
   "id": "ddcf4fab",
   "metadata": {
    "papermill": {
     "duration": 0.026819,
     "end_time": "2022-07-03T10:11:23.214526",
     "exception": false,
     "start_time": "2022-07-03T10:11:23.187707",
     "status": "completed"
    },
    "tags": []
   },
   "source": [
    "And setup the labels as 1 (when the digit is 3) and 0 (when the digit is 8)"
   ]
  },
  {
   "cell_type": "code",
   "execution_count": 12,
   "id": "7dc908f2",
   "metadata": {
    "execution": {
     "iopub.execute_input": "2022-07-03T10:11:23.275475Z",
     "iopub.status.busy": "2022-07-03T10:11:23.271384Z",
     "iopub.status.idle": "2022-07-03T10:11:23.284281Z",
     "shell.execute_reply": "2022-07-03T10:11:23.283738Z"
    },
    "papermill": {
     "duration": 0.043055,
     "end_time": "2022-07-03T10:11:23.284385",
     "exception": false,
     "start_time": "2022-07-03T10:11:23.241330",
     "status": "completed"
    },
    "tags": []
   },
   "outputs": [],
   "source": [
    "y_train = 1*(y_train==3)\n",
    "y_test = 1*(y_test==3)"
   ]
  },
  {
   "cell_type": "code",
   "execution_count": 13,
   "id": "01e4e969",
   "metadata": {
    "execution": {
     "iopub.execute_input": "2022-07-03T10:11:23.345762Z",
     "iopub.status.busy": "2022-07-03T10:11:23.341213Z",
     "iopub.status.idle": "2022-07-03T10:11:23.354436Z",
     "shell.execute_reply": "2022-07-03T10:11:23.353979Z"
    },
    "papermill": {
     "duration": 0.043142,
     "end_time": "2022-07-03T10:11:23.354539",
     "exception": false,
     "start_time": "2022-07-03T10:11:23.311397",
     "status": "completed"
    },
    "tags": []
   },
   "outputs": [
    {
     "data": {
      "text/plain": [
       "((11982, 28, 28), (1984, 28, 28))"
      ]
     },
     "execution_count": 13,
     "metadata": {},
     "output_type": "execute_result"
    }
   ],
   "source": [
    "X_train.shape, X_test.shape"
   ]
  },
  {
   "cell_type": "markdown",
   "id": "5ccf3f85",
   "metadata": {
    "papermill": {
     "duration": 0.027166,
     "end_time": "2022-07-03T10:11:23.408888",
     "exception": false,
     "start_time": "2022-07-03T10:11:23.381722",
     "status": "completed"
    },
    "tags": []
   },
   "source": [
    "We reshape the data to flatten the image pixels into a set of features or co-variates:"
   ]
  },
  {
   "cell_type": "code",
   "execution_count": 14,
   "id": "5286a4a3",
   "metadata": {
    "execution": {
     "iopub.execute_input": "2022-07-03T10:11:23.467753Z",
     "iopub.status.busy": "2022-07-03T10:11:23.467186Z",
     "iopub.status.idle": "2022-07-03T10:11:23.480235Z",
     "shell.execute_reply": "2022-07-03T10:11:23.479786Z"
    },
    "papermill": {
     "duration": 0.0438,
     "end_time": "2022-07-03T10:11:23.480337",
     "exception": false,
     "start_time": "2022-07-03T10:11:23.436537",
     "status": "completed"
    },
    "tags": []
   },
   "outputs": [
    {
     "data": {
      "text/plain": [
       "((11982, 784), (1984, 784))"
      ]
     },
     "execution_count": 14,
     "metadata": {},
     "output_type": "execute_result"
    }
   ],
   "source": [
    "X_train = X_train.reshape(X_train.shape[0], -1)\n",
    "X_test = X_test.reshape(X_test.shape[0], -1)\n",
    "X_train.shape, X_test.shape"
   ]
  },
  {
   "cell_type": "code",
   "execution_count": 15,
   "id": "73c5f88a",
   "metadata": {
    "execution": {
     "iopub.execute_input": "2022-07-03T10:11:23.539469Z",
     "iopub.status.busy": "2022-07-03T10:11:23.538902Z",
     "iopub.status.idle": "2022-07-03T10:11:23.556826Z",
     "shell.execute_reply": "2022-07-03T10:11:23.556359Z"
    },
    "papermill": {
     "duration": 0.04919,
     "end_time": "2022-07-03T10:11:23.556931",
     "exception": false,
     "start_time": "2022-07-03T10:11:23.507741",
     "status": "completed"
    },
    "tags": []
   },
   "outputs": [],
   "source": [
    "#Impoting functions from 'Kudzu'\n",
    "from kudzu.model import Model\n",
    "from kudzu.train import Learner\n",
    "from kudzu.optim import GD\n",
    "from kudzu.data import Data, Sampler,Dataloader\n",
    "\n",
    "from kudzu.callbacks import AccCallback\n",
    "from kudzu.callbacks import ClfCallback\n",
    "\n",
    "from kudzu.loss import MSE\n",
    "\n",
    "from kudzu.layer import Sigmoid,Relu\n",
    "from kudzu.layer import Affine"
   ]
  },
  {
   "cell_type": "markdown",
   "id": "bc01172a",
   "metadata": {
    "papermill": {
     "duration": 0.027316,
     "end_time": "2022-07-03T10:11:23.611797",
     "exception": false,
     "start_time": "2022-07-03T10:11:23.584481",
     "status": "completed"
    },
    "tags": []
   },
   "source": [
    "### Let us create a `Config` class, to store important parameters. \n",
    "This class essentially plays the role of a dictionary."
   ]
  },
  {
   "cell_type": "code",
   "execution_count": 16,
   "id": "978281aa",
   "metadata": {
    "execution": {
     "iopub.execute_input": "2022-07-03T10:11:23.670318Z",
     "iopub.status.busy": "2022-07-03T10:11:23.669761Z",
     "iopub.status.idle": "2022-07-03T10:11:23.681491Z",
     "shell.execute_reply": "2022-07-03T10:11:23.681933Z"
    },
    "papermill": {
     "duration": 0.042765,
     "end_time": "2022-07-03T10:11:23.682052",
     "exception": false,
     "start_time": "2022-07-03T10:11:23.639287",
     "status": "completed"
    },
    "tags": []
   },
   "outputs": [],
   "source": [
    "class Config:\n",
    "    pass\n",
    "config = Config()\n",
    "config.lr = 0.001\n",
    "config.num_epochs = 250\n",
    "config.bs = 50"
   ]
  },
  {
   "cell_type": "markdown",
   "id": "1385fa59",
   "metadata": {
    "papermill": {
     "duration": 0.027394,
     "end_time": "2022-07-03T10:11:23.736988",
     "exception": false,
     "start_time": "2022-07-03T10:11:23.709594",
     "status": "completed"
    },
    "tags": []
   },
   "source": [
    "### Running Models with the Training data\n",
    "Details about the network layers:\n",
    "- A first affine layer has 784 inputs and does 100 affine transforms. These are followed by a Relu\n",
    "- A second affine layer has 100 inputs from the 100 activations of the past layer, and does 100 affine transforms. These are followed by a Relu\n",
    "- A third affine layer has 100 activations and does 2 affine transformations to create an embedding for visualization. There is no non-linearity here.\n",
    "- A final \"logistic regression\" which has an affine transform from 2 inputs to 1 output, which is squeezed through a sigmoid.\n"
   ]
  },
  {
   "cell_type": "code",
   "execution_count": 17,
   "id": "2b9c66db",
   "metadata": {
    "execution": {
     "iopub.execute_input": "2022-07-03T10:11:23.795727Z",
     "iopub.status.busy": "2022-07-03T10:11:23.795165Z",
     "iopub.status.idle": "2022-07-03T10:11:23.806870Z",
     "shell.execute_reply": "2022-07-03T10:11:23.806337Z"
    },
    "papermill": {
     "duration": 0.042689,
     "end_time": "2022-07-03T10:11:23.806973",
     "exception": false,
     "start_time": "2022-07-03T10:11:23.764284",
     "status": "completed"
    },
    "tags": []
   },
   "outputs": [],
   "source": [
    "data = Data(X_train, y_train.reshape(-1,1))\n",
    "sampler = Sampler(data, config.bs, shuffle=True)\n",
    "\n",
    "dl = Dataloader(data, sampler)\n",
    "\n",
    "opt = GD(config.lr)\n",
    "loss = MSE()"
   ]
  },
  {
   "cell_type": "code",
   "execution_count": 18,
   "id": "b275e4c2",
   "metadata": {
    "execution": {
     "iopub.execute_input": "2022-07-03T10:11:23.865307Z",
     "iopub.status.busy": "2022-07-03T10:11:23.864733Z",
     "iopub.status.idle": "2022-07-03T10:11:23.876704Z",
     "shell.execute_reply": "2022-07-03T10:11:23.876229Z"
    },
    "papermill": {
     "duration": 0.042412,
     "end_time": "2022-07-03T10:11:23.876806",
     "exception": false,
     "start_time": "2022-07-03T10:11:23.834394",
     "status": "completed"
    },
    "tags": []
   },
   "outputs": [],
   "source": [
    "training_data_x = X_train\n",
    "testing_data_x = X_test\n",
    "training_data_y = y_train.reshape(-1,1)\n",
    "testing_data_y = y_test.reshape(-1,1)"
   ]
  },
  {
   "cell_type": "code",
   "execution_count": 19,
   "id": "76951160",
   "metadata": {
    "execution": {
     "iopub.execute_input": "2022-07-03T10:11:23.935828Z",
     "iopub.status.busy": "2022-07-03T10:11:23.935245Z",
     "iopub.status.idle": "2022-07-03T10:11:23.951254Z",
     "shell.execute_reply": "2022-07-03T10:11:23.950716Z"
    },
    "papermill": {
     "duration": 0.047142,
     "end_time": "2022-07-03T10:11:23.951358",
     "exception": false,
     "start_time": "2022-07-03T10:11:23.904216",
     "status": "completed"
    },
    "tags": []
   },
   "outputs": [
    {
     "name": "stdout",
     "output_type": "stream",
     "text": [
      "xavier\n",
      "xavier\n",
      "xavier\n",
      "xavier\n",
      "xavier\n"
     ]
    }
   ],
   "source": [
    "layers = [Affine(\"first\", 784, 100), Relu(\"first\"), Affine(\"second\", 100, 100), Relu(\"second\"), Affine(\"third\", 100, 2), Affine(\"last\", 2, 1), Sigmoid(\"last\")]\n",
    "model_nn = Model(layers)\n",
    "model_lr = Model([Affine(\"logits\", 784, 1), Sigmoid(\"sigmoid\")])"
   ]
  },
  {
   "cell_type": "code",
   "execution_count": 20,
   "id": "6eede77a",
   "metadata": {
    "execution": {
     "iopub.execute_input": "2022-07-03T10:11:24.010751Z",
     "iopub.status.busy": "2022-07-03T10:11:24.010192Z",
     "iopub.status.idle": "2022-07-03T10:11:24.021302Z",
     "shell.execute_reply": "2022-07-03T10:11:24.021703Z"
    },
    "papermill": {
     "duration": 0.042684,
     "end_time": "2022-07-03T10:11:24.021821",
     "exception": false,
     "start_time": "2022-07-03T10:11:23.979137",
     "status": "completed"
    },
    "tags": []
   },
   "outputs": [],
   "source": [
    "nn_learner = Learner(loss, model_nn, opt, config.num_epochs)\n",
    "acc_nn = ClfCallback(nn_learner, config.bs, training_data_x , testing_data_x, training_data_y, testing_data_y)\n",
    "nn_learner.set_callbacks([acc_nn])"
   ]
  },
  {
   "cell_type": "code",
   "execution_count": 21,
   "id": "877b6cc7",
   "metadata": {
    "execution": {
     "iopub.execute_input": "2022-07-03T10:11:24.082000Z",
     "iopub.status.busy": "2022-07-03T10:11:24.081434Z",
     "iopub.status.idle": "2022-07-03T10:11:24.092638Z",
     "shell.execute_reply": "2022-07-03T10:11:24.092187Z"
    },
    "papermill": {
     "duration": 0.043349,
     "end_time": "2022-07-03T10:11:24.092754",
     "exception": false,
     "start_time": "2022-07-03T10:11:24.049405",
     "status": "completed"
    },
    "tags": []
   },
   "outputs": [],
   "source": [
    "lr_learner = Learner(loss, model_lr, opt, config.num_epochs)\n",
    "acc_lr = ClfCallback(lr_learner, config.bs, training_data_x , testing_data_x, training_data_y, testing_data_y)\n",
    "lr_learner.set_callbacks([acc_lr])"
   ]
  },
  {
   "cell_type": "code",
   "execution_count": 22,
   "id": "d9b133c3",
   "metadata": {
    "execution": {
     "iopub.execute_input": "2022-07-03T10:11:24.155355Z",
     "iopub.status.busy": "2022-07-03T10:11:24.152182Z",
     "iopub.status.idle": "2022-07-03T10:14:19.306551Z",
     "shell.execute_reply": "2022-07-03T10:14:19.307015Z"
    },
    "papermill": {
     "duration": 175.186758,
     "end_time": "2022-07-03T10:14:19.307142",
     "exception": false,
     "start_time": "2022-07-03T10:11:24.120384",
     "status": "completed"
    },
    "tags": []
   },
   "outputs": [
    {
     "name": "stdout",
     "output_type": "stream",
     "text": [
      "Epoch 0, Loss 0.2511\n",
      "Training Accuracy: 0.4896, Testing Accuracy: 0.4889\n",
      "\n"
     ]
    },
    {
     "name": "stdout",
     "output_type": "stream",
     "text": [
      "Epoch 10, Loss 0.2414\n",
      "Training Accuracy: 0.6698, Testing Accuracy: 0.6507\n",
      "\n"
     ]
    },
    {
     "name": "stdout",
     "output_type": "stream",
     "text": [
      "Epoch 20, Loss 0.2028\n",
      "Training Accuracy: 0.8708, Testing Accuracy: 0.8836\n",
      "\n"
     ]
    },
    {
     "name": "stdout",
     "output_type": "stream",
     "text": [
      "Epoch 30, Loss 0.1067\n",
      "Training Accuracy: 0.9060, Testing Accuracy: 0.9158\n",
      "\n"
     ]
    },
    {
     "name": "stdout",
     "output_type": "stream",
     "text": [
      "Epoch 40, Loss 0.0648\n",
      "Training Accuracy: 0.9325, Testing Accuracy: 0.9385\n",
      "\n"
     ]
    },
    {
     "name": "stdout",
     "output_type": "stream",
     "text": [
      "Epoch 50, Loss 0.0497\n",
      "Training Accuracy: 0.9459, Testing Accuracy: 0.9541\n",
      "\n"
     ]
    },
    {
     "name": "stdout",
     "output_type": "stream",
     "text": [
      "Epoch 60, Loss 0.0422\n",
      "Training Accuracy: 0.9515, Testing Accuracy: 0.9607\n",
      "\n"
     ]
    },
    {
     "name": "stdout",
     "output_type": "stream",
     "text": [
      "Epoch 70, Loss 0.0379\n",
      "Training Accuracy: 0.9565, Testing Accuracy: 0.9602\n",
      "\n"
     ]
    },
    {
     "name": "stdout",
     "output_type": "stream",
     "text": [
      "Epoch 80, Loss 0.0349\n",
      "Training Accuracy: 0.9590, Testing Accuracy: 0.9627\n",
      "\n"
     ]
    },
    {
     "name": "stdout",
     "output_type": "stream",
     "text": [
      "Epoch 90, Loss 0.0328\n",
      "Training Accuracy: 0.9611, Testing Accuracy: 0.9647\n",
      "\n"
     ]
    },
    {
     "name": "stdout",
     "output_type": "stream",
     "text": [
      "Epoch 100, Loss 0.0312\n",
      "Training Accuracy: 0.9629, Testing Accuracy: 0.9652\n",
      "\n"
     ]
    },
    {
     "name": "stdout",
     "output_type": "stream",
     "text": [
      "Epoch 110, Loss 0.0299\n",
      "Training Accuracy: 0.9643, Testing Accuracy: 0.9672\n",
      "\n"
     ]
    },
    {
     "name": "stdout",
     "output_type": "stream",
     "text": [
      "Epoch 120, Loss 0.0288\n",
      "Training Accuracy: 0.9656, Testing Accuracy: 0.9662\n",
      "\n"
     ]
    },
    {
     "name": "stdout",
     "output_type": "stream",
     "text": [
      "Epoch 130, Loss 0.0278\n",
      "Training Accuracy: 0.9666, Testing Accuracy: 0.9682\n",
      "\n"
     ]
    },
    {
     "name": "stdout",
     "output_type": "stream",
     "text": [
      "Epoch 140, Loss 0.027\n",
      "Training Accuracy: 0.9677, Testing Accuracy: 0.9682\n",
      "\n"
     ]
    },
    {
     "name": "stdout",
     "output_type": "stream",
     "text": [
      "Epoch 150, Loss 0.0263\n",
      "Training Accuracy: 0.9682, Testing Accuracy: 0.9682\n",
      "\n"
     ]
    },
    {
     "name": "stdout",
     "output_type": "stream",
     "text": [
      "Epoch 160, Loss 0.0256\n",
      "Training Accuracy: 0.9688, Testing Accuracy: 0.9693\n",
      "\n"
     ]
    },
    {
     "name": "stdout",
     "output_type": "stream",
     "text": [
      "Epoch 170, Loss 0.025\n",
      "Training Accuracy: 0.9692, Testing Accuracy: 0.9693\n",
      "\n"
     ]
    },
    {
     "name": "stdout",
     "output_type": "stream",
     "text": [
      "Epoch 180, Loss 0.0245\n",
      "Training Accuracy: 0.9701, Testing Accuracy: 0.9713\n",
      "\n"
     ]
    },
    {
     "name": "stdout",
     "output_type": "stream",
     "text": [
      "Epoch 190, Loss 0.024\n",
      "Training Accuracy: 0.9713, Testing Accuracy: 0.9728\n",
      "\n"
     ]
    },
    {
     "name": "stdout",
     "output_type": "stream",
     "text": [
      "Epoch 200, Loss 0.0235\n",
      "Training Accuracy: 0.9720, Testing Accuracy: 0.9728\n",
      "\n"
     ]
    },
    {
     "name": "stdout",
     "output_type": "stream",
     "text": [
      "Epoch 210, Loss 0.023\n",
      "Training Accuracy: 0.9727, Testing Accuracy: 0.9728\n",
      "\n"
     ]
    },
    {
     "name": "stdout",
     "output_type": "stream",
     "text": [
      "Epoch 220, Loss 0.0226\n",
      "Training Accuracy: 0.9733, Testing Accuracy: 0.9713\n",
      "\n"
     ]
    },
    {
     "name": "stdout",
     "output_type": "stream",
     "text": [
      "Epoch 230, Loss 0.0222\n",
      "Training Accuracy: 0.9740, Testing Accuracy: 0.9713\n",
      "\n"
     ]
    },
    {
     "name": "stdout",
     "output_type": "stream",
     "text": [
      "Epoch 240, Loss 0.0218\n",
      "Training Accuracy: 0.9747, Testing Accuracy: 0.9713\n",
      "\n"
     ]
    },
    {
     "data": {
      "text/plain": [
       "0.05811770379935903"
      ]
     },
     "execution_count": 22,
     "metadata": {},
     "output_type": "execute_result"
    }
   ],
   "source": [
    "nn_learner.train_loop(dl)"
   ]
  },
  {
   "cell_type": "code",
   "execution_count": 23,
   "id": "e0163366",
   "metadata": {
    "execution": {
     "iopub.execute_input": "2022-07-03T10:14:19.380222Z",
     "iopub.status.busy": "2022-07-03T10:14:19.379650Z",
     "iopub.status.idle": "2022-07-03T10:14:31.506036Z",
     "shell.execute_reply": "2022-07-03T10:14:31.506765Z"
    },
    "papermill": {
     "duration": 12.164996,
     "end_time": "2022-07-03T10:14:31.506901",
     "exception": false,
     "start_time": "2022-07-03T10:14:19.341905",
     "status": "completed"
    },
    "tags": []
   },
   "outputs": [
    {
     "name": "stdout",
     "output_type": "stream",
     "text": [
      "Epoch 0, Loss 0.2469\n",
      "Training Accuracy: 0.6646, Testing Accuracy: 0.6744\n",
      "\n"
     ]
    },
    {
     "name": "stdout",
     "output_type": "stream",
     "text": [
      "Epoch 10, Loss 0.1019\n",
      "Training Accuracy: 0.9145, Testing Accuracy: 0.9279\n",
      "\n"
     ]
    },
    {
     "name": "stdout",
     "output_type": "stream",
     "text": [
      "Epoch 20, Loss 0.0784\n",
      "Training Accuracy: 0.9305, Testing Accuracy: 0.9410\n",
      "\n"
     ]
    },
    {
     "name": "stdout",
     "output_type": "stream",
     "text": [
      "Epoch 30, Loss 0.0678\n",
      "Training Accuracy: 0.9369, Testing Accuracy: 0.9456\n",
      "\n"
     ]
    },
    {
     "name": "stdout",
     "output_type": "stream",
     "text": [
      "Epoch 40, Loss 0.0614\n",
      "Training Accuracy: 0.9415, Testing Accuracy: 0.9486\n",
      "\n"
     ]
    },
    {
     "name": "stdout",
     "output_type": "stream",
     "text": [
      "Epoch 50, Loss 0.057\n",
      "Training Accuracy: 0.9446, Testing Accuracy: 0.9531\n",
      "\n"
     ]
    },
    {
     "name": "stdout",
     "output_type": "stream",
     "text": [
      "Epoch 60, Loss 0.0538\n",
      "Training Accuracy: 0.9472, Testing Accuracy: 0.9536\n",
      "\n"
     ]
    },
    {
     "name": "stdout",
     "output_type": "stream",
     "text": [
      "Epoch 70, Loss 0.0513\n",
      "Training Accuracy: 0.9489, Testing Accuracy: 0.9567\n",
      "\n"
     ]
    },
    {
     "name": "stdout",
     "output_type": "stream",
     "text": [
      "Epoch 80, Loss 0.0492\n",
      "Training Accuracy: 0.9506, Testing Accuracy: 0.9572\n",
      "\n"
     ]
    },
    {
     "name": "stdout",
     "output_type": "stream",
     "text": [
      "Epoch 90, Loss 0.0476\n",
      "Training Accuracy: 0.9520, Testing Accuracy: 0.9587\n",
      "\n"
     ]
    },
    {
     "name": "stdout",
     "output_type": "stream",
     "text": [
      "Epoch 100, Loss 0.0462\n",
      "Training Accuracy: 0.9533, Testing Accuracy: 0.9607\n",
      "\n"
     ]
    },
    {
     "name": "stdout",
     "output_type": "stream",
     "text": [
      "Epoch 110, Loss 0.0449\n",
      "Training Accuracy: 0.9540, Testing Accuracy: 0.9617\n",
      "\n"
     ]
    },
    {
     "name": "stdout",
     "output_type": "stream",
     "text": [
      "Epoch 120, Loss 0.0439\n",
      "Training Accuracy: 0.9554, Testing Accuracy: 0.9622\n",
      "\n"
     ]
    },
    {
     "name": "stdout",
     "output_type": "stream",
     "text": [
      "Epoch 130, Loss 0.043\n",
      "Training Accuracy: 0.9559, Testing Accuracy: 0.9637\n",
      "\n"
     ]
    },
    {
     "name": "stdout",
     "output_type": "stream",
     "text": [
      "Epoch 140, Loss 0.0421\n",
      "Training Accuracy: 0.9567, Testing Accuracy: 0.9647\n",
      "\n"
     ]
    },
    {
     "name": "stdout",
     "output_type": "stream",
     "text": [
      "Epoch 150, Loss 0.0414\n",
      "Training Accuracy: 0.9575, Testing Accuracy: 0.9647\n",
      "\n"
     ]
    },
    {
     "name": "stdout",
     "output_type": "stream",
     "text": [
      "Epoch 160, Loss 0.0407\n",
      "Training Accuracy: 0.9576, Testing Accuracy: 0.9652\n",
      "\n"
     ]
    },
    {
     "name": "stdout",
     "output_type": "stream",
     "text": [
      "Epoch 170, Loss 0.0401\n",
      "Training Accuracy: 0.9578, Testing Accuracy: 0.9652\n",
      "\n"
     ]
    },
    {
     "name": "stdout",
     "output_type": "stream",
     "text": [
      "Epoch 180, Loss 0.0395\n",
      "Training Accuracy: 0.9582, Testing Accuracy: 0.9657\n",
      "\n"
     ]
    },
    {
     "name": "stdout",
     "output_type": "stream",
     "text": [
      "Epoch 190, Loss 0.039\n",
      "Training Accuracy: 0.9588, Testing Accuracy: 0.9657\n",
      "\n"
     ]
    },
    {
     "name": "stdout",
     "output_type": "stream",
     "text": [
      "Epoch 200, Loss 0.0385\n",
      "Training Accuracy: 0.9592, Testing Accuracy: 0.9652\n",
      "\n"
     ]
    },
    {
     "name": "stdout",
     "output_type": "stream",
     "text": [
      "Epoch 210, Loss 0.0381\n",
      "Training Accuracy: 0.9594, Testing Accuracy: 0.9652\n",
      "\n"
     ]
    },
    {
     "name": "stdout",
     "output_type": "stream",
     "text": [
      "Epoch 220, Loss 0.0377\n",
      "Training Accuracy: 0.9597, Testing Accuracy: 0.9647\n",
      "\n"
     ]
    },
    {
     "name": "stdout",
     "output_type": "stream",
     "text": [
      "Epoch 230, Loss 0.0373\n",
      "Training Accuracy: 0.9601, Testing Accuracy: 0.9647\n",
      "\n"
     ]
    },
    {
     "name": "stdout",
     "output_type": "stream",
     "text": [
      "Epoch 240, Loss 0.0369\n",
      "Training Accuracy: 0.9605, Testing Accuracy: 0.9647\n",
      "\n"
     ]
    },
    {
     "data": {
      "text/plain": [
       "0.047596619939936774"
      ]
     },
     "execution_count": 23,
     "metadata": {},
     "output_type": "execute_result"
    }
   ],
   "source": [
    "lr_learner.train_loop(dl)"
   ]
  },
  {
   "cell_type": "code",
   "execution_count": 24,
   "id": "ca410940",
   "metadata": {
    "execution": {
     "iopub.execute_input": "2022-07-03T10:14:31.601121Z",
     "iopub.status.busy": "2022-07-03T10:14:31.599726Z",
     "iopub.status.idle": "2022-07-03T10:14:31.822343Z",
     "shell.execute_reply": "2022-07-03T10:14:31.821867Z"
    },
    "papermill": {
     "duration": 0.273656,
     "end_time": "2022-07-03T10:14:31.822454",
     "exception": false,
     "start_time": "2022-07-03T10:14:31.548798",
     "status": "completed"
    },
    "tags": []
   },
   "outputs": [
    {
     "data": {
      "text/plain": [
       "<matplotlib.legend.Legend at 0x7f3dd910ac50>"
      ]
     },
     "execution_count": 24,
     "metadata": {},
     "output_type": "execute_result"
    },
    {
     "data": {
      "image/png": "[encoded data removed]",
      "text/plain": [
       "<Figure size 1080x720 with 1 Axes>"
      ]
     },
     "metadata": {
      "needs_background": "light"
     },
     "output_type": "display_data"
    }
   ],
   "source": [
    "#comparing the results of NN and LR\n",
    "plt.figure(figsize=(15,10))\n",
    "\n",
    "# Neural Network plots\n",
    "plt.plot(acc_nn.accuracies, 'r-', label = \"Training Accuracies - NN\")\n",
    "plt.plot(acc_nn.test_accuracies, 'g-', label = \"Testing Accuracies - NN\")\n",
    "\n",
    "# Logistic Regression plots\n",
    "plt.plot(acc_lr.accuracies, 'k-', label = \"Training Accuracies - LR\")\n",
    "plt.plot(acc_lr.test_accuracies, 'b-', label = \"Testing Accuracies - LR\")\n",
    "plt.legend()"
   ]
  },
  {
   "cell_type": "markdown",
   "id": "80dfb35c",
   "metadata": {
    "papermill": {
     "duration": 0.042691,
     "end_time": "2022-07-03T10:14:31.908325",
     "exception": false,
     "start_time": "2022-07-03T10:14:31.865634",
     "status": "completed"
    },
    "tags": []
   },
   "source": [
    "#### Plotting the outputs of this layer of the NN.\n"
   ]
  },
  {
   "cell_type": "code",
   "execution_count": 25,
   "id": "45eb2ff5",
   "metadata": {
    "execution": {
     "iopub.execute_input": "2022-07-03T10:14:31.997598Z",
     "iopub.status.busy": "2022-07-03T10:14:31.997013Z",
     "iopub.status.idle": "2022-07-03T10:14:32.034059Z",
     "shell.execute_reply": "2022-07-03T10:14:32.034850Z"
    },
    "papermill": {
     "duration": 0.083995,
     "end_time": "2022-07-03T10:14:32.034986",
     "exception": false,
     "start_time": "2022-07-03T10:14:31.950991",
     "status": "completed"
    },
    "tags": []
   },
   "outputs": [],
   "source": [
    "new_model = Model(layers[:-2])\n",
    "testing_plot = new_model(testing_data_x)"
   ]
  },
  {
   "cell_type": "code",
   "execution_count": 26,
   "id": "4c0a5485",
   "metadata": {
    "execution": {
     "iopub.execute_input": "2022-07-03T10:14:32.128064Z",
     "iopub.status.busy": "2022-07-03T10:14:32.127501Z",
     "iopub.status.idle": "2022-07-03T10:14:32.310661Z",
     "shell.execute_reply": "2022-07-03T10:14:32.310180Z"
    },
    "papermill": {
     "duration": 0.232014,
     "end_time": "2022-07-03T10:14:32.310767",
     "exception": false,
     "start_time": "2022-07-03T10:14:32.078753",
     "status": "completed"
    },
    "tags": []
   },
   "outputs": [
    {
     "data": {
      "text/plain": [
       "Text(0.5, 1.0, 'Outputs')"
      ]
     },
     "execution_count": 26,
     "metadata": {},
     "output_type": "execute_result"
    },
    {
     "data": {
      "image/png": "[encoded data removed]",
      "text/plain": [
       "<Figure size 576x504 with 1 Axes>"
      ]
     },
     "metadata": {
      "needs_background": "light"
     },
     "output_type": "display_data"
    }
   ],
   "source": [
    "# Plotting the scatter plot of points and color coding by class\n",
    "plt.figure(figsize=(8,7))\n",
    "plt.scatter(testing_plot[:,0], testing_plot[:,1], alpha = 0.1, c = y_test.ravel());\n",
    "plt.title('Outputs')"
   ]
  },
  {
   "cell_type": "markdown",
   "id": "a74fcf8f",
   "metadata": {
    "papermill": {
     "duration": 0.044698,
     "end_time": "2022-07-03T10:14:32.421999",
     "exception": false,
     "start_time": "2022-07-03T10:14:32.377301",
     "status": "completed"
    },
    "tags": []
   },
   "source": [
    "Probability contours"
   ]
  },
  {
   "cell_type": "code",
   "execution_count": 27,
   "id": "d0afc8e3",
   "metadata": {
    "execution": {
     "iopub.execute_input": "2022-07-03T10:14:32.515026Z",
     "iopub.status.busy": "2022-07-03T10:14:32.514466Z",
     "iopub.status.idle": "2022-07-03T10:14:32.526018Z",
     "shell.execute_reply": "2022-07-03T10:14:32.526422Z"
    },
    "papermill": {
     "duration": 0.059903,
     "end_time": "2022-07-03T10:14:32.526542",
     "exception": false,
     "start_time": "2022-07-03T10:14:32.466639",
     "status": "completed"
    },
    "tags": []
   },
   "outputs": [],
   "source": [
    "model_prob = Model(layers[-2:]) "
   ]
  },
  {
   "cell_type": "code",
   "execution_count": 28,
   "id": "9b96e238",
   "metadata": {
    "execution": {
     "iopub.execute_input": "2022-07-03T10:14:32.620081Z",
     "iopub.status.busy": "2022-07-03T10:14:32.619523Z",
     "iopub.status.idle": "2022-07-03T10:14:32.632460Z",
     "shell.execute_reply": "2022-07-03T10:14:32.632923Z"
    },
    "papermill": {
     "duration": 0.061867,
     "end_time": "2022-07-03T10:14:32.633052",
     "exception": false,
     "start_time": "2022-07-03T10:14:32.571185",
     "status": "completed"
    },
    "tags": []
   },
   "outputs": [],
   "source": [
    "#creating the x and y ranges according to the above generated plot.\n",
    "x_range = np.linspace(-4, 1, 100) \n",
    "y_range = np.linspace(-6, 6, 100) \n",
    "x_grid, y_grid = np.meshgrid(x_range, y_range) # x_grid and y_grig are of size 100 X 100\n",
    "\n",
    "# converting x_grid and y_grid to continuous arrays\n",
    "x_gridflat = np.ravel(x_grid)\n",
    "y_gridflat = np.ravel(y_grid)\n",
    "\n",
    "# The last layer of the current model takes two columns as input. Hence transpose of np.vstack() is required.\n",
    "X = np.vstack((x_gridflat, y_gridflat)).T\n",
    "\n",
    "prob_contour = model_prob(X).reshape(100,100) "
   ]
  },
  {
   "cell_type": "code",
   "execution_count": 29,
   "id": "da72499a",
   "metadata": {
    "execution": {
     "iopub.execute_input": "2022-07-03T10:14:32.727629Z",
     "iopub.status.busy": "2022-07-03T10:14:32.727075Z",
     "iopub.status.idle": "2022-07-03T10:14:32.964242Z",
     "shell.execute_reply": "2022-07-03T10:14:32.963746Z"
    },
    "papermill": {
     "duration": 0.285839,
     "end_time": "2022-07-03T10:14:32.964351",
     "exception": false,
     "start_time": "2022-07-03T10:14:32.678512",
     "status": "completed"
    },
    "tags": []
   },
   "outputs": [
    {
     "data": {
      "image/png": "[encoded data removed]",
      "text/plain": [
       "<Figure size 720x648 with 1 Axes>"
      ]
     },
     "metadata": {
      "needs_background": "light"
     },
     "output_type": "display_data"
    }
   ],
   "source": [
    "plt.figure(figsize=(10,9))\n",
    "plt.scatter(testing_plot[:,0], testing_plot[:,1], alpha = 0.1, c = y_test.ravel())\n",
    "contours = plt.contour(x_grid,y_grid,prob_contour)\n",
    "plt.title('Probability Contours')\n",
    "plt.clabel(contours, inline = True );"
   ]
  },
  {
   "cell_type": "code",
   "execution_count": null,
   "id": "e81b4ac7",
   "metadata": {
    "papermill": {
     "duration": 0.046754,
     "end_time": "2022-07-03T10:14:33.058817",
     "exception": false,
     "start_time": "2022-07-03T10:14:33.012063",
     "status": "completed"
    },
    "tags": []
   },
   "outputs": [],
   "source": []
  }
 ],
 "metadata": {
  "kernelspec": {
   "display_name": "Python 3",
   "language": "python",
   "name": "python3"
  },
  "language_info": {
   "codemirror_mode": {
    "name": "ipython",
    "version": 3
   },
   "file_extension": ".py",
   "mimetype": "text/x-python",
   "name": "python",
   "nbconvert_exporter": "python",
   "pygments_lexer": "ipython3",
   "version": "3.6.15"
  },
  "papermill": {
   "default_parameters": {},
   "duration": 195.289533,
   "end_time": "2022-07-03T10:14:33.423402",
   "environment_variables": {},
   "exception": null,
   "input_path": "2020-08-11-part2.ipynb",
   "output_path": "2020-08-11-part2.ipynb",
   "parameters": {},
   "start_time": "2022-07-03T10:11:18.133869",
   "version": "2.3.3"
  }
 },
 "nbformat": 4,
 "nbformat_minor": 5
}