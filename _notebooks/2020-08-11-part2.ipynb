{
 "cells": [
  {
   "cell_type": "markdown",
   "id": "98380cd3",
   "metadata": {
    "papermill": {
     "duration": 0.029477,
     "end_time": "2022-10-10T10:11:37.959920",
     "exception": false,
     "start_time": "2022-10-10T10:11:37.930443",
     "status": "completed"
    },
    "tags": []
   },
   "source": [
    "# Distinguish Your Own Digits (DYOD)"
   ]
  },
  {
   "cell_type": "markdown",
   "id": "ef31240d",
   "metadata": {
    "papermill": {
     "duration": 0.024107,
     "end_time": "2022-10-10T10:11:38.010519",
     "exception": false,
     "start_time": "2022-10-10T10:11:37.986412",
     "status": "completed"
    },
    "tags": []
   },
   "source": [
    "You are going to write a classifier that distinguishes between the number 3 and number 8."
   ]
  },
  {
   "cell_type": "code",
   "execution_count": 1,
   "id": "b15c8646",
   "metadata": {
    "execution": {
     "iopub.execute_input": "2022-10-10T10:11:38.068763Z",
     "iopub.status.busy": "2022-10-10T10:11:38.068174Z",
     "iopub.status.idle": "2022-10-10T10:11:38.078285Z",
     "shell.execute_reply": "2022-10-10T10:11:38.078765Z"
    },
    "papermill": {
     "duration": 0.044417,
     "end_time": "2022-10-10T10:11:38.078911",
     "exception": false,
     "start_time": "2022-10-10T10:11:38.034494",
     "status": "completed"
    },
    "tags": []
   },
   "outputs": [],
   "source": [
    "%load_ext autoreload\n",
    "%autoreload 2"
   ]
  },
  {
   "cell_type": "code",
   "execution_count": 2,
   "id": "22ef38dc",
   "metadata": {
    "execution": {
     "iopub.execute_input": "2022-10-10T10:11:38.136468Z",
     "iopub.status.busy": "2022-10-10T10:11:38.130745Z",
     "iopub.status.idle": "2022-10-10T10:11:38.654595Z",
     "shell.execute_reply": "2022-10-10T10:11:38.654101Z"
    },
    "papermill": {
     "duration": 0.551528,
     "end_time": "2022-10-10T10:11:38.654731",
     "exception": false,
     "start_time": "2022-10-10T10:11:38.103203",
     "status": "completed"
    },
    "tags": []
   },
   "outputs": [],
   "source": [
    "%matplotlib inline\n",
    "import numpy as np\n",
    "import matplotlib.pyplot as plt\n",
    "import pandas as pd"
   ]
  },
  {
   "cell_type": "markdown",
   "id": "ba036198",
   "metadata": {
    "papermill": {
     "duration": 0.02406,
     "end_time": "2022-10-10T10:11:38.702847",
     "exception": false,
     "start_time": "2022-10-10T10:11:38.678787",
     "status": "completed"
    },
    "tags": []
   },
   "source": [
    "From the command line run `pip install mnist`. This is a library that will help you bring down the mnist dataset. If you run this from a notebook, you need to put  `!pip install mnist` in a cell by itself."
   ]
  },
  {
   "cell_type": "code",
   "execution_count": 3,
   "id": "bb6ad8a1",
   "metadata": {
    "execution": {
     "iopub.execute_input": "2022-10-10T10:11:38.755429Z",
     "iopub.status.busy": "2022-10-10T10:11:38.754832Z",
     "iopub.status.idle": "2022-10-10T10:11:40.435170Z",
     "shell.execute_reply": "2022-10-10T10:11:40.433821Z"
    },
    "papermill": {
     "duration": 1.708088,
     "end_time": "2022-10-10T10:11:40.435294",
     "exception": false,
     "start_time": "2022-10-10T10:11:38.727206",
     "status": "completed"
    },
    "tags": []
   },
   "outputs": [
    {
     "name": "stdout",
     "output_type": "stream",
     "text": [
      "Collecting mnist\r\n"
     ]
    },
    {
     "name": "stdout",
     "output_type": "stream",
     "text": [
      "  Downloading mnist-0.2.2-py2.py3-none-any.whl (3.5 kB)\r\n"
     ]
    },
    {
     "name": "stdout",
     "output_type": "stream",
     "text": [
      "Requirement already satisfied: numpy in /opt/hostedtoolcache/Python/3.6.15/x64/lib/python3.6/site-packages (from mnist) (1.19.5)\r\n"
     ]
    },
    {
     "name": "stdout",
     "output_type": "stream",
     "text": [
      "Installing collected packages: mnist\r\n"
     ]
    },
    {
     "name": "stdout",
     "output_type": "stream",
     "text": [
      "Successfully installed mnist-0.2.2\r\n"
     ]
    }
   ],
   "source": [
    "!pip install mnist"
   ]
  },
  {
   "cell_type": "markdown",
   "id": "69df9c9a",
   "metadata": {
    "papermill": {
     "duration": 0.02534,
     "end_time": "2022-10-10T10:11:40.486256",
     "exception": false,
     "start_time": "2022-10-10T10:11:40.460916",
     "status": "completed"
    },
    "tags": []
   },
   "source": [
    "## Preparing the Data"
   ]
  },
  {
   "cell_type": "code",
   "execution_count": 4,
   "id": "7f69d806",
   "metadata": {
    "execution": {
     "iopub.execute_input": "2022-10-10T10:11:40.544118Z",
     "iopub.status.busy": "2022-10-10T10:11:40.540435Z",
     "iopub.status.idle": "2022-10-10T10:11:40.555422Z",
     "shell.execute_reply": "2022-10-10T10:11:40.554900Z"
    },
    "papermill": {
     "duration": 0.043993,
     "end_time": "2022-10-10T10:11:40.555534",
     "exception": false,
     "start_time": "2022-10-10T10:11:40.511541",
     "status": "completed"
    },
    "tags": []
   },
   "outputs": [],
   "source": [
    "import mnist"
   ]
  },
  {
   "cell_type": "code",
   "execution_count": 5,
   "id": "a411e44f",
   "metadata": {
    "execution": {
     "iopub.execute_input": "2022-10-10T10:11:40.611127Z",
     "iopub.status.busy": "2022-10-10T10:11:40.609901Z",
     "iopub.status.idle": "2022-10-10T10:11:41.228068Z",
     "shell.execute_reply": "2022-10-10T10:11:41.227551Z"
    },
    "papermill": {
     "duration": 0.647134,
     "end_time": "2022-10-10T10:11:41.228182",
     "exception": false,
     "start_time": "2022-10-10T10:11:40.581048",
     "status": "completed"
    },
    "tags": []
   },
   "outputs": [],
   "source": [
    "train_images = mnist.train_images()\n",
    "train_labels = mnist.train_labels()"
   ]
  },
  {
   "cell_type": "code",
   "execution_count": 6,
   "id": "dceab3a5",
   "metadata": {
    "execution": {
     "iopub.execute_input": "2022-10-10T10:11:41.283332Z",
     "iopub.status.busy": "2022-10-10T10:11:41.282741Z",
     "iopub.status.idle": "2022-10-10T10:11:41.297168Z",
     "shell.execute_reply": "2022-10-10T10:11:41.296709Z"
    },
    "papermill": {
     "duration": 0.043493,
     "end_time": "2022-10-10T10:11:41.297273",
     "exception": false,
     "start_time": "2022-10-10T10:11:41.253780",
     "status": "completed"
    },
    "tags": []
   },
   "outputs": [
    {
     "data": {
      "text/plain": [
       "((60000, 28, 28), (60000,))"
      ]
     },
     "execution_count": 6,
     "metadata": {},
     "output_type": "execute_result"
    }
   ],
   "source": [
    "train_images.shape, train_labels.shape"
   ]
  },
  {
   "cell_type": "code",
   "execution_count": 7,
   "id": "f50dc2bb",
   "metadata": {
    "execution": {
     "iopub.execute_input": "2022-10-10T10:11:41.352463Z",
     "iopub.status.busy": "2022-10-10T10:11:41.351881Z",
     "iopub.status.idle": "2022-10-10T10:11:41.591089Z",
     "shell.execute_reply": "2022-10-10T10:11:41.590555Z"
    },
    "papermill": {
     "duration": 0.268256,
     "end_time": "2022-10-10T10:11:41.591200",
     "exception": false,
     "start_time": "2022-10-10T10:11:41.322944",
     "status": "completed"
    },
    "tags": []
   },
   "outputs": [],
   "source": [
    "test_images = mnist.test_images()\n",
    "test_labels = mnist.test_labels()"
   ]
  },
  {
   "cell_type": "code",
   "execution_count": 8,
   "id": "fc38cf1b",
   "metadata": {
    "execution": {
     "iopub.execute_input": "2022-10-10T10:11:41.648376Z",
     "iopub.status.busy": "2022-10-10T10:11:41.647791Z",
     "iopub.status.idle": "2022-10-10T10:11:41.660057Z",
     "shell.execute_reply": "2022-10-10T10:11:41.659502Z"
    },
    "papermill": {
     "duration": 0.043173,
     "end_time": "2022-10-10T10:11:41.660161",
     "exception": false,
     "start_time": "2022-10-10T10:11:41.616988",
     "status": "completed"
    },
    "tags": []
   },
   "outputs": [
    {
     "data": {
      "text/plain": [
       "((10000, 28, 28), (10000,))"
      ]
     },
     "execution_count": 8,
     "metadata": {},
     "output_type": "execute_result"
    }
   ],
   "source": [
    "test_images.shape, test_labels.shape"
   ]
  },
  {
   "cell_type": "code",
   "execution_count": 9,
   "id": "f9ed8fe0",
   "metadata": {
    "execution": {
     "iopub.execute_input": "2022-10-10T10:11:41.717239Z",
     "iopub.status.busy": "2022-10-10T10:11:41.716127Z",
     "iopub.status.idle": "2022-10-10T10:11:41.851796Z",
     "shell.execute_reply": "2022-10-10T10:11:41.851335Z"
    },
    "papermill": {
     "duration": 0.165364,
     "end_time": "2022-10-10T10:11:41.851908",
     "exception": false,
     "start_time": "2022-10-10T10:11:41.686544",
     "status": "completed"
    },
    "tags": []
   },
   "outputs": [
    {
     "name": "stdout",
     "output_type": "stream",
     "text": [
      "2\n"
     ]
    },
    {
     "data": {
      "text/plain": [
       "<matplotlib.image.AxesImage at 0x7efd10359cf8>"
      ]
     },
     "execution_count": 9,
     "metadata": {},
     "output_type": "execute_result"
    },
    {
     "data": {
      "image/png": "[encoded data removed]",
      "text/plain": [
       "<Figure size 432x288 with 1 Axes>"
      ]
     },
     "metadata": {
      "needs_background": "light"
     },
     "output_type": "display_data"
    }
   ],
   "source": [
    "image_index = 7776 # You may select anything up to 60,000\n",
    "print(train_labels[image_index]) \n",
    "plt.imshow(train_images[image_index], cmap='Greys')"
   ]
  },
  {
   "cell_type": "markdown",
   "id": "a8d2388d",
   "metadata": {
    "papermill": {
     "duration": 0.026971,
     "end_time": "2022-10-10T10:11:41.906055",
     "exception": false,
     "start_time": "2022-10-10T10:11:41.879084",
     "status": "completed"
    },
    "tags": []
   },
   "source": [
    "## Filter data to get 3 and 8 out"
   ]
  },
  {
   "cell_type": "code",
   "execution_count": 10,
   "id": "776f7fc7",
   "metadata": {
    "execution": {
     "iopub.execute_input": "2022-10-10T10:11:41.964470Z",
     "iopub.status.busy": "2022-10-10T10:11:41.963899Z",
     "iopub.status.idle": "2022-10-10T10:11:41.978845Z",
     "shell.execute_reply": "2022-10-10T10:11:41.978363Z"
    },
    "papermill": {
     "duration": 0.045962,
     "end_time": "2022-10-10T10:11:41.978952",
     "exception": false,
     "start_time": "2022-10-10T10:11:41.932990",
     "status": "completed"
    },
    "tags": []
   },
   "outputs": [],
   "source": [
    "train_filter = np.where((train_labels == 3 ) | (train_labels == 8))\n",
    "test_filter = np.where((test_labels == 3) | (test_labels == 8))\n",
    "X_train, y_train = train_images[train_filter], train_labels[train_filter]\n",
    "X_test, y_test = test_images[test_filter], test_labels[test_filter]"
   ]
  },
  {
   "cell_type": "markdown",
   "id": "948f0b7e",
   "metadata": {
    "papermill": {
     "duration": 0.026861,
     "end_time": "2022-10-10T10:11:42.032791",
     "exception": false,
     "start_time": "2022-10-10T10:11:42.005930",
     "status": "completed"
    },
    "tags": []
   },
   "source": [
    "We normalize the pizel values in the 0 to 1 range"
   ]
  },
  {
   "cell_type": "code",
   "execution_count": 11,
   "id": "ee4c2166",
   "metadata": {
    "execution": {
     "iopub.execute_input": "2022-10-10T10:11:42.090307Z",
     "iopub.status.busy": "2022-10-10T10:11:42.089744Z",
     "iopub.status.idle": "2022-10-10T10:11:42.128993Z",
     "shell.execute_reply": "2022-10-10T10:11:42.128531Z"
    },
    "papermill": {
     "duration": 0.069458,
     "end_time": "2022-10-10T10:11:42.129102",
     "exception": false,
     "start_time": "2022-10-10T10:11:42.059644",
     "status": "completed"
    },
    "tags": []
   },
   "outputs": [],
   "source": [
    "X_train = X_train/255.\n",
    "X_test = X_test/255."
   ]
  },
  {
   "cell_type": "markdown",
   "id": "ddcf4fab",
   "metadata": {
    "papermill": {
     "duration": 0.026927,
     "end_time": "2022-10-10T10:11:42.183107",
     "exception": false,
     "start_time": "2022-10-10T10:11:42.156180",
     "status": "completed"
    },
    "tags": []
   },
   "source": [
    "And setup the labels as 1 (when the digit is 3) and 0 (when the digit is 8)"
   ]
  },
  {
   "cell_type": "code",
   "execution_count": 12,
   "id": "7dc908f2",
   "metadata": {
    "execution": {
     "iopub.execute_input": "2022-10-10T10:11:42.240876Z",
     "iopub.status.busy": "2022-10-10T10:11:42.240321Z",
     "iopub.status.idle": "2022-10-10T10:11:42.252098Z",
     "shell.execute_reply": "2022-10-10T10:11:42.252501Z"
    },
    "papermill": {
     "duration": 0.042542,
     "end_time": "2022-10-10T10:11:42.252626",
     "exception": false,
     "start_time": "2022-10-10T10:11:42.210084",
     "status": "completed"
    },
    "tags": []
   },
   "outputs": [],
   "source": [
    "y_train = 1*(y_train==3)\n",
    "y_test = 1*(y_test==3)"
   ]
  },
  {
   "cell_type": "code",
   "execution_count": 13,
   "id": "01e4e969",
   "metadata": {
    "execution": {
     "iopub.execute_input": "2022-10-10T10:11:42.311026Z",
     "iopub.status.busy": "2022-10-10T10:11:42.310426Z",
     "iopub.status.idle": "2022-10-10T10:11:42.324058Z",
     "shell.execute_reply": "2022-10-10T10:11:42.324484Z"
    },
    "papermill": {
     "duration": 0.044545,
     "end_time": "2022-10-10T10:11:42.324615",
     "exception": false,
     "start_time": "2022-10-10T10:11:42.280070",
     "status": "completed"
    },
    "tags": []
   },
   "outputs": [
    {
     "data": {
      "text/plain": [
       "((11982, 28, 28), (1984, 28, 28))"
      ]
     },
     "execution_count": 13,
     "metadata": {},
     "output_type": "execute_result"
    }
   ],
   "source": [
    "X_train.shape, X_test.shape"
   ]
  },
  {
   "cell_type": "markdown",
   "id": "5ccf3f85",
   "metadata": {
    "papermill": {
     "duration": 0.027138,
     "end_time": "2022-10-10T10:11:42.378897",
     "exception": false,
     "start_time": "2022-10-10T10:11:42.351759",
     "status": "completed"
    },
    "tags": []
   },
   "source": [
    "We reshape the data to flatten the image pixels into a set of features or co-variates:"
   ]
  },
  {
   "cell_type": "code",
   "execution_count": 14,
   "id": "5286a4a3",
   "metadata": {
    "execution": {
     "iopub.execute_input": "2022-10-10T10:11:42.439824Z",
     "iopub.status.busy": "2022-10-10T10:11:42.437058Z",
     "iopub.status.idle": "2022-10-10T10:11:42.450206Z",
     "shell.execute_reply": "2022-10-10T10:11:42.450680Z"
    },
    "papermill": {
     "duration": 0.044682,
     "end_time": "2022-10-10T10:11:42.450805",
     "exception": false,
     "start_time": "2022-10-10T10:11:42.406123",
     "status": "completed"
    },
    "tags": []
   },
   "outputs": [
    {
     "data": {
      "text/plain": [
       "((11982, 784), (1984, 784))"
      ]
     },
     "execution_count": 14,
     "metadata": {},
     "output_type": "execute_result"
    }
   ],
   "source": [
    "X_train = X_train.reshape(X_train.shape[0], -1)\n",
    "X_test = X_test.reshape(X_test.shape[0], -1)\n",
    "X_train.shape, X_test.shape"
   ]
  },
  {
   "cell_type": "code",
   "execution_count": 15,
   "id": "73c5f88a",
   "metadata": {
    "execution": {
     "iopub.execute_input": "2022-10-10T10:11:42.510122Z",
     "iopub.status.busy": "2022-10-10T10:11:42.509552Z",
     "iopub.status.idle": "2022-10-10T10:11:42.527752Z",
     "shell.execute_reply": "2022-10-10T10:11:42.527288Z"
    },
    "papermill": {
     "duration": 0.049665,
     "end_time": "2022-10-10T10:11:42.527857",
     "exception": false,
     "start_time": "2022-10-10T10:11:42.478192",
     "status": "completed"
    },
    "tags": []
   },
   "outputs": [],
   "source": [
    "#Impoting functions from 'Kudzu'\n",
    "from kudzu.model import Model\n",
    "from kudzu.train import Learner\n",
    "from kudzu.optim import GD\n",
    "from kudzu.data import Data, Sampler,Dataloader\n",
    "\n",
    "from kudzu.callbacks import AccCallback\n",
    "from kudzu.callbacks import ClfCallback\n",
    "\n",
    "from kudzu.loss import MSE\n",
    "\n",
    "from kudzu.layer import Sigmoid,Relu\n",
    "from kudzu.layer import Affine"
   ]
  },
  {
   "cell_type": "markdown",
   "id": "bc01172a",
   "metadata": {
    "papermill": {
     "duration": 0.027903,
     "end_time": "2022-10-10T10:11:42.583369",
     "exception": false,
     "start_time": "2022-10-10T10:11:42.555466",
     "status": "completed"
    },
    "tags": []
   },
   "source": [
    "### Let us create a `Config` class, to store important parameters. \n",
    "This class essentially plays the role of a dictionary."
   ]
  },
  {
   "cell_type": "code",
   "execution_count": 16,
   "id": "978281aa",
   "metadata": {
    "execution": {
     "iopub.execute_input": "2022-10-10T10:11:42.642843Z",
     "iopub.status.busy": "2022-10-10T10:11:42.641783Z",
     "iopub.status.idle": "2022-10-10T10:11:42.654823Z",
     "shell.execute_reply": "2022-10-10T10:11:42.654344Z"
    },
    "papermill": {
     "duration": 0.0441,
     "end_time": "2022-10-10T10:11:42.654930",
     "exception": false,
     "start_time": "2022-10-10T10:11:42.610830",
     "status": "completed"
    },
    "tags": []
   },
   "outputs": [],
   "source": [
    "class Config:\n",
    "    pass\n",
    "config = Config()\n",
    "config.lr = 0.001\n",
    "config.num_epochs = 250\n",
    "config.bs = 50"
   ]
  },
  {
   "cell_type": "markdown",
   "id": "1385fa59",
   "metadata": {
    "papermill": {
     "duration": 0.027453,
     "end_time": "2022-10-10T10:11:42.709893",
     "exception": false,
     "start_time": "2022-10-10T10:11:42.682440",
     "status": "completed"
    },
    "tags": []
   },
   "source": [
    "### Running Models with the Training data\n",
    "Details about the network layers:\n",
    "- A first affine layer has 784 inputs and does 100 affine transforms. These are followed by a Relu\n",
    "- A second affine layer has 100 inputs from the 100 activations of the past layer, and does 100 affine transforms. These are followed by a Relu\n",
    "- A third affine layer has 100 activations and does 2 affine transformations to create an embedding for visualization. There is no non-linearity here.\n",
    "- A final \"logistic regression\" which has an affine transform from 2 inputs to 1 output, which is squeezed through a sigmoid.\n"
   ]
  },
  {
   "cell_type": "code",
   "execution_count": 17,
   "id": "2b9c66db",
   "metadata": {
    "execution": {
     "iopub.execute_input": "2022-10-10T10:11:42.769285Z",
     "iopub.status.busy": "2022-10-10T10:11:42.768705Z",
     "iopub.status.idle": "2022-10-10T10:11:42.780499Z",
     "shell.execute_reply": "2022-10-10T10:11:42.780041Z"
    },
    "papermill": {
     "duration": 0.0432,
     "end_time": "2022-10-10T10:11:42.780602",
     "exception": false,
     "start_time": "2022-10-10T10:11:42.737402",
     "status": "completed"
    },
    "tags": []
   },
   "outputs": [],
   "source": [
    "data = Data(X_train, y_train.reshape(-1,1))\n",
    "sampler = Sampler(data, config.bs, shuffle=True)\n",
    "\n",
    "dl = Dataloader(data, sampler)\n",
    "\n",
    "opt = GD(config.lr)\n",
    "loss = MSE()"
   ]
  },
  {
   "cell_type": "code",
   "execution_count": 18,
   "id": "b275e4c2",
   "metadata": {
    "execution": {
     "iopub.execute_input": "2022-10-10T10:11:42.839981Z",
     "iopub.status.busy": "2022-10-10T10:11:42.839415Z",
     "iopub.status.idle": "2022-10-10T10:11:42.850936Z",
     "shell.execute_reply": "2022-10-10T10:11:42.851351Z"
    },
    "papermill": {
     "duration": 0.043262,
     "end_time": "2022-10-10T10:11:42.851479",
     "exception": false,
     "start_time": "2022-10-10T10:11:42.808217",
     "status": "completed"
    },
    "tags": []
   },
   "outputs": [],
   "source": [
    "training_data_x = X_train\n",
    "testing_data_x = X_test\n",
    "training_data_y = y_train.reshape(-1,1)\n",
    "testing_data_y = y_test.reshape(-1,1)"
   ]
  },
  {
   "cell_type": "code",
   "execution_count": 19,
   "id": "76951160",
   "metadata": {
    "execution": {
     "iopub.execute_input": "2022-10-10T10:11:42.910932Z",
     "iopub.status.busy": "2022-10-10T10:11:42.910335Z",
     "iopub.status.idle": "2022-10-10T10:11:42.926985Z",
     "shell.execute_reply": "2022-10-10T10:11:42.926420Z"
    },
    "papermill": {
     "duration": 0.048123,
     "end_time": "2022-10-10T10:11:42.927096",
     "exception": false,
     "start_time": "2022-10-10T10:11:42.878973",
     "status": "completed"
    },
    "tags": []
   },
   "outputs": [
    {
     "name": "stdout",
     "output_type": "stream",
     "text": [
      "xavier\n",
      "xavier\n",
      "xavier\n",
      "xavier\n",
      "xavier\n"
     ]
    }
   ],
   "source": [
    "layers = [Affine(\"first\", 784, 100), Relu(\"first\"), Affine(\"second\", 100, 100), Relu(\"second\"), Affine(\"third\", 100, 2), Affine(\"last\", 2, 1), Sigmoid(\"last\")]\n",
    "model_nn = Model(layers)\n",
    "model_lr = Model([Affine(\"logits\", 784, 1), Sigmoid(\"sigmoid\")])"
   ]
  },
  {
   "cell_type": "code",
   "execution_count": 20,
   "id": "6eede77a",
   "metadata": {
    "execution": {
     "iopub.execute_input": "2022-10-10T10:11:42.987018Z",
     "iopub.status.busy": "2022-10-10T10:11:42.986420Z",
     "iopub.status.idle": "2022-10-10T10:11:42.998614Z",
     "shell.execute_reply": "2022-10-10T10:11:42.998159Z"
    },
    "papermill": {
     "duration": 0.043548,
     "end_time": "2022-10-10T10:11:42.998738",
     "exception": false,
     "start_time": "2022-10-10T10:11:42.955190",
     "status": "completed"
    },
    "tags": []
   },
   "outputs": [],
   "source": [
    "nn_learner = Learner(loss, model_nn, opt, config.num_epochs)\n",
    "acc_nn = ClfCallback(nn_learner, config.bs, training_data_x , testing_data_x, training_data_y, testing_data_y)\n",
    "nn_learner.set_callbacks([acc_nn])"
   ]
  },
  {
   "cell_type": "code",
   "execution_count": 21,
   "id": "877b6cc7",
   "metadata": {
    "execution": {
     "iopub.execute_input": "2022-10-10T10:11:43.058379Z",
     "iopub.status.busy": "2022-10-10T10:11:43.057825Z",
     "iopub.status.idle": "2022-10-10T10:11:43.070020Z",
     "shell.execute_reply": "2022-10-10T10:11:43.069562Z"
    },
    "papermill": {
     "duration": 0.043559,
     "end_time": "2022-10-10T10:11:43.070122",
     "exception": false,
     "start_time": "2022-10-10T10:11:43.026563",
     "status": "completed"
    },
    "tags": []
   },
   "outputs": [],
   "source": [
    "lr_learner = Learner(loss, model_lr, opt, config.num_epochs)\n",
    "acc_lr = ClfCallback(lr_learner, config.bs, training_data_x , testing_data_x, training_data_y, testing_data_y)\n",
    "lr_learner.set_callbacks([acc_lr])"
   ]
  },
  {
   "cell_type": "code",
   "execution_count": 22,
   "id": "d9b133c3",
   "metadata": {
    "execution": {
     "iopub.execute_input": "2022-10-10T10:11:43.129162Z",
     "iopub.status.busy": "2022-10-10T10:11:43.128612Z",
     "iopub.status.idle": "2022-10-10T10:14:39.199990Z",
     "shell.execute_reply": "2022-10-10T10:14:39.200453Z"
    },
    "papermill": {
     "duration": 176.102569,
     "end_time": "2022-10-10T10:14:39.200578",
     "exception": false,
     "start_time": "2022-10-10T10:11:43.098009",
     "status": "completed"
    },
    "tags": []
   },
   "outputs": [
    {
     "name": "stdout",
     "output_type": "stream",
     "text": [
      "Epoch 0, Loss 0.2453\n",
      "Training Accuracy: 0.6474, Testing Accuracy: 0.6260\n",
      "\n"
     ]
    },
    {
     "name": "stdout",
     "output_type": "stream",
     "text": [
      "Epoch 10, Loss 0.0841\n",
      "Training Accuracy: 0.9179, Testing Accuracy: 0.9269\n",
      "\n"
     ]
    },
    {
     "name": "stdout",
     "output_type": "stream",
     "text": [
      "Epoch 20, Loss 0.0536\n",
      "Training Accuracy: 0.9417, Testing Accuracy: 0.9526\n",
      "\n"
     ]
    },
    {
     "name": "stdout",
     "output_type": "stream",
     "text": [
      "Epoch 30, Loss 0.0424\n",
      "Training Accuracy: 0.9523, Testing Accuracy: 0.9612\n",
      "\n"
     ]
    },
    {
     "name": "stdout",
     "output_type": "stream",
     "text": [
      "Epoch 40, Loss 0.0367\n",
      "Training Accuracy: 0.9580, Testing Accuracy: 0.9642\n",
      "\n"
     ]
    },
    {
     "name": "stdout",
     "output_type": "stream",
     "text": [
      "Epoch 50, Loss 0.0331\n",
      "Training Accuracy: 0.9620, Testing Accuracy: 0.9693\n",
      "\n"
     ]
    },
    {
     "name": "stdout",
     "output_type": "stream",
     "text": [
      "Epoch 60, Loss 0.0305\n",
      "Training Accuracy: 0.9647, Testing Accuracy: 0.9708\n",
      "\n"
     ]
    },
    {
     "name": "stdout",
     "output_type": "stream",
     "text": [
      "Epoch 70, Loss 0.0286\n",
      "Training Accuracy: 0.9672, Testing Accuracy: 0.9708\n",
      "\n"
     ]
    },
    {
     "name": "stdout",
     "output_type": "stream",
     "text": [
      "Epoch 80, Loss 0.0271\n",
      "Training Accuracy: 0.9691, Testing Accuracy: 0.9703\n",
      "\n"
     ]
    },
    {
     "name": "stdout",
     "output_type": "stream",
     "text": [
      "Epoch 90, Loss 0.0259\n",
      "Training Accuracy: 0.9706, Testing Accuracy: 0.9708\n",
      "\n"
     ]
    },
    {
     "name": "stdout",
     "output_type": "stream",
     "text": [
      "Epoch 100, Loss 0.0248\n",
      "Training Accuracy: 0.9715, Testing Accuracy: 0.9728\n",
      "\n"
     ]
    },
    {
     "name": "stdout",
     "output_type": "stream",
     "text": [
      "Epoch 110, Loss 0.0239\n",
      "Training Accuracy: 0.9726, Testing Accuracy: 0.9728\n",
      "\n"
     ]
    },
    {
     "name": "stdout",
     "output_type": "stream",
     "text": [
      "Epoch 120, Loss 0.0231\n",
      "Training Accuracy: 0.9739, Testing Accuracy: 0.9728\n",
      "\n"
     ]
    },
    {
     "name": "stdout",
     "output_type": "stream",
     "text": [
      "Epoch 130, Loss 0.0224\n",
      "Training Accuracy: 0.9749, Testing Accuracy: 0.9738\n",
      "\n"
     ]
    },
    {
     "name": "stdout",
     "output_type": "stream",
     "text": [
      "Epoch 140, Loss 0.0218\n",
      "Training Accuracy: 0.9758, Testing Accuracy: 0.9748\n",
      "\n"
     ]
    },
    {
     "name": "stdout",
     "output_type": "stream",
     "text": [
      "Epoch 150, Loss 0.0212\n",
      "Training Accuracy: 0.9767, Testing Accuracy: 0.9753\n",
      "\n"
     ]
    },
    {
     "name": "stdout",
     "output_type": "stream",
     "text": [
      "Epoch 160, Loss 0.0206\n",
      "Training Accuracy: 0.9774, Testing Accuracy: 0.9753\n",
      "\n"
     ]
    },
    {
     "name": "stdout",
     "output_type": "stream",
     "text": [
      "Epoch 170, Loss 0.0201\n",
      "Training Accuracy: 0.9781, Testing Accuracy: 0.9758\n",
      "\n"
     ]
    },
    {
     "name": "stdout",
     "output_type": "stream",
     "text": [
      "Epoch 180, Loss 0.0196\n",
      "Training Accuracy: 0.9791, Testing Accuracy: 0.9758\n",
      "\n"
     ]
    },
    {
     "name": "stdout",
     "output_type": "stream",
     "text": [
      "Epoch 190, Loss 0.0192\n",
      "Training Accuracy: 0.9796, Testing Accuracy: 0.9758\n",
      "\n"
     ]
    },
    {
     "name": "stdout",
     "output_type": "stream",
     "text": [
      "Epoch 200, Loss 0.0188\n",
      "Training Accuracy: 0.9802, Testing Accuracy: 0.9753\n",
      "\n"
     ]
    },
    {
     "name": "stdout",
     "output_type": "stream",
     "text": [
      "Epoch 210, Loss 0.0184\n",
      "Training Accuracy: 0.9808, Testing Accuracy: 0.9758\n",
      "\n"
     ]
    },
    {
     "name": "stdout",
     "output_type": "stream",
     "text": [
      "Epoch 220, Loss 0.018\n",
      "Training Accuracy: 0.9812, Testing Accuracy: 0.9758\n",
      "\n"
     ]
    },
    {
     "name": "stdout",
     "output_type": "stream",
     "text": [
      "Epoch 230, Loss 0.0176\n",
      "Training Accuracy: 0.9814, Testing Accuracy: 0.9763\n",
      "\n"
     ]
    },
    {
     "name": "stdout",
     "output_type": "stream",
     "text": [
      "Epoch 240, Loss 0.0173\n",
      "Training Accuracy: 0.9819, Testing Accuracy: 0.9763\n",
      "\n"
     ]
    },
    {
     "data": {
      "text/plain": [
       "0.058638364530127426"
      ]
     },
     "execution_count": 22,
     "metadata": {},
     "output_type": "execute_result"
    }
   ],
   "source": [
    "nn_learner.train_loop(dl)"
   ]
  },
  {
   "cell_type": "code",
   "execution_count": 23,
   "id": "e0163366",
   "metadata": {
    "execution": {
     "iopub.execute_input": "2022-10-10T10:14:39.282328Z",
     "iopub.status.busy": "2022-10-10T10:14:39.281749Z",
     "iopub.status.idle": "2022-10-10T10:14:51.425331Z",
     "shell.execute_reply": "2022-10-10T10:14:51.426134Z"
    },
    "papermill": {
     "duration": 12.19066,
     "end_time": "2022-10-10T10:14:51.426269",
     "exception": false,
     "start_time": "2022-10-10T10:14:39.235609",
     "status": "completed"
    },
    "tags": []
   },
   "outputs": [
    {
     "name": "stdout",
     "output_type": "stream",
     "text": [
      "Epoch 0, Loss 0.22\n",
      "Training Accuracy: 0.7200, Testing Accuracy: 0.7072\n",
      "\n"
     ]
    },
    {
     "name": "stdout",
     "output_type": "stream",
     "text": [
      "Epoch 10, Loss 0.1066\n",
      "Training Accuracy: 0.8937, Testing Accuracy: 0.8997\n",
      "\n"
     ]
    },
    {
     "name": "stdout",
     "output_type": "stream",
     "text": [
      "Epoch 20, Loss 0.0812\n",
      "Training Accuracy: 0.9203, Testing Accuracy: 0.9304\n",
      "\n"
     ]
    },
    {
     "name": "stdout",
     "output_type": "stream",
     "text": [
      "Epoch 30, Loss 0.0694\n",
      "Training Accuracy: 0.9337, Testing Accuracy: 0.9446\n",
      "\n"
     ]
    },
    {
     "name": "stdout",
     "output_type": "stream",
     "text": [
      "Epoch 40, Loss 0.0623\n",
      "Training Accuracy: 0.9411, Testing Accuracy: 0.9501\n",
      "\n"
     ]
    },
    {
     "name": "stdout",
     "output_type": "stream",
     "text": [
      "Epoch 50, Loss 0.0575\n",
      "Training Accuracy: 0.9438, Testing Accuracy: 0.9556\n",
      "\n"
     ]
    },
    {
     "name": "stdout",
     "output_type": "stream",
     "text": [
      "Epoch 60, Loss 0.0541\n",
      "Training Accuracy: 0.9468, Testing Accuracy: 0.9587\n",
      "\n"
     ]
    },
    {
     "name": "stdout",
     "output_type": "stream",
     "text": [
      "Epoch 70, Loss 0.0514\n",
      "Training Accuracy: 0.9491, Testing Accuracy: 0.9607\n",
      "\n"
     ]
    },
    {
     "name": "stdout",
     "output_type": "stream",
     "text": [
      "Epoch 80, Loss 0.0493\n",
      "Training Accuracy: 0.9508, Testing Accuracy: 0.9612\n",
      "\n"
     ]
    },
    {
     "name": "stdout",
     "output_type": "stream",
     "text": [
      "Epoch 90, Loss 0.0476\n",
      "Training Accuracy: 0.9518, Testing Accuracy: 0.9632\n",
      "\n"
     ]
    },
    {
     "name": "stdout",
     "output_type": "stream",
     "text": [
      "Epoch 100, Loss 0.0461\n",
      "Training Accuracy: 0.9521, Testing Accuracy: 0.9637\n",
      "\n"
     ]
    },
    {
     "name": "stdout",
     "output_type": "stream",
     "text": [
      "Epoch 110, Loss 0.0449\n",
      "Training Accuracy: 0.9533, Testing Accuracy: 0.9642\n",
      "\n"
     ]
    },
    {
     "name": "stdout",
     "output_type": "stream",
     "text": [
      "Epoch 120, Loss 0.0438\n",
      "Training Accuracy: 0.9546, Testing Accuracy: 0.9642\n",
      "\n"
     ]
    },
    {
     "name": "stdout",
     "output_type": "stream",
     "text": [
      "Epoch 130, Loss 0.0429\n",
      "Training Accuracy: 0.9548, Testing Accuracy: 0.9657\n",
      "\n"
     ]
    },
    {
     "name": "stdout",
     "output_type": "stream",
     "text": [
      "Epoch 140, Loss 0.042\n",
      "Training Accuracy: 0.9555, Testing Accuracy: 0.9662\n",
      "\n"
     ]
    },
    {
     "name": "stdout",
     "output_type": "stream",
     "text": [
      "Epoch 150, Loss 0.0413\n",
      "Training Accuracy: 0.9569, Testing Accuracy: 0.9662\n",
      "\n"
     ]
    },
    {
     "name": "stdout",
     "output_type": "stream",
     "text": [
      "Epoch 160, Loss 0.0406\n",
      "Training Accuracy: 0.9575, Testing Accuracy: 0.9662\n",
      "\n"
     ]
    },
    {
     "name": "stdout",
     "output_type": "stream",
     "text": [
      "Epoch 170, Loss 0.04\n",
      "Training Accuracy: 0.9583, Testing Accuracy: 0.9662\n",
      "\n"
     ]
    },
    {
     "name": "stdout",
     "output_type": "stream",
     "text": [
      "Epoch 180, Loss 0.0394\n",
      "Training Accuracy: 0.9589, Testing Accuracy: 0.9672\n",
      "\n"
     ]
    },
    {
     "name": "stdout",
     "output_type": "stream",
     "text": [
      "Epoch 190, Loss 0.0389\n",
      "Training Accuracy: 0.9591, Testing Accuracy: 0.9672\n",
      "\n"
     ]
    },
    {
     "name": "stdout",
     "output_type": "stream",
     "text": [
      "Epoch 200, Loss 0.0384\n",
      "Training Accuracy: 0.9594, Testing Accuracy: 0.9677\n",
      "\n"
     ]
    },
    {
     "name": "stdout",
     "output_type": "stream",
     "text": [
      "Epoch 210, Loss 0.038\n",
      "Training Accuracy: 0.9599, Testing Accuracy: 0.9677\n",
      "\n"
     ]
    },
    {
     "name": "stdout",
     "output_type": "stream",
     "text": [
      "Epoch 220, Loss 0.0376\n",
      "Training Accuracy: 0.9607, Testing Accuracy: 0.9677\n",
      "\n"
     ]
    },
    {
     "name": "stdout",
     "output_type": "stream",
     "text": [
      "Epoch 230, Loss 0.0372\n",
      "Training Accuracy: 0.9609, Testing Accuracy: 0.9672\n",
      "\n"
     ]
    },
    {
     "name": "stdout",
     "output_type": "stream",
     "text": [
      "Epoch 240, Loss 0.0368\n",
      "Training Accuracy: 0.9615, Testing Accuracy: 0.9672\n",
      "\n"
     ]
    },
    {
     "data": {
      "text/plain": [
       "0.06419691848059224"
      ]
     },
     "execution_count": 23,
     "metadata": {},
     "output_type": "execute_result"
    }
   ],
   "source": [
    "lr_learner.train_loop(dl)"
   ]
  },
  {
   "cell_type": "code",
   "execution_count": 24,
   "id": "ca410940",
   "metadata": {
    "execution": {
     "iopub.execute_input": "2022-10-10T10:14:51.518261Z",
     "iopub.status.busy": "2022-10-10T10:14:51.517688Z",
     "iopub.status.idle": "2022-10-10T10:14:51.746498Z",
     "shell.execute_reply": "2022-10-10T10:14:51.746958Z"
    },
    "papermill": {
     "duration": 0.279006,
     "end_time": "2022-10-10T10:14:51.747083",
     "exception": false,
     "start_time": "2022-10-10T10:14:51.468077",
     "status": "completed"
    },
    "tags": []
   },
   "outputs": [
    {
     "data": {
      "text/plain": [
       "<matplotlib.legend.Legend at 0x7efd0371c470>"
      ]
     },
     "execution_count": 24,
     "metadata": {},
     "output_type": "execute_result"
    },
    {
     "data": {
      "image/png": "[encoded data removed]",
      "text/plain": [
       "<Figure size 1080x720 with 1 Axes>"
      ]
     },
     "metadata": {
      "needs_background": "light"
     },
     "output_type": "display_data"
    }
   ],
   "source": [
    "#comparing the results of NN and LR\n",
    "plt.figure(figsize=(15,10))\n",
    "\n",
    "# Neural Network plots\n",
    "plt.plot(acc_nn.accuracies, 'r-', label = \"Training Accuracies - NN\")\n",
    "plt.plot(acc_nn.test_accuracies, 'g-', label = \"Testing Accuracies - NN\")\n",
    "\n",
    "# Logistic Regression plots\n",
    "plt.plot(acc_lr.accuracies, 'k-', label = \"Training Accuracies - LR\")\n",
    "plt.plot(acc_lr.test_accuracies, 'b-', label = \"Testing Accuracies - LR\")\n",
    "plt.legend()"
   ]
  },
  {
   "cell_type": "markdown",
   "id": "80dfb35c",
   "metadata": {
    "papermill": {
     "duration": 0.042483,
     "end_time": "2022-10-10T10:14:51.832640",
     "exception": false,
     "start_time": "2022-10-10T10:14:51.790157",
     "status": "completed"
    },
    "tags": []
   },
   "source": [
    "#### Plotting the outputs of this layer of the NN.\n"
   ]
  },
  {
   "cell_type": "code",
   "execution_count": 25,
   "id": "45eb2ff5",
   "metadata": {
    "execution": {
     "iopub.execute_input": "2022-10-10T10:14:51.921662Z",
     "iopub.status.busy": "2022-10-10T10:14:51.921080Z",
     "iopub.status.idle": "2022-10-10T10:14:51.958969Z",
     "shell.execute_reply": "2022-10-10T10:14:51.958469Z"
    },
    "papermill": {
     "duration": 0.083958,
     "end_time": "2022-10-10T10:14:51.959088",
     "exception": false,
     "start_time": "2022-10-10T10:14:51.875130",
     "status": "completed"
    },
    "tags": []
   },
   "outputs": [],
   "source": [
    "new_model = Model(layers[:-2])\n",
    "testing_plot = new_model(testing_data_x)"
   ]
  },
  {
   "cell_type": "code",
   "execution_count": 26,
   "id": "4c0a5485",
   "metadata": {
    "execution": {
     "iopub.execute_input": "2022-10-10T10:14:52.056130Z",
     "iopub.status.busy": "2022-10-10T10:14:52.055551Z",
     "iopub.status.idle": "2022-10-10T10:14:52.241065Z",
     "shell.execute_reply": "2022-10-10T10:14:52.240590Z"
    },
    "papermill": {
     "duration": 0.237884,
     "end_time": "2022-10-10T10:14:52.241173",
     "exception": false,
     "start_time": "2022-10-10T10:14:52.003289",
     "status": "completed"
    },
    "tags": []
   },
   "outputs": [
    {
     "data": {
      "text/plain": [
       "Text(0.5, 1.0, 'Outputs')"
      ]
     },
     "execution_count": 26,
     "metadata": {},
     "output_type": "execute_result"
    },
    {
     "data": {
      "image/png": "[encoded data removed]",
      "text/plain": [
       "<Figure size 576x504 with 1 Axes>"
      ]
     },
     "metadata": {
      "needs_background": "light"
     },
     "output_type": "display_data"
    }
   ],
   "source": [
    "# Plotting the scatter plot of points and color coding by class\n",
    "plt.figure(figsize=(8,7))\n",
    "plt.scatter(testing_plot[:,0], testing_plot[:,1], alpha = 0.1, c = y_test.ravel());\n",
    "plt.title('Outputs')"
   ]
  },
  {
   "cell_type": "markdown",
   "id": "a74fcf8f",
   "metadata": {
    "papermill": {
     "duration": 0.045693,
     "end_time": "2022-10-10T10:14:52.358212",
     "exception": false,
     "start_time": "2022-10-10T10:14:52.312519",
     "status": "completed"
    },
    "tags": []
   },
   "source": [
    "Probability contours"
   ]
  },
  {
   "cell_type": "code",
   "execution_count": 27,
   "id": "d0afc8e3",
   "metadata": {
    "execution": {
     "iopub.execute_input": "2022-10-10T10:14:52.454783Z",
     "iopub.status.busy": "2022-10-10T10:14:52.452902Z",
     "iopub.status.idle": "2022-10-10T10:14:52.464860Z",
     "shell.execute_reply": "2022-10-10T10:14:52.464390Z"
    },
    "papermill": {
     "duration": 0.061861,
     "end_time": "2022-10-10T10:14:52.464968",
     "exception": false,
     "start_time": "2022-10-10T10:14:52.403107",
     "status": "completed"
    },
    "tags": []
   },
   "outputs": [],
   "source": [
    "model_prob = Model(layers[-2:]) "
   ]
  },
  {
   "cell_type": "code",
   "execution_count": 28,
   "id": "9b96e238",
   "metadata": {
    "execution": {
     "iopub.execute_input": "2022-10-10T10:14:52.562314Z",
     "iopub.status.busy": "2022-10-10T10:14:52.560739Z",
     "iopub.status.idle": "2022-10-10T10:14:52.575355Z",
     "shell.execute_reply": "2022-10-10T10:14:52.574889Z"
    },
    "papermill": {
     "duration": 0.065561,
     "end_time": "2022-10-10T10:14:52.575467",
     "exception": false,
     "start_time": "2022-10-10T10:14:52.509906",
     "status": "completed"
    },
    "tags": []
   },
   "outputs": [],
   "source": [
    "#creating the x and y ranges according to the above generated plot.\n",
    "x_range = np.linspace(-4, 1, 100) \n",
    "y_range = np.linspace(-6, 6, 100) \n",
    "x_grid, y_grid = np.meshgrid(x_range, y_range) # x_grid and y_grig are of size 100 X 100\n",
    "\n",
    "# converting x_grid and y_grid to continuous arrays\n",
    "x_gridflat = np.ravel(x_grid)\n",
    "y_gridflat = np.ravel(y_grid)\n",
    "\n",
    "# The last layer of the current model takes two columns as input. Hence transpose of np.vstack() is required.\n",
    "X = np.vstack((x_gridflat, y_gridflat)).T\n",
    "\n",
    "prob_contour = model_prob(X).reshape(100,100) "
   ]
  },
  {
   "cell_type": "code",
   "execution_count": 29,
   "id": "da72499a",
   "metadata": {
    "execution": {
     "iopub.execute_input": "2022-10-10T10:14:52.672470Z",
     "iopub.status.busy": "2022-10-10T10:14:52.670974Z",
     "iopub.status.idle": "2022-10-10T10:14:52.912311Z",
     "shell.execute_reply": "2022-10-10T10:14:52.911831Z"
    },
    "papermill": {
     "duration": 0.291771,
     "end_time": "2022-10-10T10:14:52.912421",
     "exception": false,
     "start_time": "2022-10-10T10:14:52.620650",
     "status": "completed"
    },
    "tags": []
   },
   "outputs": [
    {
     "data": {
      "image/png": "[encoded data removed]",
      "text/plain": [
       "<Figure size 720x648 with 1 Axes>"
      ]
     },
     "metadata": {
      "needs_background": "light"
     },
     "output_type": "display_data"
    }
   ],
   "source": [
    "plt.figure(figsize=(10,9))\n",
    "plt.scatter(testing_plot[:,0], testing_plot[:,1], alpha = 0.1, c = y_test.ravel())\n",
    "contours = plt.contour(x_grid,y_grid,prob_contour)\n",
    "plt.title('Probability Contours')\n",
    "plt.clabel(contours, inline = True );"
   ]
  },
  {
   "cell_type": "code",
   "execution_count": null,
   "id": "e81b4ac7",
   "metadata": {
    "papermill": {
     "duration": 0.047563,
     "end_time": "2022-10-10T10:14:53.008176",
     "exception": false,
     "start_time": "2022-10-10T10:14:52.960613",
     "status": "completed"
    },
    "tags": []
   },
   "outputs": [],
   "source": []
  }
 ],
 "metadata": {
  "kernelspec": {
   "display_name": "Python 3",
   "language": "python",
   "name": "python3"
  },
  "language_info": {
   "codemirror_mode": {
    "name": "ipython",
    "version": 3
   },
   "file_extension": ".py",
   "mimetype": "text/x-python",
   "name": "python",
   "nbconvert_exporter": "python",
   "pygments_lexer": "ipython3",
   "version": "3.6.15"
  },
  "papermill": {
   "default_parameters": {},
   "duration": 196.486357,
   "end_time": "2022-10-10T10:14:53.473669",
   "environment_variables": {},
   "exception": null,
   "input_path": "2020-08-11-part2.ipynb",
   "output_path": "2020-08-11-part2.ipynb",
   "parameters": {},
   "start_time": "2022-10-10T10:11:36.987312",
   "version": "2.3.3"
  }
 },
 "nbformat": 4,
 "nbformat_minor": 5
}