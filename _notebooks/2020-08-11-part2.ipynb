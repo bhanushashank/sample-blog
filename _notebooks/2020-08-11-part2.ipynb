{
 "cells": [
  {
   "cell_type": "markdown",
   "id": "98380cd3",
   "metadata": {
    "papermill": {
     "duration": 0.030719,
     "end_time": "2022-06-26T10:09:24.077910",
     "exception": false,
     "start_time": "2022-06-26T10:09:24.047191",
     "status": "completed"
    },
    "tags": []
   },
   "source": [
    "# Distinguish Your Own Digits (DYOD)"
   ]
  },
  {
   "cell_type": "markdown",
   "id": "ef31240d",
   "metadata": {
    "papermill": {
     "duration": 0.024142,
     "end_time": "2022-06-26T10:09:24.127442",
     "exception": false,
     "start_time": "2022-06-26T10:09:24.103300",
     "status": "completed"
    },
    "tags": []
   },
   "source": [
    "You are going to write a classifier that distinguishes between the number 3 and number 8."
   ]
  },
  {
   "cell_type": "code",
   "execution_count": 1,
   "id": "b15c8646",
   "metadata": {
    "execution": {
     "iopub.execute_input": "2022-06-26T10:09:24.186888Z",
     "iopub.status.busy": "2022-06-26T10:09:24.186247Z",
     "iopub.status.idle": "2022-06-26T10:09:24.197458Z",
     "shell.execute_reply": "2022-06-26T10:09:24.197940Z"
    },
    "papermill": {
     "duration": 0.04649,
     "end_time": "2022-06-26T10:09:24.198115",
     "exception": false,
     "start_time": "2022-06-26T10:09:24.151625",
     "status": "completed"
    },
    "tags": []
   },
   "outputs": [],
   "source": [
    "%load_ext autoreload\n",
    "%autoreload 2"
   ]
  },
  {
   "cell_type": "code",
   "execution_count": 2,
   "id": "22ef38dc",
   "metadata": {
    "execution": {
     "iopub.execute_input": "2022-06-26T10:09:24.253151Z",
     "iopub.status.busy": "2022-06-26T10:09:24.252481Z",
     "iopub.status.idle": "2022-06-26T10:09:24.832117Z",
     "shell.execute_reply": "2022-06-26T10:09:24.832650Z"
    },
    "papermill": {
     "duration": 0.610394,
     "end_time": "2022-06-26T10:09:24.832862",
     "exception": false,
     "start_time": "2022-06-26T10:09:24.222468",
     "status": "completed"
    },
    "tags": []
   },
   "outputs": [],
   "source": [
    "%matplotlib inline\n",
    "import numpy as np\n",
    "import matplotlib.pyplot as plt\n",
    "import pandas as pd"
   ]
  },
  {
   "cell_type": "markdown",
   "id": "ba036198",
   "metadata": {
    "papermill": {
     "duration": 0.02433,
     "end_time": "2022-06-26T10:09:24.881466",
     "exception": false,
     "start_time": "2022-06-26T10:09:24.857136",
     "status": "completed"
    },
    "tags": []
   },
   "source": [
    "From the command line run `pip install mnist`. This is a library that will help you bring down the mnist dataset. If you run this from a notebook, you need to put  `!pip install mnist` in a cell by itself."
   ]
  },
  {
   "cell_type": "code",
   "execution_count": 3,
   "id": "bb6ad8a1",
   "metadata": {
    "execution": {
     "iopub.execute_input": "2022-06-26T10:09:24.938639Z",
     "iopub.status.busy": "2022-06-26T10:09:24.938043Z",
     "iopub.status.idle": "2022-06-26T10:09:26.744627Z",
     "shell.execute_reply": "2022-06-26T10:09:26.743648Z"
    },
    "papermill": {
     "duration": 1.838969,
     "end_time": "2022-06-26T10:09:26.744822",
     "exception": false,
     "start_time": "2022-06-26T10:09:24.905853",
     "status": "completed"
    },
    "tags": []
   },
   "outputs": [
    {
     "name": "stdout",
     "output_type": "stream",
     "text": [
      "Collecting mnist\r\n"
     ]
    },
    {
     "name": "stdout",
     "output_type": "stream",
     "text": [
      "  Downloading mnist-0.2.2-py2.py3-none-any.whl (3.5 kB)\r\n"
     ]
    },
    {
     "name": "stdout",
     "output_type": "stream",
     "text": [
      "Requirement already satisfied: numpy in /opt/hostedtoolcache/Python/3.6.15/x64/lib/python3.6/site-packages (from mnist) (1.19.5)\r\n"
     ]
    },
    {
     "name": "stdout",
     "output_type": "stream",
     "text": [
      "Installing collected packages: mnist\r\n",
      "Successfully installed mnist-0.2.2\r\n"
     ]
    }
   ],
   "source": [
    "!pip install mnist"
   ]
  },
  {
   "cell_type": "markdown",
   "id": "69df9c9a",
   "metadata": {
    "papermill": {
     "duration": 0.025192,
     "end_time": "2022-06-26T10:09:26.796113",
     "exception": false,
     "start_time": "2022-06-26T10:09:26.770921",
     "status": "completed"
    },
    "tags": []
   },
   "source": [
    "## Preparing the Data"
   ]
  },
  {
   "cell_type": "code",
   "execution_count": 4,
   "id": "7f69d806",
   "metadata": {
    "execution": {
     "iopub.execute_input": "2022-06-26T10:09:26.865812Z",
     "iopub.status.busy": "2022-06-26T10:09:26.863032Z",
     "iopub.status.idle": "2022-06-26T10:09:26.869922Z",
     "shell.execute_reply": "2022-06-26T10:09:26.869436Z"
    },
    "papermill": {
     "duration": 0.048752,
     "end_time": "2022-06-26T10:09:26.870042",
     "exception": false,
     "start_time": "2022-06-26T10:09:26.821290",
     "status": "completed"
    },
    "tags": []
   },
   "outputs": [],
   "source": [
    "import mnist"
   ]
  },
  {
   "cell_type": "code",
   "execution_count": 5,
   "id": "a411e44f",
   "metadata": {
    "execution": {
     "iopub.execute_input": "2022-06-26T10:09:26.928101Z",
     "iopub.status.busy": "2022-06-26T10:09:26.927500Z",
     "iopub.status.idle": "2022-06-26T10:09:27.559542Z",
     "shell.execute_reply": "2022-06-26T10:09:27.558920Z"
    },
    "papermill": {
     "duration": 0.664311,
     "end_time": "2022-06-26T10:09:27.559689",
     "exception": false,
     "start_time": "2022-06-26T10:09:26.895378",
     "status": "completed"
    },
    "tags": []
   },
   "outputs": [],
   "source": [
    "train_images = mnist.train_images()\n",
    "train_labels = mnist.train_labels()"
   ]
  },
  {
   "cell_type": "code",
   "execution_count": 6,
   "id": "dceab3a5",
   "metadata": {
    "execution": {
     "iopub.execute_input": "2022-06-26T10:09:27.618371Z",
     "iopub.status.busy": "2022-06-26T10:09:27.617750Z",
     "iopub.status.idle": "2022-06-26T10:09:27.631993Z",
     "shell.execute_reply": "2022-06-26T10:09:27.631498Z"
    },
    "papermill": {
     "duration": 0.046132,
     "end_time": "2022-06-26T10:09:27.632116",
     "exception": false,
     "start_time": "2022-06-26T10:09:27.585984",
     "status": "completed"
    },
    "tags": []
   },
   "outputs": [
    {
     "data": {
      "text/plain": [
       "((60000, 28, 28), (60000,))"
      ]
     },
     "execution_count": 6,
     "metadata": {},
     "output_type": "execute_result"
    }
   ],
   "source": [
    "train_images.shape, train_labels.shape"
   ]
  },
  {
   "cell_type": "code",
   "execution_count": 7,
   "id": "f50dc2bb",
   "metadata": {
    "execution": {
     "iopub.execute_input": "2022-06-26T10:09:27.688125Z",
     "iopub.status.busy": "2022-06-26T10:09:27.687533Z",
     "iopub.status.idle": "2022-06-26T10:09:27.997349Z",
     "shell.execute_reply": "2022-06-26T10:09:27.996686Z"
    },
    "papermill": {
     "duration": 0.339834,
     "end_time": "2022-06-26T10:09:27.997489",
     "exception": false,
     "start_time": "2022-06-26T10:09:27.657655",
     "status": "completed"
    },
    "tags": []
   },
   "outputs": [],
   "source": [
    "test_images = mnist.test_images()\n",
    "test_labels = mnist.test_labels()"
   ]
  },
  {
   "cell_type": "code",
   "execution_count": 8,
   "id": "fc38cf1b",
   "metadata": {
    "execution": {
     "iopub.execute_input": "2022-06-26T10:09:28.055491Z",
     "iopub.status.busy": "2022-06-26T10:09:28.054800Z",
     "iopub.status.idle": "2022-06-26T10:09:28.070068Z",
     "shell.execute_reply": "2022-06-26T10:09:28.069331Z"
    },
    "papermill": {
     "duration": 0.045898,
     "end_time": "2022-06-26T10:09:28.070194",
     "exception": false,
     "start_time": "2022-06-26T10:09:28.024296",
     "status": "completed"
    },
    "tags": []
   },
   "outputs": [
    {
     "data": {
      "text/plain": [
       "((10000, 28, 28), (10000,))"
      ]
     },
     "execution_count": 8,
     "metadata": {},
     "output_type": "execute_result"
    }
   ],
   "source": [
    "test_images.shape, test_labels.shape"
   ]
  },
  {
   "cell_type": "code",
   "execution_count": 9,
   "id": "f9ed8fe0",
   "metadata": {
    "execution": {
     "iopub.execute_input": "2022-06-26T10:09:28.128783Z",
     "iopub.status.busy": "2022-06-26T10:09:28.128179Z",
     "iopub.status.idle": "2022-06-26T10:09:28.266344Z",
     "shell.execute_reply": "2022-06-26T10:09:28.265844Z"
    },
    "papermill": {
     "duration": 0.170506,
     "end_time": "2022-06-26T10:09:28.266468",
     "exception": false,
     "start_time": "2022-06-26T10:09:28.095962",
     "status": "completed"
    },
    "tags": []
   },
   "outputs": [
    {
     "name": "stdout",
     "output_type": "stream",
     "text": [
      "2\n"
     ]
    },
    {
     "data": {
      "text/plain": [
       "<matplotlib.image.AxesImage at 0x7f638bfb2358>"
      ]
     },
     "execution_count": 9,
     "metadata": {},
     "output_type": "execute_result"
    },
    {
     "data": {
      "image/png": "[encoded data removed]",
      "text/plain": [
       "<Figure size 432x288 with 1 Axes>"
      ]
     },
     "metadata": {
      "needs_background": "light"
     },
     "output_type": "display_data"
    }
   ],
   "source": [
    "image_index = 7776 # You may select anything up to 60,000\n",
    "print(train_labels[image_index]) \n",
    "plt.imshow(train_images[image_index], cmap='Greys')"
   ]
  },
  {
   "cell_type": "markdown",
   "id": "a8d2388d",
   "metadata": {
    "papermill": {
     "duration": 0.02675,
     "end_time": "2022-06-26T10:09:28.320036",
     "exception": false,
     "start_time": "2022-06-26T10:09:28.293286",
     "status": "completed"
    },
    "tags": []
   },
   "source": [
    "## Filter data to get 3 and 8 out"
   ]
  },
  {
   "cell_type": "code",
   "execution_count": 10,
   "id": "776f7fc7",
   "metadata": {
    "execution": {
     "iopub.execute_input": "2022-06-26T10:09:28.379058Z",
     "iopub.status.busy": "2022-06-26T10:09:28.378445Z",
     "iopub.status.idle": "2022-06-26T10:09:28.398859Z",
     "shell.execute_reply": "2022-06-26T10:09:28.398296Z"
    },
    "papermill": {
     "duration": 0.052227,
     "end_time": "2022-06-26T10:09:28.398994",
     "exception": false,
     "start_time": "2022-06-26T10:09:28.346767",
     "status": "completed"
    },
    "tags": []
   },
   "outputs": [],
   "source": [
    "train_filter = np.where((train_labels == 3 ) | (train_labels == 8))\n",
    "test_filter = np.where((test_labels == 3) | (test_labels == 8))\n",
    "X_train, y_train = train_images[train_filter], train_labels[train_filter]\n",
    "X_test, y_test = test_images[test_filter], test_labels[test_filter]"
   ]
  },
  {
   "cell_type": "markdown",
   "id": "948f0b7e",
   "metadata": {
    "papermill": {
     "duration": 0.026715,
     "end_time": "2022-06-26T10:09:28.453210",
     "exception": false,
     "start_time": "2022-06-26T10:09:28.426495",
     "status": "completed"
    },
    "tags": []
   },
   "source": [
    "We normalize the pizel values in the 0 to 1 range"
   ]
  },
  {
   "cell_type": "code",
   "execution_count": 11,
   "id": "ee4c2166",
   "metadata": {
    "execution": {
     "iopub.execute_input": "2022-06-26T10:09:28.513115Z",
     "iopub.status.busy": "2022-06-26T10:09:28.512489Z",
     "iopub.status.idle": "2022-06-26T10:09:28.561041Z",
     "shell.execute_reply": "2022-06-26T10:09:28.560419Z"
    },
    "papermill": {
     "duration": 0.081295,
     "end_time": "2022-06-26T10:09:28.561196",
     "exception": false,
     "start_time": "2022-06-26T10:09:28.479901",
     "status": "completed"
    },
    "tags": []
   },
   "outputs": [],
   "source": [
    "X_train = X_train/255.\n",
    "X_test = X_test/255."
   ]
  },
  {
   "cell_type": "markdown",
   "id": "ddcf4fab",
   "metadata": {
    "papermill": {
     "duration": 0.027118,
     "end_time": "2022-06-26T10:09:28.616128",
     "exception": false,
     "start_time": "2022-06-26T10:09:28.589010",
     "status": "completed"
    },
    "tags": []
   },
   "source": [
    "And setup the labels as 1 (when the digit is 3) and 0 (when the digit is 8)"
   ]
  },
  {
   "cell_type": "code",
   "execution_count": 12,
   "id": "7dc908f2",
   "metadata": {
    "execution": {
     "iopub.execute_input": "2022-06-26T10:09:28.674808Z",
     "iopub.status.busy": "2022-06-26T10:09:28.674212Z",
     "iopub.status.idle": "2022-06-26T10:09:28.687041Z",
     "shell.execute_reply": "2022-06-26T10:09:28.687482Z"
    },
    "papermill": {
     "duration": 0.044687,
     "end_time": "2022-06-26T10:09:28.687634",
     "exception": false,
     "start_time": "2022-06-26T10:09:28.642947",
     "status": "completed"
    },
    "tags": []
   },
   "outputs": [],
   "source": [
    "y_train = 1*(y_train==3)\n",
    "y_test = 1*(y_test==3)"
   ]
  },
  {
   "cell_type": "code",
   "execution_count": 13,
   "id": "01e4e969",
   "metadata": {
    "execution": {
     "iopub.execute_input": "2022-06-26T10:09:28.754309Z",
     "iopub.status.busy": "2022-06-26T10:09:28.753675Z",
     "iopub.status.idle": "2022-06-26T10:09:28.763113Z",
     "shell.execute_reply": "2022-06-26T10:09:28.763546Z"
    },
    "papermill": {
     "duration": 0.049002,
     "end_time": "2022-06-26T10:09:28.763696",
     "exception": false,
     "start_time": "2022-06-26T10:09:28.714694",
     "status": "completed"
    },
    "tags": []
   },
   "outputs": [
    {
     "data": {
      "text/plain": [
       "((11982, 28, 28), (1984, 28, 28))"
      ]
     },
     "execution_count": 13,
     "metadata": {},
     "output_type": "execute_result"
    }
   ],
   "source": [
    "X_train.shape, X_test.shape"
   ]
  },
  {
   "cell_type": "markdown",
   "id": "5ccf3f85",
   "metadata": {
    "papermill": {
     "duration": 0.027043,
     "end_time": "2022-06-26T10:09:28.817732",
     "exception": false,
     "start_time": "2022-06-26T10:09:28.790689",
     "status": "completed"
    },
    "tags": []
   },
   "source": [
    "We reshape the data to flatten the image pixels into a set of features or co-variates:"
   ]
  },
  {
   "cell_type": "code",
   "execution_count": 14,
   "id": "5286a4a3",
   "metadata": {
    "execution": {
     "iopub.execute_input": "2022-06-26T10:09:28.877381Z",
     "iopub.status.busy": "2022-06-26T10:09:28.876223Z",
     "iopub.status.idle": "2022-06-26T10:09:28.890375Z",
     "shell.execute_reply": "2022-06-26T10:09:28.890815Z"
    },
    "papermill": {
     "duration": 0.046062,
     "end_time": "2022-06-26T10:09:28.890969",
     "exception": false,
     "start_time": "2022-06-26T10:09:28.844907",
     "status": "completed"
    },
    "tags": []
   },
   "outputs": [
    {
     "data": {
      "text/plain": [
       "((11982, 784), (1984, 784))"
      ]
     },
     "execution_count": 14,
     "metadata": {},
     "output_type": "execute_result"
    }
   ],
   "source": [
    "X_train = X_train.reshape(X_train.shape[0], -1)\n",
    "X_test = X_test.reshape(X_test.shape[0], -1)\n",
    "X_train.shape, X_test.shape"
   ]
  },
  {
   "cell_type": "code",
   "execution_count": 15,
   "id": "73c5f88a",
   "metadata": {
    "execution": {
     "iopub.execute_input": "2022-06-26T10:09:28.955618Z",
     "iopub.status.busy": "2022-06-26T10:09:28.953895Z",
     "iopub.status.idle": "2022-06-26T10:09:28.969902Z",
     "shell.execute_reply": "2022-06-26T10:09:28.969400Z"
    },
    "papermill": {
     "duration": 0.051854,
     "end_time": "2022-06-26T10:09:28.970025",
     "exception": false,
     "start_time": "2022-06-26T10:09:28.918171",
     "status": "completed"
    },
    "tags": []
   },
   "outputs": [],
   "source": [
    "#Impoting functions from 'Kudzu'\n",
    "from kudzu.model import Model\n",
    "from kudzu.train import Learner\n",
    "from kudzu.optim import GD\n",
    "from kudzu.data import Data, Sampler,Dataloader\n",
    "\n",
    "from kudzu.callbacks import AccCallback\n",
    "from kudzu.callbacks import ClfCallback\n",
    "\n",
    "from kudzu.loss import MSE\n",
    "\n",
    "from kudzu.layer import Sigmoid,Relu\n",
    "from kudzu.layer import Affine"
   ]
  },
  {
   "cell_type": "markdown",
   "id": "bc01172a",
   "metadata": {
    "papermill": {
     "duration": 0.027597,
     "end_time": "2022-06-26T10:09:29.025126",
     "exception": false,
     "start_time": "2022-06-26T10:09:28.997529",
     "status": "completed"
    },
    "tags": []
   },
   "source": [
    "### Let us create a `Config` class, to store important parameters. \n",
    "This class essentially plays the role of a dictionary."
   ]
  },
  {
   "cell_type": "code",
   "execution_count": 16,
   "id": "978281aa",
   "metadata": {
    "execution": {
     "iopub.execute_input": "2022-06-26T10:09:29.098142Z",
     "iopub.status.busy": "2022-06-26T10:09:29.093915Z",
     "iopub.status.idle": "2022-06-26T10:09:29.101251Z",
     "shell.execute_reply": "2022-06-26T10:09:29.101727Z"
    },
    "papermill": {
     "duration": 0.048879,
     "end_time": "2022-06-26T10:09:29.101874",
     "exception": false,
     "start_time": "2022-06-26T10:09:29.052995",
     "status": "completed"
    },
    "tags": []
   },
   "outputs": [],
   "source": [
    "class Config:\n",
    "    pass\n",
    "config = Config()\n",
    "config.lr = 0.001\n",
    "config.num_epochs = 250\n",
    "config.bs = 50"
   ]
  },
  {
   "cell_type": "markdown",
   "id": "1385fa59",
   "metadata": {
    "papermill": {
     "duration": 0.027718,
     "end_time": "2022-06-26T10:09:29.157468",
     "exception": false,
     "start_time": "2022-06-26T10:09:29.129750",
     "status": "completed"
    },
    "tags": []
   },
   "source": [
    "### Running Models with the Training data\n",
    "Details about the network layers:\n",
    "- A first affine layer has 784 inputs and does 100 affine transforms. These are followed by a Relu\n",
    "- A second affine layer has 100 inputs from the 100 activations of the past layer, and does 100 affine transforms. These are followed by a Relu\n",
    "- A third affine layer has 100 activations and does 2 affine transformations to create an embedding for visualization. There is no non-linearity here.\n",
    "- A final \"logistic regression\" which has an affine transform from 2 inputs to 1 output, which is squeezed through a sigmoid.\n"
   ]
  },
  {
   "cell_type": "code",
   "execution_count": 17,
   "id": "2b9c66db",
   "metadata": {
    "execution": {
     "iopub.execute_input": "2022-06-26T10:09:29.229906Z",
     "iopub.status.busy": "2022-06-26T10:09:29.226027Z",
     "iopub.status.idle": "2022-06-26T10:09:29.233272Z",
     "shell.execute_reply": "2022-06-26T10:09:29.232770Z"
    },
    "papermill": {
     "duration": 0.048592,
     "end_time": "2022-06-26T10:09:29.233394",
     "exception": false,
     "start_time": "2022-06-26T10:09:29.184802",
     "status": "completed"
    },
    "tags": []
   },
   "outputs": [],
   "source": [
    "data = Data(X_train, y_train.reshape(-1,1))\n",
    "sampler = Sampler(data, config.bs, shuffle=True)\n",
    "\n",
    "dl = Dataloader(data, sampler)\n",
    "\n",
    "opt = GD(config.lr)\n",
    "loss = MSE()"
   ]
  },
  {
   "cell_type": "code",
   "execution_count": 18,
   "id": "b275e4c2",
   "metadata": {
    "execution": {
     "iopub.execute_input": "2022-06-26T10:09:29.302150Z",
     "iopub.status.busy": "2022-06-26T10:09:29.292392Z",
     "iopub.status.idle": "2022-06-26T10:09:29.312595Z",
     "shell.execute_reply": "2022-06-26T10:09:29.312092Z"
    },
    "papermill": {
     "duration": 0.051877,
     "end_time": "2022-06-26T10:09:29.312723",
     "exception": false,
     "start_time": "2022-06-26T10:09:29.260846",
     "status": "completed"
    },
    "tags": []
   },
   "outputs": [],
   "source": [
    "training_data_x = X_train\n",
    "testing_data_x = X_test\n",
    "training_data_y = y_train.reshape(-1,1)\n",
    "testing_data_y = y_test.reshape(-1,1)"
   ]
  },
  {
   "cell_type": "code",
   "execution_count": 19,
   "id": "76951160",
   "metadata": {
    "execution": {
     "iopub.execute_input": "2022-06-26T10:09:29.380370Z",
     "iopub.status.busy": "2022-06-26T10:09:29.379745Z",
     "iopub.status.idle": "2022-06-26T10:09:29.394347Z",
     "shell.execute_reply": "2022-06-26T10:09:29.395113Z"
    },
    "papermill": {
     "duration": 0.05515,
     "end_time": "2022-06-26T10:09:29.395271",
     "exception": false,
     "start_time": "2022-06-26T10:09:29.340121",
     "status": "completed"
    },
    "tags": []
   },
   "outputs": [
    {
     "name": "stdout",
     "output_type": "stream",
     "text": [
      "xavier\n",
      "xavier\n",
      "xavier\n",
      "xavier\n",
      "xavier\n"
     ]
    }
   ],
   "source": [
    "layers = [Affine(\"first\", 784, 100), Relu(\"first\"), Affine(\"second\", 100, 100), Relu(\"second\"), Affine(\"third\", 100, 2), Affine(\"last\", 2, 1), Sigmoid(\"last\")]\n",
    "model_nn = Model(layers)\n",
    "model_lr = Model([Affine(\"logits\", 784, 1), Sigmoid(\"sigmoid\")])"
   ]
  },
  {
   "cell_type": "code",
   "execution_count": 20,
   "id": "6eede77a",
   "metadata": {
    "execution": {
     "iopub.execute_input": "2022-06-26T10:09:29.455591Z",
     "iopub.status.busy": "2022-06-26T10:09:29.454903Z",
     "iopub.status.idle": "2022-06-26T10:09:29.467745Z",
     "shell.execute_reply": "2022-06-26T10:09:29.467259Z"
    },
    "papermill": {
     "duration": 0.04475,
     "end_time": "2022-06-26T10:09:29.467874",
     "exception": false,
     "start_time": "2022-06-26T10:09:29.423124",
     "status": "completed"
    },
    "tags": []
   },
   "outputs": [],
   "source": [
    "nn_learner = Learner(loss, model_nn, opt, config.num_epochs)\n",
    "acc_nn = ClfCallback(nn_learner, config.bs, training_data_x , testing_data_x, training_data_y, testing_data_y)\n",
    "nn_learner.set_callbacks([acc_nn])"
   ]
  },
  {
   "cell_type": "code",
   "execution_count": 21,
   "id": "877b6cc7",
   "metadata": {
    "execution": {
     "iopub.execute_input": "2022-06-26T10:09:29.529867Z",
     "iopub.status.busy": "2022-06-26T10:09:29.529247Z",
     "iopub.status.idle": "2022-06-26T10:09:29.542722Z",
     "shell.execute_reply": "2022-06-26T10:09:29.542221Z"
    },
    "papermill": {
     "duration": 0.047344,
     "end_time": "2022-06-26T10:09:29.542846",
     "exception": false,
     "start_time": "2022-06-26T10:09:29.495502",
     "status": "completed"
    },
    "tags": []
   },
   "outputs": [],
   "source": [
    "lr_learner = Learner(loss, model_lr, opt, config.num_epochs)\n",
    "acc_lr = ClfCallback(lr_learner, config.bs, training_data_x , testing_data_x, training_data_y, testing_data_y)\n",
    "lr_learner.set_callbacks([acc_lr])"
   ]
  },
  {
   "cell_type": "code",
   "execution_count": 22,
   "id": "d9b133c3",
   "metadata": {
    "execution": {
     "iopub.execute_input": "2022-06-26T10:09:29.614629Z",
     "iopub.status.busy": "2022-06-26T10:09:29.613992Z",
     "iopub.status.idle": "2022-06-26T10:10:48.679365Z",
     "shell.execute_reply": "2022-06-26T10:10:48.680213Z"
    },
    "papermill": {
     "duration": 79.109838,
     "end_time": "2022-06-26T10:10:48.680374",
     "exception": false,
     "start_time": "2022-06-26T10:09:29.570536",
     "status": "completed"
    },
    "tags": []
   },
   "outputs": [
    {
     "name": "stdout",
     "output_type": "stream",
     "text": [
      "Epoch 0, Loss 0.2297\n",
      "Training Accuracy: 0.7387, Testing Accuracy: 0.7596\n",
      "\n"
     ]
    },
    {
     "name": "stdout",
     "output_type": "stream",
     "text": [
      "Epoch 10, Loss 0.0681\n",
      "Training Accuracy: 0.9331, Testing Accuracy: 0.9415\n",
      "\n"
     ]
    },
    {
     "name": "stdout",
     "output_type": "stream",
     "text": [
      "Epoch 20, Loss 0.0466\n",
      "Training Accuracy: 0.9523, Testing Accuracy: 0.9567\n",
      "\n"
     ]
    },
    {
     "name": "stdout",
     "output_type": "stream",
     "text": [
      "Epoch 30, Loss 0.0386\n",
      "Training Accuracy: 0.9577, Testing Accuracy: 0.9587\n",
      "\n"
     ]
    },
    {
     "name": "stdout",
     "output_type": "stream",
     "text": [
      "Epoch 40, Loss 0.0342\n",
      "Training Accuracy: 0.9614, Testing Accuracy: 0.9642\n",
      "\n"
     ]
    },
    {
     "name": "stdout",
     "output_type": "stream",
     "text": [
      "Epoch 50, Loss 0.0313\n",
      "Training Accuracy: 0.9637, Testing Accuracy: 0.9672\n",
      "\n"
     ]
    },
    {
     "name": "stdout",
     "output_type": "stream",
     "text": [
      "Epoch 60, Loss 0.0293\n",
      "Training Accuracy: 0.9656, Testing Accuracy: 0.9667\n",
      "\n"
     ]
    },
    {
     "name": "stdout",
     "output_type": "stream",
     "text": [
      "Epoch 70, Loss 0.0276\n",
      "Training Accuracy: 0.9680, Testing Accuracy: 0.9677\n",
      "\n"
     ]
    },
    {
     "name": "stdout",
     "output_type": "stream",
     "text": [
      "Epoch 80, Loss 0.0263\n",
      "Training Accuracy: 0.9691, Testing Accuracy: 0.9677\n",
      "\n"
     ]
    },
    {
     "name": "stdout",
     "output_type": "stream",
     "text": [
      "Epoch 90, Loss 0.0252\n",
      "Training Accuracy: 0.9708, Testing Accuracy: 0.9698\n",
      "\n"
     ]
    },
    {
     "name": "stdout",
     "output_type": "stream",
     "text": [
      "Epoch 100, Loss 0.0242\n",
      "Training Accuracy: 0.9716, Testing Accuracy: 0.9708\n",
      "\n"
     ]
    },
    {
     "name": "stdout",
     "output_type": "stream",
     "text": [
      "Epoch 110, Loss 0.0233\n",
      "Training Accuracy: 0.9730, Testing Accuracy: 0.9718\n",
      "\n"
     ]
    },
    {
     "name": "stdout",
     "output_type": "stream",
     "text": [
      "Epoch 120, Loss 0.0225\n",
      "Training Accuracy: 0.9739, Testing Accuracy: 0.9723\n",
      "\n"
     ]
    },
    {
     "name": "stdout",
     "output_type": "stream",
     "text": [
      "Epoch 130, Loss 0.0218\n",
      "Training Accuracy: 0.9752, Testing Accuracy: 0.9733\n",
      "\n"
     ]
    },
    {
     "name": "stdout",
     "output_type": "stream",
     "text": [
      "Epoch 140, Loss 0.0211\n",
      "Training Accuracy: 0.9760, Testing Accuracy: 0.9733\n",
      "\n"
     ]
    },
    {
     "name": "stdout",
     "output_type": "stream",
     "text": [
      "Epoch 150, Loss 0.0205\n",
      "Training Accuracy: 0.9768, Testing Accuracy: 0.9728\n",
      "\n"
     ]
    },
    {
     "name": "stdout",
     "output_type": "stream",
     "text": [
      "Epoch 160, Loss 0.0199\n",
      "Training Accuracy: 0.9779, Testing Accuracy: 0.9733\n",
      "\n"
     ]
    },
    {
     "name": "stdout",
     "output_type": "stream",
     "text": [
      "Epoch 170, Loss 0.0194\n",
      "Training Accuracy: 0.9788, Testing Accuracy: 0.9733\n",
      "\n"
     ]
    },
    {
     "name": "stdout",
     "output_type": "stream",
     "text": [
      "Epoch 180, Loss 0.0188\n",
      "Training Accuracy: 0.9795, Testing Accuracy: 0.9743\n",
      "\n"
     ]
    },
    {
     "name": "stdout",
     "output_type": "stream",
     "text": [
      "Epoch 190, Loss 0.0183\n",
      "Training Accuracy: 0.9803, Testing Accuracy: 0.9753\n",
      "\n"
     ]
    },
    {
     "name": "stdout",
     "output_type": "stream",
     "text": [
      "Epoch 200, Loss 0.0179\n",
      "Training Accuracy: 0.9807, Testing Accuracy: 0.9753\n",
      "\n"
     ]
    },
    {
     "name": "stdout",
     "output_type": "stream",
     "text": [
      "Epoch 210, Loss 0.0174\n",
      "Training Accuracy: 0.9816, Testing Accuracy: 0.9758\n",
      "\n"
     ]
    },
    {
     "name": "stdout",
     "output_type": "stream",
     "text": [
      "Epoch 220, Loss 0.017\n",
      "Training Accuracy: 0.9821, Testing Accuracy: 0.9763\n",
      "\n"
     ]
    },
    {
     "name": "stdout",
     "output_type": "stream",
     "text": [
      "Epoch 230, Loss 0.0165\n",
      "Training Accuracy: 0.9826, Testing Accuracy: 0.9763\n",
      "\n"
     ]
    },
    {
     "name": "stdout",
     "output_type": "stream",
     "text": [
      "Epoch 240, Loss 0.0161\n",
      "Training Accuracy: 0.9835, Testing Accuracy: 0.9768\n",
      "\n"
     ]
    },
    {
     "data": {
      "text/plain": [
       "0.0052375282976794965"
      ]
     },
     "execution_count": 22,
     "metadata": {},
     "output_type": "execute_result"
    }
   ],
   "source": [
    "nn_learner.train_loop(dl)"
   ]
  },
  {
   "cell_type": "code",
   "execution_count": 23,
   "id": "e0163366",
   "metadata": {
    "execution": {
     "iopub.execute_input": "2022-06-26T10:10:48.762133Z",
     "iopub.status.busy": "2022-06-26T10:10:48.761535Z",
     "iopub.status.idle": "2022-06-26T10:11:03.105810Z",
     "shell.execute_reply": "2022-06-26T10:11:03.106709Z"
    },
    "papermill": {
     "duration": 14.391638,
     "end_time": "2022-06-26T10:11:03.106870",
     "exception": false,
     "start_time": "2022-06-26T10:10:48.715232",
     "status": "completed"
    },
    "tags": []
   },
   "outputs": [
    {
     "name": "stdout",
     "output_type": "stream",
     "text": [
      "Epoch 0, Loss 0.2364\n",
      "Training Accuracy: 0.7137, Testing Accuracy: 0.7283\n",
      "\n"
     ]
    },
    {
     "name": "stdout",
     "output_type": "stream",
     "text": [
      "Epoch 10, Loss 0.1008\n",
      "Training Accuracy: 0.9126, Testing Accuracy: 0.9254\n",
      "\n"
     ]
    },
    {
     "name": "stdout",
     "output_type": "stream",
     "text": [
      "Epoch 20, Loss 0.0781\n",
      "Training Accuracy: 0.9277, Testing Accuracy: 0.9375\n",
      "\n"
     ]
    },
    {
     "name": "stdout",
     "output_type": "stream",
     "text": [
      "Epoch 30, Loss 0.0675\n",
      "Training Accuracy: 0.9365, Testing Accuracy: 0.9446\n",
      "\n"
     ]
    },
    {
     "name": "stdout",
     "output_type": "stream",
     "text": [
      "Epoch 40, Loss 0.0611\n",
      "Training Accuracy: 0.9418, Testing Accuracy: 0.9496\n",
      "\n"
     ]
    },
    {
     "name": "stdout",
     "output_type": "stream",
     "text": [
      "Epoch 50, Loss 0.0567\n",
      "Training Accuracy: 0.9434, Testing Accuracy: 0.9572\n",
      "\n"
     ]
    },
    {
     "name": "stdout",
     "output_type": "stream",
     "text": [
      "Epoch 60, Loss 0.0535\n",
      "Training Accuracy: 0.9468, Testing Accuracy: 0.9592\n",
      "\n"
     ]
    },
    {
     "name": "stdout",
     "output_type": "stream",
     "text": [
      "Epoch 70, Loss 0.051\n",
      "Training Accuracy: 0.9496, Testing Accuracy: 0.9632\n",
      "\n"
     ]
    },
    {
     "name": "stdout",
     "output_type": "stream",
     "text": [
      "Epoch 80, Loss 0.049\n",
      "Training Accuracy: 0.9504, Testing Accuracy: 0.9637\n",
      "\n"
     ]
    },
    {
     "name": "stdout",
     "output_type": "stream",
     "text": [
      "Epoch 90, Loss 0.0473\n",
      "Training Accuracy: 0.9512, Testing Accuracy: 0.9637\n",
      "\n"
     ]
    },
    {
     "name": "stdout",
     "output_type": "stream",
     "text": [
      "Epoch 100, Loss 0.0459\n",
      "Training Accuracy: 0.9520, Testing Accuracy: 0.9652\n",
      "\n"
     ]
    },
    {
     "name": "stdout",
     "output_type": "stream",
     "text": [
      "Epoch 110, Loss 0.0447\n",
      "Training Accuracy: 0.9538, Testing Accuracy: 0.9662\n",
      "\n"
     ]
    },
    {
     "name": "stdout",
     "output_type": "stream",
     "text": [
      "Epoch 120, Loss 0.0437\n",
      "Training Accuracy: 0.9547, Testing Accuracy: 0.9667\n",
      "\n"
     ]
    },
    {
     "name": "stdout",
     "output_type": "stream",
     "text": [
      "Epoch 130, Loss 0.0427\n",
      "Training Accuracy: 0.9556, Testing Accuracy: 0.9667\n",
      "\n"
     ]
    },
    {
     "name": "stdout",
     "output_type": "stream",
     "text": [
      "Epoch 140, Loss 0.0419\n",
      "Training Accuracy: 0.9561, Testing Accuracy: 0.9657\n",
      "\n"
     ]
    },
    {
     "name": "stdout",
     "output_type": "stream",
     "text": [
      "Epoch 150, Loss 0.0412\n",
      "Training Accuracy: 0.9569, Testing Accuracy: 0.9662\n",
      "\n"
     ]
    },
    {
     "name": "stdout",
     "output_type": "stream",
     "text": [
      "Epoch 160, Loss 0.0405\n",
      "Training Accuracy: 0.9573, Testing Accuracy: 0.9667\n",
      "\n"
     ]
    },
    {
     "name": "stdout",
     "output_type": "stream",
     "text": [
      "Epoch 170, Loss 0.0399\n",
      "Training Accuracy: 0.9579, Testing Accuracy: 0.9667\n",
      "\n"
     ]
    },
    {
     "name": "stdout",
     "output_type": "stream",
     "text": [
      "Epoch 180, Loss 0.0394\n",
      "Training Accuracy: 0.9585, Testing Accuracy: 0.9667\n",
      "\n"
     ]
    },
    {
     "name": "stdout",
     "output_type": "stream",
     "text": [
      "Epoch 190, Loss 0.0389\n",
      "Training Accuracy: 0.9589, Testing Accuracy: 0.9667\n",
      "\n"
     ]
    },
    {
     "name": "stdout",
     "output_type": "stream",
     "text": [
      "Epoch 200, Loss 0.0384\n",
      "Training Accuracy: 0.9593, Testing Accuracy: 0.9667\n",
      "\n"
     ]
    },
    {
     "name": "stdout",
     "output_type": "stream",
     "text": [
      "Epoch 210, Loss 0.0379\n",
      "Training Accuracy: 0.9599, Testing Accuracy: 0.9677\n",
      "\n"
     ]
    },
    {
     "name": "stdout",
     "output_type": "stream",
     "text": [
      "Epoch 220, Loss 0.0375\n",
      "Training Accuracy: 0.9601, Testing Accuracy: 0.9682\n",
      "\n"
     ]
    },
    {
     "name": "stdout",
     "output_type": "stream",
     "text": [
      "Epoch 230, Loss 0.0372\n",
      "Training Accuracy: 0.9602, Testing Accuracy: 0.9682\n",
      "\n"
     ]
    },
    {
     "name": "stdout",
     "output_type": "stream",
     "text": [
      "Epoch 240, Loss 0.0368\n",
      "Training Accuracy: 0.9603, Testing Accuracy: 0.9682\n",
      "\n"
     ]
    },
    {
     "data": {
      "text/plain": [
       "0.019264584931575974"
      ]
     },
     "execution_count": 23,
     "metadata": {},
     "output_type": "execute_result"
    }
   ],
   "source": [
    "lr_learner.train_loop(dl)"
   ]
  },
  {
   "cell_type": "code",
   "execution_count": 24,
   "id": "ca410940",
   "metadata": {
    "execution": {
     "iopub.execute_input": "2022-06-26T10:11:03.203735Z",
     "iopub.status.busy": "2022-06-26T10:11:03.203091Z",
     "iopub.status.idle": "2022-06-26T10:11:03.427698Z",
     "shell.execute_reply": "2022-06-26T10:11:03.428165Z"
    },
    "papermill": {
     "duration": 0.279243,
     "end_time": "2022-06-26T10:11:03.428318",
     "exception": false,
     "start_time": "2022-06-26T10:11:03.149075",
     "status": "completed"
    },
    "tags": []
   },
   "outputs": [
    {
     "data": {
      "text/plain": [
       "<matplotlib.legend.Legend at 0x7f638bb0ea20>"
      ]
     },
     "execution_count": 24,
     "metadata": {},
     "output_type": "execute_result"
    },
    {
     "data": {
      "image/png": "[encoded data removed]",
      "text/plain": [
       "<Figure size 1080x720 with 1 Axes>"
      ]
     },
     "metadata": {
      "needs_background": "light"
     },
     "output_type": "display_data"
    }
   ],
   "source": [
    "#comparing the results of NN and LR\n",
    "plt.figure(figsize=(15,10))\n",
    "\n",
    "# Neural Network plots\n",
    "plt.plot(acc_nn.accuracies, 'r-', label = \"Training Accuracies - NN\")\n",
    "plt.plot(acc_nn.test_accuracies, 'g-', label = \"Testing Accuracies - NN\")\n",
    "\n",
    "# Logistic Regression plots\n",
    "plt.plot(acc_lr.accuracies, 'k-', label = \"Training Accuracies - LR\")\n",
    "plt.plot(acc_lr.test_accuracies, 'b-', label = \"Testing Accuracies - LR\")\n",
    "plt.legend()"
   ]
  },
  {
   "cell_type": "markdown",
   "id": "80dfb35c",
   "metadata": {
    "papermill": {
     "duration": 0.042486,
     "end_time": "2022-06-26T10:11:03.513450",
     "exception": false,
     "start_time": "2022-06-26T10:11:03.470964",
     "status": "completed"
    },
    "tags": []
   },
   "source": [
    "#### Plotting the outputs of this layer of the NN.\n"
   ]
  },
  {
   "cell_type": "code",
   "execution_count": 25,
   "id": "45eb2ff5",
   "metadata": {
    "execution": {
     "iopub.execute_input": "2022-06-26T10:11:03.604381Z",
     "iopub.status.busy": "2022-06-26T10:11:03.603790Z",
     "iopub.status.idle": "2022-06-26T10:11:03.626028Z",
     "shell.execute_reply": "2022-06-26T10:11:03.626457Z"
    },
    "papermill": {
     "duration": 0.069803,
     "end_time": "2022-06-26T10:11:03.626609",
     "exception": false,
     "start_time": "2022-06-26T10:11:03.556806",
     "status": "completed"
    },
    "tags": []
   },
   "outputs": [],
   "source": [
    "new_model = Model(layers[:-2])\n",
    "testing_plot = new_model(testing_data_x)"
   ]
  },
  {
   "cell_type": "code",
   "execution_count": 26,
   "id": "4c0a5485",
   "metadata": {
    "execution": {
     "iopub.execute_input": "2022-06-26T10:11:03.722243Z",
     "iopub.status.busy": "2022-06-26T10:11:03.721676Z",
     "iopub.status.idle": "2022-06-26T10:11:03.906306Z",
     "shell.execute_reply": "2022-06-26T10:11:03.906710Z"
    },
    "papermill": {
     "duration": 0.237147,
     "end_time": "2022-06-26T10:11:03.906850",
     "exception": false,
     "start_time": "2022-06-26T10:11:03.669703",
     "status": "completed"
    },
    "tags": []
   },
   "outputs": [
    {
     "data": {
      "text/plain": [
       "Text(0.5, 1.0, 'Outputs')"
      ]
     },
     "execution_count": 26,
     "metadata": {},
     "output_type": "execute_result"
    },
    {
     "data": {
      "image/png": "[encoded data removed]",
      "text/plain": [
       "<Figure size 576x504 with 1 Axes>"
      ]
     },
     "metadata": {
      "needs_background": "light"
     },
     "output_type": "display_data"
    }
   ],
   "source": [
    "# Plotting the scatter plot of points and color coding by class\n",
    "plt.figure(figsize=(8,7))\n",
    "plt.scatter(testing_plot[:,0], testing_plot[:,1], alpha = 0.1, c = y_test.ravel());\n",
    "plt.title('Outputs')"
   ]
  },
  {
   "cell_type": "markdown",
   "id": "a74fcf8f",
   "metadata": {
    "papermill": {
     "duration": 0.045153,
     "end_time": "2022-06-26T10:11:03.998431",
     "exception": false,
     "start_time": "2022-06-26T10:11:03.953278",
     "status": "completed"
    },
    "tags": []
   },
   "source": [
    "Probability contours"
   ]
  },
  {
   "cell_type": "code",
   "execution_count": 27,
   "id": "d0afc8e3",
   "metadata": {
    "execution": {
     "iopub.execute_input": "2022-06-26T10:11:04.131344Z",
     "iopub.status.busy": "2022-06-26T10:11:04.129974Z",
     "iopub.status.idle": "2022-06-26T10:11:04.142253Z",
     "shell.execute_reply": "2022-06-26T10:11:04.142728Z"
    },
    "papermill": {
     "duration": 0.099246,
     "end_time": "2022-06-26T10:11:04.142977",
     "exception": false,
     "start_time": "2022-06-26T10:11:04.043731",
     "status": "completed"
    },
    "tags": []
   },
   "outputs": [],
   "source": [
    "model_prob = Model(layers[-2:]) "
   ]
  },
  {
   "cell_type": "code",
   "execution_count": 28,
   "id": "9b96e238",
   "metadata": {
    "execution": {
     "iopub.execute_input": "2022-06-26T10:11:04.242226Z",
     "iopub.status.busy": "2022-06-26T10:11:04.241603Z",
     "iopub.status.idle": "2022-06-26T10:11:04.254779Z",
     "shell.execute_reply": "2022-06-26T10:11:04.255232Z"
    },
    "papermill": {
     "duration": 0.065358,
     "end_time": "2022-06-26T10:11:04.255390",
     "exception": false,
     "start_time": "2022-06-26T10:11:04.190032",
     "status": "completed"
    },
    "tags": []
   },
   "outputs": [],
   "source": [
    "#creating the x and y ranges according to the above generated plot.\n",
    "x_range = np.linspace(-4, 1, 100) \n",
    "y_range = np.linspace(-6, 6, 100) \n",
    "x_grid, y_grid = np.meshgrid(x_range, y_range) # x_grid and y_grig are of size 100 X 100\n",
    "\n",
    "# converting x_grid and y_grid to continuous arrays\n",
    "x_gridflat = np.ravel(x_grid)\n",
    "y_gridflat = np.ravel(y_grid)\n",
    "\n",
    "# The last layer of the current model takes two columns as input. Hence transpose of np.vstack() is required.\n",
    "X = np.vstack((x_gridflat, y_gridflat)).T\n",
    "\n",
    "prob_contour = model_prob(X).reshape(100,100) "
   ]
  },
  {
   "cell_type": "code",
   "execution_count": 29,
   "id": "da72499a",
   "metadata": {
    "execution": {
     "iopub.execute_input": "2022-06-26T10:11:04.355791Z",
     "iopub.status.busy": "2022-06-26T10:11:04.355165Z",
     "iopub.status.idle": "2022-06-26T10:11:04.607219Z",
     "shell.execute_reply": "2022-06-26T10:11:04.606420Z"
    },
    "papermill": {
     "duration": 0.306489,
     "end_time": "2022-06-26T10:11:04.607349",
     "exception": false,
     "start_time": "2022-06-26T10:11:04.300860",
     "status": "completed"
    },
    "tags": []
   },
   "outputs": [
    {
     "data": {
      "image/png": "[encoded data removed]",
      "text/plain": [
       "<Figure size 720x648 with 1 Axes>"
      ]
     },
     "metadata": {
      "needs_background": "light"
     },
     "output_type": "display_data"
    }
   ],
   "source": [
    "plt.figure(figsize=(10,9))\n",
    "plt.scatter(testing_plot[:,0], testing_plot[:,1], alpha = 0.1, c = y_test.ravel())\n",
    "contours = plt.contour(x_grid,y_grid,prob_contour)\n",
    "plt.title('Probability Contours')\n",
    "plt.clabel(contours, inline = True );"
   ]
  },
  {
   "cell_type": "code",
   "execution_count": null,
   "id": "e81b4ac7",
   "metadata": {
    "papermill": {
     "duration": 0.048414,
     "end_time": "2022-06-26T10:11:04.710201",
     "exception": false,
     "start_time": "2022-06-26T10:11:04.661787",
     "status": "completed"
    },
    "tags": []
   },
   "outputs": [],
   "source": []
  }
 ],
 "metadata": {
  "kernelspec": {
   "display_name": "Python 3",
   "language": "python",
   "name": "python3"
  },
  "language_info": {
   "codemirror_mode": {
    "name": "ipython",
    "version": 3
   },
   "file_extension": ".py",
   "mimetype": "text/x-python",
   "name": "python",
   "nbconvert_exporter": "python",
   "pygments_lexer": "ipython3",
   "version": "3.6.15"
  },
  "papermill": {
   "default_parameters": {},
   "duration": 102.488193,
   "end_time": "2022-06-26T10:11:05.278477",
   "environment_variables": {},
   "exception": null,
   "input_path": "2020-08-11-part2.ipynb",
   "output_path": "2020-08-11-part2.ipynb",
   "parameters": {},
   "start_time": "2022-06-26T10:09:22.790284",
   "version": "2.3.3"
  }
 },
 "nbformat": 4,
 "nbformat_minor": 5
}