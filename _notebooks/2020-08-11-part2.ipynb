{
 "cells": [
  {
   "cell_type": "markdown",
   "id": "98380cd3",
   "metadata": {
    "papermill": {
     "duration": 0.026598,
     "end_time": "2022-02-02T00:25:27.614113",
     "exception": false,
     "start_time": "2022-02-02T00:25:27.587515",
     "status": "completed"
    },
    "tags": []
   },
   "source": [
    "# Distinguish Your Own Digits (DYOD)"
   ]
  },
  {
   "cell_type": "markdown",
   "id": "ef31240d",
   "metadata": {
    "papermill": {
     "duration": 0.021101,
     "end_time": "2022-02-02T00:25:27.657558",
     "exception": false,
     "start_time": "2022-02-02T00:25:27.636457",
     "status": "completed"
    },
    "tags": []
   },
   "source": [
    "You are going to write a classifier that distinguishes between the number 3 and number 8."
   ]
  },
  {
   "cell_type": "code",
   "execution_count": 1,
   "id": "b15c8646",
   "metadata": {
    "execution": {
     "iopub.execute_input": "2022-02-02T00:25:27.710969Z",
     "iopub.status.busy": "2022-02-02T00:25:27.710476Z",
     "iopub.status.idle": "2022-02-02T00:25:27.720152Z",
     "shell.execute_reply": "2022-02-02T00:25:27.719759Z"
    },
    "papermill": {
     "duration": 0.041817,
     "end_time": "2022-02-02T00:25:27.720281",
     "exception": false,
     "start_time": "2022-02-02T00:25:27.678464",
     "status": "completed"
    },
    "tags": []
   },
   "outputs": [],
   "source": [
    "%load_ext autoreload\n",
    "%autoreload 2"
   ]
  },
  {
   "cell_type": "code",
   "execution_count": 2,
   "id": "22ef38dc",
   "metadata": {
    "execution": {
     "iopub.execute_input": "2022-02-02T00:25:27.768540Z",
     "iopub.status.busy": "2022-02-02T00:25:27.768059Z",
     "iopub.status.idle": "2022-02-02T00:25:28.378281Z",
     "shell.execute_reply": "2022-02-02T00:25:28.377840Z"
    },
    "papermill": {
     "duration": 0.636885,
     "end_time": "2022-02-02T00:25:28.378401",
     "exception": false,
     "start_time": "2022-02-02T00:25:27.741516",
     "status": "completed"
    },
    "tags": []
   },
   "outputs": [],
   "source": [
    "%matplotlib inline\n",
    "import numpy as np\n",
    "import matplotlib.pyplot as plt\n",
    "import pandas as pd"
   ]
  },
  {
   "cell_type": "markdown",
   "id": "ba036198",
   "metadata": {
    "papermill": {
     "duration": 0.024253,
     "end_time": "2022-02-02T00:25:28.427215",
     "exception": false,
     "start_time": "2022-02-02T00:25:28.402962",
     "status": "completed"
    },
    "tags": []
   },
   "source": [
    "From the command line run `pip install mnist`. This is a library that will help you bring down the mnist dataset. If you run this from a notebook, you need to put  `!pip install mnist` in a cell by itself."
   ]
  },
  {
   "cell_type": "code",
   "execution_count": 3,
   "id": "bb6ad8a1",
   "metadata": {
    "execution": {
     "iopub.execute_input": "2022-02-02T00:25:28.481478Z",
     "iopub.status.busy": "2022-02-02T00:25:28.480912Z",
     "iopub.status.idle": "2022-02-02T00:25:30.138715Z",
     "shell.execute_reply": "2022-02-02T00:25:30.139533Z"
    },
    "papermill": {
     "duration": 1.688075,
     "end_time": "2022-02-02T00:25:30.139690",
     "exception": false,
     "start_time": "2022-02-02T00:25:28.451615",
     "status": "completed"
    },
    "tags": []
   },
   "outputs": [
    {
     "name": "stdout",
     "output_type": "stream",
     "text": [
      "Collecting mnist\r\n"
     ]
    },
    {
     "name": "stdout",
     "output_type": "stream",
     "text": [
      "  Downloading mnist-0.2.2-py2.py3-none-any.whl (3.5 kB)\r\n",
      "Requirement already satisfied: numpy in /opt/hostedtoolcache/Python/3.6.15/x64/lib/python3.6/site-packages (from mnist) (1.19.5)\r\n"
     ]
    },
    {
     "name": "stdout",
     "output_type": "stream",
     "text": [
      "Installing collected packages: mnist\r\n"
     ]
    },
    {
     "name": "stdout",
     "output_type": "stream",
     "text": [
      "Successfully installed mnist-0.2.2\r\n"
     ]
    }
   ],
   "source": [
    "!pip install mnist"
   ]
  },
  {
   "cell_type": "markdown",
   "id": "69df9c9a",
   "metadata": {
    "papermill": {
     "duration": 0.022286,
     "end_time": "2022-02-02T00:25:30.184382",
     "exception": false,
     "start_time": "2022-02-02T00:25:30.162096",
     "status": "completed"
    },
    "tags": []
   },
   "source": [
    "## Preparing the Data"
   ]
  },
  {
   "cell_type": "code",
   "execution_count": 4,
   "id": "7f69d806",
   "metadata": {
    "execution": {
     "iopub.execute_input": "2022-02-02T00:25:30.235975Z",
     "iopub.status.busy": "2022-02-02T00:25:30.235501Z",
     "iopub.status.idle": "2022-02-02T00:25:30.257360Z",
     "shell.execute_reply": "2022-02-02T00:25:30.256943Z"
    },
    "papermill": {
     "duration": 0.050997,
     "end_time": "2022-02-02T00:25:30.257478",
     "exception": false,
     "start_time": "2022-02-02T00:25:30.206481",
     "status": "completed"
    },
    "tags": []
   },
   "outputs": [],
   "source": [
    "import mnist"
   ]
  },
  {
   "cell_type": "code",
   "execution_count": 5,
   "id": "a411e44f",
   "metadata": {
    "execution": {
     "iopub.execute_input": "2022-02-02T00:25:30.305279Z",
     "iopub.status.busy": "2022-02-02T00:25:30.304782Z",
     "iopub.status.idle": "2022-02-02T00:25:30.873811Z",
     "shell.execute_reply": "2022-02-02T00:25:30.874302Z"
    },
    "papermill": {
     "duration": 0.594828,
     "end_time": "2022-02-02T00:25:30.874476",
     "exception": false,
     "start_time": "2022-02-02T00:25:30.279648",
     "status": "completed"
    },
    "tags": []
   },
   "outputs": [],
   "source": [
    "train_images = mnist.train_images()\n",
    "train_labels = mnist.train_labels()"
   ]
  },
  {
   "cell_type": "code",
   "execution_count": 6,
   "id": "dceab3a5",
   "metadata": {
    "execution": {
     "iopub.execute_input": "2022-02-02T00:25:30.930014Z",
     "iopub.status.busy": "2022-02-02T00:25:30.929480Z",
     "iopub.status.idle": "2022-02-02T00:25:30.944496Z",
     "shell.execute_reply": "2022-02-02T00:25:30.944054Z"
    },
    "papermill": {
     "duration": 0.044035,
     "end_time": "2022-02-02T00:25:30.944619",
     "exception": false,
     "start_time": "2022-02-02T00:25:30.900584",
     "status": "completed"
    },
    "tags": []
   },
   "outputs": [
    {
     "data": {
      "text/plain": [
       "((60000, 28, 28), (60000,))"
      ]
     },
     "execution_count": 6,
     "metadata": {},
     "output_type": "execute_result"
    }
   ],
   "source": [
    "train_images.shape, train_labels.shape"
   ]
  },
  {
   "cell_type": "code",
   "execution_count": 7,
   "id": "f50dc2bb",
   "metadata": {
    "execution": {
     "iopub.execute_input": "2022-02-02T00:25:30.999122Z",
     "iopub.status.busy": "2022-02-02T00:25:30.998606Z",
     "iopub.status.idle": "2022-02-02T00:25:31.193726Z",
     "shell.execute_reply": "2022-02-02T00:25:31.193120Z"
    },
    "papermill": {
     "duration": 0.223732,
     "end_time": "2022-02-02T00:25:31.193877",
     "exception": false,
     "start_time": "2022-02-02T00:25:30.970145",
     "status": "completed"
    },
    "tags": []
   },
   "outputs": [],
   "source": [
    "test_images = mnist.test_images()\n",
    "test_labels = mnist.test_labels()"
   ]
  },
  {
   "cell_type": "code",
   "execution_count": 8,
   "id": "fc38cf1b",
   "metadata": {
    "execution": {
     "iopub.execute_input": "2022-02-02T00:25:31.252585Z",
     "iopub.status.busy": "2022-02-02T00:25:31.252052Z",
     "iopub.status.idle": "2022-02-02T00:25:31.265275Z",
     "shell.execute_reply": "2022-02-02T00:25:31.264818Z"
    },
    "papermill": {
     "duration": 0.042819,
     "end_time": "2022-02-02T00:25:31.265400",
     "exception": false,
     "start_time": "2022-02-02T00:25:31.222581",
     "status": "completed"
    },
    "tags": []
   },
   "outputs": [
    {
     "data": {
      "text/plain": [
       "((10000, 28, 28), (10000,))"
      ]
     },
     "execution_count": 8,
     "metadata": {},
     "output_type": "execute_result"
    }
   ],
   "source": [
    "test_images.shape, test_labels.shape"
   ]
  },
  {
   "cell_type": "code",
   "execution_count": 9,
   "id": "f9ed8fe0",
   "metadata": {
    "execution": {
     "iopub.execute_input": "2022-02-02T00:25:31.326942Z",
     "iopub.status.busy": "2022-02-02T00:25:31.326414Z",
     "iopub.status.idle": "2022-02-02T00:25:31.456033Z",
     "shell.execute_reply": "2022-02-02T00:25:31.456475Z"
    },
    "papermill": {
     "duration": 0.164648,
     "end_time": "2022-02-02T00:25:31.456622",
     "exception": false,
     "start_time": "2022-02-02T00:25:31.291974",
     "status": "completed"
    },
    "tags": []
   },
   "outputs": [
    {
     "name": "stdout",
     "output_type": "stream",
     "text": [
      "2\n"
     ]
    },
    {
     "data": {
      "text/plain": [
       "<matplotlib.image.AxesImage at 0x7fda31d46c18>"
      ]
     },
     "execution_count": 9,
     "metadata": {},
     "output_type": "execute_result"
    },
    {
     "data": {
      "image/png": "[encoded data removed]",
      "text/plain": [
       "<Figure size 432x288 with 1 Axes>"
      ]
     },
     "metadata": {
      "needs_background": "light"
     },
     "output_type": "display_data"
    }
   ],
   "source": [
    "image_index = 7776 # You may select anything up to 60,000\n",
    "print(train_labels[image_index]) \n",
    "plt.imshow(train_images[image_index], cmap='Greys')"
   ]
  },
  {
   "cell_type": "markdown",
   "id": "a8d2388d",
   "metadata": {
    "papermill": {
     "duration": 0.026867,
     "end_time": "2022-02-02T00:25:31.510747",
     "exception": false,
     "start_time": "2022-02-02T00:25:31.483880",
     "status": "completed"
    },
    "tags": []
   },
   "source": [
    "## Filter data to get 3 and 8 out"
   ]
  },
  {
   "cell_type": "code",
   "execution_count": 10,
   "id": "776f7fc7",
   "metadata": {
    "execution": {
     "iopub.execute_input": "2022-02-02T00:25:31.569305Z",
     "iopub.status.busy": "2022-02-02T00:25:31.568748Z",
     "iopub.status.idle": "2022-02-02T00:25:31.589557Z",
     "shell.execute_reply": "2022-02-02T00:25:31.589107Z"
    },
    "papermill": {
     "duration": 0.051949,
     "end_time": "2022-02-02T00:25:31.589672",
     "exception": false,
     "start_time": "2022-02-02T00:25:31.537723",
     "status": "completed"
    },
    "tags": []
   },
   "outputs": [],
   "source": [
    "train_filter = np.where((train_labels == 3 ) | (train_labels == 8))\n",
    "test_filter = np.where((test_labels == 3) | (test_labels == 8))\n",
    "X_train, y_train = train_images[train_filter], train_labels[train_filter]\n",
    "X_test, y_test = test_images[test_filter], test_labels[test_filter]"
   ]
  },
  {
   "cell_type": "markdown",
   "id": "948f0b7e",
   "metadata": {
    "papermill": {
     "duration": 0.023341,
     "end_time": "2022-02-02T00:25:31.636902",
     "exception": false,
     "start_time": "2022-02-02T00:25:31.613561",
     "status": "completed"
    },
    "tags": []
   },
   "source": [
    "We normalize the pizel values in the 0 to 1 range"
   ]
  },
  {
   "cell_type": "code",
   "execution_count": 11,
   "id": "ee4c2166",
   "metadata": {
    "execution": {
     "iopub.execute_input": "2022-02-02T00:25:31.699517Z",
     "iopub.status.busy": "2022-02-02T00:25:31.693735Z",
     "iopub.status.idle": "2022-02-02T00:25:31.735907Z",
     "shell.execute_reply": "2022-02-02T00:25:31.736394Z"
    },
    "papermill": {
     "duration": 0.075887,
     "end_time": "2022-02-02T00:25:31.736570",
     "exception": false,
     "start_time": "2022-02-02T00:25:31.660683",
     "status": "completed"
    },
    "tags": []
   },
   "outputs": [],
   "source": [
    "X_train = X_train/255.\n",
    "X_test = X_test/255."
   ]
  },
  {
   "cell_type": "markdown",
   "id": "ddcf4fab",
   "metadata": {
    "papermill": {
     "duration": 0.026521,
     "end_time": "2022-02-02T00:25:31.790283",
     "exception": false,
     "start_time": "2022-02-02T00:25:31.763762",
     "status": "completed"
    },
    "tags": []
   },
   "source": [
    "And setup the labels as 1 (when the digit is 3) and 0 (when the digit is 8)"
   ]
  },
  {
   "cell_type": "code",
   "execution_count": 12,
   "id": "7dc908f2",
   "metadata": {
    "execution": {
     "iopub.execute_input": "2022-02-02T00:25:31.847634Z",
     "iopub.status.busy": "2022-02-02T00:25:31.847100Z",
     "iopub.status.idle": "2022-02-02T00:25:31.860485Z",
     "shell.execute_reply": "2022-02-02T00:25:31.859682Z"
    },
    "papermill": {
     "duration": 0.043889,
     "end_time": "2022-02-02T00:25:31.860605",
     "exception": false,
     "start_time": "2022-02-02T00:25:31.816716",
     "status": "completed"
    },
    "tags": []
   },
   "outputs": [],
   "source": [
    "y_train = 1*(y_train==3)\n",
    "y_test = 1*(y_test==3)"
   ]
  },
  {
   "cell_type": "code",
   "execution_count": 13,
   "id": "01e4e969",
   "metadata": {
    "execution": {
     "iopub.execute_input": "2022-02-02T00:25:31.921561Z",
     "iopub.status.busy": "2022-02-02T00:25:31.919206Z",
     "iopub.status.idle": "2022-02-02T00:25:31.933287Z",
     "shell.execute_reply": "2022-02-02T00:25:31.932848Z"
    },
    "papermill": {
     "duration": 0.046135,
     "end_time": "2022-02-02T00:25:31.933410",
     "exception": false,
     "start_time": "2022-02-02T00:25:31.887275",
     "status": "completed"
    },
    "tags": []
   },
   "outputs": [
    {
     "data": {
      "text/plain": [
       "((11982, 28, 28), (1984, 28, 28))"
      ]
     },
     "execution_count": 13,
     "metadata": {},
     "output_type": "execute_result"
    }
   ],
   "source": [
    "X_train.shape, X_test.shape"
   ]
  },
  {
   "cell_type": "markdown",
   "id": "5ccf3f85",
   "metadata": {
    "papermill": {
     "duration": 0.026715,
     "end_time": "2022-02-02T00:25:31.987180",
     "exception": false,
     "start_time": "2022-02-02T00:25:31.960465",
     "status": "completed"
    },
    "tags": []
   },
   "source": [
    "We reshape the data to flatten the image pixels into a set of features or co-variates:"
   ]
  },
  {
   "cell_type": "code",
   "execution_count": 14,
   "id": "5286a4a3",
   "metadata": {
    "execution": {
     "iopub.execute_input": "2022-02-02T00:25:32.059126Z",
     "iopub.status.busy": "2022-02-02T00:25:32.058422Z",
     "iopub.status.idle": "2022-02-02T00:25:32.061045Z",
     "shell.execute_reply": "2022-02-02T00:25:32.061461Z"
    },
    "papermill": {
     "duration": 0.047482,
     "end_time": "2022-02-02T00:25:32.061614",
     "exception": false,
     "start_time": "2022-02-02T00:25:32.014132",
     "status": "completed"
    },
    "tags": []
   },
   "outputs": [
    {
     "data": {
      "text/plain": [
       "((11982, 784), (1984, 784))"
      ]
     },
     "execution_count": 14,
     "metadata": {},
     "output_type": "execute_result"
    }
   ],
   "source": [
    "X_train = X_train.reshape(X_train.shape[0], -1)\n",
    "X_test = X_test.reshape(X_test.shape[0], -1)\n",
    "X_train.shape, X_test.shape"
   ]
  },
  {
   "cell_type": "code",
   "execution_count": 15,
   "id": "73c5f88a",
   "metadata": {
    "execution": {
     "iopub.execute_input": "2022-02-02T00:25:32.122367Z",
     "iopub.status.busy": "2022-02-02T00:25:32.121814Z",
     "iopub.status.idle": "2022-02-02T00:25:32.140420Z",
     "shell.execute_reply": "2022-02-02T00:25:32.140006Z"
    },
    "papermill": {
     "duration": 0.051066,
     "end_time": "2022-02-02T00:25:32.140534",
     "exception": false,
     "start_time": "2022-02-02T00:25:32.089468",
     "status": "completed"
    },
    "tags": []
   },
   "outputs": [],
   "source": [
    "#Impoting functions from 'Kudzu'\n",
    "from kudzu.model import Model\n",
    "from kudzu.train import Learner\n",
    "from kudzu.optim import GD\n",
    "from kudzu.data import Data, Sampler,Dataloader\n",
    "\n",
    "from kudzu.callbacks import AccCallback\n",
    "from kudzu.callbacks import ClfCallback\n",
    "\n",
    "from kudzu.loss import MSE\n",
    "\n",
    "from kudzu.layer import Sigmoid,Relu\n",
    "from kudzu.layer import Affine"
   ]
  },
  {
   "cell_type": "markdown",
   "id": "bc01172a",
   "metadata": {
    "papermill": {
     "duration": 0.024083,
     "end_time": "2022-02-02T00:25:32.188730",
     "exception": false,
     "start_time": "2022-02-02T00:25:32.164647",
     "status": "completed"
    },
    "tags": []
   },
   "source": [
    "### Let us create a `Config` class, to store important parameters. \n",
    "This class essentially plays the role of a dictionary."
   ]
  },
  {
   "cell_type": "code",
   "execution_count": 16,
   "id": "978281aa",
   "metadata": {
    "execution": {
     "iopub.execute_input": "2022-02-02T00:25:32.256713Z",
     "iopub.status.busy": "2022-02-02T00:25:32.250512Z",
     "iopub.status.idle": "2022-02-02T00:25:32.259088Z",
     "shell.execute_reply": "2022-02-02T00:25:32.258669Z"
    },
    "papermill": {
     "duration": 0.046596,
     "end_time": "2022-02-02T00:25:32.259212",
     "exception": false,
     "start_time": "2022-02-02T00:25:32.212616",
     "status": "completed"
    },
    "tags": []
   },
   "outputs": [],
   "source": [
    "class Config:\n",
    "    pass\n",
    "config = Config()\n",
    "config.lr = 0.001\n",
    "config.num_epochs = 250\n",
    "config.bs = 50"
   ]
  },
  {
   "cell_type": "markdown",
   "id": "1385fa59",
   "metadata": {
    "papermill": {
     "duration": 0.027124,
     "end_time": "2022-02-02T00:25:32.313621",
     "exception": false,
     "start_time": "2022-02-02T00:25:32.286497",
     "status": "completed"
    },
    "tags": []
   },
   "source": [
    "### Running Models with the Training data\n",
    "Details about the network layers:\n",
    "- A first affine layer has 784 inputs and does 100 affine transforms. These are followed by a Relu\n",
    "- A second affine layer has 100 inputs from the 100 activations of the past layer, and does 100 affine transforms. These are followed by a Relu\n",
    "- A third affine layer has 100 activations and does 2 affine transformations to create an embedding for visualization. There is no non-linearity here.\n",
    "- A final \"logistic regression\" which has an affine transform from 2 inputs to 1 output, which is squeezed through a sigmoid.\n"
   ]
  },
  {
   "cell_type": "code",
   "execution_count": 17,
   "id": "2b9c66db",
   "metadata": {
    "execution": {
     "iopub.execute_input": "2022-02-02T00:25:32.372265Z",
     "iopub.status.busy": "2022-02-02T00:25:32.371725Z",
     "iopub.status.idle": "2022-02-02T00:25:32.386048Z",
     "shell.execute_reply": "2022-02-02T00:25:32.385029Z"
    },
    "papermill": {
     "duration": 0.045518,
     "end_time": "2022-02-02T00:25:32.386174",
     "exception": false,
     "start_time": "2022-02-02T00:25:32.340656",
     "status": "completed"
    },
    "tags": []
   },
   "outputs": [],
   "source": [
    "data = Data(X_train, y_train.reshape(-1,1))\n",
    "sampler = Sampler(data, config.bs, shuffle=True)\n",
    "\n",
    "dl = Dataloader(data, sampler)\n",
    "\n",
    "opt = GD(config.lr)\n",
    "loss = MSE()"
   ]
  },
  {
   "cell_type": "code",
   "execution_count": 18,
   "id": "b275e4c2",
   "metadata": {
    "execution": {
     "iopub.execute_input": "2022-02-02T00:25:32.454088Z",
     "iopub.status.busy": "2022-02-02T00:25:32.450513Z",
     "iopub.status.idle": "2022-02-02T00:25:32.460613Z",
     "shell.execute_reply": "2022-02-02T00:25:32.460189Z"
    },
    "papermill": {
     "duration": 0.046963,
     "end_time": "2022-02-02T00:25:32.460736",
     "exception": false,
     "start_time": "2022-02-02T00:25:32.413773",
     "status": "completed"
    },
    "tags": []
   },
   "outputs": [],
   "source": [
    "training_data_x = X_train\n",
    "testing_data_x = X_test\n",
    "training_data_y = y_train.reshape(-1,1)\n",
    "testing_data_y = y_test.reshape(-1,1)"
   ]
  },
  {
   "cell_type": "code",
   "execution_count": 19,
   "id": "76951160",
   "metadata": {
    "execution": {
     "iopub.execute_input": "2022-02-02T00:25:32.522412Z",
     "iopub.status.busy": "2022-02-02T00:25:32.521856Z",
     "iopub.status.idle": "2022-02-02T00:25:32.537629Z",
     "shell.execute_reply": "2022-02-02T00:25:32.537086Z"
    },
    "papermill": {
     "duration": 0.049959,
     "end_time": "2022-02-02T00:25:32.537763",
     "exception": false,
     "start_time": "2022-02-02T00:25:32.487804",
     "status": "completed"
    },
    "tags": []
   },
   "outputs": [
    {
     "name": "stdout",
     "output_type": "stream",
     "text": [
      "xavier\n",
      "xavier\n",
      "xavier\n",
      "xavier\n",
      "xavier\n"
     ]
    }
   ],
   "source": [
    "layers = [Affine(\"first\", 784, 100), Relu(\"first\"), Affine(\"second\", 100, 100), Relu(\"second\"), Affine(\"third\", 100, 2), Affine(\"last\", 2, 1), Sigmoid(\"last\")]\n",
    "model_nn = Model(layers)\n",
    "model_lr = Model([Affine(\"logits\", 784, 1), Sigmoid(\"sigmoid\")])"
   ]
  },
  {
   "cell_type": "code",
   "execution_count": 20,
   "id": "6eede77a",
   "metadata": {
    "execution": {
     "iopub.execute_input": "2022-02-02T00:25:32.608675Z",
     "iopub.status.busy": "2022-02-02T00:25:32.608142Z",
     "iopub.status.idle": "2022-02-02T00:25:32.617920Z",
     "shell.execute_reply": "2022-02-02T00:25:32.618524Z"
    },
    "papermill": {
     "duration": 0.046151,
     "end_time": "2022-02-02T00:25:32.618771",
     "exception": false,
     "start_time": "2022-02-02T00:25:32.572620",
     "status": "completed"
    },
    "tags": []
   },
   "outputs": [],
   "source": [
    "nn_learner = Learner(loss, model_nn, opt, config.num_epochs)\n",
    "acc_nn = ClfCallback(nn_learner, config.bs, training_data_x , testing_data_x, training_data_y, testing_data_y)\n",
    "nn_learner.set_callbacks([acc_nn])"
   ]
  },
  {
   "cell_type": "code",
   "execution_count": 21,
   "id": "877b6cc7",
   "metadata": {
    "execution": {
     "iopub.execute_input": "2022-02-02T00:25:32.673960Z",
     "iopub.status.busy": "2022-02-02T00:25:32.673461Z",
     "iopub.status.idle": "2022-02-02T00:25:32.684504Z",
     "shell.execute_reply": "2022-02-02T00:25:32.684123Z"
    },
    "papermill": {
     "duration": 0.040503,
     "end_time": "2022-02-02T00:25:32.684615",
     "exception": false,
     "start_time": "2022-02-02T00:25:32.644112",
     "status": "completed"
    },
    "tags": []
   },
   "outputs": [],
   "source": [
    "lr_learner = Learner(loss, model_lr, opt, config.num_epochs)\n",
    "acc_lr = ClfCallback(lr_learner, config.bs, training_data_x , testing_data_x, training_data_y, testing_data_y)\n",
    "lr_learner.set_callbacks([acc_lr])"
   ]
  },
  {
   "cell_type": "code",
   "execution_count": 22,
   "id": "d9b133c3",
   "metadata": {
    "execution": {
     "iopub.execute_input": "2022-02-02T00:25:32.737245Z",
     "iopub.status.busy": "2022-02-02T00:25:32.736748Z",
     "iopub.status.idle": "2022-02-02T00:26:51.426533Z",
     "shell.execute_reply": "2022-02-02T00:26:51.427227Z"
    },
    "papermill": {
     "duration": 78.718318,
     "end_time": "2022-02-02T00:26:51.427375",
     "exception": false,
     "start_time": "2022-02-02T00:25:32.709057",
     "status": "completed"
    },
    "tags": []
   },
   "outputs": [
    {
     "name": "stdout",
     "output_type": "stream",
     "text": [
      "Epoch 0, Loss 0.2467\n",
      "Training Accuracy: 0.5709, Testing Accuracy: 0.5696\n",
      "\n"
     ]
    },
    {
     "name": "stdout",
     "output_type": "stream",
     "text": [
      "Epoch 10, Loss 0.1632\n",
      "Training Accuracy: 0.9013, Testing Accuracy: 0.9108\n",
      "\n"
     ]
    },
    {
     "name": "stdout",
     "output_type": "stream",
     "text": [
      "Epoch 20, Loss 0.0798\n",
      "Training Accuracy: 0.9246, Testing Accuracy: 0.9345\n",
      "\n"
     ]
    },
    {
     "name": "stdout",
     "output_type": "stream",
     "text": [
      "Epoch 30, Loss 0.0552\n",
      "Training Accuracy: 0.9414, Testing Accuracy: 0.9521\n",
      "\n"
     ]
    },
    {
     "name": "stdout",
     "output_type": "stream",
     "text": [
      "Epoch 40, Loss 0.0453\n",
      "Training Accuracy: 0.9488, Testing Accuracy: 0.9567\n",
      "\n"
     ]
    },
    {
     "name": "stdout",
     "output_type": "stream",
     "text": [
      "Epoch 50, Loss 0.0399\n",
      "Training Accuracy: 0.9541, Testing Accuracy: 0.9602\n",
      "\n"
     ]
    },
    {
     "name": "stdout",
     "output_type": "stream",
     "text": [
      "Epoch 60, Loss 0.0364\n",
      "Training Accuracy: 0.9573, Testing Accuracy: 0.9617\n",
      "\n"
     ]
    },
    {
     "name": "stdout",
     "output_type": "stream",
     "text": [
      "Epoch 70, Loss 0.0339\n",
      "Training Accuracy: 0.9596, Testing Accuracy: 0.9667\n",
      "\n"
     ]
    },
    {
     "name": "stdout",
     "output_type": "stream",
     "text": [
      "Epoch 80, Loss 0.032\n",
      "Training Accuracy: 0.9619, Testing Accuracy: 0.9667\n",
      "\n"
     ]
    },
    {
     "name": "stdout",
     "output_type": "stream",
     "text": [
      "Epoch 90, Loss 0.0304\n",
      "Training Accuracy: 0.9628, Testing Accuracy: 0.9667\n",
      "\n"
     ]
    },
    {
     "name": "stdout",
     "output_type": "stream",
     "text": [
      "Epoch 100, Loss 0.0291\n",
      "Training Accuracy: 0.9647, Testing Accuracy: 0.9693\n",
      "\n"
     ]
    },
    {
     "name": "stdout",
     "output_type": "stream",
     "text": [
      "Epoch 110, Loss 0.028\n",
      "Training Accuracy: 0.9659, Testing Accuracy: 0.9698\n",
      "\n"
     ]
    },
    {
     "name": "stdout",
     "output_type": "stream",
     "text": [
      "Epoch 120, Loss 0.0271\n",
      "Training Accuracy: 0.9675, Testing Accuracy: 0.9698\n",
      "\n"
     ]
    },
    {
     "name": "stdout",
     "output_type": "stream",
     "text": [
      "Epoch 130, Loss 0.0263\n",
      "Training Accuracy: 0.9685, Testing Accuracy: 0.9698\n",
      "\n"
     ]
    },
    {
     "name": "stdout",
     "output_type": "stream",
     "text": [
      "Epoch 140, Loss 0.0255\n",
      "Training Accuracy: 0.9692, Testing Accuracy: 0.9698\n",
      "\n"
     ]
    },
    {
     "name": "stdout",
     "output_type": "stream",
     "text": [
      "Epoch 150, Loss 0.0248\n",
      "Training Accuracy: 0.9704, Testing Accuracy: 0.9698\n",
      "\n"
     ]
    },
    {
     "name": "stdout",
     "output_type": "stream",
     "text": [
      "Epoch 160, Loss 0.0242\n",
      "Training Accuracy: 0.9710, Testing Accuracy: 0.9708\n",
      "\n"
     ]
    },
    {
     "name": "stdout",
     "output_type": "stream",
     "text": [
      "Epoch 170, Loss 0.0236\n",
      "Training Accuracy: 0.9716, Testing Accuracy: 0.9708\n",
      "\n"
     ]
    },
    {
     "name": "stdout",
     "output_type": "stream",
     "text": [
      "Epoch 180, Loss 0.0231\n",
      "Training Accuracy: 0.9725, Testing Accuracy: 0.9708\n",
      "\n"
     ]
    },
    {
     "name": "stdout",
     "output_type": "stream",
     "text": [
      "Epoch 190, Loss 0.0226\n",
      "Training Accuracy: 0.9733, Testing Accuracy: 0.9718\n",
      "\n"
     ]
    },
    {
     "name": "stdout",
     "output_type": "stream",
     "text": [
      "Epoch 200, Loss 0.0221\n",
      "Training Accuracy: 0.9740, Testing Accuracy: 0.9718\n",
      "\n"
     ]
    },
    {
     "name": "stdout",
     "output_type": "stream",
     "text": [
      "Epoch 210, Loss 0.0216\n",
      "Training Accuracy: 0.9744, Testing Accuracy: 0.9728\n",
      "\n"
     ]
    },
    {
     "name": "stdout",
     "output_type": "stream",
     "text": [
      "Epoch 220, Loss 0.0211\n",
      "Training Accuracy: 0.9750, Testing Accuracy: 0.9723\n",
      "\n"
     ]
    },
    {
     "name": "stdout",
     "output_type": "stream",
     "text": [
      "Epoch 230, Loss 0.0207\n",
      "Training Accuracy: 0.9750, Testing Accuracy: 0.9723\n",
      "\n"
     ]
    },
    {
     "name": "stdout",
     "output_type": "stream",
     "text": [
      "Epoch 240, Loss 0.0203\n",
      "Training Accuracy: 0.9758, Testing Accuracy: 0.9728\n",
      "\n"
     ]
    },
    {
     "data": {
      "text/plain": [
       "0.007359132116087038"
      ]
     },
     "execution_count": 22,
     "metadata": {},
     "output_type": "execute_result"
    }
   ],
   "source": [
    "nn_learner.train_loop(dl)"
   ]
  },
  {
   "cell_type": "code",
   "execution_count": 23,
   "id": "e0163366",
   "metadata": {
    "execution": {
     "iopub.execute_input": "2022-02-02T00:26:51.499447Z",
     "iopub.status.busy": "2022-02-02T00:26:51.498962Z",
     "iopub.status.idle": "2022-02-02T00:27:05.473905Z",
     "shell.execute_reply": "2022-02-02T00:27:05.474534Z"
    },
    "papermill": {
     "duration": 14.015786,
     "end_time": "2022-02-02T00:27:05.474676",
     "exception": false,
     "start_time": "2022-02-02T00:26:51.458890",
     "status": "completed"
    },
    "tags": []
   },
   "outputs": [
    {
     "name": "stdout",
     "output_type": "stream",
     "text": [
      "Epoch 0, Loss 0.2709\n",
      "Training Accuracy: 0.5943, Testing Accuracy: 0.6053\n",
      "\n"
     ]
    },
    {
     "name": "stdout",
     "output_type": "stream",
     "text": [
      "Epoch 10, Loss 0.1026\n",
      "Training Accuracy: 0.9122, Testing Accuracy: 0.9183\n",
      "\n"
     ]
    },
    {
     "name": "stdout",
     "output_type": "stream",
     "text": [
      "Epoch 20, Loss 0.078\n",
      "Training Accuracy: 0.9302, Testing Accuracy: 0.9390\n",
      "\n"
     ]
    },
    {
     "name": "stdout",
     "output_type": "stream",
     "text": [
      "Epoch 30, Loss 0.0672\n",
      "Training Accuracy: 0.9382, Testing Accuracy: 0.9456\n",
      "\n"
     ]
    },
    {
     "name": "stdout",
     "output_type": "stream",
     "text": [
      "Epoch 40, Loss 0.0607\n",
      "Training Accuracy: 0.9434, Testing Accuracy: 0.9526\n",
      "\n"
     ]
    },
    {
     "name": "stdout",
     "output_type": "stream",
     "text": [
      "Epoch 50, Loss 0.0563\n",
      "Training Accuracy: 0.9464, Testing Accuracy: 0.9541\n",
      "\n"
     ]
    },
    {
     "name": "stdout",
     "output_type": "stream",
     "text": [
      "Epoch 60, Loss 0.0531\n",
      "Training Accuracy: 0.9482, Testing Accuracy: 0.9572\n",
      "\n"
     ]
    },
    {
     "name": "stdout",
     "output_type": "stream",
     "text": [
      "Epoch 70, Loss 0.0506\n",
      "Training Accuracy: 0.9507, Testing Accuracy: 0.9587\n",
      "\n"
     ]
    },
    {
     "name": "stdout",
     "output_type": "stream",
     "text": [
      "Epoch 80, Loss 0.0487\n",
      "Training Accuracy: 0.9532, Testing Accuracy: 0.9597\n",
      "\n"
     ]
    },
    {
     "name": "stdout",
     "output_type": "stream",
     "text": [
      "Epoch 90, Loss 0.047\n",
      "Training Accuracy: 0.9541, Testing Accuracy: 0.9632\n",
      "\n"
     ]
    },
    {
     "name": "stdout",
     "output_type": "stream",
     "text": [
      "Epoch 100, Loss 0.0457\n",
      "Training Accuracy: 0.9547, Testing Accuracy: 0.9637\n",
      "\n"
     ]
    },
    {
     "name": "stdout",
     "output_type": "stream",
     "text": [
      "Epoch 110, Loss 0.0445\n",
      "Training Accuracy: 0.9554, Testing Accuracy: 0.9642\n",
      "\n"
     ]
    },
    {
     "name": "stdout",
     "output_type": "stream",
     "text": [
      "Epoch 120, Loss 0.0434\n",
      "Training Accuracy: 0.9564, Testing Accuracy: 0.9652\n",
      "\n"
     ]
    },
    {
     "name": "stdout",
     "output_type": "stream",
     "text": [
      "Epoch 130, Loss 0.0425\n",
      "Training Accuracy: 0.9569, Testing Accuracy: 0.9662\n",
      "\n"
     ]
    },
    {
     "name": "stdout",
     "output_type": "stream",
     "text": [
      "Epoch 140, Loss 0.0417\n",
      "Training Accuracy: 0.9576, Testing Accuracy: 0.9688\n",
      "\n"
     ]
    },
    {
     "name": "stdout",
     "output_type": "stream",
     "text": [
      "Epoch 150, Loss 0.041\n",
      "Training Accuracy: 0.9577, Testing Accuracy: 0.9693\n",
      "\n"
     ]
    },
    {
     "name": "stdout",
     "output_type": "stream",
     "text": [
      "Epoch 160, Loss 0.0404\n",
      "Training Accuracy: 0.9586, Testing Accuracy: 0.9688\n",
      "\n"
     ]
    },
    {
     "name": "stdout",
     "output_type": "stream",
     "text": [
      "Epoch 170, Loss 0.0398\n",
      "Training Accuracy: 0.9589, Testing Accuracy: 0.9693\n",
      "\n"
     ]
    },
    {
     "name": "stdout",
     "output_type": "stream",
     "text": [
      "Epoch 180, Loss 0.0392\n",
      "Training Accuracy: 0.9594, Testing Accuracy: 0.9688\n",
      "\n"
     ]
    },
    {
     "name": "stdout",
     "output_type": "stream",
     "text": [
      "Epoch 190, Loss 0.0387\n",
      "Training Accuracy: 0.9599, Testing Accuracy: 0.9688\n",
      "\n"
     ]
    },
    {
     "name": "stdout",
     "output_type": "stream",
     "text": [
      "Epoch 200, Loss 0.0383\n",
      "Training Accuracy: 0.9602, Testing Accuracy: 0.9688\n",
      "\n"
     ]
    },
    {
     "name": "stdout",
     "output_type": "stream",
     "text": [
      "Epoch 210, Loss 0.0378\n",
      "Training Accuracy: 0.9606, Testing Accuracy: 0.9688\n",
      "\n"
     ]
    },
    {
     "name": "stdout",
     "output_type": "stream",
     "text": [
      "Epoch 220, Loss 0.0374\n",
      "Training Accuracy: 0.9609, Testing Accuracy: 0.9682\n",
      "\n"
     ]
    },
    {
     "name": "stdout",
     "output_type": "stream",
     "text": [
      "Epoch 230, Loss 0.037\n",
      "Training Accuracy: 0.9609, Testing Accuracy: 0.9682\n",
      "\n"
     ]
    },
    {
     "name": "stdout",
     "output_type": "stream",
     "text": [
      "Epoch 240, Loss 0.0367\n",
      "Training Accuracy: 0.9610, Testing Accuracy: 0.9682\n",
      "\n"
     ]
    },
    {
     "data": {
      "text/plain": [
       "0.0321118044171641"
      ]
     },
     "execution_count": 23,
     "metadata": {},
     "output_type": "execute_result"
    }
   ],
   "source": [
    "lr_learner.train_loop(dl)"
   ]
  },
  {
   "cell_type": "code",
   "execution_count": 24,
   "id": "ca410940",
   "metadata": {
    "execution": {
     "iopub.execute_input": "2022-02-02T00:27:05.558553Z",
     "iopub.status.busy": "2022-02-02T00:27:05.558053Z",
     "iopub.status.idle": "2022-02-02T00:27:05.775189Z",
     "shell.execute_reply": "2022-02-02T00:27:05.774756Z"
    },
    "papermill": {
     "duration": 0.263322,
     "end_time": "2022-02-02T00:27:05.775303",
     "exception": false,
     "start_time": "2022-02-02T00:27:05.511981",
     "status": "completed"
    },
    "tags": []
   },
   "outputs": [
    {
     "data": {
      "text/plain": [
       "<matplotlib.legend.Legend at 0x7fda25109400>"
      ]
     },
     "execution_count": 24,
     "metadata": {},
     "output_type": "execute_result"
    },
    {
     "data": {
      "image/png": "[encoded data removed]",
      "text/plain": [
       "<Figure size 1080x720 with 1 Axes>"
      ]
     },
     "metadata": {
      "needs_background": "light"
     },
     "output_type": "display_data"
    }
   ],
   "source": [
    "#comparing the results of NN and LR\n",
    "plt.figure(figsize=(15,10))\n",
    "\n",
    "# Neural Network plots\n",
    "plt.plot(acc_nn.accuracies, 'r-', label = \"Training Accuracies - NN\")\n",
    "plt.plot(acc_nn.test_accuracies, 'g-', label = \"Testing Accuracies - NN\")\n",
    "\n",
    "# Logistic Regression plots\n",
    "plt.plot(acc_lr.accuracies, 'k-', label = \"Training Accuracies - LR\")\n",
    "plt.plot(acc_lr.test_accuracies, 'b-', label = \"Testing Accuracies - LR\")\n",
    "plt.legend()"
   ]
  },
  {
   "cell_type": "markdown",
   "id": "80dfb35c",
   "metadata": {
    "papermill": {
     "duration": 0.037365,
     "end_time": "2022-02-02T00:27:05.850413",
     "exception": false,
     "start_time": "2022-02-02T00:27:05.813048",
     "status": "completed"
    },
    "tags": []
   },
   "source": [
    "#### Plotting the outputs of this layer of the NN.\n"
   ]
  },
  {
   "cell_type": "code",
   "execution_count": 25,
   "id": "45eb2ff5",
   "metadata": {
    "execution": {
     "iopub.execute_input": "2022-02-02T00:27:05.930299Z",
     "iopub.status.busy": "2022-02-02T00:27:05.929821Z",
     "iopub.status.idle": "2022-02-02T00:27:05.949541Z",
     "shell.execute_reply": "2022-02-02T00:27:05.949999Z"
    },
    "papermill": {
     "duration": 0.062547,
     "end_time": "2022-02-02T00:27:05.950150",
     "exception": false,
     "start_time": "2022-02-02T00:27:05.887603",
     "status": "completed"
    },
    "tags": []
   },
   "outputs": [],
   "source": [
    "new_model = Model(layers[:-2])\n",
    "testing_plot = new_model(testing_data_x)"
   ]
  },
  {
   "cell_type": "code",
   "execution_count": 26,
   "id": "4c0a5485",
   "metadata": {
    "execution": {
     "iopub.execute_input": "2022-02-02T00:27:06.050015Z",
     "iopub.status.busy": "2022-02-02T00:27:06.041907Z",
     "iopub.status.idle": "2022-02-02T00:27:06.268660Z",
     "shell.execute_reply": "2022-02-02T00:27:06.269095Z"
    },
    "papermill": {
     "duration": 0.273381,
     "end_time": "2022-02-02T00:27:06.269273",
     "exception": false,
     "start_time": "2022-02-02T00:27:05.995892",
     "status": "completed"
    },
    "tags": []
   },
   "outputs": [
    {
     "data": {
      "text/plain": [
       "Text(0.5, 1.0, 'Outputs')"
      ]
     },
     "execution_count": 26,
     "metadata": {},
     "output_type": "execute_result"
    },
    {
     "data": {
      "image/png": "[encoded data removed]",
      "text/plain": [
       "<Figure size 576x504 with 1 Axes>"
      ]
     },
     "metadata": {
      "needs_background": "light"
     },
     "output_type": "display_data"
    }
   ],
   "source": [
    "# Plotting the scatter plot of points and color coding by class\n",
    "plt.figure(figsize=(8,7))\n",
    "plt.scatter(testing_plot[:,0], testing_plot[:,1], alpha = 0.1, c = y_test.ravel());\n",
    "plt.title('Outputs')"
   ]
  },
  {
   "cell_type": "markdown",
   "id": "a74fcf8f",
   "metadata": {
    "papermill": {
     "duration": 0.045368,
     "end_time": "2022-02-02T00:27:06.360146",
     "exception": false,
     "start_time": "2022-02-02T00:27:06.314778",
     "status": "completed"
    },
    "tags": []
   },
   "source": [
    "Probability contours"
   ]
  },
  {
   "cell_type": "code",
   "execution_count": 27,
   "id": "d0afc8e3",
   "metadata": {
    "execution": {
     "iopub.execute_input": "2022-02-02T00:27:06.458114Z",
     "iopub.status.busy": "2022-02-02T00:27:06.455182Z",
     "iopub.status.idle": "2022-02-02T00:27:06.467012Z",
     "shell.execute_reply": "2022-02-02T00:27:06.466556Z"
    },
    "papermill": {
     "duration": 0.060965,
     "end_time": "2022-02-02T00:27:06.467130",
     "exception": false,
     "start_time": "2022-02-02T00:27:06.406165",
     "status": "completed"
    },
    "tags": []
   },
   "outputs": [],
   "source": [
    "model_prob = Model(layers[-2:]) "
   ]
  },
  {
   "cell_type": "code",
   "execution_count": 28,
   "id": "9b96e238",
   "metadata": {
    "execution": {
     "iopub.execute_input": "2022-02-02T00:27:06.598301Z",
     "iopub.status.busy": "2022-02-02T00:27:06.597770Z",
     "iopub.status.idle": "2022-02-02T00:27:06.609735Z",
     "shell.execute_reply": "2022-02-02T00:27:06.610091Z"
    },
    "papermill": {
     "duration": 0.097615,
     "end_time": "2022-02-02T00:27:06.610222",
     "exception": false,
     "start_time": "2022-02-02T00:27:06.512607",
     "status": "completed"
    },
    "tags": []
   },
   "outputs": [],
   "source": [
    "#creating the x and y ranges according to the above generated plot.\n",
    "x_range = np.linspace(-4, 1, 100) \n",
    "y_range = np.linspace(-6, 6, 100) \n",
    "x_grid, y_grid = np.meshgrid(x_range, y_range) # x_grid and y_grig are of size 100 X 100\n",
    "\n",
    "# converting x_grid and y_grid to continuous arrays\n",
    "x_gridflat = np.ravel(x_grid)\n",
    "y_gridflat = np.ravel(y_grid)\n",
    "\n",
    "# The last layer of the current model takes two columns as input. Hence transpose of np.vstack() is required.\n",
    "X = np.vstack((x_gridflat, y_gridflat)).T\n",
    "\n",
    "prob_contour = model_prob(X).reshape(100,100) "
   ]
  },
  {
   "cell_type": "code",
   "execution_count": 29,
   "id": "da72499a",
   "metadata": {
    "execution": {
     "iopub.execute_input": "2022-02-02T00:27:06.706546Z",
     "iopub.status.busy": "2022-02-02T00:27:06.706065Z",
     "iopub.status.idle": "2022-02-02T00:27:06.919530Z",
     "shell.execute_reply": "2022-02-02T00:27:06.919889Z"
    },
    "papermill": {
     "duration": 0.26834,
     "end_time": "2022-02-02T00:27:06.920029",
     "exception": false,
     "start_time": "2022-02-02T00:27:06.651689",
     "status": "completed"
    },
    "tags": []
   },
   "outputs": [
    {
     "data": {
      "image/png": "[encoded data removed]",
      "text/plain": [
       "<Figure size 720x648 with 1 Axes>"
      ]
     },
     "metadata": {
      "needs_background": "light"
     },
     "output_type": "display_data"
    }
   ],
   "source": [
    "plt.figure(figsize=(10,9))\n",
    "plt.scatter(testing_plot[:,0], testing_plot[:,1], alpha = 0.1, c = y_test.ravel())\n",
    "contours = plt.contour(x_grid,y_grid,prob_contour)\n",
    "plt.title('Probability Contours')\n",
    "plt.clabel(contours, inline = True );"
   ]
  },
  {
   "cell_type": "code",
   "execution_count": null,
   "id": "e81b4ac7",
   "metadata": {
    "papermill": {
     "duration": 0.041989,
     "end_time": "2022-02-02T00:27:07.004591",
     "exception": false,
     "start_time": "2022-02-02T00:27:06.962602",
     "status": "completed"
    },
    "tags": []
   },
   "outputs": [],
   "source": []
  }
 ],
 "metadata": {
  "kernelspec": {
   "display_name": "Python 3",
   "language": "python",
   "name": "python3"
  },
  "language_info": {
   "codemirror_mode": {
    "name": "ipython",
    "version": 3
   },
   "file_extension": ".py",
   "mimetype": "text/x-python",
   "name": "python",
   "nbconvert_exporter": "python",
   "pygments_lexer": "ipython3",
   "version": "3.6.15"
  },
  "papermill": {
   "default_parameters": {},
   "duration": 101.099811,
   "end_time": "2022-02-02T00:27:07.465328",
   "environment_variables": {},
   "exception": null,
   "input_path": "2020-08-11-part2.ipynb",
   "output_path": "2020-08-11-part2.ipynb",
   "parameters": {},
   "start_time": "2022-02-02T00:25:26.365517",
   "version": "2.3.3"
  }
 },
 "nbformat": 4,
 "nbformat_minor": 5
}