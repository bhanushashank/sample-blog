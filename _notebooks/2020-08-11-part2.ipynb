{
 "cells": [
  {
   "cell_type": "markdown",
   "id": "98380cd3",
   "metadata": {
    "papermill": {
     "duration": 0.028095,
     "end_time": "2022-02-09T00:25:15.017252",
     "exception": false,
     "start_time": "2022-02-09T00:25:14.989157",
     "status": "completed"
    },
    "tags": []
   },
   "source": [
    "# Distinguish Your Own Digits (DYOD)"
   ]
  },
  {
   "cell_type": "markdown",
   "id": "ef31240d",
   "metadata": {
    "papermill": {
     "duration": 0.025309,
     "end_time": "2022-02-09T00:25:15.067154",
     "exception": false,
     "start_time": "2022-02-09T00:25:15.041845",
     "status": "completed"
    },
    "tags": []
   },
   "source": [
    "You are going to write a classifier that distinguishes between the number 3 and number 8."
   ]
  },
  {
   "cell_type": "code",
   "execution_count": 1,
   "id": "b15c8646",
   "metadata": {
    "execution": {
     "iopub.execute_input": "2022-02-09T00:25:15.125643Z",
     "iopub.status.busy": "2022-02-09T00:25:15.122395Z",
     "iopub.status.idle": "2022-02-09T00:25:15.136352Z",
     "shell.execute_reply": "2022-02-09T00:25:15.135880Z"
    },
    "papermill": {
     "duration": 0.04555,
     "end_time": "2022-02-09T00:25:15.136481",
     "exception": false,
     "start_time": "2022-02-09T00:25:15.090931",
     "status": "completed"
    },
    "tags": []
   },
   "outputs": [],
   "source": [
    "%load_ext autoreload\n",
    "%autoreload 2"
   ]
  },
  {
   "cell_type": "code",
   "execution_count": 2,
   "id": "22ef38dc",
   "metadata": {
    "execution": {
     "iopub.execute_input": "2022-02-09T00:25:15.197165Z",
     "iopub.status.busy": "2022-02-09T00:25:15.196304Z",
     "iopub.status.idle": "2022-02-09T00:25:15.761131Z",
     "shell.execute_reply": "2022-02-09T00:25:15.760584Z"
    },
    "papermill": {
     "duration": 0.600763,
     "end_time": "2022-02-09T00:25:15.761276",
     "exception": false,
     "start_time": "2022-02-09T00:25:15.160513",
     "status": "completed"
    },
    "tags": []
   },
   "outputs": [],
   "source": [
    "%matplotlib inline\n",
    "import numpy as np\n",
    "import matplotlib.pyplot as plt\n",
    "import pandas as pd"
   ]
  },
  {
   "cell_type": "markdown",
   "id": "ba036198",
   "metadata": {
    "papermill": {
     "duration": 0.023872,
     "end_time": "2022-02-09T00:25:15.809558",
     "exception": false,
     "start_time": "2022-02-09T00:25:15.785686",
     "status": "completed"
    },
    "tags": []
   },
   "source": [
    "From the command line run `pip install mnist`. This is a library that will help you bring down the mnist dataset. If you run this from a notebook, you need to put  `!pip install mnist` in a cell by itself."
   ]
  },
  {
   "cell_type": "code",
   "execution_count": 3,
   "id": "bb6ad8a1",
   "metadata": {
    "execution": {
     "iopub.execute_input": "2022-02-09T00:25:15.873165Z",
     "iopub.status.busy": "2022-02-09T00:25:15.868696Z",
     "iopub.status.idle": "2022-02-09T00:25:18.365489Z",
     "shell.execute_reply": "2022-02-09T00:25:18.366000Z"
    },
    "papermill": {
     "duration": 2.532577,
     "end_time": "2022-02-09T00:25:18.366161",
     "exception": false,
     "start_time": "2022-02-09T00:25:15.833584",
     "status": "completed"
    },
    "tags": []
   },
   "outputs": [
    {
     "name": "stdout",
     "output_type": "stream",
     "text": [
      "Collecting mnist\r\n"
     ]
    },
    {
     "name": "stdout",
     "output_type": "stream",
     "text": [
      "  Downloading mnist-0.2.2-py2.py3-none-any.whl (3.5 kB)\r\n",
      "Requirement already satisfied: numpy in /opt/hostedtoolcache/Python/3.6.15/x64/lib/python3.6/site-packages (from mnist) (1.19.5)\r\n"
     ]
    },
    {
     "name": "stdout",
     "output_type": "stream",
     "text": [
      "Installing collected packages: mnist\r\n",
      "Successfully installed mnist-0.2.2\r\n"
     ]
    }
   ],
   "source": [
    "!pip install mnist"
   ]
  },
  {
   "cell_type": "markdown",
   "id": "69df9c9a",
   "metadata": {
    "papermill": {
     "duration": 0.024957,
     "end_time": "2022-02-09T00:25:18.416723",
     "exception": false,
     "start_time": "2022-02-09T00:25:18.391766",
     "status": "completed"
    },
    "tags": []
   },
   "source": [
    "## Preparing the Data"
   ]
  },
  {
   "cell_type": "code",
   "execution_count": 4,
   "id": "7f69d806",
   "metadata": {
    "execution": {
     "iopub.execute_input": "2022-02-09T00:25:18.482365Z",
     "iopub.status.busy": "2022-02-09T00:25:18.473722Z",
     "iopub.status.idle": "2022-02-09T00:25:18.486069Z",
     "shell.execute_reply": "2022-02-09T00:25:18.486478Z"
    },
    "papermill": {
     "duration": 0.044694,
     "end_time": "2022-02-09T00:25:18.486602",
     "exception": false,
     "start_time": "2022-02-09T00:25:18.441908",
     "status": "completed"
    },
    "tags": []
   },
   "outputs": [],
   "source": [
    "import mnist"
   ]
  },
  {
   "cell_type": "code",
   "execution_count": 5,
   "id": "a411e44f",
   "metadata": {
    "execution": {
     "iopub.execute_input": "2022-02-09T00:25:18.552942Z",
     "iopub.status.busy": "2022-02-09T00:25:18.547312Z",
     "iopub.status.idle": "2022-02-09T00:25:19.234513Z",
     "shell.execute_reply": "2022-02-09T00:25:19.234961Z"
    },
    "papermill": {
     "duration": 0.723854,
     "end_time": "2022-02-09T00:25:19.235113",
     "exception": false,
     "start_time": "2022-02-09T00:25:18.511259",
     "status": "completed"
    },
    "tags": []
   },
   "outputs": [],
   "source": [
    "train_images = mnist.train_images()\n",
    "train_labels = mnist.train_labels()"
   ]
  },
  {
   "cell_type": "code",
   "execution_count": 6,
   "id": "dceab3a5",
   "metadata": {
    "execution": {
     "iopub.execute_input": "2022-02-09T00:25:19.288998Z",
     "iopub.status.busy": "2022-02-09T00:25:19.288492Z",
     "iopub.status.idle": "2022-02-09T00:25:19.302145Z",
     "shell.execute_reply": "2022-02-09T00:25:19.302552Z"
    },
    "papermill": {
     "duration": 0.042382,
     "end_time": "2022-02-09T00:25:19.302673",
     "exception": false,
     "start_time": "2022-02-09T00:25:19.260291",
     "status": "completed"
    },
    "tags": []
   },
   "outputs": [
    {
     "data": {
      "text/plain": [
       "((60000, 28, 28), (60000,))"
      ]
     },
     "execution_count": 6,
     "metadata": {},
     "output_type": "execute_result"
    }
   ],
   "source": [
    "train_images.shape, train_labels.shape"
   ]
  },
  {
   "cell_type": "code",
   "execution_count": 7,
   "id": "f50dc2bb",
   "metadata": {
    "execution": {
     "iopub.execute_input": "2022-02-09T00:25:19.369392Z",
     "iopub.status.busy": "2022-02-09T00:25:19.362967Z",
     "iopub.status.idle": "2022-02-09T00:25:19.638489Z",
     "shell.execute_reply": "2022-02-09T00:25:19.637370Z"
    },
    "papermill": {
     "duration": 0.311162,
     "end_time": "2022-02-09T00:25:19.638630",
     "exception": false,
     "start_time": "2022-02-09T00:25:19.327468",
     "status": "completed"
    },
    "tags": []
   },
   "outputs": [],
   "source": [
    "test_images = mnist.test_images()\n",
    "test_labels = mnist.test_labels()"
   ]
  },
  {
   "cell_type": "code",
   "execution_count": 8,
   "id": "fc38cf1b",
   "metadata": {
    "execution": {
     "iopub.execute_input": "2022-02-09T00:25:19.696957Z",
     "iopub.status.busy": "2022-02-09T00:25:19.691848Z",
     "iopub.status.idle": "2022-02-09T00:25:19.704405Z",
     "shell.execute_reply": "2022-02-09T00:25:19.703987Z"
    },
    "papermill": {
     "duration": 0.040582,
     "end_time": "2022-02-09T00:25:19.704516",
     "exception": false,
     "start_time": "2022-02-09T00:25:19.663934",
     "status": "completed"
    },
    "tags": []
   },
   "outputs": [
    {
     "data": {
      "text/plain": [
       "((10000, 28, 28), (10000,))"
      ]
     },
     "execution_count": 8,
     "metadata": {},
     "output_type": "execute_result"
    }
   ],
   "source": [
    "test_images.shape, test_labels.shape"
   ]
  },
  {
   "cell_type": "code",
   "execution_count": 9,
   "id": "f9ed8fe0",
   "metadata": {
    "execution": {
     "iopub.execute_input": "2022-02-09T00:25:19.759981Z",
     "iopub.status.busy": "2022-02-09T00:25:19.759456Z",
     "iopub.status.idle": "2022-02-09T00:25:19.889960Z",
     "shell.execute_reply": "2022-02-09T00:25:19.890369Z"
    },
    "papermill": {
     "duration": 0.160965,
     "end_time": "2022-02-09T00:25:19.890491",
     "exception": false,
     "start_time": "2022-02-09T00:25:19.729526",
     "status": "completed"
    },
    "tags": []
   },
   "outputs": [
    {
     "name": "stdout",
     "output_type": "stream",
     "text": [
      "2\n"
     ]
    },
    {
     "data": {
      "text/plain": [
       "<matplotlib.image.AxesImage at 0x7f4da0a27eb8>"
      ]
     },
     "execution_count": 9,
     "metadata": {},
     "output_type": "execute_result"
    },
    {
     "data": {
      "image/png": "[encoded data removed]",
      "text/plain": [
       "<Figure size 432x288 with 1 Axes>"
      ]
     },
     "metadata": {
      "needs_background": "light"
     },
     "output_type": "display_data"
    }
   ],
   "source": [
    "image_index = 7776 # You may select anything up to 60,000\n",
    "print(train_labels[image_index]) \n",
    "plt.imshow(train_images[image_index], cmap='Greys')"
   ]
  },
  {
   "cell_type": "markdown",
   "id": "a8d2388d",
   "metadata": {
    "papermill": {
     "duration": 0.02642,
     "end_time": "2022-02-09T00:25:19.943168",
     "exception": false,
     "start_time": "2022-02-09T00:25:19.916748",
     "status": "completed"
    },
    "tags": []
   },
   "source": [
    "## Filter data to get 3 and 8 out"
   ]
  },
  {
   "cell_type": "code",
   "execution_count": 10,
   "id": "776f7fc7",
   "metadata": {
    "execution": {
     "iopub.execute_input": "2022-02-09T00:25:20.009291Z",
     "iopub.status.busy": "2022-02-09T00:25:20.008763Z",
     "iopub.status.idle": "2022-02-09T00:25:20.020588Z",
     "shell.execute_reply": "2022-02-09T00:25:20.020171Z"
    },
    "papermill": {
     "duration": 0.051518,
     "end_time": "2022-02-09T00:25:20.020698",
     "exception": false,
     "start_time": "2022-02-09T00:25:19.969180",
     "status": "completed"
    },
    "tags": []
   },
   "outputs": [],
   "source": [
    "train_filter = np.where((train_labels == 3 ) | (train_labels == 8))\n",
    "test_filter = np.where((test_labels == 3) | (test_labels == 8))\n",
    "X_train, y_train = train_images[train_filter], train_labels[train_filter]\n",
    "X_test, y_test = test_images[test_filter], test_labels[test_filter]"
   ]
  },
  {
   "cell_type": "markdown",
   "id": "948f0b7e",
   "metadata": {
    "papermill": {
     "duration": 0.025946,
     "end_time": "2022-02-09T00:25:20.072812",
     "exception": false,
     "start_time": "2022-02-09T00:25:20.046866",
     "status": "completed"
    },
    "tags": []
   },
   "source": [
    "We normalize the pizel values in the 0 to 1 range"
   ]
  },
  {
   "cell_type": "code",
   "execution_count": 11,
   "id": "ee4c2166",
   "metadata": {
    "execution": {
     "iopub.execute_input": "2022-02-09T00:25:20.133095Z",
     "iopub.status.busy": "2022-02-09T00:25:20.132586Z",
     "iopub.status.idle": "2022-02-09T00:25:20.178719Z",
     "shell.execute_reply": "2022-02-09T00:25:20.178191Z"
    },
    "papermill": {
     "duration": 0.080098,
     "end_time": "2022-02-09T00:25:20.178864",
     "exception": false,
     "start_time": "2022-02-09T00:25:20.098766",
     "status": "completed"
    },
    "tags": []
   },
   "outputs": [],
   "source": [
    "X_train = X_train/255.\n",
    "X_test = X_test/255."
   ]
  },
  {
   "cell_type": "markdown",
   "id": "ddcf4fab",
   "metadata": {
    "papermill": {
     "duration": 0.026323,
     "end_time": "2022-02-09T00:25:20.232268",
     "exception": false,
     "start_time": "2022-02-09T00:25:20.205945",
     "status": "completed"
    },
    "tags": []
   },
   "source": [
    "And setup the labels as 1 (when the digit is 3) and 0 (when the digit is 8)"
   ]
  },
  {
   "cell_type": "code",
   "execution_count": 12,
   "id": "7dc908f2",
   "metadata": {
    "execution": {
     "iopub.execute_input": "2022-02-09T00:25:20.290195Z",
     "iopub.status.busy": "2022-02-09T00:25:20.289685Z",
     "iopub.status.idle": "2022-02-09T00:25:20.300869Z",
     "shell.execute_reply": "2022-02-09T00:25:20.300430Z"
    },
    "papermill": {
     "duration": 0.042684,
     "end_time": "2022-02-09T00:25:20.300978",
     "exception": false,
     "start_time": "2022-02-09T00:25:20.258294",
     "status": "completed"
    },
    "tags": []
   },
   "outputs": [],
   "source": [
    "y_train = 1*(y_train==3)\n",
    "y_test = 1*(y_test==3)"
   ]
  },
  {
   "cell_type": "code",
   "execution_count": 13,
   "id": "01e4e969",
   "metadata": {
    "execution": {
     "iopub.execute_input": "2022-02-09T00:25:20.369336Z",
     "iopub.status.busy": "2022-02-09T00:25:20.364597Z",
     "iopub.status.idle": "2022-02-09T00:25:20.371973Z",
     "shell.execute_reply": "2022-02-09T00:25:20.372393Z"
    },
    "papermill": {
     "duration": 0.045149,
     "end_time": "2022-02-09T00:25:20.372508",
     "exception": false,
     "start_time": "2022-02-09T00:25:20.327359",
     "status": "completed"
    },
    "tags": []
   },
   "outputs": [
    {
     "data": {
      "text/plain": [
       "((11982, 28, 28), (1984, 28, 28))"
      ]
     },
     "execution_count": 13,
     "metadata": {},
     "output_type": "execute_result"
    }
   ],
   "source": [
    "X_train.shape, X_test.shape"
   ]
  },
  {
   "cell_type": "markdown",
   "id": "5ccf3f85",
   "metadata": {
    "papermill": {
     "duration": 0.026308,
     "end_time": "2022-02-09T00:25:20.425061",
     "exception": false,
     "start_time": "2022-02-09T00:25:20.398753",
     "status": "completed"
    },
    "tags": []
   },
   "source": [
    "We reshape the data to flatten the image pixels into a set of features or co-variates:"
   ]
  },
  {
   "cell_type": "code",
   "execution_count": 14,
   "id": "5286a4a3",
   "metadata": {
    "execution": {
     "iopub.execute_input": "2022-02-09T00:25:20.481025Z",
     "iopub.status.busy": "2022-02-09T00:25:20.480519Z",
     "iopub.status.idle": "2022-02-09T00:25:20.493328Z",
     "shell.execute_reply": "2022-02-09T00:25:20.493716Z"
    },
    "papermill": {
     "duration": 0.042376,
     "end_time": "2022-02-09T00:25:20.493833",
     "exception": false,
     "start_time": "2022-02-09T00:25:20.451457",
     "status": "completed"
    },
    "tags": []
   },
   "outputs": [
    {
     "data": {
      "text/plain": [
       "((11982, 784), (1984, 784))"
      ]
     },
     "execution_count": 14,
     "metadata": {},
     "output_type": "execute_result"
    }
   ],
   "source": [
    "X_train = X_train.reshape(X_train.shape[0], -1)\n",
    "X_test = X_test.reshape(X_test.shape[0], -1)\n",
    "X_train.shape, X_test.shape"
   ]
  },
  {
   "cell_type": "code",
   "execution_count": 15,
   "id": "73c5f88a",
   "metadata": {
    "execution": {
     "iopub.execute_input": "2022-02-09T00:25:20.550953Z",
     "iopub.status.busy": "2022-02-09T00:25:20.550402Z",
     "iopub.status.idle": "2022-02-09T00:25:20.568892Z",
     "shell.execute_reply": "2022-02-09T00:25:20.568461Z"
    },
    "papermill": {
     "duration": 0.048531,
     "end_time": "2022-02-09T00:25:20.568991",
     "exception": false,
     "start_time": "2022-02-09T00:25:20.520460",
     "status": "completed"
    },
    "tags": []
   },
   "outputs": [],
   "source": [
    "#Impoting functions from 'Kudzu'\n",
    "from kudzu.model import Model\n",
    "from kudzu.train import Learner\n",
    "from kudzu.optim import GD\n",
    "from kudzu.data import Data, Sampler,Dataloader\n",
    "\n",
    "from kudzu.callbacks import AccCallback\n",
    "from kudzu.callbacks import ClfCallback\n",
    "\n",
    "from kudzu.loss import MSE\n",
    "\n",
    "from kudzu.layer import Sigmoid,Relu\n",
    "from kudzu.layer import Affine"
   ]
  },
  {
   "cell_type": "markdown",
   "id": "bc01172a",
   "metadata": {
    "papermill": {
     "duration": 0.026901,
     "end_time": "2022-02-09T00:25:20.622654",
     "exception": false,
     "start_time": "2022-02-09T00:25:20.595753",
     "status": "completed"
    },
    "tags": []
   },
   "source": [
    "### Let us create a `Config` class, to store important parameters. \n",
    "This class essentially plays the role of a dictionary."
   ]
  },
  {
   "cell_type": "code",
   "execution_count": 16,
   "id": "978281aa",
   "metadata": {
    "execution": {
     "iopub.execute_input": "2022-02-09T00:25:20.679393Z",
     "iopub.status.busy": "2022-02-09T00:25:20.678881Z",
     "iopub.status.idle": "2022-02-09T00:25:20.689587Z",
     "shell.execute_reply": "2022-02-09T00:25:20.690022Z"
    },
    "papermill": {
     "duration": 0.040892,
     "end_time": "2022-02-09T00:25:20.690133",
     "exception": false,
     "start_time": "2022-02-09T00:25:20.649241",
     "status": "completed"
    },
    "tags": []
   },
   "outputs": [],
   "source": [
    "class Config:\n",
    "    pass\n",
    "config = Config()\n",
    "config.lr = 0.001\n",
    "config.num_epochs = 250\n",
    "config.bs = 50"
   ]
  },
  {
   "cell_type": "markdown",
   "id": "1385fa59",
   "metadata": {
    "papermill": {
     "duration": 0.026457,
     "end_time": "2022-02-09T00:25:20.743304",
     "exception": false,
     "start_time": "2022-02-09T00:25:20.716847",
     "status": "completed"
    },
    "tags": []
   },
   "source": [
    "### Running Models with the Training data\n",
    "Details about the network layers:\n",
    "- A first affine layer has 784 inputs and does 100 affine transforms. These are followed by a Relu\n",
    "- A second affine layer has 100 inputs from the 100 activations of the past layer, and does 100 affine transforms. These are followed by a Relu\n",
    "- A third affine layer has 100 activations and does 2 affine transformations to create an embedding for visualization. There is no non-linearity here.\n",
    "- A final \"logistic regression\" which has an affine transform from 2 inputs to 1 output, which is squeezed through a sigmoid.\n"
   ]
  },
  {
   "cell_type": "code",
   "execution_count": 17,
   "id": "2b9c66db",
   "metadata": {
    "execution": {
     "iopub.execute_input": "2022-02-09T00:25:20.805580Z",
     "iopub.status.busy": "2022-02-09T00:25:20.805071Z",
     "iopub.status.idle": "2022-02-09T00:25:20.814179Z",
     "shell.execute_reply": "2022-02-09T00:25:20.813746Z"
    },
    "papermill": {
     "duration": 0.044314,
     "end_time": "2022-02-09T00:25:20.814284",
     "exception": false,
     "start_time": "2022-02-09T00:25:20.769970",
     "status": "completed"
    },
    "tags": []
   },
   "outputs": [],
   "source": [
    "data = Data(X_train, y_train.reshape(-1,1))\n",
    "sampler = Sampler(data, config.bs, shuffle=True)\n",
    "\n",
    "dl = Dataloader(data, sampler)\n",
    "\n",
    "opt = GD(config.lr)\n",
    "loss = MSE()"
   ]
  },
  {
   "cell_type": "code",
   "execution_count": 18,
   "id": "b275e4c2",
   "metadata": {
    "execution": {
     "iopub.execute_input": "2022-02-09T00:25:20.871462Z",
     "iopub.status.busy": "2022-02-09T00:25:20.870956Z",
     "iopub.status.idle": "2022-02-09T00:25:20.883098Z",
     "shell.execute_reply": "2022-02-09T00:25:20.882695Z"
    },
    "papermill": {
     "duration": 0.042272,
     "end_time": "2022-02-09T00:25:20.883201",
     "exception": false,
     "start_time": "2022-02-09T00:25:20.840929",
     "status": "completed"
    },
    "tags": []
   },
   "outputs": [],
   "source": [
    "training_data_x = X_train\n",
    "testing_data_x = X_test\n",
    "training_data_y = y_train.reshape(-1,1)\n",
    "testing_data_y = y_test.reshape(-1,1)"
   ]
  },
  {
   "cell_type": "code",
   "execution_count": 19,
   "id": "76951160",
   "metadata": {
    "execution": {
     "iopub.execute_input": "2022-02-09T00:25:20.945898Z",
     "iopub.status.busy": "2022-02-09T00:25:20.945389Z",
     "iopub.status.idle": "2022-02-09T00:25:20.957255Z",
     "shell.execute_reply": "2022-02-09T00:25:20.956829Z"
    },
    "papermill": {
     "duration": 0.047521,
     "end_time": "2022-02-09T00:25:20.957353",
     "exception": false,
     "start_time": "2022-02-09T00:25:20.909832",
     "status": "completed"
    },
    "tags": []
   },
   "outputs": [
    {
     "name": "stdout",
     "output_type": "stream",
     "text": [
      "xavier\n",
      "xavier\n",
      "xavier\n",
      "xavier\n",
      "xavier\n"
     ]
    }
   ],
   "source": [
    "layers = [Affine(\"first\", 784, 100), Relu(\"first\"), Affine(\"second\", 100, 100), Relu(\"second\"), Affine(\"third\", 100, 2), Affine(\"last\", 2, 1), Sigmoid(\"last\")]\n",
    "model_nn = Model(layers)\n",
    "model_lr = Model([Affine(\"logits\", 784, 1), Sigmoid(\"sigmoid\")])"
   ]
  },
  {
   "cell_type": "code",
   "execution_count": 20,
   "id": "6eede77a",
   "metadata": {
    "execution": {
     "iopub.execute_input": "2022-02-09T00:25:21.024792Z",
     "iopub.status.busy": "2022-02-09T00:25:21.018234Z",
     "iopub.status.idle": "2022-02-09T00:25:21.027078Z",
     "shell.execute_reply": "2022-02-09T00:25:21.026680Z"
    },
    "papermill": {
     "duration": 0.042882,
     "end_time": "2022-02-09T00:25:21.027180",
     "exception": false,
     "start_time": "2022-02-09T00:25:20.984298",
     "status": "completed"
    },
    "tags": []
   },
   "outputs": [],
   "source": [
    "nn_learner = Learner(loss, model_nn, opt, config.num_epochs)\n",
    "acc_nn = ClfCallback(nn_learner, config.bs, training_data_x , testing_data_x, training_data_y, testing_data_y)\n",
    "nn_learner.set_callbacks([acc_nn])"
   ]
  },
  {
   "cell_type": "code",
   "execution_count": 21,
   "id": "877b6cc7",
   "metadata": {
    "execution": {
     "iopub.execute_input": "2022-02-09T00:25:21.090261Z",
     "iopub.status.busy": "2022-02-09T00:25:21.089743Z",
     "iopub.status.idle": "2022-02-09T00:25:21.099573Z",
     "shell.execute_reply": "2022-02-09T00:25:21.099139Z"
    },
    "papermill": {
     "duration": 0.04555,
     "end_time": "2022-02-09T00:25:21.099675",
     "exception": false,
     "start_time": "2022-02-09T00:25:21.054125",
     "status": "completed"
    },
    "tags": []
   },
   "outputs": [],
   "source": [
    "lr_learner = Learner(loss, model_lr, opt, config.num_epochs)\n",
    "acc_lr = ClfCallback(lr_learner, config.bs, training_data_x , testing_data_x, training_data_y, testing_data_y)\n",
    "lr_learner.set_callbacks([acc_lr])"
   ]
  },
  {
   "cell_type": "code",
   "execution_count": 22,
   "id": "d9b133c3",
   "metadata": {
    "execution": {
     "iopub.execute_input": "2022-02-09T00:25:21.157295Z",
     "iopub.status.busy": "2022-02-09T00:25:21.156717Z",
     "iopub.status.idle": "2022-02-09T00:26:35.300325Z",
     "shell.execute_reply": "2022-02-09T00:26:35.301082Z"
    },
    "papermill": {
     "duration": 74.174551,
     "end_time": "2022-02-09T00:26:35.301236",
     "exception": false,
     "start_time": "2022-02-09T00:25:21.126685",
     "status": "completed"
    },
    "tags": []
   },
   "outputs": [
    {
     "name": "stdout",
     "output_type": "stream",
     "text": [
      "Epoch 0, Loss 0.2364\n",
      "Training Accuracy: 0.7051, Testing Accuracy: 0.7117\n",
      "\n"
     ]
    },
    {
     "name": "stdout",
     "output_type": "stream",
     "text": [
      "Epoch 10, Loss 0.0973\n",
      "Training Accuracy: 0.9160, Testing Accuracy: 0.9304\n",
      "\n"
     ]
    },
    {
     "name": "stdout",
     "output_type": "stream",
     "text": [
      "Epoch 20, Loss 0.0584\n",
      "Training Accuracy: 0.9397, Testing Accuracy: 0.9551\n",
      "\n"
     ]
    },
    {
     "name": "stdout",
     "output_type": "stream",
     "text": [
      "Epoch 30, Loss 0.0457\n",
      "Training Accuracy: 0.9495, Testing Accuracy: 0.9602\n",
      "\n"
     ]
    },
    {
     "name": "stdout",
     "output_type": "stream",
     "text": [
      "Epoch 40, Loss 0.0394\n",
      "Training Accuracy: 0.9554, Testing Accuracy: 0.9632\n",
      "\n"
     ]
    },
    {
     "name": "stdout",
     "output_type": "stream",
     "text": [
      "Epoch 50, Loss 0.0356\n",
      "Training Accuracy: 0.9591, Testing Accuracy: 0.9642\n",
      "\n"
     ]
    },
    {
     "name": "stdout",
     "output_type": "stream",
     "text": [
      "Epoch 60, Loss 0.033\n",
      "Training Accuracy: 0.9615, Testing Accuracy: 0.9662\n",
      "\n"
     ]
    },
    {
     "name": "stdout",
     "output_type": "stream",
     "text": [
      "Epoch 70, Loss 0.031\n",
      "Training Accuracy: 0.9634, Testing Accuracy: 0.9672\n",
      "\n"
     ]
    },
    {
     "name": "stdout",
     "output_type": "stream",
     "text": [
      "Epoch 80, Loss 0.0295\n",
      "Training Accuracy: 0.9660, Testing Accuracy: 0.9672\n",
      "\n"
     ]
    },
    {
     "name": "stdout",
     "output_type": "stream",
     "text": [
      "Epoch 90, Loss 0.0282\n",
      "Training Accuracy: 0.9678, Testing Accuracy: 0.9677\n",
      "\n"
     ]
    },
    {
     "name": "stdout",
     "output_type": "stream",
     "text": [
      "Epoch 100, Loss 0.0271\n",
      "Training Accuracy: 0.9695, Testing Accuracy: 0.9698\n",
      "\n"
     ]
    },
    {
     "name": "stdout",
     "output_type": "stream",
     "text": [
      "Epoch 110, Loss 0.0261\n",
      "Training Accuracy: 0.9700, Testing Accuracy: 0.9708\n",
      "\n"
     ]
    },
    {
     "name": "stdout",
     "output_type": "stream",
     "text": [
      "Epoch 120, Loss 0.0253\n",
      "Training Accuracy: 0.9711, Testing Accuracy: 0.9718\n",
      "\n"
     ]
    },
    {
     "name": "stdout",
     "output_type": "stream",
     "text": [
      "Epoch 130, Loss 0.0246\n",
      "Training Accuracy: 0.9716, Testing Accuracy: 0.9708\n",
      "\n"
     ]
    },
    {
     "name": "stdout",
     "output_type": "stream",
     "text": [
      "Epoch 140, Loss 0.0239\n",
      "Training Accuracy: 0.9730, Testing Accuracy: 0.9723\n",
      "\n"
     ]
    },
    {
     "name": "stdout",
     "output_type": "stream",
     "text": [
      "Epoch 150, Loss 0.0233\n",
      "Training Accuracy: 0.9738, Testing Accuracy: 0.9738\n",
      "\n"
     ]
    },
    {
     "name": "stdout",
     "output_type": "stream",
     "text": [
      "Epoch 160, Loss 0.0227\n",
      "Training Accuracy: 0.9743, Testing Accuracy: 0.9738\n",
      "\n"
     ]
    },
    {
     "name": "stdout",
     "output_type": "stream",
     "text": [
      "Epoch 170, Loss 0.0221\n",
      "Training Accuracy: 0.9752, Testing Accuracy: 0.9738\n",
      "\n"
     ]
    },
    {
     "name": "stdout",
     "output_type": "stream",
     "text": [
      "Epoch 180, Loss 0.0216\n",
      "Training Accuracy: 0.9756, Testing Accuracy: 0.9738\n",
      "\n"
     ]
    },
    {
     "name": "stdout",
     "output_type": "stream",
     "text": [
      "Epoch 190, Loss 0.0212\n",
      "Training Accuracy: 0.9761, Testing Accuracy: 0.9738\n",
      "\n"
     ]
    },
    {
     "name": "stdout",
     "output_type": "stream",
     "text": [
      "Epoch 200, Loss 0.0207\n",
      "Training Accuracy: 0.9766, Testing Accuracy: 0.9738\n",
      "\n"
     ]
    },
    {
     "name": "stdout",
     "output_type": "stream",
     "text": [
      "Epoch 210, Loss 0.0203\n",
      "Training Accuracy: 0.9778, Testing Accuracy: 0.9738\n",
      "\n"
     ]
    },
    {
     "name": "stdout",
     "output_type": "stream",
     "text": [
      "Epoch 220, Loss 0.0199\n",
      "Training Accuracy: 0.9783, Testing Accuracy: 0.9743\n",
      "\n"
     ]
    },
    {
     "name": "stdout",
     "output_type": "stream",
     "text": [
      "Epoch 230, Loss 0.0195\n",
      "Training Accuracy: 0.9787, Testing Accuracy: 0.9748\n",
      "\n"
     ]
    },
    {
     "name": "stdout",
     "output_type": "stream",
     "text": [
      "Epoch 240, Loss 0.0191\n",
      "Training Accuracy: 0.9791, Testing Accuracy: 0.9753\n",
      "\n"
     ]
    },
    {
     "data": {
      "text/plain": [
       "0.02021804908174204"
      ]
     },
     "execution_count": 22,
     "metadata": {},
     "output_type": "execute_result"
    }
   ],
   "source": [
    "nn_learner.train_loop(dl)"
   ]
  },
  {
   "cell_type": "code",
   "execution_count": 23,
   "id": "e0163366",
   "metadata": {
    "execution": {
     "iopub.execute_input": "2022-02-09T00:26:35.380837Z",
     "iopub.status.busy": "2022-02-09T00:26:35.380319Z",
     "iopub.status.idle": "2022-02-09T00:26:48.559743Z",
     "shell.execute_reply": "2022-02-09T00:26:48.560507Z"
    },
    "papermill": {
     "duration": 13.224926,
     "end_time": "2022-02-09T00:26:48.560660",
     "exception": false,
     "start_time": "2022-02-09T00:26:35.335734",
     "status": "completed"
    },
    "tags": []
   },
   "outputs": [
    {
     "name": "stdout",
     "output_type": "stream",
     "text": [
      "Epoch 0, Loss 0.2718\n",
      "Training Accuracy: 0.5840, Testing Accuracy: 0.5655\n",
      "\n"
     ]
    },
    {
     "name": "stdout",
     "output_type": "stream",
     "text": [
      "Epoch 10, Loss 0.1049\n",
      "Training Accuracy: 0.9094, Testing Accuracy: 0.9173\n",
      "\n"
     ]
    },
    {
     "name": "stdout",
     "output_type": "stream",
     "text": [
      "Epoch 20, Loss 0.0794\n",
      "Training Accuracy: 0.9289, Testing Accuracy: 0.9375\n",
      "\n"
     ]
    },
    {
     "name": "stdout",
     "output_type": "stream",
     "text": [
      "Epoch 30, Loss 0.068\n",
      "Training Accuracy: 0.9380, Testing Accuracy: 0.9496\n",
      "\n"
     ]
    },
    {
     "name": "stdout",
     "output_type": "stream",
     "text": [
      "Epoch 40, Loss 0.0613\n",
      "Training Accuracy: 0.9435, Testing Accuracy: 0.9526\n",
      "\n"
     ]
    },
    {
     "name": "stdout",
     "output_type": "stream",
     "text": [
      "Epoch 50, Loss 0.0567\n",
      "Training Accuracy: 0.9460, Testing Accuracy: 0.9567\n",
      "\n"
     ]
    },
    {
     "name": "stdout",
     "output_type": "stream",
     "text": [
      "Epoch 60, Loss 0.0534\n",
      "Training Accuracy: 0.9475, Testing Accuracy: 0.9582\n",
      "\n"
     ]
    },
    {
     "name": "stdout",
     "output_type": "stream",
     "text": [
      "Epoch 70, Loss 0.0508\n",
      "Training Accuracy: 0.9498, Testing Accuracy: 0.9587\n",
      "\n"
     ]
    },
    {
     "name": "stdout",
     "output_type": "stream",
     "text": [
      "Epoch 80, Loss 0.0488\n",
      "Training Accuracy: 0.9518, Testing Accuracy: 0.9587\n",
      "\n"
     ]
    },
    {
     "name": "stdout",
     "output_type": "stream",
     "text": [
      "Epoch 90, Loss 0.0471\n",
      "Training Accuracy: 0.9529, Testing Accuracy: 0.9587\n",
      "\n"
     ]
    },
    {
     "name": "stdout",
     "output_type": "stream",
     "text": [
      "Epoch 100, Loss 0.0457\n",
      "Training Accuracy: 0.9539, Testing Accuracy: 0.9607\n",
      "\n"
     ]
    },
    {
     "name": "stdout",
     "output_type": "stream",
     "text": [
      "Epoch 110, Loss 0.0445\n",
      "Training Accuracy: 0.9547, Testing Accuracy: 0.9617\n",
      "\n"
     ]
    },
    {
     "name": "stdout",
     "output_type": "stream",
     "text": [
      "Epoch 120, Loss 0.0434\n",
      "Training Accuracy: 0.9554, Testing Accuracy: 0.9637\n",
      "\n"
     ]
    },
    {
     "name": "stdout",
     "output_type": "stream",
     "text": [
      "Epoch 130, Loss 0.0425\n",
      "Training Accuracy: 0.9567, Testing Accuracy: 0.9637\n",
      "\n"
     ]
    },
    {
     "name": "stdout",
     "output_type": "stream",
     "text": [
      "Epoch 140, Loss 0.0417\n",
      "Training Accuracy: 0.9577, Testing Accuracy: 0.9642\n",
      "\n"
     ]
    },
    {
     "name": "stdout",
     "output_type": "stream",
     "text": [
      "Epoch 150, Loss 0.0409\n",
      "Training Accuracy: 0.9584, Testing Accuracy: 0.9647\n",
      "\n"
     ]
    },
    {
     "name": "stdout",
     "output_type": "stream",
     "text": [
      "Epoch 160, Loss 0.0403\n",
      "Training Accuracy: 0.9593, Testing Accuracy: 0.9652\n",
      "\n"
     ]
    },
    {
     "name": "stdout",
     "output_type": "stream",
     "text": [
      "Epoch 170, Loss 0.0397\n",
      "Training Accuracy: 0.9598, Testing Accuracy: 0.9647\n",
      "\n"
     ]
    },
    {
     "name": "stdout",
     "output_type": "stream",
     "text": [
      "Epoch 180, Loss 0.0391\n",
      "Training Accuracy: 0.9608, Testing Accuracy: 0.9652\n",
      "\n"
     ]
    },
    {
     "name": "stdout",
     "output_type": "stream",
     "text": [
      "Epoch 190, Loss 0.0386\n",
      "Training Accuracy: 0.9611, Testing Accuracy: 0.9657\n",
      "\n"
     ]
    },
    {
     "name": "stdout",
     "output_type": "stream",
     "text": [
      "Epoch 200, Loss 0.0381\n",
      "Training Accuracy: 0.9609, Testing Accuracy: 0.9662\n",
      "\n"
     ]
    },
    {
     "name": "stdout",
     "output_type": "stream",
     "text": [
      "Epoch 210, Loss 0.0377\n",
      "Training Accuracy: 0.9612, Testing Accuracy: 0.9662\n",
      "\n"
     ]
    },
    {
     "name": "stdout",
     "output_type": "stream",
     "text": [
      "Epoch 220, Loss 0.0373\n",
      "Training Accuracy: 0.9614, Testing Accuracy: 0.9657\n",
      "\n"
     ]
    },
    {
     "name": "stdout",
     "output_type": "stream",
     "text": [
      "Epoch 230, Loss 0.0369\n",
      "Training Accuracy: 0.9616, Testing Accuracy: 0.9657\n",
      "\n"
     ]
    },
    {
     "name": "stdout",
     "output_type": "stream",
     "text": [
      "Epoch 240, Loss 0.0366\n",
      "Training Accuracy: 0.9619, Testing Accuracy: 0.9657\n",
      "\n"
     ]
    },
    {
     "data": {
      "text/plain": [
       "0.016711627878379418"
      ]
     },
     "execution_count": 23,
     "metadata": {},
     "output_type": "execute_result"
    }
   ],
   "source": [
    "lr_learner.train_loop(dl)"
   ]
  },
  {
   "cell_type": "code",
   "execution_count": 24,
   "id": "ca410940",
   "metadata": {
    "execution": {
     "iopub.execute_input": "2022-02-09T00:26:48.657164Z",
     "iopub.status.busy": "2022-02-09T00:26:48.656651Z",
     "iopub.status.idle": "2022-02-09T00:26:48.865041Z",
     "shell.execute_reply": "2022-02-09T00:26:48.865455Z"
    },
    "papermill": {
     "duration": 0.263407,
     "end_time": "2022-02-09T00:26:48.865591",
     "exception": false,
     "start_time": "2022-02-09T00:26:48.602184",
     "status": "completed"
    },
    "tags": []
   },
   "outputs": [
    {
     "data": {
      "text/plain": [
       "<matplotlib.legend.Legend at 0x7f4da05956d8>"
      ]
     },
     "execution_count": 24,
     "metadata": {},
     "output_type": "execute_result"
    },
    {
     "data": {
      "image/png": "[encoded data removed]",
      "text/plain": [
       "<Figure size 1080x720 with 1 Axes>"
      ]
     },
     "metadata": {
      "needs_background": "light"
     },
     "output_type": "display_data"
    }
   ],
   "source": [
    "#comparing the results of NN and LR\n",
    "plt.figure(figsize=(15,10))\n",
    "\n",
    "# Neural Network plots\n",
    "plt.plot(acc_nn.accuracies, 'r-', label = \"Training Accuracies - NN\")\n",
    "plt.plot(acc_nn.test_accuracies, 'g-', label = \"Testing Accuracies - NN\")\n",
    "\n",
    "# Logistic Regression plots\n",
    "plt.plot(acc_lr.accuracies, 'k-', label = \"Training Accuracies - LR\")\n",
    "plt.plot(acc_lr.test_accuracies, 'b-', label = \"Testing Accuracies - LR\")\n",
    "plt.legend()"
   ]
  },
  {
   "cell_type": "markdown",
   "id": "80dfb35c",
   "metadata": {
    "papermill": {
     "duration": 0.041776,
     "end_time": "2022-02-09T00:26:48.949691",
     "exception": false,
     "start_time": "2022-02-09T00:26:48.907915",
     "status": "completed"
    },
    "tags": []
   },
   "source": [
    "#### Plotting the outputs of this layer of the NN.\n"
   ]
  },
  {
   "cell_type": "code",
   "execution_count": 25,
   "id": "45eb2ff5",
   "metadata": {
    "execution": {
     "iopub.execute_input": "2022-02-09T00:26:49.037405Z",
     "iopub.status.busy": "2022-02-09T00:26:49.036879Z",
     "iopub.status.idle": "2022-02-09T00:26:49.057447Z",
     "shell.execute_reply": "2022-02-09T00:26:49.056999Z"
    },
    "papermill": {
     "duration": 0.066086,
     "end_time": "2022-02-09T00:26:49.057566",
     "exception": false,
     "start_time": "2022-02-09T00:26:48.991480",
     "status": "completed"
    },
    "tags": []
   },
   "outputs": [],
   "source": [
    "new_model = Model(layers[:-2])\n",
    "testing_plot = new_model(testing_data_x)"
   ]
  },
  {
   "cell_type": "code",
   "execution_count": 26,
   "id": "4c0a5485",
   "metadata": {
    "execution": {
     "iopub.execute_input": "2022-02-09T00:26:49.147079Z",
     "iopub.status.busy": "2022-02-09T00:26:49.146560Z",
     "iopub.status.idle": "2022-02-09T00:26:49.334979Z",
     "shell.execute_reply": "2022-02-09T00:26:49.334045Z"
    },
    "papermill": {
     "duration": 0.233917,
     "end_time": "2022-02-09T00:26:49.335107",
     "exception": false,
     "start_time": "2022-02-09T00:26:49.101190",
     "status": "completed"
    },
    "tags": []
   },
   "outputs": [
    {
     "data": {
      "text/plain": [
       "Text(0.5, 1.0, 'Outputs')"
      ]
     },
     "execution_count": 26,
     "metadata": {},
     "output_type": "execute_result"
    },
    {
     "data": {
      "image/png": "[encoded data removed]",
      "text/plain": [
       "<Figure size 576x504 with 1 Axes>"
      ]
     },
     "metadata": {
      "needs_background": "light"
     },
     "output_type": "display_data"
    }
   ],
   "source": [
    "# Plotting the scatter plot of points and color coding by class\n",
    "plt.figure(figsize=(8,7))\n",
    "plt.scatter(testing_plot[:,0], testing_plot[:,1], alpha = 0.1, c = y_test.ravel());\n",
    "plt.title('Outputs')"
   ]
  },
  {
   "cell_type": "markdown",
   "id": "a74fcf8f",
   "metadata": {
    "papermill": {
     "duration": 0.044179,
     "end_time": "2022-02-09T00:26:49.423540",
     "exception": false,
     "start_time": "2022-02-09T00:26:49.379361",
     "status": "completed"
    },
    "tags": []
   },
   "source": [
    "Probability contours"
   ]
  },
  {
   "cell_type": "code",
   "execution_count": 27,
   "id": "d0afc8e3",
   "metadata": {
    "execution": {
     "iopub.execute_input": "2022-02-09T00:26:49.515995Z",
     "iopub.status.busy": "2022-02-09T00:26:49.515458Z",
     "iopub.status.idle": "2022-02-09T00:26:49.527372Z",
     "shell.execute_reply": "2022-02-09T00:26:49.526869Z"
    },
    "papermill": {
     "duration": 0.059976,
     "end_time": "2022-02-09T00:26:49.527479",
     "exception": false,
     "start_time": "2022-02-09T00:26:49.467503",
     "status": "completed"
    },
    "tags": []
   },
   "outputs": [],
   "source": [
    "model_prob = Model(layers[-2:]) "
   ]
  },
  {
   "cell_type": "code",
   "execution_count": 28,
   "id": "9b96e238",
   "metadata": {
    "execution": {
     "iopub.execute_input": "2022-02-09T00:26:49.628686Z",
     "iopub.status.busy": "2022-02-09T00:26:49.626641Z",
     "iopub.status.idle": "2022-02-09T00:26:49.638099Z",
     "shell.execute_reply": "2022-02-09T00:26:49.638504Z"
    },
    "papermill": {
     "duration": 0.067193,
     "end_time": "2022-02-09T00:26:49.638621",
     "exception": false,
     "start_time": "2022-02-09T00:26:49.571428",
     "status": "completed"
    },
    "tags": []
   },
   "outputs": [],
   "source": [
    "#creating the x and y ranges according to the above generated plot.\n",
    "x_range = np.linspace(-4, 1, 100) \n",
    "y_range = np.linspace(-6, 6, 100) \n",
    "x_grid, y_grid = np.meshgrid(x_range, y_range) # x_grid and y_grig are of size 100 X 100\n",
    "\n",
    "# converting x_grid and y_grid to continuous arrays\n",
    "x_gridflat = np.ravel(x_grid)\n",
    "y_gridflat = np.ravel(y_grid)\n",
    "\n",
    "# The last layer of the current model takes two columns as input. Hence transpose of np.vstack() is required.\n",
    "X = np.vstack((x_gridflat, y_gridflat)).T\n",
    "\n",
    "prob_contour = model_prob(X).reshape(100,100) "
   ]
  },
  {
   "cell_type": "code",
   "execution_count": 29,
   "id": "da72499a",
   "metadata": {
    "execution": {
     "iopub.execute_input": "2022-02-09T00:26:49.768661Z",
     "iopub.status.busy": "2022-02-09T00:26:49.766612Z",
     "iopub.status.idle": "2022-02-09T00:26:50.002342Z",
     "shell.execute_reply": "2022-02-09T00:26:50.002752Z"
    },
    "papermill": {
     "duration": 0.320274,
     "end_time": "2022-02-09T00:26:50.002889",
     "exception": false,
     "start_time": "2022-02-09T00:26:49.682615",
     "status": "completed"
    },
    "tags": []
   },
   "outputs": [
    {
     "data": {
      "image/png": "[encoded data removed]",
      "text/plain": [
       "<Figure size 720x648 with 1 Axes>"
      ]
     },
     "metadata": {
      "needs_background": "light"
     },
     "output_type": "display_data"
    }
   ],
   "source": [
    "plt.figure(figsize=(10,9))\n",
    "plt.scatter(testing_plot[:,0], testing_plot[:,1], alpha = 0.1, c = y_test.ravel())\n",
    "contours = plt.contour(x_grid,y_grid,prob_contour)\n",
    "plt.title('Probability Contours')\n",
    "plt.clabel(contours, inline = True );"
   ]
  },
  {
   "cell_type": "code",
   "execution_count": null,
   "id": "e81b4ac7",
   "metadata": {
    "papermill": {
     "duration": 0.046437,
     "end_time": "2022-02-09T00:26:50.096427",
     "exception": false,
     "start_time": "2022-02-09T00:26:50.049990",
     "status": "completed"
    },
    "tags": []
   },
   "outputs": [],
   "source": []
  }
 ],
 "metadata": {
  "kernelspec": {
   "display_name": "Python 3",
   "language": "python",
   "name": "python3"
  },
  "language_info": {
   "codemirror_mode": {
    "name": "ipython",
    "version": 3
   },
   "file_extension": ".py",
   "mimetype": "text/x-python",
   "name": "python",
   "nbconvert_exporter": "python",
   "pygments_lexer": "ipython3",
   "version": "3.6.15"
  },
  "papermill": {
   "default_parameters": {},
   "duration": 96.493745,
   "end_time": "2022-02-09T00:26:50.561617",
   "environment_variables": {},
   "exception": null,
   "input_path": "2020-08-11-part2.ipynb",
   "output_path": "2020-08-11-part2.ipynb",
   "parameters": {},
   "start_time": "2022-02-09T00:25:14.067872",
   "version": "2.3.3"
  }
 },
 "nbformat": 4,
 "nbformat_minor": 5
}