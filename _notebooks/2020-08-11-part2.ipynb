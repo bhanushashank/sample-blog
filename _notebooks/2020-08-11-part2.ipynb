{
 "cells": [
  {
   "cell_type": "markdown",
   "id": "98380cd3",
   "metadata": {
    "papermill": {
     "duration": 0.034823,
     "end_time": "2022-04-29T20:11:14.636227",
     "exception": false,
     "start_time": "2022-04-29T20:11:14.601404",
     "status": "completed"
    },
    "tags": []
   },
   "source": [
    "# Distinguish Your Own Digits (DYOD)"
   ]
  },
  {
   "cell_type": "markdown",
   "id": "ef31240d",
   "metadata": {
    "papermill": {
     "duration": 0.030619,
     "end_time": "2022-04-29T20:11:14.696191",
     "exception": false,
     "start_time": "2022-04-29T20:11:14.665572",
     "status": "completed"
    },
    "tags": []
   },
   "source": [
    "You are going to write a classifier that distinguishes between the number 3 and number 8."
   ]
  },
  {
   "cell_type": "code",
   "execution_count": 1,
   "id": "b15c8646",
   "metadata": {
    "execution": {
     "iopub.execute_input": "2022-04-29T20:11:14.762288Z",
     "iopub.status.busy": "2022-04-29T20:11:14.761644Z",
     "iopub.status.idle": "2022-04-29T20:11:14.772187Z",
     "shell.execute_reply": "2022-04-29T20:11:14.772769Z"
    },
    "papermill": {
     "duration": 0.049523,
     "end_time": "2022-04-29T20:11:14.772925",
     "exception": false,
     "start_time": "2022-04-29T20:11:14.723402",
     "status": "completed"
    },
    "tags": []
   },
   "outputs": [],
   "source": [
    "%load_ext autoreload\n",
    "%autoreload 2"
   ]
  },
  {
   "cell_type": "code",
   "execution_count": 2,
   "id": "22ef38dc",
   "metadata": {
    "execution": {
     "iopub.execute_input": "2022-04-29T20:11:14.839897Z",
     "iopub.status.busy": "2022-04-29T20:11:14.836756Z",
     "iopub.status.idle": "2022-04-29T20:11:15.451728Z",
     "shell.execute_reply": "2022-04-29T20:11:15.451211Z"
    },
    "papermill": {
     "duration": 0.652405,
     "end_time": "2022-04-29T20:11:15.451864",
     "exception": false,
     "start_time": "2022-04-29T20:11:14.799459",
     "status": "completed"
    },
    "tags": []
   },
   "outputs": [],
   "source": [
    "%matplotlib inline\n",
    "import numpy as np\n",
    "import matplotlib.pyplot as plt\n",
    "import pandas as pd"
   ]
  },
  {
   "cell_type": "markdown",
   "id": "ba036198",
   "metadata": {
    "papermill": {
     "duration": 0.031615,
     "end_time": "2022-04-29T20:11:15.511471",
     "exception": false,
     "start_time": "2022-04-29T20:11:15.479856",
     "status": "completed"
    },
    "tags": []
   },
   "source": [
    "From the command line run `pip install mnist`. This is a library that will help you bring down the mnist dataset. If you run this from a notebook, you need to put  `!pip install mnist` in a cell by itself."
   ]
  },
  {
   "cell_type": "code",
   "execution_count": 3,
   "id": "bb6ad8a1",
   "metadata": {
    "execution": {
     "iopub.execute_input": "2022-04-29T20:11:15.592374Z",
     "iopub.status.busy": "2022-04-29T20:11:15.588023Z",
     "iopub.status.idle": "2022-04-29T20:11:18.367717Z",
     "shell.execute_reply": "2022-04-29T20:11:18.367176Z"
    },
    "papermill": {
     "duration": 2.828902,
     "end_time": "2022-04-29T20:11:18.367860",
     "exception": false,
     "start_time": "2022-04-29T20:11:15.538958",
     "status": "completed"
    },
    "tags": []
   },
   "outputs": [
    {
     "name": "stdout",
     "output_type": "stream",
     "text": [
      "Collecting mnist\r\n"
     ]
    },
    {
     "name": "stdout",
     "output_type": "stream",
     "text": [
      "  Downloading mnist-0.2.2-py2.py3-none-any.whl (3.5 kB)\r\n",
      "Requirement already satisfied: numpy in /opt/hostedtoolcache/Python/3.6.15/x64/lib/python3.6/site-packages (from mnist) (1.19.5)\r\n"
     ]
    },
    {
     "name": "stdout",
     "output_type": "stream",
     "text": [
      "Installing collected packages: mnist\r\n"
     ]
    },
    {
     "name": "stdout",
     "output_type": "stream",
     "text": [
      "Successfully installed mnist-0.2.2\r\n"
     ]
    }
   ],
   "source": [
    "!pip install mnist"
   ]
  },
  {
   "cell_type": "markdown",
   "id": "69df9c9a",
   "metadata": {
    "papermill": {
     "duration": 0.027927,
     "end_time": "2022-04-29T20:11:18.424793",
     "exception": false,
     "start_time": "2022-04-29T20:11:18.396866",
     "status": "completed"
    },
    "tags": []
   },
   "source": [
    "## Preparing the Data"
   ]
  },
  {
   "cell_type": "code",
   "execution_count": 4,
   "id": "7f69d806",
   "metadata": {
    "execution": {
     "iopub.execute_input": "2022-04-29T20:11:18.490010Z",
     "iopub.status.busy": "2022-04-29T20:11:18.484254Z",
     "iopub.status.idle": "2022-04-29T20:11:18.501723Z",
     "shell.execute_reply": "2022-04-29T20:11:18.502197Z"
    },
    "papermill": {
     "duration": 0.049251,
     "end_time": "2022-04-29T20:11:18.502326",
     "exception": false,
     "start_time": "2022-04-29T20:11:18.453075",
     "status": "completed"
    },
    "tags": []
   },
   "outputs": [],
   "source": [
    "import mnist"
   ]
  },
  {
   "cell_type": "code",
   "execution_count": 5,
   "id": "a411e44f",
   "metadata": {
    "execution": {
     "iopub.execute_input": "2022-04-29T20:11:18.566982Z",
     "iopub.status.busy": "2022-04-29T20:11:18.562830Z",
     "iopub.status.idle": "2022-04-29T20:11:19.227855Z",
     "shell.execute_reply": "2022-04-29T20:11:19.227326Z"
    },
    "papermill": {
     "duration": 0.697283,
     "end_time": "2022-04-29T20:11:19.227994",
     "exception": false,
     "start_time": "2022-04-29T20:11:18.530711",
     "status": "completed"
    },
    "tags": []
   },
   "outputs": [],
   "source": [
    "train_images = mnist.train_images()\n",
    "train_labels = mnist.train_labels()"
   ]
  },
  {
   "cell_type": "code",
   "execution_count": 6,
   "id": "dceab3a5",
   "metadata": {
    "execution": {
     "iopub.execute_input": "2022-04-29T20:11:19.288754Z",
     "iopub.status.busy": "2022-04-29T20:11:19.288154Z",
     "iopub.status.idle": "2022-04-29T20:11:19.303041Z",
     "shell.execute_reply": "2022-04-29T20:11:19.303610Z"
    },
    "papermill": {
     "duration": 0.04718,
     "end_time": "2022-04-29T20:11:19.303735",
     "exception": false,
     "start_time": "2022-04-29T20:11:19.256555",
     "status": "completed"
    },
    "tags": []
   },
   "outputs": [
    {
     "data": {
      "text/plain": [
       "((60000, 28, 28), (60000,))"
      ]
     },
     "execution_count": 6,
     "metadata": {},
     "output_type": "execute_result"
    }
   ],
   "source": [
    "train_images.shape, train_labels.shape"
   ]
  },
  {
   "cell_type": "code",
   "execution_count": 7,
   "id": "f50dc2bb",
   "metadata": {
    "execution": {
     "iopub.execute_input": "2022-04-29T20:11:19.373631Z",
     "iopub.status.busy": "2022-04-29T20:11:19.373002Z",
     "iopub.status.idle": "2022-04-29T20:11:19.517459Z",
     "shell.execute_reply": "2022-04-29T20:11:19.516860Z"
    },
    "papermill": {
     "duration": 0.185264,
     "end_time": "2022-04-29T20:11:19.517601",
     "exception": false,
     "start_time": "2022-04-29T20:11:19.332337",
     "status": "completed"
    },
    "tags": []
   },
   "outputs": [],
   "source": [
    "test_images = mnist.test_images()\n",
    "test_labels = mnist.test_labels()"
   ]
  },
  {
   "cell_type": "code",
   "execution_count": 8,
   "id": "fc38cf1b",
   "metadata": {
    "execution": {
     "iopub.execute_input": "2022-04-29T20:11:19.581075Z",
     "iopub.status.busy": "2022-04-29T20:11:19.580475Z",
     "iopub.status.idle": "2022-04-29T20:11:19.594192Z",
     "shell.execute_reply": "2022-04-29T20:11:19.594761Z"
    },
    "papermill": {
     "duration": 0.047116,
     "end_time": "2022-04-29T20:11:19.594886",
     "exception": false,
     "start_time": "2022-04-29T20:11:19.547770",
     "status": "completed"
    },
    "tags": []
   },
   "outputs": [
    {
     "data": {
      "text/plain": [
       "((10000, 28, 28), (10000,))"
      ]
     },
     "execution_count": 8,
     "metadata": {},
     "output_type": "execute_result"
    }
   ],
   "source": [
    "test_images.shape, test_labels.shape"
   ]
  },
  {
   "cell_type": "code",
   "execution_count": 9,
   "id": "f9ed8fe0",
   "metadata": {
    "execution": {
     "iopub.execute_input": "2022-04-29T20:11:19.657881Z",
     "iopub.status.busy": "2022-04-29T20:11:19.657282Z",
     "iopub.status.idle": "2022-04-29T20:11:19.820436Z",
     "shell.execute_reply": "2022-04-29T20:11:19.820925Z"
    },
    "papermill": {
     "duration": 0.197498,
     "end_time": "2022-04-29T20:11:19.821070",
     "exception": false,
     "start_time": "2022-04-29T20:11:19.623572",
     "status": "completed"
    },
    "tags": []
   },
   "outputs": [
    {
     "name": "stdout",
     "output_type": "stream",
     "text": [
      "2\n"
     ]
    },
    {
     "data": {
      "text/plain": [
       "<matplotlib.image.AxesImage at 0x7f289d152390>"
      ]
     },
     "execution_count": 9,
     "metadata": {},
     "output_type": "execute_result"
    },
    {
     "data": {
      "image/png": "[encoded data removed]",
      "text/plain": [
       "<Figure size 432x288 with 1 Axes>"
      ]
     },
     "metadata": {
      "needs_background": "light"
     },
     "output_type": "display_data"
    }
   ],
   "source": [
    "image_index = 7776 # You may select anything up to 60,000\n",
    "print(train_labels[image_index]) \n",
    "plt.imshow(train_images[image_index], cmap='Greys')"
   ]
  },
  {
   "cell_type": "markdown",
   "id": "a8d2388d",
   "metadata": {
    "papermill": {
     "duration": 0.030138,
     "end_time": "2022-04-29T20:11:19.881306",
     "exception": false,
     "start_time": "2022-04-29T20:11:19.851168",
     "status": "completed"
    },
    "tags": []
   },
   "source": [
    "## Filter data to get 3 and 8 out"
   ]
  },
  {
   "cell_type": "code",
   "execution_count": 10,
   "id": "776f7fc7",
   "metadata": {
    "execution": {
     "iopub.execute_input": "2022-04-29T20:11:19.946762Z",
     "iopub.status.busy": "2022-04-29T20:11:19.946148Z",
     "iopub.status.idle": "2022-04-29T20:11:19.966263Z",
     "shell.execute_reply": "2022-04-29T20:11:19.965750Z"
    },
    "papermill": {
     "duration": 0.052668,
     "end_time": "2022-04-29T20:11:19.966397",
     "exception": false,
     "start_time": "2022-04-29T20:11:19.913729",
     "status": "completed"
    },
    "tags": []
   },
   "outputs": [],
   "source": [
    "train_filter = np.where((train_labels == 3 ) | (train_labels == 8))\n",
    "test_filter = np.where((test_labels == 3) | (test_labels == 8))\n",
    "X_train, y_train = train_images[train_filter], train_labels[train_filter]\n",
    "X_test, y_test = test_images[test_filter], test_labels[test_filter]"
   ]
  },
  {
   "cell_type": "markdown",
   "id": "948f0b7e",
   "metadata": {
    "papermill": {
     "duration": 0.030364,
     "end_time": "2022-04-29T20:11:20.027849",
     "exception": false,
     "start_time": "2022-04-29T20:11:19.997485",
     "status": "completed"
    },
    "tags": []
   },
   "source": [
    "We normalize the pizel values in the 0 to 1 range"
   ]
  },
  {
   "cell_type": "code",
   "execution_count": 11,
   "id": "ee4c2166",
   "metadata": {
    "execution": {
     "iopub.execute_input": "2022-04-29T20:11:20.097299Z",
     "iopub.status.busy": "2022-04-29T20:11:20.096550Z",
     "iopub.status.idle": "2022-04-29T20:11:20.153120Z",
     "shell.execute_reply": "2022-04-29T20:11:20.153630Z"
    },
    "papermill": {
     "duration": 0.095309,
     "end_time": "2022-04-29T20:11:20.153796",
     "exception": false,
     "start_time": "2022-04-29T20:11:20.058487",
     "status": "completed"
    },
    "tags": []
   },
   "outputs": [],
   "source": [
    "X_train = X_train/255.\n",
    "X_test = X_test/255."
   ]
  },
  {
   "cell_type": "markdown",
   "id": "ddcf4fab",
   "metadata": {
    "papermill": {
     "duration": 0.030985,
     "end_time": "2022-04-29T20:11:20.216764",
     "exception": false,
     "start_time": "2022-04-29T20:11:20.185779",
     "status": "completed"
    },
    "tags": []
   },
   "source": [
    "And setup the labels as 1 (when the digit is 3) and 0 (when the digit is 8)"
   ]
  },
  {
   "cell_type": "code",
   "execution_count": 12,
   "id": "7dc908f2",
   "metadata": {
    "execution": {
     "iopub.execute_input": "2022-04-29T20:11:20.292519Z",
     "iopub.status.busy": "2022-04-29T20:11:20.285833Z",
     "iopub.status.idle": "2022-04-29T20:11:20.295042Z",
     "shell.execute_reply": "2022-04-29T20:11:20.294561Z"
    },
    "papermill": {
     "duration": 0.048875,
     "end_time": "2022-04-29T20:11:20.295158",
     "exception": false,
     "start_time": "2022-04-29T20:11:20.246283",
     "status": "completed"
    },
    "tags": []
   },
   "outputs": [],
   "source": [
    "y_train = 1*(y_train==3)\n",
    "y_test = 1*(y_test==3)"
   ]
  },
  {
   "cell_type": "code",
   "execution_count": 13,
   "id": "01e4e969",
   "metadata": {
    "execution": {
     "iopub.execute_input": "2022-04-29T20:11:20.362341Z",
     "iopub.status.busy": "2022-04-29T20:11:20.361684Z",
     "iopub.status.idle": "2022-04-29T20:11:20.374463Z",
     "shell.execute_reply": "2022-04-29T20:11:20.373872Z"
    },
    "papermill": {
     "duration": 0.045789,
     "end_time": "2022-04-29T20:11:20.374576",
     "exception": false,
     "start_time": "2022-04-29T20:11:20.328787",
     "status": "completed"
    },
    "tags": []
   },
   "outputs": [
    {
     "data": {
      "text/plain": [
       "((11982, 28, 28), (1984, 28, 28))"
      ]
     },
     "execution_count": 13,
     "metadata": {},
     "output_type": "execute_result"
    }
   ],
   "source": [
    "X_train.shape, X_test.shape"
   ]
  },
  {
   "cell_type": "markdown",
   "id": "5ccf3f85",
   "metadata": {
    "papermill": {
     "duration": 0.030344,
     "end_time": "2022-04-29T20:11:20.435450",
     "exception": false,
     "start_time": "2022-04-29T20:11:20.405106",
     "status": "completed"
    },
    "tags": []
   },
   "source": [
    "We reshape the data to flatten the image pixels into a set of features or co-variates:"
   ]
  },
  {
   "cell_type": "code",
   "execution_count": 14,
   "id": "5286a4a3",
   "metadata": {
    "execution": {
     "iopub.execute_input": "2022-04-29T20:11:20.502537Z",
     "iopub.status.busy": "2022-04-29T20:11:20.501904Z",
     "iopub.status.idle": "2022-04-29T20:11:20.518266Z",
     "shell.execute_reply": "2022-04-29T20:11:20.518924Z"
    },
    "papermill": {
     "duration": 0.052717,
     "end_time": "2022-04-29T20:11:20.519086",
     "exception": false,
     "start_time": "2022-04-29T20:11:20.466369",
     "status": "completed"
    },
    "tags": []
   },
   "outputs": [
    {
     "data": {
      "text/plain": [
       "((11982, 784), (1984, 784))"
      ]
     },
     "execution_count": 14,
     "metadata": {},
     "output_type": "execute_result"
    }
   ],
   "source": [
    "X_train = X_train.reshape(X_train.shape[0], -1)\n",
    "X_test = X_test.reshape(X_test.shape[0], -1)\n",
    "X_train.shape, X_test.shape"
   ]
  },
  {
   "cell_type": "code",
   "execution_count": 15,
   "id": "73c5f88a",
   "metadata": {
    "execution": {
     "iopub.execute_input": "2022-04-29T20:11:20.590369Z",
     "iopub.status.busy": "2022-04-29T20:11:20.589701Z",
     "iopub.status.idle": "2022-04-29T20:11:20.607570Z",
     "shell.execute_reply": "2022-04-29T20:11:20.608036Z"
    },
    "papermill": {
     "duration": 0.057404,
     "end_time": "2022-04-29T20:11:20.608179",
     "exception": false,
     "start_time": "2022-04-29T20:11:20.550775",
     "status": "completed"
    },
    "tags": []
   },
   "outputs": [],
   "source": [
    "#Impoting functions from 'Kudzu'\n",
    "from kudzu.model import Model\n",
    "from kudzu.train import Learner\n",
    "from kudzu.optim import GD\n",
    "from kudzu.data import Data, Sampler,Dataloader\n",
    "\n",
    "from kudzu.callbacks import AccCallback\n",
    "from kudzu.callbacks import ClfCallback\n",
    "\n",
    "from kudzu.loss import MSE\n",
    "\n",
    "from kudzu.layer import Sigmoid,Relu\n",
    "from kudzu.layer import Affine"
   ]
  },
  {
   "cell_type": "markdown",
   "id": "bc01172a",
   "metadata": {
    "papermill": {
     "duration": 0.031987,
     "end_time": "2022-04-29T20:11:20.671968",
     "exception": false,
     "start_time": "2022-04-29T20:11:20.639981",
     "status": "completed"
    },
    "tags": []
   },
   "source": [
    "### Let us create a `Config` class, to store important parameters. \n",
    "This class essentially plays the role of a dictionary."
   ]
  },
  {
   "cell_type": "code",
   "execution_count": 16,
   "id": "978281aa",
   "metadata": {
    "execution": {
     "iopub.execute_input": "2022-04-29T20:11:20.740901Z",
     "iopub.status.busy": "2022-04-29T20:11:20.740227Z",
     "iopub.status.idle": "2022-04-29T20:11:20.753265Z",
     "shell.execute_reply": "2022-04-29T20:11:20.752663Z"
    },
    "papermill": {
     "duration": 0.049468,
     "end_time": "2022-04-29T20:11:20.753402",
     "exception": false,
     "start_time": "2022-04-29T20:11:20.703934",
     "status": "completed"
    },
    "tags": []
   },
   "outputs": [],
   "source": [
    "class Config:\n",
    "    pass\n",
    "config = Config()\n",
    "config.lr = 0.001\n",
    "config.num_epochs = 250\n",
    "config.bs = 50"
   ]
  },
  {
   "cell_type": "markdown",
   "id": "1385fa59",
   "metadata": {
    "papermill": {
     "duration": 0.032553,
     "end_time": "2022-04-29T20:11:20.818896",
     "exception": false,
     "start_time": "2022-04-29T20:11:20.786343",
     "status": "completed"
    },
    "tags": []
   },
   "source": [
    "### Running Models with the Training data\n",
    "Details about the network layers:\n",
    "- A first affine layer has 784 inputs and does 100 affine transforms. These are followed by a Relu\n",
    "- A second affine layer has 100 inputs from the 100 activations of the past layer, and does 100 affine transforms. These are followed by a Relu\n",
    "- A third affine layer has 100 activations and does 2 affine transformations to create an embedding for visualization. There is no non-linearity here.\n",
    "- A final \"logistic regression\" which has an affine transform from 2 inputs to 1 output, which is squeezed through a sigmoid.\n"
   ]
  },
  {
   "cell_type": "code",
   "execution_count": 17,
   "id": "2b9c66db",
   "metadata": {
    "execution": {
     "iopub.execute_input": "2022-04-29T20:11:20.891722Z",
     "iopub.status.busy": "2022-04-29T20:11:20.891036Z",
     "iopub.status.idle": "2022-04-29T20:11:20.899536Z",
     "shell.execute_reply": "2022-04-29T20:11:20.898945Z"
    },
    "papermill": {
     "duration": 0.050463,
     "end_time": "2022-04-29T20:11:20.899652",
     "exception": false,
     "start_time": "2022-04-29T20:11:20.849189",
     "status": "completed"
    },
    "tags": []
   },
   "outputs": [],
   "source": [
    "data = Data(X_train, y_train.reshape(-1,1))\n",
    "sampler = Sampler(data, config.bs, shuffle=True)\n",
    "\n",
    "dl = Dataloader(data, sampler)\n",
    "\n",
    "opt = GD(config.lr)\n",
    "loss = MSE()"
   ]
  },
  {
   "cell_type": "code",
   "execution_count": 18,
   "id": "b275e4c2",
   "metadata": {
    "execution": {
     "iopub.execute_input": "2022-04-29T20:11:20.966929Z",
     "iopub.status.busy": "2022-04-29T20:11:20.966328Z",
     "iopub.status.idle": "2022-04-29T20:11:20.978409Z",
     "shell.execute_reply": "2022-04-29T20:11:20.977897Z"
    },
    "papermill": {
     "duration": 0.046491,
     "end_time": "2022-04-29T20:11:20.978522",
     "exception": false,
     "start_time": "2022-04-29T20:11:20.932031",
     "status": "completed"
    },
    "tags": []
   },
   "outputs": [],
   "source": [
    "training_data_x = X_train\n",
    "testing_data_x = X_test\n",
    "training_data_y = y_train.reshape(-1,1)\n",
    "testing_data_y = y_test.reshape(-1,1)"
   ]
  },
  {
   "cell_type": "code",
   "execution_count": 19,
   "id": "76951160",
   "metadata": {
    "execution": {
     "iopub.execute_input": "2022-04-29T20:11:21.045691Z",
     "iopub.status.busy": "2022-04-29T20:11:21.045055Z",
     "iopub.status.idle": "2022-04-29T20:11:21.062487Z",
     "shell.execute_reply": "2022-04-29T20:11:21.063148Z"
    },
    "papermill": {
     "duration": 0.053682,
     "end_time": "2022-04-29T20:11:21.063287",
     "exception": false,
     "start_time": "2022-04-29T20:11:21.009605",
     "status": "completed"
    },
    "tags": []
   },
   "outputs": [
    {
     "name": "stdout",
     "output_type": "stream",
     "text": [
      "xavier\n",
      "xavier\n",
      "xavier\n",
      "xavier\n",
      "xavier\n"
     ]
    }
   ],
   "source": [
    "layers = [Affine(\"first\", 784, 100), Relu(\"first\"), Affine(\"second\", 100, 100), Relu(\"second\"), Affine(\"third\", 100, 2), Affine(\"last\", 2, 1), Sigmoid(\"last\")]\n",
    "model_nn = Model(layers)\n",
    "model_lr = Model([Affine(\"logits\", 784, 1), Sigmoid(\"sigmoid\")])"
   ]
  },
  {
   "cell_type": "code",
   "execution_count": 20,
   "id": "6eede77a",
   "metadata": {
    "execution": {
     "iopub.execute_input": "2022-04-29T20:11:21.131234Z",
     "iopub.status.busy": "2022-04-29T20:11:21.130613Z",
     "iopub.status.idle": "2022-04-29T20:11:21.142934Z",
     "shell.execute_reply": "2022-04-29T20:11:21.143449Z"
    },
    "papermill": {
     "duration": 0.04841,
     "end_time": "2022-04-29T20:11:21.143577",
     "exception": false,
     "start_time": "2022-04-29T20:11:21.095167",
     "status": "completed"
    },
    "tags": []
   },
   "outputs": [],
   "source": [
    "nn_learner = Learner(loss, model_nn, opt, config.num_epochs)\n",
    "acc_nn = ClfCallback(nn_learner, config.bs, training_data_x , testing_data_x, training_data_y, testing_data_y)\n",
    "nn_learner.set_callbacks([acc_nn])"
   ]
  },
  {
   "cell_type": "code",
   "execution_count": 21,
   "id": "877b6cc7",
   "metadata": {
    "execution": {
     "iopub.execute_input": "2022-04-29T20:11:21.208990Z",
     "iopub.status.busy": "2022-04-29T20:11:21.208336Z",
     "iopub.status.idle": "2022-04-29T20:11:21.220334Z",
     "shell.execute_reply": "2022-04-29T20:11:21.219841Z"
    },
    "papermill": {
     "duration": 0.045648,
     "end_time": "2022-04-29T20:11:21.220445",
     "exception": false,
     "start_time": "2022-04-29T20:11:21.174797",
     "status": "completed"
    },
    "tags": []
   },
   "outputs": [],
   "source": [
    "lr_learner = Learner(loss, model_lr, opt, config.num_epochs)\n",
    "acc_lr = ClfCallback(lr_learner, config.bs, training_data_x , testing_data_x, training_data_y, testing_data_y)\n",
    "lr_learner.set_callbacks([acc_lr])"
   ]
  },
  {
   "cell_type": "code",
   "execution_count": 22,
   "id": "d9b133c3",
   "metadata": {
    "execution": {
     "iopub.execute_input": "2022-04-29T20:11:21.300115Z",
     "iopub.status.busy": "2022-04-29T20:11:21.298281Z",
     "iopub.status.idle": "2022-04-29T20:13:22.654414Z",
     "shell.execute_reply": "2022-04-29T20:13:22.655394Z"
    },
    "papermill": {
     "duration": 121.40365,
     "end_time": "2022-04-29T20:13:22.655561",
     "exception": false,
     "start_time": "2022-04-29T20:11:21.251911",
     "status": "completed"
    },
    "tags": []
   },
   "outputs": [
    {
     "name": "stdout",
     "output_type": "stream",
     "text": [
      "Epoch 0, Loss 0.2471\n",
      "Training Accuracy: 0.4895, Testing Accuracy: 0.4934\n",
      "\n"
     ]
    },
    {
     "name": "stdout",
     "output_type": "stream",
     "text": [
      "Epoch 10, Loss 0.162\n",
      "Training Accuracy: 0.9045, Testing Accuracy: 0.9204\n",
      "\n"
     ]
    },
    {
     "name": "stdout",
     "output_type": "stream",
     "text": [
      "Epoch 20, Loss 0.0755\n",
      "Training Accuracy: 0.9341, Testing Accuracy: 0.9446\n",
      "\n"
     ]
    },
    {
     "name": "stdout",
     "output_type": "stream",
     "text": [
      "Epoch 30, Loss 0.052\n",
      "Training Accuracy: 0.9459, Testing Accuracy: 0.9531\n",
      "\n"
     ]
    },
    {
     "name": "stdout",
     "output_type": "stream",
     "text": [
      "Epoch 40, Loss 0.0428\n",
      "Training Accuracy: 0.9527, Testing Accuracy: 0.9587\n",
      "\n"
     ]
    },
    {
     "name": "stdout",
     "output_type": "stream",
     "text": [
      "Epoch 50, Loss 0.0377\n",
      "Training Accuracy: 0.9560, Testing Accuracy: 0.9627\n",
      "\n"
     ]
    },
    {
     "name": "stdout",
     "output_type": "stream",
     "text": [
      "Epoch 60, Loss 0.0345\n",
      "Training Accuracy: 0.9599, Testing Accuracy: 0.9652\n",
      "\n"
     ]
    },
    {
     "name": "stdout",
     "output_type": "stream",
     "text": [
      "Epoch 70, Loss 0.0323\n",
      "Training Accuracy: 0.9624, Testing Accuracy: 0.9652\n",
      "\n"
     ]
    },
    {
     "name": "stdout",
     "output_type": "stream",
     "text": [
      "Epoch 80, Loss 0.0306\n",
      "Training Accuracy: 0.9641, Testing Accuracy: 0.9662\n",
      "\n"
     ]
    },
    {
     "name": "stdout",
     "output_type": "stream",
     "text": [
      "Epoch 90, Loss 0.0292\n",
      "Training Accuracy: 0.9660, Testing Accuracy: 0.9672\n",
      "\n"
     ]
    },
    {
     "name": "stdout",
     "output_type": "stream",
     "text": [
      "Epoch 100, Loss 0.0281\n",
      "Training Accuracy: 0.9675, Testing Accuracy: 0.9677\n",
      "\n"
     ]
    },
    {
     "name": "stdout",
     "output_type": "stream",
     "text": [
      "Epoch 110, Loss 0.0272\n",
      "Training Accuracy: 0.9685, Testing Accuracy: 0.9682\n",
      "\n"
     ]
    },
    {
     "name": "stdout",
     "output_type": "stream",
     "text": [
      "Epoch 120, Loss 0.0264\n",
      "Training Accuracy: 0.9693, Testing Accuracy: 0.9693\n",
      "\n"
     ]
    },
    {
     "name": "stdout",
     "output_type": "stream",
     "text": [
      "Epoch 130, Loss 0.0257\n",
      "Training Accuracy: 0.9698, Testing Accuracy: 0.9698\n",
      "\n"
     ]
    },
    {
     "name": "stdout",
     "output_type": "stream",
     "text": [
      "Epoch 140, Loss 0.0251\n",
      "Training Accuracy: 0.9705, Testing Accuracy: 0.9698\n",
      "\n"
     ]
    },
    {
     "name": "stdout",
     "output_type": "stream",
     "text": [
      "Epoch 150, Loss 0.0245\n",
      "Training Accuracy: 0.9712, Testing Accuracy: 0.9703\n",
      "\n"
     ]
    },
    {
     "name": "stdout",
     "output_type": "stream",
     "text": [
      "Epoch 160, Loss 0.024\n",
      "Training Accuracy: 0.9719, Testing Accuracy: 0.9703\n",
      "\n"
     ]
    },
    {
     "name": "stdout",
     "output_type": "stream",
     "text": [
      "Epoch 170, Loss 0.0235\n",
      "Training Accuracy: 0.9728, Testing Accuracy: 0.9703\n",
      "\n"
     ]
    },
    {
     "name": "stdout",
     "output_type": "stream",
     "text": [
      "Epoch 180, Loss 0.0231\n",
      "Training Accuracy: 0.9735, Testing Accuracy: 0.9713\n",
      "\n"
     ]
    },
    {
     "name": "stdout",
     "output_type": "stream",
     "text": [
      "Epoch 190, Loss 0.0227\n",
      "Training Accuracy: 0.9740, Testing Accuracy: 0.9728\n",
      "\n"
     ]
    },
    {
     "name": "stdout",
     "output_type": "stream",
     "text": [
      "Epoch 200, Loss 0.0223\n",
      "Training Accuracy: 0.9746, Testing Accuracy: 0.9728\n",
      "\n"
     ]
    },
    {
     "name": "stdout",
     "output_type": "stream",
     "text": [
      "Epoch 210, Loss 0.0219\n",
      "Training Accuracy: 0.9750, Testing Accuracy: 0.9733\n",
      "\n"
     ]
    },
    {
     "name": "stdout",
     "output_type": "stream",
     "text": [
      "Epoch 220, Loss 0.0215\n",
      "Training Accuracy: 0.9755, Testing Accuracy: 0.9733\n",
      "\n"
     ]
    },
    {
     "name": "stdout",
     "output_type": "stream",
     "text": [
      "Epoch 230, Loss 0.0212\n",
      "Training Accuracy: 0.9760, Testing Accuracy: 0.9733\n",
      "\n"
     ]
    },
    {
     "name": "stdout",
     "output_type": "stream",
     "text": [
      "Epoch 240, Loss 0.0209\n",
      "Training Accuracy: 0.9763, Testing Accuracy: 0.9733\n",
      "\n"
     ]
    },
    {
     "data": {
      "text/plain": [
       "0.014173153159202196"
      ]
     },
     "execution_count": 22,
     "metadata": {},
     "output_type": "execute_result"
    }
   ],
   "source": [
    "nn_learner.train_loop(dl)"
   ]
  },
  {
   "cell_type": "code",
   "execution_count": 23,
   "id": "e0163366",
   "metadata": {
    "execution": {
     "iopub.execute_input": "2022-04-29T20:13:22.760416Z",
     "iopub.status.busy": "2022-04-29T20:13:22.759746Z",
     "iopub.status.idle": "2022-04-29T20:13:41.047442Z",
     "shell.execute_reply": "2022-04-29T20:13:41.048288Z"
    },
    "papermill": {
     "duration": 18.344124,
     "end_time": "2022-04-29T20:13:41.048443",
     "exception": false,
     "start_time": "2022-04-29T20:13:22.704319",
     "status": "completed"
    },
    "tags": []
   },
   "outputs": [
    {
     "name": "stdout",
     "output_type": "stream",
     "text": [
      "Epoch 0, Loss 0.2907\n",
      "Training Accuracy: 0.4543, Testing Accuracy: 0.4466\n",
      "\n"
     ]
    },
    {
     "name": "stdout",
     "output_type": "stream",
     "text": [
      "Epoch 10, Loss 0.108\n",
      "Training Accuracy: 0.9030, Testing Accuracy: 0.9113\n",
      "\n"
     ]
    },
    {
     "name": "stdout",
     "output_type": "stream",
     "text": [
      "Epoch 20, Loss 0.0813\n",
      "Training Accuracy: 0.9246, Testing Accuracy: 0.9315\n",
      "\n"
     ]
    },
    {
     "name": "stdout",
     "output_type": "stream",
     "text": [
      "Epoch 30, Loss 0.0695\n",
      "Training Accuracy: 0.9347, Testing Accuracy: 0.9441\n",
      "\n"
     ]
    },
    {
     "name": "stdout",
     "output_type": "stream",
     "text": [
      "Epoch 40, Loss 0.0624\n",
      "Training Accuracy: 0.9394, Testing Accuracy: 0.9491\n",
      "\n"
     ]
    },
    {
     "name": "stdout",
     "output_type": "stream",
     "text": [
      "Epoch 50, Loss 0.0577\n",
      "Training Accuracy: 0.9438, Testing Accuracy: 0.9541\n",
      "\n"
     ]
    },
    {
     "name": "stdout",
     "output_type": "stream",
     "text": [
      "Epoch 60, Loss 0.0542\n",
      "Training Accuracy: 0.9477, Testing Accuracy: 0.9556\n",
      "\n"
     ]
    },
    {
     "name": "stdout",
     "output_type": "stream",
     "text": [
      "Epoch 70, Loss 0.0516\n",
      "Training Accuracy: 0.9493, Testing Accuracy: 0.9587\n",
      "\n"
     ]
    },
    {
     "name": "stdout",
     "output_type": "stream",
     "text": [
      "Epoch 80, Loss 0.0494\n",
      "Training Accuracy: 0.9509, Testing Accuracy: 0.9592\n",
      "\n"
     ]
    },
    {
     "name": "stdout",
     "output_type": "stream",
     "text": [
      "Epoch 90, Loss 0.0477\n",
      "Training Accuracy: 0.9521, Testing Accuracy: 0.9597\n",
      "\n"
     ]
    },
    {
     "name": "stdout",
     "output_type": "stream",
     "text": [
      "Epoch 100, Loss 0.0462\n",
      "Training Accuracy: 0.9530, Testing Accuracy: 0.9612\n",
      "\n"
     ]
    },
    {
     "name": "stdout",
     "output_type": "stream",
     "text": [
      "Epoch 110, Loss 0.045\n",
      "Training Accuracy: 0.9541, Testing Accuracy: 0.9622\n",
      "\n"
     ]
    },
    {
     "name": "stdout",
     "output_type": "stream",
     "text": [
      "Epoch 120, Loss 0.0439\n",
      "Training Accuracy: 0.9553, Testing Accuracy: 0.9622\n",
      "\n"
     ]
    },
    {
     "name": "stdout",
     "output_type": "stream",
     "text": [
      "Epoch 130, Loss 0.043\n",
      "Training Accuracy: 0.9563, Testing Accuracy: 0.9632\n",
      "\n"
     ]
    },
    {
     "name": "stdout",
     "output_type": "stream",
     "text": [
      "Epoch 140, Loss 0.0421\n",
      "Training Accuracy: 0.9568, Testing Accuracy: 0.9637\n",
      "\n"
     ]
    },
    {
     "name": "stdout",
     "output_type": "stream",
     "text": [
      "Epoch 150, Loss 0.0414\n",
      "Training Accuracy: 0.9570, Testing Accuracy: 0.9637\n",
      "\n"
     ]
    },
    {
     "name": "stdout",
     "output_type": "stream",
     "text": [
      "Epoch 160, Loss 0.0407\n",
      "Training Accuracy: 0.9574, Testing Accuracy: 0.9637\n",
      "\n"
     ]
    },
    {
     "name": "stdout",
     "output_type": "stream",
     "text": [
      "Epoch 170, Loss 0.0401\n",
      "Training Accuracy: 0.9576, Testing Accuracy: 0.9632\n",
      "\n"
     ]
    },
    {
     "name": "stdout",
     "output_type": "stream",
     "text": [
      "Epoch 180, Loss 0.0395\n",
      "Training Accuracy: 0.9581, Testing Accuracy: 0.9637\n",
      "\n"
     ]
    },
    {
     "name": "stdout",
     "output_type": "stream",
     "text": [
      "Epoch 190, Loss 0.039\n",
      "Training Accuracy: 0.9583, Testing Accuracy: 0.9632\n",
      "\n"
     ]
    },
    {
     "name": "stdout",
     "output_type": "stream",
     "text": [
      "Epoch 200, Loss 0.0385\n",
      "Training Accuracy: 0.9588, Testing Accuracy: 0.9632\n",
      "\n"
     ]
    },
    {
     "name": "stdout",
     "output_type": "stream",
     "text": [
      "Epoch 210, Loss 0.0381\n",
      "Training Accuracy: 0.9593, Testing Accuracy: 0.9632\n",
      "\n"
     ]
    },
    {
     "name": "stdout",
     "output_type": "stream",
     "text": [
      "Epoch 220, Loss 0.0376\n",
      "Training Accuracy: 0.9596, Testing Accuracy: 0.9637\n",
      "\n"
     ]
    },
    {
     "name": "stdout",
     "output_type": "stream",
     "text": [
      "Epoch 230, Loss 0.0373\n",
      "Training Accuracy: 0.9603, Testing Accuracy: 0.9647\n",
      "\n"
     ]
    },
    {
     "name": "stdout",
     "output_type": "stream",
     "text": [
      "Epoch 240, Loss 0.0369\n",
      "Training Accuracy: 0.9605, Testing Accuracy: 0.9647\n",
      "\n"
     ]
    },
    {
     "data": {
      "text/plain": [
       "0.04846711274879088"
      ]
     },
     "execution_count": 23,
     "metadata": {},
     "output_type": "execute_result"
    }
   ],
   "source": [
    "lr_learner.train_loop(dl)"
   ]
  },
  {
   "cell_type": "code",
   "execution_count": 24,
   "id": "ca410940",
   "metadata": {
    "execution": {
     "iopub.execute_input": "2022-04-29T20:13:41.164660Z",
     "iopub.status.busy": "2022-04-29T20:13:41.163366Z",
     "iopub.status.idle": "2022-04-29T20:13:41.428474Z",
     "shell.execute_reply": "2022-04-29T20:13:41.427955Z"
    },
    "papermill": {
     "duration": 0.326391,
     "end_time": "2022-04-29T20:13:41.428606",
     "exception": false,
     "start_time": "2022-04-29T20:13:41.102215",
     "status": "completed"
    },
    "tags": []
   },
   "outputs": [
    {
     "data": {
      "text/plain": [
       "<matplotlib.legend.Legend at 0x7f289cd30b38>"
      ]
     },
     "execution_count": 24,
     "metadata": {},
     "output_type": "execute_result"
    },
    {
     "data": {
      "image/png": "[encoded data removed]",
      "text/plain": [
       "<Figure size 1080x720 with 1 Axes>"
      ]
     },
     "metadata": {
      "needs_background": "light"
     },
     "output_type": "display_data"
    }
   ],
   "source": [
    "#comparing the results of NN and LR\n",
    "plt.figure(figsize=(15,10))\n",
    "\n",
    "# Neural Network plots\n",
    "plt.plot(acc_nn.accuracies, 'r-', label = \"Training Accuracies - NN\")\n",
    "plt.plot(acc_nn.test_accuracies, 'g-', label = \"Testing Accuracies - NN\")\n",
    "\n",
    "# Logistic Regression plots\n",
    "plt.plot(acc_lr.accuracies, 'k-', label = \"Training Accuracies - LR\")\n",
    "plt.plot(acc_lr.test_accuracies, 'b-', label = \"Testing Accuracies - LR\")\n",
    "plt.legend()"
   ]
  },
  {
   "cell_type": "markdown",
   "id": "80dfb35c",
   "metadata": {
    "papermill": {
     "duration": 0.047111,
     "end_time": "2022-04-29T20:13:41.522810",
     "exception": false,
     "start_time": "2022-04-29T20:13:41.475699",
     "status": "completed"
    },
    "tags": []
   },
   "source": [
    "#### Plotting the outputs of this layer of the NN.\n"
   ]
  },
  {
   "cell_type": "code",
   "execution_count": 25,
   "id": "45eb2ff5",
   "metadata": {
    "execution": {
     "iopub.execute_input": "2022-04-29T20:13:41.639195Z",
     "iopub.status.busy": "2022-04-29T20:13:41.630761Z",
     "iopub.status.idle": "2022-04-29T20:13:41.656004Z",
     "shell.execute_reply": "2022-04-29T20:13:41.656784Z"
    },
    "papermill": {
     "duration": 0.084255,
     "end_time": "2022-04-29T20:13:41.656945",
     "exception": false,
     "start_time": "2022-04-29T20:13:41.572690",
     "status": "completed"
    },
    "tags": []
   },
   "outputs": [],
   "source": [
    "new_model = Model(layers[:-2])\n",
    "testing_plot = new_model(testing_data_x)"
   ]
  },
  {
   "cell_type": "code",
   "execution_count": 26,
   "id": "4c0a5485",
   "metadata": {
    "execution": {
     "iopub.execute_input": "2022-04-29T20:13:41.766043Z",
     "iopub.status.busy": "2022-04-29T20:13:41.765436Z",
     "iopub.status.idle": "2022-04-29T20:13:41.981147Z",
     "shell.execute_reply": "2022-04-29T20:13:41.980604Z"
    },
    "papermill": {
     "duration": 0.276449,
     "end_time": "2022-04-29T20:13:41.981288",
     "exception": false,
     "start_time": "2022-04-29T20:13:41.704839",
     "status": "completed"
    },
    "tags": []
   },
   "outputs": [
    {
     "data": {
      "text/plain": [
       "Text(0.5, 1.0, 'Outputs')"
      ]
     },
     "execution_count": 26,
     "metadata": {},
     "output_type": "execute_result"
    },
    {
     "data": {
      "image/png": "[encoded data removed]",
      "text/plain": [
       "<Figure size 576x504 with 1 Axes>"
      ]
     },
     "metadata": {
      "needs_background": "light"
     },
     "output_type": "display_data"
    }
   ],
   "source": [
    "# Plotting the scatter plot of points and color coding by class\n",
    "plt.figure(figsize=(8,7))\n",
    "plt.scatter(testing_plot[:,0], testing_plot[:,1], alpha = 0.1, c = y_test.ravel());\n",
    "plt.title('Outputs')"
   ]
  },
  {
   "cell_type": "markdown",
   "id": "a74fcf8f",
   "metadata": {
    "papermill": {
     "duration": 0.052339,
     "end_time": "2022-04-29T20:13:42.085491",
     "exception": false,
     "start_time": "2022-04-29T20:13:42.033152",
     "status": "completed"
    },
    "tags": []
   },
   "source": [
    "Probability contours"
   ]
  },
  {
   "cell_type": "code",
   "execution_count": 27,
   "id": "d0afc8e3",
   "metadata": {
    "execution": {
     "iopub.execute_input": "2022-04-29T20:13:42.218396Z",
     "iopub.status.busy": "2022-04-29T20:13:42.217672Z",
     "iopub.status.idle": "2022-04-29T20:13:42.230305Z",
     "shell.execute_reply": "2022-04-29T20:13:42.230796Z"
    },
    "papermill": {
     "duration": 0.070397,
     "end_time": "2022-04-29T20:13:42.230937",
     "exception": false,
     "start_time": "2022-04-29T20:13:42.160540",
     "status": "completed"
    },
    "tags": []
   },
   "outputs": [],
   "source": [
    "model_prob = Model(layers[-2:]) "
   ]
  },
  {
   "cell_type": "code",
   "execution_count": 28,
   "id": "9b96e238",
   "metadata": {
    "execution": {
     "iopub.execute_input": "2022-04-29T20:13:42.337572Z",
     "iopub.status.busy": "2022-04-29T20:13:42.336710Z",
     "iopub.status.idle": "2022-04-29T20:13:42.351915Z",
     "shell.execute_reply": "2022-04-29T20:13:42.352372Z"
    },
    "papermill": {
     "duration": 0.070381,
     "end_time": "2022-04-29T20:13:42.352504",
     "exception": false,
     "start_time": "2022-04-29T20:13:42.282123",
     "status": "completed"
    },
    "tags": []
   },
   "outputs": [],
   "source": [
    "#creating the x and y ranges according to the above generated plot.\n",
    "x_range = np.linspace(-4, 1, 100) \n",
    "y_range = np.linspace(-6, 6, 100) \n",
    "x_grid, y_grid = np.meshgrid(x_range, y_range) # x_grid and y_grig are of size 100 X 100\n",
    "\n",
    "# converting x_grid and y_grid to continuous arrays\n",
    "x_gridflat = np.ravel(x_grid)\n",
    "y_gridflat = np.ravel(y_grid)\n",
    "\n",
    "# The last layer of the current model takes two columns as input. Hence transpose of np.vstack() is required.\n",
    "X = np.vstack((x_gridflat, y_gridflat)).T\n",
    "\n",
    "prob_contour = model_prob(X).reshape(100,100) "
   ]
  },
  {
   "cell_type": "code",
   "execution_count": 29,
   "id": "da72499a",
   "metadata": {
    "execution": {
     "iopub.execute_input": "2022-04-29T20:13:42.462367Z",
     "iopub.status.busy": "2022-04-29T20:13:42.461771Z",
     "iopub.status.idle": "2022-04-29T20:13:42.747263Z",
     "shell.execute_reply": "2022-04-29T20:13:42.748123Z"
    },
    "papermill": {
     "duration": 0.342624,
     "end_time": "2022-04-29T20:13:42.748312",
     "exception": false,
     "start_time": "2022-04-29T20:13:42.405688",
     "status": "completed"
    },
    "tags": []
   },
   "outputs": [
    {
     "data": {
      "image/png": "[encoded data removed]",
      "text/plain": [
       "<Figure size 720x648 with 1 Axes>"
      ]
     },
     "metadata": {
      "needs_background": "light"
     },
     "output_type": "display_data"
    }
   ],
   "source": [
    "plt.figure(figsize=(10,9))\n",
    "plt.scatter(testing_plot[:,0], testing_plot[:,1], alpha = 0.1, c = y_test.ravel())\n",
    "contours = plt.contour(x_grid,y_grid,prob_contour)\n",
    "plt.title('Probability Contours')\n",
    "plt.clabel(contours, inline = True );"
   ]
  },
  {
   "cell_type": "code",
   "execution_count": null,
   "id": "e81b4ac7",
   "metadata": {
    "papermill": {
     "duration": 0.052382,
     "end_time": "2022-04-29T20:13:42.854864",
     "exception": false,
     "start_time": "2022-04-29T20:13:42.802482",
     "status": "completed"
    },
    "tags": []
   },
   "outputs": [],
   "source": []
  }
 ],
 "metadata": {
  "kernelspec": {
   "display_name": "Python 3",
   "language": "python",
   "name": "python3"
  },
  "language_info": {
   "codemirror_mode": {
    "name": "ipython",
    "version": 3
   },
   "file_extension": ".py",
   "mimetype": "text/x-python",
   "name": "python",
   "nbconvert_exporter": "python",
   "pygments_lexer": "ipython3",
   "version": "3.6.15"
  },
  "papermill": {
   "default_parameters": {},
   "duration": 150.000545,
   "end_time": "2022-04-29T20:13:43.327581",
   "environment_variables": {},
   "exception": null,
   "input_path": "2020-08-11-part2.ipynb",
   "output_path": "2020-08-11-part2.ipynb",
   "parameters": {},
   "start_time": "2022-04-29T20:11:13.327036",
   "version": "2.3.3"
  }
 },
 "nbformat": 4,
 "nbformat_minor": 5
}