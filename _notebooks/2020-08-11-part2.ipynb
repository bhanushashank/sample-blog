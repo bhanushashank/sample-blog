{
 "cells": [
  {
   "cell_type": "markdown",
   "id": "98380cd3",
   "metadata": {
    "papermill": {
     "duration": 0.033742,
     "end_time": "2022-01-08T00:25:35.523823",
     "exception": false,
     "start_time": "2022-01-08T00:25:35.490081",
     "status": "completed"
    },
    "tags": []
   },
   "source": [
    "# Distinguish Your Own Digits (DYOD)"
   ]
  },
  {
   "cell_type": "markdown",
   "id": "ef31240d",
   "metadata": {
    "papermill": {
     "duration": 0.028235,
     "end_time": "2022-01-08T00:25:35.581198",
     "exception": false,
     "start_time": "2022-01-08T00:25:35.552963",
     "status": "completed"
    },
    "tags": []
   },
   "source": [
    "You are going to write a classifier that distinguishes between the number 3 and number 8."
   ]
  },
  {
   "cell_type": "code",
   "execution_count": 1,
   "id": "b15c8646",
   "metadata": {
    "execution": {
     "iopub.execute_input": "2022-01-08T00:25:35.651487Z",
     "iopub.status.busy": "2022-01-08T00:25:35.650855Z",
     "iopub.status.idle": "2022-01-08T00:25:35.662667Z",
     "shell.execute_reply": "2022-01-08T00:25:35.662118Z"
    },
    "papermill": {
     "duration": 0.053528,
     "end_time": "2022-01-08T00:25:35.662813",
     "exception": false,
     "start_time": "2022-01-08T00:25:35.609285",
     "status": "completed"
    },
    "tags": []
   },
   "outputs": [],
   "source": [
    "%load_ext autoreload\n",
    "%autoreload 2"
   ]
  },
  {
   "cell_type": "code",
   "execution_count": 2,
   "id": "22ef38dc",
   "metadata": {
    "execution": {
     "iopub.execute_input": "2022-01-08T00:25:35.725139Z",
     "iopub.status.busy": "2022-01-08T00:25:35.724518Z",
     "iopub.status.idle": "2022-01-08T00:25:36.403974Z",
     "shell.execute_reply": "2022-01-08T00:25:36.403209Z"
    },
    "papermill": {
     "duration": 0.71304,
     "end_time": "2022-01-08T00:25:36.404167",
     "exception": false,
     "start_time": "2022-01-08T00:25:35.691127",
     "status": "completed"
    },
    "tags": []
   },
   "outputs": [],
   "source": [
    "%matplotlib inline\n",
    "import numpy as np\n",
    "import matplotlib.pyplot as plt\n",
    "import pandas as pd"
   ]
  },
  {
   "cell_type": "markdown",
   "id": "ba036198",
   "metadata": {
    "papermill": {
     "duration": 0.029169,
     "end_time": "2022-01-08T00:25:36.463953",
     "exception": false,
     "start_time": "2022-01-08T00:25:36.434784",
     "status": "completed"
    },
    "tags": []
   },
   "source": [
    "From the command line run `pip install mnist`. This is a library that will help you bring down the mnist dataset. If you run this from a notebook, you need to put  `!pip install mnist` in a cell by itself."
   ]
  },
  {
   "cell_type": "code",
   "execution_count": 3,
   "id": "bb6ad8a1",
   "metadata": {
    "execution": {
     "iopub.execute_input": "2022-01-08T00:25:36.527268Z",
     "iopub.status.busy": "2022-01-08T00:25:36.526602Z",
     "iopub.status.idle": "2022-01-08T00:25:38.465770Z",
     "shell.execute_reply": "2022-01-08T00:25:38.464554Z"
    },
    "papermill": {
     "duration": 1.973795,
     "end_time": "2022-01-08T00:25:38.465927",
     "exception": false,
     "start_time": "2022-01-08T00:25:36.492132",
     "status": "completed"
    },
    "tags": []
   },
   "outputs": [
    {
     "name": "stdout",
     "output_type": "stream",
     "text": [
      "Collecting mnist\r\n",
      "  Downloading mnist-0.2.2-py2.py3-none-any.whl (3.5 kB)\r\n",
      "Requirement already satisfied: numpy in /opt/hostedtoolcache/Python/3.6.15/x64/lib/python3.6/site-packages (from mnist) (1.19.5)\r\n"
     ]
    },
    {
     "name": "stdout",
     "output_type": "stream",
     "text": [
      "Installing collected packages: mnist\r\n"
     ]
    },
    {
     "name": "stdout",
     "output_type": "stream",
     "text": [
      "Successfully installed mnist-0.2.2\r\n"
     ]
    }
   ],
   "source": [
    "!pip install mnist"
   ]
  },
  {
   "cell_type": "markdown",
   "id": "69df9c9a",
   "metadata": {
    "papermill": {
     "duration": 0.029057,
     "end_time": "2022-01-08T00:25:38.524588",
     "exception": false,
     "start_time": "2022-01-08T00:25:38.495531",
     "status": "completed"
    },
    "tags": []
   },
   "source": [
    "## Preparing the Data"
   ]
  },
  {
   "cell_type": "code",
   "execution_count": 4,
   "id": "7f69d806",
   "metadata": {
    "execution": {
     "iopub.execute_input": "2022-01-08T00:25:38.591515Z",
     "iopub.status.busy": "2022-01-08T00:25:38.587515Z",
     "iopub.status.idle": "2022-01-08T00:25:38.602918Z",
     "shell.execute_reply": "2022-01-08T00:25:38.603399Z"
    },
    "papermill": {
     "duration": 0.049383,
     "end_time": "2022-01-08T00:25:38.603553",
     "exception": false,
     "start_time": "2022-01-08T00:25:38.554170",
     "status": "completed"
    },
    "tags": []
   },
   "outputs": [],
   "source": [
    "import mnist"
   ]
  },
  {
   "cell_type": "code",
   "execution_count": 5,
   "id": "a411e44f",
   "metadata": {
    "execution": {
     "iopub.execute_input": "2022-01-08T00:25:38.675136Z",
     "iopub.status.busy": "2022-01-08T00:25:38.671032Z",
     "iopub.status.idle": "2022-01-08T00:25:39.293219Z",
     "shell.execute_reply": "2022-01-08T00:25:39.292654Z"
    },
    "papermill": {
     "duration": 0.660575,
     "end_time": "2022-01-08T00:25:39.293367",
     "exception": false,
     "start_time": "2022-01-08T00:25:38.632792",
     "status": "completed"
    },
    "tags": []
   },
   "outputs": [],
   "source": [
    "train_images = mnist.train_images()\n",
    "train_labels = mnist.train_labels()"
   ]
  },
  {
   "cell_type": "code",
   "execution_count": 6,
   "id": "dceab3a5",
   "metadata": {
    "execution": {
     "iopub.execute_input": "2022-01-08T00:25:39.367096Z",
     "iopub.status.busy": "2022-01-08T00:25:39.363308Z",
     "iopub.status.idle": "2022-01-08T00:25:39.378357Z",
     "shell.execute_reply": "2022-01-08T00:25:39.377840Z"
    },
    "papermill": {
     "duration": 0.055138,
     "end_time": "2022-01-08T00:25:39.378491",
     "exception": false,
     "start_time": "2022-01-08T00:25:39.323353",
     "status": "completed"
    },
    "tags": []
   },
   "outputs": [
    {
     "data": {
      "text/plain": [
       "((60000, 28, 28), (60000,))"
      ]
     },
     "execution_count": 6,
     "metadata": {},
     "output_type": "execute_result"
    }
   ],
   "source": [
    "train_images.shape, train_labels.shape"
   ]
  },
  {
   "cell_type": "code",
   "execution_count": 7,
   "id": "f50dc2bb",
   "metadata": {
    "execution": {
     "iopub.execute_input": "2022-01-08T00:25:39.442487Z",
     "iopub.status.busy": "2022-01-08T00:25:39.441392Z",
     "iopub.status.idle": "2022-01-08T00:25:39.565543Z",
     "shell.execute_reply": "2022-01-08T00:25:39.564706Z"
    },
    "papermill": {
     "duration": 0.15793,
     "end_time": "2022-01-08T00:25:39.565680",
     "exception": false,
     "start_time": "2022-01-08T00:25:39.407750",
     "status": "completed"
    },
    "tags": []
   },
   "outputs": [],
   "source": [
    "test_images = mnist.test_images()\n",
    "test_labels = mnist.test_labels()"
   ]
  },
  {
   "cell_type": "code",
   "execution_count": 8,
   "id": "fc38cf1b",
   "metadata": {
    "execution": {
     "iopub.execute_input": "2022-01-08T00:25:39.631375Z",
     "iopub.status.busy": "2022-01-08T00:25:39.630736Z",
     "iopub.status.idle": "2022-01-08T00:25:39.647734Z",
     "shell.execute_reply": "2022-01-08T00:25:39.647210Z"
    },
    "papermill": {
     "duration": 0.052196,
     "end_time": "2022-01-08T00:25:39.647858",
     "exception": false,
     "start_time": "2022-01-08T00:25:39.595662",
     "status": "completed"
    },
    "tags": []
   },
   "outputs": [
    {
     "data": {
      "text/plain": [
       "((10000, 28, 28), (10000,))"
      ]
     },
     "execution_count": 8,
     "metadata": {},
     "output_type": "execute_result"
    }
   ],
   "source": [
    "test_images.shape, test_labels.shape"
   ]
  },
  {
   "cell_type": "code",
   "execution_count": 9,
   "id": "f9ed8fe0",
   "metadata": {
    "execution": {
     "iopub.execute_input": "2022-01-08T00:25:39.711545Z",
     "iopub.status.busy": "2022-01-08T00:25:39.710944Z",
     "iopub.status.idle": "2022-01-08T00:25:39.881269Z",
     "shell.execute_reply": "2022-01-08T00:25:39.881765Z"
    },
    "papermill": {
     "duration": 0.204504,
     "end_time": "2022-01-08T00:25:39.881915",
     "exception": false,
     "start_time": "2022-01-08T00:25:39.677411",
     "status": "completed"
    },
    "tags": []
   },
   "outputs": [
    {
     "name": "stdout",
     "output_type": "stream",
     "text": [
      "2\n"
     ]
    },
    {
     "data": {
      "text/plain": [
       "<matplotlib.image.AxesImage at 0x7f060e035860>"
      ]
     },
     "execution_count": 9,
     "metadata": {},
     "output_type": "execute_result"
    },
    {
     "data": {
      "image/png": "[encoded data removed]",
      "text/plain": [
       "<Figure size 432x288 with 1 Axes>"
      ]
     },
     "metadata": {
      "needs_background": "light"
     },
     "output_type": "display_data"
    }
   ],
   "source": [
    "image_index = 7776 # You may select anything up to 60,000\n",
    "print(train_labels[image_index]) \n",
    "plt.imshow(train_images[image_index], cmap='Greys')"
   ]
  },
  {
   "cell_type": "markdown",
   "id": "a8d2388d",
   "metadata": {
    "papermill": {
     "duration": 0.031462,
     "end_time": "2022-01-08T00:25:39.944368",
     "exception": false,
     "start_time": "2022-01-08T00:25:39.912906",
     "status": "completed"
    },
    "tags": []
   },
   "source": [
    "## Filter data to get 3 and 8 out"
   ]
  },
  {
   "cell_type": "code",
   "execution_count": 10,
   "id": "776f7fc7",
   "metadata": {
    "execution": {
     "iopub.execute_input": "2022-01-08T00:25:40.011525Z",
     "iopub.status.busy": "2022-01-08T00:25:40.010898Z",
     "iopub.status.idle": "2022-01-08T00:25:40.032653Z",
     "shell.execute_reply": "2022-01-08T00:25:40.032128Z"
    },
    "papermill": {
     "duration": 0.057643,
     "end_time": "2022-01-08T00:25:40.032776",
     "exception": false,
     "start_time": "2022-01-08T00:25:39.975133",
     "status": "completed"
    },
    "tags": []
   },
   "outputs": [],
   "source": [
    "train_filter = np.where((train_labels == 3 ) | (train_labels == 8))\n",
    "test_filter = np.where((test_labels == 3) | (test_labels == 8))\n",
    "X_train, y_train = train_images[train_filter], train_labels[train_filter]\n",
    "X_test, y_test = test_images[test_filter], test_labels[test_filter]"
   ]
  },
  {
   "cell_type": "markdown",
   "id": "948f0b7e",
   "metadata": {
    "papermill": {
     "duration": 0.030715,
     "end_time": "2022-01-08T00:25:40.094410",
     "exception": false,
     "start_time": "2022-01-08T00:25:40.063695",
     "status": "completed"
    },
    "tags": []
   },
   "source": [
    "We normalize the pizel values in the 0 to 1 range"
   ]
  },
  {
   "cell_type": "code",
   "execution_count": 11,
   "id": "ee4c2166",
   "metadata": {
    "execution": {
     "iopub.execute_input": "2022-01-08T00:25:40.163517Z",
     "iopub.status.busy": "2022-01-08T00:25:40.162886Z",
     "iopub.status.idle": "2022-01-08T00:25:40.217057Z",
     "shell.execute_reply": "2022-01-08T00:25:40.216139Z"
    },
    "papermill": {
     "duration": 0.092334,
     "end_time": "2022-01-08T00:25:40.217273",
     "exception": false,
     "start_time": "2022-01-08T00:25:40.124939",
     "status": "completed"
    },
    "tags": []
   },
   "outputs": [],
   "source": [
    "X_train = X_train/255.\n",
    "X_test = X_test/255."
   ]
  },
  {
   "cell_type": "markdown",
   "id": "ddcf4fab",
   "metadata": {
    "papermill": {
     "duration": 0.030769,
     "end_time": "2022-01-08T00:25:40.282131",
     "exception": false,
     "start_time": "2022-01-08T00:25:40.251362",
     "status": "completed"
    },
    "tags": []
   },
   "source": [
    "And setup the labels as 1 (when the digit is 3) and 0 (when the digit is 8)"
   ]
  },
  {
   "cell_type": "code",
   "execution_count": 12,
   "id": "7dc908f2",
   "metadata": {
    "execution": {
     "iopub.execute_input": "2022-01-08T00:25:40.348614Z",
     "iopub.status.busy": "2022-01-08T00:25:40.347987Z",
     "iopub.status.idle": "2022-01-08T00:25:40.362669Z",
     "shell.execute_reply": "2022-01-08T00:25:40.362144Z"
    },
    "papermill": {
     "duration": 0.049868,
     "end_time": "2022-01-08T00:25:40.362801",
     "exception": false,
     "start_time": "2022-01-08T00:25:40.312933",
     "status": "completed"
    },
    "tags": []
   },
   "outputs": [],
   "source": [
    "y_train = 1*(y_train==3)\n",
    "y_test = 1*(y_test==3)"
   ]
  },
  {
   "cell_type": "code",
   "execution_count": 13,
   "id": "01e4e969",
   "metadata": {
    "execution": {
     "iopub.execute_input": "2022-01-08T00:25:40.428390Z",
     "iopub.status.busy": "2022-01-08T00:25:40.427776Z",
     "iopub.status.idle": "2022-01-08T00:25:40.442566Z",
     "shell.execute_reply": "2022-01-08T00:25:40.442017Z"
    },
    "papermill": {
     "duration": 0.049099,
     "end_time": "2022-01-08T00:25:40.442693",
     "exception": false,
     "start_time": "2022-01-08T00:25:40.393594",
     "status": "completed"
    },
    "tags": []
   },
   "outputs": [
    {
     "data": {
      "text/plain": [
       "((11982, 28, 28), (1984, 28, 28))"
      ]
     },
     "execution_count": 13,
     "metadata": {},
     "output_type": "execute_result"
    }
   ],
   "source": [
    "X_train.shape, X_test.shape"
   ]
  },
  {
   "cell_type": "markdown",
   "id": "5ccf3f85",
   "metadata": {
    "papermill": {
     "duration": 0.030999,
     "end_time": "2022-01-08T00:25:40.504665",
     "exception": false,
     "start_time": "2022-01-08T00:25:40.473666",
     "status": "completed"
    },
    "tags": []
   },
   "source": [
    "We reshape the data to flatten the image pixels into a set of features or co-variates:"
   ]
  },
  {
   "cell_type": "code",
   "execution_count": 14,
   "id": "5286a4a3",
   "metadata": {
    "execution": {
     "iopub.execute_input": "2022-01-08T00:25:40.572600Z",
     "iopub.status.busy": "2022-01-08T00:25:40.571994Z",
     "iopub.status.idle": "2022-01-08T00:25:40.589629Z",
     "shell.execute_reply": "2022-01-08T00:25:40.589142Z"
    },
    "papermill": {
     "duration": 0.053519,
     "end_time": "2022-01-08T00:25:40.589751",
     "exception": false,
     "start_time": "2022-01-08T00:25:40.536232",
     "status": "completed"
    },
    "tags": []
   },
   "outputs": [
    {
     "data": {
      "text/plain": [
       "((11982, 784), (1984, 784))"
      ]
     },
     "execution_count": 14,
     "metadata": {},
     "output_type": "execute_result"
    }
   ],
   "source": [
    "X_train = X_train.reshape(X_train.shape[0], -1)\n",
    "X_test = X_test.reshape(X_test.shape[0], -1)\n",
    "X_train.shape, X_test.shape"
   ]
  },
  {
   "cell_type": "code",
   "execution_count": 15,
   "id": "73c5f88a",
   "metadata": {
    "execution": {
     "iopub.execute_input": "2022-01-08T00:25:40.658555Z",
     "iopub.status.busy": "2022-01-08T00:25:40.657911Z",
     "iopub.status.idle": "2022-01-08T00:25:40.679953Z",
     "shell.execute_reply": "2022-01-08T00:25:40.679461Z"
    },
    "papermill": {
     "duration": 0.058961,
     "end_time": "2022-01-08T00:25:40.680081",
     "exception": false,
     "start_time": "2022-01-08T00:25:40.621120",
     "status": "completed"
    },
    "tags": []
   },
   "outputs": [],
   "source": [
    "#Impoting functions from 'Kudzu'\n",
    "from kudzu.model import Model\n",
    "from kudzu.train import Learner\n",
    "from kudzu.optim import GD\n",
    "from kudzu.data import Data, Sampler,Dataloader\n",
    "\n",
    "from kudzu.callbacks import AccCallback\n",
    "from kudzu.callbacks import ClfCallback\n",
    "\n",
    "from kudzu.loss import MSE\n",
    "\n",
    "from kudzu.layer import Sigmoid,Relu\n",
    "from kudzu.layer import Affine"
   ]
  },
  {
   "cell_type": "markdown",
   "id": "bc01172a",
   "metadata": {
    "papermill": {
     "duration": 0.031576,
     "end_time": "2022-01-08T00:25:40.743229",
     "exception": false,
     "start_time": "2022-01-08T00:25:40.711653",
     "status": "completed"
    },
    "tags": []
   },
   "source": [
    "### Let us create a `Config` class, to store important parameters. \n",
    "This class essentially plays the role of a dictionary."
   ]
  },
  {
   "cell_type": "code",
   "execution_count": 16,
   "id": "978281aa",
   "metadata": {
    "execution": {
     "iopub.execute_input": "2022-01-08T00:25:40.811626Z",
     "iopub.status.busy": "2022-01-08T00:25:40.810999Z",
     "iopub.status.idle": "2022-01-08T00:25:40.824754Z",
     "shell.execute_reply": "2022-01-08T00:25:40.824261Z"
    },
    "papermill": {
     "duration": 0.050245,
     "end_time": "2022-01-08T00:25:40.824882",
     "exception": false,
     "start_time": "2022-01-08T00:25:40.774637",
     "status": "completed"
    },
    "tags": []
   },
   "outputs": [],
   "source": [
    "class Config:\n",
    "    pass\n",
    "config = Config()\n",
    "config.lr = 0.001\n",
    "config.num_epochs = 250\n",
    "config.bs = 50"
   ]
  },
  {
   "cell_type": "markdown",
   "id": "1385fa59",
   "metadata": {
    "papermill": {
     "duration": 0.031411,
     "end_time": "2022-01-08T00:25:40.887979",
     "exception": false,
     "start_time": "2022-01-08T00:25:40.856568",
     "status": "completed"
    },
    "tags": []
   },
   "source": [
    "### Running Models with the Training data\n",
    "Details about the network layers:\n",
    "- A first affine layer has 784 inputs and does 100 affine transforms. These are followed by a Relu\n",
    "- A second affine layer has 100 inputs from the 100 activations of the past layer, and does 100 affine transforms. These are followed by a Relu\n",
    "- A third affine layer has 100 activations and does 2 affine transformations to create an embedding for visualization. There is no non-linearity here.\n",
    "- A final \"logistic regression\" which has an affine transform from 2 inputs to 1 output, which is squeezed through a sigmoid.\n"
   ]
  },
  {
   "cell_type": "code",
   "execution_count": 17,
   "id": "2b9c66db",
   "metadata": {
    "execution": {
     "iopub.execute_input": "2022-01-08T00:25:40.955892Z",
     "iopub.status.busy": "2022-01-08T00:25:40.955267Z",
     "iopub.status.idle": "2022-01-08T00:25:40.969025Z",
     "shell.execute_reply": "2022-01-08T00:25:40.968531Z"
    },
    "papermill": {
     "duration": 0.049778,
     "end_time": "2022-01-08T00:25:40.969150",
     "exception": false,
     "start_time": "2022-01-08T00:25:40.919372",
     "status": "completed"
    },
    "tags": []
   },
   "outputs": [],
   "source": [
    "data = Data(X_train, y_train.reshape(-1,1))\n",
    "sampler = Sampler(data, config.bs, shuffle=True)\n",
    "\n",
    "dl = Dataloader(data, sampler)\n",
    "\n",
    "opt = GD(config.lr)\n",
    "loss = MSE()"
   ]
  },
  {
   "cell_type": "code",
   "execution_count": 18,
   "id": "b275e4c2",
   "metadata": {
    "execution": {
     "iopub.execute_input": "2022-01-08T00:25:41.038504Z",
     "iopub.status.busy": "2022-01-08T00:25:41.037828Z",
     "iopub.status.idle": "2022-01-08T00:25:41.052175Z",
     "shell.execute_reply": "2022-01-08T00:25:41.052700Z"
    },
    "papermill": {
     "duration": 0.052035,
     "end_time": "2022-01-08T00:25:41.052846",
     "exception": false,
     "start_time": "2022-01-08T00:25:41.000811",
     "status": "completed"
    },
    "tags": []
   },
   "outputs": [],
   "source": [
    "training_data_x = X_train\n",
    "testing_data_x = X_test\n",
    "training_data_y = y_train.reshape(-1,1)\n",
    "testing_data_y = y_test.reshape(-1,1)"
   ]
  },
  {
   "cell_type": "code",
   "execution_count": 19,
   "id": "76951160",
   "metadata": {
    "execution": {
     "iopub.execute_input": "2022-01-08T00:25:41.122770Z",
     "iopub.status.busy": "2022-01-08T00:25:41.122118Z",
     "iopub.status.idle": "2022-01-08T00:25:41.141522Z",
     "shell.execute_reply": "2022-01-08T00:25:41.141000Z"
    },
    "papermill": {
     "duration": 0.057149,
     "end_time": "2022-01-08T00:25:41.141648",
     "exception": false,
     "start_time": "2022-01-08T00:25:41.084499",
     "status": "completed"
    },
    "tags": []
   },
   "outputs": [
    {
     "name": "stdout",
     "output_type": "stream",
     "text": [
      "xavier\n",
      "xavier\n",
      "xavier\n",
      "xavier\n",
      "xavier\n"
     ]
    }
   ],
   "source": [
    "layers = [Affine(\"first\", 784, 100), Relu(\"first\"), Affine(\"second\", 100, 100), Relu(\"second\"), Affine(\"third\", 100, 2), Affine(\"last\", 2, 1), Sigmoid(\"last\")]\n",
    "model_nn = Model(layers)\n",
    "model_lr = Model([Affine(\"logits\", 784, 1), Sigmoid(\"sigmoid\")])"
   ]
  },
  {
   "cell_type": "code",
   "execution_count": 20,
   "id": "6eede77a",
   "metadata": {
    "execution": {
     "iopub.execute_input": "2022-01-08T00:25:41.210960Z",
     "iopub.status.busy": "2022-01-08T00:25:41.210331Z",
     "iopub.status.idle": "2022-01-08T00:25:41.226755Z",
     "shell.execute_reply": "2022-01-08T00:25:41.226246Z"
    },
    "papermill": {
     "duration": 0.053235,
     "end_time": "2022-01-08T00:25:41.226886",
     "exception": false,
     "start_time": "2022-01-08T00:25:41.173651",
     "status": "completed"
    },
    "tags": []
   },
   "outputs": [],
   "source": [
    "nn_learner = Learner(loss, model_nn, opt, config.num_epochs)\n",
    "acc_nn = ClfCallback(nn_learner, config.bs, training_data_x , testing_data_x, training_data_y, testing_data_y)\n",
    "nn_learner.set_callbacks([acc_nn])"
   ]
  },
  {
   "cell_type": "code",
   "execution_count": 21,
   "id": "877b6cc7",
   "metadata": {
    "execution": {
     "iopub.execute_input": "2022-01-08T00:25:41.296261Z",
     "iopub.status.busy": "2022-01-08T00:25:41.295645Z",
     "iopub.status.idle": "2022-01-08T00:25:41.311382Z",
     "shell.execute_reply": "2022-01-08T00:25:41.310886Z"
    },
    "papermill": {
     "duration": 0.052622,
     "end_time": "2022-01-08T00:25:41.311509",
     "exception": false,
     "start_time": "2022-01-08T00:25:41.258887",
     "status": "completed"
    },
    "tags": []
   },
   "outputs": [],
   "source": [
    "lr_learner = Learner(loss, model_lr, opt, config.num_epochs)\n",
    "acc_lr = ClfCallback(lr_learner, config.bs, training_data_x , testing_data_x, training_data_y, testing_data_y)\n",
    "lr_learner.set_callbacks([acc_lr])"
   ]
  },
  {
   "cell_type": "code",
   "execution_count": 22,
   "id": "d9b133c3",
   "metadata": {
    "execution": {
     "iopub.execute_input": "2022-01-08T00:25:41.380190Z",
     "iopub.status.busy": "2022-01-08T00:25:41.379576Z",
     "iopub.status.idle": "2022-01-08T00:27:09.520337Z",
     "shell.execute_reply": "2022-01-08T00:27:09.521227Z"
    },
    "papermill": {
     "duration": 88.177877,
     "end_time": "2022-01-08T00:27:09.521408",
     "exception": false,
     "start_time": "2022-01-08T00:25:41.343531",
     "status": "completed"
    },
    "tags": []
   },
   "outputs": [
    {
     "name": "stdout",
     "output_type": "stream",
     "text": [
      "Epoch 0, Loss 0.2202\n",
      "Training Accuracy: 0.7853, Testing Accuracy: 0.7918\n",
      "\n"
     ]
    },
    {
     "name": "stdout",
     "output_type": "stream",
     "text": [
      "Epoch 10, Loss 0.0692\n",
      "Training Accuracy: 0.9318, Testing Accuracy: 0.9380\n",
      "\n"
     ]
    },
    {
     "name": "stdout",
     "output_type": "stream",
     "text": [
      "Epoch 20, Loss 0.047\n",
      "Training Accuracy: 0.9498, Testing Accuracy: 0.9556\n",
      "\n"
     ]
    },
    {
     "name": "stdout",
     "output_type": "stream",
     "text": [
      "Epoch 30, Loss 0.039\n",
      "Training Accuracy: 0.9564, Testing Accuracy: 0.9632\n",
      "\n"
     ]
    },
    {
     "name": "stdout",
     "output_type": "stream",
     "text": [
      "Epoch 40, Loss 0.0346\n",
      "Training Accuracy: 0.9605, Testing Accuracy: 0.9657\n",
      "\n"
     ]
    },
    {
     "name": "stdout",
     "output_type": "stream",
     "text": [
      "Epoch 50, Loss 0.0318\n",
      "Training Accuracy: 0.9628, Testing Accuracy: 0.9682\n",
      "\n"
     ]
    },
    {
     "name": "stdout",
     "output_type": "stream",
     "text": [
      "Epoch 60, Loss 0.0298\n",
      "Training Accuracy: 0.9649, Testing Accuracy: 0.9682\n",
      "\n"
     ]
    },
    {
     "name": "stdout",
     "output_type": "stream",
     "text": [
      "Epoch 70, Loss 0.0282\n",
      "Training Accuracy: 0.9671, Testing Accuracy: 0.9693\n",
      "\n"
     ]
    },
    {
     "name": "stdout",
     "output_type": "stream",
     "text": [
      "Epoch 80, Loss 0.0269\n",
      "Training Accuracy: 0.9688, Testing Accuracy: 0.9703\n",
      "\n"
     ]
    },
    {
     "name": "stdout",
     "output_type": "stream",
     "text": [
      "Epoch 90, Loss 0.0258\n",
      "Training Accuracy: 0.9705, Testing Accuracy: 0.9728\n",
      "\n"
     ]
    },
    {
     "name": "stdout",
     "output_type": "stream",
     "text": [
      "Epoch 100, Loss 0.0248\n",
      "Training Accuracy: 0.9715, Testing Accuracy: 0.9738\n",
      "\n"
     ]
    },
    {
     "name": "stdout",
     "output_type": "stream",
     "text": [
      "Epoch 110, Loss 0.024\n",
      "Training Accuracy: 0.9723, Testing Accuracy: 0.9738\n",
      "\n"
     ]
    },
    {
     "name": "stdout",
     "output_type": "stream",
     "text": [
      "Epoch 120, Loss 0.0233\n",
      "Training Accuracy: 0.9734, Testing Accuracy: 0.9738\n",
      "\n"
     ]
    },
    {
     "name": "stdout",
     "output_type": "stream",
     "text": [
      "Epoch 130, Loss 0.0226\n",
      "Training Accuracy: 0.9740, Testing Accuracy: 0.9733\n",
      "\n"
     ]
    },
    {
     "name": "stdout",
     "output_type": "stream",
     "text": [
      "Epoch 140, Loss 0.0219\n",
      "Training Accuracy: 0.9744, Testing Accuracy: 0.9733\n",
      "\n"
     ]
    },
    {
     "name": "stdout",
     "output_type": "stream",
     "text": [
      "Epoch 150, Loss 0.0214\n",
      "Training Accuracy: 0.9748, Testing Accuracy: 0.9728\n",
      "\n"
     ]
    },
    {
     "name": "stdout",
     "output_type": "stream",
     "text": [
      "Epoch 160, Loss 0.0208\n",
      "Training Accuracy: 0.9760, Testing Accuracy: 0.9728\n",
      "\n"
     ]
    },
    {
     "name": "stdout",
     "output_type": "stream",
     "text": [
      "Epoch 170, Loss 0.0203\n",
      "Training Accuracy: 0.9767, Testing Accuracy: 0.9723\n",
      "\n"
     ]
    },
    {
     "name": "stdout",
     "output_type": "stream",
     "text": [
      "Epoch 180, Loss 0.0198\n",
      "Training Accuracy: 0.9774, Testing Accuracy: 0.9723\n",
      "\n"
     ]
    },
    {
     "name": "stdout",
     "output_type": "stream",
     "text": [
      "Epoch 190, Loss 0.0194\n",
      "Training Accuracy: 0.9781, Testing Accuracy: 0.9723\n",
      "\n"
     ]
    },
    {
     "name": "stdout",
     "output_type": "stream",
     "text": [
      "Epoch 200, Loss 0.0189\n",
      "Training Accuracy: 0.9783, Testing Accuracy: 0.9728\n",
      "\n"
     ]
    },
    {
     "name": "stdout",
     "output_type": "stream",
     "text": [
      "Epoch 210, Loss 0.0185\n",
      "Training Accuracy: 0.9792, Testing Accuracy: 0.9738\n",
      "\n"
     ]
    },
    {
     "name": "stdout",
     "output_type": "stream",
     "text": [
      "Epoch 220, Loss 0.0181\n",
      "Training Accuracy: 0.9798, Testing Accuracy: 0.9738\n",
      "\n"
     ]
    },
    {
     "name": "stdout",
     "output_type": "stream",
     "text": [
      "Epoch 230, Loss 0.0177\n",
      "Training Accuracy: 0.9801, Testing Accuracy: 0.9743\n",
      "\n"
     ]
    },
    {
     "name": "stdout",
     "output_type": "stream",
     "text": [
      "Epoch 240, Loss 0.0174\n",
      "Training Accuracy: 0.9806, Testing Accuracy: 0.9748\n",
      "\n"
     ]
    },
    {
     "data": {
      "text/plain": [
       "0.014291932604713243"
      ]
     },
     "execution_count": 22,
     "metadata": {},
     "output_type": "execute_result"
    }
   ],
   "source": [
    "nn_learner.train_loop(dl)"
   ]
  },
  {
   "cell_type": "code",
   "execution_count": 23,
   "id": "e0163366",
   "metadata": {
    "execution": {
     "iopub.execute_input": "2022-01-08T00:27:09.615716Z",
     "iopub.status.busy": "2022-01-08T00:27:09.615099Z",
     "iopub.status.idle": "2022-01-08T00:27:25.184849Z",
     "shell.execute_reply": "2022-01-08T00:27:25.185724Z"
    },
    "papermill": {
     "duration": 15.623564,
     "end_time": "2022-01-08T00:27:25.185892",
     "exception": false,
     "start_time": "2022-01-08T00:27:09.562328",
     "status": "completed"
    },
    "tags": []
   },
   "outputs": [
    {
     "name": "stdout",
     "output_type": "stream",
     "text": [
      "Epoch 0, Loss 0.2546\n",
      "Training Accuracy: 0.6385, Testing Accuracy: 0.6195\n",
      "\n"
     ]
    },
    {
     "name": "stdout",
     "output_type": "stream",
     "text": [
      "Epoch 10, Loss 0.1039\n",
      "Training Accuracy: 0.9120, Testing Accuracy: 0.9239\n",
      "\n"
     ]
    },
    {
     "name": "stdout",
     "output_type": "stream",
     "text": [
      "Epoch 20, Loss 0.0793\n",
      "Training Accuracy: 0.9289, Testing Accuracy: 0.9400\n",
      "\n"
     ]
    },
    {
     "name": "stdout",
     "output_type": "stream",
     "text": [
      "Epoch 30, Loss 0.0682\n",
      "Training Accuracy: 0.9383, Testing Accuracy: 0.9501\n",
      "\n"
     ]
    },
    {
     "name": "stdout",
     "output_type": "stream",
     "text": [
      "Epoch 40, Loss 0.0615\n",
      "Training Accuracy: 0.9417, Testing Accuracy: 0.9556\n",
      "\n"
     ]
    },
    {
     "name": "stdout",
     "output_type": "stream",
     "text": [
      "Epoch 50, Loss 0.057\n",
      "Training Accuracy: 0.9451, Testing Accuracy: 0.9592\n",
      "\n"
     ]
    },
    {
     "name": "stdout",
     "output_type": "stream",
     "text": [
      "Epoch 60, Loss 0.0537\n",
      "Training Accuracy: 0.9485, Testing Accuracy: 0.9617\n",
      "\n"
     ]
    },
    {
     "name": "stdout",
     "output_type": "stream",
     "text": [
      "Epoch 70, Loss 0.0511\n",
      "Training Accuracy: 0.9508, Testing Accuracy: 0.9632\n",
      "\n"
     ]
    },
    {
     "name": "stdout",
     "output_type": "stream",
     "text": [
      "Epoch 80, Loss 0.0491\n",
      "Training Accuracy: 0.9513, Testing Accuracy: 0.9637\n",
      "\n"
     ]
    },
    {
     "name": "stdout",
     "output_type": "stream",
     "text": [
      "Epoch 90, Loss 0.0474\n",
      "Training Accuracy: 0.9527, Testing Accuracy: 0.9637\n",
      "\n"
     ]
    },
    {
     "name": "stdout",
     "output_type": "stream",
     "text": [
      "Epoch 100, Loss 0.046\n",
      "Training Accuracy: 0.9543, Testing Accuracy: 0.9642\n",
      "\n"
     ]
    },
    {
     "name": "stdout",
     "output_type": "stream",
     "text": [
      "Epoch 110, Loss 0.0448\n",
      "Training Accuracy: 0.9547, Testing Accuracy: 0.9642\n",
      "\n"
     ]
    },
    {
     "name": "stdout",
     "output_type": "stream",
     "text": [
      "Epoch 120, Loss 0.0437\n",
      "Training Accuracy: 0.9555, Testing Accuracy: 0.9657\n",
      "\n"
     ]
    },
    {
     "name": "stdout",
     "output_type": "stream",
     "text": [
      "Epoch 130, Loss 0.0428\n",
      "Training Accuracy: 0.9560, Testing Accuracy: 0.9662\n",
      "\n"
     ]
    },
    {
     "name": "stdout",
     "output_type": "stream",
     "text": [
      "Epoch 140, Loss 0.042\n",
      "Training Accuracy: 0.9567, Testing Accuracy: 0.9667\n",
      "\n"
     ]
    },
    {
     "name": "stdout",
     "output_type": "stream",
     "text": [
      "Epoch 150, Loss 0.0412\n",
      "Training Accuracy: 0.9569, Testing Accuracy: 0.9667\n",
      "\n"
     ]
    },
    {
     "name": "stdout",
     "output_type": "stream",
     "text": [
      "Epoch 160, Loss 0.0405\n",
      "Training Accuracy: 0.9578, Testing Accuracy: 0.9672\n",
      "\n"
     ]
    },
    {
     "name": "stdout",
     "output_type": "stream",
     "text": [
      "Epoch 170, Loss 0.0399\n",
      "Training Accuracy: 0.9583, Testing Accuracy: 0.9672\n",
      "\n"
     ]
    },
    {
     "name": "stdout",
     "output_type": "stream",
     "text": [
      "Epoch 180, Loss 0.0394\n",
      "Training Accuracy: 0.9586, Testing Accuracy: 0.9677\n",
      "\n"
     ]
    },
    {
     "name": "stdout",
     "output_type": "stream",
     "text": [
      "Epoch 190, Loss 0.0389\n",
      "Training Accuracy: 0.9588, Testing Accuracy: 0.9682\n",
      "\n"
     ]
    },
    {
     "name": "stdout",
     "output_type": "stream",
     "text": [
      "Epoch 200, Loss 0.0384\n",
      "Training Accuracy: 0.9594, Testing Accuracy: 0.9688\n",
      "\n"
     ]
    },
    {
     "name": "stdout",
     "output_type": "stream",
     "text": [
      "Epoch 210, Loss 0.038\n",
      "Training Accuracy: 0.9596, Testing Accuracy: 0.9693\n",
      "\n"
     ]
    },
    {
     "name": "stdout",
     "output_type": "stream",
     "text": [
      "Epoch 220, Loss 0.0375\n",
      "Training Accuracy: 0.9602, Testing Accuracy: 0.9693\n",
      "\n"
     ]
    },
    {
     "name": "stdout",
     "output_type": "stream",
     "text": [
      "Epoch 230, Loss 0.0372\n",
      "Training Accuracy: 0.9604, Testing Accuracy: 0.9693\n",
      "\n"
     ]
    },
    {
     "name": "stdout",
     "output_type": "stream",
     "text": [
      "Epoch 240, Loss 0.0368\n",
      "Training Accuracy: 0.9604, Testing Accuracy: 0.9693\n",
      "\n"
     ]
    },
    {
     "data": {
      "text/plain": [
       "0.00801541698625308"
      ]
     },
     "execution_count": 23,
     "metadata": {},
     "output_type": "execute_result"
    }
   ],
   "source": [
    "lr_learner.train_loop(dl)"
   ]
  },
  {
   "cell_type": "code",
   "execution_count": 24,
   "id": "ca410940",
   "metadata": {
    "execution": {
     "iopub.execute_input": "2022-01-08T00:27:25.295774Z",
     "iopub.status.busy": "2022-01-08T00:27:25.295148Z",
     "iopub.status.idle": "2022-01-08T00:27:25.568641Z",
     "shell.execute_reply": "2022-01-08T00:27:25.568098Z"
    },
    "papermill": {
     "duration": 0.333868,
     "end_time": "2022-01-08T00:27:25.568776",
     "exception": false,
     "start_time": "2022-01-08T00:27:25.234908",
     "status": "completed"
    },
    "tags": []
   },
   "outputs": [
    {
     "data": {
      "text/plain": [
       "<matplotlib.legend.Legend at 0x7f060dc1e9e8>"
      ]
     },
     "execution_count": 24,
     "metadata": {},
     "output_type": "execute_result"
    },
    {
     "data": {
      "image/png": "[encoded data removed]",
      "text/plain": [
       "<Figure size 1080x720 with 1 Axes>"
      ]
     },
     "metadata": {
      "needs_background": "light"
     },
     "output_type": "display_data"
    }
   ],
   "source": [
    "#comparing the results of NN and LR\n",
    "plt.figure(figsize=(15,10))\n",
    "\n",
    "# Neural Network plots\n",
    "plt.plot(acc_nn.accuracies, 'r-', label = \"Training Accuracies - NN\")\n",
    "plt.plot(acc_nn.test_accuracies, 'g-', label = \"Testing Accuracies - NN\")\n",
    "\n",
    "# Logistic Regression plots\n",
    "plt.plot(acc_lr.accuracies, 'k-', label = \"Training Accuracies - LR\")\n",
    "plt.plot(acc_lr.test_accuracies, 'b-', label = \"Testing Accuracies - LR\")\n",
    "plt.legend()"
   ]
  },
  {
   "cell_type": "markdown",
   "id": "80dfb35c",
   "metadata": {
    "papermill": {
     "duration": 0.04956,
     "end_time": "2022-01-08T00:27:25.669434",
     "exception": false,
     "start_time": "2022-01-08T00:27:25.619874",
     "status": "completed"
    },
    "tags": []
   },
   "source": [
    "#### Plotting the outputs of this layer of the NN.\n"
   ]
  },
  {
   "cell_type": "code",
   "execution_count": 25,
   "id": "45eb2ff5",
   "metadata": {
    "execution": {
     "iopub.execute_input": "2022-01-08T00:27:25.780396Z",
     "iopub.status.busy": "2022-01-08T00:27:25.778921Z",
     "iopub.status.idle": "2022-01-08T00:27:25.798159Z",
     "shell.execute_reply": "2022-01-08T00:27:25.798689Z"
    },
    "papermill": {
     "duration": 0.080018,
     "end_time": "2022-01-08T00:27:25.798840",
     "exception": false,
     "start_time": "2022-01-08T00:27:25.718822",
     "status": "completed"
    },
    "tags": []
   },
   "outputs": [],
   "source": [
    "new_model = Model(layers[:-2])\n",
    "testing_plot = new_model(testing_data_x)"
   ]
  },
  {
   "cell_type": "code",
   "execution_count": 26,
   "id": "4c0a5485",
   "metadata": {
    "execution": {
     "iopub.execute_input": "2022-01-08T00:27:25.954070Z",
     "iopub.status.busy": "2022-01-08T00:27:25.953445Z",
     "iopub.status.idle": "2022-01-08T00:27:26.184971Z",
     "shell.execute_reply": "2022-01-08T00:27:26.184451Z"
    },
    "papermill": {
     "duration": 0.298383,
     "end_time": "2022-01-08T00:27:26.185107",
     "exception": false,
     "start_time": "2022-01-08T00:27:25.886724",
     "status": "completed"
    },
    "tags": []
   },
   "outputs": [
    {
     "data": {
      "text/plain": [
       "Text(0.5, 1.0, 'Outputs')"
      ]
     },
     "execution_count": 26,
     "metadata": {},
     "output_type": "execute_result"
    },
    {
     "data": {
      "image/png": "[encoded data removed]",
      "text/plain": [
       "<Figure size 576x504 with 1 Axes>"
      ]
     },
     "metadata": {
      "needs_background": "light"
     },
     "output_type": "display_data"
    }
   ],
   "source": [
    "# Plotting the scatter plot of points and color coding by class\n",
    "plt.figure(figsize=(8,7))\n",
    "plt.scatter(testing_plot[:,0], testing_plot[:,1], alpha = 0.1, c = y_test.ravel());\n",
    "plt.title('Outputs')"
   ]
  },
  {
   "cell_type": "markdown",
   "id": "a74fcf8f",
   "metadata": {
    "papermill": {
     "duration": 0.051937,
     "end_time": "2022-01-08T00:27:26.289303",
     "exception": false,
     "start_time": "2022-01-08T00:27:26.237366",
     "status": "completed"
    },
    "tags": []
   },
   "source": [
    "Probability contours"
   ]
  },
  {
   "cell_type": "code",
   "execution_count": 27,
   "id": "d0afc8e3",
   "metadata": {
    "execution": {
     "iopub.execute_input": "2022-01-08T00:27:26.398887Z",
     "iopub.status.busy": "2022-01-08T00:27:26.398015Z",
     "iopub.status.idle": "2022-01-08T00:27:26.410611Z",
     "shell.execute_reply": "2022-01-08T00:27:26.411115Z"
    },
    "papermill": {
     "duration": 0.0696,
     "end_time": "2022-01-08T00:27:26.411272",
     "exception": false,
     "start_time": "2022-01-08T00:27:26.341672",
     "status": "completed"
    },
    "tags": []
   },
   "outputs": [],
   "source": [
    "model_prob = Model(layers[-2:]) "
   ]
  },
  {
   "cell_type": "code",
   "execution_count": 28,
   "id": "9b96e238",
   "metadata": {
    "execution": {
     "iopub.execute_input": "2022-01-08T00:27:26.522373Z",
     "iopub.status.busy": "2022-01-08T00:27:26.521709Z",
     "iopub.status.idle": "2022-01-08T00:27:26.537563Z",
     "shell.execute_reply": "2022-01-08T00:27:26.538043Z"
    },
    "papermill": {
     "duration": 0.074618,
     "end_time": "2022-01-08T00:27:26.538208",
     "exception": false,
     "start_time": "2022-01-08T00:27:26.463590",
     "status": "completed"
    },
    "tags": []
   },
   "outputs": [],
   "source": [
    "#creating the x and y ranges according to the above generated plot.\n",
    "x_range = np.linspace(-4, 1, 100) \n",
    "y_range = np.linspace(-6, 6, 100) \n",
    "x_grid, y_grid = np.meshgrid(x_range, y_range) # x_grid and y_grig are of size 100 X 100\n",
    "\n",
    "# converting x_grid and y_grid to continuous arrays\n",
    "x_gridflat = np.ravel(x_grid)\n",
    "y_gridflat = np.ravel(y_grid)\n",
    "\n",
    "# The last layer of the current model takes two columns as input. Hence transpose of np.vstack() is required.\n",
    "X = np.vstack((x_gridflat, y_gridflat)).T\n",
    "\n",
    "prob_contour = model_prob(X).reshape(100,100) "
   ]
  },
  {
   "cell_type": "code",
   "execution_count": 29,
   "id": "da72499a",
   "metadata": {
    "execution": {
     "iopub.execute_input": "2022-01-08T00:27:26.679991Z",
     "iopub.status.busy": "2022-01-08T00:27:26.679316Z",
     "iopub.status.idle": "2022-01-08T00:27:26.964130Z",
     "shell.execute_reply": "2022-01-08T00:27:26.964629Z"
    },
    "papermill": {
     "duration": 0.373336,
     "end_time": "2022-01-08T00:27:26.964791",
     "exception": false,
     "start_time": "2022-01-08T00:27:26.591455",
     "status": "completed"
    },
    "tags": []
   },
   "outputs": [
    {
     "data": {
      "image/png": "[encoded data removed]",
      "text/plain": [
       "<Figure size 720x648 with 1 Axes>"
      ]
     },
     "metadata": {
      "needs_background": "light"
     },
     "output_type": "display_data"
    }
   ],
   "source": [
    "plt.figure(figsize=(10,9))\n",
    "plt.scatter(testing_plot[:,0], testing_plot[:,1], alpha = 0.1, c = y_test.ravel())\n",
    "contours = plt.contour(x_grid,y_grid,prob_contour)\n",
    "plt.title('Probability Contours')\n",
    "plt.clabel(contours, inline = True );"
   ]
  },
  {
   "cell_type": "code",
   "execution_count": null,
   "id": "e81b4ac7",
   "metadata": {
    "papermill": {
     "duration": 0.054803,
     "end_time": "2022-01-08T00:27:27.075039",
     "exception": false,
     "start_time": "2022-01-08T00:27:27.020236",
     "status": "completed"
    },
    "tags": []
   },
   "outputs": [],
   "source": []
  }
 ],
 "metadata": {
  "kernelspec": {
   "display_name": "Python 3",
   "language": "python",
   "name": "python3"
  },
  "language_info": {
   "codemirror_mode": {
    "name": "ipython",
    "version": 3
   },
   "file_extension": ".py",
   "mimetype": "text/x-python",
   "name": "python",
   "nbconvert_exporter": "python",
   "pygments_lexer": "ipython3",
   "version": "3.6.15"
  },
  "papermill": {
   "default_parameters": {},
   "duration": 113.351386,
   "end_time": "2022-01-08T00:27:27.540888",
   "environment_variables": {},
   "exception": null,
   "input_path": "2020-08-11-part2.ipynb",
   "output_path": "2020-08-11-part2.ipynb",
   "parameters": {},
   "start_time": "2022-01-08T00:25:34.189502",
   "version": "2.3.3"
  }
 },
 "nbformat": 4,
 "nbformat_minor": 5
}