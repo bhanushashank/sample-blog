{
 "cells": [
  {
   "cell_type": "markdown",
   "id": "98380cd3",
   "metadata": {
    "papermill": {
     "duration": 0.02818,
     "end_time": "2022-03-06T00:29:49.339029",
     "exception": false,
     "start_time": "2022-03-06T00:29:49.310849",
     "status": "completed"
    },
    "tags": []
   },
   "source": [
    "# Distinguish Your Own Digits (DYOD)"
   ]
  },
  {
   "cell_type": "markdown",
   "id": "ef31240d",
   "metadata": {
    "papermill": {
     "duration": 0.025426,
     "end_time": "2022-03-06T00:29:49.389115",
     "exception": false,
     "start_time": "2022-03-06T00:29:49.363689",
     "status": "completed"
    },
    "tags": []
   },
   "source": [
    "You are going to write a classifier that distinguishes between the number 3 and number 8."
   ]
  },
  {
   "cell_type": "code",
   "execution_count": 1,
   "id": "b15c8646",
   "metadata": {
    "execution": {
     "iopub.execute_input": "2022-03-06T00:29:49.448213Z",
     "iopub.status.busy": "2022-03-06T00:29:49.447648Z",
     "iopub.status.idle": "2022-03-06T00:29:49.458392Z",
     "shell.execute_reply": "2022-03-06T00:29:49.457944Z"
    },
    "papermill": {
     "duration": 0.045497,
     "end_time": "2022-03-06T00:29:49.458537",
     "exception": false,
     "start_time": "2022-03-06T00:29:49.413040",
     "status": "completed"
    },
    "tags": []
   },
   "outputs": [],
   "source": [
    "%load_ext autoreload\n",
    "%autoreload 2"
   ]
  },
  {
   "cell_type": "code",
   "execution_count": 2,
   "id": "22ef38dc",
   "metadata": {
    "execution": {
     "iopub.execute_input": "2022-03-06T00:29:49.513489Z",
     "iopub.status.busy": "2022-03-06T00:29:49.512907Z",
     "iopub.status.idle": "2022-03-06T00:29:50.131309Z",
     "shell.execute_reply": "2022-03-06T00:29:50.130765Z"
    },
    "papermill": {
     "duration": 0.648619,
     "end_time": "2022-03-06T00:29:50.131461",
     "exception": false,
     "start_time": "2022-03-06T00:29:49.482842",
     "status": "completed"
    },
    "tags": []
   },
   "outputs": [],
   "source": [
    "%matplotlib inline\n",
    "import numpy as np\n",
    "import matplotlib.pyplot as plt\n",
    "import pandas as pd"
   ]
  },
  {
   "cell_type": "markdown",
   "id": "ba036198",
   "metadata": {
    "papermill": {
     "duration": 0.024223,
     "end_time": "2022-03-06T00:29:50.180480",
     "exception": false,
     "start_time": "2022-03-06T00:29:50.156257",
     "status": "completed"
    },
    "tags": []
   },
   "source": [
    "From the command line run `pip install mnist`. This is a library that will help you bring down the mnist dataset. If you run this from a notebook, you need to put  `!pip install mnist` in a cell by itself."
   ]
  },
  {
   "cell_type": "code",
   "execution_count": 3,
   "id": "bb6ad8a1",
   "metadata": {
    "execution": {
     "iopub.execute_input": "2022-03-06T00:29:50.234265Z",
     "iopub.status.busy": "2022-03-06T00:29:50.233731Z",
     "iopub.status.idle": "2022-03-06T00:29:52.860526Z",
     "shell.execute_reply": "2022-03-06T00:29:52.861101Z"
    },
    "papermill": {
     "duration": 2.656514,
     "end_time": "2022-03-06T00:29:52.861282",
     "exception": false,
     "start_time": "2022-03-06T00:29:50.204768",
     "status": "completed"
    },
    "tags": []
   },
   "outputs": [
    {
     "name": "stdout",
     "output_type": "stream",
     "text": [
      "Collecting mnist\r\n"
     ]
    },
    {
     "name": "stdout",
     "output_type": "stream",
     "text": [
      "  Downloading mnist-0.2.2-py2.py3-none-any.whl (3.5 kB)\r\n",
      "Requirement already satisfied: numpy in /opt/hostedtoolcache/Python/3.6.15/x64/lib/python3.6/site-packages (from mnist) (1.19.5)\r\n"
     ]
    },
    {
     "name": "stdout",
     "output_type": "stream",
     "text": [
      "Installing collected packages: mnist\r\n",
      "Successfully installed mnist-0.2.2\r\n"
     ]
    }
   ],
   "source": [
    "!pip install mnist"
   ]
  },
  {
   "cell_type": "markdown",
   "id": "69df9c9a",
   "metadata": {
    "papermill": {
     "duration": 0.025119,
     "end_time": "2022-03-06T00:29:52.911860",
     "exception": false,
     "start_time": "2022-03-06T00:29:52.886741",
     "status": "completed"
    },
    "tags": []
   },
   "source": [
    "## Preparing the Data"
   ]
  },
  {
   "cell_type": "code",
   "execution_count": 4,
   "id": "7f69d806",
   "metadata": {
    "execution": {
     "iopub.execute_input": "2022-03-06T00:29:52.978466Z",
     "iopub.status.busy": "2022-03-06T00:29:52.977910Z",
     "iopub.status.idle": "2022-03-06T00:29:52.985852Z",
     "shell.execute_reply": "2022-03-06T00:29:52.985433Z"
    },
    "papermill": {
     "duration": 0.049162,
     "end_time": "2022-03-06T00:29:52.985978",
     "exception": false,
     "start_time": "2022-03-06T00:29:52.936816",
     "status": "completed"
    },
    "tags": []
   },
   "outputs": [],
   "source": [
    "import mnist"
   ]
  },
  {
   "cell_type": "code",
   "execution_count": 5,
   "id": "a411e44f",
   "metadata": {
    "execution": {
     "iopub.execute_input": "2022-03-06T00:29:53.040713Z",
     "iopub.status.busy": "2022-03-06T00:29:53.040174Z",
     "iopub.status.idle": "2022-03-06T00:29:53.619401Z",
     "shell.execute_reply": "2022-03-06T00:29:53.619888Z"
    },
    "papermill": {
     "duration": 0.608924,
     "end_time": "2022-03-06T00:29:53.620066",
     "exception": false,
     "start_time": "2022-03-06T00:29:53.011142",
     "status": "completed"
    },
    "tags": []
   },
   "outputs": [],
   "source": [
    "train_images = mnist.train_images()\n",
    "train_labels = mnist.train_labels()"
   ]
  },
  {
   "cell_type": "code",
   "execution_count": 6,
   "id": "dceab3a5",
   "metadata": {
    "execution": {
     "iopub.execute_input": "2022-03-06T00:29:53.693647Z",
     "iopub.status.busy": "2022-03-06T00:29:53.693066Z",
     "iopub.status.idle": "2022-03-06T00:29:53.696282Z",
     "shell.execute_reply": "2022-03-06T00:29:53.696667Z"
    },
    "papermill": {
     "duration": 0.050583,
     "end_time": "2022-03-06T00:29:53.696812",
     "exception": false,
     "start_time": "2022-03-06T00:29:53.646229",
     "status": "completed"
    },
    "tags": []
   },
   "outputs": [
    {
     "data": {
      "text/plain": [
       "((60000, 28, 28), (60000,))"
      ]
     },
     "execution_count": 6,
     "metadata": {},
     "output_type": "execute_result"
    }
   ],
   "source": [
    "train_images.shape, train_labels.shape"
   ]
  },
  {
   "cell_type": "code",
   "execution_count": 7,
   "id": "f50dc2bb",
   "metadata": {
    "execution": {
     "iopub.execute_input": "2022-03-06T00:29:53.763320Z",
     "iopub.status.busy": "2022-03-06T00:29:53.753691Z",
     "iopub.status.idle": "2022-03-06T00:29:53.978444Z",
     "shell.execute_reply": "2022-03-06T00:29:53.977862Z"
    },
    "papermill": {
     "duration": 0.256279,
     "end_time": "2022-03-06T00:29:53.978585",
     "exception": false,
     "start_time": "2022-03-06T00:29:53.722306",
     "status": "completed"
    },
    "tags": []
   },
   "outputs": [],
   "source": [
    "test_images = mnist.test_images()\n",
    "test_labels = mnist.test_labels()"
   ]
  },
  {
   "cell_type": "code",
   "execution_count": 8,
   "id": "fc38cf1b",
   "metadata": {
    "execution": {
     "iopub.execute_input": "2022-03-06T00:29:54.047001Z",
     "iopub.status.busy": "2022-03-06T00:29:54.046450Z",
     "iopub.status.idle": "2022-03-06T00:29:54.053596Z",
     "shell.execute_reply": "2022-03-06T00:29:54.053146Z"
    },
    "papermill": {
     "duration": 0.049083,
     "end_time": "2022-03-06T00:29:54.053718",
     "exception": false,
     "start_time": "2022-03-06T00:29:54.004635",
     "status": "completed"
    },
    "tags": []
   },
   "outputs": [
    {
     "data": {
      "text/plain": [
       "((10000, 28, 28), (10000,))"
      ]
     },
     "execution_count": 8,
     "metadata": {},
     "output_type": "execute_result"
    }
   ],
   "source": [
    "test_images.shape, test_labels.shape"
   ]
  },
  {
   "cell_type": "code",
   "execution_count": 9,
   "id": "f9ed8fe0",
   "metadata": {
    "execution": {
     "iopub.execute_input": "2022-03-06T00:29:54.109755Z",
     "iopub.status.busy": "2022-03-06T00:29:54.109208Z",
     "iopub.status.idle": "2022-03-06T00:29:54.249620Z",
     "shell.execute_reply": "2022-03-06T00:29:54.249155Z"
    },
    "papermill": {
     "duration": 0.170023,
     "end_time": "2022-03-06T00:29:54.249750",
     "exception": false,
     "start_time": "2022-03-06T00:29:54.079727",
     "status": "completed"
    },
    "tags": []
   },
   "outputs": [
    {
     "name": "stdout",
     "output_type": "stream",
     "text": [
      "2\n"
     ]
    },
    {
     "data": {
      "text/plain": [
       "<matplotlib.image.AxesImage at 0x7f88514cc5f8>"
      ]
     },
     "execution_count": 9,
     "metadata": {},
     "output_type": "execute_result"
    },
    {
     "data": {
      "image/png": "[encoded data removed]",
      "text/plain": [
       "<Figure size 432x288 with 1 Axes>"
      ]
     },
     "metadata": {
      "needs_background": "light"
     },
     "output_type": "display_data"
    }
   ],
   "source": [
    "image_index = 7776 # You may select anything up to 60,000\n",
    "print(train_labels[image_index]) \n",
    "plt.imshow(train_images[image_index], cmap='Greys')"
   ]
  },
  {
   "cell_type": "markdown",
   "id": "a8d2388d",
   "metadata": {
    "papermill": {
     "duration": 0.026802,
     "end_time": "2022-03-06T00:29:54.303416",
     "exception": false,
     "start_time": "2022-03-06T00:29:54.276614",
     "status": "completed"
    },
    "tags": []
   },
   "source": [
    "## Filter data to get 3 and 8 out"
   ]
  },
  {
   "cell_type": "code",
   "execution_count": 10,
   "id": "776f7fc7",
   "metadata": {
    "execution": {
     "iopub.execute_input": "2022-03-06T00:29:54.366209Z",
     "iopub.status.busy": "2022-03-06T00:29:54.365656Z",
     "iopub.status.idle": "2022-03-06T00:29:54.379082Z",
     "shell.execute_reply": "2022-03-06T00:29:54.378656Z"
    },
    "papermill": {
     "duration": 0.049119,
     "end_time": "2022-03-06T00:29:54.379204",
     "exception": false,
     "start_time": "2022-03-06T00:29:54.330085",
     "status": "completed"
    },
    "tags": []
   },
   "outputs": [],
   "source": [
    "train_filter = np.where((train_labels == 3 ) | (train_labels == 8))\n",
    "test_filter = np.where((test_labels == 3) | (test_labels == 8))\n",
    "X_train, y_train = train_images[train_filter], train_labels[train_filter]\n",
    "X_test, y_test = test_images[test_filter], test_labels[test_filter]"
   ]
  },
  {
   "cell_type": "markdown",
   "id": "948f0b7e",
   "metadata": {
    "papermill": {
     "duration": 0.026818,
     "end_time": "2022-03-06T00:29:54.432943",
     "exception": false,
     "start_time": "2022-03-06T00:29:54.406125",
     "status": "completed"
    },
    "tags": []
   },
   "source": [
    "We normalize the pizel values in the 0 to 1 range"
   ]
  },
  {
   "cell_type": "code",
   "execution_count": 11,
   "id": "ee4c2166",
   "metadata": {
    "execution": {
     "iopub.execute_input": "2022-03-06T00:29:54.495557Z",
     "iopub.status.busy": "2022-03-06T00:29:54.494990Z",
     "iopub.status.idle": "2022-03-06T00:29:54.536973Z",
     "shell.execute_reply": "2022-03-06T00:29:54.536420Z"
    },
    "papermill": {
     "duration": 0.077489,
     "end_time": "2022-03-06T00:29:54.537122",
     "exception": false,
     "start_time": "2022-03-06T00:29:54.459633",
     "status": "completed"
    },
    "tags": []
   },
   "outputs": [],
   "source": [
    "X_train = X_train/255.\n",
    "X_test = X_test/255."
   ]
  },
  {
   "cell_type": "markdown",
   "id": "ddcf4fab",
   "metadata": {
    "papermill": {
     "duration": 0.026671,
     "end_time": "2022-03-06T00:29:54.592002",
     "exception": false,
     "start_time": "2022-03-06T00:29:54.565331",
     "status": "completed"
    },
    "tags": []
   },
   "source": [
    "And setup the labels as 1 (when the digit is 3) and 0 (when the digit is 8)"
   ]
  },
  {
   "cell_type": "code",
   "execution_count": 12,
   "id": "7dc908f2",
   "metadata": {
    "execution": {
     "iopub.execute_input": "2022-03-06T00:29:54.650908Z",
     "iopub.status.busy": "2022-03-06T00:29:54.650348Z",
     "iopub.status.idle": "2022-03-06T00:29:54.662354Z",
     "shell.execute_reply": "2022-03-06T00:29:54.661882Z"
    },
    "papermill": {
     "duration": 0.043825,
     "end_time": "2022-03-06T00:29:54.662475",
     "exception": false,
     "start_time": "2022-03-06T00:29:54.618650",
     "status": "completed"
    },
    "tags": []
   },
   "outputs": [],
   "source": [
    "y_train = 1*(y_train==3)\n",
    "y_test = 1*(y_test==3)"
   ]
  },
  {
   "cell_type": "code",
   "execution_count": 13,
   "id": "01e4e969",
   "metadata": {
    "execution": {
     "iopub.execute_input": "2022-03-06T00:29:54.723356Z",
     "iopub.status.busy": "2022-03-06T00:29:54.722817Z",
     "iopub.status.idle": "2022-03-06T00:29:54.734893Z",
     "shell.execute_reply": "2022-03-06T00:29:54.734472Z"
    },
    "papermill": {
     "duration": 0.045688,
     "end_time": "2022-03-06T00:29:54.735016",
     "exception": false,
     "start_time": "2022-03-06T00:29:54.689328",
     "status": "completed"
    },
    "tags": []
   },
   "outputs": [
    {
     "data": {
      "text/plain": [
       "((11982, 28, 28), (1984, 28, 28))"
      ]
     },
     "execution_count": 13,
     "metadata": {},
     "output_type": "execute_result"
    }
   ],
   "source": [
    "X_train.shape, X_test.shape"
   ]
  },
  {
   "cell_type": "markdown",
   "id": "5ccf3f85",
   "metadata": {
    "papermill": {
     "duration": 0.026802,
     "end_time": "2022-03-06T00:29:54.788678",
     "exception": false,
     "start_time": "2022-03-06T00:29:54.761876",
     "status": "completed"
    },
    "tags": []
   },
   "source": [
    "We reshape the data to flatten the image pixels into a set of features or co-variates:"
   ]
  },
  {
   "cell_type": "code",
   "execution_count": 14,
   "id": "5286a4a3",
   "metadata": {
    "execution": {
     "iopub.execute_input": "2022-03-06T00:29:54.849260Z",
     "iopub.status.busy": "2022-03-06T00:29:54.848659Z",
     "iopub.status.idle": "2022-03-06T00:29:54.860966Z",
     "shell.execute_reply": "2022-03-06T00:29:54.861356Z"
    },
    "papermill": {
     "duration": 0.045868,
     "end_time": "2022-03-06T00:29:54.861502",
     "exception": false,
     "start_time": "2022-03-06T00:29:54.815634",
     "status": "completed"
    },
    "tags": []
   },
   "outputs": [
    {
     "data": {
      "text/plain": [
       "((11982, 784), (1984, 784))"
      ]
     },
     "execution_count": 14,
     "metadata": {},
     "output_type": "execute_result"
    }
   ],
   "source": [
    "X_train = X_train.reshape(X_train.shape[0], -1)\n",
    "X_test = X_test.reshape(X_test.shape[0], -1)\n",
    "X_train.shape, X_test.shape"
   ]
  },
  {
   "cell_type": "code",
   "execution_count": 15,
   "id": "73c5f88a",
   "metadata": {
    "execution": {
     "iopub.execute_input": "2022-03-06T00:29:54.920610Z",
     "iopub.status.busy": "2022-03-06T00:29:54.920075Z",
     "iopub.status.idle": "2022-03-06T00:29:54.939516Z",
     "shell.execute_reply": "2022-03-06T00:29:54.939918Z"
    },
    "papermill": {
     "duration": 0.051264,
     "end_time": "2022-03-06T00:29:54.940066",
     "exception": false,
     "start_time": "2022-03-06T00:29:54.888802",
     "status": "completed"
    },
    "tags": []
   },
   "outputs": [],
   "source": [
    "#Impoting functions from 'Kudzu'\n",
    "from kudzu.model import Model\n",
    "from kudzu.train import Learner\n",
    "from kudzu.optim import GD\n",
    "from kudzu.data import Data, Sampler,Dataloader\n",
    "\n",
    "from kudzu.callbacks import AccCallback\n",
    "from kudzu.callbacks import ClfCallback\n",
    "\n",
    "from kudzu.loss import MSE\n",
    "\n",
    "from kudzu.layer import Sigmoid,Relu\n",
    "from kudzu.layer import Affine"
   ]
  },
  {
   "cell_type": "markdown",
   "id": "bc01172a",
   "metadata": {
    "papermill": {
     "duration": 0.027077,
     "end_time": "2022-03-06T00:29:54.994439",
     "exception": false,
     "start_time": "2022-03-06T00:29:54.967362",
     "status": "completed"
    },
    "tags": []
   },
   "source": [
    "### Let us create a `Config` class, to store important parameters. \n",
    "This class essentially plays the role of a dictionary."
   ]
  },
  {
   "cell_type": "code",
   "execution_count": 16,
   "id": "978281aa",
   "metadata": {
    "execution": {
     "iopub.execute_input": "2022-03-06T00:29:55.054224Z",
     "iopub.status.busy": "2022-03-06T00:29:55.053685Z",
     "iopub.status.idle": "2022-03-06T00:29:55.065199Z",
     "shell.execute_reply": "2022-03-06T00:29:55.065628Z"
    },
    "papermill": {
     "duration": 0.044169,
     "end_time": "2022-03-06T00:29:55.065778",
     "exception": false,
     "start_time": "2022-03-06T00:29:55.021609",
     "status": "completed"
    },
    "tags": []
   },
   "outputs": [],
   "source": [
    "class Config:\n",
    "    pass\n",
    "config = Config()\n",
    "config.lr = 0.001\n",
    "config.num_epochs = 250\n",
    "config.bs = 50"
   ]
  },
  {
   "cell_type": "markdown",
   "id": "1385fa59",
   "metadata": {
    "papermill": {
     "duration": 0.027087,
     "end_time": "2022-03-06T00:29:55.120218",
     "exception": false,
     "start_time": "2022-03-06T00:29:55.093131",
     "status": "completed"
    },
    "tags": []
   },
   "source": [
    "### Running Models with the Training data\n",
    "Details about the network layers:\n",
    "- A first affine layer has 784 inputs and does 100 affine transforms. These are followed by a Relu\n",
    "- A second affine layer has 100 inputs from the 100 activations of the past layer, and does 100 affine transforms. These are followed by a Relu\n",
    "- A third affine layer has 100 activations and does 2 affine transformations to create an embedding for visualization. There is no non-linearity here.\n",
    "- A final \"logistic regression\" which has an affine transform from 2 inputs to 1 output, which is squeezed through a sigmoid.\n"
   ]
  },
  {
   "cell_type": "code",
   "execution_count": 17,
   "id": "2b9c66db",
   "metadata": {
    "execution": {
     "iopub.execute_input": "2022-03-06T00:29:55.178795Z",
     "iopub.status.busy": "2022-03-06T00:29:55.178267Z",
     "iopub.status.idle": "2022-03-06T00:29:55.191508Z",
     "shell.execute_reply": "2022-03-06T00:29:55.191083Z"
    },
    "papermill": {
     "duration": 0.044231,
     "end_time": "2022-03-06T00:29:55.191630",
     "exception": false,
     "start_time": "2022-03-06T00:29:55.147399",
     "status": "completed"
    },
    "tags": []
   },
   "outputs": [],
   "source": [
    "data = Data(X_train, y_train.reshape(-1,1))\n",
    "sampler = Sampler(data, config.bs, shuffle=True)\n",
    "\n",
    "dl = Dataloader(data, sampler)\n",
    "\n",
    "opt = GD(config.lr)\n",
    "loss = MSE()"
   ]
  },
  {
   "cell_type": "code",
   "execution_count": 18,
   "id": "b275e4c2",
   "metadata": {
    "execution": {
     "iopub.execute_input": "2022-03-06T00:29:55.261922Z",
     "iopub.status.busy": "2022-03-06T00:29:55.255602Z",
     "iopub.status.idle": "2022-03-06T00:29:55.266525Z",
     "shell.execute_reply": "2022-03-06T00:29:55.266103Z"
    },
    "papermill": {
     "duration": 0.047695,
     "end_time": "2022-03-06T00:29:55.266648",
     "exception": false,
     "start_time": "2022-03-06T00:29:55.218953",
     "status": "completed"
    },
    "tags": []
   },
   "outputs": [],
   "source": [
    "training_data_x = X_train\n",
    "testing_data_x = X_test\n",
    "training_data_y = y_train.reshape(-1,1)\n",
    "testing_data_y = y_test.reshape(-1,1)"
   ]
  },
  {
   "cell_type": "code",
   "execution_count": 19,
   "id": "76951160",
   "metadata": {
    "execution": {
     "iopub.execute_input": "2022-03-06T00:29:55.326209Z",
     "iopub.status.busy": "2022-03-06T00:29:55.325664Z",
     "iopub.status.idle": "2022-03-06T00:29:55.341369Z",
     "shell.execute_reply": "2022-03-06T00:29:55.340921Z"
    },
    "papermill": {
     "duration": 0.047741,
     "end_time": "2022-03-06T00:29:55.341493",
     "exception": false,
     "start_time": "2022-03-06T00:29:55.293752",
     "status": "completed"
    },
    "tags": []
   },
   "outputs": [
    {
     "name": "stdout",
     "output_type": "stream",
     "text": [
      "xavier\n",
      "xavier\n",
      "xavier\n",
      "xavier\n",
      "xavier\n"
     ]
    }
   ],
   "source": [
    "layers = [Affine(\"first\", 784, 100), Relu(\"first\"), Affine(\"second\", 100, 100), Relu(\"second\"), Affine(\"third\", 100, 2), Affine(\"last\", 2, 1), Sigmoid(\"last\")]\n",
    "model_nn = Model(layers)\n",
    "model_lr = Model([Affine(\"logits\", 784, 1), Sigmoid(\"sigmoid\")])"
   ]
  },
  {
   "cell_type": "code",
   "execution_count": 20,
   "id": "6eede77a",
   "metadata": {
    "execution": {
     "iopub.execute_input": "2022-03-06T00:29:55.401893Z",
     "iopub.status.busy": "2022-03-06T00:29:55.401375Z",
     "iopub.status.idle": "2022-03-06T00:29:55.413692Z",
     "shell.execute_reply": "2022-03-06T00:29:55.413244Z"
    },
    "papermill": {
     "duration": 0.044781,
     "end_time": "2022-03-06T00:29:55.413810",
     "exception": false,
     "start_time": "2022-03-06T00:29:55.369029",
     "status": "completed"
    },
    "tags": []
   },
   "outputs": [],
   "source": [
    "nn_learner = Learner(loss, model_nn, opt, config.num_epochs)\n",
    "acc_nn = ClfCallback(nn_learner, config.bs, training_data_x , testing_data_x, training_data_y, testing_data_y)\n",
    "nn_learner.set_callbacks([acc_nn])"
   ]
  },
  {
   "cell_type": "code",
   "execution_count": 21,
   "id": "877b6cc7",
   "metadata": {
    "execution": {
     "iopub.execute_input": "2022-03-06T00:29:55.473271Z",
     "iopub.status.busy": "2022-03-06T00:29:55.472701Z",
     "iopub.status.idle": "2022-03-06T00:29:55.486862Z",
     "shell.execute_reply": "2022-03-06T00:29:55.486435Z"
    },
    "papermill": {
     "duration": 0.045542,
     "end_time": "2022-03-06T00:29:55.486987",
     "exception": false,
     "start_time": "2022-03-06T00:29:55.441445",
     "status": "completed"
    },
    "tags": []
   },
   "outputs": [],
   "source": [
    "lr_learner = Learner(loss, model_lr, opt, config.num_epochs)\n",
    "acc_lr = ClfCallback(lr_learner, config.bs, training_data_x , testing_data_x, training_data_y, testing_data_y)\n",
    "lr_learner.set_callbacks([acc_lr])"
   ]
  },
  {
   "cell_type": "code",
   "execution_count": 22,
   "id": "d9b133c3",
   "metadata": {
    "execution": {
     "iopub.execute_input": "2022-03-06T00:29:55.546001Z",
     "iopub.status.busy": "2022-03-06T00:29:55.545468Z",
     "iopub.status.idle": "2022-03-06T00:31:14.355618Z",
     "shell.execute_reply": "2022-03-06T00:31:14.356371Z"
    },
    "papermill": {
     "duration": 78.841868,
     "end_time": "2022-03-06T00:31:14.356528",
     "exception": false,
     "start_time": "2022-03-06T00:29:55.514660",
     "status": "completed"
    },
    "tags": []
   },
   "outputs": [
    {
     "name": "stdout",
     "output_type": "stream",
     "text": [
      "Epoch 0, Loss 0.2505\n",
      "Training Accuracy: 0.5177, Testing Accuracy: 0.5035\n",
      "\n"
     ]
    },
    {
     "name": "stdout",
     "output_type": "stream",
     "text": [
      "Epoch 10, Loss 0.2083\n",
      "Training Accuracy: 0.8312, Testing Accuracy: 0.8165\n",
      "\n"
     ]
    },
    {
     "name": "stdout",
     "output_type": "stream",
     "text": [
      "Epoch 20, Loss 0.1125\n",
      "Training Accuracy: 0.9047, Testing Accuracy: 0.9148\n",
      "\n"
     ]
    },
    {
     "name": "stdout",
     "output_type": "stream",
     "text": [
      "Epoch 30, Loss 0.0665\n",
      "Training Accuracy: 0.9316, Testing Accuracy: 0.9410\n",
      "\n"
     ]
    },
    {
     "name": "stdout",
     "output_type": "stream",
     "text": [
      "Epoch 40, Loss 0.0505\n",
      "Training Accuracy: 0.9448, Testing Accuracy: 0.9577\n",
      "\n"
     ]
    },
    {
     "name": "stdout",
     "output_type": "stream",
     "text": [
      "Epoch 50, Loss 0.0428\n",
      "Training Accuracy: 0.9514, Testing Accuracy: 0.9627\n",
      "\n"
     ]
    },
    {
     "name": "stdout",
     "output_type": "stream",
     "text": [
      "Epoch 60, Loss 0.0382\n",
      "Training Accuracy: 0.9560, Testing Accuracy: 0.9652\n",
      "\n"
     ]
    },
    {
     "name": "stdout",
     "output_type": "stream",
     "text": [
      "Epoch 70, Loss 0.0351\n",
      "Training Accuracy: 0.9589, Testing Accuracy: 0.9677\n",
      "\n"
     ]
    },
    {
     "name": "stdout",
     "output_type": "stream",
     "text": [
      "Epoch 80, Loss 0.0329\n",
      "Training Accuracy: 0.9609, Testing Accuracy: 0.9677\n",
      "\n"
     ]
    },
    {
     "name": "stdout",
     "output_type": "stream",
     "text": [
      "Epoch 90, Loss 0.0313\n",
      "Training Accuracy: 0.9630, Testing Accuracy: 0.9677\n",
      "\n"
     ]
    },
    {
     "name": "stdout",
     "output_type": "stream",
     "text": [
      "Epoch 100, Loss 0.0299\n",
      "Training Accuracy: 0.9656, Testing Accuracy: 0.9682\n",
      "\n"
     ]
    },
    {
     "name": "stdout",
     "output_type": "stream",
     "text": [
      "Epoch 110, Loss 0.0288\n",
      "Training Accuracy: 0.9664, Testing Accuracy: 0.9677\n",
      "\n"
     ]
    },
    {
     "name": "stdout",
     "output_type": "stream",
     "text": [
      "Epoch 120, Loss 0.0278\n",
      "Training Accuracy: 0.9677, Testing Accuracy: 0.9667\n",
      "\n"
     ]
    },
    {
     "name": "stdout",
     "output_type": "stream",
     "text": [
      "Epoch 130, Loss 0.0269\n",
      "Training Accuracy: 0.9686, Testing Accuracy: 0.9672\n",
      "\n"
     ]
    },
    {
     "name": "stdout",
     "output_type": "stream",
     "text": [
      "Epoch 140, Loss 0.0262\n",
      "Training Accuracy: 0.9695, Testing Accuracy: 0.9667\n",
      "\n"
     ]
    },
    {
     "name": "stdout",
     "output_type": "stream",
     "text": [
      "Epoch 150, Loss 0.0255\n",
      "Training Accuracy: 0.9702, Testing Accuracy: 0.9672\n",
      "\n"
     ]
    },
    {
     "name": "stdout",
     "output_type": "stream",
     "text": [
      "Epoch 160, Loss 0.0249\n",
      "Training Accuracy: 0.9710, Testing Accuracy: 0.9672\n",
      "\n"
     ]
    },
    {
     "name": "stdout",
     "output_type": "stream",
     "text": [
      "Epoch 170, Loss 0.0244\n",
      "Training Accuracy: 0.9715, Testing Accuracy: 0.9672\n",
      "\n"
     ]
    },
    {
     "name": "stdout",
     "output_type": "stream",
     "text": [
      "Epoch 180, Loss 0.0239\n",
      "Training Accuracy: 0.9720, Testing Accuracy: 0.9682\n",
      "\n"
     ]
    },
    {
     "name": "stdout",
     "output_type": "stream",
     "text": [
      "Epoch 190, Loss 0.0234\n",
      "Training Accuracy: 0.9726, Testing Accuracy: 0.9698\n",
      "\n"
     ]
    },
    {
     "name": "stdout",
     "output_type": "stream",
     "text": [
      "Epoch 200, Loss 0.0229\n",
      "Training Accuracy: 0.9730, Testing Accuracy: 0.9693\n",
      "\n"
     ]
    },
    {
     "name": "stdout",
     "output_type": "stream",
     "text": [
      "Epoch 210, Loss 0.0225\n",
      "Training Accuracy: 0.9738, Testing Accuracy: 0.9708\n",
      "\n"
     ]
    },
    {
     "name": "stdout",
     "output_type": "stream",
     "text": [
      "Epoch 220, Loss 0.0221\n",
      "Training Accuracy: 0.9741, Testing Accuracy: 0.9703\n",
      "\n"
     ]
    },
    {
     "name": "stdout",
     "output_type": "stream",
     "text": [
      "Epoch 230, Loss 0.0217\n",
      "Training Accuracy: 0.9746, Testing Accuracy: 0.9708\n",
      "\n"
     ]
    },
    {
     "name": "stdout",
     "output_type": "stream",
     "text": [
      "Epoch 240, Loss 0.0213\n",
      "Training Accuracy: 0.9750, Testing Accuracy: 0.9718\n",
      "\n"
     ]
    },
    {
     "data": {
      "text/plain": [
       "0.010767092065053345"
      ]
     },
     "execution_count": 22,
     "metadata": {},
     "output_type": "execute_result"
    }
   ],
   "source": [
    "nn_learner.train_loop(dl)"
   ]
  },
  {
   "cell_type": "code",
   "execution_count": 23,
   "id": "e0163366",
   "metadata": {
    "execution": {
     "iopub.execute_input": "2022-03-06T00:31:14.435420Z",
     "iopub.status.busy": "2022-03-06T00:31:14.434869Z",
     "iopub.status.idle": "2022-03-06T00:31:28.501810Z",
     "shell.execute_reply": "2022-03-06T00:31:28.502564Z"
    },
    "papermill": {
     "duration": 14.111122,
     "end_time": "2022-03-06T00:31:28.502722",
     "exception": false,
     "start_time": "2022-03-06T00:31:14.391600",
     "status": "completed"
    },
    "tags": []
   },
   "outputs": [
    {
     "name": "stdout",
     "output_type": "stream",
     "text": [
      "Epoch 0, Loss 0.2458\n",
      "Training Accuracy: 0.6920, Testing Accuracy: 0.7253\n",
      "\n"
     ]
    },
    {
     "name": "stdout",
     "output_type": "stream",
     "text": [
      "Epoch 10, Loss 0.1042\n",
      "Training Accuracy: 0.9063, Testing Accuracy: 0.9189\n",
      "\n"
     ]
    },
    {
     "name": "stdout",
     "output_type": "stream",
     "text": [
      "Epoch 20, Loss 0.0802\n",
      "Training Accuracy: 0.9264, Testing Accuracy: 0.9345\n",
      "\n"
     ]
    },
    {
     "name": "stdout",
     "output_type": "stream",
     "text": [
      "Epoch 30, Loss 0.069\n",
      "Training Accuracy: 0.9350, Testing Accuracy: 0.9405\n",
      "\n"
     ]
    },
    {
     "name": "stdout",
     "output_type": "stream",
     "text": [
      "Epoch 40, Loss 0.0623\n",
      "Training Accuracy: 0.9392, Testing Accuracy: 0.9456\n",
      "\n"
     ]
    },
    {
     "name": "stdout",
     "output_type": "stream",
     "text": [
      "Epoch 50, Loss 0.0577\n",
      "Training Accuracy: 0.9429, Testing Accuracy: 0.9511\n",
      "\n"
     ]
    },
    {
     "name": "stdout",
     "output_type": "stream",
     "text": [
      "Epoch 60, Loss 0.0544\n",
      "Training Accuracy: 0.9460, Testing Accuracy: 0.9541\n",
      "\n"
     ]
    },
    {
     "name": "stdout",
     "output_type": "stream",
     "text": [
      "Epoch 70, Loss 0.0518\n",
      "Training Accuracy: 0.9478, Testing Accuracy: 0.9556\n",
      "\n"
     ]
    },
    {
     "name": "stdout",
     "output_type": "stream",
     "text": [
      "Epoch 80, Loss 0.0497\n",
      "Training Accuracy: 0.9492, Testing Accuracy: 0.9582\n",
      "\n"
     ]
    },
    {
     "name": "stdout",
     "output_type": "stream",
     "text": [
      "Epoch 90, Loss 0.048\n",
      "Training Accuracy: 0.9507, Testing Accuracy: 0.9597\n",
      "\n"
     ]
    },
    {
     "name": "stdout",
     "output_type": "stream",
     "text": [
      "Epoch 100, Loss 0.0465\n",
      "Training Accuracy: 0.9517, Testing Accuracy: 0.9612\n",
      "\n"
     ]
    },
    {
     "name": "stdout",
     "output_type": "stream",
     "text": [
      "Epoch 110, Loss 0.0453\n",
      "Training Accuracy: 0.9528, Testing Accuracy: 0.9622\n",
      "\n"
     ]
    },
    {
     "name": "stdout",
     "output_type": "stream",
     "text": [
      "Epoch 120, Loss 0.0442\n",
      "Training Accuracy: 0.9538, Testing Accuracy: 0.9627\n",
      "\n"
     ]
    },
    {
     "name": "stdout",
     "output_type": "stream",
     "text": [
      "Epoch 130, Loss 0.0432\n",
      "Training Accuracy: 0.9548, Testing Accuracy: 0.9632\n",
      "\n"
     ]
    },
    {
     "name": "stdout",
     "output_type": "stream",
     "text": [
      "Epoch 140, Loss 0.0424\n",
      "Training Accuracy: 0.9559, Testing Accuracy: 0.9632\n",
      "\n"
     ]
    },
    {
     "name": "stdout",
     "output_type": "stream",
     "text": [
      "Epoch 150, Loss 0.0416\n",
      "Training Accuracy: 0.9564, Testing Accuracy: 0.9637\n",
      "\n"
     ]
    },
    {
     "name": "stdout",
     "output_type": "stream",
     "text": [
      "Epoch 160, Loss 0.0409\n",
      "Training Accuracy: 0.9569, Testing Accuracy: 0.9642\n",
      "\n"
     ]
    },
    {
     "name": "stdout",
     "output_type": "stream",
     "text": [
      "Epoch 170, Loss 0.0403\n",
      "Training Accuracy: 0.9574, Testing Accuracy: 0.9642\n",
      "\n"
     ]
    },
    {
     "name": "stdout",
     "output_type": "stream",
     "text": [
      "Epoch 180, Loss 0.0398\n",
      "Training Accuracy: 0.9579, Testing Accuracy: 0.9632\n",
      "\n"
     ]
    },
    {
     "name": "stdout",
     "output_type": "stream",
     "text": [
      "Epoch 190, Loss 0.0392\n",
      "Training Accuracy: 0.9580, Testing Accuracy: 0.9632\n",
      "\n"
     ]
    },
    {
     "name": "stdout",
     "output_type": "stream",
     "text": [
      "Epoch 200, Loss 0.0387\n",
      "Training Accuracy: 0.9584, Testing Accuracy: 0.9637\n",
      "\n"
     ]
    },
    {
     "name": "stdout",
     "output_type": "stream",
     "text": [
      "Epoch 210, Loss 0.0383\n",
      "Training Accuracy: 0.9592, Testing Accuracy: 0.9637\n",
      "\n"
     ]
    },
    {
     "name": "stdout",
     "output_type": "stream",
     "text": [
      "Epoch 220, Loss 0.0379\n",
      "Training Accuracy: 0.9596, Testing Accuracy: 0.9642\n",
      "\n"
     ]
    },
    {
     "name": "stdout",
     "output_type": "stream",
     "text": [
      "Epoch 230, Loss 0.0375\n",
      "Training Accuracy: 0.9599, Testing Accuracy: 0.9642\n",
      "\n"
     ]
    },
    {
     "name": "stdout",
     "output_type": "stream",
     "text": [
      "Epoch 240, Loss 0.0371\n",
      "Training Accuracy: 0.9601, Testing Accuracy: 0.9642\n",
      "\n"
     ]
    },
    {
     "data": {
      "text/plain": [
       "0.02048425330044677"
      ]
     },
     "execution_count": 23,
     "metadata": {},
     "output_type": "execute_result"
    }
   ],
   "source": [
    "lr_learner.train_loop(dl)"
   ]
  },
  {
   "cell_type": "code",
   "execution_count": 24,
   "id": "ca410940",
   "metadata": {
    "execution": {
     "iopub.execute_input": "2022-03-06T00:31:28.594380Z",
     "iopub.status.busy": "2022-03-06T00:31:28.593817Z",
     "iopub.status.idle": "2022-03-06T00:31:28.817937Z",
     "shell.execute_reply": "2022-03-06T00:31:28.817473Z"
    },
    "papermill": {
     "duration": 0.274004,
     "end_time": "2022-03-06T00:31:28.818058",
     "exception": false,
     "start_time": "2022-03-06T00:31:28.544054",
     "status": "completed"
    },
    "tags": []
   },
   "outputs": [
    {
     "data": {
      "text/plain": [
       "<matplotlib.legend.Legend at 0x7f88448fcd30>"
      ]
     },
     "execution_count": 24,
     "metadata": {},
     "output_type": "execute_result"
    },
    {
     "data": {
      "image/png": "[encoded data removed]",
      "text/plain": [
       "<Figure size 1080x720 with 1 Axes>"
      ]
     },
     "metadata": {
      "needs_background": "light"
     },
     "output_type": "display_data"
    }
   ],
   "source": [
    "#comparing the results of NN and LR\n",
    "plt.figure(figsize=(15,10))\n",
    "\n",
    "# Neural Network plots\n",
    "plt.plot(acc_nn.accuracies, 'r-', label = \"Training Accuracies - NN\")\n",
    "plt.plot(acc_nn.test_accuracies, 'g-', label = \"Testing Accuracies - NN\")\n",
    "\n",
    "# Logistic Regression plots\n",
    "plt.plot(acc_lr.accuracies, 'k-', label = \"Training Accuracies - LR\")\n",
    "plt.plot(acc_lr.test_accuracies, 'b-', label = \"Testing Accuracies - LR\")\n",
    "plt.legend()"
   ]
  },
  {
   "cell_type": "markdown",
   "id": "80dfb35c",
   "metadata": {
    "papermill": {
     "duration": 0.042351,
     "end_time": "2022-03-06T00:31:28.902915",
     "exception": false,
     "start_time": "2022-03-06T00:31:28.860564",
     "status": "completed"
    },
    "tags": []
   },
   "source": [
    "#### Plotting the outputs of this layer of the NN.\n"
   ]
  },
  {
   "cell_type": "code",
   "execution_count": 25,
   "id": "45eb2ff5",
   "metadata": {
    "execution": {
     "iopub.execute_input": "2022-03-06T00:31:29.008607Z",
     "iopub.status.busy": "2022-03-06T00:31:29.008004Z",
     "iopub.status.idle": "2022-03-06T00:31:29.021981Z",
     "shell.execute_reply": "2022-03-06T00:31:29.022789Z"
    },
    "papermill": {
     "duration": 0.077857,
     "end_time": "2022-03-06T00:31:29.022952",
     "exception": false,
     "start_time": "2022-03-06T00:31:28.945095",
     "status": "completed"
    },
    "tags": []
   },
   "outputs": [],
   "source": [
    "new_model = Model(layers[:-2])\n",
    "testing_plot = new_model(testing_data_x)"
   ]
  },
  {
   "cell_type": "code",
   "execution_count": 26,
   "id": "4c0a5485",
   "metadata": {
    "execution": {
     "iopub.execute_input": "2022-03-06T00:31:29.123661Z",
     "iopub.status.busy": "2022-03-06T00:31:29.123107Z",
     "iopub.status.idle": "2022-03-06T00:31:29.351817Z",
     "shell.execute_reply": "2022-03-06T00:31:29.351366Z"
    },
    "papermill": {
     "duration": 0.2857,
     "end_time": "2022-03-06T00:31:29.351947",
     "exception": false,
     "start_time": "2022-03-06T00:31:29.066247",
     "status": "completed"
    },
    "tags": []
   },
   "outputs": [
    {
     "data": {
      "text/plain": [
       "Text(0.5, 1.0, 'Outputs')"
      ]
     },
     "execution_count": 26,
     "metadata": {},
     "output_type": "execute_result"
    },
    {
     "data": {
      "image/png": "[encoded data removed]",
      "text/plain": [
       "<Figure size 576x504 with 1 Axes>"
      ]
     },
     "metadata": {
      "needs_background": "light"
     },
     "output_type": "display_data"
    }
   ],
   "source": [
    "# Plotting the scatter plot of points and color coding by class\n",
    "plt.figure(figsize=(8,7))\n",
    "plt.scatter(testing_plot[:,0], testing_plot[:,1], alpha = 0.1, c = y_test.ravel());\n",
    "plt.title('Outputs')"
   ]
  },
  {
   "cell_type": "markdown",
   "id": "a74fcf8f",
   "metadata": {
    "papermill": {
     "duration": 0.045578,
     "end_time": "2022-03-06T00:31:29.443124",
     "exception": false,
     "start_time": "2022-03-06T00:31:29.397546",
     "status": "completed"
    },
    "tags": []
   },
   "source": [
    "Probability contours"
   ]
  },
  {
   "cell_type": "code",
   "execution_count": 27,
   "id": "d0afc8e3",
   "metadata": {
    "execution": {
     "iopub.execute_input": "2022-03-06T00:31:29.541472Z",
     "iopub.status.busy": "2022-03-06T00:31:29.539878Z",
     "iopub.status.idle": "2022-03-06T00:31:29.550874Z",
     "shell.execute_reply": "2022-03-06T00:31:29.551275Z"
    },
    "papermill": {
     "duration": 0.062569,
     "end_time": "2022-03-06T00:31:29.551425",
     "exception": false,
     "start_time": "2022-03-06T00:31:29.488856",
     "status": "completed"
    },
    "tags": []
   },
   "outputs": [],
   "source": [
    "model_prob = Model(layers[-2:]) "
   ]
  },
  {
   "cell_type": "code",
   "execution_count": 28,
   "id": "9b96e238",
   "metadata": {
    "execution": {
     "iopub.execute_input": "2022-03-06T00:31:29.650792Z",
     "iopub.status.busy": "2022-03-06T00:31:29.650229Z",
     "iopub.status.idle": "2022-03-06T00:31:29.663803Z",
     "shell.execute_reply": "2022-03-06T00:31:29.664190Z"
    },
    "papermill": {
     "duration": 0.067037,
     "end_time": "2022-03-06T00:31:29.664332",
     "exception": false,
     "start_time": "2022-03-06T00:31:29.597295",
     "status": "completed"
    },
    "tags": []
   },
   "outputs": [],
   "source": [
    "#creating the x and y ranges according to the above generated plot.\n",
    "x_range = np.linspace(-4, 1, 100) \n",
    "y_range = np.linspace(-6, 6, 100) \n",
    "x_grid, y_grid = np.meshgrid(x_range, y_range) # x_grid and y_grig are of size 100 X 100\n",
    "\n",
    "# converting x_grid and y_grid to continuous arrays\n",
    "x_gridflat = np.ravel(x_grid)\n",
    "y_gridflat = np.ravel(y_grid)\n",
    "\n",
    "# The last layer of the current model takes two columns as input. Hence transpose of np.vstack() is required.\n",
    "X = np.vstack((x_gridflat, y_gridflat)).T\n",
    "\n",
    "prob_contour = model_prob(X).reshape(100,100) "
   ]
  },
  {
   "cell_type": "code",
   "execution_count": 29,
   "id": "da72499a",
   "metadata": {
    "execution": {
     "iopub.execute_input": "2022-03-06T00:31:29.799326Z",
     "iopub.status.busy": "2022-03-06T00:31:29.798707Z",
     "iopub.status.idle": "2022-03-06T00:31:30.051819Z",
     "shell.execute_reply": "2022-03-06T00:31:30.051353Z"
    },
    "papermill": {
     "duration": 0.341699,
     "end_time": "2022-03-06T00:31:30.051944",
     "exception": false,
     "start_time": "2022-03-06T00:31:29.710245",
     "status": "completed"
    },
    "tags": []
   },
   "outputs": [
    {
     "data": {
      "image/png": "[encoded data removed]",
      "text/plain": [
       "<Figure size 720x648 with 1 Axes>"
      ]
     },
     "metadata": {
      "needs_background": "light"
     },
     "output_type": "display_data"
    }
   ],
   "source": [
    "plt.figure(figsize=(10,9))\n",
    "plt.scatter(testing_plot[:,0], testing_plot[:,1], alpha = 0.1, c = y_test.ravel())\n",
    "contours = plt.contour(x_grid,y_grid,prob_contour)\n",
    "plt.title('Probability Contours')\n",
    "plt.clabel(contours, inline = True );"
   ]
  },
  {
   "cell_type": "code",
   "execution_count": null,
   "id": "e81b4ac7",
   "metadata": {
    "papermill": {
     "duration": 0.048562,
     "end_time": "2022-03-06T00:31:30.149733",
     "exception": false,
     "start_time": "2022-03-06T00:31:30.101171",
     "status": "completed"
    },
    "tags": []
   },
   "outputs": [],
   "source": []
  }
 ],
 "metadata": {
  "kernelspec": {
   "display_name": "Python 3",
   "language": "python",
   "name": "python3"
  },
  "language_info": {
   "codemirror_mode": {
    "name": "ipython",
    "version": 3
   },
   "file_extension": ".py",
   "mimetype": "text/x-python",
   "name": "python",
   "nbconvert_exporter": "python",
   "pygments_lexer": "ipython3",
   "version": "3.6.15"
  },
  "papermill": {
   "default_parameters": {},
   "duration": 102.357471,
   "end_time": "2022-03-06T00:31:30.617735",
   "environment_variables": {},
   "exception": null,
   "input_path": "2020-08-11-part2.ipynb",
   "output_path": "2020-08-11-part2.ipynb",
   "parameters": {},
   "start_time": "2022-03-06T00:29:48.260264",
   "version": "2.3.3"
  }
 },
 "nbformat": 4,
 "nbformat_minor": 5
}