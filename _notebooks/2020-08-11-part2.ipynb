{
 "cells": [
  {
   "cell_type": "markdown",
   "id": "98380cd3",
   "metadata": {
    "papermill": {
     "duration": 0.028818,
     "end_time": "2021-11-01T00:23:11.326487",
     "exception": false,
     "start_time": "2021-11-01T00:23:11.297669",
     "status": "completed"
    },
    "tags": []
   },
   "source": [
    "# Distinguish Your Own Digits (DYOD)"
   ]
  },
  {
   "cell_type": "markdown",
   "id": "ef31240d",
   "metadata": {
    "papermill": {
     "duration": 0.024089,
     "end_time": "2021-11-01T00:23:11.375495",
     "exception": false,
     "start_time": "2021-11-01T00:23:11.351406",
     "status": "completed"
    },
    "tags": []
   },
   "source": [
    "You are going to write a classifier that distinguishes between the number 3 and number 8."
   ]
  },
  {
   "cell_type": "code",
   "execution_count": 1,
   "id": "b15c8646",
   "metadata": {
    "execution": {
     "iopub.execute_input": "2021-11-01T00:23:11.436348Z",
     "iopub.status.busy": "2021-11-01T00:23:11.435799Z",
     "iopub.status.idle": "2021-11-01T00:23:11.446534Z",
     "shell.execute_reply": "2021-11-01T00:23:11.445953Z"
    },
    "papermill": {
     "duration": 0.04564,
     "end_time": "2021-11-01T00:23:11.446667",
     "exception": false,
     "start_time": "2021-11-01T00:23:11.401027",
     "status": "completed"
    },
    "tags": []
   },
   "outputs": [],
   "source": [
    "%load_ext autoreload\n",
    "%autoreload 2"
   ]
  },
  {
   "cell_type": "code",
   "execution_count": 2,
   "id": "22ef38dc",
   "metadata": {
    "execution": {
     "iopub.execute_input": "2021-11-01T00:23:11.507571Z",
     "iopub.status.busy": "2021-11-01T00:23:11.507038Z",
     "iopub.status.idle": "2021-11-01T00:23:12.023086Z",
     "shell.execute_reply": "2021-11-01T00:23:12.022548Z"
    },
    "papermill": {
     "duration": 0.552144,
     "end_time": "2021-11-01T00:23:12.023236",
     "exception": false,
     "start_time": "2021-11-01T00:23:11.471092",
     "status": "completed"
    },
    "tags": []
   },
   "outputs": [],
   "source": [
    "%matplotlib inline\n",
    "import numpy as np\n",
    "import matplotlib.pyplot as plt\n",
    "import pandas as pd"
   ]
  },
  {
   "cell_type": "markdown",
   "id": "ba036198",
   "metadata": {
    "papermill": {
     "duration": 0.024231,
     "end_time": "2021-11-01T00:23:12.071844",
     "exception": false,
     "start_time": "2021-11-01T00:23:12.047613",
     "status": "completed"
    },
    "tags": []
   },
   "source": [
    "From the command line run `pip install mnist`. This is a library that will help you bring down the mnist dataset. If you run this from a notebook, you need to put  `!pip install mnist` in a cell by itself."
   ]
  },
  {
   "cell_type": "code",
   "execution_count": 3,
   "id": "bb6ad8a1",
   "metadata": {
    "execution": {
     "iopub.execute_input": "2021-11-01T00:23:12.125074Z",
     "iopub.status.busy": "2021-11-01T00:23:12.124558Z",
     "iopub.status.idle": "2021-11-01T00:23:14.572211Z",
     "shell.execute_reply": "2021-11-01T00:23:14.571659Z"
    },
    "papermill": {
     "duration": 2.476279,
     "end_time": "2021-11-01T00:23:14.572359",
     "exception": false,
     "start_time": "2021-11-01T00:23:12.096080",
     "status": "completed"
    },
    "tags": []
   },
   "outputs": [
    {
     "name": "stdout",
     "output_type": "stream",
     "text": [
      "Collecting mnist\r\n"
     ]
    },
    {
     "name": "stdout",
     "output_type": "stream",
     "text": [
      "  Downloading mnist-0.2.2-py2.py3-none-any.whl (3.5 kB)\r\n",
      "Requirement already satisfied: numpy in /opt/hostedtoolcache/Python/3.6.15/x64/lib/python3.6/site-packages (from mnist) (1.19.5)\r\n"
     ]
    },
    {
     "name": "stdout",
     "output_type": "stream",
     "text": [
      "Installing collected packages: mnist\r\n",
      "Successfully installed mnist-0.2.2\r\n"
     ]
    },
    {
     "name": "stdout",
     "output_type": "stream",
     "text": [
      "\u001b[33mWARNING: You are using pip version 21.3; however, version 21.3.1 is available.\r\n",
      "You should consider upgrading via the '/opt/hostedtoolcache/Python/3.6.15/x64/bin/python -m pip install --upgrade pip' command.\u001b[0m\r\n"
     ]
    }
   ],
   "source": [
    "!pip install mnist"
   ]
  },
  {
   "cell_type": "markdown",
   "id": "69df9c9a",
   "metadata": {
    "papermill": {
     "duration": 0.025544,
     "end_time": "2021-11-01T00:23:14.623921",
     "exception": false,
     "start_time": "2021-11-01T00:23:14.598377",
     "status": "completed"
    },
    "tags": []
   },
   "source": [
    "## Preparing the Data"
   ]
  },
  {
   "cell_type": "code",
   "execution_count": 4,
   "id": "7f69d806",
   "metadata": {
    "execution": {
     "iopub.execute_input": "2021-11-01T00:23:14.678792Z",
     "iopub.status.busy": "2021-11-01T00:23:14.678262Z",
     "iopub.status.idle": "2021-11-01T00:23:14.692083Z",
     "shell.execute_reply": "2021-11-01T00:23:14.692521Z"
    },
    "papermill": {
     "duration": 0.043526,
     "end_time": "2021-11-01T00:23:14.692660",
     "exception": false,
     "start_time": "2021-11-01T00:23:14.649134",
     "status": "completed"
    },
    "tags": []
   },
   "outputs": [],
   "source": [
    "import mnist"
   ]
  },
  {
   "cell_type": "code",
   "execution_count": 5,
   "id": "a411e44f",
   "metadata": {
    "execution": {
     "iopub.execute_input": "2021-11-01T00:23:14.749180Z",
     "iopub.status.busy": "2021-11-01T00:23:14.748644Z",
     "iopub.status.idle": "2021-11-01T00:23:15.261698Z",
     "shell.execute_reply": "2021-11-01T00:23:15.261158Z"
    },
    "papermill": {
     "duration": 0.543886,
     "end_time": "2021-11-01T00:23:15.261843",
     "exception": false,
     "start_time": "2021-11-01T00:23:14.717957",
     "status": "completed"
    },
    "tags": []
   },
   "outputs": [],
   "source": [
    "train_images = mnist.train_images()\n",
    "train_labels = mnist.train_labels()"
   ]
  },
  {
   "cell_type": "code",
   "execution_count": 6,
   "id": "dceab3a5",
   "metadata": {
    "execution": {
     "iopub.execute_input": "2021-11-01T00:23:15.319701Z",
     "iopub.status.busy": "2021-11-01T00:23:15.319186Z",
     "iopub.status.idle": "2021-11-01T00:23:15.332607Z",
     "shell.execute_reply": "2021-11-01T00:23:15.332166Z"
    },
    "papermill": {
     "duration": 0.044434,
     "end_time": "2021-11-01T00:23:15.332726",
     "exception": false,
     "start_time": "2021-11-01T00:23:15.288292",
     "status": "completed"
    },
    "tags": []
   },
   "outputs": [
    {
     "data": {
      "text/plain": [
       "((60000, 28, 28), (60000,))"
      ]
     },
     "execution_count": 6,
     "metadata": {},
     "output_type": "execute_result"
    }
   ],
   "source": [
    "train_images.shape, train_labels.shape"
   ]
  },
  {
   "cell_type": "code",
   "execution_count": 7,
   "id": "f50dc2bb",
   "metadata": {
    "execution": {
     "iopub.execute_input": "2021-11-01T00:23:15.387591Z",
     "iopub.status.busy": "2021-11-01T00:23:15.387069Z",
     "iopub.status.idle": "2021-11-01T00:23:15.553328Z",
     "shell.execute_reply": "2021-11-01T00:23:15.552846Z"
    },
    "papermill": {
     "duration": 0.195184,
     "end_time": "2021-11-01T00:23:15.553467",
     "exception": false,
     "start_time": "2021-11-01T00:23:15.358283",
     "status": "completed"
    },
    "tags": []
   },
   "outputs": [],
   "source": [
    "test_images = mnist.test_images()\n",
    "test_labels = mnist.test_labels()"
   ]
  },
  {
   "cell_type": "code",
   "execution_count": 8,
   "id": "fc38cf1b",
   "metadata": {
    "execution": {
     "iopub.execute_input": "2021-11-01T00:23:15.613143Z",
     "iopub.status.busy": "2021-11-01T00:23:15.612620Z",
     "iopub.status.idle": "2021-11-01T00:23:15.623294Z",
     "shell.execute_reply": "2021-11-01T00:23:15.622860Z"
    },
    "papermill": {
     "duration": 0.044075,
     "end_time": "2021-11-01T00:23:15.623409",
     "exception": false,
     "start_time": "2021-11-01T00:23:15.579334",
     "status": "completed"
    },
    "tags": []
   },
   "outputs": [
    {
     "data": {
      "text/plain": [
       "((10000, 28, 28), (10000,))"
      ]
     },
     "execution_count": 8,
     "metadata": {},
     "output_type": "execute_result"
    }
   ],
   "source": [
    "test_images.shape, test_labels.shape"
   ]
  },
  {
   "cell_type": "code",
   "execution_count": 9,
   "id": "f9ed8fe0",
   "metadata": {
    "execution": {
     "iopub.execute_input": "2021-11-01T00:23:15.691259Z",
     "iopub.status.busy": "2021-11-01T00:23:15.690737Z",
     "iopub.status.idle": "2021-11-01T00:23:15.821912Z",
     "shell.execute_reply": "2021-11-01T00:23:15.822461Z"
    },
    "papermill": {
     "duration": 0.17368,
     "end_time": "2021-11-01T00:23:15.822631",
     "exception": false,
     "start_time": "2021-11-01T00:23:15.648951",
     "status": "completed"
    },
    "tags": []
   },
   "outputs": [
    {
     "name": "stdout",
     "output_type": "stream",
     "text": [
      "2\n"
     ]
    },
    {
     "data": {
      "text/plain": [
       "<matplotlib.image.AxesImage at 0x7ffa4ae8f080>"
      ]
     },
     "execution_count": 9,
     "metadata": {},
     "output_type": "execute_result"
    },
    {
     "data": {
      "image/png": "[encoded data removed]",
      "text/plain": [
       "<Figure size 432x288 with 1 Axes>"
      ]
     },
     "metadata": {
      "needs_background": "light"
     },
     "output_type": "display_data"
    }
   ],
   "source": [
    "image_index = 7776 # You may select anything up to 60,000\n",
    "print(train_labels[image_index]) \n",
    "plt.imshow(train_images[image_index], cmap='Greys')"
   ]
  },
  {
   "cell_type": "markdown",
   "id": "a8d2388d",
   "metadata": {
    "papermill": {
     "duration": 0.027005,
     "end_time": "2021-11-01T00:23:15.877142",
     "exception": false,
     "start_time": "2021-11-01T00:23:15.850137",
     "status": "completed"
    },
    "tags": []
   },
   "source": [
    "## Filter data to get 3 and 8 out"
   ]
  },
  {
   "cell_type": "code",
   "execution_count": 10,
   "id": "776f7fc7",
   "metadata": {
    "execution": {
     "iopub.execute_input": "2021-11-01T00:23:15.947380Z",
     "iopub.status.busy": "2021-11-01T00:23:15.934309Z",
     "iopub.status.idle": "2021-11-01T00:23:15.958703Z",
     "shell.execute_reply": "2021-11-01T00:23:15.958164Z"
    },
    "papermill": {
     "duration": 0.055093,
     "end_time": "2021-11-01T00:23:15.958827",
     "exception": false,
     "start_time": "2021-11-01T00:23:15.903734",
     "status": "completed"
    },
    "tags": []
   },
   "outputs": [],
   "source": [
    "train_filter = np.where((train_labels == 3 ) | (train_labels == 8))\n",
    "test_filter = np.where((test_labels == 3) | (test_labels == 8))\n",
    "X_train, y_train = train_images[train_filter], train_labels[train_filter]\n",
    "X_test, y_test = test_images[test_filter], test_labels[test_filter]"
   ]
  },
  {
   "cell_type": "markdown",
   "id": "948f0b7e",
   "metadata": {
    "papermill": {
     "duration": 0.02669,
     "end_time": "2021-11-01T00:23:16.012358",
     "exception": false,
     "start_time": "2021-11-01T00:23:15.985668",
     "status": "completed"
    },
    "tags": []
   },
   "source": [
    "We normalize the pizel values in the 0 to 1 range"
   ]
  },
  {
   "cell_type": "code",
   "execution_count": 11,
   "id": "ee4c2166",
   "metadata": {
    "execution": {
     "iopub.execute_input": "2021-11-01T00:23:16.071731Z",
     "iopub.status.busy": "2021-11-01T00:23:16.071202Z",
     "iopub.status.idle": "2021-11-01T00:23:16.118070Z",
     "shell.execute_reply": "2021-11-01T00:23:16.117531Z"
    },
    "papermill": {
     "duration": 0.079254,
     "end_time": "2021-11-01T00:23:16.118221",
     "exception": false,
     "start_time": "2021-11-01T00:23:16.038967",
     "status": "completed"
    },
    "tags": []
   },
   "outputs": [],
   "source": [
    "X_train = X_train/255.\n",
    "X_test = X_test/255."
   ]
  },
  {
   "cell_type": "markdown",
   "id": "ddcf4fab",
   "metadata": {
    "papermill": {
     "duration": 0.026611,
     "end_time": "2021-11-01T00:23:16.172222",
     "exception": false,
     "start_time": "2021-11-01T00:23:16.145611",
     "status": "completed"
    },
    "tags": []
   },
   "source": [
    "And setup the labels as 1 (when the digit is 3) and 0 (when the digit is 8)"
   ]
  },
  {
   "cell_type": "code",
   "execution_count": 12,
   "id": "7dc908f2",
   "metadata": {
    "execution": {
     "iopub.execute_input": "2021-11-01T00:23:16.229300Z",
     "iopub.status.busy": "2021-11-01T00:23:16.228778Z",
     "iopub.status.idle": "2021-11-01T00:23:16.240903Z",
     "shell.execute_reply": "2021-11-01T00:23:16.241342Z"
    },
    "papermill": {
     "duration": 0.042548,
     "end_time": "2021-11-01T00:23:16.241472",
     "exception": false,
     "start_time": "2021-11-01T00:23:16.198924",
     "status": "completed"
    },
    "tags": []
   },
   "outputs": [],
   "source": [
    "y_train = 1*(y_train==3)\n",
    "y_test = 1*(y_test==3)"
   ]
  },
  {
   "cell_type": "code",
   "execution_count": 13,
   "id": "01e4e969",
   "metadata": {
    "execution": {
     "iopub.execute_input": "2021-11-01T00:23:16.306865Z",
     "iopub.status.busy": "2021-11-01T00:23:16.303088Z",
     "iopub.status.idle": "2021-11-01T00:23:16.312955Z",
     "shell.execute_reply": "2021-11-01T00:23:16.313391Z"
    },
    "papermill": {
     "duration": 0.045556,
     "end_time": "2021-11-01T00:23:16.313518",
     "exception": false,
     "start_time": "2021-11-01T00:23:16.267962",
     "status": "completed"
    },
    "tags": []
   },
   "outputs": [
    {
     "data": {
      "text/plain": [
       "((11982, 28, 28), (1984, 28, 28))"
      ]
     },
     "execution_count": 13,
     "metadata": {},
     "output_type": "execute_result"
    }
   ],
   "source": [
    "X_train.shape, X_test.shape"
   ]
  },
  {
   "cell_type": "markdown",
   "id": "5ccf3f85",
   "metadata": {
    "papermill": {
     "duration": 0.026601,
     "end_time": "2021-11-01T00:23:16.366725",
     "exception": false,
     "start_time": "2021-11-01T00:23:16.340124",
     "status": "completed"
    },
    "tags": []
   },
   "source": [
    "We reshape the data to flatten the image pixels into a set of features or co-variates:"
   ]
  },
  {
   "cell_type": "code",
   "execution_count": 14,
   "id": "5286a4a3",
   "metadata": {
    "execution": {
     "iopub.execute_input": "2021-11-01T00:23:16.427727Z",
     "iopub.status.busy": "2021-11-01T00:23:16.427199Z",
     "iopub.status.idle": "2021-11-01T00:23:16.439263Z",
     "shell.execute_reply": "2021-11-01T00:23:16.438850Z"
    },
    "papermill": {
     "duration": 0.045748,
     "end_time": "2021-11-01T00:23:16.439382",
     "exception": false,
     "start_time": "2021-11-01T00:23:16.393634",
     "status": "completed"
    },
    "tags": []
   },
   "outputs": [
    {
     "data": {
      "text/plain": [
       "((11982, 784), (1984, 784))"
      ]
     },
     "execution_count": 14,
     "metadata": {},
     "output_type": "execute_result"
    }
   ],
   "source": [
    "X_train = X_train.reshape(X_train.shape[0], -1)\n",
    "X_test = X_test.reshape(X_test.shape[0], -1)\n",
    "X_train.shape, X_test.shape"
   ]
  },
  {
   "cell_type": "code",
   "execution_count": 15,
   "id": "73c5f88a",
   "metadata": {
    "execution": {
     "iopub.execute_input": "2021-11-01T00:23:16.497831Z",
     "iopub.status.busy": "2021-11-01T00:23:16.497305Z",
     "iopub.status.idle": "2021-11-01T00:23:16.515898Z",
     "shell.execute_reply": "2021-11-01T00:23:16.515470Z"
    },
    "papermill": {
     "duration": 0.049502,
     "end_time": "2021-11-01T00:23:16.516017",
     "exception": false,
     "start_time": "2021-11-01T00:23:16.466515",
     "status": "completed"
    },
    "tags": []
   },
   "outputs": [],
   "source": [
    "#Impoting functions from 'Kudzu'\n",
    "from kudzu.model import Model\n",
    "from kudzu.train import Learner\n",
    "from kudzu.optim import GD\n",
    "from kudzu.data import Data, Sampler,Dataloader\n",
    "\n",
    "from kudzu.callbacks import AccCallback\n",
    "from kudzu.callbacks import ClfCallback\n",
    "\n",
    "from kudzu.loss import MSE\n",
    "\n",
    "from kudzu.layer import Sigmoid,Relu\n",
    "from kudzu.layer import Affine"
   ]
  },
  {
   "cell_type": "markdown",
   "id": "bc01172a",
   "metadata": {
    "papermill": {
     "duration": 0.026884,
     "end_time": "2021-11-01T00:23:16.570420",
     "exception": false,
     "start_time": "2021-11-01T00:23:16.543536",
     "status": "completed"
    },
    "tags": []
   },
   "source": [
    "### Let us create a `Config` class, to store important parameters. \n",
    "This class essentially plays the role of a dictionary."
   ]
  },
  {
   "cell_type": "code",
   "execution_count": 16,
   "id": "978281aa",
   "metadata": {
    "execution": {
     "iopub.execute_input": "2021-11-01T00:23:16.644312Z",
     "iopub.status.busy": "2021-11-01T00:23:16.643770Z",
     "iopub.status.idle": "2021-11-01T00:23:16.647426Z",
     "shell.execute_reply": "2021-11-01T00:23:16.647013Z"
    },
    "papermill": {
     "duration": 0.0501,
     "end_time": "2021-11-01T00:23:16.647541",
     "exception": false,
     "start_time": "2021-11-01T00:23:16.597441",
     "status": "completed"
    },
    "tags": []
   },
   "outputs": [],
   "source": [
    "class Config:\n",
    "    pass\n",
    "config = Config()\n",
    "config.lr = 0.001\n",
    "config.num_epochs = 250\n",
    "config.bs = 50"
   ]
  },
  {
   "cell_type": "markdown",
   "id": "1385fa59",
   "metadata": {
    "papermill": {
     "duration": 0.026992,
     "end_time": "2021-11-01T00:23:16.701671",
     "exception": false,
     "start_time": "2021-11-01T00:23:16.674679",
     "status": "completed"
    },
    "tags": []
   },
   "source": [
    "### Running Models with the Training data\n",
    "Details about the network layers:\n",
    "- A first affine layer has 784 inputs and does 100 affine transforms. These are followed by a Relu\n",
    "- A second affine layer has 100 inputs from the 100 activations of the past layer, and does 100 affine transforms. These are followed by a Relu\n",
    "- A third affine layer has 100 activations and does 2 affine transformations to create an embedding for visualization. There is no non-linearity here.\n",
    "- A final \"logistic regression\" which has an affine transform from 2 inputs to 1 output, which is squeezed through a sigmoid.\n"
   ]
  },
  {
   "cell_type": "code",
   "execution_count": 17,
   "id": "2b9c66db",
   "metadata": {
    "execution": {
     "iopub.execute_input": "2021-11-01T00:23:16.760201Z",
     "iopub.status.busy": "2021-11-01T00:23:16.759679Z",
     "iopub.status.idle": "2021-11-01T00:23:16.772409Z",
     "shell.execute_reply": "2021-11-01T00:23:16.771982Z"
    },
    "papermill": {
     "duration": 0.043717,
     "end_time": "2021-11-01T00:23:16.772528",
     "exception": false,
     "start_time": "2021-11-01T00:23:16.728811",
     "status": "completed"
    },
    "tags": []
   },
   "outputs": [],
   "source": [
    "data = Data(X_train, y_train.reshape(-1,1))\n",
    "sampler = Sampler(data, config.bs, shuffle=True)\n",
    "\n",
    "dl = Dataloader(data, sampler)\n",
    "\n",
    "opt = GD(config.lr)\n",
    "loss = MSE()"
   ]
  },
  {
   "cell_type": "code",
   "execution_count": 18,
   "id": "b275e4c2",
   "metadata": {
    "execution": {
     "iopub.execute_input": "2021-11-01T00:23:16.831238Z",
     "iopub.status.busy": "2021-11-01T00:23:16.830722Z",
     "iopub.status.idle": "2021-11-01T00:23:16.842966Z",
     "shell.execute_reply": "2021-11-01T00:23:16.842544Z"
    },
    "papermill": {
     "duration": 0.043093,
     "end_time": "2021-11-01T00:23:16.843081",
     "exception": false,
     "start_time": "2021-11-01T00:23:16.799988",
     "status": "completed"
    },
    "tags": []
   },
   "outputs": [],
   "source": [
    "training_data_x = X_train\n",
    "testing_data_x = X_test\n",
    "training_data_y = y_train.reshape(-1,1)\n",
    "testing_data_y = y_test.reshape(-1,1)"
   ]
  },
  {
   "cell_type": "code",
   "execution_count": 19,
   "id": "76951160",
   "metadata": {
    "execution": {
     "iopub.execute_input": "2021-11-01T00:23:16.917832Z",
     "iopub.status.busy": "2021-11-01T00:23:16.916609Z",
     "iopub.status.idle": "2021-11-01T00:23:16.923833Z",
     "shell.execute_reply": "2021-11-01T00:23:16.924253Z"
    },
    "papermill": {
     "duration": 0.054087,
     "end_time": "2021-11-01T00:23:16.924397",
     "exception": false,
     "start_time": "2021-11-01T00:23:16.870310",
     "status": "completed"
    },
    "tags": []
   },
   "outputs": [
    {
     "name": "stdout",
     "output_type": "stream",
     "text": [
      "xavier\n",
      "xavier\n",
      "xavier\n",
      "xavier\n",
      "xavier\n"
     ]
    }
   ],
   "source": [
    "layers = [Affine(\"first\", 784, 100), Relu(\"first\"), Affine(\"second\", 100, 100), Relu(\"second\"), Affine(\"third\", 100, 2), Affine(\"last\", 2, 1), Sigmoid(\"last\")]\n",
    "model_nn = Model(layers)\n",
    "model_lr = Model([Affine(\"logits\", 784, 1), Sigmoid(\"sigmoid\")])"
   ]
  },
  {
   "cell_type": "code",
   "execution_count": 20,
   "id": "6eede77a",
   "metadata": {
    "execution": {
     "iopub.execute_input": "2021-11-01T00:23:16.984000Z",
     "iopub.status.busy": "2021-11-01T00:23:16.983461Z",
     "iopub.status.idle": "2021-11-01T00:23:16.997738Z",
     "shell.execute_reply": "2021-11-01T00:23:16.997285Z"
    },
    "papermill": {
     "duration": 0.04577,
     "end_time": "2021-11-01T00:23:16.997864",
     "exception": false,
     "start_time": "2021-11-01T00:23:16.952094",
     "status": "completed"
    },
    "tags": []
   },
   "outputs": [],
   "source": [
    "nn_learner = Learner(loss, model_nn, opt, config.num_epochs)\n",
    "acc_nn = ClfCallback(nn_learner, config.bs, training_data_x , testing_data_x, training_data_y, testing_data_y)\n",
    "nn_learner.set_callbacks([acc_nn])"
   ]
  },
  {
   "cell_type": "code",
   "execution_count": 21,
   "id": "877b6cc7",
   "metadata": {
    "execution": {
     "iopub.execute_input": "2021-11-01T00:23:17.058762Z",
     "iopub.status.busy": "2021-11-01T00:23:17.056414Z",
     "iopub.status.idle": "2021-11-01T00:23:17.068238Z",
     "shell.execute_reply": "2021-11-01T00:23:17.068632Z"
    },
    "papermill": {
     "duration": 0.04347,
     "end_time": "2021-11-01T00:23:17.068778",
     "exception": false,
     "start_time": "2021-11-01T00:23:17.025308",
     "status": "completed"
    },
    "tags": []
   },
   "outputs": [],
   "source": [
    "lr_learner = Learner(loss, model_lr, opt, config.num_epochs)\n",
    "acc_lr = ClfCallback(lr_learner, config.bs, training_data_x , testing_data_x, training_data_y, testing_data_y)\n",
    "lr_learner.set_callbacks([acc_lr])"
   ]
  },
  {
   "cell_type": "code",
   "execution_count": 22,
   "id": "d9b133c3",
   "metadata": {
    "execution": {
     "iopub.execute_input": "2021-11-01T00:23:17.136658Z",
     "iopub.status.busy": "2021-11-01T00:23:17.136069Z",
     "iopub.status.idle": "2021-11-01T00:24:35.785393Z",
     "shell.execute_reply": "2021-11-01T00:24:35.786220Z"
    },
    "papermill": {
     "duration": 78.689964,
     "end_time": "2021-11-01T00:24:35.786380",
     "exception": false,
     "start_time": "2021-11-01T00:23:17.096416",
     "status": "completed"
    },
    "tags": []
   },
   "outputs": [
    {
     "name": "stdout",
     "output_type": "stream",
     "text": [
      "Epoch 0, Loss 0.2538\n",
      "Training Accuracy: 0.5025, Testing Accuracy: 0.5207\n",
      "\n"
     ]
    },
    {
     "name": "stdout",
     "output_type": "stream",
     "text": [
      "Epoch 10, Loss 0.1556\n",
      "Training Accuracy: 0.8842, Testing Accuracy: 0.8952\n",
      "\n"
     ]
    },
    {
     "name": "stdout",
     "output_type": "stream",
     "text": [
      "Epoch 20, Loss 0.0793\n",
      "Training Accuracy: 0.9241, Testing Accuracy: 0.9325\n",
      "\n"
     ]
    },
    {
     "name": "stdout",
     "output_type": "stream",
     "text": [
      "Epoch 30, Loss 0.0551\n",
      "Training Accuracy: 0.9426, Testing Accuracy: 0.9501\n",
      "\n"
     ]
    },
    {
     "name": "stdout",
     "output_type": "stream",
     "text": [
      "Epoch 40, Loss 0.045\n",
      "Training Accuracy: 0.9509, Testing Accuracy: 0.9572\n",
      "\n"
     ]
    },
    {
     "name": "stdout",
     "output_type": "stream",
     "text": [
      "Epoch 50, Loss 0.0397\n",
      "Training Accuracy: 0.9552, Testing Accuracy: 0.9622\n",
      "\n"
     ]
    },
    {
     "name": "stdout",
     "output_type": "stream",
     "text": [
      "Epoch 60, Loss 0.0363\n",
      "Training Accuracy: 0.9584, Testing Accuracy: 0.9647\n",
      "\n"
     ]
    },
    {
     "name": "stdout",
     "output_type": "stream",
     "text": [
      "Epoch 70, Loss 0.0339\n",
      "Training Accuracy: 0.9602, Testing Accuracy: 0.9662\n",
      "\n"
     ]
    },
    {
     "name": "stdout",
     "output_type": "stream",
     "text": [
      "Epoch 80, Loss 0.0321\n",
      "Training Accuracy: 0.9624, Testing Accuracy: 0.9677\n",
      "\n"
     ]
    },
    {
     "name": "stdout",
     "output_type": "stream",
     "text": [
      "Epoch 90, Loss 0.0306\n",
      "Training Accuracy: 0.9637, Testing Accuracy: 0.9677\n",
      "\n"
     ]
    },
    {
     "name": "stdout",
     "output_type": "stream",
     "text": [
      "Epoch 100, Loss 0.0293\n",
      "Training Accuracy: 0.9650, Testing Accuracy: 0.9688\n",
      "\n"
     ]
    },
    {
     "name": "stdout",
     "output_type": "stream",
     "text": [
      "Epoch 110, Loss 0.0282\n",
      "Training Accuracy: 0.9662, Testing Accuracy: 0.9688\n",
      "\n"
     ]
    },
    {
     "name": "stdout",
     "output_type": "stream",
     "text": [
      "Epoch 120, Loss 0.0272\n",
      "Training Accuracy: 0.9676, Testing Accuracy: 0.9703\n",
      "\n"
     ]
    },
    {
     "name": "stdout",
     "output_type": "stream",
     "text": [
      "Epoch 130, Loss 0.0263\n",
      "Training Accuracy: 0.9686, Testing Accuracy: 0.9708\n",
      "\n"
     ]
    },
    {
     "name": "stdout",
     "output_type": "stream",
     "text": [
      "Epoch 140, Loss 0.0255\n",
      "Training Accuracy: 0.9694, Testing Accuracy: 0.9708\n",
      "\n"
     ]
    },
    {
     "name": "stdout",
     "output_type": "stream",
     "text": [
      "Epoch 150, Loss 0.0248\n",
      "Training Accuracy: 0.9702, Testing Accuracy: 0.9708\n",
      "\n"
     ]
    },
    {
     "name": "stdout",
     "output_type": "stream",
     "text": [
      "Epoch 160, Loss 0.0241\n",
      "Training Accuracy: 0.9708, Testing Accuracy: 0.9703\n",
      "\n"
     ]
    },
    {
     "name": "stdout",
     "output_type": "stream",
     "text": [
      "Epoch 170, Loss 0.0235\n",
      "Training Accuracy: 0.9717, Testing Accuracy: 0.9698\n",
      "\n"
     ]
    },
    {
     "name": "stdout",
     "output_type": "stream",
     "text": [
      "Epoch 180, Loss 0.0229\n",
      "Training Accuracy: 0.9726, Testing Accuracy: 0.9703\n",
      "\n"
     ]
    },
    {
     "name": "stdout",
     "output_type": "stream",
     "text": [
      "Epoch 190, Loss 0.0224\n",
      "Training Accuracy: 0.9731, Testing Accuracy: 0.9713\n",
      "\n"
     ]
    },
    {
     "name": "stdout",
     "output_type": "stream",
     "text": [
      "Epoch 200, Loss 0.0219\n",
      "Training Accuracy: 0.9741, Testing Accuracy: 0.9713\n",
      "\n"
     ]
    },
    {
     "name": "stdout",
     "output_type": "stream",
     "text": [
      "Epoch 210, Loss 0.0214\n",
      "Training Accuracy: 0.9745, Testing Accuracy: 0.9743\n",
      "\n"
     ]
    },
    {
     "name": "stdout",
     "output_type": "stream",
     "text": [
      "Epoch 220, Loss 0.021\n",
      "Training Accuracy: 0.9753, Testing Accuracy: 0.9753\n",
      "\n"
     ]
    },
    {
     "name": "stdout",
     "output_type": "stream",
     "text": [
      "Epoch 230, Loss 0.0205\n",
      "Training Accuracy: 0.9756, Testing Accuracy: 0.9753\n",
      "\n"
     ]
    },
    {
     "name": "stdout",
     "output_type": "stream",
     "text": [
      "Epoch 240, Loss 0.0201\n",
      "Training Accuracy: 0.9766, Testing Accuracy: 0.9753\n",
      "\n"
     ]
    },
    {
     "data": {
      "text/plain": [
       "0.01460687477217821"
      ]
     },
     "execution_count": 22,
     "metadata": {},
     "output_type": "execute_result"
    }
   ],
   "source": [
    "nn_learner.train_loop(dl)"
   ]
  },
  {
   "cell_type": "code",
   "execution_count": 23,
   "id": "e0163366",
   "metadata": {
    "execution": {
     "iopub.execute_input": "2021-11-01T00:24:35.875983Z",
     "iopub.status.busy": "2021-11-01T00:24:35.875441Z",
     "iopub.status.idle": "2021-11-01T00:24:50.151214Z",
     "shell.execute_reply": "2021-11-01T00:24:50.151705Z"
    },
    "papermill": {
     "duration": 14.330038,
     "end_time": "2021-11-01T00:24:50.151853",
     "exception": false,
     "start_time": "2021-11-01T00:24:35.821815",
     "status": "completed"
    },
    "tags": []
   },
   "outputs": [
    {
     "name": "stdout",
     "output_type": "stream",
     "text": [
      "Epoch 0, Loss 0.2323\n",
      "Training Accuracy: 0.6794, Testing Accuracy: 0.6467\n",
      "\n"
     ]
    },
    {
     "name": "stdout",
     "output_type": "stream",
     "text": [
      "Epoch 10, Loss 0.1031\n",
      "Training Accuracy: 0.9103, Testing Accuracy: 0.9199\n",
      "\n"
     ]
    },
    {
     "name": "stdout",
     "output_type": "stream",
     "text": [
      "Epoch 20, Loss 0.0787\n",
      "Training Accuracy: 0.9312, Testing Accuracy: 0.9441\n",
      "\n"
     ]
    },
    {
     "name": "stdout",
     "output_type": "stream",
     "text": [
      "Epoch 30, Loss 0.0675\n",
      "Training Accuracy: 0.9398, Testing Accuracy: 0.9521\n",
      "\n"
     ]
    },
    {
     "name": "stdout",
     "output_type": "stream",
     "text": [
      "Epoch 40, Loss 0.0609\n",
      "Training Accuracy: 0.9442, Testing Accuracy: 0.9572\n",
      "\n"
     ]
    },
    {
     "name": "stdout",
     "output_type": "stream",
     "text": [
      "Epoch 50, Loss 0.0564\n",
      "Training Accuracy: 0.9480, Testing Accuracy: 0.9602\n",
      "\n"
     ]
    },
    {
     "name": "stdout",
     "output_type": "stream",
     "text": [
      "Epoch 60, Loss 0.0531\n",
      "Training Accuracy: 0.9503, Testing Accuracy: 0.9607\n",
      "\n"
     ]
    },
    {
     "name": "stdout",
     "output_type": "stream",
     "text": [
      "Epoch 70, Loss 0.0506\n",
      "Training Accuracy: 0.9512, Testing Accuracy: 0.9647\n",
      "\n"
     ]
    },
    {
     "name": "stdout",
     "output_type": "stream",
     "text": [
      "Epoch 80, Loss 0.0486\n",
      "Training Accuracy: 0.9523, Testing Accuracy: 0.9657\n",
      "\n"
     ]
    },
    {
     "name": "stdout",
     "output_type": "stream",
     "text": [
      "Epoch 90, Loss 0.047\n",
      "Training Accuracy: 0.9533, Testing Accuracy: 0.9657\n",
      "\n"
     ]
    },
    {
     "name": "stdout",
     "output_type": "stream",
     "text": [
      "Epoch 100, Loss 0.0456\n",
      "Training Accuracy: 0.9541, Testing Accuracy: 0.9657\n",
      "\n"
     ]
    },
    {
     "name": "stdout",
     "output_type": "stream",
     "text": [
      "Epoch 110, Loss 0.0445\n",
      "Training Accuracy: 0.9556, Testing Accuracy: 0.9657\n",
      "\n"
     ]
    },
    {
     "name": "stdout",
     "output_type": "stream",
     "text": [
      "Epoch 120, Loss 0.0434\n",
      "Training Accuracy: 0.9560, Testing Accuracy: 0.9662\n",
      "\n"
     ]
    },
    {
     "name": "stdout",
     "output_type": "stream",
     "text": [
      "Epoch 130, Loss 0.0425\n",
      "Training Accuracy: 0.9565, Testing Accuracy: 0.9662\n",
      "\n"
     ]
    },
    {
     "name": "stdout",
     "output_type": "stream",
     "text": [
      "Epoch 140, Loss 0.0417\n",
      "Training Accuracy: 0.9573, Testing Accuracy: 0.9667\n",
      "\n"
     ]
    },
    {
     "name": "stdout",
     "output_type": "stream",
     "text": [
      "Epoch 150, Loss 0.041\n",
      "Training Accuracy: 0.9577, Testing Accuracy: 0.9662\n",
      "\n"
     ]
    },
    {
     "name": "stdout",
     "output_type": "stream",
     "text": [
      "Epoch 160, Loss 0.0404\n",
      "Training Accuracy: 0.9583, Testing Accuracy: 0.9662\n",
      "\n"
     ]
    },
    {
     "name": "stdout",
     "output_type": "stream",
     "text": [
      "Epoch 170, Loss 0.0398\n",
      "Training Accuracy: 0.9588, Testing Accuracy: 0.9672\n",
      "\n"
     ]
    },
    {
     "name": "stdout",
     "output_type": "stream",
     "text": [
      "Epoch 180, Loss 0.0392\n",
      "Training Accuracy: 0.9592, Testing Accuracy: 0.9667\n",
      "\n"
     ]
    },
    {
     "name": "stdout",
     "output_type": "stream",
     "text": [
      "Epoch 190, Loss 0.0387\n",
      "Training Accuracy: 0.9594, Testing Accuracy: 0.9667\n",
      "\n"
     ]
    },
    {
     "name": "stdout",
     "output_type": "stream",
     "text": [
      "Epoch 200, Loss 0.0383\n",
      "Training Accuracy: 0.9600, Testing Accuracy: 0.9667\n",
      "\n"
     ]
    },
    {
     "name": "stdout",
     "output_type": "stream",
     "text": [
      "Epoch 210, Loss 0.0379\n",
      "Training Accuracy: 0.9607, Testing Accuracy: 0.9662\n",
      "\n"
     ]
    },
    {
     "name": "stdout",
     "output_type": "stream",
     "text": [
      "Epoch 220, Loss 0.0375\n",
      "Training Accuracy: 0.9609, Testing Accuracy: 0.9662\n",
      "\n"
     ]
    },
    {
     "name": "stdout",
     "output_type": "stream",
     "text": [
      "Epoch 230, Loss 0.0371\n",
      "Training Accuracy: 0.9614, Testing Accuracy: 0.9662\n",
      "\n"
     ]
    },
    {
     "name": "stdout",
     "output_type": "stream",
     "text": [
      "Epoch 240, Loss 0.0367\n",
      "Training Accuracy: 0.9614, Testing Accuracy: 0.9662\n",
      "\n"
     ]
    },
    {
     "data": {
      "text/plain": [
       "0.02820343744333465"
      ]
     },
     "execution_count": 23,
     "metadata": {},
     "output_type": "execute_result"
    }
   ],
   "source": [
    "lr_learner.train_loop(dl)"
   ]
  },
  {
   "cell_type": "code",
   "execution_count": 24,
   "id": "ca410940",
   "metadata": {
    "execution": {
     "iopub.execute_input": "2021-11-01T00:24:50.251267Z",
     "iopub.status.busy": "2021-11-01T00:24:50.250719Z",
     "iopub.status.idle": "2021-11-01T00:24:50.473566Z",
     "shell.execute_reply": "2021-11-01T00:24:50.474018Z"
    },
    "papermill": {
     "duration": 0.276195,
     "end_time": "2021-11-01T00:24:50.474171",
     "exception": false,
     "start_time": "2021-11-01T00:24:50.197976",
     "status": "completed"
    },
    "tags": []
   },
   "outputs": [
    {
     "data": {
      "text/plain": [
       "<matplotlib.legend.Legend at 0x7ffa4a9f0780>"
      ]
     },
     "execution_count": 24,
     "metadata": {},
     "output_type": "execute_result"
    },
    {
     "data": {
      "image/png": "[encoded data removed]",
      "text/plain": [
       "<Figure size 1080x720 with 1 Axes>"
      ]
     },
     "metadata": {
      "needs_background": "light"
     },
     "output_type": "display_data"
    }
   ],
   "source": [
    "#comparing the results of NN and LR\n",
    "plt.figure(figsize=(15,10))\n",
    "\n",
    "# Neural Network plots\n",
    "plt.plot(acc_nn.accuracies, 'r-', label = \"Training Accuracies - NN\")\n",
    "plt.plot(acc_nn.test_accuracies, 'g-', label = \"Testing Accuracies - NN\")\n",
    "\n",
    "# Logistic Regression plots\n",
    "plt.plot(acc_lr.accuracies, 'k-', label = \"Training Accuracies - LR\")\n",
    "plt.plot(acc_lr.test_accuracies, 'b-', label = \"Testing Accuracies - LR\")\n",
    "plt.legend()"
   ]
  },
  {
   "cell_type": "markdown",
   "id": "80dfb35c",
   "metadata": {
    "papermill": {
     "duration": 0.042327,
     "end_time": "2021-11-01T00:24:50.559571",
     "exception": false,
     "start_time": "2021-11-01T00:24:50.517244",
     "status": "completed"
    },
    "tags": []
   },
   "source": [
    "#### Plotting the outputs of this layer of the NN.\n"
   ]
  },
  {
   "cell_type": "code",
   "execution_count": 25,
   "id": "45eb2ff5",
   "metadata": {
    "execution": {
     "iopub.execute_input": "2021-11-01T00:24:50.652238Z",
     "iopub.status.busy": "2021-11-01T00:24:50.651670Z",
     "iopub.status.idle": "2021-11-01T00:24:50.670278Z",
     "shell.execute_reply": "2021-11-01T00:24:50.670686Z"
    },
    "papermill": {
     "duration": 0.068282,
     "end_time": "2021-11-01T00:24:50.670832",
     "exception": false,
     "start_time": "2021-11-01T00:24:50.602550",
     "status": "completed"
    },
    "tags": []
   },
   "outputs": [],
   "source": [
    "new_model = Model(layers[:-2])\n",
    "testing_plot = new_model(testing_data_x)"
   ]
  },
  {
   "cell_type": "code",
   "execution_count": 26,
   "id": "4c0a5485",
   "metadata": {
    "execution": {
     "iopub.execute_input": "2021-11-01T00:24:50.769656Z",
     "iopub.status.busy": "2021-11-01T00:24:50.769129Z",
     "iopub.status.idle": "2021-11-01T00:24:50.968711Z",
     "shell.execute_reply": "2021-11-01T00:24:50.968270Z"
    },
    "papermill": {
     "duration": 0.247473,
     "end_time": "2021-11-01T00:24:50.968841",
     "exception": false,
     "start_time": "2021-11-01T00:24:50.721368",
     "status": "completed"
    },
    "tags": []
   },
   "outputs": [
    {
     "data": {
      "text/plain": [
       "Text(0.5, 1.0, 'Outputs')"
      ]
     },
     "execution_count": 26,
     "metadata": {},
     "output_type": "execute_result"
    },
    {
     "data": {
      "image/png": "[encoded data removed]",
      "text/plain": [
       "<Figure size 576x504 with 1 Axes>"
      ]
     },
     "metadata": {
      "needs_background": "light"
     },
     "output_type": "display_data"
    }
   ],
   "source": [
    "# Plotting the scatter plot of points and color coding by class\n",
    "plt.figure(figsize=(8,7))\n",
    "plt.scatter(testing_plot[:,0], testing_plot[:,1], alpha = 0.1, c = y_test.ravel());\n",
    "plt.title('Outputs')"
   ]
  },
  {
   "cell_type": "markdown",
   "id": "a74fcf8f",
   "metadata": {
    "papermill": {
     "duration": 0.044863,
     "end_time": "2021-11-01T00:24:51.058894",
     "exception": false,
     "start_time": "2021-11-01T00:24:51.014031",
     "status": "completed"
    },
    "tags": []
   },
   "source": [
    "Probability contours"
   ]
  },
  {
   "cell_type": "code",
   "execution_count": 27,
   "id": "d0afc8e3",
   "metadata": {
    "execution": {
     "iopub.execute_input": "2021-11-01T00:24:51.155395Z",
     "iopub.status.busy": "2021-11-01T00:24:51.154779Z",
     "iopub.status.idle": "2021-11-01T00:24:51.164114Z",
     "shell.execute_reply": "2021-11-01T00:24:51.163694Z"
    },
    "papermill": {
     "duration": 0.060411,
     "end_time": "2021-11-01T00:24:51.164232",
     "exception": false,
     "start_time": "2021-11-01T00:24:51.103821",
     "status": "completed"
    },
    "tags": []
   },
   "outputs": [],
   "source": [
    "model_prob = Model(layers[-2:]) "
   ]
  },
  {
   "cell_type": "code",
   "execution_count": 28,
   "id": "9b96e238",
   "metadata": {
    "execution": {
     "iopub.execute_input": "2021-11-01T00:24:51.289815Z",
     "iopub.status.busy": "2021-11-01T00:24:51.289284Z",
     "iopub.status.idle": "2021-11-01T00:24:51.303204Z",
     "shell.execute_reply": "2021-11-01T00:24:51.303620Z"
    },
    "papermill": {
     "duration": 0.094373,
     "end_time": "2021-11-01T00:24:51.303752",
     "exception": false,
     "start_time": "2021-11-01T00:24:51.209379",
     "status": "completed"
    },
    "tags": []
   },
   "outputs": [],
   "source": [
    "#creating the x and y ranges according to the above generated plot.\n",
    "x_range = np.linspace(-4, 1, 100) \n",
    "y_range = np.linspace(-6, 6, 100) \n",
    "x_grid, y_grid = np.meshgrid(x_range, y_range) # x_grid and y_grig are of size 100 X 100\n",
    "\n",
    "# converting x_grid and y_grid to continuous arrays\n",
    "x_gridflat = np.ravel(x_grid)\n",
    "y_gridflat = np.ravel(y_grid)\n",
    "\n",
    "# The last layer of the current model takes two columns as input. Hence transpose of np.vstack() is required.\n",
    "X = np.vstack((x_gridflat, y_gridflat)).T\n",
    "\n",
    "prob_contour = model_prob(X).reshape(100,100) "
   ]
  },
  {
   "cell_type": "code",
   "execution_count": 29,
   "id": "da72499a",
   "metadata": {
    "execution": {
     "iopub.execute_input": "2021-11-01T00:24:51.403247Z",
     "iopub.status.busy": "2021-11-01T00:24:51.402710Z",
     "iopub.status.idle": "2021-11-01T00:24:51.645385Z",
     "shell.execute_reply": "2021-11-01T00:24:51.644926Z"
    },
    "papermill": {
     "duration": 0.296497,
     "end_time": "2021-11-01T00:24:51.645510",
     "exception": false,
     "start_time": "2021-11-01T00:24:51.349013",
     "status": "completed"
    },
    "tags": []
   },
   "outputs": [
    {
     "data": {
      "image/png": "[encoded data removed]",
      "text/plain": [
       "<Figure size 720x648 with 1 Axes>"
      ]
     },
     "metadata": {
      "needs_background": "light"
     },
     "output_type": "display_data"
    }
   ],
   "source": [
    "plt.figure(figsize=(10,9))\n",
    "plt.scatter(testing_plot[:,0], testing_plot[:,1], alpha = 0.1, c = y_test.ravel())\n",
    "contours = plt.contour(x_grid,y_grid,prob_contour)\n",
    "plt.title('Probability Contours')\n",
    "plt.clabel(contours, inline = True );"
   ]
  },
  {
   "cell_type": "code",
   "execution_count": null,
   "id": "e81b4ac7",
   "metadata": {
    "papermill": {
     "duration": 0.047428,
     "end_time": "2021-11-01T00:24:51.741200",
     "exception": false,
     "start_time": "2021-11-01T00:24:51.693772",
     "status": "completed"
    },
    "tags": []
   },
   "outputs": [],
   "source": []
  }
 ],
 "metadata": {
  "kernelspec": {
   "display_name": "Python 3",
   "language": "python",
   "name": "python3"
  },
  "language_info": {
   "codemirror_mode": {
    "name": "ipython",
    "version": 3
   },
   "file_extension": ".py",
   "mimetype": "text/x-python",
   "name": "python",
   "nbconvert_exporter": "python",
   "pygments_lexer": "ipython3",
   "version": "3.6.15"
  },
  "papermill": {
   "default_parameters": {},
   "duration": 101.942266,
   "end_time": "2021-11-01T00:24:52.197750",
   "environment_variables": {},
   "exception": null,
   "input_path": "2020-08-11-part2.ipynb",
   "output_path": "2020-08-11-part2.ipynb",
   "parameters": {},
   "start_time": "2021-11-01T00:23:10.255484",
   "version": "2.3.3"
  }
 },
 "nbformat": 4,
 "nbformat_minor": 5
}