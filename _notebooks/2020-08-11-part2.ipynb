{
 "cells": [
  {
   "cell_type": "markdown",
   "id": "98380cd3",
   "metadata": {
    "papermill": {
     "duration": 0.028349,
     "end_time": "2022-05-01T00:44:20.907056",
     "exception": false,
     "start_time": "2022-05-01T00:44:20.878707",
     "status": "completed"
    },
    "tags": []
   },
   "source": [
    "# Distinguish Your Own Digits (DYOD)"
   ]
  },
  {
   "cell_type": "markdown",
   "id": "ef31240d",
   "metadata": {
    "papermill": {
     "duration": 0.025393,
     "end_time": "2022-05-01T00:44:20.957032",
     "exception": false,
     "start_time": "2022-05-01T00:44:20.931639",
     "status": "completed"
    },
    "tags": []
   },
   "source": [
    "You are going to write a classifier that distinguishes between the number 3 and number 8."
   ]
  },
  {
   "cell_type": "code",
   "execution_count": 1,
   "id": "b15c8646",
   "metadata": {
    "execution": {
     "iopub.execute_input": "2022-05-01T00:44:21.015900Z",
     "iopub.status.busy": "2022-05-01T00:44:21.015326Z",
     "iopub.status.idle": "2022-05-01T00:44:21.026274Z",
     "shell.execute_reply": "2022-05-01T00:44:21.025824Z"
    },
    "papermill": {
     "duration": 0.045497,
     "end_time": "2022-05-01T00:44:21.026415",
     "exception": false,
     "start_time": "2022-05-01T00:44:20.980918",
     "status": "completed"
    },
    "tags": []
   },
   "outputs": [],
   "source": [
    "%load_ext autoreload\n",
    "%autoreload 2"
   ]
  },
  {
   "cell_type": "code",
   "execution_count": 2,
   "id": "22ef38dc",
   "metadata": {
    "execution": {
     "iopub.execute_input": "2022-05-01T00:44:21.079074Z",
     "iopub.status.busy": "2022-05-01T00:44:21.078531Z",
     "iopub.status.idle": "2022-05-01T00:44:21.626351Z",
     "shell.execute_reply": "2022-05-01T00:44:21.626800Z"
    },
    "papermill": {
     "duration": 0.576469,
     "end_time": "2022-05-01T00:44:21.626955",
     "exception": false,
     "start_time": "2022-05-01T00:44:21.050486",
     "status": "completed"
    },
    "tags": []
   },
   "outputs": [],
   "source": [
    "%matplotlib inline\n",
    "import numpy as np\n",
    "import matplotlib.pyplot as plt\n",
    "import pandas as pd"
   ]
  },
  {
   "cell_type": "markdown",
   "id": "ba036198",
   "metadata": {
    "papermill": {
     "duration": 0.023982,
     "end_time": "2022-05-01T00:44:21.675380",
     "exception": false,
     "start_time": "2022-05-01T00:44:21.651398",
     "status": "completed"
    },
    "tags": []
   },
   "source": [
    "From the command line run `pip install mnist`. This is a library that will help you bring down the mnist dataset. If you run this from a notebook, you need to put  `!pip install mnist` in a cell by itself."
   ]
  },
  {
   "cell_type": "code",
   "execution_count": 3,
   "id": "bb6ad8a1",
   "metadata": {
    "execution": {
     "iopub.execute_input": "2022-05-01T00:44:21.727430Z",
     "iopub.status.busy": "2022-05-01T00:44:21.726920Z",
     "iopub.status.idle": "2022-05-01T00:44:23.618468Z",
     "shell.execute_reply": "2022-05-01T00:44:23.617600Z"
    },
    "papermill": {
     "duration": 1.919315,
     "end_time": "2022-05-01T00:44:23.618608",
     "exception": false,
     "start_time": "2022-05-01T00:44:21.699293",
     "status": "completed"
    },
    "tags": []
   },
   "outputs": [
    {
     "name": "stdout",
     "output_type": "stream",
     "text": [
      "Collecting mnist\r\n"
     ]
    },
    {
     "name": "stdout",
     "output_type": "stream",
     "text": [
      "  Downloading mnist-0.2.2-py2.py3-none-any.whl (3.5 kB)\r\n",
      "Requirement already satisfied: numpy in /opt/hostedtoolcache/Python/3.6.15/x64/lib/python3.6/site-packages (from mnist) (1.19.5)\r\n"
     ]
    },
    {
     "name": "stdout",
     "output_type": "stream",
     "text": [
      "Installing collected packages: mnist\r\n"
     ]
    },
    {
     "name": "stdout",
     "output_type": "stream",
     "text": [
      "Successfully installed mnist-0.2.2\r\n"
     ]
    }
   ],
   "source": [
    "!pip install mnist"
   ]
  },
  {
   "cell_type": "markdown",
   "id": "69df9c9a",
   "metadata": {
    "papermill": {
     "duration": 0.02549,
     "end_time": "2022-05-01T00:44:23.669447",
     "exception": false,
     "start_time": "2022-05-01T00:44:23.643957",
     "status": "completed"
    },
    "tags": []
   },
   "source": [
    "## Preparing the Data"
   ]
  },
  {
   "cell_type": "code",
   "execution_count": 4,
   "id": "7f69d806",
   "metadata": {
    "execution": {
     "iopub.execute_input": "2022-05-01T00:44:23.723128Z",
     "iopub.status.busy": "2022-05-01T00:44:23.722612Z",
     "iopub.status.idle": "2022-05-01T00:44:23.737940Z",
     "shell.execute_reply": "2022-05-01T00:44:23.737508Z"
    },
    "papermill": {
     "duration": 0.043666,
     "end_time": "2022-05-01T00:44:23.738057",
     "exception": false,
     "start_time": "2022-05-01T00:44:23.694391",
     "status": "completed"
    },
    "tags": []
   },
   "outputs": [],
   "source": [
    "import mnist"
   ]
  },
  {
   "cell_type": "code",
   "execution_count": 5,
   "id": "a411e44f",
   "metadata": {
    "execution": {
     "iopub.execute_input": "2022-05-01T00:44:23.794982Z",
     "iopub.status.busy": "2022-05-01T00:44:23.794454Z",
     "iopub.status.idle": "2022-05-01T00:44:24.458562Z",
     "shell.execute_reply": "2022-05-01T00:44:24.459010Z"
    },
    "papermill": {
     "duration": 0.695971,
     "end_time": "2022-05-01T00:44:24.459152",
     "exception": false,
     "start_time": "2022-05-01T00:44:23.763181",
     "status": "completed"
    },
    "tags": []
   },
   "outputs": [],
   "source": [
    "train_images = mnist.train_images()\n",
    "train_labels = mnist.train_labels()"
   ]
  },
  {
   "cell_type": "code",
   "execution_count": 6,
   "id": "dceab3a5",
   "metadata": {
    "execution": {
     "iopub.execute_input": "2022-05-01T00:44:24.516521Z",
     "iopub.status.busy": "2022-05-01T00:44:24.515980Z",
     "iopub.status.idle": "2022-05-01T00:44:24.528255Z",
     "shell.execute_reply": "2022-05-01T00:44:24.528691Z"
    },
    "papermill": {
     "duration": 0.044496,
     "end_time": "2022-05-01T00:44:24.528825",
     "exception": false,
     "start_time": "2022-05-01T00:44:24.484329",
     "status": "completed"
    },
    "tags": []
   },
   "outputs": [
    {
     "data": {
      "text/plain": [
       "((60000, 28, 28), (60000,))"
      ]
     },
     "execution_count": 6,
     "metadata": {},
     "output_type": "execute_result"
    }
   ],
   "source": [
    "train_images.shape, train_labels.shape"
   ]
  },
  {
   "cell_type": "code",
   "execution_count": 7,
   "id": "f50dc2bb",
   "metadata": {
    "execution": {
     "iopub.execute_input": "2022-05-01T00:44:24.594572Z",
     "iopub.status.busy": "2022-05-01T00:44:24.588929Z",
     "iopub.status.idle": "2022-05-01T00:44:24.839149Z",
     "shell.execute_reply": "2022-05-01T00:44:24.838625Z"
    },
    "papermill": {
     "duration": 0.285431,
     "end_time": "2022-05-01T00:44:24.839286",
     "exception": false,
     "start_time": "2022-05-01T00:44:24.553855",
     "status": "completed"
    },
    "tags": []
   },
   "outputs": [],
   "source": [
    "test_images = mnist.test_images()\n",
    "test_labels = mnist.test_labels()"
   ]
  },
  {
   "cell_type": "code",
   "execution_count": 8,
   "id": "fc38cf1b",
   "metadata": {
    "execution": {
     "iopub.execute_input": "2022-05-01T00:44:24.897135Z",
     "iopub.status.busy": "2022-05-01T00:44:24.896405Z",
     "iopub.status.idle": "2022-05-01T00:44:24.909426Z",
     "shell.execute_reply": "2022-05-01T00:44:24.908986Z"
    },
    "papermill": {
     "duration": 0.044342,
     "end_time": "2022-05-01T00:44:24.909548",
     "exception": false,
     "start_time": "2022-05-01T00:44:24.865206",
     "status": "completed"
    },
    "tags": []
   },
   "outputs": [
    {
     "data": {
      "text/plain": [
       "((10000, 28, 28), (10000,))"
      ]
     },
     "execution_count": 8,
     "metadata": {},
     "output_type": "execute_result"
    }
   ],
   "source": [
    "test_images.shape, test_labels.shape"
   ]
  },
  {
   "cell_type": "code",
   "execution_count": 9,
   "id": "f9ed8fe0",
   "metadata": {
    "execution": {
     "iopub.execute_input": "2022-05-01T00:44:24.964584Z",
     "iopub.status.busy": "2022-05-01T00:44:24.964065Z",
     "iopub.status.idle": "2022-05-01T00:44:25.101897Z",
     "shell.execute_reply": "2022-05-01T00:44:25.102364Z"
    },
    "papermill": {
     "duration": 0.167535,
     "end_time": "2022-05-01T00:44:25.102512",
     "exception": false,
     "start_time": "2022-05-01T00:44:24.934977",
     "status": "completed"
    },
    "tags": []
   },
   "outputs": [
    {
     "name": "stdout",
     "output_type": "stream",
     "text": [
      "2\n"
     ]
    },
    {
     "data": {
      "text/plain": [
       "<matplotlib.image.AxesImage at 0x7ffb0544d828>"
      ]
     },
     "execution_count": 9,
     "metadata": {},
     "output_type": "execute_result"
    },
    {
     "data": {
      "image/png": "[encoded data removed]",
      "text/plain": [
       "<Figure size 432x288 with 1 Axes>"
      ]
     },
     "metadata": {
      "needs_background": "light"
     },
     "output_type": "display_data"
    }
   ],
   "source": [
    "image_index = 7776 # You may select anything up to 60,000\n",
    "print(train_labels[image_index]) \n",
    "plt.imshow(train_images[image_index], cmap='Greys')"
   ]
  },
  {
   "cell_type": "markdown",
   "id": "a8d2388d",
   "metadata": {
    "papermill": {
     "duration": 0.026914,
     "end_time": "2022-05-01T00:44:25.156971",
     "exception": false,
     "start_time": "2022-05-01T00:44:25.130057",
     "status": "completed"
    },
    "tags": []
   },
   "source": [
    "## Filter data to get 3 and 8 out"
   ]
  },
  {
   "cell_type": "code",
   "execution_count": 10,
   "id": "776f7fc7",
   "metadata": {
    "execution": {
     "iopub.execute_input": "2022-05-01T00:44:25.219539Z",
     "iopub.status.busy": "2022-05-01T00:44:25.218984Z",
     "iopub.status.idle": "2022-05-01T00:44:25.235167Z",
     "shell.execute_reply": "2022-05-01T00:44:25.234717Z"
    },
    "papermill": {
     "duration": 0.051465,
     "end_time": "2022-05-01T00:44:25.235291",
     "exception": false,
     "start_time": "2022-05-01T00:44:25.183826",
     "status": "completed"
    },
    "tags": []
   },
   "outputs": [],
   "source": [
    "train_filter = np.where((train_labels == 3 ) | (train_labels == 8))\n",
    "test_filter = np.where((test_labels == 3) | (test_labels == 8))\n",
    "X_train, y_train = train_images[train_filter], train_labels[train_filter]\n",
    "X_test, y_test = test_images[test_filter], test_labels[test_filter]"
   ]
  },
  {
   "cell_type": "markdown",
   "id": "948f0b7e",
   "metadata": {
    "papermill": {
     "duration": 0.026358,
     "end_time": "2022-05-01T00:44:25.288423",
     "exception": false,
     "start_time": "2022-05-01T00:44:25.262065",
     "status": "completed"
    },
    "tags": []
   },
   "source": [
    "We normalize the pizel values in the 0 to 1 range"
   ]
  },
  {
   "cell_type": "code",
   "execution_count": 11,
   "id": "ee4c2166",
   "metadata": {
    "execution": {
     "iopub.execute_input": "2022-05-01T00:44:25.350761Z",
     "iopub.status.busy": "2022-05-01T00:44:25.350211Z",
     "iopub.status.idle": "2022-05-01T00:44:25.395397Z",
     "shell.execute_reply": "2022-05-01T00:44:25.394926Z"
    },
    "papermill": {
     "duration": 0.080531,
     "end_time": "2022-05-01T00:44:25.395522",
     "exception": false,
     "start_time": "2022-05-01T00:44:25.314991",
     "status": "completed"
    },
    "tags": []
   },
   "outputs": [],
   "source": [
    "X_train = X_train/255.\n",
    "X_test = X_test/255."
   ]
  },
  {
   "cell_type": "markdown",
   "id": "ddcf4fab",
   "metadata": {
    "papermill": {
     "duration": 0.026366,
     "end_time": "2022-05-01T00:44:25.448663",
     "exception": false,
     "start_time": "2022-05-01T00:44:25.422297",
     "status": "completed"
    },
    "tags": []
   },
   "source": [
    "And setup the labels as 1 (when the digit is 3) and 0 (when the digit is 8)"
   ]
  },
  {
   "cell_type": "code",
   "execution_count": 12,
   "id": "7dc908f2",
   "metadata": {
    "execution": {
     "iopub.execute_input": "2022-05-01T00:44:25.508453Z",
     "iopub.status.busy": "2022-05-01T00:44:25.507892Z",
     "iopub.status.idle": "2022-05-01T00:44:25.519545Z",
     "shell.execute_reply": "2022-05-01T00:44:25.519078Z"
    },
    "papermill": {
     "duration": 0.044545,
     "end_time": "2022-05-01T00:44:25.519660",
     "exception": false,
     "start_time": "2022-05-01T00:44:25.475115",
     "status": "completed"
    },
    "tags": []
   },
   "outputs": [],
   "source": [
    "y_train = 1*(y_train==3)\n",
    "y_test = 1*(y_test==3)"
   ]
  },
  {
   "cell_type": "code",
   "execution_count": 13,
   "id": "01e4e969",
   "metadata": {
    "execution": {
     "iopub.execute_input": "2022-05-01T00:44:25.581936Z",
     "iopub.status.busy": "2022-05-01T00:44:25.581388Z",
     "iopub.status.idle": "2022-05-01T00:44:25.593961Z",
     "shell.execute_reply": "2022-05-01T00:44:25.593547Z"
    },
    "papermill": {
     "duration": 0.047794,
     "end_time": "2022-05-01T00:44:25.594077",
     "exception": false,
     "start_time": "2022-05-01T00:44:25.546283",
     "status": "completed"
    },
    "tags": []
   },
   "outputs": [
    {
     "data": {
      "text/plain": [
       "((11982, 28, 28), (1984, 28, 28))"
      ]
     },
     "execution_count": 13,
     "metadata": {},
     "output_type": "execute_result"
    }
   ],
   "source": [
    "X_train.shape, X_test.shape"
   ]
  },
  {
   "cell_type": "markdown",
   "id": "5ccf3f85",
   "metadata": {
    "papermill": {
     "duration": 0.026883,
     "end_time": "2022-05-01T00:44:25.647749",
     "exception": false,
     "start_time": "2022-05-01T00:44:25.620866",
     "status": "completed"
    },
    "tags": []
   },
   "source": [
    "We reshape the data to flatten the image pixels into a set of features or co-variates:"
   ]
  },
  {
   "cell_type": "code",
   "execution_count": 14,
   "id": "5286a4a3",
   "metadata": {
    "execution": {
     "iopub.execute_input": "2022-05-01T00:44:25.705999Z",
     "iopub.status.busy": "2022-05-01T00:44:25.705461Z",
     "iopub.status.idle": "2022-05-01T00:44:25.718745Z",
     "shell.execute_reply": "2022-05-01T00:44:25.719131Z"
    },
    "papermill": {
     "duration": 0.044511,
     "end_time": "2022-05-01T00:44:25.719267",
     "exception": false,
     "start_time": "2022-05-01T00:44:25.674756",
     "status": "completed"
    },
    "tags": []
   },
   "outputs": [
    {
     "data": {
      "text/plain": [
       "((11982, 784), (1984, 784))"
      ]
     },
     "execution_count": 14,
     "metadata": {},
     "output_type": "execute_result"
    }
   ],
   "source": [
    "X_train = X_train.reshape(X_train.shape[0], -1)\n",
    "X_test = X_test.reshape(X_test.shape[0], -1)\n",
    "X_train.shape, X_test.shape"
   ]
  },
  {
   "cell_type": "code",
   "execution_count": 15,
   "id": "73c5f88a",
   "metadata": {
    "execution": {
     "iopub.execute_input": "2022-05-01T00:44:25.792061Z",
     "iopub.status.busy": "2022-05-01T00:44:25.783429Z",
     "iopub.status.idle": "2022-05-01T00:44:25.801917Z",
     "shell.execute_reply": "2022-05-01T00:44:25.801486Z"
    },
    "papermill": {
     "duration": 0.055515,
     "end_time": "2022-05-01T00:44:25.802038",
     "exception": false,
     "start_time": "2022-05-01T00:44:25.746523",
     "status": "completed"
    },
    "tags": []
   },
   "outputs": [],
   "source": [
    "#Impoting functions from 'Kudzu'\n",
    "from kudzu.model import Model\n",
    "from kudzu.train import Learner\n",
    "from kudzu.optim import GD\n",
    "from kudzu.data import Data, Sampler,Dataloader\n",
    "\n",
    "from kudzu.callbacks import AccCallback\n",
    "from kudzu.callbacks import ClfCallback\n",
    "\n",
    "from kudzu.loss import MSE\n",
    "\n",
    "from kudzu.layer import Sigmoid,Relu\n",
    "from kudzu.layer import Affine"
   ]
  },
  {
   "cell_type": "markdown",
   "id": "bc01172a",
   "metadata": {
    "papermill": {
     "duration": 0.026951,
     "end_time": "2022-05-01T00:44:25.856280",
     "exception": false,
     "start_time": "2022-05-01T00:44:25.829329",
     "status": "completed"
    },
    "tags": []
   },
   "source": [
    "### Let us create a `Config` class, to store important parameters. \n",
    "This class essentially plays the role of a dictionary."
   ]
  },
  {
   "cell_type": "code",
   "execution_count": 16,
   "id": "978281aa",
   "metadata": {
    "execution": {
     "iopub.execute_input": "2022-05-01T00:44:25.915385Z",
     "iopub.status.busy": "2022-05-01T00:44:25.914869Z",
     "iopub.status.idle": "2022-05-01T00:44:25.926564Z",
     "shell.execute_reply": "2022-05-01T00:44:25.926146Z"
    },
    "papermill": {
     "duration": 0.043371,
     "end_time": "2022-05-01T00:44:25.926678",
     "exception": false,
     "start_time": "2022-05-01T00:44:25.883307",
     "status": "completed"
    },
    "tags": []
   },
   "outputs": [],
   "source": [
    "class Config:\n",
    "    pass\n",
    "config = Config()\n",
    "config.lr = 0.001\n",
    "config.num_epochs = 250\n",
    "config.bs = 50"
   ]
  },
  {
   "cell_type": "markdown",
   "id": "1385fa59",
   "metadata": {
    "papermill": {
     "duration": 0.027097,
     "end_time": "2022-05-01T00:44:25.981026",
     "exception": false,
     "start_time": "2022-05-01T00:44:25.953929",
     "status": "completed"
    },
    "tags": []
   },
   "source": [
    "### Running Models with the Training data\n",
    "Details about the network layers:\n",
    "- A first affine layer has 784 inputs and does 100 affine transforms. These are followed by a Relu\n",
    "- A second affine layer has 100 inputs from the 100 activations of the past layer, and does 100 affine transforms. These are followed by a Relu\n",
    "- A third affine layer has 100 activations and does 2 affine transformations to create an embedding for visualization. There is no non-linearity here.\n",
    "- A final \"logistic regression\" which has an affine transform from 2 inputs to 1 output, which is squeezed through a sigmoid.\n"
   ]
  },
  {
   "cell_type": "code",
   "execution_count": 17,
   "id": "2b9c66db",
   "metadata": {
    "execution": {
     "iopub.execute_input": "2022-05-01T00:44:26.039954Z",
     "iopub.status.busy": "2022-05-01T00:44:26.039413Z",
     "iopub.status.idle": "2022-05-01T00:44:26.052513Z",
     "shell.execute_reply": "2022-05-01T00:44:26.053279Z"
    },
    "papermill": {
     "duration": 0.045325,
     "end_time": "2022-05-01T00:44:26.053428",
     "exception": false,
     "start_time": "2022-05-01T00:44:26.008103",
     "status": "completed"
    },
    "tags": []
   },
   "outputs": [],
   "source": [
    "data = Data(X_train, y_train.reshape(-1,1))\n",
    "sampler = Sampler(data, config.bs, shuffle=True)\n",
    "\n",
    "dl = Dataloader(data, sampler)\n",
    "\n",
    "opt = GD(config.lr)\n",
    "loss = MSE()"
   ]
  },
  {
   "cell_type": "code",
   "execution_count": 18,
   "id": "b275e4c2",
   "metadata": {
    "execution": {
     "iopub.execute_input": "2022-05-01T00:44:26.112264Z",
     "iopub.status.busy": "2022-05-01T00:44:26.111732Z",
     "iopub.status.idle": "2022-05-01T00:44:26.123364Z",
     "shell.execute_reply": "2022-05-01T00:44:26.123758Z"
    },
    "papermill": {
     "duration": 0.043037,
     "end_time": "2022-05-01T00:44:26.123894",
     "exception": false,
     "start_time": "2022-05-01T00:44:26.080857",
     "status": "completed"
    },
    "tags": []
   },
   "outputs": [],
   "source": [
    "training_data_x = X_train\n",
    "testing_data_x = X_test\n",
    "training_data_y = y_train.reshape(-1,1)\n",
    "testing_data_y = y_test.reshape(-1,1)"
   ]
  },
  {
   "cell_type": "code",
   "execution_count": 19,
   "id": "76951160",
   "metadata": {
    "execution": {
     "iopub.execute_input": "2022-05-01T00:44:26.185247Z",
     "iopub.status.busy": "2022-05-01T00:44:26.184684Z",
     "iopub.status.idle": "2022-05-01T00:44:26.199503Z",
     "shell.execute_reply": "2022-05-01T00:44:26.199077Z"
    },
    "papermill": {
     "duration": 0.048521,
     "end_time": "2022-05-01T00:44:26.199621",
     "exception": false,
     "start_time": "2022-05-01T00:44:26.151100",
     "status": "completed"
    },
    "tags": []
   },
   "outputs": [
    {
     "name": "stdout",
     "output_type": "stream",
     "text": [
      "xavier\n",
      "xavier\n",
      "xavier\n",
      "xavier\n",
      "xavier\n"
     ]
    }
   ],
   "source": [
    "layers = [Affine(\"first\", 784, 100), Relu(\"first\"), Affine(\"second\", 100, 100), Relu(\"second\"), Affine(\"third\", 100, 2), Affine(\"last\", 2, 1), Sigmoid(\"last\")]\n",
    "model_nn = Model(layers)\n",
    "model_lr = Model([Affine(\"logits\", 784, 1), Sigmoid(\"sigmoid\")])"
   ]
  },
  {
   "cell_type": "code",
   "execution_count": 20,
   "id": "6eede77a",
   "metadata": {
    "execution": {
     "iopub.execute_input": "2022-05-01T00:44:26.261020Z",
     "iopub.status.busy": "2022-05-01T00:44:26.260492Z",
     "iopub.status.idle": "2022-05-01T00:44:26.272280Z",
     "shell.execute_reply": "2022-05-01T00:44:26.271859Z"
    },
    "papermill": {
     "duration": 0.044731,
     "end_time": "2022-05-01T00:44:26.272394",
     "exception": false,
     "start_time": "2022-05-01T00:44:26.227663",
     "status": "completed"
    },
    "tags": []
   },
   "outputs": [],
   "source": [
    "nn_learner = Learner(loss, model_nn, opt, config.num_epochs)\n",
    "acc_nn = ClfCallback(nn_learner, config.bs, training_data_x , testing_data_x, training_data_y, testing_data_y)\n",
    "nn_learner.set_callbacks([acc_nn])"
   ]
  },
  {
   "cell_type": "code",
   "execution_count": 21,
   "id": "877b6cc7",
   "metadata": {
    "execution": {
     "iopub.execute_input": "2022-05-01T00:44:26.344685Z",
     "iopub.status.busy": "2022-05-01T00:44:26.341152Z",
     "iopub.status.idle": "2022-05-01T00:44:26.347158Z",
     "shell.execute_reply": "2022-05-01T00:44:26.346713Z"
    },
    "papermill": {
     "duration": 0.047701,
     "end_time": "2022-05-01T00:44:26.347270",
     "exception": false,
     "start_time": "2022-05-01T00:44:26.299569",
     "status": "completed"
    },
    "tags": []
   },
   "outputs": [],
   "source": [
    "lr_learner = Learner(loss, model_lr, opt, config.num_epochs)\n",
    "acc_lr = ClfCallback(lr_learner, config.bs, training_data_x , testing_data_x, training_data_y, testing_data_y)\n",
    "lr_learner.set_callbacks([acc_lr])"
   ]
  },
  {
   "cell_type": "code",
   "execution_count": 22,
   "id": "d9b133c3",
   "metadata": {
    "execution": {
     "iopub.execute_input": "2022-05-01T00:44:26.418683Z",
     "iopub.status.busy": "2022-05-01T00:44:26.407311Z",
     "iopub.status.idle": "2022-05-01T00:45:44.905976Z",
     "shell.execute_reply": "2022-05-01T00:45:44.906764Z"
    },
    "papermill": {
     "duration": 78.532121,
     "end_time": "2022-05-01T00:45:44.906913",
     "exception": false,
     "start_time": "2022-05-01T00:44:26.374792",
     "status": "completed"
    },
    "tags": []
   },
   "outputs": [
    {
     "name": "stdout",
     "output_type": "stream",
     "text": [
      "Epoch 0, Loss 0.2283\n",
      "Training Accuracy: 0.7455, Testing Accuracy: 0.7621\n",
      "\n"
     ]
    },
    {
     "name": "stdout",
     "output_type": "stream",
     "text": [
      "Epoch 10, Loss 0.0809\n",
      "Training Accuracy: 0.9228, Testing Accuracy: 0.9350\n",
      "\n"
     ]
    },
    {
     "name": "stdout",
     "output_type": "stream",
     "text": [
      "Epoch 20, Loss 0.0505\n",
      "Training Accuracy: 0.9468, Testing Accuracy: 0.9602\n",
      "\n"
     ]
    },
    {
     "name": "stdout",
     "output_type": "stream",
     "text": [
      "Epoch 30, Loss 0.0405\n",
      "Training Accuracy: 0.9543, Testing Accuracy: 0.9632\n",
      "\n"
     ]
    },
    {
     "name": "stdout",
     "output_type": "stream",
     "text": [
      "Epoch 40, Loss 0.0356\n",
      "Training Accuracy: 0.9603, Testing Accuracy: 0.9652\n",
      "\n"
     ]
    },
    {
     "name": "stdout",
     "output_type": "stream",
     "text": [
      "Epoch 50, Loss 0.0325\n",
      "Training Accuracy: 0.9631, Testing Accuracy: 0.9682\n",
      "\n"
     ]
    },
    {
     "name": "stdout",
     "output_type": "stream",
     "text": [
      "Epoch 60, Loss 0.0303\n",
      "Training Accuracy: 0.9659, Testing Accuracy: 0.9688\n",
      "\n"
     ]
    },
    {
     "name": "stdout",
     "output_type": "stream",
     "text": [
      "Epoch 70, Loss 0.0286\n",
      "Training Accuracy: 0.9672, Testing Accuracy: 0.9698\n",
      "\n"
     ]
    },
    {
     "name": "stdout",
     "output_type": "stream",
     "text": [
      "Epoch 80, Loss 0.0273\n",
      "Training Accuracy: 0.9684, Testing Accuracy: 0.9703\n",
      "\n"
     ]
    },
    {
     "name": "stdout",
     "output_type": "stream",
     "text": [
      "Epoch 90, Loss 0.0261\n",
      "Training Accuracy: 0.9695, Testing Accuracy: 0.9708\n",
      "\n"
     ]
    },
    {
     "name": "stdout",
     "output_type": "stream",
     "text": [
      "Epoch 100, Loss 0.0252\n",
      "Training Accuracy: 0.9712, Testing Accuracy: 0.9698\n",
      "\n"
     ]
    },
    {
     "name": "stdout",
     "output_type": "stream",
     "text": [
      "Epoch 110, Loss 0.0243\n",
      "Training Accuracy: 0.9722, Testing Accuracy: 0.9708\n",
      "\n"
     ]
    },
    {
     "name": "stdout",
     "output_type": "stream",
     "text": [
      "Epoch 120, Loss 0.0236\n",
      "Training Accuracy: 0.9730, Testing Accuracy: 0.9728\n",
      "\n"
     ]
    },
    {
     "name": "stdout",
     "output_type": "stream",
     "text": [
      "Epoch 130, Loss 0.0229\n",
      "Training Accuracy: 0.9735, Testing Accuracy: 0.9733\n",
      "\n"
     ]
    },
    {
     "name": "stdout",
     "output_type": "stream",
     "text": [
      "Epoch 140, Loss 0.0223\n",
      "Training Accuracy: 0.9740, Testing Accuracy: 0.9733\n",
      "\n"
     ]
    },
    {
     "name": "stdout",
     "output_type": "stream",
     "text": [
      "Epoch 150, Loss 0.0217\n",
      "Training Accuracy: 0.9749, Testing Accuracy: 0.9733\n",
      "\n"
     ]
    },
    {
     "name": "stdout",
     "output_type": "stream",
     "text": [
      "Epoch 160, Loss 0.0211\n",
      "Training Accuracy: 0.9757, Testing Accuracy: 0.9743\n",
      "\n"
     ]
    },
    {
     "name": "stdout",
     "output_type": "stream",
     "text": [
      "Epoch 170, Loss 0.0206\n",
      "Training Accuracy: 0.9765, Testing Accuracy: 0.9743\n",
      "\n"
     ]
    },
    {
     "name": "stdout",
     "output_type": "stream",
     "text": [
      "Epoch 180, Loss 0.0201\n",
      "Training Accuracy: 0.9775, Testing Accuracy: 0.9738\n",
      "\n"
     ]
    },
    {
     "name": "stdout",
     "output_type": "stream",
     "text": [
      "Epoch 190, Loss 0.0197\n",
      "Training Accuracy: 0.9782, Testing Accuracy: 0.9738\n",
      "\n"
     ]
    },
    {
     "name": "stdout",
     "output_type": "stream",
     "text": [
      "Epoch 200, Loss 0.0192\n",
      "Training Accuracy: 0.9788, Testing Accuracy: 0.9743\n",
      "\n"
     ]
    },
    {
     "name": "stdout",
     "output_type": "stream",
     "text": [
      "Epoch 210, Loss 0.0188\n",
      "Training Accuracy: 0.9788, Testing Accuracy: 0.9748\n",
      "\n"
     ]
    },
    {
     "name": "stdout",
     "output_type": "stream",
     "text": [
      "Epoch 220, Loss 0.0184\n",
      "Training Accuracy: 0.9796, Testing Accuracy: 0.9748\n",
      "\n"
     ]
    },
    {
     "name": "stdout",
     "output_type": "stream",
     "text": [
      "Epoch 230, Loss 0.018\n",
      "Training Accuracy: 0.9799, Testing Accuracy: 0.9758\n",
      "\n"
     ]
    },
    {
     "name": "stdout",
     "output_type": "stream",
     "text": [
      "Epoch 240, Loss 0.0177\n",
      "Training Accuracy: 0.9806, Testing Accuracy: 0.9753\n",
      "\n"
     ]
    },
    {
     "data": {
      "text/plain": [
       "0.00583422091570047"
      ]
     },
     "execution_count": 22,
     "metadata": {},
     "output_type": "execute_result"
    }
   ],
   "source": [
    "nn_learner.train_loop(dl)"
   ]
  },
  {
   "cell_type": "code",
   "execution_count": 23,
   "id": "e0163366",
   "metadata": {
    "execution": {
     "iopub.execute_input": "2022-05-01T00:45:44.989452Z",
     "iopub.status.busy": "2022-05-01T00:45:44.988873Z",
     "iopub.status.idle": "2022-05-01T00:45:58.910384Z",
     "shell.execute_reply": "2022-05-01T00:45:58.911167Z"
    },
    "papermill": {
     "duration": 13.969263,
     "end_time": "2022-05-01T00:45:58.911316",
     "exception": false,
     "start_time": "2022-05-01T00:45:44.942053",
     "status": "completed"
    },
    "tags": []
   },
   "outputs": [
    {
     "name": "stdout",
     "output_type": "stream",
     "text": [
      "Epoch 0, Loss 0.2063\n",
      "Training Accuracy: 0.7840, Testing Accuracy: 0.7843\n",
      "\n"
     ]
    },
    {
     "name": "stdout",
     "output_type": "stream",
     "text": [
      "Epoch 10, Loss 0.1024\n",
      "Training Accuracy: 0.9010, Testing Accuracy: 0.9123\n",
      "\n"
     ]
    },
    {
     "name": "stdout",
     "output_type": "stream",
     "text": [
      "Epoch 20, Loss 0.0803\n",
      "Training Accuracy: 0.9221, Testing Accuracy: 0.9340\n",
      "\n"
     ]
    },
    {
     "name": "stdout",
     "output_type": "stream",
     "text": [
      "Epoch 30, Loss 0.0695\n",
      "Training Accuracy: 0.9323, Testing Accuracy: 0.9430\n",
      "\n"
     ]
    },
    {
     "name": "stdout",
     "output_type": "stream",
     "text": [
      "Epoch 40, Loss 0.0628\n",
      "Training Accuracy: 0.9376, Testing Accuracy: 0.9511\n",
      "\n"
     ]
    },
    {
     "name": "stdout",
     "output_type": "stream",
     "text": [
      "Epoch 50, Loss 0.0582\n",
      "Training Accuracy: 0.9417, Testing Accuracy: 0.9546\n",
      "\n"
     ]
    },
    {
     "name": "stdout",
     "output_type": "stream",
     "text": [
      "Epoch 60, Loss 0.0548\n",
      "Training Accuracy: 0.9449, Testing Accuracy: 0.9541\n",
      "\n"
     ]
    },
    {
     "name": "stdout",
     "output_type": "stream",
     "text": [
      "Epoch 70, Loss 0.0522\n",
      "Training Accuracy: 0.9472, Testing Accuracy: 0.9582\n",
      "\n"
     ]
    },
    {
     "name": "stdout",
     "output_type": "stream",
     "text": [
      "Epoch 80, Loss 0.0501\n",
      "Training Accuracy: 0.9500, Testing Accuracy: 0.9597\n",
      "\n"
     ]
    },
    {
     "name": "stdout",
     "output_type": "stream",
     "text": [
      "Epoch 90, Loss 0.0483\n",
      "Training Accuracy: 0.9521, Testing Accuracy: 0.9617\n",
      "\n"
     ]
    },
    {
     "name": "stdout",
     "output_type": "stream",
     "text": [
      "Epoch 100, Loss 0.0468\n",
      "Training Accuracy: 0.9531, Testing Accuracy: 0.9607\n",
      "\n"
     ]
    },
    {
     "name": "stdout",
     "output_type": "stream",
     "text": [
      "Epoch 110, Loss 0.0456\n",
      "Training Accuracy: 0.9544, Testing Accuracy: 0.9627\n",
      "\n"
     ]
    },
    {
     "name": "stdout",
     "output_type": "stream",
     "text": [
      "Epoch 120, Loss 0.0445\n",
      "Training Accuracy: 0.9553, Testing Accuracy: 0.9632\n",
      "\n"
     ]
    },
    {
     "name": "stdout",
     "output_type": "stream",
     "text": [
      "Epoch 130, Loss 0.0435\n",
      "Training Accuracy: 0.9561, Testing Accuracy: 0.9637\n",
      "\n"
     ]
    },
    {
     "name": "stdout",
     "output_type": "stream",
     "text": [
      "Epoch 140, Loss 0.0426\n",
      "Training Accuracy: 0.9566, Testing Accuracy: 0.9637\n",
      "\n"
     ]
    },
    {
     "name": "stdout",
     "output_type": "stream",
     "text": [
      "Epoch 150, Loss 0.0418\n",
      "Training Accuracy: 0.9572, Testing Accuracy: 0.9637\n",
      "\n"
     ]
    },
    {
     "name": "stdout",
     "output_type": "stream",
     "text": [
      "Epoch 160, Loss 0.0411\n",
      "Training Accuracy: 0.9577, Testing Accuracy: 0.9642\n",
      "\n"
     ]
    },
    {
     "name": "stdout",
     "output_type": "stream",
     "text": [
      "Epoch 170, Loss 0.0405\n",
      "Training Accuracy: 0.9579, Testing Accuracy: 0.9642\n",
      "\n"
     ]
    },
    {
     "name": "stdout",
     "output_type": "stream",
     "text": [
      "Epoch 180, Loss 0.0399\n",
      "Training Accuracy: 0.9585, Testing Accuracy: 0.9647\n",
      "\n"
     ]
    },
    {
     "name": "stdout",
     "output_type": "stream",
     "text": [
      "Epoch 190, Loss 0.0394\n",
      "Training Accuracy: 0.9591, Testing Accuracy: 0.9652\n",
      "\n"
     ]
    },
    {
     "name": "stdout",
     "output_type": "stream",
     "text": [
      "Epoch 200, Loss 0.0389\n",
      "Training Accuracy: 0.9597, Testing Accuracy: 0.9652\n",
      "\n"
     ]
    },
    {
     "name": "stdout",
     "output_type": "stream",
     "text": [
      "Epoch 210, Loss 0.0384\n",
      "Training Accuracy: 0.9599, Testing Accuracy: 0.9652\n",
      "\n"
     ]
    },
    {
     "name": "stdout",
     "output_type": "stream",
     "text": [
      "Epoch 220, Loss 0.038\n",
      "Training Accuracy: 0.9604, Testing Accuracy: 0.9667\n",
      "\n"
     ]
    },
    {
     "name": "stdout",
     "output_type": "stream",
     "text": [
      "Epoch 230, Loss 0.0376\n",
      "Training Accuracy: 0.9605, Testing Accuracy: 0.9667\n",
      "\n"
     ]
    },
    {
     "name": "stdout",
     "output_type": "stream",
     "text": [
      "Epoch 240, Loss 0.0372\n",
      "Training Accuracy: 0.9608, Testing Accuracy: 0.9667\n",
      "\n"
     ]
    },
    {
     "data": {
      "text/plain": [
       "0.028933140311356347"
      ]
     },
     "execution_count": 23,
     "metadata": {},
     "output_type": "execute_result"
    }
   ],
   "source": [
    "lr_learner.train_loop(dl)"
   ]
  },
  {
   "cell_type": "code",
   "execution_count": 24,
   "id": "ca410940",
   "metadata": {
    "execution": {
     "iopub.execute_input": "2022-05-01T00:45:59.002636Z",
     "iopub.status.busy": "2022-05-01T00:45:59.002087Z",
     "iopub.status.idle": "2022-05-01T00:45:59.227643Z",
     "shell.execute_reply": "2022-05-01T00:45:59.227211Z"
    },
    "papermill": {
     "duration": 0.275126,
     "end_time": "2022-05-01T00:45:59.227762",
     "exception": false,
     "start_time": "2022-05-01T00:45:58.952636",
     "status": "completed"
    },
    "tags": []
   },
   "outputs": [
    {
     "data": {
      "text/plain": [
       "<matplotlib.legend.Legend at 0x7ffb04fb7b38>"
      ]
     },
     "execution_count": 24,
     "metadata": {},
     "output_type": "execute_result"
    },
    {
     "data": {
      "image/png": "[encoded data removed]",
      "text/plain": [
       "<Figure size 1080x720 with 1 Axes>"
      ]
     },
     "metadata": {
      "needs_background": "light"
     },
     "output_type": "display_data"
    }
   ],
   "source": [
    "#comparing the results of NN and LR\n",
    "plt.figure(figsize=(15,10))\n",
    "\n",
    "# Neural Network plots\n",
    "plt.plot(acc_nn.accuracies, 'r-', label = \"Training Accuracies - NN\")\n",
    "plt.plot(acc_nn.test_accuracies, 'g-', label = \"Testing Accuracies - NN\")\n",
    "\n",
    "# Logistic Regression plots\n",
    "plt.plot(acc_lr.accuracies, 'k-', label = \"Training Accuracies - LR\")\n",
    "plt.plot(acc_lr.test_accuracies, 'b-', label = \"Testing Accuracies - LR\")\n",
    "plt.legend()"
   ]
  },
  {
   "cell_type": "markdown",
   "id": "80dfb35c",
   "metadata": {
    "papermill": {
     "duration": 0.042165,
     "end_time": "2022-05-01T00:45:59.312921",
     "exception": false,
     "start_time": "2022-05-01T00:45:59.270756",
     "status": "completed"
    },
    "tags": []
   },
   "source": [
    "#### Plotting the outputs of this layer of the NN.\n"
   ]
  },
  {
   "cell_type": "code",
   "execution_count": 25,
   "id": "45eb2ff5",
   "metadata": {
    "execution": {
     "iopub.execute_input": "2022-05-01T00:45:59.401213Z",
     "iopub.status.busy": "2022-05-01T00:45:59.400657Z",
     "iopub.status.idle": "2022-05-01T00:45:59.422146Z",
     "shell.execute_reply": "2022-05-01T00:45:59.421667Z"
    },
    "papermill": {
     "duration": 0.067108,
     "end_time": "2022-05-01T00:45:59.422275",
     "exception": false,
     "start_time": "2022-05-01T00:45:59.355167",
     "status": "completed"
    },
    "tags": []
   },
   "outputs": [],
   "source": [
    "new_model = Model(layers[:-2])\n",
    "testing_plot = new_model(testing_data_x)"
   ]
  },
  {
   "cell_type": "code",
   "execution_count": 26,
   "id": "4c0a5485",
   "metadata": {
    "execution": {
     "iopub.execute_input": "2022-05-01T00:45:59.511921Z",
     "iopub.status.busy": "2022-05-01T00:45:59.511374Z",
     "iopub.status.idle": "2022-05-01T00:45:59.691828Z",
     "shell.execute_reply": "2022-05-01T00:45:59.692256Z"
    },
    "papermill": {
     "duration": 0.22759,
     "end_time": "2022-05-01T00:45:59.692395",
     "exception": false,
     "start_time": "2022-05-01T00:45:59.464805",
     "status": "completed"
    },
    "tags": []
   },
   "outputs": [
    {
     "data": {
      "text/plain": [
       "Text(0.5, 1.0, 'Outputs')"
      ]
     },
     "execution_count": 26,
     "metadata": {},
     "output_type": "execute_result"
    },
    {
     "data": {
      "image/png": "[encoded data removed]",
      "text/plain": [
       "<Figure size 576x504 with 1 Axes>"
      ]
     },
     "metadata": {
      "needs_background": "light"
     },
     "output_type": "display_data"
    }
   ],
   "source": [
    "# Plotting the scatter plot of points and color coding by class\n",
    "plt.figure(figsize=(8,7))\n",
    "plt.scatter(testing_plot[:,0], testing_plot[:,1], alpha = 0.1, c = y_test.ravel());\n",
    "plt.title('Outputs')"
   ]
  },
  {
   "cell_type": "markdown",
   "id": "a74fcf8f",
   "metadata": {
    "papermill": {
     "duration": 0.044054,
     "end_time": "2022-05-01T00:45:59.780509",
     "exception": false,
     "start_time": "2022-05-01T00:45:59.736455",
     "status": "completed"
    },
    "tags": []
   },
   "source": [
    "Probability contours"
   ]
  },
  {
   "cell_type": "code",
   "execution_count": 27,
   "id": "d0afc8e3",
   "metadata": {
    "execution": {
     "iopub.execute_input": "2022-05-01T00:45:59.875122Z",
     "iopub.status.busy": "2022-05-01T00:45:59.873688Z",
     "iopub.status.idle": "2022-05-01T00:45:59.885917Z",
     "shell.execute_reply": "2022-05-01T00:45:59.885467Z"
    },
    "papermill": {
     "duration": 0.061639,
     "end_time": "2022-05-01T00:45:59.886029",
     "exception": false,
     "start_time": "2022-05-01T00:45:59.824390",
     "status": "completed"
    },
    "tags": []
   },
   "outputs": [],
   "source": [
    "model_prob = Model(layers[-2:]) "
   ]
  },
  {
   "cell_type": "code",
   "execution_count": 28,
   "id": "9b96e238",
   "metadata": {
    "execution": {
     "iopub.execute_input": "2022-05-01T00:46:00.011152Z",
     "iopub.status.busy": "2022-05-01T00:46:00.010600Z",
     "iopub.status.idle": "2022-05-01T00:46:00.025456Z",
     "shell.execute_reply": "2022-05-01T00:46:00.024413Z"
    },
    "papermill": {
     "duration": 0.063985,
     "end_time": "2022-05-01T00:46:00.025587",
     "exception": false,
     "start_time": "2022-05-01T00:45:59.961602",
     "status": "completed"
    },
    "tags": []
   },
   "outputs": [],
   "source": [
    "#creating the x and y ranges according to the above generated plot.\n",
    "x_range = np.linspace(-4, 1, 100) \n",
    "y_range = np.linspace(-6, 6, 100) \n",
    "x_grid, y_grid = np.meshgrid(x_range, y_range) # x_grid and y_grig are of size 100 X 100\n",
    "\n",
    "# converting x_grid and y_grid to continuous arrays\n",
    "x_gridflat = np.ravel(x_grid)\n",
    "y_gridflat = np.ravel(y_grid)\n",
    "\n",
    "# The last layer of the current model takes two columns as input. Hence transpose of np.vstack() is required.\n",
    "X = np.vstack((x_gridflat, y_gridflat)).T\n",
    "\n",
    "prob_contour = model_prob(X).reshape(100,100) "
   ]
  },
  {
   "cell_type": "code",
   "execution_count": 29,
   "id": "da72499a",
   "metadata": {
    "execution": {
     "iopub.execute_input": "2022-05-01T00:46:00.122904Z",
     "iopub.status.busy": "2022-05-01T00:46:00.122352Z",
     "iopub.status.idle": "2022-05-01T00:46:00.355572Z",
     "shell.execute_reply": "2022-05-01T00:46:00.355965Z"
    },
    "papermill": {
     "duration": 0.285868,
     "end_time": "2022-05-01T00:46:00.356111",
     "exception": false,
     "start_time": "2022-05-01T00:46:00.070243",
     "status": "completed"
    },
    "tags": []
   },
   "outputs": [
    {
     "data": {
      "image/png": "[encoded data removed]",
      "text/plain": [
       "<Figure size 720x648 with 1 Axes>"
      ]
     },
     "metadata": {
      "needs_background": "light"
     },
     "output_type": "display_data"
    }
   ],
   "source": [
    "plt.figure(figsize=(10,9))\n",
    "plt.scatter(testing_plot[:,0], testing_plot[:,1], alpha = 0.1, c = y_test.ravel())\n",
    "contours = plt.contour(x_grid,y_grid,prob_contour)\n",
    "plt.title('Probability Contours')\n",
    "plt.clabel(contours, inline = True );"
   ]
  },
  {
   "cell_type": "code",
   "execution_count": null,
   "id": "e81b4ac7",
   "metadata": {
    "papermill": {
     "duration": 0.046539,
     "end_time": "2022-05-01T00:46:00.449774",
     "exception": false,
     "start_time": "2022-05-01T00:46:00.403235",
     "status": "completed"
    },
    "tags": []
   },
   "outputs": [],
   "source": []
  }
 ],
 "metadata": {
  "kernelspec": {
   "display_name": "Python 3",
   "language": "python",
   "name": "python3"
  },
  "language_info": {
   "codemirror_mode": {
    "name": "ipython",
    "version": 3
   },
   "file_extension": ".py",
   "mimetype": "text/x-python",
   "name": "python",
   "nbconvert_exporter": "python",
   "pygments_lexer": "ipython3",
   "version": "3.6.15"
  },
  "papermill": {
   "default_parameters": {},
   "duration": 100.976874,
   "end_time": "2022-05-01T00:46:00.914830",
   "environment_variables": {},
   "exception": null,
   "input_path": "2020-08-11-part2.ipynb",
   "output_path": "2020-08-11-part2.ipynb",
   "parameters": {},
   "start_time": "2022-05-01T00:44:19.937956",
   "version": "2.3.3"
  }
 },
 "nbformat": 4,
 "nbformat_minor": 5
}