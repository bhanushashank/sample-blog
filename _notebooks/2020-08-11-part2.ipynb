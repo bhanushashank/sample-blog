{
 "cells": [
  {
   "cell_type": "markdown",
   "id": "98380cd3",
   "metadata": {
    "papermill": {
     "duration": 0.028514,
     "end_time": "2021-10-21T20:08:13.396487",
     "exception": false,
     "start_time": "2021-10-21T20:08:13.367973",
     "status": "completed"
    },
    "tags": []
   },
   "source": [
    "# Distinguish Your Own Digits (DYOD)"
   ]
  },
  {
   "cell_type": "markdown",
   "id": "ef31240d",
   "metadata": {
    "papermill": {
     "duration": 0.023947,
     "end_time": "2021-10-21T20:08:13.445077",
     "exception": false,
     "start_time": "2021-10-21T20:08:13.421130",
     "status": "completed"
    },
    "tags": []
   },
   "source": [
    "You are going to write a classifier that distinguishes between the number 3 and number 8."
   ]
  },
  {
   "cell_type": "code",
   "execution_count": 1,
   "id": "b15c8646",
   "metadata": {
    "execution": {
     "iopub.execute_input": "2021-10-21T20:08:13.505656Z",
     "iopub.status.busy": "2021-10-21T20:08:13.505099Z",
     "iopub.status.idle": "2021-10-21T20:08:13.515866Z",
     "shell.execute_reply": "2021-10-21T20:08:13.515414Z"
    },
    "papermill": {
     "duration": 0.047134,
     "end_time": "2021-10-21T20:08:13.516031",
     "exception": false,
     "start_time": "2021-10-21T20:08:13.468897",
     "status": "completed"
    },
    "tags": []
   },
   "outputs": [],
   "source": [
    "%load_ext autoreload\n",
    "%autoreload 2"
   ]
  },
  {
   "cell_type": "code",
   "execution_count": 2,
   "id": "22ef38dc",
   "metadata": {
    "execution": {
     "iopub.execute_input": "2021-10-21T20:08:13.568710Z",
     "iopub.status.busy": "2021-10-21T20:08:13.568168Z",
     "iopub.status.idle": "2021-10-21T20:08:14.119938Z",
     "shell.execute_reply": "2021-10-21T20:08:14.119366Z"
    },
    "papermill": {
     "duration": 0.579827,
     "end_time": "2021-10-21T20:08:14.120099",
     "exception": false,
     "start_time": "2021-10-21T20:08:13.540272",
     "status": "completed"
    },
    "tags": []
   },
   "outputs": [],
   "source": [
    "%matplotlib inline\n",
    "import numpy as np\n",
    "import matplotlib.pyplot as plt\n",
    "import pandas as pd"
   ]
  },
  {
   "cell_type": "markdown",
   "id": "ba036198",
   "metadata": {
    "papermill": {
     "duration": 0.024235,
     "end_time": "2021-10-21T20:08:14.168933",
     "exception": false,
     "start_time": "2021-10-21T20:08:14.144698",
     "status": "completed"
    },
    "tags": []
   },
   "source": [
    "From the command line run `pip install mnist`. This is a library that will help you bring down the mnist dataset. If you run this from a notebook, you need to put  `!pip install mnist` in a cell by itself."
   ]
  },
  {
   "cell_type": "code",
   "execution_count": 3,
   "id": "bb6ad8a1",
   "metadata": {
    "execution": {
     "iopub.execute_input": "2021-10-21T20:08:14.236018Z",
     "iopub.status.busy": "2021-10-21T20:08:14.229879Z",
     "iopub.status.idle": "2021-10-21T20:08:15.957832Z",
     "shell.execute_reply": "2021-10-21T20:08:15.957329Z"
    },
    "papermill": {
     "duration": 1.764836,
     "end_time": "2021-10-21T20:08:15.957960",
     "exception": false,
     "start_time": "2021-10-21T20:08:14.193124",
     "status": "completed"
    },
    "tags": []
   },
   "outputs": [
    {
     "name": "stdout",
     "output_type": "stream",
     "text": [
      "Collecting mnist\r\n"
     ]
    },
    {
     "name": "stdout",
     "output_type": "stream",
     "text": [
      "  Downloading mnist-0.2.2-py2.py3-none-any.whl (3.5 kB)\r\n",
      "Requirement already satisfied: numpy in /opt/hostedtoolcache/Python/3.6.15/x64/lib/python3.6/site-packages (from mnist) (1.19.5)\r\n"
     ]
    },
    {
     "name": "stdout",
     "output_type": "stream",
     "text": [
      "Installing collected packages: mnist\r\n"
     ]
    },
    {
     "name": "stdout",
     "output_type": "stream",
     "text": [
      "Successfully installed mnist-0.2.2\r\n"
     ]
    }
   ],
   "source": [
    "!pip install mnist"
   ]
  },
  {
   "cell_type": "markdown",
   "id": "69df9c9a",
   "metadata": {
    "papermill": {
     "duration": 0.025453,
     "end_time": "2021-10-21T20:08:16.009016",
     "exception": false,
     "start_time": "2021-10-21T20:08:15.983563",
     "status": "completed"
    },
    "tags": []
   },
   "source": [
    "## Preparing the Data"
   ]
  },
  {
   "cell_type": "code",
   "execution_count": 4,
   "id": "7f69d806",
   "metadata": {
    "execution": {
     "iopub.execute_input": "2021-10-21T20:08:16.073418Z",
     "iopub.status.busy": "2021-10-21T20:08:16.068918Z",
     "iopub.status.idle": "2021-10-21T20:08:16.081125Z",
     "shell.execute_reply": "2021-10-21T20:08:16.080678Z"
    },
    "papermill": {
     "duration": 0.047028,
     "end_time": "2021-10-21T20:08:16.081261",
     "exception": false,
     "start_time": "2021-10-21T20:08:16.034233",
     "status": "completed"
    },
    "tags": []
   },
   "outputs": [],
   "source": [
    "import mnist"
   ]
  },
  {
   "cell_type": "code",
   "execution_count": 5,
   "id": "a411e44f",
   "metadata": {
    "execution": {
     "iopub.execute_input": "2021-10-21T20:08:16.140203Z",
     "iopub.status.busy": "2021-10-21T20:08:16.139618Z",
     "iopub.status.idle": "2021-10-21T20:08:16.638018Z",
     "shell.execute_reply": "2021-10-21T20:08:16.637500Z"
    },
    "papermill": {
     "duration": 0.531239,
     "end_time": "2021-10-21T20:08:16.638146",
     "exception": false,
     "start_time": "2021-10-21T20:08:16.106907",
     "status": "completed"
    },
    "tags": []
   },
   "outputs": [],
   "source": [
    "train_images = mnist.train_images()\n",
    "train_labels = mnist.train_labels()"
   ]
  },
  {
   "cell_type": "code",
   "execution_count": 6,
   "id": "dceab3a5",
   "metadata": {
    "execution": {
     "iopub.execute_input": "2021-10-21T20:08:16.702445Z",
     "iopub.status.busy": "2021-10-21T20:08:16.701867Z",
     "iopub.status.idle": "2021-10-21T20:08:16.713519Z",
     "shell.execute_reply": "2021-10-21T20:08:16.713061Z"
    },
    "papermill": {
     "duration": 0.049946,
     "end_time": "2021-10-21T20:08:16.713648",
     "exception": false,
     "start_time": "2021-10-21T20:08:16.663702",
     "status": "completed"
    },
    "tags": []
   },
   "outputs": [
    {
     "data": {
      "text/plain": [
       "((60000, 28, 28), (60000,))"
      ]
     },
     "execution_count": 6,
     "metadata": {},
     "output_type": "execute_result"
    }
   ],
   "source": [
    "train_images.shape, train_labels.shape"
   ]
  },
  {
   "cell_type": "code",
   "execution_count": 7,
   "id": "f50dc2bb",
   "metadata": {
    "execution": {
     "iopub.execute_input": "2021-10-21T20:08:16.769830Z",
     "iopub.status.busy": "2021-10-21T20:08:16.769302Z",
     "iopub.status.idle": "2021-10-21T20:08:16.905273Z",
     "shell.execute_reply": "2021-10-21T20:08:16.904780Z"
    },
    "papermill": {
     "duration": 0.166068,
     "end_time": "2021-10-21T20:08:16.905410",
     "exception": false,
     "start_time": "2021-10-21T20:08:16.739342",
     "status": "completed"
    },
    "tags": []
   },
   "outputs": [],
   "source": [
    "test_images = mnist.test_images()\n",
    "test_labels = mnist.test_labels()"
   ]
  },
  {
   "cell_type": "code",
   "execution_count": 8,
   "id": "fc38cf1b",
   "metadata": {
    "execution": {
     "iopub.execute_input": "2021-10-21T20:08:16.961562Z",
     "iopub.status.busy": "2021-10-21T20:08:16.961038Z",
     "iopub.status.idle": "2021-10-21T20:08:16.974661Z",
     "shell.execute_reply": "2021-10-21T20:08:16.975163Z"
    },
    "papermill": {
     "duration": 0.044,
     "end_time": "2021-10-21T20:08:16.975314",
     "exception": false,
     "start_time": "2021-10-21T20:08:16.931314",
     "status": "completed"
    },
    "tags": []
   },
   "outputs": [
    {
     "data": {
      "text/plain": [
       "((10000, 28, 28), (10000,))"
      ]
     },
     "execution_count": 8,
     "metadata": {},
     "output_type": "execute_result"
    }
   ],
   "source": [
    "test_images.shape, test_labels.shape"
   ]
  },
  {
   "cell_type": "code",
   "execution_count": 9,
   "id": "f9ed8fe0",
   "metadata": {
    "execution": {
     "iopub.execute_input": "2021-10-21T20:08:17.034528Z",
     "iopub.status.busy": "2021-10-21T20:08:17.033987Z",
     "iopub.status.idle": "2021-10-21T20:08:17.175770Z",
     "shell.execute_reply": "2021-10-21T20:08:17.176295Z"
    },
    "papermill": {
     "duration": 0.175499,
     "end_time": "2021-10-21T20:08:17.176463",
     "exception": false,
     "start_time": "2021-10-21T20:08:17.000964",
     "status": "completed"
    },
    "tags": []
   },
   "outputs": [
    {
     "name": "stdout",
     "output_type": "stream",
     "text": [
      "2\n"
     ]
    },
    {
     "data": {
      "text/plain": [
       "<matplotlib.image.AxesImage at 0x7f009d072978>"
      ]
     },
     "execution_count": 9,
     "metadata": {},
     "output_type": "execute_result"
    },
    {
     "data": {
      "image/png": "[encoded data removed]",
      "text/plain": [
       "<Figure size 432x288 with 1 Axes>"
      ]
     },
     "metadata": {
      "needs_background": "light"
     },
     "output_type": "display_data"
    }
   ],
   "source": [
    "image_index = 7776 # You may select anything up to 60,000\n",
    "print(train_labels[image_index]) \n",
    "plt.imshow(train_images[image_index], cmap='Greys')"
   ]
  },
  {
   "cell_type": "markdown",
   "id": "a8d2388d",
   "metadata": {
    "papermill": {
     "duration": 0.026713,
     "end_time": "2021-10-21T20:08:17.230456",
     "exception": false,
     "start_time": "2021-10-21T20:08:17.203743",
     "status": "completed"
    },
    "tags": []
   },
   "source": [
    "## Filter data to get 3 and 8 out"
   ]
  },
  {
   "cell_type": "code",
   "execution_count": 10,
   "id": "776f7fc7",
   "metadata": {
    "execution": {
     "iopub.execute_input": "2021-10-21T20:08:17.288676Z",
     "iopub.status.busy": "2021-10-21T20:08:17.288100Z",
     "iopub.status.idle": "2021-10-21T20:08:17.305950Z",
     "shell.execute_reply": "2021-10-21T20:08:17.305498Z"
    },
    "papermill": {
     "duration": 0.048796,
     "end_time": "2021-10-21T20:08:17.306085",
     "exception": false,
     "start_time": "2021-10-21T20:08:17.257289",
     "status": "completed"
    },
    "tags": []
   },
   "outputs": [],
   "source": [
    "train_filter = np.where((train_labels == 3 ) | (train_labels == 8))\n",
    "test_filter = np.where((test_labels == 3) | (test_labels == 8))\n",
    "X_train, y_train = train_images[train_filter], train_labels[train_filter]\n",
    "X_test, y_test = test_images[test_filter], test_labels[test_filter]"
   ]
  },
  {
   "cell_type": "markdown",
   "id": "948f0b7e",
   "metadata": {
    "papermill": {
     "duration": 0.02671,
     "end_time": "2021-10-21T20:08:17.359740",
     "exception": false,
     "start_time": "2021-10-21T20:08:17.333030",
     "status": "completed"
    },
    "tags": []
   },
   "source": [
    "We normalize the pizel values in the 0 to 1 range"
   ]
  },
  {
   "cell_type": "code",
   "execution_count": 11,
   "id": "ee4c2166",
   "metadata": {
    "execution": {
     "iopub.execute_input": "2021-10-21T20:08:17.417332Z",
     "iopub.status.busy": "2021-10-21T20:08:17.416776Z",
     "iopub.status.idle": "2021-10-21T20:08:17.466003Z",
     "shell.execute_reply": "2021-10-21T20:08:17.465478Z"
    },
    "papermill": {
     "duration": 0.079792,
     "end_time": "2021-10-21T20:08:17.466148",
     "exception": false,
     "start_time": "2021-10-21T20:08:17.386356",
     "status": "completed"
    },
    "tags": []
   },
   "outputs": [],
   "source": [
    "X_train = X_train/255.\n",
    "X_test = X_test/255."
   ]
  },
  {
   "cell_type": "markdown",
   "id": "ddcf4fab",
   "metadata": {
    "papermill": {
     "duration": 0.026743,
     "end_time": "2021-10-21T20:08:17.519964",
     "exception": false,
     "start_time": "2021-10-21T20:08:17.493221",
     "status": "completed"
    },
    "tags": []
   },
   "source": [
    "And setup the labels as 1 (when the digit is 3) and 0 (when the digit is 8)"
   ]
  },
  {
   "cell_type": "code",
   "execution_count": 12,
   "id": "7dc908f2",
   "metadata": {
    "execution": {
     "iopub.execute_input": "2021-10-21T20:08:17.578723Z",
     "iopub.status.busy": "2021-10-21T20:08:17.578188Z",
     "iopub.status.idle": "2021-10-21T20:08:17.589767Z",
     "shell.execute_reply": "2021-10-21T20:08:17.589309Z"
    },
    "papermill": {
     "duration": 0.043273,
     "end_time": "2021-10-21T20:08:17.589888",
     "exception": false,
     "start_time": "2021-10-21T20:08:17.546615",
     "status": "completed"
    },
    "tags": []
   },
   "outputs": [],
   "source": [
    "y_train = 1*(y_train==3)\n",
    "y_test = 1*(y_test==3)"
   ]
  },
  {
   "cell_type": "code",
   "execution_count": 13,
   "id": "01e4e969",
   "metadata": {
    "execution": {
     "iopub.execute_input": "2021-10-21T20:08:17.648043Z",
     "iopub.status.busy": "2021-10-21T20:08:17.647439Z",
     "iopub.status.idle": "2021-10-21T20:08:17.661352Z",
     "shell.execute_reply": "2021-10-21T20:08:17.660922Z"
    },
    "papermill": {
     "duration": 0.044435,
     "end_time": "2021-10-21T20:08:17.661473",
     "exception": false,
     "start_time": "2021-10-21T20:08:17.617038",
     "status": "completed"
    },
    "tags": []
   },
   "outputs": [
    {
     "data": {
      "text/plain": [
       "((11982, 28, 28), (1984, 28, 28))"
      ]
     },
     "execution_count": 13,
     "metadata": {},
     "output_type": "execute_result"
    }
   ],
   "source": [
    "X_train.shape, X_test.shape"
   ]
  },
  {
   "cell_type": "markdown",
   "id": "5ccf3f85",
   "metadata": {
    "papermill": {
     "duration": 0.02685,
     "end_time": "2021-10-21T20:08:17.715228",
     "exception": false,
     "start_time": "2021-10-21T20:08:17.688378",
     "status": "completed"
    },
    "tags": []
   },
   "source": [
    "We reshape the data to flatten the image pixels into a set of features or co-variates:"
   ]
  },
  {
   "cell_type": "code",
   "execution_count": 14,
   "id": "5286a4a3",
   "metadata": {
    "execution": {
     "iopub.execute_input": "2021-10-21T20:08:17.775499Z",
     "iopub.status.busy": "2021-10-21T20:08:17.774954Z",
     "iopub.status.idle": "2021-10-21T20:08:17.787777Z",
     "shell.execute_reply": "2021-10-21T20:08:17.787342Z"
    },
    "papermill": {
     "duration": 0.045611,
     "end_time": "2021-10-21T20:08:17.787899",
     "exception": false,
     "start_time": "2021-10-21T20:08:17.742288",
     "status": "completed"
    },
    "tags": []
   },
   "outputs": [
    {
     "data": {
      "text/plain": [
       "((11982, 784), (1984, 784))"
      ]
     },
     "execution_count": 14,
     "metadata": {},
     "output_type": "execute_result"
    }
   ],
   "source": [
    "X_train = X_train.reshape(X_train.shape[0], -1)\n",
    "X_test = X_test.reshape(X_test.shape[0], -1)\n",
    "X_train.shape, X_test.shape"
   ]
  },
  {
   "cell_type": "code",
   "execution_count": 15,
   "id": "73c5f88a",
   "metadata": {
    "execution": {
     "iopub.execute_input": "2021-10-21T20:08:17.850553Z",
     "iopub.status.busy": "2021-10-21T20:08:17.850021Z",
     "iopub.status.idle": "2021-10-21T20:08:17.868072Z",
     "shell.execute_reply": "2021-10-21T20:08:17.867599Z"
    },
    "papermill": {
     "duration": 0.052943,
     "end_time": "2021-10-21T20:08:17.868206",
     "exception": false,
     "start_time": "2021-10-21T20:08:17.815263",
     "status": "completed"
    },
    "tags": []
   },
   "outputs": [],
   "source": [
    "#Impoting functions from 'Kudzu'\n",
    "from kudzu.model import Model\n",
    "from kudzu.train import Learner\n",
    "from kudzu.optim import GD\n",
    "from kudzu.data import Data, Sampler,Dataloader\n",
    "\n",
    "from kudzu.callbacks import AccCallback\n",
    "from kudzu.callbacks import ClfCallback\n",
    "\n",
    "from kudzu.loss import MSE\n",
    "\n",
    "from kudzu.layer import Sigmoid,Relu\n",
    "from kudzu.layer import Affine"
   ]
  },
  {
   "cell_type": "markdown",
   "id": "bc01172a",
   "metadata": {
    "papermill": {
     "duration": 0.027175,
     "end_time": "2021-10-21T20:08:17.922878",
     "exception": false,
     "start_time": "2021-10-21T20:08:17.895703",
     "status": "completed"
    },
    "tags": []
   },
   "source": [
    "### Let us create a `Config` class, to store important parameters. \n",
    "This class essentially plays the role of a dictionary."
   ]
  },
  {
   "cell_type": "code",
   "execution_count": 16,
   "id": "978281aa",
   "metadata": {
    "execution": {
     "iopub.execute_input": "2021-10-21T20:08:17.981274Z",
     "iopub.status.busy": "2021-10-21T20:08:17.980743Z",
     "iopub.status.idle": "2021-10-21T20:08:17.993100Z",
     "shell.execute_reply": "2021-10-21T20:08:17.992640Z"
    },
    "papermill": {
     "duration": 0.043219,
     "end_time": "2021-10-21T20:08:17.993222",
     "exception": false,
     "start_time": "2021-10-21T20:08:17.950003",
     "status": "completed"
    },
    "tags": []
   },
   "outputs": [],
   "source": [
    "class Config:\n",
    "    pass\n",
    "config = Config()\n",
    "config.lr = 0.001\n",
    "config.num_epochs = 250\n",
    "config.bs = 50"
   ]
  },
  {
   "cell_type": "markdown",
   "id": "1385fa59",
   "metadata": {
    "papermill": {
     "duration": 0.027277,
     "end_time": "2021-10-21T20:08:18.047963",
     "exception": false,
     "start_time": "2021-10-21T20:08:18.020686",
     "status": "completed"
    },
    "tags": []
   },
   "source": [
    "### Running Models with the Training data\n",
    "Details about the network layers:\n",
    "- A first affine layer has 784 inputs and does 100 affine transforms. These are followed by a Relu\n",
    "- A second affine layer has 100 inputs from the 100 activations of the past layer, and does 100 affine transforms. These are followed by a Relu\n",
    "- A third affine layer has 100 activations and does 2 affine transformations to create an embedding for visualization. There is no non-linearity here.\n",
    "- A final \"logistic regression\" which has an affine transform from 2 inputs to 1 output, which is squeezed through a sigmoid.\n"
   ]
  },
  {
   "cell_type": "code",
   "execution_count": 17,
   "id": "2b9c66db",
   "metadata": {
    "execution": {
     "iopub.execute_input": "2021-10-21T20:08:18.116756Z",
     "iopub.status.busy": "2021-10-21T20:08:18.115335Z",
     "iopub.status.idle": "2021-10-21T20:08:18.123263Z",
     "shell.execute_reply": "2021-10-21T20:08:18.122821Z"
    },
    "papermill": {
     "duration": 0.04824,
     "end_time": "2021-10-21T20:08:18.123396",
     "exception": false,
     "start_time": "2021-10-21T20:08:18.075156",
     "status": "completed"
    },
    "tags": []
   },
   "outputs": [],
   "source": [
    "data = Data(X_train, y_train.reshape(-1,1))\n",
    "sampler = Sampler(data, config.bs, shuffle=True)\n",
    "\n",
    "dl = Dataloader(data, sampler)\n",
    "\n",
    "opt = GD(config.lr)\n",
    "loss = MSE()"
   ]
  },
  {
   "cell_type": "code",
   "execution_count": 18,
   "id": "b275e4c2",
   "metadata": {
    "execution": {
     "iopub.execute_input": "2021-10-21T20:08:18.183777Z",
     "iopub.status.busy": "2021-10-21T20:08:18.183240Z",
     "iopub.status.idle": "2021-10-21T20:08:18.195022Z",
     "shell.execute_reply": "2021-10-21T20:08:18.194587Z"
    },
    "papermill": {
     "duration": 0.044303,
     "end_time": "2021-10-21T20:08:18.195152",
     "exception": false,
     "start_time": "2021-10-21T20:08:18.150849",
     "status": "completed"
    },
    "tags": []
   },
   "outputs": [],
   "source": [
    "training_data_x = X_train\n",
    "testing_data_x = X_test\n",
    "training_data_y = y_train.reshape(-1,1)\n",
    "testing_data_y = y_test.reshape(-1,1)"
   ]
  },
  {
   "cell_type": "code",
   "execution_count": 19,
   "id": "76951160",
   "metadata": {
    "execution": {
     "iopub.execute_input": "2021-10-21T20:08:18.254233Z",
     "iopub.status.busy": "2021-10-21T20:08:18.253699Z",
     "iopub.status.idle": "2021-10-21T20:08:18.270000Z",
     "shell.execute_reply": "2021-10-21T20:08:18.269550Z"
    },
    "papermill": {
     "duration": 0.047778,
     "end_time": "2021-10-21T20:08:18.270124",
     "exception": false,
     "start_time": "2021-10-21T20:08:18.222346",
     "status": "completed"
    },
    "tags": []
   },
   "outputs": [
    {
     "name": "stdout",
     "output_type": "stream",
     "text": [
      "xavier\n",
      "xavier\n",
      "xavier\n",
      "xavier\n",
      "xavier\n"
     ]
    }
   ],
   "source": [
    "layers = [Affine(\"first\", 784, 100), Relu(\"first\"), Affine(\"second\", 100, 100), Relu(\"second\"), Affine(\"third\", 100, 2), Affine(\"last\", 2, 1), Sigmoid(\"last\")]\n",
    "model_nn = Model(layers)\n",
    "model_lr = Model([Affine(\"logits\", 784, 1), Sigmoid(\"sigmoid\")])"
   ]
  },
  {
   "cell_type": "code",
   "execution_count": 20,
   "id": "6eede77a",
   "metadata": {
    "execution": {
     "iopub.execute_input": "2021-10-21T20:08:18.329623Z",
     "iopub.status.busy": "2021-10-21T20:08:18.329096Z",
     "iopub.status.idle": "2021-10-21T20:08:18.342261Z",
     "shell.execute_reply": "2021-10-21T20:08:18.341804Z"
    },
    "papermill": {
     "duration": 0.044596,
     "end_time": "2021-10-21T20:08:18.342389",
     "exception": false,
     "start_time": "2021-10-21T20:08:18.297793",
     "status": "completed"
    },
    "tags": []
   },
   "outputs": [],
   "source": [
    "nn_learner = Learner(loss, model_nn, opt, config.num_epochs)\n",
    "acc_nn = ClfCallback(nn_learner, config.bs, training_data_x , testing_data_x, training_data_y, testing_data_y)\n",
    "nn_learner.set_callbacks([acc_nn])"
   ]
  },
  {
   "cell_type": "code",
   "execution_count": 21,
   "id": "877b6cc7",
   "metadata": {
    "execution": {
     "iopub.execute_input": "2021-10-21T20:08:18.405359Z",
     "iopub.status.busy": "2021-10-21T20:08:18.404813Z",
     "iopub.status.idle": "2021-10-21T20:08:18.415453Z",
     "shell.execute_reply": "2021-10-21T20:08:18.415012Z"
    },
    "papermill": {
     "duration": 0.045435,
     "end_time": "2021-10-21T20:08:18.415580",
     "exception": false,
     "start_time": "2021-10-21T20:08:18.370145",
     "status": "completed"
    },
    "tags": []
   },
   "outputs": [],
   "source": [
    "lr_learner = Learner(loss, model_lr, opt, config.num_epochs)\n",
    "acc_lr = ClfCallback(lr_learner, config.bs, training_data_x , testing_data_x, training_data_y, testing_data_y)\n",
    "lr_learner.set_callbacks([acc_lr])"
   ]
  },
  {
   "cell_type": "code",
   "execution_count": 22,
   "id": "d9b133c3",
   "metadata": {
    "execution": {
     "iopub.execute_input": "2021-10-21T20:08:18.476805Z",
     "iopub.status.busy": "2021-10-21T20:08:18.476255Z",
     "iopub.status.idle": "2021-10-21T20:09:41.456577Z",
     "shell.execute_reply": "2021-10-21T20:09:41.457409Z"
    },
    "papermill": {
     "duration": 83.014254,
     "end_time": "2021-10-21T20:09:41.457573",
     "exception": false,
     "start_time": "2021-10-21T20:08:18.443319",
     "status": "completed"
    },
    "tags": []
   },
   "outputs": [
    {
     "name": "stdout",
     "output_type": "stream",
     "text": [
      "Epoch 0, Loss 0.2446\n",
      "Training Accuracy: 0.5701, Testing Accuracy: 0.5922\n",
      "\n"
     ]
    },
    {
     "name": "stdout",
     "output_type": "stream",
     "text": [
      "Epoch 10, Loss 0.1816\n",
      "Training Accuracy: 0.8694, Testing Accuracy: 0.8684\n",
      "\n"
     ]
    },
    {
     "name": "stdout",
     "output_type": "stream",
     "text": [
      "Epoch 20, Loss 0.0945\n",
      "Training Accuracy: 0.9104, Testing Accuracy: 0.9128\n",
      "\n"
     ]
    },
    {
     "name": "stdout",
     "output_type": "stream",
     "text": [
      "Epoch 30, Loss 0.0621\n",
      "Training Accuracy: 0.9342, Testing Accuracy: 0.9446\n",
      "\n"
     ]
    },
    {
     "name": "stdout",
     "output_type": "stream",
     "text": [
      "Epoch 40, Loss 0.0482\n",
      "Training Accuracy: 0.9469, Testing Accuracy: 0.9582\n",
      "\n"
     ]
    },
    {
     "name": "stdout",
     "output_type": "stream",
     "text": [
      "Epoch 50, Loss 0.041\n",
      "Training Accuracy: 0.9528, Testing Accuracy: 0.9622\n",
      "\n"
     ]
    },
    {
     "name": "stdout",
     "output_type": "stream",
     "text": [
      "Epoch 60, Loss 0.0368\n",
      "Training Accuracy: 0.9559, Testing Accuracy: 0.9662\n",
      "\n"
     ]
    },
    {
     "name": "stdout",
     "output_type": "stream",
     "text": [
      "Epoch 70, Loss 0.0339\n",
      "Training Accuracy: 0.9589, Testing Accuracy: 0.9682\n",
      "\n"
     ]
    },
    {
     "name": "stdout",
     "output_type": "stream",
     "text": [
      "Epoch 80, Loss 0.0318\n",
      "Training Accuracy: 0.9616, Testing Accuracy: 0.9693\n",
      "\n"
     ]
    },
    {
     "name": "stdout",
     "output_type": "stream",
     "text": [
      "Epoch 90, Loss 0.0302\n",
      "Training Accuracy: 0.9639, Testing Accuracy: 0.9703\n",
      "\n"
     ]
    },
    {
     "name": "stdout",
     "output_type": "stream",
     "text": [
      "Epoch 100, Loss 0.0289\n",
      "Training Accuracy: 0.9660, Testing Accuracy: 0.9708\n",
      "\n"
     ]
    },
    {
     "name": "stdout",
     "output_type": "stream",
     "text": [
      "Epoch 110, Loss 0.0278\n",
      "Training Accuracy: 0.9673, Testing Accuracy: 0.9693\n",
      "\n"
     ]
    },
    {
     "name": "stdout",
     "output_type": "stream",
     "text": [
      "Epoch 120, Loss 0.0268\n",
      "Training Accuracy: 0.9688, Testing Accuracy: 0.9723\n",
      "\n"
     ]
    },
    {
     "name": "stdout",
     "output_type": "stream",
     "text": [
      "Epoch 130, Loss 0.026\n",
      "Training Accuracy: 0.9697, Testing Accuracy: 0.9723\n",
      "\n"
     ]
    },
    {
     "name": "stdout",
     "output_type": "stream",
     "text": [
      "Epoch 140, Loss 0.0252\n",
      "Training Accuracy: 0.9712, Testing Accuracy: 0.9723\n",
      "\n"
     ]
    },
    {
     "name": "stdout",
     "output_type": "stream",
     "text": [
      "Epoch 150, Loss 0.0245\n",
      "Training Accuracy: 0.9720, Testing Accuracy: 0.9718\n",
      "\n"
     ]
    },
    {
     "name": "stdout",
     "output_type": "stream",
     "text": [
      "Epoch 160, Loss 0.0239\n",
      "Training Accuracy: 0.9724, Testing Accuracy: 0.9723\n",
      "\n"
     ]
    },
    {
     "name": "stdout",
     "output_type": "stream",
     "text": [
      "Epoch 170, Loss 0.0234\n",
      "Training Accuracy: 0.9730, Testing Accuracy: 0.9728\n",
      "\n"
     ]
    },
    {
     "name": "stdout",
     "output_type": "stream",
     "text": [
      "Epoch 180, Loss 0.0228\n",
      "Training Accuracy: 0.9738, Testing Accuracy: 0.9733\n",
      "\n"
     ]
    },
    {
     "name": "stdout",
     "output_type": "stream",
     "text": [
      "Epoch 190, Loss 0.0224\n",
      "Training Accuracy: 0.9741, Testing Accuracy: 0.9738\n",
      "\n"
     ]
    },
    {
     "name": "stdout",
     "output_type": "stream",
     "text": [
      "Epoch 200, Loss 0.0219\n",
      "Training Accuracy: 0.9748, Testing Accuracy: 0.9733\n",
      "\n"
     ]
    },
    {
     "name": "stdout",
     "output_type": "stream",
     "text": [
      "Epoch 210, Loss 0.0215\n",
      "Training Accuracy: 0.9753, Testing Accuracy: 0.9733\n",
      "\n"
     ]
    },
    {
     "name": "stdout",
     "output_type": "stream",
     "text": [
      "Epoch 220, Loss 0.021\n",
      "Training Accuracy: 0.9760, Testing Accuracy: 0.9733\n",
      "\n"
     ]
    },
    {
     "name": "stdout",
     "output_type": "stream",
     "text": [
      "Epoch 230, Loss 0.0206\n",
      "Training Accuracy: 0.9764, Testing Accuracy: 0.9733\n",
      "\n"
     ]
    },
    {
     "name": "stdout",
     "output_type": "stream",
     "text": [
      "Epoch 240, Loss 0.0203\n",
      "Training Accuracy: 0.9772, Testing Accuracy: 0.9738\n",
      "\n"
     ]
    },
    {
     "data": {
      "text/plain": [
       "0.053198361128518855"
      ]
     },
     "execution_count": 22,
     "metadata": {},
     "output_type": "execute_result"
    }
   ],
   "source": [
    "nn_learner.train_loop(dl)"
   ]
  },
  {
   "cell_type": "code",
   "execution_count": 23,
   "id": "e0163366",
   "metadata": {
    "execution": {
     "iopub.execute_input": "2021-10-21T20:09:41.540937Z",
     "iopub.status.busy": "2021-10-21T20:09:41.540197Z",
     "iopub.status.idle": "2021-10-21T20:09:56.289669Z",
     "shell.execute_reply": "2021-10-21T20:09:56.290128Z"
    },
    "papermill": {
     "duration": 14.797429,
     "end_time": "2021-10-21T20:09:56.290276",
     "exception": false,
     "start_time": "2021-10-21T20:09:41.492847",
     "status": "completed"
    },
    "tags": []
   },
   "outputs": [
    {
     "name": "stdout",
     "output_type": "stream",
     "text": [
      "Epoch 0, Loss 0.2307\n",
      "Training Accuracy: 0.7421, Testing Accuracy: 0.7429\n",
      "\n"
     ]
    },
    {
     "name": "stdout",
     "output_type": "stream",
     "text": [
      "Epoch 10, Loss 0.1021\n",
      "Training Accuracy: 0.9090, Testing Accuracy: 0.9194\n",
      "\n"
     ]
    },
    {
     "name": "stdout",
     "output_type": "stream",
     "text": [
      "Epoch 20, Loss 0.0789\n",
      "Training Accuracy: 0.9275, Testing Accuracy: 0.9380\n",
      "\n"
     ]
    },
    {
     "name": "stdout",
     "output_type": "stream",
     "text": [
      "Epoch 30, Loss 0.0681\n",
      "Training Accuracy: 0.9362, Testing Accuracy: 0.9466\n",
      "\n"
     ]
    },
    {
     "name": "stdout",
     "output_type": "stream",
     "text": [
      "Epoch 40, Loss 0.0616\n",
      "Training Accuracy: 0.9413, Testing Accuracy: 0.9526\n",
      "\n"
     ]
    },
    {
     "name": "stdout",
     "output_type": "stream",
     "text": [
      "Epoch 50, Loss 0.0571\n",
      "Training Accuracy: 0.9438, Testing Accuracy: 0.9551\n",
      "\n"
     ]
    },
    {
     "name": "stdout",
     "output_type": "stream",
     "text": [
      "Epoch 60, Loss 0.0539\n",
      "Training Accuracy: 0.9467, Testing Accuracy: 0.9572\n",
      "\n"
     ]
    },
    {
     "name": "stdout",
     "output_type": "stream",
     "text": [
      "Epoch 70, Loss 0.0514\n",
      "Training Accuracy: 0.9482, Testing Accuracy: 0.9551\n",
      "\n"
     ]
    },
    {
     "name": "stdout",
     "output_type": "stream",
     "text": [
      "Epoch 80, Loss 0.0493\n",
      "Training Accuracy: 0.9508, Testing Accuracy: 0.9587\n",
      "\n"
     ]
    },
    {
     "name": "stdout",
     "output_type": "stream",
     "text": [
      "Epoch 90, Loss 0.0477\n",
      "Training Accuracy: 0.9514, Testing Accuracy: 0.9617\n",
      "\n"
     ]
    },
    {
     "name": "stdout",
     "output_type": "stream",
     "text": [
      "Epoch 100, Loss 0.0463\n",
      "Training Accuracy: 0.9528, Testing Accuracy: 0.9612\n",
      "\n"
     ]
    },
    {
     "name": "stdout",
     "output_type": "stream",
     "text": [
      "Epoch 110, Loss 0.0451\n",
      "Training Accuracy: 0.9537, Testing Accuracy: 0.9632\n",
      "\n"
     ]
    },
    {
     "name": "stdout",
     "output_type": "stream",
     "text": [
      "Epoch 120, Loss 0.044\n",
      "Training Accuracy: 0.9546, Testing Accuracy: 0.9632\n",
      "\n"
     ]
    },
    {
     "name": "stdout",
     "output_type": "stream",
     "text": [
      "Epoch 130, Loss 0.0431\n",
      "Training Accuracy: 0.9556, Testing Accuracy: 0.9637\n",
      "\n"
     ]
    },
    {
     "name": "stdout",
     "output_type": "stream",
     "text": [
      "Epoch 140, Loss 0.0423\n",
      "Training Accuracy: 0.9569, Testing Accuracy: 0.9642\n",
      "\n"
     ]
    },
    {
     "name": "stdout",
     "output_type": "stream",
     "text": [
      "Epoch 150, Loss 0.0416\n",
      "Training Accuracy: 0.9571, Testing Accuracy: 0.9637\n",
      "\n"
     ]
    },
    {
     "name": "stdout",
     "output_type": "stream",
     "text": [
      "Epoch 160, Loss 0.0409\n",
      "Training Accuracy: 0.9576, Testing Accuracy: 0.9637\n",
      "\n"
     ]
    },
    {
     "name": "stdout",
     "output_type": "stream",
     "text": [
      "Epoch 170, Loss 0.0403\n",
      "Training Accuracy: 0.9583, Testing Accuracy: 0.9637\n",
      "\n"
     ]
    },
    {
     "name": "stdout",
     "output_type": "stream",
     "text": [
      "Epoch 180, Loss 0.0398\n",
      "Training Accuracy: 0.9586, Testing Accuracy: 0.9637\n",
      "\n"
     ]
    },
    {
     "name": "stdout",
     "output_type": "stream",
     "text": [
      "Epoch 190, Loss 0.0392\n",
      "Training Accuracy: 0.9589, Testing Accuracy: 0.9647\n",
      "\n"
     ]
    },
    {
     "name": "stdout",
     "output_type": "stream",
     "text": [
      "Epoch 200, Loss 0.0388\n",
      "Training Accuracy: 0.9592, Testing Accuracy: 0.9652\n",
      "\n"
     ]
    },
    {
     "name": "stdout",
     "output_type": "stream",
     "text": [
      "Epoch 210, Loss 0.0383\n",
      "Training Accuracy: 0.9597, Testing Accuracy: 0.9657\n",
      "\n"
     ]
    },
    {
     "name": "stdout",
     "output_type": "stream",
     "text": [
      "Epoch 220, Loss 0.0379\n",
      "Training Accuracy: 0.9604, Testing Accuracy: 0.9657\n",
      "\n"
     ]
    },
    {
     "name": "stdout",
     "output_type": "stream",
     "text": [
      "Epoch 230, Loss 0.0375\n",
      "Training Accuracy: 0.9606, Testing Accuracy: 0.9657\n",
      "\n"
     ]
    },
    {
     "name": "stdout",
     "output_type": "stream",
     "text": [
      "Epoch 240, Loss 0.0372\n",
      "Training Accuracy: 0.9609, Testing Accuracy: 0.9657\n",
      "\n"
     ]
    },
    {
     "data": {
      "text/plain": [
       "0.04586619325747482"
      ]
     },
     "execution_count": 23,
     "metadata": {},
     "output_type": "execute_result"
    }
   ],
   "source": [
    "lr_learner.train_loop(dl)"
   ]
  },
  {
   "cell_type": "code",
   "execution_count": 24,
   "id": "ca410940",
   "metadata": {
    "execution": {
     "iopub.execute_input": "2021-10-21T20:09:56.385447Z",
     "iopub.status.busy": "2021-10-21T20:09:56.384900Z",
     "iopub.status.idle": "2021-10-21T20:09:56.628530Z",
     "shell.execute_reply": "2021-10-21T20:09:56.628957Z"
    },
    "papermill": {
     "duration": 0.294312,
     "end_time": "2021-10-21T20:09:56.629101",
     "exception": false,
     "start_time": "2021-10-21T20:09:56.334789",
     "status": "completed"
    },
    "tags": []
   },
   "outputs": [
    {
     "data": {
      "text/plain": [
       "<matplotlib.legend.Legend at 0x7f008f848eb8>"
      ]
     },
     "execution_count": 24,
     "metadata": {},
     "output_type": "execute_result"
    },
    {
     "data": {
      "image/png": "[encoded data removed]",
      "text/plain": [
       "<Figure size 1080x720 with 1 Axes>"
      ]
     },
     "metadata": {
      "needs_background": "light"
     },
     "output_type": "display_data"
    }
   ],
   "source": [
    "#comparing the results of NN and LR\n",
    "plt.figure(figsize=(15,10))\n",
    "\n",
    "# Neural Network plots\n",
    "plt.plot(acc_nn.accuracies, 'r-', label = \"Training Accuracies - NN\")\n",
    "plt.plot(acc_nn.test_accuracies, 'g-', label = \"Testing Accuracies - NN\")\n",
    "\n",
    "# Logistic Regression plots\n",
    "plt.plot(acc_lr.accuracies, 'k-', label = \"Training Accuracies - LR\")\n",
    "plt.plot(acc_lr.test_accuracies, 'b-', label = \"Testing Accuracies - LR\")\n",
    "plt.legend()"
   ]
  },
  {
   "cell_type": "markdown",
   "id": "80dfb35c",
   "metadata": {
    "papermill": {
     "duration": 0.042225,
     "end_time": "2021-10-21T20:09:56.714062",
     "exception": false,
     "start_time": "2021-10-21T20:09:56.671837",
     "status": "completed"
    },
    "tags": []
   },
   "source": [
    "#### Plotting the outputs of this layer of the NN.\n"
   ]
  },
  {
   "cell_type": "code",
   "execution_count": 25,
   "id": "45eb2ff5",
   "metadata": {
    "execution": {
     "iopub.execute_input": "2021-10-21T20:09:56.803771Z",
     "iopub.status.busy": "2021-10-21T20:09:56.802358Z",
     "iopub.status.idle": "2021-10-21T20:09:56.824004Z",
     "shell.execute_reply": "2021-10-21T20:09:56.824454Z"
    },
    "papermill": {
     "duration": 0.068503,
     "end_time": "2021-10-21T20:09:56.824620",
     "exception": false,
     "start_time": "2021-10-21T20:09:56.756117",
     "status": "completed"
    },
    "tags": []
   },
   "outputs": [],
   "source": [
    "new_model = Model(layers[:-2])\n",
    "testing_plot = new_model(testing_data_x)"
   ]
  },
  {
   "cell_type": "code",
   "execution_count": 26,
   "id": "4c0a5485",
   "metadata": {
    "execution": {
     "iopub.execute_input": "2021-10-21T20:09:56.925419Z",
     "iopub.status.busy": "2021-10-21T20:09:56.924842Z",
     "iopub.status.idle": "2021-10-21T20:09:57.130660Z",
     "shell.execute_reply": "2021-10-21T20:09:57.130216Z"
    },
    "papermill": {
     "duration": 0.262504,
     "end_time": "2021-10-21T20:09:57.130787",
     "exception": false,
     "start_time": "2021-10-21T20:09:56.868283",
     "status": "completed"
    },
    "tags": []
   },
   "outputs": [
    {
     "data": {
      "text/plain": [
       "Text(0.5, 1.0, 'Outputs')"
      ]
     },
     "execution_count": 26,
     "metadata": {},
     "output_type": "execute_result"
    },
    {
     "data": {
      "image/png": "[encoded data removed]",
      "text/plain": [
       "<Figure size 576x504 with 1 Axes>"
      ]
     },
     "metadata": {
      "needs_background": "light"
     },
     "output_type": "display_data"
    }
   ],
   "source": [
    "# Plotting the scatter plot of points and color coding by class\n",
    "plt.figure(figsize=(8,7))\n",
    "plt.scatter(testing_plot[:,0], testing_plot[:,1], alpha = 0.1, c = y_test.ravel());\n",
    "plt.title('Outputs')"
   ]
  },
  {
   "cell_type": "markdown",
   "id": "a74fcf8f",
   "metadata": {
    "papermill": {
     "duration": 0.044891,
     "end_time": "2021-10-21T20:09:57.220593",
     "exception": false,
     "start_time": "2021-10-21T20:09:57.175702",
     "status": "completed"
    },
    "tags": []
   },
   "source": [
    "Probability contours"
   ]
  },
  {
   "cell_type": "code",
   "execution_count": 27,
   "id": "d0afc8e3",
   "metadata": {
    "execution": {
     "iopub.execute_input": "2021-10-21T20:09:57.319053Z",
     "iopub.status.busy": "2021-10-21T20:09:57.318505Z",
     "iopub.status.idle": "2021-10-21T20:09:57.328551Z",
     "shell.execute_reply": "2021-10-21T20:09:57.328089Z"
    },
    "papermill": {
     "duration": 0.062954,
     "end_time": "2021-10-21T20:09:57.328686",
     "exception": false,
     "start_time": "2021-10-21T20:09:57.265732",
     "status": "completed"
    },
    "tags": []
   },
   "outputs": [],
   "source": [
    "model_prob = Model(layers[-2:]) "
   ]
  },
  {
   "cell_type": "code",
   "execution_count": 28,
   "id": "9b96e238",
   "metadata": {
    "execution": {
     "iopub.execute_input": "2021-10-21T20:09:57.468719Z",
     "iopub.status.busy": "2021-10-21T20:09:57.468157Z",
     "iopub.status.idle": "2021-10-21T20:09:57.480234Z",
     "shell.execute_reply": "2021-10-21T20:09:57.480633Z"
    },
    "papermill": {
     "duration": 0.066858,
     "end_time": "2021-10-21T20:09:57.480783",
     "exception": false,
     "start_time": "2021-10-21T20:09:57.413925",
     "status": "completed"
    },
    "tags": []
   },
   "outputs": [],
   "source": [
    "#creating the x and y ranges according to the above generated plot.\n",
    "x_range = np.linspace(-4, 1, 100) \n",
    "y_range = np.linspace(-6, 6, 100) \n",
    "x_grid, y_grid = np.meshgrid(x_range, y_range) # x_grid and y_grig are of size 100 X 100\n",
    "\n",
    "# converting x_grid and y_grid to continuous arrays\n",
    "x_gridflat = np.ravel(x_grid)\n",
    "y_gridflat = np.ravel(y_grid)\n",
    "\n",
    "# The last layer of the current model takes two columns as input. Hence transpose of np.vstack() is required.\n",
    "X = np.vstack((x_gridflat, y_gridflat)).T\n",
    "\n",
    "prob_contour = model_prob(X).reshape(100,100) "
   ]
  },
  {
   "cell_type": "code",
   "execution_count": 29,
   "id": "da72499a",
   "metadata": {
    "execution": {
     "iopub.execute_input": "2021-10-21T20:09:57.581551Z",
     "iopub.status.busy": "2021-10-21T20:09:57.581001Z",
     "iopub.status.idle": "2021-10-21T20:09:57.836700Z",
     "shell.execute_reply": "2021-10-21T20:09:57.836200Z"
    },
    "papermill": {
     "duration": 0.305865,
     "end_time": "2021-10-21T20:09:57.836829",
     "exception": false,
     "start_time": "2021-10-21T20:09:57.530964",
     "status": "completed"
    },
    "tags": []
   },
   "outputs": [
    {
     "data": {
      "image/png": "[encoded data removed]",
      "text/plain": [
       "<Figure size 720x648 with 1 Axes>"
      ]
     },
     "metadata": {
      "needs_background": "light"
     },
     "output_type": "display_data"
    }
   ],
   "source": [
    "plt.figure(figsize=(10,9))\n",
    "plt.scatter(testing_plot[:,0], testing_plot[:,1], alpha = 0.1, c = y_test.ravel())\n",
    "contours = plt.contour(x_grid,y_grid,prob_contour)\n",
    "plt.title('Probability Contours')\n",
    "plt.clabel(contours, inline = True );"
   ]
  },
  {
   "cell_type": "code",
   "execution_count": null,
   "id": "e81b4ac7",
   "metadata": {
    "papermill": {
     "duration": 0.047612,
     "end_time": "2021-10-21T20:09:57.933444",
     "exception": false,
     "start_time": "2021-10-21T20:09:57.885832",
     "status": "completed"
    },
    "tags": []
   },
   "outputs": [],
   "source": []
  }
 ],
 "metadata": {
  "kernelspec": {
   "display_name": "Python 3",
   "language": "python",
   "name": "python3"
  },
  "language_info": {
   "codemirror_mode": {
    "name": "ipython",
    "version": 3
   },
   "file_extension": ".py",
   "mimetype": "text/x-python",
   "name": "python",
   "nbconvert_exporter": "python",
   "pygments_lexer": "ipython3",
   "version": "3.6.15"
  },
  "papermill": {
   "default_parameters": {},
   "duration": 106.17078,
   "end_time": "2021-10-21T20:09:58.491230",
   "environment_variables": {},
   "exception": null,
   "input_path": "2020-08-11-part2.ipynb",
   "output_path": "2020-08-11-part2.ipynb",
   "parameters": {},
   "start_time": "2021-10-21T20:08:12.320450",
   "version": "2.3.3"
  }
 },
 "nbformat": 4,
 "nbformat_minor": 5
}