{
 "cells": [
  {
   "cell_type": "markdown",
   "id": "98380cd3",
   "metadata": {
    "papermill": {
     "duration": 0.025716,
     "end_time": "2022-01-19T00:23:16.262527",
     "exception": false,
     "start_time": "2022-01-19T00:23:16.236811",
     "status": "completed"
    },
    "tags": []
   },
   "source": [
    "# Distinguish Your Own Digits (DYOD)"
   ]
  },
  {
   "cell_type": "markdown",
   "id": "ef31240d",
   "metadata": {
    "papermill": {
     "duration": 0.02125,
     "end_time": "2022-01-19T00:23:16.305746",
     "exception": false,
     "start_time": "2022-01-19T00:23:16.284496",
     "status": "completed"
    },
    "tags": []
   },
   "source": [
    "You are going to write a classifier that distinguishes between the number 3 and number 8."
   ]
  },
  {
   "cell_type": "code",
   "execution_count": 1,
   "id": "b15c8646",
   "metadata": {
    "execution": {
     "iopub.execute_input": "2022-01-19T00:23:16.360233Z",
     "iopub.status.busy": "2022-01-19T00:23:16.359628Z",
     "iopub.status.idle": "2022-01-19T00:23:16.368657Z",
     "shell.execute_reply": "2022-01-19T00:23:16.368210Z"
    },
    "papermill": {
     "duration": 0.041927,
     "end_time": "2022-01-19T00:23:16.368784",
     "exception": false,
     "start_time": "2022-01-19T00:23:16.326857",
     "status": "completed"
    },
    "tags": []
   },
   "outputs": [],
   "source": [
    "%load_ext autoreload\n",
    "%autoreload 2"
   ]
  },
  {
   "cell_type": "code",
   "execution_count": 2,
   "id": "22ef38dc",
   "metadata": {
    "execution": {
     "iopub.execute_input": "2022-01-19T00:23:16.423250Z",
     "iopub.status.busy": "2022-01-19T00:23:16.422273Z",
     "iopub.status.idle": "2022-01-19T00:23:16.946931Z",
     "shell.execute_reply": "2022-01-19T00:23:16.946433Z"
    },
    "papermill": {
     "duration": 0.553989,
     "end_time": "2022-01-19T00:23:16.947081",
     "exception": false,
     "start_time": "2022-01-19T00:23:16.393092",
     "status": "completed"
    },
    "tags": []
   },
   "outputs": [],
   "source": [
    "%matplotlib inline\n",
    "import numpy as np\n",
    "import matplotlib.pyplot as plt\n",
    "import pandas as pd"
   ]
  },
  {
   "cell_type": "markdown",
   "id": "ba036198",
   "metadata": {
    "papermill": {
     "duration": 0.024133,
     "end_time": "2022-01-19T00:23:16.995349",
     "exception": false,
     "start_time": "2022-01-19T00:23:16.971216",
     "status": "completed"
    },
    "tags": []
   },
   "source": [
    "From the command line run `pip install mnist`. This is a library that will help you bring down the mnist dataset. If you run this from a notebook, you need to put  `!pip install mnist` in a cell by itself."
   ]
  },
  {
   "cell_type": "code",
   "execution_count": 3,
   "id": "bb6ad8a1",
   "metadata": {
    "execution": {
     "iopub.execute_input": "2022-01-19T00:23:17.048941Z",
     "iopub.status.busy": "2022-01-19T00:23:17.048419Z",
     "iopub.status.idle": "2022-01-19T00:23:18.629496Z",
     "shell.execute_reply": "2022-01-19T00:23:18.629908Z"
    },
    "papermill": {
     "duration": 1.609949,
     "end_time": "2022-01-19T00:23:18.630051",
     "exception": false,
     "start_time": "2022-01-19T00:23:17.020102",
     "status": "completed"
    },
    "tags": []
   },
   "outputs": [
    {
     "name": "stdout",
     "output_type": "stream",
     "text": [
      "Collecting mnist\r\n"
     ]
    },
    {
     "name": "stdout",
     "output_type": "stream",
     "text": [
      "  Downloading mnist-0.2.2-py2.py3-none-any.whl (3.5 kB)\r\n",
      "Requirement already satisfied: numpy in /opt/hostedtoolcache/Python/3.6.15/x64/lib/python3.6/site-packages (from mnist) (1.19.5)\r\n"
     ]
    },
    {
     "name": "stdout",
     "output_type": "stream",
     "text": [
      "Installing collected packages: mnist\r\n",
      "Successfully installed mnist-0.2.2\r\n"
     ]
    }
   ],
   "source": [
    "!pip install mnist"
   ]
  },
  {
   "cell_type": "markdown",
   "id": "69df9c9a",
   "metadata": {
    "papermill": {
     "duration": 0.022137,
     "end_time": "2022-01-19T00:23:18.674366",
     "exception": false,
     "start_time": "2022-01-19T00:23:18.652229",
     "status": "completed"
    },
    "tags": []
   },
   "source": [
    "## Preparing the Data"
   ]
  },
  {
   "cell_type": "code",
   "execution_count": 4,
   "id": "7f69d806",
   "metadata": {
    "execution": {
     "iopub.execute_input": "2022-01-19T00:23:18.734719Z",
     "iopub.status.busy": "2022-01-19T00:23:18.727019Z",
     "iopub.status.idle": "2022-01-19T00:23:18.740692Z",
     "shell.execute_reply": "2022-01-19T00:23:18.740324Z"
    },
    "papermill": {
     "duration": 0.044377,
     "end_time": "2022-01-19T00:23:18.740797",
     "exception": false,
     "start_time": "2022-01-19T00:23:18.696420",
     "status": "completed"
    },
    "tags": []
   },
   "outputs": [],
   "source": [
    "import mnist"
   ]
  },
  {
   "cell_type": "code",
   "execution_count": 5,
   "id": "a411e44f",
   "metadata": {
    "execution": {
     "iopub.execute_input": "2022-01-19T00:23:18.788105Z",
     "iopub.status.busy": "2022-01-19T00:23:18.787654Z",
     "iopub.status.idle": "2022-01-19T00:23:19.419289Z",
     "shell.execute_reply": "2022-01-19T00:23:19.418057Z"
    },
    "papermill": {
     "duration": 0.657036,
     "end_time": "2022-01-19T00:23:19.419434",
     "exception": false,
     "start_time": "2022-01-19T00:23:18.762398",
     "status": "completed"
    },
    "tags": []
   },
   "outputs": [],
   "source": [
    "train_images = mnist.train_images()\n",
    "train_labels = mnist.train_labels()"
   ]
  },
  {
   "cell_type": "code",
   "execution_count": 6,
   "id": "dceab3a5",
   "metadata": {
    "execution": {
     "iopub.execute_input": "2022-01-19T00:23:19.467403Z",
     "iopub.status.busy": "2022-01-19T00:23:19.466770Z",
     "iopub.status.idle": "2022-01-19T00:23:19.479806Z",
     "shell.execute_reply": "2022-01-19T00:23:19.480174Z"
    },
    "papermill": {
     "duration": 0.038797,
     "end_time": "2022-01-19T00:23:19.480299",
     "exception": false,
     "start_time": "2022-01-19T00:23:19.441502",
     "status": "completed"
    },
    "tags": []
   },
   "outputs": [
    {
     "data": {
      "text/plain": [
       "((60000, 28, 28), (60000,))"
      ]
     },
     "execution_count": 6,
     "metadata": {},
     "output_type": "execute_result"
    }
   ],
   "source": [
    "train_images.shape, train_labels.shape"
   ]
  },
  {
   "cell_type": "code",
   "execution_count": 7,
   "id": "f50dc2bb",
   "metadata": {
    "execution": {
     "iopub.execute_input": "2022-01-19T00:23:19.527896Z",
     "iopub.status.busy": "2022-01-19T00:23:19.527437Z",
     "iopub.status.idle": "2022-01-19T00:23:19.724732Z",
     "shell.execute_reply": "2022-01-19T00:23:19.724178Z"
    },
    "papermill": {
     "duration": 0.222596,
     "end_time": "2022-01-19T00:23:19.724873",
     "exception": false,
     "start_time": "2022-01-19T00:23:19.502277",
     "status": "completed"
    },
    "tags": []
   },
   "outputs": [],
   "source": [
    "test_images = mnist.test_images()\n",
    "test_labels = mnist.test_labels()"
   ]
  },
  {
   "cell_type": "code",
   "execution_count": 8,
   "id": "fc38cf1b",
   "metadata": {
    "execution": {
     "iopub.execute_input": "2022-01-19T00:23:19.774038Z",
     "iopub.status.busy": "2022-01-19T00:23:19.773574Z",
     "iopub.status.idle": "2022-01-19T00:23:19.785835Z",
     "shell.execute_reply": "2022-01-19T00:23:19.786260Z"
    },
    "papermill": {
     "duration": 0.038291,
     "end_time": "2022-01-19T00:23:19.786395",
     "exception": false,
     "start_time": "2022-01-19T00:23:19.748104",
     "status": "completed"
    },
    "tags": []
   },
   "outputs": [
    {
     "data": {
      "text/plain": [
       "((10000, 28, 28), (10000,))"
      ]
     },
     "execution_count": 8,
     "metadata": {},
     "output_type": "execute_result"
    }
   ],
   "source": [
    "test_images.shape, test_labels.shape"
   ]
  },
  {
   "cell_type": "code",
   "execution_count": 9,
   "id": "f9ed8fe0",
   "metadata": {
    "execution": {
     "iopub.execute_input": "2022-01-19T00:23:19.834300Z",
     "iopub.status.busy": "2022-01-19T00:23:19.833836Z",
     "iopub.status.idle": "2022-01-19T00:23:19.960093Z",
     "shell.execute_reply": "2022-01-19T00:23:19.959551Z"
    },
    "papermill": {
     "duration": 0.151704,
     "end_time": "2022-01-19T00:23:19.960222",
     "exception": false,
     "start_time": "2022-01-19T00:23:19.808518",
     "status": "completed"
    },
    "tags": []
   },
   "outputs": [
    {
     "name": "stdout",
     "output_type": "stream",
     "text": [
      "2\n"
     ]
    },
    {
     "data": {
      "text/plain": [
       "<matplotlib.image.AxesImage at 0x7f03f1ee8438>"
      ]
     },
     "execution_count": 9,
     "metadata": {},
     "output_type": "execute_result"
    },
    {
     "data": {
      "image/png": "[encoded data removed]",
      "text/plain": [
       "<Figure size 432x288 with 1 Axes>"
      ]
     },
     "metadata": {
      "needs_background": "light"
     },
     "output_type": "display_data"
    }
   ],
   "source": [
    "image_index = 7776 # You may select anything up to 60,000\n",
    "print(train_labels[image_index]) \n",
    "plt.imshow(train_images[image_index], cmap='Greys')"
   ]
  },
  {
   "cell_type": "markdown",
   "id": "a8d2388d",
   "metadata": {
    "papermill": {
     "duration": 0.027396,
     "end_time": "2022-01-19T00:23:20.014838",
     "exception": false,
     "start_time": "2022-01-19T00:23:19.987442",
     "status": "completed"
    },
    "tags": []
   },
   "source": [
    "## Filter data to get 3 and 8 out"
   ]
  },
  {
   "cell_type": "code",
   "execution_count": 10,
   "id": "776f7fc7",
   "metadata": {
    "execution": {
     "iopub.execute_input": "2022-01-19T00:23:20.076186Z",
     "iopub.status.busy": "2022-01-19T00:23:20.075072Z",
     "iopub.status.idle": "2022-01-19T00:23:20.094155Z",
     "shell.execute_reply": "2022-01-19T00:23:20.094547Z"
    },
    "papermill": {
     "duration": 0.05278,
     "end_time": "2022-01-19T00:23:20.094743",
     "exception": false,
     "start_time": "2022-01-19T00:23:20.041963",
     "status": "completed"
    },
    "tags": []
   },
   "outputs": [],
   "source": [
    "train_filter = np.where((train_labels == 3 ) | (train_labels == 8))\n",
    "test_filter = np.where((test_labels == 3) | (test_labels == 8))\n",
    "X_train, y_train = train_images[train_filter], train_labels[train_filter]\n",
    "X_test, y_test = test_images[test_filter], test_labels[test_filter]"
   ]
  },
  {
   "cell_type": "markdown",
   "id": "948f0b7e",
   "metadata": {
    "papermill": {
     "duration": 0.02324,
     "end_time": "2022-01-19T00:23:20.143624",
     "exception": false,
     "start_time": "2022-01-19T00:23:20.120384",
     "status": "completed"
    },
    "tags": []
   },
   "source": [
    "We normalize the pizel values in the 0 to 1 range"
   ]
  },
  {
   "cell_type": "code",
   "execution_count": 11,
   "id": "ee4c2166",
   "metadata": {
    "execution": {
     "iopub.execute_input": "2022-01-19T00:23:20.204358Z",
     "iopub.status.busy": "2022-01-19T00:23:20.199102Z",
     "iopub.status.idle": "2022-01-19T00:23:20.241339Z",
     "shell.execute_reply": "2022-01-19T00:23:20.240829Z"
    },
    "papermill": {
     "duration": 0.074747,
     "end_time": "2022-01-19T00:23:20.241474",
     "exception": false,
     "start_time": "2022-01-19T00:23:20.166727",
     "status": "completed"
    },
    "tags": []
   },
   "outputs": [],
   "source": [
    "X_train = X_train/255.\n",
    "X_test = X_test/255."
   ]
  },
  {
   "cell_type": "markdown",
   "id": "ddcf4fab",
   "metadata": {
    "papermill": {
     "duration": 0.023257,
     "end_time": "2022-01-19T00:23:20.289348",
     "exception": false,
     "start_time": "2022-01-19T00:23:20.266091",
     "status": "completed"
    },
    "tags": []
   },
   "source": [
    "And setup the labels as 1 (when the digit is 3) and 0 (when the digit is 8)"
   ]
  },
  {
   "cell_type": "code",
   "execution_count": 12,
   "id": "7dc908f2",
   "metadata": {
    "execution": {
     "iopub.execute_input": "2022-01-19T00:23:20.339913Z",
     "iopub.status.busy": "2022-01-19T00:23:20.339438Z",
     "iopub.status.idle": "2022-01-19T00:23:20.350056Z",
     "shell.execute_reply": "2022-01-19T00:23:20.349688Z"
    },
    "papermill": {
     "duration": 0.037553,
     "end_time": "2022-01-19T00:23:20.350157",
     "exception": false,
     "start_time": "2022-01-19T00:23:20.312604",
     "status": "completed"
    },
    "tags": []
   },
   "outputs": [],
   "source": [
    "y_train = 1*(y_train==3)\n",
    "y_test = 1*(y_test==3)"
   ]
  },
  {
   "cell_type": "code",
   "execution_count": 13,
   "id": "01e4e969",
   "metadata": {
    "execution": {
     "iopub.execute_input": "2022-01-19T00:23:20.400322Z",
     "iopub.status.busy": "2022-01-19T00:23:20.399776Z",
     "iopub.status.idle": "2022-01-19T00:23:20.411923Z",
     "shell.execute_reply": "2022-01-19T00:23:20.412302Z"
    },
    "papermill": {
     "duration": 0.039086,
     "end_time": "2022-01-19T00:23:20.412424",
     "exception": false,
     "start_time": "2022-01-19T00:23:20.373338",
     "status": "completed"
    },
    "tags": []
   },
   "outputs": [
    {
     "data": {
      "text/plain": [
       "((11982, 28, 28), (1984, 28, 28))"
      ]
     },
     "execution_count": 13,
     "metadata": {},
     "output_type": "execute_result"
    }
   ],
   "source": [
    "X_train.shape, X_test.shape"
   ]
  },
  {
   "cell_type": "markdown",
   "id": "5ccf3f85",
   "metadata": {
    "papermill": {
     "duration": 0.023274,
     "end_time": "2022-01-19T00:23:20.458984",
     "exception": false,
     "start_time": "2022-01-19T00:23:20.435710",
     "status": "completed"
    },
    "tags": []
   },
   "source": [
    "We reshape the data to flatten the image pixels into a set of features or co-variates:"
   ]
  },
  {
   "cell_type": "code",
   "execution_count": 14,
   "id": "5286a4a3",
   "metadata": {
    "execution": {
     "iopub.execute_input": "2022-01-19T00:23:20.510192Z",
     "iopub.status.busy": "2022-01-19T00:23:20.509730Z",
     "iopub.status.idle": "2022-01-19T00:23:20.521914Z",
     "shell.execute_reply": "2022-01-19T00:23:20.522254Z"
    },
    "papermill": {
     "duration": 0.039995,
     "end_time": "2022-01-19T00:23:20.522378",
     "exception": false,
     "start_time": "2022-01-19T00:23:20.482383",
     "status": "completed"
    },
    "tags": []
   },
   "outputs": [
    {
     "data": {
      "text/plain": [
       "((11982, 784), (1984, 784))"
      ]
     },
     "execution_count": 14,
     "metadata": {},
     "output_type": "execute_result"
    }
   ],
   "source": [
    "X_train = X_train.reshape(X_train.shape[0], -1)\n",
    "X_test = X_test.reshape(X_test.shape[0], -1)\n",
    "X_train.shape, X_test.shape"
   ]
  },
  {
   "cell_type": "code",
   "execution_count": 15,
   "id": "73c5f88a",
   "metadata": {
    "execution": {
     "iopub.execute_input": "2022-01-19T00:23:20.572906Z",
     "iopub.status.busy": "2022-01-19T00:23:20.572445Z",
     "iopub.status.idle": "2022-01-19T00:23:20.590558Z",
     "shell.execute_reply": "2022-01-19T00:23:20.589812Z"
    },
    "papermill": {
     "duration": 0.044909,
     "end_time": "2022-01-19T00:23:20.590661",
     "exception": false,
     "start_time": "2022-01-19T00:23:20.545752",
     "status": "completed"
    },
    "tags": []
   },
   "outputs": [],
   "source": [
    "#Impoting functions from 'Kudzu'\n",
    "from kudzu.model import Model\n",
    "from kudzu.train import Learner\n",
    "from kudzu.optim import GD\n",
    "from kudzu.data import Data, Sampler,Dataloader\n",
    "\n",
    "from kudzu.callbacks import AccCallback\n",
    "from kudzu.callbacks import ClfCallback\n",
    "\n",
    "from kudzu.loss import MSE\n",
    "\n",
    "from kudzu.layer import Sigmoid,Relu\n",
    "from kudzu.layer import Affine"
   ]
  },
  {
   "cell_type": "markdown",
   "id": "bc01172a",
   "metadata": {
    "papermill": {
     "duration": 0.0234,
     "end_time": "2022-01-19T00:23:20.637919",
     "exception": false,
     "start_time": "2022-01-19T00:23:20.614519",
     "status": "completed"
    },
    "tags": []
   },
   "source": [
    "### Let us create a `Config` class, to store important parameters. \n",
    "This class essentially plays the role of a dictionary."
   ]
  },
  {
   "cell_type": "code",
   "execution_count": 16,
   "id": "978281aa",
   "metadata": {
    "execution": {
     "iopub.execute_input": "2022-01-19T00:23:20.692010Z",
     "iopub.status.busy": "2022-01-19T00:23:20.687992Z",
     "iopub.status.idle": "2022-01-19T00:23:20.698925Z",
     "shell.execute_reply": "2022-01-19T00:23:20.699296Z"
    },
    "papermill": {
     "duration": 0.038081,
     "end_time": "2022-01-19T00:23:20.699419",
     "exception": false,
     "start_time": "2022-01-19T00:23:20.661338",
     "status": "completed"
    },
    "tags": []
   },
   "outputs": [],
   "source": [
    "class Config:\n",
    "    pass\n",
    "config = Config()\n",
    "config.lr = 0.001\n",
    "config.num_epochs = 250\n",
    "config.bs = 50"
   ]
  },
  {
   "cell_type": "markdown",
   "id": "1385fa59",
   "metadata": {
    "papermill": {
     "duration": 0.024371,
     "end_time": "2022-01-19T00:23:20.747307",
     "exception": false,
     "start_time": "2022-01-19T00:23:20.722936",
     "status": "completed"
    },
    "tags": []
   },
   "source": [
    "### Running Models with the Training data\n",
    "Details about the network layers:\n",
    "- A first affine layer has 784 inputs and does 100 affine transforms. These are followed by a Relu\n",
    "- A second affine layer has 100 inputs from the 100 activations of the past layer, and does 100 affine transforms. These are followed by a Relu\n",
    "- A third affine layer has 100 activations and does 2 affine transformations to create an embedding for visualization. There is no non-linearity here.\n",
    "- A final \"logistic regression\" which has an affine transform from 2 inputs to 1 output, which is squeezed through a sigmoid.\n"
   ]
  },
  {
   "cell_type": "code",
   "execution_count": 17,
   "id": "2b9c66db",
   "metadata": {
    "execution": {
     "iopub.execute_input": "2022-01-19T00:23:20.798434Z",
     "iopub.status.busy": "2022-01-19T00:23:20.797986Z",
     "iopub.status.idle": "2022-01-19T00:23:20.809035Z",
     "shell.execute_reply": "2022-01-19T00:23:20.809379Z"
    },
    "papermill": {
     "duration": 0.038575,
     "end_time": "2022-01-19T00:23:20.809502",
     "exception": false,
     "start_time": "2022-01-19T00:23:20.770927",
     "status": "completed"
    },
    "tags": []
   },
   "outputs": [],
   "source": [
    "data = Data(X_train, y_train.reshape(-1,1))\n",
    "sampler = Sampler(data, config.bs, shuffle=True)\n",
    "\n",
    "dl = Dataloader(data, sampler)\n",
    "\n",
    "opt = GD(config.lr)\n",
    "loss = MSE()"
   ]
  },
  {
   "cell_type": "code",
   "execution_count": 18,
   "id": "b275e4c2",
   "metadata": {
    "execution": {
     "iopub.execute_input": "2022-01-19T00:23:20.860626Z",
     "iopub.status.busy": "2022-01-19T00:23:20.860174Z",
     "iopub.status.idle": "2022-01-19T00:23:20.876604Z",
     "shell.execute_reply": "2022-01-19T00:23:20.877004Z"
    },
    "papermill": {
     "duration": 0.043729,
     "end_time": "2022-01-19T00:23:20.877126",
     "exception": false,
     "start_time": "2022-01-19T00:23:20.833397",
     "status": "completed"
    },
    "tags": []
   },
   "outputs": [],
   "source": [
    "training_data_x = X_train\n",
    "testing_data_x = X_test\n",
    "training_data_y = y_train.reshape(-1,1)\n",
    "testing_data_y = y_test.reshape(-1,1)"
   ]
  },
  {
   "cell_type": "code",
   "execution_count": 19,
   "id": "76951160",
   "metadata": {
    "execution": {
     "iopub.execute_input": "2022-01-19T00:23:20.930281Z",
     "iopub.status.busy": "2022-01-19T00:23:20.929778Z",
     "iopub.status.idle": "2022-01-19T00:23:20.944827Z",
     "shell.execute_reply": "2022-01-19T00:23:20.945170Z"
    },
    "papermill": {
     "duration": 0.044633,
     "end_time": "2022-01-19T00:23:20.945299",
     "exception": false,
     "start_time": "2022-01-19T00:23:20.900666",
     "status": "completed"
    },
    "tags": []
   },
   "outputs": [
    {
     "name": "stdout",
     "output_type": "stream",
     "text": [
      "xavier\n",
      "xavier\n",
      "xavier\n",
      "xavier\n",
      "xavier\n"
     ]
    }
   ],
   "source": [
    "layers = [Affine(\"first\", 784, 100), Relu(\"first\"), Affine(\"second\", 100, 100), Relu(\"second\"), Affine(\"third\", 100, 2), Affine(\"last\", 2, 1), Sigmoid(\"last\")]\n",
    "model_nn = Model(layers)\n",
    "model_lr = Model([Affine(\"logits\", 784, 1), Sigmoid(\"sigmoid\")])"
   ]
  },
  {
   "cell_type": "code",
   "execution_count": 20,
   "id": "6eede77a",
   "metadata": {
    "execution": {
     "iopub.execute_input": "2022-01-19T00:23:20.997386Z",
     "iopub.status.busy": "2022-01-19T00:23:20.996909Z",
     "iopub.status.idle": "2022-01-19T00:23:21.009790Z",
     "shell.execute_reply": "2022-01-19T00:23:21.009411Z"
    },
    "papermill": {
     "duration": 0.040523,
     "end_time": "2022-01-19T00:23:21.009897",
     "exception": false,
     "start_time": "2022-01-19T00:23:20.969374",
     "status": "completed"
    },
    "tags": []
   },
   "outputs": [],
   "source": [
    "nn_learner = Learner(loss, model_nn, opt, config.num_epochs)\n",
    "acc_nn = ClfCallback(nn_learner, config.bs, training_data_x , testing_data_x, training_data_y, testing_data_y)\n",
    "nn_learner.set_callbacks([acc_nn])"
   ]
  },
  {
   "cell_type": "code",
   "execution_count": 21,
   "id": "877b6cc7",
   "metadata": {
    "execution": {
     "iopub.execute_input": "2022-01-19T00:23:21.063239Z",
     "iopub.status.busy": "2022-01-19T00:23:21.062755Z",
     "iopub.status.idle": "2022-01-19T00:23:21.073715Z",
     "shell.execute_reply": "2022-01-19T00:23:21.074109Z"
    },
    "papermill": {
     "duration": 0.040387,
     "end_time": "2022-01-19T00:23:21.074231",
     "exception": false,
     "start_time": "2022-01-19T00:23:21.033844",
     "status": "completed"
    },
    "tags": []
   },
   "outputs": [],
   "source": [
    "lr_learner = Learner(loss, model_lr, opt, config.num_epochs)\n",
    "acc_lr = ClfCallback(lr_learner, config.bs, training_data_x , testing_data_x, training_data_y, testing_data_y)\n",
    "lr_learner.set_callbacks([acc_lr])"
   ]
  },
  {
   "cell_type": "code",
   "execution_count": 22,
   "id": "d9b133c3",
   "metadata": {
    "execution": {
     "iopub.execute_input": "2022-01-19T00:23:21.125822Z",
     "iopub.status.busy": "2022-01-19T00:23:21.125363Z",
     "iopub.status.idle": "2022-01-19T00:24:37.987782Z",
     "shell.execute_reply": "2022-01-19T00:24:37.988488Z"
    },
    "papermill": {
     "duration": 76.890422,
     "end_time": "2022-01-19T00:24:37.988633",
     "exception": false,
     "start_time": "2022-01-19T00:23:21.098211",
     "status": "completed"
    },
    "tags": []
   },
   "outputs": [
    {
     "name": "stdout",
     "output_type": "stream",
     "text": [
      "Epoch 0, Loss 0.2492\n",
      "Training Accuracy: 0.5494, Testing Accuracy: 0.5615\n",
      "\n"
     ]
    },
    {
     "name": "stdout",
     "output_type": "stream",
     "text": [
      "Epoch 10, Loss 0.1791\n",
      "Training Accuracy: 0.8742, Testing Accuracy: 0.8911\n",
      "\n"
     ]
    },
    {
     "name": "stdout",
     "output_type": "stream",
     "text": [
      "Epoch 20, Loss 0.0902\n",
      "Training Accuracy: 0.9106, Testing Accuracy: 0.9249\n",
      "\n"
     ]
    },
    {
     "name": "stdout",
     "output_type": "stream",
     "text": [
      "Epoch 30, Loss 0.0605\n",
      "Training Accuracy: 0.9335, Testing Accuracy: 0.9456\n",
      "\n"
     ]
    },
    {
     "name": "stdout",
     "output_type": "stream",
     "text": [
      "Epoch 40, Loss 0.0482\n",
      "Training Accuracy: 0.9452, Testing Accuracy: 0.9551\n",
      "\n"
     ]
    },
    {
     "name": "stdout",
     "output_type": "stream",
     "text": [
      "Epoch 50, Loss 0.0416\n",
      "Training Accuracy: 0.9518, Testing Accuracy: 0.9572\n",
      "\n"
     ]
    },
    {
     "name": "stdout",
     "output_type": "stream",
     "text": [
      "Epoch 60, Loss 0.0376\n",
      "Training Accuracy: 0.9564, Testing Accuracy: 0.9607\n",
      "\n"
     ]
    },
    {
     "name": "stdout",
     "output_type": "stream",
     "text": [
      "Epoch 70, Loss 0.0348\n",
      "Training Accuracy: 0.9586, Testing Accuracy: 0.9612\n",
      "\n"
     ]
    },
    {
     "name": "stdout",
     "output_type": "stream",
     "text": [
      "Epoch 80, Loss 0.0327\n",
      "Training Accuracy: 0.9607, Testing Accuracy: 0.9637\n",
      "\n"
     ]
    },
    {
     "name": "stdout",
     "output_type": "stream",
     "text": [
      "Epoch 90, Loss 0.031\n",
      "Training Accuracy: 0.9626, Testing Accuracy: 0.9647\n",
      "\n"
     ]
    },
    {
     "name": "stdout",
     "output_type": "stream",
     "text": [
      "Epoch 100, Loss 0.0297\n",
      "Training Accuracy: 0.9653, Testing Accuracy: 0.9677\n",
      "\n"
     ]
    },
    {
     "name": "stdout",
     "output_type": "stream",
     "text": [
      "Epoch 110, Loss 0.0286\n",
      "Training Accuracy: 0.9675, Testing Accuracy: 0.9688\n",
      "\n"
     ]
    },
    {
     "name": "stdout",
     "output_type": "stream",
     "text": [
      "Epoch 120, Loss 0.0276\n",
      "Training Accuracy: 0.9685, Testing Accuracy: 0.9693\n",
      "\n"
     ]
    },
    {
     "name": "stdout",
     "output_type": "stream",
     "text": [
      "Epoch 130, Loss 0.0268\n",
      "Training Accuracy: 0.9694, Testing Accuracy: 0.9698\n",
      "\n"
     ]
    },
    {
     "name": "stdout",
     "output_type": "stream",
     "text": [
      "Epoch 140, Loss 0.0261\n",
      "Training Accuracy: 0.9707, Testing Accuracy: 0.9708\n",
      "\n"
     ]
    },
    {
     "name": "stdout",
     "output_type": "stream",
     "text": [
      "Epoch 150, Loss 0.0254\n",
      "Training Accuracy: 0.9713, Testing Accuracy: 0.9718\n",
      "\n"
     ]
    },
    {
     "name": "stdout",
     "output_type": "stream",
     "text": [
      "Epoch 160, Loss 0.0248\n",
      "Training Accuracy: 0.9718, Testing Accuracy: 0.9708\n",
      "\n"
     ]
    },
    {
     "name": "stdout",
     "output_type": "stream",
     "text": [
      "Epoch 170, Loss 0.0242\n",
      "Training Accuracy: 0.9720, Testing Accuracy: 0.9703\n",
      "\n"
     ]
    },
    {
     "name": "stdout",
     "output_type": "stream",
     "text": [
      "Epoch 180, Loss 0.0237\n",
      "Training Accuracy: 0.9722, Testing Accuracy: 0.9703\n",
      "\n"
     ]
    },
    {
     "name": "stdout",
     "output_type": "stream",
     "text": [
      "Epoch 190, Loss 0.0232\n",
      "Training Accuracy: 0.9729, Testing Accuracy: 0.9703\n",
      "\n"
     ]
    },
    {
     "name": "stdout",
     "output_type": "stream",
     "text": [
      "Epoch 200, Loss 0.0228\n",
      "Training Accuracy: 0.9738, Testing Accuracy: 0.9703\n",
      "\n"
     ]
    },
    {
     "name": "stdout",
     "output_type": "stream",
     "text": [
      "Epoch 210, Loss 0.0223\n",
      "Training Accuracy: 0.9745, Testing Accuracy: 0.9698\n",
      "\n"
     ]
    },
    {
     "name": "stdout",
     "output_type": "stream",
     "text": [
      "Epoch 220, Loss 0.0219\n",
      "Training Accuracy: 0.9746, Testing Accuracy: 0.9708\n",
      "\n"
     ]
    },
    {
     "name": "stdout",
     "output_type": "stream",
     "text": [
      "Epoch 230, Loss 0.0215\n",
      "Training Accuracy: 0.9755, Testing Accuracy: 0.9703\n",
      "\n"
     ]
    },
    {
     "name": "stdout",
     "output_type": "stream",
     "text": [
      "Epoch 240, Loss 0.0212\n",
      "Training Accuracy: 0.9761, Testing Accuracy: 0.9708\n",
      "\n"
     ]
    },
    {
     "data": {
      "text/plain": [
       "0.044736777366166595"
      ]
     },
     "execution_count": 22,
     "metadata": {},
     "output_type": "execute_result"
    }
   ],
   "source": [
    "nn_learner.train_loop(dl)"
   ]
  },
  {
   "cell_type": "code",
   "execution_count": 23,
   "id": "e0163366",
   "metadata": {
    "execution": {
     "iopub.execute_input": "2022-01-19T00:24:38.062931Z",
     "iopub.status.busy": "2022-01-19T00:24:38.062404Z",
     "iopub.status.idle": "2022-01-19T00:24:51.819765Z",
     "shell.execute_reply": "2022-01-19T00:24:51.820421Z"
    },
    "papermill": {
     "duration": 13.80099,
     "end_time": "2022-01-19T00:24:51.820562",
     "exception": false,
     "start_time": "2022-01-19T00:24:38.019572",
     "status": "completed"
    },
    "tags": []
   },
   "outputs": [
    {
     "name": "stdout",
     "output_type": "stream",
     "text": [
      "Epoch 0, Loss 0.213\n",
      "Training Accuracy: 0.7748, Testing Accuracy: 0.7969\n",
      "\n"
     ]
    },
    {
     "name": "stdout",
     "output_type": "stream",
     "text": [
      "Epoch 10, Loss 0.0965\n",
      "Training Accuracy: 0.9227, Testing Accuracy: 0.9375\n",
      "\n"
     ]
    },
    {
     "name": "stdout",
     "output_type": "stream",
     "text": [
      "Epoch 20, Loss 0.0752\n",
      "Training Accuracy: 0.9347, Testing Accuracy: 0.9471\n",
      "\n"
     ]
    },
    {
     "name": "stdout",
     "output_type": "stream",
     "text": [
      "Epoch 30, Loss 0.0652\n",
      "Training Accuracy: 0.9427, Testing Accuracy: 0.9536\n",
      "\n"
     ]
    },
    {
     "name": "stdout",
     "output_type": "stream",
     "text": [
      "Epoch 40, Loss 0.0592\n",
      "Training Accuracy: 0.9473, Testing Accuracy: 0.9582\n",
      "\n"
     ]
    },
    {
     "name": "stdout",
     "output_type": "stream",
     "text": [
      "Epoch 50, Loss 0.055\n",
      "Training Accuracy: 0.9500, Testing Accuracy: 0.9577\n",
      "\n"
     ]
    },
    {
     "name": "stdout",
     "output_type": "stream",
     "text": [
      "Epoch 60, Loss 0.052\n",
      "Training Accuracy: 0.9519, Testing Accuracy: 0.9597\n",
      "\n"
     ]
    },
    {
     "name": "stdout",
     "output_type": "stream",
     "text": [
      "Epoch 70, Loss 0.0496\n",
      "Training Accuracy: 0.9528, Testing Accuracy: 0.9622\n",
      "\n"
     ]
    },
    {
     "name": "stdout",
     "output_type": "stream",
     "text": [
      "Epoch 80, Loss 0.0477\n",
      "Training Accuracy: 0.9540, Testing Accuracy: 0.9617\n",
      "\n"
     ]
    },
    {
     "name": "stdout",
     "output_type": "stream",
     "text": [
      "Epoch 90, Loss 0.0462\n",
      "Training Accuracy: 0.9551, Testing Accuracy: 0.9627\n",
      "\n"
     ]
    },
    {
     "name": "stdout",
     "output_type": "stream",
     "text": [
      "Epoch 100, Loss 0.0449\n",
      "Training Accuracy: 0.9559, Testing Accuracy: 0.9652\n",
      "\n"
     ]
    },
    {
     "name": "stdout",
     "output_type": "stream",
     "text": [
      "Epoch 110, Loss 0.0438\n",
      "Training Accuracy: 0.9571, Testing Accuracy: 0.9662\n",
      "\n"
     ]
    },
    {
     "name": "stdout",
     "output_type": "stream",
     "text": [
      "Epoch 120, Loss 0.0428\n",
      "Training Accuracy: 0.9577, Testing Accuracy: 0.9672\n",
      "\n"
     ]
    },
    {
     "name": "stdout",
     "output_type": "stream",
     "text": [
      "Epoch 130, Loss 0.0419\n",
      "Training Accuracy: 0.9581, Testing Accuracy: 0.9677\n",
      "\n"
     ]
    },
    {
     "name": "stdout",
     "output_type": "stream",
     "text": [
      "Epoch 140, Loss 0.0412\n",
      "Training Accuracy: 0.9586, Testing Accuracy: 0.9682\n",
      "\n"
     ]
    },
    {
     "name": "stdout",
     "output_type": "stream",
     "text": [
      "Epoch 150, Loss 0.0405\n",
      "Training Accuracy: 0.9588, Testing Accuracy: 0.9677\n",
      "\n"
     ]
    },
    {
     "name": "stdout",
     "output_type": "stream",
     "text": [
      "Epoch 160, Loss 0.0398\n",
      "Training Accuracy: 0.9590, Testing Accuracy: 0.9682\n",
      "\n"
     ]
    },
    {
     "name": "stdout",
     "output_type": "stream",
     "text": [
      "Epoch 170, Loss 0.0393\n",
      "Training Accuracy: 0.9596, Testing Accuracy: 0.9688\n",
      "\n"
     ]
    },
    {
     "name": "stdout",
     "output_type": "stream",
     "text": [
      "Epoch 180, Loss 0.0388\n",
      "Training Accuracy: 0.9600, Testing Accuracy: 0.9688\n",
      "\n"
     ]
    },
    {
     "name": "stdout",
     "output_type": "stream",
     "text": [
      "Epoch 190, Loss 0.0383\n",
      "Training Accuracy: 0.9604, Testing Accuracy: 0.9693\n",
      "\n"
     ]
    },
    {
     "name": "stdout",
     "output_type": "stream",
     "text": [
      "Epoch 200, Loss 0.0378\n",
      "Training Accuracy: 0.9606, Testing Accuracy: 0.9693\n",
      "\n"
     ]
    },
    {
     "name": "stdout",
     "output_type": "stream",
     "text": [
      "Epoch 210, Loss 0.0374\n",
      "Training Accuracy: 0.9611, Testing Accuracy: 0.9688\n",
      "\n"
     ]
    },
    {
     "name": "stdout",
     "output_type": "stream",
     "text": [
      "Epoch 220, Loss 0.037\n",
      "Training Accuracy: 0.9614, Testing Accuracy: 0.9688\n",
      "\n"
     ]
    },
    {
     "name": "stdout",
     "output_type": "stream",
     "text": [
      "Epoch 230, Loss 0.0367\n",
      "Training Accuracy: 0.9617, Testing Accuracy: 0.9682\n",
      "\n"
     ]
    },
    {
     "name": "stdout",
     "output_type": "stream",
     "text": [
      "Epoch 240, Loss 0.0363\n",
      "Training Accuracy: 0.9616, Testing Accuracy: 0.9682\n",
      "\n"
     ]
    },
    {
     "data": {
      "text/plain": [
       "0.06393888123973657"
      ]
     },
     "execution_count": 23,
     "metadata": {},
     "output_type": "execute_result"
    }
   ],
   "source": [
    "lr_learner.train_loop(dl)"
   ]
  },
  {
   "cell_type": "code",
   "execution_count": 24,
   "id": "ca410940",
   "metadata": {
    "execution": {
     "iopub.execute_input": "2022-01-19T00:24:51.902554Z",
     "iopub.status.busy": "2022-01-19T00:24:51.902087Z",
     "iopub.status.idle": "2022-01-19T00:24:52.093270Z",
     "shell.execute_reply": "2022-01-19T00:24:52.093776Z"
    },
    "papermill": {
     "duration": 0.236514,
     "end_time": "2022-01-19T00:24:52.093933",
     "exception": false,
     "start_time": "2022-01-19T00:24:51.857419",
     "status": "completed"
    },
    "tags": []
   },
   "outputs": [
    {
     "data": {
      "text/plain": [
       "<matplotlib.legend.Legend at 0x7f03f1addbe0>"
      ]
     },
     "execution_count": 24,
     "metadata": {},
     "output_type": "execute_result"
    },
    {
     "data": {
      "image/png": "[encoded data removed]",
      "text/plain": [
       "<Figure size 1080x720 with 1 Axes>"
      ]
     },
     "metadata": {
      "needs_background": "light"
     },
     "output_type": "display_data"
    }
   ],
   "source": [
    "#comparing the results of NN and LR\n",
    "plt.figure(figsize=(15,10))\n",
    "\n",
    "# Neural Network plots\n",
    "plt.plot(acc_nn.accuracies, 'r-', label = \"Training Accuracies - NN\")\n",
    "plt.plot(acc_nn.test_accuracies, 'g-', label = \"Testing Accuracies - NN\")\n",
    "\n",
    "# Logistic Regression plots\n",
    "plt.plot(acc_lr.accuracies, 'k-', label = \"Training Accuracies - LR\")\n",
    "plt.plot(acc_lr.test_accuracies, 'b-', label = \"Testing Accuracies - LR\")\n",
    "plt.legend()"
   ]
  },
  {
   "cell_type": "markdown",
   "id": "80dfb35c",
   "metadata": {
    "papermill": {
     "duration": 0.038002,
     "end_time": "2022-01-19T00:24:52.172040",
     "exception": false,
     "start_time": "2022-01-19T00:24:52.134038",
     "status": "completed"
    },
    "tags": []
   },
   "source": [
    "#### Plotting the outputs of this layer of the NN.\n"
   ]
  },
  {
   "cell_type": "code",
   "execution_count": 25,
   "id": "45eb2ff5",
   "metadata": {
    "execution": {
     "iopub.execute_input": "2022-01-19T00:24:52.256199Z",
     "iopub.status.busy": "2022-01-19T00:24:52.255715Z",
     "iopub.status.idle": "2022-01-19T00:24:52.271131Z",
     "shell.execute_reply": "2022-01-19T00:24:52.271531Z"
    },
    "papermill": {
     "duration": 0.062212,
     "end_time": "2022-01-19T00:24:52.271678",
     "exception": false,
     "start_time": "2022-01-19T00:24:52.209466",
     "status": "completed"
    },
    "tags": []
   },
   "outputs": [],
   "source": [
    "new_model = Model(layers[:-2])\n",
    "testing_plot = new_model(testing_data_x)"
   ]
  },
  {
   "cell_type": "code",
   "execution_count": 26,
   "id": "4c0a5485",
   "metadata": {
    "execution": {
     "iopub.execute_input": "2022-01-19T00:24:52.351574Z",
     "iopub.status.busy": "2022-01-19T00:24:52.351074Z",
     "iopub.status.idle": "2022-01-19T00:24:52.521217Z",
     "shell.execute_reply": "2022-01-19T00:24:52.521599Z"
    },
    "papermill": {
     "duration": 0.212294,
     "end_time": "2022-01-19T00:24:52.521735",
     "exception": false,
     "start_time": "2022-01-19T00:24:52.309441",
     "status": "completed"
    },
    "tags": []
   },
   "outputs": [
    {
     "data": {
      "text/plain": [
       "Text(0.5, 1.0, 'Outputs')"
      ]
     },
     "execution_count": 26,
     "metadata": {},
     "output_type": "execute_result"
    },
    {
     "data": {
      "image/png": "[encoded data removed]",
      "text/plain": [
       "<Figure size 576x504 with 1 Axes>"
      ]
     },
     "metadata": {
      "needs_background": "light"
     },
     "output_type": "display_data"
    }
   ],
   "source": [
    "# Plotting the scatter plot of points and color coding by class\n",
    "plt.figure(figsize=(8,7))\n",
    "plt.scatter(testing_plot[:,0], testing_plot[:,1], alpha = 0.1, c = y_test.ravel());\n",
    "plt.title('Outputs')"
   ]
  },
  {
   "cell_type": "markdown",
   "id": "a74fcf8f",
   "metadata": {
    "papermill": {
     "duration": 0.03858,
     "end_time": "2022-01-19T00:24:52.599697",
     "exception": false,
     "start_time": "2022-01-19T00:24:52.561117",
     "status": "completed"
    },
    "tags": []
   },
   "source": [
    "Probability contours"
   ]
  },
  {
   "cell_type": "code",
   "execution_count": 27,
   "id": "d0afc8e3",
   "metadata": {
    "execution": {
     "iopub.execute_input": "2022-01-19T00:24:52.684159Z",
     "iopub.status.busy": "2022-01-19T00:24:52.683683Z",
     "iopub.status.idle": "2022-01-19T00:24:52.691866Z",
     "shell.execute_reply": "2022-01-19T00:24:52.692212Z"
    },
    "papermill": {
     "duration": 0.053952,
     "end_time": "2022-01-19T00:24:52.692344",
     "exception": false,
     "start_time": "2022-01-19T00:24:52.638392",
     "status": "completed"
    },
    "tags": []
   },
   "outputs": [],
   "source": [
    "model_prob = Model(layers[-2:]) "
   ]
  },
  {
   "cell_type": "code",
   "execution_count": 28,
   "id": "9b96e238",
   "metadata": {
    "execution": {
     "iopub.execute_input": "2022-01-19T00:24:52.774069Z",
     "iopub.status.busy": "2022-01-19T00:24:52.773031Z",
     "iopub.status.idle": "2022-01-19T00:24:52.786800Z",
     "shell.execute_reply": "2022-01-19T00:24:52.787229Z"
    },
    "papermill": {
     "duration": 0.056895,
     "end_time": "2022-01-19T00:24:52.787374",
     "exception": false,
     "start_time": "2022-01-19T00:24:52.730479",
     "status": "completed"
    },
    "tags": []
   },
   "outputs": [],
   "source": [
    "#creating the x and y ranges according to the above generated plot.\n",
    "x_range = np.linspace(-4, 1, 100) \n",
    "y_range = np.linspace(-6, 6, 100) \n",
    "x_grid, y_grid = np.meshgrid(x_range, y_range) # x_grid and y_grig are of size 100 X 100\n",
    "\n",
    "# converting x_grid and y_grid to continuous arrays\n",
    "x_gridflat = np.ravel(x_grid)\n",
    "y_gridflat = np.ravel(y_grid)\n",
    "\n",
    "# The last layer of the current model takes two columns as input. Hence transpose of np.vstack() is required.\n",
    "X = np.vstack((x_gridflat, y_gridflat)).T\n",
    "\n",
    "prob_contour = model_prob(X).reshape(100,100) "
   ]
  },
  {
   "cell_type": "code",
   "execution_count": 29,
   "id": "da72499a",
   "metadata": {
    "execution": {
     "iopub.execute_input": "2022-01-19T00:24:52.869544Z",
     "iopub.status.busy": "2022-01-19T00:24:52.869078Z",
     "iopub.status.idle": "2022-01-19T00:24:53.087545Z",
     "shell.execute_reply": "2022-01-19T00:24:53.087911Z"
    },
    "papermill": {
     "duration": 0.261303,
     "end_time": "2022-01-19T00:24:53.088042",
     "exception": false,
     "start_time": "2022-01-19T00:24:52.826739",
     "status": "completed"
    },
    "tags": []
   },
   "outputs": [
    {
     "data": {
      "image/png": "[encoded data removed]",
      "text/plain": [
       "<Figure size 720x648 with 1 Axes>"
      ]
     },
     "metadata": {
      "needs_background": "light"
     },
     "output_type": "display_data"
    }
   ],
   "source": [
    "plt.figure(figsize=(10,9))\n",
    "plt.scatter(testing_plot[:,0], testing_plot[:,1], alpha = 0.1, c = y_test.ravel())\n",
    "contours = plt.contour(x_grid,y_grid,prob_contour)\n",
    "plt.title('Probability Contours')\n",
    "plt.clabel(contours, inline = True );"
   ]
  },
  {
   "cell_type": "code",
   "execution_count": null,
   "id": "e81b4ac7",
   "metadata": {
    "papermill": {
     "duration": 0.041075,
     "end_time": "2022-01-19T00:24:53.202464",
     "exception": false,
     "start_time": "2022-01-19T00:24:53.161389",
     "status": "completed"
    },
    "tags": []
   },
   "outputs": [],
   "source": []
  }
 ],
 "metadata": {
  "kernelspec": {
   "display_name": "Python 3",
   "language": "python",
   "name": "python3"
  },
  "language_info": {
   "codemirror_mode": {
    "name": "ipython",
    "version": 3
   },
   "file_extension": ".py",
   "mimetype": "text/x-python",
   "name": "python",
   "nbconvert_exporter": "python",
   "pygments_lexer": "ipython3",
   "version": "3.6.15"
  },
  "papermill": {
   "default_parameters": {},
   "duration": 98.310801,
   "end_time": "2022-01-19T00:24:53.662255",
   "environment_variables": {},
   "exception": null,
   "input_path": "2020-08-11-part2.ipynb",
   "output_path": "2020-08-11-part2.ipynb",
   "parameters": {},
   "start_time": "2022-01-19T00:23:15.351454",
   "version": "2.3.3"
  }
 },
 "nbformat": 4,
 "nbformat_minor": 5
}