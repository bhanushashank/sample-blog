{
 "cells": [
  {
   "cell_type": "markdown",
   "id": "98380cd3",
   "metadata": {
    "papermill": {
     "duration": 0.030581,
     "end_time": "2022-08-22T00:43:24.264716",
     "exception": false,
     "start_time": "2022-08-22T00:43:24.234135",
     "status": "completed"
    },
    "tags": []
   },
   "source": [
    "# Distinguish Your Own Digits (DYOD)"
   ]
  },
  {
   "cell_type": "markdown",
   "id": "ef31240d",
   "metadata": {
    "papermill": {
     "duration": 0.025297,
     "end_time": "2022-08-22T00:43:24.316270",
     "exception": false,
     "start_time": "2022-08-22T00:43:24.290973",
     "status": "completed"
    },
    "tags": []
   },
   "source": [
    "You are going to write a classifier that distinguishes between the number 3 and number 8."
   ]
  },
  {
   "cell_type": "code",
   "execution_count": 1,
   "id": "b15c8646",
   "metadata": {
    "execution": {
     "iopub.execute_input": "2022-08-22T00:43:24.381112Z",
     "iopub.status.busy": "2022-08-22T00:43:24.379935Z",
     "iopub.status.idle": "2022-08-22T00:43:24.393255Z",
     "shell.execute_reply": "2022-08-22T00:43:24.392729Z"
    },
    "papermill": {
     "duration": 0.051522,
     "end_time": "2022-08-22T00:43:24.393382",
     "exception": false,
     "start_time": "2022-08-22T00:43:24.341860",
     "status": "completed"
    },
    "tags": []
   },
   "outputs": [],
   "source": [
    "%load_ext autoreload\n",
    "%autoreload 2"
   ]
  },
  {
   "cell_type": "code",
   "execution_count": 2,
   "id": "22ef38dc",
   "metadata": {
    "execution": {
     "iopub.execute_input": "2022-08-22T00:43:24.450470Z",
     "iopub.status.busy": "2022-08-22T00:43:24.449787Z",
     "iopub.status.idle": "2022-08-22T00:43:25.037082Z",
     "shell.execute_reply": "2022-08-22T00:43:25.036498Z"
    },
    "papermill": {
     "duration": 0.618004,
     "end_time": "2022-08-22T00:43:25.037220",
     "exception": false,
     "start_time": "2022-08-22T00:43:24.419216",
     "status": "completed"
    },
    "tags": []
   },
   "outputs": [],
   "source": [
    "%matplotlib inline\n",
    "import numpy as np\n",
    "import matplotlib.pyplot as plt\n",
    "import pandas as pd"
   ]
  },
  {
   "cell_type": "markdown",
   "id": "ba036198",
   "metadata": {
    "papermill": {
     "duration": 0.026634,
     "end_time": "2022-08-22T00:43:25.090352",
     "exception": false,
     "start_time": "2022-08-22T00:43:25.063718",
     "status": "completed"
    },
    "tags": []
   },
   "source": [
    "From the command line run `pip install mnist`. This is a library that will help you bring down the mnist dataset. If you run this from a notebook, you need to put  `!pip install mnist` in a cell by itself."
   ]
  },
  {
   "cell_type": "code",
   "execution_count": 3,
   "id": "bb6ad8a1",
   "metadata": {
    "execution": {
     "iopub.execute_input": "2022-08-22T00:43:25.144687Z",
     "iopub.status.busy": "2022-08-22T00:43:25.144028Z",
     "iopub.status.idle": "2022-08-22T00:43:26.962236Z",
     "shell.execute_reply": "2022-08-22T00:43:26.961549Z"
    },
    "papermill": {
     "duration": 1.847153,
     "end_time": "2022-08-22T00:43:26.962395",
     "exception": false,
     "start_time": "2022-08-22T00:43:25.115242",
     "status": "completed"
    },
    "tags": []
   },
   "outputs": [
    {
     "name": "stdout",
     "output_type": "stream",
     "text": [
      "Collecting mnist\r\n"
     ]
    },
    {
     "name": "stdout",
     "output_type": "stream",
     "text": [
      "  Downloading mnist-0.2.2-py2.py3-none-any.whl (3.5 kB)\r\n",
      "Requirement already satisfied: numpy in /opt/hostedtoolcache/Python/3.6.15/x64/lib/python3.6/site-packages (from mnist) (1.19.5)\r\n"
     ]
    },
    {
     "name": "stdout",
     "output_type": "stream",
     "text": [
      "Installing collected packages: mnist\r\n"
     ]
    },
    {
     "name": "stdout",
     "output_type": "stream",
     "text": [
      "Successfully installed mnist-0.2.2\r\n"
     ]
    }
   ],
   "source": [
    "!pip install mnist"
   ]
  },
  {
   "cell_type": "markdown",
   "id": "69df9c9a",
   "metadata": {
    "papermill": {
     "duration": 0.028936,
     "end_time": "2022-08-22T00:43:27.020694",
     "exception": false,
     "start_time": "2022-08-22T00:43:26.991758",
     "status": "completed"
    },
    "tags": []
   },
   "source": [
    "## Preparing the Data"
   ]
  },
  {
   "cell_type": "code",
   "execution_count": 4,
   "id": "7f69d806",
   "metadata": {
    "execution": {
     "iopub.execute_input": "2022-08-22T00:43:27.084513Z",
     "iopub.status.busy": "2022-08-22T00:43:27.083815Z",
     "iopub.status.idle": "2022-08-22T00:43:27.101709Z",
     "shell.execute_reply": "2022-08-22T00:43:27.101149Z"
    },
    "papermill": {
     "duration": 0.053494,
     "end_time": "2022-08-22T00:43:27.101834",
     "exception": false,
     "start_time": "2022-08-22T00:43:27.048340",
     "status": "completed"
    },
    "tags": []
   },
   "outputs": [],
   "source": [
    "import mnist"
   ]
  },
  {
   "cell_type": "code",
   "execution_count": 5,
   "id": "a411e44f",
   "metadata": {
    "execution": {
     "iopub.execute_input": "2022-08-22T00:43:27.158650Z",
     "iopub.status.busy": "2022-08-22T00:43:27.158100Z",
     "iopub.status.idle": "2022-08-22T00:43:27.873542Z",
     "shell.execute_reply": "2022-08-22T00:43:27.872495Z"
    },
    "papermill": {
     "duration": 0.744716,
     "end_time": "2022-08-22T00:43:27.873688",
     "exception": false,
     "start_time": "2022-08-22T00:43:27.128972",
     "status": "completed"
    },
    "tags": []
   },
   "outputs": [],
   "source": [
    "train_images = mnist.train_images()\n",
    "train_labels = mnist.train_labels()"
   ]
  },
  {
   "cell_type": "code",
   "execution_count": 6,
   "id": "dceab3a5",
   "metadata": {
    "execution": {
     "iopub.execute_input": "2022-08-22T00:43:27.932861Z",
     "iopub.status.busy": "2022-08-22T00:43:27.932032Z",
     "iopub.status.idle": "2022-08-22T00:43:27.948109Z",
     "shell.execute_reply": "2022-08-22T00:43:27.948692Z"
    },
    "papermill": {
     "duration": 0.047811,
     "end_time": "2022-08-22T00:43:27.948830",
     "exception": false,
     "start_time": "2022-08-22T00:43:27.901019",
     "status": "completed"
    },
    "tags": []
   },
   "outputs": [
    {
     "data": {
      "text/plain": [
       "((60000, 28, 28), (60000,))"
      ]
     },
     "execution_count": 6,
     "metadata": {},
     "output_type": "execute_result"
    }
   ],
   "source": [
    "train_images.shape, train_labels.shape"
   ]
  },
  {
   "cell_type": "code",
   "execution_count": 7,
   "id": "f50dc2bb",
   "metadata": {
    "execution": {
     "iopub.execute_input": "2022-08-22T00:43:28.008873Z",
     "iopub.status.busy": "2022-08-22T00:43:28.008057Z",
     "iopub.status.idle": "2022-08-22T00:43:28.221825Z",
     "shell.execute_reply": "2022-08-22T00:43:28.221201Z"
    },
    "papermill": {
     "duration": 0.245016,
     "end_time": "2022-08-22T00:43:28.221958",
     "exception": false,
     "start_time": "2022-08-22T00:43:27.976942",
     "status": "completed"
    },
    "tags": []
   },
   "outputs": [],
   "source": [
    "test_images = mnist.test_images()\n",
    "test_labels = mnist.test_labels()"
   ]
  },
  {
   "cell_type": "code",
   "execution_count": 8,
   "id": "fc38cf1b",
   "metadata": {
    "execution": {
     "iopub.execute_input": "2022-08-22T00:43:28.284619Z",
     "iopub.status.busy": "2022-08-22T00:43:28.283980Z",
     "iopub.status.idle": "2022-08-22T00:43:28.300479Z",
     "shell.execute_reply": "2022-08-22T00:43:28.301394Z"
    },
    "papermill": {
     "duration": 0.05166,
     "end_time": "2022-08-22T00:43:28.301625",
     "exception": false,
     "start_time": "2022-08-22T00:43:28.249965",
     "status": "completed"
    },
    "tags": []
   },
   "outputs": [
    {
     "data": {
      "text/plain": [
       "((10000, 28, 28), (10000,))"
      ]
     },
     "execution_count": 8,
     "metadata": {},
     "output_type": "execute_result"
    }
   ],
   "source": [
    "test_images.shape, test_labels.shape"
   ]
  },
  {
   "cell_type": "code",
   "execution_count": 9,
   "id": "f9ed8fe0",
   "metadata": {
    "execution": {
     "iopub.execute_input": "2022-08-22T00:43:28.363025Z",
     "iopub.status.busy": "2022-08-22T00:43:28.362411Z",
     "iopub.status.idle": "2022-08-22T00:43:28.513144Z",
     "shell.execute_reply": "2022-08-22T00:43:28.512140Z"
    },
    "papermill": {
     "duration": 0.186009,
     "end_time": "2022-08-22T00:43:28.514407",
     "exception": false,
     "start_time": "2022-08-22T00:43:28.328398",
     "status": "completed"
    },
    "tags": []
   },
   "outputs": [
    {
     "name": "stdout",
     "output_type": "stream",
     "text": [
      "2\n"
     ]
    },
    {
     "data": {
      "text/plain": [
       "<matplotlib.image.AxesImage at 0x7fcdfc2489b0>"
      ]
     },
     "execution_count": 9,
     "metadata": {},
     "output_type": "execute_result"
    },
    {
     "data": {
      "image/png": "[encoded data removed]",
      "text/plain": [
       "<Figure size 432x288 with 1 Axes>"
      ]
     },
     "metadata": {
      "needs_background": "light"
     },
     "output_type": "display_data"
    }
   ],
   "source": [
    "image_index = 7776 # You may select anything up to 60,000\n",
    "print(train_labels[image_index]) \n",
    "plt.imshow(train_images[image_index], cmap='Greys')"
   ]
  },
  {
   "cell_type": "markdown",
   "id": "a8d2388d",
   "metadata": {
    "papermill": {
     "duration": 0.028588,
     "end_time": "2022-08-22T00:43:28.571436",
     "exception": false,
     "start_time": "2022-08-22T00:43:28.542848",
     "status": "completed"
    },
    "tags": []
   },
   "source": [
    "## Filter data to get 3 and 8 out"
   ]
  },
  {
   "cell_type": "code",
   "execution_count": 10,
   "id": "776f7fc7",
   "metadata": {
    "execution": {
     "iopub.execute_input": "2022-08-22T00:43:28.636259Z",
     "iopub.status.busy": "2022-08-22T00:43:28.635484Z",
     "iopub.status.idle": "2022-08-22T00:43:28.656260Z",
     "shell.execute_reply": "2022-08-22T00:43:28.655709Z"
    },
    "papermill": {
     "duration": 0.056523,
     "end_time": "2022-08-22T00:43:28.656384",
     "exception": false,
     "start_time": "2022-08-22T00:43:28.599861",
     "status": "completed"
    },
    "tags": []
   },
   "outputs": [],
   "source": [
    "train_filter = np.where((train_labels == 3 ) | (train_labels == 8))\n",
    "test_filter = np.where((test_labels == 3) | (test_labels == 8))\n",
    "X_train, y_train = train_images[train_filter], train_labels[train_filter]\n",
    "X_test, y_test = test_images[test_filter], test_labels[test_filter]"
   ]
  },
  {
   "cell_type": "markdown",
   "id": "948f0b7e",
   "metadata": {
    "papermill": {
     "duration": 0.029211,
     "end_time": "2022-08-22T00:43:28.714291",
     "exception": false,
     "start_time": "2022-08-22T00:43:28.685080",
     "status": "completed"
    },
    "tags": []
   },
   "source": [
    "We normalize the pizel values in the 0 to 1 range"
   ]
  },
  {
   "cell_type": "code",
   "execution_count": 11,
   "id": "ee4c2166",
   "metadata": {
    "execution": {
     "iopub.execute_input": "2022-08-22T00:43:28.777222Z",
     "iopub.status.busy": "2022-08-22T00:43:28.776532Z",
     "iopub.status.idle": "2022-08-22T00:43:28.830476Z",
     "shell.execute_reply": "2022-08-22T00:43:28.829956Z"
    },
    "papermill": {
     "duration": 0.088074,
     "end_time": "2022-08-22T00:43:28.830607",
     "exception": false,
     "start_time": "2022-08-22T00:43:28.742533",
     "status": "completed"
    },
    "tags": []
   },
   "outputs": [],
   "source": [
    "X_train = X_train/255.\n",
    "X_test = X_test/255."
   ]
  },
  {
   "cell_type": "markdown",
   "id": "ddcf4fab",
   "metadata": {
    "papermill": {
     "duration": 0.027188,
     "end_time": "2022-08-22T00:43:28.887277",
     "exception": false,
     "start_time": "2022-08-22T00:43:28.860089",
     "status": "completed"
    },
    "tags": []
   },
   "source": [
    "And setup the labels as 1 (when the digit is 3) and 0 (when the digit is 8)"
   ]
  },
  {
   "cell_type": "code",
   "execution_count": 12,
   "id": "7dc908f2",
   "metadata": {
    "execution": {
     "iopub.execute_input": "2022-08-22T00:43:28.947941Z",
     "iopub.status.busy": "2022-08-22T00:43:28.947233Z",
     "iopub.status.idle": "2022-08-22T00:43:28.960803Z",
     "shell.execute_reply": "2022-08-22T00:43:28.960298Z"
    },
    "papermill": {
     "duration": 0.04651,
     "end_time": "2022-08-22T00:43:28.960907",
     "exception": false,
     "start_time": "2022-08-22T00:43:28.914397",
     "status": "completed"
    },
    "tags": []
   },
   "outputs": [],
   "source": [
    "y_train = 1*(y_train==3)\n",
    "y_test = 1*(y_test==3)"
   ]
  },
  {
   "cell_type": "code",
   "execution_count": 13,
   "id": "01e4e969",
   "metadata": {
    "execution": {
     "iopub.execute_input": "2022-08-22T00:43:29.016697Z",
     "iopub.status.busy": "2022-08-22T00:43:29.016024Z",
     "iopub.status.idle": "2022-08-22T00:43:29.030460Z",
     "shell.execute_reply": "2022-08-22T00:43:29.029994Z"
    },
    "papermill": {
     "duration": 0.045249,
     "end_time": "2022-08-22T00:43:29.030548",
     "exception": false,
     "start_time": "2022-08-22T00:43:28.985299",
     "status": "completed"
    },
    "tags": []
   },
   "outputs": [
    {
     "data": {
      "text/plain": [
       "((11982, 28, 28), (1984, 28, 28))"
      ]
     },
     "execution_count": 13,
     "metadata": {},
     "output_type": "execute_result"
    }
   ],
   "source": [
    "X_train.shape, X_test.shape"
   ]
  },
  {
   "cell_type": "markdown",
   "id": "5ccf3f85",
   "metadata": {
    "papermill": {
     "duration": 0.029489,
     "end_time": "2022-08-22T00:43:29.087576",
     "exception": false,
     "start_time": "2022-08-22T00:43:29.058087",
     "status": "completed"
    },
    "tags": []
   },
   "source": [
    "We reshape the data to flatten the image pixels into a set of features or co-variates:"
   ]
  },
  {
   "cell_type": "code",
   "execution_count": 14,
   "id": "5286a4a3",
   "metadata": {
    "execution": {
     "iopub.execute_input": "2022-08-22T00:43:29.152047Z",
     "iopub.status.busy": "2022-08-22T00:43:29.151316Z",
     "iopub.status.idle": "2022-08-22T00:43:29.166307Z",
     "shell.execute_reply": "2022-08-22T00:43:29.166833Z"
    },
    "papermill": {
     "duration": 0.051052,
     "end_time": "2022-08-22T00:43:29.166971",
     "exception": false,
     "start_time": "2022-08-22T00:43:29.115919",
     "status": "completed"
    },
    "tags": []
   },
   "outputs": [
    {
     "data": {
      "text/plain": [
       "((11982, 784), (1984, 784))"
      ]
     },
     "execution_count": 14,
     "metadata": {},
     "output_type": "execute_result"
    }
   ],
   "source": [
    "X_train = X_train.reshape(X_train.shape[0], -1)\n",
    "X_test = X_test.reshape(X_test.shape[0], -1)\n",
    "X_train.shape, X_test.shape"
   ]
  },
  {
   "cell_type": "code",
   "execution_count": 15,
   "id": "73c5f88a",
   "metadata": {
    "execution": {
     "iopub.execute_input": "2022-08-22T00:43:29.230276Z",
     "iopub.status.busy": "2022-08-22T00:43:29.229579Z",
     "iopub.status.idle": "2022-08-22T00:43:29.251493Z",
     "shell.execute_reply": "2022-08-22T00:43:29.250815Z"
    },
    "papermill": {
     "duration": 0.056058,
     "end_time": "2022-08-22T00:43:29.251671",
     "exception": false,
     "start_time": "2022-08-22T00:43:29.195613",
     "status": "completed"
    },
    "tags": []
   },
   "outputs": [],
   "source": [
    "#Impoting functions from 'Kudzu'\n",
    "from kudzu.model import Model\n",
    "from kudzu.train import Learner\n",
    "from kudzu.optim import GD\n",
    "from kudzu.data import Data, Sampler,Dataloader\n",
    "\n",
    "from kudzu.callbacks import AccCallback\n",
    "from kudzu.callbacks import ClfCallback\n",
    "\n",
    "from kudzu.loss import MSE\n",
    "\n",
    "from kudzu.layer import Sigmoid,Relu\n",
    "from kudzu.layer import Affine"
   ]
  },
  {
   "cell_type": "markdown",
   "id": "bc01172a",
   "metadata": {
    "papermill": {
     "duration": 0.02987,
     "end_time": "2022-08-22T00:43:29.312046",
     "exception": false,
     "start_time": "2022-08-22T00:43:29.282176",
     "status": "completed"
    },
    "tags": []
   },
   "source": [
    "### Let us create a `Config` class, to store important parameters. \n",
    "This class essentially plays the role of a dictionary."
   ]
  },
  {
   "cell_type": "code",
   "execution_count": 16,
   "id": "978281aa",
   "metadata": {
    "execution": {
     "iopub.execute_input": "2022-08-22T00:43:29.373920Z",
     "iopub.status.busy": "2022-08-22T00:43:29.373276Z",
     "iopub.status.idle": "2022-08-22T00:43:29.387321Z",
     "shell.execute_reply": "2022-08-22T00:43:29.387841Z"
    },
    "papermill": {
     "duration": 0.04753,
     "end_time": "2022-08-22T00:43:29.387983",
     "exception": false,
     "start_time": "2022-08-22T00:43:29.340453",
     "status": "completed"
    },
    "tags": []
   },
   "outputs": [],
   "source": [
    "class Config:\n",
    "    pass\n",
    "config = Config()\n",
    "config.lr = 0.001\n",
    "config.num_epochs = 250\n",
    "config.bs = 50"
   ]
  },
  {
   "cell_type": "markdown",
   "id": "1385fa59",
   "metadata": {
    "papermill": {
     "duration": 0.028266,
     "end_time": "2022-08-22T00:43:29.443674",
     "exception": false,
     "start_time": "2022-08-22T00:43:29.415408",
     "status": "completed"
    },
    "tags": []
   },
   "source": [
    "### Running Models with the Training data\n",
    "Details about the network layers:\n",
    "- A first affine layer has 784 inputs and does 100 affine transforms. These are followed by a Relu\n",
    "- A second affine layer has 100 inputs from the 100 activations of the past layer, and does 100 affine transforms. These are followed by a Relu\n",
    "- A third affine layer has 100 activations and does 2 affine transformations to create an embedding for visualization. There is no non-linearity here.\n",
    "- A final \"logistic regression\" which has an affine transform from 2 inputs to 1 output, which is squeezed through a sigmoid.\n"
   ]
  },
  {
   "cell_type": "code",
   "execution_count": 17,
   "id": "2b9c66db",
   "metadata": {
    "execution": {
     "iopub.execute_input": "2022-08-22T00:43:29.508714Z",
     "iopub.status.busy": "2022-08-22T00:43:29.508015Z",
     "iopub.status.idle": "2022-08-22T00:43:29.522699Z",
     "shell.execute_reply": "2022-08-22T00:43:29.522026Z"
    },
    "papermill": {
     "duration": 0.050772,
     "end_time": "2022-08-22T00:43:29.522829",
     "exception": false,
     "start_time": "2022-08-22T00:43:29.472057",
     "status": "completed"
    },
    "tags": []
   },
   "outputs": [],
   "source": [
    "data = Data(X_train, y_train.reshape(-1,1))\n",
    "sampler = Sampler(data, config.bs, shuffle=True)\n",
    "\n",
    "dl = Dataloader(data, sampler)\n",
    "\n",
    "opt = GD(config.lr)\n",
    "loss = MSE()"
   ]
  },
  {
   "cell_type": "code",
   "execution_count": 18,
   "id": "b275e4c2",
   "metadata": {
    "execution": {
     "iopub.execute_input": "2022-08-22T00:43:29.586965Z",
     "iopub.status.busy": "2022-08-22T00:43:29.586279Z",
     "iopub.status.idle": "2022-08-22T00:43:29.600738Z",
     "shell.execute_reply": "2022-08-22T00:43:29.600221Z"
    },
    "papermill": {
     "duration": 0.048411,
     "end_time": "2022-08-22T00:43:29.600863",
     "exception": false,
     "start_time": "2022-08-22T00:43:29.552452",
     "status": "completed"
    },
    "tags": []
   },
   "outputs": [],
   "source": [
    "training_data_x = X_train\n",
    "testing_data_x = X_test\n",
    "training_data_y = y_train.reshape(-1,1)\n",
    "testing_data_y = y_test.reshape(-1,1)"
   ]
  },
  {
   "cell_type": "code",
   "execution_count": 19,
   "id": "76951160",
   "metadata": {
    "execution": {
     "iopub.execute_input": "2022-08-22T00:43:29.665380Z",
     "iopub.status.busy": "2022-08-22T00:43:29.664767Z",
     "iopub.status.idle": "2022-08-22T00:43:29.684531Z",
     "shell.execute_reply": "2022-08-22T00:43:29.683977Z"
    },
    "papermill": {
     "duration": 0.055076,
     "end_time": "2022-08-22T00:43:29.684671",
     "exception": false,
     "start_time": "2022-08-22T00:43:29.629595",
     "status": "completed"
    },
    "tags": []
   },
   "outputs": [
    {
     "name": "stdout",
     "output_type": "stream",
     "text": [
      "xavier\n",
      "xavier\n",
      "xavier\n",
      "xavier\n",
      "xavier\n"
     ]
    }
   ],
   "source": [
    "layers = [Affine(\"first\", 784, 100), Relu(\"first\"), Affine(\"second\", 100, 100), Relu(\"second\"), Affine(\"third\", 100, 2), Affine(\"last\", 2, 1), Sigmoid(\"last\")]\n",
    "model_nn = Model(layers)\n",
    "model_lr = Model([Affine(\"logits\", 784, 1), Sigmoid(\"sigmoid\")])"
   ]
  },
  {
   "cell_type": "code",
   "execution_count": 20,
   "id": "6eede77a",
   "metadata": {
    "execution": {
     "iopub.execute_input": "2022-08-22T00:43:29.746318Z",
     "iopub.status.busy": "2022-08-22T00:43:29.745710Z",
     "iopub.status.idle": "2022-08-22T00:43:29.762359Z",
     "shell.execute_reply": "2022-08-22T00:43:29.761778Z"
    },
    "papermill": {
     "duration": 0.048544,
     "end_time": "2022-08-22T00:43:29.762483",
     "exception": false,
     "start_time": "2022-08-22T00:43:29.713939",
     "status": "completed"
    },
    "tags": []
   },
   "outputs": [],
   "source": [
    "nn_learner = Learner(loss, model_nn, opt, config.num_epochs)\n",
    "acc_nn = ClfCallback(nn_learner, config.bs, training_data_x , testing_data_x, training_data_y, testing_data_y)\n",
    "nn_learner.set_callbacks([acc_nn])"
   ]
  },
  {
   "cell_type": "code",
   "execution_count": 21,
   "id": "877b6cc7",
   "metadata": {
    "execution": {
     "iopub.execute_input": "2022-08-22T00:43:29.828861Z",
     "iopub.status.busy": "2022-08-22T00:43:29.828174Z",
     "iopub.status.idle": "2022-08-22T00:43:29.844440Z",
     "shell.execute_reply": "2022-08-22T00:43:29.843866Z"
    },
    "papermill": {
     "duration": 0.053471,
     "end_time": "2022-08-22T00:43:29.844571",
     "exception": false,
     "start_time": "2022-08-22T00:43:29.791100",
     "status": "completed"
    },
    "tags": []
   },
   "outputs": [],
   "source": [
    "lr_learner = Learner(loss, model_lr, opt, config.num_epochs)\n",
    "acc_lr = ClfCallback(lr_learner, config.bs, training_data_x , testing_data_x, training_data_y, testing_data_y)\n",
    "lr_learner.set_callbacks([acc_lr])"
   ]
  },
  {
   "cell_type": "code",
   "execution_count": 22,
   "id": "d9b133c3",
   "metadata": {
    "execution": {
     "iopub.execute_input": "2022-08-22T00:43:29.913733Z",
     "iopub.status.busy": "2022-08-22T00:43:29.913102Z",
     "iopub.status.idle": "2022-08-22T00:44:55.655652Z",
     "shell.execute_reply": "2022-08-22T00:44:55.656696Z"
    },
    "papermill": {
     "duration": 85.78191,
     "end_time": "2022-08-22T00:44:55.656864",
     "exception": false,
     "start_time": "2022-08-22T00:43:29.874954",
     "status": "completed"
    },
    "tags": []
   },
   "outputs": [
    {
     "name": "stdout",
     "output_type": "stream",
     "text": [
      "Epoch 0, Loss 0.2499\n",
      "Training Accuracy: 0.5340, Testing Accuracy: 0.5202\n",
      "\n"
     ]
    },
    {
     "name": "stdout",
     "output_type": "stream",
     "text": [
      "Epoch 10, Loss 0.2463\n",
      "Training Accuracy: 0.6768, Testing Accuracy: 0.6593\n",
      "\n"
     ]
    },
    {
     "name": "stdout",
     "output_type": "stream",
     "text": [
      "Epoch 20, Loss 0.2329\n",
      "Training Accuracy: 0.8309, Testing Accuracy: 0.8387\n",
      "\n"
     ]
    },
    {
     "name": "stdout",
     "output_type": "stream",
     "text": [
      "Epoch 30, Loss 0.1671\n",
      "Training Accuracy: 0.8913, Testing Accuracy: 0.9052\n",
      "\n"
     ]
    },
    {
     "name": "stdout",
     "output_type": "stream",
     "text": [
      "Epoch 40, Loss 0.0845\n",
      "Training Accuracy: 0.9170, Testing Accuracy: 0.9330\n",
      "\n"
     ]
    },
    {
     "name": "stdout",
     "output_type": "stream",
     "text": [
      "Epoch 50, Loss 0.0584\n",
      "Training Accuracy: 0.9382, Testing Accuracy: 0.9496\n",
      "\n"
     ]
    },
    {
     "name": "stdout",
     "output_type": "stream",
     "text": [
      "Epoch 60, Loss 0.0472\n",
      "Training Accuracy: 0.9468, Testing Accuracy: 0.9587\n",
      "\n"
     ]
    },
    {
     "name": "stdout",
     "output_type": "stream",
     "text": [
      "Epoch 70, Loss 0.0411\n",
      "Training Accuracy: 0.9528, Testing Accuracy: 0.9637\n",
      "\n"
     ]
    },
    {
     "name": "stdout",
     "output_type": "stream",
     "text": [
      "Epoch 80, Loss 0.0372\n",
      "Training Accuracy: 0.9562, Testing Accuracy: 0.9662\n",
      "\n"
     ]
    },
    {
     "name": "stdout",
     "output_type": "stream",
     "text": [
      "Epoch 90, Loss 0.0345\n",
      "Training Accuracy: 0.9593, Testing Accuracy: 0.9672\n",
      "\n"
     ]
    },
    {
     "name": "stdout",
     "output_type": "stream",
     "text": [
      "Epoch 100, Loss 0.0325\n",
      "Training Accuracy: 0.9619, Testing Accuracy: 0.9682\n",
      "\n"
     ]
    },
    {
     "name": "stdout",
     "output_type": "stream",
     "text": [
      "Epoch 110, Loss 0.0308\n",
      "Training Accuracy: 0.9639, Testing Accuracy: 0.9698\n",
      "\n"
     ]
    },
    {
     "name": "stdout",
     "output_type": "stream",
     "text": [
      "Epoch 120, Loss 0.0295\n",
      "Training Accuracy: 0.9653, Testing Accuracy: 0.9703\n",
      "\n"
     ]
    },
    {
     "name": "stdout",
     "output_type": "stream",
     "text": [
      "Epoch 130, Loss 0.0284\n",
      "Training Accuracy: 0.9676, Testing Accuracy: 0.9703\n",
      "\n"
     ]
    },
    {
     "name": "stdout",
     "output_type": "stream",
     "text": [
      "Epoch 140, Loss 0.0274\n",
      "Training Accuracy: 0.9689, Testing Accuracy: 0.9713\n",
      "\n"
     ]
    },
    {
     "name": "stdout",
     "output_type": "stream",
     "text": [
      "Epoch 150, Loss 0.0266\n",
      "Training Accuracy: 0.9701, Testing Accuracy: 0.9708\n",
      "\n"
     ]
    },
    {
     "name": "stdout",
     "output_type": "stream",
     "text": [
      "Epoch 160, Loss 0.0258\n",
      "Training Accuracy: 0.9708, Testing Accuracy: 0.9718\n",
      "\n"
     ]
    },
    {
     "name": "stdout",
     "output_type": "stream",
     "text": [
      "Epoch 170, Loss 0.0251\n",
      "Training Accuracy: 0.9715, Testing Accuracy: 0.9718\n",
      "\n"
     ]
    },
    {
     "name": "stdout",
     "output_type": "stream",
     "text": [
      "Epoch 180, Loss 0.0245\n",
      "Training Accuracy: 0.9722, Testing Accuracy: 0.9713\n",
      "\n"
     ]
    },
    {
     "name": "stdout",
     "output_type": "stream",
     "text": [
      "Epoch 190, Loss 0.0239\n",
      "Training Accuracy: 0.9730, Testing Accuracy: 0.9718\n",
      "\n"
     ]
    },
    {
     "name": "stdout",
     "output_type": "stream",
     "text": [
      "Epoch 200, Loss 0.0234\n",
      "Training Accuracy: 0.9735, Testing Accuracy: 0.9728\n",
      "\n"
     ]
    },
    {
     "name": "stdout",
     "output_type": "stream",
     "text": [
      "Epoch 210, Loss 0.0228\n",
      "Training Accuracy: 0.9735, Testing Accuracy: 0.9733\n",
      "\n"
     ]
    },
    {
     "name": "stdout",
     "output_type": "stream",
     "text": [
      "Epoch 220, Loss 0.0224\n",
      "Training Accuracy: 0.9743, Testing Accuracy: 0.9728\n",
      "\n"
     ]
    },
    {
     "name": "stdout",
     "output_type": "stream",
     "text": [
      "Epoch 230, Loss 0.0219\n",
      "Training Accuracy: 0.9750, Testing Accuracy: 0.9733\n",
      "\n"
     ]
    },
    {
     "name": "stdout",
     "output_type": "stream",
     "text": [
      "Epoch 240, Loss 0.0215\n",
      "Training Accuracy: 0.9757, Testing Accuracy: 0.9728\n",
      "\n"
     ]
    },
    {
     "data": {
      "text/plain": [
       "0.002174312216684979"
      ]
     },
     "execution_count": 22,
     "metadata": {},
     "output_type": "execute_result"
    }
   ],
   "source": [
    "nn_learner.train_loop(dl)"
   ]
  },
  {
   "cell_type": "code",
   "execution_count": 23,
   "id": "e0163366",
   "metadata": {
    "execution": {
     "iopub.execute_input": "2022-08-22T00:44:55.745227Z",
     "iopub.status.busy": "2022-08-22T00:44:55.744555Z",
     "iopub.status.idle": "2022-08-22T00:45:11.013447Z",
     "shell.execute_reply": "2022-08-22T00:45:11.014495Z"
    },
    "papermill": {
     "duration": 15.317932,
     "end_time": "2022-08-22T00:45:11.014659",
     "exception": false,
     "start_time": "2022-08-22T00:44:55.696727",
     "status": "completed"
    },
    "tags": []
   },
   "outputs": [
    {
     "name": "stdout",
     "output_type": "stream",
     "text": [
      "Epoch 0, Loss 0.2453\n",
      "Training Accuracy: 0.6670, Testing Accuracy: 0.6749\n",
      "\n"
     ]
    },
    {
     "name": "stdout",
     "output_type": "stream",
     "text": [
      "Epoch 10, Loss 0.1025\n",
      "Training Accuracy: 0.9112, Testing Accuracy: 0.9214\n",
      "\n"
     ]
    },
    {
     "name": "stdout",
     "output_type": "stream",
     "text": [
      "Epoch 20, Loss 0.0791\n",
      "Training Accuracy: 0.9291, Testing Accuracy: 0.9395\n",
      "\n"
     ]
    },
    {
     "name": "stdout",
     "output_type": "stream",
     "text": [
      "Epoch 30, Loss 0.0684\n",
      "Training Accuracy: 0.9361, Testing Accuracy: 0.9441\n",
      "\n"
     ]
    },
    {
     "name": "stdout",
     "output_type": "stream",
     "text": [
      "Epoch 40, Loss 0.062\n",
      "Training Accuracy: 0.9409, Testing Accuracy: 0.9511\n",
      "\n"
     ]
    },
    {
     "name": "stdout",
     "output_type": "stream",
     "text": [
      "Epoch 50, Loss 0.0575\n",
      "Training Accuracy: 0.9434, Testing Accuracy: 0.9536\n",
      "\n"
     ]
    },
    {
     "name": "stdout",
     "output_type": "stream",
     "text": [
      "Epoch 60, Loss 0.0543\n",
      "Training Accuracy: 0.9466, Testing Accuracy: 0.9556\n",
      "\n"
     ]
    },
    {
     "name": "stdout",
     "output_type": "stream",
     "text": [
      "Epoch 70, Loss 0.0517\n",
      "Training Accuracy: 0.9489, Testing Accuracy: 0.9587\n",
      "\n"
     ]
    },
    {
     "name": "stdout",
     "output_type": "stream",
     "text": [
      "Epoch 80, Loss 0.0497\n",
      "Training Accuracy: 0.9507, Testing Accuracy: 0.9592\n",
      "\n"
     ]
    },
    {
     "name": "stdout",
     "output_type": "stream",
     "text": [
      "Epoch 90, Loss 0.048\n",
      "Training Accuracy: 0.9518, Testing Accuracy: 0.9597\n",
      "\n"
     ]
    },
    {
     "name": "stdout",
     "output_type": "stream",
     "text": [
      "Epoch 100, Loss 0.0465\n",
      "Training Accuracy: 0.9533, Testing Accuracy: 0.9602\n",
      "\n"
     ]
    },
    {
     "name": "stdout",
     "output_type": "stream",
     "text": [
      "Epoch 110, Loss 0.0453\n",
      "Training Accuracy: 0.9537, Testing Accuracy: 0.9612\n",
      "\n"
     ]
    },
    {
     "name": "stdout",
     "output_type": "stream",
     "text": [
      "Epoch 120, Loss 0.0442\n",
      "Training Accuracy: 0.9542, Testing Accuracy: 0.9617\n",
      "\n"
     ]
    },
    {
     "name": "stdout",
     "output_type": "stream",
     "text": [
      "Epoch 130, Loss 0.0433\n",
      "Training Accuracy: 0.9548, Testing Accuracy: 0.9632\n",
      "\n"
     ]
    },
    {
     "name": "stdout",
     "output_type": "stream",
     "text": [
      "Epoch 140, Loss 0.0425\n",
      "Training Accuracy: 0.9551, Testing Accuracy: 0.9637\n",
      "\n"
     ]
    },
    {
     "name": "stdout",
     "output_type": "stream",
     "text": [
      "Epoch 150, Loss 0.0417\n",
      "Training Accuracy: 0.9557, Testing Accuracy: 0.9642\n",
      "\n"
     ]
    },
    {
     "name": "stdout",
     "output_type": "stream",
     "text": [
      "Epoch 160, Loss 0.041\n",
      "Training Accuracy: 0.9564, Testing Accuracy: 0.9647\n",
      "\n"
     ]
    },
    {
     "name": "stdout",
     "output_type": "stream",
     "text": [
      "Epoch 170, Loss 0.0404\n",
      "Training Accuracy: 0.9569, Testing Accuracy: 0.9652\n",
      "\n"
     ]
    },
    {
     "name": "stdout",
     "output_type": "stream",
     "text": [
      "Epoch 180, Loss 0.0398\n",
      "Training Accuracy: 0.9574, Testing Accuracy: 0.9657\n",
      "\n"
     ]
    },
    {
     "name": "stdout",
     "output_type": "stream",
     "text": [
      "Epoch 190, Loss 0.0393\n",
      "Training Accuracy: 0.9577, Testing Accuracy: 0.9657\n",
      "\n"
     ]
    },
    {
     "name": "stdout",
     "output_type": "stream",
     "text": [
      "Epoch 200, Loss 0.0388\n",
      "Training Accuracy: 0.9580, Testing Accuracy: 0.9657\n",
      "\n"
     ]
    },
    {
     "name": "stdout",
     "output_type": "stream",
     "text": [
      "Epoch 210, Loss 0.0383\n",
      "Training Accuracy: 0.9587, Testing Accuracy: 0.9657\n",
      "\n"
     ]
    },
    {
     "name": "stdout",
     "output_type": "stream",
     "text": [
      "Epoch 220, Loss 0.0379\n",
      "Training Accuracy: 0.9589, Testing Accuracy: 0.9662\n",
      "\n"
     ]
    },
    {
     "name": "stdout",
     "output_type": "stream",
     "text": [
      "Epoch 230, Loss 0.0375\n",
      "Training Accuracy: 0.9591, Testing Accuracy: 0.9662\n",
      "\n"
     ]
    },
    {
     "name": "stdout",
     "output_type": "stream",
     "text": [
      "Epoch 240, Loss 0.0372\n",
      "Training Accuracy: 0.9592, Testing Accuracy: 0.9672\n",
      "\n"
     ]
    },
    {
     "data": {
      "text/plain": [
       "0.043843325832918834"
      ]
     },
     "execution_count": 23,
     "metadata": {},
     "output_type": "execute_result"
    }
   ],
   "source": [
    "lr_learner.train_loop(dl)"
   ]
  },
  {
   "cell_type": "code",
   "execution_count": 24,
   "id": "ca410940",
   "metadata": {
    "execution": {
     "iopub.execute_input": "2022-08-22T00:45:11.121197Z",
     "iopub.status.busy": "2022-08-22T00:45:11.120494Z",
     "iopub.status.idle": "2022-08-22T00:45:11.375769Z",
     "shell.execute_reply": "2022-08-22T00:45:11.375140Z"
    },
    "papermill": {
     "duration": 0.312844,
     "end_time": "2022-08-22T00:45:11.375910",
     "exception": false,
     "start_time": "2022-08-22T00:45:11.063066",
     "status": "completed"
    },
    "tags": []
   },
   "outputs": [
    {
     "data": {
      "text/plain": [
       "<matplotlib.legend.Legend at 0x7fcdfbda9eb8>"
      ]
     },
     "execution_count": 24,
     "metadata": {},
     "output_type": "execute_result"
    },
    {
     "data": {
      "image/png": "[encoded data removed]",
      "text/plain": [
       "<Figure size 1080x720 with 1 Axes>"
      ]
     },
     "metadata": {
      "needs_background": "light"
     },
     "output_type": "display_data"
    }
   ],
   "source": [
    "#comparing the results of NN and LR\n",
    "plt.figure(figsize=(15,10))\n",
    "\n",
    "# Neural Network plots\n",
    "plt.plot(acc_nn.accuracies, 'r-', label = \"Training Accuracies - NN\")\n",
    "plt.plot(acc_nn.test_accuracies, 'g-', label = \"Testing Accuracies - NN\")\n",
    "\n",
    "# Logistic Regression plots\n",
    "plt.plot(acc_lr.accuracies, 'k-', label = \"Training Accuracies - LR\")\n",
    "plt.plot(acc_lr.test_accuracies, 'b-', label = \"Testing Accuracies - LR\")\n",
    "plt.legend()"
   ]
  },
  {
   "cell_type": "markdown",
   "id": "80dfb35c",
   "metadata": {
    "papermill": {
     "duration": 0.046134,
     "end_time": "2022-08-22T00:45:11.469187",
     "exception": false,
     "start_time": "2022-08-22T00:45:11.423053",
     "status": "completed"
    },
    "tags": []
   },
   "source": [
    "#### Plotting the outputs of this layer of the NN.\n"
   ]
  },
  {
   "cell_type": "code",
   "execution_count": 25,
   "id": "45eb2ff5",
   "metadata": {
    "execution": {
     "iopub.execute_input": "2022-08-22T00:45:11.563492Z",
     "iopub.status.busy": "2022-08-22T00:45:11.562800Z",
     "iopub.status.idle": "2022-08-22T00:45:11.585030Z",
     "shell.execute_reply": "2022-08-22T00:45:11.585902Z"
    },
    "papermill": {
     "duration": 0.073094,
     "end_time": "2022-08-22T00:45:11.586066",
     "exception": false,
     "start_time": "2022-08-22T00:45:11.512972",
     "status": "completed"
    },
    "tags": []
   },
   "outputs": [],
   "source": [
    "new_model = Model(layers[:-2])\n",
    "testing_plot = new_model(testing_data_x)"
   ]
  },
  {
   "cell_type": "code",
   "execution_count": 26,
   "id": "4c0a5485",
   "metadata": {
    "execution": {
     "iopub.execute_input": "2022-08-22T00:45:11.689470Z",
     "iopub.status.busy": "2022-08-22T00:45:11.688784Z",
     "iopub.status.idle": "2022-08-22T00:45:11.900158Z",
     "shell.execute_reply": "2022-08-22T00:45:11.899083Z"
    },
    "papermill": {
     "duration": 0.267981,
     "end_time": "2022-08-22T00:45:11.900300",
     "exception": false,
     "start_time": "2022-08-22T00:45:11.632319",
     "status": "completed"
    },
    "tags": []
   },
   "outputs": [
    {
     "data": {
      "text/plain": [
       "Text(0.5, 1.0, 'Outputs')"
      ]
     },
     "execution_count": 26,
     "metadata": {},
     "output_type": "execute_result"
    },
    {
     "data": {
      "image/png": "[encoded data removed]",
      "text/plain": [
       "<Figure size 576x504 with 1 Axes>"
      ]
     },
     "metadata": {
      "needs_background": "light"
     },
     "output_type": "display_data"
    }
   ],
   "source": [
    "# Plotting the scatter plot of points and color coding by class\n",
    "plt.figure(figsize=(8,7))\n",
    "plt.scatter(testing_plot[:,0], testing_plot[:,1], alpha = 0.1, c = y_test.ravel());\n",
    "plt.title('Outputs')"
   ]
  },
  {
   "cell_type": "markdown",
   "id": "a74fcf8f",
   "metadata": {
    "papermill": {
     "duration": 0.050604,
     "end_time": "2022-08-22T00:45:12.000843",
     "exception": false,
     "start_time": "2022-08-22T00:45:11.950239",
     "status": "completed"
    },
    "tags": []
   },
   "source": [
    "Probability contours"
   ]
  },
  {
   "cell_type": "code",
   "execution_count": 27,
   "id": "d0afc8e3",
   "metadata": {
    "execution": {
     "iopub.execute_input": "2022-08-22T00:45:12.139596Z",
     "iopub.status.busy": "2022-08-22T00:45:12.138925Z",
     "iopub.status.idle": "2022-08-22T00:45:12.154046Z",
     "shell.execute_reply": "2022-08-22T00:45:12.153525Z"
    },
    "papermill": {
     "duration": 0.07026,
     "end_time": "2022-08-22T00:45:12.154165",
     "exception": false,
     "start_time": "2022-08-22T00:45:12.083905",
     "status": "completed"
    },
    "tags": []
   },
   "outputs": [],
   "source": [
    "model_prob = Model(layers[-2:]) "
   ]
  },
  {
   "cell_type": "code",
   "execution_count": 28,
   "id": "9b96e238",
   "metadata": {
    "execution": {
     "iopub.execute_input": "2022-08-22T00:45:12.256937Z",
     "iopub.status.busy": "2022-08-22T00:45:12.256226Z",
     "iopub.status.idle": "2022-08-22T00:45:12.271698Z",
     "shell.execute_reply": "2022-08-22T00:45:12.272249Z"
    },
    "papermill": {
     "duration": 0.070002,
     "end_time": "2022-08-22T00:45:12.272412",
     "exception": false,
     "start_time": "2022-08-22T00:45:12.202410",
     "status": "completed"
    },
    "tags": []
   },
   "outputs": [],
   "source": [
    "#creating the x and y ranges according to the above generated plot.\n",
    "x_range = np.linspace(-4, 1, 100) \n",
    "y_range = np.linspace(-6, 6, 100) \n",
    "x_grid, y_grid = np.meshgrid(x_range, y_range) # x_grid and y_grig are of size 100 X 100\n",
    "\n",
    "# converting x_grid and y_grid to continuous arrays\n",
    "x_gridflat = np.ravel(x_grid)\n",
    "y_gridflat = np.ravel(y_grid)\n",
    "\n",
    "# The last layer of the current model takes two columns as input. Hence transpose of np.vstack() is required.\n",
    "X = np.vstack((x_gridflat, y_gridflat)).T\n",
    "\n",
    "prob_contour = model_prob(X).reshape(100,100) "
   ]
  },
  {
   "cell_type": "code",
   "execution_count": 29,
   "id": "da72499a",
   "metadata": {
    "execution": {
     "iopub.execute_input": "2022-08-22T00:45:12.389482Z",
     "iopub.status.busy": "2022-08-22T00:45:12.388773Z",
     "iopub.status.idle": "2022-08-22T00:45:12.665872Z",
     "shell.execute_reply": "2022-08-22T00:45:12.666397Z"
    },
    "papermill": {
     "duration": 0.340979,
     "end_time": "2022-08-22T00:45:12.666549",
     "exception": false,
     "start_time": "2022-08-22T00:45:12.325570",
     "status": "completed"
    },
    "tags": []
   },
   "outputs": [
    {
     "data": {
      "image/png": "[encoded data removed]",
      "text/plain": [
       "<Figure size 720x648 with 1 Axes>"
      ]
     },
     "metadata": {
      "needs_background": "light"
     },
     "output_type": "display_data"
    }
   ],
   "source": [
    "plt.figure(figsize=(10,9))\n",
    "plt.scatter(testing_plot[:,0], testing_plot[:,1], alpha = 0.1, c = y_test.ravel())\n",
    "contours = plt.contour(x_grid,y_grid,prob_contour)\n",
    "plt.title('Probability Contours')\n",
    "plt.clabel(contours, inline = True );"
   ]
  },
  {
   "cell_type": "code",
   "execution_count": null,
   "id": "e81b4ac7",
   "metadata": {
    "papermill": {
     "duration": 0.05021,
     "end_time": "2022-08-22T00:45:12.766756",
     "exception": false,
     "start_time": "2022-08-22T00:45:12.716546",
     "status": "completed"
    },
    "tags": []
   },
   "outputs": [],
   "source": []
  }
 ],
 "metadata": {
  "kernelspec": {
   "display_name": "Python 3",
   "language": "python",
   "name": "python3"
  },
  "language_info": {
   "codemirror_mode": {
    "name": "ipython",
    "version": 3
   },
   "file_extension": ".py",
   "mimetype": "text/x-python",
   "name": "python",
   "nbconvert_exporter": "python",
   "pygments_lexer": "ipython3",
   "version": "3.6.15"
  },
  "papermill": {
   "default_parameters": {},
   "duration": 110.280481,
   "end_time": "2022-08-22T00:45:13.237632",
   "environment_variables": {},
   "exception": null,
   "input_path": "2020-08-11-part2.ipynb",
   "output_path": "2020-08-11-part2.ipynb",
   "parameters": {},
   "start_time": "2022-08-22T00:43:22.957151",
   "version": "2.3.3"
  }
 },
 "nbformat": 4,
 "nbformat_minor": 5
}