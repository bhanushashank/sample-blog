{
 "cells": [
  {
   "cell_type": "markdown",
   "id": "98380cd3",
   "metadata": {
    "papermill": {
     "duration": 0.037649,
     "end_time": "2021-09-14T10:07:44.374317",
     "exception": false,
     "start_time": "2021-09-14T10:07:44.336668",
     "status": "completed"
    },
    "tags": []
   },
   "source": [
    "# Distinguish Your Own Digits (DYOD)"
   ]
  },
  {
   "cell_type": "markdown",
   "id": "ef31240d",
   "metadata": {
    "papermill": {
     "duration": 0.033506,
     "end_time": "2021-09-14T10:07:44.440995",
     "exception": false,
     "start_time": "2021-09-14T10:07:44.407489",
     "status": "completed"
    },
    "tags": []
   },
   "source": [
    "You are going to write a classifier that distinguishes between the number 3 and number 8."
   ]
  },
  {
   "cell_type": "code",
   "execution_count": 1,
   "id": "b15c8646",
   "metadata": {
    "execution": {
     "iopub.execute_input": "2021-09-14T10:07:44.520393Z",
     "iopub.status.busy": "2021-09-14T10:07:44.519629Z",
     "iopub.status.idle": "2021-09-14T10:07:44.530565Z",
     "shell.execute_reply": "2021-09-14T10:07:44.529978Z"
    },
    "papermill": {
     "duration": 0.056749,
     "end_time": "2021-09-14T10:07:44.530714",
     "exception": false,
     "start_time": "2021-09-14T10:07:44.473965",
     "status": "completed"
    },
    "tags": []
   },
   "outputs": [],
   "source": [
    "%load_ext autoreload\n",
    "%autoreload 2"
   ]
  },
  {
   "cell_type": "code",
   "execution_count": 2,
   "id": "22ef38dc",
   "metadata": {
    "execution": {
     "iopub.execute_input": "2021-09-14T10:07:44.601941Z",
     "iopub.status.busy": "2021-09-14T10:07:44.600738Z",
     "iopub.status.idle": "2021-09-14T10:07:45.255644Z",
     "shell.execute_reply": "2021-09-14T10:07:45.254997Z"
    },
    "papermill": {
     "duration": 0.692069,
     "end_time": "2021-09-14T10:07:45.255804",
     "exception": false,
     "start_time": "2021-09-14T10:07:44.563735",
     "status": "completed"
    },
    "tags": []
   },
   "outputs": [],
   "source": [
    "%matplotlib inline\n",
    "import numpy as np\n",
    "import matplotlib.pyplot as plt\n",
    "import pandas as pd"
   ]
  },
  {
   "cell_type": "markdown",
   "id": "ba036198",
   "metadata": {
    "papermill": {
     "duration": 0.038785,
     "end_time": "2021-09-14T10:07:45.327888",
     "exception": false,
     "start_time": "2021-09-14T10:07:45.289103",
     "status": "completed"
    },
    "tags": []
   },
   "source": [
    "From the command line run `pip install mnist`. This is a library that will help you bring down the mnist dataset. If you run this from a notebook, you need to put  `!pip install mnist` in a cell by itself."
   ]
  },
  {
   "cell_type": "code",
   "execution_count": 3,
   "id": "bb6ad8a1",
   "metadata": {
    "execution": {
     "iopub.execute_input": "2021-09-14T10:07:45.403966Z",
     "iopub.status.busy": "2021-09-14T10:07:45.403324Z",
     "iopub.status.idle": "2021-09-14T10:07:48.074543Z",
     "shell.execute_reply": "2021-09-14T10:07:48.075169Z"
    },
    "papermill": {
     "duration": 2.711494,
     "end_time": "2021-09-14T10:07:48.075393",
     "exception": false,
     "start_time": "2021-09-14T10:07:45.363899",
     "status": "completed"
    },
    "tags": []
   },
   "outputs": [
    {
     "name": "stdout",
     "output_type": "stream",
     "text": [
      "Collecting mnist\r\n"
     ]
    },
    {
     "name": "stdout",
     "output_type": "stream",
     "text": [
      "  Downloading mnist-0.2.2-py2.py3-none-any.whl (3.5 kB)\r\n",
      "Requirement already satisfied: numpy in /opt/hostedtoolcache/Python/3.6.14/x64/lib/python3.6/site-packages (from mnist) (1.19.5)\r\n"
     ]
    },
    {
     "name": "stdout",
     "output_type": "stream",
     "text": [
      "Installing collected packages: mnist\r\n"
     ]
    },
    {
     "name": "stdout",
     "output_type": "stream",
     "text": [
      "Successfully installed mnist-0.2.2\r\n"
     ]
    }
   ],
   "source": [
    "!pip install mnist"
   ]
  },
  {
   "cell_type": "markdown",
   "id": "69df9c9a",
   "metadata": {
    "papermill": {
     "duration": 0.033233,
     "end_time": "2021-09-14T10:07:48.143629",
     "exception": false,
     "start_time": "2021-09-14T10:07:48.110396",
     "status": "completed"
    },
    "tags": []
   },
   "source": [
    "## Preparing the Data"
   ]
  },
  {
   "cell_type": "code",
   "execution_count": 4,
   "id": "7f69d806",
   "metadata": {
    "execution": {
     "iopub.execute_input": "2021-09-14T10:07:48.218472Z",
     "iopub.status.busy": "2021-09-14T10:07:48.217772Z",
     "iopub.status.idle": "2021-09-14T10:07:48.233080Z",
     "shell.execute_reply": "2021-09-14T10:07:48.232541Z"
    },
    "papermill": {
     "duration": 0.056802,
     "end_time": "2021-09-14T10:07:48.233218",
     "exception": false,
     "start_time": "2021-09-14T10:07:48.176416",
     "status": "completed"
    },
    "tags": []
   },
   "outputs": [],
   "source": [
    "import mnist"
   ]
  },
  {
   "cell_type": "code",
   "execution_count": 5,
   "id": "a411e44f",
   "metadata": {
    "execution": {
     "iopub.execute_input": "2021-09-14T10:07:48.300512Z",
     "iopub.status.busy": "2021-09-14T10:07:48.299803Z",
     "iopub.status.idle": "2021-09-14T10:07:48.892832Z",
     "shell.execute_reply": "2021-09-14T10:07:48.892272Z"
    },
    "papermill": {
     "duration": 0.627636,
     "end_time": "2021-09-14T10:07:48.892969",
     "exception": false,
     "start_time": "2021-09-14T10:07:48.265333",
     "status": "completed"
    },
    "tags": []
   },
   "outputs": [],
   "source": [
    "train_images = mnist.train_images()\n",
    "train_labels = mnist.train_labels()"
   ]
  },
  {
   "cell_type": "code",
   "execution_count": 6,
   "id": "dceab3a5",
   "metadata": {
    "execution": {
     "iopub.execute_input": "2021-09-14T10:07:48.967520Z",
     "iopub.status.busy": "2021-09-14T10:07:48.966799Z",
     "iopub.status.idle": "2021-09-14T10:07:48.983498Z",
     "shell.execute_reply": "2021-09-14T10:07:48.982917Z"
    },
    "papermill": {
     "duration": 0.053664,
     "end_time": "2021-09-14T10:07:48.983634",
     "exception": false,
     "start_time": "2021-09-14T10:07:48.929970",
     "status": "completed"
    },
    "tags": []
   },
   "outputs": [
    {
     "data": {
      "text/plain": [
       "((60000, 28, 28), (60000,))"
      ]
     },
     "execution_count": 6,
     "metadata": {},
     "output_type": "execute_result"
    }
   ],
   "source": [
    "train_images.shape, train_labels.shape"
   ]
  },
  {
   "cell_type": "code",
   "execution_count": 7,
   "id": "f50dc2bb",
   "metadata": {
    "execution": {
     "iopub.execute_input": "2021-09-14T10:07:49.057047Z",
     "iopub.status.busy": "2021-09-14T10:07:49.056383Z",
     "iopub.status.idle": "2021-09-14T10:07:49.183664Z",
     "shell.execute_reply": "2021-09-14T10:07:49.182405Z"
    },
    "papermill": {
     "duration": 0.166804,
     "end_time": "2021-09-14T10:07:49.183824",
     "exception": false,
     "start_time": "2021-09-14T10:07:49.017020",
     "status": "completed"
    },
    "tags": []
   },
   "outputs": [],
   "source": [
    "test_images = mnist.test_images()\n",
    "test_labels = mnist.test_labels()"
   ]
  },
  {
   "cell_type": "code",
   "execution_count": 8,
   "id": "fc38cf1b",
   "metadata": {
    "execution": {
     "iopub.execute_input": "2021-09-14T10:07:49.264517Z",
     "iopub.status.busy": "2021-09-14T10:07:49.259448Z",
     "iopub.status.idle": "2021-09-14T10:07:49.275631Z",
     "shell.execute_reply": "2021-09-14T10:07:49.275018Z"
    },
    "papermill": {
     "duration": 0.054782,
     "end_time": "2021-09-14T10:07:49.275777",
     "exception": false,
     "start_time": "2021-09-14T10:07:49.220995",
     "status": "completed"
    },
    "tags": []
   },
   "outputs": [
    {
     "data": {
      "text/plain": [
       "((10000, 28, 28), (10000,))"
      ]
     },
     "execution_count": 8,
     "metadata": {},
     "output_type": "execute_result"
    }
   ],
   "source": [
    "test_images.shape, test_labels.shape"
   ]
  },
  {
   "cell_type": "code",
   "execution_count": 9,
   "id": "f9ed8fe0",
   "metadata": {
    "execution": {
     "iopub.execute_input": "2021-09-14T10:07:49.348000Z",
     "iopub.status.busy": "2021-09-14T10:07:49.347194Z",
     "iopub.status.idle": "2021-09-14T10:07:49.554136Z",
     "shell.execute_reply": "2021-09-14T10:07:49.554913Z"
    },
    "papermill": {
     "duration": 0.245682,
     "end_time": "2021-09-14T10:07:49.555068",
     "exception": false,
     "start_time": "2021-09-14T10:07:49.309386",
     "status": "completed"
    },
    "tags": []
   },
   "outputs": [
    {
     "name": "stdout",
     "output_type": "stream",
     "text": [
      "2\n"
     ]
    },
    {
     "data": {
      "text/plain": [
       "<matplotlib.image.AxesImage at 0x7f542b1c1eb8>"
      ]
     },
     "execution_count": 9,
     "metadata": {},
     "output_type": "execute_result"
    },
    {
     "data": {
      "image/png": "[encoded data removed]",
      "text/plain": [
       "<Figure size 432x288 with 1 Axes>"
      ]
     },
     "metadata": {
      "needs_background": "light"
     },
     "output_type": "display_data"
    }
   ],
   "source": [
    "image_index = 7776 # You may select anything up to 60,000\n",
    "print(train_labels[image_index]) \n",
    "plt.imshow(train_images[image_index], cmap='Greys')"
   ]
  },
  {
   "cell_type": "markdown",
   "id": "a8d2388d",
   "metadata": {
    "papermill": {
     "duration": 0.031138,
     "end_time": "2021-09-14T10:07:49.619096",
     "exception": false,
     "start_time": "2021-09-14T10:07:49.587958",
     "status": "completed"
    },
    "tags": []
   },
   "source": [
    "## Filter data to get 3 and 8 out"
   ]
  },
  {
   "cell_type": "code",
   "execution_count": 10,
   "id": "776f7fc7",
   "metadata": {
    "execution": {
     "iopub.execute_input": "2021-09-14T10:07:49.689894Z",
     "iopub.status.busy": "2021-09-14T10:07:49.688675Z",
     "iopub.status.idle": "2021-09-14T10:07:49.709795Z",
     "shell.execute_reply": "2021-09-14T10:07:49.709207Z"
    },
    "papermill": {
     "duration": 0.059113,
     "end_time": "2021-09-14T10:07:49.709972",
     "exception": false,
     "start_time": "2021-09-14T10:07:49.650859",
     "status": "completed"
    },
    "tags": []
   },
   "outputs": [],
   "source": [
    "train_filter = np.where((train_labels == 3 ) | (train_labels == 8))\n",
    "test_filter = np.where((test_labels == 3) | (test_labels == 8))\n",
    "X_train, y_train = train_images[train_filter], train_labels[train_filter]\n",
    "X_test, y_test = test_images[test_filter], test_labels[test_filter]"
   ]
  },
  {
   "cell_type": "markdown",
   "id": "948f0b7e",
   "metadata": {
    "papermill": {
     "duration": 0.032697,
     "end_time": "2021-09-14T10:07:49.780973",
     "exception": false,
     "start_time": "2021-09-14T10:07:49.748276",
     "status": "completed"
    },
    "tags": []
   },
   "source": [
    "We normalize the pizel values in the 0 to 1 range"
   ]
  },
  {
   "cell_type": "code",
   "execution_count": 11,
   "id": "ee4c2166",
   "metadata": {
    "execution": {
     "iopub.execute_input": "2021-09-14T10:07:49.856985Z",
     "iopub.status.busy": "2021-09-14T10:07:49.856316Z",
     "iopub.status.idle": "2021-09-14T10:07:49.921667Z",
     "shell.execute_reply": "2021-09-14T10:07:49.921147Z"
    },
    "papermill": {
     "duration": 0.105178,
     "end_time": "2021-09-14T10:07:49.921805",
     "exception": false,
     "start_time": "2021-09-14T10:07:49.816627",
     "status": "completed"
    },
    "tags": []
   },
   "outputs": [],
   "source": [
    "X_train = X_train/255.\n",
    "X_test = X_test/255."
   ]
  },
  {
   "cell_type": "markdown",
   "id": "ddcf4fab",
   "metadata": {
    "papermill": {
     "duration": 0.036873,
     "end_time": "2021-09-14T10:07:49.992643",
     "exception": false,
     "start_time": "2021-09-14T10:07:49.955770",
     "status": "completed"
    },
    "tags": []
   },
   "source": [
    "And setup the labels as 1 (when the digit is 3) and 0 (when the digit is 8)"
   ]
  },
  {
   "cell_type": "code",
   "execution_count": 12,
   "id": "7dc908f2",
   "metadata": {
    "execution": {
     "iopub.execute_input": "2021-09-14T10:07:50.088402Z",
     "iopub.status.busy": "2021-09-14T10:07:50.087761Z",
     "iopub.status.idle": "2021-09-14T10:07:50.100764Z",
     "shell.execute_reply": "2021-09-14T10:07:50.100132Z"
    },
    "papermill": {
     "duration": 0.060935,
     "end_time": "2021-09-14T10:07:50.100904",
     "exception": false,
     "start_time": "2021-09-14T10:07:50.039969",
     "status": "completed"
    },
    "tags": []
   },
   "outputs": [],
   "source": [
    "y_train = 1*(y_train==3)\n",
    "y_test = 1*(y_test==3)"
   ]
  },
  {
   "cell_type": "code",
   "execution_count": 13,
   "id": "01e4e969",
   "metadata": {
    "execution": {
     "iopub.execute_input": "2021-09-14T10:07:50.179160Z",
     "iopub.status.busy": "2021-09-14T10:07:50.178414Z",
     "iopub.status.idle": "2021-09-14T10:07:50.198184Z",
     "shell.execute_reply": "2021-09-14T10:07:50.198796Z"
    },
    "papermill": {
     "duration": 0.065257,
     "end_time": "2021-09-14T10:07:50.198983",
     "exception": false,
     "start_time": "2021-09-14T10:07:50.133726",
     "status": "completed"
    },
    "tags": []
   },
   "outputs": [
    {
     "data": {
      "text/plain": [
       "((11982, 28, 28), (1984, 28, 28))"
      ]
     },
     "execution_count": 13,
     "metadata": {},
     "output_type": "execute_result"
    }
   ],
   "source": [
    "X_train.shape, X_test.shape"
   ]
  },
  {
   "cell_type": "markdown",
   "id": "5ccf3f85",
   "metadata": {
    "papermill": {
     "duration": 0.036853,
     "end_time": "2021-09-14T10:07:50.274213",
     "exception": false,
     "start_time": "2021-09-14T10:07:50.237360",
     "status": "completed"
    },
    "tags": []
   },
   "source": [
    "We reshape the data to flatten the image pixels into a set of features or co-variates:"
   ]
  },
  {
   "cell_type": "code",
   "execution_count": 14,
   "id": "5286a4a3",
   "metadata": {
    "execution": {
     "iopub.execute_input": "2021-09-14T10:07:50.354185Z",
     "iopub.status.busy": "2021-09-14T10:07:50.353435Z",
     "iopub.status.idle": "2021-09-14T10:07:50.370804Z",
     "shell.execute_reply": "2021-09-14T10:07:50.370256Z"
    },
    "papermill": {
     "duration": 0.058387,
     "end_time": "2021-09-14T10:07:50.370947",
     "exception": false,
     "start_time": "2021-09-14T10:07:50.312560",
     "status": "completed"
    },
    "tags": []
   },
   "outputs": [
    {
     "data": {
      "text/plain": [
       "((11982, 784), (1984, 784))"
      ]
     },
     "execution_count": 14,
     "metadata": {},
     "output_type": "execute_result"
    }
   ],
   "source": [
    "X_train = X_train.reshape(X_train.shape[0], -1)\n",
    "X_test = X_test.reshape(X_test.shape[0], -1)\n",
    "X_train.shape, X_test.shape"
   ]
  },
  {
   "cell_type": "code",
   "execution_count": 15,
   "id": "73c5f88a",
   "metadata": {
    "execution": {
     "iopub.execute_input": "2021-09-14T10:07:50.452897Z",
     "iopub.status.busy": "2021-09-14T10:07:50.452156Z",
     "iopub.status.idle": "2021-09-14T10:07:50.473239Z",
     "shell.execute_reply": "2021-09-14T10:07:50.473817Z"
    },
    "papermill": {
     "duration": 0.064577,
     "end_time": "2021-09-14T10:07:50.473980",
     "exception": false,
     "start_time": "2021-09-14T10:07:50.409403",
     "status": "completed"
    },
    "tags": []
   },
   "outputs": [],
   "source": [
    "#Impoting functions from 'Kudzu'\n",
    "from kudzu.model import Model\n",
    "from kudzu.train import Learner\n",
    "from kudzu.optim import GD\n",
    "from kudzu.data import Data, Sampler,Dataloader\n",
    "\n",
    "from kudzu.callbacks import AccCallback\n",
    "from kudzu.callbacks import ClfCallback\n",
    "\n",
    "from kudzu.loss import MSE\n",
    "\n",
    "from kudzu.layer import Sigmoid,Relu\n",
    "from kudzu.layer import Affine"
   ]
  },
  {
   "cell_type": "markdown",
   "id": "bc01172a",
   "metadata": {
    "papermill": {
     "duration": 0.043499,
     "end_time": "2021-09-14T10:07:50.554584",
     "exception": false,
     "start_time": "2021-09-14T10:07:50.511085",
     "status": "completed"
    },
    "tags": []
   },
   "source": [
    "### Let us create a `Config` class, to store important parameters. \n",
    "This class essentially plays the role of a dictionary."
   ]
  },
  {
   "cell_type": "code",
   "execution_count": 16,
   "id": "978281aa",
   "metadata": {
    "execution": {
     "iopub.execute_input": "2021-09-14T10:07:50.630695Z",
     "iopub.status.busy": "2021-09-14T10:07:50.630012Z",
     "iopub.status.idle": "2021-09-14T10:07:50.645702Z",
     "shell.execute_reply": "2021-09-14T10:07:50.646444Z"
    },
    "papermill": {
     "duration": 0.056503,
     "end_time": "2021-09-14T10:07:50.646633",
     "exception": false,
     "start_time": "2021-09-14T10:07:50.590130",
     "status": "completed"
    },
    "tags": []
   },
   "outputs": [],
   "source": [
    "class Config:\n",
    "    pass\n",
    "config = Config()\n",
    "config.lr = 0.001\n",
    "config.num_epochs = 250\n",
    "config.bs = 50"
   ]
  },
  {
   "cell_type": "markdown",
   "id": "1385fa59",
   "metadata": {
    "papermill": {
     "duration": 0.037126,
     "end_time": "2021-09-14T10:07:50.721309",
     "exception": false,
     "start_time": "2021-09-14T10:07:50.684183",
     "status": "completed"
    },
    "tags": []
   },
   "source": [
    "### Running Models with the Training data\n",
    "Details about the network layers:\n",
    "- A first affine layer has 784 inputs and does 100 affine transforms. These are followed by a Relu\n",
    "- A second affine layer has 100 inputs from the 100 activations of the past layer, and does 100 affine transforms. These are followed by a Relu\n",
    "- A third affine layer has 100 activations and does 2 affine transformations to create an embedding for visualization. There is no non-linearity here.\n",
    "- A final \"logistic regression\" which has an affine transform from 2 inputs to 1 output, which is squeezed through a sigmoid.\n"
   ]
  },
  {
   "cell_type": "code",
   "execution_count": 17,
   "id": "2b9c66db",
   "metadata": {
    "execution": {
     "iopub.execute_input": "2021-09-14T10:07:50.802009Z",
     "iopub.status.busy": "2021-09-14T10:07:50.801253Z",
     "iopub.status.idle": "2021-09-14T10:07:50.815813Z",
     "shell.execute_reply": "2021-09-14T10:07:50.816429Z"
    },
    "papermill": {
     "duration": 0.056526,
     "end_time": "2021-09-14T10:07:50.816591",
     "exception": false,
     "start_time": "2021-09-14T10:07:50.760065",
     "status": "completed"
    },
    "tags": []
   },
   "outputs": [],
   "source": [
    "data = Data(X_train, y_train.reshape(-1,1))\n",
    "sampler = Sampler(data, config.bs, shuffle=True)\n",
    "\n",
    "dl = Dataloader(data, sampler)\n",
    "\n",
    "opt = GD(config.lr)\n",
    "loss = MSE()"
   ]
  },
  {
   "cell_type": "code",
   "execution_count": 18,
   "id": "b275e4c2",
   "metadata": {
    "execution": {
     "iopub.execute_input": "2021-09-14T10:07:50.895950Z",
     "iopub.status.busy": "2021-09-14T10:07:50.895117Z",
     "iopub.status.idle": "2021-09-14T10:07:50.909109Z",
     "shell.execute_reply": "2021-09-14T10:07:50.908489Z"
    },
    "papermill": {
     "duration": 0.055949,
     "end_time": "2021-09-14T10:07:50.909254",
     "exception": false,
     "start_time": "2021-09-14T10:07:50.853305",
     "status": "completed"
    },
    "tags": []
   },
   "outputs": [],
   "source": [
    "training_data_x = X_train\n",
    "testing_data_x = X_test\n",
    "training_data_y = y_train.reshape(-1,1)\n",
    "testing_data_y = y_test.reshape(-1,1)"
   ]
  },
  {
   "cell_type": "code",
   "execution_count": 19,
   "id": "76951160",
   "metadata": {
    "execution": {
     "iopub.execute_input": "2021-09-14T10:07:50.987639Z",
     "iopub.status.busy": "2021-09-14T10:07:50.986955Z",
     "iopub.status.idle": "2021-09-14T10:07:51.004599Z",
     "shell.execute_reply": "2021-09-14T10:07:51.005217Z"
    },
    "papermill": {
     "duration": 0.061531,
     "end_time": "2021-09-14T10:07:51.005378",
     "exception": false,
     "start_time": "2021-09-14T10:07:50.943847",
     "status": "completed"
    },
    "tags": []
   },
   "outputs": [
    {
     "name": "stdout",
     "output_type": "stream",
     "text": [
      "xavier\n",
      "xavier\n",
      "xavier\n",
      "xavier\n",
      "xavier\n"
     ]
    }
   ],
   "source": [
    "layers = [Affine(\"first\", 784, 100), Relu(\"first\"), Affine(\"second\", 100, 100), Relu(\"second\"), Affine(\"third\", 100, 2), Affine(\"last\", 2, 1), Sigmoid(\"last\")]\n",
    "model_nn = Model(layers)\n",
    "model_lr = Model([Affine(\"logits\", 784, 1), Sigmoid(\"sigmoid\")])"
   ]
  },
  {
   "cell_type": "code",
   "execution_count": 20,
   "id": "6eede77a",
   "metadata": {
    "execution": {
     "iopub.execute_input": "2021-09-14T10:07:51.090370Z",
     "iopub.status.busy": "2021-09-14T10:07:51.089661Z",
     "iopub.status.idle": "2021-09-14T10:07:51.103101Z",
     "shell.execute_reply": "2021-09-14T10:07:51.102526Z"
    },
    "papermill": {
     "duration": 0.05949,
     "end_time": "2021-09-14T10:07:51.103251",
     "exception": false,
     "start_time": "2021-09-14T10:07:51.043761",
     "status": "completed"
    },
    "tags": []
   },
   "outputs": [],
   "source": [
    "nn_learner = Learner(loss, model_nn, opt, config.num_epochs)\n",
    "acc_nn = ClfCallback(nn_learner, config.bs, training_data_x , testing_data_x, training_data_y, testing_data_y)\n",
    "nn_learner.set_callbacks([acc_nn])"
   ]
  },
  {
   "cell_type": "code",
   "execution_count": 21,
   "id": "877b6cc7",
   "metadata": {
    "execution": {
     "iopub.execute_input": "2021-09-14T10:07:51.183738Z",
     "iopub.status.busy": "2021-09-14T10:07:51.182933Z",
     "iopub.status.idle": "2021-09-14T10:07:51.197470Z",
     "shell.execute_reply": "2021-09-14T10:07:51.196827Z"
    },
    "papermill": {
     "duration": 0.056693,
     "end_time": "2021-09-14T10:07:51.197615",
     "exception": false,
     "start_time": "2021-09-14T10:07:51.140922",
     "status": "completed"
    },
    "tags": []
   },
   "outputs": [],
   "source": [
    "lr_learner = Learner(loss, model_lr, opt, config.num_epochs)\n",
    "acc_lr = ClfCallback(lr_learner, config.bs, training_data_x , testing_data_x, training_data_y, testing_data_y)\n",
    "lr_learner.set_callbacks([acc_lr])"
   ]
  },
  {
   "cell_type": "code",
   "execution_count": 22,
   "id": "d9b133c3",
   "metadata": {
    "execution": {
     "iopub.execute_input": "2021-09-14T10:07:51.277203Z",
     "iopub.status.busy": "2021-09-14T10:07:51.276555Z",
     "iopub.status.idle": "2021-09-14T10:10:24.320319Z",
     "shell.execute_reply": "2021-09-14T10:10:24.321194Z"
    },
    "papermill": {
     "duration": 153.086493,
     "end_time": "2021-09-14T10:10:24.321356",
     "exception": false,
     "start_time": "2021-09-14T10:07:51.234863",
     "status": "completed"
    },
    "tags": []
   },
   "outputs": [
    {
     "name": "stdout",
     "output_type": "stream",
     "text": [
      "Epoch 0, Loss 0.2459\n",
      "Training Accuracy: 0.6183, Testing Accuracy: 0.6154\n",
      "\n"
     ]
    },
    {
     "name": "stdout",
     "output_type": "stream",
     "text": [
      "Epoch 10, Loss 0.1426\n",
      "Training Accuracy: 0.8976, Testing Accuracy: 0.9143\n",
      "\n"
     ]
    },
    {
     "name": "stdout",
     "output_type": "stream",
     "text": [
      "Epoch 20, Loss 0.0726\n",
      "Training Accuracy: 0.9294, Testing Accuracy: 0.9415\n",
      "\n"
     ]
    },
    {
     "name": "stdout",
     "output_type": "stream",
     "text": [
      "Epoch 30, Loss 0.0515\n",
      "Training Accuracy: 0.9465, Testing Accuracy: 0.9577\n",
      "\n"
     ]
    },
    {
     "name": "stdout",
     "output_type": "stream",
     "text": [
      "Epoch 40, Loss 0.0424\n",
      "Training Accuracy: 0.9538, Testing Accuracy: 0.9632\n",
      "\n"
     ]
    },
    {
     "name": "stdout",
     "output_type": "stream",
     "text": [
      "Epoch 50, Loss 0.0376\n",
      "Training Accuracy: 0.9579, Testing Accuracy: 0.9642\n",
      "\n"
     ]
    },
    {
     "name": "stdout",
     "output_type": "stream",
     "text": [
      "Epoch 60, Loss 0.0345\n",
      "Training Accuracy: 0.9604, Testing Accuracy: 0.9672\n",
      "\n"
     ]
    },
    {
     "name": "stdout",
     "output_type": "stream",
     "text": [
      "Epoch 70, Loss 0.0324\n",
      "Training Accuracy: 0.9629, Testing Accuracy: 0.9677\n",
      "\n"
     ]
    },
    {
     "name": "stdout",
     "output_type": "stream",
     "text": [
      "Epoch 80, Loss 0.0308\n",
      "Training Accuracy: 0.9646, Testing Accuracy: 0.9677\n",
      "\n"
     ]
    },
    {
     "name": "stdout",
     "output_type": "stream",
     "text": [
      "Epoch 90, Loss 0.0295\n",
      "Training Accuracy: 0.9663, Testing Accuracy: 0.9688\n",
      "\n"
     ]
    },
    {
     "name": "stdout",
     "output_type": "stream",
     "text": [
      "Epoch 100, Loss 0.0285\n",
      "Training Accuracy: 0.9672, Testing Accuracy: 0.9713\n",
      "\n"
     ]
    },
    {
     "name": "stdout",
     "output_type": "stream",
     "text": [
      "Epoch 110, Loss 0.0276\n",
      "Training Accuracy: 0.9681, Testing Accuracy: 0.9713\n",
      "\n"
     ]
    },
    {
     "name": "stdout",
     "output_type": "stream",
     "text": [
      "Epoch 120, Loss 0.0268\n",
      "Training Accuracy: 0.9686, Testing Accuracy: 0.9713\n",
      "\n"
     ]
    },
    {
     "name": "stdout",
     "output_type": "stream",
     "text": [
      "Epoch 130, Loss 0.0262\n",
      "Training Accuracy: 0.9695, Testing Accuracy: 0.9723\n",
      "\n"
     ]
    },
    {
     "name": "stdout",
     "output_type": "stream",
     "text": [
      "Epoch 140, Loss 0.0256\n",
      "Training Accuracy: 0.9705, Testing Accuracy: 0.9728\n",
      "\n"
     ]
    },
    {
     "name": "stdout",
     "output_type": "stream",
     "text": [
      "Epoch 150, Loss 0.025\n",
      "Training Accuracy: 0.9711, Testing Accuracy: 0.9718\n",
      "\n"
     ]
    },
    {
     "name": "stdout",
     "output_type": "stream",
     "text": [
      "Epoch 160, Loss 0.0245\n",
      "Training Accuracy: 0.9718, Testing Accuracy: 0.9723\n",
      "\n"
     ]
    },
    {
     "name": "stdout",
     "output_type": "stream",
     "text": [
      "Epoch 170, Loss 0.0241\n",
      "Training Accuracy: 0.9724, Testing Accuracy: 0.9723\n",
      "\n"
     ]
    },
    {
     "name": "stdout",
     "output_type": "stream",
     "text": [
      "Epoch 180, Loss 0.0236\n",
      "Training Accuracy: 0.9725, Testing Accuracy: 0.9718\n",
      "\n"
     ]
    },
    {
     "name": "stdout",
     "output_type": "stream",
     "text": [
      "Epoch 190, Loss 0.0232\n",
      "Training Accuracy: 0.9733, Testing Accuracy: 0.9723\n",
      "\n"
     ]
    },
    {
     "name": "stdout",
     "output_type": "stream",
     "text": [
      "Epoch 200, Loss 0.0228\n",
      "Training Accuracy: 0.9738, Testing Accuracy: 0.9718\n",
      "\n"
     ]
    },
    {
     "name": "stdout",
     "output_type": "stream",
     "text": [
      "Epoch 210, Loss 0.0225\n",
      "Training Accuracy: 0.9742, Testing Accuracy: 0.9718\n",
      "\n"
     ]
    },
    {
     "name": "stdout",
     "output_type": "stream",
     "text": [
      "Epoch 220, Loss 0.0221\n",
      "Training Accuracy: 0.9753, Testing Accuracy: 0.9723\n",
      "\n"
     ]
    },
    {
     "name": "stdout",
     "output_type": "stream",
     "text": [
      "Epoch 230, Loss 0.0218\n",
      "Training Accuracy: 0.9755, Testing Accuracy: 0.9723\n",
      "\n"
     ]
    },
    {
     "name": "stdout",
     "output_type": "stream",
     "text": [
      "Epoch 240, Loss 0.0214\n",
      "Training Accuracy: 0.9760, Testing Accuracy: 0.9728\n",
      "\n"
     ]
    },
    {
     "data": {
      "text/plain": [
       "0.002705939115177838"
      ]
     },
     "execution_count": 22,
     "metadata": {},
     "output_type": "execute_result"
    }
   ],
   "source": [
    "nn_learner.train_loop(dl)"
   ]
  },
  {
   "cell_type": "code",
   "execution_count": 23,
   "id": "e0163366",
   "metadata": {
    "execution": {
     "iopub.execute_input": "2021-09-14T10:10:24.424782Z",
     "iopub.status.busy": "2021-09-14T10:10:24.424218Z",
     "iopub.status.idle": "2021-09-14T10:10:46.895519Z",
     "shell.execute_reply": "2021-09-14T10:10:46.896358Z"
    },
    "papermill": {
     "duration": 22.529352,
     "end_time": "2021-09-14T10:10:46.896551",
     "exception": false,
     "start_time": "2021-09-14T10:10:24.367199",
     "status": "completed"
    },
    "tags": []
   },
   "outputs": [
    {
     "name": "stdout",
     "output_type": "stream",
     "text": [
      "Epoch 0, Loss 0.2287\n",
      "Training Accuracy: 0.7455, Testing Accuracy: 0.7702\n",
      "\n"
     ]
    },
    {
     "name": "stdout",
     "output_type": "stream",
     "text": [
      "Epoch 10, Loss 0.0982\n",
      "Training Accuracy: 0.9193, Testing Accuracy: 0.9309\n",
      "\n"
     ]
    },
    {
     "name": "stdout",
     "output_type": "stream",
     "text": [
      "Epoch 20, Loss 0.0758\n",
      "Training Accuracy: 0.9337, Testing Accuracy: 0.9410\n",
      "\n"
     ]
    },
    {
     "name": "stdout",
     "output_type": "stream",
     "text": [
      "Epoch 30, Loss 0.0656\n",
      "Training Accuracy: 0.9402, Testing Accuracy: 0.9476\n",
      "\n"
     ]
    },
    {
     "name": "stdout",
     "output_type": "stream",
     "text": [
      "Epoch 40, Loss 0.0594\n",
      "Training Accuracy: 0.9444, Testing Accuracy: 0.9531\n",
      "\n"
     ]
    },
    {
     "name": "stdout",
     "output_type": "stream",
     "text": [
      "Epoch 50, Loss 0.0552\n",
      "Training Accuracy: 0.9478, Testing Accuracy: 0.9531\n",
      "\n"
     ]
    },
    {
     "name": "stdout",
     "output_type": "stream",
     "text": [
      "Epoch 60, Loss 0.0521\n",
      "Training Accuracy: 0.9497, Testing Accuracy: 0.9577\n",
      "\n"
     ]
    },
    {
     "name": "stdout",
     "output_type": "stream",
     "text": [
      "Epoch 70, Loss 0.0497\n",
      "Training Accuracy: 0.9514, Testing Accuracy: 0.9597\n",
      "\n"
     ]
    },
    {
     "name": "stdout",
     "output_type": "stream",
     "text": [
      "Epoch 80, Loss 0.0478\n",
      "Training Accuracy: 0.9528, Testing Accuracy: 0.9607\n",
      "\n"
     ]
    },
    {
     "name": "stdout",
     "output_type": "stream",
     "text": [
      "Epoch 90, Loss 0.0462\n",
      "Training Accuracy: 0.9547, Testing Accuracy: 0.9622\n",
      "\n"
     ]
    },
    {
     "name": "stdout",
     "output_type": "stream",
     "text": [
      "Epoch 100, Loss 0.0449\n",
      "Training Accuracy: 0.9553, Testing Accuracy: 0.9627\n",
      "\n"
     ]
    },
    {
     "name": "stdout",
     "output_type": "stream",
     "text": [
      "Epoch 110, Loss 0.0438\n",
      "Training Accuracy: 0.9559, Testing Accuracy: 0.9637\n",
      "\n"
     ]
    },
    {
     "name": "stdout",
     "output_type": "stream",
     "text": [
      "Epoch 120, Loss 0.0428\n",
      "Training Accuracy: 0.9569, Testing Accuracy: 0.9652\n",
      "\n"
     ]
    },
    {
     "name": "stdout",
     "output_type": "stream",
     "text": [
      "Epoch 130, Loss 0.0419\n",
      "Training Accuracy: 0.9575, Testing Accuracy: 0.9657\n",
      "\n"
     ]
    },
    {
     "name": "stdout",
     "output_type": "stream",
     "text": [
      "Epoch 140, Loss 0.0411\n",
      "Training Accuracy: 0.9581, Testing Accuracy: 0.9662\n",
      "\n"
     ]
    },
    {
     "name": "stdout",
     "output_type": "stream",
     "text": [
      "Epoch 150, Loss 0.0404\n",
      "Training Accuracy: 0.9583, Testing Accuracy: 0.9657\n",
      "\n"
     ]
    },
    {
     "name": "stdout",
     "output_type": "stream",
     "text": [
      "Epoch 160, Loss 0.0398\n",
      "Training Accuracy: 0.9590, Testing Accuracy: 0.9662\n",
      "\n"
     ]
    },
    {
     "name": "stdout",
     "output_type": "stream",
     "text": [
      "Epoch 170, Loss 0.0392\n",
      "Training Accuracy: 0.9593, Testing Accuracy: 0.9667\n",
      "\n"
     ]
    },
    {
     "name": "stdout",
     "output_type": "stream",
     "text": [
      "Epoch 180, Loss 0.0387\n",
      "Training Accuracy: 0.9599, Testing Accuracy: 0.9667\n",
      "\n"
     ]
    },
    {
     "name": "stdout",
     "output_type": "stream",
     "text": [
      "Epoch 190, Loss 0.0382\n",
      "Training Accuracy: 0.9601, Testing Accuracy: 0.9667\n",
      "\n"
     ]
    },
    {
     "name": "stdout",
     "output_type": "stream",
     "text": [
      "Epoch 200, Loss 0.0378\n",
      "Training Accuracy: 0.9605, Testing Accuracy: 0.9667\n",
      "\n"
     ]
    },
    {
     "name": "stdout",
     "output_type": "stream",
     "text": [
      "Epoch 210, Loss 0.0374\n",
      "Training Accuracy: 0.9609, Testing Accuracy: 0.9667\n",
      "\n"
     ]
    },
    {
     "name": "stdout",
     "output_type": "stream",
     "text": [
      "Epoch 220, Loss 0.037\n",
      "Training Accuracy: 0.9614, Testing Accuracy: 0.9667\n",
      "\n"
     ]
    },
    {
     "name": "stdout",
     "output_type": "stream",
     "text": [
      "Epoch 230, Loss 0.0366\n",
      "Training Accuracy: 0.9618, Testing Accuracy: 0.9667\n",
      "\n"
     ]
    },
    {
     "name": "stdout",
     "output_type": "stream",
     "text": [
      "Epoch 240, Loss 0.0363\n",
      "Training Accuracy: 0.9620, Testing Accuracy: 0.9667\n",
      "\n"
     ]
    },
    {
     "data": {
      "text/plain": [
       "0.09188922656257459"
      ]
     },
     "execution_count": 23,
     "metadata": {},
     "output_type": "execute_result"
    }
   ],
   "source": [
    "lr_learner.train_loop(dl)"
   ]
  },
  {
   "cell_type": "code",
   "execution_count": 24,
   "id": "ca410940",
   "metadata": {
    "execution": {
     "iopub.execute_input": "2021-09-14T10:10:47.012981Z",
     "iopub.status.busy": "2021-09-14T10:10:47.012378Z",
     "iopub.status.idle": "2021-09-14T10:10:47.332559Z",
     "shell.execute_reply": "2021-09-14T10:10:47.331634Z"
    },
    "papermill": {
     "duration": 0.3864,
     "end_time": "2021-09-14T10:10:47.332761",
     "exception": false,
     "start_time": "2021-09-14T10:10:46.946361",
     "status": "completed"
    },
    "tags": []
   },
   "outputs": [
    {
     "data": {
      "text/plain": [
       "<matplotlib.legend.Legend at 0x7f542ada0fd0>"
      ]
     },
     "execution_count": 24,
     "metadata": {},
     "output_type": "execute_result"
    },
    {
     "data": {
      "image/png": "[encoded data removed]",
      "text/plain": [
       "<Figure size 1080x720 with 1 Axes>"
      ]
     },
     "metadata": {
      "needs_background": "light"
     },
     "output_type": "display_data"
    }
   ],
   "source": [
    "#comparing the results of NN and LR\n",
    "plt.figure(figsize=(15,10))\n",
    "\n",
    "# Neural Network plots\n",
    "plt.plot(acc_nn.accuracies, 'r-', label = \"Training Accuracies - NN\")\n",
    "plt.plot(acc_nn.test_accuracies, 'g-', label = \"Testing Accuracies - NN\")\n",
    "\n",
    "# Logistic Regression plots\n",
    "plt.plot(acc_lr.accuracies, 'k-', label = \"Training Accuracies - LR\")\n",
    "plt.plot(acc_lr.test_accuracies, 'b-', label = \"Testing Accuracies - LR\")\n",
    "plt.legend()"
   ]
  },
  {
   "cell_type": "markdown",
   "id": "80dfb35c",
   "metadata": {
    "papermill": {
     "duration": 0.050727,
     "end_time": "2021-09-14T10:10:47.437777",
     "exception": false,
     "start_time": "2021-09-14T10:10:47.387050",
     "status": "completed"
    },
    "tags": []
   },
   "source": [
    "#### Plotting the outputs of this layer of the NN.\n"
   ]
  },
  {
   "cell_type": "code",
   "execution_count": 25,
   "id": "45eb2ff5",
   "metadata": {
    "execution": {
     "iopub.execute_input": "2021-09-14T10:10:47.551428Z",
     "iopub.status.busy": "2021-09-14T10:10:47.550748Z",
     "iopub.status.idle": "2021-09-14T10:10:47.578946Z",
     "shell.execute_reply": "2021-09-14T10:10:47.579776Z"
    },
    "papermill": {
     "duration": 0.090849,
     "end_time": "2021-09-14T10:10:47.580003",
     "exception": false,
     "start_time": "2021-09-14T10:10:47.489154",
     "status": "completed"
    },
    "tags": []
   },
   "outputs": [],
   "source": [
    "new_model = Model(layers[:-2])\n",
    "testing_plot = new_model(testing_data_x)"
   ]
  },
  {
   "cell_type": "code",
   "execution_count": 26,
   "id": "4c0a5485",
   "metadata": {
    "execution": {
     "iopub.execute_input": "2021-09-14T10:10:47.715563Z",
     "iopub.status.busy": "2021-09-14T10:10:47.713729Z",
     "iopub.status.idle": "2021-09-14T10:10:48.001309Z",
     "shell.execute_reply": "2021-09-14T10:10:48.001819Z"
    },
    "papermill": {
     "duration": 0.355817,
     "end_time": "2021-09-14T10:10:48.001965",
     "exception": false,
     "start_time": "2021-09-14T10:10:47.646148",
     "status": "completed"
    },
    "tags": []
   },
   "outputs": [
    {
     "data": {
      "text/plain": [
       "Text(0.5, 1.0, 'Outputs')"
      ]
     },
     "execution_count": 26,
     "metadata": {},
     "output_type": "execute_result"
    },
    {
     "data": {
      "image/png": "[encoded data removed]",
      "text/plain": [
       "<Figure size 576x504 with 1 Axes>"
      ]
     },
     "metadata": {
      "needs_background": "light"
     },
     "output_type": "display_data"
    }
   ],
   "source": [
    "# Plotting the scatter plot of points and color coding by class\n",
    "plt.figure(figsize=(8,7))\n",
    "plt.scatter(testing_plot[:,0], testing_plot[:,1], alpha = 0.1, c = y_test.ravel());\n",
    "plt.title('Outputs')"
   ]
  },
  {
   "cell_type": "markdown",
   "id": "a74fcf8f",
   "metadata": {
    "papermill": {
     "duration": 0.056709,
     "end_time": "2021-09-14T10:10:48.120290",
     "exception": false,
     "start_time": "2021-09-14T10:10:48.063581",
     "status": "completed"
    },
    "tags": []
   },
   "source": [
    "Probability contours"
   ]
  },
  {
   "cell_type": "code",
   "execution_count": 27,
   "id": "d0afc8e3",
   "metadata": {
    "execution": {
     "iopub.execute_input": "2021-09-14T10:10:48.240408Z",
     "iopub.status.busy": "2021-09-14T10:10:48.239695Z",
     "iopub.status.idle": "2021-09-14T10:10:48.251861Z",
     "shell.execute_reply": "2021-09-14T10:10:48.252374Z"
    },
    "papermill": {
     "duration": 0.076403,
     "end_time": "2021-09-14T10:10:48.252609",
     "exception": false,
     "start_time": "2021-09-14T10:10:48.176206",
     "status": "completed"
    },
    "tags": []
   },
   "outputs": [],
   "source": [
    "model_prob = Model(layers[-2:]) "
   ]
  },
  {
   "cell_type": "code",
   "execution_count": 28,
   "id": "9b96e238",
   "metadata": {
    "execution": {
     "iopub.execute_input": "2021-09-14T10:10:48.406203Z",
     "iopub.status.busy": "2021-09-14T10:10:48.405583Z",
     "iopub.status.idle": "2021-09-14T10:10:48.421534Z",
     "shell.execute_reply": "2021-09-14T10:10:48.422116Z"
    },
    "papermill": {
     "duration": 0.088314,
     "end_time": "2021-09-14T10:10:48.422323",
     "exception": false,
     "start_time": "2021-09-14T10:10:48.334009",
     "status": "completed"
    },
    "tags": []
   },
   "outputs": [],
   "source": [
    "#creating the x and y ranges according to the above generated plot.\n",
    "x_range = np.linspace(-4, 1, 100) \n",
    "y_range = np.linspace(-6, 6, 100) \n",
    "x_grid, y_grid = np.meshgrid(x_range, y_range) # x_grid and y_grig are of size 100 X 100\n",
    "\n",
    "# converting x_grid and y_grid to continuous arrays\n",
    "x_gridflat = np.ravel(x_grid)\n",
    "y_gridflat = np.ravel(y_grid)\n",
    "\n",
    "# The last layer of the current model takes two columns as input. Hence transpose of np.vstack() is required.\n",
    "X = np.vstack((x_gridflat, y_gridflat)).T\n",
    "\n",
    "prob_contour = model_prob(X).reshape(100,100) "
   ]
  },
  {
   "cell_type": "code",
   "execution_count": 29,
   "id": "da72499a",
   "metadata": {
    "execution": {
     "iopub.execute_input": "2021-09-14T10:10:48.558719Z",
     "iopub.status.busy": "2021-09-14T10:10:48.557794Z",
     "iopub.status.idle": "2021-09-14T10:10:48.947801Z",
     "shell.execute_reply": "2021-09-14T10:10:48.947072Z"
    },
    "papermill": {
     "duration": 0.459936,
     "end_time": "2021-09-14T10:10:48.947949",
     "exception": false,
     "start_time": "2021-09-14T10:10:48.488013",
     "status": "completed"
    },
    "tags": []
   },
   "outputs": [
    {
     "data": {
      "image/png": "[encoded data removed]",
      "text/plain": [
       "<Figure size 720x648 with 1 Axes>"
      ]
     },
     "metadata": {
      "needs_background": "light"
     },
     "output_type": "display_data"
    }
   ],
   "source": [
    "plt.figure(figsize=(10,9))\n",
    "plt.scatter(testing_plot[:,0], testing_plot[:,1], alpha = 0.1, c = y_test.ravel())\n",
    "contours = plt.contour(x_grid,y_grid,prob_contour)\n",
    "plt.title('Probability Contours')\n",
    "plt.clabel(contours, inline = True );"
   ]
  },
  {
   "cell_type": "code",
   "execution_count": null,
   "id": "e81b4ac7",
   "metadata": {
    "papermill": {
     "duration": 0.065525,
     "end_time": "2021-09-14T10:10:49.081670",
     "exception": false,
     "start_time": "2021-09-14T10:10:49.016145",
     "status": "completed"
    },
    "tags": []
   },
   "outputs": [],
   "source": []
  }
 ],
 "metadata": {
  "kernelspec": {
   "display_name": "Python 3",
   "language": "python",
   "name": "python3"
  },
  "language_info": {
   "codemirror_mode": {
    "name": "ipython",
    "version": 3
   },
   "file_extension": ".py",
   "mimetype": "text/x-python",
   "name": "python",
   "nbconvert_exporter": "python",
   "pygments_lexer": "ipython3",
   "version": "3.6.14"
  },
  "papermill": {
   "default_parameters": {},
   "duration": 186.355811,
   "end_time": "2021-09-14T10:10:49.572203",
   "environment_variables": {},
   "exception": null,
   "input_path": "2020-08-11-part2.ipynb",
   "output_path": "2020-08-11-part2.ipynb",
   "parameters": {},
   "start_time": "2021-09-14T10:07:43.216392",
   "version": "2.3.3"
  }
 },
 "nbformat": 4,
 "nbformat_minor": 5
}