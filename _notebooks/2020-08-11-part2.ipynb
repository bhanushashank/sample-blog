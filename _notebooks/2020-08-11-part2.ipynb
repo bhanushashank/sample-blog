{
 "cells": [
  {
   "cell_type": "markdown",
   "id": "98380cd3",
   "metadata": {
    "papermill": {
     "duration": 0.027805,
     "end_time": "2022-05-14T20:09:57.656992",
     "exception": false,
     "start_time": "2022-05-14T20:09:57.629187",
     "status": "completed"
    },
    "tags": []
   },
   "source": [
    "# Distinguish Your Own Digits (DYOD)"
   ]
  },
  {
   "cell_type": "markdown",
   "id": "ef31240d",
   "metadata": {
    "papermill": {
     "duration": 0.026305,
     "end_time": "2022-05-14T20:09:57.709748",
     "exception": false,
     "start_time": "2022-05-14T20:09:57.683443",
     "status": "completed"
    },
    "tags": []
   },
   "source": [
    "You are going to write a classifier that distinguishes between the number 3 and number 8."
   ]
  },
  {
   "cell_type": "code",
   "execution_count": 1,
   "id": "b15c8646",
   "metadata": {
    "execution": {
     "iopub.execute_input": "2022-05-14T20:09:57.770897Z",
     "iopub.status.busy": "2022-05-14T20:09:57.770173Z",
     "iopub.status.idle": "2022-05-14T20:09:57.781107Z",
     "shell.execute_reply": "2022-05-14T20:09:57.781729Z"
    },
    "papermill": {
     "duration": 0.047851,
     "end_time": "2022-05-14T20:09:57.781905",
     "exception": false,
     "start_time": "2022-05-14T20:09:57.734054",
     "status": "completed"
    },
    "tags": []
   },
   "outputs": [],
   "source": [
    "%load_ext autoreload\n",
    "%autoreload 2"
   ]
  },
  {
   "cell_type": "code",
   "execution_count": 2,
   "id": "22ef38dc",
   "metadata": {
    "execution": {
     "iopub.execute_input": "2022-05-14T20:09:57.845493Z",
     "iopub.status.busy": "2022-05-14T20:09:57.840762Z",
     "iopub.status.idle": "2022-05-14T20:09:58.382241Z",
     "shell.execute_reply": "2022-05-14T20:09:58.382676Z"
    },
    "papermill": {
     "duration": 0.575553,
     "end_time": "2022-05-14T20:09:58.382831",
     "exception": false,
     "start_time": "2022-05-14T20:09:57.807278",
     "status": "completed"
    },
    "tags": []
   },
   "outputs": [],
   "source": [
    "%matplotlib inline\n",
    "import numpy as np\n",
    "import matplotlib.pyplot as plt\n",
    "import pandas as pd"
   ]
  },
  {
   "cell_type": "markdown",
   "id": "ba036198",
   "metadata": {
    "papermill": {
     "duration": 0.025702,
     "end_time": "2022-05-14T20:09:58.434836",
     "exception": false,
     "start_time": "2022-05-14T20:09:58.409134",
     "status": "completed"
    },
    "tags": []
   },
   "source": [
    "From the command line run `pip install mnist`. This is a library that will help you bring down the mnist dataset. If you run this from a notebook, you need to put  `!pip install mnist` in a cell by itself."
   ]
  },
  {
   "cell_type": "code",
   "execution_count": 3,
   "id": "bb6ad8a1",
   "metadata": {
    "execution": {
     "iopub.execute_input": "2022-05-14T20:09:58.487529Z",
     "iopub.status.busy": "2022-05-14T20:09:58.486968Z",
     "iopub.status.idle": "2022-05-14T20:10:00.163759Z",
     "shell.execute_reply": "2022-05-14T20:10:00.164332Z"
    },
    "papermill": {
     "duration": 1.7053,
     "end_time": "2022-05-14T20:10:00.164506",
     "exception": false,
     "start_time": "2022-05-14T20:09:58.459206",
     "status": "completed"
    },
    "tags": []
   },
   "outputs": [
    {
     "name": "stdout",
     "output_type": "stream",
     "text": [
      "Collecting mnist\r\n",
      "  Downloading mnist-0.2.2-py2.py3-none-any.whl (3.5 kB)\r\n",
      "Requirement already satisfied: numpy in /opt/hostedtoolcache/Python/3.6.15/x64/lib/python3.6/site-packages (from mnist) (1.19.5)\r\n"
     ]
    },
    {
     "name": "stdout",
     "output_type": "stream",
     "text": [
      "Installing collected packages: mnist\r\n"
     ]
    },
    {
     "name": "stdout",
     "output_type": "stream",
     "text": [
      "Successfully installed mnist-0.2.2\r\n"
     ]
    }
   ],
   "source": [
    "!pip install mnist"
   ]
  },
  {
   "cell_type": "markdown",
   "id": "69df9c9a",
   "metadata": {
    "papermill": {
     "duration": 0.025416,
     "end_time": "2022-05-14T20:10:00.215831",
     "exception": false,
     "start_time": "2022-05-14T20:10:00.190415",
     "status": "completed"
    },
    "tags": []
   },
   "source": [
    "## Preparing the Data"
   ]
  },
  {
   "cell_type": "code",
   "execution_count": 4,
   "id": "7f69d806",
   "metadata": {
    "execution": {
     "iopub.execute_input": "2022-05-14T20:10:00.273461Z",
     "iopub.status.busy": "2022-05-14T20:10:00.272785Z",
     "iopub.status.idle": "2022-05-14T20:10:00.286741Z",
     "shell.execute_reply": "2022-05-14T20:10:00.287229Z"
    },
    "papermill": {
     "duration": 0.043272,
     "end_time": "2022-05-14T20:10:00.287347",
     "exception": false,
     "start_time": "2022-05-14T20:10:00.244075",
     "status": "completed"
    },
    "tags": []
   },
   "outputs": [],
   "source": [
    "import mnist"
   ]
  },
  {
   "cell_type": "code",
   "execution_count": 5,
   "id": "a411e44f",
   "metadata": {
    "execution": {
     "iopub.execute_input": "2022-05-14T20:10:00.340199Z",
     "iopub.status.busy": "2022-05-14T20:10:00.339638Z",
     "iopub.status.idle": "2022-05-14T20:10:00.902982Z",
     "shell.execute_reply": "2022-05-14T20:10:00.902498Z"
    },
    "papermill": {
     "duration": 0.591154,
     "end_time": "2022-05-14T20:10:00.903113",
     "exception": false,
     "start_time": "2022-05-14T20:10:00.311959",
     "status": "completed"
    },
    "tags": []
   },
   "outputs": [],
   "source": [
    "train_images = mnist.train_images()\n",
    "train_labels = mnist.train_labels()"
   ]
  },
  {
   "cell_type": "code",
   "execution_count": 6,
   "id": "dceab3a5",
   "metadata": {
    "execution": {
     "iopub.execute_input": "2022-05-14T20:10:00.979665Z",
     "iopub.status.busy": "2022-05-14T20:10:00.968338Z",
     "iopub.status.idle": "2022-05-14T20:10:00.984620Z",
     "shell.execute_reply": "2022-05-14T20:10:00.985107Z"
    },
    "papermill": {
     "duration": 0.05302,
     "end_time": "2022-05-14T20:10:00.985227",
     "exception": false,
     "start_time": "2022-05-14T20:10:00.932207",
     "status": "completed"
    },
    "tags": []
   },
   "outputs": [
    {
     "data": {
      "text/plain": [
       "((60000, 28, 28), (60000,))"
      ]
     },
     "execution_count": 6,
     "metadata": {},
     "output_type": "execute_result"
    }
   ],
   "source": [
    "train_images.shape, train_labels.shape"
   ]
  },
  {
   "cell_type": "code",
   "execution_count": 7,
   "id": "f50dc2bb",
   "metadata": {
    "execution": {
     "iopub.execute_input": "2022-05-14T20:10:01.046843Z",
     "iopub.status.busy": "2022-05-14T20:10:01.046327Z",
     "iopub.status.idle": "2022-05-14T20:10:01.170592Z",
     "shell.execute_reply": "2022-05-14T20:10:01.170053Z"
    },
    "papermill": {
     "duration": 0.160004,
     "end_time": "2022-05-14T20:10:01.170776",
     "exception": false,
     "start_time": "2022-05-14T20:10:01.010772",
     "status": "completed"
    },
    "tags": []
   },
   "outputs": [],
   "source": [
    "test_images = mnist.test_images()\n",
    "test_labels = mnist.test_labels()"
   ]
  },
  {
   "cell_type": "code",
   "execution_count": 8,
   "id": "fc38cf1b",
   "metadata": {
    "execution": {
     "iopub.execute_input": "2022-05-14T20:10:01.234190Z",
     "iopub.status.busy": "2022-05-14T20:10:01.233516Z",
     "iopub.status.idle": "2022-05-14T20:10:01.246442Z",
     "shell.execute_reply": "2022-05-14T20:10:01.247197Z"
    },
    "papermill": {
     "duration": 0.048294,
     "end_time": "2022-05-14T20:10:01.247324",
     "exception": false,
     "start_time": "2022-05-14T20:10:01.199030",
     "status": "completed"
    },
    "tags": []
   },
   "outputs": [
    {
     "data": {
      "text/plain": [
       "((10000, 28, 28), (10000,))"
      ]
     },
     "execution_count": 8,
     "metadata": {},
     "output_type": "execute_result"
    }
   ],
   "source": [
    "test_images.shape, test_labels.shape"
   ]
  },
  {
   "cell_type": "code",
   "execution_count": 9,
   "id": "f9ed8fe0",
   "metadata": {
    "execution": {
     "iopub.execute_input": "2022-05-14T20:10:01.308451Z",
     "iopub.status.busy": "2022-05-14T20:10:01.307824Z",
     "iopub.status.idle": "2022-05-14T20:10:01.476601Z",
     "shell.execute_reply": "2022-05-14T20:10:01.477050Z"
    },
    "papermill": {
     "duration": 0.200088,
     "end_time": "2022-05-14T20:10:01.477192",
     "exception": false,
     "start_time": "2022-05-14T20:10:01.277104",
     "status": "completed"
    },
    "tags": []
   },
   "outputs": [
    {
     "name": "stdout",
     "output_type": "stream",
     "text": [
      "2\n"
     ]
    },
    {
     "data": {
      "text/plain": [
       "<matplotlib.image.AxesImage at 0x7f7516dcb4a8>"
      ]
     },
     "execution_count": 9,
     "metadata": {},
     "output_type": "execute_result"
    },
    {
     "data": {
      "image/png": "[encoded data removed]",
      "text/plain": [
       "<Figure size 432x288 with 1 Axes>"
      ]
     },
     "metadata": {
      "needs_background": "light"
     },
     "output_type": "display_data"
    }
   ],
   "source": [
    "image_index = 7776 # You may select anything up to 60,000\n",
    "print(train_labels[image_index]) \n",
    "plt.imshow(train_images[image_index], cmap='Greys')"
   ]
  },
  {
   "cell_type": "markdown",
   "id": "a8d2388d",
   "metadata": {
    "papermill": {
     "duration": 0.026682,
     "end_time": "2022-05-14T20:10:01.531755",
     "exception": false,
     "start_time": "2022-05-14T20:10:01.505073",
     "status": "completed"
    },
    "tags": []
   },
   "source": [
    "## Filter data to get 3 and 8 out"
   ]
  },
  {
   "cell_type": "code",
   "execution_count": 10,
   "id": "776f7fc7",
   "metadata": {
    "execution": {
     "iopub.execute_input": "2022-05-14T20:10:01.594365Z",
     "iopub.status.busy": "2022-05-14T20:10:01.588673Z",
     "iopub.status.idle": "2022-05-14T20:10:01.609440Z",
     "shell.execute_reply": "2022-05-14T20:10:01.609866Z"
    },
    "papermill": {
     "duration": 0.050999,
     "end_time": "2022-05-14T20:10:01.609988",
     "exception": false,
     "start_time": "2022-05-14T20:10:01.558989",
     "status": "completed"
    },
    "tags": []
   },
   "outputs": [],
   "source": [
    "train_filter = np.where((train_labels == 3 ) | (train_labels == 8))\n",
    "test_filter = np.where((test_labels == 3) | (test_labels == 8))\n",
    "X_train, y_train = train_images[train_filter], train_labels[train_filter]\n",
    "X_test, y_test = test_images[test_filter], test_labels[test_filter]"
   ]
  },
  {
   "cell_type": "markdown",
   "id": "948f0b7e",
   "metadata": {
    "papermill": {
     "duration": 0.025944,
     "end_time": "2022-05-14T20:10:01.663461",
     "exception": false,
     "start_time": "2022-05-14T20:10:01.637517",
     "status": "completed"
    },
    "tags": []
   },
   "source": [
    "We normalize the pizel values in the 0 to 1 range"
   ]
  },
  {
   "cell_type": "code",
   "execution_count": 11,
   "id": "ee4c2166",
   "metadata": {
    "execution": {
     "iopub.execute_input": "2022-05-14T20:10:01.720479Z",
     "iopub.status.busy": "2022-05-14T20:10:01.719926Z",
     "iopub.status.idle": "2022-05-14T20:10:01.776835Z",
     "shell.execute_reply": "2022-05-14T20:10:01.777395Z"
    },
    "papermill": {
     "duration": 0.086935,
     "end_time": "2022-05-14T20:10:01.777545",
     "exception": false,
     "start_time": "2022-05-14T20:10:01.690610",
     "status": "completed"
    },
    "tags": []
   },
   "outputs": [],
   "source": [
    "X_train = X_train/255.\n",
    "X_test = X_test/255."
   ]
  },
  {
   "cell_type": "markdown",
   "id": "ddcf4fab",
   "metadata": {
    "papermill": {
     "duration": 0.028782,
     "end_time": "2022-05-14T20:10:01.833188",
     "exception": false,
     "start_time": "2022-05-14T20:10:01.804406",
     "status": "completed"
    },
    "tags": []
   },
   "source": [
    "And setup the labels as 1 (when the digit is 3) and 0 (when the digit is 8)"
   ]
  },
  {
   "cell_type": "code",
   "execution_count": 12,
   "id": "7dc908f2",
   "metadata": {
    "execution": {
     "iopub.execute_input": "2022-05-14T20:10:01.897505Z",
     "iopub.status.busy": "2022-05-14T20:10:01.895698Z",
     "iopub.status.idle": "2022-05-14T20:10:01.910949Z",
     "shell.execute_reply": "2022-05-14T20:10:01.910461Z"
    },
    "papermill": {
     "duration": 0.048993,
     "end_time": "2022-05-14T20:10:01.911085",
     "exception": false,
     "start_time": "2022-05-14T20:10:01.862092",
     "status": "completed"
    },
    "tags": []
   },
   "outputs": [],
   "source": [
    "y_train = 1*(y_train==3)\n",
    "y_test = 1*(y_test==3)"
   ]
  },
  {
   "cell_type": "code",
   "execution_count": 13,
   "id": "01e4e969",
   "metadata": {
    "execution": {
     "iopub.execute_input": "2022-05-14T20:10:01.982845Z",
     "iopub.status.busy": "2022-05-14T20:10:01.975443Z",
     "iopub.status.idle": "2022-05-14T20:10:01.985968Z",
     "shell.execute_reply": "2022-05-14T20:10:01.985509Z"
    },
    "papermill": {
     "duration": 0.046419,
     "end_time": "2022-05-14T20:10:01.986095",
     "exception": false,
     "start_time": "2022-05-14T20:10:01.939676",
     "status": "completed"
    },
    "tags": []
   },
   "outputs": [
    {
     "data": {
      "text/plain": [
       "((11982, 28, 28), (1984, 28, 28))"
      ]
     },
     "execution_count": 13,
     "metadata": {},
     "output_type": "execute_result"
    }
   ],
   "source": [
    "X_train.shape, X_test.shape"
   ]
  },
  {
   "cell_type": "markdown",
   "id": "5ccf3f85",
   "metadata": {
    "papermill": {
     "duration": 0.027592,
     "end_time": "2022-05-14T20:10:02.040754",
     "exception": false,
     "start_time": "2022-05-14T20:10:02.013162",
     "status": "completed"
    },
    "tags": []
   },
   "source": [
    "We reshape the data to flatten the image pixels into a set of features or co-variates:"
   ]
  },
  {
   "cell_type": "code",
   "execution_count": 14,
   "id": "5286a4a3",
   "metadata": {
    "execution": {
     "iopub.execute_input": "2022-05-14T20:10:02.100325Z",
     "iopub.status.busy": "2022-05-14T20:10:02.099725Z",
     "iopub.status.idle": "2022-05-14T20:10:02.112535Z",
     "shell.execute_reply": "2022-05-14T20:10:02.112069Z"
    },
    "papermill": {
     "duration": 0.043354,
     "end_time": "2022-05-14T20:10:02.112641",
     "exception": false,
     "start_time": "2022-05-14T20:10:02.069287",
     "status": "completed"
    },
    "tags": []
   },
   "outputs": [
    {
     "data": {
      "text/plain": [
       "((11982, 784), (1984, 784))"
      ]
     },
     "execution_count": 14,
     "metadata": {},
     "output_type": "execute_result"
    }
   ],
   "source": [
    "X_train = X_train.reshape(X_train.shape[0], -1)\n",
    "X_test = X_test.reshape(X_test.shape[0], -1)\n",
    "X_train.shape, X_test.shape"
   ]
  },
  {
   "cell_type": "code",
   "execution_count": 15,
   "id": "73c5f88a",
   "metadata": {
    "execution": {
     "iopub.execute_input": "2022-05-14T20:10:02.175090Z",
     "iopub.status.busy": "2022-05-14T20:10:02.174552Z",
     "iopub.status.idle": "2022-05-14T20:10:02.190488Z",
     "shell.execute_reply": "2022-05-14T20:10:02.190958Z"
    },
    "papermill": {
     "duration": 0.048414,
     "end_time": "2022-05-14T20:10:02.191076",
     "exception": false,
     "start_time": "2022-05-14T20:10:02.142662",
     "status": "completed"
    },
    "tags": []
   },
   "outputs": [],
   "source": [
    "#Impoting functions from 'Kudzu'\n",
    "from kudzu.model import Model\n",
    "from kudzu.train import Learner\n",
    "from kudzu.optim import GD\n",
    "from kudzu.data import Data, Sampler,Dataloader\n",
    "\n",
    "from kudzu.callbacks import AccCallback\n",
    "from kudzu.callbacks import ClfCallback\n",
    "\n",
    "from kudzu.loss import MSE\n",
    "\n",
    "from kudzu.layer import Sigmoid,Relu\n",
    "from kudzu.layer import Affine"
   ]
  },
  {
   "cell_type": "markdown",
   "id": "bc01172a",
   "metadata": {
    "papermill": {
     "duration": 0.028492,
     "end_time": "2022-05-14T20:10:02.247932",
     "exception": false,
     "start_time": "2022-05-14T20:10:02.219440",
     "status": "completed"
    },
    "tags": []
   },
   "source": [
    "### Let us create a `Config` class, to store important parameters. \n",
    "This class essentially plays the role of a dictionary."
   ]
  },
  {
   "cell_type": "code",
   "execution_count": 16,
   "id": "978281aa",
   "metadata": {
    "execution": {
     "iopub.execute_input": "2022-05-14T20:10:02.310925Z",
     "iopub.status.busy": "2022-05-14T20:10:02.310354Z",
     "iopub.status.idle": "2022-05-14T20:10:02.332140Z",
     "shell.execute_reply": "2022-05-14T20:10:02.331606Z"
    },
    "papermill": {
     "duration": 0.056319,
     "end_time": "2022-05-14T20:10:02.332249",
     "exception": false,
     "start_time": "2022-05-14T20:10:02.275930",
     "status": "completed"
    },
    "tags": []
   },
   "outputs": [],
   "source": [
    "class Config:\n",
    "    pass\n",
    "config = Config()\n",
    "config.lr = 0.001\n",
    "config.num_epochs = 250\n",
    "config.bs = 50"
   ]
  },
  {
   "cell_type": "markdown",
   "id": "1385fa59",
   "metadata": {
    "papermill": {
     "duration": 0.02685,
     "end_time": "2022-05-14T20:10:02.387121",
     "exception": false,
     "start_time": "2022-05-14T20:10:02.360271",
     "status": "completed"
    },
    "tags": []
   },
   "source": [
    "### Running Models with the Training data\n",
    "Details about the network layers:\n",
    "- A first affine layer has 784 inputs and does 100 affine transforms. These are followed by a Relu\n",
    "- A second affine layer has 100 inputs from the 100 activations of the past layer, and does 100 affine transforms. These are followed by a Relu\n",
    "- A third affine layer has 100 activations and does 2 affine transformations to create an embedding for visualization. There is no non-linearity here.\n",
    "- A final \"logistic regression\" which has an affine transform from 2 inputs to 1 output, which is squeezed through a sigmoid.\n"
   ]
  },
  {
   "cell_type": "code",
   "execution_count": 17,
   "id": "2b9c66db",
   "metadata": {
    "execution": {
     "iopub.execute_input": "2022-05-14T20:10:02.446237Z",
     "iopub.status.busy": "2022-05-14T20:10:02.445640Z",
     "iopub.status.idle": "2022-05-14T20:10:02.457265Z",
     "shell.execute_reply": "2022-05-14T20:10:02.456840Z"
    },
    "papermill": {
     "duration": 0.042948,
     "end_time": "2022-05-14T20:10:02.457372",
     "exception": false,
     "start_time": "2022-05-14T20:10:02.414424",
     "status": "completed"
    },
    "tags": []
   },
   "outputs": [],
   "source": [
    "data = Data(X_train, y_train.reshape(-1,1))\n",
    "sampler = Sampler(data, config.bs, shuffle=True)\n",
    "\n",
    "dl = Dataloader(data, sampler)\n",
    "\n",
    "opt = GD(config.lr)\n",
    "loss = MSE()"
   ]
  },
  {
   "cell_type": "code",
   "execution_count": 18,
   "id": "b275e4c2",
   "metadata": {
    "execution": {
     "iopub.execute_input": "2022-05-14T20:10:02.515911Z",
     "iopub.status.busy": "2022-05-14T20:10:02.515395Z",
     "iopub.status.idle": "2022-05-14T20:10:02.528712Z",
     "shell.execute_reply": "2022-05-14T20:10:02.529584Z"
    },
    "papermill": {
     "duration": 0.04476,
     "end_time": "2022-05-14T20:10:02.529718",
     "exception": false,
     "start_time": "2022-05-14T20:10:02.484958",
     "status": "completed"
    },
    "tags": []
   },
   "outputs": [],
   "source": [
    "training_data_x = X_train\n",
    "testing_data_x = X_test\n",
    "training_data_y = y_train.reshape(-1,1)\n",
    "testing_data_y = y_test.reshape(-1,1)"
   ]
  },
  {
   "cell_type": "code",
   "execution_count": 19,
   "id": "76951160",
   "metadata": {
    "execution": {
     "iopub.execute_input": "2022-05-14T20:10:02.589642Z",
     "iopub.status.busy": "2022-05-14T20:10:02.589084Z",
     "iopub.status.idle": "2022-05-14T20:10:02.601605Z",
     "shell.execute_reply": "2022-05-14T20:10:02.602327Z"
    },
    "papermill": {
     "duration": 0.046005,
     "end_time": "2022-05-14T20:10:02.602512",
     "exception": false,
     "start_time": "2022-05-14T20:10:02.556507",
     "status": "completed"
    },
    "tags": []
   },
   "outputs": [
    {
     "name": "stdout",
     "output_type": "stream",
     "text": [
      "xavier\n",
      "xavier\n",
      "xavier\n",
      "xavier\n",
      "xavier\n"
     ]
    }
   ],
   "source": [
    "layers = [Affine(\"first\", 784, 100), Relu(\"first\"), Affine(\"second\", 100, 100), Relu(\"second\"), Affine(\"third\", 100, 2), Affine(\"last\", 2, 1), Sigmoid(\"last\")]\n",
    "model_nn = Model(layers)\n",
    "model_lr = Model([Affine(\"logits\", 784, 1), Sigmoid(\"sigmoid\")])"
   ]
  },
  {
   "cell_type": "code",
   "execution_count": 20,
   "id": "6eede77a",
   "metadata": {
    "execution": {
     "iopub.execute_input": "2022-05-14T20:10:02.665345Z",
     "iopub.status.busy": "2022-05-14T20:10:02.664659Z",
     "iopub.status.idle": "2022-05-14T20:10:02.675576Z",
     "shell.execute_reply": "2022-05-14T20:10:02.674892Z"
    },
    "papermill": {
     "duration": 0.044496,
     "end_time": "2022-05-14T20:10:02.675732",
     "exception": false,
     "start_time": "2022-05-14T20:10:02.631236",
     "status": "completed"
    },
    "tags": []
   },
   "outputs": [],
   "source": [
    "nn_learner = Learner(loss, model_nn, opt, config.num_epochs)\n",
    "acc_nn = ClfCallback(nn_learner, config.bs, training_data_x , testing_data_x, training_data_y, testing_data_y)\n",
    "nn_learner.set_callbacks([acc_nn])"
   ]
  },
  {
   "cell_type": "code",
   "execution_count": 21,
   "id": "877b6cc7",
   "metadata": {
    "execution": {
     "iopub.execute_input": "2022-05-14T20:10:02.734063Z",
     "iopub.status.busy": "2022-05-14T20:10:02.733524Z",
     "iopub.status.idle": "2022-05-14T20:10:02.745981Z",
     "shell.execute_reply": "2022-05-14T20:10:02.745270Z"
    },
    "papermill": {
     "duration": 0.042488,
     "end_time": "2022-05-14T20:10:02.746118",
     "exception": false,
     "start_time": "2022-05-14T20:10:02.703630",
     "status": "completed"
    },
    "tags": []
   },
   "outputs": [],
   "source": [
    "lr_learner = Learner(loss, model_lr, opt, config.num_epochs)\n",
    "acc_lr = ClfCallback(lr_learner, config.bs, training_data_x , testing_data_x, training_data_y, testing_data_y)\n",
    "lr_learner.set_callbacks([acc_lr])"
   ]
  },
  {
   "cell_type": "code",
   "execution_count": 22,
   "id": "d9b133c3",
   "metadata": {
    "execution": {
     "iopub.execute_input": "2022-05-14T20:10:02.804092Z",
     "iopub.status.busy": "2022-05-14T20:10:02.803247Z",
     "iopub.status.idle": "2022-05-14T20:12:14.650562Z",
     "shell.execute_reply": "2022-05-14T20:12:14.651273Z"
    },
    "papermill": {
     "duration": 131.877769,
     "end_time": "2022-05-14T20:12:14.651425",
     "exception": false,
     "start_time": "2022-05-14T20:10:02.773656",
     "status": "completed"
    },
    "tags": []
   },
   "outputs": [
    {
     "name": "stdout",
     "output_type": "stream",
     "text": [
      "Epoch 0, Loss 0.2222\n",
      "Training Accuracy: 0.7860, Testing Accuracy: 0.7903\n",
      "\n"
     ]
    },
    {
     "name": "stdout",
     "output_type": "stream",
     "text": [
      "Epoch 10, Loss 0.0855\n",
      "Training Accuracy: 0.9258, Testing Accuracy: 0.9325\n",
      "\n"
     ]
    },
    {
     "name": "stdout",
     "output_type": "stream",
     "text": [
      "Epoch 20, Loss 0.0526\n",
      "Training Accuracy: 0.9463, Testing Accuracy: 0.9531\n",
      "\n"
     ]
    },
    {
     "name": "stdout",
     "output_type": "stream",
     "text": [
      "Epoch 30, Loss 0.0415\n",
      "Training Accuracy: 0.9556, Testing Accuracy: 0.9607\n",
      "\n"
     ]
    },
    {
     "name": "stdout",
     "output_type": "stream",
     "text": [
      "Epoch 40, Loss 0.036\n",
      "Training Accuracy: 0.9599, Testing Accuracy: 0.9652\n",
      "\n"
     ]
    },
    {
     "name": "stdout",
     "output_type": "stream",
     "text": [
      "Epoch 50, Loss 0.0327\n",
      "Training Accuracy: 0.9629, Testing Accuracy: 0.9677\n",
      "\n"
     ]
    },
    {
     "name": "stdout",
     "output_type": "stream",
     "text": [
      "Epoch 60, Loss 0.0305\n",
      "Training Accuracy: 0.9654, Testing Accuracy: 0.9672\n",
      "\n"
     ]
    },
    {
     "name": "stdout",
     "output_type": "stream",
     "text": [
      "Epoch 70, Loss 0.0288\n",
      "Training Accuracy: 0.9675, Testing Accuracy: 0.9688\n",
      "\n"
     ]
    },
    {
     "name": "stdout",
     "output_type": "stream",
     "text": [
      "Epoch 80, Loss 0.0274\n",
      "Training Accuracy: 0.9680, Testing Accuracy: 0.9698\n",
      "\n"
     ]
    },
    {
     "name": "stdout",
     "output_type": "stream",
     "text": [
      "Epoch 90, Loss 0.0263\n",
      "Training Accuracy: 0.9691, Testing Accuracy: 0.9703\n",
      "\n"
     ]
    },
    {
     "name": "stdout",
     "output_type": "stream",
     "text": [
      "Epoch 100, Loss 0.0253\n",
      "Training Accuracy: 0.9700, Testing Accuracy: 0.9713\n",
      "\n"
     ]
    },
    {
     "name": "stdout",
     "output_type": "stream",
     "text": [
      "Epoch 110, Loss 0.0245\n",
      "Training Accuracy: 0.9711, Testing Accuracy: 0.9713\n",
      "\n"
     ]
    },
    {
     "name": "stdout",
     "output_type": "stream",
     "text": [
      "Epoch 120, Loss 0.0238\n",
      "Training Accuracy: 0.9721, Testing Accuracy: 0.9718\n",
      "\n"
     ]
    },
    {
     "name": "stdout",
     "output_type": "stream",
     "text": [
      "Epoch 130, Loss 0.0231\n",
      "Training Accuracy: 0.9729, Testing Accuracy: 0.9728\n",
      "\n"
     ]
    },
    {
     "name": "stdout",
     "output_type": "stream",
     "text": [
      "Epoch 140, Loss 0.0224\n",
      "Training Accuracy: 0.9742, Testing Accuracy: 0.9738\n",
      "\n"
     ]
    },
    {
     "name": "stdout",
     "output_type": "stream",
     "text": [
      "Epoch 150, Loss 0.0219\n",
      "Training Accuracy: 0.9748, Testing Accuracy: 0.9733\n",
      "\n"
     ]
    },
    {
     "name": "stdout",
     "output_type": "stream",
     "text": [
      "Epoch 160, Loss 0.0213\n",
      "Training Accuracy: 0.9755, Testing Accuracy: 0.9743\n",
      "\n"
     ]
    },
    {
     "name": "stdout",
     "output_type": "stream",
     "text": [
      "Epoch 170, Loss 0.0208\n",
      "Training Accuracy: 0.9760, Testing Accuracy: 0.9743\n",
      "\n"
     ]
    },
    {
     "name": "stdout",
     "output_type": "stream",
     "text": [
      "Epoch 180, Loss 0.0203\n",
      "Training Accuracy: 0.9770, Testing Accuracy: 0.9743\n",
      "\n"
     ]
    },
    {
     "name": "stdout",
     "output_type": "stream",
     "text": [
      "Epoch 190, Loss 0.0199\n",
      "Training Accuracy: 0.9775, Testing Accuracy: 0.9743\n",
      "\n"
     ]
    },
    {
     "name": "stdout",
     "output_type": "stream",
     "text": [
      "Epoch 200, Loss 0.0194\n",
      "Training Accuracy: 0.9782, Testing Accuracy: 0.9748\n",
      "\n"
     ]
    },
    {
     "name": "stdout",
     "output_type": "stream",
     "text": [
      "Epoch 210, Loss 0.019\n",
      "Training Accuracy: 0.9789, Testing Accuracy: 0.9753\n",
      "\n"
     ]
    },
    {
     "name": "stdout",
     "output_type": "stream",
     "text": [
      "Epoch 220, Loss 0.0186\n",
      "Training Accuracy: 0.9795, Testing Accuracy: 0.9758\n",
      "\n"
     ]
    },
    {
     "name": "stdout",
     "output_type": "stream",
     "text": [
      "Epoch 230, Loss 0.0182\n",
      "Training Accuracy: 0.9800, Testing Accuracy: 0.9753\n",
      "\n"
     ]
    },
    {
     "name": "stdout",
     "output_type": "stream",
     "text": [
      "Epoch 240, Loss 0.0178\n",
      "Training Accuracy: 0.9803, Testing Accuracy: 0.9758\n",
      "\n"
     ]
    },
    {
     "data": {
      "text/plain": [
       "0.0074323213383389285"
      ]
     },
     "execution_count": 22,
     "metadata": {},
     "output_type": "execute_result"
    }
   ],
   "source": [
    "nn_learner.train_loop(dl)"
   ]
  },
  {
   "cell_type": "code",
   "execution_count": 23,
   "id": "e0163366",
   "metadata": {
    "execution": {
     "iopub.execute_input": "2022-05-14T20:12:14.741193Z",
     "iopub.status.busy": "2022-05-14T20:12:14.740674Z",
     "iopub.status.idle": "2022-05-14T20:12:33.248984Z",
     "shell.execute_reply": "2022-05-14T20:12:33.249725Z"
    },
    "papermill": {
     "duration": 18.560098,
     "end_time": "2022-05-14T20:12:33.249876",
     "exception": false,
     "start_time": "2022-05-14T20:12:14.689778",
     "status": "completed"
    },
    "tags": []
   },
   "outputs": [
    {
     "name": "stdout",
     "output_type": "stream",
     "text": [
      "Epoch 0, Loss 0.2499\n",
      "Training Accuracy: 0.6737, Testing Accuracy: 0.6734\n",
      "\n"
     ]
    },
    {
     "name": "stdout",
     "output_type": "stream",
     "text": [
      "Epoch 10, Loss 0.1013\n",
      "Training Accuracy: 0.9150, Testing Accuracy: 0.9320\n",
      "\n"
     ]
    },
    {
     "name": "stdout",
     "output_type": "stream",
     "text": [
      "Epoch 20, Loss 0.0777\n",
      "Training Accuracy: 0.9297, Testing Accuracy: 0.9466\n",
      "\n"
     ]
    },
    {
     "name": "stdout",
     "output_type": "stream",
     "text": [
      "Epoch 30, Loss 0.067\n",
      "Training Accuracy: 0.9376, Testing Accuracy: 0.9491\n",
      "\n"
     ]
    },
    {
     "name": "stdout",
     "output_type": "stream",
     "text": [
      "Epoch 40, Loss 0.0607\n",
      "Training Accuracy: 0.9417, Testing Accuracy: 0.9501\n",
      "\n"
     ]
    },
    {
     "name": "stdout",
     "output_type": "stream",
     "text": [
      "Epoch 50, Loss 0.0564\n",
      "Training Accuracy: 0.9453, Testing Accuracy: 0.9536\n",
      "\n"
     ]
    },
    {
     "name": "stdout",
     "output_type": "stream",
     "text": [
      "Epoch 60, Loss 0.0532\n",
      "Training Accuracy: 0.9468, Testing Accuracy: 0.9551\n",
      "\n"
     ]
    },
    {
     "name": "stdout",
     "output_type": "stream",
     "text": [
      "Epoch 70, Loss 0.0507\n",
      "Training Accuracy: 0.9491, Testing Accuracy: 0.9572\n",
      "\n"
     ]
    },
    {
     "name": "stdout",
     "output_type": "stream",
     "text": [
      "Epoch 80, Loss 0.0487\n",
      "Training Accuracy: 0.9509, Testing Accuracy: 0.9597\n",
      "\n"
     ]
    },
    {
     "name": "stdout",
     "output_type": "stream",
     "text": [
      "Epoch 90, Loss 0.0471\n",
      "Training Accuracy: 0.9528, Testing Accuracy: 0.9607\n",
      "\n"
     ]
    },
    {
     "name": "stdout",
     "output_type": "stream",
     "text": [
      "Epoch 100, Loss 0.0457\n",
      "Training Accuracy: 0.9543, Testing Accuracy: 0.9607\n",
      "\n"
     ]
    },
    {
     "name": "stdout",
     "output_type": "stream",
     "text": [
      "Epoch 110, Loss 0.0445\n",
      "Training Accuracy: 0.9547, Testing Accuracy: 0.9617\n",
      "\n"
     ]
    },
    {
     "name": "stdout",
     "output_type": "stream",
     "text": [
      "Epoch 120, Loss 0.0435\n",
      "Training Accuracy: 0.9558, Testing Accuracy: 0.9627\n",
      "\n"
     ]
    },
    {
     "name": "stdout",
     "output_type": "stream",
     "text": [
      "Epoch 130, Loss 0.0426\n",
      "Training Accuracy: 0.9567, Testing Accuracy: 0.9632\n",
      "\n"
     ]
    },
    {
     "name": "stdout",
     "output_type": "stream",
     "text": [
      "Epoch 140, Loss 0.0418\n",
      "Training Accuracy: 0.9569, Testing Accuracy: 0.9637\n",
      "\n"
     ]
    },
    {
     "name": "stdout",
     "output_type": "stream",
     "text": [
      "Epoch 150, Loss 0.0411\n",
      "Training Accuracy: 0.9584, Testing Accuracy: 0.9637\n",
      "\n"
     ]
    },
    {
     "name": "stdout",
     "output_type": "stream",
     "text": [
      "Epoch 160, Loss 0.0404\n",
      "Training Accuracy: 0.9589, Testing Accuracy: 0.9642\n",
      "\n"
     ]
    },
    {
     "name": "stdout",
     "output_type": "stream",
     "text": [
      "Epoch 170, Loss 0.0398\n",
      "Training Accuracy: 0.9593, Testing Accuracy: 0.9642\n",
      "\n"
     ]
    },
    {
     "name": "stdout",
     "output_type": "stream",
     "text": [
      "Epoch 180, Loss 0.0393\n",
      "Training Accuracy: 0.9596, Testing Accuracy: 0.9642\n",
      "\n"
     ]
    },
    {
     "name": "stdout",
     "output_type": "stream",
     "text": [
      "Epoch 190, Loss 0.0388\n",
      "Training Accuracy: 0.9601, Testing Accuracy: 0.9647\n",
      "\n"
     ]
    },
    {
     "name": "stdout",
     "output_type": "stream",
     "text": [
      "Epoch 200, Loss 0.0383\n",
      "Training Accuracy: 0.9608, Testing Accuracy: 0.9642\n",
      "\n"
     ]
    },
    {
     "name": "stdout",
     "output_type": "stream",
     "text": [
      "Epoch 210, Loss 0.0379\n",
      "Training Accuracy: 0.9609, Testing Accuracy: 0.9647\n",
      "\n"
     ]
    },
    {
     "name": "stdout",
     "output_type": "stream",
     "text": [
      "Epoch 220, Loss 0.0375\n",
      "Training Accuracy: 0.9614, Testing Accuracy: 0.9652\n",
      "\n"
     ]
    },
    {
     "name": "stdout",
     "output_type": "stream",
     "text": [
      "Epoch 230, Loss 0.0371\n",
      "Training Accuracy: 0.9618, Testing Accuracy: 0.9652\n",
      "\n"
     ]
    },
    {
     "name": "stdout",
     "output_type": "stream",
     "text": [
      "Epoch 240, Loss 0.0367\n",
      "Training Accuracy: 0.9619, Testing Accuracy: 0.9657\n",
      "\n"
     ]
    },
    {
     "data": {
      "text/plain": [
       "0.024332169110733368"
      ]
     },
     "execution_count": 23,
     "metadata": {},
     "output_type": "execute_result"
    }
   ],
   "source": [
    "lr_learner.train_loop(dl)"
   ]
  },
  {
   "cell_type": "code",
   "execution_count": 24,
   "id": "ca410940",
   "metadata": {
    "execution": {
     "iopub.execute_input": "2022-05-14T20:12:33.349264Z",
     "iopub.status.busy": "2022-05-14T20:12:33.348705Z",
     "iopub.status.idle": "2022-05-14T20:12:33.615415Z",
     "shell.execute_reply": "2022-05-14T20:12:33.614684Z"
    },
    "papermill": {
     "duration": 0.318936,
     "end_time": "2022-05-14T20:12:33.615551",
     "exception": false,
     "start_time": "2022-05-14T20:12:33.296615",
     "status": "completed"
    },
    "tags": []
   },
   "outputs": [
    {
     "data": {
      "text/plain": [
       "<matplotlib.legend.Legend at 0x7f75169aabe0>"
      ]
     },
     "execution_count": 24,
     "metadata": {},
     "output_type": "execute_result"
    },
    {
     "data": {
      "image/png": "[encoded data removed]",
      "text/plain": [
       "<Figure size 1080x720 with 1 Axes>"
      ]
     },
     "metadata": {
      "needs_background": "light"
     },
     "output_type": "display_data"
    }
   ],
   "source": [
    "#comparing the results of NN and LR\n",
    "plt.figure(figsize=(15,10))\n",
    "\n",
    "# Neural Network plots\n",
    "plt.plot(acc_nn.accuracies, 'r-', label = \"Training Accuracies - NN\")\n",
    "plt.plot(acc_nn.test_accuracies, 'g-', label = \"Testing Accuracies - NN\")\n",
    "\n",
    "# Logistic Regression plots\n",
    "plt.plot(acc_lr.accuracies, 'k-', label = \"Training Accuracies - LR\")\n",
    "plt.plot(acc_lr.test_accuracies, 'b-', label = \"Testing Accuracies - LR\")\n",
    "plt.legend()"
   ]
  },
  {
   "cell_type": "markdown",
   "id": "80dfb35c",
   "metadata": {
    "papermill": {
     "duration": 0.041915,
     "end_time": "2022-05-14T20:12:33.700453",
     "exception": false,
     "start_time": "2022-05-14T20:12:33.658538",
     "status": "completed"
    },
    "tags": []
   },
   "source": [
    "#### Plotting the outputs of this layer of the NN.\n"
   ]
  },
  {
   "cell_type": "code",
   "execution_count": 25,
   "id": "45eb2ff5",
   "metadata": {
    "execution": {
     "iopub.execute_input": "2022-05-14T20:12:33.792394Z",
     "iopub.status.busy": "2022-05-14T20:12:33.791795Z",
     "iopub.status.idle": "2022-05-14T20:12:33.816145Z",
     "shell.execute_reply": "2022-05-14T20:12:33.816795Z"
    },
    "papermill": {
     "duration": 0.074137,
     "end_time": "2022-05-14T20:12:33.816932",
     "exception": false,
     "start_time": "2022-05-14T20:12:33.742795",
     "status": "completed"
    },
    "tags": []
   },
   "outputs": [],
   "source": [
    "new_model = Model(layers[:-2])\n",
    "testing_plot = new_model(testing_data_x)"
   ]
  },
  {
   "cell_type": "code",
   "execution_count": 26,
   "id": "4c0a5485",
   "metadata": {
    "execution": {
     "iopub.execute_input": "2022-05-14T20:12:33.908436Z",
     "iopub.status.busy": "2022-05-14T20:12:33.906995Z",
     "iopub.status.idle": "2022-05-14T20:12:34.136685Z",
     "shell.execute_reply": "2022-05-14T20:12:34.135884Z"
    },
    "papermill": {
     "duration": 0.276456,
     "end_time": "2022-05-14T20:12:34.136812",
     "exception": false,
     "start_time": "2022-05-14T20:12:33.860356",
     "status": "completed"
    },
    "tags": []
   },
   "outputs": [
    {
     "data": {
      "text/plain": [
       "Text(0.5, 1.0, 'Outputs')"
      ]
     },
     "execution_count": 26,
     "metadata": {},
     "output_type": "execute_result"
    },
    {
     "data": {
      "image/png": "[encoded data removed]",
      "text/plain": [
       "<Figure size 576x504 with 1 Axes>"
      ]
     },
     "metadata": {
      "needs_background": "light"
     },
     "output_type": "display_data"
    }
   ],
   "source": [
    "# Plotting the scatter plot of points and color coding by class\n",
    "plt.figure(figsize=(8,7))\n",
    "plt.scatter(testing_plot[:,0], testing_plot[:,1], alpha = 0.1, c = y_test.ravel());\n",
    "plt.title('Outputs')"
   ]
  },
  {
   "cell_type": "markdown",
   "id": "a74fcf8f",
   "metadata": {
    "papermill": {
     "duration": 0.048682,
     "end_time": "2022-05-14T20:12:34.230644",
     "exception": false,
     "start_time": "2022-05-14T20:12:34.181962",
     "status": "completed"
    },
    "tags": []
   },
   "source": [
    "Probability contours"
   ]
  },
  {
   "cell_type": "code",
   "execution_count": 27,
   "id": "d0afc8e3",
   "metadata": {
    "execution": {
     "iopub.execute_input": "2022-05-14T20:12:34.337217Z",
     "iopub.status.busy": "2022-05-14T20:12:34.336637Z",
     "iopub.status.idle": "2022-05-14T20:12:34.347509Z",
     "shell.execute_reply": "2022-05-14T20:12:34.346985Z"
    },
    "papermill": {
     "duration": 0.069315,
     "end_time": "2022-05-14T20:12:34.347643",
     "exception": false,
     "start_time": "2022-05-14T20:12:34.278328",
     "status": "completed"
    },
    "tags": []
   },
   "outputs": [],
   "source": [
    "model_prob = Model(layers[-2:]) "
   ]
  },
  {
   "cell_type": "code",
   "execution_count": 28,
   "id": "9b96e238",
   "metadata": {
    "execution": {
     "iopub.execute_input": "2022-05-14T20:12:34.462380Z",
     "iopub.status.busy": "2022-05-14T20:12:34.460833Z",
     "iopub.status.idle": "2022-05-14T20:12:34.475522Z",
     "shell.execute_reply": "2022-05-14T20:12:34.476247Z"
    },
    "papermill": {
     "duration": 0.063267,
     "end_time": "2022-05-14T20:12:34.476376",
     "exception": false,
     "start_time": "2022-05-14T20:12:34.413109",
     "status": "completed"
    },
    "tags": []
   },
   "outputs": [],
   "source": [
    "#creating the x and y ranges according to the above generated plot.\n",
    "x_range = np.linspace(-4, 1, 100) \n",
    "y_range = np.linspace(-6, 6, 100) \n",
    "x_grid, y_grid = np.meshgrid(x_range, y_range) # x_grid and y_grig are of size 100 X 100\n",
    "\n",
    "# converting x_grid and y_grid to continuous arrays\n",
    "x_gridflat = np.ravel(x_grid)\n",
    "y_gridflat = np.ravel(y_grid)\n",
    "\n",
    "# The last layer of the current model takes two columns as input. Hence transpose of np.vstack() is required.\n",
    "X = np.vstack((x_gridflat, y_gridflat)).T\n",
    "\n",
    "prob_contour = model_prob(X).reshape(100,100) "
   ]
  },
  {
   "cell_type": "code",
   "execution_count": 29,
   "id": "da72499a",
   "metadata": {
    "execution": {
     "iopub.execute_input": "2022-05-14T20:12:34.581126Z",
     "iopub.status.busy": "2022-05-14T20:12:34.580521Z",
     "iopub.status.idle": "2022-05-14T20:12:34.866949Z",
     "shell.execute_reply": "2022-05-14T20:12:34.866440Z"
    },
    "papermill": {
     "duration": 0.344221,
     "end_time": "2022-05-14T20:12:34.867068",
     "exception": false,
     "start_time": "2022-05-14T20:12:34.522847",
     "status": "completed"
    },
    "tags": []
   },
   "outputs": [
    {
     "data": {
      "image/png": "[encoded data removed]",
      "text/plain": [
       "<Figure size 720x648 with 1 Axes>"
      ]
     },
     "metadata": {
      "needs_background": "light"
     },
     "output_type": "display_data"
    }
   ],
   "source": [
    "plt.figure(figsize=(10,9))\n",
    "plt.scatter(testing_plot[:,0], testing_plot[:,1], alpha = 0.1, c = y_test.ravel())\n",
    "contours = plt.contour(x_grid,y_grid,prob_contour)\n",
    "plt.title('Probability Contours')\n",
    "plt.clabel(contours, inline = True );"
   ]
  },
  {
   "cell_type": "code",
   "execution_count": null,
   "id": "e81b4ac7",
   "metadata": {
    "papermill": {
     "duration": 0.047121,
     "end_time": "2022-05-14T20:12:34.961079",
     "exception": false,
     "start_time": "2022-05-14T20:12:34.913958",
     "status": "completed"
    },
    "tags": []
   },
   "outputs": [],
   "source": []
  }
 ],
 "metadata": {
  "kernelspec": {
   "display_name": "Python 3",
   "language": "python",
   "name": "python3"
  },
  "language_info": {
   "codemirror_mode": {
    "name": "ipython",
    "version": 3
   },
   "file_extension": ".py",
   "mimetype": "text/x-python",
   "name": "python",
   "nbconvert_exporter": "python",
   "pygments_lexer": "ipython3",
   "version": "3.6.15"
  },
  "papermill": {
   "default_parameters": {},
   "duration": 158.948191,
   "end_time": "2022-05-14T20:12:35.328555",
   "environment_variables": {},
   "exception": null,
   "input_path": "2020-08-11-part2.ipynb",
   "output_path": "2020-08-11-part2.ipynb",
   "parameters": {},
   "start_time": "2022-05-14T20:09:56.380364",
   "version": "2.3.3"
  }
 },
 "nbformat": 4,
 "nbformat_minor": 5
}