{
 "cells": [
  {
   "cell_type": "markdown",
   "id": "98380cd3",
   "metadata": {
    "papermill": {
     "duration": 0.037268,
     "end_time": "2022-09-03T20:10:59.204294",
     "exception": false,
     "start_time": "2022-09-03T20:10:59.167026",
     "status": "completed"
    },
    "tags": []
   },
   "source": [
    "# Distinguish Your Own Digits (DYOD)"
   ]
  },
  {
   "cell_type": "markdown",
   "id": "ef31240d",
   "metadata": {
    "papermill": {
     "duration": 0.030376,
     "end_time": "2022-09-03T20:10:59.264653",
     "exception": false,
     "start_time": "2022-09-03T20:10:59.234277",
     "status": "completed"
    },
    "tags": []
   },
   "source": [
    "You are going to write a classifier that distinguishes between the number 3 and number 8."
   ]
  },
  {
   "cell_type": "code",
   "execution_count": 1,
   "id": "b15c8646",
   "metadata": {
    "execution": {
     "iopub.execute_input": "2022-09-03T20:10:59.334180Z",
     "iopub.status.busy": "2022-09-03T20:10:59.333516Z",
     "iopub.status.idle": "2022-09-03T20:10:59.345270Z",
     "shell.execute_reply": "2022-09-03T20:10:59.345768Z"
    },
    "papermill": {
     "duration": 0.050962,
     "end_time": "2022-09-03T20:10:59.345928",
     "exception": false,
     "start_time": "2022-09-03T20:10:59.294966",
     "status": "completed"
    },
    "tags": []
   },
   "outputs": [],
   "source": [
    "%load_ext autoreload\n",
    "%autoreload 2"
   ]
  },
  {
   "cell_type": "code",
   "execution_count": 2,
   "id": "22ef38dc",
   "metadata": {
    "execution": {
     "iopub.execute_input": "2022-09-03T20:10:59.417586Z",
     "iopub.status.busy": "2022-09-03T20:10:59.411621Z",
     "iopub.status.idle": "2022-09-03T20:10:59.997971Z",
     "shell.execute_reply": "2022-09-03T20:10:59.997401Z"
    },
    "papermill": {
     "duration": 0.624398,
     "end_time": "2022-09-03T20:10:59.998117",
     "exception": false,
     "start_time": "2022-09-03T20:10:59.373719",
     "status": "completed"
    },
    "tags": []
   },
   "outputs": [],
   "source": [
    "%matplotlib inline\n",
    "import numpy as np\n",
    "import matplotlib.pyplot as plt\n",
    "import pandas as pd"
   ]
  },
  {
   "cell_type": "markdown",
   "id": "ba036198",
   "metadata": {
    "papermill": {
     "duration": 0.027242,
     "end_time": "2022-09-03T20:11:00.054503",
     "exception": false,
     "start_time": "2022-09-03T20:11:00.027261",
     "status": "completed"
    },
    "tags": []
   },
   "source": [
    "From the command line run `pip install mnist`. This is a library that will help you bring down the mnist dataset. If you run this from a notebook, you need to put  `!pip install mnist` in a cell by itself."
   ]
  },
  {
   "cell_type": "code",
   "execution_count": 3,
   "id": "bb6ad8a1",
   "metadata": {
    "execution": {
     "iopub.execute_input": "2022-09-03T20:11:00.120632Z",
     "iopub.status.busy": "2022-09-03T20:11:00.119439Z",
     "iopub.status.idle": "2022-09-03T20:11:01.922210Z",
     "shell.execute_reply": "2022-09-03T20:11:01.921602Z"
    },
    "papermill": {
     "duration": 1.840291,
     "end_time": "2022-09-03T20:11:01.922352",
     "exception": false,
     "start_time": "2022-09-03T20:11:00.082061",
     "status": "completed"
    },
    "tags": []
   },
   "outputs": [
    {
     "name": "stdout",
     "output_type": "stream",
     "text": [
      "Collecting mnist\r\n"
     ]
    },
    {
     "name": "stdout",
     "output_type": "stream",
     "text": [
      "  Downloading mnist-0.2.2-py2.py3-none-any.whl (3.5 kB)\r\n",
      "Requirement already satisfied: numpy in /opt/hostedtoolcache/Python/3.6.15/x64/lib/python3.6/site-packages (from mnist) (1.19.5)\r\n"
     ]
    },
    {
     "name": "stdout",
     "output_type": "stream",
     "text": [
      "Installing collected packages: mnist\r\n"
     ]
    },
    {
     "name": "stdout",
     "output_type": "stream",
     "text": [
      "Successfully installed mnist-0.2.2\r\n"
     ]
    }
   ],
   "source": [
    "!pip install mnist"
   ]
  },
  {
   "cell_type": "markdown",
   "id": "69df9c9a",
   "metadata": {
    "papermill": {
     "duration": 0.02815,
     "end_time": "2022-09-03T20:11:01.979595",
     "exception": false,
     "start_time": "2022-09-03T20:11:01.951445",
     "status": "completed"
    },
    "tags": []
   },
   "source": [
    "## Preparing the Data"
   ]
  },
  {
   "cell_type": "code",
   "execution_count": 4,
   "id": "7f69d806",
   "metadata": {
    "execution": {
     "iopub.execute_input": "2022-09-03T20:11:02.045584Z",
     "iopub.status.busy": "2022-09-03T20:11:02.044928Z",
     "iopub.status.idle": "2022-09-03T20:11:02.058869Z",
     "shell.execute_reply": "2022-09-03T20:11:02.058116Z"
    },
    "papermill": {
     "duration": 0.050217,
     "end_time": "2022-09-03T20:11:02.058987",
     "exception": false,
     "start_time": "2022-09-03T20:11:02.008770",
     "status": "completed"
    },
    "tags": []
   },
   "outputs": [],
   "source": [
    "import mnist"
   ]
  },
  {
   "cell_type": "code",
   "execution_count": 5,
   "id": "a411e44f",
   "metadata": {
    "execution": {
     "iopub.execute_input": "2022-09-03T20:11:02.123015Z",
     "iopub.status.busy": "2022-09-03T20:11:02.122345Z",
     "iopub.status.idle": "2022-09-03T20:11:02.841479Z",
     "shell.execute_reply": "2022-09-03T20:11:02.840901Z"
    },
    "papermill": {
     "duration": 0.753939,
     "end_time": "2022-09-03T20:11:02.841625",
     "exception": false,
     "start_time": "2022-09-03T20:11:02.087686",
     "status": "completed"
    },
    "tags": []
   },
   "outputs": [],
   "source": [
    "train_images = mnist.train_images()\n",
    "train_labels = mnist.train_labels()"
   ]
  },
  {
   "cell_type": "code",
   "execution_count": 6,
   "id": "dceab3a5",
   "metadata": {
    "execution": {
     "iopub.execute_input": "2022-09-03T20:11:02.917927Z",
     "iopub.status.busy": "2022-09-03T20:11:02.917226Z",
     "iopub.status.idle": "2022-09-03T20:11:02.929763Z",
     "shell.execute_reply": "2022-09-03T20:11:02.930284Z"
    },
    "papermill": {
     "duration": 0.05644,
     "end_time": "2022-09-03T20:11:02.930422",
     "exception": false,
     "start_time": "2022-09-03T20:11:02.873982",
     "status": "completed"
    },
    "tags": []
   },
   "outputs": [
    {
     "data": {
      "text/plain": [
       "((60000, 28, 28), (60000,))"
      ]
     },
     "execution_count": 6,
     "metadata": {},
     "output_type": "execute_result"
    }
   ],
   "source": [
    "train_images.shape, train_labels.shape"
   ]
  },
  {
   "cell_type": "code",
   "execution_count": 7,
   "id": "f50dc2bb",
   "metadata": {
    "execution": {
     "iopub.execute_input": "2022-09-03T20:11:02.994259Z",
     "iopub.status.busy": "2022-09-03T20:11:02.992013Z",
     "iopub.status.idle": "2022-09-03T20:11:03.120114Z",
     "shell.execute_reply": "2022-09-03T20:11:03.120688Z"
    },
    "papermill": {
     "duration": 0.162159,
     "end_time": "2022-09-03T20:11:03.120863",
     "exception": false,
     "start_time": "2022-09-03T20:11:02.958704",
     "status": "completed"
    },
    "tags": []
   },
   "outputs": [],
   "source": [
    "test_images = mnist.test_images()\n",
    "test_labels = mnist.test_labels()"
   ]
  },
  {
   "cell_type": "code",
   "execution_count": 8,
   "id": "fc38cf1b",
   "metadata": {
    "execution": {
     "iopub.execute_input": "2022-09-03T20:11:03.192189Z",
     "iopub.status.busy": "2022-09-03T20:11:03.191529Z",
     "iopub.status.idle": "2022-09-03T20:11:03.205965Z",
     "shell.execute_reply": "2022-09-03T20:11:03.205418Z"
    },
    "papermill": {
     "duration": 0.053387,
     "end_time": "2022-09-03T20:11:03.206085",
     "exception": false,
     "start_time": "2022-09-03T20:11:03.152698",
     "status": "completed"
    },
    "tags": []
   },
   "outputs": [
    {
     "data": {
      "text/plain": [
       "((10000, 28, 28), (10000,))"
      ]
     },
     "execution_count": 8,
     "metadata": {},
     "output_type": "execute_result"
    }
   ],
   "source": [
    "test_images.shape, test_labels.shape"
   ]
  },
  {
   "cell_type": "code",
   "execution_count": 9,
   "id": "f9ed8fe0",
   "metadata": {
    "execution": {
     "iopub.execute_input": "2022-09-03T20:11:03.275205Z",
     "iopub.status.busy": "2022-09-03T20:11:03.274539Z",
     "iopub.status.idle": "2022-09-03T20:11:03.445151Z",
     "shell.execute_reply": "2022-09-03T20:11:03.445678Z"
    },
    "papermill": {
     "duration": 0.209783,
     "end_time": "2022-09-03T20:11:03.445834",
     "exception": false,
     "start_time": "2022-09-03T20:11:03.236051",
     "status": "completed"
    },
    "tags": []
   },
   "outputs": [
    {
     "name": "stdout",
     "output_type": "stream",
     "text": [
      "2\n"
     ]
    },
    {
     "data": {
      "text/plain": [
       "<matplotlib.image.AxesImage at 0x7f34d9cefbe0>"
      ]
     },
     "execution_count": 9,
     "metadata": {},
     "output_type": "execute_result"
    },
    {
     "data": {
      "image/png": "[encoded data removed]",
      "text/plain": [
       "<Figure size 432x288 with 1 Axes>"
      ]
     },
     "metadata": {
      "needs_background": "light"
     },
     "output_type": "display_data"
    }
   ],
   "source": [
    "image_index = 7776 # You may select anything up to 60,000\n",
    "print(train_labels[image_index]) \n",
    "plt.imshow(train_images[image_index], cmap='Greys')"
   ]
  },
  {
   "cell_type": "markdown",
   "id": "a8d2388d",
   "metadata": {
    "papermill": {
     "duration": 0.030724,
     "end_time": "2022-09-03T20:11:03.506735",
     "exception": false,
     "start_time": "2022-09-03T20:11:03.476011",
     "status": "completed"
    },
    "tags": []
   },
   "source": [
    "## Filter data to get 3 and 8 out"
   ]
  },
  {
   "cell_type": "code",
   "execution_count": 10,
   "id": "776f7fc7",
   "metadata": {
    "execution": {
     "iopub.execute_input": "2022-09-03T20:11:03.573629Z",
     "iopub.status.busy": "2022-09-03T20:11:03.572959Z",
     "iopub.status.idle": "2022-09-03T20:11:03.592321Z",
     "shell.execute_reply": "2022-09-03T20:11:03.591581Z"
    },
    "papermill": {
     "duration": 0.055181,
     "end_time": "2022-09-03T20:11:03.592481",
     "exception": false,
     "start_time": "2022-09-03T20:11:03.537300",
     "status": "completed"
    },
    "tags": []
   },
   "outputs": [],
   "source": [
    "train_filter = np.where((train_labels == 3 ) | (train_labels == 8))\n",
    "test_filter = np.where((test_labels == 3) | (test_labels == 8))\n",
    "X_train, y_train = train_images[train_filter], train_labels[train_filter]\n",
    "X_test, y_test = test_images[test_filter], test_labels[test_filter]"
   ]
  },
  {
   "cell_type": "markdown",
   "id": "948f0b7e",
   "metadata": {
    "papermill": {
     "duration": 0.03034,
     "end_time": "2022-09-03T20:11:03.653167",
     "exception": false,
     "start_time": "2022-09-03T20:11:03.622827",
     "status": "completed"
    },
    "tags": []
   },
   "source": [
    "We normalize the pizel values in the 0 to 1 range"
   ]
  },
  {
   "cell_type": "code",
   "execution_count": 11,
   "id": "ee4c2166",
   "metadata": {
    "execution": {
     "iopub.execute_input": "2022-09-03T20:11:03.720205Z",
     "iopub.status.busy": "2022-09-03T20:11:03.719547Z",
     "iopub.status.idle": "2022-09-03T20:11:03.777801Z",
     "shell.execute_reply": "2022-09-03T20:11:03.777163Z"
    },
    "papermill": {
     "duration": 0.094766,
     "end_time": "2022-09-03T20:11:03.777953",
     "exception": false,
     "start_time": "2022-09-03T20:11:03.683187",
     "status": "completed"
    },
    "tags": []
   },
   "outputs": [],
   "source": [
    "X_train = X_train/255.\n",
    "X_test = X_test/255."
   ]
  },
  {
   "cell_type": "markdown",
   "id": "ddcf4fab",
   "metadata": {
    "papermill": {
     "duration": 0.030068,
     "end_time": "2022-09-03T20:11:03.841134",
     "exception": false,
     "start_time": "2022-09-03T20:11:03.811066",
     "status": "completed"
    },
    "tags": []
   },
   "source": [
    "And setup the labels as 1 (when the digit is 3) and 0 (when the digit is 8)"
   ]
  },
  {
   "cell_type": "code",
   "execution_count": 12,
   "id": "7dc908f2",
   "metadata": {
    "execution": {
     "iopub.execute_input": "2022-09-03T20:11:03.911250Z",
     "iopub.status.busy": "2022-09-03T20:11:03.910593Z",
     "iopub.status.idle": "2022-09-03T20:11:03.921887Z",
     "shell.execute_reply": "2022-09-03T20:11:03.922521Z"
    },
    "papermill": {
     "duration": 0.050572,
     "end_time": "2022-09-03T20:11:03.922657",
     "exception": false,
     "start_time": "2022-09-03T20:11:03.872085",
     "status": "completed"
    },
    "tags": []
   },
   "outputs": [],
   "source": [
    "y_train = 1*(y_train==3)\n",
    "y_test = 1*(y_test==3)"
   ]
  },
  {
   "cell_type": "code",
   "execution_count": 13,
   "id": "01e4e969",
   "metadata": {
    "execution": {
     "iopub.execute_input": "2022-09-03T20:11:03.988666Z",
     "iopub.status.busy": "2022-09-03T20:11:03.987987Z",
     "iopub.status.idle": "2022-09-03T20:11:04.001134Z",
     "shell.execute_reply": "2022-09-03T20:11:04.001787Z"
    },
    "papermill": {
     "duration": 0.048172,
     "end_time": "2022-09-03T20:11:04.001914",
     "exception": false,
     "start_time": "2022-09-03T20:11:03.953742",
     "status": "completed"
    },
    "tags": []
   },
   "outputs": [
    {
     "data": {
      "text/plain": [
       "((11982, 28, 28), (1984, 28, 28))"
      ]
     },
     "execution_count": 13,
     "metadata": {},
     "output_type": "execute_result"
    }
   ],
   "source": [
    "X_train.shape, X_test.shape"
   ]
  },
  {
   "cell_type": "markdown",
   "id": "5ccf3f85",
   "metadata": {
    "papermill": {
     "duration": 0.031017,
     "end_time": "2022-09-03T20:11:04.064029",
     "exception": false,
     "start_time": "2022-09-03T20:11:04.033012",
     "status": "completed"
    },
    "tags": []
   },
   "source": [
    "We reshape the data to flatten the image pixels into a set of features or co-variates:"
   ]
  },
  {
   "cell_type": "code",
   "execution_count": 14,
   "id": "5286a4a3",
   "metadata": {
    "execution": {
     "iopub.execute_input": "2022-09-03T20:11:04.146416Z",
     "iopub.status.busy": "2022-09-03T20:11:04.139452Z",
     "iopub.status.idle": "2022-09-03T20:11:04.150347Z",
     "shell.execute_reply": "2022-09-03T20:11:04.150827Z"
    },
    "papermill": {
     "duration": 0.055849,
     "end_time": "2022-09-03T20:11:04.150960",
     "exception": false,
     "start_time": "2022-09-03T20:11:04.095111",
     "status": "completed"
    },
    "tags": []
   },
   "outputs": [
    {
     "data": {
      "text/plain": [
       "((11982, 784), (1984, 784))"
      ]
     },
     "execution_count": 14,
     "metadata": {},
     "output_type": "execute_result"
    }
   ],
   "source": [
    "X_train = X_train.reshape(X_train.shape[0], -1)\n",
    "X_test = X_test.reshape(X_test.shape[0], -1)\n",
    "X_train.shape, X_test.shape"
   ]
  },
  {
   "cell_type": "code",
   "execution_count": 15,
   "id": "73c5f88a",
   "metadata": {
    "execution": {
     "iopub.execute_input": "2022-09-03T20:11:04.224754Z",
     "iopub.status.busy": "2022-09-03T20:11:04.224061Z",
     "iopub.status.idle": "2022-09-03T20:11:04.241908Z",
     "shell.execute_reply": "2022-09-03T20:11:04.241377Z"
    },
    "papermill": {
     "duration": 0.059462,
     "end_time": "2022-09-03T20:11:04.242024",
     "exception": false,
     "start_time": "2022-09-03T20:11:04.182562",
     "status": "completed"
    },
    "tags": []
   },
   "outputs": [],
   "source": [
    "#Impoting functions from 'Kudzu'\n",
    "from kudzu.model import Model\n",
    "from kudzu.train import Learner\n",
    "from kudzu.optim import GD\n",
    "from kudzu.data import Data, Sampler,Dataloader\n",
    "\n",
    "from kudzu.callbacks import AccCallback\n",
    "from kudzu.callbacks import ClfCallback\n",
    "\n",
    "from kudzu.loss import MSE\n",
    "\n",
    "from kudzu.layer import Sigmoid,Relu\n",
    "from kudzu.layer import Affine"
   ]
  },
  {
   "cell_type": "markdown",
   "id": "bc01172a",
   "metadata": {
    "papermill": {
     "duration": 0.031122,
     "end_time": "2022-09-03T20:11:04.304985",
     "exception": false,
     "start_time": "2022-09-03T20:11:04.273863",
     "status": "completed"
    },
    "tags": []
   },
   "source": [
    "### Let us create a `Config` class, to store important parameters. \n",
    "This class essentially plays the role of a dictionary."
   ]
  },
  {
   "cell_type": "code",
   "execution_count": 16,
   "id": "978281aa",
   "metadata": {
    "execution": {
     "iopub.execute_input": "2022-09-03T20:11:04.375187Z",
     "iopub.status.busy": "2022-09-03T20:11:04.371965Z",
     "iopub.status.idle": "2022-09-03T20:11:04.386380Z",
     "shell.execute_reply": "2022-09-03T20:11:04.386885Z"
    },
    "papermill": {
     "duration": 0.050773,
     "end_time": "2022-09-03T20:11:04.387015",
     "exception": false,
     "start_time": "2022-09-03T20:11:04.336242",
     "status": "completed"
    },
    "tags": []
   },
   "outputs": [],
   "source": [
    "class Config:\n",
    "    pass\n",
    "config = Config()\n",
    "config.lr = 0.001\n",
    "config.num_epochs = 250\n",
    "config.bs = 50"
   ]
  },
  {
   "cell_type": "markdown",
   "id": "1385fa59",
   "metadata": {
    "papermill": {
     "duration": 0.030274,
     "end_time": "2022-09-03T20:11:04.448264",
     "exception": false,
     "start_time": "2022-09-03T20:11:04.417990",
     "status": "completed"
    },
    "tags": []
   },
   "source": [
    "### Running Models with the Training data\n",
    "Details about the network layers:\n",
    "- A first affine layer has 784 inputs and does 100 affine transforms. These are followed by a Relu\n",
    "- A second affine layer has 100 inputs from the 100 activations of the past layer, and does 100 affine transforms. These are followed by a Relu\n",
    "- A third affine layer has 100 activations and does 2 affine transformations to create an embedding for visualization. There is no non-linearity here.\n",
    "- A final \"logistic regression\" which has an affine transform from 2 inputs to 1 output, which is squeezed through a sigmoid.\n"
   ]
  },
  {
   "cell_type": "code",
   "execution_count": 17,
   "id": "2b9c66db",
   "metadata": {
    "execution": {
     "iopub.execute_input": "2022-09-03T20:11:04.525869Z",
     "iopub.status.busy": "2022-09-03T20:11:04.517167Z",
     "iopub.status.idle": "2022-09-03T20:11:04.529713Z",
     "shell.execute_reply": "2022-09-03T20:11:04.528865Z"
    },
    "papermill": {
     "duration": 0.05116,
     "end_time": "2022-09-03T20:11:04.529825",
     "exception": false,
     "start_time": "2022-09-03T20:11:04.478665",
     "status": "completed"
    },
    "tags": []
   },
   "outputs": [],
   "source": [
    "data = Data(X_train, y_train.reshape(-1,1))\n",
    "sampler = Sampler(data, config.bs, shuffle=True)\n",
    "\n",
    "dl = Dataloader(data, sampler)\n",
    "\n",
    "opt = GD(config.lr)\n",
    "loss = MSE()"
   ]
  },
  {
   "cell_type": "code",
   "execution_count": 18,
   "id": "b275e4c2",
   "metadata": {
    "execution": {
     "iopub.execute_input": "2022-09-03T20:11:04.605027Z",
     "iopub.status.busy": "2022-09-03T20:11:04.604271Z",
     "iopub.status.idle": "2022-09-03T20:11:04.617710Z",
     "shell.execute_reply": "2022-09-03T20:11:04.617120Z"
    },
    "papermill": {
     "duration": 0.05466,
     "end_time": "2022-09-03T20:11:04.617828",
     "exception": false,
     "start_time": "2022-09-03T20:11:04.563168",
     "status": "completed"
    },
    "tags": []
   },
   "outputs": [],
   "source": [
    "training_data_x = X_train\n",
    "testing_data_x = X_test\n",
    "training_data_y = y_train.reshape(-1,1)\n",
    "testing_data_y = y_test.reshape(-1,1)"
   ]
  },
  {
   "cell_type": "code",
   "execution_count": 19,
   "id": "76951160",
   "metadata": {
    "execution": {
     "iopub.execute_input": "2022-09-03T20:11:04.685057Z",
     "iopub.status.busy": "2022-09-03T20:11:04.684325Z",
     "iopub.status.idle": "2022-09-03T20:11:04.703090Z",
     "shell.execute_reply": "2022-09-03T20:11:04.702552Z"
    },
    "papermill": {
     "duration": 0.053689,
     "end_time": "2022-09-03T20:11:04.703205",
     "exception": false,
     "start_time": "2022-09-03T20:11:04.649516",
     "status": "completed"
    },
    "tags": []
   },
   "outputs": [
    {
     "name": "stdout",
     "output_type": "stream",
     "text": [
      "xavier\n",
      "xavier\n",
      "xavier\n",
      "xavier\n",
      "xavier\n"
     ]
    }
   ],
   "source": [
    "layers = [Affine(\"first\", 784, 100), Relu(\"first\"), Affine(\"second\", 100, 100), Relu(\"second\"), Affine(\"third\", 100, 2), Affine(\"last\", 2, 1), Sigmoid(\"last\")]\n",
    "model_nn = Model(layers)\n",
    "model_lr = Model([Affine(\"logits\", 784, 1), Sigmoid(\"sigmoid\")])"
   ]
  },
  {
   "cell_type": "code",
   "execution_count": 20,
   "id": "6eede77a",
   "metadata": {
    "execution": {
     "iopub.execute_input": "2022-09-03T20:11:04.784133Z",
     "iopub.status.busy": "2022-09-03T20:11:04.781247Z",
     "iopub.status.idle": "2022-09-03T20:11:04.786842Z",
     "shell.execute_reply": "2022-09-03T20:11:04.787368Z"
    },
    "papermill": {
     "duration": 0.053426,
     "end_time": "2022-09-03T20:11:04.787499",
     "exception": false,
     "start_time": "2022-09-03T20:11:04.734073",
     "status": "completed"
    },
    "tags": []
   },
   "outputs": [],
   "source": [
    "nn_learner = Learner(loss, model_nn, opt, config.num_epochs)\n",
    "acc_nn = ClfCallback(nn_learner, config.bs, training_data_x , testing_data_x, training_data_y, testing_data_y)\n",
    "nn_learner.set_callbacks([acc_nn])"
   ]
  },
  {
   "cell_type": "code",
   "execution_count": 21,
   "id": "877b6cc7",
   "metadata": {
    "execution": {
     "iopub.execute_input": "2022-09-03T20:11:04.864322Z",
     "iopub.status.busy": "2022-09-03T20:11:04.852643Z",
     "iopub.status.idle": "2022-09-03T20:11:04.867844Z",
     "shell.execute_reply": "2022-09-03T20:11:04.867205Z"
    },
    "papermill": {
     "duration": 0.049075,
     "end_time": "2022-09-03T20:11:04.867955",
     "exception": false,
     "start_time": "2022-09-03T20:11:04.818880",
     "status": "completed"
    },
    "tags": []
   },
   "outputs": [],
   "source": [
    "lr_learner = Learner(loss, model_lr, opt, config.num_epochs)\n",
    "acc_lr = ClfCallback(lr_learner, config.bs, training_data_x , testing_data_x, training_data_y, testing_data_y)\n",
    "lr_learner.set_callbacks([acc_lr])"
   ]
  },
  {
   "cell_type": "code",
   "execution_count": 22,
   "id": "d9b133c3",
   "metadata": {
    "execution": {
     "iopub.execute_input": "2022-09-03T20:11:04.945144Z",
     "iopub.status.busy": "2022-09-03T20:11:04.932938Z",
     "iopub.status.idle": "2022-09-03T20:13:08.751924Z",
     "shell.execute_reply": "2022-09-03T20:13:08.752842Z"
    },
    "papermill": {
     "duration": 123.85416,
     "end_time": "2022-09-03T20:13:08.753006",
     "exception": false,
     "start_time": "2022-09-03T20:11:04.898846",
     "status": "completed"
    },
    "tags": []
   },
   "outputs": [
    {
     "name": "stdout",
     "output_type": "stream",
     "text": [
      "Epoch 0, Loss 0.2212\n",
      "Training Accuracy: 0.8015, Testing Accuracy: 0.8135\n",
      "\n"
     ]
    },
    {
     "name": "stdout",
     "output_type": "stream",
     "text": [
      "Epoch 10, Loss 0.071\n",
      "Training Accuracy: 0.9316, Testing Accuracy: 0.9400\n",
      "\n"
     ]
    },
    {
     "name": "stdout",
     "output_type": "stream",
     "text": [
      "Epoch 20, Loss 0.0473\n",
      "Training Accuracy: 0.9484, Testing Accuracy: 0.9592\n",
      "\n"
     ]
    },
    {
     "name": "stdout",
     "output_type": "stream",
     "text": [
      "Epoch 30, Loss 0.039\n",
      "Training Accuracy: 0.9547, Testing Accuracy: 0.9637\n",
      "\n"
     ]
    },
    {
     "name": "stdout",
     "output_type": "stream",
     "text": [
      "Epoch 40, Loss 0.0345\n",
      "Training Accuracy: 0.9610, Testing Accuracy: 0.9682\n",
      "\n"
     ]
    },
    {
     "name": "stdout",
     "output_type": "stream",
     "text": [
      "Epoch 50, Loss 0.0316\n",
      "Training Accuracy: 0.9645, Testing Accuracy: 0.9688\n",
      "\n"
     ]
    },
    {
     "name": "stdout",
     "output_type": "stream",
     "text": [
      "Epoch 60, Loss 0.0295\n",
      "Training Accuracy: 0.9670, Testing Accuracy: 0.9693\n",
      "\n"
     ]
    },
    {
     "name": "stdout",
     "output_type": "stream",
     "text": [
      "Epoch 70, Loss 0.0279\n",
      "Training Accuracy: 0.9686, Testing Accuracy: 0.9708\n",
      "\n"
     ]
    },
    {
     "name": "stdout",
     "output_type": "stream",
     "text": [
      "Epoch 80, Loss 0.0265\n",
      "Training Accuracy: 0.9703, Testing Accuracy: 0.9713\n",
      "\n"
     ]
    },
    {
     "name": "stdout",
     "output_type": "stream",
     "text": [
      "Epoch 90, Loss 0.0254\n",
      "Training Accuracy: 0.9715, Testing Accuracy: 0.9718\n",
      "\n"
     ]
    },
    {
     "name": "stdout",
     "output_type": "stream",
     "text": [
      "Epoch 100, Loss 0.0244\n",
      "Training Accuracy: 0.9725, Testing Accuracy: 0.9718\n",
      "\n"
     ]
    },
    {
     "name": "stdout",
     "output_type": "stream",
     "text": [
      "Epoch 110, Loss 0.0236\n",
      "Training Accuracy: 0.9735, Testing Accuracy: 0.9723\n",
      "\n"
     ]
    },
    {
     "name": "stdout",
     "output_type": "stream",
     "text": [
      "Epoch 120, Loss 0.0228\n",
      "Training Accuracy: 0.9745, Testing Accuracy: 0.9728\n",
      "\n"
     ]
    },
    {
     "name": "stdout",
     "output_type": "stream",
     "text": [
      "Epoch 130, Loss 0.0221\n",
      "Training Accuracy: 0.9754, Testing Accuracy: 0.9738\n",
      "\n"
     ]
    },
    {
     "name": "stdout",
     "output_type": "stream",
     "text": [
      "Epoch 140, Loss 0.0215\n",
      "Training Accuracy: 0.9759, Testing Accuracy: 0.9738\n",
      "\n"
     ]
    },
    {
     "name": "stdout",
     "output_type": "stream",
     "text": [
      "Epoch 150, Loss 0.0209\n",
      "Training Accuracy: 0.9765, Testing Accuracy: 0.9743\n",
      "\n"
     ]
    },
    {
     "name": "stdout",
     "output_type": "stream",
     "text": [
      "Epoch 160, Loss 0.0203\n",
      "Training Accuracy: 0.9770, Testing Accuracy: 0.9743\n",
      "\n"
     ]
    },
    {
     "name": "stdout",
     "output_type": "stream",
     "text": [
      "Epoch 170, Loss 0.0198\n",
      "Training Accuracy: 0.9781, Testing Accuracy: 0.9753\n",
      "\n"
     ]
    },
    {
     "name": "stdout",
     "output_type": "stream",
     "text": [
      "Epoch 180, Loss 0.0193\n",
      "Training Accuracy: 0.9786, Testing Accuracy: 0.9763\n",
      "\n"
     ]
    },
    {
     "name": "stdout",
     "output_type": "stream",
     "text": [
      "Epoch 190, Loss 0.0188\n",
      "Training Accuracy: 0.9796, Testing Accuracy: 0.9768\n",
      "\n"
     ]
    },
    {
     "name": "stdout",
     "output_type": "stream",
     "text": [
      "Epoch 200, Loss 0.0184\n",
      "Training Accuracy: 0.9799, Testing Accuracy: 0.9768\n",
      "\n"
     ]
    },
    {
     "name": "stdout",
     "output_type": "stream",
     "text": [
      "Epoch 210, Loss 0.0179\n",
      "Training Accuracy: 0.9805, Testing Accuracy: 0.9768\n",
      "\n"
     ]
    },
    {
     "name": "stdout",
     "output_type": "stream",
     "text": [
      "Epoch 220, Loss 0.0175\n",
      "Training Accuracy: 0.9815, Testing Accuracy: 0.9768\n",
      "\n"
     ]
    },
    {
     "name": "stdout",
     "output_type": "stream",
     "text": [
      "Epoch 230, Loss 0.0171\n",
      "Training Accuracy: 0.9818, Testing Accuracy: 0.9773\n",
      "\n"
     ]
    },
    {
     "name": "stdout",
     "output_type": "stream",
     "text": [
      "Epoch 240, Loss 0.0167\n",
      "Training Accuracy: 0.9826, Testing Accuracy: 0.9773\n",
      "\n"
     ]
    },
    {
     "data": {
      "text/plain": [
       "0.011370122134183628"
      ]
     },
     "execution_count": 22,
     "metadata": {},
     "output_type": "execute_result"
    }
   ],
   "source": [
    "nn_learner.train_loop(dl)"
   ]
  },
  {
   "cell_type": "code",
   "execution_count": 23,
   "id": "e0163366",
   "metadata": {
    "execution": {
     "iopub.execute_input": "2022-09-03T20:13:08.846731Z",
     "iopub.status.busy": "2022-09-03T20:13:08.846085Z",
     "iopub.status.idle": "2022-09-03T20:13:26.737805Z",
     "shell.execute_reply": "2022-09-03T20:13:26.738769Z"
    },
    "papermill": {
     "duration": 17.942697,
     "end_time": "2022-09-03T20:13:26.738933",
     "exception": false,
     "start_time": "2022-09-03T20:13:08.796236",
     "status": "completed"
    },
    "tags": []
   },
   "outputs": [
    {
     "name": "stdout",
     "output_type": "stream",
     "text": [
      "Epoch 0, Loss 0.2473\n",
      "Training Accuracy: 0.6890, Testing Accuracy: 0.6804\n",
      "\n"
     ]
    },
    {
     "name": "stdout",
     "output_type": "stream",
     "text": [
      "Epoch 10, Loss 0.1019\n",
      "Training Accuracy: 0.9116, Testing Accuracy: 0.9183\n",
      "\n"
     ]
    },
    {
     "name": "stdout",
     "output_type": "stream",
     "text": [
      "Epoch 20, Loss 0.0786\n",
      "Training Accuracy: 0.9289, Testing Accuracy: 0.9370\n",
      "\n"
     ]
    },
    {
     "name": "stdout",
     "output_type": "stream",
     "text": [
      "Epoch 30, Loss 0.0679\n",
      "Training Accuracy: 0.9367, Testing Accuracy: 0.9451\n",
      "\n"
     ]
    },
    {
     "name": "stdout",
     "output_type": "stream",
     "text": [
      "Epoch 40, Loss 0.0615\n",
      "Training Accuracy: 0.9415, Testing Accuracy: 0.9491\n",
      "\n"
     ]
    },
    {
     "name": "stdout",
     "output_type": "stream",
     "text": [
      "Epoch 50, Loss 0.0571\n",
      "Training Accuracy: 0.9464, Testing Accuracy: 0.9521\n",
      "\n"
     ]
    },
    {
     "name": "stdout",
     "output_type": "stream",
     "text": [
      "Epoch 60, Loss 0.0538\n",
      "Training Accuracy: 0.9489, Testing Accuracy: 0.9556\n",
      "\n"
     ]
    },
    {
     "name": "stdout",
     "output_type": "stream",
     "text": [
      "Epoch 70, Loss 0.0513\n",
      "Training Accuracy: 0.9503, Testing Accuracy: 0.9567\n",
      "\n"
     ]
    },
    {
     "name": "stdout",
     "output_type": "stream",
     "text": [
      "Epoch 80, Loss 0.0493\n",
      "Training Accuracy: 0.9518, Testing Accuracy: 0.9577\n",
      "\n"
     ]
    },
    {
     "name": "stdout",
     "output_type": "stream",
     "text": [
      "Epoch 90, Loss 0.0476\n",
      "Training Accuracy: 0.9530, Testing Accuracy: 0.9587\n",
      "\n"
     ]
    },
    {
     "name": "stdout",
     "output_type": "stream",
     "text": [
      "Epoch 100, Loss 0.0462\n",
      "Training Accuracy: 0.9535, Testing Accuracy: 0.9602\n",
      "\n"
     ]
    },
    {
     "name": "stdout",
     "output_type": "stream",
     "text": [
      "Epoch 110, Loss 0.045\n",
      "Training Accuracy: 0.9538, Testing Accuracy: 0.9607\n",
      "\n"
     ]
    },
    {
     "name": "stdout",
     "output_type": "stream",
     "text": [
      "Epoch 120, Loss 0.0439\n",
      "Training Accuracy: 0.9544, Testing Accuracy: 0.9612\n",
      "\n"
     ]
    },
    {
     "name": "stdout",
     "output_type": "stream",
     "text": [
      "Epoch 130, Loss 0.043\n",
      "Training Accuracy: 0.9559, Testing Accuracy: 0.9612\n",
      "\n"
     ]
    },
    {
     "name": "stdout",
     "output_type": "stream",
     "text": [
      "Epoch 140, Loss 0.0421\n",
      "Training Accuracy: 0.9567, Testing Accuracy: 0.9622\n",
      "\n"
     ]
    },
    {
     "name": "stdout",
     "output_type": "stream",
     "text": [
      "Epoch 150, Loss 0.0414\n",
      "Training Accuracy: 0.9572, Testing Accuracy: 0.9627\n",
      "\n"
     ]
    },
    {
     "name": "stdout",
     "output_type": "stream",
     "text": [
      "Epoch 160, Loss 0.0407\n",
      "Training Accuracy: 0.9576, Testing Accuracy: 0.9637\n",
      "\n"
     ]
    },
    {
     "name": "stdout",
     "output_type": "stream",
     "text": [
      "Epoch 170, Loss 0.0401\n",
      "Training Accuracy: 0.9585, Testing Accuracy: 0.9647\n",
      "\n"
     ]
    },
    {
     "name": "stdout",
     "output_type": "stream",
     "text": [
      "Epoch 180, Loss 0.0395\n",
      "Training Accuracy: 0.9589, Testing Accuracy: 0.9657\n",
      "\n"
     ]
    },
    {
     "name": "stdout",
     "output_type": "stream",
     "text": [
      "Epoch 190, Loss 0.039\n",
      "Training Accuracy: 0.9593, Testing Accuracy: 0.9657\n",
      "\n"
     ]
    },
    {
     "name": "stdout",
     "output_type": "stream",
     "text": [
      "Epoch 200, Loss 0.0385\n",
      "Training Accuracy: 0.9595, Testing Accuracy: 0.9662\n",
      "\n"
     ]
    },
    {
     "name": "stdout",
     "output_type": "stream",
     "text": [
      "Epoch 210, Loss 0.0381\n",
      "Training Accuracy: 0.9601, Testing Accuracy: 0.9657\n",
      "\n"
     ]
    },
    {
     "name": "stdout",
     "output_type": "stream",
     "text": [
      "Epoch 220, Loss 0.0377\n",
      "Training Accuracy: 0.9609, Testing Accuracy: 0.9657\n",
      "\n"
     ]
    },
    {
     "name": "stdout",
     "output_type": "stream",
     "text": [
      "Epoch 230, Loss 0.0373\n",
      "Training Accuracy: 0.9611, Testing Accuracy: 0.9657\n",
      "\n"
     ]
    },
    {
     "name": "stdout",
     "output_type": "stream",
     "text": [
      "Epoch 240, Loss 0.0369\n",
      "Training Accuracy: 0.9617, Testing Accuracy: 0.9657\n",
      "\n"
     ]
    },
    {
     "data": {
      "text/plain": [
       "0.033889234997783554"
      ]
     },
     "execution_count": 23,
     "metadata": {},
     "output_type": "execute_result"
    }
   ],
   "source": [
    "lr_learner.train_loop(dl)"
   ]
  },
  {
   "cell_type": "code",
   "execution_count": 24,
   "id": "ca410940",
   "metadata": {
    "execution": {
     "iopub.execute_input": "2022-09-03T20:13:26.854162Z",
     "iopub.status.busy": "2022-09-03T20:13:26.853406Z",
     "iopub.status.idle": "2022-09-03T20:13:27.135392Z",
     "shell.execute_reply": "2022-09-03T20:13:27.136081Z"
    },
    "papermill": {
     "duration": 0.347648,
     "end_time": "2022-09-03T20:13:27.136263",
     "exception": false,
     "start_time": "2022-09-03T20:13:26.788615",
     "status": "completed"
    },
    "tags": []
   },
   "outputs": [
    {
     "data": {
      "text/plain": [
       "<matplotlib.legend.Legend at 0x7f34d985c438>"
      ]
     },
     "execution_count": 24,
     "metadata": {},
     "output_type": "execute_result"
    },
    {
     "data": {
      "image/png": "[encoded data removed]",
      "text/plain": [
       "<Figure size 1080x720 with 1 Axes>"
      ]
     },
     "metadata": {
      "needs_background": "light"
     },
     "output_type": "display_data"
    }
   ],
   "source": [
    "#comparing the results of NN and LR\n",
    "plt.figure(figsize=(15,10))\n",
    "\n",
    "# Neural Network plots\n",
    "plt.plot(acc_nn.accuracies, 'r-', label = \"Training Accuracies - NN\")\n",
    "plt.plot(acc_nn.test_accuracies, 'g-', label = \"Testing Accuracies - NN\")\n",
    "\n",
    "# Logistic Regression plots\n",
    "plt.plot(acc_lr.accuracies, 'k-', label = \"Training Accuracies - LR\")\n",
    "plt.plot(acc_lr.test_accuracies, 'b-', label = \"Testing Accuracies - LR\")\n",
    "plt.legend()"
   ]
  },
  {
   "cell_type": "markdown",
   "id": "80dfb35c",
   "metadata": {
    "papermill": {
     "duration": 0.051773,
     "end_time": "2022-09-03T20:13:27.240286",
     "exception": false,
     "start_time": "2022-09-03T20:13:27.188513",
     "status": "completed"
    },
    "tags": []
   },
   "source": [
    "#### Plotting the outputs of this layer of the NN.\n"
   ]
  },
  {
   "cell_type": "code",
   "execution_count": 25,
   "id": "45eb2ff5",
   "metadata": {
    "execution": {
     "iopub.execute_input": "2022-09-03T20:13:27.350200Z",
     "iopub.status.busy": "2022-09-03T20:13:27.349525Z",
     "iopub.status.idle": "2022-09-03T20:13:27.375600Z",
     "shell.execute_reply": "2022-09-03T20:13:27.376496Z"
    },
    "papermill": {
     "duration": 0.083371,
     "end_time": "2022-09-03T20:13:27.376662",
     "exception": false,
     "start_time": "2022-09-03T20:13:27.293291",
     "status": "completed"
    },
    "tags": []
   },
   "outputs": [],
   "source": [
    "new_model = Model(layers[:-2])\n",
    "testing_plot = new_model(testing_data_x)"
   ]
  },
  {
   "cell_type": "code",
   "execution_count": 26,
   "id": "4c0a5485",
   "metadata": {
    "execution": {
     "iopub.execute_input": "2022-09-03T20:13:27.484189Z",
     "iopub.status.busy": "2022-09-03T20:13:27.483523Z",
     "iopub.status.idle": "2022-09-03T20:13:27.727320Z",
     "shell.execute_reply": "2022-09-03T20:13:27.727822Z"
    },
    "papermill": {
     "duration": 0.300907,
     "end_time": "2022-09-03T20:13:27.728005",
     "exception": false,
     "start_time": "2022-09-03T20:13:27.427098",
     "status": "completed"
    },
    "tags": []
   },
   "outputs": [
    {
     "data": {
      "text/plain": [
       "Text(0.5, 1.0, 'Outputs')"
      ]
     },
     "execution_count": 26,
     "metadata": {},
     "output_type": "execute_result"
    },
    {
     "data": {
      "image/png": "[encoded data removed]",
      "text/plain": [
       "<Figure size 576x504 with 1 Axes>"
      ]
     },
     "metadata": {
      "needs_background": "light"
     },
     "output_type": "display_data"
    }
   ],
   "source": [
    "# Plotting the scatter plot of points and color coding by class\n",
    "plt.figure(figsize=(8,7))\n",
    "plt.scatter(testing_plot[:,0], testing_plot[:,1], alpha = 0.1, c = y_test.ravel());\n",
    "plt.title('Outputs')"
   ]
  },
  {
   "cell_type": "markdown",
   "id": "a74fcf8f",
   "metadata": {
    "papermill": {
     "duration": 0.074559,
     "end_time": "2022-09-03T20:13:27.856305",
     "exception": false,
     "start_time": "2022-09-03T20:13:27.781746",
     "status": "completed"
    },
    "tags": []
   },
   "source": [
    "Probability contours"
   ]
  },
  {
   "cell_type": "code",
   "execution_count": 27,
   "id": "d0afc8e3",
   "metadata": {
    "execution": {
     "iopub.execute_input": "2022-09-03T20:13:27.966297Z",
     "iopub.status.busy": "2022-09-03T20:13:27.965638Z",
     "iopub.status.idle": "2022-09-03T20:13:27.980550Z",
     "shell.execute_reply": "2022-09-03T20:13:27.981112Z"
    },
    "papermill": {
     "duration": 0.070241,
     "end_time": "2022-09-03T20:13:27.981256",
     "exception": false,
     "start_time": "2022-09-03T20:13:27.911015",
     "status": "completed"
    },
    "tags": []
   },
   "outputs": [],
   "source": [
    "model_prob = Model(layers[-2:]) "
   ]
  },
  {
   "cell_type": "code",
   "execution_count": 28,
   "id": "9b96e238",
   "metadata": {
    "execution": {
     "iopub.execute_input": "2022-09-03T20:13:28.091477Z",
     "iopub.status.busy": "2022-09-03T20:13:28.090817Z",
     "iopub.status.idle": "2022-09-03T20:13:28.111502Z",
     "shell.execute_reply": "2022-09-03T20:13:28.112062Z"
    },
    "papermill": {
     "duration": 0.079973,
     "end_time": "2022-09-03T20:13:28.112244",
     "exception": false,
     "start_time": "2022-09-03T20:13:28.032271",
     "status": "completed"
    },
    "tags": []
   },
   "outputs": [],
   "source": [
    "#creating the x and y ranges according to the above generated plot.\n",
    "x_range = np.linspace(-4, 1, 100) \n",
    "y_range = np.linspace(-6, 6, 100) \n",
    "x_grid, y_grid = np.meshgrid(x_range, y_range) # x_grid and y_grig are of size 100 X 100\n",
    "\n",
    "# converting x_grid and y_grid to continuous arrays\n",
    "x_gridflat = np.ravel(x_grid)\n",
    "y_gridflat = np.ravel(y_grid)\n",
    "\n",
    "# The last layer of the current model takes two columns as input. Hence transpose of np.vstack() is required.\n",
    "X = np.vstack((x_gridflat, y_gridflat)).T\n",
    "\n",
    "prob_contour = model_prob(X).reshape(100,100) "
   ]
  },
  {
   "cell_type": "code",
   "execution_count": 29,
   "id": "da72499a",
   "metadata": {
    "execution": {
     "iopub.execute_input": "2022-09-03T20:13:28.243097Z",
     "iopub.status.busy": "2022-09-03T20:13:28.229080Z",
     "iopub.status.idle": "2022-09-03T20:13:28.531283Z",
     "shell.execute_reply": "2022-09-03T20:13:28.531775Z"
    },
    "papermill": {
     "duration": 0.365662,
     "end_time": "2022-09-03T20:13:28.531941",
     "exception": false,
     "start_time": "2022-09-03T20:13:28.166279",
     "status": "completed"
    },
    "tags": []
   },
   "outputs": [
    {
     "data": {
      "image/png": "[encoded data removed]",
      "text/plain": [
       "<Figure size 720x648 with 1 Axes>"
      ]
     },
     "metadata": {
      "needs_background": "light"
     },
     "output_type": "display_data"
    }
   ],
   "source": [
    "plt.figure(figsize=(10,9))\n",
    "plt.scatter(testing_plot[:,0], testing_plot[:,1], alpha = 0.1, c = y_test.ravel())\n",
    "contours = plt.contour(x_grid,y_grid,prob_contour)\n",
    "plt.title('Probability Contours')\n",
    "plt.clabel(contours, inline = True );"
   ]
  },
  {
   "cell_type": "code",
   "execution_count": null,
   "id": "e81b4ac7",
   "metadata": {
    "papermill": {
     "duration": 0.054539,
     "end_time": "2022-09-03T20:13:28.641028",
     "exception": false,
     "start_time": "2022-09-03T20:13:28.586489",
     "status": "completed"
    },
    "tags": []
   },
   "outputs": [],
   "source": []
  }
 ],
 "metadata": {
  "kernelspec": {
   "display_name": "Python 3",
   "language": "python",
   "name": "python3"
  },
  "language_info": {
   "codemirror_mode": {
    "name": "ipython",
    "version": 3
   },
   "file_extension": ".py",
   "mimetype": "text/x-python",
   "name": "python",
   "nbconvert_exporter": "python",
   "pygments_lexer": "ipython3",
   "version": "3.6.15"
  },
  "papermill": {
   "default_parameters": {},
   "duration": 151.220907,
   "end_time": "2022-09-03T20:13:29.115499",
   "environment_variables": {},
   "exception": null,
   "input_path": "2020-08-11-part2.ipynb",
   "output_path": "2020-08-11-part2.ipynb",
   "parameters": {},
   "start_time": "2022-09-03T20:10:57.894592",
   "version": "2.3.3"
  }
 },
 "nbformat": 4,
 "nbformat_minor": 5
}