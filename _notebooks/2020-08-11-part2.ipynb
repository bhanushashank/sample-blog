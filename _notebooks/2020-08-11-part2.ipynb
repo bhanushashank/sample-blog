{
 "cells": [
  {
   "cell_type": "markdown",
   "id": "98380cd3",
   "metadata": {
    "papermill": {
     "duration": 0.031857,
     "end_time": "2021-08-28T00:19:19.125797",
     "exception": false,
     "start_time": "2021-08-28T00:19:19.093940",
     "status": "completed"
    },
    "tags": []
   },
   "source": [
    "# Distinguish Your Own Digits (DYOD)"
   ]
  },
  {
   "cell_type": "markdown",
   "id": "ef31240d",
   "metadata": {
    "papermill": {
     "duration": 0.028328,
     "end_time": "2021-08-28T00:19:19.183542",
     "exception": false,
     "start_time": "2021-08-28T00:19:19.155214",
     "status": "completed"
    },
    "tags": []
   },
   "source": [
    "You are going to write a classifier that distinguishes between the number 3 and number 8."
   ]
  },
  {
   "cell_type": "code",
   "execution_count": 1,
   "id": "b15c8646",
   "metadata": {
    "execution": {
     "iopub.execute_input": "2021-08-28T00:19:19.247227Z",
     "iopub.status.busy": "2021-08-28T00:19:19.246657Z",
     "iopub.status.idle": "2021-08-28T00:19:19.257412Z",
     "shell.execute_reply": "2021-08-28T00:19:19.258047Z"
    },
    "papermill": {
     "duration": 0.04757,
     "end_time": "2021-08-28T00:19:19.258586",
     "exception": false,
     "start_time": "2021-08-28T00:19:19.211016",
     "status": "completed"
    },
    "tags": []
   },
   "outputs": [],
   "source": [
    "%load_ext autoreload\n",
    "%autoreload 2"
   ]
  },
  {
   "cell_type": "code",
   "execution_count": 2,
   "id": "22ef38dc",
   "metadata": {
    "execution": {
     "iopub.execute_input": "2021-08-28T00:19:19.318659Z",
     "iopub.status.busy": "2021-08-28T00:19:19.318055Z",
     "iopub.status.idle": "2021-08-28T00:19:19.861411Z",
     "shell.execute_reply": "2021-08-28T00:19:19.860883Z"
    },
    "papermill": {
     "duration": 0.576262,
     "end_time": "2021-08-28T00:19:19.861549",
     "exception": false,
     "start_time": "2021-08-28T00:19:19.285287",
     "status": "completed"
    },
    "tags": []
   },
   "outputs": [],
   "source": [
    "%matplotlib inline\n",
    "import numpy as np\n",
    "import matplotlib.pyplot as plt\n",
    "import pandas as pd"
   ]
  },
  {
   "cell_type": "markdown",
   "id": "ba036198",
   "metadata": {
    "papermill": {
     "duration": 0.02792,
     "end_time": "2021-08-28T00:19:19.916265",
     "exception": false,
     "start_time": "2021-08-28T00:19:19.888345",
     "status": "completed"
    },
    "tags": []
   },
   "source": [
    "From the command line run `pip install mnist`. This is a library that will help you bring down the mnist dataset. If you run this from a notebook, you need to put  `!pip install mnist` in a cell by itself."
   ]
  },
  {
   "cell_type": "code",
   "execution_count": 3,
   "id": "bb6ad8a1",
   "metadata": {
    "execution": {
     "iopub.execute_input": "2021-08-28T00:19:19.979745Z",
     "iopub.status.busy": "2021-08-28T00:19:19.979113Z",
     "iopub.status.idle": "2021-08-28T00:19:22.820561Z",
     "shell.execute_reply": "2021-08-28T00:19:22.820010Z"
    },
    "papermill": {
     "duration": 2.877618,
     "end_time": "2021-08-28T00:19:22.820699",
     "exception": false,
     "start_time": "2021-08-28T00:19:19.943081",
     "status": "completed"
    },
    "tags": []
   },
   "outputs": [
    {
     "name": "stdout",
     "output_type": "stream",
     "text": [
      "Collecting mnist\r\n"
     ]
    },
    {
     "name": "stdout",
     "output_type": "stream",
     "text": [
      "  Downloading mnist-0.2.2-py2.py3-none-any.whl (3.5 kB)\r\n",
      "Requirement already satisfied: numpy in /opt/hostedtoolcache/Python/3.6.14/x64/lib/python3.6/site-packages (from mnist) (1.19.5)\r\n"
     ]
    },
    {
     "name": "stdout",
     "output_type": "stream",
     "text": [
      "Installing collected packages: mnist\r\n"
     ]
    },
    {
     "name": "stdout",
     "output_type": "stream",
     "text": [
      "Successfully installed mnist-0.2.2\r\n"
     ]
    }
   ],
   "source": [
    "!pip install mnist"
   ]
  },
  {
   "cell_type": "markdown",
   "id": "69df9c9a",
   "metadata": {
    "papermill": {
     "duration": 0.0282,
     "end_time": "2021-08-28T00:19:22.879398",
     "exception": false,
     "start_time": "2021-08-28T00:19:22.851198",
     "status": "completed"
    },
    "tags": []
   },
   "source": [
    "## Preparing the Data"
   ]
  },
  {
   "cell_type": "code",
   "execution_count": 4,
   "id": "7f69d806",
   "metadata": {
    "execution": {
     "iopub.execute_input": "2021-08-28T00:19:22.955468Z",
     "iopub.status.busy": "2021-08-28T00:19:22.947360Z",
     "iopub.status.idle": "2021-08-28T00:19:22.958054Z",
     "shell.execute_reply": "2021-08-28T00:19:22.958628Z"
    },
    "papermill": {
     "duration": 0.051761,
     "end_time": "2021-08-28T00:19:22.958752",
     "exception": false,
     "start_time": "2021-08-28T00:19:22.906991",
     "status": "completed"
    },
    "tags": []
   },
   "outputs": [],
   "source": [
    "import mnist"
   ]
  },
  {
   "cell_type": "code",
   "execution_count": 5,
   "id": "a411e44f",
   "metadata": {
    "execution": {
     "iopub.execute_input": "2021-08-28T00:19:23.017775Z",
     "iopub.status.busy": "2021-08-28T00:19:23.017174Z",
     "iopub.status.idle": "2021-08-28T00:19:23.733055Z",
     "shell.execute_reply": "2021-08-28T00:19:23.732489Z"
    },
    "papermill": {
     "duration": 0.746113,
     "end_time": "2021-08-28T00:19:23.733190",
     "exception": false,
     "start_time": "2021-08-28T00:19:22.987077",
     "status": "completed"
    },
    "tags": []
   },
   "outputs": [],
   "source": [
    "train_images = mnist.train_images()\n",
    "train_labels = mnist.train_labels()"
   ]
  },
  {
   "cell_type": "code",
   "execution_count": 6,
   "id": "dceab3a5",
   "metadata": {
    "execution": {
     "iopub.execute_input": "2021-08-28T00:19:23.806598Z",
     "iopub.status.busy": "2021-08-28T00:19:23.806007Z",
     "iopub.status.idle": "2021-08-28T00:19:23.817999Z",
     "shell.execute_reply": "2021-08-28T00:19:23.818577Z"
    },
    "papermill": {
     "duration": 0.047927,
     "end_time": "2021-08-28T00:19:23.818704",
     "exception": false,
     "start_time": "2021-08-28T00:19:23.770777",
     "status": "completed"
    },
    "tags": []
   },
   "outputs": [
    {
     "data": {
      "text/plain": [
       "((60000, 28, 28), (60000,))"
      ]
     },
     "execution_count": 6,
     "metadata": {},
     "output_type": "execute_result"
    }
   ],
   "source": [
    "train_images.shape, train_labels.shape"
   ]
  },
  {
   "cell_type": "code",
   "execution_count": 7,
   "id": "f50dc2bb",
   "metadata": {
    "execution": {
     "iopub.execute_input": "2021-08-28T00:19:23.892337Z",
     "iopub.status.busy": "2021-08-28T00:19:23.887071Z",
     "iopub.status.idle": "2021-08-28T00:19:24.096784Z",
     "shell.execute_reply": "2021-08-28T00:19:24.096275Z"
    },
    "papermill": {
     "duration": 0.250195,
     "end_time": "2021-08-28T00:19:24.096920",
     "exception": false,
     "start_time": "2021-08-28T00:19:23.846725",
     "status": "completed"
    },
    "tags": []
   },
   "outputs": [],
   "source": [
    "test_images = mnist.test_images()\n",
    "test_labels = mnist.test_labels()"
   ]
  },
  {
   "cell_type": "code",
   "execution_count": 8,
   "id": "fc38cf1b",
   "metadata": {
    "execution": {
     "iopub.execute_input": "2021-08-28T00:19:24.175808Z",
     "iopub.status.busy": "2021-08-28T00:19:24.175236Z",
     "iopub.status.idle": "2021-08-28T00:19:24.185397Z",
     "shell.execute_reply": "2021-08-28T00:19:24.185902Z"
    },
    "papermill": {
     "duration": 0.05393,
     "end_time": "2021-08-28T00:19:24.186026",
     "exception": false,
     "start_time": "2021-08-28T00:19:24.132096",
     "status": "completed"
    },
    "tags": []
   },
   "outputs": [
    {
     "data": {
      "text/plain": [
       "((10000, 28, 28), (10000,))"
      ]
     },
     "execution_count": 8,
     "metadata": {},
     "output_type": "execute_result"
    }
   ],
   "source": [
    "test_images.shape, test_labels.shape"
   ]
  },
  {
   "cell_type": "code",
   "execution_count": 9,
   "id": "f9ed8fe0",
   "metadata": {
    "execution": {
     "iopub.execute_input": "2021-08-28T00:19:24.250929Z",
     "iopub.status.busy": "2021-08-28T00:19:24.249752Z",
     "iopub.status.idle": "2021-08-28T00:19:24.414120Z",
     "shell.execute_reply": "2021-08-28T00:19:24.414646Z"
    },
    "papermill": {
     "duration": 0.198791,
     "end_time": "2021-08-28T00:19:24.414825",
     "exception": false,
     "start_time": "2021-08-28T00:19:24.216034",
     "status": "completed"
    },
    "tags": []
   },
   "outputs": [
    {
     "name": "stdout",
     "output_type": "stream",
     "text": [
      "2\n"
     ]
    },
    {
     "data": {
      "text/plain": [
       "<matplotlib.image.AxesImage at 0x7f73a8120940>"
      ]
     },
     "execution_count": 9,
     "metadata": {},
     "output_type": "execute_result"
    },
    {
     "data": {
      "image/png": "[encoded data removed]",
      "text/plain": [
       "<Figure size 432x288 with 1 Axes>"
      ]
     },
     "metadata": {
      "needs_background": "light"
     },
     "output_type": "display_data"
    }
   ],
   "source": [
    "image_index = 7776 # You may select anything up to 60,000\n",
    "print(train_labels[image_index]) \n",
    "plt.imshow(train_images[image_index], cmap='Greys')"
   ]
  },
  {
   "cell_type": "markdown",
   "id": "a8d2388d",
   "metadata": {
    "papermill": {
     "duration": 0.031134,
     "end_time": "2021-08-28T00:19:24.476000",
     "exception": false,
     "start_time": "2021-08-28T00:19:24.444866",
     "status": "completed"
    },
    "tags": []
   },
   "source": [
    "## Filter data to get 3 and 8 out"
   ]
  },
  {
   "cell_type": "code",
   "execution_count": 10,
   "id": "776f7fc7",
   "metadata": {
    "execution": {
     "iopub.execute_input": "2021-08-28T00:19:24.552202Z",
     "iopub.status.busy": "2021-08-28T00:19:24.551152Z",
     "iopub.status.idle": "2021-08-28T00:19:24.565651Z",
     "shell.execute_reply": "2021-08-28T00:19:24.566133Z"
    },
    "papermill": {
     "duration": 0.05847,
     "end_time": "2021-08-28T00:19:24.566293",
     "exception": false,
     "start_time": "2021-08-28T00:19:24.507823",
     "status": "completed"
    },
    "tags": []
   },
   "outputs": [],
   "source": [
    "train_filter = np.where((train_labels == 3 ) | (train_labels == 8))\n",
    "test_filter = np.where((test_labels == 3) | (test_labels == 8))\n",
    "X_train, y_train = train_images[train_filter], train_labels[train_filter]\n",
    "X_test, y_test = test_images[test_filter], test_labels[test_filter]"
   ]
  },
  {
   "cell_type": "markdown",
   "id": "948f0b7e",
   "metadata": {
    "papermill": {
     "duration": 0.030866,
     "end_time": "2021-08-28T00:19:24.628204",
     "exception": false,
     "start_time": "2021-08-28T00:19:24.597338",
     "status": "completed"
    },
    "tags": []
   },
   "source": [
    "We normalize the pizel values in the 0 to 1 range"
   ]
  },
  {
   "cell_type": "code",
   "execution_count": 11,
   "id": "ee4c2166",
   "metadata": {
    "execution": {
     "iopub.execute_input": "2021-08-28T00:19:24.704955Z",
     "iopub.status.busy": "2021-08-28T00:19:24.694025Z",
     "iopub.status.idle": "2021-08-28T00:19:24.756858Z",
     "shell.execute_reply": "2021-08-28T00:19:24.756350Z"
    },
    "papermill": {
     "duration": 0.098705,
     "end_time": "2021-08-28T00:19:24.756993",
     "exception": false,
     "start_time": "2021-08-28T00:19:24.658288",
     "status": "completed"
    },
    "tags": []
   },
   "outputs": [],
   "source": [
    "X_train = X_train/255.\n",
    "X_test = X_test/255."
   ]
  },
  {
   "cell_type": "markdown",
   "id": "ddcf4fab",
   "metadata": {
    "papermill": {
     "duration": 0.030338,
     "end_time": "2021-08-28T00:19:24.817197",
     "exception": false,
     "start_time": "2021-08-28T00:19:24.786859",
     "status": "completed"
    },
    "tags": []
   },
   "source": [
    "And setup the labels as 1 (when the digit is 3) and 0 (when the digit is 8)"
   ]
  },
  {
   "cell_type": "code",
   "execution_count": 12,
   "id": "7dc908f2",
   "metadata": {
    "execution": {
     "iopub.execute_input": "2021-08-28T00:19:24.880954Z",
     "iopub.status.busy": "2021-08-28T00:19:24.880376Z",
     "iopub.status.idle": "2021-08-28T00:19:24.893273Z",
     "shell.execute_reply": "2021-08-28T00:19:24.892816Z"
    },
    "papermill": {
     "duration": 0.045029,
     "end_time": "2021-08-28T00:19:24.893381",
     "exception": false,
     "start_time": "2021-08-28T00:19:24.848352",
     "status": "completed"
    },
    "tags": []
   },
   "outputs": [],
   "source": [
    "y_train = 1*(y_train==3)\n",
    "y_test = 1*(y_test==3)"
   ]
  },
  {
   "cell_type": "code",
   "execution_count": 13,
   "id": "01e4e969",
   "metadata": {
    "execution": {
     "iopub.execute_input": "2021-08-28T00:19:24.974404Z",
     "iopub.status.busy": "2021-08-28T00:19:24.967593Z",
     "iopub.status.idle": "2021-08-28T00:19:24.977597Z",
     "shell.execute_reply": "2021-08-28T00:19:24.978103Z"
    },
    "papermill": {
     "duration": 0.052719,
     "end_time": "2021-08-28T00:19:24.978249",
     "exception": false,
     "start_time": "2021-08-28T00:19:24.925530",
     "status": "completed"
    },
    "tags": []
   },
   "outputs": [
    {
     "data": {
      "text/plain": [
       "((11982, 28, 28), (1984, 28, 28))"
      ]
     },
     "execution_count": 13,
     "metadata": {},
     "output_type": "execute_result"
    }
   ],
   "source": [
    "X_train.shape, X_test.shape"
   ]
  },
  {
   "cell_type": "markdown",
   "id": "5ccf3f85",
   "metadata": {
    "papermill": {
     "duration": 0.030239,
     "end_time": "2021-08-28T00:19:25.038726",
     "exception": false,
     "start_time": "2021-08-28T00:19:25.008487",
     "status": "completed"
    },
    "tags": []
   },
   "source": [
    "We reshape the data to flatten the image pixels into a set of features or co-variates:"
   ]
  },
  {
   "cell_type": "code",
   "execution_count": 14,
   "id": "5286a4a3",
   "metadata": {
    "execution": {
     "iopub.execute_input": "2021-08-28T00:19:25.121100Z",
     "iopub.status.busy": "2021-08-28T00:19:25.111594Z",
     "iopub.status.idle": "2021-08-28T00:19:25.124117Z",
     "shell.execute_reply": "2021-08-28T00:19:25.124605Z"
    },
    "papermill": {
     "duration": 0.05181,
     "end_time": "2021-08-28T00:19:25.124738",
     "exception": false,
     "start_time": "2021-08-28T00:19:25.072928",
     "status": "completed"
    },
    "tags": []
   },
   "outputs": [
    {
     "data": {
      "text/plain": [
       "((11982, 784), (1984, 784))"
      ]
     },
     "execution_count": 14,
     "metadata": {},
     "output_type": "execute_result"
    }
   ],
   "source": [
    "X_train = X_train.reshape(X_train.shape[0], -1)\n",
    "X_test = X_test.reshape(X_test.shape[0], -1)\n",
    "X_train.shape, X_test.shape"
   ]
  },
  {
   "cell_type": "code",
   "execution_count": 15,
   "id": "73c5f88a",
   "metadata": {
    "execution": {
     "iopub.execute_input": "2021-08-28T00:19:25.197106Z",
     "iopub.status.busy": "2021-08-28T00:19:25.196477Z",
     "iopub.status.idle": "2021-08-28T00:19:25.215153Z",
     "shell.execute_reply": "2021-08-28T00:19:25.214639Z"
    },
    "papermill": {
     "duration": 0.059452,
     "end_time": "2021-08-28T00:19:25.215272",
     "exception": false,
     "start_time": "2021-08-28T00:19:25.155820",
     "status": "completed"
    },
    "tags": []
   },
   "outputs": [],
   "source": [
    "#Impoting functions from 'Kudzu'\n",
    "from kudzu.model import Model\n",
    "from kudzu.train import Learner\n",
    "from kudzu.optim import GD\n",
    "from kudzu.data import Data, Sampler,Dataloader\n",
    "\n",
    "from kudzu.callbacks import AccCallback\n",
    "from kudzu.callbacks import ClfCallback\n",
    "\n",
    "from kudzu.loss import MSE\n",
    "\n",
    "from kudzu.layer import Sigmoid,Relu\n",
    "from kudzu.layer import Affine"
   ]
  },
  {
   "cell_type": "markdown",
   "id": "bc01172a",
   "metadata": {
    "papermill": {
     "duration": 0.034219,
     "end_time": "2021-08-28T00:19:25.280377",
     "exception": false,
     "start_time": "2021-08-28T00:19:25.246158",
     "status": "completed"
    },
    "tags": []
   },
   "source": [
    "### Let us create a `Config` class, to store important parameters. \n",
    "This class essentially plays the role of a dictionary."
   ]
  },
  {
   "cell_type": "code",
   "execution_count": 16,
   "id": "978281aa",
   "metadata": {
    "execution": {
     "iopub.execute_input": "2021-08-28T00:19:25.360371Z",
     "iopub.status.busy": "2021-08-28T00:19:25.359695Z",
     "iopub.status.idle": "2021-08-28T00:19:25.364512Z",
     "shell.execute_reply": "2021-08-28T00:19:25.365062Z"
    },
    "papermill": {
     "duration": 0.052897,
     "end_time": "2021-08-28T00:19:25.365215",
     "exception": false,
     "start_time": "2021-08-28T00:19:25.312318",
     "status": "completed"
    },
    "tags": []
   },
   "outputs": [],
   "source": [
    "class Config:\n",
    "    pass\n",
    "config = Config()\n",
    "config.lr = 0.001\n",
    "config.num_epochs = 250\n",
    "config.bs = 50"
   ]
  },
  {
   "cell_type": "markdown",
   "id": "1385fa59",
   "metadata": {
    "papermill": {
     "duration": 0.030496,
     "end_time": "2021-08-28T00:19:25.428136",
     "exception": false,
     "start_time": "2021-08-28T00:19:25.397640",
     "status": "completed"
    },
    "tags": []
   },
   "source": [
    "### Running Models with the Training data\n",
    "Details about the network layers:\n",
    "- A first affine layer has 784 inputs and does 100 affine transforms. These are followed by a Relu\n",
    "- A second affine layer has 100 inputs from the 100 activations of the past layer, and does 100 affine transforms. These are followed by a Relu\n",
    "- A third affine layer has 100 activations and does 2 affine transformations to create an embedding for visualization. There is no non-linearity here.\n",
    "- A final \"logistic regression\" which has an affine transform from 2 inputs to 1 output, which is squeezed through a sigmoid.\n"
   ]
  },
  {
   "cell_type": "code",
   "execution_count": 17,
   "id": "2b9c66db",
   "metadata": {
    "execution": {
     "iopub.execute_input": "2021-08-28T00:19:25.493649Z",
     "iopub.status.busy": "2021-08-28T00:19:25.493068Z",
     "iopub.status.idle": "2021-08-28T00:19:25.505111Z",
     "shell.execute_reply": "2021-08-28T00:19:25.504618Z"
    },
    "papermill": {
     "duration": 0.046837,
     "end_time": "2021-08-28T00:19:25.505225",
     "exception": false,
     "start_time": "2021-08-28T00:19:25.458388",
     "status": "completed"
    },
    "tags": []
   },
   "outputs": [],
   "source": [
    "data = Data(X_train, y_train.reshape(-1,1))\n",
    "sampler = Sampler(data, config.bs, shuffle=True)\n",
    "\n",
    "dl = Dataloader(data, sampler)\n",
    "\n",
    "opt = GD(config.lr)\n",
    "loss = MSE()"
   ]
  },
  {
   "cell_type": "code",
   "execution_count": 18,
   "id": "b275e4c2",
   "metadata": {
    "execution": {
     "iopub.execute_input": "2021-08-28T00:19:25.569756Z",
     "iopub.status.busy": "2021-08-28T00:19:25.569180Z",
     "iopub.status.idle": "2021-08-28T00:19:25.580292Z",
     "shell.execute_reply": "2021-08-28T00:19:25.579803Z"
    },
    "papermill": {
     "duration": 0.044121,
     "end_time": "2021-08-28T00:19:25.580400",
     "exception": false,
     "start_time": "2021-08-28T00:19:25.536279",
     "status": "completed"
    },
    "tags": []
   },
   "outputs": [],
   "source": [
    "training_data_x = X_train\n",
    "testing_data_x = X_test\n",
    "training_data_y = y_train.reshape(-1,1)\n",
    "testing_data_y = y_test.reshape(-1,1)"
   ]
  },
  {
   "cell_type": "code",
   "execution_count": 19,
   "id": "76951160",
   "metadata": {
    "execution": {
     "iopub.execute_input": "2021-08-28T00:19:25.646912Z",
     "iopub.status.busy": "2021-08-28T00:19:25.646274Z",
     "iopub.status.idle": "2021-08-28T00:19:25.662760Z",
     "shell.execute_reply": "2021-08-28T00:19:25.663353Z"
    },
    "papermill": {
     "duration": 0.052492,
     "end_time": "2021-08-28T00:19:25.663483",
     "exception": false,
     "start_time": "2021-08-28T00:19:25.610991",
     "status": "completed"
    },
    "tags": []
   },
   "outputs": [
    {
     "name": "stdout",
     "output_type": "stream",
     "text": [
      "xavier\n",
      "xavier\n",
      "xavier\n",
      "xavier\n",
      "xavier\n"
     ]
    }
   ],
   "source": [
    "layers = [Affine(\"first\", 784, 100), Relu(\"first\"), Affine(\"second\", 100, 100), Relu(\"second\"), Affine(\"third\", 100, 2), Affine(\"last\", 2, 1), Sigmoid(\"last\")]\n",
    "model_nn = Model(layers)\n",
    "model_lr = Model([Affine(\"logits\", 784, 1), Sigmoid(\"sigmoid\")])"
   ]
  },
  {
   "cell_type": "code",
   "execution_count": 20,
   "id": "6eede77a",
   "metadata": {
    "execution": {
     "iopub.execute_input": "2021-08-28T00:19:25.730617Z",
     "iopub.status.busy": "2021-08-28T00:19:25.729935Z",
     "iopub.status.idle": "2021-08-28T00:19:25.740440Z",
     "shell.execute_reply": "2021-08-28T00:19:25.740911Z"
    },
    "papermill": {
     "duration": 0.047229,
     "end_time": "2021-08-28T00:19:25.741034",
     "exception": false,
     "start_time": "2021-08-28T00:19:25.693805",
     "status": "completed"
    },
    "tags": []
   },
   "outputs": [],
   "source": [
    "nn_learner = Learner(loss, model_nn, opt, config.num_epochs)\n",
    "acc_nn = ClfCallback(nn_learner, config.bs, training_data_x , testing_data_x, training_data_y, testing_data_y)\n",
    "nn_learner.set_callbacks([acc_nn])"
   ]
  },
  {
   "cell_type": "code",
   "execution_count": 21,
   "id": "877b6cc7",
   "metadata": {
    "execution": {
     "iopub.execute_input": "2021-08-28T00:19:25.807066Z",
     "iopub.status.busy": "2021-08-28T00:19:25.806490Z",
     "iopub.status.idle": "2021-08-28T00:19:25.817252Z",
     "shell.execute_reply": "2021-08-28T00:19:25.817746Z"
    },
    "papermill": {
     "duration": 0.046363,
     "end_time": "2021-08-28T00:19:25.817868",
     "exception": false,
     "start_time": "2021-08-28T00:19:25.771505",
     "status": "completed"
    },
    "tags": []
   },
   "outputs": [],
   "source": [
    "lr_learner = Learner(loss, model_lr, opt, config.num_epochs)\n",
    "acc_lr = ClfCallback(lr_learner, config.bs, training_data_x , testing_data_x, training_data_y, testing_data_y)\n",
    "lr_learner.set_callbacks([acc_lr])"
   ]
  },
  {
   "cell_type": "code",
   "execution_count": 22,
   "id": "d9b133c3",
   "metadata": {
    "execution": {
     "iopub.execute_input": "2021-08-28T00:19:25.884348Z",
     "iopub.status.busy": "2021-08-28T00:19:25.883739Z",
     "iopub.status.idle": "2021-08-28T00:21:26.306299Z",
     "shell.execute_reply": "2021-08-28T00:21:26.307645Z"
    },
    "papermill": {
     "duration": 120.45999,
     "end_time": "2021-08-28T00:21:26.307812",
     "exception": false,
     "start_time": "2021-08-28T00:19:25.847822",
     "status": "completed"
    },
    "tags": []
   },
   "outputs": [
    {
     "name": "stdout",
     "output_type": "stream",
     "text": [
      "Epoch 0, Loss 0.2194\n",
      "Training Accuracy: 0.7899, Testing Accuracy: 0.7999\n",
      "\n"
     ]
    },
    {
     "name": "stdout",
     "output_type": "stream",
     "text": [
      "Epoch 10, Loss 0.0618\n",
      "Training Accuracy: 0.9384, Testing Accuracy: 0.9536\n",
      "\n"
     ]
    },
    {
     "name": "stdout",
     "output_type": "stream",
     "text": [
      "Epoch 20, Loss 0.0436\n",
      "Training Accuracy: 0.9531, Testing Accuracy: 0.9647\n",
      "\n"
     ]
    },
    {
     "name": "stdout",
     "output_type": "stream",
     "text": [
      "Epoch 30, Loss 0.0367\n",
      "Training Accuracy: 0.9598, Testing Accuracy: 0.9677\n",
      "\n"
     ]
    },
    {
     "name": "stdout",
     "output_type": "stream",
     "text": [
      "Epoch 40, Loss 0.0328\n",
      "Training Accuracy: 0.9633, Testing Accuracy: 0.9698\n",
      "\n"
     ]
    },
    {
     "name": "stdout",
     "output_type": "stream",
     "text": [
      "Epoch 50, Loss 0.0303\n",
      "Training Accuracy: 0.9653, Testing Accuracy: 0.9708\n",
      "\n"
     ]
    },
    {
     "name": "stdout",
     "output_type": "stream",
     "text": [
      "Epoch 60, Loss 0.0285\n",
      "Training Accuracy: 0.9669, Testing Accuracy: 0.9718\n",
      "\n"
     ]
    },
    {
     "name": "stdout",
     "output_type": "stream",
     "text": [
      "Epoch 70, Loss 0.0271\n",
      "Training Accuracy: 0.9685, Testing Accuracy: 0.9723\n",
      "\n"
     ]
    },
    {
     "name": "stdout",
     "output_type": "stream",
     "text": [
      "Epoch 80, Loss 0.0259\n",
      "Training Accuracy: 0.9694, Testing Accuracy: 0.9733\n",
      "\n"
     ]
    },
    {
     "name": "stdout",
     "output_type": "stream",
     "text": [
      "Epoch 90, Loss 0.0249\n",
      "Training Accuracy: 0.9711, Testing Accuracy: 0.9733\n",
      "\n"
     ]
    },
    {
     "name": "stdout",
     "output_type": "stream",
     "text": [
      "Epoch 100, Loss 0.0241\n",
      "Training Accuracy: 0.9718, Testing Accuracy: 0.9733\n",
      "\n"
     ]
    },
    {
     "name": "stdout",
     "output_type": "stream",
     "text": [
      "Epoch 110, Loss 0.0233\n",
      "Training Accuracy: 0.9729, Testing Accuracy: 0.9733\n",
      "\n"
     ]
    },
    {
     "name": "stdout",
     "output_type": "stream",
     "text": [
      "Epoch 120, Loss 0.0226\n",
      "Training Accuracy: 0.9740, Testing Accuracy: 0.9743\n",
      "\n"
     ]
    },
    {
     "name": "stdout",
     "output_type": "stream",
     "text": [
      "Epoch 130, Loss 0.022\n",
      "Training Accuracy: 0.9746, Testing Accuracy: 0.9733\n",
      "\n"
     ]
    },
    {
     "name": "stdout",
     "output_type": "stream",
     "text": [
      "Epoch 140, Loss 0.0214\n",
      "Training Accuracy: 0.9755, Testing Accuracy: 0.9738\n",
      "\n"
     ]
    },
    {
     "name": "stdout",
     "output_type": "stream",
     "text": [
      "Epoch 150, Loss 0.0208\n",
      "Training Accuracy: 0.9760, Testing Accuracy: 0.9738\n",
      "\n"
     ]
    },
    {
     "name": "stdout",
     "output_type": "stream",
     "text": [
      "Epoch 160, Loss 0.0203\n",
      "Training Accuracy: 0.9768, Testing Accuracy: 0.9748\n",
      "\n"
     ]
    },
    {
     "name": "stdout",
     "output_type": "stream",
     "text": [
      "Epoch 170, Loss 0.0198\n",
      "Training Accuracy: 0.9773, Testing Accuracy: 0.9753\n",
      "\n"
     ]
    },
    {
     "name": "stdout",
     "output_type": "stream",
     "text": [
      "Epoch 180, Loss 0.0194\n",
      "Training Accuracy: 0.9781, Testing Accuracy: 0.9748\n",
      "\n"
     ]
    },
    {
     "name": "stdout",
     "output_type": "stream",
     "text": [
      "Epoch 190, Loss 0.0189\n",
      "Training Accuracy: 0.9783, Testing Accuracy: 0.9758\n",
      "\n"
     ]
    },
    {
     "name": "stdout",
     "output_type": "stream",
     "text": [
      "Epoch 200, Loss 0.0185\n",
      "Training Accuracy: 0.9794, Testing Accuracy: 0.9773\n",
      "\n"
     ]
    },
    {
     "name": "stdout",
     "output_type": "stream",
     "text": [
      "Epoch 210, Loss 0.0181\n",
      "Training Accuracy: 0.9802, Testing Accuracy: 0.9778\n",
      "\n"
     ]
    },
    {
     "name": "stdout",
     "output_type": "stream",
     "text": [
      "Epoch 220, Loss 0.0177\n",
      "Training Accuracy: 0.9812, Testing Accuracy: 0.9773\n",
      "\n"
     ]
    },
    {
     "name": "stdout",
     "output_type": "stream",
     "text": [
      "Epoch 230, Loss 0.0173\n",
      "Training Accuracy: 0.9812, Testing Accuracy: 0.9783\n",
      "\n"
     ]
    },
    {
     "name": "stdout",
     "output_type": "stream",
     "text": [
      "Epoch 240, Loss 0.017\n",
      "Training Accuracy: 0.9819, Testing Accuracy: 0.9778\n",
      "\n"
     ]
    },
    {
     "data": {
      "text/plain": [
       "0.029450153066441394"
      ]
     },
     "execution_count": 22,
     "metadata": {},
     "output_type": "execute_result"
    }
   ],
   "source": [
    "nn_learner.train_loop(dl)"
   ]
  },
  {
   "cell_type": "code",
   "execution_count": 23,
   "id": "e0163366",
   "metadata": {
    "execution": {
     "iopub.execute_input": "2021-08-28T00:21:26.399757Z",
     "iopub.status.busy": "2021-08-28T00:21:26.399192Z",
     "iopub.status.idle": "2021-08-28T00:21:44.118497Z",
     "shell.execute_reply": "2021-08-28T00:21:44.119387Z"
    },
    "papermill": {
     "duration": 17.771337,
     "end_time": "2021-08-28T00:21:44.119556",
     "exception": false,
     "start_time": "2021-08-28T00:21:26.348219",
     "status": "completed"
    },
    "tags": []
   },
   "outputs": [
    {
     "name": "stdout",
     "output_type": "stream",
     "text": [
      "Epoch 0, Loss 0.2693\n",
      "Training Accuracy: 0.5694, Testing Accuracy: 0.5680\n",
      "\n"
     ]
    },
    {
     "name": "stdout",
     "output_type": "stream",
     "text": [
      "Epoch 10, Loss 0.104\n",
      "Training Accuracy: 0.9095, Testing Accuracy: 0.9274\n",
      "\n"
     ]
    },
    {
     "name": "stdout",
     "output_type": "stream",
     "text": [
      "Epoch 20, Loss 0.0796\n",
      "Training Accuracy: 0.9261, Testing Accuracy: 0.9385\n",
      "\n"
     ]
    },
    {
     "name": "stdout",
     "output_type": "stream",
     "text": [
      "Epoch 30, Loss 0.0687\n",
      "Training Accuracy: 0.9336, Testing Accuracy: 0.9466\n",
      "\n"
     ]
    },
    {
     "name": "stdout",
     "output_type": "stream",
     "text": [
      "Epoch 40, Loss 0.0622\n",
      "Training Accuracy: 0.9380, Testing Accuracy: 0.9521\n",
      "\n"
     ]
    },
    {
     "name": "stdout",
     "output_type": "stream",
     "text": [
      "Epoch 50, Loss 0.0577\n",
      "Training Accuracy: 0.9410, Testing Accuracy: 0.9536\n",
      "\n"
     ]
    },
    {
     "name": "stdout",
     "output_type": "stream",
     "text": [
      "Epoch 60, Loss 0.0544\n",
      "Training Accuracy: 0.9435, Testing Accuracy: 0.9567\n",
      "\n"
     ]
    },
    {
     "name": "stdout",
     "output_type": "stream",
     "text": [
      "Epoch 70, Loss 0.0519\n",
      "Training Accuracy: 0.9458, Testing Accuracy: 0.9582\n",
      "\n"
     ]
    },
    {
     "name": "stdout",
     "output_type": "stream",
     "text": [
      "Epoch 80, Loss 0.0498\n",
      "Training Accuracy: 0.9477, Testing Accuracy: 0.9602\n",
      "\n"
     ]
    },
    {
     "name": "stdout",
     "output_type": "stream",
     "text": [
      "Epoch 90, Loss 0.0481\n",
      "Training Accuracy: 0.9498, Testing Accuracy: 0.9607\n",
      "\n"
     ]
    },
    {
     "name": "stdout",
     "output_type": "stream",
     "text": [
      "Epoch 100, Loss 0.0467\n",
      "Training Accuracy: 0.9513, Testing Accuracy: 0.9617\n",
      "\n"
     ]
    },
    {
     "name": "stdout",
     "output_type": "stream",
     "text": [
      "Epoch 110, Loss 0.0454\n",
      "Training Accuracy: 0.9521, Testing Accuracy: 0.9632\n",
      "\n"
     ]
    },
    {
     "name": "stdout",
     "output_type": "stream",
     "text": [
      "Epoch 120, Loss 0.0443\n",
      "Training Accuracy: 0.9530, Testing Accuracy: 0.9632\n",
      "\n"
     ]
    },
    {
     "name": "stdout",
     "output_type": "stream",
     "text": [
      "Epoch 130, Loss 0.0434\n",
      "Training Accuracy: 0.9541, Testing Accuracy: 0.9632\n",
      "\n"
     ]
    },
    {
     "name": "stdout",
     "output_type": "stream",
     "text": [
      "Epoch 140, Loss 0.0425\n",
      "Training Accuracy: 0.9546, Testing Accuracy: 0.9642\n",
      "\n"
     ]
    },
    {
     "name": "stdout",
     "output_type": "stream",
     "text": [
      "Epoch 150, Loss 0.0418\n",
      "Training Accuracy: 0.9554, Testing Accuracy: 0.9647\n",
      "\n"
     ]
    },
    {
     "name": "stdout",
     "output_type": "stream",
     "text": [
      "Epoch 160, Loss 0.0411\n",
      "Training Accuracy: 0.9560, Testing Accuracy: 0.9652\n",
      "\n"
     ]
    },
    {
     "name": "stdout",
     "output_type": "stream",
     "text": [
      "Epoch 170, Loss 0.0405\n",
      "Training Accuracy: 0.9570, Testing Accuracy: 0.9652\n",
      "\n"
     ]
    },
    {
     "name": "stdout",
     "output_type": "stream",
     "text": [
      "Epoch 180, Loss 0.0399\n",
      "Training Accuracy: 0.9574, Testing Accuracy: 0.9652\n",
      "\n"
     ]
    },
    {
     "name": "stdout",
     "output_type": "stream",
     "text": [
      "Epoch 190, Loss 0.0394\n",
      "Training Accuracy: 0.9577, Testing Accuracy: 0.9652\n",
      "\n"
     ]
    },
    {
     "name": "stdout",
     "output_type": "stream",
     "text": [
      "Epoch 200, Loss 0.0389\n",
      "Training Accuracy: 0.9583, Testing Accuracy: 0.9652\n",
      "\n"
     ]
    },
    {
     "name": "stdout",
     "output_type": "stream",
     "text": [
      "Epoch 210, Loss 0.0384\n",
      "Training Accuracy: 0.9589, Testing Accuracy: 0.9652\n",
      "\n"
     ]
    },
    {
     "name": "stdout",
     "output_type": "stream",
     "text": [
      "Epoch 220, Loss 0.038\n",
      "Training Accuracy: 0.9592, Testing Accuracy: 0.9647\n",
      "\n"
     ]
    },
    {
     "name": "stdout",
     "output_type": "stream",
     "text": [
      "Epoch 230, Loss 0.0376\n",
      "Training Accuracy: 0.9595, Testing Accuracy: 0.9642\n",
      "\n"
     ]
    },
    {
     "name": "stdout",
     "output_type": "stream",
     "text": [
      "Epoch 240, Loss 0.0372\n",
      "Training Accuracy: 0.9597, Testing Accuracy: 0.9642\n",
      "\n"
     ]
    },
    {
     "data": {
      "text/plain": [
       "0.05656908417185933"
      ]
     },
     "execution_count": 23,
     "metadata": {},
     "output_type": "execute_result"
    }
   ],
   "source": [
    "lr_learner.train_loop(dl)"
   ]
  },
  {
   "cell_type": "code",
   "execution_count": 24,
   "id": "ca410940",
   "metadata": {
    "execution": {
     "iopub.execute_input": "2021-08-28T00:21:44.235736Z",
     "iopub.status.busy": "2021-08-28T00:21:44.234821Z",
     "iopub.status.idle": "2021-08-28T00:21:44.518514Z",
     "shell.execute_reply": "2021-08-28T00:21:44.519044Z"
    },
    "papermill": {
     "duration": 0.345546,
     "end_time": "2021-08-28T00:21:44.519226",
     "exception": false,
     "start_time": "2021-08-28T00:21:44.173680",
     "status": "completed"
    },
    "tags": []
   },
   "outputs": [
    {
     "data": {
      "text/plain": [
       "<matplotlib.legend.Legend at 0x7f73a7c859b0>"
      ]
     },
     "execution_count": 24,
     "metadata": {},
     "output_type": "execute_result"
    },
    {
     "data": {
      "image/png": "[encoded data removed]",
      "text/plain": [
       "<Figure size 1080x720 with 1 Axes>"
      ]
     },
     "metadata": {
      "needs_background": "light"
     },
     "output_type": "display_data"
    }
   ],
   "source": [
    "#comparing the results of NN and LR\n",
    "plt.figure(figsize=(15,10))\n",
    "\n",
    "# Neural Network plots\n",
    "plt.plot(acc_nn.accuracies, 'r-', label = \"Training Accuracies - NN\")\n",
    "plt.plot(acc_nn.test_accuracies, 'g-', label = \"Testing Accuracies - NN\")\n",
    "\n",
    "# Logistic Regression plots\n",
    "plt.plot(acc_lr.accuracies, 'k-', label = \"Training Accuracies - LR\")\n",
    "plt.plot(acc_lr.test_accuracies, 'b-', label = \"Testing Accuracies - LR\")\n",
    "plt.legend()"
   ]
  },
  {
   "cell_type": "markdown",
   "id": "80dfb35c",
   "metadata": {
    "papermill": {
     "duration": 0.054191,
     "end_time": "2021-08-28T00:21:44.625315",
     "exception": false,
     "start_time": "2021-08-28T00:21:44.571124",
     "status": "completed"
    },
    "tags": []
   },
   "source": [
    "#### Plotting the outputs of this layer of the NN.\n"
   ]
  },
  {
   "cell_type": "code",
   "execution_count": 25,
   "id": "45eb2ff5",
   "metadata": {
    "execution": {
     "iopub.execute_input": "2021-08-28T00:21:44.754420Z",
     "iopub.status.busy": "2021-08-28T00:21:44.753786Z",
     "iopub.status.idle": "2021-08-28T00:21:44.777728Z",
     "shell.execute_reply": "2021-08-28T00:21:44.778607Z"
    },
    "papermill": {
     "duration": 0.10144,
     "end_time": "2021-08-28T00:21:44.778801",
     "exception": false,
     "start_time": "2021-08-28T00:21:44.677361",
     "status": "completed"
    },
    "tags": []
   },
   "outputs": [],
   "source": [
    "new_model = Model(layers[:-2])\n",
    "testing_plot = new_model(testing_data_x)"
   ]
  },
  {
   "cell_type": "code",
   "execution_count": 26,
   "id": "4c0a5485",
   "metadata": {
    "execution": {
     "iopub.execute_input": "2021-08-28T00:21:44.926949Z",
     "iopub.status.busy": "2021-08-28T00:21:44.911447Z",
     "iopub.status.idle": "2021-08-28T00:21:45.123733Z",
     "shell.execute_reply": "2021-08-28T00:21:45.124264Z"
    },
    "papermill": {
     "duration": 0.290626,
     "end_time": "2021-08-28T00:21:45.124418",
     "exception": false,
     "start_time": "2021-08-28T00:21:44.833792",
     "status": "completed"
    },
    "tags": []
   },
   "outputs": [
    {
     "data": {
      "text/plain": [
       "Text(0.5, 1.0, 'Outputs')"
      ]
     },
     "execution_count": 26,
     "metadata": {},
     "output_type": "execute_result"
    },
    {
     "data": {
      "image/png": "[encoded data removed]",
      "text/plain": [
       "<Figure size 576x504 with 1 Axes>"
      ]
     },
     "metadata": {
      "needs_background": "light"
     },
     "output_type": "display_data"
    }
   ],
   "source": [
    "# Plotting the scatter plot of points and color coding by class\n",
    "plt.figure(figsize=(8,7))\n",
    "plt.scatter(testing_plot[:,0], testing_plot[:,1], alpha = 0.1, c = y_test.ravel());\n",
    "plt.title('Outputs')"
   ]
  },
  {
   "cell_type": "markdown",
   "id": "a74fcf8f",
   "metadata": {
    "papermill": {
     "duration": 0.049275,
     "end_time": "2021-08-28T00:21:45.223916",
     "exception": false,
     "start_time": "2021-08-28T00:21:45.174641",
     "status": "completed"
    },
    "tags": []
   },
   "source": [
    "Probability contours"
   ]
  },
  {
   "cell_type": "code",
   "execution_count": 27,
   "id": "d0afc8e3",
   "metadata": {
    "execution": {
     "iopub.execute_input": "2021-08-28T00:21:45.342834Z",
     "iopub.status.busy": "2021-08-28T00:21:45.330693Z",
     "iopub.status.idle": "2021-08-28T00:21:45.346039Z",
     "shell.execute_reply": "2021-08-28T00:21:45.346542Z"
    },
    "papermill": {
     "duration": 0.071241,
     "end_time": "2021-08-28T00:21:45.346671",
     "exception": false,
     "start_time": "2021-08-28T00:21:45.275430",
     "status": "completed"
    },
    "tags": []
   },
   "outputs": [],
   "source": [
    "model_prob = Model(layers[-2:]) "
   ]
  },
  {
   "cell_type": "code",
   "execution_count": 28,
   "id": "9b96e238",
   "metadata": {
    "execution": {
     "iopub.execute_input": "2021-08-28T00:21:45.488609Z",
     "iopub.status.busy": "2021-08-28T00:21:45.487673Z",
     "iopub.status.idle": "2021-08-28T00:21:45.496118Z",
     "shell.execute_reply": "2021-08-28T00:21:45.496768Z"
    },
    "papermill": {
     "duration": 0.101958,
     "end_time": "2021-08-28T00:21:45.496926",
     "exception": false,
     "start_time": "2021-08-28T00:21:45.394968",
     "status": "completed"
    },
    "tags": []
   },
   "outputs": [],
   "source": [
    "#creating the x and y ranges according to the above generated plot.\n",
    "x_range = np.linspace(-4, 1, 100) \n",
    "y_range = np.linspace(-6, 6, 100) \n",
    "x_grid, y_grid = np.meshgrid(x_range, y_range) # x_grid and y_grig are of size 100 X 100\n",
    "\n",
    "# converting x_grid and y_grid to continuous arrays\n",
    "x_gridflat = np.ravel(x_grid)\n",
    "y_gridflat = np.ravel(y_grid)\n",
    "\n",
    "# The last layer of the current model takes two columns as input. Hence transpose of np.vstack() is required.\n",
    "X = np.vstack((x_gridflat, y_gridflat)).T\n",
    "\n",
    "prob_contour = model_prob(X).reshape(100,100) "
   ]
  },
  {
   "cell_type": "code",
   "execution_count": 29,
   "id": "da72499a",
   "metadata": {
    "execution": {
     "iopub.execute_input": "2021-08-28T00:21:45.629639Z",
     "iopub.status.busy": "2021-08-28T00:21:45.628756Z",
     "iopub.status.idle": "2021-08-28T00:21:45.936642Z",
     "shell.execute_reply": "2021-08-28T00:21:45.935566Z"
    },
    "papermill": {
     "duration": 0.376756,
     "end_time": "2021-08-28T00:21:45.936776",
     "exception": false,
     "start_time": "2021-08-28T00:21:45.560020",
     "status": "completed"
    },
    "tags": []
   },
   "outputs": [
    {
     "data": {
      "image/png": "[encoded data removed]",
      "text/plain": [
       "<Figure size 720x648 with 1 Axes>"
      ]
     },
     "metadata": {
      "needs_background": "light"
     },
     "output_type": "display_data"
    }
   ],
   "source": [
    "plt.figure(figsize=(10,9))\n",
    "plt.scatter(testing_plot[:,0], testing_plot[:,1], alpha = 0.1, c = y_test.ravel())\n",
    "contours = plt.contour(x_grid,y_grid,prob_contour)\n",
    "plt.title('Probability Contours')\n",
    "plt.clabel(contours, inline = True );"
   ]
  },
  {
   "cell_type": "code",
   "execution_count": null,
   "id": "e81b4ac7",
   "metadata": {
    "papermill": {
     "duration": 0.053777,
     "end_time": "2021-08-28T00:21:46.045015",
     "exception": false,
     "start_time": "2021-08-28T00:21:45.991238",
     "status": "completed"
    },
    "tags": []
   },
   "outputs": [],
   "source": []
  }
 ],
 "metadata": {
  "kernelspec": {
   "display_name": "Python 3",
   "language": "python",
   "name": "python3"
  },
  "language_info": {
   "codemirror_mode": {
    "name": "ipython",
    "version": 3
   },
   "file_extension": ".py",
   "mimetype": "text/x-python",
   "name": "python",
   "nbconvert_exporter": "python",
   "pygments_lexer": "ipython3",
   "version": "3.6.14"
  },
  "papermill": {
   "default_parameters": {},
   "duration": 148.491956,
   "end_time": "2021-08-28T00:21:46.516294",
   "environment_variables": {},
   "exception": null,
   "input_path": "2020-08-11-part2.ipynb",
   "output_path": "2020-08-11-part2.ipynb",
   "parameters": {},
   "start_time": "2021-08-28T00:19:18.024338",
   "version": "2.3.3"
  }
 },
 "nbformat": 4,
 "nbformat_minor": 5
}