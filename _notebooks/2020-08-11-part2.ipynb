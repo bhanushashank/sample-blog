{
 "cells": [
  {
   "cell_type": "markdown",
   "id": "98380cd3",
   "metadata": {
    "papermill": {
     "duration": 0.032335,
     "end_time": "2021-12-11T20:08:23.534323",
     "exception": false,
     "start_time": "2021-12-11T20:08:23.501988",
     "status": "completed"
    },
    "tags": []
   },
   "source": [
    "# Distinguish Your Own Digits (DYOD)"
   ]
  },
  {
   "cell_type": "markdown",
   "id": "ef31240d",
   "metadata": {
    "papermill": {
     "duration": 0.026834,
     "end_time": "2021-12-11T20:08:23.589420",
     "exception": false,
     "start_time": "2021-12-11T20:08:23.562586",
     "status": "completed"
    },
    "tags": []
   },
   "source": [
    "You are going to write a classifier that distinguishes between the number 3 and number 8."
   ]
  },
  {
   "cell_type": "code",
   "execution_count": 1,
   "id": "b15c8646",
   "metadata": {
    "execution": {
     "iopub.execute_input": "2021-12-11T20:08:23.654916Z",
     "iopub.status.busy": "2021-12-11T20:08:23.654355Z",
     "iopub.status.idle": "2021-12-11T20:08:23.665523Z",
     "shell.execute_reply": "2021-12-11T20:08:23.665095Z"
    },
    "papermill": {
     "duration": 0.049907,
     "end_time": "2021-12-11T20:08:23.665639",
     "exception": false,
     "start_time": "2021-12-11T20:08:23.615732",
     "status": "completed"
    },
    "tags": []
   },
   "outputs": [],
   "source": [
    "%load_ext autoreload\n",
    "%autoreload 2"
   ]
  },
  {
   "cell_type": "code",
   "execution_count": 2,
   "id": "22ef38dc",
   "metadata": {
    "execution": {
     "iopub.execute_input": "2021-12-11T20:08:23.724971Z",
     "iopub.status.busy": "2021-12-11T20:08:23.723902Z",
     "iopub.status.idle": "2021-12-11T20:08:24.370513Z",
     "shell.execute_reply": "2021-12-11T20:08:24.369641Z"
    },
    "papermill": {
     "duration": 0.680421,
     "end_time": "2021-12-11T20:08:24.370733",
     "exception": false,
     "start_time": "2021-12-11T20:08:23.690312",
     "status": "completed"
    },
    "tags": []
   },
   "outputs": [],
   "source": [
    "%matplotlib inline\n",
    "import numpy as np\n",
    "import matplotlib.pyplot as plt\n",
    "import pandas as pd"
   ]
  },
  {
   "cell_type": "markdown",
   "id": "ba036198",
   "metadata": {
    "papermill": {
     "duration": 0.027121,
     "end_time": "2021-12-11T20:08:24.427705",
     "exception": false,
     "start_time": "2021-12-11T20:08:24.400584",
     "status": "completed"
    },
    "tags": []
   },
   "source": [
    "From the command line run `pip install mnist`. This is a library that will help you bring down the mnist dataset. If you run this from a notebook, you need to put  `!pip install mnist` in a cell by itself."
   ]
  },
  {
   "cell_type": "code",
   "execution_count": 3,
   "id": "bb6ad8a1",
   "metadata": {
    "execution": {
     "iopub.execute_input": "2021-12-11T20:08:24.487331Z",
     "iopub.status.busy": "2021-12-11T20:08:24.486696Z",
     "iopub.status.idle": "2021-12-11T20:08:26.897639Z",
     "shell.execute_reply": "2021-12-11T20:08:26.895973Z"
    },
    "papermill": {
     "duration": 2.443534,
     "end_time": "2021-12-11T20:08:26.897798",
     "exception": false,
     "start_time": "2021-12-11T20:08:24.454264",
     "status": "completed"
    },
    "tags": []
   },
   "outputs": [
    {
     "name": "stdout",
     "output_type": "stream",
     "text": [
      "Collecting mnist\r\n"
     ]
    },
    {
     "name": "stdout",
     "output_type": "stream",
     "text": [
      "  Downloading mnist-0.2.2-py2.py3-none-any.whl (3.5 kB)\r\n",
      "Requirement already satisfied: numpy in /opt/hostedtoolcache/Python/3.6.15/x64/lib/python3.6/site-packages (from mnist) (1.19.5)\r\n"
     ]
    },
    {
     "name": "stdout",
     "output_type": "stream",
     "text": [
      "Installing collected packages: mnist\r\n"
     ]
    },
    {
     "name": "stdout",
     "output_type": "stream",
     "text": [
      "Successfully installed mnist-0.2.2\r\n"
     ]
    }
   ],
   "source": [
    "!pip install mnist"
   ]
  },
  {
   "cell_type": "markdown",
   "id": "69df9c9a",
   "metadata": {
    "papermill": {
     "duration": 0.033904,
     "end_time": "2021-12-11T20:08:26.963028",
     "exception": false,
     "start_time": "2021-12-11T20:08:26.929124",
     "status": "completed"
    },
    "tags": []
   },
   "source": [
    "## Preparing the Data"
   ]
  },
  {
   "cell_type": "code",
   "execution_count": 4,
   "id": "7f69d806",
   "metadata": {
    "execution": {
     "iopub.execute_input": "2021-12-11T20:08:27.024501Z",
     "iopub.status.busy": "2021-12-11T20:08:27.023912Z",
     "iopub.status.idle": "2021-12-11T20:08:27.039976Z",
     "shell.execute_reply": "2021-12-11T20:08:27.039460Z"
    },
    "papermill": {
     "duration": 0.048711,
     "end_time": "2021-12-11T20:08:27.040099",
     "exception": false,
     "start_time": "2021-12-11T20:08:26.991388",
     "status": "completed"
    },
    "tags": []
   },
   "outputs": [],
   "source": [
    "import mnist"
   ]
  },
  {
   "cell_type": "code",
   "execution_count": 5,
   "id": "a411e44f",
   "metadata": {
    "execution": {
     "iopub.execute_input": "2021-12-11T20:08:27.103688Z",
     "iopub.status.busy": "2021-12-11T20:08:27.102486Z",
     "iopub.status.idle": "2021-12-11T20:08:27.668222Z",
     "shell.execute_reply": "2021-12-11T20:08:27.667691Z"
    },
    "papermill": {
     "duration": 0.598303,
     "end_time": "2021-12-11T20:08:27.668362",
     "exception": false,
     "start_time": "2021-12-11T20:08:27.070059",
     "status": "completed"
    },
    "tags": []
   },
   "outputs": [],
   "source": [
    "train_images = mnist.train_images()\n",
    "train_labels = mnist.train_labels()"
   ]
  },
  {
   "cell_type": "code",
   "execution_count": 6,
   "id": "dceab3a5",
   "metadata": {
    "execution": {
     "iopub.execute_input": "2021-12-11T20:08:27.730312Z",
     "iopub.status.busy": "2021-12-11T20:08:27.729715Z",
     "iopub.status.idle": "2021-12-11T20:08:27.746921Z",
     "shell.execute_reply": "2021-12-11T20:08:27.747455Z"
    },
    "papermill": {
     "duration": 0.050671,
     "end_time": "2021-12-11T20:08:27.747606",
     "exception": false,
     "start_time": "2021-12-11T20:08:27.696935",
     "status": "completed"
    },
    "tags": []
   },
   "outputs": [
    {
     "data": {
      "text/plain": [
       "((60000, 28, 28), (60000,))"
      ]
     },
     "execution_count": 6,
     "metadata": {},
     "output_type": "execute_result"
    }
   ],
   "source": [
    "train_images.shape, train_labels.shape"
   ]
  },
  {
   "cell_type": "code",
   "execution_count": 7,
   "id": "f50dc2bb",
   "metadata": {
    "execution": {
     "iopub.execute_input": "2021-12-11T20:08:27.806750Z",
     "iopub.status.busy": "2021-12-11T20:08:27.806191Z",
     "iopub.status.idle": "2021-12-11T20:08:27.970695Z",
     "shell.execute_reply": "2021-12-11T20:08:27.970166Z"
    },
    "papermill": {
     "duration": 0.194826,
     "end_time": "2021-12-11T20:08:27.970820",
     "exception": false,
     "start_time": "2021-12-11T20:08:27.775994",
     "status": "completed"
    },
    "tags": []
   },
   "outputs": [],
   "source": [
    "test_images = mnist.test_images()\n",
    "test_labels = mnist.test_labels()"
   ]
  },
  {
   "cell_type": "code",
   "execution_count": 8,
   "id": "fc38cf1b",
   "metadata": {
    "execution": {
     "iopub.execute_input": "2021-12-11T20:08:28.037157Z",
     "iopub.status.busy": "2021-12-11T20:08:28.036555Z",
     "iopub.status.idle": "2021-12-11T20:08:28.051007Z",
     "shell.execute_reply": "2021-12-11T20:08:28.050518Z"
    },
    "papermill": {
     "duration": 0.048839,
     "end_time": "2021-12-11T20:08:28.051146",
     "exception": false,
     "start_time": "2021-12-11T20:08:28.002307",
     "status": "completed"
    },
    "tags": []
   },
   "outputs": [
    {
     "data": {
      "text/plain": [
       "((10000, 28, 28), (10000,))"
      ]
     },
     "execution_count": 8,
     "metadata": {},
     "output_type": "execute_result"
    }
   ],
   "source": [
    "test_images.shape, test_labels.shape"
   ]
  },
  {
   "cell_type": "code",
   "execution_count": 9,
   "id": "f9ed8fe0",
   "metadata": {
    "execution": {
     "iopub.execute_input": "2021-12-11T20:08:28.122103Z",
     "iopub.status.busy": "2021-12-11T20:08:28.121506Z",
     "iopub.status.idle": "2021-12-11T20:08:28.283645Z",
     "shell.execute_reply": "2021-12-11T20:08:28.284101Z"
    },
    "papermill": {
     "duration": 0.202707,
     "end_time": "2021-12-11T20:08:28.284259",
     "exception": false,
     "start_time": "2021-12-11T20:08:28.081552",
     "status": "completed"
    },
    "tags": []
   },
   "outputs": [
    {
     "name": "stdout",
     "output_type": "stream",
     "text": [
      "2\n"
     ]
    },
    {
     "data": {
      "text/plain": [
       "<matplotlib.image.AxesImage at 0x7fdddc156518>"
      ]
     },
     "execution_count": 9,
     "metadata": {},
     "output_type": "execute_result"
    },
    {
     "data": {
      "image/png": "[encoded data removed]",
      "text/plain": [
       "<Figure size 432x288 with 1 Axes>"
      ]
     },
     "metadata": {
      "needs_background": "light"
     },
     "output_type": "display_data"
    }
   ],
   "source": [
    "image_index = 7776 # You may select anything up to 60,000\n",
    "print(train_labels[image_index]) \n",
    "plt.imshow(train_images[image_index], cmap='Greys')"
   ]
  },
  {
   "cell_type": "markdown",
   "id": "a8d2388d",
   "metadata": {
    "papermill": {
     "duration": 0.029529,
     "end_time": "2021-12-11T20:08:28.343733",
     "exception": false,
     "start_time": "2021-12-11T20:08:28.314204",
     "status": "completed"
    },
    "tags": []
   },
   "source": [
    "## Filter data to get 3 and 8 out"
   ]
  },
  {
   "cell_type": "code",
   "execution_count": 10,
   "id": "776f7fc7",
   "metadata": {
    "execution": {
     "iopub.execute_input": "2021-12-11T20:08:28.409126Z",
     "iopub.status.busy": "2021-12-11T20:08:28.408180Z",
     "iopub.status.idle": "2021-12-11T20:08:28.426116Z",
     "shell.execute_reply": "2021-12-11T20:08:28.425607Z"
    },
    "papermill": {
     "duration": 0.053091,
     "end_time": "2021-12-11T20:08:28.426238",
     "exception": false,
     "start_time": "2021-12-11T20:08:28.373147",
     "status": "completed"
    },
    "tags": []
   },
   "outputs": [],
   "source": [
    "train_filter = np.where((train_labels == 3 ) | (train_labels == 8))\n",
    "test_filter = np.where((test_labels == 3) | (test_labels == 8))\n",
    "X_train, y_train = train_images[train_filter], train_labels[train_filter]\n",
    "X_test, y_test = test_images[test_filter], test_labels[test_filter]"
   ]
  },
  {
   "cell_type": "markdown",
   "id": "948f0b7e",
   "metadata": {
    "papermill": {
     "duration": 0.029631,
     "end_time": "2021-12-11T20:08:28.485634",
     "exception": false,
     "start_time": "2021-12-11T20:08:28.456003",
     "status": "completed"
    },
    "tags": []
   },
   "source": [
    "We normalize the pizel values in the 0 to 1 range"
   ]
  },
  {
   "cell_type": "code",
   "execution_count": 11,
   "id": "ee4c2166",
   "metadata": {
    "execution": {
     "iopub.execute_input": "2021-12-11T20:08:28.552096Z",
     "iopub.status.busy": "2021-12-11T20:08:28.548576Z",
     "iopub.status.idle": "2021-12-11T20:08:28.603829Z",
     "shell.execute_reply": "2021-12-11T20:08:28.602379Z"
    },
    "papermill": {
     "duration": 0.088734,
     "end_time": "2021-12-11T20:08:28.604054",
     "exception": false,
     "start_time": "2021-12-11T20:08:28.515320",
     "status": "completed"
    },
    "tags": []
   },
   "outputs": [],
   "source": [
    "X_train = X_train/255.\n",
    "X_test = X_test/255."
   ]
  },
  {
   "cell_type": "markdown",
   "id": "ddcf4fab",
   "metadata": {
    "papermill": {
     "duration": 0.030436,
     "end_time": "2021-12-11T20:08:28.665828",
     "exception": false,
     "start_time": "2021-12-11T20:08:28.635392",
     "status": "completed"
    },
    "tags": []
   },
   "source": [
    "And setup the labels as 1 (when the digit is 3) and 0 (when the digit is 8)"
   ]
  },
  {
   "cell_type": "code",
   "execution_count": 12,
   "id": "7dc908f2",
   "metadata": {
    "execution": {
     "iopub.execute_input": "2021-12-11T20:08:28.732608Z",
     "iopub.status.busy": "2021-12-11T20:08:28.731999Z",
     "iopub.status.idle": "2021-12-11T20:08:28.749647Z",
     "shell.execute_reply": "2021-12-11T20:08:28.749103Z"
    },
    "papermill": {
     "duration": 0.051926,
     "end_time": "2021-12-11T20:08:28.749879",
     "exception": false,
     "start_time": "2021-12-11T20:08:28.697953",
     "status": "completed"
    },
    "tags": []
   },
   "outputs": [],
   "source": [
    "y_train = 1*(y_train==3)\n",
    "y_test = 1*(y_test==3)"
   ]
  },
  {
   "cell_type": "code",
   "execution_count": 13,
   "id": "01e4e969",
   "metadata": {
    "execution": {
     "iopub.execute_input": "2021-12-11T20:08:28.814106Z",
     "iopub.status.busy": "2021-12-11T20:08:28.813558Z",
     "iopub.status.idle": "2021-12-11T20:08:28.828224Z",
     "shell.execute_reply": "2021-12-11T20:08:28.828669Z"
    },
    "papermill": {
     "duration": 0.049007,
     "end_time": "2021-12-11T20:08:28.828812",
     "exception": false,
     "start_time": "2021-12-11T20:08:28.779805",
     "status": "completed"
    },
    "tags": []
   },
   "outputs": [
    {
     "data": {
      "text/plain": [
       "((11982, 28, 28), (1984, 28, 28))"
      ]
     },
     "execution_count": 13,
     "metadata": {},
     "output_type": "execute_result"
    }
   ],
   "source": [
    "X_train.shape, X_test.shape"
   ]
  },
  {
   "cell_type": "markdown",
   "id": "5ccf3f85",
   "metadata": {
    "papermill": {
     "duration": 0.031321,
     "end_time": "2021-12-11T20:08:28.889709",
     "exception": false,
     "start_time": "2021-12-11T20:08:28.858388",
     "status": "completed"
    },
    "tags": []
   },
   "source": [
    "We reshape the data to flatten the image pixels into a set of features or co-variates:"
   ]
  },
  {
   "cell_type": "code",
   "execution_count": 14,
   "id": "5286a4a3",
   "metadata": {
    "execution": {
     "iopub.execute_input": "2021-12-11T20:08:28.956938Z",
     "iopub.status.busy": "2021-12-11T20:08:28.955845Z",
     "iopub.status.idle": "2021-12-11T20:08:28.971282Z",
     "shell.execute_reply": "2021-12-11T20:08:28.970743Z"
    },
    "papermill": {
     "duration": 0.050738,
     "end_time": "2021-12-11T20:08:28.971413",
     "exception": false,
     "start_time": "2021-12-11T20:08:28.920675",
     "status": "completed"
    },
    "tags": []
   },
   "outputs": [
    {
     "data": {
      "text/plain": [
       "((11982, 784), (1984, 784))"
      ]
     },
     "execution_count": 14,
     "metadata": {},
     "output_type": "execute_result"
    }
   ],
   "source": [
    "X_train = X_train.reshape(X_train.shape[0], -1)\n",
    "X_test = X_test.reshape(X_test.shape[0], -1)\n",
    "X_train.shape, X_test.shape"
   ]
  },
  {
   "cell_type": "code",
   "execution_count": 15,
   "id": "73c5f88a",
   "metadata": {
    "execution": {
     "iopub.execute_input": "2021-12-11T20:08:29.040541Z",
     "iopub.status.busy": "2021-12-11T20:08:29.039885Z",
     "iopub.status.idle": "2021-12-11T20:08:29.069681Z",
     "shell.execute_reply": "2021-12-11T20:08:29.070192Z"
    },
    "papermill": {
     "duration": 0.067966,
     "end_time": "2021-12-11T20:08:29.070363",
     "exception": false,
     "start_time": "2021-12-11T20:08:29.002397",
     "status": "completed"
    },
    "tags": []
   },
   "outputs": [],
   "source": [
    "#Impoting functions from 'Kudzu'\n",
    "from kudzu.model import Model\n",
    "from kudzu.train import Learner\n",
    "from kudzu.optim import GD\n",
    "from kudzu.data import Data, Sampler,Dataloader\n",
    "\n",
    "from kudzu.callbacks import AccCallback\n",
    "from kudzu.callbacks import ClfCallback\n",
    "\n",
    "from kudzu.loss import MSE\n",
    "\n",
    "from kudzu.layer import Sigmoid,Relu\n",
    "from kudzu.layer import Affine"
   ]
  },
  {
   "cell_type": "markdown",
   "id": "bc01172a",
   "metadata": {
    "papermill": {
     "duration": 0.030526,
     "end_time": "2021-12-11T20:08:29.132434",
     "exception": false,
     "start_time": "2021-12-11T20:08:29.101908",
     "status": "completed"
    },
    "tags": []
   },
   "source": [
    "### Let us create a `Config` class, to store important parameters. \n",
    "This class essentially plays the role of a dictionary."
   ]
  },
  {
   "cell_type": "code",
   "execution_count": 16,
   "id": "978281aa",
   "metadata": {
    "execution": {
     "iopub.execute_input": "2021-12-11T20:08:29.199123Z",
     "iopub.status.busy": "2021-12-11T20:08:29.198406Z",
     "iopub.status.idle": "2021-12-11T20:08:29.212839Z",
     "shell.execute_reply": "2021-12-11T20:08:29.212364Z"
    },
    "papermill": {
     "duration": 0.049569,
     "end_time": "2021-12-11T20:08:29.212958",
     "exception": false,
     "start_time": "2021-12-11T20:08:29.163389",
     "status": "completed"
    },
    "tags": []
   },
   "outputs": [],
   "source": [
    "class Config:\n",
    "    pass\n",
    "config = Config()\n",
    "config.lr = 0.001\n",
    "config.num_epochs = 250\n",
    "config.bs = 50"
   ]
  },
  {
   "cell_type": "markdown",
   "id": "1385fa59",
   "metadata": {
    "papermill": {
     "duration": 0.031638,
     "end_time": "2021-12-11T20:08:29.275991",
     "exception": false,
     "start_time": "2021-12-11T20:08:29.244353",
     "status": "completed"
    },
    "tags": []
   },
   "source": [
    "### Running Models with the Training data\n",
    "Details about the network layers:\n",
    "- A first affine layer has 784 inputs and does 100 affine transforms. These are followed by a Relu\n",
    "- A second affine layer has 100 inputs from the 100 activations of the past layer, and does 100 affine transforms. These are followed by a Relu\n",
    "- A third affine layer has 100 activations and does 2 affine transformations to create an embedding for visualization. There is no non-linearity here.\n",
    "- A final \"logistic regression\" which has an affine transform from 2 inputs to 1 output, which is squeezed through a sigmoid.\n"
   ]
  },
  {
   "cell_type": "code",
   "execution_count": 17,
   "id": "2b9c66db",
   "metadata": {
    "execution": {
     "iopub.execute_input": "2021-12-11T20:08:29.344383Z",
     "iopub.status.busy": "2021-12-11T20:08:29.343770Z",
     "iopub.status.idle": "2021-12-11T20:08:29.358131Z",
     "shell.execute_reply": "2021-12-11T20:08:29.358647Z"
    },
    "papermill": {
     "duration": 0.051405,
     "end_time": "2021-12-11T20:08:29.358801",
     "exception": false,
     "start_time": "2021-12-11T20:08:29.307396",
     "status": "completed"
    },
    "tags": []
   },
   "outputs": [],
   "source": [
    "data = Data(X_train, y_train.reshape(-1,1))\n",
    "sampler = Sampler(data, config.bs, shuffle=True)\n",
    "\n",
    "dl = Dataloader(data, sampler)\n",
    "\n",
    "opt = GD(config.lr)\n",
    "loss = MSE()"
   ]
  },
  {
   "cell_type": "code",
   "execution_count": 18,
   "id": "b275e4c2",
   "metadata": {
    "execution": {
     "iopub.execute_input": "2021-12-11T20:08:29.427153Z",
     "iopub.status.busy": "2021-12-11T20:08:29.426278Z",
     "iopub.status.idle": "2021-12-11T20:08:29.441288Z",
     "shell.execute_reply": "2021-12-11T20:08:29.440745Z"
    },
    "papermill": {
     "duration": 0.050205,
     "end_time": "2021-12-11T20:08:29.441421",
     "exception": false,
     "start_time": "2021-12-11T20:08:29.391216",
     "status": "completed"
    },
    "tags": []
   },
   "outputs": [],
   "source": [
    "training_data_x = X_train\n",
    "testing_data_x = X_test\n",
    "training_data_y = y_train.reshape(-1,1)\n",
    "testing_data_y = y_test.reshape(-1,1)"
   ]
  },
  {
   "cell_type": "code",
   "execution_count": 19,
   "id": "76951160",
   "metadata": {
    "execution": {
     "iopub.execute_input": "2021-12-11T20:08:29.507928Z",
     "iopub.status.busy": "2021-12-11T20:08:29.507335Z",
     "iopub.status.idle": "2021-12-11T20:08:29.525391Z",
     "shell.execute_reply": "2021-12-11T20:08:29.525915Z"
    },
    "papermill": {
     "duration": 0.053507,
     "end_time": "2021-12-11T20:08:29.526063",
     "exception": false,
     "start_time": "2021-12-11T20:08:29.472556",
     "status": "completed"
    },
    "tags": []
   },
   "outputs": [
    {
     "name": "stdout",
     "output_type": "stream",
     "text": [
      "xavier\n",
      "xavier\n",
      "xavier\n",
      "xavier\n",
      "xavier\n"
     ]
    }
   ],
   "source": [
    "layers = [Affine(\"first\", 784, 100), Relu(\"first\"), Affine(\"second\", 100, 100), Relu(\"second\"), Affine(\"third\", 100, 2), Affine(\"last\", 2, 1), Sigmoid(\"last\")]\n",
    "model_nn = Model(layers)\n",
    "model_lr = Model([Affine(\"logits\", 784, 1), Sigmoid(\"sigmoid\")])"
   ]
  },
  {
   "cell_type": "code",
   "execution_count": 20,
   "id": "6eede77a",
   "metadata": {
    "execution": {
     "iopub.execute_input": "2021-12-11T20:08:29.595381Z",
     "iopub.status.busy": "2021-12-11T20:08:29.594321Z",
     "iopub.status.idle": "2021-12-11T20:08:29.610193Z",
     "shell.execute_reply": "2021-12-11T20:08:29.609713Z"
    },
    "papermill": {
     "duration": 0.050841,
     "end_time": "2021-12-11T20:08:29.610356",
     "exception": false,
     "start_time": "2021-12-11T20:08:29.559515",
     "status": "completed"
    },
    "tags": []
   },
   "outputs": [],
   "source": [
    "nn_learner = Learner(loss, model_nn, opt, config.num_epochs)\n",
    "acc_nn = ClfCallback(nn_learner, config.bs, training_data_x , testing_data_x, training_data_y, testing_data_y)\n",
    "nn_learner.set_callbacks([acc_nn])"
   ]
  },
  {
   "cell_type": "code",
   "execution_count": 21,
   "id": "877b6cc7",
   "metadata": {
    "execution": {
     "iopub.execute_input": "2021-12-11T20:08:29.675451Z",
     "iopub.status.busy": "2021-12-11T20:08:29.674835Z",
     "iopub.status.idle": "2021-12-11T20:08:29.689838Z",
     "shell.execute_reply": "2021-12-11T20:08:29.689363Z"
    },
    "papermill": {
     "duration": 0.049439,
     "end_time": "2021-12-11T20:08:29.689953",
     "exception": false,
     "start_time": "2021-12-11T20:08:29.640514",
     "status": "completed"
    },
    "tags": []
   },
   "outputs": [],
   "source": [
    "lr_learner = Learner(loss, model_lr, opt, config.num_epochs)\n",
    "acc_lr = ClfCallback(lr_learner, config.bs, training_data_x , testing_data_x, training_data_y, testing_data_y)\n",
    "lr_learner.set_callbacks([acc_lr])"
   ]
  },
  {
   "cell_type": "code",
   "execution_count": 22,
   "id": "d9b133c3",
   "metadata": {
    "execution": {
     "iopub.execute_input": "2021-12-11T20:08:29.755166Z",
     "iopub.status.busy": "2021-12-11T20:08:29.754559Z",
     "iopub.status.idle": "2021-12-11T20:09:56.767230Z",
     "shell.execute_reply": "2021-12-11T20:09:56.768031Z"
    },
    "papermill": {
     "duration": 87.04787,
     "end_time": "2021-12-11T20:09:56.768193",
     "exception": false,
     "start_time": "2021-12-11T20:08:29.720323",
     "status": "completed"
    },
    "tags": []
   },
   "outputs": [
    {
     "name": "stdout",
     "output_type": "stream",
     "text": [
      "Epoch 0, Loss 0.2508\n",
      "Training Accuracy: 0.5199, Testing Accuracy: 0.5136\n",
      "\n"
     ]
    },
    {
     "name": "stdout",
     "output_type": "stream",
     "text": [
      "Epoch 10, Loss 0.2036\n",
      "Training Accuracy: 0.8548, Testing Accuracy: 0.8710\n",
      "\n"
     ]
    },
    {
     "name": "stdout",
     "output_type": "stream",
     "text": [
      "Epoch 20, Loss 0.1099\n",
      "Training Accuracy: 0.9004, Testing Accuracy: 0.9199\n",
      "\n"
     ]
    },
    {
     "name": "stdout",
     "output_type": "stream",
     "text": [
      "Epoch 30, Loss 0.068\n",
      "Training Accuracy: 0.9270, Testing Accuracy: 0.9410\n",
      "\n"
     ]
    },
    {
     "name": "stdout",
     "output_type": "stream",
     "text": [
      "Epoch 40, Loss 0.0523\n",
      "Training Accuracy: 0.9417, Testing Accuracy: 0.9572\n",
      "\n"
     ]
    },
    {
     "name": "stdout",
     "output_type": "stream",
     "text": [
      "Epoch 50, Loss 0.0442\n",
      "Training Accuracy: 0.9498, Testing Accuracy: 0.9597\n",
      "\n"
     ]
    },
    {
     "name": "stdout",
     "output_type": "stream",
     "text": [
      "Epoch 60, Loss 0.0393\n",
      "Training Accuracy: 0.9550, Testing Accuracy: 0.9622\n",
      "\n"
     ]
    },
    {
     "name": "stdout",
     "output_type": "stream",
     "text": [
      "Epoch 70, Loss 0.036\n",
      "Training Accuracy: 0.9580, Testing Accuracy: 0.9652\n",
      "\n"
     ]
    },
    {
     "name": "stdout",
     "output_type": "stream",
     "text": [
      "Epoch 80, Loss 0.0336\n",
      "Training Accuracy: 0.9606, Testing Accuracy: 0.9672\n",
      "\n"
     ]
    },
    {
     "name": "stdout",
     "output_type": "stream",
     "text": [
      "Epoch 90, Loss 0.0317\n",
      "Training Accuracy: 0.9626, Testing Accuracy: 0.9672\n",
      "\n"
     ]
    },
    {
     "name": "stdout",
     "output_type": "stream",
     "text": [
      "Epoch 100, Loss 0.0303\n",
      "Training Accuracy: 0.9651, Testing Accuracy: 0.9698\n",
      "\n"
     ]
    },
    {
     "name": "stdout",
     "output_type": "stream",
     "text": [
      "Epoch 110, Loss 0.029\n",
      "Training Accuracy: 0.9661, Testing Accuracy: 0.9688\n",
      "\n"
     ]
    },
    {
     "name": "stdout",
     "output_type": "stream",
     "text": [
      "Epoch 120, Loss 0.028\n",
      "Training Accuracy: 0.9672, Testing Accuracy: 0.9703\n",
      "\n"
     ]
    },
    {
     "name": "stdout",
     "output_type": "stream",
     "text": [
      "Epoch 130, Loss 0.0271\n",
      "Training Accuracy: 0.9690, Testing Accuracy: 0.9708\n",
      "\n"
     ]
    },
    {
     "name": "stdout",
     "output_type": "stream",
     "text": [
      "Epoch 140, Loss 0.0263\n",
      "Training Accuracy: 0.9701, Testing Accuracy: 0.9708\n",
      "\n"
     ]
    },
    {
     "name": "stdout",
     "output_type": "stream",
     "text": [
      "Epoch 150, Loss 0.0256\n",
      "Training Accuracy: 0.9713, Testing Accuracy: 0.9713\n",
      "\n"
     ]
    },
    {
     "name": "stdout",
     "output_type": "stream",
     "text": [
      "Epoch 160, Loss 0.025\n",
      "Training Accuracy: 0.9716, Testing Accuracy: 0.9713\n",
      "\n"
     ]
    },
    {
     "name": "stdout",
     "output_type": "stream",
     "text": [
      "Epoch 170, Loss 0.0244\n",
      "Training Accuracy: 0.9726, Testing Accuracy: 0.9718\n",
      "\n"
     ]
    },
    {
     "name": "stdout",
     "output_type": "stream",
     "text": [
      "Epoch 180, Loss 0.0239\n",
      "Training Accuracy: 0.9735, Testing Accuracy: 0.9718\n",
      "\n"
     ]
    },
    {
     "name": "stdout",
     "output_type": "stream",
     "text": [
      "Epoch 190, Loss 0.0234\n",
      "Training Accuracy: 0.9740, Testing Accuracy: 0.9718\n",
      "\n"
     ]
    },
    {
     "name": "stdout",
     "output_type": "stream",
     "text": [
      "Epoch 200, Loss 0.0229\n",
      "Training Accuracy: 0.9745, Testing Accuracy: 0.9713\n",
      "\n"
     ]
    },
    {
     "name": "stdout",
     "output_type": "stream",
     "text": [
      "Epoch 210, Loss 0.0225\n",
      "Training Accuracy: 0.9750, Testing Accuracy: 0.9718\n",
      "\n"
     ]
    },
    {
     "name": "stdout",
     "output_type": "stream",
     "text": [
      "Epoch 220, Loss 0.0221\n",
      "Training Accuracy: 0.9758, Testing Accuracy: 0.9718\n",
      "\n"
     ]
    },
    {
     "name": "stdout",
     "output_type": "stream",
     "text": [
      "Epoch 230, Loss 0.0217\n",
      "Training Accuracy: 0.9761, Testing Accuracy: 0.9718\n",
      "\n"
     ]
    },
    {
     "name": "stdout",
     "output_type": "stream",
     "text": [
      "Epoch 240, Loss 0.0213\n",
      "Training Accuracy: 0.9762, Testing Accuracy: 0.9718\n",
      "\n"
     ]
    },
    {
     "data": {
      "text/plain": [
       "0.03242694261768374"
      ]
     },
     "execution_count": 22,
     "metadata": {},
     "output_type": "execute_result"
    }
   ],
   "source": [
    "nn_learner.train_loop(dl)"
   ]
  },
  {
   "cell_type": "code",
   "execution_count": 23,
   "id": "e0163366",
   "metadata": {
    "execution": {
     "iopub.execute_input": "2021-12-11T20:09:56.851244Z",
     "iopub.status.busy": "2021-12-11T20:09:56.850599Z",
     "iopub.status.idle": "2021-12-11T20:10:12.163800Z",
     "shell.execute_reply": "2021-12-11T20:10:12.164612Z"
    },
    "papermill": {
     "duration": 15.358522,
     "end_time": "2021-12-11T20:10:12.164778",
     "exception": false,
     "start_time": "2021-12-11T20:09:56.806256",
     "status": "completed"
    },
    "tags": []
   },
   "outputs": [
    {
     "name": "stdout",
     "output_type": "stream",
     "text": [
      "Epoch 0, Loss 0.2384\n",
      "Training Accuracy: 0.6876, Testing Accuracy: 0.6709\n",
      "\n"
     ]
    },
    {
     "name": "stdout",
     "output_type": "stream",
     "text": [
      "Epoch 10, Loss 0.1042\n",
      "Training Accuracy: 0.9050, Testing Accuracy: 0.9168\n",
      "\n"
     ]
    },
    {
     "name": "stdout",
     "output_type": "stream",
     "text": [
      "Epoch 20, Loss 0.0801\n",
      "Training Accuracy: 0.9248, Testing Accuracy: 0.9355\n",
      "\n"
     ]
    },
    {
     "name": "stdout",
     "output_type": "stream",
     "text": [
      "Epoch 30, Loss 0.0691\n",
      "Training Accuracy: 0.9328, Testing Accuracy: 0.9441\n",
      "\n"
     ]
    },
    {
     "name": "stdout",
     "output_type": "stream",
     "text": [
      "Epoch 40, Loss 0.0624\n",
      "Training Accuracy: 0.9382, Testing Accuracy: 0.9501\n",
      "\n"
     ]
    },
    {
     "name": "stdout",
     "output_type": "stream",
     "text": [
      "Epoch 50, Loss 0.0579\n",
      "Training Accuracy: 0.9422, Testing Accuracy: 0.9526\n",
      "\n"
     ]
    },
    {
     "name": "stdout",
     "output_type": "stream",
     "text": [
      "Epoch 60, Loss 0.0545\n",
      "Training Accuracy: 0.9443, Testing Accuracy: 0.9556\n",
      "\n"
     ]
    },
    {
     "name": "stdout",
     "output_type": "stream",
     "text": [
      "Epoch 70, Loss 0.0519\n",
      "Training Accuracy: 0.9473, Testing Accuracy: 0.9577\n",
      "\n"
     ]
    },
    {
     "name": "stdout",
     "output_type": "stream",
     "text": [
      "Epoch 80, Loss 0.0498\n",
      "Training Accuracy: 0.9495, Testing Accuracy: 0.9597\n",
      "\n"
     ]
    },
    {
     "name": "stdout",
     "output_type": "stream",
     "text": [
      "Epoch 90, Loss 0.0481\n",
      "Training Accuracy: 0.9510, Testing Accuracy: 0.9617\n",
      "\n"
     ]
    },
    {
     "name": "stdout",
     "output_type": "stream",
     "text": [
      "Epoch 100, Loss 0.0466\n",
      "Training Accuracy: 0.9523, Testing Accuracy: 0.9627\n",
      "\n"
     ]
    },
    {
     "name": "stdout",
     "output_type": "stream",
     "text": [
      "Epoch 110, Loss 0.0454\n",
      "Training Accuracy: 0.9537, Testing Accuracy: 0.9652\n",
      "\n"
     ]
    },
    {
     "name": "stdout",
     "output_type": "stream",
     "text": [
      "Epoch 120, Loss 0.0443\n",
      "Training Accuracy: 0.9546, Testing Accuracy: 0.9657\n",
      "\n"
     ]
    },
    {
     "name": "stdout",
     "output_type": "stream",
     "text": [
      "Epoch 130, Loss 0.0433\n",
      "Training Accuracy: 0.9548, Testing Accuracy: 0.9642\n",
      "\n"
     ]
    },
    {
     "name": "stdout",
     "output_type": "stream",
     "text": [
      "Epoch 140, Loss 0.0425\n",
      "Training Accuracy: 0.9556, Testing Accuracy: 0.9642\n",
      "\n"
     ]
    },
    {
     "name": "stdout",
     "output_type": "stream",
     "text": [
      "Epoch 150, Loss 0.0417\n",
      "Training Accuracy: 0.9559, Testing Accuracy: 0.9657\n",
      "\n"
     ]
    },
    {
     "name": "stdout",
     "output_type": "stream",
     "text": [
      "Epoch 160, Loss 0.041\n",
      "Training Accuracy: 0.9566, Testing Accuracy: 0.9662\n",
      "\n"
     ]
    },
    {
     "name": "stdout",
     "output_type": "stream",
     "text": [
      "Epoch 170, Loss 0.0404\n",
      "Training Accuracy: 0.9570, Testing Accuracy: 0.9657\n",
      "\n"
     ]
    },
    {
     "name": "stdout",
     "output_type": "stream",
     "text": [
      "Epoch 180, Loss 0.0398\n",
      "Training Accuracy: 0.9578, Testing Accuracy: 0.9662\n",
      "\n"
     ]
    },
    {
     "name": "stdout",
     "output_type": "stream",
     "text": [
      "Epoch 190, Loss 0.0393\n",
      "Training Accuracy: 0.9581, Testing Accuracy: 0.9667\n",
      "\n"
     ]
    },
    {
     "name": "stdout",
     "output_type": "stream",
     "text": [
      "Epoch 200, Loss 0.0388\n",
      "Training Accuracy: 0.9589, Testing Accuracy: 0.9672\n",
      "\n"
     ]
    },
    {
     "name": "stdout",
     "output_type": "stream",
     "text": [
      "Epoch 210, Loss 0.0384\n",
      "Training Accuracy: 0.9592, Testing Accuracy: 0.9672\n",
      "\n"
     ]
    },
    {
     "name": "stdout",
     "output_type": "stream",
     "text": [
      "Epoch 220, Loss 0.0379\n",
      "Training Accuracy: 0.9595, Testing Accuracy: 0.9667\n",
      "\n"
     ]
    },
    {
     "name": "stdout",
     "output_type": "stream",
     "text": [
      "Epoch 230, Loss 0.0375\n",
      "Training Accuracy: 0.9602, Testing Accuracy: 0.9667\n",
      "\n"
     ]
    },
    {
     "name": "stdout",
     "output_type": "stream",
     "text": [
      "Epoch 240, Loss 0.0372\n",
      "Training Accuracy: 0.9604, Testing Accuracy: 0.9667\n",
      "\n"
     ]
    },
    {
     "data": {
      "text/plain": [
       "0.05291785663761617"
      ]
     },
     "execution_count": 23,
     "metadata": {},
     "output_type": "execute_result"
    }
   ],
   "source": [
    "lr_learner.train_loop(dl)"
   ]
  },
  {
   "cell_type": "code",
   "execution_count": 24,
   "id": "ca410940",
   "metadata": {
    "execution": {
     "iopub.execute_input": "2021-12-11T20:10:12.264620Z",
     "iopub.status.busy": "2021-12-11T20:10:12.263996Z",
     "iopub.status.idle": "2021-12-11T20:10:12.522900Z",
     "shell.execute_reply": "2021-12-11T20:10:12.521844Z"
    },
    "papermill": {
     "duration": 0.311236,
     "end_time": "2021-12-11T20:10:12.523037",
     "exception": false,
     "start_time": "2021-12-11T20:10:12.211801",
     "status": "completed"
    },
    "tags": []
   },
   "outputs": [
    {
     "data": {
      "text/plain": [
       "<matplotlib.legend.Legend at 0x7fdddbd30cf8>"
      ]
     },
     "execution_count": 24,
     "metadata": {},
     "output_type": "execute_result"
    },
    {
     "data": {
      "image/png": "[encoded data removed]",
      "text/plain": [
       "<Figure size 1080x720 with 1 Axes>"
      ]
     },
     "metadata": {
      "needs_background": "light"
     },
     "output_type": "display_data"
    }
   ],
   "source": [
    "#comparing the results of NN and LR\n",
    "plt.figure(figsize=(15,10))\n",
    "\n",
    "# Neural Network plots\n",
    "plt.plot(acc_nn.accuracies, 'r-', label = \"Training Accuracies - NN\")\n",
    "plt.plot(acc_nn.test_accuracies, 'g-', label = \"Testing Accuracies - NN\")\n",
    "\n",
    "# Logistic Regression plots\n",
    "plt.plot(acc_lr.accuracies, 'k-', label = \"Training Accuracies - LR\")\n",
    "plt.plot(acc_lr.test_accuracies, 'b-', label = \"Testing Accuracies - LR\")\n",
    "plt.legend()"
   ]
  },
  {
   "cell_type": "markdown",
   "id": "80dfb35c",
   "metadata": {
    "papermill": {
     "duration": 0.047913,
     "end_time": "2021-12-11T20:10:12.619216",
     "exception": false,
     "start_time": "2021-12-11T20:10:12.571303",
     "status": "completed"
    },
    "tags": []
   },
   "source": [
    "#### Plotting the outputs of this layer of the NN.\n"
   ]
  },
  {
   "cell_type": "code",
   "execution_count": 25,
   "id": "45eb2ff5",
   "metadata": {
    "execution": {
     "iopub.execute_input": "2021-12-11T20:10:12.719650Z",
     "iopub.status.busy": "2021-12-11T20:10:12.718985Z",
     "iopub.status.idle": "2021-12-11T20:10:12.748050Z",
     "shell.execute_reply": "2021-12-11T20:10:12.748888Z"
    },
    "papermill": {
     "duration": 0.082776,
     "end_time": "2021-12-11T20:10:12.749049",
     "exception": false,
     "start_time": "2021-12-11T20:10:12.666273",
     "status": "completed"
    },
    "tags": []
   },
   "outputs": [],
   "source": [
    "new_model = Model(layers[:-2])\n",
    "testing_plot = new_model(testing_data_x)"
   ]
  },
  {
   "cell_type": "code",
   "execution_count": 26,
   "id": "4c0a5485",
   "metadata": {
    "execution": {
     "iopub.execute_input": "2021-12-11T20:10:12.851900Z",
     "iopub.status.busy": "2021-12-11T20:10:12.851220Z",
     "iopub.status.idle": "2021-12-11T20:10:13.071012Z",
     "shell.execute_reply": "2021-12-11T20:10:13.069872Z"
    },
    "papermill": {
     "duration": 0.273502,
     "end_time": "2021-12-11T20:10:13.071194",
     "exception": false,
     "start_time": "2021-12-11T20:10:12.797692",
     "status": "completed"
    },
    "tags": []
   },
   "outputs": [
    {
     "data": {
      "text/plain": [
       "Text(0.5, 1.0, 'Outputs')"
      ]
     },
     "execution_count": 26,
     "metadata": {},
     "output_type": "execute_result"
    },
    {
     "data": {
      "image/png": "[encoded data removed]",
      "text/plain": [
       "<Figure size 576x504 with 1 Axes>"
      ]
     },
     "metadata": {
      "needs_background": "light"
     },
     "output_type": "display_data"
    }
   ],
   "source": [
    "# Plotting the scatter plot of points and color coding by class\n",
    "plt.figure(figsize=(8,7))\n",
    "plt.scatter(testing_plot[:,0], testing_plot[:,1], alpha = 0.1, c = y_test.ravel());\n",
    "plt.title('Outputs')"
   ]
  },
  {
   "cell_type": "markdown",
   "id": "a74fcf8f",
   "metadata": {
    "papermill": {
     "duration": 0.04706,
     "end_time": "2021-12-11T20:10:13.168345",
     "exception": false,
     "start_time": "2021-12-11T20:10:13.121285",
     "status": "completed"
    },
    "tags": []
   },
   "source": [
    "Probability contours"
   ]
  },
  {
   "cell_type": "code",
   "execution_count": 27,
   "id": "d0afc8e3",
   "metadata": {
    "execution": {
     "iopub.execute_input": "2021-12-11T20:10:13.268257Z",
     "iopub.status.busy": "2021-12-11T20:10:13.265021Z",
     "iopub.status.idle": "2021-12-11T20:10:13.278481Z",
     "shell.execute_reply": "2021-12-11T20:10:13.277999Z"
    },
    "papermill": {
     "duration": 0.063003,
     "end_time": "2021-12-11T20:10:13.278607",
     "exception": false,
     "start_time": "2021-12-11T20:10:13.215604",
     "status": "completed"
    },
    "tags": []
   },
   "outputs": [],
   "source": [
    "model_prob = Model(layers[-2:]) "
   ]
  },
  {
   "cell_type": "code",
   "execution_count": 28,
   "id": "9b96e238",
   "metadata": {
    "execution": {
     "iopub.execute_input": "2021-12-11T20:10:13.412752Z",
     "iopub.status.busy": "2021-12-11T20:10:13.412108Z",
     "iopub.status.idle": "2021-12-11T20:10:13.425313Z",
     "shell.execute_reply": "2021-12-11T20:10:13.425761Z"
    },
    "papermill": {
     "duration": 0.070901,
     "end_time": "2021-12-11T20:10:13.425917",
     "exception": false,
     "start_time": "2021-12-11T20:10:13.355016",
     "status": "completed"
    },
    "tags": []
   },
   "outputs": [],
   "source": [
    "#creating the x and y ranges according to the above generated plot.\n",
    "x_range = np.linspace(-4, 1, 100) \n",
    "y_range = np.linspace(-6, 6, 100) \n",
    "x_grid, y_grid = np.meshgrid(x_range, y_range) # x_grid and y_grig are of size 100 X 100\n",
    "\n",
    "# converting x_grid and y_grid to continuous arrays\n",
    "x_gridflat = np.ravel(x_grid)\n",
    "y_gridflat = np.ravel(y_grid)\n",
    "\n",
    "# The last layer of the current model takes two columns as input. Hence transpose of np.vstack() is required.\n",
    "X = np.vstack((x_gridflat, y_gridflat)).T\n",
    "\n",
    "prob_contour = model_prob(X).reshape(100,100) "
   ]
  },
  {
   "cell_type": "code",
   "execution_count": 29,
   "id": "da72499a",
   "metadata": {
    "execution": {
     "iopub.execute_input": "2021-12-11T20:10:13.544677Z",
     "iopub.status.busy": "2021-12-11T20:10:13.544074Z",
     "iopub.status.idle": "2021-12-11T20:10:13.830592Z",
     "shell.execute_reply": "2021-12-11T20:10:13.830067Z"
    },
    "papermill": {
     "duration": 0.353392,
     "end_time": "2021-12-11T20:10:13.830723",
     "exception": false,
     "start_time": "2021-12-11T20:10:13.477331",
     "status": "completed"
    },
    "tags": []
   },
   "outputs": [
    {
     "data": {
      "image/png": "[encoded data removed]",
      "text/plain": [
       "<Figure size 720x648 with 1 Axes>"
      ]
     },
     "metadata": {
      "needs_background": "light"
     },
     "output_type": "display_data"
    }
   ],
   "source": [
    "plt.figure(figsize=(10,9))\n",
    "plt.scatter(testing_plot[:,0], testing_plot[:,1], alpha = 0.1, c = y_test.ravel())\n",
    "contours = plt.contour(x_grid,y_grid,prob_contour)\n",
    "plt.title('Probability Contours')\n",
    "plt.clabel(contours, inline = True );"
   ]
  },
  {
   "cell_type": "code",
   "execution_count": null,
   "id": "e81b4ac7",
   "metadata": {
    "papermill": {
     "duration": 0.051176,
     "end_time": "2021-12-11T20:10:13.936194",
     "exception": false,
     "start_time": "2021-12-11T20:10:13.885018",
     "status": "completed"
    },
    "tags": []
   },
   "outputs": [],
   "source": []
  }
 ],
 "metadata": {
  "kernelspec": {
   "display_name": "Python 3",
   "language": "python",
   "name": "python3"
  },
  "language_info": {
   "codemirror_mode": {
    "name": "ipython",
    "version": 3
   },
   "file_extension": ".py",
   "mimetype": "text/x-python",
   "name": "python",
   "nbconvert_exporter": "python",
   "pygments_lexer": "ipython3",
   "version": "3.6.15"
  },
  "papermill": {
   "default_parameters": {},
   "duration": 112.176172,
   "end_time": "2021-12-11T20:10:14.395510",
   "environment_variables": {},
   "exception": null,
   "input_path": "2020-08-11-part2.ipynb",
   "output_path": "2020-08-11-part2.ipynb",
   "parameters": {},
   "start_time": "2021-12-11T20:08:22.219338",
   "version": "2.3.3"
  }
 },
 "nbformat": 4,
 "nbformat_minor": 5
}