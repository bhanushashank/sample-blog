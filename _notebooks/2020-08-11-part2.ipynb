{
 "cells": [
  {
   "cell_type": "markdown",
   "id": "98380cd3",
   "metadata": {
    "papermill": {
     "duration": 0.033406,
     "end_time": "2021-09-10T20:06:48.293128",
     "exception": false,
     "start_time": "2021-09-10T20:06:48.259722",
     "status": "completed"
    },
    "tags": []
   },
   "source": [
    "# Distinguish Your Own Digits (DYOD)"
   ]
  },
  {
   "cell_type": "markdown",
   "id": "ef31240d",
   "metadata": {
    "papermill": {
     "duration": 0.024914,
     "end_time": "2021-09-10T20:06:48.344677",
     "exception": false,
     "start_time": "2021-09-10T20:06:48.319763",
     "status": "completed"
    },
    "tags": []
   },
   "source": [
    "You are going to write a classifier that distinguishes between the number 3 and number 8."
   ]
  },
  {
   "cell_type": "code",
   "execution_count": 1,
   "id": "b15c8646",
   "metadata": {
    "execution": {
     "iopub.execute_input": "2021-09-10T20:06:48.409842Z",
     "iopub.status.busy": "2021-09-10T20:06:48.409254Z",
     "iopub.status.idle": "2021-09-10T20:06:48.420799Z",
     "shell.execute_reply": "2021-09-10T20:06:48.420261Z"
    },
    "papermill": {
     "duration": 0.050311,
     "end_time": "2021-09-10T20:06:48.420941",
     "exception": false,
     "start_time": "2021-09-10T20:06:48.370630",
     "status": "completed"
    },
    "tags": []
   },
   "outputs": [],
   "source": [
    "%load_ext autoreload\n",
    "%autoreload 2"
   ]
  },
  {
   "cell_type": "code",
   "execution_count": 2,
   "id": "22ef38dc",
   "metadata": {
    "execution": {
     "iopub.execute_input": "2021-09-10T20:06:48.477137Z",
     "iopub.status.busy": "2021-09-10T20:06:48.476434Z",
     "iopub.status.idle": "2021-09-10T20:06:49.030584Z",
     "shell.execute_reply": "2021-09-10T20:06:49.029976Z"
    },
    "papermill": {
     "duration": 0.583777,
     "end_time": "2021-09-10T20:06:49.030734",
     "exception": false,
     "start_time": "2021-09-10T20:06:48.446957",
     "status": "completed"
    },
    "tags": []
   },
   "outputs": [],
   "source": [
    "%matplotlib inline\n",
    "import numpy as np\n",
    "import matplotlib.pyplot as plt\n",
    "import pandas as pd"
   ]
  },
  {
   "cell_type": "markdown",
   "id": "ba036198",
   "metadata": {
    "papermill": {
     "duration": 0.026934,
     "end_time": "2021-09-10T20:06:49.084289",
     "exception": false,
     "start_time": "2021-09-10T20:06:49.057355",
     "status": "completed"
    },
    "tags": []
   },
   "source": [
    "From the command line run `pip install mnist`. This is a library that will help you bring down the mnist dataset. If you run this from a notebook, you need to put  `!pip install mnist` in a cell by itself."
   ]
  },
  {
   "cell_type": "code",
   "execution_count": 3,
   "id": "bb6ad8a1",
   "metadata": {
    "execution": {
     "iopub.execute_input": "2021-09-10T20:06:49.140057Z",
     "iopub.status.busy": "2021-09-10T20:06:49.139516Z",
     "iopub.status.idle": "2021-09-10T20:06:50.929128Z",
     "shell.execute_reply": "2021-09-10T20:06:50.928464Z"
    },
    "papermill": {
     "duration": 1.819529,
     "end_time": "2021-09-10T20:06:50.929275",
     "exception": false,
     "start_time": "2021-09-10T20:06:49.109746",
     "status": "completed"
    },
    "tags": []
   },
   "outputs": [
    {
     "name": "stdout",
     "output_type": "stream",
     "text": [
      "Collecting mnist\r\n"
     ]
    },
    {
     "name": "stdout",
     "output_type": "stream",
     "text": [
      "  Downloading mnist-0.2.2-py2.py3-none-any.whl (3.5 kB)\r\n",
      "Requirement already satisfied: numpy in /opt/hostedtoolcache/Python/3.6.14/x64/lib/python3.6/site-packages (from mnist) (1.19.5)\r\n"
     ]
    },
    {
     "name": "stdout",
     "output_type": "stream",
     "text": [
      "Installing collected packages: mnist\r\n"
     ]
    },
    {
     "name": "stdout",
     "output_type": "stream",
     "text": [
      "Successfully installed mnist-0.2.2\r\n"
     ]
    }
   ],
   "source": [
    "!pip install mnist"
   ]
  },
  {
   "cell_type": "markdown",
   "id": "69df9c9a",
   "metadata": {
    "papermill": {
     "duration": 0.026586,
     "end_time": "2021-09-10T20:06:50.984609",
     "exception": false,
     "start_time": "2021-09-10T20:06:50.958023",
     "status": "completed"
    },
    "tags": []
   },
   "source": [
    "## Preparing the Data"
   ]
  },
  {
   "cell_type": "code",
   "execution_count": 4,
   "id": "7f69d806",
   "metadata": {
    "execution": {
     "iopub.execute_input": "2021-09-10T20:06:51.045970Z",
     "iopub.status.busy": "2021-09-10T20:06:51.043284Z",
     "iopub.status.idle": "2021-09-10T20:06:51.058756Z",
     "shell.execute_reply": "2021-09-10T20:06:51.058222Z"
    },
    "papermill": {
     "duration": 0.047886,
     "end_time": "2021-09-10T20:06:51.058873",
     "exception": false,
     "start_time": "2021-09-10T20:06:51.010987",
     "status": "completed"
    },
    "tags": []
   },
   "outputs": [],
   "source": [
    "import mnist"
   ]
  },
  {
   "cell_type": "code",
   "execution_count": 5,
   "id": "a411e44f",
   "metadata": {
    "execution": {
     "iopub.execute_input": "2021-09-10T20:06:51.117222Z",
     "iopub.status.busy": "2021-09-10T20:06:51.116639Z",
     "iopub.status.idle": "2021-09-10T20:06:51.699720Z",
     "shell.execute_reply": "2021-09-10T20:06:51.698412Z"
    },
    "papermill": {
     "duration": 0.614001,
     "end_time": "2021-09-10T20:06:51.699877",
     "exception": false,
     "start_time": "2021-09-10T20:06:51.085876",
     "status": "completed"
    },
    "tags": []
   },
   "outputs": [],
   "source": [
    "train_images = mnist.train_images()\n",
    "train_labels = mnist.train_labels()"
   ]
  },
  {
   "cell_type": "code",
   "execution_count": 6,
   "id": "dceab3a5",
   "metadata": {
    "execution": {
     "iopub.execute_input": "2021-09-10T20:06:51.760313Z",
     "iopub.status.busy": "2021-09-10T20:06:51.759146Z",
     "iopub.status.idle": "2021-09-10T20:06:51.774852Z",
     "shell.execute_reply": "2021-09-10T20:06:51.775355Z"
    },
    "papermill": {
     "duration": 0.046884,
     "end_time": "2021-09-10T20:06:51.775498",
     "exception": false,
     "start_time": "2021-09-10T20:06:51.728614",
     "status": "completed"
    },
    "tags": []
   },
   "outputs": [
    {
     "data": {
      "text/plain": [
       "((60000, 28, 28), (60000,))"
      ]
     },
     "execution_count": 6,
     "metadata": {},
     "output_type": "execute_result"
    }
   ],
   "source": [
    "train_images.shape, train_labels.shape"
   ]
  },
  {
   "cell_type": "code",
   "execution_count": 7,
   "id": "f50dc2bb",
   "metadata": {
    "execution": {
     "iopub.execute_input": "2021-09-10T20:06:51.837049Z",
     "iopub.status.busy": "2021-09-10T20:06:51.836490Z",
     "iopub.status.idle": "2021-09-10T20:06:51.996665Z",
     "shell.execute_reply": "2021-09-10T20:06:51.996110Z"
    },
    "papermill": {
     "duration": 0.192323,
     "end_time": "2021-09-10T20:06:51.996804",
     "exception": false,
     "start_time": "2021-09-10T20:06:51.804481",
     "status": "completed"
    },
    "tags": []
   },
   "outputs": [],
   "source": [
    "test_images = mnist.test_images()\n",
    "test_labels = mnist.test_labels()"
   ]
  },
  {
   "cell_type": "code",
   "execution_count": 8,
   "id": "fc38cf1b",
   "metadata": {
    "execution": {
     "iopub.execute_input": "2021-09-10T20:06:52.060698Z",
     "iopub.status.busy": "2021-09-10T20:06:52.060045Z",
     "iopub.status.idle": "2021-09-10T20:06:52.073742Z",
     "shell.execute_reply": "2021-09-10T20:06:52.073237Z"
    },
    "papermill": {
     "duration": 0.04746,
     "end_time": "2021-09-10T20:06:52.073859",
     "exception": false,
     "start_time": "2021-09-10T20:06:52.026399",
     "status": "completed"
    },
    "tags": []
   },
   "outputs": [
    {
     "data": {
      "text/plain": [
       "((10000, 28, 28), (10000,))"
      ]
     },
     "execution_count": 8,
     "metadata": {},
     "output_type": "execute_result"
    }
   ],
   "source": [
    "test_images.shape, test_labels.shape"
   ]
  },
  {
   "cell_type": "code",
   "execution_count": 9,
   "id": "f9ed8fe0",
   "metadata": {
    "execution": {
     "iopub.execute_input": "2021-09-10T20:06:52.145775Z",
     "iopub.status.busy": "2021-09-10T20:06:52.145232Z",
     "iopub.status.idle": "2021-09-10T20:06:52.313793Z",
     "shell.execute_reply": "2021-09-10T20:06:52.314291Z"
    },
    "papermill": {
     "duration": 0.202294,
     "end_time": "2021-09-10T20:06:52.314442",
     "exception": false,
     "start_time": "2021-09-10T20:06:52.112148",
     "status": "completed"
    },
    "tags": []
   },
   "outputs": [
    {
     "name": "stdout",
     "output_type": "stream",
     "text": [
      "2\n"
     ]
    },
    {
     "data": {
      "text/plain": [
       "<matplotlib.image.AxesImage at 0x7ff96c101cf8>"
      ]
     },
     "execution_count": 9,
     "metadata": {},
     "output_type": "execute_result"
    },
    {
     "data": {
      "image/png": "[encoded data removed]",
      "text/plain": [
       "<Figure size 432x288 with 1 Axes>"
      ]
     },
     "metadata": {
      "needs_background": "light"
     },
     "output_type": "display_data"
    }
   ],
   "source": [
    "image_index = 7776 # You may select anything up to 60,000\n",
    "print(train_labels[image_index]) \n",
    "plt.imshow(train_images[image_index], cmap='Greys')"
   ]
  },
  {
   "cell_type": "markdown",
   "id": "a8d2388d",
   "metadata": {
    "papermill": {
     "duration": 0.028886,
     "end_time": "2021-09-10T20:06:52.372492",
     "exception": false,
     "start_time": "2021-09-10T20:06:52.343606",
     "status": "completed"
    },
    "tags": []
   },
   "source": [
    "## Filter data to get 3 and 8 out"
   ]
  },
  {
   "cell_type": "code",
   "execution_count": 10,
   "id": "776f7fc7",
   "metadata": {
    "execution": {
     "iopub.execute_input": "2021-09-10T20:06:52.435664Z",
     "iopub.status.busy": "2021-09-10T20:06:52.435110Z",
     "iopub.status.idle": "2021-09-10T20:06:52.451390Z",
     "shell.execute_reply": "2021-09-10T20:06:52.450888Z"
    },
    "papermill": {
     "duration": 0.049877,
     "end_time": "2021-09-10T20:06:52.451502",
     "exception": false,
     "start_time": "2021-09-10T20:06:52.401625",
     "status": "completed"
    },
    "tags": []
   },
   "outputs": [],
   "source": [
    "train_filter = np.where((train_labels == 3 ) | (train_labels == 8))\n",
    "test_filter = np.where((test_labels == 3) | (test_labels == 8))\n",
    "X_train, y_train = train_images[train_filter], train_labels[train_filter]\n",
    "X_test, y_test = test_images[test_filter], test_labels[test_filter]"
   ]
  },
  {
   "cell_type": "markdown",
   "id": "948f0b7e",
   "metadata": {
    "papermill": {
     "duration": 0.031819,
     "end_time": "2021-09-10T20:06:52.511879",
     "exception": false,
     "start_time": "2021-09-10T20:06:52.480060",
     "status": "completed"
    },
    "tags": []
   },
   "source": [
    "We normalize the pizel values in the 0 to 1 range"
   ]
  },
  {
   "cell_type": "code",
   "execution_count": 11,
   "id": "ee4c2166",
   "metadata": {
    "execution": {
     "iopub.execute_input": "2021-09-10T20:06:52.578085Z",
     "iopub.status.busy": "2021-09-10T20:06:52.577495Z",
     "iopub.status.idle": "2021-09-10T20:06:52.631531Z",
     "shell.execute_reply": "2021-09-10T20:06:52.630919Z"
    },
    "papermill": {
     "duration": 0.087033,
     "end_time": "2021-09-10T20:06:52.631686",
     "exception": false,
     "start_time": "2021-09-10T20:06:52.544653",
     "status": "completed"
    },
    "tags": []
   },
   "outputs": [],
   "source": [
    "X_train = X_train/255.\n",
    "X_test = X_test/255."
   ]
  },
  {
   "cell_type": "markdown",
   "id": "ddcf4fab",
   "metadata": {
    "papermill": {
     "duration": 0.029027,
     "end_time": "2021-09-10T20:06:52.691304",
     "exception": false,
     "start_time": "2021-09-10T20:06:52.662277",
     "status": "completed"
    },
    "tags": []
   },
   "source": [
    "And setup the labels as 1 (when the digit is 3) and 0 (when the digit is 8)"
   ]
  },
  {
   "cell_type": "code",
   "execution_count": 12,
   "id": "7dc908f2",
   "metadata": {
    "execution": {
     "iopub.execute_input": "2021-09-10T20:06:52.755124Z",
     "iopub.status.busy": "2021-09-10T20:06:52.754450Z",
     "iopub.status.idle": "2021-09-10T20:06:52.767612Z",
     "shell.execute_reply": "2021-09-10T20:06:52.767085Z"
    },
    "papermill": {
     "duration": 0.047187,
     "end_time": "2021-09-10T20:06:52.767741",
     "exception": false,
     "start_time": "2021-09-10T20:06:52.720554",
     "status": "completed"
    },
    "tags": []
   },
   "outputs": [],
   "source": [
    "y_train = 1*(y_train==3)\n",
    "y_test = 1*(y_test==3)"
   ]
  },
  {
   "cell_type": "code",
   "execution_count": 13,
   "id": "01e4e969",
   "metadata": {
    "execution": {
     "iopub.execute_input": "2021-09-10T20:06:52.829654Z",
     "iopub.status.busy": "2021-09-10T20:06:52.829052Z",
     "iopub.status.idle": "2021-09-10T20:06:52.843002Z",
     "shell.execute_reply": "2021-09-10T20:06:52.843467Z"
    },
    "papermill": {
     "duration": 0.046058,
     "end_time": "2021-09-10T20:06:52.843599",
     "exception": false,
     "start_time": "2021-09-10T20:06:52.797541",
     "status": "completed"
    },
    "tags": []
   },
   "outputs": [
    {
     "data": {
      "text/plain": [
       "((11982, 28, 28), (1984, 28, 28))"
      ]
     },
     "execution_count": 13,
     "metadata": {},
     "output_type": "execute_result"
    }
   ],
   "source": [
    "X_train.shape, X_test.shape"
   ]
  },
  {
   "cell_type": "markdown",
   "id": "5ccf3f85",
   "metadata": {
    "papermill": {
     "duration": 0.028938,
     "end_time": "2021-09-10T20:06:52.901155",
     "exception": false,
     "start_time": "2021-09-10T20:06:52.872217",
     "status": "completed"
    },
    "tags": []
   },
   "source": [
    "We reshape the data to flatten the image pixels into a set of features or co-variates:"
   ]
  },
  {
   "cell_type": "code",
   "execution_count": 14,
   "id": "5286a4a3",
   "metadata": {
    "execution": {
     "iopub.execute_input": "2021-09-10T20:06:52.965981Z",
     "iopub.status.busy": "2021-09-10T20:06:52.965381Z",
     "iopub.status.idle": "2021-09-10T20:06:52.981681Z",
     "shell.execute_reply": "2021-09-10T20:06:52.982180Z"
    },
    "papermill": {
     "duration": 0.052109,
     "end_time": "2021-09-10T20:06:52.982308",
     "exception": false,
     "start_time": "2021-09-10T20:06:52.930199",
     "status": "completed"
    },
    "tags": []
   },
   "outputs": [
    {
     "data": {
      "text/plain": [
       "((11982, 784), (1984, 784))"
      ]
     },
     "execution_count": 14,
     "metadata": {},
     "output_type": "execute_result"
    }
   ],
   "source": [
    "X_train = X_train.reshape(X_train.shape[0], -1)\n",
    "X_test = X_test.reshape(X_test.shape[0], -1)\n",
    "X_train.shape, X_test.shape"
   ]
  },
  {
   "cell_type": "code",
   "execution_count": 15,
   "id": "73c5f88a",
   "metadata": {
    "execution": {
     "iopub.execute_input": "2021-09-10T20:06:53.048244Z",
     "iopub.status.busy": "2021-09-10T20:06:53.047698Z",
     "iopub.status.idle": "2021-09-10T20:06:53.067926Z",
     "shell.execute_reply": "2021-09-10T20:06:53.067483Z"
    },
    "papermill": {
     "duration": 0.057133,
     "end_time": "2021-09-10T20:06:53.068038",
     "exception": false,
     "start_time": "2021-09-10T20:06:53.010905",
     "status": "completed"
    },
    "tags": []
   },
   "outputs": [],
   "source": [
    "#Impoting functions from 'Kudzu'\n",
    "from kudzu.model import Model\n",
    "from kudzu.train import Learner\n",
    "from kudzu.optim import GD\n",
    "from kudzu.data import Data, Sampler,Dataloader\n",
    "\n",
    "from kudzu.callbacks import AccCallback\n",
    "from kudzu.callbacks import ClfCallback\n",
    "\n",
    "from kudzu.loss import MSE\n",
    "\n",
    "from kudzu.layer import Sigmoid,Relu\n",
    "from kudzu.layer import Affine"
   ]
  },
  {
   "cell_type": "markdown",
   "id": "bc01172a",
   "metadata": {
    "papermill": {
     "duration": 0.029254,
     "end_time": "2021-09-10T20:06:53.126974",
     "exception": false,
     "start_time": "2021-09-10T20:06:53.097720",
     "status": "completed"
    },
    "tags": []
   },
   "source": [
    "### Let us create a `Config` class, to store important parameters. \n",
    "This class essentially plays the role of a dictionary."
   ]
  },
  {
   "cell_type": "code",
   "execution_count": 16,
   "id": "978281aa",
   "metadata": {
    "execution": {
     "iopub.execute_input": "2021-09-10T20:06:53.189369Z",
     "iopub.status.busy": "2021-09-10T20:06:53.188732Z",
     "iopub.status.idle": "2021-09-10T20:06:53.202498Z",
     "shell.execute_reply": "2021-09-10T20:06:53.202025Z"
    },
    "papermill": {
     "duration": 0.046453,
     "end_time": "2021-09-10T20:06:53.202619",
     "exception": false,
     "start_time": "2021-09-10T20:06:53.156166",
     "status": "completed"
    },
    "tags": []
   },
   "outputs": [],
   "source": [
    "class Config:\n",
    "    pass\n",
    "config = Config()\n",
    "config.lr = 0.001\n",
    "config.num_epochs = 250\n",
    "config.bs = 50"
   ]
  },
  {
   "cell_type": "markdown",
   "id": "1385fa59",
   "metadata": {
    "papermill": {
     "duration": 0.02908,
     "end_time": "2021-09-10T20:06:53.260273",
     "exception": false,
     "start_time": "2021-09-10T20:06:53.231193",
     "status": "completed"
    },
    "tags": []
   },
   "source": [
    "### Running Models with the Training data\n",
    "Details about the network layers:\n",
    "- A first affine layer has 784 inputs and does 100 affine transforms. These are followed by a Relu\n",
    "- A second affine layer has 100 inputs from the 100 activations of the past layer, and does 100 affine transforms. These are followed by a Relu\n",
    "- A third affine layer has 100 activations and does 2 affine transformations to create an embedding for visualization. There is no non-linearity here.\n",
    "- A final \"logistic regression\" which has an affine transform from 2 inputs to 1 output, which is squeezed through a sigmoid.\n"
   ]
  },
  {
   "cell_type": "code",
   "execution_count": 17,
   "id": "2b9c66db",
   "metadata": {
    "execution": {
     "iopub.execute_input": "2021-09-10T20:06:53.323696Z",
     "iopub.status.busy": "2021-09-10T20:06:53.323029Z",
     "iopub.status.idle": "2021-09-10T20:06:53.335790Z",
     "shell.execute_reply": "2021-09-10T20:06:53.335195Z"
    },
    "papermill": {
     "duration": 0.045005,
     "end_time": "2021-09-10T20:06:53.335926",
     "exception": false,
     "start_time": "2021-09-10T20:06:53.290921",
     "status": "completed"
    },
    "tags": []
   },
   "outputs": [],
   "source": [
    "data = Data(X_train, y_train.reshape(-1,1))\n",
    "sampler = Sampler(data, config.bs, shuffle=True)\n",
    "\n",
    "dl = Dataloader(data, sampler)\n",
    "\n",
    "opt = GD(config.lr)\n",
    "loss = MSE()"
   ]
  },
  {
   "cell_type": "code",
   "execution_count": 18,
   "id": "b275e4c2",
   "metadata": {
    "execution": {
     "iopub.execute_input": "2021-09-10T20:06:53.397970Z",
     "iopub.status.busy": "2021-09-10T20:06:53.397423Z",
     "iopub.status.idle": "2021-09-10T20:06:53.409551Z",
     "shell.execute_reply": "2021-09-10T20:06:53.409091Z"
    },
    "papermill": {
     "duration": 0.044679,
     "end_time": "2021-09-10T20:06:53.409659",
     "exception": false,
     "start_time": "2021-09-10T20:06:53.364980",
     "status": "completed"
    },
    "tags": []
   },
   "outputs": [],
   "source": [
    "training_data_x = X_train\n",
    "testing_data_x = X_test\n",
    "training_data_y = y_train.reshape(-1,1)\n",
    "testing_data_y = y_test.reshape(-1,1)"
   ]
  },
  {
   "cell_type": "code",
   "execution_count": 19,
   "id": "76951160",
   "metadata": {
    "execution": {
     "iopub.execute_input": "2021-09-10T20:06:53.470939Z",
     "iopub.status.busy": "2021-09-10T20:06:53.470393Z",
     "iopub.status.idle": "2021-09-10T20:06:53.486362Z",
     "shell.execute_reply": "2021-09-10T20:06:53.485867Z"
    },
    "papermill": {
     "duration": 0.04863,
     "end_time": "2021-09-10T20:06:53.486477",
     "exception": false,
     "start_time": "2021-09-10T20:06:53.437847",
     "status": "completed"
    },
    "tags": []
   },
   "outputs": [
    {
     "name": "stdout",
     "output_type": "stream",
     "text": [
      "xavier\n",
      "xavier\n",
      "xavier\n",
      "xavier\n",
      "xavier\n"
     ]
    }
   ],
   "source": [
    "layers = [Affine(\"first\", 784, 100), Relu(\"first\"), Affine(\"second\", 100, 100), Relu(\"second\"), Affine(\"third\", 100, 2), Affine(\"last\", 2, 1), Sigmoid(\"last\")]\n",
    "model_nn = Model(layers)\n",
    "model_lr = Model([Affine(\"logits\", 784, 1), Sigmoid(\"sigmoid\")])"
   ]
  },
  {
   "cell_type": "code",
   "execution_count": 20,
   "id": "6eede77a",
   "metadata": {
    "execution": {
     "iopub.execute_input": "2021-09-10T20:06:53.551490Z",
     "iopub.status.busy": "2021-09-10T20:06:53.550912Z",
     "iopub.status.idle": "2021-09-10T20:06:53.562172Z",
     "shell.execute_reply": "2021-09-10T20:06:53.561674Z"
    },
    "papermill": {
     "duration": 0.04708,
     "end_time": "2021-09-10T20:06:53.562286",
     "exception": false,
     "start_time": "2021-09-10T20:06:53.515206",
     "status": "completed"
    },
    "tags": []
   },
   "outputs": [],
   "source": [
    "nn_learner = Learner(loss, model_nn, opt, config.num_epochs)\n",
    "acc_nn = ClfCallback(nn_learner, config.bs, training_data_x , testing_data_x, training_data_y, testing_data_y)\n",
    "nn_learner.set_callbacks([acc_nn])"
   ]
  },
  {
   "cell_type": "code",
   "execution_count": 21,
   "id": "877b6cc7",
   "metadata": {
    "execution": {
     "iopub.execute_input": "2021-09-10T20:06:53.633492Z",
     "iopub.status.busy": "2021-09-10T20:06:53.630500Z",
     "iopub.status.idle": "2021-09-10T20:06:53.640450Z",
     "shell.execute_reply": "2021-09-10T20:06:53.639918Z"
    },
    "papermill": {
     "duration": 0.04945,
     "end_time": "2021-09-10T20:06:53.640570",
     "exception": false,
     "start_time": "2021-09-10T20:06:53.591120",
     "status": "completed"
    },
    "tags": []
   },
   "outputs": [],
   "source": [
    "lr_learner = Learner(loss, model_lr, opt, config.num_epochs)\n",
    "acc_lr = ClfCallback(lr_learner, config.bs, training_data_x , testing_data_x, training_data_y, testing_data_y)\n",
    "lr_learner.set_callbacks([acc_lr])"
   ]
  },
  {
   "cell_type": "code",
   "execution_count": 22,
   "id": "d9b133c3",
   "metadata": {
    "execution": {
     "iopub.execute_input": "2021-09-10T20:06:53.703581Z",
     "iopub.status.busy": "2021-09-10T20:06:53.703043Z",
     "iopub.status.idle": "2021-09-10T20:08:18.308973Z",
     "shell.execute_reply": "2021-09-10T20:08:18.309731Z"
    },
    "papermill": {
     "duration": 84.640383,
     "end_time": "2021-09-10T20:08:18.309878",
     "exception": false,
     "start_time": "2021-09-10T20:06:53.669495",
     "status": "completed"
    },
    "tags": []
   },
   "outputs": [
    {
     "name": "stdout",
     "output_type": "stream",
     "text": [
      "Epoch 0, Loss 0.2488\n",
      "Training Accuracy: 0.5232, Testing Accuracy: 0.5287\n",
      "\n"
     ]
    },
    {
     "name": "stdout",
     "output_type": "stream",
     "text": [
      "Epoch 10, Loss 0.1455\n",
      "Training Accuracy: 0.8788, Testing Accuracy: 0.8942\n",
      "\n"
     ]
    },
    {
     "name": "stdout",
     "output_type": "stream",
     "text": [
      "Epoch 20, Loss 0.0744\n",
      "Training Accuracy: 0.9250, Testing Accuracy: 0.9375\n",
      "\n"
     ]
    },
    {
     "name": "stdout",
     "output_type": "stream",
     "text": [
      "Epoch 30, Loss 0.0508\n",
      "Training Accuracy: 0.9473, Testing Accuracy: 0.9597\n",
      "\n"
     ]
    },
    {
     "name": "stdout",
     "output_type": "stream",
     "text": [
      "Epoch 40, Loss 0.0409\n",
      "Training Accuracy: 0.9556, Testing Accuracy: 0.9637\n",
      "\n"
     ]
    },
    {
     "name": "stdout",
     "output_type": "stream",
     "text": [
      "Epoch 50, Loss 0.0357\n",
      "Training Accuracy: 0.9599, Testing Accuracy: 0.9677\n",
      "\n"
     ]
    },
    {
     "name": "stdout",
     "output_type": "stream",
     "text": [
      "Epoch 60, Loss 0.0325\n",
      "Training Accuracy: 0.9629, Testing Accuracy: 0.9688\n",
      "\n"
     ]
    },
    {
     "name": "stdout",
     "output_type": "stream",
     "text": [
      "Epoch 70, Loss 0.0303\n",
      "Training Accuracy: 0.9654, Testing Accuracy: 0.9703\n",
      "\n"
     ]
    },
    {
     "name": "stdout",
     "output_type": "stream",
     "text": [
      "Epoch 80, Loss 0.0285\n",
      "Training Accuracy: 0.9675, Testing Accuracy: 0.9713\n",
      "\n"
     ]
    },
    {
     "name": "stdout",
     "output_type": "stream",
     "text": [
      "Epoch 90, Loss 0.0272\n",
      "Training Accuracy: 0.9688, Testing Accuracy: 0.9733\n",
      "\n"
     ]
    },
    {
     "name": "stdout",
     "output_type": "stream",
     "text": [
      "Epoch 100, Loss 0.026\n",
      "Training Accuracy: 0.9704, Testing Accuracy: 0.9753\n",
      "\n"
     ]
    },
    {
     "name": "stdout",
     "output_type": "stream",
     "text": [
      "Epoch 110, Loss 0.025\n",
      "Training Accuracy: 0.9716, Testing Accuracy: 0.9753\n",
      "\n"
     ]
    },
    {
     "name": "stdout",
     "output_type": "stream",
     "text": [
      "Epoch 120, Loss 0.0241\n",
      "Training Accuracy: 0.9730, Testing Accuracy: 0.9763\n",
      "\n"
     ]
    },
    {
     "name": "stdout",
     "output_type": "stream",
     "text": [
      "Epoch 130, Loss 0.0233\n",
      "Training Accuracy: 0.9735, Testing Accuracy: 0.9758\n",
      "\n"
     ]
    },
    {
     "name": "stdout",
     "output_type": "stream",
     "text": [
      "Epoch 140, Loss 0.0226\n",
      "Training Accuracy: 0.9743, Testing Accuracy: 0.9758\n",
      "\n"
     ]
    },
    {
     "name": "stdout",
     "output_type": "stream",
     "text": [
      "Epoch 150, Loss 0.022\n",
      "Training Accuracy: 0.9754, Testing Accuracy: 0.9758\n",
      "\n"
     ]
    },
    {
     "name": "stdout",
     "output_type": "stream",
     "text": [
      "Epoch 160, Loss 0.0213\n",
      "Training Accuracy: 0.9759, Testing Accuracy: 0.9753\n",
      "\n"
     ]
    },
    {
     "name": "stdout",
     "output_type": "stream",
     "text": [
      "Epoch 170, Loss 0.0208\n",
      "Training Accuracy: 0.9766, Testing Accuracy: 0.9758\n",
      "\n"
     ]
    },
    {
     "name": "stdout",
     "output_type": "stream",
     "text": [
      "Epoch 180, Loss 0.0202\n",
      "Training Accuracy: 0.9776, Testing Accuracy: 0.9758\n",
      "\n"
     ]
    },
    {
     "name": "stdout",
     "output_type": "stream",
     "text": [
      "Epoch 190, Loss 0.0197\n",
      "Training Accuracy: 0.9782, Testing Accuracy: 0.9758\n",
      "\n"
     ]
    },
    {
     "name": "stdout",
     "output_type": "stream",
     "text": [
      "Epoch 200, Loss 0.0192\n",
      "Training Accuracy: 0.9791, Testing Accuracy: 0.9758\n",
      "\n"
     ]
    },
    {
     "name": "stdout",
     "output_type": "stream",
     "text": [
      "Epoch 210, Loss 0.0188\n",
      "Training Accuracy: 0.9799, Testing Accuracy: 0.9758\n",
      "\n"
     ]
    },
    {
     "name": "stdout",
     "output_type": "stream",
     "text": [
      "Epoch 220, Loss 0.0183\n",
      "Training Accuracy: 0.9802, Testing Accuracy: 0.9763\n",
      "\n"
     ]
    },
    {
     "name": "stdout",
     "output_type": "stream",
     "text": [
      "Epoch 230, Loss 0.0179\n",
      "Training Accuracy: 0.9807, Testing Accuracy: 0.9763\n",
      "\n"
     ]
    },
    {
     "name": "stdout",
     "output_type": "stream",
     "text": [
      "Epoch 240, Loss 0.0175\n",
      "Training Accuracy: 0.9814, Testing Accuracy: 0.9768\n",
      "\n"
     ]
    },
    {
     "data": {
      "text/plain": [
       "0.0013700874865194821"
      ]
     },
     "execution_count": 22,
     "metadata": {},
     "output_type": "execute_result"
    }
   ],
   "source": [
    "nn_learner.train_loop(dl)"
   ]
  },
  {
   "cell_type": "code",
   "execution_count": 23,
   "id": "e0163366",
   "metadata": {
    "execution": {
     "iopub.execute_input": "2021-09-10T20:08:18.396327Z",
     "iopub.status.busy": "2021-09-10T20:08:18.395752Z",
     "iopub.status.idle": "2021-09-10T20:08:33.309049Z",
     "shell.execute_reply": "2021-09-10T20:08:33.309815Z"
    },
    "papermill": {
     "duration": 14.963434,
     "end_time": "2021-09-10T20:08:33.309961",
     "exception": false,
     "start_time": "2021-09-10T20:08:18.346527",
     "status": "completed"
    },
    "tags": []
   },
   "outputs": [
    {
     "name": "stdout",
     "output_type": "stream",
     "text": [
      "Epoch 0, Loss 0.2095\n",
      "Training Accuracy: 0.7995, Testing Accuracy: 0.8160\n",
      "\n"
     ]
    },
    {
     "name": "stdout",
     "output_type": "stream",
     "text": [
      "Epoch 10, Loss 0.1003\n",
      "Training Accuracy: 0.9106, Testing Accuracy: 0.9209\n",
      "\n"
     ]
    },
    {
     "name": "stdout",
     "output_type": "stream",
     "text": [
      "Epoch 20, Loss 0.0782\n",
      "Training Accuracy: 0.9287, Testing Accuracy: 0.9400\n",
      "\n"
     ]
    },
    {
     "name": "stdout",
     "output_type": "stream",
     "text": [
      "Epoch 30, Loss 0.0677\n",
      "Training Accuracy: 0.9373, Testing Accuracy: 0.9481\n",
      "\n"
     ]
    },
    {
     "name": "stdout",
     "output_type": "stream",
     "text": [
      "Epoch 40, Loss 0.0613\n",
      "Training Accuracy: 0.9405, Testing Accuracy: 0.9516\n",
      "\n"
     ]
    },
    {
     "name": "stdout",
     "output_type": "stream",
     "text": [
      "Epoch 50, Loss 0.0569\n",
      "Training Accuracy: 0.9442, Testing Accuracy: 0.9561\n",
      "\n"
     ]
    },
    {
     "name": "stdout",
     "output_type": "stream",
     "text": [
      "Epoch 60, Loss 0.0536\n",
      "Training Accuracy: 0.9467, Testing Accuracy: 0.9567\n",
      "\n"
     ]
    },
    {
     "name": "stdout",
     "output_type": "stream",
     "text": [
      "Epoch 70, Loss 0.0511\n",
      "Training Accuracy: 0.9488, Testing Accuracy: 0.9577\n",
      "\n"
     ]
    },
    {
     "name": "stdout",
     "output_type": "stream",
     "text": [
      "Epoch 80, Loss 0.0491\n",
      "Training Accuracy: 0.9506, Testing Accuracy: 0.9592\n",
      "\n"
     ]
    },
    {
     "name": "stdout",
     "output_type": "stream",
     "text": [
      "Epoch 90, Loss 0.0475\n",
      "Training Accuracy: 0.9526, Testing Accuracy: 0.9592\n",
      "\n"
     ]
    },
    {
     "name": "stdout",
     "output_type": "stream",
     "text": [
      "Epoch 100, Loss 0.0461\n",
      "Training Accuracy: 0.9533, Testing Accuracy: 0.9607\n",
      "\n"
     ]
    },
    {
     "name": "stdout",
     "output_type": "stream",
     "text": [
      "Epoch 110, Loss 0.0449\n",
      "Training Accuracy: 0.9539, Testing Accuracy: 0.9622\n",
      "\n"
     ]
    },
    {
     "name": "stdout",
     "output_type": "stream",
     "text": [
      "Epoch 120, Loss 0.0438\n",
      "Training Accuracy: 0.9549, Testing Accuracy: 0.9637\n",
      "\n"
     ]
    },
    {
     "name": "stdout",
     "output_type": "stream",
     "text": [
      "Epoch 130, Loss 0.0429\n",
      "Training Accuracy: 0.9552, Testing Accuracy: 0.9647\n",
      "\n"
     ]
    },
    {
     "name": "stdout",
     "output_type": "stream",
     "text": [
      "Epoch 140, Loss 0.0421\n",
      "Training Accuracy: 0.9558, Testing Accuracy: 0.9642\n",
      "\n"
     ]
    },
    {
     "name": "stdout",
     "output_type": "stream",
     "text": [
      "Epoch 150, Loss 0.0414\n",
      "Training Accuracy: 0.9564, Testing Accuracy: 0.9642\n",
      "\n"
     ]
    },
    {
     "name": "stdout",
     "output_type": "stream",
     "text": [
      "Epoch 160, Loss 0.0407\n",
      "Training Accuracy: 0.9568, Testing Accuracy: 0.9667\n",
      "\n"
     ]
    },
    {
     "name": "stdout",
     "output_type": "stream",
     "text": [
      "Epoch 170, Loss 0.0401\n",
      "Training Accuracy: 0.9573, Testing Accuracy: 0.9667\n",
      "\n"
     ]
    },
    {
     "name": "stdout",
     "output_type": "stream",
     "text": [
      "Epoch 180, Loss 0.0395\n",
      "Training Accuracy: 0.9579, Testing Accuracy: 0.9662\n",
      "\n"
     ]
    },
    {
     "name": "stdout",
     "output_type": "stream",
     "text": [
      "Epoch 190, Loss 0.039\n",
      "Training Accuracy: 0.9585, Testing Accuracy: 0.9667\n",
      "\n"
     ]
    },
    {
     "name": "stdout",
     "output_type": "stream",
     "text": [
      "Epoch 200, Loss 0.0386\n",
      "Training Accuracy: 0.9585, Testing Accuracy: 0.9667\n",
      "\n"
     ]
    },
    {
     "name": "stdout",
     "output_type": "stream",
     "text": [
      "Epoch 210, Loss 0.0381\n",
      "Training Accuracy: 0.9588, Testing Accuracy: 0.9677\n",
      "\n"
     ]
    },
    {
     "name": "stdout",
     "output_type": "stream",
     "text": [
      "Epoch 220, Loss 0.0377\n",
      "Training Accuracy: 0.9592, Testing Accuracy: 0.9682\n",
      "\n"
     ]
    },
    {
     "name": "stdout",
     "output_type": "stream",
     "text": [
      "Epoch 230, Loss 0.0373\n",
      "Training Accuracy: 0.9599, Testing Accuracy: 0.9682\n",
      "\n"
     ]
    },
    {
     "name": "stdout",
     "output_type": "stream",
     "text": [
      "Epoch 240, Loss 0.037\n",
      "Training Accuracy: 0.9602, Testing Accuracy: 0.9682\n",
      "\n"
     ]
    },
    {
     "data": {
      "text/plain": [
       "0.0318812078603799"
      ]
     },
     "execution_count": 23,
     "metadata": {},
     "output_type": "execute_result"
    }
   ],
   "source": [
    "lr_learner.train_loop(dl)"
   ]
  },
  {
   "cell_type": "code",
   "execution_count": 24,
   "id": "ca410940",
   "metadata": {
    "execution": {
     "iopub.execute_input": "2021-09-10T20:08:33.409855Z",
     "iopub.status.busy": "2021-09-10T20:08:33.409263Z",
     "iopub.status.idle": "2021-09-10T20:08:33.641441Z",
     "shell.execute_reply": "2021-09-10T20:08:33.640850Z"
    },
    "papermill": {
     "duration": 0.287932,
     "end_time": "2021-09-10T20:08:33.641592",
     "exception": false,
     "start_time": "2021-09-10T20:08:33.353660",
     "status": "completed"
    },
    "tags": []
   },
   "outputs": [
    {
     "data": {
      "text/plain": [
       "<matplotlib.legend.Legend at 0x7ff95e955e48>"
      ]
     },
     "execution_count": 24,
     "metadata": {},
     "output_type": "execute_result"
    },
    {
     "data": {
      "image/png": "[encoded data removed]",
      "text/plain": [
       "<Figure size 1080x720 with 1 Axes>"
      ]
     },
     "metadata": {
      "needs_background": "light"
     },
     "output_type": "display_data"
    }
   ],
   "source": [
    "#comparing the results of NN and LR\n",
    "plt.figure(figsize=(15,10))\n",
    "\n",
    "# Neural Network plots\n",
    "plt.plot(acc_nn.accuracies, 'r-', label = \"Training Accuracies - NN\")\n",
    "plt.plot(acc_nn.test_accuracies, 'g-', label = \"Testing Accuracies - NN\")\n",
    "\n",
    "# Logistic Regression plots\n",
    "plt.plot(acc_lr.accuracies, 'k-', label = \"Training Accuracies - LR\")\n",
    "plt.plot(acc_lr.test_accuracies, 'b-', label = \"Testing Accuracies - LR\")\n",
    "plt.legend()"
   ]
  },
  {
   "cell_type": "markdown",
   "id": "80dfb35c",
   "metadata": {
    "papermill": {
     "duration": 0.043943,
     "end_time": "2021-09-10T20:08:33.730237",
     "exception": false,
     "start_time": "2021-09-10T20:08:33.686294",
     "status": "completed"
    },
    "tags": []
   },
   "source": [
    "#### Plotting the outputs of this layer of the NN.\n"
   ]
  },
  {
   "cell_type": "code",
   "execution_count": 25,
   "id": "45eb2ff5",
   "metadata": {
    "execution": {
     "iopub.execute_input": "2021-09-10T20:08:33.825176Z",
     "iopub.status.busy": "2021-09-10T20:08:33.823550Z",
     "iopub.status.idle": "2021-09-10T20:08:33.844826Z",
     "shell.execute_reply": "2021-09-10T20:08:33.845642Z"
    },
    "papermill": {
     "duration": 0.070807,
     "end_time": "2021-09-10T20:08:33.845804",
     "exception": false,
     "start_time": "2021-09-10T20:08:33.774997",
     "status": "completed"
    },
    "tags": []
   },
   "outputs": [],
   "source": [
    "new_model = Model(layers[:-2])\n",
    "testing_plot = new_model(testing_data_x)"
   ]
  },
  {
   "cell_type": "code",
   "execution_count": 26,
   "id": "4c0a5485",
   "metadata": {
    "execution": {
     "iopub.execute_input": "2021-09-10T20:08:33.945904Z",
     "iopub.status.busy": "2021-09-10T20:08:33.945310Z",
     "iopub.status.idle": "2021-09-10T20:08:34.151789Z",
     "shell.execute_reply": "2021-09-10T20:08:34.151268Z"
    },
    "papermill": {
     "duration": 0.26019,
     "end_time": "2021-09-10T20:08:34.151918",
     "exception": false,
     "start_time": "2021-09-10T20:08:33.891728",
     "status": "completed"
    },
    "tags": []
   },
   "outputs": [
    {
     "data": {
      "text/plain": [
       "Text(0.5, 1.0, 'Outputs')"
      ]
     },
     "execution_count": 26,
     "metadata": {},
     "output_type": "execute_result"
    },
    {
     "data": {
      "image/png": "[encoded data removed]",
      "text/plain": [
       "<Figure size 576x504 with 1 Axes>"
      ]
     },
     "metadata": {
      "needs_background": "light"
     },
     "output_type": "display_data"
    }
   ],
   "source": [
    "# Plotting the scatter plot of points and color coding by class\n",
    "plt.figure(figsize=(8,7))\n",
    "plt.scatter(testing_plot[:,0], testing_plot[:,1], alpha = 0.1, c = y_test.ravel());\n",
    "plt.title('Outputs')"
   ]
  },
  {
   "cell_type": "markdown",
   "id": "a74fcf8f",
   "metadata": {
    "papermill": {
     "duration": 0.047346,
     "end_time": "2021-09-10T20:08:34.247302",
     "exception": false,
     "start_time": "2021-09-10T20:08:34.199956",
     "status": "completed"
    },
    "tags": []
   },
   "source": [
    "Probability contours"
   ]
  },
  {
   "cell_type": "code",
   "execution_count": 27,
   "id": "d0afc8e3",
   "metadata": {
    "execution": {
     "iopub.execute_input": "2021-09-10T20:08:34.348034Z",
     "iopub.status.busy": "2021-09-10T20:08:34.346642Z",
     "iopub.status.idle": "2021-09-10T20:08:34.358866Z",
     "shell.execute_reply": "2021-09-10T20:08:34.358428Z"
    },
    "papermill": {
     "duration": 0.063986,
     "end_time": "2021-09-10T20:08:34.358981",
     "exception": false,
     "start_time": "2021-09-10T20:08:34.294995",
     "status": "completed"
    },
    "tags": []
   },
   "outputs": [],
   "source": [
    "model_prob = Model(layers[-2:]) "
   ]
  },
  {
   "cell_type": "code",
   "execution_count": 28,
   "id": "9b96e238",
   "metadata": {
    "execution": {
     "iopub.execute_input": "2021-09-10T20:08:34.456063Z",
     "iopub.status.busy": "2021-09-10T20:08:34.455476Z",
     "iopub.status.idle": "2021-09-10T20:08:34.470102Z",
     "shell.execute_reply": "2021-09-10T20:08:34.470510Z"
    },
    "papermill": {
     "duration": 0.065709,
     "end_time": "2021-09-10T20:08:34.470643",
     "exception": false,
     "start_time": "2021-09-10T20:08:34.404934",
     "status": "completed"
    },
    "tags": []
   },
   "outputs": [],
   "source": [
    "#creating the x and y ranges according to the above generated plot.\n",
    "x_range = np.linspace(-4, 1, 100) \n",
    "y_range = np.linspace(-6, 6, 100) \n",
    "x_grid, y_grid = np.meshgrid(x_range, y_range) # x_grid and y_grig are of size 100 X 100\n",
    "\n",
    "# converting x_grid and y_grid to continuous arrays\n",
    "x_gridflat = np.ravel(x_grid)\n",
    "y_gridflat = np.ravel(y_grid)\n",
    "\n",
    "# The last layer of the current model takes two columns as input. Hence transpose of np.vstack() is required.\n",
    "X = np.vstack((x_gridflat, y_gridflat)).T\n",
    "\n",
    "prob_contour = model_prob(X).reshape(100,100) "
   ]
  },
  {
   "cell_type": "code",
   "execution_count": 29,
   "id": "da72499a",
   "metadata": {
    "execution": {
     "iopub.execute_input": "2021-09-10T20:08:34.604483Z",
     "iopub.status.busy": "2021-09-10T20:08:34.603913Z",
     "iopub.status.idle": "2021-09-10T20:08:34.875828Z",
     "shell.execute_reply": "2021-09-10T20:08:34.875309Z"
    },
    "papermill": {
     "duration": 0.32444,
     "end_time": "2021-09-10T20:08:34.875954",
     "exception": false,
     "start_time": "2021-09-10T20:08:34.551514",
     "status": "completed"
    },
    "tags": []
   },
   "outputs": [
    {
     "data": {
      "image/png": "[encoded data removed]",
      "text/plain": [
       "<Figure size 720x648 with 1 Axes>"
      ]
     },
     "metadata": {
      "needs_background": "light"
     },
     "output_type": "display_data"
    }
   ],
   "source": [
    "plt.figure(figsize=(10,9))\n",
    "plt.scatter(testing_plot[:,0], testing_plot[:,1], alpha = 0.1, c = y_test.ravel())\n",
    "contours = plt.contour(x_grid,y_grid,prob_contour)\n",
    "plt.title('Probability Contours')\n",
    "plt.clabel(contours, inline = True );"
   ]
  },
  {
   "cell_type": "code",
   "execution_count": null,
   "id": "e81b4ac7",
   "metadata": {
    "papermill": {
     "duration": 0.050786,
     "end_time": "2021-09-10T20:08:34.978906",
     "exception": false,
     "start_time": "2021-09-10T20:08:34.928120",
     "status": "completed"
    },
    "tags": []
   },
   "outputs": [],
   "source": []
  }
 ],
 "metadata": {
  "kernelspec": {
   "display_name": "Python 3",
   "language": "python",
   "name": "python3"
  },
  "language_info": {
   "codemirror_mode": {
    "name": "ipython",
    "version": 3
   },
   "file_extension": ".py",
   "mimetype": "text/x-python",
   "name": "python",
   "nbconvert_exporter": "python",
   "pygments_lexer": "ipython3",
   "version": "3.6.14"
  },
  "papermill": {
   "default_parameters": {},
   "duration": 108.230463,
   "end_time": "2021-09-10T20:08:35.438798",
   "environment_variables": {},
   "exception": null,
   "input_path": "2020-08-11-part2.ipynb",
   "output_path": "2020-08-11-part2.ipynb",
   "parameters": {},
   "start_time": "2021-09-10T20:06:47.208335",
   "version": "2.3.3"
  }
 },
 "nbformat": 4,
 "nbformat_minor": 5
}