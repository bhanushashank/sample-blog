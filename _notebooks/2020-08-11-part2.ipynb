{
 "cells": [
  {
   "cell_type": "markdown",
   "id": "98380cd3",
   "metadata": {
    "papermill": {
     "duration": 0.026153,
     "end_time": "2022-01-03T00:24:03.738139",
     "exception": false,
     "start_time": "2022-01-03T00:24:03.711986",
     "status": "completed"
    },
    "tags": []
   },
   "source": [
    "# Distinguish Your Own Digits (DYOD)"
   ]
  },
  {
   "cell_type": "markdown",
   "id": "ef31240d",
   "metadata": {
    "papermill": {
     "duration": 0.021186,
     "end_time": "2022-01-03T00:24:03.781271",
     "exception": false,
     "start_time": "2022-01-03T00:24:03.760085",
     "status": "completed"
    },
    "tags": []
   },
   "source": [
    "You are going to write a classifier that distinguishes between the number 3 and number 8."
   ]
  },
  {
   "cell_type": "code",
   "execution_count": 1,
   "id": "b15c8646",
   "metadata": {
    "execution": {
     "iopub.execute_input": "2022-01-03T00:24:03.834552Z",
     "iopub.status.busy": "2022-01-03T00:24:03.834027Z",
     "iopub.status.idle": "2022-01-03T00:24:03.843681Z",
     "shell.execute_reply": "2022-01-03T00:24:03.844126Z"
    },
    "papermill": {
     "duration": 0.040446,
     "end_time": "2022-01-03T00:24:03.844270",
     "exception": false,
     "start_time": "2022-01-03T00:24:03.803824",
     "status": "completed"
    },
    "tags": []
   },
   "outputs": [],
   "source": [
    "%load_ext autoreload\n",
    "%autoreload 2"
   ]
  },
  {
   "cell_type": "code",
   "execution_count": 2,
   "id": "22ef38dc",
   "metadata": {
    "execution": {
     "iopub.execute_input": "2022-01-03T00:24:03.890619Z",
     "iopub.status.busy": "2022-01-03T00:24:03.890127Z",
     "iopub.status.idle": "2022-01-03T00:24:04.478552Z",
     "shell.execute_reply": "2022-01-03T00:24:04.479049Z"
    },
    "papermill": {
     "duration": 0.613763,
     "end_time": "2022-01-03T00:24:04.479226",
     "exception": false,
     "start_time": "2022-01-03T00:24:03.865463",
     "status": "completed"
    },
    "tags": []
   },
   "outputs": [],
   "source": [
    "%matplotlib inline\n",
    "import numpy as np\n",
    "import matplotlib.pyplot as plt\n",
    "import pandas as pd"
   ]
  },
  {
   "cell_type": "markdown",
   "id": "ba036198",
   "metadata": {
    "papermill": {
     "duration": 0.02415,
     "end_time": "2022-01-03T00:24:04.527943",
     "exception": false,
     "start_time": "2022-01-03T00:24:04.503793",
     "status": "completed"
    },
    "tags": []
   },
   "source": [
    "From the command line run `pip install mnist`. This is a library that will help you bring down the mnist dataset. If you run this from a notebook, you need to put  `!pip install mnist` in a cell by itself."
   ]
  },
  {
   "cell_type": "code",
   "execution_count": 3,
   "id": "bb6ad8a1",
   "metadata": {
    "execution": {
     "iopub.execute_input": "2022-01-03T00:24:04.581381Z",
     "iopub.status.busy": "2022-01-03T00:24:04.580861Z",
     "iopub.status.idle": "2022-01-03T00:24:06.285114Z",
     "shell.execute_reply": "2022-01-03T00:24:06.285589Z"
    },
    "papermill": {
     "duration": 1.733259,
     "end_time": "2022-01-03T00:24:06.285757",
     "exception": false,
     "start_time": "2022-01-03T00:24:04.552498",
     "status": "completed"
    },
    "tags": []
   },
   "outputs": [
    {
     "name": "stdout",
     "output_type": "stream",
     "text": [
      "Collecting mnist\r\n"
     ]
    },
    {
     "name": "stdout",
     "output_type": "stream",
     "text": [
      "  Downloading mnist-0.2.2-py2.py3-none-any.whl (3.5 kB)\r\n",
      "Requirement already satisfied: numpy in /opt/hostedtoolcache/Python/3.6.15/x64/lib/python3.6/site-packages (from mnist) (1.19.5)\r\n"
     ]
    },
    {
     "name": "stdout",
     "output_type": "stream",
     "text": [
      "Installing collected packages: mnist\r\n"
     ]
    },
    {
     "name": "stdout",
     "output_type": "stream",
     "text": [
      "Successfully installed mnist-0.2.2\r\n"
     ]
    }
   ],
   "source": [
    "!pip install mnist"
   ]
  },
  {
   "cell_type": "markdown",
   "id": "69df9c9a",
   "metadata": {
    "papermill": {
     "duration": 0.022272,
     "end_time": "2022-01-03T00:24:06.332265",
     "exception": false,
     "start_time": "2022-01-03T00:24:06.309993",
     "status": "completed"
    },
    "tags": []
   },
   "source": [
    "## Preparing the Data"
   ]
  },
  {
   "cell_type": "code",
   "execution_count": 4,
   "id": "7f69d806",
   "metadata": {
    "execution": {
     "iopub.execute_input": "2022-01-03T00:24:06.392734Z",
     "iopub.status.busy": "2022-01-03T00:24:06.392242Z",
     "iopub.status.idle": "2022-01-03T00:24:06.397573Z",
     "shell.execute_reply": "2022-01-03T00:24:06.397173Z"
    },
    "papermill": {
     "duration": 0.043196,
     "end_time": "2022-01-03T00:24:06.397679",
     "exception": false,
     "start_time": "2022-01-03T00:24:06.354483",
     "status": "completed"
    },
    "tags": []
   },
   "outputs": [],
   "source": [
    "import mnist"
   ]
  },
  {
   "cell_type": "code",
   "execution_count": 5,
   "id": "a411e44f",
   "metadata": {
    "execution": {
     "iopub.execute_input": "2022-01-03T00:24:06.447496Z",
     "iopub.status.busy": "2022-01-03T00:24:06.447028Z",
     "iopub.status.idle": "2022-01-03T00:24:07.068582Z",
     "shell.execute_reply": "2022-01-03T00:24:07.068077Z"
    },
    "papermill": {
     "duration": 0.64866,
     "end_time": "2022-01-03T00:24:07.068714",
     "exception": false,
     "start_time": "2022-01-03T00:24:06.420054",
     "status": "completed"
    },
    "tags": []
   },
   "outputs": [],
   "source": [
    "train_images = mnist.train_images()\n",
    "train_labels = mnist.train_labels()"
   ]
  },
  {
   "cell_type": "code",
   "execution_count": 6,
   "id": "dceab3a5",
   "metadata": {
    "execution": {
     "iopub.execute_input": "2022-01-03T00:24:07.129760Z",
     "iopub.status.busy": "2022-01-03T00:24:07.127518Z",
     "iopub.status.idle": "2022-01-03T00:24:07.140218Z",
     "shell.execute_reply": "2022-01-03T00:24:07.139798Z"
    },
    "papermill": {
     "duration": 0.046143,
     "end_time": "2022-01-03T00:24:07.140332",
     "exception": false,
     "start_time": "2022-01-03T00:24:07.094189",
     "status": "completed"
    },
    "tags": []
   },
   "outputs": [
    {
     "data": {
      "text/plain": [
       "((60000, 28, 28), (60000,))"
      ]
     },
     "execution_count": 6,
     "metadata": {},
     "output_type": "execute_result"
    }
   ],
   "source": [
    "train_images.shape, train_labels.shape"
   ]
  },
  {
   "cell_type": "code",
   "execution_count": 7,
   "id": "f50dc2bb",
   "metadata": {
    "execution": {
     "iopub.execute_input": "2022-01-03T00:24:07.194525Z",
     "iopub.status.busy": "2022-01-03T00:24:07.193968Z",
     "iopub.status.idle": "2022-01-03T00:24:07.400646Z",
     "shell.execute_reply": "2022-01-03T00:24:07.400165Z"
    },
    "papermill": {
     "duration": 0.235074,
     "end_time": "2022-01-03T00:24:07.400773",
     "exception": false,
     "start_time": "2022-01-03T00:24:07.165699",
     "status": "completed"
    },
    "tags": []
   },
   "outputs": [],
   "source": [
    "test_images = mnist.test_images()\n",
    "test_labels = mnist.test_labels()"
   ]
  },
  {
   "cell_type": "code",
   "execution_count": 8,
   "id": "fc38cf1b",
   "metadata": {
    "execution": {
     "iopub.execute_input": "2022-01-03T00:24:07.458067Z",
     "iopub.status.busy": "2022-01-03T00:24:07.457553Z",
     "iopub.status.idle": "2022-01-03T00:24:07.468470Z",
     "shell.execute_reply": "2022-01-03T00:24:07.468962Z"
    },
    "papermill": {
     "duration": 0.042745,
     "end_time": "2022-01-03T00:24:07.469088",
     "exception": false,
     "start_time": "2022-01-03T00:24:07.426343",
     "status": "completed"
    },
    "tags": []
   },
   "outputs": [
    {
     "data": {
      "text/plain": [
       "((10000, 28, 28), (10000,))"
      ]
     },
     "execution_count": 8,
     "metadata": {},
     "output_type": "execute_result"
    }
   ],
   "source": [
    "test_images.shape, test_labels.shape"
   ]
  },
  {
   "cell_type": "code",
   "execution_count": 9,
   "id": "f9ed8fe0",
   "metadata": {
    "execution": {
     "iopub.execute_input": "2022-01-03T00:24:07.523689Z",
     "iopub.status.busy": "2022-01-03T00:24:07.523173Z",
     "iopub.status.idle": "2022-01-03T00:24:07.667369Z",
     "shell.execute_reply": "2022-01-03T00:24:07.667846Z"
    },
    "papermill": {
     "duration": 0.173463,
     "end_time": "2022-01-03T00:24:07.667997",
     "exception": false,
     "start_time": "2022-01-03T00:24:07.494534",
     "status": "completed"
    },
    "tags": []
   },
   "outputs": [
    {
     "name": "stdout",
     "output_type": "stream",
     "text": [
      "2\n"
     ]
    },
    {
     "data": {
      "text/plain": [
       "<matplotlib.image.AxesImage at 0x7fab19dbe320>"
      ]
     },
     "execution_count": 9,
     "metadata": {},
     "output_type": "execute_result"
    },
    {
     "data": {
      "image/png": "[encoded data removed]",
      "text/plain": [
       "<Figure size 432x288 with 1 Axes>"
      ]
     },
     "metadata": {
      "needs_background": "light"
     },
     "output_type": "display_data"
    }
   ],
   "source": [
    "image_index = 7776 # You may select anything up to 60,000\n",
    "print(train_labels[image_index]) \n",
    "plt.imshow(train_images[image_index], cmap='Greys')"
   ]
  },
  {
   "cell_type": "markdown",
   "id": "a8d2388d",
   "metadata": {
    "papermill": {
     "duration": 0.026785,
     "end_time": "2022-01-03T00:24:07.722203",
     "exception": false,
     "start_time": "2022-01-03T00:24:07.695418",
     "status": "completed"
    },
    "tags": []
   },
   "source": [
    "## Filter data to get 3 and 8 out"
   ]
  },
  {
   "cell_type": "code",
   "execution_count": 10,
   "id": "776f7fc7",
   "metadata": {
    "execution": {
     "iopub.execute_input": "2022-01-03T00:24:07.791843Z",
     "iopub.status.busy": "2022-01-03T00:24:07.787068Z",
     "iopub.status.idle": "2022-01-03T00:24:07.801197Z",
     "shell.execute_reply": "2022-01-03T00:24:07.800777Z"
    },
    "papermill": {
     "duration": 0.052632,
     "end_time": "2022-01-03T00:24:07.801314",
     "exception": false,
     "start_time": "2022-01-03T00:24:07.748682",
     "status": "completed"
    },
    "tags": []
   },
   "outputs": [],
   "source": [
    "train_filter = np.where((train_labels == 3 ) | (train_labels == 8))\n",
    "test_filter = np.where((test_labels == 3) | (test_labels == 8))\n",
    "X_train, y_train = train_images[train_filter], train_labels[train_filter]\n",
    "X_test, y_test = test_images[test_filter], test_labels[test_filter]"
   ]
  },
  {
   "cell_type": "markdown",
   "id": "948f0b7e",
   "metadata": {
    "papermill": {
     "duration": 0.026394,
     "end_time": "2022-01-03T00:24:07.854266",
     "exception": false,
     "start_time": "2022-01-03T00:24:07.827872",
     "status": "completed"
    },
    "tags": []
   },
   "source": [
    "We normalize the pizel values in the 0 to 1 range"
   ]
  },
  {
   "cell_type": "code",
   "execution_count": 11,
   "id": "ee4c2166",
   "metadata": {
    "execution": {
     "iopub.execute_input": "2022-01-03T00:24:07.910954Z",
     "iopub.status.busy": "2022-01-03T00:24:07.910422Z",
     "iopub.status.idle": "2022-01-03T00:24:07.959381Z",
     "shell.execute_reply": "2022-01-03T00:24:07.959846Z"
    },
    "papermill": {
     "duration": 0.079376,
     "end_time": "2022-01-03T00:24:07.960008",
     "exception": false,
     "start_time": "2022-01-03T00:24:07.880632",
     "status": "completed"
    },
    "tags": []
   },
   "outputs": [],
   "source": [
    "X_train = X_train/255.\n",
    "X_test = X_test/255."
   ]
  },
  {
   "cell_type": "markdown",
   "id": "ddcf4fab",
   "metadata": {
    "papermill": {
     "duration": 0.026418,
     "end_time": "2022-01-03T00:24:08.014356",
     "exception": false,
     "start_time": "2022-01-03T00:24:07.987938",
     "status": "completed"
    },
    "tags": []
   },
   "source": [
    "And setup the labels as 1 (when the digit is 3) and 0 (when the digit is 8)"
   ]
  },
  {
   "cell_type": "code",
   "execution_count": 12,
   "id": "7dc908f2",
   "metadata": {
    "execution": {
     "iopub.execute_input": "2022-01-03T00:24:08.070892Z",
     "iopub.status.busy": "2022-01-03T00:24:08.070352Z",
     "iopub.status.idle": "2022-01-03T00:24:08.081992Z",
     "shell.execute_reply": "2022-01-03T00:24:08.081579Z"
    },
    "papermill": {
     "duration": 0.041381,
     "end_time": "2022-01-03T00:24:08.082111",
     "exception": false,
     "start_time": "2022-01-03T00:24:08.040730",
     "status": "completed"
    },
    "tags": []
   },
   "outputs": [],
   "source": [
    "y_train = 1*(y_train==3)\n",
    "y_test = 1*(y_test==3)"
   ]
  },
  {
   "cell_type": "code",
   "execution_count": 13,
   "id": "01e4e969",
   "metadata": {
    "execution": {
     "iopub.execute_input": "2022-01-03T00:24:08.152558Z",
     "iopub.status.busy": "2022-01-03T00:24:08.150418Z",
     "iopub.status.idle": "2022-01-03T00:24:08.155146Z",
     "shell.execute_reply": "2022-01-03T00:24:08.155535Z"
    },
    "papermill": {
     "duration": 0.047186,
     "end_time": "2022-01-03T00:24:08.155666",
     "exception": false,
     "start_time": "2022-01-03T00:24:08.108480",
     "status": "completed"
    },
    "tags": []
   },
   "outputs": [
    {
     "data": {
      "text/plain": [
       "((11982, 28, 28), (1984, 28, 28))"
      ]
     },
     "execution_count": 13,
     "metadata": {},
     "output_type": "execute_result"
    }
   ],
   "source": [
    "X_train.shape, X_test.shape"
   ]
  },
  {
   "cell_type": "markdown",
   "id": "5ccf3f85",
   "metadata": {
    "papermill": {
     "duration": 0.026461,
     "end_time": "2022-01-03T00:24:08.208716",
     "exception": false,
     "start_time": "2022-01-03T00:24:08.182255",
     "status": "completed"
    },
    "tags": []
   },
   "source": [
    "We reshape the data to flatten the image pixels into a set of features or co-variates:"
   ]
  },
  {
   "cell_type": "code",
   "execution_count": 14,
   "id": "5286a4a3",
   "metadata": {
    "execution": {
     "iopub.execute_input": "2022-01-03T00:24:08.275994Z",
     "iopub.status.busy": "2022-01-03T00:24:08.275481Z",
     "iopub.status.idle": "2022-01-03T00:24:08.285188Z",
     "shell.execute_reply": "2022-01-03T00:24:08.284759Z"
    },
    "papermill": {
     "duration": 0.049796,
     "end_time": "2022-01-03T00:24:08.285294",
     "exception": false,
     "start_time": "2022-01-03T00:24:08.235498",
     "status": "completed"
    },
    "tags": []
   },
   "outputs": [
    {
     "data": {
      "text/plain": [
       "((11982, 784), (1984, 784))"
      ]
     },
     "execution_count": 14,
     "metadata": {},
     "output_type": "execute_result"
    }
   ],
   "source": [
    "X_train = X_train.reshape(X_train.shape[0], -1)\n",
    "X_test = X_test.reshape(X_test.shape[0], -1)\n",
    "X_train.shape, X_test.shape"
   ]
  },
  {
   "cell_type": "code",
   "execution_count": 15,
   "id": "73c5f88a",
   "metadata": {
    "execution": {
     "iopub.execute_input": "2022-01-03T00:24:08.359316Z",
     "iopub.status.busy": "2022-01-03T00:24:08.354979Z",
     "iopub.status.idle": "2022-01-03T00:24:08.366082Z",
     "shell.execute_reply": "2022-01-03T00:24:08.366503Z"
    },
    "papermill": {
     "duration": 0.054511,
     "end_time": "2022-01-03T00:24:08.366633",
     "exception": false,
     "start_time": "2022-01-03T00:24:08.312122",
     "status": "completed"
    },
    "tags": []
   },
   "outputs": [],
   "source": [
    "#Impoting functions from 'Kudzu'\n",
    "from kudzu.model import Model\n",
    "from kudzu.train import Learner\n",
    "from kudzu.optim import GD\n",
    "from kudzu.data import Data, Sampler,Dataloader\n",
    "\n",
    "from kudzu.callbacks import AccCallback\n",
    "from kudzu.callbacks import ClfCallback\n",
    "\n",
    "from kudzu.loss import MSE\n",
    "\n",
    "from kudzu.layer import Sigmoid,Relu\n",
    "from kudzu.layer import Affine"
   ]
  },
  {
   "cell_type": "markdown",
   "id": "bc01172a",
   "metadata": {
    "papermill": {
     "duration": 0.026696,
     "end_time": "2022-01-03T00:24:08.420295",
     "exception": false,
     "start_time": "2022-01-03T00:24:08.393599",
     "status": "completed"
    },
    "tags": []
   },
   "source": [
    "### Let us create a `Config` class, to store important parameters. \n",
    "This class essentially plays the role of a dictionary."
   ]
  },
  {
   "cell_type": "code",
   "execution_count": 16,
   "id": "978281aa",
   "metadata": {
    "execution": {
     "iopub.execute_input": "2022-01-03T00:24:08.483245Z",
     "iopub.status.busy": "2022-01-03T00:24:08.480400Z",
     "iopub.status.idle": "2022-01-03T00:24:08.489712Z",
     "shell.execute_reply": "2022-01-03T00:24:08.490119Z"
    },
    "papermill": {
     "duration": 0.04317,
     "end_time": "2022-01-03T00:24:08.490243",
     "exception": false,
     "start_time": "2022-01-03T00:24:08.447073",
     "status": "completed"
    },
    "tags": []
   },
   "outputs": [],
   "source": [
    "class Config:\n",
    "    pass\n",
    "config = Config()\n",
    "config.lr = 0.001\n",
    "config.num_epochs = 250\n",
    "config.bs = 50"
   ]
  },
  {
   "cell_type": "markdown",
   "id": "1385fa59",
   "metadata": {
    "papermill": {
     "duration": 0.026838,
     "end_time": "2022-01-03T00:24:08.544074",
     "exception": false,
     "start_time": "2022-01-03T00:24:08.517236",
     "status": "completed"
    },
    "tags": []
   },
   "source": [
    "### Running Models with the Training data\n",
    "Details about the network layers:\n",
    "- A first affine layer has 784 inputs and does 100 affine transforms. These are followed by a Relu\n",
    "- A second affine layer has 100 inputs from the 100 activations of the past layer, and does 100 affine transforms. These are followed by a Relu\n",
    "- A third affine layer has 100 activations and does 2 affine transformations to create an embedding for visualization. There is no non-linearity here.\n",
    "- A final \"logistic regression\" which has an affine transform from 2 inputs to 1 output, which is squeezed through a sigmoid.\n"
   ]
  },
  {
   "cell_type": "code",
   "execution_count": 17,
   "id": "2b9c66db",
   "metadata": {
    "execution": {
     "iopub.execute_input": "2022-01-03T00:24:08.611716Z",
     "iopub.status.busy": "2022-01-03T00:24:08.603987Z",
     "iopub.status.idle": "2022-01-03T00:24:08.614514Z",
     "shell.execute_reply": "2022-01-03T00:24:08.614050Z"
    },
    "papermill": {
     "duration": 0.043534,
     "end_time": "2022-01-03T00:24:08.614624",
     "exception": false,
     "start_time": "2022-01-03T00:24:08.571090",
     "status": "completed"
    },
    "tags": []
   },
   "outputs": [],
   "source": [
    "data = Data(X_train, y_train.reshape(-1,1))\n",
    "sampler = Sampler(data, config.bs, shuffle=True)\n",
    "\n",
    "dl = Dataloader(data, sampler)\n",
    "\n",
    "opt = GD(config.lr)\n",
    "loss = MSE()"
   ]
  },
  {
   "cell_type": "code",
   "execution_count": 18,
   "id": "b275e4c2",
   "metadata": {
    "execution": {
     "iopub.execute_input": "2022-01-03T00:24:08.675033Z",
     "iopub.status.busy": "2022-01-03T00:24:08.671594Z",
     "iopub.status.idle": "2022-01-03T00:24:08.683342Z",
     "shell.execute_reply": "2022-01-03T00:24:08.682931Z"
    },
    "papermill": {
     "duration": 0.041826,
     "end_time": "2022-01-03T00:24:08.683453",
     "exception": false,
     "start_time": "2022-01-03T00:24:08.641627",
     "status": "completed"
    },
    "tags": []
   },
   "outputs": [],
   "source": [
    "training_data_x = X_train\n",
    "testing_data_x = X_test\n",
    "training_data_y = y_train.reshape(-1,1)\n",
    "testing_data_y = y_test.reshape(-1,1)"
   ]
  },
  {
   "cell_type": "code",
   "execution_count": 19,
   "id": "76951160",
   "metadata": {
    "execution": {
     "iopub.execute_input": "2022-01-03T00:24:08.743509Z",
     "iopub.status.busy": "2022-01-03T00:24:08.742991Z",
     "iopub.status.idle": "2022-01-03T00:24:08.757298Z",
     "shell.execute_reply": "2022-01-03T00:24:08.756863Z"
    },
    "papermill": {
     "duration": 0.04706,
     "end_time": "2022-01-03T00:24:08.757404",
     "exception": false,
     "start_time": "2022-01-03T00:24:08.710344",
     "status": "completed"
    },
    "tags": []
   },
   "outputs": [
    {
     "name": "stdout",
     "output_type": "stream",
     "text": [
      "xavier\n",
      "xavier\n",
      "xavier\n",
      "xavier\n",
      "xavier\n"
     ]
    }
   ],
   "source": [
    "layers = [Affine(\"first\", 784, 100), Relu(\"first\"), Affine(\"second\", 100, 100), Relu(\"second\"), Affine(\"third\", 100, 2), Affine(\"last\", 2, 1), Sigmoid(\"last\")]\n",
    "model_nn = Model(layers)\n",
    "model_lr = Model([Affine(\"logits\", 784, 1), Sigmoid(\"sigmoid\")])"
   ]
  },
  {
   "cell_type": "code",
   "execution_count": 20,
   "id": "6eede77a",
   "metadata": {
    "execution": {
     "iopub.execute_input": "2022-01-03T00:24:08.816853Z",
     "iopub.status.busy": "2022-01-03T00:24:08.816334Z",
     "iopub.status.idle": "2022-01-03T00:24:08.827404Z",
     "shell.execute_reply": "2022-01-03T00:24:08.826970Z"
    },
    "papermill": {
     "duration": 0.042791,
     "end_time": "2022-01-03T00:24:08.827511",
     "exception": false,
     "start_time": "2022-01-03T00:24:08.784720",
     "status": "completed"
    },
    "tags": []
   },
   "outputs": [],
   "source": [
    "nn_learner = Learner(loss, model_nn, opt, config.num_epochs)\n",
    "acc_nn = ClfCallback(nn_learner, config.bs, training_data_x , testing_data_x, training_data_y, testing_data_y)\n",
    "nn_learner.set_callbacks([acc_nn])"
   ]
  },
  {
   "cell_type": "code",
   "execution_count": 21,
   "id": "877b6cc7",
   "metadata": {
    "execution": {
     "iopub.execute_input": "2022-01-03T00:24:08.889759Z",
     "iopub.status.busy": "2022-01-03T00:24:08.889236Z",
     "iopub.status.idle": "2022-01-03T00:24:08.898907Z",
     "shell.execute_reply": "2022-01-03T00:24:08.898484Z"
    },
    "papermill": {
     "duration": 0.044316,
     "end_time": "2022-01-03T00:24:08.899021",
     "exception": false,
     "start_time": "2022-01-03T00:24:08.854705",
     "status": "completed"
    },
    "tags": []
   },
   "outputs": [],
   "source": [
    "lr_learner = Learner(loss, model_lr, opt, config.num_epochs)\n",
    "acc_lr = ClfCallback(lr_learner, config.bs, training_data_x , testing_data_x, training_data_y, testing_data_y)\n",
    "lr_learner.set_callbacks([acc_lr])"
   ]
  },
  {
   "cell_type": "code",
   "execution_count": 22,
   "id": "d9b133c3",
   "metadata": {
    "execution": {
     "iopub.execute_input": "2022-01-03T00:24:08.959971Z",
     "iopub.status.busy": "2022-01-03T00:24:08.959450Z",
     "iopub.status.idle": "2022-01-03T00:25:24.379755Z",
     "shell.execute_reply": "2022-01-03T00:25:24.380514Z"
    },
    "papermill": {
     "duration": 75.453837,
     "end_time": "2022-01-03T00:25:24.380673",
     "exception": false,
     "start_time": "2022-01-03T00:24:08.926836",
     "status": "completed"
    },
    "tags": []
   },
   "outputs": [
    {
     "name": "stdout",
     "output_type": "stream",
     "text": [
      "Epoch 0, Loss 0.2594\n",
      "Training Accuracy: 0.5235, Testing Accuracy: 0.5217\n",
      "\n"
     ]
    },
    {
     "name": "stdout",
     "output_type": "stream",
     "text": [
      "Epoch 10, Loss 0.1198\n",
      "Training Accuracy: 0.9034, Testing Accuracy: 0.9189\n",
      "\n"
     ]
    },
    {
     "name": "stdout",
     "output_type": "stream",
     "text": [
      "Epoch 20, Loss 0.0659\n",
      "Training Accuracy: 0.9312, Testing Accuracy: 0.9435\n",
      "\n"
     ]
    },
    {
     "name": "stdout",
     "output_type": "stream",
     "text": [
      "Epoch 30, Loss 0.0492\n",
      "Training Accuracy: 0.9462, Testing Accuracy: 0.9561\n",
      "\n"
     ]
    },
    {
     "name": "stdout",
     "output_type": "stream",
     "text": [
      "Epoch 40, Loss 0.0414\n",
      "Training Accuracy: 0.9526, Testing Accuracy: 0.9592\n",
      "\n"
     ]
    },
    {
     "name": "stdout",
     "output_type": "stream",
     "text": [
      "Epoch 50, Loss 0.037\n",
      "Training Accuracy: 0.9568, Testing Accuracy: 0.9612\n",
      "\n"
     ]
    },
    {
     "name": "stdout",
     "output_type": "stream",
     "text": [
      "Epoch 60, Loss 0.0341\n",
      "Training Accuracy: 0.9604, Testing Accuracy: 0.9652\n",
      "\n"
     ]
    },
    {
     "name": "stdout",
     "output_type": "stream",
     "text": [
      "Epoch 70, Loss 0.032\n",
      "Training Accuracy: 0.9624, Testing Accuracy: 0.9662\n",
      "\n"
     ]
    },
    {
     "name": "stdout",
     "output_type": "stream",
     "text": [
      "Epoch 80, Loss 0.0304\n",
      "Training Accuracy: 0.9649, Testing Accuracy: 0.9677\n",
      "\n"
     ]
    },
    {
     "name": "stdout",
     "output_type": "stream",
     "text": [
      "Epoch 90, Loss 0.0291\n",
      "Training Accuracy: 0.9664, Testing Accuracy: 0.9682\n",
      "\n"
     ]
    },
    {
     "name": "stdout",
     "output_type": "stream",
     "text": [
      "Epoch 100, Loss 0.028\n",
      "Training Accuracy: 0.9676, Testing Accuracy: 0.9688\n",
      "\n"
     ]
    },
    {
     "name": "stdout",
     "output_type": "stream",
     "text": [
      "Epoch 110, Loss 0.027\n",
      "Training Accuracy: 0.9687, Testing Accuracy: 0.9688\n",
      "\n"
     ]
    },
    {
     "name": "stdout",
     "output_type": "stream",
     "text": [
      "Epoch 120, Loss 0.0261\n",
      "Training Accuracy: 0.9700, Testing Accuracy: 0.9688\n",
      "\n"
     ]
    },
    {
     "name": "stdout",
     "output_type": "stream",
     "text": [
      "Epoch 130, Loss 0.0254\n",
      "Training Accuracy: 0.9709, Testing Accuracy: 0.9688\n",
      "\n"
     ]
    },
    {
     "name": "stdout",
     "output_type": "stream",
     "text": [
      "Epoch 140, Loss 0.0247\n",
      "Training Accuracy: 0.9715, Testing Accuracy: 0.9682\n",
      "\n"
     ]
    },
    {
     "name": "stdout",
     "output_type": "stream",
     "text": [
      "Epoch 150, Loss 0.0241\n",
      "Training Accuracy: 0.9720, Testing Accuracy: 0.9682\n",
      "\n"
     ]
    },
    {
     "name": "stdout",
     "output_type": "stream",
     "text": [
      "Epoch 160, Loss 0.0235\n",
      "Training Accuracy: 0.9727, Testing Accuracy: 0.9693\n",
      "\n"
     ]
    },
    {
     "name": "stdout",
     "output_type": "stream",
     "text": [
      "Epoch 170, Loss 0.0229\n",
      "Training Accuracy: 0.9734, Testing Accuracy: 0.9703\n",
      "\n"
     ]
    },
    {
     "name": "stdout",
     "output_type": "stream",
     "text": [
      "Epoch 180, Loss 0.0224\n",
      "Training Accuracy: 0.9740, Testing Accuracy: 0.9708\n",
      "\n"
     ]
    },
    {
     "name": "stdout",
     "output_type": "stream",
     "text": [
      "Epoch 190, Loss 0.0219\n",
      "Training Accuracy: 0.9744, Testing Accuracy: 0.9708\n",
      "\n"
     ]
    },
    {
     "name": "stdout",
     "output_type": "stream",
     "text": [
      "Epoch 200, Loss 0.0215\n",
      "Training Accuracy: 0.9746, Testing Accuracy: 0.9708\n",
      "\n"
     ]
    },
    {
     "name": "stdout",
     "output_type": "stream",
     "text": [
      "Epoch 210, Loss 0.021\n",
      "Training Accuracy: 0.9755, Testing Accuracy: 0.9713\n",
      "\n"
     ]
    },
    {
     "name": "stdout",
     "output_type": "stream",
     "text": [
      "Epoch 220, Loss 0.0206\n",
      "Training Accuracy: 0.9760, Testing Accuracy: 0.9713\n",
      "\n"
     ]
    },
    {
     "name": "stdout",
     "output_type": "stream",
     "text": [
      "Epoch 230, Loss 0.0202\n",
      "Training Accuracy: 0.9765, Testing Accuracy: 0.9723\n",
      "\n"
     ]
    },
    {
     "name": "stdout",
     "output_type": "stream",
     "text": [
      "Epoch 240, Loss 0.0199\n",
      "Training Accuracy: 0.9770, Testing Accuracy: 0.9733\n",
      "\n"
     ]
    },
    {
     "data": {
      "text/plain": [
       "0.005028365183379965"
      ]
     },
     "execution_count": 22,
     "metadata": {},
     "output_type": "execute_result"
    }
   ],
   "source": [
    "nn_learner.train_loop(dl)"
   ]
  },
  {
   "cell_type": "code",
   "execution_count": 23,
   "id": "e0163366",
   "metadata": {
    "execution": {
     "iopub.execute_input": "2022-01-03T00:25:24.459614Z",
     "iopub.status.busy": "2022-01-03T00:25:24.459096Z",
     "iopub.status.idle": "2022-01-03T00:25:37.675646Z",
     "shell.execute_reply": "2022-01-03T00:25:37.676382Z"
    },
    "papermill": {
     "duration": 13.260674,
     "end_time": "2022-01-03T00:25:37.676535",
     "exception": false,
     "start_time": "2022-01-03T00:25:24.415861",
     "status": "completed"
    },
    "tags": []
   },
   "outputs": [
    {
     "name": "stdout",
     "output_type": "stream",
     "text": [
      "Epoch 0, Loss 0.255\n",
      "Training Accuracy: 0.6496, Testing Accuracy: 0.6316\n",
      "\n"
     ]
    },
    {
     "name": "stdout",
     "output_type": "stream",
     "text": [
      "Epoch 10, Loss 0.1066\n",
      "Training Accuracy: 0.8973, Testing Accuracy: 0.9088\n",
      "\n"
     ]
    },
    {
     "name": "stdout",
     "output_type": "stream",
     "text": [
      "Epoch 20, Loss 0.0812\n",
      "Training Accuracy: 0.9234, Testing Accuracy: 0.9355\n",
      "\n"
     ]
    },
    {
     "name": "stdout",
     "output_type": "stream",
     "text": [
      "Epoch 30, Loss 0.0696\n",
      "Training Accuracy: 0.9333, Testing Accuracy: 0.9456\n",
      "\n"
     ]
    },
    {
     "name": "stdout",
     "output_type": "stream",
     "text": [
      "Epoch 40, Loss 0.0626\n",
      "Training Accuracy: 0.9393, Testing Accuracy: 0.9511\n",
      "\n"
     ]
    },
    {
     "name": "stdout",
     "output_type": "stream",
     "text": [
      "Epoch 50, Loss 0.0579\n",
      "Training Accuracy: 0.9448, Testing Accuracy: 0.9551\n",
      "\n"
     ]
    },
    {
     "name": "stdout",
     "output_type": "stream",
     "text": [
      "Epoch 60, Loss 0.0544\n",
      "Training Accuracy: 0.9471, Testing Accuracy: 0.9561\n",
      "\n"
     ]
    },
    {
     "name": "stdout",
     "output_type": "stream",
     "text": [
      "Epoch 70, Loss 0.0518\n",
      "Training Accuracy: 0.9498, Testing Accuracy: 0.9582\n",
      "\n"
     ]
    },
    {
     "name": "stdout",
     "output_type": "stream",
     "text": [
      "Epoch 80, Loss 0.0497\n",
      "Training Accuracy: 0.9512, Testing Accuracy: 0.9587\n",
      "\n"
     ]
    },
    {
     "name": "stdout",
     "output_type": "stream",
     "text": [
      "Epoch 90, Loss 0.0479\n",
      "Training Accuracy: 0.9518, Testing Accuracy: 0.9587\n",
      "\n"
     ]
    },
    {
     "name": "stdout",
     "output_type": "stream",
     "text": [
      "Epoch 100, Loss 0.0465\n",
      "Training Accuracy: 0.9521, Testing Accuracy: 0.9592\n",
      "\n"
     ]
    },
    {
     "name": "stdout",
     "output_type": "stream",
     "text": [
      "Epoch 110, Loss 0.0452\n",
      "Training Accuracy: 0.9527, Testing Accuracy: 0.9622\n",
      "\n"
     ]
    },
    {
     "name": "stdout",
     "output_type": "stream",
     "text": [
      "Epoch 120, Loss 0.0441\n",
      "Training Accuracy: 0.9533, Testing Accuracy: 0.9622\n",
      "\n"
     ]
    },
    {
     "name": "stdout",
     "output_type": "stream",
     "text": [
      "Epoch 130, Loss 0.0432\n",
      "Training Accuracy: 0.9538, Testing Accuracy: 0.9617\n",
      "\n"
     ]
    },
    {
     "name": "stdout",
     "output_type": "stream",
     "text": [
      "Epoch 140, Loss 0.0423\n",
      "Training Accuracy: 0.9548, Testing Accuracy: 0.9627\n",
      "\n"
     ]
    },
    {
     "name": "stdout",
     "output_type": "stream",
     "text": [
      "Epoch 150, Loss 0.0415\n",
      "Training Accuracy: 0.9553, Testing Accuracy: 0.9627\n",
      "\n"
     ]
    },
    {
     "name": "stdout",
     "output_type": "stream",
     "text": [
      "Epoch 160, Loss 0.0409\n",
      "Training Accuracy: 0.9561, Testing Accuracy: 0.9632\n",
      "\n"
     ]
    },
    {
     "name": "stdout",
     "output_type": "stream",
     "text": [
      "Epoch 170, Loss 0.0402\n",
      "Training Accuracy: 0.9568, Testing Accuracy: 0.9637\n",
      "\n"
     ]
    },
    {
     "name": "stdout",
     "output_type": "stream",
     "text": [
      "Epoch 180, Loss 0.0397\n",
      "Training Accuracy: 0.9574, Testing Accuracy: 0.9637\n",
      "\n"
     ]
    },
    {
     "name": "stdout",
     "output_type": "stream",
     "text": [
      "Epoch 190, Loss 0.0391\n",
      "Training Accuracy: 0.9582, Testing Accuracy: 0.9642\n",
      "\n"
     ]
    },
    {
     "name": "stdout",
     "output_type": "stream",
     "text": [
      "Epoch 200, Loss 0.0386\n",
      "Training Accuracy: 0.9587, Testing Accuracy: 0.9647\n",
      "\n"
     ]
    },
    {
     "name": "stdout",
     "output_type": "stream",
     "text": [
      "Epoch 210, Loss 0.0382\n",
      "Training Accuracy: 0.9589, Testing Accuracy: 0.9657\n",
      "\n"
     ]
    },
    {
     "name": "stdout",
     "output_type": "stream",
     "text": [
      "Epoch 220, Loss 0.0378\n",
      "Training Accuracy: 0.9591, Testing Accuracy: 0.9662\n",
      "\n"
     ]
    },
    {
     "name": "stdout",
     "output_type": "stream",
     "text": [
      "Epoch 230, Loss 0.0374\n",
      "Training Accuracy: 0.9594, Testing Accuracy: 0.9667\n",
      "\n"
     ]
    },
    {
     "name": "stdout",
     "output_type": "stream",
     "text": [
      "Epoch 240, Loss 0.037\n",
      "Training Accuracy: 0.9598, Testing Accuracy: 0.9667\n",
      "\n"
     ]
    },
    {
     "data": {
      "text/plain": [
       "0.026912312648038214"
      ]
     },
     "execution_count": 23,
     "metadata": {},
     "output_type": "execute_result"
    }
   ],
   "source": [
    "lr_learner.train_loop(dl)"
   ]
  },
  {
   "cell_type": "code",
   "execution_count": 24,
   "id": "ca410940",
   "metadata": {
    "execution": {
     "iopub.execute_input": "2022-01-03T00:25:37.767997Z",
     "iopub.status.busy": "2022-01-03T00:25:37.767457Z",
     "iopub.status.idle": "2022-01-03T00:25:37.992058Z",
     "shell.execute_reply": "2022-01-03T00:25:37.991360Z"
    },
    "papermill": {
     "duration": 0.273885,
     "end_time": "2022-01-03T00:25:37.992186",
     "exception": false,
     "start_time": "2022-01-03T00:25:37.718301",
     "status": "completed"
    },
    "tags": []
   },
   "outputs": [
    {
     "data": {
      "text/plain": [
       "<matplotlib.legend.Legend at 0x7fab1991cac8>"
      ]
     },
     "execution_count": 24,
     "metadata": {},
     "output_type": "execute_result"
    },
    {
     "data": {
      "image/png": "[encoded data removed]",
      "text/plain": [
       "<Figure size 1080x720 with 1 Axes>"
      ]
     },
     "metadata": {
      "needs_background": "light"
     },
     "output_type": "display_data"
    }
   ],
   "source": [
    "#comparing the results of NN and LR\n",
    "plt.figure(figsize=(15,10))\n",
    "\n",
    "# Neural Network plots\n",
    "plt.plot(acc_nn.accuracies, 'r-', label = \"Training Accuracies - NN\")\n",
    "plt.plot(acc_nn.test_accuracies, 'g-', label = \"Testing Accuracies - NN\")\n",
    "\n",
    "# Logistic Regression plots\n",
    "plt.plot(acc_lr.accuracies, 'k-', label = \"Training Accuracies - LR\")\n",
    "plt.plot(acc_lr.test_accuracies, 'b-', label = \"Testing Accuracies - LR\")\n",
    "plt.legend()"
   ]
  },
  {
   "cell_type": "markdown",
   "id": "80dfb35c",
   "metadata": {
    "papermill": {
     "duration": 0.042482,
     "end_time": "2022-01-03T00:25:38.077391",
     "exception": false,
     "start_time": "2022-01-03T00:25:38.034909",
     "status": "completed"
    },
    "tags": []
   },
   "source": [
    "#### Plotting the outputs of this layer of the NN.\n"
   ]
  },
  {
   "cell_type": "code",
   "execution_count": 25,
   "id": "45eb2ff5",
   "metadata": {
    "execution": {
     "iopub.execute_input": "2022-01-03T00:25:38.167848Z",
     "iopub.status.busy": "2022-01-03T00:25:38.166721Z",
     "iopub.status.idle": "2022-01-03T00:25:38.186031Z",
     "shell.execute_reply": "2022-01-03T00:25:38.185576Z"
    },
    "papermill": {
     "duration": 0.066377,
     "end_time": "2022-01-03T00:25:38.186150",
     "exception": false,
     "start_time": "2022-01-03T00:25:38.119773",
     "status": "completed"
    },
    "tags": []
   },
   "outputs": [],
   "source": [
    "new_model = Model(layers[:-2])\n",
    "testing_plot = new_model(testing_data_x)"
   ]
  },
  {
   "cell_type": "code",
   "execution_count": 26,
   "id": "4c0a5485",
   "metadata": {
    "execution": {
     "iopub.execute_input": "2022-01-03T00:25:38.281339Z",
     "iopub.status.busy": "2022-01-03T00:25:38.280796Z",
     "iopub.status.idle": "2022-01-03T00:25:38.480577Z",
     "shell.execute_reply": "2022-01-03T00:25:38.481030Z"
    },
    "papermill": {
     "duration": 0.252163,
     "end_time": "2022-01-03T00:25:38.481166",
     "exception": false,
     "start_time": "2022-01-03T00:25:38.229003",
     "status": "completed"
    },
    "tags": []
   },
   "outputs": [
    {
     "data": {
      "text/plain": [
       "Text(0.5, 1.0, 'Outputs')"
      ]
     },
     "execution_count": 26,
     "metadata": {},
     "output_type": "execute_result"
    },
    {
     "data": {
      "image/png": "[encoded data removed]",
      "text/plain": [
       "<Figure size 576x504 with 1 Axes>"
      ]
     },
     "metadata": {
      "needs_background": "light"
     },
     "output_type": "display_data"
    }
   ],
   "source": [
    "# Plotting the scatter plot of points and color coding by class\n",
    "plt.figure(figsize=(8,7))\n",
    "plt.scatter(testing_plot[:,0], testing_plot[:,1], alpha = 0.1, c = y_test.ravel());\n",
    "plt.title('Outputs')"
   ]
  },
  {
   "cell_type": "markdown",
   "id": "a74fcf8f",
   "metadata": {
    "papermill": {
     "duration": 0.039641,
     "end_time": "2022-01-03T00:25:38.560494",
     "exception": false,
     "start_time": "2022-01-03T00:25:38.520853",
     "status": "completed"
    },
    "tags": []
   },
   "source": [
    "Probability contours"
   ]
  },
  {
   "cell_type": "code",
   "execution_count": 27,
   "id": "d0afc8e3",
   "metadata": {
    "execution": {
     "iopub.execute_input": "2022-01-03T00:25:38.647641Z",
     "iopub.status.busy": "2022-01-03T00:25:38.647101Z",
     "iopub.status.idle": "2022-01-03T00:25:38.653678Z",
     "shell.execute_reply": "2022-01-03T00:25:38.653159Z"
    },
    "papermill": {
     "duration": 0.053719,
     "end_time": "2022-01-03T00:25:38.653795",
     "exception": false,
     "start_time": "2022-01-03T00:25:38.600076",
     "status": "completed"
    },
    "tags": []
   },
   "outputs": [],
   "source": [
    "model_prob = Model(layers[-2:]) "
   ]
  },
  {
   "cell_type": "code",
   "execution_count": 28,
   "id": "9b96e238",
   "metadata": {
    "execution": {
     "iopub.execute_input": "2022-01-03T00:25:38.774868Z",
     "iopub.status.busy": "2022-01-03T00:25:38.774328Z",
     "iopub.status.idle": "2022-01-03T00:25:38.786613Z",
     "shell.execute_reply": "2022-01-03T00:25:38.786972Z"
    },
    "papermill": {
     "duration": 0.088523,
     "end_time": "2022-01-03T00:25:38.787094",
     "exception": false,
     "start_time": "2022-01-03T00:25:38.698571",
     "status": "completed"
    },
    "tags": []
   },
   "outputs": [],
   "source": [
    "#creating the x and y ranges according to the above generated plot.\n",
    "x_range = np.linspace(-4, 1, 100) \n",
    "y_range = np.linspace(-6, 6, 100) \n",
    "x_grid, y_grid = np.meshgrid(x_range, y_range) # x_grid and y_grig are of size 100 X 100\n",
    "\n",
    "# converting x_grid and y_grid to continuous arrays\n",
    "x_gridflat = np.ravel(x_grid)\n",
    "y_gridflat = np.ravel(y_grid)\n",
    "\n",
    "# The last layer of the current model takes two columns as input. Hence transpose of np.vstack() is required.\n",
    "X = np.vstack((x_gridflat, y_gridflat)).T\n",
    "\n",
    "prob_contour = model_prob(X).reshape(100,100) "
   ]
  },
  {
   "cell_type": "code",
   "execution_count": 29,
   "id": "da72499a",
   "metadata": {
    "execution": {
     "iopub.execute_input": "2022-01-03T00:25:38.876009Z",
     "iopub.status.busy": "2022-01-03T00:25:38.875538Z",
     "iopub.status.idle": "2022-01-03T00:25:39.099381Z",
     "shell.execute_reply": "2022-01-03T00:25:39.098880Z"
    },
    "papermill": {
     "duration": 0.272568,
     "end_time": "2022-01-03T00:25:39.099516",
     "exception": false,
     "start_time": "2022-01-03T00:25:38.826948",
     "status": "completed"
    },
    "tags": []
   },
   "outputs": [
    {
     "data": {
      "image/png": "[encoded data removed]",
      "text/plain": [
       "<Figure size 720x648 with 1 Axes>"
      ]
     },
     "metadata": {
      "needs_background": "light"
     },
     "output_type": "display_data"
    }
   ],
   "source": [
    "plt.figure(figsize=(10,9))\n",
    "plt.scatter(testing_plot[:,0], testing_plot[:,1], alpha = 0.1, c = y_test.ravel())\n",
    "contours = plt.contour(x_grid,y_grid,prob_contour)\n",
    "plt.title('Probability Contours')\n",
    "plt.clabel(contours, inline = True );"
   ]
  },
  {
   "cell_type": "code",
   "execution_count": null,
   "id": "e81b4ac7",
   "metadata": {
    "papermill": {
     "duration": 0.047336,
     "end_time": "2022-01-03T00:25:39.195426",
     "exception": false,
     "start_time": "2022-01-03T00:25:39.148090",
     "status": "completed"
    },
    "tags": []
   },
   "outputs": [],
   "source": []
  }
 ],
 "metadata": {
  "kernelspec": {
   "display_name": "Python 3",
   "language": "python",
   "name": "python3"
  },
  "language_info": {
   "codemirror_mode": {
    "name": "ipython",
    "version": 3
   },
   "file_extension": ".py",
   "mimetype": "text/x-python",
   "name": "python",
   "nbconvert_exporter": "python",
   "pygments_lexer": "ipython3",
   "version": "3.6.15"
  },
  "papermill": {
   "default_parameters": {},
   "duration": 97.025933,
   "end_time": "2022-01-03T00:25:39.651539",
   "environment_variables": {},
   "exception": null,
   "input_path": "2020-08-11-part2.ipynb",
   "output_path": "2020-08-11-part2.ipynb",
   "parameters": {},
   "start_time": "2022-01-03T00:24:02.625606",
   "version": "2.3.3"
  }
 },
 "nbformat": 4,
 "nbformat_minor": 5
}