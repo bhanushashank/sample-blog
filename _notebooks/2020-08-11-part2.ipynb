{
 "cells": [
  {
   "cell_type": "markdown",
   "id": "98380cd3",
   "metadata": {
    "papermill": {
     "duration": 0.029491,
     "end_time": "2022-05-23T00:38:11.129237",
     "exception": false,
     "start_time": "2022-05-23T00:38:11.099746",
     "status": "completed"
    },
    "tags": []
   },
   "source": [
    "# Distinguish Your Own Digits (DYOD)"
   ]
  },
  {
   "cell_type": "markdown",
   "id": "ef31240d",
   "metadata": {
    "papermill": {
     "duration": 0.024579,
     "end_time": "2022-05-23T00:38:11.178937",
     "exception": false,
     "start_time": "2022-05-23T00:38:11.154358",
     "status": "completed"
    },
    "tags": []
   },
   "source": [
    "You are going to write a classifier that distinguishes between the number 3 and number 8."
   ]
  },
  {
   "cell_type": "code",
   "execution_count": 1,
   "id": "b15c8646",
   "metadata": {
    "execution": {
     "iopub.execute_input": "2022-05-23T00:38:11.238278Z",
     "iopub.status.busy": "2022-05-23T00:38:11.237678Z",
     "iopub.status.idle": "2022-05-23T00:38:11.247686Z",
     "shell.execute_reply": "2022-05-23T00:38:11.248157Z"
    },
    "papermill": {
     "duration": 0.044854,
     "end_time": "2022-05-23T00:38:11.248293",
     "exception": false,
     "start_time": "2022-05-23T00:38:11.203439",
     "status": "completed"
    },
    "tags": []
   },
   "outputs": [],
   "source": [
    "%load_ext autoreload\n",
    "%autoreload 2"
   ]
  },
  {
   "cell_type": "code",
   "execution_count": 2,
   "id": "22ef38dc",
   "metadata": {
    "execution": {
     "iopub.execute_input": "2022-05-23T00:38:11.301319Z",
     "iopub.status.busy": "2022-05-23T00:38:11.300768Z",
     "iopub.status.idle": "2022-05-23T00:38:11.806974Z",
     "shell.execute_reply": "2022-05-23T00:38:11.806486Z"
    },
    "papermill": {
     "duration": 0.53421,
     "end_time": "2022-05-23T00:38:11.807089",
     "exception": false,
     "start_time": "2022-05-23T00:38:11.272879",
     "status": "completed"
    },
    "tags": []
   },
   "outputs": [],
   "source": [
    "%matplotlib inline\n",
    "import numpy as np\n",
    "import matplotlib.pyplot as plt\n",
    "import pandas as pd"
   ]
  },
  {
   "cell_type": "markdown",
   "id": "ba036198",
   "metadata": {
    "papermill": {
     "duration": 0.024556,
     "end_time": "2022-05-23T00:38:11.856295",
     "exception": false,
     "start_time": "2022-05-23T00:38:11.831739",
     "status": "completed"
    },
    "tags": []
   },
   "source": [
    "From the command line run `pip install mnist`. This is a library that will help you bring down the mnist dataset. If you run this from a notebook, you need to put  `!pip install mnist` in a cell by itself."
   ]
  },
  {
   "cell_type": "code",
   "execution_count": 3,
   "id": "bb6ad8a1",
   "metadata": {
    "execution": {
     "iopub.execute_input": "2022-05-23T00:38:11.909589Z",
     "iopub.status.busy": "2022-05-23T00:38:11.909034Z",
     "iopub.status.idle": "2022-05-23T00:38:13.750496Z",
     "shell.execute_reply": "2022-05-23T00:38:13.749292Z"
    },
    "papermill": {
     "duration": 1.869745,
     "end_time": "2022-05-23T00:38:13.750615",
     "exception": false,
     "start_time": "2022-05-23T00:38:11.880870",
     "status": "completed"
    },
    "tags": []
   },
   "outputs": [
    {
     "name": "stdout",
     "output_type": "stream",
     "text": [
      "Collecting mnist\r\n"
     ]
    },
    {
     "name": "stdout",
     "output_type": "stream",
     "text": [
      "  Downloading mnist-0.2.2-py2.py3-none-any.whl (3.5 kB)\r\n",
      "Requirement already satisfied: numpy in /opt/hostedtoolcache/Python/3.6.15/x64/lib/python3.6/site-packages (from mnist) (1.19.5)\r\n"
     ]
    },
    {
     "name": "stdout",
     "output_type": "stream",
     "text": [
      "Installing collected packages: mnist\r\n"
     ]
    },
    {
     "name": "stdout",
     "output_type": "stream",
     "text": [
      "Successfully installed mnist-0.2.2\r\n"
     ]
    }
   ],
   "source": [
    "!pip install mnist"
   ]
  },
  {
   "cell_type": "markdown",
   "id": "69df9c9a",
   "metadata": {
    "papermill": {
     "duration": 0.025721,
     "end_time": "2022-05-23T00:38:13.802210",
     "exception": false,
     "start_time": "2022-05-23T00:38:13.776489",
     "status": "completed"
    },
    "tags": []
   },
   "source": [
    "## Preparing the Data"
   ]
  },
  {
   "cell_type": "code",
   "execution_count": 4,
   "id": "7f69d806",
   "metadata": {
    "execution": {
     "iopub.execute_input": "2022-05-23T00:38:13.856912Z",
     "iopub.status.busy": "2022-05-23T00:38:13.856360Z",
     "iopub.status.idle": "2022-05-23T00:38:13.870589Z",
     "shell.execute_reply": "2022-05-23T00:38:13.870119Z"
    },
    "papermill": {
     "duration": 0.042967,
     "end_time": "2022-05-23T00:38:13.870690",
     "exception": false,
     "start_time": "2022-05-23T00:38:13.827723",
     "status": "completed"
    },
    "tags": []
   },
   "outputs": [],
   "source": [
    "import mnist"
   ]
  },
  {
   "cell_type": "code",
   "execution_count": 5,
   "id": "a411e44f",
   "metadata": {
    "execution": {
     "iopub.execute_input": "2022-05-23T00:38:13.925502Z",
     "iopub.status.busy": "2022-05-23T00:38:13.924936Z",
     "iopub.status.idle": "2022-05-23T00:38:14.672696Z",
     "shell.execute_reply": "2022-05-23T00:38:14.672173Z"
    },
    "papermill": {
     "duration": 0.776427,
     "end_time": "2022-05-23T00:38:14.672807",
     "exception": false,
     "start_time": "2022-05-23T00:38:13.896380",
     "status": "completed"
    },
    "tags": []
   },
   "outputs": [],
   "source": [
    "train_images = mnist.train_images()\n",
    "train_labels = mnist.train_labels()"
   ]
  },
  {
   "cell_type": "code",
   "execution_count": 6,
   "id": "dceab3a5",
   "metadata": {
    "execution": {
     "iopub.execute_input": "2022-05-23T00:38:14.728042Z",
     "iopub.status.busy": "2022-05-23T00:38:14.727460Z",
     "iopub.status.idle": "2022-05-23T00:38:14.741715Z",
     "shell.execute_reply": "2022-05-23T00:38:14.741267Z"
    },
    "papermill": {
     "duration": 0.043188,
     "end_time": "2022-05-23T00:38:14.741819",
     "exception": false,
     "start_time": "2022-05-23T00:38:14.698631",
     "status": "completed"
    },
    "tags": []
   },
   "outputs": [
    {
     "data": {
      "text/plain": [
       "((60000, 28, 28), (60000,))"
      ]
     },
     "execution_count": 6,
     "metadata": {},
     "output_type": "execute_result"
    }
   ],
   "source": [
    "train_images.shape, train_labels.shape"
   ]
  },
  {
   "cell_type": "code",
   "execution_count": 7,
   "id": "f50dc2bb",
   "metadata": {
    "execution": {
     "iopub.execute_input": "2022-05-23T00:38:14.797137Z",
     "iopub.status.busy": "2022-05-23T00:38:14.796588Z",
     "iopub.status.idle": "2022-05-23T00:38:15.044354Z",
     "shell.execute_reply": "2022-05-23T00:38:15.043820Z"
    },
    "papermill": {
     "duration": 0.276752,
     "end_time": "2022-05-23T00:38:15.044464",
     "exception": false,
     "start_time": "2022-05-23T00:38:14.767712",
     "status": "completed"
    },
    "tags": []
   },
   "outputs": [],
   "source": [
    "test_images = mnist.test_images()\n",
    "test_labels = mnist.test_labels()"
   ]
  },
  {
   "cell_type": "code",
   "execution_count": 8,
   "id": "fc38cf1b",
   "metadata": {
    "execution": {
     "iopub.execute_input": "2022-05-23T00:38:15.100175Z",
     "iopub.status.busy": "2022-05-23T00:38:15.099585Z",
     "iopub.status.idle": "2022-05-23T00:38:15.112131Z",
     "shell.execute_reply": "2022-05-23T00:38:15.112596Z"
    },
    "papermill": {
     "duration": 0.041963,
     "end_time": "2022-05-23T00:38:15.112711",
     "exception": false,
     "start_time": "2022-05-23T00:38:15.070748",
     "status": "completed"
    },
    "tags": []
   },
   "outputs": [
    {
     "data": {
      "text/plain": [
       "((10000, 28, 28), (10000,))"
      ]
     },
     "execution_count": 8,
     "metadata": {},
     "output_type": "execute_result"
    }
   ],
   "source": [
    "test_images.shape, test_labels.shape"
   ]
  },
  {
   "cell_type": "code",
   "execution_count": 9,
   "id": "f9ed8fe0",
   "metadata": {
    "execution": {
     "iopub.execute_input": "2022-05-23T00:38:15.168940Z",
     "iopub.status.busy": "2022-05-23T00:38:15.168373Z",
     "iopub.status.idle": "2022-05-23T00:38:15.302044Z",
     "shell.execute_reply": "2022-05-23T00:38:15.302483Z"
    },
    "papermill": {
     "duration": 0.163587,
     "end_time": "2022-05-23T00:38:15.302608",
     "exception": false,
     "start_time": "2022-05-23T00:38:15.139021",
     "status": "completed"
    },
    "tags": []
   },
   "outputs": [
    {
     "name": "stdout",
     "output_type": "stream",
     "text": [
      "2\n"
     ]
    },
    {
     "data": {
      "text/plain": [
       "<matplotlib.image.AxesImage at 0x7f3feaba6ef0>"
      ]
     },
     "execution_count": 9,
     "metadata": {},
     "output_type": "execute_result"
    },
    {
     "data": {
      "image/png": "[encoded data removed]",
      "text/plain": [
       "<Figure size 432x288 with 1 Axes>"
      ]
     },
     "metadata": {
      "needs_background": "light"
     },
     "output_type": "display_data"
    }
   ],
   "source": [
    "image_index = 7776 # You may select anything up to 60,000\n",
    "print(train_labels[image_index]) \n",
    "plt.imshow(train_images[image_index], cmap='Greys')"
   ]
  },
  {
   "cell_type": "markdown",
   "id": "a8d2388d",
   "metadata": {
    "papermill": {
     "duration": 0.027226,
     "end_time": "2022-05-23T00:38:15.357325",
     "exception": false,
     "start_time": "2022-05-23T00:38:15.330099",
     "status": "completed"
    },
    "tags": []
   },
   "source": [
    "## Filter data to get 3 and 8 out"
   ]
  },
  {
   "cell_type": "code",
   "execution_count": 10,
   "id": "776f7fc7",
   "metadata": {
    "execution": {
     "iopub.execute_input": "2022-05-23T00:38:15.415682Z",
     "iopub.status.busy": "2022-05-23T00:38:15.415122Z",
     "iopub.status.idle": "2022-05-23T00:38:15.431145Z",
     "shell.execute_reply": "2022-05-23T00:38:15.431600Z"
    },
    "papermill": {
     "duration": 0.047233,
     "end_time": "2022-05-23T00:38:15.431722",
     "exception": false,
     "start_time": "2022-05-23T00:38:15.384489",
     "status": "completed"
    },
    "tags": []
   },
   "outputs": [],
   "source": [
    "train_filter = np.where((train_labels == 3 ) | (train_labels == 8))\n",
    "test_filter = np.where((test_labels == 3) | (test_labels == 8))\n",
    "X_train, y_train = train_images[train_filter], train_labels[train_filter]\n",
    "X_test, y_test = test_images[test_filter], test_labels[test_filter]"
   ]
  },
  {
   "cell_type": "markdown",
   "id": "948f0b7e",
   "metadata": {
    "papermill": {
     "duration": 0.027121,
     "end_time": "2022-05-23T00:38:15.486427",
     "exception": false,
     "start_time": "2022-05-23T00:38:15.459306",
     "status": "completed"
    },
    "tags": []
   },
   "source": [
    "We normalize the pizel values in the 0 to 1 range"
   ]
  },
  {
   "cell_type": "code",
   "execution_count": 11,
   "id": "ee4c2166",
   "metadata": {
    "execution": {
     "iopub.execute_input": "2022-05-23T00:38:15.544296Z",
     "iopub.status.busy": "2022-05-23T00:38:15.543706Z",
     "iopub.status.idle": "2022-05-23T00:38:15.582626Z",
     "shell.execute_reply": "2022-05-23T00:38:15.583047Z"
    },
    "papermill": {
     "duration": 0.0697,
     "end_time": "2022-05-23T00:38:15.583175",
     "exception": false,
     "start_time": "2022-05-23T00:38:15.513475",
     "status": "completed"
    },
    "tags": []
   },
   "outputs": [],
   "source": [
    "X_train = X_train/255.\n",
    "X_test = X_test/255."
   ]
  },
  {
   "cell_type": "markdown",
   "id": "ddcf4fab",
   "metadata": {
    "papermill": {
     "duration": 0.027237,
     "end_time": "2022-05-23T00:38:15.637846",
     "exception": false,
     "start_time": "2022-05-23T00:38:15.610609",
     "status": "completed"
    },
    "tags": []
   },
   "source": [
    "And setup the labels as 1 (when the digit is 3) and 0 (when the digit is 8)"
   ]
  },
  {
   "cell_type": "code",
   "execution_count": 12,
   "id": "7dc908f2",
   "metadata": {
    "execution": {
     "iopub.execute_input": "2022-05-23T00:38:15.696479Z",
     "iopub.status.busy": "2022-05-23T00:38:15.695892Z",
     "iopub.status.idle": "2022-05-23T00:38:15.707229Z",
     "shell.execute_reply": "2022-05-23T00:38:15.706770Z"
    },
    "papermill": {
     "duration": 0.042317,
     "end_time": "2022-05-23T00:38:15.707329",
     "exception": false,
     "start_time": "2022-05-23T00:38:15.665012",
     "status": "completed"
    },
    "tags": []
   },
   "outputs": [],
   "source": [
    "y_train = 1*(y_train==3)\n",
    "y_test = 1*(y_test==3)"
   ]
  },
  {
   "cell_type": "code",
   "execution_count": 13,
   "id": "01e4e969",
   "metadata": {
    "execution": {
     "iopub.execute_input": "2022-05-23T00:38:15.765043Z",
     "iopub.status.busy": "2022-05-23T00:38:15.764485Z",
     "iopub.status.idle": "2022-05-23T00:38:15.777367Z",
     "shell.execute_reply": "2022-05-23T00:38:15.776824Z"
    },
    "papermill": {
     "duration": 0.042891,
     "end_time": "2022-05-23T00:38:15.777469",
     "exception": false,
     "start_time": "2022-05-23T00:38:15.734578",
     "status": "completed"
    },
    "tags": []
   },
   "outputs": [
    {
     "data": {
      "text/plain": [
       "((11982, 28, 28), (1984, 28, 28))"
      ]
     },
     "execution_count": 13,
     "metadata": {},
     "output_type": "execute_result"
    }
   ],
   "source": [
    "X_train.shape, X_test.shape"
   ]
  },
  {
   "cell_type": "markdown",
   "id": "5ccf3f85",
   "metadata": {
    "papermill": {
     "duration": 0.027326,
     "end_time": "2022-05-23T00:38:15.832267",
     "exception": false,
     "start_time": "2022-05-23T00:38:15.804941",
     "status": "completed"
    },
    "tags": []
   },
   "source": [
    "We reshape the data to flatten the image pixels into a set of features or co-variates:"
   ]
  },
  {
   "cell_type": "code",
   "execution_count": 14,
   "id": "5286a4a3",
   "metadata": {
    "execution": {
     "iopub.execute_input": "2022-05-23T00:38:15.891192Z",
     "iopub.status.busy": "2022-05-23T00:38:15.890641Z",
     "iopub.status.idle": "2022-05-23T00:38:15.903882Z",
     "shell.execute_reply": "2022-05-23T00:38:15.904329Z"
    },
    "papermill": {
     "duration": 0.044503,
     "end_time": "2022-05-23T00:38:15.904445",
     "exception": false,
     "start_time": "2022-05-23T00:38:15.859942",
     "status": "completed"
    },
    "tags": []
   },
   "outputs": [
    {
     "data": {
      "text/plain": [
       "((11982, 784), (1984, 784))"
      ]
     },
     "execution_count": 14,
     "metadata": {},
     "output_type": "execute_result"
    }
   ],
   "source": [
    "X_train = X_train.reshape(X_train.shape[0], -1)\n",
    "X_test = X_test.reshape(X_test.shape[0], -1)\n",
    "X_train.shape, X_test.shape"
   ]
  },
  {
   "cell_type": "code",
   "execution_count": 15,
   "id": "73c5f88a",
   "metadata": {
    "execution": {
     "iopub.execute_input": "2022-05-23T00:38:15.964141Z",
     "iopub.status.busy": "2022-05-23T00:38:15.963563Z",
     "iopub.status.idle": "2022-05-23T00:38:15.981448Z",
     "shell.execute_reply": "2022-05-23T00:38:15.981876Z"
    },
    "papermill": {
     "duration": 0.049779,
     "end_time": "2022-05-23T00:38:15.981994",
     "exception": false,
     "start_time": "2022-05-23T00:38:15.932215",
     "status": "completed"
    },
    "tags": []
   },
   "outputs": [],
   "source": [
    "#Impoting functions from 'Kudzu'\n",
    "from kudzu.model import Model\n",
    "from kudzu.train import Learner\n",
    "from kudzu.optim import GD\n",
    "from kudzu.data import Data, Sampler,Dataloader\n",
    "\n",
    "from kudzu.callbacks import AccCallback\n",
    "from kudzu.callbacks import ClfCallback\n",
    "\n",
    "from kudzu.loss import MSE\n",
    "\n",
    "from kudzu.layer import Sigmoid,Relu\n",
    "from kudzu.layer import Affine"
   ]
  },
  {
   "cell_type": "markdown",
   "id": "bc01172a",
   "metadata": {
    "papermill": {
     "duration": 0.027591,
     "end_time": "2022-05-23T00:38:16.037386",
     "exception": false,
     "start_time": "2022-05-23T00:38:16.009795",
     "status": "completed"
    },
    "tags": []
   },
   "source": [
    "### Let us create a `Config` class, to store important parameters. \n",
    "This class essentially plays the role of a dictionary."
   ]
  },
  {
   "cell_type": "code",
   "execution_count": 16,
   "id": "978281aa",
   "metadata": {
    "execution": {
     "iopub.execute_input": "2022-05-23T00:38:16.096602Z",
     "iopub.status.busy": "2022-05-23T00:38:16.096032Z",
     "iopub.status.idle": "2022-05-23T00:38:16.107876Z",
     "shell.execute_reply": "2022-05-23T00:38:16.107428Z"
    },
    "papermill": {
     "duration": 0.043002,
     "end_time": "2022-05-23T00:38:16.107974",
     "exception": false,
     "start_time": "2022-05-23T00:38:16.064972",
     "status": "completed"
    },
    "tags": []
   },
   "outputs": [],
   "source": [
    "class Config:\n",
    "    pass\n",
    "config = Config()\n",
    "config.lr = 0.001\n",
    "config.num_epochs = 250\n",
    "config.bs = 50"
   ]
  },
  {
   "cell_type": "markdown",
   "id": "1385fa59",
   "metadata": {
    "papermill": {
     "duration": 0.027921,
     "end_time": "2022-05-23T00:38:16.163759",
     "exception": false,
     "start_time": "2022-05-23T00:38:16.135838",
     "status": "completed"
    },
    "tags": []
   },
   "source": [
    "### Running Models with the Training data\n",
    "Details about the network layers:\n",
    "- A first affine layer has 784 inputs and does 100 affine transforms. These are followed by a Relu\n",
    "- A second affine layer has 100 inputs from the 100 activations of the past layer, and does 100 affine transforms. These are followed by a Relu\n",
    "- A third affine layer has 100 activations and does 2 affine transformations to create an embedding for visualization. There is no non-linearity here.\n",
    "- A final \"logistic regression\" which has an affine transform from 2 inputs to 1 output, which is squeezed through a sigmoid.\n"
   ]
  },
  {
   "cell_type": "code",
   "execution_count": 17,
   "id": "2b9c66db",
   "metadata": {
    "execution": {
     "iopub.execute_input": "2022-05-23T00:38:16.223038Z",
     "iopub.status.busy": "2022-05-23T00:38:16.222474Z",
     "iopub.status.idle": "2022-05-23T00:38:16.234275Z",
     "shell.execute_reply": "2022-05-23T00:38:16.234722Z"
    },
    "papermill": {
     "duration": 0.043282,
     "end_time": "2022-05-23T00:38:16.234834",
     "exception": false,
     "start_time": "2022-05-23T00:38:16.191552",
     "status": "completed"
    },
    "tags": []
   },
   "outputs": [],
   "source": [
    "data = Data(X_train, y_train.reshape(-1,1))\n",
    "sampler = Sampler(data, config.bs, shuffle=True)\n",
    "\n",
    "dl = Dataloader(data, sampler)\n",
    "\n",
    "opt = GD(config.lr)\n",
    "loss = MSE()"
   ]
  },
  {
   "cell_type": "code",
   "execution_count": 18,
   "id": "b275e4c2",
   "metadata": {
    "execution": {
     "iopub.execute_input": "2022-05-23T00:38:16.293923Z",
     "iopub.status.busy": "2022-05-23T00:38:16.293366Z",
     "iopub.status.idle": "2022-05-23T00:38:16.305337Z",
     "shell.execute_reply": "2022-05-23T00:38:16.304889Z"
    },
    "papermill": {
     "duration": 0.042838,
     "end_time": "2022-05-23T00:38:16.305433",
     "exception": false,
     "start_time": "2022-05-23T00:38:16.262595",
     "status": "completed"
    },
    "tags": []
   },
   "outputs": [],
   "source": [
    "training_data_x = X_train\n",
    "testing_data_x = X_test\n",
    "training_data_y = y_train.reshape(-1,1)\n",
    "testing_data_y = y_test.reshape(-1,1)"
   ]
  },
  {
   "cell_type": "code",
   "execution_count": 19,
   "id": "76951160",
   "metadata": {
    "execution": {
     "iopub.execute_input": "2022-05-23T00:38:16.365254Z",
     "iopub.status.busy": "2022-05-23T00:38:16.364691Z",
     "iopub.status.idle": "2022-05-23T00:38:16.381389Z",
     "shell.execute_reply": "2022-05-23T00:38:16.380836Z"
    },
    "papermill": {
     "duration": 0.048226,
     "end_time": "2022-05-23T00:38:16.381492",
     "exception": false,
     "start_time": "2022-05-23T00:38:16.333266",
     "status": "completed"
    },
    "tags": []
   },
   "outputs": [
    {
     "name": "stdout",
     "output_type": "stream",
     "text": [
      "xavier\n",
      "xavier\n",
      "xavier\n",
      "xavier\n",
      "xavier\n"
     ]
    }
   ],
   "source": [
    "layers = [Affine(\"first\", 784, 100), Relu(\"first\"), Affine(\"second\", 100, 100), Relu(\"second\"), Affine(\"third\", 100, 2), Affine(\"last\", 2, 1), Sigmoid(\"last\")]\n",
    "model_nn = Model(layers)\n",
    "model_lr = Model([Affine(\"logits\", 784, 1), Sigmoid(\"sigmoid\")])"
   ]
  },
  {
   "cell_type": "code",
   "execution_count": 20,
   "id": "6eede77a",
   "metadata": {
    "execution": {
     "iopub.execute_input": "2022-05-23T00:38:16.442238Z",
     "iopub.status.busy": "2022-05-23T00:38:16.441104Z",
     "iopub.status.idle": "2022-05-23T00:38:16.453426Z",
     "shell.execute_reply": "2022-05-23T00:38:16.453884Z"
    },
    "papermill": {
     "duration": 0.044362,
     "end_time": "2022-05-23T00:38:16.454001",
     "exception": false,
     "start_time": "2022-05-23T00:38:16.409639",
     "status": "completed"
    },
    "tags": []
   },
   "outputs": [],
   "source": [
    "nn_learner = Learner(loss, model_nn, opt, config.num_epochs)\n",
    "acc_nn = ClfCallback(nn_learner, config.bs, training_data_x , testing_data_x, training_data_y, testing_data_y)\n",
    "nn_learner.set_callbacks([acc_nn])"
   ]
  },
  {
   "cell_type": "code",
   "execution_count": 21,
   "id": "877b6cc7",
   "metadata": {
    "execution": {
     "iopub.execute_input": "2022-05-23T00:38:16.514412Z",
     "iopub.status.busy": "2022-05-23T00:38:16.513856Z",
     "iopub.status.idle": "2022-05-23T00:38:16.525937Z",
     "shell.execute_reply": "2022-05-23T00:38:16.525485Z"
    },
    "papermill": {
     "duration": 0.043436,
     "end_time": "2022-05-23T00:38:16.526036",
     "exception": false,
     "start_time": "2022-05-23T00:38:16.482600",
     "status": "completed"
    },
    "tags": []
   },
   "outputs": [],
   "source": [
    "lr_learner = Learner(loss, model_lr, opt, config.num_epochs)\n",
    "acc_lr = ClfCallback(lr_learner, config.bs, training_data_x , testing_data_x, training_data_y, testing_data_y)\n",
    "lr_learner.set_callbacks([acc_lr])"
   ]
  },
  {
   "cell_type": "code",
   "execution_count": 22,
   "id": "d9b133c3",
   "metadata": {
    "execution": {
     "iopub.execute_input": "2022-05-23T00:38:16.585497Z",
     "iopub.status.busy": "2022-05-23T00:38:16.584944Z",
     "iopub.status.idle": "2022-05-23T00:41:13.271264Z",
     "shell.execute_reply": "2022-05-23T00:41:13.271769Z"
    },
    "papermill": {
     "duration": 176.717817,
     "end_time": "2022-05-23T00:41:13.271899",
     "exception": false,
     "start_time": "2022-05-23T00:38:16.554082",
     "status": "completed"
    },
    "tags": []
   },
   "outputs": [
    {
     "name": "stdout",
     "output_type": "stream",
     "text": [
      "Epoch 0, Loss 0.2485\n",
      "Training Accuracy: 0.5995, Testing Accuracy: 0.5988\n",
      "\n"
     ]
    },
    {
     "name": "stdout",
     "output_type": "stream",
     "text": [
      "Epoch 10, Loss 0.1379\n",
      "Training Accuracy: 0.9064, Testing Accuracy: 0.9183\n",
      "\n"
     ]
    },
    {
     "name": "stdout",
     "output_type": "stream",
     "text": [
      "Epoch 20, Loss 0.0708\n",
      "Training Accuracy: 0.9308, Testing Accuracy: 0.9375\n",
      "\n"
     ]
    },
    {
     "name": "stdout",
     "output_type": "stream",
     "text": [
      "Epoch 30, Loss 0.0517\n",
      "Training Accuracy: 0.9453, Testing Accuracy: 0.9556\n",
      "\n"
     ]
    },
    {
     "name": "stdout",
     "output_type": "stream",
     "text": [
      "Epoch 40, Loss 0.0432\n",
      "Training Accuracy: 0.9518, Testing Accuracy: 0.9642\n",
      "\n"
     ]
    },
    {
     "name": "stdout",
     "output_type": "stream",
     "text": [
      "Epoch 50, Loss 0.0384\n",
      "Training Accuracy: 0.9561, Testing Accuracy: 0.9657\n",
      "\n"
     ]
    },
    {
     "name": "stdout",
     "output_type": "stream",
     "text": [
      "Epoch 60, Loss 0.0352\n",
      "Training Accuracy: 0.9598, Testing Accuracy: 0.9682\n",
      "\n"
     ]
    },
    {
     "name": "stdout",
     "output_type": "stream",
     "text": [
      "Epoch 70, Loss 0.033\n",
      "Training Accuracy: 0.9619, Testing Accuracy: 0.9682\n",
      "\n"
     ]
    },
    {
     "name": "stdout",
     "output_type": "stream",
     "text": [
      "Epoch 80, Loss 0.0313\n",
      "Training Accuracy: 0.9632, Testing Accuracy: 0.9698\n",
      "\n"
     ]
    },
    {
     "name": "stdout",
     "output_type": "stream",
     "text": [
      "Epoch 90, Loss 0.0299\n",
      "Training Accuracy: 0.9649, Testing Accuracy: 0.9703\n",
      "\n"
     ]
    },
    {
     "name": "stdout",
     "output_type": "stream",
     "text": [
      "Epoch 100, Loss 0.0287\n",
      "Training Accuracy: 0.9668, Testing Accuracy: 0.9703\n",
      "\n"
     ]
    },
    {
     "name": "stdout",
     "output_type": "stream",
     "text": [
      "Epoch 110, Loss 0.0278\n",
      "Training Accuracy: 0.9685, Testing Accuracy: 0.9703\n",
      "\n"
     ]
    },
    {
     "name": "stdout",
     "output_type": "stream",
     "text": [
      "Epoch 120, Loss 0.0269\n",
      "Training Accuracy: 0.9692, Testing Accuracy: 0.9718\n",
      "\n"
     ]
    },
    {
     "name": "stdout",
     "output_type": "stream",
     "text": [
      "Epoch 130, Loss 0.0262\n",
      "Training Accuracy: 0.9698, Testing Accuracy: 0.9718\n",
      "\n"
     ]
    },
    {
     "name": "stdout",
     "output_type": "stream",
     "text": [
      "Epoch 140, Loss 0.0255\n",
      "Training Accuracy: 0.9700, Testing Accuracy: 0.9718\n",
      "\n"
     ]
    },
    {
     "name": "stdout",
     "output_type": "stream",
     "text": [
      "Epoch 150, Loss 0.0249\n",
      "Training Accuracy: 0.9712, Testing Accuracy: 0.9713\n",
      "\n"
     ]
    },
    {
     "name": "stdout",
     "output_type": "stream",
     "text": [
      "Epoch 160, Loss 0.0243\n",
      "Training Accuracy: 0.9720, Testing Accuracy: 0.9708\n",
      "\n"
     ]
    },
    {
     "name": "stdout",
     "output_type": "stream",
     "text": [
      "Epoch 170, Loss 0.0238\n",
      "Training Accuracy: 0.9722, Testing Accuracy: 0.9718\n",
      "\n"
     ]
    },
    {
     "name": "stdout",
     "output_type": "stream",
     "text": [
      "Epoch 180, Loss 0.0233\n",
      "Training Accuracy: 0.9730, Testing Accuracy: 0.9713\n",
      "\n"
     ]
    },
    {
     "name": "stdout",
     "output_type": "stream",
     "text": [
      "Epoch 190, Loss 0.0229\n",
      "Training Accuracy: 0.9735, Testing Accuracy: 0.9723\n",
      "\n"
     ]
    },
    {
     "name": "stdout",
     "output_type": "stream",
     "text": [
      "Epoch 200, Loss 0.0225\n",
      "Training Accuracy: 0.9738, Testing Accuracy: 0.9723\n",
      "\n"
     ]
    },
    {
     "name": "stdout",
     "output_type": "stream",
     "text": [
      "Epoch 210, Loss 0.0221\n",
      "Training Accuracy: 0.9743, Testing Accuracy: 0.9728\n",
      "\n"
     ]
    },
    {
     "name": "stdout",
     "output_type": "stream",
     "text": [
      "Epoch 220, Loss 0.0217\n",
      "Training Accuracy: 0.9752, Testing Accuracy: 0.9728\n",
      "\n"
     ]
    },
    {
     "name": "stdout",
     "output_type": "stream",
     "text": [
      "Epoch 230, Loss 0.0213\n",
      "Training Accuracy: 0.9755, Testing Accuracy: 0.9728\n",
      "\n"
     ]
    },
    {
     "name": "stdout",
     "output_type": "stream",
     "text": [
      "Epoch 240, Loss 0.021\n",
      "Training Accuracy: 0.9760, Testing Accuracy: 0.9733\n",
      "\n"
     ]
    },
    {
     "data": {
      "text/plain": [
       "0.004142519411454185"
      ]
     },
     "execution_count": 22,
     "metadata": {},
     "output_type": "execute_result"
    }
   ],
   "source": [
    "nn_learner.train_loop(dl)"
   ]
  },
  {
   "cell_type": "code",
   "execution_count": 23,
   "id": "e0163366",
   "metadata": {
    "execution": {
     "iopub.execute_input": "2022-05-23T00:41:13.350432Z",
     "iopub.status.busy": "2022-05-23T00:41:13.344974Z",
     "iopub.status.idle": "2022-05-23T00:41:25.611618Z",
     "shell.execute_reply": "2022-05-23T00:41:25.612460Z"
    },
    "papermill": {
     "duration": 12.305008,
     "end_time": "2022-05-23T00:41:25.612598",
     "exception": false,
     "start_time": "2022-05-23T00:41:13.307590",
     "status": "completed"
    },
    "tags": []
   },
   "outputs": [
    {
     "name": "stdout",
     "output_type": "stream",
     "text": [
      "Epoch 0, Loss 0.2492\n",
      "Training Accuracy: 0.6566, Testing Accuracy: 0.6386\n",
      "\n"
     ]
    },
    {
     "name": "stdout",
     "output_type": "stream",
     "text": [
      "Epoch 10, Loss 0.104\n",
      "Training Accuracy: 0.9041, Testing Accuracy: 0.9148\n",
      "\n"
     ]
    },
    {
     "name": "stdout",
     "output_type": "stream",
     "text": [
      "Epoch 20, Loss 0.08\n",
      "Training Accuracy: 0.9236, Testing Accuracy: 0.9365\n",
      "\n"
     ]
    },
    {
     "name": "stdout",
     "output_type": "stream",
     "text": [
      "Epoch 30, Loss 0.0689\n",
      "Training Accuracy: 0.9321, Testing Accuracy: 0.9481\n",
      "\n"
     ]
    },
    {
     "name": "stdout",
     "output_type": "stream",
     "text": [
      "Epoch 40, Loss 0.0622\n",
      "Training Accuracy: 0.9376, Testing Accuracy: 0.9551\n",
      "\n"
     ]
    },
    {
     "name": "stdout",
     "output_type": "stream",
     "text": [
      "Epoch 50, Loss 0.0577\n",
      "Training Accuracy: 0.9419, Testing Accuracy: 0.9567\n",
      "\n"
     ]
    },
    {
     "name": "stdout",
     "output_type": "stream",
     "text": [
      "Epoch 60, Loss 0.0543\n",
      "Training Accuracy: 0.9451, Testing Accuracy: 0.9582\n",
      "\n"
     ]
    },
    {
     "name": "stdout",
     "output_type": "stream",
     "text": [
      "Epoch 70, Loss 0.0517\n",
      "Training Accuracy: 0.9478, Testing Accuracy: 0.9597\n",
      "\n"
     ]
    },
    {
     "name": "stdout",
     "output_type": "stream",
     "text": [
      "Epoch 80, Loss 0.0496\n",
      "Training Accuracy: 0.9493, Testing Accuracy: 0.9607\n",
      "\n"
     ]
    },
    {
     "name": "stdout",
     "output_type": "stream",
     "text": [
      "Epoch 90, Loss 0.0479\n",
      "Training Accuracy: 0.9516, Testing Accuracy: 0.9607\n",
      "\n"
     ]
    },
    {
     "name": "stdout",
     "output_type": "stream",
     "text": [
      "Epoch 100, Loss 0.0464\n",
      "Training Accuracy: 0.9528, Testing Accuracy: 0.9607\n",
      "\n"
     ]
    },
    {
     "name": "stdout",
     "output_type": "stream",
     "text": [
      "Epoch 110, Loss 0.0452\n",
      "Training Accuracy: 0.9544, Testing Accuracy: 0.9612\n",
      "\n"
     ]
    },
    {
     "name": "stdout",
     "output_type": "stream",
     "text": [
      "Epoch 120, Loss 0.0441\n",
      "Training Accuracy: 0.9556, Testing Accuracy: 0.9627\n",
      "\n"
     ]
    },
    {
     "name": "stdout",
     "output_type": "stream",
     "text": [
      "Epoch 130, Loss 0.0431\n",
      "Training Accuracy: 0.9568, Testing Accuracy: 0.9632\n",
      "\n"
     ]
    },
    {
     "name": "stdout",
     "output_type": "stream",
     "text": [
      "Epoch 140, Loss 0.0423\n",
      "Training Accuracy: 0.9577, Testing Accuracy: 0.9632\n",
      "\n"
     ]
    },
    {
     "name": "stdout",
     "output_type": "stream",
     "text": [
      "Epoch 150, Loss 0.0415\n",
      "Training Accuracy: 0.9581, Testing Accuracy: 0.9632\n",
      "\n"
     ]
    },
    {
     "name": "stdout",
     "output_type": "stream",
     "text": [
      "Epoch 160, Loss 0.0408\n",
      "Training Accuracy: 0.9588, Testing Accuracy: 0.9637\n",
      "\n"
     ]
    },
    {
     "name": "stdout",
     "output_type": "stream",
     "text": [
      "Epoch 170, Loss 0.0402\n",
      "Training Accuracy: 0.9595, Testing Accuracy: 0.9642\n",
      "\n"
     ]
    },
    {
     "name": "stdout",
     "output_type": "stream",
     "text": [
      "Epoch 180, Loss 0.0396\n",
      "Training Accuracy: 0.9599, Testing Accuracy: 0.9652\n",
      "\n"
     ]
    },
    {
     "name": "stdout",
     "output_type": "stream",
     "text": [
      "Epoch 190, Loss 0.0391\n",
      "Training Accuracy: 0.9600, Testing Accuracy: 0.9657\n",
      "\n"
     ]
    },
    {
     "name": "stdout",
     "output_type": "stream",
     "text": [
      "Epoch 200, Loss 0.0386\n",
      "Training Accuracy: 0.9603, Testing Accuracy: 0.9657\n",
      "\n"
     ]
    },
    {
     "name": "stdout",
     "output_type": "stream",
     "text": [
      "Epoch 210, Loss 0.0382\n",
      "Training Accuracy: 0.9603, Testing Accuracy: 0.9657\n",
      "\n"
     ]
    },
    {
     "name": "stdout",
     "output_type": "stream",
     "text": [
      "Epoch 220, Loss 0.0378\n",
      "Training Accuracy: 0.9607, Testing Accuracy: 0.9662\n",
      "\n"
     ]
    },
    {
     "name": "stdout",
     "output_type": "stream",
     "text": [
      "Epoch 230, Loss 0.0374\n",
      "Training Accuracy: 0.9607, Testing Accuracy: 0.9662\n",
      "\n"
     ]
    },
    {
     "name": "stdout",
     "output_type": "stream",
     "text": [
      "Epoch 240, Loss 0.037\n",
      "Training Accuracy: 0.9607, Testing Accuracy: 0.9657\n",
      "\n"
     ]
    },
    {
     "data": {
      "text/plain": [
       "0.05412369186643558"
      ]
     },
     "execution_count": 23,
     "metadata": {},
     "output_type": "execute_result"
    }
   ],
   "source": [
    "lr_learner.train_loop(dl)"
   ]
  },
  {
   "cell_type": "code",
   "execution_count": 24,
   "id": "ca410940",
   "metadata": {
    "execution": {
     "iopub.execute_input": "2022-05-23T00:41:25.705427Z",
     "iopub.status.busy": "2022-05-23T00:41:25.704842Z",
     "iopub.status.idle": "2022-05-23T00:41:25.942134Z",
     "shell.execute_reply": "2022-05-23T00:41:25.941537Z"
    },
    "papermill": {
     "duration": 0.284181,
     "end_time": "2022-05-23T00:41:25.942243",
     "exception": false,
     "start_time": "2022-05-23T00:41:25.658062",
     "status": "completed"
    },
    "tags": []
   },
   "outputs": [
    {
     "data": {
      "text/plain": [
       "<matplotlib.legend.Legend at 0x7f3fea718550>"
      ]
     },
     "execution_count": 24,
     "metadata": {},
     "output_type": "execute_result"
    },
    {
     "data": {
      "image/png": "[encoded data removed]",
      "text/plain": [
       "<Figure size 1080x720 with 1 Axes>"
      ]
     },
     "metadata": {
      "needs_background": "light"
     },
     "output_type": "display_data"
    }
   ],
   "source": [
    "#comparing the results of NN and LR\n",
    "plt.figure(figsize=(15,10))\n",
    "\n",
    "# Neural Network plots\n",
    "plt.plot(acc_nn.accuracies, 'r-', label = \"Training Accuracies - NN\")\n",
    "plt.plot(acc_nn.test_accuracies, 'g-', label = \"Testing Accuracies - NN\")\n",
    "\n",
    "# Logistic Regression plots\n",
    "plt.plot(acc_lr.accuracies, 'k-', label = \"Training Accuracies - LR\")\n",
    "plt.plot(acc_lr.test_accuracies, 'b-', label = \"Testing Accuracies - LR\")\n",
    "plt.legend()"
   ]
  },
  {
   "cell_type": "markdown",
   "id": "80dfb35c",
   "metadata": {
    "papermill": {
     "duration": 0.043893,
     "end_time": "2022-05-23T00:41:26.030284",
     "exception": false,
     "start_time": "2022-05-23T00:41:25.986391",
     "status": "completed"
    },
    "tags": []
   },
   "source": [
    "#### Plotting the outputs of this layer of the NN.\n"
   ]
  },
  {
   "cell_type": "code",
   "execution_count": 25,
   "id": "45eb2ff5",
   "metadata": {
    "execution": {
     "iopub.execute_input": "2022-05-23T00:41:26.121333Z",
     "iopub.status.busy": "2022-05-23T00:41:26.120773Z",
     "iopub.status.idle": "2022-05-23T00:41:26.155656Z",
     "shell.execute_reply": "2022-05-23T00:41:26.156330Z"
    },
    "papermill": {
     "duration": 0.082562,
     "end_time": "2022-05-23T00:41:26.156452",
     "exception": false,
     "start_time": "2022-05-23T00:41:26.073890",
     "status": "completed"
    },
    "tags": []
   },
   "outputs": [],
   "source": [
    "new_model = Model(layers[:-2])\n",
    "testing_plot = new_model(testing_data_x)"
   ]
  },
  {
   "cell_type": "code",
   "execution_count": 26,
   "id": "4c0a5485",
   "metadata": {
    "execution": {
     "iopub.execute_input": "2022-05-23T00:41:26.249558Z",
     "iopub.status.busy": "2022-05-23T00:41:26.249000Z",
     "iopub.status.idle": "2022-05-23T00:41:26.440700Z",
     "shell.execute_reply": "2022-05-23T00:41:26.441144Z"
    },
    "papermill": {
     "duration": 0.240359,
     "end_time": "2022-05-23T00:41:26.441270",
     "exception": false,
     "start_time": "2022-05-23T00:41:26.200911",
     "status": "completed"
    },
    "tags": []
   },
   "outputs": [
    {
     "data": {
      "text/plain": [
       "Text(0.5, 1.0, 'Outputs')"
      ]
     },
     "execution_count": 26,
     "metadata": {},
     "output_type": "execute_result"
    },
    {
     "data": {
      "image/png": "[encoded data removed]",
      "text/plain": [
       "<Figure size 576x504 with 1 Axes>"
      ]
     },
     "metadata": {
      "needs_background": "light"
     },
     "output_type": "display_data"
    }
   ],
   "source": [
    "# Plotting the scatter plot of points and color coding by class\n",
    "plt.figure(figsize=(8,7))\n",
    "plt.scatter(testing_plot[:,0], testing_plot[:,1], alpha = 0.1, c = y_test.ravel());\n",
    "plt.title('Outputs')"
   ]
  },
  {
   "cell_type": "markdown",
   "id": "a74fcf8f",
   "metadata": {
    "papermill": {
     "duration": 0.046233,
     "end_time": "2022-05-23T00:41:26.553871",
     "exception": false,
     "start_time": "2022-05-23T00:41:26.507638",
     "status": "completed"
    },
    "tags": []
   },
   "source": [
    "Probability contours"
   ]
  },
  {
   "cell_type": "code",
   "execution_count": 27,
   "id": "d0afc8e3",
   "metadata": {
    "execution": {
     "iopub.execute_input": "2022-05-23T00:41:26.649278Z",
     "iopub.status.busy": "2022-05-23T00:41:26.648723Z",
     "iopub.status.idle": "2022-05-23T00:41:26.660252Z",
     "shell.execute_reply": "2022-05-23T00:41:26.660698Z"
    },
    "papermill": {
     "duration": 0.060836,
     "end_time": "2022-05-23T00:41:26.660817",
     "exception": false,
     "start_time": "2022-05-23T00:41:26.599981",
     "status": "completed"
    },
    "tags": []
   },
   "outputs": [],
   "source": [
    "model_prob = Model(layers[-2:]) "
   ]
  },
  {
   "cell_type": "code",
   "execution_count": 28,
   "id": "9b96e238",
   "metadata": {
    "execution": {
     "iopub.execute_input": "2022-05-23T00:41:26.756797Z",
     "iopub.status.busy": "2022-05-23T00:41:26.756238Z",
     "iopub.status.idle": "2022-05-23T00:41:26.769889Z",
     "shell.execute_reply": "2022-05-23T00:41:26.770287Z"
    },
    "papermill": {
     "duration": 0.063988,
     "end_time": "2022-05-23T00:41:26.770406",
     "exception": false,
     "start_time": "2022-05-23T00:41:26.706418",
     "status": "completed"
    },
    "tags": []
   },
   "outputs": [],
   "source": [
    "#creating the x and y ranges according to the above generated plot.\n",
    "x_range = np.linspace(-4, 1, 100) \n",
    "y_range = np.linspace(-6, 6, 100) \n",
    "x_grid, y_grid = np.meshgrid(x_range, y_range) # x_grid and y_grig are of size 100 X 100\n",
    "\n",
    "# converting x_grid and y_grid to continuous arrays\n",
    "x_gridflat = np.ravel(x_grid)\n",
    "y_gridflat = np.ravel(y_grid)\n",
    "\n",
    "# The last layer of the current model takes two columns as input. Hence transpose of np.vstack() is required.\n",
    "X = np.vstack((x_gridflat, y_gridflat)).T\n",
    "\n",
    "prob_contour = model_prob(X).reshape(100,100) "
   ]
  },
  {
   "cell_type": "code",
   "execution_count": 29,
   "id": "da72499a",
   "metadata": {
    "execution": {
     "iopub.execute_input": "2022-05-23T00:41:26.868277Z",
     "iopub.status.busy": "2022-05-23T00:41:26.866905Z",
     "iopub.status.idle": "2022-05-23T00:41:27.114458Z",
     "shell.execute_reply": "2022-05-23T00:41:27.114913Z"
    },
    "papermill": {
     "duration": 0.298586,
     "end_time": "2022-05-23T00:41:27.115038",
     "exception": false,
     "start_time": "2022-05-23T00:41:26.816452",
     "status": "completed"
    },
    "tags": []
   },
   "outputs": [
    {
     "data": {
      "image/png": "[encoded data removed]",
      "text/plain": [
       "<Figure size 720x648 with 1 Axes>"
      ]
     },
     "metadata": {
      "needs_background": "light"
     },
     "output_type": "display_data"
    }
   ],
   "source": [
    "plt.figure(figsize=(10,9))\n",
    "plt.scatter(testing_plot[:,0], testing_plot[:,1], alpha = 0.1, c = y_test.ravel())\n",
    "contours = plt.contour(x_grid,y_grid,prob_contour)\n",
    "plt.title('Probability Contours')\n",
    "plt.clabel(contours, inline = True );"
   ]
  },
  {
   "cell_type": "code",
   "execution_count": null,
   "id": "e81b4ac7",
   "metadata": {
    "papermill": {
     "duration": 0.047884,
     "end_time": "2022-05-23T00:41:27.211440",
     "exception": false,
     "start_time": "2022-05-23T00:41:27.163556",
     "status": "completed"
    },
    "tags": []
   },
   "outputs": [],
   "source": []
  }
 ],
 "metadata": {
  "kernelspec": {
   "display_name": "Python 3",
   "language": "python",
   "name": "python3"
  },
  "language_info": {
   "codemirror_mode": {
    "name": "ipython",
    "version": 3
   },
   "file_extension": ".py",
   "mimetype": "text/x-python",
   "name": "python",
   "nbconvert_exporter": "python",
   "pygments_lexer": "ipython3",
   "version": "3.6.15"
  },
  "papermill": {
   "default_parameters": {},
   "duration": 197.397389,
   "end_time": "2022-05-23T00:41:27.577436",
   "environment_variables": {},
   "exception": null,
   "input_path": "2020-08-11-part2.ipynb",
   "output_path": "2020-08-11-part2.ipynb",
   "parameters": {},
   "start_time": "2022-05-23T00:38:10.180047",
   "version": "2.3.3"
  }
 },
 "nbformat": 4,
 "nbformat_minor": 5
}